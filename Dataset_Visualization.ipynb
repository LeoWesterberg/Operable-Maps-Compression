{
 "cells": [
  {
   "attachments": {},
   "cell_type": "markdown",
   "metadata": {},
   "source": [
    "## Dataset Tools - OSM to GeoJSON + Visualizer\n",
    "This notebook is used to convert OSM data to GeoJSON. Only the geometry related data along with type of the geometries is preserved.\n",
    "\n",
    "Unnecessary/unrelated data in the OSM set is removed during conversion. The notebook also contains interactive visualization of the data."
   ]
  },
  {
   "cell_type": "code",
   "execution_count": 4,
   "metadata": {},
   "outputs": [],
   "source": [
    "#%pip install osmnx\n",
    "#%pip install folium\n",
    "#%pip install tqdm\n",
    "#%pip install jsonlines\n",
    "import jsonlines\n",
    "import glob\n",
    "import osmnx as ox\n",
    "import matplotlib.pyplot as plt\n",
    "import pandas as pd\n",
    "import geopandas as gpd\n",
    "import folium\n",
    "import tqdm\n",
    "import shapely\n",
    "import random\n",
    "import os\n",
    "from shapely.wkt import loads\n",
    "import re\n",
    "import seaborn as sns"
   ]
  },
  {
   "attachments": {},
   "cell_type": "markdown",
   "metadata": {},
   "source": [
    "Documentation for osmnx (used for downloading the data): https://osmnx.readthedocs.io/en/stable/osmnx.html#module-osmnx.geometries \n",
    "\n",
    "OSM data model explained (nodes, ways, relations): https://labs.mapbox.com/mapping/osm-data-model/\n",
    "\n",
    "Plotting polygons with Folium: https://geopandas.org/en/stable/gallery/polygon_plotting_with_folium.html \n",
    "\n",
    "List of possible tags: https://wiki.openstreetmap.org/wiki/Map_features\n",
    "\n",
    "#### Downloads geometry data from OSM and stores in variable.\n",
    "Specify a coordinate and radius, and the program will do the rest."
   ]
  },
  {
   "cell_type": "code",
   "execution_count": 5,
   "metadata": {},
   "outputs": [
    {
     "name": "stderr",
     "output_type": "stream",
     "text": [
      "  0%|          | 0/18 [00:00<?, ?it/s]"
     ]
    },
    {
     "name": "stdout",
     "output_type": "stream",
     "text": [
      "1 : data/sweden-latest-free/gis_osm_landuse_a_free_1.shp\n",
      "1 contains 1059602 geometries\n"
     ]
    },
    {
     "name": "stderr",
     "output_type": "stream",
     "text": [
      "  6%|▌         | 1/18 [04:32<1:17:16, 272.75s/it]"
     ]
    },
    {
     "name": "stdout",
     "output_type": "stream",
     "text": [
      "2 : data/sweden-latest-free/gis_osm_natural_free_1.shp\n",
      "2 contains 219639 geometries\n"
     ]
    },
    {
     "name": "stderr",
     "output_type": "stream",
     "text": [
      " 11%|█         | 2/18 [05:36<39:59, 149.96s/it]  "
     ]
    },
    {
     "name": "stdout",
     "output_type": "stream",
     "text": [
      "3 : data/sweden-latest-free/gis_osm_buildings_a_free_1.shp\n"
     ]
    },
    {
     "name": "stderr",
     "output_type": "stream",
     "text": [
      " 11%|█         | 2/18 [13:18<1:46:27, 399.23s/it]\n"
     ]
    },
    {
     "ename": "KeyboardInterrupt",
     "evalue": "",
     "output_type": "error",
     "traceback": [
      "\u001b[0;31m---------------------------------------------------------------------------\u001b[0m",
      "\u001b[0;31mKeyboardInterrupt\u001b[0m                         Traceback (most recent call last)",
      "\u001b[0;32m/var/folders/ds/y4dj2v9s35v24dtls2t60q7m0000gn/T/ipykernel_33492/3432493550.py\u001b[0m in \u001b[0;36m<module>\u001b[0;34m\u001b[0m\n\u001b[1;32m     33\u001b[0m             \u001b[0mf\u001b[0m \u001b[0;34m=\u001b[0m \u001b[0mfiles\u001b[0m\u001b[0;34m[\u001b[0m\u001b[0mi\u001b[0m\u001b[0;34m]\u001b[0m\u001b[0;34m\u001b[0m\u001b[0;34m\u001b[0m\u001b[0m\n\u001b[1;32m     34\u001b[0m             \u001b[0mprint\u001b[0m\u001b[0;34m(\u001b[0m\u001b[0mi\u001b[0m \u001b[0;34m+\u001b[0m \u001b[0;36m1\u001b[0m\u001b[0;34m,\u001b[0m \u001b[0;34m':'\u001b[0m\u001b[0;34m,\u001b[0m \u001b[0mf\u001b[0m\u001b[0;34m)\u001b[0m\u001b[0;34m\u001b[0m\u001b[0;34m\u001b[0m\u001b[0m\n\u001b[0;32m---> 35\u001b[0;31m             \u001b[0mto_append\u001b[0m \u001b[0;34m=\u001b[0m \u001b[0mgpd\u001b[0m\u001b[0;34m.\u001b[0m\u001b[0mread_file\u001b[0m\u001b[0;34m(\u001b[0m\u001b[0mf\u001b[0m\u001b[0;34m)\u001b[0m\u001b[0;34m\u001b[0m\u001b[0;34m\u001b[0m\u001b[0m\n\u001b[0m\u001b[1;32m     36\u001b[0m             \u001b[0mprint\u001b[0m\u001b[0;34m(\u001b[0m\u001b[0mi\u001b[0m \u001b[0;34m+\u001b[0m \u001b[0;36m1\u001b[0m\u001b[0;34m,\u001b[0m \u001b[0;34m'contains'\u001b[0m\u001b[0;34m,\u001b[0m \u001b[0mlen\u001b[0m\u001b[0;34m(\u001b[0m\u001b[0mto_append\u001b[0m\u001b[0;34m)\u001b[0m\u001b[0;34m,\u001b[0m \u001b[0;34m'geometries'\u001b[0m\u001b[0;34m)\u001b[0m\u001b[0;34m\u001b[0m\u001b[0;34m\u001b[0m\u001b[0m\n\u001b[1;32m     37\u001b[0m             \u001b[0mdf\u001b[0m \u001b[0;34m=\u001b[0m \u001b[0mgpd\u001b[0m\u001b[0;34m.\u001b[0m\u001b[0mpd\u001b[0m\u001b[0;34m.\u001b[0m\u001b[0mconcat\u001b[0m\u001b[0;34m(\u001b[0m\u001b[0;34m[\u001b[0m\u001b[0mdf\u001b[0m\u001b[0;34m,\u001b[0m \u001b[0mto_append\u001b[0m\u001b[0;34m]\u001b[0m\u001b[0;34m,\u001b[0m \u001b[0mcopy\u001b[0m\u001b[0;34m=\u001b[0m\u001b[0;32mFalse\u001b[0m\u001b[0;34m)\u001b[0m\u001b[0;34m\u001b[0m\u001b[0;34m\u001b[0m\u001b[0m\n",
      "\u001b[0;32m/opt/anaconda3/lib/python3.9/site-packages/geopandas/io/file.py\u001b[0m in \u001b[0;36m_read_file\u001b[0;34m(filename, bbox, mask, rows, engine, **kwargs)\u001b[0m\n\u001b[1;32m    257\u001b[0m \u001b[0;34m\u001b[0m\u001b[0m\n\u001b[1;32m    258\u001b[0m     \u001b[0;32mif\u001b[0m \u001b[0mengine\u001b[0m \u001b[0;34m==\u001b[0m \u001b[0;34m\"fiona\"\u001b[0m\u001b[0;34m:\u001b[0m\u001b[0;34m\u001b[0m\u001b[0;34m\u001b[0m\u001b[0m\n\u001b[0;32m--> 259\u001b[0;31m         return _read_file_fiona(\n\u001b[0m\u001b[1;32m    260\u001b[0m             \u001b[0mpath_or_bytes\u001b[0m\u001b[0;34m,\u001b[0m \u001b[0mfrom_bytes\u001b[0m\u001b[0;34m,\u001b[0m \u001b[0mbbox\u001b[0m\u001b[0;34m=\u001b[0m\u001b[0mbbox\u001b[0m\u001b[0;34m,\u001b[0m \u001b[0mmask\u001b[0m\u001b[0;34m=\u001b[0m\u001b[0mmask\u001b[0m\u001b[0;34m,\u001b[0m \u001b[0mrows\u001b[0m\u001b[0;34m=\u001b[0m\u001b[0mrows\u001b[0m\u001b[0;34m,\u001b[0m \u001b[0;34m**\u001b[0m\u001b[0mkwargs\u001b[0m\u001b[0;34m\u001b[0m\u001b[0;34m\u001b[0m\u001b[0m\n\u001b[1;32m    261\u001b[0m         )\n",
      "\u001b[0;32m/opt/anaconda3/lib/python3.9/site-packages/geopandas/io/file.py\u001b[0m in \u001b[0;36m_read_file_fiona\u001b[0;34m(path_or_bytes, from_bytes, bbox, mask, rows, where, **kwargs)\u001b[0m\n\u001b[1;32m    358\u001b[0m                 )\n\u001b[1;32m    359\u001b[0m             \u001b[0;32melse\u001b[0m\u001b[0;34m:\u001b[0m\u001b[0;34m\u001b[0m\u001b[0;34m\u001b[0m\u001b[0m\n\u001b[0;32m--> 360\u001b[0;31m                 df = GeoDataFrame.from_features(\n\u001b[0m\u001b[1;32m    361\u001b[0m                     \u001b[0mf_filt\u001b[0m\u001b[0;34m,\u001b[0m \u001b[0mcrs\u001b[0m\u001b[0;34m=\u001b[0m\u001b[0mcrs\u001b[0m\u001b[0;34m,\u001b[0m \u001b[0mcolumns\u001b[0m\u001b[0;34m=\u001b[0m\u001b[0mcolumns\u001b[0m \u001b[0;34m+\u001b[0m \u001b[0;34m[\u001b[0m\u001b[0;34m\"geometry\"\u001b[0m\u001b[0;34m]\u001b[0m\u001b[0;34m\u001b[0m\u001b[0;34m\u001b[0m\u001b[0m\n\u001b[1;32m    362\u001b[0m                 )\n",
      "\u001b[0;32m/opt/anaconda3/lib/python3.9/site-packages/geopandas/geodataframe.py\u001b[0m in \u001b[0;36mfrom_features\u001b[0;34m(cls, features, crs, columns)\u001b[0m\n\u001b[1;32m    633\u001b[0m                 \u001b[0mfeature\u001b[0m \u001b[0;34m=\u001b[0m \u001b[0mfeature\u001b[0m\u001b[0;34m.\u001b[0m\u001b[0m__geo_interface__\u001b[0m\u001b[0;34m\u001b[0m\u001b[0;34m\u001b[0m\u001b[0m\n\u001b[1;32m    634\u001b[0m             row = {\n\u001b[0;32m--> 635\u001b[0;31m                 \u001b[0;34m\"geometry\"\u001b[0m\u001b[0;34m:\u001b[0m \u001b[0mshape\u001b[0m\u001b[0;34m(\u001b[0m\u001b[0mfeature\u001b[0m\u001b[0;34m[\u001b[0m\u001b[0;34m\"geometry\"\u001b[0m\u001b[0;34m]\u001b[0m\u001b[0;34m)\u001b[0m \u001b[0;32mif\u001b[0m \u001b[0mfeature\u001b[0m\u001b[0;34m[\u001b[0m\u001b[0;34m\"geometry\"\u001b[0m\u001b[0;34m]\u001b[0m \u001b[0;32melse\u001b[0m \u001b[0;32mNone\u001b[0m\u001b[0;34m\u001b[0m\u001b[0;34m\u001b[0m\u001b[0m\n\u001b[0m\u001b[1;32m    636\u001b[0m             }\n\u001b[1;32m    637\u001b[0m             \u001b[0;31m# load properties\u001b[0m\u001b[0;34m\u001b[0m\u001b[0;34m\u001b[0m\u001b[0m\n",
      "\u001b[0;32m/opt/anaconda3/lib/python3.9/site-packages/shapely/geometry/geo.py\u001b[0m in \u001b[0;36mshape\u001b[0;34m(context)\u001b[0m\n\u001b[1;32m    100\u001b[0m         \u001b[0;32mreturn\u001b[0m \u001b[0mLinearRing\u001b[0m\u001b[0;34m(\u001b[0m\u001b[0mob\u001b[0m\u001b[0;34m[\u001b[0m\u001b[0;34m\"coordinates\"\u001b[0m\u001b[0;34m]\u001b[0m\u001b[0;34m)\u001b[0m\u001b[0;34m\u001b[0m\u001b[0;34m\u001b[0m\u001b[0m\n\u001b[1;32m    101\u001b[0m     \u001b[0;32melif\u001b[0m \u001b[0mgeom_type\u001b[0m \u001b[0;34m==\u001b[0m \u001b[0;34m\"polygon\"\u001b[0m\u001b[0;34m:\u001b[0m\u001b[0;34m\u001b[0m\u001b[0;34m\u001b[0m\u001b[0m\n\u001b[0;32m--> 102\u001b[0;31m         \u001b[0;32mreturn\u001b[0m \u001b[0mPolygon\u001b[0m\u001b[0;34m(\u001b[0m\u001b[0mob\u001b[0m\u001b[0;34m[\u001b[0m\u001b[0;34m\"coordinates\"\u001b[0m\u001b[0;34m]\u001b[0m\u001b[0;34m[\u001b[0m\u001b[0;36m0\u001b[0m\u001b[0;34m]\u001b[0m\u001b[0;34m,\u001b[0m \u001b[0mob\u001b[0m\u001b[0;34m[\u001b[0m\u001b[0;34m\"coordinates\"\u001b[0m\u001b[0;34m]\u001b[0m\u001b[0;34m[\u001b[0m\u001b[0;36m1\u001b[0m\u001b[0;34m:\u001b[0m\u001b[0;34m]\u001b[0m\u001b[0;34m)\u001b[0m\u001b[0;34m\u001b[0m\u001b[0;34m\u001b[0m\u001b[0m\n\u001b[0m\u001b[1;32m    103\u001b[0m     \u001b[0;32melif\u001b[0m \u001b[0mgeom_type\u001b[0m \u001b[0;34m==\u001b[0m \u001b[0;34m\"multipoint\"\u001b[0m\u001b[0;34m:\u001b[0m\u001b[0;34m\u001b[0m\u001b[0;34m\u001b[0m\u001b[0m\n\u001b[1;32m    104\u001b[0m         \u001b[0;32mreturn\u001b[0m \u001b[0mMultiPoint\u001b[0m\u001b[0;34m(\u001b[0m\u001b[0mob\u001b[0m\u001b[0;34m[\u001b[0m\u001b[0;34m\"coordinates\"\u001b[0m\u001b[0;34m]\u001b[0m\u001b[0;34m)\u001b[0m\u001b[0;34m\u001b[0m\u001b[0;34m\u001b[0m\u001b[0m\n",
      "\u001b[0;32m/opt/anaconda3/lib/python3.9/site-packages/shapely/geometry/polygon.py\u001b[0m in \u001b[0;36m__new__\u001b[0;34m(self, shell, holes)\u001b[0m\n\u001b[1;32m    228\u001b[0m             \u001b[0;32mreturn\u001b[0m \u001b[0mshell\u001b[0m\u001b[0;34m\u001b[0m\u001b[0;34m\u001b[0m\u001b[0m\n\u001b[1;32m    229\u001b[0m         \u001b[0;32melse\u001b[0m\u001b[0;34m:\u001b[0m\u001b[0;34m\u001b[0m\u001b[0;34m\u001b[0m\u001b[0m\n\u001b[0;32m--> 230\u001b[0;31m             \u001b[0mshell\u001b[0m \u001b[0;34m=\u001b[0m \u001b[0mLinearRing\u001b[0m\u001b[0;34m(\u001b[0m\u001b[0mshell\u001b[0m\u001b[0;34m)\u001b[0m\u001b[0;34m\u001b[0m\u001b[0;34m\u001b[0m\u001b[0m\n\u001b[0m\u001b[1;32m    231\u001b[0m \u001b[0;34m\u001b[0m\u001b[0m\n\u001b[1;32m    232\u001b[0m         \u001b[0;32mif\u001b[0m \u001b[0mholes\u001b[0m \u001b[0;32mis\u001b[0m \u001b[0;32mnot\u001b[0m \u001b[0;32mNone\u001b[0m\u001b[0;34m:\u001b[0m\u001b[0;34m\u001b[0m\u001b[0;34m\u001b[0m\u001b[0m\n",
      "\u001b[0;32m/opt/anaconda3/lib/python3.9/site-packages/shapely/geometry/polygon.py\u001b[0m in \u001b[0;36m__new__\u001b[0;34m(self, coordinates)\u001b[0m\n\u001b[1;32m     92\u001b[0m \u001b[0;34m\u001b[0m\u001b[0m\n\u001b[1;32m     93\u001b[0m                 \u001b[0mcoordinates\u001b[0m \u001b[0;34m=\u001b[0m \u001b[0mnp\u001b[0m\u001b[0;34m.\u001b[0m\u001b[0marray\u001b[0m\u001b[0;34m(\u001b[0m\u001b[0;34m[\u001b[0m\u001b[0m_coords\u001b[0m\u001b[0;34m(\u001b[0m\u001b[0mo\u001b[0m\u001b[0;34m)\u001b[0m \u001b[0;32mfor\u001b[0m \u001b[0mo\u001b[0m \u001b[0;32min\u001b[0m \u001b[0mcoordinates\u001b[0m\u001b[0;34m]\u001b[0m\u001b[0;34m)\u001b[0m\u001b[0;34m\u001b[0m\u001b[0;34m\u001b[0m\u001b[0m\n\u001b[0;32m---> 94\u001b[0;31m                 \u001b[0;32mif\u001b[0m \u001b[0;32mnot\u001b[0m \u001b[0mnp\u001b[0m\u001b[0;34m.\u001b[0m\u001b[0missubdtype\u001b[0m\u001b[0;34m(\u001b[0m\u001b[0mcoordinates\u001b[0m\u001b[0;34m.\u001b[0m\u001b[0mdtype\u001b[0m\u001b[0;34m,\u001b[0m \u001b[0mnp\u001b[0m\u001b[0;34m.\u001b[0m\u001b[0mnumber\u001b[0m\u001b[0;34m)\u001b[0m\u001b[0;34m:\u001b[0m\u001b[0;34m\u001b[0m\u001b[0;34m\u001b[0m\u001b[0m\n\u001b[0m\u001b[1;32m     95\u001b[0m                     \u001b[0;31m# conversion of coords to 2D array failed, this might be due\u001b[0m\u001b[0;34m\u001b[0m\u001b[0;34m\u001b[0m\u001b[0m\n\u001b[1;32m     96\u001b[0m                     \u001b[0;31m# to inconsistent coordinate dimensionality\u001b[0m\u001b[0;34m\u001b[0m\u001b[0;34m\u001b[0m\u001b[0m\n",
      "\u001b[0;32m/opt/anaconda3/lib/python3.9/site-packages/numpy/core/numerictypes.py\u001b[0m in \u001b[0;36missubdtype\u001b[0;34m(arg1, arg2)\u001b[0m\n\u001b[1;32m    413\u001b[0m \u001b[0;34m\u001b[0m\u001b[0m\n\u001b[1;32m    414\u001b[0m     \"\"\"\n\u001b[0;32m--> 415\u001b[0;31m     \u001b[0;32mif\u001b[0m \u001b[0;32mnot\u001b[0m \u001b[0missubclass_\u001b[0m\u001b[0;34m(\u001b[0m\u001b[0marg1\u001b[0m\u001b[0;34m,\u001b[0m \u001b[0mgeneric\u001b[0m\u001b[0;34m)\u001b[0m\u001b[0;34m:\u001b[0m\u001b[0;34m\u001b[0m\u001b[0;34m\u001b[0m\u001b[0m\n\u001b[0m\u001b[1;32m    416\u001b[0m         \u001b[0marg1\u001b[0m \u001b[0;34m=\u001b[0m \u001b[0mdtype\u001b[0m\u001b[0;34m(\u001b[0m\u001b[0marg1\u001b[0m\u001b[0;34m)\u001b[0m\u001b[0;34m.\u001b[0m\u001b[0mtype\u001b[0m\u001b[0;34m\u001b[0m\u001b[0;34m\u001b[0m\u001b[0m\n\u001b[1;32m    417\u001b[0m     \u001b[0;32mif\u001b[0m \u001b[0;32mnot\u001b[0m \u001b[0missubclass_\u001b[0m\u001b[0;34m(\u001b[0m\u001b[0marg2\u001b[0m\u001b[0;34m,\u001b[0m \u001b[0mgeneric\u001b[0m\u001b[0;34m)\u001b[0m\u001b[0;34m:\u001b[0m\u001b[0;34m\u001b[0m\u001b[0;34m\u001b[0m\u001b[0m\n",
      "\u001b[0;31mKeyboardInterrupt\u001b[0m: "
     ]
    }
   ],
   "source": [
    "RADIUS, GEOCODE, LOCAL = 0,1,2\n",
    "tags = []\n",
    "\n",
    "TYPE = LOCAL\n",
    "origin = (55.70293, 13.19914) # coordinates for origin, now Lund\n",
    "dist = 2 * 10000 # distance in m (mil left part)\n",
    "zoom_start = 14\n",
    "\n",
    "if TYPE == RADIUS:\n",
    "    tags = ['building', 'highway'] # Specify the types to get, see above link for possible tags\n",
    "    dist = 2000\n",
    "    #tags = ['boundary']\n",
    "    df = ox.geometries.geometries_from_point(origin, {x: True for x in tags}, dist=dist)\n",
    "    #tags = {'boundary': ['place']}\n",
    "    #df = ox.geometries.geometries_from_point(origin, tags, dist=dist)\n",
    "\n",
    "elif TYPE == GEOCODE:\n",
    "    df = ox.geocode_to_gdf('USA')\n",
    "\n",
    "elif TYPE == LOCAL:\n",
    "    zoom_start = 3\n",
    "    SINGLE_SHP_FILE = False\n",
    "    if SINGLE_SHP_FILE:\n",
    "        df = gpd.read_file('data/ne_10m_admin_1_states_provinces.shp')\n",
    "        #df = gpd.read_file('data/sweden-latest-free/gis_osm_buildings_a_free_1.shp')\n",
    "        #df = gpd.read_file('data/sweden-latest-free/gis_osm_roads_free_1.shp')\n",
    "        #print(df)\n",
    "    else:\n",
    "        df = gpd.GeoDataFrame()\n",
    "        shp_base_loc = 'data/sweden-latest-free'\n",
    "        files = glob.glob(shp_base_loc + '/*.shp')\n",
    "        for i in tqdm.tqdm(range(len(files))):\n",
    "            f = files[i]\n",
    "            print(i + 1, ':', f)\n",
    "            to_append = gpd.read_file(f)\n",
    "            print(i + 1, 'contains', len(to_append), 'geometries')\n",
    "            df = gpd.pd.concat([df, to_append], copy=False)\n",
    "\n",
    "# Filter to only keep polygons, i.e. skip ex. LineString, Point\n",
    "#df = df[df.type == \"Polygon\"]\n",
    "\n",
    "# Remove Points, i.e. keep only geometries\n",
    "df = df[df.type != \"Point\"]\n",
    "print(\"Count of entries:\", len(df))"
   ]
  },
  {
   "cell_type": "code",
   "execution_count": null,
   "metadata": {},
   "outputs": [],
   "source": [
    "# Preview filtered data\n",
    "# df.geometry.plot(figsize=(6, 6))\n",
    "# plt.axis('off')\n",
    "# plt.show()"
   ]
  },
  {
   "cell_type": "code",
   "execution_count": null,
   "metadata": {},
   "outputs": [
    {
     "data": {
      "text/plain": [
       "<Geographic 2D CRS: EPSG:4326>\n",
       "Name: WGS 84\n",
       "Axis Info [ellipsoidal]:\n",
       "- Lat[north]: Geodetic latitude (degree)\n",
       "- Lon[east]: Geodetic longitude (degree)\n",
       "Area of Use:\n",
       "- name: World.\n",
       "- bounds: (-180.0, -90.0, 180.0, 90.0)\n",
       "Datum: World Geodetic System 1984 ensemble\n",
       "- Ellipsoid: WGS 84\n",
       "- Prime Meridian: Greenwich"
      ]
     },
     "execution_count": 26,
     "metadata": {},
     "output_type": "execute_result"
    }
   ],
   "source": [
    "# Folium wants coordinate system: EPSG:4326. OK!\n",
    "df.crs"
   ]
  },
  {
   "attachments": {},
   "cell_type": "markdown",
   "metadata": {},
   "source": [
    "#### Export to GeoJSON\n",
    "Below, the tag (type) of each polygon is found, irrelevant data is removed, and the final data-frame is serialized and saved as GeoJSON.\n",
    "\n",
    "The export location is \"data/latest_export.json\"."
   ]
  },
  {
   "cell_type": "code",
   "execution_count": null,
   "metadata": {},
   "outputs": [
    {
     "name": "stderr",
     "output_type": "stream",
     "text": [
      "100%|██████████| 6381298/6381298 [16:08<00:00, 6590.56it/s] \n"
     ]
    }
   ],
   "source": [
    "# Construct type column\n",
    "df_stripped = []\n",
    "for i in tqdm.tqdm(range(len(df))):\n",
    "    r = df.iloc[i]\n",
    "    found_tag = None\n",
    "    for tag in tags:\n",
    "        if str(r[tag]) != 'nan':\n",
    "            #if found_tag != None: raise Exception(\"Ambiguity found!\")\n",
    "            found_tag = tag\n",
    "    df_stripped.append({'type': found_tag, 'geometry': r.geometry})\n",
    "\n",
    "df_stripped = gpd.GeoDataFrame(df_stripped)\n",
    "\n",
    "ONE_FILE = True\n",
    "SAVE = False\n",
    "MAX_ENTRIES_FILE = 1000000000000\n",
    "NUM_DECIMALS = -1 # -1 for no change\n",
    "\n",
    "if NUM_DECIMALS != -1:\n",
    "    simple_dec = re.compile(r\"\\d*\\.\\d+\")\n",
    "    def m_round(match):\n",
    "        return (\"{:.\" + str(NUM_DECIMALS) + \"f}\").format(float(match.group()))\n",
    "    df_stripped.geometry = df_stripped.geometry.apply(lambda x: loads(re.sub(simple_dec, m_round, x.wkt)))\n",
    "\n",
    "if SAVE:\n",
    "    if ONE_FILE:\n",
    "        # Avoid to large files -> sample data\n",
    "        if len(df_stripped) > MAX_ENTRIES_FILE:\n",
    "            keep_idxs = [random.randint(0, len(df_stripped) - 1) for i in range(MAX_ENTRIES_FILE)]\n",
    "            df_stripped = df_stripped.loc[keep_idxs]\n",
    "        df_stripped.to_file(filename='data/latest_export.json', driver='GeoJSON')\n",
    "    else:\n",
    "        OUT_FOLDER = 'data/latest_export'\n",
    "        if not os.path.exists(OUT_FOLDER):\n",
    "            os.makedirs(OUT_FOLDER)\n",
    "        for f in glob.glob(OUT_FOLDER + '/*'):\n",
    "            os.remove(f)\n",
    "        for i in tqdm.tqdm(range(len(df_stripped))):\n",
    "            r = df_stripped.iloc[i]\n",
    "            geo = gpd.GeoSeries(r['geometry']) # Parse Geometry for row to generate JSON\n",
    "            geo = gpd.GeoDataFrame({'type': r['type'], 'geometry': geo}) # Type is needed for coloring\n",
    "            geo_json = geo.to_json() #[43:-2] # Remove FeatureCollection part\n",
    "            # Write to disk\n",
    "            f = open(f\"{OUT_FOLDER}/{i}.json\", \"w\")\n",
    "            f.write(geo_json)\n",
    "            f.close()"
   ]
  },
  {
   "attachments": {},
   "cell_type": "markdown",
   "metadata": {},
   "source": [
    "#### Visualizer\n",
    "Below, an interactive map of the polygons is generated. The different types are represented by different fill colors.\n",
    "\n",
    "By setting SHOW_TILES to True, the OSM is rendered in the background. Setting it to False allows for a more obvious visualization of the polygons."
   ]
  },
  {
   "cell_type": "code",
   "execution_count": null,
   "metadata": {},
   "outputs": [],
   "source": [
    "DO_VISUALIZATION = False\n",
    "SHOW_TILES = False\n",
    "\n",
    "if DO_VISUALIZATION:\n",
    "    colors = ['red', 'blue', 'green', 'purple', 'orange', 'darkred', 'lightred', 'beige', 'darkblue', 'darkgreen', 'cadetblue', 'darkpurple', 'white', 'pink', 'lightblue', 'lightgreen', 'gray', 'black', 'lightgray']\n",
    "    tag_colors = {x: colors[idx % len(colors)] for idx, x in enumerate(tags)}\n",
    "\n",
    "    map = folium.Map(location=[origin[0], origin[1]], zoom_start=zoom_start, tiles='CartoDB positron' if SHOW_TILES else None)\n",
    "\n",
    "    for _, r in df_stripped.iterrows():\n",
    "        geo = gpd.GeoSeries(r['geometry']) # Parse Geometry for row to generate JSON\n",
    "        geo = gpd.GeoDataFrame({'type': r['type'], 'geometry': geo}) # Type is needed for coloring\n",
    "        geo_json = geo.to_json()\n",
    "        geo_json = folium.GeoJson(data=geo_json,\n",
    "                            style_function=lambda x: {\n",
    "                                    'weight': '1',\n",
    "                                    'fillOpacity': '0.7',\n",
    "                                    'fillColor': tag_colors[x['properties']['type']] if x['properties']['type'] != None else 'cyan'\n",
    "                                })\n",
    "        geo_json.add_to(map)\n",
    "if DO_VISUALIZATION:\n",
    "    display(map)"
   ]
  },
  {
   "attachments": {},
   "cell_type": "markdown",
   "metadata": {},
   "source": [
    "#### Statistics of dataset"
   ]
  },
  {
   "cell_type": "code",
   "execution_count": null,
   "metadata": {},
   "outputs": [
    {
     "ename": "NameError",
     "evalue": "name 'df_stripped' is not defined",
     "output_type": "error",
     "traceback": [
      "\u001b[0;31m---------------------------------------------------------------------------\u001b[0m",
      "\u001b[0;31mNameError\u001b[0m                                 Traceback (most recent call last)",
      "\u001b[0;32m/var/folders/ds/y4dj2v9s35v24dtls2t60q7m0000gn/T/ipykernel_33492/2341070394.py\u001b[0m in \u001b[0;36m<module>\u001b[0;34m\u001b[0m\n\u001b[1;32m      3\u001b[0m \u001b[0mINCL_INTERSECTION_DATA\u001b[0m \u001b[0;34m=\u001b[0m \u001b[0;32mFalse\u001b[0m\u001b[0;34m\u001b[0m\u001b[0;34m\u001b[0m\u001b[0m\n\u001b[1;32m      4\u001b[0m \u001b[0;34m\u001b[0m\u001b[0m\n\u001b[0;32m----> 5\u001b[0;31m \u001b[0mop_df\u001b[0m \u001b[0;34m=\u001b[0m \u001b[0mdf_stripped\u001b[0m\u001b[0;34m.\u001b[0m\u001b[0mcopy\u001b[0m\u001b[0;34m(\u001b[0m\u001b[0;34m)\u001b[0m\u001b[0;34m\u001b[0m\u001b[0;34m\u001b[0m\u001b[0m\n\u001b[0m\u001b[1;32m      6\u001b[0m \u001b[0;31m#display(op_df)\u001b[0m\u001b[0;34m\u001b[0m\u001b[0;34m\u001b[0m\u001b[0m\n",
      "\u001b[0;31mNameError\u001b[0m: name 'df_stripped' is not defined"
     ]
    }
   ],
   "source": [
    "IMPORT_INTERSECTION_DATA = False\n",
    "EXPORT_INTERSECTION_DATA = False\n",
    "INCL_INTERSECTION_DATA = False\n",
    "\n",
    "op_df = df_stripped.copy()\n",
    "#display(op_df)"
   ]
  },
  {
   "cell_type": "code",
   "execution_count": null,
   "metadata": {},
   "outputs": [],
   "source": [
    "def nbr_verticies(geometry):\n",
    "    return  shapely.count_coordinates(geometry)\n",
    "\n",
    "def geo_length(geometry):\n",
    "    return  shapely.length(geometry)\n",
    "\n",
    "def geo_area(geometry):\n",
    " return shapely.area(geometry)\n",
    "\n",
    "def geo_type(geometry):\n",
    "    return geometry.geom_type\n",
    "\n",
    "def count_intersections(geometry):\n",
    "    geo1_total = 0\n",
    "    for geo2 in df_stripped['geometry']:\n",
    "        if not shapely.equals_exact(geometry, geo2):\n",
    "            if shapely.intersects(geometry, geo2):\n",
    "                geo1_total += 1\n",
    "    return geo1_total"
   ]
  },
  {
   "cell_type": "code",
   "execution_count": null,
   "metadata": {},
   "outputs": [
    {
     "ename": "NameError",
     "evalue": "name 'IMPORT_INTERSECTION_DATA' is not defined",
     "output_type": "error",
     "traceback": [
      "\u001b[0;31m---------------------------------------------------------------------------\u001b[0m",
      "\u001b[0;31mNameError\u001b[0m                                 Traceback (most recent call last)",
      "\u001b[0;32m/var/folders/ds/y4dj2v9s35v24dtls2t60q7m0000gn/T/ipykernel_33492/1603739608.py\u001b[0m in \u001b[0;36m<module>\u001b[0;34m\u001b[0m\n\u001b[0;32m----> 1\u001b[0;31m \u001b[0;32mif\u001b[0m \u001b[0mIMPORT_INTERSECTION_DATA\u001b[0m\u001b[0;34m:\u001b[0m\u001b[0;34m\u001b[0m\u001b[0;34m\u001b[0m\u001b[0m\n\u001b[0m\u001b[1;32m      2\u001b[0m     \u001b[0mop_df\u001b[0m \u001b[0;34m=\u001b[0m \u001b[0mpd\u001b[0m\u001b[0;34m.\u001b[0m\u001b[0mread_csv\u001b[0m\u001b[0;34m(\u001b[0m\u001b[0;34m'./intersection_df'\u001b[0m\u001b[0;34m)\u001b[0m\u001b[0;34m\u001b[0m\u001b[0;34m\u001b[0m\u001b[0m\n\u001b[1;32m      3\u001b[0m     \u001b[0mop_df\u001b[0m\u001b[0;34m[\u001b[0m\u001b[0;34m'geometry'\u001b[0m\u001b[0;34m]\u001b[0m \u001b[0;34m=\u001b[0m \u001b[0mop_df\u001b[0m\u001b[0;34m[\u001b[0m\u001b[0;34m'geometry'\u001b[0m\u001b[0;34m]\u001b[0m\u001b[0;34m.\u001b[0m\u001b[0mapply\u001b[0m\u001b[0;34m(\u001b[0m\u001b[0;32mlambda\u001b[0m \u001b[0mx\u001b[0m\u001b[0;34m:\u001b[0m \u001b[0mshapely\u001b[0m\u001b[0;34m.\u001b[0m\u001b[0mwkt\u001b[0m\u001b[0;34m.\u001b[0m\u001b[0mloads\u001b[0m\u001b[0;34m(\u001b[0m\u001b[0mx\u001b[0m\u001b[0;34m)\u001b[0m\u001b[0;34m)\u001b[0m\u001b[0;34m\u001b[0m\u001b[0;34m\u001b[0m\u001b[0m\n\u001b[1;32m      4\u001b[0m \u001b[0;34m\u001b[0m\u001b[0m\n\u001b[1;32m      5\u001b[0m \u001b[0;32mif\u001b[0m \u001b[0mINCL_INTERSECTION_DATA\u001b[0m \u001b[0;32mand\u001b[0m \u001b[0;32mnot\u001b[0m \u001b[0mIMPORT_INTERSECTION_DATA\u001b[0m\u001b[0;34m:\u001b[0m\u001b[0;34m\u001b[0m\u001b[0;34m\u001b[0m\u001b[0m\n",
      "\u001b[0;31mNameError\u001b[0m: name 'IMPORT_INTERSECTION_DATA' is not defined"
     ]
    }
   ],
   "source": [
    "if IMPORT_INTERSECTION_DATA:\n",
    "    op_df = pd.read_csv('./intersection_df')\n",
    "    op_df['geometry'] = op_df['geometry'].apply(lambda x: shapely.wkt.loads(x))\n",
    "    \n",
    "if INCL_INTERSECTION_DATA and not IMPORT_INTERSECTION_DATA:\n",
    "    op_df[\"intersection\"] = op_df['geometry'].apply(lambda x: count_intersections(x))\n",
    "\n",
    "if EXPORT_INTERSECTION_DATA:\n",
    "    op_df.to_csv('./intersection_df')\n",
    "    \n",
    "op_df[\"area\"] = op_df['geometry'].apply(lambda x: geo_area(x))\n",
    "op_df[\"length\"] = op_df['geometry'].apply(lambda x: geo_length(x))\n",
    "op_df[\"verticies\"] = op_df['geometry'].apply(lambda x: nbr_verticies(x))\n",
    "op_df[\"type\"] = op_df['geometry'].apply(lambda x: geo_type(x))\n",
    "op_df[\"convex_hull\"] = op_df['geometry'].apply(lambda x: shapely.count_coordinates(shapely.convex_hull(x)))"
   ]
  },
  {
   "cell_type": "code",
   "execution_count": null,
   "metadata": {},
   "outputs": [
    {
     "ename": "NameError",
     "evalue": "name 'op_df' is not defined",
     "output_type": "error",
     "traceback": [
      "\u001b[0;31m---------------------------------------------------------------------------\u001b[0m",
      "\u001b[0;31mNameError\u001b[0m                                 Traceback (most recent call last)",
      "\u001b[0;32m/var/folders/ds/y4dj2v9s35v24dtls2t60q7m0000gn/T/ipykernel_33492/975960004.py\u001b[0m in \u001b[0;36m<module>\u001b[0;34m\u001b[0m\n\u001b[0;32m----> 1\u001b[0;31m \u001b[0mdf_vert\u001b[0m \u001b[0;34m=\u001b[0m \u001b[0mop_df\u001b[0m\u001b[0;34m[\u001b[0m\u001b[0;34m'verticies'\u001b[0m\u001b[0;34m]\u001b[0m\u001b[0;34m\u001b[0m\u001b[0;34m\u001b[0m\u001b[0m\n\u001b[0m\u001b[1;32m      2\u001b[0m \u001b[0mv_cnt\u001b[0m \u001b[0;34m=\u001b[0m \u001b[0;34m{\u001b[0m\u001b[0mi\u001b[0m \u001b[0;34m+\u001b[0m \u001b[0;36m1\u001b[0m\u001b[0;34m:\u001b[0m \u001b[0;36m0\u001b[0m \u001b[0;32mfor\u001b[0m \u001b[0mi\u001b[0m \u001b[0;32min\u001b[0m \u001b[0mrange\u001b[0m\u001b[0;34m(\u001b[0m\u001b[0mmax\u001b[0m\u001b[0;34m(\u001b[0m\u001b[0mdf_vert\u001b[0m\u001b[0;34m)\u001b[0m\u001b[0;34m)\u001b[0m\u001b[0;34m}\u001b[0m\u001b[0;34m\u001b[0m\u001b[0;34m\u001b[0m\u001b[0m\n\u001b[1;32m      3\u001b[0m \u001b[0;32mfor\u001b[0m \u001b[0mr\u001b[0m \u001b[0;32min\u001b[0m \u001b[0mdf_vert\u001b[0m\u001b[0;34m:\u001b[0m\u001b[0;34m\u001b[0m\u001b[0;34m\u001b[0m\u001b[0m\n\u001b[1;32m      4\u001b[0m     \u001b[0mv_cnt\u001b[0m\u001b[0;34m[\u001b[0m\u001b[0mr\u001b[0m\u001b[0;34m]\u001b[0m \u001b[0;34m+=\u001b[0m \u001b[0mr\u001b[0m\u001b[0;34m\u001b[0m\u001b[0;34m\u001b[0m\u001b[0m\n\u001b[1;32m      5\u001b[0m \u001b[0;32mfor\u001b[0m \u001b[0mi\u001b[0m \u001b[0;32min\u001b[0m \u001b[0mrange\u001b[0m\u001b[0;34m(\u001b[0m\u001b[0mmax\u001b[0m\u001b[0;34m(\u001b[0m\u001b[0mdf_vert\u001b[0m\u001b[0;34m)\u001b[0m\u001b[0;34m)\u001b[0m\u001b[0;34m:\u001b[0m\u001b[0;34m\u001b[0m\u001b[0;34m\u001b[0m\u001b[0m\n",
      "\u001b[0;31mNameError\u001b[0m: name 'op_df' is not defined"
     ]
    }
   ],
   "source": [
    "df_vert = op_df['verticies']\n",
    "v_cnt = {i + 1: 0 for i in range(max(df_vert))}\n",
    "for r in df_vert:\n",
    "    v_cnt[r] += r\n",
    "for i in range(max(df_vert)):\n",
    "    if v_cnt[i+1] == 0:\n",
    "        del v_cnt[i+1]\n",
    "plt.figure(figsize=(30,10))\n",
    "plt.xticks(rotation=90)\n",
    "v_cnt = pd.DataFrame.from_dict(v_cnt, orient='index', columns=['weightedSum'])\n",
    "v_cnt['count'] = v_cnt.apply(lambda x:x.weightedSum/ x.name, axis=1)\n",
    "import seaborn as sns\n",
    "ax = sns.barplot(x=v_cnt.index, y=v_cnt['count'],color='b')\n",
    "ax.bar_label(ax.containers[0],label_type='edge')\n",
    "sns.barplot(x=v_cnt.index, y=v_cnt.weightedSum,orient='v')\n",
    "plt.xlabel(\"Vertex count\")\n",
    "plt.ylabel(\"Weighted occurances\")\n",
    "plt.title(\"Vertex Distribution\")\n",
    "plt.show()\n",
    "\n",
    "plt.figure(figsize=(30,10))\n",
    "plt.xticks(rotation=90)\n",
    "ax = sns.barplot(x=v_cnt.index, y=v_cnt['count'])\n",
    "plt.xlabel(\"Vertex count\")\n",
    "plt.ylabel(\"Occurances\")\n",
    "plt.title(\"\")\n",
    "plt.show()"
   ]
  },
  {
   "cell_type": "code",
   "execution_count": null,
   "metadata": {},
   "outputs": [
    {
     "name": "stdout",
     "output_type": "stream",
     "text": [
      "Geom cnt: 2827275\n",
      "Polygon         0.999958\n",
      "MultiPolygon    0.000042\n",
      "Name: type, dtype: float64\n",
      "Vert sum, avg: 17801861 6.296473105729015\n"
     ]
    },
    {
     "data": {
      "image/png": "[encoded data removed]",
      "text/plain": [
       "<Figure size 1500x1000 with 6 Axes>"
      ]
     },
     "metadata": {},
     "output_type": "display_data"
    }
   ],
   "source": [
    "print(\"Geom cnt:\", len(op_df))\n",
    "print(op_df['type'].value_counts(normalize=True))\n",
    "print(\"Vert sum, avg:\", op_df['verticies'].sum(), op_df['verticies'].mean())\n",
    "\n",
    "figure, axis = plt.subplots(2, 3)\n",
    "figure.set_figwidth(15)\n",
    "figure.set_figheight(10)\n",
    "figure.suptitle(\"Dataset Statistics\", fontsize=14)\n",
    "\n",
    "sns.barplot(data=op_df, x='type', y='area',ax=axis[0,1])\n",
    "sns.barplot(data=op_df, x='type', y='length',ax=axis[0,0])\n",
    "sns.barplot(data=op_df, x='type', y='verticies',ax=axis[1,0])\n",
    "sns.barplot(data=op_df, x='type', y='convex_hull',ax=axis[0,2])\n",
    "\n",
    "if INCL_INTERSECTION_DATA:\n",
    "    sns.barplot(data=op_df, x='type', y='intersection',ax=axis[1,2])\n",
    "    \n",
    "g = sns.countplot(x=op_df[\"type\"],ax=axis[1,1])\n",
    "g.set_yscale(\"log\")\n",
    "plt.tight_layout()\n",
    "plt.show()"
   ]
  }
 ],
 "metadata": {
  "kernelspec": {
   "display_name": "base",
   "language": "python",
   "name": "python3"
  },
  "language_info": {
   "codemirror_mode": {
    "name": "ipython",
    "version": 3
   },
   "file_extension": ".py",
   "mimetype": "text/x-python",
   "name": "python",
   "nbconvert_exporter": "python",
   "pygments_lexer": "ipython3",
   "version": "3.9.13"
  },
  "orig_nbformat": 4,
  "vscode": {
   "interpreter": {
    "hash": "40d3a090f54c6569ab1632332b64b2c03c39dcf918b08424e98f38b5ae0af88f"
   }
  }
 },
 "nbformat": 4,
 "nbformat_minor": 2
}
