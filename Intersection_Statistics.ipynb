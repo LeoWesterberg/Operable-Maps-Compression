{
 "cells": [
  {
   "attachments": {},
   "cell_type": "markdown",
   "metadata": {},
   "source": [
    "#### Imports"
   ]
  },
  {
   "cell_type": "code",
   "execution_count": 1,
   "metadata": {},
   "outputs": [],
   "source": [
    "import numpy as np\n",
    "import shapely\n",
    "import bisect\n",
    "import shapely.wkt\n",
    "import matplotlib.pyplot as plt\n",
    "import math\n",
    "import geopandas as gpd\n",
    "import json\n",
    "import pandas as pd\n",
    "import seaborn as sns\n",
    "from enum import Enum\n",
    "import plotly.graph_objects as go\n",
    "from plotly.subplots import make_subplots\n",
    "import plotly.express as px\n",
    "\n",
    "import intersection.first_bin_search\n",
    "import intersection.chunk_bbox_intersection\n",
    "from bench_utils import parse_intersection_data \n",
    "common_bbox = intersection.chunk_bbox_intersection.common_bbox\n",
    "chunk_bbox_is_intersecting = intersection.chunk_bbox_intersection.is_intersecting\n",
    "chunk_bbox_intersection = intersection.chunk_bbox_intersection.intersection\n",
    "\n",
    "\n",
    "\n",
    "from intersection.plotting import *\n",
    "import algos.fpd_extended_lib.cfg as cfg\n",
    "from algos.alg_fpd_extended import FpdExtended\n",
    "\n",
    "\n",
    "pd.options.mode.chained_assignment = None  # default='warn'"
   ]
  },
  {
   "attachments": {},
   "cell_type": "markdown",
   "metadata": {},
   "source": [
    "#### Import data"
   ]
  },
  {
   "cell_type": "code",
   "execution_count": 2,
   "metadata": {},
   "outputs": [],
   "source": [
    "fpd = FpdExtended()\n",
    "\n",
    "# Geometries\n",
    "# manual_data, _ = parse_intersection_data(\"manual\")\n",
    "# special_cases, _ = parse_intersection_data(\"latest_export.json\", strip_precision=True)\n",
    "world_data, world_data_stats = parse_intersection_data(\"world.json\",40, strip_precision=True)\n",
    "lund_data, lund_data_stats = parse_intersection_data(\"lund.json\")\n",
    "# sweden_data, sweden_data_stats = parse_intersection_data(\"sweden-places-a.json\",40)\n",
    "# new_york_data, new_york_data_stats = parse_intersection_data(\"new-york-natural.json\",40)\n",
    "# waterways_data, waterways_data_stats = parse_intersection_data(\"nord-est-waterways.json\",40)\n",
    "\n",
    "sweden_all_data, sweden_all_data_stats = parse_intersection_data(\"final/latest_export.pkl\")\n",
    "country_borders_data, country_borders_data_stats = parse_intersection_data(\"final/country_borders.pkl\")\n",
    "china_water_data, china_water_data_stats = parse_intersection_data(\"final/china_water_100k.pkl\")\n",
    "\n",
    "datasets = [\n",
    "    (sweden_all_data, 13, \"Sweden All\"),\n",
    "    (china_water_data, 13, \"China Water\"),\n",
    "    (country_borders_data, 13, \"Country Borders\"),\n",
    "    # (manual_data, 3, \"manual_data\"),\n",
    "    # (special_cases, 3, \"special_cases\"),\n",
    "    #(world_data, 15, \"world_data\"),\n",
    "    (lund_data, 3, \"lund_data\"),\n",
    "    # (sweden_data, 15, \"sweden_data\"),\n",
    "    # (new_york_data, 10, \"new_york_data\"),\n",
    "    # (waterways_data, 3, \"waterways\")\n",
    "]\n"
   ]
  },
  {
   "attachments": {},
   "cell_type": "markdown",
   "metadata": {},
   "source": [
    "#### Constants"
   ]
  },
  {
   "cell_type": "code",
   "execution_count": 3,
   "metadata": {},
   "outputs": [],
   "source": [
    "# Number of total iterations = NBR_ITER * N * number_of_datasets\n",
    "NBR_ITER = -1 # Number of iterations for each dataset\n",
    "N = 1 # Number of times to recalculate each geometry for reliable mean value\n",
    "K = 5000\n",
    "\n",
    "# Max DELTA_SIZE_VALUE in MAX_NUM_DELTAS Analysis\n",
    "MAX_DELTA_SIZE = 100\n",
    "\n",
    "#Geometry classification sizes\n",
    "MEDIUM_THRESHOLD = 30\n",
    "LARGE_THRESHOLD = 100\n",
    "\n",
    "\n",
    "SAVE_DFS = True\n",
    "USE_EXISTING_DF = True"
   ]
  },
  {
   "attachments": {},
   "cell_type": "markdown",
   "metadata": {},
   "source": [
    "## Functions Section"
   ]
  },
  {
   "attachments": {},
   "cell_type": "markdown",
   "metadata": {},
   "source": [
    "#### Config Setter Functions"
   ]
  },
  {
   "cell_type": "code",
   "execution_count": 4,
   "metadata": {},
   "outputs": [],
   "source": [
    "def set_max_num_delta(val):\n",
    "        cfg.MAX_NUM_DELTAS = val\n",
    "        cfg.D_CNT_SIZE = cfg.required_bits(val)\n",
    "\n",
    "def act_deact_baseline(activate=True):\n",
    "        cfg.BASELINE_ON = activate\n",
    "        cfg.DISABLE_OPTIMIZED_INTERSECTION = False if not activate else True\n",
    "        cfg.DISABLE_OPTIMIZED_ADD_VERTEX = False if not activate else True\n",
    "        cfg.DISABLE_OPTIMIZED_BOUNDING_BOX = False if not activate else True"
   ]
  },
  {
   "attachments": {},
   "cell_type": "markdown",
   "metadata": {},
   "source": [
    "#### Stats Collector Functions"
   ]
  },
  {
   "cell_type": "code",
   "execution_count": 5,
   "metadata": {},
   "outputs": [],
   "source": [
    "def get_size_category(size):\n",
    "    if size < LARGE_THRESHOLD and size >= MEDIUM_THRESHOLD:\n",
    "            return \"Medium\", 1\n",
    "    elif size >= LARGE_THRESHOLD:\n",
    "         return \"Large\", 2\n",
    "    else:\n",
    "         return \"Small\", 0\n",
    "    \n",
    "def get_intersection_category(size1, size2):\n",
    "    size1_cat, type1 = get_size_category(size1)\n",
    "    size2_cat, type2 = get_size_category(size2)\n",
    "\n",
    "    if type1 <= type2:\n",
    "        return size1_cat + \"/\" + size2_cat\n",
    "    return size2_cat + \"/\" + size1_cat\n",
    "\n",
    "\n",
    "def get_context_category(g1, g2, bins=None):\n",
    "    if bins == None:\n",
    "        _, b1_fpde = fpd.compress(g1)\n",
    "        _, b2_fpde = fpd.compress(g2) \n",
    "    else:\n",
    "        b1_fpde, b2_fpde = bins\n",
    "\n",
    "    bbox = common_bbox((b1_fpde, b2_fpde))\n",
    "    intersects = shapely.intersects(g1, g2)\n",
    "    contains = shapely.contains(g1, g2) or shapely.contains(g2, g1)\n",
    "    if not bbox:\n",
    "        return \"No Overlap (FALSE)\"\n",
    "    elif not intersects:\n",
    "        return \"Overlap (FALSE)\"\n",
    "    elif not contains:\n",
    "        return \"Partial Overlap (TRUE)\"\n",
    "    else:\n",
    "        return \"Fully Inside Other (TRUE)\"\n",
    "\n",
    "def get_category_stat(g1, g2):\n",
    "        s1, s2 = (shapely.get_num_coordinates(g1), shapely.get_num_coordinates(g2))\n",
    "        size_category = get_intersection_category(s1, s2)\n",
    "        context_category = get_context_category(g1, g2)\n",
    "        return [size_category, context_category]\n",
    "\n",
    "\n",
    "#For taking mean of all stats, not just total time\n",
    "def get_time_stat(bins, predicate=False):\n",
    "    alg = chunk_bbox_is_intersecting if predicate else chunk_bbox_intersection\n",
    "    # 'decomp', 'nbr_recieved_chks', 'nbr_total_chks', 'total_time'\n",
    "    mean_stat = [0, 0, 0, 0]\n",
    "    for _ in range(N):\n",
    "        stat, _ = alg(bins, get_stats=True)\n",
    "        mean_stat = [sum(x) for x in zip(mean_stat, stat)]\n",
    "    \n",
    "    return [num / N for num in mean_stat]\n"
   ]
  },
  {
   "attachments": {},
   "cell_type": "markdown",
   "metadata": {},
   "source": [
    "#### Dataset Evaluation"
   ]
  },
  {
   "cell_type": "code",
   "execution_count": 6,
   "metadata": {},
   "outputs": [],
   "source": [
    "def evaluate_dataset(stats_df, delta_size=None, not_predicate=True, add_size=False, dataset_name=\"\", args=None):\n",
    "        idx, g1, g2 = args\n",
    "        if delta_size != None:\n",
    "            set_max_num_delta(delta_size)\n",
    "        bins = (fpd.compress(g1)[1], fpd.compress(g2)[1])\n",
    "\n",
    "        for is_predicate in [False] if not_predicate else [True, False]:\n",
    "            stats = []\n",
    "            stats.extend(get_time_stat(bins=bins, predicate=is_predicate))\n",
    "            stats.extend(get_category_stat(g1, g2))\n",
    "            stats.append(delta_size if delta_size != None else cfg.MAX_NUM_DELTAS)\n",
    "            if is_predicate:\n",
    "                print(is_predicate)\n",
    "            stats.append(is_predicate)\n",
    "            stats.append(idx)\n",
    "            stats.append(cfg.BASELINE_ON)\n",
    "            if add_size:\n",
    "                stats.append(len(bins[0]) + len(bins[1]))\n",
    "            stats.append(dataset_name)\n",
    "            stats_df.loc[len(stats_df)] = stats"
   ]
  },
  {
   "attachments": {},
   "cell_type": "markdown",
   "metadata": {},
   "source": [
    "# Statistics Visualization"
   ]
  },
  {
   "attachments": {},
   "cell_type": "markdown",
   "metadata": {},
   "source": [
    "#### Best MAX_NUM_DELTAS per Dataset Analysis"
   ]
  },
  {
   "cell_type": "code",
   "execution_count": 7,
   "metadata": {},
   "outputs": [],
   "source": [
    "from tqdm import tqdm\n",
    "\n",
    "if not USE_EXISTING_DF:\n",
    "    #For baseline\n",
    "    max_deltas_dfs = []\n",
    "    for dataset in datasets:\n",
    "        max_deltas_df = pd.DataFrame(columns=['decomp', 'nbr_recieved_chks', 'nbr_total_chks', 'total_time', \"sizes\", \"context\", \"delta_size\", \"predicate\", \"dataset_idx\", \"baseline\", \"sum_size\", \"dataset\"])\n",
    "\n",
    "        dataset, _, dataset_name = dataset\n",
    "        np.random.seed(2021)\n",
    "        indicies = np.random.choice(len(dataset), size= min(K, len(dataset))) \n",
    "        dataset = np.array(dataset)[indicies] \n",
    "        for idx, (g1, g2) in enumerate(tqdm(dataset)):\n",
    "            \n",
    "            if g1.geom_type == \"Point\" or g2.geom_type == \"Point\":\n",
    "                continue\n",
    "\n",
    "            cat =  get_category_stat(g1, g2)[0]\n",
    "            if cat != 'Small/Small' and cat != 'Medium/Medium' and cat != 'Large/Large':\n",
    "                continue\n",
    "\n",
    "            act_deact_baseline(activate=False)        \n",
    "            for max_delta_size in range(0,MAX_DELTA_SIZE):\n",
    "                evaluate_dataset(stats_df=max_deltas_df, delta_size=max_delta_size, not_predicate=True, add_size=True, dataset_name=dataset_name, args=(idx, g1, g2)) \n",
    "\n",
    "            act_deact_baseline(activate=True)        \n",
    "            evaluate_dataset(stats_df=max_deltas_df, delta_size=10000000, not_predicate=True, add_size=True, dataset_name=dataset_name, args=(idx, g1, g2)) \n",
    "        \n",
    "        max_deltas_df.to_csv(f'max_deltas_{dataset_name}.csv', index=False)\n",
    "        max_deltas_dfs.append(max_deltas_df)\n",
    "    max_deltas_df = pd.concat(max_deltas_dfs)\n",
    "    display(max_deltas_df)\n",
    "\n",
    "else:\n",
    "    country_max_deltas_df = pd.read_csv('max_deltas_Country Borders3.csv')\n",
    "    country_max_deltas_df['delta_size'] = country_max_deltas_df['delta_size'].replace(100000, 10000000)\n",
    "    china_max_deltas_df = pd.read_csv('max_deltas_China Water3.csv')\n",
    "    sweden_max_deltas_df = pd.read_csv('max_deltas_Sweden All3.csv')\n",
    "    lund_max_deltas_df = pd.read_csv('max_deltas_lund_data3.csv')\n",
    "\n",
    "    max_deltas_df = pd.concat([china_max_deltas_df, \n",
    "                               sweden_max_deltas_df, \n",
    "                               lund_max_deltas_df, \n",
    "                               country_max_deltas_df\n",
    "                               ])\n",
    "\n",
    "\n"
   ]
  },
  {
   "cell_type": "code",
   "execution_count": 8,
   "metadata": {},
   "outputs": [],
   "source": [
    "max_deltas_filt_df = max_deltas_df[['total_time', 'sum_size', \"sizes\", \"delta_size\", \"predicate\", \"baseline\"]]"
   ]
  },
  {
   "attachments": {},
   "cell_type": "markdown",
   "metadata": {},
   "source": [
    "### Helper"
   ]
  },
  {
   "cell_type": "code",
   "execution_count": 9,
   "metadata": {},
   "outputs": [],
   "source": [
    "\n",
    "import plotly.graph_objs as objs\n",
    "\n",
    "def make_general_facet_title(fig, x_title, y_title, secondary=None, barplot=False, hbarplot=False):\n",
    "    #Remove current axis titles\n",
    "    for axis in fig.layout:\n",
    "        if type(fig.layout[axis]) == objs.layout.XAxis:\n",
    "            fig.layout[axis].title.text = ''\n",
    "\n",
    "    for axis in fig.layout:\n",
    "        if type(fig.layout[axis]) == objs.layout.YAxis:\n",
    "            fig.layout[axis].title.text = '' \n",
    "\n",
    "    fig.add_annotation(\n",
    "    dict(\n",
    "        x=0.48 if not barplot else 0.5,\n",
    "        y=-0.04 if not barplot else -0.17,  # adjust as needed\n",
    "        showarrow=False,\n",
    "        text=x_title,\n",
    "        xref=\"paper\",\n",
    "        yref=\"paper\",\n",
    "        font=dict(size=20),\n",
    "        xanchor=\"center\", \n",
    "        yanchor=\"top\"\n",
    "    )\n",
    "    )\n",
    "\n",
    "    if secondary != None:\n",
    "        fig.add_annotation(\n",
    "        dict(\n",
    "            x=1.01,  # adjust as needed\n",
    "            y=0.5,\n",
    "            showarrow=False,\n",
    "            text=secondary,\n",
    "            textangle=-90,  # to rotate the text for the vertical y-axis\n",
    "            xref=\"paper\",\n",
    "            yref=\"paper\",\n",
    "            font=dict(size=20),\n",
    "            xanchor=\"center\",\n",
    "            yanchor=\"middle\"\n",
    "        )\n",
    "    )\n",
    "\n",
    "    fig.add_annotation(\n",
    "    dict(\n",
    "        x=-0.07 if not barplot else -0.07,  # adjust as needed\n",
    "        y=0.5,\n",
    "        showarrow=False,\n",
    "        text=y_title,\n",
    "        textangle=-90,\n",
    "        xref=\"paper\",\n",
    "        yref=\"paper\",\n",
    "        font=dict(size=20),\n",
    "        xanchor=\"center\",\n",
    "        yanchor=\"middle\"\n",
    "    )\n",
    ")"
   ]
  },
  {
   "cell_type": "code",
   "execution_count": 10,
   "metadata": {},
   "outputs": [],
   "source": [
    "def plot_max_delta_size_speed(df, is_predicate=False, no_mixed=False, relative=False):\n",
    "    if no_mixed:\n",
    "        df = df[df['sizes'].isin([\"Small/Small\", \"Medium/Medium\", \"Large/Large\"])]\n",
    "\n",
    "\n",
    "\n",
    "    specs_element = [{\"secondary_y\": True}] if no_mixed else [{\"secondary_y\": True}, {\"secondary_y\": True}]\n",
    "\n",
    "    df = df[df['predicate'] == is_predicate]\n",
    "    df = df.groupby(['delta_size', 'sizes', 'baseline']).mean()\n",
    "    df.reset_index(inplace=True)\n",
    "    \n",
    "    sizes = dict(zip(list(df.sizes.unique()), range(len(df.sizes.unique()))))\n",
    "\n",
    "    fig = make_subplots(rows=3, cols=1 if no_mixed else 2, \n",
    "                        subplot_titles=(list(map(lambda x: \"Geometry Sizes=\" + x.split('/')[0], sizes.keys()))), \n",
    "                        horizontal_spacing=0.08, \n",
    "                        vertical_spacing=0.07, \n",
    "                        #x_title=\"Max Chunk Size\",  y_title=\"Mean Execution Time (s)\", \n",
    "                        specs=[specs_element,\n",
    "                              specs_element,\n",
    "                              specs_element])\n",
    "    \n",
    "    #For not showing the same legend twice\n",
    "    legend_showed = False\n",
    "\n",
    "    for size in sizes.keys():\n",
    "        curr_context_df = df[(df['sizes'] == size)]\n",
    "\n",
    "        for is_baseline in [False] if relative else [True, False]:\n",
    "\n",
    "            line = dict(color='blue' if is_baseline else 'red', dash='dash' if is_baseline else None)\n",
    "\n",
    "            curr_df = curr_context_df[curr_context_df['baseline'] == is_baseline]\n",
    "            baseline_formatting = \"FPDE\" if not is_baseline else \"Baseline\"\n",
    "\n",
    "            if relative:\n",
    "                baseline_value = curr_context_df[(curr_context_df['baseline'] == True) & (curr_context_df['delta_size'] == 10000000)]\n",
    "                curr_df['total_time'] = curr_df['total_time'].divide(baseline_value.total_time.values[0], axis=0)\n",
    "                \n",
    "\n",
    "            curr_df[\"total_time\"] = curr_df.sort_values(by='delta_size')['total_time'].rolling(window=3, min_periods=1).mean()\n",
    "\n",
    "            fig.add_trace(go.Scatter(x=curr_df.delta_size.values, y= curr_df.total_time.values,\n",
    "                                    mode='lines',\n",
    "                                    line=line,\n",
    "                                    showlegend=not legend_showed,\n",
    "                                    name=f\"{baseline_formatting}\"),col=sizes[size] // 3 + 1 if no_mixed else 1, row=sizes[size] % 3 + 1,\n",
    "                                    secondary_y=False)\n",
    "            \n",
    "            if not is_baseline:\n",
    "                fig.add_trace(go.Scatter(x=curr_df.delta_size.values, y=curr_df.sum_size.values,\n",
    "                                        mode='lines',\n",
    "                                        line=dict(color='green', dash='dash'),\n",
    "                                        showlegend=not legend_showed,\n",
    "                                        name=f\"Average size (bits)\"),col=sizes[size] // 3 + 1 if no_mixed else 1, row=sizes[size] % 3 + 1,\n",
    "                                        secondary_y=True)\n",
    "                legend_showed = True\n",
    "\n",
    "                mix_delta_size = curr_df.sort_values(by='total_time').delta_size.values[0]\n",
    "\n",
    "                fig.add_vrect(x0=mix_delta_size - 1, x1=mix_delta_size + 1, col=sizes[size] // 3 + 1 if no_mixed else 1, row=sizes[size] % 3 + 1,\n",
    "                annotation_text=f\"Min={mix_delta_size}\", annotation_position=\"inside\",\n",
    "                fillcolor=\"green\", opacity=0.25, line_width=0, annotation = dict(textangle=-90, font=dict(size=16)))\n",
    "    \n",
    "    #For changing facet size\n",
    "    # for annotation in fig['layout']['annotations']:\n",
    "    #     annotation['font']['size'] = 18  # Set your desired font size here\n",
    "\n",
    "    intersection_format = \"Intersection\" if not is_predicate else \"IsIntersection\"\n",
    "    baseline_format = \"\" if not is_baseline else \"(Baseline)\"\n",
    "    fig.update_layout(\n",
    "                      title_x=0.5,\n",
    "                      width=1000, \n",
    "                      height=1000, \n",
    "                      legend=dict(\n",
    "                            yanchor=\"top\",\n",
    "                            y=-0.037,\n",
    "                            xanchor=\"left\",\n",
    "                            x=0.7,\n",
    "                            orientation=\"h\",\n",
    "                            font=dict(size=15),\n",
    "                        ),\n",
    "                        title=dict(\n",
    "                            text=f'Relative Execution Time for {intersection_format} by Max Chunk Size {baseline_format}',\n",
    "                            x=0.5,\n",
    "                            font=dict(size=22)\n",
    "                            )\n",
    "                        )\n",
    "\n",
    "    fig.update_annotations(font=dict(size=16)) \n",
    "    fig.update_annotations(font=dict(size=16))\n",
    "    fig.update_yaxes(type=\"log\", tickfont=dict(size=16))\n",
    "\n",
    "    fig.update_xaxes(tickfont=dict(size=16))\n",
    "\n",
    "    make_general_facet_title(fig, \"Max Chunk Size\", \"Relative Mean Execution Time (%)\", secondary=\"Mean Size (bits)\")\n",
    "   \n",
    "\n",
    "    display(max_deltas_filt_df)\n",
    "    fig.show()\n",
    "\n"
   ]
  },
  {
   "attachments": {},
   "cell_type": "markdown",
   "metadata": {},
   "source": []
  },
  {
   "cell_type": "code",
   "execution_count": 11,
   "metadata": {},
   "outputs": [
    {
     "data": {
      "text/html": [
       "<div>\n",
       "<style scoped>\n",
       "    .dataframe tbody tr th:only-of-type {\n",
       "        vertical-align: middle;\n",
       "    }\n",
       "\n",
       "    .dataframe tbody tr th {\n",
       "        vertical-align: top;\n",
       "    }\n",
       "\n",
       "    .dataframe thead th {\n",
       "        text-align: right;\n",
       "    }\n",
       "</style>\n",
       "<table border=\"1\" class=\"dataframe\">\n",
       "  <thead>\n",
       "    <tr style=\"text-align: right;\">\n",
       "      <th></th>\n",
       "      <th>total_time</th>\n",
       "      <th>sum_size</th>\n",
       "      <th>sizes</th>\n",
       "      <th>delta_size</th>\n",
       "      <th>predicate</th>\n",
       "      <th>baseline</th>\n",
       "    </tr>\n",
       "  </thead>\n",
       "  <tbody>\n",
       "    <tr>\n",
       "      <th>0</th>\n",
       "      <td>0.002065</td>\n",
       "      <td>4845</td>\n",
       "      <td>Medium/Medium</td>\n",
       "      <td>0</td>\n",
       "      <td>False</td>\n",
       "      <td>False</td>\n",
       "    </tr>\n",
       "    <tr>\n",
       "      <th>1</th>\n",
       "      <td>0.001002</td>\n",
       "      <td>3023</td>\n",
       "      <td>Medium/Medium</td>\n",
       "      <td>1</td>\n",
       "      <td>False</td>\n",
       "      <td>False</td>\n",
       "    </tr>\n",
       "    <tr>\n",
       "      <th>2</th>\n",
       "      <td>0.001081</td>\n",
       "      <td>2374</td>\n",
       "      <td>Medium/Medium</td>\n",
       "      <td>2</td>\n",
       "      <td>False</td>\n",
       "      <td>False</td>\n",
       "    </tr>\n",
       "    <tr>\n",
       "      <th>3</th>\n",
       "      <td>0.001098</td>\n",
       "      <td>2109</td>\n",
       "      <td>Medium/Medium</td>\n",
       "      <td>3</td>\n",
       "      <td>False</td>\n",
       "      <td>False</td>\n",
       "    </tr>\n",
       "    <tr>\n",
       "      <th>4</th>\n",
       "      <td>0.000834</td>\n",
       "      <td>1878</td>\n",
       "      <td>Medium/Medium</td>\n",
       "      <td>4</td>\n",
       "      <td>False</td>\n",
       "      <td>False</td>\n",
       "    </tr>\n",
       "    <tr>\n",
       "      <th>...</th>\n",
       "      <td>...</td>\n",
       "      <td>...</td>\n",
       "      <td>...</td>\n",
       "      <td>...</td>\n",
       "      <td>...</td>\n",
       "      <td>...</td>\n",
       "    </tr>\n",
       "    <tr>\n",
       "      <th>384401</th>\n",
       "      <td>0.000107</td>\n",
       "      <td>560</td>\n",
       "      <td>Small/Small</td>\n",
       "      <td>96</td>\n",
       "      <td>False</td>\n",
       "      <td>False</td>\n",
       "    </tr>\n",
       "    <tr>\n",
       "      <th>384402</th>\n",
       "      <td>0.000102</td>\n",
       "      <td>560</td>\n",
       "      <td>Small/Small</td>\n",
       "      <td>97</td>\n",
       "      <td>False</td>\n",
       "      <td>False</td>\n",
       "    </tr>\n",
       "    <tr>\n",
       "      <th>384403</th>\n",
       "      <td>0.000101</td>\n",
       "      <td>560</td>\n",
       "      <td>Small/Small</td>\n",
       "      <td>98</td>\n",
       "      <td>False</td>\n",
       "      <td>False</td>\n",
       "    </tr>\n",
       "    <tr>\n",
       "      <th>384404</th>\n",
       "      <td>0.000100</td>\n",
       "      <td>560</td>\n",
       "      <td>Small/Small</td>\n",
       "      <td>99</td>\n",
       "      <td>False</td>\n",
       "      <td>False</td>\n",
       "    </tr>\n",
       "    <tr>\n",
       "      <th>384405</th>\n",
       "      <td>0.000432</td>\n",
       "      <td>368</td>\n",
       "      <td>Small/Small</td>\n",
       "      <td>10000000</td>\n",
       "      <td>False</td>\n",
       "      <td>True</td>\n",
       "    </tr>\n",
       "  </tbody>\n",
       "</table>\n",
       "<p>1269469 rows × 6 columns</p>\n",
       "</div>"
      ],
      "text/plain": [
       "        total_time  sum_size          sizes  delta_size  predicate  baseline\n",
       "0         0.002065      4845  Medium/Medium           0      False     False\n",
       "1         0.001002      3023  Medium/Medium           1      False     False\n",
       "2         0.001081      2374  Medium/Medium           2      False     False\n",
       "3         0.001098      2109  Medium/Medium           3      False     False\n",
       "4         0.000834      1878  Medium/Medium           4      False     False\n",
       "...            ...       ...            ...         ...        ...       ...\n",
       "384401    0.000107       560    Small/Small          96      False     False\n",
       "384402    0.000102       560    Small/Small          97      False     False\n",
       "384403    0.000101       560    Small/Small          98      False     False\n",
       "384404    0.000100       560    Small/Small          99      False     False\n",
       "384405    0.000432       368    Small/Small    10000000      False      True\n",
       "\n",
       "[1269469 rows x 6 columns]"
      ]
     },
     "metadata": {},
     "output_type": "display_data"
    },
    {
     "data": {
      "application/vnd.plotly.v1+json": {
       "config": {
        "plotlyServerURL": "https://plot.ly"
       },
       "data": [
        {
         "line": {
          "color": "red"
         },
         "mode": "lines",
         "name": "FPDE",
         "showlegend": true,
         "type": "scatter",
         "x": [
          0,
          1,
          2,
          3,
          4,
          5,
          6,
          7,
          8,
          9,
          10,
          11,
          12,
          13,
          14,
          15,
          16,
          17,
          18,
          19,
          20,
          21,
          22,
          23,
          24,
          25,
          26,
          27,
          28,
          29,
          30,
          31,
          32,
          33,
          34,
          35,
          36,
          37,
          38,
          39,
          40,
          41,
          42,
          43,
          44,
          45,
          46,
          47,
          48,
          49,
          50,
          51,
          52,
          53,
          54,
          55,
          56,
          57,
          58,
          59,
          60,
          61,
          62,
          63,
          64,
          65,
          66,
          67,
          68,
          69,
          70,
          71,
          72,
          73,
          74,
          75,
          76,
          77,
          78,
          79,
          80,
          81,
          82,
          83,
          84,
          85,
          86,
          87,
          88,
          89,
          90,
          91,
          92,
          93,
          94,
          95,
          96,
          97,
          98,
          99
         ],
         "xaxis": "x",
         "y": [
          1.8374377712795111,
          1.3416327137748638,
          1.0965388304489592,
          0.6526533897317741,
          0.521734056949747,
          0.4597435172659101,
          0.427642775731432,
          0.40547439301974525,
          0.39151695055056884,
          0.3783824255920824,
          0.3698867281852998,
          0.3612609058330296,
          0.3540123419162348,
          0.3490106409567059,
          0.3456856300933242,
          0.34529662636514163,
          0.345353059456202,
          0.3467408220123109,
          0.3450077772936866,
          0.34440967804710443,
          0.3448459474187569,
          0.3462151104731365,
          0.34544205949727025,
          0.3438867781928238,
          0.3441285356073381,
          0.34635968609291884,
          0.3464012126481064,
          0.3453562097571546,
          0.34766578082206706,
          0.3514267262733473,
          0.35315484779551537,
          0.35176117074395935,
          0.350635325689441,
          0.3536087494056513,
          0.3543768731977989,
          0.35571197798683407,
          0.3568984683507274,
          0.35839904307184384,
          0.36003109610757394,
          0.3600674102093859,
          0.3642118582873975,
          0.3658240517713262,
          0.3672745197938673,
          0.3661792981568328,
          0.3677603807902834,
          0.3720721933085384,
          0.3732866140850534,
          0.37435634093122366,
          0.37668318205809576,
          0.37774373297796116,
          0.3789830816908905,
          0.3764416890859216,
          0.3784640598175691,
          0.37984720924642484,
          0.38264253102895746,
          0.38419248582790383,
          0.3859420381064285,
          0.38807831725276354,
          0.3925005635363404,
          0.39424858090734904,
          0.3940260438291223,
          0.3987275020282693,
          0.40346496704810203,
          0.4047013308169832,
          0.3995805331812497,
          0.39937896166393044,
          0.4014118905940353,
          0.4056719962922566,
          0.40471355978649326,
          0.4072578962376823,
          0.40832077472137285,
          0.4100550542909874,
          0.41205886818334064,
          0.41086501576678675,
          0.4125347780535578,
          0.4119740540079977,
          0.41443485694961185,
          0.41695288290544724,
          0.4184855008130027,
          0.4226052315642727,
          0.4233084126009976,
          0.42494932179974,
          0.42338838175763316,
          0.4249709745759542,
          0.42652601367097986,
          0.43170943350550833,
          0.43319442383822643,
          0.43370830194593607,
          0.4310144857243931,
          0.43158802633623466,
          0.43329924105651246,
          0.4362368033356249,
          0.4369257060563749,
          0.4397653039202516,
          0.43890771523677147,
          0.4439179746196314,
          0.4426350242017496,
          0.44447998955814877,
          0.4418390798635201,
          0.44304293153442614
         ],
         "yaxis": "y"
        },
        {
         "line": {
          "color": "green",
          "dash": "dash"
         },
         "mode": "lines",
         "name": "Average size (bits)",
         "showlegend": true,
         "type": "scatter",
         "x": [
          0,
          1,
          2,
          3,
          4,
          5,
          6,
          7,
          8,
          9,
          10,
          11,
          12,
          13,
          14,
          15,
          16,
          17,
          18,
          19,
          20,
          21,
          22,
          23,
          24,
          25,
          26,
          27,
          28,
          29,
          30,
          31,
          32,
          33,
          34,
          35,
          36,
          37,
          38,
          39,
          40,
          41,
          42,
          43,
          44,
          45,
          46,
          47,
          48,
          49,
          50,
          51,
          52,
          53,
          54,
          55,
          56,
          57,
          58,
          59,
          60,
          61,
          62,
          63,
          64,
          65,
          66,
          67,
          68,
          69,
          70,
          71,
          72,
          73,
          74,
          75,
          76,
          77,
          78,
          79,
          80,
          81,
          82,
          83,
          84,
          85,
          86,
          87,
          88,
          89,
          90,
          91,
          92,
          93,
          94,
          95,
          96,
          97,
          98,
          99
         ],
         "xaxis": "x",
         "y": [
          52756.157024793385,
          33006.71043771044,
          26385.296296296296,
          23109.133761861034,
          21123.68166513621,
          19803.581879400062,
          18860.450872359965,
          18169.153351698806,
          17618.512396694216,
          17178.165595347415,
          16823.519436792165,
          16526.172941536577,
          16276.47076828895,
          16060.633302724213,
          15877.082338536884,
          15720.055402509948,
          15573.732476277932,
          15446.799510254055,
          15335.234159779615,
          15235.65564738292,
          15144.18487909397,
          15061.281297826752,
          14986.246403428222,
          14918.48668503214,
          14856.61371288644,
          14799.581573308846,
          14746.475359657177,
          14694.869299051117,
          14650.858891949802,
          14609.055402509948,
          14569.753290480563,
          14531.44475053566,
          14496.562901744719,
          14464.164677073768,
          14431.737985919804,
          14403.078665442301,
          14375.7661463116,
          14351.373431282522,
          14327.429139883685,
          14307.443526170799,
          14284.48607284971,
          14263.718089990818,
          14243.719926538108,
          14225.824915824916,
          14209.018059381695,
          14192.922558922559,
          14178.31313131313,
          14162.8729721457,
          14147.539638812366,
          14133.354147535965,
          14120.7217630854,
          14107.90909090909,
          14096.285583103765,
          14084.607591062137,
          14072.448729721456,
          14061.927150290787,
          14051.531680440772,
          14042.107744107743,
          14032.342516069788,
          14024.569329660239,
          14014.821854912763,
          14006.894398530761,
          13999.283134374044,
          13969.504132231405,
          13961.856137128865,
          13954.723293541476,
          13947.52678298133,
          13941.506580961126,
          13934.013468013469,
          13927.497092133455,
          13921.10223446587,
          13914.98285889195,
          13909.195592286502,
          13904.122742577289,
          13899.270584634221,
          13894.171104989287,
          13889.40404040404,
          13884.740128558311,
          13880.52096724824,
          13876.014080195899,
          13870.767370676462,
          13866.148148148148,
          13860.894398530761,
          13856.65564738292,
          13852.791551882461,
          13848.5947352311,
          13844.374043464952,
          13840.574227119681,
          13837.311294765841,
          13833.68931741659,
          13829.638200183655,
          13826.261401897766,
          13822.977655341292,
          13820.379859198041,
          13817.620140801959,
          13814.228344046525,
          13810.970921334558,
          13808.020814202633,
          13805.643709825528,
          13802.830731558004
         ],
         "yaxis": "y2"
        },
        {
         "line": {
          "color": "red"
         },
         "mode": "lines",
         "name": "FPDE",
         "showlegend": false,
         "type": "scatter",
         "x": [
          0,
          1,
          2,
          3,
          4,
          5,
          6,
          7,
          8,
          9,
          10,
          11,
          12,
          13,
          14,
          15,
          16,
          17,
          18,
          19,
          20,
          21,
          22,
          23,
          24,
          25,
          26,
          27,
          28,
          29,
          30,
          31,
          32,
          33,
          34,
          35,
          36,
          37,
          38,
          39,
          40,
          41,
          42,
          43,
          44,
          45,
          46,
          47,
          48,
          49,
          50,
          51,
          52,
          53,
          54,
          55,
          56,
          57,
          58,
          59,
          60,
          61,
          62,
          63,
          64,
          65,
          66,
          67,
          68,
          69,
          70,
          71,
          72,
          73,
          74,
          75,
          76,
          77,
          78,
          79,
          80,
          81,
          82,
          83,
          84,
          85,
          86,
          87,
          88,
          89,
          90,
          91,
          92,
          93,
          94,
          95,
          96,
          97,
          98,
          99
         ],
         "xaxis": "x2",
         "y": [
          1.797173408813561,
          1.427516804787098,
          1.2526768131604304,
          0.930174875148564,
          0.8412548205794232,
          0.7984327312354437,
          0.7763931191506659,
          0.7641737417781967,
          0.7564556317865275,
          0.7523914058262776,
          0.7493892778341156,
          0.7492102812641273,
          0.7485825565136951,
          0.7520142087413101,
          0.755609954426368,
          0.7621471354692685,
          0.7667484002193592,
          0.7719530348160543,
          0.7756829748965922,
          0.7773684346690787,
          0.7785069469733706,
          0.7791010066386065,
          0.7825930455217428,
          0.7853507499894005,
          0.7885820243112276,
          0.7906667264902133,
          0.7927743879383039,
          0.7947275577880525,
          0.7992451676597766,
          0.8032723320180829,
          0.8070745269454821,
          0.8098671196264382,
          0.8132492743404288,
          0.8163344902376867,
          0.8195203978397138,
          0.8215462686175528,
          0.8237356615839069,
          0.8249934844882455,
          0.8267800061923761,
          0.8287747365035999,
          0.8303320342894409,
          0.8314704955928195,
          0.8324632226869557,
          0.8347280082903396,
          0.8374295525880489,
          0.8399075003439401,
          0.8429076662617309,
          0.8437074922399975,
          0.8461955073333741,
          0.845988902486886,
          0.8475398809620766,
          0.8468749658067148,
          0.846656677282,
          0.8465453680622232,
          0.847537097923749,
          0.849741640295838,
          0.8521665839218175,
          0.8539437671492781,
          0.8553397876672654,
          0.8553477933832133,
          0.8561680422856625,
          0.8560154308107087,
          0.8573632561193228,
          0.8590977230069061,
          0.8629900778771068,
          0.8647188742048667,
          0.8663302964864839,
          0.8662263246745853,
          0.8676822121270421,
          0.8674759072027444,
          0.8681488214704833,
          0.869132235221541,
          0.870289960875909,
          0.869952813622174,
          0.8702525081157707,
          0.8699634603396399,
          0.8708736835645118,
          0.8703747940181158,
          0.8705183089338892,
          0.8695675858610942,
          0.8699170349139863,
          0.8705724513993829,
          0.870884005586391,
          0.8719795021355562,
          0.8723585774228729,
          0.8729833418124194,
          0.8727357590461461,
          0.8730845070132428,
          0.8735948698174091,
          0.8730797332183665,
          0.8723923408812668,
          0.8725980648914217,
          0.8723246798386146,
          0.872144208711224,
          0.8721427750159189,
          0.8731123280047729,
          0.8740719110421381,
          0.8737497418081244,
          0.8730494403968022,
          0.8719592091883287
         ],
         "yaxis": "y3"
        },
        {
         "line": {
          "color": "green",
          "dash": "dash"
         },
         "mode": "lines",
         "name": "Average size (bits)",
         "showlegend": false,
         "type": "scatter",
         "x": [
          0,
          1,
          2,
          3,
          4,
          5,
          6,
          7,
          8,
          9,
          10,
          11,
          12,
          13,
          14,
          15,
          16,
          17,
          18,
          19,
          20,
          21,
          22,
          23,
          24,
          25,
          26,
          27,
          28,
          29,
          30,
          31,
          32,
          33,
          34,
          35,
          36,
          37,
          38,
          39,
          40,
          41,
          42,
          43,
          44,
          45,
          46,
          47,
          48,
          49,
          50,
          51,
          52,
          53,
          54,
          55,
          56,
          57,
          58,
          59,
          60,
          61,
          62,
          63,
          64,
          65,
          66,
          67,
          68,
          69,
          70,
          71,
          72,
          73,
          74,
          75,
          76,
          77,
          78,
          79,
          80,
          81,
          82,
          83,
          84,
          85,
          86,
          87,
          88,
          89,
          90,
          91,
          92,
          93,
          94,
          95,
          96,
          97,
          98,
          99
         ],
         "xaxis": "x2",
         "y": [
          5320.677544677545,
          3339.5648795648794,
          2673.5198135198134,
          2345.184926184926,
          2145.6884226884226,
          2011.9005439005439,
          1919.4459984459984,
          1846.1973581973582,
          1791.6083916083917,
          1746.101787101787,
          1710.4700854700855,
          1680.5524475524476,
          1656.063714063714,
          1636.2245532245531,
          1614.3628593628594,
          1597.7972027972028,
          1583.2027972027972,
          1570.3970473970473,
          1558.856254856255,
          1549.3581973581975,
          1540.4630924630924,
          1532.8438228438229,
          1525.003885003885,
          1518.4087024087023,
          1512.7272727272727,
          1507.5167055167055,
          1503.963480963481,
          1498.5578865578866,
          1492.989121989122,
          1487.4405594405594,
          1482.959595959596,
          1477.3986013986014,
          1473.066045066045,
          1470.3030303030303,
          1466.5633255633256,
          1463.126651126651,
          1460.5291375291376,
          1457.4654234654236,
          1454.967365967366,
          1452.7917637917637,
          1450.5345765345764,
          1448.2393162393162,
          1446.6519036519037,
          1444.3022533022533,
          1442.067599067599,
          1440.030303030303,
          1438.3838383838383,
          1437.166278166278,
          1435.4483294483296,
          1434.6138306138307,
          1433.1476301476303,
          1432.3457653457654,
          1431.7847707847707,
          1430.9254079254079,
          1430.062937062937,
          1428.7109557109557,
          1427.6689976689977,
          1426.8702408702409,
          1426.039627039627,
          1425.158508158508,
          1424.5167055167055,
          1423.3620823620824,
          1422.5982905982905,
          1420.7894327894328,
          1419.986013986014,
          1419.3628593628594,
          1418.8267288267289,
          1418.088578088578,
          1417.5190365190365,
          1416.864024864025,
          1416.4778554778554,
          1415.7451437451437,
          1415.3846153846155,
          1415.024864024864,
          1414.5252525252524,
          1414.2292152292152,
          1414.0784770784771,
          1413.5780885780887,
          1413.2867132867134,
          1412.956487956488,
          1412.7505827505827,
          1412.5151515151515,
          1412.2167832167831,
          1411.7715617715617,
          1411.6503496503497,
          1411.3543123543122,
          1411.20202020202,
          1410.995337995338,
          1410.7871017871018,
          1410.6651126651127,
          1410.4234654234654,
          1410.2742812742813,
          1410.122766122766,
          1410.0652680652681,
          1409.7948717948718,
          1409.7637917637917,
          1409.7031857031857,
          1409.4669774669774,
          1409.4669774669774,
          1409.4669774669774
         ],
         "yaxis": "y4"
        },
        {
         "line": {
          "color": "red"
         },
         "mode": "lines",
         "name": "FPDE",
         "showlegend": false,
         "type": "scatter",
         "x": [
          0,
          1,
          2,
          3,
          4,
          5,
          6,
          7,
          8,
          9,
          10,
          11,
          12,
          13,
          14,
          15,
          16,
          17,
          18,
          19,
          20,
          21,
          22,
          23,
          24,
          25,
          26,
          27,
          28,
          29,
          30,
          31,
          32,
          33,
          34,
          35,
          36,
          37,
          38,
          39,
          40,
          41,
          42,
          43,
          44,
          45,
          46,
          47,
          48,
          49,
          50,
          51,
          52,
          53,
          54,
          55,
          56,
          57,
          58,
          59,
          60,
          61,
          62,
          63,
          64,
          65,
          66,
          67,
          68,
          69,
          70,
          71,
          72,
          73,
          74,
          75,
          76,
          77,
          78,
          79,
          80,
          81,
          82,
          83,
          84,
          85,
          86,
          87,
          88,
          89,
          90,
          91,
          92,
          93,
          94,
          95,
          96,
          97,
          98,
          99
         ],
         "xaxis": "x3",
         "y": [
          1.4184386839186205,
          1.2059326634385572,
          1.12089916947654,
          0.9567592094094027,
          0.9361973794865798,
          0.9291170942711902,
          0.9291758456508413,
          0.9288095844226212,
          0.9306086936806005,
          0.9337317524478689,
          0.93601904492859,
          0.938120092250875,
          0.9404756116804761,
          0.9421095126956066,
          0.9437634347898088,
          0.9448144350640592,
          0.9465207338697205,
          0.9478083495978368,
          0.9488183835242544,
          0.9494563833022681,
          0.9493076952116871,
          0.9500741750362708,
          0.9510568035307921,
          0.9517470846570507,
          0.9515470232795155,
          0.9513549382157255,
          0.9506751124949657,
          0.9500871783227639,
          0.9490758755207801,
          0.9495248306635679,
          0.9494722409995235,
          0.9503707168524578,
          0.9489002556752847,
          0.9485791696393129,
          0.9474596287513116,
          0.9477953348825502,
          0.9479029374393214,
          0.9484306529806156,
          0.9481773803101587,
          0.9484343027703702,
          0.948041433085848,
          0.9483395603831101,
          0.9476653867548513,
          0.9472738803078496,
          0.9477122217468955,
          0.9484550725751492,
          0.9484015134031428,
          0.9477006470053064,
          0.9475371200397219,
          0.9474591713470536,
          0.9473832843020599,
          0.9469589565467463,
          0.9470247428035328,
          0.9473958082377661,
          0.9476643714595582,
          0.947685406498911,
          0.9473127345391105,
          0.9469767881326252,
          0.9468589878639116,
          0.9472080153574695,
          0.9469753548971352,
          0.9470169487641389,
          0.946545916920201,
          0.9466744875401748,
          0.9465569482303867,
          0.9471433648808828,
          0.9469606195848493,
          0.9471090810840644,
          0.9465204462285786,
          0.9465767139972777,
          0.9462983477041584,
          0.9465505011828511,
          0.9464310995031129,
          0.9460986670758875,
          0.9457339191568653,
          0.9457759894159791,
          0.946169946757098,
          0.9462553136830513,
          0.9465155930420281,
          0.946714126344041,
          0.9466503601871658,
          0.9471071665944922,
          0.946992241050386,
          0.9469858326911608,
          0.9466288278555366,
          0.9466970335434345,
          0.9464627099908746,
          0.9460863557950959,
          0.9457558255266155,
          0.9461354819938782,
          0.9462085872961037,
          0.9465696049006449,
          0.9467238980696268,
          0.9471639125864328,
          0.9469753685990566,
          0.9465362425242648,
          0.9458868599307962,
          0.9456477165219058,
          0.9458987486890503,
          0.9459906933404504
         ],
         "yaxis": "y5"
        },
        {
         "line": {
          "color": "green",
          "dash": "dash"
         },
         "mode": "lines",
         "name": "Average size (bits)",
         "showlegend": false,
         "type": "scatter",
         "x": [
          0,
          1,
          2,
          3,
          4,
          5,
          6,
          7,
          8,
          9,
          10,
          11,
          12,
          13,
          14,
          15,
          16,
          17,
          18,
          19,
          20,
          21,
          22,
          23,
          24,
          25,
          26,
          27,
          28,
          29,
          30,
          31,
          32,
          33,
          34,
          35,
          36,
          37,
          38,
          39,
          40,
          41,
          42,
          43,
          44,
          45,
          46,
          47,
          48,
          49,
          50,
          51,
          52,
          53,
          54,
          55,
          56,
          57,
          58,
          59,
          60,
          61,
          62,
          63,
          64,
          65,
          66,
          67,
          68,
          69,
          70,
          71,
          72,
          73,
          74,
          75,
          76,
          77,
          78,
          79,
          80,
          81,
          82,
          83,
          84,
          85,
          86,
          87,
          88,
          89,
          90,
          91,
          92,
          93,
          94,
          95,
          96,
          97,
          98,
          99
         ],
         "xaxis": "x3",
         "y": [
          1095.8578914535246,
          707.8605115408609,
          588.5604491578291,
          515.0012476606363,
          479.8263256394261,
          453.8552713661884,
          436.23231441048034,
          423.259139114161,
          413.92464129756706,
          406.5606986899563,
          400.5129132875858,
          394.9077978789769,
          390.2228321896444,
          386.31041796631314,
          384.0548970679975,
          381.8696194635059,
          379.94560199625704,
          377.83194011228943,
          376.3315034310667,
          374.8694946974423,
          373.2326887086712,
          372.044915782907,
          370.8235807860262,
          369.90917030567687,
          368.8220835932626,
          368.05427323767935,
          367.501684341859,
          366.87785402370554,
          366.71728009981285,
          366.71728009981285,
          366.71728009981285,
          366.97105427323766,
          366.97105427323766,
          366.97105427323766,
          366.97105427323766,
          366.97105427323766,
          366.97105427323766,
          366.97105427323766,
          366.97105427323766,
          366.97105427323766,
          366.97105427323766,
          366.97105427323766,
          366.97105427323766,
          366.97105427323766,
          366.97105427323766,
          366.97105427323766,
          366.97105427323766,
          366.97105427323766,
          366.97105427323766,
          366.97105427323766,
          366.97105427323766,
          366.97105427323766,
          366.97105427323766,
          366.97105427323766,
          366.97105427323766,
          366.97105427323766,
          366.97105427323766,
          366.97105427323766,
          366.97105427323766,
          366.97105427323766,
          366.97105427323766,
          366.97105427323766,
          366.97105427323766,
          367.0365564566438,
          367.0365564566438,
          367.0365564566438,
          367.0365564566438,
          367.0365564566438,
          367.0365564566438,
          367.0365564566438,
          367.0365564566438,
          367.0365564566438,
          367.0365564566438,
          367.0365564566438,
          367.0365564566438,
          367.0365564566438,
          367.0365564566438,
          367.0365564566438,
          367.0365564566438,
          367.0365564566438,
          367.0365564566438,
          367.0365564566438,
          367.0365564566438,
          367.0365564566438,
          367.0365564566438,
          367.0365564566438,
          367.0365564566438,
          367.0365564566438,
          367.0365564566438,
          367.0365564566438,
          367.0365564566438,
          367.0365564566438,
          367.0365564566438,
          367.0365564566438,
          367.0365564566438,
          367.0365564566438,
          367.0365564566438,
          367.0365564566438,
          367.0365564566438,
          367.0365564566438
         ],
         "yaxis": "y6"
        }
       ],
       "layout": {
        "annotations": [
         {
          "font": {
           "size": 16
          },
          "showarrow": false,
          "text": "Geometry Sizes=Large",
          "x": 0.47,
          "xanchor": "center",
          "xref": "paper",
          "y": 1,
          "yanchor": "bottom",
          "yref": "paper"
         },
         {
          "font": {
           "size": 16
          },
          "showarrow": false,
          "text": "Geometry Sizes=Medium",
          "x": 0.47,
          "xanchor": "center",
          "xref": "paper",
          "y": 0.6433333333333333,
          "yanchor": "bottom",
          "yref": "paper"
         },
         {
          "font": {
           "size": 16
          },
          "showarrow": false,
          "text": "Geometry Sizes=Small",
          "x": 0.47,
          "xanchor": "center",
          "xref": "paper",
          "y": 0.2866666666666667,
          "yanchor": "bottom",
          "yref": "paper"
         },
         {
          "font": {
           "size": 16
          },
          "showarrow": false,
          "text": "Min=23",
          "textangle": -90,
          "x": 23,
          "xanchor": "center",
          "xref": "x",
          "y": 0.5,
          "yanchor": "middle",
          "yref": "y domain"
         },
         {
          "font": {
           "size": 16
          },
          "showarrow": false,
          "text": "Min=12",
          "textangle": -90,
          "x": 12,
          "xanchor": "center",
          "xref": "x2",
          "y": 0.5,
          "yanchor": "middle",
          "yref": "y3 domain"
         },
         {
          "font": {
           "size": 16
          },
          "showarrow": false,
          "text": "Min=7",
          "textangle": -90,
          "x": 7,
          "xanchor": "center",
          "xref": "x3",
          "y": 0.5,
          "yanchor": "middle",
          "yref": "y5 domain"
         },
         {
          "font": {
           "size": 20
          },
          "showarrow": false,
          "text": "Max Chunk Size",
          "x": 0.48,
          "xanchor": "center",
          "xref": "paper",
          "y": -0.04,
          "yanchor": "top",
          "yref": "paper"
         },
         {
          "font": {
           "size": 20
          },
          "showarrow": false,
          "text": "Mean Size (bits)",
          "textangle": -90,
          "x": 1.01,
          "xanchor": "center",
          "xref": "paper",
          "y": 0.5,
          "yanchor": "middle",
          "yref": "paper"
         },
         {
          "font": {
           "size": 20
          },
          "showarrow": false,
          "text": "Relative Mean Execution Time (%)",
          "textangle": -90,
          "x": -0.07,
          "xanchor": "center",
          "xref": "paper",
          "y": 0.5,
          "yanchor": "middle",
          "yref": "paper"
         }
        ],
        "height": 1000,
        "legend": {
         "font": {
          "size": 15
         },
         "orientation": "h",
         "x": 0.7,
         "xanchor": "left",
         "y": -0.037,
         "yanchor": "top"
        },
        "shapes": [
         {
          "fillcolor": "green",
          "line": {
           "width": 0
          },
          "opacity": 0.25,
          "type": "rect",
          "x0": 22,
          "x1": 24,
          "xref": "x",
          "y0": 0,
          "y1": 1,
          "yref": "y domain"
         },
         {
          "fillcolor": "green",
          "line": {
           "width": 0
          },
          "opacity": 0.25,
          "type": "rect",
          "x0": 11,
          "x1": 13,
          "xref": "x2",
          "y0": 0,
          "y1": 1,
          "yref": "y3 domain"
         },
         {
          "fillcolor": "green",
          "line": {
           "width": 0
          },
          "opacity": 0.25,
          "type": "rect",
          "x0": 6,
          "x1": 8,
          "xref": "x3",
          "y0": 0,
          "y1": 1,
          "yref": "y5 domain"
         }
        ],
        "template": {
         "data": {
          "bar": [
           {
            "error_x": {
             "color": "#2a3f5f"
            },
            "error_y": {
             "color": "#2a3f5f"
            },
            "marker": {
             "line": {
              "color": "#E5ECF6",
              "width": 0.5
             },
             "pattern": {
              "fillmode": "overlay",
              "size": 10,
              "solidity": 0.2
             }
            },
            "type": "bar"
           }
          ],
          "barpolar": [
           {
            "marker": {
             "line": {
              "color": "#E5ECF6",
              "width": 0.5
             },
             "pattern": {
              "fillmode": "overlay",
              "size": 10,
              "solidity": 0.2
             }
            },
            "type": "barpolar"
           }
          ],
          "carpet": [
           {
            "aaxis": {
             "endlinecolor": "#2a3f5f",
             "gridcolor": "white",
             "linecolor": "white",
             "minorgridcolor": "white",
             "startlinecolor": "#2a3f5f"
            },
            "baxis": {
             "endlinecolor": "#2a3f5f",
             "gridcolor": "white",
             "linecolor": "white",
             "minorgridcolor": "white",
             "startlinecolor": "#2a3f5f"
            },
            "type": "carpet"
           }
          ],
          "choropleth": [
           {
            "colorbar": {
             "outlinewidth": 0,
             "ticks": ""
            },
            "type": "choropleth"
           }
          ],
          "contour": [
           {
            "colorbar": {
             "outlinewidth": 0,
             "ticks": ""
            },
            "colorscale": [
             [
              0,
              "#0d0887"
             ],
             [
              0.1111111111111111,
              "#46039f"
             ],
             [
              0.2222222222222222,
              "#7201a8"
             ],
             [
              0.3333333333333333,
              "#9c179e"
             ],
             [
              0.4444444444444444,
              "#bd3786"
             ],
             [
              0.5555555555555556,
              "#d8576b"
             ],
             [
              0.6666666666666666,
              "#ed7953"
             ],
             [
              0.7777777777777778,
              "#fb9f3a"
             ],
             [
              0.8888888888888888,
              "#fdca26"
             ],
             [
              1,
              "#f0f921"
             ]
            ],
            "type": "contour"
           }
          ],
          "contourcarpet": [
           {
            "colorbar": {
             "outlinewidth": 0,
             "ticks": ""
            },
            "type": "contourcarpet"
           }
          ],
          "heatmap": [
           {
            "colorbar": {
             "outlinewidth": 0,
             "ticks": ""
            },
            "colorscale": [
             [
              0,
              "#0d0887"
             ],
             [
              0.1111111111111111,
              "#46039f"
             ],
             [
              0.2222222222222222,
              "#7201a8"
             ],
             [
              0.3333333333333333,
              "#9c179e"
             ],
             [
              0.4444444444444444,
              "#bd3786"
             ],
             [
              0.5555555555555556,
              "#d8576b"
             ],
             [
              0.6666666666666666,
              "#ed7953"
             ],
             [
              0.7777777777777778,
              "#fb9f3a"
             ],
             [
              0.8888888888888888,
              "#fdca26"
             ],
             [
              1,
              "#f0f921"
             ]
            ],
            "type": "heatmap"
           }
          ],
          "heatmapgl": [
           {
            "colorbar": {
             "outlinewidth": 0,
             "ticks": ""
            },
            "colorscale": [
             [
              0,
              "#0d0887"
             ],
             [
              0.1111111111111111,
              "#46039f"
             ],
             [
              0.2222222222222222,
              "#7201a8"
             ],
             [
              0.3333333333333333,
              "#9c179e"
             ],
             [
              0.4444444444444444,
              "#bd3786"
             ],
             [
              0.5555555555555556,
              "#d8576b"
             ],
             [
              0.6666666666666666,
              "#ed7953"
             ],
             [
              0.7777777777777778,
              "#fb9f3a"
             ],
             [
              0.8888888888888888,
              "#fdca26"
             ],
             [
              1,
              "#f0f921"
             ]
            ],
            "type": "heatmapgl"
           }
          ],
          "histogram": [
           {
            "marker": {
             "pattern": {
              "fillmode": "overlay",
              "size": 10,
              "solidity": 0.2
             }
            },
            "type": "histogram"
           }
          ],
          "histogram2d": [
           {
            "colorbar": {
             "outlinewidth": 0,
             "ticks": ""
            },
            "colorscale": [
             [
              0,
              "#0d0887"
             ],
             [
              0.1111111111111111,
              "#46039f"
             ],
             [
              0.2222222222222222,
              "#7201a8"
             ],
             [
              0.3333333333333333,
              "#9c179e"
             ],
             [
              0.4444444444444444,
              "#bd3786"
             ],
             [
              0.5555555555555556,
              "#d8576b"
             ],
             [
              0.6666666666666666,
              "#ed7953"
             ],
             [
              0.7777777777777778,
              "#fb9f3a"
             ],
             [
              0.8888888888888888,
              "#fdca26"
             ],
             [
              1,
              "#f0f921"
             ]
            ],
            "type": "histogram2d"
           }
          ],
          "histogram2dcontour": [
           {
            "colorbar": {
             "outlinewidth": 0,
             "ticks": ""
            },
            "colorscale": [
             [
              0,
              "#0d0887"
             ],
             [
              0.1111111111111111,
              "#46039f"
             ],
             [
              0.2222222222222222,
              "#7201a8"
             ],
             [
              0.3333333333333333,
              "#9c179e"
             ],
             [
              0.4444444444444444,
              "#bd3786"
             ],
             [
              0.5555555555555556,
              "#d8576b"
             ],
             [
              0.6666666666666666,
              "#ed7953"
             ],
             [
              0.7777777777777778,
              "#fb9f3a"
             ],
             [
              0.8888888888888888,
              "#fdca26"
             ],
             [
              1,
              "#f0f921"
             ]
            ],
            "type": "histogram2dcontour"
           }
          ],
          "mesh3d": [
           {
            "colorbar": {
             "outlinewidth": 0,
             "ticks": ""
            },
            "type": "mesh3d"
           }
          ],
          "parcoords": [
           {
            "line": {
             "colorbar": {
              "outlinewidth": 0,
              "ticks": ""
             }
            },
            "type": "parcoords"
           }
          ],
          "pie": [
           {
            "automargin": true,
            "type": "pie"
           }
          ],
          "scatter": [
           {
            "fillpattern": {
             "fillmode": "overlay",
             "size": 10,
             "solidity": 0.2
            },
            "type": "scatter"
           }
          ],
          "scatter3d": [
           {
            "line": {
             "colorbar": {
              "outlinewidth": 0,
              "ticks": ""
             }
            },
            "marker": {
             "colorbar": {
              "outlinewidth": 0,
              "ticks": ""
             }
            },
            "type": "scatter3d"
           }
          ],
          "scattercarpet": [
           {
            "marker": {
             "colorbar": {
              "outlinewidth": 0,
              "ticks": ""
             }
            },
            "type": "scattercarpet"
           }
          ],
          "scattergeo": [
           {
            "marker": {
             "colorbar": {
              "outlinewidth": 0,
              "ticks": ""
             }
            },
            "type": "scattergeo"
           }
          ],
          "scattergl": [
           {
            "marker": {
             "colorbar": {
              "outlinewidth": 0,
              "ticks": ""
             }
            },
            "type": "scattergl"
           }
          ],
          "scattermapbox": [
           {
            "marker": {
             "colorbar": {
              "outlinewidth": 0,
              "ticks": ""
             }
            },
            "type": "scattermapbox"
           }
          ],
          "scatterpolar": [
           {
            "marker": {
             "colorbar": {
              "outlinewidth": 0,
              "ticks": ""
             }
            },
            "type": "scatterpolar"
           }
          ],
          "scatterpolargl": [
           {
            "marker": {
             "colorbar": {
              "outlinewidth": 0,
              "ticks": ""
             }
            },
            "type": "scatterpolargl"
           }
          ],
          "scatterternary": [
           {
            "marker": {
             "colorbar": {
              "outlinewidth": 0,
              "ticks": ""
             }
            },
            "type": "scatterternary"
           }
          ],
          "surface": [
           {
            "colorbar": {
             "outlinewidth": 0,
             "ticks": ""
            },
            "colorscale": [
             [
              0,
              "#0d0887"
             ],
             [
              0.1111111111111111,
              "#46039f"
             ],
             [
              0.2222222222222222,
              "#7201a8"
             ],
             [
              0.3333333333333333,
              "#9c179e"
             ],
             [
              0.4444444444444444,
              "#bd3786"
             ],
             [
              0.5555555555555556,
              "#d8576b"
             ],
             [
              0.6666666666666666,
              "#ed7953"
             ],
             [
              0.7777777777777778,
              "#fb9f3a"
             ],
             [
              0.8888888888888888,
              "#fdca26"
             ],
             [
              1,
              "#f0f921"
             ]
            ],
            "type": "surface"
           }
          ],
          "table": [
           {
            "cells": {
             "fill": {
              "color": "#EBF0F8"
             },
             "line": {
              "color": "white"
             }
            },
            "header": {
             "fill": {
              "color": "#C8D4E3"
             },
             "line": {
              "color": "white"
             }
            },
            "type": "table"
           }
          ]
         },
         "layout": {
          "annotationdefaults": {
           "arrowcolor": "#2a3f5f",
           "arrowhead": 0,
           "arrowwidth": 1
          },
          "autotypenumbers": "strict",
          "coloraxis": {
           "colorbar": {
            "outlinewidth": 0,
            "ticks": ""
           }
          },
          "colorscale": {
           "diverging": [
            [
             0,
             "#8e0152"
            ],
            [
             0.1,
             "#c51b7d"
            ],
            [
             0.2,
             "#de77ae"
            ],
            [
             0.3,
             "#f1b6da"
            ],
            [
             0.4,
             "#fde0ef"
            ],
            [
             0.5,
             "#f7f7f7"
            ],
            [
             0.6,
             "#e6f5d0"
            ],
            [
             0.7,
             "#b8e186"
            ],
            [
             0.8,
             "#7fbc41"
            ],
            [
             0.9,
             "#4d9221"
            ],
            [
             1,
             "#276419"
            ]
           ],
           "sequential": [
            [
             0,
             "#0d0887"
            ],
            [
             0.1111111111111111,
             "#46039f"
            ],
            [
             0.2222222222222222,
             "#7201a8"
            ],
            [
             0.3333333333333333,
             "#9c179e"
            ],
            [
             0.4444444444444444,
             "#bd3786"
            ],
            [
             0.5555555555555556,
             "#d8576b"
            ],
            [
             0.6666666666666666,
             "#ed7953"
            ],
            [
             0.7777777777777778,
             "#fb9f3a"
            ],
            [
             0.8888888888888888,
             "#fdca26"
            ],
            [
             1,
             "#f0f921"
            ]
           ],
           "sequentialminus": [
            [
             0,
             "#0d0887"
            ],
            [
             0.1111111111111111,
             "#46039f"
            ],
            [
             0.2222222222222222,
             "#7201a8"
            ],
            [
             0.3333333333333333,
             "#9c179e"
            ],
            [
             0.4444444444444444,
             "#bd3786"
            ],
            [
             0.5555555555555556,
             "#d8576b"
            ],
            [
             0.6666666666666666,
             "#ed7953"
            ],
            [
             0.7777777777777778,
             "#fb9f3a"
            ],
            [
             0.8888888888888888,
             "#fdca26"
            ],
            [
             1,
             "#f0f921"
            ]
           ]
          },
          "colorway": [
           "#636efa",
           "#EF553B",
           "#00cc96",
           "#ab63fa",
           "#FFA15A",
           "#19d3f3",
           "#FF6692",
           "#B6E880",
           "#FF97FF",
           "#FECB52"
          ],
          "font": {
           "color": "#2a3f5f"
          },
          "geo": {
           "bgcolor": "white",
           "lakecolor": "white",
           "landcolor": "#E5ECF6",
           "showlakes": true,
           "showland": true,
           "subunitcolor": "white"
          },
          "hoverlabel": {
           "align": "left"
          },
          "hovermode": "closest",
          "mapbox": {
           "style": "light"
          },
          "paper_bgcolor": "white",
          "plot_bgcolor": "#E5ECF6",
          "polar": {
           "angularaxis": {
            "gridcolor": "white",
            "linecolor": "white",
            "ticks": ""
           },
           "bgcolor": "#E5ECF6",
           "radialaxis": {
            "gridcolor": "white",
            "linecolor": "white",
            "ticks": ""
           }
          },
          "scene": {
           "xaxis": {
            "backgroundcolor": "#E5ECF6",
            "gridcolor": "white",
            "gridwidth": 2,
            "linecolor": "white",
            "showbackground": true,
            "ticks": "",
            "zerolinecolor": "white"
           },
           "yaxis": {
            "backgroundcolor": "#E5ECF6",
            "gridcolor": "white",
            "gridwidth": 2,
            "linecolor": "white",
            "showbackground": true,
            "ticks": "",
            "zerolinecolor": "white"
           },
           "zaxis": {
            "backgroundcolor": "#E5ECF6",
            "gridcolor": "white",
            "gridwidth": 2,
            "linecolor": "white",
            "showbackground": true,
            "ticks": "",
            "zerolinecolor": "white"
           }
          },
          "shapedefaults": {
           "line": {
            "color": "#2a3f5f"
           }
          },
          "ternary": {
           "aaxis": {
            "gridcolor": "white",
            "linecolor": "white",
            "ticks": ""
           },
           "baxis": {
            "gridcolor": "white",
            "linecolor": "white",
            "ticks": ""
           },
           "bgcolor": "#E5ECF6",
           "caxis": {
            "gridcolor": "white",
            "linecolor": "white",
            "ticks": ""
           }
          },
          "title": {
           "x": 0.05
          },
          "xaxis": {
           "automargin": true,
           "gridcolor": "white",
           "linecolor": "white",
           "ticks": "",
           "title": {
            "standoff": 15
           },
           "zerolinecolor": "white",
           "zerolinewidth": 2
          },
          "yaxis": {
           "automargin": true,
           "gridcolor": "white",
           "linecolor": "white",
           "ticks": "",
           "title": {
            "standoff": 15
           },
           "zerolinecolor": "white",
           "zerolinewidth": 2
          }
         }
        },
        "title": {
         "font": {
          "size": 22
         },
         "text": "Relative Execution Time for Intersection by Max Chunk Size ",
         "x": 0.5
        },
        "width": 1000,
        "xaxis": {
         "anchor": "y",
         "domain": [
          0,
          0.94
         ],
         "tickfont": {
          "size": 16
         },
         "title": {
          "text": ""
         }
        },
        "xaxis2": {
         "anchor": "y3",
         "domain": [
          0,
          0.94
         ],
         "tickfont": {
          "size": 16
         },
         "title": {
          "text": ""
         }
        },
        "xaxis3": {
         "anchor": "y5",
         "domain": [
          0,
          0.94
         ],
         "tickfont": {
          "size": 16
         },
         "title": {
          "text": ""
         }
        },
        "yaxis": {
         "anchor": "x",
         "domain": [
          0.7133333333333334,
          1
         ],
         "tickfont": {
          "size": 16
         },
         "title": {
          "text": ""
         },
         "type": "log"
        },
        "yaxis2": {
         "anchor": "x",
         "overlaying": "y",
         "side": "right",
         "tickfont": {
          "size": 16
         },
         "title": {
          "text": ""
         },
         "type": "log"
        },
        "yaxis3": {
         "anchor": "x2",
         "domain": [
          0.3566666666666667,
          0.6433333333333333
         ],
         "tickfont": {
          "size": 16
         },
         "title": {
          "text": ""
         },
         "type": "log"
        },
        "yaxis4": {
         "anchor": "x2",
         "overlaying": "y3",
         "side": "right",
         "tickfont": {
          "size": 16
         },
         "title": {
          "text": ""
         },
         "type": "log"
        },
        "yaxis5": {
         "anchor": "x3",
         "domain": [
          0,
          0.2866666666666667
         ],
         "tickfont": {
          "size": 16
         },
         "title": {
          "text": ""
         },
         "type": "log"
        },
        "yaxis6": {
         "anchor": "x3",
         "overlaying": "y5",
         "side": "right",
         "tickfont": {
          "size": 16
         },
         "title": {
          "text": ""
         },
         "type": "log"
        }
       }
      }
     },
     "metadata": {},
     "output_type": "display_data"
    }
   ],
   "source": [
    "plot_max_delta_size_speed(max_deltas_filt_df, is_predicate=False, no_mixed=True, relative=True)"
   ]
  },
  {
   "attachments": {},
   "cell_type": "markdown",
   "metadata": {},
   "source": [
    "#### Dataset Stats Collection"
   ]
  },
  {
   "cell_type": "code",
   "execution_count": 12,
   "metadata": {},
   "outputs": [
    {
     "name": "stderr",
     "output_type": "stream",
     "text": [
      "100%|██████████| 10000/10000 [10:04<00:00, 16.56it/s]\n",
      "100%|██████████| 10000/10000 [03:24<00:00, 48.82it/s]\n",
      "100%|██████████| 10000/10000 [07:34<00:00, 21.98it/s]\n",
      "100%|██████████| 10000/10000 [01:22<00:00, 121.83it/s]\n"
     ]
    }
   ],
   "source": [
    "if USE_EXISTING_DF:\n",
    "    stats_dfs = []\n",
    "\n",
    "    for dataset in datasets:\n",
    "        stats_df = pd.DataFrame(columns=['decomp', 'nbr_recieved_chks', 'nbr_total_chks', 'total_time', \"sizes\", \"context\", \"delta_size\", \"predicate\", \"dataset_idx\", \"baseline\", \"dataset\"])\n",
    "\n",
    "        dataset, _, dataset_name = dataset\n",
    "        np.random.seed(2021)\n",
    "        indicies = np.random.choice(len(dataset), size=10000, replace=True)\n",
    "        dataset = np.array(dataset)[indicies] \n",
    "        for idx, (g1, g2) in enumerate(tqdm(dataset)):\n",
    "            if g1.equals(g2):\n",
    "                continue\n",
    "            \n",
    "            if g1.geom_type == \"Point\" or g2.geom_type == \"Point\":\n",
    "                continue\n",
    "\n",
    "            for baseline_on in [True, False]:\n",
    "                act_deact_baseline(activate=baseline_on)\n",
    "                \n",
    "\n",
    "                evaluate_dataset(stats_df, delta_size=15 if not baseline_on else 10000000, dataset_name=dataset_name, args=(idx, g1, g2)) # Second param: PLOT?\n",
    "        stats_df.to_csv(f'stats_df_{dataset_name}.csv', index=False)\n",
    "        stats_dfs.append(stats_df)\n",
    "    stats_df = pd.concat(stats_dfs)\n",
    "else:\n",
    "    country_stats_df = pd.read_csv('stats_df_Country Borders2.csv')\n",
    "    china_stats_df = pd.read_csv('stats_df_China Water2.csv')\n",
    "    sweden_stats_df = pd.read_csv('stats_df_Sweden All2.csv')\n",
    "    lund_stats_df = pd.read_csv('stats_df_lund_data2.csv')\n",
    "\n",
    "    stats_df = pd.concat([\n",
    "        china_stats_df, \n",
    "        sweden_stats_df, \n",
    "        lund_stats_df, \n",
    "        country_stats_df\n",
    "        ]\n",
    "    )\n"
   ]
  },
  {
   "cell_type": "markdown",
   "metadata": {},
   "source": [
    "#### Total Execution Time by Context"
   ]
  },
  {
   "attachments": {},
   "cell_type": "markdown",
   "metadata": {},
   "source": [
    "##### Bars"
   ]
  },
  {
   "cell_type": "code",
   "execution_count": 28,
   "metadata": {},
   "outputs": [],
   "source": [
    "def plot_total_time_bars_relative(df, is_predicate=False, size_cat_excl=[], log_scale=True):\n",
    "    display(df[(df['predicate'] == True)])\n",
    "    df = df[(df['predicate'] == False)] #(df['sizes'].isin([\"Small/Small\", \"Medium/Medium\", \"Large/Large\"]))]\n",
    "    #df.reset_index(inplace=True)\n",
    "    baseline_df = df[df['baseline']]\n",
    "    not_baseline_df = df[~df['baseline']]\n",
    " \n",
    "    baseline_df.sort_values(by=['dataset', 'dataset_idx'])\n",
    "    not_baseline_df.sort_values(by=['dataset', 'dataset_idx'])\n",
    "    not_baseline_df['total_time_ratio'] = not_baseline_df['total_time'].values / baseline_df['total_time'].values\n",
    "    df = not_baseline_df\n",
    "    df['frac'] =(df[\"decomp\"].div(df.total_time, axis=0))\n",
    "    df = df.groupby([\"baseline\", \"context\", \"sizes\"])[['frac','total_time_ratio']].mean() \n",
    "    display(df)\n",
    "    df.reset_index(inplace=True)\n",
    "    df['decomp_ratio'] = (df[\"frac\"].mul(df.total_time_ratio, axis=0))\n",
    "    df['intersection_ratio'] = (df[\"total_time_ratio\"].sub(df.decomp_ratio, axis=0))\n",
    "    intersection_formatting = \"Intersection\" if not is_predicate else \"Is_Intersection\"\n",
    "    df = pd.concat([df] * 2, ignore_index=True)\n",
    "\n",
    "    new_column_values = ([\"Decompression\"] * (len(df) // 2))\n",
    "    new_column_values.extend(([\"Intersection\"] * (len(df) // 2)))\n",
    "\n",
    "    df['Stage'] = new_column_values\n",
    "    df['time'] = df.apply(lambda x: x['decomp_ratio'] * 100 if x[\"Stage\"] == \"Decompression\" else x['intersection_ratio'] * 100, axis=1)\n",
    "    df = df[['time', 'context', 'sizes', 'Stage']]\n",
    "    fig = px.bar(df, \n",
    "                       x=\"context\", \n",
    "                       y=\"time\", \n",
    "                       facet_col=\"sizes\", \n",
    "                       color=\"Stage\",\n",
    "                       barmode='group',\n",
    "                       log_y=log_scale, \n",
    "                       facet_col_spacing=0.1, \n",
    "                       title=f\"Execution Time for {intersection_formatting} in Different Contexts & Sizes\",\n",
    "                       labels=dict(sizes=\"Geometry Sizes\", context=\"Context\", baseline=\"Baseline\", Stage=\"Stage: \"),\n",
    "                       facet_col_wrap=3,\n",
    "                       facet_row_spacing=0.1,\n",
    "                       height=1000,\n",
    "                       width=1000,\n",
    "                       pattern_shape='Stage',\n",
    "                       color_discrete_map={\n",
    "                            'Decompression': 'rgb(169,234,184)',\n",
    "                            'Intersection': 'rgb(255,183,180)',\n",
    "                            'Country Borders': 'rgb(254,198,161)'\n",
    "                        }\n",
    "                       #text=\"time\"\n",
    "                       )\n",
    "    fig.update_annotations(font=dict(size=16))\n",
    "    make_general_facet_title(fig, \"Bounding Box Context\", \"Relative Mean Execution Time (%)\", barplot=True)\n",
    "    #fig.for_each_yaxis(lambda yaxis: yaxis.update(showticklabels=True))\n",
    "    fig.update_yaxes(matches=None, showticklabels=True,  tickfont=dict(size=16), range=[0,105])\n",
    "    fig.update_xaxes(tickfont=dict(size=16))\n",
    "    #fig.update_traces(texttemplate='%{text:.2}%', textposition='inside', textfont=dict(color='white'))\n",
    "\n",
    "    fig.update_layout(barmode=\"relative\",\n",
    "                      #title_x=0.5,\n",
    "                      width=1200, \n",
    "                      height=1000, \n",
    "                      legend=dict(\n",
    "                            yanchor=\"top\",\n",
    "                            y=1.15,\n",
    "                            xanchor=\"left\",\n",
    "                            x=0.83,\n",
    "                           #orientation=\"h\",\n",
    "                            font=dict(size=16),\n",
    "                        ),\n",
    "                        title=dict(\n",
    "                            text=f'Mean Relative Execution Time for Intersection in Different Contexts',\n",
    "                            \n",
    "                            font=dict(size=22)\n",
    "                            )\n",
    "                        )\n",
    "\n",
    "    for row in range(2):\n",
    "        for col in range(3):\n",
    "            fig.add_hline(y=100, line_dash=\"dot\", row=row, col=col)\n",
    "\n",
    "   \n",
    "    fig.show()\n"
   ]
  },
  {
   "cell_type": "code",
   "execution_count": 29,
   "metadata": {},
   "outputs": [
    {
     "data": {
      "text/html": [
       "<div>\n",
       "<style scoped>\n",
       "    .dataframe tbody tr th:only-of-type {\n",
       "        vertical-align: middle;\n",
       "    }\n",
       "\n",
       "    .dataframe tbody tr th {\n",
       "        vertical-align: top;\n",
       "    }\n",
       "\n",
       "    .dataframe thead th {\n",
       "        text-align: right;\n",
       "    }\n",
       "</style>\n",
       "<table border=\"1\" class=\"dataframe\">\n",
       "  <thead>\n",
       "    <tr style=\"text-align: right;\">\n",
       "      <th></th>\n",
       "      <th>context</th>\n",
       "      <th>total_time</th>\n",
       "      <th>sizes</th>\n",
       "      <th>baseline</th>\n",
       "      <th>predicate</th>\n",
       "      <th>decomp</th>\n",
       "      <th>dataset</th>\n",
       "      <th>dataset_idx</th>\n",
       "    </tr>\n",
       "  </thead>\n",
       "  <tbody>\n",
       "  </tbody>\n",
       "</table>\n",
       "</div>"
      ],
      "text/plain": [
       "Empty DataFrame\n",
       "Columns: [context, total_time, sizes, baseline, predicate, decomp, dataset, dataset_idx]\n",
       "Index: []"
      ]
     },
     "metadata": {},
     "output_type": "display_data"
    },
    {
     "data": {
      "text/html": [
       "<div>\n",
       "<style scoped>\n",
       "    .dataframe tbody tr th:only-of-type {\n",
       "        vertical-align: middle;\n",
       "    }\n",
       "\n",
       "    .dataframe tbody tr th {\n",
       "        vertical-align: top;\n",
       "    }\n",
       "\n",
       "    .dataframe thead th {\n",
       "        text-align: right;\n",
       "    }\n",
       "</style>\n",
       "<table border=\"1\" class=\"dataframe\">\n",
       "  <thead>\n",
       "    <tr style=\"text-align: right;\">\n",
       "      <th></th>\n",
       "      <th></th>\n",
       "      <th></th>\n",
       "      <th>frac</th>\n",
       "      <th>total_time_ratio</th>\n",
       "    </tr>\n",
       "    <tr>\n",
       "      <th>baseline</th>\n",
       "      <th>context</th>\n",
       "      <th>sizes</th>\n",
       "      <th></th>\n",
       "      <th></th>\n",
       "    </tr>\n",
       "  </thead>\n",
       "  <tbody>\n",
       "    <tr>\n",
       "      <th rowspan=\"18\" valign=\"top\">False</th>\n",
       "      <th rowspan=\"6\" valign=\"top\">Fully Inside Other (TRUE)</th>\n",
       "      <th>Large/Large</th>\n",
       "      <td>0.412119</td>\n",
       "      <td>0.608685</td>\n",
       "    </tr>\n",
       "    <tr>\n",
       "      <th>Medium/Large</th>\n",
       "      <td>0.650561</td>\n",
       "      <td>0.251681</td>\n",
       "    </tr>\n",
       "    <tr>\n",
       "      <th>Medium/Medium</th>\n",
       "      <td>0.390496</td>\n",
       "      <td>0.852918</td>\n",
       "    </tr>\n",
       "    <tr>\n",
       "      <th>Small/Large</th>\n",
       "      <td>0.615114</td>\n",
       "      <td>0.232119</td>\n",
       "    </tr>\n",
       "    <tr>\n",
       "      <th>Small/Medium</th>\n",
       "      <td>0.384348</td>\n",
       "      <td>0.702705</td>\n",
       "    </tr>\n",
       "    <tr>\n",
       "      <th>Small/Small</th>\n",
       "      <td>0.354472</td>\n",
       "      <td>0.918763</td>\n",
       "    </tr>\n",
       "    <tr>\n",
       "      <th rowspan=\"6\" valign=\"top\">Overlap (FALSE)</th>\n",
       "      <th>Large/Large</th>\n",
       "      <td>0.626540</td>\n",
       "      <td>0.118129</td>\n",
       "    </tr>\n",
       "    <tr>\n",
       "      <th>Medium/Large</th>\n",
       "      <td>0.495826</td>\n",
       "      <td>0.283746</td>\n",
       "    </tr>\n",
       "    <tr>\n",
       "      <th>Medium/Medium</th>\n",
       "      <td>0.434962</td>\n",
       "      <td>0.589800</td>\n",
       "    </tr>\n",
       "    <tr>\n",
       "      <th>Small/Large</th>\n",
       "      <td>0.463822</td>\n",
       "      <td>0.264986</td>\n",
       "    </tr>\n",
       "    <tr>\n",
       "      <th>Small/Medium</th>\n",
       "      <td>0.381938</td>\n",
       "      <td>0.579955</td>\n",
       "    </tr>\n",
       "    <tr>\n",
       "      <th>Small/Small</th>\n",
       "      <td>0.387121</td>\n",
       "      <td>0.913274</td>\n",
       "    </tr>\n",
       "    <tr>\n",
       "      <th rowspan=\"6\" valign=\"top\">Partial Overlap (TRUE)</th>\n",
       "      <th>Large/Large</th>\n",
       "      <td>0.166713</td>\n",
       "      <td>0.455845</td>\n",
       "    </tr>\n",
       "    <tr>\n",
       "      <th>Medium/Large</th>\n",
       "      <td>0.195442</td>\n",
       "      <td>0.545516</td>\n",
       "    </tr>\n",
       "    <tr>\n",
       "      <th>Medium/Medium</th>\n",
       "      <td>0.177821</td>\n",
       "      <td>0.748335</td>\n",
       "    </tr>\n",
       "    <tr>\n",
       "      <th>Small/Large</th>\n",
       "      <td>0.249962</td>\n",
       "      <td>0.489204</td>\n",
       "    </tr>\n",
       "    <tr>\n",
       "      <th>Small/Medium</th>\n",
       "      <td>0.183370</td>\n",
       "      <td>0.847283</td>\n",
       "    </tr>\n",
       "    <tr>\n",
       "      <th>Small/Small</th>\n",
       "      <td>0.170715</td>\n",
       "      <td>0.947331</td>\n",
       "    </tr>\n",
       "  </tbody>\n",
       "</table>\n",
       "</div>"
      ],
      "text/plain": [
       "                                                      frac  total_time_ratio\n",
       "baseline context                   sizes                                    \n",
       "False    Fully Inside Other (TRUE) Large/Large    0.412119          0.608685\n",
       "                                   Medium/Large   0.650561          0.251681\n",
       "                                   Medium/Medium  0.390496          0.852918\n",
       "                                   Small/Large    0.615114          0.232119\n",
       "                                   Small/Medium   0.384348          0.702705\n",
       "                                   Small/Small    0.354472          0.918763\n",
       "         Overlap (FALSE)           Large/Large    0.626540          0.118129\n",
       "                                   Medium/Large   0.495826          0.283746\n",
       "                                   Medium/Medium  0.434962          0.589800\n",
       "                                   Small/Large    0.463822          0.264986\n",
       "                                   Small/Medium   0.381938          0.579955\n",
       "                                   Small/Small    0.387121          0.913274\n",
       "         Partial Overlap (TRUE)    Large/Large    0.166713          0.455845\n",
       "                                   Medium/Large   0.195442          0.545516\n",
       "                                   Medium/Medium  0.177821          0.748335\n",
       "                                   Small/Large    0.249962          0.489204\n",
       "                                   Small/Medium   0.183370          0.847283\n",
       "                                   Small/Small    0.170715          0.947331"
      ]
     },
     "metadata": {},
     "output_type": "display_data"
    },
    {
     "data": {
      "application/vnd.plotly.v1+json": {
       "config": {
        "plotlyServerURL": "https://plot.ly"
       },
       "data": [
        {
         "alignmentgroup": "True",
         "hovertemplate": "Stage: =Decompression<br>Geometry Sizes=Large/Large<br>Context=%{x}<br>time=%{y}<extra></extra>",
         "legendgroup": "Decompression",
         "marker": {
          "color": "rgb(169,234,184)",
          "pattern": {
           "shape": ""
          }
         },
         "name": "Decompression",
         "offsetgroup": "Decompression",
         "orientation": "v",
         "showlegend": true,
         "textposition": "auto",
         "type": "bar",
         "x": [
          "Fully Inside Other (TRUE)",
          "Overlap (FALSE)",
          "Partial Overlap (TRUE)"
         ],
         "xaxis": "x4",
         "y": [
          25.085089338961826,
          7.401290910148196,
          7.599551776312429
         ],
         "yaxis": "y4"
        },
        {
         "alignmentgroup": "True",
         "hovertemplate": "Stage: =Decompression<br>Geometry Sizes=Medium/Large<br>Context=%{x}<br>time=%{y}<extra></extra>",
         "legendgroup": "Decompression",
         "marker": {
          "color": "rgb(169,234,184)",
          "pattern": {
           "shape": ""
          }
         },
         "name": "Decompression",
         "offsetgroup": "Decompression",
         "orientation": "v",
         "showlegend": false,
         "textposition": "auto",
         "type": "bar",
         "x": [
          "Fully Inside Other (TRUE)",
          "Overlap (FALSE)",
          "Partial Overlap (TRUE)"
         ],
         "xaxis": "x5",
         "y": [
          16.373373426763564,
          14.06887210619174,
          10.66166065067087
         ],
         "yaxis": "y5"
        },
        {
         "alignmentgroup": "True",
         "hovertemplate": "Stage: =Decompression<br>Geometry Sizes=Medium/Medium<br>Context=%{x}<br>time=%{y}<extra></extra>",
         "legendgroup": "Decompression",
         "marker": {
          "color": "rgb(169,234,184)",
          "pattern": {
           "shape": ""
          }
         },
         "name": "Decompression",
         "offsetgroup": "Decompression",
         "orientation": "v",
         "showlegend": false,
         "textposition": "auto",
         "type": "bar",
         "x": [
          "Fully Inside Other (TRUE)",
          "Overlap (FALSE)",
          "Partial Overlap (TRUE)"
         ],
         "xaxis": "x6",
         "y": [
          33.30611071876217,
          25.65406509455268,
          13.306949210956603
         ],
         "yaxis": "y6"
        },
        {
         "alignmentgroup": "True",
         "hovertemplate": "Stage: =Decompression<br>Geometry Sizes=Small/Large<br>Context=%{x}<br>time=%{y}<extra></extra>",
         "legendgroup": "Decompression",
         "marker": {
          "color": "rgb(169,234,184)",
          "pattern": {
           "shape": ""
          }
         },
         "name": "Decompression",
         "offsetgroup": "Decompression",
         "orientation": "v",
         "showlegend": false,
         "textposition": "auto",
         "type": "bar",
         "x": [
          "Fully Inside Other (TRUE)",
          "Overlap (FALSE)",
          "Partial Overlap (TRUE)"
         ],
         "xaxis": "x",
         "y": [
          14.277977025381583,
          12.290645202826084,
          12.228230399733155
         ],
         "yaxis": "y"
        },
        {
         "alignmentgroup": "True",
         "hovertemplate": "Stage: =Decompression<br>Geometry Sizes=Small/Medium<br>Context=%{x}<br>time=%{y}<extra></extra>",
         "legendgroup": "Decompression",
         "marker": {
          "color": "rgb(169,234,184)",
          "pattern": {
           "shape": ""
          }
         },
         "name": "Decompression",
         "offsetgroup": "Decompression",
         "orientation": "v",
         "showlegend": false,
         "textposition": "auto",
         "type": "bar",
         "x": [
          "Fully Inside Other (TRUE)",
          "Overlap (FALSE)",
          "Partial Overlap (TRUE)"
         ],
         "xaxis": "x2",
         "y": [
          27.008338664548816,
          22.15067402537301,
          15.536607230681799
         ],
         "yaxis": "y2"
        },
        {
         "alignmentgroup": "True",
         "hovertemplate": "Stage: =Decompression<br>Geometry Sizes=Small/Small<br>Context=%{x}<br>time=%{y}<extra></extra>",
         "legendgroup": "Decompression",
         "marker": {
          "color": "rgb(169,234,184)",
          "pattern": {
           "shape": ""
          }
         },
         "name": "Decompression",
         "offsetgroup": "Decompression",
         "orientation": "v",
         "showlegend": false,
         "textposition": "auto",
         "type": "bar",
         "x": [
          "Fully Inside Other (TRUE)",
          "Overlap (FALSE)",
          "Partial Overlap (TRUE)"
         ],
         "xaxis": "x3",
         "y": [
          32.56755728672232,
          35.354780377399166,
          16.172386714955387
         ],
         "yaxis": "y3"
        },
        {
         "alignmentgroup": "True",
         "hovertemplate": "Stage: =Intersection<br>Geometry Sizes=Large/Large<br>Context=%{x}<br>time=%{y}<extra></extra>",
         "legendgroup": "Intersection",
         "marker": {
          "color": "rgb(255,183,180)",
          "pattern": {
           "shape": "/"
          }
         },
         "name": "Intersection",
         "offsetgroup": "Intersection",
         "orientation": "v",
         "showlegend": true,
         "textposition": "auto",
         "type": "bar",
         "x": [
          "Fully Inside Other (TRUE)",
          "Overlap (FALSE)",
          "Partial Overlap (TRUE)"
         ],
         "xaxis": "x4",
         "y": [
          35.7834120721101,
          4.4116583516421795,
          37.98495118121237
         ],
         "yaxis": "y4"
        },
        {
         "alignmentgroup": "True",
         "hovertemplate": "Stage: =Intersection<br>Geometry Sizes=Medium/Large<br>Context=%{x}<br>time=%{y}<extra></extra>",
         "legendgroup": "Intersection",
         "marker": {
          "color": "rgb(255,183,180)",
          "pattern": {
           "shape": "/"
          }
         },
         "name": "Intersection",
         "offsetgroup": "Intersection",
         "orientation": "v",
         "showlegend": false,
         "textposition": "auto",
         "type": "bar",
         "x": [
          "Fully Inside Other (TRUE)",
          "Overlap (FALSE)",
          "Partial Overlap (TRUE)"
         ],
         "xaxis": "x5",
         "y": [
          8.794711131088148,
          14.305755346401192,
          43.88997702163239
         ],
         "yaxis": "y5"
        },
        {
         "alignmentgroup": "True",
         "hovertemplate": "Stage: =Intersection<br>Geometry Sizes=Medium/Medium<br>Context=%{x}<br>time=%{y}<extra></extra>",
         "legendgroup": "Intersection",
         "marker": {
          "color": "rgb(255,183,180)",
          "pattern": {
           "shape": "/"
          }
         },
         "name": "Intersection",
         "offsetgroup": "Intersection",
         "orientation": "v",
         "showlegend": false,
         "textposition": "auto",
         "type": "bar",
         "x": [
          "Fully Inside Other (TRUE)",
          "Overlap (FALSE)",
          "Partial Overlap (TRUE)"
         ],
         "xaxis": "x6",
         "y": [
          51.98566846230109,
          33.32594734593181,
          61.52651204128621
         ],
         "yaxis": "y6"
        },
        {
         "alignmentgroup": "True",
         "hovertemplate": "Stage: =Intersection<br>Geometry Sizes=Small/Large<br>Context=%{x}<br>time=%{y}<extra></extra>",
         "legendgroup": "Intersection",
         "marker": {
          "color": "rgb(255,183,180)",
          "pattern": {
           "shape": "/"
          }
         },
         "name": "Intersection",
         "offsetgroup": "Intersection",
         "orientation": "v",
         "showlegend": false,
         "textposition": "auto",
         "type": "bar",
         "x": [
          "Fully Inside Other (TRUE)",
          "Overlap (FALSE)",
          "Partial Overlap (TRUE)"
         ],
         "xaxis": "x",
         "y": [
          8.933935030457544,
          14.207994902440413,
          36.69214375246852
         ],
         "yaxis": "y"
        },
        {
         "alignmentgroup": "True",
         "hovertemplate": "Stage: =Intersection<br>Geometry Sizes=Small/Medium<br>Context=%{x}<br>time=%{y}<extra></extra>",
         "legendgroup": "Intersection",
         "marker": {
          "color": "rgb(255,183,180)",
          "pattern": {
           "shape": "/"
          }
         },
         "name": "Intersection",
         "offsetgroup": "Intersection",
         "orientation": "v",
         "showlegend": false,
         "textposition": "auto",
         "type": "bar",
         "x": [
          "Fully Inside Other (TRUE)",
          "Overlap (FALSE)",
          "Partial Overlap (TRUE)"
         ],
         "xaxis": "x2",
         "y": [
          43.262131555898755,
          35.84486935183983,
          69.19166213653443
         ],
         "yaxis": "y2"
        },
        {
         "alignmentgroup": "True",
         "hovertemplate": "Stage: =Intersection<br>Geometry Sizes=Small/Small<br>Context=%{x}<br>time=%{y}<extra></extra>",
         "legendgroup": "Intersection",
         "marker": {
          "color": "rgb(255,183,180)",
          "pattern": {
           "shape": "/"
          }
         },
         "name": "Intersection",
         "offsetgroup": "Intersection",
         "orientation": "v",
         "showlegend": false,
         "textposition": "auto",
         "type": "bar",
         "x": [
          "Fully Inside Other (TRUE)",
          "Overlap (FALSE)",
          "Partial Overlap (TRUE)"
         ],
         "xaxis": "x3",
         "y": [
          59.30875913107183,
          55.97262628295293,
          78.56073907571715
         ],
         "yaxis": "y3"
        }
       ],
       "layout": {
        "annotations": [
         {
          "font": {
           "size": 16
          },
          "showarrow": false,
          "text": "Geometry Sizes=Small/Large",
          "x": 0.13333333333333333,
          "xanchor": "center",
          "xref": "paper",
          "y": 0.45,
          "yanchor": "bottom",
          "yref": "paper"
         },
         {
          "font": {
           "size": 16
          },
          "showarrow": false,
          "text": "Geometry Sizes=Small/Medium",
          "x": 0.5,
          "xanchor": "center",
          "xref": "paper",
          "y": 0.45,
          "yanchor": "bottom",
          "yref": "paper"
         },
         {
          "font": {
           "size": 16
          },
          "showarrow": false,
          "text": "Geometry Sizes=Small/Small",
          "x": 0.8666666666666667,
          "xanchor": "center",
          "xref": "paper",
          "y": 0.45,
          "yanchor": "bottom",
          "yref": "paper"
         },
         {
          "font": {
           "size": 16
          },
          "showarrow": false,
          "text": "Geometry Sizes=Large/Large",
          "x": 0.13333333333333333,
          "xanchor": "center",
          "xref": "paper",
          "y": 1,
          "yanchor": "bottom",
          "yref": "paper"
         },
         {
          "font": {
           "size": 16
          },
          "showarrow": false,
          "text": "Geometry Sizes=Medium/Large",
          "x": 0.5,
          "xanchor": "center",
          "xref": "paper",
          "y": 1,
          "yanchor": "bottom",
          "yref": "paper"
         },
         {
          "font": {
           "size": 16
          },
          "showarrow": false,
          "text": "Geometry Sizes=Medium/Medium",
          "x": 0.8666666666666667,
          "xanchor": "center",
          "xref": "paper",
          "y": 1,
          "yanchor": "bottom",
          "yref": "paper"
         },
         {
          "font": {
           "size": 20
          },
          "showarrow": false,
          "text": "Bounding Box Context",
          "x": 0.5,
          "xanchor": "center",
          "xref": "paper",
          "y": -0.17,
          "yanchor": "top",
          "yref": "paper"
         },
         {
          "font": {
           "size": 20
          },
          "showarrow": false,
          "text": "Relative Mean Execution Time (%)",
          "textangle": -90,
          "x": -0.07,
          "xanchor": "center",
          "xref": "paper",
          "y": 0.5,
          "yanchor": "middle",
          "yref": "paper"
         }
        ],
        "barmode": "relative",
        "height": 1000,
        "legend": {
         "font": {
          "size": 16
         },
         "title": {
          "text": "Stage: "
         },
         "tracegroupgap": 0,
         "x": 0.83,
         "xanchor": "left",
         "y": 1.15,
         "yanchor": "top"
        },
        "shapes": [
         {
          "line": {
           "dash": "dot"
          },
          "type": "line",
          "x0": 0,
          "x1": 1,
          "xref": "x6 domain",
          "y0": 100,
          "y1": 100,
          "yref": "y6"
         },
         {
          "line": {
           "dash": "dot"
          },
          "type": "line",
          "x0": 0,
          "x1": 1,
          "xref": "x4 domain",
          "y0": 100,
          "y1": 100,
          "yref": "y4"
         },
         {
          "line": {
           "dash": "dot"
          },
          "type": "line",
          "x0": 0,
          "x1": 1,
          "xref": "x5 domain",
          "y0": 100,
          "y1": 100,
          "yref": "y5"
         },
         {
          "line": {
           "dash": "dot"
          },
          "type": "line",
          "x0": 0,
          "x1": 1,
          "xref": "x3 domain",
          "y0": 100,
          "y1": 100,
          "yref": "y3"
         },
         {
          "line": {
           "dash": "dot"
          },
          "type": "line",
          "x0": 0,
          "x1": 1,
          "xref": "x domain",
          "y0": 100,
          "y1": 100,
          "yref": "y"
         },
         {
          "line": {
           "dash": "dot"
          },
          "type": "line",
          "x0": 0,
          "x1": 1,
          "xref": "x2 domain",
          "y0": 100,
          "y1": 100,
          "yref": "y2"
         }
        ],
        "template": {
         "data": {
          "bar": [
           {
            "error_x": {
             "color": "#2a3f5f"
            },
            "error_y": {
             "color": "#2a3f5f"
            },
            "marker": {
             "line": {
              "color": "#E5ECF6",
              "width": 0.5
             },
             "pattern": {
              "fillmode": "overlay",
              "size": 10,
              "solidity": 0.2
             }
            },
            "type": "bar"
           }
          ],
          "barpolar": [
           {
            "marker": {
             "line": {
              "color": "#E5ECF6",
              "width": 0.5
             },
             "pattern": {
              "fillmode": "overlay",
              "size": 10,
              "solidity": 0.2
             }
            },
            "type": "barpolar"
           }
          ],
          "carpet": [
           {
            "aaxis": {
             "endlinecolor": "#2a3f5f",
             "gridcolor": "white",
             "linecolor": "white",
             "minorgridcolor": "white",
             "startlinecolor": "#2a3f5f"
            },
            "baxis": {
             "endlinecolor": "#2a3f5f",
             "gridcolor": "white",
             "linecolor": "white",
             "minorgridcolor": "white",
             "startlinecolor": "#2a3f5f"
            },
            "type": "carpet"
           }
          ],
          "choropleth": [
           {
            "colorbar": {
             "outlinewidth": 0,
             "ticks": ""
            },
            "type": "choropleth"
           }
          ],
          "contour": [
           {
            "colorbar": {
             "outlinewidth": 0,
             "ticks": ""
            },
            "colorscale": [
             [
              0,
              "#0d0887"
             ],
             [
              0.1111111111111111,
              "#46039f"
             ],
             [
              0.2222222222222222,
              "#7201a8"
             ],
             [
              0.3333333333333333,
              "#9c179e"
             ],
             [
              0.4444444444444444,
              "#bd3786"
             ],
             [
              0.5555555555555556,
              "#d8576b"
             ],
             [
              0.6666666666666666,
              "#ed7953"
             ],
             [
              0.7777777777777778,
              "#fb9f3a"
             ],
             [
              0.8888888888888888,
              "#fdca26"
             ],
             [
              1,
              "#f0f921"
             ]
            ],
            "type": "contour"
           }
          ],
          "contourcarpet": [
           {
            "colorbar": {
             "outlinewidth": 0,
             "ticks": ""
            },
            "type": "contourcarpet"
           }
          ],
          "heatmap": [
           {
            "colorbar": {
             "outlinewidth": 0,
             "ticks": ""
            },
            "colorscale": [
             [
              0,
              "#0d0887"
             ],
             [
              0.1111111111111111,
              "#46039f"
             ],
             [
              0.2222222222222222,
              "#7201a8"
             ],
             [
              0.3333333333333333,
              "#9c179e"
             ],
             [
              0.4444444444444444,
              "#bd3786"
             ],
             [
              0.5555555555555556,
              "#d8576b"
             ],
             [
              0.6666666666666666,
              "#ed7953"
             ],
             [
              0.7777777777777778,
              "#fb9f3a"
             ],
             [
              0.8888888888888888,
              "#fdca26"
             ],
             [
              1,
              "#f0f921"
             ]
            ],
            "type": "heatmap"
           }
          ],
          "heatmapgl": [
           {
            "colorbar": {
             "outlinewidth": 0,
             "ticks": ""
            },
            "colorscale": [
             [
              0,
              "#0d0887"
             ],
             [
              0.1111111111111111,
              "#46039f"
             ],
             [
              0.2222222222222222,
              "#7201a8"
             ],
             [
              0.3333333333333333,
              "#9c179e"
             ],
             [
              0.4444444444444444,
              "#bd3786"
             ],
             [
              0.5555555555555556,
              "#d8576b"
             ],
             [
              0.6666666666666666,
              "#ed7953"
             ],
             [
              0.7777777777777778,
              "#fb9f3a"
             ],
             [
              0.8888888888888888,
              "#fdca26"
             ],
             [
              1,
              "#f0f921"
             ]
            ],
            "type": "heatmapgl"
           }
          ],
          "histogram": [
           {
            "marker": {
             "pattern": {
              "fillmode": "overlay",
              "size": 10,
              "solidity": 0.2
             }
            },
            "type": "histogram"
           }
          ],
          "histogram2d": [
           {
            "colorbar": {
             "outlinewidth": 0,
             "ticks": ""
            },
            "colorscale": [
             [
              0,
              "#0d0887"
             ],
             [
              0.1111111111111111,
              "#46039f"
             ],
             [
              0.2222222222222222,
              "#7201a8"
             ],
             [
              0.3333333333333333,
              "#9c179e"
             ],
             [
              0.4444444444444444,
              "#bd3786"
             ],
             [
              0.5555555555555556,
              "#d8576b"
             ],
             [
              0.6666666666666666,
              "#ed7953"
             ],
             [
              0.7777777777777778,
              "#fb9f3a"
             ],
             [
              0.8888888888888888,
              "#fdca26"
             ],
             [
              1,
              "#f0f921"
             ]
            ],
            "type": "histogram2d"
           }
          ],
          "histogram2dcontour": [
           {
            "colorbar": {
             "outlinewidth": 0,
             "ticks": ""
            },
            "colorscale": [
             [
              0,
              "#0d0887"
             ],
             [
              0.1111111111111111,
              "#46039f"
             ],
             [
              0.2222222222222222,
              "#7201a8"
             ],
             [
              0.3333333333333333,
              "#9c179e"
             ],
             [
              0.4444444444444444,
              "#bd3786"
             ],
             [
              0.5555555555555556,
              "#d8576b"
             ],
             [
              0.6666666666666666,
              "#ed7953"
             ],
             [
              0.7777777777777778,
              "#fb9f3a"
             ],
             [
              0.8888888888888888,
              "#fdca26"
             ],
             [
              1,
              "#f0f921"
             ]
            ],
            "type": "histogram2dcontour"
           }
          ],
          "mesh3d": [
           {
            "colorbar": {
             "outlinewidth": 0,
             "ticks": ""
            },
            "type": "mesh3d"
           }
          ],
          "parcoords": [
           {
            "line": {
             "colorbar": {
              "outlinewidth": 0,
              "ticks": ""
             }
            },
            "type": "parcoords"
           }
          ],
          "pie": [
           {
            "automargin": true,
            "type": "pie"
           }
          ],
          "scatter": [
           {
            "fillpattern": {
             "fillmode": "overlay",
             "size": 10,
             "solidity": 0.2
            },
            "type": "scatter"
           }
          ],
          "scatter3d": [
           {
            "line": {
             "colorbar": {
              "outlinewidth": 0,
              "ticks": ""
             }
            },
            "marker": {
             "colorbar": {
              "outlinewidth": 0,
              "ticks": ""
             }
            },
            "type": "scatter3d"
           }
          ],
          "scattercarpet": [
           {
            "marker": {
             "colorbar": {
              "outlinewidth": 0,
              "ticks": ""
             }
            },
            "type": "scattercarpet"
           }
          ],
          "scattergeo": [
           {
            "marker": {
             "colorbar": {
              "outlinewidth": 0,
              "ticks": ""
             }
            },
            "type": "scattergeo"
           }
          ],
          "scattergl": [
           {
            "marker": {
             "colorbar": {
              "outlinewidth": 0,
              "ticks": ""
             }
            },
            "type": "scattergl"
           }
          ],
          "scattermapbox": [
           {
            "marker": {
             "colorbar": {
              "outlinewidth": 0,
              "ticks": ""
             }
            },
            "type": "scattermapbox"
           }
          ],
          "scatterpolar": [
           {
            "marker": {
             "colorbar": {
              "outlinewidth": 0,
              "ticks": ""
             }
            },
            "type": "scatterpolar"
           }
          ],
          "scatterpolargl": [
           {
            "marker": {
             "colorbar": {
              "outlinewidth": 0,
              "ticks": ""
             }
            },
            "type": "scatterpolargl"
           }
          ],
          "scatterternary": [
           {
            "marker": {
             "colorbar": {
              "outlinewidth": 0,
              "ticks": ""
             }
            },
            "type": "scatterternary"
           }
          ],
          "surface": [
           {
            "colorbar": {
             "outlinewidth": 0,
             "ticks": ""
            },
            "colorscale": [
             [
              0,
              "#0d0887"
             ],
             [
              0.1111111111111111,
              "#46039f"
             ],
             [
              0.2222222222222222,
              "#7201a8"
             ],
             [
              0.3333333333333333,
              "#9c179e"
             ],
             [
              0.4444444444444444,
              "#bd3786"
             ],
             [
              0.5555555555555556,
              "#d8576b"
             ],
             [
              0.6666666666666666,
              "#ed7953"
             ],
             [
              0.7777777777777778,
              "#fb9f3a"
             ],
             [
              0.8888888888888888,
              "#fdca26"
             ],
             [
              1,
              "#f0f921"
             ]
            ],
            "type": "surface"
           }
          ],
          "table": [
           {
            "cells": {
             "fill": {
              "color": "#EBF0F8"
             },
             "line": {
              "color": "white"
             }
            },
            "header": {
             "fill": {
              "color": "#C8D4E3"
             },
             "line": {
              "color": "white"
             }
            },
            "type": "table"
           }
          ]
         },
         "layout": {
          "annotationdefaults": {
           "arrowcolor": "#2a3f5f",
           "arrowhead": 0,
           "arrowwidth": 1
          },
          "autotypenumbers": "strict",
          "coloraxis": {
           "colorbar": {
            "outlinewidth": 0,
            "ticks": ""
           }
          },
          "colorscale": {
           "diverging": [
            [
             0,
             "#8e0152"
            ],
            [
             0.1,
             "#c51b7d"
            ],
            [
             0.2,
             "#de77ae"
            ],
            [
             0.3,
             "#f1b6da"
            ],
            [
             0.4,
             "#fde0ef"
            ],
            [
             0.5,
             "#f7f7f7"
            ],
            [
             0.6,
             "#e6f5d0"
            ],
            [
             0.7,
             "#b8e186"
            ],
            [
             0.8,
             "#7fbc41"
            ],
            [
             0.9,
             "#4d9221"
            ],
            [
             1,
             "#276419"
            ]
           ],
           "sequential": [
            [
             0,
             "#0d0887"
            ],
            [
             0.1111111111111111,
             "#46039f"
            ],
            [
             0.2222222222222222,
             "#7201a8"
            ],
            [
             0.3333333333333333,
             "#9c179e"
            ],
            [
             0.4444444444444444,
             "#bd3786"
            ],
            [
             0.5555555555555556,
             "#d8576b"
            ],
            [
             0.6666666666666666,
             "#ed7953"
            ],
            [
             0.7777777777777778,
             "#fb9f3a"
            ],
            [
             0.8888888888888888,
             "#fdca26"
            ],
            [
             1,
             "#f0f921"
            ]
           ],
           "sequentialminus": [
            [
             0,
             "#0d0887"
            ],
            [
             0.1111111111111111,
             "#46039f"
            ],
            [
             0.2222222222222222,
             "#7201a8"
            ],
            [
             0.3333333333333333,
             "#9c179e"
            ],
            [
             0.4444444444444444,
             "#bd3786"
            ],
            [
             0.5555555555555556,
             "#d8576b"
            ],
            [
             0.6666666666666666,
             "#ed7953"
            ],
            [
             0.7777777777777778,
             "#fb9f3a"
            ],
            [
             0.8888888888888888,
             "#fdca26"
            ],
            [
             1,
             "#f0f921"
            ]
           ]
          },
          "colorway": [
           "#636efa",
           "#EF553B",
           "#00cc96",
           "#ab63fa",
           "#FFA15A",
           "#19d3f3",
           "#FF6692",
           "#B6E880",
           "#FF97FF",
           "#FECB52"
          ],
          "font": {
           "color": "#2a3f5f"
          },
          "geo": {
           "bgcolor": "white",
           "lakecolor": "white",
           "landcolor": "#E5ECF6",
           "showlakes": true,
           "showland": true,
           "subunitcolor": "white"
          },
          "hoverlabel": {
           "align": "left"
          },
          "hovermode": "closest",
          "mapbox": {
           "style": "light"
          },
          "paper_bgcolor": "white",
          "plot_bgcolor": "#E5ECF6",
          "polar": {
           "angularaxis": {
            "gridcolor": "white",
            "linecolor": "white",
            "ticks": ""
           },
           "bgcolor": "#E5ECF6",
           "radialaxis": {
            "gridcolor": "white",
            "linecolor": "white",
            "ticks": ""
           }
          },
          "scene": {
           "xaxis": {
            "backgroundcolor": "#E5ECF6",
            "gridcolor": "white",
            "gridwidth": 2,
            "linecolor": "white",
            "showbackground": true,
            "ticks": "",
            "zerolinecolor": "white"
           },
           "yaxis": {
            "backgroundcolor": "#E5ECF6",
            "gridcolor": "white",
            "gridwidth": 2,
            "linecolor": "white",
            "showbackground": true,
            "ticks": "",
            "zerolinecolor": "white"
           },
           "zaxis": {
            "backgroundcolor": "#E5ECF6",
            "gridcolor": "white",
            "gridwidth": 2,
            "linecolor": "white",
            "showbackground": true,
            "ticks": "",
            "zerolinecolor": "white"
           }
          },
          "shapedefaults": {
           "line": {
            "color": "#2a3f5f"
           }
          },
          "ternary": {
           "aaxis": {
            "gridcolor": "white",
            "linecolor": "white",
            "ticks": ""
           },
           "baxis": {
            "gridcolor": "white",
            "linecolor": "white",
            "ticks": ""
           },
           "bgcolor": "#E5ECF6",
           "caxis": {
            "gridcolor": "white",
            "linecolor": "white",
            "ticks": ""
           }
          },
          "title": {
           "x": 0.05
          },
          "xaxis": {
           "automargin": true,
           "gridcolor": "white",
           "linecolor": "white",
           "ticks": "",
           "title": {
            "standoff": 15
           },
           "zerolinecolor": "white",
           "zerolinewidth": 2
          },
          "yaxis": {
           "automargin": true,
           "gridcolor": "white",
           "linecolor": "white",
           "ticks": "",
           "title": {
            "standoff": 15
           },
           "zerolinecolor": "white",
           "zerolinewidth": 2
          }
         }
        },
        "title": {
         "font": {
          "size": 22
         },
         "text": "Mean Relative Execution Time for Intersection in Different Contexts"
        },
        "width": 1200,
        "xaxis": {
         "anchor": "y",
         "domain": [
          0,
          0.26666666666666666
         ],
         "tickfont": {
          "size": 16
         },
         "title": {
          "text": ""
         }
        },
        "xaxis2": {
         "anchor": "y2",
         "domain": [
          0.3666666666666667,
          0.6333333333333333
         ],
         "matches": "x",
         "tickfont": {
          "size": 16
         },
         "title": {
          "text": ""
         }
        },
        "xaxis3": {
         "anchor": "y3",
         "domain": [
          0.7333333333333334,
          1
         ],
         "matches": "x",
         "tickfont": {
          "size": 16
         },
         "title": {
          "text": ""
         }
        },
        "xaxis4": {
         "anchor": "y4",
         "domain": [
          0,
          0.26666666666666666
         ],
         "matches": "x",
         "showticklabels": false,
         "tickfont": {
          "size": 16
         },
         "title": {
          "text": ""
         }
        },
        "xaxis5": {
         "anchor": "y5",
         "domain": [
          0.3666666666666667,
          0.6333333333333333
         ],
         "matches": "x",
         "showticklabels": false,
         "tickfont": {
          "size": 16
         },
         "title": {
          "text": ""
         }
        },
        "xaxis6": {
         "anchor": "y6",
         "domain": [
          0.7333333333333334,
          1
         ],
         "matches": "x",
         "showticklabels": false,
         "tickfont": {
          "size": 16
         },
         "title": {
          "text": ""
         }
        },
        "yaxis": {
         "anchor": "x",
         "domain": [
          0,
          0.45
         ],
         "range": [
          0,
          105
         ],
         "showticklabels": true,
         "tickfont": {
          "size": 16
         },
         "title": {
          "text": ""
         }
        },
        "yaxis2": {
         "anchor": "x2",
         "domain": [
          0,
          0.45
         ],
         "range": [
          0,
          105
         ],
         "showticklabels": true,
         "tickfont": {
          "size": 16
         },
         "title": {
          "text": ""
         }
        },
        "yaxis3": {
         "anchor": "x3",
         "domain": [
          0,
          0.45
         ],
         "range": [
          0,
          105
         ],
         "showticklabels": true,
         "tickfont": {
          "size": 16
         },
         "title": {
          "text": ""
         }
        },
        "yaxis4": {
         "anchor": "x4",
         "domain": [
          0.55,
          1
         ],
         "range": [
          0,
          105
         ],
         "showticklabels": true,
         "tickfont": {
          "size": 16
         },
         "title": {
          "text": ""
         }
        },
        "yaxis5": {
         "anchor": "x5",
         "domain": [
          0.55,
          1
         ],
         "range": [
          0,
          105
         ],
         "showticklabels": true,
         "tickfont": {
          "size": 16
         },
         "title": {
          "text": ""
         }
        },
        "yaxis6": {
         "anchor": "x6",
         "domain": [
          0.55,
          1
         ],
         "range": [
          0,
          105
         ],
         "showticklabels": true,
         "tickfont": {
          "size": 16
         },
         "title": {
          "text": ""
         }
        }
       }
      }
     },
     "metadata": {},
     "output_type": "display_data"
    }
   ],
   "source": [
    "total_time_df = stats_df[['context', 'total_time', 'sizes', 'baseline', 'predicate', 'decomp', 'dataset', 'dataset_idx']]\n",
    "plot_total_time_bars_relative(total_time_df, is_predicate=False, size_cat_excl=[], log_scale=False) #"
   ]
  },
  {
   "cell_type": "code",
   "execution_count": null,
   "metadata": {},
   "outputs": [],
   "source": []
  },
  {
   "cell_type": "code",
   "execution_count": 15,
   "metadata": {},
   "outputs": [],
   "source": [
    "def plot_total_time_bars(df, is_predicate=False, size_cat_excl=[], log_scale=True):\n",
    "    df = df[(df['predicate'] == is_predicate)] #(df['sizes'].isin([\"Small/Small\", \"Medium/Medium\", \"Large/Large\"]))]\n",
    "    df = df.groupby(['context', 'baseline', 'sizes']).mean()\n",
    "    display(df)\n",
    "    df.reset_index(inplace=True)\n",
    "   \n",
    "    intersection_formatting = \"Intersection\" if not is_predicate else \"Is_Intersection\"\n",
    "    fig = px.histogram(df, \n",
    "                       x=\"context\", \n",
    "                       y=\"total_time\", \n",
    "                       facet_col=\"sizes\", \n",
    "                       color=\"baseline\",\n",
    "                       barmode='group',\n",
    "                       log_y=False, \n",
    "                       facet_col_spacing=0.1, \n",
    "                       histfunc=\"avg\", \n",
    "                       title=f\"Execution Time for {intersection_formatting} in Different Contexts & Sizes\",\n",
    "                       labels=dict(sizes=\"Geometry Sizes\", context=\"Context\", baseline=\"Baseline\", Stage=\"Stage: \"),\n",
    "                       facet_col_wrap=3,\n",
    "                       facet_row_spacing=0.1,\n",
    "                       height=1000,\n",
    "                       width=1000,\n",
    "                       color_discrete_map={\n",
    "                            True: 'rgb(169,234,184)',\n",
    "                            False: 'rgb(255,183,180)',\n",
    "                        }\n",
    "                       #text=\"time\"\n",
    "                       )\n",
    "    fig.update_annotations(font=dict(size=16))\n",
    "    make_general_facet_title(fig, \"Bounding Box Context\", \"Mean Execution Time (s)\", barplot=True)\n",
    "    #fig.for_each_yaxis(lambda yaxis: yaxis.update(showticklabels=True))\n",
    "    fig.update_yaxes(matches=None, showticklabels=True,  tickfont=dict(size=16))\n",
    "    fig.update_xaxes(tickfont=dict(size=16))\n",
    "    #fig.update_traces(texttemplate='%{text:.2}%', textposition='inside', textfont=dict(color='white'))\n",
    "\n",
    "    fig.update_layout(barmode=\"group\",\n",
    "                      #title_x=0.5,\n",
    "                      title_y=0.96,\n",
    "                      width=1200, \n",
    "                      height=1000, \n",
    "                      \n",
    "                      legend=dict(\n",
    "                            yanchor=\"top\",\n",
    "                            y=1.15,\n",
    "                            xanchor=\"left\",\n",
    "                            x=0.91,\n",
    "                           #orientation=\"h\",\n",
    "                            font=dict(size=16),\n",
    "                        ),\n",
    "                        title=dict(\n",
    "                            text=f'Mean Execution Time for Intersection in Different Contexts',\n",
    "                            \n",
    "                            font=dict(size=22)\n",
    "                            )\n",
    "                        )\n",
    "    \n",
    "\n",
    "   \n",
    "    fig.show()"
   ]
  },
  {
   "cell_type": "code",
   "execution_count": 16,
   "metadata": {},
   "outputs": [
    {
     "data": {
      "text/html": [
       "<div>\n",
       "<style scoped>\n",
       "    .dataframe tbody tr th:only-of-type {\n",
       "        vertical-align: middle;\n",
       "    }\n",
       "\n",
       "    .dataframe tbody tr th {\n",
       "        vertical-align: top;\n",
       "    }\n",
       "\n",
       "    .dataframe thead th {\n",
       "        text-align: right;\n",
       "    }\n",
       "</style>\n",
       "<table border=\"1\" class=\"dataframe\">\n",
       "  <thead>\n",
       "    <tr style=\"text-align: right;\">\n",
       "      <th></th>\n",
       "      <th></th>\n",
       "      <th></th>\n",
       "      <th>total_time</th>\n",
       "      <th>predicate</th>\n",
       "      <th>decomp</th>\n",
       "    </tr>\n",
       "    <tr>\n",
       "      <th>context</th>\n",
       "      <th>baseline</th>\n",
       "      <th>sizes</th>\n",
       "      <th></th>\n",
       "      <th></th>\n",
       "      <th></th>\n",
       "    </tr>\n",
       "  </thead>\n",
       "  <tbody>\n",
       "    <tr>\n",
       "      <th rowspan=\"12\" valign=\"top\">Fully Inside Other (TRUE)</th>\n",
       "      <th rowspan=\"6\" valign=\"top\">False</th>\n",
       "      <th>Large/Large</th>\n",
       "      <td>0.043915</td>\n",
       "      <td>0.0</td>\n",
       "      <td>0.022955</td>\n",
       "    </tr>\n",
       "    <tr>\n",
       "      <th>Medium/Large</th>\n",
       "      <td>0.002511</td>\n",
       "      <td>0.0</td>\n",
       "      <td>0.001715</td>\n",
       "    </tr>\n",
       "    <tr>\n",
       "      <th>Medium/Medium</th>\n",
       "      <td>0.001598</td>\n",
       "      <td>0.0</td>\n",
       "      <td>0.000444</td>\n",
       "    </tr>\n",
       "    <tr>\n",
       "      <th>Small/Large</th>\n",
       "      <td>0.002106</td>\n",
       "      <td>0.0</td>\n",
       "      <td>0.001738</td>\n",
       "    </tr>\n",
       "    <tr>\n",
       "      <th>Small/Medium</th>\n",
       "      <td>0.000567</td>\n",
       "      <td>0.0</td>\n",
       "      <td>0.000215</td>\n",
       "    </tr>\n",
       "    <tr>\n",
       "      <th>Small/Small</th>\n",
       "      <td>0.000498</td>\n",
       "      <td>0.0</td>\n",
       "      <td>0.000173</td>\n",
       "    </tr>\n",
       "    <tr>\n",
       "      <th rowspan=\"6\" valign=\"top\">True</th>\n",
       "      <th>Large/Large</th>\n",
       "      <td>0.092737</td>\n",
       "      <td>0.0</td>\n",
       "      <td>0.016609</td>\n",
       "    </tr>\n",
       "    <tr>\n",
       "      <th>Medium/Large</th>\n",
       "      <td>0.030129</td>\n",
       "      <td>0.0</td>\n",
       "      <td>0.028793</td>\n",
       "    </tr>\n",
       "    <tr>\n",
       "      <th>Medium/Medium</th>\n",
       "      <td>0.001919</td>\n",
       "      <td>0.0</td>\n",
       "      <td>0.000685</td>\n",
       "    </tr>\n",
       "    <tr>\n",
       "      <th>Small/Large</th>\n",
       "      <td>0.025868</td>\n",
       "      <td>0.0</td>\n",
       "      <td>0.024744</td>\n",
       "    </tr>\n",
       "    <tr>\n",
       "      <th>Small/Medium</th>\n",
       "      <td>0.000892</td>\n",
       "      <td>0.0</td>\n",
       "      <td>0.000469</td>\n",
       "    </tr>\n",
       "    <tr>\n",
       "      <th>Small/Small</th>\n",
       "      <td>0.000607</td>\n",
       "      <td>0.0</td>\n",
       "      <td>0.000265</td>\n",
       "    </tr>\n",
       "    <tr>\n",
       "      <th rowspan=\"12\" valign=\"top\">Overlap (FALSE)</th>\n",
       "      <th rowspan=\"6\" valign=\"top\">False</th>\n",
       "      <th>Large/Large</th>\n",
       "      <td>0.001264</td>\n",
       "      <td>0.0</td>\n",
       "      <td>0.000553</td>\n",
       "    </tr>\n",
       "    <tr>\n",
       "      <th>Medium/Large</th>\n",
       "      <td>0.000863</td>\n",
       "      <td>0.0</td>\n",
       "      <td>0.000551</td>\n",
       "    </tr>\n",
       "    <tr>\n",
       "      <th>Medium/Medium</th>\n",
       "      <td>0.000479</td>\n",
       "      <td>0.0</td>\n",
       "      <td>0.000209</td>\n",
       "    </tr>\n",
       "    <tr>\n",
       "      <th>Small/Large</th>\n",
       "      <td>0.000700</td>\n",
       "      <td>0.0</td>\n",
       "      <td>0.000398</td>\n",
       "    </tr>\n",
       "    <tr>\n",
       "      <th>Small/Medium</th>\n",
       "      <td>0.000328</td>\n",
       "      <td>0.0</td>\n",
       "      <td>0.000131</td>\n",
       "    </tr>\n",
       "    <tr>\n",
       "      <th>Small/Small</th>\n",
       "      <td>0.000288</td>\n",
       "      <td>0.0</td>\n",
       "      <td>0.000112</td>\n",
       "    </tr>\n",
       "    <tr>\n",
       "      <th rowspan=\"6\" valign=\"top\">True</th>\n",
       "      <th>Large/Large</th>\n",
       "      <td>0.009200</td>\n",
       "      <td>0.0</td>\n",
       "      <td>0.007873</td>\n",
       "    </tr>\n",
       "    <tr>\n",
       "      <th>Medium/Large</th>\n",
       "      <td>0.007336</td>\n",
       "      <td>0.0</td>\n",
       "      <td>0.006799</td>\n",
       "    </tr>\n",
       "    <tr>\n",
       "      <th>Medium/Medium</th>\n",
       "      <td>0.000846</td>\n",
       "      <td>0.0</td>\n",
       "      <td>0.000554</td>\n",
       "    </tr>\n",
       "    <tr>\n",
       "      <th>Small/Large</th>\n",
       "      <td>0.005968</td>\n",
       "      <td>0.0</td>\n",
       "      <td>0.005419</td>\n",
       "    </tr>\n",
       "    <tr>\n",
       "      <th>Small/Medium</th>\n",
       "      <td>0.000580</td>\n",
       "      <td>0.0</td>\n",
       "      <td>0.000349</td>\n",
       "    </tr>\n",
       "    <tr>\n",
       "      <th>Small/Small</th>\n",
       "      <td>0.000337</td>\n",
       "      <td>0.0</td>\n",
       "      <td>0.000166</td>\n",
       "    </tr>\n",
       "    <tr>\n",
       "      <th rowspan=\"12\" valign=\"top\">Partial Overlap (TRUE)</th>\n",
       "      <th rowspan=\"6\" valign=\"top\">False</th>\n",
       "      <th>Large/Large</th>\n",
       "      <td>0.006591</td>\n",
       "      <td>0.0</td>\n",
       "      <td>0.000882</td>\n",
       "    </tr>\n",
       "    <tr>\n",
       "      <th>Medium/Large</th>\n",
       "      <td>0.002474</td>\n",
       "      <td>0.0</td>\n",
       "      <td>0.000563</td>\n",
       "    </tr>\n",
       "    <tr>\n",
       "      <th>Medium/Medium</th>\n",
       "      <td>0.001625</td>\n",
       "      <td>0.0</td>\n",
       "      <td>0.000266</td>\n",
       "    </tr>\n",
       "    <tr>\n",
       "      <th>Small/Large</th>\n",
       "      <td>0.001882</td>\n",
       "      <td>0.0</td>\n",
       "      <td>0.000631</td>\n",
       "    </tr>\n",
       "    <tr>\n",
       "      <th>Small/Medium</th>\n",
       "      <td>0.001153</td>\n",
       "      <td>0.0</td>\n",
       "      <td>0.000197</td>\n",
       "    </tr>\n",
       "    <tr>\n",
       "      <th>Small/Small</th>\n",
       "      <td>0.000719</td>\n",
       "      <td>0.0</td>\n",
       "      <td>0.000117</td>\n",
       "    </tr>\n",
       "    <tr>\n",
       "      <th rowspan=\"6\" valign=\"top\">True</th>\n",
       "      <th>Large/Large</th>\n",
       "      <td>0.018036</td>\n",
       "      <td>0.0</td>\n",
       "      <td>0.004571</td>\n",
       "    </tr>\n",
       "    <tr>\n",
       "      <th>Medium/Large</th>\n",
       "      <td>0.004888</td>\n",
       "      <td>0.0</td>\n",
       "      <td>0.002204</td>\n",
       "    </tr>\n",
       "    <tr>\n",
       "      <th>Medium/Medium</th>\n",
       "      <td>0.002216</td>\n",
       "      <td>0.0</td>\n",
       "      <td>0.000609</td>\n",
       "    </tr>\n",
       "    <tr>\n",
       "      <th>Small/Large</th>\n",
       "      <td>0.006731</td>\n",
       "      <td>0.0</td>\n",
       "      <td>0.005003</td>\n",
       "    </tr>\n",
       "    <tr>\n",
       "      <th>Small/Medium</th>\n",
       "      <td>0.001404</td>\n",
       "      <td>0.0</td>\n",
       "      <td>0.000396</td>\n",
       "    </tr>\n",
       "    <tr>\n",
       "      <th>Small/Small</th>\n",
       "      <td>0.000812</td>\n",
       "      <td>0.0</td>\n",
       "      <td>0.000187</td>\n",
       "    </tr>\n",
       "  </tbody>\n",
       "</table>\n",
       "</div>"
      ],
      "text/plain": [
       "                                                  total_time  predicate   \n",
       "context                   baseline sizes                                  \n",
       "Fully Inside Other (TRUE) False    Large/Large      0.043915        0.0  \\\n",
       "                                   Medium/Large     0.002511        0.0   \n",
       "                                   Medium/Medium    0.001598        0.0   \n",
       "                                   Small/Large      0.002106        0.0   \n",
       "                                   Small/Medium     0.000567        0.0   \n",
       "                                   Small/Small      0.000498        0.0   \n",
       "                          True     Large/Large      0.092737        0.0   \n",
       "                                   Medium/Large     0.030129        0.0   \n",
       "                                   Medium/Medium    0.001919        0.0   \n",
       "                                   Small/Large      0.025868        0.0   \n",
       "                                   Small/Medium     0.000892        0.0   \n",
       "                                   Small/Small      0.000607        0.0   \n",
       "Overlap (FALSE)           False    Large/Large      0.001264        0.0   \n",
       "                                   Medium/Large     0.000863        0.0   \n",
       "                                   Medium/Medium    0.000479        0.0   \n",
       "                                   Small/Large      0.000700        0.0   \n",
       "                                   Small/Medium     0.000328        0.0   \n",
       "                                   Small/Small      0.000288        0.0   \n",
       "                          True     Large/Large      0.009200        0.0   \n",
       "                                   Medium/Large     0.007336        0.0   \n",
       "                                   Medium/Medium    0.000846        0.0   \n",
       "                                   Small/Large      0.005968        0.0   \n",
       "                                   Small/Medium     0.000580        0.0   \n",
       "                                   Small/Small      0.000337        0.0   \n",
       "Partial Overlap (TRUE)    False    Large/Large      0.006591        0.0   \n",
       "                                   Medium/Large     0.002474        0.0   \n",
       "                                   Medium/Medium    0.001625        0.0   \n",
       "                                   Small/Large      0.001882        0.0   \n",
       "                                   Small/Medium     0.001153        0.0   \n",
       "                                   Small/Small      0.000719        0.0   \n",
       "                          True     Large/Large      0.018036        0.0   \n",
       "                                   Medium/Large     0.004888        0.0   \n",
       "                                   Medium/Medium    0.002216        0.0   \n",
       "                                   Small/Large      0.006731        0.0   \n",
       "                                   Small/Medium     0.001404        0.0   \n",
       "                                   Small/Small      0.000812        0.0   \n",
       "\n",
       "                                                    decomp  \n",
       "context                   baseline sizes                    \n",
       "Fully Inside Other (TRUE) False    Large/Large    0.022955  \n",
       "                                   Medium/Large   0.001715  \n",
       "                                   Medium/Medium  0.000444  \n",
       "                                   Small/Large    0.001738  \n",
       "                                   Small/Medium   0.000215  \n",
       "                                   Small/Small    0.000173  \n",
       "                          True     Large/Large    0.016609  \n",
       "                                   Medium/Large   0.028793  \n",
       "                                   Medium/Medium  0.000685  \n",
       "                                   Small/Large    0.024744  \n",
       "                                   Small/Medium   0.000469  \n",
       "                                   Small/Small    0.000265  \n",
       "Overlap (FALSE)           False    Large/Large    0.000553  \n",
       "                                   Medium/Large   0.000551  \n",
       "                                   Medium/Medium  0.000209  \n",
       "                                   Small/Large    0.000398  \n",
       "                                   Small/Medium   0.000131  \n",
       "                                   Small/Small    0.000112  \n",
       "                          True     Large/Large    0.007873  \n",
       "                                   Medium/Large   0.006799  \n",
       "                                   Medium/Medium  0.000554  \n",
       "                                   Small/Large    0.005419  \n",
       "                                   Small/Medium   0.000349  \n",
       "                                   Small/Small    0.000166  \n",
       "Partial Overlap (TRUE)    False    Large/Large    0.000882  \n",
       "                                   Medium/Large   0.000563  \n",
       "                                   Medium/Medium  0.000266  \n",
       "                                   Small/Large    0.000631  \n",
       "                                   Small/Medium   0.000197  \n",
       "                                   Small/Small    0.000117  \n",
       "                          True     Large/Large    0.004571  \n",
       "                                   Medium/Large   0.002204  \n",
       "                                   Medium/Medium  0.000609  \n",
       "                                   Small/Large    0.005003  \n",
       "                                   Small/Medium   0.000396  \n",
       "                                   Small/Small    0.000187  "
      ]
     },
     "metadata": {},
     "output_type": "display_data"
    },
    {
     "data": {
      "application/vnd.plotly.v1+json": {
       "config": {
        "plotlyServerURL": "https://plot.ly"
       },
       "data": [
        {
         "alignmentgroup": "True",
         "bingroup": "x",
         "histfunc": "avg",
         "hovertemplate": "Baseline=False<br>Geometry Sizes=Large/Large<br>Context=%{x}<br>avg of total_time=%{y}<extra></extra>",
         "legendgroup": "False",
         "marker": {
          "color": "rgb(255,183,180)",
          "pattern": {
           "shape": ""
          }
         },
         "name": "False",
         "offsetgroup": "False",
         "orientation": "v",
         "showlegend": true,
         "type": "histogram",
         "x": [
          "Fully Inside Other (TRUE)",
          "Overlap (FALSE)",
          "Partial Overlap (TRUE)"
         ],
         "xaxis": "x4",
         "y": [
          0.04391522864170838,
          0.0012638898274223475,
          0.006590916155372484
         ],
         "yaxis": "y4"
        },
        {
         "alignmentgroup": "True",
         "bingroup": "x",
         "histfunc": "avg",
         "hovertemplate": "Baseline=False<br>Geometry Sizes=Medium/Large<br>Context=%{x}<br>avg of total_time=%{y}<extra></extra>",
         "legendgroup": "False",
         "marker": {
          "color": "rgb(255,183,180)",
          "pattern": {
           "shape": ""
          }
         },
         "name": "False",
         "offsetgroup": "False",
         "orientation": "v",
         "showlegend": false,
         "type": "histogram",
         "x": [
          "Fully Inside Other (TRUE)",
          "Overlap (FALSE)",
          "Partial Overlap (TRUE)"
         ],
         "xaxis": "x5",
         "y": [
          0.0025107218734503013,
          0.000862982365162631,
          0.002474061870202132
         ],
         "yaxis": "y5"
        },
        {
         "alignmentgroup": "True",
         "bingroup": "x",
         "histfunc": "avg",
         "hovertemplate": "Baseline=False<br>Geometry Sizes=Medium/Medium<br>Context=%{x}<br>avg of total_time=%{y}<extra></extra>",
         "legendgroup": "False",
         "marker": {
          "color": "rgb(255,183,180)",
          "pattern": {
           "shape": ""
          }
         },
         "name": "False",
         "offsetgroup": "False",
         "orientation": "v",
         "showlegend": false,
         "type": "histogram",
         "x": [
          "Fully Inside Other (TRUE)",
          "Overlap (FALSE)",
          "Partial Overlap (TRUE)"
         ],
         "xaxis": "x6",
         "y": [
          0.0015975535206962377,
          0.00047896472465702695,
          0.0016248918861063882
         ],
         "yaxis": "y6"
        },
        {
         "alignmentgroup": "True",
         "bingroup": "x",
         "histfunc": "avg",
         "hovertemplate": "Baseline=False<br>Geometry Sizes=Small/Large<br>Context=%{x}<br>avg of total_time=%{y}<extra></extra>",
         "legendgroup": "False",
         "marker": {
          "color": "rgb(255,183,180)",
          "pattern": {
           "shape": ""
          }
         },
         "name": "False",
         "offsetgroup": "False",
         "orientation": "v",
         "showlegend": false,
         "type": "histogram",
         "x": [
          "Fully Inside Other (TRUE)",
          "Overlap (FALSE)",
          "Partial Overlap (TRUE)"
         ],
         "xaxis": "x",
         "y": [
          0.0021064445520702674,
          0.0006995478330175558,
          0.0018820870705435033
         ],
         "yaxis": "y"
        },
        {
         "alignmentgroup": "True",
         "bingroup": "x",
         "histfunc": "avg",
         "hovertemplate": "Baseline=False<br>Geometry Sizes=Small/Medium<br>Context=%{x}<br>avg of total_time=%{y}<extra></extra>",
         "legendgroup": "False",
         "marker": {
          "color": "rgb(255,183,180)",
          "pattern": {
           "shape": ""
          }
         },
         "name": "False",
         "offsetgroup": "False",
         "orientation": "v",
         "showlegend": false,
         "type": "histogram",
         "x": [
          "Fully Inside Other (TRUE)",
          "Overlap (FALSE)",
          "Partial Overlap (TRUE)"
         ],
         "xaxis": "x2",
         "y": [
          0.0005667053870018666,
          0.00032750633782026555,
          0.0011532633021858868
         ],
         "yaxis": "y2"
        },
        {
         "alignmentgroup": "True",
         "bingroup": "x",
         "histfunc": "avg",
         "hovertemplate": "Baseline=False<br>Geometry Sizes=Small/Small<br>Context=%{x}<br>avg of total_time=%{y}<extra></extra>",
         "legendgroup": "False",
         "marker": {
          "color": "rgb(255,183,180)",
          "pattern": {
           "shape": ""
          }
         },
         "name": "False",
         "offsetgroup": "False",
         "orientation": "v",
         "showlegend": false,
         "type": "histogram",
         "x": [
          "Fully Inside Other (TRUE)",
          "Overlap (FALSE)",
          "Partial Overlap (TRUE)"
         ],
         "xaxis": "x3",
         "y": [
          0.0004975810646500769,
          0.0002881632301066791,
          0.000718667352491672
         ],
         "yaxis": "y3"
        },
        {
         "alignmentgroup": "True",
         "bingroup": "x",
         "histfunc": "avg",
         "hovertemplate": "Baseline=True<br>Geometry Sizes=Large/Large<br>Context=%{x}<br>avg of total_time=%{y}<extra></extra>",
         "legendgroup": "True",
         "marker": {
          "color": "rgb(169,234,184)",
          "pattern": {
           "shape": ""
          }
         },
         "name": "True",
         "offsetgroup": "True",
         "orientation": "v",
         "showlegend": true,
         "type": "histogram",
         "x": [
          "Fully Inside Other (TRUE)",
          "Overlap (FALSE)",
          "Partial Overlap (TRUE)"
         ],
         "xaxis": "x4",
         "y": [
          0.09273660776671022,
          0.009199713172376712,
          0.018035720669428268
         ],
         "yaxis": "y4"
        },
        {
         "alignmentgroup": "True",
         "bingroup": "x",
         "histfunc": "avg",
         "hovertemplate": "Baseline=True<br>Geometry Sizes=Medium/Large<br>Context=%{x}<br>avg of total_time=%{y}<extra></extra>",
         "legendgroup": "True",
         "marker": {
          "color": "rgb(169,234,184)",
          "pattern": {
           "shape": ""
          }
         },
         "name": "True",
         "offsetgroup": "True",
         "orientation": "v",
         "showlegend": false,
         "type": "histogram",
         "x": [
          "Fully Inside Other (TRUE)",
          "Overlap (FALSE)",
          "Partial Overlap (TRUE)"
         ],
         "xaxis": "x5",
         "y": [
          0.03012948704244041,
          0.007335893771677088,
          0.004887819326148441
         ],
         "yaxis": "y5"
        },
        {
         "alignmentgroup": "True",
         "bingroup": "x",
         "histfunc": "avg",
         "hovertemplate": "Baseline=True<br>Geometry Sizes=Medium/Medium<br>Context=%{x}<br>avg of total_time=%{y}<extra></extra>",
         "legendgroup": "True",
         "marker": {
          "color": "rgb(169,234,184)",
          "pattern": {
           "shape": ""
          }
         },
         "name": "True",
         "offsetgroup": "True",
         "orientation": "v",
         "showlegend": false,
         "type": "histogram",
         "x": [
          "Fully Inside Other (TRUE)",
          "Overlap (FALSE)",
          "Partial Overlap (TRUE)"
         ],
         "xaxis": "x6",
         "y": [
          0.0019186610103740047,
          0.0008460833333821016,
          0.002215807944674004
         ],
         "yaxis": "y6"
        },
        {
         "alignmentgroup": "True",
         "bingroup": "x",
         "histfunc": "avg",
         "hovertemplate": "Baseline=True<br>Geometry Sizes=Small/Large<br>Context=%{x}<br>avg of total_time=%{y}<extra></extra>",
         "legendgroup": "True",
         "marker": {
          "color": "rgb(169,234,184)",
          "pattern": {
           "shape": ""
          }
         },
         "name": "True",
         "offsetgroup": "True",
         "orientation": "v",
         "showlegend": false,
         "type": "histogram",
         "x": [
          "Fully Inside Other (TRUE)",
          "Overlap (FALSE)",
          "Partial Overlap (TRUE)"
         ],
         "xaxis": "x",
         "y": [
          0.02586804421692553,
          0.005967628410913504,
          0.006730967415893287
         ],
         "yaxis": "y"
        },
        {
         "alignmentgroup": "True",
         "bingroup": "x",
         "histfunc": "avg",
         "hovertemplate": "Baseline=True<br>Geometry Sizes=Small/Medium<br>Context=%{x}<br>avg of total_time=%{y}<extra></extra>",
         "legendgroup": "True",
         "marker": {
          "color": "rgb(169,234,184)",
          "pattern": {
           "shape": ""
          }
         },
         "name": "True",
         "offsetgroup": "True",
         "orientation": "v",
         "showlegend": false,
         "type": "histogram",
         "x": [
          "Fully Inside Other (TRUE)",
          "Overlap (FALSE)",
          "Partial Overlap (TRUE)"
         ],
         "xaxis": "x2",
         "y": [
          0.0008921632552623026,
          0.0005795806179750226,
          0.0014036060852284534
         ],
         "yaxis": "y2"
        },
        {
         "alignmentgroup": "True",
         "bingroup": "x",
         "histfunc": "avg",
         "hovertemplate": "Baseline=True<br>Geometry Sizes=Small/Small<br>Context=%{x}<br>avg of total_time=%{y}<extra></extra>",
         "legendgroup": "True",
         "marker": {
          "color": "rgb(169,234,184)",
          "pattern": {
           "shape": ""
          }
         },
         "name": "True",
         "offsetgroup": "True",
         "orientation": "v",
         "showlegend": false,
         "type": "histogram",
         "x": [
          "Fully Inside Other (TRUE)",
          "Overlap (FALSE)",
          "Partial Overlap (TRUE)"
         ],
         "xaxis": "x3",
         "y": [
          0.0006072431138940033,
          0.00033690607963382844,
          0.0008116797514814127
         ],
         "yaxis": "y3"
        }
       ],
       "layout": {
        "annotations": [
         {
          "font": {
           "size": 16
          },
          "showarrow": false,
          "text": "Geometry Sizes=Small/Large",
          "x": 0.13333333333333333,
          "xanchor": "center",
          "xref": "paper",
          "y": 0.45,
          "yanchor": "bottom",
          "yref": "paper"
         },
         {
          "font": {
           "size": 16
          },
          "showarrow": false,
          "text": "Geometry Sizes=Small/Medium",
          "x": 0.5,
          "xanchor": "center",
          "xref": "paper",
          "y": 0.45,
          "yanchor": "bottom",
          "yref": "paper"
         },
         {
          "font": {
           "size": 16
          },
          "showarrow": false,
          "text": "Geometry Sizes=Small/Small",
          "x": 0.8666666666666667,
          "xanchor": "center",
          "xref": "paper",
          "y": 0.45,
          "yanchor": "bottom",
          "yref": "paper"
         },
         {
          "font": {
           "size": 16
          },
          "showarrow": false,
          "text": "Geometry Sizes=Large/Large",
          "x": 0.13333333333333333,
          "xanchor": "center",
          "xref": "paper",
          "y": 1,
          "yanchor": "bottom",
          "yref": "paper"
         },
         {
          "font": {
           "size": 16
          },
          "showarrow": false,
          "text": "Geometry Sizes=Medium/Large",
          "x": 0.5,
          "xanchor": "center",
          "xref": "paper",
          "y": 1,
          "yanchor": "bottom",
          "yref": "paper"
         },
         {
          "font": {
           "size": 16
          },
          "showarrow": false,
          "text": "Geometry Sizes=Medium/Medium",
          "x": 0.8666666666666667,
          "xanchor": "center",
          "xref": "paper",
          "y": 1,
          "yanchor": "bottom",
          "yref": "paper"
         },
         {
          "font": {
           "size": 20
          },
          "showarrow": false,
          "text": "Bounding Box Context",
          "x": 0.5,
          "xanchor": "center",
          "xref": "paper",
          "y": -0.17,
          "yanchor": "top",
          "yref": "paper"
         },
         {
          "font": {
           "size": 20
          },
          "showarrow": false,
          "text": "Mean Execution Time (s)",
          "textangle": -90,
          "x": -0.07,
          "xanchor": "center",
          "xref": "paper",
          "y": 0.5,
          "yanchor": "middle",
          "yref": "paper"
         }
        ],
        "barmode": "group",
        "height": 1000,
        "legend": {
         "font": {
          "size": 16
         },
         "title": {
          "text": "Baseline"
         },
         "tracegroupgap": 0,
         "x": 0.91,
         "xanchor": "left",
         "y": 1.15,
         "yanchor": "top"
        },
        "template": {
         "data": {
          "bar": [
           {
            "error_x": {
             "color": "#2a3f5f"
            },
            "error_y": {
             "color": "#2a3f5f"
            },
            "marker": {
             "line": {
              "color": "#E5ECF6",
              "width": 0.5
             },
             "pattern": {
              "fillmode": "overlay",
              "size": 10,
              "solidity": 0.2
             }
            },
            "type": "bar"
           }
          ],
          "barpolar": [
           {
            "marker": {
             "line": {
              "color": "#E5ECF6",
              "width": 0.5
             },
             "pattern": {
              "fillmode": "overlay",
              "size": 10,
              "solidity": 0.2
             }
            },
            "type": "barpolar"
           }
          ],
          "carpet": [
           {
            "aaxis": {
             "endlinecolor": "#2a3f5f",
             "gridcolor": "white",
             "linecolor": "white",
             "minorgridcolor": "white",
             "startlinecolor": "#2a3f5f"
            },
            "baxis": {
             "endlinecolor": "#2a3f5f",
             "gridcolor": "white",
             "linecolor": "white",
             "minorgridcolor": "white",
             "startlinecolor": "#2a3f5f"
            },
            "type": "carpet"
           }
          ],
          "choropleth": [
           {
            "colorbar": {
             "outlinewidth": 0,
             "ticks": ""
            },
            "type": "choropleth"
           }
          ],
          "contour": [
           {
            "colorbar": {
             "outlinewidth": 0,
             "ticks": ""
            },
            "colorscale": [
             [
              0,
              "#0d0887"
             ],
             [
              0.1111111111111111,
              "#46039f"
             ],
             [
              0.2222222222222222,
              "#7201a8"
             ],
             [
              0.3333333333333333,
              "#9c179e"
             ],
             [
              0.4444444444444444,
              "#bd3786"
             ],
             [
              0.5555555555555556,
              "#d8576b"
             ],
             [
              0.6666666666666666,
              "#ed7953"
             ],
             [
              0.7777777777777778,
              "#fb9f3a"
             ],
             [
              0.8888888888888888,
              "#fdca26"
             ],
             [
              1,
              "#f0f921"
             ]
            ],
            "type": "contour"
           }
          ],
          "contourcarpet": [
           {
            "colorbar": {
             "outlinewidth": 0,
             "ticks": ""
            },
            "type": "contourcarpet"
           }
          ],
          "heatmap": [
           {
            "colorbar": {
             "outlinewidth": 0,
             "ticks": ""
            },
            "colorscale": [
             [
              0,
              "#0d0887"
             ],
             [
              0.1111111111111111,
              "#46039f"
             ],
             [
              0.2222222222222222,
              "#7201a8"
             ],
             [
              0.3333333333333333,
              "#9c179e"
             ],
             [
              0.4444444444444444,
              "#bd3786"
             ],
             [
              0.5555555555555556,
              "#d8576b"
             ],
             [
              0.6666666666666666,
              "#ed7953"
             ],
             [
              0.7777777777777778,
              "#fb9f3a"
             ],
             [
              0.8888888888888888,
              "#fdca26"
             ],
             [
              1,
              "#f0f921"
             ]
            ],
            "type": "heatmap"
           }
          ],
          "heatmapgl": [
           {
            "colorbar": {
             "outlinewidth": 0,
             "ticks": ""
            },
            "colorscale": [
             [
              0,
              "#0d0887"
             ],
             [
              0.1111111111111111,
              "#46039f"
             ],
             [
              0.2222222222222222,
              "#7201a8"
             ],
             [
              0.3333333333333333,
              "#9c179e"
             ],
             [
              0.4444444444444444,
              "#bd3786"
             ],
             [
              0.5555555555555556,
              "#d8576b"
             ],
             [
              0.6666666666666666,
              "#ed7953"
             ],
             [
              0.7777777777777778,
              "#fb9f3a"
             ],
             [
              0.8888888888888888,
              "#fdca26"
             ],
             [
              1,
              "#f0f921"
             ]
            ],
            "type": "heatmapgl"
           }
          ],
          "histogram": [
           {
            "marker": {
             "pattern": {
              "fillmode": "overlay",
              "size": 10,
              "solidity": 0.2
             }
            },
            "type": "histogram"
           }
          ],
          "histogram2d": [
           {
            "colorbar": {
             "outlinewidth": 0,
             "ticks": ""
            },
            "colorscale": [
             [
              0,
              "#0d0887"
             ],
             [
              0.1111111111111111,
              "#46039f"
             ],
             [
              0.2222222222222222,
              "#7201a8"
             ],
             [
              0.3333333333333333,
              "#9c179e"
             ],
             [
              0.4444444444444444,
              "#bd3786"
             ],
             [
              0.5555555555555556,
              "#d8576b"
             ],
             [
              0.6666666666666666,
              "#ed7953"
             ],
             [
              0.7777777777777778,
              "#fb9f3a"
             ],
             [
              0.8888888888888888,
              "#fdca26"
             ],
             [
              1,
              "#f0f921"
             ]
            ],
            "type": "histogram2d"
           }
          ],
          "histogram2dcontour": [
           {
            "colorbar": {
             "outlinewidth": 0,
             "ticks": ""
            },
            "colorscale": [
             [
              0,
              "#0d0887"
             ],
             [
              0.1111111111111111,
              "#46039f"
             ],
             [
              0.2222222222222222,
              "#7201a8"
             ],
             [
              0.3333333333333333,
              "#9c179e"
             ],
             [
              0.4444444444444444,
              "#bd3786"
             ],
             [
              0.5555555555555556,
              "#d8576b"
             ],
             [
              0.6666666666666666,
              "#ed7953"
             ],
             [
              0.7777777777777778,
              "#fb9f3a"
             ],
             [
              0.8888888888888888,
              "#fdca26"
             ],
             [
              1,
              "#f0f921"
             ]
            ],
            "type": "histogram2dcontour"
           }
          ],
          "mesh3d": [
           {
            "colorbar": {
             "outlinewidth": 0,
             "ticks": ""
            },
            "type": "mesh3d"
           }
          ],
          "parcoords": [
           {
            "line": {
             "colorbar": {
              "outlinewidth": 0,
              "ticks": ""
             }
            },
            "type": "parcoords"
           }
          ],
          "pie": [
           {
            "automargin": true,
            "type": "pie"
           }
          ],
          "scatter": [
           {
            "fillpattern": {
             "fillmode": "overlay",
             "size": 10,
             "solidity": 0.2
            },
            "type": "scatter"
           }
          ],
          "scatter3d": [
           {
            "line": {
             "colorbar": {
              "outlinewidth": 0,
              "ticks": ""
             }
            },
            "marker": {
             "colorbar": {
              "outlinewidth": 0,
              "ticks": ""
             }
            },
            "type": "scatter3d"
           }
          ],
          "scattercarpet": [
           {
            "marker": {
             "colorbar": {
              "outlinewidth": 0,
              "ticks": ""
             }
            },
            "type": "scattercarpet"
           }
          ],
          "scattergeo": [
           {
            "marker": {
             "colorbar": {
              "outlinewidth": 0,
              "ticks": ""
             }
            },
            "type": "scattergeo"
           }
          ],
          "scattergl": [
           {
            "marker": {
             "colorbar": {
              "outlinewidth": 0,
              "ticks": ""
             }
            },
            "type": "scattergl"
           }
          ],
          "scattermapbox": [
           {
            "marker": {
             "colorbar": {
              "outlinewidth": 0,
              "ticks": ""
             }
            },
            "type": "scattermapbox"
           }
          ],
          "scatterpolar": [
           {
            "marker": {
             "colorbar": {
              "outlinewidth": 0,
              "ticks": ""
             }
            },
            "type": "scatterpolar"
           }
          ],
          "scatterpolargl": [
           {
            "marker": {
             "colorbar": {
              "outlinewidth": 0,
              "ticks": ""
             }
            },
            "type": "scatterpolargl"
           }
          ],
          "scatterternary": [
           {
            "marker": {
             "colorbar": {
              "outlinewidth": 0,
              "ticks": ""
             }
            },
            "type": "scatterternary"
           }
          ],
          "surface": [
           {
            "colorbar": {
             "outlinewidth": 0,
             "ticks": ""
            },
            "colorscale": [
             [
              0,
              "#0d0887"
             ],
             [
              0.1111111111111111,
              "#46039f"
             ],
             [
              0.2222222222222222,
              "#7201a8"
             ],
             [
              0.3333333333333333,
              "#9c179e"
             ],
             [
              0.4444444444444444,
              "#bd3786"
             ],
             [
              0.5555555555555556,
              "#d8576b"
             ],
             [
              0.6666666666666666,
              "#ed7953"
             ],
             [
              0.7777777777777778,
              "#fb9f3a"
             ],
             [
              0.8888888888888888,
              "#fdca26"
             ],
             [
              1,
              "#f0f921"
             ]
            ],
            "type": "surface"
           }
          ],
          "table": [
           {
            "cells": {
             "fill": {
              "color": "#EBF0F8"
             },
             "line": {
              "color": "white"
             }
            },
            "header": {
             "fill": {
              "color": "#C8D4E3"
             },
             "line": {
              "color": "white"
             }
            },
            "type": "table"
           }
          ]
         },
         "layout": {
          "annotationdefaults": {
           "arrowcolor": "#2a3f5f",
           "arrowhead": 0,
           "arrowwidth": 1
          },
          "autotypenumbers": "strict",
          "coloraxis": {
           "colorbar": {
            "outlinewidth": 0,
            "ticks": ""
           }
          },
          "colorscale": {
           "diverging": [
            [
             0,
             "#8e0152"
            ],
            [
             0.1,
             "#c51b7d"
            ],
            [
             0.2,
             "#de77ae"
            ],
            [
             0.3,
             "#f1b6da"
            ],
            [
             0.4,
             "#fde0ef"
            ],
            [
             0.5,
             "#f7f7f7"
            ],
            [
             0.6,
             "#e6f5d0"
            ],
            [
             0.7,
             "#b8e186"
            ],
            [
             0.8,
             "#7fbc41"
            ],
            [
             0.9,
             "#4d9221"
            ],
            [
             1,
             "#276419"
            ]
           ],
           "sequential": [
            [
             0,
             "#0d0887"
            ],
            [
             0.1111111111111111,
             "#46039f"
            ],
            [
             0.2222222222222222,
             "#7201a8"
            ],
            [
             0.3333333333333333,
             "#9c179e"
            ],
            [
             0.4444444444444444,
             "#bd3786"
            ],
            [
             0.5555555555555556,
             "#d8576b"
            ],
            [
             0.6666666666666666,
             "#ed7953"
            ],
            [
             0.7777777777777778,
             "#fb9f3a"
            ],
            [
             0.8888888888888888,
             "#fdca26"
            ],
            [
             1,
             "#f0f921"
            ]
           ],
           "sequentialminus": [
            [
             0,
             "#0d0887"
            ],
            [
             0.1111111111111111,
             "#46039f"
            ],
            [
             0.2222222222222222,
             "#7201a8"
            ],
            [
             0.3333333333333333,
             "#9c179e"
            ],
            [
             0.4444444444444444,
             "#bd3786"
            ],
            [
             0.5555555555555556,
             "#d8576b"
            ],
            [
             0.6666666666666666,
             "#ed7953"
            ],
            [
             0.7777777777777778,
             "#fb9f3a"
            ],
            [
             0.8888888888888888,
             "#fdca26"
            ],
            [
             1,
             "#f0f921"
            ]
           ]
          },
          "colorway": [
           "#636efa",
           "#EF553B",
           "#00cc96",
           "#ab63fa",
           "#FFA15A",
           "#19d3f3",
           "#FF6692",
           "#B6E880",
           "#FF97FF",
           "#FECB52"
          ],
          "font": {
           "color": "#2a3f5f"
          },
          "geo": {
           "bgcolor": "white",
           "lakecolor": "white",
           "landcolor": "#E5ECF6",
           "showlakes": true,
           "showland": true,
           "subunitcolor": "white"
          },
          "hoverlabel": {
           "align": "left"
          },
          "hovermode": "closest",
          "mapbox": {
           "style": "light"
          },
          "paper_bgcolor": "white",
          "plot_bgcolor": "#E5ECF6",
          "polar": {
           "angularaxis": {
            "gridcolor": "white",
            "linecolor": "white",
            "ticks": ""
           },
           "bgcolor": "#E5ECF6",
           "radialaxis": {
            "gridcolor": "white",
            "linecolor": "white",
            "ticks": ""
           }
          },
          "scene": {
           "xaxis": {
            "backgroundcolor": "#E5ECF6",
            "gridcolor": "white",
            "gridwidth": 2,
            "linecolor": "white",
            "showbackground": true,
            "ticks": "",
            "zerolinecolor": "white"
           },
           "yaxis": {
            "backgroundcolor": "#E5ECF6",
            "gridcolor": "white",
            "gridwidth": 2,
            "linecolor": "white",
            "showbackground": true,
            "ticks": "",
            "zerolinecolor": "white"
           },
           "zaxis": {
            "backgroundcolor": "#E5ECF6",
            "gridcolor": "white",
            "gridwidth": 2,
            "linecolor": "white",
            "showbackground": true,
            "ticks": "",
            "zerolinecolor": "white"
           }
          },
          "shapedefaults": {
           "line": {
            "color": "#2a3f5f"
           }
          },
          "ternary": {
           "aaxis": {
            "gridcolor": "white",
            "linecolor": "white",
            "ticks": ""
           },
           "baxis": {
            "gridcolor": "white",
            "linecolor": "white",
            "ticks": ""
           },
           "bgcolor": "#E5ECF6",
           "caxis": {
            "gridcolor": "white",
            "linecolor": "white",
            "ticks": ""
           }
          },
          "title": {
           "x": 0.05
          },
          "xaxis": {
           "automargin": true,
           "gridcolor": "white",
           "linecolor": "white",
           "ticks": "",
           "title": {
            "standoff": 15
           },
           "zerolinecolor": "white",
           "zerolinewidth": 2
          },
          "yaxis": {
           "automargin": true,
           "gridcolor": "white",
           "linecolor": "white",
           "ticks": "",
           "title": {
            "standoff": 15
           },
           "zerolinecolor": "white",
           "zerolinewidth": 2
          }
         }
        },
        "title": {
         "font": {
          "size": 22
         },
         "text": "Mean Execution Time for Intersection in Different Contexts",
         "y": 0.96
        },
        "width": 1200,
        "xaxis": {
         "anchor": "y",
         "domain": [
          0,
          0.26666666666666666
         ],
         "tickfont": {
          "size": 16
         },
         "title": {
          "text": ""
         }
        },
        "xaxis2": {
         "anchor": "y2",
         "domain": [
          0.3666666666666667,
          0.6333333333333333
         ],
         "matches": "x",
         "tickfont": {
          "size": 16
         },
         "title": {
          "text": ""
         }
        },
        "xaxis3": {
         "anchor": "y3",
         "domain": [
          0.7333333333333334,
          1
         ],
         "matches": "x",
         "tickfont": {
          "size": 16
         },
         "title": {
          "text": ""
         }
        },
        "xaxis4": {
         "anchor": "y4",
         "domain": [
          0,
          0.26666666666666666
         ],
         "matches": "x",
         "showticklabels": false,
         "tickfont": {
          "size": 16
         },
         "title": {
          "text": ""
         }
        },
        "xaxis5": {
         "anchor": "y5",
         "domain": [
          0.3666666666666667,
          0.6333333333333333
         ],
         "matches": "x",
         "showticklabels": false,
         "tickfont": {
          "size": 16
         },
         "title": {
          "text": ""
         }
        },
        "xaxis6": {
         "anchor": "y6",
         "domain": [
          0.7333333333333334,
          1
         ],
         "matches": "x",
         "showticklabels": false,
         "tickfont": {
          "size": 16
         },
         "title": {
          "text": ""
         }
        },
        "yaxis": {
         "anchor": "x",
         "domain": [
          0,
          0.45
         ],
         "showticklabels": true,
         "tickfont": {
          "size": 16
         },
         "title": {
          "text": ""
         }
        },
        "yaxis2": {
         "anchor": "x2",
         "domain": [
          0,
          0.45
         ],
         "showticklabels": true,
         "tickfont": {
          "size": 16
         },
         "title": {
          "text": ""
         }
        },
        "yaxis3": {
         "anchor": "x3",
         "domain": [
          0,
          0.45
         ],
         "showticklabels": true,
         "tickfont": {
          "size": 16
         },
         "title": {
          "text": ""
         }
        },
        "yaxis4": {
         "anchor": "x4",
         "domain": [
          0.55,
          1
         ],
         "showticklabels": true,
         "tickfont": {
          "size": 16
         },
         "title": {
          "text": ""
         }
        },
        "yaxis5": {
         "anchor": "x5",
         "domain": [
          0.55,
          1
         ],
         "showticklabels": true,
         "tickfont": {
          "size": 16
         },
         "title": {
          "text": ""
         }
        },
        "yaxis6": {
         "anchor": "x6",
         "domain": [
          0.55,
          1
         ],
         "showticklabels": true,
         "tickfont": {
          "size": 16
         },
         "title": {
          "text": ""
         }
        }
       }
      }
     },
     "metadata": {},
     "output_type": "display_data"
    }
   ],
   "source": [
    "total_time_df = stats_df[['context', 'total_time', 'sizes', 'baseline', 'predicate', 'decomp']]\n",
    "plot_total_time_bars(total_time_df, is_predicate=False, size_cat_excl=[], log_scale=False) #"
   ]
  },
  {
   "cell_type": "code",
   "execution_count": 25,
   "metadata": {},
   "outputs": [
    {
     "data": {
      "text/plain": [
       "baseline  context                    sizes        \n",
       "False     Fully Inside Other (TRUE)  Large/Large      41.211938\n",
       "                                     Medium/Large     65.056097\n",
       "                                     Medium/Medium    39.049614\n",
       "                                     Small/Large      61.511421\n",
       "                                     Small/Medium     38.434834\n",
       "                                     Small/Small      35.447174\n",
       "          Overlap (FALSE)            Large/Large      62.654048\n",
       "                                     Medium/Large     49.582579\n",
       "                                     Medium/Medium    43.496202\n",
       "                                     Small/Large      46.382173\n",
       "                                     Small/Medium     38.193752\n",
       "                                     Small/Small      38.712126\n",
       "          Partial Overlap (TRUE)     Large/Large      16.671349\n",
       "                                     Medium/Large     19.544162\n",
       "                                     Medium/Medium    17.782084\n",
       "                                     Small/Large      24.996191\n",
       "                                     Small/Medium     18.336982\n",
       "                                     Small/Small      17.071522\n",
       "True      Fully Inside Other (TRUE)  Large/Large      51.811359\n",
       "                                     Medium/Large     82.640952\n",
       "                                     Medium/Medium    49.325609\n",
       "                                     Small/Large      80.600061\n",
       "                                     Small/Medium     51.818694\n",
       "                                     Small/Small      41.819784\n",
       "          Overlap (FALSE)            Large/Large      84.409963\n",
       "                                     Medium/Large     76.410242\n",
       "                                     Medium/Medium    65.603925\n",
       "                                     Small/Large      75.623622\n",
       "                                     Small/Medium     59.943932\n",
       "                                     Small/Small      47.238649\n",
       "          Partial Overlap (TRUE)     Large/Large      34.559299\n",
       "                                     Medium/Large     39.808024\n",
       "                                     Medium/Medium    29.916374\n",
       "                                     Small/Large      52.132706\n",
       "                                     Small/Medium     29.809793\n",
       "                                     Small/Small      22.238227\n",
       "Name: frac, dtype: float64"
      ]
     },
     "metadata": {},
     "output_type": "display_data"
    },
    {
     "data": {
      "text/html": [
       "<div>\n",
       "<style scoped>\n",
       "    .dataframe tbody tr th:only-of-type {\n",
       "        vertical-align: middle;\n",
       "    }\n",
       "\n",
       "    .dataframe tbody tr th {\n",
       "        vertical-align: top;\n",
       "    }\n",
       "\n",
       "    .dataframe thead th {\n",
       "        text-align: right;\n",
       "    }\n",
       "</style>\n",
       "<table border=\"1\" class=\"dataframe\">\n",
       "  <thead>\n",
       "    <tr style=\"text-align: right;\">\n",
       "      <th></th>\n",
       "      <th></th>\n",
       "      <th></th>\n",
       "      <th>total_time</th>\n",
       "      <th>decomp</th>\n",
       "    </tr>\n",
       "    <tr>\n",
       "      <th>baseline</th>\n",
       "      <th>context</th>\n",
       "      <th>sizes</th>\n",
       "      <th></th>\n",
       "      <th></th>\n",
       "    </tr>\n",
       "  </thead>\n",
       "  <tbody>\n",
       "    <tr>\n",
       "      <th rowspan=\"18\" valign=\"top\">False</th>\n",
       "      <th rowspan=\"6\" valign=\"top\">Fully Inside Other (TRUE)</th>\n",
       "      <th>Large/Large</th>\n",
       "      <td>0.043915</td>\n",
       "      <td>0.022955</td>\n",
       "    </tr>\n",
       "    <tr>\n",
       "      <th>Medium/Large</th>\n",
       "      <td>0.002511</td>\n",
       "      <td>0.001715</td>\n",
       "    </tr>\n",
       "    <tr>\n",
       "      <th>Medium/Medium</th>\n",
       "      <td>0.001598</td>\n",
       "      <td>0.000444</td>\n",
       "    </tr>\n",
       "    <tr>\n",
       "      <th>Small/Large</th>\n",
       "      <td>0.002106</td>\n",
       "      <td>0.001738</td>\n",
       "    </tr>\n",
       "    <tr>\n",
       "      <th>Small/Medium</th>\n",
       "      <td>0.000567</td>\n",
       "      <td>0.000215</td>\n",
       "    </tr>\n",
       "    <tr>\n",
       "      <th>Small/Small</th>\n",
       "      <td>0.000498</td>\n",
       "      <td>0.000173</td>\n",
       "    </tr>\n",
       "    <tr>\n",
       "      <th rowspan=\"6\" valign=\"top\">Overlap (FALSE)</th>\n",
       "      <th>Large/Large</th>\n",
       "      <td>0.001264</td>\n",
       "      <td>0.000553</td>\n",
       "    </tr>\n",
       "    <tr>\n",
       "      <th>Medium/Large</th>\n",
       "      <td>0.000863</td>\n",
       "      <td>0.000551</td>\n",
       "    </tr>\n",
       "    <tr>\n",
       "      <th>Medium/Medium</th>\n",
       "      <td>0.000479</td>\n",
       "      <td>0.000209</td>\n",
       "    </tr>\n",
       "    <tr>\n",
       "      <th>Small/Large</th>\n",
       "      <td>0.000700</td>\n",
       "      <td>0.000398</td>\n",
       "    </tr>\n",
       "    <tr>\n",
       "      <th>Small/Medium</th>\n",
       "      <td>0.000328</td>\n",
       "      <td>0.000131</td>\n",
       "    </tr>\n",
       "    <tr>\n",
       "      <th>Small/Small</th>\n",
       "      <td>0.000288</td>\n",
       "      <td>0.000112</td>\n",
       "    </tr>\n",
       "    <tr>\n",
       "      <th rowspan=\"6\" valign=\"top\">Partial Overlap (TRUE)</th>\n",
       "      <th>Large/Large</th>\n",
       "      <td>0.006591</td>\n",
       "      <td>0.000882</td>\n",
       "    </tr>\n",
       "    <tr>\n",
       "      <th>Medium/Large</th>\n",
       "      <td>0.002474</td>\n",
       "      <td>0.000563</td>\n",
       "    </tr>\n",
       "    <tr>\n",
       "      <th>Medium/Medium</th>\n",
       "      <td>0.001625</td>\n",
       "      <td>0.000266</td>\n",
       "    </tr>\n",
       "    <tr>\n",
       "      <th>Small/Large</th>\n",
       "      <td>0.001882</td>\n",
       "      <td>0.000631</td>\n",
       "    </tr>\n",
       "    <tr>\n",
       "      <th>Small/Medium</th>\n",
       "      <td>0.001153</td>\n",
       "      <td>0.000197</td>\n",
       "    </tr>\n",
       "    <tr>\n",
       "      <th>Small/Small</th>\n",
       "      <td>0.000719</td>\n",
       "      <td>0.000117</td>\n",
       "    </tr>\n",
       "    <tr>\n",
       "      <th rowspan=\"18\" valign=\"top\">True</th>\n",
       "      <th rowspan=\"6\" valign=\"top\">Fully Inside Other (TRUE)</th>\n",
       "      <th>Large/Large</th>\n",
       "      <td>0.092737</td>\n",
       "      <td>0.016609</td>\n",
       "    </tr>\n",
       "    <tr>\n",
       "      <th>Medium/Large</th>\n",
       "      <td>0.030129</td>\n",
       "      <td>0.028793</td>\n",
       "    </tr>\n",
       "    <tr>\n",
       "      <th>Medium/Medium</th>\n",
       "      <td>0.001919</td>\n",
       "      <td>0.000685</td>\n",
       "    </tr>\n",
       "    <tr>\n",
       "      <th>Small/Large</th>\n",
       "      <td>0.025868</td>\n",
       "      <td>0.024744</td>\n",
       "    </tr>\n",
       "    <tr>\n",
       "      <th>Small/Medium</th>\n",
       "      <td>0.000892</td>\n",
       "      <td>0.000469</td>\n",
       "    </tr>\n",
       "    <tr>\n",
       "      <th>Small/Small</th>\n",
       "      <td>0.000607</td>\n",
       "      <td>0.000265</td>\n",
       "    </tr>\n",
       "    <tr>\n",
       "      <th rowspan=\"6\" valign=\"top\">Overlap (FALSE)</th>\n",
       "      <th>Large/Large</th>\n",
       "      <td>0.009200</td>\n",
       "      <td>0.007873</td>\n",
       "    </tr>\n",
       "    <tr>\n",
       "      <th>Medium/Large</th>\n",
       "      <td>0.007336</td>\n",
       "      <td>0.006799</td>\n",
       "    </tr>\n",
       "    <tr>\n",
       "      <th>Medium/Medium</th>\n",
       "      <td>0.000846</td>\n",
       "      <td>0.000554</td>\n",
       "    </tr>\n",
       "    <tr>\n",
       "      <th>Small/Large</th>\n",
       "      <td>0.005968</td>\n",
       "      <td>0.005419</td>\n",
       "    </tr>\n",
       "    <tr>\n",
       "      <th>Small/Medium</th>\n",
       "      <td>0.000580</td>\n",
       "      <td>0.000349</td>\n",
       "    </tr>\n",
       "    <tr>\n",
       "      <th>Small/Small</th>\n",
       "      <td>0.000337</td>\n",
       "      <td>0.000166</td>\n",
       "    </tr>\n",
       "    <tr>\n",
       "      <th rowspan=\"6\" valign=\"top\">Partial Overlap (TRUE)</th>\n",
       "      <th>Large/Large</th>\n",
       "      <td>0.018036</td>\n",
       "      <td>0.004571</td>\n",
       "    </tr>\n",
       "    <tr>\n",
       "      <th>Medium/Large</th>\n",
       "      <td>0.004888</td>\n",
       "      <td>0.002204</td>\n",
       "    </tr>\n",
       "    <tr>\n",
       "      <th>Medium/Medium</th>\n",
       "      <td>0.002216</td>\n",
       "      <td>0.000609</td>\n",
       "    </tr>\n",
       "    <tr>\n",
       "      <th>Small/Large</th>\n",
       "      <td>0.006731</td>\n",
       "      <td>0.005003</td>\n",
       "    </tr>\n",
       "    <tr>\n",
       "      <th>Small/Medium</th>\n",
       "      <td>0.001404</td>\n",
       "      <td>0.000396</td>\n",
       "    </tr>\n",
       "    <tr>\n",
       "      <th>Small/Small</th>\n",
       "      <td>0.000812</td>\n",
       "      <td>0.000187</td>\n",
       "    </tr>\n",
       "  </tbody>\n",
       "</table>\n",
       "</div>"
      ],
      "text/plain": [
       "                                                  total_time    decomp\n",
       "baseline context                   sizes                              \n",
       "False    Fully Inside Other (TRUE) Large/Large      0.043915  0.022955\n",
       "                                   Medium/Large     0.002511  0.001715\n",
       "                                   Medium/Medium    0.001598  0.000444\n",
       "                                   Small/Large      0.002106  0.001738\n",
       "                                   Small/Medium     0.000567  0.000215\n",
       "                                   Small/Small      0.000498  0.000173\n",
       "         Overlap (FALSE)           Large/Large      0.001264  0.000553\n",
       "                                   Medium/Large     0.000863  0.000551\n",
       "                                   Medium/Medium    0.000479  0.000209\n",
       "                                   Small/Large      0.000700  0.000398\n",
       "                                   Small/Medium     0.000328  0.000131\n",
       "                                   Small/Small      0.000288  0.000112\n",
       "         Partial Overlap (TRUE)    Large/Large      0.006591  0.000882\n",
       "                                   Medium/Large     0.002474  0.000563\n",
       "                                   Medium/Medium    0.001625  0.000266\n",
       "                                   Small/Large      0.001882  0.000631\n",
       "                                   Small/Medium     0.001153  0.000197\n",
       "                                   Small/Small      0.000719  0.000117\n",
       "True     Fully Inside Other (TRUE) Large/Large      0.092737  0.016609\n",
       "                                   Medium/Large     0.030129  0.028793\n",
       "                                   Medium/Medium    0.001919  0.000685\n",
       "                                   Small/Large      0.025868  0.024744\n",
       "                                   Small/Medium     0.000892  0.000469\n",
       "                                   Small/Small      0.000607  0.000265\n",
       "         Overlap (FALSE)           Large/Large      0.009200  0.007873\n",
       "                                   Medium/Large     0.007336  0.006799\n",
       "                                   Medium/Medium    0.000846  0.000554\n",
       "                                   Small/Large      0.005968  0.005419\n",
       "                                   Small/Medium     0.000580  0.000349\n",
       "                                   Small/Small      0.000337  0.000166\n",
       "         Partial Overlap (TRUE)    Large/Large      0.018036  0.004571\n",
       "                                   Medium/Large     0.004888  0.002204\n",
       "                                   Medium/Medium    0.002216  0.000609\n",
       "                                   Small/Large      0.006731  0.005003\n",
       "                                   Small/Medium     0.001404  0.000396\n",
       "                                   Small/Small      0.000812  0.000187"
      ]
     },
     "metadata": {},
     "output_type": "display_data"
    },
    {
     "data": {
      "text/html": [
       "<div>\n",
       "<style scoped>\n",
       "    .dataframe tbody tr th:only-of-type {\n",
       "        vertical-align: middle;\n",
       "    }\n",
       "\n",
       "    .dataframe tbody tr th {\n",
       "        vertical-align: top;\n",
       "    }\n",
       "\n",
       "    .dataframe thead th {\n",
       "        text-align: right;\n",
       "    }\n",
       "</style>\n",
       "<table border=\"1\" class=\"dataframe\">\n",
       "  <thead>\n",
       "    <tr style=\"text-align: right;\">\n",
       "      <th></th>\n",
       "      <th>decomp</th>\n",
       "      <th>nbr_recieved_chks</th>\n",
       "      <th>nbr_total_chks</th>\n",
       "      <th>total_time</th>\n",
       "      <th>sizes</th>\n",
       "      <th>context</th>\n",
       "      <th>delta_size</th>\n",
       "      <th>predicate</th>\n",
       "      <th>dataset_idx</th>\n",
       "      <th>baseline</th>\n",
       "      <th>dataset</th>\n",
       "      <th>frac</th>\n",
       "    </tr>\n",
       "  </thead>\n",
       "  <tbody>\n",
       "    <tr>\n",
       "      <th>1097</th>\n",
       "      <td>0.165344</td>\n",
       "      <td>18.0</td>\n",
       "      <td>1345.0</td>\n",
       "      <td>0.165689</td>\n",
       "      <td>Large/Large</td>\n",
       "      <td>Fully Inside Other (TRUE)</td>\n",
       "      <td>15</td>\n",
       "      <td>False</td>\n",
       "      <td>602</td>\n",
       "      <td>False</td>\n",
       "      <td>Sweden All</td>\n",
       "      <td>99.792169</td>\n",
       "    </tr>\n",
       "    <tr>\n",
       "      <th>13189</th>\n",
       "      <td>0.001521</td>\n",
       "      <td>16.0</td>\n",
       "      <td>163.0</td>\n",
       "      <td>0.002441</td>\n",
       "      <td>Large/Large</td>\n",
       "      <td>Fully Inside Other (TRUE)</td>\n",
       "      <td>15</td>\n",
       "      <td>False</td>\n",
       "      <td>7256</td>\n",
       "      <td>False</td>\n",
       "      <td>Sweden All</td>\n",
       "      <td>62.313757</td>\n",
       "    </tr>\n",
       "    <tr>\n",
       "      <th>14223</th>\n",
       "      <td>0.010165</td>\n",
       "      <td>216.0</td>\n",
       "      <td>376.0</td>\n",
       "      <td>0.121979</td>\n",
       "      <td>Large/Large</td>\n",
       "      <td>Fully Inside Other (TRUE)</td>\n",
       "      <td>15</td>\n",
       "      <td>False</td>\n",
       "      <td>7828</td>\n",
       "      <td>False</td>\n",
       "      <td>Sweden All</td>\n",
       "      <td>8.333623</td>\n",
       "    </tr>\n",
       "    <tr>\n",
       "      <th>15275</th>\n",
       "      <td>0.001137</td>\n",
       "      <td>11.0</td>\n",
       "      <td>78.0</td>\n",
       "      <td>0.001821</td>\n",
       "      <td>Large/Large</td>\n",
       "      <td>Fully Inside Other (TRUE)</td>\n",
       "      <td>15</td>\n",
       "      <td>False</td>\n",
       "      <td>8398</td>\n",
       "      <td>False</td>\n",
       "      <td>Sweden All</td>\n",
       "      <td>62.466133</td>\n",
       "    </tr>\n",
       "    <tr>\n",
       "      <th>16479</th>\n",
       "      <td>0.000790</td>\n",
       "      <td>9.0</td>\n",
       "      <td>91.0</td>\n",
       "      <td>0.001095</td>\n",
       "      <td>Large/Large</td>\n",
       "      <td>Fully Inside Other (TRUE)</td>\n",
       "      <td>15</td>\n",
       "      <td>False</td>\n",
       "      <td>9071</td>\n",
       "      <td>False</td>\n",
       "      <td>Sweden All</td>\n",
       "      <td>72.129700</td>\n",
       "    </tr>\n",
       "    <tr>\n",
       "      <th>2889</th>\n",
       "      <td>0.001344</td>\n",
       "      <td>29.0</td>\n",
       "      <td>97.0</td>\n",
       "      <td>0.014213</td>\n",
       "      <td>Large/Large</td>\n",
       "      <td>Fully Inside Other (TRUE)</td>\n",
       "      <td>15</td>\n",
       "      <td>False</td>\n",
       "      <td>1455</td>\n",
       "      <td>False</td>\n",
       "      <td>China Water</td>\n",
       "      <td>9.453373</td>\n",
       "    </tr>\n",
       "    <tr>\n",
       "      <th>3869</th>\n",
       "      <td>0.002178</td>\n",
       "      <td>51.0</td>\n",
       "      <td>56.0</td>\n",
       "      <td>0.028971</td>\n",
       "      <td>Large/Large</td>\n",
       "      <td>Fully Inside Other (TRUE)</td>\n",
       "      <td>15</td>\n",
       "      <td>False</td>\n",
       "      <td>1951</td>\n",
       "      <td>False</td>\n",
       "      <td>China Water</td>\n",
       "      <td>7.517109</td>\n",
       "    </tr>\n",
       "    <tr>\n",
       "      <th>15967</th>\n",
       "      <td>0.001162</td>\n",
       "      <td>23.0</td>\n",
       "      <td>65.0</td>\n",
       "      <td>0.015113</td>\n",
       "      <td>Large/Large</td>\n",
       "      <td>Fully Inside Other (TRUE)</td>\n",
       "      <td>15</td>\n",
       "      <td>False</td>\n",
       "      <td>8065</td>\n",
       "      <td>False</td>\n",
       "      <td>China Water</td>\n",
       "      <td>7.689643</td>\n",
       "    </tr>\n",
       "  </tbody>\n",
       "</table>\n",
       "</div>"
      ],
      "text/plain": [
       "         decomp  nbr_recieved_chks  nbr_total_chks  total_time        sizes   \n",
       "1097   0.165344               18.0          1345.0    0.165689  Large/Large  \\\n",
       "13189  0.001521               16.0           163.0    0.002441  Large/Large   \n",
       "14223  0.010165              216.0           376.0    0.121979  Large/Large   \n",
       "15275  0.001137               11.0            78.0    0.001821  Large/Large   \n",
       "16479  0.000790                9.0            91.0    0.001095  Large/Large   \n",
       "2889   0.001344               29.0            97.0    0.014213  Large/Large   \n",
       "3869   0.002178               51.0            56.0    0.028971  Large/Large   \n",
       "15967  0.001162               23.0            65.0    0.015113  Large/Large   \n",
       "\n",
       "                         context  delta_size  predicate  dataset_idx   \n",
       "1097   Fully Inside Other (TRUE)          15      False          602  \\\n",
       "13189  Fully Inside Other (TRUE)          15      False         7256   \n",
       "14223  Fully Inside Other (TRUE)          15      False         7828   \n",
       "15275  Fully Inside Other (TRUE)          15      False         8398   \n",
       "16479  Fully Inside Other (TRUE)          15      False         9071   \n",
       "2889   Fully Inside Other (TRUE)          15      False         1455   \n",
       "3869   Fully Inside Other (TRUE)          15      False         1951   \n",
       "15967  Fully Inside Other (TRUE)          15      False         8065   \n",
       "\n",
       "       baseline      dataset       frac  \n",
       "1097      False   Sweden All  99.792169  \n",
       "13189     False   Sweden All  62.313757  \n",
       "14223     False   Sweden All   8.333623  \n",
       "15275     False   Sweden All  62.466133  \n",
       "16479     False   Sweden All  72.129700  \n",
       "2889      False  China Water   9.453373  \n",
       "3869      False  China Water   7.517109  \n",
       "15967     False  China Water   7.689643  "
      ]
     },
     "metadata": {},
     "output_type": "display_data"
    },
    {
     "data": {
      "image/png": "[encoded data removed]",
      "text/plain": [
       "<Figure size 1600x1200 with 1 Axes>"
      ]
     },
     "metadata": {},
     "output_type": "display_data"
    }
   ],
   "source": [
    "def get_percentage_cases(df, is_predicate=False):\n",
    "    df = df[(df['predicate'] == is_predicate) & (df['baseline'] == False)] #(df['sizes'].isin([\"Small/Small\", \"Medium/Medium\", \"Large/Large\"]))]\n",
    "    df = df.groupby(['context', 'sizes']).count()\n",
    "    return df, sum(df['dataset'])\n",
    "df, cnt = get_percentage_cases(stats_df)\n",
    "df = 100 * df / (cnt)\n",
    "#display(df['dataset'])\n",
    "\n",
    "stats_df = stats_df[(stats_df['predicate'] == False)] #(df['sizes'].isin([\"Small/Small\", \"Medium/Medium\", \"Large/Large\"]))]\n",
    "\n",
    "stats_df['frac'] =(stats_df[\"decomp\"].div(stats_df.total_time, axis=0) * 100)\n",
    "display(stats_df.groupby([\"baseline\", \"context\", \"sizes\"])['frac'].mean())\n",
    "display(stats_df.groupby([\"baseline\", \"context\", \"sizes\"])[['total_time', 'decomp']].mean())\n",
    "\n",
    "display(stats_df[(stats_df['context'] == \"Fully Inside Other (TRUE)\") & (stats_df['baseline'] == False) & (stats_df['sizes'] == \"Large/Large\")])\n",
    "\n",
    "\n",
    "dataset, _, dataset_name = datasets[1]\n",
    "np.random.seed(2021)\n",
    "indicies = np.random.choice(len(dataset), size=10000, replace=True)\n",
    "dataset = np.array(dataset)[indicies] \n",
    "g1, g2 = dataset[5255]\n",
    "create_canvas()\n",
    "plot_geometry(g1)\n",
    "plot_geometry(g2)\n",
    "plt.show()\n",
    "\n",
    "\n",
    "\n"
   ]
  },
  {
   "attachments": {},
   "cell_type": "markdown",
   "metadata": {},
   "source": [
    "#### Chunk Unfolding Analyzation"
   ]
  },
  {
   "cell_type": "code",
   "execution_count": 18,
   "metadata": {},
   "outputs": [],
   "source": [
    "chunk_unfolded_df = stats_df[['nbr_recieved_chks', 'nbr_total_chks','predicate','baseline', 'context', 'sizes']]\n",
    "chunk_unfolded_df[\"chk_fraction_unfolded\"] = chunk_unfolded_df[\"nbr_recieved_chks\"].div(chunk_unfolded_df.nbr_total_chks, axis=0) * 100"
   ]
  },
  {
   "cell_type": "code",
   "execution_count": 19,
   "metadata": {},
   "outputs": [],
   "source": [
    "def plot_chunk_unfolded_frac(df, is_predicate=False, is_baseline=False):\n",
    "    df = df[df['baseline'] == False]\n",
    "    #df[\"chk_fraction_unfolded\"] = df[\"nbr_recieved_chks\"].div(df.nbr_total_chks, axis=0) * 100\n",
    "    #df = df[(df['predicate'] == is_predicate) & (df['sizes'].isin([\"Small/Small\", \"Medium/Medium\", \"Large/Large\"]))]\n",
    "    \n",
    "\n",
    "    df = df.groupby(['context', 'baseline', 'sizes']).mean()\n",
    "    df.reset_index(inplace=True)\n",
    "\n",
    "\n",
    "\n",
    "    intersection_format = \"Intersection\" if not is_predicate else \"IsIntersection\"\n",
    "\n",
    "    fig = px.bar(df, \n",
    "                       x=\"chk_fraction_unfolded\", \n",
    "                       y=\"context\", \n",
    "                       facet_row=\"sizes\", \n",
    "                       barmode='group',\n",
    "                       facet_col_spacing=0.1, \n",
    "                       title=f\"Fraction of Chunks Unfolded for {intersection_format}\",\n",
    "                       labels=dict(sizes=\"Geometry Sizes\", context=\"Context\", baseline=\"Baseline\", Stage=\"Stage: \"),\n",
    "                       facet_col_wrap=1,\n",
    "                       height=1000,\n",
    "                       width=2000,\n",
    "                       orientation=\"h\",\n",
    "                       text=\"chk_fraction_unfolded\",\n",
    "                       color_discrete_sequence=['rgb(255,183,180)']*len(df)\n",
    "                       )\n",
    "    \n",
    "    fig.update_annotations(font=dict(size=16))\n",
    "    fig.for_each_yaxis(lambda yaxis: yaxis.update(showticklabels=True))\n",
    "    fig.update_yaxes(showticklabels=True, visible=True,  tickfont=dict(size=16))\n",
    "    fig.update_xaxes(tickfont=dict(size=16))\n",
    "    fig.update_traces(texttemplate='%{text:.2f}%' ,textfont=dict(size=14))\n",
    "    fig.update_layout(barmode=\"relative\",\n",
    "                      title_x=0.5,\n",
    "                      width=1000, \n",
    "                      height=800, \n",
    "                      legend=dict(\n",
    "                            yanchor=\"top\",\n",
    "                            y=1,\n",
    "                            xanchor=\"left\",\n",
    "                            x=0.5,\n",
    "                            orientation=\"h\",\n",
    "                            font=dict(size=16)\n",
    "                        ),\n",
    "                        title=dict(\n",
    "                            text=f'Fraction of Chunks Unfolded for Intersection in Different Contexts and Geometry Sizes',\n",
    "                            x=0.5,\n",
    "                            font=dict(size=22)\n",
    "                            ),\n",
    "                        annotations=[dict(                           \n",
    "                            textangle=0\n",
    "                            )\n",
    "                        ],\n",
    "                        margin=dict(\n",
    "                        l=100,\n",
    "                        r=200,\n",
    "                        b=100,\n",
    "                        t=100,\n",
    "                        pad=5\n",
    "                    )\n",
    "                        )\n",
    "\n",
    "    for axis in fig.layout:\n",
    "        if type(fig.layout[axis]) == objs.layout.XAxis:\n",
    "            fig.layout[axis].title.text = ''\n",
    "\n",
    "    for axis in fig.layout:\n",
    "        if type(fig.layout[axis]) == objs.layout.YAxis:\n",
    "            fig.layout[axis].title.text = '' \n",
    "\n",
    "    fig.for_each_annotation(lambda a: a.update(text= \"  \" + a.text.split(\"=\")[1]))\n",
    "    #fig.for_each_trace(lambda t: t.update(name=t.name.split(\"=\")[0]))\n",
    "    fig.add_annotation(\n",
    "    dict(\n",
    "        x=0.5,\n",
    "        y=-0.04,  # adjust as needed\n",
    "        showarrow=False,\n",
    "        text=\"Chunks Unfolded (%)\",\n",
    "        xref=\"paper\",\n",
    "        yref=\"paper\",\n",
    "        font=dict(size=20),\n",
    "        xanchor=\"center\", \n",
    "        yanchor=\"top\"\n",
    "    )\n",
    "    )\n",
    "\n",
    "    fig.add_annotation(\n",
    "    dict(\n",
    "        x=1.3,\n",
    "        y=0.62,  # adjust as needed\n",
    "        showarrow=False,\n",
    "        text=\"Geometry Size\",\n",
    "        xref=\"paper\",\n",
    "        yref=\"paper\",\n",
    "        textangle=90,\n",
    "        font=dict(size=20),\n",
    "        xanchor=\"center\", \n",
    "        yanchor=\"top\"\n",
    "    )\n",
    "    )\n",
    "\n",
    "    fig.add_annotation(\n",
    "    dict(\n",
    "        x=-0.43,  # adjust as needed\n",
    "        y=0.5,\n",
    "        showarrow=False,\n",
    "        text=\"Bounding Box Context\",\n",
    "        textangle=-90,\n",
    "        xref=\"paper\",\n",
    "        yref=\"paper\",\n",
    "        font=dict(size=20),\n",
    "        xanchor=\"center\",\n",
    "        yanchor=\"middle\",\n",
    "    ))\n",
    "   \n",
    "    fig.show()"
   ]
  },
  {
   "attachments": {},
   "cell_type": "markdown",
   "metadata": {},
   "source": [
    "## Results"
   ]
  },
  {
   "attachments": {},
   "cell_type": "markdown",
   "metadata": {},
   "source": [
    "#### Total time Analysis"
   ]
  },
  {
   "attachments": {},
   "cell_type": "markdown",
   "metadata": {},
   "source": [
    "#### (%) Unfolding of chunks"
   ]
  },
  {
   "cell_type": "code",
   "execution_count": 20,
   "metadata": {},
   "outputs": [
    {
     "data": {
      "application/vnd.plotly.v1+json": {
       "config": {
        "plotlyServerURL": "https://plot.ly"
       },
       "data": [
        {
         "alignmentgroup": "True",
         "hovertemplate": "Geometry Sizes=Large/Large<br>chk_fraction_unfolded=%{text}<br>Context=%{y}<extra></extra>",
         "legendgroup": "",
         "marker": {
          "color": "rgb(255,183,180)",
          "pattern": {
           "shape": ""
          }
         },
         "name": "",
         "offsetgroup": "",
         "orientation": "h",
         "showlegend": false,
         "text": [
          31.118334319865223,
          3.9986398585950225,
          21.116277611757294
         ],
         "textfont": {
          "size": 14
         },
         "textposition": "auto",
         "texttemplate": "%{text:.2f}%",
         "type": "bar",
         "x": [
          31.118334319865223,
          3.9986398585950225,
          21.116277611757294
         ],
         "xaxis": "x6",
         "y": [
          "Fully Inside Other (TRUE)",
          "Overlap (FALSE)",
          "Partial Overlap (TRUE)"
         ],
         "yaxis": "y6"
        },
        {
         "alignmentgroup": "True",
         "hovertemplate": "Geometry Sizes=Medium/Large<br>chk_fraction_unfolded=%{text}<br>Context=%{y}<extra></extra>",
         "legendgroup": "",
         "marker": {
          "color": "rgb(255,183,180)",
          "pattern": {
           "shape": ""
          }
         },
         "name": "",
         "offsetgroup": "",
         "orientation": "h",
         "showlegend": false,
         "text": [
          10.654540530078906,
          15.262086504041235,
          25.87022931791598
         ],
         "textfont": {
          "size": 14
         },
         "textposition": "auto",
         "texttemplate": "%{text:.2f}%",
         "type": "bar",
         "x": [
          10.654540530078906,
          15.262086504041235,
          25.87022931791598
         ],
         "xaxis": "x5",
         "y": [
          "Fully Inside Other (TRUE)",
          "Overlap (FALSE)",
          "Partial Overlap (TRUE)"
         ],
         "yaxis": "y5"
        },
        {
         "alignmentgroup": "True",
         "hovertemplate": "Geometry Sizes=Medium/Medium<br>chk_fraction_unfolded=%{text}<br>Context=%{y}<extra></extra>",
         "legendgroup": "",
         "marker": {
          "color": "rgb(255,183,180)",
          "pattern": {
           "shape": ""
          }
         },
         "name": "",
         "offsetgroup": "",
         "orientation": "h",
         "showlegend": false,
         "text": [
          78.58796296296296,
          39.505419327516705,
          48.12747102359172
         ],
         "textfont": {
          "size": 14
         },
         "textposition": "auto",
         "texttemplate": "%{text:.2f}%",
         "type": "bar",
         "x": [
          78.58796296296296,
          39.505419327516705,
          48.12747102359172
         ],
         "xaxis": "x4",
         "y": [
          "Fully Inside Other (TRUE)",
          "Overlap (FALSE)",
          "Partial Overlap (TRUE)"
         ],
         "yaxis": "y4"
        },
        {
         "alignmentgroup": "True",
         "hovertemplate": "Geometry Sizes=Small/Large<br>chk_fraction_unfolded=%{text}<br>Context=%{y}<extra></extra>",
         "legendgroup": "",
         "marker": {
          "color": "rgb(255,183,180)",
          "pattern": {
           "shape": ""
          }
         },
         "name": "",
         "offsetgroup": "",
         "orientation": "h",
         "showlegend": false,
         "text": [
          8.887665176748607,
          11.864486965599077,
          18.440533518797295
         ],
         "textfont": {
          "size": 14
         },
         "textposition": "auto",
         "texttemplate": "%{text:.2f}%",
         "type": "bar",
         "x": [
          8.887665176748607,
          11.864486965599077,
          18.440533518797295
         ],
         "xaxis": "x3",
         "y": [
          "Fully Inside Other (TRUE)",
          "Overlap (FALSE)",
          "Partial Overlap (TRUE)"
         ],
         "yaxis": "y3"
        },
        {
         "alignmentgroup": "True",
         "hovertemplate": "Geometry Sizes=Small/Medium<br>chk_fraction_unfolded=%{text}<br>Context=%{y}<extra></extra>",
         "legendgroup": "",
         "marker": {
          "color": "rgb(255,183,180)",
          "pattern": {
           "shape": ""
          }
         },
         "name": "",
         "offsetgroup": "",
         "orientation": "h",
         "showlegend": false,
         "text": [
          48.807524909648265,
          39.892916392163,
          59.13660891624417
         ],
         "textfont": {
          "size": 14
         },
         "textposition": "auto",
         "texttemplate": "%{text:.2f}%",
         "type": "bar",
         "x": [
          48.807524909648265,
          39.892916392163,
          59.13660891624417
         ],
         "xaxis": "x2",
         "y": [
          "Fully Inside Other (TRUE)",
          "Overlap (FALSE)",
          "Partial Overlap (TRUE)"
         ],
         "yaxis": "y2"
        },
        {
         "alignmentgroup": "True",
         "hovertemplate": "Geometry Sizes=Small/Small<br>chk_fraction_unfolded=%{text}<br>Context=%{y}<extra></extra>",
         "legendgroup": "",
         "marker": {
          "color": "rgb(255,183,180)",
          "pattern": {
           "shape": ""
          }
         },
         "name": "",
         "offsetgroup": "",
         "orientation": "h",
         "showlegend": false,
         "text": [
          90.24826579043447,
          87.26406245689537,
          93.57707343376133
         ],
         "textfont": {
          "size": 14
         },
         "textposition": "auto",
         "texttemplate": "%{text:.2f}%",
         "type": "bar",
         "x": [
          90.24826579043447,
          87.26406245689537,
          93.57707343376133
         ],
         "xaxis": "x",
         "y": [
          "Fully Inside Other (TRUE)",
          "Overlap (FALSE)",
          "Partial Overlap (TRUE)"
         ],
         "yaxis": "y"
        }
       ],
       "layout": {
        "annotations": [
         {
          "font": {
           "size": 16
          },
          "showarrow": false,
          "text": "  Small/Small",
          "textangle": 0,
          "x": 0.98,
          "xanchor": "left",
          "xref": "paper",
          "y": 0.07083333333333333,
          "yanchor": "middle",
          "yref": "paper"
         },
         {
          "font": {
           "size": 16
          },
          "showarrow": false,
          "text": "  Small/Medium",
          "textangle": 0,
          "x": 0.98,
          "xanchor": "left",
          "xref": "paper",
          "y": 0.2425,
          "yanchor": "middle",
          "yref": "paper"
         },
         {
          "font": {
           "size": 16
          },
          "showarrow": false,
          "text": "  Small/Large",
          "textangle": 0,
          "x": 0.98,
          "xanchor": "left",
          "xref": "paper",
          "y": 0.4141666666666667,
          "yanchor": "middle",
          "yref": "paper"
         },
         {
          "font": {
           "size": 16
          },
          "showarrow": false,
          "text": "  Medium/Medium",
          "textangle": 0,
          "x": 0.98,
          "xanchor": "left",
          "xref": "paper",
          "y": 0.5858333333333334,
          "yanchor": "middle",
          "yref": "paper"
         },
         {
          "font": {
           "size": 16
          },
          "showarrow": false,
          "text": "  Medium/Large",
          "textangle": 0,
          "x": 0.98,
          "xanchor": "left",
          "xref": "paper",
          "y": 0.7575000000000001,
          "yanchor": "middle",
          "yref": "paper"
         },
         {
          "font": {
           "size": 16
          },
          "showarrow": false,
          "text": "  Large/Large",
          "textangle": 0,
          "x": 0.98,
          "xanchor": "left",
          "xref": "paper",
          "y": 0.9291666666666667,
          "yanchor": "middle",
          "yref": "paper"
         },
         {
          "font": {
           "size": 20
          },
          "showarrow": false,
          "text": "Chunks Unfolded (%)",
          "x": 0.5,
          "xanchor": "center",
          "xref": "paper",
          "y": -0.04,
          "yanchor": "top",
          "yref": "paper"
         },
         {
          "font": {
           "size": 20
          },
          "showarrow": false,
          "text": "Geometry Size",
          "textangle": 90,
          "x": 1.3,
          "xanchor": "center",
          "xref": "paper",
          "y": 0.62,
          "yanchor": "top",
          "yref": "paper"
         },
         {
          "font": {
           "size": 20
          },
          "showarrow": false,
          "text": "Bounding Box Context",
          "textangle": -90,
          "x": -0.43,
          "xanchor": "center",
          "xref": "paper",
          "y": 0.5,
          "yanchor": "middle",
          "yref": "paper"
         }
        ],
        "barmode": "relative",
        "height": 800,
        "legend": {
         "font": {
          "size": 16
         },
         "orientation": "h",
         "tracegroupgap": 0,
         "x": 0.5,
         "xanchor": "left",
         "y": 1,
         "yanchor": "top"
        },
        "margin": {
         "b": 100,
         "l": 100,
         "pad": 5,
         "r": 200,
         "t": 100
        },
        "template": {
         "data": {
          "bar": [
           {
            "error_x": {
             "color": "#2a3f5f"
            },
            "error_y": {
             "color": "#2a3f5f"
            },
            "marker": {
             "line": {
              "color": "#E5ECF6",
              "width": 0.5
             },
             "pattern": {
              "fillmode": "overlay",
              "size": 10,
              "solidity": 0.2
             }
            },
            "type": "bar"
           }
          ],
          "barpolar": [
           {
            "marker": {
             "line": {
              "color": "#E5ECF6",
              "width": 0.5
             },
             "pattern": {
              "fillmode": "overlay",
              "size": 10,
              "solidity": 0.2
             }
            },
            "type": "barpolar"
           }
          ],
          "carpet": [
           {
            "aaxis": {
             "endlinecolor": "#2a3f5f",
             "gridcolor": "white",
             "linecolor": "white",
             "minorgridcolor": "white",
             "startlinecolor": "#2a3f5f"
            },
            "baxis": {
             "endlinecolor": "#2a3f5f",
             "gridcolor": "white",
             "linecolor": "white",
             "minorgridcolor": "white",
             "startlinecolor": "#2a3f5f"
            },
            "type": "carpet"
           }
          ],
          "choropleth": [
           {
            "colorbar": {
             "outlinewidth": 0,
             "ticks": ""
            },
            "type": "choropleth"
           }
          ],
          "contour": [
           {
            "colorbar": {
             "outlinewidth": 0,
             "ticks": ""
            },
            "colorscale": [
             [
              0,
              "#0d0887"
             ],
             [
              0.1111111111111111,
              "#46039f"
             ],
             [
              0.2222222222222222,
              "#7201a8"
             ],
             [
              0.3333333333333333,
              "#9c179e"
             ],
             [
              0.4444444444444444,
              "#bd3786"
             ],
             [
              0.5555555555555556,
              "#d8576b"
             ],
             [
              0.6666666666666666,
              "#ed7953"
             ],
             [
              0.7777777777777778,
              "#fb9f3a"
             ],
             [
              0.8888888888888888,
              "#fdca26"
             ],
             [
              1,
              "#f0f921"
             ]
            ],
            "type": "contour"
           }
          ],
          "contourcarpet": [
           {
            "colorbar": {
             "outlinewidth": 0,
             "ticks": ""
            },
            "type": "contourcarpet"
           }
          ],
          "heatmap": [
           {
            "colorbar": {
             "outlinewidth": 0,
             "ticks": ""
            },
            "colorscale": [
             [
              0,
              "#0d0887"
             ],
             [
              0.1111111111111111,
              "#46039f"
             ],
             [
              0.2222222222222222,
              "#7201a8"
             ],
             [
              0.3333333333333333,
              "#9c179e"
             ],
             [
              0.4444444444444444,
              "#bd3786"
             ],
             [
              0.5555555555555556,
              "#d8576b"
             ],
             [
              0.6666666666666666,
              "#ed7953"
             ],
             [
              0.7777777777777778,
              "#fb9f3a"
             ],
             [
              0.8888888888888888,
              "#fdca26"
             ],
             [
              1,
              "#f0f921"
             ]
            ],
            "type": "heatmap"
           }
          ],
          "heatmapgl": [
           {
            "colorbar": {
             "outlinewidth": 0,
             "ticks": ""
            },
            "colorscale": [
             [
              0,
              "#0d0887"
             ],
             [
              0.1111111111111111,
              "#46039f"
             ],
             [
              0.2222222222222222,
              "#7201a8"
             ],
             [
              0.3333333333333333,
              "#9c179e"
             ],
             [
              0.4444444444444444,
              "#bd3786"
             ],
             [
              0.5555555555555556,
              "#d8576b"
             ],
             [
              0.6666666666666666,
              "#ed7953"
             ],
             [
              0.7777777777777778,
              "#fb9f3a"
             ],
             [
              0.8888888888888888,
              "#fdca26"
             ],
             [
              1,
              "#f0f921"
             ]
            ],
            "type": "heatmapgl"
           }
          ],
          "histogram": [
           {
            "marker": {
             "pattern": {
              "fillmode": "overlay",
              "size": 10,
              "solidity": 0.2
             }
            },
            "type": "histogram"
           }
          ],
          "histogram2d": [
           {
            "colorbar": {
             "outlinewidth": 0,
             "ticks": ""
            },
            "colorscale": [
             [
              0,
              "#0d0887"
             ],
             [
              0.1111111111111111,
              "#46039f"
             ],
             [
              0.2222222222222222,
              "#7201a8"
             ],
             [
              0.3333333333333333,
              "#9c179e"
             ],
             [
              0.4444444444444444,
              "#bd3786"
             ],
             [
              0.5555555555555556,
              "#d8576b"
             ],
             [
              0.6666666666666666,
              "#ed7953"
             ],
             [
              0.7777777777777778,
              "#fb9f3a"
             ],
             [
              0.8888888888888888,
              "#fdca26"
             ],
             [
              1,
              "#f0f921"
             ]
            ],
            "type": "histogram2d"
           }
          ],
          "histogram2dcontour": [
           {
            "colorbar": {
             "outlinewidth": 0,
             "ticks": ""
            },
            "colorscale": [
             [
              0,
              "#0d0887"
             ],
             [
              0.1111111111111111,
              "#46039f"
             ],
             [
              0.2222222222222222,
              "#7201a8"
             ],
             [
              0.3333333333333333,
              "#9c179e"
             ],
             [
              0.4444444444444444,
              "#bd3786"
             ],
             [
              0.5555555555555556,
              "#d8576b"
             ],
             [
              0.6666666666666666,
              "#ed7953"
             ],
             [
              0.7777777777777778,
              "#fb9f3a"
             ],
             [
              0.8888888888888888,
              "#fdca26"
             ],
             [
              1,
              "#f0f921"
             ]
            ],
            "type": "histogram2dcontour"
           }
          ],
          "mesh3d": [
           {
            "colorbar": {
             "outlinewidth": 0,
             "ticks": ""
            },
            "type": "mesh3d"
           }
          ],
          "parcoords": [
           {
            "line": {
             "colorbar": {
              "outlinewidth": 0,
              "ticks": ""
             }
            },
            "type": "parcoords"
           }
          ],
          "pie": [
           {
            "automargin": true,
            "type": "pie"
           }
          ],
          "scatter": [
           {
            "fillpattern": {
             "fillmode": "overlay",
             "size": 10,
             "solidity": 0.2
            },
            "type": "scatter"
           }
          ],
          "scatter3d": [
           {
            "line": {
             "colorbar": {
              "outlinewidth": 0,
              "ticks": ""
             }
            },
            "marker": {
             "colorbar": {
              "outlinewidth": 0,
              "ticks": ""
             }
            },
            "type": "scatter3d"
           }
          ],
          "scattercarpet": [
           {
            "marker": {
             "colorbar": {
              "outlinewidth": 0,
              "ticks": ""
             }
            },
            "type": "scattercarpet"
           }
          ],
          "scattergeo": [
           {
            "marker": {
             "colorbar": {
              "outlinewidth": 0,
              "ticks": ""
             }
            },
            "type": "scattergeo"
           }
          ],
          "scattergl": [
           {
            "marker": {
             "colorbar": {
              "outlinewidth": 0,
              "ticks": ""
             }
            },
            "type": "scattergl"
           }
          ],
          "scattermapbox": [
           {
            "marker": {
             "colorbar": {
              "outlinewidth": 0,
              "ticks": ""
             }
            },
            "type": "scattermapbox"
           }
          ],
          "scatterpolar": [
           {
            "marker": {
             "colorbar": {
              "outlinewidth": 0,
              "ticks": ""
             }
            },
            "type": "scatterpolar"
           }
          ],
          "scatterpolargl": [
           {
            "marker": {
             "colorbar": {
              "outlinewidth": 0,
              "ticks": ""
             }
            },
            "type": "scatterpolargl"
           }
          ],
          "scatterternary": [
           {
            "marker": {
             "colorbar": {
              "outlinewidth": 0,
              "ticks": ""
             }
            },
            "type": "scatterternary"
           }
          ],
          "surface": [
           {
            "colorbar": {
             "outlinewidth": 0,
             "ticks": ""
            },
            "colorscale": [
             [
              0,
              "#0d0887"
             ],
             [
              0.1111111111111111,
              "#46039f"
             ],
             [
              0.2222222222222222,
              "#7201a8"
             ],
             [
              0.3333333333333333,
              "#9c179e"
             ],
             [
              0.4444444444444444,
              "#bd3786"
             ],
             [
              0.5555555555555556,
              "#d8576b"
             ],
             [
              0.6666666666666666,
              "#ed7953"
             ],
             [
              0.7777777777777778,
              "#fb9f3a"
             ],
             [
              0.8888888888888888,
              "#fdca26"
             ],
             [
              1,
              "#f0f921"
             ]
            ],
            "type": "surface"
           }
          ],
          "table": [
           {
            "cells": {
             "fill": {
              "color": "#EBF0F8"
             },
             "line": {
              "color": "white"
             }
            },
            "header": {
             "fill": {
              "color": "#C8D4E3"
             },
             "line": {
              "color": "white"
             }
            },
            "type": "table"
           }
          ]
         },
         "layout": {
          "annotationdefaults": {
           "arrowcolor": "#2a3f5f",
           "arrowhead": 0,
           "arrowwidth": 1
          },
          "autotypenumbers": "strict",
          "coloraxis": {
           "colorbar": {
            "outlinewidth": 0,
            "ticks": ""
           }
          },
          "colorscale": {
           "diverging": [
            [
             0,
             "#8e0152"
            ],
            [
             0.1,
             "#c51b7d"
            ],
            [
             0.2,
             "#de77ae"
            ],
            [
             0.3,
             "#f1b6da"
            ],
            [
             0.4,
             "#fde0ef"
            ],
            [
             0.5,
             "#f7f7f7"
            ],
            [
             0.6,
             "#e6f5d0"
            ],
            [
             0.7,
             "#b8e186"
            ],
            [
             0.8,
             "#7fbc41"
            ],
            [
             0.9,
             "#4d9221"
            ],
            [
             1,
             "#276419"
            ]
           ],
           "sequential": [
            [
             0,
             "#0d0887"
            ],
            [
             0.1111111111111111,
             "#46039f"
            ],
            [
             0.2222222222222222,
             "#7201a8"
            ],
            [
             0.3333333333333333,
             "#9c179e"
            ],
            [
             0.4444444444444444,
             "#bd3786"
            ],
            [
             0.5555555555555556,
             "#d8576b"
            ],
            [
             0.6666666666666666,
             "#ed7953"
            ],
            [
             0.7777777777777778,
             "#fb9f3a"
            ],
            [
             0.8888888888888888,
             "#fdca26"
            ],
            [
             1,
             "#f0f921"
            ]
           ],
           "sequentialminus": [
            [
             0,
             "#0d0887"
            ],
            [
             0.1111111111111111,
             "#46039f"
            ],
            [
             0.2222222222222222,
             "#7201a8"
            ],
            [
             0.3333333333333333,
             "#9c179e"
            ],
            [
             0.4444444444444444,
             "#bd3786"
            ],
            [
             0.5555555555555556,
             "#d8576b"
            ],
            [
             0.6666666666666666,
             "#ed7953"
            ],
            [
             0.7777777777777778,
             "#fb9f3a"
            ],
            [
             0.8888888888888888,
             "#fdca26"
            ],
            [
             1,
             "#f0f921"
            ]
           ]
          },
          "colorway": [
           "#636efa",
           "#EF553B",
           "#00cc96",
           "#ab63fa",
           "#FFA15A",
           "#19d3f3",
           "#FF6692",
           "#B6E880",
           "#FF97FF",
           "#FECB52"
          ],
          "font": {
           "color": "#2a3f5f"
          },
          "geo": {
           "bgcolor": "white",
           "lakecolor": "white",
           "landcolor": "#E5ECF6",
           "showlakes": true,
           "showland": true,
           "subunitcolor": "white"
          },
          "hoverlabel": {
           "align": "left"
          },
          "hovermode": "closest",
          "mapbox": {
           "style": "light"
          },
          "paper_bgcolor": "white",
          "plot_bgcolor": "#E5ECF6",
          "polar": {
           "angularaxis": {
            "gridcolor": "white",
            "linecolor": "white",
            "ticks": ""
           },
           "bgcolor": "#E5ECF6",
           "radialaxis": {
            "gridcolor": "white",
            "linecolor": "white",
            "ticks": ""
           }
          },
          "scene": {
           "xaxis": {
            "backgroundcolor": "#E5ECF6",
            "gridcolor": "white",
            "gridwidth": 2,
            "linecolor": "white",
            "showbackground": true,
            "ticks": "",
            "zerolinecolor": "white"
           },
           "yaxis": {
            "backgroundcolor": "#E5ECF6",
            "gridcolor": "white",
            "gridwidth": 2,
            "linecolor": "white",
            "showbackground": true,
            "ticks": "",
            "zerolinecolor": "white"
           },
           "zaxis": {
            "backgroundcolor": "#E5ECF6",
            "gridcolor": "white",
            "gridwidth": 2,
            "linecolor": "white",
            "showbackground": true,
            "ticks": "",
            "zerolinecolor": "white"
           }
          },
          "shapedefaults": {
           "line": {
            "color": "#2a3f5f"
           }
          },
          "ternary": {
           "aaxis": {
            "gridcolor": "white",
            "linecolor": "white",
            "ticks": ""
           },
           "baxis": {
            "gridcolor": "white",
            "linecolor": "white",
            "ticks": ""
           },
           "bgcolor": "#E5ECF6",
           "caxis": {
            "gridcolor": "white",
            "linecolor": "white",
            "ticks": ""
           }
          },
          "title": {
           "x": 0.05
          },
          "xaxis": {
           "automargin": true,
           "gridcolor": "white",
           "linecolor": "white",
           "ticks": "",
           "title": {
            "standoff": 15
           },
           "zerolinecolor": "white",
           "zerolinewidth": 2
          },
          "yaxis": {
           "automargin": true,
           "gridcolor": "white",
           "linecolor": "white",
           "ticks": "",
           "title": {
            "standoff": 15
           },
           "zerolinecolor": "white",
           "zerolinewidth": 2
          }
         }
        },
        "title": {
         "font": {
          "size": 22
         },
         "text": "Fraction of Chunks Unfolded for Intersection in Different Contexts and Geometry Sizes",
         "x": 0.5
        },
        "width": 1000,
        "xaxis": {
         "anchor": "y",
         "domain": [
          0,
          0.98
         ],
         "tickfont": {
          "size": 16
         },
         "title": {
          "text": ""
         }
        },
        "xaxis2": {
         "anchor": "y2",
         "domain": [
          0,
          0.98
         ],
         "matches": "x",
         "showticklabels": false,
         "tickfont": {
          "size": 16
         },
         "title": {
          "text": ""
         }
        },
        "xaxis3": {
         "anchor": "y3",
         "domain": [
          0,
          0.98
         ],
         "matches": "x",
         "showticklabels": false,
         "tickfont": {
          "size": 16
         },
         "title": {
          "text": ""
         }
        },
        "xaxis4": {
         "anchor": "y4",
         "domain": [
          0,
          0.98
         ],
         "matches": "x",
         "showticklabels": false,
         "tickfont": {
          "size": 16
         },
         "title": {
          "text": ""
         }
        },
        "xaxis5": {
         "anchor": "y5",
         "domain": [
          0,
          0.98
         ],
         "matches": "x",
         "showticklabels": false,
         "tickfont": {
          "size": 16
         },
         "title": {
          "text": ""
         }
        },
        "xaxis6": {
         "anchor": "y6",
         "domain": [
          0,
          0.98
         ],
         "matches": "x",
         "showticklabels": false,
         "tickfont": {
          "size": 16
         },
         "title": {
          "text": ""
         }
        },
        "yaxis": {
         "anchor": "x",
         "domain": [
          0,
          0.14166666666666666
         ],
         "showticklabels": true,
         "tickfont": {
          "size": 16
         },
         "title": {
          "text": ""
         },
         "visible": true
        },
        "yaxis2": {
         "anchor": "x2",
         "domain": [
          0.17166666666666666,
          0.31333333333333335
         ],
         "matches": "y",
         "showticklabels": true,
         "tickfont": {
          "size": 16
         },
         "title": {
          "text": ""
         },
         "visible": true
        },
        "yaxis3": {
         "anchor": "x3",
         "domain": [
          0.3433333333333333,
          0.485
         ],
         "matches": "y",
         "showticklabels": true,
         "tickfont": {
          "size": 16
         },
         "title": {
          "text": ""
         },
         "visible": true
        },
        "yaxis4": {
         "anchor": "x4",
         "domain": [
          0.515,
          0.6566666666666667
         ],
         "matches": "y",
         "showticklabels": true,
         "tickfont": {
          "size": 16
         },
         "title": {
          "text": ""
         },
         "visible": true
        },
        "yaxis5": {
         "anchor": "x5",
         "domain": [
          0.6866666666666666,
          0.8283333333333334
         ],
         "matches": "y",
         "showticklabels": true,
         "tickfont": {
          "size": 16
         },
         "title": {
          "text": ""
         },
         "visible": true
        },
        "yaxis6": {
         "anchor": "x6",
         "domain": [
          0.8583333333333333,
          1
         ],
         "matches": "y",
         "showticklabels": true,
         "tickfont": {
          "size": 16
         },
         "title": {
          "text": ""
         },
         "visible": true
        }
       }
      }
     },
     "metadata": {},
     "output_type": "display_data"
    }
   ],
   "source": [
    "plot_chunk_unfolded_frac(chunk_unfolded_df, is_predicate=False, is_baseline=False)"
   ]
  },
  {
   "cell_type": "code",
   "execution_count": 21,
   "metadata": {},
   "outputs": [
    {
     "name": "stdout",
     "output_type": "stream",
     "text": [
      "_______________________\\Lowest relative speed by context and size\n"
     ]
    },
    {
     "data": {
      "text/html": [
       "<div>\n",
       "<style scoped>\n",
       "    .dataframe tbody tr th:only-of-type {\n",
       "        vertical-align: middle;\n",
       "    }\n",
       "\n",
       "    .dataframe tbody tr th {\n",
       "        vertical-align: top;\n",
       "    }\n",
       "\n",
       "    .dataframe thead th {\n",
       "        text-align: right;\n",
       "    }\n",
       "</style>\n",
       "<table border=\"1\" class=\"dataframe\">\n",
       "  <thead>\n",
       "    <tr style=\"text-align: right;\">\n",
       "      <th></th>\n",
       "      <th>decomp</th>\n",
       "      <th>nbr_recieved_chks</th>\n",
       "      <th>nbr_total_chks</th>\n",
       "      <th>total_time</th>\n",
       "      <th>sizes</th>\n",
       "      <th>context</th>\n",
       "      <th>delta_size</th>\n",
       "      <th>predicate</th>\n",
       "      <th>dataset_idx</th>\n",
       "      <th>baseline</th>\n",
       "      <th>dataset</th>\n",
       "      <th>frac</th>\n",
       "      <th>total_time_ratio</th>\n",
       "    </tr>\n",
       "  </thead>\n",
       "  <tbody>\n",
       "    <tr>\n",
       "      <th>18759</th>\n",
       "      <td>0.000291</td>\n",
       "      <td>4.0</td>\n",
       "      <td>24.0</td>\n",
       "      <td>0.001478</td>\n",
       "      <td>Medium/Large</td>\n",
       "      <td>Partial Overlap (TRUE)</td>\n",
       "      <td>15</td>\n",
       "      <td>False</td>\n",
       "      <td>9379</td>\n",
       "      <td>False</td>\n",
       "      <td>Country Borders</td>\n",
       "      <td>19.660262</td>\n",
       "      <td>0.001635</td>\n",
       "    </tr>\n",
       "    <tr>\n",
       "      <th>2821</th>\n",
       "      <td>0.000308</td>\n",
       "      <td>5.0</td>\n",
       "      <td>25.0</td>\n",
       "      <td>0.000658</td>\n",
       "      <td>Medium/Large</td>\n",
       "      <td>Overlap (FALSE)</td>\n",
       "      <td>15</td>\n",
       "      <td>False</td>\n",
       "      <td>1421</td>\n",
       "      <td>False</td>\n",
       "      <td>China Water</td>\n",
       "      <td>46.752556</td>\n",
       "      <td>0.007499</td>\n",
       "    </tr>\n",
       "    <tr>\n",
       "      <th>17595</th>\n",
       "      <td>0.000093</td>\n",
       "      <td>2.0</td>\n",
       "      <td>2.0</td>\n",
       "      <td>0.000595</td>\n",
       "      <td>Small/Small</td>\n",
       "      <td>Partial Overlap (TRUE)</td>\n",
       "      <td>15</td>\n",
       "      <td>False</td>\n",
       "      <td>8797</td>\n",
       "      <td>False</td>\n",
       "      <td>lund_data</td>\n",
       "      <td>15.647604</td>\n",
       "      <td>0.008744</td>\n",
       "    </tr>\n",
       "    <tr>\n",
       "      <th>10399</th>\n",
       "      <td>0.000227</td>\n",
       "      <td>3.0</td>\n",
       "      <td>28.0</td>\n",
       "      <td>0.000736</td>\n",
       "      <td>Large/Large</td>\n",
       "      <td>Partial Overlap (TRUE)</td>\n",
       "      <td>15</td>\n",
       "      <td>False</td>\n",
       "      <td>5255</td>\n",
       "      <td>False</td>\n",
       "      <td>China Water</td>\n",
       "      <td>30.886054</td>\n",
       "      <td>0.009284</td>\n",
       "    </tr>\n",
       "    <tr>\n",
       "      <th>10007</th>\n",
       "      <td>0.000099</td>\n",
       "      <td>2.0</td>\n",
       "      <td>2.0</td>\n",
       "      <td>0.000275</td>\n",
       "      <td>Small/Small</td>\n",
       "      <td>Overlap (FALSE)</td>\n",
       "      <td>15</td>\n",
       "      <td>False</td>\n",
       "      <td>5003</td>\n",
       "      <td>False</td>\n",
       "      <td>lund_data</td>\n",
       "      <td>36.145366</td>\n",
       "      <td>0.013057</td>\n",
       "    </tr>\n",
       "    <tr>\n",
       "      <th>13795</th>\n",
       "      <td>0.000048</td>\n",
       "      <td>0.0</td>\n",
       "      <td>8.0</td>\n",
       "      <td>0.000314</td>\n",
       "      <td>Medium/Medium</td>\n",
       "      <td>Overlap (FALSE)</td>\n",
       "      <td>15</td>\n",
       "      <td>False</td>\n",
       "      <td>6897</td>\n",
       "      <td>False</td>\n",
       "      <td>Country Borders</td>\n",
       "      <td>15.197011</td>\n",
       "      <td>0.013824</td>\n",
       "    </tr>\n",
       "    <tr>\n",
       "      <th>5525</th>\n",
       "      <td>0.000173</td>\n",
       "      <td>0.0</td>\n",
       "      <td>88.0</td>\n",
       "      <td>0.000234</td>\n",
       "      <td>Large/Large</td>\n",
       "      <td>Overlap (FALSE)</td>\n",
       "      <td>15</td>\n",
       "      <td>False</td>\n",
       "      <td>2762</td>\n",
       "      <td>False</td>\n",
       "      <td>Country Borders</td>\n",
       "      <td>74.073078</td>\n",
       "      <td>0.014560</td>\n",
       "    </tr>\n",
       "    <tr>\n",
       "      <th>831</th>\n",
       "      <td>0.000347</td>\n",
       "      <td>2.0</td>\n",
       "      <td>92.0</td>\n",
       "      <td>0.000566</td>\n",
       "      <td>Small/Large</td>\n",
       "      <td>Fully Inside Other (TRUE)</td>\n",
       "      <td>15</td>\n",
       "      <td>False</td>\n",
       "      <td>451</td>\n",
       "      <td>False</td>\n",
       "      <td>Sweden All</td>\n",
       "      <td>61.243799</td>\n",
       "      <td>0.017064</td>\n",
       "    </tr>\n",
       "    <tr>\n",
       "      <th>12489</th>\n",
       "      <td>0.000026</td>\n",
       "      <td>0.0</td>\n",
       "      <td>7.0</td>\n",
       "      <td>0.000122</td>\n",
       "      <td>Small/Medium</td>\n",
       "      <td>Overlap (FALSE)</td>\n",
       "      <td>15</td>\n",
       "      <td>False</td>\n",
       "      <td>6244</td>\n",
       "      <td>False</td>\n",
       "      <td>lund_data</td>\n",
       "      <td>21.268449</td>\n",
       "      <td>0.018736</td>\n",
       "    </tr>\n",
       "    <tr>\n",
       "      <th>17439</th>\n",
       "      <td>0.000157</td>\n",
       "      <td>2.0</td>\n",
       "      <td>5.0</td>\n",
       "      <td>0.000456</td>\n",
       "      <td>Small/Medium</td>\n",
       "      <td>Fully Inside Other (TRUE)</td>\n",
       "      <td>15</td>\n",
       "      <td>False</td>\n",
       "      <td>9597</td>\n",
       "      <td>False</td>\n",
       "      <td>Sweden All</td>\n",
       "      <td>34.427180</td>\n",
       "      <td>0.018831</td>\n",
       "    </tr>\n",
       "    <tr>\n",
       "      <th>49</th>\n",
       "      <td>0.000185</td>\n",
       "      <td>2.0</td>\n",
       "      <td>6.0</td>\n",
       "      <td>0.001096</td>\n",
       "      <td>Small/Medium</td>\n",
       "      <td>Partial Overlap (TRUE)</td>\n",
       "      <td>15</td>\n",
       "      <td>False</td>\n",
       "      <td>24</td>\n",
       "      <td>False</td>\n",
       "      <td>lund_data</td>\n",
       "      <td>16.898178</td>\n",
       "      <td>0.019246</td>\n",
       "    </tr>\n",
       "    <tr>\n",
       "      <th>13715</th>\n",
       "      <td>0.000154</td>\n",
       "      <td>2.0</td>\n",
       "      <td>2.0</td>\n",
       "      <td>0.000454</td>\n",
       "      <td>Small/Small</td>\n",
       "      <td>Fully Inside Other (TRUE)</td>\n",
       "      <td>15</td>\n",
       "      <td>False</td>\n",
       "      <td>7542</td>\n",
       "      <td>False</td>\n",
       "      <td>Sweden All</td>\n",
       "      <td>33.824987</td>\n",
       "      <td>0.026795</td>\n",
       "    </tr>\n",
       "    <tr>\n",
       "      <th>6503</th>\n",
       "      <td>0.001148</td>\n",
       "      <td>3.0</td>\n",
       "      <td>131.0</td>\n",
       "      <td>0.001895</td>\n",
       "      <td>Small/Large</td>\n",
       "      <td>Overlap (FALSE)</td>\n",
       "      <td>15</td>\n",
       "      <td>False</td>\n",
       "      <td>3285</td>\n",
       "      <td>False</td>\n",
       "      <td>China Water</td>\n",
       "      <td>60.572550</td>\n",
       "      <td>0.031273</td>\n",
       "    </tr>\n",
       "    <tr>\n",
       "      <th>13393</th>\n",
       "      <td>0.003350</td>\n",
       "      <td>4.0</td>\n",
       "      <td>1048.0</td>\n",
       "      <td>0.003666</td>\n",
       "      <td>Medium/Large</td>\n",
       "      <td>Fully Inside Other (TRUE)</td>\n",
       "      <td>15</td>\n",
       "      <td>False</td>\n",
       "      <td>7374</td>\n",
       "      <td>False</td>\n",
       "      <td>Sweden All</td>\n",
       "      <td>91.357351</td>\n",
       "      <td>0.033352</td>\n",
       "    </tr>\n",
       "    <tr>\n",
       "      <th>7497</th>\n",
       "      <td>0.000646</td>\n",
       "      <td>5.0</td>\n",
       "      <td>42.0</td>\n",
       "      <td>0.002444</td>\n",
       "      <td>Small/Large</td>\n",
       "      <td>Partial Overlap (TRUE)</td>\n",
       "      <td>15</td>\n",
       "      <td>False</td>\n",
       "      <td>4120</td>\n",
       "      <td>False</td>\n",
       "      <td>Sweden All</td>\n",
       "      <td>26.434298</td>\n",
       "      <td>0.033878</td>\n",
       "    </tr>\n",
       "    <tr>\n",
       "      <th>18691</th>\n",
       "      <td>0.000466</td>\n",
       "      <td>5.0</td>\n",
       "      <td>6.0</td>\n",
       "      <td>0.002748</td>\n",
       "      <td>Medium/Medium</td>\n",
       "      <td>Partial Overlap (TRUE)</td>\n",
       "      <td>15</td>\n",
       "      <td>False</td>\n",
       "      <td>9345</td>\n",
       "      <td>False</td>\n",
       "      <td>Country Borders</td>\n",
       "      <td>16.965787</td>\n",
       "      <td>0.040488</td>\n",
       "    </tr>\n",
       "    <tr>\n",
       "      <th>1097</th>\n",
       "      <td>0.165344</td>\n",
       "      <td>18.0</td>\n",
       "      <td>1345.0</td>\n",
       "      <td>0.165689</td>\n",
       "      <td>Large/Large</td>\n",
       "      <td>Fully Inside Other (TRUE)</td>\n",
       "      <td>15</td>\n",
       "      <td>False</td>\n",
       "      <td>602</td>\n",
       "      <td>False</td>\n",
       "      <td>Sweden All</td>\n",
       "      <td>99.792169</td>\n",
       "      <td>0.079415</td>\n",
       "    </tr>\n",
       "    <tr>\n",
       "      <th>14323</th>\n",
       "      <td>0.000377</td>\n",
       "      <td>8.0</td>\n",
       "      <td>8.0</td>\n",
       "      <td>0.004528</td>\n",
       "      <td>Medium/Medium</td>\n",
       "      <td>Fully Inside Other (TRUE)</td>\n",
       "      <td>15</td>\n",
       "      <td>False</td>\n",
       "      <td>7237</td>\n",
       "      <td>False</td>\n",
       "      <td>China Water</td>\n",
       "      <td>8.324910</td>\n",
       "      <td>0.411936</td>\n",
       "    </tr>\n",
       "  </tbody>\n",
       "</table>\n",
       "</div>"
      ],
      "text/plain": [
       "         decomp  nbr_recieved_chks  nbr_total_chks  total_time          sizes   \n",
       "18759  0.000291                4.0            24.0    0.001478   Medium/Large  \\\n",
       "2821   0.000308                5.0            25.0    0.000658   Medium/Large   \n",
       "17595  0.000093                2.0             2.0    0.000595    Small/Small   \n",
       "10399  0.000227                3.0            28.0    0.000736    Large/Large   \n",
       "10007  0.000099                2.0             2.0    0.000275    Small/Small   \n",
       "13795  0.000048                0.0             8.0    0.000314  Medium/Medium   \n",
       "5525   0.000173                0.0            88.0    0.000234    Large/Large   \n",
       "831    0.000347                2.0            92.0    0.000566    Small/Large   \n",
       "12489  0.000026                0.0             7.0    0.000122   Small/Medium   \n",
       "17439  0.000157                2.0             5.0    0.000456   Small/Medium   \n",
       "49     0.000185                2.0             6.0    0.001096   Small/Medium   \n",
       "13715  0.000154                2.0             2.0    0.000454    Small/Small   \n",
       "6503   0.001148                3.0           131.0    0.001895    Small/Large   \n",
       "13393  0.003350                4.0          1048.0    0.003666   Medium/Large   \n",
       "7497   0.000646                5.0            42.0    0.002444    Small/Large   \n",
       "18691  0.000466                5.0             6.0    0.002748  Medium/Medium   \n",
       "1097   0.165344               18.0          1345.0    0.165689    Large/Large   \n",
       "14323  0.000377                8.0             8.0    0.004528  Medium/Medium   \n",
       "\n",
       "                         context  delta_size  predicate  dataset_idx   \n",
       "18759     Partial Overlap (TRUE)          15      False         9379  \\\n",
       "2821             Overlap (FALSE)          15      False         1421   \n",
       "17595     Partial Overlap (TRUE)          15      False         8797   \n",
       "10399     Partial Overlap (TRUE)          15      False         5255   \n",
       "10007            Overlap (FALSE)          15      False         5003   \n",
       "13795            Overlap (FALSE)          15      False         6897   \n",
       "5525             Overlap (FALSE)          15      False         2762   \n",
       "831    Fully Inside Other (TRUE)          15      False          451   \n",
       "12489            Overlap (FALSE)          15      False         6244   \n",
       "17439  Fully Inside Other (TRUE)          15      False         9597   \n",
       "49        Partial Overlap (TRUE)          15      False           24   \n",
       "13715  Fully Inside Other (TRUE)          15      False         7542   \n",
       "6503             Overlap (FALSE)          15      False         3285   \n",
       "13393  Fully Inside Other (TRUE)          15      False         7374   \n",
       "7497      Partial Overlap (TRUE)          15      False         4120   \n",
       "18691     Partial Overlap (TRUE)          15      False         9345   \n",
       "1097   Fully Inside Other (TRUE)          15      False          602   \n",
       "14323  Fully Inside Other (TRUE)          15      False         7237   \n",
       "\n",
       "       baseline          dataset       frac  total_time_ratio  \n",
       "18759     False  Country Borders  19.660262          0.001635  \n",
       "2821      False      China Water  46.752556          0.007499  \n",
       "17595     False        lund_data  15.647604          0.008744  \n",
       "10399     False      China Water  30.886054          0.009284  \n",
       "10007     False        lund_data  36.145366          0.013057  \n",
       "13795     False  Country Borders  15.197011          0.013824  \n",
       "5525      False  Country Borders  74.073078          0.014560  \n",
       "831       False       Sweden All  61.243799          0.017064  \n",
       "12489     False        lund_data  21.268449          0.018736  \n",
       "17439     False       Sweden All  34.427180          0.018831  \n",
       "49        False        lund_data  16.898178          0.019246  \n",
       "13715     False       Sweden All  33.824987          0.026795  \n",
       "6503      False      China Water  60.572550          0.031273  \n",
       "13393     False       Sweden All  91.357351          0.033352  \n",
       "7497      False       Sweden All  26.434298          0.033878  \n",
       "18691     False  Country Borders  16.965787          0.040488  \n",
       "1097      False       Sweden All  99.792169          0.079415  \n",
       "14323     False      China Water   8.324910          0.411936  "
      ]
     },
     "metadata": {},
     "output_type": "display_data"
    },
    {
     "name": "stdout",
     "output_type": "stream",
     "text": [
      "_______________________\n",
      "Highest relative speed by context and size\n"
     ]
    },
    {
     "data": {
      "text/html": [
       "<div>\n",
       "<style scoped>\n",
       "    .dataframe tbody tr th:only-of-type {\n",
       "        vertical-align: middle;\n",
       "    }\n",
       "\n",
       "    .dataframe tbody tr th {\n",
       "        vertical-align: top;\n",
       "    }\n",
       "\n",
       "    .dataframe thead th {\n",
       "        text-align: right;\n",
       "    }\n",
       "</style>\n",
       "<table border=\"1\" class=\"dataframe\">\n",
       "  <thead>\n",
       "    <tr style=\"text-align: right;\">\n",
       "      <th></th>\n",
       "      <th>decomp</th>\n",
       "      <th>nbr_recieved_chks</th>\n",
       "      <th>nbr_total_chks</th>\n",
       "      <th>total_time</th>\n",
       "      <th>sizes</th>\n",
       "      <th>context</th>\n",
       "      <th>delta_size</th>\n",
       "      <th>predicate</th>\n",
       "      <th>dataset_idx</th>\n",
       "      <th>baseline</th>\n",
       "      <th>dataset</th>\n",
       "      <th>frac</th>\n",
       "      <th>total_time_ratio</th>\n",
       "    </tr>\n",
       "  </thead>\n",
       "  <tbody>\n",
       "    <tr>\n",
       "      <th>1551</th>\n",
       "      <td>0.000085</td>\n",
       "      <td>2.0</td>\n",
       "      <td>2.0</td>\n",
       "      <td>0.000563</td>\n",
       "      <td>Small/Small</td>\n",
       "      <td>Partial Overlap (TRUE)</td>\n",
       "      <td>15</td>\n",
       "      <td>False</td>\n",
       "      <td>846</td>\n",
       "      <td>False</td>\n",
       "      <td>Sweden All</td>\n",
       "      <td>15.040420</td>\n",
       "      <td>40.720554</td>\n",
       "    </tr>\n",
       "    <tr>\n",
       "      <th>10125</th>\n",
       "      <td>0.003300</td>\n",
       "      <td>2.0</td>\n",
       "      <td>1329.0</td>\n",
       "      <td>0.003593</td>\n",
       "      <td>Small/Large</td>\n",
       "      <td>Fully Inside Other (TRUE)</td>\n",
       "      <td>15</td>\n",
       "      <td>False</td>\n",
       "      <td>5578</td>\n",
       "      <td>False</td>\n",
       "      <td>Sweden All</td>\n",
       "      <td>91.856698</td>\n",
       "      <td>13.024765</td>\n",
       "    </tr>\n",
       "    <tr>\n",
       "      <th>3163</th>\n",
       "      <td>0.000135</td>\n",
       "      <td>3.0</td>\n",
       "      <td>4.0</td>\n",
       "      <td>0.000425</td>\n",
       "      <td>Small/Medium</td>\n",
       "      <td>Overlap (FALSE)</td>\n",
       "      <td>15</td>\n",
       "      <td>False</td>\n",
       "      <td>1739</td>\n",
       "      <td>False</td>\n",
       "      <td>Sweden All</td>\n",
       "      <td>31.759258</td>\n",
       "      <td>6.457152</td>\n",
       "    </tr>\n",
       "    <tr>\n",
       "      <th>12213</th>\n",
       "      <td>0.000249</td>\n",
       "      <td>4.0</td>\n",
       "      <td>23.0</td>\n",
       "      <td>0.000521</td>\n",
       "      <td>Large/Large</td>\n",
       "      <td>Overlap (FALSE)</td>\n",
       "      <td>15</td>\n",
       "      <td>False</td>\n",
       "      <td>6170</td>\n",
       "      <td>False</td>\n",
       "      <td>China Water</td>\n",
       "      <td>47.852476</td>\n",
       "      <td>4.752617</td>\n",
       "    </tr>\n",
       "    <tr>\n",
       "      <th>8245</th>\n",
       "      <td>0.000115</td>\n",
       "      <td>2.0</td>\n",
       "      <td>3.0</td>\n",
       "      <td>0.000277</td>\n",
       "      <td>Small/Small</td>\n",
       "      <td>Overlap (FALSE)</td>\n",
       "      <td>15</td>\n",
       "      <td>False</td>\n",
       "      <td>4122</td>\n",
       "      <td>False</td>\n",
       "      <td>lund_data</td>\n",
       "      <td>41.685556</td>\n",
       "      <td>4.603023</td>\n",
       "    </tr>\n",
       "    <tr>\n",
       "      <th>16161</th>\n",
       "      <td>0.000242</td>\n",
       "      <td>4.0</td>\n",
       "      <td>33.0</td>\n",
       "      <td>0.000925</td>\n",
       "      <td>Large/Large</td>\n",
       "      <td>Partial Overlap (TRUE)</td>\n",
       "      <td>15</td>\n",
       "      <td>False</td>\n",
       "      <td>8080</td>\n",
       "      <td>False</td>\n",
       "      <td>Country Borders</td>\n",
       "      <td>26.120762</td>\n",
       "      <td>4.107310</td>\n",
       "    </tr>\n",
       "    <tr>\n",
       "      <th>15745</th>\n",
       "      <td>0.000263</td>\n",
       "      <td>5.0</td>\n",
       "      <td>11.0</td>\n",
       "      <td>0.002438</td>\n",
       "      <td>Medium/Medium</td>\n",
       "      <td>Partial Overlap (TRUE)</td>\n",
       "      <td>15</td>\n",
       "      <td>False</td>\n",
       "      <td>7872</td>\n",
       "      <td>False</td>\n",
       "      <td>Country Borders</td>\n",
       "      <td>10.788770</td>\n",
       "      <td>3.553869</td>\n",
       "    </tr>\n",
       "    <tr>\n",
       "      <th>14995</th>\n",
       "      <td>0.000217</td>\n",
       "      <td>3.0</td>\n",
       "      <td>37.0</td>\n",
       "      <td>0.000908</td>\n",
       "      <td>Medium/Large</td>\n",
       "      <td>Partial Overlap (TRUE)</td>\n",
       "      <td>15</td>\n",
       "      <td>False</td>\n",
       "      <td>7497</td>\n",
       "      <td>False</td>\n",
       "      <td>Country Borders</td>\n",
       "      <td>23.882771</td>\n",
       "      <td>3.053777</td>\n",
       "    </tr>\n",
       "    <tr>\n",
       "      <th>18447</th>\n",
       "      <td>0.000196</td>\n",
       "      <td>3.0</td>\n",
       "      <td>3.0</td>\n",
       "      <td>0.000826</td>\n",
       "      <td>Small/Medium</td>\n",
       "      <td>Partial Overlap (TRUE)</td>\n",
       "      <td>15</td>\n",
       "      <td>False</td>\n",
       "      <td>9317</td>\n",
       "      <td>False</td>\n",
       "      <td>China Water</td>\n",
       "      <td>23.726927</td>\n",
       "      <td>2.823066</td>\n",
       "    </tr>\n",
       "    <tr>\n",
       "      <th>1827</th>\n",
       "      <td>0.000228</td>\n",
       "      <td>2.0</td>\n",
       "      <td>38.0</td>\n",
       "      <td>0.000473</td>\n",
       "      <td>Small/Large</td>\n",
       "      <td>Overlap (FALSE)</td>\n",
       "      <td>15</td>\n",
       "      <td>False</td>\n",
       "      <td>998</td>\n",
       "      <td>False</td>\n",
       "      <td>Sweden All</td>\n",
       "      <td>48.250695</td>\n",
       "      <td>2.800612</td>\n",
       "    </tr>\n",
       "    <tr>\n",
       "      <th>15301</th>\n",
       "      <td>0.000237</td>\n",
       "      <td>2.0</td>\n",
       "      <td>30.0</td>\n",
       "      <td>0.000460</td>\n",
       "      <td>Medium/Large</td>\n",
       "      <td>Overlap (FALSE)</td>\n",
       "      <td>15</td>\n",
       "      <td>False</td>\n",
       "      <td>7729</td>\n",
       "      <td>False</td>\n",
       "      <td>China Water</td>\n",
       "      <td>51.557173</td>\n",
       "      <td>2.497355</td>\n",
       "    </tr>\n",
       "    <tr>\n",
       "      <th>6781</th>\n",
       "      <td>0.000352</td>\n",
       "      <td>4.0</td>\n",
       "      <td>32.0</td>\n",
       "      <td>0.000623</td>\n",
       "      <td>Medium/Large</td>\n",
       "      <td>Fully Inside Other (TRUE)</td>\n",
       "      <td>15</td>\n",
       "      <td>False</td>\n",
       "      <td>3728</td>\n",
       "      <td>False</td>\n",
       "      <td>Sweden All</td>\n",
       "      <td>56.490783</td>\n",
       "      <td>2.322336</td>\n",
       "    </tr>\n",
       "    <tr>\n",
       "      <th>15429</th>\n",
       "      <td>0.000160</td>\n",
       "      <td>2.0</td>\n",
       "      <td>9.0</td>\n",
       "      <td>0.000321</td>\n",
       "      <td>Medium/Medium</td>\n",
       "      <td>Overlap (FALSE)</td>\n",
       "      <td>15</td>\n",
       "      <td>False</td>\n",
       "      <td>7793</td>\n",
       "      <td>False</td>\n",
       "      <td>China Water</td>\n",
       "      <td>49.676594</td>\n",
       "      <td>2.315598</td>\n",
       "    </tr>\n",
       "    <tr>\n",
       "      <th>4877</th>\n",
       "      <td>0.000148</td>\n",
       "      <td>2.0</td>\n",
       "      <td>2.0</td>\n",
       "      <td>0.000408</td>\n",
       "      <td>Small/Small</td>\n",
       "      <td>Fully Inside Other (TRUE)</td>\n",
       "      <td>15</td>\n",
       "      <td>False</td>\n",
       "      <td>2685</td>\n",
       "      <td>False</td>\n",
       "      <td>Sweden All</td>\n",
       "      <td>36.303309</td>\n",
       "      <td>2.260611</td>\n",
       "    </tr>\n",
       "    <tr>\n",
       "      <th>1543</th>\n",
       "      <td>0.000160</td>\n",
       "      <td>2.0</td>\n",
       "      <td>10.0</td>\n",
       "      <td>0.000408</td>\n",
       "      <td>Small/Medium</td>\n",
       "      <td>Fully Inside Other (TRUE)</td>\n",
       "      <td>15</td>\n",
       "      <td>False</td>\n",
       "      <td>842</td>\n",
       "      <td>False</td>\n",
       "      <td>Sweden All</td>\n",
       "      <td>39.163092</td>\n",
       "      <td>2.177719</td>\n",
       "    </tr>\n",
       "    <tr>\n",
       "      <th>681</th>\n",
       "      <td>0.000237</td>\n",
       "      <td>2.0</td>\n",
       "      <td>60.0</td>\n",
       "      <td>0.000709</td>\n",
       "      <td>Small/Large</td>\n",
       "      <td>Partial Overlap (TRUE)</td>\n",
       "      <td>15</td>\n",
       "      <td>False</td>\n",
       "      <td>344</td>\n",
       "      <td>False</td>\n",
       "      <td>China Water</td>\n",
       "      <td>33.381911</td>\n",
       "      <td>2.009081</td>\n",
       "    </tr>\n",
       "    <tr>\n",
       "      <th>15967</th>\n",
       "      <td>0.001162</td>\n",
       "      <td>23.0</td>\n",
       "      <td>65.0</td>\n",
       "      <td>0.015113</td>\n",
       "      <td>Large/Large</td>\n",
       "      <td>Fully Inside Other (TRUE)</td>\n",
       "      <td>15</td>\n",
       "      <td>False</td>\n",
       "      <td>8065</td>\n",
       "      <td>False</td>\n",
       "      <td>China Water</td>\n",
       "      <td>7.689643</td>\n",
       "      <td>1.799357</td>\n",
       "    </tr>\n",
       "    <tr>\n",
       "      <th>13087</th>\n",
       "      <td>0.000327</td>\n",
       "      <td>7.0</td>\n",
       "      <td>7.0</td>\n",
       "      <td>0.003936</td>\n",
       "      <td>Medium/Medium</td>\n",
       "      <td>Fully Inside Other (TRUE)</td>\n",
       "      <td>15</td>\n",
       "      <td>False</td>\n",
       "      <td>6611</td>\n",
       "      <td>False</td>\n",
       "      <td>China Water</td>\n",
       "      <td>8.316391</td>\n",
       "      <td>1.117765</td>\n",
       "    </tr>\n",
       "  </tbody>\n",
       "</table>\n",
       "</div>"
      ],
      "text/plain": [
       "         decomp  nbr_recieved_chks  nbr_total_chks  total_time          sizes   \n",
       "1551   0.000085                2.0             2.0    0.000563    Small/Small  \\\n",
       "10125  0.003300                2.0          1329.0    0.003593    Small/Large   \n",
       "3163   0.000135                3.0             4.0    0.000425   Small/Medium   \n",
       "12213  0.000249                4.0            23.0    0.000521    Large/Large   \n",
       "8245   0.000115                2.0             3.0    0.000277    Small/Small   \n",
       "16161  0.000242                4.0            33.0    0.000925    Large/Large   \n",
       "15745  0.000263                5.0            11.0    0.002438  Medium/Medium   \n",
       "14995  0.000217                3.0            37.0    0.000908   Medium/Large   \n",
       "18447  0.000196                3.0             3.0    0.000826   Small/Medium   \n",
       "1827   0.000228                2.0            38.0    0.000473    Small/Large   \n",
       "15301  0.000237                2.0            30.0    0.000460   Medium/Large   \n",
       "6781   0.000352                4.0            32.0    0.000623   Medium/Large   \n",
       "15429  0.000160                2.0             9.0    0.000321  Medium/Medium   \n",
       "4877   0.000148                2.0             2.0    0.000408    Small/Small   \n",
       "1543   0.000160                2.0            10.0    0.000408   Small/Medium   \n",
       "681    0.000237                2.0            60.0    0.000709    Small/Large   \n",
       "15967  0.001162               23.0            65.0    0.015113    Large/Large   \n",
       "13087  0.000327                7.0             7.0    0.003936  Medium/Medium   \n",
       "\n",
       "                         context  delta_size  predicate  dataset_idx   \n",
       "1551      Partial Overlap (TRUE)          15      False          846  \\\n",
       "10125  Fully Inside Other (TRUE)          15      False         5578   \n",
       "3163             Overlap (FALSE)          15      False         1739   \n",
       "12213            Overlap (FALSE)          15      False         6170   \n",
       "8245             Overlap (FALSE)          15      False         4122   \n",
       "16161     Partial Overlap (TRUE)          15      False         8080   \n",
       "15745     Partial Overlap (TRUE)          15      False         7872   \n",
       "14995     Partial Overlap (TRUE)          15      False         7497   \n",
       "18447     Partial Overlap (TRUE)          15      False         9317   \n",
       "1827             Overlap (FALSE)          15      False          998   \n",
       "15301            Overlap (FALSE)          15      False         7729   \n",
       "6781   Fully Inside Other (TRUE)          15      False         3728   \n",
       "15429            Overlap (FALSE)          15      False         7793   \n",
       "4877   Fully Inside Other (TRUE)          15      False         2685   \n",
       "1543   Fully Inside Other (TRUE)          15      False          842   \n",
       "681       Partial Overlap (TRUE)          15      False          344   \n",
       "15967  Fully Inside Other (TRUE)          15      False         8065   \n",
       "13087  Fully Inside Other (TRUE)          15      False         6611   \n",
       "\n",
       "       baseline          dataset       frac  total_time_ratio  \n",
       "1551      False       Sweden All  15.040420         40.720554  \n",
       "10125     False       Sweden All  91.856698         13.024765  \n",
       "3163      False       Sweden All  31.759258          6.457152  \n",
       "12213     False      China Water  47.852476          4.752617  \n",
       "8245      False        lund_data  41.685556          4.603023  \n",
       "16161     False  Country Borders  26.120762          4.107310  \n",
       "15745     False  Country Borders  10.788770          3.553869  \n",
       "14995     False  Country Borders  23.882771          3.053777  \n",
       "18447     False      China Water  23.726927          2.823066  \n",
       "1827      False       Sweden All  48.250695          2.800612  \n",
       "15301     False      China Water  51.557173          2.497355  \n",
       "6781      False       Sweden All  56.490783          2.322336  \n",
       "15429     False      China Water  49.676594          2.315598  \n",
       "4877      False       Sweden All  36.303309          2.260611  \n",
       "1543      False       Sweden All  39.163092          2.177719  \n",
       "681       False      China Water  33.381911          2.009081  \n",
       "15967     False      China Water   7.689643          1.799357  \n",
       "13087     False      China Water   8.316391          1.117765  "
      ]
     },
     "metadata": {},
     "output_type": "display_data"
    }
   ],
   "source": [
    "def get_max_min_relative_speed(df):\n",
    "    def calculate_ratio(x):\n",
    "        base = x[x[\"baseline\"] == True]['total_time']\n",
    "        non_base = x[x[\"baseline\"] == False]['total_time']\n",
    "        if not base.empty and not non_base.empty:\n",
    "            val = non_base.iloc[0] / base.iloc[0]\n",
    "            return val\n",
    "        else:\n",
    "            return None\n",
    "\n",
    "    df = df[stats_df['predicate'] == False]\n",
    "    df_relative = df.groupby([\"dataset_idx\", \"dataset\"]).apply(calculate_ratio)\n",
    "\n",
    "    df = df[~df['baseline']]\n",
    "    df['total_time_ratio'] = df_relative.values\n",
    "    maxes = df.sort_values(by='total_time_ratio',ascending=False).groupby(['context','sizes']).head(1)\n",
    "    mins = df.sort_values(by='total_time_ratio',ascending=True).groupby(['context','sizes']).head(1)\n",
    "    return mins, maxes\n",
    "\n",
    "mins, maxes = get_max_min_relative_speed(stats_df)\n",
    "print(\"_______________________\\Lowest relative speed by context and size\")\n",
    "display(mins)\n",
    "print(\"_______________________\\nHighest relative speed by context and size\")\n",
    "\n",
    "display(maxes)\n"
   ]
  },
  {
   "cell_type": "code",
   "execution_count": null,
   "metadata": {},
   "outputs": [],
   "source": []
  },
  {
   "cell_type": "code",
   "execution_count": null,
   "metadata": {},
   "outputs": [],
   "source": []
  }
 ],
 "metadata": {
  "kernelspec": {
   "display_name": "Python 3",
   "language": "python",
   "name": "python3"
  },
  "language_info": {
   "codemirror_mode": {
    "name": "ipython",
    "version": 3
   },
   "file_extension": ".py",
   "mimetype": "text/x-python",
   "name": "python",
   "nbconvert_exporter": "python",
   "pygments_lexer": "ipython3",
   "version": "3.11.1"
  },
  "orig_nbformat": 4,
  "vscode": {
   "interpreter": {
    "hash": "aee8b7b246df8f9039afb4144a1f6fd8d2ca17a180786b69acc140d282b71a49"
   }
  }
 },
 "nbformat": 4,
 "nbformat_minor": 2
}
