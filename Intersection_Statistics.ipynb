{
 "cells": [
  {
   "attachments": {},
   "cell_type": "markdown",
   "metadata": {},
   "source": [
    "#### Imports"
   ]
  },
  {
   "cell_type": "code",
   "execution_count": 1,
   "metadata": {},
   "outputs": [],
   "source": [
    "import numpy as np\n",
    "import shapely\n",
    "import bisect\n",
    "import shapely.wkt\n",
    "import matplotlib.pyplot as plt\n",
    "import math\n",
    "import geopandas as gpd\n",
    "import json\n",
    "import pandas as pd\n",
    "import seaborn as sns\n",
    "from enum import Enum\n",
    "import plotly.graph_objects as go\n",
    "from plotly.subplots import make_subplots\n",
    "\n",
    "\n",
    "import intersection.first_bin_search\n",
    "import intersection.chunk_bbox_intersection\n",
    "from bench_utils import parse_intersection_data \n",
    "common_bbox = intersection.chunk_bbox_intersection.common_bbox\n",
    "chunk_bbox_is_intersecting = intersection.chunk_bbox_intersection.is_intersecting\n",
    "chunk_bbox_intersection = intersection.chunk_bbox_intersection.intersection\n",
    "\n",
    "\n",
    "\n",
    "from intersection.plotting import *\n",
    "import algos.fpd_extended_lib.cfg as cfg\n",
    "from algos.alg_fpd_extended import FpdExtended\n",
    "\n",
    "\n",
    "pd.options.mode.chained_assignment = None  # default='warn'"
   ]
  },
  {
   "attachments": {},
   "cell_type": "markdown",
   "metadata": {},
   "source": [
    "#### Import data"
   ]
  },
  {
   "cell_type": "code",
   "execution_count": 185,
   "metadata": {},
   "outputs": [],
   "source": [
    "fpd = FpdExtended()\n",
    "\n",
    "# Geometries\n",
    "manual_data, _ = parse_intersection_data(\"manual\")\n",
    "special_cases, _ = parse_intersection_data(\"latest_export.json\", strip_precision=True)\n",
    "world_data, world_data_stats = parse_intersection_data(\"world.json\",1000, strip_precision=True)\n",
    "lund_data, lund_data_stats = parse_intersection_data(\"lund.json\",1000)\n",
    "sweden_data, sweden_data_stats = parse_intersection_data(\"sweden-places-a.json\",5000)\n",
    "new_york_data, new_york_data_stats = parse_intersection_data(\"new-york-natural.json\",1000)\n",
    "waterways_data, waterways_data_stats = parse_intersection_data(\"nord-est-waterways.json\",1000)\n",
    "\n",
    "datasets = [\n",
    "    (manual_data, 3),\n",
    "    (special_cases, 3),\n",
    "    (world_data, 15),\n",
    "    (lund_data, 3),\n",
    "    (sweden_data, 3),\n",
    "    (new_york_data, 15),\n",
    "    (waterways_data, 13)\n",
    "]\n"
   ]
  },
  {
   "attachments": {},
   "cell_type": "markdown",
   "metadata": {},
   "source": [
    "#### Constants"
   ]
  },
  {
   "cell_type": "code",
   "execution_count": 180,
   "metadata": {},
   "outputs": [],
   "source": [
    "# Number of total iterations = NBR_ITER * N * number_of_datasets\n",
    "NBR_ITER = -1 # Number of iterations for each dataset\n",
    "N = 5 # Number of times to recalculate each geometry for reliable mean value\n",
    "\n",
    "# Max DELTA_SIZE_VALUE in MAX_NUM_DELTAS Analysis\n",
    "MAX_DELTA_SIZE = 100\n",
    "\n",
    "#Geometry classification sizes\n",
    "MEDIUM_THRESHOLD = 50\n",
    "LARGE_THRESHOLD = 100\n",
    "\n",
    "\n",
    "SAVE_DFS = True\n",
    "USE_EXISTING_DF = True"
   ]
  },
  {
   "attachments": {},
   "cell_type": "markdown",
   "metadata": {},
   "source": [
    "## Functions Section"
   ]
  },
  {
   "attachments": {},
   "cell_type": "markdown",
   "metadata": {},
   "source": [
    "#### Config Setter Functions"
   ]
  },
  {
   "cell_type": "code",
   "execution_count": 4,
   "metadata": {},
   "outputs": [],
   "source": [
    "def set_max_num_delta(val):\n",
    "        cfg.MAX_NUM_DELTAS = val\n",
    "        cfg.D_CNT_SIZE = cfg.required_bits(val)\n",
    "\n",
    "def act_deact_baseline(activate=True):\n",
    "        cfg.BASELINE_ON = activate\n",
    "        cfg.DISABLE_OPTIMIZED_INTERSECTION = False if not activate else True\n",
    "        cfg.DISABLE_OPTIMIZED_ADD_VERTEX = False if not activate else True\n",
    "        cfg.DISABLE_OPTIMIZED_BOUNDING_BOX = False if not activate else True"
   ]
  },
  {
   "attachments": {},
   "cell_type": "markdown",
   "metadata": {},
   "source": [
    "#### Stats Collector Functions"
   ]
  },
  {
   "cell_type": "code",
   "execution_count": 5,
   "metadata": {},
   "outputs": [],
   "source": [
    "def get_size_category(size):\n",
    "    if size < LARGE_THRESHOLD and size >= MEDIUM_THRESHOLD:\n",
    "            return \"Medium\", 1\n",
    "    elif size >= LARGE_THRESHOLD:\n",
    "         return \"Large\", 2\n",
    "    else:\n",
    "         return \"Small\", 0\n",
    "    \n",
    "def get_intersection_category(size1, size2):\n",
    "    size1_cat, type1 = get_size_category(size1)\n",
    "    size2_cat, type2 = get_size_category(size2)\n",
    "\n",
    "    if type1 <= type2:\n",
    "        return size1_cat + \"/\" + size2_cat\n",
    "    return size2_cat + \"/\" + size1_cat\n",
    "\n",
    "\n",
    "def get_context_category(g1, g2, bins=None):\n",
    "    if bins == None:\n",
    "        _, b1_fpde = fpd.compress(g1)\n",
    "        _, b2_fpde = fpd.compress(g2) \n",
    "    else:\n",
    "        b1_fpde, b2_fpde = bins\n",
    "\n",
    "    bbox = common_bbox((b1_fpde, b2_fpde))\n",
    "    intersects = shapely.intersection(g1, g2)\n",
    "    contains = shapely.contains(g1, g2) or shapely.contains(g2, g1)\n",
    "    if not bbox:\n",
    "        return \"No Overlap (FALSE)\"\n",
    "    elif not intersects:\n",
    "        return \"Overlap (FALSE)\"\n",
    "    elif not contains:\n",
    "        return \"Partial Overlap (TRUE)\"\n",
    "    else:\n",
    "        return \"Fully Inside Other (TRUE)\"\n",
    "\n",
    "def get_category_stat(g1, g2):\n",
    "        s1, s2 = (shapely.get_num_coordinates(g1), shapely.get_num_coordinates(g2))\n",
    "        size_category = get_intersection_category(s1, s2)\n",
    "        context_category = get_context_category(g1, g2)\n",
    "        return [size_category, context_category]\n",
    "\n",
    "\n",
    "#For taking mean of all stats, not just total time\n",
    "def get_time_stat(bins, predicate=False):\n",
    "    alg = chunk_bbox_is_intersecting if predicate else chunk_bbox_intersection\n",
    "    # 'decomp', 'nbr_recieved_chks', 'nbr_total_chks', 'total_time'\n",
    "    mean_stat = [0, 0, 0, 0]\n",
    "    for i in range(N):\n",
    "        stat, _ = alg(bins, get_stats=True)\n",
    "        mean_stat = [sum(x) for x in zip(mean_stat, stat)]\n",
    "    return mean_stat\n"
   ]
  },
  {
   "attachments": {},
   "cell_type": "markdown",
   "metadata": {},
   "source": [
    "#### Dataset Evaluation"
   ]
  },
  {
   "cell_type": "code",
   "execution_count": 6,
   "metadata": {},
   "outputs": [],
   "source": [
    "def evaluate_dataset(data, stats_df, delta_size=None, not_predicate=False, add_size=False):\n",
    "    for idx, (g1, g2) in enumerate(data):\n",
    "        if delta_size != None:\n",
    "            set_max_num_delta(delta_size)\n",
    "        #is_intersecting, intersect_points = binary_intersection(g1, g2)\n",
    "        bins = (fpd.compress(g1)[1], fpd.compress(g2)[1])\n",
    "\n",
    "        for is_predicate in [False] if not_predicate else [True, False]:\n",
    "            stats = []\n",
    "            stats.extend(get_time_stat(bins=bins, predicate=is_predicate))\n",
    "            stats.extend(get_category_stat(g1, g2))\n",
    "            stats.append(delta_size if delta_size != None else cfg.MAX_NUM_DELTAS)\n",
    "            stats.append(is_predicate)\n",
    "            stats.append(idx)\n",
    "            stats.append(cfg.BASELINE_ON)\n",
    "            if add_size:\n",
    "                stats.append(len(bins[0]) + len(bins[1]))\n",
    "            stats_df.loc[len(stats_df)] = stats"
   ]
  },
  {
   "attachments": {},
   "cell_type": "markdown",
   "metadata": {},
   "source": [
    "# Statistics Visualization"
   ]
  },
  {
   "attachments": {},
   "cell_type": "markdown",
   "metadata": {},
   "source": [
    "#### Best MAX_NUM_DELTAS per Dataset Analysis"
   ]
  },
  {
   "cell_type": "code",
   "execution_count": 7,
   "metadata": {},
   "outputs": [
    {
     "name": "stderr",
     "output_type": "stream",
     "text": [
      "100%|██████████| 100/100 [1:43:55<00:00, 62.35s/it]\n"
     ]
    }
   ],
   "source": [
    "from tqdm import tqdm\n",
    "\n",
    "if not USE_EXISTING_DF:\n",
    "    max_deltas_df = pd.DataFrame(columns=['decomp', 'nbr_recieved_chks', 'nbr_total_chks', 'total_time', \"sizes\", \"context\", \"delta_size\", \"predicate\", \"dataset_idx\", \"baseline\", \"sum_size\"])\n",
    "    for max_delta_size in tqdm(range(0,MAX_DELTA_SIZE)):\n",
    "        for dataset in [key for key,_ in datasets.items()]:\n",
    "            for baseline_on in [True, False]:\n",
    "                act_deact_baseline(activate=baseline_on)        \n",
    "                evaluate_dataset(data=dataset, stats_df=max_deltas_df, delta_size=max_delta_size, not_predicate=True, add_size=True)    \n",
    "else:\n",
    "    max_deltas_df = pd.read_csv('max_deltas_df.csv')"
   ]
  },
  {
   "cell_type": "code",
   "execution_count": 11,
   "metadata": {},
   "outputs": [],
   "source": [
    "if SAVE_DFS:\n",
    "    max_deltas_df.to_csv('max_deltas_df.csv', index=False)\n"
   ]
  },
  {
   "cell_type": "code",
   "execution_count": 13,
   "metadata": {},
   "outputs": [],
   "source": [
    "max_deltas_filt_df = max_deltas_df[['total_time', 'sum_size', \"sizes\", \"delta_size\", \"predicate\", \"baseline\"]]"
   ]
  },
  {
   "attachments": {},
   "cell_type": "markdown",
   "metadata": {},
   "source": [
    "### Helper"
   ]
  },
  {
   "cell_type": "code",
   "execution_count": 297,
   "metadata": {},
   "outputs": [],
   "source": [
    "\n",
    "import plotly.graph_objs as objs\n",
    "\n",
    "def make_general_facet_title(fig, x_title, y_title, secondary=None):\n",
    "    #Remove current axis titles\n",
    "    for axis in fig.layout:\n",
    "        if type(fig.layout[axis]) == objs.layout.XAxis:\n",
    "            fig.layout[axis].title.text = ''\n",
    "\n",
    "    for axis in fig.layout:\n",
    "        if type(fig.layout[axis]) == objs.layout.YAxis:\n",
    "            fig.layout[axis].title.text = '' \n",
    "    \n",
    "\n",
    "    fig.add_annotation(\n",
    "    dict(\n",
    "        x=0.48,\n",
    "        y=-0.04,  # adjust as needed\n",
    "        showarrow=False,\n",
    "        text=x_title,\n",
    "        xref=\"paper\",\n",
    "        yref=\"paper\",\n",
    "        font=dict(size=20),\n",
    "        xanchor=\"center\", \n",
    "        yanchor=\"top\"\n",
    "    )\n",
    "    )\n",
    "\n",
    "    if secondary != None:\n",
    "        # Add a common y-axis title at the bottom\n",
    "        fig.add_annotation(\n",
    "        dict(\n",
    "            x=1.01,  # adjust as needed\n",
    "            y=0.5,\n",
    "            showarrow=False,\n",
    "            text=secondary,\n",
    "            textangle=-90,  # to rotate the text for the vertical y-axis\n",
    "            xref=\"paper\",\n",
    "            yref=\"paper\",\n",
    "            font=dict(size=20),\n",
    "            xanchor=\"center\",\n",
    "            yanchor=\"middle\"\n",
    "        )\n",
    "    )\n",
    "\n",
    "    # Add a common y-axis title at the bottom\n",
    "    fig.add_annotation(\n",
    "    dict(\n",
    "        x=-0.1,  # adjust as needed\n",
    "        y=0.5,\n",
    "        showarrow=False,\n",
    "        text=y_title,\n",
    "        textangle=-90,  # to rotate the text for the vertical y-axis\n",
    "        xref=\"paper\",\n",
    "        yref=\"paper\",\n",
    "        font=dict(size=20),\n",
    "        xanchor=\"center\",\n",
    "        yanchor=\"middle\"\n",
    "    )\n",
    ")"
   ]
  },
  {
   "cell_type": "code",
   "execution_count": 314,
   "metadata": {},
   "outputs": [],
   "source": [
    "def plot_max_delta_size_speed(df, is_predicate=False, no_mixed=False):\n",
    "    if no_mixed:\n",
    "        df = df[df['sizes'].isin([\"Small/Small\", \"Medium/Medium\", \"Large/Large\"])]\n",
    "        specs_element = [{\"secondary_y\": True}]\n",
    "    else:\n",
    "        specs_element = [{\"secondary_y\": True}, {\"secondary_y\": True}]\n",
    "\n",
    "    df = df[df['predicate'] == is_predicate]\n",
    "    df = df.groupby(['delta_size', 'sizes', 'baseline']).mean()\n",
    "    df.reset_index(inplace=True)\n",
    "    \n",
    "    sizes = dict(zip(list(df.sizes.unique()), range(len(df.sizes.unique()))))\n",
    "    fig = make_subplots(rows=3, cols=1 if no_mixed else 2, \n",
    "                        subplot_titles=(list(map(lambda x: \"Geometry Sizes=\" + x.split('/')[0], sizes.keys()))), \n",
    "                        horizontal_spacing=0.08, \n",
    "                        vertical_spacing=0.07, \n",
    "                        #x_title=\"Max Chunk Size\",  y_title=\"Mean Execution Time (s)\", \n",
    "                        specs=[specs_element,\n",
    "                              specs_element,\n",
    "                              specs_element])\n",
    "    \n",
    "    legend_showed = False\n",
    "    for size in sizes.keys():\n",
    "        curr_context_df = df[(df['sizes'] == size)]\n",
    "        for is_baseline in [True, False]:\n",
    "\n",
    "            line = dict(color='blue' if is_baseline else 'red')\n",
    "\n",
    "            curr_df = curr_context_df[curr_context_df['baseline'] == is_baseline]\n",
    "            baseline_formatting = \"FPDE\" if not is_baseline else \"Baseline\"\n",
    "            fig.add_trace(go.Scatter(x=curr_df.delta_size.values, y=curr_df.total_time.values,\n",
    "                                    mode='lines',\n",
    "                                    line=line,\n",
    "                                    showlegend=not legend_showed,\n",
    "                                    name=f\"{baseline_formatting}\"),col=sizes[size] // 3 + 1 if no_mixed else 1, row=sizes[size] % 3 + 1,\n",
    "                                    secondary_y=False)\n",
    "            \n",
    "            if not is_baseline:\n",
    "                fig.add_trace(go.Scatter(x=curr_df.delta_size.values, y=curr_df.sum_size.values,\n",
    "                                        mode='lines',\n",
    "                                        line=dict(color='green', dash='dash'),\n",
    "                                        showlegend=not legend_showed,\n",
    "                                        name=f\"Average size (bits)\"),col=sizes[size] // 3 + 1 if no_mixed else 1, row=sizes[size] % 3 + 1,\n",
    "                                        secondary_y=True)\n",
    "                legend_showed = True\n",
    " \n",
    "    # for annotation in fig['layout']['annotations']:\n",
    "    #     annotation['font']['size'] = 18  # Set your desired font size here\n",
    "\n",
    "    intersection_format = \"Intersection\" if not is_predicate else \"IsIntersection\"\n",
    "    baseline_format = \"\" if not is_baseline else \"(Baseline)\"\n",
    "    fig.update_layout(\n",
    "                      title_x=0.5,\n",
    "                      width=1000, \n",
    "                      height=1000, \n",
    "                      legend=dict(\n",
    "                            yanchor=\"top\",\n",
    "                            y=-0.08,\n",
    "                            xanchor=\"left\",\n",
    "                            x=0.5,\n",
    "                            orientation=\"h\",\n",
    "                            font=dict(size=15),\n",
    "                        ),\n",
    "                        title=dict(\n",
    "                            text=f'Execution Time for {intersection_format} by Max Chunk Size {baseline_format}',\n",
    "                            x=0.5,\n",
    "                            font=dict(size=22)\n",
    "                            )\n",
    "                        )\n",
    "\n",
    "    fig.update_yaxes(secondary_y=False, type=\"log\", tickfont=dict(size=16))\n",
    "    fig.update_xaxes(tickfont=dict(size=16))\n",
    "\n",
    "    make_general_facet_title(fig, \"Max Chunk Size\", \"Mean Execution Time (s)\", secondary=\"Mean Size (bits)\")\n",
    "   \n",
    "\n",
    "    fig.show()"
   ]
  },
  {
   "attachments": {},
   "cell_type": "markdown",
   "metadata": {},
   "source": []
  },
  {
   "cell_type": "code",
   "execution_count": 315,
   "metadata": {},
   "outputs": [
    {
     "data": {
      "application/vnd.plotly.v1+json": {
       "config": {
        "plotlyServerURL": "https://plot.ly"
       },
       "data": [
        {
         "line": {
          "color": "blue"
         },
         "mode": "lines",
         "name": "Baseline",
         "showlegend": true,
         "type": "scatter",
         "x": [
          0,
          1,
          2,
          3,
          4,
          5,
          6,
          7,
          8,
          9,
          10,
          11,
          12,
          13,
          14,
          15,
          16,
          17,
          18,
          19,
          20,
          21,
          22,
          23,
          24,
          25,
          26,
          27,
          28,
          29,
          30,
          31,
          32,
          33,
          34,
          35,
          36,
          37,
          38,
          39,
          40,
          41,
          42,
          43,
          44,
          45,
          46,
          47,
          48,
          49,
          50,
          51,
          52,
          53,
          54,
          55,
          56,
          57,
          58,
          59,
          60,
          61,
          62,
          63,
          64,
          65,
          66,
          67,
          68,
          69,
          70,
          71,
          72,
          73,
          74,
          75,
          76,
          77,
          78,
          79,
          80,
          81,
          82,
          83,
          84,
          85,
          86,
          87,
          88,
          89,
          90,
          91,
          92,
          93,
          94,
          95,
          96,
          97,
          98,
          99
         ],
         "xaxis": "x",
         "y": [
          0.02831642079665168,
          0.015747438322174883,
          0.01267800483863842,
          0.012523755630430363,
          0.011995312010109652,
          0.012080969448182563,
          0.011648394120356897,
          0.011598279901136266,
          0.011392265646009037,
          0.01139450598861913,
          0.011038582339021255,
          0.010725916238925493,
          0.010941686952795257,
          0.010947357417080639,
          0.01071438798461107,
          0.011328370411850605,
          0.010880314025674428,
          0.010682016135130349,
          0.010888178275763494,
          0.010983795303218358,
          0.011617113593577718,
          0.010482932004758064,
          0.011412579422312774,
          0.010512353037180825,
          0.010304365520520756,
          0.011062425432101008,
          0.010781503781648402,
          0.010237202287423012,
          0.010113081843352726,
          0.011575440624559027,
          0.010446690844067538,
          0.010713580864982456,
          0.011272353557084594,
          0.010687801999589889,
          0.01171909784352465,
          0.011237754380469292,
          0.011874929567814737,
          0.012046851640510189,
          0.011693424223646312,
          0.012534054958526516,
          0.010863620161520279,
          0.011278040015440638,
          0.011786275666812193,
          0.011442589380294521,
          0.011555006108816693,
          0.011796814177235623,
          0.011603781301952646,
          0.011569068671709223,
          0.012190710813001715,
          0.012103146922224065,
          0.012400368520654107,
          0.012613796198062724,
          0.012333859182945162,
          0.013222609453957071,
          0.012811124162074824,
          0.012680922906535367,
          0.013409090880107518,
          0.01277562261930143,
          0.012753263296720737,
          0.01278078086518993,
          0.013558989629776383,
          0.013370661421504337,
          0.012235318556577113,
          0.013578483401336902,
          0.013231480785937796,
          0.01233902939050798,
          0.013554510432868483,
          0.012990533848854588,
          0.01240757099496174,
          0.013290249193460113,
          0.012575563129530565,
          0.012153872608829866,
          0.012832484906084574,
          0.012767661985132387,
          0.012387838312633903,
          0.012713884891278818,
          0.010946234832924043,
          0.013305727213037244,
          0.01146758770770854,
          0.012040743797645822,
          0.011549933176335495,
          0.01260307017704084,
          0.012549366599235631,
          0.012369375094219018,
          0.011903353682252297,
          0.012472617577638326,
          0.01260149078188988,
          0.013223793052096275,
          0.012882340239684709,
          0.012151399687809317,
          0.013645952708884579,
          0.01427086495345975,
          0.0126926874735697,
          0.013955718384901653,
          0.014098322855033985,
          0.013436791041537314,
          0.01420595399016141,
          0.013374881797441654,
          0.013219825984303194,
          0.013402117635905597
         ],
         "yaxis": "y"
        },
        {
         "line": {
          "color": "red"
         },
         "mode": "lines",
         "name": "FPDE",
         "showlegend": true,
         "type": "scatter",
         "x": [
          0,
          1,
          2,
          3,
          4,
          5,
          6,
          7,
          8,
          9,
          10,
          11,
          12,
          13,
          14,
          15,
          16,
          17,
          18,
          19,
          20,
          21,
          22,
          23,
          24,
          25,
          26,
          27,
          28,
          29,
          30,
          31,
          32,
          33,
          34,
          35,
          36,
          37,
          38,
          39,
          40,
          41,
          42,
          43,
          44,
          45,
          46,
          47,
          48,
          49,
          50,
          51,
          52,
          53,
          54,
          55,
          56,
          57,
          58,
          59,
          60,
          61,
          62,
          63,
          64,
          65,
          66,
          67,
          68,
          69,
          70,
          71,
          72,
          73,
          74,
          75,
          76,
          77,
          78,
          79,
          80,
          81,
          82,
          83,
          84,
          85,
          86,
          87,
          88,
          89,
          90,
          91,
          92,
          93,
          94,
          95,
          96,
          97,
          98,
          99
         ],
         "xaxis": "x",
         "y": [
          0.016236396150361543,
          0.00788612791605677,
          0.005811168520722276,
          0.004888918323255591,
          0.004381174031019934,
          0.003833156213810677,
          0.003649965301823007,
          0.003440257504583618,
          0.0033553277181302596,
          0.0032506641714462603,
          0.003195238333849678,
          0.0034867439636248796,
          0.0036711029219986813,
          0.0033208094422055487,
          0.003018942333862166,
          0.0028973606459506604,
          0.0031275152346097457,
          0.003099681838799976,
          0.0035657400159531485,
          0.003644246984019143,
          0.004040186265153049,
          0.0031604731930959438,
          0.0031297810726300668,
          0.0037213671563070725,
          0.0029616895362020537,
          0.0032863000512861618,
          0.0035053364323024048,
          0.0030054354847379727,
          0.0030148736451944083,
          0.0029959926981367366,
          0.0033071804378626743,
          0.003045344077236223,
          0.003432447072479287,
          0.0032653876410222438,
          0.003319918270714576,
          0.0032350614945547327,
          0.003393353166908734,
          0.004045534588840383,
          0.00440099223510515,
          0.0038521168854307084,
          0.0036299193130465333,
          0.003673859182678522,
          0.0036834917247385115,
          0.0036897606922442114,
          0.00371136149897211,
          0.0037422207549298037,
          0.0037678383075672173,
          0.0037704861300274692,
          0.0038341147510436713,
          0.003829928359512754,
          0.004168671479116408,
          0.004241636198230481,
          0.004194962687961379,
          0.004266097183138602,
          0.004206045297223682,
          0.004406718406092598,
          0.004696577979530048,
          0.004348833499989269,
          0.004369741610086446,
          0.004394775651159459,
          0.004498710145753648,
          0.00452462733816598,
          0.004479169125109668,
          0.00455119107846258,
          0.004569954874417211,
          0.004620965250220858,
          0.004565842770413535,
          0.004624560120115954,
          0.00460963853697649,
          0.004651599417305381,
          0.0042829123335650365,
          0.00429196176522358,
          0.004320934229326667,
          0.004372289910937373,
          0.004390536927303401,
          0.004671732807613201,
          0.004121320556502421,
          0.004510534109461635,
          0.004183999905762903,
          0.004173581286674259,
          0.004178501567290975,
          0.004268132390734536,
          0.004576646369817657,
          0.004594354005121204,
          0.004565433135060933,
          0.004573588510159728,
          0.0046173955781038485,
          0.0047011923752506846,
          0.004703966865084415,
          0.00470310678633723,
          0.005055879760220705,
          0.005057015787542696,
          0.004694463521142704,
          0.004813897270954233,
          0.004992353120314874,
          0.005036515015717669,
          0.005019085219297874,
          0.005170275390734484,
          0.0048262468590110075,
          0.005206511443702766
         ],
         "yaxis": "y"
        },
        {
         "line": {
          "color": "green",
          "dash": "dash"
         },
         "mode": "lines",
         "name": "Average size (bits)",
         "showlegend": true,
         "type": "scatter",
         "x": [
          0,
          1,
          2,
          3,
          4,
          5,
          6,
          7,
          8,
          9,
          10,
          11,
          12,
          13,
          14,
          15,
          16,
          17,
          18,
          19,
          20,
          21,
          22,
          23,
          24,
          25,
          26,
          27,
          28,
          29,
          30,
          31,
          32,
          33,
          34,
          35,
          36,
          37,
          38,
          39,
          40,
          41,
          42,
          43,
          44,
          45,
          46,
          47,
          48,
          49,
          50,
          51,
          52,
          53,
          54,
          55,
          56,
          57,
          58,
          59,
          60,
          61,
          62,
          63,
          64,
          65,
          66,
          67,
          68,
          69,
          70,
          71,
          72,
          73,
          74,
          75,
          76,
          77,
          78,
          79,
          80,
          81,
          82,
          83,
          84,
          85,
          86,
          87,
          88,
          89,
          90,
          91,
          92,
          93,
          94,
          95,
          96,
          97,
          98,
          99
         ],
         "xaxis": "x",
         "y": [
          81017.35416666667,
          49874.583333333336,
          39469.901041666664,
          34286.755208333336,
          31181.463541666668,
          29085.567708333332,
          27616.776041666668,
          26468.546875,
          25596.963541666668,
          24915.541666666668,
          24337.859375,
          23870.40625,
          23468.645833333332,
          23137.421875,
          22834.427083333332,
          22505.645833333332,
          22272.765625,
          22078.520833333332,
          21911.364583333332,
          21739.848958333332,
          21590.963541666668,
          21449.598958333332,
          21332.34375,
          21222.578125,
          21115.958333333332,
          21015.307291666668,
          20938.755208333332,
          20860.65625,
          20783.90625,
          20718.598958333332,
          20652.645833333332,
          20556.734375,
          20493.953125,
          20440.026041666668,
          20393.286458333332,
          20340.125,
          20298.020833333332,
          20262.244791666668,
          20214.364583333332,
          20180.739583333332,
          20145.432291666668,
          20109.635416666668,
          20072.130208333332,
          20032.645833333332,
          20002.671875,
          19975.385416666668,
          19956.692708333332,
          19932.53125,
          19905.09375,
          19880.328125,
          19863.958333333332,
          19835.427083333332,
          19817.208333333332,
          19800.135416666668,
          19778.213541666668,
          19763.114583333332,
          19747.442708333332,
          19725.489583333332,
          19707.734375,
          19691.463541666668,
          19674.505208333332,
          19661.697916666668,
          19651.989583333332,
          19644.625,
          19627.369791666668,
          19615.083333333332,
          19606.098958333332,
          19594.145833333332,
          19580.921875,
          19573.833333333332,
          19559.286458333332,
          19547.723958333332,
          19536.848958333332,
          19528.088541666668,
          19515.671875,
          19508.666666666668,
          19490.109375,
          19478.421875,
          19469.385416666668,
          19462.6875,
          19458.875,
          19446.854166666668,
          19438.302083333332,
          19430.270833333332,
          19422.1875,
          19414.489583333332,
          19406.432291666668,
          19399.166666666668,
          19395.927083333332,
          19388.677083333332,
          19378.036458333332,
          19371.161458333332,
          19369.15625,
          19364.921875,
          19359.901041666668,
          19355.854166666668,
          19348.135416666668,
          19338.40625,
          19329.994791666668,
          19325.963541666668
         ],
         "yaxis": "y2"
        },
        {
         "line": {
          "color": "blue"
         },
         "mode": "lines",
         "name": "Baseline",
         "showlegend": false,
         "type": "scatter",
         "x": [
          0,
          1,
          2,
          3,
          4,
          5,
          6,
          7,
          8,
          9,
          10,
          11,
          12,
          13,
          14,
          15,
          16,
          17,
          18,
          19,
          20,
          21,
          22,
          23,
          24,
          25,
          26,
          27,
          28,
          29,
          30,
          31,
          32,
          33,
          34,
          35,
          36,
          37,
          38,
          39,
          40,
          41,
          42,
          43,
          44,
          45,
          46,
          47,
          48,
          49,
          50,
          51,
          52,
          53,
          54,
          55,
          56,
          57,
          58,
          59,
          60,
          61,
          62,
          63,
          64,
          65,
          66,
          67,
          68,
          69,
          70,
          71,
          72,
          73,
          74,
          75,
          76,
          77,
          78,
          79,
          80,
          81,
          82,
          83,
          84,
          85,
          86,
          87,
          88,
          89,
          90,
          91,
          92,
          93,
          94,
          95,
          96,
          97,
          98,
          99
         ],
         "xaxis": "x2",
         "y": [
          0.00184210300212726,
          0.0014360185974510386,
          0.0013225294009316713,
          0.0012404091976350173,
          0.0012883100018370897,
          0.0012162570026703178,
          0.0011344064056174829,
          0.001141314601409249,
          0.0011117540037957952,
          0.0011611651978455483,
          0.001195742198615335,
          0.0010963955981424078,
          0.001167664400418289,
          0.0011421287985285745,
          0.0011684430006425827,
          0.0014375547965755687,
          0.0011902351980097592,
          0.0011992076004389673,
          0.0012274165987037123,
          0.0014283380005508661,
          0.0012700866034720093,
          0.0011908324027899652,
          0.001657273797900416,
          0.0013228389987489208,
          0.001105274396832101,
          0.0014768977998755872,
          0.001255597997806035,
          0.0013558704027673229,
          0.001198475802084431,
          0.0015753878018585966,
          0.0014427740039536729,
          0.001334347200463526,
          0.0013528670038795098,
          0.0013350481982342898,
          0.001387495204107836,
          0.0014346524025313557,
          0.0013609073968837038,
          0.0015985002013621853,
          0.0014338764012791216,
          0.001454494200879708,
          0.0013113355991663412,
          0.0013922825950430707,
          0.0014231445995392278,
          0.0014042480033822358,
          0.0014804544014623388,
          0.0013948569976491854,
          0.0014049761986825616,
          0.0014081870001973584,
          0.0014098098006797954,
          0.0013978962029796093,
          0.0014443126012338326,
          0.0014996572019299493,
          0.0014360625966219232,
          0.0016305925993947313,
          0.00145408880780451,
          0.001499602201511152,
          0.001604367804247886,
          0.0015916054020635785,
          0.0015592074021697044,
          0.0014932997990399599,
          0.0015678523981478066,
          0.00151881740312092,
          0.0015319852042011916,
          0.0015699859970482067,
          0.0015372968016890809,
          0.001615013595437631,
          0.0015572686039377003,
          0.0015405564045067877,
          0.0015977044007740916,
          0.0015407220023917034,
          0.001485278402105905,
          0.0015321511978982016,
          0.0015520051994826645,
          0.0015537631988991052,
          0.0016044778021750972,
          0.0014553055982105434,
          0.0015187930024694652,
          0.0014429064030991867,
          0.0014701984007842838,
          0.0014578791975509374,
          0.0014611078018788247,
          0.0015282615990145133,
          0.0015366582025308161,
          0.0015441158029716462,
          0.0015135755995288492,
          0.0015489053999772294,
          0.0015201676054857672,
          0.0015315691969590261,
          0.0016577954025706275,
          0.0015500161971431226,
          0.0016847909952048211,
          0.0017473386047640815,
          0.001553377800155431,
          0.0016295201989123599,
          0.0016905085998587311,
          0.0016478235978865997,
          0.001603080000495538,
          0.0015606153931003064,
          0.0016059192013926804,
          0.0016139688028488307
         ],
         "yaxis": "y3"
        },
        {
         "line": {
          "color": "red"
         },
         "mode": "lines",
         "name": "FPDE",
         "showlegend": false,
         "type": "scatter",
         "x": [
          0,
          1,
          2,
          3,
          4,
          5,
          6,
          7,
          8,
          9,
          10,
          11,
          12,
          13,
          14,
          15,
          16,
          17,
          18,
          19,
          20,
          21,
          22,
          23,
          24,
          25,
          26,
          27,
          28,
          29,
          30,
          31,
          32,
          33,
          34,
          35,
          36,
          37,
          38,
          39,
          40,
          41,
          42,
          43,
          44,
          45,
          46,
          47,
          48,
          49,
          50,
          51,
          52,
          53,
          54,
          55,
          56,
          57,
          58,
          59,
          60,
          61,
          62,
          63,
          64,
          65,
          66,
          67,
          68,
          69,
          70,
          71,
          72,
          73,
          74,
          75,
          76,
          77,
          78,
          79,
          80,
          81,
          82,
          83,
          84,
          85,
          86,
          87,
          88,
          89,
          90,
          91,
          92,
          93,
          94,
          95,
          96,
          97,
          98,
          99
         ],
         "xaxis": "x2",
         "y": [
          0.0013469591969624162,
          0.0009589088032953442,
          0.0008191131986677646,
          0.0006963063962757588,
          0.0006739123986335471,
          0.0006634818011661992,
          0.0005679349967977032,
          0.000705097199534066,
          0.0006034998019458726,
          0.0006620323983952403,
          0.0007085226010531187,
          0.0006208467995747924,
          0.0008128393936203792,
          0.000648116201045923,
          0.0008010468009160832,
          0.0008523703989339992,
          0.0007152317964937537,
          0.0007336242037126794,
          0.0008302247937535867,
          0.0008292941987747326,
          0.000735950205125846,
          0.0007293913949979469,
          0.0009350522013846785,
          0.0007838534016627819,
          0.0008437758049694821,
          0.0008283331990242004,
          0.0009231690026354044,
          0.0009086140024010092,
          0.0008329098025569692,
          0.0008942831947933883,
          0.0009403845964698121,
          0.0010507157974643632,
          0.0010664804023690522,
          0.0010334219987271354,
          0.0009569943969836459,
          0.0008027017989661545,
          0.0010291428014170378,
          0.0010065990005386992,
          0.001020395796513185,
          0.00096082579693757,
          0.0009377306007081643,
          0.0009439810004550963,
          0.0009073562017874792,
          0.0009493945981375873,
          0.0009004152030684054,
          0.0009079312032554299,
          0.0009509916009847075,
          0.0009320647979620845,
          0.000922894396353513,
          0.0008993665978778154,
          0.0009131673985393717,
          0.000935445399954915,
          0.0009916405979311094,
          0.001054640405345708,
          0.0010904907976510003,
          0.001109901600284502,
          0.0012571857980219648,
          0.0011892532027559354,
          0.0012040661997161806,
          0.001069886196637526,
          0.001253504806663841,
          0.0011562546016648412,
          0.0012054622056894004,
          0.0011704342032317072,
          0.001206864000414498,
          0.0012406854017172008,
          0.0012347071984549983,
          0.0012318959983531387,
          0.0012314071995206178,
          0.0011652219982352108,
          0.0011971555999480189,
          0.0011914488015463576,
          0.0011894566006958485,
          0.0012336266052443534,
          0.001176727798883803,
          0.0011229326017200946,
          0.0011190299992449582,
          0.001133515001856722,
          0.0011215810023713856,
          0.0011319128039758652,
          0.0011469212011434137,
          0.0012362718000076712,
          0.001181672202073969,
          0.0012379149993648753,
          0.0011743481998564675,
          0.0012126377987442538,
          0.001281243795529008,
          0.001198624400421977,
          0.0012593730003573,
          0.0011721840011887253,
          0.0013172429957194255,
          0.0012083577981684356,
          0.0012206472019897774,
          0.0012598972010891885,
          0.0012744606006890534,
          0.0012429975991835817,
          0.0012278342008357867,
          0.0013257043960038573,
          0.0012694166012806817,
          0.001269594600307755
         ],
         "yaxis": "y3"
        },
        {
         "line": {
          "color": "green",
          "dash": "dash"
         },
         "mode": "lines",
         "name": "Average size (bits)",
         "showlegend": false,
         "type": "scatter",
         "x": [
          0,
          1,
          2,
          3,
          4,
          5,
          6,
          7,
          8,
          9,
          10,
          11,
          12,
          13,
          14,
          15,
          16,
          17,
          18,
          19,
          20,
          21,
          22,
          23,
          24,
          25,
          26,
          27,
          28,
          29,
          30,
          31,
          32,
          33,
          34,
          35,
          36,
          37,
          38,
          39,
          40,
          41,
          42,
          43,
          44,
          45,
          46,
          47,
          48,
          49,
          50,
          51,
          52,
          53,
          54,
          55,
          56,
          57,
          58,
          59,
          60,
          61,
          62,
          63,
          64,
          65,
          66,
          67,
          68,
          69,
          70,
          71,
          72,
          73,
          74,
          75,
          76,
          77,
          78,
          79,
          80,
          81,
          82,
          83,
          84,
          85,
          86,
          87,
          88,
          89,
          90,
          91,
          92,
          93,
          94,
          95,
          96,
          97,
          98,
          99
         ],
         "xaxis": "x2",
         "y": [
          6425.6,
          3971.4,
          3148,
          2740,
          2495.6,
          2311.8,
          2182,
          2123,
          2054,
          1992.8,
          1961.8,
          1908.2,
          1885.4,
          1854.2,
          1838.8,
          1817,
          1794,
          1778.4,
          1778.4,
          1770.8,
          1747.6,
          1747.6,
          1747.6,
          1717,
          1701.8,
          1701.8,
          1693.8,
          1686,
          1686,
          1678.4,
          1670.8,
          1671.6,
          1671.6,
          1671.6,
          1664,
          1656.2,
          1656.2,
          1656.2,
          1656.2,
          1656.2,
          1640.4,
          1640.4,
          1640.4,
          1640.4,
          1640.4,
          1640.4,
          1640.4,
          1625.2,
          1610,
          1610,
          1610,
          1610,
          1610,
          1610,
          1610,
          1610,
          1610,
          1610,
          1602.4,
          1602.4,
          1594.8,
          1594.8,
          1594.8,
          1595.2,
          1595.2,
          1595.2,
          1595.2,
          1595.2,
          1595.2,
          1587.6,
          1579.8,
          1579.8,
          1579.8,
          1579.8,
          1579.8,
          1579.8,
          1579.8,
          1579.8,
          1579.8,
          1579.8,
          1579.8,
          1572,
          1572,
          1572,
          1572,
          1572,
          1572,
          1572,
          1572,
          1572,
          1572,
          1572,
          1572,
          1572,
          1572,
          1572,
          1572,
          1572,
          1572,
          1572
         ],
         "yaxis": "y4"
        },
        {
         "line": {
          "color": "blue"
         },
         "mode": "lines",
         "name": "Baseline",
         "showlegend": false,
         "type": "scatter",
         "x": [
          0,
          1,
          2,
          3,
          4,
          5,
          6,
          7,
          8,
          9,
          10,
          11,
          12,
          13,
          14,
          15,
          16,
          17,
          18,
          19,
          20,
          21,
          22,
          23,
          24,
          25,
          26,
          27,
          28,
          29,
          30,
          31,
          32,
          33,
          34,
          35,
          36,
          37,
          38,
          39,
          40,
          41,
          42,
          43,
          44,
          45,
          46,
          47,
          48,
          49,
          50,
          51,
          52,
          53,
          54,
          55,
          56,
          57,
          58,
          59,
          60,
          61,
          62,
          63,
          64,
          65,
          66,
          67,
          68,
          69,
          70,
          71,
          72,
          73,
          74,
          75,
          76,
          77,
          78,
          79,
          80,
          81,
          82,
          83,
          84,
          85,
          86,
          87,
          88,
          89,
          90,
          91,
          92,
          93,
          94,
          95,
          96,
          97,
          98,
          99
         ],
         "xaxis": "x3",
         "y": [
          0.0003543744867967329,
          0.00032810410999406004,
          0.0003229223813920016,
          0.0003264915268897012,
          0.0003445320404646758,
          0.00034703885227826373,
          0.00035197359107313136,
          0.00037522905245559334,
          0.0003853673518092328,
          0.0003943297628000995,
          0.0004171996584702454,
          0.0004208269974436581,
          0.0004603295090571227,
          0.00043572113851356273,
          0.00041434143768982984,
          0.0004252363427229842,
          0.00045077792092259515,
          0.0004520342832934997,
          0.0004751526828534434,
          0.000489283105274337,
          0.0005093258373682811,
          0.00047624570217619905,
          0.000500637921904729,
          0.0004828072541983017,
          0.0004439684534881462,
          0.0004973072702460363,
          0.0005071841731130382,
          0.00045501934376773013,
          0.00046255018214432723,
          0.0004574939379077042,
          0.00048315531017383045,
          0.0004629058091663078,
          0.0005030012006607634,
          0.0005021998592600908,
          0.0005059396434994841,
          0.0004955011432353548,
          0.0004963075760227893,
          0.0005131593927658907,
          0.0005245118350171156,
          0.0005229724544638667,
          0.0005147493337402398,
          0.000506331172013252,
          0.0005087352828100005,
          0.0005115567138650586,
          0.0005104191992194514,
          0.0005115431226596059,
          0.0005129125001881633,
          0.0005133439348207814,
          0.0005149958498517525,
          0.0005173481216924617,
          0.0005371374925906543,
          0.0005359667055659531,
          0.0005243647526590931,
          0.0005256863709518906,
          0.000527296761501013,
          0.0005347210184167185,
          0.00053268517417215,
          0.0005278014798287541,
          0.0005316392360625837,
          0.000527117500374497,
          0.0005327933975658087,
          0.00053128281915331,
          0.0005295762401944953,
          0.0005351954774619298,
          0.0005428840628001553,
          0.0005506143584280176,
          0.0005364551878234751,
          0.000540140443269477,
          0.0005337869862854888,
          0.0005335373114415777,
          0.0005114201741945959,
          0.000512804189032954,
          0.0005130170322626611,
          0.0005133013594339528,
          0.0005144027135370113,
          0.0005207536185684615,
          0.0005002146268100504,
          0.0005122698904620537,
          0.0005043573183274773,
          0.0005001886668433685,
          0.0005014568495866603,
          0.0005012946463385245,
          0.0005154536388529612,
          0.0005185122563916271,
          0.0005138942185122059,
          0.0005158226680055096,
          0.0005153088800674187,
          0.0005195674055634932,
          0.0005348401773829794,
          0.0005202564192469896,
          0.0005397326159772366,
          0.0005336514109919511,
          0.0005253174719498051,
          0.0005197333816915243,
          0.0005289996322217736,
          0.0005336892107669115,
          0.0005403412004584982,
          0.0005366010982939282,
          0.0005124519899288002,
          0.0005478343012683223
         ],
         "yaxis": "y5"
        },
        {
         "line": {
          "color": "red"
         },
         "mode": "lines",
         "name": "FPDE",
         "showlegend": false,
         "type": "scatter",
         "x": [
          0,
          1,
          2,
          3,
          4,
          5,
          6,
          7,
          8,
          9,
          10,
          11,
          12,
          13,
          14,
          15,
          16,
          17,
          18,
          19,
          20,
          21,
          22,
          23,
          24,
          25,
          26,
          27,
          28,
          29,
          30,
          31,
          32,
          33,
          34,
          35,
          36,
          37,
          38,
          39,
          40,
          41,
          42,
          43,
          44,
          45,
          46,
          47,
          48,
          49,
          50,
          51,
          52,
          53,
          54,
          55,
          56,
          57,
          58,
          59,
          60,
          61,
          62,
          63,
          64,
          65,
          66,
          67,
          68,
          69,
          70,
          71,
          72,
          73,
          74,
          75,
          76,
          77,
          78,
          79,
          80,
          81,
          82,
          83,
          84,
          85,
          86,
          87,
          88,
          89,
          90,
          91,
          92,
          93,
          94,
          95,
          96,
          97,
          98,
          99
         ],
         "xaxis": "x3",
         "y": [
          0.0002578209485984829,
          0.00022664030480509537,
          0.00022880994037507402,
          0.00022677343422672334,
          0.00025252946390104153,
          0.0002635539275691935,
          0.00027335567201099934,
          0.00028776946504395517,
          0.0003025507765973066,
          0.0003122538083305215,
          0.0003341538320024277,
          0.00034702774456633895,
          0.0003984372555182229,
          0.0003409855460481641,
          0.0003703692268703148,
          0.00033106456938045544,
          0.00038712792750808034,
          0.00040819771595983066,
          0.0004471678235517433,
          0.0004467412211051059,
          0.00046463457926244233,
          0.00044224183849231866,
          0.00046603632321752465,
          0.00043033822898338,
          0.0004119720879847766,
          0.00044418553309208414,
          0.00047556130263331917,
          0.000436001870878396,
          0.000453621092822375,
          0.0004411121479598037,
          0.00043333991294548574,
          0.0004592784273705924,
          0.0004526538134653618,
          0.0004420617364051209,
          0.00046290753744377246,
          0.0004657188177795255,
          0.00046717595407498716,
          0.00047796434028882787,
          0.0004843055395928733,
          0.000492825195661219,
          0.0004755102236773061,
          0.0004728417410356561,
          0.0004704237997019557,
          0.0004723209702618631,
          0.0004737289643895525,
          0.00047591777998388116,
          0.00047118849022887896,
          0.0004770260112754038,
          0.00048013305863808787,
          0.00048232579003112177,
          0.0004914273751058422,
          0.0004898918236232174,
          0.000485284927393521,
          0.0004889715167317477,
          0.0004884016471292199,
          0.0004897505616479023,
          0.0004884596711659659,
          0.0004875876838673399,
          0.0004941649293049077,
          0.000486853325449198,
          0.0005152173904594854,
          0.0004921591314815203,
          0.0004908213607295078,
          0.0004917048590431386,
          0.0004974316646680204,
          0.000500953935496381,
          0.0004922815450261275,
          0.0004998061034428639,
          0.0005028299300192363,
          0.0005174150287983395,
          0.0004744121604073656,
          0.00047588533343014363,
          0.00047592042168156424,
          0.00047625202747536045,
          0.0004734243538153581,
          0.000498526601409801,
          0.0005008965348583494,
          0.00047624019218434315,
          0.00046467031649927816,
          0.0004650939393870987,
          0.00046262422202230735,
          0.0004755865255529957,
          0.0004774922714748698,
          0.00047727684210479166,
          0.000474696284101877,
          0.00047649079826748465,
          0.0004774040572980274,
          0.00047908957125106986,
          0.0005078612428578844,
          0.0004821079276574942,
          0.0005139335987618447,
          0.0004996509428383016,
          0.0004840267748036662,
          0.0004919803860728797,
          0.0004955552266034557,
          0.0004902399634264457,
          0.0004808701198952932,
          0.0005031465307715,
          0.0004873944947410445,
          0.0005019121752469933
         ],
         "yaxis": "y5"
        },
        {
         "line": {
          "color": "green",
          "dash": "dash"
         },
         "mode": "lines",
         "name": "Average size (bits)",
         "showlegend": false,
         "type": "scatter",
         "x": [
          0,
          1,
          2,
          3,
          4,
          5,
          6,
          7,
          8,
          9,
          10,
          11,
          12,
          13,
          14,
          15,
          16,
          17,
          18,
          19,
          20,
          21,
          22,
          23,
          24,
          25,
          26,
          27,
          28,
          29,
          30,
          31,
          32,
          33,
          34,
          35,
          36,
          37,
          38,
          39,
          40,
          41,
          42,
          43,
          44,
          45,
          46,
          47,
          48,
          49,
          50,
          51,
          52,
          53,
          54,
          55,
          56,
          57,
          58,
          59,
          60,
          61,
          62,
          63,
          64,
          65,
          66,
          67,
          68,
          69,
          70,
          71,
          72,
          73,
          74,
          75,
          76,
          77,
          78,
          79,
          80,
          81,
          82,
          83,
          84,
          85,
          86,
          87,
          88,
          89,
          90,
          91,
          92,
          93,
          94,
          95,
          96,
          97,
          98,
          99
         ],
         "xaxis": "x3",
         "y": [
          1284.4948453608247,
          826.4444444444445,
          680.2600229095075,
          599.4490263459336,
          553.4249713631157,
          524.4501718213058,
          504.2302405498282,
          482.44329896907215,
          476.00801832760595,
          467.72394043528067,
          462.0126002290951,
          457.3940435280642,
          455.24513172966783,
          445.73539518900344,
          435.20962199312714,
          433.0733104238259,
          431.03665521191294,
          430.07560137457045,
          429.49484536082474,
          429.13745704467357,
          426.21076746849945,
          424.8270332187858,
          424.340206185567,
          423.9816723940435,
          423.75830469644904,
          423.58877434135167,
          422.3631156930126,
          422.2302405498282,
          416.28751431844216,
          416.24169530355096,
          415.97479954180983,
          415.8751431844215,
          415.8304696449026,
          415.65635738831617,
          415.65635738831617,
          415.3493699885452,
          415.2588774341352,
          415.1695303550974,
          415.1695303550974,
          415.0355097365407,
          414.81214203894615,
          414.766323024055,
          414.766323024055,
          414.7216494845361,
          414.7216494845361,
          414.7216494845361,
          414.6769759450172,
          414.631156930126,
          414.631156930126,
          414.631156930126,
          414.631156930126,
          414.631156930126,
          414.631156930126,
          414.631156930126,
          414.631156930126,
          414.631156930126,
          414.631156930126,
          414.631156930126,
          414.631156930126,
          414.631156930126,
          414.631156930126,
          414.631156930126,
          414.631156930126,
          415.11454753722796,
          415.11454753722796,
          415.11454753722796,
          415.11454753722796,
          415.11454753722796,
          415.11454753722796,
          415.11454753722796,
          415.11454753722796,
          415.11454753722796,
          415.11454753722796,
          415.11454753722796,
          415.11454753722796,
          415.11454753722796,
          415.11454753722796,
          415.11454753722796,
          415.11454753722796,
          415.11454753722796,
          415.11454753722796,
          415.11454753722796,
          415.11454753722796,
          415.11454753722796,
          415.11454753722796,
          415.11454753722796,
          415.11454753722796,
          415.11454753722796,
          415.11454753722796,
          415.11454753722796,
          415.11454753722796,
          415.11454753722796,
          415.11454753722796,
          415.11454753722796,
          415.11454753722796,
          415.11454753722796,
          415.11454753722796,
          415.11454753722796,
          415.11454753722796,
          415.11454753722796
         ],
         "yaxis": "y6"
        }
       ],
       "layout": {
        "annotations": [
         {
          "font": {
           "size": 16
          },
          "showarrow": false,
          "text": "Geometry Sizes=Large",
          "x": 0.47,
          "xanchor": "center",
          "xref": "paper",
          "y": 1,
          "yanchor": "bottom",
          "yref": "paper"
         },
         {
          "font": {
           "size": 16
          },
          "showarrow": false,
          "text": "Geometry Sizes=Medium",
          "x": 0.47,
          "xanchor": "center",
          "xref": "paper",
          "y": 0.6433333333333333,
          "yanchor": "bottom",
          "yref": "paper"
         },
         {
          "font": {
           "size": 16
          },
          "showarrow": false,
          "text": "Geometry Sizes=Small",
          "x": 0.47,
          "xanchor": "center",
          "xref": "paper",
          "y": 0.2866666666666667,
          "yanchor": "bottom",
          "yref": "paper"
         },
         {
          "font": {
           "size": 20
          },
          "showarrow": false,
          "text": "Max Chunk Size",
          "x": 0.48,
          "xanchor": "center",
          "xref": "paper",
          "y": -0.04,
          "yanchor": "top",
          "yref": "paper"
         },
         {
          "font": {
           "size": 20
          },
          "showarrow": false,
          "text": "Mean Size (bits)",
          "textangle": -90,
          "x": 1.01,
          "xanchor": "center",
          "xref": "paper",
          "y": 0.5,
          "yanchor": "middle",
          "yref": "paper"
         },
         {
          "font": {
           "size": 20
          },
          "showarrow": false,
          "text": "Mean Execution Time (s)",
          "textangle": -90,
          "x": -0.1,
          "xanchor": "center",
          "xref": "paper",
          "y": 0.5,
          "yanchor": "middle",
          "yref": "paper"
         }
        ],
        "height": 1000,
        "legend": {
         "font": {
          "size": 15
         },
         "orientation": "h",
         "x": 0.5,
         "xanchor": "left",
         "y": -0.08,
         "yanchor": "top"
        },
        "template": {
         "data": {
          "bar": [
           {
            "error_x": {
             "color": "#2a3f5f"
            },
            "error_y": {
             "color": "#2a3f5f"
            },
            "marker": {
             "line": {
              "color": "#E5ECF6",
              "width": 0.5
             },
             "pattern": {
              "fillmode": "overlay",
              "size": 10,
              "solidity": 0.2
             }
            },
            "type": "bar"
           }
          ],
          "barpolar": [
           {
            "marker": {
             "line": {
              "color": "#E5ECF6",
              "width": 0.5
             },
             "pattern": {
              "fillmode": "overlay",
              "size": 10,
              "solidity": 0.2
             }
            },
            "type": "barpolar"
           }
          ],
          "carpet": [
           {
            "aaxis": {
             "endlinecolor": "#2a3f5f",
             "gridcolor": "white",
             "linecolor": "white",
             "minorgridcolor": "white",
             "startlinecolor": "#2a3f5f"
            },
            "baxis": {
             "endlinecolor": "#2a3f5f",
             "gridcolor": "white",
             "linecolor": "white",
             "minorgridcolor": "white",
             "startlinecolor": "#2a3f5f"
            },
            "type": "carpet"
           }
          ],
          "choropleth": [
           {
            "colorbar": {
             "outlinewidth": 0,
             "ticks": ""
            },
            "type": "choropleth"
           }
          ],
          "contour": [
           {
            "colorbar": {
             "outlinewidth": 0,
             "ticks": ""
            },
            "colorscale": [
             [
              0,
              "#0d0887"
             ],
             [
              0.1111111111111111,
              "#46039f"
             ],
             [
              0.2222222222222222,
              "#7201a8"
             ],
             [
              0.3333333333333333,
              "#9c179e"
             ],
             [
              0.4444444444444444,
              "#bd3786"
             ],
             [
              0.5555555555555556,
              "#d8576b"
             ],
             [
              0.6666666666666666,
              "#ed7953"
             ],
             [
              0.7777777777777778,
              "#fb9f3a"
             ],
             [
              0.8888888888888888,
              "#fdca26"
             ],
             [
              1,
              "#f0f921"
             ]
            ],
            "type": "contour"
           }
          ],
          "contourcarpet": [
           {
            "colorbar": {
             "outlinewidth": 0,
             "ticks": ""
            },
            "type": "contourcarpet"
           }
          ],
          "heatmap": [
           {
            "colorbar": {
             "outlinewidth": 0,
             "ticks": ""
            },
            "colorscale": [
             [
              0,
              "#0d0887"
             ],
             [
              0.1111111111111111,
              "#46039f"
             ],
             [
              0.2222222222222222,
              "#7201a8"
             ],
             [
              0.3333333333333333,
              "#9c179e"
             ],
             [
              0.4444444444444444,
              "#bd3786"
             ],
             [
              0.5555555555555556,
              "#d8576b"
             ],
             [
              0.6666666666666666,
              "#ed7953"
             ],
             [
              0.7777777777777778,
              "#fb9f3a"
             ],
             [
              0.8888888888888888,
              "#fdca26"
             ],
             [
              1,
              "#f0f921"
             ]
            ],
            "type": "heatmap"
           }
          ],
          "heatmapgl": [
           {
            "colorbar": {
             "outlinewidth": 0,
             "ticks": ""
            },
            "colorscale": [
             [
              0,
              "#0d0887"
             ],
             [
              0.1111111111111111,
              "#46039f"
             ],
             [
              0.2222222222222222,
              "#7201a8"
             ],
             [
              0.3333333333333333,
              "#9c179e"
             ],
             [
              0.4444444444444444,
              "#bd3786"
             ],
             [
              0.5555555555555556,
              "#d8576b"
             ],
             [
              0.6666666666666666,
              "#ed7953"
             ],
             [
              0.7777777777777778,
              "#fb9f3a"
             ],
             [
              0.8888888888888888,
              "#fdca26"
             ],
             [
              1,
              "#f0f921"
             ]
            ],
            "type": "heatmapgl"
           }
          ],
          "histogram": [
           {
            "marker": {
             "pattern": {
              "fillmode": "overlay",
              "size": 10,
              "solidity": 0.2
             }
            },
            "type": "histogram"
           }
          ],
          "histogram2d": [
           {
            "colorbar": {
             "outlinewidth": 0,
             "ticks": ""
            },
            "colorscale": [
             [
              0,
              "#0d0887"
             ],
             [
              0.1111111111111111,
              "#46039f"
             ],
             [
              0.2222222222222222,
              "#7201a8"
             ],
             [
              0.3333333333333333,
              "#9c179e"
             ],
             [
              0.4444444444444444,
              "#bd3786"
             ],
             [
              0.5555555555555556,
              "#d8576b"
             ],
             [
              0.6666666666666666,
              "#ed7953"
             ],
             [
              0.7777777777777778,
              "#fb9f3a"
             ],
             [
              0.8888888888888888,
              "#fdca26"
             ],
             [
              1,
              "#f0f921"
             ]
            ],
            "type": "histogram2d"
           }
          ],
          "histogram2dcontour": [
           {
            "colorbar": {
             "outlinewidth": 0,
             "ticks": ""
            },
            "colorscale": [
             [
              0,
              "#0d0887"
             ],
             [
              0.1111111111111111,
              "#46039f"
             ],
             [
              0.2222222222222222,
              "#7201a8"
             ],
             [
              0.3333333333333333,
              "#9c179e"
             ],
             [
              0.4444444444444444,
              "#bd3786"
             ],
             [
              0.5555555555555556,
              "#d8576b"
             ],
             [
              0.6666666666666666,
              "#ed7953"
             ],
             [
              0.7777777777777778,
              "#fb9f3a"
             ],
             [
              0.8888888888888888,
              "#fdca26"
             ],
             [
              1,
              "#f0f921"
             ]
            ],
            "type": "histogram2dcontour"
           }
          ],
          "mesh3d": [
           {
            "colorbar": {
             "outlinewidth": 0,
             "ticks": ""
            },
            "type": "mesh3d"
           }
          ],
          "parcoords": [
           {
            "line": {
             "colorbar": {
              "outlinewidth": 0,
              "ticks": ""
             }
            },
            "type": "parcoords"
           }
          ],
          "pie": [
           {
            "automargin": true,
            "type": "pie"
           }
          ],
          "scatter": [
           {
            "fillpattern": {
             "fillmode": "overlay",
             "size": 10,
             "solidity": 0.2
            },
            "type": "scatter"
           }
          ],
          "scatter3d": [
           {
            "line": {
             "colorbar": {
              "outlinewidth": 0,
              "ticks": ""
             }
            },
            "marker": {
             "colorbar": {
              "outlinewidth": 0,
              "ticks": ""
             }
            },
            "type": "scatter3d"
           }
          ],
          "scattercarpet": [
           {
            "marker": {
             "colorbar": {
              "outlinewidth": 0,
              "ticks": ""
             }
            },
            "type": "scattercarpet"
           }
          ],
          "scattergeo": [
           {
            "marker": {
             "colorbar": {
              "outlinewidth": 0,
              "ticks": ""
             }
            },
            "type": "scattergeo"
           }
          ],
          "scattergl": [
           {
            "marker": {
             "colorbar": {
              "outlinewidth": 0,
              "ticks": ""
             }
            },
            "type": "scattergl"
           }
          ],
          "scattermapbox": [
           {
            "marker": {
             "colorbar": {
              "outlinewidth": 0,
              "ticks": ""
             }
            },
            "type": "scattermapbox"
           }
          ],
          "scatterpolar": [
           {
            "marker": {
             "colorbar": {
              "outlinewidth": 0,
              "ticks": ""
             }
            },
            "type": "scatterpolar"
           }
          ],
          "scatterpolargl": [
           {
            "marker": {
             "colorbar": {
              "outlinewidth": 0,
              "ticks": ""
             }
            },
            "type": "scatterpolargl"
           }
          ],
          "scatterternary": [
           {
            "marker": {
             "colorbar": {
              "outlinewidth": 0,
              "ticks": ""
             }
            },
            "type": "scatterternary"
           }
          ],
          "surface": [
           {
            "colorbar": {
             "outlinewidth": 0,
             "ticks": ""
            },
            "colorscale": [
             [
              0,
              "#0d0887"
             ],
             [
              0.1111111111111111,
              "#46039f"
             ],
             [
              0.2222222222222222,
              "#7201a8"
             ],
             [
              0.3333333333333333,
              "#9c179e"
             ],
             [
              0.4444444444444444,
              "#bd3786"
             ],
             [
              0.5555555555555556,
              "#d8576b"
             ],
             [
              0.6666666666666666,
              "#ed7953"
             ],
             [
              0.7777777777777778,
              "#fb9f3a"
             ],
             [
              0.8888888888888888,
              "#fdca26"
             ],
             [
              1,
              "#f0f921"
             ]
            ],
            "type": "surface"
           }
          ],
          "table": [
           {
            "cells": {
             "fill": {
              "color": "#EBF0F8"
             },
             "line": {
              "color": "white"
             }
            },
            "header": {
             "fill": {
              "color": "#C8D4E3"
             },
             "line": {
              "color": "white"
             }
            },
            "type": "table"
           }
          ]
         },
         "layout": {
          "annotationdefaults": {
           "arrowcolor": "#2a3f5f",
           "arrowhead": 0,
           "arrowwidth": 1
          },
          "autotypenumbers": "strict",
          "coloraxis": {
           "colorbar": {
            "outlinewidth": 0,
            "ticks": ""
           }
          },
          "colorscale": {
           "diverging": [
            [
             0,
             "#8e0152"
            ],
            [
             0.1,
             "#c51b7d"
            ],
            [
             0.2,
             "#de77ae"
            ],
            [
             0.3,
             "#f1b6da"
            ],
            [
             0.4,
             "#fde0ef"
            ],
            [
             0.5,
             "#f7f7f7"
            ],
            [
             0.6,
             "#e6f5d0"
            ],
            [
             0.7,
             "#b8e186"
            ],
            [
             0.8,
             "#7fbc41"
            ],
            [
             0.9,
             "#4d9221"
            ],
            [
             1,
             "#276419"
            ]
           ],
           "sequential": [
            [
             0,
             "#0d0887"
            ],
            [
             0.1111111111111111,
             "#46039f"
            ],
            [
             0.2222222222222222,
             "#7201a8"
            ],
            [
             0.3333333333333333,
             "#9c179e"
            ],
            [
             0.4444444444444444,
             "#bd3786"
            ],
            [
             0.5555555555555556,
             "#d8576b"
            ],
            [
             0.6666666666666666,
             "#ed7953"
            ],
            [
             0.7777777777777778,
             "#fb9f3a"
            ],
            [
             0.8888888888888888,
             "#fdca26"
            ],
            [
             1,
             "#f0f921"
            ]
           ],
           "sequentialminus": [
            [
             0,
             "#0d0887"
            ],
            [
             0.1111111111111111,
             "#46039f"
            ],
            [
             0.2222222222222222,
             "#7201a8"
            ],
            [
             0.3333333333333333,
             "#9c179e"
            ],
            [
             0.4444444444444444,
             "#bd3786"
            ],
            [
             0.5555555555555556,
             "#d8576b"
            ],
            [
             0.6666666666666666,
             "#ed7953"
            ],
            [
             0.7777777777777778,
             "#fb9f3a"
            ],
            [
             0.8888888888888888,
             "#fdca26"
            ],
            [
             1,
             "#f0f921"
            ]
           ]
          },
          "colorway": [
           "#636efa",
           "#EF553B",
           "#00cc96",
           "#ab63fa",
           "#FFA15A",
           "#19d3f3",
           "#FF6692",
           "#B6E880",
           "#FF97FF",
           "#FECB52"
          ],
          "font": {
           "color": "#2a3f5f"
          },
          "geo": {
           "bgcolor": "white",
           "lakecolor": "white",
           "landcolor": "#E5ECF6",
           "showlakes": true,
           "showland": true,
           "subunitcolor": "white"
          },
          "hoverlabel": {
           "align": "left"
          },
          "hovermode": "closest",
          "mapbox": {
           "style": "light"
          },
          "paper_bgcolor": "white",
          "plot_bgcolor": "#E5ECF6",
          "polar": {
           "angularaxis": {
            "gridcolor": "white",
            "linecolor": "white",
            "ticks": ""
           },
           "bgcolor": "#E5ECF6",
           "radialaxis": {
            "gridcolor": "white",
            "linecolor": "white",
            "ticks": ""
           }
          },
          "scene": {
           "xaxis": {
            "backgroundcolor": "#E5ECF6",
            "gridcolor": "white",
            "gridwidth": 2,
            "linecolor": "white",
            "showbackground": true,
            "ticks": "",
            "zerolinecolor": "white"
           },
           "yaxis": {
            "backgroundcolor": "#E5ECF6",
            "gridcolor": "white",
            "gridwidth": 2,
            "linecolor": "white",
            "showbackground": true,
            "ticks": "",
            "zerolinecolor": "white"
           },
           "zaxis": {
            "backgroundcolor": "#E5ECF6",
            "gridcolor": "white",
            "gridwidth": 2,
            "linecolor": "white",
            "showbackground": true,
            "ticks": "",
            "zerolinecolor": "white"
           }
          },
          "shapedefaults": {
           "line": {
            "color": "#2a3f5f"
           }
          },
          "ternary": {
           "aaxis": {
            "gridcolor": "white",
            "linecolor": "white",
            "ticks": ""
           },
           "baxis": {
            "gridcolor": "white",
            "linecolor": "white",
            "ticks": ""
           },
           "bgcolor": "#E5ECF6",
           "caxis": {
            "gridcolor": "white",
            "linecolor": "white",
            "ticks": ""
           }
          },
          "title": {
           "x": 0.05
          },
          "xaxis": {
           "automargin": true,
           "gridcolor": "white",
           "linecolor": "white",
           "ticks": "",
           "title": {
            "standoff": 15
           },
           "zerolinecolor": "white",
           "zerolinewidth": 2
          },
          "yaxis": {
           "automargin": true,
           "gridcolor": "white",
           "linecolor": "white",
           "ticks": "",
           "title": {
            "standoff": 15
           },
           "zerolinecolor": "white",
           "zerolinewidth": 2
          }
         }
        },
        "title": {
         "font": {
          "size": 22
         },
         "text": "Execution Time for Intersection by Max Chunk Size ",
         "x": 0.5
        },
        "width": 1000,
        "xaxis": {
         "anchor": "y",
         "domain": [
          0,
          0.94
         ],
         "tickfont": {
          "size": 16
         },
         "title": {
          "text": ""
         }
        },
        "xaxis2": {
         "anchor": "y3",
         "domain": [
          0,
          0.94
         ],
         "tickfont": {
          "size": 16
         },
         "title": {
          "text": ""
         }
        },
        "xaxis3": {
         "anchor": "y5",
         "domain": [
          0,
          0.94
         ],
         "tickfont": {
          "size": 16
         },
         "title": {
          "text": ""
         }
        },
        "yaxis": {
         "anchor": "x",
         "domain": [
          0.7133333333333334,
          1
         ],
         "tickfont": {
          "size": 16
         },
         "title": {
          "text": ""
         },
         "type": "log"
        },
        "yaxis2": {
         "anchor": "x",
         "overlaying": "y",
         "side": "right",
         "title": {
          "text": ""
         }
        },
        "yaxis3": {
         "anchor": "x2",
         "domain": [
          0.3566666666666667,
          0.6433333333333333
         ],
         "tickfont": {
          "size": 16
         },
         "title": {
          "text": ""
         },
         "type": "log"
        },
        "yaxis4": {
         "anchor": "x2",
         "overlaying": "y3",
         "side": "right",
         "title": {
          "text": ""
         }
        },
        "yaxis5": {
         "anchor": "x3",
         "domain": [
          0,
          0.2866666666666667
         ],
         "tickfont": {
          "size": 16
         },
         "title": {
          "text": ""
         },
         "type": "log"
        },
        "yaxis6": {
         "anchor": "x3",
         "overlaying": "y5",
         "side": "right",
         "title": {
          "text": ""
         }
        }
       }
      }
     },
     "metadata": {},
     "output_type": "display_data"
    }
   ],
   "source": [
    "plot_max_delta_size_speed(max_deltas_filt_df, is_predicate=False, no_mixed=True)"
   ]
  },
  {
   "attachments": {},
   "cell_type": "markdown",
   "metadata": {},
   "source": [
    "#### Dataset Stats Collection"
   ]
  },
  {
   "cell_type": "code",
   "execution_count": 186,
   "metadata": {},
   "outputs": [
    {
     "name": "stderr",
     "output_type": "stream",
     "text": [
      " 57%|█████▋    | 4/7 [13:11<09:53, 197.94s/it]\n"
     ]
    },
    {
     "ename": "KeyboardInterrupt",
     "evalue": "",
     "output_type": "error",
     "traceback": [
      "\u001b[0;31m---------------------------------------------------------------------------\u001b[0m",
      "\u001b[0;31mKeyboardInterrupt\u001b[0m                         Traceback (most recent call last)",
      "Cell \u001b[0;32mIn[186], line 5\u001b[0m\n\u001b[1;32m      3\u001b[0m act_deact_baseline(activate\u001b[39m=\u001b[39mbaseline_on)\n\u001b[1;32m      4\u001b[0m \u001b[39mfor\u001b[39;00m dataset \u001b[39min\u001b[39;00m tqdm(datasets):\n\u001b[0;32m----> 5\u001b[0m     evaluate_dataset(dataset[\u001b[39m0\u001b[39;49m], stats_df, delta_size\u001b[39m=\u001b[39;49mdataset[\u001b[39m1\u001b[39;49m]) \u001b[39m# Second param: PLOT?\u001b[39;00m\n",
      "Cell \u001b[0;32mIn[6], line 10\u001b[0m, in \u001b[0;36mevaluate_dataset\u001b[0;34m(data, stats_df, delta_size, not_predicate, add_size)\u001b[0m\n\u001b[1;32m      8\u001b[0m \u001b[39mfor\u001b[39;00m is_predicate \u001b[39min\u001b[39;00m [\u001b[39mFalse\u001b[39;00m] \u001b[39mif\u001b[39;00m not_predicate \u001b[39melse\u001b[39;00m [\u001b[39mTrue\u001b[39;00m, \u001b[39mFalse\u001b[39;00m]:\n\u001b[1;32m      9\u001b[0m     stats \u001b[39m=\u001b[39m []\n\u001b[0;32m---> 10\u001b[0m     stats\u001b[39m.\u001b[39mextend(get_time_stat(bins\u001b[39m=\u001b[39;49mbins, predicate\u001b[39m=\u001b[39;49mis_predicate))\n\u001b[1;32m     11\u001b[0m     stats\u001b[39m.\u001b[39mextend(get_category_stat(g1, g2))\n\u001b[1;32m     12\u001b[0m     stats\u001b[39m.\u001b[39mappend(delta_size \u001b[39mif\u001b[39;00m delta_size \u001b[39m!=\u001b[39m \u001b[39mNone\u001b[39;00m \u001b[39melse\u001b[39;00m cfg\u001b[39m.\u001b[39mMAX_NUM_DELTAS)\n",
      "Cell \u001b[0;32mIn[5], line 50\u001b[0m, in \u001b[0;36mget_time_stat\u001b[0;34m(bins, predicate)\u001b[0m\n\u001b[1;32m     48\u001b[0m mean_stat \u001b[39m=\u001b[39m [\u001b[39m0\u001b[39m, \u001b[39m0\u001b[39m, \u001b[39m0\u001b[39m, \u001b[39m0\u001b[39m]\n\u001b[1;32m     49\u001b[0m \u001b[39mfor\u001b[39;00m i \u001b[39min\u001b[39;00m \u001b[39mrange\u001b[39m(N):\n\u001b[0;32m---> 50\u001b[0m     stat, _ \u001b[39m=\u001b[39m alg(bins, get_stats\u001b[39m=\u001b[39;49m\u001b[39mTrue\u001b[39;49;00m)\n\u001b[1;32m     51\u001b[0m     mean_stat \u001b[39m=\u001b[39m [\u001b[39msum\u001b[39m(x) \u001b[39mfor\u001b[39;00m x \u001b[39min\u001b[39;00m \u001b[39mzip\u001b[39m(mean_stat, stat)]\n\u001b[1;32m     52\u001b[0m \u001b[39mreturn\u001b[39;00m mean_stat\n",
      "File \u001b[0;32m~/Desktop/Examensarbete/intersection/chunk_bbox_intersection.py:407\u001b[0m, in \u001b[0;36mis_intersecting\u001b[0;34m(bins, debug_correct_ans, plot_all, get_stats)\u001b[0m\n\u001b[1;32m    405\u001b[0m \u001b[39mdef\u001b[39;00m \u001b[39mis_intersecting\u001b[39m(bins, debug_correct_ans\u001b[39m=\u001b[39m\u001b[39mNone\u001b[39;00m, plot_all\u001b[39m=\u001b[39m\u001b[39mFalse\u001b[39;00m, get_stats\u001b[39m=\u001b[39m\u001b[39mFalse\u001b[39;00m):\n\u001b[1;32m    406\u001b[0m     start_time \u001b[39m=\u001b[39m time\u001b[39m.\u001b[39mperf_counter()\n\u001b[0;32m--> 407\u001b[0m     calculate_globals(bins)\n\u001b[1;32m    408\u001b[0m     cache \u001b[39m=\u001b[39m [{},{}]\n\u001b[1;32m    409\u001b[0m     bbox, overlap_type \u001b[39m=\u001b[39m common_bbox(bins)\n",
      "File \u001b[0;32m~/Desktop/Examensarbete/intersection/chunk_bbox_intersection.py:78\u001b[0m, in \u001b[0;36mcalculate_globals\u001b[0;34m(bins)\u001b[0m\n\u001b[1;32m     76\u001b[0m \u001b[39mfor\u001b[39;00m s \u001b[39min\u001b[39;00m \u001b[39mrange\u001b[39m(\u001b[39m2\u001b[39m):\n\u001b[1;32m     77\u001b[0m     \u001b[39mbin\u001b[39m \u001b[39m=\u001b[39m bins[s]\n\u001b[0;32m---> 78\u001b[0m     chunks \u001b[39m=\u001b[39m fpd\u001b[39m.\u001b[39;49mget_chunks(\u001b[39mbin\u001b[39;49m)[\u001b[39m0\u001b[39m]\n\u001b[1;32m     79\u001b[0m     chunks_bounds \u001b[39m=\u001b[39m []\n\u001b[1;32m     80\u001b[0m     \u001b[39m#Global bbox\u001b[39;00m\n",
      "File \u001b[0;32m~/Desktop/Examensarbete/algos/alg_fpd_extended.py:37\u001b[0m, in \u001b[0;36mFpdExtended.<lambda>\u001b[0;34m(self, bin, include_ring_start, verbose)\u001b[0m\n\u001b[1;32m     32\u001b[0m \u001b[39mclass\u001b[39;00m \u001b[39mFpdExtended\u001b[39;00m(CompressionAlgorithm):\n\u001b[1;32m     33\u001b[0m \n\u001b[1;32m     34\u001b[0m     \u001b[39m# ---- HELPER METHODS\u001b[39;00m\n\u001b[1;32m     35\u001b[0m \n\u001b[1;32m     36\u001b[0m     \u001b[39m# Export some helper functions\u001b[39;00m\n\u001b[0;32m---> 37\u001b[0m     get_chunks \u001b[39m=\u001b[39m \u001b[39mlambda\u001b[39;00m \u001b[39mself\u001b[39m, \u001b[39mbin\u001b[39m, include_ring_start\u001b[39m=\u001b[39m\u001b[39mTrue\u001b[39;00m, verbose\u001b[39m=\u001b[39m\u001b[39mFalse\u001b[39;00m: get_chunks(\u001b[39mbin\u001b[39;49m, include_ring_start, verbose)\n\u001b[1;32m     38\u001b[0m     access_vertex_chk \u001b[39m=\u001b[39m \u001b[39mlambda\u001b[39;00m \u001b[39mself\u001b[39m, \u001b[39mbin\u001b[39m, chk_offset, delta_size, idx, cache\u001b[39m=\u001b[39m\u001b[39mNone\u001b[39;00m: access_vertex_chk(\u001b[39mbin\u001b[39m, chk_offset, delta_size, idx, cache\u001b[39m=\u001b[39mcache)\n\u001b[1;32m     39\u001b[0m     access_vertex \u001b[39m=\u001b[39m \u001b[39mlambda\u001b[39;00m \u001b[39mself\u001b[39m, \u001b[39mbin\u001b[39m, access_idx, cache\u001b[39m=\u001b[39m[]: access_vertex(\u001b[39mbin\u001b[39m, access_idx, cache)\n",
      "File \u001b[0;32m~/Desktop/Examensarbete/algos/fpd_extended_lib/helpers.py:51\u001b[0m, in \u001b[0;36mget_chunks\u001b[0;34m(bin_in, include_next_start, verbose)\u001b[0m\n\u001b[1;32m     48\u001b[0m     stats[\u001b[39m1\u001b[39m][\u001b[39m'\u001b[39m\u001b[39mRing Chk Cnt Bitsize\u001b[39m\u001b[39m'\u001b[39m] \u001b[39m+\u001b[39m\u001b[39m=\u001b[39m RING_CHK_CNT_SIZE\n\u001b[1;32m     49\u001b[0m     stats[\u001b[39m0\u001b[39m][\u001b[39m'\u001b[39m\u001b[39mRing Chk Cnt Max\u001b[39m\u001b[39m'\u001b[39m] \u001b[39m=\u001b[39m \u001b[39mmax\u001b[39m(chunks_in_ring, stats[\u001b[39m0\u001b[39m][\u001b[39m'\u001b[39m\u001b[39mRing Chk Cnt Max\u001b[39m\u001b[39m'\u001b[39m])\n\u001b[0;32m---> 51\u001b[0m deltas_in_chunk \u001b[39m=\u001b[39m bytes_to_uint(\u001b[39mbin\u001b[39;49m, cfg\u001b[39m.\u001b[39;49mD_CNT_SIZE)\n\u001b[1;32m     52\u001b[0m stats[\u001b[39m1\u001b[39m][\u001b[39m'\u001b[39m\u001b[39mChk Deltas Cnt Bitsize\u001b[39m\u001b[39m'\u001b[39m] \u001b[39m+\u001b[39m\u001b[39m=\u001b[39m cfg\u001b[39m.\u001b[39mD_CNT_SIZE\n\u001b[1;32m     53\u001b[0m stats[\u001b[39m0\u001b[39m][\u001b[39m'\u001b[39m\u001b[39mChk Deltas Cnt Max\u001b[39m\u001b[39m'\u001b[39m] \u001b[39m=\u001b[39m \u001b[39mmax\u001b[39m(deltas_in_chunk, stats[\u001b[39m0\u001b[39m][\u001b[39m'\u001b[39m\u001b[39mChk Deltas Cnt Max\u001b[39m\u001b[39m'\u001b[39m])\n",
      "File \u001b[0;32m~/Desktop/Examensarbete/algos/fpd_extended_lib/low_level.py:76\u001b[0m, in \u001b[0;36mbytes_to_uint\u001b[0;34m(bin, len)\u001b[0m\n\u001b[1;32m     75\u001b[0m \u001b[39mdef\u001b[39;00m \u001b[39mbytes_to_uint\u001b[39m(\u001b[39mbin\u001b[39m, \u001b[39mlen\u001b[39m):\n\u001b[0;32m---> 76\u001b[0m     val \u001b[39m=\u001b[39m ba2int_optimized(\u001b[39mbin\u001b[39;49m[cfg\u001b[39m.\u001b[39;49moffset:cfg\u001b[39m.\u001b[39;49moffset \u001b[39m+\u001b[39;49m \u001b[39mlen\u001b[39;49m])\n\u001b[1;32m     77\u001b[0m     cfg\u001b[39m.\u001b[39moffset \u001b[39m+\u001b[39m\u001b[39m=\u001b[39m \u001b[39mlen\u001b[39m\n\u001b[1;32m     78\u001b[0m     \u001b[39mreturn\u001b[39;00m val\n",
      "File \u001b[0;32m~/Desktop/Examensarbete/algos/fpd_extended_lib/low_level.py:31\u001b[0m, in \u001b[0;36mba2int_optimized\u001b[0;34m(__a)\u001b[0m\n\u001b[1;32m     30\u001b[0m \u001b[39mdef\u001b[39;00m \u001b[39mba2int_optimized\u001b[39m(__a):\n\u001b[0;32m---> 31\u001b[0m     \u001b[39mreturn\u001b[39;00m \u001b[39mint\u001b[39m\u001b[39m.\u001b[39mfrom_bytes((util\u001b[39m.\u001b[39;49mzeros(\u001b[39m8\u001b[39;49m \u001b[39m-\u001b[39;49m \u001b[39mlen\u001b[39;49m(__a) \u001b[39m%\u001b[39;49m \u001b[39m8\u001b[39;49m, \u001b[39m\"\u001b[39;49m\u001b[39mbig\u001b[39;49m\u001b[39m\"\u001b[39;49m) \u001b[39m+\u001b[39m __a)\u001b[39m.\u001b[39mtobytes(), byteorder\u001b[39m=\u001b[39m\u001b[39m\"\u001b[39m\u001b[39mbig\u001b[39m\u001b[39m\"\u001b[39m)\n",
      "\u001b[0;31mKeyboardInterrupt\u001b[0m: "
     ]
    }
   ],
   "source": [
    "if USE_EXISTING_DF:\n",
    "    stats_df = pd.DataFrame(columns=['decomp', 'nbr_recieved_chks', 'nbr_total_chks', 'total_time', \"sizes\", \"context\", \"delta_size\", \"predicate\", \"dataset_idx\", \"baseline\"])\n",
    "    for baseline_on in [True, False]:\n",
    "        act_deact_baseline(activate=baseline_on)\n",
    "        for dataset in tqdm(datasets):\n",
    "            evaluate_dataset(dataset[0], stats_df, delta_size=dataset[1]) # Second param: PLOT?\n",
    "else:\n",
    "    max_deltas_df = pd.read_csv('stats.csv')"
   ]
  },
  {
   "cell_type": "code",
   "execution_count": null,
   "metadata": {},
   "outputs": [],
   "source": [
    "if SAVE_DFS:\n",
    "    stats_df.to_csv('stats_df.csv', index=False)\n"
   ]
  },
  {
   "cell_type": "markdown",
   "metadata": {},
   "source": [
    "#### Total Execution Time by Context"
   ]
  },
  {
   "attachments": {},
   "cell_type": "markdown",
   "metadata": {},
   "source": [
    "##### Boxes"
   ]
  },
  {
   "cell_type": "code",
   "execution_count": null,
   "metadata": {},
   "outputs": [],
   "source": [
    "import plotly.express as px\n",
    "def plot_total_time_box(df, is_predicate=False, size_cat_excl=[], log_scale=True):\n",
    "    df = df[df['predicate'] == is_predicate]\n",
    "    \n",
    "    for cat in size_cat_excl:\n",
    "        df = df[df['sizes'].str.contains(cat) == False]\n",
    "\n",
    "    df.reset_index(inplace=True)\n",
    "    intersection_formatting = \"Intersection\" if not is_predicate else \"Is_Intersection\"\n",
    "    fig = px.box(df, \n",
    "                 x=\"context\", \n",
    "                 y=\"total_time\",\n",
    "                 facet_col=\"sizes\", \n",
    "                 color=\"baseline\",\n",
    "                 boxmode=\"group\", \n",
    "                 log_y=log_scale,\n",
    "                 facet_col_spacing=0.1, \n",
    "                 facet_row_spacing=0.1,\n",
    "                 title=f\"Execution Time for {intersection_formatting} in Different Contexts & Sizes\",\n",
    "                 labels=dict(sizes=\"Sizes\", context=\"Context\", baseline=\"Baseline\"),\n",
    "                 facet_col_wrap=3,\n",
    "                 height=700\n",
    "                 )\n",
    "    make_general_facet_title(fig, \"Bouning Box Context\", \"Mean Execution Time (s)\")\n",
    "    fig.update_yaxes(matches=None)\n",
    "    fig.for_each_yaxis(lambda yaxis: yaxis.update(showticklabels=True))\n",
    "    \n",
    "    fig.show()"
   ]
  },
  {
   "attachments": {},
   "cell_type": "markdown",
   "metadata": {},
   "source": [
    "##### Bars"
   ]
  },
  {
   "cell_type": "code",
   "execution_count": null,
   "metadata": {},
   "outputs": [],
   "source": [
    "def plot_total_time_bars(df, is_predicate=False, size_cat_excl=[], log_scale=True):\n",
    "    df = df[df['predicate'] == is_predicate]\n",
    "    \n",
    "    for cat in size_cat_excl:\n",
    "        df = df[df['sizes'].str.contains(cat) == False]\n",
    "    \n",
    "    df.reset_index(inplace=True)\n",
    "    intersection_formatting = \"Intersection\" if not is_predicate else \"Is_Intersection\"\n",
    "    fig = px.histogram(df, \n",
    "                       x=\"context\", \n",
    "                       y=\"total_time\", \n",
    "                       color='baseline',\n",
    "                       facet_col=\"sizes\", \n",
    "                       barmode='group',\n",
    "                       log_y=log_scale, \n",
    "                       facet_col_spacing=0.1, \n",
    "                       histfunc=\"avg\", \n",
    "                       title=f\"Execution Time for {intersection_formatting} in Different Contexts & Sizes\",\n",
    "                       labels=dict(sizes=\"Sizes\", context=\"Context\", baseline=\"Baseline\"),\n",
    "                       facet_col_wrap=3,\n",
    "                       facet_row_spacing=0.1,\n",
    "                       height=700,\n",
    "                       )\n",
    "\n",
    "    make_general_facet_title(fig, \"Bouning Box Context\", \"Mean Execution Time (s)\")\n",
    "\n",
    "    fig.for_each_yaxis(lambda yaxis: yaxis.update(showticklabels=True))\n",
    "    fig.update_yaxes(matches=None, showticklabels=True, visible=True)\n",
    "    fig.update_layout(barmode=\"group\")\n",
    "   \n",
    "    fig.show()\n"
   ]
  },
  {
   "attachments": {},
   "cell_type": "markdown",
   "metadata": {},
   "source": [
    "#### Chunk Unfolding Analyzation"
   ]
  },
  {
   "cell_type": "code",
   "execution_count": null,
   "metadata": {},
   "outputs": [],
   "source": [
    "chunk_unfolded_df = stats_df[['nbr_recieved_chks', 'nbr_total_chks','predicate','baseline', 'context', 'sizes']]\n",
    "chunk_unfolded_df[\"chk_fraction_unfolded\"] = chunk_unfolded_df[\"nbr_recieved_chks\"].div(chunk_unfolded_df.nbr_total_chks, axis=0) * 100"
   ]
  },
  {
   "cell_type": "code",
   "execution_count": null,
   "metadata": {},
   "outputs": [],
   "source": [
    "def plot_chunk_unfolded_frac(df, is_predicate=False, is_baseline=False):\n",
    "    df = df[df['predicate'] == is_predicate]\n",
    "    df = df[df['baseline'] == is_baseline]\n",
    "\n",
    "    df = df.groupby(['context', 'sizes']).mean()\n",
    "    df.reset_index(inplace=True)\n",
    "    x = [\n",
    "        df.context.values,\n",
    "        df.sizes.values\n",
    "        \n",
    "    ]\n",
    "    fig = go.Figure()\n",
    "    fig.add_bar(y=x,x=df.chk_fraction_unfolded.values, name=\"Chunk Fraction Unfolded\", orientation='h')\n",
    "\n",
    "    intersection_format = \"Intersection\" if not is_predicate else \"IsIntersection\"\n",
    "    baseline_format = \"\" if not is_baseline else \"(BASELINE)\"\n",
    "\n",
    "    fig.update_layout(title=f\"Fraction of Chunks Unfolded for {intersection_format} {baseline_format}\",title_x=0.5)\n",
    "    fig.update_layout(barmode=\"relative\", xaxis_title=\"Chunks Unfolded (%)\", yaxis_title=\"Context + Geometry Size\")\n",
    "\n",
    "    fig.show()"
   ]
  },
  {
   "attachments": {},
   "cell_type": "markdown",
   "metadata": {},
   "source": [
    "#### Fraction of Time for Partial Decompression Analysis"
   ]
  },
  {
   "cell_type": "code",
   "execution_count": null,
   "metadata": {},
   "outputs": [],
   "source": [
    "partial_frac_df = stats_df[['decomp', 'total_time', 'predicate','baseline', 'context', 'sizes']]\n",
    "partial_frac_df[\"decomp\"] = partial_frac_df[\"decomp\"].div(partial_frac_df.total_time/100, axis=0)\n",
    "partial_frac_df['algo_time'] = partial_frac_df.apply(lambda x: 100 - x['decomp'], axis=1)"
   ]
  },
  {
   "cell_type": "code",
   "execution_count": null,
   "metadata": {},
   "outputs": [],
   "source": [
    "def plot_partial_decomp_frac(df, is_predicate=False, is_baseline=False):\n",
    "    df = df[df['predicate'] == is_predicate]\n",
    "    df = df[df['baseline'] == is_baseline]\n",
    "\n",
    "    df = df.groupby(['context', 'sizes']).mean()\n",
    "    df.reset_index(inplace=True)\n",
    "    x = [\n",
    "        df.context.values,\n",
    "        df.sizes.values\n",
    "    ]\n",
    "\n",
    "    intersection_format = \"Intersection\" if not is_predicate else \"IsIntersection\"\n",
    "    baseline_format = \"\" if not is_baseline else \"(Baseline)\"\n",
    "    \n",
    "    fig = go.Figure()\n",
    "    fig.add_bar(y=x,x=df.decomp.values, name=\"Decompression Stage\",orientation='h')\n",
    "    fig.add_bar(y=x,x=df.algo_time.values, name=intersection_format, orientation='h')\n",
    "    fig.update_layout(title=f\"Execution Time Distrubution for {intersection_format} {baseline_format}\",title_x=0.5)\n",
    "    fig.update_layout(barmode=\"relative\", xaxis_title=\"Execution Time (%)\", yaxis_title=\"Context + Geometry Size)\")\n",
    "    fig.update_layout(legend=dict(yanchor=\"top\",y=1.2, xanchor=\"right\", x=0.997))\n",
    "    fig.show()"
   ]
  },
  {
   "attachments": {},
   "cell_type": "markdown",
   "metadata": {},
   "source": [
    "## Results"
   ]
  },
  {
   "attachments": {},
   "cell_type": "markdown",
   "metadata": {},
   "source": [
    "#### Total time Analysis"
   ]
  },
  {
   "cell_type": "code",
   "execution_count": null,
   "metadata": {},
   "outputs": [
    {
     "data": {
      "application/vnd.plotly.v1+json": {
       "config": {
        "plotlyServerURL": "https://plot.ly"
       },
       "data": [
        {
         "alignmentgroup": "True",
         "hovertemplate": "Baseline=True<br>Sizes=S/S<br>Context=%{x}<br>total_time=%{y}<extra></extra>",
         "legendgroup": "True",
         "marker": {
          "color": "#636efa"
         },
         "name": "True",
         "notched": false,
         "offsetgroup": "True",
         "orientation": "v",
         "showlegend": true,
         "type": "box",
         "x": [
          "Overlap (FALSE)",
          "Partial Overlap (TRUE)",
          "Fully Inside Other (TRUE)",
          "Overlap (FALSE)",
          "Partial Overlap (TRUE)",
          "Partial Overlap (TRUE)",
          "Partial Overlap (TRUE)",
          "Partial Overlap (TRUE)",
          "Partial Overlap (TRUE)",
          "Partial Overlap (TRUE)",
          "Partial Overlap (TRUE)",
          "Overlap (FALSE)",
          "Overlap (FALSE)",
          "Partial Overlap (TRUE)",
          "Partial Overlap (TRUE)",
          "Fully Inside Other (TRUE)",
          "Fully Inside Other (TRUE)",
          "Partial Overlap (TRUE)",
          "Partial Overlap (TRUE)",
          "Partial Overlap (TRUE)",
          "Partial Overlap (TRUE)",
          "Partial Overlap (TRUE)",
          "Partial Overlap (TRUE)",
          "Overlap (FALSE)",
          "Overlap (FALSE)",
          "Overlap (FALSE)",
          "Fully Inside Other (TRUE)",
          "Partial Overlap (TRUE)",
          "Overlap (FALSE)",
          "Overlap (FALSE)",
          "Overlap (FALSE)",
          "Overlap (FALSE)",
          "Overlap (FALSE)",
          "Overlap (FALSE)",
          "Overlap (FALSE)",
          "Overlap (FALSE)",
          "Overlap (FALSE)",
          "Overlap (FALSE)",
          "Overlap (FALSE)",
          "Overlap (FALSE)",
          "Overlap (FALSE)",
          "Overlap (FALSE)",
          "Overlap (FALSE)",
          "Overlap (FALSE)",
          "Overlap (FALSE)",
          "Overlap (FALSE)",
          "Overlap (FALSE)",
          "Overlap (FALSE)",
          "Overlap (FALSE)",
          "Overlap (FALSE)",
          "Overlap (FALSE)",
          "Overlap (FALSE)",
          "Overlap (FALSE)",
          "Overlap (FALSE)",
          "Overlap (FALSE)",
          "Overlap (FALSE)",
          "Overlap (FALSE)",
          "Overlap (FALSE)",
          "Overlap (FALSE)",
          "Overlap (FALSE)",
          "Overlap (FALSE)",
          "Overlap (FALSE)",
          "Overlap (FALSE)",
          "Overlap (FALSE)",
          "Overlap (FALSE)",
          "Overlap (FALSE)",
          "Overlap (FALSE)",
          "Overlap (FALSE)",
          "Overlap (FALSE)",
          "Overlap (FALSE)",
          "Overlap (FALSE)",
          "Overlap (FALSE)",
          "Overlap (FALSE)",
          "Overlap (FALSE)",
          "Overlap (FALSE)",
          "Overlap (FALSE)",
          "Overlap (FALSE)",
          "Overlap (FALSE)",
          "Overlap (FALSE)",
          "Overlap (FALSE)",
          "Overlap (FALSE)",
          "Overlap (FALSE)",
          "Overlap (FALSE)",
          "Overlap (FALSE)",
          "Overlap (FALSE)",
          "Overlap (FALSE)",
          "Overlap (FALSE)",
          "Overlap (FALSE)",
          "Overlap (FALSE)",
          "Overlap (FALSE)",
          "Overlap (FALSE)",
          "Overlap (FALSE)",
          "Overlap (FALSE)",
          "Overlap (FALSE)",
          "Partial Overlap (TRUE)",
          "Overlap (FALSE)",
          "Overlap (FALSE)",
          "Overlap (FALSE)",
          "Overlap (FALSE)",
          "Overlap (FALSE)",
          "Overlap (FALSE)",
          "Overlap (FALSE)",
          "Overlap (FALSE)",
          "Overlap (FALSE)",
          "Overlap (FALSE)",
          "Overlap (FALSE)",
          "Overlap (FALSE)",
          "Overlap (FALSE)",
          "Overlap (FALSE)",
          "Overlap (FALSE)",
          "Overlap (FALSE)",
          "Overlap (FALSE)",
          "Overlap (FALSE)",
          "Overlap (FALSE)",
          "Partial Overlap (TRUE)",
          "Partial Overlap (TRUE)",
          "Partial Overlap (TRUE)",
          "Partial Overlap (TRUE)",
          "Partial Overlap (TRUE)",
          "Partial Overlap (TRUE)",
          "Partial Overlap (TRUE)",
          "Partial Overlap (TRUE)",
          "Overlap (FALSE)",
          "Partial Overlap (TRUE)",
          "Partial Overlap (TRUE)",
          "Partial Overlap (TRUE)",
          "Partial Overlap (TRUE)",
          "Partial Overlap (TRUE)",
          "Overlap (FALSE)",
          "Overlap (FALSE)",
          "Partial Overlap (TRUE)",
          "Overlap (FALSE)",
          "Overlap (FALSE)",
          "Partial Overlap (TRUE)",
          "Partial Overlap (TRUE)"
         ],
         "x0": " ",
         "xaxis": "x4",
         "y": [
          0.00933435196930077,
          0.03339835398946889,
          0.013177480024751276,
          0.0013203859998611733,
          0.02862010497483425,
          0.02715720904234331,
          0.0287317969778087,
          0.09144316898891702,
          0.09009675098059233,
          0.12306549298227765,
          0.11410360601439606,
          0.0052252029709052294,
          0.005499323015101254,
          0.02037429399206303,
          0.02004751903587021,
          0.01218288202653639,
          0.012198862998047844,
          0.005821983038913459,
          0.0057676470023579895,
          0.08662776298297103,
          0.08613462999346666,
          0.17321068397723138,
          0.172437651999644,
          0.011217999999644235,
          0.008158903030562215,
          0.0073312159947818145,
          0.006843348004622385,
          0.008444907012744807,
          0.0027650499978335574,
          0.004385930034914054,
          0.004163201025221497,
          0.0049835950339911506,
          0.0025638940278440714,
          0.004706204985268414,
          0.005375779946916737,
          0.00262976398516912,
          0.003876673014019616,
          0.002761313022347167,
          0.0050109739968320355,
          0.0027675399760482833,
          0.0036262609501136467,
          0.0033997659338638186,
          0.003846082996460609,
          0.0032450190192321315,
          0.0019791840168181807,
          0.0030701059877173975,
          0.0034719820541795343,
          0.0034654910705285147,
          0.0022507100366055965,
          0.0019602849934017286,
          0.0035005380195798352,
          0.004333826989750378,
          0.004286626979592256,
          0.0041921140073100105,
          0.0039272129943128675,
          0.004037951002828777,
          0.0035271350207040086,
          0.003172207943862304,
          0.003429788979701698,
          0.003017927025211975,
          0.0021261769288685173,
          0.0051492270140443,
          0.004049897979712114,
          0.0038612099742749706,
          0.004147984029259533,
          0.0038104669947642833,
          0.0036312460579210892,
          0.006283432929194532,
          0.007094394983141683,
          0.01071246003266424,
          0.009980320974136703,
          0.00385844599804841,
          0.00750794903433416,
          0.006434091003029607,
          0.004379531004815362,
          0.0063261369650717825,
          0.00956201799272094,
          0.005791359028080478,
          0.005416762985987589,
          0.007118736015399918,
          0.004528087971266359,
          0.00584188500943128,
          0.008141981015796773,
          0.008735402923775837,
          0.00650238202069886,
          0.00755449703137856,
          0.004636066034436226,
          0.004011379991425201,
          0.006336316029774025,
          0.006248455014429055,
          0.0035241439763922244,
          0.003676478998386301,
          0.0032127090089488775,
          0.0035164879664080217,
          0.013265201021567918,
          0.005668633020832203,
          0.0039265399682335556,
          0.005724638976971619,
          0.015106084974831901,
          0.005330052008503117,
          0.004553453007247299,
          0.004897812978015281,
          0.003477591017144732,
          0.004369214017060585,
          0.008017438012757339,
          0.006468186998972669,
          0.0033729809656506404,
          0.004696532982052304,
          0.002912062016548589,
          0.003358330999617465,
          0.0033545399928698316,
          0.003480832980130799,
          0.012873056053649634,
          0.010228650033241138,
          0.011934862995985895,
          0.011937836970901117,
          0.008445862025837414,
          0.009212030010530725,
          0.008180589982657693,
          0.008845165983075276,
          0.023917329963296652,
          0.021848691976629198,
          0.004888925002887845,
          0.029952294018585235,
          0.0029554120264947414,
          0.009035701979883015,
          0.01775739098957274,
          0.012384601053781807,
          0.005024763027904555,
          0.005731961005949415,
          0.012708690963336267,
          0.006219293019967154,
          0.005608934006886557,
          0.00667454197537154,
          0.006688257970381528
         ],
         "y0": " ",
         "yaxis": "y4"
        },
        {
         "alignmentgroup": "True",
         "hovertemplate": "Baseline=True<br>Sizes=S/M<br>Context=%{x}<br>total_time=%{y}<extra></extra>",
         "legendgroup": "True",
         "marker": {
          "color": "#636efa"
         },
         "name": "True",
         "notched": false,
         "offsetgroup": "True",
         "orientation": "v",
         "showlegend": false,
         "type": "box",
         "x": [
          "Partial Overlap (TRUE)",
          "Partial Overlap (TRUE)",
          "Partial Overlap (TRUE)",
          "Partial Overlap (TRUE)",
          "Overlap (FALSE)",
          "Overlap (FALSE)",
          "Overlap (FALSE)",
          "Overlap (FALSE)",
          "Partial Overlap (TRUE)",
          "Overlap (FALSE)",
          "Overlap (FALSE)",
          "Overlap (FALSE)",
          "Overlap (FALSE)",
          "Overlap (FALSE)",
          "Overlap (FALSE)",
          "Overlap (FALSE)",
          "Overlap (FALSE)",
          "Partial Overlap (TRUE)",
          "Partial Overlap (TRUE)",
          "Partial Overlap (TRUE)",
          "Overlap (FALSE)",
          "Fully Inside Other (TRUE)",
          "Overlap (FALSE)",
          "Partial Overlap (TRUE)",
          "Overlap (FALSE)",
          "Overlap (FALSE)",
          "Overlap (FALSE)",
          "Overlap (FALSE)",
          "Overlap (FALSE)",
          "Partial Overlap (TRUE)",
          "Partial Overlap (TRUE)",
          "Overlap (FALSE)",
          "Partial Overlap (TRUE)"
         ],
         "x0": " ",
         "xaxis": "x5",
         "y": [
          0.03553804197872523,
          0.0354678209987469,
          0.017509702025563456,
          0.028046201026882045,
          0.007276630989508703,
          0.015390313987154514,
          0.009274796990212053,
          0.017705255013424903,
          0.02152940801170189,
          0.009466517993132584,
          0.011414954031351954,
          0.009732811013236642,
          0.011415108005166985,
          0.016092863952508196,
          0.014917079999577254,
          0.01298607797070872,
          0.012430243048584089,
          0.02175782799895387,
          0.027017641987185925,
          0.02819256800285075,
          0.0132247270521475,
          0.018809364948538132,
          0.007844195031793788,
          0.02646517702669371,
          0.006342895023408346,
          0.006726531049935147,
          0.006324743008008227,
          0.01036681397818029,
          0.011937654999201186,
          0.020890984014840797,
          0.01908492603979539,
          0.010970676972647198,
          0.014559077026206069
         ],
         "y0": " ",
         "yaxis": "y5"
        },
        {
         "alignmentgroup": "True",
         "hovertemplate": "Baseline=True<br>Sizes=L/L<br>Context=%{x}<br>total_time=%{y}<extra></extra>",
         "legendgroup": "True",
         "marker": {
          "color": "#636efa"
         },
         "name": "True",
         "notched": false,
         "offsetgroup": "True",
         "orientation": "v",
         "showlegend": false,
         "type": "box",
         "x": [
          "Partial Overlap (TRUE)",
          "Partial Overlap (TRUE)",
          "Partial Overlap (TRUE)",
          "Partial Overlap (TRUE)",
          "Partial Overlap (TRUE)",
          "Partial Overlap (TRUE)",
          "Partial Overlap (TRUE)",
          "Overlap (FALSE)",
          "Overlap (FALSE)",
          "Overlap (FALSE)",
          "Partial Overlap (TRUE)",
          "Overlap (FALSE)",
          "Partial Overlap (TRUE)",
          "Partial Overlap (TRUE)",
          "Partial Overlap (TRUE)",
          "Overlap (FALSE)",
          "Partial Overlap (TRUE)",
          "Partial Overlap (TRUE)",
          "Partial Overlap (TRUE)",
          "Overlap (FALSE)",
          "Partial Overlap (TRUE)",
          "Partial Overlap (TRUE)",
          "Overlap (FALSE)",
          "Partial Overlap (TRUE)",
          "Overlap (FALSE)",
          "Overlap (FALSE)",
          "Partial Overlap (TRUE)",
          "Partial Overlap (TRUE)",
          "Partial Overlap (TRUE)",
          "Partial Overlap (TRUE)",
          "Overlap (FALSE)",
          "Overlap (FALSE)",
          "Partial Overlap (TRUE)",
          "Overlap (FALSE)",
          "Partial Overlap (TRUE)",
          "Partial Overlap (TRUE)",
          "Partial Overlap (TRUE)",
          "Overlap (FALSE)",
          "Partial Overlap (TRUE)",
          "Partial Overlap (TRUE)",
          "Overlap (FALSE)",
          "Overlap (FALSE)",
          "Partial Overlap (TRUE)",
          "Partial Overlap (TRUE)",
          "Partial Overlap (TRUE)",
          "Overlap (FALSE)",
          "Partial Overlap (TRUE)",
          "Partial Overlap (TRUE)",
          "Partial Overlap (TRUE)",
          "Overlap (FALSE)",
          "Partial Overlap (TRUE)",
          "Partial Overlap (TRUE)",
          "Partial Overlap (TRUE)",
          "Partial Overlap (TRUE)",
          "Overlap (FALSE)",
          "Partial Overlap (TRUE)",
          "Overlap (FALSE)",
          "Partial Overlap (TRUE)",
          "Partial Overlap (TRUE)",
          "Partial Overlap (TRUE)",
          "Partial Overlap (TRUE)",
          "Partial Overlap (TRUE)",
          "Partial Overlap (TRUE)",
          "Partial Overlap (TRUE)",
          "Overlap (FALSE)",
          "Overlap (FALSE)",
          "Overlap (FALSE)",
          "Partial Overlap (TRUE)",
          "Partial Overlap (TRUE)",
          "Partial Overlap (TRUE)",
          "Partial Overlap (TRUE)",
          "Partial Overlap (TRUE)",
          "Partial Overlap (TRUE)",
          "Overlap (FALSE)",
          "Partial Overlap (TRUE)",
          "Partial Overlap (TRUE)",
          "Partial Overlap (TRUE)",
          "Partial Overlap (TRUE)",
          "Partial Overlap (TRUE)",
          "Partial Overlap (TRUE)",
          "Partial Overlap (TRUE)",
          "Partial Overlap (TRUE)",
          "Partial Overlap (TRUE)",
          "Partial Overlap (TRUE)",
          "Partial Overlap (TRUE)",
          "Overlap (FALSE)",
          "Overlap (FALSE)",
          "Partial Overlap (TRUE)",
          "Partial Overlap (TRUE)",
          "Partial Overlap (TRUE)",
          "Partial Overlap (TRUE)",
          "Partial Overlap (TRUE)",
          "Partial Overlap (TRUE)",
          "Partial Overlap (TRUE)",
          "Partial Overlap (TRUE)",
          "Overlap (FALSE)",
          "Overlap (FALSE)",
          "Overlap (FALSE)",
          "Overlap (FALSE)",
          "Overlap (FALSE)",
          "Overlap (FALSE)",
          "Overlap (FALSE)",
          "Overlap (FALSE)",
          "Overlap (FALSE)",
          "Overlap (FALSE)",
          "Overlap (FALSE)",
          "Overlap (FALSE)",
          "Overlap (FALSE)",
          "Overlap (FALSE)",
          "Overlap (FALSE)",
          "Overlap (FALSE)",
          "Overlap (FALSE)",
          "Overlap (FALSE)",
          "Overlap (FALSE)",
          "Overlap (FALSE)",
          "Overlap (FALSE)",
          "Overlap (FALSE)",
          "Overlap (FALSE)",
          "Overlap (FALSE)",
          "Overlap (FALSE)",
          "Overlap (FALSE)",
          "Overlap (FALSE)",
          "Overlap (FALSE)",
          "Overlap (FALSE)",
          "Overlap (FALSE)",
          "Overlap (FALSE)",
          "Overlap (FALSE)",
          "Overlap (FALSE)",
          "Overlap (FALSE)",
          "Overlap (FALSE)",
          "Overlap (FALSE)",
          "Overlap (FALSE)",
          "Overlap (FALSE)",
          "Overlap (FALSE)",
          "Overlap (FALSE)",
          "Overlap (FALSE)",
          "Overlap (FALSE)",
          "Overlap (FALSE)",
          "Overlap (FALSE)",
          "Overlap (FALSE)",
          "Overlap (FALSE)",
          "Overlap (FALSE)",
          "Overlap (FALSE)",
          "Overlap (FALSE)",
          "Overlap (FALSE)",
          "Overlap (FALSE)",
          "Overlap (FALSE)",
          "Overlap (FALSE)",
          "Overlap (FALSE)",
          "Overlap (FALSE)",
          "Overlap (FALSE)",
          "Overlap (FALSE)",
          "Overlap (FALSE)",
          "Overlap (FALSE)",
          "Overlap (FALSE)",
          "Overlap (FALSE)",
          "Overlap (FALSE)",
          "Overlap (FALSE)",
          "Overlap (FALSE)",
          "Overlap (FALSE)",
          "Overlap (FALSE)",
          "Overlap (FALSE)",
          "Overlap (FALSE)",
          "Overlap (FALSE)",
          "Overlap (FALSE)",
          "Overlap (FALSE)",
          "Overlap (FALSE)",
          "Overlap (FALSE)",
          "Overlap (FALSE)",
          "Overlap (FALSE)",
          "Overlap (FALSE)",
          "Overlap (FALSE)",
          "Overlap (FALSE)",
          "Overlap (FALSE)",
          "Overlap (FALSE)",
          "Overlap (FALSE)",
          "Overlap (FALSE)",
          "Overlap (FALSE)",
          "Overlap (FALSE)",
          "Overlap (FALSE)",
          "Overlap (FALSE)",
          "Overlap (FALSE)",
          "Overlap (FALSE)",
          "Overlap (FALSE)",
          "Overlap (FALSE)",
          "Partial Overlap (TRUE)",
          "Overlap (FALSE)",
          "Partial Overlap (TRUE)",
          "Partial Overlap (TRUE)",
          "Overlap (FALSE)",
          "Overlap (FALSE)",
          "Overlap (FALSE)"
         ],
         "x0": " ",
         "xaxis": "x6",
         "y": [
          0.7470096890174318,
          0.6398597010411322,
          0.2563836470217211,
          0.09007277598720975,
          0.4041505550558213,
          0.2618774830189068,
          0.47600957099348307,
          0.06110903799708467,
          0.08807560597779229,
          0.11079527497349773,
          0.9936941620399011,
          0.19957478797005024,
          0.706298304037773,
          0.6780844570021145,
          0.2881677720142761,
          0.05530811297649052,
          1.1799713049695129,
          1.587167050995049,
          0.6715290949941846,
          0.25097476699738763,
          1.5259296249423642,
          0.6844962159811985,
          0.6682016199920326,
          0.49486477101163473,
          0.30404118495061994,
          0.3063066910399357,
          0.2031738799851155,
          0.23674180297530256,
          0.20095999498153105,
          0.30096383900672663,
          0.03553442895645276,
          0.0899357430607779,
          0.41413520103378687,
          0.19447206900804304,
          0.13214732897176873,
          0.24199478898663074,
          0.31212150903593283,
          0.15594413098006044,
          0.9387127889785916,
          1.175098055988201,
          0.21778874695883133,
          0.1144883750093868,
          0.6714434959721984,
          0.18889366801886354,
          0.5703588819887955,
          0.10170509600720834,
          0.13316741804010235,
          0.42526578399701975,
          0.30012641500798054,
          0.10907991298881825,
          0.3823428080213489,
          0.30412333899585065,
          0.6139217230083887,
          0.3150879710156005,
          0.20934137495351024,
          1.7319998099846998,
          0.1634442730282899,
          0.506509292012197,
          0.702275534014916,
          0.14107110604527406,
          0.14496188197517768,
          0.4027598289831076,
          0.31233770499238744,
          0.42543871300586034,
          0.06374112699995749,
          0.08427687198854983,
          0.07847725402098149,
          3.2074359500256833,
          0.8054777580255177,
          0.24955991897149943,
          0.1605547230283264,
          0.14737577996857,
          0.7830450020119315,
          0.21757528798480053,
          0.4773997970187338,
          0.2946982029825449,
          0.12985124003898818,
          0.35991554998327047,
          0.2614109469723189,
          0.18942518999392632,
          0.5242007810156792,
          0.14995728796930052,
          0.5644605359993875,
          1.0386745060386602,
          0.36070128402207047,
          0.1282264439651044,
          0.11378282897931058,
          0.8386626129649812,
          0.3625997560011456,
          3.6575641370000085,
          1.5946949520439375,
          1.8414228610490682,
          1.6240899590193294,
          1.1561476350325393,
          0.7811497909860918,
          0.03418880693789106,
          0.49801052096881904,
          0.06648389302426949,
          0.5549635659699561,
          0.5173175840463955,
          0.04069791900110431,
          0.05881907399452757,
          0.1324663869891083,
          0.8353031829756219,
          0.21282145503209904,
          0.21068584301974624,
          0.11104324899497442,
          0.1100065480422927,
          0.27392468201287556,
          0.721302303034463,
          0.5469686769938562,
          0.3420832810079446,
          0.43220615801692475,
          0.5778738930239342,
          5.3761480130051496,
          2.393526794956415,
          4.850697037982172,
          0.5269634550495539,
          0.15997793903807178,
          0.3296666439855471,
          0.03762034201645292,
          0.04426249593961984,
          0.10405663395067677,
          0.08379199205955956,
          0.07192011804727372,
          0.04523827102093492,
          0.305362281986163,
          0.29880357994989026,
          0.45620646903989837,
          0.30059134202019777,
          0.11078503901080694,
          0.18099574407096952,
          0.1195219989749603,
          0.13365845900261775,
          0.0921004390111193,
          0.6874206760112429,
          5.240692946958006,
          0.030528021932695992,
          0.11535007096244954,
          0.30524566302483436,
          0.2396018929866841,
          0.1299638400087133,
          0.06753759400453418,
          0.06806009699357674,
          0.19188077095896006,
          0.09576983697479591,
          1.0527939909225097,
          0.27969026801292785,
          0.21489068398659583,
          0.4971019579679705,
          0.30528199298714753,
          0.12486379097390454,
          0.1788824949762784,
          0.3738528859830694,
          0.1715495289536193,
          0.08602244000940118,
          0.28394632501294836,
          0.4667485790560022,
          0.09614705001877155,
          0.09867294599825982,
          0.6129390700079966,
          0.33629513198684435,
          0.13573712200741284,
          0.13642486197932158,
          0.1971617920062272,
          1.0072552430210635,
          0.1139729530113982,
          0.16951674700248986,
          0.25849568197736517,
          0.4225775049853837,
          0.2996313149778871,
          0.3046374410187127,
          0.23962643204140477,
          0.44348336194525473,
          0.31684336203034036,
          0.28123372899426613,
          0.4458495360595407,
          0.369032025031629,
          7.818747774959775,
          0.3502452710381476,
          0.17171018902445212,
          0.27202822496474255,
          0.2177919140085578,
          0.33083964401157573,
          0.10324401297839358,
          0.06218483200063929,
          0.028308239023317583,
          0.09739836001244839,
          0.053295248028007336,
          0.04461733196512796,
          0.07906805002130568,
          0.5512667839648202
         ],
         "y0": " ",
         "yaxis": "y6"
        },
        {
         "alignmentgroup": "True",
         "hovertemplate": "Baseline=True<br>Sizes=S/L<br>Context=%{x}<br>total_time=%{y}<extra></extra>",
         "legendgroup": "True",
         "marker": {
          "color": "#636efa"
         },
         "name": "True",
         "notched": false,
         "offsetgroup": "True",
         "orientation": "v",
         "showlegend": false,
         "type": "box",
         "x": [
          "Fully Inside Other (TRUE)",
          "Fully Inside Other (TRUE)",
          "Partial Overlap (TRUE)",
          "Partial Overlap (TRUE)",
          "Partial Overlap (TRUE)",
          "Partial Overlap (TRUE)",
          "Overlap (FALSE)",
          "Partial Overlap (TRUE)",
          "Overlap (FALSE)",
          "Overlap (FALSE)",
          "Overlap (FALSE)",
          "Overlap (FALSE)",
          "Overlap (FALSE)",
          "Overlap (FALSE)",
          "Overlap (FALSE)",
          "Partial Overlap (TRUE)",
          "Overlap (FALSE)",
          "Overlap (FALSE)",
          "Overlap (FALSE)",
          "Partial Overlap (TRUE)",
          "Overlap (FALSE)",
          "Overlap (FALSE)",
          "Partial Overlap (TRUE)",
          "Partial Overlap (TRUE)",
          "Overlap (FALSE)",
          "Partial Overlap (TRUE)",
          "Overlap (FALSE)",
          "Partial Overlap (TRUE)",
          "Overlap (FALSE)",
          "Overlap (FALSE)",
          "Overlap (FALSE)",
          "Overlap (FALSE)",
          "Partial Overlap (TRUE)",
          "Partial Overlap (TRUE)",
          "Overlap (FALSE)",
          "Overlap (FALSE)",
          "Overlap (FALSE)",
          "Overlap (FALSE)",
          "Overlap (FALSE)",
          "Overlap (FALSE)",
          "Overlap (FALSE)",
          "Overlap (FALSE)",
          "Overlap (FALSE)",
          "Overlap (FALSE)",
          "Overlap (FALSE)",
          "Overlap (FALSE)",
          "Overlap (FALSE)",
          "Overlap (FALSE)",
          "Overlap (FALSE)",
          "Overlap (FALSE)",
          "Overlap (FALSE)",
          "Overlap (FALSE)",
          "Overlap (FALSE)",
          "Overlap (FALSE)",
          "Overlap (FALSE)",
          "Overlap (FALSE)",
          "Overlap (FALSE)",
          "Overlap (FALSE)",
          "Overlap (FALSE)",
          "Overlap (FALSE)",
          "Overlap (FALSE)",
          "Overlap (FALSE)",
          "Partial Overlap (TRUE)",
          "Partial Overlap (TRUE)",
          "Partial Overlap (TRUE)",
          "Partial Overlap (TRUE)",
          "Overlap (FALSE)",
          "Overlap (FALSE)",
          "Overlap (FALSE)",
          "Overlap (FALSE)",
          "Overlap (FALSE)",
          "Partial Overlap (TRUE)",
          "Overlap (FALSE)",
          "Overlap (FALSE)",
          "Overlap (FALSE)",
          "Overlap (FALSE)",
          "Overlap (FALSE)",
          "Overlap (FALSE)",
          "Overlap (FALSE)",
          "Overlap (FALSE)",
          "Overlap (FALSE)",
          "Overlap (FALSE)",
          "Overlap (FALSE)",
          "Overlap (FALSE)",
          "Overlap (FALSE)",
          "Overlap (FALSE)",
          "Overlap (FALSE)",
          "Overlap (FALSE)",
          "Overlap (FALSE)",
          "Overlap (FALSE)",
          "Overlap (FALSE)",
          "Overlap (FALSE)",
          "Overlap (FALSE)",
          "Overlap (FALSE)",
          "Overlap (FALSE)",
          "Overlap (FALSE)",
          "Overlap (FALSE)",
          "Overlap (FALSE)",
          "Overlap (FALSE)",
          "Overlap (FALSE)",
          "Overlap (FALSE)",
          "Overlap (FALSE)",
          "Overlap (FALSE)",
          "Overlap (FALSE)",
          "Overlap (FALSE)",
          "Partial Overlap (TRUE)",
          "Overlap (FALSE)",
          "Overlap (FALSE)",
          "Overlap (FALSE)",
          "Overlap (FALSE)",
          "Overlap (FALSE)",
          "Overlap (FALSE)",
          "Overlap (FALSE)",
          "Overlap (FALSE)",
          "Overlap (FALSE)",
          "Overlap (FALSE)",
          "Overlap (FALSE)",
          "Overlap (FALSE)",
          "Overlap (FALSE)",
          "Overlap (FALSE)",
          "Overlap (FALSE)",
          "Overlap (FALSE)",
          "Overlap (FALSE)",
          "Overlap (FALSE)",
          "Overlap (FALSE)",
          "Overlap (FALSE)",
          "Overlap (FALSE)",
          "Overlap (FALSE)",
          "Overlap (FALSE)",
          "Overlap (FALSE)",
          "Overlap (FALSE)",
          "Overlap (FALSE)",
          "Overlap (FALSE)",
          "Overlap (FALSE)"
         ],
         "x0": " ",
         "xaxis": "x",
         "y": [
          0.02091967803426087,
          0.021159922995138913,
          0.1167075920093339,
          0.1006398219615221,
          0.0689438290137332,
          0.06669242505449802,
          0.03367189702112228,
          0.04830719101300929,
          0.010665967973181978,
          0.4653456499945605,
          0.034631568007171154,
          0.08527990098809823,
          0.04541803302709013,
          0.03456706096767448,
          0.026905689999694005,
          0.03757970896549523,
          0.026458962995093316,
          0.022282311008893885,
          0.023836680993554182,
          0.03758284398645628,
          0.017040664999512956,
          0.01540892203047406,
          0.042492791937547736,
          0.059597325962386094,
          0.0441759760142304,
          0.058974535975721665,
          0.030621997007983737,
          0.11444211594061926,
          0.03213602399046067,
          0.03577002503152471,
          0.04127378901466727,
          0.05005863498081453,
          0.03324587603856344,
          0.023301107008592226,
          0.03778767598851118,
          0.03941829000541475,
          0.04763800301589072,
          0.04199351502757054,
          0.04091238704859279,
          0.0369156860106159,
          0.0415902149543399,
          0.034996531016076915,
          0.0340580729971407,
          0.12601707999419887,
          0.03440938198764343,
          0.038131132983835414,
          0.038299923995509744,
          0.04543864099832717,
          0.039018055016640574,
          0.04088548598519992,
          0.042668625043006614,
          0.04648484401695896,
          0.043693003986845724,
          0.036482763971434906,
          0.04549571302777622,
          0.04084453095856588,
          0.0353934370650677,
          0.025603368994779885,
          0.1246890189795522,
          0.023505364981247112,
          0.02331376499205362,
          0.029455907017108984,
          0.26679554299334995,
          0.28108108100423124,
          0.19803554298414383,
          0.08086429696413688,
          0.17218443701858632,
          0.07418745399627369,
          0.0752367360109929,
          0.07435420698311646,
          0.07487928002956323,
          0.08206822401552927,
          0.206595420037047,
          0.09024522900290322,
          0.18576861600740813,
          0.06730878601956647,
          0.06396911600313615,
          0.06939756798965391,
          0.0324214750144165,
          0.030654623013106175,
          0.045424131967592984,
          0.14054407701769378,
          0.04533735298900865,
          0.04611147796094883,
          0.045577836979646236,
          0.04517258801206481,
          0.04416360297182109,
          0.04447429800347891,
          0.04590828802611213,
          0.12766146801004652,
          0.04478110701893456,
          0.046702933017513715,
          0.04517359400051646,
          0.04432359299971722,
          0.04705455701332539,
          0.048918998989393,
          0.04867864205152728,
          0.050811268025427125,
          0.05343097202421632,
          0.04403813699900638,
          0.04460381997341756,
          0.04439615903538652,
          0.05160188402805943,
          0.04753078600333538,
          0.13914436401682906,
          0.052891434970661066,
          0.04601667998940684,
          0.04852120502619073,
          0.044169100976432674,
          0.04536224600451533,
          0.04421281196118798,
          0.04484920097456779,
          0.04409362201113254,
          0.0444152080162894,
          0.04486348698264919,
          0.04521591498632915,
          0.045093716951669194,
          0.04790905400295742,
          0.045599920995300636,
          0.049567135007237084,
          0.043988539968268014,
          0.044045864982763305,
          0.044312067941064015,
          0.04796594496292528,
          0.13927136499842163,
          0.049522332003107294,
          0.045567032997496426,
          0.04550721598207019,
          0.04835570795694366,
          0.05201700798352249,
          0.05961033402127214,
          0.04164702899288386,
          0.01979772800405044,
          0.023093427007552236
         ],
         "y0": " ",
         "yaxis": "y"
        },
        {
         "alignmentgroup": "True",
         "hovertemplate": "Baseline=True<br>Sizes=M/L<br>Context=%{x}<br>total_time=%{y}<extra></extra>",
         "legendgroup": "True",
         "marker": {
          "color": "#636efa"
         },
         "name": "True",
         "notched": false,
         "offsetgroup": "True",
         "orientation": "v",
         "showlegend": false,
         "type": "box",
         "x": [
          "Overlap (FALSE)",
          "Overlap (FALSE)",
          "Overlap (FALSE)",
          "Overlap (FALSE)",
          "Overlap (FALSE)",
          "Overlap (FALSE)",
          "Overlap (FALSE)",
          "Overlap (FALSE)",
          "Partial Overlap (TRUE)",
          "Partial Overlap (TRUE)",
          "Overlap (FALSE)",
          "Partial Overlap (TRUE)",
          "Overlap (FALSE)",
          "Overlap (FALSE)",
          "Overlap (FALSE)",
          "Partial Overlap (TRUE)",
          "Overlap (FALSE)",
          "Overlap (FALSE)",
          "Overlap (FALSE)",
          "Overlap (FALSE)",
          "Partial Overlap (TRUE)",
          "Overlap (FALSE)",
          "Partial Overlap (TRUE)",
          "Overlap (FALSE)",
          "Overlap (FALSE)",
          "Overlap (FALSE)",
          "Overlap (FALSE)",
          "Overlap (FALSE)",
          "Overlap (FALSE)",
          "Overlap (FALSE)"
         ],
         "x0": " ",
         "xaxis": "x2",
         "y": [
          0.15175176394404843,
          0.13954231995739974,
          0.2318223250331357,
          0.09107347801909782,
          0.03600852102681529,
          0.1723660420102533,
          0.11819038004614413,
          0.10906058496038895,
          0.03262493698275648,
          0.03349893700215034,
          0.028870535956230015,
          0.049055135023081675,
          0.04873301193583757,
          0.05139366604271345,
          0.05675786797655746,
          0.04395128098258283,
          0.04215612300322391,
          0.03127636197314132,
          0.01747039998008404,
          0.04206246598914731,
          0.038731076012481935,
          0.03288495300512295,
          0.12653567500819918,
          0.041725605027750134,
          0.07169309700839221,
          0.15890317800221965,
          0.1686659799743211,
          0.05545524397166446,
          0.07007113195140846,
          0.06001174401899334
         ],
         "y0": " ",
         "yaxis": "y2"
        },
        {
         "alignmentgroup": "True",
         "hovertemplate": "Baseline=True<br>Sizes=M/M<br>Context=%{x}<br>total_time=%{y}<extra></extra>",
         "legendgroup": "True",
         "marker": {
          "color": "#636efa"
         },
         "name": "True",
         "notched": false,
         "offsetgroup": "True",
         "orientation": "v",
         "showlegend": false,
         "type": "box",
         "x": [
          "Overlap (FALSE)",
          "Overlap (FALSE)",
          "Overlap (FALSE)",
          "Partial Overlap (TRUE)",
          "Partial Overlap (TRUE)"
         ],
         "x0": " ",
         "xaxis": "x3",
         "y": [
          0.07504385906213429,
          0.014860354960546829,
          0.01517500494082924,
          0.030502075984259136,
          0.031243470977642573
         ],
         "y0": " ",
         "yaxis": "y3"
        },
        {
         "alignmentgroup": "True",
         "hovertemplate": "Baseline=False<br>Sizes=S/S<br>Context=%{x}<br>total_time=%{y}<extra></extra>",
         "legendgroup": "False",
         "marker": {
          "color": "#EF553B"
         },
         "name": "False",
         "notched": false,
         "offsetgroup": "False",
         "orientation": "v",
         "showlegend": true,
         "type": "box",
         "x": [
          "Overlap (FALSE)",
          "Partial Overlap (TRUE)",
          "Fully Inside Other (TRUE)",
          "Overlap (FALSE)",
          "Partial Overlap (TRUE)",
          "Partial Overlap (TRUE)",
          "Partial Overlap (TRUE)",
          "Partial Overlap (TRUE)",
          "Partial Overlap (TRUE)",
          "Partial Overlap (TRUE)",
          "Partial Overlap (TRUE)",
          "Overlap (FALSE)",
          "Overlap (FALSE)",
          "Partial Overlap (TRUE)",
          "Partial Overlap (TRUE)",
          "Fully Inside Other (TRUE)",
          "Fully Inside Other (TRUE)",
          "Partial Overlap (TRUE)",
          "Partial Overlap (TRUE)",
          "Partial Overlap (TRUE)",
          "Partial Overlap (TRUE)",
          "Partial Overlap (TRUE)",
          "Partial Overlap (TRUE)",
          "Overlap (FALSE)",
          "Overlap (FALSE)",
          "Overlap (FALSE)",
          "Fully Inside Other (TRUE)",
          "Partial Overlap (TRUE)",
          "Overlap (FALSE)",
          "Overlap (FALSE)",
          "Overlap (FALSE)",
          "Overlap (FALSE)",
          "Overlap (FALSE)",
          "Overlap (FALSE)",
          "Overlap (FALSE)",
          "Overlap (FALSE)",
          "Overlap (FALSE)",
          "Overlap (FALSE)",
          "Overlap (FALSE)",
          "Overlap (FALSE)",
          "Overlap (FALSE)",
          "Overlap (FALSE)",
          "Overlap (FALSE)",
          "Overlap (FALSE)",
          "Overlap (FALSE)",
          "Overlap (FALSE)",
          "Overlap (FALSE)",
          "Overlap (FALSE)",
          "Overlap (FALSE)",
          "Overlap (FALSE)",
          "Overlap (FALSE)",
          "Overlap (FALSE)",
          "Overlap (FALSE)",
          "Overlap (FALSE)",
          "Overlap (FALSE)",
          "Overlap (FALSE)",
          "Overlap (FALSE)",
          "Overlap (FALSE)",
          "Overlap (FALSE)",
          "Overlap (FALSE)",
          "Overlap (FALSE)",
          "Overlap (FALSE)",
          "Overlap (FALSE)",
          "Overlap (FALSE)",
          "Overlap (FALSE)",
          "Overlap (FALSE)",
          "Overlap (FALSE)",
          "Overlap (FALSE)",
          "Overlap (FALSE)",
          "Overlap (FALSE)",
          "Overlap (FALSE)",
          "Overlap (FALSE)",
          "Overlap (FALSE)",
          "Overlap (FALSE)",
          "Overlap (FALSE)",
          "Overlap (FALSE)",
          "Overlap (FALSE)",
          "Overlap (FALSE)",
          "Overlap (FALSE)",
          "Overlap (FALSE)",
          "Overlap (FALSE)",
          "Overlap (FALSE)",
          "Overlap (FALSE)",
          "Overlap (FALSE)",
          "Overlap (FALSE)",
          "Overlap (FALSE)",
          "Overlap (FALSE)",
          "Overlap (FALSE)",
          "Overlap (FALSE)",
          "Overlap (FALSE)",
          "Overlap (FALSE)",
          "Overlap (FALSE)",
          "Overlap (FALSE)",
          "Overlap (FALSE)",
          "Partial Overlap (TRUE)",
          "Overlap (FALSE)",
          "Overlap (FALSE)",
          "Overlap (FALSE)",
          "Overlap (FALSE)",
          "Overlap (FALSE)",
          "Overlap (FALSE)",
          "Overlap (FALSE)",
          "Overlap (FALSE)",
          "Overlap (FALSE)",
          "Overlap (FALSE)",
          "Overlap (FALSE)",
          "Overlap (FALSE)",
          "Overlap (FALSE)",
          "Overlap (FALSE)",
          "Overlap (FALSE)",
          "Overlap (FALSE)",
          "Overlap (FALSE)",
          "Overlap (FALSE)",
          "Overlap (FALSE)",
          "Partial Overlap (TRUE)",
          "Partial Overlap (TRUE)",
          "Partial Overlap (TRUE)",
          "Partial Overlap (TRUE)",
          "Partial Overlap (TRUE)",
          "Partial Overlap (TRUE)",
          "Partial Overlap (TRUE)",
          "Partial Overlap (TRUE)",
          "Overlap (FALSE)",
          "Partial Overlap (TRUE)",
          "Partial Overlap (TRUE)",
          "Partial Overlap (TRUE)",
          "Partial Overlap (TRUE)",
          "Partial Overlap (TRUE)",
          "Overlap (FALSE)",
          "Overlap (FALSE)",
          "Partial Overlap (TRUE)",
          "Overlap (FALSE)",
          "Overlap (FALSE)",
          "Partial Overlap (TRUE)",
          "Partial Overlap (TRUE)"
         ],
         "x0": " ",
         "xaxis": "x4",
         "y": [
          0.006522053954540752,
          0.026249934991938062,
          0.011555623001186177,
          0.000334889002260752,
          0.024334777961485088,
          0.02452486302354373,
          0.028503182009444572,
          0.0885912179510342,
          0.09178353803872596,
          0.11962860701896716,
          0.13319020702328999,
          0.0024989220401039347,
          0.0023610900389030576,
          0.02018795501498971,
          0.020994339967728592,
          0.010493144989595748,
          0.0105590670282254,
          0.008318266991409473,
          0.007449181983247399,
          0.08997467903827783,
          0.09078267301083542,
          0.18610694499511737,
          0.18656852201092988,
          0.0064832079951884225,
          0.0031173519819276407,
          0.004891584976576269,
          0.005632263026200235,
          0.008923755027353764,
          0.0010855289874598384,
          0.004121618025237694,
          0.004448114035767503,
          0.00532375399779994,
          0.0010346000053687021,
          0.004161923017818481,
          0.006118830002378672,
          0.0010780440061353147,
          0.004238551016896963,
          0.0010902839712798595,
          0.0017858729988802224,
          0.0010916029423242435,
          0.0013445309887174517,
          0.0012598040339071304,
          0.0014525400038110092,
          0.0012741990067297593,
          0.001276143011637032,
          0.0012666730035562068,
          0.0013662140117958188,
          0.0014113880024524406,
          0.001315769026405178,
          0.0012440199789125472,
          0.0014948550087865442,
          0.0015961069730110466,
          0.0013961049990030006,
          0.0016222929989453405,
          0.0016293530643451959,
          0.0013255160010885447,
          0.0013279430131660774,
          0.0015989479870768264,
          0.0013264589942991734,
          0.001291331966058351,
          0.003820522004389204,
          0.0016394680133089423,
          0.001510961024905555,
          0.0013871870032744482,
          0.0015330310125136748,
          0.0015781470137881115,
          0.001338037007371895,
          0.002171548010664992,
          0.002250573001219891,
          0.00299298093887046,
          0.006242019953788258,
          0.001397862986777909,
          0.002045302011538297,
          0.006237890018383041,
          0.0016034360305638984,
          0.006035439029801637,
          0.006023779991664924,
          0.005082581017632037,
          0.0017418540373910218,
          0.002333003023522906,
          0.0038803780043963343,
          0.004516825967584737,
          0.004447775005246513,
          0.0059395429998403415,
          0.0045178100117482245,
          0.0018055900000035763,
          0.0015025210159365088,
          0.0015606399974785745,
          0.0054405440168920904,
          0.005835991978528909,
          0.0016556690097786486,
          0.0017221590387634933,
          0.001253540045581758,
          0.0013134109758539125,
          0.013047029002336785,
          0.002115595038048923,
          0.0014745620428584516,
          0.0025475170405115932,
          0.015962854973622598,
          0.001623427015147172,
          0.0018124999769497663,
          0.0016095219471026212,
          0.0012911499943584204,
          0.001407462012139149,
          0.008310092045576312,
          0.006244666001293808,
          0.0013406359939835966,
          0.0016143300454132259,
          0.0012165350053692237,
          0.0012692840537056327,
          0.0015000999992480502,
          0.00129521700728219,
          0.0068629590241471305,
          0.0037993209407432005,
          0.01772999197419267,
          0.01740004999737721,
          0.015780967005412094,
          0.014806645951466635,
          0.01507878303527832,
          0.015422850017785095,
          0.023013721976894885,
          0.021160920994589105,
          0.0018480799917597324,
          0.029471838002791628,
          0.005669264995958656,
          0.00811982699087821,
          0.01397082999756094,
          0.01176217696047388,
          0.0019292789947940037,
          0.0025280429690610617,
          0.011982164010987617,
          0.0023355380399152637,
          0.0021525210031541064,
          0.006525301039800979,
          0.007114403022569604
         ],
         "y0": " ",
         "yaxis": "y4"
        },
        {
         "alignmentgroup": "True",
         "hovertemplate": "Baseline=False<br>Sizes=S/M<br>Context=%{x}<br>total_time=%{y}<extra></extra>",
         "legendgroup": "False",
         "marker": {
          "color": "#EF553B"
         },
         "name": "False",
         "notched": false,
         "offsetgroup": "False",
         "orientation": "v",
         "showlegend": false,
         "type": "box",
         "x": [
          "Partial Overlap (TRUE)",
          "Partial Overlap (TRUE)",
          "Partial Overlap (TRUE)",
          "Partial Overlap (TRUE)",
          "Overlap (FALSE)",
          "Overlap (FALSE)",
          "Overlap (FALSE)",
          "Overlap (FALSE)",
          "Partial Overlap (TRUE)",
          "Overlap (FALSE)",
          "Overlap (FALSE)",
          "Overlap (FALSE)",
          "Overlap (FALSE)",
          "Overlap (FALSE)",
          "Overlap (FALSE)",
          "Overlap (FALSE)",
          "Overlap (FALSE)",
          "Partial Overlap (TRUE)",
          "Partial Overlap (TRUE)",
          "Partial Overlap (TRUE)",
          "Overlap (FALSE)",
          "Fully Inside Other (TRUE)",
          "Overlap (FALSE)",
          "Partial Overlap (TRUE)",
          "Overlap (FALSE)",
          "Overlap (FALSE)",
          "Overlap (FALSE)",
          "Overlap (FALSE)",
          "Overlap (FALSE)",
          "Partial Overlap (TRUE)",
          "Partial Overlap (TRUE)",
          "Overlap (FALSE)",
          "Partial Overlap (TRUE)"
         ],
         "x0": " ",
         "xaxis": "x5",
         "y": [
          0.03355614696920384,
          0.03302321600494906,
          0.015245921982568689,
          0.02508729299006518,
          0.003011127933859825,
          0.005019973003072664,
          0.007625346974236891,
          0.005974229003186338,
          0.020937860012054443,
          0.0034893420088337734,
          0.004871648008702323,
          0.00471338297938928,
          0.005192637021536939,
          0.005822680002893321,
          0.005735592974815518,
          0.00493807895691134,
          0.005054193010437302,
          0.020180592968245037,
          0.0244201619643718,
          0.023863769019953907,
          0.009455956998863257,
          0.0163823320181109,
          0.0028828089707531035,
          0.0216959089593729,
          0.0024239169870270416,
          0.0024386569566559047,
          0.0026735959836514667,
          0.003958727000281215,
          0.004054900011396967,
          0.014771430011023767,
          0.014824469995801337,
          0.004462735974811949,
          0.012810463027562946
         ],
         "y0": " ",
         "yaxis": "y5"
        },
        {
         "alignmentgroup": "True",
         "hovertemplate": "Baseline=False<br>Sizes=L/L<br>Context=%{x}<br>total_time=%{y}<extra></extra>",
         "legendgroup": "False",
         "marker": {
          "color": "#EF553B"
         },
         "name": "False",
         "notched": false,
         "offsetgroup": "False",
         "orientation": "v",
         "showlegend": false,
         "type": "box",
         "x": [
          "Partial Overlap (TRUE)",
          "Partial Overlap (TRUE)",
          "Partial Overlap (TRUE)",
          "Partial Overlap (TRUE)",
          "Partial Overlap (TRUE)",
          "Partial Overlap (TRUE)",
          "Partial Overlap (TRUE)",
          "Overlap (FALSE)",
          "Overlap (FALSE)",
          "Overlap (FALSE)",
          "Partial Overlap (TRUE)",
          "Overlap (FALSE)",
          "Partial Overlap (TRUE)",
          "Partial Overlap (TRUE)",
          "Partial Overlap (TRUE)",
          "Overlap (FALSE)",
          "Partial Overlap (TRUE)",
          "Partial Overlap (TRUE)",
          "Partial Overlap (TRUE)",
          "Overlap (FALSE)",
          "Partial Overlap (TRUE)",
          "Partial Overlap (TRUE)",
          "Overlap (FALSE)",
          "Partial Overlap (TRUE)",
          "Overlap (FALSE)",
          "Overlap (FALSE)",
          "Partial Overlap (TRUE)",
          "Partial Overlap (TRUE)",
          "Partial Overlap (TRUE)",
          "Partial Overlap (TRUE)",
          "Overlap (FALSE)",
          "Overlap (FALSE)",
          "Partial Overlap (TRUE)",
          "Overlap (FALSE)",
          "Partial Overlap (TRUE)",
          "Partial Overlap (TRUE)",
          "Partial Overlap (TRUE)",
          "Overlap (FALSE)",
          "Partial Overlap (TRUE)",
          "Partial Overlap (TRUE)",
          "Overlap (FALSE)",
          "Overlap (FALSE)",
          "Partial Overlap (TRUE)",
          "Partial Overlap (TRUE)",
          "Partial Overlap (TRUE)",
          "Overlap (FALSE)",
          "Partial Overlap (TRUE)",
          "Partial Overlap (TRUE)",
          "Partial Overlap (TRUE)",
          "Overlap (FALSE)",
          "Partial Overlap (TRUE)",
          "Partial Overlap (TRUE)",
          "Partial Overlap (TRUE)",
          "Partial Overlap (TRUE)",
          "Overlap (FALSE)",
          "Partial Overlap (TRUE)",
          "Overlap (FALSE)",
          "Partial Overlap (TRUE)",
          "Partial Overlap (TRUE)",
          "Partial Overlap (TRUE)",
          "Partial Overlap (TRUE)",
          "Partial Overlap (TRUE)",
          "Partial Overlap (TRUE)",
          "Partial Overlap (TRUE)",
          "Overlap (FALSE)",
          "Overlap (FALSE)",
          "Overlap (FALSE)",
          "Partial Overlap (TRUE)",
          "Partial Overlap (TRUE)",
          "Partial Overlap (TRUE)",
          "Partial Overlap (TRUE)",
          "Partial Overlap (TRUE)",
          "Partial Overlap (TRUE)",
          "Overlap (FALSE)",
          "Partial Overlap (TRUE)",
          "Partial Overlap (TRUE)",
          "Partial Overlap (TRUE)",
          "Partial Overlap (TRUE)",
          "Partial Overlap (TRUE)",
          "Partial Overlap (TRUE)",
          "Partial Overlap (TRUE)",
          "Partial Overlap (TRUE)",
          "Partial Overlap (TRUE)",
          "Partial Overlap (TRUE)",
          "Partial Overlap (TRUE)",
          "Overlap (FALSE)",
          "Overlap (FALSE)",
          "Partial Overlap (TRUE)",
          "Partial Overlap (TRUE)",
          "Partial Overlap (TRUE)",
          "Partial Overlap (TRUE)",
          "Partial Overlap (TRUE)",
          "Partial Overlap (TRUE)",
          "Partial Overlap (TRUE)",
          "Partial Overlap (TRUE)",
          "Overlap (FALSE)",
          "Overlap (FALSE)",
          "Overlap (FALSE)",
          "Overlap (FALSE)",
          "Overlap (FALSE)",
          "Overlap (FALSE)",
          "Overlap (FALSE)",
          "Overlap (FALSE)",
          "Overlap (FALSE)",
          "Overlap (FALSE)",
          "Overlap (FALSE)",
          "Overlap (FALSE)",
          "Overlap (FALSE)",
          "Overlap (FALSE)",
          "Overlap (FALSE)",
          "Overlap (FALSE)",
          "Overlap (FALSE)",
          "Overlap (FALSE)",
          "Overlap (FALSE)",
          "Overlap (FALSE)",
          "Overlap (FALSE)",
          "Overlap (FALSE)",
          "Overlap (FALSE)",
          "Overlap (FALSE)",
          "Overlap (FALSE)",
          "Overlap (FALSE)",
          "Overlap (FALSE)",
          "Overlap (FALSE)",
          "Overlap (FALSE)",
          "Overlap (FALSE)",
          "Overlap (FALSE)",
          "Overlap (FALSE)",
          "Overlap (FALSE)",
          "Overlap (FALSE)",
          "Overlap (FALSE)",
          "Overlap (FALSE)",
          "Overlap (FALSE)",
          "Overlap (FALSE)",
          "Overlap (FALSE)",
          "Overlap (FALSE)",
          "Overlap (FALSE)",
          "Overlap (FALSE)",
          "Overlap (FALSE)",
          "Overlap (FALSE)",
          "Overlap (FALSE)",
          "Overlap (FALSE)",
          "Overlap (FALSE)",
          "Overlap (FALSE)",
          "Overlap (FALSE)",
          "Overlap (FALSE)",
          "Overlap (FALSE)",
          "Overlap (FALSE)",
          "Overlap (FALSE)",
          "Overlap (FALSE)",
          "Overlap (FALSE)",
          "Overlap (FALSE)",
          "Overlap (FALSE)",
          "Overlap (FALSE)",
          "Overlap (FALSE)",
          "Overlap (FALSE)",
          "Overlap (FALSE)",
          "Overlap (FALSE)",
          "Overlap (FALSE)",
          "Overlap (FALSE)",
          "Overlap (FALSE)",
          "Overlap (FALSE)",
          "Overlap (FALSE)",
          "Overlap (FALSE)",
          "Overlap (FALSE)",
          "Overlap (FALSE)",
          "Overlap (FALSE)",
          "Overlap (FALSE)",
          "Overlap (FALSE)",
          "Overlap (FALSE)",
          "Overlap (FALSE)",
          "Overlap (FALSE)",
          "Overlap (FALSE)",
          "Overlap (FALSE)",
          "Overlap (FALSE)",
          "Overlap (FALSE)",
          "Overlap (FALSE)",
          "Overlap (FALSE)",
          "Overlap (FALSE)",
          "Overlap (FALSE)",
          "Overlap (FALSE)",
          "Overlap (FALSE)",
          "Overlap (FALSE)",
          "Overlap (FALSE)",
          "Overlap (FALSE)",
          "Overlap (FALSE)",
          "Partial Overlap (TRUE)",
          "Overlap (FALSE)",
          "Partial Overlap (TRUE)",
          "Partial Overlap (TRUE)",
          "Overlap (FALSE)",
          "Overlap (FALSE)",
          "Overlap (FALSE)"
         ],
         "x0": " ",
         "xaxis": "x6",
         "y": [
          0.5984399079607101,
          0.6023279249930056,
          0.24112755198439118,
          0.06707298298715614,
          0.3832306140247965,
          0.2450086040335009,
          0.43983030499657616,
          0.018790467016515322,
          0.0390040629717987,
          0.049510836994159035,
          0.8839078419841826,
          0.06722854700637981,
          0.7124789329827763,
          0.6591898209589999,
          0.2776662190153729,
          0.021220782029558904,
          0.9550462849729229,
          1.315356689010514,
          0.5903892610076582,
          0.059340623003663495,
          1.3809611910401145,
          0.6158917120483238,
          0.11412338296941016,
          0.4092897999798879,
          0.0798095269856276,
          0.06514798599528149,
          0.20073137601139024,
          0.22754804397118278,
          0.1951184210338397,
          0.20820909399481025,
          0.013452534985844977,
          0.029016974003752694,
          0.40490564398351125,
          0.04035506502259523,
          0.10474239100585692,
          0.2324536840314977,
          0.275685524000437,
          0.057894628029316664,
          1.033272055996349,
          1.1733408020227216,
          0.04009472001052927,
          0.04079324803024065,
          0.5688226759957615,
          0.17863667599158362,
          0.5513903620303608,
          0.0315735579788452,
          0.10056568900472485,
          0.4051336280244868,
          0.2709097429760732,
          0.030130843981169164,
          0.4619837550126249,
          0.12372111997683533,
          0.4896835919644218,
          0.2765555200021481,
          0.040423430036753416,
          1.6358769710059278,
          0.04539192702213768,
          0.46023737199720927,
          0.6701581389643252,
          0.1016358719789423,
          0.08330323801783379,
          0.37627823295770213,
          0.2873757279885467,
          0.42309942905558273,
          0.024073933018371463,
          0.026483504960197024,
          0.026522429019678384,
          3.1644062089908402,
          0.7956387180020101,
          0.2023578770313179,
          0.10437260101025458,
          0.08695132897992153,
          0.6434913229895756,
          0.04351459401368629,
          0.4611318859824678,
          0.16399678502057213,
          0.07386423500429373,
          0.366131933988072,
          0.25638995303597767,
          0.17350558101315983,
          0.5112815409956966,
          0.1351268229627749,
          0.4914484450418968,
          0.7588520849822089,
          0.3192838150280295,
          0.04884936401504092,
          0.04226886601827573,
          0.8152941890002694,
          0.2337221049820073,
          3.387937855979544,
          1.3089983249956276,
          1.5405388700019103,
          1.574346417997731,
          0.9734337700065225,
          0.5951342010084772,
          0.013070531989797018,
          0.11001510695496108,
          0.025224641023669392,
          0.14177282396121882,
          0.11534025701985229,
          0.015053123992402107,
          0.027589264034759253,
          0.051298334961757064,
          0.38023047796741594,
          0.04227213200647384,
          0.04335963500489015,
          0.041867214007652365,
          0.042380216968012974,
          0.07113547400513198,
          0.27305029904528055,
          0.1605285640398506,
          0.09296881200862117,
          0.0925583519419888,
          0.1607078700180864,
          2.301506374948076,
          1.1352153929474298,
          1.8547328660351923,
          0.228058845968917,
          0.06814750999910757,
          0.0936239620205015,
          0.01381721903453581,
          0.0162809739849763,
          0.028456018000724725,
          0.03168306199950166,
          0.02794735599309206,
          0.016357884989702143,
          0.07382002398662735,
          0.07681893100379966,
          0.09099497400166001,
          0.07392746102414094,
          0.04046511300839484,
          0.07871898100711405,
          0.04365919603151269,
          0.05150614300509915,
          0.1217936600005487,
          0.15012298902729526,
          2.0539263220271096,
          0.010937131039099768,
          0.03957263508345932,
          0.15266323594551068,
          0.06084638898028061,
          0.06044119402940851,
          0.0348859910009196,
          0.03495166799984872,
          0.035279344010632485,
          0.035319496048032306,
          0.2853991739830235,
          0.08776421096990816,
          0.0813285949989222,
          0.1042544339725282,
          0.06553085400082637,
          0.04347190001863055,
          0.08261809499526862,
          0.11294907999399584,
          0.06769911198352929,
          0.04467573401052505,
          0.07465600805880968,
          0.19784115302900318,
          0.0572636189754121,
          0.055422488032490946,
          0.1701659909740556,
          0.08543091503088363,
          0.06523982899670955,
          0.0659846440248657,
          0.16673440003069118,
          0.33282090605644044,
          0.04137063604139257,
          0.027072137003415264,
          0.10073102005117107,
          0.09974858500936534,
          0.07605881897325162,
          0.09272696400876157,
          0.07472425396554172,
          0.091832501013414,
          0.07668091802042909,
          0.06355009402614087,
          0.10576040603336878,
          0.0889745719905477,
          6.761555281016626,
          0.10238410199235659,
          0.07656215198221616,
          0.07820998301031068,
          0.045655904032173567,
          0.10004204303550068,
          0.026537836019997485,
          0.04100289395137224,
          0.016495394986122847,
          0.06796610598394182,
          0.03834817801543977,
          0.012664790017879568,
          0.027695012991898693,
          0.08356999501120299
         ],
         "y0": " ",
         "yaxis": "y6"
        },
        {
         "alignmentgroup": "True",
         "hovertemplate": "Baseline=False<br>Sizes=S/L<br>Context=%{x}<br>total_time=%{y}<extra></extra>",
         "legendgroup": "False",
         "marker": {
          "color": "#EF553B"
         },
         "name": "False",
         "notched": false,
         "offsetgroup": "False",
         "orientation": "v",
         "showlegend": false,
         "type": "box",
         "x": [
          "Fully Inside Other (TRUE)",
          "Fully Inside Other (TRUE)",
          "Partial Overlap (TRUE)",
          "Partial Overlap (TRUE)",
          "Partial Overlap (TRUE)",
          "Partial Overlap (TRUE)",
          "Overlap (FALSE)",
          "Partial Overlap (TRUE)",
          "Overlap (FALSE)",
          "Overlap (FALSE)",
          "Overlap (FALSE)",
          "Overlap (FALSE)",
          "Overlap (FALSE)",
          "Overlap (FALSE)",
          "Overlap (FALSE)",
          "Partial Overlap (TRUE)",
          "Overlap (FALSE)",
          "Overlap (FALSE)",
          "Overlap (FALSE)",
          "Partial Overlap (TRUE)",
          "Overlap (FALSE)",
          "Overlap (FALSE)",
          "Partial Overlap (TRUE)",
          "Partial Overlap (TRUE)",
          "Overlap (FALSE)",
          "Partial Overlap (TRUE)",
          "Overlap (FALSE)",
          "Partial Overlap (TRUE)",
          "Overlap (FALSE)",
          "Overlap (FALSE)",
          "Overlap (FALSE)",
          "Overlap (FALSE)",
          "Partial Overlap (TRUE)",
          "Partial Overlap (TRUE)",
          "Overlap (FALSE)",
          "Overlap (FALSE)",
          "Overlap (FALSE)",
          "Overlap (FALSE)",
          "Overlap (FALSE)",
          "Overlap (FALSE)",
          "Overlap (FALSE)",
          "Overlap (FALSE)",
          "Overlap (FALSE)",
          "Overlap (FALSE)",
          "Overlap (FALSE)",
          "Overlap (FALSE)",
          "Overlap (FALSE)",
          "Overlap (FALSE)",
          "Overlap (FALSE)",
          "Overlap (FALSE)",
          "Overlap (FALSE)",
          "Overlap (FALSE)",
          "Overlap (FALSE)",
          "Overlap (FALSE)",
          "Overlap (FALSE)",
          "Overlap (FALSE)",
          "Overlap (FALSE)",
          "Overlap (FALSE)",
          "Overlap (FALSE)",
          "Overlap (FALSE)",
          "Overlap (FALSE)",
          "Overlap (FALSE)",
          "Partial Overlap (TRUE)",
          "Partial Overlap (TRUE)",
          "Partial Overlap (TRUE)",
          "Partial Overlap (TRUE)",
          "Overlap (FALSE)",
          "Overlap (FALSE)",
          "Overlap (FALSE)",
          "Overlap (FALSE)",
          "Overlap (FALSE)",
          "Partial Overlap (TRUE)",
          "Overlap (FALSE)",
          "Overlap (FALSE)",
          "Overlap (FALSE)",
          "Overlap (FALSE)",
          "Overlap (FALSE)",
          "Overlap (FALSE)",
          "Overlap (FALSE)",
          "Overlap (FALSE)",
          "Overlap (FALSE)",
          "Overlap (FALSE)",
          "Overlap (FALSE)",
          "Overlap (FALSE)",
          "Overlap (FALSE)",
          "Overlap (FALSE)",
          "Overlap (FALSE)",
          "Overlap (FALSE)",
          "Overlap (FALSE)",
          "Overlap (FALSE)",
          "Overlap (FALSE)",
          "Overlap (FALSE)",
          "Overlap (FALSE)",
          "Overlap (FALSE)",
          "Overlap (FALSE)",
          "Overlap (FALSE)",
          "Overlap (FALSE)",
          "Overlap (FALSE)",
          "Overlap (FALSE)",
          "Overlap (FALSE)",
          "Overlap (FALSE)",
          "Overlap (FALSE)",
          "Overlap (FALSE)",
          "Overlap (FALSE)",
          "Overlap (FALSE)",
          "Partial Overlap (TRUE)",
          "Overlap (FALSE)",
          "Overlap (FALSE)",
          "Overlap (FALSE)",
          "Overlap (FALSE)",
          "Overlap (FALSE)",
          "Overlap (FALSE)",
          "Overlap (FALSE)",
          "Overlap (FALSE)",
          "Overlap (FALSE)",
          "Overlap (FALSE)",
          "Overlap (FALSE)",
          "Overlap (FALSE)",
          "Overlap (FALSE)",
          "Overlap (FALSE)",
          "Overlap (FALSE)",
          "Overlap (FALSE)",
          "Overlap (FALSE)",
          "Overlap (FALSE)",
          "Overlap (FALSE)",
          "Overlap (FALSE)",
          "Overlap (FALSE)",
          "Overlap (FALSE)",
          "Overlap (FALSE)",
          "Overlap (FALSE)",
          "Overlap (FALSE)",
          "Overlap (FALSE)",
          "Overlap (FALSE)",
          "Overlap (FALSE)"
         ],
         "x0": " ",
         "xaxis": "x",
         "y": [
          0.011676229987642728,
          0.011933244008105248,
          0.12468166797771119,
          0.09288070003094617,
          0.051438733949908055,
          0.06463027102290653,
          0.010661222957423888,
          0.02711193705908954,
          0.004463209013920277,
          0.13643441098975018,
          0.013405237041297369,
          0.06369891004578676,
          0.015046012980747037,
          0.011085171994636767,
          0.01114993503142614,
          0.0347979119833326,
          0.010314094004570507,
          0.00802210601978004,
          0.00803462800104171,
          0.03549899895733688,
          0.006707559936330654,
          0.005130733014084399,
          0.033443050997448154,
          0.04282400695956312,
          0.015923091006698087,
          0.04230098098923918,
          0.010650505995727144,
          0.03029256396985147,
          0.009288684988860041,
          0.01237026698072441,
          0.030385007004952058,
          0.04605605093820486,
          0.02778087901242543,
          0.0232262509962311,
          0.014813520974712446,
          0.015588641035719775,
          0.02776761598943267,
          0.01590986701194197,
          0.016371848018025048,
          0.014845093013718724,
          0.01585871602583211,
          0.014957630031858571,
          0.014574536980944686,
          0.014574544009519741,
          0.014283453972893767,
          0.015545256042969413,
          0.015040243990370072,
          0.01669101596053224,
          0.02631400598329492,
          0.02593406697269529,
          0.02649748805561103,
          0.027379966006265022,
          0.026934052046271972,
          0.015034714990179054,
          0.01638424200064037,
          0.027208253028220497,
          0.014690602984046564,
          0.010476014009327628,
          0.019269953030743636,
          0.009547841968014836,
          0.011966312042204663,
          0.010592074962914921,
          0.11024514801101759,
          0.22506787296151742,
          0.14765896399330813,
          0.03801250000833534,
          0.027785243961261585,
          0.027930749027291313,
          0.10739572200691327,
          0.029457789001753554,
          0.02841157499642577,
          0.05307242595881689,
          0.035517122014425695,
          0.03379430901259184,
          0.03460688699851744,
          0.023889036980108358,
          0.023471185020753182,
          0.024364465003600344,
          0.012350524950306863,
          0.011528468981850892,
          0.01647512002091389,
          0.01668503299879376,
          0.016396348990383558,
          0.016666921990690753,
          0.01655687599850353,
          0.016454318043543026,
          0.016606252975179814,
          0.016149597955518402,
          0.016654999999445863,
          0.01646306495240424,
          0.01673488598316908,
          0.016686792005202733,
          0.016539033022127114,
          0.016435531942988746,
          0.01666950598882977,
          0.017398272932041436,
          0.01736487602465786,
          0.017650166002567858,
          0.018899205984780565,
          0.016288970000459813,
          0.016294010943965986,
          0.01648436601681169,
          0.018193968004197814,
          0.01694286600104533,
          0.016916254011448473,
          0.02656813398061786,
          0.016518641976290382,
          0.017076506017474458,
          0.016752701994846575,
          0.016840954005601816,
          0.01650954298384022,
          0.016093341007945128,
          0.016401428991230205,
          0.01640691701322794,
          0.016439867977169342,
          0.016344069023034535,
          0.016816030954942107,
          0.017856289967312478,
          0.01653108601749409,
          0.017459319933550432,
          0.01615479902829975,
          0.016853420980623923,
          0.016574219946051016,
          0.01738508095149882,
          0.016774974996224046,
          0.017464859993197024,
          0.017507865006336942,
          0.01721003800048493,
          0.01778318996366579,
          0.01726815296569839,
          0.016831885994179174,
          0.015320267004426569,
          0.007228099988424219,
          0.007888970052590594
         ],
         "y0": " ",
         "yaxis": "y"
        },
        {
         "alignmentgroup": "True",
         "hovertemplate": "Baseline=False<br>Sizes=M/L<br>Context=%{x}<br>total_time=%{y}<extra></extra>",
         "legendgroup": "False",
         "marker": {
          "color": "#EF553B"
         },
         "name": "False",
         "notched": false,
         "offsetgroup": "False",
         "orientation": "v",
         "showlegend": false,
         "type": "box",
         "x": [
          "Overlap (FALSE)",
          "Overlap (FALSE)",
          "Overlap (FALSE)",
          "Overlap (FALSE)",
          "Overlap (FALSE)",
          "Overlap (FALSE)",
          "Overlap (FALSE)",
          "Overlap (FALSE)",
          "Partial Overlap (TRUE)",
          "Partial Overlap (TRUE)",
          "Overlap (FALSE)",
          "Partial Overlap (TRUE)",
          "Overlap (FALSE)",
          "Overlap (FALSE)",
          "Overlap (FALSE)",
          "Partial Overlap (TRUE)",
          "Overlap (FALSE)",
          "Overlap (FALSE)",
          "Overlap (FALSE)",
          "Overlap (FALSE)",
          "Partial Overlap (TRUE)",
          "Overlap (FALSE)",
          "Partial Overlap (TRUE)",
          "Overlap (FALSE)",
          "Overlap (FALSE)",
          "Overlap (FALSE)",
          "Overlap (FALSE)",
          "Overlap (FALSE)",
          "Overlap (FALSE)",
          "Overlap (FALSE)"
         ],
         "x0": " ",
         "xaxis": "x2",
         "y": [
          0.05230299498362001,
          0.05207415700715501,
          0.05397975101368502,
          0.035257137977168895,
          0.01287416800914798,
          0.0896344219945604,
          0.08046062802895904,
          0.04630179502419196,
          0.02642999003001023,
          0.026356866001151502,
          0.010392714975751005,
          0.03677010799583513,
          0.017128818959463388,
          0.028412584942998365,
          0.029586859993287362,
          0.03441617997305002,
          0.017205028008902445,
          0.009480488006374799,
          0.006434168986743316,
          0.016695241967681795,
          0.03146002006542403,
          0.01225385899306275,
          0.052923432958777994,
          0.015560113984975033,
          0.022425171031500213,
          0.01936580700566992,
          0.02089466001780238,
          0.01955474696296733,
          0.021368588000768796,
          0.019402416015509516
         ],
         "y0": " ",
         "yaxis": "y2"
        },
        {
         "alignmentgroup": "True",
         "hovertemplate": "Baseline=False<br>Sizes=M/M<br>Context=%{x}<br>total_time=%{y}<extra></extra>",
         "legendgroup": "False",
         "marker": {
          "color": "#EF553B"
         },
         "name": "False",
         "notched": false,
         "offsetgroup": "False",
         "orientation": "v",
         "showlegend": false,
         "type": "box",
         "x": [
          "Overlap (FALSE)",
          "Overlap (FALSE)",
          "Overlap (FALSE)",
          "Partial Overlap (TRUE)",
          "Partial Overlap (TRUE)"
         ],
         "x0": " ",
         "xaxis": "x3",
         "y": [
          0.08021301895496435,
          0.004968028995790519,
          0.005141428991919383,
          0.025758964955457486,
          0.019877536964486353
         ],
         "y0": " ",
         "yaxis": "y3"
        }
       ],
       "layout": {
        "annotations": [
         {
          "showarrow": false,
          "text": "Sizes=S/L",
          "x": 0.13333333333333333,
          "xanchor": "center",
          "xref": "paper",
          "y": 0.45,
          "yanchor": "bottom",
          "yref": "paper"
         },
         {
          "showarrow": false,
          "text": "Sizes=M/L",
          "x": 0.5,
          "xanchor": "center",
          "xref": "paper",
          "y": 0.45,
          "yanchor": "bottom",
          "yref": "paper"
         },
         {
          "showarrow": false,
          "text": "Sizes=M/M",
          "x": 0.8666666666666667,
          "xanchor": "center",
          "xref": "paper",
          "y": 0.45,
          "yanchor": "bottom",
          "yref": "paper"
         },
         {
          "showarrow": false,
          "text": "Sizes=S/S",
          "x": 0.13333333333333333,
          "xanchor": "center",
          "xref": "paper",
          "y": 1,
          "yanchor": "bottom",
          "yref": "paper"
         },
         {
          "showarrow": false,
          "text": "Sizes=S/M",
          "x": 0.5,
          "xanchor": "center",
          "xref": "paper",
          "y": 1,
          "yanchor": "bottom",
          "yref": "paper"
         },
         {
          "showarrow": false,
          "text": "Sizes=L/L",
          "x": 0.8666666666666667,
          "xanchor": "center",
          "xref": "paper",
          "y": 1,
          "yanchor": "bottom",
          "yref": "paper"
         },
         {
          "font": {
           "size": 14
          },
          "showarrow": false,
          "text": "Bouning Box Context",
          "x": 0.5,
          "xanchor": "center",
          "xref": "paper",
          "y": -0.2,
          "yanchor": "top",
          "yref": "paper"
         },
         {
          "font": {
           "size": 14
          },
          "showarrow": false,
          "text": "Mean Execution Time (s)",
          "textangle": -90,
          "x": -0.04,
          "xanchor": "center",
          "xref": "paper",
          "y": 0.5,
          "yanchor": "middle",
          "yref": "paper"
         }
        ],
        "boxmode": "group",
        "height": 700,
        "legend": {
         "title": {
          "text": "Baseline"
         },
         "tracegroupgap": 0
        },
        "template": {
         "data": {
          "bar": [
           {
            "error_x": {
             "color": "#2a3f5f"
            },
            "error_y": {
             "color": "#2a3f5f"
            },
            "marker": {
             "line": {
              "color": "#E5ECF6",
              "width": 0.5
             },
             "pattern": {
              "fillmode": "overlay",
              "size": 10,
              "solidity": 0.2
             }
            },
            "type": "bar"
           }
          ],
          "barpolar": [
           {
            "marker": {
             "line": {
              "color": "#E5ECF6",
              "width": 0.5
             },
             "pattern": {
              "fillmode": "overlay",
              "size": 10,
              "solidity": 0.2
             }
            },
            "type": "barpolar"
           }
          ],
          "carpet": [
           {
            "aaxis": {
             "endlinecolor": "#2a3f5f",
             "gridcolor": "white",
             "linecolor": "white",
             "minorgridcolor": "white",
             "startlinecolor": "#2a3f5f"
            },
            "baxis": {
             "endlinecolor": "#2a3f5f",
             "gridcolor": "white",
             "linecolor": "white",
             "minorgridcolor": "white",
             "startlinecolor": "#2a3f5f"
            },
            "type": "carpet"
           }
          ],
          "choropleth": [
           {
            "colorbar": {
             "outlinewidth": 0,
             "ticks": ""
            },
            "type": "choropleth"
           }
          ],
          "contour": [
           {
            "colorbar": {
             "outlinewidth": 0,
             "ticks": ""
            },
            "colorscale": [
             [
              0,
              "#0d0887"
             ],
             [
              0.1111111111111111,
              "#46039f"
             ],
             [
              0.2222222222222222,
              "#7201a8"
             ],
             [
              0.3333333333333333,
              "#9c179e"
             ],
             [
              0.4444444444444444,
              "#bd3786"
             ],
             [
              0.5555555555555556,
              "#d8576b"
             ],
             [
              0.6666666666666666,
              "#ed7953"
             ],
             [
              0.7777777777777778,
              "#fb9f3a"
             ],
             [
              0.8888888888888888,
              "#fdca26"
             ],
             [
              1,
              "#f0f921"
             ]
            ],
            "type": "contour"
           }
          ],
          "contourcarpet": [
           {
            "colorbar": {
             "outlinewidth": 0,
             "ticks": ""
            },
            "type": "contourcarpet"
           }
          ],
          "heatmap": [
           {
            "colorbar": {
             "outlinewidth": 0,
             "ticks": ""
            },
            "colorscale": [
             [
              0,
              "#0d0887"
             ],
             [
              0.1111111111111111,
              "#46039f"
             ],
             [
              0.2222222222222222,
              "#7201a8"
             ],
             [
              0.3333333333333333,
              "#9c179e"
             ],
             [
              0.4444444444444444,
              "#bd3786"
             ],
             [
              0.5555555555555556,
              "#d8576b"
             ],
             [
              0.6666666666666666,
              "#ed7953"
             ],
             [
              0.7777777777777778,
              "#fb9f3a"
             ],
             [
              0.8888888888888888,
              "#fdca26"
             ],
             [
              1,
              "#f0f921"
             ]
            ],
            "type": "heatmap"
           }
          ],
          "heatmapgl": [
           {
            "colorbar": {
             "outlinewidth": 0,
             "ticks": ""
            },
            "colorscale": [
             [
              0,
              "#0d0887"
             ],
             [
              0.1111111111111111,
              "#46039f"
             ],
             [
              0.2222222222222222,
              "#7201a8"
             ],
             [
              0.3333333333333333,
              "#9c179e"
             ],
             [
              0.4444444444444444,
              "#bd3786"
             ],
             [
              0.5555555555555556,
              "#d8576b"
             ],
             [
              0.6666666666666666,
              "#ed7953"
             ],
             [
              0.7777777777777778,
              "#fb9f3a"
             ],
             [
              0.8888888888888888,
              "#fdca26"
             ],
             [
              1,
              "#f0f921"
             ]
            ],
            "type": "heatmapgl"
           }
          ],
          "histogram": [
           {
            "marker": {
             "pattern": {
              "fillmode": "overlay",
              "size": 10,
              "solidity": 0.2
             }
            },
            "type": "histogram"
           }
          ],
          "histogram2d": [
           {
            "colorbar": {
             "outlinewidth": 0,
             "ticks": ""
            },
            "colorscale": [
             [
              0,
              "#0d0887"
             ],
             [
              0.1111111111111111,
              "#46039f"
             ],
             [
              0.2222222222222222,
              "#7201a8"
             ],
             [
              0.3333333333333333,
              "#9c179e"
             ],
             [
              0.4444444444444444,
              "#bd3786"
             ],
             [
              0.5555555555555556,
              "#d8576b"
             ],
             [
              0.6666666666666666,
              "#ed7953"
             ],
             [
              0.7777777777777778,
              "#fb9f3a"
             ],
             [
              0.8888888888888888,
              "#fdca26"
             ],
             [
              1,
              "#f0f921"
             ]
            ],
            "type": "histogram2d"
           }
          ],
          "histogram2dcontour": [
           {
            "colorbar": {
             "outlinewidth": 0,
             "ticks": ""
            },
            "colorscale": [
             [
              0,
              "#0d0887"
             ],
             [
              0.1111111111111111,
              "#46039f"
             ],
             [
              0.2222222222222222,
              "#7201a8"
             ],
             [
              0.3333333333333333,
              "#9c179e"
             ],
             [
              0.4444444444444444,
              "#bd3786"
             ],
             [
              0.5555555555555556,
              "#d8576b"
             ],
             [
              0.6666666666666666,
              "#ed7953"
             ],
             [
              0.7777777777777778,
              "#fb9f3a"
             ],
             [
              0.8888888888888888,
              "#fdca26"
             ],
             [
              1,
              "#f0f921"
             ]
            ],
            "type": "histogram2dcontour"
           }
          ],
          "mesh3d": [
           {
            "colorbar": {
             "outlinewidth": 0,
             "ticks": ""
            },
            "type": "mesh3d"
           }
          ],
          "parcoords": [
           {
            "line": {
             "colorbar": {
              "outlinewidth": 0,
              "ticks": ""
             }
            },
            "type": "parcoords"
           }
          ],
          "pie": [
           {
            "automargin": true,
            "type": "pie"
           }
          ],
          "scatter": [
           {
            "fillpattern": {
             "fillmode": "overlay",
             "size": 10,
             "solidity": 0.2
            },
            "type": "scatter"
           }
          ],
          "scatter3d": [
           {
            "line": {
             "colorbar": {
              "outlinewidth": 0,
              "ticks": ""
             }
            },
            "marker": {
             "colorbar": {
              "outlinewidth": 0,
              "ticks": ""
             }
            },
            "type": "scatter3d"
           }
          ],
          "scattercarpet": [
           {
            "marker": {
             "colorbar": {
              "outlinewidth": 0,
              "ticks": ""
             }
            },
            "type": "scattercarpet"
           }
          ],
          "scattergeo": [
           {
            "marker": {
             "colorbar": {
              "outlinewidth": 0,
              "ticks": ""
             }
            },
            "type": "scattergeo"
           }
          ],
          "scattergl": [
           {
            "marker": {
             "colorbar": {
              "outlinewidth": 0,
              "ticks": ""
             }
            },
            "type": "scattergl"
           }
          ],
          "scattermapbox": [
           {
            "marker": {
             "colorbar": {
              "outlinewidth": 0,
              "ticks": ""
             }
            },
            "type": "scattermapbox"
           }
          ],
          "scatterpolar": [
           {
            "marker": {
             "colorbar": {
              "outlinewidth": 0,
              "ticks": ""
             }
            },
            "type": "scatterpolar"
           }
          ],
          "scatterpolargl": [
           {
            "marker": {
             "colorbar": {
              "outlinewidth": 0,
              "ticks": ""
             }
            },
            "type": "scatterpolargl"
           }
          ],
          "scatterternary": [
           {
            "marker": {
             "colorbar": {
              "outlinewidth": 0,
              "ticks": ""
             }
            },
            "type": "scatterternary"
           }
          ],
          "surface": [
           {
            "colorbar": {
             "outlinewidth": 0,
             "ticks": ""
            },
            "colorscale": [
             [
              0,
              "#0d0887"
             ],
             [
              0.1111111111111111,
              "#46039f"
             ],
             [
              0.2222222222222222,
              "#7201a8"
             ],
             [
              0.3333333333333333,
              "#9c179e"
             ],
             [
              0.4444444444444444,
              "#bd3786"
             ],
             [
              0.5555555555555556,
              "#d8576b"
             ],
             [
              0.6666666666666666,
              "#ed7953"
             ],
             [
              0.7777777777777778,
              "#fb9f3a"
             ],
             [
              0.8888888888888888,
              "#fdca26"
             ],
             [
              1,
              "#f0f921"
             ]
            ],
            "type": "surface"
           }
          ],
          "table": [
           {
            "cells": {
             "fill": {
              "color": "#EBF0F8"
             },
             "line": {
              "color": "white"
             }
            },
            "header": {
             "fill": {
              "color": "#C8D4E3"
             },
             "line": {
              "color": "white"
             }
            },
            "type": "table"
           }
          ]
         },
         "layout": {
          "annotationdefaults": {
           "arrowcolor": "#2a3f5f",
           "arrowhead": 0,
           "arrowwidth": 1
          },
          "autotypenumbers": "strict",
          "coloraxis": {
           "colorbar": {
            "outlinewidth": 0,
            "ticks": ""
           }
          },
          "colorscale": {
           "diverging": [
            [
             0,
             "#8e0152"
            ],
            [
             0.1,
             "#c51b7d"
            ],
            [
             0.2,
             "#de77ae"
            ],
            [
             0.3,
             "#f1b6da"
            ],
            [
             0.4,
             "#fde0ef"
            ],
            [
             0.5,
             "#f7f7f7"
            ],
            [
             0.6,
             "#e6f5d0"
            ],
            [
             0.7,
             "#b8e186"
            ],
            [
             0.8,
             "#7fbc41"
            ],
            [
             0.9,
             "#4d9221"
            ],
            [
             1,
             "#276419"
            ]
           ],
           "sequential": [
            [
             0,
             "#0d0887"
            ],
            [
             0.1111111111111111,
             "#46039f"
            ],
            [
             0.2222222222222222,
             "#7201a8"
            ],
            [
             0.3333333333333333,
             "#9c179e"
            ],
            [
             0.4444444444444444,
             "#bd3786"
            ],
            [
             0.5555555555555556,
             "#d8576b"
            ],
            [
             0.6666666666666666,
             "#ed7953"
            ],
            [
             0.7777777777777778,
             "#fb9f3a"
            ],
            [
             0.8888888888888888,
             "#fdca26"
            ],
            [
             1,
             "#f0f921"
            ]
           ],
           "sequentialminus": [
            [
             0,
             "#0d0887"
            ],
            [
             0.1111111111111111,
             "#46039f"
            ],
            [
             0.2222222222222222,
             "#7201a8"
            ],
            [
             0.3333333333333333,
             "#9c179e"
            ],
            [
             0.4444444444444444,
             "#bd3786"
            ],
            [
             0.5555555555555556,
             "#d8576b"
            ],
            [
             0.6666666666666666,
             "#ed7953"
            ],
            [
             0.7777777777777778,
             "#fb9f3a"
            ],
            [
             0.8888888888888888,
             "#fdca26"
            ],
            [
             1,
             "#f0f921"
            ]
           ]
          },
          "colorway": [
           "#636efa",
           "#EF553B",
           "#00cc96",
           "#ab63fa",
           "#FFA15A",
           "#19d3f3",
           "#FF6692",
           "#B6E880",
           "#FF97FF",
           "#FECB52"
          ],
          "font": {
           "color": "#2a3f5f"
          },
          "geo": {
           "bgcolor": "white",
           "lakecolor": "white",
           "landcolor": "#E5ECF6",
           "showlakes": true,
           "showland": true,
           "subunitcolor": "white"
          },
          "hoverlabel": {
           "align": "left"
          },
          "hovermode": "closest",
          "mapbox": {
           "style": "light"
          },
          "paper_bgcolor": "white",
          "plot_bgcolor": "#E5ECF6",
          "polar": {
           "angularaxis": {
            "gridcolor": "white",
            "linecolor": "white",
            "ticks": ""
           },
           "bgcolor": "#E5ECF6",
           "radialaxis": {
            "gridcolor": "white",
            "linecolor": "white",
            "ticks": ""
           }
          },
          "scene": {
           "xaxis": {
            "backgroundcolor": "#E5ECF6",
            "gridcolor": "white",
            "gridwidth": 2,
            "linecolor": "white",
            "showbackground": true,
            "ticks": "",
            "zerolinecolor": "white"
           },
           "yaxis": {
            "backgroundcolor": "#E5ECF6",
            "gridcolor": "white",
            "gridwidth": 2,
            "linecolor": "white",
            "showbackground": true,
            "ticks": "",
            "zerolinecolor": "white"
           },
           "zaxis": {
            "backgroundcolor": "#E5ECF6",
            "gridcolor": "white",
            "gridwidth": 2,
            "linecolor": "white",
            "showbackground": true,
            "ticks": "",
            "zerolinecolor": "white"
           }
          },
          "shapedefaults": {
           "line": {
            "color": "#2a3f5f"
           }
          },
          "ternary": {
           "aaxis": {
            "gridcolor": "white",
            "linecolor": "white",
            "ticks": ""
           },
           "baxis": {
            "gridcolor": "white",
            "linecolor": "white",
            "ticks": ""
           },
           "bgcolor": "#E5ECF6",
           "caxis": {
            "gridcolor": "white",
            "linecolor": "white",
            "ticks": ""
           }
          },
          "title": {
           "x": 0.05
          },
          "xaxis": {
           "automargin": true,
           "gridcolor": "white",
           "linecolor": "white",
           "ticks": "",
           "title": {
            "standoff": 15
           },
           "zerolinecolor": "white",
           "zerolinewidth": 2
          },
          "yaxis": {
           "automargin": true,
           "gridcolor": "white",
           "linecolor": "white",
           "ticks": "",
           "title": {
            "standoff": 15
           },
           "zerolinecolor": "white",
           "zerolinewidth": 2
          }
         }
        },
        "title": {
         "text": "Execution Time for Intersection in Different Contexts & Sizes"
        },
        "xaxis": {
         "anchor": "y",
         "domain": [
          0,
          0.26666666666666666
         ],
         "title": {
          "text": ""
         }
        },
        "xaxis2": {
         "anchor": "y2",
         "domain": [
          0.3666666666666667,
          0.6333333333333333
         ],
         "matches": "x",
         "title": {
          "text": ""
         }
        },
        "xaxis3": {
         "anchor": "y3",
         "domain": [
          0.7333333333333334,
          1
         ],
         "matches": "x",
         "title": {
          "text": ""
         }
        },
        "xaxis4": {
         "anchor": "y4",
         "domain": [
          0,
          0.26666666666666666
         ],
         "matches": "x",
         "showticklabels": false,
         "title": {
          "text": ""
         }
        },
        "xaxis5": {
         "anchor": "y5",
         "domain": [
          0.3666666666666667,
          0.6333333333333333
         ],
         "matches": "x",
         "showticklabels": false,
         "title": {
          "text": ""
         }
        },
        "xaxis6": {
         "anchor": "y6",
         "domain": [
          0.7333333333333334,
          1
         ],
         "matches": "x",
         "showticklabels": false,
         "title": {
          "text": ""
         }
        },
        "yaxis": {
         "anchor": "x",
         "domain": [
          0,
          0.45
         ],
         "showticklabels": true,
         "title": {
          "text": ""
         }
        },
        "yaxis2": {
         "anchor": "x2",
         "domain": [
          0,
          0.45
         ],
         "showticklabels": true,
         "title": {
          "text": ""
         }
        },
        "yaxis3": {
         "anchor": "x3",
         "domain": [
          0,
          0.45
         ],
         "showticklabels": true,
         "title": {
          "text": ""
         }
        },
        "yaxis4": {
         "anchor": "x4",
         "domain": [
          0.55,
          1
         ],
         "showticklabels": true,
         "title": {
          "text": ""
         }
        },
        "yaxis5": {
         "anchor": "x5",
         "domain": [
          0.55,
          1
         ],
         "showticklabels": true,
         "title": {
          "text": ""
         }
        },
        "yaxis6": {
         "anchor": "x6",
         "domain": [
          0.55,
          1
         ],
         "showticklabels": true,
         "title": {
          "text": ""
         }
        }
       }
      }
     },
     "metadata": {},
     "output_type": "display_data"
    },
    {
     "data": {
      "application/vnd.plotly.v1+json": {
       "config": {
        "plotlyServerURL": "https://plot.ly"
       },
       "data": [
        {
         "alignmentgroup": "True",
         "bingroup": "x",
         "histfunc": "avg",
         "hovertemplate": "Baseline=True<br>Sizes=S/S<br>Context=%{x}<br>avg of total_time=%{y}<extra></extra>",
         "legendgroup": "True",
         "marker": {
          "color": "#636efa",
          "pattern": {
           "shape": ""
          }
         },
         "name": "True",
         "offsetgroup": "True",
         "orientation": "v",
         "showlegend": true,
         "type": "histogram",
         "x": [
          "Overlap (FALSE)",
          "Partial Overlap (TRUE)",
          "Fully Inside Other (TRUE)",
          "Overlap (FALSE)",
          "Partial Overlap (TRUE)",
          "Partial Overlap (TRUE)",
          "Partial Overlap (TRUE)",
          "Partial Overlap (TRUE)",
          "Partial Overlap (TRUE)",
          "Partial Overlap (TRUE)",
          "Partial Overlap (TRUE)",
          "Overlap (FALSE)",
          "Overlap (FALSE)",
          "Partial Overlap (TRUE)",
          "Partial Overlap (TRUE)",
          "Fully Inside Other (TRUE)",
          "Fully Inside Other (TRUE)",
          "Partial Overlap (TRUE)",
          "Partial Overlap (TRUE)",
          "Partial Overlap (TRUE)",
          "Partial Overlap (TRUE)",
          "Partial Overlap (TRUE)",
          "Partial Overlap (TRUE)",
          "Overlap (FALSE)",
          "Overlap (FALSE)",
          "Overlap (FALSE)",
          "Fully Inside Other (TRUE)",
          "Partial Overlap (TRUE)",
          "Overlap (FALSE)",
          "Overlap (FALSE)",
          "Overlap (FALSE)",
          "Overlap (FALSE)",
          "Overlap (FALSE)",
          "Overlap (FALSE)",
          "Overlap (FALSE)",
          "Overlap (FALSE)",
          "Overlap (FALSE)",
          "Overlap (FALSE)",
          "Overlap (FALSE)",
          "Overlap (FALSE)",
          "Overlap (FALSE)",
          "Overlap (FALSE)",
          "Overlap (FALSE)",
          "Overlap (FALSE)",
          "Overlap (FALSE)",
          "Overlap (FALSE)",
          "Overlap (FALSE)",
          "Overlap (FALSE)",
          "Overlap (FALSE)",
          "Overlap (FALSE)",
          "Overlap (FALSE)",
          "Overlap (FALSE)",
          "Overlap (FALSE)",
          "Overlap (FALSE)",
          "Overlap (FALSE)",
          "Overlap (FALSE)",
          "Overlap (FALSE)",
          "Overlap (FALSE)",
          "Overlap (FALSE)",
          "Overlap (FALSE)",
          "Overlap (FALSE)",
          "Overlap (FALSE)",
          "Overlap (FALSE)",
          "Overlap (FALSE)",
          "Overlap (FALSE)",
          "Overlap (FALSE)",
          "Overlap (FALSE)",
          "Overlap (FALSE)",
          "Overlap (FALSE)",
          "Overlap (FALSE)",
          "Overlap (FALSE)",
          "Overlap (FALSE)",
          "Overlap (FALSE)",
          "Overlap (FALSE)",
          "Overlap (FALSE)",
          "Overlap (FALSE)",
          "Overlap (FALSE)",
          "Overlap (FALSE)",
          "Overlap (FALSE)",
          "Overlap (FALSE)",
          "Overlap (FALSE)",
          "Overlap (FALSE)",
          "Overlap (FALSE)",
          "Overlap (FALSE)",
          "Overlap (FALSE)",
          "Overlap (FALSE)",
          "Overlap (FALSE)",
          "Overlap (FALSE)",
          "Overlap (FALSE)",
          "Overlap (FALSE)",
          "Overlap (FALSE)",
          "Overlap (FALSE)",
          "Overlap (FALSE)",
          "Overlap (FALSE)",
          "Partial Overlap (TRUE)",
          "Overlap (FALSE)",
          "Overlap (FALSE)",
          "Overlap (FALSE)",
          "Overlap (FALSE)",
          "Overlap (FALSE)",
          "Overlap (FALSE)",
          "Overlap (FALSE)",
          "Overlap (FALSE)",
          "Overlap (FALSE)",
          "Overlap (FALSE)",
          "Overlap (FALSE)",
          "Overlap (FALSE)",
          "Overlap (FALSE)",
          "Overlap (FALSE)",
          "Overlap (FALSE)",
          "Overlap (FALSE)",
          "Overlap (FALSE)",
          "Overlap (FALSE)",
          "Overlap (FALSE)",
          "Partial Overlap (TRUE)",
          "Partial Overlap (TRUE)",
          "Partial Overlap (TRUE)",
          "Partial Overlap (TRUE)",
          "Partial Overlap (TRUE)",
          "Partial Overlap (TRUE)",
          "Partial Overlap (TRUE)",
          "Partial Overlap (TRUE)",
          "Overlap (FALSE)",
          "Partial Overlap (TRUE)",
          "Partial Overlap (TRUE)",
          "Partial Overlap (TRUE)",
          "Partial Overlap (TRUE)",
          "Partial Overlap (TRUE)",
          "Overlap (FALSE)",
          "Overlap (FALSE)",
          "Partial Overlap (TRUE)",
          "Overlap (FALSE)",
          "Overlap (FALSE)",
          "Partial Overlap (TRUE)",
          "Partial Overlap (TRUE)"
         ],
         "xaxis": "x4",
         "y": [
          0.00933435196930077,
          0.03339835398946889,
          0.013177480024751276,
          0.0013203859998611733,
          0.02862010497483425,
          0.02715720904234331,
          0.0287317969778087,
          0.09144316898891702,
          0.09009675098059233,
          0.12306549298227765,
          0.11410360601439606,
          0.0052252029709052294,
          0.005499323015101254,
          0.02037429399206303,
          0.02004751903587021,
          0.01218288202653639,
          0.012198862998047844,
          0.005821983038913459,
          0.0057676470023579895,
          0.08662776298297103,
          0.08613462999346666,
          0.17321068397723138,
          0.172437651999644,
          0.011217999999644235,
          0.008158903030562215,
          0.0073312159947818145,
          0.006843348004622385,
          0.008444907012744807,
          0.0027650499978335574,
          0.004385930034914054,
          0.004163201025221497,
          0.0049835950339911506,
          0.0025638940278440714,
          0.004706204985268414,
          0.005375779946916737,
          0.00262976398516912,
          0.003876673014019616,
          0.002761313022347167,
          0.0050109739968320355,
          0.0027675399760482833,
          0.0036262609501136467,
          0.0033997659338638186,
          0.003846082996460609,
          0.0032450190192321315,
          0.0019791840168181807,
          0.0030701059877173975,
          0.0034719820541795343,
          0.0034654910705285147,
          0.0022507100366055965,
          0.0019602849934017286,
          0.0035005380195798352,
          0.004333826989750378,
          0.004286626979592256,
          0.0041921140073100105,
          0.0039272129943128675,
          0.004037951002828777,
          0.0035271350207040086,
          0.003172207943862304,
          0.003429788979701698,
          0.003017927025211975,
          0.0021261769288685173,
          0.0051492270140443,
          0.004049897979712114,
          0.0038612099742749706,
          0.004147984029259533,
          0.0038104669947642833,
          0.0036312460579210892,
          0.006283432929194532,
          0.007094394983141683,
          0.01071246003266424,
          0.009980320974136703,
          0.00385844599804841,
          0.00750794903433416,
          0.006434091003029607,
          0.004379531004815362,
          0.0063261369650717825,
          0.00956201799272094,
          0.005791359028080478,
          0.005416762985987589,
          0.007118736015399918,
          0.004528087971266359,
          0.00584188500943128,
          0.008141981015796773,
          0.008735402923775837,
          0.00650238202069886,
          0.00755449703137856,
          0.004636066034436226,
          0.004011379991425201,
          0.006336316029774025,
          0.006248455014429055,
          0.0035241439763922244,
          0.003676478998386301,
          0.0032127090089488775,
          0.0035164879664080217,
          0.013265201021567918,
          0.005668633020832203,
          0.0039265399682335556,
          0.005724638976971619,
          0.015106084974831901,
          0.005330052008503117,
          0.004553453007247299,
          0.004897812978015281,
          0.003477591017144732,
          0.004369214017060585,
          0.008017438012757339,
          0.006468186998972669,
          0.0033729809656506404,
          0.004696532982052304,
          0.002912062016548589,
          0.003358330999617465,
          0.0033545399928698316,
          0.003480832980130799,
          0.012873056053649634,
          0.010228650033241138,
          0.011934862995985895,
          0.011937836970901117,
          0.008445862025837414,
          0.009212030010530725,
          0.008180589982657693,
          0.008845165983075276,
          0.023917329963296652,
          0.021848691976629198,
          0.004888925002887845,
          0.029952294018585235,
          0.0029554120264947414,
          0.009035701979883015,
          0.01775739098957274,
          0.012384601053781807,
          0.005024763027904555,
          0.005731961005949415,
          0.012708690963336267,
          0.006219293019967154,
          0.005608934006886557,
          0.00667454197537154,
          0.006688257970381528
         ],
         "yaxis": "y4"
        },
        {
         "alignmentgroup": "True",
         "bingroup": "x",
         "histfunc": "avg",
         "hovertemplate": "Baseline=True<br>Sizes=S/M<br>Context=%{x}<br>avg of total_time=%{y}<extra></extra>",
         "legendgroup": "True",
         "marker": {
          "color": "#636efa",
          "pattern": {
           "shape": ""
          }
         },
         "name": "True",
         "offsetgroup": "True",
         "orientation": "v",
         "showlegend": false,
         "type": "histogram",
         "x": [
          "Partial Overlap (TRUE)",
          "Partial Overlap (TRUE)",
          "Partial Overlap (TRUE)",
          "Partial Overlap (TRUE)",
          "Overlap (FALSE)",
          "Overlap (FALSE)",
          "Overlap (FALSE)",
          "Overlap (FALSE)",
          "Partial Overlap (TRUE)",
          "Overlap (FALSE)",
          "Overlap (FALSE)",
          "Overlap (FALSE)",
          "Overlap (FALSE)",
          "Overlap (FALSE)",
          "Overlap (FALSE)",
          "Overlap (FALSE)",
          "Overlap (FALSE)",
          "Partial Overlap (TRUE)",
          "Partial Overlap (TRUE)",
          "Partial Overlap (TRUE)",
          "Overlap (FALSE)",
          "Fully Inside Other (TRUE)",
          "Overlap (FALSE)",
          "Partial Overlap (TRUE)",
          "Overlap (FALSE)",
          "Overlap (FALSE)",
          "Overlap (FALSE)",
          "Overlap (FALSE)",
          "Overlap (FALSE)",
          "Partial Overlap (TRUE)",
          "Partial Overlap (TRUE)",
          "Overlap (FALSE)",
          "Partial Overlap (TRUE)"
         ],
         "xaxis": "x5",
         "y": [
          0.03553804197872523,
          0.0354678209987469,
          0.017509702025563456,
          0.028046201026882045,
          0.007276630989508703,
          0.015390313987154514,
          0.009274796990212053,
          0.017705255013424903,
          0.02152940801170189,
          0.009466517993132584,
          0.011414954031351954,
          0.009732811013236642,
          0.011415108005166985,
          0.016092863952508196,
          0.014917079999577254,
          0.01298607797070872,
          0.012430243048584089,
          0.02175782799895387,
          0.027017641987185925,
          0.02819256800285075,
          0.0132247270521475,
          0.018809364948538132,
          0.007844195031793788,
          0.02646517702669371,
          0.006342895023408346,
          0.006726531049935147,
          0.006324743008008227,
          0.01036681397818029,
          0.011937654999201186,
          0.020890984014840797,
          0.01908492603979539,
          0.010970676972647198,
          0.014559077026206069
         ],
         "yaxis": "y5"
        },
        {
         "alignmentgroup": "True",
         "bingroup": "x",
         "histfunc": "avg",
         "hovertemplate": "Baseline=True<br>Sizes=L/L<br>Context=%{x}<br>avg of total_time=%{y}<extra></extra>",
         "legendgroup": "True",
         "marker": {
          "color": "#636efa",
          "pattern": {
           "shape": ""
          }
         },
         "name": "True",
         "offsetgroup": "True",
         "orientation": "v",
         "showlegend": false,
         "type": "histogram",
         "x": [
          "Partial Overlap (TRUE)",
          "Partial Overlap (TRUE)",
          "Partial Overlap (TRUE)",
          "Partial Overlap (TRUE)",
          "Partial Overlap (TRUE)",
          "Partial Overlap (TRUE)",
          "Partial Overlap (TRUE)",
          "Overlap (FALSE)",
          "Overlap (FALSE)",
          "Overlap (FALSE)",
          "Partial Overlap (TRUE)",
          "Overlap (FALSE)",
          "Partial Overlap (TRUE)",
          "Partial Overlap (TRUE)",
          "Partial Overlap (TRUE)",
          "Overlap (FALSE)",
          "Partial Overlap (TRUE)",
          "Partial Overlap (TRUE)",
          "Partial Overlap (TRUE)",
          "Overlap (FALSE)",
          "Partial Overlap (TRUE)",
          "Partial Overlap (TRUE)",
          "Overlap (FALSE)",
          "Partial Overlap (TRUE)",
          "Overlap (FALSE)",
          "Overlap (FALSE)",
          "Partial Overlap (TRUE)",
          "Partial Overlap (TRUE)",
          "Partial Overlap (TRUE)",
          "Partial Overlap (TRUE)",
          "Overlap (FALSE)",
          "Overlap (FALSE)",
          "Partial Overlap (TRUE)",
          "Overlap (FALSE)",
          "Partial Overlap (TRUE)",
          "Partial Overlap (TRUE)",
          "Partial Overlap (TRUE)",
          "Overlap (FALSE)",
          "Partial Overlap (TRUE)",
          "Partial Overlap (TRUE)",
          "Overlap (FALSE)",
          "Overlap (FALSE)",
          "Partial Overlap (TRUE)",
          "Partial Overlap (TRUE)",
          "Partial Overlap (TRUE)",
          "Overlap (FALSE)",
          "Partial Overlap (TRUE)",
          "Partial Overlap (TRUE)",
          "Partial Overlap (TRUE)",
          "Overlap (FALSE)",
          "Partial Overlap (TRUE)",
          "Partial Overlap (TRUE)",
          "Partial Overlap (TRUE)",
          "Partial Overlap (TRUE)",
          "Overlap (FALSE)",
          "Partial Overlap (TRUE)",
          "Overlap (FALSE)",
          "Partial Overlap (TRUE)",
          "Partial Overlap (TRUE)",
          "Partial Overlap (TRUE)",
          "Partial Overlap (TRUE)",
          "Partial Overlap (TRUE)",
          "Partial Overlap (TRUE)",
          "Partial Overlap (TRUE)",
          "Overlap (FALSE)",
          "Overlap (FALSE)",
          "Overlap (FALSE)",
          "Partial Overlap (TRUE)",
          "Partial Overlap (TRUE)",
          "Partial Overlap (TRUE)",
          "Partial Overlap (TRUE)",
          "Partial Overlap (TRUE)",
          "Partial Overlap (TRUE)",
          "Overlap (FALSE)",
          "Partial Overlap (TRUE)",
          "Partial Overlap (TRUE)",
          "Partial Overlap (TRUE)",
          "Partial Overlap (TRUE)",
          "Partial Overlap (TRUE)",
          "Partial Overlap (TRUE)",
          "Partial Overlap (TRUE)",
          "Partial Overlap (TRUE)",
          "Partial Overlap (TRUE)",
          "Partial Overlap (TRUE)",
          "Partial Overlap (TRUE)",
          "Overlap (FALSE)",
          "Overlap (FALSE)",
          "Partial Overlap (TRUE)",
          "Partial Overlap (TRUE)",
          "Partial Overlap (TRUE)",
          "Partial Overlap (TRUE)",
          "Partial Overlap (TRUE)",
          "Partial Overlap (TRUE)",
          "Partial Overlap (TRUE)",
          "Partial Overlap (TRUE)",
          "Overlap (FALSE)",
          "Overlap (FALSE)",
          "Overlap (FALSE)",
          "Overlap (FALSE)",
          "Overlap (FALSE)",
          "Overlap (FALSE)",
          "Overlap (FALSE)",
          "Overlap (FALSE)",
          "Overlap (FALSE)",
          "Overlap (FALSE)",
          "Overlap (FALSE)",
          "Overlap (FALSE)",
          "Overlap (FALSE)",
          "Overlap (FALSE)",
          "Overlap (FALSE)",
          "Overlap (FALSE)",
          "Overlap (FALSE)",
          "Overlap (FALSE)",
          "Overlap (FALSE)",
          "Overlap (FALSE)",
          "Overlap (FALSE)",
          "Overlap (FALSE)",
          "Overlap (FALSE)",
          "Overlap (FALSE)",
          "Overlap (FALSE)",
          "Overlap (FALSE)",
          "Overlap (FALSE)",
          "Overlap (FALSE)",
          "Overlap (FALSE)",
          "Overlap (FALSE)",
          "Overlap (FALSE)",
          "Overlap (FALSE)",
          "Overlap (FALSE)",
          "Overlap (FALSE)",
          "Overlap (FALSE)",
          "Overlap (FALSE)",
          "Overlap (FALSE)",
          "Overlap (FALSE)",
          "Overlap (FALSE)",
          "Overlap (FALSE)",
          "Overlap (FALSE)",
          "Overlap (FALSE)",
          "Overlap (FALSE)",
          "Overlap (FALSE)",
          "Overlap (FALSE)",
          "Overlap (FALSE)",
          "Overlap (FALSE)",
          "Overlap (FALSE)",
          "Overlap (FALSE)",
          "Overlap (FALSE)",
          "Overlap (FALSE)",
          "Overlap (FALSE)",
          "Overlap (FALSE)",
          "Overlap (FALSE)",
          "Overlap (FALSE)",
          "Overlap (FALSE)",
          "Overlap (FALSE)",
          "Overlap (FALSE)",
          "Overlap (FALSE)",
          "Overlap (FALSE)",
          "Overlap (FALSE)",
          "Overlap (FALSE)",
          "Overlap (FALSE)",
          "Overlap (FALSE)",
          "Overlap (FALSE)",
          "Overlap (FALSE)",
          "Overlap (FALSE)",
          "Overlap (FALSE)",
          "Overlap (FALSE)",
          "Overlap (FALSE)",
          "Overlap (FALSE)",
          "Overlap (FALSE)",
          "Overlap (FALSE)",
          "Overlap (FALSE)",
          "Overlap (FALSE)",
          "Overlap (FALSE)",
          "Overlap (FALSE)",
          "Overlap (FALSE)",
          "Overlap (FALSE)",
          "Overlap (FALSE)",
          "Overlap (FALSE)",
          "Overlap (FALSE)",
          "Overlap (FALSE)",
          "Overlap (FALSE)",
          "Overlap (FALSE)",
          "Overlap (FALSE)",
          "Overlap (FALSE)",
          "Overlap (FALSE)",
          "Overlap (FALSE)",
          "Overlap (FALSE)",
          "Partial Overlap (TRUE)",
          "Overlap (FALSE)",
          "Partial Overlap (TRUE)",
          "Partial Overlap (TRUE)",
          "Overlap (FALSE)",
          "Overlap (FALSE)",
          "Overlap (FALSE)"
         ],
         "xaxis": "x6",
         "y": [
          0.7470096890174318,
          0.6398597010411322,
          0.2563836470217211,
          0.09007277598720975,
          0.4041505550558213,
          0.2618774830189068,
          0.47600957099348307,
          0.06110903799708467,
          0.08807560597779229,
          0.11079527497349773,
          0.9936941620399011,
          0.19957478797005024,
          0.706298304037773,
          0.6780844570021145,
          0.2881677720142761,
          0.05530811297649052,
          1.1799713049695129,
          1.587167050995049,
          0.6715290949941846,
          0.25097476699738763,
          1.5259296249423642,
          0.6844962159811985,
          0.6682016199920326,
          0.49486477101163473,
          0.30404118495061994,
          0.3063066910399357,
          0.2031738799851155,
          0.23674180297530256,
          0.20095999498153105,
          0.30096383900672663,
          0.03553442895645276,
          0.0899357430607779,
          0.41413520103378687,
          0.19447206900804304,
          0.13214732897176873,
          0.24199478898663074,
          0.31212150903593283,
          0.15594413098006044,
          0.9387127889785916,
          1.175098055988201,
          0.21778874695883133,
          0.1144883750093868,
          0.6714434959721984,
          0.18889366801886354,
          0.5703588819887955,
          0.10170509600720834,
          0.13316741804010235,
          0.42526578399701975,
          0.30012641500798054,
          0.10907991298881825,
          0.3823428080213489,
          0.30412333899585065,
          0.6139217230083887,
          0.3150879710156005,
          0.20934137495351024,
          1.7319998099846998,
          0.1634442730282899,
          0.506509292012197,
          0.702275534014916,
          0.14107110604527406,
          0.14496188197517768,
          0.4027598289831076,
          0.31233770499238744,
          0.42543871300586034,
          0.06374112699995749,
          0.08427687198854983,
          0.07847725402098149,
          3.2074359500256833,
          0.8054777580255177,
          0.24955991897149943,
          0.1605547230283264,
          0.14737577996857,
          0.7830450020119315,
          0.21757528798480053,
          0.4773997970187338,
          0.2946982029825449,
          0.12985124003898818,
          0.35991554998327047,
          0.2614109469723189,
          0.18942518999392632,
          0.5242007810156792,
          0.14995728796930052,
          0.5644605359993875,
          1.0386745060386602,
          0.36070128402207047,
          0.1282264439651044,
          0.11378282897931058,
          0.8386626129649812,
          0.3625997560011456,
          3.6575641370000085,
          1.5946949520439375,
          1.8414228610490682,
          1.6240899590193294,
          1.1561476350325393,
          0.7811497909860918,
          0.03418880693789106,
          0.49801052096881904,
          0.06648389302426949,
          0.5549635659699561,
          0.5173175840463955,
          0.04069791900110431,
          0.05881907399452757,
          0.1324663869891083,
          0.8353031829756219,
          0.21282145503209904,
          0.21068584301974624,
          0.11104324899497442,
          0.1100065480422927,
          0.27392468201287556,
          0.721302303034463,
          0.5469686769938562,
          0.3420832810079446,
          0.43220615801692475,
          0.5778738930239342,
          5.3761480130051496,
          2.393526794956415,
          4.850697037982172,
          0.5269634550495539,
          0.15997793903807178,
          0.3296666439855471,
          0.03762034201645292,
          0.04426249593961984,
          0.10405663395067677,
          0.08379199205955956,
          0.07192011804727372,
          0.04523827102093492,
          0.305362281986163,
          0.29880357994989026,
          0.45620646903989837,
          0.30059134202019777,
          0.11078503901080694,
          0.18099574407096952,
          0.1195219989749603,
          0.13365845900261775,
          0.0921004390111193,
          0.6874206760112429,
          5.240692946958006,
          0.030528021932695992,
          0.11535007096244954,
          0.30524566302483436,
          0.2396018929866841,
          0.1299638400087133,
          0.06753759400453418,
          0.06806009699357674,
          0.19188077095896006,
          0.09576983697479591,
          1.0527939909225097,
          0.27969026801292785,
          0.21489068398659583,
          0.4971019579679705,
          0.30528199298714753,
          0.12486379097390454,
          0.1788824949762784,
          0.3738528859830694,
          0.1715495289536193,
          0.08602244000940118,
          0.28394632501294836,
          0.4667485790560022,
          0.09614705001877155,
          0.09867294599825982,
          0.6129390700079966,
          0.33629513198684435,
          0.13573712200741284,
          0.13642486197932158,
          0.1971617920062272,
          1.0072552430210635,
          0.1139729530113982,
          0.16951674700248986,
          0.25849568197736517,
          0.4225775049853837,
          0.2996313149778871,
          0.3046374410187127,
          0.23962643204140477,
          0.44348336194525473,
          0.31684336203034036,
          0.28123372899426613,
          0.4458495360595407,
          0.369032025031629,
          7.818747774959775,
          0.3502452710381476,
          0.17171018902445212,
          0.27202822496474255,
          0.2177919140085578,
          0.33083964401157573,
          0.10324401297839358,
          0.06218483200063929,
          0.028308239023317583,
          0.09739836001244839,
          0.053295248028007336,
          0.04461733196512796,
          0.07906805002130568,
          0.5512667839648202
         ],
         "yaxis": "y6"
        },
        {
         "alignmentgroup": "True",
         "bingroup": "x",
         "histfunc": "avg",
         "hovertemplate": "Baseline=True<br>Sizes=S/L<br>Context=%{x}<br>avg of total_time=%{y}<extra></extra>",
         "legendgroup": "True",
         "marker": {
          "color": "#636efa",
          "pattern": {
           "shape": ""
          }
         },
         "name": "True",
         "offsetgroup": "True",
         "orientation": "v",
         "showlegend": false,
         "type": "histogram",
         "x": [
          "Fully Inside Other (TRUE)",
          "Fully Inside Other (TRUE)",
          "Partial Overlap (TRUE)",
          "Partial Overlap (TRUE)",
          "Partial Overlap (TRUE)",
          "Partial Overlap (TRUE)",
          "Overlap (FALSE)",
          "Partial Overlap (TRUE)",
          "Overlap (FALSE)",
          "Overlap (FALSE)",
          "Overlap (FALSE)",
          "Overlap (FALSE)",
          "Overlap (FALSE)",
          "Overlap (FALSE)",
          "Overlap (FALSE)",
          "Partial Overlap (TRUE)",
          "Overlap (FALSE)",
          "Overlap (FALSE)",
          "Overlap (FALSE)",
          "Partial Overlap (TRUE)",
          "Overlap (FALSE)",
          "Overlap (FALSE)",
          "Partial Overlap (TRUE)",
          "Partial Overlap (TRUE)",
          "Overlap (FALSE)",
          "Partial Overlap (TRUE)",
          "Overlap (FALSE)",
          "Partial Overlap (TRUE)",
          "Overlap (FALSE)",
          "Overlap (FALSE)",
          "Overlap (FALSE)",
          "Overlap (FALSE)",
          "Partial Overlap (TRUE)",
          "Partial Overlap (TRUE)",
          "Overlap (FALSE)",
          "Overlap (FALSE)",
          "Overlap (FALSE)",
          "Overlap (FALSE)",
          "Overlap (FALSE)",
          "Overlap (FALSE)",
          "Overlap (FALSE)",
          "Overlap (FALSE)",
          "Overlap (FALSE)",
          "Overlap (FALSE)",
          "Overlap (FALSE)",
          "Overlap (FALSE)",
          "Overlap (FALSE)",
          "Overlap (FALSE)",
          "Overlap (FALSE)",
          "Overlap (FALSE)",
          "Overlap (FALSE)",
          "Overlap (FALSE)",
          "Overlap (FALSE)",
          "Overlap (FALSE)",
          "Overlap (FALSE)",
          "Overlap (FALSE)",
          "Overlap (FALSE)",
          "Overlap (FALSE)",
          "Overlap (FALSE)",
          "Overlap (FALSE)",
          "Overlap (FALSE)",
          "Overlap (FALSE)",
          "Partial Overlap (TRUE)",
          "Partial Overlap (TRUE)",
          "Partial Overlap (TRUE)",
          "Partial Overlap (TRUE)",
          "Overlap (FALSE)",
          "Overlap (FALSE)",
          "Overlap (FALSE)",
          "Overlap (FALSE)",
          "Overlap (FALSE)",
          "Partial Overlap (TRUE)",
          "Overlap (FALSE)",
          "Overlap (FALSE)",
          "Overlap (FALSE)",
          "Overlap (FALSE)",
          "Overlap (FALSE)",
          "Overlap (FALSE)",
          "Overlap (FALSE)",
          "Overlap (FALSE)",
          "Overlap (FALSE)",
          "Overlap (FALSE)",
          "Overlap (FALSE)",
          "Overlap (FALSE)",
          "Overlap (FALSE)",
          "Overlap (FALSE)",
          "Overlap (FALSE)",
          "Overlap (FALSE)",
          "Overlap (FALSE)",
          "Overlap (FALSE)",
          "Overlap (FALSE)",
          "Overlap (FALSE)",
          "Overlap (FALSE)",
          "Overlap (FALSE)",
          "Overlap (FALSE)",
          "Overlap (FALSE)",
          "Overlap (FALSE)",
          "Overlap (FALSE)",
          "Overlap (FALSE)",
          "Overlap (FALSE)",
          "Overlap (FALSE)",
          "Overlap (FALSE)",
          "Overlap (FALSE)",
          "Overlap (FALSE)",
          "Overlap (FALSE)",
          "Partial Overlap (TRUE)",
          "Overlap (FALSE)",
          "Overlap (FALSE)",
          "Overlap (FALSE)",
          "Overlap (FALSE)",
          "Overlap (FALSE)",
          "Overlap (FALSE)",
          "Overlap (FALSE)",
          "Overlap (FALSE)",
          "Overlap (FALSE)",
          "Overlap (FALSE)",
          "Overlap (FALSE)",
          "Overlap (FALSE)",
          "Overlap (FALSE)",
          "Overlap (FALSE)",
          "Overlap (FALSE)",
          "Overlap (FALSE)",
          "Overlap (FALSE)",
          "Overlap (FALSE)",
          "Overlap (FALSE)",
          "Overlap (FALSE)",
          "Overlap (FALSE)",
          "Overlap (FALSE)",
          "Overlap (FALSE)",
          "Overlap (FALSE)",
          "Overlap (FALSE)",
          "Overlap (FALSE)",
          "Overlap (FALSE)",
          "Overlap (FALSE)"
         ],
         "xaxis": "x",
         "y": [
          0.02091967803426087,
          0.021159922995138913,
          0.1167075920093339,
          0.1006398219615221,
          0.0689438290137332,
          0.06669242505449802,
          0.03367189702112228,
          0.04830719101300929,
          0.010665967973181978,
          0.4653456499945605,
          0.034631568007171154,
          0.08527990098809823,
          0.04541803302709013,
          0.03456706096767448,
          0.026905689999694005,
          0.03757970896549523,
          0.026458962995093316,
          0.022282311008893885,
          0.023836680993554182,
          0.03758284398645628,
          0.017040664999512956,
          0.01540892203047406,
          0.042492791937547736,
          0.059597325962386094,
          0.0441759760142304,
          0.058974535975721665,
          0.030621997007983737,
          0.11444211594061926,
          0.03213602399046067,
          0.03577002503152471,
          0.04127378901466727,
          0.05005863498081453,
          0.03324587603856344,
          0.023301107008592226,
          0.03778767598851118,
          0.03941829000541475,
          0.04763800301589072,
          0.04199351502757054,
          0.04091238704859279,
          0.0369156860106159,
          0.0415902149543399,
          0.034996531016076915,
          0.0340580729971407,
          0.12601707999419887,
          0.03440938198764343,
          0.038131132983835414,
          0.038299923995509744,
          0.04543864099832717,
          0.039018055016640574,
          0.04088548598519992,
          0.042668625043006614,
          0.04648484401695896,
          0.043693003986845724,
          0.036482763971434906,
          0.04549571302777622,
          0.04084453095856588,
          0.0353934370650677,
          0.025603368994779885,
          0.1246890189795522,
          0.023505364981247112,
          0.02331376499205362,
          0.029455907017108984,
          0.26679554299334995,
          0.28108108100423124,
          0.19803554298414383,
          0.08086429696413688,
          0.17218443701858632,
          0.07418745399627369,
          0.0752367360109929,
          0.07435420698311646,
          0.07487928002956323,
          0.08206822401552927,
          0.206595420037047,
          0.09024522900290322,
          0.18576861600740813,
          0.06730878601956647,
          0.06396911600313615,
          0.06939756798965391,
          0.0324214750144165,
          0.030654623013106175,
          0.045424131967592984,
          0.14054407701769378,
          0.04533735298900865,
          0.04611147796094883,
          0.045577836979646236,
          0.04517258801206481,
          0.04416360297182109,
          0.04447429800347891,
          0.04590828802611213,
          0.12766146801004652,
          0.04478110701893456,
          0.046702933017513715,
          0.04517359400051646,
          0.04432359299971722,
          0.04705455701332539,
          0.048918998989393,
          0.04867864205152728,
          0.050811268025427125,
          0.05343097202421632,
          0.04403813699900638,
          0.04460381997341756,
          0.04439615903538652,
          0.05160188402805943,
          0.04753078600333538,
          0.13914436401682906,
          0.052891434970661066,
          0.04601667998940684,
          0.04852120502619073,
          0.044169100976432674,
          0.04536224600451533,
          0.04421281196118798,
          0.04484920097456779,
          0.04409362201113254,
          0.0444152080162894,
          0.04486348698264919,
          0.04521591498632915,
          0.045093716951669194,
          0.04790905400295742,
          0.045599920995300636,
          0.049567135007237084,
          0.043988539968268014,
          0.044045864982763305,
          0.044312067941064015,
          0.04796594496292528,
          0.13927136499842163,
          0.049522332003107294,
          0.045567032997496426,
          0.04550721598207019,
          0.04835570795694366,
          0.05201700798352249,
          0.05961033402127214,
          0.04164702899288386,
          0.01979772800405044,
          0.023093427007552236
         ],
         "yaxis": "y"
        },
        {
         "alignmentgroup": "True",
         "bingroup": "x",
         "histfunc": "avg",
         "hovertemplate": "Baseline=True<br>Sizes=M/L<br>Context=%{x}<br>avg of total_time=%{y}<extra></extra>",
         "legendgroup": "True",
         "marker": {
          "color": "#636efa",
          "pattern": {
           "shape": ""
          }
         },
         "name": "True",
         "offsetgroup": "True",
         "orientation": "v",
         "showlegend": false,
         "type": "histogram",
         "x": [
          "Overlap (FALSE)",
          "Overlap (FALSE)",
          "Overlap (FALSE)",
          "Overlap (FALSE)",
          "Overlap (FALSE)",
          "Overlap (FALSE)",
          "Overlap (FALSE)",
          "Overlap (FALSE)",
          "Partial Overlap (TRUE)",
          "Partial Overlap (TRUE)",
          "Overlap (FALSE)",
          "Partial Overlap (TRUE)",
          "Overlap (FALSE)",
          "Overlap (FALSE)",
          "Overlap (FALSE)",
          "Partial Overlap (TRUE)",
          "Overlap (FALSE)",
          "Overlap (FALSE)",
          "Overlap (FALSE)",
          "Overlap (FALSE)",
          "Partial Overlap (TRUE)",
          "Overlap (FALSE)",
          "Partial Overlap (TRUE)",
          "Overlap (FALSE)",
          "Overlap (FALSE)",
          "Overlap (FALSE)",
          "Overlap (FALSE)",
          "Overlap (FALSE)",
          "Overlap (FALSE)",
          "Overlap (FALSE)"
         ],
         "xaxis": "x2",
         "y": [
          0.15175176394404843,
          0.13954231995739974,
          0.2318223250331357,
          0.09107347801909782,
          0.03600852102681529,
          0.1723660420102533,
          0.11819038004614413,
          0.10906058496038895,
          0.03262493698275648,
          0.03349893700215034,
          0.028870535956230015,
          0.049055135023081675,
          0.04873301193583757,
          0.05139366604271345,
          0.05675786797655746,
          0.04395128098258283,
          0.04215612300322391,
          0.03127636197314132,
          0.01747039998008404,
          0.04206246598914731,
          0.038731076012481935,
          0.03288495300512295,
          0.12653567500819918,
          0.041725605027750134,
          0.07169309700839221,
          0.15890317800221965,
          0.1686659799743211,
          0.05545524397166446,
          0.07007113195140846,
          0.06001174401899334
         ],
         "yaxis": "y2"
        },
        {
         "alignmentgroup": "True",
         "bingroup": "x",
         "histfunc": "avg",
         "hovertemplate": "Baseline=True<br>Sizes=M/M<br>Context=%{x}<br>avg of total_time=%{y}<extra></extra>",
         "legendgroup": "True",
         "marker": {
          "color": "#636efa",
          "pattern": {
           "shape": ""
          }
         },
         "name": "True",
         "offsetgroup": "True",
         "orientation": "v",
         "showlegend": false,
         "type": "histogram",
         "x": [
          "Overlap (FALSE)",
          "Overlap (FALSE)",
          "Overlap (FALSE)",
          "Partial Overlap (TRUE)",
          "Partial Overlap (TRUE)"
         ],
         "xaxis": "x3",
         "y": [
          0.07504385906213429,
          0.014860354960546829,
          0.01517500494082924,
          0.030502075984259136,
          0.031243470977642573
         ],
         "yaxis": "y3"
        },
        {
         "alignmentgroup": "True",
         "bingroup": "x",
         "histfunc": "avg",
         "hovertemplate": "Baseline=False<br>Sizes=S/S<br>Context=%{x}<br>avg of total_time=%{y}<extra></extra>",
         "legendgroup": "False",
         "marker": {
          "color": "#EF553B",
          "pattern": {
           "shape": ""
          }
         },
         "name": "False",
         "offsetgroup": "False",
         "orientation": "v",
         "showlegend": true,
         "type": "histogram",
         "x": [
          "Overlap (FALSE)",
          "Partial Overlap (TRUE)",
          "Fully Inside Other (TRUE)",
          "Overlap (FALSE)",
          "Partial Overlap (TRUE)",
          "Partial Overlap (TRUE)",
          "Partial Overlap (TRUE)",
          "Partial Overlap (TRUE)",
          "Partial Overlap (TRUE)",
          "Partial Overlap (TRUE)",
          "Partial Overlap (TRUE)",
          "Overlap (FALSE)",
          "Overlap (FALSE)",
          "Partial Overlap (TRUE)",
          "Partial Overlap (TRUE)",
          "Fully Inside Other (TRUE)",
          "Fully Inside Other (TRUE)",
          "Partial Overlap (TRUE)",
          "Partial Overlap (TRUE)",
          "Partial Overlap (TRUE)",
          "Partial Overlap (TRUE)",
          "Partial Overlap (TRUE)",
          "Partial Overlap (TRUE)",
          "Overlap (FALSE)",
          "Overlap (FALSE)",
          "Overlap (FALSE)",
          "Fully Inside Other (TRUE)",
          "Partial Overlap (TRUE)",
          "Overlap (FALSE)",
          "Overlap (FALSE)",
          "Overlap (FALSE)",
          "Overlap (FALSE)",
          "Overlap (FALSE)",
          "Overlap (FALSE)",
          "Overlap (FALSE)",
          "Overlap (FALSE)",
          "Overlap (FALSE)",
          "Overlap (FALSE)",
          "Overlap (FALSE)",
          "Overlap (FALSE)",
          "Overlap (FALSE)",
          "Overlap (FALSE)",
          "Overlap (FALSE)",
          "Overlap (FALSE)",
          "Overlap (FALSE)",
          "Overlap (FALSE)",
          "Overlap (FALSE)",
          "Overlap (FALSE)",
          "Overlap (FALSE)",
          "Overlap (FALSE)",
          "Overlap (FALSE)",
          "Overlap (FALSE)",
          "Overlap (FALSE)",
          "Overlap (FALSE)",
          "Overlap (FALSE)",
          "Overlap (FALSE)",
          "Overlap (FALSE)",
          "Overlap (FALSE)",
          "Overlap (FALSE)",
          "Overlap (FALSE)",
          "Overlap (FALSE)",
          "Overlap (FALSE)",
          "Overlap (FALSE)",
          "Overlap (FALSE)",
          "Overlap (FALSE)",
          "Overlap (FALSE)",
          "Overlap (FALSE)",
          "Overlap (FALSE)",
          "Overlap (FALSE)",
          "Overlap (FALSE)",
          "Overlap (FALSE)",
          "Overlap (FALSE)",
          "Overlap (FALSE)",
          "Overlap (FALSE)",
          "Overlap (FALSE)",
          "Overlap (FALSE)",
          "Overlap (FALSE)",
          "Overlap (FALSE)",
          "Overlap (FALSE)",
          "Overlap (FALSE)",
          "Overlap (FALSE)",
          "Overlap (FALSE)",
          "Overlap (FALSE)",
          "Overlap (FALSE)",
          "Overlap (FALSE)",
          "Overlap (FALSE)",
          "Overlap (FALSE)",
          "Overlap (FALSE)",
          "Overlap (FALSE)",
          "Overlap (FALSE)",
          "Overlap (FALSE)",
          "Overlap (FALSE)",
          "Overlap (FALSE)",
          "Overlap (FALSE)",
          "Partial Overlap (TRUE)",
          "Overlap (FALSE)",
          "Overlap (FALSE)",
          "Overlap (FALSE)",
          "Overlap (FALSE)",
          "Overlap (FALSE)",
          "Overlap (FALSE)",
          "Overlap (FALSE)",
          "Overlap (FALSE)",
          "Overlap (FALSE)",
          "Overlap (FALSE)",
          "Overlap (FALSE)",
          "Overlap (FALSE)",
          "Overlap (FALSE)",
          "Overlap (FALSE)",
          "Overlap (FALSE)",
          "Overlap (FALSE)",
          "Overlap (FALSE)",
          "Overlap (FALSE)",
          "Overlap (FALSE)",
          "Partial Overlap (TRUE)",
          "Partial Overlap (TRUE)",
          "Partial Overlap (TRUE)",
          "Partial Overlap (TRUE)",
          "Partial Overlap (TRUE)",
          "Partial Overlap (TRUE)",
          "Partial Overlap (TRUE)",
          "Partial Overlap (TRUE)",
          "Overlap (FALSE)",
          "Partial Overlap (TRUE)",
          "Partial Overlap (TRUE)",
          "Partial Overlap (TRUE)",
          "Partial Overlap (TRUE)",
          "Partial Overlap (TRUE)",
          "Overlap (FALSE)",
          "Overlap (FALSE)",
          "Partial Overlap (TRUE)",
          "Overlap (FALSE)",
          "Overlap (FALSE)",
          "Partial Overlap (TRUE)",
          "Partial Overlap (TRUE)"
         ],
         "xaxis": "x4",
         "y": [
          0.006522053954540752,
          0.026249934991938062,
          0.011555623001186177,
          0.000334889002260752,
          0.024334777961485088,
          0.02452486302354373,
          0.028503182009444572,
          0.0885912179510342,
          0.09178353803872596,
          0.11962860701896716,
          0.13319020702328999,
          0.0024989220401039347,
          0.0023610900389030576,
          0.02018795501498971,
          0.020994339967728592,
          0.010493144989595748,
          0.0105590670282254,
          0.008318266991409473,
          0.007449181983247399,
          0.08997467903827783,
          0.09078267301083542,
          0.18610694499511737,
          0.18656852201092988,
          0.0064832079951884225,
          0.0031173519819276407,
          0.004891584976576269,
          0.005632263026200235,
          0.008923755027353764,
          0.0010855289874598384,
          0.004121618025237694,
          0.004448114035767503,
          0.00532375399779994,
          0.0010346000053687021,
          0.004161923017818481,
          0.006118830002378672,
          0.0010780440061353147,
          0.004238551016896963,
          0.0010902839712798595,
          0.0017858729988802224,
          0.0010916029423242435,
          0.0013445309887174517,
          0.0012598040339071304,
          0.0014525400038110092,
          0.0012741990067297593,
          0.001276143011637032,
          0.0012666730035562068,
          0.0013662140117958188,
          0.0014113880024524406,
          0.001315769026405178,
          0.0012440199789125472,
          0.0014948550087865442,
          0.0015961069730110466,
          0.0013961049990030006,
          0.0016222929989453405,
          0.0016293530643451959,
          0.0013255160010885447,
          0.0013279430131660774,
          0.0015989479870768264,
          0.0013264589942991734,
          0.001291331966058351,
          0.003820522004389204,
          0.0016394680133089423,
          0.001510961024905555,
          0.0013871870032744482,
          0.0015330310125136748,
          0.0015781470137881115,
          0.001338037007371895,
          0.002171548010664992,
          0.002250573001219891,
          0.00299298093887046,
          0.006242019953788258,
          0.001397862986777909,
          0.002045302011538297,
          0.006237890018383041,
          0.0016034360305638984,
          0.006035439029801637,
          0.006023779991664924,
          0.005082581017632037,
          0.0017418540373910218,
          0.002333003023522906,
          0.0038803780043963343,
          0.004516825967584737,
          0.004447775005246513,
          0.0059395429998403415,
          0.0045178100117482245,
          0.0018055900000035763,
          0.0015025210159365088,
          0.0015606399974785745,
          0.0054405440168920904,
          0.005835991978528909,
          0.0016556690097786486,
          0.0017221590387634933,
          0.001253540045581758,
          0.0013134109758539125,
          0.013047029002336785,
          0.002115595038048923,
          0.0014745620428584516,
          0.0025475170405115932,
          0.015962854973622598,
          0.001623427015147172,
          0.0018124999769497663,
          0.0016095219471026212,
          0.0012911499943584204,
          0.001407462012139149,
          0.008310092045576312,
          0.006244666001293808,
          0.0013406359939835966,
          0.0016143300454132259,
          0.0012165350053692237,
          0.0012692840537056327,
          0.0015000999992480502,
          0.00129521700728219,
          0.0068629590241471305,
          0.0037993209407432005,
          0.01772999197419267,
          0.01740004999737721,
          0.015780967005412094,
          0.014806645951466635,
          0.01507878303527832,
          0.015422850017785095,
          0.023013721976894885,
          0.021160920994589105,
          0.0018480799917597324,
          0.029471838002791628,
          0.005669264995958656,
          0.00811982699087821,
          0.01397082999756094,
          0.01176217696047388,
          0.0019292789947940037,
          0.0025280429690610617,
          0.011982164010987617,
          0.0023355380399152637,
          0.0021525210031541064,
          0.006525301039800979,
          0.007114403022569604
         ],
         "yaxis": "y4"
        },
        {
         "alignmentgroup": "True",
         "bingroup": "x",
         "histfunc": "avg",
         "hovertemplate": "Baseline=False<br>Sizes=S/M<br>Context=%{x}<br>avg of total_time=%{y}<extra></extra>",
         "legendgroup": "False",
         "marker": {
          "color": "#EF553B",
          "pattern": {
           "shape": ""
          }
         },
         "name": "False",
         "offsetgroup": "False",
         "orientation": "v",
         "showlegend": false,
         "type": "histogram",
         "x": [
          "Partial Overlap (TRUE)",
          "Partial Overlap (TRUE)",
          "Partial Overlap (TRUE)",
          "Partial Overlap (TRUE)",
          "Overlap (FALSE)",
          "Overlap (FALSE)",
          "Overlap (FALSE)",
          "Overlap (FALSE)",
          "Partial Overlap (TRUE)",
          "Overlap (FALSE)",
          "Overlap (FALSE)",
          "Overlap (FALSE)",
          "Overlap (FALSE)",
          "Overlap (FALSE)",
          "Overlap (FALSE)",
          "Overlap (FALSE)",
          "Overlap (FALSE)",
          "Partial Overlap (TRUE)",
          "Partial Overlap (TRUE)",
          "Partial Overlap (TRUE)",
          "Overlap (FALSE)",
          "Fully Inside Other (TRUE)",
          "Overlap (FALSE)",
          "Partial Overlap (TRUE)",
          "Overlap (FALSE)",
          "Overlap (FALSE)",
          "Overlap (FALSE)",
          "Overlap (FALSE)",
          "Overlap (FALSE)",
          "Partial Overlap (TRUE)",
          "Partial Overlap (TRUE)",
          "Overlap (FALSE)",
          "Partial Overlap (TRUE)"
         ],
         "xaxis": "x5",
         "y": [
          0.03355614696920384,
          0.03302321600494906,
          0.015245921982568689,
          0.02508729299006518,
          0.003011127933859825,
          0.005019973003072664,
          0.007625346974236891,
          0.005974229003186338,
          0.020937860012054443,
          0.0034893420088337734,
          0.004871648008702323,
          0.00471338297938928,
          0.005192637021536939,
          0.005822680002893321,
          0.005735592974815518,
          0.00493807895691134,
          0.005054193010437302,
          0.020180592968245037,
          0.0244201619643718,
          0.023863769019953907,
          0.009455956998863257,
          0.0163823320181109,
          0.0028828089707531035,
          0.0216959089593729,
          0.0024239169870270416,
          0.0024386569566559047,
          0.0026735959836514667,
          0.003958727000281215,
          0.004054900011396967,
          0.014771430011023767,
          0.014824469995801337,
          0.004462735974811949,
          0.012810463027562946
         ],
         "yaxis": "y5"
        },
        {
         "alignmentgroup": "True",
         "bingroup": "x",
         "histfunc": "avg",
         "hovertemplate": "Baseline=False<br>Sizes=L/L<br>Context=%{x}<br>avg of total_time=%{y}<extra></extra>",
         "legendgroup": "False",
         "marker": {
          "color": "#EF553B",
          "pattern": {
           "shape": ""
          }
         },
         "name": "False",
         "offsetgroup": "False",
         "orientation": "v",
         "showlegend": false,
         "type": "histogram",
         "x": [
          "Partial Overlap (TRUE)",
          "Partial Overlap (TRUE)",
          "Partial Overlap (TRUE)",
          "Partial Overlap (TRUE)",
          "Partial Overlap (TRUE)",
          "Partial Overlap (TRUE)",
          "Partial Overlap (TRUE)",
          "Overlap (FALSE)",
          "Overlap (FALSE)",
          "Overlap (FALSE)",
          "Partial Overlap (TRUE)",
          "Overlap (FALSE)",
          "Partial Overlap (TRUE)",
          "Partial Overlap (TRUE)",
          "Partial Overlap (TRUE)",
          "Overlap (FALSE)",
          "Partial Overlap (TRUE)",
          "Partial Overlap (TRUE)",
          "Partial Overlap (TRUE)",
          "Overlap (FALSE)",
          "Partial Overlap (TRUE)",
          "Partial Overlap (TRUE)",
          "Overlap (FALSE)",
          "Partial Overlap (TRUE)",
          "Overlap (FALSE)",
          "Overlap (FALSE)",
          "Partial Overlap (TRUE)",
          "Partial Overlap (TRUE)",
          "Partial Overlap (TRUE)",
          "Partial Overlap (TRUE)",
          "Overlap (FALSE)",
          "Overlap (FALSE)",
          "Partial Overlap (TRUE)",
          "Overlap (FALSE)",
          "Partial Overlap (TRUE)",
          "Partial Overlap (TRUE)",
          "Partial Overlap (TRUE)",
          "Overlap (FALSE)",
          "Partial Overlap (TRUE)",
          "Partial Overlap (TRUE)",
          "Overlap (FALSE)",
          "Overlap (FALSE)",
          "Partial Overlap (TRUE)",
          "Partial Overlap (TRUE)",
          "Partial Overlap (TRUE)",
          "Overlap (FALSE)",
          "Partial Overlap (TRUE)",
          "Partial Overlap (TRUE)",
          "Partial Overlap (TRUE)",
          "Overlap (FALSE)",
          "Partial Overlap (TRUE)",
          "Partial Overlap (TRUE)",
          "Partial Overlap (TRUE)",
          "Partial Overlap (TRUE)",
          "Overlap (FALSE)",
          "Partial Overlap (TRUE)",
          "Overlap (FALSE)",
          "Partial Overlap (TRUE)",
          "Partial Overlap (TRUE)",
          "Partial Overlap (TRUE)",
          "Partial Overlap (TRUE)",
          "Partial Overlap (TRUE)",
          "Partial Overlap (TRUE)",
          "Partial Overlap (TRUE)",
          "Overlap (FALSE)",
          "Overlap (FALSE)",
          "Overlap (FALSE)",
          "Partial Overlap (TRUE)",
          "Partial Overlap (TRUE)",
          "Partial Overlap (TRUE)",
          "Partial Overlap (TRUE)",
          "Partial Overlap (TRUE)",
          "Partial Overlap (TRUE)",
          "Overlap (FALSE)",
          "Partial Overlap (TRUE)",
          "Partial Overlap (TRUE)",
          "Partial Overlap (TRUE)",
          "Partial Overlap (TRUE)",
          "Partial Overlap (TRUE)",
          "Partial Overlap (TRUE)",
          "Partial Overlap (TRUE)",
          "Partial Overlap (TRUE)",
          "Partial Overlap (TRUE)",
          "Partial Overlap (TRUE)",
          "Partial Overlap (TRUE)",
          "Overlap (FALSE)",
          "Overlap (FALSE)",
          "Partial Overlap (TRUE)",
          "Partial Overlap (TRUE)",
          "Partial Overlap (TRUE)",
          "Partial Overlap (TRUE)",
          "Partial Overlap (TRUE)",
          "Partial Overlap (TRUE)",
          "Partial Overlap (TRUE)",
          "Partial Overlap (TRUE)",
          "Overlap (FALSE)",
          "Overlap (FALSE)",
          "Overlap (FALSE)",
          "Overlap (FALSE)",
          "Overlap (FALSE)",
          "Overlap (FALSE)",
          "Overlap (FALSE)",
          "Overlap (FALSE)",
          "Overlap (FALSE)",
          "Overlap (FALSE)",
          "Overlap (FALSE)",
          "Overlap (FALSE)",
          "Overlap (FALSE)",
          "Overlap (FALSE)",
          "Overlap (FALSE)",
          "Overlap (FALSE)",
          "Overlap (FALSE)",
          "Overlap (FALSE)",
          "Overlap (FALSE)",
          "Overlap (FALSE)",
          "Overlap (FALSE)",
          "Overlap (FALSE)",
          "Overlap (FALSE)",
          "Overlap (FALSE)",
          "Overlap (FALSE)",
          "Overlap (FALSE)",
          "Overlap (FALSE)",
          "Overlap (FALSE)",
          "Overlap (FALSE)",
          "Overlap (FALSE)",
          "Overlap (FALSE)",
          "Overlap (FALSE)",
          "Overlap (FALSE)",
          "Overlap (FALSE)",
          "Overlap (FALSE)",
          "Overlap (FALSE)",
          "Overlap (FALSE)",
          "Overlap (FALSE)",
          "Overlap (FALSE)",
          "Overlap (FALSE)",
          "Overlap (FALSE)",
          "Overlap (FALSE)",
          "Overlap (FALSE)",
          "Overlap (FALSE)",
          "Overlap (FALSE)",
          "Overlap (FALSE)",
          "Overlap (FALSE)",
          "Overlap (FALSE)",
          "Overlap (FALSE)",
          "Overlap (FALSE)",
          "Overlap (FALSE)",
          "Overlap (FALSE)",
          "Overlap (FALSE)",
          "Overlap (FALSE)",
          "Overlap (FALSE)",
          "Overlap (FALSE)",
          "Overlap (FALSE)",
          "Overlap (FALSE)",
          "Overlap (FALSE)",
          "Overlap (FALSE)",
          "Overlap (FALSE)",
          "Overlap (FALSE)",
          "Overlap (FALSE)",
          "Overlap (FALSE)",
          "Overlap (FALSE)",
          "Overlap (FALSE)",
          "Overlap (FALSE)",
          "Overlap (FALSE)",
          "Overlap (FALSE)",
          "Overlap (FALSE)",
          "Overlap (FALSE)",
          "Overlap (FALSE)",
          "Overlap (FALSE)",
          "Overlap (FALSE)",
          "Overlap (FALSE)",
          "Overlap (FALSE)",
          "Overlap (FALSE)",
          "Overlap (FALSE)",
          "Overlap (FALSE)",
          "Overlap (FALSE)",
          "Overlap (FALSE)",
          "Overlap (FALSE)",
          "Overlap (FALSE)",
          "Overlap (FALSE)",
          "Overlap (FALSE)",
          "Overlap (FALSE)",
          "Overlap (FALSE)",
          "Overlap (FALSE)",
          "Overlap (FALSE)",
          "Overlap (FALSE)",
          "Partial Overlap (TRUE)",
          "Overlap (FALSE)",
          "Partial Overlap (TRUE)",
          "Partial Overlap (TRUE)",
          "Overlap (FALSE)",
          "Overlap (FALSE)",
          "Overlap (FALSE)"
         ],
         "xaxis": "x6",
         "y": [
          0.5984399079607101,
          0.6023279249930056,
          0.24112755198439118,
          0.06707298298715614,
          0.3832306140247965,
          0.2450086040335009,
          0.43983030499657616,
          0.018790467016515322,
          0.0390040629717987,
          0.049510836994159035,
          0.8839078419841826,
          0.06722854700637981,
          0.7124789329827763,
          0.6591898209589999,
          0.2776662190153729,
          0.021220782029558904,
          0.9550462849729229,
          1.315356689010514,
          0.5903892610076582,
          0.059340623003663495,
          1.3809611910401145,
          0.6158917120483238,
          0.11412338296941016,
          0.4092897999798879,
          0.0798095269856276,
          0.06514798599528149,
          0.20073137601139024,
          0.22754804397118278,
          0.1951184210338397,
          0.20820909399481025,
          0.013452534985844977,
          0.029016974003752694,
          0.40490564398351125,
          0.04035506502259523,
          0.10474239100585692,
          0.2324536840314977,
          0.275685524000437,
          0.057894628029316664,
          1.033272055996349,
          1.1733408020227216,
          0.04009472001052927,
          0.04079324803024065,
          0.5688226759957615,
          0.17863667599158362,
          0.5513903620303608,
          0.0315735579788452,
          0.10056568900472485,
          0.4051336280244868,
          0.2709097429760732,
          0.030130843981169164,
          0.4619837550126249,
          0.12372111997683533,
          0.4896835919644218,
          0.2765555200021481,
          0.040423430036753416,
          1.6358769710059278,
          0.04539192702213768,
          0.46023737199720927,
          0.6701581389643252,
          0.1016358719789423,
          0.08330323801783379,
          0.37627823295770213,
          0.2873757279885467,
          0.42309942905558273,
          0.024073933018371463,
          0.026483504960197024,
          0.026522429019678384,
          3.1644062089908402,
          0.7956387180020101,
          0.2023578770313179,
          0.10437260101025458,
          0.08695132897992153,
          0.6434913229895756,
          0.04351459401368629,
          0.4611318859824678,
          0.16399678502057213,
          0.07386423500429373,
          0.366131933988072,
          0.25638995303597767,
          0.17350558101315983,
          0.5112815409956966,
          0.1351268229627749,
          0.4914484450418968,
          0.7588520849822089,
          0.3192838150280295,
          0.04884936401504092,
          0.04226886601827573,
          0.8152941890002694,
          0.2337221049820073,
          3.387937855979544,
          1.3089983249956276,
          1.5405388700019103,
          1.574346417997731,
          0.9734337700065225,
          0.5951342010084772,
          0.013070531989797018,
          0.11001510695496108,
          0.025224641023669392,
          0.14177282396121882,
          0.11534025701985229,
          0.015053123992402107,
          0.027589264034759253,
          0.051298334961757064,
          0.38023047796741594,
          0.04227213200647384,
          0.04335963500489015,
          0.041867214007652365,
          0.042380216968012974,
          0.07113547400513198,
          0.27305029904528055,
          0.1605285640398506,
          0.09296881200862117,
          0.0925583519419888,
          0.1607078700180864,
          2.301506374948076,
          1.1352153929474298,
          1.8547328660351923,
          0.228058845968917,
          0.06814750999910757,
          0.0936239620205015,
          0.01381721903453581,
          0.0162809739849763,
          0.028456018000724725,
          0.03168306199950166,
          0.02794735599309206,
          0.016357884989702143,
          0.07382002398662735,
          0.07681893100379966,
          0.09099497400166001,
          0.07392746102414094,
          0.04046511300839484,
          0.07871898100711405,
          0.04365919603151269,
          0.05150614300509915,
          0.1217936600005487,
          0.15012298902729526,
          2.0539263220271096,
          0.010937131039099768,
          0.03957263508345932,
          0.15266323594551068,
          0.06084638898028061,
          0.06044119402940851,
          0.0348859910009196,
          0.03495166799984872,
          0.035279344010632485,
          0.035319496048032306,
          0.2853991739830235,
          0.08776421096990816,
          0.0813285949989222,
          0.1042544339725282,
          0.06553085400082637,
          0.04347190001863055,
          0.08261809499526862,
          0.11294907999399584,
          0.06769911198352929,
          0.04467573401052505,
          0.07465600805880968,
          0.19784115302900318,
          0.0572636189754121,
          0.055422488032490946,
          0.1701659909740556,
          0.08543091503088363,
          0.06523982899670955,
          0.0659846440248657,
          0.16673440003069118,
          0.33282090605644044,
          0.04137063604139257,
          0.027072137003415264,
          0.10073102005117107,
          0.09974858500936534,
          0.07605881897325162,
          0.09272696400876157,
          0.07472425396554172,
          0.091832501013414,
          0.07668091802042909,
          0.06355009402614087,
          0.10576040603336878,
          0.0889745719905477,
          6.761555281016626,
          0.10238410199235659,
          0.07656215198221616,
          0.07820998301031068,
          0.045655904032173567,
          0.10004204303550068,
          0.026537836019997485,
          0.04100289395137224,
          0.016495394986122847,
          0.06796610598394182,
          0.03834817801543977,
          0.012664790017879568,
          0.027695012991898693,
          0.08356999501120299
         ],
         "yaxis": "y6"
        },
        {
         "alignmentgroup": "True",
         "bingroup": "x",
         "histfunc": "avg",
         "hovertemplate": "Baseline=False<br>Sizes=S/L<br>Context=%{x}<br>avg of total_time=%{y}<extra></extra>",
         "legendgroup": "False",
         "marker": {
          "color": "#EF553B",
          "pattern": {
           "shape": ""
          }
         },
         "name": "False",
         "offsetgroup": "False",
         "orientation": "v",
         "showlegend": false,
         "type": "histogram",
         "x": [
          "Fully Inside Other (TRUE)",
          "Fully Inside Other (TRUE)",
          "Partial Overlap (TRUE)",
          "Partial Overlap (TRUE)",
          "Partial Overlap (TRUE)",
          "Partial Overlap (TRUE)",
          "Overlap (FALSE)",
          "Partial Overlap (TRUE)",
          "Overlap (FALSE)",
          "Overlap (FALSE)",
          "Overlap (FALSE)",
          "Overlap (FALSE)",
          "Overlap (FALSE)",
          "Overlap (FALSE)",
          "Overlap (FALSE)",
          "Partial Overlap (TRUE)",
          "Overlap (FALSE)",
          "Overlap (FALSE)",
          "Overlap (FALSE)",
          "Partial Overlap (TRUE)",
          "Overlap (FALSE)",
          "Overlap (FALSE)",
          "Partial Overlap (TRUE)",
          "Partial Overlap (TRUE)",
          "Overlap (FALSE)",
          "Partial Overlap (TRUE)",
          "Overlap (FALSE)",
          "Partial Overlap (TRUE)",
          "Overlap (FALSE)",
          "Overlap (FALSE)",
          "Overlap (FALSE)",
          "Overlap (FALSE)",
          "Partial Overlap (TRUE)",
          "Partial Overlap (TRUE)",
          "Overlap (FALSE)",
          "Overlap (FALSE)",
          "Overlap (FALSE)",
          "Overlap (FALSE)",
          "Overlap (FALSE)",
          "Overlap (FALSE)",
          "Overlap (FALSE)",
          "Overlap (FALSE)",
          "Overlap (FALSE)",
          "Overlap (FALSE)",
          "Overlap (FALSE)",
          "Overlap (FALSE)",
          "Overlap (FALSE)",
          "Overlap (FALSE)",
          "Overlap (FALSE)",
          "Overlap (FALSE)",
          "Overlap (FALSE)",
          "Overlap (FALSE)",
          "Overlap (FALSE)",
          "Overlap (FALSE)",
          "Overlap (FALSE)",
          "Overlap (FALSE)",
          "Overlap (FALSE)",
          "Overlap (FALSE)",
          "Overlap (FALSE)",
          "Overlap (FALSE)",
          "Overlap (FALSE)",
          "Overlap (FALSE)",
          "Partial Overlap (TRUE)",
          "Partial Overlap (TRUE)",
          "Partial Overlap (TRUE)",
          "Partial Overlap (TRUE)",
          "Overlap (FALSE)",
          "Overlap (FALSE)",
          "Overlap (FALSE)",
          "Overlap (FALSE)",
          "Overlap (FALSE)",
          "Partial Overlap (TRUE)",
          "Overlap (FALSE)",
          "Overlap (FALSE)",
          "Overlap (FALSE)",
          "Overlap (FALSE)",
          "Overlap (FALSE)",
          "Overlap (FALSE)",
          "Overlap (FALSE)",
          "Overlap (FALSE)",
          "Overlap (FALSE)",
          "Overlap (FALSE)",
          "Overlap (FALSE)",
          "Overlap (FALSE)",
          "Overlap (FALSE)",
          "Overlap (FALSE)",
          "Overlap (FALSE)",
          "Overlap (FALSE)",
          "Overlap (FALSE)",
          "Overlap (FALSE)",
          "Overlap (FALSE)",
          "Overlap (FALSE)",
          "Overlap (FALSE)",
          "Overlap (FALSE)",
          "Overlap (FALSE)",
          "Overlap (FALSE)",
          "Overlap (FALSE)",
          "Overlap (FALSE)",
          "Overlap (FALSE)",
          "Overlap (FALSE)",
          "Overlap (FALSE)",
          "Overlap (FALSE)",
          "Overlap (FALSE)",
          "Overlap (FALSE)",
          "Overlap (FALSE)",
          "Partial Overlap (TRUE)",
          "Overlap (FALSE)",
          "Overlap (FALSE)",
          "Overlap (FALSE)",
          "Overlap (FALSE)",
          "Overlap (FALSE)",
          "Overlap (FALSE)",
          "Overlap (FALSE)",
          "Overlap (FALSE)",
          "Overlap (FALSE)",
          "Overlap (FALSE)",
          "Overlap (FALSE)",
          "Overlap (FALSE)",
          "Overlap (FALSE)",
          "Overlap (FALSE)",
          "Overlap (FALSE)",
          "Overlap (FALSE)",
          "Overlap (FALSE)",
          "Overlap (FALSE)",
          "Overlap (FALSE)",
          "Overlap (FALSE)",
          "Overlap (FALSE)",
          "Overlap (FALSE)",
          "Overlap (FALSE)",
          "Overlap (FALSE)",
          "Overlap (FALSE)",
          "Overlap (FALSE)",
          "Overlap (FALSE)",
          "Overlap (FALSE)"
         ],
         "xaxis": "x",
         "y": [
          0.011676229987642728,
          0.011933244008105248,
          0.12468166797771119,
          0.09288070003094617,
          0.051438733949908055,
          0.06463027102290653,
          0.010661222957423888,
          0.02711193705908954,
          0.004463209013920277,
          0.13643441098975018,
          0.013405237041297369,
          0.06369891004578676,
          0.015046012980747037,
          0.011085171994636767,
          0.01114993503142614,
          0.0347979119833326,
          0.010314094004570507,
          0.00802210601978004,
          0.00803462800104171,
          0.03549899895733688,
          0.006707559936330654,
          0.005130733014084399,
          0.033443050997448154,
          0.04282400695956312,
          0.015923091006698087,
          0.04230098098923918,
          0.010650505995727144,
          0.03029256396985147,
          0.009288684988860041,
          0.01237026698072441,
          0.030385007004952058,
          0.04605605093820486,
          0.02778087901242543,
          0.0232262509962311,
          0.014813520974712446,
          0.015588641035719775,
          0.02776761598943267,
          0.01590986701194197,
          0.016371848018025048,
          0.014845093013718724,
          0.01585871602583211,
          0.014957630031858571,
          0.014574536980944686,
          0.014574544009519741,
          0.014283453972893767,
          0.015545256042969413,
          0.015040243990370072,
          0.01669101596053224,
          0.02631400598329492,
          0.02593406697269529,
          0.02649748805561103,
          0.027379966006265022,
          0.026934052046271972,
          0.015034714990179054,
          0.01638424200064037,
          0.027208253028220497,
          0.014690602984046564,
          0.010476014009327628,
          0.019269953030743636,
          0.009547841968014836,
          0.011966312042204663,
          0.010592074962914921,
          0.11024514801101759,
          0.22506787296151742,
          0.14765896399330813,
          0.03801250000833534,
          0.027785243961261585,
          0.027930749027291313,
          0.10739572200691327,
          0.029457789001753554,
          0.02841157499642577,
          0.05307242595881689,
          0.035517122014425695,
          0.03379430901259184,
          0.03460688699851744,
          0.023889036980108358,
          0.023471185020753182,
          0.024364465003600344,
          0.012350524950306863,
          0.011528468981850892,
          0.01647512002091389,
          0.01668503299879376,
          0.016396348990383558,
          0.016666921990690753,
          0.01655687599850353,
          0.016454318043543026,
          0.016606252975179814,
          0.016149597955518402,
          0.016654999999445863,
          0.01646306495240424,
          0.01673488598316908,
          0.016686792005202733,
          0.016539033022127114,
          0.016435531942988746,
          0.01666950598882977,
          0.017398272932041436,
          0.01736487602465786,
          0.017650166002567858,
          0.018899205984780565,
          0.016288970000459813,
          0.016294010943965986,
          0.01648436601681169,
          0.018193968004197814,
          0.01694286600104533,
          0.016916254011448473,
          0.02656813398061786,
          0.016518641976290382,
          0.017076506017474458,
          0.016752701994846575,
          0.016840954005601816,
          0.01650954298384022,
          0.016093341007945128,
          0.016401428991230205,
          0.01640691701322794,
          0.016439867977169342,
          0.016344069023034535,
          0.016816030954942107,
          0.017856289967312478,
          0.01653108601749409,
          0.017459319933550432,
          0.01615479902829975,
          0.016853420980623923,
          0.016574219946051016,
          0.01738508095149882,
          0.016774974996224046,
          0.017464859993197024,
          0.017507865006336942,
          0.01721003800048493,
          0.01778318996366579,
          0.01726815296569839,
          0.016831885994179174,
          0.015320267004426569,
          0.007228099988424219,
          0.007888970052590594
         ],
         "yaxis": "y"
        },
        {
         "alignmentgroup": "True",
         "bingroup": "x",
         "histfunc": "avg",
         "hovertemplate": "Baseline=False<br>Sizes=M/L<br>Context=%{x}<br>avg of total_time=%{y}<extra></extra>",
         "legendgroup": "False",
         "marker": {
          "color": "#EF553B",
          "pattern": {
           "shape": ""
          }
         },
         "name": "False",
         "offsetgroup": "False",
         "orientation": "v",
         "showlegend": false,
         "type": "histogram",
         "x": [
          "Overlap (FALSE)",
          "Overlap (FALSE)",
          "Overlap (FALSE)",
          "Overlap (FALSE)",
          "Overlap (FALSE)",
          "Overlap (FALSE)",
          "Overlap (FALSE)",
          "Overlap (FALSE)",
          "Partial Overlap (TRUE)",
          "Partial Overlap (TRUE)",
          "Overlap (FALSE)",
          "Partial Overlap (TRUE)",
          "Overlap (FALSE)",
          "Overlap (FALSE)",
          "Overlap (FALSE)",
          "Partial Overlap (TRUE)",
          "Overlap (FALSE)",
          "Overlap (FALSE)",
          "Overlap (FALSE)",
          "Overlap (FALSE)",
          "Partial Overlap (TRUE)",
          "Overlap (FALSE)",
          "Partial Overlap (TRUE)",
          "Overlap (FALSE)",
          "Overlap (FALSE)",
          "Overlap (FALSE)",
          "Overlap (FALSE)",
          "Overlap (FALSE)",
          "Overlap (FALSE)",
          "Overlap (FALSE)"
         ],
         "xaxis": "x2",
         "y": [
          0.05230299498362001,
          0.05207415700715501,
          0.05397975101368502,
          0.035257137977168895,
          0.01287416800914798,
          0.0896344219945604,
          0.08046062802895904,
          0.04630179502419196,
          0.02642999003001023,
          0.026356866001151502,
          0.010392714975751005,
          0.03677010799583513,
          0.017128818959463388,
          0.028412584942998365,
          0.029586859993287362,
          0.03441617997305002,
          0.017205028008902445,
          0.009480488006374799,
          0.006434168986743316,
          0.016695241967681795,
          0.03146002006542403,
          0.01225385899306275,
          0.052923432958777994,
          0.015560113984975033,
          0.022425171031500213,
          0.01936580700566992,
          0.02089466001780238,
          0.01955474696296733,
          0.021368588000768796,
          0.019402416015509516
         ],
         "yaxis": "y2"
        },
        {
         "alignmentgroup": "True",
         "bingroup": "x",
         "histfunc": "avg",
         "hovertemplate": "Baseline=False<br>Sizes=M/M<br>Context=%{x}<br>avg of total_time=%{y}<extra></extra>",
         "legendgroup": "False",
         "marker": {
          "color": "#EF553B",
          "pattern": {
           "shape": ""
          }
         },
         "name": "False",
         "offsetgroup": "False",
         "orientation": "v",
         "showlegend": false,
         "type": "histogram",
         "x": [
          "Overlap (FALSE)",
          "Overlap (FALSE)",
          "Overlap (FALSE)",
          "Partial Overlap (TRUE)",
          "Partial Overlap (TRUE)"
         ],
         "xaxis": "x3",
         "y": [
          0.08021301895496435,
          0.004968028995790519,
          0.005141428991919383,
          0.025758964955457486,
          0.019877536964486353
         ],
         "yaxis": "y3"
        }
       ],
       "layout": {
        "annotations": [
         {
          "showarrow": false,
          "text": "Sizes=S/L",
          "x": 0.13333333333333333,
          "xanchor": "center",
          "xref": "paper",
          "y": 0.45,
          "yanchor": "bottom",
          "yref": "paper"
         },
         {
          "showarrow": false,
          "text": "Sizes=M/L",
          "x": 0.5,
          "xanchor": "center",
          "xref": "paper",
          "y": 0.45,
          "yanchor": "bottom",
          "yref": "paper"
         },
         {
          "showarrow": false,
          "text": "Sizes=M/M",
          "x": 0.8666666666666667,
          "xanchor": "center",
          "xref": "paper",
          "y": 0.45,
          "yanchor": "bottom",
          "yref": "paper"
         },
         {
          "showarrow": false,
          "text": "Sizes=S/S",
          "x": 0.13333333333333333,
          "xanchor": "center",
          "xref": "paper",
          "y": 1,
          "yanchor": "bottom",
          "yref": "paper"
         },
         {
          "showarrow": false,
          "text": "Sizes=S/M",
          "x": 0.5,
          "xanchor": "center",
          "xref": "paper",
          "y": 1,
          "yanchor": "bottom",
          "yref": "paper"
         },
         {
          "showarrow": false,
          "text": "Sizes=L/L",
          "x": 0.8666666666666667,
          "xanchor": "center",
          "xref": "paper",
          "y": 1,
          "yanchor": "bottom",
          "yref": "paper"
         },
         {
          "font": {
           "size": 14
          },
          "showarrow": false,
          "text": "Bouning Box Context",
          "x": 0.5,
          "xanchor": "center",
          "xref": "paper",
          "y": -0.2,
          "yanchor": "top",
          "yref": "paper"
         },
         {
          "font": {
           "size": 14
          },
          "showarrow": false,
          "text": "Mean Execution Time (s)",
          "textangle": -90,
          "x": -0.04,
          "xanchor": "center",
          "xref": "paper",
          "y": 0.5,
          "yanchor": "middle",
          "yref": "paper"
         }
        ],
        "barmode": "group",
        "height": 700,
        "legend": {
         "title": {
          "text": "Baseline"
         },
         "tracegroupgap": 0
        },
        "template": {
         "data": {
          "bar": [
           {
            "error_x": {
             "color": "#2a3f5f"
            },
            "error_y": {
             "color": "#2a3f5f"
            },
            "marker": {
             "line": {
              "color": "#E5ECF6",
              "width": 0.5
             },
             "pattern": {
              "fillmode": "overlay",
              "size": 10,
              "solidity": 0.2
             }
            },
            "type": "bar"
           }
          ],
          "barpolar": [
           {
            "marker": {
             "line": {
              "color": "#E5ECF6",
              "width": 0.5
             },
             "pattern": {
              "fillmode": "overlay",
              "size": 10,
              "solidity": 0.2
             }
            },
            "type": "barpolar"
           }
          ],
          "carpet": [
           {
            "aaxis": {
             "endlinecolor": "#2a3f5f",
             "gridcolor": "white",
             "linecolor": "white",
             "minorgridcolor": "white",
             "startlinecolor": "#2a3f5f"
            },
            "baxis": {
             "endlinecolor": "#2a3f5f",
             "gridcolor": "white",
             "linecolor": "white",
             "minorgridcolor": "white",
             "startlinecolor": "#2a3f5f"
            },
            "type": "carpet"
           }
          ],
          "choropleth": [
           {
            "colorbar": {
             "outlinewidth": 0,
             "ticks": ""
            },
            "type": "choropleth"
           }
          ],
          "contour": [
           {
            "colorbar": {
             "outlinewidth": 0,
             "ticks": ""
            },
            "colorscale": [
             [
              0,
              "#0d0887"
             ],
             [
              0.1111111111111111,
              "#46039f"
             ],
             [
              0.2222222222222222,
              "#7201a8"
             ],
             [
              0.3333333333333333,
              "#9c179e"
             ],
             [
              0.4444444444444444,
              "#bd3786"
             ],
             [
              0.5555555555555556,
              "#d8576b"
             ],
             [
              0.6666666666666666,
              "#ed7953"
             ],
             [
              0.7777777777777778,
              "#fb9f3a"
             ],
             [
              0.8888888888888888,
              "#fdca26"
             ],
             [
              1,
              "#f0f921"
             ]
            ],
            "type": "contour"
           }
          ],
          "contourcarpet": [
           {
            "colorbar": {
             "outlinewidth": 0,
             "ticks": ""
            },
            "type": "contourcarpet"
           }
          ],
          "heatmap": [
           {
            "colorbar": {
             "outlinewidth": 0,
             "ticks": ""
            },
            "colorscale": [
             [
              0,
              "#0d0887"
             ],
             [
              0.1111111111111111,
              "#46039f"
             ],
             [
              0.2222222222222222,
              "#7201a8"
             ],
             [
              0.3333333333333333,
              "#9c179e"
             ],
             [
              0.4444444444444444,
              "#bd3786"
             ],
             [
              0.5555555555555556,
              "#d8576b"
             ],
             [
              0.6666666666666666,
              "#ed7953"
             ],
             [
              0.7777777777777778,
              "#fb9f3a"
             ],
             [
              0.8888888888888888,
              "#fdca26"
             ],
             [
              1,
              "#f0f921"
             ]
            ],
            "type": "heatmap"
           }
          ],
          "heatmapgl": [
           {
            "colorbar": {
             "outlinewidth": 0,
             "ticks": ""
            },
            "colorscale": [
             [
              0,
              "#0d0887"
             ],
             [
              0.1111111111111111,
              "#46039f"
             ],
             [
              0.2222222222222222,
              "#7201a8"
             ],
             [
              0.3333333333333333,
              "#9c179e"
             ],
             [
              0.4444444444444444,
              "#bd3786"
             ],
             [
              0.5555555555555556,
              "#d8576b"
             ],
             [
              0.6666666666666666,
              "#ed7953"
             ],
             [
              0.7777777777777778,
              "#fb9f3a"
             ],
             [
              0.8888888888888888,
              "#fdca26"
             ],
             [
              1,
              "#f0f921"
             ]
            ],
            "type": "heatmapgl"
           }
          ],
          "histogram": [
           {
            "marker": {
             "pattern": {
              "fillmode": "overlay",
              "size": 10,
              "solidity": 0.2
             }
            },
            "type": "histogram"
           }
          ],
          "histogram2d": [
           {
            "colorbar": {
             "outlinewidth": 0,
             "ticks": ""
            },
            "colorscale": [
             [
              0,
              "#0d0887"
             ],
             [
              0.1111111111111111,
              "#46039f"
             ],
             [
              0.2222222222222222,
              "#7201a8"
             ],
             [
              0.3333333333333333,
              "#9c179e"
             ],
             [
              0.4444444444444444,
              "#bd3786"
             ],
             [
              0.5555555555555556,
              "#d8576b"
             ],
             [
              0.6666666666666666,
              "#ed7953"
             ],
             [
              0.7777777777777778,
              "#fb9f3a"
             ],
             [
              0.8888888888888888,
              "#fdca26"
             ],
             [
              1,
              "#f0f921"
             ]
            ],
            "type": "histogram2d"
           }
          ],
          "histogram2dcontour": [
           {
            "colorbar": {
             "outlinewidth": 0,
             "ticks": ""
            },
            "colorscale": [
             [
              0,
              "#0d0887"
             ],
             [
              0.1111111111111111,
              "#46039f"
             ],
             [
              0.2222222222222222,
              "#7201a8"
             ],
             [
              0.3333333333333333,
              "#9c179e"
             ],
             [
              0.4444444444444444,
              "#bd3786"
             ],
             [
              0.5555555555555556,
              "#d8576b"
             ],
             [
              0.6666666666666666,
              "#ed7953"
             ],
             [
              0.7777777777777778,
              "#fb9f3a"
             ],
             [
              0.8888888888888888,
              "#fdca26"
             ],
             [
              1,
              "#f0f921"
             ]
            ],
            "type": "histogram2dcontour"
           }
          ],
          "mesh3d": [
           {
            "colorbar": {
             "outlinewidth": 0,
             "ticks": ""
            },
            "type": "mesh3d"
           }
          ],
          "parcoords": [
           {
            "line": {
             "colorbar": {
              "outlinewidth": 0,
              "ticks": ""
             }
            },
            "type": "parcoords"
           }
          ],
          "pie": [
           {
            "automargin": true,
            "type": "pie"
           }
          ],
          "scatter": [
           {
            "fillpattern": {
             "fillmode": "overlay",
             "size": 10,
             "solidity": 0.2
            },
            "type": "scatter"
           }
          ],
          "scatter3d": [
           {
            "line": {
             "colorbar": {
              "outlinewidth": 0,
              "ticks": ""
             }
            },
            "marker": {
             "colorbar": {
              "outlinewidth": 0,
              "ticks": ""
             }
            },
            "type": "scatter3d"
           }
          ],
          "scattercarpet": [
           {
            "marker": {
             "colorbar": {
              "outlinewidth": 0,
              "ticks": ""
             }
            },
            "type": "scattercarpet"
           }
          ],
          "scattergeo": [
           {
            "marker": {
             "colorbar": {
              "outlinewidth": 0,
              "ticks": ""
             }
            },
            "type": "scattergeo"
           }
          ],
          "scattergl": [
           {
            "marker": {
             "colorbar": {
              "outlinewidth": 0,
              "ticks": ""
             }
            },
            "type": "scattergl"
           }
          ],
          "scattermapbox": [
           {
            "marker": {
             "colorbar": {
              "outlinewidth": 0,
              "ticks": ""
             }
            },
            "type": "scattermapbox"
           }
          ],
          "scatterpolar": [
           {
            "marker": {
             "colorbar": {
              "outlinewidth": 0,
              "ticks": ""
             }
            },
            "type": "scatterpolar"
           }
          ],
          "scatterpolargl": [
           {
            "marker": {
             "colorbar": {
              "outlinewidth": 0,
              "ticks": ""
             }
            },
            "type": "scatterpolargl"
           }
          ],
          "scatterternary": [
           {
            "marker": {
             "colorbar": {
              "outlinewidth": 0,
              "ticks": ""
             }
            },
            "type": "scatterternary"
           }
          ],
          "surface": [
           {
            "colorbar": {
             "outlinewidth": 0,
             "ticks": ""
            },
            "colorscale": [
             [
              0,
              "#0d0887"
             ],
             [
              0.1111111111111111,
              "#46039f"
             ],
             [
              0.2222222222222222,
              "#7201a8"
             ],
             [
              0.3333333333333333,
              "#9c179e"
             ],
             [
              0.4444444444444444,
              "#bd3786"
             ],
             [
              0.5555555555555556,
              "#d8576b"
             ],
             [
              0.6666666666666666,
              "#ed7953"
             ],
             [
              0.7777777777777778,
              "#fb9f3a"
             ],
             [
              0.8888888888888888,
              "#fdca26"
             ],
             [
              1,
              "#f0f921"
             ]
            ],
            "type": "surface"
           }
          ],
          "table": [
           {
            "cells": {
             "fill": {
              "color": "#EBF0F8"
             },
             "line": {
              "color": "white"
             }
            },
            "header": {
             "fill": {
              "color": "#C8D4E3"
             },
             "line": {
              "color": "white"
             }
            },
            "type": "table"
           }
          ]
         },
         "layout": {
          "annotationdefaults": {
           "arrowcolor": "#2a3f5f",
           "arrowhead": 0,
           "arrowwidth": 1
          },
          "autotypenumbers": "strict",
          "coloraxis": {
           "colorbar": {
            "outlinewidth": 0,
            "ticks": ""
           }
          },
          "colorscale": {
           "diverging": [
            [
             0,
             "#8e0152"
            ],
            [
             0.1,
             "#c51b7d"
            ],
            [
             0.2,
             "#de77ae"
            ],
            [
             0.3,
             "#f1b6da"
            ],
            [
             0.4,
             "#fde0ef"
            ],
            [
             0.5,
             "#f7f7f7"
            ],
            [
             0.6,
             "#e6f5d0"
            ],
            [
             0.7,
             "#b8e186"
            ],
            [
             0.8,
             "#7fbc41"
            ],
            [
             0.9,
             "#4d9221"
            ],
            [
             1,
             "#276419"
            ]
           ],
           "sequential": [
            [
             0,
             "#0d0887"
            ],
            [
             0.1111111111111111,
             "#46039f"
            ],
            [
             0.2222222222222222,
             "#7201a8"
            ],
            [
             0.3333333333333333,
             "#9c179e"
            ],
            [
             0.4444444444444444,
             "#bd3786"
            ],
            [
             0.5555555555555556,
             "#d8576b"
            ],
            [
             0.6666666666666666,
             "#ed7953"
            ],
            [
             0.7777777777777778,
             "#fb9f3a"
            ],
            [
             0.8888888888888888,
             "#fdca26"
            ],
            [
             1,
             "#f0f921"
            ]
           ],
           "sequentialminus": [
            [
             0,
             "#0d0887"
            ],
            [
             0.1111111111111111,
             "#46039f"
            ],
            [
             0.2222222222222222,
             "#7201a8"
            ],
            [
             0.3333333333333333,
             "#9c179e"
            ],
            [
             0.4444444444444444,
             "#bd3786"
            ],
            [
             0.5555555555555556,
             "#d8576b"
            ],
            [
             0.6666666666666666,
             "#ed7953"
            ],
            [
             0.7777777777777778,
             "#fb9f3a"
            ],
            [
             0.8888888888888888,
             "#fdca26"
            ],
            [
             1,
             "#f0f921"
            ]
           ]
          },
          "colorway": [
           "#636efa",
           "#EF553B",
           "#00cc96",
           "#ab63fa",
           "#FFA15A",
           "#19d3f3",
           "#FF6692",
           "#B6E880",
           "#FF97FF",
           "#FECB52"
          ],
          "font": {
           "color": "#2a3f5f"
          },
          "geo": {
           "bgcolor": "white",
           "lakecolor": "white",
           "landcolor": "#E5ECF6",
           "showlakes": true,
           "showland": true,
           "subunitcolor": "white"
          },
          "hoverlabel": {
           "align": "left"
          },
          "hovermode": "closest",
          "mapbox": {
           "style": "light"
          },
          "paper_bgcolor": "white",
          "plot_bgcolor": "#E5ECF6",
          "polar": {
           "angularaxis": {
            "gridcolor": "white",
            "linecolor": "white",
            "ticks": ""
           },
           "bgcolor": "#E5ECF6",
           "radialaxis": {
            "gridcolor": "white",
            "linecolor": "white",
            "ticks": ""
           }
          },
          "scene": {
           "xaxis": {
            "backgroundcolor": "#E5ECF6",
            "gridcolor": "white",
            "gridwidth": 2,
            "linecolor": "white",
            "showbackground": true,
            "ticks": "",
            "zerolinecolor": "white"
           },
           "yaxis": {
            "backgroundcolor": "#E5ECF6",
            "gridcolor": "white",
            "gridwidth": 2,
            "linecolor": "white",
            "showbackground": true,
            "ticks": "",
            "zerolinecolor": "white"
           },
           "zaxis": {
            "backgroundcolor": "#E5ECF6",
            "gridcolor": "white",
            "gridwidth": 2,
            "linecolor": "white",
            "showbackground": true,
            "ticks": "",
            "zerolinecolor": "white"
           }
          },
          "shapedefaults": {
           "line": {
            "color": "#2a3f5f"
           }
          },
          "ternary": {
           "aaxis": {
            "gridcolor": "white",
            "linecolor": "white",
            "ticks": ""
           },
           "baxis": {
            "gridcolor": "white",
            "linecolor": "white",
            "ticks": ""
           },
           "bgcolor": "#E5ECF6",
           "caxis": {
            "gridcolor": "white",
            "linecolor": "white",
            "ticks": ""
           }
          },
          "title": {
           "x": 0.05
          },
          "xaxis": {
           "automargin": true,
           "gridcolor": "white",
           "linecolor": "white",
           "ticks": "",
           "title": {
            "standoff": 15
           },
           "zerolinecolor": "white",
           "zerolinewidth": 2
          },
          "yaxis": {
           "automargin": true,
           "gridcolor": "white",
           "linecolor": "white",
           "ticks": "",
           "title": {
            "standoff": 15
           },
           "zerolinecolor": "white",
           "zerolinewidth": 2
          }
         }
        },
        "title": {
         "text": "Execution Time for Intersection in Different Contexts & Sizes"
        },
        "xaxis": {
         "anchor": "y",
         "domain": [
          0,
          0.26666666666666666
         ],
         "title": {
          "text": ""
         }
        },
        "xaxis2": {
         "anchor": "y2",
         "domain": [
          0.3666666666666667,
          0.6333333333333333
         ],
         "matches": "x",
         "title": {
          "text": ""
         }
        },
        "xaxis3": {
         "anchor": "y3",
         "domain": [
          0.7333333333333334,
          1
         ],
         "matches": "x",
         "title": {
          "text": ""
         }
        },
        "xaxis4": {
         "anchor": "y4",
         "domain": [
          0,
          0.26666666666666666
         ],
         "matches": "x",
         "showticklabels": false,
         "title": {
          "text": ""
         }
        },
        "xaxis5": {
         "anchor": "y5",
         "domain": [
          0.3666666666666667,
          0.6333333333333333
         ],
         "matches": "x",
         "showticklabels": false,
         "title": {
          "text": ""
         }
        },
        "xaxis6": {
         "anchor": "y6",
         "domain": [
          0.7333333333333334,
          1
         ],
         "matches": "x",
         "showticklabels": false,
         "title": {
          "text": ""
         }
        },
        "yaxis": {
         "anchor": "x",
         "domain": [
          0,
          0.45
         ],
         "showticklabels": true,
         "title": {
          "text": ""
         },
         "visible": true
        },
        "yaxis2": {
         "anchor": "x2",
         "domain": [
          0,
          0.45
         ],
         "showticklabels": true,
         "title": {
          "text": ""
         },
         "visible": true
        },
        "yaxis3": {
         "anchor": "x3",
         "domain": [
          0,
          0.45
         ],
         "showticklabels": true,
         "title": {
          "text": ""
         },
         "visible": true
        },
        "yaxis4": {
         "anchor": "x4",
         "domain": [
          0.55,
          1
         ],
         "showticklabels": true,
         "title": {
          "text": ""
         },
         "visible": true
        },
        "yaxis5": {
         "anchor": "x5",
         "domain": [
          0.55,
          1
         ],
         "showticklabels": true,
         "title": {
          "text": ""
         },
         "visible": true
        },
        "yaxis6": {
         "anchor": "x6",
         "domain": [
          0.55,
          1
         ],
         "showticklabels": true,
         "title": {
          "text": ""
         },
         "visible": true
        }
       }
      }
     },
     "metadata": {},
     "output_type": "display_data"
    }
   ],
   "source": [
    "plot_total_time_box(total_time_df, is_predicate=False, size_cat_excl=[], log_scale=False) #\n",
    "plot_total_time_bars(total_time_df, is_predicate=False, size_cat_excl=[], log_scale=False) #"
   ]
  },
  {
   "attachments": {},
   "cell_type": "markdown",
   "metadata": {},
   "source": [
    "#### (%) Unfolding of chunks"
   ]
  },
  {
   "cell_type": "code",
   "execution_count": null,
   "metadata": {},
   "outputs": [
    {
     "data": {
      "application/vnd.plotly.v1+json": {
       "config": {
        "plotlyServerURL": "https://plot.ly"
       },
       "data": [
        {
         "name": "Chunk Fraction Unfolded",
         "orientation": "h",
         "type": "bar",
         "x": [
          0.7352941176470588,
          6.315789473684211,
          29.278445883441258,
          0.0938469898244946,
          0.26887870012435533,
          19.28571428571429,
          0.17595889849113305,
          0.5023310023310023,
          6.070069058227816,
          14.945474975542869,
          2.0781503368225764,
          3.5073710073710074,
          5.187194726154547,
          5.692241422259614,
          43.34092399339838
         ],
         "y": [
          [
           "Fully Inside Other (TRUE)",
           "Fully Inside Other (TRUE)",
           "Fully Inside Other (TRUE)",
           "Overlap (FALSE)",
           "Overlap (FALSE)",
           "Overlap (FALSE)",
           "Overlap (FALSE)",
           "Overlap (FALSE)",
           "Overlap (FALSE)",
           "Partial Overlap (TRUE)",
           "Partial Overlap (TRUE)",
           "Partial Overlap (TRUE)",
           "Partial Overlap (TRUE)",
           "Partial Overlap (TRUE)",
           "Partial Overlap (TRUE)"
          ],
          [
           "S/L",
           "S/M",
           "S/S",
           "L/L",
           "M/L",
           "M/M",
           "S/L",
           "S/M",
           "S/S",
           "L/L",
           "M/L",
           "M/M",
           "S/L",
           "S/M",
           "S/S"
          ]
         ]
        }
       ],
       "layout": {
        "barmode": "relative",
        "template": {
         "data": {
          "bar": [
           {
            "error_x": {
             "color": "#2a3f5f"
            },
            "error_y": {
             "color": "#2a3f5f"
            },
            "marker": {
             "line": {
              "color": "#E5ECF6",
              "width": 0.5
             },
             "pattern": {
              "fillmode": "overlay",
              "size": 10,
              "solidity": 0.2
             }
            },
            "type": "bar"
           }
          ],
          "barpolar": [
           {
            "marker": {
             "line": {
              "color": "#E5ECF6",
              "width": 0.5
             },
             "pattern": {
              "fillmode": "overlay",
              "size": 10,
              "solidity": 0.2
             }
            },
            "type": "barpolar"
           }
          ],
          "carpet": [
           {
            "aaxis": {
             "endlinecolor": "#2a3f5f",
             "gridcolor": "white",
             "linecolor": "white",
             "minorgridcolor": "white",
             "startlinecolor": "#2a3f5f"
            },
            "baxis": {
             "endlinecolor": "#2a3f5f",
             "gridcolor": "white",
             "linecolor": "white",
             "minorgridcolor": "white",
             "startlinecolor": "#2a3f5f"
            },
            "type": "carpet"
           }
          ],
          "choropleth": [
           {
            "colorbar": {
             "outlinewidth": 0,
             "ticks": ""
            },
            "type": "choropleth"
           }
          ],
          "contour": [
           {
            "colorbar": {
             "outlinewidth": 0,
             "ticks": ""
            },
            "colorscale": [
             [
              0,
              "#0d0887"
             ],
             [
              0.1111111111111111,
              "#46039f"
             ],
             [
              0.2222222222222222,
              "#7201a8"
             ],
             [
              0.3333333333333333,
              "#9c179e"
             ],
             [
              0.4444444444444444,
              "#bd3786"
             ],
             [
              0.5555555555555556,
              "#d8576b"
             ],
             [
              0.6666666666666666,
              "#ed7953"
             ],
             [
              0.7777777777777778,
              "#fb9f3a"
             ],
             [
              0.8888888888888888,
              "#fdca26"
             ],
             [
              1,
              "#f0f921"
             ]
            ],
            "type": "contour"
           }
          ],
          "contourcarpet": [
           {
            "colorbar": {
             "outlinewidth": 0,
             "ticks": ""
            },
            "type": "contourcarpet"
           }
          ],
          "heatmap": [
           {
            "colorbar": {
             "outlinewidth": 0,
             "ticks": ""
            },
            "colorscale": [
             [
              0,
              "#0d0887"
             ],
             [
              0.1111111111111111,
              "#46039f"
             ],
             [
              0.2222222222222222,
              "#7201a8"
             ],
             [
              0.3333333333333333,
              "#9c179e"
             ],
             [
              0.4444444444444444,
              "#bd3786"
             ],
             [
              0.5555555555555556,
              "#d8576b"
             ],
             [
              0.6666666666666666,
              "#ed7953"
             ],
             [
              0.7777777777777778,
              "#fb9f3a"
             ],
             [
              0.8888888888888888,
              "#fdca26"
             ],
             [
              1,
              "#f0f921"
             ]
            ],
            "type": "heatmap"
           }
          ],
          "heatmapgl": [
           {
            "colorbar": {
             "outlinewidth": 0,
             "ticks": ""
            },
            "colorscale": [
             [
              0,
              "#0d0887"
             ],
             [
              0.1111111111111111,
              "#46039f"
             ],
             [
              0.2222222222222222,
              "#7201a8"
             ],
             [
              0.3333333333333333,
              "#9c179e"
             ],
             [
              0.4444444444444444,
              "#bd3786"
             ],
             [
              0.5555555555555556,
              "#d8576b"
             ],
             [
              0.6666666666666666,
              "#ed7953"
             ],
             [
              0.7777777777777778,
              "#fb9f3a"
             ],
             [
              0.8888888888888888,
              "#fdca26"
             ],
             [
              1,
              "#f0f921"
             ]
            ],
            "type": "heatmapgl"
           }
          ],
          "histogram": [
           {
            "marker": {
             "pattern": {
              "fillmode": "overlay",
              "size": 10,
              "solidity": 0.2
             }
            },
            "type": "histogram"
           }
          ],
          "histogram2d": [
           {
            "colorbar": {
             "outlinewidth": 0,
             "ticks": ""
            },
            "colorscale": [
             [
              0,
              "#0d0887"
             ],
             [
              0.1111111111111111,
              "#46039f"
             ],
             [
              0.2222222222222222,
              "#7201a8"
             ],
             [
              0.3333333333333333,
              "#9c179e"
             ],
             [
              0.4444444444444444,
              "#bd3786"
             ],
             [
              0.5555555555555556,
              "#d8576b"
             ],
             [
              0.6666666666666666,
              "#ed7953"
             ],
             [
              0.7777777777777778,
              "#fb9f3a"
             ],
             [
              0.8888888888888888,
              "#fdca26"
             ],
             [
              1,
              "#f0f921"
             ]
            ],
            "type": "histogram2d"
           }
          ],
          "histogram2dcontour": [
           {
            "colorbar": {
             "outlinewidth": 0,
             "ticks": ""
            },
            "colorscale": [
             [
              0,
              "#0d0887"
             ],
             [
              0.1111111111111111,
              "#46039f"
             ],
             [
              0.2222222222222222,
              "#7201a8"
             ],
             [
              0.3333333333333333,
              "#9c179e"
             ],
             [
              0.4444444444444444,
              "#bd3786"
             ],
             [
              0.5555555555555556,
              "#d8576b"
             ],
             [
              0.6666666666666666,
              "#ed7953"
             ],
             [
              0.7777777777777778,
              "#fb9f3a"
             ],
             [
              0.8888888888888888,
              "#fdca26"
             ],
             [
              1,
              "#f0f921"
             ]
            ],
            "type": "histogram2dcontour"
           }
          ],
          "mesh3d": [
           {
            "colorbar": {
             "outlinewidth": 0,
             "ticks": ""
            },
            "type": "mesh3d"
           }
          ],
          "parcoords": [
           {
            "line": {
             "colorbar": {
              "outlinewidth": 0,
              "ticks": ""
             }
            },
            "type": "parcoords"
           }
          ],
          "pie": [
           {
            "automargin": true,
            "type": "pie"
           }
          ],
          "scatter": [
           {
            "fillpattern": {
             "fillmode": "overlay",
             "size": 10,
             "solidity": 0.2
            },
            "type": "scatter"
           }
          ],
          "scatter3d": [
           {
            "line": {
             "colorbar": {
              "outlinewidth": 0,
              "ticks": ""
             }
            },
            "marker": {
             "colorbar": {
              "outlinewidth": 0,
              "ticks": ""
             }
            },
            "type": "scatter3d"
           }
          ],
          "scattercarpet": [
           {
            "marker": {
             "colorbar": {
              "outlinewidth": 0,
              "ticks": ""
             }
            },
            "type": "scattercarpet"
           }
          ],
          "scattergeo": [
           {
            "marker": {
             "colorbar": {
              "outlinewidth": 0,
              "ticks": ""
             }
            },
            "type": "scattergeo"
           }
          ],
          "scattergl": [
           {
            "marker": {
             "colorbar": {
              "outlinewidth": 0,
              "ticks": ""
             }
            },
            "type": "scattergl"
           }
          ],
          "scattermapbox": [
           {
            "marker": {
             "colorbar": {
              "outlinewidth": 0,
              "ticks": ""
             }
            },
            "type": "scattermapbox"
           }
          ],
          "scatterpolar": [
           {
            "marker": {
             "colorbar": {
              "outlinewidth": 0,
              "ticks": ""
             }
            },
            "type": "scatterpolar"
           }
          ],
          "scatterpolargl": [
           {
            "marker": {
             "colorbar": {
              "outlinewidth": 0,
              "ticks": ""
             }
            },
            "type": "scatterpolargl"
           }
          ],
          "scatterternary": [
           {
            "marker": {
             "colorbar": {
              "outlinewidth": 0,
              "ticks": ""
             }
            },
            "type": "scatterternary"
           }
          ],
          "surface": [
           {
            "colorbar": {
             "outlinewidth": 0,
             "ticks": ""
            },
            "colorscale": [
             [
              0,
              "#0d0887"
             ],
             [
              0.1111111111111111,
              "#46039f"
             ],
             [
              0.2222222222222222,
              "#7201a8"
             ],
             [
              0.3333333333333333,
              "#9c179e"
             ],
             [
              0.4444444444444444,
              "#bd3786"
             ],
             [
              0.5555555555555556,
              "#d8576b"
             ],
             [
              0.6666666666666666,
              "#ed7953"
             ],
             [
              0.7777777777777778,
              "#fb9f3a"
             ],
             [
              0.8888888888888888,
              "#fdca26"
             ],
             [
              1,
              "#f0f921"
             ]
            ],
            "type": "surface"
           }
          ],
          "table": [
           {
            "cells": {
             "fill": {
              "color": "#EBF0F8"
             },
             "line": {
              "color": "white"
             }
            },
            "header": {
             "fill": {
              "color": "#C8D4E3"
             },
             "line": {
              "color": "white"
             }
            },
            "type": "table"
           }
          ]
         },
         "layout": {
          "annotationdefaults": {
           "arrowcolor": "#2a3f5f",
           "arrowhead": 0,
           "arrowwidth": 1
          },
          "autotypenumbers": "strict",
          "coloraxis": {
           "colorbar": {
            "outlinewidth": 0,
            "ticks": ""
           }
          },
          "colorscale": {
           "diverging": [
            [
             0,
             "#8e0152"
            ],
            [
             0.1,
             "#c51b7d"
            ],
            [
             0.2,
             "#de77ae"
            ],
            [
             0.3,
             "#f1b6da"
            ],
            [
             0.4,
             "#fde0ef"
            ],
            [
             0.5,
             "#f7f7f7"
            ],
            [
             0.6,
             "#e6f5d0"
            ],
            [
             0.7,
             "#b8e186"
            ],
            [
             0.8,
             "#7fbc41"
            ],
            [
             0.9,
             "#4d9221"
            ],
            [
             1,
             "#276419"
            ]
           ],
           "sequential": [
            [
             0,
             "#0d0887"
            ],
            [
             0.1111111111111111,
             "#46039f"
            ],
            [
             0.2222222222222222,
             "#7201a8"
            ],
            [
             0.3333333333333333,
             "#9c179e"
            ],
            [
             0.4444444444444444,
             "#bd3786"
            ],
            [
             0.5555555555555556,
             "#d8576b"
            ],
            [
             0.6666666666666666,
             "#ed7953"
            ],
            [
             0.7777777777777778,
             "#fb9f3a"
            ],
            [
             0.8888888888888888,
             "#fdca26"
            ],
            [
             1,
             "#f0f921"
            ]
           ],
           "sequentialminus": [
            [
             0,
             "#0d0887"
            ],
            [
             0.1111111111111111,
             "#46039f"
            ],
            [
             0.2222222222222222,
             "#7201a8"
            ],
            [
             0.3333333333333333,
             "#9c179e"
            ],
            [
             0.4444444444444444,
             "#bd3786"
            ],
            [
             0.5555555555555556,
             "#d8576b"
            ],
            [
             0.6666666666666666,
             "#ed7953"
            ],
            [
             0.7777777777777778,
             "#fb9f3a"
            ],
            [
             0.8888888888888888,
             "#fdca26"
            ],
            [
             1,
             "#f0f921"
            ]
           ]
          },
          "colorway": [
           "#636efa",
           "#EF553B",
           "#00cc96",
           "#ab63fa",
           "#FFA15A",
           "#19d3f3",
           "#FF6692",
           "#B6E880",
           "#FF97FF",
           "#FECB52"
          ],
          "font": {
           "color": "#2a3f5f"
          },
          "geo": {
           "bgcolor": "white",
           "lakecolor": "white",
           "landcolor": "#E5ECF6",
           "showlakes": true,
           "showland": true,
           "subunitcolor": "white"
          },
          "hoverlabel": {
           "align": "left"
          },
          "hovermode": "closest",
          "mapbox": {
           "style": "light"
          },
          "paper_bgcolor": "white",
          "plot_bgcolor": "#E5ECF6",
          "polar": {
           "angularaxis": {
            "gridcolor": "white",
            "linecolor": "white",
            "ticks": ""
           },
           "bgcolor": "#E5ECF6",
           "radialaxis": {
            "gridcolor": "white",
            "linecolor": "white",
            "ticks": ""
           }
          },
          "scene": {
           "xaxis": {
            "backgroundcolor": "#E5ECF6",
            "gridcolor": "white",
            "gridwidth": 2,
            "linecolor": "white",
            "showbackground": true,
            "ticks": "",
            "zerolinecolor": "white"
           },
           "yaxis": {
            "backgroundcolor": "#E5ECF6",
            "gridcolor": "white",
            "gridwidth": 2,
            "linecolor": "white",
            "showbackground": true,
            "ticks": "",
            "zerolinecolor": "white"
           },
           "zaxis": {
            "backgroundcolor": "#E5ECF6",
            "gridcolor": "white",
            "gridwidth": 2,
            "linecolor": "white",
            "showbackground": true,
            "ticks": "",
            "zerolinecolor": "white"
           }
          },
          "shapedefaults": {
           "line": {
            "color": "#2a3f5f"
           }
          },
          "ternary": {
           "aaxis": {
            "gridcolor": "white",
            "linecolor": "white",
            "ticks": ""
           },
           "baxis": {
            "gridcolor": "white",
            "linecolor": "white",
            "ticks": ""
           },
           "bgcolor": "#E5ECF6",
           "caxis": {
            "gridcolor": "white",
            "linecolor": "white",
            "ticks": ""
           }
          },
          "title": {
           "x": 0.05
          },
          "xaxis": {
           "automargin": true,
           "gridcolor": "white",
           "linecolor": "white",
           "ticks": "",
           "title": {
            "standoff": 15
           },
           "zerolinecolor": "white",
           "zerolinewidth": 2
          },
          "yaxis": {
           "automargin": true,
           "gridcolor": "white",
           "linecolor": "white",
           "ticks": "",
           "title": {
            "standoff": 15
           },
           "zerolinecolor": "white",
           "zerolinewidth": 2
          }
         }
        },
        "title": {
         "text": "Fraction of Chunks Unfolded for Intersection ",
         "x": 0.5
        },
        "xaxis": {
         "title": {
          "text": "Chunks Unfolded (%)"
         }
        },
        "yaxis": {
         "title": {
          "text": "Context + Geometry Size"
         }
        }
       }
      }
     },
     "metadata": {},
     "output_type": "display_data"
    },
    {
     "data": {
      "application/vnd.plotly.v1+json": {
       "config": {
        "plotlyServerURL": "https://plot.ly"
       },
       "data": [
        {
         "name": "Chunk Fraction Unfolded",
         "orientation": "h",
         "type": "bar",
         "x": [
          0.7352941176470588,
          6.315789473684211,
          29.278445883441258,
          0.0938469898244946,
          0.26887870012435533,
          19.28571428571429,
          0.17595889849113305,
          0.5023310023310023,
          6.070069058227816,
          13.706175218237497,
          2.0781503368225764,
          3.5073710073710074,
          5.11579483713525,
          5.598608463458116,
          39.5347590695864
         ],
         "y": [
          [
           "Fully Inside Other (TRUE)",
           "Fully Inside Other (TRUE)",
           "Fully Inside Other (TRUE)",
           "Overlap (FALSE)",
           "Overlap (FALSE)",
           "Overlap (FALSE)",
           "Overlap (FALSE)",
           "Overlap (FALSE)",
           "Overlap (FALSE)",
           "Partial Overlap (TRUE)",
           "Partial Overlap (TRUE)",
           "Partial Overlap (TRUE)",
           "Partial Overlap (TRUE)",
           "Partial Overlap (TRUE)",
           "Partial Overlap (TRUE)"
          ],
          [
           "S/L",
           "S/M",
           "S/S",
           "L/L",
           "M/L",
           "M/M",
           "S/L",
           "S/M",
           "S/S",
           "L/L",
           "M/L",
           "M/M",
           "S/L",
           "S/M",
           "S/S"
          ]
         ]
        }
       ],
       "layout": {
        "barmode": "relative",
        "template": {
         "data": {
          "bar": [
           {
            "error_x": {
             "color": "#2a3f5f"
            },
            "error_y": {
             "color": "#2a3f5f"
            },
            "marker": {
             "line": {
              "color": "#E5ECF6",
              "width": 0.5
             },
             "pattern": {
              "fillmode": "overlay",
              "size": 10,
              "solidity": 0.2
             }
            },
            "type": "bar"
           }
          ],
          "barpolar": [
           {
            "marker": {
             "line": {
              "color": "#E5ECF6",
              "width": 0.5
             },
             "pattern": {
              "fillmode": "overlay",
              "size": 10,
              "solidity": 0.2
             }
            },
            "type": "barpolar"
           }
          ],
          "carpet": [
           {
            "aaxis": {
             "endlinecolor": "#2a3f5f",
             "gridcolor": "white",
             "linecolor": "white",
             "minorgridcolor": "white",
             "startlinecolor": "#2a3f5f"
            },
            "baxis": {
             "endlinecolor": "#2a3f5f",
             "gridcolor": "white",
             "linecolor": "white",
             "minorgridcolor": "white",
             "startlinecolor": "#2a3f5f"
            },
            "type": "carpet"
           }
          ],
          "choropleth": [
           {
            "colorbar": {
             "outlinewidth": 0,
             "ticks": ""
            },
            "type": "choropleth"
           }
          ],
          "contour": [
           {
            "colorbar": {
             "outlinewidth": 0,
             "ticks": ""
            },
            "colorscale": [
             [
              0,
              "#0d0887"
             ],
             [
              0.1111111111111111,
              "#46039f"
             ],
             [
              0.2222222222222222,
              "#7201a8"
             ],
             [
              0.3333333333333333,
              "#9c179e"
             ],
             [
              0.4444444444444444,
              "#bd3786"
             ],
             [
              0.5555555555555556,
              "#d8576b"
             ],
             [
              0.6666666666666666,
              "#ed7953"
             ],
             [
              0.7777777777777778,
              "#fb9f3a"
             ],
             [
              0.8888888888888888,
              "#fdca26"
             ],
             [
              1,
              "#f0f921"
             ]
            ],
            "type": "contour"
           }
          ],
          "contourcarpet": [
           {
            "colorbar": {
             "outlinewidth": 0,
             "ticks": ""
            },
            "type": "contourcarpet"
           }
          ],
          "heatmap": [
           {
            "colorbar": {
             "outlinewidth": 0,
             "ticks": ""
            },
            "colorscale": [
             [
              0,
              "#0d0887"
             ],
             [
              0.1111111111111111,
              "#46039f"
             ],
             [
              0.2222222222222222,
              "#7201a8"
             ],
             [
              0.3333333333333333,
              "#9c179e"
             ],
             [
              0.4444444444444444,
              "#bd3786"
             ],
             [
              0.5555555555555556,
              "#d8576b"
             ],
             [
              0.6666666666666666,
              "#ed7953"
             ],
             [
              0.7777777777777778,
              "#fb9f3a"
             ],
             [
              0.8888888888888888,
              "#fdca26"
             ],
             [
              1,
              "#f0f921"
             ]
            ],
            "type": "heatmap"
           }
          ],
          "heatmapgl": [
           {
            "colorbar": {
             "outlinewidth": 0,
             "ticks": ""
            },
            "colorscale": [
             [
              0,
              "#0d0887"
             ],
             [
              0.1111111111111111,
              "#46039f"
             ],
             [
              0.2222222222222222,
              "#7201a8"
             ],
             [
              0.3333333333333333,
              "#9c179e"
             ],
             [
              0.4444444444444444,
              "#bd3786"
             ],
             [
              0.5555555555555556,
              "#d8576b"
             ],
             [
              0.6666666666666666,
              "#ed7953"
             ],
             [
              0.7777777777777778,
              "#fb9f3a"
             ],
             [
              0.8888888888888888,
              "#fdca26"
             ],
             [
              1,
              "#f0f921"
             ]
            ],
            "type": "heatmapgl"
           }
          ],
          "histogram": [
           {
            "marker": {
             "pattern": {
              "fillmode": "overlay",
              "size": 10,
              "solidity": 0.2
             }
            },
            "type": "histogram"
           }
          ],
          "histogram2d": [
           {
            "colorbar": {
             "outlinewidth": 0,
             "ticks": ""
            },
            "colorscale": [
             [
              0,
              "#0d0887"
             ],
             [
              0.1111111111111111,
              "#46039f"
             ],
             [
              0.2222222222222222,
              "#7201a8"
             ],
             [
              0.3333333333333333,
              "#9c179e"
             ],
             [
              0.4444444444444444,
              "#bd3786"
             ],
             [
              0.5555555555555556,
              "#d8576b"
             ],
             [
              0.6666666666666666,
              "#ed7953"
             ],
             [
              0.7777777777777778,
              "#fb9f3a"
             ],
             [
              0.8888888888888888,
              "#fdca26"
             ],
             [
              1,
              "#f0f921"
             ]
            ],
            "type": "histogram2d"
           }
          ],
          "histogram2dcontour": [
           {
            "colorbar": {
             "outlinewidth": 0,
             "ticks": ""
            },
            "colorscale": [
             [
              0,
              "#0d0887"
             ],
             [
              0.1111111111111111,
              "#46039f"
             ],
             [
              0.2222222222222222,
              "#7201a8"
             ],
             [
              0.3333333333333333,
              "#9c179e"
             ],
             [
              0.4444444444444444,
              "#bd3786"
             ],
             [
              0.5555555555555556,
              "#d8576b"
             ],
             [
              0.6666666666666666,
              "#ed7953"
             ],
             [
              0.7777777777777778,
              "#fb9f3a"
             ],
             [
              0.8888888888888888,
              "#fdca26"
             ],
             [
              1,
              "#f0f921"
             ]
            ],
            "type": "histogram2dcontour"
           }
          ],
          "mesh3d": [
           {
            "colorbar": {
             "outlinewidth": 0,
             "ticks": ""
            },
            "type": "mesh3d"
           }
          ],
          "parcoords": [
           {
            "line": {
             "colorbar": {
              "outlinewidth": 0,
              "ticks": ""
             }
            },
            "type": "parcoords"
           }
          ],
          "pie": [
           {
            "automargin": true,
            "type": "pie"
           }
          ],
          "scatter": [
           {
            "fillpattern": {
             "fillmode": "overlay",
             "size": 10,
             "solidity": 0.2
            },
            "type": "scatter"
           }
          ],
          "scatter3d": [
           {
            "line": {
             "colorbar": {
              "outlinewidth": 0,
              "ticks": ""
             }
            },
            "marker": {
             "colorbar": {
              "outlinewidth": 0,
              "ticks": ""
             }
            },
            "type": "scatter3d"
           }
          ],
          "scattercarpet": [
           {
            "marker": {
             "colorbar": {
              "outlinewidth": 0,
              "ticks": ""
             }
            },
            "type": "scattercarpet"
           }
          ],
          "scattergeo": [
           {
            "marker": {
             "colorbar": {
              "outlinewidth": 0,
              "ticks": ""
             }
            },
            "type": "scattergeo"
           }
          ],
          "scattergl": [
           {
            "marker": {
             "colorbar": {
              "outlinewidth": 0,
              "ticks": ""
             }
            },
            "type": "scattergl"
           }
          ],
          "scattermapbox": [
           {
            "marker": {
             "colorbar": {
              "outlinewidth": 0,
              "ticks": ""
             }
            },
            "type": "scattermapbox"
           }
          ],
          "scatterpolar": [
           {
            "marker": {
             "colorbar": {
              "outlinewidth": 0,
              "ticks": ""
             }
            },
            "type": "scatterpolar"
           }
          ],
          "scatterpolargl": [
           {
            "marker": {
             "colorbar": {
              "outlinewidth": 0,
              "ticks": ""
             }
            },
            "type": "scatterpolargl"
           }
          ],
          "scatterternary": [
           {
            "marker": {
             "colorbar": {
              "outlinewidth": 0,
              "ticks": ""
             }
            },
            "type": "scatterternary"
           }
          ],
          "surface": [
           {
            "colorbar": {
             "outlinewidth": 0,
             "ticks": ""
            },
            "colorscale": [
             [
              0,
              "#0d0887"
             ],
             [
              0.1111111111111111,
              "#46039f"
             ],
             [
              0.2222222222222222,
              "#7201a8"
             ],
             [
              0.3333333333333333,
              "#9c179e"
             ],
             [
              0.4444444444444444,
              "#bd3786"
             ],
             [
              0.5555555555555556,
              "#d8576b"
             ],
             [
              0.6666666666666666,
              "#ed7953"
             ],
             [
              0.7777777777777778,
              "#fb9f3a"
             ],
             [
              0.8888888888888888,
              "#fdca26"
             ],
             [
              1,
              "#f0f921"
             ]
            ],
            "type": "surface"
           }
          ],
          "table": [
           {
            "cells": {
             "fill": {
              "color": "#EBF0F8"
             },
             "line": {
              "color": "white"
             }
            },
            "header": {
             "fill": {
              "color": "#C8D4E3"
             },
             "line": {
              "color": "white"
             }
            },
            "type": "table"
           }
          ]
         },
         "layout": {
          "annotationdefaults": {
           "arrowcolor": "#2a3f5f",
           "arrowhead": 0,
           "arrowwidth": 1
          },
          "autotypenumbers": "strict",
          "coloraxis": {
           "colorbar": {
            "outlinewidth": 0,
            "ticks": ""
           }
          },
          "colorscale": {
           "diverging": [
            [
             0,
             "#8e0152"
            ],
            [
             0.1,
             "#c51b7d"
            ],
            [
             0.2,
             "#de77ae"
            ],
            [
             0.3,
             "#f1b6da"
            ],
            [
             0.4,
             "#fde0ef"
            ],
            [
             0.5,
             "#f7f7f7"
            ],
            [
             0.6,
             "#e6f5d0"
            ],
            [
             0.7,
             "#b8e186"
            ],
            [
             0.8,
             "#7fbc41"
            ],
            [
             0.9,
             "#4d9221"
            ],
            [
             1,
             "#276419"
            ]
           ],
           "sequential": [
            [
             0,
             "#0d0887"
            ],
            [
             0.1111111111111111,
             "#46039f"
            ],
            [
             0.2222222222222222,
             "#7201a8"
            ],
            [
             0.3333333333333333,
             "#9c179e"
            ],
            [
             0.4444444444444444,
             "#bd3786"
            ],
            [
             0.5555555555555556,
             "#d8576b"
            ],
            [
             0.6666666666666666,
             "#ed7953"
            ],
            [
             0.7777777777777778,
             "#fb9f3a"
            ],
            [
             0.8888888888888888,
             "#fdca26"
            ],
            [
             1,
             "#f0f921"
            ]
           ],
           "sequentialminus": [
            [
             0,
             "#0d0887"
            ],
            [
             0.1111111111111111,
             "#46039f"
            ],
            [
             0.2222222222222222,
             "#7201a8"
            ],
            [
             0.3333333333333333,
             "#9c179e"
            ],
            [
             0.4444444444444444,
             "#bd3786"
            ],
            [
             0.5555555555555556,
             "#d8576b"
            ],
            [
             0.6666666666666666,
             "#ed7953"
            ],
            [
             0.7777777777777778,
             "#fb9f3a"
            ],
            [
             0.8888888888888888,
             "#fdca26"
            ],
            [
             1,
             "#f0f921"
            ]
           ]
          },
          "colorway": [
           "#636efa",
           "#EF553B",
           "#00cc96",
           "#ab63fa",
           "#FFA15A",
           "#19d3f3",
           "#FF6692",
           "#B6E880",
           "#FF97FF",
           "#FECB52"
          ],
          "font": {
           "color": "#2a3f5f"
          },
          "geo": {
           "bgcolor": "white",
           "lakecolor": "white",
           "landcolor": "#E5ECF6",
           "showlakes": true,
           "showland": true,
           "subunitcolor": "white"
          },
          "hoverlabel": {
           "align": "left"
          },
          "hovermode": "closest",
          "mapbox": {
           "style": "light"
          },
          "paper_bgcolor": "white",
          "plot_bgcolor": "#E5ECF6",
          "polar": {
           "angularaxis": {
            "gridcolor": "white",
            "linecolor": "white",
            "ticks": ""
           },
           "bgcolor": "#E5ECF6",
           "radialaxis": {
            "gridcolor": "white",
            "linecolor": "white",
            "ticks": ""
           }
          },
          "scene": {
           "xaxis": {
            "backgroundcolor": "#E5ECF6",
            "gridcolor": "white",
            "gridwidth": 2,
            "linecolor": "white",
            "showbackground": true,
            "ticks": "",
            "zerolinecolor": "white"
           },
           "yaxis": {
            "backgroundcolor": "#E5ECF6",
            "gridcolor": "white",
            "gridwidth": 2,
            "linecolor": "white",
            "showbackground": true,
            "ticks": "",
            "zerolinecolor": "white"
           },
           "zaxis": {
            "backgroundcolor": "#E5ECF6",
            "gridcolor": "white",
            "gridwidth": 2,
            "linecolor": "white",
            "showbackground": true,
            "ticks": "",
            "zerolinecolor": "white"
           }
          },
          "shapedefaults": {
           "line": {
            "color": "#2a3f5f"
           }
          },
          "ternary": {
           "aaxis": {
            "gridcolor": "white",
            "linecolor": "white",
            "ticks": ""
           },
           "baxis": {
            "gridcolor": "white",
            "linecolor": "white",
            "ticks": ""
           },
           "bgcolor": "#E5ECF6",
           "caxis": {
            "gridcolor": "white",
            "linecolor": "white",
            "ticks": ""
           }
          },
          "title": {
           "x": 0.05
          },
          "xaxis": {
           "automargin": true,
           "gridcolor": "white",
           "linecolor": "white",
           "ticks": "",
           "title": {
            "standoff": 15
           },
           "zerolinecolor": "white",
           "zerolinewidth": 2
          },
          "yaxis": {
           "automargin": true,
           "gridcolor": "white",
           "linecolor": "white",
           "ticks": "",
           "title": {
            "standoff": 15
           },
           "zerolinecolor": "white",
           "zerolinewidth": 2
          }
         }
        },
        "title": {
         "text": "Fraction of Chunks Unfolded for IsIntersection ",
         "x": 0.5
        },
        "xaxis": {
         "title": {
          "text": "Chunks Unfolded (%)"
         }
        },
        "yaxis": {
         "title": {
          "text": "Context + Geometry Size"
         }
        }
       }
      }
     },
     "metadata": {},
     "output_type": "display_data"
    }
   ],
   "source": [
    "plot_chunk_unfolded_frac(chunk_unfolded_df, is_predicate=False, is_baseline=False)\n",
    "plot_chunk_unfolded_frac(chunk_unfolded_df, is_predicate=True, is_baseline=False)"
   ]
  },
  {
   "attachments": {},
   "cell_type": "markdown",
   "metadata": {},
   "source": [
    "#### Partial Decompression Fraction of Execution"
   ]
  },
  {
   "cell_type": "code",
   "execution_count": null,
   "metadata": {},
   "outputs": [
    {
     "data": {
      "application/vnd.plotly.v1+json": {
       "config": {
        "plotlyServerURL": "https://plot.ly"
       },
       "data": [
        {
         "name": "Decompression Stage",
         "orientation": "h",
         "type": "bar",
         "x": [
          65.15014183047845,
          52.40910677519829,
          30.882568653735905,
          93.33982767782439,
          87.27595280528048,
          68.27208462779045,
          92.38139055784477,
          72.92524404277472,
          52.01883630238348,
          47.91540646163538,
          70.61402412343267,
          61.95972651787631,
          67.11832916828297,
          47.69448070163375,
          21.90494376714486
         ],
         "y": [
          [
           "Fully Inside Other (TRUE)",
           "Fully Inside Other (TRUE)",
           "Fully Inside Other (TRUE)",
           "Overlap (FALSE)",
           "Overlap (FALSE)",
           "Overlap (FALSE)",
           "Overlap (FALSE)",
           "Overlap (FALSE)",
           "Overlap (FALSE)",
           "Partial Overlap (TRUE)",
           "Partial Overlap (TRUE)",
           "Partial Overlap (TRUE)",
           "Partial Overlap (TRUE)",
           "Partial Overlap (TRUE)",
           "Partial Overlap (TRUE)"
          ],
          [
           "S/L",
           "S/M",
           "S/S",
           "L/L",
           "M/L",
           "M/M",
           "S/L",
           "S/M",
           "S/S",
           "L/L",
           "M/L",
           "M/M",
           "S/L",
           "S/M",
           "S/S"
          ]
         ]
        },
        {
         "name": "Intersection",
         "orientation": "h",
         "type": "bar",
         "x": [
          34.849858169521546,
          47.59089322480171,
          69.11743134626408,
          6.660172322175616,
          12.724047194719523,
          31.727915372209548,
          7.61860944215523,
          27.07475595722527,
          47.98116369761652,
          52.08459353836462,
          29.38597587656733,
          38.04027348212369,
          32.88167083171703,
          52.30551929836626,
          78.09505623285514
         ],
         "y": [
          [
           "Fully Inside Other (TRUE)",
           "Fully Inside Other (TRUE)",
           "Fully Inside Other (TRUE)",
           "Overlap (FALSE)",
           "Overlap (FALSE)",
           "Overlap (FALSE)",
           "Overlap (FALSE)",
           "Overlap (FALSE)",
           "Overlap (FALSE)",
           "Partial Overlap (TRUE)",
           "Partial Overlap (TRUE)",
           "Partial Overlap (TRUE)",
           "Partial Overlap (TRUE)",
           "Partial Overlap (TRUE)",
           "Partial Overlap (TRUE)"
          ],
          [
           "S/L",
           "S/M",
           "S/S",
           "L/L",
           "M/L",
           "M/M",
           "S/L",
           "S/M",
           "S/S",
           "L/L",
           "M/L",
           "M/M",
           "S/L",
           "S/M",
           "S/S"
          ]
         ]
        }
       ],
       "layout": {
        "barmode": "relative",
        "legend": {
         "x": 0.997,
         "xanchor": "right",
         "y": 1.2,
         "yanchor": "top"
        },
        "template": {
         "data": {
          "bar": [
           {
            "error_x": {
             "color": "#2a3f5f"
            },
            "error_y": {
             "color": "#2a3f5f"
            },
            "marker": {
             "line": {
              "color": "#E5ECF6",
              "width": 0.5
             },
             "pattern": {
              "fillmode": "overlay",
              "size": 10,
              "solidity": 0.2
             }
            },
            "type": "bar"
           }
          ],
          "barpolar": [
           {
            "marker": {
             "line": {
              "color": "#E5ECF6",
              "width": 0.5
             },
             "pattern": {
              "fillmode": "overlay",
              "size": 10,
              "solidity": 0.2
             }
            },
            "type": "barpolar"
           }
          ],
          "carpet": [
           {
            "aaxis": {
             "endlinecolor": "#2a3f5f",
             "gridcolor": "white",
             "linecolor": "white",
             "minorgridcolor": "white",
             "startlinecolor": "#2a3f5f"
            },
            "baxis": {
             "endlinecolor": "#2a3f5f",
             "gridcolor": "white",
             "linecolor": "white",
             "minorgridcolor": "white",
             "startlinecolor": "#2a3f5f"
            },
            "type": "carpet"
           }
          ],
          "choropleth": [
           {
            "colorbar": {
             "outlinewidth": 0,
             "ticks": ""
            },
            "type": "choropleth"
           }
          ],
          "contour": [
           {
            "colorbar": {
             "outlinewidth": 0,
             "ticks": ""
            },
            "colorscale": [
             [
              0,
              "#0d0887"
             ],
             [
              0.1111111111111111,
              "#46039f"
             ],
             [
              0.2222222222222222,
              "#7201a8"
             ],
             [
              0.3333333333333333,
              "#9c179e"
             ],
             [
              0.4444444444444444,
              "#bd3786"
             ],
             [
              0.5555555555555556,
              "#d8576b"
             ],
             [
              0.6666666666666666,
              "#ed7953"
             ],
             [
              0.7777777777777778,
              "#fb9f3a"
             ],
             [
              0.8888888888888888,
              "#fdca26"
             ],
             [
              1,
              "#f0f921"
             ]
            ],
            "type": "contour"
           }
          ],
          "contourcarpet": [
           {
            "colorbar": {
             "outlinewidth": 0,
             "ticks": ""
            },
            "type": "contourcarpet"
           }
          ],
          "heatmap": [
           {
            "colorbar": {
             "outlinewidth": 0,
             "ticks": ""
            },
            "colorscale": [
             [
              0,
              "#0d0887"
             ],
             [
              0.1111111111111111,
              "#46039f"
             ],
             [
              0.2222222222222222,
              "#7201a8"
             ],
             [
              0.3333333333333333,
              "#9c179e"
             ],
             [
              0.4444444444444444,
              "#bd3786"
             ],
             [
              0.5555555555555556,
              "#d8576b"
             ],
             [
              0.6666666666666666,
              "#ed7953"
             ],
             [
              0.7777777777777778,
              "#fb9f3a"
             ],
             [
              0.8888888888888888,
              "#fdca26"
             ],
             [
              1,
              "#f0f921"
             ]
            ],
            "type": "heatmap"
           }
          ],
          "heatmapgl": [
           {
            "colorbar": {
             "outlinewidth": 0,
             "ticks": ""
            },
            "colorscale": [
             [
              0,
              "#0d0887"
             ],
             [
              0.1111111111111111,
              "#46039f"
             ],
             [
              0.2222222222222222,
              "#7201a8"
             ],
             [
              0.3333333333333333,
              "#9c179e"
             ],
             [
              0.4444444444444444,
              "#bd3786"
             ],
             [
              0.5555555555555556,
              "#d8576b"
             ],
             [
              0.6666666666666666,
              "#ed7953"
             ],
             [
              0.7777777777777778,
              "#fb9f3a"
             ],
             [
              0.8888888888888888,
              "#fdca26"
             ],
             [
              1,
              "#f0f921"
             ]
            ],
            "type": "heatmapgl"
           }
          ],
          "histogram": [
           {
            "marker": {
             "pattern": {
              "fillmode": "overlay",
              "size": 10,
              "solidity": 0.2
             }
            },
            "type": "histogram"
           }
          ],
          "histogram2d": [
           {
            "colorbar": {
             "outlinewidth": 0,
             "ticks": ""
            },
            "colorscale": [
             [
              0,
              "#0d0887"
             ],
             [
              0.1111111111111111,
              "#46039f"
             ],
             [
              0.2222222222222222,
              "#7201a8"
             ],
             [
              0.3333333333333333,
              "#9c179e"
             ],
             [
              0.4444444444444444,
              "#bd3786"
             ],
             [
              0.5555555555555556,
              "#d8576b"
             ],
             [
              0.6666666666666666,
              "#ed7953"
             ],
             [
              0.7777777777777778,
              "#fb9f3a"
             ],
             [
              0.8888888888888888,
              "#fdca26"
             ],
             [
              1,
              "#f0f921"
             ]
            ],
            "type": "histogram2d"
           }
          ],
          "histogram2dcontour": [
           {
            "colorbar": {
             "outlinewidth": 0,
             "ticks": ""
            },
            "colorscale": [
             [
              0,
              "#0d0887"
             ],
             [
              0.1111111111111111,
              "#46039f"
             ],
             [
              0.2222222222222222,
              "#7201a8"
             ],
             [
              0.3333333333333333,
              "#9c179e"
             ],
             [
              0.4444444444444444,
              "#bd3786"
             ],
             [
              0.5555555555555556,
              "#d8576b"
             ],
             [
              0.6666666666666666,
              "#ed7953"
             ],
             [
              0.7777777777777778,
              "#fb9f3a"
             ],
             [
              0.8888888888888888,
              "#fdca26"
             ],
             [
              1,
              "#f0f921"
             ]
            ],
            "type": "histogram2dcontour"
           }
          ],
          "mesh3d": [
           {
            "colorbar": {
             "outlinewidth": 0,
             "ticks": ""
            },
            "type": "mesh3d"
           }
          ],
          "parcoords": [
           {
            "line": {
             "colorbar": {
              "outlinewidth": 0,
              "ticks": ""
             }
            },
            "type": "parcoords"
           }
          ],
          "pie": [
           {
            "automargin": true,
            "type": "pie"
           }
          ],
          "scatter": [
           {
            "fillpattern": {
             "fillmode": "overlay",
             "size": 10,
             "solidity": 0.2
            },
            "type": "scatter"
           }
          ],
          "scatter3d": [
           {
            "line": {
             "colorbar": {
              "outlinewidth": 0,
              "ticks": ""
             }
            },
            "marker": {
             "colorbar": {
              "outlinewidth": 0,
              "ticks": ""
             }
            },
            "type": "scatter3d"
           }
          ],
          "scattercarpet": [
           {
            "marker": {
             "colorbar": {
              "outlinewidth": 0,
              "ticks": ""
             }
            },
            "type": "scattercarpet"
           }
          ],
          "scattergeo": [
           {
            "marker": {
             "colorbar": {
              "outlinewidth": 0,
              "ticks": ""
             }
            },
            "type": "scattergeo"
           }
          ],
          "scattergl": [
           {
            "marker": {
             "colorbar": {
              "outlinewidth": 0,
              "ticks": ""
             }
            },
            "type": "scattergl"
           }
          ],
          "scattermapbox": [
           {
            "marker": {
             "colorbar": {
              "outlinewidth": 0,
              "ticks": ""
             }
            },
            "type": "scattermapbox"
           }
          ],
          "scatterpolar": [
           {
            "marker": {
             "colorbar": {
              "outlinewidth": 0,
              "ticks": ""
             }
            },
            "type": "scatterpolar"
           }
          ],
          "scatterpolargl": [
           {
            "marker": {
             "colorbar": {
              "outlinewidth": 0,
              "ticks": ""
             }
            },
            "type": "scatterpolargl"
           }
          ],
          "scatterternary": [
           {
            "marker": {
             "colorbar": {
              "outlinewidth": 0,
              "ticks": ""
             }
            },
            "type": "scatterternary"
           }
          ],
          "surface": [
           {
            "colorbar": {
             "outlinewidth": 0,
             "ticks": ""
            },
            "colorscale": [
             [
              0,
              "#0d0887"
             ],
             [
              0.1111111111111111,
              "#46039f"
             ],
             [
              0.2222222222222222,
              "#7201a8"
             ],
             [
              0.3333333333333333,
              "#9c179e"
             ],
             [
              0.4444444444444444,
              "#bd3786"
             ],
             [
              0.5555555555555556,
              "#d8576b"
             ],
             [
              0.6666666666666666,
              "#ed7953"
             ],
             [
              0.7777777777777778,
              "#fb9f3a"
             ],
             [
              0.8888888888888888,
              "#fdca26"
             ],
             [
              1,
              "#f0f921"
             ]
            ],
            "type": "surface"
           }
          ],
          "table": [
           {
            "cells": {
             "fill": {
              "color": "#EBF0F8"
             },
             "line": {
              "color": "white"
             }
            },
            "header": {
             "fill": {
              "color": "#C8D4E3"
             },
             "line": {
              "color": "white"
             }
            },
            "type": "table"
           }
          ]
         },
         "layout": {
          "annotationdefaults": {
           "arrowcolor": "#2a3f5f",
           "arrowhead": 0,
           "arrowwidth": 1
          },
          "autotypenumbers": "strict",
          "coloraxis": {
           "colorbar": {
            "outlinewidth": 0,
            "ticks": ""
           }
          },
          "colorscale": {
           "diverging": [
            [
             0,
             "#8e0152"
            ],
            [
             0.1,
             "#c51b7d"
            ],
            [
             0.2,
             "#de77ae"
            ],
            [
             0.3,
             "#f1b6da"
            ],
            [
             0.4,
             "#fde0ef"
            ],
            [
             0.5,
             "#f7f7f7"
            ],
            [
             0.6,
             "#e6f5d0"
            ],
            [
             0.7,
             "#b8e186"
            ],
            [
             0.8,
             "#7fbc41"
            ],
            [
             0.9,
             "#4d9221"
            ],
            [
             1,
             "#276419"
            ]
           ],
           "sequential": [
            [
             0,
             "#0d0887"
            ],
            [
             0.1111111111111111,
             "#46039f"
            ],
            [
             0.2222222222222222,
             "#7201a8"
            ],
            [
             0.3333333333333333,
             "#9c179e"
            ],
            [
             0.4444444444444444,
             "#bd3786"
            ],
            [
             0.5555555555555556,
             "#d8576b"
            ],
            [
             0.6666666666666666,
             "#ed7953"
            ],
            [
             0.7777777777777778,
             "#fb9f3a"
            ],
            [
             0.8888888888888888,
             "#fdca26"
            ],
            [
             1,
             "#f0f921"
            ]
           ],
           "sequentialminus": [
            [
             0,
             "#0d0887"
            ],
            [
             0.1111111111111111,
             "#46039f"
            ],
            [
             0.2222222222222222,
             "#7201a8"
            ],
            [
             0.3333333333333333,
             "#9c179e"
            ],
            [
             0.4444444444444444,
             "#bd3786"
            ],
            [
             0.5555555555555556,
             "#d8576b"
            ],
            [
             0.6666666666666666,
             "#ed7953"
            ],
            [
             0.7777777777777778,
             "#fb9f3a"
            ],
            [
             0.8888888888888888,
             "#fdca26"
            ],
            [
             1,
             "#f0f921"
            ]
           ]
          },
          "colorway": [
           "#636efa",
           "#EF553B",
           "#00cc96",
           "#ab63fa",
           "#FFA15A",
           "#19d3f3",
           "#FF6692",
           "#B6E880",
           "#FF97FF",
           "#FECB52"
          ],
          "font": {
           "color": "#2a3f5f"
          },
          "geo": {
           "bgcolor": "white",
           "lakecolor": "white",
           "landcolor": "#E5ECF6",
           "showlakes": true,
           "showland": true,
           "subunitcolor": "white"
          },
          "hoverlabel": {
           "align": "left"
          },
          "hovermode": "closest",
          "mapbox": {
           "style": "light"
          },
          "paper_bgcolor": "white",
          "plot_bgcolor": "#E5ECF6",
          "polar": {
           "angularaxis": {
            "gridcolor": "white",
            "linecolor": "white",
            "ticks": ""
           },
           "bgcolor": "#E5ECF6",
           "radialaxis": {
            "gridcolor": "white",
            "linecolor": "white",
            "ticks": ""
           }
          },
          "scene": {
           "xaxis": {
            "backgroundcolor": "#E5ECF6",
            "gridcolor": "white",
            "gridwidth": 2,
            "linecolor": "white",
            "showbackground": true,
            "ticks": "",
            "zerolinecolor": "white"
           },
           "yaxis": {
            "backgroundcolor": "#E5ECF6",
            "gridcolor": "white",
            "gridwidth": 2,
            "linecolor": "white",
            "showbackground": true,
            "ticks": "",
            "zerolinecolor": "white"
           },
           "zaxis": {
            "backgroundcolor": "#E5ECF6",
            "gridcolor": "white",
            "gridwidth": 2,
            "linecolor": "white",
            "showbackground": true,
            "ticks": "",
            "zerolinecolor": "white"
           }
          },
          "shapedefaults": {
           "line": {
            "color": "#2a3f5f"
           }
          },
          "ternary": {
           "aaxis": {
            "gridcolor": "white",
            "linecolor": "white",
            "ticks": ""
           },
           "baxis": {
            "gridcolor": "white",
            "linecolor": "white",
            "ticks": ""
           },
           "bgcolor": "#E5ECF6",
           "caxis": {
            "gridcolor": "white",
            "linecolor": "white",
            "ticks": ""
           }
          },
          "title": {
           "x": 0.05
          },
          "xaxis": {
           "automargin": true,
           "gridcolor": "white",
           "linecolor": "white",
           "ticks": "",
           "title": {
            "standoff": 15
           },
           "zerolinecolor": "white",
           "zerolinewidth": 2
          },
          "yaxis": {
           "automargin": true,
           "gridcolor": "white",
           "linecolor": "white",
           "ticks": "",
           "title": {
            "standoff": 15
           },
           "zerolinecolor": "white",
           "zerolinewidth": 2
          }
         }
        },
        "title": {
         "text": "Execution Time Distrubution for Intersection (Baseline)",
         "x": 0.5
        },
        "xaxis": {
         "title": {
          "text": "Execution Time (%)"
         }
        },
        "yaxis": {
         "title": {
          "text": "Context + Geometry Size)"
         }
        }
       }
      }
     },
     "metadata": {},
     "output_type": "display_data"
    },
    {
     "data": {
      "application/vnd.plotly.v1+json": {
       "config": {
        "plotlyServerURL": "https://plot.ly"
       },
       "data": [
        {
         "name": "Decompression Stage",
         "orientation": "h",
         "type": "bar",
         "x": [
          33.954004460441155,
          30.6912966821375,
          25.311870162542935,
          74.12605575981344,
          61.518665224659706,
          47.996246219530896,
          63.08835503857059,
          43.81024732585375,
          45.21275689266161,
          16.20512001965518,
          30.250730456467306,
          33.50581185961188,
          29.005170000796465,
          24.81609320988493,
          17.64688630032137
         ],
         "y": [
          [
           "Fully Inside Other (TRUE)",
           "Fully Inside Other (TRUE)",
           "Fully Inside Other (TRUE)",
           "Overlap (FALSE)",
           "Overlap (FALSE)",
           "Overlap (FALSE)",
           "Overlap (FALSE)",
           "Overlap (FALSE)",
           "Overlap (FALSE)",
           "Partial Overlap (TRUE)",
           "Partial Overlap (TRUE)",
           "Partial Overlap (TRUE)",
           "Partial Overlap (TRUE)",
           "Partial Overlap (TRUE)",
           "Partial Overlap (TRUE)"
          ],
          [
           "S/L",
           "S/M",
           "S/S",
           "L/L",
           "M/L",
           "M/M",
           "S/L",
           "S/M",
           "S/S",
           "L/L",
           "M/L",
           "M/M",
           "S/L",
           "S/M",
           "S/S"
          ]
         ]
        },
        {
         "name": "Intersection",
         "orientation": "h",
         "type": "bar",
         "x": [
          66.04599553955885,
          69.3087033178625,
          74.68812983745707,
          25.873944240186574,
          38.4813347753403,
          52.003753780469104,
          36.91164496142941,
          56.18975267414625,
          54.78724310733839,
          83.79487998034483,
          69.74926954353269,
          66.49418814038812,
          70.99482999920355,
          75.18390679011507,
          82.35311369967862
         ],
         "y": [
          [
           "Fully Inside Other (TRUE)",
           "Fully Inside Other (TRUE)",
           "Fully Inside Other (TRUE)",
           "Overlap (FALSE)",
           "Overlap (FALSE)",
           "Overlap (FALSE)",
           "Overlap (FALSE)",
           "Overlap (FALSE)",
           "Overlap (FALSE)",
           "Partial Overlap (TRUE)",
           "Partial Overlap (TRUE)",
           "Partial Overlap (TRUE)",
           "Partial Overlap (TRUE)",
           "Partial Overlap (TRUE)",
           "Partial Overlap (TRUE)"
          ],
          [
           "S/L",
           "S/M",
           "S/S",
           "L/L",
           "M/L",
           "M/M",
           "S/L",
           "S/M",
           "S/S",
           "L/L",
           "M/L",
           "M/M",
           "S/L",
           "S/M",
           "S/S"
          ]
         ]
        }
       ],
       "layout": {
        "barmode": "relative",
        "legend": {
         "x": 0.997,
         "xanchor": "right",
         "y": 1.2,
         "yanchor": "top"
        },
        "template": {
         "data": {
          "bar": [
           {
            "error_x": {
             "color": "#2a3f5f"
            },
            "error_y": {
             "color": "#2a3f5f"
            },
            "marker": {
             "line": {
              "color": "#E5ECF6",
              "width": 0.5
             },
             "pattern": {
              "fillmode": "overlay",
              "size": 10,
              "solidity": 0.2
             }
            },
            "type": "bar"
           }
          ],
          "barpolar": [
           {
            "marker": {
             "line": {
              "color": "#E5ECF6",
              "width": 0.5
             },
             "pattern": {
              "fillmode": "overlay",
              "size": 10,
              "solidity": 0.2
             }
            },
            "type": "barpolar"
           }
          ],
          "carpet": [
           {
            "aaxis": {
             "endlinecolor": "#2a3f5f",
             "gridcolor": "white",
             "linecolor": "white",
             "minorgridcolor": "white",
             "startlinecolor": "#2a3f5f"
            },
            "baxis": {
             "endlinecolor": "#2a3f5f",
             "gridcolor": "white",
             "linecolor": "white",
             "minorgridcolor": "white",
             "startlinecolor": "#2a3f5f"
            },
            "type": "carpet"
           }
          ],
          "choropleth": [
           {
            "colorbar": {
             "outlinewidth": 0,
             "ticks": ""
            },
            "type": "choropleth"
           }
          ],
          "contour": [
           {
            "colorbar": {
             "outlinewidth": 0,
             "ticks": ""
            },
            "colorscale": [
             [
              0,
              "#0d0887"
             ],
             [
              0.1111111111111111,
              "#46039f"
             ],
             [
              0.2222222222222222,
              "#7201a8"
             ],
             [
              0.3333333333333333,
              "#9c179e"
             ],
             [
              0.4444444444444444,
              "#bd3786"
             ],
             [
              0.5555555555555556,
              "#d8576b"
             ],
             [
              0.6666666666666666,
              "#ed7953"
             ],
             [
              0.7777777777777778,
              "#fb9f3a"
             ],
             [
              0.8888888888888888,
              "#fdca26"
             ],
             [
              1,
              "#f0f921"
             ]
            ],
            "type": "contour"
           }
          ],
          "contourcarpet": [
           {
            "colorbar": {
             "outlinewidth": 0,
             "ticks": ""
            },
            "type": "contourcarpet"
           }
          ],
          "heatmap": [
           {
            "colorbar": {
             "outlinewidth": 0,
             "ticks": ""
            },
            "colorscale": [
             [
              0,
              "#0d0887"
             ],
             [
              0.1111111111111111,
              "#46039f"
             ],
             [
              0.2222222222222222,
              "#7201a8"
             ],
             [
              0.3333333333333333,
              "#9c179e"
             ],
             [
              0.4444444444444444,
              "#bd3786"
             ],
             [
              0.5555555555555556,
              "#d8576b"
             ],
             [
              0.6666666666666666,
              "#ed7953"
             ],
             [
              0.7777777777777778,
              "#fb9f3a"
             ],
             [
              0.8888888888888888,
              "#fdca26"
             ],
             [
              1,
              "#f0f921"
             ]
            ],
            "type": "heatmap"
           }
          ],
          "heatmapgl": [
           {
            "colorbar": {
             "outlinewidth": 0,
             "ticks": ""
            },
            "colorscale": [
             [
              0,
              "#0d0887"
             ],
             [
              0.1111111111111111,
              "#46039f"
             ],
             [
              0.2222222222222222,
              "#7201a8"
             ],
             [
              0.3333333333333333,
              "#9c179e"
             ],
             [
              0.4444444444444444,
              "#bd3786"
             ],
             [
              0.5555555555555556,
              "#d8576b"
             ],
             [
              0.6666666666666666,
              "#ed7953"
             ],
             [
              0.7777777777777778,
              "#fb9f3a"
             ],
             [
              0.8888888888888888,
              "#fdca26"
             ],
             [
              1,
              "#f0f921"
             ]
            ],
            "type": "heatmapgl"
           }
          ],
          "histogram": [
           {
            "marker": {
             "pattern": {
              "fillmode": "overlay",
              "size": 10,
              "solidity": 0.2
             }
            },
            "type": "histogram"
           }
          ],
          "histogram2d": [
           {
            "colorbar": {
             "outlinewidth": 0,
             "ticks": ""
            },
            "colorscale": [
             [
              0,
              "#0d0887"
             ],
             [
              0.1111111111111111,
              "#46039f"
             ],
             [
              0.2222222222222222,
              "#7201a8"
             ],
             [
              0.3333333333333333,
              "#9c179e"
             ],
             [
              0.4444444444444444,
              "#bd3786"
             ],
             [
              0.5555555555555556,
              "#d8576b"
             ],
             [
              0.6666666666666666,
              "#ed7953"
             ],
             [
              0.7777777777777778,
              "#fb9f3a"
             ],
             [
              0.8888888888888888,
              "#fdca26"
             ],
             [
              1,
              "#f0f921"
             ]
            ],
            "type": "histogram2d"
           }
          ],
          "histogram2dcontour": [
           {
            "colorbar": {
             "outlinewidth": 0,
             "ticks": ""
            },
            "colorscale": [
             [
              0,
              "#0d0887"
             ],
             [
              0.1111111111111111,
              "#46039f"
             ],
             [
              0.2222222222222222,
              "#7201a8"
             ],
             [
              0.3333333333333333,
              "#9c179e"
             ],
             [
              0.4444444444444444,
              "#bd3786"
             ],
             [
              0.5555555555555556,
              "#d8576b"
             ],
             [
              0.6666666666666666,
              "#ed7953"
             ],
             [
              0.7777777777777778,
              "#fb9f3a"
             ],
             [
              0.8888888888888888,
              "#fdca26"
             ],
             [
              1,
              "#f0f921"
             ]
            ],
            "type": "histogram2dcontour"
           }
          ],
          "mesh3d": [
           {
            "colorbar": {
             "outlinewidth": 0,
             "ticks": ""
            },
            "type": "mesh3d"
           }
          ],
          "parcoords": [
           {
            "line": {
             "colorbar": {
              "outlinewidth": 0,
              "ticks": ""
             }
            },
            "type": "parcoords"
           }
          ],
          "pie": [
           {
            "automargin": true,
            "type": "pie"
           }
          ],
          "scatter": [
           {
            "fillpattern": {
             "fillmode": "overlay",
             "size": 10,
             "solidity": 0.2
            },
            "type": "scatter"
           }
          ],
          "scatter3d": [
           {
            "line": {
             "colorbar": {
              "outlinewidth": 0,
              "ticks": ""
             }
            },
            "marker": {
             "colorbar": {
              "outlinewidth": 0,
              "ticks": ""
             }
            },
            "type": "scatter3d"
           }
          ],
          "scattercarpet": [
           {
            "marker": {
             "colorbar": {
              "outlinewidth": 0,
              "ticks": ""
             }
            },
            "type": "scattercarpet"
           }
          ],
          "scattergeo": [
           {
            "marker": {
             "colorbar": {
              "outlinewidth": 0,
              "ticks": ""
             }
            },
            "type": "scattergeo"
           }
          ],
          "scattergl": [
           {
            "marker": {
             "colorbar": {
              "outlinewidth": 0,
              "ticks": ""
             }
            },
            "type": "scattergl"
           }
          ],
          "scattermapbox": [
           {
            "marker": {
             "colorbar": {
              "outlinewidth": 0,
              "ticks": ""
             }
            },
            "type": "scattermapbox"
           }
          ],
          "scatterpolar": [
           {
            "marker": {
             "colorbar": {
              "outlinewidth": 0,
              "ticks": ""
             }
            },
            "type": "scatterpolar"
           }
          ],
          "scatterpolargl": [
           {
            "marker": {
             "colorbar": {
              "outlinewidth": 0,
              "ticks": ""
             }
            },
            "type": "scatterpolargl"
           }
          ],
          "scatterternary": [
           {
            "marker": {
             "colorbar": {
              "outlinewidth": 0,
              "ticks": ""
             }
            },
            "type": "scatterternary"
           }
          ],
          "surface": [
           {
            "colorbar": {
             "outlinewidth": 0,
             "ticks": ""
            },
            "colorscale": [
             [
              0,
              "#0d0887"
             ],
             [
              0.1111111111111111,
              "#46039f"
             ],
             [
              0.2222222222222222,
              "#7201a8"
             ],
             [
              0.3333333333333333,
              "#9c179e"
             ],
             [
              0.4444444444444444,
              "#bd3786"
             ],
             [
              0.5555555555555556,
              "#d8576b"
             ],
             [
              0.6666666666666666,
              "#ed7953"
             ],
             [
              0.7777777777777778,
              "#fb9f3a"
             ],
             [
              0.8888888888888888,
              "#fdca26"
             ],
             [
              1,
              "#f0f921"
             ]
            ],
            "type": "surface"
           }
          ],
          "table": [
           {
            "cells": {
             "fill": {
              "color": "#EBF0F8"
             },
             "line": {
              "color": "white"
             }
            },
            "header": {
             "fill": {
              "color": "#C8D4E3"
             },
             "line": {
              "color": "white"
             }
            },
            "type": "table"
           }
          ]
         },
         "layout": {
          "annotationdefaults": {
           "arrowcolor": "#2a3f5f",
           "arrowhead": 0,
           "arrowwidth": 1
          },
          "autotypenumbers": "strict",
          "coloraxis": {
           "colorbar": {
            "outlinewidth": 0,
            "ticks": ""
           }
          },
          "colorscale": {
           "diverging": [
            [
             0,
             "#8e0152"
            ],
            [
             0.1,
             "#c51b7d"
            ],
            [
             0.2,
             "#de77ae"
            ],
            [
             0.3,
             "#f1b6da"
            ],
            [
             0.4,
             "#fde0ef"
            ],
            [
             0.5,
             "#f7f7f7"
            ],
            [
             0.6,
             "#e6f5d0"
            ],
            [
             0.7,
             "#b8e186"
            ],
            [
             0.8,
             "#7fbc41"
            ],
            [
             0.9,
             "#4d9221"
            ],
            [
             1,
             "#276419"
            ]
           ],
           "sequential": [
            [
             0,
             "#0d0887"
            ],
            [
             0.1111111111111111,
             "#46039f"
            ],
            [
             0.2222222222222222,
             "#7201a8"
            ],
            [
             0.3333333333333333,
             "#9c179e"
            ],
            [
             0.4444444444444444,
             "#bd3786"
            ],
            [
             0.5555555555555556,
             "#d8576b"
            ],
            [
             0.6666666666666666,
             "#ed7953"
            ],
            [
             0.7777777777777778,
             "#fb9f3a"
            ],
            [
             0.8888888888888888,
             "#fdca26"
            ],
            [
             1,
             "#f0f921"
            ]
           ],
           "sequentialminus": [
            [
             0,
             "#0d0887"
            ],
            [
             0.1111111111111111,
             "#46039f"
            ],
            [
             0.2222222222222222,
             "#7201a8"
            ],
            [
             0.3333333333333333,
             "#9c179e"
            ],
            [
             0.4444444444444444,
             "#bd3786"
            ],
            [
             0.5555555555555556,
             "#d8576b"
            ],
            [
             0.6666666666666666,
             "#ed7953"
            ],
            [
             0.7777777777777778,
             "#fb9f3a"
            ],
            [
             0.8888888888888888,
             "#fdca26"
            ],
            [
             1,
             "#f0f921"
            ]
           ]
          },
          "colorway": [
           "#636efa",
           "#EF553B",
           "#00cc96",
           "#ab63fa",
           "#FFA15A",
           "#19d3f3",
           "#FF6692",
           "#B6E880",
           "#FF97FF",
           "#FECB52"
          ],
          "font": {
           "color": "#2a3f5f"
          },
          "geo": {
           "bgcolor": "white",
           "lakecolor": "white",
           "landcolor": "#E5ECF6",
           "showlakes": true,
           "showland": true,
           "subunitcolor": "white"
          },
          "hoverlabel": {
           "align": "left"
          },
          "hovermode": "closest",
          "mapbox": {
           "style": "light"
          },
          "paper_bgcolor": "white",
          "plot_bgcolor": "#E5ECF6",
          "polar": {
           "angularaxis": {
            "gridcolor": "white",
            "linecolor": "white",
            "ticks": ""
           },
           "bgcolor": "#E5ECF6",
           "radialaxis": {
            "gridcolor": "white",
            "linecolor": "white",
            "ticks": ""
           }
          },
          "scene": {
           "xaxis": {
            "backgroundcolor": "#E5ECF6",
            "gridcolor": "white",
            "gridwidth": 2,
            "linecolor": "white",
            "showbackground": true,
            "ticks": "",
            "zerolinecolor": "white"
           },
           "yaxis": {
            "backgroundcolor": "#E5ECF6",
            "gridcolor": "white",
            "gridwidth": 2,
            "linecolor": "white",
            "showbackground": true,
            "ticks": "",
            "zerolinecolor": "white"
           },
           "zaxis": {
            "backgroundcolor": "#E5ECF6",
            "gridcolor": "white",
            "gridwidth": 2,
            "linecolor": "white",
            "showbackground": true,
            "ticks": "",
            "zerolinecolor": "white"
           }
          },
          "shapedefaults": {
           "line": {
            "color": "#2a3f5f"
           }
          },
          "ternary": {
           "aaxis": {
            "gridcolor": "white",
            "linecolor": "white",
            "ticks": ""
           },
           "baxis": {
            "gridcolor": "white",
            "linecolor": "white",
            "ticks": ""
           },
           "bgcolor": "#E5ECF6",
           "caxis": {
            "gridcolor": "white",
            "linecolor": "white",
            "ticks": ""
           }
          },
          "title": {
           "x": 0.05
          },
          "xaxis": {
           "automargin": true,
           "gridcolor": "white",
           "linecolor": "white",
           "ticks": "",
           "title": {
            "standoff": 15
           },
           "zerolinecolor": "white",
           "zerolinewidth": 2
          },
          "yaxis": {
           "automargin": true,
           "gridcolor": "white",
           "linecolor": "white",
           "ticks": "",
           "title": {
            "standoff": 15
           },
           "zerolinecolor": "white",
           "zerolinewidth": 2
          }
         }
        },
        "title": {
         "text": "Execution Time Distrubution for Intersection ",
         "x": 0.5
        },
        "xaxis": {
         "title": {
          "text": "Execution Time (%)"
         }
        },
        "yaxis": {
         "title": {
          "text": "Context + Geometry Size)"
         }
        }
       }
      }
     },
     "metadata": {},
     "output_type": "display_data"
    },
    {
     "data": {
      "application/vnd.plotly.v1+json": {
       "config": {
        "plotlyServerURL": "https://plot.ly"
       },
       "data": [
        {
         "name": "Decompression Stage",
         "orientation": "h",
         "type": "bar",
         "x": [
          72.61516267061279,
          57.835829469056634,
          35.34468010609095,
          97.80848096290627,
          90.20301989083607,
          72.90959254139376,
          95.0173649600649,
          78.81910262642465,
          58.44882143187984,
          90.52550828852648,
          91.43160640813333,
          84.15609866933873,
          90.49925156517435,
          79.38442700724381,
          56.325655797424524
         ],
         "y": [
          [
           "Fully Inside Other (TRUE)",
           "Fully Inside Other (TRUE)",
           "Fully Inside Other (TRUE)",
           "Overlap (FALSE)",
           "Overlap (FALSE)",
           "Overlap (FALSE)",
           "Overlap (FALSE)",
           "Overlap (FALSE)",
           "Overlap (FALSE)",
           "Partial Overlap (TRUE)",
           "Partial Overlap (TRUE)",
           "Partial Overlap (TRUE)",
           "Partial Overlap (TRUE)",
           "Partial Overlap (TRUE)",
           "Partial Overlap (TRUE)"
          ],
          [
           "S/L",
           "S/M",
           "S/S",
           "L/L",
           "M/L",
           "M/M",
           "S/L",
           "S/M",
           "S/S",
           "L/L",
           "M/L",
           "M/M",
           "S/L",
           "S/M",
           "S/S"
          ]
         ]
        },
        {
         "name": "IsIntersection",
         "orientation": "h",
         "type": "bar",
         "x": [
          27.384837329387217,
          42.164170530943366,
          64.65531989390905,
          2.191519037093724,
          9.796980109163913,
          27.09040745860624,
          4.982635039935096,
          21.180897373575352,
          41.55117856812016,
          9.47449171147352,
          8.568393591866664,
          15.843901330661268,
          9.500748434825654,
          20.61557299275618,
          43.674344202575476
         ],
         "y": [
          [
           "Fully Inside Other (TRUE)",
           "Fully Inside Other (TRUE)",
           "Fully Inside Other (TRUE)",
           "Overlap (FALSE)",
           "Overlap (FALSE)",
           "Overlap (FALSE)",
           "Overlap (FALSE)",
           "Overlap (FALSE)",
           "Overlap (FALSE)",
           "Partial Overlap (TRUE)",
           "Partial Overlap (TRUE)",
           "Partial Overlap (TRUE)",
           "Partial Overlap (TRUE)",
           "Partial Overlap (TRUE)",
           "Partial Overlap (TRUE)"
          ],
          [
           "S/L",
           "S/M",
           "S/S",
           "L/L",
           "M/L",
           "M/M",
           "S/L",
           "S/M",
           "S/S",
           "L/L",
           "M/L",
           "M/M",
           "S/L",
           "S/M",
           "S/S"
          ]
         ]
        }
       ],
       "layout": {
        "barmode": "relative",
        "legend": {
         "x": 0.997,
         "xanchor": "right",
         "y": 1.2,
         "yanchor": "top"
        },
        "template": {
         "data": {
          "bar": [
           {
            "error_x": {
             "color": "#2a3f5f"
            },
            "error_y": {
             "color": "#2a3f5f"
            },
            "marker": {
             "line": {
              "color": "#E5ECF6",
              "width": 0.5
             },
             "pattern": {
              "fillmode": "overlay",
              "size": 10,
              "solidity": 0.2
             }
            },
            "type": "bar"
           }
          ],
          "barpolar": [
           {
            "marker": {
             "line": {
              "color": "#E5ECF6",
              "width": 0.5
             },
             "pattern": {
              "fillmode": "overlay",
              "size": 10,
              "solidity": 0.2
             }
            },
            "type": "barpolar"
           }
          ],
          "carpet": [
           {
            "aaxis": {
             "endlinecolor": "#2a3f5f",
             "gridcolor": "white",
             "linecolor": "white",
             "minorgridcolor": "white",
             "startlinecolor": "#2a3f5f"
            },
            "baxis": {
             "endlinecolor": "#2a3f5f",
             "gridcolor": "white",
             "linecolor": "white",
             "minorgridcolor": "white",
             "startlinecolor": "#2a3f5f"
            },
            "type": "carpet"
           }
          ],
          "choropleth": [
           {
            "colorbar": {
             "outlinewidth": 0,
             "ticks": ""
            },
            "type": "choropleth"
           }
          ],
          "contour": [
           {
            "colorbar": {
             "outlinewidth": 0,
             "ticks": ""
            },
            "colorscale": [
             [
              0,
              "#0d0887"
             ],
             [
              0.1111111111111111,
              "#46039f"
             ],
             [
              0.2222222222222222,
              "#7201a8"
             ],
             [
              0.3333333333333333,
              "#9c179e"
             ],
             [
              0.4444444444444444,
              "#bd3786"
             ],
             [
              0.5555555555555556,
              "#d8576b"
             ],
             [
              0.6666666666666666,
              "#ed7953"
             ],
             [
              0.7777777777777778,
              "#fb9f3a"
             ],
             [
              0.8888888888888888,
              "#fdca26"
             ],
             [
              1,
              "#f0f921"
             ]
            ],
            "type": "contour"
           }
          ],
          "contourcarpet": [
           {
            "colorbar": {
             "outlinewidth": 0,
             "ticks": ""
            },
            "type": "contourcarpet"
           }
          ],
          "heatmap": [
           {
            "colorbar": {
             "outlinewidth": 0,
             "ticks": ""
            },
            "colorscale": [
             [
              0,
              "#0d0887"
             ],
             [
              0.1111111111111111,
              "#46039f"
             ],
             [
              0.2222222222222222,
              "#7201a8"
             ],
             [
              0.3333333333333333,
              "#9c179e"
             ],
             [
              0.4444444444444444,
              "#bd3786"
             ],
             [
              0.5555555555555556,
              "#d8576b"
             ],
             [
              0.6666666666666666,
              "#ed7953"
             ],
             [
              0.7777777777777778,
              "#fb9f3a"
             ],
             [
              0.8888888888888888,
              "#fdca26"
             ],
             [
              1,
              "#f0f921"
             ]
            ],
            "type": "heatmap"
           }
          ],
          "heatmapgl": [
           {
            "colorbar": {
             "outlinewidth": 0,
             "ticks": ""
            },
            "colorscale": [
             [
              0,
              "#0d0887"
             ],
             [
              0.1111111111111111,
              "#46039f"
             ],
             [
              0.2222222222222222,
              "#7201a8"
             ],
             [
              0.3333333333333333,
              "#9c179e"
             ],
             [
              0.4444444444444444,
              "#bd3786"
             ],
             [
              0.5555555555555556,
              "#d8576b"
             ],
             [
              0.6666666666666666,
              "#ed7953"
             ],
             [
              0.7777777777777778,
              "#fb9f3a"
             ],
             [
              0.8888888888888888,
              "#fdca26"
             ],
             [
              1,
              "#f0f921"
             ]
            ],
            "type": "heatmapgl"
           }
          ],
          "histogram": [
           {
            "marker": {
             "pattern": {
              "fillmode": "overlay",
              "size": 10,
              "solidity": 0.2
             }
            },
            "type": "histogram"
           }
          ],
          "histogram2d": [
           {
            "colorbar": {
             "outlinewidth": 0,
             "ticks": ""
            },
            "colorscale": [
             [
              0,
              "#0d0887"
             ],
             [
              0.1111111111111111,
              "#46039f"
             ],
             [
              0.2222222222222222,
              "#7201a8"
             ],
             [
              0.3333333333333333,
              "#9c179e"
             ],
             [
              0.4444444444444444,
              "#bd3786"
             ],
             [
              0.5555555555555556,
              "#d8576b"
             ],
             [
              0.6666666666666666,
              "#ed7953"
             ],
             [
              0.7777777777777778,
              "#fb9f3a"
             ],
             [
              0.8888888888888888,
              "#fdca26"
             ],
             [
              1,
              "#f0f921"
             ]
            ],
            "type": "histogram2d"
           }
          ],
          "histogram2dcontour": [
           {
            "colorbar": {
             "outlinewidth": 0,
             "ticks": ""
            },
            "colorscale": [
             [
              0,
              "#0d0887"
             ],
             [
              0.1111111111111111,
              "#46039f"
             ],
             [
              0.2222222222222222,
              "#7201a8"
             ],
             [
              0.3333333333333333,
              "#9c179e"
             ],
             [
              0.4444444444444444,
              "#bd3786"
             ],
             [
              0.5555555555555556,
              "#d8576b"
             ],
             [
              0.6666666666666666,
              "#ed7953"
             ],
             [
              0.7777777777777778,
              "#fb9f3a"
             ],
             [
              0.8888888888888888,
              "#fdca26"
             ],
             [
              1,
              "#f0f921"
             ]
            ],
            "type": "histogram2dcontour"
           }
          ],
          "mesh3d": [
           {
            "colorbar": {
             "outlinewidth": 0,
             "ticks": ""
            },
            "type": "mesh3d"
           }
          ],
          "parcoords": [
           {
            "line": {
             "colorbar": {
              "outlinewidth": 0,
              "ticks": ""
             }
            },
            "type": "parcoords"
           }
          ],
          "pie": [
           {
            "automargin": true,
            "type": "pie"
           }
          ],
          "scatter": [
           {
            "fillpattern": {
             "fillmode": "overlay",
             "size": 10,
             "solidity": 0.2
            },
            "type": "scatter"
           }
          ],
          "scatter3d": [
           {
            "line": {
             "colorbar": {
              "outlinewidth": 0,
              "ticks": ""
             }
            },
            "marker": {
             "colorbar": {
              "outlinewidth": 0,
              "ticks": ""
             }
            },
            "type": "scatter3d"
           }
          ],
          "scattercarpet": [
           {
            "marker": {
             "colorbar": {
              "outlinewidth": 0,
              "ticks": ""
             }
            },
            "type": "scattercarpet"
           }
          ],
          "scattergeo": [
           {
            "marker": {
             "colorbar": {
              "outlinewidth": 0,
              "ticks": ""
             }
            },
            "type": "scattergeo"
           }
          ],
          "scattergl": [
           {
            "marker": {
             "colorbar": {
              "outlinewidth": 0,
              "ticks": ""
             }
            },
            "type": "scattergl"
           }
          ],
          "scattermapbox": [
           {
            "marker": {
             "colorbar": {
              "outlinewidth": 0,
              "ticks": ""
             }
            },
            "type": "scattermapbox"
           }
          ],
          "scatterpolar": [
           {
            "marker": {
             "colorbar": {
              "outlinewidth": 0,
              "ticks": ""
             }
            },
            "type": "scatterpolar"
           }
          ],
          "scatterpolargl": [
           {
            "marker": {
             "colorbar": {
              "outlinewidth": 0,
              "ticks": ""
             }
            },
            "type": "scatterpolargl"
           }
          ],
          "scatterternary": [
           {
            "marker": {
             "colorbar": {
              "outlinewidth": 0,
              "ticks": ""
             }
            },
            "type": "scatterternary"
           }
          ],
          "surface": [
           {
            "colorbar": {
             "outlinewidth": 0,
             "ticks": ""
            },
            "colorscale": [
             [
              0,
              "#0d0887"
             ],
             [
              0.1111111111111111,
              "#46039f"
             ],
             [
              0.2222222222222222,
              "#7201a8"
             ],
             [
              0.3333333333333333,
              "#9c179e"
             ],
             [
              0.4444444444444444,
              "#bd3786"
             ],
             [
              0.5555555555555556,
              "#d8576b"
             ],
             [
              0.6666666666666666,
              "#ed7953"
             ],
             [
              0.7777777777777778,
              "#fb9f3a"
             ],
             [
              0.8888888888888888,
              "#fdca26"
             ],
             [
              1,
              "#f0f921"
             ]
            ],
            "type": "surface"
           }
          ],
          "table": [
           {
            "cells": {
             "fill": {
              "color": "#EBF0F8"
             },
             "line": {
              "color": "white"
             }
            },
            "header": {
             "fill": {
              "color": "#C8D4E3"
             },
             "line": {
              "color": "white"
             }
            },
            "type": "table"
           }
          ]
         },
         "layout": {
          "annotationdefaults": {
           "arrowcolor": "#2a3f5f",
           "arrowhead": 0,
           "arrowwidth": 1
          },
          "autotypenumbers": "strict",
          "coloraxis": {
           "colorbar": {
            "outlinewidth": 0,
            "ticks": ""
           }
          },
          "colorscale": {
           "diverging": [
            [
             0,
             "#8e0152"
            ],
            [
             0.1,
             "#c51b7d"
            ],
            [
             0.2,
             "#de77ae"
            ],
            [
             0.3,
             "#f1b6da"
            ],
            [
             0.4,
             "#fde0ef"
            ],
            [
             0.5,
             "#f7f7f7"
            ],
            [
             0.6,
             "#e6f5d0"
            ],
            [
             0.7,
             "#b8e186"
            ],
            [
             0.8,
             "#7fbc41"
            ],
            [
             0.9,
             "#4d9221"
            ],
            [
             1,
             "#276419"
            ]
           ],
           "sequential": [
            [
             0,
             "#0d0887"
            ],
            [
             0.1111111111111111,
             "#46039f"
            ],
            [
             0.2222222222222222,
             "#7201a8"
            ],
            [
             0.3333333333333333,
             "#9c179e"
            ],
            [
             0.4444444444444444,
             "#bd3786"
            ],
            [
             0.5555555555555556,
             "#d8576b"
            ],
            [
             0.6666666666666666,
             "#ed7953"
            ],
            [
             0.7777777777777778,
             "#fb9f3a"
            ],
            [
             0.8888888888888888,
             "#fdca26"
            ],
            [
             1,
             "#f0f921"
            ]
           ],
           "sequentialminus": [
            [
             0,
             "#0d0887"
            ],
            [
             0.1111111111111111,
             "#46039f"
            ],
            [
             0.2222222222222222,
             "#7201a8"
            ],
            [
             0.3333333333333333,
             "#9c179e"
            ],
            [
             0.4444444444444444,
             "#bd3786"
            ],
            [
             0.5555555555555556,
             "#d8576b"
            ],
            [
             0.6666666666666666,
             "#ed7953"
            ],
            [
             0.7777777777777778,
             "#fb9f3a"
            ],
            [
             0.8888888888888888,
             "#fdca26"
            ],
            [
             1,
             "#f0f921"
            ]
           ]
          },
          "colorway": [
           "#636efa",
           "#EF553B",
           "#00cc96",
           "#ab63fa",
           "#FFA15A",
           "#19d3f3",
           "#FF6692",
           "#B6E880",
           "#FF97FF",
           "#FECB52"
          ],
          "font": {
           "color": "#2a3f5f"
          },
          "geo": {
           "bgcolor": "white",
           "lakecolor": "white",
           "landcolor": "#E5ECF6",
           "showlakes": true,
           "showland": true,
           "subunitcolor": "white"
          },
          "hoverlabel": {
           "align": "left"
          },
          "hovermode": "closest",
          "mapbox": {
           "style": "light"
          },
          "paper_bgcolor": "white",
          "plot_bgcolor": "#E5ECF6",
          "polar": {
           "angularaxis": {
            "gridcolor": "white",
            "linecolor": "white",
            "ticks": ""
           },
           "bgcolor": "#E5ECF6",
           "radialaxis": {
            "gridcolor": "white",
            "linecolor": "white",
            "ticks": ""
           }
          },
          "scene": {
           "xaxis": {
            "backgroundcolor": "#E5ECF6",
            "gridcolor": "white",
            "gridwidth": 2,
            "linecolor": "white",
            "showbackground": true,
            "ticks": "",
            "zerolinecolor": "white"
           },
           "yaxis": {
            "backgroundcolor": "#E5ECF6",
            "gridcolor": "white",
            "gridwidth": 2,
            "linecolor": "white",
            "showbackground": true,
            "ticks": "",
            "zerolinecolor": "white"
           },
           "zaxis": {
            "backgroundcolor": "#E5ECF6",
            "gridcolor": "white",
            "gridwidth": 2,
            "linecolor": "white",
            "showbackground": true,
            "ticks": "",
            "zerolinecolor": "white"
           }
          },
          "shapedefaults": {
           "line": {
            "color": "#2a3f5f"
           }
          },
          "ternary": {
           "aaxis": {
            "gridcolor": "white",
            "linecolor": "white",
            "ticks": ""
           },
           "baxis": {
            "gridcolor": "white",
            "linecolor": "white",
            "ticks": ""
           },
           "bgcolor": "#E5ECF6",
           "caxis": {
            "gridcolor": "white",
            "linecolor": "white",
            "ticks": ""
           }
          },
          "title": {
           "x": 0.05
          },
          "xaxis": {
           "automargin": true,
           "gridcolor": "white",
           "linecolor": "white",
           "ticks": "",
           "title": {
            "standoff": 15
           },
           "zerolinecolor": "white",
           "zerolinewidth": 2
          },
          "yaxis": {
           "automargin": true,
           "gridcolor": "white",
           "linecolor": "white",
           "ticks": "",
           "title": {
            "standoff": 15
           },
           "zerolinecolor": "white",
           "zerolinewidth": 2
          }
         }
        },
        "title": {
         "text": "Execution Time Distrubution for IsIntersection (Baseline)",
         "x": 0.5
        },
        "xaxis": {
         "title": {
          "text": "Execution Time (%)"
         }
        },
        "yaxis": {
         "title": {
          "text": "Context + Geometry Size)"
         }
        }
       }
      }
     },
     "metadata": {},
     "output_type": "display_data"
    },
    {
     "data": {
      "application/vnd.plotly.v1+json": {
       "config": {
        "plotlyServerURL": "https://plot.ly"
       },
       "data": [
        {
         "name": "Decompression Stage",
         "orientation": "h",
         "type": "bar",
         "x": [
          41.49885817113433,
          35.9916535732601,
          29.085353552309186,
          83.26189145135852,
          70.89255922965658,
          52.84827731119207,
          75.38918943180687,
          52.531203198116216,
          52.2934483533756,
          68.77932210007906,
          65.28266202002031,
          63.07378967002764,
          64.21128056854171,
          56.92809976168261,
          50.86216744866068
         ],
         "y": [
          [
           "Fully Inside Other (TRUE)",
           "Fully Inside Other (TRUE)",
           "Fully Inside Other (TRUE)",
           "Overlap (FALSE)",
           "Overlap (FALSE)",
           "Overlap (FALSE)",
           "Overlap (FALSE)",
           "Overlap (FALSE)",
           "Overlap (FALSE)",
           "Partial Overlap (TRUE)",
           "Partial Overlap (TRUE)",
           "Partial Overlap (TRUE)",
           "Partial Overlap (TRUE)",
           "Partial Overlap (TRUE)",
           "Partial Overlap (TRUE)"
          ],
          [
           "S/L",
           "S/M",
           "S/S",
           "L/L",
           "M/L",
           "M/M",
           "S/L",
           "S/M",
           "S/S",
           "L/L",
           "M/L",
           "M/M",
           "S/L",
           "S/M",
           "S/S"
          ]
         ]
        },
        {
         "name": "IsIntersection",
         "orientation": "h",
         "type": "bar",
         "x": [
          58.50114182886567,
          64.0083464267399,
          70.91464644769081,
          16.73810854864147,
          29.107440770343416,
          47.15172268880793,
          24.610810568193138,
          47.468796801883784,
          47.7065516466244,
          31.220677899920933,
          34.717337979979696,
          36.92621032997236,
          35.78871943145828,
          43.07190023831739,
          49.13783255133932
         ],
         "y": [
          [
           "Fully Inside Other (TRUE)",
           "Fully Inside Other (TRUE)",
           "Fully Inside Other (TRUE)",
           "Overlap (FALSE)",
           "Overlap (FALSE)",
           "Overlap (FALSE)",
           "Overlap (FALSE)",
           "Overlap (FALSE)",
           "Overlap (FALSE)",
           "Partial Overlap (TRUE)",
           "Partial Overlap (TRUE)",
           "Partial Overlap (TRUE)",
           "Partial Overlap (TRUE)",
           "Partial Overlap (TRUE)",
           "Partial Overlap (TRUE)"
          ],
          [
           "S/L",
           "S/M",
           "S/S",
           "L/L",
           "M/L",
           "M/M",
           "S/L",
           "S/M",
           "S/S",
           "L/L",
           "M/L",
           "M/M",
           "S/L",
           "S/M",
           "S/S"
          ]
         ]
        }
       ],
       "layout": {
        "barmode": "relative",
        "legend": {
         "x": 0.997,
         "xanchor": "right",
         "y": 1.2,
         "yanchor": "top"
        },
        "template": {
         "data": {
          "bar": [
           {
            "error_x": {
             "color": "#2a3f5f"
            },
            "error_y": {
             "color": "#2a3f5f"
            },
            "marker": {
             "line": {
              "color": "#E5ECF6",
              "width": 0.5
             },
             "pattern": {
              "fillmode": "overlay",
              "size": 10,
              "solidity": 0.2
             }
            },
            "type": "bar"
           }
          ],
          "barpolar": [
           {
            "marker": {
             "line": {
              "color": "#E5ECF6",
              "width": 0.5
             },
             "pattern": {
              "fillmode": "overlay",
              "size": 10,
              "solidity": 0.2
             }
            },
            "type": "barpolar"
           }
          ],
          "carpet": [
           {
            "aaxis": {
             "endlinecolor": "#2a3f5f",
             "gridcolor": "white",
             "linecolor": "white",
             "minorgridcolor": "white",
             "startlinecolor": "#2a3f5f"
            },
            "baxis": {
             "endlinecolor": "#2a3f5f",
             "gridcolor": "white",
             "linecolor": "white",
             "minorgridcolor": "white",
             "startlinecolor": "#2a3f5f"
            },
            "type": "carpet"
           }
          ],
          "choropleth": [
           {
            "colorbar": {
             "outlinewidth": 0,
             "ticks": ""
            },
            "type": "choropleth"
           }
          ],
          "contour": [
           {
            "colorbar": {
             "outlinewidth": 0,
             "ticks": ""
            },
            "colorscale": [
             [
              0,
              "#0d0887"
             ],
             [
              0.1111111111111111,
              "#46039f"
             ],
             [
              0.2222222222222222,
              "#7201a8"
             ],
             [
              0.3333333333333333,
              "#9c179e"
             ],
             [
              0.4444444444444444,
              "#bd3786"
             ],
             [
              0.5555555555555556,
              "#d8576b"
             ],
             [
              0.6666666666666666,
              "#ed7953"
             ],
             [
              0.7777777777777778,
              "#fb9f3a"
             ],
             [
              0.8888888888888888,
              "#fdca26"
             ],
             [
              1,
              "#f0f921"
             ]
            ],
            "type": "contour"
           }
          ],
          "contourcarpet": [
           {
            "colorbar": {
             "outlinewidth": 0,
             "ticks": ""
            },
            "type": "contourcarpet"
           }
          ],
          "heatmap": [
           {
            "colorbar": {
             "outlinewidth": 0,
             "ticks": ""
            },
            "colorscale": [
             [
              0,
              "#0d0887"
             ],
             [
              0.1111111111111111,
              "#46039f"
             ],
             [
              0.2222222222222222,
              "#7201a8"
             ],
             [
              0.3333333333333333,
              "#9c179e"
             ],
             [
              0.4444444444444444,
              "#bd3786"
             ],
             [
              0.5555555555555556,
              "#d8576b"
             ],
             [
              0.6666666666666666,
              "#ed7953"
             ],
             [
              0.7777777777777778,
              "#fb9f3a"
             ],
             [
              0.8888888888888888,
              "#fdca26"
             ],
             [
              1,
              "#f0f921"
             ]
            ],
            "type": "heatmap"
           }
          ],
          "heatmapgl": [
           {
            "colorbar": {
             "outlinewidth": 0,
             "ticks": ""
            },
            "colorscale": [
             [
              0,
              "#0d0887"
             ],
             [
              0.1111111111111111,
              "#46039f"
             ],
             [
              0.2222222222222222,
              "#7201a8"
             ],
             [
              0.3333333333333333,
              "#9c179e"
             ],
             [
              0.4444444444444444,
              "#bd3786"
             ],
             [
              0.5555555555555556,
              "#d8576b"
             ],
             [
              0.6666666666666666,
              "#ed7953"
             ],
             [
              0.7777777777777778,
              "#fb9f3a"
             ],
             [
              0.8888888888888888,
              "#fdca26"
             ],
             [
              1,
              "#f0f921"
             ]
            ],
            "type": "heatmapgl"
           }
          ],
          "histogram": [
           {
            "marker": {
             "pattern": {
              "fillmode": "overlay",
              "size": 10,
              "solidity": 0.2
             }
            },
            "type": "histogram"
           }
          ],
          "histogram2d": [
           {
            "colorbar": {
             "outlinewidth": 0,
             "ticks": ""
            },
            "colorscale": [
             [
              0,
              "#0d0887"
             ],
             [
              0.1111111111111111,
              "#46039f"
             ],
             [
              0.2222222222222222,
              "#7201a8"
             ],
             [
              0.3333333333333333,
              "#9c179e"
             ],
             [
              0.4444444444444444,
              "#bd3786"
             ],
             [
              0.5555555555555556,
              "#d8576b"
             ],
             [
              0.6666666666666666,
              "#ed7953"
             ],
             [
              0.7777777777777778,
              "#fb9f3a"
             ],
             [
              0.8888888888888888,
              "#fdca26"
             ],
             [
              1,
              "#f0f921"
             ]
            ],
            "type": "histogram2d"
           }
          ],
          "histogram2dcontour": [
           {
            "colorbar": {
             "outlinewidth": 0,
             "ticks": ""
            },
            "colorscale": [
             [
              0,
              "#0d0887"
             ],
             [
              0.1111111111111111,
              "#46039f"
             ],
             [
              0.2222222222222222,
              "#7201a8"
             ],
             [
              0.3333333333333333,
              "#9c179e"
             ],
             [
              0.4444444444444444,
              "#bd3786"
             ],
             [
              0.5555555555555556,
              "#d8576b"
             ],
             [
              0.6666666666666666,
              "#ed7953"
             ],
             [
              0.7777777777777778,
              "#fb9f3a"
             ],
             [
              0.8888888888888888,
              "#fdca26"
             ],
             [
              1,
              "#f0f921"
             ]
            ],
            "type": "histogram2dcontour"
           }
          ],
          "mesh3d": [
           {
            "colorbar": {
             "outlinewidth": 0,
             "ticks": ""
            },
            "type": "mesh3d"
           }
          ],
          "parcoords": [
           {
            "line": {
             "colorbar": {
              "outlinewidth": 0,
              "ticks": ""
             }
            },
            "type": "parcoords"
           }
          ],
          "pie": [
           {
            "automargin": true,
            "type": "pie"
           }
          ],
          "scatter": [
           {
            "fillpattern": {
             "fillmode": "overlay",
             "size": 10,
             "solidity": 0.2
            },
            "type": "scatter"
           }
          ],
          "scatter3d": [
           {
            "line": {
             "colorbar": {
              "outlinewidth": 0,
              "ticks": ""
             }
            },
            "marker": {
             "colorbar": {
              "outlinewidth": 0,
              "ticks": ""
             }
            },
            "type": "scatter3d"
           }
          ],
          "scattercarpet": [
           {
            "marker": {
             "colorbar": {
              "outlinewidth": 0,
              "ticks": ""
             }
            },
            "type": "scattercarpet"
           }
          ],
          "scattergeo": [
           {
            "marker": {
             "colorbar": {
              "outlinewidth": 0,
              "ticks": ""
             }
            },
            "type": "scattergeo"
           }
          ],
          "scattergl": [
           {
            "marker": {
             "colorbar": {
              "outlinewidth": 0,
              "ticks": ""
             }
            },
            "type": "scattergl"
           }
          ],
          "scattermapbox": [
           {
            "marker": {
             "colorbar": {
              "outlinewidth": 0,
              "ticks": ""
             }
            },
            "type": "scattermapbox"
           }
          ],
          "scatterpolar": [
           {
            "marker": {
             "colorbar": {
              "outlinewidth": 0,
              "ticks": ""
             }
            },
            "type": "scatterpolar"
           }
          ],
          "scatterpolargl": [
           {
            "marker": {
             "colorbar": {
              "outlinewidth": 0,
              "ticks": ""
             }
            },
            "type": "scatterpolargl"
           }
          ],
          "scatterternary": [
           {
            "marker": {
             "colorbar": {
              "outlinewidth": 0,
              "ticks": ""
             }
            },
            "type": "scatterternary"
           }
          ],
          "surface": [
           {
            "colorbar": {
             "outlinewidth": 0,
             "ticks": ""
            },
            "colorscale": [
             [
              0,
              "#0d0887"
             ],
             [
              0.1111111111111111,
              "#46039f"
             ],
             [
              0.2222222222222222,
              "#7201a8"
             ],
             [
              0.3333333333333333,
              "#9c179e"
             ],
             [
              0.4444444444444444,
              "#bd3786"
             ],
             [
              0.5555555555555556,
              "#d8576b"
             ],
             [
              0.6666666666666666,
              "#ed7953"
             ],
             [
              0.7777777777777778,
              "#fb9f3a"
             ],
             [
              0.8888888888888888,
              "#fdca26"
             ],
             [
              1,
              "#f0f921"
             ]
            ],
            "type": "surface"
           }
          ],
          "table": [
           {
            "cells": {
             "fill": {
              "color": "#EBF0F8"
             },
             "line": {
              "color": "white"
             }
            },
            "header": {
             "fill": {
              "color": "#C8D4E3"
             },
             "line": {
              "color": "white"
             }
            },
            "type": "table"
           }
          ]
         },
         "layout": {
          "annotationdefaults": {
           "arrowcolor": "#2a3f5f",
           "arrowhead": 0,
           "arrowwidth": 1
          },
          "autotypenumbers": "strict",
          "coloraxis": {
           "colorbar": {
            "outlinewidth": 0,
            "ticks": ""
           }
          },
          "colorscale": {
           "diverging": [
            [
             0,
             "#8e0152"
            ],
            [
             0.1,
             "#c51b7d"
            ],
            [
             0.2,
             "#de77ae"
            ],
            [
             0.3,
             "#f1b6da"
            ],
            [
             0.4,
             "#fde0ef"
            ],
            [
             0.5,
             "#f7f7f7"
            ],
            [
             0.6,
             "#e6f5d0"
            ],
            [
             0.7,
             "#b8e186"
            ],
            [
             0.8,
             "#7fbc41"
            ],
            [
             0.9,
             "#4d9221"
            ],
            [
             1,
             "#276419"
            ]
           ],
           "sequential": [
            [
             0,
             "#0d0887"
            ],
            [
             0.1111111111111111,
             "#46039f"
            ],
            [
             0.2222222222222222,
             "#7201a8"
            ],
            [
             0.3333333333333333,
             "#9c179e"
            ],
            [
             0.4444444444444444,
             "#bd3786"
            ],
            [
             0.5555555555555556,
             "#d8576b"
            ],
            [
             0.6666666666666666,
             "#ed7953"
            ],
            [
             0.7777777777777778,
             "#fb9f3a"
            ],
            [
             0.8888888888888888,
             "#fdca26"
            ],
            [
             1,
             "#f0f921"
            ]
           ],
           "sequentialminus": [
            [
             0,
             "#0d0887"
            ],
            [
             0.1111111111111111,
             "#46039f"
            ],
            [
             0.2222222222222222,
             "#7201a8"
            ],
            [
             0.3333333333333333,
             "#9c179e"
            ],
            [
             0.4444444444444444,
             "#bd3786"
            ],
            [
             0.5555555555555556,
             "#d8576b"
            ],
            [
             0.6666666666666666,
             "#ed7953"
            ],
            [
             0.7777777777777778,
             "#fb9f3a"
            ],
            [
             0.8888888888888888,
             "#fdca26"
            ],
            [
             1,
             "#f0f921"
            ]
           ]
          },
          "colorway": [
           "#636efa",
           "#EF553B",
           "#00cc96",
           "#ab63fa",
           "#FFA15A",
           "#19d3f3",
           "#FF6692",
           "#B6E880",
           "#FF97FF",
           "#FECB52"
          ],
          "font": {
           "color": "#2a3f5f"
          },
          "geo": {
           "bgcolor": "white",
           "lakecolor": "white",
           "landcolor": "#E5ECF6",
           "showlakes": true,
           "showland": true,
           "subunitcolor": "white"
          },
          "hoverlabel": {
           "align": "left"
          },
          "hovermode": "closest",
          "mapbox": {
           "style": "light"
          },
          "paper_bgcolor": "white",
          "plot_bgcolor": "#E5ECF6",
          "polar": {
           "angularaxis": {
            "gridcolor": "white",
            "linecolor": "white",
            "ticks": ""
           },
           "bgcolor": "#E5ECF6",
           "radialaxis": {
            "gridcolor": "white",
            "linecolor": "white",
            "ticks": ""
           }
          },
          "scene": {
           "xaxis": {
            "backgroundcolor": "#E5ECF6",
            "gridcolor": "white",
            "gridwidth": 2,
            "linecolor": "white",
            "showbackground": true,
            "ticks": "",
            "zerolinecolor": "white"
           },
           "yaxis": {
            "backgroundcolor": "#E5ECF6",
            "gridcolor": "white",
            "gridwidth": 2,
            "linecolor": "white",
            "showbackground": true,
            "ticks": "",
            "zerolinecolor": "white"
           },
           "zaxis": {
            "backgroundcolor": "#E5ECF6",
            "gridcolor": "white",
            "gridwidth": 2,
            "linecolor": "white",
            "showbackground": true,
            "ticks": "",
            "zerolinecolor": "white"
           }
          },
          "shapedefaults": {
           "line": {
            "color": "#2a3f5f"
           }
          },
          "ternary": {
           "aaxis": {
            "gridcolor": "white",
            "linecolor": "white",
            "ticks": ""
           },
           "baxis": {
            "gridcolor": "white",
            "linecolor": "white",
            "ticks": ""
           },
           "bgcolor": "#E5ECF6",
           "caxis": {
            "gridcolor": "white",
            "linecolor": "white",
            "ticks": ""
           }
          },
          "title": {
           "x": 0.05
          },
          "xaxis": {
           "automargin": true,
           "gridcolor": "white",
           "linecolor": "white",
           "ticks": "",
           "title": {
            "standoff": 15
           },
           "zerolinecolor": "white",
           "zerolinewidth": 2
          },
          "yaxis": {
           "automargin": true,
           "gridcolor": "white",
           "linecolor": "white",
           "ticks": "",
           "title": {
            "standoff": 15
           },
           "zerolinecolor": "white",
           "zerolinewidth": 2
          }
         }
        },
        "title": {
         "text": "Execution Time Distrubution for IsIntersection ",
         "x": 0.5
        },
        "xaxis": {
         "title": {
          "text": "Execution Time (%)"
         }
        },
        "yaxis": {
         "title": {
          "text": "Context + Geometry Size)"
         }
        }
       }
      }
     },
     "metadata": {},
     "output_type": "display_data"
    }
   ],
   "source": [
    "\n",
    "plot_partial_decomp_frac(partial_frac_df, is_predicate=False, is_baseline=True)\n",
    "plot_partial_decomp_frac(partial_frac_df, is_predicate=False, is_baseline=False)\n",
    "plot_partial_decomp_frac(partial_frac_df, is_predicate=True, is_baseline=True)\n",
    "plot_partial_decomp_frac(partial_frac_df, is_predicate=True, is_baseline=False)"
   ]
  },
  {
   "attachments": {},
   "cell_type": "markdown",
   "metadata": {},
   "source": [
    "#### MAX_NBR_DELTAS Analysis"
   ]
  }
 ],
 "metadata": {
  "kernelspec": {
   "display_name": "Python 3",
   "language": "python",
   "name": "python3"
  },
  "language_info": {
   "codemirror_mode": {
    "name": "ipython",
    "version": 3
   },
   "file_extension": ".py",
   "mimetype": "text/x-python",
   "name": "python",
   "nbconvert_exporter": "python",
   "pygments_lexer": "ipython3",
   "version": "3.11.1"
  },
  "orig_nbformat": 4,
  "vscode": {
   "interpreter": {
    "hash": "aee8b7b246df8f9039afb4144a1f6fd8d2ca17a180786b69acc140d282b71a49"
   }
  }
 },
 "nbformat": 4,
 "nbformat_minor": 2
}
