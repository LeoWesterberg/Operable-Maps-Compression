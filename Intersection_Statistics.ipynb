{
 "cells": [
  {
   "attachments": {},
   "cell_type": "markdown",
   "metadata": {},
   "source": [
    "#### Imports"
   ]
  },
  {
   "cell_type": "code",
   "execution_count": 1,
   "metadata": {},
   "outputs": [],
   "source": [
    "import numpy as np\n",
    "import shapely\n",
    "import bisect\n",
    "import shapely.wkt\n",
    "import matplotlib.pyplot as plt\n",
    "import math\n",
    "import geopandas as gpd\n",
    "import json\n",
    "import pandas as pd\n",
    "import seaborn as sns\n",
    "from enum import Enum\n",
    "import plotly.graph_objects as go\n",
    "from plotly.subplots import make_subplots\n",
    "import plotly.express as px\n",
    "\n",
    "import intersection.first_bin_search\n",
    "import intersection.chunk_bbox_intersection\n",
    "from bench_utils import parse_intersection_data \n",
    "common_bbox = intersection.chunk_bbox_intersection.common_bbox\n",
    "chunk_bbox_is_intersecting = intersection.chunk_bbox_intersection.is_intersecting\n",
    "chunk_bbox_intersection = intersection.chunk_bbox_intersection.intersection\n",
    "\n",
    "\n",
    "\n",
    "from intersection.plotting import *\n",
    "import algos.fpd_extended_lib.cfg as cfg\n",
    "from algos.alg_fpd_extended import FpdExtended\n",
    "\n",
    "\n",
    "pd.options.mode.chained_assignment = None  # default='warn'"
   ]
  },
  {
   "attachments": {},
   "cell_type": "markdown",
   "metadata": {},
   "source": [
    "#### Import data"
   ]
  },
  {
   "cell_type": "code",
   "execution_count": 2,
   "metadata": {},
   "outputs": [],
   "source": [
    "fpd = FpdExtended()\n",
    "\n",
    "# Geometries\n",
    "manual_data, _ = parse_intersection_data(\"manual\")\n",
    "special_cases, _ = parse_intersection_data(\"latest_export.json\", strip_precision=True)\n",
    "world_data, world_data_stats = parse_intersection_data(\"world.json\",1500, strip_precision=True)\n",
    "lund_data, lund_data_stats = parse_intersection_data(\"lund.json\",10000)\n",
    "sweden_data, sweden_data_stats = parse_intersection_data(\"sweden-places-a.json\")\n",
    "new_york_data, new_york_data_stats = parse_intersection_data(\"new-york-natural.json\")\n",
    "waterways_data, waterways_data_stats = parse_intersection_data(\"nord-est-waterways.json\",2000)\n",
    "\n",
    "datasets = [\n",
    "    (manual_data, 3),\n",
    "    (special_cases, 3),\n",
    "    (world_data, 15),\n",
    "    (lund_data, 3),\n",
    "    (sweden_data, 15),\n",
    "    (new_york_data, 15),\n",
    "    (waterways_data, 5)\n",
    "]\n"
   ]
  },
  {
   "attachments": {},
   "cell_type": "markdown",
   "metadata": {},
   "source": [
    "#### Constants"
   ]
  },
  {
   "cell_type": "code",
   "execution_count": 3,
   "metadata": {},
   "outputs": [],
   "source": [
    "# Number of total iterations = NBR_ITER * N * number_of_datasets\n",
    "NBR_ITER = -1 # Number of iterations for each dataset\n",
    "N = 5 # Number of times to recalculate each geometry for reliable mean value\n",
    "\n",
    "# Max DELTA_SIZE_VALUE in MAX_NUM_DELTAS Analysis\n",
    "MAX_DELTA_SIZE = 100\n",
    "\n",
    "#Geometry classification sizes\n",
    "MEDIUM_THRESHOLD = 50\n",
    "LARGE_THRESHOLD = 100\n",
    "\n",
    "\n",
    "SAVE_DFS = True\n",
    "USE_EXISTING_DF = True"
   ]
  },
  {
   "attachments": {},
   "cell_type": "markdown",
   "metadata": {},
   "source": [
    "## Functions Section"
   ]
  },
  {
   "attachments": {},
   "cell_type": "markdown",
   "metadata": {},
   "source": [
    "#### Config Setter Functions"
   ]
  },
  {
   "cell_type": "code",
   "execution_count": 4,
   "metadata": {},
   "outputs": [],
   "source": [
    "def set_max_num_delta(val):\n",
    "        cfg.MAX_NUM_DELTAS = val\n",
    "        cfg.D_CNT_SIZE = cfg.required_bits(val)\n",
    "\n",
    "def act_deact_baseline(activate=True):\n",
    "        cfg.BASELINE_ON = activate\n",
    "        cfg.DISABLE_OPTIMIZED_INTERSECTION = False if not activate else True\n",
    "        cfg.DISABLE_OPTIMIZED_ADD_VERTEX = False if not activate else True\n",
    "        cfg.DISABLE_OPTIMIZED_BOUNDING_BOX = False if not activate else True"
   ]
  },
  {
   "attachments": {},
   "cell_type": "markdown",
   "metadata": {},
   "source": [
    "#### Stats Collector Functions"
   ]
  },
  {
   "cell_type": "code",
   "execution_count": 5,
   "metadata": {},
   "outputs": [],
   "source": [
    "def get_size_category(size):\n",
    "    if size < LARGE_THRESHOLD and size >= MEDIUM_THRESHOLD:\n",
    "            return \"Medium\", 1\n",
    "    elif size >= LARGE_THRESHOLD:\n",
    "         return \"Large\", 2\n",
    "    else:\n",
    "         return \"Small\", 0\n",
    "    \n",
    "def get_intersection_category(size1, size2):\n",
    "    size1_cat, type1 = get_size_category(size1)\n",
    "    size2_cat, type2 = get_size_category(size2)\n",
    "\n",
    "    if type1 <= type2:\n",
    "        return size1_cat + \"/\" + size2_cat\n",
    "    return size2_cat + \"/\" + size1_cat\n",
    "\n",
    "\n",
    "def get_context_category(g1, g2, bins=None):\n",
    "    if bins == None:\n",
    "        _, b1_fpde = fpd.compress(g1)\n",
    "        _, b2_fpde = fpd.compress(g2) \n",
    "    else:\n",
    "        b1_fpde, b2_fpde = bins\n",
    "\n",
    "    bbox = common_bbox((b1_fpde, b2_fpde))\n",
    "    intersects = shapely.intersection(g1, g2)\n",
    "    contains = shapely.contains(g1, g2) or shapely.contains(g2, g1)\n",
    "    if not bbox:\n",
    "        return \"No Overlap (FALSE)\"\n",
    "    elif not intersects:\n",
    "        return \"Overlap (FALSE)\"\n",
    "    elif not contains:\n",
    "        return \"Partial Overlap (TRUE)\"\n",
    "    else:\n",
    "        return \"Fully Inside Other (TRUE)\"\n",
    "\n",
    "def get_category_stat(g1, g2):\n",
    "        s1, s2 = (shapely.get_num_coordinates(g1), shapely.get_num_coordinates(g2))\n",
    "        size_category = get_intersection_category(s1, s2)\n",
    "        context_category = get_context_category(g1, g2)\n",
    "        return [size_category, context_category]\n",
    "\n",
    "\n",
    "#For taking mean of all stats, not just total time\n",
    "def get_time_stat(bins, predicate=False):\n",
    "    alg = chunk_bbox_is_intersecting if predicate else chunk_bbox_intersection\n",
    "    # 'decomp', 'nbr_recieved_chks', 'nbr_total_chks', 'total_time'\n",
    "    mean_stat = [0, 0, 0, 0]\n",
    "    for i in range(N):\n",
    "        stat, _ = alg(bins, get_stats=True)\n",
    "        mean_stat = [sum(x) for x in zip(mean_stat, stat)]\n",
    "    return mean_stat\n"
   ]
  },
  {
   "attachments": {},
   "cell_type": "markdown",
   "metadata": {},
   "source": [
    "#### Dataset Evaluation"
   ]
  },
  {
   "cell_type": "code",
   "execution_count": 6,
   "metadata": {},
   "outputs": [],
   "source": [
    "def evaluate_dataset(data, stats_df, delta_size=None, not_predicate=False, add_size=False):\n",
    "    for idx, (g1, g2) in enumerate(data):\n",
    "        if delta_size != None:\n",
    "            set_max_num_delta(delta_size)\n",
    "        #is_intersecting, intersect_points = binary_intersection(g1, g2)\n",
    "        bins = (fpd.compress(g1)[1], fpd.compress(g2)[1])\n",
    "\n",
    "        for is_predicate in [False] if not_predicate else [True, False]:\n",
    "            stats = []\n",
    "            stats.extend(get_time_stat(bins=bins, predicate=is_predicate))\n",
    "            stats.extend(get_category_stat(g1, g2))\n",
    "            stats.append(delta_size if delta_size != None else cfg.MAX_NUM_DELTAS)\n",
    "            stats.append(is_predicate)\n",
    "            stats.append(idx)\n",
    "            stats.append(cfg.BASELINE_ON)\n",
    "            if add_size:\n",
    "                stats.append(len(bins[0]) + len(bins[1]))\n",
    "            stats_df.loc[len(stats_df)] = stats"
   ]
  },
  {
   "attachments": {},
   "cell_type": "markdown",
   "metadata": {},
   "source": [
    "# Statistics Visualization"
   ]
  },
  {
   "attachments": {},
   "cell_type": "markdown",
   "metadata": {},
   "source": [
    "#### Best MAX_NUM_DELTAS per Dataset Analysis"
   ]
  },
  {
   "cell_type": "code",
   "execution_count": 7,
   "metadata": {},
   "outputs": [],
   "source": [
    "from tqdm import tqdm\n",
    "\n",
    "if not USE_EXISTING_DF:\n",
    "    max_deltas_df = pd.DataFrame(columns=['decomp', 'nbr_recieved_chks', 'nbr_total_chks', 'total_time', \"sizes\", \"context\", \"delta_size\", \"predicate\", \"dataset_idx\", \"baseline\", \"sum_size\"])\n",
    "    for max_delta_size in tqdm(range(0,MAX_DELTA_SIZE)):\n",
    "        for dataset in [val[0] for val in datasets]:\n",
    "            act_deact_baseline(activate=False)        \n",
    "            evaluate_dataset(data=dataset, stats_df=max_deltas_df, delta_size=max_delta_size, not_predicate=True, add_size=True)    \n",
    "    max_deltas_df.to_csv('max_deltas_df.csv', index=False)\n",
    "else:\n",
    "    max_deltas_df = pd.read_csv('max_deltas_df2.csv')"
   ]
  },
  {
   "cell_type": "code",
   "execution_count": 8,
   "metadata": {},
   "outputs": [],
   "source": [
    "max_deltas_filt_df = max_deltas_df[['total_time', 'sum_size', \"sizes\", \"delta_size\", \"predicate\", \"baseline\"]]"
   ]
  },
  {
   "attachments": {},
   "cell_type": "markdown",
   "metadata": {},
   "source": [
    "### Helper"
   ]
  },
  {
   "cell_type": "code",
   "execution_count": 9,
   "metadata": {},
   "outputs": [],
   "source": [
    "\n",
    "import plotly.graph_objs as objs\n",
    "\n",
    "def make_general_facet_title(fig, x_title, y_title, secondary=None, barplot=False, hbarplot=False):\n",
    "    #Remove current axis titles\n",
    "    for axis in fig.layout:\n",
    "        if type(fig.layout[axis]) == objs.layout.XAxis:\n",
    "            fig.layout[axis].title.text = ''\n",
    "\n",
    "    for axis in fig.layout:\n",
    "        if type(fig.layout[axis]) == objs.layout.YAxis:\n",
    "            fig.layout[axis].title.text = '' \n",
    "\n",
    "    fig.add_annotation(\n",
    "    dict(\n",
    "        x=0.48 if not barplot else 0.5,\n",
    "        y=-0.04 if not barplot else -0.15,  # adjust as needed\n",
    "        showarrow=False,\n",
    "        text=x_title,\n",
    "        xref=\"paper\",\n",
    "        yref=\"paper\",\n",
    "        font=dict(size=20),\n",
    "        xanchor=\"center\", \n",
    "        yanchor=\"top\"\n",
    "    )\n",
    "    )\n",
    "\n",
    "    if secondary != None:\n",
    "        fig.add_annotation(\n",
    "        dict(\n",
    "            x=1.01,  # adjust as needed\n",
    "            y=0.5,\n",
    "            showarrow=False,\n",
    "            text=secondary,\n",
    "            textangle=-90,  # to rotate the text for the vertical y-axis\n",
    "            xref=\"paper\",\n",
    "            yref=\"paper\",\n",
    "            font=dict(size=20),\n",
    "            xanchor=\"center\",\n",
    "            yanchor=\"middle\"\n",
    "        )\n",
    "    )\n",
    "\n",
    "    fig.add_annotation(\n",
    "    dict(\n",
    "        x=-0.08 if not barplot else -0.07,  # adjust as needed\n",
    "        y=0.5,\n",
    "        showarrow=False,\n",
    "        text=y_title,\n",
    "        textangle=-90,\n",
    "        xref=\"paper\",\n",
    "        yref=\"paper\",\n",
    "        font=dict(size=20),\n",
    "        xanchor=\"center\",\n",
    "        yanchor=\"middle\"\n",
    "    )\n",
    ")"
   ]
  },
  {
   "cell_type": "code",
   "execution_count": 10,
   "metadata": {},
   "outputs": [],
   "source": [
    "def plot_max_delta_size_speed(df, is_predicate=False, no_mixed=False, relative=False):\n",
    "    if no_mixed:\n",
    "        df = df[df['sizes'].isin([\"Small/Small\", \"Medium/Medium\", \"Large/Large\"])]\n",
    "    specs_element = [{\"secondary_y\": True}] if no_mixed else [{\"secondary_y\": True}, {\"secondary_y\": True}]\n",
    "\n",
    "    df = df[df['predicate'] == is_predicate]\n",
    "    df = df.groupby(['delta_size', 'sizes', 'baseline']).mean()\n",
    "    df.reset_index(inplace=True)\n",
    "    \n",
    "    sizes = dict(zip(list(df.sizes.unique()), range(len(df.sizes.unique()))))\n",
    "\n",
    "    fig = make_subplots(rows=3, cols=1 if no_mixed else 2, \n",
    "                        subplot_titles=(list(map(lambda x: \"Geometry Sizes=\" + x.split('/')[0], sizes.keys()))), \n",
    "                        horizontal_spacing=0.08, \n",
    "                        vertical_spacing=0.07, \n",
    "                        #x_title=\"Max Chunk Size\",  y_title=\"Mean Execution Time (s)\", \n",
    "                        specs=[specs_element,\n",
    "                              specs_element,\n",
    "                              specs_element])\n",
    "    \n",
    "    #For not showing the same legend twice\n",
    "    legend_showed = False\n",
    "\n",
    "    for size in sizes.keys():\n",
    "        curr_context_df = df[(df['sizes'] == size)]\n",
    "\n",
    "        for is_baseline in [False] if relative else [True, False]:\n",
    "\n",
    "            line = dict(color='blue' if is_baseline else 'red', dash='dash' if is_baseline else None)\n",
    "\n",
    "            curr_df = curr_context_df[curr_context_df['baseline'] == is_baseline]\n",
    "\n",
    "\n",
    "            baseline_formatting = \"FPDE\" if not is_baseline else \"Baseline\"\n",
    "            baseline_value = curr_context_df[(curr_context_df['baseline'] == True) & (curr_context_df['delta_size'] == 99)]\n",
    "\n",
    "            curr_df['total_time'] = curr_df['total_time'].divide(baseline_value.total_time.values[0], axis=0)\n",
    "            \n",
    "\n",
    "            curr_df[\"total_time\"] = curr_df.sort_values(by='delta_size')['total_time'].rolling(window=5, min_periods=1).mean()\n",
    "\n",
    "            fig.add_trace(go.Scatter(x=curr_df.delta_size.values, y= curr_df.total_time.values,\n",
    "                                    mode='lines',\n",
    "                                    line=line,\n",
    "                                    showlegend=not legend_showed,\n",
    "                                    name=f\"{baseline_formatting}\"),col=sizes[size] // 3 + 1 if no_mixed else 1, row=sizes[size] % 3 + 1,\n",
    "                                    secondary_y=False)\n",
    "            \n",
    "            if not is_baseline:\n",
    "                fig.add_trace(go.Scatter(x=curr_df.delta_size.values, y=curr_df.sum_size.values,\n",
    "                                        mode='lines',\n",
    "                                        line=dict(color='green', dash='dash'),\n",
    "                                        showlegend=not legend_showed,\n",
    "                                        name=f\"Average size (bits)\"),col=sizes[size] // 3 + 1 if no_mixed else 1, row=sizes[size] % 3 + 1,\n",
    "                                        secondary_y=True)\n",
    "                legend_showed = True\n",
    "\n",
    "                mix_delta_size = curr_df.sort_values(by='total_time').delta_size.values[0]\n",
    "\n",
    "                fig.add_vrect(x0=mix_delta_size - 1, x1=mix_delta_size + 1, col=sizes[size] // 3 + 1 if no_mixed else 1, row=sizes[size] % 3 + 1,\n",
    "                annotation_text=f\"Min={mix_delta_size}\", annotation_position=\"inside\",\n",
    "                fillcolor=\"green\", opacity=0.25, line_width=0, annotation = dict(textangle=-90, font=dict(size=16)))\n",
    "    \n",
    "    #For changing facet size\n",
    "    # for annotation in fig['layout']['annotations']:\n",
    "    #     annotation['font']['size'] = 18  # Set your desired font size here\n",
    "\n",
    "    intersection_format = \"Intersection\" if not is_predicate else \"IsIntersection\"\n",
    "    baseline_format = \"\" if not is_baseline else \"(Baseline)\"\n",
    "    fig.update_layout(\n",
    "                      title_x=0.5,\n",
    "                      width=1000, \n",
    "                      height=1000, \n",
    "                      legend=dict(\n",
    "                            yanchor=\"top\",\n",
    "                            y=-0.037,\n",
    "                            xanchor=\"left\",\n",
    "                            x=0.7,\n",
    "                            orientation=\"h\",\n",
    "                            font=dict(size=15),\n",
    "                        ),\n",
    "                        title=dict(\n",
    "                            text=f'Relative Execution Time for {intersection_format} by Max Chunk Size {baseline_format}',\n",
    "                            x=0.5,\n",
    "                            font=dict(size=22)\n",
    "                            )\n",
    "                        )\n",
    "\n",
    "    #fig.update_annotations(textangle=-90, font=dict(size=14)) \n",
    "    fig.update_annotations(font=dict(size=16))\n",
    "    fig.update_yaxes(secondary_y=False, type=\"log\", tickfont=dict(size=16))\n",
    "    fig.update_xaxes(tickfont=dict(size=16))\n",
    "\n",
    "    make_general_facet_title(fig, \"Max Chunk Size\", \"Relative Mean Execution Time (%)\", secondary=\"Mean Size (bits)\")\n",
    "   \n",
    "\n",
    "    fig.show()"
   ]
  },
  {
   "attachments": {},
   "cell_type": "markdown",
   "metadata": {},
   "source": []
  },
  {
   "cell_type": "code",
   "execution_count": 11,
   "metadata": {},
   "outputs": [
    {
     "data": {
      "application/vnd.plotly.v1+json": {
       "config": {
        "plotlyServerURL": "https://plot.ly"
       },
       "data": [
        {
         "line": {
          "color": "red"
         },
         "mode": "lines",
         "name": "FPDE",
         "showlegend": true,
         "type": "scatter",
         "x": [
          0,
          1,
          2,
          3,
          4,
          5,
          6,
          7,
          8,
          9,
          10,
          11,
          12,
          13,
          14,
          15,
          16,
          17,
          18,
          19,
          20,
          21,
          22,
          23,
          24,
          25,
          26,
          27,
          28,
          29,
          30,
          31,
          32,
          33,
          34,
          35,
          36,
          37,
          38,
          39,
          40,
          41,
          42,
          43,
          44,
          45,
          46,
          47,
          48,
          49,
          50,
          51,
          52,
          53,
          54,
          55,
          56,
          57,
          58,
          59,
          60,
          61,
          62,
          63,
          64,
          65,
          66,
          67,
          68,
          69,
          70,
          71,
          72,
          73,
          74,
          75,
          76,
          77,
          78,
          79,
          80,
          81,
          82,
          83,
          84,
          85,
          86,
          87,
          88,
          89,
          90,
          91,
          92,
          93,
          94,
          95,
          96,
          97,
          98,
          99
         ],
         "xaxis": "x",
         "y": [
          1.118910192285389,
          0.8154159104220322,
          0.6639619565795439,
          0.5696315857842392,
          0.5134781683543608,
          0.3388936300065137,
          0.28184905932963955,
          0.2511052752649558,
          0.23215204041758875,
          0.2108851445298304,
          0.19875166352296858,
          0.19045975693239522,
          0.18493208199621516,
          0.18345508634026256,
          0.18409650541586697,
          0.18398837893997377,
          0.1835589707198611,
          0.1870029126203218,
          0.187039362797425,
          0.18693734618232583,
          0.18759947627345366,
          0.19152413593561213,
          0.19280294753045696,
          0.19562015218874246,
          0.2022891850301301,
          0.20808307350719324,
          0.20657393729467616,
          0.2060563566814607,
          0.20734476550821848,
          0.20402504407102837,
          0.19969767856850487,
          0.19986150212397183,
          0.20031974600717278,
          0.20007553688961152,
          0.20141741442866135,
          0.20474172524139314,
          0.20636430611718656,
          0.20968345915787823,
          0.21463877608847293,
          0.21252782879932047,
          0.21493468256703424,
          0.2131263586550755,
          0.20905126246225883,
          0.2058592612394945,
          0.2084423653032713,
          0.2065996981961403,
          0.2118441381642938,
          0.21577056263932387,
          0.2173741837318483,
          0.221854262558921,
          0.22405108486399997,
          0.22654945223695125,
          0.23013087633803578,
          0.23901326518057484,
          0.23664304546842913,
          0.23498562733744607,
          0.2326391346732318,
          0.23638809725212545,
          0.23184949961821144,
          0.2383450536796249,
          0.2435316204442315,
          0.24684659280984672,
          0.24399590495789356,
          0.24399314605295497,
          0.24321517874106374,
          0.2436645816862752,
          0.24697919121010087,
          0.2491950532255232,
          0.25031162998505135,
          0.25026274148510647,
          0.2544567826429639,
          0.2569140874450646,
          0.25751796943570665,
          0.2584267034890747,
          0.26025371669463443,
          0.26328041331552143,
          0.2653739308201294,
          0.2691482205159281,
          0.2728068050935414,
          0.2740385770982495,
          0.2697452715691851,
          0.26646535041984387,
          0.2663967874019689,
          0.2671350342151674,
          0.26853272548289137,
          0.2731771001395622,
          0.27817009414760063,
          0.27562140580292016,
          0.27566281669577186,
          0.27607567236050456,
          0.27220040186886163,
          0.26808691924736755,
          0.27088260272153847,
          0.27328323672754096,
          0.2743298305220006,
          0.2755690753291696,
          0.28262257936071356,
          0.28566190153247345,
          0.2883888914217581,
          0.2925837597966883
         ],
         "yaxis": "y"
        },
        {
         "line": {
          "color": "green",
          "dash": "dash"
         },
         "mode": "lines",
         "name": "Average size (bits)",
         "showlegend": true,
         "type": "scatter",
         "x": [
          0,
          1,
          2,
          3,
          4,
          5,
          6,
          7,
          8,
          9,
          10,
          11,
          12,
          13,
          14,
          15,
          16,
          17,
          18,
          19,
          20,
          21,
          22,
          23,
          24,
          25,
          26,
          27,
          28,
          29,
          30,
          31,
          32,
          33,
          34,
          35,
          36,
          37,
          38,
          39,
          40,
          41,
          42,
          43,
          44,
          45,
          46,
          47,
          48,
          49,
          50,
          51,
          52,
          53,
          54,
          55,
          56,
          57,
          58,
          59,
          60,
          61,
          62,
          63,
          64,
          65,
          66,
          67,
          68,
          69,
          70,
          71,
          72,
          73,
          74,
          75,
          76,
          77,
          78,
          79,
          80,
          81,
          82,
          83,
          84,
          85,
          86,
          87,
          88,
          89,
          90,
          91,
          92,
          93,
          94,
          95,
          96,
          97,
          98,
          99
         ],
         "xaxis": "x",
         "y": [
          87652.72672672673,
          53616.12012012012,
          42227.7987987988,
          36569.087087087086,
          33161.66066066066,
          30870.61261261261,
          29252.258258258258,
          28017.933933933935,
          27062.366366366365,
          26314.86186186186,
          25682.267267267267,
          25170.525525525525,
          24729.534534534534,
          24363.1021021021,
          24036.774774774774,
          23713.195195195196,
          23466.651651651653,
          23242.6006006006,
          23050.42042042042,
          22873.54954954955,
          22700.357357357356,
          22554.867867867866,
          22430.8018018018,
          22305.29129129129,
          22187.75075075075,
          22085.513513513513,
          21994.732732732733,
          21908.891891891893,
          21827.24024024024,
          21748.3003003003,
          21671.462462462463,
          21583.816816816816,
          21518.213213213214,
          21462.36036036036,
          21408.59159159159,
          21350.618618618617,
          21302.642642642644,
          21257.642642642644,
          21211.58258258258,
          21173.375375375377,
          21132.267267267267,
          21089.24024024024,
          21055.237237237237,
          21014.942942942944,
          20981.67867867868,
          20954.03903903904,
          20923.114114114112,
          20894.57957957958,
          20866.390390390392,
          20838.09009009009,
          20820.942942942944,
          20792.726726726727,
          20766.237237237237,
          20747.975975975976,
          20723.78078078078,
          20706.534534534534,
          20689.672672672674,
          20669.891891891893,
          20646.6996996997,
          20629.97897897898,
          20611.654654654656,
          20593.34234234234,
          20576.654654654656,
          20569.62762762763,
          20551.237237237237,
          20534.798798798798,
          20524.921921921923,
          20512.432432432433,
          20498.36336336336,
          20485.72072072072,
          20468.82282282282,
          20458.16816816817,
          20446.507507507507,
          20437.13813813814,
          20424.12012012012,
          20413.645645645647,
          20399.318318318317,
          20388.705705705706,
          20379.03903903904,
          20369.45045045045,
          20361.753753753754,
          20349.201201201202,
          20340.285285285285,
          20330.732732732733,
          20323.609609609608,
          20315.084084084083,
          20305.633633633635,
          20295.255255255255,
          20289.87087087087,
          20280.765765765766,
          20273.57957957958,
          20266.696696696697,
          20258.255255255255,
          20251.6006006006,
          20244.62762762763,
          20241.70870870871,
          20233.276276276276,
          20224.756756756757,
          20216.525525525525,
          20210.09309309309
         ],
         "yaxis": "y2"
        },
        {
         "line": {
          "color": "red"
         },
         "mode": "lines",
         "name": "FPDE",
         "showlegend": false,
         "type": "scatter",
         "x": [
          0,
          1,
          2,
          3,
          4,
          5,
          6,
          7,
          8,
          9,
          10,
          11,
          12,
          13,
          14,
          15,
          16,
          17,
          18,
          19,
          20,
          21,
          22,
          23,
          24,
          25,
          26,
          27,
          28,
          29,
          30,
          31,
          32,
          33,
          34,
          35,
          36,
          37,
          38,
          39,
          40,
          41,
          42,
          43,
          44,
          45,
          46,
          47,
          48,
          49,
          50,
          51,
          52,
          53,
          54,
          55,
          56,
          57,
          58,
          59,
          60,
          61,
          62,
          63,
          64,
          65,
          66,
          67,
          68,
          69,
          70,
          71,
          72,
          73,
          74,
          75,
          76,
          77,
          78,
          79,
          80,
          81,
          82,
          83,
          84,
          85,
          86,
          87,
          88,
          89,
          90,
          91,
          92,
          93,
          94,
          95,
          96,
          97,
          98,
          99
         ],
         "xaxis": "x2",
         "y": [
          0.9206514162378395,
          0.7695491189853512,
          0.679504339033394,
          0.6261379818138517,
          0.6111418335429748,
          0.5442742516512113,
          0.5176623246150592,
          0.5119529905554077,
          0.49915258550891284,
          0.49734173742499854,
          0.47678452633308066,
          0.4782731386459596,
          0.4957211442856687,
          0.5225839124437103,
          0.5286771293552603,
          0.5440975467363619,
          0.5552858780532963,
          0.5525201247967206,
          0.5580376535743466,
          0.5597371248054264,
          0.5706633099779048,
          0.5786632443353663,
          0.6175557510365663,
          0.622071159658128,
          0.6356076035595055,
          0.6391713487028892,
          0.6521927167366395,
          0.6373787842456831,
          0.6576079270851448,
          0.6682887201309248,
          0.6785409413266505,
          0.6868087742317848,
          0.6991532642983846,
          0.7015404833123483,
          0.7047365958076612,
          0.7049403558854963,
          0.7049788250008237,
          0.6974507356606318,
          0.6972468022355316,
          0.6947917035609894,
          0.6919967470257765,
          0.6867235206197196,
          0.6902642936371542,
          0.6897255947360309,
          0.6951049316775622,
          0.7051412398257566,
          0.7217675765010646,
          0.7281696019514711,
          0.7384844361245102,
          0.737686100324046,
          0.7403085567361731,
          0.7391979701135121,
          0.7408176205730327,
          0.7384545172098169,
          0.7407254825406492,
          0.753294321821272,
          0.7642592198014867,
          0.7860734123094074,
          0.7990894448149578,
          0.8166676347814124,
          0.8191939558189583,
          0.8213788092537939,
          0.8122109611347248,
          0.8186363187428306,
          0.8169908642027558,
          0.8245170224269698,
          0.8287993715872378,
          0.8322367845917522,
          0.8315667375313847,
          0.840184483170382,
          0.8470431421273853,
          0.8504845027110832,
          0.8567192381528306,
          0.8583840756614418,
          0.8608115653399203,
          0.8620168634380274,
          0.866910795215294,
          0.8723827145619498,
          0.8730658091919686,
          0.8778202766452953,
          0.8674525782158249,
          0.8619836585544045,
          0.855409986087295,
          0.8573554922661302,
          0.8569864181555072,
          0.8681418825382314,
          0.8736726778244769,
          0.8751633720059946,
          0.8780765457960464,
          0.8684900761977847,
          0.8705230904544843,
          0.8666978381457033,
          0.8673075799885501,
          0.8740207688478125,
          0.8827297589437709,
          0.8717007926193194,
          0.8716731536739711,
          0.8685634411146914,
          0.858526395174923,
          0.8518873173484691
         ],
         "yaxis": "y3"
        },
        {
         "line": {
          "color": "green",
          "dash": "dash"
         },
         "mode": "lines",
         "name": "Average size (bits)",
         "showlegend": false,
         "type": "scatter",
         "x": [
          0,
          1,
          2,
          3,
          4,
          5,
          6,
          7,
          8,
          9,
          10,
          11,
          12,
          13,
          14,
          15,
          16,
          17,
          18,
          19,
          20,
          21,
          22,
          23,
          24,
          25,
          26,
          27,
          28,
          29,
          30,
          31,
          32,
          33,
          34,
          35,
          36,
          37,
          38,
          39,
          40,
          41,
          42,
          43,
          44,
          45,
          46,
          47,
          48,
          49,
          50,
          51,
          52,
          53,
          54,
          55,
          56,
          57,
          58,
          59,
          60,
          61,
          62,
          63,
          64,
          65,
          66,
          67,
          68,
          69,
          70,
          71,
          72,
          73,
          74,
          75,
          76,
          77,
          78,
          79,
          80,
          81,
          82,
          83,
          84,
          85,
          86,
          87,
          88,
          89,
          90,
          91,
          92,
          93,
          94,
          95,
          96,
          97,
          98,
          99
         ],
         "xaxis": "x2",
         "y": [
          6499.785714285715,
          3986.214285714286,
          3152.5714285714284,
          2734.964285714286,
          2478.714285714286,
          2311.1071428571427,
          2187.4285714285716,
          2109.714285714286,
          2040.857142857143,
          1984.392857142857,
          1935.857142857143,
          1897.107142857143,
          1850.392857142857,
          1836.5,
          1815.857142857143,
          1786.6785714285713,
          1763.2142857142858,
          1753.5714285714287,
          1739.642857142857,
          1736.892857142857,
          1723.0714285714287,
          1710.5357142857142,
          1698.142857142857,
          1688.5,
          1669.107142857143,
          1663.5714285714287,
          1660.75,
          1657.9642857142858,
          1655.25,
          1652.5357142857142,
          1641.4285714285713,
          1635,
          1630.8214285714287,
          1625.25,
          1623.892857142857,
          1621.107142857143,
          1615.5357142857142,
          1614.142857142857,
          1614.142857142857,
          1614.142857142857,
          1609.9285714285713,
          1607.142857142857,
          1604.4285714285713,
          1603.0357142857142,
          1603.0357142857142,
          1590.5,
          1587.7142857142858,
          1585,
          1582.2857142857142,
          1576.75,
          1573.9642857142858,
          1572.607142857143,
          1572.607142857143,
          1571.2142857142858,
          1571.2142857142858,
          1571.2142857142858,
          1571.2142857142858,
          1571.2142857142858,
          1568.4642857142858,
          1568.4642857142858,
          1567.107142857143,
          1564.3214285714287,
          1561.607142857143,
          1557.857142857143,
          1556.4285714285713,
          1553.642857142857,
          1553.642857142857,
          1553.642857142857,
          1553.642857142857,
          1552.2857142857142,
          1549.5,
          1549.5,
          1549.5,
          1543.9285714285713,
          1543.9285714285713,
          1542.5357142857142,
          1542.5357142857142,
          1542.5357142857142,
          1542.5357142857142,
          1542.5357142857142,
          1542.5357142857142,
          1539.75,
          1539.75,
          1539.75,
          1539.75,
          1537.0357142857142,
          1537.0357142857142,
          1537.0357142857142,
          1537.0357142857142,
          1537.0357142857142,
          1530.0714285714287,
          1530.0714285714287,
          1530.0714285714287,
          1530.0714285714287,
          1530.0714285714287,
          1530.0714285714287,
          1530.0714285714287,
          1530.0714285714287,
          1530.0714285714287,
          1530.0714285714287
         ],
         "yaxis": "y4"
        },
        {
         "line": {
          "color": "red"
         },
         "mode": "lines",
         "name": "FPDE",
         "showlegend": false,
         "type": "scatter",
         "x": [
          0,
          1,
          2,
          3,
          4,
          5,
          6,
          7,
          8,
          9,
          10,
          11,
          12,
          13,
          14,
          15,
          16,
          17,
          18,
          19,
          20,
          21,
          22,
          23,
          24,
          25,
          26,
          27,
          28,
          29,
          30,
          31,
          32,
          33,
          34,
          35,
          36,
          37,
          38,
          39,
          40,
          41,
          42,
          43,
          44,
          45,
          46,
          47,
          48,
          49,
          50,
          51,
          52,
          53,
          54,
          55,
          56,
          57,
          58,
          59,
          60,
          61,
          62,
          63,
          64,
          65,
          66,
          67,
          68,
          69,
          70,
          71,
          72,
          73,
          74,
          75,
          76,
          77,
          78,
          79,
          80,
          81,
          82,
          83,
          84,
          85,
          86,
          87,
          88,
          89,
          90,
          91,
          92,
          93,
          94,
          95,
          96,
          97,
          98,
          99
         ],
         "xaxis": "x3",
         "y": [
          0.5803588954336986,
          0.5447059580041231,
          0.5216972019264335,
          0.5135014755546932,
          0.5228662724482772,
          0.5291952346365767,
          0.5468317133182458,
          0.5748441661169555,
          0.5960740698046729,
          0.6107480545055206,
          0.6221615253887529,
          0.6364079140910337,
          0.6545373259129926,
          0.6855885784356767,
          0.712467784195584,
          0.7301437477274978,
          0.7533373021000428,
          0.771644342915056,
          0.7838957648396055,
          0.7958327421260009,
          0.8117992828374984,
          0.8254043529670204,
          0.8692980601750285,
          0.8790251027988376,
          0.8931740378416043,
          0.9057149369022213,
          0.9091788518728364,
          0.8835870956477914,
          0.8901499915562237,
          0.8861624682170959,
          0.8796312294778369,
          0.8800373175393604,
          0.8785499024255581,
          0.8775114374252887,
          0.879987087832896,
          0.8837204203432897,
          0.8843003570886048,
          0.8882552636441042,
          0.8890373048857866,
          0.887220722849275,
          0.8830908219945046,
          0.8803880294178408,
          0.874988382076277,
          0.8723220389746814,
          0.8721195475885439,
          0.8758657807005118,
          0.882945638501145,
          0.8856471016410709,
          0.8903994056063628,
          0.8976700226329933,
          0.8996074333534845,
          0.9006784903000309,
          0.9033654091277918,
          0.8996883443472194,
          0.8914387509381829,
          0.8899553640167364,
          0.8880619109556822,
          0.888539148444889,
          0.8902429275365936,
          0.8951192208732749,
          0.8979355326619188,
          0.8988170061338578,
          0.8974229145614139,
          0.9000061819573875,
          0.9000179497938173,
          0.9021559729322274,
          0.9149932401808132,
          0.9159428456066839,
          0.9146266353909274,
          0.9150043699978966,
          0.9301401411757375,
          0.9177675697212893,
          0.9183589380925344,
          0.9186955654764164,
          0.926183097716466,
          0.9281245555420858,
          0.9496363122550298,
          0.9690472483950423,
          0.9701319089735417,
          0.9649432450678214,
          0.9457058510545024,
          0.9243470815871563,
          0.9187224813681351,
          0.9181720417684675,
          0.934970137528188,
          0.9561196098542482,
          0.9747595281792408,
          0.9617302538345491,
          0.9621497775730656,
          0.9434030879353555,
          0.9229880175401242,
          0.9021241019934638,
          0.8998869880287665,
          0.9006215212551674,
          0.9029632166194848,
          0.9012565703979734,
          0.9036440338273308,
          0.908126365639764,
          0.9070918182796476,
          0.9066377870599075
         ],
         "yaxis": "y5"
        },
        {
         "line": {
          "color": "green",
          "dash": "dash"
         },
         "mode": "lines",
         "name": "Average size (bits)",
         "showlegend": false,
         "type": "scatter",
         "x": [
          0,
          1,
          2,
          3,
          4,
          5,
          6,
          7,
          8,
          9,
          10,
          11,
          12,
          13,
          14,
          15,
          16,
          17,
          18,
          19,
          20,
          21,
          22,
          23,
          24,
          25,
          26,
          27,
          28,
          29,
          30,
          31,
          32,
          33,
          34,
          35,
          36,
          37,
          38,
          39,
          40,
          41,
          42,
          43,
          44,
          45,
          46,
          47,
          48,
          49,
          50,
          51,
          52,
          53,
          54,
          55,
          56,
          57,
          58,
          59,
          60,
          61,
          62,
          63,
          64,
          65,
          66,
          67,
          68,
          69,
          70,
          71,
          72,
          73,
          74,
          75,
          76,
          77,
          78,
          79,
          80,
          81,
          82,
          83,
          84,
          85,
          86,
          87,
          88,
          89,
          90,
          91,
          92,
          93,
          94,
          95,
          96,
          97,
          98,
          99
         ],
         "xaxis": "x3",
         "y": [
          1381.9738118331716,
          884.4791464597478,
          726.939379243453,
          636.8884578079534,
          590.0703200775946,
          557.8685741998061,
          533.3739088263821,
          513.9679922405431,
          505.3244422890398,
          495.1964112512124,
          484.64403491755576,
          479.5140640155189,
          475.8908826382153,
          470.3433559650824,
          464.7070805043647,
          459.36760426770127,
          456.3380213385063,
          455.3612997090204,
          454.28612997090204,
          452.1794374393792,
          446.6605237633366,
          445.71774975751697,
          445.2075654704171,
          444.4379243452958,
          442.860814742968,
          442.4898157129001,
          441.8952473326867,
          441.68768186226964,
          439.00290979631427,
          438.5581959262852,
          435.7880698351115,
          435.66246362754606,
          435.492240543162,
          435.3419010669253,
          435.2841901066925,
          435.0586808923375,
          434.774490785645,
          434.5872938894277,
          434.5305528612997,
          434.41707080504364,
          434.2846750727449,
          434.0441319107662,
          434.0063045586809,
          433.8540252182347,
          433.778370514064,
          433.72065955383124,
          433.60814742967995,
          433.5698351115422,
          433.5140640155189,
          433.5140640155189,
          433.5140640155189,
          433.5140640155189,
          433.5140640155189,
          433.5140640155189,
          433.5140640155189,
          433.5140640155189,
          433.5140640155189,
          433.5140640155189,
          433.5140640155189,
          433.5140640155189,
          433.5140640155189,
          433.5140640155189,
          433.5140640155189,
          434.0300678952473,
          434.0300678952473,
          434.0300678952473,
          434.0300678952473,
          434.0300678952473,
          434.0300678952473,
          434.0300678952473,
          434.0300678952473,
          434.0300678952473,
          434.0300678952473,
          434.0300678952473,
          434.0300678952473,
          434.0300678952473,
          434.0300678952473,
          434.0300678952473,
          434.0300678952473,
          434.0300678952473,
          434.0300678952473,
          434.0300678952473,
          434.0300678952473,
          434.0300678952473,
          434.0300678952473,
          434.0300678952473,
          434.0300678952473,
          434.0300678952473,
          434.0300678952473,
          434.0300678952473,
          434.0300678952473,
          434.0300678952473,
          434.0300678952473,
          434.0300678952473,
          434.0300678952473,
          434.0300678952473,
          434.0300678952473,
          434.0300678952473,
          434.0300678952473,
          434.0300678952473
         ],
         "yaxis": "y6"
        }
       ],
       "layout": {
        "annotations": [
         {
          "font": {
           "size": 16
          },
          "showarrow": false,
          "text": "Geometry Sizes=Large",
          "x": 0.47,
          "xanchor": "center",
          "xref": "paper",
          "y": 1,
          "yanchor": "bottom",
          "yref": "paper"
         },
         {
          "font": {
           "size": 16
          },
          "showarrow": false,
          "text": "Geometry Sizes=Medium",
          "x": 0.47,
          "xanchor": "center",
          "xref": "paper",
          "y": 0.6433333333333333,
          "yanchor": "bottom",
          "yref": "paper"
         },
         {
          "font": {
           "size": 16
          },
          "showarrow": false,
          "text": "Geometry Sizes=Small",
          "x": 0.47,
          "xanchor": "center",
          "xref": "paper",
          "y": 0.2866666666666667,
          "yanchor": "bottom",
          "yref": "paper"
         },
         {
          "font": {
           "size": 16
          },
          "showarrow": false,
          "text": "Min=13",
          "textangle": -90,
          "x": 13,
          "xanchor": "center",
          "xref": "x",
          "y": 0.5,
          "yanchor": "middle",
          "yref": "y domain"
         },
         {
          "font": {
           "size": 16
          },
          "showarrow": false,
          "text": "Min=10",
          "textangle": -90,
          "x": 10,
          "xanchor": "center",
          "xref": "x2",
          "y": 0.5,
          "yanchor": "middle",
          "yref": "y3 domain"
         },
         {
          "font": {
           "size": 16
          },
          "showarrow": false,
          "text": "Min=3",
          "textangle": -90,
          "x": 3,
          "xanchor": "center",
          "xref": "x3",
          "y": 0.5,
          "yanchor": "middle",
          "yref": "y5 domain"
         },
         {
          "font": {
           "size": 20
          },
          "showarrow": false,
          "text": "Max Chunk Size",
          "x": 0.48,
          "xanchor": "center",
          "xref": "paper",
          "y": -0.04,
          "yanchor": "top",
          "yref": "paper"
         },
         {
          "font": {
           "size": 20
          },
          "showarrow": false,
          "text": "Mean Size (bits)",
          "textangle": -90,
          "x": 1.01,
          "xanchor": "center",
          "xref": "paper",
          "y": 0.5,
          "yanchor": "middle",
          "yref": "paper"
         },
         {
          "font": {
           "size": 20
          },
          "showarrow": false,
          "text": "Relative Mean Execution Time (%)",
          "textangle": -90,
          "x": -0.08,
          "xanchor": "center",
          "xref": "paper",
          "y": 0.5,
          "yanchor": "middle",
          "yref": "paper"
         }
        ],
        "height": 1000,
        "legend": {
         "font": {
          "size": 15
         },
         "orientation": "h",
         "x": 0.7,
         "xanchor": "left",
         "y": -0.037,
         "yanchor": "top"
        },
        "shapes": [
         {
          "fillcolor": "green",
          "line": {
           "width": 0
          },
          "opacity": 0.25,
          "type": "rect",
          "x0": 12,
          "x1": 14,
          "xref": "x",
          "y0": 0,
          "y1": 1,
          "yref": "y domain"
         },
         {
          "fillcolor": "green",
          "line": {
           "width": 0
          },
          "opacity": 0.25,
          "type": "rect",
          "x0": 9,
          "x1": 11,
          "xref": "x2",
          "y0": 0,
          "y1": 1,
          "yref": "y3 domain"
         },
         {
          "fillcolor": "green",
          "line": {
           "width": 0
          },
          "opacity": 0.25,
          "type": "rect",
          "x0": 2,
          "x1": 4,
          "xref": "x3",
          "y0": 0,
          "y1": 1,
          "yref": "y5 domain"
         }
        ],
        "template": {
         "data": {
          "bar": [
           {
            "error_x": {
             "color": "#2a3f5f"
            },
            "error_y": {
             "color": "#2a3f5f"
            },
            "marker": {
             "line": {
              "color": "#E5ECF6",
              "width": 0.5
             },
             "pattern": {
              "fillmode": "overlay",
              "size": 10,
              "solidity": 0.2
             }
            },
            "type": "bar"
           }
          ],
          "barpolar": [
           {
            "marker": {
             "line": {
              "color": "#E5ECF6",
              "width": 0.5
             },
             "pattern": {
              "fillmode": "overlay",
              "size": 10,
              "solidity": 0.2
             }
            },
            "type": "barpolar"
           }
          ],
          "carpet": [
           {
            "aaxis": {
             "endlinecolor": "#2a3f5f",
             "gridcolor": "white",
             "linecolor": "white",
             "minorgridcolor": "white",
             "startlinecolor": "#2a3f5f"
            },
            "baxis": {
             "endlinecolor": "#2a3f5f",
             "gridcolor": "white",
             "linecolor": "white",
             "minorgridcolor": "white",
             "startlinecolor": "#2a3f5f"
            },
            "type": "carpet"
           }
          ],
          "choropleth": [
           {
            "colorbar": {
             "outlinewidth": 0,
             "ticks": ""
            },
            "type": "choropleth"
           }
          ],
          "contour": [
           {
            "colorbar": {
             "outlinewidth": 0,
             "ticks": ""
            },
            "colorscale": [
             [
              0,
              "#0d0887"
             ],
             [
              0.1111111111111111,
              "#46039f"
             ],
             [
              0.2222222222222222,
              "#7201a8"
             ],
             [
              0.3333333333333333,
              "#9c179e"
             ],
             [
              0.4444444444444444,
              "#bd3786"
             ],
             [
              0.5555555555555556,
              "#d8576b"
             ],
             [
              0.6666666666666666,
              "#ed7953"
             ],
             [
              0.7777777777777778,
              "#fb9f3a"
             ],
             [
              0.8888888888888888,
              "#fdca26"
             ],
             [
              1,
              "#f0f921"
             ]
            ],
            "type": "contour"
           }
          ],
          "contourcarpet": [
           {
            "colorbar": {
             "outlinewidth": 0,
             "ticks": ""
            },
            "type": "contourcarpet"
           }
          ],
          "heatmap": [
           {
            "colorbar": {
             "outlinewidth": 0,
             "ticks": ""
            },
            "colorscale": [
             [
              0,
              "#0d0887"
             ],
             [
              0.1111111111111111,
              "#46039f"
             ],
             [
              0.2222222222222222,
              "#7201a8"
             ],
             [
              0.3333333333333333,
              "#9c179e"
             ],
             [
              0.4444444444444444,
              "#bd3786"
             ],
             [
              0.5555555555555556,
              "#d8576b"
             ],
             [
              0.6666666666666666,
              "#ed7953"
             ],
             [
              0.7777777777777778,
              "#fb9f3a"
             ],
             [
              0.8888888888888888,
              "#fdca26"
             ],
             [
              1,
              "#f0f921"
             ]
            ],
            "type": "heatmap"
           }
          ],
          "heatmapgl": [
           {
            "colorbar": {
             "outlinewidth": 0,
             "ticks": ""
            },
            "colorscale": [
             [
              0,
              "#0d0887"
             ],
             [
              0.1111111111111111,
              "#46039f"
             ],
             [
              0.2222222222222222,
              "#7201a8"
             ],
             [
              0.3333333333333333,
              "#9c179e"
             ],
             [
              0.4444444444444444,
              "#bd3786"
             ],
             [
              0.5555555555555556,
              "#d8576b"
             ],
             [
              0.6666666666666666,
              "#ed7953"
             ],
             [
              0.7777777777777778,
              "#fb9f3a"
             ],
             [
              0.8888888888888888,
              "#fdca26"
             ],
             [
              1,
              "#f0f921"
             ]
            ],
            "type": "heatmapgl"
           }
          ],
          "histogram": [
           {
            "marker": {
             "pattern": {
              "fillmode": "overlay",
              "size": 10,
              "solidity": 0.2
             }
            },
            "type": "histogram"
           }
          ],
          "histogram2d": [
           {
            "colorbar": {
             "outlinewidth": 0,
             "ticks": ""
            },
            "colorscale": [
             [
              0,
              "#0d0887"
             ],
             [
              0.1111111111111111,
              "#46039f"
             ],
             [
              0.2222222222222222,
              "#7201a8"
             ],
             [
              0.3333333333333333,
              "#9c179e"
             ],
             [
              0.4444444444444444,
              "#bd3786"
             ],
             [
              0.5555555555555556,
              "#d8576b"
             ],
             [
              0.6666666666666666,
              "#ed7953"
             ],
             [
              0.7777777777777778,
              "#fb9f3a"
             ],
             [
              0.8888888888888888,
              "#fdca26"
             ],
             [
              1,
              "#f0f921"
             ]
            ],
            "type": "histogram2d"
           }
          ],
          "histogram2dcontour": [
           {
            "colorbar": {
             "outlinewidth": 0,
             "ticks": ""
            },
            "colorscale": [
             [
              0,
              "#0d0887"
             ],
             [
              0.1111111111111111,
              "#46039f"
             ],
             [
              0.2222222222222222,
              "#7201a8"
             ],
             [
              0.3333333333333333,
              "#9c179e"
             ],
             [
              0.4444444444444444,
              "#bd3786"
             ],
             [
              0.5555555555555556,
              "#d8576b"
             ],
             [
              0.6666666666666666,
              "#ed7953"
             ],
             [
              0.7777777777777778,
              "#fb9f3a"
             ],
             [
              0.8888888888888888,
              "#fdca26"
             ],
             [
              1,
              "#f0f921"
             ]
            ],
            "type": "histogram2dcontour"
           }
          ],
          "mesh3d": [
           {
            "colorbar": {
             "outlinewidth": 0,
             "ticks": ""
            },
            "type": "mesh3d"
           }
          ],
          "parcoords": [
           {
            "line": {
             "colorbar": {
              "outlinewidth": 0,
              "ticks": ""
             }
            },
            "type": "parcoords"
           }
          ],
          "pie": [
           {
            "automargin": true,
            "type": "pie"
           }
          ],
          "scatter": [
           {
            "fillpattern": {
             "fillmode": "overlay",
             "size": 10,
             "solidity": 0.2
            },
            "type": "scatter"
           }
          ],
          "scatter3d": [
           {
            "line": {
             "colorbar": {
              "outlinewidth": 0,
              "ticks": ""
             }
            },
            "marker": {
             "colorbar": {
              "outlinewidth": 0,
              "ticks": ""
             }
            },
            "type": "scatter3d"
           }
          ],
          "scattercarpet": [
           {
            "marker": {
             "colorbar": {
              "outlinewidth": 0,
              "ticks": ""
             }
            },
            "type": "scattercarpet"
           }
          ],
          "scattergeo": [
           {
            "marker": {
             "colorbar": {
              "outlinewidth": 0,
              "ticks": ""
             }
            },
            "type": "scattergeo"
           }
          ],
          "scattergl": [
           {
            "marker": {
             "colorbar": {
              "outlinewidth": 0,
              "ticks": ""
             }
            },
            "type": "scattergl"
           }
          ],
          "scattermapbox": [
           {
            "marker": {
             "colorbar": {
              "outlinewidth": 0,
              "ticks": ""
             }
            },
            "type": "scattermapbox"
           }
          ],
          "scatterpolar": [
           {
            "marker": {
             "colorbar": {
              "outlinewidth": 0,
              "ticks": ""
             }
            },
            "type": "scatterpolar"
           }
          ],
          "scatterpolargl": [
           {
            "marker": {
             "colorbar": {
              "outlinewidth": 0,
              "ticks": ""
             }
            },
            "type": "scatterpolargl"
           }
          ],
          "scatterternary": [
           {
            "marker": {
             "colorbar": {
              "outlinewidth": 0,
              "ticks": ""
             }
            },
            "type": "scatterternary"
           }
          ],
          "surface": [
           {
            "colorbar": {
             "outlinewidth": 0,
             "ticks": ""
            },
            "colorscale": [
             [
              0,
              "#0d0887"
             ],
             [
              0.1111111111111111,
              "#46039f"
             ],
             [
              0.2222222222222222,
              "#7201a8"
             ],
             [
              0.3333333333333333,
              "#9c179e"
             ],
             [
              0.4444444444444444,
              "#bd3786"
             ],
             [
              0.5555555555555556,
              "#d8576b"
             ],
             [
              0.6666666666666666,
              "#ed7953"
             ],
             [
              0.7777777777777778,
              "#fb9f3a"
             ],
             [
              0.8888888888888888,
              "#fdca26"
             ],
             [
              1,
              "#f0f921"
             ]
            ],
            "type": "surface"
           }
          ],
          "table": [
           {
            "cells": {
             "fill": {
              "color": "#EBF0F8"
             },
             "line": {
              "color": "white"
             }
            },
            "header": {
             "fill": {
              "color": "#C8D4E3"
             },
             "line": {
              "color": "white"
             }
            },
            "type": "table"
           }
          ]
         },
         "layout": {
          "annotationdefaults": {
           "arrowcolor": "#2a3f5f",
           "arrowhead": 0,
           "arrowwidth": 1
          },
          "autotypenumbers": "strict",
          "coloraxis": {
           "colorbar": {
            "outlinewidth": 0,
            "ticks": ""
           }
          },
          "colorscale": {
           "diverging": [
            [
             0,
             "#8e0152"
            ],
            [
             0.1,
             "#c51b7d"
            ],
            [
             0.2,
             "#de77ae"
            ],
            [
             0.3,
             "#f1b6da"
            ],
            [
             0.4,
             "#fde0ef"
            ],
            [
             0.5,
             "#f7f7f7"
            ],
            [
             0.6,
             "#e6f5d0"
            ],
            [
             0.7,
             "#b8e186"
            ],
            [
             0.8,
             "#7fbc41"
            ],
            [
             0.9,
             "#4d9221"
            ],
            [
             1,
             "#276419"
            ]
           ],
           "sequential": [
            [
             0,
             "#0d0887"
            ],
            [
             0.1111111111111111,
             "#46039f"
            ],
            [
             0.2222222222222222,
             "#7201a8"
            ],
            [
             0.3333333333333333,
             "#9c179e"
            ],
            [
             0.4444444444444444,
             "#bd3786"
            ],
            [
             0.5555555555555556,
             "#d8576b"
            ],
            [
             0.6666666666666666,
             "#ed7953"
            ],
            [
             0.7777777777777778,
             "#fb9f3a"
            ],
            [
             0.8888888888888888,
             "#fdca26"
            ],
            [
             1,
             "#f0f921"
            ]
           ],
           "sequentialminus": [
            [
             0,
             "#0d0887"
            ],
            [
             0.1111111111111111,
             "#46039f"
            ],
            [
             0.2222222222222222,
             "#7201a8"
            ],
            [
             0.3333333333333333,
             "#9c179e"
            ],
            [
             0.4444444444444444,
             "#bd3786"
            ],
            [
             0.5555555555555556,
             "#d8576b"
            ],
            [
             0.6666666666666666,
             "#ed7953"
            ],
            [
             0.7777777777777778,
             "#fb9f3a"
            ],
            [
             0.8888888888888888,
             "#fdca26"
            ],
            [
             1,
             "#f0f921"
            ]
           ]
          },
          "colorway": [
           "#636efa",
           "#EF553B",
           "#00cc96",
           "#ab63fa",
           "#FFA15A",
           "#19d3f3",
           "#FF6692",
           "#B6E880",
           "#FF97FF",
           "#FECB52"
          ],
          "font": {
           "color": "#2a3f5f"
          },
          "geo": {
           "bgcolor": "white",
           "lakecolor": "white",
           "landcolor": "#E5ECF6",
           "showlakes": true,
           "showland": true,
           "subunitcolor": "white"
          },
          "hoverlabel": {
           "align": "left"
          },
          "hovermode": "closest",
          "mapbox": {
           "style": "light"
          },
          "paper_bgcolor": "white",
          "plot_bgcolor": "#E5ECF6",
          "polar": {
           "angularaxis": {
            "gridcolor": "white",
            "linecolor": "white",
            "ticks": ""
           },
           "bgcolor": "#E5ECF6",
           "radialaxis": {
            "gridcolor": "white",
            "linecolor": "white",
            "ticks": ""
           }
          },
          "scene": {
           "xaxis": {
            "backgroundcolor": "#E5ECF6",
            "gridcolor": "white",
            "gridwidth": 2,
            "linecolor": "white",
            "showbackground": true,
            "ticks": "",
            "zerolinecolor": "white"
           },
           "yaxis": {
            "backgroundcolor": "#E5ECF6",
            "gridcolor": "white",
            "gridwidth": 2,
            "linecolor": "white",
            "showbackground": true,
            "ticks": "",
            "zerolinecolor": "white"
           },
           "zaxis": {
            "backgroundcolor": "#E5ECF6",
            "gridcolor": "white",
            "gridwidth": 2,
            "linecolor": "white",
            "showbackground": true,
            "ticks": "",
            "zerolinecolor": "white"
           }
          },
          "shapedefaults": {
           "line": {
            "color": "#2a3f5f"
           }
          },
          "ternary": {
           "aaxis": {
            "gridcolor": "white",
            "linecolor": "white",
            "ticks": ""
           },
           "baxis": {
            "gridcolor": "white",
            "linecolor": "white",
            "ticks": ""
           },
           "bgcolor": "#E5ECF6",
           "caxis": {
            "gridcolor": "white",
            "linecolor": "white",
            "ticks": ""
           }
          },
          "title": {
           "x": 0.05
          },
          "xaxis": {
           "automargin": true,
           "gridcolor": "white",
           "linecolor": "white",
           "ticks": "",
           "title": {
            "standoff": 15
           },
           "zerolinecolor": "white",
           "zerolinewidth": 2
          },
          "yaxis": {
           "automargin": true,
           "gridcolor": "white",
           "linecolor": "white",
           "ticks": "",
           "title": {
            "standoff": 15
           },
           "zerolinecolor": "white",
           "zerolinewidth": 2
          }
         }
        },
        "title": {
         "font": {
          "size": 22
         },
         "text": "Relative Execution Time for Intersection by Max Chunk Size ",
         "x": 0.5
        },
        "width": 1000,
        "xaxis": {
         "anchor": "y",
         "domain": [
          0,
          0.94
         ],
         "tickfont": {
          "size": 16
         },
         "title": {
          "text": ""
         }
        },
        "xaxis2": {
         "anchor": "y3",
         "domain": [
          0,
          0.94
         ],
         "tickfont": {
          "size": 16
         },
         "title": {
          "text": ""
         }
        },
        "xaxis3": {
         "anchor": "y5",
         "domain": [
          0,
          0.94
         ],
         "tickfont": {
          "size": 16
         },
         "title": {
          "text": ""
         }
        },
        "yaxis": {
         "anchor": "x",
         "domain": [
          0.7133333333333334,
          1
         ],
         "tickfont": {
          "size": 16
         },
         "title": {
          "text": ""
         },
         "type": "log"
        },
        "yaxis2": {
         "anchor": "x",
         "overlaying": "y",
         "side": "right",
         "title": {
          "text": ""
         }
        },
        "yaxis3": {
         "anchor": "x2",
         "domain": [
          0.3566666666666667,
          0.6433333333333333
         ],
         "tickfont": {
          "size": 16
         },
         "title": {
          "text": ""
         },
         "type": "log"
        },
        "yaxis4": {
         "anchor": "x2",
         "overlaying": "y3",
         "side": "right",
         "title": {
          "text": ""
         }
        },
        "yaxis5": {
         "anchor": "x3",
         "domain": [
          0,
          0.2866666666666667
         ],
         "tickfont": {
          "size": 16
         },
         "title": {
          "text": ""
         },
         "type": "log"
        },
        "yaxis6": {
         "anchor": "x3",
         "overlaying": "y5",
         "side": "right",
         "title": {
          "text": ""
         }
        }
       }
      }
     },
     "metadata": {},
     "output_type": "display_data"
    }
   ],
   "source": [
    "plot_max_delta_size_speed(max_deltas_filt_df, is_predicate=False, no_mixed=True, relative=True)"
   ]
  },
  {
   "attachments": {},
   "cell_type": "markdown",
   "metadata": {},
   "source": [
    "#### Dataset Stats Collection"
   ]
  },
  {
   "cell_type": "code",
   "execution_count": 12,
   "metadata": {},
   "outputs": [],
   "source": [
    "if USE_EXISTING_DF:\n",
    "    stats_df = pd.DataFrame(columns=['decomp', 'nbr_recieved_chks', 'nbr_total_chks', 'total_time', \"sizes\", \"context\", \"delta_size\", \"predicate\", \"dataset_idx\", \"baseline\"])\n",
    "    for baseline_on in [True, False]:\n",
    "        act_deact_baseline(activate=baseline_on)\n",
    "        for dataset in tqdm(datasets):\n",
    "            evaluate_dataset(dataset[0], stats_df, delta_size=dataset[1]  if not baseline_on else 10000) # Second param: PLOT?\n",
    "    stats_df.to_csv('stats_df.csv', index=False)\n",
    "\n",
    "else:\n",
    "    stats_df = pd.read_csv('stats_df.csv')"
   ]
  },
  {
   "cell_type": "markdown",
   "metadata": {},
   "source": [
    "#### Total Execution Time by Context"
   ]
  },
  {
   "attachments": {},
   "cell_type": "markdown",
   "metadata": {},
   "source": [
    "##### Bars"
   ]
  },
  {
   "cell_type": "code",
   "execution_count": 13,
   "metadata": {},
   "outputs": [],
   "source": [
    "def plot_total_time_bars(df, is_predicate=False, size_cat_excl=[], log_scale=True):\n",
    "    df = df[(df['predicate'] == is_predicate)] #(df['sizes'].isin([\"Small/Small\", \"Medium/Medium\", \"Large/Large\"]))]\n",
    "\n",
    "    df = df.groupby(['context', 'baseline', 'sizes']).mean()\n",
    "    display(df)\n",
    "    df.reset_index(inplace=True)\n",
    "    baseline_df = df[df['baseline']]\n",
    "    not_baseline_df = df[~df['baseline']]\n",
    "    baseline_df.sort_values(by=['context', 'sizes'])\n",
    "    not_baseline_df.sort_values(by=['context', 'sizes'])\n",
    "    not_baseline_df['total_time_ratio'] = not_baseline_df['total_time'].values / baseline_df['total_time'].values\n",
    "    df = not_baseline_df\n",
    "\n",
    "\n",
    "\n",
    "\n",
    "\n",
    "    df.loc[~df['baseline'], 'decomp_ratio'] = df.loc[~df['baseline'], 'total_time_ratio'] *  df.loc[~df['baseline'], 'decomp'] / df.loc[~df['baseline'], 'total_time']    \n",
    "    df['total_time_ratio'] = df.loc[~df['baseline'], 'total_time_ratio'] - df.loc[~df['baseline'], 'decomp_ratio']\n",
    "    df = df[df['baseline'] == False]\n",
    "    intersection_formatting = \"Intersection\" if not is_predicate else \"Is_Intersection\"\n",
    "    df = pd.concat([df] * 2, ignore_index=True)\n",
    "\n",
    "    new_column_values = ([\"Decompression\"] * (len(df) // 2))\n",
    "    new_column_values.extend(([\"Intersection\"] * (len(df) // 2)))\n",
    "\n",
    "    df['Stage'] = new_column_values\n",
    "    df['time'] = df.apply(lambda x: x['decomp_ratio'] if x[\"Stage\"] == \"Decompression\" else x['total_time_ratio'], axis=1)\n",
    "    df = df[['time', 'context', 'sizes', 'Stage']]\n",
    "    fig = px.bar(df, \n",
    "                       x=\"context\", \n",
    "                       y=\"time\", \n",
    "                       facet_col=\"sizes\", \n",
    "                       color=\"Stage\",\n",
    "                       barmode='group',\n",
    "                       log_y=log_scale, \n",
    "                       facet_col_spacing=0.1, \n",
    "                       #histfunc=\"avg\", \n",
    "                       title=f\"Execution Time for {intersection_formatting} in Different Contexts & Sizes\",\n",
    "                       labels=dict(sizes=\"Geometry Sizes\", context=\"Context\", baseline=\"Baseline\", Stage=\"Stage: \"),\n",
    "                       facet_col_wrap=3,\n",
    "                       facet_row_spacing=0.1,\n",
    "                       height=1000,\n",
    "                       width=1000,\n",
    "                       pattern_shape='Stage',\n",
    "                       #text=\"time\"\n",
    "                       )\n",
    "\n",
    "    make_general_facet_title(fig, \"Bouning Box Context\", \"Relative Mean Execution Time (%)\", barplot=True)\n",
    "    #fig.update_annotations(font=dict(size=14))\n",
    "    fig.for_each_yaxis(lambda yaxis: yaxis.update(showticklabels=True))\n",
    "    fig.update_yaxes(matches=None, showticklabels=True, visible=True,  tickfont=dict(size=14))\n",
    "    fig.update_xaxes(tickfont=dict(size=14))\n",
    "   # fig.update_traces(texttemplate='%{text:.2}', textposition='inside', textfont=dict(color='white'))\n",
    "\n",
    "    fig.update_layout(barmode=\"relative\",\n",
    "                      title_x=0.5,\n",
    "                      width=1000, \n",
    "                      height=1000, \n",
    "                      legend=dict(\n",
    "                            yanchor=\"top\",\n",
    "                            y=-0.15,\n",
    "                            xanchor=\"left\",\n",
    "                            x=0.7,\n",
    "                            orientation=\"h\",\n",
    "                            font=dict(size=15),\n",
    "                        ),\n",
    "                        title=dict(\n",
    "                            text=f'Relative Mean Execution Time for Intersection in Different Contexts',\n",
    "                            x=0.5,\n",
    "                            font=dict(size=22)\n",
    "                            )\n",
    "                        )\n",
    "   \n",
    "    fig.show()\n"
   ]
  },
  {
   "cell_type": "code",
   "execution_count": null,
   "metadata": {},
   "outputs": [],
   "source": []
  },
  {
   "cell_type": "code",
   "execution_count": 14,
   "metadata": {},
   "outputs": [
    {
     "data": {
      "text/html": [
       "<div>\n",
       "<style scoped>\n",
       "    .dataframe tbody tr th:only-of-type {\n",
       "        vertical-align: middle;\n",
       "    }\n",
       "\n",
       "    .dataframe tbody tr th {\n",
       "        vertical-align: top;\n",
       "    }\n",
       "\n",
       "    .dataframe thead th {\n",
       "        text-align: right;\n",
       "    }\n",
       "</style>\n",
       "<table border=\"1\" class=\"dataframe\">\n",
       "  <thead>\n",
       "    <tr style=\"text-align: right;\">\n",
       "      <th></th>\n",
       "      <th></th>\n",
       "      <th></th>\n",
       "      <th>total_time</th>\n",
       "      <th>predicate</th>\n",
       "      <th>decomp</th>\n",
       "    </tr>\n",
       "    <tr>\n",
       "      <th>context</th>\n",
       "      <th>baseline</th>\n",
       "      <th>sizes</th>\n",
       "      <th></th>\n",
       "      <th></th>\n",
       "      <th></th>\n",
       "    </tr>\n",
       "  </thead>\n",
       "  <tbody>\n",
       "    <tr>\n",
       "      <th rowspan=\"10\" valign=\"top\">Fully Inside Other (TRUE)</th>\n",
       "      <th rowspan=\"5\" valign=\"top\">False</th>\n",
       "      <th>Large/Large</th>\n",
       "      <td>0.011120</td>\n",
       "      <td>0.0</td>\n",
       "      <td>0.006018</td>\n",
       "    </tr>\n",
       "    <tr>\n",
       "      <th>Medium/Large</th>\n",
       "      <td>0.004725</td>\n",
       "      <td>0.0</td>\n",
       "      <td>0.002708</td>\n",
       "    </tr>\n",
       "    <tr>\n",
       "      <th>Small/Large</th>\n",
       "      <td>0.009675</td>\n",
       "      <td>0.0</td>\n",
       "      <td>0.006361</td>\n",
       "    </tr>\n",
       "    <tr>\n",
       "      <th>Small/Medium</th>\n",
       "      <td>0.003110</td>\n",
       "      <td>0.0</td>\n",
       "      <td>0.000804</td>\n",
       "    </tr>\n",
       "    <tr>\n",
       "      <th>Small/Small</th>\n",
       "      <td>0.002181</td>\n",
       "      <td>0.0</td>\n",
       "      <td>0.000494</td>\n",
       "    </tr>\n",
       "    <tr>\n",
       "      <th rowspan=\"5\" valign=\"top\">True</th>\n",
       "      <th>Large/Large</th>\n",
       "      <td>0.085755</td>\n",
       "      <td>0.0</td>\n",
       "      <td>0.079822</td>\n",
       "    </tr>\n",
       "    <tr>\n",
       "      <th>Medium/Large</th>\n",
       "      <td>0.050183</td>\n",
       "      <td>0.0</td>\n",
       "      <td>0.046407</td>\n",
       "    </tr>\n",
       "    <tr>\n",
       "      <th>Small/Large</th>\n",
       "      <td>0.029450</td>\n",
       "      <td>0.0</td>\n",
       "      <td>0.025754</td>\n",
       "    </tr>\n",
       "    <tr>\n",
       "      <th>Small/Medium</th>\n",
       "      <td>0.003279</td>\n",
       "      <td>0.0</td>\n",
       "      <td>0.001266</td>\n",
       "    </tr>\n",
       "    <tr>\n",
       "      <th>Small/Small</th>\n",
       "      <td>0.002056</td>\n",
       "      <td>0.0</td>\n",
       "      <td>0.000597</td>\n",
       "    </tr>\n",
       "    <tr>\n",
       "      <th rowspan=\"12\" valign=\"top\">Overlap (FALSE)</th>\n",
       "      <th rowspan=\"6\" valign=\"top\">False</th>\n",
       "      <th>Large/Large</th>\n",
       "      <td>0.001740</td>\n",
       "      <td>0.0</td>\n",
       "      <td>0.001234</td>\n",
       "    </tr>\n",
       "    <tr>\n",
       "      <th>Medium/Large</th>\n",
       "      <td>0.001372</td>\n",
       "      <td>0.0</td>\n",
       "      <td>0.000789</td>\n",
       "    </tr>\n",
       "    <tr>\n",
       "      <th>Medium/Medium</th>\n",
       "      <td>0.001160</td>\n",
       "      <td>0.0</td>\n",
       "      <td>0.000544</td>\n",
       "    </tr>\n",
       "    <tr>\n",
       "      <th>Small/Large</th>\n",
       "      <td>0.001175</td>\n",
       "      <td>0.0</td>\n",
       "      <td>0.000811</td>\n",
       "    </tr>\n",
       "    <tr>\n",
       "      <th>Small/Medium</th>\n",
       "      <td>0.000574</td>\n",
       "      <td>0.0</td>\n",
       "      <td>0.000288</td>\n",
       "    </tr>\n",
       "    <tr>\n",
       "      <th>Small/Small</th>\n",
       "      <td>0.000600</td>\n",
       "      <td>0.0</td>\n",
       "      <td>0.000244</td>\n",
       "    </tr>\n",
       "    <tr>\n",
       "      <th rowspan=\"6\" valign=\"top\">True</th>\n",
       "      <th>Large/Large</th>\n",
       "      <td>0.028802</td>\n",
       "      <td>0.0</td>\n",
       "      <td>0.026108</td>\n",
       "    </tr>\n",
       "    <tr>\n",
       "      <th>Medium/Large</th>\n",
       "      <td>0.009173</td>\n",
       "      <td>0.0</td>\n",
       "      <td>0.007835</td>\n",
       "    </tr>\n",
       "    <tr>\n",
       "      <th>Medium/Medium</th>\n",
       "      <td>0.003242</td>\n",
       "      <td>0.0</td>\n",
       "      <td>0.002178</td>\n",
       "    </tr>\n",
       "    <tr>\n",
       "      <th>Small/Large</th>\n",
       "      <td>0.008359</td>\n",
       "      <td>0.0</td>\n",
       "      <td>0.007384</td>\n",
       "    </tr>\n",
       "    <tr>\n",
       "      <th>Small/Medium</th>\n",
       "      <td>0.001723</td>\n",
       "      <td>0.0</td>\n",
       "      <td>0.001168</td>\n",
       "    </tr>\n",
       "    <tr>\n",
       "      <th>Small/Small</th>\n",
       "      <td>0.000899</td>\n",
       "      <td>0.0</td>\n",
       "      <td>0.000472</td>\n",
       "    </tr>\n",
       "    <tr>\n",
       "      <th rowspan=\"12\" valign=\"top\">Partial Overlap (TRUE)</th>\n",
       "      <th rowspan=\"6\" valign=\"top\">False</th>\n",
       "      <th>Large/Large</th>\n",
       "      <td>0.021137</td>\n",
       "      <td>0.0</td>\n",
       "      <td>0.002932</td>\n",
       "    </tr>\n",
       "    <tr>\n",
       "      <th>Medium/Large</th>\n",
       "      <td>0.005427</td>\n",
       "      <td>0.0</td>\n",
       "      <td>0.001257</td>\n",
       "    </tr>\n",
       "    <tr>\n",
       "      <th>Medium/Medium</th>\n",
       "      <td>0.004305</td>\n",
       "      <td>0.0</td>\n",
       "      <td>0.000857</td>\n",
       "    </tr>\n",
       "    <tr>\n",
       "      <th>Small/Large</th>\n",
       "      <td>0.004445</td>\n",
       "      <td>0.0</td>\n",
       "      <td>0.001937</td>\n",
       "    </tr>\n",
       "    <tr>\n",
       "      <th>Small/Medium</th>\n",
       "      <td>0.002689</td>\n",
       "      <td>0.0</td>\n",
       "      <td>0.000604</td>\n",
       "    </tr>\n",
       "    <tr>\n",
       "      <th>Small/Small</th>\n",
       "      <td>0.002183</td>\n",
       "      <td>0.0</td>\n",
       "      <td>0.000440</td>\n",
       "    </tr>\n",
       "    <tr>\n",
       "      <th rowspan=\"6\" valign=\"top\">True</th>\n",
       "      <th>Large/Large</th>\n",
       "      <td>0.049739</td>\n",
       "      <td>0.0</td>\n",
       "      <td>0.016936</td>\n",
       "    </tr>\n",
       "    <tr>\n",
       "      <th>Medium/Large</th>\n",
       "      <td>0.014196</td>\n",
       "      <td>0.0</td>\n",
       "      <td>0.008254</td>\n",
       "    </tr>\n",
       "    <tr>\n",
       "      <th>Medium/Medium</th>\n",
       "      <td>0.006726</td>\n",
       "      <td>0.0</td>\n",
       "      <td>0.002321</td>\n",
       "    </tr>\n",
       "    <tr>\n",
       "      <th>Small/Large</th>\n",
       "      <td>0.009889</td>\n",
       "      <td>0.0</td>\n",
       "      <td>0.006894</td>\n",
       "    </tr>\n",
       "    <tr>\n",
       "      <th>Small/Medium</th>\n",
       "      <td>0.003625</td>\n",
       "      <td>0.0</td>\n",
       "      <td>0.001467</td>\n",
       "    </tr>\n",
       "    <tr>\n",
       "      <th>Small/Small</th>\n",
       "      <td>0.002191</td>\n",
       "      <td>0.0</td>\n",
       "      <td>0.000624</td>\n",
       "    </tr>\n",
       "  </tbody>\n",
       "</table>\n",
       "</div>"
      ],
      "text/plain": [
       "                                                  total_time  predicate   \n",
       "context                   baseline sizes                                  \n",
       "Fully Inside Other (TRUE) False    Large/Large      0.011120        0.0  \\\n",
       "                                   Medium/Large     0.004725        0.0   \n",
       "                                   Small/Large      0.009675        0.0   \n",
       "                                   Small/Medium     0.003110        0.0   \n",
       "                                   Small/Small      0.002181        0.0   \n",
       "                          True     Large/Large      0.085755        0.0   \n",
       "                                   Medium/Large     0.050183        0.0   \n",
       "                                   Small/Large      0.029450        0.0   \n",
       "                                   Small/Medium     0.003279        0.0   \n",
       "                                   Small/Small      0.002056        0.0   \n",
       "Overlap (FALSE)           False    Large/Large      0.001740        0.0   \n",
       "                                   Medium/Large     0.001372        0.0   \n",
       "                                   Medium/Medium    0.001160        0.0   \n",
       "                                   Small/Large      0.001175        0.0   \n",
       "                                   Small/Medium     0.000574        0.0   \n",
       "                                   Small/Small      0.000600        0.0   \n",
       "                          True     Large/Large      0.028802        0.0   \n",
       "                                   Medium/Large     0.009173        0.0   \n",
       "                                   Medium/Medium    0.003242        0.0   \n",
       "                                   Small/Large      0.008359        0.0   \n",
       "                                   Small/Medium     0.001723        0.0   \n",
       "                                   Small/Small      0.000899        0.0   \n",
       "Partial Overlap (TRUE)    False    Large/Large      0.021137        0.0   \n",
       "                                   Medium/Large     0.005427        0.0   \n",
       "                                   Medium/Medium    0.004305        0.0   \n",
       "                                   Small/Large      0.004445        0.0   \n",
       "                                   Small/Medium     0.002689        0.0   \n",
       "                                   Small/Small      0.002183        0.0   \n",
       "                          True     Large/Large      0.049739        0.0   \n",
       "                                   Medium/Large     0.014196        0.0   \n",
       "                                   Medium/Medium    0.006726        0.0   \n",
       "                                   Small/Large      0.009889        0.0   \n",
       "                                   Small/Medium     0.003625        0.0   \n",
       "                                   Small/Small      0.002191        0.0   \n",
       "\n",
       "                                                    decomp  \n",
       "context                   baseline sizes                    \n",
       "Fully Inside Other (TRUE) False    Large/Large    0.006018  \n",
       "                                   Medium/Large   0.002708  \n",
       "                                   Small/Large    0.006361  \n",
       "                                   Small/Medium   0.000804  \n",
       "                                   Small/Small    0.000494  \n",
       "                          True     Large/Large    0.079822  \n",
       "                                   Medium/Large   0.046407  \n",
       "                                   Small/Large    0.025754  \n",
       "                                   Small/Medium   0.001266  \n",
       "                                   Small/Small    0.000597  \n",
       "Overlap (FALSE)           False    Large/Large    0.001234  \n",
       "                                   Medium/Large   0.000789  \n",
       "                                   Medium/Medium  0.000544  \n",
       "                                   Small/Large    0.000811  \n",
       "                                   Small/Medium   0.000288  \n",
       "                                   Small/Small    0.000244  \n",
       "                          True     Large/Large    0.026108  \n",
       "                                   Medium/Large   0.007835  \n",
       "                                   Medium/Medium  0.002178  \n",
       "                                   Small/Large    0.007384  \n",
       "                                   Small/Medium   0.001168  \n",
       "                                   Small/Small    0.000472  \n",
       "Partial Overlap (TRUE)    False    Large/Large    0.002932  \n",
       "                                   Medium/Large   0.001257  \n",
       "                                   Medium/Medium  0.000857  \n",
       "                                   Small/Large    0.001937  \n",
       "                                   Small/Medium   0.000604  \n",
       "                                   Small/Small    0.000440  \n",
       "                          True     Large/Large    0.016936  \n",
       "                                   Medium/Large   0.008254  \n",
       "                                   Medium/Medium  0.002321  \n",
       "                                   Small/Large    0.006894  \n",
       "                                   Small/Medium   0.001467  \n",
       "                                   Small/Small    0.000624  "
      ]
     },
     "metadata": {},
     "output_type": "display_data"
    },
    {
     "data": {
      "application/vnd.plotly.v1+json": {
       "config": {
        "plotlyServerURL": "https://plot.ly"
       },
       "data": [
        {
         "alignmentgroup": "True",
         "hovertemplate": "Stage: =Decompression<br>Geometry Sizes=Large/Large<br>Context=%{x}<br>time=%{y}<extra></extra>",
         "legendgroup": "Decompression",
         "marker": {
          "color": "#636efa",
          "pattern": {
           "shape": ""
          }
         },
         "name": "Decompression",
         "offsetgroup": "Decompression",
         "orientation": "v",
         "showlegend": true,
         "textposition": "auto",
         "type": "bar",
         "x": [
          "Fully Inside Other (TRUE)",
          "Overlap (FALSE)",
          "Partial Overlap (TRUE)"
         ],
         "xaxis": "x4",
         "y": [
          0.07017138784424769,
          0.04285144706567764,
          0.05893962277514382
         ],
         "yaxis": "y4"
        },
        {
         "alignmentgroup": "True",
         "hovertemplate": "Stage: =Decompression<br>Geometry Sizes=Medium/Large<br>Context=%{x}<br>time=%{y}<extra></extra>",
         "legendgroup": "Decompression",
         "marker": {
          "color": "#636efa",
          "pattern": {
           "shape": ""
          }
         },
         "name": "Decompression",
         "offsetgroup": "Decompression",
         "orientation": "v",
         "showlegend": false,
         "textposition": "auto",
         "type": "bar",
         "x": [
          "Fully Inside Other (TRUE)",
          "Overlap (FALSE)",
          "Partial Overlap (TRUE)"
         ],
         "xaxis": "x5",
         "y": [
          0.0539565324980475,
          0.08605770120044207,
          0.08853278978970197
         ],
         "yaxis": "y5"
        },
        {
         "alignmentgroup": "True",
         "hovertemplate": "Stage: =Decompression<br>Geometry Sizes=Small/Large<br>Context=%{x}<br>time=%{y}<extra></extra>",
         "legendgroup": "Decompression",
         "marker": {
          "color": "#636efa",
          "pattern": {
           "shape": ""
          }
         },
         "name": "Decompression",
         "offsetgroup": "Decompression",
         "orientation": "v",
         "showlegend": false,
         "textposition": "auto",
         "type": "bar",
         "x": [
          "Fully Inside Other (TRUE)",
          "Overlap (FALSE)",
          "Partial Overlap (TRUE)"
         ],
         "xaxis": "x6",
         "y": [
          0.21600913756440385,
          0.09705562532843157,
          0.19588345566804843
         ],
         "yaxis": "y6"
        },
        {
         "alignmentgroup": "True",
         "hovertemplate": "Stage: =Decompression<br>Geometry Sizes=Small/Medium<br>Context=%{x}<br>time=%{y}<extra></extra>",
         "legendgroup": "Decompression",
         "marker": {
          "color": "#636efa",
          "pattern": {
           "shape": ""
          }
         },
         "name": "Decompression",
         "offsetgroup": "Decompression",
         "orientation": "v",
         "showlegend": false,
         "textposition": "auto",
         "type": "bar",
         "x": [
          "Fully Inside Other (TRUE)",
          "Overlap (FALSE)",
          "Partial Overlap (TRUE)"
         ],
         "xaxis": "x",
         "y": [
          0.24527979745818368,
          0.16718333478591088,
          0.1667426707669111
         ],
         "yaxis": "y"
        },
        {
         "alignmentgroup": "True",
         "hovertemplate": "Stage: =Decompression<br>Geometry Sizes=Small/Small<br>Context=%{x}<br>time=%{y}<extra></extra>",
         "legendgroup": "Decompression",
         "marker": {
          "color": "#636efa",
          "pattern": {
           "shape": ""
          }
         },
         "name": "Decompression",
         "offsetgroup": "Decompression",
         "orientation": "v",
         "showlegend": false,
         "textposition": "auto",
         "type": "bar",
         "x": [
          "Fully Inside Other (TRUE)",
          "Overlap (FALSE)",
          "Partial Overlap (TRUE)"
         ],
         "xaxis": "x2",
         "y": [
          0.24024486072071308,
          0.27157955592413174,
          0.20099544084495818
         ],
         "yaxis": "y2"
        },
        {
         "alignmentgroup": "True",
         "hovertemplate": "Stage: =Decompression<br>Geometry Sizes=Medium/Medium<br>Context=%{x}<br>time=%{y}<extra></extra>",
         "legendgroup": "Decompression",
         "marker": {
          "color": "#636efa",
          "pattern": {
           "shape": ""
          }
         },
         "name": "Decompression",
         "offsetgroup": "Decompression",
         "orientation": "v",
         "showlegend": false,
         "textposition": "auto",
         "type": "bar",
         "x": [
          "Overlap (FALSE)",
          "Partial Overlap (TRUE)"
         ],
         "xaxis": "x3",
         "y": [
          0.16779387751617397,
          0.12743582115710933
         ],
         "yaxis": "y3"
        },
        {
         "alignmentgroup": "True",
         "hovertemplate": "Stage: =Intersection<br>Geometry Sizes=Large/Large<br>Context=%{x}<br>time=%{y}<extra></extra>",
         "legendgroup": "Intersection",
         "marker": {
          "color": "#EF553B",
          "pattern": {
           "shape": "/"
          }
         },
         "name": "Intersection",
         "offsetgroup": "Intersection",
         "orientation": "v",
         "showlegend": true,
         "textposition": "auto",
         "type": "bar",
         "x": [
          "Fully Inside Other (TRUE)",
          "Overlap (FALSE)",
          "Partial Overlap (TRUE)"
         ],
         "xaxis": "x4",
         "y": [
          0.05949593364031629,
          0.01755508057204972,
          0.36602528538769996
         ],
         "yaxis": "y4"
        },
        {
         "alignmentgroup": "True",
         "hovertemplate": "Stage: =Intersection<br>Geometry Sizes=Medium/Large<br>Context=%{x}<br>time=%{y}<extra></extra>",
         "legendgroup": "Intersection",
         "marker": {
          "color": "#EF553B",
          "pattern": {
           "shape": "/"
          }
         },
         "name": "Intersection",
         "offsetgroup": "Intersection",
         "orientation": "v",
         "showlegend": false,
         "textposition": "auto",
         "type": "bar",
         "x": [
          "Fully Inside Other (TRUE)",
          "Overlap (FALSE)",
          "Partial Overlap (TRUE)"
         ],
         "xaxis": "x5",
         "y": [
          0.04020853172362623,
          0.06354898744794496,
          0.2937825402895484
         ],
         "yaxis": "y5"
        },
        {
         "alignmentgroup": "True",
         "hovertemplate": "Stage: =Intersection<br>Geometry Sizes=Small/Large<br>Context=%{x}<br>time=%{y}<extra></extra>",
         "legendgroup": "Intersection",
         "marker": {
          "color": "#EF553B",
          "pattern": {
           "shape": "/"
          }
         },
         "name": "Intersection",
         "offsetgroup": "Intersection",
         "orientation": "v",
         "showlegend": false,
         "textposition": "auto",
         "type": "bar",
         "x": [
          "Fully Inside Other (TRUE)",
          "Overlap (FALSE)",
          "Partial Overlap (TRUE)"
         ],
         "xaxis": "x6",
         "y": [
          0.11252211962147349,
          0.04348310415858683,
          0.2536608070689302
         ],
         "yaxis": "y6"
        },
        {
         "alignmentgroup": "True",
         "hovertemplate": "Stage: =Intersection<br>Geometry Sizes=Small/Medium<br>Context=%{x}<br>time=%{y}<extra></extra>",
         "legendgroup": "Intersection",
         "marker": {
          "color": "#EF553B",
          "pattern": {
           "shape": "/"
          }
         },
         "name": "Intersection",
         "offsetgroup": "Intersection",
         "orientation": "v",
         "showlegend": false,
         "textposition": "auto",
         "type": "bar",
         "x": [
          "Fully Inside Other (TRUE)",
          "Overlap (FALSE)",
          "Partial Overlap (TRUE)"
         ],
         "xaxis": "x",
         "y": [
          0.7032080113689363,
          0.16606074931615614,
          0.5752083626357666
         ],
         "yaxis": "y"
        },
        {
         "alignmentgroup": "True",
         "hovertemplate": "Stage: =Intersection<br>Geometry Sizes=Small/Small<br>Context=%{x}<br>time=%{y}<extra></extra>",
         "legendgroup": "Intersection",
         "marker": {
          "color": "#EF553B",
          "pattern": {
           "shape": "/"
          }
         },
         "name": "Intersection",
         "offsetgroup": "Intersection",
         "orientation": "v",
         "showlegend": false,
         "textposition": "auto",
         "type": "bar",
         "x": [
          "Fully Inside Other (TRUE)",
          "Overlap (FALSE)",
          "Partial Overlap (TRUE)"
         ],
         "xaxis": "x2",
         "y": [
          0.8206070066140625,
          0.3957760473089641,
          0.7951378641131872
         ],
         "yaxis": "y2"
        },
        {
         "alignmentgroup": "True",
         "hovertemplate": "Stage: =Intersection<br>Geometry Sizes=Medium/Medium<br>Context=%{x}<br>time=%{y}<extra></extra>",
         "legendgroup": "Intersection",
         "marker": {
          "color": "#EF553B",
          "pattern": {
           "shape": "/"
          }
         },
         "name": "Intersection",
         "offsetgroup": "Intersection",
         "orientation": "v",
         "showlegend": false,
         "textposition": "auto",
         "type": "bar",
         "x": [
          "Overlap (FALSE)",
          "Partial Overlap (TRUE)"
         ],
         "xaxis": "x3",
         "y": [
          0.18984828975582807,
          0.5126607797206089
         ],
         "yaxis": "y3"
        }
       ],
       "layout": {
        "annotations": [
         {
          "showarrow": false,
          "text": "Geometry Sizes=Small/Medium",
          "x": 0.13333333333333333,
          "xanchor": "center",
          "xref": "paper",
          "y": 0.45,
          "yanchor": "bottom",
          "yref": "paper"
         },
         {
          "showarrow": false,
          "text": "Geometry Sizes=Small/Small",
          "x": 0.5,
          "xanchor": "center",
          "xref": "paper",
          "y": 0.45,
          "yanchor": "bottom",
          "yref": "paper"
         },
         {
          "showarrow": false,
          "text": "Geometry Sizes=Medium/Medium",
          "x": 0.8666666666666667,
          "xanchor": "center",
          "xref": "paper",
          "y": 0.45,
          "yanchor": "bottom",
          "yref": "paper"
         },
         {
          "showarrow": false,
          "text": "Geometry Sizes=Large/Large",
          "x": 0.13333333333333333,
          "xanchor": "center",
          "xref": "paper",
          "y": 1,
          "yanchor": "bottom",
          "yref": "paper"
         },
         {
          "showarrow": false,
          "text": "Geometry Sizes=Medium/Large",
          "x": 0.5,
          "xanchor": "center",
          "xref": "paper",
          "y": 1,
          "yanchor": "bottom",
          "yref": "paper"
         },
         {
          "showarrow": false,
          "text": "Geometry Sizes=Small/Large",
          "x": 0.8666666666666667,
          "xanchor": "center",
          "xref": "paper",
          "y": 1,
          "yanchor": "bottom",
          "yref": "paper"
         },
         {
          "font": {
           "size": 20
          },
          "showarrow": false,
          "text": "Bouning Box Context",
          "x": 0.5,
          "xanchor": "center",
          "xref": "paper",
          "y": -0.15,
          "yanchor": "top",
          "yref": "paper"
         },
         {
          "font": {
           "size": 20
          },
          "showarrow": false,
          "text": "Relative Mean Execution Time (%)",
          "textangle": -90,
          "x": -0.07,
          "xanchor": "center",
          "xref": "paper",
          "y": 0.5,
          "yanchor": "middle",
          "yref": "paper"
         }
        ],
        "barmode": "relative",
        "height": 1000,
        "legend": {
         "font": {
          "size": 15
         },
         "orientation": "h",
         "title": {
          "text": "Stage: "
         },
         "tracegroupgap": 0,
         "x": 0.7,
         "xanchor": "left",
         "y": -0.15,
         "yanchor": "top"
        },
        "template": {
         "data": {
          "bar": [
           {
            "error_x": {
             "color": "#2a3f5f"
            },
            "error_y": {
             "color": "#2a3f5f"
            },
            "marker": {
             "line": {
              "color": "#E5ECF6",
              "width": 0.5
             },
             "pattern": {
              "fillmode": "overlay",
              "size": 10,
              "solidity": 0.2
             }
            },
            "type": "bar"
           }
          ],
          "barpolar": [
           {
            "marker": {
             "line": {
              "color": "#E5ECF6",
              "width": 0.5
             },
             "pattern": {
              "fillmode": "overlay",
              "size": 10,
              "solidity": 0.2
             }
            },
            "type": "barpolar"
           }
          ],
          "carpet": [
           {
            "aaxis": {
             "endlinecolor": "#2a3f5f",
             "gridcolor": "white",
             "linecolor": "white",
             "minorgridcolor": "white",
             "startlinecolor": "#2a3f5f"
            },
            "baxis": {
             "endlinecolor": "#2a3f5f",
             "gridcolor": "white",
             "linecolor": "white",
             "minorgridcolor": "white",
             "startlinecolor": "#2a3f5f"
            },
            "type": "carpet"
           }
          ],
          "choropleth": [
           {
            "colorbar": {
             "outlinewidth": 0,
             "ticks": ""
            },
            "type": "choropleth"
           }
          ],
          "contour": [
           {
            "colorbar": {
             "outlinewidth": 0,
             "ticks": ""
            },
            "colorscale": [
             [
              0,
              "#0d0887"
             ],
             [
              0.1111111111111111,
              "#46039f"
             ],
             [
              0.2222222222222222,
              "#7201a8"
             ],
             [
              0.3333333333333333,
              "#9c179e"
             ],
             [
              0.4444444444444444,
              "#bd3786"
             ],
             [
              0.5555555555555556,
              "#d8576b"
             ],
             [
              0.6666666666666666,
              "#ed7953"
             ],
             [
              0.7777777777777778,
              "#fb9f3a"
             ],
             [
              0.8888888888888888,
              "#fdca26"
             ],
             [
              1,
              "#f0f921"
             ]
            ],
            "type": "contour"
           }
          ],
          "contourcarpet": [
           {
            "colorbar": {
             "outlinewidth": 0,
             "ticks": ""
            },
            "type": "contourcarpet"
           }
          ],
          "heatmap": [
           {
            "colorbar": {
             "outlinewidth": 0,
             "ticks": ""
            },
            "colorscale": [
             [
              0,
              "#0d0887"
             ],
             [
              0.1111111111111111,
              "#46039f"
             ],
             [
              0.2222222222222222,
              "#7201a8"
             ],
             [
              0.3333333333333333,
              "#9c179e"
             ],
             [
              0.4444444444444444,
              "#bd3786"
             ],
             [
              0.5555555555555556,
              "#d8576b"
             ],
             [
              0.6666666666666666,
              "#ed7953"
             ],
             [
              0.7777777777777778,
              "#fb9f3a"
             ],
             [
              0.8888888888888888,
              "#fdca26"
             ],
             [
              1,
              "#f0f921"
             ]
            ],
            "type": "heatmap"
           }
          ],
          "heatmapgl": [
           {
            "colorbar": {
             "outlinewidth": 0,
             "ticks": ""
            },
            "colorscale": [
             [
              0,
              "#0d0887"
             ],
             [
              0.1111111111111111,
              "#46039f"
             ],
             [
              0.2222222222222222,
              "#7201a8"
             ],
             [
              0.3333333333333333,
              "#9c179e"
             ],
             [
              0.4444444444444444,
              "#bd3786"
             ],
             [
              0.5555555555555556,
              "#d8576b"
             ],
             [
              0.6666666666666666,
              "#ed7953"
             ],
             [
              0.7777777777777778,
              "#fb9f3a"
             ],
             [
              0.8888888888888888,
              "#fdca26"
             ],
             [
              1,
              "#f0f921"
             ]
            ],
            "type": "heatmapgl"
           }
          ],
          "histogram": [
           {
            "marker": {
             "pattern": {
              "fillmode": "overlay",
              "size": 10,
              "solidity": 0.2
             }
            },
            "type": "histogram"
           }
          ],
          "histogram2d": [
           {
            "colorbar": {
             "outlinewidth": 0,
             "ticks": ""
            },
            "colorscale": [
             [
              0,
              "#0d0887"
             ],
             [
              0.1111111111111111,
              "#46039f"
             ],
             [
              0.2222222222222222,
              "#7201a8"
             ],
             [
              0.3333333333333333,
              "#9c179e"
             ],
             [
              0.4444444444444444,
              "#bd3786"
             ],
             [
              0.5555555555555556,
              "#d8576b"
             ],
             [
              0.6666666666666666,
              "#ed7953"
             ],
             [
              0.7777777777777778,
              "#fb9f3a"
             ],
             [
              0.8888888888888888,
              "#fdca26"
             ],
             [
              1,
              "#f0f921"
             ]
            ],
            "type": "histogram2d"
           }
          ],
          "histogram2dcontour": [
           {
            "colorbar": {
             "outlinewidth": 0,
             "ticks": ""
            },
            "colorscale": [
             [
              0,
              "#0d0887"
             ],
             [
              0.1111111111111111,
              "#46039f"
             ],
             [
              0.2222222222222222,
              "#7201a8"
             ],
             [
              0.3333333333333333,
              "#9c179e"
             ],
             [
              0.4444444444444444,
              "#bd3786"
             ],
             [
              0.5555555555555556,
              "#d8576b"
             ],
             [
              0.6666666666666666,
              "#ed7953"
             ],
             [
              0.7777777777777778,
              "#fb9f3a"
             ],
             [
              0.8888888888888888,
              "#fdca26"
             ],
             [
              1,
              "#f0f921"
             ]
            ],
            "type": "histogram2dcontour"
           }
          ],
          "mesh3d": [
           {
            "colorbar": {
             "outlinewidth": 0,
             "ticks": ""
            },
            "type": "mesh3d"
           }
          ],
          "parcoords": [
           {
            "line": {
             "colorbar": {
              "outlinewidth": 0,
              "ticks": ""
             }
            },
            "type": "parcoords"
           }
          ],
          "pie": [
           {
            "automargin": true,
            "type": "pie"
           }
          ],
          "scatter": [
           {
            "fillpattern": {
             "fillmode": "overlay",
             "size": 10,
             "solidity": 0.2
            },
            "type": "scatter"
           }
          ],
          "scatter3d": [
           {
            "line": {
             "colorbar": {
              "outlinewidth": 0,
              "ticks": ""
             }
            },
            "marker": {
             "colorbar": {
              "outlinewidth": 0,
              "ticks": ""
             }
            },
            "type": "scatter3d"
           }
          ],
          "scattercarpet": [
           {
            "marker": {
             "colorbar": {
              "outlinewidth": 0,
              "ticks": ""
             }
            },
            "type": "scattercarpet"
           }
          ],
          "scattergeo": [
           {
            "marker": {
             "colorbar": {
              "outlinewidth": 0,
              "ticks": ""
             }
            },
            "type": "scattergeo"
           }
          ],
          "scattergl": [
           {
            "marker": {
             "colorbar": {
              "outlinewidth": 0,
              "ticks": ""
             }
            },
            "type": "scattergl"
           }
          ],
          "scattermapbox": [
           {
            "marker": {
             "colorbar": {
              "outlinewidth": 0,
              "ticks": ""
             }
            },
            "type": "scattermapbox"
           }
          ],
          "scatterpolar": [
           {
            "marker": {
             "colorbar": {
              "outlinewidth": 0,
              "ticks": ""
             }
            },
            "type": "scatterpolar"
           }
          ],
          "scatterpolargl": [
           {
            "marker": {
             "colorbar": {
              "outlinewidth": 0,
              "ticks": ""
             }
            },
            "type": "scatterpolargl"
           }
          ],
          "scatterternary": [
           {
            "marker": {
             "colorbar": {
              "outlinewidth": 0,
              "ticks": ""
             }
            },
            "type": "scatterternary"
           }
          ],
          "surface": [
           {
            "colorbar": {
             "outlinewidth": 0,
             "ticks": ""
            },
            "colorscale": [
             [
              0,
              "#0d0887"
             ],
             [
              0.1111111111111111,
              "#46039f"
             ],
             [
              0.2222222222222222,
              "#7201a8"
             ],
             [
              0.3333333333333333,
              "#9c179e"
             ],
             [
              0.4444444444444444,
              "#bd3786"
             ],
             [
              0.5555555555555556,
              "#d8576b"
             ],
             [
              0.6666666666666666,
              "#ed7953"
             ],
             [
              0.7777777777777778,
              "#fb9f3a"
             ],
             [
              0.8888888888888888,
              "#fdca26"
             ],
             [
              1,
              "#f0f921"
             ]
            ],
            "type": "surface"
           }
          ],
          "table": [
           {
            "cells": {
             "fill": {
              "color": "#EBF0F8"
             },
             "line": {
              "color": "white"
             }
            },
            "header": {
             "fill": {
              "color": "#C8D4E3"
             },
             "line": {
              "color": "white"
             }
            },
            "type": "table"
           }
          ]
         },
         "layout": {
          "annotationdefaults": {
           "arrowcolor": "#2a3f5f",
           "arrowhead": 0,
           "arrowwidth": 1
          },
          "autotypenumbers": "strict",
          "coloraxis": {
           "colorbar": {
            "outlinewidth": 0,
            "ticks": ""
           }
          },
          "colorscale": {
           "diverging": [
            [
             0,
             "#8e0152"
            ],
            [
             0.1,
             "#c51b7d"
            ],
            [
             0.2,
             "#de77ae"
            ],
            [
             0.3,
             "#f1b6da"
            ],
            [
             0.4,
             "#fde0ef"
            ],
            [
             0.5,
             "#f7f7f7"
            ],
            [
             0.6,
             "#e6f5d0"
            ],
            [
             0.7,
             "#b8e186"
            ],
            [
             0.8,
             "#7fbc41"
            ],
            [
             0.9,
             "#4d9221"
            ],
            [
             1,
             "#276419"
            ]
           ],
           "sequential": [
            [
             0,
             "#0d0887"
            ],
            [
             0.1111111111111111,
             "#46039f"
            ],
            [
             0.2222222222222222,
             "#7201a8"
            ],
            [
             0.3333333333333333,
             "#9c179e"
            ],
            [
             0.4444444444444444,
             "#bd3786"
            ],
            [
             0.5555555555555556,
             "#d8576b"
            ],
            [
             0.6666666666666666,
             "#ed7953"
            ],
            [
             0.7777777777777778,
             "#fb9f3a"
            ],
            [
             0.8888888888888888,
             "#fdca26"
            ],
            [
             1,
             "#f0f921"
            ]
           ],
           "sequentialminus": [
            [
             0,
             "#0d0887"
            ],
            [
             0.1111111111111111,
             "#46039f"
            ],
            [
             0.2222222222222222,
             "#7201a8"
            ],
            [
             0.3333333333333333,
             "#9c179e"
            ],
            [
             0.4444444444444444,
             "#bd3786"
            ],
            [
             0.5555555555555556,
             "#d8576b"
            ],
            [
             0.6666666666666666,
             "#ed7953"
            ],
            [
             0.7777777777777778,
             "#fb9f3a"
            ],
            [
             0.8888888888888888,
             "#fdca26"
            ],
            [
             1,
             "#f0f921"
            ]
           ]
          },
          "colorway": [
           "#636efa",
           "#EF553B",
           "#00cc96",
           "#ab63fa",
           "#FFA15A",
           "#19d3f3",
           "#FF6692",
           "#B6E880",
           "#FF97FF",
           "#FECB52"
          ],
          "font": {
           "color": "#2a3f5f"
          },
          "geo": {
           "bgcolor": "white",
           "lakecolor": "white",
           "landcolor": "#E5ECF6",
           "showlakes": true,
           "showland": true,
           "subunitcolor": "white"
          },
          "hoverlabel": {
           "align": "left"
          },
          "hovermode": "closest",
          "mapbox": {
           "style": "light"
          },
          "paper_bgcolor": "white",
          "plot_bgcolor": "#E5ECF6",
          "polar": {
           "angularaxis": {
            "gridcolor": "white",
            "linecolor": "white",
            "ticks": ""
           },
           "bgcolor": "#E5ECF6",
           "radialaxis": {
            "gridcolor": "white",
            "linecolor": "white",
            "ticks": ""
           }
          },
          "scene": {
           "xaxis": {
            "backgroundcolor": "#E5ECF6",
            "gridcolor": "white",
            "gridwidth": 2,
            "linecolor": "white",
            "showbackground": true,
            "ticks": "",
            "zerolinecolor": "white"
           },
           "yaxis": {
            "backgroundcolor": "#E5ECF6",
            "gridcolor": "white",
            "gridwidth": 2,
            "linecolor": "white",
            "showbackground": true,
            "ticks": "",
            "zerolinecolor": "white"
           },
           "zaxis": {
            "backgroundcolor": "#E5ECF6",
            "gridcolor": "white",
            "gridwidth": 2,
            "linecolor": "white",
            "showbackground": true,
            "ticks": "",
            "zerolinecolor": "white"
           }
          },
          "shapedefaults": {
           "line": {
            "color": "#2a3f5f"
           }
          },
          "ternary": {
           "aaxis": {
            "gridcolor": "white",
            "linecolor": "white",
            "ticks": ""
           },
           "baxis": {
            "gridcolor": "white",
            "linecolor": "white",
            "ticks": ""
           },
           "bgcolor": "#E5ECF6",
           "caxis": {
            "gridcolor": "white",
            "linecolor": "white",
            "ticks": ""
           }
          },
          "title": {
           "x": 0.05
          },
          "xaxis": {
           "automargin": true,
           "gridcolor": "white",
           "linecolor": "white",
           "ticks": "",
           "title": {
            "standoff": 15
           },
           "zerolinecolor": "white",
           "zerolinewidth": 2
          },
          "yaxis": {
           "automargin": true,
           "gridcolor": "white",
           "linecolor": "white",
           "ticks": "",
           "title": {
            "standoff": 15
           },
           "zerolinecolor": "white",
           "zerolinewidth": 2
          }
         }
        },
        "title": {
         "font": {
          "size": 22
         },
         "text": "Relative Mean Execution Time for Intersection in Different Contexts",
         "x": 0.5
        },
        "width": 1000,
        "xaxis": {
         "anchor": "y",
         "domain": [
          0,
          0.26666666666666666
         ],
         "tickfont": {
          "size": 14
         },
         "title": {
          "text": ""
         }
        },
        "xaxis2": {
         "anchor": "y2",
         "domain": [
          0.3666666666666667,
          0.6333333333333333
         ],
         "matches": "x",
         "tickfont": {
          "size": 14
         },
         "title": {
          "text": ""
         }
        },
        "xaxis3": {
         "anchor": "y3",
         "domain": [
          0.7333333333333334,
          1
         ],
         "matches": "x",
         "tickfont": {
          "size": 14
         },
         "title": {
          "text": ""
         }
        },
        "xaxis4": {
         "anchor": "y4",
         "domain": [
          0,
          0.26666666666666666
         ],
         "matches": "x",
         "showticklabels": false,
         "tickfont": {
          "size": 14
         },
         "title": {
          "text": ""
         }
        },
        "xaxis5": {
         "anchor": "y5",
         "domain": [
          0.3666666666666667,
          0.6333333333333333
         ],
         "matches": "x",
         "showticklabels": false,
         "tickfont": {
          "size": 14
         },
         "title": {
          "text": ""
         }
        },
        "xaxis6": {
         "anchor": "y6",
         "domain": [
          0.7333333333333334,
          1
         ],
         "matches": "x",
         "showticklabels": false,
         "tickfont": {
          "size": 14
         },
         "title": {
          "text": ""
         }
        },
        "yaxis": {
         "anchor": "x",
         "domain": [
          0,
          0.45
         ],
         "showticklabels": true,
         "tickfont": {
          "size": 14
         },
         "title": {
          "text": ""
         },
         "visible": true
        },
        "yaxis2": {
         "anchor": "x2",
         "domain": [
          0,
          0.45
         ],
         "showticklabels": true,
         "tickfont": {
          "size": 14
         },
         "title": {
          "text": ""
         },
         "visible": true
        },
        "yaxis3": {
         "anchor": "x3",
         "domain": [
          0,
          0.45
         ],
         "showticklabels": true,
         "tickfont": {
          "size": 14
         },
         "title": {
          "text": ""
         },
         "visible": true
        },
        "yaxis4": {
         "anchor": "x4",
         "domain": [
          0.55,
          1
         ],
         "showticklabels": true,
         "tickfont": {
          "size": 14
         },
         "title": {
          "text": ""
         },
         "visible": true
        },
        "yaxis5": {
         "anchor": "x5",
         "domain": [
          0.55,
          1
         ],
         "showticklabels": true,
         "tickfont": {
          "size": 14
         },
         "title": {
          "text": ""
         },
         "visible": true
        },
        "yaxis6": {
         "anchor": "x6",
         "domain": [
          0.55,
          1
         ],
         "showticklabels": true,
         "tickfont": {
          "size": 14
         },
         "title": {
          "text": ""
         },
         "visible": true
        }
       }
      }
     },
     "metadata": {},
     "output_type": "display_data"
    }
   ],
   "source": [
    "total_time_df = stats_df[['context', 'total_time', 'sizes', 'baseline', 'predicate', 'decomp']]\n",
    "plot_total_time_bars(total_time_df, is_predicate=False, size_cat_excl=[], log_scale=False) #"
   ]
  },
  {
   "attachments": {},
   "cell_type": "markdown",
   "metadata": {},
   "source": [
    "#### Chunk Unfolding Analyzation"
   ]
  },
  {
   "cell_type": "code",
   "execution_count": 15,
   "metadata": {},
   "outputs": [],
   "source": [
    "chunk_unfolded_df = stats_df[['nbr_recieved_chks', 'nbr_total_chks','predicate','baseline', 'context', 'sizes']]\n",
    "chunk_unfolded_df[\"chk_fraction_unfolded\"] = chunk_unfolded_df[\"nbr_recieved_chks\"].div(chunk_unfolded_df.nbr_total_chks, axis=0) * 100"
   ]
  },
  {
   "cell_type": "code",
   "execution_count": 16,
   "metadata": {},
   "outputs": [],
   "source": [
    "def plot_chunk_unfolded_frac(df, is_predicate=False, is_baseline=False):\n",
    "    df[\"chk_fraction_unfolded\"] = df[\"nbr_recieved_chks\"].div(chunk_unfolded_df.nbr_total_chks, axis=0) * 100\n",
    "    df = df[(df['predicate'] == is_predicate) & (df['sizes'].isin([\"Small/Small\", \"Medium/Medium\", \"Large/Large\"]))]\n",
    "    df = df[df['baseline'] == is_baseline]\n",
    "    df = df.groupby(['context', 'baseline', 'sizes']).mean()\n",
    "    df.reset_index(inplace=True)\n",
    "\n",
    "\n",
    "\n",
    "    intersection_format = \"Intersection\" if not is_predicate else \"IsIntersection\"\n",
    "\n",
    "    fig = px.bar(df, \n",
    "                       x=\"chk_fraction_unfolded\", \n",
    "                       y=\"context\", \n",
    "                       facet_row=\"sizes\", \n",
    "                       barmode='group',\n",
    "                       facet_col_spacing=0.1, \n",
    "                       title=f\"Fraction of Chunks Unfolded for {intersection_format}\",\n",
    "                       labels=dict(sizes=\"Geometry Sizes\", context=\"Context\", baseline=\"Baseline\", Stage=\"Stage: \"),\n",
    "                       facet_col_wrap=1,\n",
    "                       height=1000,\n",
    "                       width=1000,\n",
    "                       orientation=\"h\",\n",
    "                       text=\"chk_fraction_unfolded\"\n",
    "                       )\n",
    "    \n",
    "    fig.update_annotations(font=dict(size=16))\n",
    "    fig.for_each_yaxis(lambda yaxis: yaxis.update(showticklabels=True))\n",
    "    fig.update_yaxes(showticklabels=True, visible=True,  tickfont=dict(size=16))\n",
    "    fig.update_xaxes(tickfont=dict(size=16))\n",
    "    fig.update_traces(texttemplate='%{text:.2f}%' , textposition='inside',textfont=dict(size=14))\n",
    "    fig.update_layout(barmode=\"relative\",\n",
    "                      title_x=0.5,\n",
    "                      width=1000, \n",
    "                      height=800, \n",
    "                      legend=dict(\n",
    "                            yanchor=\"top\",\n",
    "                            y=1,\n",
    "                            xanchor=\"left\",\n",
    "                            x=0.5,\n",
    "                            orientation=\"h\",\n",
    "                            font=dict(size=16)\n",
    "                        ),\n",
    "                        title=dict(\n",
    "                            text=f'Fraction of Chunks Unfolded for Intersection in Different Contexts and Geometry Sizes',\n",
    "                            x=0.5,\n",
    "                            font=dict(size=22)\n",
    "                            ),\n",
    "                        )\n",
    "\n",
    "    for axis in fig.layout:\n",
    "        if type(fig.layout[axis]) == objs.layout.XAxis:\n",
    "            fig.layout[axis].title.text = ''\n",
    "\n",
    "    for axis in fig.layout:\n",
    "        if type(fig.layout[axis]) == objs.layout.YAxis:\n",
    "            fig.layout[axis].title.text = '' \n",
    "\n",
    "    fig.for_each_annotation(lambda a: a.update(text=a.text.split(\"=\")[1].split(\"/\")[0]))\n",
    "    #fig.for_each_trace(lambda t: t.update(name=t.name.split(\"=\")[0]))\n",
    "    fig.add_annotation(\n",
    "    dict(\n",
    "        x=0.5,\n",
    "        y=-0.04,  # adjust as needed\n",
    "        showarrow=False,\n",
    "        text=\"Chunks Unfolded (%)\",\n",
    "        xref=\"paper\",\n",
    "        yref=\"paper\",\n",
    "        font=dict(size=20),\n",
    "        xanchor=\"center\", \n",
    "        yanchor=\"top\"\n",
    "    )\n",
    "    )\n",
    "\n",
    "    fig.add_annotation(\n",
    "    dict(\n",
    "        x=1.05,\n",
    "        y=0.62,  # adjust as needed\n",
    "        showarrow=False,\n",
    "        text=\"Geometry Size\",\n",
    "        xref=\"paper\",\n",
    "        yref=\"paper\",\n",
    "        textangle=90,\n",
    "        font=dict(size=20),\n",
    "        xanchor=\"center\", \n",
    "        yanchor=\"top\"\n",
    "    )\n",
    "    )\n",
    "\n",
    "    fig.add_annotation(\n",
    "    dict(\n",
    "        x=-0.35,  # adjust as needed\n",
    "        y=0.5,\n",
    "        showarrow=False,\n",
    "        text=\"Bouning Box Context\",\n",
    "        textangle=-90,\n",
    "        xref=\"paper\",\n",
    "        yref=\"paper\",\n",
    "        font=dict(size=20),\n",
    "        xanchor=\"center\",\n",
    "        yanchor=\"middle\"\n",
    "    ))\n",
    "   \n",
    "    fig.show()"
   ]
  },
  {
   "attachments": {},
   "cell_type": "markdown",
   "metadata": {},
   "source": [
    "## Results"
   ]
  },
  {
   "attachments": {},
   "cell_type": "markdown",
   "metadata": {},
   "source": [
    "#### Total time Analysis"
   ]
  },
  {
   "attachments": {},
   "cell_type": "markdown",
   "metadata": {},
   "source": [
    "#### (%) Unfolding of chunks"
   ]
  },
  {
   "cell_type": "code",
   "execution_count": 17,
   "metadata": {},
   "outputs": [
    {
     "data": {
      "application/vnd.plotly.v1+json": {
       "config": {
        "plotlyServerURL": "https://plot.ly"
       },
       "data": [
        {
         "alignmentgroup": "True",
         "hovertemplate": "Geometry Sizes=Large/Large<br>chk_fraction_unfolded=%{text}<br>Context=%{y}<extra></extra>",
         "legendgroup": "",
         "marker": {
          "color": "#636efa",
          "pattern": {
           "shape": ""
          }
         },
         "name": "",
         "offsetgroup": "",
         "orientation": "h",
         "showlegend": false,
         "text": [
          9.87564827692476,
          2.6728010155569573,
          16.842455396707173
         ],
         "textfont": {
          "size": 14
         },
         "textposition": "inside",
         "texttemplate": "%{text:.2f}%",
         "type": "bar",
         "x": [
          9.87564827692476,
          2.6728010155569573,
          16.842455396707173
         ],
         "xaxis": "x3",
         "y": [
          "Fully Inside Other (TRUE)",
          "Overlap (FALSE)",
          "Partial Overlap (TRUE)"
         ],
         "yaxis": "y3"
        },
        {
         "alignmentgroup": "True",
         "hovertemplate": "Geometry Sizes=Small/Small<br>chk_fraction_unfolded=%{text}<br>Context=%{y}<extra></extra>",
         "legendgroup": "",
         "marker": {
          "color": "#636efa",
          "pattern": {
           "shape": ""
          }
         },
         "name": "",
         "offsetgroup": "",
         "orientation": "h",
         "showlegend": false,
         "text": [
          49.81476856476856,
          26.112048506714554,
          65.05947566480978
         ],
         "textfont": {
          "size": 14
         },
         "textposition": "inside",
         "texttemplate": "%{text:.2f}%",
         "type": "bar",
         "x": [
          49.81476856476856,
          26.112048506714554,
          65.05947566480978
         ],
         "xaxis": "x2",
         "y": [
          "Fully Inside Other (TRUE)",
          "Overlap (FALSE)",
          "Partial Overlap (TRUE)"
         ],
         "yaxis": "y2"
        },
        {
         "alignmentgroup": "True",
         "hovertemplate": "Geometry Sizes=Medium/Medium<br>chk_fraction_unfolded=%{text}<br>Context=%{y}<extra></extra>",
         "legendgroup": "",
         "marker": {
          "color": "#636efa",
          "pattern": {
           "shape": ""
          }
         },
         "name": "",
         "offsetgroup": "",
         "orientation": "h",
         "showlegend": false,
         "text": [
          18.11550779549539,
          34.57538682487972
         ],
         "textfont": {
          "size": 14
         },
         "textposition": "inside",
         "texttemplate": "%{text:.2f}%",
         "type": "bar",
         "x": [
          18.11550779549539,
          34.57538682487972
         ],
         "xaxis": "x",
         "y": [
          "Overlap (FALSE)",
          "Partial Overlap (TRUE)"
         ],
         "yaxis": "y"
        }
       ],
       "layout": {
        "annotations": [
         {
          "font": {
           "size": 16
          },
          "showarrow": false,
          "text": "Medium",
          "textangle": 90,
          "x": 0.98,
          "xanchor": "left",
          "xref": "paper",
          "y": 0.15666666666666665,
          "yanchor": "middle",
          "yref": "paper"
         },
         {
          "font": {
           "size": 16
          },
          "showarrow": false,
          "text": "Small",
          "textangle": 90,
          "x": 0.98,
          "xanchor": "left",
          "xref": "paper",
          "y": 0.4999999999999999,
          "yanchor": "middle",
          "yref": "paper"
         },
         {
          "font": {
           "size": 16
          },
          "showarrow": false,
          "text": "Large",
          "textangle": 90,
          "x": 0.98,
          "xanchor": "left",
          "xref": "paper",
          "y": 0.8433333333333332,
          "yanchor": "middle",
          "yref": "paper"
         },
         {
          "font": {
           "size": 20
          },
          "showarrow": false,
          "text": "Chunks Unfolded (%)",
          "x": 0.5,
          "xanchor": "center",
          "xref": "paper",
          "y": -0.04,
          "yanchor": "top",
          "yref": "paper"
         },
         {
          "font": {
           "size": 20
          },
          "showarrow": false,
          "text": "Geometry Size",
          "textangle": 90,
          "x": 1.05,
          "xanchor": "center",
          "xref": "paper",
          "y": 0.62,
          "yanchor": "top",
          "yref": "paper"
         },
         {
          "font": {
           "size": 20
          },
          "showarrow": false,
          "text": "Bouning Box Context",
          "textangle": -90,
          "x": -0.35,
          "xanchor": "center",
          "xref": "paper",
          "y": 0.5,
          "yanchor": "middle",
          "yref": "paper"
         }
        ],
        "barmode": "relative",
        "height": 800,
        "legend": {
         "font": {
          "size": 16
         },
         "orientation": "h",
         "tracegroupgap": 0,
         "x": 0.5,
         "xanchor": "left",
         "y": 1,
         "yanchor": "top"
        },
        "template": {
         "data": {
          "bar": [
           {
            "error_x": {
             "color": "#2a3f5f"
            },
            "error_y": {
             "color": "#2a3f5f"
            },
            "marker": {
             "line": {
              "color": "#E5ECF6",
              "width": 0.5
             },
             "pattern": {
              "fillmode": "overlay",
              "size": 10,
              "solidity": 0.2
             }
            },
            "type": "bar"
           }
          ],
          "barpolar": [
           {
            "marker": {
             "line": {
              "color": "#E5ECF6",
              "width": 0.5
             },
             "pattern": {
              "fillmode": "overlay",
              "size": 10,
              "solidity": 0.2
             }
            },
            "type": "barpolar"
           }
          ],
          "carpet": [
           {
            "aaxis": {
             "endlinecolor": "#2a3f5f",
             "gridcolor": "white",
             "linecolor": "white",
             "minorgridcolor": "white",
             "startlinecolor": "#2a3f5f"
            },
            "baxis": {
             "endlinecolor": "#2a3f5f",
             "gridcolor": "white",
             "linecolor": "white",
             "minorgridcolor": "white",
             "startlinecolor": "#2a3f5f"
            },
            "type": "carpet"
           }
          ],
          "choropleth": [
           {
            "colorbar": {
             "outlinewidth": 0,
             "ticks": ""
            },
            "type": "choropleth"
           }
          ],
          "contour": [
           {
            "colorbar": {
             "outlinewidth": 0,
             "ticks": ""
            },
            "colorscale": [
             [
              0,
              "#0d0887"
             ],
             [
              0.1111111111111111,
              "#46039f"
             ],
             [
              0.2222222222222222,
              "#7201a8"
             ],
             [
              0.3333333333333333,
              "#9c179e"
             ],
             [
              0.4444444444444444,
              "#bd3786"
             ],
             [
              0.5555555555555556,
              "#d8576b"
             ],
             [
              0.6666666666666666,
              "#ed7953"
             ],
             [
              0.7777777777777778,
              "#fb9f3a"
             ],
             [
              0.8888888888888888,
              "#fdca26"
             ],
             [
              1,
              "#f0f921"
             ]
            ],
            "type": "contour"
           }
          ],
          "contourcarpet": [
           {
            "colorbar": {
             "outlinewidth": 0,
             "ticks": ""
            },
            "type": "contourcarpet"
           }
          ],
          "heatmap": [
           {
            "colorbar": {
             "outlinewidth": 0,
             "ticks": ""
            },
            "colorscale": [
             [
              0,
              "#0d0887"
             ],
             [
              0.1111111111111111,
              "#46039f"
             ],
             [
              0.2222222222222222,
              "#7201a8"
             ],
             [
              0.3333333333333333,
              "#9c179e"
             ],
             [
              0.4444444444444444,
              "#bd3786"
             ],
             [
              0.5555555555555556,
              "#d8576b"
             ],
             [
              0.6666666666666666,
              "#ed7953"
             ],
             [
              0.7777777777777778,
              "#fb9f3a"
             ],
             [
              0.8888888888888888,
              "#fdca26"
             ],
             [
              1,
              "#f0f921"
             ]
            ],
            "type": "heatmap"
           }
          ],
          "heatmapgl": [
           {
            "colorbar": {
             "outlinewidth": 0,
             "ticks": ""
            },
            "colorscale": [
             [
              0,
              "#0d0887"
             ],
             [
              0.1111111111111111,
              "#46039f"
             ],
             [
              0.2222222222222222,
              "#7201a8"
             ],
             [
              0.3333333333333333,
              "#9c179e"
             ],
             [
              0.4444444444444444,
              "#bd3786"
             ],
             [
              0.5555555555555556,
              "#d8576b"
             ],
             [
              0.6666666666666666,
              "#ed7953"
             ],
             [
              0.7777777777777778,
              "#fb9f3a"
             ],
             [
              0.8888888888888888,
              "#fdca26"
             ],
             [
              1,
              "#f0f921"
             ]
            ],
            "type": "heatmapgl"
           }
          ],
          "histogram": [
           {
            "marker": {
             "pattern": {
              "fillmode": "overlay",
              "size": 10,
              "solidity": 0.2
             }
            },
            "type": "histogram"
           }
          ],
          "histogram2d": [
           {
            "colorbar": {
             "outlinewidth": 0,
             "ticks": ""
            },
            "colorscale": [
             [
              0,
              "#0d0887"
             ],
             [
              0.1111111111111111,
              "#46039f"
             ],
             [
              0.2222222222222222,
              "#7201a8"
             ],
             [
              0.3333333333333333,
              "#9c179e"
             ],
             [
              0.4444444444444444,
              "#bd3786"
             ],
             [
              0.5555555555555556,
              "#d8576b"
             ],
             [
              0.6666666666666666,
              "#ed7953"
             ],
             [
              0.7777777777777778,
              "#fb9f3a"
             ],
             [
              0.8888888888888888,
              "#fdca26"
             ],
             [
              1,
              "#f0f921"
             ]
            ],
            "type": "histogram2d"
           }
          ],
          "histogram2dcontour": [
           {
            "colorbar": {
             "outlinewidth": 0,
             "ticks": ""
            },
            "colorscale": [
             [
              0,
              "#0d0887"
             ],
             [
              0.1111111111111111,
              "#46039f"
             ],
             [
              0.2222222222222222,
              "#7201a8"
             ],
             [
              0.3333333333333333,
              "#9c179e"
             ],
             [
              0.4444444444444444,
              "#bd3786"
             ],
             [
              0.5555555555555556,
              "#d8576b"
             ],
             [
              0.6666666666666666,
              "#ed7953"
             ],
             [
              0.7777777777777778,
              "#fb9f3a"
             ],
             [
              0.8888888888888888,
              "#fdca26"
             ],
             [
              1,
              "#f0f921"
             ]
            ],
            "type": "histogram2dcontour"
           }
          ],
          "mesh3d": [
           {
            "colorbar": {
             "outlinewidth": 0,
             "ticks": ""
            },
            "type": "mesh3d"
           }
          ],
          "parcoords": [
           {
            "line": {
             "colorbar": {
              "outlinewidth": 0,
              "ticks": ""
             }
            },
            "type": "parcoords"
           }
          ],
          "pie": [
           {
            "automargin": true,
            "type": "pie"
           }
          ],
          "scatter": [
           {
            "fillpattern": {
             "fillmode": "overlay",
             "size": 10,
             "solidity": 0.2
            },
            "type": "scatter"
           }
          ],
          "scatter3d": [
           {
            "line": {
             "colorbar": {
              "outlinewidth": 0,
              "ticks": ""
             }
            },
            "marker": {
             "colorbar": {
              "outlinewidth": 0,
              "ticks": ""
             }
            },
            "type": "scatter3d"
           }
          ],
          "scattercarpet": [
           {
            "marker": {
             "colorbar": {
              "outlinewidth": 0,
              "ticks": ""
             }
            },
            "type": "scattercarpet"
           }
          ],
          "scattergeo": [
           {
            "marker": {
             "colorbar": {
              "outlinewidth": 0,
              "ticks": ""
             }
            },
            "type": "scattergeo"
           }
          ],
          "scattergl": [
           {
            "marker": {
             "colorbar": {
              "outlinewidth": 0,
              "ticks": ""
             }
            },
            "type": "scattergl"
           }
          ],
          "scattermapbox": [
           {
            "marker": {
             "colorbar": {
              "outlinewidth": 0,
              "ticks": ""
             }
            },
            "type": "scattermapbox"
           }
          ],
          "scatterpolar": [
           {
            "marker": {
             "colorbar": {
              "outlinewidth": 0,
              "ticks": ""
             }
            },
            "type": "scatterpolar"
           }
          ],
          "scatterpolargl": [
           {
            "marker": {
             "colorbar": {
              "outlinewidth": 0,
              "ticks": ""
             }
            },
            "type": "scatterpolargl"
           }
          ],
          "scatterternary": [
           {
            "marker": {
             "colorbar": {
              "outlinewidth": 0,
              "ticks": ""
             }
            },
            "type": "scatterternary"
           }
          ],
          "surface": [
           {
            "colorbar": {
             "outlinewidth": 0,
             "ticks": ""
            },
            "colorscale": [
             [
              0,
              "#0d0887"
             ],
             [
              0.1111111111111111,
              "#46039f"
             ],
             [
              0.2222222222222222,
              "#7201a8"
             ],
             [
              0.3333333333333333,
              "#9c179e"
             ],
             [
              0.4444444444444444,
              "#bd3786"
             ],
             [
              0.5555555555555556,
              "#d8576b"
             ],
             [
              0.6666666666666666,
              "#ed7953"
             ],
             [
              0.7777777777777778,
              "#fb9f3a"
             ],
             [
              0.8888888888888888,
              "#fdca26"
             ],
             [
              1,
              "#f0f921"
             ]
            ],
            "type": "surface"
           }
          ],
          "table": [
           {
            "cells": {
             "fill": {
              "color": "#EBF0F8"
             },
             "line": {
              "color": "white"
             }
            },
            "header": {
             "fill": {
              "color": "#C8D4E3"
             },
             "line": {
              "color": "white"
             }
            },
            "type": "table"
           }
          ]
         },
         "layout": {
          "annotationdefaults": {
           "arrowcolor": "#2a3f5f",
           "arrowhead": 0,
           "arrowwidth": 1
          },
          "autotypenumbers": "strict",
          "coloraxis": {
           "colorbar": {
            "outlinewidth": 0,
            "ticks": ""
           }
          },
          "colorscale": {
           "diverging": [
            [
             0,
             "#8e0152"
            ],
            [
             0.1,
             "#c51b7d"
            ],
            [
             0.2,
             "#de77ae"
            ],
            [
             0.3,
             "#f1b6da"
            ],
            [
             0.4,
             "#fde0ef"
            ],
            [
             0.5,
             "#f7f7f7"
            ],
            [
             0.6,
             "#e6f5d0"
            ],
            [
             0.7,
             "#b8e186"
            ],
            [
             0.8,
             "#7fbc41"
            ],
            [
             0.9,
             "#4d9221"
            ],
            [
             1,
             "#276419"
            ]
           ],
           "sequential": [
            [
             0,
             "#0d0887"
            ],
            [
             0.1111111111111111,
             "#46039f"
            ],
            [
             0.2222222222222222,
             "#7201a8"
            ],
            [
             0.3333333333333333,
             "#9c179e"
            ],
            [
             0.4444444444444444,
             "#bd3786"
            ],
            [
             0.5555555555555556,
             "#d8576b"
            ],
            [
             0.6666666666666666,
             "#ed7953"
            ],
            [
             0.7777777777777778,
             "#fb9f3a"
            ],
            [
             0.8888888888888888,
             "#fdca26"
            ],
            [
             1,
             "#f0f921"
            ]
           ],
           "sequentialminus": [
            [
             0,
             "#0d0887"
            ],
            [
             0.1111111111111111,
             "#46039f"
            ],
            [
             0.2222222222222222,
             "#7201a8"
            ],
            [
             0.3333333333333333,
             "#9c179e"
            ],
            [
             0.4444444444444444,
             "#bd3786"
            ],
            [
             0.5555555555555556,
             "#d8576b"
            ],
            [
             0.6666666666666666,
             "#ed7953"
            ],
            [
             0.7777777777777778,
             "#fb9f3a"
            ],
            [
             0.8888888888888888,
             "#fdca26"
            ],
            [
             1,
             "#f0f921"
            ]
           ]
          },
          "colorway": [
           "#636efa",
           "#EF553B",
           "#00cc96",
           "#ab63fa",
           "#FFA15A",
           "#19d3f3",
           "#FF6692",
           "#B6E880",
           "#FF97FF",
           "#FECB52"
          ],
          "font": {
           "color": "#2a3f5f"
          },
          "geo": {
           "bgcolor": "white",
           "lakecolor": "white",
           "landcolor": "#E5ECF6",
           "showlakes": true,
           "showland": true,
           "subunitcolor": "white"
          },
          "hoverlabel": {
           "align": "left"
          },
          "hovermode": "closest",
          "mapbox": {
           "style": "light"
          },
          "paper_bgcolor": "white",
          "plot_bgcolor": "#E5ECF6",
          "polar": {
           "angularaxis": {
            "gridcolor": "white",
            "linecolor": "white",
            "ticks": ""
           },
           "bgcolor": "#E5ECF6",
           "radialaxis": {
            "gridcolor": "white",
            "linecolor": "white",
            "ticks": ""
           }
          },
          "scene": {
           "xaxis": {
            "backgroundcolor": "#E5ECF6",
            "gridcolor": "white",
            "gridwidth": 2,
            "linecolor": "white",
            "showbackground": true,
            "ticks": "",
            "zerolinecolor": "white"
           },
           "yaxis": {
            "backgroundcolor": "#E5ECF6",
            "gridcolor": "white",
            "gridwidth": 2,
            "linecolor": "white",
            "showbackground": true,
            "ticks": "",
            "zerolinecolor": "white"
           },
           "zaxis": {
            "backgroundcolor": "#E5ECF6",
            "gridcolor": "white",
            "gridwidth": 2,
            "linecolor": "white",
            "showbackground": true,
            "ticks": "",
            "zerolinecolor": "white"
           }
          },
          "shapedefaults": {
           "line": {
            "color": "#2a3f5f"
           }
          },
          "ternary": {
           "aaxis": {
            "gridcolor": "white",
            "linecolor": "white",
            "ticks": ""
           },
           "baxis": {
            "gridcolor": "white",
            "linecolor": "white",
            "ticks": ""
           },
           "bgcolor": "#E5ECF6",
           "caxis": {
            "gridcolor": "white",
            "linecolor": "white",
            "ticks": ""
           }
          },
          "title": {
           "x": 0.05
          },
          "xaxis": {
           "automargin": true,
           "gridcolor": "white",
           "linecolor": "white",
           "ticks": "",
           "title": {
            "standoff": 15
           },
           "zerolinecolor": "white",
           "zerolinewidth": 2
          },
          "yaxis": {
           "automargin": true,
           "gridcolor": "white",
           "linecolor": "white",
           "ticks": "",
           "title": {
            "standoff": 15
           },
           "zerolinecolor": "white",
           "zerolinewidth": 2
          }
         }
        },
        "title": {
         "font": {
          "size": 22
         },
         "text": "Fraction of Chunks Unfolded for Intersection in Different Contexts and Geometry Sizes",
         "x": 0.5
        },
        "width": 1000,
        "xaxis": {
         "anchor": "y",
         "domain": [
          0,
          0.98
         ],
         "tickfont": {
          "size": 16
         },
         "title": {
          "text": ""
         }
        },
        "xaxis2": {
         "anchor": "y2",
         "domain": [
          0,
          0.98
         ],
         "matches": "x",
         "showticklabels": false,
         "tickfont": {
          "size": 16
         },
         "title": {
          "text": ""
         }
        },
        "xaxis3": {
         "anchor": "y3",
         "domain": [
          0,
          0.98
         ],
         "matches": "x",
         "showticklabels": false,
         "tickfont": {
          "size": 16
         },
         "title": {
          "text": ""
         }
        },
        "yaxis": {
         "anchor": "x",
         "domain": [
          0,
          0.3133333333333333
         ],
         "showticklabels": true,
         "tickfont": {
          "size": 16
         },
         "title": {
          "text": ""
         },
         "visible": true
        },
        "yaxis2": {
         "anchor": "x2",
         "domain": [
          0.34333333333333327,
          0.6566666666666665
         ],
         "matches": "y",
         "showticklabels": true,
         "tickfont": {
          "size": 16
         },
         "title": {
          "text": ""
         },
         "visible": true
        },
        "yaxis3": {
         "anchor": "x3",
         "domain": [
          0.6866666666666665,
          0.9999999999999998
         ],
         "matches": "y",
         "showticklabels": true,
         "tickfont": {
          "size": 16
         },
         "title": {
          "text": ""
         },
         "visible": true
        }
       }
      }
     },
     "metadata": {},
     "output_type": "display_data"
    }
   ],
   "source": [
    "plot_chunk_unfolded_frac(chunk_unfolded_df, is_predicate=False, is_baseline=False)"
   ]
  },
  {
   "cell_type": "code",
   "execution_count": null,
   "metadata": {},
   "outputs": [],
   "source": []
  },
  {
   "cell_type": "code",
   "execution_count": null,
   "metadata": {},
   "outputs": [],
   "source": []
  }
 ],
 "metadata": {
  "kernelspec": {
   "display_name": "Python 3",
   "language": "python",
   "name": "python3"
  },
  "language_info": {
   "codemirror_mode": {
    "name": "ipython",
    "version": 3
   },
   "file_extension": ".py",
   "mimetype": "text/x-python",
   "name": "python",
   "nbconvert_exporter": "python",
   "pygments_lexer": "ipython3",
   "version": "3.11.1"
  },
  "orig_nbformat": 4,
  "vscode": {
   "interpreter": {
    "hash": "aee8b7b246df8f9039afb4144a1f6fd8d2ca17a180786b69acc140d282b71a49"
   }
  }
 },
 "nbformat": 4,
 "nbformat_minor": 2
}
