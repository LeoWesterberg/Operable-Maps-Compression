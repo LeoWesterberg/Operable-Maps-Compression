{
 "cells": [
  {
   "attachments": {},
   "cell_type": "markdown",
   "metadata": {},
   "source": [
    "#### Imports"
   ]
  },
  {
   "cell_type": "code",
   "execution_count": 1,
   "metadata": {},
   "outputs": [
    {
     "name": "stdout",
     "output_type": "stream",
     "text": [
      "Requirement already satisfied: dill in /home/leo/miniconda3/envs/ada/lib/python3.9/site-packages (0.3.6)\n",
      "\n",
      "\u001b[1m[\u001b[0m\u001b[34;49mnotice\u001b[0m\u001b[1;39;49m]\u001b[0m\u001b[39;49m A new release of pip available: \u001b[0m\u001b[31;49m22.3.1\u001b[0m\u001b[39;49m -> \u001b[0m\u001b[32;49m23.1.2\u001b[0m\n",
      "\u001b[1m[\u001b[0m\u001b[34;49mnotice\u001b[0m\u001b[1;39;49m]\u001b[0m\u001b[39;49m To update, run: \u001b[0m\u001b[32;49mpip install --upgrade pip\u001b[0m\n",
      "Note: you may need to restart the kernel to use updated packages.\n"
     ]
    }
   ],
   "source": [
    "%pip install dill"
   ]
  },
  {
   "cell_type": "code",
   "execution_count": 2,
   "metadata": {},
   "outputs": [],
   "source": [
    "import numpy as np\n",
    "import shapely\n",
    "import bisect\n",
    "import shapely.wkt\n",
    "import matplotlib.pyplot as plt\n",
    "import math\n",
    "import geopandas as gpd\n",
    "import json\n",
    "import pandas as pd\n",
    "import seaborn as sns\n",
    "from enum import Enum\n",
    "import plotly.graph_objects as go\n",
    "from plotly.subplots import make_subplots\n",
    "import plotly.express as px\n",
    "\n",
    "import intersection.first_bin_search\n",
    "import intersection.chunk_bbox_intersection\n",
    "from bench_utils import parse_intersection_data \n",
    "common_bbox = intersection.chunk_bbox_intersection.common_bbox\n",
    "chunk_bbox_is_intersecting = intersection.chunk_bbox_intersection.is_intersecting\n",
    "chunk_bbox_intersection = intersection.chunk_bbox_intersection.intersection\n",
    "\n",
    "\n",
    "\n",
    "from intersection.plotting import *\n",
    "import algos.fpd_extended_lib.cfg as cfg\n",
    "from algos.alg_fpd_extended import FpdExtended\n",
    "\n",
    "\n",
    "pd.options.mode.chained_assignment = None  # default='warn'"
   ]
  },
  {
   "attachments": {},
   "cell_type": "markdown",
   "metadata": {},
   "source": [
    "#### Import data"
   ]
  },
  {
   "cell_type": "code",
   "execution_count": 3,
   "metadata": {},
   "outputs": [],
   "source": [
    "fpd = FpdExtended()\n",
    "\n",
    "# Geometries\n",
    "# manual_data, _ = parse_intersection_data(\"manual\")\n",
    "# special_cases, _ = parse_intersection_data(\"latest_export.json\", strip_precision=True)\n",
    "world_data, world_data_stats = parse_intersection_data(\"world.json\",40, strip_precision=True)\n",
    "lund_data, lund_data_stats = parse_intersection_data(\"lund.json\")\n",
    "# sweden_data, sweden_data_stats = parse_intersection_data(\"sweden-places-a.json\",40)\n",
    "# new_york_data, new_york_data_stats = parse_intersection_data(\"new-york-natural.json\",40)\n",
    "# waterways_data, waterways_data_stats = parse_intersection_data(\"nord-est-waterways.json\",40)\n",
    "\n",
    "#sweden_all_data, sweden_all_data_stats = parse_intersection_data(\"final/latest_export.pkl\")\n",
    "#country_borders_data, country_borders_data_stats = parse_intersection_data(\"final/country_borders.pkl\")\n",
    "#china_water_data, china_water_data_stats = parse_intersection_data(\"final/china_water_100k.pkl\")\n",
    "\n",
    "datasets = [\n",
    "    ##(china_water_data, 13, \"China Water\"),\n",
    "    #(country_borders_data, 13, \"Country Borders\"),\n",
    "    # (manual_data, 3, \"manual_data\"),\n",
    "    # (special_cases, 3, \"special_cases\"),\n",
    "    #(world_data, 15, \"world_data\"),\n",
    "    #(lund_data, 3, \"lund_data\"),\n",
    "    # (sweden_data, 15, \"sweden_data\"),\n",
    "    # (new_york_data, 10, \"new_york_data\"),\n",
    "    # (waterways_data, 3, \"waterways\")\n",
    "]\n"
   ]
  },
  {
   "attachments": {},
   "cell_type": "markdown",
   "metadata": {},
   "source": [
    "#### Constants"
   ]
  },
  {
   "cell_type": "code",
   "execution_count": 4,
   "metadata": {},
   "outputs": [],
   "source": [
    "# Number of total iterations = NBR_ITER * N * number_of_datasets\n",
    "NBR_ITER = -1 # Number of iterations for each dataset\n",
    "N = 1 # Number of times to recalculate each geometry for reliable mean value\n",
    "K = 5000\n",
    "\n",
    "# Max DELTA_SIZE_VALUE in MAX_NUM_DELTAS Analysis\n",
    "MAX_DELTA_SIZE = 100\n",
    "\n",
    "#Geometry classification sizes\n",
    "MEDIUM_THRESHOLD = 30\n",
    "LARGE_THRESHOLD = 100\n",
    "\n",
    "\n",
    "SAVE_DFS = True\n",
    "USE_EXISTING_DF = True"
   ]
  },
  {
   "attachments": {},
   "cell_type": "markdown",
   "metadata": {},
   "source": [
    "## Functions Section"
   ]
  },
  {
   "attachments": {},
   "cell_type": "markdown",
   "metadata": {},
   "source": [
    "#### Config Setter Functions"
   ]
  },
  {
   "cell_type": "code",
   "execution_count": 5,
   "metadata": {},
   "outputs": [],
   "source": [
    "def set_max_num_delta(val):\n",
    "        cfg.MAX_NUM_DELTAS = val\n",
    "        cfg.D_CNT_SIZE = cfg.required_bits(val)\n",
    "\n",
    "def act_deact_baseline(activate=True):\n",
    "        cfg.BASELINE_ON = activate\n",
    "        cfg.DISABLE_OPTIMIZED_INTERSECTION = False if not activate else True\n",
    "        cfg.DISABLE_OPTIMIZED_ADD_VERTEX = False if not activate else True\n",
    "        cfg.DISABLE_OPTIMIZED_BOUNDING_BOX = False if not activate else True"
   ]
  },
  {
   "attachments": {},
   "cell_type": "markdown",
   "metadata": {},
   "source": [
    "#### Stats Collector Functions"
   ]
  },
  {
   "cell_type": "code",
   "execution_count": 6,
   "metadata": {},
   "outputs": [],
   "source": [
    "def get_size_category(size):\n",
    "    if size < LARGE_THRESHOLD and size >= MEDIUM_THRESHOLD:\n",
    "            return \"Medium\", 1\n",
    "    elif size >= LARGE_THRESHOLD:\n",
    "         return \"Large\", 2\n",
    "    else:\n",
    "         return \"Small\", 0\n",
    "    \n",
    "def get_intersection_category(size1, size2):\n",
    "    size1_cat, type1 = get_size_category(size1)\n",
    "    size2_cat, type2 = get_size_category(size2)\n",
    "\n",
    "    if type1 <= type2:\n",
    "        return size1_cat + \"/\" + size2_cat\n",
    "    return size2_cat + \"/\" + size1_cat\n",
    "\n",
    "\n",
    "def get_context_category(g1, g2, bins=None):\n",
    "    if bins == None:\n",
    "        _, b1_fpde = fpd.compress(g1)\n",
    "        _, b2_fpde = fpd.compress(g2) \n",
    "    else:\n",
    "        b1_fpde, b2_fpde = bins\n",
    "\n",
    "    bbox = common_bbox((b1_fpde, b2_fpde))\n",
    "    intersects = shapely.intersects(g1, g2)\n",
    "    contains = shapely.contains(g1, g2) or shapely.contains(g2, g1)\n",
    "    if not bbox:\n",
    "        return \"No Overlap (FALSE)\"\n",
    "    elif not intersects:\n",
    "        return \"Overlap (FALSE)\"\n",
    "    elif not contains:\n",
    "        return \"Partial Overlap (TRUE)\"\n",
    "    else:\n",
    "        return \"Fully Inside Other (TRUE)\"\n",
    "\n",
    "def get_category_stat(g1, g2):\n",
    "        s1, s2 = (shapely.get_num_coordinates(g1), shapely.get_num_coordinates(g2))\n",
    "        size_category = get_intersection_category(s1, s2)\n",
    "        context_category = get_context_category(g1, g2)\n",
    "        return [size_category, context_category]\n",
    "\n",
    "\n",
    "#For taking mean of all stats, not just total time\n",
    "def get_time_stat(bins, predicate=False):\n",
    "    alg = chunk_bbox_is_intersecting if predicate else chunk_bbox_intersection\n",
    "    # 'decomp', 'nbr_recieved_chks', 'nbr_total_chks', 'total_time'\n",
    "    mean_stat = [0, 0, 0, 0]\n",
    "    for _ in range(N):\n",
    "        stat, _ = alg(bins, get_stats=True)\n",
    "        mean_stat = [sum(x) for x in zip(mean_stat, stat)]\n",
    "    \n",
    "    return [num / N for num in mean_stat]\n"
   ]
  },
  {
   "attachments": {},
   "cell_type": "markdown",
   "metadata": {},
   "source": [
    "#### Dataset Evaluation"
   ]
  },
  {
   "cell_type": "code",
   "execution_count": 7,
   "metadata": {},
   "outputs": [],
   "source": [
    "def evaluate_dataset(stats_df, delta_size=None, not_predicate=True, add_size=False, dataset_name=\"\", args=None):\n",
    "        idx, g1, g2 = args\n",
    "        if delta_size != None:\n",
    "            set_max_num_delta(delta_size)\n",
    "        bins = (fpd.compress(g1)[1], fpd.compress(g2)[1])\n",
    "\n",
    "        for is_predicate in [False] if not_predicate else [True, False]:\n",
    "            stats = []\n",
    "            stats.extend(get_time_stat(bins=bins, predicate=is_predicate))\n",
    "            stats.extend(get_category_stat(g1, g2))\n",
    "            stats.append(delta_size if delta_size != None else cfg.MAX_NUM_DELTAS)\n",
    "            if is_predicate:\n",
    "                print(is_predicate)\n",
    "            stats.append(is_predicate)\n",
    "            stats.append(idx)\n",
    "            stats.append(cfg.BASELINE_ON)\n",
    "            if add_size:\n",
    "                stats.append(len(bins[0]) + len(bins[1]))\n",
    "            stats.append(dataset_name)\n",
    "            stats_df.loc[len(stats_df)] = stats"
   ]
  },
  {
   "attachments": {},
   "cell_type": "markdown",
   "metadata": {},
   "source": [
    "# Statistics Visualization"
   ]
  },
  {
   "attachments": {},
   "cell_type": "markdown",
   "metadata": {},
   "source": [
    "#### Best MAX_NUM_DELTAS per Dataset Analysis"
   ]
  },
  {
   "cell_type": "code",
   "execution_count": 120,
   "metadata": {},
   "outputs": [],
   "source": [
    "from tqdm import tqdm\n",
    "\n",
    "if not USE_EXISTING_DF:\n",
    "    #For baseline\n",
    "    max_deltas_dfs = []\n",
    "    for dataset in datasets:\n",
    "        max_deltas_df = pd.DataFrame(columns=['decomp', 'nbr_recieved_chks', 'nbr_total_chks', 'total_time', \"sizes\", \"context\", \"delta_size\", \"predicate\", \"dataset_idx\", \"baseline\", \"sum_size\", \"dataset\"])\n",
    "\n",
    "        dataset, _, dataset_name = dataset\n",
    "        np.random.seed(2021)\n",
    "        indicies = np.random.choice(len(dataset), size= min(K, len(dataset))) \n",
    "        dataset = np.array(dataset)[indicies] \n",
    "        for idx, (g1, g2) in enumerate(tqdm(dataset)):\n",
    "            \n",
    "            if g1.geom_type == \"Point\" or g2.geom_type == \"Point\":\n",
    "                continue\n",
    "\n",
    "            cat =  get_category_stat(g1, g2)[0]\n",
    "            if cat != 'Small/Small' and cat != 'Medium/Medium' and cat != 'Large/Large':\n",
    "                continue\n",
    "\n",
    "            act_deact_baseline(activate=False)        \n",
    "            for max_delta_size in range(0,MAX_DELTA_SIZE):\n",
    "                evaluate_dataset(stats_df=max_deltas_df, delta_size=max_delta_size, not_predicate=True, add_size=True, dataset_name=dataset_name, args=(idx, g1, g2)) \n",
    "\n",
    "            act_deact_baseline(activate=True)        \n",
    "            evaluate_dataset(stats_df=max_deltas_df, delta_size=10000000, not_predicate=True, add_size=True, dataset_name=dataset_name, args=(idx, g1, g2)) \n",
    "        \n",
    "        max_deltas_df.to_csv(f'max_deltas_{dataset_name}.csv', index=False)\n",
    "        max_deltas_dfs.append(max_deltas_df)\n",
    "    max_deltas_df = pd.concat(max_deltas_dfs)\n",
    "    display(max_deltas_df)\n",
    "\n",
    "else:\n",
    "    country_max_deltas_df = pd.read_csv('max_deltas_Country Borders3.csv')\n",
    "    country_max_deltas_df['delta_size'] = country_max_deltas_df['delta_size'].replace(100000, 10000000)\n",
    "    china_max_deltas_df = pd.read_csv('max_deltas_China Water3.csv')\n",
    "    sweden_max_deltas_df = pd.read_csv('max_deltas_Sweden All3.csv')\n",
    "    lund_max_deltas_df = pd.read_csv('max_deltas_lund_data3.csv')\n",
    "\n",
    "    max_deltas_df = pd.concat([china_max_deltas_df, \n",
    "                               sweden_max_deltas_df, \n",
    "                               lund_max_deltas_df, \n",
    "                               country_max_deltas_df\n",
    "                               ])\n",
    "\n",
    "\n"
   ]
  },
  {
   "cell_type": "code",
   "execution_count": 121,
   "metadata": {},
   "outputs": [],
   "source": [
    "max_deltas_filt_df = max_deltas_df[['total_time', 'sum_size', \"sizes\", \"delta_size\", \"predicate\", \"baseline\"]]"
   ]
  },
  {
   "attachments": {},
   "cell_type": "markdown",
   "metadata": {},
   "source": [
    "### Helper"
   ]
  },
  {
   "cell_type": "code",
   "execution_count": 122,
   "metadata": {},
   "outputs": [],
   "source": [
    "\n",
    "import plotly.graph_objs as objs\n",
    "\n",
    "def make_general_facet_title(fig, x_title, y_title, secondary=None, barplot=False, hbarplot=False):\n",
    "    #Remove current axis titles\n",
    "    for axis in fig.layout:\n",
    "        if type(fig.layout[axis]) == objs.layout.XAxis:\n",
    "            fig.layout[axis].title.text = ''\n",
    "\n",
    "    for axis in fig.layout:\n",
    "        if type(fig.layout[axis]) == objs.layout.YAxis:\n",
    "            fig.layout[axis].title.text = '' \n",
    "\n",
    "    fig.add_annotation(\n",
    "    dict(\n",
    "        x=0.48 if not barplot else 0.5,\n",
    "        y=-0.03 if not barplot else -0.10,  # adjust as needed\n",
    "        showarrow=False,\n",
    "        text=x_title,\n",
    "        xref=\"paper\",\n",
    "        yref=\"paper\",\n",
    "        font=dict(size=24),\n",
    "        xanchor=\"center\", \n",
    "        yanchor=\"top\",\n",
    "        textangle=0,  # to rotate the text for the vertical y-axis\n",
    "\n",
    "    )\n",
    "    )\n",
    "\n",
    "    if secondary != None:\n",
    "        fig.add_annotation(\n",
    "        dict(\n",
    "            x=1.02,  # adjust as needed\n",
    "            y=0.5,\n",
    "            showarrow=False,\n",
    "            text=secondary,\n",
    "            textangle=-90,  # to rotate the text for the vertical y-axis\n",
    "            xref=\"paper\",\n",
    "            yref=\"paper\",\n",
    "            font=dict(size=24),\n",
    "            xanchor=\"center\",\n",
    "            yanchor=\"middle\"\n",
    "        )\n",
    "    )\n",
    "\n",
    "    fig.add_annotation(\n",
    "    dict(\n",
    "        x=-0.07 if not barplot else -0.08,  # adjust as needed\n",
    "        y=0.5,\n",
    "        showarrow=False,\n",
    "        text=y_title,\n",
    "        textangle=-90,\n",
    "        xref=\"paper\",\n",
    "        yref=\"paper\",\n",
    "        font=dict(size=24),\n",
    "        xanchor=\"center\",\n",
    "        yanchor=\"middle\"\n",
    "    )\n",
    ")"
   ]
  },
  {
   "cell_type": "code",
   "execution_count": 130,
   "metadata": {},
   "outputs": [],
   "source": [
    "def plot_max_delta_size_speed(df, is_predicate=False, no_mixed=False, relative=False):\n",
    "    if no_mixed:\n",
    "        df = df[df['sizes'].isin([\"Small/Small\", \"Medium/Medium\", \"Large/Large\"])]\n",
    "\n",
    "\n",
    "\n",
    "    specs_element = [{\"secondary_y\": True}] if no_mixed else [{\"secondary_y\": True}, {\"secondary_y\": True}]\n",
    "\n",
    "    df = df[df['predicate'] == is_predicate]\n",
    "    df = df.groupby(['delta_size', 'sizes', 'baseline']).mean()\n",
    "    df.reset_index(inplace=True)\n",
    "    \n",
    "    sizes = dict(zip(list(df.sizes.unique()), range(len(df.sizes.unique()))))\n",
    "\n",
    "    fig = make_subplots(rows=3, cols=1 if no_mixed else 2, \n",
    "                        subplot_titles=(list(map(lambda x: \"Geometry Sizes=\" + x.split('/')[0], sizes.keys()))), \n",
    "                        horizontal_spacing=0.08, \n",
    "                        vertical_spacing=0.07, \n",
    "                        #x_title=\"Max Chunk Size\",  y_title=\"Mean Execution Time (s)\", \n",
    "                        specs=[specs_element,\n",
    "                              specs_element,\n",
    "                              specs_element])\n",
    "    \n",
    "    #For not showing the same legend twice\n",
    "    legend_showed = False\n",
    "\n",
    "    for size in sizes.keys():\n",
    "        curr_context_df = df[(df['sizes'] == size)]\n",
    "\n",
    "        for is_baseline in [False] if relative else [True, False]:\n",
    "\n",
    "            line = dict(color='blue' if is_baseline else 'red', dash='dash' if is_baseline else None)\n",
    "\n",
    "            curr_df = curr_context_df[curr_context_df['baseline'] == is_baseline]\n",
    "            baseline_formatting = \"FPDE\" if not is_baseline else \"Baseline\"\n",
    "\n",
    "            if relative:\n",
    "                baseline_time_value = curr_context_df[(curr_context_df['baseline'] == True) & (curr_context_df['delta_size'] == 10000000)]\n",
    "                curr_df['total_time'] = curr_df['total_time'].divide(baseline_time_value.total_time.values[0], axis=0)\n",
    "                baseline_size_value = curr_context_df[(curr_context_df['baseline'] == True) & (curr_context_df['delta_size'] == 10000000)]\n",
    "                curr_df['sum_size'] = curr_df['sum_size'].divide(baseline_size_value.sum_size.values[0], axis=0)\n",
    "                \n",
    "\n",
    "            curr_df[\"total_time\"] = curr_df.sort_values(by='delta_size')['total_time'].rolling(window=3, min_periods=1).mean()\n",
    "\n",
    "            fig.add_trace(go.Scatter(x=curr_df.delta_size.values, y= curr_df.total_time.values,\n",
    "                                    mode='lines',\n",
    "                                    line=line,\n",
    "                                    showlegend=not legend_showed,\n",
    "                                    name=f\"{baseline_formatting}\"),col=sizes[size] // 3 + 1 if no_mixed else 1, row=sizes[size] % 3 + 1,\n",
    "                                    secondary_y=False)\n",
    "            \n",
    "            if not is_baseline:\n",
    "                fig.add_trace(go.Scatter(x=curr_df.delta_size.values, y=curr_df.sum_size.values,\n",
    "                                        mode='lines',\n",
    "                                        line=dict(color='green', dash='dash'),\n",
    "                                        showlegend=not legend_showed,\n",
    "                                        name=f\"Average size (bits)\"),col=sizes[size] // 3 + 1 if no_mixed else 1, row=sizes[size] % 3 + 1,\n",
    "                                        secondary_y=True)\n",
    "                legend_showed = True\n",
    "\n",
    "                mix_delta_size = curr_df.sort_values(by='total_time').delta_size.values[0]\n",
    "\n",
    "                fig.add_vrect(x0=mix_delta_size - 1, x1=mix_delta_size + 1, col=sizes[size] // 3 + 1 if no_mixed else 1, row=sizes[size] % 3 + 1,\n",
    "                annotation_text=f\"Min={mix_delta_size}\", annotation_position=\"inside\",\n",
    "                fillcolor=\"green\", opacity=0.25, line_width=0, annotation = dict(textangle=-90, font=dict(size=16)))\n",
    "    \n",
    "    #For changing facet size\n",
    "    # for annotation in fig['layout']['annotations']:\n",
    "    #     annotation['font']['size'] = 18  # Set your desired font size here\n",
    "\n",
    "    intersection_format = \"Intersection\" if not is_predicate else \"IsIntersection\"\n",
    "    baseline_format = \"\" if not is_baseline else \"(Baseline)\"\n",
    "    fig.update_layout(\n",
    "                      title_x=0.5,\n",
    "                      width=1000, \n",
    "                      height=1000, \n",
    "                      legend=dict(\n",
    "                            yanchor=\"top\",\n",
    "                            y=-0.037,\n",
    "                            xanchor=\"left\",\n",
    "                            x=0.7,\n",
    "                            orientation=\"h\",\n",
    "                            font=dict(size=15),\n",
    "                        ),\n",
    "                        title=dict(\n",
    "                            text=f'Relative Execution Time for {intersection_format} by Max Chunk Size {baseline_format}',\n",
    "                            x=0.5,\n",
    "                            font=dict(size=22)\n",
    "                            )\n",
    "                        )\n",
    "\n",
    "    fig.update_annotations(font=dict(size=16)) \n",
    "    fig.update_annotations(font=dict(size=16))\n",
    "    fig.update_yaxes(type=\"log\", tickfont=dict(size=16))\n",
    "\n",
    "    fig.update_xaxes(tickfont=dict(size=16))\n",
    "\n",
    "    make_general_facet_title(fig, \"Max Chunk Size\", \"Relative Mean Execution Time (%)\", secondary=\"Mean Size (bits)\")\n",
    "   \n",
    "\n",
    "    display(max_deltas_filt_df)\n",
    "    fig.show()\n",
    "\n"
   ]
  },
  {
   "attachments": {},
   "cell_type": "markdown",
   "metadata": {},
   "source": []
  },
  {
   "cell_type": "code",
   "execution_count": 131,
   "metadata": {},
   "outputs": [
    {
     "data": {
      "text/html": [
       "<div>\n",
       "<style scoped>\n",
       "    .dataframe tbody tr th:only-of-type {\n",
       "        vertical-align: middle;\n",
       "    }\n",
       "\n",
       "    .dataframe tbody tr th {\n",
       "        vertical-align: top;\n",
       "    }\n",
       "\n",
       "    .dataframe thead th {\n",
       "        text-align: right;\n",
       "    }\n",
       "</style>\n",
       "<table border=\"1\" class=\"dataframe\">\n",
       "  <thead>\n",
       "    <tr style=\"text-align: right;\">\n",
       "      <th></th>\n",
       "      <th>total_time</th>\n",
       "      <th>sum_size</th>\n",
       "      <th>sizes</th>\n",
       "      <th>delta_size</th>\n",
       "      <th>predicate</th>\n",
       "      <th>baseline</th>\n",
       "    </tr>\n",
       "  </thead>\n",
       "  <tbody>\n",
       "    <tr>\n",
       "      <th>0</th>\n",
       "      <td>0.002065</td>\n",
       "      <td>4845</td>\n",
       "      <td>Medium/Medium</td>\n",
       "      <td>0</td>\n",
       "      <td>False</td>\n",
       "      <td>False</td>\n",
       "    </tr>\n",
       "    <tr>\n",
       "      <th>1</th>\n",
       "      <td>0.001002</td>\n",
       "      <td>3023</td>\n",
       "      <td>Medium/Medium</td>\n",
       "      <td>1</td>\n",
       "      <td>False</td>\n",
       "      <td>False</td>\n",
       "    </tr>\n",
       "    <tr>\n",
       "      <th>2</th>\n",
       "      <td>0.001081</td>\n",
       "      <td>2374</td>\n",
       "      <td>Medium/Medium</td>\n",
       "      <td>2</td>\n",
       "      <td>False</td>\n",
       "      <td>False</td>\n",
       "    </tr>\n",
       "    <tr>\n",
       "      <th>3</th>\n",
       "      <td>0.001098</td>\n",
       "      <td>2109</td>\n",
       "      <td>Medium/Medium</td>\n",
       "      <td>3</td>\n",
       "      <td>False</td>\n",
       "      <td>False</td>\n",
       "    </tr>\n",
       "    <tr>\n",
       "      <th>4</th>\n",
       "      <td>0.000834</td>\n",
       "      <td>1878</td>\n",
       "      <td>Medium/Medium</td>\n",
       "      <td>4</td>\n",
       "      <td>False</td>\n",
       "      <td>False</td>\n",
       "    </tr>\n",
       "    <tr>\n",
       "      <th>...</th>\n",
       "      <td>...</td>\n",
       "      <td>...</td>\n",
       "      <td>...</td>\n",
       "      <td>...</td>\n",
       "      <td>...</td>\n",
       "      <td>...</td>\n",
       "    </tr>\n",
       "    <tr>\n",
       "      <th>384401</th>\n",
       "      <td>0.000107</td>\n",
       "      <td>560</td>\n",
       "      <td>Small/Small</td>\n",
       "      <td>96</td>\n",
       "      <td>False</td>\n",
       "      <td>False</td>\n",
       "    </tr>\n",
       "    <tr>\n",
       "      <th>384402</th>\n",
       "      <td>0.000102</td>\n",
       "      <td>560</td>\n",
       "      <td>Small/Small</td>\n",
       "      <td>97</td>\n",
       "      <td>False</td>\n",
       "      <td>False</td>\n",
       "    </tr>\n",
       "    <tr>\n",
       "      <th>384403</th>\n",
       "      <td>0.000101</td>\n",
       "      <td>560</td>\n",
       "      <td>Small/Small</td>\n",
       "      <td>98</td>\n",
       "      <td>False</td>\n",
       "      <td>False</td>\n",
       "    </tr>\n",
       "    <tr>\n",
       "      <th>384404</th>\n",
       "      <td>0.000100</td>\n",
       "      <td>560</td>\n",
       "      <td>Small/Small</td>\n",
       "      <td>99</td>\n",
       "      <td>False</td>\n",
       "      <td>False</td>\n",
       "    </tr>\n",
       "    <tr>\n",
       "      <th>384405</th>\n",
       "      <td>0.000432</td>\n",
       "      <td>368</td>\n",
       "      <td>Small/Small</td>\n",
       "      <td>10000000</td>\n",
       "      <td>False</td>\n",
       "      <td>True</td>\n",
       "    </tr>\n",
       "  </tbody>\n",
       "</table>\n",
       "<p>1269469 rows × 6 columns</p>\n",
       "</div>"
      ],
      "text/plain": [
       "        total_time  sum_size          sizes  delta_size  predicate  baseline\n",
       "0         0.002065      4845  Medium/Medium           0      False     False\n",
       "1         0.001002      3023  Medium/Medium           1      False     False\n",
       "2         0.001081      2374  Medium/Medium           2      False     False\n",
       "3         0.001098      2109  Medium/Medium           3      False     False\n",
       "4         0.000834      1878  Medium/Medium           4      False     False\n",
       "...            ...       ...            ...         ...        ...       ...\n",
       "384401    0.000107       560    Small/Small          96      False     False\n",
       "384402    0.000102       560    Small/Small          97      False     False\n",
       "384403    0.000101       560    Small/Small          98      False     False\n",
       "384404    0.000100       560    Small/Small          99      False     False\n",
       "384405    0.000432       368    Small/Small    10000000      False      True\n",
       "\n",
       "[1269469 rows x 6 columns]"
      ]
     },
     "metadata": {},
     "output_type": "display_data"
    },
    {
     "data": {
      "application/vnd.plotly.v1+json": {
       "config": {
        "plotlyServerURL": "https://plot.ly"
       },
       "data": [
        {
         "line": {
          "color": "red"
         },
         "mode": "lines",
         "name": "FPDE",
         "showlegend": true,
         "type": "scatter",
         "x": [
          0,
          1,
          2,
          3,
          4,
          5,
          6,
          7,
          8,
          9,
          10,
          11,
          12,
          13,
          14,
          15,
          16,
          17,
          18,
          19,
          20,
          21,
          22,
          23,
          24,
          25,
          26,
          27,
          28,
          29,
          30,
          31,
          32,
          33,
          34,
          35,
          36,
          37,
          38,
          39,
          40,
          41,
          42,
          43,
          44,
          45,
          46,
          47,
          48,
          49,
          50,
          51,
          52,
          53,
          54,
          55,
          56,
          57,
          58,
          59,
          60,
          61,
          62,
          63,
          64,
          65,
          66,
          67,
          68,
          69,
          70,
          71,
          72,
          73,
          74,
          75,
          76,
          77,
          78,
          79,
          80,
          81,
          82,
          83,
          84,
          85,
          86,
          87,
          88,
          89,
          90,
          91,
          92,
          93,
          94,
          95,
          96,
          97,
          98,
          99
         ],
         "xaxis": "x",
         "y": [
          1.8374377712795111,
          1.3416327137748638,
          1.0965388304489592,
          0.6526533897317741,
          0.521734056949747,
          0.4597435172659101,
          0.427642775731432,
          0.40547439301974525,
          0.39151695055056884,
          0.3783824255920824,
          0.3698867281852998,
          0.3612609058330296,
          0.3540123419162348,
          0.3490106409567059,
          0.3456856300933242,
          0.34529662636514163,
          0.345353059456202,
          0.3467408220123109,
          0.3450077772936866,
          0.34440967804710443,
          0.3448459474187569,
          0.3462151104731365,
          0.34544205949727025,
          0.3438867781928238,
          0.3441285356073381,
          0.34635968609291884,
          0.3464012126481064,
          0.3453562097571546,
          0.34766578082206706,
          0.3514267262733473,
          0.35315484779551537,
          0.35176117074395935,
          0.350635325689441,
          0.3536087494056513,
          0.3543768731977989,
          0.35571197798683407,
          0.3568984683507274,
          0.35839904307184384,
          0.36003109610757394,
          0.3600674102093859,
          0.3642118582873975,
          0.3658240517713262,
          0.3672745197938673,
          0.3661792981568328,
          0.3677603807902834,
          0.3720721933085384,
          0.3732866140850534,
          0.37435634093122366,
          0.37668318205809576,
          0.37774373297796116,
          0.3789830816908905,
          0.3764416890859216,
          0.3784640598175691,
          0.37984720924642484,
          0.38264253102895746,
          0.38419248582790383,
          0.3859420381064285,
          0.38807831725276354,
          0.3925005635363404,
          0.39424858090734904,
          0.3940260438291223,
          0.3987275020282693,
          0.40346496704810203,
          0.4047013308169832,
          0.3995805331812497,
          0.39937896166393044,
          0.4014118905940353,
          0.4056719962922566,
          0.40471355978649326,
          0.4072578962376823,
          0.40832077472137285,
          0.4100550542909874,
          0.41205886818334064,
          0.41086501576678675,
          0.4125347780535578,
          0.4119740540079977,
          0.41443485694961185,
          0.41695288290544724,
          0.4184855008130027,
          0.4226052315642727,
          0.4233084126009976,
          0.42494932179974,
          0.42338838175763316,
          0.4249709745759542,
          0.42652601367097986,
          0.43170943350550833,
          0.43319442383822643,
          0.43370830194593607,
          0.4310144857243931,
          0.43158802633623466,
          0.43329924105651246,
          0.4362368033356249,
          0.4369257060563749,
          0.4397653039202516,
          0.43890771523677147,
          0.4439179746196314,
          0.4426350242017496,
          0.44447998955814877,
          0.4418390798635201,
          0.44304293153442614
         ],
         "yaxis": "y"
        },
        {
         "line": {
          "color": "green",
          "dash": "dash"
         },
         "mode": "lines",
         "name": "Average size (bits)",
         "showlegend": true,
         "type": "scatter",
         "x": [
          0,
          1,
          2,
          3,
          4,
          5,
          6,
          7,
          8,
          9,
          10,
          11,
          12,
          13,
          14,
          15,
          16,
          17,
          18,
          19,
          20,
          21,
          22,
          23,
          24,
          25,
          26,
          27,
          28,
          29,
          30,
          31,
          32,
          33,
          34,
          35,
          36,
          37,
          38,
          39,
          40,
          41,
          42,
          43,
          44,
          45,
          46,
          47,
          48,
          49,
          50,
          51,
          52,
          53,
          54,
          55,
          56,
          57,
          58,
          59,
          60,
          61,
          62,
          63,
          64,
          65,
          66,
          67,
          68,
          69,
          70,
          71,
          72,
          73,
          74,
          75,
          76,
          77,
          78,
          79,
          80,
          81,
          82,
          83,
          84,
          85,
          86,
          87,
          88,
          89,
          90,
          91,
          92,
          93,
          94,
          95,
          96,
          97,
          98,
          99
         ],
         "xaxis": "x",
         "y": [
          4.255377119820385,
          2.662362240129825,
          2.1282707553200617,
          1.8640114180962248,
          1.7038623871322827,
          1.5973814995751892,
          1.5213073816961054,
          1.4655464654673596,
          1.4211310824427514,
          1.3856121627770024,
          1.357005963351996,
          1.3330216259034824,
          1.3128803386162373,
          1.2954706206920799,
          1.280665172051144,
          1.267999184449915,
          1.2561965955672514,
          1.2459580249466677,
          1.2369590252744482,
          1.2289268988426556,
          1.2215487531159632,
          1.2148616473301894,
          1.2088092395958356,
          1.203343656589616,
          1.1983529058440612,
          1.1937526226631079,
          1.1894690095411853,
          1.1853064006262888,
          1.181756466552719,
          1.1783845451975032,
          1.1752143880495545,
          1.1721243736594111,
          1.169310760431817,
          1.1666974794090392,
          1.1640819022444022,
          1.1617702058755357,
          1.1595671441752904,
          1.1575995974986768,
          1.1556682212287746,
          1.1540561568155268,
          1.1522043801300872,
          1.1505292088502492,
          1.1489161321594072,
          1.1474726983794967,
          1.1461170364738924,
          1.1448187534250782,
          1.1436403388572087,
          1.1423949164505578,
          1.1411581107483042,
          1.140013891411353,
          1.13899494759908,
          1.1379614615550302,
          1.1370238949854337,
          1.1360819336496972,
          1.1351011847993235,
          1.1342525011404172,
          1.1334139896368451,
          1.132653843232865,
          1.1318661678162683,
          1.1312391729504416,
          1.1304529295362948,
          1.1298134910629714,
          1.1291995570470768,
          1.12679754576507,
          1.1261806489854855,
          1.1256053049666488,
          1.1250248254907498,
          1.1245392285220124,
          1.1239348247293195,
          1.1234092057610743,
          1.1228933886027024,
          1.122399792172003,
          1.121932984062998,
          1.121523801707757,
          1.1211324206243511,
          1.120721090265435,
          1.1203365729179104,
          1.1199603759984145,
          1.1196200532092606,
          1.119256522104538,
          1.1188333160011659,
          1.1184607237774922,
          1.1180369498110794,
          1.1176950468812912,
          1.1173833641411377,
          1.1170448436998954,
          1.1167043974622546,
          1.1163978995585582,
          1.1161347073841257,
          1.1158425541946266,
          1.1155157860493532,
          1.1152434093074826,
          1.114978538233626,
          1.1147689967716738,
          1.11454639445979,
          1.1142728079227462,
          1.114010060162867,
          1.1137721008591916,
          1.113580360669075,
          1.113353462349841
         ],
         "yaxis": "y2"
        },
        {
         "line": {
          "color": "red"
         },
         "mode": "lines",
         "name": "FPDE",
         "showlegend": false,
         "type": "scatter",
         "x": [
          0,
          1,
          2,
          3,
          4,
          5,
          6,
          7,
          8,
          9,
          10,
          11,
          12,
          13,
          14,
          15,
          16,
          17,
          18,
          19,
          20,
          21,
          22,
          23,
          24,
          25,
          26,
          27,
          28,
          29,
          30,
          31,
          32,
          33,
          34,
          35,
          36,
          37,
          38,
          39,
          40,
          41,
          42,
          43,
          44,
          45,
          46,
          47,
          48,
          49,
          50,
          51,
          52,
          53,
          54,
          55,
          56,
          57,
          58,
          59,
          60,
          61,
          62,
          63,
          64,
          65,
          66,
          67,
          68,
          69,
          70,
          71,
          72,
          73,
          74,
          75,
          76,
          77,
          78,
          79,
          80,
          81,
          82,
          83,
          84,
          85,
          86,
          87,
          88,
          89,
          90,
          91,
          92,
          93,
          94,
          95,
          96,
          97,
          98,
          99
         ],
         "xaxis": "x2",
         "y": [
          1.797173408813561,
          1.427516804787098,
          1.2526768131604304,
          0.930174875148564,
          0.8412548205794232,
          0.7984327312354437,
          0.7763931191506659,
          0.7641737417781967,
          0.7564556317865275,
          0.7523914058262776,
          0.7493892778341156,
          0.7492102812641273,
          0.7485825565136951,
          0.7520142087413101,
          0.755609954426368,
          0.7621471354692685,
          0.7667484002193592,
          0.7719530348160543,
          0.7756829748965922,
          0.7773684346690787,
          0.7785069469733706,
          0.7791010066386065,
          0.7825930455217428,
          0.7853507499894005,
          0.7885820243112276,
          0.7906667264902133,
          0.7927743879383039,
          0.7947275577880525,
          0.7992451676597766,
          0.8032723320180829,
          0.8070745269454821,
          0.8098671196264382,
          0.8132492743404288,
          0.8163344902376867,
          0.8195203978397138,
          0.8215462686175528,
          0.8237356615839069,
          0.8249934844882455,
          0.8267800061923761,
          0.8287747365035999,
          0.8303320342894409,
          0.8314704955928195,
          0.8324632226869557,
          0.8347280082903396,
          0.8374295525880489,
          0.8399075003439401,
          0.8429076662617309,
          0.8437074922399975,
          0.8461955073333741,
          0.845988902486886,
          0.8475398809620766,
          0.8468749658067148,
          0.846656677282,
          0.8465453680622232,
          0.847537097923749,
          0.849741640295838,
          0.8521665839218175,
          0.8539437671492781,
          0.8553397876672654,
          0.8553477933832133,
          0.8561680422856625,
          0.8560154308107087,
          0.8573632561193228,
          0.8590977230069061,
          0.8629900778771068,
          0.8647188742048667,
          0.8663302964864839,
          0.8662263246745853,
          0.8676822121270421,
          0.8674759072027444,
          0.8681488214704833,
          0.869132235221541,
          0.870289960875909,
          0.869952813622174,
          0.8702525081157707,
          0.8699634603396399,
          0.8708736835645118,
          0.8703747940181158,
          0.8705183089338892,
          0.8695675858610942,
          0.8699170349139863,
          0.8705724513993829,
          0.870884005586391,
          0.8719795021355562,
          0.8723585774228729,
          0.8729833418124194,
          0.8727357590461461,
          0.8730845070132428,
          0.8735948698174091,
          0.8730797332183665,
          0.8723923408812668,
          0.8725980648914217,
          0.8723246798386146,
          0.872144208711224,
          0.8721427750159189,
          0.8731123280047729,
          0.8740719110421381,
          0.8737497418081244,
          0.8730494403968022,
          0.8719592091883287
         ],
         "yaxis": "y3"
        },
        {
         "line": {
          "color": "green",
          "dash": "dash"
         },
         "mode": "lines",
         "name": "Average size (bits)",
         "showlegend": false,
         "type": "scatter",
         "x": [
          0,
          1,
          2,
          3,
          4,
          5,
          6,
          7,
          8,
          9,
          10,
          11,
          12,
          13,
          14,
          15,
          16,
          17,
          18,
          19,
          20,
          21,
          22,
          23,
          24,
          25,
          26,
          27,
          28,
          29,
          30,
          31,
          32,
          33,
          34,
          35,
          36,
          37,
          38,
          39,
          40,
          41,
          42,
          43,
          44,
          45,
          46,
          47,
          48,
          49,
          50,
          51,
          52,
          53,
          54,
          55,
          56,
          57,
          58,
          59,
          60,
          61,
          62,
          63,
          64,
          65,
          66,
          67,
          68,
          69,
          70,
          71,
          72,
          73,
          74,
          75,
          76,
          77,
          78,
          79,
          80,
          81,
          82,
          83,
          84,
          85,
          86,
          87,
          88,
          89,
          90,
          91,
          92,
          93,
          94,
          95,
          96,
          97,
          98,
          99
         ],
         "xaxis": "x2",
         "y": [
          4.3713980571740105,
          2.7437421839141365,
          2.1965283970887617,
          1.9267728111608122,
          1.7628691315119687,
          1.6529507858697299,
          1.5769913583375732,
          1.5168112476308364,
          1.4719616771604638,
          1.4345740548401162,
          1.4052995216667168,
          1.3807195874064226,
          1.3605999689750468,
          1.3443003777256155,
          1.3263391001869798,
          1.3127289766042487,
          1.3007384066579806,
          1.2902173725694728,
          1.2807356105819352,
          1.2729321325952887,
          1.265624032465124,
          1.2593641416652996,
          1.252922952783979,
          1.2475044382919422,
          1.2428366510669457,
          1.2385557181989442,
          1.235636436062742,
          1.2311952714396155,
          1.226620048375946,
          1.2220614230239626,
          1.2183799228972456,
          1.21381108356884,
          1.2102515127856643,
          1.2079814565258054,
          1.2049089647432687,
          1.2020854386360256,
          1.199951355937289,
          1.1974342491227155,
          1.195381878235357,
          1.1935944323614522,
          1.1917399572672762,
          1.1898542018703069,
          1.188550004755883,
          1.186619563212066,
          1.1847836009501553,
          1.1831097855639487,
          1.181757072061519,
          1.1807567407456585,
          1.1793452968788005,
          1.178659683711453,
          1.1774550728671465,
          1.1767962713879072,
          1.1763353657018503,
          1.1756293245816578,
          1.17492072996736,
          1.1738099600314336,
          1.1729539011325385,
          1.172297653147405,
          1.1716152318476893,
          1.1708913162687578,
          1.1703640197359562,
          1.169415396675734,
          1.168787875499288,
          1.1673017419298415,
          1.1666416637035497,
          1.1661296881353813,
          1.165689210402169,
          1.1650827555520942,
          1.164614827757247,
          1.1640766788744965,
          1.1637594072318784,
          1.1631574209964883,
          1.1628612156802414,
          1.1625656487375207,
          1.162155174560049,
          1.1619119542464926,
          1.1617881097823723,
          1.161376997231374,
          1.1611376071589763,
          1.1608662984102585,
          1.160697129425764,
          1.1605037022472664,
          1.1602585668131309,
          1.1598927787825069,
          1.1597931925123894,
          1.159549972198833,
          1.1594248509876597,
          1.159255043629639,
          1.159083959524565,
          1.158983734880921,
          1.1587852007142123,
          1.1586626329971448,
          1.1585381501594976,
          1.1584909105185446,
          1.1582687565313592,
          1.1582432215903034,
          1.1581934284552446,
          1.1579993629032206,
          1.1579993629032206,
          1.1579993629032206
         ],
         "yaxis": "y4"
        },
        {
         "line": {
          "color": "red"
         },
         "mode": "lines",
         "name": "FPDE",
         "showlegend": false,
         "type": "scatter",
         "x": [
          0,
          1,
          2,
          3,
          4,
          5,
          6,
          7,
          8,
          9,
          10,
          11,
          12,
          13,
          14,
          15,
          16,
          17,
          18,
          19,
          20,
          21,
          22,
          23,
          24,
          25,
          26,
          27,
          28,
          29,
          30,
          31,
          32,
          33,
          34,
          35,
          36,
          37,
          38,
          39,
          40,
          41,
          42,
          43,
          44,
          45,
          46,
          47,
          48,
          49,
          50,
          51,
          52,
          53,
          54,
          55,
          56,
          57,
          58,
          59,
          60,
          61,
          62,
          63,
          64,
          65,
          66,
          67,
          68,
          69,
          70,
          71,
          72,
          73,
          74,
          75,
          76,
          77,
          78,
          79,
          80,
          81,
          82,
          83,
          84,
          85,
          86,
          87,
          88,
          89,
          90,
          91,
          92,
          93,
          94,
          95,
          96,
          97,
          98,
          99
         ],
         "xaxis": "x3",
         "y": [
          1.4184386839186205,
          1.2059326634385572,
          1.12089916947654,
          0.9567592094094027,
          0.9361973794865798,
          0.9291170942711902,
          0.9291758456508413,
          0.9288095844226212,
          0.9306086936806005,
          0.9337317524478689,
          0.93601904492859,
          0.938120092250875,
          0.9404756116804761,
          0.9421095126956066,
          0.9437634347898088,
          0.9448144350640592,
          0.9465207338697205,
          0.9478083495978368,
          0.9488183835242544,
          0.9494563833022681,
          0.9493076952116871,
          0.9500741750362708,
          0.9510568035307921,
          0.9517470846570507,
          0.9515470232795155,
          0.9513549382157255,
          0.9506751124949657,
          0.9500871783227639,
          0.9490758755207801,
          0.9495248306635679,
          0.9494722409995235,
          0.9503707168524578,
          0.9489002556752847,
          0.9485791696393129,
          0.9474596287513116,
          0.9477953348825502,
          0.9479029374393214,
          0.9484306529806156,
          0.9481773803101587,
          0.9484343027703702,
          0.948041433085848,
          0.9483395603831101,
          0.9476653867548513,
          0.9472738803078496,
          0.9477122217468955,
          0.9484550725751492,
          0.9484015134031428,
          0.9477006470053064,
          0.9475371200397219,
          0.9474591713470536,
          0.9473832843020599,
          0.9469589565467463,
          0.9470247428035328,
          0.9473958082377661,
          0.9476643714595582,
          0.947685406498911,
          0.9473127345391105,
          0.9469767881326252,
          0.9468589878639116,
          0.9472080153574695,
          0.9469753548971352,
          0.9470169487641389,
          0.946545916920201,
          0.9466744875401748,
          0.9465569482303867,
          0.9471433648808828,
          0.9469606195848493,
          0.9471090810840644,
          0.9465204462285786,
          0.9465767139972777,
          0.9462983477041584,
          0.9465505011828511,
          0.9464310995031129,
          0.9460986670758875,
          0.9457339191568653,
          0.9457759894159791,
          0.946169946757098,
          0.9462553136830513,
          0.9465155930420281,
          0.946714126344041,
          0.9466503601871658,
          0.9471071665944922,
          0.946992241050386,
          0.9469858326911608,
          0.9466288278555366,
          0.9466970335434345,
          0.9464627099908746,
          0.9460863557950959,
          0.9457558255266155,
          0.9461354819938782,
          0.9462085872961037,
          0.9465696049006449,
          0.9467238980696268,
          0.9471639125864328,
          0.9469753685990566,
          0.9465362425242648,
          0.9458868599307962,
          0.9456477165219058,
          0.9458987486890503,
          0.9459906933404504
         ],
         "yaxis": "y5"
        },
        {
         "line": {
          "color": "green",
          "dash": "dash"
         },
         "mode": "lines",
         "name": "Average size (bits)",
         "showlegend": false,
         "type": "scatter",
         "x": [
          0,
          1,
          2,
          3,
          4,
          5,
          6,
          7,
          8,
          9,
          10,
          11,
          12,
          13,
          14,
          15,
          16,
          17,
          18,
          19,
          20,
          21,
          22,
          23,
          24,
          25,
          26,
          27,
          28,
          29,
          30,
          31,
          32,
          33,
          34,
          35,
          36,
          37,
          38,
          39,
          40,
          41,
          42,
          43,
          44,
          45,
          46,
          47,
          48,
          49,
          50,
          51,
          52,
          53,
          54,
          55,
          56,
          57,
          58,
          59,
          60,
          61,
          62,
          63,
          64,
          65,
          66,
          67,
          68,
          69,
          70,
          71,
          72,
          73,
          74,
          75,
          76,
          77,
          78,
          79,
          80,
          81,
          82,
          83,
          84,
          85,
          86,
          87,
          88,
          89,
          90,
          91,
          92,
          93,
          94,
          95,
          96,
          97,
          98,
          99
         ],
         "xaxis": "x3",
         "y": [
          4.686669302594361,
          3.0273160013083595,
          2.5171039158466746,
          2.2025123485742246,
          2.052079314744174,
          1.9410085785039564,
          1.8656402556316276,
          1.810157712783129,
          1.770236747926875,
          1.7387432814525137,
          1.7128786411419223,
          1.688907173191655,
          1.668870921182027,
          1.6521386497967294,
          1.6424924350475936,
          1.6331466306814513,
          1.62491816084815,
          1.615878636339625,
          1.6094616998105227,
          1.6032091085708737,
          1.5962089596996536,
          1.5911291962074656,
          1.5859058973813072,
          1.5819952265163655,
          1.5773460690260888,
          1.5740623647686387,
          1.5716991008498467,
          1.5690311578392437,
          1.5683444293083146,
          1.5683444293083146,
          1.5683444293083146,
          1.5694297485250277,
          1.5694297485250277,
          1.5694297485250277,
          1.5694297485250277,
          1.5694297485250277,
          1.5694297485250277,
          1.5694297485250277,
          1.5694297485250277,
          1.5694297485250277,
          1.5694297485250277,
          1.5694297485250277,
          1.5694297485250277,
          1.5694297485250277,
          1.5694297485250277,
          1.5694297485250277,
          1.5694297485250277,
          1.5694297485250277,
          1.5694297485250277,
          1.5694297485250277,
          1.5694297485250277,
          1.5694297485250277,
          1.5694297485250277,
          1.5694297485250277,
          1.5694297485250277,
          1.5694297485250277,
          1.5694297485250277,
          1.5694297485250277,
          1.5694297485250277,
          1.5694297485250277,
          1.5694297485250277,
          1.5694297485250277,
          1.5694297485250277,
          1.569709882541141,
          1.569709882541141,
          1.569709882541141,
          1.569709882541141,
          1.569709882541141,
          1.569709882541141,
          1.569709882541141,
          1.569709882541141,
          1.569709882541141,
          1.569709882541141,
          1.569709882541141,
          1.569709882541141,
          1.569709882541141,
          1.569709882541141,
          1.569709882541141,
          1.569709882541141,
          1.569709882541141,
          1.569709882541141,
          1.569709882541141,
          1.569709882541141,
          1.569709882541141,
          1.569709882541141,
          1.569709882541141,
          1.569709882541141,
          1.569709882541141,
          1.569709882541141,
          1.569709882541141,
          1.569709882541141,
          1.569709882541141,
          1.569709882541141,
          1.569709882541141,
          1.569709882541141,
          1.569709882541141,
          1.569709882541141,
          1.569709882541141,
          1.569709882541141,
          1.569709882541141
         ],
         "yaxis": "y6"
        }
       ],
       "layout": {
        "annotations": [
         {
          "font": {
           "size": 16
          },
          "showarrow": false,
          "text": "Geometry Sizes=Large",
          "x": 0.47,
          "xanchor": "center",
          "xref": "paper",
          "y": 1,
          "yanchor": "bottom",
          "yref": "paper"
         },
         {
          "font": {
           "size": 16
          },
          "showarrow": false,
          "text": "Geometry Sizes=Medium",
          "x": 0.47,
          "xanchor": "center",
          "xref": "paper",
          "y": 0.6433333333333333,
          "yanchor": "bottom",
          "yref": "paper"
         },
         {
          "font": {
           "size": 16
          },
          "showarrow": false,
          "text": "Geometry Sizes=Small",
          "x": 0.47,
          "xanchor": "center",
          "xref": "paper",
          "y": 0.2866666666666667,
          "yanchor": "bottom",
          "yref": "paper"
         },
         {
          "font": {
           "size": 16
          },
          "showarrow": false,
          "text": "Min=23",
          "textangle": -90,
          "x": 23,
          "xanchor": "center",
          "xref": "x",
          "y": 0.5,
          "yanchor": "middle",
          "yref": "y domain"
         },
         {
          "font": {
           "size": 16
          },
          "showarrow": false,
          "text": "Min=12",
          "textangle": -90,
          "x": 12,
          "xanchor": "center",
          "xref": "x2",
          "y": 0.5,
          "yanchor": "middle",
          "yref": "y3 domain"
         },
         {
          "font": {
           "size": 16
          },
          "showarrow": false,
          "text": "Min=7",
          "textangle": -90,
          "x": 7,
          "xanchor": "center",
          "xref": "x3",
          "y": 0.5,
          "yanchor": "middle",
          "yref": "y5 domain"
         },
         {
          "font": {
           "size": 24
          },
          "showarrow": false,
          "text": "Max Chunk Size",
          "textangle": 0,
          "x": 0.48,
          "xanchor": "center",
          "xref": "paper",
          "y": -0.03,
          "yanchor": "top",
          "yref": "paper"
         },
         {
          "font": {
           "size": 24
          },
          "showarrow": false,
          "text": "Mean Size (bits)",
          "textangle": -90,
          "x": 1.02,
          "xanchor": "center",
          "xref": "paper",
          "y": 0.5,
          "yanchor": "middle",
          "yref": "paper"
         },
         {
          "font": {
           "size": 24
          },
          "showarrow": false,
          "text": "Relative Mean Execution Time (%)",
          "textangle": -90,
          "x": -0.07,
          "xanchor": "center",
          "xref": "paper",
          "y": 0.5,
          "yanchor": "middle",
          "yref": "paper"
         }
        ],
        "height": 1000,
        "legend": {
         "font": {
          "size": 15
         },
         "orientation": "h",
         "x": 0.7,
         "xanchor": "left",
         "y": -0.037,
         "yanchor": "top"
        },
        "shapes": [
         {
          "fillcolor": "green",
          "line": {
           "width": 0
          },
          "opacity": 0.25,
          "type": "rect",
          "x0": 22,
          "x1": 24,
          "xref": "x",
          "y0": 0,
          "y1": 1,
          "yref": "y domain"
         },
         {
          "fillcolor": "green",
          "line": {
           "width": 0
          },
          "opacity": 0.25,
          "type": "rect",
          "x0": 11,
          "x1": 13,
          "xref": "x2",
          "y0": 0,
          "y1": 1,
          "yref": "y3 domain"
         },
         {
          "fillcolor": "green",
          "line": {
           "width": 0
          },
          "opacity": 0.25,
          "type": "rect",
          "x0": 6,
          "x1": 8,
          "xref": "x3",
          "y0": 0,
          "y1": 1,
          "yref": "y5 domain"
         }
        ],
        "template": {
         "data": {
          "bar": [
           {
            "error_x": {
             "color": "#2a3f5f"
            },
            "error_y": {
             "color": "#2a3f5f"
            },
            "marker": {
             "line": {
              "color": "#E5ECF6",
              "width": 0.5
             },
             "pattern": {
              "fillmode": "overlay",
              "size": 10,
              "solidity": 0.2
             }
            },
            "type": "bar"
           }
          ],
          "barpolar": [
           {
            "marker": {
             "line": {
              "color": "#E5ECF6",
              "width": 0.5
             },
             "pattern": {
              "fillmode": "overlay",
              "size": 10,
              "solidity": 0.2
             }
            },
            "type": "barpolar"
           }
          ],
          "carpet": [
           {
            "aaxis": {
             "endlinecolor": "#2a3f5f",
             "gridcolor": "white",
             "linecolor": "white",
             "minorgridcolor": "white",
             "startlinecolor": "#2a3f5f"
            },
            "baxis": {
             "endlinecolor": "#2a3f5f",
             "gridcolor": "white",
             "linecolor": "white",
             "minorgridcolor": "white",
             "startlinecolor": "#2a3f5f"
            },
            "type": "carpet"
           }
          ],
          "choropleth": [
           {
            "colorbar": {
             "outlinewidth": 0,
             "ticks": ""
            },
            "type": "choropleth"
           }
          ],
          "contour": [
           {
            "colorbar": {
             "outlinewidth": 0,
             "ticks": ""
            },
            "colorscale": [
             [
              0,
              "#0d0887"
             ],
             [
              0.1111111111111111,
              "#46039f"
             ],
             [
              0.2222222222222222,
              "#7201a8"
             ],
             [
              0.3333333333333333,
              "#9c179e"
             ],
             [
              0.4444444444444444,
              "#bd3786"
             ],
             [
              0.5555555555555556,
              "#d8576b"
             ],
             [
              0.6666666666666666,
              "#ed7953"
             ],
             [
              0.7777777777777778,
              "#fb9f3a"
             ],
             [
              0.8888888888888888,
              "#fdca26"
             ],
             [
              1,
              "#f0f921"
             ]
            ],
            "type": "contour"
           }
          ],
          "contourcarpet": [
           {
            "colorbar": {
             "outlinewidth": 0,
             "ticks": ""
            },
            "type": "contourcarpet"
           }
          ],
          "heatmap": [
           {
            "colorbar": {
             "outlinewidth": 0,
             "ticks": ""
            },
            "colorscale": [
             [
              0,
              "#0d0887"
             ],
             [
              0.1111111111111111,
              "#46039f"
             ],
             [
              0.2222222222222222,
              "#7201a8"
             ],
             [
              0.3333333333333333,
              "#9c179e"
             ],
             [
              0.4444444444444444,
              "#bd3786"
             ],
             [
              0.5555555555555556,
              "#d8576b"
             ],
             [
              0.6666666666666666,
              "#ed7953"
             ],
             [
              0.7777777777777778,
              "#fb9f3a"
             ],
             [
              0.8888888888888888,
              "#fdca26"
             ],
             [
              1,
              "#f0f921"
             ]
            ],
            "type": "heatmap"
           }
          ],
          "heatmapgl": [
           {
            "colorbar": {
             "outlinewidth": 0,
             "ticks": ""
            },
            "colorscale": [
             [
              0,
              "#0d0887"
             ],
             [
              0.1111111111111111,
              "#46039f"
             ],
             [
              0.2222222222222222,
              "#7201a8"
             ],
             [
              0.3333333333333333,
              "#9c179e"
             ],
             [
              0.4444444444444444,
              "#bd3786"
             ],
             [
              0.5555555555555556,
              "#d8576b"
             ],
             [
              0.6666666666666666,
              "#ed7953"
             ],
             [
              0.7777777777777778,
              "#fb9f3a"
             ],
             [
              0.8888888888888888,
              "#fdca26"
             ],
             [
              1,
              "#f0f921"
             ]
            ],
            "type": "heatmapgl"
           }
          ],
          "histogram": [
           {
            "marker": {
             "pattern": {
              "fillmode": "overlay",
              "size": 10,
              "solidity": 0.2
             }
            },
            "type": "histogram"
           }
          ],
          "histogram2d": [
           {
            "colorbar": {
             "outlinewidth": 0,
             "ticks": ""
            },
            "colorscale": [
             [
              0,
              "#0d0887"
             ],
             [
              0.1111111111111111,
              "#46039f"
             ],
             [
              0.2222222222222222,
              "#7201a8"
             ],
             [
              0.3333333333333333,
              "#9c179e"
             ],
             [
              0.4444444444444444,
              "#bd3786"
             ],
             [
              0.5555555555555556,
              "#d8576b"
             ],
             [
              0.6666666666666666,
              "#ed7953"
             ],
             [
              0.7777777777777778,
              "#fb9f3a"
             ],
             [
              0.8888888888888888,
              "#fdca26"
             ],
             [
              1,
              "#f0f921"
             ]
            ],
            "type": "histogram2d"
           }
          ],
          "histogram2dcontour": [
           {
            "colorbar": {
             "outlinewidth": 0,
             "ticks": ""
            },
            "colorscale": [
             [
              0,
              "#0d0887"
             ],
             [
              0.1111111111111111,
              "#46039f"
             ],
             [
              0.2222222222222222,
              "#7201a8"
             ],
             [
              0.3333333333333333,
              "#9c179e"
             ],
             [
              0.4444444444444444,
              "#bd3786"
             ],
             [
              0.5555555555555556,
              "#d8576b"
             ],
             [
              0.6666666666666666,
              "#ed7953"
             ],
             [
              0.7777777777777778,
              "#fb9f3a"
             ],
             [
              0.8888888888888888,
              "#fdca26"
             ],
             [
              1,
              "#f0f921"
             ]
            ],
            "type": "histogram2dcontour"
           }
          ],
          "mesh3d": [
           {
            "colorbar": {
             "outlinewidth": 0,
             "ticks": ""
            },
            "type": "mesh3d"
           }
          ],
          "parcoords": [
           {
            "line": {
             "colorbar": {
              "outlinewidth": 0,
              "ticks": ""
             }
            },
            "type": "parcoords"
           }
          ],
          "pie": [
           {
            "automargin": true,
            "type": "pie"
           }
          ],
          "scatter": [
           {
            "fillpattern": {
             "fillmode": "overlay",
             "size": 10,
             "solidity": 0.2
            },
            "type": "scatter"
           }
          ],
          "scatter3d": [
           {
            "line": {
             "colorbar": {
              "outlinewidth": 0,
              "ticks": ""
             }
            },
            "marker": {
             "colorbar": {
              "outlinewidth": 0,
              "ticks": ""
             }
            },
            "type": "scatter3d"
           }
          ],
          "scattercarpet": [
           {
            "marker": {
             "colorbar": {
              "outlinewidth": 0,
              "ticks": ""
             }
            },
            "type": "scattercarpet"
           }
          ],
          "scattergeo": [
           {
            "marker": {
             "colorbar": {
              "outlinewidth": 0,
              "ticks": ""
             }
            },
            "type": "scattergeo"
           }
          ],
          "scattergl": [
           {
            "marker": {
             "colorbar": {
              "outlinewidth": 0,
              "ticks": ""
             }
            },
            "type": "scattergl"
           }
          ],
          "scattermapbox": [
           {
            "marker": {
             "colorbar": {
              "outlinewidth": 0,
              "ticks": ""
             }
            },
            "type": "scattermapbox"
           }
          ],
          "scatterpolar": [
           {
            "marker": {
             "colorbar": {
              "outlinewidth": 0,
              "ticks": ""
             }
            },
            "type": "scatterpolar"
           }
          ],
          "scatterpolargl": [
           {
            "marker": {
             "colorbar": {
              "outlinewidth": 0,
              "ticks": ""
             }
            },
            "type": "scatterpolargl"
           }
          ],
          "scatterternary": [
           {
            "marker": {
             "colorbar": {
              "outlinewidth": 0,
              "ticks": ""
             }
            },
            "type": "scatterternary"
           }
          ],
          "surface": [
           {
            "colorbar": {
             "outlinewidth": 0,
             "ticks": ""
            },
            "colorscale": [
             [
              0,
              "#0d0887"
             ],
             [
              0.1111111111111111,
              "#46039f"
             ],
             [
              0.2222222222222222,
              "#7201a8"
             ],
             [
              0.3333333333333333,
              "#9c179e"
             ],
             [
              0.4444444444444444,
              "#bd3786"
             ],
             [
              0.5555555555555556,
              "#d8576b"
             ],
             [
              0.6666666666666666,
              "#ed7953"
             ],
             [
              0.7777777777777778,
              "#fb9f3a"
             ],
             [
              0.8888888888888888,
              "#fdca26"
             ],
             [
              1,
              "#f0f921"
             ]
            ],
            "type": "surface"
           }
          ],
          "table": [
           {
            "cells": {
             "fill": {
              "color": "#EBF0F8"
             },
             "line": {
              "color": "white"
             }
            },
            "header": {
             "fill": {
              "color": "#C8D4E3"
             },
             "line": {
              "color": "white"
             }
            },
            "type": "table"
           }
          ]
         },
         "layout": {
          "annotationdefaults": {
           "arrowcolor": "#2a3f5f",
           "arrowhead": 0,
           "arrowwidth": 1
          },
          "autotypenumbers": "strict",
          "coloraxis": {
           "colorbar": {
            "outlinewidth": 0,
            "ticks": ""
           }
          },
          "colorscale": {
           "diverging": [
            [
             0,
             "#8e0152"
            ],
            [
             0.1,
             "#c51b7d"
            ],
            [
             0.2,
             "#de77ae"
            ],
            [
             0.3,
             "#f1b6da"
            ],
            [
             0.4,
             "#fde0ef"
            ],
            [
             0.5,
             "#f7f7f7"
            ],
            [
             0.6,
             "#e6f5d0"
            ],
            [
             0.7,
             "#b8e186"
            ],
            [
             0.8,
             "#7fbc41"
            ],
            [
             0.9,
             "#4d9221"
            ],
            [
             1,
             "#276419"
            ]
           ],
           "sequential": [
            [
             0,
             "#0d0887"
            ],
            [
             0.1111111111111111,
             "#46039f"
            ],
            [
             0.2222222222222222,
             "#7201a8"
            ],
            [
             0.3333333333333333,
             "#9c179e"
            ],
            [
             0.4444444444444444,
             "#bd3786"
            ],
            [
             0.5555555555555556,
             "#d8576b"
            ],
            [
             0.6666666666666666,
             "#ed7953"
            ],
            [
             0.7777777777777778,
             "#fb9f3a"
            ],
            [
             0.8888888888888888,
             "#fdca26"
            ],
            [
             1,
             "#f0f921"
            ]
           ],
           "sequentialminus": [
            [
             0,
             "#0d0887"
            ],
            [
             0.1111111111111111,
             "#46039f"
            ],
            [
             0.2222222222222222,
             "#7201a8"
            ],
            [
             0.3333333333333333,
             "#9c179e"
            ],
            [
             0.4444444444444444,
             "#bd3786"
            ],
            [
             0.5555555555555556,
             "#d8576b"
            ],
            [
             0.6666666666666666,
             "#ed7953"
            ],
            [
             0.7777777777777778,
             "#fb9f3a"
            ],
            [
             0.8888888888888888,
             "#fdca26"
            ],
            [
             1,
             "#f0f921"
            ]
           ]
          },
          "colorway": [
           "#636efa",
           "#EF553B",
           "#00cc96",
           "#ab63fa",
           "#FFA15A",
           "#19d3f3",
           "#FF6692",
           "#B6E880",
           "#FF97FF",
           "#FECB52"
          ],
          "font": {
           "color": "#2a3f5f"
          },
          "geo": {
           "bgcolor": "white",
           "lakecolor": "white",
           "landcolor": "#E5ECF6",
           "showlakes": true,
           "showland": true,
           "subunitcolor": "white"
          },
          "hoverlabel": {
           "align": "left"
          },
          "hovermode": "closest",
          "mapbox": {
           "style": "light"
          },
          "paper_bgcolor": "white",
          "plot_bgcolor": "#E5ECF6",
          "polar": {
           "angularaxis": {
            "gridcolor": "white",
            "linecolor": "white",
            "ticks": ""
           },
           "bgcolor": "#E5ECF6",
           "radialaxis": {
            "gridcolor": "white",
            "linecolor": "white",
            "ticks": ""
           }
          },
          "scene": {
           "xaxis": {
            "backgroundcolor": "#E5ECF6",
            "gridcolor": "white",
            "gridwidth": 2,
            "linecolor": "white",
            "showbackground": true,
            "ticks": "",
            "zerolinecolor": "white"
           },
           "yaxis": {
            "backgroundcolor": "#E5ECF6",
            "gridcolor": "white",
            "gridwidth": 2,
            "linecolor": "white",
            "showbackground": true,
            "ticks": "",
            "zerolinecolor": "white"
           },
           "zaxis": {
            "backgroundcolor": "#E5ECF6",
            "gridcolor": "white",
            "gridwidth": 2,
            "linecolor": "white",
            "showbackground": true,
            "ticks": "",
            "zerolinecolor": "white"
           }
          },
          "shapedefaults": {
           "line": {
            "color": "#2a3f5f"
           }
          },
          "ternary": {
           "aaxis": {
            "gridcolor": "white",
            "linecolor": "white",
            "ticks": ""
           },
           "baxis": {
            "gridcolor": "white",
            "linecolor": "white",
            "ticks": ""
           },
           "bgcolor": "#E5ECF6",
           "caxis": {
            "gridcolor": "white",
            "linecolor": "white",
            "ticks": ""
           }
          },
          "title": {
           "x": 0.05
          },
          "xaxis": {
           "automargin": true,
           "gridcolor": "white",
           "linecolor": "white",
           "ticks": "",
           "title": {
            "standoff": 15
           },
           "zerolinecolor": "white",
           "zerolinewidth": 2
          },
          "yaxis": {
           "automargin": true,
           "gridcolor": "white",
           "linecolor": "white",
           "ticks": "",
           "title": {
            "standoff": 15
           },
           "zerolinecolor": "white",
           "zerolinewidth": 2
          }
         }
        },
        "title": {
         "font": {
          "size": 22
         },
         "text": "Relative Execution Time for Intersection by Max Chunk Size ",
         "x": 0.5
        },
        "width": 1000,
        "xaxis": {
         "anchor": "y",
         "domain": [
          0,
          0.94
         ],
         "tickfont": {
          "size": 16
         },
         "title": {
          "text": ""
         }
        },
        "xaxis2": {
         "anchor": "y3",
         "domain": [
          0,
          0.94
         ],
         "tickfont": {
          "size": 16
         },
         "title": {
          "text": ""
         }
        },
        "xaxis3": {
         "anchor": "y5",
         "domain": [
          0,
          0.94
         ],
         "tickfont": {
          "size": 16
         },
         "title": {
          "text": ""
         }
        },
        "yaxis": {
         "anchor": "x",
         "domain": [
          0.7133333333333334,
          1
         ],
         "tickfont": {
          "size": 16
         },
         "title": {
          "text": ""
         },
         "type": "log"
        },
        "yaxis2": {
         "anchor": "x",
         "overlaying": "y",
         "side": "right",
         "tickfont": {
          "size": 16
         },
         "title": {
          "text": ""
         },
         "type": "log"
        },
        "yaxis3": {
         "anchor": "x2",
         "domain": [
          0.3566666666666667,
          0.6433333333333333
         ],
         "tickfont": {
          "size": 16
         },
         "title": {
          "text": ""
         },
         "type": "log"
        },
        "yaxis4": {
         "anchor": "x2",
         "overlaying": "y3",
         "side": "right",
         "tickfont": {
          "size": 16
         },
         "title": {
          "text": ""
         },
         "type": "log"
        },
        "yaxis5": {
         "anchor": "x3",
         "domain": [
          0,
          0.2866666666666667
         ],
         "tickfont": {
          "size": 16
         },
         "title": {
          "text": ""
         },
         "type": "log"
        },
        "yaxis6": {
         "anchor": "x3",
         "overlaying": "y5",
         "side": "right",
         "tickfont": {
          "size": 16
         },
         "title": {
          "text": ""
         },
         "type": "log"
        }
       }
      }
     },
     "metadata": {},
     "output_type": "display_data"
    }
   ],
   "source": [
    "plot_max_delta_size_speed(max_deltas_filt_df, is_predicate=False, no_mixed=True, relative=True)"
   ]
  },
  {
   "attachments": {},
   "cell_type": "markdown",
   "metadata": {},
   "source": [
    "#### Dataset Stats Collection"
   ]
  },
  {
   "cell_type": "code",
   "execution_count": 142,
   "metadata": {},
   "outputs": [],
   "source": [
    "if not USE_EXISTING_DF:\n",
    "    stats_dfs = []\n",
    "\n",
    "    for dataset in datasets:\n",
    "        stats_df = pd.DataFrame(columns=['decomp', 'nbr_recieved_chks', 'nbr_total_chks', 'total_time', \"sizes\", \"context\", \"delta_size\", \"predicate\", \"dataset_idx\", \"baseline\", \"dataset\"])\n",
    "\n",
    "        dataset, _, dataset_name = dataset\n",
    "        np.random.seed(2021)\n",
    "        indicies = np.random.choice(len(dataset), size=100000, replace=True)\n",
    "        dataset = np.array(dataset)[indicies] \n",
    "        for idx, (g1, g2) in enumerate(tqdm(dataset)):\n",
    "            if g1.equals(g2):\n",
    "                continue\n",
    "            \n",
    "            if g1.geom_type == \"Point\" or g2.geom_type == \"Point\":\n",
    "                continue\n",
    "\n",
    "            for baseline_on in [True, False]:\n",
    "                act_deact_baseline(activate=baseline_on)\n",
    "                \n",
    "\n",
    "                evaluate_dataset(stats_df, delta_size=15 if not baseline_on else 10000000, dataset_name=dataset_name, args=(idx, g1, g2)) # Second param: PLOT?\n",
    "        stats_df.to_csv(f'stats_df_{dataset_name}.csv', index=False)\n",
    "        stats_dfs.append(stats_df)\n",
    "    stats_df = pd.concat(stats_dfs)\n",
    "else:\n",
    "    country_stats_df = pd.read_csv('stats_df_Country Borders4.csv')\n",
    "    china_stats_df = pd.read_csv('stats_df_China Water4.csv')\n",
    "    sweden_stats_df = pd.read_csv('stats_df_Sweden All3.csv')\n",
    "    lund_stats_df = pd.read_csv('stats_df_lund_data3.csv')\n",
    "\n",
    "    stats_df = pd.concat([\n",
    "        china_stats_df, \n",
    "        sweden_stats_df, \n",
    "        #lund_stats_df, \n",
    "        country_stats_df\n",
    "        ]\n",
    "    )\n"
   ]
  },
  {
   "attachments": {},
   "cell_type": "markdown",
   "metadata": {},
   "source": [
    "### OLD VERSION For all mean relative execution time and fractions"
   ]
  },
  {
   "cell_type": "code",
   "execution_count": 143,
   "metadata": {},
   "outputs": [],
   "source": [
    "# def plot_total_time_bars_relative(df, is_predicate=False, size_cat_excl=[], log_scale=True):\n",
    "#     display(df[(df['predicate'] == True)])\n",
    "#     df = df[(df['predicate'] == False)] #(df['sizes'].isin([\"Small/Small\", \"Medium/Medium\", \"Large/Large\"]))]\n",
    "\n",
    "#     df.replace({\"Fully Inside Other (TRUE)\": \"Contained\", \n",
    "#             \"Overlap (FALSE)\": \"Disjoint\",\n",
    "#             \"Partial Overlap (TRUE)\": \"Crossing\",\n",
    "#             \"Large/Large\": \"L/L\",\n",
    "#             \"Small/Large\": \"S/L\",\n",
    "#             \"Medium/Large\": \"M/L\",\n",
    "#             \"Small/Medium\": \"S/M\",\n",
    "#             \"Medium/Medium\": \"M/M\",\n",
    "#             \"Small/Small\": \"S/S\",\n",
    "#             }, inplace=True)\n",
    "\n",
    "#     #df.reset_index(inplace=True)\n",
    "#     baseline_df = df[df['baseline']]\n",
    "#     not_baseline_df = df[~df['baseline']]\n",
    " \n",
    "#     baseline_df.sort_values(by=['dataset', 'dataset_idx'])\n",
    "   \n",
    "   \n",
    "#     not_baseline_df.sort_values(by=['dataset', 'dataset_idx'])\n",
    "#     not_baseline_df['total_time_ratio'] = not_baseline_df['total_time'].values / baseline_df['total_time'].values\n",
    "#     df = not_baseline_df\n",
    "#     df['frac'] =(df[\"decomp\"].div(df.total_time, axis=0))\n",
    "#     df = df.groupby([\"baseline\", \"context\", \"sizes\"])[['frac','total_time_ratio' ]].mean() \n",
    "    \n",
    "#     baseline_df['frac'] =(baseline_df[\"decomp\"].div(baseline_df.total_time, axis=0))\n",
    "#     baseline_df_temp = baseline_df.groupby([\"baseline\", \"context\", \"sizes\"])[['frac']].mean() \n",
    "#     display(baseline_df_temp)\n",
    "#     display(df)\n",
    "#     df.reset_index(inplace=True)\n",
    "#     df['decomp_ratio'] = (df[\"frac\"].mul(df.total_time_ratio, axis=0))\n",
    "#     df['intersection_ratio'] = (df[\"total_time_ratio\"].sub(df.decomp_ratio, axis=0))\n",
    "#     intersection_formatting = \"Intersection\" if not is_predicate else \"Is_Intersection\"\n",
    "#     df = pd.concat([df] * 2, ignore_index=True)\n",
    "\n",
    "#     new_column_values = ([\"Decompression\"] * (len(df) // 2))\n",
    "#     new_column_values.extend(([\"Intersection\"] * (len(df) // 2)))\n",
    "\n",
    "#     df['Stage'] = new_column_values\n",
    "#     df['time'] = df.apply(lambda x: x['decomp_ratio'] * 100 if x[\"Stage\"] == \"Decompression\" else x['intersection_ratio'] * 100, axis=1)\n",
    "#     df = df[['time', 'context', 'sizes', 'Stage']]\n",
    "#     fig = px.bar(df, \n",
    "#                        x=\"context\", \n",
    "#                        y=\"time\", \n",
    "#                        facet_col=\"sizes\", \n",
    "#                        color=\"Stage\",\n",
    "#                        barmode='group',\n",
    "#                        log_y=log_scale, \n",
    "#                        facet_col_spacing=0.1, \n",
    "#                        title=f\"Execution Time for {intersection_formatting} in Different Contexts & Sizes\",\n",
    "#                        labels=dict(sizes=\"Geometry Sizes\", context=\"Context\", baseline=\"Baseline\", Stage=\"Stage: \"),\n",
    "#                        facet_col_wrap=3,\n",
    "#                        facet_row_spacing=0.1,\n",
    "#                        height=1000,\n",
    "#                        width=1000,\n",
    "#                        pattern_shape='Stage',\n",
    "#                        color_discrete_map={\n",
    "#                             'Decompression': 'rgb(169,234,184)',\n",
    "#                             'Intersection': 'rgb(255,183,180)',\n",
    "#                             'Country Borders': 'rgb(254,198,161)'\n",
    "#                         },\n",
    "#                         category_orders={\"context\": [\"Crossing\", \"Contained\", \"Disjoint\"],}\n",
    "#                        #text=\"time\"\n",
    "#                        )\n",
    "#     fig.for_each_annotation(lambda a: a.update(text= \"  \" + a.text.split(\"=\")[1]))\n",
    "\n",
    "#     fig.update_annotations(font=dict(size=20))\n",
    "#     make_general_facet_title(fig, \"Intersection Context\", \"Relative Mean Execution Time (%)\", barplot=True)\n",
    "#     #fig.for_each_yaxis(lambda yaxis: yaxis.update(showticklabels=True))\n",
    "#     fig.update_yaxes(matches=None, showticklabels=True,  tickfont=dict(size=20), range=[0,105])\n",
    "#     fig.update_xaxes(tickfont=dict(size=20))\n",
    "#     #fig.update_traces(texttemplate='%{text:.2}%', textposition='inside', textfont=dict(color='white'))\n",
    "\n",
    "#     fig.update_layout(barmode=\"relative\",\n",
    "#                       title_y=0.975,\n",
    "#                     title_x=0.465,\n",
    "#                       width=1000, \n",
    "#                       height=1000, \n",
    "#                       legend=dict(\n",
    "#                             yanchor=\"top\",\n",
    "#                             y=1.15,\n",
    "#                             xanchor=\"left\",\n",
    "#                             x=0.95,\n",
    "#                            #orientation=\"h\",\n",
    "#                             font=dict(size=20),\n",
    "#                         ),\n",
    "#                         title=dict(\n",
    "#                             text=f'Mean Relative Execution Time for Intersection',\n",
    "                            \n",
    "#                             font=dict(size=28)\n",
    "#                             )\n",
    "#                         )\n",
    "#     fig.add_annotation(\n",
    "#         dict(\n",
    "#             x=0.5,\n",
    "#             y=1.08,  # adjust as needed\n",
    "#             showarrow=False,\n",
    "#             text=\"Geometry Size\",\n",
    "#             xref=\"paper\",\n",
    "#             yref=\"paper\",\n",
    "#             font=dict(size=24),\n",
    "#             xanchor=\"center\", \n",
    "#             yanchor=\"top\"\n",
    "#         ))\n",
    "#     for row in range(2):\n",
    "#         for col in range(3):\n",
    "#             fig.add_hline(y=100, line_dash=\"dot\", row=row, col=col)\n",
    "\n",
    "   \n",
    "#     fig.show()\n"
   ]
  },
  {
   "cell_type": "markdown",
   "metadata": {},
   "source": [
    "#### Relative Mean Execution time + Intersection, Decomp Frac"
   ]
  },
  {
   "cell_type": "code",
   "execution_count": 213,
   "metadata": {},
   "outputs": [],
   "source": [
    "def plot_total_time_bars_relative(df, is_predicate=False, size_cat_excl=[], log_scale=True):\n",
    "    df = df[(df['predicate'] == False)] #(df['sizes'].isin([\"Small/Small\", \"Medium/Medium\", \"Large/Large\"]))]\n",
    "    df.replace({\"Fully Inside Other (TRUE)\": \"Contained\", \n",
    "            \"Overlap (FALSE)\": \"Disjoint\",\n",
    "            \"Partial Overlap (TRUE)\": \"Crossing\",\n",
    "            \"Large/Large\": \"L/L\",\n",
    "            \"Small/Large\": \"S/L\",\n",
    "            \"Medium/Large\": \"M/L\",\n",
    "            \"Small/Medium\": \"S/M\",\n",
    "            \"Medium/Medium\": \"M/M\",\n",
    "            \"Small/Small\": \"S/S\",\n",
    "            }, inplace=True)\n",
    "    \n",
    "    \n",
    "    baseline_df = df[df['baseline']]\n",
    "    not_baseline_df = df[~df['baseline']] \n",
    "    not_baseline_df['decomp_frac'] = (not_baseline_df[\"decomp\"].div(not_baseline_df.total_time, axis=0))\n",
    "    not_baseline_df.reset_index(inplace=True)\n",
    "    baseline_df['decomp_frac'] = (baseline_df[\"decomp\"].div(baseline_df.total_time, axis=0))\n",
    "    baseline_df.reset_index(inplace=True)\n",
    "\n",
    "    baseline_fracs_df = baseline_df.groupby([\"context\", \"sizes\"])[['decomp_frac']].mean() \n",
    "    not_baseline_fracs_df = not_baseline_df.groupby([\"context\", \"sizes\"])[['decomp_frac']].mean() \n",
    "\n",
    "    print(\"Baseline decompression fractions\")\n",
    "    display(baseline_fracs_df)\n",
    "    print(\"FPDE decompression fractions\")\n",
    "    display(not_baseline_fracs_df)\n",
    "\n",
    "\n",
    "    not_baseline_fracs_df.reset_index(inplace=True)\n",
    "    df_means = df.groupby(['context', 'sizes', 'baseline']).mean()\n",
    "    df_means.reset_index(inplace=True)\n",
    "    df_means['rel_tot_exec'] = df_means[~df_means['baseline']]['total_time'].div(df_means[df_means['baseline']]['total_time'].values,axis=0)\n",
    "    df_means = df_means[~df_means['baseline']]\n",
    "    print(\"FPDE Relative total execution time\")\n",
    "    display(df_means)\n",
    "\n",
    "    df_means['rel_decomp_exec'] = df_means['rel_tot_exec'].values * not_baseline_fracs_df['decomp_frac'].values\n",
    "    df_means['rel_intersection_exec'] = (1 - not_baseline_fracs_df['decomp_frac']).values * df_means['rel_tot_exec'].values\n",
    "    df = df_means[['context', 'sizes', 'rel_decomp_exec', 'rel_intersection_exec']]\n",
    "\n",
    "\n",
    "    df = pd.concat([df] * 2, ignore_index=True)\n",
    "    new_column_values = ([\"Decompression\"] * (len(df) // 2))\n",
    "    new_column_values.extend(([\"Intersection\"] * (len(df) // 2)))\n",
    "\n",
    "    df['Stage'] = new_column_values\n",
    "\n",
    "    \n",
    "    \n",
    "    \n",
    "    df['rel_exec_time'] = df.apply(lambda x: x['rel_decomp_exec'] * 100 if x[\"Stage\"] == \"Decompression\" else x['rel_intersection_exec'] * 100, axis=1)\n",
    "    df = df[['rel_exec_time', 'context', 'sizes', 'Stage']]\n",
    "    fig = px.bar(df, \n",
    "                       x=\"context\", \n",
    "                       y=\"rel_exec_time\", \n",
    "                       facet_col=\"sizes\", \n",
    "                       color=\"Stage\",\n",
    "                       barmode='relative',\n",
    "                       log_y=log_scale, \n",
    "                       facet_col_spacing=0.1, \n",
    "                       labels=dict(sizes=\"Geometry Sizes\", context=\"Context\", baseline=\"Baseline\", Stage=\"Stage: \"),\n",
    "                       facet_col_wrap=3,\n",
    "                       facet_row_spacing=0.1,\n",
    "                       height=1000,\n",
    "                       width=1000,\n",
    "                       pattern_shape='Stage',\n",
    "                       color_discrete_map={\n",
    "                            'Decompression': 'rgb(169,234,184)',\n",
    "                            'Intersection': 'rgb(255,183,180)',\n",
    "                            'Country Borders': 'rgb(254,198,161)'\n",
    "                        },\n",
    "                        category_orders={\"context\": [\"Crossing\", \"Contained\", \"Disjoint\"],}\n",
    "                       #text=\"time\"\n",
    "                       )\n",
    "    fig.for_each_annotation(lambda a: a.update(text= \"  \" + a.text.split(\"=\")[1]))\n",
    "\n",
    "    fig.update_annotations(font=dict(size=20))\n",
    "    make_general_facet_title(fig, \"Intersection Context\", \"Relative Mean Execution Time (%)\", barplot=True)\n",
    "    #fig.for_each_yaxis(lambda yaxis: yaxis.update(showticklabels=True))\n",
    "    fig.update_yaxes(matches=None, showticklabels=True,  tickfont=dict(size=20), range=[0,105])\n",
    "    fig.update_xaxes(tickfont=dict(size=20))\n",
    "    #fig.update_traces(texttemplate='%{text:.2}%', textposition='inside', textfont=dict(color='white'))\n",
    "\n",
    "    fig.update_layout(title_y=0.975,\n",
    "                    title_x=0.465,\n",
    "                      width=1000, \n",
    "                      height=1000, \n",
    "                      legend=dict(\n",
    "                            yanchor=\"top\",\n",
    "                            y=1.15,\n",
    "                            xanchor=\"left\",\n",
    "                            x=0.95,\n",
    "                           #orientation=\"h\",\n",
    "                            font=dict(size=20),\n",
    "                        ),\n",
    "                        title=dict(\n",
    "                            text=f'Relative Mean Execution Time for Intersection',\n",
    "                            \n",
    "                            font=dict(size=28)\n",
    "                            )\n",
    "                        )\n",
    "    fig.add_annotation(\n",
    "        dict(\n",
    "            x=0.5,\n",
    "            y=1.08,  # adjust as needed\n",
    "            showarrow=False,\n",
    "            text=\"Geometry Size\",\n",
    "            xref=\"paper\",\n",
    "            yref=\"paper\",\n",
    "            font=dict(size=24),\n",
    "            xanchor=\"center\", \n",
    "            yanchor=\"top\"\n",
    "        ))\n",
    "    for row in range(2):\n",
    "        for col in range(3):\n",
    "            fig.add_hline(y=100, line_dash=\"dot\", row=row, col=col)\n",
    "\n",
    "    fig.show()\n"
   ]
  },
  {
   "cell_type": "code",
   "execution_count": 214,
   "metadata": {},
   "outputs": [
    {
     "name": "stdout",
     "output_type": "stream",
     "text": [
      "Baseline decompression fractions\n"
     ]
    },
    {
     "data": {
      "text/html": [
       "<div>\n",
       "<style scoped>\n",
       "    .dataframe tbody tr th:only-of-type {\n",
       "        vertical-align: middle;\n",
       "    }\n",
       "\n",
       "    .dataframe tbody tr th {\n",
       "        vertical-align: top;\n",
       "    }\n",
       "\n",
       "    .dataframe thead th {\n",
       "        text-align: right;\n",
       "    }\n",
       "</style>\n",
       "<table border=\"1\" class=\"dataframe\">\n",
       "  <thead>\n",
       "    <tr style=\"text-align: right;\">\n",
       "      <th></th>\n",
       "      <th></th>\n",
       "      <th>decomp_frac</th>\n",
       "    </tr>\n",
       "    <tr>\n",
       "      <th>context</th>\n",
       "      <th>sizes</th>\n",
       "      <th></th>\n",
       "    </tr>\n",
       "  </thead>\n",
       "  <tbody>\n",
       "    <tr>\n",
       "      <th rowspan=\"6\" valign=\"top\">Contained</th>\n",
       "      <th>L/L</th>\n",
       "      <td>0.594396</td>\n",
       "    </tr>\n",
       "    <tr>\n",
       "      <th>M/L</th>\n",
       "      <td>0.818214</td>\n",
       "    </tr>\n",
       "    <tr>\n",
       "      <th>M/M</th>\n",
       "      <td>0.538491</td>\n",
       "    </tr>\n",
       "    <tr>\n",
       "      <th>S/L</th>\n",
       "      <td>0.810741</td>\n",
       "    </tr>\n",
       "    <tr>\n",
       "      <th>S/M</th>\n",
       "      <td>0.520367</td>\n",
       "    </tr>\n",
       "    <tr>\n",
       "      <th>S/S</th>\n",
       "      <td>0.424762</td>\n",
       "    </tr>\n",
       "    <tr>\n",
       "      <th rowspan=\"6\" valign=\"top\">Crossing</th>\n",
       "      <th>L/L</th>\n",
       "      <td>0.358745</td>\n",
       "    </tr>\n",
       "    <tr>\n",
       "      <th>M/L</th>\n",
       "      <td>0.407025</td>\n",
       "    </tr>\n",
       "    <tr>\n",
       "      <th>M/M</th>\n",
       "      <td>0.303516</td>\n",
       "    </tr>\n",
       "    <tr>\n",
       "      <th>S/L</th>\n",
       "      <td>0.525387</td>\n",
       "    </tr>\n",
       "    <tr>\n",
       "      <th>S/M</th>\n",
       "      <td>0.296901</td>\n",
       "    </tr>\n",
       "    <tr>\n",
       "      <th>S/S</th>\n",
       "      <td>0.232440</td>\n",
       "    </tr>\n",
       "    <tr>\n",
       "      <th rowspan=\"6\" valign=\"top\">Disjoint</th>\n",
       "      <th>L/L</th>\n",
       "      <td>0.845489</td>\n",
       "    </tr>\n",
       "    <tr>\n",
       "      <th>M/L</th>\n",
       "      <td>0.769538</td>\n",
       "    </tr>\n",
       "    <tr>\n",
       "      <th>M/M</th>\n",
       "      <td>0.653456</td>\n",
       "    </tr>\n",
       "    <tr>\n",
       "      <th>S/L</th>\n",
       "      <td>0.751324</td>\n",
       "    </tr>\n",
       "    <tr>\n",
       "      <th>S/M</th>\n",
       "      <td>0.594549</td>\n",
       "    </tr>\n",
       "    <tr>\n",
       "      <th>S/S</th>\n",
       "      <td>0.476543</td>\n",
       "    </tr>\n",
       "  </tbody>\n",
       "</table>\n",
       "</div>"
      ],
      "text/plain": [
       "                 decomp_frac\n",
       "context   sizes             \n",
       "Contained L/L       0.594396\n",
       "          M/L       0.818214\n",
       "          M/M       0.538491\n",
       "          S/L       0.810741\n",
       "          S/M       0.520367\n",
       "          S/S       0.424762\n",
       "Crossing  L/L       0.358745\n",
       "          M/L       0.407025\n",
       "          M/M       0.303516\n",
       "          S/L       0.525387\n",
       "          S/M       0.296901\n",
       "          S/S       0.232440\n",
       "Disjoint  L/L       0.845489\n",
       "          M/L       0.769538\n",
       "          M/M       0.653456\n",
       "          S/L       0.751324\n",
       "          S/M       0.594549\n",
       "          S/S       0.476543"
      ]
     },
     "metadata": {},
     "output_type": "display_data"
    },
    {
     "name": "stdout",
     "output_type": "stream",
     "text": [
      "FPDE decompression fractions\n"
     ]
    },
    {
     "data": {
      "text/html": [
       "<div>\n",
       "<style scoped>\n",
       "    .dataframe tbody tr th:only-of-type {\n",
       "        vertical-align: middle;\n",
       "    }\n",
       "\n",
       "    .dataframe tbody tr th {\n",
       "        vertical-align: top;\n",
       "    }\n",
       "\n",
       "    .dataframe thead th {\n",
       "        text-align: right;\n",
       "    }\n",
       "</style>\n",
       "<table border=\"1\" class=\"dataframe\">\n",
       "  <thead>\n",
       "    <tr style=\"text-align: right;\">\n",
       "      <th></th>\n",
       "      <th></th>\n",
       "      <th>decomp_frac</th>\n",
       "    </tr>\n",
       "    <tr>\n",
       "      <th>context</th>\n",
       "      <th>sizes</th>\n",
       "      <th></th>\n",
       "    </tr>\n",
       "  </thead>\n",
       "  <tbody>\n",
       "    <tr>\n",
       "      <th rowspan=\"6\" valign=\"top\">Contained</th>\n",
       "      <th>L/L</th>\n",
       "      <td>0.515842</td>\n",
       "    </tr>\n",
       "    <tr>\n",
       "      <th>M/L</th>\n",
       "      <td>0.650023</td>\n",
       "    </tr>\n",
       "    <tr>\n",
       "      <th>M/M</th>\n",
       "      <td>0.439622</td>\n",
       "    </tr>\n",
       "    <tr>\n",
       "      <th>S/L</th>\n",
       "      <td>0.612442</td>\n",
       "    </tr>\n",
       "    <tr>\n",
       "      <th>S/M</th>\n",
       "      <td>0.385860</td>\n",
       "    </tr>\n",
       "    <tr>\n",
       "      <th>S/S</th>\n",
       "      <td>0.364033</td>\n",
       "    </tr>\n",
       "    <tr>\n",
       "      <th rowspan=\"6\" valign=\"top\">Crossing</th>\n",
       "      <th>L/L</th>\n",
       "      <td>0.168429</td>\n",
       "    </tr>\n",
       "    <tr>\n",
       "      <th>M/L</th>\n",
       "      <td>0.194118</td>\n",
       "    </tr>\n",
       "    <tr>\n",
       "      <th>M/M</th>\n",
       "      <td>0.177319</td>\n",
       "    </tr>\n",
       "    <tr>\n",
       "      <th>S/L</th>\n",
       "      <td>0.250620</td>\n",
       "    </tr>\n",
       "    <tr>\n",
       "      <th>S/M</th>\n",
       "      <td>0.181140</td>\n",
       "    </tr>\n",
       "    <tr>\n",
       "      <th>S/S</th>\n",
       "      <td>0.168851</td>\n",
       "    </tr>\n",
       "    <tr>\n",
       "      <th rowspan=\"6\" valign=\"top\">Disjoint</th>\n",
       "      <th>L/L</th>\n",
       "      <td>0.606233</td>\n",
       "    </tr>\n",
       "    <tr>\n",
       "      <th>M/L</th>\n",
       "      <td>0.488670</td>\n",
       "    </tr>\n",
       "    <tr>\n",
       "      <th>M/M</th>\n",
       "      <td>0.431279</td>\n",
       "    </tr>\n",
       "    <tr>\n",
       "      <th>S/L</th>\n",
       "      <td>0.452044</td>\n",
       "    </tr>\n",
       "    <tr>\n",
       "      <th>S/M</th>\n",
       "      <td>0.401613</td>\n",
       "    </tr>\n",
       "    <tr>\n",
       "      <th>S/S</th>\n",
       "      <td>0.387939</td>\n",
       "    </tr>\n",
       "  </tbody>\n",
       "</table>\n",
       "</div>"
      ],
      "text/plain": [
       "                 decomp_frac\n",
       "context   sizes             \n",
       "Contained L/L       0.515842\n",
       "          M/L       0.650023\n",
       "          M/M       0.439622\n",
       "          S/L       0.612442\n",
       "          S/M       0.385860\n",
       "          S/S       0.364033\n",
       "Crossing  L/L       0.168429\n",
       "          M/L       0.194118\n",
       "          M/M       0.177319\n",
       "          S/L       0.250620\n",
       "          S/M       0.181140\n",
       "          S/S       0.168851\n",
       "Disjoint  L/L       0.606233\n",
       "          M/L       0.488670\n",
       "          M/M       0.431279\n",
       "          S/L       0.452044\n",
       "          S/M       0.401613\n",
       "          S/S       0.387939"
      ]
     },
     "metadata": {},
     "output_type": "display_data"
    },
    {
     "name": "stdout",
     "output_type": "stream",
     "text": [
      "FPDE Relative total execution time\n"
     ]
    },
    {
     "data": {
      "text/html": [
       "<div>\n",
       "<style scoped>\n",
       "    .dataframe tbody tr th:only-of-type {\n",
       "        vertical-align: middle;\n",
       "    }\n",
       "\n",
       "    .dataframe tbody tr th {\n",
       "        vertical-align: top;\n",
       "    }\n",
       "\n",
       "    .dataframe thead th {\n",
       "        text-align: right;\n",
       "    }\n",
       "</style>\n",
       "<table border=\"1\" class=\"dataframe\">\n",
       "  <thead>\n",
       "    <tr style=\"text-align: right;\">\n",
       "      <th></th>\n",
       "      <th>context</th>\n",
       "      <th>sizes</th>\n",
       "      <th>baseline</th>\n",
       "      <th>total_time</th>\n",
       "      <th>predicate</th>\n",
       "      <th>decomp</th>\n",
       "      <th>dataset_idx</th>\n",
       "      <th>rel_tot_exec</th>\n",
       "    </tr>\n",
       "  </thead>\n",
       "  <tbody>\n",
       "    <tr>\n",
       "      <th>0</th>\n",
       "      <td>Contained</td>\n",
       "      <td>L/L</td>\n",
       "      <td>False</td>\n",
       "      <td>0.019645</td>\n",
       "      <td>0.0</td>\n",
       "      <td>0.006470</td>\n",
       "      <td>47467.793103</td>\n",
       "      <td>0.392773</td>\n",
       "    </tr>\n",
       "    <tr>\n",
       "      <th>2</th>\n",
       "      <td>Contained</td>\n",
       "      <td>M/L</td>\n",
       "      <td>False</td>\n",
       "      <td>0.002743</td>\n",
       "      <td>0.0</td>\n",
       "      <td>0.001843</td>\n",
       "      <td>51288.654723</td>\n",
       "      <td>0.098335</td>\n",
       "    </tr>\n",
       "    <tr>\n",
       "      <th>4</th>\n",
       "      <td>Contained</td>\n",
       "      <td>M/M</td>\n",
       "      <td>False</td>\n",
       "      <td>0.002006</td>\n",
       "      <td>0.0</td>\n",
       "      <td>0.000677</td>\n",
       "      <td>51964.476636</td>\n",
       "      <td>0.860414</td>\n",
       "    </tr>\n",
       "    <tr>\n",
       "      <th>6</th>\n",
       "      <td>Contained</td>\n",
       "      <td>S/L</td>\n",
       "      <td>False</td>\n",
       "      <td>0.002183</td>\n",
       "      <td>0.0</td>\n",
       "      <td>0.001750</td>\n",
       "      <td>49871.579229</td>\n",
       "      <td>0.075337</td>\n",
       "    </tr>\n",
       "    <tr>\n",
       "      <th>8</th>\n",
       "      <td>Contained</td>\n",
       "      <td>S/M</td>\n",
       "      <td>False</td>\n",
       "      <td>0.000756</td>\n",
       "      <td>0.0</td>\n",
       "      <td>0.000290</td>\n",
       "      <td>50224.313058</td>\n",
       "      <td>0.608377</td>\n",
       "    </tr>\n",
       "    <tr>\n",
       "      <th>10</th>\n",
       "      <td>Contained</td>\n",
       "      <td>S/S</td>\n",
       "      <td>False</td>\n",
       "      <td>0.000689</td>\n",
       "      <td>0.0</td>\n",
       "      <td>0.000248</td>\n",
       "      <td>50375.105612</td>\n",
       "      <td>0.821023</td>\n",
       "    </tr>\n",
       "    <tr>\n",
       "      <th>12</th>\n",
       "      <td>Crossing</td>\n",
       "      <td>L/L</td>\n",
       "      <td>False</td>\n",
       "      <td>0.007491</td>\n",
       "      <td>0.0</td>\n",
       "      <td>0.001031</td>\n",
       "      <td>49948.150847</td>\n",
       "      <td>0.343440</td>\n",
       "    </tr>\n",
       "    <tr>\n",
       "      <th>14</th>\n",
       "      <td>Crossing</td>\n",
       "      <td>M/L</td>\n",
       "      <td>False</td>\n",
       "      <td>0.002827</td>\n",
       "      <td>0.0</td>\n",
       "      <td>0.000511</td>\n",
       "      <td>50280.592739</td>\n",
       "      <td>0.502412</td>\n",
       "    </tr>\n",
       "    <tr>\n",
       "      <th>16</th>\n",
       "      <td>Crossing</td>\n",
       "      <td>M/M</td>\n",
       "      <td>False</td>\n",
       "      <td>0.002106</td>\n",
       "      <td>0.0</td>\n",
       "      <td>0.000344</td>\n",
       "      <td>49976.410339</td>\n",
       "      <td>0.764157</td>\n",
       "    </tr>\n",
       "    <tr>\n",
       "      <th>18</th>\n",
       "      <td>Crossing</td>\n",
       "      <td>S/L</td>\n",
       "      <td>False</td>\n",
       "      <td>0.002409</td>\n",
       "      <td>0.0</td>\n",
       "      <td>0.000807</td>\n",
       "      <td>49826.937342</td>\n",
       "      <td>0.066236</td>\n",
       "    </tr>\n",
       "    <tr>\n",
       "      <th>20</th>\n",
       "      <td>Crossing</td>\n",
       "      <td>S/M</td>\n",
       "      <td>False</td>\n",
       "      <td>0.001496</td>\n",
       "      <td>0.0</td>\n",
       "      <td>0.000255</td>\n",
       "      <td>49790.729237</td>\n",
       "      <td>0.800736</td>\n",
       "    </tr>\n",
       "    <tr>\n",
       "      <th>22</th>\n",
       "      <td>Crossing</td>\n",
       "      <td>S/S</td>\n",
       "      <td>False</td>\n",
       "      <td>0.001025</td>\n",
       "      <td>0.0</td>\n",
       "      <td>0.000165</td>\n",
       "      <td>49737.521194</td>\n",
       "      <td>0.886377</td>\n",
       "    </tr>\n",
       "    <tr>\n",
       "      <th>24</th>\n",
       "      <td>Disjoint</td>\n",
       "      <td>L/L</td>\n",
       "      <td>False</td>\n",
       "      <td>0.000955</td>\n",
       "      <td>0.0</td>\n",
       "      <td>0.000532</td>\n",
       "      <td>49969.275611</td>\n",
       "      <td>0.096249</td>\n",
       "    </tr>\n",
       "    <tr>\n",
       "      <th>26</th>\n",
       "      <td>Disjoint</td>\n",
       "      <td>M/L</td>\n",
       "      <td>False</td>\n",
       "      <td>0.000959</td>\n",
       "      <td>0.0</td>\n",
       "      <td>0.000590</td>\n",
       "      <td>49852.481572</td>\n",
       "      <td>0.143346</td>\n",
       "    </tr>\n",
       "    <tr>\n",
       "      <th>28</th>\n",
       "      <td>Disjoint</td>\n",
       "      <td>M/M</td>\n",
       "      <td>False</td>\n",
       "      <td>0.000610</td>\n",
       "      <td>0.0</td>\n",
       "      <td>0.000265</td>\n",
       "      <td>50573.217612</td>\n",
       "      <td>0.518127</td>\n",
       "    </tr>\n",
       "    <tr>\n",
       "      <th>30</th>\n",
       "      <td>Disjoint</td>\n",
       "      <td>S/L</td>\n",
       "      <td>False</td>\n",
       "      <td>0.000914</td>\n",
       "      <td>0.0</td>\n",
       "      <td>0.000532</td>\n",
       "      <td>49883.377462</td>\n",
       "      <td>0.140288</td>\n",
       "    </tr>\n",
       "    <tr>\n",
       "      <th>32</th>\n",
       "      <td>Disjoint</td>\n",
       "      <td>S/M</td>\n",
       "      <td>False</td>\n",
       "      <td>0.000523</td>\n",
       "      <td>0.0</td>\n",
       "      <td>0.000211</td>\n",
       "      <td>49853.981035</td>\n",
       "      <td>0.613927</td>\n",
       "    </tr>\n",
       "    <tr>\n",
       "      <th>34</th>\n",
       "      <td>Disjoint</td>\n",
       "      <td>S/S</td>\n",
       "      <td>False</td>\n",
       "      <td>0.000396</td>\n",
       "      <td>0.0</td>\n",
       "      <td>0.000155</td>\n",
       "      <td>50079.785457</td>\n",
       "      <td>0.832307</td>\n",
       "    </tr>\n",
       "  </tbody>\n",
       "</table>\n",
       "</div>"
      ],
      "text/plain": [
       "      context sizes  baseline  total_time  predicate    decomp   dataset_idx  \\\n",
       "0   Contained   L/L     False    0.019645        0.0  0.006470  47467.793103   \n",
       "2   Contained   M/L     False    0.002743        0.0  0.001843  51288.654723   \n",
       "4   Contained   M/M     False    0.002006        0.0  0.000677  51964.476636   \n",
       "6   Contained   S/L     False    0.002183        0.0  0.001750  49871.579229   \n",
       "8   Contained   S/M     False    0.000756        0.0  0.000290  50224.313058   \n",
       "10  Contained   S/S     False    0.000689        0.0  0.000248  50375.105612   \n",
       "12   Crossing   L/L     False    0.007491        0.0  0.001031  49948.150847   \n",
       "14   Crossing   M/L     False    0.002827        0.0  0.000511  50280.592739   \n",
       "16   Crossing   M/M     False    0.002106        0.0  0.000344  49976.410339   \n",
       "18   Crossing   S/L     False    0.002409        0.0  0.000807  49826.937342   \n",
       "20   Crossing   S/M     False    0.001496        0.0  0.000255  49790.729237   \n",
       "22   Crossing   S/S     False    0.001025        0.0  0.000165  49737.521194   \n",
       "24   Disjoint   L/L     False    0.000955        0.0  0.000532  49969.275611   \n",
       "26   Disjoint   M/L     False    0.000959        0.0  0.000590  49852.481572   \n",
       "28   Disjoint   M/M     False    0.000610        0.0  0.000265  50573.217612   \n",
       "30   Disjoint   S/L     False    0.000914        0.0  0.000532  49883.377462   \n",
       "32   Disjoint   S/M     False    0.000523        0.0  0.000211  49853.981035   \n",
       "34   Disjoint   S/S     False    0.000396        0.0  0.000155  50079.785457   \n",
       "\n",
       "    rel_tot_exec  \n",
       "0       0.392773  \n",
       "2       0.098335  \n",
       "4       0.860414  \n",
       "6       0.075337  \n",
       "8       0.608377  \n",
       "10      0.821023  \n",
       "12      0.343440  \n",
       "14      0.502412  \n",
       "16      0.764157  \n",
       "18      0.066236  \n",
       "20      0.800736  \n",
       "22      0.886377  \n",
       "24      0.096249  \n",
       "26      0.143346  \n",
       "28      0.518127  \n",
       "30      0.140288  \n",
       "32      0.613927  \n",
       "34      0.832307  "
      ]
     },
     "metadata": {},
     "output_type": "display_data"
    },
    {
     "data": {
      "application/vnd.plotly.v1+json": {
       "config": {
        "plotlyServerURL": "https://plot.ly"
       },
       "data": [
        {
         "alignmentgroup": "True",
         "hovertemplate": "Stage: =Decompression<br>Geometry Sizes=L/L<br>Context=%{x}<br>rel_exec_time=%{y}<extra></extra>",
         "legendgroup": "Decompression",
         "marker": {
          "color": "rgb(169,234,184)",
          "pattern": {
           "shape": ""
          }
         },
         "name": "Decompression",
         "offsetgroup": "Decompression",
         "orientation": "v",
         "showlegend": true,
         "textposition": "auto",
         "type": "bar",
         "x": [
          "Contained",
          "Crossing",
          "Disjoint"
         ],
         "xaxis": "x4",
         "y": [
          20.260871610585262,
          5.7845290898677275,
          5.834917501547452
         ],
         "yaxis": "y4"
        },
        {
         "alignmentgroup": "True",
         "hovertemplate": "Stage: =Decompression<br>Geometry Sizes=M/L<br>Context=%{x}<br>rel_exec_time=%{y}<extra></extra>",
         "legendgroup": "Decompression",
         "marker": {
          "color": "rgb(169,234,184)",
          "pattern": {
           "shape": ""
          }
         },
         "name": "Decompression",
         "offsetgroup": "Decompression",
         "orientation": "v",
         "showlegend": false,
         "textposition": "auto",
         "type": "bar",
         "x": [
          "Contained",
          "Crossing",
          "Disjoint"
         ],
         "xaxis": "x5",
         "y": [
          6.392023388397463,
          9.752744160280379,
          7.0048899723098605
         ],
         "yaxis": "y5"
        },
        {
         "alignmentgroup": "True",
         "hovertemplate": "Stage: =Decompression<br>Geometry Sizes=M/M<br>Context=%{x}<br>rel_exec_time=%{y}<extra></extra>",
         "legendgroup": "Decompression",
         "marker": {
          "color": "rgb(169,234,184)",
          "pattern": {
           "shape": ""
          }
         },
         "name": "Decompression",
         "offsetgroup": "Decompression",
         "orientation": "v",
         "showlegend": false,
         "textposition": "auto",
         "type": "bar",
         "x": [
          "Contained",
          "Crossing",
          "Disjoint"
         ],
         "xaxis": "x6",
         "y": [
          37.825706527429254,
          13.549917785651319,
          22.345745419146425
         ],
         "yaxis": "y6"
        },
        {
         "alignmentgroup": "True",
         "hovertemplate": "Stage: =Decompression<br>Geometry Sizes=S/L<br>Context=%{x}<br>rel_exec_time=%{y}<extra></extra>",
         "legendgroup": "Decompression",
         "marker": {
          "color": "rgb(169,234,184)",
          "pattern": {
           "shape": ""
          }
         },
         "name": "Decompression",
         "offsetgroup": "Decompression",
         "orientation": "v",
         "showlegend": false,
         "textposition": "auto",
         "type": "bar",
         "x": [
          "Contained",
          "Crossing",
          "Disjoint"
         ],
         "xaxis": "x",
         "y": [
          4.613942022294055,
          1.6600131425353288,
          6.341636762312605
         ],
         "yaxis": "y"
        },
        {
         "alignmentgroup": "True",
         "hovertemplate": "Stage: =Decompression<br>Geometry Sizes=S/M<br>Context=%{x}<br>rel_exec_time=%{y}<extra></extra>",
         "legendgroup": "Decompression",
         "marker": {
          "color": "rgb(169,234,184)",
          "pattern": {
           "shape": ""
          }
         },
         "name": "Decompression",
         "offsetgroup": "Decompression",
         "orientation": "v",
         "showlegend": false,
         "textposition": "auto",
         "type": "bar",
         "x": [
          "Contained",
          "Crossing",
          "Disjoint"
         ],
         "xaxis": "x2",
         "y": [
          23.474848361841193,
          14.504546490589911,
          24.65606405315606
         ],
         "yaxis": "y2"
        },
        {
         "alignmentgroup": "True",
         "hovertemplate": "Stage: =Decompression<br>Geometry Sizes=S/S<br>Context=%{x}<br>rel_exec_time=%{y}<extra></extra>",
         "legendgroup": "Decompression",
         "marker": {
          "color": "rgb(169,234,184)",
          "pattern": {
           "shape": ""
          }
         },
         "name": "Decompression",
         "offsetgroup": "Decompression",
         "orientation": "v",
         "showlegend": false,
         "textposition": "auto",
         "type": "bar",
         "x": [
          "Contained",
          "Crossing",
          "Disjoint"
         ],
         "xaxis": "x3",
         "y": [
          29.887916739490844,
          14.96660250322288,
          32.288442402288645
         ],
         "yaxis": "y3"
        },
        {
         "alignmentgroup": "True",
         "hovertemplate": "Stage: =Intersection<br>Geometry Sizes=L/L<br>Context=%{x}<br>rel_exec_time=%{y}<extra></extra>",
         "legendgroup": "Intersection",
         "marker": {
          "color": "rgb(255,183,180)",
          "pattern": {
           "shape": "/"
          }
         },
         "name": "Intersection",
         "offsetgroup": "Intersection",
         "orientation": "v",
         "showlegend": true,
         "textposition": "auto",
         "type": "bar",
         "x": [
          "Contained",
          "Crossing",
          "Disjoint"
         ],
         "xaxis": "x4",
         "y": [
          19.016398047620402,
          28.559476394514853,
          3.789966117334145
         ],
         "yaxis": "y4"
        },
        {
         "alignmentgroup": "True",
         "hovertemplate": "Stage: =Intersection<br>Geometry Sizes=M/L<br>Context=%{x}<br>rel_exec_time=%{y}<extra></extra>",
         "legendgroup": "Intersection",
         "marker": {
          "color": "rgb(255,183,180)",
          "pattern": {
           "shape": "/"
          }
         },
         "name": "Intersection",
         "offsetgroup": "Intersection",
         "orientation": "v",
         "showlegend": false,
         "textposition": "auto",
         "type": "bar",
         "x": [
          "Contained",
          "Crossing",
          "Disjoint"
         ],
         "xaxis": "x5",
         "y": [
          3.4415125669021345,
          40.488499072402476,
          7.329724453864421
         ],
         "yaxis": "y5"
        },
        {
         "alignmentgroup": "True",
         "hovertemplate": "Stage: =Intersection<br>Geometry Sizes=M/M<br>Context=%{x}<br>rel_exec_time=%{y}<extra></extra>",
         "legendgroup": "Intersection",
         "marker": {
          "color": "rgb(255,183,180)",
          "pattern": {
           "shape": "/"
          }
         },
         "name": "Intersection",
         "offsetgroup": "Intersection",
         "orientation": "v",
         "showlegend": false,
         "textposition": "auto",
         "type": "bar",
         "x": [
          "Contained",
          "Crossing",
          "Disjoint"
         ],
         "xaxis": "x6",
         "y": [
          48.215651628974086,
          62.86573388017089,
          29.46698677581191
         ],
         "yaxis": "y6"
        },
        {
         "alignmentgroup": "True",
         "hovertemplate": "Stage: =Intersection<br>Geometry Sizes=S/L<br>Context=%{x}<br>rel_exec_time=%{y}<extra></extra>",
         "legendgroup": "Intersection",
         "marker": {
          "color": "rgb(255,183,180)",
          "pattern": {
           "shape": "/"
          }
         },
         "name": "Intersection",
         "offsetgroup": "Intersection",
         "orientation": "v",
         "showlegend": false,
         "textposition": "auto",
         "type": "bar",
         "x": [
          "Contained",
          "Crossing",
          "Disjoint"
         ],
         "xaxis": "x",
         "y": [
          2.9197428267065484,
          4.963619641534334,
          7.687177506289677
         ],
         "yaxis": "y"
        },
        {
         "alignmentgroup": "True",
         "hovertemplate": "Stage: =Intersection<br>Geometry Sizes=S/M<br>Context=%{x}<br>rel_exec_time=%{y}<extra></extra>",
         "legendgroup": "Intersection",
         "marker": {
          "color": "rgb(255,183,180)",
          "pattern": {
           "shape": "/"
          }
         },
         "name": "Intersection",
         "offsetgroup": "Intersection",
         "orientation": "v",
         "showlegend": false,
         "textposition": "auto",
         "type": "bar",
         "x": [
          "Contained",
          "Crossing",
          "Disjoint"
         ],
         "xaxis": "x2",
         "y": [
          37.362896708483994,
          65.56905474177836,
          36.73659419386502
         ],
         "yaxis": "y2"
        },
        {
         "alignmentgroup": "True",
         "hovertemplate": "Stage: =Intersection<br>Geometry Sizes=S/S<br>Context=%{x}<br>rel_exec_time=%{y}<extra></extra>",
         "legendgroup": "Intersection",
         "marker": {
          "color": "rgb(255,183,180)",
          "pattern": {
           "shape": "/"
          }
         },
         "name": "Intersection",
         "offsetgroup": "Intersection",
         "orientation": "v",
         "showlegend": false,
         "textposition": "auto",
         "type": "bar",
         "x": [
          "Contained",
          "Crossing",
          "Disjoint"
         ],
         "xaxis": "x3",
         "y": [
          52.214369428605835,
          73.67107589320244,
          50.94222624856917
         ],
         "yaxis": "y3"
        }
       ],
       "layout": {
        "annotations": [
         {
          "font": {
           "size": 20
          },
          "showarrow": false,
          "text": "  S/L",
          "x": 0.13333333333333333,
          "xanchor": "center",
          "xref": "paper",
          "y": 0.45,
          "yanchor": "bottom",
          "yref": "paper"
         },
         {
          "font": {
           "size": 20
          },
          "showarrow": false,
          "text": "  S/M",
          "x": 0.5,
          "xanchor": "center",
          "xref": "paper",
          "y": 0.45,
          "yanchor": "bottom",
          "yref": "paper"
         },
         {
          "font": {
           "size": 20
          },
          "showarrow": false,
          "text": "  S/S",
          "x": 0.8666666666666667,
          "xanchor": "center",
          "xref": "paper",
          "y": 0.45,
          "yanchor": "bottom",
          "yref": "paper"
         },
         {
          "font": {
           "size": 20
          },
          "showarrow": false,
          "text": "  L/L",
          "x": 0.13333333333333333,
          "xanchor": "center",
          "xref": "paper",
          "y": 1,
          "yanchor": "bottom",
          "yref": "paper"
         },
         {
          "font": {
           "size": 20
          },
          "showarrow": false,
          "text": "  M/L",
          "x": 0.5,
          "xanchor": "center",
          "xref": "paper",
          "y": 1,
          "yanchor": "bottom",
          "yref": "paper"
         },
         {
          "font": {
           "size": 20
          },
          "showarrow": false,
          "text": "  M/M",
          "x": 0.8666666666666667,
          "xanchor": "center",
          "xref": "paper",
          "y": 1,
          "yanchor": "bottom",
          "yref": "paper"
         },
         {
          "font": {
           "size": 24
          },
          "showarrow": false,
          "text": "Intersection Context",
          "textangle": 0,
          "x": 0.5,
          "xanchor": "center",
          "xref": "paper",
          "y": -0.1,
          "yanchor": "top",
          "yref": "paper"
         },
         {
          "font": {
           "size": 24
          },
          "showarrow": false,
          "text": "Relative Mean Execution Time (%)",
          "textangle": -90,
          "x": -0.08,
          "xanchor": "center",
          "xref": "paper",
          "y": 0.5,
          "yanchor": "middle",
          "yref": "paper"
         },
         {
          "font": {
           "size": 24
          },
          "showarrow": false,
          "text": "Geometry Size",
          "x": 0.5,
          "xanchor": "center",
          "xref": "paper",
          "y": 1.08,
          "yanchor": "top",
          "yref": "paper"
         }
        ],
        "barmode": "relative",
        "height": 1000,
        "legend": {
         "font": {
          "size": 20
         },
         "title": {
          "text": "Stage: "
         },
         "tracegroupgap": 0,
         "x": 0.95,
         "xanchor": "left",
         "y": 1.15,
         "yanchor": "top"
        },
        "margin": {
         "t": 60
        },
        "shapes": [
         {
          "line": {
           "dash": "dot"
          },
          "type": "line",
          "x0": 0,
          "x1": 1,
          "xref": "x6 domain",
          "y0": 100,
          "y1": 100,
          "yref": "y6"
         },
         {
          "line": {
           "dash": "dot"
          },
          "type": "line",
          "x0": 0,
          "x1": 1,
          "xref": "x4 domain",
          "y0": 100,
          "y1": 100,
          "yref": "y4"
         },
         {
          "line": {
           "dash": "dot"
          },
          "type": "line",
          "x0": 0,
          "x1": 1,
          "xref": "x5 domain",
          "y0": 100,
          "y1": 100,
          "yref": "y5"
         },
         {
          "line": {
           "dash": "dot"
          },
          "type": "line",
          "x0": 0,
          "x1": 1,
          "xref": "x3 domain",
          "y0": 100,
          "y1": 100,
          "yref": "y3"
         },
         {
          "line": {
           "dash": "dot"
          },
          "type": "line",
          "x0": 0,
          "x1": 1,
          "xref": "x domain",
          "y0": 100,
          "y1": 100,
          "yref": "y"
         },
         {
          "line": {
           "dash": "dot"
          },
          "type": "line",
          "x0": 0,
          "x1": 1,
          "xref": "x2 domain",
          "y0": 100,
          "y1": 100,
          "yref": "y2"
         }
        ],
        "template": {
         "data": {
          "bar": [
           {
            "error_x": {
             "color": "#2a3f5f"
            },
            "error_y": {
             "color": "#2a3f5f"
            },
            "marker": {
             "line": {
              "color": "#E5ECF6",
              "width": 0.5
             },
             "pattern": {
              "fillmode": "overlay",
              "size": 10,
              "solidity": 0.2
             }
            },
            "type": "bar"
           }
          ],
          "barpolar": [
           {
            "marker": {
             "line": {
              "color": "#E5ECF6",
              "width": 0.5
             },
             "pattern": {
              "fillmode": "overlay",
              "size": 10,
              "solidity": 0.2
             }
            },
            "type": "barpolar"
           }
          ],
          "carpet": [
           {
            "aaxis": {
             "endlinecolor": "#2a3f5f",
             "gridcolor": "white",
             "linecolor": "white",
             "minorgridcolor": "white",
             "startlinecolor": "#2a3f5f"
            },
            "baxis": {
             "endlinecolor": "#2a3f5f",
             "gridcolor": "white",
             "linecolor": "white",
             "minorgridcolor": "white",
             "startlinecolor": "#2a3f5f"
            },
            "type": "carpet"
           }
          ],
          "choropleth": [
           {
            "colorbar": {
             "outlinewidth": 0,
             "ticks": ""
            },
            "type": "choropleth"
           }
          ],
          "contour": [
           {
            "colorbar": {
             "outlinewidth": 0,
             "ticks": ""
            },
            "colorscale": [
             [
              0,
              "#0d0887"
             ],
             [
              0.1111111111111111,
              "#46039f"
             ],
             [
              0.2222222222222222,
              "#7201a8"
             ],
             [
              0.3333333333333333,
              "#9c179e"
             ],
             [
              0.4444444444444444,
              "#bd3786"
             ],
             [
              0.5555555555555556,
              "#d8576b"
             ],
             [
              0.6666666666666666,
              "#ed7953"
             ],
             [
              0.7777777777777778,
              "#fb9f3a"
             ],
             [
              0.8888888888888888,
              "#fdca26"
             ],
             [
              1,
              "#f0f921"
             ]
            ],
            "type": "contour"
           }
          ],
          "contourcarpet": [
           {
            "colorbar": {
             "outlinewidth": 0,
             "ticks": ""
            },
            "type": "contourcarpet"
           }
          ],
          "heatmap": [
           {
            "colorbar": {
             "outlinewidth": 0,
             "ticks": ""
            },
            "colorscale": [
             [
              0,
              "#0d0887"
             ],
             [
              0.1111111111111111,
              "#46039f"
             ],
             [
              0.2222222222222222,
              "#7201a8"
             ],
             [
              0.3333333333333333,
              "#9c179e"
             ],
             [
              0.4444444444444444,
              "#bd3786"
             ],
             [
              0.5555555555555556,
              "#d8576b"
             ],
             [
              0.6666666666666666,
              "#ed7953"
             ],
             [
              0.7777777777777778,
              "#fb9f3a"
             ],
             [
              0.8888888888888888,
              "#fdca26"
             ],
             [
              1,
              "#f0f921"
             ]
            ],
            "type": "heatmap"
           }
          ],
          "heatmapgl": [
           {
            "colorbar": {
             "outlinewidth": 0,
             "ticks": ""
            },
            "colorscale": [
             [
              0,
              "#0d0887"
             ],
             [
              0.1111111111111111,
              "#46039f"
             ],
             [
              0.2222222222222222,
              "#7201a8"
             ],
             [
              0.3333333333333333,
              "#9c179e"
             ],
             [
              0.4444444444444444,
              "#bd3786"
             ],
             [
              0.5555555555555556,
              "#d8576b"
             ],
             [
              0.6666666666666666,
              "#ed7953"
             ],
             [
              0.7777777777777778,
              "#fb9f3a"
             ],
             [
              0.8888888888888888,
              "#fdca26"
             ],
             [
              1,
              "#f0f921"
             ]
            ],
            "type": "heatmapgl"
           }
          ],
          "histogram": [
           {
            "marker": {
             "pattern": {
              "fillmode": "overlay",
              "size": 10,
              "solidity": 0.2
             }
            },
            "type": "histogram"
           }
          ],
          "histogram2d": [
           {
            "colorbar": {
             "outlinewidth": 0,
             "ticks": ""
            },
            "colorscale": [
             [
              0,
              "#0d0887"
             ],
             [
              0.1111111111111111,
              "#46039f"
             ],
             [
              0.2222222222222222,
              "#7201a8"
             ],
             [
              0.3333333333333333,
              "#9c179e"
             ],
             [
              0.4444444444444444,
              "#bd3786"
             ],
             [
              0.5555555555555556,
              "#d8576b"
             ],
             [
              0.6666666666666666,
              "#ed7953"
             ],
             [
              0.7777777777777778,
              "#fb9f3a"
             ],
             [
              0.8888888888888888,
              "#fdca26"
             ],
             [
              1,
              "#f0f921"
             ]
            ],
            "type": "histogram2d"
           }
          ],
          "histogram2dcontour": [
           {
            "colorbar": {
             "outlinewidth": 0,
             "ticks": ""
            },
            "colorscale": [
             [
              0,
              "#0d0887"
             ],
             [
              0.1111111111111111,
              "#46039f"
             ],
             [
              0.2222222222222222,
              "#7201a8"
             ],
             [
              0.3333333333333333,
              "#9c179e"
             ],
             [
              0.4444444444444444,
              "#bd3786"
             ],
             [
              0.5555555555555556,
              "#d8576b"
             ],
             [
              0.6666666666666666,
              "#ed7953"
             ],
             [
              0.7777777777777778,
              "#fb9f3a"
             ],
             [
              0.8888888888888888,
              "#fdca26"
             ],
             [
              1,
              "#f0f921"
             ]
            ],
            "type": "histogram2dcontour"
           }
          ],
          "mesh3d": [
           {
            "colorbar": {
             "outlinewidth": 0,
             "ticks": ""
            },
            "type": "mesh3d"
           }
          ],
          "parcoords": [
           {
            "line": {
             "colorbar": {
              "outlinewidth": 0,
              "ticks": ""
             }
            },
            "type": "parcoords"
           }
          ],
          "pie": [
           {
            "automargin": true,
            "type": "pie"
           }
          ],
          "scatter": [
           {
            "fillpattern": {
             "fillmode": "overlay",
             "size": 10,
             "solidity": 0.2
            },
            "type": "scatter"
           }
          ],
          "scatter3d": [
           {
            "line": {
             "colorbar": {
              "outlinewidth": 0,
              "ticks": ""
             }
            },
            "marker": {
             "colorbar": {
              "outlinewidth": 0,
              "ticks": ""
             }
            },
            "type": "scatter3d"
           }
          ],
          "scattercarpet": [
           {
            "marker": {
             "colorbar": {
              "outlinewidth": 0,
              "ticks": ""
             }
            },
            "type": "scattercarpet"
           }
          ],
          "scattergeo": [
           {
            "marker": {
             "colorbar": {
              "outlinewidth": 0,
              "ticks": ""
             }
            },
            "type": "scattergeo"
           }
          ],
          "scattergl": [
           {
            "marker": {
             "colorbar": {
              "outlinewidth": 0,
              "ticks": ""
             }
            },
            "type": "scattergl"
           }
          ],
          "scattermapbox": [
           {
            "marker": {
             "colorbar": {
              "outlinewidth": 0,
              "ticks": ""
             }
            },
            "type": "scattermapbox"
           }
          ],
          "scatterpolar": [
           {
            "marker": {
             "colorbar": {
              "outlinewidth": 0,
              "ticks": ""
             }
            },
            "type": "scatterpolar"
           }
          ],
          "scatterpolargl": [
           {
            "marker": {
             "colorbar": {
              "outlinewidth": 0,
              "ticks": ""
             }
            },
            "type": "scatterpolargl"
           }
          ],
          "scatterternary": [
           {
            "marker": {
             "colorbar": {
              "outlinewidth": 0,
              "ticks": ""
             }
            },
            "type": "scatterternary"
           }
          ],
          "surface": [
           {
            "colorbar": {
             "outlinewidth": 0,
             "ticks": ""
            },
            "colorscale": [
             [
              0,
              "#0d0887"
             ],
             [
              0.1111111111111111,
              "#46039f"
             ],
             [
              0.2222222222222222,
              "#7201a8"
             ],
             [
              0.3333333333333333,
              "#9c179e"
             ],
             [
              0.4444444444444444,
              "#bd3786"
             ],
             [
              0.5555555555555556,
              "#d8576b"
             ],
             [
              0.6666666666666666,
              "#ed7953"
             ],
             [
              0.7777777777777778,
              "#fb9f3a"
             ],
             [
              0.8888888888888888,
              "#fdca26"
             ],
             [
              1,
              "#f0f921"
             ]
            ],
            "type": "surface"
           }
          ],
          "table": [
           {
            "cells": {
             "fill": {
              "color": "#EBF0F8"
             },
             "line": {
              "color": "white"
             }
            },
            "header": {
             "fill": {
              "color": "#C8D4E3"
             },
             "line": {
              "color": "white"
             }
            },
            "type": "table"
           }
          ]
         },
         "layout": {
          "annotationdefaults": {
           "arrowcolor": "#2a3f5f",
           "arrowhead": 0,
           "arrowwidth": 1
          },
          "autotypenumbers": "strict",
          "coloraxis": {
           "colorbar": {
            "outlinewidth": 0,
            "ticks": ""
           }
          },
          "colorscale": {
           "diverging": [
            [
             0,
             "#8e0152"
            ],
            [
             0.1,
             "#c51b7d"
            ],
            [
             0.2,
             "#de77ae"
            ],
            [
             0.3,
             "#f1b6da"
            ],
            [
             0.4,
             "#fde0ef"
            ],
            [
             0.5,
             "#f7f7f7"
            ],
            [
             0.6,
             "#e6f5d0"
            ],
            [
             0.7,
             "#b8e186"
            ],
            [
             0.8,
             "#7fbc41"
            ],
            [
             0.9,
             "#4d9221"
            ],
            [
             1,
             "#276419"
            ]
           ],
           "sequential": [
            [
             0,
             "#0d0887"
            ],
            [
             0.1111111111111111,
             "#46039f"
            ],
            [
             0.2222222222222222,
             "#7201a8"
            ],
            [
             0.3333333333333333,
             "#9c179e"
            ],
            [
             0.4444444444444444,
             "#bd3786"
            ],
            [
             0.5555555555555556,
             "#d8576b"
            ],
            [
             0.6666666666666666,
             "#ed7953"
            ],
            [
             0.7777777777777778,
             "#fb9f3a"
            ],
            [
             0.8888888888888888,
             "#fdca26"
            ],
            [
             1,
             "#f0f921"
            ]
           ],
           "sequentialminus": [
            [
             0,
             "#0d0887"
            ],
            [
             0.1111111111111111,
             "#46039f"
            ],
            [
             0.2222222222222222,
             "#7201a8"
            ],
            [
             0.3333333333333333,
             "#9c179e"
            ],
            [
             0.4444444444444444,
             "#bd3786"
            ],
            [
             0.5555555555555556,
             "#d8576b"
            ],
            [
             0.6666666666666666,
             "#ed7953"
            ],
            [
             0.7777777777777778,
             "#fb9f3a"
            ],
            [
             0.8888888888888888,
             "#fdca26"
            ],
            [
             1,
             "#f0f921"
            ]
           ]
          },
          "colorway": [
           "#636efa",
           "#EF553B",
           "#00cc96",
           "#ab63fa",
           "#FFA15A",
           "#19d3f3",
           "#FF6692",
           "#B6E880",
           "#FF97FF",
           "#FECB52"
          ],
          "font": {
           "color": "#2a3f5f"
          },
          "geo": {
           "bgcolor": "white",
           "lakecolor": "white",
           "landcolor": "#E5ECF6",
           "showlakes": true,
           "showland": true,
           "subunitcolor": "white"
          },
          "hoverlabel": {
           "align": "left"
          },
          "hovermode": "closest",
          "mapbox": {
           "style": "light"
          },
          "paper_bgcolor": "white",
          "plot_bgcolor": "#E5ECF6",
          "polar": {
           "angularaxis": {
            "gridcolor": "white",
            "linecolor": "white",
            "ticks": ""
           },
           "bgcolor": "#E5ECF6",
           "radialaxis": {
            "gridcolor": "white",
            "linecolor": "white",
            "ticks": ""
           }
          },
          "scene": {
           "xaxis": {
            "backgroundcolor": "#E5ECF6",
            "gridcolor": "white",
            "gridwidth": 2,
            "linecolor": "white",
            "showbackground": true,
            "ticks": "",
            "zerolinecolor": "white"
           },
           "yaxis": {
            "backgroundcolor": "#E5ECF6",
            "gridcolor": "white",
            "gridwidth": 2,
            "linecolor": "white",
            "showbackground": true,
            "ticks": "",
            "zerolinecolor": "white"
           },
           "zaxis": {
            "backgroundcolor": "#E5ECF6",
            "gridcolor": "white",
            "gridwidth": 2,
            "linecolor": "white",
            "showbackground": true,
            "ticks": "",
            "zerolinecolor": "white"
           }
          },
          "shapedefaults": {
           "line": {
            "color": "#2a3f5f"
           }
          },
          "ternary": {
           "aaxis": {
            "gridcolor": "white",
            "linecolor": "white",
            "ticks": ""
           },
           "baxis": {
            "gridcolor": "white",
            "linecolor": "white",
            "ticks": ""
           },
           "bgcolor": "#E5ECF6",
           "caxis": {
            "gridcolor": "white",
            "linecolor": "white",
            "ticks": ""
           }
          },
          "title": {
           "x": 0.05
          },
          "xaxis": {
           "automargin": true,
           "gridcolor": "white",
           "linecolor": "white",
           "ticks": "",
           "title": {
            "standoff": 15
           },
           "zerolinecolor": "white",
           "zerolinewidth": 2
          },
          "yaxis": {
           "automargin": true,
           "gridcolor": "white",
           "linecolor": "white",
           "ticks": "",
           "title": {
            "standoff": 15
           },
           "zerolinecolor": "white",
           "zerolinewidth": 2
          }
         }
        },
        "title": {
         "font": {
          "size": 28
         },
         "text": "Relative Mean Execution Time for Intersection",
         "x": 0.465,
         "y": 0.975
        },
        "width": 1000,
        "xaxis": {
         "anchor": "y",
         "categoryarray": [
          "Crossing",
          "Contained",
          "Disjoint"
         ],
         "categoryorder": "array",
         "domain": [
          0,
          0.26666666666666666
         ],
         "tickfont": {
          "size": 20
         },
         "title": {
          "text": ""
         }
        },
        "xaxis2": {
         "anchor": "y2",
         "categoryarray": [
          "Crossing",
          "Contained",
          "Disjoint"
         ],
         "categoryorder": "array",
         "domain": [
          0.3666666666666667,
          0.6333333333333333
         ],
         "matches": "x",
         "tickfont": {
          "size": 20
         },
         "title": {
          "text": ""
         }
        },
        "xaxis3": {
         "anchor": "y3",
         "categoryarray": [
          "Crossing",
          "Contained",
          "Disjoint"
         ],
         "categoryorder": "array",
         "domain": [
          0.7333333333333334,
          1
         ],
         "matches": "x",
         "tickfont": {
          "size": 20
         },
         "title": {
          "text": ""
         }
        },
        "xaxis4": {
         "anchor": "y4",
         "domain": [
          0,
          0.26666666666666666
         ],
         "matches": "x",
         "showticklabels": false,
         "tickfont": {
          "size": 20
         },
         "title": {
          "text": ""
         }
        },
        "xaxis5": {
         "anchor": "y5",
         "domain": [
          0.3666666666666667,
          0.6333333333333333
         ],
         "matches": "x",
         "showticklabels": false,
         "tickfont": {
          "size": 20
         },
         "title": {
          "text": ""
         }
        },
        "xaxis6": {
         "anchor": "y6",
         "domain": [
          0.7333333333333334,
          1
         ],
         "matches": "x",
         "showticklabels": false,
         "tickfont": {
          "size": 20
         },
         "title": {
          "text": ""
         }
        },
        "yaxis": {
         "anchor": "x",
         "domain": [
          0,
          0.45
         ],
         "range": [
          0,
          105
         ],
         "showticklabels": true,
         "tickfont": {
          "size": 20
         },
         "title": {
          "text": ""
         }
        },
        "yaxis2": {
         "anchor": "x2",
         "domain": [
          0,
          0.45
         ],
         "range": [
          0,
          105
         ],
         "showticklabels": true,
         "tickfont": {
          "size": 20
         },
         "title": {
          "text": ""
         }
        },
        "yaxis3": {
         "anchor": "x3",
         "domain": [
          0,
          0.45
         ],
         "range": [
          0,
          105
         ],
         "showticklabels": true,
         "tickfont": {
          "size": 20
         },
         "title": {
          "text": ""
         }
        },
        "yaxis4": {
         "anchor": "x4",
         "domain": [
          0.55,
          1
         ],
         "range": [
          0,
          105
         ],
         "showticklabels": true,
         "tickfont": {
          "size": 20
         },
         "title": {
          "text": ""
         }
        },
        "yaxis5": {
         "anchor": "x5",
         "domain": [
          0.55,
          1
         ],
         "range": [
          0,
          105
         ],
         "showticklabels": true,
         "tickfont": {
          "size": 20
         },
         "title": {
          "text": ""
         }
        },
        "yaxis6": {
         "anchor": "x6",
         "domain": [
          0.55,
          1
         ],
         "range": [
          0,
          105
         ],
         "showticklabels": true,
         "tickfont": {
          "size": 20
         },
         "title": {
          "text": ""
         }
        }
       }
      }
     },
     "metadata": {},
     "output_type": "display_data"
    }
   ],
   "source": [
    "total_time_df = stats_df[['context', 'total_time', 'sizes', 'baseline', 'predicate', 'decomp', 'dataset', 'dataset_idx']]\n",
    "plot_total_time_bars_relative(total_time_df, is_predicate=False, size_cat_excl=[], log_scale=False) #"
   ]
  },
  {
   "cell_type": "markdown",
   "metadata": {},
   "source": [
    "#### Mean Execution time"
   ]
  },
  {
   "cell_type": "code",
   "execution_count": 82,
   "metadata": {},
   "outputs": [],
   "source": [
    "def plot_total_time_bars(df, is_predicate=False, size_cat_excl=[], log_scale=True):\n",
    "    df = df[(df['predicate'] == is_predicate)] #(df['sizes'].isin([\"Small/Small\", \"Medium/Medium\", \"Large/Large\"]))]\n",
    "    df = df.groupby(['context', 'baseline', 'sizes']).mean()\n",
    "    display(df)\n",
    "    df.reset_index(inplace=True)\n",
    "    df.replace({\"Fully Inside Other (TRUE)\": \"Contained\", \n",
    "            \"Overlap (FALSE)\": \"Disjoint\",\n",
    "            \"Partial Overlap (TRUE)\": \"Crossing\",\n",
    "            \"Large/Large\": \"L/L\",\n",
    "            \"Small/Large\": \"S/L\",\n",
    "            \"Medium/Large\": \"M/L\",\n",
    "            \"Small/Medium\": \"S/M\",\n",
    "            \"Medium/Medium\": \"M/M\",\n",
    "            \"Small/Small\": \"S/S\",\n",
    "            True: \"Baseline\",\n",
    "            False: \"FPDE\"}, inplace=True)\n",
    "    \n",
    "\n",
    "    intersection_formatting = \"Intersection\" if not is_predicate else \"Is_Intersection\"\n",
    "    fig = px.histogram(df, \n",
    "                       x=\"context\", \n",
    "                       y=\"total_time\", \n",
    "                       facet_col=\"sizes\", \n",
    "                       color=\"baseline\",\n",
    "                       barmode='group',\n",
    "                       log_y=False, \n",
    "                       facet_col_spacing=0.1, \n",
    "                       histfunc=\"avg\", \n",
    "                       title=f\"Execution Time for {intersection_formatting} in Different Contexts & Sizes\",\n",
    "                       labels=dict(sizes=\"Geometry Sizes\", context=\"Context\", baseline=\"Algorithm\", Stage=\"Stage: \"),\n",
    "                       facet_col_wrap=3,\n",
    "                       facet_row_spacing=0.1,\n",
    "                       height=1000,\n",
    "                       width=1000,\n",
    "                       color_discrete_map={\n",
    "                            \"Baseline\": 'rgb(169,234,184)',\n",
    "                            \"FPDE\": 'rgb(255,183,180)',\n",
    "                        },\n",
    "                        category_orders={\"context\": [\"Crossing\", \"Contained\", \"Disjoint\"],}\n",
    "                       )\n",
    "    fig.for_each_annotation(lambda a: a.update(text= \"  \" + a.text.split(\"=\")[1]))\n",
    "\n",
    "    fig.update_annotations(font=dict(size=20))\n",
    " \n",
    "\n",
    "    for axis in fig.layout:\n",
    "        if type(fig.layout[axis]) == objs.layout.XAxis:\n",
    "            fig.layout[axis].title.text = ''\n",
    "\n",
    "    for axis in fig.layout:\n",
    "        if type(fig.layout[axis]) == objs.layout.YAxis:\n",
    "            fig.layout[axis].title.text = '' \n",
    "\n",
    "    fig.add_annotation(\n",
    "        dict(\n",
    "            x=0.5,\n",
    "            y=-0.1,  # adjust as needed\n",
    "            showarrow=False,\n",
    "            text=\"Intersection Context\",\n",
    "            xref=\"paper\",\n",
    "            yref=\"paper\",\n",
    "            font=dict(size=24),\n",
    "            xanchor=\"center\", \n",
    "            yanchor=\"top\",\n",
    "            textangle=0,  # to rotate the text for the vertical y-axis\n",
    "\n",
    "        )\n",
    "    )\n",
    "\n",
    "    fig.add_annotation(\n",
    "    dict(\n",
    "        x=-0.08,  # adjust as needed\n",
    "        y=0.5,\n",
    "        showarrow=False,\n",
    "        text=\"Mean Execution Time (s)\",\n",
    "        textangle=-90,\n",
    "        xref=\"paper\",\n",
    "        yref=\"paper\",\n",
    "        font=dict(size=24),\n",
    "        xanchor=\"center\",\n",
    "        yanchor=\"middle\"\n",
    "    )\n",
    ")\n",
    "\n",
    "\n",
    "\n",
    "    #fig.for_each_yaxis(lambda yaxis: yaxis.update(showticklabels=True))\n",
    "    fig.update_yaxes(matches=None, showticklabels=True,  tickfont=dict(size=16))\n",
    "    fig.update_xaxes(tickfont=dict(size=16))\n",
    "    #fig.update_traces(texttemplate='%{text:.2}%', textposition='inside', textfont=dict(color='white'))\n",
    "    fig.add_annotation(\n",
    "    dict(\n",
    "        x=0.5,\n",
    "        y=1.08,  # adjust as needed\n",
    "        showarrow=False,\n",
    "        text=\"Geometry Size\",\n",
    "        xref=\"paper\",\n",
    "        yref=\"paper\",\n",
    "        font=dict(size=24),\n",
    "        xanchor=\"center\", \n",
    "        yanchor=\"top\"\n",
    "    ))\n",
    "    fig.update_xaxes(tickfont=dict(size=20))\n",
    "    fig.update_yaxes(tickfont=dict(size=20))\n",
    "\n",
    "\n",
    "    \n",
    "    fig.update_layout(barmode=\"group\",\n",
    "                      title_x=0.5,\n",
    "                      title_y=0.975,\n",
    "                      width=1000, \n",
    "                      height=1000, \n",
    "                      \n",
    "                      legend=dict(\n",
    "                            yanchor=\"top\",\n",
    "                            y=1.15,\n",
    "                            xanchor=\"left\",\n",
    "                            x=0.95,\n",
    "                           #orientation=\"h\",\n",
    "                            font=dict(size=20),\n",
    "                        ),\n",
    "                        title=dict(\n",
    "                            text=f'Mean Execution Time for Intersection',\n",
    "                            font=dict(size=28)\n",
    "                            )\n",
    "                        )\n",
    "    \n",
    " \n",
    "    fig.show()\n",
    "    fig.write_image(\"fig3.svg\")\n"
   ]
  },
  {
   "cell_type": "code",
   "execution_count": 84,
   "metadata": {},
   "outputs": [
    {
     "data": {
      "text/html": [
       "<div>\n",
       "<style scoped>\n",
       "    .dataframe tbody tr th:only-of-type {\n",
       "        vertical-align: middle;\n",
       "    }\n",
       "\n",
       "    .dataframe tbody tr th {\n",
       "        vertical-align: top;\n",
       "    }\n",
       "\n",
       "    .dataframe thead th {\n",
       "        text-align: right;\n",
       "    }\n",
       "</style>\n",
       "<table border=\"1\" class=\"dataframe\">\n",
       "  <thead>\n",
       "    <tr style=\"text-align: right;\">\n",
       "      <th></th>\n",
       "      <th></th>\n",
       "      <th></th>\n",
       "      <th>total_time</th>\n",
       "      <th>predicate</th>\n",
       "      <th>decomp</th>\n",
       "    </tr>\n",
       "    <tr>\n",
       "      <th>context</th>\n",
       "      <th>baseline</th>\n",
       "      <th>sizes</th>\n",
       "      <th></th>\n",
       "      <th></th>\n",
       "      <th></th>\n",
       "    </tr>\n",
       "  </thead>\n",
       "  <tbody>\n",
       "    <tr>\n",
       "      <th rowspan=\"12\" valign=\"top\">Fully Inside Other (TRUE)</th>\n",
       "      <th rowspan=\"6\" valign=\"top\">False</th>\n",
       "      <th>Large/Large</th>\n",
       "      <td>0.019645</td>\n",
       "      <td>0.0</td>\n",
       "      <td>0.006470</td>\n",
       "    </tr>\n",
       "    <tr>\n",
       "      <th>Medium/Large</th>\n",
       "      <td>0.002743</td>\n",
       "      <td>0.0</td>\n",
       "      <td>0.001843</td>\n",
       "    </tr>\n",
       "    <tr>\n",
       "      <th>Medium/Medium</th>\n",
       "      <td>0.002006</td>\n",
       "      <td>0.0</td>\n",
       "      <td>0.000677</td>\n",
       "    </tr>\n",
       "    <tr>\n",
       "      <th>Small/Large</th>\n",
       "      <td>0.002183</td>\n",
       "      <td>0.0</td>\n",
       "      <td>0.001750</td>\n",
       "    </tr>\n",
       "    <tr>\n",
       "      <th>Small/Medium</th>\n",
       "      <td>0.000756</td>\n",
       "      <td>0.0</td>\n",
       "      <td>0.000290</td>\n",
       "    </tr>\n",
       "    <tr>\n",
       "      <th>Small/Small</th>\n",
       "      <td>0.000689</td>\n",
       "      <td>0.0</td>\n",
       "      <td>0.000248</td>\n",
       "    </tr>\n",
       "    <tr>\n",
       "      <th rowspan=\"6\" valign=\"top\">True</th>\n",
       "      <th>Large/Large</th>\n",
       "      <td>0.050015</td>\n",
       "      <td>0.0</td>\n",
       "      <td>0.017129</td>\n",
       "    </tr>\n",
       "    <tr>\n",
       "      <th>Medium/Large</th>\n",
       "      <td>0.027894</td>\n",
       "      <td>0.0</td>\n",
       "      <td>0.026159</td>\n",
       "    </tr>\n",
       "    <tr>\n",
       "      <th>Medium/Medium</th>\n",
       "      <td>0.002332</td>\n",
       "      <td>0.0</td>\n",
       "      <td>0.001000</td>\n",
       "    </tr>\n",
       "    <tr>\n",
       "      <th>Small/Large</th>\n",
       "      <td>0.028982</td>\n",
       "      <td>0.0</td>\n",
       "      <td>0.027926</td>\n",
       "    </tr>\n",
       "    <tr>\n",
       "      <th>Small/Medium</th>\n",
       "      <td>0.001242</td>\n",
       "      <td>0.0</td>\n",
       "      <td>0.000692</td>\n",
       "    </tr>\n",
       "    <tr>\n",
       "      <th>Small/Small</th>\n",
       "      <td>0.000839</td>\n",
       "      <td>0.0</td>\n",
       "      <td>0.000372</td>\n",
       "    </tr>\n",
       "    <tr>\n",
       "      <th rowspan=\"12\" valign=\"top\">Overlap (FALSE)</th>\n",
       "      <th rowspan=\"6\" valign=\"top\">False</th>\n",
       "      <th>Large/Large</th>\n",
       "      <td>0.000955</td>\n",
       "      <td>0.0</td>\n",
       "      <td>0.000532</td>\n",
       "    </tr>\n",
       "    <tr>\n",
       "      <th>Medium/Large</th>\n",
       "      <td>0.000959</td>\n",
       "      <td>0.0</td>\n",
       "      <td>0.000590</td>\n",
       "    </tr>\n",
       "    <tr>\n",
       "      <th>Medium/Medium</th>\n",
       "      <td>0.000610</td>\n",
       "      <td>0.0</td>\n",
       "      <td>0.000265</td>\n",
       "    </tr>\n",
       "    <tr>\n",
       "      <th>Small/Large</th>\n",
       "      <td>0.000914</td>\n",
       "      <td>0.0</td>\n",
       "      <td>0.000532</td>\n",
       "    </tr>\n",
       "    <tr>\n",
       "      <th>Small/Medium</th>\n",
       "      <td>0.000523</td>\n",
       "      <td>0.0</td>\n",
       "      <td>0.000211</td>\n",
       "    </tr>\n",
       "    <tr>\n",
       "      <th>Small/Small</th>\n",
       "      <td>0.000396</td>\n",
       "      <td>0.0</td>\n",
       "      <td>0.000155</td>\n",
       "    </tr>\n",
       "    <tr>\n",
       "      <th rowspan=\"6\" valign=\"top\">True</th>\n",
       "      <th>Large/Large</th>\n",
       "      <td>0.009919</td>\n",
       "      <td>0.0</td>\n",
       "      <td>0.008915</td>\n",
       "    </tr>\n",
       "    <tr>\n",
       "      <th>Medium/Large</th>\n",
       "      <td>0.006688</td>\n",
       "      <td>0.0</td>\n",
       "      <td>0.006037</td>\n",
       "    </tr>\n",
       "    <tr>\n",
       "      <th>Medium/Medium</th>\n",
       "      <td>0.001178</td>\n",
       "      <td>0.0</td>\n",
       "      <td>0.000804</td>\n",
       "    </tr>\n",
       "    <tr>\n",
       "      <th>Small/Large</th>\n",
       "      <td>0.006515</td>\n",
       "      <td>0.0</td>\n",
       "      <td>0.005807</td>\n",
       "    </tr>\n",
       "    <tr>\n",
       "      <th>Small/Medium</th>\n",
       "      <td>0.000853</td>\n",
       "      <td>0.0</td>\n",
       "      <td>0.000524</td>\n",
       "    </tr>\n",
       "    <tr>\n",
       "      <th>Small/Small</th>\n",
       "      <td>0.000475</td>\n",
       "      <td>0.0</td>\n",
       "      <td>0.000238</td>\n",
       "    </tr>\n",
       "    <tr>\n",
       "      <th rowspan=\"12\" valign=\"top\">Partial Overlap (TRUE)</th>\n",
       "      <th rowspan=\"6\" valign=\"top\">False</th>\n",
       "      <th>Large/Large</th>\n",
       "      <td>0.007491</td>\n",
       "      <td>0.0</td>\n",
       "      <td>0.001031</td>\n",
       "    </tr>\n",
       "    <tr>\n",
       "      <th>Medium/Large</th>\n",
       "      <td>0.002827</td>\n",
       "      <td>0.0</td>\n",
       "      <td>0.000511</td>\n",
       "    </tr>\n",
       "    <tr>\n",
       "      <th>Medium/Medium</th>\n",
       "      <td>0.002106</td>\n",
       "      <td>0.0</td>\n",
       "      <td>0.000344</td>\n",
       "    </tr>\n",
       "    <tr>\n",
       "      <th>Small/Large</th>\n",
       "      <td>0.002409</td>\n",
       "      <td>0.0</td>\n",
       "      <td>0.000807</td>\n",
       "    </tr>\n",
       "    <tr>\n",
       "      <th>Small/Medium</th>\n",
       "      <td>0.001496</td>\n",
       "      <td>0.0</td>\n",
       "      <td>0.000255</td>\n",
       "    </tr>\n",
       "    <tr>\n",
       "      <th>Small/Small</th>\n",
       "      <td>0.001025</td>\n",
       "      <td>0.0</td>\n",
       "      <td>0.000165</td>\n",
       "    </tr>\n",
       "    <tr>\n",
       "      <th rowspan=\"6\" valign=\"top\">True</th>\n",
       "      <th>Large/Large</th>\n",
       "      <td>0.021812</td>\n",
       "      <td>0.0</td>\n",
       "      <td>0.006639</td>\n",
       "    </tr>\n",
       "    <tr>\n",
       "      <th>Medium/Large</th>\n",
       "      <td>0.005627</td>\n",
       "      <td>0.0</td>\n",
       "      <td>0.002454</td>\n",
       "    </tr>\n",
       "    <tr>\n",
       "      <th>Medium/Medium</th>\n",
       "      <td>0.002756</td>\n",
       "      <td>0.0</td>\n",
       "      <td>0.000767</td>\n",
       "    </tr>\n",
       "    <tr>\n",
       "      <th>Small/Large</th>\n",
       "      <td>0.036365</td>\n",
       "      <td>0.0</td>\n",
       "      <td>0.034070</td>\n",
       "    </tr>\n",
       "    <tr>\n",
       "      <th>Small/Medium</th>\n",
       "      <td>0.001868</td>\n",
       "      <td>0.0</td>\n",
       "      <td>0.000564</td>\n",
       "    </tr>\n",
       "    <tr>\n",
       "      <th>Small/Small</th>\n",
       "      <td>0.001157</td>\n",
       "      <td>0.0</td>\n",
       "      <td>0.000270</td>\n",
       "    </tr>\n",
       "  </tbody>\n",
       "</table>\n",
       "</div>"
      ],
      "text/plain": [
       "                                                  total_time  predicate  \\\n",
       "context                   baseline sizes                                  \n",
       "Fully Inside Other (TRUE) False    Large/Large      0.019645        0.0   \n",
       "                                   Medium/Large     0.002743        0.0   \n",
       "                                   Medium/Medium    0.002006        0.0   \n",
       "                                   Small/Large      0.002183        0.0   \n",
       "                                   Small/Medium     0.000756        0.0   \n",
       "                                   Small/Small      0.000689        0.0   \n",
       "                          True     Large/Large      0.050015        0.0   \n",
       "                                   Medium/Large     0.027894        0.0   \n",
       "                                   Medium/Medium    0.002332        0.0   \n",
       "                                   Small/Large      0.028982        0.0   \n",
       "                                   Small/Medium     0.001242        0.0   \n",
       "                                   Small/Small      0.000839        0.0   \n",
       "Overlap (FALSE)           False    Large/Large      0.000955        0.0   \n",
       "                                   Medium/Large     0.000959        0.0   \n",
       "                                   Medium/Medium    0.000610        0.0   \n",
       "                                   Small/Large      0.000914        0.0   \n",
       "                                   Small/Medium     0.000523        0.0   \n",
       "                                   Small/Small      0.000396        0.0   \n",
       "                          True     Large/Large      0.009919        0.0   \n",
       "                                   Medium/Large     0.006688        0.0   \n",
       "                                   Medium/Medium    0.001178        0.0   \n",
       "                                   Small/Large      0.006515        0.0   \n",
       "                                   Small/Medium     0.000853        0.0   \n",
       "                                   Small/Small      0.000475        0.0   \n",
       "Partial Overlap (TRUE)    False    Large/Large      0.007491        0.0   \n",
       "                                   Medium/Large     0.002827        0.0   \n",
       "                                   Medium/Medium    0.002106        0.0   \n",
       "                                   Small/Large      0.002409        0.0   \n",
       "                                   Small/Medium     0.001496        0.0   \n",
       "                                   Small/Small      0.001025        0.0   \n",
       "                          True     Large/Large      0.021812        0.0   \n",
       "                                   Medium/Large     0.005627        0.0   \n",
       "                                   Medium/Medium    0.002756        0.0   \n",
       "                                   Small/Large      0.036365        0.0   \n",
       "                                   Small/Medium     0.001868        0.0   \n",
       "                                   Small/Small      0.001157        0.0   \n",
       "\n",
       "                                                    decomp  \n",
       "context                   baseline sizes                    \n",
       "Fully Inside Other (TRUE) False    Large/Large    0.006470  \n",
       "                                   Medium/Large   0.001843  \n",
       "                                   Medium/Medium  0.000677  \n",
       "                                   Small/Large    0.001750  \n",
       "                                   Small/Medium   0.000290  \n",
       "                                   Small/Small    0.000248  \n",
       "                          True     Large/Large    0.017129  \n",
       "                                   Medium/Large   0.026159  \n",
       "                                   Medium/Medium  0.001000  \n",
       "                                   Small/Large    0.027926  \n",
       "                                   Small/Medium   0.000692  \n",
       "                                   Small/Small    0.000372  \n",
       "Overlap (FALSE)           False    Large/Large    0.000532  \n",
       "                                   Medium/Large   0.000590  \n",
       "                                   Medium/Medium  0.000265  \n",
       "                                   Small/Large    0.000532  \n",
       "                                   Small/Medium   0.000211  \n",
       "                                   Small/Small    0.000155  \n",
       "                          True     Large/Large    0.008915  \n",
       "                                   Medium/Large   0.006037  \n",
       "                                   Medium/Medium  0.000804  \n",
       "                                   Small/Large    0.005807  \n",
       "                                   Small/Medium   0.000524  \n",
       "                                   Small/Small    0.000238  \n",
       "Partial Overlap (TRUE)    False    Large/Large    0.001031  \n",
       "                                   Medium/Large   0.000511  \n",
       "                                   Medium/Medium  0.000344  \n",
       "                                   Small/Large    0.000807  \n",
       "                                   Small/Medium   0.000255  \n",
       "                                   Small/Small    0.000165  \n",
       "                          True     Large/Large    0.006639  \n",
       "                                   Medium/Large   0.002454  \n",
       "                                   Medium/Medium  0.000767  \n",
       "                                   Small/Large    0.034070  \n",
       "                                   Small/Medium   0.000564  \n",
       "                                   Small/Small    0.000270  "
      ]
     },
     "metadata": {},
     "output_type": "display_data"
    },
    {
     "data": {
      "application/vnd.plotly.v1+json": {
       "config": {
        "plotlyServerURL": "https://plot.ly"
       },
       "data": [
        {
         "alignmentgroup": "True",
         "bingroup": "x",
         "histfunc": "avg",
         "hovertemplate": "Algorithm=FPDE<br>Geometry Sizes=L/L<br>Context=%{x}<br>avg of total_time=%{y}<extra></extra>",
         "legendgroup": "FPDE",
         "marker": {
          "color": "rgb(255,183,180)",
          "pattern": {
           "shape": ""
          }
         },
         "name": "FPDE",
         "offsetgroup": "FPDE",
         "orientation": "v",
         "showlegend": true,
         "type": "histogram",
         "x": [
          "Contained",
          "Disjoint",
          "Crossing"
         ],
         "xaxis": "x4",
         "y": [
          0.019644683661827787,
          0.0009547222629338938,
          0.007491234874922372
         ],
         "yaxis": "y4"
        },
        {
         "alignmentgroup": "True",
         "bingroup": "x",
         "histfunc": "avg",
         "hovertemplate": "Algorithm=FPDE<br>Geometry Sizes=M/L<br>Context=%{x}<br>avg of total_time=%{y}<extra></extra>",
         "legendgroup": "FPDE",
         "marker": {
          "color": "rgb(255,183,180)",
          "pattern": {
           "shape": ""
          }
         },
         "name": "FPDE",
         "offsetgroup": "FPDE",
         "orientation": "v",
         "showlegend": false,
         "type": "histogram",
         "x": [
          "Contained",
          "Disjoint",
          "Crossing"
         ],
         "xaxis": "x5",
         "y": [
          0.002742941020146049,
          0.000958707344196626,
          0.002827138975016858
         ],
         "yaxis": "y5"
        },
        {
         "alignmentgroup": "True",
         "bingroup": "x",
         "histfunc": "avg",
         "hovertemplate": "Algorithm=FPDE<br>Geometry Sizes=M/M<br>Context=%{x}<br>avg of total_time=%{y}<extra></extra>",
         "legendgroup": "FPDE",
         "marker": {
          "color": "rgb(255,183,180)",
          "pattern": {
           "shape": ""
          }
         },
         "name": "FPDE",
         "offsetgroup": "FPDE",
         "orientation": "v",
         "showlegend": false,
         "type": "histogram",
         "x": [
          "Contained",
          "Disjoint",
          "Crossing"
         ],
         "xaxis": "x6",
         "y": [
          0.002006115506089753,
          0.0006101022138277507,
          0.002106222846403966
         ],
         "yaxis": "y6"
        },
        {
         "alignmentgroup": "True",
         "bingroup": "x",
         "histfunc": "avg",
         "hovertemplate": "Algorithm=FPDE<br>Geometry Sizes=S/L<br>Context=%{x}<br>avg of total_time=%{y}<extra></extra>",
         "legendgroup": "FPDE",
         "marker": {
          "color": "rgb(255,183,180)",
          "pattern": {
           "shape": ""
          }
         },
         "name": "FPDE",
         "offsetgroup": "FPDE",
         "orientation": "v",
         "showlegend": false,
         "type": "histogram",
         "x": [
          "Contained",
          "Disjoint",
          "Crossing"
         ],
         "xaxis": "x",
         "y": [
          0.002183379852427299,
          0.0009139227838593686,
          0.002408713150097947
         ],
         "yaxis": "y"
        },
        {
         "alignmentgroup": "True",
         "bingroup": "x",
         "histfunc": "avg",
         "hovertemplate": "Algorithm=FPDE<br>Geometry Sizes=S/M<br>Context=%{x}<br>avg of total_time=%{y}<extra></extra>",
         "legendgroup": "FPDE",
         "marker": {
          "color": "rgb(255,183,180)",
          "pattern": {
           "shape": ""
          }
         },
         "name": "FPDE",
         "offsetgroup": "FPDE",
         "orientation": "v",
         "showlegend": false,
         "type": "histogram",
         "x": [
          "Contained",
          "Disjoint",
          "Crossing"
         ],
         "xaxis": "x2",
         "y": [
          0.0007558360915216529,
          0.0005234070301214057,
          0.0014959405878690257
         ],
         "yaxis": "y2"
        },
        {
         "alignmentgroup": "True",
         "bingroup": "x",
         "histfunc": "avg",
         "hovertemplate": "Algorithm=FPDE<br>Geometry Sizes=S/S<br>Context=%{x}<br>avg of total_time=%{y}<extra></extra>",
         "legendgroup": "FPDE",
         "marker": {
          "color": "rgb(255,183,180)",
          "pattern": {
           "shape": ""
          }
         },
         "name": "FPDE",
         "offsetgroup": "FPDE",
         "orientation": "v",
         "showlegend": false,
         "type": "histogram",
         "x": [
          "Contained",
          "Disjoint",
          "Crossing"
         ],
         "xaxis": "x3",
         "y": [
          0.0006886964291532676,
          0.00039558689268501024,
          0.0010254153907273279
         ],
         "yaxis": "y3"
        },
        {
         "alignmentgroup": "True",
         "bingroup": "x",
         "histfunc": "avg",
         "hovertemplate": "Algorithm=Baseline<br>Geometry Sizes=L/L<br>Context=%{x}<br>avg of total_time=%{y}<extra></extra>",
         "legendgroup": "Baseline",
         "marker": {
          "color": "rgb(169,234,184)",
          "pattern": {
           "shape": ""
          }
         },
         "name": "Baseline",
         "offsetgroup": "Baseline",
         "orientation": "v",
         "showlegend": true,
         "type": "histogram",
         "x": [
          "Contained",
          "Disjoint",
          "Crossing"
         ],
         "xaxis": "x4",
         "y": [
          0.05001540033912131,
          0.009919312281978862,
          0.021812350566764546
         ],
         "yaxis": "y4"
        },
        {
         "alignmentgroup": "True",
         "bingroup": "x",
         "histfunc": "avg",
         "hovertemplate": "Algorithm=Baseline<br>Geometry Sizes=M/L<br>Context=%{x}<br>avg of total_time=%{y}<extra></extra>",
         "legendgroup": "Baseline",
         "marker": {
          "color": "rgb(169,234,184)",
          "pattern": {
           "shape": ""
          }
         },
         "name": "Baseline",
         "offsetgroup": "Baseline",
         "orientation": "v",
         "showlegend": false,
         "type": "histogram",
         "x": [
          "Contained",
          "Disjoint",
          "Crossing"
         ],
         "xaxis": "x5",
         "y": [
          0.027893740691188433,
          0.006688058120671003,
          0.0056271278199138035
         ],
         "yaxis": "y5"
        },
        {
         "alignmentgroup": "True",
         "bingroup": "x",
         "histfunc": "avg",
         "hovertemplate": "Algorithm=Baseline<br>Geometry Sizes=M/M<br>Context=%{x}<br>avg of total_time=%{y}<extra></extra>",
         "legendgroup": "Baseline",
         "marker": {
          "color": "rgb(169,234,184)",
          "pattern": {
           "shape": ""
          }
         },
         "name": "Baseline",
         "offsetgroup": "Baseline",
         "orientation": "v",
         "showlegend": false,
         "type": "histogram",
         "x": [
          "Contained",
          "Disjoint",
          "Crossing"
         ],
         "xaxis": "x6",
         "y": [
          0.0023315711758560317,
          0.0011775140742088044,
          0.002756271523554904
         ],
         "yaxis": "y6"
        },
        {
         "alignmentgroup": "True",
         "bingroup": "x",
         "histfunc": "avg",
         "hovertemplate": "Algorithm=Baseline<br>Geometry Sizes=S/L<br>Context=%{x}<br>avg of total_time=%{y}<extra></extra>",
         "legendgroup": "Baseline",
         "marker": {
          "color": "rgb(169,234,184)",
          "pattern": {
           "shape": ""
          }
         },
         "name": "Baseline",
         "offsetgroup": "Baseline",
         "orientation": "v",
         "showlegend": false,
         "type": "histogram",
         "x": [
          "Contained",
          "Disjoint",
          "Crossing"
         ],
         "xaxis": "x",
         "y": [
          0.028981566075423765,
          0.0065146117580643145,
          0.03636543915736217
         ],
         "yaxis": "y"
        },
        {
         "alignmentgroup": "True",
         "bingroup": "x",
         "histfunc": "avg",
         "hovertemplate": "Algorithm=Baseline<br>Geometry Sizes=S/M<br>Context=%{x}<br>avg of total_time=%{y}<extra></extra>",
         "legendgroup": "Baseline",
         "marker": {
          "color": "rgb(169,234,184)",
          "pattern": {
           "shape": ""
          }
         },
         "name": "Baseline",
         "offsetgroup": "Baseline",
         "orientation": "v",
         "showlegend": false,
         "type": "histogram",
         "x": [
          "Contained",
          "Disjoint",
          "Crossing"
         ],
         "xaxis": "x2",
         "y": [
          0.0012423801879046415,
          0.0008525563887711324,
          0.0018682069556580896
         ],
         "yaxis": "y2"
        },
        {
         "alignmentgroup": "True",
         "bingroup": "x",
         "histfunc": "avg",
         "hovertemplate": "Algorithm=Baseline<br>Geometry Sizes=S/S<br>Context=%{x}<br>avg of total_time=%{y}<extra></extra>",
         "legendgroup": "Baseline",
         "marker": {
          "color": "rgb(169,234,184)",
          "pattern": {
           "shape": ""
          }
         },
         "name": "Baseline",
         "offsetgroup": "Baseline",
         "orientation": "v",
         "showlegend": false,
         "type": "histogram",
         "x": [
          "Contained",
          "Disjoint",
          "Crossing"
         ],
         "xaxis": "x3",
         "y": [
          0.0008388273473204226,
          0.00047528981695971645,
          0.0011568617424084992
         ],
         "yaxis": "y3"
        }
       ],
       "layout": {
        "annotations": [
         {
          "font": {
           "size": 20
          },
          "showarrow": false,
          "text": "  S/L",
          "x": 0.13333333333333333,
          "xanchor": "center",
          "xref": "paper",
          "y": 0.45,
          "yanchor": "bottom",
          "yref": "paper"
         },
         {
          "font": {
           "size": 20
          },
          "showarrow": false,
          "text": "  S/M",
          "x": 0.5,
          "xanchor": "center",
          "xref": "paper",
          "y": 0.45,
          "yanchor": "bottom",
          "yref": "paper"
         },
         {
          "font": {
           "size": 20
          },
          "showarrow": false,
          "text": "  S/S",
          "x": 0.8666666666666667,
          "xanchor": "center",
          "xref": "paper",
          "y": 0.45,
          "yanchor": "bottom",
          "yref": "paper"
         },
         {
          "font": {
           "size": 20
          },
          "showarrow": false,
          "text": "  L/L",
          "x": 0.13333333333333333,
          "xanchor": "center",
          "xref": "paper",
          "y": 1,
          "yanchor": "bottom",
          "yref": "paper"
         },
         {
          "font": {
           "size": 20
          },
          "showarrow": false,
          "text": "  M/L",
          "x": 0.5,
          "xanchor": "center",
          "xref": "paper",
          "y": 1,
          "yanchor": "bottom",
          "yref": "paper"
         },
         {
          "font": {
           "size": 20
          },
          "showarrow": false,
          "text": "  M/M",
          "x": 0.8666666666666667,
          "xanchor": "center",
          "xref": "paper",
          "y": 1,
          "yanchor": "bottom",
          "yref": "paper"
         },
         {
          "font": {
           "size": 24
          },
          "showarrow": false,
          "text": "Intersection Context",
          "textangle": 0,
          "x": 0.5,
          "xanchor": "center",
          "xref": "paper",
          "y": -0.1,
          "yanchor": "top",
          "yref": "paper"
         },
         {
          "font": {
           "size": 24
          },
          "showarrow": false,
          "text": "Mean Execution Time (s)",
          "textangle": -90,
          "x": -0.08,
          "xanchor": "center",
          "xref": "paper",
          "y": 0.5,
          "yanchor": "middle",
          "yref": "paper"
         },
         {
          "font": {
           "size": 24
          },
          "showarrow": false,
          "text": "Geometry Size",
          "x": 0.5,
          "xanchor": "center",
          "xref": "paper",
          "y": 1.08,
          "yanchor": "top",
          "yref": "paper"
         }
        ],
        "barmode": "group",
        "height": 1000,
        "legend": {
         "font": {
          "size": 20
         },
         "title": {
          "text": "Algorithm"
         },
         "tracegroupgap": 0,
         "x": 0.95,
         "xanchor": "left",
         "y": 1.15,
         "yanchor": "top"
        },
        "template": {
         "data": {
          "bar": [
           {
            "error_x": {
             "color": "#2a3f5f"
            },
            "error_y": {
             "color": "#2a3f5f"
            },
            "marker": {
             "line": {
              "color": "#E5ECF6",
              "width": 0.5
             },
             "pattern": {
              "fillmode": "overlay",
              "size": 10,
              "solidity": 0.2
             }
            },
            "type": "bar"
           }
          ],
          "barpolar": [
           {
            "marker": {
             "line": {
              "color": "#E5ECF6",
              "width": 0.5
             },
             "pattern": {
              "fillmode": "overlay",
              "size": 10,
              "solidity": 0.2
             }
            },
            "type": "barpolar"
           }
          ],
          "carpet": [
           {
            "aaxis": {
             "endlinecolor": "#2a3f5f",
             "gridcolor": "white",
             "linecolor": "white",
             "minorgridcolor": "white",
             "startlinecolor": "#2a3f5f"
            },
            "baxis": {
             "endlinecolor": "#2a3f5f",
             "gridcolor": "white",
             "linecolor": "white",
             "minorgridcolor": "white",
             "startlinecolor": "#2a3f5f"
            },
            "type": "carpet"
           }
          ],
          "choropleth": [
           {
            "colorbar": {
             "outlinewidth": 0,
             "ticks": ""
            },
            "type": "choropleth"
           }
          ],
          "contour": [
           {
            "colorbar": {
             "outlinewidth": 0,
             "ticks": ""
            },
            "colorscale": [
             [
              0,
              "#0d0887"
             ],
             [
              0.1111111111111111,
              "#46039f"
             ],
             [
              0.2222222222222222,
              "#7201a8"
             ],
             [
              0.3333333333333333,
              "#9c179e"
             ],
             [
              0.4444444444444444,
              "#bd3786"
             ],
             [
              0.5555555555555556,
              "#d8576b"
             ],
             [
              0.6666666666666666,
              "#ed7953"
             ],
             [
              0.7777777777777778,
              "#fb9f3a"
             ],
             [
              0.8888888888888888,
              "#fdca26"
             ],
             [
              1,
              "#f0f921"
             ]
            ],
            "type": "contour"
           }
          ],
          "contourcarpet": [
           {
            "colorbar": {
             "outlinewidth": 0,
             "ticks": ""
            },
            "type": "contourcarpet"
           }
          ],
          "heatmap": [
           {
            "colorbar": {
             "outlinewidth": 0,
             "ticks": ""
            },
            "colorscale": [
             [
              0,
              "#0d0887"
             ],
             [
              0.1111111111111111,
              "#46039f"
             ],
             [
              0.2222222222222222,
              "#7201a8"
             ],
             [
              0.3333333333333333,
              "#9c179e"
             ],
             [
              0.4444444444444444,
              "#bd3786"
             ],
             [
              0.5555555555555556,
              "#d8576b"
             ],
             [
              0.6666666666666666,
              "#ed7953"
             ],
             [
              0.7777777777777778,
              "#fb9f3a"
             ],
             [
              0.8888888888888888,
              "#fdca26"
             ],
             [
              1,
              "#f0f921"
             ]
            ],
            "type": "heatmap"
           }
          ],
          "heatmapgl": [
           {
            "colorbar": {
             "outlinewidth": 0,
             "ticks": ""
            },
            "colorscale": [
             [
              0,
              "#0d0887"
             ],
             [
              0.1111111111111111,
              "#46039f"
             ],
             [
              0.2222222222222222,
              "#7201a8"
             ],
             [
              0.3333333333333333,
              "#9c179e"
             ],
             [
              0.4444444444444444,
              "#bd3786"
             ],
             [
              0.5555555555555556,
              "#d8576b"
             ],
             [
              0.6666666666666666,
              "#ed7953"
             ],
             [
              0.7777777777777778,
              "#fb9f3a"
             ],
             [
              0.8888888888888888,
              "#fdca26"
             ],
             [
              1,
              "#f0f921"
             ]
            ],
            "type": "heatmapgl"
           }
          ],
          "histogram": [
           {
            "marker": {
             "pattern": {
              "fillmode": "overlay",
              "size": 10,
              "solidity": 0.2
             }
            },
            "type": "histogram"
           }
          ],
          "histogram2d": [
           {
            "colorbar": {
             "outlinewidth": 0,
             "ticks": ""
            },
            "colorscale": [
             [
              0,
              "#0d0887"
             ],
             [
              0.1111111111111111,
              "#46039f"
             ],
             [
              0.2222222222222222,
              "#7201a8"
             ],
             [
              0.3333333333333333,
              "#9c179e"
             ],
             [
              0.4444444444444444,
              "#bd3786"
             ],
             [
              0.5555555555555556,
              "#d8576b"
             ],
             [
              0.6666666666666666,
              "#ed7953"
             ],
             [
              0.7777777777777778,
              "#fb9f3a"
             ],
             [
              0.8888888888888888,
              "#fdca26"
             ],
             [
              1,
              "#f0f921"
             ]
            ],
            "type": "histogram2d"
           }
          ],
          "histogram2dcontour": [
           {
            "colorbar": {
             "outlinewidth": 0,
             "ticks": ""
            },
            "colorscale": [
             [
              0,
              "#0d0887"
             ],
             [
              0.1111111111111111,
              "#46039f"
             ],
             [
              0.2222222222222222,
              "#7201a8"
             ],
             [
              0.3333333333333333,
              "#9c179e"
             ],
             [
              0.4444444444444444,
              "#bd3786"
             ],
             [
              0.5555555555555556,
              "#d8576b"
             ],
             [
              0.6666666666666666,
              "#ed7953"
             ],
             [
              0.7777777777777778,
              "#fb9f3a"
             ],
             [
              0.8888888888888888,
              "#fdca26"
             ],
             [
              1,
              "#f0f921"
             ]
            ],
            "type": "histogram2dcontour"
           }
          ],
          "mesh3d": [
           {
            "colorbar": {
             "outlinewidth": 0,
             "ticks": ""
            },
            "type": "mesh3d"
           }
          ],
          "parcoords": [
           {
            "line": {
             "colorbar": {
              "outlinewidth": 0,
              "ticks": ""
             }
            },
            "type": "parcoords"
           }
          ],
          "pie": [
           {
            "automargin": true,
            "type": "pie"
           }
          ],
          "scatter": [
           {
            "fillpattern": {
             "fillmode": "overlay",
             "size": 10,
             "solidity": 0.2
            },
            "type": "scatter"
           }
          ],
          "scatter3d": [
           {
            "line": {
             "colorbar": {
              "outlinewidth": 0,
              "ticks": ""
             }
            },
            "marker": {
             "colorbar": {
              "outlinewidth": 0,
              "ticks": ""
             }
            },
            "type": "scatter3d"
           }
          ],
          "scattercarpet": [
           {
            "marker": {
             "colorbar": {
              "outlinewidth": 0,
              "ticks": ""
             }
            },
            "type": "scattercarpet"
           }
          ],
          "scattergeo": [
           {
            "marker": {
             "colorbar": {
              "outlinewidth": 0,
              "ticks": ""
             }
            },
            "type": "scattergeo"
           }
          ],
          "scattergl": [
           {
            "marker": {
             "colorbar": {
              "outlinewidth": 0,
              "ticks": ""
             }
            },
            "type": "scattergl"
           }
          ],
          "scattermapbox": [
           {
            "marker": {
             "colorbar": {
              "outlinewidth": 0,
              "ticks": ""
             }
            },
            "type": "scattermapbox"
           }
          ],
          "scatterpolar": [
           {
            "marker": {
             "colorbar": {
              "outlinewidth": 0,
              "ticks": ""
             }
            },
            "type": "scatterpolar"
           }
          ],
          "scatterpolargl": [
           {
            "marker": {
             "colorbar": {
              "outlinewidth": 0,
              "ticks": ""
             }
            },
            "type": "scatterpolargl"
           }
          ],
          "scatterternary": [
           {
            "marker": {
             "colorbar": {
              "outlinewidth": 0,
              "ticks": ""
             }
            },
            "type": "scatterternary"
           }
          ],
          "surface": [
           {
            "colorbar": {
             "outlinewidth": 0,
             "ticks": ""
            },
            "colorscale": [
             [
              0,
              "#0d0887"
             ],
             [
              0.1111111111111111,
              "#46039f"
             ],
             [
              0.2222222222222222,
              "#7201a8"
             ],
             [
              0.3333333333333333,
              "#9c179e"
             ],
             [
              0.4444444444444444,
              "#bd3786"
             ],
             [
              0.5555555555555556,
              "#d8576b"
             ],
             [
              0.6666666666666666,
              "#ed7953"
             ],
             [
              0.7777777777777778,
              "#fb9f3a"
             ],
             [
              0.8888888888888888,
              "#fdca26"
             ],
             [
              1,
              "#f0f921"
             ]
            ],
            "type": "surface"
           }
          ],
          "table": [
           {
            "cells": {
             "fill": {
              "color": "#EBF0F8"
             },
             "line": {
              "color": "white"
             }
            },
            "header": {
             "fill": {
              "color": "#C8D4E3"
             },
             "line": {
              "color": "white"
             }
            },
            "type": "table"
           }
          ]
         },
         "layout": {
          "annotationdefaults": {
           "arrowcolor": "#2a3f5f",
           "arrowhead": 0,
           "arrowwidth": 1
          },
          "autotypenumbers": "strict",
          "coloraxis": {
           "colorbar": {
            "outlinewidth": 0,
            "ticks": ""
           }
          },
          "colorscale": {
           "diverging": [
            [
             0,
             "#8e0152"
            ],
            [
             0.1,
             "#c51b7d"
            ],
            [
             0.2,
             "#de77ae"
            ],
            [
             0.3,
             "#f1b6da"
            ],
            [
             0.4,
             "#fde0ef"
            ],
            [
             0.5,
             "#f7f7f7"
            ],
            [
             0.6,
             "#e6f5d0"
            ],
            [
             0.7,
             "#b8e186"
            ],
            [
             0.8,
             "#7fbc41"
            ],
            [
             0.9,
             "#4d9221"
            ],
            [
             1,
             "#276419"
            ]
           ],
           "sequential": [
            [
             0,
             "#0d0887"
            ],
            [
             0.1111111111111111,
             "#46039f"
            ],
            [
             0.2222222222222222,
             "#7201a8"
            ],
            [
             0.3333333333333333,
             "#9c179e"
            ],
            [
             0.4444444444444444,
             "#bd3786"
            ],
            [
             0.5555555555555556,
             "#d8576b"
            ],
            [
             0.6666666666666666,
             "#ed7953"
            ],
            [
             0.7777777777777778,
             "#fb9f3a"
            ],
            [
             0.8888888888888888,
             "#fdca26"
            ],
            [
             1,
             "#f0f921"
            ]
           ],
           "sequentialminus": [
            [
             0,
             "#0d0887"
            ],
            [
             0.1111111111111111,
             "#46039f"
            ],
            [
             0.2222222222222222,
             "#7201a8"
            ],
            [
             0.3333333333333333,
             "#9c179e"
            ],
            [
             0.4444444444444444,
             "#bd3786"
            ],
            [
             0.5555555555555556,
             "#d8576b"
            ],
            [
             0.6666666666666666,
             "#ed7953"
            ],
            [
             0.7777777777777778,
             "#fb9f3a"
            ],
            [
             0.8888888888888888,
             "#fdca26"
            ],
            [
             1,
             "#f0f921"
            ]
           ]
          },
          "colorway": [
           "#636efa",
           "#EF553B",
           "#00cc96",
           "#ab63fa",
           "#FFA15A",
           "#19d3f3",
           "#FF6692",
           "#B6E880",
           "#FF97FF",
           "#FECB52"
          ],
          "font": {
           "color": "#2a3f5f"
          },
          "geo": {
           "bgcolor": "white",
           "lakecolor": "white",
           "landcolor": "#E5ECF6",
           "showlakes": true,
           "showland": true,
           "subunitcolor": "white"
          },
          "hoverlabel": {
           "align": "left"
          },
          "hovermode": "closest",
          "mapbox": {
           "style": "light"
          },
          "paper_bgcolor": "white",
          "plot_bgcolor": "#E5ECF6",
          "polar": {
           "angularaxis": {
            "gridcolor": "white",
            "linecolor": "white",
            "ticks": ""
           },
           "bgcolor": "#E5ECF6",
           "radialaxis": {
            "gridcolor": "white",
            "linecolor": "white",
            "ticks": ""
           }
          },
          "scene": {
           "xaxis": {
            "backgroundcolor": "#E5ECF6",
            "gridcolor": "white",
            "gridwidth": 2,
            "linecolor": "white",
            "showbackground": true,
            "ticks": "",
            "zerolinecolor": "white"
           },
           "yaxis": {
            "backgroundcolor": "#E5ECF6",
            "gridcolor": "white",
            "gridwidth": 2,
            "linecolor": "white",
            "showbackground": true,
            "ticks": "",
            "zerolinecolor": "white"
           },
           "zaxis": {
            "backgroundcolor": "#E5ECF6",
            "gridcolor": "white",
            "gridwidth": 2,
            "linecolor": "white",
            "showbackground": true,
            "ticks": "",
            "zerolinecolor": "white"
           }
          },
          "shapedefaults": {
           "line": {
            "color": "#2a3f5f"
           }
          },
          "ternary": {
           "aaxis": {
            "gridcolor": "white",
            "linecolor": "white",
            "ticks": ""
           },
           "baxis": {
            "gridcolor": "white",
            "linecolor": "white",
            "ticks": ""
           },
           "bgcolor": "#E5ECF6",
           "caxis": {
            "gridcolor": "white",
            "linecolor": "white",
            "ticks": ""
           }
          },
          "title": {
           "x": 0.05
          },
          "xaxis": {
           "automargin": true,
           "gridcolor": "white",
           "linecolor": "white",
           "ticks": "",
           "title": {
            "standoff": 15
           },
           "zerolinecolor": "white",
           "zerolinewidth": 2
          },
          "yaxis": {
           "automargin": true,
           "gridcolor": "white",
           "linecolor": "white",
           "ticks": "",
           "title": {
            "standoff": 15
           },
           "zerolinecolor": "white",
           "zerolinewidth": 2
          }
         }
        },
        "title": {
         "font": {
          "size": 28
         },
         "text": "Mean Execution Time for Intersection",
         "x": 0.5,
         "y": 0.975
        },
        "width": 1000,
        "xaxis": {
         "anchor": "y",
         "categoryarray": [
          "Crossing",
          "Contained",
          "Disjoint"
         ],
         "categoryorder": "array",
         "domain": [
          0,
          0.26666666666666666
         ],
         "tickfont": {
          "size": 20
         },
         "title": {
          "text": ""
         }
        },
        "xaxis2": {
         "anchor": "y2",
         "categoryarray": [
          "Crossing",
          "Contained",
          "Disjoint"
         ],
         "categoryorder": "array",
         "domain": [
          0.3666666666666667,
          0.6333333333333333
         ],
         "matches": "x",
         "tickfont": {
          "size": 20
         },
         "title": {
          "text": ""
         }
        },
        "xaxis3": {
         "anchor": "y3",
         "categoryarray": [
          "Crossing",
          "Contained",
          "Disjoint"
         ],
         "categoryorder": "array",
         "domain": [
          0.7333333333333334,
          1
         ],
         "matches": "x",
         "tickfont": {
          "size": 20
         },
         "title": {
          "text": ""
         }
        },
        "xaxis4": {
         "anchor": "y4",
         "domain": [
          0,
          0.26666666666666666
         ],
         "matches": "x",
         "showticklabels": false,
         "tickfont": {
          "size": 20
         },
         "title": {
          "text": ""
         }
        },
        "xaxis5": {
         "anchor": "y5",
         "domain": [
          0.3666666666666667,
          0.6333333333333333
         ],
         "matches": "x",
         "showticklabels": false,
         "tickfont": {
          "size": 20
         },
         "title": {
          "text": ""
         }
        },
        "xaxis6": {
         "anchor": "y6",
         "domain": [
          0.7333333333333334,
          1
         ],
         "matches": "x",
         "showticklabels": false,
         "tickfont": {
          "size": 20
         },
         "title": {
          "text": ""
         }
        },
        "yaxis": {
         "anchor": "x",
         "domain": [
          0,
          0.45
         ],
         "showticklabels": true,
         "tickfont": {
          "size": 20
         },
         "title": {
          "text": ""
         }
        },
        "yaxis2": {
         "anchor": "x2",
         "domain": [
          0,
          0.45
         ],
         "showticklabels": true,
         "tickfont": {
          "size": 20
         },
         "title": {
          "text": ""
         }
        },
        "yaxis3": {
         "anchor": "x3",
         "domain": [
          0,
          0.45
         ],
         "showticklabels": true,
         "tickfont": {
          "size": 20
         },
         "title": {
          "text": ""
         }
        },
        "yaxis4": {
         "anchor": "x4",
         "domain": [
          0.55,
          1
         ],
         "showticklabels": true,
         "tickfont": {
          "size": 20
         },
         "title": {
          "text": ""
         }
        },
        "yaxis5": {
         "anchor": "x5",
         "domain": [
          0.55,
          1
         ],
         "showticklabels": true,
         "tickfont": {
          "size": 20
         },
         "title": {
          "text": ""
         }
        },
        "yaxis6": {
         "anchor": "x6",
         "domain": [
          0.55,
          1
         ],
         "showticklabels": true,
         "tickfont": {
          "size": 20
         },
         "title": {
          "text": ""
         }
        }
       }
      }
     },
     "metadata": {},
     "output_type": "display_data"
    }
   ],
   "source": [
    "total_time_df = stats_df[['context', 'total_time', 'sizes', 'baseline', 'predicate', 'decomp']]\n",
    "plot_total_time_bars(total_time_df, is_predicate=False, size_cat_excl=[], log_scale=False) #"
   ]
  },
  {
   "cell_type": "code",
   "execution_count": 75,
   "metadata": {},
   "outputs": [],
   "source": [
    "def get_percentage_cases(df, is_predicate=False):\n",
    "    df = df[(df['predicate'] == is_predicate) & (df['baseline'] == False)] #(df['sizes'].isin([\"Small/Small\", \"Medium/Medium\", \"Large/Large\"]))]\n",
    "    df = df.groupby(['context', 'sizes']).count()\n",
    "    return df, sum(df['dataset'])\n",
    "df, cnt = get_percentage_cases(stats_df)\n",
    "df = 100 * df / (cnt)\n",
    "#display(df['dataset'])\n",
    "\n",
    "stats_df = stats_df[(stats_df['predicate'] == False)] #(df['sizes'].isin([\"Small/Small\", \"Medium/Medium\", \"Large/Large\"]))]\n",
    "\n",
    "stats_df['frac'] =(stats_df[\"decomp\"].div(stats_df.total_time, axis=0) * 100)\n",
    "#display(stats_df.groupby([\"baseline\", \"context\", \"sizes\"])['frac'].mean())\n",
    "#display(stats_df.groupby([\"baseline\", \"context\", \"sizes\"])[['total_time', 'decomp']].mean())\n",
    "\n",
    "#display(stats_df[(stats_df['context'] == \"Fully Inside Other (TRUE)\") & (stats_df['baseline'] == False) & (stats_df['sizes'] == \"Large/Large\")])\n",
    "\n",
    "\n",
    "#dataset, _, dataset_name = datasets[2]\n",
    "#np.random.seed(2021)\n",
    "#indicies = np.random.choice(len(dataset), size=100000, replace=True)\n",
    "#dataset = np.array(dataset)[indicies] \n",
    "#g1, g2 = dataset[65461]\n",
    "#create_canvas()\n",
    "#plot_geometry(g1)\n",
    "#plot_geometry(g2)\n",
    "#plt.show()\n",
    "\n",
    "\n",
    "\n"
   ]
  },
  {
   "attachments": {},
   "cell_type": "markdown",
   "metadata": {},
   "source": [
    "#### Chunk Unfolding Analyzation"
   ]
  },
  {
   "cell_type": "code",
   "execution_count": 76,
   "metadata": {},
   "outputs": [],
   "source": [
    "chunk_unfolded_df = stats_df[['nbr_recieved_chks', 'nbr_total_chks','predicate','baseline', 'context', 'sizes']]\n",
    "chunk_unfolded_df[\"chk_fraction_unfolded\"] = chunk_unfolded_df[\"nbr_recieved_chks\"].div(chunk_unfolded_df.nbr_total_chks, axis=0) * 100"
   ]
  },
  {
   "cell_type": "code",
   "execution_count": 77,
   "metadata": {},
   "outputs": [],
   "source": [
    "def plot_chunk_unfolded_frac(df, is_predicate=False, is_baseline=False):\n",
    "    df = df[df['baseline'] == False]\n",
    "    #df[\"chk_fraction_unfolded\"] = df[\"nbr_recieved_chks\"].div(df.nbr_total_chks, axis=0) * 100\n",
    "    #df = df[(df['predicate'] == is_predicate) & (df['sizes'].isin([\"Small/Small\", \"Medium/Medium\", \"Large/Large\"]))]\n",
    "    df.replace({\"Fully Inside Other (TRUE)\": \"Contained\", \n",
    "                \"Overlap (FALSE)\": \"Disjoint\",\n",
    "                \"Partial Overlap (TRUE)\": \"Crossing\",\n",
    "                \"Large/Large\": \"L/L\",\n",
    "                \"Small/Large\": \"S/L\",\n",
    "                \"Medium/Large\": \"M/L\",\n",
    "                \"Small/Medium\": \"S/M\",\n",
    "                \"Medium/Medium\": \"M/M\",\n",
    "                \"Small/Small\": \"S/S\",\n",
    "                }, inplace=True)\n",
    "    df = df.groupby(['context', 'baseline', 'sizes']).mean()\n",
    "    df.reset_index(inplace=True)\n",
    "\n",
    "\n",
    "\n",
    "    intersection_format = \"Intersection\" if not is_predicate else \"IsIntersection\"\n",
    "\n",
    "    fig = px.bar(df, \n",
    "                       x=\"chk_fraction_unfolded\", \n",
    "                       y=\"context\", \n",
    "                       facet_row=\"sizes\", \n",
    "                       barmode='group',\n",
    "                       facet_col_spacing=0.1, \n",
    "                       title=f\"Fraction of Chunks Unfolded for {intersection_format}\",\n",
    "                       labels=dict(sizes=\"Geometry Sizes\", context=\"Context\", baseline=\"Baseline\", Stage=\"Stage: \"),\n",
    "                       facet_col_wrap=1,\n",
    "                       height=1000,\n",
    "                       width=1300,\n",
    "                       orientation=\"h\",\n",
    "                       text=\"chk_fraction_unfolded\",\n",
    "                       color_discrete_sequence=['rgb(255,183,180)']*len(df),\n",
    "                       category_orders={\"context\": [\"Crossing\", \"Contained\", \"Disjoint\"],}\n",
    "                       )\n",
    "    \n",
    "    fig.update_annotations(font=dict(size=24))\n",
    "    fig.for_each_yaxis(lambda yaxis: yaxis.update(showticklabels=True))\n",
    "    fig.update_yaxes(showticklabels=True, visible=True,  tickfont=dict(size=24))\n",
    "    fig.update_xaxes(tickfont=dict(size=24))\n",
    "    fig.update_traces(texttemplate='%{text:.0f}%' ,textfont=dict(size=24))\n",
    "    fig.update_layout(barmode=\"relative\",\n",
    "                      title_x=0.5,\n",
    "                      width=1300, \n",
    "                      height=1300, \n",
    "                      legend=dict(\n",
    "                            yanchor=\"top\",\n",
    "                            y=1,\n",
    "                            xanchor=\"left\",\n",
    "                            x=0.5,\n",
    "                            orientation=\"h\",\n",
    "                            font=dict(size=24)\n",
    "                        ),\n",
    "                        title=dict(\n",
    "                            text=f'Fraction of Chunks Unfolded for Intersection',\n",
    "                            x=0.5,\n",
    "                            font=dict(size=32)\n",
    "                            ),\n",
    "                        annotations=[dict(                           \n",
    "                            textangle=0\n",
    "                            )\n",
    "                        ],\n",
    "                        margin=dict(\n",
    "                        l=150,\n",
    "                        r=200,\n",
    "                        b=100,\n",
    "                        t=100,\n",
    "                        pad=5\n",
    "                    )\n",
    "                        )\n",
    "\n",
    "    for axis in fig.layout:\n",
    "        if type(fig.layout[axis]) == objs.layout.XAxis:\n",
    "            fig.layout[axis].title.text = ''\n",
    "\n",
    "    for axis in fig.layout:\n",
    "        if type(fig.layout[axis]) == objs.layout.YAxis:\n",
    "            fig.layout[axis].title.text = '' \n",
    "    \n",
    "    \n",
    "\n",
    "    fig.for_each_annotation(lambda a: a.update(text= \"  \" + a.text.split(\"=\")[1]))\n",
    "    #fig.for_each_trace(lambda t: t.update(name=t.name.split(\"=\")[0]))\n",
    "    fig.add_annotation(\n",
    "    dict(\n",
    "        x=0.5,\n",
    "        y=-0.05,  # adjust as needed\n",
    "        showarrow=False,\n",
    "        text=\"Chunks Unfolded (%)\",\n",
    "        xref=\"paper\",\n",
    "        yref=\"paper\",\n",
    "        font=dict(size=24),\n",
    "        xanchor=\"center\", \n",
    "        yanchor=\"top\"\n",
    "    )\n",
    "    )\n",
    "\n",
    "    fig.add_annotation(\n",
    "    dict(\n",
    "        x=1.08,\n",
    "        y=0.62,  # adjust as needed\n",
    "        showarrow=False,\n",
    "        text=\"Geometry Size\",\n",
    "        xref=\"paper\",\n",
    "        yref=\"paper\",\n",
    "        textangle=-90,\n",
    "        font=dict(size=28),\n",
    "        xanchor=\"center\", \n",
    "        yanchor=\"top\"\n",
    "    )\n",
    "    )\n",
    "\n",
    "    fig.add_annotation(\n",
    "    dict(\n",
    "        x=-0.148,  # adjust as needed\n",
    "        y=0.5,\n",
    "        showarrow=False,\n",
    "        text=\"Intersection Context\",\n",
    "        textangle=-90,\n",
    "        xref=\"paper\",\n",
    "        yref=\"paper\",\n",
    "        font=dict(size=28),\n",
    "        xanchor=\"center\",\n",
    "        yanchor=\"middle\",\n",
    "    ))\n",
    "   \n",
    "    fig.show()\n",
    "    fig.write_image(\"fig2.svg\")\n"
   ]
  },
  {
   "attachments": {},
   "cell_type": "markdown",
   "metadata": {},
   "source": [
    "## Results"
   ]
  },
  {
   "attachments": {},
   "cell_type": "markdown",
   "metadata": {},
   "source": [
    "#### Total time Analysis"
   ]
  },
  {
   "attachments": {},
   "cell_type": "markdown",
   "metadata": {},
   "source": [
    "#### (%) Unfolding of chunks"
   ]
  },
  {
   "cell_type": "code",
   "execution_count": 78,
   "metadata": {},
   "outputs": [
    {
     "data": {
      "application/vnd.plotly.v1+json": {
       "config": {
        "plotlyServerURL": "https://plot.ly"
       },
       "data": [
        {
         "alignmentgroup": "True",
         "hovertemplate": "Geometry Sizes=L/L<br>chk_fraction_unfolded=%{text}<br>Context=%{y}<extra></extra>",
         "legendgroup": "",
         "marker": {
          "color": "rgb(255,183,180)",
          "pattern": {
           "shape": ""
          }
         },
         "name": "",
         "offsetgroup": "",
         "orientation": "h",
         "showlegend": false,
         "text": [
          36.94706816369201,
          21.13193718144923,
          3.9621042223678162
         ],
         "textfont": {
          "size": 24
         },
         "textposition": "auto",
         "texttemplate": "%{text:.0f}%",
         "type": "bar",
         "x": [
          36.94706816369201,
          21.13193718144923,
          3.9621042223678162
         ],
         "xaxis": "x6",
         "y": [
          "Contained",
          "Crossing",
          "Disjoint"
         ],
         "yaxis": "y6"
        },
        {
         "alignmentgroup": "True",
         "hovertemplate": "Geometry Sizes=M/L<br>chk_fraction_unfolded=%{text}<br>Context=%{y}<extra></extra>",
         "legendgroup": "",
         "marker": {
          "color": "rgb(255,183,180)",
          "pattern": {
           "shape": ""
          }
         },
         "name": "",
         "offsetgroup": "",
         "orientation": "h",
         "showlegend": false,
         "text": [
          13.1112442756545,
          25.513924437571543,
          13.962718031089869
         ],
         "textfont": {
          "size": 24
         },
         "textposition": "auto",
         "texttemplate": "%{text:.0f}%",
         "type": "bar",
         "x": [
          13.1112442756545,
          25.513924437571543,
          13.962718031089869
         ],
         "xaxis": "x5",
         "y": [
          "Contained",
          "Crossing",
          "Disjoint"
         ],
         "yaxis": "y5"
        },
        {
         "alignmentgroup": "True",
         "hovertemplate": "Geometry Sizes=M/M<br>chk_fraction_unfolded=%{text}<br>Context=%{y}<extra></extra>",
         "legendgroup": "",
         "marker": {
          "color": "rgb(255,183,180)",
          "pattern": {
           "shape": ""
          }
         },
         "name": "",
         "offsetgroup": "",
         "orientation": "h",
         "showlegend": false,
         "text": [
          71.84107429434532,
          48.26330849578412,
          40.880939805700606
         ],
         "textfont": {
          "size": 24
         },
         "textposition": "auto",
         "texttemplate": "%{text:.0f}%",
         "type": "bar",
         "x": [
          71.84107429434532,
          48.26330849578412,
          40.880939805700606
         ],
         "xaxis": "x4",
         "y": [
          "Contained",
          "Crossing",
          "Disjoint"
         ],
         "yaxis": "y4"
        },
        {
         "alignmentgroup": "True",
         "hovertemplate": "Geometry Sizes=S/L<br>chk_fraction_unfolded=%{text}<br>Context=%{y}<extra></extra>",
         "legendgroup": "",
         "marker": {
          "color": "rgb(255,183,180)",
          "pattern": {
           "shape": ""
          }
         },
         "name": "",
         "offsetgroup": "",
         "orientation": "h",
         "showlegend": false,
         "text": [
          8.548513928924766,
          17.611021305530812,
          12.130002465549888
         ],
         "textfont": {
          "size": 24
         },
         "textposition": "auto",
         "texttemplate": "%{text:.0f}%",
         "type": "bar",
         "x": [
          8.548513928924766,
          17.611021305530812,
          12.130002465549888
         ],
         "xaxis": "x3",
         "y": [
          "Contained",
          "Crossing",
          "Disjoint"
         ],
         "yaxis": "y3"
        },
        {
         "alignmentgroup": "True",
         "hovertemplate": "Geometry Sizes=S/M<br>chk_fraction_unfolded=%{text}<br>Context=%{y}<extra></extra>",
         "legendgroup": "",
         "marker": {
          "color": "rgb(255,183,180)",
          "pattern": {
           "shape": ""
          }
         },
         "name": "",
         "offsetgroup": "",
         "orientation": "h",
         "showlegend": false,
         "text": [
          48.34176806810844,
          58.20011637027401,
          50.111335815118885
         ],
         "textfont": {
          "size": 24
         },
         "textposition": "auto",
         "texttemplate": "%{text:.0f}%",
         "type": "bar",
         "x": [
          48.34176806810844,
          58.20011637027401,
          50.111335815118885
         ],
         "xaxis": "x2",
         "y": [
          "Contained",
          "Crossing",
          "Disjoint"
         ],
         "yaxis": "y2"
        },
        {
         "alignmentgroup": "True",
         "hovertemplate": "Geometry Sizes=S/S<br>chk_fraction_unfolded=%{text}<br>Context=%{y}<extra></extra>",
         "legendgroup": "",
         "marker": {
          "color": "rgb(255,183,180)",
          "pattern": {
           "shape": ""
          }
         },
         "name": "",
         "offsetgroup": "",
         "orientation": "h",
         "showlegend": false,
         "text": [
          90.41408915382596,
          91.42548994278394,
          90.29468382065173
         ],
         "textfont": {
          "size": 24
         },
         "textposition": "auto",
         "texttemplate": "%{text:.0f}%",
         "type": "bar",
         "x": [
          90.41408915382596,
          91.42548994278394,
          90.29468382065173
         ],
         "xaxis": "x",
         "y": [
          "Contained",
          "Crossing",
          "Disjoint"
         ],
         "yaxis": "y"
        }
       ],
       "layout": {
        "annotations": [
         {
          "font": {
           "size": 24
          },
          "showarrow": false,
          "text": "  S/S",
          "textangle": 0,
          "x": 0.98,
          "xanchor": "left",
          "xref": "paper",
          "y": 0.07083333333333333,
          "yanchor": "middle",
          "yref": "paper"
         },
         {
          "font": {
           "size": 24
          },
          "showarrow": false,
          "text": "  S/M",
          "textangle": 0,
          "x": 0.98,
          "xanchor": "left",
          "xref": "paper",
          "y": 0.2425,
          "yanchor": "middle",
          "yref": "paper"
         },
         {
          "font": {
           "size": 24
          },
          "showarrow": false,
          "text": "  S/L",
          "textangle": 0,
          "x": 0.98,
          "xanchor": "left",
          "xref": "paper",
          "y": 0.4141666666666667,
          "yanchor": "middle",
          "yref": "paper"
         },
         {
          "font": {
           "size": 24
          },
          "showarrow": false,
          "text": "  M/M",
          "textangle": 0,
          "x": 0.98,
          "xanchor": "left",
          "xref": "paper",
          "y": 0.5858333333333334,
          "yanchor": "middle",
          "yref": "paper"
         },
         {
          "font": {
           "size": 24
          },
          "showarrow": false,
          "text": "  M/L",
          "textangle": 0,
          "x": 0.98,
          "xanchor": "left",
          "xref": "paper",
          "y": 0.7575000000000001,
          "yanchor": "middle",
          "yref": "paper"
         },
         {
          "font": {
           "size": 24
          },
          "showarrow": false,
          "text": "  L/L",
          "textangle": 0,
          "x": 0.98,
          "xanchor": "left",
          "xref": "paper",
          "y": 0.9291666666666667,
          "yanchor": "middle",
          "yref": "paper"
         },
         {
          "font": {
           "size": 24
          },
          "showarrow": false,
          "text": "Chunks Unfolded (%)",
          "x": 0.5,
          "xanchor": "center",
          "xref": "paper",
          "y": -0.05,
          "yanchor": "top",
          "yref": "paper"
         },
         {
          "font": {
           "size": 28
          },
          "showarrow": false,
          "text": "Geometry Size",
          "textangle": -90,
          "x": 1.08,
          "xanchor": "center",
          "xref": "paper",
          "y": 0.62,
          "yanchor": "top",
          "yref": "paper"
         },
         {
          "font": {
           "size": 28
          },
          "showarrow": false,
          "text": "Intersection Context",
          "textangle": -90,
          "x": -0.148,
          "xanchor": "center",
          "xref": "paper",
          "y": 0.5,
          "yanchor": "middle",
          "yref": "paper"
         }
        ],
        "barmode": "relative",
        "height": 1300,
        "legend": {
         "font": {
          "size": 24
         },
         "orientation": "h",
         "tracegroupgap": 0,
         "x": 0.5,
         "xanchor": "left",
         "y": 1,
         "yanchor": "top"
        },
        "margin": {
         "b": 100,
         "l": 150,
         "pad": 5,
         "r": 200,
         "t": 100
        },
        "template": {
         "data": {
          "bar": [
           {
            "error_x": {
             "color": "#2a3f5f"
            },
            "error_y": {
             "color": "#2a3f5f"
            },
            "marker": {
             "line": {
              "color": "#E5ECF6",
              "width": 0.5
             },
             "pattern": {
              "fillmode": "overlay",
              "size": 10,
              "solidity": 0.2
             }
            },
            "type": "bar"
           }
          ],
          "barpolar": [
           {
            "marker": {
             "line": {
              "color": "#E5ECF6",
              "width": 0.5
             },
             "pattern": {
              "fillmode": "overlay",
              "size": 10,
              "solidity": 0.2
             }
            },
            "type": "barpolar"
           }
          ],
          "carpet": [
           {
            "aaxis": {
             "endlinecolor": "#2a3f5f",
             "gridcolor": "white",
             "linecolor": "white",
             "minorgridcolor": "white",
             "startlinecolor": "#2a3f5f"
            },
            "baxis": {
             "endlinecolor": "#2a3f5f",
             "gridcolor": "white",
             "linecolor": "white",
             "minorgridcolor": "white",
             "startlinecolor": "#2a3f5f"
            },
            "type": "carpet"
           }
          ],
          "choropleth": [
           {
            "colorbar": {
             "outlinewidth": 0,
             "ticks": ""
            },
            "type": "choropleth"
           }
          ],
          "contour": [
           {
            "colorbar": {
             "outlinewidth": 0,
             "ticks": ""
            },
            "colorscale": [
             [
              0,
              "#0d0887"
             ],
             [
              0.1111111111111111,
              "#46039f"
             ],
             [
              0.2222222222222222,
              "#7201a8"
             ],
             [
              0.3333333333333333,
              "#9c179e"
             ],
             [
              0.4444444444444444,
              "#bd3786"
             ],
             [
              0.5555555555555556,
              "#d8576b"
             ],
             [
              0.6666666666666666,
              "#ed7953"
             ],
             [
              0.7777777777777778,
              "#fb9f3a"
             ],
             [
              0.8888888888888888,
              "#fdca26"
             ],
             [
              1,
              "#f0f921"
             ]
            ],
            "type": "contour"
           }
          ],
          "contourcarpet": [
           {
            "colorbar": {
             "outlinewidth": 0,
             "ticks": ""
            },
            "type": "contourcarpet"
           }
          ],
          "heatmap": [
           {
            "colorbar": {
             "outlinewidth": 0,
             "ticks": ""
            },
            "colorscale": [
             [
              0,
              "#0d0887"
             ],
             [
              0.1111111111111111,
              "#46039f"
             ],
             [
              0.2222222222222222,
              "#7201a8"
             ],
             [
              0.3333333333333333,
              "#9c179e"
             ],
             [
              0.4444444444444444,
              "#bd3786"
             ],
             [
              0.5555555555555556,
              "#d8576b"
             ],
             [
              0.6666666666666666,
              "#ed7953"
             ],
             [
              0.7777777777777778,
              "#fb9f3a"
             ],
             [
              0.8888888888888888,
              "#fdca26"
             ],
             [
              1,
              "#f0f921"
             ]
            ],
            "type": "heatmap"
           }
          ],
          "heatmapgl": [
           {
            "colorbar": {
             "outlinewidth": 0,
             "ticks": ""
            },
            "colorscale": [
             [
              0,
              "#0d0887"
             ],
             [
              0.1111111111111111,
              "#46039f"
             ],
             [
              0.2222222222222222,
              "#7201a8"
             ],
             [
              0.3333333333333333,
              "#9c179e"
             ],
             [
              0.4444444444444444,
              "#bd3786"
             ],
             [
              0.5555555555555556,
              "#d8576b"
             ],
             [
              0.6666666666666666,
              "#ed7953"
             ],
             [
              0.7777777777777778,
              "#fb9f3a"
             ],
             [
              0.8888888888888888,
              "#fdca26"
             ],
             [
              1,
              "#f0f921"
             ]
            ],
            "type": "heatmapgl"
           }
          ],
          "histogram": [
           {
            "marker": {
             "pattern": {
              "fillmode": "overlay",
              "size": 10,
              "solidity": 0.2
             }
            },
            "type": "histogram"
           }
          ],
          "histogram2d": [
           {
            "colorbar": {
             "outlinewidth": 0,
             "ticks": ""
            },
            "colorscale": [
             [
              0,
              "#0d0887"
             ],
             [
              0.1111111111111111,
              "#46039f"
             ],
             [
              0.2222222222222222,
              "#7201a8"
             ],
             [
              0.3333333333333333,
              "#9c179e"
             ],
             [
              0.4444444444444444,
              "#bd3786"
             ],
             [
              0.5555555555555556,
              "#d8576b"
             ],
             [
              0.6666666666666666,
              "#ed7953"
             ],
             [
              0.7777777777777778,
              "#fb9f3a"
             ],
             [
              0.8888888888888888,
              "#fdca26"
             ],
             [
              1,
              "#f0f921"
             ]
            ],
            "type": "histogram2d"
           }
          ],
          "histogram2dcontour": [
           {
            "colorbar": {
             "outlinewidth": 0,
             "ticks": ""
            },
            "colorscale": [
             [
              0,
              "#0d0887"
             ],
             [
              0.1111111111111111,
              "#46039f"
             ],
             [
              0.2222222222222222,
              "#7201a8"
             ],
             [
              0.3333333333333333,
              "#9c179e"
             ],
             [
              0.4444444444444444,
              "#bd3786"
             ],
             [
              0.5555555555555556,
              "#d8576b"
             ],
             [
              0.6666666666666666,
              "#ed7953"
             ],
             [
              0.7777777777777778,
              "#fb9f3a"
             ],
             [
              0.8888888888888888,
              "#fdca26"
             ],
             [
              1,
              "#f0f921"
             ]
            ],
            "type": "histogram2dcontour"
           }
          ],
          "mesh3d": [
           {
            "colorbar": {
             "outlinewidth": 0,
             "ticks": ""
            },
            "type": "mesh3d"
           }
          ],
          "parcoords": [
           {
            "line": {
             "colorbar": {
              "outlinewidth": 0,
              "ticks": ""
             }
            },
            "type": "parcoords"
           }
          ],
          "pie": [
           {
            "automargin": true,
            "type": "pie"
           }
          ],
          "scatter": [
           {
            "fillpattern": {
             "fillmode": "overlay",
             "size": 10,
             "solidity": 0.2
            },
            "type": "scatter"
           }
          ],
          "scatter3d": [
           {
            "line": {
             "colorbar": {
              "outlinewidth": 0,
              "ticks": ""
             }
            },
            "marker": {
             "colorbar": {
              "outlinewidth": 0,
              "ticks": ""
             }
            },
            "type": "scatter3d"
           }
          ],
          "scattercarpet": [
           {
            "marker": {
             "colorbar": {
              "outlinewidth": 0,
              "ticks": ""
             }
            },
            "type": "scattercarpet"
           }
          ],
          "scattergeo": [
           {
            "marker": {
             "colorbar": {
              "outlinewidth": 0,
              "ticks": ""
             }
            },
            "type": "scattergeo"
           }
          ],
          "scattergl": [
           {
            "marker": {
             "colorbar": {
              "outlinewidth": 0,
              "ticks": ""
             }
            },
            "type": "scattergl"
           }
          ],
          "scattermapbox": [
           {
            "marker": {
             "colorbar": {
              "outlinewidth": 0,
              "ticks": ""
             }
            },
            "type": "scattermapbox"
           }
          ],
          "scatterpolar": [
           {
            "marker": {
             "colorbar": {
              "outlinewidth": 0,
              "ticks": ""
             }
            },
            "type": "scatterpolar"
           }
          ],
          "scatterpolargl": [
           {
            "marker": {
             "colorbar": {
              "outlinewidth": 0,
              "ticks": ""
             }
            },
            "type": "scatterpolargl"
           }
          ],
          "scatterternary": [
           {
            "marker": {
             "colorbar": {
              "outlinewidth": 0,
              "ticks": ""
             }
            },
            "type": "scatterternary"
           }
          ],
          "surface": [
           {
            "colorbar": {
             "outlinewidth": 0,
             "ticks": ""
            },
            "colorscale": [
             [
              0,
              "#0d0887"
             ],
             [
              0.1111111111111111,
              "#46039f"
             ],
             [
              0.2222222222222222,
              "#7201a8"
             ],
             [
              0.3333333333333333,
              "#9c179e"
             ],
             [
              0.4444444444444444,
              "#bd3786"
             ],
             [
              0.5555555555555556,
              "#d8576b"
             ],
             [
              0.6666666666666666,
              "#ed7953"
             ],
             [
              0.7777777777777778,
              "#fb9f3a"
             ],
             [
              0.8888888888888888,
              "#fdca26"
             ],
             [
              1,
              "#f0f921"
             ]
            ],
            "type": "surface"
           }
          ],
          "table": [
           {
            "cells": {
             "fill": {
              "color": "#EBF0F8"
             },
             "line": {
              "color": "white"
             }
            },
            "header": {
             "fill": {
              "color": "#C8D4E3"
             },
             "line": {
              "color": "white"
             }
            },
            "type": "table"
           }
          ]
         },
         "layout": {
          "annotationdefaults": {
           "arrowcolor": "#2a3f5f",
           "arrowhead": 0,
           "arrowwidth": 1
          },
          "autotypenumbers": "strict",
          "coloraxis": {
           "colorbar": {
            "outlinewidth": 0,
            "ticks": ""
           }
          },
          "colorscale": {
           "diverging": [
            [
             0,
             "#8e0152"
            ],
            [
             0.1,
             "#c51b7d"
            ],
            [
             0.2,
             "#de77ae"
            ],
            [
             0.3,
             "#f1b6da"
            ],
            [
             0.4,
             "#fde0ef"
            ],
            [
             0.5,
             "#f7f7f7"
            ],
            [
             0.6,
             "#e6f5d0"
            ],
            [
             0.7,
             "#b8e186"
            ],
            [
             0.8,
             "#7fbc41"
            ],
            [
             0.9,
             "#4d9221"
            ],
            [
             1,
             "#276419"
            ]
           ],
           "sequential": [
            [
             0,
             "#0d0887"
            ],
            [
             0.1111111111111111,
             "#46039f"
            ],
            [
             0.2222222222222222,
             "#7201a8"
            ],
            [
             0.3333333333333333,
             "#9c179e"
            ],
            [
             0.4444444444444444,
             "#bd3786"
            ],
            [
             0.5555555555555556,
             "#d8576b"
            ],
            [
             0.6666666666666666,
             "#ed7953"
            ],
            [
             0.7777777777777778,
             "#fb9f3a"
            ],
            [
             0.8888888888888888,
             "#fdca26"
            ],
            [
             1,
             "#f0f921"
            ]
           ],
           "sequentialminus": [
            [
             0,
             "#0d0887"
            ],
            [
             0.1111111111111111,
             "#46039f"
            ],
            [
             0.2222222222222222,
             "#7201a8"
            ],
            [
             0.3333333333333333,
             "#9c179e"
            ],
            [
             0.4444444444444444,
             "#bd3786"
            ],
            [
             0.5555555555555556,
             "#d8576b"
            ],
            [
             0.6666666666666666,
             "#ed7953"
            ],
            [
             0.7777777777777778,
             "#fb9f3a"
            ],
            [
             0.8888888888888888,
             "#fdca26"
            ],
            [
             1,
             "#f0f921"
            ]
           ]
          },
          "colorway": [
           "#636efa",
           "#EF553B",
           "#00cc96",
           "#ab63fa",
           "#FFA15A",
           "#19d3f3",
           "#FF6692",
           "#B6E880",
           "#FF97FF",
           "#FECB52"
          ],
          "font": {
           "color": "#2a3f5f"
          },
          "geo": {
           "bgcolor": "white",
           "lakecolor": "white",
           "landcolor": "#E5ECF6",
           "showlakes": true,
           "showland": true,
           "subunitcolor": "white"
          },
          "hoverlabel": {
           "align": "left"
          },
          "hovermode": "closest",
          "mapbox": {
           "style": "light"
          },
          "paper_bgcolor": "white",
          "plot_bgcolor": "#E5ECF6",
          "polar": {
           "angularaxis": {
            "gridcolor": "white",
            "linecolor": "white",
            "ticks": ""
           },
           "bgcolor": "#E5ECF6",
           "radialaxis": {
            "gridcolor": "white",
            "linecolor": "white",
            "ticks": ""
           }
          },
          "scene": {
           "xaxis": {
            "backgroundcolor": "#E5ECF6",
            "gridcolor": "white",
            "gridwidth": 2,
            "linecolor": "white",
            "showbackground": true,
            "ticks": "",
            "zerolinecolor": "white"
           },
           "yaxis": {
            "backgroundcolor": "#E5ECF6",
            "gridcolor": "white",
            "gridwidth": 2,
            "linecolor": "white",
            "showbackground": true,
            "ticks": "",
            "zerolinecolor": "white"
           },
           "zaxis": {
            "backgroundcolor": "#E5ECF6",
            "gridcolor": "white",
            "gridwidth": 2,
            "linecolor": "white",
            "showbackground": true,
            "ticks": "",
            "zerolinecolor": "white"
           }
          },
          "shapedefaults": {
           "line": {
            "color": "#2a3f5f"
           }
          },
          "ternary": {
           "aaxis": {
            "gridcolor": "white",
            "linecolor": "white",
            "ticks": ""
           },
           "baxis": {
            "gridcolor": "white",
            "linecolor": "white",
            "ticks": ""
           },
           "bgcolor": "#E5ECF6",
           "caxis": {
            "gridcolor": "white",
            "linecolor": "white",
            "ticks": ""
           }
          },
          "title": {
           "x": 0.05
          },
          "xaxis": {
           "automargin": true,
           "gridcolor": "white",
           "linecolor": "white",
           "ticks": "",
           "title": {
            "standoff": 15
           },
           "zerolinecolor": "white",
           "zerolinewidth": 2
          },
          "yaxis": {
           "automargin": true,
           "gridcolor": "white",
           "linecolor": "white",
           "ticks": "",
           "title": {
            "standoff": 15
           },
           "zerolinecolor": "white",
           "zerolinewidth": 2
          }
         }
        },
        "title": {
         "font": {
          "size": 32
         },
         "text": "Fraction of Chunks Unfolded for Intersection",
         "x": 0.5
        },
        "width": 1300,
        "xaxis": {
         "anchor": "y",
         "domain": [
          0,
          0.98
         ],
         "tickfont": {
          "size": 24
         },
         "title": {
          "text": ""
         }
        },
        "xaxis2": {
         "anchor": "y2",
         "domain": [
          0,
          0.98
         ],
         "matches": "x",
         "showticklabels": false,
         "tickfont": {
          "size": 24
         },
         "title": {
          "text": ""
         }
        },
        "xaxis3": {
         "anchor": "y3",
         "domain": [
          0,
          0.98
         ],
         "matches": "x",
         "showticklabels": false,
         "tickfont": {
          "size": 24
         },
         "title": {
          "text": ""
         }
        },
        "xaxis4": {
         "anchor": "y4",
         "domain": [
          0,
          0.98
         ],
         "matches": "x",
         "showticklabels": false,
         "tickfont": {
          "size": 24
         },
         "title": {
          "text": ""
         }
        },
        "xaxis5": {
         "anchor": "y5",
         "domain": [
          0,
          0.98
         ],
         "matches": "x",
         "showticklabels": false,
         "tickfont": {
          "size": 24
         },
         "title": {
          "text": ""
         }
        },
        "xaxis6": {
         "anchor": "y6",
         "domain": [
          0,
          0.98
         ],
         "matches": "x",
         "showticklabels": false,
         "tickfont": {
          "size": 24
         },
         "title": {
          "text": ""
         }
        },
        "yaxis": {
         "anchor": "x",
         "categoryarray": [
          "Disjoint",
          "Contained",
          "Crossing"
         ],
         "categoryorder": "array",
         "domain": [
          0,
          0.14166666666666666
         ],
         "showticklabels": true,
         "tickfont": {
          "size": 24
         },
         "title": {
          "text": ""
         },
         "visible": true
        },
        "yaxis2": {
         "anchor": "x2",
         "categoryarray": [
          "Disjoint",
          "Contained",
          "Crossing"
         ],
         "categoryorder": "array",
         "domain": [
          0.17166666666666666,
          0.31333333333333335
         ],
         "matches": "y",
         "showticklabels": true,
         "tickfont": {
          "size": 24
         },
         "title": {
          "text": ""
         },
         "visible": true
        },
        "yaxis3": {
         "anchor": "x3",
         "categoryarray": [
          "Disjoint",
          "Contained",
          "Crossing"
         ],
         "categoryorder": "array",
         "domain": [
          0.3433333333333333,
          0.485
         ],
         "matches": "y",
         "showticklabels": true,
         "tickfont": {
          "size": 24
         },
         "title": {
          "text": ""
         },
         "visible": true
        },
        "yaxis4": {
         "anchor": "x4",
         "categoryarray": [
          "Disjoint",
          "Contained",
          "Crossing"
         ],
         "categoryorder": "array",
         "domain": [
          0.515,
          0.6566666666666667
         ],
         "matches": "y",
         "showticklabels": true,
         "tickfont": {
          "size": 24
         },
         "title": {
          "text": ""
         },
         "visible": true
        },
        "yaxis5": {
         "anchor": "x5",
         "categoryarray": [
          "Disjoint",
          "Contained",
          "Crossing"
         ],
         "categoryorder": "array",
         "domain": [
          0.6866666666666666,
          0.8283333333333334
         ],
         "matches": "y",
         "showticklabels": true,
         "tickfont": {
          "size": 24
         },
         "title": {
          "text": ""
         },
         "visible": true
        },
        "yaxis6": {
         "anchor": "x6",
         "categoryarray": [
          "Disjoint",
          "Contained",
          "Crossing"
         ],
         "categoryorder": "array",
         "domain": [
          0.8583333333333333,
          1
         ],
         "matches": "y",
         "showticklabels": true,
         "tickfont": {
          "size": 24
         },
         "title": {
          "text": ""
         },
         "visible": true
        }
       }
      }
     },
     "metadata": {},
     "output_type": "display_data"
    }
   ],
   "source": [
    "plot_chunk_unfolded_frac(chunk_unfolded_df, is_predicate=False, is_baseline=False)"
   ]
  },
  {
   "cell_type": "code",
   "execution_count": 25,
   "metadata": {},
   "outputs": [
    {
     "ename": "KeyboardInterrupt",
     "evalue": "",
     "output_type": "error",
     "traceback": [
      "\u001b[0;31m---------------------------------------------------------------------------\u001b[0m",
      "\u001b[0;31mKeyboardInterrupt\u001b[0m                         Traceback (most recent call last)",
      "Cell \u001b[0;32mIn[25], line 20\u001b[0m\n\u001b[1;32m     17\u001b[0m     mins \u001b[39m=\u001b[39m df\u001b[39m.\u001b[39msort_values(by\u001b[39m=\u001b[39m\u001b[39m'\u001b[39m\u001b[39mtotal_time_ratio\u001b[39m\u001b[39m'\u001b[39m,ascending\u001b[39m=\u001b[39m\u001b[39mTrue\u001b[39;00m)\u001b[39m.\u001b[39mgroupby([\u001b[39m'\u001b[39m\u001b[39mcontext\u001b[39m\u001b[39m'\u001b[39m,\u001b[39m'\u001b[39m\u001b[39msizes\u001b[39m\u001b[39m'\u001b[39m])\u001b[39m.\u001b[39mhead(\u001b[39m1\u001b[39m)\n\u001b[1;32m     18\u001b[0m     \u001b[39mreturn\u001b[39;00m mins, maxes\n\u001b[0;32m---> 20\u001b[0m mins, maxes \u001b[39m=\u001b[39m get_max_min_relative_speed(stats_df)\n\u001b[1;32m     21\u001b[0m \u001b[39mprint\u001b[39m(\u001b[39m\"\u001b[39m\u001b[39m_______________________\u001b[39m\u001b[39m\\\u001b[39m\u001b[39mLowest relative speed by context and size\u001b[39m\u001b[39m\"\u001b[39m)\n\u001b[1;32m     22\u001b[0m display(mins)\n",
      "Cell \u001b[0;32mIn[25], line 12\u001b[0m, in \u001b[0;36mget_max_min_relative_speed\u001b[0;34m(df)\u001b[0m\n\u001b[1;32m      9\u001b[0m         \u001b[39mreturn\u001b[39;00m \u001b[39mNone\u001b[39;00m\n\u001b[1;32m     11\u001b[0m df \u001b[39m=\u001b[39m df[stats_df[\u001b[39m'\u001b[39m\u001b[39mpredicate\u001b[39m\u001b[39m'\u001b[39m] \u001b[39m==\u001b[39m \u001b[39mFalse\u001b[39;00m]\n\u001b[0;32m---> 12\u001b[0m df_relative \u001b[39m=\u001b[39m df\u001b[39m.\u001b[39;49mgroupby([\u001b[39m\"\u001b[39;49m\u001b[39mdataset_idx\u001b[39;49m\u001b[39m\"\u001b[39;49m, \u001b[39m\"\u001b[39;49m\u001b[39mdataset\u001b[39;49m\u001b[39m\"\u001b[39;49m])\u001b[39m.\u001b[39;49mapply(calculate_ratio)\n\u001b[1;32m     14\u001b[0m df \u001b[39m=\u001b[39m df[\u001b[39m~\u001b[39mdf[\u001b[39m'\u001b[39m\u001b[39mbaseline\u001b[39m\u001b[39m'\u001b[39m]]\n\u001b[1;32m     15\u001b[0m df[\u001b[39m'\u001b[39m\u001b[39mtotal_time_ratio\u001b[39m\u001b[39m'\u001b[39m] \u001b[39m=\u001b[39m df_relative\u001b[39m.\u001b[39mvalues\n",
      "File \u001b[0;32m~/miniconda3/envs/ada/lib/python3.9/site-packages/pandas/core/groupby/groupby.py:1423\u001b[0m, in \u001b[0;36mGroupBy.apply\u001b[0;34m(self, func, *args, **kwargs)\u001b[0m\n\u001b[1;32m   1421\u001b[0m \u001b[39mwith\u001b[39;00m option_context(\u001b[39m\"\u001b[39m\u001b[39mmode.chained_assignment\u001b[39m\u001b[39m\"\u001b[39m, \u001b[39mNone\u001b[39;00m):\n\u001b[1;32m   1422\u001b[0m     \u001b[39mtry\u001b[39;00m:\n\u001b[0;32m-> 1423\u001b[0m         result \u001b[39m=\u001b[39m \u001b[39mself\u001b[39;49m\u001b[39m.\u001b[39;49m_python_apply_general(f, \u001b[39mself\u001b[39;49m\u001b[39m.\u001b[39;49m_selected_obj)\n\u001b[1;32m   1424\u001b[0m     \u001b[39mexcept\u001b[39;00m \u001b[39mTypeError\u001b[39;00m:\n\u001b[1;32m   1425\u001b[0m         \u001b[39m# gh-20949\u001b[39;00m\n\u001b[1;32m   1426\u001b[0m         \u001b[39m# try again, with .apply acting as a filtering\u001b[39;00m\n\u001b[0;32m   (...)\u001b[0m\n\u001b[1;32m   1430\u001b[0m         \u001b[39m# fails on *some* columns, e.g. a numeric operation\u001b[39;00m\n\u001b[1;32m   1431\u001b[0m         \u001b[39m# on a string grouper column\u001b[39;00m\n\u001b[1;32m   1433\u001b[0m         \u001b[39mwith\u001b[39;00m \u001b[39mself\u001b[39m\u001b[39m.\u001b[39m_group_selection_context():\n",
      "File \u001b[0;32m~/miniconda3/envs/ada/lib/python3.9/site-packages/pandas/core/groupby/groupby.py:1464\u001b[0m, in \u001b[0;36mGroupBy._python_apply_general\u001b[0;34m(self, f, data, not_indexed_same)\u001b[0m\n\u001b[1;32m   1438\u001b[0m \u001b[39m@final\u001b[39m\n\u001b[1;32m   1439\u001b[0m \u001b[39mdef\u001b[39;00m \u001b[39m_python_apply_general\u001b[39m(\n\u001b[1;32m   1440\u001b[0m     \u001b[39mself\u001b[39m,\n\u001b[0;32m   (...)\u001b[0m\n\u001b[1;32m   1443\u001b[0m     not_indexed_same: \u001b[39mbool\u001b[39m \u001b[39m|\u001b[39m \u001b[39mNone\u001b[39;00m \u001b[39m=\u001b[39m \u001b[39mNone\u001b[39;00m,\n\u001b[1;32m   1444\u001b[0m ) \u001b[39m-\u001b[39m\u001b[39m>\u001b[39m DataFrame \u001b[39m|\u001b[39m Series:\n\u001b[1;32m   1445\u001b[0m     \u001b[39m\"\"\"\u001b[39;00m\n\u001b[1;32m   1446\u001b[0m \u001b[39m    Apply function f in python space\u001b[39;00m\n\u001b[1;32m   1447\u001b[0m \n\u001b[0;32m   (...)\u001b[0m\n\u001b[1;32m   1462\u001b[0m \u001b[39m        data after applying f\u001b[39;00m\n\u001b[1;32m   1463\u001b[0m \u001b[39m    \"\"\"\u001b[39;00m\n\u001b[0;32m-> 1464\u001b[0m     values, mutated \u001b[39m=\u001b[39m \u001b[39mself\u001b[39;49m\u001b[39m.\u001b[39;49mgrouper\u001b[39m.\u001b[39;49mapply(f, data, \u001b[39mself\u001b[39;49m\u001b[39m.\u001b[39;49maxis)\n\u001b[1;32m   1466\u001b[0m     \u001b[39mif\u001b[39;00m not_indexed_same \u001b[39mis\u001b[39;00m \u001b[39mNone\u001b[39;00m:\n\u001b[1;32m   1467\u001b[0m         not_indexed_same \u001b[39m=\u001b[39m mutated \u001b[39mor\u001b[39;00m \u001b[39mself\u001b[39m\u001b[39m.\u001b[39mmutated\n",
      "File \u001b[0;32m~/miniconda3/envs/ada/lib/python3.9/site-packages/pandas/core/groupby/ops.py:761\u001b[0m, in \u001b[0;36mBaseGrouper.apply\u001b[0;34m(self, f, data, axis)\u001b[0m\n\u001b[1;32m    759\u001b[0m \u001b[39m# group might be modified\u001b[39;00m\n\u001b[1;32m    760\u001b[0m group_axes \u001b[39m=\u001b[39m group\u001b[39m.\u001b[39maxes\n\u001b[0;32m--> 761\u001b[0m res \u001b[39m=\u001b[39m f(group)\n\u001b[1;32m    762\u001b[0m \u001b[39mif\u001b[39;00m \u001b[39mnot\u001b[39;00m mutated \u001b[39mand\u001b[39;00m \u001b[39mnot\u001b[39;00m _is_indexed_like(res, group_axes, axis):\n\u001b[1;32m    763\u001b[0m     mutated \u001b[39m=\u001b[39m \u001b[39mTrue\u001b[39;00m\n",
      "Cell \u001b[0;32mIn[25], line 3\u001b[0m, in \u001b[0;36mget_max_min_relative_speed.<locals>.calculate_ratio\u001b[0;34m(x)\u001b[0m\n\u001b[1;32m      2\u001b[0m \u001b[39mdef\u001b[39;00m \u001b[39mcalculate_ratio\u001b[39m(x):\n\u001b[0;32m----> 3\u001b[0m     base \u001b[39m=\u001b[39m x[x[\u001b[39m\"\u001b[39;49m\u001b[39mbaseline\u001b[39;49m\u001b[39m\"\u001b[39;49m] \u001b[39m==\u001b[39;49m \u001b[39mTrue\u001b[39;49;00m][\u001b[39m'\u001b[39m\u001b[39mtotal_time\u001b[39m\u001b[39m'\u001b[39m]\n\u001b[1;32m      4\u001b[0m     non_base \u001b[39m=\u001b[39m x[x[\u001b[39m\"\u001b[39m\u001b[39mbaseline\u001b[39m\u001b[39m\"\u001b[39m] \u001b[39m==\u001b[39m \u001b[39mFalse\u001b[39;00m][\u001b[39m'\u001b[39m\u001b[39mtotal_time\u001b[39m\u001b[39m'\u001b[39m]\n\u001b[1;32m      5\u001b[0m     \u001b[39mif\u001b[39;00m \u001b[39mnot\u001b[39;00m base\u001b[39m.\u001b[39mempty \u001b[39mand\u001b[39;00m \u001b[39mnot\u001b[39;00m non_base\u001b[39m.\u001b[39mempty:\n",
      "File \u001b[0;32m~/miniconda3/envs/ada/lib/python3.9/site-packages/pandas/core/ops/common.py:70\u001b[0m, in \u001b[0;36m_unpack_zerodim_and_defer.<locals>.new_method\u001b[0;34m(self, other)\u001b[0m\n\u001b[1;32m     66\u001b[0m             \u001b[39mreturn\u001b[39;00m \u001b[39mNotImplemented\u001b[39m\n\u001b[1;32m     68\u001b[0m other \u001b[39m=\u001b[39m item_from_zerodim(other)\n\u001b[0;32m---> 70\u001b[0m \u001b[39mreturn\u001b[39;00m method(\u001b[39mself\u001b[39;49m, other)\n",
      "File \u001b[0;32m~/miniconda3/envs/ada/lib/python3.9/site-packages/pandas/core/arraylike.py:40\u001b[0m, in \u001b[0;36mOpsMixin.__eq__\u001b[0;34m(self, other)\u001b[0m\n\u001b[1;32m     38\u001b[0m \u001b[39m@unpack_zerodim_and_defer\u001b[39m(\u001b[39m\"\u001b[39m\u001b[39m__eq__\u001b[39m\u001b[39m\"\u001b[39m)\n\u001b[1;32m     39\u001b[0m \u001b[39mdef\u001b[39;00m \u001b[39m__eq__\u001b[39m(\u001b[39mself\u001b[39m, other):\n\u001b[0;32m---> 40\u001b[0m     \u001b[39mreturn\u001b[39;00m \u001b[39mself\u001b[39;49m\u001b[39m.\u001b[39;49m_cmp_method(other, operator\u001b[39m.\u001b[39;49meq)\n",
      "File \u001b[0;32m~/miniconda3/envs/ada/lib/python3.9/site-packages/pandas/core/series.py:5625\u001b[0m, in \u001b[0;36mSeries._cmp_method\u001b[0;34m(self, other, op)\u001b[0m\n\u001b[1;32m   5622\u001b[0m \u001b[39mwith\u001b[39;00m np\u001b[39m.\u001b[39merrstate(\u001b[39mall\u001b[39m\u001b[39m=\u001b[39m\u001b[39m\"\u001b[39m\u001b[39mignore\u001b[39m\u001b[39m\"\u001b[39m):\n\u001b[1;32m   5623\u001b[0m     res_values \u001b[39m=\u001b[39m ops\u001b[39m.\u001b[39mcomparison_op(lvalues, rvalues, op)\n\u001b[0;32m-> 5625\u001b[0m \u001b[39mreturn\u001b[39;00m \u001b[39mself\u001b[39;49m\u001b[39m.\u001b[39;49m_construct_result(res_values, name\u001b[39m=\u001b[39;49mres_name)\n",
      "File \u001b[0;32m~/miniconda3/envs/ada/lib/python3.9/site-packages/pandas/core/series.py:3017\u001b[0m, in \u001b[0;36mSeries._construct_result\u001b[0;34m(self, result, name)\u001b[0m\n\u001b[1;32m   3013\u001b[0m     \u001b[39mreturn\u001b[39;00m (res1, res2)\n\u001b[1;32m   3015\u001b[0m \u001b[39m# We do not pass dtype to ensure that the Series constructor\u001b[39;00m\n\u001b[1;32m   3016\u001b[0m \u001b[39m#  does inference in the case where `result` has object-dtype.\u001b[39;00m\n\u001b[0;32m-> 3017\u001b[0m out \u001b[39m=\u001b[39m \u001b[39mself\u001b[39;49m\u001b[39m.\u001b[39;49m_constructor(result, index\u001b[39m=\u001b[39;49m\u001b[39mself\u001b[39;49m\u001b[39m.\u001b[39;49mindex)\n\u001b[1;32m   3018\u001b[0m out \u001b[39m=\u001b[39m out\u001b[39m.\u001b[39m__finalize__(\u001b[39mself\u001b[39m)\n\u001b[1;32m   3020\u001b[0m \u001b[39m# Set the result's name after __finalize__ is called because __finalize__\u001b[39;00m\n\u001b[1;32m   3021\u001b[0m \u001b[39m#  would set it back to self.name\u001b[39;00m\n",
      "File \u001b[0;32m~/miniconda3/envs/ada/lib/python3.9/site-packages/pandas/core/series.py:455\u001b[0m, in \u001b[0;36mSeries.__init__\u001b[0;34m(self, data, index, dtype, name, copy, fastpath)\u001b[0m\n\u001b[1;32m    453\u001b[0m manager \u001b[39m=\u001b[39m get_option(\u001b[39m\"\u001b[39m\u001b[39mmode.data_manager\u001b[39m\u001b[39m\"\u001b[39m)\n\u001b[1;32m    454\u001b[0m \u001b[39mif\u001b[39;00m manager \u001b[39m==\u001b[39m \u001b[39m\"\u001b[39m\u001b[39mblock\u001b[39m\u001b[39m\"\u001b[39m:\n\u001b[0;32m--> 455\u001b[0m     data \u001b[39m=\u001b[39m SingleBlockManager\u001b[39m.\u001b[39;49mfrom_array(data, index)\n\u001b[1;32m    456\u001b[0m \u001b[39melif\u001b[39;00m manager \u001b[39m==\u001b[39m \u001b[39m\"\u001b[39m\u001b[39marray\u001b[39m\u001b[39m\"\u001b[39m:\n\u001b[1;32m    457\u001b[0m     data \u001b[39m=\u001b[39m SingleArrayManager\u001b[39m.\u001b[39mfrom_array(data, index)\n",
      "File \u001b[0;32m~/miniconda3/envs/ada/lib/python3.9/site-packages/pandas/core/internals/managers.py:1751\u001b[0m, in \u001b[0;36mSingleBlockManager.from_array\u001b[0;34m(cls, array, index)\u001b[0m\n\u001b[1;32m   1747\u001b[0m \u001b[39m\"\"\"\u001b[39;00m\n\u001b[1;32m   1748\u001b[0m \u001b[39mConstructor for if we have an array that is not yet a Block.\u001b[39;00m\n\u001b[1;32m   1749\u001b[0m \u001b[39m\"\"\"\u001b[39;00m\n\u001b[1;32m   1750\u001b[0m block \u001b[39m=\u001b[39m new_block(array, placement\u001b[39m=\u001b[39m\u001b[39mslice\u001b[39m(\u001b[39m0\u001b[39m, \u001b[39mlen\u001b[39m(index)), ndim\u001b[39m=\u001b[39m\u001b[39m1\u001b[39m)\n\u001b[0;32m-> 1751\u001b[0m \u001b[39mreturn\u001b[39;00m \u001b[39mcls\u001b[39;49m(block, index)\n",
      "File \u001b[0;32m~/miniconda3/envs/ada/lib/python3.9/site-packages/pandas/core/internals/managers.py:1733\u001b[0m, in \u001b[0;36mSingleBlockManager.__init__\u001b[0;34m(self, block, axis, verify_integrity, fastpath)\u001b[0m\n\u001b[1;32m   1725\u001b[0m \u001b[39mif\u001b[39;00m fastpath \u001b[39mis\u001b[39;00m \u001b[39mnot\u001b[39;00m lib\u001b[39m.\u001b[39mno_default:\n\u001b[1;32m   1726\u001b[0m     warnings\u001b[39m.\u001b[39mwarn(\n\u001b[1;32m   1727\u001b[0m         \u001b[39m\"\u001b[39m\u001b[39mThe `fastpath` keyword is deprecated and will be removed \u001b[39m\u001b[39m\"\u001b[39m\n\u001b[1;32m   1728\u001b[0m         \u001b[39m\"\u001b[39m\u001b[39min a future version.\u001b[39m\u001b[39m\"\u001b[39m,\n\u001b[1;32m   1729\u001b[0m         \u001b[39mFutureWarning\u001b[39;00m,\n\u001b[1;32m   1730\u001b[0m         stacklevel\u001b[39m=\u001b[39mfind_stack_level(),\n\u001b[1;32m   1731\u001b[0m     )\n\u001b[0;32m-> 1733\u001b[0m \u001b[39mself\u001b[39;49m\u001b[39m.\u001b[39;49maxes \u001b[39m=\u001b[39m [axis]\n\u001b[1;32m   1734\u001b[0m \u001b[39mself\u001b[39m\u001b[39m.\u001b[39mblocks \u001b[39m=\u001b[39m (block,)\n",
      "\u001b[0;31mKeyboardInterrupt\u001b[0m: "
     ]
    }
   ],
   "source": [
    "def get_max_min_relative_speed(df):\n",
    "    def calculate_ratio(x):\n",
    "        base = x[x[\"baseline\"] == True]['total_time']\n",
    "        non_base = x[x[\"baseline\"] == False]['total_time']\n",
    "        if not base.empty and not non_base.empty:\n",
    "            val = non_base.iloc[0] / base.iloc[0]\n",
    "            return val\n",
    "        else:\n",
    "            return None\n",
    "\n",
    "    df = df[stats_df['predicate'] == False]\n",
    "    df_relative = df.groupby([\"dataset_idx\", \"dataset\"]).apply(calculate_ratio)\n",
    "\n",
    "    df = df[~df['baseline']]\n",
    "    df['total_time_ratio'] = df_relative.values\n",
    "    maxes = df.sort_values(by='total_time_ratio',ascending=False).groupby(['context','sizes']).head(1)\n",
    "    mins = df.sort_values(by='total_time_ratio',ascending=True).groupby(['context','sizes']).head(1)\n",
    "    return mins, maxes\n",
    "\n",
    "mins, maxes = get_max_min_relative_speed(stats_df)\n",
    "print(\"_______________________\\Lowest relative speed by context and size\")\n",
    "display(mins)\n",
    "print(\"_______________________\\nHighest relative speed by context and size\")\n",
    "\n",
    "display(maxes)\n"
   ]
  },
  {
   "cell_type": "code",
   "execution_count": null,
   "metadata": {},
   "outputs": [],
   "source": []
  },
  {
   "cell_type": "code",
   "execution_count": null,
   "metadata": {},
   "outputs": [],
   "source": []
  }
 ],
 "metadata": {
  "kernelspec": {
   "display_name": "Python 3",
   "language": "python",
   "name": "python3"
  },
  "language_info": {
   "codemirror_mode": {
    "name": "ipython",
    "version": 3
   },
   "file_extension": ".py",
   "mimetype": "text/x-python",
   "name": "python",
   "nbconvert_exporter": "python",
   "pygments_lexer": "ipython3",
   "version": "3.9.13"
  },
  "orig_nbformat": 4,
  "vscode": {
   "interpreter": {
    "hash": "aee8b7b246df8f9039afb4144a1f6fd8d2ca17a180786b69acc140d282b71a49"
   }
  }
 },
 "nbformat": 4,
 "nbformat_minor": 2
}

