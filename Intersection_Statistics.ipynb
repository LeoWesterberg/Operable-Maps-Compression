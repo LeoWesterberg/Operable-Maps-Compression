{
 "cells": [
  {
   "attachments": {},
   "cell_type": "markdown",
   "metadata": {},
   "source": [
    "#### Imports"
   ]
  },
  {
   "cell_type": "code",
   "execution_count": 1,
   "metadata": {},
   "outputs": [],
   "source": [
    "import numpy as np\n",
    "import shapely\n",
    "import bisect\n",
    "import shapely.wkt\n",
    "import matplotlib.pyplot as plt\n",
    "import math\n",
    "import geopandas as gpd\n",
    "import json\n",
    "import pandas as pd\n",
    "import seaborn as sns\n",
    "from enum import Enum\n",
    "import plotly.graph_objects as go\n",
    "from plotly.subplots import make_subplots\n",
    "\n",
    "\n",
    "import intersection.first_bin_search\n",
    "import intersection.chunk_bbox_intersection\n",
    "from bench_utils import parse_intersection_data \n",
    "common_bbox = intersection.chunk_bbox_intersection.common_bbox\n",
    "chunk_bbox_is_intersecting = intersection.chunk_bbox_intersection.is_intersecting\n",
    "chunk_bbox_intersection = intersection.chunk_bbox_intersection.intersection\n",
    "\n",
    "\n",
    "\n",
    "from intersection.plotting import *\n",
    "import algos.fpd_extended_lib.cfg as cfg\n",
    "from algos.alg_fpd_extended import FpdExtended\n",
    "\n",
    "\n",
    "pd.options.mode.chained_assignment = None  # default='warn'"
   ]
  },
  {
   "attachments": {},
   "cell_type": "markdown",
   "metadata": {},
   "source": [
    "#### Import data"
   ]
  },
  {
   "cell_type": "code",
   "execution_count": 4,
   "metadata": {},
   "outputs": [],
   "source": [
    "fpd = FpdExtended()\n",
    "\n",
    "# Geometries\n",
    "manual_data, _ = parse_intersection_data(\"manual\")\n",
    "special_cases, _ = parse_intersection_data(\"latest_export.json\", strip_precision=True)\n",
    "world_data, world_data_stats = parse_intersection_data(\"world.json\",1000, strip_precision=True)\n",
    "lund_data, lund_data_stats = parse_intersection_data(\"lund.json\",5000)\n",
    "sweden_data, sweden_data_stats = parse_intersection_data(\"sweden-places-a.json\",1000)\n",
    "new_york_data, new_york_data_stats = parse_intersection_data(\"new-york-natural.json\",1000)\n",
    "waterways_data, waterways_data_stats = parse_intersection_data(\"nord-est-waterways.json\",1000)\n",
    "\n",
    "datasets = [\n",
    "    manual_data,\n",
    "    special_cases,\n",
    "    world_data,\n",
    "    lund_data,\n",
    "    sweden_data,\n",
    "    new_york_data,\n",
    "    waterways_data\n",
    "]\n"
   ]
  },
  {
   "attachments": {},
   "cell_type": "markdown",
   "metadata": {},
   "source": [
    "#### Constants"
   ]
  },
  {
   "cell_type": "code",
   "execution_count": 9,
   "metadata": {},
   "outputs": [],
   "source": [
    "# Number of total iterations = NBR_ITER * N * number_of_datasets\n",
    "NBR_ITER = -1 # Number of iterations for each dataset\n",
    "N = 1 # Number of times to recalculate each geometry for reliable mean value\n",
    "\n",
    "# Max DELTA_SIZE_VALUE in MAX_NUM_DELTAS Analysis\n",
    "MAX_DELTA_SIZE = 100\n",
    "\n",
    "#Geometry classification sizes\n",
    "MEDIUM_THRESHOLD = 50\n",
    "LARGE_THRESHOLD = 100"
   ]
  },
  {
   "attachments": {},
   "cell_type": "markdown",
   "metadata": {},
   "source": [
    "## Functions Section"
   ]
  },
  {
   "attachments": {},
   "cell_type": "markdown",
   "metadata": {},
   "source": [
    "#### Config Setter Functions"
   ]
  },
  {
   "cell_type": "code",
   "execution_count": 10,
   "metadata": {},
   "outputs": [],
   "source": [
    "def set_max_num_delta(val):\n",
    "        cfg.MAX_NUM_DELTAS = val\n",
    "        cfg.D_CNT_SIZE = cfg.required_bits(val)\n",
    "\n",
    "def act_deact_baseline(activate=True):\n",
    "        cfg.BASELINE_ON = activate\n",
    "        cfg.DISABLE_OPTIMIZED_INTERSECTION = False if not activate else True\n",
    "        cfg.DISABLE_OPTIMIZED_ADD_VERTEX = False if not activate else True\n",
    "        cfg.DISABLE_OPTIMIZED_BOUNDING_BOX = False if not activate else True"
   ]
  },
  {
   "attachments": {},
   "cell_type": "markdown",
   "metadata": {},
   "source": [
    "#### Stats Collector Functions"
   ]
  },
  {
   "cell_type": "code",
   "execution_count": 11,
   "metadata": {},
   "outputs": [],
   "source": [
    "def get_size_category(size):\n",
    "    if size < LARGE_THRESHOLD and size >= MEDIUM_THRESHOLD:\n",
    "            return \"Medium\", 1\n",
    "    elif size >= LARGE_THRESHOLD:\n",
    "         return \"Large\", 2\n",
    "    else:\n",
    "         return \"Small\", 0\n",
    "    \n",
    "def get_intersection_category(size1, size2):\n",
    "    size1_cat, type1 = get_size_category(size1)\n",
    "    size2_cat, type2 = get_size_category(size2)\n",
    "\n",
    "    if type1 <= type2:\n",
    "        return size1_cat + \"/\" + size2_cat\n",
    "    return size2_cat + \"/\" + size1_cat\n",
    "\n",
    "\n",
    "def get_context_category(g1, g2, bins=None):\n",
    "    if bins == None:\n",
    "        _, b1_fpde = fpd.compress(g1)\n",
    "        _, b2_fpde = fpd.compress(g2) \n",
    "    else:\n",
    "        b1_fpde, b2_fpde = bins\n",
    "\n",
    "    bbox = common_bbox((b1_fpde, b2_fpde))\n",
    "    intersects = shapely.intersection(g1, g2)\n",
    "    contains = shapely.contains(g1, g2) or shapely.contains(g2, g1)\n",
    "    if not bbox:\n",
    "        return \"No Overlap (FALSE)\"\n",
    "    elif not intersects:\n",
    "        return \"Overlap (FALSE)\"\n",
    "    elif not contains:\n",
    "        return \"Partial Overlap (TRUE)\"\n",
    "    else:\n",
    "        return \"Fully Inside Other (TRUE)\"\n",
    "\n",
    "def get_category_stat(g1, g2):\n",
    "        s1, s2 = (shapely.get_num_coordinates(g1), shapely.get_num_coordinates(g2))\n",
    "        size_category = get_intersection_category(s1, s2)\n",
    "        context_category = get_context_category(g1, g2)\n",
    "        return [size_category, context_category]\n",
    "\n",
    "\n",
    "#For taking mean of all stats, not just total time\n",
    "def get_time_stat(bins, predicate=False):\n",
    "    alg = chunk_bbox_is_intersecting if predicate else chunk_bbox_intersection\n",
    "    # 'decomp', 'nbr_recieved_chks', 'nbr_total_chks', 'total_time'\n",
    "    mean_stat = [0, 0, 0, 0]\n",
    "    for i in range(N):\n",
    "        stat, _ = alg(bins, get_stats=True)\n",
    "        mean_stat = [sum(x) for x in zip(mean_stat, stat)]\n",
    "    return mean_stat\n"
   ]
  },
  {
   "attachments": {},
   "cell_type": "markdown",
   "metadata": {},
   "source": [
    "#### Dataset Evaluation"
   ]
  },
  {
   "cell_type": "code",
   "execution_count": 13,
   "metadata": {},
   "outputs": [],
   "source": [
    "def evaluate_dataset(data, stats_df, delta_size=None, not_predicate=False, add_size=False):\n",
    "    for idx, (g1, g2) in enumerate(data):\n",
    "        if delta_size != None:\n",
    "            set_max_num_delta(delta_size)\n",
    "        #is_intersecting, intersect_points = binary_intersection(g1, g2)\n",
    "        bins = (fpd.compress(g1)[1], fpd.compress(g2)[1])\n",
    "\n",
    "        for is_predicate in [False] if not_predicate else [True, False]:\n",
    "            stats = []\n",
    "            stats.extend(get_time_stat(bins=bins, predicate=is_predicate))\n",
    "            stats.extend(get_category_stat(g1, g2))\n",
    "            stats.append(delta_size if delta_size != None else cfg.MAX_NUM_DELTAS)\n",
    "            stats.append(is_predicate)\n",
    "            stats.append(idx)\n",
    "            stats.append(cfg.BASELINE_ON)\n",
    "            if add_size:\n",
    "                stats.append(len(bins[0]) + len(bins[1]))\n",
    "            stats_df.loc[len(stats_df)] = stats"
   ]
  },
  {
   "attachments": {},
   "cell_type": "markdown",
   "metadata": {},
   "source": [
    "# Statistics Visualization"
   ]
  },
  {
   "attachments": {},
   "cell_type": "markdown",
   "metadata": {},
   "source": [
    "#### Best MAX_NUM_DELTAS per Dataset Analysis"
   ]
  },
  {
   "cell_type": "code",
   "execution_count": 14,
   "metadata": {},
   "outputs": [
    {
     "name": "stderr",
     "output_type": "stream",
     "text": [
      "  1%|          | 1/100 [04:21<7:11:41, 261.64s/it]"
     ]
    }
   ],
   "source": [
    "from tqdm import tqdm\n",
    "max_deltas_df = pd.DataFrame(columns=['decomp', 'nbr_recieved_chks', 'nbr_total_chks', 'total_time', \"sizes\", \"context\", \"delta_size\", \"predicate\", \"dataset_idx\", \"baseline\", \"sum_size\"])\n",
    "for max_delta_size in tqdm(range(0,MAX_DELTA_SIZE)):\n",
    "    for dataset in datasets:\n",
    "        for baseline_on in [True, False]:\n",
    "            act_deact_baseline(activate=baseline_on)        \n",
    "            evaluate_dataset(data=dataset, stats_df=max_deltas_df, delta_size=max_delta_size,not_predicate=True, add_size=True)    "
   ]
  },
  {
   "cell_type": "code",
   "execution_count": null,
   "metadata": {},
   "outputs": [],
   "source": [
    "max_deltas_filt_df = max_deltas_df[['total_time', \"sizes\", \"delta_size\", \"predicate\", \"baseline\"]]"
   ]
  },
  {
   "cell_type": "code",
   "execution_count": null,
   "metadata": {},
   "outputs": [],
   "source": [
    "def plot_max_delta_size_speed(df, is_predicate=False):\n",
    "    df = df[df['predicate'] == is_predicate]\n",
    "    df = df.groupby(['delta_size', 'sizes', 'baseline']).mean()\n",
    "    df.reset_index(inplace=True)\n",
    "    \n",
    "    sizes = dict(zip(list(df.sizes.unique()), range(len(df.sizes.unique()))))\n",
    "    fig = make_subplots(rows=2, cols=3, subplot_titles=(list(sizes.keys())), horizontal_spacing=0.1, x_title=\"Max Chunk Size\", y_title=\"Mean Execution Time (s)\")\n",
    "    for size in sizes.keys():\n",
    "        curr_context_df = df[(df['sizes'] == size)]\n",
    "        for is_baseline in [True, False]:\n",
    "            curr_df = curr_context_df[curr_context_df['baseline'] == is_baseline]\n",
    "            baseline_formatting = \"FPDE\" if not is_baseline else \"Baseline\"\n",
    "            fig.add_trace(go.Scatter(x=curr_df.delta_size.values, y=curr_df.total_time.values,\n",
    "                                    mode='lines',\n",
    "                                    name=f\"{baseline_formatting}\"),row=sizes[size] // 3 + 1, col=sizes[size] % 3 + 1)\n",
    "            \n",
    "    \n",
    "    intersection_format = \"Intersection\" if not is_predicate else \"IsIntersection\"\n",
    "    baseline_format = \"\" if not is_baseline else \"(Baseline)\"\n",
    "    fig.update_layout(title=f\"Execution Time for {intersection_format} by Max Chunk Size {baseline_format}\",title_x=0.5)\n",
    "    fig.show()"
   ]
  },
  {
   "attachments": {},
   "cell_type": "markdown",
   "metadata": {},
   "source": []
  },
  {
   "cell_type": "code",
   "execution_count": null,
   "metadata": {},
   "outputs": [],
   "source": [
    "plot_max_delta_size_speed(max_deltas_filt_df, is_predicate=False)\n",
    "plot_max_delta_size_speed(max_deltas_filt_df, is_predicate=False)"
   ]
  },
  {
   "attachments": {},
   "cell_type": "markdown",
   "metadata": {},
   "source": [
    "#### Dataset Stats Collection"
   ]
  },
  {
   "cell_type": "code",
   "execution_count": null,
   "metadata": {},
   "outputs": [
    {
     "ename": "KeyboardInterrupt",
     "evalue": "",
     "output_type": "error",
     "traceback": [
      "\u001b[0;31m---------------------------------------------------------------------------\u001b[0m",
      "\u001b[0;31mKeyboardInterrupt\u001b[0m                         Traceback (most recent call last)",
      "Cell \u001b[0;32mIn[8], line 5\u001b[0m\n\u001b[1;32m      3\u001b[0m act_deact_baseline(activate\u001b[39m=\u001b[39mbaseline_on)\n\u001b[1;32m      4\u001b[0m \u001b[39mfor\u001b[39;00m dataset \u001b[39min\u001b[39;00m datasets:\n\u001b[0;32m----> 5\u001b[0m     evaluate_dataset(dataset, stats_df) \u001b[39m# Second param: PLOT?\u001b[39;00m\n",
      "Cell \u001b[0;32mIn[7], line 11\u001b[0m, in \u001b[0;36mevaluate_dataset\u001b[0;34m(data, stats_df, delta_size)\u001b[0m\n\u001b[1;32m      9\u001b[0m stats \u001b[39m=\u001b[39m []\n\u001b[1;32m     10\u001b[0m stats\u001b[39m.\u001b[39mextend(get_time_stat(bins\u001b[39m=\u001b[39mbins, predicate\u001b[39m=\u001b[39mis_predicate))\n\u001b[0;32m---> 11\u001b[0m stats\u001b[39m.\u001b[39mextend(get_category_stat(g1, g2))\n\u001b[1;32m     12\u001b[0m stats\u001b[39m.\u001b[39mappend(delta_size \u001b[39mif\u001b[39;00m delta_size \u001b[39m!=\u001b[39m \u001b[39mNone\u001b[39;00m \u001b[39melse\u001b[39;00m cfg\u001b[39m.\u001b[39mMAX_NUM_DELTAS)\n\u001b[1;32m     13\u001b[0m stats\u001b[39m.\u001b[39mappend(is_predicate)\n",
      "Cell \u001b[0;32mIn[5], line 40\u001b[0m, in \u001b[0;36mget_category_stat\u001b[0;34m(g1, g2)\u001b[0m\n\u001b[1;32m     38\u001b[0m s1, s2 \u001b[39m=\u001b[39m (shapely\u001b[39m.\u001b[39mget_num_coordinates(g1), shapely\u001b[39m.\u001b[39mget_num_coordinates(g2))\n\u001b[1;32m     39\u001b[0m size_category \u001b[39m=\u001b[39m get_intersection_category(s1, s2)\n\u001b[0;32m---> 40\u001b[0m context_category \u001b[39m=\u001b[39m get_context_category(g1, g2)\n\u001b[1;32m     41\u001b[0m \u001b[39mreturn\u001b[39;00m [size_category, context_category]\n",
      "Cell \u001b[0;32mIn[5], line 20\u001b[0m, in \u001b[0;36mget_context_category\u001b[0;34m(g1, g2, bins)\u001b[0m\n\u001b[1;32m     18\u001b[0m \u001b[39mdef\u001b[39;00m \u001b[39mget_context_category\u001b[39m(g1, g2, bins\u001b[39m=\u001b[39m\u001b[39mNone\u001b[39;00m):\n\u001b[1;32m     19\u001b[0m     \u001b[39mif\u001b[39;00m bins \u001b[39m==\u001b[39m \u001b[39mNone\u001b[39;00m:\n\u001b[0;32m---> 20\u001b[0m         _, b1_fpde \u001b[39m=\u001b[39m fpd\u001b[39m.\u001b[39;49mcompress(g1)\n\u001b[1;32m     21\u001b[0m         _, b2_fpde \u001b[39m=\u001b[39m fpd\u001b[39m.\u001b[39mcompress(g2) \n\u001b[1;32m     22\u001b[0m     \u001b[39melse\u001b[39;00m:\n",
      "File \u001b[0;32m~/Desktop/Examensarbete/algos/fpd_extended_lib/compress.py:214\u001b[0m, in \u001b[0;36mcompress\u001b[0;34m(self, geometry)\u001b[0m\n\u001b[1;32m    212\u001b[0m s \u001b[39m=\u001b[39m time\u001b[39m.\u001b[39mperf_counter()\n\u001b[1;32m    213\u001b[0m cfg\u001b[39m.\u001b[39mENTROPY_STATE \u001b[39m=\u001b[39m (cfg\u001b[39m.\u001b[39mENTROPY_METHOD, cfg\u001b[39m.\u001b[39mENTROPY_PARAM, cfg\u001b[39m.\u001b[39mUSE_ENTROPY)\n\u001b[0;32m--> 214\u001b[0m optimal_size, _, deltas \u001b[39m=\u001b[39m calculate_delta_size(geometry, \u001b[39mTrue\u001b[39;49;00m)\n\u001b[1;32m    215\u001b[0m \u001b[39mbin\u001b[39m \u001b[39m=\u001b[39m fp_delta_encoding(geometry, optimal_size, deltas[\u001b[39m1\u001b[39m])\n\u001b[1;32m    216\u001b[0m (cfg\u001b[39m.\u001b[39mENTROPY_METHOD, cfg\u001b[39m.\u001b[39mENTROPY_PARAM, cfg\u001b[39m.\u001b[39mUSE_ENTROPY) \u001b[39m=\u001b[39m cfg\u001b[39m.\u001b[39mENTROPY_STATE\n",
      "File \u001b[0;32m~/Desktop/Examensarbete/algos/fpd_extended_lib/compress.py:189\u001b[0m, in \u001b[0;36mcalculate_delta_size\u001b[0;34m(geometry, coords, return_deltas)\u001b[0m\n\u001b[1;32m    187\u001b[0m d \u001b[39m=\u001b[39m get_zz_encoded_delta(prev[i], coord[i])\n\u001b[1;32m    188\u001b[0m d_bit_cnt \u001b[39m=\u001b[39m \u001b[39m1\u001b[39m \u001b[39mif\u001b[39;00m d \u001b[39m==\u001b[39m \u001b[39m0\u001b[39m \u001b[39melse\u001b[39;00m math\u001b[39m.\u001b[39mceil(math\u001b[39m.\u001b[39mlog2(d))\n\u001b[0;32m--> 189\u001b[0m bit_cnt \u001b[39m=\u001b[39m \u001b[39mmax\u001b[39;49m(bit_cnt, d_bit_cnt)\n\u001b[1;32m    190\u001b[0m \u001b[39mif\u001b[39;00m return_deltas:\n\u001b[1;32m    191\u001b[0m     deltas[\u001b[39m0\u001b[39m]\u001b[39m.\u001b[39mappend(coord[i] \u001b[39m-\u001b[39m prev[i])\n",
      "\u001b[0;31mKeyboardInterrupt\u001b[0m: "
     ]
    }
   ],
   "source": [
    "stats_df = pd.DataFrame(columns=['decomp', 'nbr_recieved_chks', 'nbr_total_chks', 'total_time', \"sizes\", \"context\", \"delta_size\", \"predicate\", \"dataset_idx\", \"baseline\"])\n",
    "for baseline_on in [True, False]:\n",
    "    act_deact_baseline(activate=baseline_on)\n",
    "    for dataset in tqdm(datasets):\n",
    "        evaluate_dataset(dataset, stats_df) # Second param: PLOT?"
   ]
  },
  {
   "cell_type": "code",
   "execution_count": null,
   "metadata": {},
   "outputs": [],
   "source": [
    "if True:\n",
    "    stats_df.to_csv('stats_df.csv', index=False)\n"
   ]
  },
  {
   "cell_type": "markdown",
   "metadata": {},
   "source": [
    "#### Total Execution Time by Context"
   ]
  },
  {
   "cell_type": "code",
   "execution_count": null,
   "metadata": {},
   "outputs": [],
   "source": [
    "import plotly.graph_objs as objs\n",
    "\n",
    "total_time_df = stats_df[['context', 'total_time', 'sizes', 'baseline', 'predicate']]\n",
    "def make_general_facet_title(fig, x_title, y_title):\n",
    "    #Remove current axis titles\n",
    "    for axis in fig.layout:\n",
    "        if type(fig.layout[axis]) == objs.layout.XAxis:\n",
    "            fig.layout[axis].title.text = ''\n",
    "\n",
    "    for axis in fig.layout:\n",
    "        if type(fig.layout[axis]) == objs.layout.YAxis:\n",
    "            fig.layout[axis].title.text = '' \n",
    "    \n",
    "\n",
    "    fig.add_annotation(\n",
    "    dict(\n",
    "        x=0.5,\n",
    "        y=-0.2,  # adjust as needed\n",
    "        showarrow=False,\n",
    "        text=x_title,\n",
    "        xref=\"paper\",\n",
    "        yref=\"paper\",\n",
    "        font=dict(size=14),\n",
    "        xanchor=\"center\", \n",
    "        yanchor=\"top\"\n",
    "    )\n",
    ")\n",
    "    # Add a common y-axis title at the bottom\n",
    "    fig.add_annotation(\n",
    "    dict(\n",
    "        x=-0.04,  # adjust as needed\n",
    "        y=0.5,\n",
    "        showarrow=False,\n",
    "        text=y_title,\n",
    "        textangle=-90,  # to rotate the text for the vertical y-axis\n",
    "        xref=\"paper\",\n",
    "        yref=\"paper\",\n",
    "        font=dict(size=14),\n",
    "        xanchor=\"center\",\n",
    "        yanchor=\"middle\"\n",
    "    )\n",
    ")"
   ]
  },
  {
   "attachments": {},
   "cell_type": "markdown",
   "metadata": {},
   "source": [
    "##### Boxes"
   ]
  },
  {
   "cell_type": "code",
   "execution_count": null,
   "metadata": {},
   "outputs": [],
   "source": [
    "import plotly.express as px\n",
    "def plot_total_time_box(df, is_predicate=False, size_cat_excl=[], log_scale=True):\n",
    "    df = df[df['predicate'] == is_predicate]\n",
    "    \n",
    "    for cat in size_cat_excl:\n",
    "        df = df[df['sizes'].str.contains(cat) == False]\n",
    "\n",
    "    df.reset_index(inplace=True)\n",
    "    intersection_formatting = \"Intersection\" if not is_predicate else \"Is_Intersection\"\n",
    "    fig = px.box(df, \n",
    "                 x=\"context\", \n",
    "                 y=\"total_time\",\n",
    "                 facet_col=\"sizes\", \n",
    "                 color=\"baseline\",\n",
    "                 boxmode=\"group\", \n",
    "                 log_y=log_scale,\n",
    "                 facet_col_spacing=0.1, \n",
    "                 facet_row_spacing=0.1,\n",
    "                 title=f\"Execution Time for {intersection_formatting} in Different Contexts & Sizes\",\n",
    "                 labels=dict(sizes=\"Sizes\", context=\"Context\", baseline=\"Baseline\"),\n",
    "                 facet_col_wrap=3,\n",
    "                 height=700\n",
    "                 )\n",
    "    make_general_facet_title(fig, \"Bouning Box Context\", \"Mean Execution Time (s)\")\n",
    "    fig.update_yaxes(matches=None)\n",
    "    fig.for_each_yaxis(lambda yaxis: yaxis.update(showticklabels=True))\n",
    "    \n",
    "    fig.show()"
   ]
  },
  {
   "attachments": {},
   "cell_type": "markdown",
   "metadata": {},
   "source": [
    "##### Bars"
   ]
  },
  {
   "cell_type": "code",
   "execution_count": null,
   "metadata": {},
   "outputs": [],
   "source": [
    "def plot_total_time_bars(df, is_predicate=False, size_cat_excl=[], log_scale=True):\n",
    "    df = df[df['predicate'] == is_predicate]\n",
    "    \n",
    "    for cat in size_cat_excl:\n",
    "        df = df[df['sizes'].str.contains(cat) == False]\n",
    "    \n",
    "    df.reset_index(inplace=True)\n",
    "    intersection_formatting = \"Intersection\" if not is_predicate else \"Is_Intersection\"\n",
    "    fig = px.histogram(df, \n",
    "                       x=\"context\", \n",
    "                       y=\"total_time\", \n",
    "                       color='baseline',\n",
    "                       facet_col=\"sizes\", \n",
    "                       barmode='group',\n",
    "                       log_y=log_scale, \n",
    "                       facet_col_spacing=0.1, \n",
    "                       histfunc=\"avg\", \n",
    "                       title=f\"Execution Time for {intersection_formatting} in Different Contexts & Sizes\",\n",
    "                       labels=dict(sizes=\"Sizes\", context=\"Context\", baseline=\"Baseline\"),\n",
    "                       facet_col_wrap=3,\n",
    "                       facet_row_spacing=0.1,\n",
    "                       height=700,\n",
    "                       )\n",
    "\n",
    "    make_general_facet_title(fig, \"Bouning Box Context\", \"Mean Execution Time (s)\")\n",
    "\n",
    "    fig.for_each_yaxis(lambda yaxis: yaxis.update(showticklabels=True))\n",
    "    fig.update_yaxes(matches=None, showticklabels=True, visible=True)\n",
    "    fig.update_layout(barmode=\"group\")\n",
    "   \n",
    "    fig.show()\n"
   ]
  },
  {
   "attachments": {},
   "cell_type": "markdown",
   "metadata": {},
   "source": [
    "#### Chunk Unfolding Analyzation"
   ]
  },
  {
   "cell_type": "code",
   "execution_count": null,
   "metadata": {},
   "outputs": [],
   "source": [
    "chunk_unfolded_df = stats_df[['nbr_recieved_chks', 'nbr_total_chks','predicate','baseline', 'context', 'sizes']]\n",
    "chunk_unfolded_df[\"chk_fraction_unfolded\"] = chunk_unfolded_df[\"nbr_recieved_chks\"].div(chunk_unfolded_df.nbr_total_chks, axis=0) * 100"
   ]
  },
  {
   "cell_type": "code",
   "execution_count": null,
   "metadata": {},
   "outputs": [],
   "source": [
    "def plot_chunk_unfolded_frac(df, is_predicate=False, is_baseline=False):\n",
    "    df = df[df['predicate'] == is_predicate]\n",
    "    df = df[df['baseline'] == is_baseline]\n",
    "\n",
    "    df = df.groupby(['context', 'sizes']).mean()\n",
    "    df.reset_index(inplace=True)\n",
    "    x = [\n",
    "        df.context.values,\n",
    "        df.sizes.values\n",
    "        \n",
    "    ]\n",
    "    fig = go.Figure()\n",
    "    fig.add_bar(y=x,x=df.chk_fraction_unfolded.values, name=\"Chunk Fraction Unfolded\", orientation='h')\n",
    "\n",
    "    intersection_format = \"Intersection\" if not is_predicate else \"IsIntersection\"\n",
    "    baseline_format = \"\" if not is_baseline else \"(BASELINE)\"\n",
    "\n",
    "    fig.update_layout(title=f\"Fraction of Chunks Unfolded for {intersection_format} {baseline_format}\",title_x=0.5)\n",
    "    fig.update_layout(barmode=\"relative\", xaxis_title=\"Chunks Unfolded (%)\", yaxis_title=\"Context + Geometry Size\")\n",
    "\n",
    "    fig.show()"
   ]
  },
  {
   "attachments": {},
   "cell_type": "markdown",
   "metadata": {},
   "source": [
    "#### Fraction of Time for Partial Decompression Analysis"
   ]
  },
  {
   "cell_type": "code",
   "execution_count": null,
   "metadata": {},
   "outputs": [],
   "source": [
    "partial_frac_df = stats_df[['decomp', 'total_time', 'predicate','baseline', 'context', 'sizes']]\n",
    "partial_frac_df[\"decomp\"] = partial_frac_df[\"decomp\"].div(partial_frac_df.total_time/100, axis=0)\n",
    "partial_frac_df['algo_time'] = partial_frac_df.apply(lambda x: 100 - x['decomp'], axis=1)"
   ]
  },
  {
   "cell_type": "code",
   "execution_count": null,
   "metadata": {},
   "outputs": [],
   "source": [
    "def plot_partial_decomp_frac(df, is_predicate=False, is_baseline=False):\n",
    "    df = df[df['predicate'] == is_predicate]\n",
    "    df = df[df['baseline'] == is_baseline]\n",
    "\n",
    "    df = df.groupby(['context', 'sizes']).mean()\n",
    "    df.reset_index(inplace=True)\n",
    "    x = [\n",
    "        df.context.values,\n",
    "        df.sizes.values\n",
    "    ]\n",
    "\n",
    "    intersection_format = \"Intersection\" if not is_predicate else \"IsIntersection\"\n",
    "    baseline_format = \"\" if not is_baseline else \"(Baseline)\"\n",
    "    \n",
    "    fig = go.Figure()\n",
    "    fig.add_bar(y=x,x=df.decomp.values, name=\"Decompression Stage\",orientation='h')\n",
    "    fig.add_bar(y=x,x=df.algo_time.values, name=intersection_format, orientation='h')\n",
    "    fig.update_layout(title=f\"Execution Time Distrubution for {intersection_format} {baseline_format}\",title_x=0.5)\n",
    "    fig.update_layout(barmode=\"relative\", xaxis_title=\"Execution Time (%)\", yaxis_title=\"Context + Geometry Size)\")\n",
    "    fig.update_layout(legend=dict(yanchor=\"top\",y=1.2, xanchor=\"right\", x=0.997))\n",
    "    fig.show()"
   ]
  },
  {
   "attachments": {},
   "cell_type": "markdown",
   "metadata": {},
   "source": [
    "## Results"
   ]
  },
  {
   "attachments": {},
   "cell_type": "markdown",
   "metadata": {},
   "source": [
    "#### Total time Analysis"
   ]
  },
  {
   "cell_type": "code",
   "execution_count": null,
   "metadata": {},
   "outputs": [
    {
     "data": {
      "application/vnd.plotly.v1+json": {
       "config": {
        "plotlyServerURL": "https://plot.ly"
       },
       "data": [
        {
         "alignmentgroup": "True",
         "hovertemplate": "Baseline=True<br>Sizes=S/S<br>Context=%{x}<br>total_time=%{y}<extra></extra>",
         "legendgroup": "True",
         "marker": {
          "color": "#636efa"
         },
         "name": "True",
         "notched": false,
         "offsetgroup": "True",
         "orientation": "v",
         "showlegend": true,
         "type": "box",
         "x": [
          "Overlap (FALSE)",
          "Partial Overlap (TRUE)",
          "Fully Inside Other (TRUE)",
          "Overlap (FALSE)",
          "Partial Overlap (TRUE)",
          "Partial Overlap (TRUE)",
          "Partial Overlap (TRUE)",
          "Partial Overlap (TRUE)",
          "Partial Overlap (TRUE)",
          "Partial Overlap (TRUE)",
          "Partial Overlap (TRUE)",
          "Overlap (FALSE)",
          "Overlap (FALSE)",
          "Partial Overlap (TRUE)",
          "Partial Overlap (TRUE)",
          "Fully Inside Other (TRUE)",
          "Fully Inside Other (TRUE)",
          "Partial Overlap (TRUE)",
          "Partial Overlap (TRUE)",
          "Partial Overlap (TRUE)",
          "Partial Overlap (TRUE)",
          "Partial Overlap (TRUE)",
          "Partial Overlap (TRUE)",
          "Overlap (FALSE)",
          "Overlap (FALSE)",
          "Overlap (FALSE)",
          "Fully Inside Other (TRUE)",
          "Partial Overlap (TRUE)",
          "Overlap (FALSE)",
          "Overlap (FALSE)",
          "Overlap (FALSE)",
          "Overlap (FALSE)",
          "Overlap (FALSE)",
          "Overlap (FALSE)",
          "Overlap (FALSE)",
          "Overlap (FALSE)",
          "Overlap (FALSE)",
          "Overlap (FALSE)",
          "Overlap (FALSE)",
          "Overlap (FALSE)",
          "Overlap (FALSE)",
          "Overlap (FALSE)",
          "Overlap (FALSE)",
          "Overlap (FALSE)",
          "Overlap (FALSE)",
          "Overlap (FALSE)",
          "Overlap (FALSE)",
          "Overlap (FALSE)",
          "Overlap (FALSE)",
          "Overlap (FALSE)",
          "Overlap (FALSE)",
          "Overlap (FALSE)",
          "Overlap (FALSE)",
          "Overlap (FALSE)",
          "Overlap (FALSE)",
          "Overlap (FALSE)",
          "Overlap (FALSE)",
          "Overlap (FALSE)",
          "Overlap (FALSE)",
          "Overlap (FALSE)",
          "Overlap (FALSE)",
          "Overlap (FALSE)",
          "Overlap (FALSE)",
          "Overlap (FALSE)",
          "Overlap (FALSE)",
          "Overlap (FALSE)",
          "Overlap (FALSE)",
          "Overlap (FALSE)",
          "Overlap (FALSE)",
          "Overlap (FALSE)",
          "Overlap (FALSE)",
          "Overlap (FALSE)",
          "Overlap (FALSE)",
          "Overlap (FALSE)",
          "Overlap (FALSE)",
          "Overlap (FALSE)",
          "Overlap (FALSE)",
          "Overlap (FALSE)",
          "Overlap (FALSE)",
          "Overlap (FALSE)",
          "Overlap (FALSE)",
          "Overlap (FALSE)",
          "Overlap (FALSE)",
          "Overlap (FALSE)",
          "Overlap (FALSE)",
          "Overlap (FALSE)",
          "Overlap (FALSE)",
          "Overlap (FALSE)",
          "Overlap (FALSE)",
          "Overlap (FALSE)",
          "Overlap (FALSE)",
          "Overlap (FALSE)",
          "Overlap (FALSE)",
          "Overlap (FALSE)",
          "Partial Overlap (TRUE)",
          "Overlap (FALSE)",
          "Overlap (FALSE)",
          "Overlap (FALSE)",
          "Overlap (FALSE)",
          "Overlap (FALSE)",
          "Overlap (FALSE)",
          "Overlap (FALSE)",
          "Overlap (FALSE)",
          "Overlap (FALSE)",
          "Overlap (FALSE)",
          "Overlap (FALSE)",
          "Overlap (FALSE)",
          "Overlap (FALSE)",
          "Overlap (FALSE)",
          "Overlap (FALSE)",
          "Overlap (FALSE)",
          "Overlap (FALSE)",
          "Overlap (FALSE)",
          "Overlap (FALSE)",
          "Partial Overlap (TRUE)",
          "Partial Overlap (TRUE)",
          "Partial Overlap (TRUE)",
          "Partial Overlap (TRUE)",
          "Partial Overlap (TRUE)",
          "Partial Overlap (TRUE)",
          "Partial Overlap (TRUE)",
          "Partial Overlap (TRUE)",
          "Overlap (FALSE)",
          "Partial Overlap (TRUE)",
          "Partial Overlap (TRUE)",
          "Partial Overlap (TRUE)",
          "Partial Overlap (TRUE)",
          "Partial Overlap (TRUE)",
          "Overlap (FALSE)",
          "Overlap (FALSE)",
          "Partial Overlap (TRUE)",
          "Overlap (FALSE)",
          "Overlap (FALSE)",
          "Partial Overlap (TRUE)",
          "Partial Overlap (TRUE)"
         ],
         "x0": " ",
         "xaxis": "x4",
         "y": [
          0.00933435196930077,
          0.03339835398946889,
          0.013177480024751276,
          0.0013203859998611733,
          0.02862010497483425,
          0.02715720904234331,
          0.0287317969778087,
          0.09144316898891702,
          0.09009675098059233,
          0.12306549298227765,
          0.11410360601439606,
          0.0052252029709052294,
          0.005499323015101254,
          0.02037429399206303,
          0.02004751903587021,
          0.01218288202653639,
          0.012198862998047844,
          0.005821983038913459,
          0.0057676470023579895,
          0.08662776298297103,
          0.08613462999346666,
          0.17321068397723138,
          0.172437651999644,
          0.011217999999644235,
          0.008158903030562215,
          0.0073312159947818145,
          0.006843348004622385,
          0.008444907012744807,
          0.0027650499978335574,
          0.004385930034914054,
          0.004163201025221497,
          0.0049835950339911506,
          0.0025638940278440714,
          0.004706204985268414,
          0.005375779946916737,
          0.00262976398516912,
          0.003876673014019616,
          0.002761313022347167,
          0.0050109739968320355,
          0.0027675399760482833,
          0.0036262609501136467,
          0.0033997659338638186,
          0.003846082996460609,
          0.0032450190192321315,
          0.0019791840168181807,
          0.0030701059877173975,
          0.0034719820541795343,
          0.0034654910705285147,
          0.0022507100366055965,
          0.0019602849934017286,
          0.0035005380195798352,
          0.004333826989750378,
          0.004286626979592256,
          0.0041921140073100105,
          0.0039272129943128675,
          0.004037951002828777,
          0.0035271350207040086,
          0.003172207943862304,
          0.003429788979701698,
          0.003017927025211975,
          0.0021261769288685173,
          0.0051492270140443,
          0.004049897979712114,
          0.0038612099742749706,
          0.004147984029259533,
          0.0038104669947642833,
          0.0036312460579210892,
          0.006283432929194532,
          0.007094394983141683,
          0.01071246003266424,
          0.009980320974136703,
          0.00385844599804841,
          0.00750794903433416,
          0.006434091003029607,
          0.004379531004815362,
          0.0063261369650717825,
          0.00956201799272094,
          0.005791359028080478,
          0.005416762985987589,
          0.007118736015399918,
          0.004528087971266359,
          0.00584188500943128,
          0.008141981015796773,
          0.008735402923775837,
          0.00650238202069886,
          0.00755449703137856,
          0.004636066034436226,
          0.004011379991425201,
          0.006336316029774025,
          0.006248455014429055,
          0.0035241439763922244,
          0.003676478998386301,
          0.0032127090089488775,
          0.0035164879664080217,
          0.013265201021567918,
          0.005668633020832203,
          0.0039265399682335556,
          0.005724638976971619,
          0.015106084974831901,
          0.005330052008503117,
          0.004553453007247299,
          0.004897812978015281,
          0.003477591017144732,
          0.004369214017060585,
          0.008017438012757339,
          0.006468186998972669,
          0.0033729809656506404,
          0.004696532982052304,
          0.002912062016548589,
          0.003358330999617465,
          0.0033545399928698316,
          0.003480832980130799,
          0.012873056053649634,
          0.010228650033241138,
          0.011934862995985895,
          0.011937836970901117,
          0.008445862025837414,
          0.009212030010530725,
          0.008180589982657693,
          0.008845165983075276,
          0.023917329963296652,
          0.021848691976629198,
          0.004888925002887845,
          0.029952294018585235,
          0.0029554120264947414,
          0.009035701979883015,
          0.01775739098957274,
          0.012384601053781807,
          0.005024763027904555,
          0.005731961005949415,
          0.012708690963336267,
          0.006219293019967154,
          0.005608934006886557,
          0.00667454197537154,
          0.006688257970381528
         ],
         "y0": " ",
         "yaxis": "y4"
        },
        {
         "alignmentgroup": "True",
         "hovertemplate": "Baseline=True<br>Sizes=S/M<br>Context=%{x}<br>total_time=%{y}<extra></extra>",
         "legendgroup": "True",
         "marker": {
          "color": "#636efa"
         },
         "name": "True",
         "notched": false,
         "offsetgroup": "True",
         "orientation": "v",
         "showlegend": false,
         "type": "box",
         "x": [
          "Partial Overlap (TRUE)",
          "Partial Overlap (TRUE)",
          "Partial Overlap (TRUE)",
          "Partial Overlap (TRUE)",
          "Overlap (FALSE)",
          "Overlap (FALSE)",
          "Overlap (FALSE)",
          "Overlap (FALSE)",
          "Partial Overlap (TRUE)",
          "Overlap (FALSE)",
          "Overlap (FALSE)",
          "Overlap (FALSE)",
          "Overlap (FALSE)",
          "Overlap (FALSE)",
          "Overlap (FALSE)",
          "Overlap (FALSE)",
          "Overlap (FALSE)",
          "Partial Overlap (TRUE)",
          "Partial Overlap (TRUE)",
          "Partial Overlap (TRUE)",
          "Overlap (FALSE)",
          "Fully Inside Other (TRUE)",
          "Overlap (FALSE)",
          "Partial Overlap (TRUE)",
          "Overlap (FALSE)",
          "Overlap (FALSE)",
          "Overlap (FALSE)",
          "Overlap (FALSE)",
          "Overlap (FALSE)",
          "Partial Overlap (TRUE)",
          "Partial Overlap (TRUE)",
          "Overlap (FALSE)",
          "Partial Overlap (TRUE)"
         ],
         "x0": " ",
         "xaxis": "x5",
         "y": [
          0.03553804197872523,
          0.0354678209987469,
          0.017509702025563456,
          0.028046201026882045,
          0.007276630989508703,
          0.015390313987154514,
          0.009274796990212053,
          0.017705255013424903,
          0.02152940801170189,
          0.009466517993132584,
          0.011414954031351954,
          0.009732811013236642,
          0.011415108005166985,
          0.016092863952508196,
          0.014917079999577254,
          0.01298607797070872,
          0.012430243048584089,
          0.02175782799895387,
          0.027017641987185925,
          0.02819256800285075,
          0.0132247270521475,
          0.018809364948538132,
          0.007844195031793788,
          0.02646517702669371,
          0.006342895023408346,
          0.006726531049935147,
          0.006324743008008227,
          0.01036681397818029,
          0.011937654999201186,
          0.020890984014840797,
          0.01908492603979539,
          0.010970676972647198,
          0.014559077026206069
         ],
         "y0": " ",
         "yaxis": "y5"
        },
        {
         "alignmentgroup": "True",
         "hovertemplate": "Baseline=True<br>Sizes=L/L<br>Context=%{x}<br>total_time=%{y}<extra></extra>",
         "legendgroup": "True",
         "marker": {
          "color": "#636efa"
         },
         "name": "True",
         "notched": false,
         "offsetgroup": "True",
         "orientation": "v",
         "showlegend": false,
         "type": "box",
         "x": [
          "Partial Overlap (TRUE)",
          "Partial Overlap (TRUE)",
          "Partial Overlap (TRUE)",
          "Partial Overlap (TRUE)",
          "Partial Overlap (TRUE)",
          "Partial Overlap (TRUE)",
          "Partial Overlap (TRUE)",
          "Overlap (FALSE)",
          "Overlap (FALSE)",
          "Overlap (FALSE)",
          "Partial Overlap (TRUE)",
          "Overlap (FALSE)",
          "Partial Overlap (TRUE)",
          "Partial Overlap (TRUE)",
          "Partial Overlap (TRUE)",
          "Overlap (FALSE)",
          "Partial Overlap (TRUE)",
          "Partial Overlap (TRUE)",
          "Partial Overlap (TRUE)",
          "Overlap (FALSE)",
          "Partial Overlap (TRUE)",
          "Partial Overlap (TRUE)",
          "Overlap (FALSE)",
          "Partial Overlap (TRUE)",
          "Overlap (FALSE)",
          "Overlap (FALSE)",
          "Partial Overlap (TRUE)",
          "Partial Overlap (TRUE)",
          "Partial Overlap (TRUE)",
          "Partial Overlap (TRUE)",
          "Overlap (FALSE)",
          "Overlap (FALSE)",
          "Partial Overlap (TRUE)",
          "Overlap (FALSE)",
          "Partial Overlap (TRUE)",
          "Partial Overlap (TRUE)",
          "Partial Overlap (TRUE)",
          "Overlap (FALSE)",
          "Partial Overlap (TRUE)",
          "Partial Overlap (TRUE)",
          "Overlap (FALSE)",
          "Overlap (FALSE)",
          "Partial Overlap (TRUE)",
          "Partial Overlap (TRUE)",
          "Partial Overlap (TRUE)",
          "Overlap (FALSE)",
          "Partial Overlap (TRUE)",
          "Partial Overlap (TRUE)",
          "Partial Overlap (TRUE)",
          "Overlap (FALSE)",
          "Partial Overlap (TRUE)",
          "Partial Overlap (TRUE)",
          "Partial Overlap (TRUE)",
          "Partial Overlap (TRUE)",
          "Overlap (FALSE)",
          "Partial Overlap (TRUE)",
          "Overlap (FALSE)",
          "Partial Overlap (TRUE)",
          "Partial Overlap (TRUE)",
          "Partial Overlap (TRUE)",
          "Partial Overlap (TRUE)",
          "Partial Overlap (TRUE)",
          "Partial Overlap (TRUE)",
          "Partial Overlap (TRUE)",
          "Overlap (FALSE)",
          "Overlap (FALSE)",
          "Overlap (FALSE)",
          "Partial Overlap (TRUE)",
          "Partial Overlap (TRUE)",
          "Partial Overlap (TRUE)",
          "Partial Overlap (TRUE)",
          "Partial Overlap (TRUE)",
          "Partial Overlap (TRUE)",
          "Overlap (FALSE)",
          "Partial Overlap (TRUE)",
          "Partial Overlap (TRUE)",
          "Partial Overlap (TRUE)",
          "Partial Overlap (TRUE)",
          "Partial Overlap (TRUE)",
          "Partial Overlap (TRUE)",
          "Partial Overlap (TRUE)",
          "Partial Overlap (TRUE)",
          "Partial Overlap (TRUE)",
          "Partial Overlap (TRUE)",
          "Partial Overlap (TRUE)",
          "Overlap (FALSE)",
          "Overlap (FALSE)",
          "Partial Overlap (TRUE)",
          "Partial Overlap (TRUE)",
          "Partial Overlap (TRUE)",
          "Partial Overlap (TRUE)",
          "Partial Overlap (TRUE)",
          "Partial Overlap (TRUE)",
          "Partial Overlap (TRUE)",
          "Partial Overlap (TRUE)",
          "Overlap (FALSE)",
          "Overlap (FALSE)",
          "Overlap (FALSE)",
          "Overlap (FALSE)",
          "Overlap (FALSE)",
          "Overlap (FALSE)",
          "Overlap (FALSE)",
          "Overlap (FALSE)",
          "Overlap (FALSE)",
          "Overlap (FALSE)",
          "Overlap (FALSE)",
          "Overlap (FALSE)",
          "Overlap (FALSE)",
          "Overlap (FALSE)",
          "Overlap (FALSE)",
          "Overlap (FALSE)",
          "Overlap (FALSE)",
          "Overlap (FALSE)",
          "Overlap (FALSE)",
          "Overlap (FALSE)",
          "Overlap (FALSE)",
          "Overlap (FALSE)",
          "Overlap (FALSE)",
          "Overlap (FALSE)",
          "Overlap (FALSE)",
          "Overlap (FALSE)",
          "Overlap (FALSE)",
          "Overlap (FALSE)",
          "Overlap (FALSE)",
          "Overlap (FALSE)",
          "Overlap (FALSE)",
          "Overlap (FALSE)",
          "Overlap (FALSE)",
          "Overlap (FALSE)",
          "Overlap (FALSE)",
          "Overlap (FALSE)",
          "Overlap (FALSE)",
          "Overlap (FALSE)",
          "Overlap (FALSE)",
          "Overlap (FALSE)",
          "Overlap (FALSE)",
          "Overlap (FALSE)",
          "Overlap (FALSE)",
          "Overlap (FALSE)",
          "Overlap (FALSE)",
          "Overlap (FALSE)",
          "Overlap (FALSE)",
          "Overlap (FALSE)",
          "Overlap (FALSE)",
          "Overlap (FALSE)",
          "Overlap (FALSE)",
          "Overlap (FALSE)",
          "Overlap (FALSE)",
          "Overlap (FALSE)",
          "Overlap (FALSE)",
          "Overlap (FALSE)",
          "Overlap (FALSE)",
          "Overlap (FALSE)",
          "Overlap (FALSE)",
          "Overlap (FALSE)",
          "Overlap (FALSE)",
          "Overlap (FALSE)",
          "Overlap (FALSE)",
          "Overlap (FALSE)",
          "Overlap (FALSE)",
          "Overlap (FALSE)",
          "Overlap (FALSE)",
          "Overlap (FALSE)",
          "Overlap (FALSE)",
          "Overlap (FALSE)",
          "Overlap (FALSE)",
          "Overlap (FALSE)",
          "Overlap (FALSE)",
          "Overlap (FALSE)",
          "Overlap (FALSE)",
          "Overlap (FALSE)",
          "Overlap (FALSE)",
          "Overlap (FALSE)",
          "Overlap (FALSE)",
          "Overlap (FALSE)",
          "Overlap (FALSE)",
          "Overlap (FALSE)",
          "Overlap (FALSE)",
          "Overlap (FALSE)",
          "Overlap (FALSE)",
          "Overlap (FALSE)",
          "Overlap (FALSE)",
          "Overlap (FALSE)",
          "Overlap (FALSE)",
          "Overlap (FALSE)",
          "Partial Overlap (TRUE)",
          "Overlap (FALSE)",
          "Partial Overlap (TRUE)",
          "Partial Overlap (TRUE)",
          "Overlap (FALSE)",
          "Overlap (FALSE)",
          "Overlap (FALSE)"
         ],
         "x0": " ",
         "xaxis": "x6",
         "y": [
          0.7470096890174318,
          0.6398597010411322,
          0.2563836470217211,
          0.09007277598720975,
          0.4041505550558213,
          0.2618774830189068,
          0.47600957099348307,
          0.06110903799708467,
          0.08807560597779229,
          0.11079527497349773,
          0.9936941620399011,
          0.19957478797005024,
          0.706298304037773,
          0.6780844570021145,
          0.2881677720142761,
          0.05530811297649052,
          1.1799713049695129,
          1.587167050995049,
          0.6715290949941846,
          0.25097476699738763,
          1.5259296249423642,
          0.6844962159811985,
          0.6682016199920326,
          0.49486477101163473,
          0.30404118495061994,
          0.3063066910399357,
          0.2031738799851155,
          0.23674180297530256,
          0.20095999498153105,
          0.30096383900672663,
          0.03553442895645276,
          0.0899357430607779,
          0.41413520103378687,
          0.19447206900804304,
          0.13214732897176873,
          0.24199478898663074,
          0.31212150903593283,
          0.15594413098006044,
          0.9387127889785916,
          1.175098055988201,
          0.21778874695883133,
          0.1144883750093868,
          0.6714434959721984,
          0.18889366801886354,
          0.5703588819887955,
          0.10170509600720834,
          0.13316741804010235,
          0.42526578399701975,
          0.30012641500798054,
          0.10907991298881825,
          0.3823428080213489,
          0.30412333899585065,
          0.6139217230083887,
          0.3150879710156005,
          0.20934137495351024,
          1.7319998099846998,
          0.1634442730282899,
          0.506509292012197,
          0.702275534014916,
          0.14107110604527406,
          0.14496188197517768,
          0.4027598289831076,
          0.31233770499238744,
          0.42543871300586034,
          0.06374112699995749,
          0.08427687198854983,
          0.07847725402098149,
          3.2074359500256833,
          0.8054777580255177,
          0.24955991897149943,
          0.1605547230283264,
          0.14737577996857,
          0.7830450020119315,
          0.21757528798480053,
          0.4773997970187338,
          0.2946982029825449,
          0.12985124003898818,
          0.35991554998327047,
          0.2614109469723189,
          0.18942518999392632,
          0.5242007810156792,
          0.14995728796930052,
          0.5644605359993875,
          1.0386745060386602,
          0.36070128402207047,
          0.1282264439651044,
          0.11378282897931058,
          0.8386626129649812,
          0.3625997560011456,
          3.6575641370000085,
          1.5946949520439375,
          1.8414228610490682,
          1.6240899590193294,
          1.1561476350325393,
          0.7811497909860918,
          0.03418880693789106,
          0.49801052096881904,
          0.06648389302426949,
          0.5549635659699561,
          0.5173175840463955,
          0.04069791900110431,
          0.05881907399452757,
          0.1324663869891083,
          0.8353031829756219,
          0.21282145503209904,
          0.21068584301974624,
          0.11104324899497442,
          0.1100065480422927,
          0.27392468201287556,
          0.721302303034463,
          0.5469686769938562,
          0.3420832810079446,
          0.43220615801692475,
          0.5778738930239342,
          5.3761480130051496,
          2.393526794956415,
          4.850697037982172,
          0.5269634550495539,
          0.15997793903807178,
          0.3296666439855471,
          0.03762034201645292,
          0.04426249593961984,
          0.10405663395067677,
          0.08379199205955956,
          0.07192011804727372,
          0.04523827102093492,
          0.305362281986163,
          0.29880357994989026,
          0.45620646903989837,
          0.30059134202019777,
          0.11078503901080694,
          0.18099574407096952,
          0.1195219989749603,
          0.13365845900261775,
          0.0921004390111193,
          0.6874206760112429,
          5.240692946958006,
          0.030528021932695992,
          0.11535007096244954,
          0.30524566302483436,
          0.2396018929866841,
          0.1299638400087133,
          0.06753759400453418,
          0.06806009699357674,
          0.19188077095896006,
          0.09576983697479591,
          1.0527939909225097,
          0.27969026801292785,
          0.21489068398659583,
          0.4971019579679705,
          0.30528199298714753,
          0.12486379097390454,
          0.1788824949762784,
          0.3738528859830694,
          0.1715495289536193,
          0.08602244000940118,
          0.28394632501294836,
          0.4667485790560022,
          0.09614705001877155,
          0.09867294599825982,
          0.6129390700079966,
          0.33629513198684435,
          0.13573712200741284,
          0.13642486197932158,
          0.1971617920062272,
          1.0072552430210635,
          0.1139729530113982,
          0.16951674700248986,
          0.25849568197736517,
          0.4225775049853837,
          0.2996313149778871,
          0.3046374410187127,
          0.23962643204140477,
          0.44348336194525473,
          0.31684336203034036,
          0.28123372899426613,
          0.4458495360595407,
          0.369032025031629,
          7.818747774959775,
          0.3502452710381476,
          0.17171018902445212,
          0.27202822496474255,
          0.2177919140085578,
          0.33083964401157573,
          0.10324401297839358,
          0.06218483200063929,
          0.028308239023317583,
          0.09739836001244839,
          0.053295248028007336,
          0.04461733196512796,
          0.07906805002130568,
          0.5512667839648202
         ],
         "y0": " ",
         "yaxis": "y6"
        },
        {
         "alignmentgroup": "True",
         "hovertemplate": "Baseline=True<br>Sizes=S/L<br>Context=%{x}<br>total_time=%{y}<extra></extra>",
         "legendgroup": "True",
         "marker": {
          "color": "#636efa"
         },
         "name": "True",
         "notched": false,
         "offsetgroup": "True",
         "orientation": "v",
         "showlegend": false,
         "type": "box",
         "x": [
          "Fully Inside Other (TRUE)",
          "Fully Inside Other (TRUE)",
          "Partial Overlap (TRUE)",
          "Partial Overlap (TRUE)",
          "Partial Overlap (TRUE)",
          "Partial Overlap (TRUE)",
          "Overlap (FALSE)",
          "Partial Overlap (TRUE)",
          "Overlap (FALSE)",
          "Overlap (FALSE)",
          "Overlap (FALSE)",
          "Overlap (FALSE)",
          "Overlap (FALSE)",
          "Overlap (FALSE)",
          "Overlap (FALSE)",
          "Partial Overlap (TRUE)",
          "Overlap (FALSE)",
          "Overlap (FALSE)",
          "Overlap (FALSE)",
          "Partial Overlap (TRUE)",
          "Overlap (FALSE)",
          "Overlap (FALSE)",
          "Partial Overlap (TRUE)",
          "Partial Overlap (TRUE)",
          "Overlap (FALSE)",
          "Partial Overlap (TRUE)",
          "Overlap (FALSE)",
          "Partial Overlap (TRUE)",
          "Overlap (FALSE)",
          "Overlap (FALSE)",
          "Overlap (FALSE)",
          "Overlap (FALSE)",
          "Partial Overlap (TRUE)",
          "Partial Overlap (TRUE)",
          "Overlap (FALSE)",
          "Overlap (FALSE)",
          "Overlap (FALSE)",
          "Overlap (FALSE)",
          "Overlap (FALSE)",
          "Overlap (FALSE)",
          "Overlap (FALSE)",
          "Overlap (FALSE)",
          "Overlap (FALSE)",
          "Overlap (FALSE)",
          "Overlap (FALSE)",
          "Overlap (FALSE)",
          "Overlap (FALSE)",
          "Overlap (FALSE)",
          "Overlap (FALSE)",
          "Overlap (FALSE)",
          "Overlap (FALSE)",
          "Overlap (FALSE)",
          "Overlap (FALSE)",
          "Overlap (FALSE)",
          "Overlap (FALSE)",
          "Overlap (FALSE)",
          "Overlap (FALSE)",
          "Overlap (FALSE)",
          "Overlap (FALSE)",
          "Overlap (FALSE)",
          "Overlap (FALSE)",
          "Overlap (FALSE)",
          "Partial Overlap (TRUE)",
          "Partial Overlap (TRUE)",
          "Partial Overlap (TRUE)",
          "Partial Overlap (TRUE)",
          "Overlap (FALSE)",
          "Overlap (FALSE)",
          "Overlap (FALSE)",
          "Overlap (FALSE)",
          "Overlap (FALSE)",
          "Partial Overlap (TRUE)",
          "Overlap (FALSE)",
          "Overlap (FALSE)",
          "Overlap (FALSE)",
          "Overlap (FALSE)",
          "Overlap (FALSE)",
          "Overlap (FALSE)",
          "Overlap (FALSE)",
          "Overlap (FALSE)",
          "Overlap (FALSE)",
          "Overlap (FALSE)",
          "Overlap (FALSE)",
          "Overlap (FALSE)",
          "Overlap (FALSE)",
          "Overlap (FALSE)",
          "Overlap (FALSE)",
          "Overlap (FALSE)",
          "Overlap (FALSE)",
          "Overlap (FALSE)",
          "Overlap (FALSE)",
          "Overlap (FALSE)",
          "Overlap (FALSE)",
          "Overlap (FALSE)",
          "Overlap (FALSE)",
          "Overlap (FALSE)",
          "Overlap (FALSE)",
          "Overlap (FALSE)",
          "Overlap (FALSE)",
          "Overlap (FALSE)",
          "Overlap (FALSE)",
          "Overlap (FALSE)",
          "Overlap (FALSE)",
          "Overlap (FALSE)",
          "Overlap (FALSE)",
          "Partial Overlap (TRUE)",
          "Overlap (FALSE)",
          "Overlap (FALSE)",
          "Overlap (FALSE)",
          "Overlap (FALSE)",
          "Overlap (FALSE)",
          "Overlap (FALSE)",
          "Overlap (FALSE)",
          "Overlap (FALSE)",
          "Overlap (FALSE)",
          "Overlap (FALSE)",
          "Overlap (FALSE)",
          "Overlap (FALSE)",
          "Overlap (FALSE)",
          "Overlap (FALSE)",
          "Overlap (FALSE)",
          "Overlap (FALSE)",
          "Overlap (FALSE)",
          "Overlap (FALSE)",
          "Overlap (FALSE)",
          "Overlap (FALSE)",
          "Overlap (FALSE)",
          "Overlap (FALSE)",
          "Overlap (FALSE)",
          "Overlap (FALSE)",
          "Overlap (FALSE)",
          "Overlap (FALSE)",
          "Overlap (FALSE)",
          "Overlap (FALSE)"
         ],
         "x0": " ",
         "xaxis": "x",
         "y": [
          0.02091967803426087,
          0.021159922995138913,
          0.1167075920093339,
          0.1006398219615221,
          0.0689438290137332,
          0.06669242505449802,
          0.03367189702112228,
          0.04830719101300929,
          0.010665967973181978,
          0.4653456499945605,
          0.034631568007171154,
          0.08527990098809823,
          0.04541803302709013,
          0.03456706096767448,
          0.026905689999694005,
          0.03757970896549523,
          0.026458962995093316,
          0.022282311008893885,
          0.023836680993554182,
          0.03758284398645628,
          0.017040664999512956,
          0.01540892203047406,
          0.042492791937547736,
          0.059597325962386094,
          0.0441759760142304,
          0.058974535975721665,
          0.030621997007983737,
          0.11444211594061926,
          0.03213602399046067,
          0.03577002503152471,
          0.04127378901466727,
          0.05005863498081453,
          0.03324587603856344,
          0.023301107008592226,
          0.03778767598851118,
          0.03941829000541475,
          0.04763800301589072,
          0.04199351502757054,
          0.04091238704859279,
          0.0369156860106159,
          0.0415902149543399,
          0.034996531016076915,
          0.0340580729971407,
          0.12601707999419887,
          0.03440938198764343,
          0.038131132983835414,
          0.038299923995509744,
          0.04543864099832717,
          0.039018055016640574,
          0.04088548598519992,
          0.042668625043006614,
          0.04648484401695896,
          0.043693003986845724,
          0.036482763971434906,
          0.04549571302777622,
          0.04084453095856588,
          0.0353934370650677,
          0.025603368994779885,
          0.1246890189795522,
          0.023505364981247112,
          0.02331376499205362,
          0.029455907017108984,
          0.26679554299334995,
          0.28108108100423124,
          0.19803554298414383,
          0.08086429696413688,
          0.17218443701858632,
          0.07418745399627369,
          0.0752367360109929,
          0.07435420698311646,
          0.07487928002956323,
          0.08206822401552927,
          0.206595420037047,
          0.09024522900290322,
          0.18576861600740813,
          0.06730878601956647,
          0.06396911600313615,
          0.06939756798965391,
          0.0324214750144165,
          0.030654623013106175,
          0.045424131967592984,
          0.14054407701769378,
          0.04533735298900865,
          0.04611147796094883,
          0.045577836979646236,
          0.04517258801206481,
          0.04416360297182109,
          0.04447429800347891,
          0.04590828802611213,
          0.12766146801004652,
          0.04478110701893456,
          0.046702933017513715,
          0.04517359400051646,
          0.04432359299971722,
          0.04705455701332539,
          0.048918998989393,
          0.04867864205152728,
          0.050811268025427125,
          0.05343097202421632,
          0.04403813699900638,
          0.04460381997341756,
          0.04439615903538652,
          0.05160188402805943,
          0.04753078600333538,
          0.13914436401682906,
          0.052891434970661066,
          0.04601667998940684,
          0.04852120502619073,
          0.044169100976432674,
          0.04536224600451533,
          0.04421281196118798,
          0.04484920097456779,
          0.04409362201113254,
          0.0444152080162894,
          0.04486348698264919,
          0.04521591498632915,
          0.045093716951669194,
          0.04790905400295742,
          0.045599920995300636,
          0.049567135007237084,
          0.043988539968268014,
          0.044045864982763305,
          0.044312067941064015,
          0.04796594496292528,
          0.13927136499842163,
          0.049522332003107294,
          0.045567032997496426,
          0.04550721598207019,
          0.04835570795694366,
          0.05201700798352249,
          0.05961033402127214,
          0.04164702899288386,
          0.01979772800405044,
          0.023093427007552236
         ],
         "y0": " ",
         "yaxis": "y"
        },
        {
         "alignmentgroup": "True",
         "hovertemplate": "Baseline=True<br>Sizes=M/L<br>Context=%{x}<br>total_time=%{y}<extra></extra>",
         "legendgroup": "True",
         "marker": {
          "color": "#636efa"
         },
         "name": "True",
         "notched": false,
         "offsetgroup": "True",
         "orientation": "v",
         "showlegend": false,
         "type": "box",
         "x": [
          "Overlap (FALSE)",
          "Overlap (FALSE)",
          "Overlap (FALSE)",
          "Overlap (FALSE)",
          "Overlap (FALSE)",
          "Overlap (FALSE)",
          "Overlap (FALSE)",
          "Overlap (FALSE)",
          "Partial Overlap (TRUE)",
          "Partial Overlap (TRUE)",
          "Overlap (FALSE)",
          "Partial Overlap (TRUE)",
          "Overlap (FALSE)",
          "Overlap (FALSE)",
          "Overlap (FALSE)",
          "Partial Overlap (TRUE)",
          "Overlap (FALSE)",
          "Overlap (FALSE)",
          "Overlap (FALSE)",
          "Overlap (FALSE)",
          "Partial Overlap (TRUE)",
          "Overlap (FALSE)",
          "Partial Overlap (TRUE)",
          "Overlap (FALSE)",
          "Overlap (FALSE)",
          "Overlap (FALSE)",
          "Overlap (FALSE)",
          "Overlap (FALSE)",
          "Overlap (FALSE)",
          "Overlap (FALSE)"
         ],
         "x0": " ",
         "xaxis": "x2",
         "y": [
          0.15175176394404843,
          0.13954231995739974,
          0.2318223250331357,
          0.09107347801909782,
          0.03600852102681529,
          0.1723660420102533,
          0.11819038004614413,
          0.10906058496038895,
          0.03262493698275648,
          0.03349893700215034,
          0.028870535956230015,
          0.049055135023081675,
          0.04873301193583757,
          0.05139366604271345,
          0.05675786797655746,
          0.04395128098258283,
          0.04215612300322391,
          0.03127636197314132,
          0.01747039998008404,
          0.04206246598914731,
          0.038731076012481935,
          0.03288495300512295,
          0.12653567500819918,
          0.041725605027750134,
          0.07169309700839221,
          0.15890317800221965,
          0.1686659799743211,
          0.05545524397166446,
          0.07007113195140846,
          0.06001174401899334
         ],
         "y0": " ",
         "yaxis": "y2"
        },
        {
         "alignmentgroup": "True",
         "hovertemplate": "Baseline=True<br>Sizes=M/M<br>Context=%{x}<br>total_time=%{y}<extra></extra>",
         "legendgroup": "True",
         "marker": {
          "color": "#636efa"
         },
         "name": "True",
         "notched": false,
         "offsetgroup": "True",
         "orientation": "v",
         "showlegend": false,
         "type": "box",
         "x": [
          "Overlap (FALSE)",
          "Overlap (FALSE)",
          "Overlap (FALSE)",
          "Partial Overlap (TRUE)",
          "Partial Overlap (TRUE)"
         ],
         "x0": " ",
         "xaxis": "x3",
         "y": [
          0.07504385906213429,
          0.014860354960546829,
          0.01517500494082924,
          0.030502075984259136,
          0.031243470977642573
         ],
         "y0": " ",
         "yaxis": "y3"
        },
        {
         "alignmentgroup": "True",
         "hovertemplate": "Baseline=False<br>Sizes=S/S<br>Context=%{x}<br>total_time=%{y}<extra></extra>",
         "legendgroup": "False",
         "marker": {
          "color": "#EF553B"
         },
         "name": "False",
         "notched": false,
         "offsetgroup": "False",
         "orientation": "v",
         "showlegend": true,
         "type": "box",
         "x": [
          "Overlap (FALSE)",
          "Partial Overlap (TRUE)",
          "Fully Inside Other (TRUE)",
          "Overlap (FALSE)",
          "Partial Overlap (TRUE)",
          "Partial Overlap (TRUE)",
          "Partial Overlap (TRUE)",
          "Partial Overlap (TRUE)",
          "Partial Overlap (TRUE)",
          "Partial Overlap (TRUE)",
          "Partial Overlap (TRUE)",
          "Overlap (FALSE)",
          "Overlap (FALSE)",
          "Partial Overlap (TRUE)",
          "Partial Overlap (TRUE)",
          "Fully Inside Other (TRUE)",
          "Fully Inside Other (TRUE)",
          "Partial Overlap (TRUE)",
          "Partial Overlap (TRUE)",
          "Partial Overlap (TRUE)",
          "Partial Overlap (TRUE)",
          "Partial Overlap (TRUE)",
          "Partial Overlap (TRUE)",
          "Overlap (FALSE)",
          "Overlap (FALSE)",
          "Overlap (FALSE)",
          "Fully Inside Other (TRUE)",
          "Partial Overlap (TRUE)",
          "Overlap (FALSE)",
          "Overlap (FALSE)",
          "Overlap (FALSE)",
          "Overlap (FALSE)",
          "Overlap (FALSE)",
          "Overlap (FALSE)",
          "Overlap (FALSE)",
          "Overlap (FALSE)",
          "Overlap (FALSE)",
          "Overlap (FALSE)",
          "Overlap (FALSE)",
          "Overlap (FALSE)",
          "Overlap (FALSE)",
          "Overlap (FALSE)",
          "Overlap (FALSE)",
          "Overlap (FALSE)",
          "Overlap (FALSE)",
          "Overlap (FALSE)",
          "Overlap (FALSE)",
          "Overlap (FALSE)",
          "Overlap (FALSE)",
          "Overlap (FALSE)",
          "Overlap (FALSE)",
          "Overlap (FALSE)",
          "Overlap (FALSE)",
          "Overlap (FALSE)",
          "Overlap (FALSE)",
          "Overlap (FALSE)",
          "Overlap (FALSE)",
          "Overlap (FALSE)",
          "Overlap (FALSE)",
          "Overlap (FALSE)",
          "Overlap (FALSE)",
          "Overlap (FALSE)",
          "Overlap (FALSE)",
          "Overlap (FALSE)",
          "Overlap (FALSE)",
          "Overlap (FALSE)",
          "Overlap (FALSE)",
          "Overlap (FALSE)",
          "Overlap (FALSE)",
          "Overlap (FALSE)",
          "Overlap (FALSE)",
          "Overlap (FALSE)",
          "Overlap (FALSE)",
          "Overlap (FALSE)",
          "Overlap (FALSE)",
          "Overlap (FALSE)",
          "Overlap (FALSE)",
          "Overlap (FALSE)",
          "Overlap (FALSE)",
          "Overlap (FALSE)",
          "Overlap (FALSE)",
          "Overlap (FALSE)",
          "Overlap (FALSE)",
          "Overlap (FALSE)",
          "Overlap (FALSE)",
          "Overlap (FALSE)",
          "Overlap (FALSE)",
          "Overlap (FALSE)",
          "Overlap (FALSE)",
          "Overlap (FALSE)",
          "Overlap (FALSE)",
          "Overlap (FALSE)",
          "Overlap (FALSE)",
          "Overlap (FALSE)",
          "Partial Overlap (TRUE)",
          "Overlap (FALSE)",
          "Overlap (FALSE)",
          "Overlap (FALSE)",
          "Overlap (FALSE)",
          "Overlap (FALSE)",
          "Overlap (FALSE)",
          "Overlap (FALSE)",
          "Overlap (FALSE)",
          "Overlap (FALSE)",
          "Overlap (FALSE)",
          "Overlap (FALSE)",
          "Overlap (FALSE)",
          "Overlap (FALSE)",
          "Overlap (FALSE)",
          "Overlap (FALSE)",
          "Overlap (FALSE)",
          "Overlap (FALSE)",
          "Overlap (FALSE)",
          "Overlap (FALSE)",
          "Partial Overlap (TRUE)",
          "Partial Overlap (TRUE)",
          "Partial Overlap (TRUE)",
          "Partial Overlap (TRUE)",
          "Partial Overlap (TRUE)",
          "Partial Overlap (TRUE)",
          "Partial Overlap (TRUE)",
          "Partial Overlap (TRUE)",
          "Overlap (FALSE)",
          "Partial Overlap (TRUE)",
          "Partial Overlap (TRUE)",
          "Partial Overlap (TRUE)",
          "Partial Overlap (TRUE)",
          "Partial Overlap (TRUE)",
          "Overlap (FALSE)",
          "Overlap (FALSE)",
          "Partial Overlap (TRUE)",
          "Overlap (FALSE)",
          "Overlap (FALSE)",
          "Partial Overlap (TRUE)",
          "Partial Overlap (TRUE)"
         ],
         "x0": " ",
         "xaxis": "x4",
         "y": [
          0.006522053954540752,
          0.026249934991938062,
          0.011555623001186177,
          0.000334889002260752,
          0.024334777961485088,
          0.02452486302354373,
          0.028503182009444572,
          0.0885912179510342,
          0.09178353803872596,
          0.11962860701896716,
          0.13319020702328999,
          0.0024989220401039347,
          0.0023610900389030576,
          0.02018795501498971,
          0.020994339967728592,
          0.010493144989595748,
          0.0105590670282254,
          0.008318266991409473,
          0.007449181983247399,
          0.08997467903827783,
          0.09078267301083542,
          0.18610694499511737,
          0.18656852201092988,
          0.0064832079951884225,
          0.0031173519819276407,
          0.004891584976576269,
          0.005632263026200235,
          0.008923755027353764,
          0.0010855289874598384,
          0.004121618025237694,
          0.004448114035767503,
          0.00532375399779994,
          0.0010346000053687021,
          0.004161923017818481,
          0.006118830002378672,
          0.0010780440061353147,
          0.004238551016896963,
          0.0010902839712798595,
          0.0017858729988802224,
          0.0010916029423242435,
          0.0013445309887174517,
          0.0012598040339071304,
          0.0014525400038110092,
          0.0012741990067297593,
          0.001276143011637032,
          0.0012666730035562068,
          0.0013662140117958188,
          0.0014113880024524406,
          0.001315769026405178,
          0.0012440199789125472,
          0.0014948550087865442,
          0.0015961069730110466,
          0.0013961049990030006,
          0.0016222929989453405,
          0.0016293530643451959,
          0.0013255160010885447,
          0.0013279430131660774,
          0.0015989479870768264,
          0.0013264589942991734,
          0.001291331966058351,
          0.003820522004389204,
          0.0016394680133089423,
          0.001510961024905555,
          0.0013871870032744482,
          0.0015330310125136748,
          0.0015781470137881115,
          0.001338037007371895,
          0.002171548010664992,
          0.002250573001219891,
          0.00299298093887046,
          0.006242019953788258,
          0.001397862986777909,
          0.002045302011538297,
          0.006237890018383041,
          0.0016034360305638984,
          0.006035439029801637,
          0.006023779991664924,
          0.005082581017632037,
          0.0017418540373910218,
          0.002333003023522906,
          0.0038803780043963343,
          0.004516825967584737,
          0.004447775005246513,
          0.0059395429998403415,
          0.0045178100117482245,
          0.0018055900000035763,
          0.0015025210159365088,
          0.0015606399974785745,
          0.0054405440168920904,
          0.005835991978528909,
          0.0016556690097786486,
          0.0017221590387634933,
          0.001253540045581758,
          0.0013134109758539125,
          0.013047029002336785,
          0.002115595038048923,
          0.0014745620428584516,
          0.0025475170405115932,
          0.015962854973622598,
          0.001623427015147172,
          0.0018124999769497663,
          0.0016095219471026212,
          0.0012911499943584204,
          0.001407462012139149,
          0.008310092045576312,
          0.006244666001293808,
          0.0013406359939835966,
          0.0016143300454132259,
          0.0012165350053692237,
          0.0012692840537056327,
          0.0015000999992480502,
          0.00129521700728219,
          0.0068629590241471305,
          0.0037993209407432005,
          0.01772999197419267,
          0.01740004999737721,
          0.015780967005412094,
          0.014806645951466635,
          0.01507878303527832,
          0.015422850017785095,
          0.023013721976894885,
          0.021160920994589105,
          0.0018480799917597324,
          0.029471838002791628,
          0.005669264995958656,
          0.00811982699087821,
          0.01397082999756094,
          0.01176217696047388,
          0.0019292789947940037,
          0.0025280429690610617,
          0.011982164010987617,
          0.0023355380399152637,
          0.0021525210031541064,
          0.006525301039800979,
          0.007114403022569604
         ],
         "y0": " ",
         "yaxis": "y4"
        },
        {
         "alignmentgroup": "True",
         "hovertemplate": "Baseline=False<br>Sizes=S/M<br>Context=%{x}<br>total_time=%{y}<extra></extra>",
         "legendgroup": "False",
         "marker": {
          "color": "#EF553B"
         },
         "name": "False",
         "notched": false,
         "offsetgroup": "False",
         "orientation": "v",
         "showlegend": false,
         "type": "box",
         "x": [
          "Partial Overlap (TRUE)",
          "Partial Overlap (TRUE)",
          "Partial Overlap (TRUE)",
          "Partial Overlap (TRUE)",
          "Overlap (FALSE)",
          "Overlap (FALSE)",
          "Overlap (FALSE)",
          "Overlap (FALSE)",
          "Partial Overlap (TRUE)",
          "Overlap (FALSE)",
          "Overlap (FALSE)",
          "Overlap (FALSE)",
          "Overlap (FALSE)",
          "Overlap (FALSE)",
          "Overlap (FALSE)",
          "Overlap (FALSE)",
          "Overlap (FALSE)",
          "Partial Overlap (TRUE)",
          "Partial Overlap (TRUE)",
          "Partial Overlap (TRUE)",
          "Overlap (FALSE)",
          "Fully Inside Other (TRUE)",
          "Overlap (FALSE)",
          "Partial Overlap (TRUE)",
          "Overlap (FALSE)",
          "Overlap (FALSE)",
          "Overlap (FALSE)",
          "Overlap (FALSE)",
          "Overlap (FALSE)",
          "Partial Overlap (TRUE)",
          "Partial Overlap (TRUE)",
          "Overlap (FALSE)",
          "Partial Overlap (TRUE)"
         ],
         "x0": " ",
         "xaxis": "x5",
         "y": [
          0.03355614696920384,
          0.03302321600494906,
          0.015245921982568689,
          0.02508729299006518,
          0.003011127933859825,
          0.005019973003072664,
          0.007625346974236891,
          0.005974229003186338,
          0.020937860012054443,
          0.0034893420088337734,
          0.004871648008702323,
          0.00471338297938928,
          0.005192637021536939,
          0.005822680002893321,
          0.005735592974815518,
          0.00493807895691134,
          0.005054193010437302,
          0.020180592968245037,
          0.0244201619643718,
          0.023863769019953907,
          0.009455956998863257,
          0.0163823320181109,
          0.0028828089707531035,
          0.0216959089593729,
          0.0024239169870270416,
          0.0024386569566559047,
          0.0026735959836514667,
          0.003958727000281215,
          0.004054900011396967,
          0.014771430011023767,
          0.014824469995801337,
          0.004462735974811949,
          0.012810463027562946
         ],
         "y0": " ",
         "yaxis": "y5"
        },
        {
         "alignmentgroup": "True",
         "hovertemplate": "Baseline=False<br>Sizes=L/L<br>Context=%{x}<br>total_time=%{y}<extra></extra>",
         "legendgroup": "False",
         "marker": {
          "color": "#EF553B"
         },
         "name": "False",
         "notched": false,
         "offsetgroup": "False",
         "orientation": "v",
         "showlegend": false,
         "type": "box",
         "x": [
          "Partial Overlap (TRUE)",
          "Partial Overlap (TRUE)",
          "Partial Overlap (TRUE)",
          "Partial Overlap (TRUE)",
          "Partial Overlap (TRUE)",
          "Partial Overlap (TRUE)",
          "Partial Overlap (TRUE)",
          "Overlap (FALSE)",
          "Overlap (FALSE)",
          "Overlap (FALSE)",
          "Partial Overlap (TRUE)",
          "Overlap (FALSE)",
          "Partial Overlap (TRUE)",
          "Partial Overlap (TRUE)",
          "Partial Overlap (TRUE)",
          "Overlap (FALSE)",
          "Partial Overlap (TRUE)",
          "Partial Overlap (TRUE)",
          "Partial Overlap (TRUE)",
          "Overlap (FALSE)",
          "Partial Overlap (TRUE)",
          "Partial Overlap (TRUE)",
          "Overlap (FALSE)",
          "Partial Overlap (TRUE)",
          "Overlap (FALSE)",
          "Overlap (FALSE)",
          "Partial Overlap (TRUE)",
          "Partial Overlap (TRUE)",
          "Partial Overlap (TRUE)",
          "Partial Overlap (TRUE)",
          "Overlap (FALSE)",
          "Overlap (FALSE)",
          "Partial Overlap (TRUE)",
          "Overlap (FALSE)",
          "Partial Overlap (TRUE)",
          "Partial Overlap (TRUE)",
          "Partial Overlap (TRUE)",
          "Overlap (FALSE)",
          "Partial Overlap (TRUE)",
          "Partial Overlap (TRUE)",
          "Overlap (FALSE)",
          "Overlap (FALSE)",
          "Partial Overlap (TRUE)",
          "Partial Overlap (TRUE)",
          "Partial Overlap (TRUE)",
          "Overlap (FALSE)",
          "Partial Overlap (TRUE)",
          "Partial Overlap (TRUE)",
          "Partial Overlap (TRUE)",
          "Overlap (FALSE)",
          "Partial Overlap (TRUE)",
          "Partial Overlap (TRUE)",
          "Partial Overlap (TRUE)",
          "Partial Overlap (TRUE)",
          "Overlap (FALSE)",
          "Partial Overlap (TRUE)",
          "Overlap (FALSE)",
          "Partial Overlap (TRUE)",
          "Partial Overlap (TRUE)",
          "Partial Overlap (TRUE)",
          "Partial Overlap (TRUE)",
          "Partial Overlap (TRUE)",
          "Partial Overlap (TRUE)",
          "Partial Overlap (TRUE)",
          "Overlap (FALSE)",
          "Overlap (FALSE)",
          "Overlap (FALSE)",
          "Partial Overlap (TRUE)",
          "Partial Overlap (TRUE)",
          "Partial Overlap (TRUE)",
          "Partial Overlap (TRUE)",
          "Partial Overlap (TRUE)",
          "Partial Overlap (TRUE)",
          "Overlap (FALSE)",
          "Partial Overlap (TRUE)",
          "Partial Overlap (TRUE)",
          "Partial Overlap (TRUE)",
          "Partial Overlap (TRUE)",
          "Partial Overlap (TRUE)",
          "Partial Overlap (TRUE)",
          "Partial Overlap (TRUE)",
          "Partial Overlap (TRUE)",
          "Partial Overlap (TRUE)",
          "Partial Overlap (TRUE)",
          "Partial Overlap (TRUE)",
          "Overlap (FALSE)",
          "Overlap (FALSE)",
          "Partial Overlap (TRUE)",
          "Partial Overlap (TRUE)",
          "Partial Overlap (TRUE)",
          "Partial Overlap (TRUE)",
          "Partial Overlap (TRUE)",
          "Partial Overlap (TRUE)",
          "Partial Overlap (TRUE)",
          "Partial Overlap (TRUE)",
          "Overlap (FALSE)",
          "Overlap (FALSE)",
          "Overlap (FALSE)",
          "Overlap (FALSE)",
          "Overlap (FALSE)",
          "Overlap (FALSE)",
          "Overlap (FALSE)",
          "Overlap (FALSE)",
          "Overlap (FALSE)",
          "Overlap (FALSE)",
          "Overlap (FALSE)",
          "Overlap (FALSE)",
          "Overlap (FALSE)",
          "Overlap (FALSE)",
          "Overlap (FALSE)",
          "Overlap (FALSE)",
          "Overlap (FALSE)",
          "Overlap (FALSE)",
          "Overlap (FALSE)",
          "Overlap (FALSE)",
          "Overlap (FALSE)",
          "Overlap (FALSE)",
          "Overlap (FALSE)",
          "Overlap (FALSE)",
          "Overlap (FALSE)",
          "Overlap (FALSE)",
          "Overlap (FALSE)",
          "Overlap (FALSE)",
          "Overlap (FALSE)",
          "Overlap (FALSE)",
          "Overlap (FALSE)",
          "Overlap (FALSE)",
          "Overlap (FALSE)",
          "Overlap (FALSE)",
          "Overlap (FALSE)",
          "Overlap (FALSE)",
          "Overlap (FALSE)",
          "Overlap (FALSE)",
          "Overlap (FALSE)",
          "Overlap (FALSE)",
          "Overlap (FALSE)",
          "Overlap (FALSE)",
          "Overlap (FALSE)",
          "Overlap (FALSE)",
          "Overlap (FALSE)",
          "Overlap (FALSE)",
          "Overlap (FALSE)",
          "Overlap (FALSE)",
          "Overlap (FALSE)",
          "Overlap (FALSE)",
          "Overlap (FALSE)",
          "Overlap (FALSE)",
          "Overlap (FALSE)",
          "Overlap (FALSE)",
          "Overlap (FALSE)",
          "Overlap (FALSE)",
          "Overlap (FALSE)",
          "Overlap (FALSE)",
          "Overlap (FALSE)",
          "Overlap (FALSE)",
          "Overlap (FALSE)",
          "Overlap (FALSE)",
          "Overlap (FALSE)",
          "Overlap (FALSE)",
          "Overlap (FALSE)",
          "Overlap (FALSE)",
          "Overlap (FALSE)",
          "Overlap (FALSE)",
          "Overlap (FALSE)",
          "Overlap (FALSE)",
          "Overlap (FALSE)",
          "Overlap (FALSE)",
          "Overlap (FALSE)",
          "Overlap (FALSE)",
          "Overlap (FALSE)",
          "Overlap (FALSE)",
          "Overlap (FALSE)",
          "Overlap (FALSE)",
          "Overlap (FALSE)",
          "Overlap (FALSE)",
          "Overlap (FALSE)",
          "Overlap (FALSE)",
          "Overlap (FALSE)",
          "Overlap (FALSE)",
          "Overlap (FALSE)",
          "Overlap (FALSE)",
          "Overlap (FALSE)",
          "Overlap (FALSE)",
          "Overlap (FALSE)",
          "Overlap (FALSE)",
          "Partial Overlap (TRUE)",
          "Overlap (FALSE)",
          "Partial Overlap (TRUE)",
          "Partial Overlap (TRUE)",
          "Overlap (FALSE)",
          "Overlap (FALSE)",
          "Overlap (FALSE)"
         ],
         "x0": " ",
         "xaxis": "x6",
         "y": [
          0.5984399079607101,
          0.6023279249930056,
          0.24112755198439118,
          0.06707298298715614,
          0.3832306140247965,
          0.2450086040335009,
          0.43983030499657616,
          0.018790467016515322,
          0.0390040629717987,
          0.049510836994159035,
          0.8839078419841826,
          0.06722854700637981,
          0.7124789329827763,
          0.6591898209589999,
          0.2776662190153729,
          0.021220782029558904,
          0.9550462849729229,
          1.315356689010514,
          0.5903892610076582,
          0.059340623003663495,
          1.3809611910401145,
          0.6158917120483238,
          0.11412338296941016,
          0.4092897999798879,
          0.0798095269856276,
          0.06514798599528149,
          0.20073137601139024,
          0.22754804397118278,
          0.1951184210338397,
          0.20820909399481025,
          0.013452534985844977,
          0.029016974003752694,
          0.40490564398351125,
          0.04035506502259523,
          0.10474239100585692,
          0.2324536840314977,
          0.275685524000437,
          0.057894628029316664,
          1.033272055996349,
          1.1733408020227216,
          0.04009472001052927,
          0.04079324803024065,
          0.5688226759957615,
          0.17863667599158362,
          0.5513903620303608,
          0.0315735579788452,
          0.10056568900472485,
          0.4051336280244868,
          0.2709097429760732,
          0.030130843981169164,
          0.4619837550126249,
          0.12372111997683533,
          0.4896835919644218,
          0.2765555200021481,
          0.040423430036753416,
          1.6358769710059278,
          0.04539192702213768,
          0.46023737199720927,
          0.6701581389643252,
          0.1016358719789423,
          0.08330323801783379,
          0.37627823295770213,
          0.2873757279885467,
          0.42309942905558273,
          0.024073933018371463,
          0.026483504960197024,
          0.026522429019678384,
          3.1644062089908402,
          0.7956387180020101,
          0.2023578770313179,
          0.10437260101025458,
          0.08695132897992153,
          0.6434913229895756,
          0.04351459401368629,
          0.4611318859824678,
          0.16399678502057213,
          0.07386423500429373,
          0.366131933988072,
          0.25638995303597767,
          0.17350558101315983,
          0.5112815409956966,
          0.1351268229627749,
          0.4914484450418968,
          0.7588520849822089,
          0.3192838150280295,
          0.04884936401504092,
          0.04226886601827573,
          0.8152941890002694,
          0.2337221049820073,
          3.387937855979544,
          1.3089983249956276,
          1.5405388700019103,
          1.574346417997731,
          0.9734337700065225,
          0.5951342010084772,
          0.013070531989797018,
          0.11001510695496108,
          0.025224641023669392,
          0.14177282396121882,
          0.11534025701985229,
          0.015053123992402107,
          0.027589264034759253,
          0.051298334961757064,
          0.38023047796741594,
          0.04227213200647384,
          0.04335963500489015,
          0.041867214007652365,
          0.042380216968012974,
          0.07113547400513198,
          0.27305029904528055,
          0.1605285640398506,
          0.09296881200862117,
          0.0925583519419888,
          0.1607078700180864,
          2.301506374948076,
          1.1352153929474298,
          1.8547328660351923,
          0.228058845968917,
          0.06814750999910757,
          0.0936239620205015,
          0.01381721903453581,
          0.0162809739849763,
          0.028456018000724725,
          0.03168306199950166,
          0.02794735599309206,
          0.016357884989702143,
          0.07382002398662735,
          0.07681893100379966,
          0.09099497400166001,
          0.07392746102414094,
          0.04046511300839484,
          0.07871898100711405,
          0.04365919603151269,
          0.05150614300509915,
          0.1217936600005487,
          0.15012298902729526,
          2.0539263220271096,
          0.010937131039099768,
          0.03957263508345932,
          0.15266323594551068,
          0.06084638898028061,
          0.06044119402940851,
          0.0348859910009196,
          0.03495166799984872,
          0.035279344010632485,
          0.035319496048032306,
          0.2853991739830235,
          0.08776421096990816,
          0.0813285949989222,
          0.1042544339725282,
          0.06553085400082637,
          0.04347190001863055,
          0.08261809499526862,
          0.11294907999399584,
          0.06769911198352929,
          0.04467573401052505,
          0.07465600805880968,
          0.19784115302900318,
          0.0572636189754121,
          0.055422488032490946,
          0.1701659909740556,
          0.08543091503088363,
          0.06523982899670955,
          0.0659846440248657,
          0.16673440003069118,
          0.33282090605644044,
          0.04137063604139257,
          0.027072137003415264,
          0.10073102005117107,
          0.09974858500936534,
          0.07605881897325162,
          0.09272696400876157,
          0.07472425396554172,
          0.091832501013414,
          0.07668091802042909,
          0.06355009402614087,
          0.10576040603336878,
          0.0889745719905477,
          6.761555281016626,
          0.10238410199235659,
          0.07656215198221616,
          0.07820998301031068,
          0.045655904032173567,
          0.10004204303550068,
          0.026537836019997485,
          0.04100289395137224,
          0.016495394986122847,
          0.06796610598394182,
          0.03834817801543977,
          0.012664790017879568,
          0.027695012991898693,
          0.08356999501120299
         ],
         "y0": " ",
         "yaxis": "y6"
        },
        {
         "alignmentgroup": "True",
         "hovertemplate": "Baseline=False<br>Sizes=S/L<br>Context=%{x}<br>total_time=%{y}<extra></extra>",
         "legendgroup": "False",
         "marker": {
          "color": "#EF553B"
         },
         "name": "False",
         "notched": false,
         "offsetgroup": "False",
         "orientation": "v",
         "showlegend": false,
         "type": "box",
         "x": [
          "Fully Inside Other (TRUE)",
          "Fully Inside Other (TRUE)",
          "Partial Overlap (TRUE)",
          "Partial Overlap (TRUE)",
          "Partial Overlap (TRUE)",
          "Partial Overlap (TRUE)",
          "Overlap (FALSE)",
          "Partial Overlap (TRUE)",
          "Overlap (FALSE)",
          "Overlap (FALSE)",
          "Overlap (FALSE)",
          "Overlap (FALSE)",
          "Overlap (FALSE)",
          "Overlap (FALSE)",
          "Overlap (FALSE)",
          "Partial Overlap (TRUE)",
          "Overlap (FALSE)",
          "Overlap (FALSE)",
          "Overlap (FALSE)",
          "Partial Overlap (TRUE)",
          "Overlap (FALSE)",
          "Overlap (FALSE)",
          "Partial Overlap (TRUE)",
          "Partial Overlap (TRUE)",
          "Overlap (FALSE)",
          "Partial Overlap (TRUE)",
          "Overlap (FALSE)",
          "Partial Overlap (TRUE)",
          "Overlap (FALSE)",
          "Overlap (FALSE)",
          "Overlap (FALSE)",
          "Overlap (FALSE)",
          "Partial Overlap (TRUE)",
          "Partial Overlap (TRUE)",
          "Overlap (FALSE)",
          "Overlap (FALSE)",
          "Overlap (FALSE)",
          "Overlap (FALSE)",
          "Overlap (FALSE)",
          "Overlap (FALSE)",
          "Overlap (FALSE)",
          "Overlap (FALSE)",
          "Overlap (FALSE)",
          "Overlap (FALSE)",
          "Overlap (FALSE)",
          "Overlap (FALSE)",
          "Overlap (FALSE)",
          "Overlap (FALSE)",
          "Overlap (FALSE)",
          "Overlap (FALSE)",
          "Overlap (FALSE)",
          "Overlap (FALSE)",
          "Overlap (FALSE)",
          "Overlap (FALSE)",
          "Overlap (FALSE)",
          "Overlap (FALSE)",
          "Overlap (FALSE)",
          "Overlap (FALSE)",
          "Overlap (FALSE)",
          "Overlap (FALSE)",
          "Overlap (FALSE)",
          "Overlap (FALSE)",
          "Partial Overlap (TRUE)",
          "Partial Overlap (TRUE)",
          "Partial Overlap (TRUE)",
          "Partial Overlap (TRUE)",
          "Overlap (FALSE)",
          "Overlap (FALSE)",
          "Overlap (FALSE)",
          "Overlap (FALSE)",
          "Overlap (FALSE)",
          "Partial Overlap (TRUE)",
          "Overlap (FALSE)",
          "Overlap (FALSE)",
          "Overlap (FALSE)",
          "Overlap (FALSE)",
          "Overlap (FALSE)",
          "Overlap (FALSE)",
          "Overlap (FALSE)",
          "Overlap (FALSE)",
          "Overlap (FALSE)",
          "Overlap (FALSE)",
          "Overlap (FALSE)",
          "Overlap (FALSE)",
          "Overlap (FALSE)",
          "Overlap (FALSE)",
          "Overlap (FALSE)",
          "Overlap (FALSE)",
          "Overlap (FALSE)",
          "Overlap (FALSE)",
          "Overlap (FALSE)",
          "Overlap (FALSE)",
          "Overlap (FALSE)",
          "Overlap (FALSE)",
          "Overlap (FALSE)",
          "Overlap (FALSE)",
          "Overlap (FALSE)",
          "Overlap (FALSE)",
          "Overlap (FALSE)",
          "Overlap (FALSE)",
          "Overlap (FALSE)",
          "Overlap (FALSE)",
          "Overlap (FALSE)",
          "Overlap (FALSE)",
          "Overlap (FALSE)",
          "Partial Overlap (TRUE)",
          "Overlap (FALSE)",
          "Overlap (FALSE)",
          "Overlap (FALSE)",
          "Overlap (FALSE)",
          "Overlap (FALSE)",
          "Overlap (FALSE)",
          "Overlap (FALSE)",
          "Overlap (FALSE)",
          "Overlap (FALSE)",
          "Overlap (FALSE)",
          "Overlap (FALSE)",
          "Overlap (FALSE)",
          "Overlap (FALSE)",
          "Overlap (FALSE)",
          "Overlap (FALSE)",
          "Overlap (FALSE)",
          "Overlap (FALSE)",
          "Overlap (FALSE)",
          "Overlap (FALSE)",
          "Overlap (FALSE)",
          "Overlap (FALSE)",
          "Overlap (FALSE)",
          "Overlap (FALSE)",
          "Overlap (FALSE)",
          "Overlap (FALSE)",
          "Overlap (FALSE)",
          "Overlap (FALSE)",
          "Overlap (FALSE)"
         ],
         "x0": " ",
         "xaxis": "x",
         "y": [
          0.011676229987642728,
          0.011933244008105248,
          0.12468166797771119,
          0.09288070003094617,
          0.051438733949908055,
          0.06463027102290653,
          0.010661222957423888,
          0.02711193705908954,
          0.004463209013920277,
          0.13643441098975018,
          0.013405237041297369,
          0.06369891004578676,
          0.015046012980747037,
          0.011085171994636767,
          0.01114993503142614,
          0.0347979119833326,
          0.010314094004570507,
          0.00802210601978004,
          0.00803462800104171,
          0.03549899895733688,
          0.006707559936330654,
          0.005130733014084399,
          0.033443050997448154,
          0.04282400695956312,
          0.015923091006698087,
          0.04230098098923918,
          0.010650505995727144,
          0.03029256396985147,
          0.009288684988860041,
          0.01237026698072441,
          0.030385007004952058,
          0.04605605093820486,
          0.02778087901242543,
          0.0232262509962311,
          0.014813520974712446,
          0.015588641035719775,
          0.02776761598943267,
          0.01590986701194197,
          0.016371848018025048,
          0.014845093013718724,
          0.01585871602583211,
          0.014957630031858571,
          0.014574536980944686,
          0.014574544009519741,
          0.014283453972893767,
          0.015545256042969413,
          0.015040243990370072,
          0.01669101596053224,
          0.02631400598329492,
          0.02593406697269529,
          0.02649748805561103,
          0.027379966006265022,
          0.026934052046271972,
          0.015034714990179054,
          0.01638424200064037,
          0.027208253028220497,
          0.014690602984046564,
          0.010476014009327628,
          0.019269953030743636,
          0.009547841968014836,
          0.011966312042204663,
          0.010592074962914921,
          0.11024514801101759,
          0.22506787296151742,
          0.14765896399330813,
          0.03801250000833534,
          0.027785243961261585,
          0.027930749027291313,
          0.10739572200691327,
          0.029457789001753554,
          0.02841157499642577,
          0.05307242595881689,
          0.035517122014425695,
          0.03379430901259184,
          0.03460688699851744,
          0.023889036980108358,
          0.023471185020753182,
          0.024364465003600344,
          0.012350524950306863,
          0.011528468981850892,
          0.01647512002091389,
          0.01668503299879376,
          0.016396348990383558,
          0.016666921990690753,
          0.01655687599850353,
          0.016454318043543026,
          0.016606252975179814,
          0.016149597955518402,
          0.016654999999445863,
          0.01646306495240424,
          0.01673488598316908,
          0.016686792005202733,
          0.016539033022127114,
          0.016435531942988746,
          0.01666950598882977,
          0.017398272932041436,
          0.01736487602465786,
          0.017650166002567858,
          0.018899205984780565,
          0.016288970000459813,
          0.016294010943965986,
          0.01648436601681169,
          0.018193968004197814,
          0.01694286600104533,
          0.016916254011448473,
          0.02656813398061786,
          0.016518641976290382,
          0.017076506017474458,
          0.016752701994846575,
          0.016840954005601816,
          0.01650954298384022,
          0.016093341007945128,
          0.016401428991230205,
          0.01640691701322794,
          0.016439867977169342,
          0.016344069023034535,
          0.016816030954942107,
          0.017856289967312478,
          0.01653108601749409,
          0.017459319933550432,
          0.01615479902829975,
          0.016853420980623923,
          0.016574219946051016,
          0.01738508095149882,
          0.016774974996224046,
          0.017464859993197024,
          0.017507865006336942,
          0.01721003800048493,
          0.01778318996366579,
          0.01726815296569839,
          0.016831885994179174,
          0.015320267004426569,
          0.007228099988424219,
          0.007888970052590594
         ],
         "y0": " ",
         "yaxis": "y"
        },
        {
         "alignmentgroup": "True",
         "hovertemplate": "Baseline=False<br>Sizes=M/L<br>Context=%{x}<br>total_time=%{y}<extra></extra>",
         "legendgroup": "False",
         "marker": {
          "color": "#EF553B"
         },
         "name": "False",
         "notched": false,
         "offsetgroup": "False",
         "orientation": "v",
         "showlegend": false,
         "type": "box",
         "x": [
          "Overlap (FALSE)",
          "Overlap (FALSE)",
          "Overlap (FALSE)",
          "Overlap (FALSE)",
          "Overlap (FALSE)",
          "Overlap (FALSE)",
          "Overlap (FALSE)",
          "Overlap (FALSE)",
          "Partial Overlap (TRUE)",
          "Partial Overlap (TRUE)",
          "Overlap (FALSE)",
          "Partial Overlap (TRUE)",
          "Overlap (FALSE)",
          "Overlap (FALSE)",
          "Overlap (FALSE)",
          "Partial Overlap (TRUE)",
          "Overlap (FALSE)",
          "Overlap (FALSE)",
          "Overlap (FALSE)",
          "Overlap (FALSE)",
          "Partial Overlap (TRUE)",
          "Overlap (FALSE)",
          "Partial Overlap (TRUE)",
          "Overlap (FALSE)",
          "Overlap (FALSE)",
          "Overlap (FALSE)",
          "Overlap (FALSE)",
          "Overlap (FALSE)",
          "Overlap (FALSE)",
          "Overlap (FALSE)"
         ],
         "x0": " ",
         "xaxis": "x2",
         "y": [
          0.05230299498362001,
          0.05207415700715501,
          0.05397975101368502,
          0.035257137977168895,
          0.01287416800914798,
          0.0896344219945604,
          0.08046062802895904,
          0.04630179502419196,
          0.02642999003001023,
          0.026356866001151502,
          0.010392714975751005,
          0.03677010799583513,
          0.017128818959463388,
          0.028412584942998365,
          0.029586859993287362,
          0.03441617997305002,
          0.017205028008902445,
          0.009480488006374799,
          0.006434168986743316,
          0.016695241967681795,
          0.03146002006542403,
          0.01225385899306275,
          0.052923432958777994,
          0.015560113984975033,
          0.022425171031500213,
          0.01936580700566992,
          0.02089466001780238,
          0.01955474696296733,
          0.021368588000768796,
          0.019402416015509516
         ],
         "y0": " ",
         "yaxis": "y2"
        },
        {
         "alignmentgroup": "True",
         "hovertemplate": "Baseline=False<br>Sizes=M/M<br>Context=%{x}<br>total_time=%{y}<extra></extra>",
         "legendgroup": "False",
         "marker": {
          "color": "#EF553B"
         },
         "name": "False",
         "notched": false,
         "offsetgroup": "False",
         "orientation": "v",
         "showlegend": false,
         "type": "box",
         "x": [
          "Overlap (FALSE)",
          "Overlap (FALSE)",
          "Overlap (FALSE)",
          "Partial Overlap (TRUE)",
          "Partial Overlap (TRUE)"
         ],
         "x0": " ",
         "xaxis": "x3",
         "y": [
          0.08021301895496435,
          0.004968028995790519,
          0.005141428991919383,
          0.025758964955457486,
          0.019877536964486353
         ],
         "y0": " ",
         "yaxis": "y3"
        }
       ],
       "layout": {
        "annotations": [
         {
          "showarrow": false,
          "text": "Sizes=S/L",
          "x": 0.13333333333333333,
          "xanchor": "center",
          "xref": "paper",
          "y": 0.45,
          "yanchor": "bottom",
          "yref": "paper"
         },
         {
          "showarrow": false,
          "text": "Sizes=M/L",
          "x": 0.5,
          "xanchor": "center",
          "xref": "paper",
          "y": 0.45,
          "yanchor": "bottom",
          "yref": "paper"
         },
         {
          "showarrow": false,
          "text": "Sizes=M/M",
          "x": 0.8666666666666667,
          "xanchor": "center",
          "xref": "paper",
          "y": 0.45,
          "yanchor": "bottom",
          "yref": "paper"
         },
         {
          "showarrow": false,
          "text": "Sizes=S/S",
          "x": 0.13333333333333333,
          "xanchor": "center",
          "xref": "paper",
          "y": 1,
          "yanchor": "bottom",
          "yref": "paper"
         },
         {
          "showarrow": false,
          "text": "Sizes=S/M",
          "x": 0.5,
          "xanchor": "center",
          "xref": "paper",
          "y": 1,
          "yanchor": "bottom",
          "yref": "paper"
         },
         {
          "showarrow": false,
          "text": "Sizes=L/L",
          "x": 0.8666666666666667,
          "xanchor": "center",
          "xref": "paper",
          "y": 1,
          "yanchor": "bottom",
          "yref": "paper"
         },
         {
          "font": {
           "size": 14
          },
          "showarrow": false,
          "text": "Bouning Box Context",
          "x": 0.5,
          "xanchor": "center",
          "xref": "paper",
          "y": -0.2,
          "yanchor": "top",
          "yref": "paper"
         },
         {
          "font": {
           "size": 14
          },
          "showarrow": false,
          "text": "Mean Execution Time (s)",
          "textangle": -90,
          "x": -0.04,
          "xanchor": "center",
          "xref": "paper",
          "y": 0.5,
          "yanchor": "middle",
          "yref": "paper"
         }
        ],
        "boxmode": "group",
        "height": 700,
        "legend": {
         "title": {
          "text": "Baseline"
         },
         "tracegroupgap": 0
        },
        "template": {
         "data": {
          "bar": [
           {
            "error_x": {
             "color": "#2a3f5f"
            },
            "error_y": {
             "color": "#2a3f5f"
            },
            "marker": {
             "line": {
              "color": "#E5ECF6",
              "width": 0.5
             },
             "pattern": {
              "fillmode": "overlay",
              "size": 10,
              "solidity": 0.2
             }
            },
            "type": "bar"
           }
          ],
          "barpolar": [
           {
            "marker": {
             "line": {
              "color": "#E5ECF6",
              "width": 0.5
             },
             "pattern": {
              "fillmode": "overlay",
              "size": 10,
              "solidity": 0.2
             }
            },
            "type": "barpolar"
           }
          ],
          "carpet": [
           {
            "aaxis": {
             "endlinecolor": "#2a3f5f",
             "gridcolor": "white",
             "linecolor": "white",
             "minorgridcolor": "white",
             "startlinecolor": "#2a3f5f"
            },
            "baxis": {
             "endlinecolor": "#2a3f5f",
             "gridcolor": "white",
             "linecolor": "white",
             "minorgridcolor": "white",
             "startlinecolor": "#2a3f5f"
            },
            "type": "carpet"
           }
          ],
          "choropleth": [
           {
            "colorbar": {
             "outlinewidth": 0,
             "ticks": ""
            },
            "type": "choropleth"
           }
          ],
          "contour": [
           {
            "colorbar": {
             "outlinewidth": 0,
             "ticks": ""
            },
            "colorscale": [
             [
              0,
              "#0d0887"
             ],
             [
              0.1111111111111111,
              "#46039f"
             ],
             [
              0.2222222222222222,
              "#7201a8"
             ],
             [
              0.3333333333333333,
              "#9c179e"
             ],
             [
              0.4444444444444444,
              "#bd3786"
             ],
             [
              0.5555555555555556,
              "#d8576b"
             ],
             [
              0.6666666666666666,
              "#ed7953"
             ],
             [
              0.7777777777777778,
              "#fb9f3a"
             ],
             [
              0.8888888888888888,
              "#fdca26"
             ],
             [
              1,
              "#f0f921"
             ]
            ],
            "type": "contour"
           }
          ],
          "contourcarpet": [
           {
            "colorbar": {
             "outlinewidth": 0,
             "ticks": ""
            },
            "type": "contourcarpet"
           }
          ],
          "heatmap": [
           {
            "colorbar": {
             "outlinewidth": 0,
             "ticks": ""
            },
            "colorscale": [
             [
              0,
              "#0d0887"
             ],
             [
              0.1111111111111111,
              "#46039f"
             ],
             [
              0.2222222222222222,
              "#7201a8"
             ],
             [
              0.3333333333333333,
              "#9c179e"
             ],
             [
              0.4444444444444444,
              "#bd3786"
             ],
             [
              0.5555555555555556,
              "#d8576b"
             ],
             [
              0.6666666666666666,
              "#ed7953"
             ],
             [
              0.7777777777777778,
              "#fb9f3a"
             ],
             [
              0.8888888888888888,
              "#fdca26"
             ],
             [
              1,
              "#f0f921"
             ]
            ],
            "type": "heatmap"
           }
          ],
          "heatmapgl": [
           {
            "colorbar": {
             "outlinewidth": 0,
             "ticks": ""
            },
            "colorscale": [
             [
              0,
              "#0d0887"
             ],
             [
              0.1111111111111111,
              "#46039f"
             ],
             [
              0.2222222222222222,
              "#7201a8"
             ],
             [
              0.3333333333333333,
              "#9c179e"
             ],
             [
              0.4444444444444444,
              "#bd3786"
             ],
             [
              0.5555555555555556,
              "#d8576b"
             ],
             [
              0.6666666666666666,
              "#ed7953"
             ],
             [
              0.7777777777777778,
              "#fb9f3a"
             ],
             [
              0.8888888888888888,
              "#fdca26"
             ],
             [
              1,
              "#f0f921"
             ]
            ],
            "type": "heatmapgl"
           }
          ],
          "histogram": [
           {
            "marker": {
             "pattern": {
              "fillmode": "overlay",
              "size": 10,
              "solidity": 0.2
             }
            },
            "type": "histogram"
           }
          ],
          "histogram2d": [
           {
            "colorbar": {
             "outlinewidth": 0,
             "ticks": ""
            },
            "colorscale": [
             [
              0,
              "#0d0887"
             ],
             [
              0.1111111111111111,
              "#46039f"
             ],
             [
              0.2222222222222222,
              "#7201a8"
             ],
             [
              0.3333333333333333,
              "#9c179e"
             ],
             [
              0.4444444444444444,
              "#bd3786"
             ],
             [
              0.5555555555555556,
              "#d8576b"
             ],
             [
              0.6666666666666666,
              "#ed7953"
             ],
             [
              0.7777777777777778,
              "#fb9f3a"
             ],
             [
              0.8888888888888888,
              "#fdca26"
             ],
             [
              1,
              "#f0f921"
             ]
            ],
            "type": "histogram2d"
           }
          ],
          "histogram2dcontour": [
           {
            "colorbar": {
             "outlinewidth": 0,
             "ticks": ""
            },
            "colorscale": [
             [
              0,
              "#0d0887"
             ],
             [
              0.1111111111111111,
              "#46039f"
             ],
             [
              0.2222222222222222,
              "#7201a8"
             ],
             [
              0.3333333333333333,
              "#9c179e"
             ],
             [
              0.4444444444444444,
              "#bd3786"
             ],
             [
              0.5555555555555556,
              "#d8576b"
             ],
             [
              0.6666666666666666,
              "#ed7953"
             ],
             [
              0.7777777777777778,
              "#fb9f3a"
             ],
             [
              0.8888888888888888,
              "#fdca26"
             ],
             [
              1,
              "#f0f921"
             ]
            ],
            "type": "histogram2dcontour"
           }
          ],
          "mesh3d": [
           {
            "colorbar": {
             "outlinewidth": 0,
             "ticks": ""
            },
            "type": "mesh3d"
           }
          ],
          "parcoords": [
           {
            "line": {
             "colorbar": {
              "outlinewidth": 0,
              "ticks": ""
             }
            },
            "type": "parcoords"
           }
          ],
          "pie": [
           {
            "automargin": true,
            "type": "pie"
           }
          ],
          "scatter": [
           {
            "fillpattern": {
             "fillmode": "overlay",
             "size": 10,
             "solidity": 0.2
            },
            "type": "scatter"
           }
          ],
          "scatter3d": [
           {
            "line": {
             "colorbar": {
              "outlinewidth": 0,
              "ticks": ""
             }
            },
            "marker": {
             "colorbar": {
              "outlinewidth": 0,
              "ticks": ""
             }
            },
            "type": "scatter3d"
           }
          ],
          "scattercarpet": [
           {
            "marker": {
             "colorbar": {
              "outlinewidth": 0,
              "ticks": ""
             }
            },
            "type": "scattercarpet"
           }
          ],
          "scattergeo": [
           {
            "marker": {
             "colorbar": {
              "outlinewidth": 0,
              "ticks": ""
             }
            },
            "type": "scattergeo"
           }
          ],
          "scattergl": [
           {
            "marker": {
             "colorbar": {
              "outlinewidth": 0,
              "ticks": ""
             }
            },
            "type": "scattergl"
           }
          ],
          "scattermapbox": [
           {
            "marker": {
             "colorbar": {
              "outlinewidth": 0,
              "ticks": ""
             }
            },
            "type": "scattermapbox"
           }
          ],
          "scatterpolar": [
           {
            "marker": {
             "colorbar": {
              "outlinewidth": 0,
              "ticks": ""
             }
            },
            "type": "scatterpolar"
           }
          ],
          "scatterpolargl": [
           {
            "marker": {
             "colorbar": {
              "outlinewidth": 0,
              "ticks": ""
             }
            },
            "type": "scatterpolargl"
           }
          ],
          "scatterternary": [
           {
            "marker": {
             "colorbar": {
              "outlinewidth": 0,
              "ticks": ""
             }
            },
            "type": "scatterternary"
           }
          ],
          "surface": [
           {
            "colorbar": {
             "outlinewidth": 0,
             "ticks": ""
            },
            "colorscale": [
             [
              0,
              "#0d0887"
             ],
             [
              0.1111111111111111,
              "#46039f"
             ],
             [
              0.2222222222222222,
              "#7201a8"
             ],
             [
              0.3333333333333333,
              "#9c179e"
             ],
             [
              0.4444444444444444,
              "#bd3786"
             ],
             [
              0.5555555555555556,
              "#d8576b"
             ],
             [
              0.6666666666666666,
              "#ed7953"
             ],
             [
              0.7777777777777778,
              "#fb9f3a"
             ],
             [
              0.8888888888888888,
              "#fdca26"
             ],
             [
              1,
              "#f0f921"
             ]
            ],
            "type": "surface"
           }
          ],
          "table": [
           {
            "cells": {
             "fill": {
              "color": "#EBF0F8"
             },
             "line": {
              "color": "white"
             }
            },
            "header": {
             "fill": {
              "color": "#C8D4E3"
             },
             "line": {
              "color": "white"
             }
            },
            "type": "table"
           }
          ]
         },
         "layout": {
          "annotationdefaults": {
           "arrowcolor": "#2a3f5f",
           "arrowhead": 0,
           "arrowwidth": 1
          },
          "autotypenumbers": "strict",
          "coloraxis": {
           "colorbar": {
            "outlinewidth": 0,
            "ticks": ""
           }
          },
          "colorscale": {
           "diverging": [
            [
             0,
             "#8e0152"
            ],
            [
             0.1,
             "#c51b7d"
            ],
            [
             0.2,
             "#de77ae"
            ],
            [
             0.3,
             "#f1b6da"
            ],
            [
             0.4,
             "#fde0ef"
            ],
            [
             0.5,
             "#f7f7f7"
            ],
            [
             0.6,
             "#e6f5d0"
            ],
            [
             0.7,
             "#b8e186"
            ],
            [
             0.8,
             "#7fbc41"
            ],
            [
             0.9,
             "#4d9221"
            ],
            [
             1,
             "#276419"
            ]
           ],
           "sequential": [
            [
             0,
             "#0d0887"
            ],
            [
             0.1111111111111111,
             "#46039f"
            ],
            [
             0.2222222222222222,
             "#7201a8"
            ],
            [
             0.3333333333333333,
             "#9c179e"
            ],
            [
             0.4444444444444444,
             "#bd3786"
            ],
            [
             0.5555555555555556,
             "#d8576b"
            ],
            [
             0.6666666666666666,
             "#ed7953"
            ],
            [
             0.7777777777777778,
             "#fb9f3a"
            ],
            [
             0.8888888888888888,
             "#fdca26"
            ],
            [
             1,
             "#f0f921"
            ]
           ],
           "sequentialminus": [
            [
             0,
             "#0d0887"
            ],
            [
             0.1111111111111111,
             "#46039f"
            ],
            [
             0.2222222222222222,
             "#7201a8"
            ],
            [
             0.3333333333333333,
             "#9c179e"
            ],
            [
             0.4444444444444444,
             "#bd3786"
            ],
            [
             0.5555555555555556,
             "#d8576b"
            ],
            [
             0.6666666666666666,
             "#ed7953"
            ],
            [
             0.7777777777777778,
             "#fb9f3a"
            ],
            [
             0.8888888888888888,
             "#fdca26"
            ],
            [
             1,
             "#f0f921"
            ]
           ]
          },
          "colorway": [
           "#636efa",
           "#EF553B",
           "#00cc96",
           "#ab63fa",
           "#FFA15A",
           "#19d3f3",
           "#FF6692",
           "#B6E880",
           "#FF97FF",
           "#FECB52"
          ],
          "font": {
           "color": "#2a3f5f"
          },
          "geo": {
           "bgcolor": "white",
           "lakecolor": "white",
           "landcolor": "#E5ECF6",
           "showlakes": true,
           "showland": true,
           "subunitcolor": "white"
          },
          "hoverlabel": {
           "align": "left"
          },
          "hovermode": "closest",
          "mapbox": {
           "style": "light"
          },
          "paper_bgcolor": "white",
          "plot_bgcolor": "#E5ECF6",
          "polar": {
           "angularaxis": {
            "gridcolor": "white",
            "linecolor": "white",
            "ticks": ""
           },
           "bgcolor": "#E5ECF6",
           "radialaxis": {
            "gridcolor": "white",
            "linecolor": "white",
            "ticks": ""
           }
          },
          "scene": {
           "xaxis": {
            "backgroundcolor": "#E5ECF6",
            "gridcolor": "white",
            "gridwidth": 2,
            "linecolor": "white",
            "showbackground": true,
            "ticks": "",
            "zerolinecolor": "white"
           },
           "yaxis": {
            "backgroundcolor": "#E5ECF6",
            "gridcolor": "white",
            "gridwidth": 2,
            "linecolor": "white",
            "showbackground": true,
            "ticks": "",
            "zerolinecolor": "white"
           },
           "zaxis": {
            "backgroundcolor": "#E5ECF6",
            "gridcolor": "white",
            "gridwidth": 2,
            "linecolor": "white",
            "showbackground": true,
            "ticks": "",
            "zerolinecolor": "white"
           }
          },
          "shapedefaults": {
           "line": {
            "color": "#2a3f5f"
           }
          },
          "ternary": {
           "aaxis": {
            "gridcolor": "white",
            "linecolor": "white",
            "ticks": ""
           },
           "baxis": {
            "gridcolor": "white",
            "linecolor": "white",
            "ticks": ""
           },
           "bgcolor": "#E5ECF6",
           "caxis": {
            "gridcolor": "white",
            "linecolor": "white",
            "ticks": ""
           }
          },
          "title": {
           "x": 0.05
          },
          "xaxis": {
           "automargin": true,
           "gridcolor": "white",
           "linecolor": "white",
           "ticks": "",
           "title": {
            "standoff": 15
           },
           "zerolinecolor": "white",
           "zerolinewidth": 2
          },
          "yaxis": {
           "automargin": true,
           "gridcolor": "white",
           "linecolor": "white",
           "ticks": "",
           "title": {
            "standoff": 15
           },
           "zerolinecolor": "white",
           "zerolinewidth": 2
          }
         }
        },
        "title": {
         "text": "Execution Time for Intersection in Different Contexts & Sizes"
        },
        "xaxis": {
         "anchor": "y",
         "domain": [
          0,
          0.26666666666666666
         ],
         "title": {
          "text": ""
         }
        },
        "xaxis2": {
         "anchor": "y2",
         "domain": [
          0.3666666666666667,
          0.6333333333333333
         ],
         "matches": "x",
         "title": {
          "text": ""
         }
        },
        "xaxis3": {
         "anchor": "y3",
         "domain": [
          0.7333333333333334,
          1
         ],
         "matches": "x",
         "title": {
          "text": ""
         }
        },
        "xaxis4": {
         "anchor": "y4",
         "domain": [
          0,
          0.26666666666666666
         ],
         "matches": "x",
         "showticklabels": false,
         "title": {
          "text": ""
         }
        },
        "xaxis5": {
         "anchor": "y5",
         "domain": [
          0.3666666666666667,
          0.6333333333333333
         ],
         "matches": "x",
         "showticklabels": false,
         "title": {
          "text": ""
         }
        },
        "xaxis6": {
         "anchor": "y6",
         "domain": [
          0.7333333333333334,
          1
         ],
         "matches": "x",
         "showticklabels": false,
         "title": {
          "text": ""
         }
        },
        "yaxis": {
         "anchor": "x",
         "domain": [
          0,
          0.45
         ],
         "showticklabels": true,
         "title": {
          "text": ""
         }
        },
        "yaxis2": {
         "anchor": "x2",
         "domain": [
          0,
          0.45
         ],
         "showticklabels": true,
         "title": {
          "text": ""
         }
        },
        "yaxis3": {
         "anchor": "x3",
         "domain": [
          0,
          0.45
         ],
         "showticklabels": true,
         "title": {
          "text": ""
         }
        },
        "yaxis4": {
         "anchor": "x4",
         "domain": [
          0.55,
          1
         ],
         "showticklabels": true,
         "title": {
          "text": ""
         }
        },
        "yaxis5": {
         "anchor": "x5",
         "domain": [
          0.55,
          1
         ],
         "showticklabels": true,
         "title": {
          "text": ""
         }
        },
        "yaxis6": {
         "anchor": "x6",
         "domain": [
          0.55,
          1
         ],
         "showticklabels": true,
         "title": {
          "text": ""
         }
        }
       }
      }
     },
     "metadata": {},
     "output_type": "display_data"
    },
    {
     "data": {
      "application/vnd.plotly.v1+json": {
       "config": {
        "plotlyServerURL": "https://plot.ly"
       },
       "data": [
        {
         "alignmentgroup": "True",
         "bingroup": "x",
         "histfunc": "avg",
         "hovertemplate": "Baseline=True<br>Sizes=S/S<br>Context=%{x}<br>avg of total_time=%{y}<extra></extra>",
         "legendgroup": "True",
         "marker": {
          "color": "#636efa",
          "pattern": {
           "shape": ""
          }
         },
         "name": "True",
         "offsetgroup": "True",
         "orientation": "v",
         "showlegend": true,
         "type": "histogram",
         "x": [
          "Overlap (FALSE)",
          "Partial Overlap (TRUE)",
          "Fully Inside Other (TRUE)",
          "Overlap (FALSE)",
          "Partial Overlap (TRUE)",
          "Partial Overlap (TRUE)",
          "Partial Overlap (TRUE)",
          "Partial Overlap (TRUE)",
          "Partial Overlap (TRUE)",
          "Partial Overlap (TRUE)",
          "Partial Overlap (TRUE)",
          "Overlap (FALSE)",
          "Overlap (FALSE)",
          "Partial Overlap (TRUE)",
          "Partial Overlap (TRUE)",
          "Fully Inside Other (TRUE)",
          "Fully Inside Other (TRUE)",
          "Partial Overlap (TRUE)",
          "Partial Overlap (TRUE)",
          "Partial Overlap (TRUE)",
          "Partial Overlap (TRUE)",
          "Partial Overlap (TRUE)",
          "Partial Overlap (TRUE)",
          "Overlap (FALSE)",
          "Overlap (FALSE)",
          "Overlap (FALSE)",
          "Fully Inside Other (TRUE)",
          "Partial Overlap (TRUE)",
          "Overlap (FALSE)",
          "Overlap (FALSE)",
          "Overlap (FALSE)",
          "Overlap (FALSE)",
          "Overlap (FALSE)",
          "Overlap (FALSE)",
          "Overlap (FALSE)",
          "Overlap (FALSE)",
          "Overlap (FALSE)",
          "Overlap (FALSE)",
          "Overlap (FALSE)",
          "Overlap (FALSE)",
          "Overlap (FALSE)",
          "Overlap (FALSE)",
          "Overlap (FALSE)",
          "Overlap (FALSE)",
          "Overlap (FALSE)",
          "Overlap (FALSE)",
          "Overlap (FALSE)",
          "Overlap (FALSE)",
          "Overlap (FALSE)",
          "Overlap (FALSE)",
          "Overlap (FALSE)",
          "Overlap (FALSE)",
          "Overlap (FALSE)",
          "Overlap (FALSE)",
          "Overlap (FALSE)",
          "Overlap (FALSE)",
          "Overlap (FALSE)",
          "Overlap (FALSE)",
          "Overlap (FALSE)",
          "Overlap (FALSE)",
          "Overlap (FALSE)",
          "Overlap (FALSE)",
          "Overlap (FALSE)",
          "Overlap (FALSE)",
          "Overlap (FALSE)",
          "Overlap (FALSE)",
          "Overlap (FALSE)",
          "Overlap (FALSE)",
          "Overlap (FALSE)",
          "Overlap (FALSE)",
          "Overlap (FALSE)",
          "Overlap (FALSE)",
          "Overlap (FALSE)",
          "Overlap (FALSE)",
          "Overlap (FALSE)",
          "Overlap (FALSE)",
          "Overlap (FALSE)",
          "Overlap (FALSE)",
          "Overlap (FALSE)",
          "Overlap (FALSE)",
          "Overlap (FALSE)",
          "Overlap (FALSE)",
          "Overlap (FALSE)",
          "Overlap (FALSE)",
          "Overlap (FALSE)",
          "Overlap (FALSE)",
          "Overlap (FALSE)",
          "Overlap (FALSE)",
          "Overlap (FALSE)",
          "Overlap (FALSE)",
          "Overlap (FALSE)",
          "Overlap (FALSE)",
          "Overlap (FALSE)",
          "Overlap (FALSE)",
          "Partial Overlap (TRUE)",
          "Overlap (FALSE)",
          "Overlap (FALSE)",
          "Overlap (FALSE)",
          "Overlap (FALSE)",
          "Overlap (FALSE)",
          "Overlap (FALSE)",
          "Overlap (FALSE)",
          "Overlap (FALSE)",
          "Overlap (FALSE)",
          "Overlap (FALSE)",
          "Overlap (FALSE)",
          "Overlap (FALSE)",
          "Overlap (FALSE)",
          "Overlap (FALSE)",
          "Overlap (FALSE)",
          "Overlap (FALSE)",
          "Overlap (FALSE)",
          "Overlap (FALSE)",
          "Overlap (FALSE)",
          "Partial Overlap (TRUE)",
          "Partial Overlap (TRUE)",
          "Partial Overlap (TRUE)",
          "Partial Overlap (TRUE)",
          "Partial Overlap (TRUE)",
          "Partial Overlap (TRUE)",
          "Partial Overlap (TRUE)",
          "Partial Overlap (TRUE)",
          "Overlap (FALSE)",
          "Partial Overlap (TRUE)",
          "Partial Overlap (TRUE)",
          "Partial Overlap (TRUE)",
          "Partial Overlap (TRUE)",
          "Partial Overlap (TRUE)",
          "Overlap (FALSE)",
          "Overlap (FALSE)",
          "Partial Overlap (TRUE)",
          "Overlap (FALSE)",
          "Overlap (FALSE)",
          "Partial Overlap (TRUE)",
          "Partial Overlap (TRUE)"
         ],
         "xaxis": "x4",
         "y": [
          0.00933435196930077,
          0.03339835398946889,
          0.013177480024751276,
          0.0013203859998611733,
          0.02862010497483425,
          0.02715720904234331,
          0.0287317969778087,
          0.09144316898891702,
          0.09009675098059233,
          0.12306549298227765,
          0.11410360601439606,
          0.0052252029709052294,
          0.005499323015101254,
          0.02037429399206303,
          0.02004751903587021,
          0.01218288202653639,
          0.012198862998047844,
          0.005821983038913459,
          0.0057676470023579895,
          0.08662776298297103,
          0.08613462999346666,
          0.17321068397723138,
          0.172437651999644,
          0.011217999999644235,
          0.008158903030562215,
          0.0073312159947818145,
          0.006843348004622385,
          0.008444907012744807,
          0.0027650499978335574,
          0.004385930034914054,
          0.004163201025221497,
          0.0049835950339911506,
          0.0025638940278440714,
          0.004706204985268414,
          0.005375779946916737,
          0.00262976398516912,
          0.003876673014019616,
          0.002761313022347167,
          0.0050109739968320355,
          0.0027675399760482833,
          0.0036262609501136467,
          0.0033997659338638186,
          0.003846082996460609,
          0.0032450190192321315,
          0.0019791840168181807,
          0.0030701059877173975,
          0.0034719820541795343,
          0.0034654910705285147,
          0.0022507100366055965,
          0.0019602849934017286,
          0.0035005380195798352,
          0.004333826989750378,
          0.004286626979592256,
          0.0041921140073100105,
          0.0039272129943128675,
          0.004037951002828777,
          0.0035271350207040086,
          0.003172207943862304,
          0.003429788979701698,
          0.003017927025211975,
          0.0021261769288685173,
          0.0051492270140443,
          0.004049897979712114,
          0.0038612099742749706,
          0.004147984029259533,
          0.0038104669947642833,
          0.0036312460579210892,
          0.006283432929194532,
          0.007094394983141683,
          0.01071246003266424,
          0.009980320974136703,
          0.00385844599804841,
          0.00750794903433416,
          0.006434091003029607,
          0.004379531004815362,
          0.0063261369650717825,
          0.00956201799272094,
          0.005791359028080478,
          0.005416762985987589,
          0.007118736015399918,
          0.004528087971266359,
          0.00584188500943128,
          0.008141981015796773,
          0.008735402923775837,
          0.00650238202069886,
          0.00755449703137856,
          0.004636066034436226,
          0.004011379991425201,
          0.006336316029774025,
          0.006248455014429055,
          0.0035241439763922244,
          0.003676478998386301,
          0.0032127090089488775,
          0.0035164879664080217,
          0.013265201021567918,
          0.005668633020832203,
          0.0039265399682335556,
          0.005724638976971619,
          0.015106084974831901,
          0.005330052008503117,
          0.004553453007247299,
          0.004897812978015281,
          0.003477591017144732,
          0.004369214017060585,
          0.008017438012757339,
          0.006468186998972669,
          0.0033729809656506404,
          0.004696532982052304,
          0.002912062016548589,
          0.003358330999617465,
          0.0033545399928698316,
          0.003480832980130799,
          0.012873056053649634,
          0.010228650033241138,
          0.011934862995985895,
          0.011937836970901117,
          0.008445862025837414,
          0.009212030010530725,
          0.008180589982657693,
          0.008845165983075276,
          0.023917329963296652,
          0.021848691976629198,
          0.004888925002887845,
          0.029952294018585235,
          0.0029554120264947414,
          0.009035701979883015,
          0.01775739098957274,
          0.012384601053781807,
          0.005024763027904555,
          0.005731961005949415,
          0.012708690963336267,
          0.006219293019967154,
          0.005608934006886557,
          0.00667454197537154,
          0.006688257970381528
         ],
         "yaxis": "y4"
        },
        {
         "alignmentgroup": "True",
         "bingroup": "x",
         "histfunc": "avg",
         "hovertemplate": "Baseline=True<br>Sizes=S/M<br>Context=%{x}<br>avg of total_time=%{y}<extra></extra>",
         "legendgroup": "True",
         "marker": {
          "color": "#636efa",
          "pattern": {
           "shape": ""
          }
         },
         "name": "True",
         "offsetgroup": "True",
         "orientation": "v",
         "showlegend": false,
         "type": "histogram",
         "x": [
          "Partial Overlap (TRUE)",
          "Partial Overlap (TRUE)",
          "Partial Overlap (TRUE)",
          "Partial Overlap (TRUE)",
          "Overlap (FALSE)",
          "Overlap (FALSE)",
          "Overlap (FALSE)",
          "Overlap (FALSE)",
          "Partial Overlap (TRUE)",
          "Overlap (FALSE)",
          "Overlap (FALSE)",
          "Overlap (FALSE)",
          "Overlap (FALSE)",
          "Overlap (FALSE)",
          "Overlap (FALSE)",
          "Overlap (FALSE)",
          "Overlap (FALSE)",
          "Partial Overlap (TRUE)",
          "Partial Overlap (TRUE)",
          "Partial Overlap (TRUE)",
          "Overlap (FALSE)",
          "Fully Inside Other (TRUE)",
          "Overlap (FALSE)",
          "Partial Overlap (TRUE)",
          "Overlap (FALSE)",
          "Overlap (FALSE)",
          "Overlap (FALSE)",
          "Overlap (FALSE)",
          "Overlap (FALSE)",
          "Partial Overlap (TRUE)",
          "Partial Overlap (TRUE)",
          "Overlap (FALSE)",
          "Partial Overlap (TRUE)"
         ],
         "xaxis": "x5",
         "y": [
          0.03553804197872523,
          0.0354678209987469,
          0.017509702025563456,
          0.028046201026882045,
          0.007276630989508703,
          0.015390313987154514,
          0.009274796990212053,
          0.017705255013424903,
          0.02152940801170189,
          0.009466517993132584,
          0.011414954031351954,
          0.009732811013236642,
          0.011415108005166985,
          0.016092863952508196,
          0.014917079999577254,
          0.01298607797070872,
          0.012430243048584089,
          0.02175782799895387,
          0.027017641987185925,
          0.02819256800285075,
          0.0132247270521475,
          0.018809364948538132,
          0.007844195031793788,
          0.02646517702669371,
          0.006342895023408346,
          0.006726531049935147,
          0.006324743008008227,
          0.01036681397818029,
          0.011937654999201186,
          0.020890984014840797,
          0.01908492603979539,
          0.010970676972647198,
          0.014559077026206069
         ],
         "yaxis": "y5"
        },
        {
         "alignmentgroup": "True",
         "bingroup": "x",
         "histfunc": "avg",
         "hovertemplate": "Baseline=True<br>Sizes=L/L<br>Context=%{x}<br>avg of total_time=%{y}<extra></extra>",
         "legendgroup": "True",
         "marker": {
          "color": "#636efa",
          "pattern": {
           "shape": ""
          }
         },
         "name": "True",
         "offsetgroup": "True",
         "orientation": "v",
         "showlegend": false,
         "type": "histogram",
         "x": [
          "Partial Overlap (TRUE)",
          "Partial Overlap (TRUE)",
          "Partial Overlap (TRUE)",
          "Partial Overlap (TRUE)",
          "Partial Overlap (TRUE)",
          "Partial Overlap (TRUE)",
          "Partial Overlap (TRUE)",
          "Overlap (FALSE)",
          "Overlap (FALSE)",
          "Overlap (FALSE)",
          "Partial Overlap (TRUE)",
          "Overlap (FALSE)",
          "Partial Overlap (TRUE)",
          "Partial Overlap (TRUE)",
          "Partial Overlap (TRUE)",
          "Overlap (FALSE)",
          "Partial Overlap (TRUE)",
          "Partial Overlap (TRUE)",
          "Partial Overlap (TRUE)",
          "Overlap (FALSE)",
          "Partial Overlap (TRUE)",
          "Partial Overlap (TRUE)",
          "Overlap (FALSE)",
          "Partial Overlap (TRUE)",
          "Overlap (FALSE)",
          "Overlap (FALSE)",
          "Partial Overlap (TRUE)",
          "Partial Overlap (TRUE)",
          "Partial Overlap (TRUE)",
          "Partial Overlap (TRUE)",
          "Overlap (FALSE)",
          "Overlap (FALSE)",
          "Partial Overlap (TRUE)",
          "Overlap (FALSE)",
          "Partial Overlap (TRUE)",
          "Partial Overlap (TRUE)",
          "Partial Overlap (TRUE)",
          "Overlap (FALSE)",
          "Partial Overlap (TRUE)",
          "Partial Overlap (TRUE)",
          "Overlap (FALSE)",
          "Overlap (FALSE)",
          "Partial Overlap (TRUE)",
          "Partial Overlap (TRUE)",
          "Partial Overlap (TRUE)",
          "Overlap (FALSE)",
          "Partial Overlap (TRUE)",
          "Partial Overlap (TRUE)",
          "Partial Overlap (TRUE)",
          "Overlap (FALSE)",
          "Partial Overlap (TRUE)",
          "Partial Overlap (TRUE)",
          "Partial Overlap (TRUE)",
          "Partial Overlap (TRUE)",
          "Overlap (FALSE)",
          "Partial Overlap (TRUE)",
          "Overlap (FALSE)",
          "Partial Overlap (TRUE)",
          "Partial Overlap (TRUE)",
          "Partial Overlap (TRUE)",
          "Partial Overlap (TRUE)",
          "Partial Overlap (TRUE)",
          "Partial Overlap (TRUE)",
          "Partial Overlap (TRUE)",
          "Overlap (FALSE)",
          "Overlap (FALSE)",
          "Overlap (FALSE)",
          "Partial Overlap (TRUE)",
          "Partial Overlap (TRUE)",
          "Partial Overlap (TRUE)",
          "Partial Overlap (TRUE)",
          "Partial Overlap (TRUE)",
          "Partial Overlap (TRUE)",
          "Overlap (FALSE)",
          "Partial Overlap (TRUE)",
          "Partial Overlap (TRUE)",
          "Partial Overlap (TRUE)",
          "Partial Overlap (TRUE)",
          "Partial Overlap (TRUE)",
          "Partial Overlap (TRUE)",
          "Partial Overlap (TRUE)",
          "Partial Overlap (TRUE)",
          "Partial Overlap (TRUE)",
          "Partial Overlap (TRUE)",
          "Partial Overlap (TRUE)",
          "Overlap (FALSE)",
          "Overlap (FALSE)",
          "Partial Overlap (TRUE)",
          "Partial Overlap (TRUE)",
          "Partial Overlap (TRUE)",
          "Partial Overlap (TRUE)",
          "Partial Overlap (TRUE)",
          "Partial Overlap (TRUE)",
          "Partial Overlap (TRUE)",
          "Partial Overlap (TRUE)",
          "Overlap (FALSE)",
          "Overlap (FALSE)",
          "Overlap (FALSE)",
          "Overlap (FALSE)",
          "Overlap (FALSE)",
          "Overlap (FALSE)",
          "Overlap (FALSE)",
          "Overlap (FALSE)",
          "Overlap (FALSE)",
          "Overlap (FALSE)",
          "Overlap (FALSE)",
          "Overlap (FALSE)",
          "Overlap (FALSE)",
          "Overlap (FALSE)",
          "Overlap (FALSE)",
          "Overlap (FALSE)",
          "Overlap (FALSE)",
          "Overlap (FALSE)",
          "Overlap (FALSE)",
          "Overlap (FALSE)",
          "Overlap (FALSE)",
          "Overlap (FALSE)",
          "Overlap (FALSE)",
          "Overlap (FALSE)",
          "Overlap (FALSE)",
          "Overlap (FALSE)",
          "Overlap (FALSE)",
          "Overlap (FALSE)",
          "Overlap (FALSE)",
          "Overlap (FALSE)",
          "Overlap (FALSE)",
          "Overlap (FALSE)",
          "Overlap (FALSE)",
          "Overlap (FALSE)",
          "Overlap (FALSE)",
          "Overlap (FALSE)",
          "Overlap (FALSE)",
          "Overlap (FALSE)",
          "Overlap (FALSE)",
          "Overlap (FALSE)",
          "Overlap (FALSE)",
          "Overlap (FALSE)",
          "Overlap (FALSE)",
          "Overlap (FALSE)",
          "Overlap (FALSE)",
          "Overlap (FALSE)",
          "Overlap (FALSE)",
          "Overlap (FALSE)",
          "Overlap (FALSE)",
          "Overlap (FALSE)",
          "Overlap (FALSE)",
          "Overlap (FALSE)",
          "Overlap (FALSE)",
          "Overlap (FALSE)",
          "Overlap (FALSE)",
          "Overlap (FALSE)",
          "Overlap (FALSE)",
          "Overlap (FALSE)",
          "Overlap (FALSE)",
          "Overlap (FALSE)",
          "Overlap (FALSE)",
          "Overlap (FALSE)",
          "Overlap (FALSE)",
          "Overlap (FALSE)",
          "Overlap (FALSE)",
          "Overlap (FALSE)",
          "Overlap (FALSE)",
          "Overlap (FALSE)",
          "Overlap (FALSE)",
          "Overlap (FALSE)",
          "Overlap (FALSE)",
          "Overlap (FALSE)",
          "Overlap (FALSE)",
          "Overlap (FALSE)",
          "Overlap (FALSE)",
          "Overlap (FALSE)",
          "Overlap (FALSE)",
          "Overlap (FALSE)",
          "Overlap (FALSE)",
          "Overlap (FALSE)",
          "Overlap (FALSE)",
          "Overlap (FALSE)",
          "Overlap (FALSE)",
          "Overlap (FALSE)",
          "Overlap (FALSE)",
          "Overlap (FALSE)",
          "Overlap (FALSE)",
          "Overlap (FALSE)",
          "Overlap (FALSE)",
          "Overlap (FALSE)",
          "Partial Overlap (TRUE)",
          "Overlap (FALSE)",
          "Partial Overlap (TRUE)",
          "Partial Overlap (TRUE)",
          "Overlap (FALSE)",
          "Overlap (FALSE)",
          "Overlap (FALSE)"
         ],
         "xaxis": "x6",
         "y": [
          0.7470096890174318,
          0.6398597010411322,
          0.2563836470217211,
          0.09007277598720975,
          0.4041505550558213,
          0.2618774830189068,
          0.47600957099348307,
          0.06110903799708467,
          0.08807560597779229,
          0.11079527497349773,
          0.9936941620399011,
          0.19957478797005024,
          0.706298304037773,
          0.6780844570021145,
          0.2881677720142761,
          0.05530811297649052,
          1.1799713049695129,
          1.587167050995049,
          0.6715290949941846,
          0.25097476699738763,
          1.5259296249423642,
          0.6844962159811985,
          0.6682016199920326,
          0.49486477101163473,
          0.30404118495061994,
          0.3063066910399357,
          0.2031738799851155,
          0.23674180297530256,
          0.20095999498153105,
          0.30096383900672663,
          0.03553442895645276,
          0.0899357430607779,
          0.41413520103378687,
          0.19447206900804304,
          0.13214732897176873,
          0.24199478898663074,
          0.31212150903593283,
          0.15594413098006044,
          0.9387127889785916,
          1.175098055988201,
          0.21778874695883133,
          0.1144883750093868,
          0.6714434959721984,
          0.18889366801886354,
          0.5703588819887955,
          0.10170509600720834,
          0.13316741804010235,
          0.42526578399701975,
          0.30012641500798054,
          0.10907991298881825,
          0.3823428080213489,
          0.30412333899585065,
          0.6139217230083887,
          0.3150879710156005,
          0.20934137495351024,
          1.7319998099846998,
          0.1634442730282899,
          0.506509292012197,
          0.702275534014916,
          0.14107110604527406,
          0.14496188197517768,
          0.4027598289831076,
          0.31233770499238744,
          0.42543871300586034,
          0.06374112699995749,
          0.08427687198854983,
          0.07847725402098149,
          3.2074359500256833,
          0.8054777580255177,
          0.24955991897149943,
          0.1605547230283264,
          0.14737577996857,
          0.7830450020119315,
          0.21757528798480053,
          0.4773997970187338,
          0.2946982029825449,
          0.12985124003898818,
          0.35991554998327047,
          0.2614109469723189,
          0.18942518999392632,
          0.5242007810156792,
          0.14995728796930052,
          0.5644605359993875,
          1.0386745060386602,
          0.36070128402207047,
          0.1282264439651044,
          0.11378282897931058,
          0.8386626129649812,
          0.3625997560011456,
          3.6575641370000085,
          1.5946949520439375,
          1.8414228610490682,
          1.6240899590193294,
          1.1561476350325393,
          0.7811497909860918,
          0.03418880693789106,
          0.49801052096881904,
          0.06648389302426949,
          0.5549635659699561,
          0.5173175840463955,
          0.04069791900110431,
          0.05881907399452757,
          0.1324663869891083,
          0.8353031829756219,
          0.21282145503209904,
          0.21068584301974624,
          0.11104324899497442,
          0.1100065480422927,
          0.27392468201287556,
          0.721302303034463,
          0.5469686769938562,
          0.3420832810079446,
          0.43220615801692475,
          0.5778738930239342,
          5.3761480130051496,
          2.393526794956415,
          4.850697037982172,
          0.5269634550495539,
          0.15997793903807178,
          0.3296666439855471,
          0.03762034201645292,
          0.04426249593961984,
          0.10405663395067677,
          0.08379199205955956,
          0.07192011804727372,
          0.04523827102093492,
          0.305362281986163,
          0.29880357994989026,
          0.45620646903989837,
          0.30059134202019777,
          0.11078503901080694,
          0.18099574407096952,
          0.1195219989749603,
          0.13365845900261775,
          0.0921004390111193,
          0.6874206760112429,
          5.240692946958006,
          0.030528021932695992,
          0.11535007096244954,
          0.30524566302483436,
          0.2396018929866841,
          0.1299638400087133,
          0.06753759400453418,
          0.06806009699357674,
          0.19188077095896006,
          0.09576983697479591,
          1.0527939909225097,
          0.27969026801292785,
          0.21489068398659583,
          0.4971019579679705,
          0.30528199298714753,
          0.12486379097390454,
          0.1788824949762784,
          0.3738528859830694,
          0.1715495289536193,
          0.08602244000940118,
          0.28394632501294836,
          0.4667485790560022,
          0.09614705001877155,
          0.09867294599825982,
          0.6129390700079966,
          0.33629513198684435,
          0.13573712200741284,
          0.13642486197932158,
          0.1971617920062272,
          1.0072552430210635,
          0.1139729530113982,
          0.16951674700248986,
          0.25849568197736517,
          0.4225775049853837,
          0.2996313149778871,
          0.3046374410187127,
          0.23962643204140477,
          0.44348336194525473,
          0.31684336203034036,
          0.28123372899426613,
          0.4458495360595407,
          0.369032025031629,
          7.818747774959775,
          0.3502452710381476,
          0.17171018902445212,
          0.27202822496474255,
          0.2177919140085578,
          0.33083964401157573,
          0.10324401297839358,
          0.06218483200063929,
          0.028308239023317583,
          0.09739836001244839,
          0.053295248028007336,
          0.04461733196512796,
          0.07906805002130568,
          0.5512667839648202
         ],
         "yaxis": "y6"
        },
        {
         "alignmentgroup": "True",
         "bingroup": "x",
         "histfunc": "avg",
         "hovertemplate": "Baseline=True<br>Sizes=S/L<br>Context=%{x}<br>avg of total_time=%{y}<extra></extra>",
         "legendgroup": "True",
         "marker": {
          "color": "#636efa",
          "pattern": {
           "shape": ""
          }
         },
         "name": "True",
         "offsetgroup": "True",
         "orientation": "v",
         "showlegend": false,
         "type": "histogram",
         "x": [
          "Fully Inside Other (TRUE)",
          "Fully Inside Other (TRUE)",
          "Partial Overlap (TRUE)",
          "Partial Overlap (TRUE)",
          "Partial Overlap (TRUE)",
          "Partial Overlap (TRUE)",
          "Overlap (FALSE)",
          "Partial Overlap (TRUE)",
          "Overlap (FALSE)",
          "Overlap (FALSE)",
          "Overlap (FALSE)",
          "Overlap (FALSE)",
          "Overlap (FALSE)",
          "Overlap (FALSE)",
          "Overlap (FALSE)",
          "Partial Overlap (TRUE)",
          "Overlap (FALSE)",
          "Overlap (FALSE)",
          "Overlap (FALSE)",
          "Partial Overlap (TRUE)",
          "Overlap (FALSE)",
          "Overlap (FALSE)",
          "Partial Overlap (TRUE)",
          "Partial Overlap (TRUE)",
          "Overlap (FALSE)",
          "Partial Overlap (TRUE)",
          "Overlap (FALSE)",
          "Partial Overlap (TRUE)",
          "Overlap (FALSE)",
          "Overlap (FALSE)",
          "Overlap (FALSE)",
          "Overlap (FALSE)",
          "Partial Overlap (TRUE)",
          "Partial Overlap (TRUE)",
          "Overlap (FALSE)",
          "Overlap (FALSE)",
          "Overlap (FALSE)",
          "Overlap (FALSE)",
          "Overlap (FALSE)",
          "Overlap (FALSE)",
          "Overlap (FALSE)",
          "Overlap (FALSE)",
          "Overlap (FALSE)",
          "Overlap (FALSE)",
          "Overlap (FALSE)",
          "Overlap (FALSE)",
          "Overlap (FALSE)",
          "Overlap (FALSE)",
          "Overlap (FALSE)",
          "Overlap (FALSE)",
          "Overlap (FALSE)",
          "Overlap (FALSE)",
          "Overlap (FALSE)",
          "Overlap (FALSE)",
          "Overlap (FALSE)",
          "Overlap (FALSE)",
          "Overlap (FALSE)",
          "Overlap (FALSE)",
          "Overlap (FALSE)",
          "Overlap (FALSE)",
          "Overlap (FALSE)",
          "Overlap (FALSE)",
          "Partial Overlap (TRUE)",
          "Partial Overlap (TRUE)",
          "Partial Overlap (TRUE)",
          "Partial Overlap (TRUE)",
          "Overlap (FALSE)",
          "Overlap (FALSE)",
          "Overlap (FALSE)",
          "Overlap (FALSE)",
          "Overlap (FALSE)",
          "Partial Overlap (TRUE)",
          "Overlap (FALSE)",
          "Overlap (FALSE)",
          "Overlap (FALSE)",
          "Overlap (FALSE)",
          "Overlap (FALSE)",
          "Overlap (FALSE)",
          "Overlap (FALSE)",
          "Overlap (FALSE)",
          "Overlap (FALSE)",
          "Overlap (FALSE)",
          "Overlap (FALSE)",
          "Overlap (FALSE)",
          "Overlap (FALSE)",
          "Overlap (FALSE)",
          "Overlap (FALSE)",
          "Overlap (FALSE)",
          "Overlap (FALSE)",
          "Overlap (FALSE)",
          "Overlap (FALSE)",
          "Overlap (FALSE)",
          "Overlap (FALSE)",
          "Overlap (FALSE)",
          "Overlap (FALSE)",
          "Overlap (FALSE)",
          "Overlap (FALSE)",
          "Overlap (FALSE)",
          "Overlap (FALSE)",
          "Overlap (FALSE)",
          "Overlap (FALSE)",
          "Overlap (FALSE)",
          "Overlap (FALSE)",
          "Overlap (FALSE)",
          "Overlap (FALSE)",
          "Partial Overlap (TRUE)",
          "Overlap (FALSE)",
          "Overlap (FALSE)",
          "Overlap (FALSE)",
          "Overlap (FALSE)",
          "Overlap (FALSE)",
          "Overlap (FALSE)",
          "Overlap (FALSE)",
          "Overlap (FALSE)",
          "Overlap (FALSE)",
          "Overlap (FALSE)",
          "Overlap (FALSE)",
          "Overlap (FALSE)",
          "Overlap (FALSE)",
          "Overlap (FALSE)",
          "Overlap (FALSE)",
          "Overlap (FALSE)",
          "Overlap (FALSE)",
          "Overlap (FALSE)",
          "Overlap (FALSE)",
          "Overlap (FALSE)",
          "Overlap (FALSE)",
          "Overlap (FALSE)",
          "Overlap (FALSE)",
          "Overlap (FALSE)",
          "Overlap (FALSE)",
          "Overlap (FALSE)",
          "Overlap (FALSE)",
          "Overlap (FALSE)"
         ],
         "xaxis": "x",
         "y": [
          0.02091967803426087,
          0.021159922995138913,
          0.1167075920093339,
          0.1006398219615221,
          0.0689438290137332,
          0.06669242505449802,
          0.03367189702112228,
          0.04830719101300929,
          0.010665967973181978,
          0.4653456499945605,
          0.034631568007171154,
          0.08527990098809823,
          0.04541803302709013,
          0.03456706096767448,
          0.026905689999694005,
          0.03757970896549523,
          0.026458962995093316,
          0.022282311008893885,
          0.023836680993554182,
          0.03758284398645628,
          0.017040664999512956,
          0.01540892203047406,
          0.042492791937547736,
          0.059597325962386094,
          0.0441759760142304,
          0.058974535975721665,
          0.030621997007983737,
          0.11444211594061926,
          0.03213602399046067,
          0.03577002503152471,
          0.04127378901466727,
          0.05005863498081453,
          0.03324587603856344,
          0.023301107008592226,
          0.03778767598851118,
          0.03941829000541475,
          0.04763800301589072,
          0.04199351502757054,
          0.04091238704859279,
          0.0369156860106159,
          0.0415902149543399,
          0.034996531016076915,
          0.0340580729971407,
          0.12601707999419887,
          0.03440938198764343,
          0.038131132983835414,
          0.038299923995509744,
          0.04543864099832717,
          0.039018055016640574,
          0.04088548598519992,
          0.042668625043006614,
          0.04648484401695896,
          0.043693003986845724,
          0.036482763971434906,
          0.04549571302777622,
          0.04084453095856588,
          0.0353934370650677,
          0.025603368994779885,
          0.1246890189795522,
          0.023505364981247112,
          0.02331376499205362,
          0.029455907017108984,
          0.26679554299334995,
          0.28108108100423124,
          0.19803554298414383,
          0.08086429696413688,
          0.17218443701858632,
          0.07418745399627369,
          0.0752367360109929,
          0.07435420698311646,
          0.07487928002956323,
          0.08206822401552927,
          0.206595420037047,
          0.09024522900290322,
          0.18576861600740813,
          0.06730878601956647,
          0.06396911600313615,
          0.06939756798965391,
          0.0324214750144165,
          0.030654623013106175,
          0.045424131967592984,
          0.14054407701769378,
          0.04533735298900865,
          0.04611147796094883,
          0.045577836979646236,
          0.04517258801206481,
          0.04416360297182109,
          0.04447429800347891,
          0.04590828802611213,
          0.12766146801004652,
          0.04478110701893456,
          0.046702933017513715,
          0.04517359400051646,
          0.04432359299971722,
          0.04705455701332539,
          0.048918998989393,
          0.04867864205152728,
          0.050811268025427125,
          0.05343097202421632,
          0.04403813699900638,
          0.04460381997341756,
          0.04439615903538652,
          0.05160188402805943,
          0.04753078600333538,
          0.13914436401682906,
          0.052891434970661066,
          0.04601667998940684,
          0.04852120502619073,
          0.044169100976432674,
          0.04536224600451533,
          0.04421281196118798,
          0.04484920097456779,
          0.04409362201113254,
          0.0444152080162894,
          0.04486348698264919,
          0.04521591498632915,
          0.045093716951669194,
          0.04790905400295742,
          0.045599920995300636,
          0.049567135007237084,
          0.043988539968268014,
          0.044045864982763305,
          0.044312067941064015,
          0.04796594496292528,
          0.13927136499842163,
          0.049522332003107294,
          0.045567032997496426,
          0.04550721598207019,
          0.04835570795694366,
          0.05201700798352249,
          0.05961033402127214,
          0.04164702899288386,
          0.01979772800405044,
          0.023093427007552236
         ],
         "yaxis": "y"
        },
        {
         "alignmentgroup": "True",
         "bingroup": "x",
         "histfunc": "avg",
         "hovertemplate": "Baseline=True<br>Sizes=M/L<br>Context=%{x}<br>avg of total_time=%{y}<extra></extra>",
         "legendgroup": "True",
         "marker": {
          "color": "#636efa",
          "pattern": {
           "shape": ""
          }
         },
         "name": "True",
         "offsetgroup": "True",
         "orientation": "v",
         "showlegend": false,
         "type": "histogram",
         "x": [
          "Overlap (FALSE)",
          "Overlap (FALSE)",
          "Overlap (FALSE)",
          "Overlap (FALSE)",
          "Overlap (FALSE)",
          "Overlap (FALSE)",
          "Overlap (FALSE)",
          "Overlap (FALSE)",
          "Partial Overlap (TRUE)",
          "Partial Overlap (TRUE)",
          "Overlap (FALSE)",
          "Partial Overlap (TRUE)",
          "Overlap (FALSE)",
          "Overlap (FALSE)",
          "Overlap (FALSE)",
          "Partial Overlap (TRUE)",
          "Overlap (FALSE)",
          "Overlap (FALSE)",
          "Overlap (FALSE)",
          "Overlap (FALSE)",
          "Partial Overlap (TRUE)",
          "Overlap (FALSE)",
          "Partial Overlap (TRUE)",
          "Overlap (FALSE)",
          "Overlap (FALSE)",
          "Overlap (FALSE)",
          "Overlap (FALSE)",
          "Overlap (FALSE)",
          "Overlap (FALSE)",
          "Overlap (FALSE)"
         ],
         "xaxis": "x2",
         "y": [
          0.15175176394404843,
          0.13954231995739974,
          0.2318223250331357,
          0.09107347801909782,
          0.03600852102681529,
          0.1723660420102533,
          0.11819038004614413,
          0.10906058496038895,
          0.03262493698275648,
          0.03349893700215034,
          0.028870535956230015,
          0.049055135023081675,
          0.04873301193583757,
          0.05139366604271345,
          0.05675786797655746,
          0.04395128098258283,
          0.04215612300322391,
          0.03127636197314132,
          0.01747039998008404,
          0.04206246598914731,
          0.038731076012481935,
          0.03288495300512295,
          0.12653567500819918,
          0.041725605027750134,
          0.07169309700839221,
          0.15890317800221965,
          0.1686659799743211,
          0.05545524397166446,
          0.07007113195140846,
          0.06001174401899334
         ],
         "yaxis": "y2"
        },
        {
         "alignmentgroup": "True",
         "bingroup": "x",
         "histfunc": "avg",
         "hovertemplate": "Baseline=True<br>Sizes=M/M<br>Context=%{x}<br>avg of total_time=%{y}<extra></extra>",
         "legendgroup": "True",
         "marker": {
          "color": "#636efa",
          "pattern": {
           "shape": ""
          }
         },
         "name": "True",
         "offsetgroup": "True",
         "orientation": "v",
         "showlegend": false,
         "type": "histogram",
         "x": [
          "Overlap (FALSE)",
          "Overlap (FALSE)",
          "Overlap (FALSE)",
          "Partial Overlap (TRUE)",
          "Partial Overlap (TRUE)"
         ],
         "xaxis": "x3",
         "y": [
          0.07504385906213429,
          0.014860354960546829,
          0.01517500494082924,
          0.030502075984259136,
          0.031243470977642573
         ],
         "yaxis": "y3"
        },
        {
         "alignmentgroup": "True",
         "bingroup": "x",
         "histfunc": "avg",
         "hovertemplate": "Baseline=False<br>Sizes=S/S<br>Context=%{x}<br>avg of total_time=%{y}<extra></extra>",
         "legendgroup": "False",
         "marker": {
          "color": "#EF553B",
          "pattern": {
           "shape": ""
          }
         },
         "name": "False",
         "offsetgroup": "False",
         "orientation": "v",
         "showlegend": true,
         "type": "histogram",
         "x": [
          "Overlap (FALSE)",
          "Partial Overlap (TRUE)",
          "Fully Inside Other (TRUE)",
          "Overlap (FALSE)",
          "Partial Overlap (TRUE)",
          "Partial Overlap (TRUE)",
          "Partial Overlap (TRUE)",
          "Partial Overlap (TRUE)",
          "Partial Overlap (TRUE)",
          "Partial Overlap (TRUE)",
          "Partial Overlap (TRUE)",
          "Overlap (FALSE)",
          "Overlap (FALSE)",
          "Partial Overlap (TRUE)",
          "Partial Overlap (TRUE)",
          "Fully Inside Other (TRUE)",
          "Fully Inside Other (TRUE)",
          "Partial Overlap (TRUE)",
          "Partial Overlap (TRUE)",
          "Partial Overlap (TRUE)",
          "Partial Overlap (TRUE)",
          "Partial Overlap (TRUE)",
          "Partial Overlap (TRUE)",
          "Overlap (FALSE)",
          "Overlap (FALSE)",
          "Overlap (FALSE)",
          "Fully Inside Other (TRUE)",
          "Partial Overlap (TRUE)",
          "Overlap (FALSE)",
          "Overlap (FALSE)",
          "Overlap (FALSE)",
          "Overlap (FALSE)",
          "Overlap (FALSE)",
          "Overlap (FALSE)",
          "Overlap (FALSE)",
          "Overlap (FALSE)",
          "Overlap (FALSE)",
          "Overlap (FALSE)",
          "Overlap (FALSE)",
          "Overlap (FALSE)",
          "Overlap (FALSE)",
          "Overlap (FALSE)",
          "Overlap (FALSE)",
          "Overlap (FALSE)",
          "Overlap (FALSE)",
          "Overlap (FALSE)",
          "Overlap (FALSE)",
          "Overlap (FALSE)",
          "Overlap (FALSE)",
          "Overlap (FALSE)",
          "Overlap (FALSE)",
          "Overlap (FALSE)",
          "Overlap (FALSE)",
          "Overlap (FALSE)",
          "Overlap (FALSE)",
          "Overlap (FALSE)",
          "Overlap (FALSE)",
          "Overlap (FALSE)",
          "Overlap (FALSE)",
          "Overlap (FALSE)",
          "Overlap (FALSE)",
          "Overlap (FALSE)",
          "Overlap (FALSE)",
          "Overlap (FALSE)",
          "Overlap (FALSE)",
          "Overlap (FALSE)",
          "Overlap (FALSE)",
          "Overlap (FALSE)",
          "Overlap (FALSE)",
          "Overlap (FALSE)",
          "Overlap (FALSE)",
          "Overlap (FALSE)",
          "Overlap (FALSE)",
          "Overlap (FALSE)",
          "Overlap (FALSE)",
          "Overlap (FALSE)",
          "Overlap (FALSE)",
          "Overlap (FALSE)",
          "Overlap (FALSE)",
          "Overlap (FALSE)",
          "Overlap (FALSE)",
          "Overlap (FALSE)",
          "Overlap (FALSE)",
          "Overlap (FALSE)",
          "Overlap (FALSE)",
          "Overlap (FALSE)",
          "Overlap (FALSE)",
          "Overlap (FALSE)",
          "Overlap (FALSE)",
          "Overlap (FALSE)",
          "Overlap (FALSE)",
          "Overlap (FALSE)",
          "Overlap (FALSE)",
          "Overlap (FALSE)",
          "Partial Overlap (TRUE)",
          "Overlap (FALSE)",
          "Overlap (FALSE)",
          "Overlap (FALSE)",
          "Overlap (FALSE)",
          "Overlap (FALSE)",
          "Overlap (FALSE)",
          "Overlap (FALSE)",
          "Overlap (FALSE)",
          "Overlap (FALSE)",
          "Overlap (FALSE)",
          "Overlap (FALSE)",
          "Overlap (FALSE)",
          "Overlap (FALSE)",
          "Overlap (FALSE)",
          "Overlap (FALSE)",
          "Overlap (FALSE)",
          "Overlap (FALSE)",
          "Overlap (FALSE)",
          "Overlap (FALSE)",
          "Partial Overlap (TRUE)",
          "Partial Overlap (TRUE)",
          "Partial Overlap (TRUE)",
          "Partial Overlap (TRUE)",
          "Partial Overlap (TRUE)",
          "Partial Overlap (TRUE)",
          "Partial Overlap (TRUE)",
          "Partial Overlap (TRUE)",
          "Overlap (FALSE)",
          "Partial Overlap (TRUE)",
          "Partial Overlap (TRUE)",
          "Partial Overlap (TRUE)",
          "Partial Overlap (TRUE)",
          "Partial Overlap (TRUE)",
          "Overlap (FALSE)",
          "Overlap (FALSE)",
          "Partial Overlap (TRUE)",
          "Overlap (FALSE)",
          "Overlap (FALSE)",
          "Partial Overlap (TRUE)",
          "Partial Overlap (TRUE)"
         ],
         "xaxis": "x4",
         "y": [
          0.006522053954540752,
          0.026249934991938062,
          0.011555623001186177,
          0.000334889002260752,
          0.024334777961485088,
          0.02452486302354373,
          0.028503182009444572,
          0.0885912179510342,
          0.09178353803872596,
          0.11962860701896716,
          0.13319020702328999,
          0.0024989220401039347,
          0.0023610900389030576,
          0.02018795501498971,
          0.020994339967728592,
          0.010493144989595748,
          0.0105590670282254,
          0.008318266991409473,
          0.007449181983247399,
          0.08997467903827783,
          0.09078267301083542,
          0.18610694499511737,
          0.18656852201092988,
          0.0064832079951884225,
          0.0031173519819276407,
          0.004891584976576269,
          0.005632263026200235,
          0.008923755027353764,
          0.0010855289874598384,
          0.004121618025237694,
          0.004448114035767503,
          0.00532375399779994,
          0.0010346000053687021,
          0.004161923017818481,
          0.006118830002378672,
          0.0010780440061353147,
          0.004238551016896963,
          0.0010902839712798595,
          0.0017858729988802224,
          0.0010916029423242435,
          0.0013445309887174517,
          0.0012598040339071304,
          0.0014525400038110092,
          0.0012741990067297593,
          0.001276143011637032,
          0.0012666730035562068,
          0.0013662140117958188,
          0.0014113880024524406,
          0.001315769026405178,
          0.0012440199789125472,
          0.0014948550087865442,
          0.0015961069730110466,
          0.0013961049990030006,
          0.0016222929989453405,
          0.0016293530643451959,
          0.0013255160010885447,
          0.0013279430131660774,
          0.0015989479870768264,
          0.0013264589942991734,
          0.001291331966058351,
          0.003820522004389204,
          0.0016394680133089423,
          0.001510961024905555,
          0.0013871870032744482,
          0.0015330310125136748,
          0.0015781470137881115,
          0.001338037007371895,
          0.002171548010664992,
          0.002250573001219891,
          0.00299298093887046,
          0.006242019953788258,
          0.001397862986777909,
          0.002045302011538297,
          0.006237890018383041,
          0.0016034360305638984,
          0.006035439029801637,
          0.006023779991664924,
          0.005082581017632037,
          0.0017418540373910218,
          0.002333003023522906,
          0.0038803780043963343,
          0.004516825967584737,
          0.004447775005246513,
          0.0059395429998403415,
          0.0045178100117482245,
          0.0018055900000035763,
          0.0015025210159365088,
          0.0015606399974785745,
          0.0054405440168920904,
          0.005835991978528909,
          0.0016556690097786486,
          0.0017221590387634933,
          0.001253540045581758,
          0.0013134109758539125,
          0.013047029002336785,
          0.002115595038048923,
          0.0014745620428584516,
          0.0025475170405115932,
          0.015962854973622598,
          0.001623427015147172,
          0.0018124999769497663,
          0.0016095219471026212,
          0.0012911499943584204,
          0.001407462012139149,
          0.008310092045576312,
          0.006244666001293808,
          0.0013406359939835966,
          0.0016143300454132259,
          0.0012165350053692237,
          0.0012692840537056327,
          0.0015000999992480502,
          0.00129521700728219,
          0.0068629590241471305,
          0.0037993209407432005,
          0.01772999197419267,
          0.01740004999737721,
          0.015780967005412094,
          0.014806645951466635,
          0.01507878303527832,
          0.015422850017785095,
          0.023013721976894885,
          0.021160920994589105,
          0.0018480799917597324,
          0.029471838002791628,
          0.005669264995958656,
          0.00811982699087821,
          0.01397082999756094,
          0.01176217696047388,
          0.0019292789947940037,
          0.0025280429690610617,
          0.011982164010987617,
          0.0023355380399152637,
          0.0021525210031541064,
          0.006525301039800979,
          0.007114403022569604
         ],
         "yaxis": "y4"
        },
        {
         "alignmentgroup": "True",
         "bingroup": "x",
         "histfunc": "avg",
         "hovertemplate": "Baseline=False<br>Sizes=S/M<br>Context=%{x}<br>avg of total_time=%{y}<extra></extra>",
         "legendgroup": "False",
         "marker": {
          "color": "#EF553B",
          "pattern": {
           "shape": ""
          }
         },
         "name": "False",
         "offsetgroup": "False",
         "orientation": "v",
         "showlegend": false,
         "type": "histogram",
         "x": [
          "Partial Overlap (TRUE)",
          "Partial Overlap (TRUE)",
          "Partial Overlap (TRUE)",
          "Partial Overlap (TRUE)",
          "Overlap (FALSE)",
          "Overlap (FALSE)",
          "Overlap (FALSE)",
          "Overlap (FALSE)",
          "Partial Overlap (TRUE)",
          "Overlap (FALSE)",
          "Overlap (FALSE)",
          "Overlap (FALSE)",
          "Overlap (FALSE)",
          "Overlap (FALSE)",
          "Overlap (FALSE)",
          "Overlap (FALSE)",
          "Overlap (FALSE)",
          "Partial Overlap (TRUE)",
          "Partial Overlap (TRUE)",
          "Partial Overlap (TRUE)",
          "Overlap (FALSE)",
          "Fully Inside Other (TRUE)",
          "Overlap (FALSE)",
          "Partial Overlap (TRUE)",
          "Overlap (FALSE)",
          "Overlap (FALSE)",
          "Overlap (FALSE)",
          "Overlap (FALSE)",
          "Overlap (FALSE)",
          "Partial Overlap (TRUE)",
          "Partial Overlap (TRUE)",
          "Overlap (FALSE)",
          "Partial Overlap (TRUE)"
         ],
         "xaxis": "x5",
         "y": [
          0.03355614696920384,
          0.03302321600494906,
          0.015245921982568689,
          0.02508729299006518,
          0.003011127933859825,
          0.005019973003072664,
          0.007625346974236891,
          0.005974229003186338,
          0.020937860012054443,
          0.0034893420088337734,
          0.004871648008702323,
          0.00471338297938928,
          0.005192637021536939,
          0.005822680002893321,
          0.005735592974815518,
          0.00493807895691134,
          0.005054193010437302,
          0.020180592968245037,
          0.0244201619643718,
          0.023863769019953907,
          0.009455956998863257,
          0.0163823320181109,
          0.0028828089707531035,
          0.0216959089593729,
          0.0024239169870270416,
          0.0024386569566559047,
          0.0026735959836514667,
          0.003958727000281215,
          0.004054900011396967,
          0.014771430011023767,
          0.014824469995801337,
          0.004462735974811949,
          0.012810463027562946
         ],
         "yaxis": "y5"
        },
        {
         "alignmentgroup": "True",
         "bingroup": "x",
         "histfunc": "avg",
         "hovertemplate": "Baseline=False<br>Sizes=L/L<br>Context=%{x}<br>avg of total_time=%{y}<extra></extra>",
         "legendgroup": "False",
         "marker": {
          "color": "#EF553B",
          "pattern": {
           "shape": ""
          }
         },
         "name": "False",
         "offsetgroup": "False",
         "orientation": "v",
         "showlegend": false,
         "type": "histogram",
         "x": [
          "Partial Overlap (TRUE)",
          "Partial Overlap (TRUE)",
          "Partial Overlap (TRUE)",
          "Partial Overlap (TRUE)",
          "Partial Overlap (TRUE)",
          "Partial Overlap (TRUE)",
          "Partial Overlap (TRUE)",
          "Overlap (FALSE)",
          "Overlap (FALSE)",
          "Overlap (FALSE)",
          "Partial Overlap (TRUE)",
          "Overlap (FALSE)",
          "Partial Overlap (TRUE)",
          "Partial Overlap (TRUE)",
          "Partial Overlap (TRUE)",
          "Overlap (FALSE)",
          "Partial Overlap (TRUE)",
          "Partial Overlap (TRUE)",
          "Partial Overlap (TRUE)",
          "Overlap (FALSE)",
          "Partial Overlap (TRUE)",
          "Partial Overlap (TRUE)",
          "Overlap (FALSE)",
          "Partial Overlap (TRUE)",
          "Overlap (FALSE)",
          "Overlap (FALSE)",
          "Partial Overlap (TRUE)",
          "Partial Overlap (TRUE)",
          "Partial Overlap (TRUE)",
          "Partial Overlap (TRUE)",
          "Overlap (FALSE)",
          "Overlap (FALSE)",
          "Partial Overlap (TRUE)",
          "Overlap (FALSE)",
          "Partial Overlap (TRUE)",
          "Partial Overlap (TRUE)",
          "Partial Overlap (TRUE)",
          "Overlap (FALSE)",
          "Partial Overlap (TRUE)",
          "Partial Overlap (TRUE)",
          "Overlap (FALSE)",
          "Overlap (FALSE)",
          "Partial Overlap (TRUE)",
          "Partial Overlap (TRUE)",
          "Partial Overlap (TRUE)",
          "Overlap (FALSE)",
          "Partial Overlap (TRUE)",
          "Partial Overlap (TRUE)",
          "Partial Overlap (TRUE)",
          "Overlap (FALSE)",
          "Partial Overlap (TRUE)",
          "Partial Overlap (TRUE)",
          "Partial Overlap (TRUE)",
          "Partial Overlap (TRUE)",
          "Overlap (FALSE)",
          "Partial Overlap (TRUE)",
          "Overlap (FALSE)",
          "Partial Overlap (TRUE)",
          "Partial Overlap (TRUE)",
          "Partial Overlap (TRUE)",
          "Partial Overlap (TRUE)",
          "Partial Overlap (TRUE)",
          "Partial Overlap (TRUE)",
          "Partial Overlap (TRUE)",
          "Overlap (FALSE)",
          "Overlap (FALSE)",
          "Overlap (FALSE)",
          "Partial Overlap (TRUE)",
          "Partial Overlap (TRUE)",
          "Partial Overlap (TRUE)",
          "Partial Overlap (TRUE)",
          "Partial Overlap (TRUE)",
          "Partial Overlap (TRUE)",
          "Overlap (FALSE)",
          "Partial Overlap (TRUE)",
          "Partial Overlap (TRUE)",
          "Partial Overlap (TRUE)",
          "Partial Overlap (TRUE)",
          "Partial Overlap (TRUE)",
          "Partial Overlap (TRUE)",
          "Partial Overlap (TRUE)",
          "Partial Overlap (TRUE)",
          "Partial Overlap (TRUE)",
          "Partial Overlap (TRUE)",
          "Partial Overlap (TRUE)",
          "Overlap (FALSE)",
          "Overlap (FALSE)",
          "Partial Overlap (TRUE)",
          "Partial Overlap (TRUE)",
          "Partial Overlap (TRUE)",
          "Partial Overlap (TRUE)",
          "Partial Overlap (TRUE)",
          "Partial Overlap (TRUE)",
          "Partial Overlap (TRUE)",
          "Partial Overlap (TRUE)",
          "Overlap (FALSE)",
          "Overlap (FALSE)",
          "Overlap (FALSE)",
          "Overlap (FALSE)",
          "Overlap (FALSE)",
          "Overlap (FALSE)",
          "Overlap (FALSE)",
          "Overlap (FALSE)",
          "Overlap (FALSE)",
          "Overlap (FALSE)",
          "Overlap (FALSE)",
          "Overlap (FALSE)",
          "Overlap (FALSE)",
          "Overlap (FALSE)",
          "Overlap (FALSE)",
          "Overlap (FALSE)",
          "Overlap (FALSE)",
          "Overlap (FALSE)",
          "Overlap (FALSE)",
          "Overlap (FALSE)",
          "Overlap (FALSE)",
          "Overlap (FALSE)",
          "Overlap (FALSE)",
          "Overlap (FALSE)",
          "Overlap (FALSE)",
          "Overlap (FALSE)",
          "Overlap (FALSE)",
          "Overlap (FALSE)",
          "Overlap (FALSE)",
          "Overlap (FALSE)",
          "Overlap (FALSE)",
          "Overlap (FALSE)",
          "Overlap (FALSE)",
          "Overlap (FALSE)",
          "Overlap (FALSE)",
          "Overlap (FALSE)",
          "Overlap (FALSE)",
          "Overlap (FALSE)",
          "Overlap (FALSE)",
          "Overlap (FALSE)",
          "Overlap (FALSE)",
          "Overlap (FALSE)",
          "Overlap (FALSE)",
          "Overlap (FALSE)",
          "Overlap (FALSE)",
          "Overlap (FALSE)",
          "Overlap (FALSE)",
          "Overlap (FALSE)",
          "Overlap (FALSE)",
          "Overlap (FALSE)",
          "Overlap (FALSE)",
          "Overlap (FALSE)",
          "Overlap (FALSE)",
          "Overlap (FALSE)",
          "Overlap (FALSE)",
          "Overlap (FALSE)",
          "Overlap (FALSE)",
          "Overlap (FALSE)",
          "Overlap (FALSE)",
          "Overlap (FALSE)",
          "Overlap (FALSE)",
          "Overlap (FALSE)",
          "Overlap (FALSE)",
          "Overlap (FALSE)",
          "Overlap (FALSE)",
          "Overlap (FALSE)",
          "Overlap (FALSE)",
          "Overlap (FALSE)",
          "Overlap (FALSE)",
          "Overlap (FALSE)",
          "Overlap (FALSE)",
          "Overlap (FALSE)",
          "Overlap (FALSE)",
          "Overlap (FALSE)",
          "Overlap (FALSE)",
          "Overlap (FALSE)",
          "Overlap (FALSE)",
          "Overlap (FALSE)",
          "Overlap (FALSE)",
          "Overlap (FALSE)",
          "Overlap (FALSE)",
          "Overlap (FALSE)",
          "Overlap (FALSE)",
          "Overlap (FALSE)",
          "Overlap (FALSE)",
          "Overlap (FALSE)",
          "Overlap (FALSE)",
          "Overlap (FALSE)",
          "Overlap (FALSE)",
          "Overlap (FALSE)",
          "Partial Overlap (TRUE)",
          "Overlap (FALSE)",
          "Partial Overlap (TRUE)",
          "Partial Overlap (TRUE)",
          "Overlap (FALSE)",
          "Overlap (FALSE)",
          "Overlap (FALSE)"
         ],
         "xaxis": "x6",
         "y": [
          0.5984399079607101,
          0.6023279249930056,
          0.24112755198439118,
          0.06707298298715614,
          0.3832306140247965,
          0.2450086040335009,
          0.43983030499657616,
          0.018790467016515322,
          0.0390040629717987,
          0.049510836994159035,
          0.8839078419841826,
          0.06722854700637981,
          0.7124789329827763,
          0.6591898209589999,
          0.2776662190153729,
          0.021220782029558904,
          0.9550462849729229,
          1.315356689010514,
          0.5903892610076582,
          0.059340623003663495,
          1.3809611910401145,
          0.6158917120483238,
          0.11412338296941016,
          0.4092897999798879,
          0.0798095269856276,
          0.06514798599528149,
          0.20073137601139024,
          0.22754804397118278,
          0.1951184210338397,
          0.20820909399481025,
          0.013452534985844977,
          0.029016974003752694,
          0.40490564398351125,
          0.04035506502259523,
          0.10474239100585692,
          0.2324536840314977,
          0.275685524000437,
          0.057894628029316664,
          1.033272055996349,
          1.1733408020227216,
          0.04009472001052927,
          0.04079324803024065,
          0.5688226759957615,
          0.17863667599158362,
          0.5513903620303608,
          0.0315735579788452,
          0.10056568900472485,
          0.4051336280244868,
          0.2709097429760732,
          0.030130843981169164,
          0.4619837550126249,
          0.12372111997683533,
          0.4896835919644218,
          0.2765555200021481,
          0.040423430036753416,
          1.6358769710059278,
          0.04539192702213768,
          0.46023737199720927,
          0.6701581389643252,
          0.1016358719789423,
          0.08330323801783379,
          0.37627823295770213,
          0.2873757279885467,
          0.42309942905558273,
          0.024073933018371463,
          0.026483504960197024,
          0.026522429019678384,
          3.1644062089908402,
          0.7956387180020101,
          0.2023578770313179,
          0.10437260101025458,
          0.08695132897992153,
          0.6434913229895756,
          0.04351459401368629,
          0.4611318859824678,
          0.16399678502057213,
          0.07386423500429373,
          0.366131933988072,
          0.25638995303597767,
          0.17350558101315983,
          0.5112815409956966,
          0.1351268229627749,
          0.4914484450418968,
          0.7588520849822089,
          0.3192838150280295,
          0.04884936401504092,
          0.04226886601827573,
          0.8152941890002694,
          0.2337221049820073,
          3.387937855979544,
          1.3089983249956276,
          1.5405388700019103,
          1.574346417997731,
          0.9734337700065225,
          0.5951342010084772,
          0.013070531989797018,
          0.11001510695496108,
          0.025224641023669392,
          0.14177282396121882,
          0.11534025701985229,
          0.015053123992402107,
          0.027589264034759253,
          0.051298334961757064,
          0.38023047796741594,
          0.04227213200647384,
          0.04335963500489015,
          0.041867214007652365,
          0.042380216968012974,
          0.07113547400513198,
          0.27305029904528055,
          0.1605285640398506,
          0.09296881200862117,
          0.0925583519419888,
          0.1607078700180864,
          2.301506374948076,
          1.1352153929474298,
          1.8547328660351923,
          0.228058845968917,
          0.06814750999910757,
          0.0936239620205015,
          0.01381721903453581,
          0.0162809739849763,
          0.028456018000724725,
          0.03168306199950166,
          0.02794735599309206,
          0.016357884989702143,
          0.07382002398662735,
          0.07681893100379966,
          0.09099497400166001,
          0.07392746102414094,
          0.04046511300839484,
          0.07871898100711405,
          0.04365919603151269,
          0.05150614300509915,
          0.1217936600005487,
          0.15012298902729526,
          2.0539263220271096,
          0.010937131039099768,
          0.03957263508345932,
          0.15266323594551068,
          0.06084638898028061,
          0.06044119402940851,
          0.0348859910009196,
          0.03495166799984872,
          0.035279344010632485,
          0.035319496048032306,
          0.2853991739830235,
          0.08776421096990816,
          0.0813285949989222,
          0.1042544339725282,
          0.06553085400082637,
          0.04347190001863055,
          0.08261809499526862,
          0.11294907999399584,
          0.06769911198352929,
          0.04467573401052505,
          0.07465600805880968,
          0.19784115302900318,
          0.0572636189754121,
          0.055422488032490946,
          0.1701659909740556,
          0.08543091503088363,
          0.06523982899670955,
          0.0659846440248657,
          0.16673440003069118,
          0.33282090605644044,
          0.04137063604139257,
          0.027072137003415264,
          0.10073102005117107,
          0.09974858500936534,
          0.07605881897325162,
          0.09272696400876157,
          0.07472425396554172,
          0.091832501013414,
          0.07668091802042909,
          0.06355009402614087,
          0.10576040603336878,
          0.0889745719905477,
          6.761555281016626,
          0.10238410199235659,
          0.07656215198221616,
          0.07820998301031068,
          0.045655904032173567,
          0.10004204303550068,
          0.026537836019997485,
          0.04100289395137224,
          0.016495394986122847,
          0.06796610598394182,
          0.03834817801543977,
          0.012664790017879568,
          0.027695012991898693,
          0.08356999501120299
         ],
         "yaxis": "y6"
        },
        {
         "alignmentgroup": "True",
         "bingroup": "x",
         "histfunc": "avg",
         "hovertemplate": "Baseline=False<br>Sizes=S/L<br>Context=%{x}<br>avg of total_time=%{y}<extra></extra>",
         "legendgroup": "False",
         "marker": {
          "color": "#EF553B",
          "pattern": {
           "shape": ""
          }
         },
         "name": "False",
         "offsetgroup": "False",
         "orientation": "v",
         "showlegend": false,
         "type": "histogram",
         "x": [
          "Fully Inside Other (TRUE)",
          "Fully Inside Other (TRUE)",
          "Partial Overlap (TRUE)",
          "Partial Overlap (TRUE)",
          "Partial Overlap (TRUE)",
          "Partial Overlap (TRUE)",
          "Overlap (FALSE)",
          "Partial Overlap (TRUE)",
          "Overlap (FALSE)",
          "Overlap (FALSE)",
          "Overlap (FALSE)",
          "Overlap (FALSE)",
          "Overlap (FALSE)",
          "Overlap (FALSE)",
          "Overlap (FALSE)",
          "Partial Overlap (TRUE)",
          "Overlap (FALSE)",
          "Overlap (FALSE)",
          "Overlap (FALSE)",
          "Partial Overlap (TRUE)",
          "Overlap (FALSE)",
          "Overlap (FALSE)",
          "Partial Overlap (TRUE)",
          "Partial Overlap (TRUE)",
          "Overlap (FALSE)",
          "Partial Overlap (TRUE)",
          "Overlap (FALSE)",
          "Partial Overlap (TRUE)",
          "Overlap (FALSE)",
          "Overlap (FALSE)",
          "Overlap (FALSE)",
          "Overlap (FALSE)",
          "Partial Overlap (TRUE)",
          "Partial Overlap (TRUE)",
          "Overlap (FALSE)",
          "Overlap (FALSE)",
          "Overlap (FALSE)",
          "Overlap (FALSE)",
          "Overlap (FALSE)",
          "Overlap (FALSE)",
          "Overlap (FALSE)",
          "Overlap (FALSE)",
          "Overlap (FALSE)",
          "Overlap (FALSE)",
          "Overlap (FALSE)",
          "Overlap (FALSE)",
          "Overlap (FALSE)",
          "Overlap (FALSE)",
          "Overlap (FALSE)",
          "Overlap (FALSE)",
          "Overlap (FALSE)",
          "Overlap (FALSE)",
          "Overlap (FALSE)",
          "Overlap (FALSE)",
          "Overlap (FALSE)",
          "Overlap (FALSE)",
          "Overlap (FALSE)",
          "Overlap (FALSE)",
          "Overlap (FALSE)",
          "Overlap (FALSE)",
          "Overlap (FALSE)",
          "Overlap (FALSE)",
          "Partial Overlap (TRUE)",
          "Partial Overlap (TRUE)",
          "Partial Overlap (TRUE)",
          "Partial Overlap (TRUE)",
          "Overlap (FALSE)",
          "Overlap (FALSE)",
          "Overlap (FALSE)",
          "Overlap (FALSE)",
          "Overlap (FALSE)",
          "Partial Overlap (TRUE)",
          "Overlap (FALSE)",
          "Overlap (FALSE)",
          "Overlap (FALSE)",
          "Overlap (FALSE)",
          "Overlap (FALSE)",
          "Overlap (FALSE)",
          "Overlap (FALSE)",
          "Overlap (FALSE)",
          "Overlap (FALSE)",
          "Overlap (FALSE)",
          "Overlap (FALSE)",
          "Overlap (FALSE)",
          "Overlap (FALSE)",
          "Overlap (FALSE)",
          "Overlap (FALSE)",
          "Overlap (FALSE)",
          "Overlap (FALSE)",
          "Overlap (FALSE)",
          "Overlap (FALSE)",
          "Overlap (FALSE)",
          "Overlap (FALSE)",
          "Overlap (FALSE)",
          "Overlap (FALSE)",
          "Overlap (FALSE)",
          "Overlap (FALSE)",
          "Overlap (FALSE)",
          "Overlap (FALSE)",
          "Overlap (FALSE)",
          "Overlap (FALSE)",
          "Overlap (FALSE)",
          "Overlap (FALSE)",
          "Overlap (FALSE)",
          "Overlap (FALSE)",
          "Partial Overlap (TRUE)",
          "Overlap (FALSE)",
          "Overlap (FALSE)",
          "Overlap (FALSE)",
          "Overlap (FALSE)",
          "Overlap (FALSE)",
          "Overlap (FALSE)",
          "Overlap (FALSE)",
          "Overlap (FALSE)",
          "Overlap (FALSE)",
          "Overlap (FALSE)",
          "Overlap (FALSE)",
          "Overlap (FALSE)",
          "Overlap (FALSE)",
          "Overlap (FALSE)",
          "Overlap (FALSE)",
          "Overlap (FALSE)",
          "Overlap (FALSE)",
          "Overlap (FALSE)",
          "Overlap (FALSE)",
          "Overlap (FALSE)",
          "Overlap (FALSE)",
          "Overlap (FALSE)",
          "Overlap (FALSE)",
          "Overlap (FALSE)",
          "Overlap (FALSE)",
          "Overlap (FALSE)",
          "Overlap (FALSE)",
          "Overlap (FALSE)"
         ],
         "xaxis": "x",
         "y": [
          0.011676229987642728,
          0.011933244008105248,
          0.12468166797771119,
          0.09288070003094617,
          0.051438733949908055,
          0.06463027102290653,
          0.010661222957423888,
          0.02711193705908954,
          0.004463209013920277,
          0.13643441098975018,
          0.013405237041297369,
          0.06369891004578676,
          0.015046012980747037,
          0.011085171994636767,
          0.01114993503142614,
          0.0347979119833326,
          0.010314094004570507,
          0.00802210601978004,
          0.00803462800104171,
          0.03549899895733688,
          0.006707559936330654,
          0.005130733014084399,
          0.033443050997448154,
          0.04282400695956312,
          0.015923091006698087,
          0.04230098098923918,
          0.010650505995727144,
          0.03029256396985147,
          0.009288684988860041,
          0.01237026698072441,
          0.030385007004952058,
          0.04605605093820486,
          0.02778087901242543,
          0.0232262509962311,
          0.014813520974712446,
          0.015588641035719775,
          0.02776761598943267,
          0.01590986701194197,
          0.016371848018025048,
          0.014845093013718724,
          0.01585871602583211,
          0.014957630031858571,
          0.014574536980944686,
          0.014574544009519741,
          0.014283453972893767,
          0.015545256042969413,
          0.015040243990370072,
          0.01669101596053224,
          0.02631400598329492,
          0.02593406697269529,
          0.02649748805561103,
          0.027379966006265022,
          0.026934052046271972,
          0.015034714990179054,
          0.01638424200064037,
          0.027208253028220497,
          0.014690602984046564,
          0.010476014009327628,
          0.019269953030743636,
          0.009547841968014836,
          0.011966312042204663,
          0.010592074962914921,
          0.11024514801101759,
          0.22506787296151742,
          0.14765896399330813,
          0.03801250000833534,
          0.027785243961261585,
          0.027930749027291313,
          0.10739572200691327,
          0.029457789001753554,
          0.02841157499642577,
          0.05307242595881689,
          0.035517122014425695,
          0.03379430901259184,
          0.03460688699851744,
          0.023889036980108358,
          0.023471185020753182,
          0.024364465003600344,
          0.012350524950306863,
          0.011528468981850892,
          0.01647512002091389,
          0.01668503299879376,
          0.016396348990383558,
          0.016666921990690753,
          0.01655687599850353,
          0.016454318043543026,
          0.016606252975179814,
          0.016149597955518402,
          0.016654999999445863,
          0.01646306495240424,
          0.01673488598316908,
          0.016686792005202733,
          0.016539033022127114,
          0.016435531942988746,
          0.01666950598882977,
          0.017398272932041436,
          0.01736487602465786,
          0.017650166002567858,
          0.018899205984780565,
          0.016288970000459813,
          0.016294010943965986,
          0.01648436601681169,
          0.018193968004197814,
          0.01694286600104533,
          0.016916254011448473,
          0.02656813398061786,
          0.016518641976290382,
          0.017076506017474458,
          0.016752701994846575,
          0.016840954005601816,
          0.01650954298384022,
          0.016093341007945128,
          0.016401428991230205,
          0.01640691701322794,
          0.016439867977169342,
          0.016344069023034535,
          0.016816030954942107,
          0.017856289967312478,
          0.01653108601749409,
          0.017459319933550432,
          0.01615479902829975,
          0.016853420980623923,
          0.016574219946051016,
          0.01738508095149882,
          0.016774974996224046,
          0.017464859993197024,
          0.017507865006336942,
          0.01721003800048493,
          0.01778318996366579,
          0.01726815296569839,
          0.016831885994179174,
          0.015320267004426569,
          0.007228099988424219,
          0.007888970052590594
         ],
         "yaxis": "y"
        },
        {
         "alignmentgroup": "True",
         "bingroup": "x",
         "histfunc": "avg",
         "hovertemplate": "Baseline=False<br>Sizes=M/L<br>Context=%{x}<br>avg of total_time=%{y}<extra></extra>",
         "legendgroup": "False",
         "marker": {
          "color": "#EF553B",
          "pattern": {
           "shape": ""
          }
         },
         "name": "False",
         "offsetgroup": "False",
         "orientation": "v",
         "showlegend": false,
         "type": "histogram",
         "x": [
          "Overlap (FALSE)",
          "Overlap (FALSE)",
          "Overlap (FALSE)",
          "Overlap (FALSE)",
          "Overlap (FALSE)",
          "Overlap (FALSE)",
          "Overlap (FALSE)",
          "Overlap (FALSE)",
          "Partial Overlap (TRUE)",
          "Partial Overlap (TRUE)",
          "Overlap (FALSE)",
          "Partial Overlap (TRUE)",
          "Overlap (FALSE)",
          "Overlap (FALSE)",
          "Overlap (FALSE)",
          "Partial Overlap (TRUE)",
          "Overlap (FALSE)",
          "Overlap (FALSE)",
          "Overlap (FALSE)",
          "Overlap (FALSE)",
          "Partial Overlap (TRUE)",
          "Overlap (FALSE)",
          "Partial Overlap (TRUE)",
          "Overlap (FALSE)",
          "Overlap (FALSE)",
          "Overlap (FALSE)",
          "Overlap (FALSE)",
          "Overlap (FALSE)",
          "Overlap (FALSE)",
          "Overlap (FALSE)"
         ],
         "xaxis": "x2",
         "y": [
          0.05230299498362001,
          0.05207415700715501,
          0.05397975101368502,
          0.035257137977168895,
          0.01287416800914798,
          0.0896344219945604,
          0.08046062802895904,
          0.04630179502419196,
          0.02642999003001023,
          0.026356866001151502,
          0.010392714975751005,
          0.03677010799583513,
          0.017128818959463388,
          0.028412584942998365,
          0.029586859993287362,
          0.03441617997305002,
          0.017205028008902445,
          0.009480488006374799,
          0.006434168986743316,
          0.016695241967681795,
          0.03146002006542403,
          0.01225385899306275,
          0.052923432958777994,
          0.015560113984975033,
          0.022425171031500213,
          0.01936580700566992,
          0.02089466001780238,
          0.01955474696296733,
          0.021368588000768796,
          0.019402416015509516
         ],
         "yaxis": "y2"
        },
        {
         "alignmentgroup": "True",
         "bingroup": "x",
         "histfunc": "avg",
         "hovertemplate": "Baseline=False<br>Sizes=M/M<br>Context=%{x}<br>avg of total_time=%{y}<extra></extra>",
         "legendgroup": "False",
         "marker": {
          "color": "#EF553B",
          "pattern": {
           "shape": ""
          }
         },
         "name": "False",
         "offsetgroup": "False",
         "orientation": "v",
         "showlegend": false,
         "type": "histogram",
         "x": [
          "Overlap (FALSE)",
          "Overlap (FALSE)",
          "Overlap (FALSE)",
          "Partial Overlap (TRUE)",
          "Partial Overlap (TRUE)"
         ],
         "xaxis": "x3",
         "y": [
          0.08021301895496435,
          0.004968028995790519,
          0.005141428991919383,
          0.025758964955457486,
          0.019877536964486353
         ],
         "yaxis": "y3"
        }
       ],
       "layout": {
        "annotations": [
         {
          "showarrow": false,
          "text": "Sizes=S/L",
          "x": 0.13333333333333333,
          "xanchor": "center",
          "xref": "paper",
          "y": 0.45,
          "yanchor": "bottom",
          "yref": "paper"
         },
         {
          "showarrow": false,
          "text": "Sizes=M/L",
          "x": 0.5,
          "xanchor": "center",
          "xref": "paper",
          "y": 0.45,
          "yanchor": "bottom",
          "yref": "paper"
         },
         {
          "showarrow": false,
          "text": "Sizes=M/M",
          "x": 0.8666666666666667,
          "xanchor": "center",
          "xref": "paper",
          "y": 0.45,
          "yanchor": "bottom",
          "yref": "paper"
         },
         {
          "showarrow": false,
          "text": "Sizes=S/S",
          "x": 0.13333333333333333,
          "xanchor": "center",
          "xref": "paper",
          "y": 1,
          "yanchor": "bottom",
          "yref": "paper"
         },
         {
          "showarrow": false,
          "text": "Sizes=S/M",
          "x": 0.5,
          "xanchor": "center",
          "xref": "paper",
          "y": 1,
          "yanchor": "bottom",
          "yref": "paper"
         },
         {
          "showarrow": false,
          "text": "Sizes=L/L",
          "x": 0.8666666666666667,
          "xanchor": "center",
          "xref": "paper",
          "y": 1,
          "yanchor": "bottom",
          "yref": "paper"
         },
         {
          "font": {
           "size": 14
          },
          "showarrow": false,
          "text": "Bouning Box Context",
          "x": 0.5,
          "xanchor": "center",
          "xref": "paper",
          "y": -0.2,
          "yanchor": "top",
          "yref": "paper"
         },
         {
          "font": {
           "size": 14
          },
          "showarrow": false,
          "text": "Mean Execution Time (s)",
          "textangle": -90,
          "x": -0.04,
          "xanchor": "center",
          "xref": "paper",
          "y": 0.5,
          "yanchor": "middle",
          "yref": "paper"
         }
        ],
        "barmode": "group",
        "height": 700,
        "legend": {
         "title": {
          "text": "Baseline"
         },
         "tracegroupgap": 0
        },
        "template": {
         "data": {
          "bar": [
           {
            "error_x": {
             "color": "#2a3f5f"
            },
            "error_y": {
             "color": "#2a3f5f"
            },
            "marker": {
             "line": {
              "color": "#E5ECF6",
              "width": 0.5
             },
             "pattern": {
              "fillmode": "overlay",
              "size": 10,
              "solidity": 0.2
             }
            },
            "type": "bar"
           }
          ],
          "barpolar": [
           {
            "marker": {
             "line": {
              "color": "#E5ECF6",
              "width": 0.5
             },
             "pattern": {
              "fillmode": "overlay",
              "size": 10,
              "solidity": 0.2
             }
            },
            "type": "barpolar"
           }
          ],
          "carpet": [
           {
            "aaxis": {
             "endlinecolor": "#2a3f5f",
             "gridcolor": "white",
             "linecolor": "white",
             "minorgridcolor": "white",
             "startlinecolor": "#2a3f5f"
            },
            "baxis": {
             "endlinecolor": "#2a3f5f",
             "gridcolor": "white",
             "linecolor": "white",
             "minorgridcolor": "white",
             "startlinecolor": "#2a3f5f"
            },
            "type": "carpet"
           }
          ],
          "choropleth": [
           {
            "colorbar": {
             "outlinewidth": 0,
             "ticks": ""
            },
            "type": "choropleth"
           }
          ],
          "contour": [
           {
            "colorbar": {
             "outlinewidth": 0,
             "ticks": ""
            },
            "colorscale": [
             [
              0,
              "#0d0887"
             ],
             [
              0.1111111111111111,
              "#46039f"
             ],
             [
              0.2222222222222222,
              "#7201a8"
             ],
             [
              0.3333333333333333,
              "#9c179e"
             ],
             [
              0.4444444444444444,
              "#bd3786"
             ],
             [
              0.5555555555555556,
              "#d8576b"
             ],
             [
              0.6666666666666666,
              "#ed7953"
             ],
             [
              0.7777777777777778,
              "#fb9f3a"
             ],
             [
              0.8888888888888888,
              "#fdca26"
             ],
             [
              1,
              "#f0f921"
             ]
            ],
            "type": "contour"
           }
          ],
          "contourcarpet": [
           {
            "colorbar": {
             "outlinewidth": 0,
             "ticks": ""
            },
            "type": "contourcarpet"
           }
          ],
          "heatmap": [
           {
            "colorbar": {
             "outlinewidth": 0,
             "ticks": ""
            },
            "colorscale": [
             [
              0,
              "#0d0887"
             ],
             [
              0.1111111111111111,
              "#46039f"
             ],
             [
              0.2222222222222222,
              "#7201a8"
             ],
             [
              0.3333333333333333,
              "#9c179e"
             ],
             [
              0.4444444444444444,
              "#bd3786"
             ],
             [
              0.5555555555555556,
              "#d8576b"
             ],
             [
              0.6666666666666666,
              "#ed7953"
             ],
             [
              0.7777777777777778,
              "#fb9f3a"
             ],
             [
              0.8888888888888888,
              "#fdca26"
             ],
             [
              1,
              "#f0f921"
             ]
            ],
            "type": "heatmap"
           }
          ],
          "heatmapgl": [
           {
            "colorbar": {
             "outlinewidth": 0,
             "ticks": ""
            },
            "colorscale": [
             [
              0,
              "#0d0887"
             ],
             [
              0.1111111111111111,
              "#46039f"
             ],
             [
              0.2222222222222222,
              "#7201a8"
             ],
             [
              0.3333333333333333,
              "#9c179e"
             ],
             [
              0.4444444444444444,
              "#bd3786"
             ],
             [
              0.5555555555555556,
              "#d8576b"
             ],
             [
              0.6666666666666666,
              "#ed7953"
             ],
             [
              0.7777777777777778,
              "#fb9f3a"
             ],
             [
              0.8888888888888888,
              "#fdca26"
             ],
             [
              1,
              "#f0f921"
             ]
            ],
            "type": "heatmapgl"
           }
          ],
          "histogram": [
           {
            "marker": {
             "pattern": {
              "fillmode": "overlay",
              "size": 10,
              "solidity": 0.2
             }
            },
            "type": "histogram"
           }
          ],
          "histogram2d": [
           {
            "colorbar": {
             "outlinewidth": 0,
             "ticks": ""
            },
            "colorscale": [
             [
              0,
              "#0d0887"
             ],
             [
              0.1111111111111111,
              "#46039f"
             ],
             [
              0.2222222222222222,
              "#7201a8"
             ],
             [
              0.3333333333333333,
              "#9c179e"
             ],
             [
              0.4444444444444444,
              "#bd3786"
             ],
             [
              0.5555555555555556,
              "#d8576b"
             ],
             [
              0.6666666666666666,
              "#ed7953"
             ],
             [
              0.7777777777777778,
              "#fb9f3a"
             ],
             [
              0.8888888888888888,
              "#fdca26"
             ],
             [
              1,
              "#f0f921"
             ]
            ],
            "type": "histogram2d"
           }
          ],
          "histogram2dcontour": [
           {
            "colorbar": {
             "outlinewidth": 0,
             "ticks": ""
            },
            "colorscale": [
             [
              0,
              "#0d0887"
             ],
             [
              0.1111111111111111,
              "#46039f"
             ],
             [
              0.2222222222222222,
              "#7201a8"
             ],
             [
              0.3333333333333333,
              "#9c179e"
             ],
             [
              0.4444444444444444,
              "#bd3786"
             ],
             [
              0.5555555555555556,
              "#d8576b"
             ],
             [
              0.6666666666666666,
              "#ed7953"
             ],
             [
              0.7777777777777778,
              "#fb9f3a"
             ],
             [
              0.8888888888888888,
              "#fdca26"
             ],
             [
              1,
              "#f0f921"
             ]
            ],
            "type": "histogram2dcontour"
           }
          ],
          "mesh3d": [
           {
            "colorbar": {
             "outlinewidth": 0,
             "ticks": ""
            },
            "type": "mesh3d"
           }
          ],
          "parcoords": [
           {
            "line": {
             "colorbar": {
              "outlinewidth": 0,
              "ticks": ""
             }
            },
            "type": "parcoords"
           }
          ],
          "pie": [
           {
            "automargin": true,
            "type": "pie"
           }
          ],
          "scatter": [
           {
            "fillpattern": {
             "fillmode": "overlay",
             "size": 10,
             "solidity": 0.2
            },
            "type": "scatter"
           }
          ],
          "scatter3d": [
           {
            "line": {
             "colorbar": {
              "outlinewidth": 0,
              "ticks": ""
             }
            },
            "marker": {
             "colorbar": {
              "outlinewidth": 0,
              "ticks": ""
             }
            },
            "type": "scatter3d"
           }
          ],
          "scattercarpet": [
           {
            "marker": {
             "colorbar": {
              "outlinewidth": 0,
              "ticks": ""
             }
            },
            "type": "scattercarpet"
           }
          ],
          "scattergeo": [
           {
            "marker": {
             "colorbar": {
              "outlinewidth": 0,
              "ticks": ""
             }
            },
            "type": "scattergeo"
           }
          ],
          "scattergl": [
           {
            "marker": {
             "colorbar": {
              "outlinewidth": 0,
              "ticks": ""
             }
            },
            "type": "scattergl"
           }
          ],
          "scattermapbox": [
           {
            "marker": {
             "colorbar": {
              "outlinewidth": 0,
              "ticks": ""
             }
            },
            "type": "scattermapbox"
           }
          ],
          "scatterpolar": [
           {
            "marker": {
             "colorbar": {
              "outlinewidth": 0,
              "ticks": ""
             }
            },
            "type": "scatterpolar"
           }
          ],
          "scatterpolargl": [
           {
            "marker": {
             "colorbar": {
              "outlinewidth": 0,
              "ticks": ""
             }
            },
            "type": "scatterpolargl"
           }
          ],
          "scatterternary": [
           {
            "marker": {
             "colorbar": {
              "outlinewidth": 0,
              "ticks": ""
             }
            },
            "type": "scatterternary"
           }
          ],
          "surface": [
           {
            "colorbar": {
             "outlinewidth": 0,
             "ticks": ""
            },
            "colorscale": [
             [
              0,
              "#0d0887"
             ],
             [
              0.1111111111111111,
              "#46039f"
             ],
             [
              0.2222222222222222,
              "#7201a8"
             ],
             [
              0.3333333333333333,
              "#9c179e"
             ],
             [
              0.4444444444444444,
              "#bd3786"
             ],
             [
              0.5555555555555556,
              "#d8576b"
             ],
             [
              0.6666666666666666,
              "#ed7953"
             ],
             [
              0.7777777777777778,
              "#fb9f3a"
             ],
             [
              0.8888888888888888,
              "#fdca26"
             ],
             [
              1,
              "#f0f921"
             ]
            ],
            "type": "surface"
           }
          ],
          "table": [
           {
            "cells": {
             "fill": {
              "color": "#EBF0F8"
             },
             "line": {
              "color": "white"
             }
            },
            "header": {
             "fill": {
              "color": "#C8D4E3"
             },
             "line": {
              "color": "white"
             }
            },
            "type": "table"
           }
          ]
         },
         "layout": {
          "annotationdefaults": {
           "arrowcolor": "#2a3f5f",
           "arrowhead": 0,
           "arrowwidth": 1
          },
          "autotypenumbers": "strict",
          "coloraxis": {
           "colorbar": {
            "outlinewidth": 0,
            "ticks": ""
           }
          },
          "colorscale": {
           "diverging": [
            [
             0,
             "#8e0152"
            ],
            [
             0.1,
             "#c51b7d"
            ],
            [
             0.2,
             "#de77ae"
            ],
            [
             0.3,
             "#f1b6da"
            ],
            [
             0.4,
             "#fde0ef"
            ],
            [
             0.5,
             "#f7f7f7"
            ],
            [
             0.6,
             "#e6f5d0"
            ],
            [
             0.7,
             "#b8e186"
            ],
            [
             0.8,
             "#7fbc41"
            ],
            [
             0.9,
             "#4d9221"
            ],
            [
             1,
             "#276419"
            ]
           ],
           "sequential": [
            [
             0,
             "#0d0887"
            ],
            [
             0.1111111111111111,
             "#46039f"
            ],
            [
             0.2222222222222222,
             "#7201a8"
            ],
            [
             0.3333333333333333,
             "#9c179e"
            ],
            [
             0.4444444444444444,
             "#bd3786"
            ],
            [
             0.5555555555555556,
             "#d8576b"
            ],
            [
             0.6666666666666666,
             "#ed7953"
            ],
            [
             0.7777777777777778,
             "#fb9f3a"
            ],
            [
             0.8888888888888888,
             "#fdca26"
            ],
            [
             1,
             "#f0f921"
            ]
           ],
           "sequentialminus": [
            [
             0,
             "#0d0887"
            ],
            [
             0.1111111111111111,
             "#46039f"
            ],
            [
             0.2222222222222222,
             "#7201a8"
            ],
            [
             0.3333333333333333,
             "#9c179e"
            ],
            [
             0.4444444444444444,
             "#bd3786"
            ],
            [
             0.5555555555555556,
             "#d8576b"
            ],
            [
             0.6666666666666666,
             "#ed7953"
            ],
            [
             0.7777777777777778,
             "#fb9f3a"
            ],
            [
             0.8888888888888888,
             "#fdca26"
            ],
            [
             1,
             "#f0f921"
            ]
           ]
          },
          "colorway": [
           "#636efa",
           "#EF553B",
           "#00cc96",
           "#ab63fa",
           "#FFA15A",
           "#19d3f3",
           "#FF6692",
           "#B6E880",
           "#FF97FF",
           "#FECB52"
          ],
          "font": {
           "color": "#2a3f5f"
          },
          "geo": {
           "bgcolor": "white",
           "lakecolor": "white",
           "landcolor": "#E5ECF6",
           "showlakes": true,
           "showland": true,
           "subunitcolor": "white"
          },
          "hoverlabel": {
           "align": "left"
          },
          "hovermode": "closest",
          "mapbox": {
           "style": "light"
          },
          "paper_bgcolor": "white",
          "plot_bgcolor": "#E5ECF6",
          "polar": {
           "angularaxis": {
            "gridcolor": "white",
            "linecolor": "white",
            "ticks": ""
           },
           "bgcolor": "#E5ECF6",
           "radialaxis": {
            "gridcolor": "white",
            "linecolor": "white",
            "ticks": ""
           }
          },
          "scene": {
           "xaxis": {
            "backgroundcolor": "#E5ECF6",
            "gridcolor": "white",
            "gridwidth": 2,
            "linecolor": "white",
            "showbackground": true,
            "ticks": "",
            "zerolinecolor": "white"
           },
           "yaxis": {
            "backgroundcolor": "#E5ECF6",
            "gridcolor": "white",
            "gridwidth": 2,
            "linecolor": "white",
            "showbackground": true,
            "ticks": "",
            "zerolinecolor": "white"
           },
           "zaxis": {
            "backgroundcolor": "#E5ECF6",
            "gridcolor": "white",
            "gridwidth": 2,
            "linecolor": "white",
            "showbackground": true,
            "ticks": "",
            "zerolinecolor": "white"
           }
          },
          "shapedefaults": {
           "line": {
            "color": "#2a3f5f"
           }
          },
          "ternary": {
           "aaxis": {
            "gridcolor": "white",
            "linecolor": "white",
            "ticks": ""
           },
           "baxis": {
            "gridcolor": "white",
            "linecolor": "white",
            "ticks": ""
           },
           "bgcolor": "#E5ECF6",
           "caxis": {
            "gridcolor": "white",
            "linecolor": "white",
            "ticks": ""
           }
          },
          "title": {
           "x": 0.05
          },
          "xaxis": {
           "automargin": true,
           "gridcolor": "white",
           "linecolor": "white",
           "ticks": "",
           "title": {
            "standoff": 15
           },
           "zerolinecolor": "white",
           "zerolinewidth": 2
          },
          "yaxis": {
           "automargin": true,
           "gridcolor": "white",
           "linecolor": "white",
           "ticks": "",
           "title": {
            "standoff": 15
           },
           "zerolinecolor": "white",
           "zerolinewidth": 2
          }
         }
        },
        "title": {
         "text": "Execution Time for Intersection in Different Contexts & Sizes"
        },
        "xaxis": {
         "anchor": "y",
         "domain": [
          0,
          0.26666666666666666
         ],
         "title": {
          "text": ""
         }
        },
        "xaxis2": {
         "anchor": "y2",
         "domain": [
          0.3666666666666667,
          0.6333333333333333
         ],
         "matches": "x",
         "title": {
          "text": ""
         }
        },
        "xaxis3": {
         "anchor": "y3",
         "domain": [
          0.7333333333333334,
          1
         ],
         "matches": "x",
         "title": {
          "text": ""
         }
        },
        "xaxis4": {
         "anchor": "y4",
         "domain": [
          0,
          0.26666666666666666
         ],
         "matches": "x",
         "showticklabels": false,
         "title": {
          "text": ""
         }
        },
        "xaxis5": {
         "anchor": "y5",
         "domain": [
          0.3666666666666667,
          0.6333333333333333
         ],
         "matches": "x",
         "showticklabels": false,
         "title": {
          "text": ""
         }
        },
        "xaxis6": {
         "anchor": "y6",
         "domain": [
          0.7333333333333334,
          1
         ],
         "matches": "x",
         "showticklabels": false,
         "title": {
          "text": ""
         }
        },
        "yaxis": {
         "anchor": "x",
         "domain": [
          0,
          0.45
         ],
         "showticklabels": true,
         "title": {
          "text": ""
         },
         "visible": true
        },
        "yaxis2": {
         "anchor": "x2",
         "domain": [
          0,
          0.45
         ],
         "showticklabels": true,
         "title": {
          "text": ""
         },
         "visible": true
        },
        "yaxis3": {
         "anchor": "x3",
         "domain": [
          0,
          0.45
         ],
         "showticklabels": true,
         "title": {
          "text": ""
         },
         "visible": true
        },
        "yaxis4": {
         "anchor": "x4",
         "domain": [
          0.55,
          1
         ],
         "showticklabels": true,
         "title": {
          "text": ""
         },
         "visible": true
        },
        "yaxis5": {
         "anchor": "x5",
         "domain": [
          0.55,
          1
         ],
         "showticklabels": true,
         "title": {
          "text": ""
         },
         "visible": true
        },
        "yaxis6": {
         "anchor": "x6",
         "domain": [
          0.55,
          1
         ],
         "showticklabels": true,
         "title": {
          "text": ""
         },
         "visible": true
        }
       }
      }
     },
     "metadata": {},
     "output_type": "display_data"
    }
   ],
   "source": [
    "plot_total_time_box(total_time_df, is_predicate=False, size_cat_excl=[], log_scale=False) #\n",
    "plot_total_time_bars(total_time_df, is_predicate=False, size_cat_excl=[], log_scale=False) #"
   ]
  },
  {
   "attachments": {},
   "cell_type": "markdown",
   "metadata": {},
   "source": [
    "#### (%) Unfolding of chunks"
   ]
  },
  {
   "cell_type": "code",
   "execution_count": null,
   "metadata": {},
   "outputs": [
    {
     "data": {
      "application/vnd.plotly.v1+json": {
       "config": {
        "plotlyServerURL": "https://plot.ly"
       },
       "data": [
        {
         "name": "Chunk Fraction Unfolded",
         "orientation": "h",
         "type": "bar",
         "x": [
          0.7352941176470588,
          6.315789473684211,
          29.278445883441258,
          0.0938469898244946,
          0.26887870012435533,
          19.28571428571429,
          0.17595889849113305,
          0.5023310023310023,
          6.070069058227816,
          14.945474975542869,
          2.0781503368225764,
          3.5073710073710074,
          5.187194726154547,
          5.692241422259614,
          43.34092399339838
         ],
         "y": [
          [
           "Fully Inside Other (TRUE)",
           "Fully Inside Other (TRUE)",
           "Fully Inside Other (TRUE)",
           "Overlap (FALSE)",
           "Overlap (FALSE)",
           "Overlap (FALSE)",
           "Overlap (FALSE)",
           "Overlap (FALSE)",
           "Overlap (FALSE)",
           "Partial Overlap (TRUE)",
           "Partial Overlap (TRUE)",
           "Partial Overlap (TRUE)",
           "Partial Overlap (TRUE)",
           "Partial Overlap (TRUE)",
           "Partial Overlap (TRUE)"
          ],
          [
           "S/L",
           "S/M",
           "S/S",
           "L/L",
           "M/L",
           "M/M",
           "S/L",
           "S/M",
           "S/S",
           "L/L",
           "M/L",
           "M/M",
           "S/L",
           "S/M",
           "S/S"
          ]
         ]
        }
       ],
       "layout": {
        "barmode": "relative",
        "template": {
         "data": {
          "bar": [
           {
            "error_x": {
             "color": "#2a3f5f"
            },
            "error_y": {
             "color": "#2a3f5f"
            },
            "marker": {
             "line": {
              "color": "#E5ECF6",
              "width": 0.5
             },
             "pattern": {
              "fillmode": "overlay",
              "size": 10,
              "solidity": 0.2
             }
            },
            "type": "bar"
           }
          ],
          "barpolar": [
           {
            "marker": {
             "line": {
              "color": "#E5ECF6",
              "width": 0.5
             },
             "pattern": {
              "fillmode": "overlay",
              "size": 10,
              "solidity": 0.2
             }
            },
            "type": "barpolar"
           }
          ],
          "carpet": [
           {
            "aaxis": {
             "endlinecolor": "#2a3f5f",
             "gridcolor": "white",
             "linecolor": "white",
             "minorgridcolor": "white",
             "startlinecolor": "#2a3f5f"
            },
            "baxis": {
             "endlinecolor": "#2a3f5f",
             "gridcolor": "white",
             "linecolor": "white",
             "minorgridcolor": "white",
             "startlinecolor": "#2a3f5f"
            },
            "type": "carpet"
           }
          ],
          "choropleth": [
           {
            "colorbar": {
             "outlinewidth": 0,
             "ticks": ""
            },
            "type": "choropleth"
           }
          ],
          "contour": [
           {
            "colorbar": {
             "outlinewidth": 0,
             "ticks": ""
            },
            "colorscale": [
             [
              0,
              "#0d0887"
             ],
             [
              0.1111111111111111,
              "#46039f"
             ],
             [
              0.2222222222222222,
              "#7201a8"
             ],
             [
              0.3333333333333333,
              "#9c179e"
             ],
             [
              0.4444444444444444,
              "#bd3786"
             ],
             [
              0.5555555555555556,
              "#d8576b"
             ],
             [
              0.6666666666666666,
              "#ed7953"
             ],
             [
              0.7777777777777778,
              "#fb9f3a"
             ],
             [
              0.8888888888888888,
              "#fdca26"
             ],
             [
              1,
              "#f0f921"
             ]
            ],
            "type": "contour"
           }
          ],
          "contourcarpet": [
           {
            "colorbar": {
             "outlinewidth": 0,
             "ticks": ""
            },
            "type": "contourcarpet"
           }
          ],
          "heatmap": [
           {
            "colorbar": {
             "outlinewidth": 0,
             "ticks": ""
            },
            "colorscale": [
             [
              0,
              "#0d0887"
             ],
             [
              0.1111111111111111,
              "#46039f"
             ],
             [
              0.2222222222222222,
              "#7201a8"
             ],
             [
              0.3333333333333333,
              "#9c179e"
             ],
             [
              0.4444444444444444,
              "#bd3786"
             ],
             [
              0.5555555555555556,
              "#d8576b"
             ],
             [
              0.6666666666666666,
              "#ed7953"
             ],
             [
              0.7777777777777778,
              "#fb9f3a"
             ],
             [
              0.8888888888888888,
              "#fdca26"
             ],
             [
              1,
              "#f0f921"
             ]
            ],
            "type": "heatmap"
           }
          ],
          "heatmapgl": [
           {
            "colorbar": {
             "outlinewidth": 0,
             "ticks": ""
            },
            "colorscale": [
             [
              0,
              "#0d0887"
             ],
             [
              0.1111111111111111,
              "#46039f"
             ],
             [
              0.2222222222222222,
              "#7201a8"
             ],
             [
              0.3333333333333333,
              "#9c179e"
             ],
             [
              0.4444444444444444,
              "#bd3786"
             ],
             [
              0.5555555555555556,
              "#d8576b"
             ],
             [
              0.6666666666666666,
              "#ed7953"
             ],
             [
              0.7777777777777778,
              "#fb9f3a"
             ],
             [
              0.8888888888888888,
              "#fdca26"
             ],
             [
              1,
              "#f0f921"
             ]
            ],
            "type": "heatmapgl"
           }
          ],
          "histogram": [
           {
            "marker": {
             "pattern": {
              "fillmode": "overlay",
              "size": 10,
              "solidity": 0.2
             }
            },
            "type": "histogram"
           }
          ],
          "histogram2d": [
           {
            "colorbar": {
             "outlinewidth": 0,
             "ticks": ""
            },
            "colorscale": [
             [
              0,
              "#0d0887"
             ],
             [
              0.1111111111111111,
              "#46039f"
             ],
             [
              0.2222222222222222,
              "#7201a8"
             ],
             [
              0.3333333333333333,
              "#9c179e"
             ],
             [
              0.4444444444444444,
              "#bd3786"
             ],
             [
              0.5555555555555556,
              "#d8576b"
             ],
             [
              0.6666666666666666,
              "#ed7953"
             ],
             [
              0.7777777777777778,
              "#fb9f3a"
             ],
             [
              0.8888888888888888,
              "#fdca26"
             ],
             [
              1,
              "#f0f921"
             ]
            ],
            "type": "histogram2d"
           }
          ],
          "histogram2dcontour": [
           {
            "colorbar": {
             "outlinewidth": 0,
             "ticks": ""
            },
            "colorscale": [
             [
              0,
              "#0d0887"
             ],
             [
              0.1111111111111111,
              "#46039f"
             ],
             [
              0.2222222222222222,
              "#7201a8"
             ],
             [
              0.3333333333333333,
              "#9c179e"
             ],
             [
              0.4444444444444444,
              "#bd3786"
             ],
             [
              0.5555555555555556,
              "#d8576b"
             ],
             [
              0.6666666666666666,
              "#ed7953"
             ],
             [
              0.7777777777777778,
              "#fb9f3a"
             ],
             [
              0.8888888888888888,
              "#fdca26"
             ],
             [
              1,
              "#f0f921"
             ]
            ],
            "type": "histogram2dcontour"
           }
          ],
          "mesh3d": [
           {
            "colorbar": {
             "outlinewidth": 0,
             "ticks": ""
            },
            "type": "mesh3d"
           }
          ],
          "parcoords": [
           {
            "line": {
             "colorbar": {
              "outlinewidth": 0,
              "ticks": ""
             }
            },
            "type": "parcoords"
           }
          ],
          "pie": [
           {
            "automargin": true,
            "type": "pie"
           }
          ],
          "scatter": [
           {
            "fillpattern": {
             "fillmode": "overlay",
             "size": 10,
             "solidity": 0.2
            },
            "type": "scatter"
           }
          ],
          "scatter3d": [
           {
            "line": {
             "colorbar": {
              "outlinewidth": 0,
              "ticks": ""
             }
            },
            "marker": {
             "colorbar": {
              "outlinewidth": 0,
              "ticks": ""
             }
            },
            "type": "scatter3d"
           }
          ],
          "scattercarpet": [
           {
            "marker": {
             "colorbar": {
              "outlinewidth": 0,
              "ticks": ""
             }
            },
            "type": "scattercarpet"
           }
          ],
          "scattergeo": [
           {
            "marker": {
             "colorbar": {
              "outlinewidth": 0,
              "ticks": ""
             }
            },
            "type": "scattergeo"
           }
          ],
          "scattergl": [
           {
            "marker": {
             "colorbar": {
              "outlinewidth": 0,
              "ticks": ""
             }
            },
            "type": "scattergl"
           }
          ],
          "scattermapbox": [
           {
            "marker": {
             "colorbar": {
              "outlinewidth": 0,
              "ticks": ""
             }
            },
            "type": "scattermapbox"
           }
          ],
          "scatterpolar": [
           {
            "marker": {
             "colorbar": {
              "outlinewidth": 0,
              "ticks": ""
             }
            },
            "type": "scatterpolar"
           }
          ],
          "scatterpolargl": [
           {
            "marker": {
             "colorbar": {
              "outlinewidth": 0,
              "ticks": ""
             }
            },
            "type": "scatterpolargl"
           }
          ],
          "scatterternary": [
           {
            "marker": {
             "colorbar": {
              "outlinewidth": 0,
              "ticks": ""
             }
            },
            "type": "scatterternary"
           }
          ],
          "surface": [
           {
            "colorbar": {
             "outlinewidth": 0,
             "ticks": ""
            },
            "colorscale": [
             [
              0,
              "#0d0887"
             ],
             [
              0.1111111111111111,
              "#46039f"
             ],
             [
              0.2222222222222222,
              "#7201a8"
             ],
             [
              0.3333333333333333,
              "#9c179e"
             ],
             [
              0.4444444444444444,
              "#bd3786"
             ],
             [
              0.5555555555555556,
              "#d8576b"
             ],
             [
              0.6666666666666666,
              "#ed7953"
             ],
             [
              0.7777777777777778,
              "#fb9f3a"
             ],
             [
              0.8888888888888888,
              "#fdca26"
             ],
             [
              1,
              "#f0f921"
             ]
            ],
            "type": "surface"
           }
          ],
          "table": [
           {
            "cells": {
             "fill": {
              "color": "#EBF0F8"
             },
             "line": {
              "color": "white"
             }
            },
            "header": {
             "fill": {
              "color": "#C8D4E3"
             },
             "line": {
              "color": "white"
             }
            },
            "type": "table"
           }
          ]
         },
         "layout": {
          "annotationdefaults": {
           "arrowcolor": "#2a3f5f",
           "arrowhead": 0,
           "arrowwidth": 1
          },
          "autotypenumbers": "strict",
          "coloraxis": {
           "colorbar": {
            "outlinewidth": 0,
            "ticks": ""
           }
          },
          "colorscale": {
           "diverging": [
            [
             0,
             "#8e0152"
            ],
            [
             0.1,
             "#c51b7d"
            ],
            [
             0.2,
             "#de77ae"
            ],
            [
             0.3,
             "#f1b6da"
            ],
            [
             0.4,
             "#fde0ef"
            ],
            [
             0.5,
             "#f7f7f7"
            ],
            [
             0.6,
             "#e6f5d0"
            ],
            [
             0.7,
             "#b8e186"
            ],
            [
             0.8,
             "#7fbc41"
            ],
            [
             0.9,
             "#4d9221"
            ],
            [
             1,
             "#276419"
            ]
           ],
           "sequential": [
            [
             0,
             "#0d0887"
            ],
            [
             0.1111111111111111,
             "#46039f"
            ],
            [
             0.2222222222222222,
             "#7201a8"
            ],
            [
             0.3333333333333333,
             "#9c179e"
            ],
            [
             0.4444444444444444,
             "#bd3786"
            ],
            [
             0.5555555555555556,
             "#d8576b"
            ],
            [
             0.6666666666666666,
             "#ed7953"
            ],
            [
             0.7777777777777778,
             "#fb9f3a"
            ],
            [
             0.8888888888888888,
             "#fdca26"
            ],
            [
             1,
             "#f0f921"
            ]
           ],
           "sequentialminus": [
            [
             0,
             "#0d0887"
            ],
            [
             0.1111111111111111,
             "#46039f"
            ],
            [
             0.2222222222222222,
             "#7201a8"
            ],
            [
             0.3333333333333333,
             "#9c179e"
            ],
            [
             0.4444444444444444,
             "#bd3786"
            ],
            [
             0.5555555555555556,
             "#d8576b"
            ],
            [
             0.6666666666666666,
             "#ed7953"
            ],
            [
             0.7777777777777778,
             "#fb9f3a"
            ],
            [
             0.8888888888888888,
             "#fdca26"
            ],
            [
             1,
             "#f0f921"
            ]
           ]
          },
          "colorway": [
           "#636efa",
           "#EF553B",
           "#00cc96",
           "#ab63fa",
           "#FFA15A",
           "#19d3f3",
           "#FF6692",
           "#B6E880",
           "#FF97FF",
           "#FECB52"
          ],
          "font": {
           "color": "#2a3f5f"
          },
          "geo": {
           "bgcolor": "white",
           "lakecolor": "white",
           "landcolor": "#E5ECF6",
           "showlakes": true,
           "showland": true,
           "subunitcolor": "white"
          },
          "hoverlabel": {
           "align": "left"
          },
          "hovermode": "closest",
          "mapbox": {
           "style": "light"
          },
          "paper_bgcolor": "white",
          "plot_bgcolor": "#E5ECF6",
          "polar": {
           "angularaxis": {
            "gridcolor": "white",
            "linecolor": "white",
            "ticks": ""
           },
           "bgcolor": "#E5ECF6",
           "radialaxis": {
            "gridcolor": "white",
            "linecolor": "white",
            "ticks": ""
           }
          },
          "scene": {
           "xaxis": {
            "backgroundcolor": "#E5ECF6",
            "gridcolor": "white",
            "gridwidth": 2,
            "linecolor": "white",
            "showbackground": true,
            "ticks": "",
            "zerolinecolor": "white"
           },
           "yaxis": {
            "backgroundcolor": "#E5ECF6",
            "gridcolor": "white",
            "gridwidth": 2,
            "linecolor": "white",
            "showbackground": true,
            "ticks": "",
            "zerolinecolor": "white"
           },
           "zaxis": {
            "backgroundcolor": "#E5ECF6",
            "gridcolor": "white",
            "gridwidth": 2,
            "linecolor": "white",
            "showbackground": true,
            "ticks": "",
            "zerolinecolor": "white"
           }
          },
          "shapedefaults": {
           "line": {
            "color": "#2a3f5f"
           }
          },
          "ternary": {
           "aaxis": {
            "gridcolor": "white",
            "linecolor": "white",
            "ticks": ""
           },
           "baxis": {
            "gridcolor": "white",
            "linecolor": "white",
            "ticks": ""
           },
           "bgcolor": "#E5ECF6",
           "caxis": {
            "gridcolor": "white",
            "linecolor": "white",
            "ticks": ""
           }
          },
          "title": {
           "x": 0.05
          },
          "xaxis": {
           "automargin": true,
           "gridcolor": "white",
           "linecolor": "white",
           "ticks": "",
           "title": {
            "standoff": 15
           },
           "zerolinecolor": "white",
           "zerolinewidth": 2
          },
          "yaxis": {
           "automargin": true,
           "gridcolor": "white",
           "linecolor": "white",
           "ticks": "",
           "title": {
            "standoff": 15
           },
           "zerolinecolor": "white",
           "zerolinewidth": 2
          }
         }
        },
        "title": {
         "text": "Fraction of Chunks Unfolded for Intersection ",
         "x": 0.5
        },
        "xaxis": {
         "title": {
          "text": "Chunks Unfolded (%)"
         }
        },
        "yaxis": {
         "title": {
          "text": "Context + Geometry Size"
         }
        }
       }
      }
     },
     "metadata": {},
     "output_type": "display_data"
    },
    {
     "data": {
      "application/vnd.plotly.v1+json": {
       "config": {
        "plotlyServerURL": "https://plot.ly"
       },
       "data": [
        {
         "name": "Chunk Fraction Unfolded",
         "orientation": "h",
         "type": "bar",
         "x": [
          0.7352941176470588,
          6.315789473684211,
          29.278445883441258,
          0.0938469898244946,
          0.26887870012435533,
          19.28571428571429,
          0.17595889849113305,
          0.5023310023310023,
          6.070069058227816,
          13.706175218237497,
          2.0781503368225764,
          3.5073710073710074,
          5.11579483713525,
          5.598608463458116,
          39.5347590695864
         ],
         "y": [
          [
           "Fully Inside Other (TRUE)",
           "Fully Inside Other (TRUE)",
           "Fully Inside Other (TRUE)",
           "Overlap (FALSE)",
           "Overlap (FALSE)",
           "Overlap (FALSE)",
           "Overlap (FALSE)",
           "Overlap (FALSE)",
           "Overlap (FALSE)",
           "Partial Overlap (TRUE)",
           "Partial Overlap (TRUE)",
           "Partial Overlap (TRUE)",
           "Partial Overlap (TRUE)",
           "Partial Overlap (TRUE)",
           "Partial Overlap (TRUE)"
          ],
          [
           "S/L",
           "S/M",
           "S/S",
           "L/L",
           "M/L",
           "M/M",
           "S/L",
           "S/M",
           "S/S",
           "L/L",
           "M/L",
           "M/M",
           "S/L",
           "S/M",
           "S/S"
          ]
         ]
        }
       ],
       "layout": {
        "barmode": "relative",
        "template": {
         "data": {
          "bar": [
           {
            "error_x": {
             "color": "#2a3f5f"
            },
            "error_y": {
             "color": "#2a3f5f"
            },
            "marker": {
             "line": {
              "color": "#E5ECF6",
              "width": 0.5
             },
             "pattern": {
              "fillmode": "overlay",
              "size": 10,
              "solidity": 0.2
             }
            },
            "type": "bar"
           }
          ],
          "barpolar": [
           {
            "marker": {
             "line": {
              "color": "#E5ECF6",
              "width": 0.5
             },
             "pattern": {
              "fillmode": "overlay",
              "size": 10,
              "solidity": 0.2
             }
            },
            "type": "barpolar"
           }
          ],
          "carpet": [
           {
            "aaxis": {
             "endlinecolor": "#2a3f5f",
             "gridcolor": "white",
             "linecolor": "white",
             "minorgridcolor": "white",
             "startlinecolor": "#2a3f5f"
            },
            "baxis": {
             "endlinecolor": "#2a3f5f",
             "gridcolor": "white",
             "linecolor": "white",
             "minorgridcolor": "white",
             "startlinecolor": "#2a3f5f"
            },
            "type": "carpet"
           }
          ],
          "choropleth": [
           {
            "colorbar": {
             "outlinewidth": 0,
             "ticks": ""
            },
            "type": "choropleth"
           }
          ],
          "contour": [
           {
            "colorbar": {
             "outlinewidth": 0,
             "ticks": ""
            },
            "colorscale": [
             [
              0,
              "#0d0887"
             ],
             [
              0.1111111111111111,
              "#46039f"
             ],
             [
              0.2222222222222222,
              "#7201a8"
             ],
             [
              0.3333333333333333,
              "#9c179e"
             ],
             [
              0.4444444444444444,
              "#bd3786"
             ],
             [
              0.5555555555555556,
              "#d8576b"
             ],
             [
              0.6666666666666666,
              "#ed7953"
             ],
             [
              0.7777777777777778,
              "#fb9f3a"
             ],
             [
              0.8888888888888888,
              "#fdca26"
             ],
             [
              1,
              "#f0f921"
             ]
            ],
            "type": "contour"
           }
          ],
          "contourcarpet": [
           {
            "colorbar": {
             "outlinewidth": 0,
             "ticks": ""
            },
            "type": "contourcarpet"
           }
          ],
          "heatmap": [
           {
            "colorbar": {
             "outlinewidth": 0,
             "ticks": ""
            },
            "colorscale": [
             [
              0,
              "#0d0887"
             ],
             [
              0.1111111111111111,
              "#46039f"
             ],
             [
              0.2222222222222222,
              "#7201a8"
             ],
             [
              0.3333333333333333,
              "#9c179e"
             ],
             [
              0.4444444444444444,
              "#bd3786"
             ],
             [
              0.5555555555555556,
              "#d8576b"
             ],
             [
              0.6666666666666666,
              "#ed7953"
             ],
             [
              0.7777777777777778,
              "#fb9f3a"
             ],
             [
              0.8888888888888888,
              "#fdca26"
             ],
             [
              1,
              "#f0f921"
             ]
            ],
            "type": "heatmap"
           }
          ],
          "heatmapgl": [
           {
            "colorbar": {
             "outlinewidth": 0,
             "ticks": ""
            },
            "colorscale": [
             [
              0,
              "#0d0887"
             ],
             [
              0.1111111111111111,
              "#46039f"
             ],
             [
              0.2222222222222222,
              "#7201a8"
             ],
             [
              0.3333333333333333,
              "#9c179e"
             ],
             [
              0.4444444444444444,
              "#bd3786"
             ],
             [
              0.5555555555555556,
              "#d8576b"
             ],
             [
              0.6666666666666666,
              "#ed7953"
             ],
             [
              0.7777777777777778,
              "#fb9f3a"
             ],
             [
              0.8888888888888888,
              "#fdca26"
             ],
             [
              1,
              "#f0f921"
             ]
            ],
            "type": "heatmapgl"
           }
          ],
          "histogram": [
           {
            "marker": {
             "pattern": {
              "fillmode": "overlay",
              "size": 10,
              "solidity": 0.2
             }
            },
            "type": "histogram"
           }
          ],
          "histogram2d": [
           {
            "colorbar": {
             "outlinewidth": 0,
             "ticks": ""
            },
            "colorscale": [
             [
              0,
              "#0d0887"
             ],
             [
              0.1111111111111111,
              "#46039f"
             ],
             [
              0.2222222222222222,
              "#7201a8"
             ],
             [
              0.3333333333333333,
              "#9c179e"
             ],
             [
              0.4444444444444444,
              "#bd3786"
             ],
             [
              0.5555555555555556,
              "#d8576b"
             ],
             [
              0.6666666666666666,
              "#ed7953"
             ],
             [
              0.7777777777777778,
              "#fb9f3a"
             ],
             [
              0.8888888888888888,
              "#fdca26"
             ],
             [
              1,
              "#f0f921"
             ]
            ],
            "type": "histogram2d"
           }
          ],
          "histogram2dcontour": [
           {
            "colorbar": {
             "outlinewidth": 0,
             "ticks": ""
            },
            "colorscale": [
             [
              0,
              "#0d0887"
             ],
             [
              0.1111111111111111,
              "#46039f"
             ],
             [
              0.2222222222222222,
              "#7201a8"
             ],
             [
              0.3333333333333333,
              "#9c179e"
             ],
             [
              0.4444444444444444,
              "#bd3786"
             ],
             [
              0.5555555555555556,
              "#d8576b"
             ],
             [
              0.6666666666666666,
              "#ed7953"
             ],
             [
              0.7777777777777778,
              "#fb9f3a"
             ],
             [
              0.8888888888888888,
              "#fdca26"
             ],
             [
              1,
              "#f0f921"
             ]
            ],
            "type": "histogram2dcontour"
           }
          ],
          "mesh3d": [
           {
            "colorbar": {
             "outlinewidth": 0,
             "ticks": ""
            },
            "type": "mesh3d"
           }
          ],
          "parcoords": [
           {
            "line": {
             "colorbar": {
              "outlinewidth": 0,
              "ticks": ""
             }
            },
            "type": "parcoords"
           }
          ],
          "pie": [
           {
            "automargin": true,
            "type": "pie"
           }
          ],
          "scatter": [
           {
            "fillpattern": {
             "fillmode": "overlay",
             "size": 10,
             "solidity": 0.2
            },
            "type": "scatter"
           }
          ],
          "scatter3d": [
           {
            "line": {
             "colorbar": {
              "outlinewidth": 0,
              "ticks": ""
             }
            },
            "marker": {
             "colorbar": {
              "outlinewidth": 0,
              "ticks": ""
             }
            },
            "type": "scatter3d"
           }
          ],
          "scattercarpet": [
           {
            "marker": {
             "colorbar": {
              "outlinewidth": 0,
              "ticks": ""
             }
            },
            "type": "scattercarpet"
           }
          ],
          "scattergeo": [
           {
            "marker": {
             "colorbar": {
              "outlinewidth": 0,
              "ticks": ""
             }
            },
            "type": "scattergeo"
           }
          ],
          "scattergl": [
           {
            "marker": {
             "colorbar": {
              "outlinewidth": 0,
              "ticks": ""
             }
            },
            "type": "scattergl"
           }
          ],
          "scattermapbox": [
           {
            "marker": {
             "colorbar": {
              "outlinewidth": 0,
              "ticks": ""
             }
            },
            "type": "scattermapbox"
           }
          ],
          "scatterpolar": [
           {
            "marker": {
             "colorbar": {
              "outlinewidth": 0,
              "ticks": ""
             }
            },
            "type": "scatterpolar"
           }
          ],
          "scatterpolargl": [
           {
            "marker": {
             "colorbar": {
              "outlinewidth": 0,
              "ticks": ""
             }
            },
            "type": "scatterpolargl"
           }
          ],
          "scatterternary": [
           {
            "marker": {
             "colorbar": {
              "outlinewidth": 0,
              "ticks": ""
             }
            },
            "type": "scatterternary"
           }
          ],
          "surface": [
           {
            "colorbar": {
             "outlinewidth": 0,
             "ticks": ""
            },
            "colorscale": [
             [
              0,
              "#0d0887"
             ],
             [
              0.1111111111111111,
              "#46039f"
             ],
             [
              0.2222222222222222,
              "#7201a8"
             ],
             [
              0.3333333333333333,
              "#9c179e"
             ],
             [
              0.4444444444444444,
              "#bd3786"
             ],
             [
              0.5555555555555556,
              "#d8576b"
             ],
             [
              0.6666666666666666,
              "#ed7953"
             ],
             [
              0.7777777777777778,
              "#fb9f3a"
             ],
             [
              0.8888888888888888,
              "#fdca26"
             ],
             [
              1,
              "#f0f921"
             ]
            ],
            "type": "surface"
           }
          ],
          "table": [
           {
            "cells": {
             "fill": {
              "color": "#EBF0F8"
             },
             "line": {
              "color": "white"
             }
            },
            "header": {
             "fill": {
              "color": "#C8D4E3"
             },
             "line": {
              "color": "white"
             }
            },
            "type": "table"
           }
          ]
         },
         "layout": {
          "annotationdefaults": {
           "arrowcolor": "#2a3f5f",
           "arrowhead": 0,
           "arrowwidth": 1
          },
          "autotypenumbers": "strict",
          "coloraxis": {
           "colorbar": {
            "outlinewidth": 0,
            "ticks": ""
           }
          },
          "colorscale": {
           "diverging": [
            [
             0,
             "#8e0152"
            ],
            [
             0.1,
             "#c51b7d"
            ],
            [
             0.2,
             "#de77ae"
            ],
            [
             0.3,
             "#f1b6da"
            ],
            [
             0.4,
             "#fde0ef"
            ],
            [
             0.5,
             "#f7f7f7"
            ],
            [
             0.6,
             "#e6f5d0"
            ],
            [
             0.7,
             "#b8e186"
            ],
            [
             0.8,
             "#7fbc41"
            ],
            [
             0.9,
             "#4d9221"
            ],
            [
             1,
             "#276419"
            ]
           ],
           "sequential": [
            [
             0,
             "#0d0887"
            ],
            [
             0.1111111111111111,
             "#46039f"
            ],
            [
             0.2222222222222222,
             "#7201a8"
            ],
            [
             0.3333333333333333,
             "#9c179e"
            ],
            [
             0.4444444444444444,
             "#bd3786"
            ],
            [
             0.5555555555555556,
             "#d8576b"
            ],
            [
             0.6666666666666666,
             "#ed7953"
            ],
            [
             0.7777777777777778,
             "#fb9f3a"
            ],
            [
             0.8888888888888888,
             "#fdca26"
            ],
            [
             1,
             "#f0f921"
            ]
           ],
           "sequentialminus": [
            [
             0,
             "#0d0887"
            ],
            [
             0.1111111111111111,
             "#46039f"
            ],
            [
             0.2222222222222222,
             "#7201a8"
            ],
            [
             0.3333333333333333,
             "#9c179e"
            ],
            [
             0.4444444444444444,
             "#bd3786"
            ],
            [
             0.5555555555555556,
             "#d8576b"
            ],
            [
             0.6666666666666666,
             "#ed7953"
            ],
            [
             0.7777777777777778,
             "#fb9f3a"
            ],
            [
             0.8888888888888888,
             "#fdca26"
            ],
            [
             1,
             "#f0f921"
            ]
           ]
          },
          "colorway": [
           "#636efa",
           "#EF553B",
           "#00cc96",
           "#ab63fa",
           "#FFA15A",
           "#19d3f3",
           "#FF6692",
           "#B6E880",
           "#FF97FF",
           "#FECB52"
          ],
          "font": {
           "color": "#2a3f5f"
          },
          "geo": {
           "bgcolor": "white",
           "lakecolor": "white",
           "landcolor": "#E5ECF6",
           "showlakes": true,
           "showland": true,
           "subunitcolor": "white"
          },
          "hoverlabel": {
           "align": "left"
          },
          "hovermode": "closest",
          "mapbox": {
           "style": "light"
          },
          "paper_bgcolor": "white",
          "plot_bgcolor": "#E5ECF6",
          "polar": {
           "angularaxis": {
            "gridcolor": "white",
            "linecolor": "white",
            "ticks": ""
           },
           "bgcolor": "#E5ECF6",
           "radialaxis": {
            "gridcolor": "white",
            "linecolor": "white",
            "ticks": ""
           }
          },
          "scene": {
           "xaxis": {
            "backgroundcolor": "#E5ECF6",
            "gridcolor": "white",
            "gridwidth": 2,
            "linecolor": "white",
            "showbackground": true,
            "ticks": "",
            "zerolinecolor": "white"
           },
           "yaxis": {
            "backgroundcolor": "#E5ECF6",
            "gridcolor": "white",
            "gridwidth": 2,
            "linecolor": "white",
            "showbackground": true,
            "ticks": "",
            "zerolinecolor": "white"
           },
           "zaxis": {
            "backgroundcolor": "#E5ECF6",
            "gridcolor": "white",
            "gridwidth": 2,
            "linecolor": "white",
            "showbackground": true,
            "ticks": "",
            "zerolinecolor": "white"
           }
          },
          "shapedefaults": {
           "line": {
            "color": "#2a3f5f"
           }
          },
          "ternary": {
           "aaxis": {
            "gridcolor": "white",
            "linecolor": "white",
            "ticks": ""
           },
           "baxis": {
            "gridcolor": "white",
            "linecolor": "white",
            "ticks": ""
           },
           "bgcolor": "#E5ECF6",
           "caxis": {
            "gridcolor": "white",
            "linecolor": "white",
            "ticks": ""
           }
          },
          "title": {
           "x": 0.05
          },
          "xaxis": {
           "automargin": true,
           "gridcolor": "white",
           "linecolor": "white",
           "ticks": "",
           "title": {
            "standoff": 15
           },
           "zerolinecolor": "white",
           "zerolinewidth": 2
          },
          "yaxis": {
           "automargin": true,
           "gridcolor": "white",
           "linecolor": "white",
           "ticks": "",
           "title": {
            "standoff": 15
           },
           "zerolinecolor": "white",
           "zerolinewidth": 2
          }
         }
        },
        "title": {
         "text": "Fraction of Chunks Unfolded for IsIntersection ",
         "x": 0.5
        },
        "xaxis": {
         "title": {
          "text": "Chunks Unfolded (%)"
         }
        },
        "yaxis": {
         "title": {
          "text": "Context + Geometry Size"
         }
        }
       }
      }
     },
     "metadata": {},
     "output_type": "display_data"
    }
   ],
   "source": [
    "plot_chunk_unfolded_frac(chunk_unfolded_df, is_predicate=False, is_baseline=False)\n",
    "plot_chunk_unfolded_frac(chunk_unfolded_df, is_predicate=True, is_baseline=False)"
   ]
  },
  {
   "attachments": {},
   "cell_type": "markdown",
   "metadata": {},
   "source": [
    "#### Partial Decompression Fraction of Execution"
   ]
  },
  {
   "cell_type": "code",
   "execution_count": null,
   "metadata": {},
   "outputs": [
    {
     "data": {
      "application/vnd.plotly.v1+json": {
       "config": {
        "plotlyServerURL": "https://plot.ly"
       },
       "data": [
        {
         "name": "Decompression Stage",
         "orientation": "h",
         "type": "bar",
         "x": [
          65.15014183047845,
          52.40910677519829,
          30.882568653735905,
          93.33982767782439,
          87.27595280528048,
          68.27208462779045,
          92.38139055784477,
          72.92524404277472,
          52.01883630238348,
          47.91540646163538,
          70.61402412343267,
          61.95972651787631,
          67.11832916828297,
          47.69448070163375,
          21.90494376714486
         ],
         "y": [
          [
           "Fully Inside Other (TRUE)",
           "Fully Inside Other (TRUE)",
           "Fully Inside Other (TRUE)",
           "Overlap (FALSE)",
           "Overlap (FALSE)",
           "Overlap (FALSE)",
           "Overlap (FALSE)",
           "Overlap (FALSE)",
           "Overlap (FALSE)",
           "Partial Overlap (TRUE)",
           "Partial Overlap (TRUE)",
           "Partial Overlap (TRUE)",
           "Partial Overlap (TRUE)",
           "Partial Overlap (TRUE)",
           "Partial Overlap (TRUE)"
          ],
          [
           "S/L",
           "S/M",
           "S/S",
           "L/L",
           "M/L",
           "M/M",
           "S/L",
           "S/M",
           "S/S",
           "L/L",
           "M/L",
           "M/M",
           "S/L",
           "S/M",
           "S/S"
          ]
         ]
        },
        {
         "name": "Intersection",
         "orientation": "h",
         "type": "bar",
         "x": [
          34.849858169521546,
          47.59089322480171,
          69.11743134626408,
          6.660172322175616,
          12.724047194719523,
          31.727915372209548,
          7.61860944215523,
          27.07475595722527,
          47.98116369761652,
          52.08459353836462,
          29.38597587656733,
          38.04027348212369,
          32.88167083171703,
          52.30551929836626,
          78.09505623285514
         ],
         "y": [
          [
           "Fully Inside Other (TRUE)",
           "Fully Inside Other (TRUE)",
           "Fully Inside Other (TRUE)",
           "Overlap (FALSE)",
           "Overlap (FALSE)",
           "Overlap (FALSE)",
           "Overlap (FALSE)",
           "Overlap (FALSE)",
           "Overlap (FALSE)",
           "Partial Overlap (TRUE)",
           "Partial Overlap (TRUE)",
           "Partial Overlap (TRUE)",
           "Partial Overlap (TRUE)",
           "Partial Overlap (TRUE)",
           "Partial Overlap (TRUE)"
          ],
          [
           "S/L",
           "S/M",
           "S/S",
           "L/L",
           "M/L",
           "M/M",
           "S/L",
           "S/M",
           "S/S",
           "L/L",
           "M/L",
           "M/M",
           "S/L",
           "S/M",
           "S/S"
          ]
         ]
        }
       ],
       "layout": {
        "barmode": "relative",
        "legend": {
         "x": 0.997,
         "xanchor": "right",
         "y": 1.2,
         "yanchor": "top"
        },
        "template": {
         "data": {
          "bar": [
           {
            "error_x": {
             "color": "#2a3f5f"
            },
            "error_y": {
             "color": "#2a3f5f"
            },
            "marker": {
             "line": {
              "color": "#E5ECF6",
              "width": 0.5
             },
             "pattern": {
              "fillmode": "overlay",
              "size": 10,
              "solidity": 0.2
             }
            },
            "type": "bar"
           }
          ],
          "barpolar": [
           {
            "marker": {
             "line": {
              "color": "#E5ECF6",
              "width": 0.5
             },
             "pattern": {
              "fillmode": "overlay",
              "size": 10,
              "solidity": 0.2
             }
            },
            "type": "barpolar"
           }
          ],
          "carpet": [
           {
            "aaxis": {
             "endlinecolor": "#2a3f5f",
             "gridcolor": "white",
             "linecolor": "white",
             "minorgridcolor": "white",
             "startlinecolor": "#2a3f5f"
            },
            "baxis": {
             "endlinecolor": "#2a3f5f",
             "gridcolor": "white",
             "linecolor": "white",
             "minorgridcolor": "white",
             "startlinecolor": "#2a3f5f"
            },
            "type": "carpet"
           }
          ],
          "choropleth": [
           {
            "colorbar": {
             "outlinewidth": 0,
             "ticks": ""
            },
            "type": "choropleth"
           }
          ],
          "contour": [
           {
            "colorbar": {
             "outlinewidth": 0,
             "ticks": ""
            },
            "colorscale": [
             [
              0,
              "#0d0887"
             ],
             [
              0.1111111111111111,
              "#46039f"
             ],
             [
              0.2222222222222222,
              "#7201a8"
             ],
             [
              0.3333333333333333,
              "#9c179e"
             ],
             [
              0.4444444444444444,
              "#bd3786"
             ],
             [
              0.5555555555555556,
              "#d8576b"
             ],
             [
              0.6666666666666666,
              "#ed7953"
             ],
             [
              0.7777777777777778,
              "#fb9f3a"
             ],
             [
              0.8888888888888888,
              "#fdca26"
             ],
             [
              1,
              "#f0f921"
             ]
            ],
            "type": "contour"
           }
          ],
          "contourcarpet": [
           {
            "colorbar": {
             "outlinewidth": 0,
             "ticks": ""
            },
            "type": "contourcarpet"
           }
          ],
          "heatmap": [
           {
            "colorbar": {
             "outlinewidth": 0,
             "ticks": ""
            },
            "colorscale": [
             [
              0,
              "#0d0887"
             ],
             [
              0.1111111111111111,
              "#46039f"
             ],
             [
              0.2222222222222222,
              "#7201a8"
             ],
             [
              0.3333333333333333,
              "#9c179e"
             ],
             [
              0.4444444444444444,
              "#bd3786"
             ],
             [
              0.5555555555555556,
              "#d8576b"
             ],
             [
              0.6666666666666666,
              "#ed7953"
             ],
             [
              0.7777777777777778,
              "#fb9f3a"
             ],
             [
              0.8888888888888888,
              "#fdca26"
             ],
             [
              1,
              "#f0f921"
             ]
            ],
            "type": "heatmap"
           }
          ],
          "heatmapgl": [
           {
            "colorbar": {
             "outlinewidth": 0,
             "ticks": ""
            },
            "colorscale": [
             [
              0,
              "#0d0887"
             ],
             [
              0.1111111111111111,
              "#46039f"
             ],
             [
              0.2222222222222222,
              "#7201a8"
             ],
             [
              0.3333333333333333,
              "#9c179e"
             ],
             [
              0.4444444444444444,
              "#bd3786"
             ],
             [
              0.5555555555555556,
              "#d8576b"
             ],
             [
              0.6666666666666666,
              "#ed7953"
             ],
             [
              0.7777777777777778,
              "#fb9f3a"
             ],
             [
              0.8888888888888888,
              "#fdca26"
             ],
             [
              1,
              "#f0f921"
             ]
            ],
            "type": "heatmapgl"
           }
          ],
          "histogram": [
           {
            "marker": {
             "pattern": {
              "fillmode": "overlay",
              "size": 10,
              "solidity": 0.2
             }
            },
            "type": "histogram"
           }
          ],
          "histogram2d": [
           {
            "colorbar": {
             "outlinewidth": 0,
             "ticks": ""
            },
            "colorscale": [
             [
              0,
              "#0d0887"
             ],
             [
              0.1111111111111111,
              "#46039f"
             ],
             [
              0.2222222222222222,
              "#7201a8"
             ],
             [
              0.3333333333333333,
              "#9c179e"
             ],
             [
              0.4444444444444444,
              "#bd3786"
             ],
             [
              0.5555555555555556,
              "#d8576b"
             ],
             [
              0.6666666666666666,
              "#ed7953"
             ],
             [
              0.7777777777777778,
              "#fb9f3a"
             ],
             [
              0.8888888888888888,
              "#fdca26"
             ],
             [
              1,
              "#f0f921"
             ]
            ],
            "type": "histogram2d"
           }
          ],
          "histogram2dcontour": [
           {
            "colorbar": {
             "outlinewidth": 0,
             "ticks": ""
            },
            "colorscale": [
             [
              0,
              "#0d0887"
             ],
             [
              0.1111111111111111,
              "#46039f"
             ],
             [
              0.2222222222222222,
              "#7201a8"
             ],
             [
              0.3333333333333333,
              "#9c179e"
             ],
             [
              0.4444444444444444,
              "#bd3786"
             ],
             [
              0.5555555555555556,
              "#d8576b"
             ],
             [
              0.6666666666666666,
              "#ed7953"
             ],
             [
              0.7777777777777778,
              "#fb9f3a"
             ],
             [
              0.8888888888888888,
              "#fdca26"
             ],
             [
              1,
              "#f0f921"
             ]
            ],
            "type": "histogram2dcontour"
           }
          ],
          "mesh3d": [
           {
            "colorbar": {
             "outlinewidth": 0,
             "ticks": ""
            },
            "type": "mesh3d"
           }
          ],
          "parcoords": [
           {
            "line": {
             "colorbar": {
              "outlinewidth": 0,
              "ticks": ""
             }
            },
            "type": "parcoords"
           }
          ],
          "pie": [
           {
            "automargin": true,
            "type": "pie"
           }
          ],
          "scatter": [
           {
            "fillpattern": {
             "fillmode": "overlay",
             "size": 10,
             "solidity": 0.2
            },
            "type": "scatter"
           }
          ],
          "scatter3d": [
           {
            "line": {
             "colorbar": {
              "outlinewidth": 0,
              "ticks": ""
             }
            },
            "marker": {
             "colorbar": {
              "outlinewidth": 0,
              "ticks": ""
             }
            },
            "type": "scatter3d"
           }
          ],
          "scattercarpet": [
           {
            "marker": {
             "colorbar": {
              "outlinewidth": 0,
              "ticks": ""
             }
            },
            "type": "scattercarpet"
           }
          ],
          "scattergeo": [
           {
            "marker": {
             "colorbar": {
              "outlinewidth": 0,
              "ticks": ""
             }
            },
            "type": "scattergeo"
           }
          ],
          "scattergl": [
           {
            "marker": {
             "colorbar": {
              "outlinewidth": 0,
              "ticks": ""
             }
            },
            "type": "scattergl"
           }
          ],
          "scattermapbox": [
           {
            "marker": {
             "colorbar": {
              "outlinewidth": 0,
              "ticks": ""
             }
            },
            "type": "scattermapbox"
           }
          ],
          "scatterpolar": [
           {
            "marker": {
             "colorbar": {
              "outlinewidth": 0,
              "ticks": ""
             }
            },
            "type": "scatterpolar"
           }
          ],
          "scatterpolargl": [
           {
            "marker": {
             "colorbar": {
              "outlinewidth": 0,
              "ticks": ""
             }
            },
            "type": "scatterpolargl"
           }
          ],
          "scatterternary": [
           {
            "marker": {
             "colorbar": {
              "outlinewidth": 0,
              "ticks": ""
             }
            },
            "type": "scatterternary"
           }
          ],
          "surface": [
           {
            "colorbar": {
             "outlinewidth": 0,
             "ticks": ""
            },
            "colorscale": [
             [
              0,
              "#0d0887"
             ],
             [
              0.1111111111111111,
              "#46039f"
             ],
             [
              0.2222222222222222,
              "#7201a8"
             ],
             [
              0.3333333333333333,
              "#9c179e"
             ],
             [
              0.4444444444444444,
              "#bd3786"
             ],
             [
              0.5555555555555556,
              "#d8576b"
             ],
             [
              0.6666666666666666,
              "#ed7953"
             ],
             [
              0.7777777777777778,
              "#fb9f3a"
             ],
             [
              0.8888888888888888,
              "#fdca26"
             ],
             [
              1,
              "#f0f921"
             ]
            ],
            "type": "surface"
           }
          ],
          "table": [
           {
            "cells": {
             "fill": {
              "color": "#EBF0F8"
             },
             "line": {
              "color": "white"
             }
            },
            "header": {
             "fill": {
              "color": "#C8D4E3"
             },
             "line": {
              "color": "white"
             }
            },
            "type": "table"
           }
          ]
         },
         "layout": {
          "annotationdefaults": {
           "arrowcolor": "#2a3f5f",
           "arrowhead": 0,
           "arrowwidth": 1
          },
          "autotypenumbers": "strict",
          "coloraxis": {
           "colorbar": {
            "outlinewidth": 0,
            "ticks": ""
           }
          },
          "colorscale": {
           "diverging": [
            [
             0,
             "#8e0152"
            ],
            [
             0.1,
             "#c51b7d"
            ],
            [
             0.2,
             "#de77ae"
            ],
            [
             0.3,
             "#f1b6da"
            ],
            [
             0.4,
             "#fde0ef"
            ],
            [
             0.5,
             "#f7f7f7"
            ],
            [
             0.6,
             "#e6f5d0"
            ],
            [
             0.7,
             "#b8e186"
            ],
            [
             0.8,
             "#7fbc41"
            ],
            [
             0.9,
             "#4d9221"
            ],
            [
             1,
             "#276419"
            ]
           ],
           "sequential": [
            [
             0,
             "#0d0887"
            ],
            [
             0.1111111111111111,
             "#46039f"
            ],
            [
             0.2222222222222222,
             "#7201a8"
            ],
            [
             0.3333333333333333,
             "#9c179e"
            ],
            [
             0.4444444444444444,
             "#bd3786"
            ],
            [
             0.5555555555555556,
             "#d8576b"
            ],
            [
             0.6666666666666666,
             "#ed7953"
            ],
            [
             0.7777777777777778,
             "#fb9f3a"
            ],
            [
             0.8888888888888888,
             "#fdca26"
            ],
            [
             1,
             "#f0f921"
            ]
           ],
           "sequentialminus": [
            [
             0,
             "#0d0887"
            ],
            [
             0.1111111111111111,
             "#46039f"
            ],
            [
             0.2222222222222222,
             "#7201a8"
            ],
            [
             0.3333333333333333,
             "#9c179e"
            ],
            [
             0.4444444444444444,
             "#bd3786"
            ],
            [
             0.5555555555555556,
             "#d8576b"
            ],
            [
             0.6666666666666666,
             "#ed7953"
            ],
            [
             0.7777777777777778,
             "#fb9f3a"
            ],
            [
             0.8888888888888888,
             "#fdca26"
            ],
            [
             1,
             "#f0f921"
            ]
           ]
          },
          "colorway": [
           "#636efa",
           "#EF553B",
           "#00cc96",
           "#ab63fa",
           "#FFA15A",
           "#19d3f3",
           "#FF6692",
           "#B6E880",
           "#FF97FF",
           "#FECB52"
          ],
          "font": {
           "color": "#2a3f5f"
          },
          "geo": {
           "bgcolor": "white",
           "lakecolor": "white",
           "landcolor": "#E5ECF6",
           "showlakes": true,
           "showland": true,
           "subunitcolor": "white"
          },
          "hoverlabel": {
           "align": "left"
          },
          "hovermode": "closest",
          "mapbox": {
           "style": "light"
          },
          "paper_bgcolor": "white",
          "plot_bgcolor": "#E5ECF6",
          "polar": {
           "angularaxis": {
            "gridcolor": "white",
            "linecolor": "white",
            "ticks": ""
           },
           "bgcolor": "#E5ECF6",
           "radialaxis": {
            "gridcolor": "white",
            "linecolor": "white",
            "ticks": ""
           }
          },
          "scene": {
           "xaxis": {
            "backgroundcolor": "#E5ECF6",
            "gridcolor": "white",
            "gridwidth": 2,
            "linecolor": "white",
            "showbackground": true,
            "ticks": "",
            "zerolinecolor": "white"
           },
           "yaxis": {
            "backgroundcolor": "#E5ECF6",
            "gridcolor": "white",
            "gridwidth": 2,
            "linecolor": "white",
            "showbackground": true,
            "ticks": "",
            "zerolinecolor": "white"
           },
           "zaxis": {
            "backgroundcolor": "#E5ECF6",
            "gridcolor": "white",
            "gridwidth": 2,
            "linecolor": "white",
            "showbackground": true,
            "ticks": "",
            "zerolinecolor": "white"
           }
          },
          "shapedefaults": {
           "line": {
            "color": "#2a3f5f"
           }
          },
          "ternary": {
           "aaxis": {
            "gridcolor": "white",
            "linecolor": "white",
            "ticks": ""
           },
           "baxis": {
            "gridcolor": "white",
            "linecolor": "white",
            "ticks": ""
           },
           "bgcolor": "#E5ECF6",
           "caxis": {
            "gridcolor": "white",
            "linecolor": "white",
            "ticks": ""
           }
          },
          "title": {
           "x": 0.05
          },
          "xaxis": {
           "automargin": true,
           "gridcolor": "white",
           "linecolor": "white",
           "ticks": "",
           "title": {
            "standoff": 15
           },
           "zerolinecolor": "white",
           "zerolinewidth": 2
          },
          "yaxis": {
           "automargin": true,
           "gridcolor": "white",
           "linecolor": "white",
           "ticks": "",
           "title": {
            "standoff": 15
           },
           "zerolinecolor": "white",
           "zerolinewidth": 2
          }
         }
        },
        "title": {
         "text": "Execution Time Distrubution for Intersection (Baseline)",
         "x": 0.5
        },
        "xaxis": {
         "title": {
          "text": "Execution Time (%)"
         }
        },
        "yaxis": {
         "title": {
          "text": "Context + Geometry Size)"
         }
        }
       }
      }
     },
     "metadata": {},
     "output_type": "display_data"
    },
    {
     "data": {
      "application/vnd.plotly.v1+json": {
       "config": {
        "plotlyServerURL": "https://plot.ly"
       },
       "data": [
        {
         "name": "Decompression Stage",
         "orientation": "h",
         "type": "bar",
         "x": [
          33.954004460441155,
          30.6912966821375,
          25.311870162542935,
          74.12605575981344,
          61.518665224659706,
          47.996246219530896,
          63.08835503857059,
          43.81024732585375,
          45.21275689266161,
          16.20512001965518,
          30.250730456467306,
          33.50581185961188,
          29.005170000796465,
          24.81609320988493,
          17.64688630032137
         ],
         "y": [
          [
           "Fully Inside Other (TRUE)",
           "Fully Inside Other (TRUE)",
           "Fully Inside Other (TRUE)",
           "Overlap (FALSE)",
           "Overlap (FALSE)",
           "Overlap (FALSE)",
           "Overlap (FALSE)",
           "Overlap (FALSE)",
           "Overlap (FALSE)",
           "Partial Overlap (TRUE)",
           "Partial Overlap (TRUE)",
           "Partial Overlap (TRUE)",
           "Partial Overlap (TRUE)",
           "Partial Overlap (TRUE)",
           "Partial Overlap (TRUE)"
          ],
          [
           "S/L",
           "S/M",
           "S/S",
           "L/L",
           "M/L",
           "M/M",
           "S/L",
           "S/M",
           "S/S",
           "L/L",
           "M/L",
           "M/M",
           "S/L",
           "S/M",
           "S/S"
          ]
         ]
        },
        {
         "name": "Intersection",
         "orientation": "h",
         "type": "bar",
         "x": [
          66.04599553955885,
          69.3087033178625,
          74.68812983745707,
          25.873944240186574,
          38.4813347753403,
          52.003753780469104,
          36.91164496142941,
          56.18975267414625,
          54.78724310733839,
          83.79487998034483,
          69.74926954353269,
          66.49418814038812,
          70.99482999920355,
          75.18390679011507,
          82.35311369967862
         ],
         "y": [
          [
           "Fully Inside Other (TRUE)",
           "Fully Inside Other (TRUE)",
           "Fully Inside Other (TRUE)",
           "Overlap (FALSE)",
           "Overlap (FALSE)",
           "Overlap (FALSE)",
           "Overlap (FALSE)",
           "Overlap (FALSE)",
           "Overlap (FALSE)",
           "Partial Overlap (TRUE)",
           "Partial Overlap (TRUE)",
           "Partial Overlap (TRUE)",
           "Partial Overlap (TRUE)",
           "Partial Overlap (TRUE)",
           "Partial Overlap (TRUE)"
          ],
          [
           "S/L",
           "S/M",
           "S/S",
           "L/L",
           "M/L",
           "M/M",
           "S/L",
           "S/M",
           "S/S",
           "L/L",
           "M/L",
           "M/M",
           "S/L",
           "S/M",
           "S/S"
          ]
         ]
        }
       ],
       "layout": {
        "barmode": "relative",
        "legend": {
         "x": 0.997,
         "xanchor": "right",
         "y": 1.2,
         "yanchor": "top"
        },
        "template": {
         "data": {
          "bar": [
           {
            "error_x": {
             "color": "#2a3f5f"
            },
            "error_y": {
             "color": "#2a3f5f"
            },
            "marker": {
             "line": {
              "color": "#E5ECF6",
              "width": 0.5
             },
             "pattern": {
              "fillmode": "overlay",
              "size": 10,
              "solidity": 0.2
             }
            },
            "type": "bar"
           }
          ],
          "barpolar": [
           {
            "marker": {
             "line": {
              "color": "#E5ECF6",
              "width": 0.5
             },
             "pattern": {
              "fillmode": "overlay",
              "size": 10,
              "solidity": 0.2
             }
            },
            "type": "barpolar"
           }
          ],
          "carpet": [
           {
            "aaxis": {
             "endlinecolor": "#2a3f5f",
             "gridcolor": "white",
             "linecolor": "white",
             "minorgridcolor": "white",
             "startlinecolor": "#2a3f5f"
            },
            "baxis": {
             "endlinecolor": "#2a3f5f",
             "gridcolor": "white",
             "linecolor": "white",
             "minorgridcolor": "white",
             "startlinecolor": "#2a3f5f"
            },
            "type": "carpet"
           }
          ],
          "choropleth": [
           {
            "colorbar": {
             "outlinewidth": 0,
             "ticks": ""
            },
            "type": "choropleth"
           }
          ],
          "contour": [
           {
            "colorbar": {
             "outlinewidth": 0,
             "ticks": ""
            },
            "colorscale": [
             [
              0,
              "#0d0887"
             ],
             [
              0.1111111111111111,
              "#46039f"
             ],
             [
              0.2222222222222222,
              "#7201a8"
             ],
             [
              0.3333333333333333,
              "#9c179e"
             ],
             [
              0.4444444444444444,
              "#bd3786"
             ],
             [
              0.5555555555555556,
              "#d8576b"
             ],
             [
              0.6666666666666666,
              "#ed7953"
             ],
             [
              0.7777777777777778,
              "#fb9f3a"
             ],
             [
              0.8888888888888888,
              "#fdca26"
             ],
             [
              1,
              "#f0f921"
             ]
            ],
            "type": "contour"
           }
          ],
          "contourcarpet": [
           {
            "colorbar": {
             "outlinewidth": 0,
             "ticks": ""
            },
            "type": "contourcarpet"
           }
          ],
          "heatmap": [
           {
            "colorbar": {
             "outlinewidth": 0,
             "ticks": ""
            },
            "colorscale": [
             [
              0,
              "#0d0887"
             ],
             [
              0.1111111111111111,
              "#46039f"
             ],
             [
              0.2222222222222222,
              "#7201a8"
             ],
             [
              0.3333333333333333,
              "#9c179e"
             ],
             [
              0.4444444444444444,
              "#bd3786"
             ],
             [
              0.5555555555555556,
              "#d8576b"
             ],
             [
              0.6666666666666666,
              "#ed7953"
             ],
             [
              0.7777777777777778,
              "#fb9f3a"
             ],
             [
              0.8888888888888888,
              "#fdca26"
             ],
             [
              1,
              "#f0f921"
             ]
            ],
            "type": "heatmap"
           }
          ],
          "heatmapgl": [
           {
            "colorbar": {
             "outlinewidth": 0,
             "ticks": ""
            },
            "colorscale": [
             [
              0,
              "#0d0887"
             ],
             [
              0.1111111111111111,
              "#46039f"
             ],
             [
              0.2222222222222222,
              "#7201a8"
             ],
             [
              0.3333333333333333,
              "#9c179e"
             ],
             [
              0.4444444444444444,
              "#bd3786"
             ],
             [
              0.5555555555555556,
              "#d8576b"
             ],
             [
              0.6666666666666666,
              "#ed7953"
             ],
             [
              0.7777777777777778,
              "#fb9f3a"
             ],
             [
              0.8888888888888888,
              "#fdca26"
             ],
             [
              1,
              "#f0f921"
             ]
            ],
            "type": "heatmapgl"
           }
          ],
          "histogram": [
           {
            "marker": {
             "pattern": {
              "fillmode": "overlay",
              "size": 10,
              "solidity": 0.2
             }
            },
            "type": "histogram"
           }
          ],
          "histogram2d": [
           {
            "colorbar": {
             "outlinewidth": 0,
             "ticks": ""
            },
            "colorscale": [
             [
              0,
              "#0d0887"
             ],
             [
              0.1111111111111111,
              "#46039f"
             ],
             [
              0.2222222222222222,
              "#7201a8"
             ],
             [
              0.3333333333333333,
              "#9c179e"
             ],
             [
              0.4444444444444444,
              "#bd3786"
             ],
             [
              0.5555555555555556,
              "#d8576b"
             ],
             [
              0.6666666666666666,
              "#ed7953"
             ],
             [
              0.7777777777777778,
              "#fb9f3a"
             ],
             [
              0.8888888888888888,
              "#fdca26"
             ],
             [
              1,
              "#f0f921"
             ]
            ],
            "type": "histogram2d"
           }
          ],
          "histogram2dcontour": [
           {
            "colorbar": {
             "outlinewidth": 0,
             "ticks": ""
            },
            "colorscale": [
             [
              0,
              "#0d0887"
             ],
             [
              0.1111111111111111,
              "#46039f"
             ],
             [
              0.2222222222222222,
              "#7201a8"
             ],
             [
              0.3333333333333333,
              "#9c179e"
             ],
             [
              0.4444444444444444,
              "#bd3786"
             ],
             [
              0.5555555555555556,
              "#d8576b"
             ],
             [
              0.6666666666666666,
              "#ed7953"
             ],
             [
              0.7777777777777778,
              "#fb9f3a"
             ],
             [
              0.8888888888888888,
              "#fdca26"
             ],
             [
              1,
              "#f0f921"
             ]
            ],
            "type": "histogram2dcontour"
           }
          ],
          "mesh3d": [
           {
            "colorbar": {
             "outlinewidth": 0,
             "ticks": ""
            },
            "type": "mesh3d"
           }
          ],
          "parcoords": [
           {
            "line": {
             "colorbar": {
              "outlinewidth": 0,
              "ticks": ""
             }
            },
            "type": "parcoords"
           }
          ],
          "pie": [
           {
            "automargin": true,
            "type": "pie"
           }
          ],
          "scatter": [
           {
            "fillpattern": {
             "fillmode": "overlay",
             "size": 10,
             "solidity": 0.2
            },
            "type": "scatter"
           }
          ],
          "scatter3d": [
           {
            "line": {
             "colorbar": {
              "outlinewidth": 0,
              "ticks": ""
             }
            },
            "marker": {
             "colorbar": {
              "outlinewidth": 0,
              "ticks": ""
             }
            },
            "type": "scatter3d"
           }
          ],
          "scattercarpet": [
           {
            "marker": {
             "colorbar": {
              "outlinewidth": 0,
              "ticks": ""
             }
            },
            "type": "scattercarpet"
           }
          ],
          "scattergeo": [
           {
            "marker": {
             "colorbar": {
              "outlinewidth": 0,
              "ticks": ""
             }
            },
            "type": "scattergeo"
           }
          ],
          "scattergl": [
           {
            "marker": {
             "colorbar": {
              "outlinewidth": 0,
              "ticks": ""
             }
            },
            "type": "scattergl"
           }
          ],
          "scattermapbox": [
           {
            "marker": {
             "colorbar": {
              "outlinewidth": 0,
              "ticks": ""
             }
            },
            "type": "scattermapbox"
           }
          ],
          "scatterpolar": [
           {
            "marker": {
             "colorbar": {
              "outlinewidth": 0,
              "ticks": ""
             }
            },
            "type": "scatterpolar"
           }
          ],
          "scatterpolargl": [
           {
            "marker": {
             "colorbar": {
              "outlinewidth": 0,
              "ticks": ""
             }
            },
            "type": "scatterpolargl"
           }
          ],
          "scatterternary": [
           {
            "marker": {
             "colorbar": {
              "outlinewidth": 0,
              "ticks": ""
             }
            },
            "type": "scatterternary"
           }
          ],
          "surface": [
           {
            "colorbar": {
             "outlinewidth": 0,
             "ticks": ""
            },
            "colorscale": [
             [
              0,
              "#0d0887"
             ],
             [
              0.1111111111111111,
              "#46039f"
             ],
             [
              0.2222222222222222,
              "#7201a8"
             ],
             [
              0.3333333333333333,
              "#9c179e"
             ],
             [
              0.4444444444444444,
              "#bd3786"
             ],
             [
              0.5555555555555556,
              "#d8576b"
             ],
             [
              0.6666666666666666,
              "#ed7953"
             ],
             [
              0.7777777777777778,
              "#fb9f3a"
             ],
             [
              0.8888888888888888,
              "#fdca26"
             ],
             [
              1,
              "#f0f921"
             ]
            ],
            "type": "surface"
           }
          ],
          "table": [
           {
            "cells": {
             "fill": {
              "color": "#EBF0F8"
             },
             "line": {
              "color": "white"
             }
            },
            "header": {
             "fill": {
              "color": "#C8D4E3"
             },
             "line": {
              "color": "white"
             }
            },
            "type": "table"
           }
          ]
         },
         "layout": {
          "annotationdefaults": {
           "arrowcolor": "#2a3f5f",
           "arrowhead": 0,
           "arrowwidth": 1
          },
          "autotypenumbers": "strict",
          "coloraxis": {
           "colorbar": {
            "outlinewidth": 0,
            "ticks": ""
           }
          },
          "colorscale": {
           "diverging": [
            [
             0,
             "#8e0152"
            ],
            [
             0.1,
             "#c51b7d"
            ],
            [
             0.2,
             "#de77ae"
            ],
            [
             0.3,
             "#f1b6da"
            ],
            [
             0.4,
             "#fde0ef"
            ],
            [
             0.5,
             "#f7f7f7"
            ],
            [
             0.6,
             "#e6f5d0"
            ],
            [
             0.7,
             "#b8e186"
            ],
            [
             0.8,
             "#7fbc41"
            ],
            [
             0.9,
             "#4d9221"
            ],
            [
             1,
             "#276419"
            ]
           ],
           "sequential": [
            [
             0,
             "#0d0887"
            ],
            [
             0.1111111111111111,
             "#46039f"
            ],
            [
             0.2222222222222222,
             "#7201a8"
            ],
            [
             0.3333333333333333,
             "#9c179e"
            ],
            [
             0.4444444444444444,
             "#bd3786"
            ],
            [
             0.5555555555555556,
             "#d8576b"
            ],
            [
             0.6666666666666666,
             "#ed7953"
            ],
            [
             0.7777777777777778,
             "#fb9f3a"
            ],
            [
             0.8888888888888888,
             "#fdca26"
            ],
            [
             1,
             "#f0f921"
            ]
           ],
           "sequentialminus": [
            [
             0,
             "#0d0887"
            ],
            [
             0.1111111111111111,
             "#46039f"
            ],
            [
             0.2222222222222222,
             "#7201a8"
            ],
            [
             0.3333333333333333,
             "#9c179e"
            ],
            [
             0.4444444444444444,
             "#bd3786"
            ],
            [
             0.5555555555555556,
             "#d8576b"
            ],
            [
             0.6666666666666666,
             "#ed7953"
            ],
            [
             0.7777777777777778,
             "#fb9f3a"
            ],
            [
             0.8888888888888888,
             "#fdca26"
            ],
            [
             1,
             "#f0f921"
            ]
           ]
          },
          "colorway": [
           "#636efa",
           "#EF553B",
           "#00cc96",
           "#ab63fa",
           "#FFA15A",
           "#19d3f3",
           "#FF6692",
           "#B6E880",
           "#FF97FF",
           "#FECB52"
          ],
          "font": {
           "color": "#2a3f5f"
          },
          "geo": {
           "bgcolor": "white",
           "lakecolor": "white",
           "landcolor": "#E5ECF6",
           "showlakes": true,
           "showland": true,
           "subunitcolor": "white"
          },
          "hoverlabel": {
           "align": "left"
          },
          "hovermode": "closest",
          "mapbox": {
           "style": "light"
          },
          "paper_bgcolor": "white",
          "plot_bgcolor": "#E5ECF6",
          "polar": {
           "angularaxis": {
            "gridcolor": "white",
            "linecolor": "white",
            "ticks": ""
           },
           "bgcolor": "#E5ECF6",
           "radialaxis": {
            "gridcolor": "white",
            "linecolor": "white",
            "ticks": ""
           }
          },
          "scene": {
           "xaxis": {
            "backgroundcolor": "#E5ECF6",
            "gridcolor": "white",
            "gridwidth": 2,
            "linecolor": "white",
            "showbackground": true,
            "ticks": "",
            "zerolinecolor": "white"
           },
           "yaxis": {
            "backgroundcolor": "#E5ECF6",
            "gridcolor": "white",
            "gridwidth": 2,
            "linecolor": "white",
            "showbackground": true,
            "ticks": "",
            "zerolinecolor": "white"
           },
           "zaxis": {
            "backgroundcolor": "#E5ECF6",
            "gridcolor": "white",
            "gridwidth": 2,
            "linecolor": "white",
            "showbackground": true,
            "ticks": "",
            "zerolinecolor": "white"
           }
          },
          "shapedefaults": {
           "line": {
            "color": "#2a3f5f"
           }
          },
          "ternary": {
           "aaxis": {
            "gridcolor": "white",
            "linecolor": "white",
            "ticks": ""
           },
           "baxis": {
            "gridcolor": "white",
            "linecolor": "white",
            "ticks": ""
           },
           "bgcolor": "#E5ECF6",
           "caxis": {
            "gridcolor": "white",
            "linecolor": "white",
            "ticks": ""
           }
          },
          "title": {
           "x": 0.05
          },
          "xaxis": {
           "automargin": true,
           "gridcolor": "white",
           "linecolor": "white",
           "ticks": "",
           "title": {
            "standoff": 15
           },
           "zerolinecolor": "white",
           "zerolinewidth": 2
          },
          "yaxis": {
           "automargin": true,
           "gridcolor": "white",
           "linecolor": "white",
           "ticks": "",
           "title": {
            "standoff": 15
           },
           "zerolinecolor": "white",
           "zerolinewidth": 2
          }
         }
        },
        "title": {
         "text": "Execution Time Distrubution for Intersection ",
         "x": 0.5
        },
        "xaxis": {
         "title": {
          "text": "Execution Time (%)"
         }
        },
        "yaxis": {
         "title": {
          "text": "Context + Geometry Size)"
         }
        }
       }
      }
     },
     "metadata": {},
     "output_type": "display_data"
    },
    {
     "data": {
      "application/vnd.plotly.v1+json": {
       "config": {
        "plotlyServerURL": "https://plot.ly"
       },
       "data": [
        {
         "name": "Decompression Stage",
         "orientation": "h",
         "type": "bar",
         "x": [
          72.61516267061279,
          57.835829469056634,
          35.34468010609095,
          97.80848096290627,
          90.20301989083607,
          72.90959254139376,
          95.0173649600649,
          78.81910262642465,
          58.44882143187984,
          90.52550828852648,
          91.43160640813333,
          84.15609866933873,
          90.49925156517435,
          79.38442700724381,
          56.325655797424524
         ],
         "y": [
          [
           "Fully Inside Other (TRUE)",
           "Fully Inside Other (TRUE)",
           "Fully Inside Other (TRUE)",
           "Overlap (FALSE)",
           "Overlap (FALSE)",
           "Overlap (FALSE)",
           "Overlap (FALSE)",
           "Overlap (FALSE)",
           "Overlap (FALSE)",
           "Partial Overlap (TRUE)",
           "Partial Overlap (TRUE)",
           "Partial Overlap (TRUE)",
           "Partial Overlap (TRUE)",
           "Partial Overlap (TRUE)",
           "Partial Overlap (TRUE)"
          ],
          [
           "S/L",
           "S/M",
           "S/S",
           "L/L",
           "M/L",
           "M/M",
           "S/L",
           "S/M",
           "S/S",
           "L/L",
           "M/L",
           "M/M",
           "S/L",
           "S/M",
           "S/S"
          ]
         ]
        },
        {
         "name": "IsIntersection",
         "orientation": "h",
         "type": "bar",
         "x": [
          27.384837329387217,
          42.164170530943366,
          64.65531989390905,
          2.191519037093724,
          9.796980109163913,
          27.09040745860624,
          4.982635039935096,
          21.180897373575352,
          41.55117856812016,
          9.47449171147352,
          8.568393591866664,
          15.843901330661268,
          9.500748434825654,
          20.61557299275618,
          43.674344202575476
         ],
         "y": [
          [
           "Fully Inside Other (TRUE)",
           "Fully Inside Other (TRUE)",
           "Fully Inside Other (TRUE)",
           "Overlap (FALSE)",
           "Overlap (FALSE)",
           "Overlap (FALSE)",
           "Overlap (FALSE)",
           "Overlap (FALSE)",
           "Overlap (FALSE)",
           "Partial Overlap (TRUE)",
           "Partial Overlap (TRUE)",
           "Partial Overlap (TRUE)",
           "Partial Overlap (TRUE)",
           "Partial Overlap (TRUE)",
           "Partial Overlap (TRUE)"
          ],
          [
           "S/L",
           "S/M",
           "S/S",
           "L/L",
           "M/L",
           "M/M",
           "S/L",
           "S/M",
           "S/S",
           "L/L",
           "M/L",
           "M/M",
           "S/L",
           "S/M",
           "S/S"
          ]
         ]
        }
       ],
       "layout": {
        "barmode": "relative",
        "legend": {
         "x": 0.997,
         "xanchor": "right",
         "y": 1.2,
         "yanchor": "top"
        },
        "template": {
         "data": {
          "bar": [
           {
            "error_x": {
             "color": "#2a3f5f"
            },
            "error_y": {
             "color": "#2a3f5f"
            },
            "marker": {
             "line": {
              "color": "#E5ECF6",
              "width": 0.5
             },
             "pattern": {
              "fillmode": "overlay",
              "size": 10,
              "solidity": 0.2
             }
            },
            "type": "bar"
           }
          ],
          "barpolar": [
           {
            "marker": {
             "line": {
              "color": "#E5ECF6",
              "width": 0.5
             },
             "pattern": {
              "fillmode": "overlay",
              "size": 10,
              "solidity": 0.2
             }
            },
            "type": "barpolar"
           }
          ],
          "carpet": [
           {
            "aaxis": {
             "endlinecolor": "#2a3f5f",
             "gridcolor": "white",
             "linecolor": "white",
             "minorgridcolor": "white",
             "startlinecolor": "#2a3f5f"
            },
            "baxis": {
             "endlinecolor": "#2a3f5f",
             "gridcolor": "white",
             "linecolor": "white",
             "minorgridcolor": "white",
             "startlinecolor": "#2a3f5f"
            },
            "type": "carpet"
           }
          ],
          "choropleth": [
           {
            "colorbar": {
             "outlinewidth": 0,
             "ticks": ""
            },
            "type": "choropleth"
           }
          ],
          "contour": [
           {
            "colorbar": {
             "outlinewidth": 0,
             "ticks": ""
            },
            "colorscale": [
             [
              0,
              "#0d0887"
             ],
             [
              0.1111111111111111,
              "#46039f"
             ],
             [
              0.2222222222222222,
              "#7201a8"
             ],
             [
              0.3333333333333333,
              "#9c179e"
             ],
             [
              0.4444444444444444,
              "#bd3786"
             ],
             [
              0.5555555555555556,
              "#d8576b"
             ],
             [
              0.6666666666666666,
              "#ed7953"
             ],
             [
              0.7777777777777778,
              "#fb9f3a"
             ],
             [
              0.8888888888888888,
              "#fdca26"
             ],
             [
              1,
              "#f0f921"
             ]
            ],
            "type": "contour"
           }
          ],
          "contourcarpet": [
           {
            "colorbar": {
             "outlinewidth": 0,
             "ticks": ""
            },
            "type": "contourcarpet"
           }
          ],
          "heatmap": [
           {
            "colorbar": {
             "outlinewidth": 0,
             "ticks": ""
            },
            "colorscale": [
             [
              0,
              "#0d0887"
             ],
             [
              0.1111111111111111,
              "#46039f"
             ],
             [
              0.2222222222222222,
              "#7201a8"
             ],
             [
              0.3333333333333333,
              "#9c179e"
             ],
             [
              0.4444444444444444,
              "#bd3786"
             ],
             [
              0.5555555555555556,
              "#d8576b"
             ],
             [
              0.6666666666666666,
              "#ed7953"
             ],
             [
              0.7777777777777778,
              "#fb9f3a"
             ],
             [
              0.8888888888888888,
              "#fdca26"
             ],
             [
              1,
              "#f0f921"
             ]
            ],
            "type": "heatmap"
           }
          ],
          "heatmapgl": [
           {
            "colorbar": {
             "outlinewidth": 0,
             "ticks": ""
            },
            "colorscale": [
             [
              0,
              "#0d0887"
             ],
             [
              0.1111111111111111,
              "#46039f"
             ],
             [
              0.2222222222222222,
              "#7201a8"
             ],
             [
              0.3333333333333333,
              "#9c179e"
             ],
             [
              0.4444444444444444,
              "#bd3786"
             ],
             [
              0.5555555555555556,
              "#d8576b"
             ],
             [
              0.6666666666666666,
              "#ed7953"
             ],
             [
              0.7777777777777778,
              "#fb9f3a"
             ],
             [
              0.8888888888888888,
              "#fdca26"
             ],
             [
              1,
              "#f0f921"
             ]
            ],
            "type": "heatmapgl"
           }
          ],
          "histogram": [
           {
            "marker": {
             "pattern": {
              "fillmode": "overlay",
              "size": 10,
              "solidity": 0.2
             }
            },
            "type": "histogram"
           }
          ],
          "histogram2d": [
           {
            "colorbar": {
             "outlinewidth": 0,
             "ticks": ""
            },
            "colorscale": [
             [
              0,
              "#0d0887"
             ],
             [
              0.1111111111111111,
              "#46039f"
             ],
             [
              0.2222222222222222,
              "#7201a8"
             ],
             [
              0.3333333333333333,
              "#9c179e"
             ],
             [
              0.4444444444444444,
              "#bd3786"
             ],
             [
              0.5555555555555556,
              "#d8576b"
             ],
             [
              0.6666666666666666,
              "#ed7953"
             ],
             [
              0.7777777777777778,
              "#fb9f3a"
             ],
             [
              0.8888888888888888,
              "#fdca26"
             ],
             [
              1,
              "#f0f921"
             ]
            ],
            "type": "histogram2d"
           }
          ],
          "histogram2dcontour": [
           {
            "colorbar": {
             "outlinewidth": 0,
             "ticks": ""
            },
            "colorscale": [
             [
              0,
              "#0d0887"
             ],
             [
              0.1111111111111111,
              "#46039f"
             ],
             [
              0.2222222222222222,
              "#7201a8"
             ],
             [
              0.3333333333333333,
              "#9c179e"
             ],
             [
              0.4444444444444444,
              "#bd3786"
             ],
             [
              0.5555555555555556,
              "#d8576b"
             ],
             [
              0.6666666666666666,
              "#ed7953"
             ],
             [
              0.7777777777777778,
              "#fb9f3a"
             ],
             [
              0.8888888888888888,
              "#fdca26"
             ],
             [
              1,
              "#f0f921"
             ]
            ],
            "type": "histogram2dcontour"
           }
          ],
          "mesh3d": [
           {
            "colorbar": {
             "outlinewidth": 0,
             "ticks": ""
            },
            "type": "mesh3d"
           }
          ],
          "parcoords": [
           {
            "line": {
             "colorbar": {
              "outlinewidth": 0,
              "ticks": ""
             }
            },
            "type": "parcoords"
           }
          ],
          "pie": [
           {
            "automargin": true,
            "type": "pie"
           }
          ],
          "scatter": [
           {
            "fillpattern": {
             "fillmode": "overlay",
             "size": 10,
             "solidity": 0.2
            },
            "type": "scatter"
           }
          ],
          "scatter3d": [
           {
            "line": {
             "colorbar": {
              "outlinewidth": 0,
              "ticks": ""
             }
            },
            "marker": {
             "colorbar": {
              "outlinewidth": 0,
              "ticks": ""
             }
            },
            "type": "scatter3d"
           }
          ],
          "scattercarpet": [
           {
            "marker": {
             "colorbar": {
              "outlinewidth": 0,
              "ticks": ""
             }
            },
            "type": "scattercarpet"
           }
          ],
          "scattergeo": [
           {
            "marker": {
             "colorbar": {
              "outlinewidth": 0,
              "ticks": ""
             }
            },
            "type": "scattergeo"
           }
          ],
          "scattergl": [
           {
            "marker": {
             "colorbar": {
              "outlinewidth": 0,
              "ticks": ""
             }
            },
            "type": "scattergl"
           }
          ],
          "scattermapbox": [
           {
            "marker": {
             "colorbar": {
              "outlinewidth": 0,
              "ticks": ""
             }
            },
            "type": "scattermapbox"
           }
          ],
          "scatterpolar": [
           {
            "marker": {
             "colorbar": {
              "outlinewidth": 0,
              "ticks": ""
             }
            },
            "type": "scatterpolar"
           }
          ],
          "scatterpolargl": [
           {
            "marker": {
             "colorbar": {
              "outlinewidth": 0,
              "ticks": ""
             }
            },
            "type": "scatterpolargl"
           }
          ],
          "scatterternary": [
           {
            "marker": {
             "colorbar": {
              "outlinewidth": 0,
              "ticks": ""
             }
            },
            "type": "scatterternary"
           }
          ],
          "surface": [
           {
            "colorbar": {
             "outlinewidth": 0,
             "ticks": ""
            },
            "colorscale": [
             [
              0,
              "#0d0887"
             ],
             [
              0.1111111111111111,
              "#46039f"
             ],
             [
              0.2222222222222222,
              "#7201a8"
             ],
             [
              0.3333333333333333,
              "#9c179e"
             ],
             [
              0.4444444444444444,
              "#bd3786"
             ],
             [
              0.5555555555555556,
              "#d8576b"
             ],
             [
              0.6666666666666666,
              "#ed7953"
             ],
             [
              0.7777777777777778,
              "#fb9f3a"
             ],
             [
              0.8888888888888888,
              "#fdca26"
             ],
             [
              1,
              "#f0f921"
             ]
            ],
            "type": "surface"
           }
          ],
          "table": [
           {
            "cells": {
             "fill": {
              "color": "#EBF0F8"
             },
             "line": {
              "color": "white"
             }
            },
            "header": {
             "fill": {
              "color": "#C8D4E3"
             },
             "line": {
              "color": "white"
             }
            },
            "type": "table"
           }
          ]
         },
         "layout": {
          "annotationdefaults": {
           "arrowcolor": "#2a3f5f",
           "arrowhead": 0,
           "arrowwidth": 1
          },
          "autotypenumbers": "strict",
          "coloraxis": {
           "colorbar": {
            "outlinewidth": 0,
            "ticks": ""
           }
          },
          "colorscale": {
           "diverging": [
            [
             0,
             "#8e0152"
            ],
            [
             0.1,
             "#c51b7d"
            ],
            [
             0.2,
             "#de77ae"
            ],
            [
             0.3,
             "#f1b6da"
            ],
            [
             0.4,
             "#fde0ef"
            ],
            [
             0.5,
             "#f7f7f7"
            ],
            [
             0.6,
             "#e6f5d0"
            ],
            [
             0.7,
             "#b8e186"
            ],
            [
             0.8,
             "#7fbc41"
            ],
            [
             0.9,
             "#4d9221"
            ],
            [
             1,
             "#276419"
            ]
           ],
           "sequential": [
            [
             0,
             "#0d0887"
            ],
            [
             0.1111111111111111,
             "#46039f"
            ],
            [
             0.2222222222222222,
             "#7201a8"
            ],
            [
             0.3333333333333333,
             "#9c179e"
            ],
            [
             0.4444444444444444,
             "#bd3786"
            ],
            [
             0.5555555555555556,
             "#d8576b"
            ],
            [
             0.6666666666666666,
             "#ed7953"
            ],
            [
             0.7777777777777778,
             "#fb9f3a"
            ],
            [
             0.8888888888888888,
             "#fdca26"
            ],
            [
             1,
             "#f0f921"
            ]
           ],
           "sequentialminus": [
            [
             0,
             "#0d0887"
            ],
            [
             0.1111111111111111,
             "#46039f"
            ],
            [
             0.2222222222222222,
             "#7201a8"
            ],
            [
             0.3333333333333333,
             "#9c179e"
            ],
            [
             0.4444444444444444,
             "#bd3786"
            ],
            [
             0.5555555555555556,
             "#d8576b"
            ],
            [
             0.6666666666666666,
             "#ed7953"
            ],
            [
             0.7777777777777778,
             "#fb9f3a"
            ],
            [
             0.8888888888888888,
             "#fdca26"
            ],
            [
             1,
             "#f0f921"
            ]
           ]
          },
          "colorway": [
           "#636efa",
           "#EF553B",
           "#00cc96",
           "#ab63fa",
           "#FFA15A",
           "#19d3f3",
           "#FF6692",
           "#B6E880",
           "#FF97FF",
           "#FECB52"
          ],
          "font": {
           "color": "#2a3f5f"
          },
          "geo": {
           "bgcolor": "white",
           "lakecolor": "white",
           "landcolor": "#E5ECF6",
           "showlakes": true,
           "showland": true,
           "subunitcolor": "white"
          },
          "hoverlabel": {
           "align": "left"
          },
          "hovermode": "closest",
          "mapbox": {
           "style": "light"
          },
          "paper_bgcolor": "white",
          "plot_bgcolor": "#E5ECF6",
          "polar": {
           "angularaxis": {
            "gridcolor": "white",
            "linecolor": "white",
            "ticks": ""
           },
           "bgcolor": "#E5ECF6",
           "radialaxis": {
            "gridcolor": "white",
            "linecolor": "white",
            "ticks": ""
           }
          },
          "scene": {
           "xaxis": {
            "backgroundcolor": "#E5ECF6",
            "gridcolor": "white",
            "gridwidth": 2,
            "linecolor": "white",
            "showbackground": true,
            "ticks": "",
            "zerolinecolor": "white"
           },
           "yaxis": {
            "backgroundcolor": "#E5ECF6",
            "gridcolor": "white",
            "gridwidth": 2,
            "linecolor": "white",
            "showbackground": true,
            "ticks": "",
            "zerolinecolor": "white"
           },
           "zaxis": {
            "backgroundcolor": "#E5ECF6",
            "gridcolor": "white",
            "gridwidth": 2,
            "linecolor": "white",
            "showbackground": true,
            "ticks": "",
            "zerolinecolor": "white"
           }
          },
          "shapedefaults": {
           "line": {
            "color": "#2a3f5f"
           }
          },
          "ternary": {
           "aaxis": {
            "gridcolor": "white",
            "linecolor": "white",
            "ticks": ""
           },
           "baxis": {
            "gridcolor": "white",
            "linecolor": "white",
            "ticks": ""
           },
           "bgcolor": "#E5ECF6",
           "caxis": {
            "gridcolor": "white",
            "linecolor": "white",
            "ticks": ""
           }
          },
          "title": {
           "x": 0.05
          },
          "xaxis": {
           "automargin": true,
           "gridcolor": "white",
           "linecolor": "white",
           "ticks": "",
           "title": {
            "standoff": 15
           },
           "zerolinecolor": "white",
           "zerolinewidth": 2
          },
          "yaxis": {
           "automargin": true,
           "gridcolor": "white",
           "linecolor": "white",
           "ticks": "",
           "title": {
            "standoff": 15
           },
           "zerolinecolor": "white",
           "zerolinewidth": 2
          }
         }
        },
        "title": {
         "text": "Execution Time Distrubution for IsIntersection (Baseline)",
         "x": 0.5
        },
        "xaxis": {
         "title": {
          "text": "Execution Time (%)"
         }
        },
        "yaxis": {
         "title": {
          "text": "Context + Geometry Size)"
         }
        }
       }
      }
     },
     "metadata": {},
     "output_type": "display_data"
    },
    {
     "data": {
      "application/vnd.plotly.v1+json": {
       "config": {
        "plotlyServerURL": "https://plot.ly"
       },
       "data": [
        {
         "name": "Decompression Stage",
         "orientation": "h",
         "type": "bar",
         "x": [
          41.49885817113433,
          35.9916535732601,
          29.085353552309186,
          83.26189145135852,
          70.89255922965658,
          52.84827731119207,
          75.38918943180687,
          52.531203198116216,
          52.2934483533756,
          68.77932210007906,
          65.28266202002031,
          63.07378967002764,
          64.21128056854171,
          56.92809976168261,
          50.86216744866068
         ],
         "y": [
          [
           "Fully Inside Other (TRUE)",
           "Fully Inside Other (TRUE)",
           "Fully Inside Other (TRUE)",
           "Overlap (FALSE)",
           "Overlap (FALSE)",
           "Overlap (FALSE)",
           "Overlap (FALSE)",
           "Overlap (FALSE)",
           "Overlap (FALSE)",
           "Partial Overlap (TRUE)",
           "Partial Overlap (TRUE)",
           "Partial Overlap (TRUE)",
           "Partial Overlap (TRUE)",
           "Partial Overlap (TRUE)",
           "Partial Overlap (TRUE)"
          ],
          [
           "S/L",
           "S/M",
           "S/S",
           "L/L",
           "M/L",
           "M/M",
           "S/L",
           "S/M",
           "S/S",
           "L/L",
           "M/L",
           "M/M",
           "S/L",
           "S/M",
           "S/S"
          ]
         ]
        },
        {
         "name": "IsIntersection",
         "orientation": "h",
         "type": "bar",
         "x": [
          58.50114182886567,
          64.0083464267399,
          70.91464644769081,
          16.73810854864147,
          29.107440770343416,
          47.15172268880793,
          24.610810568193138,
          47.468796801883784,
          47.7065516466244,
          31.220677899920933,
          34.717337979979696,
          36.92621032997236,
          35.78871943145828,
          43.07190023831739,
          49.13783255133932
         ],
         "y": [
          [
           "Fully Inside Other (TRUE)",
           "Fully Inside Other (TRUE)",
           "Fully Inside Other (TRUE)",
           "Overlap (FALSE)",
           "Overlap (FALSE)",
           "Overlap (FALSE)",
           "Overlap (FALSE)",
           "Overlap (FALSE)",
           "Overlap (FALSE)",
           "Partial Overlap (TRUE)",
           "Partial Overlap (TRUE)",
           "Partial Overlap (TRUE)",
           "Partial Overlap (TRUE)",
           "Partial Overlap (TRUE)",
           "Partial Overlap (TRUE)"
          ],
          [
           "S/L",
           "S/M",
           "S/S",
           "L/L",
           "M/L",
           "M/M",
           "S/L",
           "S/M",
           "S/S",
           "L/L",
           "M/L",
           "M/M",
           "S/L",
           "S/M",
           "S/S"
          ]
         ]
        }
       ],
       "layout": {
        "barmode": "relative",
        "legend": {
         "x": 0.997,
         "xanchor": "right",
         "y": 1.2,
         "yanchor": "top"
        },
        "template": {
         "data": {
          "bar": [
           {
            "error_x": {
             "color": "#2a3f5f"
            },
            "error_y": {
             "color": "#2a3f5f"
            },
            "marker": {
             "line": {
              "color": "#E5ECF6",
              "width": 0.5
             },
             "pattern": {
              "fillmode": "overlay",
              "size": 10,
              "solidity": 0.2
             }
            },
            "type": "bar"
           }
          ],
          "barpolar": [
           {
            "marker": {
             "line": {
              "color": "#E5ECF6",
              "width": 0.5
             },
             "pattern": {
              "fillmode": "overlay",
              "size": 10,
              "solidity": 0.2
             }
            },
            "type": "barpolar"
           }
          ],
          "carpet": [
           {
            "aaxis": {
             "endlinecolor": "#2a3f5f",
             "gridcolor": "white",
             "linecolor": "white",
             "minorgridcolor": "white",
             "startlinecolor": "#2a3f5f"
            },
            "baxis": {
             "endlinecolor": "#2a3f5f",
             "gridcolor": "white",
             "linecolor": "white",
             "minorgridcolor": "white",
             "startlinecolor": "#2a3f5f"
            },
            "type": "carpet"
           }
          ],
          "choropleth": [
           {
            "colorbar": {
             "outlinewidth": 0,
             "ticks": ""
            },
            "type": "choropleth"
           }
          ],
          "contour": [
           {
            "colorbar": {
             "outlinewidth": 0,
             "ticks": ""
            },
            "colorscale": [
             [
              0,
              "#0d0887"
             ],
             [
              0.1111111111111111,
              "#46039f"
             ],
             [
              0.2222222222222222,
              "#7201a8"
             ],
             [
              0.3333333333333333,
              "#9c179e"
             ],
             [
              0.4444444444444444,
              "#bd3786"
             ],
             [
              0.5555555555555556,
              "#d8576b"
             ],
             [
              0.6666666666666666,
              "#ed7953"
             ],
             [
              0.7777777777777778,
              "#fb9f3a"
             ],
             [
              0.8888888888888888,
              "#fdca26"
             ],
             [
              1,
              "#f0f921"
             ]
            ],
            "type": "contour"
           }
          ],
          "contourcarpet": [
           {
            "colorbar": {
             "outlinewidth": 0,
             "ticks": ""
            },
            "type": "contourcarpet"
           }
          ],
          "heatmap": [
           {
            "colorbar": {
             "outlinewidth": 0,
             "ticks": ""
            },
            "colorscale": [
             [
              0,
              "#0d0887"
             ],
             [
              0.1111111111111111,
              "#46039f"
             ],
             [
              0.2222222222222222,
              "#7201a8"
             ],
             [
              0.3333333333333333,
              "#9c179e"
             ],
             [
              0.4444444444444444,
              "#bd3786"
             ],
             [
              0.5555555555555556,
              "#d8576b"
             ],
             [
              0.6666666666666666,
              "#ed7953"
             ],
             [
              0.7777777777777778,
              "#fb9f3a"
             ],
             [
              0.8888888888888888,
              "#fdca26"
             ],
             [
              1,
              "#f0f921"
             ]
            ],
            "type": "heatmap"
           }
          ],
          "heatmapgl": [
           {
            "colorbar": {
             "outlinewidth": 0,
             "ticks": ""
            },
            "colorscale": [
             [
              0,
              "#0d0887"
             ],
             [
              0.1111111111111111,
              "#46039f"
             ],
             [
              0.2222222222222222,
              "#7201a8"
             ],
             [
              0.3333333333333333,
              "#9c179e"
             ],
             [
              0.4444444444444444,
              "#bd3786"
             ],
             [
              0.5555555555555556,
              "#d8576b"
             ],
             [
              0.6666666666666666,
              "#ed7953"
             ],
             [
              0.7777777777777778,
              "#fb9f3a"
             ],
             [
              0.8888888888888888,
              "#fdca26"
             ],
             [
              1,
              "#f0f921"
             ]
            ],
            "type": "heatmapgl"
           }
          ],
          "histogram": [
           {
            "marker": {
             "pattern": {
              "fillmode": "overlay",
              "size": 10,
              "solidity": 0.2
             }
            },
            "type": "histogram"
           }
          ],
          "histogram2d": [
           {
            "colorbar": {
             "outlinewidth": 0,
             "ticks": ""
            },
            "colorscale": [
             [
              0,
              "#0d0887"
             ],
             [
              0.1111111111111111,
              "#46039f"
             ],
             [
              0.2222222222222222,
              "#7201a8"
             ],
             [
              0.3333333333333333,
              "#9c179e"
             ],
             [
              0.4444444444444444,
              "#bd3786"
             ],
             [
              0.5555555555555556,
              "#d8576b"
             ],
             [
              0.6666666666666666,
              "#ed7953"
             ],
             [
              0.7777777777777778,
              "#fb9f3a"
             ],
             [
              0.8888888888888888,
              "#fdca26"
             ],
             [
              1,
              "#f0f921"
             ]
            ],
            "type": "histogram2d"
           }
          ],
          "histogram2dcontour": [
           {
            "colorbar": {
             "outlinewidth": 0,
             "ticks": ""
            },
            "colorscale": [
             [
              0,
              "#0d0887"
             ],
             [
              0.1111111111111111,
              "#46039f"
             ],
             [
              0.2222222222222222,
              "#7201a8"
             ],
             [
              0.3333333333333333,
              "#9c179e"
             ],
             [
              0.4444444444444444,
              "#bd3786"
             ],
             [
              0.5555555555555556,
              "#d8576b"
             ],
             [
              0.6666666666666666,
              "#ed7953"
             ],
             [
              0.7777777777777778,
              "#fb9f3a"
             ],
             [
              0.8888888888888888,
              "#fdca26"
             ],
             [
              1,
              "#f0f921"
             ]
            ],
            "type": "histogram2dcontour"
           }
          ],
          "mesh3d": [
           {
            "colorbar": {
             "outlinewidth": 0,
             "ticks": ""
            },
            "type": "mesh3d"
           }
          ],
          "parcoords": [
           {
            "line": {
             "colorbar": {
              "outlinewidth": 0,
              "ticks": ""
             }
            },
            "type": "parcoords"
           }
          ],
          "pie": [
           {
            "automargin": true,
            "type": "pie"
           }
          ],
          "scatter": [
           {
            "fillpattern": {
             "fillmode": "overlay",
             "size": 10,
             "solidity": 0.2
            },
            "type": "scatter"
           }
          ],
          "scatter3d": [
           {
            "line": {
             "colorbar": {
              "outlinewidth": 0,
              "ticks": ""
             }
            },
            "marker": {
             "colorbar": {
              "outlinewidth": 0,
              "ticks": ""
             }
            },
            "type": "scatter3d"
           }
          ],
          "scattercarpet": [
           {
            "marker": {
             "colorbar": {
              "outlinewidth": 0,
              "ticks": ""
             }
            },
            "type": "scattercarpet"
           }
          ],
          "scattergeo": [
           {
            "marker": {
             "colorbar": {
              "outlinewidth": 0,
              "ticks": ""
             }
            },
            "type": "scattergeo"
           }
          ],
          "scattergl": [
           {
            "marker": {
             "colorbar": {
              "outlinewidth": 0,
              "ticks": ""
             }
            },
            "type": "scattergl"
           }
          ],
          "scattermapbox": [
           {
            "marker": {
             "colorbar": {
              "outlinewidth": 0,
              "ticks": ""
             }
            },
            "type": "scattermapbox"
           }
          ],
          "scatterpolar": [
           {
            "marker": {
             "colorbar": {
              "outlinewidth": 0,
              "ticks": ""
             }
            },
            "type": "scatterpolar"
           }
          ],
          "scatterpolargl": [
           {
            "marker": {
             "colorbar": {
              "outlinewidth": 0,
              "ticks": ""
             }
            },
            "type": "scatterpolargl"
           }
          ],
          "scatterternary": [
           {
            "marker": {
             "colorbar": {
              "outlinewidth": 0,
              "ticks": ""
             }
            },
            "type": "scatterternary"
           }
          ],
          "surface": [
           {
            "colorbar": {
             "outlinewidth": 0,
             "ticks": ""
            },
            "colorscale": [
             [
              0,
              "#0d0887"
             ],
             [
              0.1111111111111111,
              "#46039f"
             ],
             [
              0.2222222222222222,
              "#7201a8"
             ],
             [
              0.3333333333333333,
              "#9c179e"
             ],
             [
              0.4444444444444444,
              "#bd3786"
             ],
             [
              0.5555555555555556,
              "#d8576b"
             ],
             [
              0.6666666666666666,
              "#ed7953"
             ],
             [
              0.7777777777777778,
              "#fb9f3a"
             ],
             [
              0.8888888888888888,
              "#fdca26"
             ],
             [
              1,
              "#f0f921"
             ]
            ],
            "type": "surface"
           }
          ],
          "table": [
           {
            "cells": {
             "fill": {
              "color": "#EBF0F8"
             },
             "line": {
              "color": "white"
             }
            },
            "header": {
             "fill": {
              "color": "#C8D4E3"
             },
             "line": {
              "color": "white"
             }
            },
            "type": "table"
           }
          ]
         },
         "layout": {
          "annotationdefaults": {
           "arrowcolor": "#2a3f5f",
           "arrowhead": 0,
           "arrowwidth": 1
          },
          "autotypenumbers": "strict",
          "coloraxis": {
           "colorbar": {
            "outlinewidth": 0,
            "ticks": ""
           }
          },
          "colorscale": {
           "diverging": [
            [
             0,
             "#8e0152"
            ],
            [
             0.1,
             "#c51b7d"
            ],
            [
             0.2,
             "#de77ae"
            ],
            [
             0.3,
             "#f1b6da"
            ],
            [
             0.4,
             "#fde0ef"
            ],
            [
             0.5,
             "#f7f7f7"
            ],
            [
             0.6,
             "#e6f5d0"
            ],
            [
             0.7,
             "#b8e186"
            ],
            [
             0.8,
             "#7fbc41"
            ],
            [
             0.9,
             "#4d9221"
            ],
            [
             1,
             "#276419"
            ]
           ],
           "sequential": [
            [
             0,
             "#0d0887"
            ],
            [
             0.1111111111111111,
             "#46039f"
            ],
            [
             0.2222222222222222,
             "#7201a8"
            ],
            [
             0.3333333333333333,
             "#9c179e"
            ],
            [
             0.4444444444444444,
             "#bd3786"
            ],
            [
             0.5555555555555556,
             "#d8576b"
            ],
            [
             0.6666666666666666,
             "#ed7953"
            ],
            [
             0.7777777777777778,
             "#fb9f3a"
            ],
            [
             0.8888888888888888,
             "#fdca26"
            ],
            [
             1,
             "#f0f921"
            ]
           ],
           "sequentialminus": [
            [
             0,
             "#0d0887"
            ],
            [
             0.1111111111111111,
             "#46039f"
            ],
            [
             0.2222222222222222,
             "#7201a8"
            ],
            [
             0.3333333333333333,
             "#9c179e"
            ],
            [
             0.4444444444444444,
             "#bd3786"
            ],
            [
             0.5555555555555556,
             "#d8576b"
            ],
            [
             0.6666666666666666,
             "#ed7953"
            ],
            [
             0.7777777777777778,
             "#fb9f3a"
            ],
            [
             0.8888888888888888,
             "#fdca26"
            ],
            [
             1,
             "#f0f921"
            ]
           ]
          },
          "colorway": [
           "#636efa",
           "#EF553B",
           "#00cc96",
           "#ab63fa",
           "#FFA15A",
           "#19d3f3",
           "#FF6692",
           "#B6E880",
           "#FF97FF",
           "#FECB52"
          ],
          "font": {
           "color": "#2a3f5f"
          },
          "geo": {
           "bgcolor": "white",
           "lakecolor": "white",
           "landcolor": "#E5ECF6",
           "showlakes": true,
           "showland": true,
           "subunitcolor": "white"
          },
          "hoverlabel": {
           "align": "left"
          },
          "hovermode": "closest",
          "mapbox": {
           "style": "light"
          },
          "paper_bgcolor": "white",
          "plot_bgcolor": "#E5ECF6",
          "polar": {
           "angularaxis": {
            "gridcolor": "white",
            "linecolor": "white",
            "ticks": ""
           },
           "bgcolor": "#E5ECF6",
           "radialaxis": {
            "gridcolor": "white",
            "linecolor": "white",
            "ticks": ""
           }
          },
          "scene": {
           "xaxis": {
            "backgroundcolor": "#E5ECF6",
            "gridcolor": "white",
            "gridwidth": 2,
            "linecolor": "white",
            "showbackground": true,
            "ticks": "",
            "zerolinecolor": "white"
           },
           "yaxis": {
            "backgroundcolor": "#E5ECF6",
            "gridcolor": "white",
            "gridwidth": 2,
            "linecolor": "white",
            "showbackground": true,
            "ticks": "",
            "zerolinecolor": "white"
           },
           "zaxis": {
            "backgroundcolor": "#E5ECF6",
            "gridcolor": "white",
            "gridwidth": 2,
            "linecolor": "white",
            "showbackground": true,
            "ticks": "",
            "zerolinecolor": "white"
           }
          },
          "shapedefaults": {
           "line": {
            "color": "#2a3f5f"
           }
          },
          "ternary": {
           "aaxis": {
            "gridcolor": "white",
            "linecolor": "white",
            "ticks": ""
           },
           "baxis": {
            "gridcolor": "white",
            "linecolor": "white",
            "ticks": ""
           },
           "bgcolor": "#E5ECF6",
           "caxis": {
            "gridcolor": "white",
            "linecolor": "white",
            "ticks": ""
           }
          },
          "title": {
           "x": 0.05
          },
          "xaxis": {
           "automargin": true,
           "gridcolor": "white",
           "linecolor": "white",
           "ticks": "",
           "title": {
            "standoff": 15
           },
           "zerolinecolor": "white",
           "zerolinewidth": 2
          },
          "yaxis": {
           "automargin": true,
           "gridcolor": "white",
           "linecolor": "white",
           "ticks": "",
           "title": {
            "standoff": 15
           },
           "zerolinecolor": "white",
           "zerolinewidth": 2
          }
         }
        },
        "title": {
         "text": "Execution Time Distrubution for IsIntersection ",
         "x": 0.5
        },
        "xaxis": {
         "title": {
          "text": "Execution Time (%)"
         }
        },
        "yaxis": {
         "title": {
          "text": "Context + Geometry Size)"
         }
        }
       }
      }
     },
     "metadata": {},
     "output_type": "display_data"
    }
   ],
   "source": [
    "\n",
    "plot_partial_decomp_frac(partial_frac_df, is_predicate=False, is_baseline=True)\n",
    "plot_partial_decomp_frac(partial_frac_df, is_predicate=False, is_baseline=False)\n",
    "plot_partial_decomp_frac(partial_frac_df, is_predicate=True, is_baseline=True)\n",
    "plot_partial_decomp_frac(partial_frac_df, is_predicate=True, is_baseline=False)"
   ]
  },
  {
   "attachments": {},
   "cell_type": "markdown",
   "metadata": {},
   "source": [
    "#### MAX_NBR_DELTAS Analysis"
   ]
  }
 ],
 "metadata": {
  "kernelspec": {
   "display_name": "Python 3",
   "language": "python",
   "name": "python3"
  },
  "language_info": {
   "codemirror_mode": {
    "name": "ipython",
    "version": 3
   },
   "file_extension": ".py",
   "mimetype": "text/x-python",
   "name": "python",
   "nbconvert_exporter": "python",
   "pygments_lexer": "ipython3",
   "version": "3.11.1"
  },
  "orig_nbformat": 4,
  "vscode": {
   "interpreter": {
    "hash": "aee8b7b246df8f9039afb4144a1f6fd8d2ca17a180786b69acc140d282b71a49"
   }
  }
 },
 "nbformat": 4,
 "nbformat_minor": 2
}
