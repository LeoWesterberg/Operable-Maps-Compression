{
 "cells": [
  {
   "attachments": {},
   "cell_type": "markdown",
   "metadata": {},
   "source": [
    "#### Imports"
   ]
  },
  {
   "cell_type": "code",
   "execution_count": 1,
   "metadata": {},
   "outputs": [],
   "source": [
    "import numpy as np\n",
    "import shapely\n",
    "import bisect\n",
    "import shapely.wkt\n",
    "import matplotlib.pyplot as plt\n",
    "import math\n",
    "import geopandas as gpd\n",
    "import json\n",
    "import pandas as pd\n",
    "import seaborn as sns\n",
    "from enum import Enum\n",
    "import plotly.graph_objects as go\n",
    "from plotly.subplots import make_subplots\n",
    "import plotly.express as px\n",
    "\n",
    "import intersection.first_bin_search\n",
    "import intersection.chunk_bbox_intersection\n",
    "from bench_utils import parse_intersection_data \n",
    "common_bbox = intersection.chunk_bbox_intersection.common_bbox\n",
    "chunk_bbox_is_intersecting = intersection.chunk_bbox_intersection.is_intersecting\n",
    "chunk_bbox_intersection = intersection.chunk_bbox_intersection.intersection\n",
    "\n",
    "\n",
    "\n",
    "from intersection.plotting import *\n",
    "import algos.fpd_extended_lib.cfg as cfg\n",
    "from algos.alg_fpd_extended import FpdExtended\n",
    "\n",
    "\n",
    "pd.options.mode.chained_assignment = None  # default='warn'"
   ]
  },
  {
   "attachments": {},
   "cell_type": "markdown",
   "metadata": {},
   "source": [
    "#### Import data"
   ]
  },
  {
   "cell_type": "code",
   "execution_count": 44,
   "metadata": {},
   "outputs": [],
   "source": [
    "fpd = FpdExtended()\n",
    "\n",
    "# Geometries\n",
    "manual_data, _ = parse_intersection_data(\"manual\")\n",
    "special_cases, _ = parse_intersection_data(\"latest_export.json\", strip_precision=True)\n",
    "world_data, world_data_stats = parse_intersection_data(\"world.json\",100, strip_precision=True)\n",
    "lund_data, lund_data_stats = parse_intersection_data(\"lund.json\",1000)\n",
    "sweden_data, sweden_data_stats = parse_intersection_data(\"sweden-places-a.json\",100)\n",
    "new_york_data, new_york_data_stats = parse_intersection_data(\"new-york-natural.json\",1000)\n",
    "waterways_data, waterways_data_stats = parse_intersection_data(\"nord-est-waterways.json\",1000)\n",
    "\n",
    "datasets = [\n",
    "    (manual_data, 3),\n",
    "    (special_cases, 3),\n",
    "    (world_data, 15),\n",
    "    (lund_data, 3),\n",
    "    (sweden_data, 15),\n",
    "    (new_york_data, 10),\n",
    "    (waterways_data, 3)\n",
    "]\n"
   ]
  },
  {
   "attachments": {},
   "cell_type": "markdown",
   "metadata": {},
   "source": [
    "#### Constants"
   ]
  },
  {
   "cell_type": "code",
   "execution_count": 45,
   "metadata": {},
   "outputs": [],
   "source": [
    "# Number of total iterations = NBR_ITER * N * number_of_datasets\n",
    "NBR_ITER = -1 # Number of iterations for each dataset\n",
    "N = 1 # Number of times to recalculate each geometry for reliable mean value\n",
    "\n",
    "# Max DELTA_SIZE_VALUE in MAX_NUM_DELTAS Analysis\n",
    "MAX_DELTA_SIZE = 100\n",
    "\n",
    "#Geometry classification sizes\n",
    "MEDIUM_THRESHOLD = 50\n",
    "LARGE_THRESHOLD = 100\n",
    "\n",
    "\n",
    "SAVE_DFS = True\n",
    "USE_EXISTING_DF = True"
   ]
  },
  {
   "attachments": {},
   "cell_type": "markdown",
   "metadata": {},
   "source": [
    "## Functions Section"
   ]
  },
  {
   "attachments": {},
   "cell_type": "markdown",
   "metadata": {},
   "source": [
    "#### Config Setter Functions"
   ]
  },
  {
   "cell_type": "code",
   "execution_count": 46,
   "metadata": {},
   "outputs": [],
   "source": [
    "def set_max_num_delta(val):\n",
    "        cfg.MAX_NUM_DELTAS = val\n",
    "        cfg.D_CNT_SIZE = cfg.required_bits(val)\n",
    "\n",
    "def act_deact_baseline(activate=True):\n",
    "        cfg.BASELINE_ON = activate\n",
    "        cfg.DISABLE_OPTIMIZED_INTERSECTION = False if not activate else True\n",
    "        cfg.DISABLE_OPTIMIZED_ADD_VERTEX = False if not activate else True\n",
    "        cfg.DISABLE_OPTIMIZED_BOUNDING_BOX = False if not activate else True"
   ]
  },
  {
   "attachments": {},
   "cell_type": "markdown",
   "metadata": {},
   "source": [
    "#### Stats Collector Functions"
   ]
  },
  {
   "cell_type": "code",
   "execution_count": 47,
   "metadata": {},
   "outputs": [],
   "source": [
    "def get_size_category(size):\n",
    "    if size < LARGE_THRESHOLD and size >= MEDIUM_THRESHOLD:\n",
    "            return \"Medium\", 1\n",
    "    elif size >= LARGE_THRESHOLD:\n",
    "         return \"Large\", 2\n",
    "    else:\n",
    "         return \"Small\", 0\n",
    "    \n",
    "def get_intersection_category(size1, size2):\n",
    "    size1_cat, type1 = get_size_category(size1)\n",
    "    size2_cat, type2 = get_size_category(size2)\n",
    "\n",
    "    if type1 <= type2:\n",
    "        return size1_cat + \"/\" + size2_cat\n",
    "    return size2_cat + \"/\" + size1_cat\n",
    "\n",
    "\n",
    "def get_context_category(g1, g2, bins=None):\n",
    "    if bins == None:\n",
    "        _, b1_fpde = fpd.compress(g1)\n",
    "        _, b2_fpde = fpd.compress(g2) \n",
    "    else:\n",
    "        b1_fpde, b2_fpde = bins\n",
    "\n",
    "    bbox = common_bbox((b1_fpde, b2_fpde))\n",
    "    intersects = shapely.intersects(g1, g2)\n",
    "    contains = shapely.contains(g1, g2) or shapely.contains(g2, g1)\n",
    "    if not bbox:\n",
    "        return \"No Overlap (FALSE)\"\n",
    "    elif not intersects:\n",
    "        return \"Overlap (FALSE)\"\n",
    "    elif not contains:\n",
    "        return \"Partial Overlap (TRUE)\"\n",
    "    else:\n",
    "        return \"Fully Inside Other (TRUE)\"\n",
    "\n",
    "def get_category_stat(g1, g2):\n",
    "        s1, s2 = (shapely.get_num_coordinates(g1), shapely.get_num_coordinates(g2))\n",
    "        size_category = get_intersection_category(s1, s2)\n",
    "        context_category = get_context_category(g1, g2)\n",
    "        return [size_category, context_category]\n",
    "\n",
    "\n",
    "#For taking mean of all stats, not just total time\n",
    "def get_time_stat(bins, predicate=False):\n",
    "    alg = chunk_bbox_is_intersecting if predicate else chunk_bbox_intersection\n",
    "    # 'decomp', 'nbr_recieved_chks', 'nbr_total_chks', 'total_time'\n",
    "    mean_stat = [0, 0, 0, 0]\n",
    "    for _ in range(N):\n",
    "        stat, _ = alg(bins, get_stats=True)\n",
    "        mean_stat = [sum(x) for x in zip(mean_stat, stat)]\n",
    "    \n",
    "    return [num / N for num in mean_stat]\n"
   ]
  },
  {
   "attachments": {},
   "cell_type": "markdown",
   "metadata": {},
   "source": [
    "#### Dataset Evaluation"
   ]
  },
  {
   "cell_type": "code",
   "execution_count": 48,
   "metadata": {},
   "outputs": [],
   "source": [
    "def evaluate_dataset(data, stats_df, delta_size=None, not_predicate=False, add_size=False):\n",
    "    for idx, (g1, g2) in enumerate(data):\n",
    "        if delta_size != None:\n",
    "            set_max_num_delta(delta_size)\n",
    "        bins = (fpd.compress(g1)[1], fpd.compress(g2)[1])\n",
    "\n",
    "        for is_predicate in [False] if not_predicate else [True, False]:\n",
    "            stats = []\n",
    "            stats.extend(get_time_stat(bins=bins, predicate=is_predicate))\n",
    "            stats.extend(get_category_stat(g1, g2))\n",
    "            stats.append(delta_size if delta_size != None else cfg.MAX_NUM_DELTAS)\n",
    "            stats.append(is_predicate)\n",
    "            stats.append(idx)\n",
    "            stats.append(cfg.BASELINE_ON)\n",
    "            if add_size:\n",
    "                stats.append(len(bins[0]) + len(bins[1]))\n",
    "            stats_df.loc[len(stats_df)] = stats"
   ]
  },
  {
   "attachments": {},
   "cell_type": "markdown",
   "metadata": {},
   "source": [
    "# Statistics Visualization"
   ]
  },
  {
   "attachments": {},
   "cell_type": "markdown",
   "metadata": {},
   "source": [
    "#### Best MAX_NUM_DELTAS per Dataset Analysis"
   ]
  },
  {
   "cell_type": "code",
   "execution_count": 49,
   "metadata": {},
   "outputs": [
    {
     "name": "stderr",
     "output_type": "stream",
     "text": [
      "  7%|▋         | 7/100 [02:16<30:19, 19.57s/it]\n"
     ]
    },
    {
     "ename": "KeyboardInterrupt",
     "evalue": "",
     "output_type": "error",
     "traceback": [
      "\u001b[0;31m---------------------------------------------------------------------------\u001b[0m",
      "\u001b[0;31mKeyboardInterrupt\u001b[0m                         Traceback (most recent call last)",
      "Cell \u001b[0;32mIn[49], line 8\u001b[0m\n\u001b[1;32m      6\u001b[0m     \u001b[39mfor\u001b[39;00m dataset \u001b[39min\u001b[39;00m [val[\u001b[39m0\u001b[39m] \u001b[39mfor\u001b[39;00m val \u001b[39min\u001b[39;00m datasets]:\n\u001b[1;32m      7\u001b[0m         act_deact_baseline(activate\u001b[39m=\u001b[39m\u001b[39mFalse\u001b[39;00m)        \n\u001b[0;32m----> 8\u001b[0m         evaluate_dataset(data\u001b[39m=\u001b[39;49mdataset, stats_df\u001b[39m=\u001b[39;49mmax_deltas_df, delta_size\u001b[39m=\u001b[39;49mmax_delta_size, not_predicate\u001b[39m=\u001b[39;49m\u001b[39mTrue\u001b[39;49;00m, add_size\u001b[39m=\u001b[39;49m\u001b[39mTrue\u001b[39;49;00m) \n\u001b[1;32m     10\u001b[0m \u001b[39m#For baseline\u001b[39;00m\n\u001b[1;32m     11\u001b[0m \u001b[39mfor\u001b[39;00m dataset \u001b[39min\u001b[39;00m [val[\u001b[39m0\u001b[39m] \u001b[39mfor\u001b[39;00m val \u001b[39min\u001b[39;00m datasets]:\n",
      "Cell \u001b[0;32mIn[48], line 10\u001b[0m, in \u001b[0;36mevaluate_dataset\u001b[0;34m(data, stats_df, delta_size, not_predicate, add_size)\u001b[0m\n\u001b[1;32m      8\u001b[0m stats \u001b[39m=\u001b[39m []\n\u001b[1;32m      9\u001b[0m stats\u001b[39m.\u001b[39mextend(get_time_stat(bins\u001b[39m=\u001b[39mbins, predicate\u001b[39m=\u001b[39mis_predicate))\n\u001b[0;32m---> 10\u001b[0m stats\u001b[39m.\u001b[39mextend(get_category_stat(g1, g2))\n\u001b[1;32m     11\u001b[0m stats\u001b[39m.\u001b[39mappend(delta_size \u001b[39mif\u001b[39;00m delta_size \u001b[39m!=\u001b[39m \u001b[39mNone\u001b[39;00m \u001b[39melse\u001b[39;00m cfg\u001b[39m.\u001b[39mMAX_NUM_DELTAS)\n\u001b[1;32m     12\u001b[0m stats\u001b[39m.\u001b[39mappend(is_predicate)\n",
      "Cell \u001b[0;32mIn[47], line 40\u001b[0m, in \u001b[0;36mget_category_stat\u001b[0;34m(g1, g2)\u001b[0m\n\u001b[1;32m     38\u001b[0m s1, s2 \u001b[39m=\u001b[39m (shapely\u001b[39m.\u001b[39mget_num_coordinates(g1), shapely\u001b[39m.\u001b[39mget_num_coordinates(g2))\n\u001b[1;32m     39\u001b[0m size_category \u001b[39m=\u001b[39m get_intersection_category(s1, s2)\n\u001b[0;32m---> 40\u001b[0m context_category \u001b[39m=\u001b[39m get_context_category(g1, g2)\n\u001b[1;32m     41\u001b[0m \u001b[39mreturn\u001b[39;00m [size_category, context_category]\n",
      "Cell \u001b[0;32mIn[47], line 21\u001b[0m, in \u001b[0;36mget_context_category\u001b[0;34m(g1, g2, bins)\u001b[0m\n\u001b[1;32m     19\u001b[0m \u001b[39mif\u001b[39;00m bins \u001b[39m==\u001b[39m \u001b[39mNone\u001b[39;00m:\n\u001b[1;32m     20\u001b[0m     _, b1_fpde \u001b[39m=\u001b[39m fpd\u001b[39m.\u001b[39mcompress(g1)\n\u001b[0;32m---> 21\u001b[0m     _, b2_fpde \u001b[39m=\u001b[39m fpd\u001b[39m.\u001b[39;49mcompress(g2) \n\u001b[1;32m     22\u001b[0m \u001b[39melse\u001b[39;00m:\n\u001b[1;32m     23\u001b[0m     b1_fpde, b2_fpde \u001b[39m=\u001b[39m bins\n",
      "File \u001b[0;32m~/Desktop/Examensarbete/algos/fpd_extended_lib/compress.py:215\u001b[0m, in \u001b[0;36mcompress\u001b[0;34m(self, geometry)\u001b[0m\n\u001b[1;32m    213\u001b[0m cfg\u001b[39m.\u001b[39mENTROPY_STATE \u001b[39m=\u001b[39m (cfg\u001b[39m.\u001b[39mENTROPY_METHOD, cfg\u001b[39m.\u001b[39mENTROPY_PARAM, cfg\u001b[39m.\u001b[39mUSE_ENTROPY)\n\u001b[1;32m    214\u001b[0m optimal_size, _, deltas \u001b[39m=\u001b[39m calculate_delta_size(geometry, \u001b[39mTrue\u001b[39;00m)\n\u001b[0;32m--> 215\u001b[0m \u001b[39mbin\u001b[39m \u001b[39m=\u001b[39m fp_delta_encoding(geometry, optimal_size, deltas[\u001b[39m1\u001b[39;49m])\n\u001b[1;32m    216\u001b[0m (cfg\u001b[39m.\u001b[39mENTROPY_METHOD, cfg\u001b[39m.\u001b[39mENTROPY_PARAM, cfg\u001b[39m.\u001b[39mUSE_ENTROPY) \u001b[39m=\u001b[39m cfg\u001b[39m.\u001b[39mENTROPY_STATE\n\u001b[1;32m    217\u001b[0m t \u001b[39m=\u001b[39m time\u001b[39m.\u001b[39mperf_counter()\n",
      "File \u001b[0;32m~/Desktop/Examensarbete/algos/fpd_extended_lib/compress.py:99\u001b[0m, in \u001b[0;36mfp_delta_encoding\u001b[0;34m(geometry, d_size, deltas)\u001b[0m\n\u001b[1;32m     97\u001b[0m     intersection_add_point(\u001b[39m*\u001b[39mintersection_first_coord_ring)\n\u001b[1;32m     98\u001b[0m     \u001b[39mcontinue\u001b[39;00m  \u001b[39m# Skip last coordinate\u001b[39;00m\n\u001b[0;32m---> 99\u001b[0m d_x_zig \u001b[39m=\u001b[39m get_zz_encoded_delta(prev_x, x)  \u001b[39m# Calculated delta based on previous iteration\u001b[39;00m\n\u001b[1;32m    100\u001b[0m d_y_zig \u001b[39m=\u001b[39m get_zz_encoded_delta(prev_y, y)\n\u001b[1;32m    101\u001b[0m prev_x, prev_y \u001b[39m=\u001b[39m (x, y)\n",
      "File \u001b[0;32m~/Desktop/Examensarbete/algos/fpd_extended_lib/compress.py:12\u001b[0m, in \u001b[0;36mget_zz_encoded_delta\u001b[0;34m(prev_coord, curr_coord)\u001b[0m\n\u001b[1;32m     11\u001b[0m \u001b[39mdef\u001b[39;00m \u001b[39mget_zz_encoded_delta\u001b[39m(prev_coord, curr_coord):\n\u001b[0;32m---> 12\u001b[0m     \u001b[39mreturn\u001b[39;00m zz_encode(double_as_long(curr_coord) \u001b[39m-\u001b[39m double_as_long(prev_coord))\n",
      "File \u001b[0;32m~/Desktop/Examensarbete/algos/fpd_extended_lib/low_level.py:96\u001b[0m, in \u001b[0;36mdouble_as_long\u001b[0;34m(num)\u001b[0m\n\u001b[1;32m     94\u001b[0m \u001b[39mdef\u001b[39;00m \u001b[39mdouble_as_long\u001b[39m(num):\n\u001b[1;32m     95\u001b[0m     \u001b[39mif\u001b[39;00m USE_DEFAULT_DOUBLE:\n\u001b[0;32m---> 96\u001b[0m         \u001b[39mreturn\u001b[39;00m struct\u001b[39m.\u001b[39munpack(\u001b[39m'\u001b[39m\u001b[39m!q\u001b[39m\u001b[39m'\u001b[39m, struct\u001b[39m.\u001b[39mpack(\u001b[39m'\u001b[39m\u001b[39m!d\u001b[39m\u001b[39m'\u001b[39m, num))[\u001b[39m0\u001b[39m]\n\u001b[1;32m     97\u001b[0m     \u001b[39melif\u001b[39;00m USE_FPINT:\n\u001b[1;32m     98\u001b[0m         \u001b[39mreturn\u001b[39;00m double_as_fpint(num)\n",
      "\u001b[0;31mKeyboardInterrupt\u001b[0m: "
     ]
    }
   ],
   "source": [
    "from tqdm import tqdm\n",
    "\n",
    "if USE_EXISTING_DF:\n",
    "    max_deltas_df = pd.DataFrame(columns=['decomp', 'nbr_recieved_chks', 'nbr_total_chks', 'total_time', \"sizes\", \"context\", \"delta_size\", \"predicate\", \"dataset_idx\", \"baseline\", \"sum_size\"])\n",
    "    for max_delta_size in tqdm(range(0,100)):\n",
    "        for dataset in [val[0] for val in datasets]:\n",
    "            act_deact_baseline(activate=False)        \n",
    "            evaluate_dataset(data=dataset, stats_df=max_deltas_df, delta_size=max_delta_size, not_predicate=True, add_size=True) \n",
    "    \n",
    "    #For baseline\n",
    "    for dataset in [val[0] for val in datasets]:\n",
    "        act_deact_baseline(activate=True)        \n",
    "        evaluate_dataset(data=dataset, stats_df=max_deltas_df, delta_size=100000, not_predicate=True, add_size=True) \n",
    "\n",
    "    max_deltas_df.to_csv('max_deltas_df3.csv', index=False)\n",
    "else:\n",
    "    max_deltas_df = pd.read_csv('max_deltas_df2.csv')"
   ]
  },
  {
   "cell_type": "code",
   "execution_count": 34,
   "metadata": {},
   "outputs": [],
   "source": [
    "max_deltas_filt_df = max_deltas_df[['total_time', 'sum_size', \"sizes\", \"delta_size\", \"predicate\", \"baseline\"]]"
   ]
  },
  {
   "attachments": {},
   "cell_type": "markdown",
   "metadata": {},
   "source": [
    "### Helper"
   ]
  },
  {
   "cell_type": "code",
   "execution_count": 35,
   "metadata": {},
   "outputs": [],
   "source": [
    "\n",
    "import plotly.graph_objs as objs\n",
    "\n",
    "def make_general_facet_title(fig, x_title, y_title, secondary=None, barplot=False, hbarplot=False):\n",
    "    #Remove current axis titles\n",
    "    for axis in fig.layout:\n",
    "        if type(fig.layout[axis]) == objs.layout.XAxis:\n",
    "            fig.layout[axis].title.text = ''\n",
    "\n",
    "    for axis in fig.layout:\n",
    "        if type(fig.layout[axis]) == objs.layout.YAxis:\n",
    "            fig.layout[axis].title.text = '' \n",
    "\n",
    "    fig.add_annotation(\n",
    "    dict(\n",
    "        x=0.48 if not barplot else 0.5,\n",
    "        y=-0.04 if not barplot else -0.15,  # adjust as needed\n",
    "        showarrow=False,\n",
    "        text=x_title,\n",
    "        xref=\"paper\",\n",
    "        yref=\"paper\",\n",
    "        font=dict(size=20),\n",
    "        xanchor=\"center\", \n",
    "        yanchor=\"top\"\n",
    "    )\n",
    "    )\n",
    "\n",
    "    if secondary != None:\n",
    "        fig.add_annotation(\n",
    "        dict(\n",
    "            x=1.01,  # adjust as needed\n",
    "            y=0.5,\n",
    "            showarrow=False,\n",
    "            text=secondary,\n",
    "            textangle=-90,  # to rotate the text for the vertical y-axis\n",
    "            xref=\"paper\",\n",
    "            yref=\"paper\",\n",
    "            font=dict(size=20),\n",
    "            xanchor=\"center\",\n",
    "            yanchor=\"middle\"\n",
    "        )\n",
    "    )\n",
    "\n",
    "    fig.add_annotation(\n",
    "    dict(\n",
    "        x=-0.08 if not barplot else -0.07,  # adjust as needed\n",
    "        y=0.5,\n",
    "        showarrow=False,\n",
    "        text=y_title,\n",
    "        textangle=-90,\n",
    "        xref=\"paper\",\n",
    "        yref=\"paper\",\n",
    "        font=dict(size=20),\n",
    "        xanchor=\"center\",\n",
    "        yanchor=\"middle\"\n",
    "    )\n",
    ")"
   ]
  },
  {
   "cell_type": "code",
   "execution_count": 36,
   "metadata": {},
   "outputs": [],
   "source": [
    "def plot_max_delta_size_speed(df, is_predicate=False, no_mixed=False, relative=False):\n",
    "    if no_mixed:\n",
    "        df = df[df['sizes'].isin([\"Small/Small\", \"Medium/Medium\", \"Large/Large\"])]\n",
    "    specs_element = [{\"secondary_y\": True}] if no_mixed else [{\"secondary_y\": True}, {\"secondary_y\": True}]\n",
    "\n",
    "    df = df[df['predicate'] == is_predicate]\n",
    "    df = df.groupby(['delta_size', 'sizes', 'baseline']).mean()\n",
    "    df.reset_index(inplace=True)\n",
    "    \n",
    "    sizes = dict(zip(list(df.sizes.unique()), range(len(df.sizes.unique()))))\n",
    "\n",
    "    fig = make_subplots(rows=3, cols=1 if no_mixed else 2, \n",
    "                        subplot_titles=(list(map(lambda x: \"Geometry Sizes=\" + x.split('/')[0], sizes.keys()))), \n",
    "                        horizontal_spacing=0.08, \n",
    "                        vertical_spacing=0.07, \n",
    "                        #x_title=\"Max Chunk Size\",  y_title=\"Mean Execution Time (s)\", \n",
    "                        specs=[specs_element,\n",
    "                              specs_element,\n",
    "                              specs_element])\n",
    "    \n",
    "    #For not showing the same legend twice\n",
    "    legend_showed = False\n",
    "\n",
    "    for size in sizes.keys():\n",
    "        curr_context_df = df[(df['sizes'] == size)]\n",
    "\n",
    "        for is_baseline in [False] if relative else [True, False]:\n",
    "\n",
    "            line = dict(color='blue' if is_baseline else 'red', dash='dash' if is_baseline else None)\n",
    "\n",
    "            curr_df = curr_context_df[curr_context_df['baseline'] == is_baseline]\n",
    "\n",
    "            if relative:\n",
    "                baseline_formatting = \"FPDE\" if not is_baseline else \"Baseline\"\n",
    "                baseline_value = curr_context_df[(curr_context_df['baseline'] == True) & (curr_context_df['delta_size'] == 100000)]\n",
    "                curr_df['total_time'] = curr_df['total_time'].divide(baseline_value.total_time.values[0], axis=0)\n",
    "                \n",
    "\n",
    "            curr_df[\"total_time\"] = curr_df.sort_values(by='delta_size')['total_time'].rolling(window=5, min_periods=1).mean()\n",
    "\n",
    "            fig.add_trace(go.Scatter(x=curr_df.delta_size.values, y= curr_df.total_time.values,\n",
    "                                    mode='lines',\n",
    "                                    line=line,\n",
    "                                    showlegend=not legend_showed,\n",
    "                                    name=f\"{baseline_formatting}\"),col=sizes[size] // 3 + 1 if no_mixed else 1, row=sizes[size] % 3 + 1,\n",
    "                                    secondary_y=False)\n",
    "            \n",
    "            if not is_baseline:\n",
    "                fig.add_trace(go.Scatter(x=curr_df.delta_size.values, y=curr_df.sum_size.values,\n",
    "                                        mode='lines',\n",
    "                                        line=dict(color='green', dash='dash'),\n",
    "                                        showlegend=not legend_showed,\n",
    "                                        name=f\"Average size (bits)\"),col=sizes[size] // 3 + 1 if no_mixed else 1, row=sizes[size] % 3 + 1,\n",
    "                                        secondary_y=True)\n",
    "                legend_showed = True\n",
    "\n",
    "                mix_delta_size = curr_df.sort_values(by='total_time').delta_size.values[0]\n",
    "\n",
    "                fig.add_vrect(x0=mix_delta_size - 1, x1=mix_delta_size + 1, col=sizes[size] // 3 + 1 if no_mixed else 1, row=sizes[size] % 3 + 1,\n",
    "                annotation_text=f\"Min={mix_delta_size}\", annotation_position=\"inside\",\n",
    "                fillcolor=\"green\", opacity=0.25, line_width=0, annotation = dict(textangle=-90, font=dict(size=16)))\n",
    "    \n",
    "    #For changing facet size\n",
    "    # for annotation in fig['layout']['annotations']:\n",
    "    #     annotation['font']['size'] = 18  # Set your desired font size here\n",
    "\n",
    "    intersection_format = \"Intersection\" if not is_predicate else \"IsIntersection\"\n",
    "    baseline_format = \"\" if not is_baseline else \"(Baseline)\"\n",
    "    fig.update_layout(\n",
    "                      title_x=0.5,\n",
    "                      width=1000, \n",
    "                      height=1000, \n",
    "                      legend=dict(\n",
    "                            yanchor=\"top\",\n",
    "                            y=-0.037,\n",
    "                            xanchor=\"left\",\n",
    "                            x=0.7,\n",
    "                            orientation=\"h\",\n",
    "                            font=dict(size=15),\n",
    "                        ),\n",
    "                        title=dict(\n",
    "                            text=f'Relative Execution Time for {intersection_format} by Max Chunk Size {baseline_format}',\n",
    "                            x=0.5,\n",
    "                            font=dict(size=22)\n",
    "                            )\n",
    "                        )\n",
    "\n",
    "    #fig.update_annotations(textangle=-90, font=dict(size=14)) \n",
    "    fig.update_annotations(font=dict(size=16))\n",
    "    fig.update_yaxes(secondary_y=False, type=\"log\", tickfont=dict(size=16))\n",
    "    fig.update_xaxes(tickfont=dict(size=16))\n",
    "\n",
    "    make_general_facet_title(fig, \"Max Chunk Size\", \"Relative Mean Execution Time (%)\", secondary=\"Mean Size (bits)\")\n",
    "   \n",
    "\n",
    "    fig.show()"
   ]
  },
  {
   "attachments": {},
   "cell_type": "markdown",
   "metadata": {},
   "source": []
  },
  {
   "cell_type": "code",
   "execution_count": 37,
   "metadata": {},
   "outputs": [
    {
     "data": {
      "application/vnd.plotly.v1+json": {
       "config": {
        "plotlyServerURL": "https://plot.ly"
       },
       "data": [
        {
         "line": {
          "color": "red"
         },
         "mode": "lines",
         "name": "FPDE",
         "showlegend": true,
         "type": "scatter",
         "x": [
          0,
          1,
          2,
          3,
          4,
          5,
          6,
          7,
          8,
          9,
          10,
          11,
          12,
          13,
          14,
          15,
          16,
          17,
          18,
          19,
          20,
          21,
          22,
          23,
          24,
          25,
          26,
          27,
          28,
          29,
          30,
          31,
          32,
          33,
          34,
          35,
          36,
          37,
          38,
          39,
          40,
          41,
          42,
          43,
          44,
          45,
          46,
          47,
          48,
          49,
          50,
          51,
          52,
          53,
          54,
          55,
          56,
          57,
          58,
          59,
          60,
          61,
          62,
          63,
          64,
          65,
          66,
          67,
          68,
          69,
          70,
          71,
          72,
          73,
          74,
          75,
          76,
          77,
          78,
          79,
          80,
          81,
          82,
          83,
          84,
          85,
          86,
          87,
          88,
          89,
          90,
          91,
          92,
          93,
          94,
          95,
          96,
          97,
          98,
          99
         ],
         "xaxis": "x",
         "y": [
          1.03331007791218,
          0.7628285288506078,
          0.631450319686488,
          0.5616624461164342,
          0.5074316670341632,
          0.3640912117214287,
          0.3215037133454398,
          0.3034884059979939,
          0.2823936585539122,
          0.272164066327793,
          0.2566177269112039,
          0.24862687228948066,
          0.2407771122646758,
          0.2566750526421691,
          0.2735803227398607,
          0.2765019787547575,
          0.2805012877915467,
          0.2861773693504872,
          0.2710612334919194,
          0.2846707494821407,
          0.28220168219160086,
          0.30454207375150383,
          0.30819536269351916,
          0.3182704182739722,
          0.2943308570529444,
          0.2943060576177193,
          0.2673603354117197,
          0.258374097003034,
          0.24607791232349766,
          0.2428150924253334,
          0.24905855795698445,
          0.25171437129103,
          0.25850765185246305,
          0.25897509657132783,
          0.2566490840877447,
          0.25159491800606854,
          0.2537473128279474,
          0.2509449631837025,
          0.2548427472067195,
          0.2588322926226438,
          0.2595690221850383,
          0.25931873066918154,
          0.2612560754913392,
          0.25942795772427363,
          0.2579430417614595,
          0.2611319902683514,
          0.2689849064693376,
          0.2812336157972872,
          0.28808795634227236,
          0.2924590049647128,
          0.30124453739414436,
          0.2953970270284406,
          0.2873060274472955,
          0.28472425809617913,
          0.2843325075600049,
          0.27769293634296166,
          0.28538303054650027,
          0.2828459420023931,
          0.29140003049444685,
          0.29982612750854853,
          0.2993455488601413,
          0.3057764987934698,
          0.3064798850118619,
          0.31505964504133854,
          0.31001943203467447,
          0.3147789224049366,
          0.30596259650860247,
          0.3092130853267649,
          0.2969809895696565,
          0.29915066177557914,
          0.30093603139293923,
          0.30198050919695796,
          0.30278771122940584,
          0.30195446108084717,
          0.30335815695467033,
          0.3090755731231061,
          0.31473739752092034,
          0.32528866583893096,
          0.33987851353047216,
          0.34102750066994714,
          0.3440268026752995,
          0.3438068290576744,
          0.3452846466679439,
          0.3426134703372551,
          0.3464654547804855,
          0.34910948068626063,
          0.372131472465452,
          0.36747343397557497,
          0.3747791657461995,
          0.3713252650829185,
          0.3617238054629025,
          0.33665229299838606,
          0.3333431216770474,
          0.31899432517408133,
          0.3200549105886875,
          0.3499175648901907,
          0.35777909541324526,
          0.36780656484861507,
          0.37190081833280525,
          0.373373971989026
         ],
         "yaxis": "y"
        },
        {
         "line": {
          "color": "green",
          "dash": "dash"
         },
         "mode": "lines",
         "name": "Average size (bits)",
         "showlegend": true,
         "type": "scatter",
         "x": [
          0,
          1,
          2,
          3,
          4,
          5,
          6,
          7,
          8,
          9,
          10,
          11,
          12,
          13,
          14,
          15,
          16,
          17,
          18,
          19,
          20,
          21,
          22,
          23,
          24,
          25,
          26,
          27,
          28,
          29,
          30,
          31,
          32,
          33,
          34,
          35,
          36,
          37,
          38,
          39,
          40,
          41,
          42,
          43,
          44,
          45,
          46,
          47,
          48,
          49,
          50,
          51,
          52,
          53,
          54,
          55,
          56,
          57,
          58,
          59,
          60,
          61,
          62,
          63,
          64,
          65,
          66,
          67,
          68,
          69,
          70,
          71,
          72,
          73,
          74,
          75,
          76,
          77,
          78,
          79,
          80,
          81,
          82,
          83,
          84,
          85,
          86,
          87,
          88,
          89,
          90,
          91,
          92,
          93,
          94,
          95,
          96,
          97,
          98,
          99
         ],
         "xaxis": "x",
         "y": [
          46302.34482758621,
          28617.310344827587,
          22685.51724137931,
          19724.241379310344,
          17965.172413793105,
          16771.379310344826,
          15918.103448275862,
          15112.724137931034,
          14618.586206896553,
          14223.103448275862,
          13871.413793103447,
          13614.965517241379,
          13369.275862068966,
          13175.206896551725,
          13023.827586206897,
          12887.586206896553,
          12739.48275862069,
          12627.827586206897,
          12522.344827586207,
          12431.448275862069,
          12320,
          12244.586206896553,
          12173.620689655172,
          12122.275862068966,
          12060.310344827587,
          12009.931034482759,
          11970.48275862069,
          11910.103448275862,
          11863.586206896553,
          11841.206896551725,
          11805.413793103447,
          11771.586206896553,
          11722.724137931034,
          11696.241379310344,
          11666.103448275862,
          11644.724137931034,
          11624.655172413793,
          11595.689655172413,
          11565.51724137931,
          11541.448275862069,
          11527.034482758621,
          11482.448275862069,
          11463.689655172413,
          11434.827586206897,
          11418.724137931034,
          11405.620689655172,
          11389.758620689656,
          11379.241379310344,
          11364.620689655172,
          11343.586206896553,
          11339.586206896553,
          11328.862068965518,
          11319.51724137931,
          11310.379310344828,
          11294.310344827587,
          11290.275862068966,
          11279.551724137931,
          11267.655172413793,
          11262.275862068966,
          11259.655172413793,
          11246.344827586207,
          11241,
          11227.586206896553,
          11227.655172413793,
          11214.206896551725,
          11207.758620689656,
          11206.48275862069,
          11199.862068965518,
          11194.689655172413,
          11187.931034482759,
          11185.275862068966,
          11182.586206896553,
          11171.896551724138,
          11170.551724137931,
          11165.310344827587,
          11161.275862068966,
          11144.172413793103,
          11144.172413793103,
          11140.137931034482,
          11133.448275862069,
          11128.310344827587,
          11124.310344827587,
          11099.448275862069,
          11091.48275862069,
          11086.068965517241,
          11080.689655172413,
          11068.724137931034,
          11062.103448275862,
          11058.068965517241,
          11058.068965517241,
          11055.379310344828,
          11048.758620689656,
          11046.137931034482,
          11043.448275862069,
          11042.137931034482,
          11040.827586206897,
          11040.827586206897,
          11034.137931034482,
          11028.827586206897,
          11027.551724137931
         ],
         "yaxis": "y2"
        },
        {
         "line": {
          "color": "red"
         },
         "mode": "lines",
         "name": "FPDE",
         "showlegend": false,
         "type": "scatter",
         "x": [
          0,
          1,
          2,
          3,
          4,
          5,
          6,
          7,
          8,
          9,
          10,
          11,
          12,
          13,
          14,
          15,
          16,
          17,
          18,
          19,
          20,
          21,
          22,
          23,
          24,
          25,
          26,
          27,
          28,
          29,
          30,
          31,
          32,
          33,
          34,
          35,
          36,
          37,
          38,
          39,
          40,
          41,
          42,
          43,
          44,
          45,
          46,
          47,
          48,
          49,
          50,
          51,
          52,
          53,
          54,
          55,
          56,
          57,
          58,
          59,
          60,
          61,
          62,
          63,
          64,
          65,
          66,
          67,
          68,
          69,
          70,
          71,
          72,
          73,
          74,
          75,
          76,
          77,
          78,
          79,
          80,
          81,
          82,
          83,
          84,
          85,
          86,
          87,
          88,
          89,
          90,
          91,
          92,
          93,
          94,
          95,
          96,
          97,
          98,
          99
         ],
         "xaxis": "x2",
         "y": [
          0.8820706744950387,
          0.7512115694595134,
          0.687502081801996,
          0.63542326687573,
          0.5889763188424914,
          0.5121989835095998,
          0.474088757929389,
          0.45456728979489114,
          0.4418094737143169,
          0.46595915812519434,
          0.47400574925126593,
          0.47438683014425054,
          0.47000641181411923,
          0.5438806377574892,
          0.5318413783372204,
          0.5213681065560947,
          0.5703664273258034,
          0.6164657059673274,
          0.5764348605567344,
          0.5813667351508565,
          0.5931654685279375,
          0.57663781258106,
          0.6327074640951267,
          0.6363696412773332,
          0.626355889396333,
          0.6030770621012513,
          0.6006847188338862,
          0.5331874389477382,
          0.5613088379059274,
          0.5951835584587755,
          0.6478803515088817,
          0.6494681616494862,
          0.6430731235864944,
          0.6147372320813336,
          0.6129038367441572,
          0.5829401055606048,
          0.5919654156537593,
          0.5802874610733725,
          0.56482820717319,
          0.5490490035611237,
          0.5380268644703763,
          0.5136425795141074,
          0.5072017682733627,
          0.49956595608133175,
          0.5264493964202691,
          0.52775790316966,
          0.561944256615676,
          0.5743453090435937,
          0.580965402526034,
          0.5742268880446286,
          0.5765049345418788,
          0.5348868953353529,
          0.5238963826359835,
          0.5511416464382788,
          0.5551451091998046,
          0.5910369131113533,
          0.6612992904793733,
          0.718405771329683,
          0.7308721700964669,
          0.7450194683025456,
          0.7536363980130709,
          0.7475742441358357,
          0.7684429457543059,
          0.80042197436502,
          0.8247381196023233,
          0.8388265396924485,
          0.8496453290818071,
          0.8547645636918911,
          0.8717013971283709,
          0.8701449410306102,
          0.8727961637401765,
          0.867645348093619,
          0.8559251812432663,
          0.8342527315541887,
          0.8426685481955356,
          0.876936907910548,
          0.9145838635945237,
          0.983578913837389,
          0.9859588651368918,
          0.9897059396893901,
          0.9905519307047784,
          0.9705302606352358,
          0.9087194373824419,
          0.9353033681723384,
          0.9552131901984102,
          0.9466169708082042,
          1.0423294302300938,
          1.1155734600700409,
          1.0932223371148628,
          1.0780597851417437,
          1.0635816881991031,
          0.9717935362746728,
          0.892929880801274,
          0.8879522943790287,
          0.9042271247775121,
          0.9112310533130945,
          0.9067964610689652,
          0.9273554953925789,
          0.936098353543886,
          0.919664884615857
         ],
         "yaxis": "y3"
        },
        {
         "line": {
          "color": "green",
          "dash": "dash"
         },
         "mode": "lines",
         "name": "Average size (bits)",
         "showlegend": false,
         "type": "scatter",
         "x": [
          0,
          1,
          2,
          3,
          4,
          5,
          6,
          7,
          8,
          9,
          10,
          11,
          12,
          13,
          14,
          15,
          16,
          17,
          18,
          19,
          20,
          21,
          22,
          23,
          24,
          25,
          26,
          27,
          28,
          29,
          30,
          31,
          32,
          33,
          34,
          35,
          36,
          37,
          38,
          39,
          40,
          41,
          42,
          43,
          44,
          45,
          46,
          47,
          48,
          49,
          50,
          51,
          52,
          53,
          54,
          55,
          56,
          57,
          58,
          59,
          60,
          61,
          62,
          63,
          64,
          65,
          66,
          67,
          68,
          69,
          70,
          71,
          72,
          73,
          74,
          75,
          76,
          77,
          78,
          79,
          80,
          81,
          82,
          83,
          84,
          85,
          86,
          87,
          88,
          89,
          90,
          91,
          92,
          93,
          94,
          95,
          96,
          97,
          98,
          99
         ],
         "xaxis": "x2",
         "y": [
          7612,
          4690,
          3716.5,
          3205.5,
          2919,
          2707,
          2573,
          2480,
          2403.5,
          2346,
          2307,
          2211,
          2211,
          2172.5,
          2134,
          2135.5,
          2116,
          2077,
          2077,
          2058,
          2038.5,
          2038.5,
          2038.5,
          2000,
          2000,
          2000,
          2000,
          1980.5,
          1980.5,
          1961.5,
          1961.5,
          1962.5,
          1962.5,
          1962.5,
          1943.5,
          1924,
          1924,
          1924,
          1924,
          1924,
          1904.5,
          1904.5,
          1904.5,
          1904.5,
          1904.5,
          1904.5,
          1904.5,
          1904.5,
          1904.5,
          1904.5,
          1904.5,
          1904.5,
          1904.5,
          1904.5,
          1904.5,
          1904.5,
          1904.5,
          1904.5,
          1885.5,
          1885.5,
          1885.5,
          1885.5,
          1885.5,
          1886,
          1886,
          1886,
          1886,
          1886,
          1886,
          1867,
          1847.5,
          1847.5,
          1847.5,
          1847.5,
          1847.5,
          1847.5,
          1847.5,
          1847.5,
          1847.5,
          1847.5,
          1847.5,
          1828,
          1828,
          1828,
          1828,
          1828,
          1828,
          1828,
          1828,
          1828,
          1828,
          1828,
          1828,
          1828,
          1828,
          1828,
          1828,
          1828,
          1828,
          1828
         ],
         "yaxis": "y4"
        },
        {
         "line": {
          "color": "red"
         },
         "mode": "lines",
         "name": "FPDE",
         "showlegend": false,
         "type": "scatter",
         "x": [
          0,
          1,
          2,
          3,
          4,
          5,
          6,
          7,
          8,
          9,
          10,
          11,
          12,
          13,
          14,
          15,
          16,
          17,
          18,
          19,
          20,
          21,
          22,
          23,
          24,
          25,
          26,
          27,
          28,
          29,
          30,
          31,
          32,
          33,
          34,
          35,
          36,
          37,
          38,
          39,
          40,
          41,
          42,
          43,
          44,
          45,
          46,
          47,
          48,
          49,
          50,
          51,
          52,
          53,
          54,
          55,
          56,
          57,
          58,
          59,
          60,
          61,
          62,
          63,
          64,
          65,
          66,
          67,
          68,
          69,
          70,
          71,
          72,
          73,
          74,
          75,
          76,
          77,
          78,
          79,
          80,
          81,
          82,
          83,
          84,
          85,
          86,
          87,
          88,
          89,
          90,
          91,
          92,
          93,
          94,
          95,
          96,
          97,
          98,
          99
         ],
         "xaxis": "x3",
         "y": [
          0.9397446051442976,
          0.8562100556496638,
          0.8284082000946453,
          0.8112951194181895,
          0.8031648752965485,
          0.7737298234880231,
          0.7970149337156895,
          0.8340940838636166,
          0.8380088350682093,
          0.8414340912997673,
          0.8456136703648733,
          0.8314205567449953,
          0.8086329210168062,
          0.8502866545830565,
          0.9089520756177176,
          0.9290069327299252,
          0.9392806694017418,
          0.9498911199746566,
          0.9326763372139266,
          0.9340870469437264,
          0.9206887502712903,
          0.962976373573628,
          0.9706472768629844,
          0.9940100119312518,
          0.9442415224069938,
          0.9368651492164848,
          0.8893329011787416,
          0.8610088348714017,
          0.8151026686989287,
          0.8113553719608507,
          0.8286769695699977,
          0.827770368424939,
          0.8250453447122787,
          0.8231806728213839,
          0.8155913589940378,
          0.7928207513370197,
          0.7926983153500643,
          0.8016953728965179,
          0.8206266041213149,
          0.8250346291980838,
          0.8251940777221977,
          0.8155620082454034,
          0.8157646780775065,
          0.7962056703701447,
          0.7987919895097386,
          0.7981828035294234,
          0.825257064768536,
          0.8622573637864029,
          0.8956070839070585,
          0.9102841868368292,
          0.9670025865087046,
          0.9503990641274767,
          0.922544372731093,
          0.9013975998917483,
          0.8925589748521485,
          0.8427253789577414,
          0.843513015825957,
          0.8316002851098354,
          0.83362720579143,
          0.853733751628585,
          0.8492129171584143,
          0.9028365147572777,
          0.9072046016098948,
          0.9204400591036961,
          0.9053907237884836,
          0.921309435398429,
          0.8733224939615297,
          0.885815656466822,
          0.8799058109944523,
          0.8807290527382767,
          0.8827767592224282,
          0.884515301807936,
          0.8794880328890701,
          0.8779504768092977,
          0.8820833438811295,
          0.8960394977365788,
          0.906099190319224,
          0.9343506461414257,
          0.9535478820372962,
          0.9645929620447558,
          0.9675478043493022,
          0.9620869999198206,
          0.9457091637006698,
          0.9723982045795804,
          0.9667355203417702,
          0.971843725624508,
          1.0340326180208006,
          1.0526828873454241,
          1.0239590827700877,
          1.0191209094725422,
          1.0008440769144846,
          0.938207273145332,
          0.9150145381731505,
          0.9043007727439178,
          0.9291634668506837,
          1.0118176007892785,
          1.0247341157737448,
          1.062578565711601,
          1.0711995650078794,
          1.0546881607493088
         ],
         "yaxis": "y5"
        },
        {
         "line": {
          "color": "green",
          "dash": "dash"
         },
         "mode": "lines",
         "name": "Average size (bits)",
         "showlegend": false,
         "type": "scatter",
         "x": [
          0,
          1,
          2,
          3,
          4,
          5,
          6,
          7,
          8,
          9,
          10,
          11,
          12,
          13,
          14,
          15,
          16,
          17,
          18,
          19,
          20,
          21,
          22,
          23,
          24,
          25,
          26,
          27,
          28,
          29,
          30,
          31,
          32,
          33,
          34,
          35,
          36,
          37,
          38,
          39,
          40,
          41,
          42,
          43,
          44,
          45,
          46,
          47,
          48,
          49,
          50,
          51,
          52,
          53,
          54,
          55,
          56,
          57,
          58,
          59,
          60,
          61,
          62,
          63,
          64,
          65,
          66,
          67,
          68,
          69,
          70,
          71,
          72,
          73,
          74,
          75,
          76,
          77,
          78,
          79,
          80,
          81,
          82,
          83,
          84,
          85,
          86,
          87,
          88,
          89,
          90,
          91,
          92,
          93,
          94,
          95,
          96,
          97,
          98,
          99
         ],
         "xaxis": "x3",
         "y": [
          1336.525925925926,
          871.2,
          726.9851851851852,
          645.4888888888889,
          602.6296296296297,
          575.0814814814814,
          542.8,
          531.6296296296297,
          522.6592592592592,
          518.3851851851852,
          513.3555555555556,
          504.6666666666667,
          502.4888888888889,
          483.5925925925926,
          481.54814814814813,
          479.6666666666667,
          475.7185185185185,
          473.4888888888889,
          472.05185185185184,
          472.05185185185184,
          470.89629629629627,
          470.31851851851854,
          469.4962962962963,
          469.2074074074074,
          469.2074074074074,
          468.68888888888887,
          468.1185185185185,
          467.54814814814813,
          467.25925925925924,
          466.962962962963,
          466.3925925925926,
          466,
          465.7111111111111,
          464.8740740740741,
          464.8740740740741,
          463.7481481481482,
          463.7481481481482,
          463.46666666666664,
          463.46666666666664,
          463.46666666666664,
          462.8888888888889,
          462.8888888888889,
          462.8888888888889,
          462.8888888888889,
          462.8888888888889,
          462.8888888888889,
          462.6,
          462.6,
          462.6,
          462.6,
          462.6,
          462.6,
          462.6,
          462.6,
          462.6,
          462.6,
          462.6,
          462.6,
          462.6,
          462.6,
          462.6,
          462.6,
          462.6,
          463.1333333333333,
          463.1333333333333,
          463.1333333333333,
          463.1333333333333,
          463.1333333333333,
          463.1333333333333,
          463.1333333333333,
          463.1333333333333,
          463.1333333333333,
          463.1333333333333,
          463.1333333333333,
          463.1333333333333,
          463.1333333333333,
          463.1333333333333,
          463.1333333333333,
          463.1333333333333,
          463.1333333333333,
          463.1333333333333,
          463.1333333333333,
          463.1333333333333,
          463.1333333333333,
          463.1333333333333,
          463.1333333333333,
          463.1333333333333,
          463.1333333333333,
          463.1333333333333,
          463.1333333333333,
          463.1333333333333,
          463.1333333333333,
          463.1333333333333,
          463.1333333333333,
          463.1333333333333,
          463.1333333333333,
          463.1333333333333,
          463.1333333333333,
          463.1333333333333,
          463.1333333333333
         ],
         "yaxis": "y6"
        }
       ],
       "layout": {
        "annotations": [
         {
          "font": {
           "size": 16
          },
          "showarrow": false,
          "text": "Geometry Sizes=Large",
          "x": 0.47,
          "xanchor": "center",
          "xref": "paper",
          "y": 1,
          "yanchor": "bottom",
          "yref": "paper"
         },
         {
          "font": {
           "size": 16
          },
          "showarrow": false,
          "text": "Geometry Sizes=Medium",
          "x": 0.47,
          "xanchor": "center",
          "xref": "paper",
          "y": 0.6433333333333333,
          "yanchor": "bottom",
          "yref": "paper"
         },
         {
          "font": {
           "size": 16
          },
          "showarrow": false,
          "text": "Geometry Sizes=Small",
          "x": 0.47,
          "xanchor": "center",
          "xref": "paper",
          "y": 0.2866666666666667,
          "yanchor": "bottom",
          "yref": "paper"
         },
         {
          "font": {
           "size": 16
          },
          "showarrow": false,
          "text": "Min=12",
          "textangle": -90,
          "x": 12,
          "xanchor": "center",
          "xref": "x",
          "y": 0.5,
          "yanchor": "middle",
          "yref": "y domain"
         },
         {
          "font": {
           "size": 16
          },
          "showarrow": false,
          "text": "Min=8",
          "textangle": -90,
          "x": 8,
          "xanchor": "center",
          "xref": "x2",
          "y": 0.5,
          "yanchor": "middle",
          "yref": "y3 domain"
         },
         {
          "font": {
           "size": 16
          },
          "showarrow": false,
          "text": "Min=5",
          "textangle": -90,
          "x": 5,
          "xanchor": "center",
          "xref": "x3",
          "y": 0.5,
          "yanchor": "middle",
          "yref": "y5 domain"
         },
         {
          "font": {
           "size": 20
          },
          "showarrow": false,
          "text": "Max Chunk Size",
          "x": 0.48,
          "xanchor": "center",
          "xref": "paper",
          "y": -0.04,
          "yanchor": "top",
          "yref": "paper"
         },
         {
          "font": {
           "size": 20
          },
          "showarrow": false,
          "text": "Mean Size (bits)",
          "textangle": -90,
          "x": 1.01,
          "xanchor": "center",
          "xref": "paper",
          "y": 0.5,
          "yanchor": "middle",
          "yref": "paper"
         },
         {
          "font": {
           "size": 20
          },
          "showarrow": false,
          "text": "Relative Mean Execution Time (%)",
          "textangle": -90,
          "x": -0.08,
          "xanchor": "center",
          "xref": "paper",
          "y": 0.5,
          "yanchor": "middle",
          "yref": "paper"
         }
        ],
        "height": 1000,
        "legend": {
         "font": {
          "size": 15
         },
         "orientation": "h",
         "x": 0.7,
         "xanchor": "left",
         "y": -0.037,
         "yanchor": "top"
        },
        "shapes": [
         {
          "fillcolor": "green",
          "line": {
           "width": 0
          },
          "opacity": 0.25,
          "type": "rect",
          "x0": 11,
          "x1": 13,
          "xref": "x",
          "y0": 0,
          "y1": 1,
          "yref": "y domain"
         },
         {
          "fillcolor": "green",
          "line": {
           "width": 0
          },
          "opacity": 0.25,
          "type": "rect",
          "x0": 7,
          "x1": 9,
          "xref": "x2",
          "y0": 0,
          "y1": 1,
          "yref": "y3 domain"
         },
         {
          "fillcolor": "green",
          "line": {
           "width": 0
          },
          "opacity": 0.25,
          "type": "rect",
          "x0": 4,
          "x1": 6,
          "xref": "x3",
          "y0": 0,
          "y1": 1,
          "yref": "y5 domain"
         }
        ],
        "template": {
         "data": {
          "bar": [
           {
            "error_x": {
             "color": "#2a3f5f"
            },
            "error_y": {
             "color": "#2a3f5f"
            },
            "marker": {
             "line": {
              "color": "#E5ECF6",
              "width": 0.5
             },
             "pattern": {
              "fillmode": "overlay",
              "size": 10,
              "solidity": 0.2
             }
            },
            "type": "bar"
           }
          ],
          "barpolar": [
           {
            "marker": {
             "line": {
              "color": "#E5ECF6",
              "width": 0.5
             },
             "pattern": {
              "fillmode": "overlay",
              "size": 10,
              "solidity": 0.2
             }
            },
            "type": "barpolar"
           }
          ],
          "carpet": [
           {
            "aaxis": {
             "endlinecolor": "#2a3f5f",
             "gridcolor": "white",
             "linecolor": "white",
             "minorgridcolor": "white",
             "startlinecolor": "#2a3f5f"
            },
            "baxis": {
             "endlinecolor": "#2a3f5f",
             "gridcolor": "white",
             "linecolor": "white",
             "minorgridcolor": "white",
             "startlinecolor": "#2a3f5f"
            },
            "type": "carpet"
           }
          ],
          "choropleth": [
           {
            "colorbar": {
             "outlinewidth": 0,
             "ticks": ""
            },
            "type": "choropleth"
           }
          ],
          "contour": [
           {
            "colorbar": {
             "outlinewidth": 0,
             "ticks": ""
            },
            "colorscale": [
             [
              0,
              "#0d0887"
             ],
             [
              0.1111111111111111,
              "#46039f"
             ],
             [
              0.2222222222222222,
              "#7201a8"
             ],
             [
              0.3333333333333333,
              "#9c179e"
             ],
             [
              0.4444444444444444,
              "#bd3786"
             ],
             [
              0.5555555555555556,
              "#d8576b"
             ],
             [
              0.6666666666666666,
              "#ed7953"
             ],
             [
              0.7777777777777778,
              "#fb9f3a"
             ],
             [
              0.8888888888888888,
              "#fdca26"
             ],
             [
              1,
              "#f0f921"
             ]
            ],
            "type": "contour"
           }
          ],
          "contourcarpet": [
           {
            "colorbar": {
             "outlinewidth": 0,
             "ticks": ""
            },
            "type": "contourcarpet"
           }
          ],
          "heatmap": [
           {
            "colorbar": {
             "outlinewidth": 0,
             "ticks": ""
            },
            "colorscale": [
             [
              0,
              "#0d0887"
             ],
             [
              0.1111111111111111,
              "#46039f"
             ],
             [
              0.2222222222222222,
              "#7201a8"
             ],
             [
              0.3333333333333333,
              "#9c179e"
             ],
             [
              0.4444444444444444,
              "#bd3786"
             ],
             [
              0.5555555555555556,
              "#d8576b"
             ],
             [
              0.6666666666666666,
              "#ed7953"
             ],
             [
              0.7777777777777778,
              "#fb9f3a"
             ],
             [
              0.8888888888888888,
              "#fdca26"
             ],
             [
              1,
              "#f0f921"
             ]
            ],
            "type": "heatmap"
           }
          ],
          "heatmapgl": [
           {
            "colorbar": {
             "outlinewidth": 0,
             "ticks": ""
            },
            "colorscale": [
             [
              0,
              "#0d0887"
             ],
             [
              0.1111111111111111,
              "#46039f"
             ],
             [
              0.2222222222222222,
              "#7201a8"
             ],
             [
              0.3333333333333333,
              "#9c179e"
             ],
             [
              0.4444444444444444,
              "#bd3786"
             ],
             [
              0.5555555555555556,
              "#d8576b"
             ],
             [
              0.6666666666666666,
              "#ed7953"
             ],
             [
              0.7777777777777778,
              "#fb9f3a"
             ],
             [
              0.8888888888888888,
              "#fdca26"
             ],
             [
              1,
              "#f0f921"
             ]
            ],
            "type": "heatmapgl"
           }
          ],
          "histogram": [
           {
            "marker": {
             "pattern": {
              "fillmode": "overlay",
              "size": 10,
              "solidity": 0.2
             }
            },
            "type": "histogram"
           }
          ],
          "histogram2d": [
           {
            "colorbar": {
             "outlinewidth": 0,
             "ticks": ""
            },
            "colorscale": [
             [
              0,
              "#0d0887"
             ],
             [
              0.1111111111111111,
              "#46039f"
             ],
             [
              0.2222222222222222,
              "#7201a8"
             ],
             [
              0.3333333333333333,
              "#9c179e"
             ],
             [
              0.4444444444444444,
              "#bd3786"
             ],
             [
              0.5555555555555556,
              "#d8576b"
             ],
             [
              0.6666666666666666,
              "#ed7953"
             ],
             [
              0.7777777777777778,
              "#fb9f3a"
             ],
             [
              0.8888888888888888,
              "#fdca26"
             ],
             [
              1,
              "#f0f921"
             ]
            ],
            "type": "histogram2d"
           }
          ],
          "histogram2dcontour": [
           {
            "colorbar": {
             "outlinewidth": 0,
             "ticks": ""
            },
            "colorscale": [
             [
              0,
              "#0d0887"
             ],
             [
              0.1111111111111111,
              "#46039f"
             ],
             [
              0.2222222222222222,
              "#7201a8"
             ],
             [
              0.3333333333333333,
              "#9c179e"
             ],
             [
              0.4444444444444444,
              "#bd3786"
             ],
             [
              0.5555555555555556,
              "#d8576b"
             ],
             [
              0.6666666666666666,
              "#ed7953"
             ],
             [
              0.7777777777777778,
              "#fb9f3a"
             ],
             [
              0.8888888888888888,
              "#fdca26"
             ],
             [
              1,
              "#f0f921"
             ]
            ],
            "type": "histogram2dcontour"
           }
          ],
          "mesh3d": [
           {
            "colorbar": {
             "outlinewidth": 0,
             "ticks": ""
            },
            "type": "mesh3d"
           }
          ],
          "parcoords": [
           {
            "line": {
             "colorbar": {
              "outlinewidth": 0,
              "ticks": ""
             }
            },
            "type": "parcoords"
           }
          ],
          "pie": [
           {
            "automargin": true,
            "type": "pie"
           }
          ],
          "scatter": [
           {
            "fillpattern": {
             "fillmode": "overlay",
             "size": 10,
             "solidity": 0.2
            },
            "type": "scatter"
           }
          ],
          "scatter3d": [
           {
            "line": {
             "colorbar": {
              "outlinewidth": 0,
              "ticks": ""
             }
            },
            "marker": {
             "colorbar": {
              "outlinewidth": 0,
              "ticks": ""
             }
            },
            "type": "scatter3d"
           }
          ],
          "scattercarpet": [
           {
            "marker": {
             "colorbar": {
              "outlinewidth": 0,
              "ticks": ""
             }
            },
            "type": "scattercarpet"
           }
          ],
          "scattergeo": [
           {
            "marker": {
             "colorbar": {
              "outlinewidth": 0,
              "ticks": ""
             }
            },
            "type": "scattergeo"
           }
          ],
          "scattergl": [
           {
            "marker": {
             "colorbar": {
              "outlinewidth": 0,
              "ticks": ""
             }
            },
            "type": "scattergl"
           }
          ],
          "scattermapbox": [
           {
            "marker": {
             "colorbar": {
              "outlinewidth": 0,
              "ticks": ""
             }
            },
            "type": "scattermapbox"
           }
          ],
          "scatterpolar": [
           {
            "marker": {
             "colorbar": {
              "outlinewidth": 0,
              "ticks": ""
             }
            },
            "type": "scatterpolar"
           }
          ],
          "scatterpolargl": [
           {
            "marker": {
             "colorbar": {
              "outlinewidth": 0,
              "ticks": ""
             }
            },
            "type": "scatterpolargl"
           }
          ],
          "scatterternary": [
           {
            "marker": {
             "colorbar": {
              "outlinewidth": 0,
              "ticks": ""
             }
            },
            "type": "scatterternary"
           }
          ],
          "surface": [
           {
            "colorbar": {
             "outlinewidth": 0,
             "ticks": ""
            },
            "colorscale": [
             [
              0,
              "#0d0887"
             ],
             [
              0.1111111111111111,
              "#46039f"
             ],
             [
              0.2222222222222222,
              "#7201a8"
             ],
             [
              0.3333333333333333,
              "#9c179e"
             ],
             [
              0.4444444444444444,
              "#bd3786"
             ],
             [
              0.5555555555555556,
              "#d8576b"
             ],
             [
              0.6666666666666666,
              "#ed7953"
             ],
             [
              0.7777777777777778,
              "#fb9f3a"
             ],
             [
              0.8888888888888888,
              "#fdca26"
             ],
             [
              1,
              "#f0f921"
             ]
            ],
            "type": "surface"
           }
          ],
          "table": [
           {
            "cells": {
             "fill": {
              "color": "#EBF0F8"
             },
             "line": {
              "color": "white"
             }
            },
            "header": {
             "fill": {
              "color": "#C8D4E3"
             },
             "line": {
              "color": "white"
             }
            },
            "type": "table"
           }
          ]
         },
         "layout": {
          "annotationdefaults": {
           "arrowcolor": "#2a3f5f",
           "arrowhead": 0,
           "arrowwidth": 1
          },
          "autotypenumbers": "strict",
          "coloraxis": {
           "colorbar": {
            "outlinewidth": 0,
            "ticks": ""
           }
          },
          "colorscale": {
           "diverging": [
            [
             0,
             "#8e0152"
            ],
            [
             0.1,
             "#c51b7d"
            ],
            [
             0.2,
             "#de77ae"
            ],
            [
             0.3,
             "#f1b6da"
            ],
            [
             0.4,
             "#fde0ef"
            ],
            [
             0.5,
             "#f7f7f7"
            ],
            [
             0.6,
             "#e6f5d0"
            ],
            [
             0.7,
             "#b8e186"
            ],
            [
             0.8,
             "#7fbc41"
            ],
            [
             0.9,
             "#4d9221"
            ],
            [
             1,
             "#276419"
            ]
           ],
           "sequential": [
            [
             0,
             "#0d0887"
            ],
            [
             0.1111111111111111,
             "#46039f"
            ],
            [
             0.2222222222222222,
             "#7201a8"
            ],
            [
             0.3333333333333333,
             "#9c179e"
            ],
            [
             0.4444444444444444,
             "#bd3786"
            ],
            [
             0.5555555555555556,
             "#d8576b"
            ],
            [
             0.6666666666666666,
             "#ed7953"
            ],
            [
             0.7777777777777778,
             "#fb9f3a"
            ],
            [
             0.8888888888888888,
             "#fdca26"
            ],
            [
             1,
             "#f0f921"
            ]
           ],
           "sequentialminus": [
            [
             0,
             "#0d0887"
            ],
            [
             0.1111111111111111,
             "#46039f"
            ],
            [
             0.2222222222222222,
             "#7201a8"
            ],
            [
             0.3333333333333333,
             "#9c179e"
            ],
            [
             0.4444444444444444,
             "#bd3786"
            ],
            [
             0.5555555555555556,
             "#d8576b"
            ],
            [
             0.6666666666666666,
             "#ed7953"
            ],
            [
             0.7777777777777778,
             "#fb9f3a"
            ],
            [
             0.8888888888888888,
             "#fdca26"
            ],
            [
             1,
             "#f0f921"
            ]
           ]
          },
          "colorway": [
           "#636efa",
           "#EF553B",
           "#00cc96",
           "#ab63fa",
           "#FFA15A",
           "#19d3f3",
           "#FF6692",
           "#B6E880",
           "#FF97FF",
           "#FECB52"
          ],
          "font": {
           "color": "#2a3f5f"
          },
          "geo": {
           "bgcolor": "white",
           "lakecolor": "white",
           "landcolor": "#E5ECF6",
           "showlakes": true,
           "showland": true,
           "subunitcolor": "white"
          },
          "hoverlabel": {
           "align": "left"
          },
          "hovermode": "closest",
          "mapbox": {
           "style": "light"
          },
          "paper_bgcolor": "white",
          "plot_bgcolor": "#E5ECF6",
          "polar": {
           "angularaxis": {
            "gridcolor": "white",
            "linecolor": "white",
            "ticks": ""
           },
           "bgcolor": "#E5ECF6",
           "radialaxis": {
            "gridcolor": "white",
            "linecolor": "white",
            "ticks": ""
           }
          },
          "scene": {
           "xaxis": {
            "backgroundcolor": "#E5ECF6",
            "gridcolor": "white",
            "gridwidth": 2,
            "linecolor": "white",
            "showbackground": true,
            "ticks": "",
            "zerolinecolor": "white"
           },
           "yaxis": {
            "backgroundcolor": "#E5ECF6",
            "gridcolor": "white",
            "gridwidth": 2,
            "linecolor": "white",
            "showbackground": true,
            "ticks": "",
            "zerolinecolor": "white"
           },
           "zaxis": {
            "backgroundcolor": "#E5ECF6",
            "gridcolor": "white",
            "gridwidth": 2,
            "linecolor": "white",
            "showbackground": true,
            "ticks": "",
            "zerolinecolor": "white"
           }
          },
          "shapedefaults": {
           "line": {
            "color": "#2a3f5f"
           }
          },
          "ternary": {
           "aaxis": {
            "gridcolor": "white",
            "linecolor": "white",
            "ticks": ""
           },
           "baxis": {
            "gridcolor": "white",
            "linecolor": "white",
            "ticks": ""
           },
           "bgcolor": "#E5ECF6",
           "caxis": {
            "gridcolor": "white",
            "linecolor": "white",
            "ticks": ""
           }
          },
          "title": {
           "x": 0.05
          },
          "xaxis": {
           "automargin": true,
           "gridcolor": "white",
           "linecolor": "white",
           "ticks": "",
           "title": {
            "standoff": 15
           },
           "zerolinecolor": "white",
           "zerolinewidth": 2
          },
          "yaxis": {
           "automargin": true,
           "gridcolor": "white",
           "linecolor": "white",
           "ticks": "",
           "title": {
            "standoff": 15
           },
           "zerolinecolor": "white",
           "zerolinewidth": 2
          }
         }
        },
        "title": {
         "font": {
          "size": 22
         },
         "text": "Relative Execution Time for Intersection by Max Chunk Size ",
         "x": 0.5
        },
        "width": 1000,
        "xaxis": {
         "anchor": "y",
         "domain": [
          0,
          0.94
         ],
         "tickfont": {
          "size": 16
         },
         "title": {
          "text": ""
         }
        },
        "xaxis2": {
         "anchor": "y3",
         "domain": [
          0,
          0.94
         ],
         "tickfont": {
          "size": 16
         },
         "title": {
          "text": ""
         }
        },
        "xaxis3": {
         "anchor": "y5",
         "domain": [
          0,
          0.94
         ],
         "tickfont": {
          "size": 16
         },
         "title": {
          "text": ""
         }
        },
        "yaxis": {
         "anchor": "x",
         "domain": [
          0.7133333333333334,
          1
         ],
         "tickfont": {
          "size": 16
         },
         "title": {
          "text": ""
         },
         "type": "log"
        },
        "yaxis2": {
         "anchor": "x",
         "overlaying": "y",
         "side": "right",
         "title": {
          "text": ""
         }
        },
        "yaxis3": {
         "anchor": "x2",
         "domain": [
          0.3566666666666667,
          0.6433333333333333
         ],
         "tickfont": {
          "size": 16
         },
         "title": {
          "text": ""
         },
         "type": "log"
        },
        "yaxis4": {
         "anchor": "x2",
         "overlaying": "y3",
         "side": "right",
         "title": {
          "text": ""
         }
        },
        "yaxis5": {
         "anchor": "x3",
         "domain": [
          0,
          0.2866666666666667
         ],
         "tickfont": {
          "size": 16
         },
         "title": {
          "text": ""
         },
         "type": "log"
        },
        "yaxis6": {
         "anchor": "x3",
         "overlaying": "y5",
         "side": "right",
         "title": {
          "text": ""
         }
        }
       }
      }
     },
     "metadata": {},
     "output_type": "display_data"
    }
   ],
   "source": [
    "plot_max_delta_size_speed(max_deltas_filt_df, is_predicate=False, no_mixed=True, relative=True)"
   ]
  },
  {
   "attachments": {},
   "cell_type": "markdown",
   "metadata": {},
   "source": [
    "#### Dataset Stats Collection"
   ]
  },
  {
   "cell_type": "code",
   "execution_count": 8,
   "metadata": {},
   "outputs": [
    {
     "name": "stderr",
     "output_type": "stream",
     "text": [
      "100%|██████████| 7/7 [01:13<00:00, 10.53s/it]\n",
      "100%|██████████| 7/7 [00:45<00:00,  6.56s/it]\n"
     ]
    }
   ],
   "source": [
    "if USE_EXISTING_DF:\n",
    "    stats_df = pd.DataFrame(columns=['decomp', 'nbr_recieved_chks', 'nbr_total_chks', 'total_time', \"sizes\", \"context\", \"delta_size\", \"predicate\", \"dataset_idx\", \"baseline\"])\n",
    "    for baseline_on in [True, False]:\n",
    "        act_deact_baseline(activate=baseline_on)\n",
    "        for dataset in tqdm(datasets):\n",
    "            evaluate_dataset(dataset[0], stats_df, delta_size=dataset[1]  if not baseline_on else 10000) # Second param: PLOT?\n",
    "    stats_df.to_csv('stats_df.csv', index=False)\n",
    "\n",
    "else:\n",
    "    stats_df = pd.read_csv('stats_df.csv')"
   ]
  },
  {
   "cell_type": "markdown",
   "metadata": {},
   "source": [
    "#### Total Execution Time by Context"
   ]
  },
  {
   "attachments": {},
   "cell_type": "markdown",
   "metadata": {},
   "source": [
    "##### Bars"
   ]
  },
  {
   "cell_type": "code",
   "execution_count": 12,
   "metadata": {},
   "outputs": [],
   "source": [
    "def plot_total_time_bars(df, is_predicate=False, size_cat_excl=[], log_scale=True):\n",
    "    df = df[(df['predicate'] == is_predicate)] #(df['sizes'].isin([\"Small/Small\", \"Medium/Medium\", \"Large/Large\"]))]\n",
    "\n",
    "    df = df.groupby(['context', 'baseline', 'sizes']).mean()\n",
    "    df.reset_index(inplace=True)\n",
    "    baseline_df = df[df['baseline']]\n",
    "    not_baseline_df = df[~df['baseline']]\n",
    "    baseline_df.sort_values(by=['context', 'sizes'])\n",
    "    not_baseline_df.sort_values(by=['context', 'sizes'])\n",
    "    not_baseline_df['total_time_ratio'] = not_baseline_df['total_time'].values / baseline_df['total_time'].values\n",
    "    df = not_baseline_df\n",
    "\n",
    "\n",
    "\n",
    "    df.loc[~df['baseline'], 'decomp_ratio'] = df.loc[~df['baseline'], 'total_time_ratio'] *  df.loc[~df['baseline'], 'decomp'] / df.loc[~df['baseline'], 'total_time']    \n",
    "    df['total_time_ratio'] = df.loc[~df['baseline'], 'total_time_ratio'] - df.loc[~df['baseline'], 'decomp_ratio']\n",
    "    df = df[df['baseline'] == False]\n",
    "    intersection_formatting = \"Intersection\" if not is_predicate else \"Is_Intersection\"\n",
    "    df = pd.concat([df] * 2, ignore_index=True)\n",
    "\n",
    "    new_column_values = ([\"Decompression\"] * (len(df) // 2))\n",
    "    new_column_values.extend(([\"Intersection\"] * (len(df) // 2)))\n",
    "\n",
    "    df['Stage'] = new_column_values\n",
    "    df['time'] = df.apply(lambda x: x['decomp_ratio'] if x[\"Stage\"] == \"Decompression\" else x['total_time_ratio'], axis=1)\n",
    "    df = df[['time', 'context', 'sizes', 'Stage']]\n",
    "    fig = px.bar(df, \n",
    "                       x=\"context\", \n",
    "                       y=\"time\", \n",
    "                       facet_col=\"sizes\", \n",
    "                       color=\"Stage\",\n",
    "                       barmode='group',\n",
    "                       log_y=log_scale, \n",
    "                       facet_col_spacing=0.1, \n",
    "                       #histfunc=\"avg\", \n",
    "                       title=f\"Execution Time for {intersection_formatting} in Different Contexts & Sizes\",\n",
    "                       labels=dict(sizes=\"Geometry Sizes\", context=\"Context\", baseline=\"Baseline\", Stage=\"Stage: \"),\n",
    "                       facet_col_wrap=3,\n",
    "                       facet_row_spacing=0.1,\n",
    "                       height=1000,\n",
    "                       width=1000,\n",
    "                       pattern_shape='Stage',\n",
    "                       #text=\"time\"\n",
    "                       )\n",
    "\n",
    "    make_general_facet_title(fig, \"Bounding Box Context\", \"Relative Mean Execution Time (%)\", barplot=True)\n",
    "    #fig.update_annotations(font=dict(size=14))\n",
    "    fig.for_each_yaxis(lambda yaxis: yaxis.update(showticklabels=True))\n",
    "    fig.update_yaxes(matches=None, showticklabels=True, visible=True,  tickfont=dict(size=14))\n",
    "    fig.update_xaxes(tickfont=dict(size=14))\n",
    "   # fig.update_traces(texttemplate='%{text:.2}', textposition='inside', textfont=dict(color='white'))\n",
    "\n",
    "    fig.update_layout(barmode=\"relative\",\n",
    "                      title_x=0.5,\n",
    "                      width=1000, \n",
    "                      height=1000, \n",
    "                      legend=dict(\n",
    "                            yanchor=\"top\",\n",
    "                            y=-0.15,\n",
    "                            xanchor=\"left\",\n",
    "                            x=0.7,\n",
    "                            orientation=\"h\",\n",
    "                            font=dict(size=15),\n",
    "                        ),\n",
    "                        title=dict(\n",
    "                            text=f'Relative Mean Execution Time for Intersection in Different Contexts',\n",
    "                            x=0.5,\n",
    "                            font=dict(size=22)\n",
    "                            )\n",
    "                        )\n",
    "   \n",
    "    fig.show()\n"
   ]
  },
  {
   "cell_type": "code",
   "execution_count": null,
   "metadata": {},
   "outputs": [],
   "source": []
  },
  {
   "cell_type": "code",
   "execution_count": 13,
   "metadata": {},
   "outputs": [
    {
     "data": {
      "text/html": [
       "<div>\n",
       "<style scoped>\n",
       "    .dataframe tbody tr th:only-of-type {\n",
       "        vertical-align: middle;\n",
       "    }\n",
       "\n",
       "    .dataframe tbody tr th {\n",
       "        vertical-align: top;\n",
       "    }\n",
       "\n",
       "    .dataframe thead th {\n",
       "        text-align: right;\n",
       "    }\n",
       "</style>\n",
       "<table border=\"1\" class=\"dataframe\">\n",
       "  <thead>\n",
       "    <tr style=\"text-align: right;\">\n",
       "      <th></th>\n",
       "      <th></th>\n",
       "      <th></th>\n",
       "      <th>total_time</th>\n",
       "      <th>predicate</th>\n",
       "      <th>decomp</th>\n",
       "    </tr>\n",
       "    <tr>\n",
       "      <th>context</th>\n",
       "      <th>baseline</th>\n",
       "      <th>sizes</th>\n",
       "      <th></th>\n",
       "      <th></th>\n",
       "      <th></th>\n",
       "    </tr>\n",
       "  </thead>\n",
       "  <tbody>\n",
       "    <tr>\n",
       "      <th rowspan=\"6\" valign=\"top\">Fully Inside Other (TRUE)</th>\n",
       "      <th rowspan=\"3\" valign=\"top\">False</th>\n",
       "      <th>Small/Large</th>\n",
       "      <td>0.002750</td>\n",
       "      <td>0.0</td>\n",
       "      <td>0.001596</td>\n",
       "    </tr>\n",
       "    <tr>\n",
       "      <th>Small/Medium</th>\n",
       "      <td>0.000666</td>\n",
       "      <td>0.0</td>\n",
       "      <td>0.000175</td>\n",
       "    </tr>\n",
       "    <tr>\n",
       "      <th>Small/Small</th>\n",
       "      <td>0.000556</td>\n",
       "      <td>0.0</td>\n",
       "      <td>0.000130</td>\n",
       "    </tr>\n",
       "    <tr>\n",
       "      <th rowspan=\"3\" valign=\"top\">True</th>\n",
       "      <th>Small/Large</th>\n",
       "      <td>0.004632</td>\n",
       "      <td>0.0</td>\n",
       "      <td>0.003661</td>\n",
       "    </tr>\n",
       "    <tr>\n",
       "      <th>Small/Medium</th>\n",
       "      <td>0.000919</td>\n",
       "      <td>0.0</td>\n",
       "      <td>0.000405</td>\n",
       "    </tr>\n",
       "    <tr>\n",
       "      <th>Small/Small</th>\n",
       "      <td>0.000641</td>\n",
       "      <td>0.0</td>\n",
       "      <td>0.000188</td>\n",
       "    </tr>\n",
       "    <tr>\n",
       "      <th rowspan=\"12\" valign=\"top\">Overlap (FALSE)</th>\n",
       "      <th rowspan=\"6\" valign=\"top\">False</th>\n",
       "      <th>Large/Large</th>\n",
       "      <td>0.000520</td>\n",
       "      <td>0.0</td>\n",
       "      <td>0.000365</td>\n",
       "    </tr>\n",
       "    <tr>\n",
       "      <th>Medium/Large</th>\n",
       "      <td>0.000448</td>\n",
       "      <td>0.0</td>\n",
       "      <td>0.000254</td>\n",
       "    </tr>\n",
       "    <tr>\n",
       "      <th>Medium/Medium</th>\n",
       "      <td>0.000342</td>\n",
       "      <td>0.0</td>\n",
       "      <td>0.000160</td>\n",
       "    </tr>\n",
       "    <tr>\n",
       "      <th>Small/Large</th>\n",
       "      <td>0.000344</td>\n",
       "      <td>0.0</td>\n",
       "      <td>0.000241</td>\n",
       "    </tr>\n",
       "    <tr>\n",
       "      <th>Small/Medium</th>\n",
       "      <td>0.000156</td>\n",
       "      <td>0.0</td>\n",
       "      <td>0.000080</td>\n",
       "    </tr>\n",
       "    <tr>\n",
       "      <th>Small/Small</th>\n",
       "      <td>0.000171</td>\n",
       "      <td>0.0</td>\n",
       "      <td>0.000071</td>\n",
       "    </tr>\n",
       "    <tr>\n",
       "      <th rowspan=\"6\" valign=\"top\">True</th>\n",
       "      <th>Large/Large</th>\n",
       "      <td>0.008046</td>\n",
       "      <td>0.0</td>\n",
       "      <td>0.006952</td>\n",
       "    </tr>\n",
       "    <tr>\n",
       "      <th>Medium/Large</th>\n",
       "      <td>0.002070</td>\n",
       "      <td>0.0</td>\n",
       "      <td>0.001715</td>\n",
       "    </tr>\n",
       "    <tr>\n",
       "      <th>Medium/Medium</th>\n",
       "      <td>0.000781</td>\n",
       "      <td>0.0</td>\n",
       "      <td>0.000530</td>\n",
       "    </tr>\n",
       "    <tr>\n",
       "      <th>Small/Large</th>\n",
       "      <td>0.002167</td>\n",
       "      <td>0.0</td>\n",
       "      <td>0.001878</td>\n",
       "    </tr>\n",
       "    <tr>\n",
       "      <th>Small/Medium</th>\n",
       "      <td>0.000540</td>\n",
       "      <td>0.0</td>\n",
       "      <td>0.000367</td>\n",
       "    </tr>\n",
       "    <tr>\n",
       "      <th>Small/Small</th>\n",
       "      <td>0.000263</td>\n",
       "      <td>0.0</td>\n",
       "      <td>0.000140</td>\n",
       "    </tr>\n",
       "    <tr>\n",
       "      <th rowspan=\"12\" valign=\"top\">Partial Overlap (TRUE)</th>\n",
       "      <th rowspan=\"6\" valign=\"top\">False</th>\n",
       "      <th>Large/Large</th>\n",
       "      <td>0.005755</td>\n",
       "      <td>0.0</td>\n",
       "      <td>0.000827</td>\n",
       "    </tr>\n",
       "    <tr>\n",
       "      <th>Medium/Large</th>\n",
       "      <td>0.000779</td>\n",
       "      <td>0.0</td>\n",
       "      <td>0.000297</td>\n",
       "    </tr>\n",
       "    <tr>\n",
       "      <th>Medium/Medium</th>\n",
       "      <td>0.001246</td>\n",
       "      <td>0.0</td>\n",
       "      <td>0.000251</td>\n",
       "    </tr>\n",
       "    <tr>\n",
       "      <th>Small/Large</th>\n",
       "      <td>0.000915</td>\n",
       "      <td>0.0</td>\n",
       "      <td>0.000361</td>\n",
       "    </tr>\n",
       "    <tr>\n",
       "      <th>Small/Medium</th>\n",
       "      <td>0.000700</td>\n",
       "      <td>0.0</td>\n",
       "      <td>0.000167</td>\n",
       "    </tr>\n",
       "    <tr>\n",
       "      <th>Small/Small</th>\n",
       "      <td>0.000674</td>\n",
       "      <td>0.0</td>\n",
       "      <td>0.000125</td>\n",
       "    </tr>\n",
       "    <tr>\n",
       "      <th rowspan=\"6\" valign=\"top\">True</th>\n",
       "      <th>Large/Large</th>\n",
       "      <td>0.012297</td>\n",
       "      <td>0.0</td>\n",
       "      <td>0.003885</td>\n",
       "    </tr>\n",
       "    <tr>\n",
       "      <th>Medium/Large</th>\n",
       "      <td>0.002168</td>\n",
       "      <td>0.0</td>\n",
       "      <td>0.001413</td>\n",
       "    </tr>\n",
       "    <tr>\n",
       "      <th>Medium/Medium</th>\n",
       "      <td>0.001742</td>\n",
       "      <td>0.0</td>\n",
       "      <td>0.000601</td>\n",
       "    </tr>\n",
       "    <tr>\n",
       "      <th>Small/Large</th>\n",
       "      <td>0.002329</td>\n",
       "      <td>0.0</td>\n",
       "      <td>0.001607</td>\n",
       "    </tr>\n",
       "    <tr>\n",
       "      <th>Small/Medium</th>\n",
       "      <td>0.000913</td>\n",
       "      <td>0.0</td>\n",
       "      <td>0.000398</td>\n",
       "    </tr>\n",
       "    <tr>\n",
       "      <th>Small/Small</th>\n",
       "      <td>0.000676</td>\n",
       "      <td>0.0</td>\n",
       "      <td>0.000182</td>\n",
       "    </tr>\n",
       "  </tbody>\n",
       "</table>\n",
       "</div>"
      ],
      "text/plain": [
       "                                                  total_time  predicate   \n",
       "context                   baseline sizes                                  \n",
       "Fully Inside Other (TRUE) False    Small/Large      0.002750        0.0  \\\n",
       "                                   Small/Medium     0.000666        0.0   \n",
       "                                   Small/Small      0.000556        0.0   \n",
       "                          True     Small/Large      0.004632        0.0   \n",
       "                                   Small/Medium     0.000919        0.0   \n",
       "                                   Small/Small      0.000641        0.0   \n",
       "Overlap (FALSE)           False    Large/Large      0.000520        0.0   \n",
       "                                   Medium/Large     0.000448        0.0   \n",
       "                                   Medium/Medium    0.000342        0.0   \n",
       "                                   Small/Large      0.000344        0.0   \n",
       "                                   Small/Medium     0.000156        0.0   \n",
       "                                   Small/Small      0.000171        0.0   \n",
       "                          True     Large/Large      0.008046        0.0   \n",
       "                                   Medium/Large     0.002070        0.0   \n",
       "                                   Medium/Medium    0.000781        0.0   \n",
       "                                   Small/Large      0.002167        0.0   \n",
       "                                   Small/Medium     0.000540        0.0   \n",
       "                                   Small/Small      0.000263        0.0   \n",
       "Partial Overlap (TRUE)    False    Large/Large      0.005755        0.0   \n",
       "                                   Medium/Large     0.000779        0.0   \n",
       "                                   Medium/Medium    0.001246        0.0   \n",
       "                                   Small/Large      0.000915        0.0   \n",
       "                                   Small/Medium     0.000700        0.0   \n",
       "                                   Small/Small      0.000674        0.0   \n",
       "                          True     Large/Large      0.012297        0.0   \n",
       "                                   Medium/Large     0.002168        0.0   \n",
       "                                   Medium/Medium    0.001742        0.0   \n",
       "                                   Small/Large      0.002329        0.0   \n",
       "                                   Small/Medium     0.000913        0.0   \n",
       "                                   Small/Small      0.000676        0.0   \n",
       "\n",
       "                                                    decomp  \n",
       "context                   baseline sizes                    \n",
       "Fully Inside Other (TRUE) False    Small/Large    0.001596  \n",
       "                                   Small/Medium   0.000175  \n",
       "                                   Small/Small    0.000130  \n",
       "                          True     Small/Large    0.003661  \n",
       "                                   Small/Medium   0.000405  \n",
       "                                   Small/Small    0.000188  \n",
       "Overlap (FALSE)           False    Large/Large    0.000365  \n",
       "                                   Medium/Large   0.000254  \n",
       "                                   Medium/Medium  0.000160  \n",
       "                                   Small/Large    0.000241  \n",
       "                                   Small/Medium   0.000080  \n",
       "                                   Small/Small    0.000071  \n",
       "                          True     Large/Large    0.006952  \n",
       "                                   Medium/Large   0.001715  \n",
       "                                   Medium/Medium  0.000530  \n",
       "                                   Small/Large    0.001878  \n",
       "                                   Small/Medium   0.000367  \n",
       "                                   Small/Small    0.000140  \n",
       "Partial Overlap (TRUE)    False    Large/Large    0.000827  \n",
       "                                   Medium/Large   0.000297  \n",
       "                                   Medium/Medium  0.000251  \n",
       "                                   Small/Large    0.000361  \n",
       "                                   Small/Medium   0.000167  \n",
       "                                   Small/Small    0.000125  \n",
       "                          True     Large/Large    0.003885  \n",
       "                                   Medium/Large   0.001413  \n",
       "                                   Medium/Medium  0.000601  \n",
       "                                   Small/Large    0.001607  \n",
       "                                   Small/Medium   0.000398  \n",
       "                                   Small/Small    0.000182  "
      ]
     },
     "metadata": {},
     "output_type": "display_data"
    },
    {
     "data": {
      "application/vnd.plotly.v1+json": {
       "config": {
        "plotlyServerURL": "https://plot.ly"
       },
       "data": [
        {
         "alignmentgroup": "True",
         "hovertemplate": "Stage: =Decompression<br>Geometry Sizes=Small/Large<br>Context=%{x}<br>time=%{y}<extra></extra>",
         "legendgroup": "Decompression",
         "marker": {
          "color": "#636efa",
          "pattern": {
           "shape": ""
          }
         },
         "name": "Decompression",
         "offsetgroup": "Decompression",
         "orientation": "v",
         "showlegend": true,
         "textposition": "auto",
         "type": "bar",
         "x": [
          "Fully Inside Other (TRUE)",
          "Overlap (FALSE)",
          "Partial Overlap (TRUE)"
         ],
         "xaxis": "x4",
         "y": [
          0.3445043732296567,
          0.1113060756216765,
          0.15492080399689726
         ],
         "yaxis": "y4"
        },
        {
         "alignmentgroup": "True",
         "hovertemplate": "Stage: =Decompression<br>Geometry Sizes=Small/Medium<br>Context=%{x}<br>time=%{y}<extra></extra>",
         "legendgroup": "Decompression",
         "marker": {
          "color": "#636efa",
          "pattern": {
           "shape": ""
          }
         },
         "name": "Decompression",
         "offsetgroup": "Decompression",
         "orientation": "v",
         "showlegend": false,
         "textposition": "auto",
         "type": "bar",
         "x": [
          "Fully Inside Other (TRUE)",
          "Overlap (FALSE)",
          "Partial Overlap (TRUE)"
         ],
         "xaxis": "x5",
         "y": [
          0.19007628732561038,
          0.14837845724931809,
          0.18255004385140383
         ],
         "yaxis": "y5"
        },
        {
         "alignmentgroup": "True",
         "hovertemplate": "Stage: =Decompression<br>Geometry Sizes=Small/Small<br>Context=%{x}<br>time=%{y}<extra></extra>",
         "legendgroup": "Decompression",
         "marker": {
          "color": "#636efa",
          "pattern": {
           "shape": ""
          }
         },
         "name": "Decompression",
         "offsetgroup": "Decompression",
         "orientation": "v",
         "showlegend": false,
         "textposition": "auto",
         "type": "bar",
         "x": [
          "Fully Inside Other (TRUE)",
          "Overlap (FALSE)",
          "Partial Overlap (TRUE)"
         ],
         "xaxis": "x6",
         "y": [
          0.20226887330914592,
          0.26948108882430355,
          0.18492415955882743
         ],
         "yaxis": "y6"
        },
        {
         "alignmentgroup": "True",
         "hovertemplate": "Stage: =Decompression<br>Geometry Sizes=Large/Large<br>Context=%{x}<br>time=%{y}<extra></extra>",
         "legendgroup": "Decompression",
         "marker": {
          "color": "#636efa",
          "pattern": {
           "shape": ""
          }
         },
         "name": "Decompression",
         "offsetgroup": "Decompression",
         "orientation": "v",
         "showlegend": false,
         "textposition": "auto",
         "type": "bar",
         "x": [
          "Overlap (FALSE)",
          "Partial Overlap (TRUE)"
         ],
         "xaxis": "x",
         "y": [
          0.045424240139636606,
          0.06721526642156798
         ],
         "yaxis": "y"
        },
        {
         "alignmentgroup": "True",
         "hovertemplate": "Stage: =Decompression<br>Geometry Sizes=Medium/Large<br>Context=%{x}<br>time=%{y}<extra></extra>",
         "legendgroup": "Decompression",
         "marker": {
          "color": "#636efa",
          "pattern": {
           "shape": ""
          }
         },
         "name": "Decompression",
         "offsetgroup": "Decompression",
         "orientation": "v",
         "showlegend": false,
         "textposition": "auto",
         "type": "bar",
         "x": [
          "Overlap (FALSE)",
          "Partial Overlap (TRUE)"
         ],
         "xaxis": "x2",
         "y": [
          0.12264611805943783,
          0.1368247284554445
         ],
         "yaxis": "y2"
        },
        {
         "alignmentgroup": "True",
         "hovertemplate": "Stage: =Decompression<br>Geometry Sizes=Medium/Medium<br>Context=%{x}<br>time=%{y}<extra></extra>",
         "legendgroup": "Decompression",
         "marker": {
          "color": "#636efa",
          "pattern": {
           "shape": ""
          }
         },
         "name": "Decompression",
         "offsetgroup": "Decompression",
         "orientation": "v",
         "showlegend": false,
         "textposition": "auto",
         "type": "bar",
         "x": [
          "Overlap (FALSE)",
          "Partial Overlap (TRUE)"
         ],
         "xaxis": "x3",
         "y": [
          0.20425059036285645,
          0.14431600664262914
         ],
         "yaxis": "y3"
        },
        {
         "alignmentgroup": "True",
         "hovertemplate": "Stage: =Intersection<br>Geometry Sizes=Small/Large<br>Context=%{x}<br>time=%{y}<extra></extra>",
         "legendgroup": "Intersection",
         "marker": {
          "color": "#EF553B",
          "pattern": {
           "shape": "/"
          }
         },
         "name": "Intersection",
         "offsetgroup": "Intersection",
         "orientation": "v",
         "showlegend": true,
         "textposition": "auto",
         "type": "bar",
         "x": [
          "Fully Inside Other (TRUE)",
          "Overlap (FALSE)",
          "Partial Overlap (TRUE)"
         ],
         "xaxis": "x4",
         "y": [
          0.2492138751070117,
          0.047547467761743914,
          0.23778483805081582
         ],
         "yaxis": "y4"
        },
        {
         "alignmentgroup": "True",
         "hovertemplate": "Stage: =Intersection<br>Geometry Sizes=Small/Medium<br>Context=%{x}<br>time=%{y}<extra></extra>",
         "legendgroup": "Intersection",
         "marker": {
          "color": "#EF553B",
          "pattern": {
           "shape": "/"
          }
         },
         "name": "Intersection",
         "offsetgroup": "Intersection",
         "orientation": "v",
         "showlegend": false,
         "textposition": "auto",
         "type": "bar",
         "x": [
          "Fully Inside Other (TRUE)",
          "Overlap (FALSE)",
          "Partial Overlap (TRUE)"
         ],
         "xaxis": "x5",
         "y": [
          0.5350931483441208,
          0.14051063593627178,
          0.5840618613214072
         ],
         "yaxis": "y5"
        },
        {
         "alignmentgroup": "True",
         "hovertemplate": "Stage: =Intersection<br>Geometry Sizes=Small/Small<br>Context=%{x}<br>time=%{y}<extra></extra>",
         "legendgroup": "Intersection",
         "marker": {
          "color": "#EF553B",
          "pattern": {
           "shape": "/"
          }
         },
         "name": "Intersection",
         "offsetgroup": "Intersection",
         "orientation": "v",
         "showlegend": false,
         "textposition": "auto",
         "type": "bar",
         "x": [
          "Fully Inside Other (TRUE)",
          "Overlap (FALSE)",
          "Partial Overlap (TRUE)"
         ],
         "xaxis": "x6",
         "y": [
          0.6642961225403673,
          0.38067336919068595,
          0.8117483342855679
         ],
         "yaxis": "y6"
        },
        {
         "alignmentgroup": "True",
         "hovertemplate": "Stage: =Intersection<br>Geometry Sizes=Large/Large<br>Context=%{x}<br>time=%{y}<extra></extra>",
         "legendgroup": "Intersection",
         "marker": {
          "color": "#EF553B",
          "pattern": {
           "shape": "/"
          }
         },
         "name": "Intersection",
         "offsetgroup": "Intersection",
         "orientation": "v",
         "showlegend": false,
         "textposition": "auto",
         "type": "bar",
         "x": [
          "Overlap (FALSE)",
          "Partial Overlap (TRUE)"
         ],
         "xaxis": "x",
         "y": [
          0.019161228649352165,
          0.4007871191258186
         ],
         "yaxis": "y"
        },
        {
         "alignmentgroup": "True",
         "hovertemplate": "Stage: =Intersection<br>Geometry Sizes=Medium/Large<br>Context=%{x}<br>time=%{y}<extra></extra>",
         "legendgroup": "Intersection",
         "marker": {
          "color": "#EF553B",
          "pattern": {
           "shape": "/"
          }
         },
         "name": "Intersection",
         "offsetgroup": "Intersection",
         "orientation": "v",
         "showlegend": false,
         "textposition": "auto",
         "type": "bar",
         "x": [
          "Overlap (FALSE)",
          "Partial Overlap (TRUE)"
         ],
         "xaxis": "x2",
         "y": [
          0.09354348533398431,
          0.22232957236096615
         ],
         "yaxis": "y2"
        },
        {
         "alignmentgroup": "True",
         "hovertemplate": "Stage: =Intersection<br>Geometry Sizes=Medium/Medium<br>Context=%{x}<br>time=%{y}<extra></extra>",
         "legendgroup": "Intersection",
         "marker": {
          "color": "#EF553B",
          "pattern": {
           "shape": "/"
          }
         },
         "name": "Intersection",
         "offsetgroup": "Intersection",
         "orientation": "v",
         "showlegend": false,
         "textposition": "auto",
         "type": "bar",
         "x": [
          "Overlap (FALSE)",
          "Partial Overlap (TRUE)"
         ],
         "xaxis": "x3",
         "y": [
          0.23310332027065775,
          0.5706834449948109
         ],
         "yaxis": "y3"
        }
       ],
       "layout": {
        "annotations": [
         {
          "showarrow": false,
          "text": "Geometry Sizes=Large/Large",
          "x": 0.13333333333333333,
          "xanchor": "center",
          "xref": "paper",
          "y": 0.45,
          "yanchor": "bottom",
          "yref": "paper"
         },
         {
          "showarrow": false,
          "text": "Geometry Sizes=Medium/Large",
          "x": 0.5,
          "xanchor": "center",
          "xref": "paper",
          "y": 0.45,
          "yanchor": "bottom",
          "yref": "paper"
         },
         {
          "showarrow": false,
          "text": "Geometry Sizes=Medium/Medium",
          "x": 0.8666666666666667,
          "xanchor": "center",
          "xref": "paper",
          "y": 0.45,
          "yanchor": "bottom",
          "yref": "paper"
         },
         {
          "showarrow": false,
          "text": "Geometry Sizes=Small/Large",
          "x": 0.13333333333333333,
          "xanchor": "center",
          "xref": "paper",
          "y": 1,
          "yanchor": "bottom",
          "yref": "paper"
         },
         {
          "showarrow": false,
          "text": "Geometry Sizes=Small/Medium",
          "x": 0.5,
          "xanchor": "center",
          "xref": "paper",
          "y": 1,
          "yanchor": "bottom",
          "yref": "paper"
         },
         {
          "showarrow": false,
          "text": "Geometry Sizes=Small/Small",
          "x": 0.8666666666666667,
          "xanchor": "center",
          "xref": "paper",
          "y": 1,
          "yanchor": "bottom",
          "yref": "paper"
         },
         {
          "font": {
           "size": 20
          },
          "showarrow": false,
          "text": "Bouning Box Context",
          "x": 0.5,
          "xanchor": "center",
          "xref": "paper",
          "y": -0.15,
          "yanchor": "top",
          "yref": "paper"
         },
         {
          "font": {
           "size": 20
          },
          "showarrow": false,
          "text": "Relative Mean Execution Time (%)",
          "textangle": -90,
          "x": -0.07,
          "xanchor": "center",
          "xref": "paper",
          "y": 0.5,
          "yanchor": "middle",
          "yref": "paper"
         }
        ],
        "barmode": "relative",
        "height": 1000,
        "legend": {
         "font": {
          "size": 15
         },
         "orientation": "h",
         "title": {
          "text": "Stage: "
         },
         "tracegroupgap": 0,
         "x": 0.7,
         "xanchor": "left",
         "y": -0.15,
         "yanchor": "top"
        },
        "template": {
         "data": {
          "bar": [
           {
            "error_x": {
             "color": "#2a3f5f"
            },
            "error_y": {
             "color": "#2a3f5f"
            },
            "marker": {
             "line": {
              "color": "#E5ECF6",
              "width": 0.5
             },
             "pattern": {
              "fillmode": "overlay",
              "size": 10,
              "solidity": 0.2
             }
            },
            "type": "bar"
           }
          ],
          "barpolar": [
           {
            "marker": {
             "line": {
              "color": "#E5ECF6",
              "width": 0.5
             },
             "pattern": {
              "fillmode": "overlay",
              "size": 10,
              "solidity": 0.2
             }
            },
            "type": "barpolar"
           }
          ],
          "carpet": [
           {
            "aaxis": {
             "endlinecolor": "#2a3f5f",
             "gridcolor": "white",
             "linecolor": "white",
             "minorgridcolor": "white",
             "startlinecolor": "#2a3f5f"
            },
            "baxis": {
             "endlinecolor": "#2a3f5f",
             "gridcolor": "white",
             "linecolor": "white",
             "minorgridcolor": "white",
             "startlinecolor": "#2a3f5f"
            },
            "type": "carpet"
           }
          ],
          "choropleth": [
           {
            "colorbar": {
             "outlinewidth": 0,
             "ticks": ""
            },
            "type": "choropleth"
           }
          ],
          "contour": [
           {
            "colorbar": {
             "outlinewidth": 0,
             "ticks": ""
            },
            "colorscale": [
             [
              0,
              "#0d0887"
             ],
             [
              0.1111111111111111,
              "#46039f"
             ],
             [
              0.2222222222222222,
              "#7201a8"
             ],
             [
              0.3333333333333333,
              "#9c179e"
             ],
             [
              0.4444444444444444,
              "#bd3786"
             ],
             [
              0.5555555555555556,
              "#d8576b"
             ],
             [
              0.6666666666666666,
              "#ed7953"
             ],
             [
              0.7777777777777778,
              "#fb9f3a"
             ],
             [
              0.8888888888888888,
              "#fdca26"
             ],
             [
              1,
              "#f0f921"
             ]
            ],
            "type": "contour"
           }
          ],
          "contourcarpet": [
           {
            "colorbar": {
             "outlinewidth": 0,
             "ticks": ""
            },
            "type": "contourcarpet"
           }
          ],
          "heatmap": [
           {
            "colorbar": {
             "outlinewidth": 0,
             "ticks": ""
            },
            "colorscale": [
             [
              0,
              "#0d0887"
             ],
             [
              0.1111111111111111,
              "#46039f"
             ],
             [
              0.2222222222222222,
              "#7201a8"
             ],
             [
              0.3333333333333333,
              "#9c179e"
             ],
             [
              0.4444444444444444,
              "#bd3786"
             ],
             [
              0.5555555555555556,
              "#d8576b"
             ],
             [
              0.6666666666666666,
              "#ed7953"
             ],
             [
              0.7777777777777778,
              "#fb9f3a"
             ],
             [
              0.8888888888888888,
              "#fdca26"
             ],
             [
              1,
              "#f0f921"
             ]
            ],
            "type": "heatmap"
           }
          ],
          "heatmapgl": [
           {
            "colorbar": {
             "outlinewidth": 0,
             "ticks": ""
            },
            "colorscale": [
             [
              0,
              "#0d0887"
             ],
             [
              0.1111111111111111,
              "#46039f"
             ],
             [
              0.2222222222222222,
              "#7201a8"
             ],
             [
              0.3333333333333333,
              "#9c179e"
             ],
             [
              0.4444444444444444,
              "#bd3786"
             ],
             [
              0.5555555555555556,
              "#d8576b"
             ],
             [
              0.6666666666666666,
              "#ed7953"
             ],
             [
              0.7777777777777778,
              "#fb9f3a"
             ],
             [
              0.8888888888888888,
              "#fdca26"
             ],
             [
              1,
              "#f0f921"
             ]
            ],
            "type": "heatmapgl"
           }
          ],
          "histogram": [
           {
            "marker": {
             "pattern": {
              "fillmode": "overlay",
              "size": 10,
              "solidity": 0.2
             }
            },
            "type": "histogram"
           }
          ],
          "histogram2d": [
           {
            "colorbar": {
             "outlinewidth": 0,
             "ticks": ""
            },
            "colorscale": [
             [
              0,
              "#0d0887"
             ],
             [
              0.1111111111111111,
              "#46039f"
             ],
             [
              0.2222222222222222,
              "#7201a8"
             ],
             [
              0.3333333333333333,
              "#9c179e"
             ],
             [
              0.4444444444444444,
              "#bd3786"
             ],
             [
              0.5555555555555556,
              "#d8576b"
             ],
             [
              0.6666666666666666,
              "#ed7953"
             ],
             [
              0.7777777777777778,
              "#fb9f3a"
             ],
             [
              0.8888888888888888,
              "#fdca26"
             ],
             [
              1,
              "#f0f921"
             ]
            ],
            "type": "histogram2d"
           }
          ],
          "histogram2dcontour": [
           {
            "colorbar": {
             "outlinewidth": 0,
             "ticks": ""
            },
            "colorscale": [
             [
              0,
              "#0d0887"
             ],
             [
              0.1111111111111111,
              "#46039f"
             ],
             [
              0.2222222222222222,
              "#7201a8"
             ],
             [
              0.3333333333333333,
              "#9c179e"
             ],
             [
              0.4444444444444444,
              "#bd3786"
             ],
             [
              0.5555555555555556,
              "#d8576b"
             ],
             [
              0.6666666666666666,
              "#ed7953"
             ],
             [
              0.7777777777777778,
              "#fb9f3a"
             ],
             [
              0.8888888888888888,
              "#fdca26"
             ],
             [
              1,
              "#f0f921"
             ]
            ],
            "type": "histogram2dcontour"
           }
          ],
          "mesh3d": [
           {
            "colorbar": {
             "outlinewidth": 0,
             "ticks": ""
            },
            "type": "mesh3d"
           }
          ],
          "parcoords": [
           {
            "line": {
             "colorbar": {
              "outlinewidth": 0,
              "ticks": ""
             }
            },
            "type": "parcoords"
           }
          ],
          "pie": [
           {
            "automargin": true,
            "type": "pie"
           }
          ],
          "scatter": [
           {
            "fillpattern": {
             "fillmode": "overlay",
             "size": 10,
             "solidity": 0.2
            },
            "type": "scatter"
           }
          ],
          "scatter3d": [
           {
            "line": {
             "colorbar": {
              "outlinewidth": 0,
              "ticks": ""
             }
            },
            "marker": {
             "colorbar": {
              "outlinewidth": 0,
              "ticks": ""
             }
            },
            "type": "scatter3d"
           }
          ],
          "scattercarpet": [
           {
            "marker": {
             "colorbar": {
              "outlinewidth": 0,
              "ticks": ""
             }
            },
            "type": "scattercarpet"
           }
          ],
          "scattergeo": [
           {
            "marker": {
             "colorbar": {
              "outlinewidth": 0,
              "ticks": ""
             }
            },
            "type": "scattergeo"
           }
          ],
          "scattergl": [
           {
            "marker": {
             "colorbar": {
              "outlinewidth": 0,
              "ticks": ""
             }
            },
            "type": "scattergl"
           }
          ],
          "scattermapbox": [
           {
            "marker": {
             "colorbar": {
              "outlinewidth": 0,
              "ticks": ""
             }
            },
            "type": "scattermapbox"
           }
          ],
          "scatterpolar": [
           {
            "marker": {
             "colorbar": {
              "outlinewidth": 0,
              "ticks": ""
             }
            },
            "type": "scatterpolar"
           }
          ],
          "scatterpolargl": [
           {
            "marker": {
             "colorbar": {
              "outlinewidth": 0,
              "ticks": ""
             }
            },
            "type": "scatterpolargl"
           }
          ],
          "scatterternary": [
           {
            "marker": {
             "colorbar": {
              "outlinewidth": 0,
              "ticks": ""
             }
            },
            "type": "scatterternary"
           }
          ],
          "surface": [
           {
            "colorbar": {
             "outlinewidth": 0,
             "ticks": ""
            },
            "colorscale": [
             [
              0,
              "#0d0887"
             ],
             [
              0.1111111111111111,
              "#46039f"
             ],
             [
              0.2222222222222222,
              "#7201a8"
             ],
             [
              0.3333333333333333,
              "#9c179e"
             ],
             [
              0.4444444444444444,
              "#bd3786"
             ],
             [
              0.5555555555555556,
              "#d8576b"
             ],
             [
              0.6666666666666666,
              "#ed7953"
             ],
             [
              0.7777777777777778,
              "#fb9f3a"
             ],
             [
              0.8888888888888888,
              "#fdca26"
             ],
             [
              1,
              "#f0f921"
             ]
            ],
            "type": "surface"
           }
          ],
          "table": [
           {
            "cells": {
             "fill": {
              "color": "#EBF0F8"
             },
             "line": {
              "color": "white"
             }
            },
            "header": {
             "fill": {
              "color": "#C8D4E3"
             },
             "line": {
              "color": "white"
             }
            },
            "type": "table"
           }
          ]
         },
         "layout": {
          "annotationdefaults": {
           "arrowcolor": "#2a3f5f",
           "arrowhead": 0,
           "arrowwidth": 1
          },
          "autotypenumbers": "strict",
          "coloraxis": {
           "colorbar": {
            "outlinewidth": 0,
            "ticks": ""
           }
          },
          "colorscale": {
           "diverging": [
            [
             0,
             "#8e0152"
            ],
            [
             0.1,
             "#c51b7d"
            ],
            [
             0.2,
             "#de77ae"
            ],
            [
             0.3,
             "#f1b6da"
            ],
            [
             0.4,
             "#fde0ef"
            ],
            [
             0.5,
             "#f7f7f7"
            ],
            [
             0.6,
             "#e6f5d0"
            ],
            [
             0.7,
             "#b8e186"
            ],
            [
             0.8,
             "#7fbc41"
            ],
            [
             0.9,
             "#4d9221"
            ],
            [
             1,
             "#276419"
            ]
           ],
           "sequential": [
            [
             0,
             "#0d0887"
            ],
            [
             0.1111111111111111,
             "#46039f"
            ],
            [
             0.2222222222222222,
             "#7201a8"
            ],
            [
             0.3333333333333333,
             "#9c179e"
            ],
            [
             0.4444444444444444,
             "#bd3786"
            ],
            [
             0.5555555555555556,
             "#d8576b"
            ],
            [
             0.6666666666666666,
             "#ed7953"
            ],
            [
             0.7777777777777778,
             "#fb9f3a"
            ],
            [
             0.8888888888888888,
             "#fdca26"
            ],
            [
             1,
             "#f0f921"
            ]
           ],
           "sequentialminus": [
            [
             0,
             "#0d0887"
            ],
            [
             0.1111111111111111,
             "#46039f"
            ],
            [
             0.2222222222222222,
             "#7201a8"
            ],
            [
             0.3333333333333333,
             "#9c179e"
            ],
            [
             0.4444444444444444,
             "#bd3786"
            ],
            [
             0.5555555555555556,
             "#d8576b"
            ],
            [
             0.6666666666666666,
             "#ed7953"
            ],
            [
             0.7777777777777778,
             "#fb9f3a"
            ],
            [
             0.8888888888888888,
             "#fdca26"
            ],
            [
             1,
             "#f0f921"
            ]
           ]
          },
          "colorway": [
           "#636efa",
           "#EF553B",
           "#00cc96",
           "#ab63fa",
           "#FFA15A",
           "#19d3f3",
           "#FF6692",
           "#B6E880",
           "#FF97FF",
           "#FECB52"
          ],
          "font": {
           "color": "#2a3f5f"
          },
          "geo": {
           "bgcolor": "white",
           "lakecolor": "white",
           "landcolor": "#E5ECF6",
           "showlakes": true,
           "showland": true,
           "subunitcolor": "white"
          },
          "hoverlabel": {
           "align": "left"
          },
          "hovermode": "closest",
          "mapbox": {
           "style": "light"
          },
          "paper_bgcolor": "white",
          "plot_bgcolor": "#E5ECF6",
          "polar": {
           "angularaxis": {
            "gridcolor": "white",
            "linecolor": "white",
            "ticks": ""
           },
           "bgcolor": "#E5ECF6",
           "radialaxis": {
            "gridcolor": "white",
            "linecolor": "white",
            "ticks": ""
           }
          },
          "scene": {
           "xaxis": {
            "backgroundcolor": "#E5ECF6",
            "gridcolor": "white",
            "gridwidth": 2,
            "linecolor": "white",
            "showbackground": true,
            "ticks": "",
            "zerolinecolor": "white"
           },
           "yaxis": {
            "backgroundcolor": "#E5ECF6",
            "gridcolor": "white",
            "gridwidth": 2,
            "linecolor": "white",
            "showbackground": true,
            "ticks": "",
            "zerolinecolor": "white"
           },
           "zaxis": {
            "backgroundcolor": "#E5ECF6",
            "gridcolor": "white",
            "gridwidth": 2,
            "linecolor": "white",
            "showbackground": true,
            "ticks": "",
            "zerolinecolor": "white"
           }
          },
          "shapedefaults": {
           "line": {
            "color": "#2a3f5f"
           }
          },
          "ternary": {
           "aaxis": {
            "gridcolor": "white",
            "linecolor": "white",
            "ticks": ""
           },
           "baxis": {
            "gridcolor": "white",
            "linecolor": "white",
            "ticks": ""
           },
           "bgcolor": "#E5ECF6",
           "caxis": {
            "gridcolor": "white",
            "linecolor": "white",
            "ticks": ""
           }
          },
          "title": {
           "x": 0.05
          },
          "xaxis": {
           "automargin": true,
           "gridcolor": "white",
           "linecolor": "white",
           "ticks": "",
           "title": {
            "standoff": 15
           },
           "zerolinecolor": "white",
           "zerolinewidth": 2
          },
          "yaxis": {
           "automargin": true,
           "gridcolor": "white",
           "linecolor": "white",
           "ticks": "",
           "title": {
            "standoff": 15
           },
           "zerolinecolor": "white",
           "zerolinewidth": 2
          }
         }
        },
        "title": {
         "font": {
          "size": 22
         },
         "text": "Relative Mean Execution Time for Intersection in Different Contexts",
         "x": 0.5
        },
        "width": 1000,
        "xaxis": {
         "anchor": "y",
         "domain": [
          0,
          0.26666666666666666
         ],
         "tickfont": {
          "size": 14
         },
         "title": {
          "text": ""
         }
        },
        "xaxis2": {
         "anchor": "y2",
         "domain": [
          0.3666666666666667,
          0.6333333333333333
         ],
         "matches": "x",
         "tickfont": {
          "size": 14
         },
         "title": {
          "text": ""
         }
        },
        "xaxis3": {
         "anchor": "y3",
         "domain": [
          0.7333333333333334,
          1
         ],
         "matches": "x",
         "tickfont": {
          "size": 14
         },
         "title": {
          "text": ""
         }
        },
        "xaxis4": {
         "anchor": "y4",
         "domain": [
          0,
          0.26666666666666666
         ],
         "matches": "x",
         "showticklabels": false,
         "tickfont": {
          "size": 14
         },
         "title": {
          "text": ""
         }
        },
        "xaxis5": {
         "anchor": "y5",
         "domain": [
          0.3666666666666667,
          0.6333333333333333
         ],
         "matches": "x",
         "showticklabels": false,
         "tickfont": {
          "size": 14
         },
         "title": {
          "text": ""
         }
        },
        "xaxis6": {
         "anchor": "y6",
         "domain": [
          0.7333333333333334,
          1
         ],
         "matches": "x",
         "showticklabels": false,
         "tickfont": {
          "size": 14
         },
         "title": {
          "text": ""
         }
        },
        "yaxis": {
         "anchor": "x",
         "domain": [
          0,
          0.45
         ],
         "showticklabels": true,
         "tickfont": {
          "size": 14
         },
         "title": {
          "text": ""
         },
         "visible": true
        },
        "yaxis2": {
         "anchor": "x2",
         "domain": [
          0,
          0.45
         ],
         "showticklabels": true,
         "tickfont": {
          "size": 14
         },
         "title": {
          "text": ""
         },
         "visible": true
        },
        "yaxis3": {
         "anchor": "x3",
         "domain": [
          0,
          0.45
         ],
         "showticklabels": true,
         "tickfont": {
          "size": 14
         },
         "title": {
          "text": ""
         },
         "visible": true
        },
        "yaxis4": {
         "anchor": "x4",
         "domain": [
          0.55,
          1
         ],
         "showticklabels": true,
         "tickfont": {
          "size": 14
         },
         "title": {
          "text": ""
         },
         "visible": true
        },
        "yaxis5": {
         "anchor": "x5",
         "domain": [
          0.55,
          1
         ],
         "showticklabels": true,
         "tickfont": {
          "size": 14
         },
         "title": {
          "text": ""
         },
         "visible": true
        },
        "yaxis6": {
         "anchor": "x6",
         "domain": [
          0.55,
          1
         ],
         "showticklabels": true,
         "tickfont": {
          "size": 14
         },
         "title": {
          "text": ""
         },
         "visible": true
        }
       }
      }
     },
     "metadata": {},
     "output_type": "display_data"
    }
   ],
   "source": [
    "total_time_df = stats_df[['context', 'total_time', 'sizes', 'baseline', 'predicate', 'decomp']]\n",
    "plot_total_time_bars(total_time_df, is_predicate=False, size_cat_excl=[], log_scale=False) #"
   ]
  },
  {
   "attachments": {},
   "cell_type": "markdown",
   "metadata": {},
   "source": [
    "#### Chunk Unfolding Analyzation"
   ]
  },
  {
   "cell_type": "code",
   "execution_count": null,
   "metadata": {},
   "outputs": [],
   "source": [
    "chunk_unfolded_df = stats_df[['nbr_recieved_chks', 'nbr_total_chks','predicate','baseline', 'context', 'sizes']]\n",
    "chunk_unfolded_df[\"chk_fraction_unfolded\"] = chunk_unfolded_df[\"nbr_recieved_chks\"].div(chunk_unfolded_df.nbr_total_chks, axis=0) * 100"
   ]
  },
  {
   "cell_type": "code",
   "execution_count": 14,
   "metadata": {},
   "outputs": [],
   "source": [
    "def plot_chunk_unfolded_frac(df, is_predicate=False, is_baseline=False):\n",
    "    df[\"chk_fraction_unfolded\"] = df[\"nbr_recieved_chks\"].div(chunk_unfolded_df.nbr_total_chks, axis=0) * 100\n",
    "    df = df[(df['predicate'] == is_predicate) & (df['sizes'].isin([\"Small/Small\", \"Medium/Medium\", \"Large/Large\"]))]\n",
    "    df = df[df['baseline'] == is_baseline]\n",
    "    df = df.groupby(['context', 'baseline', 'sizes']).mean()\n",
    "    df.reset_index(inplace=True)\n",
    "\n",
    "\n",
    "\n",
    "    intersection_format = \"Intersection\" if not is_predicate else \"IsIntersection\"\n",
    "\n",
    "    fig = px.bar(df, \n",
    "                       x=\"chk_fraction_unfolded\", \n",
    "                       y=\"context\", \n",
    "                       facet_row=\"sizes\", \n",
    "                       barmode='group',\n",
    "                       facet_col_spacing=0.1, \n",
    "                       title=f\"Fraction of Chunks Unfolded for {intersection_format}\",\n",
    "                       labels=dict(sizes=\"Geometry Sizes\", context=\"Context\", baseline=\"Baseline\", Stage=\"Stage: \"),\n",
    "                       facet_col_wrap=1,\n",
    "                       height=1000,\n",
    "                       width=1000,\n",
    "                       orientation=\"h\",\n",
    "                       text=\"chk_fraction_unfolded\"\n",
    "                       )\n",
    "    \n",
    "    fig.update_annotations(font=dict(size=16))\n",
    "    fig.for_each_yaxis(lambda yaxis: yaxis.update(showticklabels=True))\n",
    "    fig.update_yaxes(showticklabels=True, visible=True,  tickfont=dict(size=16))\n",
    "    fig.update_xaxes(tickfont=dict(size=16))\n",
    "    fig.update_traces(texttemplate='%{text:.2f}%' , textposition='inside',textfont=dict(size=14))\n",
    "    fig.update_layout(barmode=\"relative\",\n",
    "                      title_x=0.5,\n",
    "                      width=1000, \n",
    "                      height=800, \n",
    "                      legend=dict(\n",
    "                            yanchor=\"top\",\n",
    "                            y=1,\n",
    "                            xanchor=\"left\",\n",
    "                            x=0.5,\n",
    "                            orientation=\"h\",\n",
    "                            font=dict(size=16)\n",
    "                        ),\n",
    "                        title=dict(\n",
    "                            text=f'Fraction of Chunks Unfolded for Intersection in Different Contexts and Geometry Sizes',\n",
    "                            x=0.5,\n",
    "                            font=dict(size=22)\n",
    "                            ),\n",
    "                        )\n",
    "\n",
    "    for axis in fig.layout:\n",
    "        if type(fig.layout[axis]) == objs.layout.XAxis:\n",
    "            fig.layout[axis].title.text = ''\n",
    "\n",
    "    for axis in fig.layout:\n",
    "        if type(fig.layout[axis]) == objs.layout.YAxis:\n",
    "            fig.layout[axis].title.text = '' \n",
    "\n",
    "    fig.for_each_annotation(lambda a: a.update(text=a.text.split(\"=\")[1].split(\"/\")[0]))\n",
    "    #fig.for_each_trace(lambda t: t.update(name=t.name.split(\"=\")[0]))\n",
    "    fig.add_annotation(\n",
    "    dict(\n",
    "        x=0.5,\n",
    "        y=-0.04,  # adjust as needed\n",
    "        showarrow=False,\n",
    "        text=\"Chunks Unfolded (%)\",\n",
    "        xref=\"paper\",\n",
    "        yref=\"paper\",\n",
    "        font=dict(size=20),\n",
    "        xanchor=\"center\", \n",
    "        yanchor=\"top\"\n",
    "    )\n",
    "    )\n",
    "\n",
    "    fig.add_annotation(\n",
    "    dict(\n",
    "        x=1.05,\n",
    "        y=0.62,  # adjust as needed\n",
    "        showarrow=False,\n",
    "        text=\"Geometry Size\",\n",
    "        xref=\"paper\",\n",
    "        yref=\"paper\",\n",
    "        textangle=90,\n",
    "        font=dict(size=20),\n",
    "        xanchor=\"center\", \n",
    "        yanchor=\"top\"\n",
    "    )\n",
    "    )\n",
    "\n",
    "    fig.add_annotation(\n",
    "    dict(\n",
    "        x=-0.35,  # adjust as needed\n",
    "        y=0.5,\n",
    "        showarrow=False,\n",
    "        text=\"Bouning Box Context\",\n",
    "        textangle=-90,\n",
    "        xref=\"paper\",\n",
    "        yref=\"paper\",\n",
    "        font=dict(size=20),\n",
    "        xanchor=\"center\",\n",
    "        yanchor=\"middle\"\n",
    "    ))\n",
    "   \n",
    "    fig.show()"
   ]
  },
  {
   "attachments": {},
   "cell_type": "markdown",
   "metadata": {},
   "source": [
    "## Results"
   ]
  },
  {
   "attachments": {},
   "cell_type": "markdown",
   "metadata": {},
   "source": [
    "#### Total time Analysis"
   ]
  },
  {
   "attachments": {},
   "cell_type": "markdown",
   "metadata": {},
   "source": [
    "#### (%) Unfolding of chunks"
   ]
  },
  {
   "cell_type": "code",
   "execution_count": 15,
   "metadata": {},
   "outputs": [
    {
     "ename": "NameError",
     "evalue": "name 'chunk_unfolded_df' is not defined",
     "output_type": "error",
     "traceback": [
      "\u001b[0;31m---------------------------------------------------------------------------\u001b[0m",
      "\u001b[0;31mNameError\u001b[0m                                 Traceback (most recent call last)",
      "Cell \u001b[0;32mIn[15], line 1\u001b[0m\n\u001b[0;32m----> 1\u001b[0m plot_chunk_unfolded_frac(chunk_unfolded_df, is_predicate\u001b[39m=\u001b[39m\u001b[39mFalse\u001b[39;00m, is_baseline\u001b[39m=\u001b[39m\u001b[39mFalse\u001b[39;00m)\n",
      "\u001b[0;31mNameError\u001b[0m: name 'chunk_unfolded_df' is not defined"
     ]
    }
   ],
   "source": [
    "plot_chunk_unfolded_frac(chunk_unfolded_df, is_predicate=False, is_baseline=False)"
   ]
  },
  {
   "cell_type": "code",
   "execution_count": null,
   "metadata": {},
   "outputs": [],
   "source": []
  },
  {
   "cell_type": "code",
   "execution_count": null,
   "metadata": {},
   "outputs": [],
   "source": []
  }
 ],
 "metadata": {
  "kernelspec": {
   "display_name": "Python 3",
   "language": "python",
   "name": "python3"
  },
  "language_info": {
   "codemirror_mode": {
    "name": "ipython",
    "version": 3
   },
   "file_extension": ".py",
   "mimetype": "text/x-python",
   "name": "python",
   "nbconvert_exporter": "python",
   "pygments_lexer": "ipython3",
   "version": "3.11.1"
  },
  "orig_nbformat": 4,
  "vscode": {
   "interpreter": {
    "hash": "aee8b7b246df8f9039afb4144a1f6fd8d2ca17a180786b69acc140d282b71a49"
   }
  }
 },
 "nbformat": 4,
 "nbformat_minor": 2
}
