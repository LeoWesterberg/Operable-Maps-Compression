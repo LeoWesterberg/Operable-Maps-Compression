{
 "cells": [
  {
   "attachments": {},
   "cell_type": "markdown",
   "metadata": {},
   "source": [
    "#### Imports"
   ]
  },
  {
   "cell_type": "code",
   "execution_count": 1,
   "metadata": {},
   "outputs": [],
   "source": [
    "import numpy as np\n",
    "import shapely\n",
    "import bisect\n",
    "import shapely.wkt\n",
    "import matplotlib.pyplot as plt\n",
    "import math\n",
    "import geopandas as gpd\n",
    "import json\n",
    "import pandas as pd\n",
    "import seaborn as sns\n",
    "from enum import Enum\n",
    "import plotly.graph_objects as go\n",
    "from plotly.subplots import make_subplots\n",
    "import plotly.express as px\n",
    "\n",
    "import intersection.first_bin_search\n",
    "import intersection.chunk_bbox_intersection\n",
    "from bench_utils import parse_intersection_data \n",
    "common_bbox = intersection.chunk_bbox_intersection.common_bbox\n",
    "chunk_bbox_is_intersecting = intersection.chunk_bbox_intersection.is_intersecting\n",
    "chunk_bbox_intersection = intersection.chunk_bbox_intersection.intersection\n",
    "\n",
    "\n",
    "\n",
    "from intersection.plotting import *\n",
    "import algos.fpd_extended_lib.cfg as cfg\n",
    "from algos.alg_fpd_extended import FpdExtended\n",
    "\n",
    "\n",
    "pd.options.mode.chained_assignment = None  # default='warn'"
   ]
  },
  {
   "attachments": {},
   "cell_type": "markdown",
   "metadata": {},
   "source": [
    "#### Import data"
   ]
  },
  {
   "cell_type": "code",
   "execution_count": 2,
   "metadata": {},
   "outputs": [],
   "source": [
    "fpd = FpdExtended()\n",
    "\n",
    "# Geometries\n",
    "# manual_data, _ = parse_intersection_data(\"manual\")\n",
    "# special_cases, _ = parse_intersection_data(\"latest_export.json\", strip_precision=True)\n",
    "world_data, world_data_stats = parse_intersection_data(\"world.json\",40, strip_precision=True)\n",
    "lund_data, lund_data_stats = parse_intersection_data(\"lund.json\")\n",
    "# sweden_data, sweden_data_stats = parse_intersection_data(\"sweden-places-a.json\",40)\n",
    "# new_york_data, new_york_data_stats = parse_intersection_data(\"new-york-natural.json\",40)\n",
    "# waterways_data, waterways_data_stats = parse_intersection_data(\"nord-est-waterways.json\",40)\n",
    "\n",
    "sweden_all_data, sweden_all_data_stats = parse_intersection_data(\"final/latest_export.pkl\")\n",
    "country_borders_data, country_borders_data_stats = parse_intersection_data(\"final/country_borders.pkl\")\n",
    "china_water_data, china_water_data_stats = parse_intersection_data(\"final/china_water_100k.pkl\")\n",
    "\n",
    "datasets = [\n",
    "    (sweden_all_data, 13, \"Sweden All\"),\n",
    "    (china_water_data, 13, \"China Water\"),\n",
    "    (country_borders_data, 13, \"Country Borders\"),\n",
    "    # (manual_data, 3, \"manual_data\"),\n",
    "    # (special_cases, 3, \"special_cases\"),\n",
    "    #(world_data, 15, \"world_data\"),\n",
    "    (lund_data, 3, \"lund_data\"),\n",
    "    # (sweden_data, 15, \"sweden_data\"),\n",
    "    # (new_york_data, 10, \"new_york_data\"),\n",
    "    # (waterways_data, 3, \"waterways\")\n",
    "]\n"
   ]
  },
  {
   "attachments": {},
   "cell_type": "markdown",
   "metadata": {},
   "source": [
    "#### Constants"
   ]
  },
  {
   "cell_type": "code",
   "execution_count": 3,
   "metadata": {},
   "outputs": [],
   "source": [
    "# Number of total iterations = NBR_ITER * N * number_of_datasets\n",
    "NBR_ITER = -1 # Number of iterations for each dataset\n",
    "N = 1 # Number of times to recalculate each geometry for reliable mean value\n",
    "K = 5000\n",
    "\n",
    "# Max DELTA_SIZE_VALUE in MAX_NUM_DELTAS Analysis\n",
    "MAX_DELTA_SIZE = 100\n",
    "\n",
    "#Geometry classification sizes\n",
    "MEDIUM_THRESHOLD = 30\n",
    "LARGE_THRESHOLD = 100\n",
    "\n",
    "\n",
    "SAVE_DFS = True\n",
    "USE_EXISTING_DF = True"
   ]
  },
  {
   "attachments": {},
   "cell_type": "markdown",
   "metadata": {},
   "source": [
    "## Functions Section"
   ]
  },
  {
   "attachments": {},
   "cell_type": "markdown",
   "metadata": {},
   "source": [
    "#### Config Setter Functions"
   ]
  },
  {
   "cell_type": "code",
   "execution_count": 4,
   "metadata": {},
   "outputs": [],
   "source": [
    "def set_max_num_delta(val):\n",
    "        cfg.MAX_NUM_DELTAS = val\n",
    "        cfg.D_CNT_SIZE = cfg.required_bits(val)\n",
    "\n",
    "def act_deact_baseline(activate=True):\n",
    "        cfg.BASELINE_ON = activate\n",
    "        cfg.DISABLE_OPTIMIZED_INTERSECTION = False if not activate else True\n",
    "        cfg.DISABLE_OPTIMIZED_ADD_VERTEX = False if not activate else True\n",
    "        cfg.DISABLE_OPTIMIZED_BOUNDING_BOX = False if not activate else True"
   ]
  },
  {
   "attachments": {},
   "cell_type": "markdown",
   "metadata": {},
   "source": [
    "#### Stats Collector Functions"
   ]
  },
  {
   "cell_type": "code",
   "execution_count": 5,
   "metadata": {},
   "outputs": [],
   "source": [
    "def get_size_category(size):\n",
    "    if size < LARGE_THRESHOLD and size >= MEDIUM_THRESHOLD:\n",
    "            return \"Medium\", 1\n",
    "    elif size >= LARGE_THRESHOLD:\n",
    "         return \"Large\", 2\n",
    "    else:\n",
    "         return \"Small\", 0\n",
    "    \n",
    "def get_intersection_category(size1, size2):\n",
    "    size1_cat, type1 = get_size_category(size1)\n",
    "    size2_cat, type2 = get_size_category(size2)\n",
    "\n",
    "    if type1 <= type2:\n",
    "        return size1_cat + \"/\" + size2_cat\n",
    "    return size2_cat + \"/\" + size1_cat\n",
    "\n",
    "\n",
    "def get_context_category(g1, g2, bins=None):\n",
    "    if bins == None:\n",
    "        _, b1_fpde = fpd.compress(g1)\n",
    "        _, b2_fpde = fpd.compress(g2) \n",
    "    else:\n",
    "        b1_fpde, b2_fpde = bins\n",
    "\n",
    "    bbox = common_bbox((b1_fpde, b2_fpde))\n",
    "    intersects = shapely.intersects(g1, g2)\n",
    "    contains = shapely.contains(g1, g2) or shapely.contains(g2, g1)\n",
    "    if not bbox:\n",
    "        return \"No Overlap (FALSE)\"\n",
    "    elif not intersects:\n",
    "        return \"Overlap (FALSE)\"\n",
    "    elif not contains:\n",
    "        return \"Partial Overlap (TRUE)\"\n",
    "    else:\n",
    "        return \"Fully Inside Other (TRUE)\"\n",
    "\n",
    "def get_category_stat(g1, g2):\n",
    "        s1, s2 = (shapely.get_num_coordinates(g1), shapely.get_num_coordinates(g2))\n",
    "        size_category = get_intersection_category(s1, s2)\n",
    "        context_category = get_context_category(g1, g2)\n",
    "        return [size_category, context_category]\n",
    "\n",
    "\n",
    "#For taking mean of all stats, not just total time\n",
    "def get_time_stat(bins, predicate=False):\n",
    "    alg = chunk_bbox_is_intersecting if predicate else chunk_bbox_intersection\n",
    "    # 'decomp', 'nbr_recieved_chks', 'nbr_total_chks', 'total_time'\n",
    "    mean_stat = [0, 0, 0, 0]\n",
    "    for _ in range(N):\n",
    "        stat, _ = alg(bins, get_stats=True)\n",
    "        mean_stat = [sum(x) for x in zip(mean_stat, stat)]\n",
    "    \n",
    "    return [num / N for num in mean_stat]\n"
   ]
  },
  {
   "attachments": {},
   "cell_type": "markdown",
   "metadata": {},
   "source": [
    "#### Dataset Evaluation"
   ]
  },
  {
   "cell_type": "code",
   "execution_count": 6,
   "metadata": {},
   "outputs": [],
   "source": [
    "def evaluate_dataset(stats_df, delta_size=None, not_predicate=True, add_size=False, dataset_name=\"\", args=None):\n",
    "        idx, g1, g2 = args\n",
    "        if delta_size != None:\n",
    "            set_max_num_delta(delta_size)\n",
    "        bins = (fpd.compress(g1)[1], fpd.compress(g2)[1])\n",
    "\n",
    "        for is_predicate in [False] if not_predicate else [True, False]:\n",
    "            stats = []\n",
    "            stats.extend(get_time_stat(bins=bins, predicate=is_predicate))\n",
    "            stats.extend(get_category_stat(g1, g2))\n",
    "            stats.append(delta_size if delta_size != None else cfg.MAX_NUM_DELTAS)\n",
    "            stats.append(is_predicate)\n",
    "            stats.append(idx)\n",
    "            stats.append(cfg.BASELINE_ON)\n",
    "            if add_size:\n",
    "                stats.append(len(bins[0]) + len(bins[1]))\n",
    "            stats.append(dataset_name)\n",
    "            stats_df.loc[len(stats_df)] = stats"
   ]
  },
  {
   "attachments": {},
   "cell_type": "markdown",
   "metadata": {},
   "source": [
    "# Statistics Visualization"
   ]
  },
  {
   "attachments": {},
   "cell_type": "markdown",
   "metadata": {},
   "source": [
    "#### Best MAX_NUM_DELTAS per Dataset Analysis"
   ]
  },
  {
   "cell_type": "code",
   "execution_count": 7,
   "metadata": {},
   "outputs": [
    {
     "name": "stderr",
     "output_type": "stream",
     "text": [
      " 11%|█         | 545/5000 [01:53<11:28,  6.47it/s]  "
     ]
    }
   ],
   "source": [
    "from tqdm import tqdm\n",
    "\n",
    "if USE_EXISTING_DF:\n",
    "    #For baseline\n",
    "    max_deltas_dfs = []\n",
    "    for dataset in datasets:\n",
    "        max_deltas_df = pd.DataFrame(columns=['decomp', 'nbr_recieved_chks', 'nbr_total_chks', 'total_time', \"sizes\", \"context\", \"delta_size\", \"predicate\", \"dataset_idx\", \"baseline\", \"sum_size\", \"dataset\"])\n",
    "\n",
    "        dataset, _, dataset_name = dataset\n",
    "        np.random.seed(2021)\n",
    "        indicies = np.random.choice(len(dataset), size= min(K, len(dataset))) \n",
    "        dataset = np.array(dataset)[indicies] \n",
    "        for idx, (g1, g2) in enumerate(tqdm(dataset)):\n",
    "            \n",
    "            if g1.geom_type == \"Point\" or g2.geom_type == \"Point\":\n",
    "                continue\n",
    "\n",
    "            cat =  get_category_stat(g1, g2)[0]\n",
    "            if cat != 'Small/Small' and cat != 'Medium/Medium' and cat != 'Large/Large':\n",
    "                continue\n",
    "\n",
    "            act_deact_baseline(activate=False)        \n",
    "            for max_delta_size in range(0,MAX_DELTA_SIZE):\n",
    "                evaluate_dataset(stats_df=max_deltas_df, delta_size=max_delta_size, not_predicate=True, add_size=True, dataset_name=dataset_name, args=(idx, g1, g2)) \n",
    "\n",
    "            act_deact_baseline(activate=True)        \n",
    "            evaluate_dataset(stats_df=max_deltas_df, delta_size=10000000, not_predicate=True, add_size=True, dataset_name=dataset_name, args=(idx, g1, g2)) \n",
    "        \n",
    "        max_deltas_df.to_csv(f'max_deltas_{dataset_name}.csv', index=False)\n",
    "        max_deltas_dfs.append(max_deltas_df)\n",
    "    max_deltas_df = pd.concat(max_deltas_dfs)\n",
    "    display(max_deltas_df)\n",
    "\n",
    "else:\n",
    "    country_max_deltas_df = pd.read_csv('max_deltas_Country Borders2.csv')\n",
    "    country_max_deltas_df['delta_size'] = country_max_deltas_df['delta_size'].replace(100000, 10000000)\n",
    "    china_max_deltas_df = pd.read_csv('max_deltas_China Water2.csv')\n",
    "    sweden_max_deltas_df = pd.read_csv('max_deltas_Sweden All2.csv')\n",
    "    lund_max_deltas_df = pd.read_csv('max_deltas_lund_data2.csv')\n",
    "\n",
    "    max_deltas_df = pd.concat([china_max_deltas_df, \n",
    "                               sweden_max_deltas_df, \n",
    "                               lund_max_deltas_df, \n",
    "                               country_max_deltas_df\n",
    "                               ])\n",
    "\n",
    "\n"
   ]
  },
  {
   "cell_type": "code",
   "execution_count": null,
   "metadata": {},
   "outputs": [],
   "source": [
    "max_deltas_filt_df = max_deltas_df[['total_time', 'sum_size', \"sizes\", \"delta_size\", \"predicate\", \"baseline\"]]"
   ]
  },
  {
   "attachments": {},
   "cell_type": "markdown",
   "metadata": {},
   "source": [
    "### Helper"
   ]
  },
  {
   "cell_type": "code",
   "execution_count": null,
   "metadata": {},
   "outputs": [],
   "source": [
    "\n",
    "import plotly.graph_objs as objs\n",
    "\n",
    "def make_general_facet_title(fig, x_title, y_title, secondary=None, barplot=False, hbarplot=False):\n",
    "    #Remove current axis titles\n",
    "    for axis in fig.layout:\n",
    "        if type(fig.layout[axis]) == objs.layout.XAxis:\n",
    "            fig.layout[axis].title.text = ''\n",
    "\n",
    "    for axis in fig.layout:\n",
    "        if type(fig.layout[axis]) == objs.layout.YAxis:\n",
    "            fig.layout[axis].title.text = '' \n",
    "\n",
    "    fig.add_annotation(\n",
    "    dict(\n",
    "        x=0.48 if not barplot else 0.5,\n",
    "        y=-0.04 if not barplot else -0.17,  # adjust as needed\n",
    "        showarrow=False,\n",
    "        text=x_title,\n",
    "        xref=\"paper\",\n",
    "        yref=\"paper\",\n",
    "        font=dict(size=20),\n",
    "        xanchor=\"center\", \n",
    "        yanchor=\"top\"\n",
    "    )\n",
    "    )\n",
    "\n",
    "    if secondary != None:\n",
    "        fig.add_annotation(\n",
    "        dict(\n",
    "            x=1.01,  # adjust as needed\n",
    "            y=0.5,\n",
    "            showarrow=False,\n",
    "            text=secondary,\n",
    "            textangle=-90,  # to rotate the text for the vertical y-axis\n",
    "            xref=\"paper\",\n",
    "            yref=\"paper\",\n",
    "            font=dict(size=20),\n",
    "            xanchor=\"center\",\n",
    "            yanchor=\"middle\"\n",
    "        )\n",
    "    )\n",
    "\n",
    "    fig.add_annotation(\n",
    "    dict(\n",
    "        x=-0.07 if not barplot else -0.07,  # adjust as needed\n",
    "        y=0.5,\n",
    "        showarrow=False,\n",
    "        text=y_title,\n",
    "        textangle=-90,\n",
    "        xref=\"paper\",\n",
    "        yref=\"paper\",\n",
    "        font=dict(size=20),\n",
    "        xanchor=\"center\",\n",
    "        yanchor=\"middle\"\n",
    "    )\n",
    ")"
   ]
  },
  {
   "cell_type": "code",
   "execution_count": null,
   "metadata": {},
   "outputs": [],
   "source": [
    "def plot_max_delta_size_speed(df, is_predicate=False, no_mixed=False, relative=False):\n",
    "    if no_mixed:\n",
    "        df = df[df['sizes'].isin([\"Small/Small\", \"Medium/Medium\", \"Large/Large\"])]\n",
    "\n",
    "\n",
    "\n",
    "    specs_element = [{\"secondary_y\": True}] if no_mixed else [{\"secondary_y\": True}, {\"secondary_y\": True}]\n",
    "\n",
    "    df = df[df['predicate'] == is_predicate]\n",
    "    df = df.groupby(['delta_size', 'sizes', 'baseline']).mean()\n",
    "    df.reset_index(inplace=True)\n",
    "    \n",
    "    sizes = dict(zip(list(df.sizes.unique()), range(len(df.sizes.unique()))))\n",
    "\n",
    "    fig = make_subplots(rows=3, cols=1 if no_mixed else 2, \n",
    "                        subplot_titles=(list(map(lambda x: \"Geometry Sizes=\" + x.split('/')[0], sizes.keys()))), \n",
    "                        horizontal_spacing=0.08, \n",
    "                        vertical_spacing=0.07, \n",
    "                        #x_title=\"Max Chunk Size\",  y_title=\"Mean Execution Time (s)\", \n",
    "                        specs=[specs_element,\n",
    "                              specs_element,\n",
    "                              specs_element])\n",
    "    \n",
    "    #For not showing the same legend twice\n",
    "    legend_showed = False\n",
    "\n",
    "    for size in sizes.keys():\n",
    "        curr_context_df = df[(df['sizes'] == size)]\n",
    "\n",
    "        for is_baseline in [False] if relative else [True, False]:\n",
    "\n",
    "            line = dict(color='blue' if is_baseline else 'red', dash='dash' if is_baseline else None)\n",
    "\n",
    "            curr_df = curr_context_df[curr_context_df['baseline'] == is_baseline]\n",
    "            baseline_formatting = \"FPDE\" if not is_baseline else \"Baseline\"\n",
    "\n",
    "            if relative:\n",
    "                baseline_value = curr_context_df[(curr_context_df['baseline'] == True) & (curr_context_df['delta_size'] == 10000000)]\n",
    "                curr_df['total_time'] = curr_df['total_time'].divide(baseline_value.total_time.values[0], axis=0)\n",
    "                \n",
    "\n",
    "            curr_df[\"total_time\"] = curr_df.sort_values(by='delta_size')['total_time'].rolling(window=3, min_periods=1).mean()\n",
    "\n",
    "            fig.add_trace(go.Scatter(x=curr_df.delta_size.values, y= curr_df.total_time.values,\n",
    "                                    mode='lines',\n",
    "                                    line=line,\n",
    "                                    showlegend=not legend_showed,\n",
    "                                    name=f\"{baseline_formatting}\"),col=sizes[size] // 3 + 1 if no_mixed else 1, row=sizes[size] % 3 + 1,\n",
    "                                    secondary_y=False)\n",
    "            \n",
    "            if not is_baseline:\n",
    "                fig.add_trace(go.Scatter(x=curr_df.delta_size.values, y=curr_df.sum_size.values,\n",
    "                                        mode='lines',\n",
    "                                        line=dict(color='green', dash='dash'),\n",
    "                                        showlegend=not legend_showed,\n",
    "                                        name=f\"Average size (bits)\"),col=sizes[size] // 3 + 1 if no_mixed else 1, row=sizes[size] % 3 + 1,\n",
    "                                        secondary_y=True)\n",
    "                legend_showed = True\n",
    "\n",
    "                mix_delta_size = curr_df.sort_values(by='total_time').delta_size.values[0]\n",
    "\n",
    "                fig.add_vrect(x0=mix_delta_size - 1, x1=mix_delta_size + 1, col=sizes[size] // 3 + 1 if no_mixed else 1, row=sizes[size] % 3 + 1,\n",
    "                annotation_text=f\"Min={mix_delta_size}\", annotation_position=\"inside\",\n",
    "                fillcolor=\"green\", opacity=0.25, line_width=0, annotation = dict(textangle=-90, font=dict(size=16)))\n",
    "    \n",
    "    #For changing facet size\n",
    "    # for annotation in fig['layout']['annotations']:\n",
    "    #     annotation['font']['size'] = 18  # Set your desired font size here\n",
    "\n",
    "    intersection_format = \"Intersection\" if not is_predicate else \"IsIntersection\"\n",
    "    baseline_format = \"\" if not is_baseline else \"(Baseline)\"\n",
    "    fig.update_layout(\n",
    "                      title_x=0.5,\n",
    "                      width=1000, \n",
    "                      height=1000, \n",
    "                      legend=dict(\n",
    "                            yanchor=\"top\",\n",
    "                            y=-0.037,\n",
    "                            xanchor=\"left\",\n",
    "                            x=0.7,\n",
    "                            orientation=\"h\",\n",
    "                            font=dict(size=15),\n",
    "                        ),\n",
    "                        title=dict(\n",
    "                            text=f'Relative Execution Time for {intersection_format} by Max Chunk Size {baseline_format}',\n",
    "                            x=0.5,\n",
    "                            font=dict(size=22)\n",
    "                            )\n",
    "                        )\n",
    "\n",
    "    fig.update_annotations(font=dict(size=16)) \n",
    "    fig.update_annotations(font=dict(size=16))\n",
    "    fig.update_yaxes(type=\"log\", tickfont=dict(size=16))\n",
    "\n",
    "    fig.update_xaxes(tickfont=dict(size=16))\n",
    "\n",
    "    make_general_facet_title(fig, \"Max Chunk Size\", \"Relative Mean Execution Time (%)\", secondary=\"Mean Size (bits)\")\n",
    "   \n",
    "\n",
    "    display(max_deltas_filt_df)\n",
    "    fig.show()\n",
    "\n"
   ]
  },
  {
   "attachments": {},
   "cell_type": "markdown",
   "metadata": {},
   "source": []
  },
  {
   "cell_type": "code",
   "execution_count": null,
   "metadata": {},
   "outputs": [
    {
     "data": {
      "text/html": [
       "<div>\n",
       "<style scoped>\n",
       "    .dataframe tbody tr th:only-of-type {\n",
       "        vertical-align: middle;\n",
       "    }\n",
       "\n",
       "    .dataframe tbody tr th {\n",
       "        vertical-align: top;\n",
       "    }\n",
       "\n",
       "    .dataframe thead th {\n",
       "        text-align: right;\n",
       "    }\n",
       "</style>\n",
       "<table border=\"1\" class=\"dataframe\">\n",
       "  <thead>\n",
       "    <tr style=\"text-align: right;\">\n",
       "      <th></th>\n",
       "      <th>total_time</th>\n",
       "      <th>sum_size</th>\n",
       "      <th>sizes</th>\n",
       "      <th>delta_size</th>\n",
       "      <th>predicate</th>\n",
       "      <th>baseline</th>\n",
       "    </tr>\n",
       "  </thead>\n",
       "  <tbody>\n",
       "    <tr>\n",
       "      <th>0</th>\n",
       "      <td>0.004408</td>\n",
       "      <td>947</td>\n",
       "      <td>Small/Small</td>\n",
       "      <td>0</td>\n",
       "      <td>False</td>\n",
       "      <td>False</td>\n",
       "    </tr>\n",
       "    <tr>\n",
       "      <th>1</th>\n",
       "      <td>0.001824</td>\n",
       "      <td>643</td>\n",
       "      <td>Small/Small</td>\n",
       "      <td>1</td>\n",
       "      <td>False</td>\n",
       "      <td>False</td>\n",
       "    </tr>\n",
       "    <tr>\n",
       "      <th>2</th>\n",
       "      <td>0.002514</td>\n",
       "      <td>527</td>\n",
       "      <td>Small/Small</td>\n",
       "      <td>2</td>\n",
       "      <td>False</td>\n",
       "      <td>False</td>\n",
       "    </tr>\n",
       "    <tr>\n",
       "      <th>3</th>\n",
       "      <td>0.001694</td>\n",
       "      <td>451</td>\n",
       "      <td>Small/Small</td>\n",
       "      <td>3</td>\n",
       "      <td>False</td>\n",
       "      <td>False</td>\n",
       "    </tr>\n",
       "    <tr>\n",
       "      <th>4</th>\n",
       "      <td>0.001481</td>\n",
       "      <td>451</td>\n",
       "      <td>Small/Small</td>\n",
       "      <td>4</td>\n",
       "      <td>False</td>\n",
       "      <td>False</td>\n",
       "    </tr>\n",
       "    <tr>\n",
       "      <th>...</th>\n",
       "      <td>...</td>\n",
       "      <td>...</td>\n",
       "      <td>...</td>\n",
       "      <td>...</td>\n",
       "      <td>...</td>\n",
       "      <td>...</td>\n",
       "    </tr>\n",
       "    <tr>\n",
       "      <th>13529</th>\n",
       "      <td>0.000554</td>\n",
       "      <td>1121</td>\n",
       "      <td>Medium/Medium</td>\n",
       "      <td>96</td>\n",
       "      <td>False</td>\n",
       "      <td>False</td>\n",
       "    </tr>\n",
       "    <tr>\n",
       "      <th>13530</th>\n",
       "      <td>0.000573</td>\n",
       "      <td>1121</td>\n",
       "      <td>Medium/Medium</td>\n",
       "      <td>97</td>\n",
       "      <td>False</td>\n",
       "      <td>False</td>\n",
       "    </tr>\n",
       "    <tr>\n",
       "      <th>13531</th>\n",
       "      <td>0.000537</td>\n",
       "      <td>1121</td>\n",
       "      <td>Medium/Medium</td>\n",
       "      <td>98</td>\n",
       "      <td>False</td>\n",
       "      <td>False</td>\n",
       "    </tr>\n",
       "    <tr>\n",
       "      <th>13532</th>\n",
       "      <td>0.000524</td>\n",
       "      <td>1121</td>\n",
       "      <td>Medium/Medium</td>\n",
       "      <td>99</td>\n",
       "      <td>False</td>\n",
       "      <td>False</td>\n",
       "    </tr>\n",
       "    <tr>\n",
       "      <th>13533</th>\n",
       "      <td>0.000869</td>\n",
       "      <td>959</td>\n",
       "      <td>Medium/Medium</td>\n",
       "      <td>10000000</td>\n",
       "      <td>False</td>\n",
       "      <td>True</td>\n",
       "    </tr>\n",
       "  </tbody>\n",
       "</table>\n",
       "<p>13534 rows × 6 columns</p>\n",
       "</div>"
      ],
      "text/plain": [
       "       total_time  sum_size          sizes  delta_size  predicate  baseline\n",
       "0        0.004408       947    Small/Small           0      False     False\n",
       "1        0.001824       643    Small/Small           1      False     False\n",
       "2        0.002514       527    Small/Small           2      False     False\n",
       "3        0.001694       451    Small/Small           3      False     False\n",
       "4        0.001481       451    Small/Small           4      False     False\n",
       "...           ...       ...            ...         ...        ...       ...\n",
       "13529    0.000554      1121  Medium/Medium          96      False     False\n",
       "13530    0.000573      1121  Medium/Medium          97      False     False\n",
       "13531    0.000537      1121  Medium/Medium          98      False     False\n",
       "13532    0.000524      1121  Medium/Medium          99      False     False\n",
       "13533    0.000869       959  Medium/Medium    10000000      False      True\n",
       "\n",
       "[13534 rows x 6 columns]"
      ]
     },
     "metadata": {},
     "output_type": "display_data"
    },
    {
     "data": {
      "application/vnd.plotly.v1+json": {
       "config": {
        "plotlyServerURL": "https://plot.ly"
       },
       "data": [
        {
         "line": {
          "color": "red"
         },
         "mode": "lines",
         "name": "FPDE",
         "showlegend": true,
         "type": "scatter",
         "x": [
          0,
          1,
          2,
          3,
          4,
          5,
          6,
          7,
          8,
          9,
          10,
          11,
          12,
          13,
          14,
          15,
          16,
          17,
          18,
          19,
          20,
          21,
          22,
          23,
          24,
          25,
          26,
          27,
          28,
          29,
          30,
          31,
          32,
          33,
          34,
          35,
          36,
          37,
          38,
          39,
          40,
          41,
          42,
          43,
          44,
          45,
          46,
          47,
          48,
          49,
          50,
          51,
          52,
          53,
          54,
          55,
          56,
          57,
          58,
          59,
          60,
          61,
          62,
          63,
          64,
          65,
          66,
          67,
          68,
          69,
          70,
          71,
          72,
          73,
          74,
          75,
          76,
          77,
          78,
          79,
          80,
          81,
          82,
          83,
          84,
          85,
          86,
          87,
          88,
          89,
          90,
          91,
          92,
          93,
          94,
          95,
          96,
          97,
          98,
          99
         ],
         "xaxis": "x",
         "y": [
          2.1121305321583046,
          1.5982777833059272,
          1.3113294214568973,
          0.8186344022271301,
          0.6473157388600157,
          0.5771905000735,
          0.5277299060458539,
          0.4952631562165752,
          0.46977715610576487,
          0.46504208665182106,
          0.4524321003863139,
          0.45165026926863155,
          0.44700365558191124,
          0.44114515828546036,
          0.4309599175619557,
          0.4206228558727733,
          0.41538183957013813,
          0.41646668996884034,
          0.432258707928219,
          0.45484597866418836,
          0.4666125353278922,
          0.4647457704928298,
          0.46642338311498016,
          0.47622788435710445,
          0.47701218636633375,
          0.4691468279093443,
          0.45840606482784985,
          0.4403708115144001,
          0.43430724634574336,
          0.42561181525652064,
          0.4330529920526103,
          0.433395020601121,
          0.44671840468089563,
          0.4555672362070787,
          0.47115561077487494,
          0.47218715334586503,
          0.4780936108443412,
          0.4877859785843995,
          0.49318955141957516,
          0.49130948784842726,
          0.5007784325219305,
          0.5011754460225101,
          0.4994678727204775,
          0.46839169102100736,
          0.45308492731348854,
          0.4501376123985876,
          0.4464024190426024,
          0.44370249072112355,
          0.42817504450442545,
          0.4334893866190825,
          0.4267158979354401,
          0.42034060981956367,
          0.4100668533035514,
          0.41477397158078194,
          0.4323122934848577,
          0.44789802066885365,
          0.4704244409970042,
          0.4918758935967409,
          0.5151798662253045,
          0.5524474472388481,
          0.6205634453550539,
          0.6210764106824905,
          0.5897129882886308,
          0.5145554599263189,
          0.5067074783411373,
          0.5120717023628117,
          0.5098537098804697,
          0.5080322811570261,
          0.49321362424621334,
          0.4863570148784376,
          0.480328246456585,
          0.48419323777026785,
          0.5017696784174698,
          0.4997863695658069,
          0.4857244102007186,
          0.4619827439510262,
          0.46224483673906175,
          0.48585507718118676,
          0.514013662752702,
          0.5294654780072874,
          0.5322931311744118,
          0.5376701468529058,
          0.5344169475695422,
          0.5182130611956096,
          0.4949024400949031,
          0.4955822353967507,
          0.5102439674009348,
          0.5298040098590221,
          0.5437383653249328,
          0.5433450984771632,
          0.534395591110986,
          0.5213217016767765,
          0.5077134223681923,
          0.5055092446601993,
          0.5049969181092939,
          0.5207736448515137,
          0.5253614032991879,
          0.5291012239774501,
          0.52800864733919,
          0.5265222797517983
         ],
         "yaxis": "y"
        },
        {
         "line": {
          "color": "green",
          "dash": "dash"
         },
         "mode": "lines",
         "name": "Average size (bits)",
         "showlegend": true,
         "type": "scatter",
         "x": [
          0,
          1,
          2,
          3,
          4,
          5,
          6,
          7,
          8,
          9,
          10,
          11,
          12,
          13,
          14,
          15,
          16,
          17,
          18,
          19,
          20,
          21,
          22,
          23,
          24,
          25,
          26,
          27,
          28,
          29,
          30,
          31,
          32,
          33,
          34,
          35,
          36,
          37,
          38,
          39,
          40,
          41,
          42,
          43,
          44,
          45,
          46,
          47,
          48,
          49,
          50,
          51,
          52,
          53,
          54,
          55,
          56,
          57,
          58,
          59,
          60,
          61,
          62,
          63,
          64,
          65,
          66,
          67,
          68,
          69,
          70,
          71,
          72,
          73,
          74,
          75,
          76,
          77,
          78,
          79,
          80,
          81,
          82,
          83,
          84,
          85,
          86,
          87,
          88,
          89,
          90,
          91,
          92,
          93,
          94,
          95,
          96,
          97,
          98,
          99
         ],
         "xaxis": "x",
         "y": [
          53857.25,
          33265.75,
          26362.25,
          22908.5,
          20840,
          19441.75,
          18475,
          17738.5,
          17219.25,
          16730,
          16364.25,
          16047.5,
          15816.75,
          15596,
          15375.25,
          15195.25,
          15040.25,
          14963.25,
          14809.25,
          14683.75,
          14606.25,
          14510,
          14452.25,
          14365.75,
          14298.75,
          14221.25,
          14182.75,
          14115.25,
          14038.5,
          14019,
          13999.75,
          13969.75,
          13950,
          13902,
          13882.5,
          13872.75,
          13815,
          13786,
          13766.5,
          13747,
          13737.25,
          13708,
          13669,
          13650,
          13640.5,
          13630.75,
          13611.5,
          13582.5,
          13582.5,
          13572.5,
          13544,
          13534.25,
          13524.75,
          13524.75,
          13515,
          13505.5,
          13505.5,
          13476.5,
          13467,
          13467,
          13467,
          13467,
          13467,
          13390.25,
          13390.25,
          13390.25,
          13390.25,
          13380.75,
          13380.75,
          13380.75,
          13371,
          13371,
          13361.25,
          13361.25,
          13361.25,
          13341.5,
          13331.75,
          13331.75,
          13331.75,
          13331.75,
          13322.25,
          13322.25,
          13302.75,
          13302.75,
          13293.25,
          13293.25,
          13273.75,
          13273.75,
          13273.75,
          13273.75,
          13273.75,
          13273.75,
          13264.25,
          13264.25,
          13254.5,
          13254.5,
          13254.5,
          13254.5,
          13244.5,
          13244.5
         ],
         "yaxis": "y2"
        },
        {
         "line": {
          "color": "red"
         },
         "mode": "lines",
         "name": "FPDE",
         "showlegend": false,
         "type": "scatter",
         "x": [
          0,
          1,
          2,
          3,
          4,
          5,
          6,
          7,
          8,
          9,
          10,
          11,
          12,
          13,
          14,
          15,
          16,
          17,
          18,
          19,
          20,
          21,
          22,
          23,
          24,
          25,
          26,
          27,
          28,
          29,
          30,
          31,
          32,
          33,
          34,
          35,
          36,
          37,
          38,
          39,
          40,
          41,
          42,
          43,
          44,
          45,
          46,
          47,
          48,
          49,
          50,
          51,
          52,
          53,
          54,
          55,
          56,
          57,
          58,
          59,
          60,
          61,
          62,
          63,
          64,
          65,
          66,
          67,
          68,
          69,
          70,
          71,
          72,
          73,
          74,
          75,
          76,
          77,
          78,
          79,
          80,
          81,
          82,
          83,
          84,
          85,
          86,
          87,
          88,
          89,
          90,
          91,
          92,
          93,
          94,
          95,
          96,
          97,
          98,
          99
         ],
         "xaxis": "x2",
         "y": [
          1.5447292019016858,
          1.3188156272597713,
          1.2169069316764063,
          1.0105425169691395,
          0.9410093055341492,
          0.8982283748785628,
          0.9236098088412191,
          0.9358898577715443,
          0.9490249137605256,
          0.9067456101380547,
          0.8994981105159972,
          0.8804794603785049,
          0.8812196719456952,
          0.8879784177945494,
          0.9073787838757935,
          0.9326696801821764,
          0.9496031834748422,
          0.9567646413384358,
          0.959896333479472,
          0.9416780339061442,
          0.9446084112946327,
          0.9429736933713605,
          0.9540031892786055,
          0.9594644183175025,
          0.9556305357552161,
          0.9486536449420618,
          0.9366120857474974,
          0.9344830262170793,
          0.9317485091670452,
          0.9220623176553335,
          0.9137449839513038,
          0.9302643274550743,
          0.947668557041598,
          0.9568233601162269,
          0.9634660851176329,
          0.9496549012216052,
          0.942487801102815,
          0.9287236213707244,
          0.965180747863371,
          0.9534770445926967,
          0.9555860472576442,
          0.920593036833876,
          0.921904576772182,
          0.9013819724521893,
          0.920678662533074,
          0.9633241860860354,
          0.9873114774240843,
          0.9804678976175051,
          0.9623338368791545,
          0.960894449125989,
          0.9586062864255389,
          0.9632755018853146,
          0.9629691119795162,
          0.959816590542304,
          0.941485870701929,
          0.9342542568195339,
          0.9502590614087415,
          0.9572856634043494,
          0.9564639586422343,
          0.961102987861155,
          0.9634041589968906,
          0.9839416097861423,
          1.0226230575814526,
          1.0608489854346517,
          1.0851342190954227,
          1.0574285112968473,
          1.0551102694425263,
          1.0379916355761114,
          1.0447666621576024,
          1.0475734014785745,
          1.0747102667284856,
          1.0766099371612698,
          1.0943733242039044,
          1.0771116238822127,
          1.0754832381351989,
          1.0526413246020925,
          1.0467097361739226,
          1.0313382843859353,
          1.0164418300825016,
          1.0212954581065754,
          1.0146170503176373,
          1.0078512946601328,
          0.9777437188502506,
          0.9773211220114248,
          0.9760114569731035,
          0.9662157839420731,
          0.9531089146517351,
          0.9221570176597934,
          0.9194770587948885,
          0.9023188413658797,
          0.8950893060242914,
          0.8847887687732809,
          0.8768715664632251,
          0.886859276300719,
          0.8835294925498047,
          0.8934839808448771,
          0.8915946328951536,
          0.890432719806546,
          0.8864110488066747,
          0.8875107268022578
         ],
         "yaxis": "y3"
        },
        {
         "line": {
          "color": "green",
          "dash": "dash"
         },
         "mode": "lines",
         "name": "Average size (bits)",
         "showlegend": false,
         "type": "scatter",
         "x": [
          0,
          1,
          2,
          3,
          4,
          5,
          6,
          7,
          8,
          9,
          10,
          11,
          12,
          13,
          14,
          15,
          16,
          17,
          18,
          19,
          20,
          21,
          22,
          23,
          24,
          25,
          26,
          27,
          28,
          29,
          30,
          31,
          32,
          33,
          34,
          35,
          36,
          37,
          38,
          39,
          40,
          41,
          42,
          43,
          44,
          45,
          46,
          47,
          48,
          49,
          50,
          51,
          52,
          53,
          54,
          55,
          56,
          57,
          58,
          59,
          60,
          61,
          62,
          63,
          64,
          65,
          66,
          67,
          68,
          69,
          70,
          71,
          72,
          73,
          74,
          75,
          76,
          77,
          78,
          79,
          80,
          81,
          82,
          83,
          84,
          85,
          86,
          87,
          88,
          89,
          90,
          91,
          92,
          93,
          94,
          95,
          96,
          97,
          98,
          99
         ],
         "xaxis": "x2",
         "y": [
          4921.416666666667,
          3044.4166666666665,
          2403.6666666666665,
          2097.75,
          1899.5,
          1775,
          1691.8333333333333,
          1629.75,
          1578.4166666666667,
          1517.0833333333333,
          1488.3333333333333,
          1462.8333333333333,
          1453.1666666666667,
          1427.4166666666667,
          1395.5833333333333,
          1386.8333333333333,
          1367.5833333333333,
          1361.25,
          1358,
          1345.0833333333333,
          1335.4166666666667,
          1325.8333333333333,
          1316.25,
          1313,
          1306.5833333333333,
          1306.5833333333333,
          1303.3333333333333,
          1293.75,
          1277.6666666666667,
          1268.1666666666667,
          1264.9166666666667,
          1262.6666666666667,
          1256.1666666666667,
          1256.1666666666667,
          1249.75,
          1249.75,
          1249.75,
          1249.75,
          1249.75,
          1246.5,
          1243.3333333333333,
          1240.0833333333333,
          1236.8333333333333,
          1233.5833333333333,
          1233.5833333333333,
          1230.3333333333333,
          1230.3333333333333,
          1227.0833333333333,
          1223.8333333333333,
          1220.5833333333333,
          1220.5833333333333,
          1220.5833333333333,
          1220.5833333333333,
          1220.5833333333333,
          1220.5833333333333,
          1220.5833333333333,
          1220.5833333333333,
          1220.5833333333333,
          1217.3333333333333,
          1214.0833333333333,
          1214.0833333333333,
          1214.0833333333333,
          1214.0833333333333,
          1214.4166666666667,
          1214.4166666666667,
          1214.4166666666667,
          1214.4166666666667,
          1214.4166666666667,
          1207.9166666666667,
          1207.9166666666667,
          1207.9166666666667,
          1207.9166666666667,
          1207.9166666666667,
          1207.9166666666667,
          1207.9166666666667,
          1207.9166666666667,
          1207.9166666666667,
          1207.9166666666667,
          1207.9166666666667,
          1207.9166666666667,
          1207.9166666666667,
          1207.9166666666667,
          1204.6666666666667,
          1204.6666666666667,
          1204.6666666666667,
          1204.6666666666667,
          1204.6666666666667,
          1204.6666666666667,
          1204.6666666666667,
          1204.6666666666667,
          1201.4166666666667,
          1201.4166666666667,
          1201.4166666666667,
          1201.4166666666667,
          1201.4166666666667,
          1201.4166666666667,
          1201.4166666666667,
          1201.4166666666667,
          1201.4166666666667,
          1201.4166666666667
         ],
         "yaxis": "y4"
        },
        {
         "line": {
          "color": "red"
         },
         "mode": "lines",
         "name": "FPDE",
         "showlegend": false,
         "type": "scatter",
         "x": [
          0,
          1,
          2,
          3,
          4,
          5,
          6,
          7,
          8,
          9,
          10,
          11,
          12,
          13,
          14,
          15,
          16,
          17,
          18,
          19,
          20,
          21,
          22,
          23,
          24,
          25,
          26,
          27,
          28,
          29,
          30,
          31,
          32,
          33,
          34,
          35,
          36,
          37,
          38,
          39,
          40,
          41,
          42,
          43,
          44,
          45,
          46,
          47,
          48,
          49,
          50,
          51,
          52,
          53,
          54,
          55,
          56,
          57,
          58,
          59,
          60,
          61,
          62,
          63,
          64,
          65,
          66,
          67,
          68,
          69,
          70,
          71,
          72,
          73,
          74,
          75,
          76,
          77,
          78,
          79,
          80,
          81,
          82,
          83,
          84,
          85,
          86,
          87,
          88,
          89,
          90,
          91,
          92,
          93,
          94,
          95,
          96,
          97,
          98,
          99
         ],
         "xaxis": "x3",
         "y": [
          1.872755262453548,
          1.572897953037928,
          1.459186881779815,
          1.2280435238692837,
          1.1805367535272588,
          1.1321806565592532,
          1.0950999477516037,
          1.0680129974500898,
          1.0602820305041885,
          1.0607622905655516,
          1.0607748788524614,
          1.0516643878461425,
          1.0375946625563262,
          1.0274629375192048,
          1.0235348737090681,
          1.018247102337765,
          1.021767963373218,
          1.0163157451875477,
          1.021889423084404,
          1.0246903237564549,
          1.0318048695968183,
          1.0359711921673156,
          1.0387522883007536,
          1.0436210084613677,
          1.0462290558033691,
          1.039109309933167,
          1.0272761419676175,
          1.018369334364445,
          1.0164901438224367,
          1.044126475852477,
          1.0449247487791542,
          1.0379072754782774,
          1.0115793598059983,
          1.0103774546399118,
          1.010585335087952,
          1.0244382219812842,
          1.0217982465699869,
          1.0380124778344026,
          1.0307275942805905,
          1.0278003932562148,
          1.0158043327897073,
          1.006995030017659,
          1.0150976436086998,
          1.0178295501937282,
          1.0304106840722067,
          1.0367399963597286,
          1.0440663070077705,
          1.0372837554492012,
          1.028521538292351,
          1.0197569010997085,
          1.024162631221386,
          1.0202725555372243,
          1.0217293686720206,
          1.016683310407296,
          1.032799055498703,
          1.0342186579490062,
          1.0344523346458345,
          1.0250390076849472,
          1.0235307102678723,
          1.0165554859279344,
          1.0091826774446278,
          1.0095454959996804,
          1.0128384277097287,
          1.0159724378506958,
          1.022975558385754,
          1.0324898171853816,
          1.0381431347067969,
          1.0354338804313772,
          1.0279979311695526,
          1.0199411011928106,
          1.0111959262367074,
          1.0039738400202312,
          1.0041050322735723,
          1.008896868882397,
          1.0147766690615507,
          1.0094836657653745,
          1.003491313133155,
          1.0022755780520047,
          1.0071989588986658,
          1.0002186000276223,
          0.9989840445975154,
          1.0027270112666864,
          1.0068700960258583,
          1.0076705811010447,
          1.008194479266039,
          1.0231585356459902,
          1.023545283451166,
          1.0339799720229965,
          1.0341362138395707,
          1.0358624876224198,
          1.0239672240103073,
          1.0115081051583592,
          1.0023290033749936,
          1.004278560629645,
          1.0067368881202061,
          1.015901679284764,
          1.0123096097355624,
          1.0031585397012164,
          0.9981380481549372,
          0.9900746187536896
         ],
         "yaxis": "y5"
        },
        {
         "line": {
          "color": "green",
          "dash": "dash"
         },
         "mode": "lines",
         "name": "Average size (bits)",
         "showlegend": false,
         "type": "scatter",
         "x": [
          0,
          1,
          2,
          3,
          4,
          5,
          6,
          7,
          8,
          9,
          10,
          11,
          12,
          13,
          14,
          15,
          16,
          17,
          18,
          19,
          20,
          21,
          22,
          23,
          24,
          25,
          26,
          27,
          28,
          29,
          30,
          31,
          32,
          33,
          34,
          35,
          36,
          37,
          38,
          39,
          40,
          41,
          42,
          43,
          44,
          45,
          46,
          47,
          48,
          49,
          50,
          51,
          52,
          53,
          54,
          55,
          56,
          57,
          58,
          59,
          60,
          61,
          62,
          63,
          64,
          65,
          66,
          67,
          68,
          69,
          70,
          71,
          72,
          73,
          74,
          75,
          76,
          77,
          78,
          79,
          80,
          81,
          82,
          83,
          84,
          85,
          86,
          87,
          88,
          89,
          90,
          91,
          92,
          93,
          94,
          95,
          96,
          97,
          98,
          99
         ],
         "xaxis": "x3",
         "y": [
          1016.7203389830509,
          660.1440677966102,
          553.0508474576271,
          483.3305084745763,
          451.364406779661,
          427,
          412.3474576271187,
          403.04237288135596,
          394.2457627118644,
          385.8135593220339,
          380.58474576271186,
          375.6949152542373,
          372.41525423728814,
          369.1694915254237,
          367.1949152542373,
          366.16101694915255,
          364.22033898305085,
          361.91525423728814,
          360.60169491525426,
          359.9491525423729,
          358.3220338983051,
          357,
          356.33898305084745,
          354.70338983050846,
          354.3813559322034,
          353.3898305084746,
          353.3898305084746,
          351.7457627118644,
          351.7457627118644,
          351.7457627118644,
          351.7457627118644,
          352.2118644067797,
          352.2118644067797,
          352.2118644067797,
          352.2118644067797,
          352.2118644067797,
          352.2118644067797,
          352.2118644067797,
          352.2118644067797,
          352.2118644067797,
          352.2118644067797,
          352.2118644067797,
          352.2118644067797,
          352.2118644067797,
          352.2118644067797,
          352.2118644067797,
          352.2118644067797,
          352.2118644067797,
          352.2118644067797,
          352.2118644067797,
          352.2118644067797,
          352.2118644067797,
          352.2118644067797,
          352.2118644067797,
          352.2118644067797,
          352.2118644067797,
          352.2118644067797,
          352.2118644067797,
          352.2118644067797,
          352.2118644067797,
          352.2118644067797,
          352.2118644067797,
          352.2118644067797,
          352.3220338983051,
          352.3220338983051,
          352.3220338983051,
          352.3220338983051,
          352.3220338983051,
          352.3220338983051,
          352.3220338983051,
          352.3220338983051,
          352.3220338983051,
          352.3220338983051,
          352.3220338983051,
          352.3220338983051,
          352.3220338983051,
          352.3220338983051,
          352.3220338983051,
          352.3220338983051,
          352.3220338983051,
          352.3220338983051,
          352.3220338983051,
          352.3220338983051,
          352.3220338983051,
          352.3220338983051,
          352.3220338983051,
          352.3220338983051,
          352.3220338983051,
          352.3220338983051,
          352.3220338983051,
          352.3220338983051,
          352.3220338983051,
          352.3220338983051,
          352.3220338983051,
          352.3220338983051,
          352.3220338983051,
          352.3220338983051,
          352.3220338983051,
          352.3220338983051,
          352.3220338983051
         ],
         "yaxis": "y6"
        }
       ],
       "layout": {
        "annotations": [
         {
          "font": {
           "size": 16
          },
          "showarrow": false,
          "text": "Geometry Sizes=Large",
          "x": 0.47,
          "xanchor": "center",
          "xref": "paper",
          "y": 1,
          "yanchor": "bottom",
          "yref": "paper"
         },
         {
          "font": {
           "size": 16
          },
          "showarrow": false,
          "text": "Geometry Sizes=Medium",
          "x": 0.47,
          "xanchor": "center",
          "xref": "paper",
          "y": 0.6433333333333333,
          "yanchor": "bottom",
          "yref": "paper"
         },
         {
          "font": {
           "size": 16
          },
          "showarrow": false,
          "text": "Geometry Sizes=Small",
          "x": 0.47,
          "xanchor": "center",
          "xref": "paper",
          "y": 0.2866666666666667,
          "yanchor": "bottom",
          "yref": "paper"
         },
         {
          "font": {
           "size": 16
          },
          "showarrow": false,
          "text": "Min=52",
          "textangle": -90,
          "x": 52,
          "xanchor": "center",
          "xref": "x",
          "y": 0.5,
          "yanchor": "middle",
          "yref": "y domain"
         },
         {
          "font": {
           "size": 16
          },
          "showarrow": false,
          "text": "Min=92",
          "textangle": -90,
          "x": 92,
          "xanchor": "center",
          "xref": "x2",
          "y": 0.5,
          "yanchor": "middle",
          "yref": "y3 domain"
         },
         {
          "font": {
           "size": 16
          },
          "showarrow": false,
          "text": "Min=99",
          "textangle": -90,
          "x": 99,
          "xanchor": "center",
          "xref": "x3",
          "y": 0.5,
          "yanchor": "middle",
          "yref": "y5 domain"
         },
         {
          "font": {
           "size": 20
          },
          "showarrow": false,
          "text": "Max Chunk Size",
          "x": 0.48,
          "xanchor": "center",
          "xref": "paper",
          "y": -0.04,
          "yanchor": "top",
          "yref": "paper"
         },
         {
          "font": {
           "size": 20
          },
          "showarrow": false,
          "text": "Mean Size (bits)",
          "textangle": -90,
          "x": 1.01,
          "xanchor": "center",
          "xref": "paper",
          "y": 0.5,
          "yanchor": "middle",
          "yref": "paper"
         },
         {
          "font": {
           "size": 20
          },
          "showarrow": false,
          "text": "Relative Mean Execution Time (%)",
          "textangle": -90,
          "x": -0.07,
          "xanchor": "center",
          "xref": "paper",
          "y": 0.5,
          "yanchor": "middle",
          "yref": "paper"
         }
        ],
        "height": 1000,
        "legend": {
         "font": {
          "size": 15
         },
         "orientation": "h",
         "x": 0.7,
         "xanchor": "left",
         "y": -0.037,
         "yanchor": "top"
        },
        "shapes": [
         {
          "fillcolor": "green",
          "line": {
           "width": 0
          },
          "opacity": 0.25,
          "type": "rect",
          "x0": 51,
          "x1": 53,
          "xref": "x",
          "y0": 0,
          "y1": 1,
          "yref": "y domain"
         },
         {
          "fillcolor": "green",
          "line": {
           "width": 0
          },
          "opacity": 0.25,
          "type": "rect",
          "x0": 91,
          "x1": 93,
          "xref": "x2",
          "y0": 0,
          "y1": 1,
          "yref": "y3 domain"
         },
         {
          "fillcolor": "green",
          "line": {
           "width": 0
          },
          "opacity": 0.25,
          "type": "rect",
          "x0": 98,
          "x1": 100,
          "xref": "x3",
          "y0": 0,
          "y1": 1,
          "yref": "y5 domain"
         }
        ],
        "template": {
         "data": {
          "bar": [
           {
            "error_x": {
             "color": "#2a3f5f"
            },
            "error_y": {
             "color": "#2a3f5f"
            },
            "marker": {
             "line": {
              "color": "#E5ECF6",
              "width": 0.5
             },
             "pattern": {
              "fillmode": "overlay",
              "size": 10,
              "solidity": 0.2
             }
            },
            "type": "bar"
           }
          ],
          "barpolar": [
           {
            "marker": {
             "line": {
              "color": "#E5ECF6",
              "width": 0.5
             },
             "pattern": {
              "fillmode": "overlay",
              "size": 10,
              "solidity": 0.2
             }
            },
            "type": "barpolar"
           }
          ],
          "carpet": [
           {
            "aaxis": {
             "endlinecolor": "#2a3f5f",
             "gridcolor": "white",
             "linecolor": "white",
             "minorgridcolor": "white",
             "startlinecolor": "#2a3f5f"
            },
            "baxis": {
             "endlinecolor": "#2a3f5f",
             "gridcolor": "white",
             "linecolor": "white",
             "minorgridcolor": "white",
             "startlinecolor": "#2a3f5f"
            },
            "type": "carpet"
           }
          ],
          "choropleth": [
           {
            "colorbar": {
             "outlinewidth": 0,
             "ticks": ""
            },
            "type": "choropleth"
           }
          ],
          "contour": [
           {
            "colorbar": {
             "outlinewidth": 0,
             "ticks": ""
            },
            "colorscale": [
             [
              0,
              "#0d0887"
             ],
             [
              0.1111111111111111,
              "#46039f"
             ],
             [
              0.2222222222222222,
              "#7201a8"
             ],
             [
              0.3333333333333333,
              "#9c179e"
             ],
             [
              0.4444444444444444,
              "#bd3786"
             ],
             [
              0.5555555555555556,
              "#d8576b"
             ],
             [
              0.6666666666666666,
              "#ed7953"
             ],
             [
              0.7777777777777778,
              "#fb9f3a"
             ],
             [
              0.8888888888888888,
              "#fdca26"
             ],
             [
              1,
              "#f0f921"
             ]
            ],
            "type": "contour"
           }
          ],
          "contourcarpet": [
           {
            "colorbar": {
             "outlinewidth": 0,
             "ticks": ""
            },
            "type": "contourcarpet"
           }
          ],
          "heatmap": [
           {
            "colorbar": {
             "outlinewidth": 0,
             "ticks": ""
            },
            "colorscale": [
             [
              0,
              "#0d0887"
             ],
             [
              0.1111111111111111,
              "#46039f"
             ],
             [
              0.2222222222222222,
              "#7201a8"
             ],
             [
              0.3333333333333333,
              "#9c179e"
             ],
             [
              0.4444444444444444,
              "#bd3786"
             ],
             [
              0.5555555555555556,
              "#d8576b"
             ],
             [
              0.6666666666666666,
              "#ed7953"
             ],
             [
              0.7777777777777778,
              "#fb9f3a"
             ],
             [
              0.8888888888888888,
              "#fdca26"
             ],
             [
              1,
              "#f0f921"
             ]
            ],
            "type": "heatmap"
           }
          ],
          "heatmapgl": [
           {
            "colorbar": {
             "outlinewidth": 0,
             "ticks": ""
            },
            "colorscale": [
             [
              0,
              "#0d0887"
             ],
             [
              0.1111111111111111,
              "#46039f"
             ],
             [
              0.2222222222222222,
              "#7201a8"
             ],
             [
              0.3333333333333333,
              "#9c179e"
             ],
             [
              0.4444444444444444,
              "#bd3786"
             ],
             [
              0.5555555555555556,
              "#d8576b"
             ],
             [
              0.6666666666666666,
              "#ed7953"
             ],
             [
              0.7777777777777778,
              "#fb9f3a"
             ],
             [
              0.8888888888888888,
              "#fdca26"
             ],
             [
              1,
              "#f0f921"
             ]
            ],
            "type": "heatmapgl"
           }
          ],
          "histogram": [
           {
            "marker": {
             "pattern": {
              "fillmode": "overlay",
              "size": 10,
              "solidity": 0.2
             }
            },
            "type": "histogram"
           }
          ],
          "histogram2d": [
           {
            "colorbar": {
             "outlinewidth": 0,
             "ticks": ""
            },
            "colorscale": [
             [
              0,
              "#0d0887"
             ],
             [
              0.1111111111111111,
              "#46039f"
             ],
             [
              0.2222222222222222,
              "#7201a8"
             ],
             [
              0.3333333333333333,
              "#9c179e"
             ],
             [
              0.4444444444444444,
              "#bd3786"
             ],
             [
              0.5555555555555556,
              "#d8576b"
             ],
             [
              0.6666666666666666,
              "#ed7953"
             ],
             [
              0.7777777777777778,
              "#fb9f3a"
             ],
             [
              0.8888888888888888,
              "#fdca26"
             ],
             [
              1,
              "#f0f921"
             ]
            ],
            "type": "histogram2d"
           }
          ],
          "histogram2dcontour": [
           {
            "colorbar": {
             "outlinewidth": 0,
             "ticks": ""
            },
            "colorscale": [
             [
              0,
              "#0d0887"
             ],
             [
              0.1111111111111111,
              "#46039f"
             ],
             [
              0.2222222222222222,
              "#7201a8"
             ],
             [
              0.3333333333333333,
              "#9c179e"
             ],
             [
              0.4444444444444444,
              "#bd3786"
             ],
             [
              0.5555555555555556,
              "#d8576b"
             ],
             [
              0.6666666666666666,
              "#ed7953"
             ],
             [
              0.7777777777777778,
              "#fb9f3a"
             ],
             [
              0.8888888888888888,
              "#fdca26"
             ],
             [
              1,
              "#f0f921"
             ]
            ],
            "type": "histogram2dcontour"
           }
          ],
          "mesh3d": [
           {
            "colorbar": {
             "outlinewidth": 0,
             "ticks": ""
            },
            "type": "mesh3d"
           }
          ],
          "parcoords": [
           {
            "line": {
             "colorbar": {
              "outlinewidth": 0,
              "ticks": ""
             }
            },
            "type": "parcoords"
           }
          ],
          "pie": [
           {
            "automargin": true,
            "type": "pie"
           }
          ],
          "scatter": [
           {
            "fillpattern": {
             "fillmode": "overlay",
             "size": 10,
             "solidity": 0.2
            },
            "type": "scatter"
           }
          ],
          "scatter3d": [
           {
            "line": {
             "colorbar": {
              "outlinewidth": 0,
              "ticks": ""
             }
            },
            "marker": {
             "colorbar": {
              "outlinewidth": 0,
              "ticks": ""
             }
            },
            "type": "scatter3d"
           }
          ],
          "scattercarpet": [
           {
            "marker": {
             "colorbar": {
              "outlinewidth": 0,
              "ticks": ""
             }
            },
            "type": "scattercarpet"
           }
          ],
          "scattergeo": [
           {
            "marker": {
             "colorbar": {
              "outlinewidth": 0,
              "ticks": ""
             }
            },
            "type": "scattergeo"
           }
          ],
          "scattergl": [
           {
            "marker": {
             "colorbar": {
              "outlinewidth": 0,
              "ticks": ""
             }
            },
            "type": "scattergl"
           }
          ],
          "scattermapbox": [
           {
            "marker": {
             "colorbar": {
              "outlinewidth": 0,
              "ticks": ""
             }
            },
            "type": "scattermapbox"
           }
          ],
          "scatterpolar": [
           {
            "marker": {
             "colorbar": {
              "outlinewidth": 0,
              "ticks": ""
             }
            },
            "type": "scatterpolar"
           }
          ],
          "scatterpolargl": [
           {
            "marker": {
             "colorbar": {
              "outlinewidth": 0,
              "ticks": ""
             }
            },
            "type": "scatterpolargl"
           }
          ],
          "scatterternary": [
           {
            "marker": {
             "colorbar": {
              "outlinewidth": 0,
              "ticks": ""
             }
            },
            "type": "scatterternary"
           }
          ],
          "surface": [
           {
            "colorbar": {
             "outlinewidth": 0,
             "ticks": ""
            },
            "colorscale": [
             [
              0,
              "#0d0887"
             ],
             [
              0.1111111111111111,
              "#46039f"
             ],
             [
              0.2222222222222222,
              "#7201a8"
             ],
             [
              0.3333333333333333,
              "#9c179e"
             ],
             [
              0.4444444444444444,
              "#bd3786"
             ],
             [
              0.5555555555555556,
              "#d8576b"
             ],
             [
              0.6666666666666666,
              "#ed7953"
             ],
             [
              0.7777777777777778,
              "#fb9f3a"
             ],
             [
              0.8888888888888888,
              "#fdca26"
             ],
             [
              1,
              "#f0f921"
             ]
            ],
            "type": "surface"
           }
          ],
          "table": [
           {
            "cells": {
             "fill": {
              "color": "#EBF0F8"
             },
             "line": {
              "color": "white"
             }
            },
            "header": {
             "fill": {
              "color": "#C8D4E3"
             },
             "line": {
              "color": "white"
             }
            },
            "type": "table"
           }
          ]
         },
         "layout": {
          "annotationdefaults": {
           "arrowcolor": "#2a3f5f",
           "arrowhead": 0,
           "arrowwidth": 1
          },
          "autotypenumbers": "strict",
          "coloraxis": {
           "colorbar": {
            "outlinewidth": 0,
            "ticks": ""
           }
          },
          "colorscale": {
           "diverging": [
            [
             0,
             "#8e0152"
            ],
            [
             0.1,
             "#c51b7d"
            ],
            [
             0.2,
             "#de77ae"
            ],
            [
             0.3,
             "#f1b6da"
            ],
            [
             0.4,
             "#fde0ef"
            ],
            [
             0.5,
             "#f7f7f7"
            ],
            [
             0.6,
             "#e6f5d0"
            ],
            [
             0.7,
             "#b8e186"
            ],
            [
             0.8,
             "#7fbc41"
            ],
            [
             0.9,
             "#4d9221"
            ],
            [
             1,
             "#276419"
            ]
           ],
           "sequential": [
            [
             0,
             "#0d0887"
            ],
            [
             0.1111111111111111,
             "#46039f"
            ],
            [
             0.2222222222222222,
             "#7201a8"
            ],
            [
             0.3333333333333333,
             "#9c179e"
            ],
            [
             0.4444444444444444,
             "#bd3786"
            ],
            [
             0.5555555555555556,
             "#d8576b"
            ],
            [
             0.6666666666666666,
             "#ed7953"
            ],
            [
             0.7777777777777778,
             "#fb9f3a"
            ],
            [
             0.8888888888888888,
             "#fdca26"
            ],
            [
             1,
             "#f0f921"
            ]
           ],
           "sequentialminus": [
            [
             0,
             "#0d0887"
            ],
            [
             0.1111111111111111,
             "#46039f"
            ],
            [
             0.2222222222222222,
             "#7201a8"
            ],
            [
             0.3333333333333333,
             "#9c179e"
            ],
            [
             0.4444444444444444,
             "#bd3786"
            ],
            [
             0.5555555555555556,
             "#d8576b"
            ],
            [
             0.6666666666666666,
             "#ed7953"
            ],
            [
             0.7777777777777778,
             "#fb9f3a"
            ],
            [
             0.8888888888888888,
             "#fdca26"
            ],
            [
             1,
             "#f0f921"
            ]
           ]
          },
          "colorway": [
           "#636efa",
           "#EF553B",
           "#00cc96",
           "#ab63fa",
           "#FFA15A",
           "#19d3f3",
           "#FF6692",
           "#B6E880",
           "#FF97FF",
           "#FECB52"
          ],
          "font": {
           "color": "#2a3f5f"
          },
          "geo": {
           "bgcolor": "white",
           "lakecolor": "white",
           "landcolor": "#E5ECF6",
           "showlakes": true,
           "showland": true,
           "subunitcolor": "white"
          },
          "hoverlabel": {
           "align": "left"
          },
          "hovermode": "closest",
          "mapbox": {
           "style": "light"
          },
          "paper_bgcolor": "white",
          "plot_bgcolor": "#E5ECF6",
          "polar": {
           "angularaxis": {
            "gridcolor": "white",
            "linecolor": "white",
            "ticks": ""
           },
           "bgcolor": "#E5ECF6",
           "radialaxis": {
            "gridcolor": "white",
            "linecolor": "white",
            "ticks": ""
           }
          },
          "scene": {
           "xaxis": {
            "backgroundcolor": "#E5ECF6",
            "gridcolor": "white",
            "gridwidth": 2,
            "linecolor": "white",
            "showbackground": true,
            "ticks": "",
            "zerolinecolor": "white"
           },
           "yaxis": {
            "backgroundcolor": "#E5ECF6",
            "gridcolor": "white",
            "gridwidth": 2,
            "linecolor": "white",
            "showbackground": true,
            "ticks": "",
            "zerolinecolor": "white"
           },
           "zaxis": {
            "backgroundcolor": "#E5ECF6",
            "gridcolor": "white",
            "gridwidth": 2,
            "linecolor": "white",
            "showbackground": true,
            "ticks": "",
            "zerolinecolor": "white"
           }
          },
          "shapedefaults": {
           "line": {
            "color": "#2a3f5f"
           }
          },
          "ternary": {
           "aaxis": {
            "gridcolor": "white",
            "linecolor": "white",
            "ticks": ""
           },
           "baxis": {
            "gridcolor": "white",
            "linecolor": "white",
            "ticks": ""
           },
           "bgcolor": "#E5ECF6",
           "caxis": {
            "gridcolor": "white",
            "linecolor": "white",
            "ticks": ""
           }
          },
          "title": {
           "x": 0.05
          },
          "xaxis": {
           "automargin": true,
           "gridcolor": "white",
           "linecolor": "white",
           "ticks": "",
           "title": {
            "standoff": 15
           },
           "zerolinecolor": "white",
           "zerolinewidth": 2
          },
          "yaxis": {
           "automargin": true,
           "gridcolor": "white",
           "linecolor": "white",
           "ticks": "",
           "title": {
            "standoff": 15
           },
           "zerolinecolor": "white",
           "zerolinewidth": 2
          }
         }
        },
        "title": {
         "font": {
          "size": 22
         },
         "text": "Relative Execution Time for Intersection by Max Chunk Size ",
         "x": 0.5
        },
        "width": 1000,
        "xaxis": {
         "anchor": "y",
         "domain": [
          0,
          0.94
         ],
         "tickfont": {
          "size": 16
         },
         "title": {
          "text": ""
         }
        },
        "xaxis2": {
         "anchor": "y3",
         "domain": [
          0,
          0.94
         ],
         "tickfont": {
          "size": 16
         },
         "title": {
          "text": ""
         }
        },
        "xaxis3": {
         "anchor": "y5",
         "domain": [
          0,
          0.94
         ],
         "tickfont": {
          "size": 16
         },
         "title": {
          "text": ""
         }
        },
        "yaxis": {
         "anchor": "x",
         "domain": [
          0.7133333333333334,
          1
         ],
         "tickfont": {
          "size": 16
         },
         "title": {
          "text": ""
         },
         "type": "log"
        },
        "yaxis2": {
         "anchor": "x",
         "overlaying": "y",
         "side": "right",
         "tickfont": {
          "size": 16
         },
         "title": {
          "text": ""
         },
         "type": "log"
        },
        "yaxis3": {
         "anchor": "x2",
         "domain": [
          0.3566666666666667,
          0.6433333333333333
         ],
         "tickfont": {
          "size": 16
         },
         "title": {
          "text": ""
         },
         "type": "log"
        },
        "yaxis4": {
         "anchor": "x2",
         "overlaying": "y3",
         "side": "right",
         "tickfont": {
          "size": 16
         },
         "title": {
          "text": ""
         },
         "type": "log"
        },
        "yaxis5": {
         "anchor": "x3",
         "domain": [
          0,
          0.2866666666666667
         ],
         "tickfont": {
          "size": 16
         },
         "title": {
          "text": ""
         },
         "type": "log"
        },
        "yaxis6": {
         "anchor": "x3",
         "overlaying": "y5",
         "side": "right",
         "tickfont": {
          "size": 16
         },
         "title": {
          "text": ""
         },
         "type": "log"
        }
       }
      }
     },
     "metadata": {},
     "output_type": "display_data"
    }
   ],
   "source": [
    "plot_max_delta_size_speed(max_deltas_filt_df, is_predicate=False, no_mixed=True, relative=True)"
   ]
  },
  {
   "attachments": {},
   "cell_type": "markdown",
   "metadata": {},
   "source": [
    "#### Dataset Stats Collection"
   ]
  },
  {
   "cell_type": "code",
   "execution_count": null,
   "metadata": {},
   "outputs": [
    {
     "name": "stderr",
     "output_type": "stream",
     "text": [
      "  0%|          | 325/100000 [00:20<1:45:01, 15.82it/s]\n"
     ]
    },
    {
     "ename": "KeyboardInterrupt",
     "evalue": "",
     "output_type": "error",
     "traceback": [
      "\u001b[0;31m---------------------------------------------------------------------------\u001b[0m",
      "\u001b[0;31mKeyboardInterrupt\u001b[0m                         Traceback (most recent call last)",
      "Cell \u001b[0;32mIn[9], line 20\u001b[0m\n\u001b[1;32m     16\u001b[0m     \u001b[39mfor\u001b[39;00m baseline_on \u001b[39min\u001b[39;00m [\u001b[39mTrue\u001b[39;00m, \u001b[39mFalse\u001b[39;00m]:\n\u001b[1;32m     17\u001b[0m         act_deact_baseline(activate\u001b[39m=\u001b[39mbaseline_on)\n\u001b[0;32m---> 20\u001b[0m         evaluate_dataset(stats_df, delta_size\u001b[39m=\u001b[39;49m\u001b[39m15\u001b[39;49m \u001b[39mif\u001b[39;49;00m \u001b[39mnot\u001b[39;49;00m baseline_on \u001b[39melse\u001b[39;49;00m \u001b[39m10000000\u001b[39;49m, dataset_name\u001b[39m=\u001b[39;49mdataset_name, args\u001b[39m=\u001b[39;49m(idx, g1, g2)) \u001b[39m# Second param: PLOT?\u001b[39;00m\n\u001b[1;32m     21\u001b[0m stats_df\u001b[39m.\u001b[39mto_csv(\u001b[39mf\u001b[39m\u001b[39m'\u001b[39m\u001b[39mstats_df_\u001b[39m\u001b[39m{\u001b[39;00mdataset_name\u001b[39m}\u001b[39;00m\u001b[39m.csv\u001b[39m\u001b[39m'\u001b[39m, index\u001b[39m=\u001b[39m\u001b[39mFalse\u001b[39;00m)\n\u001b[1;32m     22\u001b[0m stats_dfs\u001b[39m.\u001b[39mappend(stats_df)\n",
      "Cell \u001b[0;32mIn[6], line 10\u001b[0m, in \u001b[0;36mevaluate_dataset\u001b[0;34m(stats_df, delta_size, not_predicate, add_size, dataset_name, args)\u001b[0m\n\u001b[1;32m      8\u001b[0m stats \u001b[39m=\u001b[39m []\n\u001b[1;32m      9\u001b[0m stats\u001b[39m.\u001b[39mextend(get_time_stat(bins\u001b[39m=\u001b[39mbins, predicate\u001b[39m=\u001b[39mis_predicate))\n\u001b[0;32m---> 10\u001b[0m stats\u001b[39m.\u001b[39mextend(get_category_stat(g1, g2))\n\u001b[1;32m     11\u001b[0m stats\u001b[39m.\u001b[39mappend(delta_size \u001b[39mif\u001b[39;00m delta_size \u001b[39m!=\u001b[39m \u001b[39mNone\u001b[39;00m \u001b[39melse\u001b[39;00m cfg\u001b[39m.\u001b[39mMAX_NUM_DELTAS)\n\u001b[1;32m     12\u001b[0m stats\u001b[39m.\u001b[39mappend(is_predicate)\n",
      "Cell \u001b[0;32mIn[5], line 40\u001b[0m, in \u001b[0;36mget_category_stat\u001b[0;34m(g1, g2)\u001b[0m\n\u001b[1;32m     38\u001b[0m s1, s2 \u001b[39m=\u001b[39m (shapely\u001b[39m.\u001b[39mget_num_coordinates(g1), shapely\u001b[39m.\u001b[39mget_num_coordinates(g2))\n\u001b[1;32m     39\u001b[0m size_category \u001b[39m=\u001b[39m get_intersection_category(s1, s2)\n\u001b[0;32m---> 40\u001b[0m context_category \u001b[39m=\u001b[39m get_context_category(g1, g2)\n\u001b[1;32m     41\u001b[0m \u001b[39mreturn\u001b[39;00m [size_category, context_category]\n",
      "Cell \u001b[0;32mIn[5], line 21\u001b[0m, in \u001b[0;36mget_context_category\u001b[0;34m(g1, g2, bins)\u001b[0m\n\u001b[1;32m     19\u001b[0m \u001b[39mif\u001b[39;00m bins \u001b[39m==\u001b[39m \u001b[39mNone\u001b[39;00m:\n\u001b[1;32m     20\u001b[0m     _, b1_fpde \u001b[39m=\u001b[39m fpd\u001b[39m.\u001b[39mcompress(g1)\n\u001b[0;32m---> 21\u001b[0m     _, b2_fpde \u001b[39m=\u001b[39m fpd\u001b[39m.\u001b[39;49mcompress(g2) \n\u001b[1;32m     22\u001b[0m \u001b[39melse\u001b[39;00m:\n\u001b[1;32m     23\u001b[0m     b1_fpde, b2_fpde \u001b[39m=\u001b[39m bins\n",
      "File \u001b[0;32m~/Desktop/Examensarbete/algos/fpd_extended_lib/compress.py:219\u001b[0m, in \u001b[0;36mcompress\u001b[0;34m(self, geometry)\u001b[0m\n\u001b[1;32m    217\u001b[0m cfg\u001b[39m.\u001b[39mENTROPY_STATE \u001b[39m=\u001b[39m (cfg\u001b[39m.\u001b[39mENTROPY_METHOD, cfg\u001b[39m.\u001b[39mENTROPY_PARAM, cfg\u001b[39m.\u001b[39mUSE_ENTROPY)\n\u001b[1;32m    218\u001b[0m optimal_size, _, deltas \u001b[39m=\u001b[39m calculate_delta_size(geometry, return_deltas\u001b[39m=\u001b[39m\u001b[39mTrue\u001b[39;00m)\n\u001b[0;32m--> 219\u001b[0m \u001b[39mbin\u001b[39m \u001b[39m=\u001b[39m fp_delta_encoding(geometry, optimal_size, deltas[\u001b[39m1\u001b[39;49m])\n\u001b[1;32m    220\u001b[0m (cfg\u001b[39m.\u001b[39mENTROPY_METHOD, cfg\u001b[39m.\u001b[39mENTROPY_PARAM, cfg\u001b[39m.\u001b[39mUSE_ENTROPY) \u001b[39m=\u001b[39m cfg\u001b[39m.\u001b[39mENTROPY_STATE\n\u001b[1;32m    221\u001b[0m t \u001b[39m=\u001b[39m time\u001b[39m.\u001b[39mperf_counter()\n",
      "File \u001b[0;32m~/Desktop/Examensarbete/algos/fpd_extended_lib/compress.py:155\u001b[0m, in \u001b[0;36mfp_delta_encoding\u001b[0;34m(geometry, d_size, deltas)\u001b[0m\n\u001b[1;32m    152\u001b[0m     bits\u001b[39m.\u001b[39mfrombytes(double_to_bytes(y))\n\u001b[1;32m    153\u001b[0m \u001b[39melse\u001b[39;00m:\n\u001b[1;32m    154\u001b[0m     \u001b[39m# Delta fits, append it\u001b[39;00m\n\u001b[0;32m--> 155\u001b[0m     (len_x, len_y) \u001b[39m=\u001b[39m append_delta_pair(bits, d_x_zig, d_y_zig, d_size)\n\u001b[1;32m    156\u001b[0m     chk_dt_cnt \u001b[39m+\u001b[39m\u001b[39m=\u001b[39m \u001b[39m1\u001b[39m\n\u001b[1;32m    157\u001b[0m     chk_dt_bitsize \u001b[39m+\u001b[39m\u001b[39m=\u001b[39m len_x \u001b[39m+\u001b[39m len_y\n",
      "File \u001b[0;32m~/Desktop/Examensarbete/algos/fpd_extended_lib/compress.py:57\u001b[0m, in \u001b[0;36mappend_delta_pair\u001b[0;34m(bits, d_x_zig, d_y_zig, d_size)\u001b[0m\n\u001b[1;32m     56\u001b[0m \u001b[39mdef\u001b[39;00m \u001b[39mappend_delta_pair\u001b[39m(bits, d_x_zig, d_y_zig, d_size):\n\u001b[0;32m---> 57\u001b[0m         x_bytes \u001b[39m=\u001b[39m uint_to_ba(d_x_zig, d_size)\n\u001b[1;32m     58\u001b[0m         y_bytes \u001b[39m=\u001b[39m uint_to_ba(d_y_zig, d_size)\n\u001b[1;32m     59\u001b[0m         \u001b[39mif\u001b[39;00m cfg\u001b[39m.\u001b[39mUSE_ENTROPY:\n",
      "File \u001b[0;32m~/Desktop/Examensarbete/algos/fpd_extended_lib/low_level.py:108\u001b[0m, in \u001b[0;36muint_to_ba\u001b[0;34m(x, length)\u001b[0m\n\u001b[1;32m    104\u001b[0m     \u001b[39mreturn\u001b[39;00m util\u001b[39m.\u001b[39mzeros(length \u001b[39mor\u001b[39;00m \u001b[39m1\u001b[39m, \u001b[39m\"\u001b[39m\u001b[39mbig\u001b[39m\u001b[39m\"\u001b[39m)\n\u001b[1;32m    106\u001b[0m a \u001b[39m=\u001b[39m bitarray(\u001b[39m0\u001b[39m, \u001b[39m\"\u001b[39m\u001b[39mbig\u001b[39m\u001b[39m\"\u001b[39m)\n\u001b[0;32m--> 108\u001b[0m a\u001b[39m.\u001b[39mfrombytes(x\u001b[39m.\u001b[39;49mto_bytes(bits2bytes(x\u001b[39m.\u001b[39;49mbit_length()), byteorder\u001b[39m=\u001b[39;49m\u001b[39m\"\u001b[39;49m\u001b[39mbig\u001b[39;49m\u001b[39m\"\u001b[39;49m))\n\u001b[1;32m    109\u001b[0m la \u001b[39m=\u001b[39m \u001b[39mlen\u001b[39m(a)\n\u001b[1;32m    110\u001b[0m \u001b[39mif\u001b[39;00m la \u001b[39m==\u001b[39m length:\n",
      "\u001b[0;31mKeyboardInterrupt\u001b[0m: "
     ]
    }
   ],
   "source": [
    "if USE_EXISTING_DF:\n",
    "    stats_dfs = []\n",
    "\n",
    "    for dataset in datasets:\n",
    "        stats_df = pd.DataFrame(columns=['decomp', 'nbr_recieved_chks', 'nbr_total_chks', 'total_time', \"sizes\", \"context\", \"delta_size\", \"predicate\", \"dataset_idx\", \"baseline\", \"dataset\"])\n",
    "\n",
    "        dataset, _, dataset_name = dataset\n",
    "        np.random.seed(2021)\n",
    "        indicies = np.random.choice(len(dataset), size=100000, replace=True)\n",
    "        dataset = np.array(dataset)[indicies] \n",
    "        for idx, (g1, g2) in enumerate(tqdm(dataset)):\n",
    "            \n",
    "            if g1.geom_type == \"Point\" or g2.geom_type == \"Point\":\n",
    "                continue\n",
    "\n",
    "            for baseline_on in [True, False]:\n",
    "                act_deact_baseline(activate=baseline_on)\n",
    "                \n",
    "\n",
    "                evaluate_dataset(stats_df, delta_size=15 if not baseline_on else 10000000, dataset_name=dataset_name, args=(idx, g1, g2)) # Second param: PLOT?\n",
    "        stats_df.to_csv(f'stats_df_{dataset_name}.csv', index=False)\n",
    "        stats_dfs.append(stats_df)\n",
    "    stats_df = pd.concat(stats_dfs)\n",
    "else:\n",
    "    country_stats_df = pd.read_csv('stats_df_Country Borders2.csv')\n",
    "    china_stats_df = pd.read_csv('stats_df_China Water2.csv')\n",
    "    sweden_stats_df = pd.read_csv('stats_df_Sweden All2.csv')\n",
    "    lund_stats_df = pd.read_csv('stats_df_lund_data2.csv')\n",
    "\n",
    "    stats_df = pd.concat([\n",
    "        china_stats_df, \n",
    "        sweden_stats_df, \n",
    "        lund_stats_df, \n",
    "        country_stats_df\n",
    "        ]\n",
    "    )\n"
   ]
  },
  {
   "cell_type": "markdown",
   "metadata": {},
   "source": [
    "#### Total Execution Time by Context"
   ]
  },
  {
   "attachments": {},
   "cell_type": "markdown",
   "metadata": {},
   "source": [
    "##### Bars"
   ]
  },
  {
   "cell_type": "code",
   "execution_count": null,
   "metadata": {},
   "outputs": [],
   "source": [
    "def plot_total_time_bars_relative(df, is_predicate=False, size_cat_excl=[], log_scale=True):\n",
    "    df = df[(df['predicate'] == is_predicate)] #(df['sizes'].isin([\"Small/Small\", \"Medium/Medium\", \"Large/Large\"]))]\n",
    "\n",
    "    df = df.groupby(['context', 'baseline', 'sizes']).mean()\n",
    "    df.reset_index(inplace=True)\n",
    "    baseline_df = df[df['baseline']]\n",
    "    not_baseline_df = df[~df['baseline']]\n",
    "    baseline_df.sort_values(by=['context', 'sizes'])\n",
    "    not_baseline_df.sort_values(by=['context', 'sizes'])\n",
    "    not_baseline_df['total_time_ratio'] = not_baseline_df['total_time'].values / baseline_df['total_time'].values\n",
    "    df = not_baseline_df\n",
    "\n",
    "\n",
    "\n",
    "    df.loc[~df['baseline'], 'decomp_ratio'] = df.loc[~df['baseline'], 'total_time_ratio'] *  df.loc[~df['baseline'], 'decomp'] / df.loc[~df['baseline'], 'total_time']    \n",
    "    df['total_time_ratio'] = df.loc[~df['baseline'], 'total_time_ratio'] - df.loc[~df['baseline'], 'decomp_ratio']\n",
    "    df = df[df['baseline'] == False]\n",
    "    intersection_formatting = \"Intersection\" if not is_predicate else \"Is_Intersection\"\n",
    "    df = pd.concat([df] * 2, ignore_index=True)\n",
    "\n",
    "    new_column_values = ([\"Decompression\"] * (len(df) // 2))\n",
    "    new_column_values.extend(([\"Intersection\"] * (len(df) // 2)))\n",
    "\n",
    "    df['Stage'] = new_column_values\n",
    "    df['time'] = df.apply(lambda x: x['decomp_ratio'] * 100 if x[\"Stage\"] == \"Decompression\" else x['total_time_ratio'] * 100, axis=1)\n",
    "    df = df[['time', 'context', 'sizes', 'Stage']]\n",
    "    fig = px.bar(df, \n",
    "                       x=\"context\", \n",
    "                       y=\"time\", \n",
    "                       facet_col=\"sizes\", \n",
    "                       color=\"Stage\",\n",
    "                       barmode='group',\n",
    "                       log_y=log_scale, \n",
    "                       facet_col_spacing=0.1, \n",
    "                       title=f\"Execution Time for {intersection_formatting} in Different Contexts & Sizes\",\n",
    "                       labels=dict(sizes=\"Geometry Sizes\", context=\"Context\", baseline=\"Baseline\", Stage=\"Stage: \"),\n",
    "                       facet_col_wrap=3,\n",
    "                       facet_row_spacing=0.1,\n",
    "                       height=1000,\n",
    "                       width=1000,\n",
    "                       pattern_shape='Stage',\n",
    "                       color_discrete_map={\n",
    "                            'Decompression': 'rgb(169,234,184)',\n",
    "                            'Intersection': 'rgb(255,183,180)',\n",
    "                            'Country Borders': 'rgb(254,198,161)'\n",
    "                        }\n",
    "                       #text=\"time\"\n",
    "                       )\n",
    "    fig.update_annotations(font=dict(size=16))\n",
    "    make_general_facet_title(fig, \"Bounding Box Context\", \"Relative Mean Execution Time (%)\", barplot=True)\n",
    "    #fig.for_each_yaxis(lambda yaxis: yaxis.update(showticklabels=True))\n",
    "    fig.update_yaxes(matches=None, showticklabels=True,  tickfont=dict(size=16), range=[0,105])\n",
    "    fig.update_xaxes(tickfont=dict(size=16))\n",
    "    #fig.update_traces(texttemplate='%{text:.2}%', textposition='inside', textfont=dict(color='white'))\n",
    "\n",
    "    fig.update_layout(barmode=\"relative\",\n",
    "                      #title_x=0.5,\n",
    "                      width=1200, \n",
    "                      height=1000, \n",
    "                      legend=dict(\n",
    "                            yanchor=\"top\",\n",
    "                            y=1.15,\n",
    "                            xanchor=\"left\",\n",
    "                            x=0.83,\n",
    "                           #orientation=\"h\",\n",
    "                            font=dict(size=16),\n",
    "                        ),\n",
    "                        title=dict(\n",
    "                            text=f'Relative Mean Execution Time for Intersection in Different Contexts',\n",
    "                            \n",
    "                            font=dict(size=22)\n",
    "                            )\n",
    "                        )\n",
    "\n",
    "    for row in range(2):\n",
    "        for col in range(3):\n",
    "            fig.add_hline(y=100, line_dash=\"dot\", row=row, col=col)\n",
    "\n",
    "   \n",
    "    fig.show()\n"
   ]
  },
  {
   "cell_type": "code",
   "execution_count": null,
   "metadata": {},
   "outputs": [
    {
     "ename": "NameError",
     "evalue": "name 'stats_df' is not defined",
     "output_type": "error",
     "traceback": [
      "\u001b[0;31m---------------------------------------------------------------------------\u001b[0m",
      "\u001b[0;31mNameError\u001b[0m                                 Traceback (most recent call last)",
      "Cell \u001b[0;32mIn[7], line 1\u001b[0m\n\u001b[0;32m----> 1\u001b[0m total_time_df \u001b[39m=\u001b[39m stats_df[[\u001b[39m'\u001b[39m\u001b[39mcontext\u001b[39m\u001b[39m'\u001b[39m, \u001b[39m'\u001b[39m\u001b[39mtotal_time\u001b[39m\u001b[39m'\u001b[39m, \u001b[39m'\u001b[39m\u001b[39msizes\u001b[39m\u001b[39m'\u001b[39m, \u001b[39m'\u001b[39m\u001b[39mbaseline\u001b[39m\u001b[39m'\u001b[39m, \u001b[39m'\u001b[39m\u001b[39mpredicate\u001b[39m\u001b[39m'\u001b[39m, \u001b[39m'\u001b[39m\u001b[39mdecomp\u001b[39m\u001b[39m'\u001b[39m]]\n\u001b[1;32m      2\u001b[0m plot_total_time_bars_relative(total_time_df, is_predicate\u001b[39m=\u001b[39m\u001b[39mFalse\u001b[39;00m, size_cat_excl\u001b[39m=\u001b[39m[], log_scale\u001b[39m=\u001b[39m\u001b[39mFalse\u001b[39;00m) \u001b[39m#\u001b[39;00m\n",
      "\u001b[0;31mNameError\u001b[0m: name 'stats_df' is not defined"
     ]
    }
   ],
   "source": [
    "total_time_df = stats_df[['context', 'total_time', 'sizes', 'baseline', 'predicate', 'decomp']]\n",
    "plot_total_time_bars_relative(total_time_df, is_predicate=False, size_cat_excl=[], log_scale=False) #"
   ]
  },
  {
   "cell_type": "code",
   "execution_count": null,
   "metadata": {},
   "outputs": [],
   "source": [
    "def plot_total_time_bars(df, is_predicate=False, size_cat_excl=[], log_scale=True):\n",
    "    df = df[(df['predicate'] == is_predicate)] #(df['sizes'].isin([\"Small/Small\", \"Medium/Medium\", \"Large/Large\"]))]\n",
    "    df = df.groupby(['context', 'baseline', 'sizes']).mean()\n",
    "    df.reset_index(inplace=True)\n",
    "   \n",
    "    intersection_formatting = \"Intersection\" if not is_predicate else \"Is_Intersection\"\n",
    "    fig = px.histogram(df, \n",
    "                       x=\"context\", \n",
    "                       y=\"total_time\", \n",
    "                       facet_col=\"sizes\", \n",
    "                       color=\"baseline\",\n",
    "                       barmode='group',\n",
    "                       log_y=False, \n",
    "                       facet_col_spacing=0.1, \n",
    "                       histfunc=\"avg\", \n",
    "                       title=f\"Execution Time for {intersection_formatting} in Different Contexts & Sizes\",\n",
    "                       labels=dict(sizes=\"Geometry Sizes\", context=\"Context\", baseline=\"Baseline\", Stage=\"Stage: \"),\n",
    "                       facet_col_wrap=3,\n",
    "                       facet_row_spacing=0.1,\n",
    "                       height=1000,\n",
    "                       width=1000,\n",
    "                       color_discrete_map={\n",
    "                            True: 'rgb(169,234,184)',\n",
    "                            False: 'rgb(255,183,180)',\n",
    "                        }\n",
    "                       #text=\"time\"\n",
    "                       )\n",
    "    fig.update_annotations(font=dict(size=16))\n",
    "    make_general_facet_title(fig, \"Bounding Box Context\", \"Mean Execution Time (s)\", barplot=True)\n",
    "    #fig.for_each_yaxis(lambda yaxis: yaxis.update(showticklabels=True))\n",
    "    fig.update_yaxes(matches=None, showticklabels=True,  tickfont=dict(size=16))\n",
    "    fig.update_xaxes(tickfont=dict(size=16))\n",
    "    #fig.update_traces(texttemplate='%{text:.2}%', textposition='inside', textfont=dict(color='white'))\n",
    "\n",
    "    fig.update_layout(barmode=\"group\",\n",
    "                      #title_x=0.5,\n",
    "                      title_y=0.96,\n",
    "                      width=1200, \n",
    "                      height=1000, \n",
    "                      \n",
    "                      legend=dict(\n",
    "                            yanchor=\"top\",\n",
    "                            y=1.15,\n",
    "                            xanchor=\"left\",\n",
    "                            x=0.91,\n",
    "                           #orientation=\"h\",\n",
    "                            font=dict(size=16),\n",
    "                        ),\n",
    "                        title=dict(\n",
    "                            text=f'Mean Execution Time for Intersection in Different Contexts',\n",
    "                            \n",
    "                            font=dict(size=22)\n",
    "                            )\n",
    "                        )\n",
    "    \n",
    "\n",
    "   \n",
    "    fig.show()"
   ]
  },
  {
   "cell_type": "code",
   "execution_count": null,
   "metadata": {},
   "outputs": [
    {
     "ename": "NameError",
     "evalue": "name 'stats_df' is not defined",
     "output_type": "error",
     "traceback": [
      "\u001b[0;31m---------------------------------------------------------------------------\u001b[0m",
      "\u001b[0;31mNameError\u001b[0m                                 Traceback (most recent call last)",
      "Cell \u001b[0;32mIn[9], line 1\u001b[0m\n\u001b[0;32m----> 1\u001b[0m total_time_df \u001b[39m=\u001b[39m stats_df[[\u001b[39m'\u001b[39m\u001b[39mcontext\u001b[39m\u001b[39m'\u001b[39m, \u001b[39m'\u001b[39m\u001b[39mtotal_time\u001b[39m\u001b[39m'\u001b[39m, \u001b[39m'\u001b[39m\u001b[39msizes\u001b[39m\u001b[39m'\u001b[39m, \u001b[39m'\u001b[39m\u001b[39mbaseline\u001b[39m\u001b[39m'\u001b[39m, \u001b[39m'\u001b[39m\u001b[39mpredicate\u001b[39m\u001b[39m'\u001b[39m, \u001b[39m'\u001b[39m\u001b[39mdecomp\u001b[39m\u001b[39m'\u001b[39m]]\n\u001b[1;32m      2\u001b[0m plot_total_time_bars(total_time_df, is_predicate\u001b[39m=\u001b[39m\u001b[39mFalse\u001b[39;00m, size_cat_excl\u001b[39m=\u001b[39m[], log_scale\u001b[39m=\u001b[39m\u001b[39mFalse\u001b[39;00m) \u001b[39m#\u001b[39;00m\n",
      "\u001b[0;31mNameError\u001b[0m: name 'stats_df' is not defined"
     ]
    }
   ],
   "source": [
    "total_time_df = stats_df[['context', 'total_time', 'sizes', 'baseline', 'predicate', 'decomp']]\n",
    "plot_total_time_bars(total_time_df, is_predicate=False, size_cat_excl=[], log_scale=False) #"
   ]
  },
  {
   "cell_type": "code",
   "execution_count": null,
   "metadata": {},
   "outputs": [
    {
     "data": {
      "text/plain": [
       "context                    sizes        \n",
       "Fully Inside Other (TRUE)  Small/Large       0.404081\n",
       "                           Small/Medium      0.101020\n",
       "                           Small/Small       0.202041\n",
       "Overlap (FALSE)            Large/Large      18.183655\n",
       "                           Medium/Large      6.061218\n",
       "                           Medium/Medium     0.101020\n",
       "                           Small/Large       1.616325\n",
       "                           Small/Medium      3.232650\n",
       "                           Small/Small      37.781594\n",
       "Partial Overlap (TRUE)     Large/Large      26.265279\n",
       "                           Small/Large       0.404081\n",
       "                           Small/Medium      0.606122\n",
       "                           Small/Small       6.061218\n",
       "Name: dataset, dtype: float64"
      ]
     },
     "metadata": {},
     "output_type": "display_data"
    }
   ],
   "source": [
    "def get_percentage_cases(df, is_predicate=False):\n",
    "    df = df[(df['predicate'] == is_predicate) & (df['baseline'] == False)] #(df['sizes'].isin([\"Small/Small\", \"Medium/Medium\", \"Large/Large\"]))]\n",
    "    df = df.groupby(['context', 'sizes']).count()\n",
    "    return df, sum(df['dataset'])\n",
    "df, cnt = get_percentage_cases(stats_df)\n",
    "df = 100 * df / (cnt* 98.99/100)\n",
    "display(df['dataset'])"
   ]
  },
  {
   "attachments": {},
   "cell_type": "markdown",
   "metadata": {},
   "source": [
    "#### Chunk Unfolding Analyzation"
   ]
  },
  {
   "cell_type": "code",
   "execution_count": null,
   "metadata": {},
   "outputs": [],
   "source": [
    "chunk_unfolded_df = stats_df[['nbr_recieved_chks', 'nbr_total_chks','predicate','baseline', 'context', 'sizes']]\n",
    "chunk_unfolded_df[\"chk_fraction_unfolded\"] = chunk_unfolded_df[\"nbr_recieved_chks\"].div(chunk_unfolded_df.nbr_total_chks, axis=0) * 100"
   ]
  },
  {
   "cell_type": "code",
   "execution_count": null,
   "metadata": {},
   "outputs": [],
   "source": [
    "def plot_chunk_unfolded_frac(df, is_predicate=False, is_baseline=False):\n",
    "    df = df[df['baseline'] == False]\n",
    "    #df[\"chk_fraction_unfolded\"] = df[\"nbr_recieved_chks\"].div(df.nbr_total_chks, axis=0) * 100\n",
    "    #df = df[(df['predicate'] == is_predicate) & (df['sizes'].isin([\"Small/Small\", \"Medium/Medium\", \"Large/Large\"]))]\n",
    "    \n",
    "\n",
    "    df = df.groupby(['context', 'baseline', 'sizes']).mean()\n",
    "    df.reset_index(inplace=True)\n",
    "\n",
    "\n",
    "\n",
    "    intersection_format = \"Intersection\" if not is_predicate else \"IsIntersection\"\n",
    "\n",
    "    fig = px.bar(df, \n",
    "                       x=\"chk_fraction_unfolded\", \n",
    "                       y=\"context\", \n",
    "                       facet_row=\"sizes\", \n",
    "                       barmode='group',\n",
    "                       facet_col_spacing=0.1, \n",
    "                       title=f\"Fraction of Chunks Unfolded for {intersection_format}\",\n",
    "                       labels=dict(sizes=\"Geometry Sizes\", context=\"Context\", baseline=\"Baseline\", Stage=\"Stage: \"),\n",
    "                       facet_col_wrap=1,\n",
    "                       height=1000,\n",
    "                       width=1000,\n",
    "                       orientation=\"h\",\n",
    "                       text=\"chk_fraction_unfolded\",\n",
    "                       color_discrete_sequence=['rgb(255,183,180)']*len(df)\n",
    "                       )\n",
    "    \n",
    "    fig.update_annotations(font=dict(size=16))\n",
    "    fig.for_each_yaxis(lambda yaxis: yaxis.update(showticklabels=True))\n",
    "    fig.update_yaxes(showticklabels=True, visible=True,  tickfont=dict(size=16))\n",
    "    fig.update_xaxes(tickfont=dict(size=16))\n",
    "    fig.update_traces(texttemplate='%{text:.2f}%' , textposition='inside',textfont=dict(size=14))\n",
    "    fig.update_layout(barmode=\"relative\",\n",
    "                      title_x=0.5,\n",
    "                      width=1000, \n",
    "                      height=800, \n",
    "                      legend=dict(\n",
    "                            yanchor=\"top\",\n",
    "                            y=1,\n",
    "                            xanchor=\"left\",\n",
    "                            x=0.5,\n",
    "                            orientation=\"h\",\n",
    "                            font=dict(size=16)\n",
    "                        ),\n",
    "                        title=dict(\n",
    "                            text=f'Fraction of Chunks Unfolded for Intersection in Different Contexts and Geometry Sizes',\n",
    "                            x=0.5,\n",
    "                            font=dict(size=22)\n",
    "                            ),\n",
    "                        )\n",
    "\n",
    "    for axis in fig.layout:\n",
    "        if type(fig.layout[axis]) == objs.layout.XAxis:\n",
    "            fig.layout[axis].title.text = ''\n",
    "\n",
    "    for axis in fig.layout:\n",
    "        if type(fig.layout[axis]) == objs.layout.YAxis:\n",
    "            fig.layout[axis].title.text = '' \n",
    "\n",
    "    fig.for_each_annotation(lambda a: a.update(text=a.text.split(\"=\")[1].split(\"/\")[0]))\n",
    "    #fig.for_each_trace(lambda t: t.update(name=t.name.split(\"=\")[0]))\n",
    "    fig.add_annotation(\n",
    "    dict(\n",
    "        x=0.5,\n",
    "        y=-0.04,  # adjust as needed\n",
    "        showarrow=False,\n",
    "        text=\"Chunks Unfolded (%)\",\n",
    "        xref=\"paper\",\n",
    "        yref=\"paper\",\n",
    "        font=dict(size=20),\n",
    "        xanchor=\"center\", \n",
    "        yanchor=\"top\"\n",
    "    )\n",
    "    )\n",
    "\n",
    "    fig.add_annotation(\n",
    "    dict(\n",
    "        x=1.05,\n",
    "        y=0.62,  # adjust as needed\n",
    "        showarrow=False,\n",
    "        text=\"Geometry Size\",\n",
    "        xref=\"paper\",\n",
    "        yref=\"paper\",\n",
    "        textangle=90,\n",
    "        font=dict(size=20),\n",
    "        xanchor=\"center\", \n",
    "        yanchor=\"top\"\n",
    "    )\n",
    "    )\n",
    "\n",
    "    fig.add_annotation(\n",
    "    dict(\n",
    "        x=-0.35,  # adjust as needed\n",
    "        y=0.5,\n",
    "        showarrow=False,\n",
    "        text=\"Bounding Box Context\",\n",
    "        textangle=-90,\n",
    "        xref=\"paper\",\n",
    "        yref=\"paper\",\n",
    "        font=dict(size=20),\n",
    "        xanchor=\"center\",\n",
    "        yanchor=\"middle\"\n",
    "    ))\n",
    "   \n",
    "    fig.show()"
   ]
  },
  {
   "attachments": {},
   "cell_type": "markdown",
   "metadata": {},
   "source": [
    "## Results"
   ]
  },
  {
   "attachments": {},
   "cell_type": "markdown",
   "metadata": {},
   "source": [
    "#### Total time Analysis"
   ]
  },
  {
   "attachments": {},
   "cell_type": "markdown",
   "metadata": {},
   "source": [
    "#### (%) Unfolding of chunks"
   ]
  },
  {
   "cell_type": "code",
   "execution_count": null,
   "metadata": {},
   "outputs": [
    {
     "data": {
      "application/vnd.plotly.v1+json": {
       "config": {
        "plotlyServerURL": "https://plot.ly"
       },
       "data": [
        {
         "alignmentgroup": "True",
         "hovertemplate": "Geometry Sizes=Small/Small<br>chk_fraction_unfolded=%{text}<br>Context=%{y}<extra></extra>",
         "legendgroup": "",
         "marker": {
          "color": "rgb(255,183,180)",
          "pattern": {
           "shape": ""
          }
         },
         "name": "",
         "offsetgroup": "",
         "orientation": "h",
         "showlegend": false,
         "text": [
          100,
          74.21122994652407,
          93.01984126984127
         ],
         "textfont": {
          "size": 14
         },
         "textposition": "inside",
         "texttemplate": "%{text:.2f}%",
         "type": "bar",
         "x": [
          100,
          74.21122994652407,
          93.01984126984127
         ],
         "xaxis": "x3",
         "y": [
          "Fully Inside Other (TRUE)",
          "Overlap (FALSE)",
          "Partial Overlap (TRUE)"
         ],
         "yaxis": "y3"
        },
        {
         "alignmentgroup": "True",
         "hovertemplate": "Geometry Sizes=Large/Large<br>chk_fraction_unfolded=%{text}<br>Context=%{y}<extra></extra>",
         "legendgroup": "",
         "marker": {
          "color": "rgb(255,183,180)",
          "pattern": {
           "shape": ""
          }
         },
         "name": "",
         "offsetgroup": "",
         "orientation": "h",
         "showlegend": false,
         "text": [
          1.9773725092874028,
          19.24990607623728
         ],
         "textfont": {
          "size": 14
         },
         "textposition": "inside",
         "texttemplate": "%{text:.2f}%",
         "type": "bar",
         "x": [
          1.9773725092874028,
          19.24990607623728
         ],
         "xaxis": "x2",
         "y": [
          "Overlap (FALSE)",
          "Partial Overlap (TRUE)"
         ],
         "yaxis": "y2"
        },
        {
         "alignmentgroup": "True",
         "hovertemplate": "Geometry Sizes=Medium/Medium<br>chk_fraction_unfolded=%{text}<br>Context=%{y}<extra></extra>",
         "legendgroup": "",
         "marker": {
          "color": "rgb(255,183,180)",
          "pattern": {
           "shape": ""
          }
         },
         "name": "",
         "offsetgroup": "",
         "orientation": "h",
         "showlegend": false,
         "text": [
          50
         ],
         "textfont": {
          "size": 14
         },
         "textposition": "inside",
         "texttemplate": "%{text:.2f}%",
         "type": "bar",
         "x": [
          50
         ],
         "xaxis": "x",
         "y": [
          "Overlap (FALSE)"
         ],
         "yaxis": "y"
        }
       ],
       "layout": {
        "annotations": [
         {
          "font": {
           "size": 16
          },
          "showarrow": false,
          "text": "Medium",
          "textangle": 90,
          "x": 0.98,
          "xanchor": "left",
          "xref": "paper",
          "y": 0.15666666666666665,
          "yanchor": "middle",
          "yref": "paper"
         },
         {
          "font": {
           "size": 16
          },
          "showarrow": false,
          "text": "Large",
          "textangle": 90,
          "x": 0.98,
          "xanchor": "left",
          "xref": "paper",
          "y": 0.4999999999999999,
          "yanchor": "middle",
          "yref": "paper"
         },
         {
          "font": {
           "size": 16
          },
          "showarrow": false,
          "text": "Small",
          "textangle": 90,
          "x": 0.98,
          "xanchor": "left",
          "xref": "paper",
          "y": 0.8433333333333332,
          "yanchor": "middle",
          "yref": "paper"
         },
         {
          "font": {
           "size": 20
          },
          "showarrow": false,
          "text": "Chunks Unfolded (%)",
          "x": 0.5,
          "xanchor": "center",
          "xref": "paper",
          "y": -0.04,
          "yanchor": "top",
          "yref": "paper"
         },
         {
          "font": {
           "size": 20
          },
          "showarrow": false,
          "text": "Geometry Size",
          "textangle": 90,
          "x": 1.05,
          "xanchor": "center",
          "xref": "paper",
          "y": 0.62,
          "yanchor": "top",
          "yref": "paper"
         },
         {
          "font": {
           "size": 20
          },
          "showarrow": false,
          "text": "Bounding Box Context",
          "textangle": -90,
          "x": -0.35,
          "xanchor": "center",
          "xref": "paper",
          "y": 0.5,
          "yanchor": "middle",
          "yref": "paper"
         }
        ],
        "barmode": "relative",
        "height": 800,
        "legend": {
         "font": {
          "size": 16
         },
         "orientation": "h",
         "tracegroupgap": 0,
         "x": 0.5,
         "xanchor": "left",
         "y": 1,
         "yanchor": "top"
        },
        "template": {
         "data": {
          "bar": [
           {
            "error_x": {
             "color": "#2a3f5f"
            },
            "error_y": {
             "color": "#2a3f5f"
            },
            "marker": {
             "line": {
              "color": "#E5ECF6",
              "width": 0.5
             },
             "pattern": {
              "fillmode": "overlay",
              "size": 10,
              "solidity": 0.2
             }
            },
            "type": "bar"
           }
          ],
          "barpolar": [
           {
            "marker": {
             "line": {
              "color": "#E5ECF6",
              "width": 0.5
             },
             "pattern": {
              "fillmode": "overlay",
              "size": 10,
              "solidity": 0.2
             }
            },
            "type": "barpolar"
           }
          ],
          "carpet": [
           {
            "aaxis": {
             "endlinecolor": "#2a3f5f",
             "gridcolor": "white",
             "linecolor": "white",
             "minorgridcolor": "white",
             "startlinecolor": "#2a3f5f"
            },
            "baxis": {
             "endlinecolor": "#2a3f5f",
             "gridcolor": "white",
             "linecolor": "white",
             "minorgridcolor": "white",
             "startlinecolor": "#2a3f5f"
            },
            "type": "carpet"
           }
          ],
          "choropleth": [
           {
            "colorbar": {
             "outlinewidth": 0,
             "ticks": ""
            },
            "type": "choropleth"
           }
          ],
          "contour": [
           {
            "colorbar": {
             "outlinewidth": 0,
             "ticks": ""
            },
            "colorscale": [
             [
              0,
              "#0d0887"
             ],
             [
              0.1111111111111111,
              "#46039f"
             ],
             [
              0.2222222222222222,
              "#7201a8"
             ],
             [
              0.3333333333333333,
              "#9c179e"
             ],
             [
              0.4444444444444444,
              "#bd3786"
             ],
             [
              0.5555555555555556,
              "#d8576b"
             ],
             [
              0.6666666666666666,
              "#ed7953"
             ],
             [
              0.7777777777777778,
              "#fb9f3a"
             ],
             [
              0.8888888888888888,
              "#fdca26"
             ],
             [
              1,
              "#f0f921"
             ]
            ],
            "type": "contour"
           }
          ],
          "contourcarpet": [
           {
            "colorbar": {
             "outlinewidth": 0,
             "ticks": ""
            },
            "type": "contourcarpet"
           }
          ],
          "heatmap": [
           {
            "colorbar": {
             "outlinewidth": 0,
             "ticks": ""
            },
            "colorscale": [
             [
              0,
              "#0d0887"
             ],
             [
              0.1111111111111111,
              "#46039f"
             ],
             [
              0.2222222222222222,
              "#7201a8"
             ],
             [
              0.3333333333333333,
              "#9c179e"
             ],
             [
              0.4444444444444444,
              "#bd3786"
             ],
             [
              0.5555555555555556,
              "#d8576b"
             ],
             [
              0.6666666666666666,
              "#ed7953"
             ],
             [
              0.7777777777777778,
              "#fb9f3a"
             ],
             [
              0.8888888888888888,
              "#fdca26"
             ],
             [
              1,
              "#f0f921"
             ]
            ],
            "type": "heatmap"
           }
          ],
          "heatmapgl": [
           {
            "colorbar": {
             "outlinewidth": 0,
             "ticks": ""
            },
            "colorscale": [
             [
              0,
              "#0d0887"
             ],
             [
              0.1111111111111111,
              "#46039f"
             ],
             [
              0.2222222222222222,
              "#7201a8"
             ],
             [
              0.3333333333333333,
              "#9c179e"
             ],
             [
              0.4444444444444444,
              "#bd3786"
             ],
             [
              0.5555555555555556,
              "#d8576b"
             ],
             [
              0.6666666666666666,
              "#ed7953"
             ],
             [
              0.7777777777777778,
              "#fb9f3a"
             ],
             [
              0.8888888888888888,
              "#fdca26"
             ],
             [
              1,
              "#f0f921"
             ]
            ],
            "type": "heatmapgl"
           }
          ],
          "histogram": [
           {
            "marker": {
             "pattern": {
              "fillmode": "overlay",
              "size": 10,
              "solidity": 0.2
             }
            },
            "type": "histogram"
           }
          ],
          "histogram2d": [
           {
            "colorbar": {
             "outlinewidth": 0,
             "ticks": ""
            },
            "colorscale": [
             [
              0,
              "#0d0887"
             ],
             [
              0.1111111111111111,
              "#46039f"
             ],
             [
              0.2222222222222222,
              "#7201a8"
             ],
             [
              0.3333333333333333,
              "#9c179e"
             ],
             [
              0.4444444444444444,
              "#bd3786"
             ],
             [
              0.5555555555555556,
              "#d8576b"
             ],
             [
              0.6666666666666666,
              "#ed7953"
             ],
             [
              0.7777777777777778,
              "#fb9f3a"
             ],
             [
              0.8888888888888888,
              "#fdca26"
             ],
             [
              1,
              "#f0f921"
             ]
            ],
            "type": "histogram2d"
           }
          ],
          "histogram2dcontour": [
           {
            "colorbar": {
             "outlinewidth": 0,
             "ticks": ""
            },
            "colorscale": [
             [
              0,
              "#0d0887"
             ],
             [
              0.1111111111111111,
              "#46039f"
             ],
             [
              0.2222222222222222,
              "#7201a8"
             ],
             [
              0.3333333333333333,
              "#9c179e"
             ],
             [
              0.4444444444444444,
              "#bd3786"
             ],
             [
              0.5555555555555556,
              "#d8576b"
             ],
             [
              0.6666666666666666,
              "#ed7953"
             ],
             [
              0.7777777777777778,
              "#fb9f3a"
             ],
             [
              0.8888888888888888,
              "#fdca26"
             ],
             [
              1,
              "#f0f921"
             ]
            ],
            "type": "histogram2dcontour"
           }
          ],
          "mesh3d": [
           {
            "colorbar": {
             "outlinewidth": 0,
             "ticks": ""
            },
            "type": "mesh3d"
           }
          ],
          "parcoords": [
           {
            "line": {
             "colorbar": {
              "outlinewidth": 0,
              "ticks": ""
             }
            },
            "type": "parcoords"
           }
          ],
          "pie": [
           {
            "automargin": true,
            "type": "pie"
           }
          ],
          "scatter": [
           {
            "fillpattern": {
             "fillmode": "overlay",
             "size": 10,
             "solidity": 0.2
            },
            "type": "scatter"
           }
          ],
          "scatter3d": [
           {
            "line": {
             "colorbar": {
              "outlinewidth": 0,
              "ticks": ""
             }
            },
            "marker": {
             "colorbar": {
              "outlinewidth": 0,
              "ticks": ""
             }
            },
            "type": "scatter3d"
           }
          ],
          "scattercarpet": [
           {
            "marker": {
             "colorbar": {
              "outlinewidth": 0,
              "ticks": ""
             }
            },
            "type": "scattercarpet"
           }
          ],
          "scattergeo": [
           {
            "marker": {
             "colorbar": {
              "outlinewidth": 0,
              "ticks": ""
             }
            },
            "type": "scattergeo"
           }
          ],
          "scattergl": [
           {
            "marker": {
             "colorbar": {
              "outlinewidth": 0,
              "ticks": ""
             }
            },
            "type": "scattergl"
           }
          ],
          "scattermapbox": [
           {
            "marker": {
             "colorbar": {
              "outlinewidth": 0,
              "ticks": ""
             }
            },
            "type": "scattermapbox"
           }
          ],
          "scatterpolar": [
           {
            "marker": {
             "colorbar": {
              "outlinewidth": 0,
              "ticks": ""
             }
            },
            "type": "scatterpolar"
           }
          ],
          "scatterpolargl": [
           {
            "marker": {
             "colorbar": {
              "outlinewidth": 0,
              "ticks": ""
             }
            },
            "type": "scatterpolargl"
           }
          ],
          "scatterternary": [
           {
            "marker": {
             "colorbar": {
              "outlinewidth": 0,
              "ticks": ""
             }
            },
            "type": "scatterternary"
           }
          ],
          "surface": [
           {
            "colorbar": {
             "outlinewidth": 0,
             "ticks": ""
            },
            "colorscale": [
             [
              0,
              "#0d0887"
             ],
             [
              0.1111111111111111,
              "#46039f"
             ],
             [
              0.2222222222222222,
              "#7201a8"
             ],
             [
              0.3333333333333333,
              "#9c179e"
             ],
             [
              0.4444444444444444,
              "#bd3786"
             ],
             [
              0.5555555555555556,
              "#d8576b"
             ],
             [
              0.6666666666666666,
              "#ed7953"
             ],
             [
              0.7777777777777778,
              "#fb9f3a"
             ],
             [
              0.8888888888888888,
              "#fdca26"
             ],
             [
              1,
              "#f0f921"
             ]
            ],
            "type": "surface"
           }
          ],
          "table": [
           {
            "cells": {
             "fill": {
              "color": "#EBF0F8"
             },
             "line": {
              "color": "white"
             }
            },
            "header": {
             "fill": {
              "color": "#C8D4E3"
             },
             "line": {
              "color": "white"
             }
            },
            "type": "table"
           }
          ]
         },
         "layout": {
          "annotationdefaults": {
           "arrowcolor": "#2a3f5f",
           "arrowhead": 0,
           "arrowwidth": 1
          },
          "autotypenumbers": "strict",
          "coloraxis": {
           "colorbar": {
            "outlinewidth": 0,
            "ticks": ""
           }
          },
          "colorscale": {
           "diverging": [
            [
             0,
             "#8e0152"
            ],
            [
             0.1,
             "#c51b7d"
            ],
            [
             0.2,
             "#de77ae"
            ],
            [
             0.3,
             "#f1b6da"
            ],
            [
             0.4,
             "#fde0ef"
            ],
            [
             0.5,
             "#f7f7f7"
            ],
            [
             0.6,
             "#e6f5d0"
            ],
            [
             0.7,
             "#b8e186"
            ],
            [
             0.8,
             "#7fbc41"
            ],
            [
             0.9,
             "#4d9221"
            ],
            [
             1,
             "#276419"
            ]
           ],
           "sequential": [
            [
             0,
             "#0d0887"
            ],
            [
             0.1111111111111111,
             "#46039f"
            ],
            [
             0.2222222222222222,
             "#7201a8"
            ],
            [
             0.3333333333333333,
             "#9c179e"
            ],
            [
             0.4444444444444444,
             "#bd3786"
            ],
            [
             0.5555555555555556,
             "#d8576b"
            ],
            [
             0.6666666666666666,
             "#ed7953"
            ],
            [
             0.7777777777777778,
             "#fb9f3a"
            ],
            [
             0.8888888888888888,
             "#fdca26"
            ],
            [
             1,
             "#f0f921"
            ]
           ],
           "sequentialminus": [
            [
             0,
             "#0d0887"
            ],
            [
             0.1111111111111111,
             "#46039f"
            ],
            [
             0.2222222222222222,
             "#7201a8"
            ],
            [
             0.3333333333333333,
             "#9c179e"
            ],
            [
             0.4444444444444444,
             "#bd3786"
            ],
            [
             0.5555555555555556,
             "#d8576b"
            ],
            [
             0.6666666666666666,
             "#ed7953"
            ],
            [
             0.7777777777777778,
             "#fb9f3a"
            ],
            [
             0.8888888888888888,
             "#fdca26"
            ],
            [
             1,
             "#f0f921"
            ]
           ]
          },
          "colorway": [
           "#636efa",
           "#EF553B",
           "#00cc96",
           "#ab63fa",
           "#FFA15A",
           "#19d3f3",
           "#FF6692",
           "#B6E880",
           "#FF97FF",
           "#FECB52"
          ],
          "font": {
           "color": "#2a3f5f"
          },
          "geo": {
           "bgcolor": "white",
           "lakecolor": "white",
           "landcolor": "#E5ECF6",
           "showlakes": true,
           "showland": true,
           "subunitcolor": "white"
          },
          "hoverlabel": {
           "align": "left"
          },
          "hovermode": "closest",
          "mapbox": {
           "style": "light"
          },
          "paper_bgcolor": "white",
          "plot_bgcolor": "#E5ECF6",
          "polar": {
           "angularaxis": {
            "gridcolor": "white",
            "linecolor": "white",
            "ticks": ""
           },
           "bgcolor": "#E5ECF6",
           "radialaxis": {
            "gridcolor": "white",
            "linecolor": "white",
            "ticks": ""
           }
          },
          "scene": {
           "xaxis": {
            "backgroundcolor": "#E5ECF6",
            "gridcolor": "white",
            "gridwidth": 2,
            "linecolor": "white",
            "showbackground": true,
            "ticks": "",
            "zerolinecolor": "white"
           },
           "yaxis": {
            "backgroundcolor": "#E5ECF6",
            "gridcolor": "white",
            "gridwidth": 2,
            "linecolor": "white",
            "showbackground": true,
            "ticks": "",
            "zerolinecolor": "white"
           },
           "zaxis": {
            "backgroundcolor": "#E5ECF6",
            "gridcolor": "white",
            "gridwidth": 2,
            "linecolor": "white",
            "showbackground": true,
            "ticks": "",
            "zerolinecolor": "white"
           }
          },
          "shapedefaults": {
           "line": {
            "color": "#2a3f5f"
           }
          },
          "ternary": {
           "aaxis": {
            "gridcolor": "white",
            "linecolor": "white",
            "ticks": ""
           },
           "baxis": {
            "gridcolor": "white",
            "linecolor": "white",
            "ticks": ""
           },
           "bgcolor": "#E5ECF6",
           "caxis": {
            "gridcolor": "white",
            "linecolor": "white",
            "ticks": ""
           }
          },
          "title": {
           "x": 0.05
          },
          "xaxis": {
           "automargin": true,
           "gridcolor": "white",
           "linecolor": "white",
           "ticks": "",
           "title": {
            "standoff": 15
           },
           "zerolinecolor": "white",
           "zerolinewidth": 2
          },
          "yaxis": {
           "automargin": true,
           "gridcolor": "white",
           "linecolor": "white",
           "ticks": "",
           "title": {
            "standoff": 15
           },
           "zerolinecolor": "white",
           "zerolinewidth": 2
          }
         }
        },
        "title": {
         "font": {
          "size": 22
         },
         "text": "Fraction of Chunks Unfolded for Intersection in Different Contexts and Geometry Sizes",
         "x": 0.5
        },
        "width": 1000,
        "xaxis": {
         "anchor": "y",
         "domain": [
          0,
          0.98
         ],
         "tickfont": {
          "size": 16
         },
         "title": {
          "text": ""
         }
        },
        "xaxis2": {
         "anchor": "y2",
         "domain": [
          0,
          0.98
         ],
         "matches": "x",
         "showticklabels": false,
         "tickfont": {
          "size": 16
         },
         "title": {
          "text": ""
         }
        },
        "xaxis3": {
         "anchor": "y3",
         "domain": [
          0,
          0.98
         ],
         "matches": "x",
         "showticklabels": false,
         "tickfont": {
          "size": 16
         },
         "title": {
          "text": ""
         }
        },
        "yaxis": {
         "anchor": "x",
         "domain": [
          0,
          0.3133333333333333
         ],
         "showticklabels": true,
         "tickfont": {
          "size": 16
         },
         "title": {
          "text": ""
         },
         "visible": true
        },
        "yaxis2": {
         "anchor": "x2",
         "domain": [
          0.34333333333333327,
          0.6566666666666665
         ],
         "matches": "y",
         "showticklabels": true,
         "tickfont": {
          "size": 16
         },
         "title": {
          "text": ""
         },
         "visible": true
        },
        "yaxis3": {
         "anchor": "x3",
         "domain": [
          0.6866666666666665,
          0.9999999999999998
         ],
         "matches": "y",
         "showticklabels": true,
         "tickfont": {
          "size": 16
         },
         "title": {
          "text": ""
         },
         "visible": true
        }
       }
      }
     },
     "metadata": {},
     "output_type": "display_data"
    }
   ],
   "source": [
    "plot_chunk_unfolded_frac(chunk_unfolded_df, is_predicate=False, is_baseline=False)"
   ]
  },
  {
   "cell_type": "code",
   "execution_count": null,
   "metadata": {},
   "outputs": [
    {
     "name": "stdout",
     "output_type": "stream",
     "text": [
      "_______________________\\Lowest relative speed by context and size\n"
     ]
    },
    {
     "data": {
      "text/html": [
       "<div>\n",
       "<style scoped>\n",
       "    .dataframe tbody tr th:only-of-type {\n",
       "        vertical-align: middle;\n",
       "    }\n",
       "\n",
       "    .dataframe tbody tr th {\n",
       "        vertical-align: top;\n",
       "    }\n",
       "\n",
       "    .dataframe thead th {\n",
       "        text-align: right;\n",
       "    }\n",
       "</style>\n",
       "<table border=\"1\" class=\"dataframe\">\n",
       "  <thead>\n",
       "    <tr style=\"text-align: right;\">\n",
       "      <th></th>\n",
       "      <th>decomp</th>\n",
       "      <th>nbr_recieved_chks</th>\n",
       "      <th>nbr_total_chks</th>\n",
       "      <th>total_time</th>\n",
       "      <th>sizes</th>\n",
       "      <th>context</th>\n",
       "      <th>delta_size</th>\n",
       "      <th>predicate</th>\n",
       "      <th>dataset_idx</th>\n",
       "      <th>baseline</th>\n",
       "      <th>dataset</th>\n",
       "      <th>total_time_ratio</th>\n",
       "    </tr>\n",
       "  </thead>\n",
       "  <tbody>\n",
       "    <tr>\n",
       "      <th>191</th>\n",
       "      <td>0.000314</td>\n",
       "      <td>0.0</td>\n",
       "      <td>158.0</td>\n",
       "      <td>0.000375</td>\n",
       "      <td>Medium/Large</td>\n",
       "      <td>Overlap (FALSE)</td>\n",
       "      <td>15</td>\n",
       "      <td>False</td>\n",
       "      <td>95</td>\n",
       "      <td>False</td>\n",
       "      <td>world_data</td>\n",
       "      <td>0.036699</td>\n",
       "    </tr>\n",
       "    <tr>\n",
       "      <th>827</th>\n",
       "      <td>0.000084</td>\n",
       "      <td>2.0</td>\n",
       "      <td>2.0</td>\n",
       "      <td>0.000416</td>\n",
       "      <td>Small/Small</td>\n",
       "      <td>Partial Overlap (TRUE)</td>\n",
       "      <td>15</td>\n",
       "      <td>False</td>\n",
       "      <td>413</td>\n",
       "      <td>False</td>\n",
       "      <td>lund_data</td>\n",
       "      <td>0.039443</td>\n",
       "    </tr>\n",
       "    <tr>\n",
       "      <th>147</th>\n",
       "      <td>0.000278</td>\n",
       "      <td>0.0</td>\n",
       "      <td>149.0</td>\n",
       "      <td>0.000346</td>\n",
       "      <td>Large/Large</td>\n",
       "      <td>Overlap (FALSE)</td>\n",
       "      <td>15</td>\n",
       "      <td>False</td>\n",
       "      <td>73</td>\n",
       "      <td>False</td>\n",
       "      <td>world_data</td>\n",
       "      <td>0.039551</td>\n",
       "    </tr>\n",
       "    <tr>\n",
       "      <th>459</th>\n",
       "      <td>0.000539</td>\n",
       "      <td>8.0</td>\n",
       "      <td>64.0</td>\n",
       "      <td>0.003490</td>\n",
       "      <td>Large/Large</td>\n",
       "      <td>Partial Overlap (TRUE)</td>\n",
       "      <td>15</td>\n",
       "      <td>False</td>\n",
       "      <td>229</td>\n",
       "      <td>False</td>\n",
       "      <td>world_data</td>\n",
       "      <td>0.039945</td>\n",
       "    </tr>\n",
       "    <tr>\n",
       "      <th>267</th>\n",
       "      <td>0.000101</td>\n",
       "      <td>2.0</td>\n",
       "      <td>2.0</td>\n",
       "      <td>0.000266</td>\n",
       "      <td>Small/Small</td>\n",
       "      <td>Overlap (FALSE)</td>\n",
       "      <td>15</td>\n",
       "      <td>False</td>\n",
       "      <td>133</td>\n",
       "      <td>False</td>\n",
       "      <td>lund_data</td>\n",
       "      <td>0.040024</td>\n",
       "    </tr>\n",
       "    <tr>\n",
       "      <th>155</th>\n",
       "      <td>0.000692</td>\n",
       "      <td>4.0</td>\n",
       "      <td>217.0</td>\n",
       "      <td>0.001313</td>\n",
       "      <td>Small/Large</td>\n",
       "      <td>Overlap (FALSE)</td>\n",
       "      <td>15</td>\n",
       "      <td>False</td>\n",
       "      <td>77</td>\n",
       "      <td>False</td>\n",
       "      <td>lund_data</td>\n",
       "      <td>0.040968</td>\n",
       "    </tr>\n",
       "    <tr>\n",
       "      <th>43</th>\n",
       "      <td>0.000027</td>\n",
       "      <td>0.0</td>\n",
       "      <td>9.0</td>\n",
       "      <td>0.000121</td>\n",
       "      <td>Small/Medium</td>\n",
       "      <td>Overlap (FALSE)</td>\n",
       "      <td>15</td>\n",
       "      <td>False</td>\n",
       "      <td>21</td>\n",
       "      <td>False</td>\n",
       "      <td>lund_data</td>\n",
       "      <td>0.041000</td>\n",
       "    </tr>\n",
       "    <tr>\n",
       "      <th>131</th>\n",
       "      <td>0.000104</td>\n",
       "      <td>2.0</td>\n",
       "      <td>5.0</td>\n",
       "      <td>0.000594</td>\n",
       "      <td>Small/Medium</td>\n",
       "      <td>Partial Overlap (TRUE)</td>\n",
       "      <td>15</td>\n",
       "      <td>False</td>\n",
       "      <td>65</td>\n",
       "      <td>False</td>\n",
       "      <td>lund_data</td>\n",
       "      <td>0.057181</td>\n",
       "    </tr>\n",
       "    <tr>\n",
       "      <th>181</th>\n",
       "      <td>0.000260</td>\n",
       "      <td>2.0</td>\n",
       "      <td>34.0</td>\n",
       "      <td>0.000963</td>\n",
       "      <td>Small/Large</td>\n",
       "      <td>Partial Overlap (TRUE)</td>\n",
       "      <td>15</td>\n",
       "      <td>False</td>\n",
       "      <td>90</td>\n",
       "      <td>False</td>\n",
       "      <td>lund_data</td>\n",
       "      <td>0.190635</td>\n",
       "    </tr>\n",
       "    <tr>\n",
       "      <th>351</th>\n",
       "      <td>0.003197</td>\n",
       "      <td>6.0</td>\n",
       "      <td>217.0</td>\n",
       "      <td>0.004562</td>\n",
       "      <td>Small/Large</td>\n",
       "      <td>Fully Inside Other (TRUE)</td>\n",
       "      <td>15</td>\n",
       "      <td>False</td>\n",
       "      <td>175</td>\n",
       "      <td>False</td>\n",
       "      <td>lund_data</td>\n",
       "      <td>0.255045</td>\n",
       "    </tr>\n",
       "    <tr>\n",
       "      <th>687</th>\n",
       "      <td>0.000141</td>\n",
       "      <td>2.0</td>\n",
       "      <td>2.0</td>\n",
       "      <td>0.001130</td>\n",
       "      <td>Small/Small</td>\n",
       "      <td>Fully Inside Other (TRUE)</td>\n",
       "      <td>15</td>\n",
       "      <td>False</td>\n",
       "      <td>343</td>\n",
       "      <td>False</td>\n",
       "      <td>lund_data</td>\n",
       "      <td>0.361310</td>\n",
       "    </tr>\n",
       "    <tr>\n",
       "      <th>917</th>\n",
       "      <td>0.000234</td>\n",
       "      <td>4.0</td>\n",
       "      <td>6.0</td>\n",
       "      <td>0.001036</td>\n",
       "      <td>Small/Medium</td>\n",
       "      <td>Fully Inside Other (TRUE)</td>\n",
       "      <td>15</td>\n",
       "      <td>False</td>\n",
       "      <td>458</td>\n",
       "      <td>False</td>\n",
       "      <td>lund_data</td>\n",
       "      <td>0.938296</td>\n",
       "    </tr>\n",
       "    <tr>\n",
       "      <th>945</th>\n",
       "      <td>0.000261</td>\n",
       "      <td>4.0</td>\n",
       "      <td>8.0</td>\n",
       "      <td>0.000654</td>\n",
       "      <td>Medium/Medium</td>\n",
       "      <td>Overlap (FALSE)</td>\n",
       "      <td>15</td>\n",
       "      <td>False</td>\n",
       "      <td>472</td>\n",
       "      <td>False</td>\n",
       "      <td>lund_data</td>\n",
       "      <td>1.013879</td>\n",
       "    </tr>\n",
       "  </tbody>\n",
       "</table>\n",
       "</div>"
      ],
      "text/plain": [
       "       decomp  nbr_recieved_chks  nbr_total_chks  total_time          sizes   \n",
       "191  0.000314                0.0           158.0    0.000375   Medium/Large  \\\n",
       "827  0.000084                2.0             2.0    0.000416    Small/Small   \n",
       "147  0.000278                0.0           149.0    0.000346    Large/Large   \n",
       "459  0.000539                8.0            64.0    0.003490    Large/Large   \n",
       "267  0.000101                2.0             2.0    0.000266    Small/Small   \n",
       "155  0.000692                4.0           217.0    0.001313    Small/Large   \n",
       "43   0.000027                0.0             9.0    0.000121   Small/Medium   \n",
       "131  0.000104                2.0             5.0    0.000594   Small/Medium   \n",
       "181  0.000260                2.0            34.0    0.000963    Small/Large   \n",
       "351  0.003197                6.0           217.0    0.004562    Small/Large   \n",
       "687  0.000141                2.0             2.0    0.001130    Small/Small   \n",
       "917  0.000234                4.0             6.0    0.001036   Small/Medium   \n",
       "945  0.000261                4.0             8.0    0.000654  Medium/Medium   \n",
       "\n",
       "                       context  delta_size  predicate  dataset_idx  baseline   \n",
       "191            Overlap (FALSE)          15      False           95     False  \\\n",
       "827     Partial Overlap (TRUE)          15      False          413     False   \n",
       "147            Overlap (FALSE)          15      False           73     False   \n",
       "459     Partial Overlap (TRUE)          15      False          229     False   \n",
       "267            Overlap (FALSE)          15      False          133     False   \n",
       "155            Overlap (FALSE)          15      False           77     False   \n",
       "43             Overlap (FALSE)          15      False           21     False   \n",
       "131     Partial Overlap (TRUE)          15      False           65     False   \n",
       "181     Partial Overlap (TRUE)          15      False           90     False   \n",
       "351  Fully Inside Other (TRUE)          15      False          175     False   \n",
       "687  Fully Inside Other (TRUE)          15      False          343     False   \n",
       "917  Fully Inside Other (TRUE)          15      False          458     False   \n",
       "945            Overlap (FALSE)          15      False          472     False   \n",
       "\n",
       "        dataset  total_time_ratio  \n",
       "191  world_data          0.036699  \n",
       "827   lund_data          0.039443  \n",
       "147  world_data          0.039551  \n",
       "459  world_data          0.039945  \n",
       "267   lund_data          0.040024  \n",
       "155   lund_data          0.040968  \n",
       "43    lund_data          0.041000  \n",
       "131   lund_data          0.057181  \n",
       "181   lund_data          0.190635  \n",
       "351   lund_data          0.255045  \n",
       "687   lund_data          0.361310  \n",
       "917   lund_data          0.938296  \n",
       "945   lund_data          1.013879  "
      ]
     },
     "metadata": {},
     "output_type": "display_data"
    },
    {
     "name": "stdout",
     "output_type": "stream",
     "text": [
      "_______________________\n",
      "Highest relative speed by context and size\n"
     ]
    },
    {
     "data": {
      "text/html": [
       "<div>\n",
       "<style scoped>\n",
       "    .dataframe tbody tr th:only-of-type {\n",
       "        vertical-align: middle;\n",
       "    }\n",
       "\n",
       "    .dataframe tbody tr th {\n",
       "        vertical-align: top;\n",
       "    }\n",
       "\n",
       "    .dataframe thead th {\n",
       "        text-align: right;\n",
       "    }\n",
       "</style>\n",
       "<table border=\"1\" class=\"dataframe\">\n",
       "  <thead>\n",
       "    <tr style=\"text-align: right;\">\n",
       "      <th></th>\n",
       "      <th>decomp</th>\n",
       "      <th>nbr_recieved_chks</th>\n",
       "      <th>nbr_total_chks</th>\n",
       "      <th>total_time</th>\n",
       "      <th>sizes</th>\n",
       "      <th>context</th>\n",
       "      <th>delta_size</th>\n",
       "      <th>predicate</th>\n",
       "      <th>dataset_idx</th>\n",
       "      <th>baseline</th>\n",
       "      <th>dataset</th>\n",
       "      <th>total_time_ratio</th>\n",
       "    </tr>\n",
       "  </thead>\n",
       "  <tbody>\n",
       "    <tr>\n",
       "      <th>109</th>\n",
       "      <td>0.000347</td>\n",
       "      <td>0.0</td>\n",
       "      <td>163.0</td>\n",
       "      <td>0.000458</td>\n",
       "      <td>Large/Large</td>\n",
       "      <td>Overlap (FALSE)</td>\n",
       "      <td>15</td>\n",
       "      <td>False</td>\n",
       "      <td>54</td>\n",
       "      <td>False</td>\n",
       "      <td>world_data</td>\n",
       "      <td>1.975413</td>\n",
       "    </tr>\n",
       "    <tr>\n",
       "      <th>401</th>\n",
       "      <td>0.000772</td>\n",
       "      <td>9.0</td>\n",
       "      <td>163.0</td>\n",
       "      <td>0.005376</td>\n",
       "      <td>Large/Large</td>\n",
       "      <td>Partial Overlap (TRUE)</td>\n",
       "      <td>15</td>\n",
       "      <td>False</td>\n",
       "      <td>200</td>\n",
       "      <td>False</td>\n",
       "      <td>world_data</td>\n",
       "      <td>1.916752</td>\n",
       "    </tr>\n",
       "    <tr>\n",
       "      <th>417</th>\n",
       "      <td>0.000084</td>\n",
       "      <td>2.0</td>\n",
       "      <td>2.0</td>\n",
       "      <td>0.000245</td>\n",
       "      <td>Small/Small</td>\n",
       "      <td>Overlap (FALSE)</td>\n",
       "      <td>15</td>\n",
       "      <td>False</td>\n",
       "      <td>208</td>\n",
       "      <td>False</td>\n",
       "      <td>lund_data</td>\n",
       "      <td>1.738163</td>\n",
       "    </tr>\n",
       "    <tr>\n",
       "      <th>397</th>\n",
       "      <td>0.000273</td>\n",
       "      <td>0.0</td>\n",
       "      <td>156.0</td>\n",
       "      <td>0.000324</td>\n",
       "      <td>Medium/Large</td>\n",
       "      <td>Overlap (FALSE)</td>\n",
       "      <td>15</td>\n",
       "      <td>False</td>\n",
       "      <td>198</td>\n",
       "      <td>False</td>\n",
       "      <td>world_data</td>\n",
       "      <td>1.584707</td>\n",
       "    </tr>\n",
       "    <tr>\n",
       "      <th>453</th>\n",
       "      <td>0.000072</td>\n",
       "      <td>2.0</td>\n",
       "      <td>2.0</td>\n",
       "      <td>0.000479</td>\n",
       "      <td>Small/Small</td>\n",
       "      <td>Partial Overlap (TRUE)</td>\n",
       "      <td>15</td>\n",
       "      <td>False</td>\n",
       "      <td>226</td>\n",
       "      <td>False</td>\n",
       "      <td>lund_data</td>\n",
       "      <td>1.213381</td>\n",
       "    </tr>\n",
       "    <tr>\n",
       "      <th>833</th>\n",
       "      <td>0.000026</td>\n",
       "      <td>0.0</td>\n",
       "      <td>5.0</td>\n",
       "      <td>0.000136</td>\n",
       "      <td>Small/Medium</td>\n",
       "      <td>Overlap (FALSE)</td>\n",
       "      <td>15</td>\n",
       "      <td>False</td>\n",
       "      <td>416</td>\n",
       "      <td>False</td>\n",
       "      <td>lund_data</td>\n",
       "      <td>1.168480</td>\n",
       "    </tr>\n",
       "    <tr>\n",
       "      <th>873</th>\n",
       "      <td>0.000119</td>\n",
       "      <td>2.0</td>\n",
       "      <td>10.0</td>\n",
       "      <td>0.000277</td>\n",
       "      <td>Small/Large</td>\n",
       "      <td>Overlap (FALSE)</td>\n",
       "      <td>15</td>\n",
       "      <td>False</td>\n",
       "      <td>436</td>\n",
       "      <td>False</td>\n",
       "      <td>lund_data</td>\n",
       "      <td>1.123374</td>\n",
       "    </tr>\n",
       "    <tr>\n",
       "      <th>157</th>\n",
       "      <td>0.000268</td>\n",
       "      <td>3.0</td>\n",
       "      <td>14.0</td>\n",
       "      <td>0.001470</td>\n",
       "      <td>Small/Large</td>\n",
       "      <td>Partial Overlap (TRUE)</td>\n",
       "      <td>15</td>\n",
       "      <td>False</td>\n",
       "      <td>78</td>\n",
       "      <td>False</td>\n",
       "      <td>lund_data</td>\n",
       "      <td>1.046237</td>\n",
       "    </tr>\n",
       "    <tr>\n",
       "      <th>749</th>\n",
       "      <td>0.000280</td>\n",
       "      <td>4.0</td>\n",
       "      <td>8.0</td>\n",
       "      <td>0.001140</td>\n",
       "      <td>Small/Large</td>\n",
       "      <td>Fully Inside Other (TRUE)</td>\n",
       "      <td>15</td>\n",
       "      <td>False</td>\n",
       "      <td>374</td>\n",
       "      <td>False</td>\n",
       "      <td>lund_data</td>\n",
       "      <td>1.020638</td>\n",
       "    </tr>\n",
       "    <tr>\n",
       "      <th>945</th>\n",
       "      <td>0.000261</td>\n",
       "      <td>4.0</td>\n",
       "      <td>8.0</td>\n",
       "      <td>0.000654</td>\n",
       "      <td>Medium/Medium</td>\n",
       "      <td>Overlap (FALSE)</td>\n",
       "      <td>15</td>\n",
       "      <td>False</td>\n",
       "      <td>472</td>\n",
       "      <td>False</td>\n",
       "      <td>lund_data</td>\n",
       "      <td>1.013879</td>\n",
       "    </tr>\n",
       "    <tr>\n",
       "      <th>473</th>\n",
       "      <td>0.000278</td>\n",
       "      <td>3.0</td>\n",
       "      <td>5.0</td>\n",
       "      <td>0.001168</td>\n",
       "      <td>Small/Medium</td>\n",
       "      <td>Partial Overlap (TRUE)</td>\n",
       "      <td>15</td>\n",
       "      <td>False</td>\n",
       "      <td>236</td>\n",
       "      <td>False</td>\n",
       "      <td>lund_data</td>\n",
       "      <td>0.980144</td>\n",
       "    </tr>\n",
       "    <tr>\n",
       "      <th>917</th>\n",
       "      <td>0.000234</td>\n",
       "      <td>4.0</td>\n",
       "      <td>6.0</td>\n",
       "      <td>0.001036</td>\n",
       "      <td>Small/Medium</td>\n",
       "      <td>Fully Inside Other (TRUE)</td>\n",
       "      <td>15</td>\n",
       "      <td>False</td>\n",
       "      <td>458</td>\n",
       "      <td>False</td>\n",
       "      <td>lund_data</td>\n",
       "      <td>0.938296</td>\n",
       "    </tr>\n",
       "    <tr>\n",
       "      <th>361</th>\n",
       "      <td>0.000106</td>\n",
       "      <td>2.0</td>\n",
       "      <td>2.0</td>\n",
       "      <td>0.000990</td>\n",
       "      <td>Small/Small</td>\n",
       "      <td>Fully Inside Other (TRUE)</td>\n",
       "      <td>15</td>\n",
       "      <td>False</td>\n",
       "      <td>180</td>\n",
       "      <td>False</td>\n",
       "      <td>lund_data</td>\n",
       "      <td>0.809043</td>\n",
       "    </tr>\n",
       "  </tbody>\n",
       "</table>\n",
       "</div>"
      ],
      "text/plain": [
       "       decomp  nbr_recieved_chks  nbr_total_chks  total_time          sizes   \n",
       "109  0.000347                0.0           163.0    0.000458    Large/Large  \\\n",
       "401  0.000772                9.0           163.0    0.005376    Large/Large   \n",
       "417  0.000084                2.0             2.0    0.000245    Small/Small   \n",
       "397  0.000273                0.0           156.0    0.000324   Medium/Large   \n",
       "453  0.000072                2.0             2.0    0.000479    Small/Small   \n",
       "833  0.000026                0.0             5.0    0.000136   Small/Medium   \n",
       "873  0.000119                2.0            10.0    0.000277    Small/Large   \n",
       "157  0.000268                3.0            14.0    0.001470    Small/Large   \n",
       "749  0.000280                4.0             8.0    0.001140    Small/Large   \n",
       "945  0.000261                4.0             8.0    0.000654  Medium/Medium   \n",
       "473  0.000278                3.0             5.0    0.001168   Small/Medium   \n",
       "917  0.000234                4.0             6.0    0.001036   Small/Medium   \n",
       "361  0.000106                2.0             2.0    0.000990    Small/Small   \n",
       "\n",
       "                       context  delta_size  predicate  dataset_idx  baseline   \n",
       "109            Overlap (FALSE)          15      False           54     False  \\\n",
       "401     Partial Overlap (TRUE)          15      False          200     False   \n",
       "417            Overlap (FALSE)          15      False          208     False   \n",
       "397            Overlap (FALSE)          15      False          198     False   \n",
       "453     Partial Overlap (TRUE)          15      False          226     False   \n",
       "833            Overlap (FALSE)          15      False          416     False   \n",
       "873            Overlap (FALSE)          15      False          436     False   \n",
       "157     Partial Overlap (TRUE)          15      False           78     False   \n",
       "749  Fully Inside Other (TRUE)          15      False          374     False   \n",
       "945            Overlap (FALSE)          15      False          472     False   \n",
       "473     Partial Overlap (TRUE)          15      False          236     False   \n",
       "917  Fully Inside Other (TRUE)          15      False          458     False   \n",
       "361  Fully Inside Other (TRUE)          15      False          180     False   \n",
       "\n",
       "        dataset  total_time_ratio  \n",
       "109  world_data          1.975413  \n",
       "401  world_data          1.916752  \n",
       "417   lund_data          1.738163  \n",
       "397  world_data          1.584707  \n",
       "453   lund_data          1.213381  \n",
       "833   lund_data          1.168480  \n",
       "873   lund_data          1.123374  \n",
       "157   lund_data          1.046237  \n",
       "749   lund_data          1.020638  \n",
       "945   lund_data          1.013879  \n",
       "473   lund_data          0.980144  \n",
       "917   lund_data          0.938296  \n",
       "361   lund_data          0.809043  "
      ]
     },
     "metadata": {},
     "output_type": "display_data"
    }
   ],
   "source": [
    "def get_max_min_relative_speed(df):\n",
    "    def calculate_ratio(x):\n",
    "        base = x[x[\"baseline\"] == True]['total_time']\n",
    "        non_base = x[x[\"baseline\"] == False]['total_time']\n",
    "        if not base.empty and not non_base.empty:\n",
    "            val = non_base.iloc[0] / base.iloc[0]\n",
    "            return val\n",
    "        else:\n",
    "            return None\n",
    "\n",
    "    df = df[stats_df['predicate'] == False]\n",
    "    df_relative = df.groupby([\"dataset_idx\", \"dataset\"]).apply(calculate_ratio)\n",
    "\n",
    "    df = df[~df['baseline']]\n",
    "    df['total_time_ratio'] = df_relative.values\n",
    "    maxes = df.sort_values(by='total_time_ratio',ascending=False).groupby(['context','sizes']).head(1)\n",
    "    mins = df.sort_values(by='total_time_ratio',ascending=True).groupby(['context','sizes']).head(1)\n",
    "    return mins, maxes\n",
    "\n",
    "mins, maxes = get_max_min_relative_speed(stats_df)\n",
    "print(\"_______________________\\Lowest relative speed by context and size\")\n",
    "display(mins)\n",
    "print(\"_______________________\\nHighest relative speed by context and size\")\n",
    "\n",
    "display(maxes)\n"
   ]
  },
  {
   "cell_type": "code",
   "execution_count": null,
   "metadata": {},
   "outputs": [],
   "source": []
  }
 ],
 "metadata": {
  "kernelspec": {
   "display_name": "Python 3",
   "language": "python",
   "name": "python3"
  },
  "language_info": {
   "codemirror_mode": {
    "name": "ipython",
    "version": 3
   },
   "file_extension": ".py",
   "mimetype": "text/x-python",
   "name": "python",
   "nbconvert_exporter": "python",
   "pygments_lexer": "ipython3",
   "version": "3.11.1"
  },
  "orig_nbformat": 4,
  "vscode": {
   "interpreter": {
    "hash": "aee8b7b246df8f9039afb4144a1f6fd8d2ca17a180786b69acc140d282b71a49"
   }
  }
 },
 "nbformat": 4,
 "nbformat_minor": 2
}
