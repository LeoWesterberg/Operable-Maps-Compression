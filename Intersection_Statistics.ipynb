{
 "cells": [
  {
   "attachments": {},
   "cell_type": "markdown",
   "metadata": {},
   "source": [
    "#### Imports"
   ]
  },
  {
   "cell_type": "code",
   "execution_count": 1,
   "metadata": {},
   "outputs": [],
   "source": [
    "import numpy as np\n",
    "import shapely\n",
    "import bisect\n",
    "import shapely.wkt\n",
    "import matplotlib.pyplot as plt\n",
    "import math\n",
    "import geopandas as gpd\n",
    "import json\n",
    "import pandas as pd\n",
    "import seaborn as sns\n",
    "from enum import Enum\n",
    "import plotly.graph_objects as go\n",
    "from plotly.subplots import make_subplots\n",
    "import plotly.express as px\n",
    "\n",
    "import intersection.first_bin_search\n",
    "import intersection.chunk_bbox_intersection\n",
    "from bench_utils import parse_intersection_data \n",
    "common_bbox = intersection.chunk_bbox_intersection.common_bbox\n",
    "chunk_bbox_is_intersecting = intersection.chunk_bbox_intersection.is_intersecting\n",
    "chunk_bbox_intersection = intersection.chunk_bbox_intersection.intersection\n",
    "\n",
    "\n",
    "\n",
    "from intersection.plotting import *\n",
    "import algos.fpd_extended_lib.cfg as cfg\n",
    "from algos.alg_fpd_extended import FpdExtended\n",
    "\n",
    "\n",
    "pd.options.mode.chained_assignment = None  # default='warn'"
   ]
  },
  {
   "attachments": {},
   "cell_type": "markdown",
   "metadata": {},
   "source": [
    "#### Import data"
   ]
  },
  {
   "cell_type": "code",
   "execution_count": 450,
   "metadata": {},
   "outputs": [],
   "source": [
    "fpd = FpdExtended()\n",
    "\n",
    "# Geometries\n",
    "# manual_data, _ = parse_intersection_data(\"manual\")\n",
    "# special_cases, _ = parse_intersection_data(\"latest_export.json\", strip_precision=True)\n",
    "# world_data, world_data_stats = parse_intersection_data(\"world.json\",40, strip_precision=True)\n",
    "lund_data, lund_data_stats = parse_intersection_data(\"lund.json\")\n",
    "# sweden_data, sweden_data_stats = parse_intersection_data(\"sweden-places-a.json\",40)\n",
    "# new_york_data, new_york_data_stats = parse_intersection_data(\"new-york-natural.json\",40)\n",
    "# waterways_data, waterways_data_stats = parse_intersection_data(\"nord-est-waterways.json\",40)\n",
    "\n",
    "sweden_all_data, sweden_all_data_stats = parse_intersection_data(\"final/latest_export.pkl\")\n",
    "country_borders_data, country_borders_data_stats = parse_intersection_data(\"final/country_borders.pkl\")\n",
    "china_water_data, china_water_data_stats = parse_intersection_data(\"final/china_water_100k.pkl\")\n",
    "\n",
    "datasets = [\n",
    "    # (sweden_all_data, 13, \"Sweden All\"),\n",
    "    # (china_water_data, 13, \"China Water\"),\n",
    "    # (country_borders_data, 13, \"Country Borders\")\n",
    "    # (manual_data, 3, \"manual_data\"),\n",
    "    # (special_cases, 3, \"special_cases\"),\n",
    "    # (world_data, 15, \"world_data\"),\n",
    "    (lund_data, 3, \"lund_data\"),\n",
    "    # (sweden_data, 15, \"sweden_data\"),\n",
    "    # (new_york_data, 10, \"new_york_data\"),\n",
    "    # (waterways_data, 3, \"waterways\")\n",
    "]\n"
   ]
  },
  {
   "attachments": {},
   "cell_type": "markdown",
   "metadata": {},
   "source": [
    "#### Constants"
   ]
  },
  {
   "cell_type": "code",
   "execution_count": 31,
   "metadata": {},
   "outputs": [],
   "source": [
    "# Number of total iterations = NBR_ITER * N * number_of_datasets\n",
    "NBR_ITER = -1 # Number of iterations for each dataset\n",
    "N = 1 # Number of times to recalculate each geometry for reliable mean value\n",
    "K = 5000\n",
    "\n",
    "# Max DELTA_SIZE_VALUE in MAX_NUM_DELTAS Analysis\n",
    "MAX_DELTA_SIZE = 100\n",
    "\n",
    "#Geometry classification sizes\n",
    "MEDIUM_THRESHOLD = 50\n",
    "LARGE_THRESHOLD = 100\n",
    "\n",
    "\n",
    "SAVE_DFS = True\n",
    "USE_EXISTING_DF = True"
   ]
  },
  {
   "attachments": {},
   "cell_type": "markdown",
   "metadata": {},
   "source": [
    "## Functions Section"
   ]
  },
  {
   "attachments": {},
   "cell_type": "markdown",
   "metadata": {},
   "source": [
    "#### Config Setter Functions"
   ]
  },
  {
   "cell_type": "code",
   "execution_count": 4,
   "metadata": {},
   "outputs": [],
   "source": [
    "def set_max_num_delta(val):\n",
    "        cfg.MAX_NUM_DELTAS = val\n",
    "        cfg.D_CNT_SIZE = cfg.required_bits(val)\n",
    "\n",
    "def act_deact_baseline(activate=True):\n",
    "        cfg.BASELINE_ON = activate\n",
    "        cfg.DISABLE_OPTIMIZED_INTERSECTION = False if not activate else True\n",
    "        cfg.DISABLE_OPTIMIZED_ADD_VERTEX = False if not activate else True\n",
    "        cfg.DISABLE_OPTIMIZED_BOUNDING_BOX = False if not activate else True"
   ]
  },
  {
   "attachments": {},
   "cell_type": "markdown",
   "metadata": {},
   "source": [
    "#### Stats Collector Functions"
   ]
  },
  {
   "cell_type": "code",
   "execution_count": 5,
   "metadata": {},
   "outputs": [],
   "source": [
    "def get_size_category(size):\n",
    "    if size < LARGE_THRESHOLD and size >= MEDIUM_THRESHOLD:\n",
    "            return \"Medium\", 1\n",
    "    elif size >= LARGE_THRESHOLD:\n",
    "         return \"Large\", 2\n",
    "    else:\n",
    "         return \"Small\", 0\n",
    "    \n",
    "def get_intersection_category(size1, size2):\n",
    "    size1_cat, type1 = get_size_category(size1)\n",
    "    size2_cat, type2 = get_size_category(size2)\n",
    "\n",
    "    if type1 <= type2:\n",
    "        return size1_cat + \"/\" + size2_cat\n",
    "    return size2_cat + \"/\" + size1_cat\n",
    "\n",
    "\n",
    "def get_context_category(g1, g2, bins=None):\n",
    "    if bins == None:\n",
    "        _, b1_fpde = fpd.compress(g1)\n",
    "        _, b2_fpde = fpd.compress(g2) \n",
    "    else:\n",
    "        b1_fpde, b2_fpde = bins\n",
    "\n",
    "    bbox = common_bbox((b1_fpde, b2_fpde))\n",
    "    intersects = shapely.intersects(g1, g2)\n",
    "    contains = shapely.contains(g1, g2) or shapely.contains(g2, g1)\n",
    "    if not bbox:\n",
    "        return \"No Overlap (FALSE)\"\n",
    "    elif not intersects:\n",
    "        return \"Overlap (FALSE)\"\n",
    "    elif not contains:\n",
    "        return \"Partial Overlap (TRUE)\"\n",
    "    else:\n",
    "        return \"Fully Inside Other (TRUE)\"\n",
    "\n",
    "def get_category_stat(g1, g2):\n",
    "        s1, s2 = (shapely.get_num_coordinates(g1), shapely.get_num_coordinates(g2))\n",
    "        size_category = get_intersection_category(s1, s2)\n",
    "        context_category = get_context_category(g1, g2)\n",
    "        return [size_category, context_category]\n",
    "\n",
    "\n",
    "#For taking mean of all stats, not just total time\n",
    "def get_time_stat(bins, predicate=False):\n",
    "    alg = chunk_bbox_is_intersecting if predicate else chunk_bbox_intersection\n",
    "    # 'decomp', 'nbr_recieved_chks', 'nbr_total_chks', 'total_time'\n",
    "    mean_stat = [0, 0, 0, 0]\n",
    "    for _ in range(N):\n",
    "        stat, _ = alg(bins, get_stats=True)\n",
    "        mean_stat = [sum(x) for x in zip(mean_stat, stat)]\n",
    "    \n",
    "    return [num / N for num in mean_stat]\n"
   ]
  },
  {
   "attachments": {},
   "cell_type": "markdown",
   "metadata": {},
   "source": [
    "#### Dataset Evaluation"
   ]
  },
  {
   "cell_type": "code",
   "execution_count": 6,
   "metadata": {},
   "outputs": [],
   "source": [
    "def evaluate_dataset(stats_df, delta_size=None, not_predicate=False, add_size=False, dataset_name=\"\", args=None):\n",
    "        idx, g1, g2 = args\n",
    "        if delta_size != None:\n",
    "            set_max_num_delta(delta_size)\n",
    "        bins = (fpd.compress(g1)[1], fpd.compress(g2)[1])\n",
    "\n",
    "        for is_predicate in [False] if not_predicate else [True, False]:\n",
    "            stats = []\n",
    "            stats.extend(get_time_stat(bins=bins, predicate=is_predicate))\n",
    "            stats.extend(get_category_stat(g1, g2))\n",
    "            stats.append(delta_size if delta_size != None else cfg.MAX_NUM_DELTAS)\n",
    "            stats.append(is_predicate)\n",
    "            stats.append(idx)\n",
    "            stats.append(cfg.BASELINE_ON)\n",
    "            if add_size:\n",
    "                stats.append(len(bins[0]) + len(bins[1]))\n",
    "            stats.append(dataset_name)\n",
    "            stats_df.loc[len(stats_df)] = stats"
   ]
  },
  {
   "attachments": {},
   "cell_type": "markdown",
   "metadata": {},
   "source": [
    "# Statistics Visualization"
   ]
  },
  {
   "attachments": {},
   "cell_type": "markdown",
   "metadata": {},
   "source": [
    "#### Best MAX_NUM_DELTAS per Dataset Analysis"
   ]
  },
  {
   "cell_type": "code",
   "execution_count": 641,
   "metadata": {},
   "outputs": [],
   "source": [
    "from tqdm import tqdm\n",
    "\n",
    "if not USE_EXISTING_DF:\n",
    "    #For baseline\n",
    "    max_deltas_dfs = []\n",
    "    for dataset in datasets:\n",
    "        max_deltas_df = pd.DataFrame(columns=['decomp', 'nbr_recieved_chks', 'nbr_total_chks', 'total_time', \"sizes\", \"context\", \"delta_size\", \"predicate\", \"dataset_idx\", \"baseline\", \"sum_size\", \"dataset\"])\n",
    "\n",
    "        dataset, _, dataset_name = dataset\n",
    "        np.random.seed(2021)\n",
    "        indicies = np.random.choice(len(dataset), size=min(K, len(dataset))) \n",
    "        dataset = np.array(dataset)[indicies] \n",
    "        for idx, (g1, g2) in enumerate(tqdm(dataset)):\n",
    "\n",
    "            if g1.geom_type == \"Point\" or g2.geom_type == \"Point\":\n",
    "                continue\n",
    "            \n",
    "            act_deact_baseline(activate=False)        \n",
    "            for max_delta_size in range(0,MAX_DELTA_SIZE):\n",
    "                evaluate_dataset(stats_df=max_deltas_df, delta_size=max_delta_size, not_predicate=True, add_size=True, dataset_name=dataset_name, args=(idx, g1, g2)) \n",
    "\n",
    "            act_deact_baseline(activate=True)        \n",
    "            evaluate_dataset(stats_df=max_deltas_df, delta_size=10000000, not_predicate=True, add_size=True, dataset_name=dataset_name, args=(idx, g1, g2)) \n",
    "        \n",
    "        max_deltas_df.to_csv(f'max_deltas_{dataset_name}.csv', index=False)\n",
    "        max_deltas_dfs.append(max_deltas_df)\n",
    "    max_deltas_df = pd.concat(max_deltas_dfs)\n",
    "else:\n",
    "    country_max_deltas_df = pd.read_csv('max_deltas_Country Borders2.csv')\n",
    "    country_max_deltas_df['delta_size'] = country_max_deltas_df['delta_size'].replace(100000, 10000000)\n",
    "    china_max_deltas_df = pd.read_csv('max_deltas_China Water2.csv')\n",
    "    sweden_max_deltas_df = pd.read_csv('max_deltas_Sweden All2.csv')\n",
    "    lund_max_deltas_df = pd.read_csv('max_deltas_lund_data2.csv')\n",
    "\n",
    "    max_deltas_df = pd.concat([china_max_deltas_df, \n",
    "                               sweden_max_deltas_df, \n",
    "                               lund_max_deltas_df, \n",
    "                               country_max_deltas_df\n",
    "                               ])\n",
    "\n",
    "\n"
   ]
  },
  {
   "cell_type": "code",
   "execution_count": 642,
   "metadata": {},
   "outputs": [],
   "source": [
    "max_deltas_filt_df = max_deltas_df[['total_time', 'sum_size', \"sizes\", \"delta_size\", \"predicate\", \"baseline\"]]"
   ]
  },
  {
   "attachments": {},
   "cell_type": "markdown",
   "metadata": {},
   "source": [
    "### Helper"
   ]
  },
  {
   "cell_type": "code",
   "execution_count": 643,
   "metadata": {},
   "outputs": [],
   "source": [
    "\n",
    "import plotly.graph_objs as objs\n",
    "\n",
    "def make_general_facet_title(fig, x_title, y_title, secondary=None, barplot=False, hbarplot=False):\n",
    "    #Remove current axis titles\n",
    "    for axis in fig.layout:\n",
    "        if type(fig.layout[axis]) == objs.layout.XAxis:\n",
    "            fig.layout[axis].title.text = ''\n",
    "\n",
    "    for axis in fig.layout:\n",
    "        if type(fig.layout[axis]) == objs.layout.YAxis:\n",
    "            fig.layout[axis].title.text = '' \n",
    "\n",
    "    fig.add_annotation(\n",
    "    dict(\n",
    "        x=0.48 if not barplot else 0.5,\n",
    "        y=-0.04 if not barplot else -0.17,  # adjust as needed\n",
    "        showarrow=False,\n",
    "        text=x_title,\n",
    "        xref=\"paper\",\n",
    "        yref=\"paper\",\n",
    "        font=dict(size=20),\n",
    "        xanchor=\"center\", \n",
    "        yanchor=\"top\"\n",
    "    )\n",
    "    )\n",
    "\n",
    "    if secondary != None:\n",
    "        fig.add_annotation(\n",
    "        dict(\n",
    "            x=1.01,  # adjust as needed\n",
    "            y=0.5,\n",
    "            showarrow=False,\n",
    "            text=secondary,\n",
    "            textangle=-90,  # to rotate the text for the vertical y-axis\n",
    "            xref=\"paper\",\n",
    "            yref=\"paper\",\n",
    "            font=dict(size=20),\n",
    "            xanchor=\"center\",\n",
    "            yanchor=\"middle\"\n",
    "        )\n",
    "    )\n",
    "\n",
    "    fig.add_annotation(\n",
    "    dict(\n",
    "        x=-0.07 if not barplot else -0.07,  # adjust as needed\n",
    "        y=0.5,\n",
    "        showarrow=False,\n",
    "        text=y_title,\n",
    "        textangle=-90,\n",
    "        xref=\"paper\",\n",
    "        yref=\"paper\",\n",
    "        font=dict(size=20),\n",
    "        xanchor=\"center\",\n",
    "        yanchor=\"middle\"\n",
    "    )\n",
    ")"
   ]
  },
  {
   "cell_type": "code",
   "execution_count": 652,
   "metadata": {},
   "outputs": [],
   "source": [
    "def plot_max_delta_size_speed(df, is_predicate=False, no_mixed=False, relative=False):\n",
    "    if no_mixed:\n",
    "        df = df[df['sizes'].isin([\"Small/Small\", \"Medium/Medium\", \"Large/Large\"])]\n",
    "    specs_element = [{\"secondary_y\": True}] if no_mixed else [{\"secondary_y\": True}, {\"secondary_y\": True}]\n",
    "\n",
    "    df = df[df['predicate'] == is_predicate]\n",
    "    df = df.groupby(['delta_size', 'sizes', 'baseline']).mean()\n",
    "    display(df)\n",
    "    df.reset_index(inplace=True)\n",
    "    \n",
    "    sizes = dict(zip(list(df.sizes.unique()), range(len(df.sizes.unique()))))\n",
    "\n",
    "    fig = make_subplots(rows=3, cols=1 if no_mixed else 2, \n",
    "                        subplot_titles=(list(map(lambda x: \"Geometry Sizes=\" + x.split('/')[0], sizes.keys()))), \n",
    "                        horizontal_spacing=0.08, \n",
    "                        vertical_spacing=0.07, \n",
    "                        #x_title=\"Max Chunk Size\",  y_title=\"Mean Execution Time (s)\", \n",
    "                        specs=[specs_element,\n",
    "                              specs_element,\n",
    "                              specs_element])\n",
    "    \n",
    "    #For not showing the same legend twice\n",
    "    legend_showed = False\n",
    "\n",
    "    for size in sizes.keys():\n",
    "        curr_context_df = df[(df['sizes'] == size)]\n",
    "\n",
    "        for is_baseline in [False] if relative else [True, False]:\n",
    "\n",
    "            line = dict(color='blue' if is_baseline else 'red', dash='dash' if is_baseline else None)\n",
    "\n",
    "            curr_df = curr_context_df[curr_context_df['baseline'] == is_baseline]\n",
    "            baseline_formatting = \"FPDE\" if not is_baseline else \"Baseline\"\n",
    "\n",
    "            if relative:\n",
    "                baseline_value = curr_context_df[(curr_context_df['baseline'] == True) & (curr_context_df['delta_size'] == 10000000)]\n",
    "                curr_df['total_time'] = curr_df['total_time'].divide(baseline_value.total_time.values[0], axis=0)\n",
    "                \n",
    "\n",
    "            curr_df[\"total_time\"] = curr_df.sort_values(by='delta_size')['total_time'].rolling(window=3, min_periods=1).mean()\n",
    "\n",
    "            fig.add_trace(go.Scatter(x=curr_df.delta_size.values, y= curr_df.total_time.values,\n",
    "                                    mode='lines',\n",
    "                                    line=line,\n",
    "                                    showlegend=not legend_showed,\n",
    "                                    name=f\"{baseline_formatting}\"),col=sizes[size] // 3 + 1 if no_mixed else 1, row=sizes[size] % 3 + 1,\n",
    "                                    secondary_y=False)\n",
    "            \n",
    "            if not is_baseline:\n",
    "                fig.add_trace(go.Scatter(x=curr_df.delta_size.values, y=curr_df.sum_size.values,\n",
    "                                        mode='lines',\n",
    "                                        line=dict(color='green', dash='dash'),\n",
    "                                        showlegend=not legend_showed,\n",
    "                                        name=f\"Average size (bits)\"),col=sizes[size] // 3 + 1 if no_mixed else 1, row=sizes[size] % 3 + 1,\n",
    "                                        secondary_y=True)\n",
    "                legend_showed = True\n",
    "\n",
    "                mix_delta_size = curr_df.sort_values(by='total_time').delta_size.values[0]\n",
    "\n",
    "                fig.add_vrect(x0=mix_delta_size - 1, x1=mix_delta_size + 1, col=sizes[size] // 3 + 1 if no_mixed else 1, row=sizes[size] % 3 + 1,\n",
    "                annotation_text=f\"Min={mix_delta_size}\", annotation_position=\"inside\",\n",
    "                fillcolor=\"green\", opacity=0.25, line_width=0, annotation = dict(textangle=-90, font=dict(size=16)))\n",
    "    \n",
    "    #For changing facet size\n",
    "    # for annotation in fig['layout']['annotations']:\n",
    "    #     annotation['font']['size'] = 18  # Set your desired font size here\n",
    "\n",
    "    intersection_format = \"Intersection\" if not is_predicate else \"IsIntersection\"\n",
    "    baseline_format = \"\" if not is_baseline else \"(Baseline)\"\n",
    "    fig.update_layout(\n",
    "                      title_x=0.5,\n",
    "                      width=1000, \n",
    "                      height=1000, \n",
    "                      legend=dict(\n",
    "                            yanchor=\"top\",\n",
    "                            y=-0.037,\n",
    "                            xanchor=\"left\",\n",
    "                            x=0.7,\n",
    "                            orientation=\"h\",\n",
    "                            font=dict(size=15),\n",
    "                        ),\n",
    "                        title=dict(\n",
    "                            text=f'Relative Execution Time for {intersection_format} by Max Chunk Size {baseline_format}',\n",
    "                            x=0.5,\n",
    "                            font=dict(size=22)\n",
    "                            )\n",
    "                        )\n",
    "\n",
    "    fig.update_annotations(font=dict(size=16)) \n",
    "    fig.update_annotations(font=dict(size=16))\n",
    "    fig.update_yaxes(type=\"log\", tickfont=dict(size=16))\n",
    "\n",
    "    fig.update_xaxes(tickfont=dict(size=16))\n",
    "\n",
    "    make_general_facet_title(fig, \"Max Chunk Size\", \"Relative Mean Execution Time (%)\", secondary=\"Mean Size (bits)\")\n",
    "   \n",
    "\n",
    "    display(max_deltas_filt_df)\n",
    "    fig.show()\n",
    "\n"
   ]
  },
  {
   "attachments": {},
   "cell_type": "markdown",
   "metadata": {},
   "source": []
  },
  {
   "cell_type": "code",
   "execution_count": 653,
   "metadata": {},
   "outputs": [
    {
     "data": {
      "text/html": [
       "<div>\n",
       "<style scoped>\n",
       "    .dataframe tbody tr th:only-of-type {\n",
       "        vertical-align: middle;\n",
       "    }\n",
       "\n",
       "    .dataframe tbody tr th {\n",
       "        vertical-align: top;\n",
       "    }\n",
       "\n",
       "    .dataframe thead th {\n",
       "        text-align: right;\n",
       "    }\n",
       "</style>\n",
       "<table border=\"1\" class=\"dataframe\">\n",
       "  <thead>\n",
       "    <tr style=\"text-align: right;\">\n",
       "      <th></th>\n",
       "      <th>total_time</th>\n",
       "      <th>sum_size</th>\n",
       "      <th>sizes</th>\n",
       "      <th>delta_size</th>\n",
       "      <th>predicate</th>\n",
       "      <th>baseline</th>\n",
       "    </tr>\n",
       "  </thead>\n",
       "  <tbody>\n",
       "    <tr>\n",
       "      <th>101</th>\n",
       "      <td>0.000985</td>\n",
       "      <td>1026</td>\n",
       "      <td>Small/Medium</td>\n",
       "      <td>10000000</td>\n",
       "      <td>False</td>\n",
       "      <td>True</td>\n",
       "    </tr>\n",
       "    <tr>\n",
       "      <th>203</th>\n",
       "      <td>0.000244</td>\n",
       "      <td>141</td>\n",
       "      <td>Small/Small</td>\n",
       "      <td>10000000</td>\n",
       "      <td>False</td>\n",
       "      <td>True</td>\n",
       "    </tr>\n",
       "    <tr>\n",
       "      <th>305</th>\n",
       "      <td>0.002876</td>\n",
       "      <td>2947</td>\n",
       "      <td>Large/Large</td>\n",
       "      <td>10000000</td>\n",
       "      <td>False</td>\n",
       "      <td>True</td>\n",
       "    </tr>\n",
       "    <tr>\n",
       "      <th>407</th>\n",
       "      <td>0.000322</td>\n",
       "      <td>373</td>\n",
       "      <td>Small/Small</td>\n",
       "      <td>10000000</td>\n",
       "      <td>False</td>\n",
       "      <td>True</td>\n",
       "    </tr>\n",
       "    <tr>\n",
       "      <th>509</th>\n",
       "      <td>0.001261</td>\n",
       "      <td>2495</td>\n",
       "      <td>Large/Large</td>\n",
       "      <td>10000000</td>\n",
       "      <td>False</td>\n",
       "      <td>True</td>\n",
       "    </tr>\n",
       "    <tr>\n",
       "      <th>...</th>\n",
       "      <td>...</td>\n",
       "      <td>...</td>\n",
       "      <td>...</td>\n",
       "      <td>...</td>\n",
       "      <td>...</td>\n",
       "      <td>...</td>\n",
       "    </tr>\n",
       "    <tr>\n",
       "      <th>509591</th>\n",
       "      <td>0.000492</td>\n",
       "      <td>184</td>\n",
       "      <td>Small/Small</td>\n",
       "      <td>10000000</td>\n",
       "      <td>False</td>\n",
       "      <td>True</td>\n",
       "    </tr>\n",
       "    <tr>\n",
       "      <th>509693</th>\n",
       "      <td>0.000927</td>\n",
       "      <td>180</td>\n",
       "      <td>Small/Small</td>\n",
       "      <td>10000000</td>\n",
       "      <td>False</td>\n",
       "      <td>True</td>\n",
       "    </tr>\n",
       "    <tr>\n",
       "      <th>509795</th>\n",
       "      <td>0.000642</td>\n",
       "      <td>582</td>\n",
       "      <td>Small/Small</td>\n",
       "      <td>10000000</td>\n",
       "      <td>False</td>\n",
       "      <td>True</td>\n",
       "    </tr>\n",
       "    <tr>\n",
       "      <th>509897</th>\n",
       "      <td>0.000562</td>\n",
       "      <td>232</td>\n",
       "      <td>Small/Small</td>\n",
       "      <td>10000000</td>\n",
       "      <td>False</td>\n",
       "      <td>True</td>\n",
       "    </tr>\n",
       "    <tr>\n",
       "      <th>509999</th>\n",
       "      <td>0.000591</td>\n",
       "      <td>274</td>\n",
       "      <td>Small/Small</td>\n",
       "      <td>10000000</td>\n",
       "      <td>False</td>\n",
       "      <td>True</td>\n",
       "    </tr>\n",
       "  </tbody>\n",
       "</table>\n",
       "<p>14601 rows × 6 columns</p>\n",
       "</div>"
      ],
      "text/plain": [
       "        total_time  sum_size         sizes  delta_size  predicate  baseline\n",
       "101       0.000985      1026  Small/Medium    10000000      False      True\n",
       "203       0.000244       141   Small/Small    10000000      False      True\n",
       "305       0.002876      2947   Large/Large    10000000      False      True\n",
       "407       0.000322       373   Small/Small    10000000      False      True\n",
       "509       0.001261      2495   Large/Large    10000000      False      True\n",
       "...            ...       ...           ...         ...        ...       ...\n",
       "509591    0.000492       184   Small/Small    10000000      False      True\n",
       "509693    0.000927       180   Small/Small    10000000      False      True\n",
       "509795    0.000642       582   Small/Small    10000000      False      True\n",
       "509897    0.000562       232   Small/Small    10000000      False      True\n",
       "509999    0.000591       274   Small/Small    10000000      False      True\n",
       "\n",
       "[14601 rows x 6 columns]"
      ]
     },
     "metadata": {},
     "output_type": "display_data"
    },
    {
     "data": {
      "text/html": [
       "<div>\n",
       "<style scoped>\n",
       "    .dataframe tbody tr th:only-of-type {\n",
       "        vertical-align: middle;\n",
       "    }\n",
       "\n",
       "    .dataframe tbody tr th {\n",
       "        vertical-align: top;\n",
       "    }\n",
       "\n",
       "    .dataframe thead th {\n",
       "        text-align: right;\n",
       "    }\n",
       "</style>\n",
       "<table border=\"1\" class=\"dataframe\">\n",
       "  <thead>\n",
       "    <tr style=\"text-align: right;\">\n",
       "      <th></th>\n",
       "      <th></th>\n",
       "      <th></th>\n",
       "      <th>total_time</th>\n",
       "      <th>sum_size</th>\n",
       "      <th>predicate</th>\n",
       "    </tr>\n",
       "    <tr>\n",
       "      <th>delta_size</th>\n",
       "      <th>sizes</th>\n",
       "      <th>baseline</th>\n",
       "      <th></th>\n",
       "      <th></th>\n",
       "      <th></th>\n",
       "    </tr>\n",
       "  </thead>\n",
       "  <tbody>\n",
       "    <tr>\n",
       "      <th rowspan=\"3\" valign=\"top\">0</th>\n",
       "      <th>Large/Large</th>\n",
       "      <th>False</th>\n",
       "      <td>0.026620</td>\n",
       "      <td>76296.047404</td>\n",
       "      <td>0.0</td>\n",
       "    </tr>\n",
       "    <tr>\n",
       "      <th>Medium/Medium</th>\n",
       "      <th>False</th>\n",
       "      <td>0.004733</td>\n",
       "      <td>6770.387755</td>\n",
       "      <td>0.0</td>\n",
       "    </tr>\n",
       "    <tr>\n",
       "      <th>Small/Small</th>\n",
       "      <th>False</th>\n",
       "      <td>0.000942</td>\n",
       "      <td>1364.825821</td>\n",
       "      <td>0.0</td>\n",
       "    </tr>\n",
       "    <tr>\n",
       "      <th rowspan=\"2\" valign=\"top\">1</th>\n",
       "      <th>Large/Large</th>\n",
       "      <th>False</th>\n",
       "      <td>0.013319</td>\n",
       "      <td>46409.957111</td>\n",
       "      <td>0.0</td>\n",
       "    </tr>\n",
       "    <tr>\n",
       "      <th>Medium/Medium</th>\n",
       "      <th>False</th>\n",
       "      <td>0.002667</td>\n",
       "      <td>4155.727891</td>\n",
       "      <td>0.0</td>\n",
       "    </tr>\n",
       "    <tr>\n",
       "      <th>...</th>\n",
       "      <th>...</th>\n",
       "      <th>...</th>\n",
       "      <td>...</td>\n",
       "      <td>...</td>\n",
       "      <td>...</td>\n",
       "    </tr>\n",
       "    <tr>\n",
       "      <th rowspan=\"2\" valign=\"top\">99</th>\n",
       "      <th>Medium/Medium</th>\n",
       "      <th>False</th>\n",
       "      <td>0.002135</td>\n",
       "      <td>1595.108844</td>\n",
       "      <td>0.0</td>\n",
       "    </tr>\n",
       "    <tr>\n",
       "      <th>Small/Small</th>\n",
       "      <th>False</th>\n",
       "      <td>0.000598</td>\n",
       "      <td>423.763191</td>\n",
       "      <td>0.0</td>\n",
       "    </tr>\n",
       "    <tr>\n",
       "      <th rowspan=\"3\" valign=\"top\">10000000</th>\n",
       "      <th>Large/Large</th>\n",
       "      <th>True</th>\n",
       "      <td>0.016972</td>\n",
       "      <td>15765.051919</td>\n",
       "      <td>0.0</td>\n",
       "    </tr>\n",
       "    <tr>\n",
       "      <th>Medium/Medium</th>\n",
       "      <th>True</th>\n",
       "      <td>0.002469</td>\n",
       "      <td>1410.244898</td>\n",
       "      <td>0.0</td>\n",
       "    </tr>\n",
       "    <tr>\n",
       "      <th>Small/Small</th>\n",
       "      <th>True</th>\n",
       "      <td>0.000666</td>\n",
       "      <td>288.066265</td>\n",
       "      <td>0.0</td>\n",
       "    </tr>\n",
       "  </tbody>\n",
       "</table>\n",
       "<p>303 rows × 3 columns</p>\n",
       "</div>"
      ],
      "text/plain": [
       "                                   total_time      sum_size  predicate\n",
       "delta_size sizes         baseline                                     \n",
       "0          Large/Large   False       0.026620  76296.047404        0.0\n",
       "           Medium/Medium False       0.004733   6770.387755        0.0\n",
       "           Small/Small   False       0.000942   1364.825821        0.0\n",
       "1          Large/Large   False       0.013319  46409.957111        0.0\n",
       "           Medium/Medium False       0.002667   4155.727891        0.0\n",
       "...                                       ...           ...        ...\n",
       "99         Medium/Medium False       0.002135   1595.108844        0.0\n",
       "           Small/Small   False       0.000598    423.763191        0.0\n",
       "10000000   Large/Large   True        0.016972  15765.051919        0.0\n",
       "           Medium/Medium True        0.002469   1410.244898        0.0\n",
       "           Small/Small   True        0.000666    288.066265        0.0\n",
       "\n",
       "[303 rows x 3 columns]"
      ]
     },
     "metadata": {},
     "output_type": "display_data"
    },
    {
     "data": {
      "text/html": [
       "<div>\n",
       "<style scoped>\n",
       "    .dataframe tbody tr th:only-of-type {\n",
       "        vertical-align: middle;\n",
       "    }\n",
       "\n",
       "    .dataframe tbody tr th {\n",
       "        vertical-align: top;\n",
       "    }\n",
       "\n",
       "    .dataframe thead th {\n",
       "        text-align: right;\n",
       "    }\n",
       "</style>\n",
       "<table border=\"1\" class=\"dataframe\">\n",
       "  <thead>\n",
       "    <tr style=\"text-align: right;\">\n",
       "      <th></th>\n",
       "      <th>total_time</th>\n",
       "      <th>sum_size</th>\n",
       "      <th>sizes</th>\n",
       "      <th>delta_size</th>\n",
       "      <th>predicate</th>\n",
       "      <th>baseline</th>\n",
       "    </tr>\n",
       "  </thead>\n",
       "  <tbody>\n",
       "    <tr>\n",
       "      <th>0</th>\n",
       "      <td>0.001593</td>\n",
       "      <td>4845</td>\n",
       "      <td>Small/Medium</td>\n",
       "      <td>0</td>\n",
       "      <td>False</td>\n",
       "      <td>False</td>\n",
       "    </tr>\n",
       "    <tr>\n",
       "      <th>1</th>\n",
       "      <td>0.001024</td>\n",
       "      <td>3023</td>\n",
       "      <td>Small/Medium</td>\n",
       "      <td>1</td>\n",
       "      <td>False</td>\n",
       "      <td>False</td>\n",
       "    </tr>\n",
       "    <tr>\n",
       "      <th>2</th>\n",
       "      <td>0.001092</td>\n",
       "      <td>2374</td>\n",
       "      <td>Small/Medium</td>\n",
       "      <td>2</td>\n",
       "      <td>False</td>\n",
       "      <td>False</td>\n",
       "    </tr>\n",
       "    <tr>\n",
       "      <th>3</th>\n",
       "      <td>0.001072</td>\n",
       "      <td>2109</td>\n",
       "      <td>Small/Medium</td>\n",
       "      <td>3</td>\n",
       "      <td>False</td>\n",
       "      <td>False</td>\n",
       "    </tr>\n",
       "    <tr>\n",
       "      <th>4</th>\n",
       "      <td>0.000808</td>\n",
       "      <td>1878</td>\n",
       "      <td>Small/Medium</td>\n",
       "      <td>4</td>\n",
       "      <td>False</td>\n",
       "      <td>False</td>\n",
       "    </tr>\n",
       "    <tr>\n",
       "      <th>...</th>\n",
       "      <td>...</td>\n",
       "      <td>...</td>\n",
       "      <td>...</td>\n",
       "      <td>...</td>\n",
       "      <td>...</td>\n",
       "      <td>...</td>\n",
       "    </tr>\n",
       "    <tr>\n",
       "      <th>509994</th>\n",
       "      <td>0.000584</td>\n",
       "      <td>406</td>\n",
       "      <td>Small/Small</td>\n",
       "      <td>96</td>\n",
       "      <td>False</td>\n",
       "      <td>False</td>\n",
       "    </tr>\n",
       "    <tr>\n",
       "      <th>509995</th>\n",
       "      <td>0.000519</td>\n",
       "      <td>406</td>\n",
       "      <td>Small/Small</td>\n",
       "      <td>97</td>\n",
       "      <td>False</td>\n",
       "      <td>False</td>\n",
       "    </tr>\n",
       "    <tr>\n",
       "      <th>509996</th>\n",
       "      <td>0.000515</td>\n",
       "      <td>406</td>\n",
       "      <td>Small/Small</td>\n",
       "      <td>98</td>\n",
       "      <td>False</td>\n",
       "      <td>False</td>\n",
       "    </tr>\n",
       "    <tr>\n",
       "      <th>509997</th>\n",
       "      <td>0.000519</td>\n",
       "      <td>406</td>\n",
       "      <td>Small/Small</td>\n",
       "      <td>99</td>\n",
       "      <td>False</td>\n",
       "      <td>False</td>\n",
       "    </tr>\n",
       "    <tr>\n",
       "      <th>509999</th>\n",
       "      <td>0.000591</td>\n",
       "      <td>274</td>\n",
       "      <td>Small/Small</td>\n",
       "      <td>10000000</td>\n",
       "      <td>False</td>\n",
       "      <td>True</td>\n",
       "    </tr>\n",
       "  </tbody>\n",
       "</table>\n",
       "<p>1474701 rows × 6 columns</p>\n",
       "</div>"
      ],
      "text/plain": [
       "        total_time  sum_size         sizes  delta_size  predicate  baseline\n",
       "0         0.001593      4845  Small/Medium           0      False     False\n",
       "1         0.001024      3023  Small/Medium           1      False     False\n",
       "2         0.001092      2374  Small/Medium           2      False     False\n",
       "3         0.001072      2109  Small/Medium           3      False     False\n",
       "4         0.000808      1878  Small/Medium           4      False     False\n",
       "...            ...       ...           ...         ...        ...       ...\n",
       "509994    0.000584       406   Small/Small          96      False     False\n",
       "509995    0.000519       406   Small/Small          97      False     False\n",
       "509996    0.000515       406   Small/Small          98      False     False\n",
       "509997    0.000519       406   Small/Small          99      False     False\n",
       "509999    0.000591       274   Small/Small    10000000      False      True\n",
       "\n",
       "[1474701 rows x 6 columns]"
      ]
     },
     "metadata": {},
     "output_type": "display_data"
    },
    {
     "data": {
      "application/vnd.plotly.v1+json": {
       "config": {
        "plotlyServerURL": "https://plot.ly"
       },
       "data": [
        {
         "line": {
          "color": "red"
         },
         "mode": "lines",
         "name": "FPDE",
         "showlegend": true,
         "type": "scatter",
         "x": [
          0,
          1,
          2,
          3,
          4,
          5,
          6,
          7,
          8,
          9,
          10,
          11,
          12,
          13,
          14,
          15,
          16,
          17,
          18,
          19,
          20,
          21,
          22,
          23,
          24,
          25,
          26,
          27,
          28,
          29,
          30,
          31,
          32,
          33,
          34,
          35,
          36,
          37,
          38,
          39,
          40,
          41,
          42,
          43,
          44,
          45,
          46,
          47,
          48,
          49,
          50,
          51,
          52,
          53,
          54,
          55,
          56,
          57,
          58,
          59,
          60,
          61,
          62,
          63,
          64,
          65,
          66,
          67,
          68,
          69,
          70,
          71,
          72,
          73,
          74,
          75,
          76,
          77,
          78,
          79,
          80,
          81,
          82,
          83,
          84,
          85,
          86,
          87,
          88,
          89,
          90,
          91,
          92,
          93,
          94,
          95,
          96,
          97,
          98,
          99
         ],
         "xaxis": "x",
         "y": [
          1.5684558294668862,
          0.7847613953632695,
          0.6074824620093512,
          0.49942182326622975,
          0.39649523498185685,
          0.36954083909015145,
          0.3700907552959518,
          0.3312105979829094,
          0.3227020663689816,
          0.31534144980451884,
          0.309666941881467,
          0.30254601822201316,
          0.3008782649586393,
          0.2947292818847868,
          0.29187403233900205,
          0.2913420251066763,
          0.33767110789727556,
          0.2903482282480407,
          0.2929883363268821,
          0.28798341902118263,
          0.2890391860876044,
          0.28508748827194313,
          0.28597981025571517,
          0.2875721464093099,
          0.2887246127151718,
          0.28887911755202594,
          0.2898358594101056,
          0.28580954052196456,
          0.2926688421922537,
          0.293479730591503,
          0.290762517284182,
          0.29352083263627493,
          0.29889825062755326,
          0.2946135412247386,
          0.29614197710679785,
          0.29704162819384605,
          0.30265753012358115,
          0.2994017497237745,
          0.30366990011234624,
          0.3014259210468294,
          0.3059678210633504,
          0.30502127397005185,
          0.3061912142174507,
          0.3073405638976245,
          0.31023790904064835,
          0.3106922829180601,
          0.3090835287274187,
          0.3119423504774235,
          0.3137037525077694,
          0.3182640203587968,
          0.31567429233516286,
          0.3173857736745471,
          0.3197411260024431,
          0.3226071041373688,
          0.32142651915942266,
          0.32289399177164185,
          0.32251319400130707,
          0.324809567191467,
          0.326216281241096,
          0.3275596867131008,
          0.3304913588821296,
          0.3296275029580719,
          0.3307166277219549,
          0.38989806785077347,
          0.3388918376066397,
          0.33875018413796076,
          0.3385448248239577,
          0.34255633464988255,
          0.3414423097751742,
          0.34210105477140995,
          0.34399647399789957,
          0.3473661985933173,
          0.4082955046887993,
          0.3488453199631332,
          0.34967106201705617,
          0.3511264013699833,
          0.3526911830234979,
          0.40031365753935266,
          0.35696643658022786,
          0.35542441224609056,
          0.36058998838002393,
          0.4048219751155235,
          0.36026659588915516,
          0.36213406800839515,
          0.36238042815158206,
          0.3642598304021805,
          0.3651734545125438,
          0.420689660475508,
          0.41462352159424937,
          0.3702301342705986,
          0.3694841439765374,
          0.3701488922865489,
          0.3712567937807416,
          0.37451930073598505,
          0.37497988652852066,
          0.37736602202073394,
          0.37514311761382485,
          0.38006453965382686,
          0.3795676814273964,
          0.3824688828812379
         ],
         "yaxis": "y"
        },
        {
         "line": {
          "color": "green",
          "dash": "dash"
         },
         "mode": "lines",
         "name": "Average size (bits)",
         "showlegend": true,
         "type": "scatter",
         "x": [
          0,
          1,
          2,
          3,
          4,
          5,
          6,
          7,
          8,
          9,
          10,
          11,
          12,
          13,
          14,
          15,
          16,
          17,
          18,
          19,
          20,
          21,
          22,
          23,
          24,
          25,
          26,
          27,
          28,
          29,
          30,
          31,
          32,
          33,
          34,
          35,
          36,
          37,
          38,
          39,
          40,
          41,
          42,
          43,
          44,
          45,
          46,
          47,
          48,
          49,
          50,
          51,
          52,
          53,
          54,
          55,
          56,
          57,
          58,
          59,
          60,
          61,
          62,
          63,
          64,
          65,
          66,
          67,
          68,
          69,
          70,
          71,
          72,
          73,
          74,
          75,
          76,
          77,
          78,
          79,
          80,
          81,
          82,
          83,
          84,
          85,
          86,
          87,
          88,
          89,
          90,
          91,
          92,
          93,
          94,
          95,
          96,
          97,
          98,
          99
         ],
         "xaxis": "x",
         "y": [
          76296.04740406321,
          46409.95711060948,
          36396.29796839729,
          31427.27539503386,
          28420.13995485327,
          26410.71106094808,
          24984.544018058692,
          23929.08577878104,
          23098.546275395034,
          22429.44018058691,
          21877.762979683972,
          21423.446952595936,
          21045.43566591422,
          20718.223476297968,
          20433.115124153497,
          20194.06546275395,
          19973.995485327312,
          19783.55756207675,
          19608.966139954853,
          19459.84875846501,
          19316.17381489842,
          19187.00677200903,
          19074.90519187359,
          18966.57336343115,
          18871.10835214447,
          18784.654627539505,
          18701.103837471783,
          18621.437923250563,
          18552.08803611738,
          18487.146726862302,
          18426.896162528217,
          18370.063205417606,
          18316.09480812641,
          18260.69525959368,
          18212.185101580137,
          18167.273137697517,
          18123.505643340857,
          18083.677200902934,
          18048.083521444696,
          18013.81038374718,
          17977.604966139956,
          17947.444695259594,
          17913.808126410837,
          17883.952595936793,
          17858.61625282167,
          17832.10835214447,
          17805.399548532732,
          17781.33408577878,
          17758.873589164785,
          17737.553047404064,
          17715.178329571107,
          17695.988713318286,
          17677.31828442438,
          17659.367945823928,
          17639.451467268624,
          17621.733634311513,
          17604.729119638825,
          17589.14446952596,
          17573.749435665915,
          17560.361173814897,
          17546.981941309255,
          17534.28216704289,
          17521.255079006773,
          17511.216704288938,
          17497.683972911964,
          17484.5237020316,
          17472.5237020316,
          17461.135440180587,
          17450.19638826185,
          17439.94130925508,
          17429.489841986455,
          17421.090293453726,
          17410.31828442438,
          17402.28893905192,
          17393.446952595936,
          17384.693002257336,
          17377.794582392777,
          17370.02934537246,
          17361.887133182845,
          17354.81941309255,
          17347.406320541762,
          17339.821670428893,
          17331.41986455982,
          17324.417607223477,
          17317.090293453726,
          17310.19638826185,
          17303.031602708805,
          17296.496613995485,
          17291.726862302483,
          17286.261851015803,
          17280.85553047404,
          17275.126410835215,
          17268.94356659142,
          17264.164785553046,
          17258.135440180587,
          17253.356659142213,
          17249.115124153497,
          17244.783295711062,
          17240.106094808125,
          17234.975169300225
         ],
         "yaxis": "y2"
        },
        {
         "line": {
          "color": "red"
         },
         "mode": "lines",
         "name": "FPDE",
         "showlegend": false,
         "type": "scatter",
         "x": [
          0,
          1,
          2,
          3,
          4,
          5,
          6,
          7,
          8,
          9,
          10,
          11,
          12,
          13,
          14,
          15,
          16,
          17,
          18,
          19,
          20,
          21,
          22,
          23,
          24,
          25,
          26,
          27,
          28,
          29,
          30,
          31,
          32,
          33,
          34,
          35,
          36,
          37,
          38,
          39,
          40,
          41,
          42,
          43,
          44,
          45,
          46,
          47,
          48,
          49,
          50,
          51,
          52,
          53,
          54,
          55,
          56,
          57,
          58,
          59,
          60,
          61,
          62,
          63,
          64,
          65,
          66,
          67,
          68,
          69,
          70,
          71,
          72,
          73,
          74,
          75,
          76,
          77,
          78,
          79,
          80,
          81,
          82,
          83,
          84,
          85,
          86,
          87,
          88,
          89,
          90,
          91,
          92,
          93,
          94,
          95,
          96,
          97,
          98,
          99
         ],
         "xaxis": "x2",
         "y": [
          1.9165917924259028,
          1.0800941999879907,
          0.9037659650810219,
          0.8270223179144416,
          0.7856094507723914,
          0.7541352216174826,
          0.7324280395919026,
          0.7251582997538913,
          0.7140323747984606,
          0.7225226156247879,
          0.7111118011318814,
          0.7157733238530539,
          0.7083129687512563,
          0.7112524800759231,
          0.719744463717105,
          0.7289412666039542,
          0.7276979271886724,
          0.7335081234833225,
          0.7386507875342145,
          0.733421164414026,
          0.7334975671788584,
          0.7409635006030424,
          0.7497824862753953,
          0.7572237375992974,
          0.7607389278176442,
          0.7575684942461448,
          0.7541030535429308,
          0.76731869945666,
          0.7682628527687747,
          0.7723535644197476,
          0.7880890658231415,
          0.7899141252168146,
          0.794279670063693,
          0.7886293886171586,
          0.7970776627054807,
          0.8014073436327804,
          0.8061142595535108,
          0.8054896368899035,
          0.8025668071367452,
          0.8075367720092571,
          0.8203972292408379,
          0.8126451297542878,
          0.816700742181977,
          0.8193617910098406,
          0.8203552557682517,
          0.8364633890750004,
          0.8269924530685734,
          0.8316127756722123,
          0.8435185951228089,
          0.8393646362412803,
          0.8390955437995796,
          0.8403933179178958,
          0.8327723409967163,
          0.8367584690043866,
          0.8420078257466793,
          0.847985804169609,
          0.842653799295309,
          0.8436128801397637,
          0.8469671907002627,
          0.8507071474324142,
          0.8530200857892024,
          0.8506375642384542,
          0.8546174552170103,
          0.8533056500681344,
          0.8643525005519426,
          0.8503391590266597,
          0.859997017819133,
          0.8569549292769904,
          0.8638916381855127,
          0.8724145043969034,
          0.8589037482481446,
          0.8581997320217787,
          0.8617508939130909,
          0.8606942152763646,
          0.8722347813651818,
          0.8641785511456267,
          0.8667435375066592,
          0.8610732302852254,
          0.8581970114090578,
          0.8585278659445769,
          0.8602188825277632,
          0.8591474479303096,
          0.862775075763296,
          0.8696195929889233,
          0.8636165133178604,
          0.867240857719084,
          0.8705914876675467,
          0.8696199924140615,
          0.8755607848538783,
          0.8711481663676929,
          0.8677987297238713,
          0.8684391126033719,
          0.8689666284581526,
          0.8719897450278858,
          0.8701557445081517,
          0.8643218094364138,
          0.8668081003868529,
          0.8669710047501178,
          0.8713844315470703,
          0.8646287308539148
         ],
         "yaxis": "y3"
        },
        {
         "line": {
          "color": "green",
          "dash": "dash"
         },
         "mode": "lines",
         "name": "Average size (bits)",
         "showlegend": false,
         "type": "scatter",
         "x": [
          0,
          1,
          2,
          3,
          4,
          5,
          6,
          7,
          8,
          9,
          10,
          11,
          12,
          13,
          14,
          15,
          16,
          17,
          18,
          19,
          20,
          21,
          22,
          23,
          24,
          25,
          26,
          27,
          28,
          29,
          30,
          31,
          32,
          33,
          34,
          35,
          36,
          37,
          38,
          39,
          40,
          41,
          42,
          43,
          44,
          45,
          46,
          47,
          48,
          49,
          50,
          51,
          52,
          53,
          54,
          55,
          56,
          57,
          58,
          59,
          60,
          61,
          62,
          63,
          64,
          65,
          66,
          67,
          68,
          69,
          70,
          71,
          72,
          73,
          74,
          75,
          76,
          77,
          78,
          79,
          80,
          81,
          82,
          83,
          84,
          85,
          86,
          87,
          88,
          89,
          90,
          91,
          92,
          93,
          94,
          95,
          96,
          97,
          98,
          99
         ],
         "xaxis": "x2",
         "y": [
          6770.3877551020405,
          4155.727891156463,
          3279.0680272108843,
          2846.197278911565,
          2584.1428571428573,
          2407.7891156462583,
          2283.877551020408,
          2194.0408163265306,
          2116.639455782313,
          2058.734693877551,
          2009.061224489796,
          1972.2857142857142,
          1938.8503401360545,
          1908.0544217687075,
          1883.8367346938776,
          1861.9591836734694,
          1845.095238095238,
          1825.5374149659865,
          1808.891156462585,
          1795.4353741496598,
          1784.8843537414966,
          1775.6530612244899,
          1768.251700680272,
          1758.251700680272,
          1747.9591836734694,
          1738.204081632653,
          1729.530612244898,
          1724.2585034013605,
          1715.795918367347,
          1709.204081632653,
          1702.3741496598639,
          1695.2108843537414,
          1690.7210884353742,
          1686.734693877551,
          1682.7551020408164,
          1679.3061224489795,
          1675.8775510204082,
          1673.5102040816328,
          1670.3537414965986,
          1667.700680272109,
          1665.8639455782313,
          1664.0136054421769,
          1661.9115646258504,
          1659.8027210884354,
          1658.469387755102,
          1656.6258503401361,
          1654.7891156462586,
          1652.1496598639455,
          1649.7619047619048,
          1648.1700680272108,
          1645.795918367347,
          1643.1496598639455,
          1641.5578231292518,
          1638.108843537415,
          1637.5850340136055,
          1635.4761904761904,
          1632.2857142857142,
          1630.9591836734694,
          1628.857142857143,
          1627.2721088435374,
          1625.938775510204,
          1623.5578231292518,
          1622.2448979591836,
          1620.5986394557824,
          1620.3333333333333,
          1618.4761904761904,
          1617.1496598639455,
          1615.8231292517007,
          1614.7551020408164,
          1613.156462585034,
          1612.1020408163265,
          1611.3061224489795,
          1609.700680272109,
          1608.108843537415,
          1607.578231292517,
          1606.7823129251701,
          1605.7142857142858,
          1604.6598639455783,
          1603.8775510204082,
          1602.8095238095239,
          1602.8095238095239,
          1602.544217687075,
          1602.544217687075,
          1602.2789115646258,
          1601.748299319728,
          1600.952380952381,
          1600.1496598639455,
          1600.1496598639455,
          1600.1496598639455,
          1599.3469387755101,
          1599.0816326530612,
          1598.5578231292518,
          1597.4965986394557,
          1597.4965986394557,
          1596.1700680272108,
          1596.1700680272108,
          1595.639455782313,
          1595.108843537415,
          1595.108843537415,
          1595.108843537415
         ],
         "yaxis": "y4"
        },
        {
         "line": {
          "color": "red"
         },
         "mode": "lines",
         "name": "FPDE",
         "showlegend": false,
         "type": "scatter",
         "x": [
          0,
          1,
          2,
          3,
          4,
          5,
          6,
          7,
          8,
          9,
          10,
          11,
          12,
          13,
          14,
          15,
          16,
          17,
          18,
          19,
          20,
          21,
          22,
          23,
          24,
          25,
          26,
          27,
          28,
          29,
          30,
          31,
          32,
          33,
          34,
          35,
          36,
          37,
          38,
          39,
          40,
          41,
          42,
          43,
          44,
          45,
          46,
          47,
          48,
          49,
          50,
          51,
          52,
          53,
          54,
          55,
          56,
          57,
          58,
          59,
          60,
          61,
          62,
          63,
          64,
          65,
          66,
          67,
          68,
          69,
          70,
          71,
          72,
          73,
          74,
          75,
          76,
          77,
          78,
          79,
          80,
          81,
          82,
          83,
          84,
          85,
          86,
          87,
          88,
          89,
          90,
          91,
          92,
          93,
          94,
          95,
          96,
          97,
          98,
          99
         ],
         "xaxis": "x3",
         "y": [
          1.4135131872640327,
          0.9019561458672064,
          0.8610485234606029,
          0.8363239183894429,
          0.837119142485356,
          0.8390568424423568,
          0.8388394292206509,
          0.8405126099035533,
          0.8449313227761168,
          0.8496316750282653,
          0.854112265070529,
          0.8569576733867446,
          0.8606159379833849,
          0.864201043210789,
          0.8683103120949912,
          0.8718546273892179,
          0.875664548157452,
          0.8783132118216157,
          0.8805672315152152,
          0.881140616201244,
          0.882751089204683,
          0.8856998786814116,
          0.8867534956784902,
          0.88774150838437,
          0.8887184214500496,
          0.8891805267843488,
          0.8901251053142207,
          0.8918100071630183,
          0.8928980201608465,
          0.893329204446626,
          0.8945454367379873,
          0.8957299536598838,
          0.8969925872019201,
          0.8961134964475975,
          0.8965901310294115,
          0.8995157843183127,
          0.8980828895235662,
          0.8969410197525727,
          0.897317249940029,
          0.8972634205081137,
          0.8975505961869025,
          0.8960870563060552,
          0.898098327357219,
          0.897741978106327,
          0.8980382814796036,
          0.8965702800566088,
          0.8959497758971083,
          0.8960510225344641,
          0.8961940422375583,
          0.8965656173888479,
          0.8964986398645196,
          0.8979291563697612,
          0.8968302463092541,
          0.896230484984526,
          0.8975475161083888,
          0.8967486827677923,
          0.8970221179392385,
          0.8968597267742431,
          0.8969226988371547,
          0.8971059125739163,
          0.8971194802769346,
          0.8960483341989899,
          0.8976661412364838,
          0.8970704870975055,
          0.8967495347567253,
          0.8976428006743995,
          0.8962054392830489,
          0.8965133619254738,
          0.8968640626900142,
          0.8971901808211196,
          0.8969769329159462,
          0.8966531839182497,
          0.8972641168796875,
          0.8963905133500633,
          0.8962446827976482,
          0.8962095986649053,
          0.896275219970657,
          0.8963111323445545,
          0.8974787062302693,
          0.8960687875776706,
          0.897357373946338,
          0.8965949218734618,
          0.8970565218982601,
          0.8971852921275163,
          0.8963664503455735,
          0.8959680131553783,
          0.8961579703715206,
          0.8972361202288007,
          0.8965650576781536,
          0.8967294498179543,
          0.8966381920836389,
          0.8970449868307258,
          0.8964227209800005,
          0.8965422290861985,
          0.8968808150996957,
          0.8968023557837995,
          0.8973169711282413,
          0.8968778972719493,
          0.8984870397646649,
          0.8971183103472818
         ],
         "yaxis": "y5"
        },
        {
         "line": {
          "color": "green",
          "dash": "dash"
         },
         "mode": "lines",
         "name": "Average size (bits)",
         "showlegend": false,
         "type": "scatter",
         "x": [
          0,
          1,
          2,
          3,
          4,
          5,
          6,
          7,
          8,
          9,
          10,
          11,
          12,
          13,
          14,
          15,
          16,
          17,
          18,
          19,
          20,
          21,
          22,
          23,
          24,
          25,
          26,
          27,
          28,
          29,
          30,
          31,
          32,
          33,
          34,
          35,
          36,
          37,
          38,
          39,
          40,
          41,
          42,
          43,
          44,
          45,
          46,
          47,
          48,
          49,
          50,
          51,
          52,
          53,
          54,
          55,
          56,
          57,
          58,
          59,
          60,
          61,
          62,
          63,
          64,
          65,
          66,
          67,
          68,
          69,
          70,
          71,
          72,
          73,
          74,
          75,
          76,
          77,
          78,
          79,
          80,
          81,
          82,
          83,
          84,
          85,
          86,
          87,
          88,
          89,
          90,
          91,
          92,
          93,
          94,
          95,
          96,
          97,
          98,
          99
         ],
         "xaxis": "x3",
         "y": [
          1364.825820523473,
          870.4240756127961,
          715.2667220606564,
          624.4266722060656,
          578.0828832571666,
          545.1805151641047,
          522.4309306190279,
          505.501454092231,
          493.3223930203573,
          483.17230992937266,
          475.2919609472372,
          467.91815538014123,
          462.123805567096,
          457.3847112588284,
          454.0486082260075,
          450.32041960947237,
          447.3895928541753,
          444.563356875779,
          442.38865808059825,
          440.4524304113004,
          438.48888658080597,
          436.8918778562526,
          435.1401121728292,
          433.8432696302451,
          432.49636476942254,
          431.5489198171998,
          430.90257582052345,
          430.05920232654756,
          429.54673867885333,
          429.0754050685501,
          428.6326339842127,
          428.12474034067304,
          427.66618196925634,
          427.23618612380557,
          426.71665974241796,
          426.4143124221022,
          426.04954299958456,
          425.797881179892,
          425.504362276693,
          425.2576859160781,
          424.9775654341504,
          424.8441005400914,
          424.7310968009971,
          424.5612796011633,
          424.4069380972164,
          424.0368716244287,
          423.90060240963857,
          423.70731200664727,
          423.6831117573743,
          423.6831117573743,
          423.6831117573743,
          423.6831117573743,
          423.6831117573743,
          423.6831117573743,
          423.6831117573743,
          423.6831117573743,
          423.6831117573743,
          423.6831117573743,
          423.6831117573743,
          423.6831117573743,
          423.6831117573743,
          423.6831117573743,
          423.6831117573743,
          423.76319069380975,
          423.76319069380975,
          423.76319069380975,
          423.76319069380975,
          423.76319069380975,
          423.76319069380975,
          423.76319069380975,
          423.76319069380975,
          423.76319069380975,
          423.76319069380975,
          423.76319069380975,
          423.76319069380975,
          423.76319069380975,
          423.76319069380975,
          423.76319069380975,
          423.76319069380975,
          423.76319069380975,
          423.76319069380975,
          423.76319069380975,
          423.76319069380975,
          423.76319069380975,
          423.76319069380975,
          423.76319069380975,
          423.76319069380975,
          423.76319069380975,
          423.76319069380975,
          423.76319069380975,
          423.76319069380975,
          423.76319069380975,
          423.76319069380975,
          423.76319069380975,
          423.76319069380975,
          423.76319069380975,
          423.76319069380975,
          423.76319069380975,
          423.76319069380975,
          423.76319069380975
         ],
         "yaxis": "y6"
        }
       ],
       "layout": {
        "annotations": [
         {
          "font": {
           "size": 16
          },
          "showarrow": false,
          "text": "Geometry Sizes=Large",
          "x": 0.47,
          "xanchor": "center",
          "xref": "paper",
          "y": 1,
          "yanchor": "bottom",
          "yref": "paper"
         },
         {
          "font": {
           "size": 16
          },
          "showarrow": false,
          "text": "Geometry Sizes=Medium",
          "x": 0.47,
          "xanchor": "center",
          "xref": "paper",
          "y": 0.6433333333333333,
          "yanchor": "bottom",
          "yref": "paper"
         },
         {
          "font": {
           "size": 16
          },
          "showarrow": false,
          "text": "Geometry Sizes=Small",
          "x": 0.47,
          "xanchor": "center",
          "xref": "paper",
          "y": 0.2866666666666667,
          "yanchor": "bottom",
          "yref": "paper"
         },
         {
          "font": {
           "size": 16
          },
          "showarrow": false,
          "text": "Min=21",
          "textangle": -90,
          "x": 21,
          "xanchor": "center",
          "xref": "x",
          "y": 0.5,
          "yanchor": "middle",
          "yref": "y domain"
         },
         {
          "font": {
           "size": 16
          },
          "showarrow": false,
          "text": "Min=12",
          "textangle": -90,
          "x": 12,
          "xanchor": "center",
          "xref": "x2",
          "y": 0.5,
          "yanchor": "middle",
          "yref": "y3 domain"
         },
         {
          "font": {
           "size": 16
          },
          "showarrow": false,
          "text": "Min=3",
          "textangle": -90,
          "x": 3,
          "xanchor": "center",
          "xref": "x3",
          "y": 0.5,
          "yanchor": "middle",
          "yref": "y5 domain"
         },
         {
          "font": {
           "size": 20
          },
          "showarrow": false,
          "text": "Max Chunk Size",
          "x": 0.48,
          "xanchor": "center",
          "xref": "paper",
          "y": -0.04,
          "yanchor": "top",
          "yref": "paper"
         },
         {
          "font": {
           "size": 20
          },
          "showarrow": false,
          "text": "Mean Size (bits)",
          "textangle": -90,
          "x": 1.01,
          "xanchor": "center",
          "xref": "paper",
          "y": 0.5,
          "yanchor": "middle",
          "yref": "paper"
         },
         {
          "font": {
           "size": 20
          },
          "showarrow": false,
          "text": "Relative Mean Execution Time (%)",
          "textangle": -90,
          "x": -0.07,
          "xanchor": "center",
          "xref": "paper",
          "y": 0.5,
          "yanchor": "middle",
          "yref": "paper"
         }
        ],
        "height": 1000,
        "legend": {
         "font": {
          "size": 15
         },
         "orientation": "h",
         "x": 0.7,
         "xanchor": "left",
         "y": -0.037,
         "yanchor": "top"
        },
        "shapes": [
         {
          "fillcolor": "green",
          "line": {
           "width": 0
          },
          "opacity": 0.25,
          "type": "rect",
          "x0": 20,
          "x1": 22,
          "xref": "x",
          "y0": 0,
          "y1": 1,
          "yref": "y domain"
         },
         {
          "fillcolor": "green",
          "line": {
           "width": 0
          },
          "opacity": 0.25,
          "type": "rect",
          "x0": 11,
          "x1": 13,
          "xref": "x2",
          "y0": 0,
          "y1": 1,
          "yref": "y3 domain"
         },
         {
          "fillcolor": "green",
          "line": {
           "width": 0
          },
          "opacity": 0.25,
          "type": "rect",
          "x0": 2,
          "x1": 4,
          "xref": "x3",
          "y0": 0,
          "y1": 1,
          "yref": "y5 domain"
         }
        ],
        "template": {
         "data": {
          "bar": [
           {
            "error_x": {
             "color": "#2a3f5f"
            },
            "error_y": {
             "color": "#2a3f5f"
            },
            "marker": {
             "line": {
              "color": "#E5ECF6",
              "width": 0.5
             },
             "pattern": {
              "fillmode": "overlay",
              "size": 10,
              "solidity": 0.2
             }
            },
            "type": "bar"
           }
          ],
          "barpolar": [
           {
            "marker": {
             "line": {
              "color": "#E5ECF6",
              "width": 0.5
             },
             "pattern": {
              "fillmode": "overlay",
              "size": 10,
              "solidity": 0.2
             }
            },
            "type": "barpolar"
           }
          ],
          "carpet": [
           {
            "aaxis": {
             "endlinecolor": "#2a3f5f",
             "gridcolor": "white",
             "linecolor": "white",
             "minorgridcolor": "white",
             "startlinecolor": "#2a3f5f"
            },
            "baxis": {
             "endlinecolor": "#2a3f5f",
             "gridcolor": "white",
             "linecolor": "white",
             "minorgridcolor": "white",
             "startlinecolor": "#2a3f5f"
            },
            "type": "carpet"
           }
          ],
          "choropleth": [
           {
            "colorbar": {
             "outlinewidth": 0,
             "ticks": ""
            },
            "type": "choropleth"
           }
          ],
          "contour": [
           {
            "colorbar": {
             "outlinewidth": 0,
             "ticks": ""
            },
            "colorscale": [
             [
              0,
              "#0d0887"
             ],
             [
              0.1111111111111111,
              "#46039f"
             ],
             [
              0.2222222222222222,
              "#7201a8"
             ],
             [
              0.3333333333333333,
              "#9c179e"
             ],
             [
              0.4444444444444444,
              "#bd3786"
             ],
             [
              0.5555555555555556,
              "#d8576b"
             ],
             [
              0.6666666666666666,
              "#ed7953"
             ],
             [
              0.7777777777777778,
              "#fb9f3a"
             ],
             [
              0.8888888888888888,
              "#fdca26"
             ],
             [
              1,
              "#f0f921"
             ]
            ],
            "type": "contour"
           }
          ],
          "contourcarpet": [
           {
            "colorbar": {
             "outlinewidth": 0,
             "ticks": ""
            },
            "type": "contourcarpet"
           }
          ],
          "heatmap": [
           {
            "colorbar": {
             "outlinewidth": 0,
             "ticks": ""
            },
            "colorscale": [
             [
              0,
              "#0d0887"
             ],
             [
              0.1111111111111111,
              "#46039f"
             ],
             [
              0.2222222222222222,
              "#7201a8"
             ],
             [
              0.3333333333333333,
              "#9c179e"
             ],
             [
              0.4444444444444444,
              "#bd3786"
             ],
             [
              0.5555555555555556,
              "#d8576b"
             ],
             [
              0.6666666666666666,
              "#ed7953"
             ],
             [
              0.7777777777777778,
              "#fb9f3a"
             ],
             [
              0.8888888888888888,
              "#fdca26"
             ],
             [
              1,
              "#f0f921"
             ]
            ],
            "type": "heatmap"
           }
          ],
          "heatmapgl": [
           {
            "colorbar": {
             "outlinewidth": 0,
             "ticks": ""
            },
            "colorscale": [
             [
              0,
              "#0d0887"
             ],
             [
              0.1111111111111111,
              "#46039f"
             ],
             [
              0.2222222222222222,
              "#7201a8"
             ],
             [
              0.3333333333333333,
              "#9c179e"
             ],
             [
              0.4444444444444444,
              "#bd3786"
             ],
             [
              0.5555555555555556,
              "#d8576b"
             ],
             [
              0.6666666666666666,
              "#ed7953"
             ],
             [
              0.7777777777777778,
              "#fb9f3a"
             ],
             [
              0.8888888888888888,
              "#fdca26"
             ],
             [
              1,
              "#f0f921"
             ]
            ],
            "type": "heatmapgl"
           }
          ],
          "histogram": [
           {
            "marker": {
             "pattern": {
              "fillmode": "overlay",
              "size": 10,
              "solidity": 0.2
             }
            },
            "type": "histogram"
           }
          ],
          "histogram2d": [
           {
            "colorbar": {
             "outlinewidth": 0,
             "ticks": ""
            },
            "colorscale": [
             [
              0,
              "#0d0887"
             ],
             [
              0.1111111111111111,
              "#46039f"
             ],
             [
              0.2222222222222222,
              "#7201a8"
             ],
             [
              0.3333333333333333,
              "#9c179e"
             ],
             [
              0.4444444444444444,
              "#bd3786"
             ],
             [
              0.5555555555555556,
              "#d8576b"
             ],
             [
              0.6666666666666666,
              "#ed7953"
             ],
             [
              0.7777777777777778,
              "#fb9f3a"
             ],
             [
              0.8888888888888888,
              "#fdca26"
             ],
             [
              1,
              "#f0f921"
             ]
            ],
            "type": "histogram2d"
           }
          ],
          "histogram2dcontour": [
           {
            "colorbar": {
             "outlinewidth": 0,
             "ticks": ""
            },
            "colorscale": [
             [
              0,
              "#0d0887"
             ],
             [
              0.1111111111111111,
              "#46039f"
             ],
             [
              0.2222222222222222,
              "#7201a8"
             ],
             [
              0.3333333333333333,
              "#9c179e"
             ],
             [
              0.4444444444444444,
              "#bd3786"
             ],
             [
              0.5555555555555556,
              "#d8576b"
             ],
             [
              0.6666666666666666,
              "#ed7953"
             ],
             [
              0.7777777777777778,
              "#fb9f3a"
             ],
             [
              0.8888888888888888,
              "#fdca26"
             ],
             [
              1,
              "#f0f921"
             ]
            ],
            "type": "histogram2dcontour"
           }
          ],
          "mesh3d": [
           {
            "colorbar": {
             "outlinewidth": 0,
             "ticks": ""
            },
            "type": "mesh3d"
           }
          ],
          "parcoords": [
           {
            "line": {
             "colorbar": {
              "outlinewidth": 0,
              "ticks": ""
             }
            },
            "type": "parcoords"
           }
          ],
          "pie": [
           {
            "automargin": true,
            "type": "pie"
           }
          ],
          "scatter": [
           {
            "fillpattern": {
             "fillmode": "overlay",
             "size": 10,
             "solidity": 0.2
            },
            "type": "scatter"
           }
          ],
          "scatter3d": [
           {
            "line": {
             "colorbar": {
              "outlinewidth": 0,
              "ticks": ""
             }
            },
            "marker": {
             "colorbar": {
              "outlinewidth": 0,
              "ticks": ""
             }
            },
            "type": "scatter3d"
           }
          ],
          "scattercarpet": [
           {
            "marker": {
             "colorbar": {
              "outlinewidth": 0,
              "ticks": ""
             }
            },
            "type": "scattercarpet"
           }
          ],
          "scattergeo": [
           {
            "marker": {
             "colorbar": {
              "outlinewidth": 0,
              "ticks": ""
             }
            },
            "type": "scattergeo"
           }
          ],
          "scattergl": [
           {
            "marker": {
             "colorbar": {
              "outlinewidth": 0,
              "ticks": ""
             }
            },
            "type": "scattergl"
           }
          ],
          "scattermapbox": [
           {
            "marker": {
             "colorbar": {
              "outlinewidth": 0,
              "ticks": ""
             }
            },
            "type": "scattermapbox"
           }
          ],
          "scatterpolar": [
           {
            "marker": {
             "colorbar": {
              "outlinewidth": 0,
              "ticks": ""
             }
            },
            "type": "scatterpolar"
           }
          ],
          "scatterpolargl": [
           {
            "marker": {
             "colorbar": {
              "outlinewidth": 0,
              "ticks": ""
             }
            },
            "type": "scatterpolargl"
           }
          ],
          "scatterternary": [
           {
            "marker": {
             "colorbar": {
              "outlinewidth": 0,
              "ticks": ""
             }
            },
            "type": "scatterternary"
           }
          ],
          "surface": [
           {
            "colorbar": {
             "outlinewidth": 0,
             "ticks": ""
            },
            "colorscale": [
             [
              0,
              "#0d0887"
             ],
             [
              0.1111111111111111,
              "#46039f"
             ],
             [
              0.2222222222222222,
              "#7201a8"
             ],
             [
              0.3333333333333333,
              "#9c179e"
             ],
             [
              0.4444444444444444,
              "#bd3786"
             ],
             [
              0.5555555555555556,
              "#d8576b"
             ],
             [
              0.6666666666666666,
              "#ed7953"
             ],
             [
              0.7777777777777778,
              "#fb9f3a"
             ],
             [
              0.8888888888888888,
              "#fdca26"
             ],
             [
              1,
              "#f0f921"
             ]
            ],
            "type": "surface"
           }
          ],
          "table": [
           {
            "cells": {
             "fill": {
              "color": "#EBF0F8"
             },
             "line": {
              "color": "white"
             }
            },
            "header": {
             "fill": {
              "color": "#C8D4E3"
             },
             "line": {
              "color": "white"
             }
            },
            "type": "table"
           }
          ]
         },
         "layout": {
          "annotationdefaults": {
           "arrowcolor": "#2a3f5f",
           "arrowhead": 0,
           "arrowwidth": 1
          },
          "autotypenumbers": "strict",
          "coloraxis": {
           "colorbar": {
            "outlinewidth": 0,
            "ticks": ""
           }
          },
          "colorscale": {
           "diverging": [
            [
             0,
             "#8e0152"
            ],
            [
             0.1,
             "#c51b7d"
            ],
            [
             0.2,
             "#de77ae"
            ],
            [
             0.3,
             "#f1b6da"
            ],
            [
             0.4,
             "#fde0ef"
            ],
            [
             0.5,
             "#f7f7f7"
            ],
            [
             0.6,
             "#e6f5d0"
            ],
            [
             0.7,
             "#b8e186"
            ],
            [
             0.8,
             "#7fbc41"
            ],
            [
             0.9,
             "#4d9221"
            ],
            [
             1,
             "#276419"
            ]
           ],
           "sequential": [
            [
             0,
             "#0d0887"
            ],
            [
             0.1111111111111111,
             "#46039f"
            ],
            [
             0.2222222222222222,
             "#7201a8"
            ],
            [
             0.3333333333333333,
             "#9c179e"
            ],
            [
             0.4444444444444444,
             "#bd3786"
            ],
            [
             0.5555555555555556,
             "#d8576b"
            ],
            [
             0.6666666666666666,
             "#ed7953"
            ],
            [
             0.7777777777777778,
             "#fb9f3a"
            ],
            [
             0.8888888888888888,
             "#fdca26"
            ],
            [
             1,
             "#f0f921"
            ]
           ],
           "sequentialminus": [
            [
             0,
             "#0d0887"
            ],
            [
             0.1111111111111111,
             "#46039f"
            ],
            [
             0.2222222222222222,
             "#7201a8"
            ],
            [
             0.3333333333333333,
             "#9c179e"
            ],
            [
             0.4444444444444444,
             "#bd3786"
            ],
            [
             0.5555555555555556,
             "#d8576b"
            ],
            [
             0.6666666666666666,
             "#ed7953"
            ],
            [
             0.7777777777777778,
             "#fb9f3a"
            ],
            [
             0.8888888888888888,
             "#fdca26"
            ],
            [
             1,
             "#f0f921"
            ]
           ]
          },
          "colorway": [
           "#636efa",
           "#EF553B",
           "#00cc96",
           "#ab63fa",
           "#FFA15A",
           "#19d3f3",
           "#FF6692",
           "#B6E880",
           "#FF97FF",
           "#FECB52"
          ],
          "font": {
           "color": "#2a3f5f"
          },
          "geo": {
           "bgcolor": "white",
           "lakecolor": "white",
           "landcolor": "#E5ECF6",
           "showlakes": true,
           "showland": true,
           "subunitcolor": "white"
          },
          "hoverlabel": {
           "align": "left"
          },
          "hovermode": "closest",
          "mapbox": {
           "style": "light"
          },
          "paper_bgcolor": "white",
          "plot_bgcolor": "#E5ECF6",
          "polar": {
           "angularaxis": {
            "gridcolor": "white",
            "linecolor": "white",
            "ticks": ""
           },
           "bgcolor": "#E5ECF6",
           "radialaxis": {
            "gridcolor": "white",
            "linecolor": "white",
            "ticks": ""
           }
          },
          "scene": {
           "xaxis": {
            "backgroundcolor": "#E5ECF6",
            "gridcolor": "white",
            "gridwidth": 2,
            "linecolor": "white",
            "showbackground": true,
            "ticks": "",
            "zerolinecolor": "white"
           },
           "yaxis": {
            "backgroundcolor": "#E5ECF6",
            "gridcolor": "white",
            "gridwidth": 2,
            "linecolor": "white",
            "showbackground": true,
            "ticks": "",
            "zerolinecolor": "white"
           },
           "zaxis": {
            "backgroundcolor": "#E5ECF6",
            "gridcolor": "white",
            "gridwidth": 2,
            "linecolor": "white",
            "showbackground": true,
            "ticks": "",
            "zerolinecolor": "white"
           }
          },
          "shapedefaults": {
           "line": {
            "color": "#2a3f5f"
           }
          },
          "ternary": {
           "aaxis": {
            "gridcolor": "white",
            "linecolor": "white",
            "ticks": ""
           },
           "baxis": {
            "gridcolor": "white",
            "linecolor": "white",
            "ticks": ""
           },
           "bgcolor": "#E5ECF6",
           "caxis": {
            "gridcolor": "white",
            "linecolor": "white",
            "ticks": ""
           }
          },
          "title": {
           "x": 0.05
          },
          "xaxis": {
           "automargin": true,
           "gridcolor": "white",
           "linecolor": "white",
           "ticks": "",
           "title": {
            "standoff": 15
           },
           "zerolinecolor": "white",
           "zerolinewidth": 2
          },
          "yaxis": {
           "automargin": true,
           "gridcolor": "white",
           "linecolor": "white",
           "ticks": "",
           "title": {
            "standoff": 15
           },
           "zerolinecolor": "white",
           "zerolinewidth": 2
          }
         }
        },
        "title": {
         "font": {
          "size": 22
         },
         "text": "Relative Execution Time for Intersection by Max Chunk Size ",
         "x": 0.5
        },
        "width": 1000,
        "xaxis": {
         "anchor": "y",
         "domain": [
          0,
          0.94
         ],
         "tickfont": {
          "size": 16
         },
         "title": {
          "text": ""
         }
        },
        "xaxis2": {
         "anchor": "y3",
         "domain": [
          0,
          0.94
         ],
         "tickfont": {
          "size": 16
         },
         "title": {
          "text": ""
         }
        },
        "xaxis3": {
         "anchor": "y5",
         "domain": [
          0,
          0.94
         ],
         "tickfont": {
          "size": 16
         },
         "title": {
          "text": ""
         }
        },
        "yaxis": {
         "anchor": "x",
         "domain": [
          0.7133333333333334,
          1
         ],
         "tickfont": {
          "size": 16
         },
         "title": {
          "text": ""
         },
         "type": "log"
        },
        "yaxis2": {
         "anchor": "x",
         "overlaying": "y",
         "side": "right",
         "tickfont": {
          "size": 16
         },
         "title": {
          "text": ""
         },
         "type": "log"
        },
        "yaxis3": {
         "anchor": "x2",
         "domain": [
          0.3566666666666667,
          0.6433333333333333
         ],
         "tickfont": {
          "size": 16
         },
         "title": {
          "text": ""
         },
         "type": "log"
        },
        "yaxis4": {
         "anchor": "x2",
         "overlaying": "y3",
         "side": "right",
         "tickfont": {
          "size": 16
         },
         "title": {
          "text": ""
         },
         "type": "log"
        },
        "yaxis5": {
         "anchor": "x3",
         "domain": [
          0,
          0.2866666666666667
         ],
         "tickfont": {
          "size": 16
         },
         "title": {
          "text": ""
         },
         "type": "log"
        },
        "yaxis6": {
         "anchor": "x3",
         "overlaying": "y5",
         "side": "right",
         "tickfont": {
          "size": 16
         },
         "title": {
          "text": ""
         },
         "type": "log"
        }
       }
      }
     },
     "metadata": {},
     "output_type": "display_data"
    }
   ],
   "source": [
    "plot_max_delta_size_speed(max_deltas_filt_df, is_predicate=False, no_mixed=True, relative=True)"
   ]
  },
  {
   "attachments": {},
   "cell_type": "markdown",
   "metadata": {},
   "source": [
    "#### Dataset Stats Collection"
   ]
  },
  {
   "cell_type": "code",
   "execution_count": 651,
   "metadata": {},
   "outputs": [],
   "source": [
    "if not USE_EXISTING_DF:\n",
    "    stats_df = pd.DataFrame(columns=['decomp', 'nbr_recieved_chks', 'nbr_total_chks', 'total_time', \"sizes\", \"context\", \"delta_size\", \"predicate\", \"dataset_idx\", \"baseline\", \"dataset\"])\n",
    "    for dataset in datasets:\n",
    "        dataset, _, dataset_name = dataset\n",
    "        np.random.seed(2021)\n",
    "        indicies = np.random.choice(len(dataset), size=len(dataset)) \n",
    "        dataset = np.array(dataset)[indicies] \n",
    "        for idx, (g1, g2) in enumerate(tqdm(dataset)):\n",
    "            if g1.geom_type == \"Point\" or g2.geom_type == \"Point\":\n",
    "                continue\n",
    "            for baseline_on in [True, False]:\n",
    "                act_deact_baseline(activate=baseline_on)\n",
    "                evaluate_dataset(stats_df, delta_size=3 if not baseline_on else 100000, dataset_name=dataset_name, args=(idx, g1, g2)) # Second param: PLOT?\n",
    "        stats_df.to_csv(f'stats_df_{dataset_name}.csv', index=False)\n",
    "\n",
    "else:\n",
    "    country_stats_df = pd.read_csv('stats_df_Country Borders2.csv')\n",
    "    #country_stats_df['delta_size'] = country_max_deltas_df['delta_size'].replace(100000, 10000000)\n",
    "    china_stats_df = pd.read_csv('stats_df_China Water2.csv')\n",
    "    sweden_stats_df = pd.read_csv('stats_df_Sweden All2.csv')\n",
    "    lund_stats_df = pd.read_csv('stats_df_lund_data2.csv')\n",
    "\n",
    "    stats_df = pd.concat([\n",
    "        #china_stats_df, \n",
    "        #sweden_stats_df, \n",
    "        lund_stats_df, \n",
    "        #country_stats_df\n",
    "        ]\n",
    "    )\n"
   ]
  },
  {
   "cell_type": "markdown",
   "metadata": {},
   "source": [
    "#### Total Execution Time by Context"
   ]
  },
  {
   "attachments": {},
   "cell_type": "markdown",
   "metadata": {},
   "source": [
    "##### Bars"
   ]
  },
  {
   "cell_type": "code",
   "execution_count": 621,
   "metadata": {},
   "outputs": [],
   "source": [
    "def plot_total_time_bars_relative(df, is_predicate=False, size_cat_excl=[], log_scale=True):\n",
    "    df = df[(df['predicate'] == is_predicate)] #(df['sizes'].isin([\"Small/Small\", \"Medium/Medium\", \"Large/Large\"]))]\n",
    "\n",
    "    df = df.groupby(['context', 'baseline', 'sizes']).mean()\n",
    "    df.reset_index(inplace=True)\n",
    "    baseline_df = df[df['baseline']]\n",
    "    not_baseline_df = df[~df['baseline']]\n",
    "    baseline_df.sort_values(by=['context', 'sizes'])\n",
    "    not_baseline_df.sort_values(by=['context', 'sizes'])\n",
    "    not_baseline_df['total_time_ratio'] = not_baseline_df['total_time'].values / baseline_df['total_time'].values\n",
    "    df = not_baseline_df\n",
    "\n",
    "\n",
    "\n",
    "    df.loc[~df['baseline'], 'decomp_ratio'] = df.loc[~df['baseline'], 'total_time_ratio'] *  df.loc[~df['baseline'], 'decomp'] / df.loc[~df['baseline'], 'total_time']    \n",
    "    df['total_time_ratio'] = df.loc[~df['baseline'], 'total_time_ratio'] - df.loc[~df['baseline'], 'decomp_ratio']\n",
    "    df = df[df['baseline'] == False]\n",
    "    intersection_formatting = \"Intersection\" if not is_predicate else \"Is_Intersection\"\n",
    "    df = pd.concat([df] * 2, ignore_index=True)\n",
    "\n",
    "    new_column_values = ([\"Decompression\"] * (len(df) // 2))\n",
    "    new_column_values.extend(([\"Intersection\"] * (len(df) // 2)))\n",
    "\n",
    "    df['Stage'] = new_column_values\n",
    "    df['time'] = df.apply(lambda x: x['decomp_ratio'] * 100 if x[\"Stage\"] == \"Decompression\" else x['total_time_ratio'] * 100, axis=1)\n",
    "    df = df[['time', 'context', 'sizes', 'Stage']]\n",
    "    fig = px.bar(df, \n",
    "                       x=\"context\", \n",
    "                       y=\"time\", \n",
    "                       facet_col=\"sizes\", \n",
    "                       color=\"Stage\",\n",
    "                       barmode='group',\n",
    "                       log_y=log_scale, \n",
    "                       facet_col_spacing=0.1, \n",
    "                       title=f\"Execution Time for {intersection_formatting} in Different Contexts & Sizes\",\n",
    "                       labels=dict(sizes=\"Geometry Sizes\", context=\"Context\", baseline=\"Baseline\", Stage=\"Stage: \"),\n",
    "                       facet_col_wrap=3,\n",
    "                       facet_row_spacing=0.1,\n",
    "                       height=1000,\n",
    "                       width=1000,\n",
    "                       pattern_shape='Stage',\n",
    "                       color_discrete_map={\n",
    "                            'Decompression': 'rgb(169,234,184)',\n",
    "                            'Intersection': 'rgb(255,183,180)',\n",
    "                            'Country Borders': 'rgb(254,198,161)'\n",
    "                        }\n",
    "                       #text=\"time\"\n",
    "                       )\n",
    "    fig.update_annotations(font=dict(size=16))\n",
    "    make_general_facet_title(fig, \"Bounding Box Context\", \"Relative Mean Execution Time (%)\", barplot=True)\n",
    "    #fig.for_each_yaxis(lambda yaxis: yaxis.update(showticklabels=True))\n",
    "    fig.update_yaxes(matches=None, showticklabels=True,  tickfont=dict(size=16), range=[0,105])\n",
    "    fig.update_xaxes(tickfont=dict(size=16))\n",
    "    #fig.update_traces(texttemplate='%{text:.2}%', textposition='inside', textfont=dict(color='white'))\n",
    "\n",
    "    fig.update_layout(barmode=\"relative\",\n",
    "                      #title_x=0.5,\n",
    "                      width=1200, \n",
    "                      height=1000, \n",
    "                      legend=dict(\n",
    "                            yanchor=\"top\",\n",
    "                            y=1.15,\n",
    "                            xanchor=\"left\",\n",
    "                            x=0.83,\n",
    "                           #orientation=\"h\",\n",
    "                            font=dict(size=16),\n",
    "                        ),\n",
    "                        title=dict(\n",
    "                            text=f'Relative Mean Execution Time for Intersection in Different Contexts',\n",
    "                            \n",
    "                            font=dict(size=22)\n",
    "                            )\n",
    "                        )\n",
    "\n",
    "    for row in range(2):\n",
    "        for col in range(3):\n",
    "            fig.add_hline(y=100, line_dash=\"dot\", row=row, col=col)\n",
    "\n",
    "   \n",
    "    fig.show()\n"
   ]
  },
  {
   "cell_type": "code",
   "execution_count": 622,
   "metadata": {},
   "outputs": [
    {
     "data": {
      "application/vnd.plotly.v1+json": {
       "config": {
        "plotlyServerURL": "https://plot.ly"
       },
       "data": [
        {
         "alignmentgroup": "True",
         "hovertemplate": "Stage: =Decompression<br>Geometry Sizes=Small/Large<br>Context=%{x}<br>time=%{y}<extra></extra>",
         "legendgroup": "Decompression",
         "marker": {
          "color": "rgb(169,234,184)",
          "pattern": {
           "shape": ""
          }
         },
         "name": "Decompression",
         "offsetgroup": "Decompression",
         "orientation": "v",
         "showlegend": true,
         "textposition": "auto",
         "type": "bar",
         "x": [
          "Fully Inside Other (TRUE)",
          "Overlap (FALSE)",
          "Partial Overlap (TRUE)"
         ],
         "xaxis": "x4",
         "y": [
          26.69892133392551,
          12.731614842669764,
          22.694065075243575
         ],
         "yaxis": "y4"
        },
        {
         "alignmentgroup": "True",
         "hovertemplate": "Stage: =Decompression<br>Geometry Sizes=Small/Medium<br>Context=%{x}<br>time=%{y}<extra></extra>",
         "legendgroup": "Decompression",
         "marker": {
          "color": "rgb(169,234,184)",
          "pattern": {
           "shape": ""
          }
         },
         "name": "Decompression",
         "offsetgroup": "Decompression",
         "orientation": "v",
         "showlegend": false,
         "textposition": "auto",
         "type": "bar",
         "x": [
          "Fully Inside Other (TRUE)",
          "Overlap (FALSE)",
          "Partial Overlap (TRUE)"
         ],
         "xaxis": "x5",
         "y": [
          20.16737209963572,
          15.272211472080578,
          17.50116893795351
         ],
         "yaxis": "y5"
        },
        {
         "alignmentgroup": "True",
         "hovertemplate": "Stage: =Decompression<br>Geometry Sizes=Small/Small<br>Context=%{x}<br>time=%{y}<extra></extra>",
         "legendgroup": "Decompression",
         "marker": {
          "color": "rgb(169,234,184)",
          "pattern": {
           "shape": ""
          }
         },
         "name": "Decompression",
         "offsetgroup": "Decompression",
         "orientation": "v",
         "showlegend": false,
         "textposition": "auto",
         "type": "bar",
         "x": [
          "Fully Inside Other (TRUE)",
          "Overlap (FALSE)",
          "Partial Overlap (TRUE)"
         ],
         "xaxis": "x6",
         "y": [
          18.569221119442318,
          23.747713492208394,
          19.826837778887313
         ],
         "yaxis": "y6"
        },
        {
         "alignmentgroup": "True",
         "hovertemplate": "Stage: =Decompression<br>Geometry Sizes=Large/Large<br>Context=%{x}<br>time=%{y}<extra></extra>",
         "legendgroup": "Decompression",
         "marker": {
          "color": "rgb(169,234,184)",
          "pattern": {
           "shape": ""
          }
         },
         "name": "Decompression",
         "offsetgroup": "Decompression",
         "orientation": "v",
         "showlegend": false,
         "textposition": "auto",
         "type": "bar",
         "x": [
          "Overlap (FALSE)",
          "Partial Overlap (TRUE)"
         ],
         "xaxis": "x",
         "y": [
          17.272296955151344,
          9.327123156362273
         ],
         "yaxis": "y"
        },
        {
         "alignmentgroup": "True",
         "hovertemplate": "Stage: =Decompression<br>Geometry Sizes=Medium/Large<br>Context=%{x}<br>time=%{y}<extra></extra>",
         "legendgroup": "Decompression",
         "marker": {
          "color": "rgb(169,234,184)",
          "pattern": {
           "shape": ""
          }
         },
         "name": "Decompression",
         "offsetgroup": "Decompression",
         "orientation": "v",
         "showlegend": false,
         "textposition": "auto",
         "type": "bar",
         "x": [
          "Overlap (FALSE)",
          "Partial Overlap (TRUE)"
         ],
         "xaxis": "x2",
         "y": [
          13.296657172753276,
          15.853372523969272
         ],
         "yaxis": "y2"
        },
        {
         "alignmentgroup": "True",
         "hovertemplate": "Stage: =Decompression<br>Geometry Sizes=Medium/Medium<br>Context=%{x}<br>time=%{y}<extra></extra>",
         "legendgroup": "Decompression",
         "marker": {
          "color": "rgb(169,234,184)",
          "pattern": {
           "shape": ""
          }
         },
         "name": "Decompression",
         "offsetgroup": "Decompression",
         "orientation": "v",
         "showlegend": false,
         "textposition": "auto",
         "type": "bar",
         "x": [
          "Overlap (FALSE)",
          "Partial Overlap (TRUE)"
         ],
         "xaxis": "x3",
         "y": [
          17.0738863766822,
          16.90853560666087
         ],
         "yaxis": "y3"
        },
        {
         "alignmentgroup": "True",
         "hovertemplate": "Stage: =Intersection<br>Geometry Sizes=Small/Large<br>Context=%{x}<br>time=%{y}<extra></extra>",
         "legendgroup": "Intersection",
         "marker": {
          "color": "rgb(255,183,180)",
          "pattern": {
           "shape": "/"
          }
         },
         "name": "Intersection",
         "offsetgroup": "Intersection",
         "orientation": "v",
         "showlegend": true,
         "textposition": "auto",
         "type": "bar",
         "x": [
          "Fully Inside Other (TRUE)",
          "Overlap (FALSE)",
          "Partial Overlap (TRUE)"
         ],
         "xaxis": "x4",
         "y": [
          18.20651048553193,
          5.383212807585425,
          31.804216136193155
         ],
         "yaxis": "y4"
        },
        {
         "alignmentgroup": "True",
         "hovertemplate": "Stage: =Intersection<br>Geometry Sizes=Small/Medium<br>Context=%{x}<br>time=%{y}<extra></extra>",
         "legendgroup": "Intersection",
         "marker": {
          "color": "rgb(255,183,180)",
          "pattern": {
           "shape": "/"
          }
         },
         "name": "Intersection",
         "offsetgroup": "Intersection",
         "orientation": "v",
         "showlegend": false,
         "textposition": "auto",
         "type": "bar",
         "x": [
          "Fully Inside Other (TRUE)",
          "Overlap (FALSE)",
          "Partial Overlap (TRUE)"
         ],
         "xaxis": "x5",
         "y": [
          59.6555859795274,
          18.332274653872695,
          72.83256762975674
         ],
         "yaxis": "y5"
        },
        {
         "alignmentgroup": "True",
         "hovertemplate": "Stage: =Intersection<br>Geometry Sizes=Small/Small<br>Context=%{x}<br>time=%{y}<extra></extra>",
         "legendgroup": "Intersection",
         "marker": {
          "color": "rgb(255,183,180)",
          "pattern": {
           "shape": "/"
          }
         },
         "name": "Intersection",
         "offsetgroup": "Intersection",
         "orientation": "v",
         "showlegend": false,
         "textposition": "auto",
         "type": "bar",
         "x": [
          "Fully Inside Other (TRUE)",
          "Overlap (FALSE)",
          "Partial Overlap (TRUE)"
         ],
         "xaxis": "x6",
         "y": [
          89.93648103306158,
          37.98541545521253,
          91.60681093563
         ],
         "yaxis": "y6"
        },
        {
         "alignmentgroup": "True",
         "hovertemplate": "Stage: =Intersection<br>Geometry Sizes=Large/Large<br>Context=%{x}<br>time=%{y}<extra></extra>",
         "legendgroup": "Intersection",
         "marker": {
          "color": "rgb(255,183,180)",
          "pattern": {
           "shape": "/"
          }
         },
         "name": "Intersection",
         "offsetgroup": "Intersection",
         "orientation": "v",
         "showlegend": false,
         "textposition": "auto",
         "type": "bar",
         "x": [
          "Overlap (FALSE)",
          "Partial Overlap (TRUE)"
         ],
         "xaxis": "x",
         "y": [
          13.911464033816618,
          72.71151678273102
         ],
         "yaxis": "y"
        },
        {
         "alignmentgroup": "True",
         "hovertemplate": "Stage: =Intersection<br>Geometry Sizes=Medium/Large<br>Context=%{x}<br>time=%{y}<extra></extra>",
         "legendgroup": "Intersection",
         "marker": {
          "color": "rgb(255,183,180)",
          "pattern": {
           "shape": "/"
          }
         },
         "name": "Intersection",
         "offsetgroup": "Intersection",
         "orientation": "v",
         "showlegend": false,
         "textposition": "auto",
         "type": "bar",
         "x": [
          "Overlap (FALSE)",
          "Partial Overlap (TRUE)"
         ],
         "xaxis": "x2",
         "y": [
          10.523023298514635,
          77.06946436455246
         ],
         "yaxis": "y2"
        },
        {
         "alignmentgroup": "True",
         "hovertemplate": "Stage: =Intersection<br>Geometry Sizes=Medium/Medium<br>Context=%{x}<br>time=%{y}<extra></extra>",
         "legendgroup": "Intersection",
         "marker": {
          "color": "rgb(255,183,180)",
          "pattern": {
           "shape": "/"
          }
         },
         "name": "Intersection",
         "offsetgroup": "Intersection",
         "orientation": "v",
         "showlegend": false,
         "textposition": "auto",
         "type": "bar",
         "x": [
          "Overlap (FALSE)",
          "Partial Overlap (TRUE)"
         ],
         "xaxis": "x3",
         "y": [
          18.449374133286227,
          81.6753006155568
         ],
         "yaxis": "y3"
        }
       ],
       "layout": {
        "annotations": [
         {
          "font": {
           "size": 16
          },
          "showarrow": false,
          "text": "Geometry Sizes=Large/Large",
          "x": 0.13333333333333333,
          "xanchor": "center",
          "xref": "paper",
          "y": 0.45,
          "yanchor": "bottom",
          "yref": "paper"
         },
         {
          "font": {
           "size": 16
          },
          "showarrow": false,
          "text": "Geometry Sizes=Medium/Large",
          "x": 0.5,
          "xanchor": "center",
          "xref": "paper",
          "y": 0.45,
          "yanchor": "bottom",
          "yref": "paper"
         },
         {
          "font": {
           "size": 16
          },
          "showarrow": false,
          "text": "Geometry Sizes=Medium/Medium",
          "x": 0.8666666666666667,
          "xanchor": "center",
          "xref": "paper",
          "y": 0.45,
          "yanchor": "bottom",
          "yref": "paper"
         },
         {
          "font": {
           "size": 16
          },
          "showarrow": false,
          "text": "Geometry Sizes=Small/Large",
          "x": 0.13333333333333333,
          "xanchor": "center",
          "xref": "paper",
          "y": 1,
          "yanchor": "bottom",
          "yref": "paper"
         },
         {
          "font": {
           "size": 16
          },
          "showarrow": false,
          "text": "Geometry Sizes=Small/Medium",
          "x": 0.5,
          "xanchor": "center",
          "xref": "paper",
          "y": 1,
          "yanchor": "bottom",
          "yref": "paper"
         },
         {
          "font": {
           "size": 16
          },
          "showarrow": false,
          "text": "Geometry Sizes=Small/Small",
          "x": 0.8666666666666667,
          "xanchor": "center",
          "xref": "paper",
          "y": 1,
          "yanchor": "bottom",
          "yref": "paper"
         },
         {
          "font": {
           "size": 20
          },
          "showarrow": false,
          "text": "Bounding Box Context",
          "x": 0.5,
          "xanchor": "center",
          "xref": "paper",
          "y": -0.17,
          "yanchor": "top",
          "yref": "paper"
         },
         {
          "font": {
           "size": 20
          },
          "showarrow": false,
          "text": "Relative Mean Execution Time (%)",
          "textangle": -90,
          "x": -0.07,
          "xanchor": "center",
          "xref": "paper",
          "y": 0.5,
          "yanchor": "middle",
          "yref": "paper"
         }
        ],
        "barmode": "relative",
        "height": 1000,
        "legend": {
         "font": {
          "size": 16
         },
         "title": {
          "text": "Stage: "
         },
         "tracegroupgap": 0,
         "x": 0.83,
         "xanchor": "left",
         "y": 1.15,
         "yanchor": "top"
        },
        "shapes": [
         {
          "line": {
           "dash": "dot"
          },
          "type": "line",
          "x0": 0,
          "x1": 1,
          "xref": "x6 domain",
          "y0": 100,
          "y1": 100,
          "yref": "y6"
         },
         {
          "line": {
           "dash": "dot"
          },
          "type": "line",
          "x0": 0,
          "x1": 1,
          "xref": "x4 domain",
          "y0": 100,
          "y1": 100,
          "yref": "y4"
         },
         {
          "line": {
           "dash": "dot"
          },
          "type": "line",
          "x0": 0,
          "x1": 1,
          "xref": "x5 domain",
          "y0": 100,
          "y1": 100,
          "yref": "y5"
         },
         {
          "line": {
           "dash": "dot"
          },
          "type": "line",
          "x0": 0,
          "x1": 1,
          "xref": "x3 domain",
          "y0": 100,
          "y1": 100,
          "yref": "y3"
         },
         {
          "line": {
           "dash": "dot"
          },
          "type": "line",
          "x0": 0,
          "x1": 1,
          "xref": "x domain",
          "y0": 100,
          "y1": 100,
          "yref": "y"
         },
         {
          "line": {
           "dash": "dot"
          },
          "type": "line",
          "x0": 0,
          "x1": 1,
          "xref": "x2 domain",
          "y0": 100,
          "y1": 100,
          "yref": "y2"
         }
        ],
        "template": {
         "data": {
          "bar": [
           {
            "error_x": {
             "color": "#2a3f5f"
            },
            "error_y": {
             "color": "#2a3f5f"
            },
            "marker": {
             "line": {
              "color": "#E5ECF6",
              "width": 0.5
             },
             "pattern": {
              "fillmode": "overlay",
              "size": 10,
              "solidity": 0.2
             }
            },
            "type": "bar"
           }
          ],
          "barpolar": [
           {
            "marker": {
             "line": {
              "color": "#E5ECF6",
              "width": 0.5
             },
             "pattern": {
              "fillmode": "overlay",
              "size": 10,
              "solidity": 0.2
             }
            },
            "type": "barpolar"
           }
          ],
          "carpet": [
           {
            "aaxis": {
             "endlinecolor": "#2a3f5f",
             "gridcolor": "white",
             "linecolor": "white",
             "minorgridcolor": "white",
             "startlinecolor": "#2a3f5f"
            },
            "baxis": {
             "endlinecolor": "#2a3f5f",
             "gridcolor": "white",
             "linecolor": "white",
             "minorgridcolor": "white",
             "startlinecolor": "#2a3f5f"
            },
            "type": "carpet"
           }
          ],
          "choropleth": [
           {
            "colorbar": {
             "outlinewidth": 0,
             "ticks": ""
            },
            "type": "choropleth"
           }
          ],
          "contour": [
           {
            "colorbar": {
             "outlinewidth": 0,
             "ticks": ""
            },
            "colorscale": [
             [
              0,
              "#0d0887"
             ],
             [
              0.1111111111111111,
              "#46039f"
             ],
             [
              0.2222222222222222,
              "#7201a8"
             ],
             [
              0.3333333333333333,
              "#9c179e"
             ],
             [
              0.4444444444444444,
              "#bd3786"
             ],
             [
              0.5555555555555556,
              "#d8576b"
             ],
             [
              0.6666666666666666,
              "#ed7953"
             ],
             [
              0.7777777777777778,
              "#fb9f3a"
             ],
             [
              0.8888888888888888,
              "#fdca26"
             ],
             [
              1,
              "#f0f921"
             ]
            ],
            "type": "contour"
           }
          ],
          "contourcarpet": [
           {
            "colorbar": {
             "outlinewidth": 0,
             "ticks": ""
            },
            "type": "contourcarpet"
           }
          ],
          "heatmap": [
           {
            "colorbar": {
             "outlinewidth": 0,
             "ticks": ""
            },
            "colorscale": [
             [
              0,
              "#0d0887"
             ],
             [
              0.1111111111111111,
              "#46039f"
             ],
             [
              0.2222222222222222,
              "#7201a8"
             ],
             [
              0.3333333333333333,
              "#9c179e"
             ],
             [
              0.4444444444444444,
              "#bd3786"
             ],
             [
              0.5555555555555556,
              "#d8576b"
             ],
             [
              0.6666666666666666,
              "#ed7953"
             ],
             [
              0.7777777777777778,
              "#fb9f3a"
             ],
             [
              0.8888888888888888,
              "#fdca26"
             ],
             [
              1,
              "#f0f921"
             ]
            ],
            "type": "heatmap"
           }
          ],
          "heatmapgl": [
           {
            "colorbar": {
             "outlinewidth": 0,
             "ticks": ""
            },
            "colorscale": [
             [
              0,
              "#0d0887"
             ],
             [
              0.1111111111111111,
              "#46039f"
             ],
             [
              0.2222222222222222,
              "#7201a8"
             ],
             [
              0.3333333333333333,
              "#9c179e"
             ],
             [
              0.4444444444444444,
              "#bd3786"
             ],
             [
              0.5555555555555556,
              "#d8576b"
             ],
             [
              0.6666666666666666,
              "#ed7953"
             ],
             [
              0.7777777777777778,
              "#fb9f3a"
             ],
             [
              0.8888888888888888,
              "#fdca26"
             ],
             [
              1,
              "#f0f921"
             ]
            ],
            "type": "heatmapgl"
           }
          ],
          "histogram": [
           {
            "marker": {
             "pattern": {
              "fillmode": "overlay",
              "size": 10,
              "solidity": 0.2
             }
            },
            "type": "histogram"
           }
          ],
          "histogram2d": [
           {
            "colorbar": {
             "outlinewidth": 0,
             "ticks": ""
            },
            "colorscale": [
             [
              0,
              "#0d0887"
             ],
             [
              0.1111111111111111,
              "#46039f"
             ],
             [
              0.2222222222222222,
              "#7201a8"
             ],
             [
              0.3333333333333333,
              "#9c179e"
             ],
             [
              0.4444444444444444,
              "#bd3786"
             ],
             [
              0.5555555555555556,
              "#d8576b"
             ],
             [
              0.6666666666666666,
              "#ed7953"
             ],
             [
              0.7777777777777778,
              "#fb9f3a"
             ],
             [
              0.8888888888888888,
              "#fdca26"
             ],
             [
              1,
              "#f0f921"
             ]
            ],
            "type": "histogram2d"
           }
          ],
          "histogram2dcontour": [
           {
            "colorbar": {
             "outlinewidth": 0,
             "ticks": ""
            },
            "colorscale": [
             [
              0,
              "#0d0887"
             ],
             [
              0.1111111111111111,
              "#46039f"
             ],
             [
              0.2222222222222222,
              "#7201a8"
             ],
             [
              0.3333333333333333,
              "#9c179e"
             ],
             [
              0.4444444444444444,
              "#bd3786"
             ],
             [
              0.5555555555555556,
              "#d8576b"
             ],
             [
              0.6666666666666666,
              "#ed7953"
             ],
             [
              0.7777777777777778,
              "#fb9f3a"
             ],
             [
              0.8888888888888888,
              "#fdca26"
             ],
             [
              1,
              "#f0f921"
             ]
            ],
            "type": "histogram2dcontour"
           }
          ],
          "mesh3d": [
           {
            "colorbar": {
             "outlinewidth": 0,
             "ticks": ""
            },
            "type": "mesh3d"
           }
          ],
          "parcoords": [
           {
            "line": {
             "colorbar": {
              "outlinewidth": 0,
              "ticks": ""
             }
            },
            "type": "parcoords"
           }
          ],
          "pie": [
           {
            "automargin": true,
            "type": "pie"
           }
          ],
          "scatter": [
           {
            "fillpattern": {
             "fillmode": "overlay",
             "size": 10,
             "solidity": 0.2
            },
            "type": "scatter"
           }
          ],
          "scatter3d": [
           {
            "line": {
             "colorbar": {
              "outlinewidth": 0,
              "ticks": ""
             }
            },
            "marker": {
             "colorbar": {
              "outlinewidth": 0,
              "ticks": ""
             }
            },
            "type": "scatter3d"
           }
          ],
          "scattercarpet": [
           {
            "marker": {
             "colorbar": {
              "outlinewidth": 0,
              "ticks": ""
             }
            },
            "type": "scattercarpet"
           }
          ],
          "scattergeo": [
           {
            "marker": {
             "colorbar": {
              "outlinewidth": 0,
              "ticks": ""
             }
            },
            "type": "scattergeo"
           }
          ],
          "scattergl": [
           {
            "marker": {
             "colorbar": {
              "outlinewidth": 0,
              "ticks": ""
             }
            },
            "type": "scattergl"
           }
          ],
          "scattermapbox": [
           {
            "marker": {
             "colorbar": {
              "outlinewidth": 0,
              "ticks": ""
             }
            },
            "type": "scattermapbox"
           }
          ],
          "scatterpolar": [
           {
            "marker": {
             "colorbar": {
              "outlinewidth": 0,
              "ticks": ""
             }
            },
            "type": "scatterpolar"
           }
          ],
          "scatterpolargl": [
           {
            "marker": {
             "colorbar": {
              "outlinewidth": 0,
              "ticks": ""
             }
            },
            "type": "scatterpolargl"
           }
          ],
          "scatterternary": [
           {
            "marker": {
             "colorbar": {
              "outlinewidth": 0,
              "ticks": ""
             }
            },
            "type": "scatterternary"
           }
          ],
          "surface": [
           {
            "colorbar": {
             "outlinewidth": 0,
             "ticks": ""
            },
            "colorscale": [
             [
              0,
              "#0d0887"
             ],
             [
              0.1111111111111111,
              "#46039f"
             ],
             [
              0.2222222222222222,
              "#7201a8"
             ],
             [
              0.3333333333333333,
              "#9c179e"
             ],
             [
              0.4444444444444444,
              "#bd3786"
             ],
             [
              0.5555555555555556,
              "#d8576b"
             ],
             [
              0.6666666666666666,
              "#ed7953"
             ],
             [
              0.7777777777777778,
              "#fb9f3a"
             ],
             [
              0.8888888888888888,
              "#fdca26"
             ],
             [
              1,
              "#f0f921"
             ]
            ],
            "type": "surface"
           }
          ],
          "table": [
           {
            "cells": {
             "fill": {
              "color": "#EBF0F8"
             },
             "line": {
              "color": "white"
             }
            },
            "header": {
             "fill": {
              "color": "#C8D4E3"
             },
             "line": {
              "color": "white"
             }
            },
            "type": "table"
           }
          ]
         },
         "layout": {
          "annotationdefaults": {
           "arrowcolor": "#2a3f5f",
           "arrowhead": 0,
           "arrowwidth": 1
          },
          "autotypenumbers": "strict",
          "coloraxis": {
           "colorbar": {
            "outlinewidth": 0,
            "ticks": ""
           }
          },
          "colorscale": {
           "diverging": [
            [
             0,
             "#8e0152"
            ],
            [
             0.1,
             "#c51b7d"
            ],
            [
             0.2,
             "#de77ae"
            ],
            [
             0.3,
             "#f1b6da"
            ],
            [
             0.4,
             "#fde0ef"
            ],
            [
             0.5,
             "#f7f7f7"
            ],
            [
             0.6,
             "#e6f5d0"
            ],
            [
             0.7,
             "#b8e186"
            ],
            [
             0.8,
             "#7fbc41"
            ],
            [
             0.9,
             "#4d9221"
            ],
            [
             1,
             "#276419"
            ]
           ],
           "sequential": [
            [
             0,
             "#0d0887"
            ],
            [
             0.1111111111111111,
             "#46039f"
            ],
            [
             0.2222222222222222,
             "#7201a8"
            ],
            [
             0.3333333333333333,
             "#9c179e"
            ],
            [
             0.4444444444444444,
             "#bd3786"
            ],
            [
             0.5555555555555556,
             "#d8576b"
            ],
            [
             0.6666666666666666,
             "#ed7953"
            ],
            [
             0.7777777777777778,
             "#fb9f3a"
            ],
            [
             0.8888888888888888,
             "#fdca26"
            ],
            [
             1,
             "#f0f921"
            ]
           ],
           "sequentialminus": [
            [
             0,
             "#0d0887"
            ],
            [
             0.1111111111111111,
             "#46039f"
            ],
            [
             0.2222222222222222,
             "#7201a8"
            ],
            [
             0.3333333333333333,
             "#9c179e"
            ],
            [
             0.4444444444444444,
             "#bd3786"
            ],
            [
             0.5555555555555556,
             "#d8576b"
            ],
            [
             0.6666666666666666,
             "#ed7953"
            ],
            [
             0.7777777777777778,
             "#fb9f3a"
            ],
            [
             0.8888888888888888,
             "#fdca26"
            ],
            [
             1,
             "#f0f921"
            ]
           ]
          },
          "colorway": [
           "#636efa",
           "#EF553B",
           "#00cc96",
           "#ab63fa",
           "#FFA15A",
           "#19d3f3",
           "#FF6692",
           "#B6E880",
           "#FF97FF",
           "#FECB52"
          ],
          "font": {
           "color": "#2a3f5f"
          },
          "geo": {
           "bgcolor": "white",
           "lakecolor": "white",
           "landcolor": "#E5ECF6",
           "showlakes": true,
           "showland": true,
           "subunitcolor": "white"
          },
          "hoverlabel": {
           "align": "left"
          },
          "hovermode": "closest",
          "mapbox": {
           "style": "light"
          },
          "paper_bgcolor": "white",
          "plot_bgcolor": "#E5ECF6",
          "polar": {
           "angularaxis": {
            "gridcolor": "white",
            "linecolor": "white",
            "ticks": ""
           },
           "bgcolor": "#E5ECF6",
           "radialaxis": {
            "gridcolor": "white",
            "linecolor": "white",
            "ticks": ""
           }
          },
          "scene": {
           "xaxis": {
            "backgroundcolor": "#E5ECF6",
            "gridcolor": "white",
            "gridwidth": 2,
            "linecolor": "white",
            "showbackground": true,
            "ticks": "",
            "zerolinecolor": "white"
           },
           "yaxis": {
            "backgroundcolor": "#E5ECF6",
            "gridcolor": "white",
            "gridwidth": 2,
            "linecolor": "white",
            "showbackground": true,
            "ticks": "",
            "zerolinecolor": "white"
           },
           "zaxis": {
            "backgroundcolor": "#E5ECF6",
            "gridcolor": "white",
            "gridwidth": 2,
            "linecolor": "white",
            "showbackground": true,
            "ticks": "",
            "zerolinecolor": "white"
           }
          },
          "shapedefaults": {
           "line": {
            "color": "#2a3f5f"
           }
          },
          "ternary": {
           "aaxis": {
            "gridcolor": "white",
            "linecolor": "white",
            "ticks": ""
           },
           "baxis": {
            "gridcolor": "white",
            "linecolor": "white",
            "ticks": ""
           },
           "bgcolor": "#E5ECF6",
           "caxis": {
            "gridcolor": "white",
            "linecolor": "white",
            "ticks": ""
           }
          },
          "title": {
           "x": 0.05
          },
          "xaxis": {
           "automargin": true,
           "gridcolor": "white",
           "linecolor": "white",
           "ticks": "",
           "title": {
            "standoff": 15
           },
           "zerolinecolor": "white",
           "zerolinewidth": 2
          },
          "yaxis": {
           "automargin": true,
           "gridcolor": "white",
           "linecolor": "white",
           "ticks": "",
           "title": {
            "standoff": 15
           },
           "zerolinecolor": "white",
           "zerolinewidth": 2
          }
         }
        },
        "title": {
         "font": {
          "size": 22
         },
         "text": "Relative Mean Execution Time for Intersection in Different Contexts"
        },
        "width": 1200,
        "xaxis": {
         "anchor": "y",
         "domain": [
          0,
          0.26666666666666666
         ],
         "tickfont": {
          "size": 16
         },
         "title": {
          "text": ""
         }
        },
        "xaxis2": {
         "anchor": "y2",
         "domain": [
          0.3666666666666667,
          0.6333333333333333
         ],
         "matches": "x",
         "tickfont": {
          "size": 16
         },
         "title": {
          "text": ""
         }
        },
        "xaxis3": {
         "anchor": "y3",
         "domain": [
          0.7333333333333334,
          1
         ],
         "matches": "x",
         "tickfont": {
          "size": 16
         },
         "title": {
          "text": ""
         }
        },
        "xaxis4": {
         "anchor": "y4",
         "domain": [
          0,
          0.26666666666666666
         ],
         "matches": "x",
         "showticklabels": false,
         "tickfont": {
          "size": 16
         },
         "title": {
          "text": ""
         }
        },
        "xaxis5": {
         "anchor": "y5",
         "domain": [
          0.3666666666666667,
          0.6333333333333333
         ],
         "matches": "x",
         "showticklabels": false,
         "tickfont": {
          "size": 16
         },
         "title": {
          "text": ""
         }
        },
        "xaxis6": {
         "anchor": "y6",
         "domain": [
          0.7333333333333334,
          1
         ],
         "matches": "x",
         "showticklabels": false,
         "tickfont": {
          "size": 16
         },
         "title": {
          "text": ""
         }
        },
        "yaxis": {
         "anchor": "x",
         "domain": [
          0,
          0.45
         ],
         "range": [
          0,
          105
         ],
         "showticklabels": true,
         "tickfont": {
          "size": 16
         },
         "title": {
          "text": ""
         }
        },
        "yaxis2": {
         "anchor": "x2",
         "domain": [
          0,
          0.45
         ],
         "range": [
          0,
          105
         ],
         "showticklabels": true,
         "tickfont": {
          "size": 16
         },
         "title": {
          "text": ""
         }
        },
        "yaxis3": {
         "anchor": "x3",
         "domain": [
          0,
          0.45
         ],
         "range": [
          0,
          105
         ],
         "showticklabels": true,
         "tickfont": {
          "size": 16
         },
         "title": {
          "text": ""
         }
        },
        "yaxis4": {
         "anchor": "x4",
         "domain": [
          0.55,
          1
         ],
         "range": [
          0,
          105
         ],
         "showticklabels": true,
         "tickfont": {
          "size": 16
         },
         "title": {
          "text": ""
         }
        },
        "yaxis5": {
         "anchor": "x5",
         "domain": [
          0.55,
          1
         ],
         "range": [
          0,
          105
         ],
         "showticklabels": true,
         "tickfont": {
          "size": 16
         },
         "title": {
          "text": ""
         }
        },
        "yaxis6": {
         "anchor": "x6",
         "domain": [
          0.55,
          1
         ],
         "range": [
          0,
          105
         ],
         "showticklabels": true,
         "tickfont": {
          "size": 16
         },
         "title": {
          "text": ""
         }
        }
       }
      }
     },
     "metadata": {},
     "output_type": "display_data"
    }
   ],
   "source": [
    "total_time_df = stats_df[['context', 'total_time', 'sizes', 'baseline', 'predicate', 'decomp']]\n",
    "plot_total_time_bars_relative(total_time_df, is_predicate=False, size_cat_excl=[], log_scale=False) #"
   ]
  },
  {
   "cell_type": "code",
   "execution_count": 623,
   "metadata": {},
   "outputs": [],
   "source": [
    "def plot_total_time_bars(df, is_predicate=False, size_cat_excl=[], log_scale=True):\n",
    "    df = df[(df['predicate'] == is_predicate)] #(df['sizes'].isin([\"Small/Small\", \"Medium/Medium\", \"Large/Large\"]))]\n",
    "    df = df.groupby(['context', 'baseline', 'sizes']).mean()\n",
    "    df.reset_index(inplace=True)\n",
    "   \n",
    "    intersection_formatting = \"Intersection\" if not is_predicate else \"Is_Intersection\"\n",
    "    fig = px.histogram(df, \n",
    "                       x=\"context\", \n",
    "                       y=\"total_time\", \n",
    "                       facet_col=\"sizes\", \n",
    "                       color=\"baseline\",\n",
    "                       barmode='group',\n",
    "                       log_y=False, \n",
    "                       facet_col_spacing=0.1, \n",
    "                       histfunc=\"avg\", \n",
    "                       title=f\"Execution Time for {intersection_formatting} in Different Contexts & Sizes\",\n",
    "                       labels=dict(sizes=\"Geometry Sizes\", context=\"Context\", baseline=\"Baseline\", Stage=\"Stage: \"),\n",
    "                       facet_col_wrap=3,\n",
    "                       facet_row_spacing=0.1,\n",
    "                       height=1000,\n",
    "                       width=1000,\n",
    "                       color_discrete_map={\n",
    "                            True: 'rgb(169,234,184)',\n",
    "                            False: 'rgb(255,183,180)',\n",
    "                        }\n",
    "                       #text=\"time\"\n",
    "                       )\n",
    "    fig.update_annotations(font=dict(size=16))\n",
    "    make_general_facet_title(fig, \"Bounding Box Context\", \"Mean Execution Time (s)\", barplot=True)\n",
    "    #fig.for_each_yaxis(lambda yaxis: yaxis.update(showticklabels=True))\n",
    "    fig.update_yaxes(matches=None, showticklabels=True,  tickfont=dict(size=16))\n",
    "    fig.update_xaxes(tickfont=dict(size=16))\n",
    "    #fig.update_traces(texttemplate='%{text:.2}%', textposition='inside', textfont=dict(color='white'))\n",
    "\n",
    "    fig.update_layout(barmode=\"group\",\n",
    "                      #title_x=0.5,\n",
    "                      title_y=0.96,\n",
    "                      width=1200, \n",
    "                      height=1000, \n",
    "                      \n",
    "                      legend=dict(\n",
    "                            yanchor=\"top\",\n",
    "                            y=1.15,\n",
    "                            xanchor=\"left\",\n",
    "                            x=0.91,\n",
    "                           #orientation=\"h\",\n",
    "                            font=dict(size=16),\n",
    "                        ),\n",
    "                        title=dict(\n",
    "                            text=f'Mean Execution Time for Intersection in Different Contexts',\n",
    "                            \n",
    "                            font=dict(size=22)\n",
    "                            )\n",
    "                        )\n",
    "    \n",
    "\n",
    "   \n",
    "    fig.show()"
   ]
  },
  {
   "cell_type": "code",
   "execution_count": 624,
   "metadata": {},
   "outputs": [
    {
     "data": {
      "application/vnd.plotly.v1+json": {
       "config": {
        "plotlyServerURL": "https://plot.ly"
       },
       "data": [
        {
         "alignmentgroup": "True",
         "bingroup": "x",
         "histfunc": "avg",
         "hovertemplate": "Baseline=False<br>Geometry Sizes=Small/Large<br>Context=%{x}<br>avg of total_time=%{y}<extra></extra>",
         "legendgroup": "False",
         "marker": {
          "color": "rgb(255,183,180)",
          "pattern": {
           "shape": ""
          }
         },
         "name": "False",
         "offsetgroup": "False",
         "orientation": "v",
         "showlegend": true,
         "type": "histogram",
         "x": [
          "Fully Inside Other (TRUE)",
          "Overlap (FALSE)",
          "Partial Overlap (TRUE)"
         ],
         "xaxis": "x4",
         "y": [
          0.0027991330017288225,
          0.0007930750497525024,
          0.0024477629655669146
         ],
         "yaxis": "y4"
        },
        {
         "alignmentgroup": "True",
         "bingroup": "x",
         "histfunc": "avg",
         "hovertemplate": "Baseline=False<br>Geometry Sizes=Small/Medium<br>Context=%{x}<br>avg of total_time=%{y}<extra></extra>",
         "legendgroup": "False",
         "marker": {
          "color": "rgb(255,183,180)",
          "pattern": {
           "shape": ""
          }
         },
         "name": "False",
         "offsetgroup": "False",
         "orientation": "v",
         "showlegend": false,
         "type": "histogram",
         "x": [
          "Fully Inside Other (TRUE)",
          "Overlap (FALSE)",
          "Partial Overlap (TRUE)"
         ],
         "xaxis": "x5",
         "y": [
          0.0010669377753165618,
          0.0002976806516500653,
          0.0015457076773269188
         ],
         "yaxis": "y5"
        },
        {
         "alignmentgroup": "True",
         "bingroup": "x",
         "histfunc": "avg",
         "hovertemplate": "Baseline=False<br>Geometry Sizes=Small/Small<br>Context=%{x}<br>avg of total_time=%{y}<extra></extra>",
         "legendgroup": "False",
         "marker": {
          "color": "rgb(255,183,180)",
          "pattern": {
           "shape": ""
          }
         },
         "name": "False",
         "offsetgroup": "False",
         "orientation": "v",
         "showlegend": false,
         "type": "histogram",
         "x": [
          "Fully Inside Other (TRUE)",
          "Overlap (FALSE)",
          "Partial Overlap (TRUE)"
         ],
         "xaxis": "x6",
         "y": [
          0.0010401289940184957,
          0.0002860546865660091,
          0.000989328403980881
         ],
         "yaxis": "y6"
        },
        {
         "alignmentgroup": "True",
         "bingroup": "x",
         "histfunc": "avg",
         "hovertemplate": "Baseline=False<br>Geometry Sizes=Large/Large<br>Context=%{x}<br>avg of total_time=%{y}<extra></extra>",
         "legendgroup": "False",
         "marker": {
          "color": "rgb(255,183,180)",
          "pattern": {
           "shape": ""
          }
         },
         "name": "False",
         "offsetgroup": "False",
         "orientation": "v",
         "showlegend": false,
         "type": "histogram",
         "x": [
          "Overlap (FALSE)",
          "Partial Overlap (TRUE)"
         ],
         "xaxis": "x",
         "y": [
          0.0005859104955258334,
          0.012002616435185855
         ],
         "yaxis": "y"
        },
        {
         "alignmentgroup": "True",
         "bingroup": "x",
         "histfunc": "avg",
         "hovertemplate": "Baseline=False<br>Geometry Sizes=Medium/Large<br>Context=%{x}<br>avg of total_time=%{y}<extra></extra>",
         "legendgroup": "False",
         "marker": {
          "color": "rgb(255,183,180)",
          "pattern": {
           "shape": ""
          }
         },
         "name": "False",
         "offsetgroup": "False",
         "orientation": "v",
         "showlegend": false,
         "type": "histogram",
         "x": [
          "Overlap (FALSE)",
          "Partial Overlap (TRUE)"
         ],
         "xaxis": "x2",
         "y": [
          0.0006313014468601022,
          0.004277258815515421
         ],
         "yaxis": "y2"
        },
        {
         "alignmentgroup": "True",
         "bingroup": "x",
         "histfunc": "avg",
         "hovertemplate": "Baseline=False<br>Geometry Sizes=Medium/Medium<br>Context=%{x}<br>avg of total_time=%{y}<extra></extra>",
         "legendgroup": "False",
         "marker": {
          "color": "rgb(255,183,180)",
          "pattern": {
           "shape": ""
          }
         },
         "name": "False",
         "offsetgroup": "False",
         "orientation": "v",
         "showlegend": false,
         "type": "histogram",
         "x": [
          "Overlap (FALSE)",
          "Partial Overlap (TRUE)"
         ],
         "xaxis": "x3",
         "y": [
          0.0004628694824579842,
          0.0029556348543757
         ],
         "yaxis": "y3"
        },
        {
         "alignmentgroup": "True",
         "bingroup": "x",
         "histfunc": "avg",
         "hovertemplate": "Baseline=True<br>Geometry Sizes=Small/Large<br>Context=%{x}<br>avg of total_time=%{y}<extra></extra>",
         "legendgroup": "True",
         "marker": {
          "color": "rgb(169,234,184)",
          "pattern": {
           "shape": ""
          }
         },
         "name": "True",
         "offsetgroup": "True",
         "orientation": "v",
         "showlegend": true,
         "type": "histogram",
         "x": [
          "Fully Inside Other (TRUE)",
          "Overlap (FALSE)",
          "Partial Overlap (TRUE)"
         ],
         "xaxis": "x4",
         "y": [
          0.006233395133539197,
          0.004378043584319336,
          0.0044914498423727165
         ],
         "yaxis": "y4"
        },
        {
         "alignmentgroup": "True",
         "bingroup": "x",
         "histfunc": "avg",
         "hovertemplate": "Baseline=True<br>Geometry Sizes=Small/Medium<br>Context=%{x}<br>avg of total_time=%{y}<extra></extra>",
         "legendgroup": "True",
         "marker": {
          "color": "rgb(169,234,184)",
          "pattern": {
           "shape": ""
          }
         },
         "name": "True",
         "offsetgroup": "True",
         "orientation": "v",
         "showlegend": false,
         "type": "histogram",
         "x": [
          "Fully Inside Other (TRUE)",
          "Overlap (FALSE)",
          "Partial Overlap (TRUE)"
         ],
         "xaxis": "x5",
         "y": [
          0.0013366302139021754,
          0.0008858360474084498,
          0.0017111078718285092
         ],
         "yaxis": "y5"
        },
        {
         "alignmentgroup": "True",
         "bingroup": "x",
         "histfunc": "avg",
         "hovertemplate": "Baseline=True<br>Geometry Sizes=Small/Small<br>Context=%{x}<br>avg of total_time=%{y}<extra></extra>",
         "legendgroup": "True",
         "marker": {
          "color": "rgb(169,234,184)",
          "pattern": {
           "shape": ""
          }
         },
         "name": "True",
         "offsetgroup": "True",
         "orientation": "v",
         "showlegend": false,
         "type": "histogram",
         "x": [
          "Fully Inside Other (TRUE)",
          "Overlap (FALSE)",
          "Partial Overlap (TRUE)"
         ],
         "xaxis": "x6",
         "y": [
          0.0009585938557925763,
          0.00046337305664458767,
          0.0008878183702980495
         ],
         "yaxis": "y6"
        },
        {
         "alignmentgroup": "True",
         "bingroup": "x",
         "histfunc": "avg",
         "hovertemplate": "Baseline=True<br>Geometry Sizes=Large/Large<br>Context=%{x}<br>avg of total_time=%{y}<extra></extra>",
         "legendgroup": "True",
         "marker": {
          "color": "rgb(169,234,184)",
          "pattern": {
           "shape": ""
          }
         },
         "name": "True",
         "offsetgroup": "True",
         "orientation": "v",
         "showlegend": false,
         "type": "histogram",
         "x": [
          "Overlap (FALSE)",
          "Partial Overlap (TRUE)"
         ],
         "xaxis": "x",
         "y": [
          0.0018788961848864667,
          0.014630442976744588
         ],
         "yaxis": "y"
        },
        {
         "alignmentgroup": "True",
         "bingroup": "x",
         "histfunc": "avg",
         "hovertemplate": "Baseline=True<br>Geometry Sizes=Medium/Large<br>Context=%{x}<br>avg of total_time=%{y}<extra></extra>",
         "legendgroup": "True",
         "marker": {
          "color": "rgb(169,234,184)",
          "pattern": {
           "shape": ""
          }
         },
         "name": "True",
         "offsetgroup": "True",
         "orientation": "v",
         "showlegend": false,
         "type": "histogram",
         "x": [
          "Overlap (FALSE)",
          "Partial Overlap (TRUE)"
         ],
         "xaxis": "x2",
         "y": [
          0.002650335497243966,
          0.004603022205022421
         ],
         "yaxis": "y2"
        },
        {
         "alignmentgroup": "True",
         "bingroup": "x",
         "histfunc": "avg",
         "hovertemplate": "Baseline=True<br>Geometry Sizes=Medium/Medium<br>Context=%{x}<br>avg of total_time=%{y}<extra></extra>",
         "legendgroup": "True",
         "marker": {
          "color": "rgb(169,234,184)",
          "pattern": {
           "shape": ""
          }
         },
         "name": "True",
         "offsetgroup": "True",
         "orientation": "v",
         "showlegend": false,
         "type": "histogram",
         "x": [
          "Overlap (FALSE)",
          "Partial Overlap (TRUE)"
         ],
         "xaxis": "x3",
         "y": [
          0.0013030039354864262,
          0.002998092758039369
         ],
         "yaxis": "y3"
        }
       ],
       "layout": {
        "annotations": [
         {
          "font": {
           "size": 16
          },
          "showarrow": false,
          "text": "Geometry Sizes=Large/Large",
          "x": 0.13333333333333333,
          "xanchor": "center",
          "xref": "paper",
          "y": 0.45,
          "yanchor": "bottom",
          "yref": "paper"
         },
         {
          "font": {
           "size": 16
          },
          "showarrow": false,
          "text": "Geometry Sizes=Medium/Large",
          "x": 0.5,
          "xanchor": "center",
          "xref": "paper",
          "y": 0.45,
          "yanchor": "bottom",
          "yref": "paper"
         },
         {
          "font": {
           "size": 16
          },
          "showarrow": false,
          "text": "Geometry Sizes=Medium/Medium",
          "x": 0.8666666666666667,
          "xanchor": "center",
          "xref": "paper",
          "y": 0.45,
          "yanchor": "bottom",
          "yref": "paper"
         },
         {
          "font": {
           "size": 16
          },
          "showarrow": false,
          "text": "Geometry Sizes=Small/Large",
          "x": 0.13333333333333333,
          "xanchor": "center",
          "xref": "paper",
          "y": 1,
          "yanchor": "bottom",
          "yref": "paper"
         },
         {
          "font": {
           "size": 16
          },
          "showarrow": false,
          "text": "Geometry Sizes=Small/Medium",
          "x": 0.5,
          "xanchor": "center",
          "xref": "paper",
          "y": 1,
          "yanchor": "bottom",
          "yref": "paper"
         },
         {
          "font": {
           "size": 16
          },
          "showarrow": false,
          "text": "Geometry Sizes=Small/Small",
          "x": 0.8666666666666667,
          "xanchor": "center",
          "xref": "paper",
          "y": 1,
          "yanchor": "bottom",
          "yref": "paper"
         },
         {
          "font": {
           "size": 20
          },
          "showarrow": false,
          "text": "Bounding Box Context",
          "x": 0.5,
          "xanchor": "center",
          "xref": "paper",
          "y": -0.17,
          "yanchor": "top",
          "yref": "paper"
         },
         {
          "font": {
           "size": 20
          },
          "showarrow": false,
          "text": "Mean Execution Time (s)",
          "textangle": -90,
          "x": -0.07,
          "xanchor": "center",
          "xref": "paper",
          "y": 0.5,
          "yanchor": "middle",
          "yref": "paper"
         }
        ],
        "barmode": "group",
        "height": 1000,
        "legend": {
         "font": {
          "size": 16
         },
         "title": {
          "text": "Baseline"
         },
         "tracegroupgap": 0,
         "x": 0.91,
         "xanchor": "left",
         "y": 1.15,
         "yanchor": "top"
        },
        "template": {
         "data": {
          "bar": [
           {
            "error_x": {
             "color": "#2a3f5f"
            },
            "error_y": {
             "color": "#2a3f5f"
            },
            "marker": {
             "line": {
              "color": "#E5ECF6",
              "width": 0.5
             },
             "pattern": {
              "fillmode": "overlay",
              "size": 10,
              "solidity": 0.2
             }
            },
            "type": "bar"
           }
          ],
          "barpolar": [
           {
            "marker": {
             "line": {
              "color": "#E5ECF6",
              "width": 0.5
             },
             "pattern": {
              "fillmode": "overlay",
              "size": 10,
              "solidity": 0.2
             }
            },
            "type": "barpolar"
           }
          ],
          "carpet": [
           {
            "aaxis": {
             "endlinecolor": "#2a3f5f",
             "gridcolor": "white",
             "linecolor": "white",
             "minorgridcolor": "white",
             "startlinecolor": "#2a3f5f"
            },
            "baxis": {
             "endlinecolor": "#2a3f5f",
             "gridcolor": "white",
             "linecolor": "white",
             "minorgridcolor": "white",
             "startlinecolor": "#2a3f5f"
            },
            "type": "carpet"
           }
          ],
          "choropleth": [
           {
            "colorbar": {
             "outlinewidth": 0,
             "ticks": ""
            },
            "type": "choropleth"
           }
          ],
          "contour": [
           {
            "colorbar": {
             "outlinewidth": 0,
             "ticks": ""
            },
            "colorscale": [
             [
              0,
              "#0d0887"
             ],
             [
              0.1111111111111111,
              "#46039f"
             ],
             [
              0.2222222222222222,
              "#7201a8"
             ],
             [
              0.3333333333333333,
              "#9c179e"
             ],
             [
              0.4444444444444444,
              "#bd3786"
             ],
             [
              0.5555555555555556,
              "#d8576b"
             ],
             [
              0.6666666666666666,
              "#ed7953"
             ],
             [
              0.7777777777777778,
              "#fb9f3a"
             ],
             [
              0.8888888888888888,
              "#fdca26"
             ],
             [
              1,
              "#f0f921"
             ]
            ],
            "type": "contour"
           }
          ],
          "contourcarpet": [
           {
            "colorbar": {
             "outlinewidth": 0,
             "ticks": ""
            },
            "type": "contourcarpet"
           }
          ],
          "heatmap": [
           {
            "colorbar": {
             "outlinewidth": 0,
             "ticks": ""
            },
            "colorscale": [
             [
              0,
              "#0d0887"
             ],
             [
              0.1111111111111111,
              "#46039f"
             ],
             [
              0.2222222222222222,
              "#7201a8"
             ],
             [
              0.3333333333333333,
              "#9c179e"
             ],
             [
              0.4444444444444444,
              "#bd3786"
             ],
             [
              0.5555555555555556,
              "#d8576b"
             ],
             [
              0.6666666666666666,
              "#ed7953"
             ],
             [
              0.7777777777777778,
              "#fb9f3a"
             ],
             [
              0.8888888888888888,
              "#fdca26"
             ],
             [
              1,
              "#f0f921"
             ]
            ],
            "type": "heatmap"
           }
          ],
          "heatmapgl": [
           {
            "colorbar": {
             "outlinewidth": 0,
             "ticks": ""
            },
            "colorscale": [
             [
              0,
              "#0d0887"
             ],
             [
              0.1111111111111111,
              "#46039f"
             ],
             [
              0.2222222222222222,
              "#7201a8"
             ],
             [
              0.3333333333333333,
              "#9c179e"
             ],
             [
              0.4444444444444444,
              "#bd3786"
             ],
             [
              0.5555555555555556,
              "#d8576b"
             ],
             [
              0.6666666666666666,
              "#ed7953"
             ],
             [
              0.7777777777777778,
              "#fb9f3a"
             ],
             [
              0.8888888888888888,
              "#fdca26"
             ],
             [
              1,
              "#f0f921"
             ]
            ],
            "type": "heatmapgl"
           }
          ],
          "histogram": [
           {
            "marker": {
             "pattern": {
              "fillmode": "overlay",
              "size": 10,
              "solidity": 0.2
             }
            },
            "type": "histogram"
           }
          ],
          "histogram2d": [
           {
            "colorbar": {
             "outlinewidth": 0,
             "ticks": ""
            },
            "colorscale": [
             [
              0,
              "#0d0887"
             ],
             [
              0.1111111111111111,
              "#46039f"
             ],
             [
              0.2222222222222222,
              "#7201a8"
             ],
             [
              0.3333333333333333,
              "#9c179e"
             ],
             [
              0.4444444444444444,
              "#bd3786"
             ],
             [
              0.5555555555555556,
              "#d8576b"
             ],
             [
              0.6666666666666666,
              "#ed7953"
             ],
             [
              0.7777777777777778,
              "#fb9f3a"
             ],
             [
              0.8888888888888888,
              "#fdca26"
             ],
             [
              1,
              "#f0f921"
             ]
            ],
            "type": "histogram2d"
           }
          ],
          "histogram2dcontour": [
           {
            "colorbar": {
             "outlinewidth": 0,
             "ticks": ""
            },
            "colorscale": [
             [
              0,
              "#0d0887"
             ],
             [
              0.1111111111111111,
              "#46039f"
             ],
             [
              0.2222222222222222,
              "#7201a8"
             ],
             [
              0.3333333333333333,
              "#9c179e"
             ],
             [
              0.4444444444444444,
              "#bd3786"
             ],
             [
              0.5555555555555556,
              "#d8576b"
             ],
             [
              0.6666666666666666,
              "#ed7953"
             ],
             [
              0.7777777777777778,
              "#fb9f3a"
             ],
             [
              0.8888888888888888,
              "#fdca26"
             ],
             [
              1,
              "#f0f921"
             ]
            ],
            "type": "histogram2dcontour"
           }
          ],
          "mesh3d": [
           {
            "colorbar": {
             "outlinewidth": 0,
             "ticks": ""
            },
            "type": "mesh3d"
           }
          ],
          "parcoords": [
           {
            "line": {
             "colorbar": {
              "outlinewidth": 0,
              "ticks": ""
             }
            },
            "type": "parcoords"
           }
          ],
          "pie": [
           {
            "automargin": true,
            "type": "pie"
           }
          ],
          "scatter": [
           {
            "fillpattern": {
             "fillmode": "overlay",
             "size": 10,
             "solidity": 0.2
            },
            "type": "scatter"
           }
          ],
          "scatter3d": [
           {
            "line": {
             "colorbar": {
              "outlinewidth": 0,
              "ticks": ""
             }
            },
            "marker": {
             "colorbar": {
              "outlinewidth": 0,
              "ticks": ""
             }
            },
            "type": "scatter3d"
           }
          ],
          "scattercarpet": [
           {
            "marker": {
             "colorbar": {
              "outlinewidth": 0,
              "ticks": ""
             }
            },
            "type": "scattercarpet"
           }
          ],
          "scattergeo": [
           {
            "marker": {
             "colorbar": {
              "outlinewidth": 0,
              "ticks": ""
             }
            },
            "type": "scattergeo"
           }
          ],
          "scattergl": [
           {
            "marker": {
             "colorbar": {
              "outlinewidth": 0,
              "ticks": ""
             }
            },
            "type": "scattergl"
           }
          ],
          "scattermapbox": [
           {
            "marker": {
             "colorbar": {
              "outlinewidth": 0,
              "ticks": ""
             }
            },
            "type": "scattermapbox"
           }
          ],
          "scatterpolar": [
           {
            "marker": {
             "colorbar": {
              "outlinewidth": 0,
              "ticks": ""
             }
            },
            "type": "scatterpolar"
           }
          ],
          "scatterpolargl": [
           {
            "marker": {
             "colorbar": {
              "outlinewidth": 0,
              "ticks": ""
             }
            },
            "type": "scatterpolargl"
           }
          ],
          "scatterternary": [
           {
            "marker": {
             "colorbar": {
              "outlinewidth": 0,
              "ticks": ""
             }
            },
            "type": "scatterternary"
           }
          ],
          "surface": [
           {
            "colorbar": {
             "outlinewidth": 0,
             "ticks": ""
            },
            "colorscale": [
             [
              0,
              "#0d0887"
             ],
             [
              0.1111111111111111,
              "#46039f"
             ],
             [
              0.2222222222222222,
              "#7201a8"
             ],
             [
              0.3333333333333333,
              "#9c179e"
             ],
             [
              0.4444444444444444,
              "#bd3786"
             ],
             [
              0.5555555555555556,
              "#d8576b"
             ],
             [
              0.6666666666666666,
              "#ed7953"
             ],
             [
              0.7777777777777778,
              "#fb9f3a"
             ],
             [
              0.8888888888888888,
              "#fdca26"
             ],
             [
              1,
              "#f0f921"
             ]
            ],
            "type": "surface"
           }
          ],
          "table": [
           {
            "cells": {
             "fill": {
              "color": "#EBF0F8"
             },
             "line": {
              "color": "white"
             }
            },
            "header": {
             "fill": {
              "color": "#C8D4E3"
             },
             "line": {
              "color": "white"
             }
            },
            "type": "table"
           }
          ]
         },
         "layout": {
          "annotationdefaults": {
           "arrowcolor": "#2a3f5f",
           "arrowhead": 0,
           "arrowwidth": 1
          },
          "autotypenumbers": "strict",
          "coloraxis": {
           "colorbar": {
            "outlinewidth": 0,
            "ticks": ""
           }
          },
          "colorscale": {
           "diverging": [
            [
             0,
             "#8e0152"
            ],
            [
             0.1,
             "#c51b7d"
            ],
            [
             0.2,
             "#de77ae"
            ],
            [
             0.3,
             "#f1b6da"
            ],
            [
             0.4,
             "#fde0ef"
            ],
            [
             0.5,
             "#f7f7f7"
            ],
            [
             0.6,
             "#e6f5d0"
            ],
            [
             0.7,
             "#b8e186"
            ],
            [
             0.8,
             "#7fbc41"
            ],
            [
             0.9,
             "#4d9221"
            ],
            [
             1,
             "#276419"
            ]
           ],
           "sequential": [
            [
             0,
             "#0d0887"
            ],
            [
             0.1111111111111111,
             "#46039f"
            ],
            [
             0.2222222222222222,
             "#7201a8"
            ],
            [
             0.3333333333333333,
             "#9c179e"
            ],
            [
             0.4444444444444444,
             "#bd3786"
            ],
            [
             0.5555555555555556,
             "#d8576b"
            ],
            [
             0.6666666666666666,
             "#ed7953"
            ],
            [
             0.7777777777777778,
             "#fb9f3a"
            ],
            [
             0.8888888888888888,
             "#fdca26"
            ],
            [
             1,
             "#f0f921"
            ]
           ],
           "sequentialminus": [
            [
             0,
             "#0d0887"
            ],
            [
             0.1111111111111111,
             "#46039f"
            ],
            [
             0.2222222222222222,
             "#7201a8"
            ],
            [
             0.3333333333333333,
             "#9c179e"
            ],
            [
             0.4444444444444444,
             "#bd3786"
            ],
            [
             0.5555555555555556,
             "#d8576b"
            ],
            [
             0.6666666666666666,
             "#ed7953"
            ],
            [
             0.7777777777777778,
             "#fb9f3a"
            ],
            [
             0.8888888888888888,
             "#fdca26"
            ],
            [
             1,
             "#f0f921"
            ]
           ]
          },
          "colorway": [
           "#636efa",
           "#EF553B",
           "#00cc96",
           "#ab63fa",
           "#FFA15A",
           "#19d3f3",
           "#FF6692",
           "#B6E880",
           "#FF97FF",
           "#FECB52"
          ],
          "font": {
           "color": "#2a3f5f"
          },
          "geo": {
           "bgcolor": "white",
           "lakecolor": "white",
           "landcolor": "#E5ECF6",
           "showlakes": true,
           "showland": true,
           "subunitcolor": "white"
          },
          "hoverlabel": {
           "align": "left"
          },
          "hovermode": "closest",
          "mapbox": {
           "style": "light"
          },
          "paper_bgcolor": "white",
          "plot_bgcolor": "#E5ECF6",
          "polar": {
           "angularaxis": {
            "gridcolor": "white",
            "linecolor": "white",
            "ticks": ""
           },
           "bgcolor": "#E5ECF6",
           "radialaxis": {
            "gridcolor": "white",
            "linecolor": "white",
            "ticks": ""
           }
          },
          "scene": {
           "xaxis": {
            "backgroundcolor": "#E5ECF6",
            "gridcolor": "white",
            "gridwidth": 2,
            "linecolor": "white",
            "showbackground": true,
            "ticks": "",
            "zerolinecolor": "white"
           },
           "yaxis": {
            "backgroundcolor": "#E5ECF6",
            "gridcolor": "white",
            "gridwidth": 2,
            "linecolor": "white",
            "showbackground": true,
            "ticks": "",
            "zerolinecolor": "white"
           },
           "zaxis": {
            "backgroundcolor": "#E5ECF6",
            "gridcolor": "white",
            "gridwidth": 2,
            "linecolor": "white",
            "showbackground": true,
            "ticks": "",
            "zerolinecolor": "white"
           }
          },
          "shapedefaults": {
           "line": {
            "color": "#2a3f5f"
           }
          },
          "ternary": {
           "aaxis": {
            "gridcolor": "white",
            "linecolor": "white",
            "ticks": ""
           },
           "baxis": {
            "gridcolor": "white",
            "linecolor": "white",
            "ticks": ""
           },
           "bgcolor": "#E5ECF6",
           "caxis": {
            "gridcolor": "white",
            "linecolor": "white",
            "ticks": ""
           }
          },
          "title": {
           "x": 0.05
          },
          "xaxis": {
           "automargin": true,
           "gridcolor": "white",
           "linecolor": "white",
           "ticks": "",
           "title": {
            "standoff": 15
           },
           "zerolinecolor": "white",
           "zerolinewidth": 2
          },
          "yaxis": {
           "automargin": true,
           "gridcolor": "white",
           "linecolor": "white",
           "ticks": "",
           "title": {
            "standoff": 15
           },
           "zerolinecolor": "white",
           "zerolinewidth": 2
          }
         }
        },
        "title": {
         "font": {
          "size": 22
         },
         "text": "Mean Execution Time for Intersection in Different Contexts",
         "y": 0.96
        },
        "width": 1200,
        "xaxis": {
         "anchor": "y",
         "domain": [
          0,
          0.26666666666666666
         ],
         "tickfont": {
          "size": 16
         },
         "title": {
          "text": ""
         }
        },
        "xaxis2": {
         "anchor": "y2",
         "domain": [
          0.3666666666666667,
          0.6333333333333333
         ],
         "matches": "x",
         "tickfont": {
          "size": 16
         },
         "title": {
          "text": ""
         }
        },
        "xaxis3": {
         "anchor": "y3",
         "domain": [
          0.7333333333333334,
          1
         ],
         "matches": "x",
         "tickfont": {
          "size": 16
         },
         "title": {
          "text": ""
         }
        },
        "xaxis4": {
         "anchor": "y4",
         "domain": [
          0,
          0.26666666666666666
         ],
         "matches": "x",
         "showticklabels": false,
         "tickfont": {
          "size": 16
         },
         "title": {
          "text": ""
         }
        },
        "xaxis5": {
         "anchor": "y5",
         "domain": [
          0.3666666666666667,
          0.6333333333333333
         ],
         "matches": "x",
         "showticklabels": false,
         "tickfont": {
          "size": 16
         },
         "title": {
          "text": ""
         }
        },
        "xaxis6": {
         "anchor": "y6",
         "domain": [
          0.7333333333333334,
          1
         ],
         "matches": "x",
         "showticklabels": false,
         "tickfont": {
          "size": 16
         },
         "title": {
          "text": ""
         }
        },
        "yaxis": {
         "anchor": "x",
         "domain": [
          0,
          0.45
         ],
         "showticklabels": true,
         "tickfont": {
          "size": 16
         },
         "title": {
          "text": ""
         }
        },
        "yaxis2": {
         "anchor": "x2",
         "domain": [
          0,
          0.45
         ],
         "showticklabels": true,
         "tickfont": {
          "size": 16
         },
         "title": {
          "text": ""
         }
        },
        "yaxis3": {
         "anchor": "x3",
         "domain": [
          0,
          0.45
         ],
         "showticklabels": true,
         "tickfont": {
          "size": 16
         },
         "title": {
          "text": ""
         }
        },
        "yaxis4": {
         "anchor": "x4",
         "domain": [
          0.55,
          1
         ],
         "showticklabels": true,
         "tickfont": {
          "size": 16
         },
         "title": {
          "text": ""
         }
        },
        "yaxis5": {
         "anchor": "x5",
         "domain": [
          0.55,
          1
         ],
         "showticklabels": true,
         "tickfont": {
          "size": 16
         },
         "title": {
          "text": ""
         }
        },
        "yaxis6": {
         "anchor": "x6",
         "domain": [
          0.55,
          1
         ],
         "showticklabels": true,
         "tickfont": {
          "size": 16
         },
         "title": {
          "text": ""
         }
        }
       }
      }
     },
     "metadata": {},
     "output_type": "display_data"
    }
   ],
   "source": [
    "total_time_df = stats_df[['context', 'total_time', 'sizes', 'baseline', 'predicate', 'decomp']]\n",
    "plot_total_time_bars(total_time_df, is_predicate=False, size_cat_excl=[], log_scale=False) #"
   ]
  },
  {
   "cell_type": "code",
   "execution_count": 625,
   "metadata": {},
   "outputs": [
    {
     "data": {
      "text/plain": [
       "context                    sizes        \n",
       "Fully Inside Other (TRUE)  Small/Large       0.610193\n",
       "                           Small/Medium      0.207671\n",
       "                           Small/Small       0.594810\n",
       "Overlap (FALSE)            Large/Large       0.015383\n",
       "                           Medium/Large      0.112809\n",
       "                           Medium/Medium     0.097426\n",
       "                           Small/Large       3.138136\n",
       "                           Small/Medium      7.127467\n",
       "                           Small/Small      74.579454\n",
       "Partial Overlap (TRUE)     Large/Large       0.023075\n",
       "                           Medium/Large      0.061532\n",
       "                           Medium/Medium     0.033330\n",
       "                           Small/Large       1.499845\n",
       "                           Small/Medium      1.353706\n",
       "                           Small/Small      11.565469\n",
       "Name: dataset, dtype: float64"
      ]
     },
     "metadata": {},
     "output_type": "display_data"
    }
   ],
   "source": [
    "def get_percentage_cases(df, is_predicate=False):\n",
    "    df = df[(df['predicate'] == is_predicate) & (df['baseline'] == False)] #(df['sizes'].isin([\"Small/Small\", \"Medium/Medium\", \"Large/Large\"]))]\n",
    "    df = df.groupby(['context', 'sizes']).count()\n",
    "    return df, sum(df['dataset'])\n",
    "df, cnt = get_percentage_cases(stats_df)\n",
    "df = 100 * df / (cnt* 98.99/100)\n",
    "display(df['dataset'])"
   ]
  },
  {
   "attachments": {},
   "cell_type": "markdown",
   "metadata": {},
   "source": [
    "#### Chunk Unfolding Analyzation"
   ]
  },
  {
   "cell_type": "code",
   "execution_count": 626,
   "metadata": {},
   "outputs": [],
   "source": [
    "chunk_unfolded_df = stats_df[['nbr_recieved_chks', 'nbr_total_chks','predicate','baseline', 'context', 'sizes']]\n",
    "chunk_unfolded_df[\"chk_fraction_unfolded\"] = chunk_unfolded_df[\"nbr_recieved_chks\"].div(chunk_unfolded_df.nbr_total_chks, axis=0) * 100"
   ]
  },
  {
   "cell_type": "code",
   "execution_count": 629,
   "metadata": {},
   "outputs": [],
   "source": [
    "def plot_chunk_unfolded_frac(df, is_predicate=False, is_baseline=False):\n",
    "    df = df[df['baseline'] == False]\n",
    "    #df[\"chk_fraction_unfolded\"] = df[\"nbr_recieved_chks\"].div(df.nbr_total_chks, axis=0) * 100\n",
    "    df = df[(df['predicate'] == is_predicate) & (df['sizes'].isin([\"Small/Small\", \"Medium/Medium\", \"Large/Large\"]))]\n",
    "    \n",
    "\n",
    "    df = df.groupby(['context', 'baseline', 'sizes']).mean()\n",
    "    df.reset_index(inplace=True)\n",
    "\n",
    "\n",
    "\n",
    "    intersection_format = \"Intersection\" if not is_predicate else \"IsIntersection\"\n",
    "\n",
    "    fig = px.bar(df, \n",
    "                       x=\"chk_fraction_unfolded\", \n",
    "                       y=\"context\", \n",
    "                       facet_row=\"sizes\", \n",
    "                       barmode='group',\n",
    "                       facet_col_spacing=0.1, \n",
    "                       title=f\"Fraction of Chunks Unfolded for {intersection_format}\",\n",
    "                       labels=dict(sizes=\"Geometry Sizes\", context=\"Context\", baseline=\"Baseline\", Stage=\"Stage: \"),\n",
    "                       facet_col_wrap=1,\n",
    "                       height=1000,\n",
    "                       width=1000,\n",
    "                       orientation=\"h\",\n",
    "                       text=\"chk_fraction_unfolded\",\n",
    "                       color_discrete_sequence=['rgb(255,183,180)']*len(df)\n",
    "                       )\n",
    "    \n",
    "    fig.update_annotations(font=dict(size=16))\n",
    "    fig.for_each_yaxis(lambda yaxis: yaxis.update(showticklabels=True))\n",
    "    fig.update_yaxes(showticklabels=True, visible=True,  tickfont=dict(size=16))\n",
    "    fig.update_xaxes(tickfont=dict(size=16))\n",
    "    fig.update_traces(texttemplate='%{text:.2f}%' , textposition='inside',textfont=dict(size=14))\n",
    "    fig.update_layout(barmode=\"relative\",\n",
    "                      title_x=0.5,\n",
    "                      width=1000, \n",
    "                      height=800, \n",
    "                      legend=dict(\n",
    "                            yanchor=\"top\",\n",
    "                            y=1,\n",
    "                            xanchor=\"left\",\n",
    "                            x=0.5,\n",
    "                            orientation=\"h\",\n",
    "                            font=dict(size=16)\n",
    "                        ),\n",
    "                        title=dict(\n",
    "                            text=f'Fraction of Chunks Unfolded for Intersection in Different Contexts and Geometry Sizes',\n",
    "                            x=0.5,\n",
    "                            font=dict(size=22)\n",
    "                            ),\n",
    "                        )\n",
    "\n",
    "    for axis in fig.layout:\n",
    "        if type(fig.layout[axis]) == objs.layout.XAxis:\n",
    "            fig.layout[axis].title.text = ''\n",
    "\n",
    "    for axis in fig.layout:\n",
    "        if type(fig.layout[axis]) == objs.layout.YAxis:\n",
    "            fig.layout[axis].title.text = '' \n",
    "\n",
    "    fig.for_each_annotation(lambda a: a.update(text=a.text.split(\"=\")[1].split(\"/\")[0]))\n",
    "    #fig.for_each_trace(lambda t: t.update(name=t.name.split(\"=\")[0]))\n",
    "    fig.add_annotation(\n",
    "    dict(\n",
    "        x=0.5,\n",
    "        y=-0.04,  # adjust as needed\n",
    "        showarrow=False,\n",
    "        text=\"Chunks Unfolded (%)\",\n",
    "        xref=\"paper\",\n",
    "        yref=\"paper\",\n",
    "        font=dict(size=20),\n",
    "        xanchor=\"center\", \n",
    "        yanchor=\"top\"\n",
    "    )\n",
    "    )\n",
    "\n",
    "    fig.add_annotation(\n",
    "    dict(\n",
    "        x=1.05,\n",
    "        y=0.62,  # adjust as needed\n",
    "        showarrow=False,\n",
    "        text=\"Geometry Size\",\n",
    "        xref=\"paper\",\n",
    "        yref=\"paper\",\n",
    "        textangle=90,\n",
    "        font=dict(size=20),\n",
    "        xanchor=\"center\", \n",
    "        yanchor=\"top\"\n",
    "    )\n",
    "    )\n",
    "\n",
    "    fig.add_annotation(\n",
    "    dict(\n",
    "        x=-0.35,  # adjust as needed\n",
    "        y=0.5,\n",
    "        showarrow=False,\n",
    "        text=\"Bounding Box Context\",\n",
    "        textangle=-90,\n",
    "        xref=\"paper\",\n",
    "        yref=\"paper\",\n",
    "        font=dict(size=20),\n",
    "        xanchor=\"center\",\n",
    "        yanchor=\"middle\"\n",
    "    ))\n",
    "   \n",
    "    fig.show()"
   ]
  },
  {
   "attachments": {},
   "cell_type": "markdown",
   "metadata": {},
   "source": [
    "## Results"
   ]
  },
  {
   "attachments": {},
   "cell_type": "markdown",
   "metadata": {},
   "source": [
    "#### Total time Analysis"
   ]
  },
  {
   "attachments": {},
   "cell_type": "markdown",
   "metadata": {},
   "source": [
    "#### (%) Unfolding of chunks"
   ]
  },
  {
   "cell_type": "code",
   "execution_count": 630,
   "metadata": {},
   "outputs": [
    {
     "data": {
      "application/vnd.plotly.v1+json": {
       "config": {
        "plotlyServerURL": "https://plot.ly"
       },
       "data": [
        {
         "alignmentgroup": "True",
         "hovertemplate": "Geometry Sizes=Small/Small<br>chk_fraction_unfolded=%{text}<br>Context=%{y}<extra></extra>",
         "legendgroup": "",
         "marker": {
          "color": "rgb(255,183,180)",
          "pattern": {
           "shape": ""
          }
         },
         "name": "",
         "offsetgroup": "",
         "orientation": "h",
         "showlegend": false,
         "text": [
          69.36964137395172,
          29.772798134367,
          67.92459433678056
         ],
         "textfont": {
          "size": 14
         },
         "textposition": "inside",
         "texttemplate": "%{text:.2f}%",
         "type": "bar",
         "x": [
          69.36964137395172,
          29.772798134367,
          67.92459433678056
         ],
         "xaxis": "x3",
         "y": [
          "Fully Inside Other (TRUE)",
          "Overlap (FALSE)",
          "Partial Overlap (TRUE)"
         ],
         "yaxis": "y3"
        },
        {
         "alignmentgroup": "True",
         "hovertemplate": "Geometry Sizes=Large/Large<br>chk_fraction_unfolded=%{text}<br>Context=%{y}<extra></extra>",
         "legendgroup": "",
         "marker": {
          "color": "rgb(255,183,180)",
          "pattern": {
           "shape": ""
          }
         },
         "name": "",
         "offsetgroup": "",
         "orientation": "h",
         "showlegend": false,
         "text": [
          3.8461538461538467,
          34.89109540653325
         ],
         "textfont": {
          "size": 14
         },
         "textposition": "inside",
         "texttemplate": "%{text:.2f}%",
         "type": "bar",
         "x": [
          3.8461538461538467,
          34.89109540653325
         ],
         "xaxis": "x2",
         "y": [
          "Overlap (FALSE)",
          "Partial Overlap (TRUE)"
         ],
         "yaxis": "y2"
        },
        {
         "alignmentgroup": "True",
         "hovertemplate": "Geometry Sizes=Medium/Medium<br>chk_fraction_unfolded=%{text}<br>Context=%{y}<extra></extra>",
         "legendgroup": "",
         "marker": {
          "color": "rgb(255,183,180)",
          "pattern": {
           "shape": ""
          }
         },
         "name": "",
         "offsetgroup": "",
         "orientation": "h",
         "showlegend": false,
         "text": [
          6.887815210070456,
          34.696993574995275
         ],
         "textfont": {
          "size": 14
         },
         "textposition": "inside",
         "texttemplate": "%{text:.2f}%",
         "type": "bar",
         "x": [
          6.887815210070456,
          34.696993574995275
         ],
         "xaxis": "x",
         "y": [
          "Overlap (FALSE)",
          "Partial Overlap (TRUE)"
         ],
         "yaxis": "y"
        }
       ],
       "layout": {
        "annotations": [
         {
          "font": {
           "size": 16
          },
          "showarrow": false,
          "text": "Medium",
          "textangle": 90,
          "x": 0.98,
          "xanchor": "left",
          "xref": "paper",
          "y": 0.15666666666666665,
          "yanchor": "middle",
          "yref": "paper"
         },
         {
          "font": {
           "size": 16
          },
          "showarrow": false,
          "text": "Large",
          "textangle": 90,
          "x": 0.98,
          "xanchor": "left",
          "xref": "paper",
          "y": 0.4999999999999999,
          "yanchor": "middle",
          "yref": "paper"
         },
         {
          "font": {
           "size": 16
          },
          "showarrow": false,
          "text": "Small",
          "textangle": 90,
          "x": 0.98,
          "xanchor": "left",
          "xref": "paper",
          "y": 0.8433333333333332,
          "yanchor": "middle",
          "yref": "paper"
         },
         {
          "font": {
           "size": 20
          },
          "showarrow": false,
          "text": "Chunks Unfolded (%)",
          "x": 0.5,
          "xanchor": "center",
          "xref": "paper",
          "y": -0.04,
          "yanchor": "top",
          "yref": "paper"
         },
         {
          "font": {
           "size": 20
          },
          "showarrow": false,
          "text": "Geometry Size",
          "textangle": 90,
          "x": 1.05,
          "xanchor": "center",
          "xref": "paper",
          "y": 0.62,
          "yanchor": "top",
          "yref": "paper"
         },
         {
          "font": {
           "size": 20
          },
          "showarrow": false,
          "text": "Bounding Box Context",
          "textangle": -90,
          "x": -0.35,
          "xanchor": "center",
          "xref": "paper",
          "y": 0.5,
          "yanchor": "middle",
          "yref": "paper"
         }
        ],
        "barmode": "relative",
        "height": 800,
        "legend": {
         "font": {
          "size": 16
         },
         "orientation": "h",
         "tracegroupgap": 0,
         "x": 0.5,
         "xanchor": "left",
         "y": 1,
         "yanchor": "top"
        },
        "template": {
         "data": {
          "bar": [
           {
            "error_x": {
             "color": "#2a3f5f"
            },
            "error_y": {
             "color": "#2a3f5f"
            },
            "marker": {
             "line": {
              "color": "#E5ECF6",
              "width": 0.5
             },
             "pattern": {
              "fillmode": "overlay",
              "size": 10,
              "solidity": 0.2
             }
            },
            "type": "bar"
           }
          ],
          "barpolar": [
           {
            "marker": {
             "line": {
              "color": "#E5ECF6",
              "width": 0.5
             },
             "pattern": {
              "fillmode": "overlay",
              "size": 10,
              "solidity": 0.2
             }
            },
            "type": "barpolar"
           }
          ],
          "carpet": [
           {
            "aaxis": {
             "endlinecolor": "#2a3f5f",
             "gridcolor": "white",
             "linecolor": "white",
             "minorgridcolor": "white",
             "startlinecolor": "#2a3f5f"
            },
            "baxis": {
             "endlinecolor": "#2a3f5f",
             "gridcolor": "white",
             "linecolor": "white",
             "minorgridcolor": "white",
             "startlinecolor": "#2a3f5f"
            },
            "type": "carpet"
           }
          ],
          "choropleth": [
           {
            "colorbar": {
             "outlinewidth": 0,
             "ticks": ""
            },
            "type": "choropleth"
           }
          ],
          "contour": [
           {
            "colorbar": {
             "outlinewidth": 0,
             "ticks": ""
            },
            "colorscale": [
             [
              0,
              "#0d0887"
             ],
             [
              0.1111111111111111,
              "#46039f"
             ],
             [
              0.2222222222222222,
              "#7201a8"
             ],
             [
              0.3333333333333333,
              "#9c179e"
             ],
             [
              0.4444444444444444,
              "#bd3786"
             ],
             [
              0.5555555555555556,
              "#d8576b"
             ],
             [
              0.6666666666666666,
              "#ed7953"
             ],
             [
              0.7777777777777778,
              "#fb9f3a"
             ],
             [
              0.8888888888888888,
              "#fdca26"
             ],
             [
              1,
              "#f0f921"
             ]
            ],
            "type": "contour"
           }
          ],
          "contourcarpet": [
           {
            "colorbar": {
             "outlinewidth": 0,
             "ticks": ""
            },
            "type": "contourcarpet"
           }
          ],
          "heatmap": [
           {
            "colorbar": {
             "outlinewidth": 0,
             "ticks": ""
            },
            "colorscale": [
             [
              0,
              "#0d0887"
             ],
             [
              0.1111111111111111,
              "#46039f"
             ],
             [
              0.2222222222222222,
              "#7201a8"
             ],
             [
              0.3333333333333333,
              "#9c179e"
             ],
             [
              0.4444444444444444,
              "#bd3786"
             ],
             [
              0.5555555555555556,
              "#d8576b"
             ],
             [
              0.6666666666666666,
              "#ed7953"
             ],
             [
              0.7777777777777778,
              "#fb9f3a"
             ],
             [
              0.8888888888888888,
              "#fdca26"
             ],
             [
              1,
              "#f0f921"
             ]
            ],
            "type": "heatmap"
           }
          ],
          "heatmapgl": [
           {
            "colorbar": {
             "outlinewidth": 0,
             "ticks": ""
            },
            "colorscale": [
             [
              0,
              "#0d0887"
             ],
             [
              0.1111111111111111,
              "#46039f"
             ],
             [
              0.2222222222222222,
              "#7201a8"
             ],
             [
              0.3333333333333333,
              "#9c179e"
             ],
             [
              0.4444444444444444,
              "#bd3786"
             ],
             [
              0.5555555555555556,
              "#d8576b"
             ],
             [
              0.6666666666666666,
              "#ed7953"
             ],
             [
              0.7777777777777778,
              "#fb9f3a"
             ],
             [
              0.8888888888888888,
              "#fdca26"
             ],
             [
              1,
              "#f0f921"
             ]
            ],
            "type": "heatmapgl"
           }
          ],
          "histogram": [
           {
            "marker": {
             "pattern": {
              "fillmode": "overlay",
              "size": 10,
              "solidity": 0.2
             }
            },
            "type": "histogram"
           }
          ],
          "histogram2d": [
           {
            "colorbar": {
             "outlinewidth": 0,
             "ticks": ""
            },
            "colorscale": [
             [
              0,
              "#0d0887"
             ],
             [
              0.1111111111111111,
              "#46039f"
             ],
             [
              0.2222222222222222,
              "#7201a8"
             ],
             [
              0.3333333333333333,
              "#9c179e"
             ],
             [
              0.4444444444444444,
              "#bd3786"
             ],
             [
              0.5555555555555556,
              "#d8576b"
             ],
             [
              0.6666666666666666,
              "#ed7953"
             ],
             [
              0.7777777777777778,
              "#fb9f3a"
             ],
             [
              0.8888888888888888,
              "#fdca26"
             ],
             [
              1,
              "#f0f921"
             ]
            ],
            "type": "histogram2d"
           }
          ],
          "histogram2dcontour": [
           {
            "colorbar": {
             "outlinewidth": 0,
             "ticks": ""
            },
            "colorscale": [
             [
              0,
              "#0d0887"
             ],
             [
              0.1111111111111111,
              "#46039f"
             ],
             [
              0.2222222222222222,
              "#7201a8"
             ],
             [
              0.3333333333333333,
              "#9c179e"
             ],
             [
              0.4444444444444444,
              "#bd3786"
             ],
             [
              0.5555555555555556,
              "#d8576b"
             ],
             [
              0.6666666666666666,
              "#ed7953"
             ],
             [
              0.7777777777777778,
              "#fb9f3a"
             ],
             [
              0.8888888888888888,
              "#fdca26"
             ],
             [
              1,
              "#f0f921"
             ]
            ],
            "type": "histogram2dcontour"
           }
          ],
          "mesh3d": [
           {
            "colorbar": {
             "outlinewidth": 0,
             "ticks": ""
            },
            "type": "mesh3d"
           }
          ],
          "parcoords": [
           {
            "line": {
             "colorbar": {
              "outlinewidth": 0,
              "ticks": ""
             }
            },
            "type": "parcoords"
           }
          ],
          "pie": [
           {
            "automargin": true,
            "type": "pie"
           }
          ],
          "scatter": [
           {
            "fillpattern": {
             "fillmode": "overlay",
             "size": 10,
             "solidity": 0.2
            },
            "type": "scatter"
           }
          ],
          "scatter3d": [
           {
            "line": {
             "colorbar": {
              "outlinewidth": 0,
              "ticks": ""
             }
            },
            "marker": {
             "colorbar": {
              "outlinewidth": 0,
              "ticks": ""
             }
            },
            "type": "scatter3d"
           }
          ],
          "scattercarpet": [
           {
            "marker": {
             "colorbar": {
              "outlinewidth": 0,
              "ticks": ""
             }
            },
            "type": "scattercarpet"
           }
          ],
          "scattergeo": [
           {
            "marker": {
             "colorbar": {
              "outlinewidth": 0,
              "ticks": ""
             }
            },
            "type": "scattergeo"
           }
          ],
          "scattergl": [
           {
            "marker": {
             "colorbar": {
              "outlinewidth": 0,
              "ticks": ""
             }
            },
            "type": "scattergl"
           }
          ],
          "scattermapbox": [
           {
            "marker": {
             "colorbar": {
              "outlinewidth": 0,
              "ticks": ""
             }
            },
            "type": "scattermapbox"
           }
          ],
          "scatterpolar": [
           {
            "marker": {
             "colorbar": {
              "outlinewidth": 0,
              "ticks": ""
             }
            },
            "type": "scatterpolar"
           }
          ],
          "scatterpolargl": [
           {
            "marker": {
             "colorbar": {
              "outlinewidth": 0,
              "ticks": ""
             }
            },
            "type": "scatterpolargl"
           }
          ],
          "scatterternary": [
           {
            "marker": {
             "colorbar": {
              "outlinewidth": 0,
              "ticks": ""
             }
            },
            "type": "scatterternary"
           }
          ],
          "surface": [
           {
            "colorbar": {
             "outlinewidth": 0,
             "ticks": ""
            },
            "colorscale": [
             [
              0,
              "#0d0887"
             ],
             [
              0.1111111111111111,
              "#46039f"
             ],
             [
              0.2222222222222222,
              "#7201a8"
             ],
             [
              0.3333333333333333,
              "#9c179e"
             ],
             [
              0.4444444444444444,
              "#bd3786"
             ],
             [
              0.5555555555555556,
              "#d8576b"
             ],
             [
              0.6666666666666666,
              "#ed7953"
             ],
             [
              0.7777777777777778,
              "#fb9f3a"
             ],
             [
              0.8888888888888888,
              "#fdca26"
             ],
             [
              1,
              "#f0f921"
             ]
            ],
            "type": "surface"
           }
          ],
          "table": [
           {
            "cells": {
             "fill": {
              "color": "#EBF0F8"
             },
             "line": {
              "color": "white"
             }
            },
            "header": {
             "fill": {
              "color": "#C8D4E3"
             },
             "line": {
              "color": "white"
             }
            },
            "type": "table"
           }
          ]
         },
         "layout": {
          "annotationdefaults": {
           "arrowcolor": "#2a3f5f",
           "arrowhead": 0,
           "arrowwidth": 1
          },
          "autotypenumbers": "strict",
          "coloraxis": {
           "colorbar": {
            "outlinewidth": 0,
            "ticks": ""
           }
          },
          "colorscale": {
           "diverging": [
            [
             0,
             "#8e0152"
            ],
            [
             0.1,
             "#c51b7d"
            ],
            [
             0.2,
             "#de77ae"
            ],
            [
             0.3,
             "#f1b6da"
            ],
            [
             0.4,
             "#fde0ef"
            ],
            [
             0.5,
             "#f7f7f7"
            ],
            [
             0.6,
             "#e6f5d0"
            ],
            [
             0.7,
             "#b8e186"
            ],
            [
             0.8,
             "#7fbc41"
            ],
            [
             0.9,
             "#4d9221"
            ],
            [
             1,
             "#276419"
            ]
           ],
           "sequential": [
            [
             0,
             "#0d0887"
            ],
            [
             0.1111111111111111,
             "#46039f"
            ],
            [
             0.2222222222222222,
             "#7201a8"
            ],
            [
             0.3333333333333333,
             "#9c179e"
            ],
            [
             0.4444444444444444,
             "#bd3786"
            ],
            [
             0.5555555555555556,
             "#d8576b"
            ],
            [
             0.6666666666666666,
             "#ed7953"
            ],
            [
             0.7777777777777778,
             "#fb9f3a"
            ],
            [
             0.8888888888888888,
             "#fdca26"
            ],
            [
             1,
             "#f0f921"
            ]
           ],
           "sequentialminus": [
            [
             0,
             "#0d0887"
            ],
            [
             0.1111111111111111,
             "#46039f"
            ],
            [
             0.2222222222222222,
             "#7201a8"
            ],
            [
             0.3333333333333333,
             "#9c179e"
            ],
            [
             0.4444444444444444,
             "#bd3786"
            ],
            [
             0.5555555555555556,
             "#d8576b"
            ],
            [
             0.6666666666666666,
             "#ed7953"
            ],
            [
             0.7777777777777778,
             "#fb9f3a"
            ],
            [
             0.8888888888888888,
             "#fdca26"
            ],
            [
             1,
             "#f0f921"
            ]
           ]
          },
          "colorway": [
           "#636efa",
           "#EF553B",
           "#00cc96",
           "#ab63fa",
           "#FFA15A",
           "#19d3f3",
           "#FF6692",
           "#B6E880",
           "#FF97FF",
           "#FECB52"
          ],
          "font": {
           "color": "#2a3f5f"
          },
          "geo": {
           "bgcolor": "white",
           "lakecolor": "white",
           "landcolor": "#E5ECF6",
           "showlakes": true,
           "showland": true,
           "subunitcolor": "white"
          },
          "hoverlabel": {
           "align": "left"
          },
          "hovermode": "closest",
          "mapbox": {
           "style": "light"
          },
          "paper_bgcolor": "white",
          "plot_bgcolor": "#E5ECF6",
          "polar": {
           "angularaxis": {
            "gridcolor": "white",
            "linecolor": "white",
            "ticks": ""
           },
           "bgcolor": "#E5ECF6",
           "radialaxis": {
            "gridcolor": "white",
            "linecolor": "white",
            "ticks": ""
           }
          },
          "scene": {
           "xaxis": {
            "backgroundcolor": "#E5ECF6",
            "gridcolor": "white",
            "gridwidth": 2,
            "linecolor": "white",
            "showbackground": true,
            "ticks": "",
            "zerolinecolor": "white"
           },
           "yaxis": {
            "backgroundcolor": "#E5ECF6",
            "gridcolor": "white",
            "gridwidth": 2,
            "linecolor": "white",
            "showbackground": true,
            "ticks": "",
            "zerolinecolor": "white"
           },
           "zaxis": {
            "backgroundcolor": "#E5ECF6",
            "gridcolor": "white",
            "gridwidth": 2,
            "linecolor": "white",
            "showbackground": true,
            "ticks": "",
            "zerolinecolor": "white"
           }
          },
          "shapedefaults": {
           "line": {
            "color": "#2a3f5f"
           }
          },
          "ternary": {
           "aaxis": {
            "gridcolor": "white",
            "linecolor": "white",
            "ticks": ""
           },
           "baxis": {
            "gridcolor": "white",
            "linecolor": "white",
            "ticks": ""
           },
           "bgcolor": "#E5ECF6",
           "caxis": {
            "gridcolor": "white",
            "linecolor": "white",
            "ticks": ""
           }
          },
          "title": {
           "x": 0.05
          },
          "xaxis": {
           "automargin": true,
           "gridcolor": "white",
           "linecolor": "white",
           "ticks": "",
           "title": {
            "standoff": 15
           },
           "zerolinecolor": "white",
           "zerolinewidth": 2
          },
          "yaxis": {
           "automargin": true,
           "gridcolor": "white",
           "linecolor": "white",
           "ticks": "",
           "title": {
            "standoff": 15
           },
           "zerolinecolor": "white",
           "zerolinewidth": 2
          }
         }
        },
        "title": {
         "font": {
          "size": 22
         },
         "text": "Fraction of Chunks Unfolded for Intersection in Different Contexts and Geometry Sizes",
         "x": 0.5
        },
        "width": 1000,
        "xaxis": {
         "anchor": "y",
         "domain": [
          0,
          0.98
         ],
         "tickfont": {
          "size": 16
         },
         "title": {
          "text": ""
         }
        },
        "xaxis2": {
         "anchor": "y2",
         "domain": [
          0,
          0.98
         ],
         "matches": "x",
         "showticklabels": false,
         "tickfont": {
          "size": 16
         },
         "title": {
          "text": ""
         }
        },
        "xaxis3": {
         "anchor": "y3",
         "domain": [
          0,
          0.98
         ],
         "matches": "x",
         "showticklabels": false,
         "tickfont": {
          "size": 16
         },
         "title": {
          "text": ""
         }
        },
        "yaxis": {
         "anchor": "x",
         "domain": [
          0,
          0.3133333333333333
         ],
         "showticklabels": true,
         "tickfont": {
          "size": 16
         },
         "title": {
          "text": ""
         },
         "visible": true
        },
        "yaxis2": {
         "anchor": "x2",
         "domain": [
          0.34333333333333327,
          0.6566666666666665
         ],
         "matches": "y",
         "showticklabels": true,
         "tickfont": {
          "size": 16
         },
         "title": {
          "text": ""
         },
         "visible": true
        },
        "yaxis3": {
         "anchor": "x3",
         "domain": [
          0.6866666666666665,
          0.9999999999999998
         ],
         "matches": "y",
         "showticklabels": true,
         "tickfont": {
          "size": 16
         },
         "title": {
          "text": ""
         },
         "visible": true
        }
       }
      }
     },
     "metadata": {},
     "output_type": "display_data"
    }
   ],
   "source": [
    "plot_chunk_unfolded_frac(chunk_unfolded_df, is_predicate=False, is_baseline=False)"
   ]
  },
  {
   "cell_type": "code",
   "execution_count": null,
   "metadata": {},
   "outputs": [
    {
     "ename": "KeyboardInterrupt",
     "evalue": "",
     "output_type": "error",
     "traceback": [
      "\u001b[0;31m---------------------------------------------------------------------------\u001b[0m",
      "\u001b[0;31mKeyboardInterrupt\u001b[0m                         Traceback (most recent call last)",
      "Cell \u001b[0;32mIn[492], line 20\u001b[0m\n\u001b[1;32m     17\u001b[0m     mins \u001b[39m=\u001b[39m df\u001b[39m.\u001b[39msort_values(by\u001b[39m=\u001b[39m\u001b[39m'\u001b[39m\u001b[39mtotal_time_ratio\u001b[39m\u001b[39m'\u001b[39m,ascending\u001b[39m=\u001b[39m\u001b[39mTrue\u001b[39;00m)\u001b[39m.\u001b[39mgroupby([\u001b[39m'\u001b[39m\u001b[39mcontext\u001b[39m\u001b[39m'\u001b[39m,\u001b[39m'\u001b[39m\u001b[39msizes\u001b[39m\u001b[39m'\u001b[39m])\u001b[39m.\u001b[39mhead(\u001b[39m1\u001b[39m)\n\u001b[1;32m     18\u001b[0m     \u001b[39mreturn\u001b[39;00m mins, maxes\n\u001b[0;32m---> 20\u001b[0m mins, maxes \u001b[39m=\u001b[39m get_max_min_relative_speed(stats_df)\n\u001b[1;32m     21\u001b[0m \u001b[39mprint\u001b[39m(\u001b[39m\"\u001b[39m\u001b[39m_______________________\u001b[39m\u001b[39m\\\u001b[39m\u001b[39mLowest relative speed by context and size\u001b[39m\u001b[39m\"\u001b[39m)\n\u001b[1;32m     22\u001b[0m display(mins)\n",
      "Cell \u001b[0;32mIn[492], line 12\u001b[0m, in \u001b[0;36mget_max_min_relative_speed\u001b[0;34m(df)\u001b[0m\n\u001b[1;32m      9\u001b[0m         \u001b[39mreturn\u001b[39;00m \u001b[39mNone\u001b[39;00m\n\u001b[1;32m     11\u001b[0m df \u001b[39m=\u001b[39m df[stats_df[\u001b[39m'\u001b[39m\u001b[39mpredicate\u001b[39m\u001b[39m'\u001b[39m] \u001b[39m==\u001b[39m \u001b[39mFalse\u001b[39;00m]\n\u001b[0;32m---> 12\u001b[0m df_relative \u001b[39m=\u001b[39m df\u001b[39m.\u001b[39;49mgroupby([\u001b[39m\"\u001b[39;49m\u001b[39mdataset_idx\u001b[39;49m\u001b[39m\"\u001b[39;49m, \u001b[39m\"\u001b[39;49m\u001b[39mdataset\u001b[39;49m\u001b[39m\"\u001b[39;49m])\u001b[39m.\u001b[39;49mapply(calculate_ratio)\n\u001b[1;32m     14\u001b[0m df \u001b[39m=\u001b[39m df[\u001b[39m~\u001b[39mdf[\u001b[39m'\u001b[39m\u001b[39mbaseline\u001b[39m\u001b[39m'\u001b[39m]]\n\u001b[1;32m     15\u001b[0m df[\u001b[39m'\u001b[39m\u001b[39mtotal_time_ratio\u001b[39m\u001b[39m'\u001b[39m] \u001b[39m=\u001b[39m df_relative\u001b[39m.\u001b[39mvalues\n",
      "File \u001b[0;32m/Library/Frameworks/Python.framework/Versions/3.11/lib/python3.11/site-packages/pandas/core/groupby/groupby.py:1353\u001b[0m, in \u001b[0;36mGroupBy.apply\u001b[0;34m(self, func, *args, **kwargs)\u001b[0m\n\u001b[1;32m   1351\u001b[0m \u001b[39mwith\u001b[39;00m option_context(\u001b[39m\"\u001b[39m\u001b[39mmode.chained_assignment\u001b[39m\u001b[39m\"\u001b[39m, \u001b[39mNone\u001b[39;00m):\n\u001b[1;32m   1352\u001b[0m     \u001b[39mtry\u001b[39;00m:\n\u001b[0;32m-> 1353\u001b[0m         result \u001b[39m=\u001b[39m \u001b[39mself\u001b[39;49m\u001b[39m.\u001b[39;49m_python_apply_general(f, \u001b[39mself\u001b[39;49m\u001b[39m.\u001b[39;49m_selected_obj)\n\u001b[1;32m   1354\u001b[0m     \u001b[39mexcept\u001b[39;00m \u001b[39mTypeError\u001b[39;00m:\n\u001b[1;32m   1355\u001b[0m         \u001b[39m# gh-20949\u001b[39;00m\n\u001b[1;32m   1356\u001b[0m         \u001b[39m# try again, with .apply acting as a filtering\u001b[39;00m\n\u001b[0;32m   (...)\u001b[0m\n\u001b[1;32m   1360\u001b[0m         \u001b[39m# fails on *some* columns, e.g. a numeric operation\u001b[39;00m\n\u001b[1;32m   1361\u001b[0m         \u001b[39m# on a string grouper column\u001b[39;00m\n\u001b[1;32m   1363\u001b[0m         \u001b[39mreturn\u001b[39;00m \u001b[39mself\u001b[39m\u001b[39m.\u001b[39m_python_apply_general(f, \u001b[39mself\u001b[39m\u001b[39m.\u001b[39m_obj_with_exclusions)\n",
      "File \u001b[0;32m/Library/Frameworks/Python.framework/Versions/3.11/lib/python3.11/site-packages/pandas/core/groupby/groupby.py:1402\u001b[0m, in \u001b[0;36mGroupBy._python_apply_general\u001b[0;34m(self, f, data, not_indexed_same, is_transform, is_agg)\u001b[0m\n\u001b[1;32m   1367\u001b[0m \u001b[39m@final\u001b[39m\n\u001b[1;32m   1368\u001b[0m \u001b[39mdef\u001b[39;00m \u001b[39m_python_apply_general\u001b[39m(\n\u001b[1;32m   1369\u001b[0m     \u001b[39mself\u001b[39m,\n\u001b[0;32m   (...)\u001b[0m\n\u001b[1;32m   1374\u001b[0m     is_agg: \u001b[39mbool\u001b[39m \u001b[39m=\u001b[39m \u001b[39mFalse\u001b[39;00m,\n\u001b[1;32m   1375\u001b[0m ) \u001b[39m-\u001b[39m\u001b[39m>\u001b[39m NDFrameT:\n\u001b[1;32m   1376\u001b[0m \u001b[39m    \u001b[39m\u001b[39m\"\"\"\u001b[39;00m\n\u001b[1;32m   1377\u001b[0m \u001b[39m    Apply function f in python space\u001b[39;00m\n\u001b[1;32m   1378\u001b[0m \n\u001b[0;32m   (...)\u001b[0m\n\u001b[1;32m   1400\u001b[0m \u001b[39m        data after applying f\u001b[39;00m\n\u001b[1;32m   1401\u001b[0m \u001b[39m    \"\"\"\u001b[39;00m\n\u001b[0;32m-> 1402\u001b[0m     values, mutated \u001b[39m=\u001b[39m \u001b[39mself\u001b[39;49m\u001b[39m.\u001b[39;49mgrouper\u001b[39m.\u001b[39;49mapply(f, data, \u001b[39mself\u001b[39;49m\u001b[39m.\u001b[39;49maxis)\n\u001b[1;32m   1403\u001b[0m     \u001b[39mif\u001b[39;00m not_indexed_same \u001b[39mis\u001b[39;00m \u001b[39mNone\u001b[39;00m:\n\u001b[1;32m   1404\u001b[0m         not_indexed_same \u001b[39m=\u001b[39m mutated\n",
      "File \u001b[0;32m/Library/Frameworks/Python.framework/Versions/3.11/lib/python3.11/site-packages/pandas/core/groupby/ops.py:770\u001b[0m, in \u001b[0;36mBaseGrouper.apply\u001b[0;34m(self, f, data, axis)\u001b[0m\n\u001b[1;32m    768\u001b[0m     \u001b[39mif\u001b[39;00m \u001b[39mnot\u001b[39;00m mutated \u001b[39mand\u001b[39;00m \u001b[39mnot\u001b[39;00m _is_indexed_like(res, group_axes, axis):\n\u001b[1;32m    769\u001b[0m         mutated \u001b[39m=\u001b[39m \u001b[39mTrue\u001b[39;00m\n\u001b[0;32m--> 770\u001b[0m     result_values\u001b[39m.\u001b[39mappend(res)\n\u001b[1;32m    771\u001b[0m \u001b[39m# getattr pattern for __name__ is needed for functools.partial objects\u001b[39;00m\n\u001b[1;32m    772\u001b[0m \u001b[39mif\u001b[39;00m \u001b[39mlen\u001b[39m(group_keys) \u001b[39m==\u001b[39m \u001b[39m0\u001b[39m \u001b[39mand\u001b[39;00m \u001b[39mgetattr\u001b[39m(f, \u001b[39m\"\u001b[39m\u001b[39m__name__\u001b[39m\u001b[39m\"\u001b[39m, \u001b[39mNone\u001b[39;00m) \u001b[39min\u001b[39;00m [\n\u001b[1;32m    773\u001b[0m     \u001b[39m\"\u001b[39m\u001b[39mskew\u001b[39m\u001b[39m\"\u001b[39m,\n\u001b[1;32m    774\u001b[0m     \u001b[39m\"\u001b[39m\u001b[39msum\u001b[39m\u001b[39m\"\u001b[39m,\n\u001b[0;32m   (...)\u001b[0m\n\u001b[1;32m    778\u001b[0m     \u001b[39m#  so we will not have raised even if this is an invalid dtype.\u001b[39;00m\n\u001b[1;32m    779\u001b[0m     \u001b[39m#  So do one dummy call here to raise appropriate TypeError.\u001b[39;00m\n",
      "\u001b[0;31mKeyboardInterrupt\u001b[0m: "
     ]
    }
   ],
   "source": [
    "def get_max_min_relative_speed(df):\n",
    "    def calculate_ratio(x):\n",
    "        base = x[x[\"baseline\"] == True]['total_time']\n",
    "        non_base = x[x[\"baseline\"] == False]['total_time']\n",
    "        if not base.empty and not non_base.empty:\n",
    "            val = non_base.iloc[0] / base.iloc[0]\n",
    "            return val\n",
    "        else:\n",
    "            return None\n",
    "\n",
    "    df = df[stats_df['predicate'] == False]\n",
    "    df_relative = df.groupby([\"dataset_idx\", \"dataset\"]).apply(calculate_ratio)\n",
    "\n",
    "    df = df[~df['baseline']]\n",
    "    df['total_time_ratio'] = df_relative.values\n",
    "    maxes = df.sort_values(by='total_time_ratio',ascending=False).groupby(['context','sizes']).head(1)\n",
    "    mins = df.sort_values(by='total_time_ratio',ascending=True).groupby(['context','sizes']).head(1)\n",
    "    return mins, maxes\n",
    "\n",
    "mins, maxes = get_max_min_relative_speed(stats_df)\n",
    "print(\"_______________________\\Lowest relative speed by context and size\")\n",
    "display(mins)\n",
    "print(\"_______________________\\nHighest relative speed by context and size\")\n",
    "\n",
    "display(maxes)\n"
   ]
  },
  {
   "cell_type": "code",
   "execution_count": null,
   "metadata": {},
   "outputs": [],
   "source": []
  }
 ],
 "metadata": {
  "kernelspec": {
   "display_name": "Python 3",
   "language": "python",
   "name": "python3"
  },
  "language_info": {
   "codemirror_mode": {
    "name": "ipython",
    "version": 3
   },
   "file_extension": ".py",
   "mimetype": "text/x-python",
   "name": "python",
   "nbconvert_exporter": "python",
   "pygments_lexer": "ipython3",
   "version": "3.11.1"
  },
  "orig_nbformat": 4,
  "vscode": {
   "interpreter": {
    "hash": "aee8b7b246df8f9039afb4144a1f6fd8d2ca17a180786b69acc140d282b71a49"
   }
  }
 },
 "nbformat": 4,
 "nbformat_minor": 2
}
