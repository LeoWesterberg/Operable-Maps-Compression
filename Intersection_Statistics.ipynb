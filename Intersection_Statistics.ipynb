{
 "cells": [
  {
   "attachments": {},
   "cell_type": "markdown",
   "metadata": {},
   "source": [
    "#### Imports"
   ]
  },
  {
   "cell_type": "code",
   "execution_count": 13,
   "metadata": {},
   "outputs": [],
   "source": [
    "import numpy as np\n",
    "import shapely\n",
    "import bisect\n",
    "import shapely.wkt\n",
    "import matplotlib.pyplot as plt\n",
    "import math\n",
    "import geopandas as gpd\n",
    "import json\n",
    "import pandas as pd\n",
    "import seaborn as sns\n",
    "from enum import Enum\n",
    "import plotly.graph_objects as go\n",
    "from plotly.subplots import make_subplots\n",
    "import plotly.express as px\n",
    "\n",
    "import intersection.first_bin_search\n",
    "import intersection.chunk_bbox_intersection\n",
    "from bench_utils import parse_intersection_data \n",
    "common_bbox = intersection.chunk_bbox_intersection.common_bbox\n",
    "chunk_bbox_is_intersecting = intersection.chunk_bbox_intersection.is_intersecting\n",
    "chunk_bbox_intersection = intersection.chunk_bbox_intersection.intersection\n",
    "\n",
    "\n",
    "\n",
    "from intersection.plotting import *\n",
    "import algos.fpd_extended_lib.cfg as cfg\n",
    "from algos.alg_fpd_extended import FpdExtended\n",
    "\n",
    "\n",
    "pd.options.mode.chained_assignment = None  # default='warn'"
   ]
  },
  {
   "attachments": {},
   "cell_type": "markdown",
   "metadata": {},
   "source": [
    "#### Import data"
   ]
  },
  {
   "cell_type": "code",
   "execution_count": 122,
   "metadata": {},
   "outputs": [],
   "source": [
    "fpd = FpdExtended()\n",
    "\n",
    "# Geometries\n",
    "manual_data, _ = parse_intersection_data(\"manual\")\n",
    "special_cases, _ = parse_intersection_data(\"latest_export.json\", strip_precision=True)\n",
    "world_data, world_data_stats = parse_intersection_data(\"world.json\",10, strip_precision=True)\n",
    "lund_data, lund_data_stats = parse_intersection_data(\"lund.json\",10)\n",
    "sweden_data, sweden_data_stats = parse_intersection_data(\"sweden-places-a.json\",10)\n",
    "new_york_data, new_york_data_stats = parse_intersection_data(\"new-york-natural.json\",10)\n",
    "waterways_data, waterways_data_stats = parse_intersection_data(\"nord-est-waterways.json\",10)\n",
    "\n",
    "datasets = [\n",
    "    (manual_data, 3, \"manual_data\"),\n",
    "    (special_cases, 3, \"special_cases\"),\n",
    "    (world_data, 15, \"world_data\"),\n",
    "    (lund_data, 3, \"lund_data\"),\n",
    "    (sweden_data, 15, \"sweden_data\"),\n",
    "    (new_york_data, 10, \"new_york_data\"),\n",
    "    (waterways_data, 3, \"waterways\")\n",
    "]\n"
   ]
  },
  {
   "attachments": {},
   "cell_type": "markdown",
   "metadata": {},
   "source": [
    "#### Constants"
   ]
  },
  {
   "cell_type": "code",
   "execution_count": 53,
   "metadata": {},
   "outputs": [],
   "source": [
    "# Number of total iterations = NBR_ITER * N * number_of_datasets\n",
    "NBR_ITER = -1 # Number of iterations for each dataset\n",
    "N = 10 # Number of times to recalculate each geometry for reliable mean value\n",
    "\n",
    "# Max DELTA_SIZE_VALUE in MAX_NUM_DELTAS Analysis\n",
    "MAX_DELTA_SIZE = 100\n",
    "\n",
    "#Geometry classification sizes\n",
    "MEDIUM_THRESHOLD = 50\n",
    "LARGE_THRESHOLD = 100\n",
    "\n",
    "\n",
    "SAVE_DFS = True\n",
    "USE_EXISTING_DF = True"
   ]
  },
  {
   "attachments": {},
   "cell_type": "markdown",
   "metadata": {},
   "source": [
    "## Functions Section"
   ]
  },
  {
   "attachments": {},
   "cell_type": "markdown",
   "metadata": {},
   "source": [
    "#### Config Setter Functions"
   ]
  },
  {
   "cell_type": "code",
   "execution_count": 54,
   "metadata": {},
   "outputs": [],
   "source": [
    "def set_max_num_delta(val):\n",
    "        cfg.MAX_NUM_DELTAS = val\n",
    "        cfg.D_CNT_SIZE = cfg.required_bits(val)\n",
    "\n",
    "def act_deact_baseline(activate=True):\n",
    "        cfg.BASELINE_ON = activate\n",
    "        cfg.DISABLE_OPTIMIZED_INTERSECTION = False if not activate else True\n",
    "        cfg.DISABLE_OPTIMIZED_ADD_VERTEX = False if not activate else True\n",
    "        cfg.DISABLE_OPTIMIZED_BOUNDING_BOX = False if not activate else True"
   ]
  },
  {
   "attachments": {},
   "cell_type": "markdown",
   "metadata": {},
   "source": [
    "#### Stats Collector Functions"
   ]
  },
  {
   "cell_type": "code",
   "execution_count": 55,
   "metadata": {},
   "outputs": [],
   "source": [
    "def get_size_category(size):\n",
    "    if size < LARGE_THRESHOLD and size >= MEDIUM_THRESHOLD:\n",
    "            return \"Medium\", 1\n",
    "    elif size >= LARGE_THRESHOLD:\n",
    "         return \"Large\", 2\n",
    "    else:\n",
    "         return \"Small\", 0\n",
    "    \n",
    "def get_intersection_category(size1, size2):\n",
    "    size1_cat, type1 = get_size_category(size1)\n",
    "    size2_cat, type2 = get_size_category(size2)\n",
    "\n",
    "    if type1 <= type2:\n",
    "        return size1_cat + \"/\" + size2_cat\n",
    "    return size2_cat + \"/\" + size1_cat\n",
    "\n",
    "\n",
    "def get_context_category(g1, g2, bins=None):\n",
    "    if bins == None:\n",
    "        _, b1_fpde = fpd.compress(g1)\n",
    "        _, b2_fpde = fpd.compress(g2) \n",
    "    else:\n",
    "        b1_fpde, b2_fpde = bins\n",
    "\n",
    "    bbox = common_bbox((b1_fpde, b2_fpde))\n",
    "    intersects = shapely.intersects(g1, g2)\n",
    "    contains = shapely.contains(g1, g2) or shapely.contains(g2, g1)\n",
    "    if not bbox:\n",
    "        return \"No Overlap (FALSE)\"\n",
    "    elif not intersects:\n",
    "        return \"Overlap (FALSE)\"\n",
    "    elif not contains:\n",
    "        return \"Partial Overlap (TRUE)\"\n",
    "    else:\n",
    "        return \"Fully Inside Other (TRUE)\"\n",
    "\n",
    "def get_category_stat(g1, g2):\n",
    "        s1, s2 = (shapely.get_num_coordinates(g1), shapely.get_num_coordinates(g2))\n",
    "        size_category = get_intersection_category(s1, s2)\n",
    "        context_category = get_context_category(g1, g2)\n",
    "        return [size_category, context_category]\n",
    "\n",
    "\n",
    "#For taking mean of all stats, not just total time\n",
    "def get_time_stat(bins, predicate=False):\n",
    "    alg = chunk_bbox_is_intersecting if predicate else chunk_bbox_intersection\n",
    "    # 'decomp', 'nbr_recieved_chks', 'nbr_total_chks', 'total_time'\n",
    "    mean_stat = [0, 0, 0, 0]\n",
    "    for _ in range(N):\n",
    "        stat, _ = alg(bins, get_stats=True)\n",
    "        mean_stat = [sum(x) for x in zip(mean_stat, stat)]\n",
    "    \n",
    "    return [num / N for num in mean_stat]\n"
   ]
  },
  {
   "attachments": {},
   "cell_type": "markdown",
   "metadata": {},
   "source": [
    "#### Dataset Evaluation"
   ]
  },
  {
   "cell_type": "code",
   "execution_count": 56,
   "metadata": {},
   "outputs": [],
   "source": [
    "def evaluate_dataset(data, stats_df, delta_size=None, not_predicate=False, add_size=False, dataset_name=\"\"):\n",
    "    for idx, (g1, g2) in enumerate(data):\n",
    "        if delta_size != None:\n",
    "            set_max_num_delta(delta_size)\n",
    "        bins = (fpd.compress(g1)[1], fpd.compress(g2)[1])\n",
    "\n",
    "        for is_predicate in [False] if not_predicate else [True, False]:\n",
    "            stats = []\n",
    "            stats.extend(get_time_stat(bins=bins, predicate=is_predicate))\n",
    "            stats.extend(get_category_stat(g1, g2))\n",
    "            stats.append(delta_size if delta_size != None else cfg.MAX_NUM_DELTAS)\n",
    "            stats.append(is_predicate)\n",
    "            stats.append(idx)\n",
    "            stats.append(cfg.BASELINE_ON)\n",
    "            if add_size:\n",
    "                stats.append(len(bins[0]) + len(bins[1]))\n",
    "            stats.append(dataset_name)\n",
    "            stats_df.loc[len(stats_df)] = stats"
   ]
  },
  {
   "attachments": {},
   "cell_type": "markdown",
   "metadata": {},
   "source": [
    "# Statistics Visualization"
   ]
  },
  {
   "attachments": {},
   "cell_type": "markdown",
   "metadata": {},
   "source": [
    "#### Best MAX_NUM_DELTAS per Dataset Analysis"
   ]
  },
  {
   "cell_type": "code",
   "execution_count": 57,
   "metadata": {},
   "outputs": [],
   "source": [
    "from tqdm import tqdm\n",
    "\n",
    "if not USE_EXISTING_DF:\n",
    "    max_deltas_df = pd.DataFrame(columns=['decomp', 'nbr_recieved_chks', 'nbr_total_chks', 'total_time', \"sizes\", \"context\", \"delta_size\", \"predicate\", \"dataset_idx\", \"baseline\", \"sum_size\", \"dataset\"])\n",
    "    for max_delta_size in tqdm(range(0,100)):\n",
    "        for dataset in [val[0] for val in datasets]:\n",
    "            act_deact_baseline(activate=False)        \n",
    "            evaluate_dataset(data=dataset, stats_df=max_deltas_df, delta_size=max_delta_size, not_predicate=True, add_size=True, dataset_name=dataset[2]) \n",
    "    \n",
    "    #For baseline\n",
    "    for dataset in datasets:\n",
    "        act_deact_baseline(activate=True)        \n",
    "        evaluate_dataset(data=dataset[0], stats_df=max_deltas_df, delta_size=100000, not_predicate=True, add_size=True, dataset_name=dataset[2]) \n",
    "\n",
    "    max_deltas_df.to_csv('max_deltas_df3.csv', index=False)\n",
    "else:\n",
    "    max_deltas_df = pd.read_csv('max_deltas_df2.csv')"
   ]
  },
  {
   "cell_type": "code",
   "execution_count": 58,
   "metadata": {},
   "outputs": [],
   "source": [
    "max_deltas_filt_df = max_deltas_df[['total_time', 'sum_size', \"sizes\", \"delta_size\", \"predicate\", \"baseline\"]]"
   ]
  },
  {
   "attachments": {},
   "cell_type": "markdown",
   "metadata": {},
   "source": [
    "### Helper"
   ]
  },
  {
   "cell_type": "code",
   "execution_count": 59,
   "metadata": {},
   "outputs": [],
   "source": [
    "\n",
    "import plotly.graph_objs as objs\n",
    "\n",
    "def make_general_facet_title(fig, x_title, y_title, secondary=None, barplot=False, hbarplot=False):\n",
    "    #Remove current axis titles\n",
    "    for axis in fig.layout:\n",
    "        if type(fig.layout[axis]) == objs.layout.XAxis:\n",
    "            fig.layout[axis].title.text = ''\n",
    "\n",
    "    for axis in fig.layout:\n",
    "        if type(fig.layout[axis]) == objs.layout.YAxis:\n",
    "            fig.layout[axis].title.text = '' \n",
    "\n",
    "    fig.add_annotation(\n",
    "    dict(\n",
    "        x=0.48 if not barplot else 0.5,\n",
    "        y=-0.04 if not barplot else -0.15,  # adjust as needed\n",
    "        showarrow=False,\n",
    "        text=x_title,\n",
    "        xref=\"paper\",\n",
    "        yref=\"paper\",\n",
    "        font=dict(size=20),\n",
    "        xanchor=\"center\", \n",
    "        yanchor=\"top\"\n",
    "    )\n",
    "    )\n",
    "\n",
    "    if secondary != None:\n",
    "        fig.add_annotation(\n",
    "        dict(\n",
    "            x=1.01,  # adjust as needed\n",
    "            y=0.5,\n",
    "            showarrow=False,\n",
    "            text=secondary,\n",
    "            textangle=-90,  # to rotate the text for the vertical y-axis\n",
    "            xref=\"paper\",\n",
    "            yref=\"paper\",\n",
    "            font=dict(size=20),\n",
    "            xanchor=\"center\",\n",
    "            yanchor=\"middle\"\n",
    "        )\n",
    "    )\n",
    "\n",
    "    fig.add_annotation(\n",
    "    dict(\n",
    "        x=-0.08 if not barplot else -0.07,  # adjust as needed\n",
    "        y=0.5,\n",
    "        showarrow=False,\n",
    "        text=y_title,\n",
    "        textangle=-90,\n",
    "        xref=\"paper\",\n",
    "        yref=\"paper\",\n",
    "        font=dict(size=20),\n",
    "        xanchor=\"center\",\n",
    "        yanchor=\"middle\"\n",
    "    )\n",
    ")"
   ]
  },
  {
   "cell_type": "code",
   "execution_count": 60,
   "metadata": {},
   "outputs": [],
   "source": [
    "def plot_max_delta_size_speed(df, is_predicate=False, no_mixed=False, relative=False):\n",
    "    if no_mixed:\n",
    "        df = df[df['sizes'].isin([\"Small/Small\", \"Medium/Medium\", \"Large/Large\"])]\n",
    "    specs_element = [{\"secondary_y\": True}] if no_mixed else [{\"secondary_y\": True}, {\"secondary_y\": True}]\n",
    "\n",
    "    df = df[df['predicate'] == is_predicate]\n",
    "    df = df.groupby(['delta_size', 'sizes', 'baseline']).mean()\n",
    "    df.reset_index(inplace=True)\n",
    "    \n",
    "    sizes = dict(zip(list(df.sizes.unique()), range(len(df.sizes.unique()))))\n",
    "\n",
    "    fig = make_subplots(rows=3, cols=1 if no_mixed else 2, \n",
    "                        subplot_titles=(list(map(lambda x: \"Geometry Sizes=\" + x.split('/')[0], sizes.keys()))), \n",
    "                        horizontal_spacing=0.08, \n",
    "                        vertical_spacing=0.07, \n",
    "                        #x_title=\"Max Chunk Size\",  y_title=\"Mean Execution Time (s)\", \n",
    "                        specs=[specs_element,\n",
    "                              specs_element,\n",
    "                              specs_element])\n",
    "    \n",
    "    #For not showing the same legend twice\n",
    "    legend_showed = False\n",
    "\n",
    "    for size in sizes.keys():\n",
    "        curr_context_df = df[(df['sizes'] == size)]\n",
    "\n",
    "        for is_baseline in [False] if relative else [True, False]:\n",
    "\n",
    "            line = dict(color='blue' if is_baseline else 'red', dash='dash' if is_baseline else None)\n",
    "\n",
    "            curr_df = curr_context_df[curr_context_df['baseline'] == is_baseline]\n",
    "\n",
    "            if relative:\n",
    "                baseline_formatting = \"FPDE\" if not is_baseline else \"Baseline\"\n",
    "                baseline_value = curr_context_df[(curr_context_df['baseline'] == True) & (curr_context_df['delta_size'] == 99)]\n",
    "                curr_df['total_time'] = curr_df['total_time'].divide(baseline_value.total_time.values[0], axis=0)\n",
    "                \n",
    "\n",
    "            curr_df[\"total_time\"] = curr_df.sort_values(by='delta_size')['total_time'].rolling(window=5, min_periods=1).mean()\n",
    "\n",
    "            fig.add_trace(go.Scatter(x=curr_df.delta_size.values, y= curr_df.total_time.values,\n",
    "                                    mode='lines',\n",
    "                                    line=line,\n",
    "                                    showlegend=not legend_showed,\n",
    "                                    name=f\"{baseline_formatting}\"),col=sizes[size] // 3 + 1 if no_mixed else 1, row=sizes[size] % 3 + 1,\n",
    "                                    secondary_y=False)\n",
    "            \n",
    "            if not is_baseline:\n",
    "                fig.add_trace(go.Scatter(x=curr_df.delta_size.values, y=curr_df.sum_size.values,\n",
    "                                        mode='lines',\n",
    "                                        line=dict(color='green', dash='dash'),\n",
    "                                        showlegend=not legend_showed,\n",
    "                                        name=f\"Average size (bits)\"),col=sizes[size] // 3 + 1 if no_mixed else 1, row=sizes[size] % 3 + 1,\n",
    "                                        secondary_y=True)\n",
    "                legend_showed = True\n",
    "\n",
    "                mix_delta_size = curr_df.sort_values(by='total_time').delta_size.values[0]\n",
    "\n",
    "                fig.add_vrect(x0=mix_delta_size - 1, x1=mix_delta_size + 1, col=sizes[size] // 3 + 1 if no_mixed else 1, row=sizes[size] % 3 + 1,\n",
    "                annotation_text=f\"Min={mix_delta_size}\", annotation_position=\"inside\",\n",
    "                fillcolor=\"green\", opacity=0.25, line_width=0, annotation = dict(textangle=-90, font=dict(size=16)))\n",
    "    \n",
    "    #For changing facet size\n",
    "    # for annotation in fig['layout']['annotations']:\n",
    "    #     annotation['font']['size'] = 18  # Set your desired font size here\n",
    "\n",
    "    intersection_format = \"Intersection\" if not is_predicate else \"IsIntersection\"\n",
    "    baseline_format = \"\" if not is_baseline else \"(Baseline)\"\n",
    "    fig.update_layout(\n",
    "                      title_x=0.5,\n",
    "                      width=1000, \n",
    "                      height=1000, \n",
    "                      legend=dict(\n",
    "                            yanchor=\"top\",\n",
    "                            y=-0.037,\n",
    "                            xanchor=\"left\",\n",
    "                            x=0.7,\n",
    "                            orientation=\"h\",\n",
    "                            font=dict(size=15),\n",
    "                        ),\n",
    "                        title=dict(\n",
    "                            text=f'Relative Execution Time for {intersection_format} by Max Chunk Size {baseline_format}',\n",
    "                            x=0.5,\n",
    "                            font=dict(size=22)\n",
    "                            )\n",
    "                        )\n",
    "\n",
    "    #fig.update_annotations(textangle=-90, font=dict(size=14)) \n",
    "    fig.update_annotations(font=dict(size=16))\n",
    "    fig.update_yaxes(secondary_y=False, type=\"log\", tickfont=dict(size=16))\n",
    "    fig.update_xaxes(tickfont=dict(size=16))\n",
    "\n",
    "    make_general_facet_title(fig, \"Max Chunk Size\", \"Relative Mean Execution Time (%)\", secondary=\"Mean Size (bits)\")\n",
    "   \n",
    "\n",
    "    fig.show()"
   ]
  },
  {
   "attachments": {},
   "cell_type": "markdown",
   "metadata": {},
   "source": []
  },
  {
   "cell_type": "code",
   "execution_count": 61,
   "metadata": {},
   "outputs": [
    {
     "data": {
      "application/vnd.plotly.v1+json": {
       "config": {
        "plotlyServerURL": "https://plot.ly"
       },
       "data": [
        {
         "line": {
          "color": "red"
         },
         "mode": "lines",
         "name": "FPDE",
         "showlegend": true,
         "type": "scatter",
         "x": [
          0,
          1,
          2,
          3,
          4,
          5,
          6,
          7,
          8,
          9,
          10,
          11,
          12,
          13,
          14,
          15,
          16,
          17,
          18,
          19,
          20,
          21,
          22,
          23,
          24,
          25,
          26,
          27,
          28,
          29,
          30,
          31,
          32,
          33,
          34,
          35,
          36,
          37,
          38,
          39,
          40,
          41,
          42,
          43,
          44,
          45,
          46,
          47,
          48,
          49,
          50,
          51,
          52,
          53,
          54,
          55,
          56,
          57,
          58,
          59,
          60,
          61,
          62,
          63,
          64,
          65,
          66,
          67,
          68,
          69,
          70,
          71,
          72,
          73,
          74,
          75,
          76,
          77,
          78,
          79,
          80,
          81,
          82,
          83,
          84,
          85,
          86,
          87,
          88,
          89,
          90,
          91,
          92,
          93,
          94,
          95,
          96,
          97,
          98,
          99
         ],
         "xaxis": "x",
         "y": [
          1.118910192285389,
          0.8154159104220322,
          0.6639619565795439,
          0.5696315857842392,
          0.5134781683543608,
          0.3388936300065137,
          0.28184905932963955,
          0.2511052752649558,
          0.23215204041758875,
          0.2108851445298304,
          0.19875166352296858,
          0.19045975693239522,
          0.18493208199621516,
          0.18345508634026256,
          0.18409650541586697,
          0.18398837893997377,
          0.1835589707198611,
          0.1870029126203218,
          0.187039362797425,
          0.18693734618232583,
          0.18759947627345366,
          0.19152413593561213,
          0.19280294753045696,
          0.19562015218874246,
          0.2022891850301301,
          0.20808307350719324,
          0.20657393729467616,
          0.2060563566814607,
          0.20734476550821848,
          0.20402504407102837,
          0.19969767856850487,
          0.19986150212397183,
          0.20031974600717278,
          0.20007553688961152,
          0.20141741442866135,
          0.20474172524139314,
          0.20636430611718656,
          0.20968345915787823,
          0.21463877608847293,
          0.21252782879932047,
          0.21493468256703424,
          0.2131263586550755,
          0.20905126246225883,
          0.2058592612394945,
          0.2084423653032713,
          0.2065996981961403,
          0.2118441381642938,
          0.21577056263932387,
          0.2173741837318483,
          0.221854262558921,
          0.22405108486399997,
          0.22654945223695125,
          0.23013087633803578,
          0.23901326518057484,
          0.23664304546842913,
          0.23498562733744607,
          0.2326391346732318,
          0.23638809725212545,
          0.23184949961821144,
          0.2383450536796249,
          0.2435316204442315,
          0.24684659280984672,
          0.24399590495789356,
          0.24399314605295497,
          0.24321517874106374,
          0.2436645816862752,
          0.24697919121010087,
          0.2491950532255232,
          0.25031162998505135,
          0.25026274148510647,
          0.2544567826429639,
          0.2569140874450646,
          0.25751796943570665,
          0.2584267034890747,
          0.26025371669463443,
          0.26328041331552143,
          0.2653739308201294,
          0.2691482205159281,
          0.2728068050935414,
          0.2740385770982495,
          0.2697452715691851,
          0.26646535041984387,
          0.2663967874019689,
          0.2671350342151674,
          0.26853272548289137,
          0.2731771001395622,
          0.27817009414760063,
          0.27562140580292016,
          0.27566281669577186,
          0.27607567236050456,
          0.27220040186886163,
          0.26808691924736755,
          0.27088260272153847,
          0.27328323672754096,
          0.2743298305220006,
          0.2755690753291696,
          0.28262257936071356,
          0.28566190153247345,
          0.2883888914217581,
          0.2925837597966883
         ],
         "yaxis": "y"
        },
        {
         "line": {
          "color": "green",
          "dash": "dash"
         },
         "mode": "lines",
         "name": "Average size (bits)",
         "showlegend": true,
         "type": "scatter",
         "x": [
          0,
          1,
          2,
          3,
          4,
          5,
          6,
          7,
          8,
          9,
          10,
          11,
          12,
          13,
          14,
          15,
          16,
          17,
          18,
          19,
          20,
          21,
          22,
          23,
          24,
          25,
          26,
          27,
          28,
          29,
          30,
          31,
          32,
          33,
          34,
          35,
          36,
          37,
          38,
          39,
          40,
          41,
          42,
          43,
          44,
          45,
          46,
          47,
          48,
          49,
          50,
          51,
          52,
          53,
          54,
          55,
          56,
          57,
          58,
          59,
          60,
          61,
          62,
          63,
          64,
          65,
          66,
          67,
          68,
          69,
          70,
          71,
          72,
          73,
          74,
          75,
          76,
          77,
          78,
          79,
          80,
          81,
          82,
          83,
          84,
          85,
          86,
          87,
          88,
          89,
          90,
          91,
          92,
          93,
          94,
          95,
          96,
          97,
          98,
          99
         ],
         "xaxis": "x",
         "y": [
          87652.72672672673,
          53616.12012012012,
          42227.7987987988,
          36569.087087087086,
          33161.66066066066,
          30870.61261261261,
          29252.258258258258,
          28017.933933933935,
          27062.366366366365,
          26314.86186186186,
          25682.267267267267,
          25170.525525525525,
          24729.534534534534,
          24363.1021021021,
          24036.774774774774,
          23713.195195195196,
          23466.651651651653,
          23242.6006006006,
          23050.42042042042,
          22873.54954954955,
          22700.357357357356,
          22554.867867867866,
          22430.8018018018,
          22305.29129129129,
          22187.75075075075,
          22085.513513513513,
          21994.732732732733,
          21908.891891891893,
          21827.24024024024,
          21748.3003003003,
          21671.462462462463,
          21583.816816816816,
          21518.213213213214,
          21462.36036036036,
          21408.59159159159,
          21350.618618618617,
          21302.642642642644,
          21257.642642642644,
          21211.58258258258,
          21173.375375375377,
          21132.267267267267,
          21089.24024024024,
          21055.237237237237,
          21014.942942942944,
          20981.67867867868,
          20954.03903903904,
          20923.114114114112,
          20894.57957957958,
          20866.390390390392,
          20838.09009009009,
          20820.942942942944,
          20792.726726726727,
          20766.237237237237,
          20747.975975975976,
          20723.78078078078,
          20706.534534534534,
          20689.672672672674,
          20669.891891891893,
          20646.6996996997,
          20629.97897897898,
          20611.654654654656,
          20593.34234234234,
          20576.654654654656,
          20569.62762762763,
          20551.237237237237,
          20534.798798798798,
          20524.921921921923,
          20512.432432432433,
          20498.36336336336,
          20485.72072072072,
          20468.82282282282,
          20458.16816816817,
          20446.507507507507,
          20437.13813813814,
          20424.12012012012,
          20413.645645645647,
          20399.318318318317,
          20388.705705705706,
          20379.03903903904,
          20369.45045045045,
          20361.753753753754,
          20349.201201201202,
          20340.285285285285,
          20330.732732732733,
          20323.609609609608,
          20315.084084084083,
          20305.633633633635,
          20295.255255255255,
          20289.87087087087,
          20280.765765765766,
          20273.57957957958,
          20266.696696696697,
          20258.255255255255,
          20251.6006006006,
          20244.62762762763,
          20241.70870870871,
          20233.276276276276,
          20224.756756756757,
          20216.525525525525,
          20210.09309309309
         ],
         "yaxis": "y2"
        },
        {
         "line": {
          "color": "red"
         },
         "mode": "lines",
         "name": "FPDE",
         "showlegend": false,
         "type": "scatter",
         "x": [
          0,
          1,
          2,
          3,
          4,
          5,
          6,
          7,
          8,
          9,
          10,
          11,
          12,
          13,
          14,
          15,
          16,
          17,
          18,
          19,
          20,
          21,
          22,
          23,
          24,
          25,
          26,
          27,
          28,
          29,
          30,
          31,
          32,
          33,
          34,
          35,
          36,
          37,
          38,
          39,
          40,
          41,
          42,
          43,
          44,
          45,
          46,
          47,
          48,
          49,
          50,
          51,
          52,
          53,
          54,
          55,
          56,
          57,
          58,
          59,
          60,
          61,
          62,
          63,
          64,
          65,
          66,
          67,
          68,
          69,
          70,
          71,
          72,
          73,
          74,
          75,
          76,
          77,
          78,
          79,
          80,
          81,
          82,
          83,
          84,
          85,
          86,
          87,
          88,
          89,
          90,
          91,
          92,
          93,
          94,
          95,
          96,
          97,
          98,
          99
         ],
         "xaxis": "x2",
         "y": [
          0.9206514162378395,
          0.7695491189853512,
          0.679504339033394,
          0.6261379818138517,
          0.6111418335429748,
          0.5442742516512113,
          0.5176623246150592,
          0.5119529905554077,
          0.49915258550891284,
          0.49734173742499854,
          0.47678452633308066,
          0.4782731386459596,
          0.4957211442856687,
          0.5225839124437103,
          0.5286771293552603,
          0.5440975467363619,
          0.5552858780532963,
          0.5525201247967206,
          0.5580376535743466,
          0.5597371248054264,
          0.5706633099779048,
          0.5786632443353663,
          0.6175557510365663,
          0.622071159658128,
          0.6356076035595055,
          0.6391713487028892,
          0.6521927167366395,
          0.6373787842456831,
          0.6576079270851448,
          0.6682887201309248,
          0.6785409413266505,
          0.6868087742317848,
          0.6991532642983846,
          0.7015404833123483,
          0.7047365958076612,
          0.7049403558854963,
          0.7049788250008237,
          0.6974507356606318,
          0.6972468022355316,
          0.6947917035609894,
          0.6919967470257765,
          0.6867235206197196,
          0.6902642936371542,
          0.6897255947360309,
          0.6951049316775622,
          0.7051412398257566,
          0.7217675765010646,
          0.7281696019514711,
          0.7384844361245102,
          0.737686100324046,
          0.7403085567361731,
          0.7391979701135121,
          0.7408176205730327,
          0.7384545172098169,
          0.7407254825406492,
          0.753294321821272,
          0.7642592198014867,
          0.7860734123094074,
          0.7990894448149578,
          0.8166676347814124,
          0.8191939558189583,
          0.8213788092537939,
          0.8122109611347248,
          0.8186363187428306,
          0.8169908642027558,
          0.8245170224269698,
          0.8287993715872378,
          0.8322367845917522,
          0.8315667375313847,
          0.840184483170382,
          0.8470431421273853,
          0.8504845027110832,
          0.8567192381528306,
          0.8583840756614418,
          0.8608115653399203,
          0.8620168634380274,
          0.866910795215294,
          0.8723827145619498,
          0.8730658091919686,
          0.8778202766452953,
          0.8674525782158249,
          0.8619836585544045,
          0.855409986087295,
          0.8573554922661302,
          0.8569864181555072,
          0.8681418825382314,
          0.8736726778244769,
          0.8751633720059946,
          0.8780765457960464,
          0.8684900761977847,
          0.8705230904544843,
          0.8666978381457033,
          0.8673075799885501,
          0.8740207688478125,
          0.8827297589437709,
          0.8717007926193194,
          0.8716731536739711,
          0.8685634411146914,
          0.858526395174923,
          0.8518873173484691
         ],
         "yaxis": "y3"
        },
        {
         "line": {
          "color": "green",
          "dash": "dash"
         },
         "mode": "lines",
         "name": "Average size (bits)",
         "showlegend": false,
         "type": "scatter",
         "x": [
          0,
          1,
          2,
          3,
          4,
          5,
          6,
          7,
          8,
          9,
          10,
          11,
          12,
          13,
          14,
          15,
          16,
          17,
          18,
          19,
          20,
          21,
          22,
          23,
          24,
          25,
          26,
          27,
          28,
          29,
          30,
          31,
          32,
          33,
          34,
          35,
          36,
          37,
          38,
          39,
          40,
          41,
          42,
          43,
          44,
          45,
          46,
          47,
          48,
          49,
          50,
          51,
          52,
          53,
          54,
          55,
          56,
          57,
          58,
          59,
          60,
          61,
          62,
          63,
          64,
          65,
          66,
          67,
          68,
          69,
          70,
          71,
          72,
          73,
          74,
          75,
          76,
          77,
          78,
          79,
          80,
          81,
          82,
          83,
          84,
          85,
          86,
          87,
          88,
          89,
          90,
          91,
          92,
          93,
          94,
          95,
          96,
          97,
          98,
          99
         ],
         "xaxis": "x2",
         "y": [
          6499.785714285715,
          3986.214285714286,
          3152.5714285714284,
          2734.964285714286,
          2478.714285714286,
          2311.1071428571427,
          2187.4285714285716,
          2109.714285714286,
          2040.857142857143,
          1984.392857142857,
          1935.857142857143,
          1897.107142857143,
          1850.392857142857,
          1836.5,
          1815.857142857143,
          1786.6785714285713,
          1763.2142857142858,
          1753.5714285714287,
          1739.642857142857,
          1736.892857142857,
          1723.0714285714287,
          1710.5357142857142,
          1698.142857142857,
          1688.5,
          1669.107142857143,
          1663.5714285714287,
          1660.75,
          1657.9642857142858,
          1655.25,
          1652.5357142857142,
          1641.4285714285713,
          1635,
          1630.8214285714287,
          1625.25,
          1623.892857142857,
          1621.107142857143,
          1615.5357142857142,
          1614.142857142857,
          1614.142857142857,
          1614.142857142857,
          1609.9285714285713,
          1607.142857142857,
          1604.4285714285713,
          1603.0357142857142,
          1603.0357142857142,
          1590.5,
          1587.7142857142858,
          1585,
          1582.2857142857142,
          1576.75,
          1573.9642857142858,
          1572.607142857143,
          1572.607142857143,
          1571.2142857142858,
          1571.2142857142858,
          1571.2142857142858,
          1571.2142857142858,
          1571.2142857142858,
          1568.4642857142858,
          1568.4642857142858,
          1567.107142857143,
          1564.3214285714287,
          1561.607142857143,
          1557.857142857143,
          1556.4285714285713,
          1553.642857142857,
          1553.642857142857,
          1553.642857142857,
          1553.642857142857,
          1552.2857142857142,
          1549.5,
          1549.5,
          1549.5,
          1543.9285714285713,
          1543.9285714285713,
          1542.5357142857142,
          1542.5357142857142,
          1542.5357142857142,
          1542.5357142857142,
          1542.5357142857142,
          1542.5357142857142,
          1539.75,
          1539.75,
          1539.75,
          1539.75,
          1537.0357142857142,
          1537.0357142857142,
          1537.0357142857142,
          1537.0357142857142,
          1537.0357142857142,
          1530.0714285714287,
          1530.0714285714287,
          1530.0714285714287,
          1530.0714285714287,
          1530.0714285714287,
          1530.0714285714287,
          1530.0714285714287,
          1530.0714285714287,
          1530.0714285714287,
          1530.0714285714287
         ],
         "yaxis": "y4"
        },
        {
         "line": {
          "color": "red"
         },
         "mode": "lines",
         "name": "FPDE",
         "showlegend": false,
         "type": "scatter",
         "x": [
          0,
          1,
          2,
          3,
          4,
          5,
          6,
          7,
          8,
          9,
          10,
          11,
          12,
          13,
          14,
          15,
          16,
          17,
          18,
          19,
          20,
          21,
          22,
          23,
          24,
          25,
          26,
          27,
          28,
          29,
          30,
          31,
          32,
          33,
          34,
          35,
          36,
          37,
          38,
          39,
          40,
          41,
          42,
          43,
          44,
          45,
          46,
          47,
          48,
          49,
          50,
          51,
          52,
          53,
          54,
          55,
          56,
          57,
          58,
          59,
          60,
          61,
          62,
          63,
          64,
          65,
          66,
          67,
          68,
          69,
          70,
          71,
          72,
          73,
          74,
          75,
          76,
          77,
          78,
          79,
          80,
          81,
          82,
          83,
          84,
          85,
          86,
          87,
          88,
          89,
          90,
          91,
          92,
          93,
          94,
          95,
          96,
          97,
          98,
          99
         ],
         "xaxis": "x3",
         "y": [
          0.5803588954336986,
          0.5447059580041231,
          0.5216972019264335,
          0.5135014755546932,
          0.5228662724482772,
          0.5291952346365767,
          0.5468317133182458,
          0.5748441661169555,
          0.5960740698046729,
          0.6107480545055206,
          0.6221615253887529,
          0.6364079140910337,
          0.6545373259129926,
          0.6855885784356767,
          0.712467784195584,
          0.7301437477274978,
          0.7533373021000428,
          0.771644342915056,
          0.7838957648396055,
          0.7958327421260009,
          0.8117992828374984,
          0.8254043529670204,
          0.8692980601750285,
          0.8790251027988376,
          0.8931740378416043,
          0.9057149369022213,
          0.9091788518728364,
          0.8835870956477914,
          0.8901499915562237,
          0.8861624682170959,
          0.8796312294778369,
          0.8800373175393604,
          0.8785499024255581,
          0.8775114374252887,
          0.879987087832896,
          0.8837204203432897,
          0.8843003570886048,
          0.8882552636441042,
          0.8890373048857866,
          0.887220722849275,
          0.8830908219945046,
          0.8803880294178408,
          0.874988382076277,
          0.8723220389746814,
          0.8721195475885439,
          0.8758657807005118,
          0.882945638501145,
          0.8856471016410709,
          0.8903994056063628,
          0.8976700226329933,
          0.8996074333534845,
          0.9006784903000309,
          0.9033654091277918,
          0.8996883443472194,
          0.8914387509381829,
          0.8899553640167364,
          0.8880619109556822,
          0.888539148444889,
          0.8902429275365936,
          0.8951192208732749,
          0.8979355326619188,
          0.8988170061338578,
          0.8974229145614139,
          0.9000061819573875,
          0.9000179497938173,
          0.9021559729322274,
          0.9149932401808132,
          0.9159428456066839,
          0.9146266353909274,
          0.9150043699978966,
          0.9301401411757375,
          0.9177675697212893,
          0.9183589380925344,
          0.9186955654764164,
          0.926183097716466,
          0.9281245555420858,
          0.9496363122550298,
          0.9690472483950423,
          0.9701319089735417,
          0.9649432450678214,
          0.9457058510545024,
          0.9243470815871563,
          0.9187224813681351,
          0.9181720417684675,
          0.934970137528188,
          0.9561196098542482,
          0.9747595281792408,
          0.9617302538345491,
          0.9621497775730656,
          0.9434030879353555,
          0.9229880175401242,
          0.9021241019934638,
          0.8998869880287665,
          0.9006215212551674,
          0.9029632166194848,
          0.9012565703979734,
          0.9036440338273308,
          0.908126365639764,
          0.9070918182796476,
          0.9066377870599075
         ],
         "yaxis": "y5"
        },
        {
         "line": {
          "color": "green",
          "dash": "dash"
         },
         "mode": "lines",
         "name": "Average size (bits)",
         "showlegend": false,
         "type": "scatter",
         "x": [
          0,
          1,
          2,
          3,
          4,
          5,
          6,
          7,
          8,
          9,
          10,
          11,
          12,
          13,
          14,
          15,
          16,
          17,
          18,
          19,
          20,
          21,
          22,
          23,
          24,
          25,
          26,
          27,
          28,
          29,
          30,
          31,
          32,
          33,
          34,
          35,
          36,
          37,
          38,
          39,
          40,
          41,
          42,
          43,
          44,
          45,
          46,
          47,
          48,
          49,
          50,
          51,
          52,
          53,
          54,
          55,
          56,
          57,
          58,
          59,
          60,
          61,
          62,
          63,
          64,
          65,
          66,
          67,
          68,
          69,
          70,
          71,
          72,
          73,
          74,
          75,
          76,
          77,
          78,
          79,
          80,
          81,
          82,
          83,
          84,
          85,
          86,
          87,
          88,
          89,
          90,
          91,
          92,
          93,
          94,
          95,
          96,
          97,
          98,
          99
         ],
         "xaxis": "x3",
         "y": [
          1381.9738118331716,
          884.4791464597478,
          726.939379243453,
          636.8884578079534,
          590.0703200775946,
          557.8685741998061,
          533.3739088263821,
          513.9679922405431,
          505.3244422890398,
          495.1964112512124,
          484.64403491755576,
          479.5140640155189,
          475.8908826382153,
          470.3433559650824,
          464.7070805043647,
          459.36760426770127,
          456.3380213385063,
          455.3612997090204,
          454.28612997090204,
          452.1794374393792,
          446.6605237633366,
          445.71774975751697,
          445.2075654704171,
          444.4379243452958,
          442.860814742968,
          442.4898157129001,
          441.8952473326867,
          441.68768186226964,
          439.00290979631427,
          438.5581959262852,
          435.7880698351115,
          435.66246362754606,
          435.492240543162,
          435.3419010669253,
          435.2841901066925,
          435.0586808923375,
          434.774490785645,
          434.5872938894277,
          434.5305528612997,
          434.41707080504364,
          434.2846750727449,
          434.0441319107662,
          434.0063045586809,
          433.8540252182347,
          433.778370514064,
          433.72065955383124,
          433.60814742967995,
          433.5698351115422,
          433.5140640155189,
          433.5140640155189,
          433.5140640155189,
          433.5140640155189,
          433.5140640155189,
          433.5140640155189,
          433.5140640155189,
          433.5140640155189,
          433.5140640155189,
          433.5140640155189,
          433.5140640155189,
          433.5140640155189,
          433.5140640155189,
          433.5140640155189,
          433.5140640155189,
          434.0300678952473,
          434.0300678952473,
          434.0300678952473,
          434.0300678952473,
          434.0300678952473,
          434.0300678952473,
          434.0300678952473,
          434.0300678952473,
          434.0300678952473,
          434.0300678952473,
          434.0300678952473,
          434.0300678952473,
          434.0300678952473,
          434.0300678952473,
          434.0300678952473,
          434.0300678952473,
          434.0300678952473,
          434.0300678952473,
          434.0300678952473,
          434.0300678952473,
          434.0300678952473,
          434.0300678952473,
          434.0300678952473,
          434.0300678952473,
          434.0300678952473,
          434.0300678952473,
          434.0300678952473,
          434.0300678952473,
          434.0300678952473,
          434.0300678952473,
          434.0300678952473,
          434.0300678952473,
          434.0300678952473,
          434.0300678952473,
          434.0300678952473,
          434.0300678952473,
          434.0300678952473
         ],
         "yaxis": "y6"
        }
       ],
       "layout": {
        "annotations": [
         {
          "font": {
           "size": 16
          },
          "showarrow": false,
          "text": "Geometry Sizes=Large",
          "x": 0.47,
          "xanchor": "center",
          "xref": "paper",
          "y": 1,
          "yanchor": "bottom",
          "yref": "paper"
         },
         {
          "font": {
           "size": 16
          },
          "showarrow": false,
          "text": "Geometry Sizes=Medium",
          "x": 0.47,
          "xanchor": "center",
          "xref": "paper",
          "y": 0.6433333333333333,
          "yanchor": "bottom",
          "yref": "paper"
         },
         {
          "font": {
           "size": 16
          },
          "showarrow": false,
          "text": "Geometry Sizes=Small",
          "x": 0.47,
          "xanchor": "center",
          "xref": "paper",
          "y": 0.2866666666666667,
          "yanchor": "bottom",
          "yref": "paper"
         },
         {
          "font": {
           "size": 16
          },
          "showarrow": false,
          "text": "Min=13",
          "textangle": -90,
          "x": 13,
          "xanchor": "center",
          "xref": "x",
          "y": 0.5,
          "yanchor": "middle",
          "yref": "y domain"
         },
         {
          "font": {
           "size": 16
          },
          "showarrow": false,
          "text": "Min=10",
          "textangle": -90,
          "x": 10,
          "xanchor": "center",
          "xref": "x2",
          "y": 0.5,
          "yanchor": "middle",
          "yref": "y3 domain"
         },
         {
          "font": {
           "size": 16
          },
          "showarrow": false,
          "text": "Min=3",
          "textangle": -90,
          "x": 3,
          "xanchor": "center",
          "xref": "x3",
          "y": 0.5,
          "yanchor": "middle",
          "yref": "y5 domain"
         },
         {
          "font": {
           "size": 20
          },
          "showarrow": false,
          "text": "Max Chunk Size",
          "x": 0.48,
          "xanchor": "center",
          "xref": "paper",
          "y": -0.04,
          "yanchor": "top",
          "yref": "paper"
         },
         {
          "font": {
           "size": 20
          },
          "showarrow": false,
          "text": "Mean Size (bits)",
          "textangle": -90,
          "x": 1.01,
          "xanchor": "center",
          "xref": "paper",
          "y": 0.5,
          "yanchor": "middle",
          "yref": "paper"
         },
         {
          "font": {
           "size": 20
          },
          "showarrow": false,
          "text": "Relative Mean Execution Time (%)",
          "textangle": -90,
          "x": -0.08,
          "xanchor": "center",
          "xref": "paper",
          "y": 0.5,
          "yanchor": "middle",
          "yref": "paper"
         }
        ],
        "height": 1000,
        "legend": {
         "font": {
          "size": 15
         },
         "orientation": "h",
         "x": 0.7,
         "xanchor": "left",
         "y": -0.037,
         "yanchor": "top"
        },
        "shapes": [
         {
          "fillcolor": "green",
          "line": {
           "width": 0
          },
          "opacity": 0.25,
          "type": "rect",
          "x0": 12,
          "x1": 14,
          "xref": "x",
          "y0": 0,
          "y1": 1,
          "yref": "y domain"
         },
         {
          "fillcolor": "green",
          "line": {
           "width": 0
          },
          "opacity": 0.25,
          "type": "rect",
          "x0": 9,
          "x1": 11,
          "xref": "x2",
          "y0": 0,
          "y1": 1,
          "yref": "y3 domain"
         },
         {
          "fillcolor": "green",
          "line": {
           "width": 0
          },
          "opacity": 0.25,
          "type": "rect",
          "x0": 2,
          "x1": 4,
          "xref": "x3",
          "y0": 0,
          "y1": 1,
          "yref": "y5 domain"
         }
        ],
        "template": {
         "data": {
          "bar": [
           {
            "error_x": {
             "color": "#2a3f5f"
            },
            "error_y": {
             "color": "#2a3f5f"
            },
            "marker": {
             "line": {
              "color": "#E5ECF6",
              "width": 0.5
             },
             "pattern": {
              "fillmode": "overlay",
              "size": 10,
              "solidity": 0.2
             }
            },
            "type": "bar"
           }
          ],
          "barpolar": [
           {
            "marker": {
             "line": {
              "color": "#E5ECF6",
              "width": 0.5
             },
             "pattern": {
              "fillmode": "overlay",
              "size": 10,
              "solidity": 0.2
             }
            },
            "type": "barpolar"
           }
          ],
          "carpet": [
           {
            "aaxis": {
             "endlinecolor": "#2a3f5f",
             "gridcolor": "white",
             "linecolor": "white",
             "minorgridcolor": "white",
             "startlinecolor": "#2a3f5f"
            },
            "baxis": {
             "endlinecolor": "#2a3f5f",
             "gridcolor": "white",
             "linecolor": "white",
             "minorgridcolor": "white",
             "startlinecolor": "#2a3f5f"
            },
            "type": "carpet"
           }
          ],
          "choropleth": [
           {
            "colorbar": {
             "outlinewidth": 0,
             "ticks": ""
            },
            "type": "choropleth"
           }
          ],
          "contour": [
           {
            "colorbar": {
             "outlinewidth": 0,
             "ticks": ""
            },
            "colorscale": [
             [
              0,
              "#0d0887"
             ],
             [
              0.1111111111111111,
              "#46039f"
             ],
             [
              0.2222222222222222,
              "#7201a8"
             ],
             [
              0.3333333333333333,
              "#9c179e"
             ],
             [
              0.4444444444444444,
              "#bd3786"
             ],
             [
              0.5555555555555556,
              "#d8576b"
             ],
             [
              0.6666666666666666,
              "#ed7953"
             ],
             [
              0.7777777777777778,
              "#fb9f3a"
             ],
             [
              0.8888888888888888,
              "#fdca26"
             ],
             [
              1,
              "#f0f921"
             ]
            ],
            "type": "contour"
           }
          ],
          "contourcarpet": [
           {
            "colorbar": {
             "outlinewidth": 0,
             "ticks": ""
            },
            "type": "contourcarpet"
           }
          ],
          "heatmap": [
           {
            "colorbar": {
             "outlinewidth": 0,
             "ticks": ""
            },
            "colorscale": [
             [
              0,
              "#0d0887"
             ],
             [
              0.1111111111111111,
              "#46039f"
             ],
             [
              0.2222222222222222,
              "#7201a8"
             ],
             [
              0.3333333333333333,
              "#9c179e"
             ],
             [
              0.4444444444444444,
              "#bd3786"
             ],
             [
              0.5555555555555556,
              "#d8576b"
             ],
             [
              0.6666666666666666,
              "#ed7953"
             ],
             [
              0.7777777777777778,
              "#fb9f3a"
             ],
             [
              0.8888888888888888,
              "#fdca26"
             ],
             [
              1,
              "#f0f921"
             ]
            ],
            "type": "heatmap"
           }
          ],
          "heatmapgl": [
           {
            "colorbar": {
             "outlinewidth": 0,
             "ticks": ""
            },
            "colorscale": [
             [
              0,
              "#0d0887"
             ],
             [
              0.1111111111111111,
              "#46039f"
             ],
             [
              0.2222222222222222,
              "#7201a8"
             ],
             [
              0.3333333333333333,
              "#9c179e"
             ],
             [
              0.4444444444444444,
              "#bd3786"
             ],
             [
              0.5555555555555556,
              "#d8576b"
             ],
             [
              0.6666666666666666,
              "#ed7953"
             ],
             [
              0.7777777777777778,
              "#fb9f3a"
             ],
             [
              0.8888888888888888,
              "#fdca26"
             ],
             [
              1,
              "#f0f921"
             ]
            ],
            "type": "heatmapgl"
           }
          ],
          "histogram": [
           {
            "marker": {
             "pattern": {
              "fillmode": "overlay",
              "size": 10,
              "solidity": 0.2
             }
            },
            "type": "histogram"
           }
          ],
          "histogram2d": [
           {
            "colorbar": {
             "outlinewidth": 0,
             "ticks": ""
            },
            "colorscale": [
             [
              0,
              "#0d0887"
             ],
             [
              0.1111111111111111,
              "#46039f"
             ],
             [
              0.2222222222222222,
              "#7201a8"
             ],
             [
              0.3333333333333333,
              "#9c179e"
             ],
             [
              0.4444444444444444,
              "#bd3786"
             ],
             [
              0.5555555555555556,
              "#d8576b"
             ],
             [
              0.6666666666666666,
              "#ed7953"
             ],
             [
              0.7777777777777778,
              "#fb9f3a"
             ],
             [
              0.8888888888888888,
              "#fdca26"
             ],
             [
              1,
              "#f0f921"
             ]
            ],
            "type": "histogram2d"
           }
          ],
          "histogram2dcontour": [
           {
            "colorbar": {
             "outlinewidth": 0,
             "ticks": ""
            },
            "colorscale": [
             [
              0,
              "#0d0887"
             ],
             [
              0.1111111111111111,
              "#46039f"
             ],
             [
              0.2222222222222222,
              "#7201a8"
             ],
             [
              0.3333333333333333,
              "#9c179e"
             ],
             [
              0.4444444444444444,
              "#bd3786"
             ],
             [
              0.5555555555555556,
              "#d8576b"
             ],
             [
              0.6666666666666666,
              "#ed7953"
             ],
             [
              0.7777777777777778,
              "#fb9f3a"
             ],
             [
              0.8888888888888888,
              "#fdca26"
             ],
             [
              1,
              "#f0f921"
             ]
            ],
            "type": "histogram2dcontour"
           }
          ],
          "mesh3d": [
           {
            "colorbar": {
             "outlinewidth": 0,
             "ticks": ""
            },
            "type": "mesh3d"
           }
          ],
          "parcoords": [
           {
            "line": {
             "colorbar": {
              "outlinewidth": 0,
              "ticks": ""
             }
            },
            "type": "parcoords"
           }
          ],
          "pie": [
           {
            "automargin": true,
            "type": "pie"
           }
          ],
          "scatter": [
           {
            "fillpattern": {
             "fillmode": "overlay",
             "size": 10,
             "solidity": 0.2
            },
            "type": "scatter"
           }
          ],
          "scatter3d": [
           {
            "line": {
             "colorbar": {
              "outlinewidth": 0,
              "ticks": ""
             }
            },
            "marker": {
             "colorbar": {
              "outlinewidth": 0,
              "ticks": ""
             }
            },
            "type": "scatter3d"
           }
          ],
          "scattercarpet": [
           {
            "marker": {
             "colorbar": {
              "outlinewidth": 0,
              "ticks": ""
             }
            },
            "type": "scattercarpet"
           }
          ],
          "scattergeo": [
           {
            "marker": {
             "colorbar": {
              "outlinewidth": 0,
              "ticks": ""
             }
            },
            "type": "scattergeo"
           }
          ],
          "scattergl": [
           {
            "marker": {
             "colorbar": {
              "outlinewidth": 0,
              "ticks": ""
             }
            },
            "type": "scattergl"
           }
          ],
          "scattermapbox": [
           {
            "marker": {
             "colorbar": {
              "outlinewidth": 0,
              "ticks": ""
             }
            },
            "type": "scattermapbox"
           }
          ],
          "scatterpolar": [
           {
            "marker": {
             "colorbar": {
              "outlinewidth": 0,
              "ticks": ""
             }
            },
            "type": "scatterpolar"
           }
          ],
          "scatterpolargl": [
           {
            "marker": {
             "colorbar": {
              "outlinewidth": 0,
              "ticks": ""
             }
            },
            "type": "scatterpolargl"
           }
          ],
          "scatterternary": [
           {
            "marker": {
             "colorbar": {
              "outlinewidth": 0,
              "ticks": ""
             }
            },
            "type": "scatterternary"
           }
          ],
          "surface": [
           {
            "colorbar": {
             "outlinewidth": 0,
             "ticks": ""
            },
            "colorscale": [
             [
              0,
              "#0d0887"
             ],
             [
              0.1111111111111111,
              "#46039f"
             ],
             [
              0.2222222222222222,
              "#7201a8"
             ],
             [
              0.3333333333333333,
              "#9c179e"
             ],
             [
              0.4444444444444444,
              "#bd3786"
             ],
             [
              0.5555555555555556,
              "#d8576b"
             ],
             [
              0.6666666666666666,
              "#ed7953"
             ],
             [
              0.7777777777777778,
              "#fb9f3a"
             ],
             [
              0.8888888888888888,
              "#fdca26"
             ],
             [
              1,
              "#f0f921"
             ]
            ],
            "type": "surface"
           }
          ],
          "table": [
           {
            "cells": {
             "fill": {
              "color": "#EBF0F8"
             },
             "line": {
              "color": "white"
             }
            },
            "header": {
             "fill": {
              "color": "#C8D4E3"
             },
             "line": {
              "color": "white"
             }
            },
            "type": "table"
           }
          ]
         },
         "layout": {
          "annotationdefaults": {
           "arrowcolor": "#2a3f5f",
           "arrowhead": 0,
           "arrowwidth": 1
          },
          "autotypenumbers": "strict",
          "coloraxis": {
           "colorbar": {
            "outlinewidth": 0,
            "ticks": ""
           }
          },
          "colorscale": {
           "diverging": [
            [
             0,
             "#8e0152"
            ],
            [
             0.1,
             "#c51b7d"
            ],
            [
             0.2,
             "#de77ae"
            ],
            [
             0.3,
             "#f1b6da"
            ],
            [
             0.4,
             "#fde0ef"
            ],
            [
             0.5,
             "#f7f7f7"
            ],
            [
             0.6,
             "#e6f5d0"
            ],
            [
             0.7,
             "#b8e186"
            ],
            [
             0.8,
             "#7fbc41"
            ],
            [
             0.9,
             "#4d9221"
            ],
            [
             1,
             "#276419"
            ]
           ],
           "sequential": [
            [
             0,
             "#0d0887"
            ],
            [
             0.1111111111111111,
             "#46039f"
            ],
            [
             0.2222222222222222,
             "#7201a8"
            ],
            [
             0.3333333333333333,
             "#9c179e"
            ],
            [
             0.4444444444444444,
             "#bd3786"
            ],
            [
             0.5555555555555556,
             "#d8576b"
            ],
            [
             0.6666666666666666,
             "#ed7953"
            ],
            [
             0.7777777777777778,
             "#fb9f3a"
            ],
            [
             0.8888888888888888,
             "#fdca26"
            ],
            [
             1,
             "#f0f921"
            ]
           ],
           "sequentialminus": [
            [
             0,
             "#0d0887"
            ],
            [
             0.1111111111111111,
             "#46039f"
            ],
            [
             0.2222222222222222,
             "#7201a8"
            ],
            [
             0.3333333333333333,
             "#9c179e"
            ],
            [
             0.4444444444444444,
             "#bd3786"
            ],
            [
             0.5555555555555556,
             "#d8576b"
            ],
            [
             0.6666666666666666,
             "#ed7953"
            ],
            [
             0.7777777777777778,
             "#fb9f3a"
            ],
            [
             0.8888888888888888,
             "#fdca26"
            ],
            [
             1,
             "#f0f921"
            ]
           ]
          },
          "colorway": [
           "#636efa",
           "#EF553B",
           "#00cc96",
           "#ab63fa",
           "#FFA15A",
           "#19d3f3",
           "#FF6692",
           "#B6E880",
           "#FF97FF",
           "#FECB52"
          ],
          "font": {
           "color": "#2a3f5f"
          },
          "geo": {
           "bgcolor": "white",
           "lakecolor": "white",
           "landcolor": "#E5ECF6",
           "showlakes": true,
           "showland": true,
           "subunitcolor": "white"
          },
          "hoverlabel": {
           "align": "left"
          },
          "hovermode": "closest",
          "mapbox": {
           "style": "light"
          },
          "paper_bgcolor": "white",
          "plot_bgcolor": "#E5ECF6",
          "polar": {
           "angularaxis": {
            "gridcolor": "white",
            "linecolor": "white",
            "ticks": ""
           },
           "bgcolor": "#E5ECF6",
           "radialaxis": {
            "gridcolor": "white",
            "linecolor": "white",
            "ticks": ""
           }
          },
          "scene": {
           "xaxis": {
            "backgroundcolor": "#E5ECF6",
            "gridcolor": "white",
            "gridwidth": 2,
            "linecolor": "white",
            "showbackground": true,
            "ticks": "",
            "zerolinecolor": "white"
           },
           "yaxis": {
            "backgroundcolor": "#E5ECF6",
            "gridcolor": "white",
            "gridwidth": 2,
            "linecolor": "white",
            "showbackground": true,
            "ticks": "",
            "zerolinecolor": "white"
           },
           "zaxis": {
            "backgroundcolor": "#E5ECF6",
            "gridcolor": "white",
            "gridwidth": 2,
            "linecolor": "white",
            "showbackground": true,
            "ticks": "",
            "zerolinecolor": "white"
           }
          },
          "shapedefaults": {
           "line": {
            "color": "#2a3f5f"
           }
          },
          "ternary": {
           "aaxis": {
            "gridcolor": "white",
            "linecolor": "white",
            "ticks": ""
           },
           "baxis": {
            "gridcolor": "white",
            "linecolor": "white",
            "ticks": ""
           },
           "bgcolor": "#E5ECF6",
           "caxis": {
            "gridcolor": "white",
            "linecolor": "white",
            "ticks": ""
           }
          },
          "title": {
           "x": 0.05
          },
          "xaxis": {
           "automargin": true,
           "gridcolor": "white",
           "linecolor": "white",
           "ticks": "",
           "title": {
            "standoff": 15
           },
           "zerolinecolor": "white",
           "zerolinewidth": 2
          },
          "yaxis": {
           "automargin": true,
           "gridcolor": "white",
           "linecolor": "white",
           "ticks": "",
           "title": {
            "standoff": 15
           },
           "zerolinecolor": "white",
           "zerolinewidth": 2
          }
         }
        },
        "title": {
         "font": {
          "size": 22
         },
         "text": "Relative Execution Time for Intersection by Max Chunk Size ",
         "x": 0.5
        },
        "width": 1000,
        "xaxis": {
         "anchor": "y",
         "domain": [
          0,
          0.94
         ],
         "tickfont": {
          "size": 16
         },
         "title": {
          "text": ""
         }
        },
        "xaxis2": {
         "anchor": "y3",
         "domain": [
          0,
          0.94
         ],
         "tickfont": {
          "size": 16
         },
         "title": {
          "text": ""
         }
        },
        "xaxis3": {
         "anchor": "y5",
         "domain": [
          0,
          0.94
         ],
         "tickfont": {
          "size": 16
         },
         "title": {
          "text": ""
         }
        },
        "yaxis": {
         "anchor": "x",
         "domain": [
          0.7133333333333334,
          1
         ],
         "tickfont": {
          "size": 16
         },
         "title": {
          "text": ""
         },
         "type": "log"
        },
        "yaxis2": {
         "anchor": "x",
         "overlaying": "y",
         "side": "right",
         "title": {
          "text": ""
         }
        },
        "yaxis3": {
         "anchor": "x2",
         "domain": [
          0.3566666666666667,
          0.6433333333333333
         ],
         "tickfont": {
          "size": 16
         },
         "title": {
          "text": ""
         },
         "type": "log"
        },
        "yaxis4": {
         "anchor": "x2",
         "overlaying": "y3",
         "side": "right",
         "title": {
          "text": ""
         }
        },
        "yaxis5": {
         "anchor": "x3",
         "domain": [
          0,
          0.2866666666666667
         ],
         "tickfont": {
          "size": 16
         },
         "title": {
          "text": ""
         },
         "type": "log"
        },
        "yaxis6": {
         "anchor": "x3",
         "overlaying": "y5",
         "side": "right",
         "title": {
          "text": ""
         }
        }
       }
      }
     },
     "metadata": {},
     "output_type": "display_data"
    }
   ],
   "source": [
    "plot_max_delta_size_speed(max_deltas_filt_df, is_predicate=False, no_mixed=True, relative=True)"
   ]
  },
  {
   "attachments": {},
   "cell_type": "markdown",
   "metadata": {},
   "source": [
    "#### Dataset Stats Collection"
   ]
  },
  {
   "cell_type": "code",
   "execution_count": 63,
   "metadata": {},
   "outputs": [
    {
     "name": "stderr",
     "output_type": "stream",
     "text": [
      "100%|██████████| 7/7 [00:05<00:00,  1.36it/s]\n",
      "100%|██████████| 7/7 [00:01<00:00,  3.70it/s]\n"
     ]
    }
   ],
   "source": [
    "if USE_EXISTING_DF:\n",
    "    stats_df = pd.DataFrame(columns=['decomp', 'nbr_recieved_chks', 'nbr_total_chks', 'total_time', \"sizes\", \"context\", \"delta_size\", \"predicate\", \"dataset_idx\", \"baseline\", \"dataset\"])\n",
    "    for baseline_on in [True, False]:\n",
    "        act_deact_baseline(activate=baseline_on)\n",
    "        for dataset in tqdm(datasets):\n",
    "            evaluate_dataset(dataset[0], stats_df, delta_size=dataset[1]  if not baseline_on else 100000, dataset_name=dataset[2]) # Second param: PLOT?\n",
    "    stats_df.to_csv('stats_df.csv', index=False)\n",
    "\n",
    "else:\n",
    "    stats_df = pd.read_csv('stats_df.csv')"
   ]
  },
  {
   "cell_type": "markdown",
   "metadata": {},
   "source": [
    "#### Total Execution Time by Context"
   ]
  },
  {
   "attachments": {},
   "cell_type": "markdown",
   "metadata": {},
   "source": [
    "##### Bars"
   ]
  },
  {
   "cell_type": "code",
   "execution_count": 64,
   "metadata": {},
   "outputs": [],
   "source": [
    "def plot_total_time_bars(df, is_predicate=False, size_cat_excl=[], log_scale=True):\n",
    "    df = df[(df['predicate'] == is_predicate)] #(df['sizes'].isin([\"Small/Small\", \"Medium/Medium\", \"Large/Large\"]))]\n",
    "\n",
    "    df = df.groupby(['context', 'baseline', 'sizes']).mean()\n",
    "    df.reset_index(inplace=True)\n",
    "    baseline_df = df[df['baseline']]\n",
    "    not_baseline_df = df[~df['baseline']]\n",
    "    baseline_df.sort_values(by=['context', 'sizes'])\n",
    "    not_baseline_df.sort_values(by=['context', 'sizes'])\n",
    "    not_baseline_df['total_time_ratio'] = not_baseline_df['total_time'].values / baseline_df['total_time'].values\n",
    "    df = not_baseline_df\n",
    "\n",
    "\n",
    "\n",
    "    df.loc[~df['baseline'], 'decomp_ratio'] = df.loc[~df['baseline'], 'total_time_ratio'] *  df.loc[~df['baseline'], 'decomp'] / df.loc[~df['baseline'], 'total_time']    \n",
    "    df['total_time_ratio'] = df.loc[~df['baseline'], 'total_time_ratio'] - df.loc[~df['baseline'], 'decomp_ratio']\n",
    "    df = df[df['baseline'] == False]\n",
    "    intersection_formatting = \"Intersection\" if not is_predicate else \"Is_Intersection\"\n",
    "    df = pd.concat([df] * 2, ignore_index=True)\n",
    "\n",
    "    new_column_values = ([\"Decompression\"] * (len(df) // 2))\n",
    "    new_column_values.extend(([\"Intersection\"] * (len(df) // 2)))\n",
    "\n",
    "    df['Stage'] = new_column_values\n",
    "    df['time'] = df.apply(lambda x: x['decomp_ratio'] if x[\"Stage\"] == \"Decompression\" else x['total_time_ratio'], axis=1)\n",
    "    df = df[['time', 'context', 'sizes', 'Stage']]\n",
    "    fig = px.bar(df, \n",
    "                       x=\"context\", \n",
    "                       y=\"time\", \n",
    "                       facet_col=\"sizes\", \n",
    "                       color=\"Stage\",\n",
    "                       barmode='group',\n",
    "                       log_y=log_scale, \n",
    "                       facet_col_spacing=0.1, \n",
    "                       #histfunc=\"avg\", \n",
    "                       title=f\"Execution Time for {intersection_formatting} in Different Contexts & Sizes\",\n",
    "                       labels=dict(sizes=\"Geometry Sizes\", context=\"Context\", baseline=\"Baseline\", Stage=\"Stage: \"),\n",
    "                       facet_col_wrap=3,\n",
    "                       facet_row_spacing=0.1,\n",
    "                       height=1000,\n",
    "                       width=1000,\n",
    "                       pattern_shape='Stage',\n",
    "                       #text=\"time\"\n",
    "                       )\n",
    "\n",
    "    make_general_facet_title(fig, \"Bounding Box Context\", \"Relative Mean Execution Time (%)\", barplot=True)\n",
    "    #fig.update_annotations(font=dict(size=14))\n",
    "    fig.for_each_yaxis(lambda yaxis: yaxis.update(showticklabels=True))\n",
    "    fig.update_yaxes(matches=None, showticklabels=True, visible=True,  tickfont=dict(size=14))\n",
    "    fig.update_xaxes(tickfont=dict(size=14))\n",
    "   # fig.update_traces(texttemplate='%{text:.2}', textposition='inside', textfont=dict(color='white'))\n",
    "\n",
    "    fig.update_layout(barmode=\"relative\",\n",
    "                      title_x=0.5,\n",
    "                      width=1000, \n",
    "                      height=1000, \n",
    "                      legend=dict(\n",
    "                            yanchor=\"top\",\n",
    "                            y=-0.15,\n",
    "                            xanchor=\"left\",\n",
    "                            x=0.7,\n",
    "                            orientation=\"h\",\n",
    "                            font=dict(size=15),\n",
    "                        ),\n",
    "                        title=dict(\n",
    "                            text=f'Relative Mean Execution Time for Intersection in Different Contexts',\n",
    "                            x=0.5,\n",
    "                            font=dict(size=22)\n",
    "                            )\n",
    "                        )\n",
    "   \n",
    "    fig.show()\n"
   ]
  },
  {
   "cell_type": "code",
   "execution_count": null,
   "metadata": {},
   "outputs": [],
   "source": []
  },
  {
   "cell_type": "code",
   "execution_count": 65,
   "metadata": {},
   "outputs": [
    {
     "data": {
      "application/vnd.plotly.v1+json": {
       "config": {
        "plotlyServerURL": "https://plot.ly"
       },
       "data": [
        {
         "alignmentgroup": "True",
         "hovertemplate": "Stage: =Decompression<br>Geometry Sizes=Small/Small<br>Context=%{x}<br>time=%{y}<extra></extra>",
         "legendgroup": "Decompression",
         "marker": {
          "color": "#636efa",
          "pattern": {
           "shape": ""
          }
         },
         "name": "Decompression",
         "offsetgroup": "Decompression",
         "orientation": "v",
         "showlegend": true,
         "textposition": "auto",
         "type": "bar",
         "x": [
          "Fully Inside Other (TRUE)",
          "Overlap (FALSE)",
          "Partial Overlap (TRUE)"
         ],
         "xaxis": "x4",
         "y": [
          0.39378783991961236,
          0.1951416902869319,
          0.09994689146070555
         ],
         "yaxis": "y4"
        },
        {
         "alignmentgroup": "True",
         "hovertemplate": "Stage: =Decompression<br>Geometry Sizes=Large/Large<br>Context=%{x}<br>time=%{y}<extra></extra>",
         "legendgroup": "Decompression",
         "marker": {
          "color": "#636efa",
          "pattern": {
           "shape": ""
          }
         },
         "name": "Decompression",
         "offsetgroup": "Decompression",
         "orientation": "v",
         "showlegend": false,
         "textposition": "auto",
         "type": "bar",
         "x": [
          "Overlap (FALSE)",
          "Partial Overlap (TRUE)"
         ],
         "xaxis": "x5",
         "y": [
          0.041241967574279705,
          0.04367620071879077
         ],
         "yaxis": "y5"
        },
        {
         "alignmentgroup": "True",
         "hovertemplate": "Stage: =Decompression<br>Geometry Sizes=Medium/Large<br>Context=%{x}<br>time=%{y}<extra></extra>",
         "legendgroup": "Decompression",
         "marker": {
          "color": "#636efa",
          "pattern": {
           "shape": ""
          }
         },
         "name": "Decompression",
         "offsetgroup": "Decompression",
         "orientation": "v",
         "showlegend": false,
         "textposition": "auto",
         "type": "bar",
         "x": [
          "Overlap (FALSE)",
          "Partial Overlap (TRUE)"
         ],
         "xaxis": "x6",
         "y": [
          0.1149875666683524,
          0.13486859439840854
         ],
         "yaxis": "y6"
        },
        {
         "alignmentgroup": "True",
         "hovertemplate": "Stage: =Decompression<br>Geometry Sizes=Small/Large<br>Context=%{x}<br>time=%{y}<extra></extra>",
         "legendgroup": "Decompression",
         "marker": {
          "color": "#636efa",
          "pattern": {
           "shape": ""
          }
         },
         "name": "Decompression",
         "offsetgroup": "Decompression",
         "orientation": "v",
         "showlegend": false,
         "textposition": "auto",
         "type": "bar",
         "x": [
          "Overlap (FALSE)",
          "Partial Overlap (TRUE)"
         ],
         "xaxis": "x",
         "y": [
          0.10195410175723164,
          0.16261092288987777
         ],
         "yaxis": "y"
        },
        {
         "alignmentgroup": "True",
         "hovertemplate": "Stage: =Decompression<br>Geometry Sizes=Small/Medium<br>Context=%{x}<br>time=%{y}<extra></extra>",
         "legendgroup": "Decompression",
         "marker": {
          "color": "#636efa",
          "pattern": {
           "shape": ""
          }
         },
         "name": "Decompression",
         "offsetgroup": "Decompression",
         "orientation": "v",
         "showlegend": false,
         "textposition": "auto",
         "type": "bar",
         "x": [
          "Overlap (FALSE)",
          "Partial Overlap (TRUE)"
         ],
         "xaxis": "x2",
         "y": [
          0.0980964379711801,
          0.1671940152837585
         ],
         "yaxis": "y2"
        },
        {
         "alignmentgroup": "True",
         "hovertemplate": "Stage: =Intersection<br>Geometry Sizes=Small/Small<br>Context=%{x}<br>time=%{y}<extra></extra>",
         "legendgroup": "Intersection",
         "marker": {
          "color": "#EF553B",
          "pattern": {
           "shape": "/"
          }
         },
         "name": "Intersection",
         "offsetgroup": "Intersection",
         "orientation": "v",
         "showlegend": true,
         "textposition": "auto",
         "type": "bar",
         "x": [
          "Fully Inside Other (TRUE)",
          "Overlap (FALSE)",
          "Partial Overlap (TRUE)"
         ],
         "xaxis": "x4",
         "y": [
          0.9470424586968245,
          0.394652498358182,
          0.8328818861451703
         ],
         "yaxis": "y4"
        },
        {
         "alignmentgroup": "True",
         "hovertemplate": "Stage: =Intersection<br>Geometry Sizes=Large/Large<br>Context=%{x}<br>time=%{y}<extra></extra>",
         "legendgroup": "Intersection",
         "marker": {
          "color": "#EF553B",
          "pattern": {
           "shape": "/"
          }
         },
         "name": "Intersection",
         "offsetgroup": "Intersection",
         "orientation": "v",
         "showlegend": false,
         "textposition": "auto",
         "type": "bar",
         "x": [
          "Overlap (FALSE)",
          "Partial Overlap (TRUE)"
         ],
         "xaxis": "x5",
         "y": [
          0.01902228548597565,
          0.2891613342790099
         ],
         "yaxis": "y5"
        },
        {
         "alignmentgroup": "True",
         "hovertemplate": "Stage: =Intersection<br>Geometry Sizes=Medium/Large<br>Context=%{x}<br>time=%{y}<extra></extra>",
         "legendgroup": "Intersection",
         "marker": {
          "color": "#EF553B",
          "pattern": {
           "shape": "/"
          }
         },
         "name": "Intersection",
         "offsetgroup": "Intersection",
         "orientation": "v",
         "showlegend": false,
         "textposition": "auto",
         "type": "bar",
         "x": [
          "Overlap (FALSE)",
          "Partial Overlap (TRUE)"
         ],
         "xaxis": "x6",
         "y": [
          0.06086895978211772,
          0.19357833337101632
         ],
         "yaxis": "y6"
        },
        {
         "alignmentgroup": "True",
         "hovertemplate": "Stage: =Intersection<br>Geometry Sizes=Small/Large<br>Context=%{x}<br>time=%{y}<extra></extra>",
         "legendgroup": "Intersection",
         "marker": {
          "color": "#EF553B",
          "pattern": {
           "shape": "/"
          }
         },
         "name": "Intersection",
         "offsetgroup": "Intersection",
         "orientation": "v",
         "showlegend": false,
         "textposition": "auto",
         "type": "bar",
         "x": [
          "Overlap (FALSE)",
          "Partial Overlap (TRUE)"
         ],
         "xaxis": "x",
         "y": [
          0.020635237289412717,
          0.25858277579989475
         ],
         "yaxis": "y"
        },
        {
         "alignmentgroup": "True",
         "hovertemplate": "Stage: =Intersection<br>Geometry Sizes=Small/Medium<br>Context=%{x}<br>time=%{y}<extra></extra>",
         "legendgroup": "Intersection",
         "marker": {
          "color": "#EF553B",
          "pattern": {
           "shape": "/"
          }
         },
         "name": "Intersection",
         "offsetgroup": "Intersection",
         "orientation": "v",
         "showlegend": false,
         "textposition": "auto",
         "type": "bar",
         "x": [
          "Overlap (FALSE)",
          "Partial Overlap (TRUE)"
         ],
         "xaxis": "x2",
         "y": [
          0.049334490658955746,
          0.5621106405715937
         ],
         "yaxis": "y2"
        }
       ],
       "layout": {
        "annotations": [
         {
          "showarrow": false,
          "text": "Geometry Sizes=Small/Large",
          "x": 0.13333333333333333,
          "xanchor": "center",
          "xref": "paper",
          "y": 0.45,
          "yanchor": "bottom",
          "yref": "paper"
         },
         {
          "showarrow": false,
          "text": "Geometry Sizes=Small/Medium",
          "x": 0.5,
          "xanchor": "center",
          "xref": "paper",
          "y": 0.45,
          "yanchor": "bottom",
          "yref": "paper"
         },
         {
          "showarrow": false,
          "text": "Geometry Sizes=Small/Small",
          "x": 0.13333333333333333,
          "xanchor": "center",
          "xref": "paper",
          "y": 1,
          "yanchor": "bottom",
          "yref": "paper"
         },
         {
          "showarrow": false,
          "text": "Geometry Sizes=Large/Large",
          "x": 0.5,
          "xanchor": "center",
          "xref": "paper",
          "y": 1,
          "yanchor": "bottom",
          "yref": "paper"
         },
         {
          "showarrow": false,
          "text": "Geometry Sizes=Medium/Large",
          "x": 0.8666666666666667,
          "xanchor": "center",
          "xref": "paper",
          "y": 1,
          "yanchor": "bottom",
          "yref": "paper"
         },
         {
          "font": {
           "size": 20
          },
          "showarrow": false,
          "text": "Bounding Box Context",
          "x": 0.5,
          "xanchor": "center",
          "xref": "paper",
          "y": -0.15,
          "yanchor": "top",
          "yref": "paper"
         },
         {
          "font": {
           "size": 20
          },
          "showarrow": false,
          "text": "Relative Mean Execution Time (%)",
          "textangle": -90,
          "x": -0.07,
          "xanchor": "center",
          "xref": "paper",
          "y": 0.5,
          "yanchor": "middle",
          "yref": "paper"
         }
        ],
        "barmode": "relative",
        "height": 1000,
        "legend": {
         "font": {
          "size": 15
         },
         "orientation": "h",
         "title": {
          "text": "Stage: "
         },
         "tracegroupgap": 0,
         "x": 0.7,
         "xanchor": "left",
         "y": -0.15,
         "yanchor": "top"
        },
        "template": {
         "data": {
          "bar": [
           {
            "error_x": {
             "color": "#2a3f5f"
            },
            "error_y": {
             "color": "#2a3f5f"
            },
            "marker": {
             "line": {
              "color": "#E5ECF6",
              "width": 0.5
             },
             "pattern": {
              "fillmode": "overlay",
              "size": 10,
              "solidity": 0.2
             }
            },
            "type": "bar"
           }
          ],
          "barpolar": [
           {
            "marker": {
             "line": {
              "color": "#E5ECF6",
              "width": 0.5
             },
             "pattern": {
              "fillmode": "overlay",
              "size": 10,
              "solidity": 0.2
             }
            },
            "type": "barpolar"
           }
          ],
          "carpet": [
           {
            "aaxis": {
             "endlinecolor": "#2a3f5f",
             "gridcolor": "white",
             "linecolor": "white",
             "minorgridcolor": "white",
             "startlinecolor": "#2a3f5f"
            },
            "baxis": {
             "endlinecolor": "#2a3f5f",
             "gridcolor": "white",
             "linecolor": "white",
             "minorgridcolor": "white",
             "startlinecolor": "#2a3f5f"
            },
            "type": "carpet"
           }
          ],
          "choropleth": [
           {
            "colorbar": {
             "outlinewidth": 0,
             "ticks": ""
            },
            "type": "choropleth"
           }
          ],
          "contour": [
           {
            "colorbar": {
             "outlinewidth": 0,
             "ticks": ""
            },
            "colorscale": [
             [
              0,
              "#0d0887"
             ],
             [
              0.1111111111111111,
              "#46039f"
             ],
             [
              0.2222222222222222,
              "#7201a8"
             ],
             [
              0.3333333333333333,
              "#9c179e"
             ],
             [
              0.4444444444444444,
              "#bd3786"
             ],
             [
              0.5555555555555556,
              "#d8576b"
             ],
             [
              0.6666666666666666,
              "#ed7953"
             ],
             [
              0.7777777777777778,
              "#fb9f3a"
             ],
             [
              0.8888888888888888,
              "#fdca26"
             ],
             [
              1,
              "#f0f921"
             ]
            ],
            "type": "contour"
           }
          ],
          "contourcarpet": [
           {
            "colorbar": {
             "outlinewidth": 0,
             "ticks": ""
            },
            "type": "contourcarpet"
           }
          ],
          "heatmap": [
           {
            "colorbar": {
             "outlinewidth": 0,
             "ticks": ""
            },
            "colorscale": [
             [
              0,
              "#0d0887"
             ],
             [
              0.1111111111111111,
              "#46039f"
             ],
             [
              0.2222222222222222,
              "#7201a8"
             ],
             [
              0.3333333333333333,
              "#9c179e"
             ],
             [
              0.4444444444444444,
              "#bd3786"
             ],
             [
              0.5555555555555556,
              "#d8576b"
             ],
             [
              0.6666666666666666,
              "#ed7953"
             ],
             [
              0.7777777777777778,
              "#fb9f3a"
             ],
             [
              0.8888888888888888,
              "#fdca26"
             ],
             [
              1,
              "#f0f921"
             ]
            ],
            "type": "heatmap"
           }
          ],
          "heatmapgl": [
           {
            "colorbar": {
             "outlinewidth": 0,
             "ticks": ""
            },
            "colorscale": [
             [
              0,
              "#0d0887"
             ],
             [
              0.1111111111111111,
              "#46039f"
             ],
             [
              0.2222222222222222,
              "#7201a8"
             ],
             [
              0.3333333333333333,
              "#9c179e"
             ],
             [
              0.4444444444444444,
              "#bd3786"
             ],
             [
              0.5555555555555556,
              "#d8576b"
             ],
             [
              0.6666666666666666,
              "#ed7953"
             ],
             [
              0.7777777777777778,
              "#fb9f3a"
             ],
             [
              0.8888888888888888,
              "#fdca26"
             ],
             [
              1,
              "#f0f921"
             ]
            ],
            "type": "heatmapgl"
           }
          ],
          "histogram": [
           {
            "marker": {
             "pattern": {
              "fillmode": "overlay",
              "size": 10,
              "solidity": 0.2
             }
            },
            "type": "histogram"
           }
          ],
          "histogram2d": [
           {
            "colorbar": {
             "outlinewidth": 0,
             "ticks": ""
            },
            "colorscale": [
             [
              0,
              "#0d0887"
             ],
             [
              0.1111111111111111,
              "#46039f"
             ],
             [
              0.2222222222222222,
              "#7201a8"
             ],
             [
              0.3333333333333333,
              "#9c179e"
             ],
             [
              0.4444444444444444,
              "#bd3786"
             ],
             [
              0.5555555555555556,
              "#d8576b"
             ],
             [
              0.6666666666666666,
              "#ed7953"
             ],
             [
              0.7777777777777778,
              "#fb9f3a"
             ],
             [
              0.8888888888888888,
              "#fdca26"
             ],
             [
              1,
              "#f0f921"
             ]
            ],
            "type": "histogram2d"
           }
          ],
          "histogram2dcontour": [
           {
            "colorbar": {
             "outlinewidth": 0,
             "ticks": ""
            },
            "colorscale": [
             [
              0,
              "#0d0887"
             ],
             [
              0.1111111111111111,
              "#46039f"
             ],
             [
              0.2222222222222222,
              "#7201a8"
             ],
             [
              0.3333333333333333,
              "#9c179e"
             ],
             [
              0.4444444444444444,
              "#bd3786"
             ],
             [
              0.5555555555555556,
              "#d8576b"
             ],
             [
              0.6666666666666666,
              "#ed7953"
             ],
             [
              0.7777777777777778,
              "#fb9f3a"
             ],
             [
              0.8888888888888888,
              "#fdca26"
             ],
             [
              1,
              "#f0f921"
             ]
            ],
            "type": "histogram2dcontour"
           }
          ],
          "mesh3d": [
           {
            "colorbar": {
             "outlinewidth": 0,
             "ticks": ""
            },
            "type": "mesh3d"
           }
          ],
          "parcoords": [
           {
            "line": {
             "colorbar": {
              "outlinewidth": 0,
              "ticks": ""
             }
            },
            "type": "parcoords"
           }
          ],
          "pie": [
           {
            "automargin": true,
            "type": "pie"
           }
          ],
          "scatter": [
           {
            "fillpattern": {
             "fillmode": "overlay",
             "size": 10,
             "solidity": 0.2
            },
            "type": "scatter"
           }
          ],
          "scatter3d": [
           {
            "line": {
             "colorbar": {
              "outlinewidth": 0,
              "ticks": ""
             }
            },
            "marker": {
             "colorbar": {
              "outlinewidth": 0,
              "ticks": ""
             }
            },
            "type": "scatter3d"
           }
          ],
          "scattercarpet": [
           {
            "marker": {
             "colorbar": {
              "outlinewidth": 0,
              "ticks": ""
             }
            },
            "type": "scattercarpet"
           }
          ],
          "scattergeo": [
           {
            "marker": {
             "colorbar": {
              "outlinewidth": 0,
              "ticks": ""
             }
            },
            "type": "scattergeo"
           }
          ],
          "scattergl": [
           {
            "marker": {
             "colorbar": {
              "outlinewidth": 0,
              "ticks": ""
             }
            },
            "type": "scattergl"
           }
          ],
          "scattermapbox": [
           {
            "marker": {
             "colorbar": {
              "outlinewidth": 0,
              "ticks": ""
             }
            },
            "type": "scattermapbox"
           }
          ],
          "scatterpolar": [
           {
            "marker": {
             "colorbar": {
              "outlinewidth": 0,
              "ticks": ""
             }
            },
            "type": "scatterpolar"
           }
          ],
          "scatterpolargl": [
           {
            "marker": {
             "colorbar": {
              "outlinewidth": 0,
              "ticks": ""
             }
            },
            "type": "scatterpolargl"
           }
          ],
          "scatterternary": [
           {
            "marker": {
             "colorbar": {
              "outlinewidth": 0,
              "ticks": ""
             }
            },
            "type": "scatterternary"
           }
          ],
          "surface": [
           {
            "colorbar": {
             "outlinewidth": 0,
             "ticks": ""
            },
            "colorscale": [
             [
              0,
              "#0d0887"
             ],
             [
              0.1111111111111111,
              "#46039f"
             ],
             [
              0.2222222222222222,
              "#7201a8"
             ],
             [
              0.3333333333333333,
              "#9c179e"
             ],
             [
              0.4444444444444444,
              "#bd3786"
             ],
             [
              0.5555555555555556,
              "#d8576b"
             ],
             [
              0.6666666666666666,
              "#ed7953"
             ],
             [
              0.7777777777777778,
              "#fb9f3a"
             ],
             [
              0.8888888888888888,
              "#fdca26"
             ],
             [
              1,
              "#f0f921"
             ]
            ],
            "type": "surface"
           }
          ],
          "table": [
           {
            "cells": {
             "fill": {
              "color": "#EBF0F8"
             },
             "line": {
              "color": "white"
             }
            },
            "header": {
             "fill": {
              "color": "#C8D4E3"
             },
             "line": {
              "color": "white"
             }
            },
            "type": "table"
           }
          ]
         },
         "layout": {
          "annotationdefaults": {
           "arrowcolor": "#2a3f5f",
           "arrowhead": 0,
           "arrowwidth": 1
          },
          "autotypenumbers": "strict",
          "coloraxis": {
           "colorbar": {
            "outlinewidth": 0,
            "ticks": ""
           }
          },
          "colorscale": {
           "diverging": [
            [
             0,
             "#8e0152"
            ],
            [
             0.1,
             "#c51b7d"
            ],
            [
             0.2,
             "#de77ae"
            ],
            [
             0.3,
             "#f1b6da"
            ],
            [
             0.4,
             "#fde0ef"
            ],
            [
             0.5,
             "#f7f7f7"
            ],
            [
             0.6,
             "#e6f5d0"
            ],
            [
             0.7,
             "#b8e186"
            ],
            [
             0.8,
             "#7fbc41"
            ],
            [
             0.9,
             "#4d9221"
            ],
            [
             1,
             "#276419"
            ]
           ],
           "sequential": [
            [
             0,
             "#0d0887"
            ],
            [
             0.1111111111111111,
             "#46039f"
            ],
            [
             0.2222222222222222,
             "#7201a8"
            ],
            [
             0.3333333333333333,
             "#9c179e"
            ],
            [
             0.4444444444444444,
             "#bd3786"
            ],
            [
             0.5555555555555556,
             "#d8576b"
            ],
            [
             0.6666666666666666,
             "#ed7953"
            ],
            [
             0.7777777777777778,
             "#fb9f3a"
            ],
            [
             0.8888888888888888,
             "#fdca26"
            ],
            [
             1,
             "#f0f921"
            ]
           ],
           "sequentialminus": [
            [
             0,
             "#0d0887"
            ],
            [
             0.1111111111111111,
             "#46039f"
            ],
            [
             0.2222222222222222,
             "#7201a8"
            ],
            [
             0.3333333333333333,
             "#9c179e"
            ],
            [
             0.4444444444444444,
             "#bd3786"
            ],
            [
             0.5555555555555556,
             "#d8576b"
            ],
            [
             0.6666666666666666,
             "#ed7953"
            ],
            [
             0.7777777777777778,
             "#fb9f3a"
            ],
            [
             0.8888888888888888,
             "#fdca26"
            ],
            [
             1,
             "#f0f921"
            ]
           ]
          },
          "colorway": [
           "#636efa",
           "#EF553B",
           "#00cc96",
           "#ab63fa",
           "#FFA15A",
           "#19d3f3",
           "#FF6692",
           "#B6E880",
           "#FF97FF",
           "#FECB52"
          ],
          "font": {
           "color": "#2a3f5f"
          },
          "geo": {
           "bgcolor": "white",
           "lakecolor": "white",
           "landcolor": "#E5ECF6",
           "showlakes": true,
           "showland": true,
           "subunitcolor": "white"
          },
          "hoverlabel": {
           "align": "left"
          },
          "hovermode": "closest",
          "mapbox": {
           "style": "light"
          },
          "paper_bgcolor": "white",
          "plot_bgcolor": "#E5ECF6",
          "polar": {
           "angularaxis": {
            "gridcolor": "white",
            "linecolor": "white",
            "ticks": ""
           },
           "bgcolor": "#E5ECF6",
           "radialaxis": {
            "gridcolor": "white",
            "linecolor": "white",
            "ticks": ""
           }
          },
          "scene": {
           "xaxis": {
            "backgroundcolor": "#E5ECF6",
            "gridcolor": "white",
            "gridwidth": 2,
            "linecolor": "white",
            "showbackground": true,
            "ticks": "",
            "zerolinecolor": "white"
           },
           "yaxis": {
            "backgroundcolor": "#E5ECF6",
            "gridcolor": "white",
            "gridwidth": 2,
            "linecolor": "white",
            "showbackground": true,
            "ticks": "",
            "zerolinecolor": "white"
           },
           "zaxis": {
            "backgroundcolor": "#E5ECF6",
            "gridcolor": "white",
            "gridwidth": 2,
            "linecolor": "white",
            "showbackground": true,
            "ticks": "",
            "zerolinecolor": "white"
           }
          },
          "shapedefaults": {
           "line": {
            "color": "#2a3f5f"
           }
          },
          "ternary": {
           "aaxis": {
            "gridcolor": "white",
            "linecolor": "white",
            "ticks": ""
           },
           "baxis": {
            "gridcolor": "white",
            "linecolor": "white",
            "ticks": ""
           },
           "bgcolor": "#E5ECF6",
           "caxis": {
            "gridcolor": "white",
            "linecolor": "white",
            "ticks": ""
           }
          },
          "title": {
           "x": 0.05
          },
          "xaxis": {
           "automargin": true,
           "gridcolor": "white",
           "linecolor": "white",
           "ticks": "",
           "title": {
            "standoff": 15
           },
           "zerolinecolor": "white",
           "zerolinewidth": 2
          },
          "yaxis": {
           "automargin": true,
           "gridcolor": "white",
           "linecolor": "white",
           "ticks": "",
           "title": {
            "standoff": 15
           },
           "zerolinecolor": "white",
           "zerolinewidth": 2
          }
         }
        },
        "title": {
         "font": {
          "size": 22
         },
         "text": "Relative Mean Execution Time for Intersection in Different Contexts",
         "x": 0.5
        },
        "width": 1000,
        "xaxis": {
         "anchor": "y",
         "domain": [
          0,
          0.26666666666666666
         ],
         "tickfont": {
          "size": 14
         },
         "title": {
          "text": ""
         }
        },
        "xaxis2": {
         "anchor": "y2",
         "domain": [
          0.3666666666666667,
          0.6333333333333333
         ],
         "matches": "x",
         "tickfont": {
          "size": 14
         },
         "title": {
          "text": ""
         }
        },
        "xaxis3": {
         "anchor": "y3",
         "domain": [
          0.7333333333333334,
          1
         ],
         "matches": "x",
         "tickfont": {
          "size": 14
         },
         "title": {
          "text": ""
         }
        },
        "xaxis4": {
         "anchor": "y4",
         "domain": [
          0,
          0.26666666666666666
         ],
         "matches": "x",
         "showticklabels": false,
         "tickfont": {
          "size": 14
         },
         "title": {
          "text": ""
         }
        },
        "xaxis5": {
         "anchor": "y5",
         "domain": [
          0.3666666666666667,
          0.6333333333333333
         ],
         "matches": "x",
         "showticklabels": false,
         "tickfont": {
          "size": 14
         },
         "title": {
          "text": ""
         }
        },
        "xaxis6": {
         "anchor": "y6",
         "domain": [
          0.7333333333333334,
          1
         ],
         "matches": "x",
         "showticklabels": false,
         "tickfont": {
          "size": 14
         },
         "title": {
          "text": ""
         }
        },
        "yaxis": {
         "anchor": "x",
         "domain": [
          0,
          0.45
         ],
         "showticklabels": true,
         "tickfont": {
          "size": 14
         },
         "title": {
          "text": ""
         },
         "visible": true
        },
        "yaxis2": {
         "anchor": "x2",
         "domain": [
          0,
          0.45
         ],
         "showticklabels": true,
         "tickfont": {
          "size": 14
         },
         "title": {
          "text": ""
         },
         "visible": true
        },
        "yaxis3": {
         "anchor": "x3",
         "domain": [
          0,
          0.45
         ],
         "showticklabels": true,
         "tickfont": {
          "size": 14
         },
         "title": {
          "text": ""
         },
         "visible": true
        },
        "yaxis4": {
         "anchor": "x4",
         "domain": [
          0.55,
          1
         ],
         "showticklabels": true,
         "tickfont": {
          "size": 14
         },
         "title": {
          "text": ""
         },
         "visible": true
        },
        "yaxis5": {
         "anchor": "x5",
         "domain": [
          0.55,
          1
         ],
         "showticklabels": true,
         "tickfont": {
          "size": 14
         },
         "title": {
          "text": ""
         },
         "visible": true
        },
        "yaxis6": {
         "anchor": "x6",
         "domain": [
          0.55,
          1
         ],
         "showticklabels": true,
         "tickfont": {
          "size": 14
         },
         "title": {
          "text": ""
         },
         "visible": true
        }
       }
      }
     },
     "metadata": {},
     "output_type": "display_data"
    }
   ],
   "source": [
    "total_time_df = stats_df[['context', 'total_time', 'sizes', 'baseline', 'predicate', 'decomp']]\n",
    "plot_total_time_bars(total_time_df, is_predicate=False, size_cat_excl=[], log_scale=False) #"
   ]
  },
  {
   "attachments": {},
   "cell_type": "markdown",
   "metadata": {},
   "source": [
    "#### Chunk Unfolding Analyzation"
   ]
  },
  {
   "cell_type": "code",
   "execution_count": 66,
   "metadata": {},
   "outputs": [],
   "source": [
    "chunk_unfolded_df = stats_df[['nbr_recieved_chks', 'nbr_total_chks','predicate','baseline', 'context', 'sizes']]\n",
    "chunk_unfolded_df[\"chk_fraction_unfolded\"] = chunk_unfolded_df[\"nbr_recieved_chks\"].div(chunk_unfolded_df.nbr_total_chks, axis=0) * 100"
   ]
  },
  {
   "cell_type": "code",
   "execution_count": 67,
   "metadata": {},
   "outputs": [],
   "source": [
    "def plot_chunk_unfolded_frac(df, is_predicate=False, is_baseline=False):\n",
    "    df[\"chk_fraction_unfolded\"] = df[\"nbr_recieved_chks\"].div(chunk_unfolded_df.nbr_total_chks, axis=0) * 100\n",
    "    df = df[(df['predicate'] == is_predicate) & (df['sizes'].isin([\"Small/Small\", \"Medium/Medium\", \"Large/Large\"]))]\n",
    "    df = df[df['baseline'] == is_baseline]\n",
    "    df = df.groupby(['context', 'baseline', 'sizes']).mean()\n",
    "    df.reset_index(inplace=True)\n",
    "\n",
    "\n",
    "\n",
    "    intersection_format = \"Intersection\" if not is_predicate else \"IsIntersection\"\n",
    "\n",
    "    fig = px.bar(df, \n",
    "                       x=\"chk_fraction_unfolded\", \n",
    "                       y=\"context\", \n",
    "                       facet_row=\"sizes\", \n",
    "                       barmode='group',\n",
    "                       facet_col_spacing=0.1, \n",
    "                       title=f\"Fraction of Chunks Unfolded for {intersection_format}\",\n",
    "                       labels=dict(sizes=\"Geometry Sizes\", context=\"Context\", baseline=\"Baseline\", Stage=\"Stage: \"),\n",
    "                       facet_col_wrap=1,\n",
    "                       height=1000,\n",
    "                       width=1000,\n",
    "                       orientation=\"h\",\n",
    "                       text=\"chk_fraction_unfolded\"\n",
    "                       )\n",
    "    \n",
    "    fig.update_annotations(font=dict(size=16))\n",
    "    fig.for_each_yaxis(lambda yaxis: yaxis.update(showticklabels=True))\n",
    "    fig.update_yaxes(showticklabels=True, visible=True,  tickfont=dict(size=16))\n",
    "    fig.update_xaxes(tickfont=dict(size=16))\n",
    "    fig.update_traces(texttemplate='%{text:.2f}%' , textposition='inside',textfont=dict(size=14))\n",
    "    fig.update_layout(barmode=\"relative\",\n",
    "                      title_x=0.5,\n",
    "                      width=1000, \n",
    "                      height=800, \n",
    "                      legend=dict(\n",
    "                            yanchor=\"top\",\n",
    "                            y=1,\n",
    "                            xanchor=\"left\",\n",
    "                            x=0.5,\n",
    "                            orientation=\"h\",\n",
    "                            font=dict(size=16)\n",
    "                        ),\n",
    "                        title=dict(\n",
    "                            text=f'Fraction of Chunks Unfolded for Intersection in Different Contexts and Geometry Sizes',\n",
    "                            x=0.5,\n",
    "                            font=dict(size=22)\n",
    "                            ),\n",
    "                        )\n",
    "\n",
    "    for axis in fig.layout:\n",
    "        if type(fig.layout[axis]) == objs.layout.XAxis:\n",
    "            fig.layout[axis].title.text = ''\n",
    "\n",
    "    for axis in fig.layout:\n",
    "        if type(fig.layout[axis]) == objs.layout.YAxis:\n",
    "            fig.layout[axis].title.text = '' \n",
    "\n",
    "    fig.for_each_annotation(lambda a: a.update(text=a.text.split(\"=\")[1].split(\"/\")[0]))\n",
    "    #fig.for_each_trace(lambda t: t.update(name=t.name.split(\"=\")[0]))\n",
    "    fig.add_annotation(\n",
    "    dict(\n",
    "        x=0.5,\n",
    "        y=-0.04,  # adjust as needed\n",
    "        showarrow=False,\n",
    "        text=\"Chunks Unfolded (%)\",\n",
    "        xref=\"paper\",\n",
    "        yref=\"paper\",\n",
    "        font=dict(size=20),\n",
    "        xanchor=\"center\", \n",
    "        yanchor=\"top\"\n",
    "    )\n",
    "    )\n",
    "\n",
    "    fig.add_annotation(\n",
    "    dict(\n",
    "        x=1.05,\n",
    "        y=0.62,  # adjust as needed\n",
    "        showarrow=False,\n",
    "        text=\"Geometry Size\",\n",
    "        xref=\"paper\",\n",
    "        yref=\"paper\",\n",
    "        textangle=90,\n",
    "        font=dict(size=20),\n",
    "        xanchor=\"center\", \n",
    "        yanchor=\"top\"\n",
    "    )\n",
    "    )\n",
    "\n",
    "    fig.add_annotation(\n",
    "    dict(\n",
    "        x=-0.35,  # adjust as needed\n",
    "        y=0.5,\n",
    "        showarrow=False,\n",
    "        text=\"Bouning Box Context\",\n",
    "        textangle=-90,\n",
    "        xref=\"paper\",\n",
    "        yref=\"paper\",\n",
    "        font=dict(size=20),\n",
    "        xanchor=\"center\",\n",
    "        yanchor=\"middle\"\n",
    "    ))\n",
    "   \n",
    "    fig.show()"
   ]
  },
  {
   "attachments": {},
   "cell_type": "markdown",
   "metadata": {},
   "source": [
    "## Results"
   ]
  },
  {
   "attachments": {},
   "cell_type": "markdown",
   "metadata": {},
   "source": [
    "#### Total time Analysis"
   ]
  },
  {
   "attachments": {},
   "cell_type": "markdown",
   "metadata": {},
   "source": [
    "#### (%) Unfolding of chunks"
   ]
  },
  {
   "cell_type": "code",
   "execution_count": 68,
   "metadata": {},
   "outputs": [
    {
     "data": {
      "application/vnd.plotly.v1+json": {
       "config": {
        "plotlyServerURL": "https://plot.ly"
       },
       "data": [
        {
         "alignmentgroup": "True",
         "hovertemplate": "Geometry Sizes=Small/Small<br>chk_fraction_unfolded=%{text}<br>Context=%{y}<extra></extra>",
         "legendgroup": "",
         "marker": {
          "color": "#636efa",
          "pattern": {
           "shape": ""
          }
         },
         "name": "",
         "offsetgroup": "",
         "orientation": "h",
         "showlegend": false,
         "text": [
          64.28571428571428,
          33.75643524766332,
          75.83333333333333
         ],
         "textfont": {
          "size": 14
         },
         "textposition": "inside",
         "texttemplate": "%{text:.2f}%",
         "type": "bar",
         "x": [
          64.28571428571428,
          33.75643524766332,
          75.83333333333333
         ],
         "xaxis": "x2",
         "y": [
          "Fully Inside Other (TRUE)",
          "Overlap (FALSE)",
          "Partial Overlap (TRUE)"
         ],
         "yaxis": "y2"
        },
        {
         "alignmentgroup": "True",
         "hovertemplate": "Geometry Sizes=Large/Large<br>chk_fraction_unfolded=%{text}<br>Context=%{y}<extra></extra>",
         "legendgroup": "",
         "marker": {
          "color": "#636efa",
          "pattern": {
           "shape": ""
          }
         },
         "name": "",
         "offsetgroup": "",
         "orientation": "h",
         "showlegend": false,
         "text": [
          2.472269983021204,
          14.763329091993256
         ],
         "textfont": {
          "size": 14
         },
         "textposition": "inside",
         "texttemplate": "%{text:.2f}%",
         "type": "bar",
         "x": [
          2.472269983021204,
          14.763329091993256
         ],
         "xaxis": "x",
         "y": [
          "Overlap (FALSE)",
          "Partial Overlap (TRUE)"
         ],
         "yaxis": "y"
        }
       ],
       "layout": {
        "annotations": [
         {
          "font": {
           "size": 16
          },
          "showarrow": false,
          "text": "Large",
          "textangle": 90,
          "x": 0.98,
          "xanchor": "left",
          "xref": "paper",
          "y": 0.2425,
          "yanchor": "middle",
          "yref": "paper"
         },
         {
          "font": {
           "size": 16
          },
          "showarrow": false,
          "text": "Small",
          "textangle": 90,
          "x": 0.98,
          "xanchor": "left",
          "xref": "paper",
          "y": 0.7575000000000001,
          "yanchor": "middle",
          "yref": "paper"
         },
         {
          "font": {
           "size": 20
          },
          "showarrow": false,
          "text": "Chunks Unfolded (%)",
          "x": 0.5,
          "xanchor": "center",
          "xref": "paper",
          "y": -0.04,
          "yanchor": "top",
          "yref": "paper"
         },
         {
          "font": {
           "size": 20
          },
          "showarrow": false,
          "text": "Geometry Size",
          "textangle": 90,
          "x": 1.05,
          "xanchor": "center",
          "xref": "paper",
          "y": 0.62,
          "yanchor": "top",
          "yref": "paper"
         },
         {
          "font": {
           "size": 20
          },
          "showarrow": false,
          "text": "Bouning Box Context",
          "textangle": -90,
          "x": -0.35,
          "xanchor": "center",
          "xref": "paper",
          "y": 0.5,
          "yanchor": "middle",
          "yref": "paper"
         }
        ],
        "barmode": "relative",
        "height": 800,
        "legend": {
         "font": {
          "size": 16
         },
         "orientation": "h",
         "tracegroupgap": 0,
         "x": 0.5,
         "xanchor": "left",
         "y": 1,
         "yanchor": "top"
        },
        "template": {
         "data": {
          "bar": [
           {
            "error_x": {
             "color": "#2a3f5f"
            },
            "error_y": {
             "color": "#2a3f5f"
            },
            "marker": {
             "line": {
              "color": "#E5ECF6",
              "width": 0.5
             },
             "pattern": {
              "fillmode": "overlay",
              "size": 10,
              "solidity": 0.2
             }
            },
            "type": "bar"
           }
          ],
          "barpolar": [
           {
            "marker": {
             "line": {
              "color": "#E5ECF6",
              "width": 0.5
             },
             "pattern": {
              "fillmode": "overlay",
              "size": 10,
              "solidity": 0.2
             }
            },
            "type": "barpolar"
           }
          ],
          "carpet": [
           {
            "aaxis": {
             "endlinecolor": "#2a3f5f",
             "gridcolor": "white",
             "linecolor": "white",
             "minorgridcolor": "white",
             "startlinecolor": "#2a3f5f"
            },
            "baxis": {
             "endlinecolor": "#2a3f5f",
             "gridcolor": "white",
             "linecolor": "white",
             "minorgridcolor": "white",
             "startlinecolor": "#2a3f5f"
            },
            "type": "carpet"
           }
          ],
          "choropleth": [
           {
            "colorbar": {
             "outlinewidth": 0,
             "ticks": ""
            },
            "type": "choropleth"
           }
          ],
          "contour": [
           {
            "colorbar": {
             "outlinewidth": 0,
             "ticks": ""
            },
            "colorscale": [
             [
              0,
              "#0d0887"
             ],
             [
              0.1111111111111111,
              "#46039f"
             ],
             [
              0.2222222222222222,
              "#7201a8"
             ],
             [
              0.3333333333333333,
              "#9c179e"
             ],
             [
              0.4444444444444444,
              "#bd3786"
             ],
             [
              0.5555555555555556,
              "#d8576b"
             ],
             [
              0.6666666666666666,
              "#ed7953"
             ],
             [
              0.7777777777777778,
              "#fb9f3a"
             ],
             [
              0.8888888888888888,
              "#fdca26"
             ],
             [
              1,
              "#f0f921"
             ]
            ],
            "type": "contour"
           }
          ],
          "contourcarpet": [
           {
            "colorbar": {
             "outlinewidth": 0,
             "ticks": ""
            },
            "type": "contourcarpet"
           }
          ],
          "heatmap": [
           {
            "colorbar": {
             "outlinewidth": 0,
             "ticks": ""
            },
            "colorscale": [
             [
              0,
              "#0d0887"
             ],
             [
              0.1111111111111111,
              "#46039f"
             ],
             [
              0.2222222222222222,
              "#7201a8"
             ],
             [
              0.3333333333333333,
              "#9c179e"
             ],
             [
              0.4444444444444444,
              "#bd3786"
             ],
             [
              0.5555555555555556,
              "#d8576b"
             ],
             [
              0.6666666666666666,
              "#ed7953"
             ],
             [
              0.7777777777777778,
              "#fb9f3a"
             ],
             [
              0.8888888888888888,
              "#fdca26"
             ],
             [
              1,
              "#f0f921"
             ]
            ],
            "type": "heatmap"
           }
          ],
          "heatmapgl": [
           {
            "colorbar": {
             "outlinewidth": 0,
             "ticks": ""
            },
            "colorscale": [
             [
              0,
              "#0d0887"
             ],
             [
              0.1111111111111111,
              "#46039f"
             ],
             [
              0.2222222222222222,
              "#7201a8"
             ],
             [
              0.3333333333333333,
              "#9c179e"
             ],
             [
              0.4444444444444444,
              "#bd3786"
             ],
             [
              0.5555555555555556,
              "#d8576b"
             ],
             [
              0.6666666666666666,
              "#ed7953"
             ],
             [
              0.7777777777777778,
              "#fb9f3a"
             ],
             [
              0.8888888888888888,
              "#fdca26"
             ],
             [
              1,
              "#f0f921"
             ]
            ],
            "type": "heatmapgl"
           }
          ],
          "histogram": [
           {
            "marker": {
             "pattern": {
              "fillmode": "overlay",
              "size": 10,
              "solidity": 0.2
             }
            },
            "type": "histogram"
           }
          ],
          "histogram2d": [
           {
            "colorbar": {
             "outlinewidth": 0,
             "ticks": ""
            },
            "colorscale": [
             [
              0,
              "#0d0887"
             ],
             [
              0.1111111111111111,
              "#46039f"
             ],
             [
              0.2222222222222222,
              "#7201a8"
             ],
             [
              0.3333333333333333,
              "#9c179e"
             ],
             [
              0.4444444444444444,
              "#bd3786"
             ],
             [
              0.5555555555555556,
              "#d8576b"
             ],
             [
              0.6666666666666666,
              "#ed7953"
             ],
             [
              0.7777777777777778,
              "#fb9f3a"
             ],
             [
              0.8888888888888888,
              "#fdca26"
             ],
             [
              1,
              "#f0f921"
             ]
            ],
            "type": "histogram2d"
           }
          ],
          "histogram2dcontour": [
           {
            "colorbar": {
             "outlinewidth": 0,
             "ticks": ""
            },
            "colorscale": [
             [
              0,
              "#0d0887"
             ],
             [
              0.1111111111111111,
              "#46039f"
             ],
             [
              0.2222222222222222,
              "#7201a8"
             ],
             [
              0.3333333333333333,
              "#9c179e"
             ],
             [
              0.4444444444444444,
              "#bd3786"
             ],
             [
              0.5555555555555556,
              "#d8576b"
             ],
             [
              0.6666666666666666,
              "#ed7953"
             ],
             [
              0.7777777777777778,
              "#fb9f3a"
             ],
             [
              0.8888888888888888,
              "#fdca26"
             ],
             [
              1,
              "#f0f921"
             ]
            ],
            "type": "histogram2dcontour"
           }
          ],
          "mesh3d": [
           {
            "colorbar": {
             "outlinewidth": 0,
             "ticks": ""
            },
            "type": "mesh3d"
           }
          ],
          "parcoords": [
           {
            "line": {
             "colorbar": {
              "outlinewidth": 0,
              "ticks": ""
             }
            },
            "type": "parcoords"
           }
          ],
          "pie": [
           {
            "automargin": true,
            "type": "pie"
           }
          ],
          "scatter": [
           {
            "fillpattern": {
             "fillmode": "overlay",
             "size": 10,
             "solidity": 0.2
            },
            "type": "scatter"
           }
          ],
          "scatter3d": [
           {
            "line": {
             "colorbar": {
              "outlinewidth": 0,
              "ticks": ""
             }
            },
            "marker": {
             "colorbar": {
              "outlinewidth": 0,
              "ticks": ""
             }
            },
            "type": "scatter3d"
           }
          ],
          "scattercarpet": [
           {
            "marker": {
             "colorbar": {
              "outlinewidth": 0,
              "ticks": ""
             }
            },
            "type": "scattercarpet"
           }
          ],
          "scattergeo": [
           {
            "marker": {
             "colorbar": {
              "outlinewidth": 0,
              "ticks": ""
             }
            },
            "type": "scattergeo"
           }
          ],
          "scattergl": [
           {
            "marker": {
             "colorbar": {
              "outlinewidth": 0,
              "ticks": ""
             }
            },
            "type": "scattergl"
           }
          ],
          "scattermapbox": [
           {
            "marker": {
             "colorbar": {
              "outlinewidth": 0,
              "ticks": ""
             }
            },
            "type": "scattermapbox"
           }
          ],
          "scatterpolar": [
           {
            "marker": {
             "colorbar": {
              "outlinewidth": 0,
              "ticks": ""
             }
            },
            "type": "scatterpolar"
           }
          ],
          "scatterpolargl": [
           {
            "marker": {
             "colorbar": {
              "outlinewidth": 0,
              "ticks": ""
             }
            },
            "type": "scatterpolargl"
           }
          ],
          "scatterternary": [
           {
            "marker": {
             "colorbar": {
              "outlinewidth": 0,
              "ticks": ""
             }
            },
            "type": "scatterternary"
           }
          ],
          "surface": [
           {
            "colorbar": {
             "outlinewidth": 0,
             "ticks": ""
            },
            "colorscale": [
             [
              0,
              "#0d0887"
             ],
             [
              0.1111111111111111,
              "#46039f"
             ],
             [
              0.2222222222222222,
              "#7201a8"
             ],
             [
              0.3333333333333333,
              "#9c179e"
             ],
             [
              0.4444444444444444,
              "#bd3786"
             ],
             [
              0.5555555555555556,
              "#d8576b"
             ],
             [
              0.6666666666666666,
              "#ed7953"
             ],
             [
              0.7777777777777778,
              "#fb9f3a"
             ],
             [
              0.8888888888888888,
              "#fdca26"
             ],
             [
              1,
              "#f0f921"
             ]
            ],
            "type": "surface"
           }
          ],
          "table": [
           {
            "cells": {
             "fill": {
              "color": "#EBF0F8"
             },
             "line": {
              "color": "white"
             }
            },
            "header": {
             "fill": {
              "color": "#C8D4E3"
             },
             "line": {
              "color": "white"
             }
            },
            "type": "table"
           }
          ]
         },
         "layout": {
          "annotationdefaults": {
           "arrowcolor": "#2a3f5f",
           "arrowhead": 0,
           "arrowwidth": 1
          },
          "autotypenumbers": "strict",
          "coloraxis": {
           "colorbar": {
            "outlinewidth": 0,
            "ticks": ""
           }
          },
          "colorscale": {
           "diverging": [
            [
             0,
             "#8e0152"
            ],
            [
             0.1,
             "#c51b7d"
            ],
            [
             0.2,
             "#de77ae"
            ],
            [
             0.3,
             "#f1b6da"
            ],
            [
             0.4,
             "#fde0ef"
            ],
            [
             0.5,
             "#f7f7f7"
            ],
            [
             0.6,
             "#e6f5d0"
            ],
            [
             0.7,
             "#b8e186"
            ],
            [
             0.8,
             "#7fbc41"
            ],
            [
             0.9,
             "#4d9221"
            ],
            [
             1,
             "#276419"
            ]
           ],
           "sequential": [
            [
             0,
             "#0d0887"
            ],
            [
             0.1111111111111111,
             "#46039f"
            ],
            [
             0.2222222222222222,
             "#7201a8"
            ],
            [
             0.3333333333333333,
             "#9c179e"
            ],
            [
             0.4444444444444444,
             "#bd3786"
            ],
            [
             0.5555555555555556,
             "#d8576b"
            ],
            [
             0.6666666666666666,
             "#ed7953"
            ],
            [
             0.7777777777777778,
             "#fb9f3a"
            ],
            [
             0.8888888888888888,
             "#fdca26"
            ],
            [
             1,
             "#f0f921"
            ]
           ],
           "sequentialminus": [
            [
             0,
             "#0d0887"
            ],
            [
             0.1111111111111111,
             "#46039f"
            ],
            [
             0.2222222222222222,
             "#7201a8"
            ],
            [
             0.3333333333333333,
             "#9c179e"
            ],
            [
             0.4444444444444444,
             "#bd3786"
            ],
            [
             0.5555555555555556,
             "#d8576b"
            ],
            [
             0.6666666666666666,
             "#ed7953"
            ],
            [
             0.7777777777777778,
             "#fb9f3a"
            ],
            [
             0.8888888888888888,
             "#fdca26"
            ],
            [
             1,
             "#f0f921"
            ]
           ]
          },
          "colorway": [
           "#636efa",
           "#EF553B",
           "#00cc96",
           "#ab63fa",
           "#FFA15A",
           "#19d3f3",
           "#FF6692",
           "#B6E880",
           "#FF97FF",
           "#FECB52"
          ],
          "font": {
           "color": "#2a3f5f"
          },
          "geo": {
           "bgcolor": "white",
           "lakecolor": "white",
           "landcolor": "#E5ECF6",
           "showlakes": true,
           "showland": true,
           "subunitcolor": "white"
          },
          "hoverlabel": {
           "align": "left"
          },
          "hovermode": "closest",
          "mapbox": {
           "style": "light"
          },
          "paper_bgcolor": "white",
          "plot_bgcolor": "#E5ECF6",
          "polar": {
           "angularaxis": {
            "gridcolor": "white",
            "linecolor": "white",
            "ticks": ""
           },
           "bgcolor": "#E5ECF6",
           "radialaxis": {
            "gridcolor": "white",
            "linecolor": "white",
            "ticks": ""
           }
          },
          "scene": {
           "xaxis": {
            "backgroundcolor": "#E5ECF6",
            "gridcolor": "white",
            "gridwidth": 2,
            "linecolor": "white",
            "showbackground": true,
            "ticks": "",
            "zerolinecolor": "white"
           },
           "yaxis": {
            "backgroundcolor": "#E5ECF6",
            "gridcolor": "white",
            "gridwidth": 2,
            "linecolor": "white",
            "showbackground": true,
            "ticks": "",
            "zerolinecolor": "white"
           },
           "zaxis": {
            "backgroundcolor": "#E5ECF6",
            "gridcolor": "white",
            "gridwidth": 2,
            "linecolor": "white",
            "showbackground": true,
            "ticks": "",
            "zerolinecolor": "white"
           }
          },
          "shapedefaults": {
           "line": {
            "color": "#2a3f5f"
           }
          },
          "ternary": {
           "aaxis": {
            "gridcolor": "white",
            "linecolor": "white",
            "ticks": ""
           },
           "baxis": {
            "gridcolor": "white",
            "linecolor": "white",
            "ticks": ""
           },
           "bgcolor": "#E5ECF6",
           "caxis": {
            "gridcolor": "white",
            "linecolor": "white",
            "ticks": ""
           }
          },
          "title": {
           "x": 0.05
          },
          "xaxis": {
           "automargin": true,
           "gridcolor": "white",
           "linecolor": "white",
           "ticks": "",
           "title": {
            "standoff": 15
           },
           "zerolinecolor": "white",
           "zerolinewidth": 2
          },
          "yaxis": {
           "automargin": true,
           "gridcolor": "white",
           "linecolor": "white",
           "ticks": "",
           "title": {
            "standoff": 15
           },
           "zerolinecolor": "white",
           "zerolinewidth": 2
          }
         }
        },
        "title": {
         "font": {
          "size": 22
         },
         "text": "Fraction of Chunks Unfolded for Intersection in Different Contexts and Geometry Sizes",
         "x": 0.5
        },
        "width": 1000,
        "xaxis": {
         "anchor": "y",
         "domain": [
          0,
          0.98
         ],
         "tickfont": {
          "size": 16
         },
         "title": {
          "text": ""
         }
        },
        "xaxis2": {
         "anchor": "y2",
         "domain": [
          0,
          0.98
         ],
         "matches": "x",
         "showticklabels": false,
         "tickfont": {
          "size": 16
         },
         "title": {
          "text": ""
         }
        },
        "yaxis": {
         "anchor": "x",
         "domain": [
          0,
          0.485
         ],
         "showticklabels": true,
         "tickfont": {
          "size": 16
         },
         "title": {
          "text": ""
         },
         "visible": true
        },
        "yaxis2": {
         "anchor": "x2",
         "domain": [
          0.515,
          1
         ],
         "matches": "y",
         "showticklabels": true,
         "tickfont": {
          "size": 16
         },
         "title": {
          "text": ""
         },
         "visible": true
        }
       }
      }
     },
     "metadata": {},
     "output_type": "display_data"
    }
   ],
   "source": [
    "plot_chunk_unfolded_frac(chunk_unfolded_df, is_predicate=False, is_baseline=False)"
   ]
  },
  {
   "cell_type": "code",
   "execution_count": 117,
   "metadata": {},
   "outputs": [
    {
     "name": "stdout",
     "output_type": "stream",
     "text": [
      "_______________________\\Lowest relative speed by context and sizes\n"
     ]
    },
    {
     "data": {
      "text/html": [
       "<div>\n",
       "<style scoped>\n",
       "    .dataframe tbody tr th:only-of-type {\n",
       "        vertical-align: middle;\n",
       "    }\n",
       "\n",
       "    .dataframe tbody tr th {\n",
       "        vertical-align: top;\n",
       "    }\n",
       "\n",
       "    .dataframe thead th {\n",
       "        text-align: right;\n",
       "    }\n",
       "</style>\n",
       "<table border=\"1\" class=\"dataframe\">\n",
       "  <thead>\n",
       "    <tr style=\"text-align: right;\">\n",
       "      <th></th>\n",
       "      <th>decomp</th>\n",
       "      <th>nbr_recieved_chks</th>\n",
       "      <th>nbr_total_chks</th>\n",
       "      <th>total_time</th>\n",
       "      <th>sizes</th>\n",
       "      <th>context</th>\n",
       "      <th>delta_size</th>\n",
       "      <th>predicate</th>\n",
       "      <th>dataset_idx</th>\n",
       "      <th>baseline</th>\n",
       "      <th>dataset</th>\n",
       "      <th>total_time_ratio</th>\n",
       "    </tr>\n",
       "  </thead>\n",
       "  <tbody>\n",
       "    <tr>\n",
       "      <th>185</th>\n",
       "      <td>0.000051</td>\n",
       "      <td>0.0</td>\n",
       "      <td>22.0</td>\n",
       "      <td>0.000075</td>\n",
       "      <td>Large/Large</td>\n",
       "      <td>Overlap (FALSE)</td>\n",
       "      <td>15</td>\n",
       "      <td>False</td>\n",
       "      <td>0</td>\n",
       "      <td>False</td>\n",
       "      <td>sweden_data</td>\n",
       "      <td>0.025007</td>\n",
       "    </tr>\n",
       "    <tr>\n",
       "      <th>145</th>\n",
       "      <td>0.000546</td>\n",
       "      <td>8.0</td>\n",
       "      <td>51.0</td>\n",
       "      <td>0.003533</td>\n",
       "      <td>Large/Large</td>\n",
       "      <td>Partial Overlap (TRUE)</td>\n",
       "      <td>15</td>\n",
       "      <td>False</td>\n",
       "      <td>0</td>\n",
       "      <td>False</td>\n",
       "      <td>world_data</td>\n",
       "      <td>0.025902</td>\n",
       "    </tr>\n",
       "    <tr>\n",
       "      <th>239</th>\n",
       "      <td>0.000376</td>\n",
       "      <td>0.0</td>\n",
       "      <td>216.0</td>\n",
       "      <td>0.000403</td>\n",
       "      <td>Small/Large</td>\n",
       "      <td>Overlap (FALSE)</td>\n",
       "      <td>3</td>\n",
       "      <td>False</td>\n",
       "      <td>7</td>\n",
       "      <td>False</td>\n",
       "      <td>waterways</td>\n",
       "      <td>0.039605</td>\n",
       "    </tr>\n",
       "    <tr>\n",
       "      <th>243</th>\n",
       "      <td>0.000636</td>\n",
       "      <td>2.0</td>\n",
       "      <td>223.0</td>\n",
       "      <td>0.000845</td>\n",
       "      <td>Small/Large</td>\n",
       "      <td>Partial Overlap (TRUE)</td>\n",
       "      <td>3</td>\n",
       "      <td>False</td>\n",
       "      <td>9</td>\n",
       "      <td>False</td>\n",
       "      <td>waterways</td>\n",
       "      <td>0.041365</td>\n",
       "    </tr>\n",
       "    <tr>\n",
       "      <th>131</th>\n",
       "      <td>0.000119</td>\n",
       "      <td>3.0</td>\n",
       "      <td>4.0</td>\n",
       "      <td>0.000738</td>\n",
       "      <td>Small/Small</td>\n",
       "      <td>Partial Overlap (TRUE)</td>\n",
       "      <td>3</td>\n",
       "      <td>False</td>\n",
       "      <td>4</td>\n",
       "      <td>False</td>\n",
       "      <td>manual_data</td>\n",
       "      <td>0.043085</td>\n",
       "    </tr>\n",
       "    <tr>\n",
       "      <th>173</th>\n",
       "      <td>0.000091</td>\n",
       "      <td>2.0</td>\n",
       "      <td>15.0</td>\n",
       "      <td>0.000188</td>\n",
       "      <td>Small/Small</td>\n",
       "      <td>Overlap (FALSE)</td>\n",
       "      <td>3</td>\n",
       "      <td>False</td>\n",
       "      <td>4</td>\n",
       "      <td>False</td>\n",
       "      <td>lund_data</td>\n",
       "      <td>0.061513</td>\n",
       "    </tr>\n",
       "    <tr>\n",
       "      <th>229</th>\n",
       "      <td>0.000585</td>\n",
       "      <td>3.0</td>\n",
       "      <td>239.0</td>\n",
       "      <td>0.000929</td>\n",
       "      <td>Medium/Large</td>\n",
       "      <td>Partial Overlap (TRUE)</td>\n",
       "      <td>3</td>\n",
       "      <td>False</td>\n",
       "      <td>2</td>\n",
       "      <td>False</td>\n",
       "      <td>waterways</td>\n",
       "      <td>0.078066</td>\n",
       "    </tr>\n",
       "    <tr>\n",
       "      <th>217</th>\n",
       "      <td>0.000197</td>\n",
       "      <td>3.0</td>\n",
       "      <td>29.0</td>\n",
       "      <td>0.000369</td>\n",
       "      <td>Medium/Large</td>\n",
       "      <td>Overlap (FALSE)</td>\n",
       "      <td>10</td>\n",
       "      <td>False</td>\n",
       "      <td>6</td>\n",
       "      <td>False</td>\n",
       "      <td>new_york_data</td>\n",
       "      <td>0.109881</td>\n",
       "    </tr>\n",
       "    <tr>\n",
       "      <th>165</th>\n",
       "      <td>0.000140</td>\n",
       "      <td>3.0</td>\n",
       "      <td>19.0</td>\n",
       "      <td>0.000487</td>\n",
       "      <td>Small/Medium</td>\n",
       "      <td>Partial Overlap (TRUE)</td>\n",
       "      <td>3</td>\n",
       "      <td>False</td>\n",
       "      <td>0</td>\n",
       "      <td>False</td>\n",
       "      <td>lund_data</td>\n",
       "      <td>0.176938</td>\n",
       "    </tr>\n",
       "    <tr>\n",
       "      <th>177</th>\n",
       "      <td>0.000091</td>\n",
       "      <td>2.0</td>\n",
       "      <td>7.0</td>\n",
       "      <td>0.000390</td>\n",
       "      <td>Small/Small</td>\n",
       "      <td>Fully Inside Other (TRUE)</td>\n",
       "      <td>3</td>\n",
       "      <td>False</td>\n",
       "      <td>6</td>\n",
       "      <td>False</td>\n",
       "      <td>lund_data</td>\n",
       "      <td>0.258521</td>\n",
       "    </tr>\n",
       "    <tr>\n",
       "      <th>181</th>\n",
       "      <td>0.000041</td>\n",
       "      <td>0.0</td>\n",
       "      <td>17.0</td>\n",
       "      <td>0.000062</td>\n",
       "      <td>Small/Medium</td>\n",
       "      <td>Overlap (FALSE)</td>\n",
       "      <td>3</td>\n",
       "      <td>False</td>\n",
       "      <td>8</td>\n",
       "      <td>False</td>\n",
       "      <td>lund_data</td>\n",
       "      <td>0.503012</td>\n",
       "    </tr>\n",
       "  </tbody>\n",
       "</table>\n",
       "</div>"
      ],
      "text/plain": [
       "       decomp  nbr_recieved_chks  nbr_total_chks  total_time         sizes   \n",
       "185  0.000051                0.0            22.0    0.000075   Large/Large  \\\n",
       "145  0.000546                8.0            51.0    0.003533   Large/Large   \n",
       "239  0.000376                0.0           216.0    0.000403   Small/Large   \n",
       "243  0.000636                2.0           223.0    0.000845   Small/Large   \n",
       "131  0.000119                3.0             4.0    0.000738   Small/Small   \n",
       "173  0.000091                2.0            15.0    0.000188   Small/Small   \n",
       "229  0.000585                3.0           239.0    0.000929  Medium/Large   \n",
       "217  0.000197                3.0            29.0    0.000369  Medium/Large   \n",
       "165  0.000140                3.0            19.0    0.000487  Small/Medium   \n",
       "177  0.000091                2.0             7.0    0.000390   Small/Small   \n",
       "181  0.000041                0.0            17.0    0.000062  Small/Medium   \n",
       "\n",
       "                       context  delta_size  predicate  dataset_idx  baseline   \n",
       "185            Overlap (FALSE)          15      False            0     False  \\\n",
       "145     Partial Overlap (TRUE)          15      False            0     False   \n",
       "239            Overlap (FALSE)           3      False            7     False   \n",
       "243     Partial Overlap (TRUE)           3      False            9     False   \n",
       "131     Partial Overlap (TRUE)           3      False            4     False   \n",
       "173            Overlap (FALSE)           3      False            4     False   \n",
       "229     Partial Overlap (TRUE)           3      False            2     False   \n",
       "217            Overlap (FALSE)          10      False            6     False   \n",
       "165     Partial Overlap (TRUE)           3      False            0     False   \n",
       "177  Fully Inside Other (TRUE)           3      False            6     False   \n",
       "181            Overlap (FALSE)           3      False            8     False   \n",
       "\n",
       "           dataset  total_time_ratio  \n",
       "185    sweden_data          0.025007  \n",
       "145     world_data          0.025902  \n",
       "239      waterways          0.039605  \n",
       "243      waterways          0.041365  \n",
       "131    manual_data          0.043085  \n",
       "173      lund_data          0.061513  \n",
       "229      waterways          0.078066  \n",
       "217  new_york_data          0.109881  \n",
       "165      lund_data          0.176938  \n",
       "177      lund_data          0.258521  \n",
       "181      lund_data          0.503012  "
      ]
     },
     "metadata": {},
     "output_type": "display_data"
    },
    {
     "name": "stdout",
     "output_type": "stream",
     "text": [
      "_______________________\n",
      "Highest relative speed by context and sizes\n"
     ]
    },
    {
     "data": {
      "text/html": [
       "<div>\n",
       "<style scoped>\n",
       "    .dataframe tbody tr th:only-of-type {\n",
       "        vertical-align: middle;\n",
       "    }\n",
       "\n",
       "    .dataframe tbody tr th {\n",
       "        vertical-align: top;\n",
       "    }\n",
       "\n",
       "    .dataframe thead th {\n",
       "        text-align: right;\n",
       "    }\n",
       "</style>\n",
       "<table border=\"1\" class=\"dataframe\">\n",
       "  <thead>\n",
       "    <tr style=\"text-align: right;\">\n",
       "      <th></th>\n",
       "      <th>decomp</th>\n",
       "      <th>nbr_recieved_chks</th>\n",
       "      <th>nbr_total_chks</th>\n",
       "      <th>total_time</th>\n",
       "      <th>sizes</th>\n",
       "      <th>context</th>\n",
       "      <th>delta_size</th>\n",
       "      <th>predicate</th>\n",
       "      <th>dataset_idx</th>\n",
       "      <th>baseline</th>\n",
       "      <th>dataset</th>\n",
       "      <th>total_time_ratio</th>\n",
       "    </tr>\n",
       "  </thead>\n",
       "  <tbody>\n",
       "    <tr>\n",
       "      <th>153</th>\n",
       "      <td>0.000773</td>\n",
       "      <td>12.0</td>\n",
       "      <td>90.0</td>\n",
       "      <td>0.005900</td>\n",
       "      <td>Large/Large</td>\n",
       "      <td>Partial Overlap (TRUE)</td>\n",
       "      <td>15</td>\n",
       "      <td>False</td>\n",
       "      <td>4</td>\n",
       "      <td>False</td>\n",
       "      <td>world_data</td>\n",
       "      <td>1.565670</td>\n",
       "    </tr>\n",
       "    <tr>\n",
       "      <th>139</th>\n",
       "      <td>0.000240</td>\n",
       "      <td>9.0</td>\n",
       "      <td>12.0</td>\n",
       "      <td>0.000859</td>\n",
       "      <td>Small/Small</td>\n",
       "      <td>Overlap (FALSE)</td>\n",
       "      <td>3</td>\n",
       "      <td>False</td>\n",
       "      <td>1</td>\n",
       "      <td>False</td>\n",
       "      <td>special_cases</td>\n",
       "      <td>1.219057</td>\n",
       "    </tr>\n",
       "    <tr>\n",
       "      <th>193</th>\n",
       "      <td>0.000336</td>\n",
       "      <td>0.0</td>\n",
       "      <td>191.0</td>\n",
       "      <td>0.000376</td>\n",
       "      <td>Large/Large</td>\n",
       "      <td>Overlap (FALSE)</td>\n",
       "      <td>15</td>\n",
       "      <td>False</td>\n",
       "      <td>4</td>\n",
       "      <td>False</td>\n",
       "      <td>sweden_data</td>\n",
       "      <td>1.049590</td>\n",
       "    </tr>\n",
       "    <tr>\n",
       "      <th>215</th>\n",
       "      <td>0.000228</td>\n",
       "      <td>4.0</td>\n",
       "      <td>23.0</td>\n",
       "      <td>0.001160</td>\n",
       "      <td>Small/Large</td>\n",
       "      <td>Partial Overlap (TRUE)</td>\n",
       "      <td>10</td>\n",
       "      <td>False</td>\n",
       "      <td>5</td>\n",
       "      <td>False</td>\n",
       "      <td>new_york_data</td>\n",
       "      <td>1.029521</td>\n",
       "    </tr>\n",
       "    <tr>\n",
       "      <th>125</th>\n",
       "      <td>0.000125</td>\n",
       "      <td>2.0</td>\n",
       "      <td>2.0</td>\n",
       "      <td>0.001954</td>\n",
       "      <td>Small/Small</td>\n",
       "      <td>Partial Overlap (TRUE)</td>\n",
       "      <td>3</td>\n",
       "      <td>False</td>\n",
       "      <td>1</td>\n",
       "      <td>False</td>\n",
       "      <td>manual_data</td>\n",
       "      <td>1.009715</td>\n",
       "    </tr>\n",
       "    <tr>\n",
       "      <th>205</th>\n",
       "      <td>0.000177</td>\n",
       "      <td>3.0</td>\n",
       "      <td>21.0</td>\n",
       "      <td>0.000666</td>\n",
       "      <td>Medium/Large</td>\n",
       "      <td>Partial Overlap (TRUE)</td>\n",
       "      <td>10</td>\n",
       "      <td>False</td>\n",
       "      <td>0</td>\n",
       "      <td>False</td>\n",
       "      <td>new_york_data</td>\n",
       "      <td>0.935926</td>\n",
       "    </tr>\n",
       "    <tr>\n",
       "      <th>181</th>\n",
       "      <td>0.000041</td>\n",
       "      <td>0.0</td>\n",
       "      <td>17.0</td>\n",
       "      <td>0.000062</td>\n",
       "      <td>Small/Medium</td>\n",
       "      <td>Overlap (FALSE)</td>\n",
       "      <td>3</td>\n",
       "      <td>False</td>\n",
       "      <td>8</td>\n",
       "      <td>False</td>\n",
       "      <td>lund_data</td>\n",
       "      <td>0.503012</td>\n",
       "    </tr>\n",
       "    <tr>\n",
       "      <th>127</th>\n",
       "      <td>0.000283</td>\n",
       "      <td>3.0</td>\n",
       "      <td>3.0</td>\n",
       "      <td>0.000883</td>\n",
       "      <td>Small/Small</td>\n",
       "      <td>Fully Inside Other (TRUE)</td>\n",
       "      <td>3</td>\n",
       "      <td>False</td>\n",
       "      <td>2</td>\n",
       "      <td>False</td>\n",
       "      <td>manual_data</td>\n",
       "      <td>0.432088</td>\n",
       "    </tr>\n",
       "    <tr>\n",
       "      <th>233</th>\n",
       "      <td>0.000388</td>\n",
       "      <td>0.0</td>\n",
       "      <td>216.0</td>\n",
       "      <td>0.000417</td>\n",
       "      <td>Small/Large</td>\n",
       "      <td>Overlap (FALSE)</td>\n",
       "      <td>3</td>\n",
       "      <td>False</td>\n",
       "      <td>4</td>\n",
       "      <td>False</td>\n",
       "      <td>waterways</td>\n",
       "      <td>0.362778</td>\n",
       "    </tr>\n",
       "    <tr>\n",
       "      <th>167</th>\n",
       "      <td>0.000178</td>\n",
       "      <td>3.0</td>\n",
       "      <td>23.0</td>\n",
       "      <td>0.000898</td>\n",
       "      <td>Small/Medium</td>\n",
       "      <td>Partial Overlap (TRUE)</td>\n",
       "      <td>3</td>\n",
       "      <td>False</td>\n",
       "      <td>1</td>\n",
       "      <td>False</td>\n",
       "      <td>lund_data</td>\n",
       "      <td>0.197745</td>\n",
       "    </tr>\n",
       "    <tr>\n",
       "      <th>225</th>\n",
       "      <td>0.000172</td>\n",
       "      <td>0.0</td>\n",
       "      <td>87.0</td>\n",
       "      <td>0.000196</td>\n",
       "      <td>Medium/Large</td>\n",
       "      <td>Overlap (FALSE)</td>\n",
       "      <td>3</td>\n",
       "      <td>False</td>\n",
       "      <td>0</td>\n",
       "      <td>False</td>\n",
       "      <td>waterways</td>\n",
       "      <td>0.147431</td>\n",
       "    </tr>\n",
       "  </tbody>\n",
       "</table>\n",
       "</div>"
      ],
      "text/plain": [
       "       decomp  nbr_recieved_chks  nbr_total_chks  total_time         sizes   \n",
       "153  0.000773               12.0            90.0    0.005900   Large/Large  \\\n",
       "139  0.000240                9.0            12.0    0.000859   Small/Small   \n",
       "193  0.000336                0.0           191.0    0.000376   Large/Large   \n",
       "215  0.000228                4.0            23.0    0.001160   Small/Large   \n",
       "125  0.000125                2.0             2.0    0.001954   Small/Small   \n",
       "205  0.000177                3.0            21.0    0.000666  Medium/Large   \n",
       "181  0.000041                0.0            17.0    0.000062  Small/Medium   \n",
       "127  0.000283                3.0             3.0    0.000883   Small/Small   \n",
       "233  0.000388                0.0           216.0    0.000417   Small/Large   \n",
       "167  0.000178                3.0            23.0    0.000898  Small/Medium   \n",
       "225  0.000172                0.0            87.0    0.000196  Medium/Large   \n",
       "\n",
       "                       context  delta_size  predicate  dataset_idx  baseline   \n",
       "153     Partial Overlap (TRUE)          15      False            4     False  \\\n",
       "139            Overlap (FALSE)           3      False            1     False   \n",
       "193            Overlap (FALSE)          15      False            4     False   \n",
       "215     Partial Overlap (TRUE)          10      False            5     False   \n",
       "125     Partial Overlap (TRUE)           3      False            1     False   \n",
       "205     Partial Overlap (TRUE)          10      False            0     False   \n",
       "181            Overlap (FALSE)           3      False            8     False   \n",
       "127  Fully Inside Other (TRUE)           3      False            2     False   \n",
       "233            Overlap (FALSE)           3      False            4     False   \n",
       "167     Partial Overlap (TRUE)           3      False            1     False   \n",
       "225            Overlap (FALSE)           3      False            0     False   \n",
       "\n",
       "           dataset  total_time_ratio  \n",
       "153     world_data          1.565670  \n",
       "139  special_cases          1.219057  \n",
       "193    sweden_data          1.049590  \n",
       "215  new_york_data          1.029521  \n",
       "125    manual_data          1.009715  \n",
       "205  new_york_data          0.935926  \n",
       "181      lund_data          0.503012  \n",
       "127    manual_data          0.432088  \n",
       "233      waterways          0.362778  \n",
       "167      lund_data          0.197745  \n",
       "225      waterways          0.147431  "
      ]
     },
     "metadata": {},
     "output_type": "display_data"
    }
   ],
   "source": [
    "def get_max_min_relative_speed(df):\n",
    "    def calculate_ratio(x):\n",
    "        base = x[x[\"baseline\"] == True]['total_time']\n",
    "        non_base = x[x[\"baseline\"] == False]['total_time']\n",
    "        if not base.empty and not non_base.empty:\n",
    "            val = non_base.iloc[0] / base.iloc[0]\n",
    "            return val\n",
    "        else:\n",
    "            return None\n",
    "\n",
    "    df = df[stats_df['predicate'] == False]\n",
    "    df_relative = df.groupby([\"dataset_idx\", \"dataset\"]).apply(calculate_ratio)\n",
    "\n",
    "    df = df[~df['baseline']]\n",
    "    df['total_time_ratio'] = df_relative.values\n",
    "    maxes = df.sort_values(by='total_time_ratio',ascending=False).groupby(['context','sizes']).head(1)\n",
    "    mins = df.sort_values(by='total_time_ratio',ascending=True).groupby(['context','sizes']).head(1)\n",
    "    return mins, maxes\n",
    "\n",
    "mins, maxes = get_max_min_relative_speed(stats_df)\n",
    "print(\"_______________________\\Lowest relative speed by context and size\")\n",
    "display(mins)\n",
    "print(\"_______________________\\nHighest relative speed by context and size\")\n",
    "\n",
    "display(maxes)\n"
   ]
  },
  {
   "cell_type": "code",
   "execution_count": null,
   "metadata": {},
   "outputs": [],
   "source": []
  }
 ],
 "metadata": {
  "kernelspec": {
   "display_name": "Python 3",
   "language": "python",
   "name": "python3"
  },
  "language_info": {
   "codemirror_mode": {
    "name": "ipython",
    "version": 3
   },
   "file_extension": ".py",
   "mimetype": "text/x-python",
   "name": "python",
   "nbconvert_exporter": "python",
   "pygments_lexer": "ipython3",
   "version": "3.11.1"
  },
  "orig_nbformat": 4,
  "vscode": {
   "interpreter": {
    "hash": "aee8b7b246df8f9039afb4144a1f6fd8d2ca17a180786b69acc140d282b71a49"
   }
  }
 },
 "nbformat": 4,
 "nbformat_minor": 2
}
