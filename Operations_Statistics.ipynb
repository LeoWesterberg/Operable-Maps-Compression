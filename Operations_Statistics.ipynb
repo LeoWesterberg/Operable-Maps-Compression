{
 "cells": [
  {
   "attachments": {},
   "cell_type": "markdown",
   "metadata": {},
   "source": [
    "## Test Bench\n",
    "This  notebook is used to evaluate the performance of a compression algorithm.\n",
    "\n",
    "It is written such that a new compression algorithm can be added without altering the bench (just change the input in the config)."
   ]
  },
  {
   "cell_type": "code",
   "execution_count": 13,
   "metadata": {},
   "outputs": [],
   "source": [
    "# ADD NEW ALGORITHMS HERE\n",
    "from algos.alg_wkt import Wkt\n",
    "from algos.alg_wkb import Wkb\n",
    "from algos.alg_meta_wkb_comp import MetaWkbComp # Wkb with Metadat\n",
    "from algos.alg_meta_wkt_comp import MetaWktComp # Wkt with Metadat\n",
    "from algos.alg_wkb_comp import WkbComp\n",
    "from algos.alg_wkt_comp import WktComp\n",
    "from algos.alg_fpd import Fpd\n",
    "from algos.alg_fpd_extended import FpdExtended\n",
    "from algos.alg_fpd_predictor import FpdPredictor\n",
    "from algos.fpd_extended_lib.entropy_coder import *\n",
    "\n",
    "\n",
    "# CONFIG\n",
    "ALG = FpdExtended()\n",
    "#DATASET_PATH = \"data/lund_building_highway.json\"\n",
    "#DATASET_PATH = \"data/sweden_processed_whole\"\n",
    "#DATASET_PATH = \"data/world.json\"\n",
    "#DATASET_PATH = \"data/world_7_dec.json\"\n",
    "#DATASET_PATH = \"data/sweden.json\"\n",
    "#DATASET_PATH = \"data/latest_export.json\"\n",
    "#DATASET_PATH = \"data/latest_export\" # Use folder (single files)\n",
    "NBR_ITER = 100000\n",
    "N = 5\n",
    "AVOID_DATASET_LENGTH_CHECK = True # For very large folders, disable\n",
    "\n",
    "IS_SHP_DIR = True\n",
    "#DATASET_PATH = \"data/china-latest-free/gis_osm_waterways_free_1.shp\"\n",
    "DATASET_PATH = \"data/sweden-latest-free\"\n",
    "#DATASET_PATH = 'data/sweden-latest-free/gis_osm_buildings_a_free_1.shp'\n",
    "# Used sets: [\"data/sweden-latest-free/gis_osm_buildings_a_free_1.shp\", \"data/sweden-latest-free/gis_osm_roads_free_1.shp\", \"data/china-latest-free/gis_osm_water_a_free_1.shp\", \"data/ne_10m_admin_1_states_provinces.shp\"]\n",
    "\n",
    "COMPR_PATH = \"data/testbench_compressed_single\"\n",
    "#COMPR_PATH = \"data/testbench_compressed\"\n",
    "\n",
    "DECOMPR_PATH = \"data/testbench_decompressed_single\""
   ]
  },
  {
   "cell_type": "code",
   "execution_count": 14,
   "metadata": {},
   "outputs": [],
   "source": [
    "import time\n",
    "import os\n",
    "from enum import Enum\n",
    "import pandas as pd\n",
    "from datetime import datetime\n",
    "import filecmp\n",
    "import random\n",
    "import json\n",
    "import tqdm\n",
    "from shapely.geometry import shape\n",
    "import glob\n",
    "import timeit\n",
    "import shapely\n",
    "import numpy as np\n",
    "import seaborn as sns\n",
    "import matplotlib.pyplot as plt\n",
    "import geopandas as gpd\n",
    "\n",
    "# List the metrics which are to be logged\n",
    "ET = Enum('ET', ['COMP_TIME', 'DECOMP_TIME', 'COMP_SIZE', 'DECOMP_SIZE',\n",
    "    'VERTICES', 'TYPE', 'BOUNDING_BOX', 'ADD_VERTEX', 'IS_INTERSECTING', 'INTERSECTION', 'IS_BASELINE'\n",
    "]) # EVAL_TYPE\n",
    "\n",
    "if not os.path.exists(COMPR_PATH):\n",
    "   os.makedirs(COMPR_PATH)\n",
    "for f in glob.glob(COMPR_PATH + '/*'):\n",
    "    os.remove(f)\n",
    "if not os.path.exists(DECOMPR_PATH):\n",
    "   os.makedirs(DECOMPR_PATH)\n",
    "for f in glob.glob(DECOMPR_PATH + '/*'):\n",
    "    os.remove(f)"
   ]
  },
  {
   "cell_type": "code",
   "execution_count": 15,
   "metadata": {},
   "outputs": [
    {
     "name": "stdout",
     "output_type": "stream",
     "text": [
      "Count of entries: 1065926\n",
      "--- data/sweden-latest-free ---\n",
      "Count of entries (no points): 1065926\n"
     ]
    },
    {
     "name": "stderr",
     "output_type": "stream",
     "text": [
      "/Library/Frameworks/Python.framework/Versions/3.11/lib/python3.11/site-packages/geopandas/array.py:1406: UserWarning:\n",
      "\n",
      "CRS not set for some of the concatenation inputs. Setting output's CRS as WGS 84 (the single non-null crs provided).\n",
      "\n"
     ]
    },
    {
     "name": "stdout",
     "output_type": "stream",
     "text": [
      "Count of entries: 230823\n",
      "--- data/sweden-latest-free ---\n",
      "Count of entries (no points): 0\n",
      "Count of entries: 2970860\n",
      "--- data/sweden-latest-free ---\n",
      "Count of entries (no points): 2970860\n",
      "Count of entries: 107150\n",
      "--- data/sweden-latest-free ---\n",
      "Count of entries (no points): 107150\n",
      "Count of entries: 779\n",
      "--- data/sweden-latest-free ---\n",
      "Count of entries (no points): 0\n",
      "Count of entries: 298738\n",
      "--- data/sweden-latest-free ---\n",
      "Count of entries (no points): 298738\n",
      "Count of entries: 52222\n",
      "--- data/sweden-latest-free ---\n",
      "Count of entries (no points): 0\n",
      "Count of entries: 1509\n",
      "--- data/sweden-latest-free ---\n",
      "Count of entries (no points): 1509\n",
      "Count of entries: 3472\n",
      "--- data/sweden-latest-free ---\n",
      "Count of entries (no points): 3472\n",
      "Count of entries: 66473\n",
      "--- data/sweden-latest-free ---\n",
      "Count of entries (no points): 0\n",
      "Count of entries: 3761\n",
      "--- data/sweden-latest-free ---\n",
      "Count of entries (no points): 3761\n",
      "Count of entries: 127325\n",
      "--- data/sweden-latest-free ---\n",
      "Count of entries (no points): 0\n",
      "Count of entries: 79381\n",
      "--- data/sweden-latest-free ---\n",
      "Count of entries (no points): 79381\n",
      "Count of entries: 320637\n",
      "--- data/sweden-latest-free ---\n",
      "Count of entries (no points): 0\n",
      "Count of entries: 25889\n",
      "--- data/sweden-latest-free ---\n",
      "Count of entries (no points): 25889\n",
      "Count of entries: 851\n",
      "--- data/sweden-latest-free ---\n",
      "Count of entries (no points): 851\n",
      "Count of entries: 76841\n",
      "--- data/sweden-latest-free ---\n",
      "Count of entries (no points): 76841\n",
      "Count of entries: 1922358\n",
      "--- data/sweden-latest-free ---\n",
      "Count of entries (no points): 1922358\n"
     ]
    }
   ],
   "source": [
    "# Maps an evaluation type to the corresponding function in the algorithm.\n",
    "# Note that ALG (global variable) can change, so a function is used.\n",
    "from functools import reduce\n",
    "import operator\n",
    "\n",
    "def et_to_func():\n",
    "    return {\n",
    "        ET.VERTICES: ALG.vertices, \n",
    "        ET.TYPE: ALG.type,\n",
    "        ET.BOUNDING_BOX: ALG.bounding_box,\n",
    "        ET.ADD_VERTEX: ALG.add_vertex, \n",
    "        ET.IS_INTERSECTING: ALG.is_intersecting, \n",
    "        ET.INTERSECTION: ALG.intersection \n",
    "        }\n",
    "\n",
    "# Params: \"et: EVAL_TYPE, idx: geometry index to query, value_only: dont save entry in log\"\n",
    "def measure(et, args, value_only=False): # Works for functions taking only a geometry 'idx' as parameter\n",
    "    \"\"\"\n",
    "    Takes an evaluation type and executes the corresponding operation, storing the execution time and resulting value.\n",
    "    Also returns the resulting value of the operation.\n",
    "    \"\"\"\n",
    "    sum_t = 0\n",
    "    for _ in range(N):\n",
    "        func = et_to_func()[et] # Find the function to be called\n",
    "        t, v = func(args)\n",
    "        if not value_only:\n",
    "            sum_t += t\n",
    "    \n",
    "    res[et].append(sum_t / N)\n",
    "    return v\n",
    "\n",
    "SEED = 123 # If we want to enforce the same ordering and indexes for multiple runs, else None\n",
    "#SEED = random.randint(0, 9999999999999999)\n",
    "random.seed(SEED) # Init random\n",
    "\n",
    "res = {x: [] for x in ['idx_unary', 'idx_binary'] + list(ET)} # Store the 'results' of the measurements\n",
    "\n",
    "\n",
    "# ----- LOAD DATA FROM DATA SET ------\n",
    "if DATASET_PATH.endswith('.json'):\n",
    "    # Extract the nested feature attribute of the geo_json file containing the geometries\n",
    "    with open(DATASET_PATH, 'r') as f:\n",
    "        data = json.loads(f.read())\n",
    "    file_df: pd.DataFrame = pd.json_normalize(data, record_path=['features'])\n",
    "    # Create a dataframe suitable for the WKT format for easy convertion to shapely objects\n",
    "    df_dataset = pd.DataFrame(\n",
    "        {'type': file_df['geometry.type'], 'coordinates': file_df['geometry.coordinates']})\n",
    "    max_idx = len(df_dataset) - 1\n",
    "\n",
    "    def get_shape_data(idx):\n",
    "        return df_dataset.iloc[idx]\n",
    "elif DATASET_PATH.endswith('.shp') or IS_SHP_DIR:\n",
    "    if not DATASET_PATH.endswith('.shp') and IS_SHP_DIR:\n",
    "        files = glob.glob(DATASET_PATH + '/*.shp')\n",
    "    else:\n",
    "        files = [DATASET_PATH]\n",
    "\n",
    "    all_shapes = pd.DataFrame()\n",
    "    for i, f in enumerate(tqdm.tqdm(files, disable=True)):\n",
    "        file_df = gpd.read_file(f)\n",
    "        print(\"Count of entries:\", len(file_df))\n",
    "        file_df = file_df[file_df.type != \"Point\"]\n",
    "        print(\"---\", DATASET_PATH, \"---\")\n",
    "        print(\"Count of entries (no points):\", len(file_df))\n",
    "        if len(file_df) != 0:\n",
    "            shapes = file_df.geometry\n",
    "            all_shapes = pd.concat([all_shapes, shapes])\n",
    "        \n",
    "    if NBR_ITER != -1:\n",
    "        all_shapes = all_shapes.sample(n=NBR_ITER, replace=True)\n",
    "    \n",
    "    max_idx = len(shapes) - 1\n",
    "    def get_shape_data(idx):\n",
    "        return shapes.iloc[idx]\n",
    "else:\n",
    "    if not AVOID_DATASET_LENGTH_CHECK:\n",
    "        tree = os.walk(DATASET_PATH, topdown=True)\n",
    "        max_idx = len(next(tree)[2]) - 1\n",
    "    else:\n",
    "        max_idx = 5000000\n",
    "\n",
    "    def get_shape_data(idx):\n",
    "        with open(f'{DATASET_PATH}/{idx}.json', 'r') as f:\n",
    "            data = json.loads(f.read())\n",
    "        \n",
    "        file_df: pd.DataFrame = pd.json_normalize(data, record_path=['features'])\n",
    "        # # Create a dataframe suitable for the WKT format for easy convertion to shapely objects\n",
    "        df_dataset = pd.DataFrame(\n",
    "             {'type': file_df['geometry.type'], 'coordinates': file_df['geometry.coordinates']})\n",
    "        return df_dataset.iloc[0]\n",
    "# ----- /END/ LOAD DATA FROM DATA SET ------\n",
    "\n",
    "#df"
   ]
  },
  {
   "cell_type": "code",
   "execution_count": 60,
   "metadata": {},
   "outputs": [
    {
     "name": "stderr",
     "output_type": "stream",
     "text": [
      "100%|██████████| 10000/10000 [00:07<00:00, 1416.56it/s]\n",
      "100%|██████████| 20000/20000 [00:15<00:00, 1258.55it/s]\n",
      "100%|██████████| 10000/10000 [00:44<00:00, 222.58it/s]\n",
      "100%|██████████| 10000/10000 [00:17<00:00, 561.31it/s]\n",
      "100%|██████████| 10000/10000 [00:06<00:00, 1598.75it/s]\n",
      "100%|██████████| 20000/20000 [00:16<00:00, 1199.94it/s]\n",
      "100%|██████████| 10000/10000 [00:12<00:00, 796.99it/s]\n",
      "100%|██████████| 10000/10000 [00:05<00:00, 1771.48it/s]\n"
     ]
    }
   ],
   "source": [
    "unary_idxs = [random.randint(0, max_idx) for i in range(NBR_ITER if NBR_ITER != -1 else max_idx)] # Generate list of indexes to query on\n",
    "binary_idxs = [(random.randint(0, max_idx), random.randint(0, max_idx)) for i in range(NBR_ITER if NBR_ITER != -1 else max_idx)] # Generate pair of indexes to query on. # TODO: Better selection than random\n",
    "random.seed(SEED) # Reset random\n",
    "\n",
    "def act_deact_baseline(activate=True):\n",
    "        cfg.BASELINE_ON = activate\n",
    "        cfg.DISABLE_OPTIMIZED_INTERSECTION = False if not activate else True\n",
    "        cfg.DISABLE_OPTIMIZED_ADD_VERTEX = False if not activate else True\n",
    "        cfg.DISABLE_OPTIMIZED_BOUNDING_BOX = False if not activate else True\n",
    "\n",
    "def compress(data, file_comp):\n",
    "    # Compress\n",
    "    if not (IS_SHP_DIR or DATASET_PATH.endswith('.shp')):\n",
    "        geometry = shape(data)\n",
    "    else:\n",
    "        geometry = data\n",
    "    t, bin = ALG.compress(geometry)\n",
    "\n",
    "    # Write to disk\n",
    "    f = open(file_comp, \"wb\")\n",
    "    f.write(bin)\n",
    "    f.close()\n",
    "    return t, bin\n",
    "\n",
    "# Compress files, benchmark unaries\n",
    "for is_baseline in [True, False]:\n",
    "    act_deact_baseline(is_baseline)\n",
    "    for idx in tqdm.tqdm(unary_idxs): # List of single idxs\n",
    "        res[ET.IS_BASELINE].append(is_baseline) \n",
    "        file_comp = f\"{COMPR_PATH}/{idx}\"\n",
    "        #t = timeit.timeit(lambda: compress(get_shape_data(idx), file_comp), number=50)\n",
    "        t, bin = compress(get_shape_data(idx), file_comp)\n",
    "        res[ET.COMP_TIME].append(t) # Store delta time\n",
    "        #res[ET.COMP_SIZE].append(os.stat(file_comp).st_size) # Store compressed file size\n",
    "        res[ET.COMP_SIZE].append(len(bin))\n",
    "    for idx in tqdm.tqdm(list(reduce(operator.concat, binary_idxs))): # List of pairs collapsed\n",
    "        if idx not in unary_idxs:\n",
    "            file_comp = f\"{COMPR_PATH}/{idx}\"\n",
    "            compress(get_shape_data(idx), file_comp)\n",
    "\n",
    "    for i in tqdm.tqdm(range(len(unary_idxs))):\n",
    "    # ------------ UNARY ------------ #\n",
    "        idx = unary_idxs[i]\n",
    "        file_comp = f\"{COMPR_PATH}/{idx}\"\n",
    "        file_decomp = f\"{DECOMPR_PATH}/{idx}\"\n",
    "\n",
    "        res[\"idx_unary\"].append(idx)\n",
    "\n",
    "        # Read binary into memory\n",
    "        f = open(file_comp, \"rb\")\n",
    "        bin = f.read()\n",
    "        f.close()\n",
    "\n",
    "        # Decompress\n",
    "        t, decomp = ALG.decompress(bin)\n",
    "        #decomp = shapely.to_wkt(decomp, rounding_precision=-1)\n",
    "        decomp = shapely.to_wkb(decomp)\n",
    "        # Write to disk\n",
    "        f = open(file_decomp, \"wb\")\n",
    "        f.write(decomp)\n",
    "        f.close()\n",
    "        res[ET.DECOMP_TIME].append(t) # Store delta time\n",
    "        res[ET.DECOMP_SIZE].append(os.stat(file_decomp).st_size) # Store decompressed file size\n",
    "\n",
    "        v = measure(ET.VERTICES, bin)\n",
    "        measure(ET.TYPE, bin)\n",
    "        measure(ET.BOUNDING_BOX, bin)\n",
    "        add_idx = random.randint(0, len(v) - 2)\n",
    "        add_point = (round(v[add_idx][0] + random.randint(-25, 25) * 0.00001,7), round(v[add_idx][1] + random.randint(-25, 25) * 0.00001,7))\n",
    "        if not (cfg.USE_ENTROPY or cfg.COMPRESS_CHUNK):\n",
    "            measure(ET.ADD_VERTEX, (bin, add_idx, add_point))\n",
    "\n",
    "    for i in tqdm.tqdm(range(len(binary_idxs))):\n",
    "    # ------------ BINARY ------------ #\n",
    "        l_idx, r_idx = binary_idxs[i]\n",
    "\n",
    "        res[\"idx_binary\"].append(binary_idxs[i])\n",
    "\n",
    "        # Read both binary into memory\n",
    "        f = open(f\"{COMPR_PATH}/{l_idx}\", \"rb\")\n",
    "        l_bin = f.read()\n",
    "        f.close()\n",
    "\n",
    "        f = open(f\"{COMPR_PATH}/{r_idx}\", \"rb\")\n",
    "        r_bin = f.read()\n",
    "        f.close()\n",
    "\n",
    "        measure(ET.IS_INTERSECTING, (l_bin, r_bin))\n",
    "        measure(ET.INTERSECTION, (l_bin, r_bin))\n",
    "df = pd.DataFrame(res)"
   ]
  },
  {
   "cell_type": "code",
   "execution_count": 61,
   "metadata": {},
   "outputs": [],
   "source": [
    "df_relative = df.copy() \n",
    "def calculate_ratio(x):\n",
    "    base = x[x[ET.IS_BASELINE] == True]\n",
    "    non_base = x[x[ET.IS_BASELINE] == False]\n",
    "    if not base.empty and not non_base.empty:\n",
    "        return non_base.divide(base.values, axis=1)\n",
    "    else:\n",
    "        return None\n",
    "df_relative[\"idx_unary\"] += 1\n",
    "df_relative.to_csv(\"reports/\" + '_[' + DATASET_PATH.split(\"/\")[1] + \"_df]_\" + datetime.now().strftime(\"%Y-%m-%d_%H:%M:%S\") + \".csv\")                    \n",
    "\n",
    "df_relative = df_relative.groupby([\"idx_unary\", \"idx_binary\"]).apply(calculate_ratio)\n",
    "df_relative.reset_index(inplace=True)\n",
    "if 'level_2'  in  df_relative.columns:\n",
    "    df_relative.drop('level_2', axis=1, inplace=True)\n",
    "df_relative.drop([ET.IS_BASELINE, ET.TYPE, ET.VERTICES], axis=1, inplace=True)\n",
    "\n",
    "df_relative = df_relative.rename(columns={ET.IS_BASELINE: \"is_baseline\",\n",
    "                            ET.ADD_VERTEX: \"Add Vertex\",\n",
    "                            ET.IS_INTERSECTING: \"Is Intersection\",\n",
    "                            ET.INTERSECTION: \"Intersection\",\n",
    "                            ET.COMP_TIME: \"Compress\",\n",
    "                            ET.COMP_SIZE: \"comp_size\",\n",
    "                            ET.DECOMP_TIME: \"Decompress\",\n",
    "                            ET.DECOMP_SIZE: \"decomp_size\",\n",
    "                            ET.BOUNDING_BOX: \"Bounding Box\",\n",
    "                            ET.TYPE: \"Type\",\n",
    "                            ET.VERTICES: \"Verticies\"})\n"
   ]
  },
  {
   "cell_type": "code",
   "execution_count": 95,
   "metadata": {},
   "outputs": [
    {
     "data": {
      "text/html": [
       "<div>\n",
       "<style scoped>\n",
       "    .dataframe tbody tr th:only-of-type {\n",
       "        vertical-align: middle;\n",
       "    }\n",
       "\n",
       "    .dataframe tbody tr th {\n",
       "        vertical-align: top;\n",
       "    }\n",
       "\n",
       "    .dataframe thead th {\n",
       "        text-align: right;\n",
       "    }\n",
       "</style>\n",
       "<table border=\"1\" class=\"dataframe\">\n",
       "  <thead>\n",
       "    <tr style=\"text-align: right;\">\n",
       "      <th></th>\n",
       "      <th>ET.COMP_TIME</th>\n",
       "      <th>ET.DECOMP_TIME</th>\n",
       "      <th>ET.COMP_SIZE</th>\n",
       "      <th>ET.DECOMP_SIZE</th>\n",
       "      <th>ET.VERTICES</th>\n",
       "      <th>ET.TYPE</th>\n",
       "      <th>ET.BOUNDING_BOX</th>\n",
       "      <th>ET.ADD_VERTEX</th>\n",
       "      <th>ET.IS_INTERSECTING</th>\n",
       "      <th>ET.INTERSECTION</th>\n",
       "    </tr>\n",
       "    <tr>\n",
       "      <th>ET.IS_BASELINE</th>\n",
       "      <th></th>\n",
       "      <th></th>\n",
       "      <th></th>\n",
       "      <th></th>\n",
       "      <th></th>\n",
       "      <th></th>\n",
       "      <th></th>\n",
       "      <th></th>\n",
       "      <th></th>\n",
       "      <th></th>\n",
       "    </tr>\n",
       "  </thead>\n",
       "  <tbody>\n",
       "    <tr>\n",
       "      <th>False</th>\n",
       "      <td>0.000301</td>\n",
       "      <td>0.000104</td>\n",
       "      <td>222.628283</td>\n",
       "      <td>211.0072</td>\n",
       "      <td>0.000061</td>\n",
       "      <td>5.275209e-07</td>\n",
       "      <td>0.000003</td>\n",
       "      <td>0.000027</td>\n",
       "      <td>0.000008</td>\n",
       "      <td>0.000019</td>\n",
       "    </tr>\n",
       "    <tr>\n",
       "      <th>True</th>\n",
       "      <td>0.000299</td>\n",
       "      <td>0.000103</td>\n",
       "      <td>137.166950</td>\n",
       "      <td>211.0072</td>\n",
       "      <td>0.000058</td>\n",
       "      <td>5.572111e-07</td>\n",
       "      <td>0.000087</td>\n",
       "      <td>0.000574</td>\n",
       "      <td>0.000121</td>\n",
       "      <td>0.000131</td>\n",
       "    </tr>\n",
       "  </tbody>\n",
       "</table>\n",
       "</div>"
      ],
      "text/plain": [
       "                ET.COMP_TIME  ET.DECOMP_TIME  ET.COMP_SIZE  ET.DECOMP_SIZE   \n",
       "ET.IS_BASELINE                                                               \n",
       "False               0.000301        0.000104    222.628283        211.0072  \\\n",
       "True                0.000299        0.000103    137.166950        211.0072   \n",
       "\n",
       "                ET.VERTICES       ET.TYPE  ET.BOUNDING_BOX  ET.ADD_VERTEX   \n",
       "ET.IS_BASELINE                                                              \n",
       "False              0.000061  5.275209e-07         0.000003       0.000027  \\\n",
       "True               0.000058  5.572111e-07         0.000087       0.000574   \n",
       "\n",
       "                ET.IS_INTERSECTING  ET.INTERSECTION  \n",
       "ET.IS_BASELINE                                       \n",
       "False                     0.000008         0.000019  \n",
       "True                      0.000121         0.000131  "
      ]
     },
     "metadata": {},
     "output_type": "display_data"
    },
    {
     "data": {
      "text/html": [
       "<div>\n",
       "<style scoped>\n",
       "    .dataframe tbody tr th:only-of-type {\n",
       "        vertical-align: middle;\n",
       "    }\n",
       "\n",
       "    .dataframe tbody tr th {\n",
       "        vertical-align: top;\n",
       "    }\n",
       "\n",
       "    .dataframe thead th {\n",
       "        text-align: right;\n",
       "    }\n",
       "</style>\n",
       "<table border=\"1\" class=\"dataframe\">\n",
       "  <thead>\n",
       "    <tr style=\"text-align: right;\">\n",
       "      <th></th>\n",
       "      <th>ET.COMP_TIME</th>\n",
       "      <th>ET.DECOMP_TIME</th>\n",
       "      <th>ET.COMP_SIZE</th>\n",
       "      <th>ET.DECOMP_SIZE</th>\n",
       "      <th>ET.VERTICES</th>\n",
       "      <th>ET.TYPE</th>\n",
       "      <th>ET.BOUNDING_BOX</th>\n",
       "      <th>ET.ADD_VERTEX</th>\n",
       "      <th>ET.IS_INTERSECTING</th>\n",
       "      <th>ET.INTERSECTION</th>\n",
       "    </tr>\n",
       "    <tr>\n",
       "      <th>ET.IS_BASELINE</th>\n",
       "      <th></th>\n",
       "      <th></th>\n",
       "      <th></th>\n",
       "      <th></th>\n",
       "      <th></th>\n",
       "      <th></th>\n",
       "      <th></th>\n",
       "      <th></th>\n",
       "      <th></th>\n",
       "      <th></th>\n",
       "    </tr>\n",
       "  </thead>\n",
       "  <tbody>\n",
       "    <tr>\n",
       "      <th>False</th>\n",
       "      <td>0.000642</td>\n",
       "      <td>0.000234</td>\n",
       "      <td>600.3489</td>\n",
       "      <td>683.6272</td>\n",
       "      <td>0.000176</td>\n",
       "      <td>5.195280e-07</td>\n",
       "      <td>0.000003</td>\n",
       "      <td>0.000035</td>\n",
       "      <td>0.000008</td>\n",
       "      <td>0.000018</td>\n",
       "    </tr>\n",
       "    <tr>\n",
       "      <th>True</th>\n",
       "      <td>0.000562</td>\n",
       "      <td>0.000218</td>\n",
       "      <td>440.7425</td>\n",
       "      <td>683.6272</td>\n",
       "      <td>0.000165</td>\n",
       "      <td>5.150722e-07</td>\n",
       "      <td>0.000200</td>\n",
       "      <td>0.000962</td>\n",
       "      <td>0.000381</td>\n",
       "      <td>0.000394</td>\n",
       "    </tr>\n",
       "  </tbody>\n",
       "</table>\n",
       "</div>"
      ],
      "text/plain": [
       "                ET.COMP_TIME  ET.DECOMP_TIME  ET.COMP_SIZE  ET.DECOMP_SIZE   \n",
       "ET.IS_BASELINE                                                               \n",
       "False               0.000642        0.000234      600.3489        683.6272  \\\n",
       "True                0.000562        0.000218      440.7425        683.6272   \n",
       "\n",
       "                ET.VERTICES       ET.TYPE  ET.BOUNDING_BOX  ET.ADD_VERTEX   \n",
       "ET.IS_BASELINE                                                              \n",
       "False              0.000176  5.195280e-07         0.000003       0.000035  \\\n",
       "True               0.000165  5.150722e-07         0.000200       0.000962   \n",
       "\n",
       "                ET.IS_INTERSECTING  ET.INTERSECTION  \n",
       "ET.IS_BASELINE                                       \n",
       "False                     0.000008         0.000018  \n",
       "True                      0.000381         0.000394  "
      ]
     },
     "metadata": {},
     "output_type": "display_data"
    },
    {
     "data": {
      "text/html": [
       "<div>\n",
       "<style scoped>\n",
       "    .dataframe tbody tr th:only-of-type {\n",
       "        vertical-align: middle;\n",
       "    }\n",
       "\n",
       "    .dataframe tbody tr th {\n",
       "        vertical-align: top;\n",
       "    }\n",
       "\n",
       "    .dataframe thead th {\n",
       "        text-align: right;\n",
       "    }\n",
       "</style>\n",
       "<table border=\"1\" class=\"dataframe\">\n",
       "  <thead>\n",
       "    <tr style=\"text-align: right;\">\n",
       "      <th></th>\n",
       "      <th>ET.COMP_TIME</th>\n",
       "      <th>ET.DECOMP_TIME</th>\n",
       "      <th>ET.COMP_SIZE</th>\n",
       "      <th>ET.DECOMP_SIZE</th>\n",
       "      <th>ET.VERTICES</th>\n",
       "      <th>ET.TYPE</th>\n",
       "      <th>ET.BOUNDING_BOX</th>\n",
       "      <th>ET.ADD_VERTEX</th>\n",
       "      <th>ET.IS_INTERSECTING</th>\n",
       "      <th>ET.INTERSECTION</th>\n",
       "    </tr>\n",
       "    <tr>\n",
       "      <th>ET.IS_BASELINE</th>\n",
       "      <th></th>\n",
       "      <th></th>\n",
       "      <th></th>\n",
       "      <th></th>\n",
       "      <th></th>\n",
       "      <th></th>\n",
       "      <th></th>\n",
       "      <th></th>\n",
       "      <th></th>\n",
       "      <th></th>\n",
       "    </tr>\n",
       "  </thead>\n",
       "  <tbody>\n",
       "    <tr>\n",
       "      <th>False</th>\n",
       "      <td>0.003168</td>\n",
       "      <td>0.001236</td>\n",
       "      <td>4291.1279</td>\n",
       "      <td>4587.6042</td>\n",
       "      <td>0.000979</td>\n",
       "      <td>6.624584e-07</td>\n",
       "      <td>0.000003</td>\n",
       "      <td>0.000061</td>\n",
       "      <td>0.000009</td>\n",
       "      <td>0.000024</td>\n",
       "    </tr>\n",
       "    <tr>\n",
       "      <th>True</th>\n",
       "      <td>0.002866</td>\n",
       "      <td>0.001205</td>\n",
       "      <td>3371.8159</td>\n",
       "      <td>4587.6042</td>\n",
       "      <td>0.000964</td>\n",
       "      <td>6.873019e-07</td>\n",
       "      <td>0.001138</td>\n",
       "      <td>0.004237</td>\n",
       "      <td>0.002394</td>\n",
       "      <td>0.002349</td>\n",
       "    </tr>\n",
       "  </tbody>\n",
       "</table>\n",
       "</div>"
      ],
      "text/plain": [
       "                ET.COMP_TIME  ET.DECOMP_TIME  ET.COMP_SIZE  ET.DECOMP_SIZE   \n",
       "ET.IS_BASELINE                                                               \n",
       "False               0.003168        0.001236     4291.1279       4587.6042  \\\n",
       "True                0.002866        0.001205     3371.8159       4587.6042   \n",
       "\n",
       "                ET.VERTICES       ET.TYPE  ET.BOUNDING_BOX  ET.ADD_VERTEX   \n",
       "ET.IS_BASELINE                                                              \n",
       "False              0.000979  6.624584e-07         0.000003       0.000061  \\\n",
       "True               0.000964  6.873019e-07         0.001138       0.004237   \n",
       "\n",
       "                ET.IS_INTERSECTING  ET.INTERSECTION  \n",
       "ET.IS_BASELINE                                       \n",
       "False                     0.000009         0.000024  \n",
       "True                      0.002394         0.002349  "
      ]
     },
     "metadata": {},
     "output_type": "display_data"
    },
    {
     "data": {
      "text/html": [
       "<div>\n",
       "<style scoped>\n",
       "    .dataframe tbody tr th:only-of-type {\n",
       "        vertical-align: middle;\n",
       "    }\n",
       "\n",
       "    .dataframe tbody tr th {\n",
       "        vertical-align: top;\n",
       "    }\n",
       "\n",
       "    .dataframe thead th {\n",
       "        text-align: right;\n",
       "    }\n",
       "</style>\n",
       "<table border=\"1\" class=\"dataframe\">\n",
       "  <thead>\n",
       "    <tr style=\"text-align: right;\">\n",
       "      <th></th>\n",
       "      <th>Dataset</th>\n",
       "      <th>Statistic</th>\n",
       "      <th>Seconds</th>\n",
       "      <th>Compress</th>\n",
       "      <th>Decompress</th>\n",
       "      <th>Bounding Box</th>\n",
       "      <th>Add Vertex</th>\n",
       "      <th>Is Intersection</th>\n",
       "      <th>Intersection</th>\n",
       "    </tr>\n",
       "  </thead>\n",
       "  <tbody>\n",
       "    <tr>\n",
       "      <th>0</th>\n",
       "      <td>China Water</td>\n",
       "      <td>Add Vertex</td>\n",
       "      <td>4.581278</td>\n",
       "      <td>NaN</td>\n",
       "      <td>NaN</td>\n",
       "      <td>NaN</td>\n",
       "      <td>NaN</td>\n",
       "      <td>NaN</td>\n",
       "      <td>NaN</td>\n",
       "    </tr>\n",
       "    <tr>\n",
       "      <th>1</th>\n",
       "      <td>China Water</td>\n",
       "      <td>Bounding Box</td>\n",
       "      <td>3.378239</td>\n",
       "      <td>NaN</td>\n",
       "      <td>NaN</td>\n",
       "      <td>NaN</td>\n",
       "      <td>NaN</td>\n",
       "      <td>NaN</td>\n",
       "      <td>NaN</td>\n",
       "    </tr>\n",
       "    <tr>\n",
       "      <th>2</th>\n",
       "      <td>China Water</td>\n",
       "      <td>Compress</td>\n",
       "      <td>126.911883</td>\n",
       "      <td>NaN</td>\n",
       "      <td>NaN</td>\n",
       "      <td>NaN</td>\n",
       "      <td>NaN</td>\n",
       "      <td>NaN</td>\n",
       "      <td>NaN</td>\n",
       "    </tr>\n",
       "    <tr>\n",
       "      <th>3</th>\n",
       "      <td>China Water</td>\n",
       "      <td>Decompress</td>\n",
       "      <td>114.178360</td>\n",
       "      <td>NaN</td>\n",
       "      <td>NaN</td>\n",
       "      <td>NaN</td>\n",
       "      <td>NaN</td>\n",
       "      <td>NaN</td>\n",
       "      <td>NaN</td>\n",
       "    </tr>\n",
       "    <tr>\n",
       "      <th>4</th>\n",
       "      <td>China Water</td>\n",
       "      <td>Intersection</td>\n",
       "      <td>11.032883</td>\n",
       "      <td>NaN</td>\n",
       "      <td>NaN</td>\n",
       "      <td>NaN</td>\n",
       "      <td>NaN</td>\n",
       "      <td>NaN</td>\n",
       "      <td>NaN</td>\n",
       "    </tr>\n",
       "    <tr>\n",
       "      <th>...</th>\n",
       "      <td>...</td>\n",
       "      <td>...</td>\n",
       "      <td>...</td>\n",
       "      <td>...</td>\n",
       "      <td>...</td>\n",
       "      <td>...</td>\n",
       "      <td>...</td>\n",
       "      <td>...</td>\n",
       "      <td>...</td>\n",
       "    </tr>\n",
       "    <tr>\n",
       "      <th>9995</th>\n",
       "      <td>Country Borders</td>\n",
       "      <td>NaN</td>\n",
       "      <td>NaN</td>\n",
       "      <td>0.929239</td>\n",
       "      <td>0.923350</td>\n",
       "      <td>0.019999</td>\n",
       "      <td>0.070859</td>\n",
       "      <td>0.001162</td>\n",
       "      <td>0.002681</td>\n",
       "    </tr>\n",
       "    <tr>\n",
       "      <th>9996</th>\n",
       "      <td>Country Borders</td>\n",
       "      <td>NaN</td>\n",
       "      <td>NaN</td>\n",
       "      <td>2.127099</td>\n",
       "      <td>0.880218</td>\n",
       "      <td>0.031219</td>\n",
       "      <td>0.053038</td>\n",
       "      <td>0.009597</td>\n",
       "      <td>0.014263</td>\n",
       "    </tr>\n",
       "    <tr>\n",
       "      <th>9997</th>\n",
       "      <td>Country Borders</td>\n",
       "      <td>NaN</td>\n",
       "      <td>NaN</td>\n",
       "      <td>0.951946</td>\n",
       "      <td>1.128949</td>\n",
       "      <td>0.030739</td>\n",
       "      <td>0.091167</td>\n",
       "      <td>0.006172</td>\n",
       "      <td>0.022035</td>\n",
       "    </tr>\n",
       "    <tr>\n",
       "      <th>9998</th>\n",
       "      <td>Country Borders</td>\n",
       "      <td>NaN</td>\n",
       "      <td>NaN</td>\n",
       "      <td>1.143939</td>\n",
       "      <td>0.245358</td>\n",
       "      <td>0.019296</td>\n",
       "      <td>0.026636</td>\n",
       "      <td>0.000809</td>\n",
       "      <td>0.001690</td>\n",
       "    </tr>\n",
       "    <tr>\n",
       "      <th>9999</th>\n",
       "      <td>Country Borders</td>\n",
       "      <td>NaN</td>\n",
       "      <td>NaN</td>\n",
       "      <td>0.596840</td>\n",
       "      <td>1.518987</td>\n",
       "      <td>0.017991</td>\n",
       "      <td>0.031195</td>\n",
       "      <td>0.006859</td>\n",
       "      <td>0.016469</td>\n",
       "    </tr>\n",
       "  </tbody>\n",
       "</table>\n",
       "<p>90054 rows × 9 columns</p>\n",
       "</div>"
      ],
      "text/plain": [
       "              Dataset     Statistic     Seconds  Compress  Decompress   \n",
       "0         China Water    Add Vertex    4.581278       NaN         NaN  \\\n",
       "1         China Water  Bounding Box    3.378239       NaN         NaN   \n",
       "2         China Water      Compress  126.911883       NaN         NaN   \n",
       "3         China Water    Decompress  114.178360       NaN         NaN   \n",
       "4         China Water  Intersection   11.032883       NaN         NaN   \n",
       "...               ...           ...         ...       ...         ...   \n",
       "9995  Country Borders           NaN         NaN  0.929239    0.923350   \n",
       "9996  Country Borders           NaN         NaN  2.127099    0.880218   \n",
       "9997  Country Borders           NaN         NaN  0.951946    1.128949   \n",
       "9998  Country Borders           NaN         NaN  1.143939    0.245358   \n",
       "9999  Country Borders           NaN         NaN  0.596840    1.518987   \n",
       "\n",
       "      Bounding Box  Add Vertex  Is Intersection  Intersection  \n",
       "0              NaN         NaN              NaN           NaN  \n",
       "1              NaN         NaN              NaN           NaN  \n",
       "2              NaN         NaN              NaN           NaN  \n",
       "3              NaN         NaN              NaN           NaN  \n",
       "4              NaN         NaN              NaN           NaN  \n",
       "...            ...         ...              ...           ...  \n",
       "9995      0.019999    0.070859         0.001162      0.002681  \n",
       "9996      0.031219    0.053038         0.009597      0.014263  \n",
       "9997      0.030739    0.091167         0.006172      0.022035  \n",
       "9998      0.019296    0.026636         0.000809      0.001690  \n",
       "9999      0.017991    0.031195         0.006859      0.016469  \n",
       "\n",
       "[90054 rows x 9 columns]"
      ]
     },
     "metadata": {},
     "output_type": "display_data"
    }
   ],
   "source": [
    "\n",
    "if True:\n",
    "    df1 = pd.DataFrame()\n",
    "    prevs = glob.glob(f'reports/*')\n",
    "    for prev in prevs:\n",
    "        dataset = prev.split(\"[\")[1].split(\"]\")[0]\n",
    "        prev_df = pd.read_csv(prev)\n",
    "        prev_df.drop(\"idx_binary\", axis=1, inplace=True)\n",
    "        prev_df.drop(columns=[\"Unnamed: 0\",\t\"idx_unary\"],axis=1, inplace=True)\n",
    "        display(prev_df.groupby(str(ET.IS_BASELINE)).mean())\n",
    "\n",
    "        prev_df['Dataset'] = dataset\n",
    "        df1 = pd.concat([prev_df, df1])\n",
    "    display(df)\n"
   ]
  },
  {
   "attachments": {},
   "cell_type": "markdown",
   "metadata": {},
   "source": [
    "### Plot the Results"
   ]
  },
  {
   "cell_type": "code",
   "execution_count": 99,
   "metadata": {},
   "outputs": [
    {
     "data": {
      "application/vnd.plotly.v1+json": {
       "config": {
        "plotlyServerURL": "https://plot.ly"
       },
       "data": [
        {
         "alignmentgroup": "True",
         "hovertemplate": "Dataset=Sweden All<br>Statistic=%{x}<br>Seconds=%{text}<extra></extra>",
         "legendgroup": "Sweden All",
         "marker": {
          "color": "rgb(169,234,184)",
          "pattern": {
           "shape": ""
          }
         },
         "name": "Sweden All",
         "offsetgroup": "Sweden All",
         "orientation": "v",
         "showlegend": true,
         "text": [
          4.910768098943321,
          4.213144099606715,
          112.60915557627489,
          109.35100341847115,
          21.52933795739191,
          10.58457854144396
         ],
         "textfont": {
          "size": 17
         },
         "textposition": "outside",
         "texttemplate": "%{text:.1f}",
         "type": "bar",
         "x": [
          "Add Vertex",
          "Bounding Box",
          "Compress",
          "Decompress",
          "Intersection",
          "Is Intersection"
         ],
         "xaxis": "x",
         "y": [
          4.910768098943321,
          4.213144099606715,
          112.60915557627489,
          109.35100341847115,
          21.52933795739191,
          10.58457854144396
         ],
         "yaxis": "y"
        },
        {
         "alignmentgroup": "True",
         "hovertemplate": "Dataset=Country Borders<br>Statistic=%{x}<br>Seconds=%{text}<extra></extra>",
         "legendgroup": "Country Borders",
         "marker": {
          "color": "rgb(254,198,161)",
          "pattern": {
           "shape": ""
          }
         },
         "name": "Country Borders",
         "offsetgroup": "Country Borders",
         "orientation": "v",
         "showlegend": true,
         "text": [
          2.533670447896977,
          0.7625165290935279,
          114.9968363933562,
          105.68037925003748,
          1.8734082976894488,
          0.8625484948343247
         ],
         "textfont": {
          "size": 17
         },
         "textposition": "outside",
         "texttemplate": "%{text:.1f}",
         "type": "bar",
         "x": [
          "Add Vertex",
          "Bounding Box",
          "Compress",
          "Decompress",
          "Intersection",
          "Is Intersection"
         ],
         "xaxis": "x",
         "y": [
          2.533670447896977,
          0.7625165290935279,
          114.9968363933562,
          105.68037925003748,
          1.8734082976894488,
          0.8625484948343247
         ],
         "yaxis": "y"
        },
        {
         "alignmentgroup": "True",
         "hovertemplate": "Dataset=China Water<br>Statistic=%{x}<br>Seconds=%{text}<extra></extra>",
         "legendgroup": "China Water",
         "marker": {
          "color": "rgb(255,183,180)",
          "pattern": {
           "shape": ""
          }
         },
         "name": "China Water",
         "offsetgroup": "China Water",
         "orientation": "v",
         "showlegend": true,
         "text": [
          4.581277594125459,
          3.3782391615401695,
          126.91188313756862,
          114.17835976031363,
          11.032883463375033,
          5.290788660300194
         ],
         "textfont": {
          "size": 17
         },
         "textposition": "outside",
         "texttemplate": "%{text:.1f}",
         "type": "bar",
         "x": [
          "Add Vertex",
          "Bounding Box",
          "Compress",
          "Decompress",
          "Intersection",
          "Is Intersection"
         ],
         "xaxis": "x",
         "y": [
          4.581277594125459,
          3.3782391615401695,
          126.91188313756862,
          114.17835976031363,
          11.032883463375033,
          5.290788660300194
         ],
         "yaxis": "y"
        }
       ],
       "layout": {
        "barmode": "group",
        "font": {
         "family": "Arial"
        },
        "legend": {
         "font": {
          "size": 16
         },
         "orientation": "v",
         "title": {
          "text": "Dataset"
         },
         "tracegroupgap": 0,
         "x": 0.83,
         "xanchor": "left",
         "y": 1.44,
         "yanchor": "top"
        },
        "template": {
         "data": {
          "bar": [
           {
            "error_x": {
             "color": "#2a3f5f"
            },
            "error_y": {
             "color": "#2a3f5f"
            },
            "marker": {
             "line": {
              "color": "#E5ECF6",
              "width": 0.5
             },
             "pattern": {
              "fillmode": "overlay",
              "size": 10,
              "solidity": 0.2
             }
            },
            "type": "bar"
           }
          ],
          "barpolar": [
           {
            "marker": {
             "line": {
              "color": "#E5ECF6",
              "width": 0.5
             },
             "pattern": {
              "fillmode": "overlay",
              "size": 10,
              "solidity": 0.2
             }
            },
            "type": "barpolar"
           }
          ],
          "carpet": [
           {
            "aaxis": {
             "endlinecolor": "#2a3f5f",
             "gridcolor": "white",
             "linecolor": "white",
             "minorgridcolor": "white",
             "startlinecolor": "#2a3f5f"
            },
            "baxis": {
             "endlinecolor": "#2a3f5f",
             "gridcolor": "white",
             "linecolor": "white",
             "minorgridcolor": "white",
             "startlinecolor": "#2a3f5f"
            },
            "type": "carpet"
           }
          ],
          "choropleth": [
           {
            "colorbar": {
             "outlinewidth": 0,
             "ticks": ""
            },
            "type": "choropleth"
           }
          ],
          "contour": [
           {
            "colorbar": {
             "outlinewidth": 0,
             "ticks": ""
            },
            "colorscale": [
             [
              0,
              "#0d0887"
             ],
             [
              0.1111111111111111,
              "#46039f"
             ],
             [
              0.2222222222222222,
              "#7201a8"
             ],
             [
              0.3333333333333333,
              "#9c179e"
             ],
             [
              0.4444444444444444,
              "#bd3786"
             ],
             [
              0.5555555555555556,
              "#d8576b"
             ],
             [
              0.6666666666666666,
              "#ed7953"
             ],
             [
              0.7777777777777778,
              "#fb9f3a"
             ],
             [
              0.8888888888888888,
              "#fdca26"
             ],
             [
              1,
              "#f0f921"
             ]
            ],
            "type": "contour"
           }
          ],
          "contourcarpet": [
           {
            "colorbar": {
             "outlinewidth": 0,
             "ticks": ""
            },
            "type": "contourcarpet"
           }
          ],
          "heatmap": [
           {
            "colorbar": {
             "outlinewidth": 0,
             "ticks": ""
            },
            "colorscale": [
             [
              0,
              "#0d0887"
             ],
             [
              0.1111111111111111,
              "#46039f"
             ],
             [
              0.2222222222222222,
              "#7201a8"
             ],
             [
              0.3333333333333333,
              "#9c179e"
             ],
             [
              0.4444444444444444,
              "#bd3786"
             ],
             [
              0.5555555555555556,
              "#d8576b"
             ],
             [
              0.6666666666666666,
              "#ed7953"
             ],
             [
              0.7777777777777778,
              "#fb9f3a"
             ],
             [
              0.8888888888888888,
              "#fdca26"
             ],
             [
              1,
              "#f0f921"
             ]
            ],
            "type": "heatmap"
           }
          ],
          "heatmapgl": [
           {
            "colorbar": {
             "outlinewidth": 0,
             "ticks": ""
            },
            "colorscale": [
             [
              0,
              "#0d0887"
             ],
             [
              0.1111111111111111,
              "#46039f"
             ],
             [
              0.2222222222222222,
              "#7201a8"
             ],
             [
              0.3333333333333333,
              "#9c179e"
             ],
             [
              0.4444444444444444,
              "#bd3786"
             ],
             [
              0.5555555555555556,
              "#d8576b"
             ],
             [
              0.6666666666666666,
              "#ed7953"
             ],
             [
              0.7777777777777778,
              "#fb9f3a"
             ],
             [
              0.8888888888888888,
              "#fdca26"
             ],
             [
              1,
              "#f0f921"
             ]
            ],
            "type": "heatmapgl"
           }
          ],
          "histogram": [
           {
            "marker": {
             "pattern": {
              "fillmode": "overlay",
              "size": 10,
              "solidity": 0.2
             }
            },
            "type": "histogram"
           }
          ],
          "histogram2d": [
           {
            "colorbar": {
             "outlinewidth": 0,
             "ticks": ""
            },
            "colorscale": [
             [
              0,
              "#0d0887"
             ],
             [
              0.1111111111111111,
              "#46039f"
             ],
             [
              0.2222222222222222,
              "#7201a8"
             ],
             [
              0.3333333333333333,
              "#9c179e"
             ],
             [
              0.4444444444444444,
              "#bd3786"
             ],
             [
              0.5555555555555556,
              "#d8576b"
             ],
             [
              0.6666666666666666,
              "#ed7953"
             ],
             [
              0.7777777777777778,
              "#fb9f3a"
             ],
             [
              0.8888888888888888,
              "#fdca26"
             ],
             [
              1,
              "#f0f921"
             ]
            ],
            "type": "histogram2d"
           }
          ],
          "histogram2dcontour": [
           {
            "colorbar": {
             "outlinewidth": 0,
             "ticks": ""
            },
            "colorscale": [
             [
              0,
              "#0d0887"
             ],
             [
              0.1111111111111111,
              "#46039f"
             ],
             [
              0.2222222222222222,
              "#7201a8"
             ],
             [
              0.3333333333333333,
              "#9c179e"
             ],
             [
              0.4444444444444444,
              "#bd3786"
             ],
             [
              0.5555555555555556,
              "#d8576b"
             ],
             [
              0.6666666666666666,
              "#ed7953"
             ],
             [
              0.7777777777777778,
              "#fb9f3a"
             ],
             [
              0.8888888888888888,
              "#fdca26"
             ],
             [
              1,
              "#f0f921"
             ]
            ],
            "type": "histogram2dcontour"
           }
          ],
          "mesh3d": [
           {
            "colorbar": {
             "outlinewidth": 0,
             "ticks": ""
            },
            "type": "mesh3d"
           }
          ],
          "parcoords": [
           {
            "line": {
             "colorbar": {
              "outlinewidth": 0,
              "ticks": ""
             }
            },
            "type": "parcoords"
           }
          ],
          "pie": [
           {
            "automargin": true,
            "type": "pie"
           }
          ],
          "scatter": [
           {
            "fillpattern": {
             "fillmode": "overlay",
             "size": 10,
             "solidity": 0.2
            },
            "type": "scatter"
           }
          ],
          "scatter3d": [
           {
            "line": {
             "colorbar": {
              "outlinewidth": 0,
              "ticks": ""
             }
            },
            "marker": {
             "colorbar": {
              "outlinewidth": 0,
              "ticks": ""
             }
            },
            "type": "scatter3d"
           }
          ],
          "scattercarpet": [
           {
            "marker": {
             "colorbar": {
              "outlinewidth": 0,
              "ticks": ""
             }
            },
            "type": "scattercarpet"
           }
          ],
          "scattergeo": [
           {
            "marker": {
             "colorbar": {
              "outlinewidth": 0,
              "ticks": ""
             }
            },
            "type": "scattergeo"
           }
          ],
          "scattergl": [
           {
            "marker": {
             "colorbar": {
              "outlinewidth": 0,
              "ticks": ""
             }
            },
            "type": "scattergl"
           }
          ],
          "scattermapbox": [
           {
            "marker": {
             "colorbar": {
              "outlinewidth": 0,
              "ticks": ""
             }
            },
            "type": "scattermapbox"
           }
          ],
          "scatterpolar": [
           {
            "marker": {
             "colorbar": {
              "outlinewidth": 0,
              "ticks": ""
             }
            },
            "type": "scatterpolar"
           }
          ],
          "scatterpolargl": [
           {
            "marker": {
             "colorbar": {
              "outlinewidth": 0,
              "ticks": ""
             }
            },
            "type": "scatterpolargl"
           }
          ],
          "scatterternary": [
           {
            "marker": {
             "colorbar": {
              "outlinewidth": 0,
              "ticks": ""
             }
            },
            "type": "scatterternary"
           }
          ],
          "surface": [
           {
            "colorbar": {
             "outlinewidth": 0,
             "ticks": ""
            },
            "colorscale": [
             [
              0,
              "#0d0887"
             ],
             [
              0.1111111111111111,
              "#46039f"
             ],
             [
              0.2222222222222222,
              "#7201a8"
             ],
             [
              0.3333333333333333,
              "#9c179e"
             ],
             [
              0.4444444444444444,
              "#bd3786"
             ],
             [
              0.5555555555555556,
              "#d8576b"
             ],
             [
              0.6666666666666666,
              "#ed7953"
             ],
             [
              0.7777777777777778,
              "#fb9f3a"
             ],
             [
              0.8888888888888888,
              "#fdca26"
             ],
             [
              1,
              "#f0f921"
             ]
            ],
            "type": "surface"
           }
          ],
          "table": [
           {
            "cells": {
             "fill": {
              "color": "#EBF0F8"
             },
             "line": {
              "color": "white"
             }
            },
            "header": {
             "fill": {
              "color": "#C8D4E3"
             },
             "line": {
              "color": "white"
             }
            },
            "type": "table"
           }
          ]
         },
         "layout": {
          "annotationdefaults": {
           "arrowcolor": "#2a3f5f",
           "arrowhead": 0,
           "arrowwidth": 1
          },
          "autotypenumbers": "strict",
          "coloraxis": {
           "colorbar": {
            "outlinewidth": 0,
            "ticks": ""
           }
          },
          "colorscale": {
           "diverging": [
            [
             0,
             "#8e0152"
            ],
            [
             0.1,
             "#c51b7d"
            ],
            [
             0.2,
             "#de77ae"
            ],
            [
             0.3,
             "#f1b6da"
            ],
            [
             0.4,
             "#fde0ef"
            ],
            [
             0.5,
             "#f7f7f7"
            ],
            [
             0.6,
             "#e6f5d0"
            ],
            [
             0.7,
             "#b8e186"
            ],
            [
             0.8,
             "#7fbc41"
            ],
            [
             0.9,
             "#4d9221"
            ],
            [
             1,
             "#276419"
            ]
           ],
           "sequential": [
            [
             0,
             "#0d0887"
            ],
            [
             0.1111111111111111,
             "#46039f"
            ],
            [
             0.2222222222222222,
             "#7201a8"
            ],
            [
             0.3333333333333333,
             "#9c179e"
            ],
            [
             0.4444444444444444,
             "#bd3786"
            ],
            [
             0.5555555555555556,
             "#d8576b"
            ],
            [
             0.6666666666666666,
             "#ed7953"
            ],
            [
             0.7777777777777778,
             "#fb9f3a"
            ],
            [
             0.8888888888888888,
             "#fdca26"
            ],
            [
             1,
             "#f0f921"
            ]
           ],
           "sequentialminus": [
            [
             0,
             "#0d0887"
            ],
            [
             0.1111111111111111,
             "#46039f"
            ],
            [
             0.2222222222222222,
             "#7201a8"
            ],
            [
             0.3333333333333333,
             "#9c179e"
            ],
            [
             0.4444444444444444,
             "#bd3786"
            ],
            [
             0.5555555555555556,
             "#d8576b"
            ],
            [
             0.6666666666666666,
             "#ed7953"
            ],
            [
             0.7777777777777778,
             "#fb9f3a"
            ],
            [
             0.8888888888888888,
             "#fdca26"
            ],
            [
             1,
             "#f0f921"
            ]
           ]
          },
          "colorway": [
           "#636efa",
           "#EF553B",
           "#00cc96",
           "#ab63fa",
           "#FFA15A",
           "#19d3f3",
           "#FF6692",
           "#B6E880",
           "#FF97FF",
           "#FECB52"
          ],
          "font": {
           "color": "#2a3f5f"
          },
          "geo": {
           "bgcolor": "white",
           "lakecolor": "white",
           "landcolor": "#E5ECF6",
           "showlakes": true,
           "showland": true,
           "subunitcolor": "white"
          },
          "hoverlabel": {
           "align": "left"
          },
          "hovermode": "closest",
          "mapbox": {
           "style": "light"
          },
          "paper_bgcolor": "white",
          "plot_bgcolor": "#E5ECF6",
          "polar": {
           "angularaxis": {
            "gridcolor": "white",
            "linecolor": "white",
            "ticks": ""
           },
           "bgcolor": "#E5ECF6",
           "radialaxis": {
            "gridcolor": "white",
            "linecolor": "white",
            "ticks": ""
           }
          },
          "scene": {
           "xaxis": {
            "backgroundcolor": "#E5ECF6",
            "gridcolor": "white",
            "gridwidth": 2,
            "linecolor": "white",
            "showbackground": true,
            "ticks": "",
            "zerolinecolor": "white"
           },
           "yaxis": {
            "backgroundcolor": "#E5ECF6",
            "gridcolor": "white",
            "gridwidth": 2,
            "linecolor": "white",
            "showbackground": true,
            "ticks": "",
            "zerolinecolor": "white"
           },
           "zaxis": {
            "backgroundcolor": "#E5ECF6",
            "gridcolor": "white",
            "gridwidth": 2,
            "linecolor": "white",
            "showbackground": true,
            "ticks": "",
            "zerolinecolor": "white"
           }
          },
          "shapedefaults": {
           "line": {
            "color": "#2a3f5f"
           }
          },
          "ternary": {
           "aaxis": {
            "gridcolor": "white",
            "linecolor": "white",
            "ticks": ""
           },
           "baxis": {
            "gridcolor": "white",
            "linecolor": "white",
            "ticks": ""
           },
           "bgcolor": "#E5ECF6",
           "caxis": {
            "gridcolor": "white",
            "linecolor": "white",
            "ticks": ""
           }
          },
          "title": {
           "x": 0.05
          },
          "xaxis": {
           "automargin": true,
           "gridcolor": "white",
           "linecolor": "white",
           "ticks": "",
           "title": {
            "standoff": 15
           },
           "zerolinecolor": "white",
           "zerolinewidth": 2
          },
          "yaxis": {
           "automargin": true,
           "gridcolor": "white",
           "linecolor": "white",
           "ticks": "",
           "title": {
            "standoff": 15
           },
           "zerolinecolor": "white",
           "zerolinewidth": 2
          }
         }
        },
        "title": {
         "font": {
          "size": 24
         },
         "text": "Relative Execution Time for Different Operations and Datasets",
         "y": 0.86
        },
        "xaxis": {
         "anchor": "y",
         "categoryarray": [
          "Compress",
          "Decompress",
          "Intersection",
          "Is Intersection",
          "Add Vertex",
          "Bounding Box"
         ],
         "categoryorder": "array",
         "domain": [
          0,
          1
         ],
         "tickfont": {
          "size": 18
         },
         "title": {
          "font": {
           "size": 16
          },
          "text": "Operation"
         }
        },
        "yaxis": {
         "anchor": "x",
         "domain": [
          0,
          1
         ],
         "range": [
          0,
          160
         ],
         "tickfont": {
          "size": 18
         },
         "title": {
          "font": {
           "size": 22
          },
          "text": "Relative Execution time (%)"
         }
        }
       }
      }
     },
     "metadata": {},
     "output_type": "display_data"
    }
   ],
   "source": [
    "SHOW_PREVIOUS = True\n",
    "#dataset_name = os.path.splitext(os.path.basename(DATASET_PATH))[0]\n",
    "#times = df_relative.drop(axis=1, labels=['idx_unary', 'idx_binary', \"comp_size\", \"decomp_size\"])\n",
    "#times['Dataset'] = dataset_name\n",
    "times = pd.DataFrame()\n",
    "prevs = glob.glob(f'reports2/*')\n",
    "for prev in prevs:\n",
    "    dataset = prev.split(\"[\")[1].split(\"]\")[0]\n",
    "    prev_df = pd.read_csv(prev)\n",
    "    prev_df['Dataset'] = dataset\n",
    "    prev_times = prev_df.drop(axis=1, labels=['idx_unary', 'idx_binary', 'comp_size', 'decomp_size', 'Unnamed: 0'])\n",
    "    times = pd.concat([times, prev_times])\n",
    "\n",
    "times = times.melt('Dataset', var_name=\"Statistic\", value_name='Seconds')\n",
    "times['Statistic'] = times['Statistic'].apply(lambda x: str(x))\n",
    "\n",
    "import  plotly.express as px\n",
    "times.columns = ['Dataset', 'Statistic', 'Seconds']\n",
    "times = times.groupby([\"Dataset\",  \"Statistic\"]).mean()\n",
    "times.reset_index(inplace=True)\n",
    "times[\"Seconds\"] *= 100\n",
    "fig = px.bar(times, x=\"Statistic\", y='Seconds', color=\"Dataset\", barmode=\"group\", log_y=False, text=\"Seconds\", \n",
    "            title=\"Relative Execution Time for Different Operations and Datasets\",\n",
    "            category_orders={\"Statistic\": [\"Compress\", \"Decompress\", \"Intersection\", \"Is Intersection\", \"Add Vertex\", \"Bounding Box\"], \n",
    "                             \"Dataset\": [\"Sweden All\", \"China Waters\", \"Country Borders\"]},\n",
    "            color_discrete_map={\n",
    "    'Sweden All': 'rgb(169,234,184)',\n",
    "    'China Water': 'rgb(255,183,180)',\n",
    "    'Country Borders': 'rgb(254,198,161)'\n",
    "})\n",
    "\n",
    "\n",
    "\n",
    "\n",
    "fig.update_yaxes(title_text=\"Relative Execution time (%)\", tickfont=dict(size=18), title_font=dict(size=22))\n",
    "fig.update_xaxes(title_text=\"Operation\", title_font=dict(size=16))\n",
    "#fig.update_annotations(font=dict(size=16))\n",
    "\n",
    "\n",
    "fig.update_traces(texttemplate='%{text:.1f}',textfont=dict(size=17), textposition='outside')\n",
    "fig.update_layout(legend=dict(\n",
    "                            yanchor=\"top\",\n",
    "                            y=1.44,\n",
    "                            xanchor=\"left\",\n",
    "                            x=0.83,\n",
    "                            orientation=\"v\",\n",
    "                            font=dict(size=16),\n",
    "                        ),\n",
    "                  title={\"font\": {'size': 24}},\n",
    "                  title_y=0.86,\n",
    "                  yaxis_range=[0,160],\n",
    "                  font_family=\"Arial\")\n",
    "fig.update_xaxes(tickfont=dict(size=18))\n",
    "\n",
    "\n",
    "\n",
    "\n",
    "fig.show()"
   ]
  },
  {
   "attachments": {},
   "cell_type": "markdown",
   "metadata": {},
   "source": [
    "### Export to CSV"
   ]
  },
  {
   "cell_type": "code",
   "execution_count": 64,
   "metadata": {},
   "outputs": [],
   "source": [
    "df_relative.to_csv(\"reports2/\" + ALG.__class__.__name__ + '_[' + \"Sweden_All2\" + \"]_\" + datetime.now().strftime(\"%Y-%m-%d_%H:%M:%S\") + \".csv\")"
   ]
  },
  {
   "cell_type": "code",
   "execution_count": null,
   "metadata": {},
   "outputs": [],
   "source": []
  },
  {
   "cell_type": "code",
   "execution_count": null,
   "metadata": {},
   "outputs": [],
   "source": []
  }
 ],
 "metadata": {
  "kernelspec": {
   "display_name": "Python 3",
   "language": "python",
   "name": "python3"
  },
  "language_info": {
   "codemirror_mode": {
    "name": "ipython",
    "version": 3
   },
   "file_extension": ".py",
   "mimetype": "text/x-python",
   "name": "python",
   "nbconvert_exporter": "python",
   "pygments_lexer": "ipython3",
   "version": "3.11.1"
  },
  "orig_nbformat": 4,
  "vscode": {
   "interpreter": {
    "hash": "aee8b7b246df8f9039afb4144a1f6fd8d2ca17a180786b69acc140d282b71a49"
   }
  }
 },
 "nbformat": 4,
 "nbformat_minor": 2
}

