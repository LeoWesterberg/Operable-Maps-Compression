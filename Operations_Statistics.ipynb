{
 "cells": [
  {
   "attachments": {},
   "cell_type": "markdown",
   "metadata": {},
   "source": [
    "## Test Bench\n",
    "This  notebook is used to evaluate the performance of a compression algorithm.\n",
    "\n",
    "It is written such that a new compression algorithm can be added without altering the bench (just change the input in the config)."
   ]
  },
  {
   "cell_type": "code",
   "execution_count": 1,
   "metadata": {},
   "outputs": [],
   "source": [
    "# ADD NEW ALGORITHMS HERE\n",
    "from algos.alg_wkt import Wkt\n",
    "from algos.alg_wkb import Wkb\n",
    "from algos.alg_meta_wkb_comp import MetaWkbComp # Wkb with Metadat\n",
    "from algos.alg_meta_wkt_comp import MetaWktComp # Wkt with Metadat\n",
    "from algos.alg_wkb_comp import WkbComp\n",
    "from algos.alg_wkt_comp import WktComp\n",
    "from algos.alg_fpd import Fpd\n",
    "from algos.alg_fpd_extended import FpdExtended\n",
    "from algos.alg_fpd_predictor import FpdPredictor\n",
    "from algos.fpd_extended_lib.entropy_coder import *\n",
    "\n",
    "\n",
    "# CONFIG\n",
    "ALG = FpdExtended()\n",
    "#DATASET_PATH = \"data/lund_building_highway.json\"\n",
    "DATASET_PATH = \"data/sweden_processed_whole\"\n",
    "#DATASET_PATH = \"data/world.json\"\n",
    "#DATASET_PATH = \"data/world_7_dec.json\"\n",
    "#DATASET_PATH = \"data/sweden.json\"\n",
    "#DATASET_PATH = \"data/latest_export.json\"\n",
    "#DATASET_PATH = \"data/latest_export\" # Use folder (single files)\n",
    "NBR_ITER = 100000\n",
    "N = 10\n",
    "AVOID_DATASET_LENGTH_CHECK = True # For very large folders, disable\n",
    "\n",
    "IS_SHP_DIR = False\n",
    "#DATASET_PATH = \"data/sweden-latest-free\"\n",
    "#DATASET_PATH = 'data/sweden-latest-free/gis_osm_buildings_a_free_1.shp'\n",
    "# Used sets: [\"data/sweden-latest-free/gis_osm_buildings_a_free_1.shp\", \"data/sweden-latest-free/gis_osm_roads_free_1.shp\", \"data/china-latest-free/gis_osm_water_a_free_1.shp\", \"data/ne_10m_admin_1_states_provinces.shp\"]\n",
    "\n",
    "COMPR_PATH = \"data/testbench_compressed_single\"\n",
    "#COMPR_PATH = \"data/testbench_compressed\"\n",
    "\n",
    "DECOMPR_PATH = \"data/testbench_decompressed_single\""
   ]
  },
  {
   "cell_type": "code",
   "execution_count": 2,
   "metadata": {},
   "outputs": [],
   "source": [
    "import time\n",
    "import os\n",
    "from enum import Enum\n",
    "import pandas as pd\n",
    "from datetime import datetime\n",
    "import filecmp\n",
    "import random\n",
    "import json\n",
    "import tqdm\n",
    "from shapely.geometry import shape\n",
    "import glob\n",
    "import timeit\n",
    "import shapely\n",
    "import numpy as np\n",
    "import seaborn as sns\n",
    "import matplotlib.pyplot as plt\n",
    "import geopandas as gpd\n",
    "\n",
    "# List the metrics which are to be logged\n",
    "ET = Enum('ET', ['COMP_TIME', 'DECOMP_TIME', 'COMP_SIZE', 'DECOMP_SIZE',\n",
    "    'VERTICES', 'TYPE', 'BOUNDING_BOX', 'ADD_VERTEX', 'IS_INTERSECTING', 'INTERSECTION', 'IS_BASELINE'\n",
    "]) # EVAL_TYPE\n",
    "\n",
    "if not os.path.exists(COMPR_PATH):\n",
    "   os.makedirs(COMPR_PATH)\n",
    "for f in glob.glob(COMPR_PATH + '/*'):\n",
    "    os.remove(f)\n",
    "if not os.path.exists(DECOMPR_PATH):\n",
    "   os.makedirs(DECOMPR_PATH)\n",
    "for f in glob.glob(DECOMPR_PATH + '/*'):\n",
    "    os.remove(f)"
   ]
  },
  {
   "cell_type": "code",
   "execution_count": 3,
   "metadata": {},
   "outputs": [
    {
     "name": "stderr",
     "output_type": "stream",
     "text": [
      "  0%|          | 0/100000 [00:00<?, ?it/s]\n"
     ]
    },
    {
     "ename": "FileNotFoundError",
     "evalue": "[Errno 2] No such file or directory: 'data/sweden_processed_whole/439257.json'",
     "output_type": "error",
     "traceback": [
      "\u001b[0;31m---------------------------------------------------------------------------\u001b[0m",
      "\u001b[0;31mFileNotFoundError\u001b[0m                         Traceback (most recent call last)",
      "Cell \u001b[0;32mIn[3], line 137\u001b[0m\n\u001b[1;32m    135\u001b[0m file_comp \u001b[39m=\u001b[39m \u001b[39mf\u001b[39m\u001b[39m\"\u001b[39m\u001b[39m{\u001b[39;00mCOMPR_PATH\u001b[39m}\u001b[39;00m\u001b[39m/\u001b[39m\u001b[39m{\u001b[39;00midx\u001b[39m}\u001b[39;00m\u001b[39m\"\u001b[39m\n\u001b[1;32m    136\u001b[0m \u001b[39m#t = timeit.timeit(lambda: compress(get_shape_data(idx), file_comp), number=50)\u001b[39;00m\n\u001b[0;32m--> 137\u001b[0m t, \u001b[39mbin\u001b[39m \u001b[39m=\u001b[39m compress(get_shape_data(idx), file_comp)\n\u001b[1;32m    138\u001b[0m res[ET\u001b[39m.\u001b[39mCOMP_TIME]\u001b[39m.\u001b[39mappend(t) \u001b[39m# Store delta time\u001b[39;00m\n\u001b[1;32m    139\u001b[0m \u001b[39m#res[ET.COMP_SIZE].append(os.stat(file_comp).st_size) # Store compressed file size\u001b[39;00m\n",
      "Cell \u001b[0;32mIn[3], line 96\u001b[0m, in \u001b[0;36mget_shape_data\u001b[0;34m(idx)\u001b[0m\n\u001b[1;32m     95\u001b[0m \u001b[39mdef\u001b[39;00m \u001b[39mget_shape_data\u001b[39m(idx):\n\u001b[0;32m---> 96\u001b[0m     \u001b[39mwith\u001b[39;00m \u001b[39mopen\u001b[39;49m(\u001b[39mf\u001b[39;49m\u001b[39m'\u001b[39;49m\u001b[39m{\u001b[39;49;00mDATASET_PATH\u001b[39m}\u001b[39;49;00m\u001b[39m/\u001b[39;49m\u001b[39m{\u001b[39;49;00midx\u001b[39m}\u001b[39;49;00m\u001b[39m.json\u001b[39;49m\u001b[39m'\u001b[39;49m, \u001b[39m'\u001b[39;49m\u001b[39mr\u001b[39;49m\u001b[39m'\u001b[39;49m) \u001b[39mas\u001b[39;00m f:\n\u001b[1;32m     97\u001b[0m         data \u001b[39m=\u001b[39m json\u001b[39m.\u001b[39mloads(f\u001b[39m.\u001b[39mread())\n\u001b[1;32m     99\u001b[0m     file_df: pd\u001b[39m.\u001b[39mDataFrame \u001b[39m=\u001b[39m pd\u001b[39m.\u001b[39mjson_normalize(data, record_path\u001b[39m=\u001b[39m[\u001b[39m'\u001b[39m\u001b[39mfeatures\u001b[39m\u001b[39m'\u001b[39m])\n",
      "File \u001b[0;32m~/Library/Python/3.11/lib/python/site-packages/IPython/core/interactiveshell.py:284\u001b[0m, in \u001b[0;36m_modified_open\u001b[0;34m(file, *args, **kwargs)\u001b[0m\n\u001b[1;32m    277\u001b[0m \u001b[39mif\u001b[39;00m file \u001b[39min\u001b[39;00m {\u001b[39m0\u001b[39m, \u001b[39m1\u001b[39m, \u001b[39m2\u001b[39m}:\n\u001b[1;32m    278\u001b[0m     \u001b[39mraise\u001b[39;00m \u001b[39mValueError\u001b[39;00m(\n\u001b[1;32m    279\u001b[0m         \u001b[39mf\u001b[39m\u001b[39m\"\u001b[39m\u001b[39mIPython won\u001b[39m\u001b[39m'\u001b[39m\u001b[39mt let you open fd=\u001b[39m\u001b[39m{\u001b[39;00mfile\u001b[39m}\u001b[39;00m\u001b[39m by default \u001b[39m\u001b[39m\"\u001b[39m\n\u001b[1;32m    280\u001b[0m         \u001b[39m\"\u001b[39m\u001b[39mas it is likely to crash IPython. If you know what you are doing, \u001b[39m\u001b[39m\"\u001b[39m\n\u001b[1;32m    281\u001b[0m         \u001b[39m\"\u001b[39m\u001b[39myou can use builtins\u001b[39m\u001b[39m'\u001b[39m\u001b[39m open.\u001b[39m\u001b[39m\"\u001b[39m\n\u001b[1;32m    282\u001b[0m     )\n\u001b[0;32m--> 284\u001b[0m \u001b[39mreturn\u001b[39;00m io_open(file, \u001b[39m*\u001b[39;49margs, \u001b[39m*\u001b[39;49m\u001b[39m*\u001b[39;49mkwargs)\n",
      "\u001b[0;31mFileNotFoundError\u001b[0m: [Errno 2] No such file or directory: 'data/sweden_processed_whole/439257.json'"
     ]
    }
   ],
   "source": [
    "# Maps an evaluation type to the corresponding function in the algorithm.\n",
    "# Note that ALG (global variable) can change, so a function is used.\n",
    "from functools import reduce\n",
    "import operator\n",
    "\n",
    "def et_to_func():\n",
    "    return {\n",
    "        ET.VERTICES: ALG.vertices, \n",
    "        ET.TYPE: ALG.type,\n",
    "        ET.BOUNDING_BOX: ALG.bounding_box,\n",
    "        ET.ADD_VERTEX: ALG.add_vertex, \n",
    "        ET.IS_INTERSECTING: ALG.is_intersecting, \n",
    "        ET.INTERSECTION: ALG.intersection \n",
    "        }\n",
    "\n",
    "# Params: \"et: EVAL_TYPE, idx: geometry index to query, value_only: dont save entry in log\"\n",
    "def measure(et, args, value_only=False): # Works for functions taking only a geometry 'idx' as parameter\n",
    "    \"\"\"\n",
    "    Takes an evaluation type and executes the corresponding operation, storing the execution time and resulting value.\n",
    "    Also returns the resulting value of the operation.\n",
    "    \"\"\"\n",
    "    sum_t = 0\n",
    "    for _ in range(N):\n",
    "        func = et_to_func()[et] # Find the function to be called\n",
    "        t, v = func(args)\n",
    "        if not value_only:\n",
    "            sum_t += t\n",
    "    \n",
    "    res[et].append(sum_t / N)\n",
    "    vals[et].append(v)        \n",
    "    return v\n",
    "\n",
    "SEED = 123 # If we want to enforce the same ordering and indexes for multiple runs, else None\n",
    "#SEED = random.randint(0, 9999999999999999)\n",
    "random.seed(SEED) # Init random\n",
    "\n",
    "res = {x: [] for x in ['idx_unary', 'idx_binary'] + list(ET)} # Store the 'results' of the measurements\n",
    "vals = {x: [] for x in ['idx_unary', 'idx_binary'] + list(ET)[4:]} # Store the 'values' for the operations, to perform correctness check later\n",
    "\n",
    "# Currently not supporting extra entropy/chunk compression while supporting add_vertex\n",
    "if cfg.USE_ENTROPY or cfg.COMPRESS_CHUNK:\n",
    "    del res[ET.ADD_VERTEX]\n",
    "    del vals[ET.ADD_VERTEX]\n",
    "    # del res[ET.IS_INTERSECTING]\n",
    "    # del res[ET.INTERSECTION]\n",
    "    # del vals[ET.IS_INTERSECTING]\n",
    "    # del vals[ET.INTERSECTION]\n",
    "    # del res[\"idx_binary\"]\n",
    "    # del vals[\"idx_binary\"]\n",
    "\n",
    "# ----- LOAD DATA FROM DATA SET ------\n",
    "if DATASET_PATH.endswith('.json'):\n",
    "    # Extract the nested feature attribute of the geo_json file containing the geometries\n",
    "    with open(DATASET_PATH, 'r') as f:\n",
    "        data = json.loads(f.read())\n",
    "    file_df: pd.DataFrame = pd.json_normalize(data, record_path=['features'])\n",
    "    # Create a dataframe suitable for the WKT format for easy convertion to shapely objects\n",
    "    df_dataset = pd.DataFrame(\n",
    "        {'type': file_df['geometry.type'], 'coordinates': file_df['geometry.coordinates']})\n",
    "    max_idx = len(df_dataset) - 1\n",
    "\n",
    "    def get_shape_data(idx):\n",
    "        return df_dataset.iloc[idx]\n",
    "elif DATASET_PATH.endswith('.shp') or IS_SHP_DIR:\n",
    "    if not DATASET_PATH.endswith('.shp') and IS_SHP_DIR:\n",
    "        files = glob.glob(DATASET_PATH + '/*.shp')\n",
    "    else:\n",
    "        files = [DATASET_PATH]\n",
    "\n",
    "    all_shapes = pd.DataFrame()\n",
    "    for i, f in enumerate(tqdm.tqdm(files, disable=True)):\n",
    "        file_df = gpd.read_file(f)\n",
    "        print(\"Count of entries:\", len(file_df))\n",
    "        file_df = file_df[file_df.type != \"Point\"]\n",
    "        print(\"---\", DATASET_PATH, \"---\")\n",
    "        print(\"Count of entries (no points):\", len(file_df))\n",
    "        if len(file_df) != 0:\n",
    "            shapes = file_df.geometry\n",
    "            all_shapes = pd.concat([all_shapes, shapes])\n",
    "        \n",
    "    if NBR_ITER != -1:\n",
    "        all_shapes = all_shapes.sample(n=NBR_ITER, replace=True)\n",
    "    \n",
    "    max_idx = len(shapes) - 1\n",
    "\n",
    "    def get_shape_data(idx):\n",
    "        return shapes.iloc[idx]\n",
    "else:\n",
    "    if not AVOID_DATASET_LENGTH_CHECK:\n",
    "        tree = os.walk(DATASET_PATH, topdown=True)\n",
    "        max_idx = len(next(tree)[2]) - 1\n",
    "    else:\n",
    "        max_idx = 5000000\n",
    "\n",
    "    def get_shape_data(idx):\n",
    "        with open(f'{DATASET_PATH}/{idx}.json', 'r') as f:\n",
    "            data = json.loads(f.read())\n",
    "        \n",
    "        file_df: pd.DataFrame = pd.json_normalize(data, record_path=['features'])\n",
    "        # # Create a dataframe suitable for the WKT format for easy convertion to shapely objects\n",
    "        df_dataset = pd.DataFrame(\n",
    "             {'type': file_df['geometry.type'], 'coordinates': file_df['geometry.coordinates']})\n",
    "        return df_dataset.iloc[0]\n",
    "# ----- /END/ LOAD DATA FROM DATA SET ------\n",
    "\n",
    "unary_idxs = [random.randint(0, max_idx) for i in range(NBR_ITER)] # Generate list of indexes to query on\n",
    "binary_idxs = [(random.randint(0, max_idx), random.randint(0, max_idx)) for i in range(NBR_ITER)] # Generate pair of indexes to query on. # TODO: Better selection than random\n",
    "random.seed(SEED) # Reset random\n",
    "\n",
    "def act_deact_baseline(activate=True):\n",
    "        cfg.BASELINE_ON = activate\n",
    "        cfg.DISABLE_OPTIMIZED_INTERSECTION = False if not activate else True\n",
    "        cfg.DISABLE_OPTIMIZED_ADD_VERTEX = False if not activate else True\n",
    "        cfg.DISABLE_OPTIMIZED_BOUNDING_BOX = False if not activate else True\n",
    "\n",
    "def compress(data, file_comp):\n",
    "    # Compress\n",
    "    if not (IS_SHP_DIR or DATASET_PATH.endswith('.shp')):\n",
    "        geometry = shape(data)\n",
    "    else:\n",
    "        geometry = data\n",
    "    t, bin = ALG.compress(geometry)\n",
    "\n",
    "    # Write to disk\n",
    "    f = open(file_comp, \"wb\")\n",
    "    f.write(bin)\n",
    "    f.close()\n",
    "    return t, bin\n",
    "\n",
    "# Compress files, benchmark unaries\n",
    "for is_baseline in [True, False]:\n",
    "    act_deact_baseline(is_baseline)\n",
    "    for idx in tqdm.tqdm(unary_idxs): # List of single idxs\n",
    "        res[ET.IS_BASELINE].append(is_baseline) \n",
    "        file_comp = f\"{COMPR_PATH}/{idx}\"\n",
    "        #t = timeit.timeit(lambda: compress(get_shape_data(idx), file_comp), number=50)\n",
    "        t, bin = compress(get_shape_data(idx), file_comp)\n",
    "        res[ET.COMP_TIME].append(t) # Store delta time\n",
    "        #res[ET.COMP_SIZE].append(os.stat(file_comp).st_size) # Store compressed file size\n",
    "        res[ET.COMP_SIZE].append(len(bin))\n",
    "    for idx in tqdm.tqdm(list(reduce(operator.concat, binary_idxs))): # List of pairs collapsed\n",
    "        if idx not in unary_idxs:\n",
    "            file_comp = f\"{COMPR_PATH}/{idx}\"\n",
    "            compress(get_shape_data(idx), file_comp)\n",
    "\n",
    "    for i in tqdm.tqdm(range(len(unary_idxs))):\n",
    "    # ------------ UNARY ------------ #\n",
    "        idx = unary_idxs[i]\n",
    "        file_comp = f\"{COMPR_PATH}/{idx}\"\n",
    "        file_decomp = f\"{DECOMPR_PATH}/{idx}\"\n",
    "\n",
    "        res[\"idx_unary\"].append(idx)\n",
    "        vals[\"idx_unary\"].append(idx)\n",
    "\n",
    "        # Read binary into memory\n",
    "        f = open(file_comp, \"rb\")\n",
    "        bin = f.read()\n",
    "        f.close()\n",
    "\n",
    "        # Decompress\n",
    "        t, decomp = ALG.decompress(bin)\n",
    "        #decomp = shapely.to_wkt(decomp, rounding_precision=-1)\n",
    "        decomp = shapely.to_wkb(decomp)\n",
    "        # Write to disk\n",
    "        f = open(file_decomp, \"wb\")\n",
    "        f.write(decomp)\n",
    "        f.close()\n",
    "        res[ET.DECOMP_TIME].append(t) # Store delta time\n",
    "        res[ET.DECOMP_SIZE].append(os.stat(file_decomp).st_size) # Store decompressed file size\n",
    "\n",
    "        v = measure(ET.VERTICES, bin)\n",
    "        measure(ET.TYPE, bin)\n",
    "        measure(ET.BOUNDING_BOX, bin)\n",
    "        add_idx = random.randint(0, len(v) - 2)\n",
    "        add_point = (round(v[add_idx][0] + random.randint(-25, 25) * 0.00001,7), round(v[add_idx][1] + random.randint(-25, 25) * 0.00001,7))\n",
    "        if not (cfg.USE_ENTROPY or cfg.COMPRESS_CHUNK):\n",
    "            measure(ET.ADD_VERTEX, (bin, add_idx, add_point))\n",
    "\n",
    "    for i in tqdm.tqdm(range(len(binary_idxs))):\n",
    "    # ------------ BINARY ------------ #\n",
    "        l_idx, r_idx = binary_idxs[i]\n",
    "\n",
    "        res[\"idx_binary\"].append(binary_idxs[i])\n",
    "        vals[\"idx_binary\"].append(binary_idxs[i])\n",
    "\n",
    "        # Read both binary into memory\n",
    "        f = open(f\"{COMPR_PATH}/{l_idx}\", \"rb\")\n",
    "        l_bin = f.read()\n",
    "        f.close()\n",
    "\n",
    "        f = open(f\"{COMPR_PATH}/{r_idx}\", \"rb\")\n",
    "        r_bin = f.read()\n",
    "        f.close()\n",
    "\n",
    "        measure(ET.IS_INTERSECTING, (l_bin, r_bin))\n",
    "        measure(ET.INTERSECTION, (l_bin, r_bin))\n",
    "df = pd.DataFrame(res)\n",
    "#df"
   ]
  },
  {
   "cell_type": "code",
   "execution_count": null,
   "metadata": {},
   "outputs": [
    {
     "ename": "NameError",
     "evalue": "name 'df' is not defined",
     "output_type": "error",
     "traceback": [
      "\u001b[0;31m---------------------------------------------------------------------------\u001b[0m",
      "\u001b[0;31mNameError\u001b[0m                                 Traceback (most recent call last)",
      "Cell \u001b[0;32mIn[14], line 1\u001b[0m\n\u001b[0;32m----> 1\u001b[0m df_relative \u001b[39m=\u001b[39m df\u001b[39m.\u001b[39mcopy() \n\u001b[1;32m      2\u001b[0m \u001b[39mdef\u001b[39;00m \u001b[39mcalculate_ratio\u001b[39m(x):\n\u001b[1;32m      3\u001b[0m     base \u001b[39m=\u001b[39m x[x[ET\u001b[39m.\u001b[39mIS_BASELINE] \u001b[39m==\u001b[39m \u001b[39mTrue\u001b[39;00m]\n",
      "\u001b[0;31mNameError\u001b[0m: name 'df' is not defined"
     ]
    }
   ],
   "source": [
    "df_relative = df.copy() \n",
    "def calculate_ratio(x):\n",
    "    base = x[x[ET.IS_BASELINE] == True]\n",
    "    non_base = x[x[ET.IS_BASELINE] == False]\n",
    "   \n",
    "    if not base.empty and not non_base.empty:\n",
    "        return non_base.divide(base.values, axis=1)\n",
    "    else:\n",
    "        return None\n",
    "    \n",
    "df_relative = df_relative.groupby([\"idx_unary\", \"idx_binary\"]).apply(calculate_ratio)\n",
    "df_relative.reset_index(inplace=True)\n",
    "if 'level_2'  in  df_relative.columns:\n",
    "    df_relative.drop('level_2', axis=1, inplace=True)\n",
    "df_relative.drop([ET.IS_BASELINE, ET.TYPE, ET.VERTICES], axis=1, inplace=True)\n",
    "\n",
    "df_relative = df_relative.rename(columns={ET.IS_BASELINE: \"is_baseline\",\n",
    "                            ET.ADD_VERTEX: \"Add Vertex\",\n",
    "                            ET.IS_INTERSECTING: \"Is Intersection\",\n",
    "                            ET.INTERSECTION: \"Intersection\",\n",
    "                            ET.COMP_TIME: \"Compress\",\n",
    "                            ET.COMP_SIZE: \"comp_size\",\n",
    "                            ET.DECOMP_TIME: \"Decompress\",\n",
    "                            ET.DECOMP_SIZE: \"decomp_size\",\n",
    "                            ET.BOUNDING_BOX: \"Bounding Box\",\n",
    "                            ET.TYPE: \"Type\",\n",
    "                            ET.VERTICES: \"Verticies\"})\n",
    "                            \n"
   ]
  },
  {
   "attachments": {},
   "cell_type": "markdown",
   "metadata": {},
   "source": [
    "### Plot the Results"
   ]
  },
  {
   "cell_type": "code",
   "execution_count": null,
   "metadata": {},
   "outputs": [
    {
     "data": {
      "application/vnd.plotly.v1+json": {
       "config": {
        "plotlyServerURL": "https://plot.ly"
       },
       "data": [
        {
         "alignmentgroup": "True",
         "hovertemplate": "Dataset=lund_building_highway<br>Statistic=%{x}<br>Seconds=%{text}<extra></extra>",
         "legendgroup": "lund_building_highway",
         "marker": {
          "color": "#636efa",
          "pattern": {
           "shape": ""
          }
         },
         "name": "lund_building_highway",
         "offsetgroup": "lund_building_highway",
         "orientation": "v",
         "showlegend": true,
         "text": [
          4.233162429992389,
          4.229335569521064,
          94.47459514288441,
          127.46304734490121,
          20.226313654182185,
          10.431809171907217
         ],
         "textfont": {
          "size": 14
         },
         "textposition": "auto",
         "texttemplate": "%{text:.2f}%",
         "type": "bar",
         "x": [
          "Add Vertex",
          "Bounding Box",
          "Compress",
          "Decompress",
          "Intersection",
          "Is Intersection"
         ],
         "xaxis": "x",
         "y": [
          4.233162429992389,
          4.229335569521064,
          94.47459514288441,
          127.46304734490121,
          20.226313654182185,
          10.431809171907217
         ],
         "yaxis": "y"
        },
        {
         "alignmentgroup": "True",
         "hovertemplate": "Dataset=sweden<br>Statistic=%{x}<br>Seconds=%{text}<extra></extra>",
         "legendgroup": "sweden",
         "marker": {
          "color": "#EF553B",
          "pattern": {
           "shape": ""
          }
         },
         "name": "sweden",
         "offsetgroup": "sweden",
         "orientation": "v",
         "showlegend": true,
         "text": [
          4.158044586504512,
          3.7381493124744862,
          115.11890559268278,
          120.57598810433532,
          16.587255509612554,
          8.48869313312802
         ],
         "textfont": {
          "size": 14
         },
         "textposition": "auto",
         "texttemplate": "%{text:.2f}%",
         "type": "bar",
         "x": [
          "Add Vertex",
          "Bounding Box",
          "Compress",
          "Decompress",
          "Intersection",
          "Is Intersection"
         ],
         "xaxis": "x",
         "y": [
          4.158044586504512,
          3.7381493124744862,
          115.11890559268278,
          120.57598810433532,
          16.587255509612554,
          8.48869313312802
         ],
         "yaxis": "y"
        },
        {
         "alignmentgroup": "True",
         "hovertemplate": "Dataset=world<br>Statistic=%{x}<br>Seconds=%{text}<extra></extra>",
         "legendgroup": "world",
         "marker": {
          "color": "#00cc96",
          "pattern": {
           "shape": ""
          }
         },
         "name": "world",
         "offsetgroup": "world",
         "orientation": "v",
         "showlegend": true,
         "text": [
          2.49076681951869,
          0.8073526377291295,
          111.11144905565493,
          102.01002996419113,
          1.5892272220743382,
          0.718637254571307
         ],
         "textfont": {
          "size": 14
         },
         "textposition": "auto",
         "texttemplate": "%{text:.2f}%",
         "type": "bar",
         "x": [
          "Add Vertex",
          "Bounding Box",
          "Compress",
          "Decompress",
          "Intersection",
          "Is Intersection"
         ],
         "xaxis": "x",
         "y": [
          2.49076681951869,
          0.8073526377291295,
          111.11144905565493,
          102.01002996419113,
          1.5892272220743382,
          0.718637254571307
         ],
         "yaxis": "y"
        }
       ],
       "layout": {
        "barmode": "group",
        "legend": {
         "font": {
          "size": 16
         },
         "orientation": "v",
         "title": {
          "text": "Dataset"
         },
         "tracegroupgap": 0,
         "x": 0.78,
         "xanchor": "left",
         "y": 1.45,
         "yanchor": "top"
        },
        "template": {
         "data": {
          "bar": [
           {
            "error_x": {
             "color": "#2a3f5f"
            },
            "error_y": {
             "color": "#2a3f5f"
            },
            "marker": {
             "line": {
              "color": "#E5ECF6",
              "width": 0.5
             },
             "pattern": {
              "fillmode": "overlay",
              "size": 10,
              "solidity": 0.2
             }
            },
            "type": "bar"
           }
          ],
          "barpolar": [
           {
            "marker": {
             "line": {
              "color": "#E5ECF6",
              "width": 0.5
             },
             "pattern": {
              "fillmode": "overlay",
              "size": 10,
              "solidity": 0.2
             }
            },
            "type": "barpolar"
           }
          ],
          "carpet": [
           {
            "aaxis": {
             "endlinecolor": "#2a3f5f",
             "gridcolor": "white",
             "linecolor": "white",
             "minorgridcolor": "white",
             "startlinecolor": "#2a3f5f"
            },
            "baxis": {
             "endlinecolor": "#2a3f5f",
             "gridcolor": "white",
             "linecolor": "white",
             "minorgridcolor": "white",
             "startlinecolor": "#2a3f5f"
            },
            "type": "carpet"
           }
          ],
          "choropleth": [
           {
            "colorbar": {
             "outlinewidth": 0,
             "ticks": ""
            },
            "type": "choropleth"
           }
          ],
          "contour": [
           {
            "colorbar": {
             "outlinewidth": 0,
             "ticks": ""
            },
            "colorscale": [
             [
              0,
              "#0d0887"
             ],
             [
              0.1111111111111111,
              "#46039f"
             ],
             [
              0.2222222222222222,
              "#7201a8"
             ],
             [
              0.3333333333333333,
              "#9c179e"
             ],
             [
              0.4444444444444444,
              "#bd3786"
             ],
             [
              0.5555555555555556,
              "#d8576b"
             ],
             [
              0.6666666666666666,
              "#ed7953"
             ],
             [
              0.7777777777777778,
              "#fb9f3a"
             ],
             [
              0.8888888888888888,
              "#fdca26"
             ],
             [
              1,
              "#f0f921"
             ]
            ],
            "type": "contour"
           }
          ],
          "contourcarpet": [
           {
            "colorbar": {
             "outlinewidth": 0,
             "ticks": ""
            },
            "type": "contourcarpet"
           }
          ],
          "heatmap": [
           {
            "colorbar": {
             "outlinewidth": 0,
             "ticks": ""
            },
            "colorscale": [
             [
              0,
              "#0d0887"
             ],
             [
              0.1111111111111111,
              "#46039f"
             ],
             [
              0.2222222222222222,
              "#7201a8"
             ],
             [
              0.3333333333333333,
              "#9c179e"
             ],
             [
              0.4444444444444444,
              "#bd3786"
             ],
             [
              0.5555555555555556,
              "#d8576b"
             ],
             [
              0.6666666666666666,
              "#ed7953"
             ],
             [
              0.7777777777777778,
              "#fb9f3a"
             ],
             [
              0.8888888888888888,
              "#fdca26"
             ],
             [
              1,
              "#f0f921"
             ]
            ],
            "type": "heatmap"
           }
          ],
          "heatmapgl": [
           {
            "colorbar": {
             "outlinewidth": 0,
             "ticks": ""
            },
            "colorscale": [
             [
              0,
              "#0d0887"
             ],
             [
              0.1111111111111111,
              "#46039f"
             ],
             [
              0.2222222222222222,
              "#7201a8"
             ],
             [
              0.3333333333333333,
              "#9c179e"
             ],
             [
              0.4444444444444444,
              "#bd3786"
             ],
             [
              0.5555555555555556,
              "#d8576b"
             ],
             [
              0.6666666666666666,
              "#ed7953"
             ],
             [
              0.7777777777777778,
              "#fb9f3a"
             ],
             [
              0.8888888888888888,
              "#fdca26"
             ],
             [
              1,
              "#f0f921"
             ]
            ],
            "type": "heatmapgl"
           }
          ],
          "histogram": [
           {
            "marker": {
             "pattern": {
              "fillmode": "overlay",
              "size": 10,
              "solidity": 0.2
             }
            },
            "type": "histogram"
           }
          ],
          "histogram2d": [
           {
            "colorbar": {
             "outlinewidth": 0,
             "ticks": ""
            },
            "colorscale": [
             [
              0,
              "#0d0887"
             ],
             [
              0.1111111111111111,
              "#46039f"
             ],
             [
              0.2222222222222222,
              "#7201a8"
             ],
             [
              0.3333333333333333,
              "#9c179e"
             ],
             [
              0.4444444444444444,
              "#bd3786"
             ],
             [
              0.5555555555555556,
              "#d8576b"
             ],
             [
              0.6666666666666666,
              "#ed7953"
             ],
             [
              0.7777777777777778,
              "#fb9f3a"
             ],
             [
              0.8888888888888888,
              "#fdca26"
             ],
             [
              1,
              "#f0f921"
             ]
            ],
            "type": "histogram2d"
           }
          ],
          "histogram2dcontour": [
           {
            "colorbar": {
             "outlinewidth": 0,
             "ticks": ""
            },
            "colorscale": [
             [
              0,
              "#0d0887"
             ],
             [
              0.1111111111111111,
              "#46039f"
             ],
             [
              0.2222222222222222,
              "#7201a8"
             ],
             [
              0.3333333333333333,
              "#9c179e"
             ],
             [
              0.4444444444444444,
              "#bd3786"
             ],
             [
              0.5555555555555556,
              "#d8576b"
             ],
             [
              0.6666666666666666,
              "#ed7953"
             ],
             [
              0.7777777777777778,
              "#fb9f3a"
             ],
             [
              0.8888888888888888,
              "#fdca26"
             ],
             [
              1,
              "#f0f921"
             ]
            ],
            "type": "histogram2dcontour"
           }
          ],
          "mesh3d": [
           {
            "colorbar": {
             "outlinewidth": 0,
             "ticks": ""
            },
            "type": "mesh3d"
           }
          ],
          "parcoords": [
           {
            "line": {
             "colorbar": {
              "outlinewidth": 0,
              "ticks": ""
             }
            },
            "type": "parcoords"
           }
          ],
          "pie": [
           {
            "automargin": true,
            "type": "pie"
           }
          ],
          "scatter": [
           {
            "fillpattern": {
             "fillmode": "overlay",
             "size": 10,
             "solidity": 0.2
            },
            "type": "scatter"
           }
          ],
          "scatter3d": [
           {
            "line": {
             "colorbar": {
              "outlinewidth": 0,
              "ticks": ""
             }
            },
            "marker": {
             "colorbar": {
              "outlinewidth": 0,
              "ticks": ""
             }
            },
            "type": "scatter3d"
           }
          ],
          "scattercarpet": [
           {
            "marker": {
             "colorbar": {
              "outlinewidth": 0,
              "ticks": ""
             }
            },
            "type": "scattercarpet"
           }
          ],
          "scattergeo": [
           {
            "marker": {
             "colorbar": {
              "outlinewidth": 0,
              "ticks": ""
             }
            },
            "type": "scattergeo"
           }
          ],
          "scattergl": [
           {
            "marker": {
             "colorbar": {
              "outlinewidth": 0,
              "ticks": ""
             }
            },
            "type": "scattergl"
           }
          ],
          "scattermapbox": [
           {
            "marker": {
             "colorbar": {
              "outlinewidth": 0,
              "ticks": ""
             }
            },
            "type": "scattermapbox"
           }
          ],
          "scatterpolar": [
           {
            "marker": {
             "colorbar": {
              "outlinewidth": 0,
              "ticks": ""
             }
            },
            "type": "scatterpolar"
           }
          ],
          "scatterpolargl": [
           {
            "marker": {
             "colorbar": {
              "outlinewidth": 0,
              "ticks": ""
             }
            },
            "type": "scatterpolargl"
           }
          ],
          "scatterternary": [
           {
            "marker": {
             "colorbar": {
              "outlinewidth": 0,
              "ticks": ""
             }
            },
            "type": "scatterternary"
           }
          ],
          "surface": [
           {
            "colorbar": {
             "outlinewidth": 0,
             "ticks": ""
            },
            "colorscale": [
             [
              0,
              "#0d0887"
             ],
             [
              0.1111111111111111,
              "#46039f"
             ],
             [
              0.2222222222222222,
              "#7201a8"
             ],
             [
              0.3333333333333333,
              "#9c179e"
             ],
             [
              0.4444444444444444,
              "#bd3786"
             ],
             [
              0.5555555555555556,
              "#d8576b"
             ],
             [
              0.6666666666666666,
              "#ed7953"
             ],
             [
              0.7777777777777778,
              "#fb9f3a"
             ],
             [
              0.8888888888888888,
              "#fdca26"
             ],
             [
              1,
              "#f0f921"
             ]
            ],
            "type": "surface"
           }
          ],
          "table": [
           {
            "cells": {
             "fill": {
              "color": "#EBF0F8"
             },
             "line": {
              "color": "white"
             }
            },
            "header": {
             "fill": {
              "color": "#C8D4E3"
             },
             "line": {
              "color": "white"
             }
            },
            "type": "table"
           }
          ]
         },
         "layout": {
          "annotationdefaults": {
           "arrowcolor": "#2a3f5f",
           "arrowhead": 0,
           "arrowwidth": 1
          },
          "autotypenumbers": "strict",
          "coloraxis": {
           "colorbar": {
            "outlinewidth": 0,
            "ticks": ""
           }
          },
          "colorscale": {
           "diverging": [
            [
             0,
             "#8e0152"
            ],
            [
             0.1,
             "#c51b7d"
            ],
            [
             0.2,
             "#de77ae"
            ],
            [
             0.3,
             "#f1b6da"
            ],
            [
             0.4,
             "#fde0ef"
            ],
            [
             0.5,
             "#f7f7f7"
            ],
            [
             0.6,
             "#e6f5d0"
            ],
            [
             0.7,
             "#b8e186"
            ],
            [
             0.8,
             "#7fbc41"
            ],
            [
             0.9,
             "#4d9221"
            ],
            [
             1,
             "#276419"
            ]
           ],
           "sequential": [
            [
             0,
             "#0d0887"
            ],
            [
             0.1111111111111111,
             "#46039f"
            ],
            [
             0.2222222222222222,
             "#7201a8"
            ],
            [
             0.3333333333333333,
             "#9c179e"
            ],
            [
             0.4444444444444444,
             "#bd3786"
            ],
            [
             0.5555555555555556,
             "#d8576b"
            ],
            [
             0.6666666666666666,
             "#ed7953"
            ],
            [
             0.7777777777777778,
             "#fb9f3a"
            ],
            [
             0.8888888888888888,
             "#fdca26"
            ],
            [
             1,
             "#f0f921"
            ]
           ],
           "sequentialminus": [
            [
             0,
             "#0d0887"
            ],
            [
             0.1111111111111111,
             "#46039f"
            ],
            [
             0.2222222222222222,
             "#7201a8"
            ],
            [
             0.3333333333333333,
             "#9c179e"
            ],
            [
             0.4444444444444444,
             "#bd3786"
            ],
            [
             0.5555555555555556,
             "#d8576b"
            ],
            [
             0.6666666666666666,
             "#ed7953"
            ],
            [
             0.7777777777777778,
             "#fb9f3a"
            ],
            [
             0.8888888888888888,
             "#fdca26"
            ],
            [
             1,
             "#f0f921"
            ]
           ]
          },
          "colorway": [
           "#636efa",
           "#EF553B",
           "#00cc96",
           "#ab63fa",
           "#FFA15A",
           "#19d3f3",
           "#FF6692",
           "#B6E880",
           "#FF97FF",
           "#FECB52"
          ],
          "font": {
           "color": "#2a3f5f"
          },
          "geo": {
           "bgcolor": "white",
           "lakecolor": "white",
           "landcolor": "#E5ECF6",
           "showlakes": true,
           "showland": true,
           "subunitcolor": "white"
          },
          "hoverlabel": {
           "align": "left"
          },
          "hovermode": "closest",
          "mapbox": {
           "style": "light"
          },
          "paper_bgcolor": "white",
          "plot_bgcolor": "#E5ECF6",
          "polar": {
           "angularaxis": {
            "gridcolor": "white",
            "linecolor": "white",
            "ticks": ""
           },
           "bgcolor": "#E5ECF6",
           "radialaxis": {
            "gridcolor": "white",
            "linecolor": "white",
            "ticks": ""
           }
          },
          "scene": {
           "xaxis": {
            "backgroundcolor": "#E5ECF6",
            "gridcolor": "white",
            "gridwidth": 2,
            "linecolor": "white",
            "showbackground": true,
            "ticks": "",
            "zerolinecolor": "white"
           },
           "yaxis": {
            "backgroundcolor": "#E5ECF6",
            "gridcolor": "white",
            "gridwidth": 2,
            "linecolor": "white",
            "showbackground": true,
            "ticks": "",
            "zerolinecolor": "white"
           },
           "zaxis": {
            "backgroundcolor": "#E5ECF6",
            "gridcolor": "white",
            "gridwidth": 2,
            "linecolor": "white",
            "showbackground": true,
            "ticks": "",
            "zerolinecolor": "white"
           }
          },
          "shapedefaults": {
           "line": {
            "color": "#2a3f5f"
           }
          },
          "ternary": {
           "aaxis": {
            "gridcolor": "white",
            "linecolor": "white",
            "ticks": ""
           },
           "baxis": {
            "gridcolor": "white",
            "linecolor": "white",
            "ticks": ""
           },
           "bgcolor": "#E5ECF6",
           "caxis": {
            "gridcolor": "white",
            "linecolor": "white",
            "ticks": ""
           }
          },
          "title": {
           "x": 0.05
          },
          "xaxis": {
           "automargin": true,
           "gridcolor": "white",
           "linecolor": "white",
           "ticks": "",
           "title": {
            "standoff": 15
           },
           "zerolinecolor": "white",
           "zerolinewidth": 2
          },
          "yaxis": {
           "automargin": true,
           "gridcolor": "white",
           "linecolor": "white",
           "ticks": "",
           "title": {
            "standoff": 15
           },
           "zerolinecolor": "white",
           "zerolinewidth": 2
          }
         }
        },
        "title": {
         "font": {
          "size": 22
         },
         "text": "Relative Execution Time for Different <br>Operations and Datasets<br>"
        },
        "xaxis": {
         "anchor": "y",
         "categoryarray": [
          "Compress",
          "Decompress",
          "Intersection",
          "Is Intersection",
          "Add Vertex",
          "Bounding Box"
         ],
         "categoryorder": "array",
         "domain": [
          0,
          1
         ],
         "tickfont": {
          "size": 16
         },
         "title": {
          "font": {
           "size": 20
          },
          "text": "Operation"
         }
        },
        "yaxis": {
         "anchor": "x",
         "domain": [
          0,
          1
         ],
         "tickfont": {
          "size": 16
         },
         "title": {
          "font": {
           "size": 20
          },
          "text": "Relative Execution time"
         },
         "type": "log"
        }
       }
      }
     },
     "metadata": {},
     "output_type": "display_data"
    }
   ],
   "source": [
    "SHOW_PREVIOUS = True\n",
    "dataset_name = os.path.splitext(os.path.basename(DATASET_PATH))[0]\n",
    "times = df_relative.drop(axis=1, labels=['idx_unary', 'idx_binary', \"comp_size\", \"decomp_size\"])\n",
    "times['Dataset'] = dataset_name\n",
    "\n",
    "prevs = glob.glob(f'reports/*')\n",
    "for prev in prevs:\n",
    "    dataset = prev.split(\"[\")[1].split(\"]\")[0]\n",
    "    prev_df = pd.read_csv(prev)\n",
    "    prev_df['Dataset'] = dataset\n",
    "    prev_times = prev_df.drop(axis=1, labels=['idx_unary', 'idx_binary', 'comp_size', 'decomp_size', 'Unnamed: 0'])\n",
    "    times = pd.concat([times, prev_times])\n",
    "\n",
    "times = times.melt('Dataset', var_name=\"Statistic\", value_name='Seconds')\n",
    "times['Statistic'] = times['Statistic'].apply(lambda x: str(x))\n",
    "\n",
    "import  plotly.express as px\n",
    "times.columns = ['Dataset', 'Statistic', 'Seconds']\n",
    "times = times.groupby([\"Dataset\",  \"Statistic\"]).mean()\n",
    "times.reset_index(inplace=True)\n",
    "times[\"Seconds\"] *= 100\n",
    "fig = px.bar(times, x=\"Statistic\", y='Seconds', color=\"Dataset\", barmode=\"group\", log_y=True, text=\"Seconds\", \n",
    "            title=\"Relative Execution Time for Different <br>Operations and Datasets<br>\",\n",
    "            category_orders={\"Statistic\": [\"Compress\", \"Decompress\", \"Intersection\", \"Is Intersection\", \"Add Vertex\", \"Bounding Box\"]})\n",
    "fig.update_yaxes(title_text=\"Relative Execution time\", tickfont=dict(size=16), title_font=dict(size=20))\n",
    "fig.update_xaxes(title_text=\"Operation\", title_font=dict(size=20))\n",
    "#fig.update_annotations(font=dict(size=16))\n",
    "\n",
    "fig.update_traces(texttemplate='%{text:.2f}%',textfont=dict(size=14))\n",
    "fig.update_layout(legend=dict(\n",
    "                            yanchor=\"top\",\n",
    "                            y=1.45,\n",
    "                            xanchor=\"left\",\n",
    "                            x=0.78,\n",
    "                            orientation=\"v\",\n",
    "                            font=dict(size=16),\n",
    "                        ),\n",
    "                  title={\"font\": {'size': 22}})\n",
    "fig.update_xaxes(tickfont=dict(size=16))\n",
    "\n",
    "\n",
    "\n",
    "\n",
    "fig.show()"
   ]
  },
  {
   "attachments": {},
   "cell_type": "markdown",
   "metadata": {},
   "source": [
    "### Export to CSV"
   ]
  },
  {
   "cell_type": "code",
   "execution_count": null,
   "metadata": {},
   "outputs": [],
   "source": [
    "df_relative.to_csv(\"reports/\" + ALG.__class__.__name__ + '_[' + dataset_name + \"]_\" + datetime.now().strftime(\"%Y-%m-%d_%H:%M:%S\") + \".csv\")"
   ]
  },
  {
   "cell_type": "code",
   "execution_count": null,
   "metadata": {},
   "outputs": [],
   "source": []
  },
  {
   "cell_type": "code",
   "execution_count": null,
   "metadata": {},
   "outputs": [],
   "source": []
  }
 ],
 "metadata": {
  "kernelspec": {
   "display_name": "Python 3",
   "language": "python",
   "name": "python3"
  },
  "language_info": {
   "codemirror_mode": {
    "name": "ipython",
    "version": 3
   },
   "file_extension": ".py",
   "mimetype": "text/x-python",
   "name": "python",
   "nbconvert_exporter": "python",
   "pygments_lexer": "ipython3",
   "version": "3.11.1"
  },
  "orig_nbformat": 4,
  "vscode": {
   "interpreter": {
    "hash": "aee8b7b246df8f9039afb4144a1f6fd8d2ca17a180786b69acc140d282b71a49"
   }
  }
 },
 "nbformat": 4,
 "nbformat_minor": 2
}
