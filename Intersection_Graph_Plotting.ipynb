{
 "cells": [
  {
   "attachments": {},
   "cell_type": "markdown",
   "metadata": {},
   "source": [
    "#### Imports"
   ]
  },
  {
   "cell_type": "code",
   "execution_count": 1,
   "metadata": {},
   "outputs": [],
   "source": [
    "import numpy as np\n",
    "import shapely\n",
    "import bisect\n",
    "import shapely.wkt\n",
    "import matplotlib.pyplot as plt\n",
    "import math\n",
    "import geopandas as gpd\n",
    "import json\n",
    "import pandas as pd\n",
    "import seaborn as sns\n",
    "from enum import Enum\n",
    "import plotly.graph_objects as go\n",
    "from plotly.subplots import make_subplots\n",
    "\n",
    "\n",
    "import intersection.first_bin_search\n",
    "import intersection.chunk_bbox_intersection\n",
    "from bench_utils import parse_intersection_data \n",
    "common_bbox = intersection.chunk_bbox_intersection.common_bbox\n",
    "chunk_bbox_is_intersecting = intersection.chunk_bbox_intersection.is_intersecting\n",
    "chunk_bbox_intersection = intersection.chunk_bbox_intersection.intersection\n",
    "\n",
    "\n",
    "\n",
    "from intersection.plotting import *\n",
    "import algos.fpd_extended_lib.cfg as cfg\n",
    "from algos.alg_fpd_extended import FpdExtended\n",
    "\n",
    "\n",
    "pd.options.mode.chained_assignment = None  # default='warn'"
   ]
  },
  {
   "attachments": {},
   "cell_type": "markdown",
   "metadata": {},
   "source": [
    "#### Import data"
   ]
  },
  {
   "cell_type": "code",
   "execution_count": 2,
   "metadata": {},
   "outputs": [],
   "source": [
    "fpd = FpdExtended()\n",
    "\n",
    "# Geometries\n",
    "manual_data, _ = parse_intersection_data(\"manual\")\n",
    "special_cases, _ = parse_intersection_data(\"latest_export.json\", strip_precision=True)\n",
    "world_data, world_data_stats = parse_intersection_data(\"world.json\", 100, strip_precision=True)\n",
    "lund_data, lund_data_stats = parse_intersection_data(\"lund.json\", 100)\n",
    "sweden_data, sweden_data_stats = parse_intersection_data(\"sweden-places-a.json\", 100)\n",
    "new_york_data, new_york_data_stats = parse_intersection_data(\"new-york-natural.json\")\n",
    "waterways_data, waterways_data_stats = parse_intersection_data(\"nord-est-waterways.json\", 100)\n",
    "\n",
    "datasets = [\n",
    "    manual_data,\n",
    "    special_cases,\n",
    "    world_data,\n",
    "    lund_data,\n",
    "    sweden_data,\n",
    "    new_york_data,\n",
    "    waterways_data\n",
    "]\n"
   ]
  },
  {
   "attachments": {},
   "cell_type": "markdown",
   "metadata": {},
   "source": [
    "#### Constants"
   ]
  },
  {
   "cell_type": "code",
   "execution_count": 3,
   "metadata": {},
   "outputs": [],
   "source": [
    "# Number of total iterations = NBR_ITER * N * number_of_datasets\n",
    "NBR_ITER = -1 # Number of iterations for each dataset\n",
    "N = 1 # Number of times to recalculate each geometry for reliable mean value\n",
    "\n",
    "# Max DELTA_SIZE_VALUE in MAX_NUM_DELTAS Analysis\n",
    "MAX_DELTA_SIZE = 200\n",
    "\n",
    "SHOW_PRED = True\n",
    "SHOW_SHAPE = True\n",
    "SHOW_STATS = False\n",
    "SHOW_PREVIOUS = False\n",
    "\n",
    "#Geometry classification sizes\n",
    "MEDIUM_THRESHOLD = 50\n",
    "LARGE_THRESHOLD = 100"
   ]
  },
  {
   "attachments": {},
   "cell_type": "markdown",
   "metadata": {},
   "source": [
    "## Functions Section"
   ]
  },
  {
   "attachments": {},
   "cell_type": "markdown",
   "metadata": {},
   "source": [
    "#### Config Setter Functions"
   ]
  },
  {
   "cell_type": "code",
   "execution_count": 4,
   "metadata": {},
   "outputs": [],
   "source": [
    "def set_max_num_delta(val):\n",
    "        cfg.MAX_NUM_DELTAS = val\n",
    "        cfg.D_CNT_SIZE = cfg.required_bits(val)\n",
    "\n",
    "def act_deact_baseline(activate=True):\n",
    "        cfg.BASELINE_ON = activate\n",
    "        cfg.DISABLE_OPTIMIZED_INTERSECTION = False if not activate else True\n",
    "        cfg.DISABLE_OPTIMIZED_ADD_VERTEX = False if not activate else True\n",
    "        cfg.DISABLE_OPTIMIZED_BOUNDING_BOX = False if not activate else True"
   ]
  },
  {
   "attachments": {},
   "cell_type": "markdown",
   "metadata": {},
   "source": [
    "#### Stats Collector Functions"
   ]
  },
  {
   "cell_type": "code",
   "execution_count": 5,
   "metadata": {},
   "outputs": [],
   "source": [
    "def get_size_category(size):\n",
    "    if size < LARGE_THRESHOLD and size >= MEDIUM_THRESHOLD:\n",
    "            return \"Medium\", 1\n",
    "    elif size >= LARGE_THRESHOLD:\n",
    "         return \"Large\", 2\n",
    "    else:\n",
    "         return \"Small\", 0\n",
    "    \n",
    "def get_intersection_category(size1, size2):\n",
    "    size1_cat, type1 = get_size_category(size1)\n",
    "    size2_cat, type2 = get_size_category(size2)\n",
    "\n",
    "    if type1 == type2:\n",
    "         return size1_cat\n",
    "    if type1 < type2:\n",
    "            return size1_cat + \"_\" + size2_cat + \"_Mixed\"\n",
    "    return size2_cat + \"_\" + size1_cat + \"_Mixed\"\n",
    "        \n",
    "\n",
    "def get_context_category(g1, g2, bins=None):\n",
    "    if bins == None:\n",
    "        _, b1_fpde = fpd.compress(g1)\n",
    "        _, b2_fpde = fpd.compress(g2) \n",
    "    else:\n",
    "        b1_fpde, b2_fpde = bins\n",
    "\n",
    "    bbox = common_bbox((b1_fpde, b2_fpde))\n",
    "    intersects = shapely.intersection(g1, g2)\n",
    "    contains = shapely.contains(g1, g2) or shapely.contains(g2, g1)\n",
    "    if not bbox:\n",
    "        return \"No_Bbox_Overlap (FALSE)\"\n",
    "    elif not intersects:\n",
    "        return \"Bbox_Overlap (FALSE)\"\n",
    "    elif not contains:\n",
    "        return \"Bbox_Partial_Overlap (TRUE)\"\n",
    "    else:\n",
    "        return \"Bbox_Inside_Other (TRUE)\"\n",
    "\n",
    "def get_category_stat(g1, g2):\n",
    "        s1, s2 = (shapely.get_num_coordinates(g1), shapely.get_num_coordinates(g2))\n",
    "        size_category = get_intersection_category(s1, s2)\n",
    "        context_category = get_context_category(g1, g2)\n",
    "        return [size_category, context_category]\n",
    "\n",
    "\n",
    "#For taking mean of all stats, not just total time\n",
    "def get_time_stat(bins, predicate=False):\n",
    "    alg = chunk_bbox_is_intersecting if predicate else chunk_bbox_intersection\n",
    "    # 'decomp', 'nbr_recieved_chks', 'nbr_total_chks', 'total_time'\n",
    "    mean_stat = [0, 0, 0, 0]\n",
    "    for i in range(N):\n",
    "        stat, _ = alg(bins, get_stats=True)\n",
    "        mean_stat = [sum(x) for x in zip(mean_stat, stat)]\n",
    "    return mean_stat\n"
   ]
  },
  {
   "attachments": {},
   "cell_type": "markdown",
   "metadata": {},
   "source": [
    "#### Dataset Evaluation"
   ]
  },
  {
   "cell_type": "code",
   "execution_count": 6,
   "metadata": {},
   "outputs": [],
   "source": [
    "def evaluate_dataset(data, stats_df, delta_size=None):\n",
    "    for idx, (g1, g2) in enumerate(data):\n",
    "        if delta_size != None:\n",
    "            set_max_num_delta(delta_size)\n",
    "        #is_intersecting, intersect_points = binary_intersection(g1, g2)\n",
    "        bins = (fpd.compress(g1)[1], fpd.compress(g2)[1])\n",
    "\n",
    "        for is_predicate in [True,False]:\n",
    "            stats = []\n",
    "            stats.extend(get_time_stat(bins=bins, predicate=is_predicate))\n",
    "            stats.extend(get_category_stat(g1, g2))\n",
    "            stats.append(delta_size if delta_size != None else cfg.MAX_NUM_DELTAS)\n",
    "            stats.append(is_predicate)\n",
    "            stats.append(idx)\n",
    "            stats.append(cfg.BASELINE_ON)\n",
    "            stats_df.loc[len(stats_df)] = stats\n"
   ]
  },
  {
   "attachments": {},
   "cell_type": "markdown",
   "metadata": {},
   "source": [
    "#### Dataset Stats Collection"
   ]
  },
  {
   "cell_type": "code",
   "execution_count": 7,
   "metadata": {},
   "outputs": [],
   "source": [
    "stats_df = pd.DataFrame(columns=['decomp', 'nbr_recieved_chks', 'nbr_total_chks', 'total_time', \"sizes\", \"context\", \"delta_size\", \"predicate\", \"dataset_idx\", \"baseline\"])\n",
    "for baseline_on in [True, False]:\n",
    "    act_deact_baseline(activate=baseline_on)\n",
    "    for dataset in datasets:\n",
    "        evaluate_dataset(dataset, stats_df) # Second param: PLOT?"
   ]
  },
  {
   "attachments": {},
   "cell_type": "markdown",
   "metadata": {},
   "source": [
    "# Statistics Visualization"
   ]
  },
  {
   "cell_type": "markdown",
   "metadata": {},
   "source": [
    "#### Total Execution Time by Context"
   ]
  },
  {
   "cell_type": "code",
   "execution_count": 56,
   "metadata": {},
   "outputs": [],
   "source": [
    "total_time_df = stats_df[['context', 'total_time', 'sizes', 'baseline', 'predicate']]\n",
    "total_time_df[\"context_size\"] = total_time_df[['sizes', 'context']].agg('-'.join, axis=1)\n"
   ]
  },
  {
   "cell_type": "code",
   "execution_count": 76,
   "metadata": {},
   "outputs": [],
   "source": [
    "def plot_total_time(df, is_predicate=False, size_cat_incl = [\"Large\"], size_cat_excl = [\"Small\"], show_outliers=True, log_scale=True):\n",
    "    df = df[df['predicate'] == is_predicate]\n",
    "    \n",
    "    for cat in size_cat_incl:\n",
    "        df = df[df['sizes'].str.contains(cat)]\n",
    "\n",
    "    for cat in size_cat_excl:\n",
    "        df = df[df['sizes'].str.contains(cat) == False]\n",
    "\n",
    "    df.reset_index(inplace=True)\n",
    "    fig = go.Figure()\n",
    "    for is_baseline, color_palette in [(True, '#3D9970'), (False,'#FF4136')]:\n",
    "        curr_df = df[df['baseline'] == is_baseline]\n",
    "        fig.add_trace(go.Box(\n",
    "        y= curr_df.total_time.values,\n",
    "        x=curr_df.context_size.values,\n",
    "        name='Baseline' if is_baseline else 'FPDE',\n",
    "        marker_color=color_palette\n",
    "        ))\n",
    "\n",
    "    fig.update_layout(\n",
    "    yaxis_title='normalized moisture',\n",
    "    boxmode='group' # group together boxes of the different traces for each value of x\n",
    "    )\n",
    "    intersection_format = \"Intersection\" if not is_predicate else \"IsIntersection\"\n",
    "    fig.update_layout(title=f\"Total Execution time for {intersection_format}\",title_x=0.5, boxmode='group')\n",
    "    fig.update_layout(barmode=\"relative\", xaxis_title=\"Context\", yaxis_title=\"Execution speed\")\n",
    "    if not show_outliers:\n",
    "        fig.update_traces(boxpoints=False) \n",
    "\n",
    "    if log_scale:\n",
    "        fig.update_yaxes(type=\"log\")\n",
    "\n",
    "    fig.show()"
   ]
  },
  {
   "attachments": {},
   "cell_type": "markdown",
   "metadata": {},
   "source": [
    "#### Chunk Unfolding Analyzation"
   ]
  },
  {
   "cell_type": "code",
   "execution_count": 58,
   "metadata": {},
   "outputs": [],
   "source": [
    "chunk_unfolded_df = stats_df[['nbr_recieved_chks', 'nbr_total_chks','predicate','baseline', 'context', 'sizes']]\n",
    "chunk_unfolded_df[\"chk_fraction_unfolded\"] = chunk_unfolded_df[\"nbr_recieved_chks\"].div(chunk_unfolded_df.nbr_total_chks, axis=0) * 100"
   ]
  },
  {
   "cell_type": "code",
   "execution_count": 59,
   "metadata": {},
   "outputs": [],
   "source": [
    "def plot_chunk_unfolded_frac(df, is_predicate=False, is_baseline=False):\n",
    "    df = df[df['predicate'] == is_predicate]\n",
    "    df = df[df['baseline'] == is_baseline]\n",
    "\n",
    "    df = df.groupby(['context', 'sizes']).mean()\n",
    "    df.reset_index(inplace=True)\n",
    "    x = [\n",
    "        df.context.values,\n",
    "        df.sizes.values\n",
    "        \n",
    "    ]\n",
    "    fig = go.Figure()\n",
    "    fig.add_bar(y=x,x=df.chk_fraction_unfolded.values, name=\"Chunk fraction unfolded\", orientation='h')\n",
    "\n",
    "    intersection_format = \"Intersection\" if not is_predicate else \"IsIntersection\"\n",
    "    baseline_format = \"\" if not is_baseline else \"(BASELINE)\"\n",
    "\n",
    "    fig.update_layout(title=f\"Fraction of chunks unfolded for {intersection_format} {baseline_format}\",title_x=0.5)\n",
    "    fig.update_layout(barmode=\"relative\", xaxis_title=\"Chunks Unfolded (%)\", yaxis_title=\"Context + Geometry Size\")\n",
    "\n",
    "    fig.show()"
   ]
  },
  {
   "attachments": {},
   "cell_type": "markdown",
   "metadata": {},
   "source": [
    "#### Fraction of Time for Partial Decompression Analysis"
   ]
  },
  {
   "cell_type": "code",
   "execution_count": 60,
   "metadata": {},
   "outputs": [],
   "source": [
    "partial_frac_df = stats_df[['decomp', 'total_time', 'predicate','baseline', 'context', 'sizes']]\n",
    "partial_frac_df[\"decomp\"] = partial_frac_df[\"decomp\"].div(partial_frac_df.total_time/100, axis=0)\n",
    "partial_frac_df['algo_time'] = partial_frac_df.apply(lambda x: 100 - x['decomp'], axis=1)"
   ]
  },
  {
   "cell_type": "code",
   "execution_count": 61,
   "metadata": {},
   "outputs": [],
   "source": [
    "def plot_partial_decomp_frac(df, is_predicate=False, is_baseline=False):\n",
    "    df = df[df['predicate'] == is_predicate]\n",
    "    df = df[df['baseline'] == is_baseline]\n",
    "\n",
    "    df = df.groupby(['context', 'sizes']).mean()\n",
    "    df.reset_index(inplace=True)\n",
    "    x = [\n",
    "        df.context.values,\n",
    "        df.sizes.values\n",
    "    ]\n",
    "\n",
    "    intersection_format = \"Intersection\" if not is_predicate else \"IsIntersection\"\n",
    "    baseline_format = \"\" if not is_baseline else \"(BASELINE)\"\n",
    "    \n",
    "    fig = go.Figure()\n",
    "    fig.add_bar(y=x,x=df.decomp.values, name=\"Decompression stage\",orientation='h')\n",
    "    fig.add_bar(y=x,x=df.algo_time.values, name=intersection_format, orientation='h')\n",
    "    fig.update_layout(title=f\"Execution time distrubution for {intersection_format} {baseline_format}\",title_x=0.5)\n",
    "    fig.update_layout(barmode=\"relative\", xaxis_title=\"Execution time (%)\", yaxis_title=\"Context + Geometry Size)\")\n",
    "    fig.update_layout(legend=dict(yanchor=\"top\",y=1.2, xanchor=\"right\", x=0.997))\n",
    "    fig.show()"
   ]
  },
  {
   "attachments": {},
   "cell_type": "markdown",
   "metadata": {},
   "source": [
    "#### Best MAX_NUM_DELTAS per Dataset Analysis"
   ]
  },
  {
   "cell_type": "code",
   "execution_count": 62,
   "metadata": {},
   "outputs": [
    {
     "ename": "KeyboardInterrupt",
     "evalue": "",
     "output_type": "error",
     "traceback": [
      "\u001b[0;31m---------------------------------------------------------------------------\u001b[0m",
      "\u001b[0;31mKeyboardInterrupt\u001b[0m                         Traceback (most recent call last)",
      "Cell \u001b[0;32mIn[62], line 6\u001b[0m\n\u001b[1;32m      4\u001b[0m \u001b[39mfor\u001b[39;00m baseline_on \u001b[39min\u001b[39;00m [\u001b[39mTrue\u001b[39;00m, \u001b[39mFalse\u001b[39;00m]:\n\u001b[1;32m      5\u001b[0m     act_deact_baseline(activate\u001b[39m=\u001b[39mbaseline_on)        \n\u001b[0;32m----> 6\u001b[0m     evaluate_dataset(data\u001b[39m=\u001b[39;49mdataset, stats_df\u001b[39m=\u001b[39;49mmax_deltas_df, delta_size\u001b[39m=\u001b[39;49mmax_delta_size)    \n",
      "Cell \u001b[0;32mIn[6], line 10\u001b[0m, in \u001b[0;36mevaluate_dataset\u001b[0;34m(data, stats_df, delta_size)\u001b[0m\n\u001b[1;32m      8\u001b[0m \u001b[39mfor\u001b[39;00m is_predicate \u001b[39min\u001b[39;00m [\u001b[39mTrue\u001b[39;00m,\u001b[39mFalse\u001b[39;00m]:\n\u001b[1;32m      9\u001b[0m     stats \u001b[39m=\u001b[39m []\n\u001b[0;32m---> 10\u001b[0m     stats\u001b[39m.\u001b[39mextend(get_time_stat(bins\u001b[39m=\u001b[39;49mbins, predicate\u001b[39m=\u001b[39;49mis_predicate))\n\u001b[1;32m     11\u001b[0m     stats\u001b[39m.\u001b[39mextend(get_category_stat(g1, g2))\n\u001b[1;32m     12\u001b[0m     stats\u001b[39m.\u001b[39mappend(delta_size \u001b[39mif\u001b[39;00m delta_size \u001b[39m!=\u001b[39m \u001b[39mNone\u001b[39;00m \u001b[39melse\u001b[39;00m cfg\u001b[39m.\u001b[39mMAX_NUM_DELTAS)\n",
      "Cell \u001b[0;32mIn[5], line 52\u001b[0m, in \u001b[0;36mget_time_stat\u001b[0;34m(bins, predicate)\u001b[0m\n\u001b[1;32m     50\u001b[0m mean_stat \u001b[39m=\u001b[39m [\u001b[39m0\u001b[39m, \u001b[39m0\u001b[39m, \u001b[39m0\u001b[39m, \u001b[39m0\u001b[39m]\n\u001b[1;32m     51\u001b[0m \u001b[39mfor\u001b[39;00m i \u001b[39min\u001b[39;00m \u001b[39mrange\u001b[39m(N):\n\u001b[0;32m---> 52\u001b[0m     stat, _ \u001b[39m=\u001b[39m alg(bins, get_stats\u001b[39m=\u001b[39;49m\u001b[39mTrue\u001b[39;49;00m)\n\u001b[1;32m     53\u001b[0m     mean_stat \u001b[39m=\u001b[39m [\u001b[39msum\u001b[39m(x) \u001b[39mfor\u001b[39;00m x \u001b[39min\u001b[39;00m \u001b[39mzip\u001b[39m(mean_stat, stat)]\n\u001b[1;32m     54\u001b[0m \u001b[39mreturn\u001b[39;00m mean_stat\n",
      "File \u001b[0;32m~/Desktop/Examensarbete/intersection/chunk_bbox_intersection.py:407\u001b[0m, in \u001b[0;36mis_intersecting\u001b[0;34m(bins, debug_correct_ans, plot_all, get_stats)\u001b[0m\n\u001b[1;32m    405\u001b[0m \u001b[39mdef\u001b[39;00m \u001b[39mis_intersecting\u001b[39m(bins, debug_correct_ans\u001b[39m=\u001b[39m\u001b[39mNone\u001b[39;00m, plot_all\u001b[39m=\u001b[39m\u001b[39mFalse\u001b[39;00m, get_stats\u001b[39m=\u001b[39m\u001b[39mFalse\u001b[39;00m):\n\u001b[1;32m    406\u001b[0m     start_time \u001b[39m=\u001b[39m time\u001b[39m.\u001b[39mperf_counter()\n\u001b[0;32m--> 407\u001b[0m     calculate_globals(bins)\n\u001b[1;32m    408\u001b[0m     cache \u001b[39m=\u001b[39m [{},{}]\n\u001b[1;32m    409\u001b[0m     bbox, overlap_type \u001b[39m=\u001b[39m common_bbox(bins)\n",
      "File \u001b[0;32m~/Desktop/Examensarbete/intersection/chunk_bbox_intersection.py:78\u001b[0m, in \u001b[0;36mcalculate_globals\u001b[0;34m(bins)\u001b[0m\n\u001b[1;32m     76\u001b[0m \u001b[39mfor\u001b[39;00m s \u001b[39min\u001b[39;00m \u001b[39mrange\u001b[39m(\u001b[39m2\u001b[39m):\n\u001b[1;32m     77\u001b[0m     \u001b[39mbin\u001b[39m \u001b[39m=\u001b[39m bins[s]\n\u001b[0;32m---> 78\u001b[0m     chunks \u001b[39m=\u001b[39m fpd\u001b[39m.\u001b[39;49mget_chunks(\u001b[39mbin\u001b[39;49m)[\u001b[39m0\u001b[39m]\n\u001b[1;32m     79\u001b[0m     chunks_bounds \u001b[39m=\u001b[39m []\n\u001b[1;32m     80\u001b[0m     \u001b[39m#Global bbox\u001b[39;00m\n",
      "File \u001b[0;32m~/Desktop/Examensarbete/algos/alg_fpd_extended.py:37\u001b[0m, in \u001b[0;36mFpdExtended.<lambda>\u001b[0;34m(self, bin, include_ring_start, verbose)\u001b[0m\n\u001b[1;32m     32\u001b[0m \u001b[39mclass\u001b[39;00m \u001b[39mFpdExtended\u001b[39;00m(CompressionAlgorithm):\n\u001b[1;32m     33\u001b[0m \n\u001b[1;32m     34\u001b[0m     \u001b[39m# ---- HELPER METHODS\u001b[39;00m\n\u001b[1;32m     35\u001b[0m \n\u001b[1;32m     36\u001b[0m     \u001b[39m# Export some helper functions\u001b[39;00m\n\u001b[0;32m---> 37\u001b[0m     get_chunks \u001b[39m=\u001b[39m \u001b[39mlambda\u001b[39;00m \u001b[39mself\u001b[39m, \u001b[39mbin\u001b[39m, include_ring_start\u001b[39m=\u001b[39m\u001b[39mTrue\u001b[39;00m, verbose\u001b[39m=\u001b[39m\u001b[39mFalse\u001b[39;00m: get_chunks(\u001b[39mbin\u001b[39;49m, include_ring_start, verbose)\n\u001b[1;32m     38\u001b[0m     access_vertex_chk \u001b[39m=\u001b[39m \u001b[39mlambda\u001b[39;00m \u001b[39mself\u001b[39m, \u001b[39mbin\u001b[39m, chk_offset, delta_size, idx, cache\u001b[39m=\u001b[39m\u001b[39mNone\u001b[39;00m: access_vertex_chk(\u001b[39mbin\u001b[39m, chk_offset, delta_size, idx, cache\u001b[39m=\u001b[39mcache)\n\u001b[1;32m     39\u001b[0m     access_vertex \u001b[39m=\u001b[39m \u001b[39mlambda\u001b[39;00m \u001b[39mself\u001b[39m, \u001b[39mbin\u001b[39m, access_idx, cache\u001b[39m=\u001b[39m[]: access_vertex(\u001b[39mbin\u001b[39m, access_idx, cache)\n",
      "File \u001b[0;32m~/Desktop/Examensarbete/algos/fpd_extended_lib/helpers.py:67\u001b[0m, in \u001b[0;36mget_chunks\u001b[0;34m(bin_in, include_next_start, verbose)\u001b[0m\n\u001b[1;32m     65\u001b[0m chunk \u001b[39m=\u001b[39m [[x, y]]\n\u001b[1;32m     66\u001b[0m \u001b[39m# Loop through deltas in chunk\u001b[39;00m\n\u001b[0;32m---> 67\u001b[0m \u001b[39mfor\u001b[39;00m _ \u001b[39min\u001b[39;00m \u001b[39mrange\u001b[39m(deltas_in_chunk):\n\u001b[1;32m     68\u001b[0m     x \u001b[39m=\u001b[39m bytes_to_decoded_coord(\u001b[39mbin\u001b[39m, x, delta_size)\n\u001b[1;32m     69\u001b[0m     y \u001b[39m=\u001b[39m bytes_to_decoded_coord(\u001b[39mbin\u001b[39m, y, delta_size)\n",
      "\u001b[0;31mKeyboardInterrupt\u001b[0m: "
     ]
    }
   ],
   "source": [
    "max_deltas_df = pd.DataFrame(columns=['decomp', 'nbr_recieved_chks', 'nbr_total_chks', 'total_time', \"sizes\", \"context\", \"delta_size\", \"predicate\", \"dataset_idx\", \"baseline\"])\n",
    "for max_delta_size in range(0,4):\n",
    "    for dataset in datasets:\n",
    "        for baseline_on in [True, False]:\n",
    "            act_deact_baseline(activate=baseline_on)        \n",
    "            evaluate_dataset(data=dataset, stats_df=max_deltas_df, delta_size=max_delta_size)    "
   ]
  },
  {
   "cell_type": "code",
   "execution_count": 67,
   "metadata": {},
   "outputs": [],
   "source": [
    "max_deltas_filt_df = max_deltas_df[['total_time', \"sizes\", \"delta_size\", \"predicate\", \"baseline\"]]"
   ]
  },
  {
   "cell_type": "code",
   "execution_count": 64,
   "metadata": {},
   "outputs": [],
   "source": [
    "def plot_max_delta_size_speed(df, is_predicate=False):\n",
    "    df = df[df['predicate'] == is_predicate]\n",
    "    df = df.groupby(['delta_size', 'sizes', 'baseline']).mean()\n",
    "    df.reset_index(inplace=True)\n",
    "    \n",
    "    sizes = dict(zip(list(df.sizes.unique()), range(len(df.sizes.unique()))))\n",
    "    fig = make_subplots(rows=2, cols=3, subplot_titles=(list(sizes.keys())), horizontal_spacing=0.1, x_title=\"MAX_CHUNK_SIZE\", y_title=\"Mean Execution time (s)\")\n",
    "    for size in sizes.keys():\n",
    "        curr_context_df = df[(df['sizes'] == size)]\n",
    "        for is_baseline in [True, False]:\n",
    "            curr_df = curr_context_df[curr_context_df['baseline'] == is_baseline]\n",
    "            baseline_formatting = \"\" if not is_baseline else \"(Baseline)\"\n",
    "            fig.add_trace(go.Scatter(x=curr_df.delta_size.values, y=curr_df.total_time.values,\n",
    "                                    mode='lines',\n",
    "                                    name=f\"{size}{baseline_formatting}\"),row=sizes[size] // 3 + 1, col=sizes[size] % 3 + 1)\n",
    "            \n",
    "    \n",
    "    intersection_format = \"Intersection\" if not is_predicate else \"IsIntersection\"\n",
    "    baseline_format = \"\" if not is_baseline else \"(BASELINE)\"\n",
    "    fig.update_layout(title=f\"Execution time for {intersection_format} by MAX_CHUNK_SIZE {baseline_format}\",title_x=0.5)\n",
    "    fig.show()"
   ]
  },
  {
   "attachments": {},
   "cell_type": "markdown",
   "metadata": {},
   "source": [
    "## Results"
   ]
  },
  {
   "attachments": {},
   "cell_type": "markdown",
   "metadata": {},
   "source": [
    "#### Total time Analysis"
   ]
  },
  {
   "cell_type": "code",
   "execution_count": 77,
   "metadata": {},
   "outputs": [
    {
     "data": {
      "application/vnd.plotly.v1+json": {
       "config": {
        "plotlyServerURL": "https://plot.ly"
       },
       "data": [
        {
         "marker": {
          "color": "#3D9970"
         },
         "name": "Baseline",
         "type": "box",
         "x": [
          "Large-Bbox_Partial_Overlap (TRUE)",
          "Large-Bbox_Partial_Overlap (TRUE)",
          "Large-Bbox_Partial_Overlap (TRUE)",
          "Large-Bbox_Partial_Overlap (TRUE)",
          "Large-Bbox_Partial_Overlap (TRUE)",
          "Large-Bbox_Partial_Overlap (TRUE)",
          "Large-Bbox_Partial_Overlap (TRUE)",
          "Large-Bbox_Overlap (FALSE)",
          "Large-Bbox_Overlap (FALSE)",
          "Large-Bbox_Overlap (FALSE)",
          "Large-Bbox_Partial_Overlap (TRUE)",
          "Large-Bbox_Overlap (FALSE)",
          "Large-Bbox_Partial_Overlap (TRUE)",
          "Large-Bbox_Partial_Overlap (TRUE)",
          "Large-Bbox_Partial_Overlap (TRUE)",
          "Large-Bbox_Overlap (FALSE)",
          "Large-Bbox_Partial_Overlap (TRUE)",
          "Large-Bbox_Partial_Overlap (TRUE)",
          "Medium_Large_Mixed-Bbox_Overlap (FALSE)",
          "Large-Bbox_Partial_Overlap (TRUE)",
          "Medium_Large_Mixed-Bbox_Overlap (FALSE)",
          "Medium_Large_Mixed-Bbox_Overlap (FALSE)",
          "Large-Bbox_Overlap (FALSE)",
          "Large-Bbox_Partial_Overlap (TRUE)",
          "Large-Bbox_Partial_Overlap (TRUE)",
          "Large-Bbox_Overlap (FALSE)",
          "Large-Bbox_Partial_Overlap (TRUE)",
          "Medium_Large_Mixed-Bbox_Overlap (FALSE)",
          "Large-Bbox_Overlap (FALSE)",
          "Large-Bbox_Overlap (FALSE)",
          "Large-Bbox_Partial_Overlap (TRUE)",
          "Large-Bbox_Partial_Overlap (TRUE)",
          "Large-Bbox_Partial_Overlap (TRUE)",
          "Large-Bbox_Partial_Overlap (TRUE)",
          "Large-Bbox_Overlap (FALSE)",
          "Large-Bbox_Overlap (FALSE)",
          "Large-Bbox_Partial_Overlap (TRUE)",
          "Large-Bbox_Overlap (FALSE)",
          "Large-Bbox_Partial_Overlap (TRUE)",
          "Large-Bbox_Partial_Overlap (TRUE)",
          "Large-Bbox_Partial_Overlap (TRUE)",
          "Large-Bbox_Overlap (FALSE)",
          "Large-Bbox_Partial_Overlap (TRUE)",
          "Large-Bbox_Partial_Overlap (TRUE)",
          "Large-Bbox_Overlap (FALSE)",
          "Large-Bbox_Overlap (FALSE)",
          "Large-Bbox_Partial_Overlap (TRUE)",
          "Large-Bbox_Partial_Overlap (TRUE)",
          "Large-Bbox_Partial_Overlap (TRUE)",
          "Large-Bbox_Overlap (FALSE)",
          "Large-Bbox_Partial_Overlap (TRUE)",
          "Large-Bbox_Partial_Overlap (TRUE)",
          "Large-Bbox_Partial_Overlap (TRUE)",
          "Large-Bbox_Overlap (FALSE)",
          "Large-Bbox_Partial_Overlap (TRUE)",
          "Large-Bbox_Partial_Overlap (TRUE)",
          "Large-Bbox_Partial_Overlap (TRUE)",
          "Large-Bbox_Partial_Overlap (TRUE)",
          "Large-Bbox_Overlap (FALSE)",
          "Large-Bbox_Partial_Overlap (TRUE)",
          "Large-Bbox_Overlap (FALSE)",
          "Large-Bbox_Partial_Overlap (TRUE)",
          "Large-Bbox_Partial_Overlap (TRUE)",
          "Large-Bbox_Partial_Overlap (TRUE)",
          "Large-Bbox_Partial_Overlap (TRUE)",
          "Large-Bbox_Partial_Overlap (TRUE)",
          "Large-Bbox_Partial_Overlap (TRUE)",
          "Large-Bbox_Partial_Overlap (TRUE)",
          "Large-Bbox_Overlap (FALSE)",
          "Large-Bbox_Overlap (FALSE)",
          "Large-Bbox_Overlap (FALSE)",
          "Large-Bbox_Partial_Overlap (TRUE)",
          "Large-Bbox_Partial_Overlap (TRUE)",
          "Large-Bbox_Partial_Overlap (TRUE)",
          "Large-Bbox_Partial_Overlap (TRUE)",
          "Large-Bbox_Partial_Overlap (TRUE)",
          "Large-Bbox_Partial_Overlap (TRUE)",
          "Large-Bbox_Overlap (FALSE)",
          "Large-Bbox_Partial_Overlap (TRUE)",
          "Large-Bbox_Partial_Overlap (TRUE)",
          "Large-Bbox_Partial_Overlap (TRUE)",
          "Large-Bbox_Partial_Overlap (TRUE)",
          "Large-Bbox_Partial_Overlap (TRUE)",
          "Large-Bbox_Partial_Overlap (TRUE)",
          "Large-Bbox_Partial_Overlap (TRUE)",
          "Large-Bbox_Partial_Overlap (TRUE)",
          "Large-Bbox_Partial_Overlap (TRUE)",
          "Large-Bbox_Partial_Overlap (TRUE)",
          "Large-Bbox_Partial_Overlap (TRUE)",
          "Large-Bbox_Overlap (FALSE)",
          "Large-Bbox_Overlap (FALSE)",
          "Large-Bbox_Partial_Overlap (TRUE)",
          "Large-Bbox_Partial_Overlap (TRUE)",
          "Large-Bbox_Partial_Overlap (TRUE)",
          "Large-Bbox_Partial_Overlap (TRUE)",
          "Large-Bbox_Partial_Overlap (TRUE)",
          "Large-Bbox_Partial_Overlap (TRUE)",
          "Large-Bbox_Partial_Overlap (TRUE)",
          "Large-Bbox_Partial_Overlap (TRUE)",
          "Large-Bbox_Overlap (FALSE)",
          "Large-Bbox_Overlap (FALSE)",
          "Large-Bbox_Overlap (FALSE)",
          "Large-Bbox_Overlap (FALSE)",
          "Large-Bbox_Overlap (FALSE)",
          "Large-Bbox_Overlap (FALSE)",
          "Large-Bbox_Overlap (FALSE)",
          "Large-Bbox_Overlap (FALSE)",
          "Large-Bbox_Overlap (FALSE)",
          "Large-Bbox_Overlap (FALSE)",
          "Large-Bbox_Overlap (FALSE)",
          "Large-Bbox_Overlap (FALSE)",
          "Large-Bbox_Overlap (FALSE)",
          "Large-Bbox_Overlap (FALSE)",
          "Large-Bbox_Overlap (FALSE)",
          "Large-Bbox_Overlap (FALSE)",
          "Large-Bbox_Overlap (FALSE)",
          "Large-Bbox_Overlap (FALSE)",
          "Large-Bbox_Overlap (FALSE)",
          "Large-Bbox_Overlap (FALSE)",
          "Large-Bbox_Overlap (FALSE)",
          "Large-Bbox_Overlap (FALSE)",
          "Large-Bbox_Overlap (FALSE)",
          "Large-Bbox_Overlap (FALSE)",
          "Large-Bbox_Overlap (FALSE)",
          "Large-Bbox_Overlap (FALSE)",
          "Large-Bbox_Overlap (FALSE)",
          "Large-Bbox_Overlap (FALSE)",
          "Large-Bbox_Overlap (FALSE)",
          "Large-Bbox_Overlap (FALSE)",
          "Large-Bbox_Overlap (FALSE)",
          "Large-Bbox_Overlap (FALSE)",
          "Large-Bbox_Overlap (FALSE)",
          "Large-Bbox_Overlap (FALSE)",
          "Large-Bbox_Overlap (FALSE)",
          "Large-Bbox_Overlap (FALSE)",
          "Large-Bbox_Overlap (FALSE)",
          "Large-Bbox_Overlap (FALSE)",
          "Large-Bbox_Overlap (FALSE)",
          "Large-Bbox_Overlap (FALSE)",
          "Large-Bbox_Overlap (FALSE)",
          "Large-Bbox_Overlap (FALSE)",
          "Large-Bbox_Overlap (FALSE)",
          "Large-Bbox_Overlap (FALSE)",
          "Large-Bbox_Overlap (FALSE)",
          "Large-Bbox_Overlap (FALSE)",
          "Large-Bbox_Overlap (FALSE)",
          "Large-Bbox_Overlap (FALSE)",
          "Large-Bbox_Overlap (FALSE)",
          "Large-Bbox_Overlap (FALSE)",
          "Large-Bbox_Overlap (FALSE)",
          "Medium_Large_Mixed-Bbox_Overlap (FALSE)",
          "Large-Bbox_Overlap (FALSE)",
          "Large-Bbox_Overlap (FALSE)",
          "Large-Bbox_Overlap (FALSE)",
          "Large-Bbox_Overlap (FALSE)",
          "Large-Bbox_Overlap (FALSE)",
          "Large-Bbox_Overlap (FALSE)",
          "Large-Bbox_Overlap (FALSE)",
          "Large-Bbox_Overlap (FALSE)",
          "Large-Bbox_Overlap (FALSE)",
          "Large-Bbox_Overlap (FALSE)",
          "Large-Bbox_Overlap (FALSE)",
          "Large-Bbox_Overlap (FALSE)",
          "Large-Bbox_Overlap (FALSE)",
          "Large-Bbox_Overlap (FALSE)",
          "Large-Bbox_Overlap (FALSE)",
          "Large-Bbox_Overlap (FALSE)",
          "Medium_Large_Mixed-Bbox_Overlap (FALSE)",
          "Large-Bbox_Overlap (FALSE)",
          "Large-Bbox_Overlap (FALSE)",
          "Large-Bbox_Overlap (FALSE)",
          "Medium_Large_Mixed-Bbox_Overlap (FALSE)",
          "Large-Bbox_Overlap (FALSE)",
          "Large-Bbox_Overlap (FALSE)",
          "Large-Bbox_Overlap (FALSE)",
          "Large-Bbox_Overlap (FALSE)",
          "Large-Bbox_Overlap (FALSE)",
          "Large-Bbox_Overlap (FALSE)",
          "Large-Bbox_Overlap (FALSE)",
          "Large-Bbox_Overlap (FALSE)",
          "Large-Bbox_Overlap (FALSE)",
          "Large-Bbox_Overlap (FALSE)",
          "Large-Bbox_Overlap (FALSE)",
          "Large-Bbox_Overlap (FALSE)",
          "Large-Bbox_Overlap (FALSE)",
          "Large-Bbox_Overlap (FALSE)",
          "Large-Bbox_Overlap (FALSE)",
          "Large-Bbox_Overlap (FALSE)",
          "Large-Bbox_Overlap (FALSE)",
          "Large-Bbox_Overlap (FALSE)",
          "Large-Bbox_Overlap (FALSE)",
          "Medium_Large_Mixed-Bbox_Overlap (FALSE)",
          "Large-Bbox_Overlap (FALSE)",
          "Medium_Large_Mixed-Bbox_Partial_Overlap (TRUE)",
          "Medium_Large_Mixed-Bbox_Partial_Overlap (TRUE)",
          "Large-Bbox_Partial_Overlap (TRUE)",
          "Medium_Large_Mixed-Bbox_Overlap (FALSE)",
          "Medium_Large_Mixed-Bbox_Partial_Overlap (TRUE)",
          "Large-Bbox_Overlap (FALSE)",
          "Large-Bbox_Partial_Overlap (TRUE)",
          "Large-Bbox_Partial_Overlap (TRUE)",
          "Medium_Large_Mixed-Bbox_Overlap (FALSE)",
          "Medium_Large_Mixed-Bbox_Overlap (FALSE)",
          "Medium_Large_Mixed-Bbox_Overlap (FALSE)",
          "Medium_Large_Mixed-Bbox_Partial_Overlap (TRUE)",
          "Medium_Large_Mixed-Bbox_Overlap (FALSE)",
          "Large-Bbox_Overlap (FALSE)",
          "Large-Bbox_Overlap (FALSE)",
          "Medium_Large_Mixed-Bbox_Overlap (FALSE)",
          "Medium_Large_Mixed-Bbox_Overlap (FALSE)",
          "Medium_Large_Mixed-Bbox_Overlap (FALSE)",
          "Medium_Large_Mixed-Bbox_Partial_Overlap (TRUE)",
          "Medium_Large_Mixed-Bbox_Partial_Overlap (TRUE)",
          "Medium_Large_Mixed-Bbox_Overlap (FALSE)",
          "Large-Bbox_Overlap (FALSE)",
          "Medium_Large_Mixed-Bbox_Partial_Overlap (TRUE)",
          "Medium_Large_Mixed-Bbox_Partial_Overlap (TRUE)",
          "Large-Bbox_Overlap (FALSE)",
          "Large-Bbox_Overlap (FALSE)",
          "Large-Bbox_Partial_Overlap (TRUE)",
          "Medium_Large_Mixed-Bbox_Overlap (FALSE)",
          "Large-Bbox_Overlap (FALSE)",
          "Large-Bbox_Overlap (FALSE)",
          "Large-Bbox_Overlap (FALSE)",
          "Large-Bbox_Partial_Overlap (TRUE)",
          "Medium_Large_Mixed-Bbox_Overlap (FALSE)",
          "Medium_Large_Mixed-Bbox_Overlap (FALSE)",
          "Medium_Large_Mixed-Bbox_Partial_Overlap (TRUE)",
          "Large-Bbox_Partial_Overlap (TRUE)",
          "Medium_Large_Mixed-Bbox_Partial_Overlap (TRUE)",
          "Large-Bbox_Overlap (FALSE)",
          "Large-Bbox_Partial_Overlap (TRUE)",
          "Large-Bbox_Partial_Overlap (TRUE)",
          "Large-Bbox_Partial_Overlap (TRUE)",
          "Medium_Large_Mixed-Bbox_Partial_Overlap (TRUE)",
          "Medium_Large_Mixed-Bbox_Overlap (FALSE)",
          "Medium_Large_Mixed-Bbox_Partial_Overlap (TRUE)",
          "Medium_Large_Mixed-Bbox_Partial_Overlap (TRUE)",
          "Large-Bbox_Partial_Overlap (TRUE)",
          "Large-Bbox_Partial_Overlap (TRUE)",
          "Large-Bbox_Overlap (FALSE)",
          "Medium_Large_Mixed-Bbox_Partial_Overlap (TRUE)",
          "Large-Bbox_Partial_Overlap (TRUE)",
          "Medium_Large_Mixed-Bbox_Overlap (FALSE)",
          "Medium_Large_Mixed-Bbox_Partial_Overlap (TRUE)",
          "Medium_Large_Mixed-Bbox_Overlap (FALSE)",
          "Large-Bbox_Overlap (FALSE)",
          "Medium_Large_Mixed-Bbox_Overlap (FALSE)",
          "Medium_Large_Mixed-Bbox_Overlap (FALSE)",
          "Large-Bbox_Overlap (FALSE)",
          "Medium_Large_Mixed-Bbox_Overlap (FALSE)",
          "Medium_Large_Mixed-Bbox_Overlap (FALSE)",
          "Medium_Large_Mixed-Bbox_Overlap (FALSE)",
          "Medium_Large_Mixed-Bbox_Overlap (FALSE)",
          "Medium_Large_Mixed-Bbox_Overlap (FALSE)",
          "Medium_Large_Mixed-Bbox_Overlap (FALSE)",
          "Large-Bbox_Overlap (FALSE)",
          "Large-Bbox_Overlap (FALSE)",
          "Large-Bbox_Overlap (FALSE)",
          "Medium_Large_Mixed-Bbox_Overlap (FALSE)",
          "Large-Bbox_Partial_Overlap (TRUE)",
          "Medium_Large_Mixed-Bbox_Overlap (FALSE)",
          "Large-Bbox_Overlap (FALSE)",
          "Large-Bbox_Overlap (FALSE)",
          "Medium_Large_Mixed-Bbox_Overlap (FALSE)",
          "Medium_Large_Mixed-Bbox_Overlap (FALSE)",
          "Large-Bbox_Overlap (FALSE)",
          "Medium_Large_Mixed-Bbox_Overlap (FALSE)",
          "Medium_Large_Mixed-Bbox_Overlap (FALSE)",
          "Medium_Large_Mixed-Bbox_Partial_Overlap (TRUE)",
          "Large-Bbox_Overlap (FALSE)",
          "Medium_Large_Mixed-Bbox_Partial_Overlap (TRUE)",
          "Large-Bbox_Overlap (FALSE)",
          "Large-Bbox_Overlap (FALSE)",
          "Medium_Large_Mixed-Bbox_Overlap (FALSE)",
          "Large-Bbox_Overlap (FALSE)",
          "Medium_Large_Mixed-Bbox_Overlap (FALSE)",
          "Medium_Large_Mixed-Bbox_Overlap (FALSE)",
          "Medium_Large_Mixed-Bbox_Overlap (FALSE)",
          "Medium_Large_Mixed-Bbox_Overlap (FALSE)",
          "Medium_Large_Mixed-Bbox_Overlap (FALSE)",
          "Medium_Large_Mixed-Bbox_Overlap (FALSE)",
          "Large-Bbox_Overlap (FALSE)",
          "Medium_Large_Mixed-Bbox_Overlap (FALSE)",
          "Large-Bbox_Overlap (FALSE)",
          "Large-Bbox_Overlap (FALSE)",
          "Large-Bbox_Overlap (FALSE)",
          "Large-Bbox_Overlap (FALSE)",
          "Medium_Large_Mixed-Bbox_Partial_Overlap (TRUE)",
          "Large-Bbox_Overlap (FALSE)",
          "Medium_Large_Mixed-Bbox_Overlap (FALSE)",
          "Large-Bbox_Overlap (FALSE)",
          "Medium_Large_Mixed-Bbox_Overlap (FALSE)",
          "Medium_Large_Mixed-Bbox_Overlap (FALSE)",
          "Large-Bbox_Overlap (FALSE)",
          "Large-Bbox_Overlap (FALSE)",
          "Medium_Large_Mixed-Bbox_Overlap (FALSE)",
          "Medium_Large_Mixed-Bbox_Overlap (FALSE)",
          "Large-Bbox_Partial_Overlap (TRUE)",
          "Large-Bbox_Overlap (FALSE)",
          "Large-Bbox_Partial_Overlap (TRUE)",
          "Medium_Large_Mixed-Bbox_Partial_Overlap (TRUE)",
          "Medium_Large_Mixed-Bbox_Partial_Overlap (TRUE)",
          "Medium_Large_Mixed-Bbox_Overlap (FALSE)",
          "Large-Bbox_Partial_Overlap (TRUE)",
          "Medium_Large_Mixed-Bbox_Overlap (FALSE)",
          "Medium_Large_Mixed-Bbox_Partial_Overlap (TRUE)",
          "Medium_Large_Mixed-Bbox_Overlap (FALSE)",
          "Medium_Large_Mixed-Bbox_Overlap (FALSE)",
          "Medium_Large_Mixed-Bbox_Overlap (FALSE)",
          "Medium_Large_Mixed-Bbox_Overlap (FALSE)",
          "Medium_Large_Mixed-Bbox_Overlap (FALSE)",
          "Medium_Large_Mixed-Bbox_Overlap (FALSE)",
          "Medium_Large_Mixed-Bbox_Overlap (FALSE)",
          "Large-Bbox_Overlap (FALSE)"
         ],
         "y": [
          0.031583164003677666,
          0.01963969599455595,
          0.0064426419994561,
          0.003025651996722445,
          0.009044580001500435,
          0.007810758994310163,
          0.015580088991555385,
          0.003133824997348711,
          0.004110720998141915,
          0.006059306993847713,
          0.022698614004184492,
          0.010480477998498827,
          0.011172760001500137,
          0.011264106011367403,
          0.006703745006234385,
          0.0024622029886813834,
          0.024681351002072915,
          0.02399029400839936,
          0.0059815019922098145,
          0.01492671600135509,
          0.006397385004675016,
          0.00787107099313289,
          0.006887605995871127,
          0.031781286001205444,
          0.013488377997418866,
          0.012733749012113549,
          0.01230680599110201,
          0.004038477010908537,
          0.008011732003069483,
          0.007215435995021835,
          0.006397485005436465,
          0.004606764006894082,
          0.0041571369947632775,
          0.004120569006772712,
          0.0015645820094505325,
          0.0029600649868370965,
          0.007536518998676911,
          0.004282573005184531,
          0.004353813987108879,
          0.006435672010411508,
          0.007869690001825802,
          0.0067721770028583705,
          0.01832009499776177,
          0.018870761996367946,
          0.004376242010039277,
          0.004461574004380964,
          0.011555541001143865,
          0.004511032995651476,
          0.009328562999144197,
          0.0033056060055969283,
          0.00518326299788896,
          0.010663981011020951,
          0.008982893996289931,
          0.005517322002560832,
          0.01073615500354208,
          0.009319718010374345,
          0.01660327799618244,
          0.011109346989542246,
          0.007639146002475172,
          0.03611976599495392,
          0.007577881988254376,
          0.01495365600567311,
          0.02124776999698952,
          0.010468193999258801,
          0.007886637991759926,
          0.014054407001822256,
          0.011276702003669925,
          0.01144928700523451,
          0.004673788003856316,
          0.0048314689920516685,
          0.005018689000280574,
          0.055753580993041396,
          0.022783334003179334,
          0.010717323995777406,
          0.012726867993478663,
          0.011163435003254563,
          0.02131711199763231,
          0.00802665899391286,
          0.012943206005729735,
          0.009182498004520312,
          0.006249361991649494,
          0.009228487993823364,
          0.006731298999511637,
          0.009369002989842556,
          0.012303429000894539,
          0.004999348006094806,
          0.017019484002958052,
          0.03240745500079356,
          0.012178755001514219,
          0.010007623001001775,
          0.00769656800548546,
          0.02096863999031484,
          0.008198605995858088,
          0.0719468089955626,
          0.042500533993006684,
          0.03857258500647731,
          0.09600458000204526,
          0.02761556499172002,
          0.022014570000465028,
          0.0019127880077576265,
          0.019969925007899292,
          0.004294894999475218,
          0.017028874994139187,
          0.012764023995259777,
          0.0022896129958098754,
          0.003637268004240468,
          0.004746988997794688,
          0.017762208997737616,
          0.006476668990217149,
          0.0055180549970828,
          0.004699358003563248,
          0.005113157007144764,
          0.005671550999977626,
          0.013011814007768407,
          0.010617480002110824,
          0.010671520998585038,
          0.008792553999228403,
          0.012179135999758728,
          0.09952110100130085,
          0.03822407800180372,
          0.09629533199768048,
          0.00639404499088414,
          0.0053784050105605274,
          0.007998656990821473,
          0.0015568649978376925,
          0.0016968690033536404,
          0.0030225359951145947,
          0.004060548002598807,
          0.002971727997646667,
          0.001475230004871264,
          0.008629090996691957,
          0.008396050994633697,
          0.010315392006305046,
          0.0089620350045152,
          0.005264006002107635,
          0.005244145999313332,
          0.004238991008605808,
          0.0034473990090191364,
          0.0035352579870959744,
          0.014545661004376598,
          0.11690123299194966,
          0.001677040010690689,
          0.004216083005303517,
          0.00901578199409414,
          0.0034139710041927174,
          0.0037762959982501343,
          0.0022143529931781814,
          0.002364699001191184,
          0.003770997005631216,
          0.003763489003176801,
          0.0015762120019644499,
          0.01927855699614156,
          0.005058208989794366,
          0.06213972100522369,
          0.0130418149929028,
          0.005910766005399637,
          0.004657872996176593,
          0.006213096989085898,
          0.009500026004388928,
          0.006492953994893469,
          0.002483251999365166,
          0.007137494001653977,
          0.0089789049961837,
          0.004346535992226563,
          0.004479722992982715,
          0.021561690999078564,
          0.010863538991543464,
          0.007459893997292966,
          0.004330292998929508,
          0.0044834000000264496,
          0.003714229998877272,
          0.003327070997329429,
          0.023585027010994963,
          0.004680219994043,
          0.003568661995814182,
          0.008645212001283653,
          0.01121358601085376,
          0.009661044998210855,
          0.0075590870110318065,
          0.008812379994196817,
          0.009178833992336877,
          0.007427532997098751,
          0.007722641996224411,
          0.010041321002063341,
          0.008560262009268627,
          0.026098021000507288,
          0.0077628809958696365,
          0.005321973003447056,
          0.005083291995106265,
          0.005297725991113111,
          0.00913624900567811,
          0.004154843001742847,
          0.0033280819916399196,
          0.0019047929963562638,
          0.0017437440110370517,
          0.0029438570054480806,
          0.0015737619978608564,
          0.002284200003487058,
          0.001342875009868294,
          0.0031194729963317513,
          0.002700236000237055,
          0.0022132989979581907,
          0.0022565789986401796,
          0.0030941360018914565,
          0.002349427988519892,
          0.0016345369949704036,
          0.0013437849993351847,
          0.0023857729975134134,
          0.0014459350059041753,
          0.0008838080102577806,
          0.0026823269872693345,
          0.0026240290026180446,
          0.0015745109994895756,
          0.001264992999495007,
          0.002627735011628829,
          0.0025751549983397126,
          0.002627221998409368,
          0.0017511640035081655,
          0.002015007004956715,
          0.00804621099086944,
          0.0008983380103018135,
          0.0028565469983732328,
          0.0034334480005782098,
          0.003919451002730057,
          0.004586893992382102,
          0.0012615160085260868,
          0.0019049270049436018,
          0.0017533469945192337,
          0.003223692998290062,
          0.0017440689989598468,
          0.0015100400050869212,
          0.0029106050060363486,
          0.0034253369958605617,
          0.0031373069941764697,
          0.001674215993261896,
          0.0012308779987506568,
          0.002223264003987424,
          0.0014413419994525611,
          0.0030439389956882223,
          0.0033860870025819167,
          0.0019515309977578,
          0.0015243410016410053,
          0.0027276579930912703,
          0.0014479609963018447,
          0.0026636620023055,
          0.0014595649990951642,
          0.0016320010035997257,
          0.001596293004695326,
          0.0015317670040531084,
          0.001554251997731626,
          0.001779102996806614,
          0.0024187609960790724,
          0.0010353269899496809,
          0.001294515997869894,
          0.001214061994687654,
          0.0009731759928399697,
          0.0021716049959650263,
          0.002814606996253133,
          0.0025357980048283935,
          0.0017227700009243563,
          0.0035538789961719885,
          0.0016996880003716797,
          0.0034726199955912307,
          0.0016588470025453717,
          0.0012376640079310164,
          0.0013224520080257207,
          0.0015876359975663945,
          0.001197814999613911,
          0.0013202630070736632,
          0.0021706469997297972,
          0.0019472550047794357,
          0.0029605900053866208,
          0.0022941109928069636,
          0.0029569390026153997,
          0.0016958439955487847,
          0.0027680159982992336,
          0.0013480019988492131,
          0.0016806940111564472,
          0.0020454600016819313,
          0.0012032570084556937,
          0.0014662860048701987,
          0.0018864190060412511,
          0.0027217640017624944,
          0.0019566249975468963,
          0.0034815950057236478,
          0.0014649250078946352,
          0.0024669109989190474,
          0.0027719420031644404,
          0.0022587370040128008,
          0.0033166700013680384,
          0.0028832989919465035,
          0.0040751420019660145,
          0.0015258860075846314,
          0.0018531649984652176,
          0.004531690006842837,
          0.0034152669977629557,
          0.0031230189924826846,
          0.002564014997915365,
          0.005131886005983688,
          0.0029306210053618997,
          0.007900178999989294,
          0.0023638269922230393,
          0.0012450680078472942,
          0.0018221119971713051,
          0.011224429996218532,
          0.0025263010029448196,
          0.006987051994656213,
          0.0022818349971203133,
          0.002972887989017181,
          0.002548984994064085,
          0.003136826999252662,
          0.003239978992496617,
          0.0027238470065640286,
          0.002740216994425282,
          0.010476827999809757
         ]
        },
        {
         "marker": {
          "color": "#FF4136"
         },
         "name": "FPDE",
         "type": "box",
         "x": [
          "Large-Bbox_Partial_Overlap (TRUE)",
          "Large-Bbox_Partial_Overlap (TRUE)",
          "Large-Bbox_Partial_Overlap (TRUE)",
          "Large-Bbox_Partial_Overlap (TRUE)",
          "Large-Bbox_Partial_Overlap (TRUE)",
          "Large-Bbox_Partial_Overlap (TRUE)",
          "Large-Bbox_Partial_Overlap (TRUE)",
          "Large-Bbox_Overlap (FALSE)",
          "Large-Bbox_Overlap (FALSE)",
          "Large-Bbox_Overlap (FALSE)",
          "Large-Bbox_Partial_Overlap (TRUE)",
          "Large-Bbox_Overlap (FALSE)",
          "Large-Bbox_Partial_Overlap (TRUE)",
          "Large-Bbox_Partial_Overlap (TRUE)",
          "Large-Bbox_Partial_Overlap (TRUE)",
          "Large-Bbox_Overlap (FALSE)",
          "Large-Bbox_Partial_Overlap (TRUE)",
          "Large-Bbox_Partial_Overlap (TRUE)",
          "Medium_Large_Mixed-Bbox_Overlap (FALSE)",
          "Large-Bbox_Partial_Overlap (TRUE)",
          "Medium_Large_Mixed-Bbox_Overlap (FALSE)",
          "Medium_Large_Mixed-Bbox_Overlap (FALSE)",
          "Large-Bbox_Overlap (FALSE)",
          "Large-Bbox_Partial_Overlap (TRUE)",
          "Large-Bbox_Partial_Overlap (TRUE)",
          "Large-Bbox_Overlap (FALSE)",
          "Large-Bbox_Partial_Overlap (TRUE)",
          "Medium_Large_Mixed-Bbox_Overlap (FALSE)",
          "Large-Bbox_Overlap (FALSE)",
          "Large-Bbox_Overlap (FALSE)",
          "Large-Bbox_Partial_Overlap (TRUE)",
          "Large-Bbox_Partial_Overlap (TRUE)",
          "Large-Bbox_Partial_Overlap (TRUE)",
          "Large-Bbox_Partial_Overlap (TRUE)",
          "Large-Bbox_Overlap (FALSE)",
          "Large-Bbox_Overlap (FALSE)",
          "Large-Bbox_Partial_Overlap (TRUE)",
          "Large-Bbox_Overlap (FALSE)",
          "Large-Bbox_Partial_Overlap (TRUE)",
          "Large-Bbox_Partial_Overlap (TRUE)",
          "Large-Bbox_Partial_Overlap (TRUE)",
          "Large-Bbox_Overlap (FALSE)",
          "Large-Bbox_Partial_Overlap (TRUE)",
          "Large-Bbox_Partial_Overlap (TRUE)",
          "Large-Bbox_Overlap (FALSE)",
          "Large-Bbox_Overlap (FALSE)",
          "Large-Bbox_Partial_Overlap (TRUE)",
          "Large-Bbox_Partial_Overlap (TRUE)",
          "Large-Bbox_Partial_Overlap (TRUE)",
          "Large-Bbox_Overlap (FALSE)",
          "Large-Bbox_Partial_Overlap (TRUE)",
          "Large-Bbox_Partial_Overlap (TRUE)",
          "Large-Bbox_Partial_Overlap (TRUE)",
          "Large-Bbox_Overlap (FALSE)",
          "Large-Bbox_Partial_Overlap (TRUE)",
          "Large-Bbox_Partial_Overlap (TRUE)",
          "Large-Bbox_Partial_Overlap (TRUE)",
          "Large-Bbox_Partial_Overlap (TRUE)",
          "Large-Bbox_Overlap (FALSE)",
          "Large-Bbox_Partial_Overlap (TRUE)",
          "Large-Bbox_Overlap (FALSE)",
          "Large-Bbox_Partial_Overlap (TRUE)",
          "Large-Bbox_Partial_Overlap (TRUE)",
          "Large-Bbox_Partial_Overlap (TRUE)",
          "Large-Bbox_Partial_Overlap (TRUE)",
          "Large-Bbox_Partial_Overlap (TRUE)",
          "Large-Bbox_Partial_Overlap (TRUE)",
          "Large-Bbox_Partial_Overlap (TRUE)",
          "Large-Bbox_Overlap (FALSE)",
          "Large-Bbox_Overlap (FALSE)",
          "Large-Bbox_Overlap (FALSE)",
          "Large-Bbox_Partial_Overlap (TRUE)",
          "Large-Bbox_Partial_Overlap (TRUE)",
          "Large-Bbox_Partial_Overlap (TRUE)",
          "Large-Bbox_Partial_Overlap (TRUE)",
          "Large-Bbox_Partial_Overlap (TRUE)",
          "Large-Bbox_Partial_Overlap (TRUE)",
          "Large-Bbox_Overlap (FALSE)",
          "Large-Bbox_Partial_Overlap (TRUE)",
          "Large-Bbox_Partial_Overlap (TRUE)",
          "Large-Bbox_Partial_Overlap (TRUE)",
          "Large-Bbox_Partial_Overlap (TRUE)",
          "Large-Bbox_Partial_Overlap (TRUE)",
          "Large-Bbox_Partial_Overlap (TRUE)",
          "Large-Bbox_Partial_Overlap (TRUE)",
          "Large-Bbox_Partial_Overlap (TRUE)",
          "Large-Bbox_Partial_Overlap (TRUE)",
          "Large-Bbox_Partial_Overlap (TRUE)",
          "Large-Bbox_Partial_Overlap (TRUE)",
          "Large-Bbox_Overlap (FALSE)",
          "Large-Bbox_Overlap (FALSE)",
          "Large-Bbox_Partial_Overlap (TRUE)",
          "Large-Bbox_Partial_Overlap (TRUE)",
          "Large-Bbox_Partial_Overlap (TRUE)",
          "Large-Bbox_Partial_Overlap (TRUE)",
          "Large-Bbox_Partial_Overlap (TRUE)",
          "Large-Bbox_Partial_Overlap (TRUE)",
          "Large-Bbox_Partial_Overlap (TRUE)",
          "Large-Bbox_Partial_Overlap (TRUE)",
          "Large-Bbox_Overlap (FALSE)",
          "Large-Bbox_Overlap (FALSE)",
          "Large-Bbox_Overlap (FALSE)",
          "Large-Bbox_Overlap (FALSE)",
          "Large-Bbox_Overlap (FALSE)",
          "Large-Bbox_Overlap (FALSE)",
          "Large-Bbox_Overlap (FALSE)",
          "Large-Bbox_Overlap (FALSE)",
          "Large-Bbox_Overlap (FALSE)",
          "Large-Bbox_Overlap (FALSE)",
          "Large-Bbox_Overlap (FALSE)",
          "Large-Bbox_Overlap (FALSE)",
          "Large-Bbox_Overlap (FALSE)",
          "Large-Bbox_Overlap (FALSE)",
          "Large-Bbox_Overlap (FALSE)",
          "Large-Bbox_Overlap (FALSE)",
          "Large-Bbox_Overlap (FALSE)",
          "Large-Bbox_Overlap (FALSE)",
          "Large-Bbox_Overlap (FALSE)",
          "Large-Bbox_Overlap (FALSE)",
          "Large-Bbox_Overlap (FALSE)",
          "Large-Bbox_Overlap (FALSE)",
          "Large-Bbox_Overlap (FALSE)",
          "Large-Bbox_Overlap (FALSE)",
          "Large-Bbox_Overlap (FALSE)",
          "Large-Bbox_Overlap (FALSE)",
          "Large-Bbox_Overlap (FALSE)",
          "Large-Bbox_Overlap (FALSE)",
          "Large-Bbox_Overlap (FALSE)",
          "Large-Bbox_Overlap (FALSE)",
          "Large-Bbox_Overlap (FALSE)",
          "Large-Bbox_Overlap (FALSE)",
          "Large-Bbox_Overlap (FALSE)",
          "Large-Bbox_Overlap (FALSE)",
          "Large-Bbox_Overlap (FALSE)",
          "Large-Bbox_Overlap (FALSE)",
          "Large-Bbox_Overlap (FALSE)",
          "Large-Bbox_Overlap (FALSE)",
          "Large-Bbox_Overlap (FALSE)",
          "Large-Bbox_Overlap (FALSE)",
          "Large-Bbox_Overlap (FALSE)",
          "Large-Bbox_Overlap (FALSE)",
          "Large-Bbox_Overlap (FALSE)",
          "Large-Bbox_Overlap (FALSE)",
          "Large-Bbox_Overlap (FALSE)",
          "Large-Bbox_Overlap (FALSE)",
          "Large-Bbox_Overlap (FALSE)",
          "Large-Bbox_Overlap (FALSE)",
          "Large-Bbox_Overlap (FALSE)",
          "Large-Bbox_Overlap (FALSE)",
          "Large-Bbox_Overlap (FALSE)",
          "Medium_Large_Mixed-Bbox_Overlap (FALSE)",
          "Large-Bbox_Overlap (FALSE)",
          "Large-Bbox_Overlap (FALSE)",
          "Large-Bbox_Overlap (FALSE)",
          "Large-Bbox_Overlap (FALSE)",
          "Large-Bbox_Overlap (FALSE)",
          "Large-Bbox_Overlap (FALSE)",
          "Large-Bbox_Overlap (FALSE)",
          "Large-Bbox_Overlap (FALSE)",
          "Large-Bbox_Overlap (FALSE)",
          "Large-Bbox_Overlap (FALSE)",
          "Large-Bbox_Overlap (FALSE)",
          "Large-Bbox_Overlap (FALSE)",
          "Large-Bbox_Overlap (FALSE)",
          "Large-Bbox_Overlap (FALSE)",
          "Large-Bbox_Overlap (FALSE)",
          "Large-Bbox_Overlap (FALSE)",
          "Medium_Large_Mixed-Bbox_Overlap (FALSE)",
          "Large-Bbox_Overlap (FALSE)",
          "Large-Bbox_Overlap (FALSE)",
          "Large-Bbox_Overlap (FALSE)",
          "Medium_Large_Mixed-Bbox_Overlap (FALSE)",
          "Large-Bbox_Overlap (FALSE)",
          "Large-Bbox_Overlap (FALSE)",
          "Large-Bbox_Overlap (FALSE)",
          "Large-Bbox_Overlap (FALSE)",
          "Large-Bbox_Overlap (FALSE)",
          "Large-Bbox_Overlap (FALSE)",
          "Large-Bbox_Overlap (FALSE)",
          "Large-Bbox_Overlap (FALSE)",
          "Large-Bbox_Overlap (FALSE)",
          "Large-Bbox_Overlap (FALSE)",
          "Large-Bbox_Overlap (FALSE)",
          "Large-Bbox_Overlap (FALSE)",
          "Large-Bbox_Overlap (FALSE)",
          "Large-Bbox_Overlap (FALSE)",
          "Large-Bbox_Overlap (FALSE)",
          "Large-Bbox_Overlap (FALSE)",
          "Large-Bbox_Overlap (FALSE)",
          "Large-Bbox_Overlap (FALSE)",
          "Large-Bbox_Overlap (FALSE)",
          "Medium_Large_Mixed-Bbox_Overlap (FALSE)",
          "Large-Bbox_Overlap (FALSE)",
          "Medium_Large_Mixed-Bbox_Partial_Overlap (TRUE)",
          "Medium_Large_Mixed-Bbox_Partial_Overlap (TRUE)",
          "Large-Bbox_Partial_Overlap (TRUE)",
          "Medium_Large_Mixed-Bbox_Overlap (FALSE)",
          "Medium_Large_Mixed-Bbox_Partial_Overlap (TRUE)",
          "Large-Bbox_Overlap (FALSE)",
          "Large-Bbox_Partial_Overlap (TRUE)",
          "Large-Bbox_Partial_Overlap (TRUE)",
          "Medium_Large_Mixed-Bbox_Overlap (FALSE)",
          "Medium_Large_Mixed-Bbox_Overlap (FALSE)",
          "Medium_Large_Mixed-Bbox_Overlap (FALSE)",
          "Medium_Large_Mixed-Bbox_Partial_Overlap (TRUE)",
          "Medium_Large_Mixed-Bbox_Overlap (FALSE)",
          "Large-Bbox_Overlap (FALSE)",
          "Large-Bbox_Overlap (FALSE)",
          "Medium_Large_Mixed-Bbox_Overlap (FALSE)",
          "Medium_Large_Mixed-Bbox_Overlap (FALSE)",
          "Medium_Large_Mixed-Bbox_Overlap (FALSE)",
          "Medium_Large_Mixed-Bbox_Partial_Overlap (TRUE)",
          "Medium_Large_Mixed-Bbox_Partial_Overlap (TRUE)",
          "Medium_Large_Mixed-Bbox_Overlap (FALSE)",
          "Large-Bbox_Overlap (FALSE)",
          "Medium_Large_Mixed-Bbox_Partial_Overlap (TRUE)",
          "Medium_Large_Mixed-Bbox_Partial_Overlap (TRUE)",
          "Large-Bbox_Overlap (FALSE)",
          "Large-Bbox_Overlap (FALSE)",
          "Large-Bbox_Partial_Overlap (TRUE)",
          "Medium_Large_Mixed-Bbox_Overlap (FALSE)",
          "Large-Bbox_Overlap (FALSE)",
          "Large-Bbox_Overlap (FALSE)",
          "Large-Bbox_Overlap (FALSE)",
          "Large-Bbox_Partial_Overlap (TRUE)",
          "Medium_Large_Mixed-Bbox_Overlap (FALSE)",
          "Medium_Large_Mixed-Bbox_Overlap (FALSE)",
          "Medium_Large_Mixed-Bbox_Partial_Overlap (TRUE)",
          "Large-Bbox_Partial_Overlap (TRUE)",
          "Medium_Large_Mixed-Bbox_Partial_Overlap (TRUE)",
          "Large-Bbox_Overlap (FALSE)",
          "Large-Bbox_Partial_Overlap (TRUE)",
          "Large-Bbox_Partial_Overlap (TRUE)",
          "Large-Bbox_Partial_Overlap (TRUE)",
          "Medium_Large_Mixed-Bbox_Partial_Overlap (TRUE)",
          "Medium_Large_Mixed-Bbox_Overlap (FALSE)",
          "Medium_Large_Mixed-Bbox_Partial_Overlap (TRUE)",
          "Medium_Large_Mixed-Bbox_Partial_Overlap (TRUE)",
          "Large-Bbox_Partial_Overlap (TRUE)",
          "Large-Bbox_Partial_Overlap (TRUE)",
          "Large-Bbox_Overlap (FALSE)",
          "Medium_Large_Mixed-Bbox_Partial_Overlap (TRUE)",
          "Large-Bbox_Partial_Overlap (TRUE)",
          "Medium_Large_Mixed-Bbox_Overlap (FALSE)",
          "Medium_Large_Mixed-Bbox_Partial_Overlap (TRUE)",
          "Medium_Large_Mixed-Bbox_Overlap (FALSE)",
          "Large-Bbox_Overlap (FALSE)",
          "Medium_Large_Mixed-Bbox_Overlap (FALSE)",
          "Medium_Large_Mixed-Bbox_Overlap (FALSE)",
          "Large-Bbox_Overlap (FALSE)",
          "Medium_Large_Mixed-Bbox_Overlap (FALSE)",
          "Medium_Large_Mixed-Bbox_Overlap (FALSE)",
          "Medium_Large_Mixed-Bbox_Overlap (FALSE)",
          "Medium_Large_Mixed-Bbox_Overlap (FALSE)",
          "Medium_Large_Mixed-Bbox_Overlap (FALSE)",
          "Medium_Large_Mixed-Bbox_Overlap (FALSE)",
          "Large-Bbox_Overlap (FALSE)",
          "Large-Bbox_Overlap (FALSE)",
          "Large-Bbox_Overlap (FALSE)",
          "Medium_Large_Mixed-Bbox_Overlap (FALSE)",
          "Large-Bbox_Partial_Overlap (TRUE)",
          "Medium_Large_Mixed-Bbox_Overlap (FALSE)",
          "Large-Bbox_Overlap (FALSE)",
          "Large-Bbox_Overlap (FALSE)",
          "Medium_Large_Mixed-Bbox_Overlap (FALSE)",
          "Medium_Large_Mixed-Bbox_Overlap (FALSE)",
          "Large-Bbox_Overlap (FALSE)",
          "Medium_Large_Mixed-Bbox_Overlap (FALSE)",
          "Medium_Large_Mixed-Bbox_Overlap (FALSE)",
          "Medium_Large_Mixed-Bbox_Partial_Overlap (TRUE)",
          "Large-Bbox_Overlap (FALSE)",
          "Medium_Large_Mixed-Bbox_Partial_Overlap (TRUE)",
          "Large-Bbox_Overlap (FALSE)",
          "Large-Bbox_Overlap (FALSE)",
          "Medium_Large_Mixed-Bbox_Overlap (FALSE)",
          "Large-Bbox_Overlap (FALSE)",
          "Medium_Large_Mixed-Bbox_Overlap (FALSE)",
          "Medium_Large_Mixed-Bbox_Overlap (FALSE)",
          "Medium_Large_Mixed-Bbox_Overlap (FALSE)",
          "Medium_Large_Mixed-Bbox_Overlap (FALSE)",
          "Medium_Large_Mixed-Bbox_Overlap (FALSE)",
          "Medium_Large_Mixed-Bbox_Overlap (FALSE)",
          "Large-Bbox_Overlap (FALSE)",
          "Medium_Large_Mixed-Bbox_Overlap (FALSE)",
          "Large-Bbox_Overlap (FALSE)",
          "Large-Bbox_Overlap (FALSE)",
          "Large-Bbox_Overlap (FALSE)",
          "Large-Bbox_Overlap (FALSE)",
          "Medium_Large_Mixed-Bbox_Partial_Overlap (TRUE)",
          "Large-Bbox_Overlap (FALSE)",
          "Medium_Large_Mixed-Bbox_Overlap (FALSE)",
          "Large-Bbox_Overlap (FALSE)",
          "Medium_Large_Mixed-Bbox_Overlap (FALSE)",
          "Medium_Large_Mixed-Bbox_Overlap (FALSE)",
          "Large-Bbox_Overlap (FALSE)",
          "Large-Bbox_Overlap (FALSE)",
          "Medium_Large_Mixed-Bbox_Overlap (FALSE)",
          "Medium_Large_Mixed-Bbox_Overlap (FALSE)",
          "Large-Bbox_Partial_Overlap (TRUE)",
          "Large-Bbox_Overlap (FALSE)",
          "Large-Bbox_Partial_Overlap (TRUE)",
          "Medium_Large_Mixed-Bbox_Partial_Overlap (TRUE)",
          "Medium_Large_Mixed-Bbox_Partial_Overlap (TRUE)",
          "Medium_Large_Mixed-Bbox_Overlap (FALSE)",
          "Large-Bbox_Partial_Overlap (TRUE)",
          "Medium_Large_Mixed-Bbox_Overlap (FALSE)",
          "Medium_Large_Mixed-Bbox_Partial_Overlap (TRUE)",
          "Medium_Large_Mixed-Bbox_Overlap (FALSE)",
          "Medium_Large_Mixed-Bbox_Overlap (FALSE)",
          "Medium_Large_Mixed-Bbox_Overlap (FALSE)",
          "Medium_Large_Mixed-Bbox_Overlap (FALSE)",
          "Medium_Large_Mixed-Bbox_Overlap (FALSE)",
          "Medium_Large_Mixed-Bbox_Overlap (FALSE)",
          "Medium_Large_Mixed-Bbox_Overlap (FALSE)",
          "Large-Bbox_Overlap (FALSE)"
         ],
         "y": [
          0.012116561993025243,
          0.010873477003769949,
          0.003926599994883873,
          0.0011808330018538982,
          0.005744585010688752,
          0.003523658000631258,
          0.006188372004544362,
          0.000166330995853059,
          0.000614753007539548,
          0.0012031070073135197,
          0.01252312699216418,
          0.00031088400282897055,
          0.008973821997642517,
          0.009639747004257515,
          0.004559773995424621,
          0.00013428801321424544,
          0.011087259001214989,
          0.015828404008061625,
          0.0003619350027292967,
          0.007048172992654145,
          0.000445543002570048,
          0.00039493599615525454,
          0.0004203009884804487,
          0.02782567399844993,
          0.006981951999478042,
          0.000774732994614169,
          0.0056947830016724765,
          0.00016906201199162751,
          0.0003286399878561497,
          0.00041949099977500737,
          0.0035105150018353015,
          0.0043174009915674105,
          0.0033399560052203014,
          0.003616457004682161,
          0.0001224529987666756,
          0.00033689399424474686,
          0.005668763988069259,
          0.00021833500068169087,
          0.002261633999296464,
          0.0031829509971430525,
          0.003761070009204559,
          0.0002612609969219193,
          0.012307622993830591,
          0.01596624800004065,
          0.00024522199237253517,
          0.000270878997980617,
          0.007685557997319847,
          0.003276351999375038,
          0.008648834002087824,
          0.00031008198857307434,
          0.0018803249986376613,
          0.006576422994839959,
          0.004655562996049412,
          0.00022417498985305429,
          0.0056467829999746755,
          0.001208289002534002,
          0.006819544010795653,
          0.003905467994627543,
          0.00027464100276120007,
          0.02089876899844967,
          0.00027571000100579113,
          0.006044708003173582,
          0.007134384999517351,
          0.0022858439915580675,
          0.0011692679981933907,
          0.005080321003333665,
          0.0048354659957112744,
          0.0066285549983149394,
          0.00016873898857738823,
          0.00019095800234936178,
          0.00019180199888069183,
          0.03513982999720611,
          0.01206989199272357,
          0.003310971995233558,
          0.0017807160038501024,
          0.001985950002563186,
          0.00990320999699179,
          0.00029109300521668047,
          0.006916066995472647,
          0.003142275003483519,
          0.0011905790015589446,
          0.007614860995090567,
          0.005299326992826536,
          0.003266190004069358,
          0.008098131002043374,
          0.0023868749995017424,
          0.004671202987083234,
          0.009209487005136907,
          0.005423929003882222,
          0.0003533189883455634,
          0.00022160100343171507,
          0.010751139998319559,
          0.003122447000350803,
          0.03195934699033387,
          0.01652468100655824,
          0.014983916000346653,
          0.016005319004761986,
          0.008918770006857812,
          0.006784586003050208,
          0.0001769740047166124,
          0.0005206360074225813,
          0.00019854299898725003,
          0.0012600459886016324,
          0.0005509570037247613,
          0.0001979649969143793,
          0.0011385370016796514,
          0.00033434099168516695,
          0.0020584110025083646,
          0.000314128992613405,
          0.00032913900213316083,
          0.00027563700859900564,
          0.0007075699977576733,
          0.0014772210124647245,
          0.002138901996659115,
          0.0015016479883342981,
          0.0005922879936406389,
          0.0012102159962523729,
          0.0005572630034293979,
          0.003186681991792284,
          0.0017776960012270138,
          0.003714470993145369,
          0.0011604729952523485,
          0.0005997650005156174,
          0.0007886249950388446,
          0.00009952099935617298,
          0.00009395999950356781,
          0.0001465900131734088,
          0.00016083699301816523,
          0.00014852899766992778,
          0.00009511799726169556,
          0.00028304300212766975,
          0.00027368299197405577,
          0.00033051900391001254,
          0.0002765279932646081,
          0.00017721200129017234,
          0.0006168950058054179,
          0.000491486003738828,
          0.0001524920080555603,
          0.00020578400290105492,
          0.0004518369969446212,
          0.00570934200368356,
          0.00039677799213677645,
          0.00020066299475729465,
          0.0009640139905968681,
          0.00019930100825149566,
          0.0002174319961341098,
          0.0008535680099157616,
          0.0008182929886970669,
          0.00017356099851895124,
          0.00016451900592073798,
          0.00009856899851001799,
          0.0006582789937965572,
          0.0002761249925242737,
          0.0003034409892279655,
          0.000407564002671279,
          0.00022140399960335344,
          0.00028595900221262127,
          0.0002063470019493252,
          0.0003344460128573701,
          0.0006964490021346137,
          0.0005141550063854083,
          0.0002800149959512055,
          0.00035884299722965807,
          0.0007136310014175251,
          0.0008975429955171421,
          0.0013953989982837811,
          0.00030930798675399274,
          0.000932506998651661,
          0.0001873720029834658,
          0.00018482700397726148,
          0.0009297759970650077,
          0.0010776150011224672,
          0.0020684430055553094,
          0.00018156900478061289,
          0.0004397189914016053,
          0.00028293598734308034,
          0.0003602149954531342,
          0.00027682899963110685,
          0.0003448759962338954,
          0.00026613900263328105,
          0.00039108499186113477,
          0.00034940900513902307,
          0.0002468899911036715,
          0.00042526901233941317,
          0.0003926149947801605,
          0.002489229998900555,
          0.0002922959974966943,
          0.0007819540041964501,
          0.0007449710101354867,
          0.0001983210095204413,
          0.000833811005577445,
          0.0008691620023455471,
          0.001027194011840038,
          0.0012313129991525784,
          0.0008946689922595397,
          0.0007168489973992109,
          0.0005536480020964518,
          0.0009577159944456071,
          0.0005351950094336644,
          0.00120658399828244,
          0.0008373359887627885,
          0.0010715769894886762,
          0.0009339959942735732,
          0.0012998710008105263,
          0.0006912499957252294,
          0.0008343530062120408,
          0.00009427299664821476,
          0.0007982810057001188,
          0.0007027039973763749,
          0.0005323230143403634,
          0.0008606469928054139,
          0.0007551440066890791,
          0.0007044959929771721,
          0.0003321779950056225,
          0.00016001399490050972,
          0.0013136180059518665,
          0.0009799510007724166,
          0.000479788999655284,
          0.0005482940032379702,
          0.00769505399512127,
          0.0004039630002807826,
          0.00013217699597589672,
          0.00024068300263024867,
          0.00014034200285095721,
          0.00244277500314638,
          0.00008789700223132968,
          0.0007476690079784021,
          0.0008017240033950657,
          0.0012060599983669817,
          0.000830445991596207,
          0.00008613399404566735,
          0.0008679780003149062,
          0.0011274529970251024,
          0.0010743339953478426,
          0.000755998000386171,
          0.0003954959975089878,
          0.0007474970043404028,
          0.0006531569961225614,
          0.001949653000338003,
          0.0015721649979241192,
          0.0007603559934068471,
          0.0007084609969751909,
          0.0007058839983073995,
          0.00042235500586684793,
          0.0007639239920536056,
          0.0004075559991179034,
          0.0001283810124732554,
          0.0005964259908068925,
          0.0009336200018879026,
          0.000608795991865918,
          0.00033226799860130996,
          0.0005292190035106614,
          0.00007175499922595918,
          0.0005507239984581247,
          0.0004598990053636953,
          0.0004951070004608482,
          0.0008732399874133989,
          0.0007932020089356229,
          0.000875754005392082,
          0.0005162289889995009,
          0.0023731370019959286,
          0.0009292619943153113,
          0.0001672569924267009,
          0.00011458600056357682,
          0.0003392939979676157,
          0.00008884500130079687,
          0.00010912299330811948,
          0.00032615099917165935,
          0.0003206270048394799,
          0.0006980139878578484,
          0.00012766300642397255,
          0.0009813439974095672,
          0.00010574200132396072,
          0.0004854989965679124,
          0.00046497701259795576,
          0.0004819470050279051,
          0.0001573329936945811,
          0.0009161979978671297,
          0.0012600129994098097,
          0.0004857379972236231,
          0.0008897149964468554,
          0.001360198002657853,
          0.00012054998660460114,
          0.0003360330010764301,
          0.00038667999615427107,
          0.00008301199704874307,
          0.0013112699962221086,
          0.0010478119947947562,
          0.0008898910018615425,
          0.00011974899098277092,
          0.000542787995073013,
          0.0005214080010773614,
          0.0005481370026245713,
          0.0005373029998736456,
          0.00015569200331810862,
          0.00022130699653644115,
          0.0007384790078504011,
          0.00027865699667017907,
          0.0008964050066424534,
          0.0005837909993715584,
          0.000866393995238468,
          0.000599866994889453,
          0.0007039749907562509,
          0.00009165100345853716,
          0.007657388996449299,
          0.00010215600195806473,
          0.0007794889970682561,
          0.00011479300155770034,
          0.0006442649901146069,
          0.00012436100223567337,
          0.00012633200094569474,
          0.00011666100181173533,
          0.00016447999223601073,
          0.00011642300523817539,
          0.0003008170024259016
         ]
        }
       ],
       "layout": {
        "barmode": "relative",
        "boxmode": "group",
        "template": {
         "data": {
          "bar": [
           {
            "error_x": {
             "color": "#2a3f5f"
            },
            "error_y": {
             "color": "#2a3f5f"
            },
            "marker": {
             "line": {
              "color": "#E5ECF6",
              "width": 0.5
             },
             "pattern": {
              "fillmode": "overlay",
              "size": 10,
              "solidity": 0.2
             }
            },
            "type": "bar"
           }
          ],
          "barpolar": [
           {
            "marker": {
             "line": {
              "color": "#E5ECF6",
              "width": 0.5
             },
             "pattern": {
              "fillmode": "overlay",
              "size": 10,
              "solidity": 0.2
             }
            },
            "type": "barpolar"
           }
          ],
          "carpet": [
           {
            "aaxis": {
             "endlinecolor": "#2a3f5f",
             "gridcolor": "white",
             "linecolor": "white",
             "minorgridcolor": "white",
             "startlinecolor": "#2a3f5f"
            },
            "baxis": {
             "endlinecolor": "#2a3f5f",
             "gridcolor": "white",
             "linecolor": "white",
             "minorgridcolor": "white",
             "startlinecolor": "#2a3f5f"
            },
            "type": "carpet"
           }
          ],
          "choropleth": [
           {
            "colorbar": {
             "outlinewidth": 0,
             "ticks": ""
            },
            "type": "choropleth"
           }
          ],
          "contour": [
           {
            "colorbar": {
             "outlinewidth": 0,
             "ticks": ""
            },
            "colorscale": [
             [
              0,
              "#0d0887"
             ],
             [
              0.1111111111111111,
              "#46039f"
             ],
             [
              0.2222222222222222,
              "#7201a8"
             ],
             [
              0.3333333333333333,
              "#9c179e"
             ],
             [
              0.4444444444444444,
              "#bd3786"
             ],
             [
              0.5555555555555556,
              "#d8576b"
             ],
             [
              0.6666666666666666,
              "#ed7953"
             ],
             [
              0.7777777777777778,
              "#fb9f3a"
             ],
             [
              0.8888888888888888,
              "#fdca26"
             ],
             [
              1,
              "#f0f921"
             ]
            ],
            "type": "contour"
           }
          ],
          "contourcarpet": [
           {
            "colorbar": {
             "outlinewidth": 0,
             "ticks": ""
            },
            "type": "contourcarpet"
           }
          ],
          "heatmap": [
           {
            "colorbar": {
             "outlinewidth": 0,
             "ticks": ""
            },
            "colorscale": [
             [
              0,
              "#0d0887"
             ],
             [
              0.1111111111111111,
              "#46039f"
             ],
             [
              0.2222222222222222,
              "#7201a8"
             ],
             [
              0.3333333333333333,
              "#9c179e"
             ],
             [
              0.4444444444444444,
              "#bd3786"
             ],
             [
              0.5555555555555556,
              "#d8576b"
             ],
             [
              0.6666666666666666,
              "#ed7953"
             ],
             [
              0.7777777777777778,
              "#fb9f3a"
             ],
             [
              0.8888888888888888,
              "#fdca26"
             ],
             [
              1,
              "#f0f921"
             ]
            ],
            "type": "heatmap"
           }
          ],
          "heatmapgl": [
           {
            "colorbar": {
             "outlinewidth": 0,
             "ticks": ""
            },
            "colorscale": [
             [
              0,
              "#0d0887"
             ],
             [
              0.1111111111111111,
              "#46039f"
             ],
             [
              0.2222222222222222,
              "#7201a8"
             ],
             [
              0.3333333333333333,
              "#9c179e"
             ],
             [
              0.4444444444444444,
              "#bd3786"
             ],
             [
              0.5555555555555556,
              "#d8576b"
             ],
             [
              0.6666666666666666,
              "#ed7953"
             ],
             [
              0.7777777777777778,
              "#fb9f3a"
             ],
             [
              0.8888888888888888,
              "#fdca26"
             ],
             [
              1,
              "#f0f921"
             ]
            ],
            "type": "heatmapgl"
           }
          ],
          "histogram": [
           {
            "marker": {
             "pattern": {
              "fillmode": "overlay",
              "size": 10,
              "solidity": 0.2
             }
            },
            "type": "histogram"
           }
          ],
          "histogram2d": [
           {
            "colorbar": {
             "outlinewidth": 0,
             "ticks": ""
            },
            "colorscale": [
             [
              0,
              "#0d0887"
             ],
             [
              0.1111111111111111,
              "#46039f"
             ],
             [
              0.2222222222222222,
              "#7201a8"
             ],
             [
              0.3333333333333333,
              "#9c179e"
             ],
             [
              0.4444444444444444,
              "#bd3786"
             ],
             [
              0.5555555555555556,
              "#d8576b"
             ],
             [
              0.6666666666666666,
              "#ed7953"
             ],
             [
              0.7777777777777778,
              "#fb9f3a"
             ],
             [
              0.8888888888888888,
              "#fdca26"
             ],
             [
              1,
              "#f0f921"
             ]
            ],
            "type": "histogram2d"
           }
          ],
          "histogram2dcontour": [
           {
            "colorbar": {
             "outlinewidth": 0,
             "ticks": ""
            },
            "colorscale": [
             [
              0,
              "#0d0887"
             ],
             [
              0.1111111111111111,
              "#46039f"
             ],
             [
              0.2222222222222222,
              "#7201a8"
             ],
             [
              0.3333333333333333,
              "#9c179e"
             ],
             [
              0.4444444444444444,
              "#bd3786"
             ],
             [
              0.5555555555555556,
              "#d8576b"
             ],
             [
              0.6666666666666666,
              "#ed7953"
             ],
             [
              0.7777777777777778,
              "#fb9f3a"
             ],
             [
              0.8888888888888888,
              "#fdca26"
             ],
             [
              1,
              "#f0f921"
             ]
            ],
            "type": "histogram2dcontour"
           }
          ],
          "mesh3d": [
           {
            "colorbar": {
             "outlinewidth": 0,
             "ticks": ""
            },
            "type": "mesh3d"
           }
          ],
          "parcoords": [
           {
            "line": {
             "colorbar": {
              "outlinewidth": 0,
              "ticks": ""
             }
            },
            "type": "parcoords"
           }
          ],
          "pie": [
           {
            "automargin": true,
            "type": "pie"
           }
          ],
          "scatter": [
           {
            "fillpattern": {
             "fillmode": "overlay",
             "size": 10,
             "solidity": 0.2
            },
            "type": "scatter"
           }
          ],
          "scatter3d": [
           {
            "line": {
             "colorbar": {
              "outlinewidth": 0,
              "ticks": ""
             }
            },
            "marker": {
             "colorbar": {
              "outlinewidth": 0,
              "ticks": ""
             }
            },
            "type": "scatter3d"
           }
          ],
          "scattercarpet": [
           {
            "marker": {
             "colorbar": {
              "outlinewidth": 0,
              "ticks": ""
             }
            },
            "type": "scattercarpet"
           }
          ],
          "scattergeo": [
           {
            "marker": {
             "colorbar": {
              "outlinewidth": 0,
              "ticks": ""
             }
            },
            "type": "scattergeo"
           }
          ],
          "scattergl": [
           {
            "marker": {
             "colorbar": {
              "outlinewidth": 0,
              "ticks": ""
             }
            },
            "type": "scattergl"
           }
          ],
          "scattermapbox": [
           {
            "marker": {
             "colorbar": {
              "outlinewidth": 0,
              "ticks": ""
             }
            },
            "type": "scattermapbox"
           }
          ],
          "scatterpolar": [
           {
            "marker": {
             "colorbar": {
              "outlinewidth": 0,
              "ticks": ""
             }
            },
            "type": "scatterpolar"
           }
          ],
          "scatterpolargl": [
           {
            "marker": {
             "colorbar": {
              "outlinewidth": 0,
              "ticks": ""
             }
            },
            "type": "scatterpolargl"
           }
          ],
          "scatterternary": [
           {
            "marker": {
             "colorbar": {
              "outlinewidth": 0,
              "ticks": ""
             }
            },
            "type": "scatterternary"
           }
          ],
          "surface": [
           {
            "colorbar": {
             "outlinewidth": 0,
             "ticks": ""
            },
            "colorscale": [
             [
              0,
              "#0d0887"
             ],
             [
              0.1111111111111111,
              "#46039f"
             ],
             [
              0.2222222222222222,
              "#7201a8"
             ],
             [
              0.3333333333333333,
              "#9c179e"
             ],
             [
              0.4444444444444444,
              "#bd3786"
             ],
             [
              0.5555555555555556,
              "#d8576b"
             ],
             [
              0.6666666666666666,
              "#ed7953"
             ],
             [
              0.7777777777777778,
              "#fb9f3a"
             ],
             [
              0.8888888888888888,
              "#fdca26"
             ],
             [
              1,
              "#f0f921"
             ]
            ],
            "type": "surface"
           }
          ],
          "table": [
           {
            "cells": {
             "fill": {
              "color": "#EBF0F8"
             },
             "line": {
              "color": "white"
             }
            },
            "header": {
             "fill": {
              "color": "#C8D4E3"
             },
             "line": {
              "color": "white"
             }
            },
            "type": "table"
           }
          ]
         },
         "layout": {
          "annotationdefaults": {
           "arrowcolor": "#2a3f5f",
           "arrowhead": 0,
           "arrowwidth": 1
          },
          "autotypenumbers": "strict",
          "coloraxis": {
           "colorbar": {
            "outlinewidth": 0,
            "ticks": ""
           }
          },
          "colorscale": {
           "diverging": [
            [
             0,
             "#8e0152"
            ],
            [
             0.1,
             "#c51b7d"
            ],
            [
             0.2,
             "#de77ae"
            ],
            [
             0.3,
             "#f1b6da"
            ],
            [
             0.4,
             "#fde0ef"
            ],
            [
             0.5,
             "#f7f7f7"
            ],
            [
             0.6,
             "#e6f5d0"
            ],
            [
             0.7,
             "#b8e186"
            ],
            [
             0.8,
             "#7fbc41"
            ],
            [
             0.9,
             "#4d9221"
            ],
            [
             1,
             "#276419"
            ]
           ],
           "sequential": [
            [
             0,
             "#0d0887"
            ],
            [
             0.1111111111111111,
             "#46039f"
            ],
            [
             0.2222222222222222,
             "#7201a8"
            ],
            [
             0.3333333333333333,
             "#9c179e"
            ],
            [
             0.4444444444444444,
             "#bd3786"
            ],
            [
             0.5555555555555556,
             "#d8576b"
            ],
            [
             0.6666666666666666,
             "#ed7953"
            ],
            [
             0.7777777777777778,
             "#fb9f3a"
            ],
            [
             0.8888888888888888,
             "#fdca26"
            ],
            [
             1,
             "#f0f921"
            ]
           ],
           "sequentialminus": [
            [
             0,
             "#0d0887"
            ],
            [
             0.1111111111111111,
             "#46039f"
            ],
            [
             0.2222222222222222,
             "#7201a8"
            ],
            [
             0.3333333333333333,
             "#9c179e"
            ],
            [
             0.4444444444444444,
             "#bd3786"
            ],
            [
             0.5555555555555556,
             "#d8576b"
            ],
            [
             0.6666666666666666,
             "#ed7953"
            ],
            [
             0.7777777777777778,
             "#fb9f3a"
            ],
            [
             0.8888888888888888,
             "#fdca26"
            ],
            [
             1,
             "#f0f921"
            ]
           ]
          },
          "colorway": [
           "#636efa",
           "#EF553B",
           "#00cc96",
           "#ab63fa",
           "#FFA15A",
           "#19d3f3",
           "#FF6692",
           "#B6E880",
           "#FF97FF",
           "#FECB52"
          ],
          "font": {
           "color": "#2a3f5f"
          },
          "geo": {
           "bgcolor": "white",
           "lakecolor": "white",
           "landcolor": "#E5ECF6",
           "showlakes": true,
           "showland": true,
           "subunitcolor": "white"
          },
          "hoverlabel": {
           "align": "left"
          },
          "hovermode": "closest",
          "mapbox": {
           "style": "light"
          },
          "paper_bgcolor": "white",
          "plot_bgcolor": "#E5ECF6",
          "polar": {
           "angularaxis": {
            "gridcolor": "white",
            "linecolor": "white",
            "ticks": ""
           },
           "bgcolor": "#E5ECF6",
           "radialaxis": {
            "gridcolor": "white",
            "linecolor": "white",
            "ticks": ""
           }
          },
          "scene": {
           "xaxis": {
            "backgroundcolor": "#E5ECF6",
            "gridcolor": "white",
            "gridwidth": 2,
            "linecolor": "white",
            "showbackground": true,
            "ticks": "",
            "zerolinecolor": "white"
           },
           "yaxis": {
            "backgroundcolor": "#E5ECF6",
            "gridcolor": "white",
            "gridwidth": 2,
            "linecolor": "white",
            "showbackground": true,
            "ticks": "",
            "zerolinecolor": "white"
           },
           "zaxis": {
            "backgroundcolor": "#E5ECF6",
            "gridcolor": "white",
            "gridwidth": 2,
            "linecolor": "white",
            "showbackground": true,
            "ticks": "",
            "zerolinecolor": "white"
           }
          },
          "shapedefaults": {
           "line": {
            "color": "#2a3f5f"
           }
          },
          "ternary": {
           "aaxis": {
            "gridcolor": "white",
            "linecolor": "white",
            "ticks": ""
           },
           "baxis": {
            "gridcolor": "white",
            "linecolor": "white",
            "ticks": ""
           },
           "bgcolor": "#E5ECF6",
           "caxis": {
            "gridcolor": "white",
            "linecolor": "white",
            "ticks": ""
           }
          },
          "title": {
           "x": 0.05
          },
          "xaxis": {
           "automargin": true,
           "gridcolor": "white",
           "linecolor": "white",
           "ticks": "",
           "title": {
            "standoff": 15
           },
           "zerolinecolor": "white",
           "zerolinewidth": 2
          },
          "yaxis": {
           "automargin": true,
           "gridcolor": "white",
           "linecolor": "white",
           "ticks": "",
           "title": {
            "standoff": 15
           },
           "zerolinecolor": "white",
           "zerolinewidth": 2
          }
         }
        },
        "title": {
         "text": "Total Execution time for Intersection",
         "x": 0.5
        },
        "xaxis": {
         "title": {
          "text": "Context"
         }
        },
        "yaxis": {
         "title": {
          "text": "Execution speed"
         },
         "type": "log"
        }
       }
      }
     },
     "metadata": {},
     "output_type": "display_data"
    }
   ],
   "source": [
    "plot_total_time(total_time_df, is_predicate=False, size_cat_incl=[\"Large\"], size_cat_excl=[\"Small\"],show_outliers=True)"
   ]
  },
  {
   "attachments": {},
   "cell_type": "markdown",
   "metadata": {},
   "source": [
    "#### (%) Unfolding of chunks"
   ]
  },
  {
   "cell_type": "code",
   "execution_count": 18,
   "metadata": {},
   "outputs": [
    {
     "data": {
      "application/vnd.plotly.v1+json": {
       "config": {
        "plotlyServerURL": "https://plot.ly"
       },
       "data": [
        {
         "name": "Chunk fraction unfolded",
         "orientation": "h",
         "type": "bar",
         "x": [
          79.16666666666666,
          27.27272727272727,
          42.857142857142854,
          3.8578208617050587,
          31.149591149591146,
          18.553600128334594,
          86.07142857142857,
          10.059570981796368,
          28.914768806073152,
          19.493274962444612,
          41.15177415177415,
          15.379107319883715,
          77.43954126153078,
          20.50502153834588,
          44.972249972249976
         ],
         "y": [
          [
           "Bbox_Inside_Other (TRUE)",
           "Bbox_Inside_Other (TRUE)",
           "Bbox_Inside_Other (TRUE)",
           "Bbox_Overlap (FALSE)",
           "Bbox_Overlap (FALSE)",
           "Bbox_Overlap (FALSE)",
           "Bbox_Overlap (FALSE)",
           "Bbox_Overlap (FALSE)",
           "Bbox_Overlap (FALSE)",
           "Bbox_Partial_Overlap (TRUE)",
           "Bbox_Partial_Overlap (TRUE)",
           "Bbox_Partial_Overlap (TRUE)",
           "Bbox_Partial_Overlap (TRUE)",
           "Bbox_Partial_Overlap (TRUE)",
           "Bbox_Partial_Overlap (TRUE)"
          ],
          [
           "Small",
           "Small_Large_Mixed",
           "Small_Medium_Mixed",
           "Large",
           "Medium",
           "Medium_Large_Mixed",
           "Small",
           "Small_Large_Mixed",
           "Small_Medium_Mixed",
           "Large",
           "Medium",
           "Medium_Large_Mixed",
           "Small",
           "Small_Large_Mixed",
           "Small_Medium_Mixed"
          ]
         ]
        }
       ],
       "layout": {
        "barmode": "relative",
        "template": {
         "data": {
          "bar": [
           {
            "error_x": {
             "color": "#2a3f5f"
            },
            "error_y": {
             "color": "#2a3f5f"
            },
            "marker": {
             "line": {
              "color": "#E5ECF6",
              "width": 0.5
             },
             "pattern": {
              "fillmode": "overlay",
              "size": 10,
              "solidity": 0.2
             }
            },
            "type": "bar"
           }
          ],
          "barpolar": [
           {
            "marker": {
             "line": {
              "color": "#E5ECF6",
              "width": 0.5
             },
             "pattern": {
              "fillmode": "overlay",
              "size": 10,
              "solidity": 0.2
             }
            },
            "type": "barpolar"
           }
          ],
          "carpet": [
           {
            "aaxis": {
             "endlinecolor": "#2a3f5f",
             "gridcolor": "white",
             "linecolor": "white",
             "minorgridcolor": "white",
             "startlinecolor": "#2a3f5f"
            },
            "baxis": {
             "endlinecolor": "#2a3f5f",
             "gridcolor": "white",
             "linecolor": "white",
             "minorgridcolor": "white",
             "startlinecolor": "#2a3f5f"
            },
            "type": "carpet"
           }
          ],
          "choropleth": [
           {
            "colorbar": {
             "outlinewidth": 0,
             "ticks": ""
            },
            "type": "choropleth"
           }
          ],
          "contour": [
           {
            "colorbar": {
             "outlinewidth": 0,
             "ticks": ""
            },
            "colorscale": [
             [
              0,
              "#0d0887"
             ],
             [
              0.1111111111111111,
              "#46039f"
             ],
             [
              0.2222222222222222,
              "#7201a8"
             ],
             [
              0.3333333333333333,
              "#9c179e"
             ],
             [
              0.4444444444444444,
              "#bd3786"
             ],
             [
              0.5555555555555556,
              "#d8576b"
             ],
             [
              0.6666666666666666,
              "#ed7953"
             ],
             [
              0.7777777777777778,
              "#fb9f3a"
             ],
             [
              0.8888888888888888,
              "#fdca26"
             ],
             [
              1,
              "#f0f921"
             ]
            ],
            "type": "contour"
           }
          ],
          "contourcarpet": [
           {
            "colorbar": {
             "outlinewidth": 0,
             "ticks": ""
            },
            "type": "contourcarpet"
           }
          ],
          "heatmap": [
           {
            "colorbar": {
             "outlinewidth": 0,
             "ticks": ""
            },
            "colorscale": [
             [
              0,
              "#0d0887"
             ],
             [
              0.1111111111111111,
              "#46039f"
             ],
             [
              0.2222222222222222,
              "#7201a8"
             ],
             [
              0.3333333333333333,
              "#9c179e"
             ],
             [
              0.4444444444444444,
              "#bd3786"
             ],
             [
              0.5555555555555556,
              "#d8576b"
             ],
             [
              0.6666666666666666,
              "#ed7953"
             ],
             [
              0.7777777777777778,
              "#fb9f3a"
             ],
             [
              0.8888888888888888,
              "#fdca26"
             ],
             [
              1,
              "#f0f921"
             ]
            ],
            "type": "heatmap"
           }
          ],
          "heatmapgl": [
           {
            "colorbar": {
             "outlinewidth": 0,
             "ticks": ""
            },
            "colorscale": [
             [
              0,
              "#0d0887"
             ],
             [
              0.1111111111111111,
              "#46039f"
             ],
             [
              0.2222222222222222,
              "#7201a8"
             ],
             [
              0.3333333333333333,
              "#9c179e"
             ],
             [
              0.4444444444444444,
              "#bd3786"
             ],
             [
              0.5555555555555556,
              "#d8576b"
             ],
             [
              0.6666666666666666,
              "#ed7953"
             ],
             [
              0.7777777777777778,
              "#fb9f3a"
             ],
             [
              0.8888888888888888,
              "#fdca26"
             ],
             [
              1,
              "#f0f921"
             ]
            ],
            "type": "heatmapgl"
           }
          ],
          "histogram": [
           {
            "marker": {
             "pattern": {
              "fillmode": "overlay",
              "size": 10,
              "solidity": 0.2
             }
            },
            "type": "histogram"
           }
          ],
          "histogram2d": [
           {
            "colorbar": {
             "outlinewidth": 0,
             "ticks": ""
            },
            "colorscale": [
             [
              0,
              "#0d0887"
             ],
             [
              0.1111111111111111,
              "#46039f"
             ],
             [
              0.2222222222222222,
              "#7201a8"
             ],
             [
              0.3333333333333333,
              "#9c179e"
             ],
             [
              0.4444444444444444,
              "#bd3786"
             ],
             [
              0.5555555555555556,
              "#d8576b"
             ],
             [
              0.6666666666666666,
              "#ed7953"
             ],
             [
              0.7777777777777778,
              "#fb9f3a"
             ],
             [
              0.8888888888888888,
              "#fdca26"
             ],
             [
              1,
              "#f0f921"
             ]
            ],
            "type": "histogram2d"
           }
          ],
          "histogram2dcontour": [
           {
            "colorbar": {
             "outlinewidth": 0,
             "ticks": ""
            },
            "colorscale": [
             [
              0,
              "#0d0887"
             ],
             [
              0.1111111111111111,
              "#46039f"
             ],
             [
              0.2222222222222222,
              "#7201a8"
             ],
             [
              0.3333333333333333,
              "#9c179e"
             ],
             [
              0.4444444444444444,
              "#bd3786"
             ],
             [
              0.5555555555555556,
              "#d8576b"
             ],
             [
              0.6666666666666666,
              "#ed7953"
             ],
             [
              0.7777777777777778,
              "#fb9f3a"
             ],
             [
              0.8888888888888888,
              "#fdca26"
             ],
             [
              1,
              "#f0f921"
             ]
            ],
            "type": "histogram2dcontour"
           }
          ],
          "mesh3d": [
           {
            "colorbar": {
             "outlinewidth": 0,
             "ticks": ""
            },
            "type": "mesh3d"
           }
          ],
          "parcoords": [
           {
            "line": {
             "colorbar": {
              "outlinewidth": 0,
              "ticks": ""
             }
            },
            "type": "parcoords"
           }
          ],
          "pie": [
           {
            "automargin": true,
            "type": "pie"
           }
          ],
          "scatter": [
           {
            "fillpattern": {
             "fillmode": "overlay",
             "size": 10,
             "solidity": 0.2
            },
            "type": "scatter"
           }
          ],
          "scatter3d": [
           {
            "line": {
             "colorbar": {
              "outlinewidth": 0,
              "ticks": ""
             }
            },
            "marker": {
             "colorbar": {
              "outlinewidth": 0,
              "ticks": ""
             }
            },
            "type": "scatter3d"
           }
          ],
          "scattercarpet": [
           {
            "marker": {
             "colorbar": {
              "outlinewidth": 0,
              "ticks": ""
             }
            },
            "type": "scattercarpet"
           }
          ],
          "scattergeo": [
           {
            "marker": {
             "colorbar": {
              "outlinewidth": 0,
              "ticks": ""
             }
            },
            "type": "scattergeo"
           }
          ],
          "scattergl": [
           {
            "marker": {
             "colorbar": {
              "outlinewidth": 0,
              "ticks": ""
             }
            },
            "type": "scattergl"
           }
          ],
          "scattermapbox": [
           {
            "marker": {
             "colorbar": {
              "outlinewidth": 0,
              "ticks": ""
             }
            },
            "type": "scattermapbox"
           }
          ],
          "scatterpolar": [
           {
            "marker": {
             "colorbar": {
              "outlinewidth": 0,
              "ticks": ""
             }
            },
            "type": "scatterpolar"
           }
          ],
          "scatterpolargl": [
           {
            "marker": {
             "colorbar": {
              "outlinewidth": 0,
              "ticks": ""
             }
            },
            "type": "scatterpolargl"
           }
          ],
          "scatterternary": [
           {
            "marker": {
             "colorbar": {
              "outlinewidth": 0,
              "ticks": ""
             }
            },
            "type": "scatterternary"
           }
          ],
          "surface": [
           {
            "colorbar": {
             "outlinewidth": 0,
             "ticks": ""
            },
            "colorscale": [
             [
              0,
              "#0d0887"
             ],
             [
              0.1111111111111111,
              "#46039f"
             ],
             [
              0.2222222222222222,
              "#7201a8"
             ],
             [
              0.3333333333333333,
              "#9c179e"
             ],
             [
              0.4444444444444444,
              "#bd3786"
             ],
             [
              0.5555555555555556,
              "#d8576b"
             ],
             [
              0.6666666666666666,
              "#ed7953"
             ],
             [
              0.7777777777777778,
              "#fb9f3a"
             ],
             [
              0.8888888888888888,
              "#fdca26"
             ],
             [
              1,
              "#f0f921"
             ]
            ],
            "type": "surface"
           }
          ],
          "table": [
           {
            "cells": {
             "fill": {
              "color": "#EBF0F8"
             },
             "line": {
              "color": "white"
             }
            },
            "header": {
             "fill": {
              "color": "#C8D4E3"
             },
             "line": {
              "color": "white"
             }
            },
            "type": "table"
           }
          ]
         },
         "layout": {
          "annotationdefaults": {
           "arrowcolor": "#2a3f5f",
           "arrowhead": 0,
           "arrowwidth": 1
          },
          "autotypenumbers": "strict",
          "coloraxis": {
           "colorbar": {
            "outlinewidth": 0,
            "ticks": ""
           }
          },
          "colorscale": {
           "diverging": [
            [
             0,
             "#8e0152"
            ],
            [
             0.1,
             "#c51b7d"
            ],
            [
             0.2,
             "#de77ae"
            ],
            [
             0.3,
             "#f1b6da"
            ],
            [
             0.4,
             "#fde0ef"
            ],
            [
             0.5,
             "#f7f7f7"
            ],
            [
             0.6,
             "#e6f5d0"
            ],
            [
             0.7,
             "#b8e186"
            ],
            [
             0.8,
             "#7fbc41"
            ],
            [
             0.9,
             "#4d9221"
            ],
            [
             1,
             "#276419"
            ]
           ],
           "sequential": [
            [
             0,
             "#0d0887"
            ],
            [
             0.1111111111111111,
             "#46039f"
            ],
            [
             0.2222222222222222,
             "#7201a8"
            ],
            [
             0.3333333333333333,
             "#9c179e"
            ],
            [
             0.4444444444444444,
             "#bd3786"
            ],
            [
             0.5555555555555556,
             "#d8576b"
            ],
            [
             0.6666666666666666,
             "#ed7953"
            ],
            [
             0.7777777777777778,
             "#fb9f3a"
            ],
            [
             0.8888888888888888,
             "#fdca26"
            ],
            [
             1,
             "#f0f921"
            ]
           ],
           "sequentialminus": [
            [
             0,
             "#0d0887"
            ],
            [
             0.1111111111111111,
             "#46039f"
            ],
            [
             0.2222222222222222,
             "#7201a8"
            ],
            [
             0.3333333333333333,
             "#9c179e"
            ],
            [
             0.4444444444444444,
             "#bd3786"
            ],
            [
             0.5555555555555556,
             "#d8576b"
            ],
            [
             0.6666666666666666,
             "#ed7953"
            ],
            [
             0.7777777777777778,
             "#fb9f3a"
            ],
            [
             0.8888888888888888,
             "#fdca26"
            ],
            [
             1,
             "#f0f921"
            ]
           ]
          },
          "colorway": [
           "#636efa",
           "#EF553B",
           "#00cc96",
           "#ab63fa",
           "#FFA15A",
           "#19d3f3",
           "#FF6692",
           "#B6E880",
           "#FF97FF",
           "#FECB52"
          ],
          "font": {
           "color": "#2a3f5f"
          },
          "geo": {
           "bgcolor": "white",
           "lakecolor": "white",
           "landcolor": "#E5ECF6",
           "showlakes": true,
           "showland": true,
           "subunitcolor": "white"
          },
          "hoverlabel": {
           "align": "left"
          },
          "hovermode": "closest",
          "mapbox": {
           "style": "light"
          },
          "paper_bgcolor": "white",
          "plot_bgcolor": "#E5ECF6",
          "polar": {
           "angularaxis": {
            "gridcolor": "white",
            "linecolor": "white",
            "ticks": ""
           },
           "bgcolor": "#E5ECF6",
           "radialaxis": {
            "gridcolor": "white",
            "linecolor": "white",
            "ticks": ""
           }
          },
          "scene": {
           "xaxis": {
            "backgroundcolor": "#E5ECF6",
            "gridcolor": "white",
            "gridwidth": 2,
            "linecolor": "white",
            "showbackground": true,
            "ticks": "",
            "zerolinecolor": "white"
           },
           "yaxis": {
            "backgroundcolor": "#E5ECF6",
            "gridcolor": "white",
            "gridwidth": 2,
            "linecolor": "white",
            "showbackground": true,
            "ticks": "",
            "zerolinecolor": "white"
           },
           "zaxis": {
            "backgroundcolor": "#E5ECF6",
            "gridcolor": "white",
            "gridwidth": 2,
            "linecolor": "white",
            "showbackground": true,
            "ticks": "",
            "zerolinecolor": "white"
           }
          },
          "shapedefaults": {
           "line": {
            "color": "#2a3f5f"
           }
          },
          "ternary": {
           "aaxis": {
            "gridcolor": "white",
            "linecolor": "white",
            "ticks": ""
           },
           "baxis": {
            "gridcolor": "white",
            "linecolor": "white",
            "ticks": ""
           },
           "bgcolor": "#E5ECF6",
           "caxis": {
            "gridcolor": "white",
            "linecolor": "white",
            "ticks": ""
           }
          },
          "title": {
           "x": 0.05
          },
          "xaxis": {
           "automargin": true,
           "gridcolor": "white",
           "linecolor": "white",
           "ticks": "",
           "title": {
            "standoff": 15
           },
           "zerolinecolor": "white",
           "zerolinewidth": 2
          },
          "yaxis": {
           "automargin": true,
           "gridcolor": "white",
           "linecolor": "white",
           "ticks": "",
           "title": {
            "standoff": 15
           },
           "zerolinecolor": "white",
           "zerolinewidth": 2
          }
         }
        },
        "title": {
         "text": "Fraction of chunks unfolded for IsIntersection ",
         "x": 0.5
        },
        "xaxis": {
         "title": {
          "text": "Chunks Unfolded (%)"
         }
        },
        "yaxis": {
         "title": {
          "text": "Context + Geometry Size"
         }
        }
       }
      }
     },
     "metadata": {},
     "output_type": "display_data"
    },
    {
     "data": {
      "application/vnd.plotly.v1+json": {
       "config": {
        "plotlyServerURL": "https://plot.ly"
       },
       "data": [
        {
         "name": "Chunk fraction unfolded",
         "orientation": "h",
         "type": "bar",
         "x": [
          79.16666666666666,
          27.27272727272727,
          42.857142857142854,
          3.8578208617050587,
          31.149591149591146,
          18.553600128334594,
          86.07142857142857,
          10.059570981796368,
          28.914768806073152,
          20.31406839609714,
          41.15177415177415,
          15.379107319883715,
          77.67514335577162,
          20.718696752021092,
          44.972249972249976
         ],
         "y": [
          [
           "Bbox_Inside_Other (TRUE)",
           "Bbox_Inside_Other (TRUE)",
           "Bbox_Inside_Other (TRUE)",
           "Bbox_Overlap (FALSE)",
           "Bbox_Overlap (FALSE)",
           "Bbox_Overlap (FALSE)",
           "Bbox_Overlap (FALSE)",
           "Bbox_Overlap (FALSE)",
           "Bbox_Overlap (FALSE)",
           "Bbox_Partial_Overlap (TRUE)",
           "Bbox_Partial_Overlap (TRUE)",
           "Bbox_Partial_Overlap (TRUE)",
           "Bbox_Partial_Overlap (TRUE)",
           "Bbox_Partial_Overlap (TRUE)",
           "Bbox_Partial_Overlap (TRUE)"
          ],
          [
           "Small",
           "Small_Large_Mixed",
           "Small_Medium_Mixed",
           "Large",
           "Medium",
           "Medium_Large_Mixed",
           "Small",
           "Small_Large_Mixed",
           "Small_Medium_Mixed",
           "Large",
           "Medium",
           "Medium_Large_Mixed",
           "Small",
           "Small_Large_Mixed",
           "Small_Medium_Mixed"
          ]
         ]
        }
       ],
       "layout": {
        "barmode": "relative",
        "template": {
         "data": {
          "bar": [
           {
            "error_x": {
             "color": "#2a3f5f"
            },
            "error_y": {
             "color": "#2a3f5f"
            },
            "marker": {
             "line": {
              "color": "#E5ECF6",
              "width": 0.5
             },
             "pattern": {
              "fillmode": "overlay",
              "size": 10,
              "solidity": 0.2
             }
            },
            "type": "bar"
           }
          ],
          "barpolar": [
           {
            "marker": {
             "line": {
              "color": "#E5ECF6",
              "width": 0.5
             },
             "pattern": {
              "fillmode": "overlay",
              "size": 10,
              "solidity": 0.2
             }
            },
            "type": "barpolar"
           }
          ],
          "carpet": [
           {
            "aaxis": {
             "endlinecolor": "#2a3f5f",
             "gridcolor": "white",
             "linecolor": "white",
             "minorgridcolor": "white",
             "startlinecolor": "#2a3f5f"
            },
            "baxis": {
             "endlinecolor": "#2a3f5f",
             "gridcolor": "white",
             "linecolor": "white",
             "minorgridcolor": "white",
             "startlinecolor": "#2a3f5f"
            },
            "type": "carpet"
           }
          ],
          "choropleth": [
           {
            "colorbar": {
             "outlinewidth": 0,
             "ticks": ""
            },
            "type": "choropleth"
           }
          ],
          "contour": [
           {
            "colorbar": {
             "outlinewidth": 0,
             "ticks": ""
            },
            "colorscale": [
             [
              0,
              "#0d0887"
             ],
             [
              0.1111111111111111,
              "#46039f"
             ],
             [
              0.2222222222222222,
              "#7201a8"
             ],
             [
              0.3333333333333333,
              "#9c179e"
             ],
             [
              0.4444444444444444,
              "#bd3786"
             ],
             [
              0.5555555555555556,
              "#d8576b"
             ],
             [
              0.6666666666666666,
              "#ed7953"
             ],
             [
              0.7777777777777778,
              "#fb9f3a"
             ],
             [
              0.8888888888888888,
              "#fdca26"
             ],
             [
              1,
              "#f0f921"
             ]
            ],
            "type": "contour"
           }
          ],
          "contourcarpet": [
           {
            "colorbar": {
             "outlinewidth": 0,
             "ticks": ""
            },
            "type": "contourcarpet"
           }
          ],
          "heatmap": [
           {
            "colorbar": {
             "outlinewidth": 0,
             "ticks": ""
            },
            "colorscale": [
             [
              0,
              "#0d0887"
             ],
             [
              0.1111111111111111,
              "#46039f"
             ],
             [
              0.2222222222222222,
              "#7201a8"
             ],
             [
              0.3333333333333333,
              "#9c179e"
             ],
             [
              0.4444444444444444,
              "#bd3786"
             ],
             [
              0.5555555555555556,
              "#d8576b"
             ],
             [
              0.6666666666666666,
              "#ed7953"
             ],
             [
              0.7777777777777778,
              "#fb9f3a"
             ],
             [
              0.8888888888888888,
              "#fdca26"
             ],
             [
              1,
              "#f0f921"
             ]
            ],
            "type": "heatmap"
           }
          ],
          "heatmapgl": [
           {
            "colorbar": {
             "outlinewidth": 0,
             "ticks": ""
            },
            "colorscale": [
             [
              0,
              "#0d0887"
             ],
             [
              0.1111111111111111,
              "#46039f"
             ],
             [
              0.2222222222222222,
              "#7201a8"
             ],
             [
              0.3333333333333333,
              "#9c179e"
             ],
             [
              0.4444444444444444,
              "#bd3786"
             ],
             [
              0.5555555555555556,
              "#d8576b"
             ],
             [
              0.6666666666666666,
              "#ed7953"
             ],
             [
              0.7777777777777778,
              "#fb9f3a"
             ],
             [
              0.8888888888888888,
              "#fdca26"
             ],
             [
              1,
              "#f0f921"
             ]
            ],
            "type": "heatmapgl"
           }
          ],
          "histogram": [
           {
            "marker": {
             "pattern": {
              "fillmode": "overlay",
              "size": 10,
              "solidity": 0.2
             }
            },
            "type": "histogram"
           }
          ],
          "histogram2d": [
           {
            "colorbar": {
             "outlinewidth": 0,
             "ticks": ""
            },
            "colorscale": [
             [
              0,
              "#0d0887"
             ],
             [
              0.1111111111111111,
              "#46039f"
             ],
             [
              0.2222222222222222,
              "#7201a8"
             ],
             [
              0.3333333333333333,
              "#9c179e"
             ],
             [
              0.4444444444444444,
              "#bd3786"
             ],
             [
              0.5555555555555556,
              "#d8576b"
             ],
             [
              0.6666666666666666,
              "#ed7953"
             ],
             [
              0.7777777777777778,
              "#fb9f3a"
             ],
             [
              0.8888888888888888,
              "#fdca26"
             ],
             [
              1,
              "#f0f921"
             ]
            ],
            "type": "histogram2d"
           }
          ],
          "histogram2dcontour": [
           {
            "colorbar": {
             "outlinewidth": 0,
             "ticks": ""
            },
            "colorscale": [
             [
              0,
              "#0d0887"
             ],
             [
              0.1111111111111111,
              "#46039f"
             ],
             [
              0.2222222222222222,
              "#7201a8"
             ],
             [
              0.3333333333333333,
              "#9c179e"
             ],
             [
              0.4444444444444444,
              "#bd3786"
             ],
             [
              0.5555555555555556,
              "#d8576b"
             ],
             [
              0.6666666666666666,
              "#ed7953"
             ],
             [
              0.7777777777777778,
              "#fb9f3a"
             ],
             [
              0.8888888888888888,
              "#fdca26"
             ],
             [
              1,
              "#f0f921"
             ]
            ],
            "type": "histogram2dcontour"
           }
          ],
          "mesh3d": [
           {
            "colorbar": {
             "outlinewidth": 0,
             "ticks": ""
            },
            "type": "mesh3d"
           }
          ],
          "parcoords": [
           {
            "line": {
             "colorbar": {
              "outlinewidth": 0,
              "ticks": ""
             }
            },
            "type": "parcoords"
           }
          ],
          "pie": [
           {
            "automargin": true,
            "type": "pie"
           }
          ],
          "scatter": [
           {
            "fillpattern": {
             "fillmode": "overlay",
             "size": 10,
             "solidity": 0.2
            },
            "type": "scatter"
           }
          ],
          "scatter3d": [
           {
            "line": {
             "colorbar": {
              "outlinewidth": 0,
              "ticks": ""
             }
            },
            "marker": {
             "colorbar": {
              "outlinewidth": 0,
              "ticks": ""
             }
            },
            "type": "scatter3d"
           }
          ],
          "scattercarpet": [
           {
            "marker": {
             "colorbar": {
              "outlinewidth": 0,
              "ticks": ""
             }
            },
            "type": "scattercarpet"
           }
          ],
          "scattergeo": [
           {
            "marker": {
             "colorbar": {
              "outlinewidth": 0,
              "ticks": ""
             }
            },
            "type": "scattergeo"
           }
          ],
          "scattergl": [
           {
            "marker": {
             "colorbar": {
              "outlinewidth": 0,
              "ticks": ""
             }
            },
            "type": "scattergl"
           }
          ],
          "scattermapbox": [
           {
            "marker": {
             "colorbar": {
              "outlinewidth": 0,
              "ticks": ""
             }
            },
            "type": "scattermapbox"
           }
          ],
          "scatterpolar": [
           {
            "marker": {
             "colorbar": {
              "outlinewidth": 0,
              "ticks": ""
             }
            },
            "type": "scatterpolar"
           }
          ],
          "scatterpolargl": [
           {
            "marker": {
             "colorbar": {
              "outlinewidth": 0,
              "ticks": ""
             }
            },
            "type": "scatterpolargl"
           }
          ],
          "scatterternary": [
           {
            "marker": {
             "colorbar": {
              "outlinewidth": 0,
              "ticks": ""
             }
            },
            "type": "scatterternary"
           }
          ],
          "surface": [
           {
            "colorbar": {
             "outlinewidth": 0,
             "ticks": ""
            },
            "colorscale": [
             [
              0,
              "#0d0887"
             ],
             [
              0.1111111111111111,
              "#46039f"
             ],
             [
              0.2222222222222222,
              "#7201a8"
             ],
             [
              0.3333333333333333,
              "#9c179e"
             ],
             [
              0.4444444444444444,
              "#bd3786"
             ],
             [
              0.5555555555555556,
              "#d8576b"
             ],
             [
              0.6666666666666666,
              "#ed7953"
             ],
             [
              0.7777777777777778,
              "#fb9f3a"
             ],
             [
              0.8888888888888888,
              "#fdca26"
             ],
             [
              1,
              "#f0f921"
             ]
            ],
            "type": "surface"
           }
          ],
          "table": [
           {
            "cells": {
             "fill": {
              "color": "#EBF0F8"
             },
             "line": {
              "color": "white"
             }
            },
            "header": {
             "fill": {
              "color": "#C8D4E3"
             },
             "line": {
              "color": "white"
             }
            },
            "type": "table"
           }
          ]
         },
         "layout": {
          "annotationdefaults": {
           "arrowcolor": "#2a3f5f",
           "arrowhead": 0,
           "arrowwidth": 1
          },
          "autotypenumbers": "strict",
          "coloraxis": {
           "colorbar": {
            "outlinewidth": 0,
            "ticks": ""
           }
          },
          "colorscale": {
           "diverging": [
            [
             0,
             "#8e0152"
            ],
            [
             0.1,
             "#c51b7d"
            ],
            [
             0.2,
             "#de77ae"
            ],
            [
             0.3,
             "#f1b6da"
            ],
            [
             0.4,
             "#fde0ef"
            ],
            [
             0.5,
             "#f7f7f7"
            ],
            [
             0.6,
             "#e6f5d0"
            ],
            [
             0.7,
             "#b8e186"
            ],
            [
             0.8,
             "#7fbc41"
            ],
            [
             0.9,
             "#4d9221"
            ],
            [
             1,
             "#276419"
            ]
           ],
           "sequential": [
            [
             0,
             "#0d0887"
            ],
            [
             0.1111111111111111,
             "#46039f"
            ],
            [
             0.2222222222222222,
             "#7201a8"
            ],
            [
             0.3333333333333333,
             "#9c179e"
            ],
            [
             0.4444444444444444,
             "#bd3786"
            ],
            [
             0.5555555555555556,
             "#d8576b"
            ],
            [
             0.6666666666666666,
             "#ed7953"
            ],
            [
             0.7777777777777778,
             "#fb9f3a"
            ],
            [
             0.8888888888888888,
             "#fdca26"
            ],
            [
             1,
             "#f0f921"
            ]
           ],
           "sequentialminus": [
            [
             0,
             "#0d0887"
            ],
            [
             0.1111111111111111,
             "#46039f"
            ],
            [
             0.2222222222222222,
             "#7201a8"
            ],
            [
             0.3333333333333333,
             "#9c179e"
            ],
            [
             0.4444444444444444,
             "#bd3786"
            ],
            [
             0.5555555555555556,
             "#d8576b"
            ],
            [
             0.6666666666666666,
             "#ed7953"
            ],
            [
             0.7777777777777778,
             "#fb9f3a"
            ],
            [
             0.8888888888888888,
             "#fdca26"
            ],
            [
             1,
             "#f0f921"
            ]
           ]
          },
          "colorway": [
           "#636efa",
           "#EF553B",
           "#00cc96",
           "#ab63fa",
           "#FFA15A",
           "#19d3f3",
           "#FF6692",
           "#B6E880",
           "#FF97FF",
           "#FECB52"
          ],
          "font": {
           "color": "#2a3f5f"
          },
          "geo": {
           "bgcolor": "white",
           "lakecolor": "white",
           "landcolor": "#E5ECF6",
           "showlakes": true,
           "showland": true,
           "subunitcolor": "white"
          },
          "hoverlabel": {
           "align": "left"
          },
          "hovermode": "closest",
          "mapbox": {
           "style": "light"
          },
          "paper_bgcolor": "white",
          "plot_bgcolor": "#E5ECF6",
          "polar": {
           "angularaxis": {
            "gridcolor": "white",
            "linecolor": "white",
            "ticks": ""
           },
           "bgcolor": "#E5ECF6",
           "radialaxis": {
            "gridcolor": "white",
            "linecolor": "white",
            "ticks": ""
           }
          },
          "scene": {
           "xaxis": {
            "backgroundcolor": "#E5ECF6",
            "gridcolor": "white",
            "gridwidth": 2,
            "linecolor": "white",
            "showbackground": true,
            "ticks": "",
            "zerolinecolor": "white"
           },
           "yaxis": {
            "backgroundcolor": "#E5ECF6",
            "gridcolor": "white",
            "gridwidth": 2,
            "linecolor": "white",
            "showbackground": true,
            "ticks": "",
            "zerolinecolor": "white"
           },
           "zaxis": {
            "backgroundcolor": "#E5ECF6",
            "gridcolor": "white",
            "gridwidth": 2,
            "linecolor": "white",
            "showbackground": true,
            "ticks": "",
            "zerolinecolor": "white"
           }
          },
          "shapedefaults": {
           "line": {
            "color": "#2a3f5f"
           }
          },
          "ternary": {
           "aaxis": {
            "gridcolor": "white",
            "linecolor": "white",
            "ticks": ""
           },
           "baxis": {
            "gridcolor": "white",
            "linecolor": "white",
            "ticks": ""
           },
           "bgcolor": "#E5ECF6",
           "caxis": {
            "gridcolor": "white",
            "linecolor": "white",
            "ticks": ""
           }
          },
          "title": {
           "x": 0.05
          },
          "xaxis": {
           "automargin": true,
           "gridcolor": "white",
           "linecolor": "white",
           "ticks": "",
           "title": {
            "standoff": 15
           },
           "zerolinecolor": "white",
           "zerolinewidth": 2
          },
          "yaxis": {
           "automargin": true,
           "gridcolor": "white",
           "linecolor": "white",
           "ticks": "",
           "title": {
            "standoff": 15
           },
           "zerolinecolor": "white",
           "zerolinewidth": 2
          }
         }
        },
        "title": {
         "text": "Fraction of chunks unfolded for Intersection ",
         "x": 0.5
        },
        "xaxis": {
         "title": {
          "text": "Chunks Unfolded (%)"
         }
        },
        "yaxis": {
         "title": {
          "text": "Context + Geometry Size"
         }
        }
       }
      }
     },
     "metadata": {},
     "output_type": "display_data"
    }
   ],
   "source": [
    "plot_chunk_unfolded_frac(chunk_unfolded_df, is_predicate=True, is_baseline=False)\n",
    "plot_chunk_unfolded_frac(chunk_unfolded_df, is_predicate=False, is_baseline=False)"
   ]
  },
  {
   "attachments": {},
   "cell_type": "markdown",
   "metadata": {},
   "source": [
    "#### Partial Decompression Fraction of Execution"
   ]
  },
  {
   "cell_type": "code",
   "execution_count": 16,
   "metadata": {},
   "outputs": [
    {
     "data": {
      "application/vnd.plotly.v1+json": {
       "config": {
        "plotlyServerURL": "https://plot.ly"
       },
       "data": [
        {
         "name": "Decompression stage",
         "orientation": "h",
         "type": "bar",
         "x": [
          30.26064375858999,
          62.52551613122512,
          54.528252610149096,
          90.99697092480561,
          71.58590902793948,
          80.63869008411599,
          49.81388061392219,
          84.39814344662017,
          69.36191259746629,
          48.1682633884009,
          43.80073791748905,
          65.98672383653934,
          27.717870811587595,
          61.91393247024031,
          41.368785743067335
         ],
         "y": [
          [
           "Bbox_Inside_Other (TRUE)",
           "Bbox_Inside_Other (TRUE)",
           "Bbox_Inside_Other (TRUE)",
           "Bbox_Overlap (FALSE)",
           "Bbox_Overlap (FALSE)",
           "Bbox_Overlap (FALSE)",
           "Bbox_Overlap (FALSE)",
           "Bbox_Overlap (FALSE)",
           "Bbox_Overlap (FALSE)",
           "Bbox_Partial_Overlap (TRUE)",
           "Bbox_Partial_Overlap (TRUE)",
           "Bbox_Partial_Overlap (TRUE)",
           "Bbox_Partial_Overlap (TRUE)",
           "Bbox_Partial_Overlap (TRUE)",
           "Bbox_Partial_Overlap (TRUE)"
          ],
          [
           "Small",
           "Small_Large_Mixed",
           "Small_Medium_Mixed",
           "Large",
           "Medium",
           "Medium_Large_Mixed",
           "Small",
           "Small_Large_Mixed",
           "Small_Medium_Mixed",
           "Large",
           "Medium",
           "Medium_Large_Mixed",
           "Small",
           "Small_Large_Mixed",
           "Small_Medium_Mixed"
          ]
         ]
        },
        {
         "name": "Intersection",
         "orientation": "h",
         "type": "bar",
         "x": [
          69.73935624141001,
          37.47448386877488,
          45.471747389850904,
          9.003029075194393,
          28.41409097206052,
          19.361309915884004,
          50.18611938607781,
          15.601856553379838,
          30.63808740253371,
          51.8317366115991,
          56.19926208251095,
          34.01327616346066,
          72.2821291884124,
          38.08606752975968,
          58.631214256932665
         ],
         "y": [
          [
           "Bbox_Inside_Other (TRUE)",
           "Bbox_Inside_Other (TRUE)",
           "Bbox_Inside_Other (TRUE)",
           "Bbox_Overlap (FALSE)",
           "Bbox_Overlap (FALSE)",
           "Bbox_Overlap (FALSE)",
           "Bbox_Overlap (FALSE)",
           "Bbox_Overlap (FALSE)",
           "Bbox_Overlap (FALSE)",
           "Bbox_Partial_Overlap (TRUE)",
           "Bbox_Partial_Overlap (TRUE)",
           "Bbox_Partial_Overlap (TRUE)",
           "Bbox_Partial_Overlap (TRUE)",
           "Bbox_Partial_Overlap (TRUE)",
           "Bbox_Partial_Overlap (TRUE)"
          ],
          [
           "Small",
           "Small_Large_Mixed",
           "Small_Medium_Mixed",
           "Large",
           "Medium",
           "Medium_Large_Mixed",
           "Small",
           "Small_Large_Mixed",
           "Small_Medium_Mixed",
           "Large",
           "Medium",
           "Medium_Large_Mixed",
           "Small",
           "Small_Large_Mixed",
           "Small_Medium_Mixed"
          ]
         ]
        }
       ],
       "layout": {
        "barmode": "relative",
        "legend": {
         "x": 0.997,
         "xanchor": "right",
         "y": 1.2,
         "yanchor": "top"
        },
        "template": {
         "data": {
          "bar": [
           {
            "error_x": {
             "color": "#2a3f5f"
            },
            "error_y": {
             "color": "#2a3f5f"
            },
            "marker": {
             "line": {
              "color": "#E5ECF6",
              "width": 0.5
             },
             "pattern": {
              "fillmode": "overlay",
              "size": 10,
              "solidity": 0.2
             }
            },
            "type": "bar"
           }
          ],
          "barpolar": [
           {
            "marker": {
             "line": {
              "color": "#E5ECF6",
              "width": 0.5
             },
             "pattern": {
              "fillmode": "overlay",
              "size": 10,
              "solidity": 0.2
             }
            },
            "type": "barpolar"
           }
          ],
          "carpet": [
           {
            "aaxis": {
             "endlinecolor": "#2a3f5f",
             "gridcolor": "white",
             "linecolor": "white",
             "minorgridcolor": "white",
             "startlinecolor": "#2a3f5f"
            },
            "baxis": {
             "endlinecolor": "#2a3f5f",
             "gridcolor": "white",
             "linecolor": "white",
             "minorgridcolor": "white",
             "startlinecolor": "#2a3f5f"
            },
            "type": "carpet"
           }
          ],
          "choropleth": [
           {
            "colorbar": {
             "outlinewidth": 0,
             "ticks": ""
            },
            "type": "choropleth"
           }
          ],
          "contour": [
           {
            "colorbar": {
             "outlinewidth": 0,
             "ticks": ""
            },
            "colorscale": [
             [
              0,
              "#0d0887"
             ],
             [
              0.1111111111111111,
              "#46039f"
             ],
             [
              0.2222222222222222,
              "#7201a8"
             ],
             [
              0.3333333333333333,
              "#9c179e"
             ],
             [
              0.4444444444444444,
              "#bd3786"
             ],
             [
              0.5555555555555556,
              "#d8576b"
             ],
             [
              0.6666666666666666,
              "#ed7953"
             ],
             [
              0.7777777777777778,
              "#fb9f3a"
             ],
             [
              0.8888888888888888,
              "#fdca26"
             ],
             [
              1,
              "#f0f921"
             ]
            ],
            "type": "contour"
           }
          ],
          "contourcarpet": [
           {
            "colorbar": {
             "outlinewidth": 0,
             "ticks": ""
            },
            "type": "contourcarpet"
           }
          ],
          "heatmap": [
           {
            "colorbar": {
             "outlinewidth": 0,
             "ticks": ""
            },
            "colorscale": [
             [
              0,
              "#0d0887"
             ],
             [
              0.1111111111111111,
              "#46039f"
             ],
             [
              0.2222222222222222,
              "#7201a8"
             ],
             [
              0.3333333333333333,
              "#9c179e"
             ],
             [
              0.4444444444444444,
              "#bd3786"
             ],
             [
              0.5555555555555556,
              "#d8576b"
             ],
             [
              0.6666666666666666,
              "#ed7953"
             ],
             [
              0.7777777777777778,
              "#fb9f3a"
             ],
             [
              0.8888888888888888,
              "#fdca26"
             ],
             [
              1,
              "#f0f921"
             ]
            ],
            "type": "heatmap"
           }
          ],
          "heatmapgl": [
           {
            "colorbar": {
             "outlinewidth": 0,
             "ticks": ""
            },
            "colorscale": [
             [
              0,
              "#0d0887"
             ],
             [
              0.1111111111111111,
              "#46039f"
             ],
             [
              0.2222222222222222,
              "#7201a8"
             ],
             [
              0.3333333333333333,
              "#9c179e"
             ],
             [
              0.4444444444444444,
              "#bd3786"
             ],
             [
              0.5555555555555556,
              "#d8576b"
             ],
             [
              0.6666666666666666,
              "#ed7953"
             ],
             [
              0.7777777777777778,
              "#fb9f3a"
             ],
             [
              0.8888888888888888,
              "#fdca26"
             ],
             [
              1,
              "#f0f921"
             ]
            ],
            "type": "heatmapgl"
           }
          ],
          "histogram": [
           {
            "marker": {
             "pattern": {
              "fillmode": "overlay",
              "size": 10,
              "solidity": 0.2
             }
            },
            "type": "histogram"
           }
          ],
          "histogram2d": [
           {
            "colorbar": {
             "outlinewidth": 0,
             "ticks": ""
            },
            "colorscale": [
             [
              0,
              "#0d0887"
             ],
             [
              0.1111111111111111,
              "#46039f"
             ],
             [
              0.2222222222222222,
              "#7201a8"
             ],
             [
              0.3333333333333333,
              "#9c179e"
             ],
             [
              0.4444444444444444,
              "#bd3786"
             ],
             [
              0.5555555555555556,
              "#d8576b"
             ],
             [
              0.6666666666666666,
              "#ed7953"
             ],
             [
              0.7777777777777778,
              "#fb9f3a"
             ],
             [
              0.8888888888888888,
              "#fdca26"
             ],
             [
              1,
              "#f0f921"
             ]
            ],
            "type": "histogram2d"
           }
          ],
          "histogram2dcontour": [
           {
            "colorbar": {
             "outlinewidth": 0,
             "ticks": ""
            },
            "colorscale": [
             [
              0,
              "#0d0887"
             ],
             [
              0.1111111111111111,
              "#46039f"
             ],
             [
              0.2222222222222222,
              "#7201a8"
             ],
             [
              0.3333333333333333,
              "#9c179e"
             ],
             [
              0.4444444444444444,
              "#bd3786"
             ],
             [
              0.5555555555555556,
              "#d8576b"
             ],
             [
              0.6666666666666666,
              "#ed7953"
             ],
             [
              0.7777777777777778,
              "#fb9f3a"
             ],
             [
              0.8888888888888888,
              "#fdca26"
             ],
             [
              1,
              "#f0f921"
             ]
            ],
            "type": "histogram2dcontour"
           }
          ],
          "mesh3d": [
           {
            "colorbar": {
             "outlinewidth": 0,
             "ticks": ""
            },
            "type": "mesh3d"
           }
          ],
          "parcoords": [
           {
            "line": {
             "colorbar": {
              "outlinewidth": 0,
              "ticks": ""
             }
            },
            "type": "parcoords"
           }
          ],
          "pie": [
           {
            "automargin": true,
            "type": "pie"
           }
          ],
          "scatter": [
           {
            "fillpattern": {
             "fillmode": "overlay",
             "size": 10,
             "solidity": 0.2
            },
            "type": "scatter"
           }
          ],
          "scatter3d": [
           {
            "line": {
             "colorbar": {
              "outlinewidth": 0,
              "ticks": ""
             }
            },
            "marker": {
             "colorbar": {
              "outlinewidth": 0,
              "ticks": ""
             }
            },
            "type": "scatter3d"
           }
          ],
          "scattercarpet": [
           {
            "marker": {
             "colorbar": {
              "outlinewidth": 0,
              "ticks": ""
             }
            },
            "type": "scattercarpet"
           }
          ],
          "scattergeo": [
           {
            "marker": {
             "colorbar": {
              "outlinewidth": 0,
              "ticks": ""
             }
            },
            "type": "scattergeo"
           }
          ],
          "scattergl": [
           {
            "marker": {
             "colorbar": {
              "outlinewidth": 0,
              "ticks": ""
             }
            },
            "type": "scattergl"
           }
          ],
          "scattermapbox": [
           {
            "marker": {
             "colorbar": {
              "outlinewidth": 0,
              "ticks": ""
             }
            },
            "type": "scattermapbox"
           }
          ],
          "scatterpolar": [
           {
            "marker": {
             "colorbar": {
              "outlinewidth": 0,
              "ticks": ""
             }
            },
            "type": "scatterpolar"
           }
          ],
          "scatterpolargl": [
           {
            "marker": {
             "colorbar": {
              "outlinewidth": 0,
              "ticks": ""
             }
            },
            "type": "scatterpolargl"
           }
          ],
          "scatterternary": [
           {
            "marker": {
             "colorbar": {
              "outlinewidth": 0,
              "ticks": ""
             }
            },
            "type": "scatterternary"
           }
          ],
          "surface": [
           {
            "colorbar": {
             "outlinewidth": 0,
             "ticks": ""
            },
            "colorscale": [
             [
              0,
              "#0d0887"
             ],
             [
              0.1111111111111111,
              "#46039f"
             ],
             [
              0.2222222222222222,
              "#7201a8"
             ],
             [
              0.3333333333333333,
              "#9c179e"
             ],
             [
              0.4444444444444444,
              "#bd3786"
             ],
             [
              0.5555555555555556,
              "#d8576b"
             ],
             [
              0.6666666666666666,
              "#ed7953"
             ],
             [
              0.7777777777777778,
              "#fb9f3a"
             ],
             [
              0.8888888888888888,
              "#fdca26"
             ],
             [
              1,
              "#f0f921"
             ]
            ],
            "type": "surface"
           }
          ],
          "table": [
           {
            "cells": {
             "fill": {
              "color": "#EBF0F8"
             },
             "line": {
              "color": "white"
             }
            },
            "header": {
             "fill": {
              "color": "#C8D4E3"
             },
             "line": {
              "color": "white"
             }
            },
            "type": "table"
           }
          ]
         },
         "layout": {
          "annotationdefaults": {
           "arrowcolor": "#2a3f5f",
           "arrowhead": 0,
           "arrowwidth": 1
          },
          "autotypenumbers": "strict",
          "coloraxis": {
           "colorbar": {
            "outlinewidth": 0,
            "ticks": ""
           }
          },
          "colorscale": {
           "diverging": [
            [
             0,
             "#8e0152"
            ],
            [
             0.1,
             "#c51b7d"
            ],
            [
             0.2,
             "#de77ae"
            ],
            [
             0.3,
             "#f1b6da"
            ],
            [
             0.4,
             "#fde0ef"
            ],
            [
             0.5,
             "#f7f7f7"
            ],
            [
             0.6,
             "#e6f5d0"
            ],
            [
             0.7,
             "#b8e186"
            ],
            [
             0.8,
             "#7fbc41"
            ],
            [
             0.9,
             "#4d9221"
            ],
            [
             1,
             "#276419"
            ]
           ],
           "sequential": [
            [
             0,
             "#0d0887"
            ],
            [
             0.1111111111111111,
             "#46039f"
            ],
            [
             0.2222222222222222,
             "#7201a8"
            ],
            [
             0.3333333333333333,
             "#9c179e"
            ],
            [
             0.4444444444444444,
             "#bd3786"
            ],
            [
             0.5555555555555556,
             "#d8576b"
            ],
            [
             0.6666666666666666,
             "#ed7953"
            ],
            [
             0.7777777777777778,
             "#fb9f3a"
            ],
            [
             0.8888888888888888,
             "#fdca26"
            ],
            [
             1,
             "#f0f921"
            ]
           ],
           "sequentialminus": [
            [
             0,
             "#0d0887"
            ],
            [
             0.1111111111111111,
             "#46039f"
            ],
            [
             0.2222222222222222,
             "#7201a8"
            ],
            [
             0.3333333333333333,
             "#9c179e"
            ],
            [
             0.4444444444444444,
             "#bd3786"
            ],
            [
             0.5555555555555556,
             "#d8576b"
            ],
            [
             0.6666666666666666,
             "#ed7953"
            ],
            [
             0.7777777777777778,
             "#fb9f3a"
            ],
            [
             0.8888888888888888,
             "#fdca26"
            ],
            [
             1,
             "#f0f921"
            ]
           ]
          },
          "colorway": [
           "#636efa",
           "#EF553B",
           "#00cc96",
           "#ab63fa",
           "#FFA15A",
           "#19d3f3",
           "#FF6692",
           "#B6E880",
           "#FF97FF",
           "#FECB52"
          ],
          "font": {
           "color": "#2a3f5f"
          },
          "geo": {
           "bgcolor": "white",
           "lakecolor": "white",
           "landcolor": "#E5ECF6",
           "showlakes": true,
           "showland": true,
           "subunitcolor": "white"
          },
          "hoverlabel": {
           "align": "left"
          },
          "hovermode": "closest",
          "mapbox": {
           "style": "light"
          },
          "paper_bgcolor": "white",
          "plot_bgcolor": "#E5ECF6",
          "polar": {
           "angularaxis": {
            "gridcolor": "white",
            "linecolor": "white",
            "ticks": ""
           },
           "bgcolor": "#E5ECF6",
           "radialaxis": {
            "gridcolor": "white",
            "linecolor": "white",
            "ticks": ""
           }
          },
          "scene": {
           "xaxis": {
            "backgroundcolor": "#E5ECF6",
            "gridcolor": "white",
            "gridwidth": 2,
            "linecolor": "white",
            "showbackground": true,
            "ticks": "",
            "zerolinecolor": "white"
           },
           "yaxis": {
            "backgroundcolor": "#E5ECF6",
            "gridcolor": "white",
            "gridwidth": 2,
            "linecolor": "white",
            "showbackground": true,
            "ticks": "",
            "zerolinecolor": "white"
           },
           "zaxis": {
            "backgroundcolor": "#E5ECF6",
            "gridcolor": "white",
            "gridwidth": 2,
            "linecolor": "white",
            "showbackground": true,
            "ticks": "",
            "zerolinecolor": "white"
           }
          },
          "shapedefaults": {
           "line": {
            "color": "#2a3f5f"
           }
          },
          "ternary": {
           "aaxis": {
            "gridcolor": "white",
            "linecolor": "white",
            "ticks": ""
           },
           "baxis": {
            "gridcolor": "white",
            "linecolor": "white",
            "ticks": ""
           },
           "bgcolor": "#E5ECF6",
           "caxis": {
            "gridcolor": "white",
            "linecolor": "white",
            "ticks": ""
           }
          },
          "title": {
           "x": 0.05
          },
          "xaxis": {
           "automargin": true,
           "gridcolor": "white",
           "linecolor": "white",
           "ticks": "",
           "title": {
            "standoff": 15
           },
           "zerolinecolor": "white",
           "zerolinewidth": 2
          },
          "yaxis": {
           "automargin": true,
           "gridcolor": "white",
           "linecolor": "white",
           "ticks": "",
           "title": {
            "standoff": 15
           },
           "zerolinecolor": "white",
           "zerolinewidth": 2
          }
         }
        },
        "title": {
         "text": "Execution time distrubution for Intersection (BASELINE)",
         "x": 0.5
        },
        "xaxis": {
         "title": {
          "text": "Execution time (%)"
         }
        },
        "yaxis": {
         "title": {
          "text": "Context + Geometry Size)"
         }
        }
       }
      }
     },
     "metadata": {},
     "output_type": "display_data"
    },
    {
     "data": {
      "application/vnd.plotly.v1+json": {
       "config": {
        "plotlyServerURL": "https://plot.ly"
       },
       "data": [
        {
         "name": "Decompression stage",
         "orientation": "h",
         "type": "bar",
         "x": [
          24.89863715855156,
          31.531380100359847,
          30.930454172646865,
          64.71971682218002,
          47.67701936565033,
          51.50594862620816,
          42.53691562866642,
          48.21137638141027,
          42.065683998129046,
          17.324327894115427,
          22.911205442289994,
          28.154605803815954,
          20.66535097393891,
          27.01434899917131,
          22.67386619960834
         ],
         "y": [
          [
           "Bbox_Inside_Other (TRUE)",
           "Bbox_Inside_Other (TRUE)",
           "Bbox_Inside_Other (TRUE)",
           "Bbox_Overlap (FALSE)",
           "Bbox_Overlap (FALSE)",
           "Bbox_Overlap (FALSE)",
           "Bbox_Overlap (FALSE)",
           "Bbox_Overlap (FALSE)",
           "Bbox_Overlap (FALSE)",
           "Bbox_Partial_Overlap (TRUE)",
           "Bbox_Partial_Overlap (TRUE)",
           "Bbox_Partial_Overlap (TRUE)",
           "Bbox_Partial_Overlap (TRUE)",
           "Bbox_Partial_Overlap (TRUE)",
           "Bbox_Partial_Overlap (TRUE)"
          ],
          [
           "Small",
           "Small_Large_Mixed",
           "Small_Medium_Mixed",
           "Large",
           "Medium",
           "Medium_Large_Mixed",
           "Small",
           "Small_Large_Mixed",
           "Small_Medium_Mixed",
           "Large",
           "Medium",
           "Medium_Large_Mixed",
           "Small",
           "Small_Large_Mixed",
           "Small_Medium_Mixed"
          ]
         ]
        },
        {
         "name": "Intersection",
         "orientation": "h",
         "type": "bar",
         "x": [
          75.10136284144843,
          68.46861989964015,
          69.06954582735312,
          35.280283177819975,
          52.32298063434967,
          48.49405137379184,
          57.46308437133358,
          51.78862361858973,
          57.934316001870954,
          82.67567210588457,
          77.08879455771002,
          71.84539419618405,
          79.33464902606109,
          72.9856510008287,
          77.32613380039166
         ],
         "y": [
          [
           "Bbox_Inside_Other (TRUE)",
           "Bbox_Inside_Other (TRUE)",
           "Bbox_Inside_Other (TRUE)",
           "Bbox_Overlap (FALSE)",
           "Bbox_Overlap (FALSE)",
           "Bbox_Overlap (FALSE)",
           "Bbox_Overlap (FALSE)",
           "Bbox_Overlap (FALSE)",
           "Bbox_Overlap (FALSE)",
           "Bbox_Partial_Overlap (TRUE)",
           "Bbox_Partial_Overlap (TRUE)",
           "Bbox_Partial_Overlap (TRUE)",
           "Bbox_Partial_Overlap (TRUE)",
           "Bbox_Partial_Overlap (TRUE)",
           "Bbox_Partial_Overlap (TRUE)"
          ],
          [
           "Small",
           "Small_Large_Mixed",
           "Small_Medium_Mixed",
           "Large",
           "Medium",
           "Medium_Large_Mixed",
           "Small",
           "Small_Large_Mixed",
           "Small_Medium_Mixed",
           "Large",
           "Medium",
           "Medium_Large_Mixed",
           "Small",
           "Small_Large_Mixed",
           "Small_Medium_Mixed"
          ]
         ]
        }
       ],
       "layout": {
        "barmode": "relative",
        "legend": {
         "x": 0.997,
         "xanchor": "right",
         "y": 1.2,
         "yanchor": "top"
        },
        "template": {
         "data": {
          "bar": [
           {
            "error_x": {
             "color": "#2a3f5f"
            },
            "error_y": {
             "color": "#2a3f5f"
            },
            "marker": {
             "line": {
              "color": "#E5ECF6",
              "width": 0.5
             },
             "pattern": {
              "fillmode": "overlay",
              "size": 10,
              "solidity": 0.2
             }
            },
            "type": "bar"
           }
          ],
          "barpolar": [
           {
            "marker": {
             "line": {
              "color": "#E5ECF6",
              "width": 0.5
             },
             "pattern": {
              "fillmode": "overlay",
              "size": 10,
              "solidity": 0.2
             }
            },
            "type": "barpolar"
           }
          ],
          "carpet": [
           {
            "aaxis": {
             "endlinecolor": "#2a3f5f",
             "gridcolor": "white",
             "linecolor": "white",
             "minorgridcolor": "white",
             "startlinecolor": "#2a3f5f"
            },
            "baxis": {
             "endlinecolor": "#2a3f5f",
             "gridcolor": "white",
             "linecolor": "white",
             "minorgridcolor": "white",
             "startlinecolor": "#2a3f5f"
            },
            "type": "carpet"
           }
          ],
          "choropleth": [
           {
            "colorbar": {
             "outlinewidth": 0,
             "ticks": ""
            },
            "type": "choropleth"
           }
          ],
          "contour": [
           {
            "colorbar": {
             "outlinewidth": 0,
             "ticks": ""
            },
            "colorscale": [
             [
              0,
              "#0d0887"
             ],
             [
              0.1111111111111111,
              "#46039f"
             ],
             [
              0.2222222222222222,
              "#7201a8"
             ],
             [
              0.3333333333333333,
              "#9c179e"
             ],
             [
              0.4444444444444444,
              "#bd3786"
             ],
             [
              0.5555555555555556,
              "#d8576b"
             ],
             [
              0.6666666666666666,
              "#ed7953"
             ],
             [
              0.7777777777777778,
              "#fb9f3a"
             ],
             [
              0.8888888888888888,
              "#fdca26"
             ],
             [
              1,
              "#f0f921"
             ]
            ],
            "type": "contour"
           }
          ],
          "contourcarpet": [
           {
            "colorbar": {
             "outlinewidth": 0,
             "ticks": ""
            },
            "type": "contourcarpet"
           }
          ],
          "heatmap": [
           {
            "colorbar": {
             "outlinewidth": 0,
             "ticks": ""
            },
            "colorscale": [
             [
              0,
              "#0d0887"
             ],
             [
              0.1111111111111111,
              "#46039f"
             ],
             [
              0.2222222222222222,
              "#7201a8"
             ],
             [
              0.3333333333333333,
              "#9c179e"
             ],
             [
              0.4444444444444444,
              "#bd3786"
             ],
             [
              0.5555555555555556,
              "#d8576b"
             ],
             [
              0.6666666666666666,
              "#ed7953"
             ],
             [
              0.7777777777777778,
              "#fb9f3a"
             ],
             [
              0.8888888888888888,
              "#fdca26"
             ],
             [
              1,
              "#f0f921"
             ]
            ],
            "type": "heatmap"
           }
          ],
          "heatmapgl": [
           {
            "colorbar": {
             "outlinewidth": 0,
             "ticks": ""
            },
            "colorscale": [
             [
              0,
              "#0d0887"
             ],
             [
              0.1111111111111111,
              "#46039f"
             ],
             [
              0.2222222222222222,
              "#7201a8"
             ],
             [
              0.3333333333333333,
              "#9c179e"
             ],
             [
              0.4444444444444444,
              "#bd3786"
             ],
             [
              0.5555555555555556,
              "#d8576b"
             ],
             [
              0.6666666666666666,
              "#ed7953"
             ],
             [
              0.7777777777777778,
              "#fb9f3a"
             ],
             [
              0.8888888888888888,
              "#fdca26"
             ],
             [
              1,
              "#f0f921"
             ]
            ],
            "type": "heatmapgl"
           }
          ],
          "histogram": [
           {
            "marker": {
             "pattern": {
              "fillmode": "overlay",
              "size": 10,
              "solidity": 0.2
             }
            },
            "type": "histogram"
           }
          ],
          "histogram2d": [
           {
            "colorbar": {
             "outlinewidth": 0,
             "ticks": ""
            },
            "colorscale": [
             [
              0,
              "#0d0887"
             ],
             [
              0.1111111111111111,
              "#46039f"
             ],
             [
              0.2222222222222222,
              "#7201a8"
             ],
             [
              0.3333333333333333,
              "#9c179e"
             ],
             [
              0.4444444444444444,
              "#bd3786"
             ],
             [
              0.5555555555555556,
              "#d8576b"
             ],
             [
              0.6666666666666666,
              "#ed7953"
             ],
             [
              0.7777777777777778,
              "#fb9f3a"
             ],
             [
              0.8888888888888888,
              "#fdca26"
             ],
             [
              1,
              "#f0f921"
             ]
            ],
            "type": "histogram2d"
           }
          ],
          "histogram2dcontour": [
           {
            "colorbar": {
             "outlinewidth": 0,
             "ticks": ""
            },
            "colorscale": [
             [
              0,
              "#0d0887"
             ],
             [
              0.1111111111111111,
              "#46039f"
             ],
             [
              0.2222222222222222,
              "#7201a8"
             ],
             [
              0.3333333333333333,
              "#9c179e"
             ],
             [
              0.4444444444444444,
              "#bd3786"
             ],
             [
              0.5555555555555556,
              "#d8576b"
             ],
             [
              0.6666666666666666,
              "#ed7953"
             ],
             [
              0.7777777777777778,
              "#fb9f3a"
             ],
             [
              0.8888888888888888,
              "#fdca26"
             ],
             [
              1,
              "#f0f921"
             ]
            ],
            "type": "histogram2dcontour"
           }
          ],
          "mesh3d": [
           {
            "colorbar": {
             "outlinewidth": 0,
             "ticks": ""
            },
            "type": "mesh3d"
           }
          ],
          "parcoords": [
           {
            "line": {
             "colorbar": {
              "outlinewidth": 0,
              "ticks": ""
             }
            },
            "type": "parcoords"
           }
          ],
          "pie": [
           {
            "automargin": true,
            "type": "pie"
           }
          ],
          "scatter": [
           {
            "fillpattern": {
             "fillmode": "overlay",
             "size": 10,
             "solidity": 0.2
            },
            "type": "scatter"
           }
          ],
          "scatter3d": [
           {
            "line": {
             "colorbar": {
              "outlinewidth": 0,
              "ticks": ""
             }
            },
            "marker": {
             "colorbar": {
              "outlinewidth": 0,
              "ticks": ""
             }
            },
            "type": "scatter3d"
           }
          ],
          "scattercarpet": [
           {
            "marker": {
             "colorbar": {
              "outlinewidth": 0,
              "ticks": ""
             }
            },
            "type": "scattercarpet"
           }
          ],
          "scattergeo": [
           {
            "marker": {
             "colorbar": {
              "outlinewidth": 0,
              "ticks": ""
             }
            },
            "type": "scattergeo"
           }
          ],
          "scattergl": [
           {
            "marker": {
             "colorbar": {
              "outlinewidth": 0,
              "ticks": ""
             }
            },
            "type": "scattergl"
           }
          ],
          "scattermapbox": [
           {
            "marker": {
             "colorbar": {
              "outlinewidth": 0,
              "ticks": ""
             }
            },
            "type": "scattermapbox"
           }
          ],
          "scatterpolar": [
           {
            "marker": {
             "colorbar": {
              "outlinewidth": 0,
              "ticks": ""
             }
            },
            "type": "scatterpolar"
           }
          ],
          "scatterpolargl": [
           {
            "marker": {
             "colorbar": {
              "outlinewidth": 0,
              "ticks": ""
             }
            },
            "type": "scatterpolargl"
           }
          ],
          "scatterternary": [
           {
            "marker": {
             "colorbar": {
              "outlinewidth": 0,
              "ticks": ""
             }
            },
            "type": "scatterternary"
           }
          ],
          "surface": [
           {
            "colorbar": {
             "outlinewidth": 0,
             "ticks": ""
            },
            "colorscale": [
             [
              0,
              "#0d0887"
             ],
             [
              0.1111111111111111,
              "#46039f"
             ],
             [
              0.2222222222222222,
              "#7201a8"
             ],
             [
              0.3333333333333333,
              "#9c179e"
             ],
             [
              0.4444444444444444,
              "#bd3786"
             ],
             [
              0.5555555555555556,
              "#d8576b"
             ],
             [
              0.6666666666666666,
              "#ed7953"
             ],
             [
              0.7777777777777778,
              "#fb9f3a"
             ],
             [
              0.8888888888888888,
              "#fdca26"
             ],
             [
              1,
              "#f0f921"
             ]
            ],
            "type": "surface"
           }
          ],
          "table": [
           {
            "cells": {
             "fill": {
              "color": "#EBF0F8"
             },
             "line": {
              "color": "white"
             }
            },
            "header": {
             "fill": {
              "color": "#C8D4E3"
             },
             "line": {
              "color": "white"
             }
            },
            "type": "table"
           }
          ]
         },
         "layout": {
          "annotationdefaults": {
           "arrowcolor": "#2a3f5f",
           "arrowhead": 0,
           "arrowwidth": 1
          },
          "autotypenumbers": "strict",
          "coloraxis": {
           "colorbar": {
            "outlinewidth": 0,
            "ticks": ""
           }
          },
          "colorscale": {
           "diverging": [
            [
             0,
             "#8e0152"
            ],
            [
             0.1,
             "#c51b7d"
            ],
            [
             0.2,
             "#de77ae"
            ],
            [
             0.3,
             "#f1b6da"
            ],
            [
             0.4,
             "#fde0ef"
            ],
            [
             0.5,
             "#f7f7f7"
            ],
            [
             0.6,
             "#e6f5d0"
            ],
            [
             0.7,
             "#b8e186"
            ],
            [
             0.8,
             "#7fbc41"
            ],
            [
             0.9,
             "#4d9221"
            ],
            [
             1,
             "#276419"
            ]
           ],
           "sequential": [
            [
             0,
             "#0d0887"
            ],
            [
             0.1111111111111111,
             "#46039f"
            ],
            [
             0.2222222222222222,
             "#7201a8"
            ],
            [
             0.3333333333333333,
             "#9c179e"
            ],
            [
             0.4444444444444444,
             "#bd3786"
            ],
            [
             0.5555555555555556,
             "#d8576b"
            ],
            [
             0.6666666666666666,
             "#ed7953"
            ],
            [
             0.7777777777777778,
             "#fb9f3a"
            ],
            [
             0.8888888888888888,
             "#fdca26"
            ],
            [
             1,
             "#f0f921"
            ]
           ],
           "sequentialminus": [
            [
             0,
             "#0d0887"
            ],
            [
             0.1111111111111111,
             "#46039f"
            ],
            [
             0.2222222222222222,
             "#7201a8"
            ],
            [
             0.3333333333333333,
             "#9c179e"
            ],
            [
             0.4444444444444444,
             "#bd3786"
            ],
            [
             0.5555555555555556,
             "#d8576b"
            ],
            [
             0.6666666666666666,
             "#ed7953"
            ],
            [
             0.7777777777777778,
             "#fb9f3a"
            ],
            [
             0.8888888888888888,
             "#fdca26"
            ],
            [
             1,
             "#f0f921"
            ]
           ]
          },
          "colorway": [
           "#636efa",
           "#EF553B",
           "#00cc96",
           "#ab63fa",
           "#FFA15A",
           "#19d3f3",
           "#FF6692",
           "#B6E880",
           "#FF97FF",
           "#FECB52"
          ],
          "font": {
           "color": "#2a3f5f"
          },
          "geo": {
           "bgcolor": "white",
           "lakecolor": "white",
           "landcolor": "#E5ECF6",
           "showlakes": true,
           "showland": true,
           "subunitcolor": "white"
          },
          "hoverlabel": {
           "align": "left"
          },
          "hovermode": "closest",
          "mapbox": {
           "style": "light"
          },
          "paper_bgcolor": "white",
          "plot_bgcolor": "#E5ECF6",
          "polar": {
           "angularaxis": {
            "gridcolor": "white",
            "linecolor": "white",
            "ticks": ""
           },
           "bgcolor": "#E5ECF6",
           "radialaxis": {
            "gridcolor": "white",
            "linecolor": "white",
            "ticks": ""
           }
          },
          "scene": {
           "xaxis": {
            "backgroundcolor": "#E5ECF6",
            "gridcolor": "white",
            "gridwidth": 2,
            "linecolor": "white",
            "showbackground": true,
            "ticks": "",
            "zerolinecolor": "white"
           },
           "yaxis": {
            "backgroundcolor": "#E5ECF6",
            "gridcolor": "white",
            "gridwidth": 2,
            "linecolor": "white",
            "showbackground": true,
            "ticks": "",
            "zerolinecolor": "white"
           },
           "zaxis": {
            "backgroundcolor": "#E5ECF6",
            "gridcolor": "white",
            "gridwidth": 2,
            "linecolor": "white",
            "showbackground": true,
            "ticks": "",
            "zerolinecolor": "white"
           }
          },
          "shapedefaults": {
           "line": {
            "color": "#2a3f5f"
           }
          },
          "ternary": {
           "aaxis": {
            "gridcolor": "white",
            "linecolor": "white",
            "ticks": ""
           },
           "baxis": {
            "gridcolor": "white",
            "linecolor": "white",
            "ticks": ""
           },
           "bgcolor": "#E5ECF6",
           "caxis": {
            "gridcolor": "white",
            "linecolor": "white",
            "ticks": ""
           }
          },
          "title": {
           "x": 0.05
          },
          "xaxis": {
           "automargin": true,
           "gridcolor": "white",
           "linecolor": "white",
           "ticks": "",
           "title": {
            "standoff": 15
           },
           "zerolinecolor": "white",
           "zerolinewidth": 2
          },
          "yaxis": {
           "automargin": true,
           "gridcolor": "white",
           "linecolor": "white",
           "ticks": "",
           "title": {
            "standoff": 15
           },
           "zerolinecolor": "white",
           "zerolinewidth": 2
          }
         }
        },
        "title": {
         "text": "Execution time distrubution for Intersection ",
         "x": 0.5
        },
        "xaxis": {
         "title": {
          "text": "Execution time (%)"
         }
        },
        "yaxis": {
         "title": {
          "text": "Context + Geometry Size)"
         }
        }
       }
      }
     },
     "metadata": {},
     "output_type": "display_data"
    },
    {
     "data": {
      "application/vnd.plotly.v1+json": {
       "config": {
        "plotlyServerURL": "https://plot.ly"
       },
       "data": [
        {
         "name": "Decompression stage",
         "orientation": "h",
         "type": "bar",
         "x": [
          33.65142105694213,
          68.83723313872451,
          59.38187732900757,
          96.28206710656148,
          78.74303899364325,
          84.7247003271891,
          56.46012004365679,
          88.60535649076736,
          76.55326638813375,
          89.95243275065198,
          78.32569776292333,
          88.69011547209959,
          60.63552236475609,
          86.66889852634883,
          74.78317741791777
         ],
         "y": [
          [
           "Bbox_Inside_Other (TRUE)",
           "Bbox_Inside_Other (TRUE)",
           "Bbox_Inside_Other (TRUE)",
           "Bbox_Overlap (FALSE)",
           "Bbox_Overlap (FALSE)",
           "Bbox_Overlap (FALSE)",
           "Bbox_Overlap (FALSE)",
           "Bbox_Overlap (FALSE)",
           "Bbox_Overlap (FALSE)",
           "Bbox_Partial_Overlap (TRUE)",
           "Bbox_Partial_Overlap (TRUE)",
           "Bbox_Partial_Overlap (TRUE)",
           "Bbox_Partial_Overlap (TRUE)",
           "Bbox_Partial_Overlap (TRUE)",
           "Bbox_Partial_Overlap (TRUE)"
          ],
          [
           "Small",
           "Small_Large_Mixed",
           "Small_Medium_Mixed",
           "Large",
           "Medium",
           "Medium_Large_Mixed",
           "Small",
           "Small_Large_Mixed",
           "Small_Medium_Mixed",
           "Large",
           "Medium",
           "Medium_Large_Mixed",
           "Small",
           "Small_Large_Mixed",
           "Small_Medium_Mixed"
          ]
         ]
        },
        {
         "name": "IsIntersection",
         "orientation": "h",
         "type": "bar",
         "x": [
          66.34857894305787,
          31.162766861275486,
          40.61812267099243,
          3.7179328934385074,
          21.256961006356743,
          15.275299672810888,
          43.53987995634321,
          11.394643509232628,
          23.446733611866254,
          10.047567249348011,
          21.674302237076667,
          11.309884527900408,
          39.36447763524391,
          13.33110147365117,
          25.216822582082234
         ],
         "y": [
          [
           "Bbox_Inside_Other (TRUE)",
           "Bbox_Inside_Other (TRUE)",
           "Bbox_Inside_Other (TRUE)",
           "Bbox_Overlap (FALSE)",
           "Bbox_Overlap (FALSE)",
           "Bbox_Overlap (FALSE)",
           "Bbox_Overlap (FALSE)",
           "Bbox_Overlap (FALSE)",
           "Bbox_Overlap (FALSE)",
           "Bbox_Partial_Overlap (TRUE)",
           "Bbox_Partial_Overlap (TRUE)",
           "Bbox_Partial_Overlap (TRUE)",
           "Bbox_Partial_Overlap (TRUE)",
           "Bbox_Partial_Overlap (TRUE)",
           "Bbox_Partial_Overlap (TRUE)"
          ],
          [
           "Small",
           "Small_Large_Mixed",
           "Small_Medium_Mixed",
           "Large",
           "Medium",
           "Medium_Large_Mixed",
           "Small",
           "Small_Large_Mixed",
           "Small_Medium_Mixed",
           "Large",
           "Medium",
           "Medium_Large_Mixed",
           "Small",
           "Small_Large_Mixed",
           "Small_Medium_Mixed"
          ]
         ]
        }
       ],
       "layout": {
        "barmode": "relative",
        "legend": {
         "x": 0.997,
         "xanchor": "right",
         "y": 1.2,
         "yanchor": "top"
        },
        "template": {
         "data": {
          "bar": [
           {
            "error_x": {
             "color": "#2a3f5f"
            },
            "error_y": {
             "color": "#2a3f5f"
            },
            "marker": {
             "line": {
              "color": "#E5ECF6",
              "width": 0.5
             },
             "pattern": {
              "fillmode": "overlay",
              "size": 10,
              "solidity": 0.2
             }
            },
            "type": "bar"
           }
          ],
          "barpolar": [
           {
            "marker": {
             "line": {
              "color": "#E5ECF6",
              "width": 0.5
             },
             "pattern": {
              "fillmode": "overlay",
              "size": 10,
              "solidity": 0.2
             }
            },
            "type": "barpolar"
           }
          ],
          "carpet": [
           {
            "aaxis": {
             "endlinecolor": "#2a3f5f",
             "gridcolor": "white",
             "linecolor": "white",
             "minorgridcolor": "white",
             "startlinecolor": "#2a3f5f"
            },
            "baxis": {
             "endlinecolor": "#2a3f5f",
             "gridcolor": "white",
             "linecolor": "white",
             "minorgridcolor": "white",
             "startlinecolor": "#2a3f5f"
            },
            "type": "carpet"
           }
          ],
          "choropleth": [
           {
            "colorbar": {
             "outlinewidth": 0,
             "ticks": ""
            },
            "type": "choropleth"
           }
          ],
          "contour": [
           {
            "colorbar": {
             "outlinewidth": 0,
             "ticks": ""
            },
            "colorscale": [
             [
              0,
              "#0d0887"
             ],
             [
              0.1111111111111111,
              "#46039f"
             ],
             [
              0.2222222222222222,
              "#7201a8"
             ],
             [
              0.3333333333333333,
              "#9c179e"
             ],
             [
              0.4444444444444444,
              "#bd3786"
             ],
             [
              0.5555555555555556,
              "#d8576b"
             ],
             [
              0.6666666666666666,
              "#ed7953"
             ],
             [
              0.7777777777777778,
              "#fb9f3a"
             ],
             [
              0.8888888888888888,
              "#fdca26"
             ],
             [
              1,
              "#f0f921"
             ]
            ],
            "type": "contour"
           }
          ],
          "contourcarpet": [
           {
            "colorbar": {
             "outlinewidth": 0,
             "ticks": ""
            },
            "type": "contourcarpet"
           }
          ],
          "heatmap": [
           {
            "colorbar": {
             "outlinewidth": 0,
             "ticks": ""
            },
            "colorscale": [
             [
              0,
              "#0d0887"
             ],
             [
              0.1111111111111111,
              "#46039f"
             ],
             [
              0.2222222222222222,
              "#7201a8"
             ],
             [
              0.3333333333333333,
              "#9c179e"
             ],
             [
              0.4444444444444444,
              "#bd3786"
             ],
             [
              0.5555555555555556,
              "#d8576b"
             ],
             [
              0.6666666666666666,
              "#ed7953"
             ],
             [
              0.7777777777777778,
              "#fb9f3a"
             ],
             [
              0.8888888888888888,
              "#fdca26"
             ],
             [
              1,
              "#f0f921"
             ]
            ],
            "type": "heatmap"
           }
          ],
          "heatmapgl": [
           {
            "colorbar": {
             "outlinewidth": 0,
             "ticks": ""
            },
            "colorscale": [
             [
              0,
              "#0d0887"
             ],
             [
              0.1111111111111111,
              "#46039f"
             ],
             [
              0.2222222222222222,
              "#7201a8"
             ],
             [
              0.3333333333333333,
              "#9c179e"
             ],
             [
              0.4444444444444444,
              "#bd3786"
             ],
             [
              0.5555555555555556,
              "#d8576b"
             ],
             [
              0.6666666666666666,
              "#ed7953"
             ],
             [
              0.7777777777777778,
              "#fb9f3a"
             ],
             [
              0.8888888888888888,
              "#fdca26"
             ],
             [
              1,
              "#f0f921"
             ]
            ],
            "type": "heatmapgl"
           }
          ],
          "histogram": [
           {
            "marker": {
             "pattern": {
              "fillmode": "overlay",
              "size": 10,
              "solidity": 0.2
             }
            },
            "type": "histogram"
           }
          ],
          "histogram2d": [
           {
            "colorbar": {
             "outlinewidth": 0,
             "ticks": ""
            },
            "colorscale": [
             [
              0,
              "#0d0887"
             ],
             [
              0.1111111111111111,
              "#46039f"
             ],
             [
              0.2222222222222222,
              "#7201a8"
             ],
             [
              0.3333333333333333,
              "#9c179e"
             ],
             [
              0.4444444444444444,
              "#bd3786"
             ],
             [
              0.5555555555555556,
              "#d8576b"
             ],
             [
              0.6666666666666666,
              "#ed7953"
             ],
             [
              0.7777777777777778,
              "#fb9f3a"
             ],
             [
              0.8888888888888888,
              "#fdca26"
             ],
             [
              1,
              "#f0f921"
             ]
            ],
            "type": "histogram2d"
           }
          ],
          "histogram2dcontour": [
           {
            "colorbar": {
             "outlinewidth": 0,
             "ticks": ""
            },
            "colorscale": [
             [
              0,
              "#0d0887"
             ],
             [
              0.1111111111111111,
              "#46039f"
             ],
             [
              0.2222222222222222,
              "#7201a8"
             ],
             [
              0.3333333333333333,
              "#9c179e"
             ],
             [
              0.4444444444444444,
              "#bd3786"
             ],
             [
              0.5555555555555556,
              "#d8576b"
             ],
             [
              0.6666666666666666,
              "#ed7953"
             ],
             [
              0.7777777777777778,
              "#fb9f3a"
             ],
             [
              0.8888888888888888,
              "#fdca26"
             ],
             [
              1,
              "#f0f921"
             ]
            ],
            "type": "histogram2dcontour"
           }
          ],
          "mesh3d": [
           {
            "colorbar": {
             "outlinewidth": 0,
             "ticks": ""
            },
            "type": "mesh3d"
           }
          ],
          "parcoords": [
           {
            "line": {
             "colorbar": {
              "outlinewidth": 0,
              "ticks": ""
             }
            },
            "type": "parcoords"
           }
          ],
          "pie": [
           {
            "automargin": true,
            "type": "pie"
           }
          ],
          "scatter": [
           {
            "fillpattern": {
             "fillmode": "overlay",
             "size": 10,
             "solidity": 0.2
            },
            "type": "scatter"
           }
          ],
          "scatter3d": [
           {
            "line": {
             "colorbar": {
              "outlinewidth": 0,
              "ticks": ""
             }
            },
            "marker": {
             "colorbar": {
              "outlinewidth": 0,
              "ticks": ""
             }
            },
            "type": "scatter3d"
           }
          ],
          "scattercarpet": [
           {
            "marker": {
             "colorbar": {
              "outlinewidth": 0,
              "ticks": ""
             }
            },
            "type": "scattercarpet"
           }
          ],
          "scattergeo": [
           {
            "marker": {
             "colorbar": {
              "outlinewidth": 0,
              "ticks": ""
             }
            },
            "type": "scattergeo"
           }
          ],
          "scattergl": [
           {
            "marker": {
             "colorbar": {
              "outlinewidth": 0,
              "ticks": ""
             }
            },
            "type": "scattergl"
           }
          ],
          "scattermapbox": [
           {
            "marker": {
             "colorbar": {
              "outlinewidth": 0,
              "ticks": ""
             }
            },
            "type": "scattermapbox"
           }
          ],
          "scatterpolar": [
           {
            "marker": {
             "colorbar": {
              "outlinewidth": 0,
              "ticks": ""
             }
            },
            "type": "scatterpolar"
           }
          ],
          "scatterpolargl": [
           {
            "marker": {
             "colorbar": {
              "outlinewidth": 0,
              "ticks": ""
             }
            },
            "type": "scatterpolargl"
           }
          ],
          "scatterternary": [
           {
            "marker": {
             "colorbar": {
              "outlinewidth": 0,
              "ticks": ""
             }
            },
            "type": "scatterternary"
           }
          ],
          "surface": [
           {
            "colorbar": {
             "outlinewidth": 0,
             "ticks": ""
            },
            "colorscale": [
             [
              0,
              "#0d0887"
             ],
             [
              0.1111111111111111,
              "#46039f"
             ],
             [
              0.2222222222222222,
              "#7201a8"
             ],
             [
              0.3333333333333333,
              "#9c179e"
             ],
             [
              0.4444444444444444,
              "#bd3786"
             ],
             [
              0.5555555555555556,
              "#d8576b"
             ],
             [
              0.6666666666666666,
              "#ed7953"
             ],
             [
              0.7777777777777778,
              "#fb9f3a"
             ],
             [
              0.8888888888888888,
              "#fdca26"
             ],
             [
              1,
              "#f0f921"
             ]
            ],
            "type": "surface"
           }
          ],
          "table": [
           {
            "cells": {
             "fill": {
              "color": "#EBF0F8"
             },
             "line": {
              "color": "white"
             }
            },
            "header": {
             "fill": {
              "color": "#C8D4E3"
             },
             "line": {
              "color": "white"
             }
            },
            "type": "table"
           }
          ]
         },
         "layout": {
          "annotationdefaults": {
           "arrowcolor": "#2a3f5f",
           "arrowhead": 0,
           "arrowwidth": 1
          },
          "autotypenumbers": "strict",
          "coloraxis": {
           "colorbar": {
            "outlinewidth": 0,
            "ticks": ""
           }
          },
          "colorscale": {
           "diverging": [
            [
             0,
             "#8e0152"
            ],
            [
             0.1,
             "#c51b7d"
            ],
            [
             0.2,
             "#de77ae"
            ],
            [
             0.3,
             "#f1b6da"
            ],
            [
             0.4,
             "#fde0ef"
            ],
            [
             0.5,
             "#f7f7f7"
            ],
            [
             0.6,
             "#e6f5d0"
            ],
            [
             0.7,
             "#b8e186"
            ],
            [
             0.8,
             "#7fbc41"
            ],
            [
             0.9,
             "#4d9221"
            ],
            [
             1,
             "#276419"
            ]
           ],
           "sequential": [
            [
             0,
             "#0d0887"
            ],
            [
             0.1111111111111111,
             "#46039f"
            ],
            [
             0.2222222222222222,
             "#7201a8"
            ],
            [
             0.3333333333333333,
             "#9c179e"
            ],
            [
             0.4444444444444444,
             "#bd3786"
            ],
            [
             0.5555555555555556,
             "#d8576b"
            ],
            [
             0.6666666666666666,
             "#ed7953"
            ],
            [
             0.7777777777777778,
             "#fb9f3a"
            ],
            [
             0.8888888888888888,
             "#fdca26"
            ],
            [
             1,
             "#f0f921"
            ]
           ],
           "sequentialminus": [
            [
             0,
             "#0d0887"
            ],
            [
             0.1111111111111111,
             "#46039f"
            ],
            [
             0.2222222222222222,
             "#7201a8"
            ],
            [
             0.3333333333333333,
             "#9c179e"
            ],
            [
             0.4444444444444444,
             "#bd3786"
            ],
            [
             0.5555555555555556,
             "#d8576b"
            ],
            [
             0.6666666666666666,
             "#ed7953"
            ],
            [
             0.7777777777777778,
             "#fb9f3a"
            ],
            [
             0.8888888888888888,
             "#fdca26"
            ],
            [
             1,
             "#f0f921"
            ]
           ]
          },
          "colorway": [
           "#636efa",
           "#EF553B",
           "#00cc96",
           "#ab63fa",
           "#FFA15A",
           "#19d3f3",
           "#FF6692",
           "#B6E880",
           "#FF97FF",
           "#FECB52"
          ],
          "font": {
           "color": "#2a3f5f"
          },
          "geo": {
           "bgcolor": "white",
           "lakecolor": "white",
           "landcolor": "#E5ECF6",
           "showlakes": true,
           "showland": true,
           "subunitcolor": "white"
          },
          "hoverlabel": {
           "align": "left"
          },
          "hovermode": "closest",
          "mapbox": {
           "style": "light"
          },
          "paper_bgcolor": "white",
          "plot_bgcolor": "#E5ECF6",
          "polar": {
           "angularaxis": {
            "gridcolor": "white",
            "linecolor": "white",
            "ticks": ""
           },
           "bgcolor": "#E5ECF6",
           "radialaxis": {
            "gridcolor": "white",
            "linecolor": "white",
            "ticks": ""
           }
          },
          "scene": {
           "xaxis": {
            "backgroundcolor": "#E5ECF6",
            "gridcolor": "white",
            "gridwidth": 2,
            "linecolor": "white",
            "showbackground": true,
            "ticks": "",
            "zerolinecolor": "white"
           },
           "yaxis": {
            "backgroundcolor": "#E5ECF6",
            "gridcolor": "white",
            "gridwidth": 2,
            "linecolor": "white",
            "showbackground": true,
            "ticks": "",
            "zerolinecolor": "white"
           },
           "zaxis": {
            "backgroundcolor": "#E5ECF6",
            "gridcolor": "white",
            "gridwidth": 2,
            "linecolor": "white",
            "showbackground": true,
            "ticks": "",
            "zerolinecolor": "white"
           }
          },
          "shapedefaults": {
           "line": {
            "color": "#2a3f5f"
           }
          },
          "ternary": {
           "aaxis": {
            "gridcolor": "white",
            "linecolor": "white",
            "ticks": ""
           },
           "baxis": {
            "gridcolor": "white",
            "linecolor": "white",
            "ticks": ""
           },
           "bgcolor": "#E5ECF6",
           "caxis": {
            "gridcolor": "white",
            "linecolor": "white",
            "ticks": ""
           }
          },
          "title": {
           "x": 0.05
          },
          "xaxis": {
           "automargin": true,
           "gridcolor": "white",
           "linecolor": "white",
           "ticks": "",
           "title": {
            "standoff": 15
           },
           "zerolinecolor": "white",
           "zerolinewidth": 2
          },
          "yaxis": {
           "automargin": true,
           "gridcolor": "white",
           "linecolor": "white",
           "ticks": "",
           "title": {
            "standoff": 15
           },
           "zerolinecolor": "white",
           "zerolinewidth": 2
          }
         }
        },
        "title": {
         "text": "Execution time distrubution for IsIntersection (BASELINE)",
         "x": 0.5
        },
        "xaxis": {
         "title": {
          "text": "Execution time (%)"
         }
        },
        "yaxis": {
         "title": {
          "text": "Context + Geometry Size)"
         }
        }
       }
      }
     },
     "metadata": {},
     "output_type": "display_data"
    },
    {
     "data": {
      "application/vnd.plotly.v1+json": {
       "config": {
        "plotlyServerURL": "https://plot.ly"
       },
       "data": [
        {
         "name": "Decompression stage",
         "orientation": "h",
         "type": "bar",
         "x": [
          27.83824921230913,
          40.42605300969996,
          34.81340968194874,
          77.25336548225914,
          55.4684815190514,
          59.69587471541815,
          49.43190858532204,
          60.064582308770234,
          52.01628139260502,
          65.83503980483748,
          57.8745199339991,
          61.11823327940556,
          51.89405726000161,
          60.646424956480445,
          56.16102621250717
         ],
         "y": [
          [
           "Bbox_Inside_Other (TRUE)",
           "Bbox_Inside_Other (TRUE)",
           "Bbox_Inside_Other (TRUE)",
           "Bbox_Overlap (FALSE)",
           "Bbox_Overlap (FALSE)",
           "Bbox_Overlap (FALSE)",
           "Bbox_Overlap (FALSE)",
           "Bbox_Overlap (FALSE)",
           "Bbox_Overlap (FALSE)",
           "Bbox_Partial_Overlap (TRUE)",
           "Bbox_Partial_Overlap (TRUE)",
           "Bbox_Partial_Overlap (TRUE)",
           "Bbox_Partial_Overlap (TRUE)",
           "Bbox_Partial_Overlap (TRUE)",
           "Bbox_Partial_Overlap (TRUE)"
          ],
          [
           "Small",
           "Small_Large_Mixed",
           "Small_Medium_Mixed",
           "Large",
           "Medium",
           "Medium_Large_Mixed",
           "Small",
           "Small_Large_Mixed",
           "Small_Medium_Mixed",
           "Large",
           "Medium",
           "Medium_Large_Mixed",
           "Small",
           "Small_Large_Mixed",
           "Small_Medium_Mixed"
          ]
         ]
        },
        {
         "name": "IsIntersection",
         "orientation": "h",
         "type": "bar",
         "x": [
          72.16175078769086,
          59.57394699030004,
          65.18659031805126,
          22.746634517740855,
          44.5315184809486,
          40.30412528458185,
          50.56809141467796,
          39.93541769122976,
          47.98371860739498,
          34.16496019516253,
          42.1254800660009,
          38.88176672059444,
          48.10594273999839,
          39.35357504351955,
          43.83897378749283
         ],
         "y": [
          [
           "Bbox_Inside_Other (TRUE)",
           "Bbox_Inside_Other (TRUE)",
           "Bbox_Inside_Other (TRUE)",
           "Bbox_Overlap (FALSE)",
           "Bbox_Overlap (FALSE)",
           "Bbox_Overlap (FALSE)",
           "Bbox_Overlap (FALSE)",
           "Bbox_Overlap (FALSE)",
           "Bbox_Overlap (FALSE)",
           "Bbox_Partial_Overlap (TRUE)",
           "Bbox_Partial_Overlap (TRUE)",
           "Bbox_Partial_Overlap (TRUE)",
           "Bbox_Partial_Overlap (TRUE)",
           "Bbox_Partial_Overlap (TRUE)",
           "Bbox_Partial_Overlap (TRUE)"
          ],
          [
           "Small",
           "Small_Large_Mixed",
           "Small_Medium_Mixed",
           "Large",
           "Medium",
           "Medium_Large_Mixed",
           "Small",
           "Small_Large_Mixed",
           "Small_Medium_Mixed",
           "Large",
           "Medium",
           "Medium_Large_Mixed",
           "Small",
           "Small_Large_Mixed",
           "Small_Medium_Mixed"
          ]
         ]
        }
       ],
       "layout": {
        "barmode": "relative",
        "legend": {
         "x": 0.997,
         "xanchor": "right",
         "y": 1.2,
         "yanchor": "top"
        },
        "template": {
         "data": {
          "bar": [
           {
            "error_x": {
             "color": "#2a3f5f"
            },
            "error_y": {
             "color": "#2a3f5f"
            },
            "marker": {
             "line": {
              "color": "#E5ECF6",
              "width": 0.5
             },
             "pattern": {
              "fillmode": "overlay",
              "size": 10,
              "solidity": 0.2
             }
            },
            "type": "bar"
           }
          ],
          "barpolar": [
           {
            "marker": {
             "line": {
              "color": "#E5ECF6",
              "width": 0.5
             },
             "pattern": {
              "fillmode": "overlay",
              "size": 10,
              "solidity": 0.2
             }
            },
            "type": "barpolar"
           }
          ],
          "carpet": [
           {
            "aaxis": {
             "endlinecolor": "#2a3f5f",
             "gridcolor": "white",
             "linecolor": "white",
             "minorgridcolor": "white",
             "startlinecolor": "#2a3f5f"
            },
            "baxis": {
             "endlinecolor": "#2a3f5f",
             "gridcolor": "white",
             "linecolor": "white",
             "minorgridcolor": "white",
             "startlinecolor": "#2a3f5f"
            },
            "type": "carpet"
           }
          ],
          "choropleth": [
           {
            "colorbar": {
             "outlinewidth": 0,
             "ticks": ""
            },
            "type": "choropleth"
           }
          ],
          "contour": [
           {
            "colorbar": {
             "outlinewidth": 0,
             "ticks": ""
            },
            "colorscale": [
             [
              0,
              "#0d0887"
             ],
             [
              0.1111111111111111,
              "#46039f"
             ],
             [
              0.2222222222222222,
              "#7201a8"
             ],
             [
              0.3333333333333333,
              "#9c179e"
             ],
             [
              0.4444444444444444,
              "#bd3786"
             ],
             [
              0.5555555555555556,
              "#d8576b"
             ],
             [
              0.6666666666666666,
              "#ed7953"
             ],
             [
              0.7777777777777778,
              "#fb9f3a"
             ],
             [
              0.8888888888888888,
              "#fdca26"
             ],
             [
              1,
              "#f0f921"
             ]
            ],
            "type": "contour"
           }
          ],
          "contourcarpet": [
           {
            "colorbar": {
             "outlinewidth": 0,
             "ticks": ""
            },
            "type": "contourcarpet"
           }
          ],
          "heatmap": [
           {
            "colorbar": {
             "outlinewidth": 0,
             "ticks": ""
            },
            "colorscale": [
             [
              0,
              "#0d0887"
             ],
             [
              0.1111111111111111,
              "#46039f"
             ],
             [
              0.2222222222222222,
              "#7201a8"
             ],
             [
              0.3333333333333333,
              "#9c179e"
             ],
             [
              0.4444444444444444,
              "#bd3786"
             ],
             [
              0.5555555555555556,
              "#d8576b"
             ],
             [
              0.6666666666666666,
              "#ed7953"
             ],
             [
              0.7777777777777778,
              "#fb9f3a"
             ],
             [
              0.8888888888888888,
              "#fdca26"
             ],
             [
              1,
              "#f0f921"
             ]
            ],
            "type": "heatmap"
           }
          ],
          "heatmapgl": [
           {
            "colorbar": {
             "outlinewidth": 0,
             "ticks": ""
            },
            "colorscale": [
             [
              0,
              "#0d0887"
             ],
             [
              0.1111111111111111,
              "#46039f"
             ],
             [
              0.2222222222222222,
              "#7201a8"
             ],
             [
              0.3333333333333333,
              "#9c179e"
             ],
             [
              0.4444444444444444,
              "#bd3786"
             ],
             [
              0.5555555555555556,
              "#d8576b"
             ],
             [
              0.6666666666666666,
              "#ed7953"
             ],
             [
              0.7777777777777778,
              "#fb9f3a"
             ],
             [
              0.8888888888888888,
              "#fdca26"
             ],
             [
              1,
              "#f0f921"
             ]
            ],
            "type": "heatmapgl"
           }
          ],
          "histogram": [
           {
            "marker": {
             "pattern": {
              "fillmode": "overlay",
              "size": 10,
              "solidity": 0.2
             }
            },
            "type": "histogram"
           }
          ],
          "histogram2d": [
           {
            "colorbar": {
             "outlinewidth": 0,
             "ticks": ""
            },
            "colorscale": [
             [
              0,
              "#0d0887"
             ],
             [
              0.1111111111111111,
              "#46039f"
             ],
             [
              0.2222222222222222,
              "#7201a8"
             ],
             [
              0.3333333333333333,
              "#9c179e"
             ],
             [
              0.4444444444444444,
              "#bd3786"
             ],
             [
              0.5555555555555556,
              "#d8576b"
             ],
             [
              0.6666666666666666,
              "#ed7953"
             ],
             [
              0.7777777777777778,
              "#fb9f3a"
             ],
             [
              0.8888888888888888,
              "#fdca26"
             ],
             [
              1,
              "#f0f921"
             ]
            ],
            "type": "histogram2d"
           }
          ],
          "histogram2dcontour": [
           {
            "colorbar": {
             "outlinewidth": 0,
             "ticks": ""
            },
            "colorscale": [
             [
              0,
              "#0d0887"
             ],
             [
              0.1111111111111111,
              "#46039f"
             ],
             [
              0.2222222222222222,
              "#7201a8"
             ],
             [
              0.3333333333333333,
              "#9c179e"
             ],
             [
              0.4444444444444444,
              "#bd3786"
             ],
             [
              0.5555555555555556,
              "#d8576b"
             ],
             [
              0.6666666666666666,
              "#ed7953"
             ],
             [
              0.7777777777777778,
              "#fb9f3a"
             ],
             [
              0.8888888888888888,
              "#fdca26"
             ],
             [
              1,
              "#f0f921"
             ]
            ],
            "type": "histogram2dcontour"
           }
          ],
          "mesh3d": [
           {
            "colorbar": {
             "outlinewidth": 0,
             "ticks": ""
            },
            "type": "mesh3d"
           }
          ],
          "parcoords": [
           {
            "line": {
             "colorbar": {
              "outlinewidth": 0,
              "ticks": ""
             }
            },
            "type": "parcoords"
           }
          ],
          "pie": [
           {
            "automargin": true,
            "type": "pie"
           }
          ],
          "scatter": [
           {
            "fillpattern": {
             "fillmode": "overlay",
             "size": 10,
             "solidity": 0.2
            },
            "type": "scatter"
           }
          ],
          "scatter3d": [
           {
            "line": {
             "colorbar": {
              "outlinewidth": 0,
              "ticks": ""
             }
            },
            "marker": {
             "colorbar": {
              "outlinewidth": 0,
              "ticks": ""
             }
            },
            "type": "scatter3d"
           }
          ],
          "scattercarpet": [
           {
            "marker": {
             "colorbar": {
              "outlinewidth": 0,
              "ticks": ""
             }
            },
            "type": "scattercarpet"
           }
          ],
          "scattergeo": [
           {
            "marker": {
             "colorbar": {
              "outlinewidth": 0,
              "ticks": ""
             }
            },
            "type": "scattergeo"
           }
          ],
          "scattergl": [
           {
            "marker": {
             "colorbar": {
              "outlinewidth": 0,
              "ticks": ""
             }
            },
            "type": "scattergl"
           }
          ],
          "scattermapbox": [
           {
            "marker": {
             "colorbar": {
              "outlinewidth": 0,
              "ticks": ""
             }
            },
            "type": "scattermapbox"
           }
          ],
          "scatterpolar": [
           {
            "marker": {
             "colorbar": {
              "outlinewidth": 0,
              "ticks": ""
             }
            },
            "type": "scatterpolar"
           }
          ],
          "scatterpolargl": [
           {
            "marker": {
             "colorbar": {
              "outlinewidth": 0,
              "ticks": ""
             }
            },
            "type": "scatterpolargl"
           }
          ],
          "scatterternary": [
           {
            "marker": {
             "colorbar": {
              "outlinewidth": 0,
              "ticks": ""
             }
            },
            "type": "scatterternary"
           }
          ],
          "surface": [
           {
            "colorbar": {
             "outlinewidth": 0,
             "ticks": ""
            },
            "colorscale": [
             [
              0,
              "#0d0887"
             ],
             [
              0.1111111111111111,
              "#46039f"
             ],
             [
              0.2222222222222222,
              "#7201a8"
             ],
             [
              0.3333333333333333,
              "#9c179e"
             ],
             [
              0.4444444444444444,
              "#bd3786"
             ],
             [
              0.5555555555555556,
              "#d8576b"
             ],
             [
              0.6666666666666666,
              "#ed7953"
             ],
             [
              0.7777777777777778,
              "#fb9f3a"
             ],
             [
              0.8888888888888888,
              "#fdca26"
             ],
             [
              1,
              "#f0f921"
             ]
            ],
            "type": "surface"
           }
          ],
          "table": [
           {
            "cells": {
             "fill": {
              "color": "#EBF0F8"
             },
             "line": {
              "color": "white"
             }
            },
            "header": {
             "fill": {
              "color": "#C8D4E3"
             },
             "line": {
              "color": "white"
             }
            },
            "type": "table"
           }
          ]
         },
         "layout": {
          "annotationdefaults": {
           "arrowcolor": "#2a3f5f",
           "arrowhead": 0,
           "arrowwidth": 1
          },
          "autotypenumbers": "strict",
          "coloraxis": {
           "colorbar": {
            "outlinewidth": 0,
            "ticks": ""
           }
          },
          "colorscale": {
           "diverging": [
            [
             0,
             "#8e0152"
            ],
            [
             0.1,
             "#c51b7d"
            ],
            [
             0.2,
             "#de77ae"
            ],
            [
             0.3,
             "#f1b6da"
            ],
            [
             0.4,
             "#fde0ef"
            ],
            [
             0.5,
             "#f7f7f7"
            ],
            [
             0.6,
             "#e6f5d0"
            ],
            [
             0.7,
             "#b8e186"
            ],
            [
             0.8,
             "#7fbc41"
            ],
            [
             0.9,
             "#4d9221"
            ],
            [
             1,
             "#276419"
            ]
           ],
           "sequential": [
            [
             0,
             "#0d0887"
            ],
            [
             0.1111111111111111,
             "#46039f"
            ],
            [
             0.2222222222222222,
             "#7201a8"
            ],
            [
             0.3333333333333333,
             "#9c179e"
            ],
            [
             0.4444444444444444,
             "#bd3786"
            ],
            [
             0.5555555555555556,
             "#d8576b"
            ],
            [
             0.6666666666666666,
             "#ed7953"
            ],
            [
             0.7777777777777778,
             "#fb9f3a"
            ],
            [
             0.8888888888888888,
             "#fdca26"
            ],
            [
             1,
             "#f0f921"
            ]
           ],
           "sequentialminus": [
            [
             0,
             "#0d0887"
            ],
            [
             0.1111111111111111,
             "#46039f"
            ],
            [
             0.2222222222222222,
             "#7201a8"
            ],
            [
             0.3333333333333333,
             "#9c179e"
            ],
            [
             0.4444444444444444,
             "#bd3786"
            ],
            [
             0.5555555555555556,
             "#d8576b"
            ],
            [
             0.6666666666666666,
             "#ed7953"
            ],
            [
             0.7777777777777778,
             "#fb9f3a"
            ],
            [
             0.8888888888888888,
             "#fdca26"
            ],
            [
             1,
             "#f0f921"
            ]
           ]
          },
          "colorway": [
           "#636efa",
           "#EF553B",
           "#00cc96",
           "#ab63fa",
           "#FFA15A",
           "#19d3f3",
           "#FF6692",
           "#B6E880",
           "#FF97FF",
           "#FECB52"
          ],
          "font": {
           "color": "#2a3f5f"
          },
          "geo": {
           "bgcolor": "white",
           "lakecolor": "white",
           "landcolor": "#E5ECF6",
           "showlakes": true,
           "showland": true,
           "subunitcolor": "white"
          },
          "hoverlabel": {
           "align": "left"
          },
          "hovermode": "closest",
          "mapbox": {
           "style": "light"
          },
          "paper_bgcolor": "white",
          "plot_bgcolor": "#E5ECF6",
          "polar": {
           "angularaxis": {
            "gridcolor": "white",
            "linecolor": "white",
            "ticks": ""
           },
           "bgcolor": "#E5ECF6",
           "radialaxis": {
            "gridcolor": "white",
            "linecolor": "white",
            "ticks": ""
           }
          },
          "scene": {
           "xaxis": {
            "backgroundcolor": "#E5ECF6",
            "gridcolor": "white",
            "gridwidth": 2,
            "linecolor": "white",
            "showbackground": true,
            "ticks": "",
            "zerolinecolor": "white"
           },
           "yaxis": {
            "backgroundcolor": "#E5ECF6",
            "gridcolor": "white",
            "gridwidth": 2,
            "linecolor": "white",
            "showbackground": true,
            "ticks": "",
            "zerolinecolor": "white"
           },
           "zaxis": {
            "backgroundcolor": "#E5ECF6",
            "gridcolor": "white",
            "gridwidth": 2,
            "linecolor": "white",
            "showbackground": true,
            "ticks": "",
            "zerolinecolor": "white"
           }
          },
          "shapedefaults": {
           "line": {
            "color": "#2a3f5f"
           }
          },
          "ternary": {
           "aaxis": {
            "gridcolor": "white",
            "linecolor": "white",
            "ticks": ""
           },
           "baxis": {
            "gridcolor": "white",
            "linecolor": "white",
            "ticks": ""
           },
           "bgcolor": "#E5ECF6",
           "caxis": {
            "gridcolor": "white",
            "linecolor": "white",
            "ticks": ""
           }
          },
          "title": {
           "x": 0.05
          },
          "xaxis": {
           "automargin": true,
           "gridcolor": "white",
           "linecolor": "white",
           "ticks": "",
           "title": {
            "standoff": 15
           },
           "zerolinecolor": "white",
           "zerolinewidth": 2
          },
          "yaxis": {
           "automargin": true,
           "gridcolor": "white",
           "linecolor": "white",
           "ticks": "",
           "title": {
            "standoff": 15
           },
           "zerolinecolor": "white",
           "zerolinewidth": 2
          }
         }
        },
        "title": {
         "text": "Execution time distrubution for IsIntersection ",
         "x": 0.5
        },
        "xaxis": {
         "title": {
          "text": "Execution time (%)"
         }
        },
        "yaxis": {
         "title": {
          "text": "Context + Geometry Size)"
         }
        }
       }
      }
     },
     "metadata": {},
     "output_type": "display_data"
    }
   ],
   "source": [
    "\n",
    "plot_partial_decomp_frac(partial_frac_df, is_predicate=False, is_baseline=True)\n",
    "plot_partial_decomp_frac(partial_frac_df, is_predicate=False, is_baseline=False)\n",
    "plot_partial_decomp_frac(partial_frac_df, is_predicate=True, is_baseline=True)\n",
    "plot_partial_decomp_frac(partial_frac_df, is_predicate=True, is_baseline=False)"
   ]
  },
  {
   "attachments": {},
   "cell_type": "markdown",
   "metadata": {},
   "source": [
    "#### MAX_NBR_DELTAS Analysis"
   ]
  },
  {
   "cell_type": "code",
   "execution_count": 17,
   "metadata": {},
   "outputs": [
    {
     "data": {
      "application/vnd.plotly.v1+json": {
       "config": {
        "plotlyServerURL": "https://plot.ly"
       },
       "data": [
        {
         "mode": "lines",
         "name": "Large(Baseline)",
         "type": "scatter",
         "x": [
          0,
          1,
          2,
          3
         ],
         "xaxis": "x",
         "y": [
          0.021383500000414876,
          0.014260703080056353,
          0.011227909906487416,
          0.013381535446945023
         ],
         "yaxis": "y"
        },
        {
         "mode": "lines",
         "name": "Large",
         "type": "scatter",
         "x": [
          0,
          1,
          2,
          3
         ],
         "xaxis": "x",
         "y": [
          0.013960850872953937,
          0.006817593072179428,
          0.005475284515055233,
          0.005084251000315565
         ],
         "yaxis": "y"
        },
        {
         "mode": "lines",
         "name": "Medium(Baseline)",
         "type": "scatter",
         "x": [
          0,
          1,
          2,
          3
         ],
         "xaxis": "x2",
         "y": [
          0.002028649187263067,
          0.001611880554399384,
          0.0015364692210116321,
          0.001579373111275749
         ],
         "yaxis": "y2"
        },
        {
         "mode": "lines",
         "name": "Medium",
         "type": "scatter",
         "x": [
          0,
          1,
          2,
          3
         ],
         "xaxis": "x2",
         "y": [
          0.001718578666677112,
          0.0012084416682935422,
          0.0018742466674194912,
          0.0011239263700122978
         ],
         "yaxis": "y2"
        },
        {
         "mode": "lines",
         "name": "Medium_Large_Mixed(Baseline)",
         "type": "scatter",
         "x": [
          0,
          1,
          2,
          3
         ],
         "xaxis": "x3",
         "y": [
          0.0025008846754644765,
          0.0021924234129983232,
          0.0022656883249510427,
          0.002353864288670593
         ],
         "yaxis": "y3"
        },
        {
         "mode": "lines",
         "name": "Medium_Large_Mixed",
         "type": "scatter",
         "x": [
          0,
          1,
          2,
          3
         ],
         "xaxis": "x3",
         "y": [
          0.0012742946128128096,
          0.0008085143874268397,
          0.0009828908505369327,
          0.0008796773498033871
         ],
         "yaxis": "y3"
        },
        {
         "mode": "lines",
         "name": "Small(Baseline)",
         "type": "scatter",
         "x": [
          0,
          1,
          2,
          3
         ],
         "xaxis": "x4",
         "y": [
          0.0008455945295281708,
          0.0007079944497330443,
          0.0007697876384447548,
          0.0008282756648601635
         ],
         "yaxis": "y4"
        },
        {
         "mode": "lines",
         "name": "Small",
         "type": "scatter",
         "x": [
          0,
          1,
          2,
          3
         ],
         "xaxis": "x4",
         "y": [
          0.0008666743145594784,
          0.000684660165108439,
          0.0009271462768939433,
          0.0008621487469474018
         ],
         "yaxis": "y4"
        },
        {
         "mode": "lines",
         "name": "Small_Large_Mixed(Baseline)",
         "type": "scatter",
         "x": [
          0,
          1,
          2,
          3
         ],
         "xaxis": "x5",
         "y": [
          0.0022581729414241636,
          0.002044220652749118,
          0.0022196870592097184,
          0.0021147068282516557
         ],
         "yaxis": "y5"
        },
        {
         "mode": "lines",
         "name": "Small_Large_Mixed",
         "type": "scatter",
         "x": [
          0,
          1,
          2,
          3
         ],
         "xaxis": "x5",
         "y": [
          0.0012500836326694298,
          0.0007996087966262166,
          0.0008809493791659406,
          0.0007641043557100602
         ],
         "yaxis": "y5"
        },
        {
         "mode": "lines",
         "name": "Small_Medium_Mixed(Baseline)",
         "type": "scatter",
         "x": [
          0,
          1,
          2,
          3
         ],
         "xaxis": "x6",
         "y": [
          0.0011516681425963668,
          0.0009878585749950705,
          0.0009688868589670422,
          0.0010343711687750554
         ],
         "yaxis": "y6"
        },
        {
         "mode": "lines",
         "name": "Small_Medium_Mixed",
         "type": "scatter",
         "x": [
          0,
          1,
          2,
          3
         ],
         "xaxis": "x6",
         "y": [
          0.0010006843538866255,
          0.0007504064874853362,
          0.0009823432566950395,
          0.0007998628500103126
         ],
         "yaxis": "y6"
        }
       ],
       "layout": {
        "annotations": [
         {
          "font": {
           "size": 16
          },
          "showarrow": false,
          "text": "Large",
          "x": 0.13333333333333333,
          "xanchor": "center",
          "xref": "paper",
          "y": 1,
          "yanchor": "bottom",
          "yref": "paper"
         },
         {
          "font": {
           "size": 16
          },
          "showarrow": false,
          "text": "Medium",
          "x": 0.5,
          "xanchor": "center",
          "xref": "paper",
          "y": 1,
          "yanchor": "bottom",
          "yref": "paper"
         },
         {
          "font": {
           "size": 16
          },
          "showarrow": false,
          "text": "Medium_Large_Mixed",
          "x": 0.8666666666666667,
          "xanchor": "center",
          "xref": "paper",
          "y": 1,
          "yanchor": "bottom",
          "yref": "paper"
         },
         {
          "font": {
           "size": 16
          },
          "showarrow": false,
          "text": "Small",
          "x": 0.13333333333333333,
          "xanchor": "center",
          "xref": "paper",
          "y": 0.375,
          "yanchor": "bottom",
          "yref": "paper"
         },
         {
          "font": {
           "size": 16
          },
          "showarrow": false,
          "text": "Small_Large_Mixed",
          "x": 0.5,
          "xanchor": "center",
          "xref": "paper",
          "y": 0.375,
          "yanchor": "bottom",
          "yref": "paper"
         },
         {
          "font": {
           "size": 16
          },
          "showarrow": false,
          "text": "Small_Medium_Mixed",
          "x": 0.8666666666666667,
          "xanchor": "center",
          "xref": "paper",
          "y": 0.375,
          "yanchor": "bottom",
          "yref": "paper"
         },
         {
          "font": {
           "size": 16
          },
          "showarrow": false,
          "text": "MAX_CHUNK_SIZE",
          "x": 0.5,
          "xanchor": "center",
          "xref": "paper",
          "y": 0,
          "yanchor": "top",
          "yref": "paper",
          "yshift": -30
         },
         {
          "font": {
           "size": 16
          },
          "showarrow": false,
          "text": "Mean Execution time (s)",
          "textangle": -90,
          "x": 0,
          "xanchor": "right",
          "xref": "paper",
          "xshift": -40,
          "y": 0.5,
          "yanchor": "middle",
          "yref": "paper"
         }
        ],
        "template": {
         "data": {
          "bar": [
           {
            "error_x": {
             "color": "#2a3f5f"
            },
            "error_y": {
             "color": "#2a3f5f"
            },
            "marker": {
             "line": {
              "color": "#E5ECF6",
              "width": 0.5
             },
             "pattern": {
              "fillmode": "overlay",
              "size": 10,
              "solidity": 0.2
             }
            },
            "type": "bar"
           }
          ],
          "barpolar": [
           {
            "marker": {
             "line": {
              "color": "#E5ECF6",
              "width": 0.5
             },
             "pattern": {
              "fillmode": "overlay",
              "size": 10,
              "solidity": 0.2
             }
            },
            "type": "barpolar"
           }
          ],
          "carpet": [
           {
            "aaxis": {
             "endlinecolor": "#2a3f5f",
             "gridcolor": "white",
             "linecolor": "white",
             "minorgridcolor": "white",
             "startlinecolor": "#2a3f5f"
            },
            "baxis": {
             "endlinecolor": "#2a3f5f",
             "gridcolor": "white",
             "linecolor": "white",
             "minorgridcolor": "white",
             "startlinecolor": "#2a3f5f"
            },
            "type": "carpet"
           }
          ],
          "choropleth": [
           {
            "colorbar": {
             "outlinewidth": 0,
             "ticks": ""
            },
            "type": "choropleth"
           }
          ],
          "contour": [
           {
            "colorbar": {
             "outlinewidth": 0,
             "ticks": ""
            },
            "colorscale": [
             [
              0,
              "#0d0887"
             ],
             [
              0.1111111111111111,
              "#46039f"
             ],
             [
              0.2222222222222222,
              "#7201a8"
             ],
             [
              0.3333333333333333,
              "#9c179e"
             ],
             [
              0.4444444444444444,
              "#bd3786"
             ],
             [
              0.5555555555555556,
              "#d8576b"
             ],
             [
              0.6666666666666666,
              "#ed7953"
             ],
             [
              0.7777777777777778,
              "#fb9f3a"
             ],
             [
              0.8888888888888888,
              "#fdca26"
             ],
             [
              1,
              "#f0f921"
             ]
            ],
            "type": "contour"
           }
          ],
          "contourcarpet": [
           {
            "colorbar": {
             "outlinewidth": 0,
             "ticks": ""
            },
            "type": "contourcarpet"
           }
          ],
          "heatmap": [
           {
            "colorbar": {
             "outlinewidth": 0,
             "ticks": ""
            },
            "colorscale": [
             [
              0,
              "#0d0887"
             ],
             [
              0.1111111111111111,
              "#46039f"
             ],
             [
              0.2222222222222222,
              "#7201a8"
             ],
             [
              0.3333333333333333,
              "#9c179e"
             ],
             [
              0.4444444444444444,
              "#bd3786"
             ],
             [
              0.5555555555555556,
              "#d8576b"
             ],
             [
              0.6666666666666666,
              "#ed7953"
             ],
             [
              0.7777777777777778,
              "#fb9f3a"
             ],
             [
              0.8888888888888888,
              "#fdca26"
             ],
             [
              1,
              "#f0f921"
             ]
            ],
            "type": "heatmap"
           }
          ],
          "heatmapgl": [
           {
            "colorbar": {
             "outlinewidth": 0,
             "ticks": ""
            },
            "colorscale": [
             [
              0,
              "#0d0887"
             ],
             [
              0.1111111111111111,
              "#46039f"
             ],
             [
              0.2222222222222222,
              "#7201a8"
             ],
             [
              0.3333333333333333,
              "#9c179e"
             ],
             [
              0.4444444444444444,
              "#bd3786"
             ],
             [
              0.5555555555555556,
              "#d8576b"
             ],
             [
              0.6666666666666666,
              "#ed7953"
             ],
             [
              0.7777777777777778,
              "#fb9f3a"
             ],
             [
              0.8888888888888888,
              "#fdca26"
             ],
             [
              1,
              "#f0f921"
             ]
            ],
            "type": "heatmapgl"
           }
          ],
          "histogram": [
           {
            "marker": {
             "pattern": {
              "fillmode": "overlay",
              "size": 10,
              "solidity": 0.2
             }
            },
            "type": "histogram"
           }
          ],
          "histogram2d": [
           {
            "colorbar": {
             "outlinewidth": 0,
             "ticks": ""
            },
            "colorscale": [
             [
              0,
              "#0d0887"
             ],
             [
              0.1111111111111111,
              "#46039f"
             ],
             [
              0.2222222222222222,
              "#7201a8"
             ],
             [
              0.3333333333333333,
              "#9c179e"
             ],
             [
              0.4444444444444444,
              "#bd3786"
             ],
             [
              0.5555555555555556,
              "#d8576b"
             ],
             [
              0.6666666666666666,
              "#ed7953"
             ],
             [
              0.7777777777777778,
              "#fb9f3a"
             ],
             [
              0.8888888888888888,
              "#fdca26"
             ],
             [
              1,
              "#f0f921"
             ]
            ],
            "type": "histogram2d"
           }
          ],
          "histogram2dcontour": [
           {
            "colorbar": {
             "outlinewidth": 0,
             "ticks": ""
            },
            "colorscale": [
             [
              0,
              "#0d0887"
             ],
             [
              0.1111111111111111,
              "#46039f"
             ],
             [
              0.2222222222222222,
              "#7201a8"
             ],
             [
              0.3333333333333333,
              "#9c179e"
             ],
             [
              0.4444444444444444,
              "#bd3786"
             ],
             [
              0.5555555555555556,
              "#d8576b"
             ],
             [
              0.6666666666666666,
              "#ed7953"
             ],
             [
              0.7777777777777778,
              "#fb9f3a"
             ],
             [
              0.8888888888888888,
              "#fdca26"
             ],
             [
              1,
              "#f0f921"
             ]
            ],
            "type": "histogram2dcontour"
           }
          ],
          "mesh3d": [
           {
            "colorbar": {
             "outlinewidth": 0,
             "ticks": ""
            },
            "type": "mesh3d"
           }
          ],
          "parcoords": [
           {
            "line": {
             "colorbar": {
              "outlinewidth": 0,
              "ticks": ""
             }
            },
            "type": "parcoords"
           }
          ],
          "pie": [
           {
            "automargin": true,
            "type": "pie"
           }
          ],
          "scatter": [
           {
            "fillpattern": {
             "fillmode": "overlay",
             "size": 10,
             "solidity": 0.2
            },
            "type": "scatter"
           }
          ],
          "scatter3d": [
           {
            "line": {
             "colorbar": {
              "outlinewidth": 0,
              "ticks": ""
             }
            },
            "marker": {
             "colorbar": {
              "outlinewidth": 0,
              "ticks": ""
             }
            },
            "type": "scatter3d"
           }
          ],
          "scattercarpet": [
           {
            "marker": {
             "colorbar": {
              "outlinewidth": 0,
              "ticks": ""
             }
            },
            "type": "scattercarpet"
           }
          ],
          "scattergeo": [
           {
            "marker": {
             "colorbar": {
              "outlinewidth": 0,
              "ticks": ""
             }
            },
            "type": "scattergeo"
           }
          ],
          "scattergl": [
           {
            "marker": {
             "colorbar": {
              "outlinewidth": 0,
              "ticks": ""
             }
            },
            "type": "scattergl"
           }
          ],
          "scattermapbox": [
           {
            "marker": {
             "colorbar": {
              "outlinewidth": 0,
              "ticks": ""
             }
            },
            "type": "scattermapbox"
           }
          ],
          "scatterpolar": [
           {
            "marker": {
             "colorbar": {
              "outlinewidth": 0,
              "ticks": ""
             }
            },
            "type": "scatterpolar"
           }
          ],
          "scatterpolargl": [
           {
            "marker": {
             "colorbar": {
              "outlinewidth": 0,
              "ticks": ""
             }
            },
            "type": "scatterpolargl"
           }
          ],
          "scatterternary": [
           {
            "marker": {
             "colorbar": {
              "outlinewidth": 0,
              "ticks": ""
             }
            },
            "type": "scatterternary"
           }
          ],
          "surface": [
           {
            "colorbar": {
             "outlinewidth": 0,
             "ticks": ""
            },
            "colorscale": [
             [
              0,
              "#0d0887"
             ],
             [
              0.1111111111111111,
              "#46039f"
             ],
             [
              0.2222222222222222,
              "#7201a8"
             ],
             [
              0.3333333333333333,
              "#9c179e"
             ],
             [
              0.4444444444444444,
              "#bd3786"
             ],
             [
              0.5555555555555556,
              "#d8576b"
             ],
             [
              0.6666666666666666,
              "#ed7953"
             ],
             [
              0.7777777777777778,
              "#fb9f3a"
             ],
             [
              0.8888888888888888,
              "#fdca26"
             ],
             [
              1,
              "#f0f921"
             ]
            ],
            "type": "surface"
           }
          ],
          "table": [
           {
            "cells": {
             "fill": {
              "color": "#EBF0F8"
             },
             "line": {
              "color": "white"
             }
            },
            "header": {
             "fill": {
              "color": "#C8D4E3"
             },
             "line": {
              "color": "white"
             }
            },
            "type": "table"
           }
          ]
         },
         "layout": {
          "annotationdefaults": {
           "arrowcolor": "#2a3f5f",
           "arrowhead": 0,
           "arrowwidth": 1
          },
          "autotypenumbers": "strict",
          "coloraxis": {
           "colorbar": {
            "outlinewidth": 0,
            "ticks": ""
           }
          },
          "colorscale": {
           "diverging": [
            [
             0,
             "#8e0152"
            ],
            [
             0.1,
             "#c51b7d"
            ],
            [
             0.2,
             "#de77ae"
            ],
            [
             0.3,
             "#f1b6da"
            ],
            [
             0.4,
             "#fde0ef"
            ],
            [
             0.5,
             "#f7f7f7"
            ],
            [
             0.6,
             "#e6f5d0"
            ],
            [
             0.7,
             "#b8e186"
            ],
            [
             0.8,
             "#7fbc41"
            ],
            [
             0.9,
             "#4d9221"
            ],
            [
             1,
             "#276419"
            ]
           ],
           "sequential": [
            [
             0,
             "#0d0887"
            ],
            [
             0.1111111111111111,
             "#46039f"
            ],
            [
             0.2222222222222222,
             "#7201a8"
            ],
            [
             0.3333333333333333,
             "#9c179e"
            ],
            [
             0.4444444444444444,
             "#bd3786"
            ],
            [
             0.5555555555555556,
             "#d8576b"
            ],
            [
             0.6666666666666666,
             "#ed7953"
            ],
            [
             0.7777777777777778,
             "#fb9f3a"
            ],
            [
             0.8888888888888888,
             "#fdca26"
            ],
            [
             1,
             "#f0f921"
            ]
           ],
           "sequentialminus": [
            [
             0,
             "#0d0887"
            ],
            [
             0.1111111111111111,
             "#46039f"
            ],
            [
             0.2222222222222222,
             "#7201a8"
            ],
            [
             0.3333333333333333,
             "#9c179e"
            ],
            [
             0.4444444444444444,
             "#bd3786"
            ],
            [
             0.5555555555555556,
             "#d8576b"
            ],
            [
             0.6666666666666666,
             "#ed7953"
            ],
            [
             0.7777777777777778,
             "#fb9f3a"
            ],
            [
             0.8888888888888888,
             "#fdca26"
            ],
            [
             1,
             "#f0f921"
            ]
           ]
          },
          "colorway": [
           "#636efa",
           "#EF553B",
           "#00cc96",
           "#ab63fa",
           "#FFA15A",
           "#19d3f3",
           "#FF6692",
           "#B6E880",
           "#FF97FF",
           "#FECB52"
          ],
          "font": {
           "color": "#2a3f5f"
          },
          "geo": {
           "bgcolor": "white",
           "lakecolor": "white",
           "landcolor": "#E5ECF6",
           "showlakes": true,
           "showland": true,
           "subunitcolor": "white"
          },
          "hoverlabel": {
           "align": "left"
          },
          "hovermode": "closest",
          "mapbox": {
           "style": "light"
          },
          "paper_bgcolor": "white",
          "plot_bgcolor": "#E5ECF6",
          "polar": {
           "angularaxis": {
            "gridcolor": "white",
            "linecolor": "white",
            "ticks": ""
           },
           "bgcolor": "#E5ECF6",
           "radialaxis": {
            "gridcolor": "white",
            "linecolor": "white",
            "ticks": ""
           }
          },
          "scene": {
           "xaxis": {
            "backgroundcolor": "#E5ECF6",
            "gridcolor": "white",
            "gridwidth": 2,
            "linecolor": "white",
            "showbackground": true,
            "ticks": "",
            "zerolinecolor": "white"
           },
           "yaxis": {
            "backgroundcolor": "#E5ECF6",
            "gridcolor": "white",
            "gridwidth": 2,
            "linecolor": "white",
            "showbackground": true,
            "ticks": "",
            "zerolinecolor": "white"
           },
           "zaxis": {
            "backgroundcolor": "#E5ECF6",
            "gridcolor": "white",
            "gridwidth": 2,
            "linecolor": "white",
            "showbackground": true,
            "ticks": "",
            "zerolinecolor": "white"
           }
          },
          "shapedefaults": {
           "line": {
            "color": "#2a3f5f"
           }
          },
          "ternary": {
           "aaxis": {
            "gridcolor": "white",
            "linecolor": "white",
            "ticks": ""
           },
           "baxis": {
            "gridcolor": "white",
            "linecolor": "white",
            "ticks": ""
           },
           "bgcolor": "#E5ECF6",
           "caxis": {
            "gridcolor": "white",
            "linecolor": "white",
            "ticks": ""
           }
          },
          "title": {
           "x": 0.05
          },
          "xaxis": {
           "automargin": true,
           "gridcolor": "white",
           "linecolor": "white",
           "ticks": "",
           "title": {
            "standoff": 15
           },
           "zerolinecolor": "white",
           "zerolinewidth": 2
          },
          "yaxis": {
           "automargin": true,
           "gridcolor": "white",
           "linecolor": "white",
           "ticks": "",
           "title": {
            "standoff": 15
           },
           "zerolinecolor": "white",
           "zerolinewidth": 2
          }
         }
        },
        "title": {
         "text": "Execution time for Intersection by MAX_CHUNK_SIZE ",
         "x": 0.5
        },
        "xaxis": {
         "anchor": "y",
         "domain": [
          0,
          0.26666666666666666
         ]
        },
        "xaxis2": {
         "anchor": "y2",
         "domain": [
          0.3666666666666667,
          0.6333333333333333
         ]
        },
        "xaxis3": {
         "anchor": "y3",
         "domain": [
          0.7333333333333334,
          1
         ]
        },
        "xaxis4": {
         "anchor": "y4",
         "domain": [
          0,
          0.26666666666666666
         ]
        },
        "xaxis5": {
         "anchor": "y5",
         "domain": [
          0.3666666666666667,
          0.6333333333333333
         ]
        },
        "xaxis6": {
         "anchor": "y6",
         "domain": [
          0.7333333333333334,
          1
         ]
        },
        "yaxis": {
         "anchor": "x",
         "domain": [
          0.625,
          1
         ]
        },
        "yaxis2": {
         "anchor": "x2",
         "domain": [
          0.625,
          1
         ]
        },
        "yaxis3": {
         "anchor": "x3",
         "domain": [
          0.625,
          1
         ]
        },
        "yaxis4": {
         "anchor": "x4",
         "domain": [
          0,
          0.375
         ]
        },
        "yaxis5": {
         "anchor": "x5",
         "domain": [
          0,
          0.375
         ]
        },
        "yaxis6": {
         "anchor": "x6",
         "domain": [
          0,
          0.375
         ]
        }
       }
      }
     },
     "metadata": {},
     "output_type": "display_data"
    },
    {
     "data": {
      "application/vnd.plotly.v1+json": {
       "config": {
        "plotlyServerURL": "https://plot.ly"
       },
       "data": [
        {
         "mode": "lines",
         "name": "Large(Baseline)",
         "type": "scatter",
         "x": [
          0,
          1,
          2,
          3
         ],
         "xaxis": "x",
         "y": [
          0.021383500000414876,
          0.014260703080056353,
          0.011227909906487416,
          0.013381535446945023
         ],
         "yaxis": "y"
        },
        {
         "mode": "lines",
         "name": "Large",
         "type": "scatter",
         "x": [
          0,
          1,
          2,
          3
         ],
         "xaxis": "x",
         "y": [
          0.013960850872953937,
          0.006817593072179428,
          0.005475284515055233,
          0.005084251000315565
         ],
         "yaxis": "y"
        },
        {
         "mode": "lines",
         "name": "Medium(Baseline)",
         "type": "scatter",
         "x": [
          0,
          1,
          2,
          3
         ],
         "xaxis": "x2",
         "y": [
          0.002028649187263067,
          0.001611880554399384,
          0.0015364692210116321,
          0.001579373111275749
         ],
         "yaxis": "y2"
        },
        {
         "mode": "lines",
         "name": "Medium",
         "type": "scatter",
         "x": [
          0,
          1,
          2,
          3
         ],
         "xaxis": "x2",
         "y": [
          0.001718578666677112,
          0.0012084416682935422,
          0.0018742466674194912,
          0.0011239263700122978
         ],
         "yaxis": "y2"
        },
        {
         "mode": "lines",
         "name": "Medium_Large_Mixed(Baseline)",
         "type": "scatter",
         "x": [
          0,
          1,
          2,
          3
         ],
         "xaxis": "x3",
         "y": [
          0.0025008846754644765,
          0.0021924234129983232,
          0.0022656883249510427,
          0.002353864288670593
         ],
         "yaxis": "y3"
        },
        {
         "mode": "lines",
         "name": "Medium_Large_Mixed",
         "type": "scatter",
         "x": [
          0,
          1,
          2,
          3
         ],
         "xaxis": "x3",
         "y": [
          0.0012742946128128096,
          0.0008085143874268397,
          0.0009828908505369327,
          0.0008796773498033871
         ],
         "yaxis": "y3"
        },
        {
         "mode": "lines",
         "name": "Small(Baseline)",
         "type": "scatter",
         "x": [
          0,
          1,
          2,
          3
         ],
         "xaxis": "x4",
         "y": [
          0.0008455945295281708,
          0.0007079944497330443,
          0.0007697876384447548,
          0.0008282756648601635
         ],
         "yaxis": "y4"
        },
        {
         "mode": "lines",
         "name": "Small",
         "type": "scatter",
         "x": [
          0,
          1,
          2,
          3
         ],
         "xaxis": "x4",
         "y": [
          0.0008666743145594784,
          0.000684660165108439,
          0.0009271462768939433,
          0.0008621487469474018
         ],
         "yaxis": "y4"
        },
        {
         "mode": "lines",
         "name": "Small_Large_Mixed(Baseline)",
         "type": "scatter",
         "x": [
          0,
          1,
          2,
          3
         ],
         "xaxis": "x5",
         "y": [
          0.0022581729414241636,
          0.002044220652749118,
          0.0022196870592097184,
          0.0021147068282516557
         ],
         "yaxis": "y5"
        },
        {
         "mode": "lines",
         "name": "Small_Large_Mixed",
         "type": "scatter",
         "x": [
          0,
          1,
          2,
          3
         ],
         "xaxis": "x5",
         "y": [
          0.0012500836326694298,
          0.0007996087966262166,
          0.0008809493791659406,
          0.0007641043557100602
         ],
         "yaxis": "y5"
        },
        {
         "mode": "lines",
         "name": "Small_Medium_Mixed(Baseline)",
         "type": "scatter",
         "x": [
          0,
          1,
          2,
          3
         ],
         "xaxis": "x6",
         "y": [
          0.0011516681425963668,
          0.0009878585749950705,
          0.0009688868589670422,
          0.0010343711687750554
         ],
         "yaxis": "y6"
        },
        {
         "mode": "lines",
         "name": "Small_Medium_Mixed",
         "type": "scatter",
         "x": [
          0,
          1,
          2,
          3
         ],
         "xaxis": "x6",
         "y": [
          0.0010006843538866255,
          0.0007504064874853362,
          0.0009823432566950395,
          0.0007998628500103126
         ],
         "yaxis": "y6"
        }
       ],
       "layout": {
        "annotations": [
         {
          "font": {
           "size": 16
          },
          "showarrow": false,
          "text": "Large",
          "x": 0.13333333333333333,
          "xanchor": "center",
          "xref": "paper",
          "y": 1,
          "yanchor": "bottom",
          "yref": "paper"
         },
         {
          "font": {
           "size": 16
          },
          "showarrow": false,
          "text": "Medium",
          "x": 0.5,
          "xanchor": "center",
          "xref": "paper",
          "y": 1,
          "yanchor": "bottom",
          "yref": "paper"
         },
         {
          "font": {
           "size": 16
          },
          "showarrow": false,
          "text": "Medium_Large_Mixed",
          "x": 0.8666666666666667,
          "xanchor": "center",
          "xref": "paper",
          "y": 1,
          "yanchor": "bottom",
          "yref": "paper"
         },
         {
          "font": {
           "size": 16
          },
          "showarrow": false,
          "text": "Small",
          "x": 0.13333333333333333,
          "xanchor": "center",
          "xref": "paper",
          "y": 0.375,
          "yanchor": "bottom",
          "yref": "paper"
         },
         {
          "font": {
           "size": 16
          },
          "showarrow": false,
          "text": "Small_Large_Mixed",
          "x": 0.5,
          "xanchor": "center",
          "xref": "paper",
          "y": 0.375,
          "yanchor": "bottom",
          "yref": "paper"
         },
         {
          "font": {
           "size": 16
          },
          "showarrow": false,
          "text": "Small_Medium_Mixed",
          "x": 0.8666666666666667,
          "xanchor": "center",
          "xref": "paper",
          "y": 0.375,
          "yanchor": "bottom",
          "yref": "paper"
         },
         {
          "font": {
           "size": 16
          },
          "showarrow": false,
          "text": "MAX_CHUNK_SIZE",
          "x": 0.5,
          "xanchor": "center",
          "xref": "paper",
          "y": 0,
          "yanchor": "top",
          "yref": "paper",
          "yshift": -30
         },
         {
          "font": {
           "size": 16
          },
          "showarrow": false,
          "text": "Mean Execution time (s)",
          "textangle": -90,
          "x": 0,
          "xanchor": "right",
          "xref": "paper",
          "xshift": -40,
          "y": 0.5,
          "yanchor": "middle",
          "yref": "paper"
         }
        ],
        "template": {
         "data": {
          "bar": [
           {
            "error_x": {
             "color": "#2a3f5f"
            },
            "error_y": {
             "color": "#2a3f5f"
            },
            "marker": {
             "line": {
              "color": "#E5ECF6",
              "width": 0.5
             },
             "pattern": {
              "fillmode": "overlay",
              "size": 10,
              "solidity": 0.2
             }
            },
            "type": "bar"
           }
          ],
          "barpolar": [
           {
            "marker": {
             "line": {
              "color": "#E5ECF6",
              "width": 0.5
             },
             "pattern": {
              "fillmode": "overlay",
              "size": 10,
              "solidity": 0.2
             }
            },
            "type": "barpolar"
           }
          ],
          "carpet": [
           {
            "aaxis": {
             "endlinecolor": "#2a3f5f",
             "gridcolor": "white",
             "linecolor": "white",
             "minorgridcolor": "white",
             "startlinecolor": "#2a3f5f"
            },
            "baxis": {
             "endlinecolor": "#2a3f5f",
             "gridcolor": "white",
             "linecolor": "white",
             "minorgridcolor": "white",
             "startlinecolor": "#2a3f5f"
            },
            "type": "carpet"
           }
          ],
          "choropleth": [
           {
            "colorbar": {
             "outlinewidth": 0,
             "ticks": ""
            },
            "type": "choropleth"
           }
          ],
          "contour": [
           {
            "colorbar": {
             "outlinewidth": 0,
             "ticks": ""
            },
            "colorscale": [
             [
              0,
              "#0d0887"
             ],
             [
              0.1111111111111111,
              "#46039f"
             ],
             [
              0.2222222222222222,
              "#7201a8"
             ],
             [
              0.3333333333333333,
              "#9c179e"
             ],
             [
              0.4444444444444444,
              "#bd3786"
             ],
             [
              0.5555555555555556,
              "#d8576b"
             ],
             [
              0.6666666666666666,
              "#ed7953"
             ],
             [
              0.7777777777777778,
              "#fb9f3a"
             ],
             [
              0.8888888888888888,
              "#fdca26"
             ],
             [
              1,
              "#f0f921"
             ]
            ],
            "type": "contour"
           }
          ],
          "contourcarpet": [
           {
            "colorbar": {
             "outlinewidth": 0,
             "ticks": ""
            },
            "type": "contourcarpet"
           }
          ],
          "heatmap": [
           {
            "colorbar": {
             "outlinewidth": 0,
             "ticks": ""
            },
            "colorscale": [
             [
              0,
              "#0d0887"
             ],
             [
              0.1111111111111111,
              "#46039f"
             ],
             [
              0.2222222222222222,
              "#7201a8"
             ],
             [
              0.3333333333333333,
              "#9c179e"
             ],
             [
              0.4444444444444444,
              "#bd3786"
             ],
             [
              0.5555555555555556,
              "#d8576b"
             ],
             [
              0.6666666666666666,
              "#ed7953"
             ],
             [
              0.7777777777777778,
              "#fb9f3a"
             ],
             [
              0.8888888888888888,
              "#fdca26"
             ],
             [
              1,
              "#f0f921"
             ]
            ],
            "type": "heatmap"
           }
          ],
          "heatmapgl": [
           {
            "colorbar": {
             "outlinewidth": 0,
             "ticks": ""
            },
            "colorscale": [
             [
              0,
              "#0d0887"
             ],
             [
              0.1111111111111111,
              "#46039f"
             ],
             [
              0.2222222222222222,
              "#7201a8"
             ],
             [
              0.3333333333333333,
              "#9c179e"
             ],
             [
              0.4444444444444444,
              "#bd3786"
             ],
             [
              0.5555555555555556,
              "#d8576b"
             ],
             [
              0.6666666666666666,
              "#ed7953"
             ],
             [
              0.7777777777777778,
              "#fb9f3a"
             ],
             [
              0.8888888888888888,
              "#fdca26"
             ],
             [
              1,
              "#f0f921"
             ]
            ],
            "type": "heatmapgl"
           }
          ],
          "histogram": [
           {
            "marker": {
             "pattern": {
              "fillmode": "overlay",
              "size": 10,
              "solidity": 0.2
             }
            },
            "type": "histogram"
           }
          ],
          "histogram2d": [
           {
            "colorbar": {
             "outlinewidth": 0,
             "ticks": ""
            },
            "colorscale": [
             [
              0,
              "#0d0887"
             ],
             [
              0.1111111111111111,
              "#46039f"
             ],
             [
              0.2222222222222222,
              "#7201a8"
             ],
             [
              0.3333333333333333,
              "#9c179e"
             ],
             [
              0.4444444444444444,
              "#bd3786"
             ],
             [
              0.5555555555555556,
              "#d8576b"
             ],
             [
              0.6666666666666666,
              "#ed7953"
             ],
             [
              0.7777777777777778,
              "#fb9f3a"
             ],
             [
              0.8888888888888888,
              "#fdca26"
             ],
             [
              1,
              "#f0f921"
             ]
            ],
            "type": "histogram2d"
           }
          ],
          "histogram2dcontour": [
           {
            "colorbar": {
             "outlinewidth": 0,
             "ticks": ""
            },
            "colorscale": [
             [
              0,
              "#0d0887"
             ],
             [
              0.1111111111111111,
              "#46039f"
             ],
             [
              0.2222222222222222,
              "#7201a8"
             ],
             [
              0.3333333333333333,
              "#9c179e"
             ],
             [
              0.4444444444444444,
              "#bd3786"
             ],
             [
              0.5555555555555556,
              "#d8576b"
             ],
             [
              0.6666666666666666,
              "#ed7953"
             ],
             [
              0.7777777777777778,
              "#fb9f3a"
             ],
             [
              0.8888888888888888,
              "#fdca26"
             ],
             [
              1,
              "#f0f921"
             ]
            ],
            "type": "histogram2dcontour"
           }
          ],
          "mesh3d": [
           {
            "colorbar": {
             "outlinewidth": 0,
             "ticks": ""
            },
            "type": "mesh3d"
           }
          ],
          "parcoords": [
           {
            "line": {
             "colorbar": {
              "outlinewidth": 0,
              "ticks": ""
             }
            },
            "type": "parcoords"
           }
          ],
          "pie": [
           {
            "automargin": true,
            "type": "pie"
           }
          ],
          "scatter": [
           {
            "fillpattern": {
             "fillmode": "overlay",
             "size": 10,
             "solidity": 0.2
            },
            "type": "scatter"
           }
          ],
          "scatter3d": [
           {
            "line": {
             "colorbar": {
              "outlinewidth": 0,
              "ticks": ""
             }
            },
            "marker": {
             "colorbar": {
              "outlinewidth": 0,
              "ticks": ""
             }
            },
            "type": "scatter3d"
           }
          ],
          "scattercarpet": [
           {
            "marker": {
             "colorbar": {
              "outlinewidth": 0,
              "ticks": ""
             }
            },
            "type": "scattercarpet"
           }
          ],
          "scattergeo": [
           {
            "marker": {
             "colorbar": {
              "outlinewidth": 0,
              "ticks": ""
             }
            },
            "type": "scattergeo"
           }
          ],
          "scattergl": [
           {
            "marker": {
             "colorbar": {
              "outlinewidth": 0,
              "ticks": ""
             }
            },
            "type": "scattergl"
           }
          ],
          "scattermapbox": [
           {
            "marker": {
             "colorbar": {
              "outlinewidth": 0,
              "ticks": ""
             }
            },
            "type": "scattermapbox"
           }
          ],
          "scatterpolar": [
           {
            "marker": {
             "colorbar": {
              "outlinewidth": 0,
              "ticks": ""
             }
            },
            "type": "scatterpolar"
           }
          ],
          "scatterpolargl": [
           {
            "marker": {
             "colorbar": {
              "outlinewidth": 0,
              "ticks": ""
             }
            },
            "type": "scatterpolargl"
           }
          ],
          "scatterternary": [
           {
            "marker": {
             "colorbar": {
              "outlinewidth": 0,
              "ticks": ""
             }
            },
            "type": "scatterternary"
           }
          ],
          "surface": [
           {
            "colorbar": {
             "outlinewidth": 0,
             "ticks": ""
            },
            "colorscale": [
             [
              0,
              "#0d0887"
             ],
             [
              0.1111111111111111,
              "#46039f"
             ],
             [
              0.2222222222222222,
              "#7201a8"
             ],
             [
              0.3333333333333333,
              "#9c179e"
             ],
             [
              0.4444444444444444,
              "#bd3786"
             ],
             [
              0.5555555555555556,
              "#d8576b"
             ],
             [
              0.6666666666666666,
              "#ed7953"
             ],
             [
              0.7777777777777778,
              "#fb9f3a"
             ],
             [
              0.8888888888888888,
              "#fdca26"
             ],
             [
              1,
              "#f0f921"
             ]
            ],
            "type": "surface"
           }
          ],
          "table": [
           {
            "cells": {
             "fill": {
              "color": "#EBF0F8"
             },
             "line": {
              "color": "white"
             }
            },
            "header": {
             "fill": {
              "color": "#C8D4E3"
             },
             "line": {
              "color": "white"
             }
            },
            "type": "table"
           }
          ]
         },
         "layout": {
          "annotationdefaults": {
           "arrowcolor": "#2a3f5f",
           "arrowhead": 0,
           "arrowwidth": 1
          },
          "autotypenumbers": "strict",
          "coloraxis": {
           "colorbar": {
            "outlinewidth": 0,
            "ticks": ""
           }
          },
          "colorscale": {
           "diverging": [
            [
             0,
             "#8e0152"
            ],
            [
             0.1,
             "#c51b7d"
            ],
            [
             0.2,
             "#de77ae"
            ],
            [
             0.3,
             "#f1b6da"
            ],
            [
             0.4,
             "#fde0ef"
            ],
            [
             0.5,
             "#f7f7f7"
            ],
            [
             0.6,
             "#e6f5d0"
            ],
            [
             0.7,
             "#b8e186"
            ],
            [
             0.8,
             "#7fbc41"
            ],
            [
             0.9,
             "#4d9221"
            ],
            [
             1,
             "#276419"
            ]
           ],
           "sequential": [
            [
             0,
             "#0d0887"
            ],
            [
             0.1111111111111111,
             "#46039f"
            ],
            [
             0.2222222222222222,
             "#7201a8"
            ],
            [
             0.3333333333333333,
             "#9c179e"
            ],
            [
             0.4444444444444444,
             "#bd3786"
            ],
            [
             0.5555555555555556,
             "#d8576b"
            ],
            [
             0.6666666666666666,
             "#ed7953"
            ],
            [
             0.7777777777777778,
             "#fb9f3a"
            ],
            [
             0.8888888888888888,
             "#fdca26"
            ],
            [
             1,
             "#f0f921"
            ]
           ],
           "sequentialminus": [
            [
             0,
             "#0d0887"
            ],
            [
             0.1111111111111111,
             "#46039f"
            ],
            [
             0.2222222222222222,
             "#7201a8"
            ],
            [
             0.3333333333333333,
             "#9c179e"
            ],
            [
             0.4444444444444444,
             "#bd3786"
            ],
            [
             0.5555555555555556,
             "#d8576b"
            ],
            [
             0.6666666666666666,
             "#ed7953"
            ],
            [
             0.7777777777777778,
             "#fb9f3a"
            ],
            [
             0.8888888888888888,
             "#fdca26"
            ],
            [
             1,
             "#f0f921"
            ]
           ]
          },
          "colorway": [
           "#636efa",
           "#EF553B",
           "#00cc96",
           "#ab63fa",
           "#FFA15A",
           "#19d3f3",
           "#FF6692",
           "#B6E880",
           "#FF97FF",
           "#FECB52"
          ],
          "font": {
           "color": "#2a3f5f"
          },
          "geo": {
           "bgcolor": "white",
           "lakecolor": "white",
           "landcolor": "#E5ECF6",
           "showlakes": true,
           "showland": true,
           "subunitcolor": "white"
          },
          "hoverlabel": {
           "align": "left"
          },
          "hovermode": "closest",
          "mapbox": {
           "style": "light"
          },
          "paper_bgcolor": "white",
          "plot_bgcolor": "#E5ECF6",
          "polar": {
           "angularaxis": {
            "gridcolor": "white",
            "linecolor": "white",
            "ticks": ""
           },
           "bgcolor": "#E5ECF6",
           "radialaxis": {
            "gridcolor": "white",
            "linecolor": "white",
            "ticks": ""
           }
          },
          "scene": {
           "xaxis": {
            "backgroundcolor": "#E5ECF6",
            "gridcolor": "white",
            "gridwidth": 2,
            "linecolor": "white",
            "showbackground": true,
            "ticks": "",
            "zerolinecolor": "white"
           },
           "yaxis": {
            "backgroundcolor": "#E5ECF6",
            "gridcolor": "white",
            "gridwidth": 2,
            "linecolor": "white",
            "showbackground": true,
            "ticks": "",
            "zerolinecolor": "white"
           },
           "zaxis": {
            "backgroundcolor": "#E5ECF6",
            "gridcolor": "white",
            "gridwidth": 2,
            "linecolor": "white",
            "showbackground": true,
            "ticks": "",
            "zerolinecolor": "white"
           }
          },
          "shapedefaults": {
           "line": {
            "color": "#2a3f5f"
           }
          },
          "ternary": {
           "aaxis": {
            "gridcolor": "white",
            "linecolor": "white",
            "ticks": ""
           },
           "baxis": {
            "gridcolor": "white",
            "linecolor": "white",
            "ticks": ""
           },
           "bgcolor": "#E5ECF6",
           "caxis": {
            "gridcolor": "white",
            "linecolor": "white",
            "ticks": ""
           }
          },
          "title": {
           "x": 0.05
          },
          "xaxis": {
           "automargin": true,
           "gridcolor": "white",
           "linecolor": "white",
           "ticks": "",
           "title": {
            "standoff": 15
           },
           "zerolinecolor": "white",
           "zerolinewidth": 2
          },
          "yaxis": {
           "automargin": true,
           "gridcolor": "white",
           "linecolor": "white",
           "ticks": "",
           "title": {
            "standoff": 15
           },
           "zerolinecolor": "white",
           "zerolinewidth": 2
          }
         }
        },
        "title": {
         "text": "Execution time for Intersection by MAX_CHUNK_SIZE ",
         "x": 0.5
        },
        "xaxis": {
         "anchor": "y",
         "domain": [
          0,
          0.26666666666666666
         ]
        },
        "xaxis2": {
         "anchor": "y2",
         "domain": [
          0.3666666666666667,
          0.6333333333333333
         ]
        },
        "xaxis3": {
         "anchor": "y3",
         "domain": [
          0.7333333333333334,
          1
         ]
        },
        "xaxis4": {
         "anchor": "y4",
         "domain": [
          0,
          0.26666666666666666
         ]
        },
        "xaxis5": {
         "anchor": "y5",
         "domain": [
          0.3666666666666667,
          0.6333333333333333
         ]
        },
        "xaxis6": {
         "anchor": "y6",
         "domain": [
          0.7333333333333334,
          1
         ]
        },
        "yaxis": {
         "anchor": "x",
         "domain": [
          0.625,
          1
         ]
        },
        "yaxis2": {
         "anchor": "x2",
         "domain": [
          0.625,
          1
         ]
        },
        "yaxis3": {
         "anchor": "x3",
         "domain": [
          0.625,
          1
         ]
        },
        "yaxis4": {
         "anchor": "x4",
         "domain": [
          0,
          0.375
         ]
        },
        "yaxis5": {
         "anchor": "x5",
         "domain": [
          0,
          0.375
         ]
        },
        "yaxis6": {
         "anchor": "x6",
         "domain": [
          0,
          0.375
         ]
        }
       }
      }
     },
     "metadata": {},
     "output_type": "display_data"
    }
   ],
   "source": [
    "plot_max_delta_size_speed(max_deltas_filt_df, is_predicate=False)\n",
    "plot_max_delta_size_speed(max_deltas_filt_df, is_predicate=False)"
   ]
  },
  {
   "cell_type": "markdown",
   "metadata": {},
   "source": []
  }
 ],
 "metadata": {
  "kernelspec": {
   "display_name": "Python 3",
   "language": "python",
   "name": "python3"
  },
  "language_info": {
   "codemirror_mode": {
    "name": "ipython",
    "version": 3
   },
   "file_extension": ".py",
   "mimetype": "text/x-python",
   "name": "python",
   "nbconvert_exporter": "python",
   "pygments_lexer": "ipython3",
   "version": "3.11.1"
  },
  "orig_nbformat": 4,
  "vscode": {
   "interpreter": {
    "hash": "aee8b7b246df8f9039afb4144a1f6fd8d2ca17a180786b69acc140d282b71a49"
   }
  }
 },
 "nbformat": 4,
 "nbformat_minor": 2
}
