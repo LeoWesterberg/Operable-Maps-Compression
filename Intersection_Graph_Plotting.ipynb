{
 "cells": [
  {
   "attachments": {},
   "cell_type": "markdown",
   "metadata": {},
   "source": [
    "#### Imports"
   ]
  },
  {
   "cell_type": "code",
   "execution_count": 1,
   "metadata": {},
   "outputs": [],
   "source": [
    "import numpy as np\n",
    "import shapely\n",
    "import bisect\n",
    "import shapely.wkt\n",
    "import matplotlib.pyplot as plt\n",
    "import math\n",
    "import geopandas as gpd\n",
    "import json\n",
    "import pandas as pd\n",
    "import seaborn as sns\n",
    "from enum import Enum\n",
    "import plotly.graph_objects as go\n",
    "from plotly.subplots import make_subplots\n",
    "\n",
    "\n",
    "import intersection.first_bin_search\n",
    "import intersection.chunk_bbox_intersection\n",
    "from bench_utils import parse_intersection_data \n",
    "common_bbox = intersection.chunk_bbox_intersection.common_bbox\n",
    "chunk_bbox_is_intersecting = intersection.chunk_bbox_intersection.is_intersecting\n",
    "chunk_bbox_intersection = intersection.chunk_bbox_intersection.intersection\n",
    "\n",
    "\n",
    "\n",
    "from intersection.plotting import *\n",
    "import algos.fpd_extended_lib.cfg as cfg\n",
    "from algos.alg_fpd_extended import FpdExtended\n",
    "\n",
    "\n",
    "pd.options.mode.chained_assignment = None  # default='warn'"
   ]
  },
  {
   "attachments": {},
   "cell_type": "markdown",
   "metadata": {},
   "source": [
    "#### Import data"
   ]
  },
  {
   "cell_type": "code",
   "execution_count": 2,
   "metadata": {},
   "outputs": [],
   "source": [
    "fpd = FpdExtended()\n",
    "\n",
    "# Geometries\n",
    "manual_data, _ = parse_intersection_data(\"manual\")\n",
    "special_cases, _ = parse_intersection_data(\"latest_export.json\", strip_precision=True)\n",
    "world_data, world_data_stats = parse_intersection_data(\"world.json\", 100, strip_precision=True)\n",
    "lund_data, lund_data_stats = parse_intersection_data(\"lund.json\", 100)\n",
    "sweden_data, sweden_data_stats = parse_intersection_data(\"sweden-places-a.json\", 100)\n",
    "new_york_data, new_york_data_stats = parse_intersection_data(\"new-york-natural.json\")\n",
    "waterways_data, waterways_data_stats = parse_intersection_data(\"nord-est-waterways.json\", 100)\n",
    "\n",
    "datasets = [\n",
    "    manual_data,\n",
    "    special_cases,\n",
    "    world_data,\n",
    "    lund_data,\n",
    "    sweden_data,\n",
    "    new_york_data,\n",
    "    waterways_data\n",
    "]\n"
   ]
  },
  {
   "attachments": {},
   "cell_type": "markdown",
   "metadata": {},
   "source": [
    "#### Constants"
   ]
  },
  {
   "cell_type": "code",
   "execution_count": 3,
   "metadata": {},
   "outputs": [],
   "source": [
    "# Number of total iterations = NBR_ITER * N * number_of_datasets\n",
    "NBR_ITER = -1 # Number of iterations for each dataset\n",
    "N = 1 # Number of times to recalculate each geometry for reliable mean value\n",
    "\n",
    "# Max DELTA_SIZE_VALUE in MAX_NUM_DELTAS Analysis\n",
    "MAX_DELTA_SIZE = 200\n",
    "\n",
    "SHOW_PRED = True\n",
    "SHOW_SHAPE = True\n",
    "SHOW_STATS = False\n",
    "SHOW_PREVIOUS = False\n",
    "\n",
    "#Geometry classification sizes\n",
    "MEDIUM_THRESHOLD = 50\n",
    "LARGE_THRESHOLD = 100"
   ]
  },
  {
   "attachments": {},
   "cell_type": "markdown",
   "metadata": {},
   "source": [
    "## Functions Section"
   ]
  },
  {
   "attachments": {},
   "cell_type": "markdown",
   "metadata": {},
   "source": [
    "#### Config Setter Functions"
   ]
  },
  {
   "cell_type": "code",
   "execution_count": 4,
   "metadata": {},
   "outputs": [],
   "source": [
    "def set_max_num_delta(val):\n",
    "        cfg.MAX_NUM_DELTAS = val\n",
    "        cfg.D_CNT_SIZE = cfg.required_bits(val)\n",
    "\n",
    "def act_deact_baseline(activate=True):\n",
    "        cfg.BASELINE_ON = activate\n",
    "        cfg.DISABLE_OPTIMIZED_INTERSECTION = False if not activate else True\n",
    "        cfg.DISABLE_OPTIMIZED_ADD_VERTEX = False if not activate else True\n",
    "        cfg.DISABLE_OPTIMIZED_BOUNDING_BOX = False if not activate else True"
   ]
  },
  {
   "attachments": {},
   "cell_type": "markdown",
   "metadata": {},
   "source": [
    "#### Stats Collector Functions"
   ]
  },
  {
   "cell_type": "code",
   "execution_count": 5,
   "metadata": {},
   "outputs": [],
   "source": [
    "def get_size_category(size):\n",
    "    if size < LARGE_THRESHOLD and size >= MEDIUM_THRESHOLD:\n",
    "            return \"Medium\", 1\n",
    "    elif size >= LARGE_THRESHOLD:\n",
    "         return \"Large\", 2\n",
    "    else:\n",
    "         return \"Small\", 0\n",
    "    \n",
    "def get_intersection_category(size1, size2):\n",
    "    size1_cat, type1 = get_size_category(size1)\n",
    "    size2_cat, type2 = get_size_category(size2)\n",
    "\n",
    "    if type1 == type2:\n",
    "         return size1_cat\n",
    "    if type1 < type2:\n",
    "            return size1_cat + \" \" + size2_cat + \" Mixed\"\n",
    "    return size2_cat + \" \" + size1_cat + \" Mixed\"\n",
    "        \n",
    "\n",
    "def get_context_category(g1, g2, bins=None):\n",
    "    if bins == None:\n",
    "        _, b1_fpde = fpd.compress(g1)\n",
    "        _, b2_fpde = fpd.compress(g2) \n",
    "    else:\n",
    "        b1_fpde, b2_fpde = bins\n",
    "\n",
    "    bbox = common_bbox((b1_fpde, b2_fpde))\n",
    "    intersects = shapely.intersection(g1, g2)\n",
    "    contains = shapely.contains(g1, g2) or shapely.contains(g2, g1)\n",
    "    if not bbox:\n",
    "        return \"No Bbox Overlap (FALSE)\"\n",
    "    elif not intersects:\n",
    "        return \"Bbox Overlap (FALSE)\"\n",
    "    elif not contains:\n",
    "        return \"Bbox Partial Overlap (TRUE)\"\n",
    "    else:\n",
    "        return \"Bbox Inside Other (TRUE)\"\n",
    "\n",
    "def get_category_stat(g1, g2):\n",
    "        s1, s2 = (shapely.get_num_coordinates(g1), shapely.get_num_coordinates(g2))\n",
    "        size_category = get_intersection_category(s1, s2)\n",
    "        context_category = get_context_category(g1, g2)\n",
    "        return [size_category, context_category]\n",
    "\n",
    "\n",
    "#For taking mean of all stats, not just total time\n",
    "def get_time_stat(bins, predicate=False):\n",
    "    alg = chunk_bbox_is_intersecting if predicate else chunk_bbox_intersection\n",
    "    # 'decomp', 'nbr_recieved_chks', 'nbr_total_chks', 'total_time'\n",
    "    mean_stat = [0, 0, 0, 0]\n",
    "    for i in range(N):\n",
    "        stat, _ = alg(bins, get_stats=True)\n",
    "        mean_stat = [sum(x) for x in zip(mean_stat, stat)]\n",
    "    return mean_stat\n"
   ]
  },
  {
   "attachments": {},
   "cell_type": "markdown",
   "metadata": {},
   "source": [
    "#### Dataset Evaluation"
   ]
  },
  {
   "cell_type": "code",
   "execution_count": 6,
   "metadata": {},
   "outputs": [],
   "source": [
    "def evaluate_dataset(data, stats_df, delta_size=None):\n",
    "    for idx, (g1, g2) in enumerate(data):\n",
    "        if delta_size != None:\n",
    "            set_max_num_delta(delta_size)\n",
    "        #is_intersecting, intersect_points = binary_intersection(g1, g2)\n",
    "        bins = (fpd.compress(g1)[1], fpd.compress(g2)[1])\n",
    "\n",
    "        for is_predicate in [True,False]:\n",
    "            stats = []\n",
    "            stats.extend(get_time_stat(bins=bins, predicate=is_predicate))\n",
    "            stats.extend(get_category_stat(g1, g2))\n",
    "            stats.append(delta_size if delta_size != None else cfg.MAX_NUM_DELTAS)\n",
    "            stats.append(is_predicate)\n",
    "            stats.append(idx)\n",
    "            stats.append(cfg.BASELINE_ON)\n",
    "            stats_df.loc[len(stats_df)] = stats\n"
   ]
  },
  {
   "attachments": {},
   "cell_type": "markdown",
   "metadata": {},
   "source": [
    "#### Dataset Stats Collection"
   ]
  },
  {
   "cell_type": "code",
   "execution_count": 7,
   "metadata": {},
   "outputs": [],
   "source": [
    "stats_df = pd.DataFrame(columns=['decomp', 'nbr_recieved_chks', 'nbr_total_chks', 'total_time', \"sizes\", \"context\", \"delta_size\", \"predicate\", \"dataset_idx\", \"baseline\"])\n",
    "for baseline_on in [True, False]:\n",
    "    act_deact_baseline(activate=baseline_on)\n",
    "    for dataset in datasets:\n",
    "        evaluate_dataset(dataset, stats_df) # Second param: PLOT?"
   ]
  },
  {
   "attachments": {},
   "cell_type": "markdown",
   "metadata": {},
   "source": [
    "# Statistics Visualization"
   ]
  },
  {
   "cell_type": "markdown",
   "metadata": {},
   "source": [
    "#### Total Execution Time by Context"
   ]
  },
  {
   "cell_type": "code",
   "execution_count": 8,
   "metadata": {},
   "outputs": [],
   "source": [
    "total_time_df = stats_df[['context', 'total_time', 'sizes', 'baseline', 'predicate']]\n",
    "#total_time_df[\"context_size\"] = total_time_df[['sizes', 'context']].agg('-'.join, axis=1)\n"
   ]
  },
  {
   "attachments": {},
   "cell_type": "markdown",
   "metadata": {},
   "source": [
    "##### Boxes"
   ]
  },
  {
   "cell_type": "code",
   "execution_count": 9,
   "metadata": {},
   "outputs": [],
   "source": [
    "# def plot_total_time_box(df, is_predicate=False, size_cat_excl=[], show_outliers=True, log_scale=True):\n",
    "#     df = df[df['predicate'] == is_predicate]\n",
    "    \n",
    "#     for cat in size_cat_excl:\n",
    "#         df = df[df['sizes'].str.contains(cat) == False]\n",
    "\n",
    "#     df.reset_index(inplace=True)\n",
    "#     fig = go.Figure()\n",
    "#     for is_baseline, color_palette in [(True, '#3D9970'), (False,'#FF4136')]:\n",
    "#         curr_df = df[df['baseline'] == is_baseline]\n",
    "#         fig.add_trace(go.Box(\n",
    "#         y= curr_df.total_time.values,\n",
    "#         x=curr_df.context_size.values,\n",
    "#         name='Baseline' if is_baseline else 'FPDE',\n",
    "#         marker_color=color_palette\n",
    "#         ))\n",
    "\n",
    "#     fig.update_layout(\n",
    "#     yaxis_title='normalized moisture',\n",
    "#     boxmode='group' # group together boxes of the different traces for each value of x\n",
    "#     )\n",
    "#     intersection_format = \"Intersection\" if not is_predicate else \"IsIntersection\"\n",
    "#     fig.update_layout(title=f\"Total Execution time for {intersection_format}\",title_x=0.5, boxmode='group')\n",
    "#     fig.update_layout(barmode=\"relative\", xaxis_title=\"Context\", yaxis_title=\"Execution speed\")\n",
    "#     if not show_outliers:\n",
    "#         fig.update_traces(boxpoints=False) \n",
    "\n",
    "#     if log_scale:\n",
    "#         fig.update_yaxes(type=\"log\")\n",
    "\n",
    "#     fig.show()\n",
    "\n",
    "import plotly.express as px\n",
    "def plot_total_time_box(df, is_predicate=False, size_cat_excl=[], log_scale=True):\n",
    "    df = df[df['predicate'] == is_predicate]\n",
    "    \n",
    "    for cat in size_cat_excl:\n",
    "        df = df[df['sizes'].str.contains(cat) == False]\n",
    "\n",
    "    df.reset_index(inplace=True)\n",
    "    intersection_formatting = \"Intersection\" if not is_predicate else \"Is_Intersection\"\n",
    "    fig = px.box(df, \n",
    "                 x=\"context\", \n",
    "                 y=\"total_time\",\n",
    "                 facet_col=\"sizes\", \n",
    "                 color=\"baseline\",\n",
    "                 boxmode=\"group\", \n",
    "                 log_y=log_scale,facet_col_spacing=0.05, \n",
    "                 title=f\"Execution Time for {intersection_formatting} in Different Contexts & Sizes\",\n",
    "                 labels=dict(sizes=\"Sizes\", context=\"Context\", baseline=\"Baseline\")\n",
    "                 )\n",
    "\n",
    "    \n",
    "\n",
    "    fig.update_yaxes(matches=None)\n",
    "    fig.for_each_yaxis(lambda yaxis: yaxis.update(showticklabels=True))\n",
    "    \n",
    "    fig.show()"
   ]
  },
  {
   "attachments": {},
   "cell_type": "markdown",
   "metadata": {},
   "source": [
    "##### Bars"
   ]
  },
  {
   "cell_type": "code",
   "execution_count": 10,
   "metadata": {},
   "outputs": [],
   "source": [
    "def plot_total_time_bars(df, is_predicate=False, size_cat_excl=[], log_scale=True):\n",
    "    df = df[df['predicate'] == is_predicate]\n",
    "    \n",
    "    for cat in size_cat_excl:\n",
    "        df = df[df['sizes'].str.contains(cat) == False]\n",
    "    \n",
    "   # df = df.groupby(['context', 'sizes', 'baseline']).mean()\n",
    "    df.reset_index(inplace=True)\n",
    "    intersection_formatting = \"Intersection\" if not is_predicate else \"Is_Intersection\"\n",
    "    fig = px.histogram(df, \n",
    "                       x=\"context\", \n",
    "                       y=\"total_time\", \n",
    "                       color='baseline',\n",
    "                       facet_col=\"sizes\", \n",
    "                       barmode='group',\n",
    "                       log_y=log_scale, \n",
    "                       facet_col_spacing=0.05, \n",
    "                       histfunc=\"avg\", \n",
    "                       title=f\"Execution Time for {intersection_formatting} in Different Contexts & Sizes\",\n",
    "                       labels=dict(sizes=\"Sizes\", context=\"Context\", baseline=\"Baseline\")\n",
    "                       )\n",
    "    \n",
    "    fig.for_each_yaxis(lambda yaxis: yaxis.update(showticklabels=True))\n",
    "    fig.update_yaxes(matches=None, showticklabels=True, visible=True)\n",
    "    fig.update_layout(barmode=\"group\", xaxis_title=\"Context\", yaxis_title=\"Mean Execution Time (s)\")\n",
    "   \n",
    "    fig.show()\n"
   ]
  },
  {
   "attachments": {},
   "cell_type": "markdown",
   "metadata": {},
   "source": [
    "#### Chunk Unfolding Analyzation"
   ]
  },
  {
   "cell_type": "code",
   "execution_count": 11,
   "metadata": {},
   "outputs": [],
   "source": [
    "chunk_unfolded_df = stats_df[['nbr_recieved_chks', 'nbr_total_chks','predicate','baseline', 'context', 'sizes']]\n",
    "chunk_unfolded_df[\"chk_fraction_unfolded\"] = chunk_unfolded_df[\"nbr_recieved_chks\"].div(chunk_unfolded_df.nbr_total_chks, axis=0) * 100"
   ]
  },
  {
   "cell_type": "code",
   "execution_count": 12,
   "metadata": {},
   "outputs": [],
   "source": [
    "def plot_chunk_unfolded_frac(df, is_predicate=False, is_baseline=False):\n",
    "    df = df[df['predicate'] == is_predicate]\n",
    "    df = df[df['baseline'] == is_baseline]\n",
    "\n",
    "    df = df.groupby(['context', 'sizes']).mean()\n",
    "    df.reset_index(inplace=True)\n",
    "    x = [\n",
    "        df.context.values,\n",
    "        df.sizes.values\n",
    "        \n",
    "    ]\n",
    "    fig = go.Figure()\n",
    "    fig.add_bar(y=x,x=df.chk_fraction_unfolded.values, name=\"Chunk Fraction Unfolded\", orientation='h')\n",
    "\n",
    "    intersection_format = \"Intersection\" if not is_predicate else \"IsIntersection\"\n",
    "    baseline_format = \"\" if not is_baseline else \"(BASELINE)\"\n",
    "\n",
    "    fig.update_layout(title=f\"Fraction of Chunks Unfolded for {intersection_format} {baseline_format}\",title_x=0.5)\n",
    "    fig.update_layout(barmode=\"relative\", xaxis_title=\"Chunks Unfolded (%)\", yaxis_title=\"Context + Geometry Size\")\n",
    "\n",
    "    fig.show()"
   ]
  },
  {
   "attachments": {},
   "cell_type": "markdown",
   "metadata": {},
   "source": [
    "#### Fraction of Time for Partial Decompression Analysis"
   ]
  },
  {
   "cell_type": "code",
   "execution_count": 13,
   "metadata": {},
   "outputs": [],
   "source": [
    "partial_frac_df = stats_df[['decomp', 'total_time', 'predicate','baseline', 'context', 'sizes']]\n",
    "partial_frac_df[\"decomp\"] = partial_frac_df[\"decomp\"].div(partial_frac_df.total_time/100, axis=0)\n",
    "partial_frac_df['algo_time'] = partial_frac_df.apply(lambda x: 100 - x['decomp'], axis=1)"
   ]
  },
  {
   "cell_type": "code",
   "execution_count": 14,
   "metadata": {},
   "outputs": [],
   "source": [
    "def plot_partial_decomp_frac(df, is_predicate=False, is_baseline=False):\n",
    "    df = df[df['predicate'] == is_predicate]\n",
    "    df = df[df['baseline'] == is_baseline]\n",
    "\n",
    "    df = df.groupby(['context', 'sizes']).mean()\n",
    "    df.reset_index(inplace=True)\n",
    "    x = [\n",
    "        df.context.values,\n",
    "        df.sizes.values\n",
    "    ]\n",
    "\n",
    "    intersection_format = \"Intersection\" if not is_predicate else \"IsIntersection\"\n",
    "    baseline_format = \"\" if not is_baseline else \"(Baseline)\"\n",
    "    \n",
    "    fig = go.Figure()\n",
    "    fig.add_bar(y=x,x=df.decomp.values, name=\"Decompression Stage\",orientation='h')\n",
    "    fig.add_bar(y=x,x=df.algo_time.values, name=intersection_format, orientation='h')\n",
    "    fig.update_layout(title=f\"Execution Time Distrubution for {intersection_format} {baseline_format}\",title_x=0.5)\n",
    "    fig.update_layout(barmode=\"relative\", xaxis_title=\"Execution Time (%)\", yaxis_title=\"Context + Geometry Size)\")\n",
    "    fig.update_layout(legend=dict(yanchor=\"top\",y=1.2, xanchor=\"right\", x=0.997))\n",
    "    fig.show()"
   ]
  },
  {
   "attachments": {},
   "cell_type": "markdown",
   "metadata": {},
   "source": [
    "#### Best MAX_NUM_DELTAS per Dataset Analysis"
   ]
  },
  {
   "cell_type": "code",
   "execution_count": 15,
   "metadata": {},
   "outputs": [],
   "source": [
    "max_deltas_df = pd.DataFrame(columns=['decomp', 'nbr_recieved_chks', 'nbr_total_chks', 'total_time', \"sizes\", \"context\", \"delta_size\", \"predicate\", \"dataset_idx\", \"baseline\"])\n",
    "for max_delta_size in range(0,4):\n",
    "    for dataset in datasets:\n",
    "        for baseline_on in [True, False]:\n",
    "            act_deact_baseline(activate=baseline_on)        \n",
    "            evaluate_dataset(data=dataset, stats_df=max_deltas_df, delta_size=max_delta_size)    "
   ]
  },
  {
   "cell_type": "code",
   "execution_count": 16,
   "metadata": {},
   "outputs": [],
   "source": [
    "max_deltas_filt_df = max_deltas_df[['total_time', \"sizes\", \"delta_size\", \"predicate\", \"baseline\"]]"
   ]
  },
  {
   "cell_type": "code",
   "execution_count": 17,
   "metadata": {},
   "outputs": [],
   "source": [
    "def plot_max_delta_size_speed(df, is_predicate=False):\n",
    "    df = df[df['predicate'] == is_predicate]\n",
    "    df = df.groupby(['delta_size', 'sizes', 'baseline']).mean()\n",
    "    df.reset_index(inplace=True)\n",
    "    \n",
    "    sizes = dict(zip(list(df.sizes.unique()), range(len(df.sizes.unique()))))\n",
    "    fig = make_subplots(rows=2, cols=3, subplot_titles=(list(sizes.keys())), horizontal_spacing=0.1, x_title=\"Max Chunk Size\", y_title=\"Mean Execution Time (s)\")\n",
    "    for size in sizes.keys():\n",
    "        curr_context_df = df[(df['sizes'] == size)]\n",
    "        for is_baseline in [True, False]:\n",
    "            curr_df = curr_context_df[curr_context_df['baseline'] == is_baseline]\n",
    "            baseline_formatting = \"\" if not is_baseline else \"(Baseline)\"\n",
    "            fig.add_trace(go.Scatter(x=curr_df.delta_size.values, y=curr_df.total_time.values,\n",
    "                                    mode='lines',\n",
    "                                    name=f\"{size}{baseline_formatting}\"),row=sizes[size] // 3 + 1, col=sizes[size] % 3 + 1)\n",
    "            \n",
    "    \n",
    "    intersection_format = \"Intersection\" if not is_predicate else \"IsIntersection\"\n",
    "    baseline_format = \"\" if not is_baseline else \"(Baseline)\"\n",
    "    fig.update_layout(title=f\"Execution Time for {intersection_format} by Max Chunk Size {baseline_format}\",title_x=0.5)\n",
    "    fig.show()"
   ]
  },
  {
   "attachments": {},
   "cell_type": "markdown",
   "metadata": {},
   "source": [
    "## Results"
   ]
  },
  {
   "attachments": {},
   "cell_type": "markdown",
   "metadata": {},
   "source": [
    "#### Total time Analysis"
   ]
  },
  {
   "cell_type": "code",
   "execution_count": 18,
   "metadata": {},
   "outputs": [
    {
     "data": {
      "application/vnd.plotly.v1+json": {
       "config": {
        "plotlyServerURL": "https://plot.ly"
       },
       "data": [
        {
         "alignmentgroup": "True",
         "hovertemplate": "Baseline=True<br>Sizes=Small<br>Context=%{x}<br>total_time=%{y}<extra></extra>",
         "legendgroup": "True",
         "marker": {
          "color": "#636efa"
         },
         "name": "True",
         "notched": false,
         "offsetgroup": "True",
         "orientation": "v",
         "showlegend": true,
         "type": "box",
         "x": [
          "Bbox Overlap (FALSE)",
          "Bbox Partial Overlap (TRUE)",
          "Bbox Inside Other (TRUE)",
          "Bbox Overlap (FALSE)",
          "Bbox Partial Overlap (TRUE)",
          "Bbox Partial Overlap (TRUE)",
          "Bbox Partial Overlap (TRUE)",
          "Bbox Partial Overlap (TRUE)",
          "Bbox Partial Overlap (TRUE)",
          "Bbox Partial Overlap (TRUE)",
          "Bbox Partial Overlap (TRUE)",
          "Bbox Overlap (FALSE)",
          "Bbox Overlap (FALSE)",
          "Bbox Partial Overlap (TRUE)",
          "Bbox Partial Overlap (TRUE)",
          "Bbox Inside Other (TRUE)",
          "Bbox Inside Other (TRUE)",
          "Bbox Partial Overlap (TRUE)",
          "Bbox Partial Overlap (TRUE)",
          "Bbox Partial Overlap (TRUE)",
          "Bbox Partial Overlap (TRUE)",
          "Bbox Partial Overlap (TRUE)",
          "Bbox Partial Overlap (TRUE)",
          "Bbox Overlap (FALSE)",
          "Bbox Overlap (FALSE)",
          "Bbox Overlap (FALSE)",
          "Bbox Inside Other (TRUE)",
          "Bbox Partial Overlap (TRUE)",
          "Bbox Overlap (FALSE)",
          "Bbox Overlap (FALSE)",
          "Bbox Overlap (FALSE)",
          "Bbox Overlap (FALSE)",
          "Bbox Overlap (FALSE)",
          "Bbox Overlap (FALSE)",
          "Bbox Overlap (FALSE)",
          "Bbox Overlap (FALSE)",
          "Bbox Overlap (FALSE)",
          "Bbox Overlap (FALSE)",
          "Bbox Overlap (FALSE)",
          "Bbox Overlap (FALSE)",
          "Bbox Overlap (FALSE)",
          "Bbox Overlap (FALSE)",
          "Bbox Overlap (FALSE)",
          "Bbox Overlap (FALSE)",
          "Bbox Overlap (FALSE)",
          "Bbox Overlap (FALSE)",
          "Bbox Overlap (FALSE)",
          "Bbox Overlap (FALSE)",
          "Bbox Overlap (FALSE)",
          "Bbox Overlap (FALSE)",
          "Bbox Overlap (FALSE)",
          "Bbox Overlap (FALSE)",
          "Bbox Overlap (FALSE)",
          "Bbox Overlap (FALSE)",
          "Bbox Overlap (FALSE)",
          "Bbox Overlap (FALSE)",
          "Bbox Overlap (FALSE)",
          "Bbox Overlap (FALSE)",
          "Bbox Overlap (FALSE)",
          "Bbox Overlap (FALSE)",
          "Bbox Overlap (FALSE)",
          "Bbox Overlap (FALSE)",
          "Bbox Overlap (FALSE)",
          "Bbox Overlap (FALSE)",
          "Bbox Overlap (FALSE)",
          "Bbox Overlap (FALSE)",
          "Bbox Overlap (FALSE)",
          "Bbox Overlap (FALSE)",
          "Bbox Overlap (FALSE)",
          "Bbox Overlap (FALSE)",
          "Bbox Overlap (FALSE)",
          "Bbox Overlap (FALSE)",
          "Bbox Overlap (FALSE)",
          "Bbox Overlap (FALSE)",
          "Bbox Overlap (FALSE)",
          "Bbox Overlap (FALSE)",
          "Bbox Overlap (FALSE)",
          "Bbox Overlap (FALSE)",
          "Bbox Overlap (FALSE)",
          "Bbox Overlap (FALSE)",
          "Bbox Overlap (FALSE)",
          "Bbox Overlap (FALSE)",
          "Bbox Overlap (FALSE)",
          "Bbox Overlap (FALSE)",
          "Bbox Overlap (FALSE)",
          "Bbox Overlap (FALSE)",
          "Bbox Overlap (FALSE)",
          "Bbox Overlap (FALSE)",
          "Bbox Overlap (FALSE)",
          "Bbox Overlap (FALSE)",
          "Bbox Overlap (FALSE)",
          "Bbox Overlap (FALSE)",
          "Bbox Overlap (FALSE)",
          "Bbox Overlap (FALSE)",
          "Bbox Partial Overlap (TRUE)",
          "Bbox Overlap (FALSE)",
          "Bbox Overlap (FALSE)",
          "Bbox Overlap (FALSE)",
          "Bbox Overlap (FALSE)",
          "Bbox Overlap (FALSE)",
          "Bbox Overlap (FALSE)",
          "Bbox Overlap (FALSE)",
          "Bbox Overlap (FALSE)",
          "Bbox Overlap (FALSE)",
          "Bbox Overlap (FALSE)",
          "Bbox Overlap (FALSE)",
          "Bbox Overlap (FALSE)",
          "Bbox Overlap (FALSE)",
          "Bbox Overlap (FALSE)",
          "Bbox Overlap (FALSE)",
          "Bbox Overlap (FALSE)",
          "Bbox Overlap (FALSE)",
          "Bbox Overlap (FALSE)",
          "Bbox Overlap (FALSE)",
          "Bbox Partial Overlap (TRUE)",
          "Bbox Partial Overlap (TRUE)",
          "Bbox Partial Overlap (TRUE)",
          "Bbox Partial Overlap (TRUE)",
          "Bbox Partial Overlap (TRUE)",
          "Bbox Partial Overlap (TRUE)",
          "Bbox Partial Overlap (TRUE)",
          "Bbox Partial Overlap (TRUE)",
          "Bbox Overlap (FALSE)",
          "Bbox Partial Overlap (TRUE)",
          "Bbox Partial Overlap (TRUE)",
          "Bbox Partial Overlap (TRUE)",
          "Bbox Overlap (FALSE)",
          "Bbox Overlap (FALSE)",
          "Bbox Partial Overlap (TRUE)",
          "Bbox Partial Overlap (TRUE)",
          "Bbox Overlap (FALSE)",
          "Bbox Partial Overlap (TRUE)",
          "Bbox Partial Overlap (TRUE)",
          "Bbox Partial Overlap (TRUE)",
          "Bbox Overlap (FALSE)",
          "Bbox Overlap (FALSE)",
          "Bbox Overlap (FALSE)",
          "Bbox Partial Overlap (TRUE)",
          "Bbox Partial Overlap (TRUE)",
          "Bbox Partial Overlap (TRUE)",
          "Bbox Partial Overlap (TRUE)",
          "Bbox Partial Overlap (TRUE)",
          "Bbox Partial Overlap (TRUE)",
          "Bbox Overlap (FALSE)",
          "Bbox Overlap (FALSE)",
          "Bbox Overlap (FALSE)",
          "Bbox Overlap (FALSE)",
          "Bbox Overlap (FALSE)",
          "Bbox Overlap (FALSE)",
          "Bbox Partial Overlap (TRUE)",
          "Bbox Partial Overlap (TRUE)",
          "Bbox Overlap (FALSE)",
          "Bbox Partial Overlap (TRUE)",
          "Bbox Partial Overlap (TRUE)",
          "Bbox Partial Overlap (TRUE)",
          "Bbox Partial Overlap (TRUE)",
          "Bbox Overlap (FALSE)",
          "Bbox Partial Overlap (TRUE)",
          "Bbox Partial Overlap (TRUE)",
          "Bbox Partial Overlap (TRUE)",
          "Bbox Partial Overlap (TRUE)",
          "Bbox Partial Overlap (TRUE)",
          "Bbox Partial Overlap (TRUE)",
          "Bbox Partial Overlap (TRUE)",
          "Bbox Partial Overlap (TRUE)",
          "Bbox Partial Overlap (TRUE)",
          "Bbox Partial Overlap (TRUE)",
          "Bbox Partial Overlap (TRUE)",
          "Bbox Partial Overlap (TRUE)",
          "Bbox Partial Overlap (TRUE)",
          "Bbox Partial Overlap (TRUE)",
          "Bbox Partial Overlap (TRUE)",
          "Bbox Partial Overlap (TRUE)",
          "Bbox Partial Overlap (TRUE)",
          "Bbox Partial Overlap (TRUE)",
          "Bbox Partial Overlap (TRUE)",
          "Bbox Partial Overlap (TRUE)",
          "Bbox Partial Overlap (TRUE)",
          "Bbox Partial Overlap (TRUE)",
          "Bbox Partial Overlap (TRUE)",
          "Bbox Overlap (FALSE)",
          "Bbox Overlap (FALSE)",
          "Bbox Partial Overlap (TRUE)",
          "Bbox Overlap (FALSE)",
          "Bbox Partial Overlap (TRUE)",
          "Bbox Overlap (FALSE)",
          "Bbox Partial Overlap (TRUE)",
          "Bbox Partial Overlap (TRUE)",
          "Bbox Partial Overlap (TRUE)",
          "Bbox Partial Overlap (TRUE)",
          "Bbox Partial Overlap (TRUE)",
          "Bbox Partial Overlap (TRUE)",
          "Bbox Overlap (FALSE)",
          "Bbox Partial Overlap (TRUE)",
          "Bbox Partial Overlap (TRUE)",
          "Bbox Partial Overlap (TRUE)",
          "Bbox Partial Overlap (TRUE)",
          "Bbox Partial Overlap (TRUE)",
          "Bbox Partial Overlap (TRUE)",
          "Bbox Partial Overlap (TRUE)",
          "Bbox Overlap (FALSE)",
          "Bbox Partial Overlap (TRUE)",
          "Bbox Partial Overlap (TRUE)",
          "Bbox Partial Overlap (TRUE)",
          "Bbox Overlap (FALSE)",
          "Bbox Overlap (FALSE)",
          "Bbox Overlap (FALSE)",
          "Bbox Overlap (FALSE)",
          "Bbox Partial Overlap (TRUE)",
          "Bbox Partial Overlap (TRUE)",
          "Bbox Partial Overlap (TRUE)",
          "Bbox Partial Overlap (TRUE)",
          "Bbox Partial Overlap (TRUE)",
          "Bbox Partial Overlap (TRUE)",
          "Bbox Partial Overlap (TRUE)",
          "Bbox Partial Overlap (TRUE)",
          "Bbox Partial Overlap (TRUE)",
          "Bbox Partial Overlap (TRUE)",
          "Bbox Partial Overlap (TRUE)",
          "Bbox Overlap (FALSE)",
          "Bbox Partial Overlap (TRUE)",
          "Bbox Partial Overlap (TRUE)",
          "Bbox Overlap (FALSE)",
          "Bbox Overlap (FALSE)",
          "Bbox Overlap (FALSE)",
          "Bbox Partial Overlap (TRUE)",
          "Bbox Overlap (FALSE)",
          "Bbox Overlap (FALSE)",
          "Bbox Overlap (FALSE)",
          "Bbox Partial Overlap (TRUE)",
          "Bbox Overlap (FALSE)",
          "Bbox Overlap (FALSE)",
          "Bbox Partial Overlap (TRUE)",
          "Bbox Partial Overlap (TRUE)",
          "Bbox Overlap (FALSE)",
          "Bbox Partial Overlap (TRUE)",
          "Bbox Partial Overlap (TRUE)",
          "Bbox Overlap (FALSE)",
          "Bbox Partial Overlap (TRUE)",
          "Bbox Partial Overlap (TRUE)",
          "Bbox Partial Overlap (TRUE)",
          "Bbox Partial Overlap (TRUE)",
          "Bbox Overlap (FALSE)",
          "Bbox Partial Overlap (TRUE)",
          "Bbox Partial Overlap (TRUE)",
          "Bbox Overlap (FALSE)",
          "Bbox Overlap (FALSE)",
          "Bbox Overlap (FALSE)",
          "Bbox Partial Overlap (TRUE)",
          "Bbox Overlap (FALSE)",
          "Bbox Partial Overlap (TRUE)",
          "Bbox Partial Overlap (TRUE)",
          "Bbox Partial Overlap (TRUE)",
          "Bbox Partial Overlap (TRUE)",
          "Bbox Partial Overlap (TRUE)",
          "Bbox Partial Overlap (TRUE)",
          "Bbox Partial Overlap (TRUE)",
          "Bbox Partial Overlap (TRUE)",
          "Bbox Overlap (FALSE)",
          "Bbox Overlap (FALSE)",
          "Bbox Partial Overlap (TRUE)",
          "Bbox Partial Overlap (TRUE)",
          "Bbox Partial Overlap (TRUE)",
          "Bbox Partial Overlap (TRUE)",
          "Bbox Partial Overlap (TRUE)",
          "Bbox Partial Overlap (TRUE)",
          "Bbox Partial Overlap (TRUE)",
          "Bbox Partial Overlap (TRUE)",
          "Bbox Partial Overlap (TRUE)",
          "Bbox Partial Overlap (TRUE)",
          "Bbox Partial Overlap (TRUE)",
          "Bbox Partial Overlap (TRUE)",
          "Bbox Partial Overlap (TRUE)",
          "Bbox Partial Overlap (TRUE)",
          "Bbox Overlap (FALSE)",
          "Bbox Overlap (FALSE)",
          "Bbox Partial Overlap (TRUE)",
          "Bbox Partial Overlap (TRUE)",
          "Bbox Overlap (FALSE)",
          "Bbox Partial Overlap (TRUE)",
          "Bbox Partial Overlap (TRUE)",
          "Bbox Overlap (FALSE)",
          "Bbox Partial Overlap (TRUE)",
          "Bbox Partial Overlap (TRUE)",
          "Bbox Partial Overlap (TRUE)",
          "Bbox Partial Overlap (TRUE)",
          "Bbox Partial Overlap (TRUE)",
          "Bbox Partial Overlap (TRUE)",
          "Bbox Overlap (FALSE)",
          "Bbox Partial Overlap (TRUE)",
          "Bbox Partial Overlap (TRUE)",
          "Bbox Partial Overlap (TRUE)",
          "Bbox Partial Overlap (TRUE)",
          "Bbox Partial Overlap (TRUE)",
          "Bbox Partial Overlap (TRUE)",
          "Bbox Partial Overlap (TRUE)",
          "Bbox Partial Overlap (TRUE)",
          "Bbox Partial Overlap (TRUE)",
          "Bbox Partial Overlap (TRUE)",
          "Bbox Partial Overlap (TRUE)",
          "Bbox Partial Overlap (TRUE)",
          "Bbox Partial Overlap (TRUE)",
          "Bbox Partial Overlap (TRUE)",
          "Bbox Partial Overlap (TRUE)",
          "Bbox Partial Overlap (TRUE)",
          "Bbox Partial Overlap (TRUE)",
          "Bbox Partial Overlap (TRUE)",
          "Bbox Partial Overlap (TRUE)",
          "Bbox Partial Overlap (TRUE)",
          "Bbox Partial Overlap (TRUE)",
          "Bbox Partial Overlap (TRUE)",
          "Bbox Partial Overlap (TRUE)",
          "Bbox Partial Overlap (TRUE)",
          "Bbox Partial Overlap (TRUE)",
          "Bbox Partial Overlap (TRUE)",
          "Bbox Partial Overlap (TRUE)",
          "Bbox Partial Overlap (TRUE)",
          "Bbox Partial Overlap (TRUE)",
          "Bbox Partial Overlap (TRUE)",
          "Bbox Partial Overlap (TRUE)",
          "Bbox Partial Overlap (TRUE)",
          "Bbox Partial Overlap (TRUE)",
          "Bbox Partial Overlap (TRUE)",
          "Bbox Partial Overlap (TRUE)",
          "Bbox Partial Overlap (TRUE)",
          "Bbox Partial Overlap (TRUE)",
          "Bbox Partial Overlap (TRUE)",
          "Bbox Overlap (FALSE)",
          "Bbox Partial Overlap (TRUE)",
          "Bbox Partial Overlap (TRUE)",
          "Bbox Partial Overlap (TRUE)",
          "Bbox Partial Overlap (TRUE)",
          "Bbox Partial Overlap (TRUE)",
          "Bbox Overlap (FALSE)",
          "Bbox Overlap (FALSE)",
          "Bbox Partial Overlap (TRUE)",
          "Bbox Overlap (FALSE)",
          "Bbox Overlap (FALSE)",
          "Bbox Partial Overlap (TRUE)",
          "Bbox Partial Overlap (TRUE)"
         ],
         "x0": " ",
         "xaxis": "x",
         "y": [
          0.0004963139945175499,
          0.0018291559972567484,
          0.000768031008192338,
          0.00013566898996941745,
          0.0017342770006507635,
          0.0016853059933055192,
          0.0015394140064017847,
          0.004609554001945071,
          0.004171599997789599,
          0.005553372990107164,
          0.005273179995128885,
          0.0004104249965166673,
          0.00040291099867317826,
          0.0019204459968023002,
          0.0016435579891549423,
          0.0006514940032502636,
          0.0009872340015135705,
          0.00041213400254491717,
          0.0004026440001325682,
          0.0038642459985567257,
          0.004396723001264036,
          0.007495892001315951,
          0.007076591995428316,
          0.0004194310022285208,
          0.0006458169955294579,
          0.0003811710048466921,
          0.00042574100370984524,
          0.00035081700480077416,
          0.0002614539989735931,
          0.00020186899928376079,
          0.00019327699556015432,
          0.00019354400865267962,
          0.0001947150012711063,
          0.00019616801000665873,
          0.0001966119889402762,
          0.0001982950052479282,
          0.00024700000358279794,
          0.00019711200729943812,
          0.0003114449937129393,
          0.00019849000091198832,
          0.00024021000717766583,
          0.0002147069899365306,
          0.0002342569932807237,
          0.0002502959978301078,
          0.00022006699873600155,
          0.00022384799376595765,
          0.00022661600087303668,
          0.00022577898926101625,
          0.00022459699539467692,
          0.00027860399859491736,
          0.00022747299226466566,
          0.00025108100089710206,
          0.00039616999856662005,
          0.00024336199567187577,
          0.00023728499945718795,
          0.0002284460060764104,
          0.0002279550099046901,
          0.0003009490028489381,
          0.0002275139995617792,
          0.000225986004807055,
          0.00023561299894936383,
          0.0002562260051490739,
          0.00024449800548609346,
          0.000397848998545669,
          0.00032387199462391436,
          0.00026809400878846645,
          0.000234974009799771,
          0.0003521920007187873,
          0.00029850099235773087,
          0.00039570999797433615,
          0.0004557229985948652,
          0.0002322710060980171,
          0.00030325700936373323,
          0.00022892501146998256,
          0.0002556529943831265,
          0.00023887300631031394,
          0.0003902400057995692,
          0.00023835600586608052,
          0.00026148500910494477,
          0.00040313199860975146,
          0.00028264800494071096,
          0.0002556389954406768,
          0.00027409300673753023,
          0.0002934789954451844,
          0.00022838999575469643,
          0.00026210899522993714,
          0.00024086498888209462,
          0.0002159830037271604,
          0.0002444319979986176,
          0.00023983999562915415,
          0.0005124360031913966,
          0.0002241710026282817,
          0.00022029101091902703,
          0.00040605899994261563,
          0.0006736790091963485,
          0.0003323900018585846,
          0.0002482859999872744,
          0.0003390219935681671,
          0.00033158899168483913,
          0.00025979299971368164,
          0.00032520099193789065,
          0.00025015100254677236,
          0.00022653699852526188,
          0.00022622299729846418,
          0.00022643299598712474,
          0.0002588619972812012,
          0.00023812399012967944,
          0.00026465600240044296,
          0.00021268001000862569,
          0.00021463699522428215,
          0.00021651899442076683,
          0.00022198099759407341,
          0.00039474999357480556,
          0.0005392499879235402,
          0.00061486400954891,
          0.0006135349976830184,
          0.00043188899871893227,
          0.0004293490055715665,
          0.00043552300485316664,
          0.00042198300070594996,
          0.0008741799974814057,
          0.0006908770010340959,
          0.0003326500009279698,
          0.0014712889969814569,
          0.001311804007855244,
          0.0013417709997156635,
          0.00034143400262109935,
          0.0006049940129742026,
          0.0005005459970561787,
          0.0004251380014466122,
          0.00033392501063644886,
          0.0007071220024954528,
          0.0006334049976430833,
          0.0008504479919793084,
          0.0006110289978096262,
          0.0009545069915475324,
          0.0005129149940330535,
          0.0009979059977922589,
          0.0009540109895169735,
          0.0005915969959460199,
          0.0005108890036353841,
          0.0005191320087760687,
          0.0008230730018112808,
          0.0003118640015600249,
          0.0003085000062128529,
          0.0003631309955380857,
          0.00041485698602627963,
          0.00041526800487190485,
          0.00044460000935941935,
          0.000859642997966148,
          0.001298004004638642,
          0.0004316199920140207,
          0.0006871290097478777,
          0.0011107290047220886,
          0.001111751000280492,
          0.0012101089960196987,
          0.0003422739973757416,
          0.000585961010074243,
          0.0004957539931638166,
          0.0007574769988423213,
          0.0004846330120926723,
          0.0005020000098738819,
          0.0008848069992382079,
          0.0017999569972744212,
          0.0006261290109250695,
          0.0005078840040368959,
          0.0005035409994889051,
          0.001037574009387754,
          0.00041246600449085236,
          0.0005420600064098835,
          0.00045929799671284854,
          0.0007789289957145229,
          0.0005691499973181635,
          0.0005856309871887788,
          0.000617928002611734,
          0.0005249709938652813,
          0.0010107779962709174,
          0.0007137479988159612,
          0.0004986429994460195,
          0.0005570950015680864,
          0.00026892700407188386,
          0.0002770139981294051,
          0.0004282279987819493,
          0.00020196998957544565,
          0.00042931501229759306,
          0.0004436250019352883,
          0.0006554040010087192,
          0.0008905690046958625,
          0.0010896589956246316,
          0.0008054870122577995,
          0.0010159550001844764,
          0.0006302760011749342,
          0.00030575800337828696,
          0.0009622780053177848,
          0.0007536189950769767,
          0.00040865900518838316,
          0.0005500249972101301,
          0.0005614830006379634,
          0.0005094100051792338,
          0.0007103440002538264,
          0.0006811719940742478,
          0.0010456339950906113,
          0.0007839190075173974,
          0.0007915360038168728,
          0.0003331659972900525,
          0.00033098700805567205,
          0.0003938430018024519,
          0.0005799409991595894,
          0.0004971769958501682,
          0.0005920709954807535,
          0.0006958390004001558,
          0.000532378995558247,
          0.0004504490061663091,
          0.00044859400077257305,
          0.0008841820090310648,
          0.0005580369906965643,
          0.0008443850092589855,
          0.0008404459949815646,
          0.0013176309876143932,
          0.00027194200083613396,
          0.0010264719894621521,
          0.000573390003410168,
          0.0003631710133049637,
          0.0003641240036813542,
          0.000396557996282354,
          0.000570267002331093,
          0.0002334040036657825,
          0.00023613200755789876,
          0.0004164260026300326,
          0.0008490059990435839,
          0.0003083120100200176,
          0.00046262699470389634,
          0.0008943319990066811,
          0.0008836369961500168,
          0.00031507600215263665,
          0.0007292859954759479,
          0.0008263359923148528,
          0.0004265180032234639,
          0.0009288180008297786,
          0.0004971010057488456,
          0.0007285180035978556,
          0.0005701319896616042,
          0.0006693749892292544,
          0.0005271679983707145,
          0.00046464700426440686,
          0.0004131330060772598,
          0.0004120700032217428,
          0.0005495200020959601,
          0.0006748510058969259,
          0.0003860989963868633,
          0.001546955987578258,
          0.0017627140041440725,
          0.0017739659961080179,
          0.0021551090030698106,
          0.0023786500096321106,
          0.0008559770067222416,
          0.001307116006501019,
          0.0008385949913645163,
          0.00040649100265000015,
          0.0003530370013322681,
          0.0008985380118247122,
          0.0017442670068703592,
          0.0009884989995043725,
          0.0007355529960477725,
          0.000576867998461239,
          0.0006048619979992509,
          0.0007599800010211766,
          0.0009515759884379804,
          0.0009400739945704117,
          0.0006942570034880191,
          0.00060982299328316,
          0.000601558989728801,
          0.0004175760113867,
          0.0004097540077054873,
          0.00021632399875670671,
          0.0001995759957935661,
          0.0004108790017198771,
          0.0004304210015106946,
          0.0003487790090730414,
          0.00042854799539782107,
          0.000447804995928891,
          0.00030744599644094706,
          0.0004945459950249642,
          0.000527222000528127,
          0.0005281460034893826,
          0.0006429070053854957,
          0.0006285350100370124,
          0.00042466500599402934,
          0.0002133289963239804,
          0.0007234850054373965,
          0.0007193649944383651,
          0.0009843720035860315,
          0.0013773160026175901,
          0.0005499199905898422,
          0.0005468500021379441,
          0.00044479299685917795,
          0.0004561500099953264,
          0.00047645300219301134,
          0.0004742370074382052,
          0.0005761680076830089,
          0.0008398270001634955,
          0.00040121498750522733,
          0.000614531003520824,
          0.0006687499990221113,
          0.0006244329997571185,
          0.0013276190002216026,
          0.0007675789966015145,
          0.0007549279980594292,
          0.0013002199993934482,
          0.000864724992425181,
          0.0008577670087106526,
          0.0008571630023652688,
          0.000999973010038957,
          0.0008966150053311139,
          0.0008029720047488809,
          0.0008166640036506578,
          0.0010106789995916188,
          0.0007906300015747547,
          0.0007494259916711599,
          0.0008996689866762608,
          0.0006354520010063425,
          0.0006372619973262772,
          0.000956442003371194,
          0.0009486600029049441,
          0.0008182320016203448,
          0.0009938450093613937,
          0.0007958119967952371,
          0.0005917639937251806,
          0.0010027569951489568,
          0.00036041899875272065,
          0.0004461490025278181,
          0.0006275499908952042,
          0.0007536529883509502,
          0.00030306499684229493,
          0.0003129659889964387,
          0.0004417229938553646,
          0.0002599260042188689,
          0.00025254600041080266,
          0.0002801380032906309,
          0.00029078099760226905
         ],
         "y0": " ",
         "yaxis": "y"
        },
        {
         "alignmentgroup": "True",
         "hovertemplate": "Baseline=True<br>Sizes=Small Medium Mixed<br>Context=%{x}<br>total_time=%{y}<extra></extra>",
         "legendgroup": "True",
         "marker": {
          "color": "#636efa"
         },
         "name": "True",
         "notched": false,
         "offsetgroup": "True",
         "orientation": "v",
         "showlegend": false,
         "type": "box",
         "x": [
          "Bbox Partial Overlap (TRUE)",
          "Bbox Partial Overlap (TRUE)",
          "Bbox Partial Overlap (TRUE)",
          "Bbox Partial Overlap (TRUE)",
          "Bbox Overlap (FALSE)",
          "Bbox Overlap (FALSE)",
          "Bbox Overlap (FALSE)",
          "Bbox Overlap (FALSE)",
          "Bbox Partial Overlap (TRUE)",
          "Bbox Overlap (FALSE)",
          "Bbox Overlap (FALSE)",
          "Bbox Overlap (FALSE)",
          "Bbox Overlap (FALSE)",
          "Bbox Overlap (FALSE)",
          "Bbox Overlap (FALSE)",
          "Bbox Overlap (FALSE)",
          "Bbox Overlap (FALSE)",
          "Bbox Partial Overlap (TRUE)",
          "Bbox Partial Overlap (TRUE)",
          "Bbox Partial Overlap (TRUE)",
          "Bbox Overlap (FALSE)",
          "Bbox Inside Other (TRUE)",
          "Bbox Overlap (FALSE)",
          "Bbox Partial Overlap (TRUE)",
          "Bbox Partial Overlap (TRUE)",
          "Bbox Inside Other (TRUE)",
          "Bbox Overlap (FALSE)",
          "Bbox Partial Overlap (TRUE)",
          "Bbox Partial Overlap (TRUE)",
          "Bbox Partial Overlap (TRUE)",
          "Bbox Overlap (FALSE)",
          "Bbox Partial Overlap (TRUE)",
          "Bbox Overlap (FALSE)",
          "Bbox Partial Overlap (TRUE)",
          "Bbox Partial Overlap (TRUE)",
          "Bbox Partial Overlap (TRUE)",
          "Bbox Partial Overlap (TRUE)",
          "Bbox Partial Overlap (TRUE)",
          "Bbox Partial Overlap (TRUE)",
          "Bbox Partial Overlap (TRUE)",
          "Bbox Partial Overlap (TRUE)",
          "Bbox Partial Overlap (TRUE)",
          "Bbox Partial Overlap (TRUE)",
          "Bbox Partial Overlap (TRUE)",
          "Bbox Partial Overlap (TRUE)",
          "Bbox Partial Overlap (TRUE)",
          "Bbox Partial Overlap (TRUE)",
          "Bbox Partial Overlap (TRUE)",
          "Bbox Partial Overlap (TRUE)",
          "Bbox Partial Overlap (TRUE)",
          "Bbox Overlap (FALSE)",
          "Bbox Overlap (FALSE)",
          "Bbox Overlap (FALSE)",
          "Bbox Overlap (FALSE)",
          "Bbox Partial Overlap (TRUE)",
          "Bbox Partial Overlap (TRUE)",
          "Bbox Partial Overlap (TRUE)",
          "Bbox Partial Overlap (TRUE)",
          "Bbox Partial Overlap (TRUE)",
          "Bbox Partial Overlap (TRUE)",
          "Bbox Partial Overlap (TRUE)",
          "Bbox Partial Overlap (TRUE)",
          "Bbox Overlap (FALSE)",
          "Bbox Partial Overlap (TRUE)",
          "Bbox Partial Overlap (TRUE)",
          "Bbox Partial Overlap (TRUE)",
          "Bbox Partial Overlap (TRUE)",
          "Bbox Partial Overlap (TRUE)",
          "Bbox Partial Overlap (TRUE)",
          "Bbox Overlap (FALSE)",
          "Bbox Partial Overlap (TRUE)",
          "Bbox Partial Overlap (TRUE)",
          "Bbox Partial Overlap (TRUE)",
          "Bbox Partial Overlap (TRUE)",
          "Bbox Partial Overlap (TRUE)",
          "Bbox Overlap (FALSE)",
          "Bbox Overlap (FALSE)",
          "Bbox Overlap (FALSE)",
          "Bbox Partial Overlap (TRUE)",
          "Bbox Overlap (FALSE)",
          "Bbox Overlap (FALSE)",
          "Bbox Overlap (FALSE)",
          "Bbox Overlap (FALSE)",
          "Bbox Overlap (FALSE)",
          "Bbox Overlap (FALSE)",
          "Bbox Overlap (FALSE)",
          "Bbox Partial Overlap (TRUE)",
          "Bbox Partial Overlap (TRUE)",
          "Bbox Overlap (FALSE)",
          "Bbox Partial Overlap (TRUE)",
          "Bbox Partial Overlap (TRUE)",
          "Bbox Partial Overlap (TRUE)",
          "Bbox Partial Overlap (TRUE)",
          "Bbox Partial Overlap (TRUE)",
          "Bbox Partial Overlap (TRUE)",
          "Bbox Partial Overlap (TRUE)",
          "Bbox Partial Overlap (TRUE)",
          "Bbox Overlap (FALSE)",
          "Bbox Overlap (FALSE)",
          "Bbox Overlap (FALSE)",
          "Bbox Overlap (FALSE)",
          "Bbox Partial Overlap (TRUE)",
          "Bbox Overlap (FALSE)",
          "Bbox Overlap (FALSE)",
          "Bbox Overlap (FALSE)",
          "Bbox Overlap (FALSE)",
          "Bbox Overlap (FALSE)",
          "Bbox Overlap (FALSE)",
          "Bbox Overlap (FALSE)",
          "Bbox Partial Overlap (TRUE)",
          "Bbox Partial Overlap (TRUE)",
          "Bbox Overlap (FALSE)",
          "Bbox Partial Overlap (TRUE)"
         ],
         "x0": " ",
         "xaxis": "x2",
         "y": [
          0.0026536790101090446,
          0.002271636010846123,
          0.0009615190065233037,
          0.0017876979982247576,
          0.00041213199438061565,
          0.0006894990074215457,
          0.0005306469975039363,
          0.0011378710041753948,
          0.0007838859892217442,
          0.0004685949970735237,
          0.00042938200931530446,
          0.0004092190065421164,
          0.0004322519962443039,
          0.0008685039938427508,
          0.0006380780105246231,
          0.0005340009956853464,
          0.00045397799112834036,
          0.0008192889945348725,
          0.0009129130048677325,
          0.0009018239943543449,
          0.0007359669980360195,
          0.0008189970103558153,
          0.00043194899626541883,
          0.001086509000742808,
          0.000895215998752974,
          0.0008593139937147498,
          0.0006664139946224168,
          0.0009198899933835492,
          0.0012413900112733245,
          0.001103984992369078,
          0.0008612969977548346,
          0.0009722219983814284,
          0.0008350459975190461,
          0.0009661819931352511,
          0.0011099980038125068,
          0.0007648980099475011,
          0.0011064140126109123,
          0.0009400459966855124,
          0.0008036709914449602,
          0.0008662159962113947,
          0.0009330460015917197,
          0.0013193690101616085,
          0.002414731992757879,
          0.002183131000492722,
          0.0015251779987011105,
          0.0025445280043641105,
          0.0012992670090170577,
          0.0011785770038841292,
          0.0013507529947673902,
          0.001425380993168801,
          0.0005084369913674891,
          0.0006519660091726109,
          0.0006998199969530106,
          0.0006453710084315389,
          0.001397396990796551,
          0.0008234260021708906,
          0.0008634950063424185,
          0.0009334279893664643,
          0.0008633959951112047,
          0.0008400399965466931,
          0.001038444010191597,
          0.00103032001061365,
          0.0008789389976300299,
          0.0010582910035736859,
          0.0008229270024457946,
          0.0008046349976211786,
          0.0008152640075422823,
          0.0008987010078271851,
          0.0007190009928308427,
          0.0007763540052110329,
          0.0008383270032936707,
          0.0009878429991658777,
          0.000977904986939393,
          0.0007849239918868989,
          0.0009432929946342483,
          0.0006614720041397959,
          0.000605074004852213,
          0.000670983994496055,
          0.0010370829986641183,
          0.0005979810084681958,
          0.0005517490062629804,
          0.0005946470046183094,
          0.000608287999057211,
          0.0007016919989837334,
          0.0006888979987706989,
          0.0005382569943321869,
          0.0007908090046839789,
          0.0017738879978423938,
          0.0006570760015165433,
          0.0011397969938116148,
          0.0008045809954637662,
          0.0008314989972859621,
          0.0008357340120710433,
          0.000906075001694262,
          0.0016214630013564602,
          0.000880481005879119,
          0.001701629997114651,
          0.0006398629921022803,
          0.0006333860073937103,
          0.0005543139996007085,
          0.0004260589921614155,
          0.0009470520017202944,
          0.000749808008549735,
          0.0012057179992552847,
          0.00036909700429532677,
          0.0003583959914976731,
          0.0002921299892477691,
          0.00045426699216477573,
          0.0005854119954165071,
          0.000702748991898261,
          0.0006916340062161908,
          0.0004788489895872772,
          0.0005372610030462965
         ],
         "y0": " ",
         "yaxis": "y2"
        },
        {
         "alignmentgroup": "True",
         "hovertemplate": "Baseline=True<br>Sizes=Large<br>Context=%{x}<br>total_time=%{y}<extra></extra>",
         "legendgroup": "True",
         "marker": {
          "color": "#636efa"
         },
         "name": "True",
         "notched": false,
         "offsetgroup": "True",
         "orientation": "v",
         "showlegend": false,
         "type": "box",
         "x": [
          "Bbox Partial Overlap (TRUE)",
          "Bbox Partial Overlap (TRUE)",
          "Bbox Partial Overlap (TRUE)",
          "Bbox Partial Overlap (TRUE)",
          "Bbox Partial Overlap (TRUE)",
          "Bbox Partial Overlap (TRUE)",
          "Bbox Partial Overlap (TRUE)",
          "Bbox Overlap (FALSE)",
          "Bbox Overlap (FALSE)",
          "Bbox Overlap (FALSE)",
          "Bbox Partial Overlap (TRUE)",
          "Bbox Overlap (FALSE)",
          "Bbox Partial Overlap (TRUE)",
          "Bbox Partial Overlap (TRUE)",
          "Bbox Partial Overlap (TRUE)",
          "Bbox Overlap (FALSE)",
          "Bbox Partial Overlap (TRUE)",
          "Bbox Partial Overlap (TRUE)",
          "Bbox Partial Overlap (TRUE)",
          "Bbox Overlap (FALSE)",
          "Bbox Partial Overlap (TRUE)",
          "Bbox Partial Overlap (TRUE)",
          "Bbox Overlap (FALSE)",
          "Bbox Partial Overlap (TRUE)",
          "Bbox Overlap (FALSE)",
          "Bbox Overlap (FALSE)",
          "Bbox Partial Overlap (TRUE)",
          "Bbox Partial Overlap (TRUE)",
          "Bbox Partial Overlap (TRUE)",
          "Bbox Partial Overlap (TRUE)",
          "Bbox Overlap (FALSE)",
          "Bbox Overlap (FALSE)",
          "Bbox Partial Overlap (TRUE)",
          "Bbox Overlap (FALSE)",
          "Bbox Partial Overlap (TRUE)",
          "Bbox Partial Overlap (TRUE)",
          "Bbox Partial Overlap (TRUE)",
          "Bbox Overlap (FALSE)",
          "Bbox Partial Overlap (TRUE)",
          "Bbox Partial Overlap (TRUE)",
          "Bbox Overlap (FALSE)",
          "Bbox Overlap (FALSE)",
          "Bbox Partial Overlap (TRUE)",
          "Bbox Partial Overlap (TRUE)",
          "Bbox Partial Overlap (TRUE)",
          "Bbox Overlap (FALSE)",
          "Bbox Partial Overlap (TRUE)",
          "Bbox Partial Overlap (TRUE)",
          "Bbox Partial Overlap (TRUE)",
          "Bbox Overlap (FALSE)",
          "Bbox Partial Overlap (TRUE)",
          "Bbox Partial Overlap (TRUE)",
          "Bbox Partial Overlap (TRUE)",
          "Bbox Partial Overlap (TRUE)",
          "Bbox Overlap (FALSE)",
          "Bbox Partial Overlap (TRUE)",
          "Bbox Overlap (FALSE)",
          "Bbox Partial Overlap (TRUE)",
          "Bbox Partial Overlap (TRUE)",
          "Bbox Partial Overlap (TRUE)",
          "Bbox Partial Overlap (TRUE)",
          "Bbox Partial Overlap (TRUE)",
          "Bbox Partial Overlap (TRUE)",
          "Bbox Partial Overlap (TRUE)",
          "Bbox Overlap (FALSE)",
          "Bbox Overlap (FALSE)",
          "Bbox Overlap (FALSE)",
          "Bbox Partial Overlap (TRUE)",
          "Bbox Partial Overlap (TRUE)",
          "Bbox Partial Overlap (TRUE)",
          "Bbox Partial Overlap (TRUE)",
          "Bbox Partial Overlap (TRUE)",
          "Bbox Partial Overlap (TRUE)",
          "Bbox Overlap (FALSE)",
          "Bbox Partial Overlap (TRUE)",
          "Bbox Partial Overlap (TRUE)",
          "Bbox Partial Overlap (TRUE)",
          "Bbox Partial Overlap (TRUE)",
          "Bbox Partial Overlap (TRUE)",
          "Bbox Partial Overlap (TRUE)",
          "Bbox Partial Overlap (TRUE)",
          "Bbox Partial Overlap (TRUE)",
          "Bbox Partial Overlap (TRUE)",
          "Bbox Partial Overlap (TRUE)",
          "Bbox Partial Overlap (TRUE)",
          "Bbox Overlap (FALSE)",
          "Bbox Overlap (FALSE)",
          "Bbox Partial Overlap (TRUE)",
          "Bbox Partial Overlap (TRUE)",
          "Bbox Partial Overlap (TRUE)",
          "Bbox Partial Overlap (TRUE)",
          "Bbox Partial Overlap (TRUE)",
          "Bbox Partial Overlap (TRUE)",
          "Bbox Partial Overlap (TRUE)",
          "Bbox Partial Overlap (TRUE)",
          "Bbox Overlap (FALSE)",
          "Bbox Overlap (FALSE)",
          "Bbox Overlap (FALSE)",
          "Bbox Overlap (FALSE)",
          "Bbox Overlap (FALSE)",
          "Bbox Overlap (FALSE)",
          "Bbox Overlap (FALSE)",
          "Bbox Overlap (FALSE)",
          "Bbox Overlap (FALSE)",
          "Bbox Overlap (FALSE)",
          "Bbox Overlap (FALSE)",
          "Bbox Overlap (FALSE)",
          "Bbox Overlap (FALSE)",
          "Bbox Overlap (FALSE)",
          "Bbox Overlap (FALSE)",
          "Bbox Overlap (FALSE)",
          "Bbox Overlap (FALSE)",
          "Bbox Overlap (FALSE)",
          "Bbox Overlap (FALSE)",
          "Bbox Overlap (FALSE)",
          "Bbox Overlap (FALSE)",
          "Bbox Overlap (FALSE)",
          "Bbox Overlap (FALSE)",
          "Bbox Overlap (FALSE)",
          "Bbox Overlap (FALSE)",
          "Bbox Overlap (FALSE)",
          "Bbox Overlap (FALSE)",
          "Bbox Overlap (FALSE)",
          "Bbox Overlap (FALSE)",
          "Bbox Overlap (FALSE)",
          "Bbox Overlap (FALSE)",
          "Bbox Overlap (FALSE)",
          "Bbox Overlap (FALSE)",
          "Bbox Overlap (FALSE)",
          "Bbox Overlap (FALSE)",
          "Bbox Overlap (FALSE)",
          "Bbox Overlap (FALSE)",
          "Bbox Overlap (FALSE)",
          "Bbox Overlap (FALSE)",
          "Bbox Overlap (FALSE)",
          "Bbox Overlap (FALSE)",
          "Bbox Overlap (FALSE)",
          "Bbox Overlap (FALSE)",
          "Bbox Overlap (FALSE)",
          "Bbox Overlap (FALSE)",
          "Bbox Overlap (FALSE)",
          "Bbox Overlap (FALSE)",
          "Bbox Overlap (FALSE)",
          "Bbox Overlap (FALSE)",
          "Bbox Overlap (FALSE)",
          "Bbox Overlap (FALSE)",
          "Bbox Overlap (FALSE)",
          "Bbox Overlap (FALSE)",
          "Bbox Overlap (FALSE)",
          "Bbox Overlap (FALSE)",
          "Bbox Overlap (FALSE)",
          "Bbox Overlap (FALSE)",
          "Bbox Overlap (FALSE)",
          "Bbox Overlap (FALSE)",
          "Bbox Overlap (FALSE)",
          "Bbox Overlap (FALSE)",
          "Bbox Overlap (FALSE)",
          "Bbox Overlap (FALSE)",
          "Bbox Overlap (FALSE)",
          "Bbox Overlap (FALSE)",
          "Bbox Overlap (FALSE)",
          "Bbox Overlap (FALSE)",
          "Bbox Overlap (FALSE)",
          "Bbox Overlap (FALSE)",
          "Bbox Overlap (FALSE)",
          "Bbox Overlap (FALSE)",
          "Bbox Overlap (FALSE)",
          "Bbox Overlap (FALSE)",
          "Bbox Overlap (FALSE)",
          "Bbox Overlap (FALSE)",
          "Bbox Overlap (FALSE)",
          "Bbox Overlap (FALSE)",
          "Bbox Overlap (FALSE)",
          "Bbox Overlap (FALSE)",
          "Bbox Overlap (FALSE)",
          "Bbox Overlap (FALSE)",
          "Bbox Overlap (FALSE)",
          "Bbox Overlap (FALSE)",
          "Bbox Overlap (FALSE)",
          "Bbox Overlap (FALSE)",
          "Bbox Overlap (FALSE)",
          "Bbox Overlap (FALSE)",
          "Bbox Overlap (FALSE)",
          "Bbox Overlap (FALSE)",
          "Bbox Overlap (FALSE)",
          "Bbox Partial Overlap (TRUE)",
          "Bbox Overlap (FALSE)",
          "Bbox Partial Overlap (TRUE)",
          "Bbox Partial Overlap (TRUE)",
          "Bbox Overlap (FALSE)",
          "Bbox Overlap (FALSE)",
          "Bbox Overlap (FALSE)",
          "Bbox Overlap (FALSE)",
          "Bbox Overlap (FALSE)",
          "Bbox Partial Overlap (TRUE)",
          "Bbox Overlap (FALSE)",
          "Bbox Overlap (FALSE)",
          "Bbox Overlap (FALSE)",
          "Bbox Partial Overlap (TRUE)",
          "Bbox Partial Overlap (TRUE)",
          "Bbox Overlap (FALSE)",
          "Bbox Partial Overlap (TRUE)",
          "Bbox Partial Overlap (TRUE)",
          "Bbox Partial Overlap (TRUE)",
          "Bbox Partial Overlap (TRUE)",
          "Bbox Partial Overlap (TRUE)",
          "Bbox Overlap (FALSE)",
          "Bbox Partial Overlap (TRUE)",
          "Bbox Overlap (FALSE)",
          "Bbox Overlap (FALSE)",
          "Bbox Overlap (FALSE)",
          "Bbox Overlap (FALSE)",
          "Bbox Overlap (FALSE)",
          "Bbox Partial Overlap (TRUE)",
          "Bbox Overlap (FALSE)",
          "Bbox Overlap (FALSE)",
          "Bbox Overlap (FALSE)",
          "Bbox Overlap (FALSE)",
          "Bbox Overlap (FALSE)",
          "Bbox Overlap (FALSE)",
          "Bbox Overlap (FALSE)",
          "Bbox Overlap (FALSE)",
          "Bbox Overlap (FALSE)",
          "Bbox Overlap (FALSE)",
          "Bbox Overlap (FALSE)",
          "Bbox Overlap (FALSE)",
          "Bbox Overlap (FALSE)",
          "Bbox Overlap (FALSE)",
          "Bbox Overlap (FALSE)",
          "Bbox Overlap (FALSE)",
          "Bbox Partial Overlap (TRUE)",
          "Bbox Overlap (FALSE)",
          "Bbox Partial Overlap (TRUE)",
          "Bbox Partial Overlap (TRUE)",
          "Bbox Overlap (FALSE)"
         ],
         "x0": " ",
         "xaxis": "x3",
         "y": [
          0.01408649499353487,
          0.01165883599605877,
          0.005938354996033013,
          0.003087967008468695,
          0.008298216009279713,
          0.006135613992228173,
          0.010136220997083,
          0.002072063012747094,
          0.002979897995828651,
          0.003549703993485309,
          0.012995504992431961,
          0.007889482993050478,
          0.009239236998837441,
          0.010720075995777734,
          0.00606867199530825,
          0.002381263009738177,
          0.0188984190026531,
          0.02247362700290978,
          0.014756905002286658,
          0.0071450450050178915,
          0.030283420011983253,
          0.012711768998997286,
          0.011191803001565859,
          0.012051345009240322,
          0.008321339002577588,
          0.007263469000463374,
          0.005839545003254898,
          0.004593531004502438,
          0.004055964993312955,
          0.0043982719944324344,
          0.0015537559957010671,
          0.0029001479997532442,
          0.008277499000541866,
          0.0047679130075266585,
          0.005211684008827433,
          0.007212169992271811,
          0.009241534004104324,
          0.009339102005469613,
          0.02217231600661762,
          0.02642598099191673,
          0.005935948007390834,
          0.005132794001838192,
          0.011133995009004138,
          0.004582326990203001,
          0.009763277004822157,
          0.0030932240042602643,
          0.0036105570034123957,
          0.008299968001665547,
          0.00666072299645748,
          0.0036688230029540136,
          0.008680366008775309,
          0.006069401002605446,
          0.009784919995581731,
          0.006814656997448765,
          0.0049669940053718165,
          0.020899408002151176,
          0.004822597999009304,
          0.009253855008864775,
          0.011856730008730665,
          0.0055465119949076325,
          0.005689600002369843,
          0.008652207005070522,
          0.006517386005725712,
          0.0068847829970764,
          0.002906292997067794,
          0.002917945006629452,
          0.0029955469944979995,
          0.032871418006834574,
          0.01366490799409803,
          0.006991215996094979,
          0.007167656003730372,
          0.006078756996430457,
          0.013088791994960047,
          0.005315652000717819,
          0.01169168199703563,
          0.00824400999408681,
          0.0055038779973983765,
          0.009391466999659315,
          0.006707146996632218,
          0.004858444008277729,
          0.008354283010703512,
          0.003559999997378327,
          0.012341600013314746,
          0.02332905199727975,
          0.011511760007124394,
          0.008602475994848646,
          0.005741979999584146,
          0.013847563997842371,
          0.005353642991394736,
          0.04681420799170155,
          0.03158485400490463,
          0.03132353299588431,
          0.07854440600203816,
          0.017566294001881033,
          0.015558739003608935,
          0.0014169420028338209,
          0.011944002006202936,
          0.003443576002609916,
          0.012483209997299127,
          0.012359931992250495,
          0.0018101239984389395,
          0.0028525579982670024,
          0.0034410549997119233,
          0.010953775999951176,
          0.0045691120030824095,
          0.004679812001995742,
          0.004976568001438864,
          0.004678541998146102,
          0.00596553499053698,
          0.013231659002485685,
          0.011241380998399109,
          0.010192632005782798,
          0.008511221007211134,
          0.012343034002697095,
          0.10156491100497078,
          0.03929488999710884,
          0.09833507699659094,
          0.006245686003239825,
          0.005038368995883502,
          0.009334732996649109,
          0.0015738209913251922,
          0.0014964680012781173,
          0.003030025996849872,
          0.00376208100351505,
          0.00348637999559287,
          0.0015050500078359619,
          0.008894240992958657,
          0.008499796997057274,
          0.009796332000405528,
          0.00889998699130956,
          0.0045054740039631724,
          0.005624939993140288,
          0.004303477006033063,
          0.00354344499646686,
          0.004464254001504742,
          0.019005073001608253,
          0.11728126199159306,
          0.0012745929998345673,
          0.004461004995391704,
          0.008678415004396811,
          0.0034044640051433817,
          0.0038345639914041385,
          0.00200912200671155,
          0.002006104987231083,
          0.003834836999885738,
          0.004034945988678373,
          0.01937603899568785,
          0.005031259002862498,
          0.06220118400233332,
          0.011818840997875668,
          0.0054593919921899214,
          0.004199942006380297,
          0.005073727006674744,
          0.008904228991013952,
          0.006220781986485235,
          0.0024320460070157424,
          0.00700682400201913,
          0.008503460005158558,
          0.0035034739994443953,
          0.0039262069913093,
          0.014549650994013064,
          0.009563239000272006,
          0.0034246889990754426,
          0.003497309997328557,
          0.0033369289885740727,
          0.020996474006096832,
          0.0044955899938941,
          0.0031501420016866177,
          0.00782271398929879,
          0.010680890001822263,
          0.01039273700735066,
          0.010665170004358515,
          0.010991559000103734,
          0.011016128992196172,
          0.010004167997976765,
          0.007653148000827059,
          0.009956793001038022,
          0.0086195660114754,
          0.02284019099897705,
          0.0077390380029100925,
          0.0054214519914239645,
          0.004939457998261787,
          0.0052114959980826825,
          0.007346992002567276,
          0.0025968999980250373,
          0.0024347959988517687,
          0.0012480500008678064,
          0.003204795008059591,
          0.002527502001612447,
          0.0013053340080659837,
          0.0023475470079574734,
          0.002586962000350468,
          0.0016797619900899008,
          0.0020340500050224364,
          0.008972590003395453,
          0.0031698730017524213,
          0.003952619998017326,
          0.0032427980040665716,
          0.00325858399446588,
          0.0032826480019139126,
          0.0015066229971125722,
          0.0023398490011459216,
          0.002435304006212391,
          0.002436761002172716,
          0.002764274991932325,
          0.0025630119926063344,
          0.0015777049993630499,
          0.002698281008633785,
          0.0016498170007253066,
          0.0012611749989446253,
          0.0019453409913694486,
          0.0023509430029662326,
          0.001962087000720203,
          0.0033299310016445816,
          0.003727246992639266,
          0.0015735719935037196,
          0.0015732769970782101,
          0.0019019080064026639,
          0.0017494170024292544,
          0.002390416993875988,
          0.00222255100379698,
          0.00219435800681822,
          0.0028121920040575787,
          0.0012271140003576875,
          0.0018715019978117198,
          0.0019028339884243906,
          0.002428346997476183,
          0.002845707000233233,
          0.0026000769867096096,
          0.0025093400035984814,
          0.0036365950072649866,
          0.002032984994002618,
          0.0035915660118917003,
          0.00814411899773404,
          0.008075865000137128
         ],
         "y0": " ",
         "yaxis": "y3"
        },
        {
         "alignmentgroup": "True",
         "hovertemplate": "Baseline=True<br>Sizes=Small Large Mixed<br>Context=%{x}<br>total_time=%{y}<extra></extra>",
         "legendgroup": "True",
         "marker": {
          "color": "#636efa"
         },
         "name": "True",
         "notched": false,
         "offsetgroup": "True",
         "orientation": "v",
         "showlegend": false,
         "type": "box",
         "x": [
          "Bbox Inside Other (TRUE)",
          "Bbox Inside Other (TRUE)",
          "Bbox Partial Overlap (TRUE)",
          "Bbox Partial Overlap (TRUE)",
          "Bbox Partial Overlap (TRUE)",
          "Bbox Partial Overlap (TRUE)",
          "Bbox Overlap (FALSE)",
          "Bbox Partial Overlap (TRUE)",
          "Bbox Overlap (FALSE)",
          "Bbox Overlap (FALSE)",
          "Bbox Overlap (FALSE)",
          "Bbox Overlap (FALSE)",
          "Bbox Overlap (FALSE)",
          "Bbox Overlap (FALSE)",
          "Bbox Overlap (FALSE)",
          "Bbox Partial Overlap (TRUE)",
          "Bbox Overlap (FALSE)",
          "Bbox Overlap (FALSE)",
          "Bbox Overlap (FALSE)",
          "Bbox Partial Overlap (TRUE)",
          "Bbox Overlap (FALSE)",
          "Bbox Overlap (FALSE)",
          "Bbox Partial Overlap (TRUE)",
          "Bbox Partial Overlap (TRUE)",
          "Bbox Overlap (FALSE)",
          "Bbox Partial Overlap (TRUE)",
          "Bbox Overlap (FALSE)",
          "Bbox Partial Overlap (TRUE)",
          "Bbox Overlap (FALSE)",
          "Bbox Overlap (FALSE)",
          "Bbox Overlap (FALSE)",
          "Bbox Overlap (FALSE)",
          "Bbox Partial Overlap (TRUE)",
          "Bbox Partial Overlap (TRUE)",
          "Bbox Overlap (FALSE)",
          "Bbox Overlap (FALSE)",
          "Bbox Overlap (FALSE)",
          "Bbox Overlap (FALSE)",
          "Bbox Overlap (FALSE)",
          "Bbox Overlap (FALSE)",
          "Bbox Overlap (FALSE)",
          "Bbox Overlap (FALSE)",
          "Bbox Overlap (FALSE)",
          "Bbox Overlap (FALSE)",
          "Bbox Overlap (FALSE)",
          "Bbox Overlap (FALSE)",
          "Bbox Overlap (FALSE)",
          "Bbox Overlap (FALSE)",
          "Bbox Overlap (FALSE)",
          "Bbox Overlap (FALSE)",
          "Bbox Overlap (FALSE)",
          "Bbox Overlap (FALSE)",
          "Bbox Overlap (FALSE)",
          "Bbox Overlap (FALSE)",
          "Bbox Overlap (FALSE)",
          "Bbox Overlap (FALSE)",
          "Bbox Overlap (FALSE)",
          "Bbox Overlap (FALSE)",
          "Bbox Overlap (FALSE)",
          "Bbox Overlap (FALSE)",
          "Bbox Overlap (FALSE)",
          "Bbox Overlap (FALSE)",
          "Bbox Partial Overlap (TRUE)",
          "Bbox Partial Overlap (TRUE)",
          "Bbox Partial Overlap (TRUE)",
          "Bbox Overlap (FALSE)",
          "Bbox Partial Overlap (TRUE)",
          "Bbox Overlap (FALSE)",
          "Bbox Partial Overlap (TRUE)",
          "Bbox Partial Overlap (TRUE)",
          "Bbox Partial Overlap (TRUE)",
          "Bbox Partial Overlap (TRUE)",
          "Bbox Overlap (FALSE)",
          "Bbox Overlap (FALSE)",
          "Bbox Overlap (FALSE)",
          "Bbox Overlap (FALSE)",
          "Bbox Overlap (FALSE)",
          "Bbox Overlap (FALSE)",
          "Bbox Partial Overlap (TRUE)",
          "Bbox Overlap (FALSE)",
          "Bbox Overlap (FALSE)",
          "Bbox Overlap (FALSE)",
          "Bbox Overlap (FALSE)",
          "Bbox Partial Overlap (TRUE)",
          "Bbox Partial Overlap (TRUE)",
          "Bbox Partial Overlap (TRUE)",
          "Bbox Partial Overlap (TRUE)",
          "Bbox Partial Overlap (TRUE)",
          "Bbox Partial Overlap (TRUE)",
          "Bbox Overlap (FALSE)",
          "Bbox Overlap (FALSE)",
          "Bbox Overlap (FALSE)",
          "Bbox Partial Overlap (TRUE)",
          "Bbox Partial Overlap (TRUE)",
          "Bbox Overlap (FALSE)",
          "Bbox Partial Overlap (TRUE)",
          "Bbox Partial Overlap (TRUE)",
          "Bbox Overlap (FALSE)",
          "Bbox Overlap (FALSE)",
          "Bbox Partial Overlap (TRUE)",
          "Bbox Partial Overlap (TRUE)",
          "Bbox Overlap (FALSE)",
          "Bbox Overlap (FALSE)",
          "Bbox Partial Overlap (TRUE)",
          "Bbox Overlap (FALSE)",
          "Bbox Overlap (FALSE)",
          "Bbox Overlap (FALSE)",
          "Bbox Overlap (FALSE)",
          "Bbox Overlap (FALSE)",
          "Bbox Partial Overlap (TRUE)",
          "Bbox Partial Overlap (TRUE)",
          "Bbox Partial Overlap (TRUE)",
          "Bbox Partial Overlap (TRUE)",
          "Bbox Overlap (FALSE)",
          "Bbox Overlap (FALSE)",
          "Bbox Partial Overlap (TRUE)",
          "Bbox Overlap (FALSE)",
          "Bbox Partial Overlap (TRUE)",
          "Bbox Overlap (FALSE)",
          "Bbox Overlap (FALSE)",
          "Bbox Overlap (FALSE)",
          "Bbox Overlap (FALSE)",
          "Bbox Overlap (FALSE)",
          "Bbox Overlap (FALSE)",
          "Bbox Overlap (FALSE)",
          "Bbox Overlap (FALSE)",
          "Bbox Overlap (FALSE)",
          "Bbox Partial Overlap (TRUE)",
          "Bbox Overlap (FALSE)",
          "Bbox Overlap (FALSE)",
          "Bbox Overlap (FALSE)",
          "Bbox Overlap (FALSE)",
          "Bbox Partial Overlap (TRUE)",
          "Bbox Overlap (FALSE)",
          "Bbox Overlap (FALSE)",
          "Bbox Overlap (FALSE)",
          "Bbox Overlap (FALSE)",
          "Bbox Overlap (FALSE)",
          "Bbox Overlap (FALSE)",
          "Bbox Overlap (FALSE)",
          "Bbox Overlap (FALSE)",
          "Bbox Overlap (FALSE)",
          "Bbox Overlap (FALSE)",
          "Bbox Overlap (FALSE)",
          "Bbox Overlap (FALSE)",
          "Bbox Overlap (FALSE)",
          "Bbox Overlap (FALSE)",
          "Bbox Overlap (FALSE)",
          "Bbox Overlap (FALSE)",
          "Bbox Overlap (FALSE)",
          "Bbox Overlap (FALSE)",
          "Bbox Partial Overlap (TRUE)",
          "Bbox Overlap (FALSE)",
          "Bbox Overlap (FALSE)",
          "Bbox Overlap (FALSE)",
          "Bbox Overlap (FALSE)",
          "Bbox Overlap (FALSE)",
          "Bbox Overlap (FALSE)",
          "Bbox Overlap (FALSE)",
          "Bbox Overlap (FALSE)",
          "Bbox Overlap (FALSE)",
          "Bbox Overlap (FALSE)",
          "Bbox Overlap (FALSE)",
          "Bbox Partial Overlap (TRUE)",
          "Bbox Overlap (FALSE)",
          "Bbox Overlap (FALSE)",
          "Bbox Overlap (FALSE)",
          "Bbox Partial Overlap (TRUE)",
          "Bbox Overlap (FALSE)",
          "Bbox Overlap (FALSE)",
          "Bbox Partial Overlap (TRUE)",
          "Bbox Overlap (FALSE)",
          "Bbox Partial Overlap (TRUE)",
          "Bbox Overlap (FALSE)",
          "Bbox Overlap (FALSE)",
          "Bbox Overlap (FALSE)",
          "Bbox Overlap (FALSE)",
          "Bbox Overlap (FALSE)",
          "Bbox Overlap (FALSE)",
          "Bbox Overlap (FALSE)",
          "Bbox Overlap (FALSE)",
          "Bbox Overlap (FALSE)",
          "Bbox Overlap (FALSE)",
          "Bbox Overlap (FALSE)",
          "Bbox Partial Overlap (TRUE)",
          "Bbox Overlap (FALSE)",
          "Bbox Overlap (FALSE)",
          "Bbox Partial Overlap (TRUE)",
          "Bbox Overlap (FALSE)",
          "Bbox Overlap (FALSE)",
          "Bbox Overlap (FALSE)",
          "Bbox Overlap (FALSE)",
          "Bbox Overlap (FALSE)",
          "Bbox Partial Overlap (TRUE)",
          "Bbox Overlap (FALSE)",
          "Bbox Overlap (FALSE)",
          "Bbox Overlap (FALSE)",
          "Bbox Overlap (FALSE)",
          "Bbox Overlap (FALSE)",
          "Bbox Overlap (FALSE)",
          "Bbox Overlap (FALSE)",
          "Bbox Overlap (FALSE)",
          "Bbox Overlap (FALSE)",
          "Bbox Overlap (FALSE)",
          "Bbox Overlap (FALSE)",
          "Bbox Overlap (FALSE)",
          "Bbox Overlap (FALSE)",
          "Bbox Overlap (FALSE)",
          "Bbox Overlap (FALSE)",
          "Bbox Overlap (FALSE)",
          "Bbox Overlap (FALSE)",
          "Bbox Overlap (FALSE)",
          "Bbox Overlap (FALSE)",
          "Bbox Overlap (FALSE)",
          "Bbox Overlap (FALSE)",
          "Bbox Overlap (FALSE)",
          "Bbox Overlap (FALSE)",
          "Bbox Overlap (FALSE)",
          "Bbox Overlap (FALSE)",
          "Bbox Overlap (FALSE)",
          "Bbox Overlap (FALSE)",
          "Bbox Overlap (FALSE)",
          "Bbox Overlap (FALSE)",
          "Bbox Overlap (FALSE)",
          "Bbox Overlap (FALSE)",
          "Bbox Overlap (FALSE)",
          "Bbox Overlap (FALSE)",
          "Bbox Partial Overlap (TRUE)",
          "Bbox Overlap (FALSE)",
          "Bbox Overlap (FALSE)",
          "Bbox Overlap (FALSE)",
          "Bbox Overlap (FALSE)",
          "Bbox Overlap (FALSE)",
          "Bbox Overlap (FALSE)",
          "Bbox Overlap (FALSE)",
          "Bbox Overlap (FALSE)",
          "Bbox Overlap (FALSE)",
          "Bbox Overlap (FALSE)",
          "Bbox Overlap (FALSE)",
          "Bbox Overlap (FALSE)",
          "Bbox Overlap (FALSE)",
          "Bbox Overlap (FALSE)",
          "Bbox Overlap (FALSE)",
          "Bbox Overlap (FALSE)",
          "Bbox Overlap (FALSE)",
          "Bbox Overlap (FALSE)",
          "Bbox Overlap (FALSE)",
          "Bbox Overlap (FALSE)",
          "Bbox Overlap (FALSE)",
          "Bbox Overlap (FALSE)",
          "Bbox Overlap (FALSE)",
          "Bbox Overlap (FALSE)",
          "Bbox Overlap (FALSE)",
          "Bbox Overlap (FALSE)",
          "Bbox Overlap (FALSE)",
          "Bbox Overlap (FALSE)"
         ],
         "x0": " ",
         "xaxis": "x4",
         "y": [
          0.0009754579950822517,
          0.0009679810027591884,
          0.0035800049954559654,
          0.0025227409932995215,
          0.0024933649983722717,
          0.0017746109951986,
          0.0014968799951020628,
          0.0025177630013786256,
          0.0006912380049470812,
          0.011037211996153928,
          0.0014661169989267364,
          0.002605531000881456,
          0.0014770419948035851,
          0.0013508359988918528,
          0.0010660280095180497,
          0.0019363890023669228,
          0.0009755670034792274,
          0.0012170510017313063,
          0.0009118790039792657,
          0.0017184750031447038,
          0.0009391200001118705,
          0.0005916289956076071,
          0.0016832019900903106,
          0.0025523910007905215,
          0.0019617860089056194,
          0.002710508997552097,
          0.0011663089971989393,
          0.001794734998838976,
          0.0012283300020499155,
          0.001197567005874589,
          0.001740512001561001,
          0.0019197130022803321,
          0.001231354006449692,
          0.0012141390034230426,
          0.0015547559887636453,
          0.001627632009331137,
          0.0020008140127174556,
          0.0017975399969145656,
          0.001645056006964296,
          0.0019032609998248518,
          0.0015271329903043807,
          0.00141507999796886,
          0.001815573006751947,
          0.0013994650071254,
          0.001687009003944695,
          0.001465855006244965,
          0.0015986840007826686,
          0.0017746550001902506,
          0.0019157210044795647,
          0.0016964379901764914,
          0.0018244289967697114,
          0.001726196991512552,
          0.0017820809880504385,
          0.0015265350084519014,
          0.002058211000985466,
          0.0019152010063407943,
          0.001650890990276821,
          0.0009264029940823093,
          0.0013836449943482876,
          0.0009930270025506616,
          0.000997700000880286,
          0.0012267549900570884,
          0.006339069004752673,
          0.008153943999786861,
          0.006763684999896213,
          0.0009763819980435073,
          0.002986630002851598,
          0.0007678690017201006,
          0.00708980300987605,
          0.00889251999615226,
          0.008498091003275476,
          0.0013856959994882345,
          0.0011610530054895207,
          0.0011436999920988455,
          0.0011154219973832369,
          0.001189093993161805,
          0.0011956459929933771,
          0.0013850890100002289,
          0.002272379002533853,
          0.001955676998477429,
          0.0015436679968843237,
          0.0013763589959125966,
          0.0010419530008221045,
          0.0011997989931842312,
          0.0011559369886526838,
          0.0009392380015924573,
          0.0013890760019421577,
          0.001396844003465958,
          0.001072751998435706,
          0.0009977680019801483,
          0.001011047002975829,
          0.0009705389966256917,
          0.0011291679984424263,
          0.0011344950034981593,
          0.001057132991263643,
          0.0012794600042980164,
          0.0011265159992035478,
          0.0006543500057887286,
          0.0008185359911294654,
          0.0013071930006844923,
          0.0011675270070554689,
          0.0007401040056720376,
          0.0007493890007026494,
          0.0018922529998235404,
          0.0011749689874704927,
          0.0013863900094293058,
          0.0009504930058028549,
          0.0010858189925784245,
          0.00094474499928765,
          0.0016106149996630847,
          0.0011521589913172647,
          0.0011571970098884776,
          0.001253905997145921,
          0.0011254090059082955,
          0.0011008209985448048,
          0.001203823005198501,
          0.001097557003959082,
          0.0022280650009633973,
          0.0015668520063627511,
          0.0007905219972599298,
          0.0019637410005088896,
          0.0009747750009410083,
          0.0010514660098124295,
          0.0010785960039356723,
          0.0014433560136239976,
          0.0010251049970975146,
          0.0011412919993745163,
          0.0018624149961397052,
          0.0011025889980373904,
          0.0011596449912758544,
          0.0012141490005888045,
          0.0014500179968308657,
          0.0015831799973966554,
          0.0016435709985671565,
          0.0016615979984635487,
          0.0014441559906117618,
          0.001532006004708819,
          0.0013161660026526079,
          0.001616575988009572,
          0.0013551440060837194,
          0.0013564109976869076,
          0.0014011379971634597,
          0.002011188000324182,
          0.001842882003984414,
          0.0022148869902594015,
          0.0015720159863121808,
          0.0018578519957372919,
          0.0017844549875007942,
          0.0013279150007292628,
          0.0013676780072273687,
          0.0017541279958095402,
          0.0015752199979033321,
          0.0007373520056717098,
          0.000652435002848506,
          0.0007114129984984174,
          0.000877767990459688,
          0.001057200992363505,
          0.0009015579998958856,
          0.0008895909995771945,
          0.0008398689969908446,
          0.0010504560050321743,
          0.000993031993857585,
          0.00079947299673222,
          0.0013063280057394877,
          0.0013438089954433963,
          0.001397889995132573,
          0.0016661789995850995,
          0.0016505780076840892,
          0.0022429920063586906,
          0.0017440849915146828,
          0.0013475000014295802,
          0.0009877560078166425,
          0.0026403679948998615,
          0.0018846620077965781,
          0.002168409002479166,
          0.001999231011723168,
          0.0022272600035648793,
          0.0014797109906794503,
          0.0018681119981920347,
          0.0019402749894652516,
          0.0006586130039067939,
          0.0008139609999489039,
          0.0009388179896632209,
          0.001012949986034073,
          0.001939736001077108,
          0.0009431290091015399,
          0.0013085489918012172,
          0.0033204409992322326,
          0.003125631992588751,
          0.0031534220033790916,
          0.0031351659999927506,
          0.0032269509974867105,
          0.003160345004289411,
          0.0038254819955909625,
          0.003909792998456396,
          0.0036778359935851768,
          0.0037707629962824285,
          0.002701265999348834,
          0.0026386929966975003,
          0.0027597630105447024,
          0.0013900650083087385,
          0.0013403170014498755,
          0.0021329410083126277,
          0.0020993359939893708,
          0.0020584369922289625,
          0.002130711989593692,
          0.0021087490022182465,
          0.0022221440012799576,
          0.0019204380078008398,
          0.0018908469937741756,
          0.0018994019919773564,
          0.0018898359994636849,
          0.0018981570028699934,
          0.001906240009702742,
          0.00188997300574556,
          0.0018968739896081388,
          0.0019462380005279556,
          0.002015164995100349,
          0.0019723320001503453,
          0.0020071710023330525,
          0.0020708669908344746,
          0.0021777069923700765,
          0.002083859988488257,
          0.002166834005038254,
          0.0023225070035550743,
          0.002190717001212761,
          0.0019004539935849607,
          0.0021524140029214323,
          0.0019093250011792406,
          0.0019479000038700178,
          0.0019650780013762414,
          0.0019240030087530613,
          0.0019425469945417717,
          0.002299659012351185,
          0.0022500960039906204,
          0.0022217049991013482,
          0.0028932400018675253,
          0.0025498519971733913,
          0.0019094479939667508,
          0.0019602110114647076,
          0.001907073994516395,
          0.002287941999384202,
          0.002122264006175101,
          0.0021674910094588995,
          0.0022235059877857566,
          0.0019381430029170588,
          0.0019046859961235896,
          0.002011633987422101,
          0.0018943939940072596,
          0.0019055960001423955,
          0.001986761999432929,
          0.0019605109991971403,
          0.0018940970039693639,
          0.0017207930068252608,
          0.000829787997645326,
          0.0008664140041219071
         ],
         "y0": " ",
         "yaxis": "y4"
        },
        {
         "alignmentgroup": "True",
         "hovertemplate": "Baseline=True<br>Sizes=Medium Large Mixed<br>Context=%{x}<br>total_time=%{y}<extra></extra>",
         "legendgroup": "True",
         "marker": {
          "color": "#636efa"
         },
         "name": "True",
         "notched": false,
         "offsetgroup": "True",
         "orientation": "v",
         "showlegend": false,
         "type": "box",
         "x": [
          "Bbox Overlap (FALSE)",
          "Bbox Overlap (FALSE)",
          "Bbox Overlap (FALSE)",
          "Bbox Overlap (FALSE)",
          "Bbox Overlap (FALSE)",
          "Bbox Overlap (FALSE)",
          "Bbox Overlap (FALSE)",
          "Bbox Overlap (FALSE)",
          "Bbox Partial Overlap (TRUE)",
          "Bbox Partial Overlap (TRUE)",
          "Bbox Overlap (FALSE)",
          "Bbox Partial Overlap (TRUE)",
          "Bbox Overlap (FALSE)",
          "Bbox Overlap (FALSE)",
          "Bbox Overlap (FALSE)",
          "Bbox Partial Overlap (TRUE)",
          "Bbox Overlap (FALSE)",
          "Bbox Overlap (FALSE)",
          "Bbox Overlap (FALSE)",
          "Bbox Overlap (FALSE)",
          "Bbox Partial Overlap (TRUE)",
          "Bbox Partial Overlap (TRUE)",
          "Bbox Overlap (FALSE)",
          "Bbox Partial Overlap (TRUE)",
          "Bbox Partial Overlap (TRUE)",
          "Bbox Overlap (FALSE)",
          "Bbox Overlap (FALSE)",
          "Bbox Overlap (FALSE)",
          "Bbox Partial Overlap (TRUE)",
          "Bbox Partial Overlap (TRUE)",
          "Bbox Partial Overlap (TRUE)",
          "Bbox Overlap (FALSE)",
          "Bbox Partial Overlap (TRUE)",
          "Bbox Partial Overlap (TRUE)",
          "Bbox Partial Overlap (TRUE)",
          "Bbox Overlap (FALSE)",
          "Bbox Partial Overlap (TRUE)",
          "Bbox Overlap (FALSE)",
          "Bbox Overlap (FALSE)",
          "Bbox Overlap (FALSE)",
          "Bbox Overlap (FALSE)",
          "Bbox Overlap (FALSE)",
          "Bbox Overlap (FALSE)",
          "Bbox Overlap (FALSE)",
          "Bbox Overlap (FALSE)",
          "Bbox Overlap (FALSE)",
          "Bbox Overlap (FALSE)",
          "Bbox Overlap (FALSE)",
          "Bbox Overlap (FALSE)",
          "Bbox Overlap (FALSE)",
          "Bbox Overlap (FALSE)",
          "Bbox Overlap (FALSE)",
          "Bbox Partial Overlap (TRUE)",
          "Bbox Partial Overlap (TRUE)",
          "Bbox Overlap (FALSE)",
          "Bbox Overlap (FALSE)",
          "Bbox Overlap (FALSE)",
          "Bbox Overlap (FALSE)",
          "Bbox Overlap (FALSE)",
          "Bbox Overlap (FALSE)",
          "Bbox Overlap (FALSE)",
          "Bbox Overlap (FALSE)",
          "Bbox Partial Overlap (TRUE)",
          "Bbox Overlap (FALSE)",
          "Bbox Overlap (FALSE)",
          "Bbox Overlap (FALSE)",
          "Bbox Overlap (FALSE)",
          "Bbox Overlap (FALSE)",
          "Bbox Partial Overlap (TRUE)",
          "Bbox Partial Overlap (TRUE)",
          "Bbox Overlap (FALSE)",
          "Bbox Overlap (FALSE)",
          "Bbox Partial Overlap (TRUE)",
          "Bbox Overlap (FALSE)",
          "Bbox Overlap (FALSE)",
          "Bbox Overlap (FALSE)",
          "Bbox Overlap (FALSE)",
          "Bbox Overlap (FALSE)",
          "Bbox Overlap (FALSE)",
          "Bbox Overlap (FALSE)"
         ],
         "x0": " ",
         "xaxis": "x5",
         "y": [
          0.005970564001472667,
          0.006252830004086718,
          0.006559985995409079,
          0.004426186002092436,
          0.0014739800099050626,
          0.006908846000442281,
          0.0032220159919233993,
          0.0031713060016045347,
          0.0014799979981034994,
          0.0015541269967798144,
          0.0013549809955293313,
          0.0018904339958680794,
          0.0018959440058097243,
          0.002373657000134699,
          0.0023293199919862673,
          0.001992548000998795,
          0.0014401369990082458,
          0.0013576729979831725,
          0.0008944449946284294,
          0.001428945004590787,
          0.0018008110055234283,
          0.0014505530125461519,
          0.0012589969992404804,
          0.0025447310035815462,
          0.0025421180034754798,
          0.0008939020044635981,
          0.0012605689989868551,
          0.0019572540040826425,
          0.0014686319918837398,
          0.0016336929984390736,
          0.0013818519946653396,
          0.0008833579922793433,
          0.0014922730042599142,
          0.001475408993428573,
          0.001250891000381671,
          0.0010495819878997281,
          0.0019945480016758665,
          0.0010564599942881614,
          0.0012034630053676665,
          0.0012183990038465708,
          0.001830972993047908,
          0.0020080599933862686,
          0.0010136049968423322,
          0.0013144310069037601,
          0.0014398060011444613,
          0.0009085659985430539,
          0.0013502999936463311,
          0.0016166139976121485,
          0.0011945900041610003,
          0.0010707340115914121,
          0.0011876979988301173,
          0.0009497930004727095,
          0.002025806999881752,
          0.001909740996779874,
          0.0013169320009183139,
          0.0010648879979271442,
          0.0012344829883659258,
          0.0015769759920658544,
          0.000939347009989433,
          0.0012234419991727918,
          0.001566760998684913,
          0.0015768090088386089,
          0.0016545750113436952,
          0.001973823003936559,
          0.001044928008923307,
          0.0010921509965555742,
          0.002546889998484403,
          0.0021200780029175803,
          0.0014233310066629201,
          0.0015295789926312864,
          0.0016554140020161867,
          0.0015945699997246265,
          0.0039207130030263215,
          0.0015738619986223057,
          0.002551017008954659,
          0.0022474709985544905,
          0.0026969979953719303,
          0.0022392449900507927,
          0.002445441990857944,
          0.00248278200160712
         ],
         "y0": " ",
         "yaxis": "y5"
        },
        {
         "alignmentgroup": "True",
         "hovertemplate": "Baseline=True<br>Sizes=Medium<br>Context=%{x}<br>total_time=%{y}<extra></extra>",
         "legendgroup": "True",
         "marker": {
          "color": "#636efa"
         },
         "name": "True",
         "notched": false,
         "offsetgroup": "True",
         "orientation": "v",
         "showlegend": false,
         "type": "box",
         "x": [
          "Bbox Overlap (FALSE)",
          "Bbox Overlap (FALSE)",
          "Bbox Overlap (FALSE)",
          "Bbox Partial Overlap (TRUE)",
          "Bbox Overlap (FALSE)",
          "Bbox Partial Overlap (TRUE)",
          "Bbox Partial Overlap (TRUE)",
          "Bbox Overlap (FALSE)",
          "Bbox Partial Overlap (TRUE)",
          "Bbox Partial Overlap (TRUE)",
          "Bbox Partial Overlap (TRUE)",
          "Bbox Partial Overlap (TRUE)",
          "Bbox Partial Overlap (TRUE)",
          "Bbox Partial Overlap (TRUE)",
          "Bbox Partial Overlap (TRUE)",
          "Bbox Overlap (FALSE)",
          "Bbox Overlap (FALSE)",
          "Bbox Overlap (FALSE)",
          "Bbox Partial Overlap (TRUE)",
          "Bbox Overlap (FALSE)",
          "Bbox Overlap (FALSE)",
          "Bbox Partial Overlap (TRUE)",
          "Bbox Partial Overlap (TRUE)",
          "Bbox Overlap (FALSE)",
          "Bbox Partial Overlap (TRUE)",
          "Bbox Overlap (FALSE)",
          "Bbox Partial Overlap (TRUE)"
         ],
         "x0": " ",
         "xaxis": "x6",
         "y": [
          0.0011646229977486655,
          0.0006135500007076189,
          0.0006149109976831824,
          0.0012009299971396104,
          0.0008739680051803589,
          0.00344233401119709,
          0.0019311149953864515,
          0.000905342007172294,
          0.002307085000211373,
          0.0030449100013356656,
          0.0020289829990360886,
          0.0016775419935584068,
          0.001078874003724195,
          0.0014835660113021731,
          0.001054783002473414,
          0.0008077060047071427,
          0.0006061349995434284,
          0.0007490980060538277,
          0.0011890150053659454,
          0.0007616340008098632,
          0.0007581980025861412,
          0.0011250779934925959,
          0.001122671994380653,
          0.0005926059966441244,
          0.0018286499980604276,
          0.0007110860024113208,
          0.0010188939922954887
         ],
         "y0": " ",
         "yaxis": "y6"
        },
        {
         "alignmentgroup": "True",
         "hovertemplate": "Baseline=False<br>Sizes=Small<br>Context=%{x}<br>total_time=%{y}<extra></extra>",
         "legendgroup": "False",
         "marker": {
          "color": "#EF553B"
         },
         "name": "False",
         "notched": false,
         "offsetgroup": "False",
         "orientation": "v",
         "showlegend": true,
         "type": "box",
         "x": [
          "Bbox Overlap (FALSE)",
          "Bbox Partial Overlap (TRUE)",
          "Bbox Inside Other (TRUE)",
          "Bbox Overlap (FALSE)",
          "Bbox Partial Overlap (TRUE)",
          "Bbox Partial Overlap (TRUE)",
          "Bbox Partial Overlap (TRUE)",
          "Bbox Partial Overlap (TRUE)",
          "Bbox Partial Overlap (TRUE)",
          "Bbox Partial Overlap (TRUE)",
          "Bbox Partial Overlap (TRUE)",
          "Bbox Overlap (FALSE)",
          "Bbox Overlap (FALSE)",
          "Bbox Partial Overlap (TRUE)",
          "Bbox Partial Overlap (TRUE)",
          "Bbox Inside Other (TRUE)",
          "Bbox Inside Other (TRUE)",
          "Bbox Partial Overlap (TRUE)",
          "Bbox Partial Overlap (TRUE)",
          "Bbox Partial Overlap (TRUE)",
          "Bbox Partial Overlap (TRUE)",
          "Bbox Partial Overlap (TRUE)",
          "Bbox Partial Overlap (TRUE)",
          "Bbox Overlap (FALSE)",
          "Bbox Overlap (FALSE)",
          "Bbox Overlap (FALSE)",
          "Bbox Inside Other (TRUE)",
          "Bbox Partial Overlap (TRUE)",
          "Bbox Overlap (FALSE)",
          "Bbox Overlap (FALSE)",
          "Bbox Overlap (FALSE)",
          "Bbox Overlap (FALSE)",
          "Bbox Overlap (FALSE)",
          "Bbox Overlap (FALSE)",
          "Bbox Overlap (FALSE)",
          "Bbox Overlap (FALSE)",
          "Bbox Overlap (FALSE)",
          "Bbox Overlap (FALSE)",
          "Bbox Overlap (FALSE)",
          "Bbox Overlap (FALSE)",
          "Bbox Overlap (FALSE)",
          "Bbox Overlap (FALSE)",
          "Bbox Overlap (FALSE)",
          "Bbox Overlap (FALSE)",
          "Bbox Overlap (FALSE)",
          "Bbox Overlap (FALSE)",
          "Bbox Overlap (FALSE)",
          "Bbox Overlap (FALSE)",
          "Bbox Overlap (FALSE)",
          "Bbox Overlap (FALSE)",
          "Bbox Overlap (FALSE)",
          "Bbox Overlap (FALSE)",
          "Bbox Overlap (FALSE)",
          "Bbox Overlap (FALSE)",
          "Bbox Overlap (FALSE)",
          "Bbox Overlap (FALSE)",
          "Bbox Overlap (FALSE)",
          "Bbox Overlap (FALSE)",
          "Bbox Overlap (FALSE)",
          "Bbox Overlap (FALSE)",
          "Bbox Overlap (FALSE)",
          "Bbox Overlap (FALSE)",
          "Bbox Overlap (FALSE)",
          "Bbox Overlap (FALSE)",
          "Bbox Overlap (FALSE)",
          "Bbox Overlap (FALSE)",
          "Bbox Overlap (FALSE)",
          "Bbox Overlap (FALSE)",
          "Bbox Overlap (FALSE)",
          "Bbox Overlap (FALSE)",
          "Bbox Overlap (FALSE)",
          "Bbox Overlap (FALSE)",
          "Bbox Overlap (FALSE)",
          "Bbox Overlap (FALSE)",
          "Bbox Overlap (FALSE)",
          "Bbox Overlap (FALSE)",
          "Bbox Overlap (FALSE)",
          "Bbox Overlap (FALSE)",
          "Bbox Overlap (FALSE)",
          "Bbox Overlap (FALSE)",
          "Bbox Overlap (FALSE)",
          "Bbox Overlap (FALSE)",
          "Bbox Overlap (FALSE)",
          "Bbox Overlap (FALSE)",
          "Bbox Overlap (FALSE)",
          "Bbox Overlap (FALSE)",
          "Bbox Overlap (FALSE)",
          "Bbox Overlap (FALSE)",
          "Bbox Overlap (FALSE)",
          "Bbox Overlap (FALSE)",
          "Bbox Overlap (FALSE)",
          "Bbox Overlap (FALSE)",
          "Bbox Overlap (FALSE)",
          "Bbox Overlap (FALSE)",
          "Bbox Partial Overlap (TRUE)",
          "Bbox Overlap (FALSE)",
          "Bbox Overlap (FALSE)",
          "Bbox Overlap (FALSE)",
          "Bbox Overlap (FALSE)",
          "Bbox Overlap (FALSE)",
          "Bbox Overlap (FALSE)",
          "Bbox Overlap (FALSE)",
          "Bbox Overlap (FALSE)",
          "Bbox Overlap (FALSE)",
          "Bbox Overlap (FALSE)",
          "Bbox Overlap (FALSE)",
          "Bbox Overlap (FALSE)",
          "Bbox Overlap (FALSE)",
          "Bbox Overlap (FALSE)",
          "Bbox Overlap (FALSE)",
          "Bbox Overlap (FALSE)",
          "Bbox Overlap (FALSE)",
          "Bbox Overlap (FALSE)",
          "Bbox Overlap (FALSE)",
          "Bbox Partial Overlap (TRUE)",
          "Bbox Partial Overlap (TRUE)",
          "Bbox Partial Overlap (TRUE)",
          "Bbox Partial Overlap (TRUE)",
          "Bbox Partial Overlap (TRUE)",
          "Bbox Partial Overlap (TRUE)",
          "Bbox Partial Overlap (TRUE)",
          "Bbox Partial Overlap (TRUE)",
          "Bbox Overlap (FALSE)",
          "Bbox Partial Overlap (TRUE)",
          "Bbox Partial Overlap (TRUE)",
          "Bbox Partial Overlap (TRUE)",
          "Bbox Overlap (FALSE)",
          "Bbox Overlap (FALSE)",
          "Bbox Partial Overlap (TRUE)",
          "Bbox Partial Overlap (TRUE)",
          "Bbox Overlap (FALSE)",
          "Bbox Partial Overlap (TRUE)",
          "Bbox Partial Overlap (TRUE)",
          "Bbox Partial Overlap (TRUE)",
          "Bbox Overlap (FALSE)",
          "Bbox Overlap (FALSE)",
          "Bbox Overlap (FALSE)",
          "Bbox Partial Overlap (TRUE)",
          "Bbox Partial Overlap (TRUE)",
          "Bbox Partial Overlap (TRUE)",
          "Bbox Partial Overlap (TRUE)",
          "Bbox Partial Overlap (TRUE)",
          "Bbox Partial Overlap (TRUE)",
          "Bbox Overlap (FALSE)",
          "Bbox Overlap (FALSE)",
          "Bbox Overlap (FALSE)",
          "Bbox Overlap (FALSE)",
          "Bbox Overlap (FALSE)",
          "Bbox Overlap (FALSE)",
          "Bbox Partial Overlap (TRUE)",
          "Bbox Partial Overlap (TRUE)",
          "Bbox Overlap (FALSE)",
          "Bbox Partial Overlap (TRUE)",
          "Bbox Partial Overlap (TRUE)",
          "Bbox Partial Overlap (TRUE)",
          "Bbox Partial Overlap (TRUE)",
          "Bbox Overlap (FALSE)",
          "Bbox Partial Overlap (TRUE)",
          "Bbox Partial Overlap (TRUE)",
          "Bbox Partial Overlap (TRUE)",
          "Bbox Partial Overlap (TRUE)",
          "Bbox Partial Overlap (TRUE)",
          "Bbox Partial Overlap (TRUE)",
          "Bbox Partial Overlap (TRUE)",
          "Bbox Partial Overlap (TRUE)",
          "Bbox Partial Overlap (TRUE)",
          "Bbox Partial Overlap (TRUE)",
          "Bbox Partial Overlap (TRUE)",
          "Bbox Partial Overlap (TRUE)",
          "Bbox Partial Overlap (TRUE)",
          "Bbox Partial Overlap (TRUE)",
          "Bbox Partial Overlap (TRUE)",
          "Bbox Partial Overlap (TRUE)",
          "Bbox Partial Overlap (TRUE)",
          "Bbox Partial Overlap (TRUE)",
          "Bbox Partial Overlap (TRUE)",
          "Bbox Partial Overlap (TRUE)",
          "Bbox Partial Overlap (TRUE)",
          "Bbox Partial Overlap (TRUE)",
          "Bbox Partial Overlap (TRUE)",
          "Bbox Overlap (FALSE)",
          "Bbox Overlap (FALSE)",
          "Bbox Partial Overlap (TRUE)",
          "Bbox Overlap (FALSE)",
          "Bbox Partial Overlap (TRUE)",
          "Bbox Overlap (FALSE)",
          "Bbox Partial Overlap (TRUE)",
          "Bbox Partial Overlap (TRUE)",
          "Bbox Partial Overlap (TRUE)",
          "Bbox Partial Overlap (TRUE)",
          "Bbox Partial Overlap (TRUE)",
          "Bbox Partial Overlap (TRUE)",
          "Bbox Overlap (FALSE)",
          "Bbox Partial Overlap (TRUE)",
          "Bbox Partial Overlap (TRUE)",
          "Bbox Partial Overlap (TRUE)",
          "Bbox Partial Overlap (TRUE)",
          "Bbox Partial Overlap (TRUE)",
          "Bbox Partial Overlap (TRUE)",
          "Bbox Partial Overlap (TRUE)",
          "Bbox Overlap (FALSE)",
          "Bbox Partial Overlap (TRUE)",
          "Bbox Partial Overlap (TRUE)",
          "Bbox Partial Overlap (TRUE)",
          "Bbox Overlap (FALSE)",
          "Bbox Overlap (FALSE)",
          "Bbox Overlap (FALSE)",
          "Bbox Overlap (FALSE)",
          "Bbox Partial Overlap (TRUE)",
          "Bbox Partial Overlap (TRUE)",
          "Bbox Partial Overlap (TRUE)",
          "Bbox Partial Overlap (TRUE)",
          "Bbox Partial Overlap (TRUE)",
          "Bbox Partial Overlap (TRUE)",
          "Bbox Partial Overlap (TRUE)",
          "Bbox Partial Overlap (TRUE)",
          "Bbox Partial Overlap (TRUE)",
          "Bbox Partial Overlap (TRUE)",
          "Bbox Partial Overlap (TRUE)",
          "Bbox Overlap (FALSE)",
          "Bbox Partial Overlap (TRUE)",
          "Bbox Partial Overlap (TRUE)",
          "Bbox Overlap (FALSE)",
          "Bbox Overlap (FALSE)",
          "Bbox Overlap (FALSE)",
          "Bbox Partial Overlap (TRUE)",
          "Bbox Overlap (FALSE)",
          "Bbox Overlap (FALSE)",
          "Bbox Overlap (FALSE)",
          "Bbox Partial Overlap (TRUE)",
          "Bbox Overlap (FALSE)",
          "Bbox Overlap (FALSE)",
          "Bbox Partial Overlap (TRUE)",
          "Bbox Partial Overlap (TRUE)",
          "Bbox Overlap (FALSE)",
          "Bbox Partial Overlap (TRUE)",
          "Bbox Partial Overlap (TRUE)",
          "Bbox Overlap (FALSE)",
          "Bbox Partial Overlap (TRUE)",
          "Bbox Partial Overlap (TRUE)",
          "Bbox Partial Overlap (TRUE)",
          "Bbox Partial Overlap (TRUE)",
          "Bbox Overlap (FALSE)",
          "Bbox Partial Overlap (TRUE)",
          "Bbox Partial Overlap (TRUE)",
          "Bbox Overlap (FALSE)",
          "Bbox Overlap (FALSE)",
          "Bbox Overlap (FALSE)",
          "Bbox Partial Overlap (TRUE)",
          "Bbox Overlap (FALSE)",
          "Bbox Partial Overlap (TRUE)",
          "Bbox Partial Overlap (TRUE)",
          "Bbox Partial Overlap (TRUE)",
          "Bbox Partial Overlap (TRUE)",
          "Bbox Partial Overlap (TRUE)",
          "Bbox Partial Overlap (TRUE)",
          "Bbox Partial Overlap (TRUE)",
          "Bbox Partial Overlap (TRUE)",
          "Bbox Overlap (FALSE)",
          "Bbox Overlap (FALSE)",
          "Bbox Partial Overlap (TRUE)",
          "Bbox Partial Overlap (TRUE)",
          "Bbox Partial Overlap (TRUE)",
          "Bbox Partial Overlap (TRUE)",
          "Bbox Partial Overlap (TRUE)",
          "Bbox Partial Overlap (TRUE)",
          "Bbox Partial Overlap (TRUE)",
          "Bbox Partial Overlap (TRUE)",
          "Bbox Partial Overlap (TRUE)",
          "Bbox Partial Overlap (TRUE)",
          "Bbox Partial Overlap (TRUE)",
          "Bbox Partial Overlap (TRUE)",
          "Bbox Partial Overlap (TRUE)",
          "Bbox Partial Overlap (TRUE)",
          "Bbox Overlap (FALSE)",
          "Bbox Overlap (FALSE)",
          "Bbox Partial Overlap (TRUE)",
          "Bbox Partial Overlap (TRUE)",
          "Bbox Overlap (FALSE)",
          "Bbox Partial Overlap (TRUE)",
          "Bbox Partial Overlap (TRUE)",
          "Bbox Overlap (FALSE)",
          "Bbox Partial Overlap (TRUE)",
          "Bbox Partial Overlap (TRUE)",
          "Bbox Partial Overlap (TRUE)",
          "Bbox Partial Overlap (TRUE)",
          "Bbox Partial Overlap (TRUE)",
          "Bbox Partial Overlap (TRUE)",
          "Bbox Overlap (FALSE)",
          "Bbox Partial Overlap (TRUE)",
          "Bbox Partial Overlap (TRUE)",
          "Bbox Partial Overlap (TRUE)",
          "Bbox Partial Overlap (TRUE)",
          "Bbox Partial Overlap (TRUE)",
          "Bbox Partial Overlap (TRUE)",
          "Bbox Partial Overlap (TRUE)",
          "Bbox Partial Overlap (TRUE)",
          "Bbox Partial Overlap (TRUE)",
          "Bbox Partial Overlap (TRUE)",
          "Bbox Partial Overlap (TRUE)",
          "Bbox Partial Overlap (TRUE)",
          "Bbox Partial Overlap (TRUE)",
          "Bbox Partial Overlap (TRUE)",
          "Bbox Partial Overlap (TRUE)",
          "Bbox Partial Overlap (TRUE)",
          "Bbox Partial Overlap (TRUE)",
          "Bbox Partial Overlap (TRUE)",
          "Bbox Partial Overlap (TRUE)",
          "Bbox Partial Overlap (TRUE)",
          "Bbox Partial Overlap (TRUE)",
          "Bbox Partial Overlap (TRUE)",
          "Bbox Partial Overlap (TRUE)",
          "Bbox Partial Overlap (TRUE)",
          "Bbox Partial Overlap (TRUE)",
          "Bbox Partial Overlap (TRUE)",
          "Bbox Partial Overlap (TRUE)",
          "Bbox Partial Overlap (TRUE)",
          "Bbox Partial Overlap (TRUE)",
          "Bbox Partial Overlap (TRUE)",
          "Bbox Partial Overlap (TRUE)",
          "Bbox Partial Overlap (TRUE)",
          "Bbox Partial Overlap (TRUE)",
          "Bbox Partial Overlap (TRUE)",
          "Bbox Partial Overlap (TRUE)",
          "Bbox Partial Overlap (TRUE)",
          "Bbox Partial Overlap (TRUE)",
          "Bbox Partial Overlap (TRUE)",
          "Bbox Overlap (FALSE)",
          "Bbox Partial Overlap (TRUE)",
          "Bbox Partial Overlap (TRUE)",
          "Bbox Partial Overlap (TRUE)",
          "Bbox Partial Overlap (TRUE)",
          "Bbox Partial Overlap (TRUE)",
          "Bbox Overlap (FALSE)",
          "Bbox Overlap (FALSE)",
          "Bbox Partial Overlap (TRUE)",
          "Bbox Overlap (FALSE)",
          "Bbox Overlap (FALSE)",
          "Bbox Partial Overlap (TRUE)",
          "Bbox Partial Overlap (TRUE)"
         ],
         "x0": " ",
         "xaxis": "x",
         "y": [
          0.00026964199787471443,
          0.0011472479964140803,
          0.0005261670012259856,
          0.000029425995307974517,
          0.0011912459885934368,
          0.0011672249966068193,
          0.0011856829951284453,
          0.003488217989797704,
          0.003399651002837345,
          0.004999446988222189,
          0.004958086006809026,
          0.00045725799282081425,
          0.0003652620071079582,
          0.0016538280033273622,
          0.0017008119903039187,
          0.0005306429957272485,
          0.0005305169906932861,
          0.00041337400034535676,
          0.00041438899643253535,
          0.0036270200071157888,
          0.0034244669950567186,
          0.007322623991058208,
          0.007111667000572197,
          0.000347103996318765,
          0.00035213898809161037,
          0.0002828940050676465,
          0.0003811369970208034,
          0.0002759280032478273,
          0.00018485299369785935,
          0.00023364298976957798,
          0.00018757200450636446,
          0.0004004619986517355,
          0.00018612199346534908,
          0.00018979499873239547,
          0.00026112201157957315,
          0.00019084000086877495,
          0.0001924130046973005,
          0.00019115301256533712,
          0.000287489005131647,
          0.00019027100643143058,
          0.00022382999304682016,
          0.00020306999795138836,
          0.00021894699602853507,
          0.0002120629942510277,
          0.00020915200002491474,
          0.00020800299535039812,
          0.00020994700025767088,
          0.00020920699171256274,
          0.00020712199329864234,
          0.00020635199325624853,
          0.0002098319964716211,
          0.00031747100001666695,
          0.00021417500101961195,
          0.00021970599482301623,
          0.00020669899822678417,
          0.00020617200061678886,
          0.00020824899547733366,
          0.00020571200002450496,
          0.0002336189936613664,
          0.0002034110075328499,
          0.00023368200345430523,
          0.00022950700076762587,
          0.00022476700542028993,
          0.00020673000835813582,
          0.00021415499213617295,
          0.0002343070082133636,
          0.0002463919954607263,
          0.0003112419944955036,
          0.00025399200967513025,
          0.0003446379996603355,
          0.00038154500361997634,
          0.00021088699577376246,
          0.00025267999444622546,
          0.00020548499014694244,
          0.00022353300300892442,
          0.00021317000209819525,
          0.0003054530097870156,
          0.00021414700313471258,
          0.00023730899556539953,
          0.0005343939992599189,
          0.00024818100791890174,
          0.00023008600692264736,
          0.0002449669991619885,
          0.00025673799973446876,
          0.00021221800125204027,
          0.00023535799118690193,
          0.0002721050113905221,
          0.00020297800074331462,
          0.00021481599833350629,
          0.00021460199786815792,
          0.0002087900065816939,
          0.00020992400823161006,
          0.00023307400988414884,
          0.00020910300372634083,
          0.0005741070053773001,
          0.0002576039987616241,
          0.000224959003389813,
          0.00024982899776659906,
          0.0002537769905757159,
          0.00023631399380974472,
          0.00023774999135639518,
          0.0002248310047434643,
          0.00021529800142161548,
          0.00038404500810429454,
          0.0002131280052708462,
          0.00020583899458870292,
          0.00027150499226991087,
          0.0002367429988225922,
          0.0001971949968719855,
          0.00020087299344595522,
          0.00020026499987579882,
          0.00020588000188581645,
          0.0003405500028748065,
          0.0004621599946403876,
          0.0005795050092274323,
          0.0005828339926665649,
          0.0004231769999023527,
          0.0006172059947857633,
          0.0004307269991841167,
          0.0004213819920551032,
          0.0015894130046945065,
          0.0007151099998736754,
          0.0002594480029074475,
          0.001419551990693435,
          0.0012491769884945825,
          0.0012740310048684478,
          0.0002800610091071576,
          0.00028292300703469664,
          0.0004754980036523193,
          0.0006171379936859012,
          0.00034564400266390294,
          0.0006079009908717126,
          0.000492153994855471,
          0.0006041699962224811,
          0.0005160149885341525,
          0.0006957360019441694,
          0.00042310300341341645,
          0.0007167860021581873,
          0.0006982240010984242,
          0.0007524520042352378,
          0.00040990499837789685,
          0.0004029970004921779,
          0.0005968420009594411,
          0.0002448640007060021,
          0.00024171901168301702,
          0.000333243006025441,
          0.00022441300097852945,
          0.00025001300673466176,
          0.00024814500648062676,
          0.0007656240049982443,
          0.0011907370062544942,
          0.0003968560049543157,
          0.0006134379946161062,
          0.0010342070017941296,
          0.001251061010407284,
          0.0008903470006771386,
          0.00030343199614435434,
          0.0004925359971821308,
          0.00046524299250449985,
          0.0006733960035489872,
          0.000463853997644037,
          0.0004781059978995472,
          0.0009925089980242774,
          0.0022175800113473088,
          0.0005070589977549389,
          0.0004761019954457879,
          0.0006641299987677485,
          0.0008190850057872012,
          0.0004129410081077367,
          0.0003971879923483357,
          0.00044838299800176173,
          0.0006457830022554845,
          0.0004547960124909878,
          0.00046227400889620185,
          0.00052832999790553,
          0.0004546470008790493,
          0.0008932499913498759,
          0.0006511480023618788,
          0.0006011810037307441,
          0.000525822993949987,
          0.00023915700148791075,
          0.0002381109952693805,
          0.0004131159948883578,
          0.0001912580046337098,
          0.00041563299600966275,
          0.00029677800193894655,
          0.0006033060053596273,
          0.0007025509985396639,
          0.0006976909935474396,
          0.0006231229926925153,
          0.0006208690028870478,
          0.0005018240044591948,
          0.0001286610058741644,
          0.0005092850042274222,
          0.0008587039919802919,
          0.00041159099782817066,
          0.000537913991138339,
          0.0003923899930668995,
          0.000455988003523089,
          0.0006718100048601627,
          0.0005921599949942902,
          0.0007778940052958205,
          0.0007055010064505041,
          0.0006705330015392974,
          0.0003573969879653305,
          0.00027278700144961476,
          0.00042115600081160665,
          0.0003488320071483031,
          0.0005918999959249049,
          0.00048232500557787716,
          0.0004388109955471009,
          0.0004382110055303201,
          0.0004780489980475977,
          0.0004295810067560524,
          0.0005262519989628345,
          0.0005284609942464158,
          0.000995120994048193,
          0.0007956729969009757,
          0.0008944409928517416,
          0.00024177299928851426,
          0.0004855250008404255,
          0.0004826799995498732,
          0.00028226699214428663,
          0.00043660099618136883,
          0.0003504150081425905,
          0.0004993740003556013,
          0.0002206839999416843,
          0.0002166560007026419,
          0.0003555919975042343,
          0.0009102480107685551,
          0.0002668649976840243,
          0.00031768999178893864,
          0.0006486530037363991,
          0.0006583600043086335,
          0.0002684070059331134,
          0.0005964989977655932,
          0.0005918440001551062,
          0.0005542350118048489,
          0.0006671379960607737,
          0.00047625201113987714,
          0.0006490670057246462,
          0.0004550340090645477,
          0.0005981160065857694,
          0.00048387999413535,
          0.00044014499871991575,
          0.00026873601018451154,
          0.00032628299959469587,
          0.0002688370004761964,
          0.0006939770100871101,
          0.00024345499696210027,
          0.001206043001729995,
          0.0016522009973414242,
          0.001781352999387309,
          0.0020949949976056814,
          0.0021185060031712055,
          0.000699721000273712,
          0.0012430969945853576,
          0.0008549190097255632,
          0.00031099999614525586,
          0.000057819997891783714,
          0.0008750590059207752,
          0.00168506900081411,
          0.0004984440020052716,
          0.0009339389944216236,
          0.0005332650034688413,
          0.0005465150024974719,
          0.0007171609904617071,
          0.0009940899908542633,
          0.0008532030042260885,
          0.0006317469960777089,
          0.0006049329967936501,
          0.0005941910058027133,
          0.00040948399691842496,
          0.0005441130051622167,
          0.00020839499484281987,
          0.00019875999714713544,
          0.0004162580007687211,
          0.0006489389925263822,
          0.00021341101091820747,
          0.00043626700062304735,
          0.00043106600060127676,
          0.00021686300169676542,
          0.00043183501111343503,
          0.00045693399442825466,
          0.00044347599032334983,
          0.0006034030084265396,
          0.0006001740111969411,
          0.0004148940060986206,
          0.0002063269930658862,
          0.0011104879959020764,
          0.0006768940074834973,
          0.0010276230023009703,
          0.0008767499966779724,
          0.0005222969921305776,
          0.000516932996106334,
          0.00043498200830072165,
          0.0004694660019595176,
          0.0004565900017041713,
          0.00045597499411087483,
          0.0005513990035979077,
          0.0006571660051122308,
          0.00039183399348985404,
          0.0004990140005247667,
          0.0005153200036147609,
          0.0005083020078018308,
          0.0012244569952599704,
          0.0006359170074574649,
          0.0006591580022359267,
          0.0012060389999533072,
          0.0007018339965725318,
          0.0006130019901320338,
          0.0006014270038576797,
          0.0008013699989533052,
          0.0012512160028563812,
          0.0006768469902453944,
          0.0006255039916140959,
          0.0006907409988343716,
          0.0006667310080956668,
          0.0006054719997337088,
          0.0007881469937274233,
          0.0005993150116410106,
          0.0006080919993110001,
          0.0007817760051693767,
          0.0007766720082145184,
          0.0011182140005985275,
          0.0009033440001076087,
          0.0006566160009242594,
          0.0005634010012727231,
          0.0009041740122484043,
          0.00038753099215682596,
          0.00041762499313335866,
          0.0004406059888424352,
          0.0003556180017767474,
          0.0002185199991799891,
          0.00022533000446856022,
          0.00036098000418860465,
          0.00005385901022236794,
          0.00006046499765943736,
          0.00028279599791858345,
          0.0003374510124558583
         ],
         "y0": " ",
         "yaxis": "y"
        },
        {
         "alignmentgroup": "True",
         "hovertemplate": "Baseline=False<br>Sizes=Small Medium Mixed<br>Context=%{x}<br>total_time=%{y}<extra></extra>",
         "legendgroup": "False",
         "marker": {
          "color": "#EF553B"
         },
         "name": "False",
         "notched": false,
         "offsetgroup": "False",
         "orientation": "v",
         "showlegend": false,
         "type": "box",
         "x": [
          "Bbox Partial Overlap (TRUE)",
          "Bbox Partial Overlap (TRUE)",
          "Bbox Partial Overlap (TRUE)",
          "Bbox Partial Overlap (TRUE)",
          "Bbox Overlap (FALSE)",
          "Bbox Overlap (FALSE)",
          "Bbox Overlap (FALSE)",
          "Bbox Overlap (FALSE)",
          "Bbox Partial Overlap (TRUE)",
          "Bbox Overlap (FALSE)",
          "Bbox Overlap (FALSE)",
          "Bbox Overlap (FALSE)",
          "Bbox Overlap (FALSE)",
          "Bbox Overlap (FALSE)",
          "Bbox Overlap (FALSE)",
          "Bbox Overlap (FALSE)",
          "Bbox Overlap (FALSE)",
          "Bbox Partial Overlap (TRUE)",
          "Bbox Partial Overlap (TRUE)",
          "Bbox Partial Overlap (TRUE)",
          "Bbox Overlap (FALSE)",
          "Bbox Inside Other (TRUE)",
          "Bbox Overlap (FALSE)",
          "Bbox Partial Overlap (TRUE)",
          "Bbox Partial Overlap (TRUE)",
          "Bbox Inside Other (TRUE)",
          "Bbox Overlap (FALSE)",
          "Bbox Partial Overlap (TRUE)",
          "Bbox Partial Overlap (TRUE)",
          "Bbox Partial Overlap (TRUE)",
          "Bbox Overlap (FALSE)",
          "Bbox Partial Overlap (TRUE)",
          "Bbox Overlap (FALSE)",
          "Bbox Partial Overlap (TRUE)",
          "Bbox Partial Overlap (TRUE)",
          "Bbox Partial Overlap (TRUE)",
          "Bbox Partial Overlap (TRUE)",
          "Bbox Partial Overlap (TRUE)",
          "Bbox Partial Overlap (TRUE)",
          "Bbox Partial Overlap (TRUE)",
          "Bbox Partial Overlap (TRUE)",
          "Bbox Partial Overlap (TRUE)",
          "Bbox Partial Overlap (TRUE)",
          "Bbox Partial Overlap (TRUE)",
          "Bbox Partial Overlap (TRUE)",
          "Bbox Partial Overlap (TRUE)",
          "Bbox Partial Overlap (TRUE)",
          "Bbox Partial Overlap (TRUE)",
          "Bbox Partial Overlap (TRUE)",
          "Bbox Partial Overlap (TRUE)",
          "Bbox Overlap (FALSE)",
          "Bbox Overlap (FALSE)",
          "Bbox Overlap (FALSE)",
          "Bbox Overlap (FALSE)",
          "Bbox Partial Overlap (TRUE)",
          "Bbox Partial Overlap (TRUE)",
          "Bbox Partial Overlap (TRUE)",
          "Bbox Partial Overlap (TRUE)",
          "Bbox Partial Overlap (TRUE)",
          "Bbox Partial Overlap (TRUE)",
          "Bbox Partial Overlap (TRUE)",
          "Bbox Partial Overlap (TRUE)",
          "Bbox Overlap (FALSE)",
          "Bbox Partial Overlap (TRUE)",
          "Bbox Partial Overlap (TRUE)",
          "Bbox Partial Overlap (TRUE)",
          "Bbox Partial Overlap (TRUE)",
          "Bbox Partial Overlap (TRUE)",
          "Bbox Partial Overlap (TRUE)",
          "Bbox Overlap (FALSE)",
          "Bbox Partial Overlap (TRUE)",
          "Bbox Partial Overlap (TRUE)",
          "Bbox Partial Overlap (TRUE)",
          "Bbox Partial Overlap (TRUE)",
          "Bbox Partial Overlap (TRUE)",
          "Bbox Overlap (FALSE)",
          "Bbox Overlap (FALSE)",
          "Bbox Overlap (FALSE)",
          "Bbox Partial Overlap (TRUE)",
          "Bbox Overlap (FALSE)",
          "Bbox Overlap (FALSE)",
          "Bbox Overlap (FALSE)",
          "Bbox Overlap (FALSE)",
          "Bbox Overlap (FALSE)",
          "Bbox Overlap (FALSE)",
          "Bbox Overlap (FALSE)",
          "Bbox Partial Overlap (TRUE)",
          "Bbox Partial Overlap (TRUE)",
          "Bbox Overlap (FALSE)",
          "Bbox Partial Overlap (TRUE)",
          "Bbox Partial Overlap (TRUE)",
          "Bbox Partial Overlap (TRUE)",
          "Bbox Partial Overlap (TRUE)",
          "Bbox Partial Overlap (TRUE)",
          "Bbox Partial Overlap (TRUE)",
          "Bbox Partial Overlap (TRUE)",
          "Bbox Partial Overlap (TRUE)",
          "Bbox Overlap (FALSE)",
          "Bbox Overlap (FALSE)",
          "Bbox Overlap (FALSE)",
          "Bbox Overlap (FALSE)",
          "Bbox Partial Overlap (TRUE)",
          "Bbox Overlap (FALSE)",
          "Bbox Overlap (FALSE)",
          "Bbox Overlap (FALSE)",
          "Bbox Overlap (FALSE)",
          "Bbox Overlap (FALSE)",
          "Bbox Overlap (FALSE)",
          "Bbox Overlap (FALSE)",
          "Bbox Partial Overlap (TRUE)",
          "Bbox Partial Overlap (TRUE)",
          "Bbox Overlap (FALSE)",
          "Bbox Partial Overlap (TRUE)"
         ],
         "x0": " ",
         "xaxis": "x2",
         "y": [
          0.0012320920068304986,
          0.0012425329914549366,
          0.00042846699943766,
          0.0010225570003967732,
          0.00022177900245878845,
          0.00048266799421980977,
          0.0004128599975956604,
          0.0005378259957069531,
          0.0006175590096972883,
          0.0004493830056162551,
          0.00011434100451879203,
          0.00021812198974657804,
          0.0001169620081782341,
          0.000581669999519363,
          0.0005417859938461334,
          0.0003316869988339022,
          0.00011347400140948594,
          0.0006162409990793094,
          0.0005859530065208673,
          0.0007000290061114356,
          0.00041509199945721775,
          0.0005731609999202192,
          0.000244909999310039,
          0.000527840995346196,
          0.0005802420055260882,
          0.0005642309988616034,
          0.0003614759916672483,
          0.0006245359982131049,
          0.0006727650034008548,
          0.0008330250129802153,
          0.00006944600318092853,
          0.0007259609992615879,
          0.0006265749980229884,
          0.0006892289966344833,
          0.0010098009952344,
          0.0005572330119321123,
          0.0006905749905854464,
          0.000720854994142428,
          0.0005324450030457228,
          0.0005284359940560535,
          0.0006791330088162795,
          0.0009940050076693296,
          0.001990049990126863,
          0.001392857011524029,
          0.0009753310005180538,
          0.002296880993526429,
          0.0009510700037935749,
          0.0009953289991244674,
          0.0011135940003441647,
          0.0011109269980806857,
          0.0001206880115205422,
          0.00028917800227645785,
          0.0004297230043448508,
          0.00036943300801794976,
          0.0008614079997641966,
          0.0006965670036152005,
          0.001047626996296458,
          0.0006178930052556098,
          0.0006145020015537739,
          0.0006976730073802173,
          0.001042320000124164,
          0.0006955449935048819,
          0.0007081229996401817,
          0.000873210999998264,
          0.0006168199906824157,
          0.0005976090033072978,
          0.0005940859991824254,
          0.000515923005877994,
          0.0004754779947688803,
          0.000502171998959966,
          0.0006277520005824044,
          0.00066496898944024,
          0.0006590539996977895,
          0.0005154029931873083,
          0.0007310039945878088,
          0.0000690930028213188,
          0.00023465898993890733,
          0.0000649150024401024,
          0.0008948489994509146,
          0.0002592859964352101,
          0.00006511399988085032,
          0.000256550993071869,
          0.0002523720031604171,
          0.00036548000934999436,
          0.000366368010872975,
          0.00025762700533960015,
          0.0004706860054284334,
          0.0013899299956392497,
          0.0002523720031604171,
          0.0006975280120968819,
          0.0005387919954955578,
          0.0005930019979132339,
          0.0006220719951670617,
          0.0008593569946242496,
          0.001471954004955478,
          0.0006930590025149286,
          0.0014617130073020235,
          0.00034708299790509045,
          0.0003523499908624217,
          0.0003778380050789565,
          0.0002444540004944429,
          0.000699982003425248,
          0.00034785299794748425,
          0.0007078659982653335,
          0.0002280220069224015,
          0.00022825199994258583,
          0.00006203500379342586,
          0.0000640479993307963,
          0.00006214498716872185,
          0.00041341199539601803,
          0.0003972220001742244,
          0.00006131699774414301,
          0.0003727290022652596
         ],
         "y0": " ",
         "yaxis": "y2"
        },
        {
         "alignmentgroup": "True",
         "hovertemplate": "Baseline=False<br>Sizes=Large<br>Context=%{x}<br>total_time=%{y}<extra></extra>",
         "legendgroup": "False",
         "marker": {
          "color": "#EF553B"
         },
         "name": "False",
         "notched": false,
         "offsetgroup": "False",
         "orientation": "v",
         "showlegend": false,
         "type": "box",
         "x": [
          "Bbox Partial Overlap (TRUE)",
          "Bbox Partial Overlap (TRUE)",
          "Bbox Partial Overlap (TRUE)",
          "Bbox Partial Overlap (TRUE)",
          "Bbox Partial Overlap (TRUE)",
          "Bbox Partial Overlap (TRUE)",
          "Bbox Partial Overlap (TRUE)",
          "Bbox Overlap (FALSE)",
          "Bbox Overlap (FALSE)",
          "Bbox Overlap (FALSE)",
          "Bbox Partial Overlap (TRUE)",
          "Bbox Overlap (FALSE)",
          "Bbox Partial Overlap (TRUE)",
          "Bbox Partial Overlap (TRUE)",
          "Bbox Partial Overlap (TRUE)",
          "Bbox Overlap (FALSE)",
          "Bbox Partial Overlap (TRUE)",
          "Bbox Partial Overlap (TRUE)",
          "Bbox Partial Overlap (TRUE)",
          "Bbox Overlap (FALSE)",
          "Bbox Partial Overlap (TRUE)",
          "Bbox Partial Overlap (TRUE)",
          "Bbox Overlap (FALSE)",
          "Bbox Partial Overlap (TRUE)",
          "Bbox Overlap (FALSE)",
          "Bbox Overlap (FALSE)",
          "Bbox Partial Overlap (TRUE)",
          "Bbox Partial Overlap (TRUE)",
          "Bbox Partial Overlap (TRUE)",
          "Bbox Partial Overlap (TRUE)",
          "Bbox Overlap (FALSE)",
          "Bbox Overlap (FALSE)",
          "Bbox Partial Overlap (TRUE)",
          "Bbox Overlap (FALSE)",
          "Bbox Partial Overlap (TRUE)",
          "Bbox Partial Overlap (TRUE)",
          "Bbox Partial Overlap (TRUE)",
          "Bbox Overlap (FALSE)",
          "Bbox Partial Overlap (TRUE)",
          "Bbox Partial Overlap (TRUE)",
          "Bbox Overlap (FALSE)",
          "Bbox Overlap (FALSE)",
          "Bbox Partial Overlap (TRUE)",
          "Bbox Partial Overlap (TRUE)",
          "Bbox Partial Overlap (TRUE)",
          "Bbox Overlap (FALSE)",
          "Bbox Partial Overlap (TRUE)",
          "Bbox Partial Overlap (TRUE)",
          "Bbox Partial Overlap (TRUE)",
          "Bbox Overlap (FALSE)",
          "Bbox Partial Overlap (TRUE)",
          "Bbox Partial Overlap (TRUE)",
          "Bbox Partial Overlap (TRUE)",
          "Bbox Partial Overlap (TRUE)",
          "Bbox Overlap (FALSE)",
          "Bbox Partial Overlap (TRUE)",
          "Bbox Overlap (FALSE)",
          "Bbox Partial Overlap (TRUE)",
          "Bbox Partial Overlap (TRUE)",
          "Bbox Partial Overlap (TRUE)",
          "Bbox Partial Overlap (TRUE)",
          "Bbox Partial Overlap (TRUE)",
          "Bbox Partial Overlap (TRUE)",
          "Bbox Partial Overlap (TRUE)",
          "Bbox Overlap (FALSE)",
          "Bbox Overlap (FALSE)",
          "Bbox Overlap (FALSE)",
          "Bbox Partial Overlap (TRUE)",
          "Bbox Partial Overlap (TRUE)",
          "Bbox Partial Overlap (TRUE)",
          "Bbox Partial Overlap (TRUE)",
          "Bbox Partial Overlap (TRUE)",
          "Bbox Partial Overlap (TRUE)",
          "Bbox Overlap (FALSE)",
          "Bbox Partial Overlap (TRUE)",
          "Bbox Partial Overlap (TRUE)",
          "Bbox Partial Overlap (TRUE)",
          "Bbox Partial Overlap (TRUE)",
          "Bbox Partial Overlap (TRUE)",
          "Bbox Partial Overlap (TRUE)",
          "Bbox Partial Overlap (TRUE)",
          "Bbox Partial Overlap (TRUE)",
          "Bbox Partial Overlap (TRUE)",
          "Bbox Partial Overlap (TRUE)",
          "Bbox Partial Overlap (TRUE)",
          "Bbox Overlap (FALSE)",
          "Bbox Overlap (FALSE)",
          "Bbox Partial Overlap (TRUE)",
          "Bbox Partial Overlap (TRUE)",
          "Bbox Partial Overlap (TRUE)",
          "Bbox Partial Overlap (TRUE)",
          "Bbox Partial Overlap (TRUE)",
          "Bbox Partial Overlap (TRUE)",
          "Bbox Partial Overlap (TRUE)",
          "Bbox Partial Overlap (TRUE)",
          "Bbox Overlap (FALSE)",
          "Bbox Overlap (FALSE)",
          "Bbox Overlap (FALSE)",
          "Bbox Overlap (FALSE)",
          "Bbox Overlap (FALSE)",
          "Bbox Overlap (FALSE)",
          "Bbox Overlap (FALSE)",
          "Bbox Overlap (FALSE)",
          "Bbox Overlap (FALSE)",
          "Bbox Overlap (FALSE)",
          "Bbox Overlap (FALSE)",
          "Bbox Overlap (FALSE)",
          "Bbox Overlap (FALSE)",
          "Bbox Overlap (FALSE)",
          "Bbox Overlap (FALSE)",
          "Bbox Overlap (FALSE)",
          "Bbox Overlap (FALSE)",
          "Bbox Overlap (FALSE)",
          "Bbox Overlap (FALSE)",
          "Bbox Overlap (FALSE)",
          "Bbox Overlap (FALSE)",
          "Bbox Overlap (FALSE)",
          "Bbox Overlap (FALSE)",
          "Bbox Overlap (FALSE)",
          "Bbox Overlap (FALSE)",
          "Bbox Overlap (FALSE)",
          "Bbox Overlap (FALSE)",
          "Bbox Overlap (FALSE)",
          "Bbox Overlap (FALSE)",
          "Bbox Overlap (FALSE)",
          "Bbox Overlap (FALSE)",
          "Bbox Overlap (FALSE)",
          "Bbox Overlap (FALSE)",
          "Bbox Overlap (FALSE)",
          "Bbox Overlap (FALSE)",
          "Bbox Overlap (FALSE)",
          "Bbox Overlap (FALSE)",
          "Bbox Overlap (FALSE)",
          "Bbox Overlap (FALSE)",
          "Bbox Overlap (FALSE)",
          "Bbox Overlap (FALSE)",
          "Bbox Overlap (FALSE)",
          "Bbox Overlap (FALSE)",
          "Bbox Overlap (FALSE)",
          "Bbox Overlap (FALSE)",
          "Bbox Overlap (FALSE)",
          "Bbox Overlap (FALSE)",
          "Bbox Overlap (FALSE)",
          "Bbox Overlap (FALSE)",
          "Bbox Overlap (FALSE)",
          "Bbox Overlap (FALSE)",
          "Bbox Overlap (FALSE)",
          "Bbox Overlap (FALSE)",
          "Bbox Overlap (FALSE)",
          "Bbox Overlap (FALSE)",
          "Bbox Overlap (FALSE)",
          "Bbox Overlap (FALSE)",
          "Bbox Overlap (FALSE)",
          "Bbox Overlap (FALSE)",
          "Bbox Overlap (FALSE)",
          "Bbox Overlap (FALSE)",
          "Bbox Overlap (FALSE)",
          "Bbox Overlap (FALSE)",
          "Bbox Overlap (FALSE)",
          "Bbox Overlap (FALSE)",
          "Bbox Overlap (FALSE)",
          "Bbox Overlap (FALSE)",
          "Bbox Overlap (FALSE)",
          "Bbox Overlap (FALSE)",
          "Bbox Overlap (FALSE)",
          "Bbox Overlap (FALSE)",
          "Bbox Overlap (FALSE)",
          "Bbox Overlap (FALSE)",
          "Bbox Overlap (FALSE)",
          "Bbox Overlap (FALSE)",
          "Bbox Overlap (FALSE)",
          "Bbox Overlap (FALSE)",
          "Bbox Overlap (FALSE)",
          "Bbox Overlap (FALSE)",
          "Bbox Overlap (FALSE)",
          "Bbox Overlap (FALSE)",
          "Bbox Overlap (FALSE)",
          "Bbox Overlap (FALSE)",
          "Bbox Overlap (FALSE)",
          "Bbox Overlap (FALSE)",
          "Bbox Overlap (FALSE)",
          "Bbox Overlap (FALSE)",
          "Bbox Overlap (FALSE)",
          "Bbox Overlap (FALSE)",
          "Bbox Overlap (FALSE)",
          "Bbox Partial Overlap (TRUE)",
          "Bbox Overlap (FALSE)",
          "Bbox Partial Overlap (TRUE)",
          "Bbox Partial Overlap (TRUE)",
          "Bbox Overlap (FALSE)",
          "Bbox Overlap (FALSE)",
          "Bbox Overlap (FALSE)",
          "Bbox Overlap (FALSE)",
          "Bbox Overlap (FALSE)",
          "Bbox Partial Overlap (TRUE)",
          "Bbox Overlap (FALSE)",
          "Bbox Overlap (FALSE)",
          "Bbox Overlap (FALSE)",
          "Bbox Partial Overlap (TRUE)",
          "Bbox Partial Overlap (TRUE)",
          "Bbox Overlap (FALSE)",
          "Bbox Partial Overlap (TRUE)",
          "Bbox Partial Overlap (TRUE)",
          "Bbox Partial Overlap (TRUE)",
          "Bbox Partial Overlap (TRUE)",
          "Bbox Partial Overlap (TRUE)",
          "Bbox Overlap (FALSE)",
          "Bbox Partial Overlap (TRUE)",
          "Bbox Overlap (FALSE)",
          "Bbox Overlap (FALSE)",
          "Bbox Overlap (FALSE)",
          "Bbox Overlap (FALSE)",
          "Bbox Overlap (FALSE)",
          "Bbox Partial Overlap (TRUE)",
          "Bbox Overlap (FALSE)",
          "Bbox Overlap (FALSE)",
          "Bbox Overlap (FALSE)",
          "Bbox Overlap (FALSE)",
          "Bbox Overlap (FALSE)",
          "Bbox Overlap (FALSE)",
          "Bbox Overlap (FALSE)",
          "Bbox Overlap (FALSE)",
          "Bbox Overlap (FALSE)",
          "Bbox Overlap (FALSE)",
          "Bbox Overlap (FALSE)",
          "Bbox Overlap (FALSE)",
          "Bbox Overlap (FALSE)",
          "Bbox Overlap (FALSE)",
          "Bbox Overlap (FALSE)",
          "Bbox Overlap (FALSE)",
          "Bbox Partial Overlap (TRUE)",
          "Bbox Overlap (FALSE)",
          "Bbox Partial Overlap (TRUE)",
          "Bbox Partial Overlap (TRUE)",
          "Bbox Overlap (FALSE)"
         ],
         "x0": " ",
         "xaxis": "x3",
         "y": [
          0.009982058007153682,
          0.010019378998549655,
          0.003568455998902209,
          0.0011729709949577227,
          0.005695305997505784,
          0.003706878997036256,
          0.005469454001286067,
          0.00012972200056537986,
          0.0004926450055791065,
          0.0009076669957721606,
          0.010340434004319832,
          0.0002984239981742576,
          0.007902937999460846,
          0.009004093997646123,
          0.003944241994759068,
          0.00011953999637626112,
          0.010649841002305038,
          0.014457059995038435,
          0.0059216389927314594,
          0.0003349129983689636,
          0.023200366005767137,
          0.00601641800312791,
          0.0006928329967195168,
          0.00500966799154412,
          0.00031044200295582414,
          0.0003399459965294227,
          0.0029283360054250807,
          0.0037428910000016913,
          0.0028386899939505383,
          0.0034311039926251397,
          0.00010274999658577144,
          0.00024424899311270565,
          0.005567116997553967,
          0.00020983300055377185,
          0.001869580999482423,
          0.0031248279992723837,
          0.003999617998488247,
          0.00025909200485330075,
          0.01193378800235223,
          0.01569369700155221,
          0.00023072499607224017,
          0.00022072000137995929,
          0.00733974100148771,
          0.0032136279914993793,
          0.007307520994800143,
          0.0002496599918231368,
          0.0016401989996666089,
          0.005445652001071721,
          0.0038264739996520802,
          0.00018918199930340052,
          0.004846335999900475,
          0.0013831629912601784,
          0.006682277002255432,
          0.003867815001285635,
          0.00022995400649961084,
          0.018119685002602637,
          0.00023081200197339058,
          0.0052657000051112846,
          0.007262269005877897,
          0.0023367910034721717,
          0.0010884639923460782,
          0.005005995000828989,
          0.004016021004645154,
          0.0056906690006144345,
          0.00013259499974083155,
          0.00025529500271659344,
          0.00015322898980230093,
          0.02835975399648305,
          0.010020996007369831,
          0.0025668809976195917,
          0.0014968619943829253,
          0.0016319230053341016,
          0.007961729003000073,
          0.0002445310092298314,
          0.0060469689924502745,
          0.0026023410027846694,
          0.0011016880016541108,
          0.006256759996176697,
          0.004076074998010881,
          0.0026614410016918555,
          0.007015955008682795,
          0.0025110580027103424,
          0.0036047909961780533,
          0.008555509994039312,
          0.004264691000571474,
          0.00037417699059005827,
          0.00020388099073898047,
          0.009897621988784522,
          0.002831496996805072,
          0.0293849479930941,
          0.01393556701077614,
          0.014591522995033301,
          0.015435438996064477,
          0.009256374003598467,
          0.006936492005479522,
          0.00008715299190953374,
          0.0003343540010973811,
          0.00012860100832767785,
          0.0008071460033534095,
          0.00037617000634782016,
          0.0001056280016200617,
          0.000588916998822242,
          0.0001443539949832484,
          0.0009065430058399215,
          0.00018685399845708162,
          0.0001851029956014827,
          0.00025183400430250913,
          0.00016843598859850317,
          0.0011959829862462357,
          0.0013311380025697872,
          0.001010455991490744,
          0.0003737420047400519,
          0.0007082650117808953,
          0.00039778699283488095,
          0.003486225992674008,
          0.0019493180006975308,
          0.003494949996820651,
          0.0010760430013760924,
          0.0005325840029399842,
          0.0007557229982921854,
          0.00008947400783654302,
          0.0000943140039453283,
          0.00013478900655172765,
          0.00013427100202534348,
          0.00014149399066809565,
          0.00009133899584412575,
          0.0002651630056789145,
          0.0002641099999891594,
          0.000444050005171448,
          0.00029224800528027117,
          0.00017310700786765665,
          0.0007173439953476191,
          0.00047141400864347816,
          0.00015252199955284595,
          0.00016272999346256256,
          0.0005338090122677386,
          0.005128985008923337,
          0.0003055449924431741,
          0.0001894939923658967,
          0.0008049970056163147,
          0.00015643799270037562,
          0.00015633599832654,
          0.0006036060076439753,
          0.0006698920042254031,
          0.00014971900964155793,
          0.00015070899098645896,
          0.0006311409961199388,
          0.00020946799486409873,
          0.0002784500102279708,
          0.00038832699647173285,
          0.00021611599368043244,
          0.0002669340028660372,
          0.0001986639981623739,
          0.00032569900213275105,
          0.0005156669940333813,
          0.0005041209951741621,
          0.000276260994723998,
          0.0003513530100462958,
          0.0007005420047789812,
          0.0006994430004851893,
          0.0013139759976183996,
          0.00029402899963315576,
          0.00017707298684399575,
          0.00017453600594308227,
          0.0007464170048478991,
          0.001614869004697539,
          0.0002719019976211712,
          0.0003821620048256591,
          0.00027278299967292696,
          0.0003430009965086356,
          0.0002691929985303432,
          0.00033086199255194515,
          0.00026203600282315165,
          0.00034856099227909,
          0.00038389900873880833,
          0.00022746599279344082,
          0.000402146004489623,
          0.00035861200012732297,
          0.002166459002182819,
          0.00045232399133965373,
          0.0006515679997391999,
          0.0006445589970098808,
          0.0001849670079536736,
          0.0007967819983605295,
          0.0009868630004348233,
          0.0006849189958302304,
          0.0006212729931576177,
          0.0011579419951885939,
          0.0007945249963086098,
          0.00008808200072962791,
          0.0007804849883541465,
          0.0001508670102339238,
          0.0004276140098227188,
          0.0005248429952189326,
          0.007058746996335685,
          0.0001271840010304004,
          0.00015723000979050994,
          0.0003283179976278916,
          0.0023404910025419667,
          0.0015745160053484142,
          0.00008332899597007781,
          0.0008153480011969805,
          0.0010410899994894862,
          0.0010140049998881295,
          0.0015048549976199865,
          0.0015341329999500886,
          0.0007439339970005676,
          0.0008717029995750636,
          0.00008442500256933272,
          0.0005285989900585264,
          0.000829664000775665,
          0.0007726189942331985,
          0.0008489690080750734,
          0.002393706003203988,
          0.00019771901133935899,
          0.00010088599810842425,
          0.00009569100802764297,
          0.00012118200538679957,
          0.00009945999772753567,
          0.00044813999556936324,
          0.00044980700477026403,
          0.00011000700760632753,
          0.0003703580005094409,
          0.00007865999941714108,
          0.0009681710071163252,
          0.0009702809911686927,
          0.0001125150010921061,
          0.00037523600622080266,
          0.00014516300871036947,
          0.0001932199957082048,
          0.0008498889947077259,
          0.0006810060003772378,
          0.0008742979989619926,
          0.009136521010077558,
          0.00027780300297308713
         ],
         "y0": " ",
         "yaxis": "y3"
        },
        {
         "alignmentgroup": "True",
         "hovertemplate": "Baseline=False<br>Sizes=Small Large Mixed<br>Context=%{x}<br>total_time=%{y}<extra></extra>",
         "legendgroup": "False",
         "marker": {
          "color": "#EF553B"
         },
         "name": "False",
         "notched": false,
         "offsetgroup": "False",
         "orientation": "v",
         "showlegend": false,
         "type": "box",
         "x": [
          "Bbox Inside Other (TRUE)",
          "Bbox Inside Other (TRUE)",
          "Bbox Partial Overlap (TRUE)",
          "Bbox Partial Overlap (TRUE)",
          "Bbox Partial Overlap (TRUE)",
          "Bbox Partial Overlap (TRUE)",
          "Bbox Overlap (FALSE)",
          "Bbox Partial Overlap (TRUE)",
          "Bbox Overlap (FALSE)",
          "Bbox Overlap (FALSE)",
          "Bbox Overlap (FALSE)",
          "Bbox Overlap (FALSE)",
          "Bbox Overlap (FALSE)",
          "Bbox Overlap (FALSE)",
          "Bbox Overlap (FALSE)",
          "Bbox Partial Overlap (TRUE)",
          "Bbox Overlap (FALSE)",
          "Bbox Overlap (FALSE)",
          "Bbox Overlap (FALSE)",
          "Bbox Partial Overlap (TRUE)",
          "Bbox Overlap (FALSE)",
          "Bbox Overlap (FALSE)",
          "Bbox Partial Overlap (TRUE)",
          "Bbox Partial Overlap (TRUE)",
          "Bbox Overlap (FALSE)",
          "Bbox Partial Overlap (TRUE)",
          "Bbox Overlap (FALSE)",
          "Bbox Partial Overlap (TRUE)",
          "Bbox Overlap (FALSE)",
          "Bbox Overlap (FALSE)",
          "Bbox Overlap (FALSE)",
          "Bbox Overlap (FALSE)",
          "Bbox Partial Overlap (TRUE)",
          "Bbox Partial Overlap (TRUE)",
          "Bbox Overlap (FALSE)",
          "Bbox Overlap (FALSE)",
          "Bbox Overlap (FALSE)",
          "Bbox Overlap (FALSE)",
          "Bbox Overlap (FALSE)",
          "Bbox Overlap (FALSE)",
          "Bbox Overlap (FALSE)",
          "Bbox Overlap (FALSE)",
          "Bbox Overlap (FALSE)",
          "Bbox Overlap (FALSE)",
          "Bbox Overlap (FALSE)",
          "Bbox Overlap (FALSE)",
          "Bbox Overlap (FALSE)",
          "Bbox Overlap (FALSE)",
          "Bbox Overlap (FALSE)",
          "Bbox Overlap (FALSE)",
          "Bbox Overlap (FALSE)",
          "Bbox Overlap (FALSE)",
          "Bbox Overlap (FALSE)",
          "Bbox Overlap (FALSE)",
          "Bbox Overlap (FALSE)",
          "Bbox Overlap (FALSE)",
          "Bbox Overlap (FALSE)",
          "Bbox Overlap (FALSE)",
          "Bbox Overlap (FALSE)",
          "Bbox Overlap (FALSE)",
          "Bbox Overlap (FALSE)",
          "Bbox Overlap (FALSE)",
          "Bbox Partial Overlap (TRUE)",
          "Bbox Partial Overlap (TRUE)",
          "Bbox Partial Overlap (TRUE)",
          "Bbox Overlap (FALSE)",
          "Bbox Partial Overlap (TRUE)",
          "Bbox Overlap (FALSE)",
          "Bbox Partial Overlap (TRUE)",
          "Bbox Partial Overlap (TRUE)",
          "Bbox Partial Overlap (TRUE)",
          "Bbox Partial Overlap (TRUE)",
          "Bbox Overlap (FALSE)",
          "Bbox Overlap (FALSE)",
          "Bbox Overlap (FALSE)",
          "Bbox Overlap (FALSE)",
          "Bbox Overlap (FALSE)",
          "Bbox Overlap (FALSE)",
          "Bbox Partial Overlap (TRUE)",
          "Bbox Overlap (FALSE)",
          "Bbox Overlap (FALSE)",
          "Bbox Overlap (FALSE)",
          "Bbox Overlap (FALSE)",
          "Bbox Partial Overlap (TRUE)",
          "Bbox Partial Overlap (TRUE)",
          "Bbox Partial Overlap (TRUE)",
          "Bbox Partial Overlap (TRUE)",
          "Bbox Partial Overlap (TRUE)",
          "Bbox Partial Overlap (TRUE)",
          "Bbox Overlap (FALSE)",
          "Bbox Overlap (FALSE)",
          "Bbox Overlap (FALSE)",
          "Bbox Partial Overlap (TRUE)",
          "Bbox Partial Overlap (TRUE)",
          "Bbox Overlap (FALSE)",
          "Bbox Partial Overlap (TRUE)",
          "Bbox Partial Overlap (TRUE)",
          "Bbox Overlap (FALSE)",
          "Bbox Overlap (FALSE)",
          "Bbox Partial Overlap (TRUE)",
          "Bbox Partial Overlap (TRUE)",
          "Bbox Overlap (FALSE)",
          "Bbox Overlap (FALSE)",
          "Bbox Partial Overlap (TRUE)",
          "Bbox Overlap (FALSE)",
          "Bbox Overlap (FALSE)",
          "Bbox Overlap (FALSE)",
          "Bbox Overlap (FALSE)",
          "Bbox Overlap (FALSE)",
          "Bbox Partial Overlap (TRUE)",
          "Bbox Partial Overlap (TRUE)",
          "Bbox Partial Overlap (TRUE)",
          "Bbox Partial Overlap (TRUE)",
          "Bbox Overlap (FALSE)",
          "Bbox Overlap (FALSE)",
          "Bbox Partial Overlap (TRUE)",
          "Bbox Overlap (FALSE)",
          "Bbox Partial Overlap (TRUE)",
          "Bbox Overlap (FALSE)",
          "Bbox Overlap (FALSE)",
          "Bbox Overlap (FALSE)",
          "Bbox Overlap (FALSE)",
          "Bbox Overlap (FALSE)",
          "Bbox Overlap (FALSE)",
          "Bbox Overlap (FALSE)",
          "Bbox Overlap (FALSE)",
          "Bbox Overlap (FALSE)",
          "Bbox Partial Overlap (TRUE)",
          "Bbox Overlap (FALSE)",
          "Bbox Overlap (FALSE)",
          "Bbox Overlap (FALSE)",
          "Bbox Overlap (FALSE)",
          "Bbox Partial Overlap (TRUE)",
          "Bbox Overlap (FALSE)",
          "Bbox Overlap (FALSE)",
          "Bbox Overlap (FALSE)",
          "Bbox Overlap (FALSE)",
          "Bbox Overlap (FALSE)",
          "Bbox Overlap (FALSE)",
          "Bbox Overlap (FALSE)",
          "Bbox Overlap (FALSE)",
          "Bbox Overlap (FALSE)",
          "Bbox Overlap (FALSE)",
          "Bbox Overlap (FALSE)",
          "Bbox Overlap (FALSE)",
          "Bbox Overlap (FALSE)",
          "Bbox Overlap (FALSE)",
          "Bbox Overlap (FALSE)",
          "Bbox Overlap (FALSE)",
          "Bbox Overlap (FALSE)",
          "Bbox Overlap (FALSE)",
          "Bbox Partial Overlap (TRUE)",
          "Bbox Overlap (FALSE)",
          "Bbox Overlap (FALSE)",
          "Bbox Overlap (FALSE)",
          "Bbox Overlap (FALSE)",
          "Bbox Overlap (FALSE)",
          "Bbox Overlap (FALSE)",
          "Bbox Overlap (FALSE)",
          "Bbox Overlap (FALSE)",
          "Bbox Overlap (FALSE)",
          "Bbox Overlap (FALSE)",
          "Bbox Overlap (FALSE)",
          "Bbox Partial Overlap (TRUE)",
          "Bbox Overlap (FALSE)",
          "Bbox Overlap (FALSE)",
          "Bbox Overlap (FALSE)",
          "Bbox Partial Overlap (TRUE)",
          "Bbox Overlap (FALSE)",
          "Bbox Overlap (FALSE)",
          "Bbox Partial Overlap (TRUE)",
          "Bbox Overlap (FALSE)",
          "Bbox Partial Overlap (TRUE)",
          "Bbox Overlap (FALSE)",
          "Bbox Overlap (FALSE)",
          "Bbox Overlap (FALSE)",
          "Bbox Overlap (FALSE)",
          "Bbox Overlap (FALSE)",
          "Bbox Overlap (FALSE)",
          "Bbox Overlap (FALSE)",
          "Bbox Overlap (FALSE)",
          "Bbox Overlap (FALSE)",
          "Bbox Overlap (FALSE)",
          "Bbox Overlap (FALSE)",
          "Bbox Partial Overlap (TRUE)",
          "Bbox Overlap (FALSE)",
          "Bbox Overlap (FALSE)",
          "Bbox Partial Overlap (TRUE)",
          "Bbox Overlap (FALSE)",
          "Bbox Overlap (FALSE)",
          "Bbox Overlap (FALSE)",
          "Bbox Overlap (FALSE)",
          "Bbox Overlap (FALSE)",
          "Bbox Partial Overlap (TRUE)",
          "Bbox Overlap (FALSE)",
          "Bbox Overlap (FALSE)",
          "Bbox Overlap (FALSE)",
          "Bbox Overlap (FALSE)",
          "Bbox Overlap (FALSE)",
          "Bbox Overlap (FALSE)",
          "Bbox Overlap (FALSE)",
          "Bbox Overlap (FALSE)",
          "Bbox Overlap (FALSE)",
          "Bbox Overlap (FALSE)",
          "Bbox Overlap (FALSE)",
          "Bbox Overlap (FALSE)",
          "Bbox Overlap (FALSE)",
          "Bbox Overlap (FALSE)",
          "Bbox Overlap (FALSE)",
          "Bbox Overlap (FALSE)",
          "Bbox Overlap (FALSE)",
          "Bbox Overlap (FALSE)",
          "Bbox Overlap (FALSE)",
          "Bbox Overlap (FALSE)",
          "Bbox Overlap (FALSE)",
          "Bbox Overlap (FALSE)",
          "Bbox Overlap (FALSE)",
          "Bbox Overlap (FALSE)",
          "Bbox Overlap (FALSE)",
          "Bbox Overlap (FALSE)",
          "Bbox Overlap (FALSE)",
          "Bbox Overlap (FALSE)",
          "Bbox Overlap (FALSE)",
          "Bbox Overlap (FALSE)",
          "Bbox Overlap (FALSE)",
          "Bbox Overlap (FALSE)",
          "Bbox Overlap (FALSE)",
          "Bbox Partial Overlap (TRUE)",
          "Bbox Overlap (FALSE)",
          "Bbox Overlap (FALSE)",
          "Bbox Overlap (FALSE)",
          "Bbox Overlap (FALSE)",
          "Bbox Overlap (FALSE)",
          "Bbox Overlap (FALSE)",
          "Bbox Overlap (FALSE)",
          "Bbox Overlap (FALSE)",
          "Bbox Overlap (FALSE)",
          "Bbox Overlap (FALSE)",
          "Bbox Overlap (FALSE)",
          "Bbox Overlap (FALSE)",
          "Bbox Overlap (FALSE)",
          "Bbox Overlap (FALSE)",
          "Bbox Overlap (FALSE)",
          "Bbox Overlap (FALSE)",
          "Bbox Overlap (FALSE)",
          "Bbox Overlap (FALSE)",
          "Bbox Overlap (FALSE)",
          "Bbox Overlap (FALSE)",
          "Bbox Overlap (FALSE)",
          "Bbox Overlap (FALSE)",
          "Bbox Overlap (FALSE)",
          "Bbox Overlap (FALSE)",
          "Bbox Overlap (FALSE)",
          "Bbox Overlap (FALSE)",
          "Bbox Overlap (FALSE)",
          "Bbox Overlap (FALSE)"
         ],
         "x0": " ",
         "xaxis": "x4",
         "y": [
          0.0005352150037651882,
          0.0005254599964246154,
          0.0030408710008487105,
          0.0013220209948485717,
          0.0013293639931362122,
          0.0013028310058871284,
          0.0007468149997293949,
          0.0004063700034748763,
          0.00006602700159419328,
          0.0009519759914837778,
          0.00009221899381373078,
          0.000550319004105404,
          0.0003338800015626475,
          0.00008798600174486637,
          0.00014394799654837698,
          0.0009652860026108101,
          0.00013523500820156187,
          0.00043762200220953673,
          0.00007335700502153486,
          0.0010322970047127455,
          0.0005842239916091785,
          0.00006552999548148364,
          0.0007308180065592751,
          0.0007886649982538074,
          0.00011008499132003635,
          0.0009671800071373582,
          0.00008725198858883232,
          0.001137521001510322,
          0.00008246500510722399,
          0.00013933599984738976,
          0.0006504069897346199,
          0.0006964240019442514,
          0.0007385990029433742,
          0.0006873609963804483,
          0.00037645400152541697,
          0.0004916010075248778,
          0.0009641250071581453,
          0.0005451790057122707,
          0.0004889460105914623,
          0.0003975220024585724,
          0.0001489080023020506,
          0.0001436279999325052,
          0.0001506910048192367,
          0.00014409399591386318,
          0.00014400399231817573,
          0.00015176000306382775,
          0.0004722540033981204,
          0.000587830989388749,
          0.0006178220064612105,
          0.000690657994709909,
          0.00044439799967221916,
          0.00044221399002708495,
          0.0007086949917720631,
          0.0006071770039852709,
          0.0005733300058636814,
          0.0007184690039139241,
          0.0004015050071757287,
          0.00020853399473708123,
          0.0008443690021522343,
          0.0003645149990916252,
          0.0003896370035363361,
          0.00007840999751351774,
          0.0013103919918648899,
          0.0033299680071650073,
          0.002256117993965745,
          0.00031015899730846286,
          0.0009251139999832958,
          0.00027654798759613186,
          0.0012715670018224046,
          0.003314564994070679,
          0.0022957089968258515,
          0.0006732010078849271,
          0.0001356450084131211,
          0.00013864701031707227,
          0.00018805998843163252,
          0.00013849699462298304,
          0.00035361798654776067,
          0.00046959699830040336,
          0.0014746509987162426,
          0.0011065139988204464,
          0.0007136579952202737,
          0.0005752529978053644,
          0.0005409110017353669,
          0.0010260919952997938,
          0.0005189660005271435,
          0.0004836449952563271,
          0.0007058490009512752,
          0.0006928160000825301,
          0.0008596190018579364,
          0.0004502649971982464,
          0.000591493007959798,
          0.00047425100638065487,
          0.0008493249915773049,
          0.0006701139936922118,
          0.0005383000097936019,
          0.0007076890033204108,
          0.0008432640024693683,
          0.00012748500739689916,
          0.00012532601249404252,
          0.0005867940053576604,
          0.0005770849966211244,
          0.0003804439911618829,
          0.0003801250131800771,
          0.0006731100002070889,
          0.0003892270033247769,
          0.0003620450006565079,
          0.0003511420072754845,
          0.00007488401024602354,
          0.00035868499253410846,
          0.0006656890036538243,
          0.0006494180124718696,
          0.0006504579941974953,
          0.0007594249909743667,
          0.0004107220011064783,
          0.0005645030032610521,
          0.0004887070099357516,
          0.0005534039955819026,
          0.0014917829976184294,
          0.0012827799946535379,
          0.0002717700117500499,
          0.0009360910044051707,
          0.00019802899623755366,
          0.0003696289932122454,
          0.00039991199446376413,
          0.0005293370049912483,
          0.00007199701212812215,
          0.00048255000729113817,
          0.0013893040013499558,
          0.0001349500089418143,
          0.0005371890001697466,
          0.0005609410000033677,
          0.000566846996662207,
          0.0009121659968513995,
          0.0006470819935202599,
          0.0007134530023904517,
          0.00015605200314894319,
          0.0001551160094095394,
          0.00015674399037379771,
          0.00015630600682925433,
          0.00015219800116028637,
          0.0002025480062002316,
          0.0002224769996246323,
          0.0005558319971896708,
          0.0013314850075403228,
          0.0008181519951904193,
          0.0004461920034373179,
          0.0009013469971250743,
          0.0008388260030187666,
          0.00008671099203638732,
          0.00014822400407865644,
          0.0001453260047128424,
          0.0006344720022752881,
          0.0003733869962161407,
          0.00011897299555130303,
          0.00012069901276845485,
          0.0005820319929625839,
          0.0005020700045861304,
          0.0004937960038660094,
          0.0006426299951272085,
          0.0006845629977760836,
          0.0007247110042953864,
          0.0005849799927091226,
          0.000636073003988713,
          0.0009136900043813512,
          0.00009104599303100258,
          0.00014917699445504695,
          0.0007157990039559081,
          0.00100430499878712,
          0.0003745940048247576,
          0.0007469420088455081,
          0.001365124000585638,
          0.0003910770028596744,
          0.0009478610008955002,
          0.00017592600488569587,
          0.00018746500427369028,
          0.0004893309960607439,
          0.00048666700604371727,
          0.00016051699640229344,
          0.0004989930021110922,
          0.00048655799764674157,
          0.00027870899066329,
          0.00034627299464773387,
          0.0004715590039268136,
          0.000384733997634612,
          0.0007087220001267269,
          0.0004879609914496541,
          0.00045186599891167134,
          0.0004901009961031377,
          0.00017618099809624255,
          0.00018458299746271223,
          0.00017830799333751202,
          0.00018070299120154232,
          0.0001787289947969839,
          0.0005052969936514273,
          0.00017658399883657694,
          0.00016975299513433129,
          0.00016646400035824627,
          0.0001328999933321029,
          0.00013676099479198456,
          0.00014100399857852608,
          0.00008425599662587047,
          0.00009658999624662101,
          0.00009912099631037563,
          0.00010175700299441814,
          0.00010068999836221337,
          0.00010093000310007483,
          0.00016878599126357585,
          0.00009899299766402692,
          0.00014039200323168188,
          0.00009722299000713974,
          0.00010056800965685397,
          0.00010862000635825098,
          0.00010353900142945349,
          0.00009937401046045125,
          0.00010429800022393465,
          0.00010197100345976651,
          0.00010463299986440688,
          0.00010452700371388346,
          0.00009796400263439864,
          0.00010597700020298362,
          0.00010958699567709118,
          0.00010940300126094371,
          0.00010311500227544457,
          0.00010507200204301625,
          0.00010076499893330038,
          0.00009735199273563921,
          0.00010217999806627631,
          0.0004460010095499456,
          0.00010222601122222841,
          0.000099409997346811,
          0.00010175399074796587,
          0.00009556299482937902,
          0.0000965249928412959,
          0.00011634799011517316,
          0.0001428769901394844,
          0.00014850999286863953,
          0.00012675600009970367,
          0.00010083799134008586,
          0.00017371900321450084,
          0.00010101099906023592,
          0.00010461400961503386,
          0.00010937699698843062,
          0.00010365201160311699,
          0.00010360199667047709,
          0.0001025039964588359,
          0.00010533200111240149,
          0.00009876799595076591,
          0.00010354899859521538,
          0.0001396529987687245,
          0.0000996430026134476,
          0.00010165499406866729,
          0.00010206799197476357,
          0.00010331100202165544,
          0.00010750499495770782,
          0.00007609199383296072,
          0.00007991500024218112
         ],
         "y0": " ",
         "yaxis": "y4"
        },
        {
         "alignmentgroup": "True",
         "hovertemplate": "Baseline=False<br>Sizes=Medium Large Mixed<br>Context=%{x}<br>total_time=%{y}<extra></extra>",
         "legendgroup": "False",
         "marker": {
          "color": "#EF553B"
         },
         "name": "False",
         "notched": false,
         "offsetgroup": "False",
         "orientation": "v",
         "showlegend": false,
         "type": "box",
         "x": [
          "Bbox Overlap (FALSE)",
          "Bbox Overlap (FALSE)",
          "Bbox Overlap (FALSE)",
          "Bbox Overlap (FALSE)",
          "Bbox Overlap (FALSE)",
          "Bbox Overlap (FALSE)",
          "Bbox Overlap (FALSE)",
          "Bbox Overlap (FALSE)",
          "Bbox Partial Overlap (TRUE)",
          "Bbox Partial Overlap (TRUE)",
          "Bbox Overlap (FALSE)",
          "Bbox Partial Overlap (TRUE)",
          "Bbox Overlap (FALSE)",
          "Bbox Overlap (FALSE)",
          "Bbox Overlap (FALSE)",
          "Bbox Partial Overlap (TRUE)",
          "Bbox Overlap (FALSE)",
          "Bbox Overlap (FALSE)",
          "Bbox Overlap (FALSE)",
          "Bbox Overlap (FALSE)",
          "Bbox Partial Overlap (TRUE)",
          "Bbox Partial Overlap (TRUE)",
          "Bbox Overlap (FALSE)",
          "Bbox Partial Overlap (TRUE)",
          "Bbox Partial Overlap (TRUE)",
          "Bbox Overlap (FALSE)",
          "Bbox Overlap (FALSE)",
          "Bbox Overlap (FALSE)",
          "Bbox Partial Overlap (TRUE)",
          "Bbox Partial Overlap (TRUE)",
          "Bbox Partial Overlap (TRUE)",
          "Bbox Overlap (FALSE)",
          "Bbox Partial Overlap (TRUE)",
          "Bbox Partial Overlap (TRUE)",
          "Bbox Partial Overlap (TRUE)",
          "Bbox Overlap (FALSE)",
          "Bbox Partial Overlap (TRUE)",
          "Bbox Overlap (FALSE)",
          "Bbox Overlap (FALSE)",
          "Bbox Overlap (FALSE)",
          "Bbox Overlap (FALSE)",
          "Bbox Overlap (FALSE)",
          "Bbox Overlap (FALSE)",
          "Bbox Overlap (FALSE)",
          "Bbox Overlap (FALSE)",
          "Bbox Overlap (FALSE)",
          "Bbox Overlap (FALSE)",
          "Bbox Overlap (FALSE)",
          "Bbox Overlap (FALSE)",
          "Bbox Overlap (FALSE)",
          "Bbox Overlap (FALSE)",
          "Bbox Overlap (FALSE)",
          "Bbox Partial Overlap (TRUE)",
          "Bbox Partial Overlap (TRUE)",
          "Bbox Overlap (FALSE)",
          "Bbox Overlap (FALSE)",
          "Bbox Overlap (FALSE)",
          "Bbox Overlap (FALSE)",
          "Bbox Overlap (FALSE)",
          "Bbox Overlap (FALSE)",
          "Bbox Overlap (FALSE)",
          "Bbox Overlap (FALSE)",
          "Bbox Partial Overlap (TRUE)",
          "Bbox Overlap (FALSE)",
          "Bbox Overlap (FALSE)",
          "Bbox Overlap (FALSE)",
          "Bbox Overlap (FALSE)",
          "Bbox Overlap (FALSE)",
          "Bbox Partial Overlap (TRUE)",
          "Bbox Partial Overlap (TRUE)",
          "Bbox Overlap (FALSE)",
          "Bbox Overlap (FALSE)",
          "Bbox Partial Overlap (TRUE)",
          "Bbox Overlap (FALSE)",
          "Bbox Overlap (FALSE)",
          "Bbox Overlap (FALSE)",
          "Bbox Overlap (FALSE)",
          "Bbox Overlap (FALSE)",
          "Bbox Overlap (FALSE)",
          "Bbox Overlap (FALSE)"
         ],
         "x0": " ",
         "xaxis": "x5",
         "y": [
          0.0003100219910265878,
          0.0003060480084968731,
          0.00031300100090447813,
          0.0001730740041239187,
          0.00009028300701174885,
          0.0008802700031083077,
          0.001474952994612977,
          0.0008342910005012527,
          0.0008368970011360943,
          0.0008392239979002625,
          0.00043314600770827383,
          0.0006947339861653745,
          0.0007109529979061335,
          0.0008441669924650341,
          0.001137302999268286,
          0.0006509809900308028,
          0.0009319400123786181,
          0.0006849579949630424,
          0.00046716901124455035,
          0.0008148710039677098,
          0.0007264570012921467,
          0.0006520660099340603,
          0.00032190199999604374,
          0.00097374600591138,
          0.0009452239901293069,
          0.0003799980040639639,
          0.00008174999675247818,
          0.0004890949930995703,
          0.0007275210082298145,
          0.0008095439989119768,
          0.0010286129981977865,
          0.0003820300044026226,
          0.0006305809947662055,
          0.0006190020067151636,
          0.0006838869885541499,
          0.00039177300641313195,
          0.0007151669997256249,
          0.000656324002193287,
          0.000580138002987951,
          0.0006874200043966994,
          0.0003238669887650758,
          0.0006773399945814162,
          0.00007192700286395848,
          0.0003630900027928874,
          0.00036144600016996264,
          0.00046579800255130976,
          0.0004580140084726736,
          0.0008994769887067378,
          0.00031216499337460846,
          0.00008111499482765794,
          0.00031346500327344984,
          0.00030231301207095385,
          0.0006581819907296449,
          0.0008461429970338941,
          0.000455822009826079,
          0.00014612299855798483,
          0.0011058140080422163,
          0.0014654999977210537,
          0.0004697840049630031,
          0.0008599739958299324,
          0.001338870992185548,
          0.0005843940016347915,
          0.0009919160074787214,
          0.0006304759881459177,
          0.0005131320067448542,
          0.0005193429969949648,
          0.001047691999701783,
          0.0002230749960290268,
          0.0005616249982267618,
          0.0006939239974599332,
          0.00017128599574789405,
          0.00012207499821670353,
          0.0009280179947381839,
          0.00009784600115381181,
          0.0006097099976614118,
          0.00010974198812618852,
          0.00011889799498021603,
          0.00010982000094372779,
          0.00010987000132445246,
          0.00011376499605830759
         ],
         "y0": " ",
         "yaxis": "y5"
        },
        {
         "alignmentgroup": "True",
         "hovertemplate": "Baseline=False<br>Sizes=Medium<br>Context=%{x}<br>total_time=%{y}<extra></extra>",
         "legendgroup": "False",
         "marker": {
          "color": "#EF553B"
         },
         "name": "False",
         "notched": false,
         "offsetgroup": "False",
         "orientation": "v",
         "showlegend": false,
         "type": "box",
         "x": [
          "Bbox Overlap (FALSE)",
          "Bbox Overlap (FALSE)",
          "Bbox Overlap (FALSE)",
          "Bbox Partial Overlap (TRUE)",
          "Bbox Overlap (FALSE)",
          "Bbox Partial Overlap (TRUE)",
          "Bbox Partial Overlap (TRUE)",
          "Bbox Overlap (FALSE)",
          "Bbox Partial Overlap (TRUE)",
          "Bbox Partial Overlap (TRUE)",
          "Bbox Partial Overlap (TRUE)",
          "Bbox Partial Overlap (TRUE)",
          "Bbox Partial Overlap (TRUE)",
          "Bbox Partial Overlap (TRUE)",
          "Bbox Partial Overlap (TRUE)",
          "Bbox Overlap (FALSE)",
          "Bbox Overlap (FALSE)",
          "Bbox Overlap (FALSE)",
          "Bbox Partial Overlap (TRUE)",
          "Bbox Overlap (FALSE)",
          "Bbox Overlap (FALSE)",
          "Bbox Partial Overlap (TRUE)",
          "Bbox Partial Overlap (TRUE)",
          "Bbox Overlap (FALSE)",
          "Bbox Partial Overlap (TRUE)",
          "Bbox Overlap (FALSE)",
          "Bbox Partial Overlap (TRUE)"
         ],
         "x0": " ",
         "xaxis": "x6",
         "y": [
          0.00089109200052917,
          0.00029571600316558033,
          0.00044182699639350176,
          0.0007045489910524338,
          0.0004551390011329204,
          0.0027244239900028333,
          0.0013795970007777214,
          0.0006394719966920093,
          0.0022895020083524287,
          0.002909112998167984,
          0.001652489008847624,
          0.0011856389901367947,
          0.0006740170065313578,
          0.0012194630107842386,
          0.0006788890023017302,
          0.00006943200423847884,
          0.00024572799156885594,
          0.00023886999406386167,
          0.0006889190117362887,
          0.0002745309902820736,
          0.0002769090060610324,
          0.00083816000551451,
          0.0006607269897358492,
          0.0002907110028900206,
          0.001401980989612639,
          0.0003926270001102239,
          0.0005794489989057183
         ],
         "y0": " ",
         "yaxis": "y6"
        }
       ],
       "layout": {
        "annotations": [
         {
          "font": {},
          "showarrow": false,
          "text": "Sizes=Small",
          "x": 0.0625,
          "xanchor": "center",
          "xref": "paper",
          "y": 1,
          "yanchor": "bottom",
          "yref": "paper"
         },
         {
          "font": {},
          "showarrow": false,
          "text": "Sizes=Small Medium Mixed",
          "x": 0.2375,
          "xanchor": "center",
          "xref": "paper",
          "y": 1,
          "yanchor": "bottom",
          "yref": "paper"
         },
         {
          "font": {},
          "showarrow": false,
          "text": "Sizes=Large",
          "x": 0.4125,
          "xanchor": "center",
          "xref": "paper",
          "y": 1,
          "yanchor": "bottom",
          "yref": "paper"
         },
         {
          "font": {},
          "showarrow": false,
          "text": "Sizes=Small Large Mixed",
          "x": 0.5875,
          "xanchor": "center",
          "xref": "paper",
          "y": 1,
          "yanchor": "bottom",
          "yref": "paper"
         },
         {
          "font": {},
          "showarrow": false,
          "text": "Sizes=Medium Large Mixed",
          "x": 0.7625,
          "xanchor": "center",
          "xref": "paper",
          "y": 1,
          "yanchor": "bottom",
          "yref": "paper"
         },
         {
          "font": {},
          "showarrow": false,
          "text": "Sizes=Medium",
          "x": 0.9375,
          "xanchor": "center",
          "xref": "paper",
          "y": 1,
          "yanchor": "bottom",
          "yref": "paper"
         }
        ],
        "boxmode": "group",
        "legend": {
         "title": {
          "text": "Baseline"
         },
         "tracegroupgap": 0
        },
        "template": {
         "data": {
          "bar": [
           {
            "error_x": {
             "color": "#2a3f5f"
            },
            "error_y": {
             "color": "#2a3f5f"
            },
            "marker": {
             "line": {
              "color": "#E5ECF6",
              "width": 0.5
             },
             "pattern": {
              "fillmode": "overlay",
              "size": 10,
              "solidity": 0.2
             }
            },
            "type": "bar"
           }
          ],
          "barpolar": [
           {
            "marker": {
             "line": {
              "color": "#E5ECF6",
              "width": 0.5
             },
             "pattern": {
              "fillmode": "overlay",
              "size": 10,
              "solidity": 0.2
             }
            },
            "type": "barpolar"
           }
          ],
          "carpet": [
           {
            "aaxis": {
             "endlinecolor": "#2a3f5f",
             "gridcolor": "white",
             "linecolor": "white",
             "minorgridcolor": "white",
             "startlinecolor": "#2a3f5f"
            },
            "baxis": {
             "endlinecolor": "#2a3f5f",
             "gridcolor": "white",
             "linecolor": "white",
             "minorgridcolor": "white",
             "startlinecolor": "#2a3f5f"
            },
            "type": "carpet"
           }
          ],
          "choropleth": [
           {
            "colorbar": {
             "outlinewidth": 0,
             "ticks": ""
            },
            "type": "choropleth"
           }
          ],
          "contour": [
           {
            "colorbar": {
             "outlinewidth": 0,
             "ticks": ""
            },
            "colorscale": [
             [
              0,
              "#0d0887"
             ],
             [
              0.1111111111111111,
              "#46039f"
             ],
             [
              0.2222222222222222,
              "#7201a8"
             ],
             [
              0.3333333333333333,
              "#9c179e"
             ],
             [
              0.4444444444444444,
              "#bd3786"
             ],
             [
              0.5555555555555556,
              "#d8576b"
             ],
             [
              0.6666666666666666,
              "#ed7953"
             ],
             [
              0.7777777777777778,
              "#fb9f3a"
             ],
             [
              0.8888888888888888,
              "#fdca26"
             ],
             [
              1,
              "#f0f921"
             ]
            ],
            "type": "contour"
           }
          ],
          "contourcarpet": [
           {
            "colorbar": {
             "outlinewidth": 0,
             "ticks": ""
            },
            "type": "contourcarpet"
           }
          ],
          "heatmap": [
           {
            "colorbar": {
             "outlinewidth": 0,
             "ticks": ""
            },
            "colorscale": [
             [
              0,
              "#0d0887"
             ],
             [
              0.1111111111111111,
              "#46039f"
             ],
             [
              0.2222222222222222,
              "#7201a8"
             ],
             [
              0.3333333333333333,
              "#9c179e"
             ],
             [
              0.4444444444444444,
              "#bd3786"
             ],
             [
              0.5555555555555556,
              "#d8576b"
             ],
             [
              0.6666666666666666,
              "#ed7953"
             ],
             [
              0.7777777777777778,
              "#fb9f3a"
             ],
             [
              0.8888888888888888,
              "#fdca26"
             ],
             [
              1,
              "#f0f921"
             ]
            ],
            "type": "heatmap"
           }
          ],
          "heatmapgl": [
           {
            "colorbar": {
             "outlinewidth": 0,
             "ticks": ""
            },
            "colorscale": [
             [
              0,
              "#0d0887"
             ],
             [
              0.1111111111111111,
              "#46039f"
             ],
             [
              0.2222222222222222,
              "#7201a8"
             ],
             [
              0.3333333333333333,
              "#9c179e"
             ],
             [
              0.4444444444444444,
              "#bd3786"
             ],
             [
              0.5555555555555556,
              "#d8576b"
             ],
             [
              0.6666666666666666,
              "#ed7953"
             ],
             [
              0.7777777777777778,
              "#fb9f3a"
             ],
             [
              0.8888888888888888,
              "#fdca26"
             ],
             [
              1,
              "#f0f921"
             ]
            ],
            "type": "heatmapgl"
           }
          ],
          "histogram": [
           {
            "marker": {
             "pattern": {
              "fillmode": "overlay",
              "size": 10,
              "solidity": 0.2
             }
            },
            "type": "histogram"
           }
          ],
          "histogram2d": [
           {
            "colorbar": {
             "outlinewidth": 0,
             "ticks": ""
            },
            "colorscale": [
             [
              0,
              "#0d0887"
             ],
             [
              0.1111111111111111,
              "#46039f"
             ],
             [
              0.2222222222222222,
              "#7201a8"
             ],
             [
              0.3333333333333333,
              "#9c179e"
             ],
             [
              0.4444444444444444,
              "#bd3786"
             ],
             [
              0.5555555555555556,
              "#d8576b"
             ],
             [
              0.6666666666666666,
              "#ed7953"
             ],
             [
              0.7777777777777778,
              "#fb9f3a"
             ],
             [
              0.8888888888888888,
              "#fdca26"
             ],
             [
              1,
              "#f0f921"
             ]
            ],
            "type": "histogram2d"
           }
          ],
          "histogram2dcontour": [
           {
            "colorbar": {
             "outlinewidth": 0,
             "ticks": ""
            },
            "colorscale": [
             [
              0,
              "#0d0887"
             ],
             [
              0.1111111111111111,
              "#46039f"
             ],
             [
              0.2222222222222222,
              "#7201a8"
             ],
             [
              0.3333333333333333,
              "#9c179e"
             ],
             [
              0.4444444444444444,
              "#bd3786"
             ],
             [
              0.5555555555555556,
              "#d8576b"
             ],
             [
              0.6666666666666666,
              "#ed7953"
             ],
             [
              0.7777777777777778,
              "#fb9f3a"
             ],
             [
              0.8888888888888888,
              "#fdca26"
             ],
             [
              1,
              "#f0f921"
             ]
            ],
            "type": "histogram2dcontour"
           }
          ],
          "mesh3d": [
           {
            "colorbar": {
             "outlinewidth": 0,
             "ticks": ""
            },
            "type": "mesh3d"
           }
          ],
          "parcoords": [
           {
            "line": {
             "colorbar": {
              "outlinewidth": 0,
              "ticks": ""
             }
            },
            "type": "parcoords"
           }
          ],
          "pie": [
           {
            "automargin": true,
            "type": "pie"
           }
          ],
          "scatter": [
           {
            "fillpattern": {
             "fillmode": "overlay",
             "size": 10,
             "solidity": 0.2
            },
            "type": "scatter"
           }
          ],
          "scatter3d": [
           {
            "line": {
             "colorbar": {
              "outlinewidth": 0,
              "ticks": ""
             }
            },
            "marker": {
             "colorbar": {
              "outlinewidth": 0,
              "ticks": ""
             }
            },
            "type": "scatter3d"
           }
          ],
          "scattercarpet": [
           {
            "marker": {
             "colorbar": {
              "outlinewidth": 0,
              "ticks": ""
             }
            },
            "type": "scattercarpet"
           }
          ],
          "scattergeo": [
           {
            "marker": {
             "colorbar": {
              "outlinewidth": 0,
              "ticks": ""
             }
            },
            "type": "scattergeo"
           }
          ],
          "scattergl": [
           {
            "marker": {
             "colorbar": {
              "outlinewidth": 0,
              "ticks": ""
             }
            },
            "type": "scattergl"
           }
          ],
          "scattermapbox": [
           {
            "marker": {
             "colorbar": {
              "outlinewidth": 0,
              "ticks": ""
             }
            },
            "type": "scattermapbox"
           }
          ],
          "scatterpolar": [
           {
            "marker": {
             "colorbar": {
              "outlinewidth": 0,
              "ticks": ""
             }
            },
            "type": "scatterpolar"
           }
          ],
          "scatterpolargl": [
           {
            "marker": {
             "colorbar": {
              "outlinewidth": 0,
              "ticks": ""
             }
            },
            "type": "scatterpolargl"
           }
          ],
          "scatterternary": [
           {
            "marker": {
             "colorbar": {
              "outlinewidth": 0,
              "ticks": ""
             }
            },
            "type": "scatterternary"
           }
          ],
          "surface": [
           {
            "colorbar": {
             "outlinewidth": 0,
             "ticks": ""
            },
            "colorscale": [
             [
              0,
              "#0d0887"
             ],
             [
              0.1111111111111111,
              "#46039f"
             ],
             [
              0.2222222222222222,
              "#7201a8"
             ],
             [
              0.3333333333333333,
              "#9c179e"
             ],
             [
              0.4444444444444444,
              "#bd3786"
             ],
             [
              0.5555555555555556,
              "#d8576b"
             ],
             [
              0.6666666666666666,
              "#ed7953"
             ],
             [
              0.7777777777777778,
              "#fb9f3a"
             ],
             [
              0.8888888888888888,
              "#fdca26"
             ],
             [
              1,
              "#f0f921"
             ]
            ],
            "type": "surface"
           }
          ],
          "table": [
           {
            "cells": {
             "fill": {
              "color": "#EBF0F8"
             },
             "line": {
              "color": "white"
             }
            },
            "header": {
             "fill": {
              "color": "#C8D4E3"
             },
             "line": {
              "color": "white"
             }
            },
            "type": "table"
           }
          ]
         },
         "layout": {
          "annotationdefaults": {
           "arrowcolor": "#2a3f5f",
           "arrowhead": 0,
           "arrowwidth": 1
          },
          "autotypenumbers": "strict",
          "coloraxis": {
           "colorbar": {
            "outlinewidth": 0,
            "ticks": ""
           }
          },
          "colorscale": {
           "diverging": [
            [
             0,
             "#8e0152"
            ],
            [
             0.1,
             "#c51b7d"
            ],
            [
             0.2,
             "#de77ae"
            ],
            [
             0.3,
             "#f1b6da"
            ],
            [
             0.4,
             "#fde0ef"
            ],
            [
             0.5,
             "#f7f7f7"
            ],
            [
             0.6,
             "#e6f5d0"
            ],
            [
             0.7,
             "#b8e186"
            ],
            [
             0.8,
             "#7fbc41"
            ],
            [
             0.9,
             "#4d9221"
            ],
            [
             1,
             "#276419"
            ]
           ],
           "sequential": [
            [
             0,
             "#0d0887"
            ],
            [
             0.1111111111111111,
             "#46039f"
            ],
            [
             0.2222222222222222,
             "#7201a8"
            ],
            [
             0.3333333333333333,
             "#9c179e"
            ],
            [
             0.4444444444444444,
             "#bd3786"
            ],
            [
             0.5555555555555556,
             "#d8576b"
            ],
            [
             0.6666666666666666,
             "#ed7953"
            ],
            [
             0.7777777777777778,
             "#fb9f3a"
            ],
            [
             0.8888888888888888,
             "#fdca26"
            ],
            [
             1,
             "#f0f921"
            ]
           ],
           "sequentialminus": [
            [
             0,
             "#0d0887"
            ],
            [
             0.1111111111111111,
             "#46039f"
            ],
            [
             0.2222222222222222,
             "#7201a8"
            ],
            [
             0.3333333333333333,
             "#9c179e"
            ],
            [
             0.4444444444444444,
             "#bd3786"
            ],
            [
             0.5555555555555556,
             "#d8576b"
            ],
            [
             0.6666666666666666,
             "#ed7953"
            ],
            [
             0.7777777777777778,
             "#fb9f3a"
            ],
            [
             0.8888888888888888,
             "#fdca26"
            ],
            [
             1,
             "#f0f921"
            ]
           ]
          },
          "colorway": [
           "#636efa",
           "#EF553B",
           "#00cc96",
           "#ab63fa",
           "#FFA15A",
           "#19d3f3",
           "#FF6692",
           "#B6E880",
           "#FF97FF",
           "#FECB52"
          ],
          "font": {
           "color": "#2a3f5f"
          },
          "geo": {
           "bgcolor": "white",
           "lakecolor": "white",
           "landcolor": "#E5ECF6",
           "showlakes": true,
           "showland": true,
           "subunitcolor": "white"
          },
          "hoverlabel": {
           "align": "left"
          },
          "hovermode": "closest",
          "mapbox": {
           "style": "light"
          },
          "paper_bgcolor": "white",
          "plot_bgcolor": "#E5ECF6",
          "polar": {
           "angularaxis": {
            "gridcolor": "white",
            "linecolor": "white",
            "ticks": ""
           },
           "bgcolor": "#E5ECF6",
           "radialaxis": {
            "gridcolor": "white",
            "linecolor": "white",
            "ticks": ""
           }
          },
          "scene": {
           "xaxis": {
            "backgroundcolor": "#E5ECF6",
            "gridcolor": "white",
            "gridwidth": 2,
            "linecolor": "white",
            "showbackground": true,
            "ticks": "",
            "zerolinecolor": "white"
           },
           "yaxis": {
            "backgroundcolor": "#E5ECF6",
            "gridcolor": "white",
            "gridwidth": 2,
            "linecolor": "white",
            "showbackground": true,
            "ticks": "",
            "zerolinecolor": "white"
           },
           "zaxis": {
            "backgroundcolor": "#E5ECF6",
            "gridcolor": "white",
            "gridwidth": 2,
            "linecolor": "white",
            "showbackground": true,
            "ticks": "",
            "zerolinecolor": "white"
           }
          },
          "shapedefaults": {
           "line": {
            "color": "#2a3f5f"
           }
          },
          "ternary": {
           "aaxis": {
            "gridcolor": "white",
            "linecolor": "white",
            "ticks": ""
           },
           "baxis": {
            "gridcolor": "white",
            "linecolor": "white",
            "ticks": ""
           },
           "bgcolor": "#E5ECF6",
           "caxis": {
            "gridcolor": "white",
            "linecolor": "white",
            "ticks": ""
           }
          },
          "title": {
           "x": 0.05
          },
          "xaxis": {
           "automargin": true,
           "gridcolor": "white",
           "linecolor": "white",
           "ticks": "",
           "title": {
            "standoff": 15
           },
           "zerolinecolor": "white",
           "zerolinewidth": 2
          },
          "yaxis": {
           "automargin": true,
           "gridcolor": "white",
           "linecolor": "white",
           "ticks": "",
           "title": {
            "standoff": 15
           },
           "zerolinecolor": "white",
           "zerolinewidth": 2
          }
         }
        },
        "title": {
         "text": "Execution Time for Intersection in Different Contexts & Sizes"
        },
        "xaxis": {
         "anchor": "y",
         "domain": [
          0,
          0.125
         ],
         "title": {
          "text": "Context"
         }
        },
        "xaxis2": {
         "anchor": "y2",
         "domain": [
          0.175,
          0.3
         ],
         "matches": "x",
         "title": {
          "text": "Context"
         }
        },
        "xaxis3": {
         "anchor": "y3",
         "domain": [
          0.35,
          0.475
         ],
         "matches": "x",
         "title": {
          "text": "Context"
         }
        },
        "xaxis4": {
         "anchor": "y4",
         "domain": [
          0.525,
          0.65
         ],
         "matches": "x",
         "title": {
          "text": "Context"
         }
        },
        "xaxis5": {
         "anchor": "y5",
         "domain": [
          0.7,
          0.825
         ],
         "matches": "x",
         "title": {
          "text": "Context"
         }
        },
        "xaxis6": {
         "anchor": "y6",
         "domain": [
          0.875,
          1
         ],
         "matches": "x",
         "title": {
          "text": "Context"
         }
        },
        "yaxis": {
         "anchor": "x",
         "domain": [
          0,
          1
         ],
         "showticklabels": true,
         "title": {
          "text": "total_time"
         },
         "type": "log"
        },
        "yaxis2": {
         "anchor": "x2",
         "domain": [
          0,
          1
         ],
         "showticklabels": true,
         "type": "log"
        },
        "yaxis3": {
         "anchor": "x3",
         "domain": [
          0,
          1
         ],
         "showticklabels": true,
         "type": "log"
        },
        "yaxis4": {
         "anchor": "x4",
         "domain": [
          0,
          1
         ],
         "showticklabels": true,
         "type": "log"
        },
        "yaxis5": {
         "anchor": "x5",
         "domain": [
          0,
          1
         ],
         "showticklabels": true,
         "type": "log"
        },
        "yaxis6": {
         "anchor": "x6",
         "domain": [
          0,
          1
         ],
         "showticklabels": true,
         "type": "log"
        }
       }
      }
     },
     "metadata": {},
     "output_type": "display_data"
    },
    {
     "data": {
      "application/vnd.plotly.v1+json": {
       "config": {
        "plotlyServerURL": "https://plot.ly"
       },
       "data": [
        {
         "alignmentgroup": "True",
         "bingroup": "x",
         "histfunc": "avg",
         "hovertemplate": "Baseline=True<br>Sizes=Small<br>Context=%{x}<br>avg of total_time=%{y}<extra></extra>",
         "legendgroup": "True",
         "marker": {
          "color": "#636efa",
          "pattern": {
           "shape": ""
          }
         },
         "name": "True",
         "offsetgroup": "True",
         "orientation": "v",
         "showlegend": true,
         "type": "histogram",
         "x": [
          "Bbox Overlap (FALSE)",
          "Bbox Partial Overlap (TRUE)",
          "Bbox Inside Other (TRUE)",
          "Bbox Overlap (FALSE)",
          "Bbox Partial Overlap (TRUE)",
          "Bbox Partial Overlap (TRUE)",
          "Bbox Partial Overlap (TRUE)",
          "Bbox Partial Overlap (TRUE)",
          "Bbox Partial Overlap (TRUE)",
          "Bbox Partial Overlap (TRUE)",
          "Bbox Partial Overlap (TRUE)",
          "Bbox Overlap (FALSE)",
          "Bbox Overlap (FALSE)",
          "Bbox Partial Overlap (TRUE)",
          "Bbox Partial Overlap (TRUE)",
          "Bbox Inside Other (TRUE)",
          "Bbox Inside Other (TRUE)",
          "Bbox Partial Overlap (TRUE)",
          "Bbox Partial Overlap (TRUE)",
          "Bbox Partial Overlap (TRUE)",
          "Bbox Partial Overlap (TRUE)",
          "Bbox Partial Overlap (TRUE)",
          "Bbox Partial Overlap (TRUE)",
          "Bbox Overlap (FALSE)",
          "Bbox Overlap (FALSE)",
          "Bbox Overlap (FALSE)",
          "Bbox Inside Other (TRUE)",
          "Bbox Partial Overlap (TRUE)",
          "Bbox Overlap (FALSE)",
          "Bbox Overlap (FALSE)",
          "Bbox Overlap (FALSE)",
          "Bbox Overlap (FALSE)",
          "Bbox Overlap (FALSE)",
          "Bbox Overlap (FALSE)",
          "Bbox Overlap (FALSE)",
          "Bbox Overlap (FALSE)",
          "Bbox Overlap (FALSE)",
          "Bbox Overlap (FALSE)",
          "Bbox Overlap (FALSE)",
          "Bbox Overlap (FALSE)",
          "Bbox Overlap (FALSE)",
          "Bbox Overlap (FALSE)",
          "Bbox Overlap (FALSE)",
          "Bbox Overlap (FALSE)",
          "Bbox Overlap (FALSE)",
          "Bbox Overlap (FALSE)",
          "Bbox Overlap (FALSE)",
          "Bbox Overlap (FALSE)",
          "Bbox Overlap (FALSE)",
          "Bbox Overlap (FALSE)",
          "Bbox Overlap (FALSE)",
          "Bbox Overlap (FALSE)",
          "Bbox Overlap (FALSE)",
          "Bbox Overlap (FALSE)",
          "Bbox Overlap (FALSE)",
          "Bbox Overlap (FALSE)",
          "Bbox Overlap (FALSE)",
          "Bbox Overlap (FALSE)",
          "Bbox Overlap (FALSE)",
          "Bbox Overlap (FALSE)",
          "Bbox Overlap (FALSE)",
          "Bbox Overlap (FALSE)",
          "Bbox Overlap (FALSE)",
          "Bbox Overlap (FALSE)",
          "Bbox Overlap (FALSE)",
          "Bbox Overlap (FALSE)",
          "Bbox Overlap (FALSE)",
          "Bbox Overlap (FALSE)",
          "Bbox Overlap (FALSE)",
          "Bbox Overlap (FALSE)",
          "Bbox Overlap (FALSE)",
          "Bbox Overlap (FALSE)",
          "Bbox Overlap (FALSE)",
          "Bbox Overlap (FALSE)",
          "Bbox Overlap (FALSE)",
          "Bbox Overlap (FALSE)",
          "Bbox Overlap (FALSE)",
          "Bbox Overlap (FALSE)",
          "Bbox Overlap (FALSE)",
          "Bbox Overlap (FALSE)",
          "Bbox Overlap (FALSE)",
          "Bbox Overlap (FALSE)",
          "Bbox Overlap (FALSE)",
          "Bbox Overlap (FALSE)",
          "Bbox Overlap (FALSE)",
          "Bbox Overlap (FALSE)",
          "Bbox Overlap (FALSE)",
          "Bbox Overlap (FALSE)",
          "Bbox Overlap (FALSE)",
          "Bbox Overlap (FALSE)",
          "Bbox Overlap (FALSE)",
          "Bbox Overlap (FALSE)",
          "Bbox Overlap (FALSE)",
          "Bbox Overlap (FALSE)",
          "Bbox Partial Overlap (TRUE)",
          "Bbox Overlap (FALSE)",
          "Bbox Overlap (FALSE)",
          "Bbox Overlap (FALSE)",
          "Bbox Overlap (FALSE)",
          "Bbox Overlap (FALSE)",
          "Bbox Overlap (FALSE)",
          "Bbox Overlap (FALSE)",
          "Bbox Overlap (FALSE)",
          "Bbox Overlap (FALSE)",
          "Bbox Overlap (FALSE)",
          "Bbox Overlap (FALSE)",
          "Bbox Overlap (FALSE)",
          "Bbox Overlap (FALSE)",
          "Bbox Overlap (FALSE)",
          "Bbox Overlap (FALSE)",
          "Bbox Overlap (FALSE)",
          "Bbox Overlap (FALSE)",
          "Bbox Overlap (FALSE)",
          "Bbox Overlap (FALSE)",
          "Bbox Partial Overlap (TRUE)",
          "Bbox Partial Overlap (TRUE)",
          "Bbox Partial Overlap (TRUE)",
          "Bbox Partial Overlap (TRUE)",
          "Bbox Partial Overlap (TRUE)",
          "Bbox Partial Overlap (TRUE)",
          "Bbox Partial Overlap (TRUE)",
          "Bbox Partial Overlap (TRUE)",
          "Bbox Overlap (FALSE)",
          "Bbox Partial Overlap (TRUE)",
          "Bbox Partial Overlap (TRUE)",
          "Bbox Partial Overlap (TRUE)",
          "Bbox Overlap (FALSE)",
          "Bbox Overlap (FALSE)",
          "Bbox Partial Overlap (TRUE)",
          "Bbox Partial Overlap (TRUE)",
          "Bbox Overlap (FALSE)",
          "Bbox Partial Overlap (TRUE)",
          "Bbox Partial Overlap (TRUE)",
          "Bbox Partial Overlap (TRUE)",
          "Bbox Overlap (FALSE)",
          "Bbox Overlap (FALSE)",
          "Bbox Overlap (FALSE)",
          "Bbox Partial Overlap (TRUE)",
          "Bbox Partial Overlap (TRUE)",
          "Bbox Partial Overlap (TRUE)",
          "Bbox Partial Overlap (TRUE)",
          "Bbox Partial Overlap (TRUE)",
          "Bbox Partial Overlap (TRUE)",
          "Bbox Overlap (FALSE)",
          "Bbox Overlap (FALSE)",
          "Bbox Overlap (FALSE)",
          "Bbox Overlap (FALSE)",
          "Bbox Overlap (FALSE)",
          "Bbox Overlap (FALSE)",
          "Bbox Partial Overlap (TRUE)",
          "Bbox Partial Overlap (TRUE)",
          "Bbox Overlap (FALSE)",
          "Bbox Partial Overlap (TRUE)",
          "Bbox Partial Overlap (TRUE)",
          "Bbox Partial Overlap (TRUE)",
          "Bbox Partial Overlap (TRUE)",
          "Bbox Overlap (FALSE)",
          "Bbox Partial Overlap (TRUE)",
          "Bbox Partial Overlap (TRUE)",
          "Bbox Partial Overlap (TRUE)",
          "Bbox Partial Overlap (TRUE)",
          "Bbox Partial Overlap (TRUE)",
          "Bbox Partial Overlap (TRUE)",
          "Bbox Partial Overlap (TRUE)",
          "Bbox Partial Overlap (TRUE)",
          "Bbox Partial Overlap (TRUE)",
          "Bbox Partial Overlap (TRUE)",
          "Bbox Partial Overlap (TRUE)",
          "Bbox Partial Overlap (TRUE)",
          "Bbox Partial Overlap (TRUE)",
          "Bbox Partial Overlap (TRUE)",
          "Bbox Partial Overlap (TRUE)",
          "Bbox Partial Overlap (TRUE)",
          "Bbox Partial Overlap (TRUE)",
          "Bbox Partial Overlap (TRUE)",
          "Bbox Partial Overlap (TRUE)",
          "Bbox Partial Overlap (TRUE)",
          "Bbox Partial Overlap (TRUE)",
          "Bbox Partial Overlap (TRUE)",
          "Bbox Partial Overlap (TRUE)",
          "Bbox Overlap (FALSE)",
          "Bbox Overlap (FALSE)",
          "Bbox Partial Overlap (TRUE)",
          "Bbox Overlap (FALSE)",
          "Bbox Partial Overlap (TRUE)",
          "Bbox Overlap (FALSE)",
          "Bbox Partial Overlap (TRUE)",
          "Bbox Partial Overlap (TRUE)",
          "Bbox Partial Overlap (TRUE)",
          "Bbox Partial Overlap (TRUE)",
          "Bbox Partial Overlap (TRUE)",
          "Bbox Partial Overlap (TRUE)",
          "Bbox Overlap (FALSE)",
          "Bbox Partial Overlap (TRUE)",
          "Bbox Partial Overlap (TRUE)",
          "Bbox Partial Overlap (TRUE)",
          "Bbox Partial Overlap (TRUE)",
          "Bbox Partial Overlap (TRUE)",
          "Bbox Partial Overlap (TRUE)",
          "Bbox Partial Overlap (TRUE)",
          "Bbox Overlap (FALSE)",
          "Bbox Partial Overlap (TRUE)",
          "Bbox Partial Overlap (TRUE)",
          "Bbox Partial Overlap (TRUE)",
          "Bbox Overlap (FALSE)",
          "Bbox Overlap (FALSE)",
          "Bbox Overlap (FALSE)",
          "Bbox Overlap (FALSE)",
          "Bbox Partial Overlap (TRUE)",
          "Bbox Partial Overlap (TRUE)",
          "Bbox Partial Overlap (TRUE)",
          "Bbox Partial Overlap (TRUE)",
          "Bbox Partial Overlap (TRUE)",
          "Bbox Partial Overlap (TRUE)",
          "Bbox Partial Overlap (TRUE)",
          "Bbox Partial Overlap (TRUE)",
          "Bbox Partial Overlap (TRUE)",
          "Bbox Partial Overlap (TRUE)",
          "Bbox Partial Overlap (TRUE)",
          "Bbox Overlap (FALSE)",
          "Bbox Partial Overlap (TRUE)",
          "Bbox Partial Overlap (TRUE)",
          "Bbox Overlap (FALSE)",
          "Bbox Overlap (FALSE)",
          "Bbox Overlap (FALSE)",
          "Bbox Partial Overlap (TRUE)",
          "Bbox Overlap (FALSE)",
          "Bbox Overlap (FALSE)",
          "Bbox Overlap (FALSE)",
          "Bbox Partial Overlap (TRUE)",
          "Bbox Overlap (FALSE)",
          "Bbox Overlap (FALSE)",
          "Bbox Partial Overlap (TRUE)",
          "Bbox Partial Overlap (TRUE)",
          "Bbox Overlap (FALSE)",
          "Bbox Partial Overlap (TRUE)",
          "Bbox Partial Overlap (TRUE)",
          "Bbox Overlap (FALSE)",
          "Bbox Partial Overlap (TRUE)",
          "Bbox Partial Overlap (TRUE)",
          "Bbox Partial Overlap (TRUE)",
          "Bbox Partial Overlap (TRUE)",
          "Bbox Overlap (FALSE)",
          "Bbox Partial Overlap (TRUE)",
          "Bbox Partial Overlap (TRUE)",
          "Bbox Overlap (FALSE)",
          "Bbox Overlap (FALSE)",
          "Bbox Overlap (FALSE)",
          "Bbox Partial Overlap (TRUE)",
          "Bbox Overlap (FALSE)",
          "Bbox Partial Overlap (TRUE)",
          "Bbox Partial Overlap (TRUE)",
          "Bbox Partial Overlap (TRUE)",
          "Bbox Partial Overlap (TRUE)",
          "Bbox Partial Overlap (TRUE)",
          "Bbox Partial Overlap (TRUE)",
          "Bbox Partial Overlap (TRUE)",
          "Bbox Partial Overlap (TRUE)",
          "Bbox Overlap (FALSE)",
          "Bbox Overlap (FALSE)",
          "Bbox Partial Overlap (TRUE)",
          "Bbox Partial Overlap (TRUE)",
          "Bbox Partial Overlap (TRUE)",
          "Bbox Partial Overlap (TRUE)",
          "Bbox Partial Overlap (TRUE)",
          "Bbox Partial Overlap (TRUE)",
          "Bbox Partial Overlap (TRUE)",
          "Bbox Partial Overlap (TRUE)",
          "Bbox Partial Overlap (TRUE)",
          "Bbox Partial Overlap (TRUE)",
          "Bbox Partial Overlap (TRUE)",
          "Bbox Partial Overlap (TRUE)",
          "Bbox Partial Overlap (TRUE)",
          "Bbox Partial Overlap (TRUE)",
          "Bbox Overlap (FALSE)",
          "Bbox Overlap (FALSE)",
          "Bbox Partial Overlap (TRUE)",
          "Bbox Partial Overlap (TRUE)",
          "Bbox Overlap (FALSE)",
          "Bbox Partial Overlap (TRUE)",
          "Bbox Partial Overlap (TRUE)",
          "Bbox Overlap (FALSE)",
          "Bbox Partial Overlap (TRUE)",
          "Bbox Partial Overlap (TRUE)",
          "Bbox Partial Overlap (TRUE)",
          "Bbox Partial Overlap (TRUE)",
          "Bbox Partial Overlap (TRUE)",
          "Bbox Partial Overlap (TRUE)",
          "Bbox Overlap (FALSE)",
          "Bbox Partial Overlap (TRUE)",
          "Bbox Partial Overlap (TRUE)",
          "Bbox Partial Overlap (TRUE)",
          "Bbox Partial Overlap (TRUE)",
          "Bbox Partial Overlap (TRUE)",
          "Bbox Partial Overlap (TRUE)",
          "Bbox Partial Overlap (TRUE)",
          "Bbox Partial Overlap (TRUE)",
          "Bbox Partial Overlap (TRUE)",
          "Bbox Partial Overlap (TRUE)",
          "Bbox Partial Overlap (TRUE)",
          "Bbox Partial Overlap (TRUE)",
          "Bbox Partial Overlap (TRUE)",
          "Bbox Partial Overlap (TRUE)",
          "Bbox Partial Overlap (TRUE)",
          "Bbox Partial Overlap (TRUE)",
          "Bbox Partial Overlap (TRUE)",
          "Bbox Partial Overlap (TRUE)",
          "Bbox Partial Overlap (TRUE)",
          "Bbox Partial Overlap (TRUE)",
          "Bbox Partial Overlap (TRUE)",
          "Bbox Partial Overlap (TRUE)",
          "Bbox Partial Overlap (TRUE)",
          "Bbox Partial Overlap (TRUE)",
          "Bbox Partial Overlap (TRUE)",
          "Bbox Partial Overlap (TRUE)",
          "Bbox Partial Overlap (TRUE)",
          "Bbox Partial Overlap (TRUE)",
          "Bbox Partial Overlap (TRUE)",
          "Bbox Partial Overlap (TRUE)",
          "Bbox Partial Overlap (TRUE)",
          "Bbox Partial Overlap (TRUE)",
          "Bbox Partial Overlap (TRUE)",
          "Bbox Partial Overlap (TRUE)",
          "Bbox Partial Overlap (TRUE)",
          "Bbox Partial Overlap (TRUE)",
          "Bbox Partial Overlap (TRUE)",
          "Bbox Partial Overlap (TRUE)",
          "Bbox Overlap (FALSE)",
          "Bbox Partial Overlap (TRUE)",
          "Bbox Partial Overlap (TRUE)",
          "Bbox Partial Overlap (TRUE)",
          "Bbox Partial Overlap (TRUE)",
          "Bbox Partial Overlap (TRUE)",
          "Bbox Overlap (FALSE)",
          "Bbox Overlap (FALSE)",
          "Bbox Partial Overlap (TRUE)",
          "Bbox Overlap (FALSE)",
          "Bbox Overlap (FALSE)",
          "Bbox Partial Overlap (TRUE)",
          "Bbox Partial Overlap (TRUE)"
         ],
         "xaxis": "x",
         "y": [
          0.0004963139945175499,
          0.0018291559972567484,
          0.000768031008192338,
          0.00013566898996941745,
          0.0017342770006507635,
          0.0016853059933055192,
          0.0015394140064017847,
          0.004609554001945071,
          0.004171599997789599,
          0.005553372990107164,
          0.005273179995128885,
          0.0004104249965166673,
          0.00040291099867317826,
          0.0019204459968023002,
          0.0016435579891549423,
          0.0006514940032502636,
          0.0009872340015135705,
          0.00041213400254491717,
          0.0004026440001325682,
          0.0038642459985567257,
          0.004396723001264036,
          0.007495892001315951,
          0.007076591995428316,
          0.0004194310022285208,
          0.0006458169955294579,
          0.0003811710048466921,
          0.00042574100370984524,
          0.00035081700480077416,
          0.0002614539989735931,
          0.00020186899928376079,
          0.00019327699556015432,
          0.00019354400865267962,
          0.0001947150012711063,
          0.00019616801000665873,
          0.0001966119889402762,
          0.0001982950052479282,
          0.00024700000358279794,
          0.00019711200729943812,
          0.0003114449937129393,
          0.00019849000091198832,
          0.00024021000717766583,
          0.0002147069899365306,
          0.0002342569932807237,
          0.0002502959978301078,
          0.00022006699873600155,
          0.00022384799376595765,
          0.00022661600087303668,
          0.00022577898926101625,
          0.00022459699539467692,
          0.00027860399859491736,
          0.00022747299226466566,
          0.00025108100089710206,
          0.00039616999856662005,
          0.00024336199567187577,
          0.00023728499945718795,
          0.0002284460060764104,
          0.0002279550099046901,
          0.0003009490028489381,
          0.0002275139995617792,
          0.000225986004807055,
          0.00023561299894936383,
          0.0002562260051490739,
          0.00024449800548609346,
          0.000397848998545669,
          0.00032387199462391436,
          0.00026809400878846645,
          0.000234974009799771,
          0.0003521920007187873,
          0.00029850099235773087,
          0.00039570999797433615,
          0.0004557229985948652,
          0.0002322710060980171,
          0.00030325700936373323,
          0.00022892501146998256,
          0.0002556529943831265,
          0.00023887300631031394,
          0.0003902400057995692,
          0.00023835600586608052,
          0.00026148500910494477,
          0.00040313199860975146,
          0.00028264800494071096,
          0.0002556389954406768,
          0.00027409300673753023,
          0.0002934789954451844,
          0.00022838999575469643,
          0.00026210899522993714,
          0.00024086498888209462,
          0.0002159830037271604,
          0.0002444319979986176,
          0.00023983999562915415,
          0.0005124360031913966,
          0.0002241710026282817,
          0.00022029101091902703,
          0.00040605899994261563,
          0.0006736790091963485,
          0.0003323900018585846,
          0.0002482859999872744,
          0.0003390219935681671,
          0.00033158899168483913,
          0.00025979299971368164,
          0.00032520099193789065,
          0.00025015100254677236,
          0.00022653699852526188,
          0.00022622299729846418,
          0.00022643299598712474,
          0.0002588619972812012,
          0.00023812399012967944,
          0.00026465600240044296,
          0.00021268001000862569,
          0.00021463699522428215,
          0.00021651899442076683,
          0.00022198099759407341,
          0.00039474999357480556,
          0.0005392499879235402,
          0.00061486400954891,
          0.0006135349976830184,
          0.00043188899871893227,
          0.0004293490055715665,
          0.00043552300485316664,
          0.00042198300070594996,
          0.0008741799974814057,
          0.0006908770010340959,
          0.0003326500009279698,
          0.0014712889969814569,
          0.001311804007855244,
          0.0013417709997156635,
          0.00034143400262109935,
          0.0006049940129742026,
          0.0005005459970561787,
          0.0004251380014466122,
          0.00033392501063644886,
          0.0007071220024954528,
          0.0006334049976430833,
          0.0008504479919793084,
          0.0006110289978096262,
          0.0009545069915475324,
          0.0005129149940330535,
          0.0009979059977922589,
          0.0009540109895169735,
          0.0005915969959460199,
          0.0005108890036353841,
          0.0005191320087760687,
          0.0008230730018112808,
          0.0003118640015600249,
          0.0003085000062128529,
          0.0003631309955380857,
          0.00041485698602627963,
          0.00041526800487190485,
          0.00044460000935941935,
          0.000859642997966148,
          0.001298004004638642,
          0.0004316199920140207,
          0.0006871290097478777,
          0.0011107290047220886,
          0.001111751000280492,
          0.0012101089960196987,
          0.0003422739973757416,
          0.000585961010074243,
          0.0004957539931638166,
          0.0007574769988423213,
          0.0004846330120926723,
          0.0005020000098738819,
          0.0008848069992382079,
          0.0017999569972744212,
          0.0006261290109250695,
          0.0005078840040368959,
          0.0005035409994889051,
          0.001037574009387754,
          0.00041246600449085236,
          0.0005420600064098835,
          0.00045929799671284854,
          0.0007789289957145229,
          0.0005691499973181635,
          0.0005856309871887788,
          0.000617928002611734,
          0.0005249709938652813,
          0.0010107779962709174,
          0.0007137479988159612,
          0.0004986429994460195,
          0.0005570950015680864,
          0.00026892700407188386,
          0.0002770139981294051,
          0.0004282279987819493,
          0.00020196998957544565,
          0.00042931501229759306,
          0.0004436250019352883,
          0.0006554040010087192,
          0.0008905690046958625,
          0.0010896589956246316,
          0.0008054870122577995,
          0.0010159550001844764,
          0.0006302760011749342,
          0.00030575800337828696,
          0.0009622780053177848,
          0.0007536189950769767,
          0.00040865900518838316,
          0.0005500249972101301,
          0.0005614830006379634,
          0.0005094100051792338,
          0.0007103440002538264,
          0.0006811719940742478,
          0.0010456339950906113,
          0.0007839190075173974,
          0.0007915360038168728,
          0.0003331659972900525,
          0.00033098700805567205,
          0.0003938430018024519,
          0.0005799409991595894,
          0.0004971769958501682,
          0.0005920709954807535,
          0.0006958390004001558,
          0.000532378995558247,
          0.0004504490061663091,
          0.00044859400077257305,
          0.0008841820090310648,
          0.0005580369906965643,
          0.0008443850092589855,
          0.0008404459949815646,
          0.0013176309876143932,
          0.00027194200083613396,
          0.0010264719894621521,
          0.000573390003410168,
          0.0003631710133049637,
          0.0003641240036813542,
          0.000396557996282354,
          0.000570267002331093,
          0.0002334040036657825,
          0.00023613200755789876,
          0.0004164260026300326,
          0.0008490059990435839,
          0.0003083120100200176,
          0.00046262699470389634,
          0.0008943319990066811,
          0.0008836369961500168,
          0.00031507600215263665,
          0.0007292859954759479,
          0.0008263359923148528,
          0.0004265180032234639,
          0.0009288180008297786,
          0.0004971010057488456,
          0.0007285180035978556,
          0.0005701319896616042,
          0.0006693749892292544,
          0.0005271679983707145,
          0.00046464700426440686,
          0.0004131330060772598,
          0.0004120700032217428,
          0.0005495200020959601,
          0.0006748510058969259,
          0.0003860989963868633,
          0.001546955987578258,
          0.0017627140041440725,
          0.0017739659961080179,
          0.0021551090030698106,
          0.0023786500096321106,
          0.0008559770067222416,
          0.001307116006501019,
          0.0008385949913645163,
          0.00040649100265000015,
          0.0003530370013322681,
          0.0008985380118247122,
          0.0017442670068703592,
          0.0009884989995043725,
          0.0007355529960477725,
          0.000576867998461239,
          0.0006048619979992509,
          0.0007599800010211766,
          0.0009515759884379804,
          0.0009400739945704117,
          0.0006942570034880191,
          0.00060982299328316,
          0.000601558989728801,
          0.0004175760113867,
          0.0004097540077054873,
          0.00021632399875670671,
          0.0001995759957935661,
          0.0004108790017198771,
          0.0004304210015106946,
          0.0003487790090730414,
          0.00042854799539782107,
          0.000447804995928891,
          0.00030744599644094706,
          0.0004945459950249642,
          0.000527222000528127,
          0.0005281460034893826,
          0.0006429070053854957,
          0.0006285350100370124,
          0.00042466500599402934,
          0.0002133289963239804,
          0.0007234850054373965,
          0.0007193649944383651,
          0.0009843720035860315,
          0.0013773160026175901,
          0.0005499199905898422,
          0.0005468500021379441,
          0.00044479299685917795,
          0.0004561500099953264,
          0.00047645300219301134,
          0.0004742370074382052,
          0.0005761680076830089,
          0.0008398270001634955,
          0.00040121498750522733,
          0.000614531003520824,
          0.0006687499990221113,
          0.0006244329997571185,
          0.0013276190002216026,
          0.0007675789966015145,
          0.0007549279980594292,
          0.0013002199993934482,
          0.000864724992425181,
          0.0008577670087106526,
          0.0008571630023652688,
          0.000999973010038957,
          0.0008966150053311139,
          0.0008029720047488809,
          0.0008166640036506578,
          0.0010106789995916188,
          0.0007906300015747547,
          0.0007494259916711599,
          0.0008996689866762608,
          0.0006354520010063425,
          0.0006372619973262772,
          0.000956442003371194,
          0.0009486600029049441,
          0.0008182320016203448,
          0.0009938450093613937,
          0.0007958119967952371,
          0.0005917639937251806,
          0.0010027569951489568,
          0.00036041899875272065,
          0.0004461490025278181,
          0.0006275499908952042,
          0.0007536529883509502,
          0.00030306499684229493,
          0.0003129659889964387,
          0.0004417229938553646,
          0.0002599260042188689,
          0.00025254600041080266,
          0.0002801380032906309,
          0.00029078099760226905
         ],
         "yaxis": "y"
        },
        {
         "alignmentgroup": "True",
         "bingroup": "x",
         "histfunc": "avg",
         "hovertemplate": "Baseline=True<br>Sizes=Small Medium Mixed<br>Context=%{x}<br>avg of total_time=%{y}<extra></extra>",
         "legendgroup": "True",
         "marker": {
          "color": "#636efa",
          "pattern": {
           "shape": ""
          }
         },
         "name": "True",
         "offsetgroup": "True",
         "orientation": "v",
         "showlegend": false,
         "type": "histogram",
         "x": [
          "Bbox Partial Overlap (TRUE)",
          "Bbox Partial Overlap (TRUE)",
          "Bbox Partial Overlap (TRUE)",
          "Bbox Partial Overlap (TRUE)",
          "Bbox Overlap (FALSE)",
          "Bbox Overlap (FALSE)",
          "Bbox Overlap (FALSE)",
          "Bbox Overlap (FALSE)",
          "Bbox Partial Overlap (TRUE)",
          "Bbox Overlap (FALSE)",
          "Bbox Overlap (FALSE)",
          "Bbox Overlap (FALSE)",
          "Bbox Overlap (FALSE)",
          "Bbox Overlap (FALSE)",
          "Bbox Overlap (FALSE)",
          "Bbox Overlap (FALSE)",
          "Bbox Overlap (FALSE)",
          "Bbox Partial Overlap (TRUE)",
          "Bbox Partial Overlap (TRUE)",
          "Bbox Partial Overlap (TRUE)",
          "Bbox Overlap (FALSE)",
          "Bbox Inside Other (TRUE)",
          "Bbox Overlap (FALSE)",
          "Bbox Partial Overlap (TRUE)",
          "Bbox Partial Overlap (TRUE)",
          "Bbox Inside Other (TRUE)",
          "Bbox Overlap (FALSE)",
          "Bbox Partial Overlap (TRUE)",
          "Bbox Partial Overlap (TRUE)",
          "Bbox Partial Overlap (TRUE)",
          "Bbox Overlap (FALSE)",
          "Bbox Partial Overlap (TRUE)",
          "Bbox Overlap (FALSE)",
          "Bbox Partial Overlap (TRUE)",
          "Bbox Partial Overlap (TRUE)",
          "Bbox Partial Overlap (TRUE)",
          "Bbox Partial Overlap (TRUE)",
          "Bbox Partial Overlap (TRUE)",
          "Bbox Partial Overlap (TRUE)",
          "Bbox Partial Overlap (TRUE)",
          "Bbox Partial Overlap (TRUE)",
          "Bbox Partial Overlap (TRUE)",
          "Bbox Partial Overlap (TRUE)",
          "Bbox Partial Overlap (TRUE)",
          "Bbox Partial Overlap (TRUE)",
          "Bbox Partial Overlap (TRUE)",
          "Bbox Partial Overlap (TRUE)",
          "Bbox Partial Overlap (TRUE)",
          "Bbox Partial Overlap (TRUE)",
          "Bbox Partial Overlap (TRUE)",
          "Bbox Overlap (FALSE)",
          "Bbox Overlap (FALSE)",
          "Bbox Overlap (FALSE)",
          "Bbox Overlap (FALSE)",
          "Bbox Partial Overlap (TRUE)",
          "Bbox Partial Overlap (TRUE)",
          "Bbox Partial Overlap (TRUE)",
          "Bbox Partial Overlap (TRUE)",
          "Bbox Partial Overlap (TRUE)",
          "Bbox Partial Overlap (TRUE)",
          "Bbox Partial Overlap (TRUE)",
          "Bbox Partial Overlap (TRUE)",
          "Bbox Overlap (FALSE)",
          "Bbox Partial Overlap (TRUE)",
          "Bbox Partial Overlap (TRUE)",
          "Bbox Partial Overlap (TRUE)",
          "Bbox Partial Overlap (TRUE)",
          "Bbox Partial Overlap (TRUE)",
          "Bbox Partial Overlap (TRUE)",
          "Bbox Overlap (FALSE)",
          "Bbox Partial Overlap (TRUE)",
          "Bbox Partial Overlap (TRUE)",
          "Bbox Partial Overlap (TRUE)",
          "Bbox Partial Overlap (TRUE)",
          "Bbox Partial Overlap (TRUE)",
          "Bbox Overlap (FALSE)",
          "Bbox Overlap (FALSE)",
          "Bbox Overlap (FALSE)",
          "Bbox Partial Overlap (TRUE)",
          "Bbox Overlap (FALSE)",
          "Bbox Overlap (FALSE)",
          "Bbox Overlap (FALSE)",
          "Bbox Overlap (FALSE)",
          "Bbox Overlap (FALSE)",
          "Bbox Overlap (FALSE)",
          "Bbox Overlap (FALSE)",
          "Bbox Partial Overlap (TRUE)",
          "Bbox Partial Overlap (TRUE)",
          "Bbox Overlap (FALSE)",
          "Bbox Partial Overlap (TRUE)",
          "Bbox Partial Overlap (TRUE)",
          "Bbox Partial Overlap (TRUE)",
          "Bbox Partial Overlap (TRUE)",
          "Bbox Partial Overlap (TRUE)",
          "Bbox Partial Overlap (TRUE)",
          "Bbox Partial Overlap (TRUE)",
          "Bbox Partial Overlap (TRUE)",
          "Bbox Overlap (FALSE)",
          "Bbox Overlap (FALSE)",
          "Bbox Overlap (FALSE)",
          "Bbox Overlap (FALSE)",
          "Bbox Partial Overlap (TRUE)",
          "Bbox Overlap (FALSE)",
          "Bbox Overlap (FALSE)",
          "Bbox Overlap (FALSE)",
          "Bbox Overlap (FALSE)",
          "Bbox Overlap (FALSE)",
          "Bbox Overlap (FALSE)",
          "Bbox Overlap (FALSE)",
          "Bbox Partial Overlap (TRUE)",
          "Bbox Partial Overlap (TRUE)",
          "Bbox Overlap (FALSE)",
          "Bbox Partial Overlap (TRUE)"
         ],
         "xaxis": "x2",
         "y": [
          0.0026536790101090446,
          0.002271636010846123,
          0.0009615190065233037,
          0.0017876979982247576,
          0.00041213199438061565,
          0.0006894990074215457,
          0.0005306469975039363,
          0.0011378710041753948,
          0.0007838859892217442,
          0.0004685949970735237,
          0.00042938200931530446,
          0.0004092190065421164,
          0.0004322519962443039,
          0.0008685039938427508,
          0.0006380780105246231,
          0.0005340009956853464,
          0.00045397799112834036,
          0.0008192889945348725,
          0.0009129130048677325,
          0.0009018239943543449,
          0.0007359669980360195,
          0.0008189970103558153,
          0.00043194899626541883,
          0.001086509000742808,
          0.000895215998752974,
          0.0008593139937147498,
          0.0006664139946224168,
          0.0009198899933835492,
          0.0012413900112733245,
          0.001103984992369078,
          0.0008612969977548346,
          0.0009722219983814284,
          0.0008350459975190461,
          0.0009661819931352511,
          0.0011099980038125068,
          0.0007648980099475011,
          0.0011064140126109123,
          0.0009400459966855124,
          0.0008036709914449602,
          0.0008662159962113947,
          0.0009330460015917197,
          0.0013193690101616085,
          0.002414731992757879,
          0.002183131000492722,
          0.0015251779987011105,
          0.0025445280043641105,
          0.0012992670090170577,
          0.0011785770038841292,
          0.0013507529947673902,
          0.001425380993168801,
          0.0005084369913674891,
          0.0006519660091726109,
          0.0006998199969530106,
          0.0006453710084315389,
          0.001397396990796551,
          0.0008234260021708906,
          0.0008634950063424185,
          0.0009334279893664643,
          0.0008633959951112047,
          0.0008400399965466931,
          0.001038444010191597,
          0.00103032001061365,
          0.0008789389976300299,
          0.0010582910035736859,
          0.0008229270024457946,
          0.0008046349976211786,
          0.0008152640075422823,
          0.0008987010078271851,
          0.0007190009928308427,
          0.0007763540052110329,
          0.0008383270032936707,
          0.0009878429991658777,
          0.000977904986939393,
          0.0007849239918868989,
          0.0009432929946342483,
          0.0006614720041397959,
          0.000605074004852213,
          0.000670983994496055,
          0.0010370829986641183,
          0.0005979810084681958,
          0.0005517490062629804,
          0.0005946470046183094,
          0.000608287999057211,
          0.0007016919989837334,
          0.0006888979987706989,
          0.0005382569943321869,
          0.0007908090046839789,
          0.0017738879978423938,
          0.0006570760015165433,
          0.0011397969938116148,
          0.0008045809954637662,
          0.0008314989972859621,
          0.0008357340120710433,
          0.000906075001694262,
          0.0016214630013564602,
          0.000880481005879119,
          0.001701629997114651,
          0.0006398629921022803,
          0.0006333860073937103,
          0.0005543139996007085,
          0.0004260589921614155,
          0.0009470520017202944,
          0.000749808008549735,
          0.0012057179992552847,
          0.00036909700429532677,
          0.0003583959914976731,
          0.0002921299892477691,
          0.00045426699216477573,
          0.0005854119954165071,
          0.000702748991898261,
          0.0006916340062161908,
          0.0004788489895872772,
          0.0005372610030462965
         ],
         "yaxis": "y2"
        },
        {
         "alignmentgroup": "True",
         "bingroup": "x",
         "histfunc": "avg",
         "hovertemplate": "Baseline=True<br>Sizes=Large<br>Context=%{x}<br>avg of total_time=%{y}<extra></extra>",
         "legendgroup": "True",
         "marker": {
          "color": "#636efa",
          "pattern": {
           "shape": ""
          }
         },
         "name": "True",
         "offsetgroup": "True",
         "orientation": "v",
         "showlegend": false,
         "type": "histogram",
         "x": [
          "Bbox Partial Overlap (TRUE)",
          "Bbox Partial Overlap (TRUE)",
          "Bbox Partial Overlap (TRUE)",
          "Bbox Partial Overlap (TRUE)",
          "Bbox Partial Overlap (TRUE)",
          "Bbox Partial Overlap (TRUE)",
          "Bbox Partial Overlap (TRUE)",
          "Bbox Overlap (FALSE)",
          "Bbox Overlap (FALSE)",
          "Bbox Overlap (FALSE)",
          "Bbox Partial Overlap (TRUE)",
          "Bbox Overlap (FALSE)",
          "Bbox Partial Overlap (TRUE)",
          "Bbox Partial Overlap (TRUE)",
          "Bbox Partial Overlap (TRUE)",
          "Bbox Overlap (FALSE)",
          "Bbox Partial Overlap (TRUE)",
          "Bbox Partial Overlap (TRUE)",
          "Bbox Partial Overlap (TRUE)",
          "Bbox Overlap (FALSE)",
          "Bbox Partial Overlap (TRUE)",
          "Bbox Partial Overlap (TRUE)",
          "Bbox Overlap (FALSE)",
          "Bbox Partial Overlap (TRUE)",
          "Bbox Overlap (FALSE)",
          "Bbox Overlap (FALSE)",
          "Bbox Partial Overlap (TRUE)",
          "Bbox Partial Overlap (TRUE)",
          "Bbox Partial Overlap (TRUE)",
          "Bbox Partial Overlap (TRUE)",
          "Bbox Overlap (FALSE)",
          "Bbox Overlap (FALSE)",
          "Bbox Partial Overlap (TRUE)",
          "Bbox Overlap (FALSE)",
          "Bbox Partial Overlap (TRUE)",
          "Bbox Partial Overlap (TRUE)",
          "Bbox Partial Overlap (TRUE)",
          "Bbox Overlap (FALSE)",
          "Bbox Partial Overlap (TRUE)",
          "Bbox Partial Overlap (TRUE)",
          "Bbox Overlap (FALSE)",
          "Bbox Overlap (FALSE)",
          "Bbox Partial Overlap (TRUE)",
          "Bbox Partial Overlap (TRUE)",
          "Bbox Partial Overlap (TRUE)",
          "Bbox Overlap (FALSE)",
          "Bbox Partial Overlap (TRUE)",
          "Bbox Partial Overlap (TRUE)",
          "Bbox Partial Overlap (TRUE)",
          "Bbox Overlap (FALSE)",
          "Bbox Partial Overlap (TRUE)",
          "Bbox Partial Overlap (TRUE)",
          "Bbox Partial Overlap (TRUE)",
          "Bbox Partial Overlap (TRUE)",
          "Bbox Overlap (FALSE)",
          "Bbox Partial Overlap (TRUE)",
          "Bbox Overlap (FALSE)",
          "Bbox Partial Overlap (TRUE)",
          "Bbox Partial Overlap (TRUE)",
          "Bbox Partial Overlap (TRUE)",
          "Bbox Partial Overlap (TRUE)",
          "Bbox Partial Overlap (TRUE)",
          "Bbox Partial Overlap (TRUE)",
          "Bbox Partial Overlap (TRUE)",
          "Bbox Overlap (FALSE)",
          "Bbox Overlap (FALSE)",
          "Bbox Overlap (FALSE)",
          "Bbox Partial Overlap (TRUE)",
          "Bbox Partial Overlap (TRUE)",
          "Bbox Partial Overlap (TRUE)",
          "Bbox Partial Overlap (TRUE)",
          "Bbox Partial Overlap (TRUE)",
          "Bbox Partial Overlap (TRUE)",
          "Bbox Overlap (FALSE)",
          "Bbox Partial Overlap (TRUE)",
          "Bbox Partial Overlap (TRUE)",
          "Bbox Partial Overlap (TRUE)",
          "Bbox Partial Overlap (TRUE)",
          "Bbox Partial Overlap (TRUE)",
          "Bbox Partial Overlap (TRUE)",
          "Bbox Partial Overlap (TRUE)",
          "Bbox Partial Overlap (TRUE)",
          "Bbox Partial Overlap (TRUE)",
          "Bbox Partial Overlap (TRUE)",
          "Bbox Partial Overlap (TRUE)",
          "Bbox Overlap (FALSE)",
          "Bbox Overlap (FALSE)",
          "Bbox Partial Overlap (TRUE)",
          "Bbox Partial Overlap (TRUE)",
          "Bbox Partial Overlap (TRUE)",
          "Bbox Partial Overlap (TRUE)",
          "Bbox Partial Overlap (TRUE)",
          "Bbox Partial Overlap (TRUE)",
          "Bbox Partial Overlap (TRUE)",
          "Bbox Partial Overlap (TRUE)",
          "Bbox Overlap (FALSE)",
          "Bbox Overlap (FALSE)",
          "Bbox Overlap (FALSE)",
          "Bbox Overlap (FALSE)",
          "Bbox Overlap (FALSE)",
          "Bbox Overlap (FALSE)",
          "Bbox Overlap (FALSE)",
          "Bbox Overlap (FALSE)",
          "Bbox Overlap (FALSE)",
          "Bbox Overlap (FALSE)",
          "Bbox Overlap (FALSE)",
          "Bbox Overlap (FALSE)",
          "Bbox Overlap (FALSE)",
          "Bbox Overlap (FALSE)",
          "Bbox Overlap (FALSE)",
          "Bbox Overlap (FALSE)",
          "Bbox Overlap (FALSE)",
          "Bbox Overlap (FALSE)",
          "Bbox Overlap (FALSE)",
          "Bbox Overlap (FALSE)",
          "Bbox Overlap (FALSE)",
          "Bbox Overlap (FALSE)",
          "Bbox Overlap (FALSE)",
          "Bbox Overlap (FALSE)",
          "Bbox Overlap (FALSE)",
          "Bbox Overlap (FALSE)",
          "Bbox Overlap (FALSE)",
          "Bbox Overlap (FALSE)",
          "Bbox Overlap (FALSE)",
          "Bbox Overlap (FALSE)",
          "Bbox Overlap (FALSE)",
          "Bbox Overlap (FALSE)",
          "Bbox Overlap (FALSE)",
          "Bbox Overlap (FALSE)",
          "Bbox Overlap (FALSE)",
          "Bbox Overlap (FALSE)",
          "Bbox Overlap (FALSE)",
          "Bbox Overlap (FALSE)",
          "Bbox Overlap (FALSE)",
          "Bbox Overlap (FALSE)",
          "Bbox Overlap (FALSE)",
          "Bbox Overlap (FALSE)",
          "Bbox Overlap (FALSE)",
          "Bbox Overlap (FALSE)",
          "Bbox Overlap (FALSE)",
          "Bbox Overlap (FALSE)",
          "Bbox Overlap (FALSE)",
          "Bbox Overlap (FALSE)",
          "Bbox Overlap (FALSE)",
          "Bbox Overlap (FALSE)",
          "Bbox Overlap (FALSE)",
          "Bbox Overlap (FALSE)",
          "Bbox Overlap (FALSE)",
          "Bbox Overlap (FALSE)",
          "Bbox Overlap (FALSE)",
          "Bbox Overlap (FALSE)",
          "Bbox Overlap (FALSE)",
          "Bbox Overlap (FALSE)",
          "Bbox Overlap (FALSE)",
          "Bbox Overlap (FALSE)",
          "Bbox Overlap (FALSE)",
          "Bbox Overlap (FALSE)",
          "Bbox Overlap (FALSE)",
          "Bbox Overlap (FALSE)",
          "Bbox Overlap (FALSE)",
          "Bbox Overlap (FALSE)",
          "Bbox Overlap (FALSE)",
          "Bbox Overlap (FALSE)",
          "Bbox Overlap (FALSE)",
          "Bbox Overlap (FALSE)",
          "Bbox Overlap (FALSE)",
          "Bbox Overlap (FALSE)",
          "Bbox Overlap (FALSE)",
          "Bbox Overlap (FALSE)",
          "Bbox Overlap (FALSE)",
          "Bbox Overlap (FALSE)",
          "Bbox Overlap (FALSE)",
          "Bbox Overlap (FALSE)",
          "Bbox Overlap (FALSE)",
          "Bbox Overlap (FALSE)",
          "Bbox Overlap (FALSE)",
          "Bbox Overlap (FALSE)",
          "Bbox Overlap (FALSE)",
          "Bbox Overlap (FALSE)",
          "Bbox Overlap (FALSE)",
          "Bbox Overlap (FALSE)",
          "Bbox Overlap (FALSE)",
          "Bbox Overlap (FALSE)",
          "Bbox Overlap (FALSE)",
          "Bbox Overlap (FALSE)",
          "Bbox Partial Overlap (TRUE)",
          "Bbox Overlap (FALSE)",
          "Bbox Partial Overlap (TRUE)",
          "Bbox Partial Overlap (TRUE)",
          "Bbox Overlap (FALSE)",
          "Bbox Overlap (FALSE)",
          "Bbox Overlap (FALSE)",
          "Bbox Overlap (FALSE)",
          "Bbox Overlap (FALSE)",
          "Bbox Partial Overlap (TRUE)",
          "Bbox Overlap (FALSE)",
          "Bbox Overlap (FALSE)",
          "Bbox Overlap (FALSE)",
          "Bbox Partial Overlap (TRUE)",
          "Bbox Partial Overlap (TRUE)",
          "Bbox Overlap (FALSE)",
          "Bbox Partial Overlap (TRUE)",
          "Bbox Partial Overlap (TRUE)",
          "Bbox Partial Overlap (TRUE)",
          "Bbox Partial Overlap (TRUE)",
          "Bbox Partial Overlap (TRUE)",
          "Bbox Overlap (FALSE)",
          "Bbox Partial Overlap (TRUE)",
          "Bbox Overlap (FALSE)",
          "Bbox Overlap (FALSE)",
          "Bbox Overlap (FALSE)",
          "Bbox Overlap (FALSE)",
          "Bbox Overlap (FALSE)",
          "Bbox Partial Overlap (TRUE)",
          "Bbox Overlap (FALSE)",
          "Bbox Overlap (FALSE)",
          "Bbox Overlap (FALSE)",
          "Bbox Overlap (FALSE)",
          "Bbox Overlap (FALSE)",
          "Bbox Overlap (FALSE)",
          "Bbox Overlap (FALSE)",
          "Bbox Overlap (FALSE)",
          "Bbox Overlap (FALSE)",
          "Bbox Overlap (FALSE)",
          "Bbox Overlap (FALSE)",
          "Bbox Overlap (FALSE)",
          "Bbox Overlap (FALSE)",
          "Bbox Overlap (FALSE)",
          "Bbox Overlap (FALSE)",
          "Bbox Overlap (FALSE)",
          "Bbox Partial Overlap (TRUE)",
          "Bbox Overlap (FALSE)",
          "Bbox Partial Overlap (TRUE)",
          "Bbox Partial Overlap (TRUE)",
          "Bbox Overlap (FALSE)"
         ],
         "xaxis": "x3",
         "y": [
          0.01408649499353487,
          0.01165883599605877,
          0.005938354996033013,
          0.003087967008468695,
          0.008298216009279713,
          0.006135613992228173,
          0.010136220997083,
          0.002072063012747094,
          0.002979897995828651,
          0.003549703993485309,
          0.012995504992431961,
          0.007889482993050478,
          0.009239236998837441,
          0.010720075995777734,
          0.00606867199530825,
          0.002381263009738177,
          0.0188984190026531,
          0.02247362700290978,
          0.014756905002286658,
          0.0071450450050178915,
          0.030283420011983253,
          0.012711768998997286,
          0.011191803001565859,
          0.012051345009240322,
          0.008321339002577588,
          0.007263469000463374,
          0.005839545003254898,
          0.004593531004502438,
          0.004055964993312955,
          0.0043982719944324344,
          0.0015537559957010671,
          0.0029001479997532442,
          0.008277499000541866,
          0.0047679130075266585,
          0.005211684008827433,
          0.007212169992271811,
          0.009241534004104324,
          0.009339102005469613,
          0.02217231600661762,
          0.02642598099191673,
          0.005935948007390834,
          0.005132794001838192,
          0.011133995009004138,
          0.004582326990203001,
          0.009763277004822157,
          0.0030932240042602643,
          0.0036105570034123957,
          0.008299968001665547,
          0.00666072299645748,
          0.0036688230029540136,
          0.008680366008775309,
          0.006069401002605446,
          0.009784919995581731,
          0.006814656997448765,
          0.0049669940053718165,
          0.020899408002151176,
          0.004822597999009304,
          0.009253855008864775,
          0.011856730008730665,
          0.0055465119949076325,
          0.005689600002369843,
          0.008652207005070522,
          0.006517386005725712,
          0.0068847829970764,
          0.002906292997067794,
          0.002917945006629452,
          0.0029955469944979995,
          0.032871418006834574,
          0.01366490799409803,
          0.006991215996094979,
          0.007167656003730372,
          0.006078756996430457,
          0.013088791994960047,
          0.005315652000717819,
          0.01169168199703563,
          0.00824400999408681,
          0.0055038779973983765,
          0.009391466999659315,
          0.006707146996632218,
          0.004858444008277729,
          0.008354283010703512,
          0.003559999997378327,
          0.012341600013314746,
          0.02332905199727975,
          0.011511760007124394,
          0.008602475994848646,
          0.005741979999584146,
          0.013847563997842371,
          0.005353642991394736,
          0.04681420799170155,
          0.03158485400490463,
          0.03132353299588431,
          0.07854440600203816,
          0.017566294001881033,
          0.015558739003608935,
          0.0014169420028338209,
          0.011944002006202936,
          0.003443576002609916,
          0.012483209997299127,
          0.012359931992250495,
          0.0018101239984389395,
          0.0028525579982670024,
          0.0034410549997119233,
          0.010953775999951176,
          0.0045691120030824095,
          0.004679812001995742,
          0.004976568001438864,
          0.004678541998146102,
          0.00596553499053698,
          0.013231659002485685,
          0.011241380998399109,
          0.010192632005782798,
          0.008511221007211134,
          0.012343034002697095,
          0.10156491100497078,
          0.03929488999710884,
          0.09833507699659094,
          0.006245686003239825,
          0.005038368995883502,
          0.009334732996649109,
          0.0015738209913251922,
          0.0014964680012781173,
          0.003030025996849872,
          0.00376208100351505,
          0.00348637999559287,
          0.0015050500078359619,
          0.008894240992958657,
          0.008499796997057274,
          0.009796332000405528,
          0.00889998699130956,
          0.0045054740039631724,
          0.005624939993140288,
          0.004303477006033063,
          0.00354344499646686,
          0.004464254001504742,
          0.019005073001608253,
          0.11728126199159306,
          0.0012745929998345673,
          0.004461004995391704,
          0.008678415004396811,
          0.0034044640051433817,
          0.0038345639914041385,
          0.00200912200671155,
          0.002006104987231083,
          0.003834836999885738,
          0.004034945988678373,
          0.01937603899568785,
          0.005031259002862498,
          0.06220118400233332,
          0.011818840997875668,
          0.0054593919921899214,
          0.004199942006380297,
          0.005073727006674744,
          0.008904228991013952,
          0.006220781986485235,
          0.0024320460070157424,
          0.00700682400201913,
          0.008503460005158558,
          0.0035034739994443953,
          0.0039262069913093,
          0.014549650994013064,
          0.009563239000272006,
          0.0034246889990754426,
          0.003497309997328557,
          0.0033369289885740727,
          0.020996474006096832,
          0.0044955899938941,
          0.0031501420016866177,
          0.00782271398929879,
          0.010680890001822263,
          0.01039273700735066,
          0.010665170004358515,
          0.010991559000103734,
          0.011016128992196172,
          0.010004167997976765,
          0.007653148000827059,
          0.009956793001038022,
          0.0086195660114754,
          0.02284019099897705,
          0.0077390380029100925,
          0.0054214519914239645,
          0.004939457998261787,
          0.0052114959980826825,
          0.007346992002567276,
          0.0025968999980250373,
          0.0024347959988517687,
          0.0012480500008678064,
          0.003204795008059591,
          0.002527502001612447,
          0.0013053340080659837,
          0.0023475470079574734,
          0.002586962000350468,
          0.0016797619900899008,
          0.0020340500050224364,
          0.008972590003395453,
          0.0031698730017524213,
          0.003952619998017326,
          0.0032427980040665716,
          0.00325858399446588,
          0.0032826480019139126,
          0.0015066229971125722,
          0.0023398490011459216,
          0.002435304006212391,
          0.002436761002172716,
          0.002764274991932325,
          0.0025630119926063344,
          0.0015777049993630499,
          0.002698281008633785,
          0.0016498170007253066,
          0.0012611749989446253,
          0.0019453409913694486,
          0.0023509430029662326,
          0.001962087000720203,
          0.0033299310016445816,
          0.003727246992639266,
          0.0015735719935037196,
          0.0015732769970782101,
          0.0019019080064026639,
          0.0017494170024292544,
          0.002390416993875988,
          0.00222255100379698,
          0.00219435800681822,
          0.0028121920040575787,
          0.0012271140003576875,
          0.0018715019978117198,
          0.0019028339884243906,
          0.002428346997476183,
          0.002845707000233233,
          0.0026000769867096096,
          0.0025093400035984814,
          0.0036365950072649866,
          0.002032984994002618,
          0.0035915660118917003,
          0.00814411899773404,
          0.008075865000137128
         ],
         "yaxis": "y3"
        },
        {
         "alignmentgroup": "True",
         "bingroup": "x",
         "histfunc": "avg",
         "hovertemplate": "Baseline=True<br>Sizes=Small Large Mixed<br>Context=%{x}<br>avg of total_time=%{y}<extra></extra>",
         "legendgroup": "True",
         "marker": {
          "color": "#636efa",
          "pattern": {
           "shape": ""
          }
         },
         "name": "True",
         "offsetgroup": "True",
         "orientation": "v",
         "showlegend": false,
         "type": "histogram",
         "x": [
          "Bbox Inside Other (TRUE)",
          "Bbox Inside Other (TRUE)",
          "Bbox Partial Overlap (TRUE)",
          "Bbox Partial Overlap (TRUE)",
          "Bbox Partial Overlap (TRUE)",
          "Bbox Partial Overlap (TRUE)",
          "Bbox Overlap (FALSE)",
          "Bbox Partial Overlap (TRUE)",
          "Bbox Overlap (FALSE)",
          "Bbox Overlap (FALSE)",
          "Bbox Overlap (FALSE)",
          "Bbox Overlap (FALSE)",
          "Bbox Overlap (FALSE)",
          "Bbox Overlap (FALSE)",
          "Bbox Overlap (FALSE)",
          "Bbox Partial Overlap (TRUE)",
          "Bbox Overlap (FALSE)",
          "Bbox Overlap (FALSE)",
          "Bbox Overlap (FALSE)",
          "Bbox Partial Overlap (TRUE)",
          "Bbox Overlap (FALSE)",
          "Bbox Overlap (FALSE)",
          "Bbox Partial Overlap (TRUE)",
          "Bbox Partial Overlap (TRUE)",
          "Bbox Overlap (FALSE)",
          "Bbox Partial Overlap (TRUE)",
          "Bbox Overlap (FALSE)",
          "Bbox Partial Overlap (TRUE)",
          "Bbox Overlap (FALSE)",
          "Bbox Overlap (FALSE)",
          "Bbox Overlap (FALSE)",
          "Bbox Overlap (FALSE)",
          "Bbox Partial Overlap (TRUE)",
          "Bbox Partial Overlap (TRUE)",
          "Bbox Overlap (FALSE)",
          "Bbox Overlap (FALSE)",
          "Bbox Overlap (FALSE)",
          "Bbox Overlap (FALSE)",
          "Bbox Overlap (FALSE)",
          "Bbox Overlap (FALSE)",
          "Bbox Overlap (FALSE)",
          "Bbox Overlap (FALSE)",
          "Bbox Overlap (FALSE)",
          "Bbox Overlap (FALSE)",
          "Bbox Overlap (FALSE)",
          "Bbox Overlap (FALSE)",
          "Bbox Overlap (FALSE)",
          "Bbox Overlap (FALSE)",
          "Bbox Overlap (FALSE)",
          "Bbox Overlap (FALSE)",
          "Bbox Overlap (FALSE)",
          "Bbox Overlap (FALSE)",
          "Bbox Overlap (FALSE)",
          "Bbox Overlap (FALSE)",
          "Bbox Overlap (FALSE)",
          "Bbox Overlap (FALSE)",
          "Bbox Overlap (FALSE)",
          "Bbox Overlap (FALSE)",
          "Bbox Overlap (FALSE)",
          "Bbox Overlap (FALSE)",
          "Bbox Overlap (FALSE)",
          "Bbox Overlap (FALSE)",
          "Bbox Partial Overlap (TRUE)",
          "Bbox Partial Overlap (TRUE)",
          "Bbox Partial Overlap (TRUE)",
          "Bbox Overlap (FALSE)",
          "Bbox Partial Overlap (TRUE)",
          "Bbox Overlap (FALSE)",
          "Bbox Partial Overlap (TRUE)",
          "Bbox Partial Overlap (TRUE)",
          "Bbox Partial Overlap (TRUE)",
          "Bbox Partial Overlap (TRUE)",
          "Bbox Overlap (FALSE)",
          "Bbox Overlap (FALSE)",
          "Bbox Overlap (FALSE)",
          "Bbox Overlap (FALSE)",
          "Bbox Overlap (FALSE)",
          "Bbox Overlap (FALSE)",
          "Bbox Partial Overlap (TRUE)",
          "Bbox Overlap (FALSE)",
          "Bbox Overlap (FALSE)",
          "Bbox Overlap (FALSE)",
          "Bbox Overlap (FALSE)",
          "Bbox Partial Overlap (TRUE)",
          "Bbox Partial Overlap (TRUE)",
          "Bbox Partial Overlap (TRUE)",
          "Bbox Partial Overlap (TRUE)",
          "Bbox Partial Overlap (TRUE)",
          "Bbox Partial Overlap (TRUE)",
          "Bbox Overlap (FALSE)",
          "Bbox Overlap (FALSE)",
          "Bbox Overlap (FALSE)",
          "Bbox Partial Overlap (TRUE)",
          "Bbox Partial Overlap (TRUE)",
          "Bbox Overlap (FALSE)",
          "Bbox Partial Overlap (TRUE)",
          "Bbox Partial Overlap (TRUE)",
          "Bbox Overlap (FALSE)",
          "Bbox Overlap (FALSE)",
          "Bbox Partial Overlap (TRUE)",
          "Bbox Partial Overlap (TRUE)",
          "Bbox Overlap (FALSE)",
          "Bbox Overlap (FALSE)",
          "Bbox Partial Overlap (TRUE)",
          "Bbox Overlap (FALSE)",
          "Bbox Overlap (FALSE)",
          "Bbox Overlap (FALSE)",
          "Bbox Overlap (FALSE)",
          "Bbox Overlap (FALSE)",
          "Bbox Partial Overlap (TRUE)",
          "Bbox Partial Overlap (TRUE)",
          "Bbox Partial Overlap (TRUE)",
          "Bbox Partial Overlap (TRUE)",
          "Bbox Overlap (FALSE)",
          "Bbox Overlap (FALSE)",
          "Bbox Partial Overlap (TRUE)",
          "Bbox Overlap (FALSE)",
          "Bbox Partial Overlap (TRUE)",
          "Bbox Overlap (FALSE)",
          "Bbox Overlap (FALSE)",
          "Bbox Overlap (FALSE)",
          "Bbox Overlap (FALSE)",
          "Bbox Overlap (FALSE)",
          "Bbox Overlap (FALSE)",
          "Bbox Overlap (FALSE)",
          "Bbox Overlap (FALSE)",
          "Bbox Overlap (FALSE)",
          "Bbox Partial Overlap (TRUE)",
          "Bbox Overlap (FALSE)",
          "Bbox Overlap (FALSE)",
          "Bbox Overlap (FALSE)",
          "Bbox Overlap (FALSE)",
          "Bbox Partial Overlap (TRUE)",
          "Bbox Overlap (FALSE)",
          "Bbox Overlap (FALSE)",
          "Bbox Overlap (FALSE)",
          "Bbox Overlap (FALSE)",
          "Bbox Overlap (FALSE)",
          "Bbox Overlap (FALSE)",
          "Bbox Overlap (FALSE)",
          "Bbox Overlap (FALSE)",
          "Bbox Overlap (FALSE)",
          "Bbox Overlap (FALSE)",
          "Bbox Overlap (FALSE)",
          "Bbox Overlap (FALSE)",
          "Bbox Overlap (FALSE)",
          "Bbox Overlap (FALSE)",
          "Bbox Overlap (FALSE)",
          "Bbox Overlap (FALSE)",
          "Bbox Overlap (FALSE)",
          "Bbox Overlap (FALSE)",
          "Bbox Partial Overlap (TRUE)",
          "Bbox Overlap (FALSE)",
          "Bbox Overlap (FALSE)",
          "Bbox Overlap (FALSE)",
          "Bbox Overlap (FALSE)",
          "Bbox Overlap (FALSE)",
          "Bbox Overlap (FALSE)",
          "Bbox Overlap (FALSE)",
          "Bbox Overlap (FALSE)",
          "Bbox Overlap (FALSE)",
          "Bbox Overlap (FALSE)",
          "Bbox Overlap (FALSE)",
          "Bbox Partial Overlap (TRUE)",
          "Bbox Overlap (FALSE)",
          "Bbox Overlap (FALSE)",
          "Bbox Overlap (FALSE)",
          "Bbox Partial Overlap (TRUE)",
          "Bbox Overlap (FALSE)",
          "Bbox Overlap (FALSE)",
          "Bbox Partial Overlap (TRUE)",
          "Bbox Overlap (FALSE)",
          "Bbox Partial Overlap (TRUE)",
          "Bbox Overlap (FALSE)",
          "Bbox Overlap (FALSE)",
          "Bbox Overlap (FALSE)",
          "Bbox Overlap (FALSE)",
          "Bbox Overlap (FALSE)",
          "Bbox Overlap (FALSE)",
          "Bbox Overlap (FALSE)",
          "Bbox Overlap (FALSE)",
          "Bbox Overlap (FALSE)",
          "Bbox Overlap (FALSE)",
          "Bbox Overlap (FALSE)",
          "Bbox Partial Overlap (TRUE)",
          "Bbox Overlap (FALSE)",
          "Bbox Overlap (FALSE)",
          "Bbox Partial Overlap (TRUE)",
          "Bbox Overlap (FALSE)",
          "Bbox Overlap (FALSE)",
          "Bbox Overlap (FALSE)",
          "Bbox Overlap (FALSE)",
          "Bbox Overlap (FALSE)",
          "Bbox Partial Overlap (TRUE)",
          "Bbox Overlap (FALSE)",
          "Bbox Overlap (FALSE)",
          "Bbox Overlap (FALSE)",
          "Bbox Overlap (FALSE)",
          "Bbox Overlap (FALSE)",
          "Bbox Overlap (FALSE)",
          "Bbox Overlap (FALSE)",
          "Bbox Overlap (FALSE)",
          "Bbox Overlap (FALSE)",
          "Bbox Overlap (FALSE)",
          "Bbox Overlap (FALSE)",
          "Bbox Overlap (FALSE)",
          "Bbox Overlap (FALSE)",
          "Bbox Overlap (FALSE)",
          "Bbox Overlap (FALSE)",
          "Bbox Overlap (FALSE)",
          "Bbox Overlap (FALSE)",
          "Bbox Overlap (FALSE)",
          "Bbox Overlap (FALSE)",
          "Bbox Overlap (FALSE)",
          "Bbox Overlap (FALSE)",
          "Bbox Overlap (FALSE)",
          "Bbox Overlap (FALSE)",
          "Bbox Overlap (FALSE)",
          "Bbox Overlap (FALSE)",
          "Bbox Overlap (FALSE)",
          "Bbox Overlap (FALSE)",
          "Bbox Overlap (FALSE)",
          "Bbox Overlap (FALSE)",
          "Bbox Overlap (FALSE)",
          "Bbox Overlap (FALSE)",
          "Bbox Overlap (FALSE)",
          "Bbox Overlap (FALSE)",
          "Bbox Partial Overlap (TRUE)",
          "Bbox Overlap (FALSE)",
          "Bbox Overlap (FALSE)",
          "Bbox Overlap (FALSE)",
          "Bbox Overlap (FALSE)",
          "Bbox Overlap (FALSE)",
          "Bbox Overlap (FALSE)",
          "Bbox Overlap (FALSE)",
          "Bbox Overlap (FALSE)",
          "Bbox Overlap (FALSE)",
          "Bbox Overlap (FALSE)",
          "Bbox Overlap (FALSE)",
          "Bbox Overlap (FALSE)",
          "Bbox Overlap (FALSE)",
          "Bbox Overlap (FALSE)",
          "Bbox Overlap (FALSE)",
          "Bbox Overlap (FALSE)",
          "Bbox Overlap (FALSE)",
          "Bbox Overlap (FALSE)",
          "Bbox Overlap (FALSE)",
          "Bbox Overlap (FALSE)",
          "Bbox Overlap (FALSE)",
          "Bbox Overlap (FALSE)",
          "Bbox Overlap (FALSE)",
          "Bbox Overlap (FALSE)",
          "Bbox Overlap (FALSE)",
          "Bbox Overlap (FALSE)",
          "Bbox Overlap (FALSE)",
          "Bbox Overlap (FALSE)"
         ],
         "xaxis": "x4",
         "y": [
          0.0009754579950822517,
          0.0009679810027591884,
          0.0035800049954559654,
          0.0025227409932995215,
          0.0024933649983722717,
          0.0017746109951986,
          0.0014968799951020628,
          0.0025177630013786256,
          0.0006912380049470812,
          0.011037211996153928,
          0.0014661169989267364,
          0.002605531000881456,
          0.0014770419948035851,
          0.0013508359988918528,
          0.0010660280095180497,
          0.0019363890023669228,
          0.0009755670034792274,
          0.0012170510017313063,
          0.0009118790039792657,
          0.0017184750031447038,
          0.0009391200001118705,
          0.0005916289956076071,
          0.0016832019900903106,
          0.0025523910007905215,
          0.0019617860089056194,
          0.002710508997552097,
          0.0011663089971989393,
          0.001794734998838976,
          0.0012283300020499155,
          0.001197567005874589,
          0.001740512001561001,
          0.0019197130022803321,
          0.001231354006449692,
          0.0012141390034230426,
          0.0015547559887636453,
          0.001627632009331137,
          0.0020008140127174556,
          0.0017975399969145656,
          0.001645056006964296,
          0.0019032609998248518,
          0.0015271329903043807,
          0.00141507999796886,
          0.001815573006751947,
          0.0013994650071254,
          0.001687009003944695,
          0.001465855006244965,
          0.0015986840007826686,
          0.0017746550001902506,
          0.0019157210044795647,
          0.0016964379901764914,
          0.0018244289967697114,
          0.001726196991512552,
          0.0017820809880504385,
          0.0015265350084519014,
          0.002058211000985466,
          0.0019152010063407943,
          0.001650890990276821,
          0.0009264029940823093,
          0.0013836449943482876,
          0.0009930270025506616,
          0.000997700000880286,
          0.0012267549900570884,
          0.006339069004752673,
          0.008153943999786861,
          0.006763684999896213,
          0.0009763819980435073,
          0.002986630002851598,
          0.0007678690017201006,
          0.00708980300987605,
          0.00889251999615226,
          0.008498091003275476,
          0.0013856959994882345,
          0.0011610530054895207,
          0.0011436999920988455,
          0.0011154219973832369,
          0.001189093993161805,
          0.0011956459929933771,
          0.0013850890100002289,
          0.002272379002533853,
          0.001955676998477429,
          0.0015436679968843237,
          0.0013763589959125966,
          0.0010419530008221045,
          0.0011997989931842312,
          0.0011559369886526838,
          0.0009392380015924573,
          0.0013890760019421577,
          0.001396844003465958,
          0.001072751998435706,
          0.0009977680019801483,
          0.001011047002975829,
          0.0009705389966256917,
          0.0011291679984424263,
          0.0011344950034981593,
          0.001057132991263643,
          0.0012794600042980164,
          0.0011265159992035478,
          0.0006543500057887286,
          0.0008185359911294654,
          0.0013071930006844923,
          0.0011675270070554689,
          0.0007401040056720376,
          0.0007493890007026494,
          0.0018922529998235404,
          0.0011749689874704927,
          0.0013863900094293058,
          0.0009504930058028549,
          0.0010858189925784245,
          0.00094474499928765,
          0.0016106149996630847,
          0.0011521589913172647,
          0.0011571970098884776,
          0.001253905997145921,
          0.0011254090059082955,
          0.0011008209985448048,
          0.001203823005198501,
          0.001097557003959082,
          0.0022280650009633973,
          0.0015668520063627511,
          0.0007905219972599298,
          0.0019637410005088896,
          0.0009747750009410083,
          0.0010514660098124295,
          0.0010785960039356723,
          0.0014433560136239976,
          0.0010251049970975146,
          0.0011412919993745163,
          0.0018624149961397052,
          0.0011025889980373904,
          0.0011596449912758544,
          0.0012141490005888045,
          0.0014500179968308657,
          0.0015831799973966554,
          0.0016435709985671565,
          0.0016615979984635487,
          0.0014441559906117618,
          0.001532006004708819,
          0.0013161660026526079,
          0.001616575988009572,
          0.0013551440060837194,
          0.0013564109976869076,
          0.0014011379971634597,
          0.002011188000324182,
          0.001842882003984414,
          0.0022148869902594015,
          0.0015720159863121808,
          0.0018578519957372919,
          0.0017844549875007942,
          0.0013279150007292628,
          0.0013676780072273687,
          0.0017541279958095402,
          0.0015752199979033321,
          0.0007373520056717098,
          0.000652435002848506,
          0.0007114129984984174,
          0.000877767990459688,
          0.001057200992363505,
          0.0009015579998958856,
          0.0008895909995771945,
          0.0008398689969908446,
          0.0010504560050321743,
          0.000993031993857585,
          0.00079947299673222,
          0.0013063280057394877,
          0.0013438089954433963,
          0.001397889995132573,
          0.0016661789995850995,
          0.0016505780076840892,
          0.0022429920063586906,
          0.0017440849915146828,
          0.0013475000014295802,
          0.0009877560078166425,
          0.0026403679948998615,
          0.0018846620077965781,
          0.002168409002479166,
          0.001999231011723168,
          0.0022272600035648793,
          0.0014797109906794503,
          0.0018681119981920347,
          0.0019402749894652516,
          0.0006586130039067939,
          0.0008139609999489039,
          0.0009388179896632209,
          0.001012949986034073,
          0.001939736001077108,
          0.0009431290091015399,
          0.0013085489918012172,
          0.0033204409992322326,
          0.003125631992588751,
          0.0031534220033790916,
          0.0031351659999927506,
          0.0032269509974867105,
          0.003160345004289411,
          0.0038254819955909625,
          0.003909792998456396,
          0.0036778359935851768,
          0.0037707629962824285,
          0.002701265999348834,
          0.0026386929966975003,
          0.0027597630105447024,
          0.0013900650083087385,
          0.0013403170014498755,
          0.0021329410083126277,
          0.0020993359939893708,
          0.0020584369922289625,
          0.002130711989593692,
          0.0021087490022182465,
          0.0022221440012799576,
          0.0019204380078008398,
          0.0018908469937741756,
          0.0018994019919773564,
          0.0018898359994636849,
          0.0018981570028699934,
          0.001906240009702742,
          0.00188997300574556,
          0.0018968739896081388,
          0.0019462380005279556,
          0.002015164995100349,
          0.0019723320001503453,
          0.0020071710023330525,
          0.0020708669908344746,
          0.0021777069923700765,
          0.002083859988488257,
          0.002166834005038254,
          0.0023225070035550743,
          0.002190717001212761,
          0.0019004539935849607,
          0.0021524140029214323,
          0.0019093250011792406,
          0.0019479000038700178,
          0.0019650780013762414,
          0.0019240030087530613,
          0.0019425469945417717,
          0.002299659012351185,
          0.0022500960039906204,
          0.0022217049991013482,
          0.0028932400018675253,
          0.0025498519971733913,
          0.0019094479939667508,
          0.0019602110114647076,
          0.001907073994516395,
          0.002287941999384202,
          0.002122264006175101,
          0.0021674910094588995,
          0.0022235059877857566,
          0.0019381430029170588,
          0.0019046859961235896,
          0.002011633987422101,
          0.0018943939940072596,
          0.0019055960001423955,
          0.001986761999432929,
          0.0019605109991971403,
          0.0018940970039693639,
          0.0017207930068252608,
          0.000829787997645326,
          0.0008664140041219071
         ],
         "yaxis": "y4"
        },
        {
         "alignmentgroup": "True",
         "bingroup": "x",
         "histfunc": "avg",
         "hovertemplate": "Baseline=True<br>Sizes=Medium Large Mixed<br>Context=%{x}<br>avg of total_time=%{y}<extra></extra>",
         "legendgroup": "True",
         "marker": {
          "color": "#636efa",
          "pattern": {
           "shape": ""
          }
         },
         "name": "True",
         "offsetgroup": "True",
         "orientation": "v",
         "showlegend": false,
         "type": "histogram",
         "x": [
          "Bbox Overlap (FALSE)",
          "Bbox Overlap (FALSE)",
          "Bbox Overlap (FALSE)",
          "Bbox Overlap (FALSE)",
          "Bbox Overlap (FALSE)",
          "Bbox Overlap (FALSE)",
          "Bbox Overlap (FALSE)",
          "Bbox Overlap (FALSE)",
          "Bbox Partial Overlap (TRUE)",
          "Bbox Partial Overlap (TRUE)",
          "Bbox Overlap (FALSE)",
          "Bbox Partial Overlap (TRUE)",
          "Bbox Overlap (FALSE)",
          "Bbox Overlap (FALSE)",
          "Bbox Overlap (FALSE)",
          "Bbox Partial Overlap (TRUE)",
          "Bbox Overlap (FALSE)",
          "Bbox Overlap (FALSE)",
          "Bbox Overlap (FALSE)",
          "Bbox Overlap (FALSE)",
          "Bbox Partial Overlap (TRUE)",
          "Bbox Partial Overlap (TRUE)",
          "Bbox Overlap (FALSE)",
          "Bbox Partial Overlap (TRUE)",
          "Bbox Partial Overlap (TRUE)",
          "Bbox Overlap (FALSE)",
          "Bbox Overlap (FALSE)",
          "Bbox Overlap (FALSE)",
          "Bbox Partial Overlap (TRUE)",
          "Bbox Partial Overlap (TRUE)",
          "Bbox Partial Overlap (TRUE)",
          "Bbox Overlap (FALSE)",
          "Bbox Partial Overlap (TRUE)",
          "Bbox Partial Overlap (TRUE)",
          "Bbox Partial Overlap (TRUE)",
          "Bbox Overlap (FALSE)",
          "Bbox Partial Overlap (TRUE)",
          "Bbox Overlap (FALSE)",
          "Bbox Overlap (FALSE)",
          "Bbox Overlap (FALSE)",
          "Bbox Overlap (FALSE)",
          "Bbox Overlap (FALSE)",
          "Bbox Overlap (FALSE)",
          "Bbox Overlap (FALSE)",
          "Bbox Overlap (FALSE)",
          "Bbox Overlap (FALSE)",
          "Bbox Overlap (FALSE)",
          "Bbox Overlap (FALSE)",
          "Bbox Overlap (FALSE)",
          "Bbox Overlap (FALSE)",
          "Bbox Overlap (FALSE)",
          "Bbox Overlap (FALSE)",
          "Bbox Partial Overlap (TRUE)",
          "Bbox Partial Overlap (TRUE)",
          "Bbox Overlap (FALSE)",
          "Bbox Overlap (FALSE)",
          "Bbox Overlap (FALSE)",
          "Bbox Overlap (FALSE)",
          "Bbox Overlap (FALSE)",
          "Bbox Overlap (FALSE)",
          "Bbox Overlap (FALSE)",
          "Bbox Overlap (FALSE)",
          "Bbox Partial Overlap (TRUE)",
          "Bbox Overlap (FALSE)",
          "Bbox Overlap (FALSE)",
          "Bbox Overlap (FALSE)",
          "Bbox Overlap (FALSE)",
          "Bbox Overlap (FALSE)",
          "Bbox Partial Overlap (TRUE)",
          "Bbox Partial Overlap (TRUE)",
          "Bbox Overlap (FALSE)",
          "Bbox Overlap (FALSE)",
          "Bbox Partial Overlap (TRUE)",
          "Bbox Overlap (FALSE)",
          "Bbox Overlap (FALSE)",
          "Bbox Overlap (FALSE)",
          "Bbox Overlap (FALSE)",
          "Bbox Overlap (FALSE)",
          "Bbox Overlap (FALSE)",
          "Bbox Overlap (FALSE)"
         ],
         "xaxis": "x5",
         "y": [
          0.005970564001472667,
          0.006252830004086718,
          0.006559985995409079,
          0.004426186002092436,
          0.0014739800099050626,
          0.006908846000442281,
          0.0032220159919233993,
          0.0031713060016045347,
          0.0014799979981034994,
          0.0015541269967798144,
          0.0013549809955293313,
          0.0018904339958680794,
          0.0018959440058097243,
          0.002373657000134699,
          0.0023293199919862673,
          0.001992548000998795,
          0.0014401369990082458,
          0.0013576729979831725,
          0.0008944449946284294,
          0.001428945004590787,
          0.0018008110055234283,
          0.0014505530125461519,
          0.0012589969992404804,
          0.0025447310035815462,
          0.0025421180034754798,
          0.0008939020044635981,
          0.0012605689989868551,
          0.0019572540040826425,
          0.0014686319918837398,
          0.0016336929984390736,
          0.0013818519946653396,
          0.0008833579922793433,
          0.0014922730042599142,
          0.001475408993428573,
          0.001250891000381671,
          0.0010495819878997281,
          0.0019945480016758665,
          0.0010564599942881614,
          0.0012034630053676665,
          0.0012183990038465708,
          0.001830972993047908,
          0.0020080599933862686,
          0.0010136049968423322,
          0.0013144310069037601,
          0.0014398060011444613,
          0.0009085659985430539,
          0.0013502999936463311,
          0.0016166139976121485,
          0.0011945900041610003,
          0.0010707340115914121,
          0.0011876979988301173,
          0.0009497930004727095,
          0.002025806999881752,
          0.001909740996779874,
          0.0013169320009183139,
          0.0010648879979271442,
          0.0012344829883659258,
          0.0015769759920658544,
          0.000939347009989433,
          0.0012234419991727918,
          0.001566760998684913,
          0.0015768090088386089,
          0.0016545750113436952,
          0.001973823003936559,
          0.001044928008923307,
          0.0010921509965555742,
          0.002546889998484403,
          0.0021200780029175803,
          0.0014233310066629201,
          0.0015295789926312864,
          0.0016554140020161867,
          0.0015945699997246265,
          0.0039207130030263215,
          0.0015738619986223057,
          0.002551017008954659,
          0.0022474709985544905,
          0.0026969979953719303,
          0.0022392449900507927,
          0.002445441990857944,
          0.00248278200160712
         ],
         "yaxis": "y5"
        },
        {
         "alignmentgroup": "True",
         "bingroup": "x",
         "histfunc": "avg",
         "hovertemplate": "Baseline=True<br>Sizes=Medium<br>Context=%{x}<br>avg of total_time=%{y}<extra></extra>",
         "legendgroup": "True",
         "marker": {
          "color": "#636efa",
          "pattern": {
           "shape": ""
          }
         },
         "name": "True",
         "offsetgroup": "True",
         "orientation": "v",
         "showlegend": false,
         "type": "histogram",
         "x": [
          "Bbox Overlap (FALSE)",
          "Bbox Overlap (FALSE)",
          "Bbox Overlap (FALSE)",
          "Bbox Partial Overlap (TRUE)",
          "Bbox Overlap (FALSE)",
          "Bbox Partial Overlap (TRUE)",
          "Bbox Partial Overlap (TRUE)",
          "Bbox Overlap (FALSE)",
          "Bbox Partial Overlap (TRUE)",
          "Bbox Partial Overlap (TRUE)",
          "Bbox Partial Overlap (TRUE)",
          "Bbox Partial Overlap (TRUE)",
          "Bbox Partial Overlap (TRUE)",
          "Bbox Partial Overlap (TRUE)",
          "Bbox Partial Overlap (TRUE)",
          "Bbox Overlap (FALSE)",
          "Bbox Overlap (FALSE)",
          "Bbox Overlap (FALSE)",
          "Bbox Partial Overlap (TRUE)",
          "Bbox Overlap (FALSE)",
          "Bbox Overlap (FALSE)",
          "Bbox Partial Overlap (TRUE)",
          "Bbox Partial Overlap (TRUE)",
          "Bbox Overlap (FALSE)",
          "Bbox Partial Overlap (TRUE)",
          "Bbox Overlap (FALSE)",
          "Bbox Partial Overlap (TRUE)"
         ],
         "xaxis": "x6",
         "y": [
          0.0011646229977486655,
          0.0006135500007076189,
          0.0006149109976831824,
          0.0012009299971396104,
          0.0008739680051803589,
          0.00344233401119709,
          0.0019311149953864515,
          0.000905342007172294,
          0.002307085000211373,
          0.0030449100013356656,
          0.0020289829990360886,
          0.0016775419935584068,
          0.001078874003724195,
          0.0014835660113021731,
          0.001054783002473414,
          0.0008077060047071427,
          0.0006061349995434284,
          0.0007490980060538277,
          0.0011890150053659454,
          0.0007616340008098632,
          0.0007581980025861412,
          0.0011250779934925959,
          0.001122671994380653,
          0.0005926059966441244,
          0.0018286499980604276,
          0.0007110860024113208,
          0.0010188939922954887
         ],
         "yaxis": "y6"
        },
        {
         "alignmentgroup": "True",
         "bingroup": "x",
         "histfunc": "avg",
         "hovertemplate": "Baseline=False<br>Sizes=Small<br>Context=%{x}<br>avg of total_time=%{y}<extra></extra>",
         "legendgroup": "False",
         "marker": {
          "color": "#EF553B",
          "pattern": {
           "shape": ""
          }
         },
         "name": "False",
         "offsetgroup": "False",
         "orientation": "v",
         "showlegend": true,
         "type": "histogram",
         "x": [
          "Bbox Overlap (FALSE)",
          "Bbox Partial Overlap (TRUE)",
          "Bbox Inside Other (TRUE)",
          "Bbox Overlap (FALSE)",
          "Bbox Partial Overlap (TRUE)",
          "Bbox Partial Overlap (TRUE)",
          "Bbox Partial Overlap (TRUE)",
          "Bbox Partial Overlap (TRUE)",
          "Bbox Partial Overlap (TRUE)",
          "Bbox Partial Overlap (TRUE)",
          "Bbox Partial Overlap (TRUE)",
          "Bbox Overlap (FALSE)",
          "Bbox Overlap (FALSE)",
          "Bbox Partial Overlap (TRUE)",
          "Bbox Partial Overlap (TRUE)",
          "Bbox Inside Other (TRUE)",
          "Bbox Inside Other (TRUE)",
          "Bbox Partial Overlap (TRUE)",
          "Bbox Partial Overlap (TRUE)",
          "Bbox Partial Overlap (TRUE)",
          "Bbox Partial Overlap (TRUE)",
          "Bbox Partial Overlap (TRUE)",
          "Bbox Partial Overlap (TRUE)",
          "Bbox Overlap (FALSE)",
          "Bbox Overlap (FALSE)",
          "Bbox Overlap (FALSE)",
          "Bbox Inside Other (TRUE)",
          "Bbox Partial Overlap (TRUE)",
          "Bbox Overlap (FALSE)",
          "Bbox Overlap (FALSE)",
          "Bbox Overlap (FALSE)",
          "Bbox Overlap (FALSE)",
          "Bbox Overlap (FALSE)",
          "Bbox Overlap (FALSE)",
          "Bbox Overlap (FALSE)",
          "Bbox Overlap (FALSE)",
          "Bbox Overlap (FALSE)",
          "Bbox Overlap (FALSE)",
          "Bbox Overlap (FALSE)",
          "Bbox Overlap (FALSE)",
          "Bbox Overlap (FALSE)",
          "Bbox Overlap (FALSE)",
          "Bbox Overlap (FALSE)",
          "Bbox Overlap (FALSE)",
          "Bbox Overlap (FALSE)",
          "Bbox Overlap (FALSE)",
          "Bbox Overlap (FALSE)",
          "Bbox Overlap (FALSE)",
          "Bbox Overlap (FALSE)",
          "Bbox Overlap (FALSE)",
          "Bbox Overlap (FALSE)",
          "Bbox Overlap (FALSE)",
          "Bbox Overlap (FALSE)",
          "Bbox Overlap (FALSE)",
          "Bbox Overlap (FALSE)",
          "Bbox Overlap (FALSE)",
          "Bbox Overlap (FALSE)",
          "Bbox Overlap (FALSE)",
          "Bbox Overlap (FALSE)",
          "Bbox Overlap (FALSE)",
          "Bbox Overlap (FALSE)",
          "Bbox Overlap (FALSE)",
          "Bbox Overlap (FALSE)",
          "Bbox Overlap (FALSE)",
          "Bbox Overlap (FALSE)",
          "Bbox Overlap (FALSE)",
          "Bbox Overlap (FALSE)",
          "Bbox Overlap (FALSE)",
          "Bbox Overlap (FALSE)",
          "Bbox Overlap (FALSE)",
          "Bbox Overlap (FALSE)",
          "Bbox Overlap (FALSE)",
          "Bbox Overlap (FALSE)",
          "Bbox Overlap (FALSE)",
          "Bbox Overlap (FALSE)",
          "Bbox Overlap (FALSE)",
          "Bbox Overlap (FALSE)",
          "Bbox Overlap (FALSE)",
          "Bbox Overlap (FALSE)",
          "Bbox Overlap (FALSE)",
          "Bbox Overlap (FALSE)",
          "Bbox Overlap (FALSE)",
          "Bbox Overlap (FALSE)",
          "Bbox Overlap (FALSE)",
          "Bbox Overlap (FALSE)",
          "Bbox Overlap (FALSE)",
          "Bbox Overlap (FALSE)",
          "Bbox Overlap (FALSE)",
          "Bbox Overlap (FALSE)",
          "Bbox Overlap (FALSE)",
          "Bbox Overlap (FALSE)",
          "Bbox Overlap (FALSE)",
          "Bbox Overlap (FALSE)",
          "Bbox Overlap (FALSE)",
          "Bbox Partial Overlap (TRUE)",
          "Bbox Overlap (FALSE)",
          "Bbox Overlap (FALSE)",
          "Bbox Overlap (FALSE)",
          "Bbox Overlap (FALSE)",
          "Bbox Overlap (FALSE)",
          "Bbox Overlap (FALSE)",
          "Bbox Overlap (FALSE)",
          "Bbox Overlap (FALSE)",
          "Bbox Overlap (FALSE)",
          "Bbox Overlap (FALSE)",
          "Bbox Overlap (FALSE)",
          "Bbox Overlap (FALSE)",
          "Bbox Overlap (FALSE)",
          "Bbox Overlap (FALSE)",
          "Bbox Overlap (FALSE)",
          "Bbox Overlap (FALSE)",
          "Bbox Overlap (FALSE)",
          "Bbox Overlap (FALSE)",
          "Bbox Overlap (FALSE)",
          "Bbox Partial Overlap (TRUE)",
          "Bbox Partial Overlap (TRUE)",
          "Bbox Partial Overlap (TRUE)",
          "Bbox Partial Overlap (TRUE)",
          "Bbox Partial Overlap (TRUE)",
          "Bbox Partial Overlap (TRUE)",
          "Bbox Partial Overlap (TRUE)",
          "Bbox Partial Overlap (TRUE)",
          "Bbox Overlap (FALSE)",
          "Bbox Partial Overlap (TRUE)",
          "Bbox Partial Overlap (TRUE)",
          "Bbox Partial Overlap (TRUE)",
          "Bbox Overlap (FALSE)",
          "Bbox Overlap (FALSE)",
          "Bbox Partial Overlap (TRUE)",
          "Bbox Partial Overlap (TRUE)",
          "Bbox Overlap (FALSE)",
          "Bbox Partial Overlap (TRUE)",
          "Bbox Partial Overlap (TRUE)",
          "Bbox Partial Overlap (TRUE)",
          "Bbox Overlap (FALSE)",
          "Bbox Overlap (FALSE)",
          "Bbox Overlap (FALSE)",
          "Bbox Partial Overlap (TRUE)",
          "Bbox Partial Overlap (TRUE)",
          "Bbox Partial Overlap (TRUE)",
          "Bbox Partial Overlap (TRUE)",
          "Bbox Partial Overlap (TRUE)",
          "Bbox Partial Overlap (TRUE)",
          "Bbox Overlap (FALSE)",
          "Bbox Overlap (FALSE)",
          "Bbox Overlap (FALSE)",
          "Bbox Overlap (FALSE)",
          "Bbox Overlap (FALSE)",
          "Bbox Overlap (FALSE)",
          "Bbox Partial Overlap (TRUE)",
          "Bbox Partial Overlap (TRUE)",
          "Bbox Overlap (FALSE)",
          "Bbox Partial Overlap (TRUE)",
          "Bbox Partial Overlap (TRUE)",
          "Bbox Partial Overlap (TRUE)",
          "Bbox Partial Overlap (TRUE)",
          "Bbox Overlap (FALSE)",
          "Bbox Partial Overlap (TRUE)",
          "Bbox Partial Overlap (TRUE)",
          "Bbox Partial Overlap (TRUE)",
          "Bbox Partial Overlap (TRUE)",
          "Bbox Partial Overlap (TRUE)",
          "Bbox Partial Overlap (TRUE)",
          "Bbox Partial Overlap (TRUE)",
          "Bbox Partial Overlap (TRUE)",
          "Bbox Partial Overlap (TRUE)",
          "Bbox Partial Overlap (TRUE)",
          "Bbox Partial Overlap (TRUE)",
          "Bbox Partial Overlap (TRUE)",
          "Bbox Partial Overlap (TRUE)",
          "Bbox Partial Overlap (TRUE)",
          "Bbox Partial Overlap (TRUE)",
          "Bbox Partial Overlap (TRUE)",
          "Bbox Partial Overlap (TRUE)",
          "Bbox Partial Overlap (TRUE)",
          "Bbox Partial Overlap (TRUE)",
          "Bbox Partial Overlap (TRUE)",
          "Bbox Partial Overlap (TRUE)",
          "Bbox Partial Overlap (TRUE)",
          "Bbox Partial Overlap (TRUE)",
          "Bbox Overlap (FALSE)",
          "Bbox Overlap (FALSE)",
          "Bbox Partial Overlap (TRUE)",
          "Bbox Overlap (FALSE)",
          "Bbox Partial Overlap (TRUE)",
          "Bbox Overlap (FALSE)",
          "Bbox Partial Overlap (TRUE)",
          "Bbox Partial Overlap (TRUE)",
          "Bbox Partial Overlap (TRUE)",
          "Bbox Partial Overlap (TRUE)",
          "Bbox Partial Overlap (TRUE)",
          "Bbox Partial Overlap (TRUE)",
          "Bbox Overlap (FALSE)",
          "Bbox Partial Overlap (TRUE)",
          "Bbox Partial Overlap (TRUE)",
          "Bbox Partial Overlap (TRUE)",
          "Bbox Partial Overlap (TRUE)",
          "Bbox Partial Overlap (TRUE)",
          "Bbox Partial Overlap (TRUE)",
          "Bbox Partial Overlap (TRUE)",
          "Bbox Overlap (FALSE)",
          "Bbox Partial Overlap (TRUE)",
          "Bbox Partial Overlap (TRUE)",
          "Bbox Partial Overlap (TRUE)",
          "Bbox Overlap (FALSE)",
          "Bbox Overlap (FALSE)",
          "Bbox Overlap (FALSE)",
          "Bbox Overlap (FALSE)",
          "Bbox Partial Overlap (TRUE)",
          "Bbox Partial Overlap (TRUE)",
          "Bbox Partial Overlap (TRUE)",
          "Bbox Partial Overlap (TRUE)",
          "Bbox Partial Overlap (TRUE)",
          "Bbox Partial Overlap (TRUE)",
          "Bbox Partial Overlap (TRUE)",
          "Bbox Partial Overlap (TRUE)",
          "Bbox Partial Overlap (TRUE)",
          "Bbox Partial Overlap (TRUE)",
          "Bbox Partial Overlap (TRUE)",
          "Bbox Overlap (FALSE)",
          "Bbox Partial Overlap (TRUE)",
          "Bbox Partial Overlap (TRUE)",
          "Bbox Overlap (FALSE)",
          "Bbox Overlap (FALSE)",
          "Bbox Overlap (FALSE)",
          "Bbox Partial Overlap (TRUE)",
          "Bbox Overlap (FALSE)",
          "Bbox Overlap (FALSE)",
          "Bbox Overlap (FALSE)",
          "Bbox Partial Overlap (TRUE)",
          "Bbox Overlap (FALSE)",
          "Bbox Overlap (FALSE)",
          "Bbox Partial Overlap (TRUE)",
          "Bbox Partial Overlap (TRUE)",
          "Bbox Overlap (FALSE)",
          "Bbox Partial Overlap (TRUE)",
          "Bbox Partial Overlap (TRUE)",
          "Bbox Overlap (FALSE)",
          "Bbox Partial Overlap (TRUE)",
          "Bbox Partial Overlap (TRUE)",
          "Bbox Partial Overlap (TRUE)",
          "Bbox Partial Overlap (TRUE)",
          "Bbox Overlap (FALSE)",
          "Bbox Partial Overlap (TRUE)",
          "Bbox Partial Overlap (TRUE)",
          "Bbox Overlap (FALSE)",
          "Bbox Overlap (FALSE)",
          "Bbox Overlap (FALSE)",
          "Bbox Partial Overlap (TRUE)",
          "Bbox Overlap (FALSE)",
          "Bbox Partial Overlap (TRUE)",
          "Bbox Partial Overlap (TRUE)",
          "Bbox Partial Overlap (TRUE)",
          "Bbox Partial Overlap (TRUE)",
          "Bbox Partial Overlap (TRUE)",
          "Bbox Partial Overlap (TRUE)",
          "Bbox Partial Overlap (TRUE)",
          "Bbox Partial Overlap (TRUE)",
          "Bbox Overlap (FALSE)",
          "Bbox Overlap (FALSE)",
          "Bbox Partial Overlap (TRUE)",
          "Bbox Partial Overlap (TRUE)",
          "Bbox Partial Overlap (TRUE)",
          "Bbox Partial Overlap (TRUE)",
          "Bbox Partial Overlap (TRUE)",
          "Bbox Partial Overlap (TRUE)",
          "Bbox Partial Overlap (TRUE)",
          "Bbox Partial Overlap (TRUE)",
          "Bbox Partial Overlap (TRUE)",
          "Bbox Partial Overlap (TRUE)",
          "Bbox Partial Overlap (TRUE)",
          "Bbox Partial Overlap (TRUE)",
          "Bbox Partial Overlap (TRUE)",
          "Bbox Partial Overlap (TRUE)",
          "Bbox Overlap (FALSE)",
          "Bbox Overlap (FALSE)",
          "Bbox Partial Overlap (TRUE)",
          "Bbox Partial Overlap (TRUE)",
          "Bbox Overlap (FALSE)",
          "Bbox Partial Overlap (TRUE)",
          "Bbox Partial Overlap (TRUE)",
          "Bbox Overlap (FALSE)",
          "Bbox Partial Overlap (TRUE)",
          "Bbox Partial Overlap (TRUE)",
          "Bbox Partial Overlap (TRUE)",
          "Bbox Partial Overlap (TRUE)",
          "Bbox Partial Overlap (TRUE)",
          "Bbox Partial Overlap (TRUE)",
          "Bbox Overlap (FALSE)",
          "Bbox Partial Overlap (TRUE)",
          "Bbox Partial Overlap (TRUE)",
          "Bbox Partial Overlap (TRUE)",
          "Bbox Partial Overlap (TRUE)",
          "Bbox Partial Overlap (TRUE)",
          "Bbox Partial Overlap (TRUE)",
          "Bbox Partial Overlap (TRUE)",
          "Bbox Partial Overlap (TRUE)",
          "Bbox Partial Overlap (TRUE)",
          "Bbox Partial Overlap (TRUE)",
          "Bbox Partial Overlap (TRUE)",
          "Bbox Partial Overlap (TRUE)",
          "Bbox Partial Overlap (TRUE)",
          "Bbox Partial Overlap (TRUE)",
          "Bbox Partial Overlap (TRUE)",
          "Bbox Partial Overlap (TRUE)",
          "Bbox Partial Overlap (TRUE)",
          "Bbox Partial Overlap (TRUE)",
          "Bbox Partial Overlap (TRUE)",
          "Bbox Partial Overlap (TRUE)",
          "Bbox Partial Overlap (TRUE)",
          "Bbox Partial Overlap (TRUE)",
          "Bbox Partial Overlap (TRUE)",
          "Bbox Partial Overlap (TRUE)",
          "Bbox Partial Overlap (TRUE)",
          "Bbox Partial Overlap (TRUE)",
          "Bbox Partial Overlap (TRUE)",
          "Bbox Partial Overlap (TRUE)",
          "Bbox Partial Overlap (TRUE)",
          "Bbox Partial Overlap (TRUE)",
          "Bbox Partial Overlap (TRUE)",
          "Bbox Partial Overlap (TRUE)",
          "Bbox Partial Overlap (TRUE)",
          "Bbox Partial Overlap (TRUE)",
          "Bbox Partial Overlap (TRUE)",
          "Bbox Partial Overlap (TRUE)",
          "Bbox Partial Overlap (TRUE)",
          "Bbox Partial Overlap (TRUE)",
          "Bbox Overlap (FALSE)",
          "Bbox Partial Overlap (TRUE)",
          "Bbox Partial Overlap (TRUE)",
          "Bbox Partial Overlap (TRUE)",
          "Bbox Partial Overlap (TRUE)",
          "Bbox Partial Overlap (TRUE)",
          "Bbox Overlap (FALSE)",
          "Bbox Overlap (FALSE)",
          "Bbox Partial Overlap (TRUE)",
          "Bbox Overlap (FALSE)",
          "Bbox Overlap (FALSE)",
          "Bbox Partial Overlap (TRUE)",
          "Bbox Partial Overlap (TRUE)"
         ],
         "xaxis": "x",
         "y": [
          0.00026964199787471443,
          0.0011472479964140803,
          0.0005261670012259856,
          0.000029425995307974517,
          0.0011912459885934368,
          0.0011672249966068193,
          0.0011856829951284453,
          0.003488217989797704,
          0.003399651002837345,
          0.004999446988222189,
          0.004958086006809026,
          0.00045725799282081425,
          0.0003652620071079582,
          0.0016538280033273622,
          0.0017008119903039187,
          0.0005306429957272485,
          0.0005305169906932861,
          0.00041337400034535676,
          0.00041438899643253535,
          0.0036270200071157888,
          0.0034244669950567186,
          0.007322623991058208,
          0.007111667000572197,
          0.000347103996318765,
          0.00035213898809161037,
          0.0002828940050676465,
          0.0003811369970208034,
          0.0002759280032478273,
          0.00018485299369785935,
          0.00023364298976957798,
          0.00018757200450636446,
          0.0004004619986517355,
          0.00018612199346534908,
          0.00018979499873239547,
          0.00026112201157957315,
          0.00019084000086877495,
          0.0001924130046973005,
          0.00019115301256533712,
          0.000287489005131647,
          0.00019027100643143058,
          0.00022382999304682016,
          0.00020306999795138836,
          0.00021894699602853507,
          0.0002120629942510277,
          0.00020915200002491474,
          0.00020800299535039812,
          0.00020994700025767088,
          0.00020920699171256274,
          0.00020712199329864234,
          0.00020635199325624853,
          0.0002098319964716211,
          0.00031747100001666695,
          0.00021417500101961195,
          0.00021970599482301623,
          0.00020669899822678417,
          0.00020617200061678886,
          0.00020824899547733366,
          0.00020571200002450496,
          0.0002336189936613664,
          0.0002034110075328499,
          0.00023368200345430523,
          0.00022950700076762587,
          0.00022476700542028993,
          0.00020673000835813582,
          0.00021415499213617295,
          0.0002343070082133636,
          0.0002463919954607263,
          0.0003112419944955036,
          0.00025399200967513025,
          0.0003446379996603355,
          0.00038154500361997634,
          0.00021088699577376246,
          0.00025267999444622546,
          0.00020548499014694244,
          0.00022353300300892442,
          0.00021317000209819525,
          0.0003054530097870156,
          0.00021414700313471258,
          0.00023730899556539953,
          0.0005343939992599189,
          0.00024818100791890174,
          0.00023008600692264736,
          0.0002449669991619885,
          0.00025673799973446876,
          0.00021221800125204027,
          0.00023535799118690193,
          0.0002721050113905221,
          0.00020297800074331462,
          0.00021481599833350629,
          0.00021460199786815792,
          0.0002087900065816939,
          0.00020992400823161006,
          0.00023307400988414884,
          0.00020910300372634083,
          0.0005741070053773001,
          0.0002576039987616241,
          0.000224959003389813,
          0.00024982899776659906,
          0.0002537769905757159,
          0.00023631399380974472,
          0.00023774999135639518,
          0.0002248310047434643,
          0.00021529800142161548,
          0.00038404500810429454,
          0.0002131280052708462,
          0.00020583899458870292,
          0.00027150499226991087,
          0.0002367429988225922,
          0.0001971949968719855,
          0.00020087299344595522,
          0.00020026499987579882,
          0.00020588000188581645,
          0.0003405500028748065,
          0.0004621599946403876,
          0.0005795050092274323,
          0.0005828339926665649,
          0.0004231769999023527,
          0.0006172059947857633,
          0.0004307269991841167,
          0.0004213819920551032,
          0.0015894130046945065,
          0.0007151099998736754,
          0.0002594480029074475,
          0.001419551990693435,
          0.0012491769884945825,
          0.0012740310048684478,
          0.0002800610091071576,
          0.00028292300703469664,
          0.0004754980036523193,
          0.0006171379936859012,
          0.00034564400266390294,
          0.0006079009908717126,
          0.000492153994855471,
          0.0006041699962224811,
          0.0005160149885341525,
          0.0006957360019441694,
          0.00042310300341341645,
          0.0007167860021581873,
          0.0006982240010984242,
          0.0007524520042352378,
          0.00040990499837789685,
          0.0004029970004921779,
          0.0005968420009594411,
          0.0002448640007060021,
          0.00024171901168301702,
          0.000333243006025441,
          0.00022441300097852945,
          0.00025001300673466176,
          0.00024814500648062676,
          0.0007656240049982443,
          0.0011907370062544942,
          0.0003968560049543157,
          0.0006134379946161062,
          0.0010342070017941296,
          0.001251061010407284,
          0.0008903470006771386,
          0.00030343199614435434,
          0.0004925359971821308,
          0.00046524299250449985,
          0.0006733960035489872,
          0.000463853997644037,
          0.0004781059978995472,
          0.0009925089980242774,
          0.0022175800113473088,
          0.0005070589977549389,
          0.0004761019954457879,
          0.0006641299987677485,
          0.0008190850057872012,
          0.0004129410081077367,
          0.0003971879923483357,
          0.00044838299800176173,
          0.0006457830022554845,
          0.0004547960124909878,
          0.00046227400889620185,
          0.00052832999790553,
          0.0004546470008790493,
          0.0008932499913498759,
          0.0006511480023618788,
          0.0006011810037307441,
          0.000525822993949987,
          0.00023915700148791075,
          0.0002381109952693805,
          0.0004131159948883578,
          0.0001912580046337098,
          0.00041563299600966275,
          0.00029677800193894655,
          0.0006033060053596273,
          0.0007025509985396639,
          0.0006976909935474396,
          0.0006231229926925153,
          0.0006208690028870478,
          0.0005018240044591948,
          0.0001286610058741644,
          0.0005092850042274222,
          0.0008587039919802919,
          0.00041159099782817066,
          0.000537913991138339,
          0.0003923899930668995,
          0.000455988003523089,
          0.0006718100048601627,
          0.0005921599949942902,
          0.0007778940052958205,
          0.0007055010064505041,
          0.0006705330015392974,
          0.0003573969879653305,
          0.00027278700144961476,
          0.00042115600081160665,
          0.0003488320071483031,
          0.0005918999959249049,
          0.00048232500557787716,
          0.0004388109955471009,
          0.0004382110055303201,
          0.0004780489980475977,
          0.0004295810067560524,
          0.0005262519989628345,
          0.0005284609942464158,
          0.000995120994048193,
          0.0007956729969009757,
          0.0008944409928517416,
          0.00024177299928851426,
          0.0004855250008404255,
          0.0004826799995498732,
          0.00028226699214428663,
          0.00043660099618136883,
          0.0003504150081425905,
          0.0004993740003556013,
          0.0002206839999416843,
          0.0002166560007026419,
          0.0003555919975042343,
          0.0009102480107685551,
          0.0002668649976840243,
          0.00031768999178893864,
          0.0006486530037363991,
          0.0006583600043086335,
          0.0002684070059331134,
          0.0005964989977655932,
          0.0005918440001551062,
          0.0005542350118048489,
          0.0006671379960607737,
          0.00047625201113987714,
          0.0006490670057246462,
          0.0004550340090645477,
          0.0005981160065857694,
          0.00048387999413535,
          0.00044014499871991575,
          0.00026873601018451154,
          0.00032628299959469587,
          0.0002688370004761964,
          0.0006939770100871101,
          0.00024345499696210027,
          0.001206043001729995,
          0.0016522009973414242,
          0.001781352999387309,
          0.0020949949976056814,
          0.0021185060031712055,
          0.000699721000273712,
          0.0012430969945853576,
          0.0008549190097255632,
          0.00031099999614525586,
          0.000057819997891783714,
          0.0008750590059207752,
          0.00168506900081411,
          0.0004984440020052716,
          0.0009339389944216236,
          0.0005332650034688413,
          0.0005465150024974719,
          0.0007171609904617071,
          0.0009940899908542633,
          0.0008532030042260885,
          0.0006317469960777089,
          0.0006049329967936501,
          0.0005941910058027133,
          0.00040948399691842496,
          0.0005441130051622167,
          0.00020839499484281987,
          0.00019875999714713544,
          0.0004162580007687211,
          0.0006489389925263822,
          0.00021341101091820747,
          0.00043626700062304735,
          0.00043106600060127676,
          0.00021686300169676542,
          0.00043183501111343503,
          0.00045693399442825466,
          0.00044347599032334983,
          0.0006034030084265396,
          0.0006001740111969411,
          0.0004148940060986206,
          0.0002063269930658862,
          0.0011104879959020764,
          0.0006768940074834973,
          0.0010276230023009703,
          0.0008767499966779724,
          0.0005222969921305776,
          0.000516932996106334,
          0.00043498200830072165,
          0.0004694660019595176,
          0.0004565900017041713,
          0.00045597499411087483,
          0.0005513990035979077,
          0.0006571660051122308,
          0.00039183399348985404,
          0.0004990140005247667,
          0.0005153200036147609,
          0.0005083020078018308,
          0.0012244569952599704,
          0.0006359170074574649,
          0.0006591580022359267,
          0.0012060389999533072,
          0.0007018339965725318,
          0.0006130019901320338,
          0.0006014270038576797,
          0.0008013699989533052,
          0.0012512160028563812,
          0.0006768469902453944,
          0.0006255039916140959,
          0.0006907409988343716,
          0.0006667310080956668,
          0.0006054719997337088,
          0.0007881469937274233,
          0.0005993150116410106,
          0.0006080919993110001,
          0.0007817760051693767,
          0.0007766720082145184,
          0.0011182140005985275,
          0.0009033440001076087,
          0.0006566160009242594,
          0.0005634010012727231,
          0.0009041740122484043,
          0.00038753099215682596,
          0.00041762499313335866,
          0.0004406059888424352,
          0.0003556180017767474,
          0.0002185199991799891,
          0.00022533000446856022,
          0.00036098000418860465,
          0.00005385901022236794,
          0.00006046499765943736,
          0.00028279599791858345,
          0.0003374510124558583
         ],
         "yaxis": "y"
        },
        {
         "alignmentgroup": "True",
         "bingroup": "x",
         "histfunc": "avg",
         "hovertemplate": "Baseline=False<br>Sizes=Small Medium Mixed<br>Context=%{x}<br>avg of total_time=%{y}<extra></extra>",
         "legendgroup": "False",
         "marker": {
          "color": "#EF553B",
          "pattern": {
           "shape": ""
          }
         },
         "name": "False",
         "offsetgroup": "False",
         "orientation": "v",
         "showlegend": false,
         "type": "histogram",
         "x": [
          "Bbox Partial Overlap (TRUE)",
          "Bbox Partial Overlap (TRUE)",
          "Bbox Partial Overlap (TRUE)",
          "Bbox Partial Overlap (TRUE)",
          "Bbox Overlap (FALSE)",
          "Bbox Overlap (FALSE)",
          "Bbox Overlap (FALSE)",
          "Bbox Overlap (FALSE)",
          "Bbox Partial Overlap (TRUE)",
          "Bbox Overlap (FALSE)",
          "Bbox Overlap (FALSE)",
          "Bbox Overlap (FALSE)",
          "Bbox Overlap (FALSE)",
          "Bbox Overlap (FALSE)",
          "Bbox Overlap (FALSE)",
          "Bbox Overlap (FALSE)",
          "Bbox Overlap (FALSE)",
          "Bbox Partial Overlap (TRUE)",
          "Bbox Partial Overlap (TRUE)",
          "Bbox Partial Overlap (TRUE)",
          "Bbox Overlap (FALSE)",
          "Bbox Inside Other (TRUE)",
          "Bbox Overlap (FALSE)",
          "Bbox Partial Overlap (TRUE)",
          "Bbox Partial Overlap (TRUE)",
          "Bbox Inside Other (TRUE)",
          "Bbox Overlap (FALSE)",
          "Bbox Partial Overlap (TRUE)",
          "Bbox Partial Overlap (TRUE)",
          "Bbox Partial Overlap (TRUE)",
          "Bbox Overlap (FALSE)",
          "Bbox Partial Overlap (TRUE)",
          "Bbox Overlap (FALSE)",
          "Bbox Partial Overlap (TRUE)",
          "Bbox Partial Overlap (TRUE)",
          "Bbox Partial Overlap (TRUE)",
          "Bbox Partial Overlap (TRUE)",
          "Bbox Partial Overlap (TRUE)",
          "Bbox Partial Overlap (TRUE)",
          "Bbox Partial Overlap (TRUE)",
          "Bbox Partial Overlap (TRUE)",
          "Bbox Partial Overlap (TRUE)",
          "Bbox Partial Overlap (TRUE)",
          "Bbox Partial Overlap (TRUE)",
          "Bbox Partial Overlap (TRUE)",
          "Bbox Partial Overlap (TRUE)",
          "Bbox Partial Overlap (TRUE)",
          "Bbox Partial Overlap (TRUE)",
          "Bbox Partial Overlap (TRUE)",
          "Bbox Partial Overlap (TRUE)",
          "Bbox Overlap (FALSE)",
          "Bbox Overlap (FALSE)",
          "Bbox Overlap (FALSE)",
          "Bbox Overlap (FALSE)",
          "Bbox Partial Overlap (TRUE)",
          "Bbox Partial Overlap (TRUE)",
          "Bbox Partial Overlap (TRUE)",
          "Bbox Partial Overlap (TRUE)",
          "Bbox Partial Overlap (TRUE)",
          "Bbox Partial Overlap (TRUE)",
          "Bbox Partial Overlap (TRUE)",
          "Bbox Partial Overlap (TRUE)",
          "Bbox Overlap (FALSE)",
          "Bbox Partial Overlap (TRUE)",
          "Bbox Partial Overlap (TRUE)",
          "Bbox Partial Overlap (TRUE)",
          "Bbox Partial Overlap (TRUE)",
          "Bbox Partial Overlap (TRUE)",
          "Bbox Partial Overlap (TRUE)",
          "Bbox Overlap (FALSE)",
          "Bbox Partial Overlap (TRUE)",
          "Bbox Partial Overlap (TRUE)",
          "Bbox Partial Overlap (TRUE)",
          "Bbox Partial Overlap (TRUE)",
          "Bbox Partial Overlap (TRUE)",
          "Bbox Overlap (FALSE)",
          "Bbox Overlap (FALSE)",
          "Bbox Overlap (FALSE)",
          "Bbox Partial Overlap (TRUE)",
          "Bbox Overlap (FALSE)",
          "Bbox Overlap (FALSE)",
          "Bbox Overlap (FALSE)",
          "Bbox Overlap (FALSE)",
          "Bbox Overlap (FALSE)",
          "Bbox Overlap (FALSE)",
          "Bbox Overlap (FALSE)",
          "Bbox Partial Overlap (TRUE)",
          "Bbox Partial Overlap (TRUE)",
          "Bbox Overlap (FALSE)",
          "Bbox Partial Overlap (TRUE)",
          "Bbox Partial Overlap (TRUE)",
          "Bbox Partial Overlap (TRUE)",
          "Bbox Partial Overlap (TRUE)",
          "Bbox Partial Overlap (TRUE)",
          "Bbox Partial Overlap (TRUE)",
          "Bbox Partial Overlap (TRUE)",
          "Bbox Partial Overlap (TRUE)",
          "Bbox Overlap (FALSE)",
          "Bbox Overlap (FALSE)",
          "Bbox Overlap (FALSE)",
          "Bbox Overlap (FALSE)",
          "Bbox Partial Overlap (TRUE)",
          "Bbox Overlap (FALSE)",
          "Bbox Overlap (FALSE)",
          "Bbox Overlap (FALSE)",
          "Bbox Overlap (FALSE)",
          "Bbox Overlap (FALSE)",
          "Bbox Overlap (FALSE)",
          "Bbox Overlap (FALSE)",
          "Bbox Partial Overlap (TRUE)",
          "Bbox Partial Overlap (TRUE)",
          "Bbox Overlap (FALSE)",
          "Bbox Partial Overlap (TRUE)"
         ],
         "xaxis": "x2",
         "y": [
          0.0012320920068304986,
          0.0012425329914549366,
          0.00042846699943766,
          0.0010225570003967732,
          0.00022177900245878845,
          0.00048266799421980977,
          0.0004128599975956604,
          0.0005378259957069531,
          0.0006175590096972883,
          0.0004493830056162551,
          0.00011434100451879203,
          0.00021812198974657804,
          0.0001169620081782341,
          0.000581669999519363,
          0.0005417859938461334,
          0.0003316869988339022,
          0.00011347400140948594,
          0.0006162409990793094,
          0.0005859530065208673,
          0.0007000290061114356,
          0.00041509199945721775,
          0.0005731609999202192,
          0.000244909999310039,
          0.000527840995346196,
          0.0005802420055260882,
          0.0005642309988616034,
          0.0003614759916672483,
          0.0006245359982131049,
          0.0006727650034008548,
          0.0008330250129802153,
          0.00006944600318092853,
          0.0007259609992615879,
          0.0006265749980229884,
          0.0006892289966344833,
          0.0010098009952344,
          0.0005572330119321123,
          0.0006905749905854464,
          0.000720854994142428,
          0.0005324450030457228,
          0.0005284359940560535,
          0.0006791330088162795,
          0.0009940050076693296,
          0.001990049990126863,
          0.001392857011524029,
          0.0009753310005180538,
          0.002296880993526429,
          0.0009510700037935749,
          0.0009953289991244674,
          0.0011135940003441647,
          0.0011109269980806857,
          0.0001206880115205422,
          0.00028917800227645785,
          0.0004297230043448508,
          0.00036943300801794976,
          0.0008614079997641966,
          0.0006965670036152005,
          0.001047626996296458,
          0.0006178930052556098,
          0.0006145020015537739,
          0.0006976730073802173,
          0.001042320000124164,
          0.0006955449935048819,
          0.0007081229996401817,
          0.000873210999998264,
          0.0006168199906824157,
          0.0005976090033072978,
          0.0005940859991824254,
          0.000515923005877994,
          0.0004754779947688803,
          0.000502171998959966,
          0.0006277520005824044,
          0.00066496898944024,
          0.0006590539996977895,
          0.0005154029931873083,
          0.0007310039945878088,
          0.0000690930028213188,
          0.00023465898993890733,
          0.0000649150024401024,
          0.0008948489994509146,
          0.0002592859964352101,
          0.00006511399988085032,
          0.000256550993071869,
          0.0002523720031604171,
          0.00036548000934999436,
          0.000366368010872975,
          0.00025762700533960015,
          0.0004706860054284334,
          0.0013899299956392497,
          0.0002523720031604171,
          0.0006975280120968819,
          0.0005387919954955578,
          0.0005930019979132339,
          0.0006220719951670617,
          0.0008593569946242496,
          0.001471954004955478,
          0.0006930590025149286,
          0.0014617130073020235,
          0.00034708299790509045,
          0.0003523499908624217,
          0.0003778380050789565,
          0.0002444540004944429,
          0.000699982003425248,
          0.00034785299794748425,
          0.0007078659982653335,
          0.0002280220069224015,
          0.00022825199994258583,
          0.00006203500379342586,
          0.0000640479993307963,
          0.00006214498716872185,
          0.00041341199539601803,
          0.0003972220001742244,
          0.00006131699774414301,
          0.0003727290022652596
         ],
         "yaxis": "y2"
        },
        {
         "alignmentgroup": "True",
         "bingroup": "x",
         "histfunc": "avg",
         "hovertemplate": "Baseline=False<br>Sizes=Large<br>Context=%{x}<br>avg of total_time=%{y}<extra></extra>",
         "legendgroup": "False",
         "marker": {
          "color": "#EF553B",
          "pattern": {
           "shape": ""
          }
         },
         "name": "False",
         "offsetgroup": "False",
         "orientation": "v",
         "showlegend": false,
         "type": "histogram",
         "x": [
          "Bbox Partial Overlap (TRUE)",
          "Bbox Partial Overlap (TRUE)",
          "Bbox Partial Overlap (TRUE)",
          "Bbox Partial Overlap (TRUE)",
          "Bbox Partial Overlap (TRUE)",
          "Bbox Partial Overlap (TRUE)",
          "Bbox Partial Overlap (TRUE)",
          "Bbox Overlap (FALSE)",
          "Bbox Overlap (FALSE)",
          "Bbox Overlap (FALSE)",
          "Bbox Partial Overlap (TRUE)",
          "Bbox Overlap (FALSE)",
          "Bbox Partial Overlap (TRUE)",
          "Bbox Partial Overlap (TRUE)",
          "Bbox Partial Overlap (TRUE)",
          "Bbox Overlap (FALSE)",
          "Bbox Partial Overlap (TRUE)",
          "Bbox Partial Overlap (TRUE)",
          "Bbox Partial Overlap (TRUE)",
          "Bbox Overlap (FALSE)",
          "Bbox Partial Overlap (TRUE)",
          "Bbox Partial Overlap (TRUE)",
          "Bbox Overlap (FALSE)",
          "Bbox Partial Overlap (TRUE)",
          "Bbox Overlap (FALSE)",
          "Bbox Overlap (FALSE)",
          "Bbox Partial Overlap (TRUE)",
          "Bbox Partial Overlap (TRUE)",
          "Bbox Partial Overlap (TRUE)",
          "Bbox Partial Overlap (TRUE)",
          "Bbox Overlap (FALSE)",
          "Bbox Overlap (FALSE)",
          "Bbox Partial Overlap (TRUE)",
          "Bbox Overlap (FALSE)",
          "Bbox Partial Overlap (TRUE)",
          "Bbox Partial Overlap (TRUE)",
          "Bbox Partial Overlap (TRUE)",
          "Bbox Overlap (FALSE)",
          "Bbox Partial Overlap (TRUE)",
          "Bbox Partial Overlap (TRUE)",
          "Bbox Overlap (FALSE)",
          "Bbox Overlap (FALSE)",
          "Bbox Partial Overlap (TRUE)",
          "Bbox Partial Overlap (TRUE)",
          "Bbox Partial Overlap (TRUE)",
          "Bbox Overlap (FALSE)",
          "Bbox Partial Overlap (TRUE)",
          "Bbox Partial Overlap (TRUE)",
          "Bbox Partial Overlap (TRUE)",
          "Bbox Overlap (FALSE)",
          "Bbox Partial Overlap (TRUE)",
          "Bbox Partial Overlap (TRUE)",
          "Bbox Partial Overlap (TRUE)",
          "Bbox Partial Overlap (TRUE)",
          "Bbox Overlap (FALSE)",
          "Bbox Partial Overlap (TRUE)",
          "Bbox Overlap (FALSE)",
          "Bbox Partial Overlap (TRUE)",
          "Bbox Partial Overlap (TRUE)",
          "Bbox Partial Overlap (TRUE)",
          "Bbox Partial Overlap (TRUE)",
          "Bbox Partial Overlap (TRUE)",
          "Bbox Partial Overlap (TRUE)",
          "Bbox Partial Overlap (TRUE)",
          "Bbox Overlap (FALSE)",
          "Bbox Overlap (FALSE)",
          "Bbox Overlap (FALSE)",
          "Bbox Partial Overlap (TRUE)",
          "Bbox Partial Overlap (TRUE)",
          "Bbox Partial Overlap (TRUE)",
          "Bbox Partial Overlap (TRUE)",
          "Bbox Partial Overlap (TRUE)",
          "Bbox Partial Overlap (TRUE)",
          "Bbox Overlap (FALSE)",
          "Bbox Partial Overlap (TRUE)",
          "Bbox Partial Overlap (TRUE)",
          "Bbox Partial Overlap (TRUE)",
          "Bbox Partial Overlap (TRUE)",
          "Bbox Partial Overlap (TRUE)",
          "Bbox Partial Overlap (TRUE)",
          "Bbox Partial Overlap (TRUE)",
          "Bbox Partial Overlap (TRUE)",
          "Bbox Partial Overlap (TRUE)",
          "Bbox Partial Overlap (TRUE)",
          "Bbox Partial Overlap (TRUE)",
          "Bbox Overlap (FALSE)",
          "Bbox Overlap (FALSE)",
          "Bbox Partial Overlap (TRUE)",
          "Bbox Partial Overlap (TRUE)",
          "Bbox Partial Overlap (TRUE)",
          "Bbox Partial Overlap (TRUE)",
          "Bbox Partial Overlap (TRUE)",
          "Bbox Partial Overlap (TRUE)",
          "Bbox Partial Overlap (TRUE)",
          "Bbox Partial Overlap (TRUE)",
          "Bbox Overlap (FALSE)",
          "Bbox Overlap (FALSE)",
          "Bbox Overlap (FALSE)",
          "Bbox Overlap (FALSE)",
          "Bbox Overlap (FALSE)",
          "Bbox Overlap (FALSE)",
          "Bbox Overlap (FALSE)",
          "Bbox Overlap (FALSE)",
          "Bbox Overlap (FALSE)",
          "Bbox Overlap (FALSE)",
          "Bbox Overlap (FALSE)",
          "Bbox Overlap (FALSE)",
          "Bbox Overlap (FALSE)",
          "Bbox Overlap (FALSE)",
          "Bbox Overlap (FALSE)",
          "Bbox Overlap (FALSE)",
          "Bbox Overlap (FALSE)",
          "Bbox Overlap (FALSE)",
          "Bbox Overlap (FALSE)",
          "Bbox Overlap (FALSE)",
          "Bbox Overlap (FALSE)",
          "Bbox Overlap (FALSE)",
          "Bbox Overlap (FALSE)",
          "Bbox Overlap (FALSE)",
          "Bbox Overlap (FALSE)",
          "Bbox Overlap (FALSE)",
          "Bbox Overlap (FALSE)",
          "Bbox Overlap (FALSE)",
          "Bbox Overlap (FALSE)",
          "Bbox Overlap (FALSE)",
          "Bbox Overlap (FALSE)",
          "Bbox Overlap (FALSE)",
          "Bbox Overlap (FALSE)",
          "Bbox Overlap (FALSE)",
          "Bbox Overlap (FALSE)",
          "Bbox Overlap (FALSE)",
          "Bbox Overlap (FALSE)",
          "Bbox Overlap (FALSE)",
          "Bbox Overlap (FALSE)",
          "Bbox Overlap (FALSE)",
          "Bbox Overlap (FALSE)",
          "Bbox Overlap (FALSE)",
          "Bbox Overlap (FALSE)",
          "Bbox Overlap (FALSE)",
          "Bbox Overlap (FALSE)",
          "Bbox Overlap (FALSE)",
          "Bbox Overlap (FALSE)",
          "Bbox Overlap (FALSE)",
          "Bbox Overlap (FALSE)",
          "Bbox Overlap (FALSE)",
          "Bbox Overlap (FALSE)",
          "Bbox Overlap (FALSE)",
          "Bbox Overlap (FALSE)",
          "Bbox Overlap (FALSE)",
          "Bbox Overlap (FALSE)",
          "Bbox Overlap (FALSE)",
          "Bbox Overlap (FALSE)",
          "Bbox Overlap (FALSE)",
          "Bbox Overlap (FALSE)",
          "Bbox Overlap (FALSE)",
          "Bbox Overlap (FALSE)",
          "Bbox Overlap (FALSE)",
          "Bbox Overlap (FALSE)",
          "Bbox Overlap (FALSE)",
          "Bbox Overlap (FALSE)",
          "Bbox Overlap (FALSE)",
          "Bbox Overlap (FALSE)",
          "Bbox Overlap (FALSE)",
          "Bbox Overlap (FALSE)",
          "Bbox Overlap (FALSE)",
          "Bbox Overlap (FALSE)",
          "Bbox Overlap (FALSE)",
          "Bbox Overlap (FALSE)",
          "Bbox Overlap (FALSE)",
          "Bbox Overlap (FALSE)",
          "Bbox Overlap (FALSE)",
          "Bbox Overlap (FALSE)",
          "Bbox Overlap (FALSE)",
          "Bbox Overlap (FALSE)",
          "Bbox Overlap (FALSE)",
          "Bbox Overlap (FALSE)",
          "Bbox Overlap (FALSE)",
          "Bbox Overlap (FALSE)",
          "Bbox Overlap (FALSE)",
          "Bbox Overlap (FALSE)",
          "Bbox Overlap (FALSE)",
          "Bbox Overlap (FALSE)",
          "Bbox Overlap (FALSE)",
          "Bbox Overlap (FALSE)",
          "Bbox Overlap (FALSE)",
          "Bbox Partial Overlap (TRUE)",
          "Bbox Overlap (FALSE)",
          "Bbox Partial Overlap (TRUE)",
          "Bbox Partial Overlap (TRUE)",
          "Bbox Overlap (FALSE)",
          "Bbox Overlap (FALSE)",
          "Bbox Overlap (FALSE)",
          "Bbox Overlap (FALSE)",
          "Bbox Overlap (FALSE)",
          "Bbox Partial Overlap (TRUE)",
          "Bbox Overlap (FALSE)",
          "Bbox Overlap (FALSE)",
          "Bbox Overlap (FALSE)",
          "Bbox Partial Overlap (TRUE)",
          "Bbox Partial Overlap (TRUE)",
          "Bbox Overlap (FALSE)",
          "Bbox Partial Overlap (TRUE)",
          "Bbox Partial Overlap (TRUE)",
          "Bbox Partial Overlap (TRUE)",
          "Bbox Partial Overlap (TRUE)",
          "Bbox Partial Overlap (TRUE)",
          "Bbox Overlap (FALSE)",
          "Bbox Partial Overlap (TRUE)",
          "Bbox Overlap (FALSE)",
          "Bbox Overlap (FALSE)",
          "Bbox Overlap (FALSE)",
          "Bbox Overlap (FALSE)",
          "Bbox Overlap (FALSE)",
          "Bbox Partial Overlap (TRUE)",
          "Bbox Overlap (FALSE)",
          "Bbox Overlap (FALSE)",
          "Bbox Overlap (FALSE)",
          "Bbox Overlap (FALSE)",
          "Bbox Overlap (FALSE)",
          "Bbox Overlap (FALSE)",
          "Bbox Overlap (FALSE)",
          "Bbox Overlap (FALSE)",
          "Bbox Overlap (FALSE)",
          "Bbox Overlap (FALSE)",
          "Bbox Overlap (FALSE)",
          "Bbox Overlap (FALSE)",
          "Bbox Overlap (FALSE)",
          "Bbox Overlap (FALSE)",
          "Bbox Overlap (FALSE)",
          "Bbox Overlap (FALSE)",
          "Bbox Partial Overlap (TRUE)",
          "Bbox Overlap (FALSE)",
          "Bbox Partial Overlap (TRUE)",
          "Bbox Partial Overlap (TRUE)",
          "Bbox Overlap (FALSE)"
         ],
         "xaxis": "x3",
         "y": [
          0.009982058007153682,
          0.010019378998549655,
          0.003568455998902209,
          0.0011729709949577227,
          0.005695305997505784,
          0.003706878997036256,
          0.005469454001286067,
          0.00012972200056537986,
          0.0004926450055791065,
          0.0009076669957721606,
          0.010340434004319832,
          0.0002984239981742576,
          0.007902937999460846,
          0.009004093997646123,
          0.003944241994759068,
          0.00011953999637626112,
          0.010649841002305038,
          0.014457059995038435,
          0.0059216389927314594,
          0.0003349129983689636,
          0.023200366005767137,
          0.00601641800312791,
          0.0006928329967195168,
          0.00500966799154412,
          0.00031044200295582414,
          0.0003399459965294227,
          0.0029283360054250807,
          0.0037428910000016913,
          0.0028386899939505383,
          0.0034311039926251397,
          0.00010274999658577144,
          0.00024424899311270565,
          0.005567116997553967,
          0.00020983300055377185,
          0.001869580999482423,
          0.0031248279992723837,
          0.003999617998488247,
          0.00025909200485330075,
          0.01193378800235223,
          0.01569369700155221,
          0.00023072499607224017,
          0.00022072000137995929,
          0.00733974100148771,
          0.0032136279914993793,
          0.007307520994800143,
          0.0002496599918231368,
          0.0016401989996666089,
          0.005445652001071721,
          0.0038264739996520802,
          0.00018918199930340052,
          0.004846335999900475,
          0.0013831629912601784,
          0.006682277002255432,
          0.003867815001285635,
          0.00022995400649961084,
          0.018119685002602637,
          0.00023081200197339058,
          0.0052657000051112846,
          0.007262269005877897,
          0.0023367910034721717,
          0.0010884639923460782,
          0.005005995000828989,
          0.004016021004645154,
          0.0056906690006144345,
          0.00013259499974083155,
          0.00025529500271659344,
          0.00015322898980230093,
          0.02835975399648305,
          0.010020996007369831,
          0.0025668809976195917,
          0.0014968619943829253,
          0.0016319230053341016,
          0.007961729003000073,
          0.0002445310092298314,
          0.0060469689924502745,
          0.0026023410027846694,
          0.0011016880016541108,
          0.006256759996176697,
          0.004076074998010881,
          0.0026614410016918555,
          0.007015955008682795,
          0.0025110580027103424,
          0.0036047909961780533,
          0.008555509994039312,
          0.004264691000571474,
          0.00037417699059005827,
          0.00020388099073898047,
          0.009897621988784522,
          0.002831496996805072,
          0.0293849479930941,
          0.01393556701077614,
          0.014591522995033301,
          0.015435438996064477,
          0.009256374003598467,
          0.006936492005479522,
          0.00008715299190953374,
          0.0003343540010973811,
          0.00012860100832767785,
          0.0008071460033534095,
          0.00037617000634782016,
          0.0001056280016200617,
          0.000588916998822242,
          0.0001443539949832484,
          0.0009065430058399215,
          0.00018685399845708162,
          0.0001851029956014827,
          0.00025183400430250913,
          0.00016843598859850317,
          0.0011959829862462357,
          0.0013311380025697872,
          0.001010455991490744,
          0.0003737420047400519,
          0.0007082650117808953,
          0.00039778699283488095,
          0.003486225992674008,
          0.0019493180006975308,
          0.003494949996820651,
          0.0010760430013760924,
          0.0005325840029399842,
          0.0007557229982921854,
          0.00008947400783654302,
          0.0000943140039453283,
          0.00013478900655172765,
          0.00013427100202534348,
          0.00014149399066809565,
          0.00009133899584412575,
          0.0002651630056789145,
          0.0002641099999891594,
          0.000444050005171448,
          0.00029224800528027117,
          0.00017310700786765665,
          0.0007173439953476191,
          0.00047141400864347816,
          0.00015252199955284595,
          0.00016272999346256256,
          0.0005338090122677386,
          0.005128985008923337,
          0.0003055449924431741,
          0.0001894939923658967,
          0.0008049970056163147,
          0.00015643799270037562,
          0.00015633599832654,
          0.0006036060076439753,
          0.0006698920042254031,
          0.00014971900964155793,
          0.00015070899098645896,
          0.0006311409961199388,
          0.00020946799486409873,
          0.0002784500102279708,
          0.00038832699647173285,
          0.00021611599368043244,
          0.0002669340028660372,
          0.0001986639981623739,
          0.00032569900213275105,
          0.0005156669940333813,
          0.0005041209951741621,
          0.000276260994723998,
          0.0003513530100462958,
          0.0007005420047789812,
          0.0006994430004851893,
          0.0013139759976183996,
          0.00029402899963315576,
          0.00017707298684399575,
          0.00017453600594308227,
          0.0007464170048478991,
          0.001614869004697539,
          0.0002719019976211712,
          0.0003821620048256591,
          0.00027278299967292696,
          0.0003430009965086356,
          0.0002691929985303432,
          0.00033086199255194515,
          0.00026203600282315165,
          0.00034856099227909,
          0.00038389900873880833,
          0.00022746599279344082,
          0.000402146004489623,
          0.00035861200012732297,
          0.002166459002182819,
          0.00045232399133965373,
          0.0006515679997391999,
          0.0006445589970098808,
          0.0001849670079536736,
          0.0007967819983605295,
          0.0009868630004348233,
          0.0006849189958302304,
          0.0006212729931576177,
          0.0011579419951885939,
          0.0007945249963086098,
          0.00008808200072962791,
          0.0007804849883541465,
          0.0001508670102339238,
          0.0004276140098227188,
          0.0005248429952189326,
          0.007058746996335685,
          0.0001271840010304004,
          0.00015723000979050994,
          0.0003283179976278916,
          0.0023404910025419667,
          0.0015745160053484142,
          0.00008332899597007781,
          0.0008153480011969805,
          0.0010410899994894862,
          0.0010140049998881295,
          0.0015048549976199865,
          0.0015341329999500886,
          0.0007439339970005676,
          0.0008717029995750636,
          0.00008442500256933272,
          0.0005285989900585264,
          0.000829664000775665,
          0.0007726189942331985,
          0.0008489690080750734,
          0.002393706003203988,
          0.00019771901133935899,
          0.00010088599810842425,
          0.00009569100802764297,
          0.00012118200538679957,
          0.00009945999772753567,
          0.00044813999556936324,
          0.00044980700477026403,
          0.00011000700760632753,
          0.0003703580005094409,
          0.00007865999941714108,
          0.0009681710071163252,
          0.0009702809911686927,
          0.0001125150010921061,
          0.00037523600622080266,
          0.00014516300871036947,
          0.0001932199957082048,
          0.0008498889947077259,
          0.0006810060003772378,
          0.0008742979989619926,
          0.009136521010077558,
          0.00027780300297308713
         ],
         "yaxis": "y3"
        },
        {
         "alignmentgroup": "True",
         "bingroup": "x",
         "histfunc": "avg",
         "hovertemplate": "Baseline=False<br>Sizes=Small Large Mixed<br>Context=%{x}<br>avg of total_time=%{y}<extra></extra>",
         "legendgroup": "False",
         "marker": {
          "color": "#EF553B",
          "pattern": {
           "shape": ""
          }
         },
         "name": "False",
         "offsetgroup": "False",
         "orientation": "v",
         "showlegend": false,
         "type": "histogram",
         "x": [
          "Bbox Inside Other (TRUE)",
          "Bbox Inside Other (TRUE)",
          "Bbox Partial Overlap (TRUE)",
          "Bbox Partial Overlap (TRUE)",
          "Bbox Partial Overlap (TRUE)",
          "Bbox Partial Overlap (TRUE)",
          "Bbox Overlap (FALSE)",
          "Bbox Partial Overlap (TRUE)",
          "Bbox Overlap (FALSE)",
          "Bbox Overlap (FALSE)",
          "Bbox Overlap (FALSE)",
          "Bbox Overlap (FALSE)",
          "Bbox Overlap (FALSE)",
          "Bbox Overlap (FALSE)",
          "Bbox Overlap (FALSE)",
          "Bbox Partial Overlap (TRUE)",
          "Bbox Overlap (FALSE)",
          "Bbox Overlap (FALSE)",
          "Bbox Overlap (FALSE)",
          "Bbox Partial Overlap (TRUE)",
          "Bbox Overlap (FALSE)",
          "Bbox Overlap (FALSE)",
          "Bbox Partial Overlap (TRUE)",
          "Bbox Partial Overlap (TRUE)",
          "Bbox Overlap (FALSE)",
          "Bbox Partial Overlap (TRUE)",
          "Bbox Overlap (FALSE)",
          "Bbox Partial Overlap (TRUE)",
          "Bbox Overlap (FALSE)",
          "Bbox Overlap (FALSE)",
          "Bbox Overlap (FALSE)",
          "Bbox Overlap (FALSE)",
          "Bbox Partial Overlap (TRUE)",
          "Bbox Partial Overlap (TRUE)",
          "Bbox Overlap (FALSE)",
          "Bbox Overlap (FALSE)",
          "Bbox Overlap (FALSE)",
          "Bbox Overlap (FALSE)",
          "Bbox Overlap (FALSE)",
          "Bbox Overlap (FALSE)",
          "Bbox Overlap (FALSE)",
          "Bbox Overlap (FALSE)",
          "Bbox Overlap (FALSE)",
          "Bbox Overlap (FALSE)",
          "Bbox Overlap (FALSE)",
          "Bbox Overlap (FALSE)",
          "Bbox Overlap (FALSE)",
          "Bbox Overlap (FALSE)",
          "Bbox Overlap (FALSE)",
          "Bbox Overlap (FALSE)",
          "Bbox Overlap (FALSE)",
          "Bbox Overlap (FALSE)",
          "Bbox Overlap (FALSE)",
          "Bbox Overlap (FALSE)",
          "Bbox Overlap (FALSE)",
          "Bbox Overlap (FALSE)",
          "Bbox Overlap (FALSE)",
          "Bbox Overlap (FALSE)",
          "Bbox Overlap (FALSE)",
          "Bbox Overlap (FALSE)",
          "Bbox Overlap (FALSE)",
          "Bbox Overlap (FALSE)",
          "Bbox Partial Overlap (TRUE)",
          "Bbox Partial Overlap (TRUE)",
          "Bbox Partial Overlap (TRUE)",
          "Bbox Overlap (FALSE)",
          "Bbox Partial Overlap (TRUE)",
          "Bbox Overlap (FALSE)",
          "Bbox Partial Overlap (TRUE)",
          "Bbox Partial Overlap (TRUE)",
          "Bbox Partial Overlap (TRUE)",
          "Bbox Partial Overlap (TRUE)",
          "Bbox Overlap (FALSE)",
          "Bbox Overlap (FALSE)",
          "Bbox Overlap (FALSE)",
          "Bbox Overlap (FALSE)",
          "Bbox Overlap (FALSE)",
          "Bbox Overlap (FALSE)",
          "Bbox Partial Overlap (TRUE)",
          "Bbox Overlap (FALSE)",
          "Bbox Overlap (FALSE)",
          "Bbox Overlap (FALSE)",
          "Bbox Overlap (FALSE)",
          "Bbox Partial Overlap (TRUE)",
          "Bbox Partial Overlap (TRUE)",
          "Bbox Partial Overlap (TRUE)",
          "Bbox Partial Overlap (TRUE)",
          "Bbox Partial Overlap (TRUE)",
          "Bbox Partial Overlap (TRUE)",
          "Bbox Overlap (FALSE)",
          "Bbox Overlap (FALSE)",
          "Bbox Overlap (FALSE)",
          "Bbox Partial Overlap (TRUE)",
          "Bbox Partial Overlap (TRUE)",
          "Bbox Overlap (FALSE)",
          "Bbox Partial Overlap (TRUE)",
          "Bbox Partial Overlap (TRUE)",
          "Bbox Overlap (FALSE)",
          "Bbox Overlap (FALSE)",
          "Bbox Partial Overlap (TRUE)",
          "Bbox Partial Overlap (TRUE)",
          "Bbox Overlap (FALSE)",
          "Bbox Overlap (FALSE)",
          "Bbox Partial Overlap (TRUE)",
          "Bbox Overlap (FALSE)",
          "Bbox Overlap (FALSE)",
          "Bbox Overlap (FALSE)",
          "Bbox Overlap (FALSE)",
          "Bbox Overlap (FALSE)",
          "Bbox Partial Overlap (TRUE)",
          "Bbox Partial Overlap (TRUE)",
          "Bbox Partial Overlap (TRUE)",
          "Bbox Partial Overlap (TRUE)",
          "Bbox Overlap (FALSE)",
          "Bbox Overlap (FALSE)",
          "Bbox Partial Overlap (TRUE)",
          "Bbox Overlap (FALSE)",
          "Bbox Partial Overlap (TRUE)",
          "Bbox Overlap (FALSE)",
          "Bbox Overlap (FALSE)",
          "Bbox Overlap (FALSE)",
          "Bbox Overlap (FALSE)",
          "Bbox Overlap (FALSE)",
          "Bbox Overlap (FALSE)",
          "Bbox Overlap (FALSE)",
          "Bbox Overlap (FALSE)",
          "Bbox Overlap (FALSE)",
          "Bbox Partial Overlap (TRUE)",
          "Bbox Overlap (FALSE)",
          "Bbox Overlap (FALSE)",
          "Bbox Overlap (FALSE)",
          "Bbox Overlap (FALSE)",
          "Bbox Partial Overlap (TRUE)",
          "Bbox Overlap (FALSE)",
          "Bbox Overlap (FALSE)",
          "Bbox Overlap (FALSE)",
          "Bbox Overlap (FALSE)",
          "Bbox Overlap (FALSE)",
          "Bbox Overlap (FALSE)",
          "Bbox Overlap (FALSE)",
          "Bbox Overlap (FALSE)",
          "Bbox Overlap (FALSE)",
          "Bbox Overlap (FALSE)",
          "Bbox Overlap (FALSE)",
          "Bbox Overlap (FALSE)",
          "Bbox Overlap (FALSE)",
          "Bbox Overlap (FALSE)",
          "Bbox Overlap (FALSE)",
          "Bbox Overlap (FALSE)",
          "Bbox Overlap (FALSE)",
          "Bbox Overlap (FALSE)",
          "Bbox Partial Overlap (TRUE)",
          "Bbox Overlap (FALSE)",
          "Bbox Overlap (FALSE)",
          "Bbox Overlap (FALSE)",
          "Bbox Overlap (FALSE)",
          "Bbox Overlap (FALSE)",
          "Bbox Overlap (FALSE)",
          "Bbox Overlap (FALSE)",
          "Bbox Overlap (FALSE)",
          "Bbox Overlap (FALSE)",
          "Bbox Overlap (FALSE)",
          "Bbox Overlap (FALSE)",
          "Bbox Partial Overlap (TRUE)",
          "Bbox Overlap (FALSE)",
          "Bbox Overlap (FALSE)",
          "Bbox Overlap (FALSE)",
          "Bbox Partial Overlap (TRUE)",
          "Bbox Overlap (FALSE)",
          "Bbox Overlap (FALSE)",
          "Bbox Partial Overlap (TRUE)",
          "Bbox Overlap (FALSE)",
          "Bbox Partial Overlap (TRUE)",
          "Bbox Overlap (FALSE)",
          "Bbox Overlap (FALSE)",
          "Bbox Overlap (FALSE)",
          "Bbox Overlap (FALSE)",
          "Bbox Overlap (FALSE)",
          "Bbox Overlap (FALSE)",
          "Bbox Overlap (FALSE)",
          "Bbox Overlap (FALSE)",
          "Bbox Overlap (FALSE)",
          "Bbox Overlap (FALSE)",
          "Bbox Overlap (FALSE)",
          "Bbox Partial Overlap (TRUE)",
          "Bbox Overlap (FALSE)",
          "Bbox Overlap (FALSE)",
          "Bbox Partial Overlap (TRUE)",
          "Bbox Overlap (FALSE)",
          "Bbox Overlap (FALSE)",
          "Bbox Overlap (FALSE)",
          "Bbox Overlap (FALSE)",
          "Bbox Overlap (FALSE)",
          "Bbox Partial Overlap (TRUE)",
          "Bbox Overlap (FALSE)",
          "Bbox Overlap (FALSE)",
          "Bbox Overlap (FALSE)",
          "Bbox Overlap (FALSE)",
          "Bbox Overlap (FALSE)",
          "Bbox Overlap (FALSE)",
          "Bbox Overlap (FALSE)",
          "Bbox Overlap (FALSE)",
          "Bbox Overlap (FALSE)",
          "Bbox Overlap (FALSE)",
          "Bbox Overlap (FALSE)",
          "Bbox Overlap (FALSE)",
          "Bbox Overlap (FALSE)",
          "Bbox Overlap (FALSE)",
          "Bbox Overlap (FALSE)",
          "Bbox Overlap (FALSE)",
          "Bbox Overlap (FALSE)",
          "Bbox Overlap (FALSE)",
          "Bbox Overlap (FALSE)",
          "Bbox Overlap (FALSE)",
          "Bbox Overlap (FALSE)",
          "Bbox Overlap (FALSE)",
          "Bbox Overlap (FALSE)",
          "Bbox Overlap (FALSE)",
          "Bbox Overlap (FALSE)",
          "Bbox Overlap (FALSE)",
          "Bbox Overlap (FALSE)",
          "Bbox Overlap (FALSE)",
          "Bbox Overlap (FALSE)",
          "Bbox Overlap (FALSE)",
          "Bbox Overlap (FALSE)",
          "Bbox Overlap (FALSE)",
          "Bbox Overlap (FALSE)",
          "Bbox Partial Overlap (TRUE)",
          "Bbox Overlap (FALSE)",
          "Bbox Overlap (FALSE)",
          "Bbox Overlap (FALSE)",
          "Bbox Overlap (FALSE)",
          "Bbox Overlap (FALSE)",
          "Bbox Overlap (FALSE)",
          "Bbox Overlap (FALSE)",
          "Bbox Overlap (FALSE)",
          "Bbox Overlap (FALSE)",
          "Bbox Overlap (FALSE)",
          "Bbox Overlap (FALSE)",
          "Bbox Overlap (FALSE)",
          "Bbox Overlap (FALSE)",
          "Bbox Overlap (FALSE)",
          "Bbox Overlap (FALSE)",
          "Bbox Overlap (FALSE)",
          "Bbox Overlap (FALSE)",
          "Bbox Overlap (FALSE)",
          "Bbox Overlap (FALSE)",
          "Bbox Overlap (FALSE)",
          "Bbox Overlap (FALSE)",
          "Bbox Overlap (FALSE)",
          "Bbox Overlap (FALSE)",
          "Bbox Overlap (FALSE)",
          "Bbox Overlap (FALSE)",
          "Bbox Overlap (FALSE)",
          "Bbox Overlap (FALSE)",
          "Bbox Overlap (FALSE)"
         ],
         "xaxis": "x4",
         "y": [
          0.0005352150037651882,
          0.0005254599964246154,
          0.0030408710008487105,
          0.0013220209948485717,
          0.0013293639931362122,
          0.0013028310058871284,
          0.0007468149997293949,
          0.0004063700034748763,
          0.00006602700159419328,
          0.0009519759914837778,
          0.00009221899381373078,
          0.000550319004105404,
          0.0003338800015626475,
          0.00008798600174486637,
          0.00014394799654837698,
          0.0009652860026108101,
          0.00013523500820156187,
          0.00043762200220953673,
          0.00007335700502153486,
          0.0010322970047127455,
          0.0005842239916091785,
          0.00006552999548148364,
          0.0007308180065592751,
          0.0007886649982538074,
          0.00011008499132003635,
          0.0009671800071373582,
          0.00008725198858883232,
          0.001137521001510322,
          0.00008246500510722399,
          0.00013933599984738976,
          0.0006504069897346199,
          0.0006964240019442514,
          0.0007385990029433742,
          0.0006873609963804483,
          0.00037645400152541697,
          0.0004916010075248778,
          0.0009641250071581453,
          0.0005451790057122707,
          0.0004889460105914623,
          0.0003975220024585724,
          0.0001489080023020506,
          0.0001436279999325052,
          0.0001506910048192367,
          0.00014409399591386318,
          0.00014400399231817573,
          0.00015176000306382775,
          0.0004722540033981204,
          0.000587830989388749,
          0.0006178220064612105,
          0.000690657994709909,
          0.00044439799967221916,
          0.00044221399002708495,
          0.0007086949917720631,
          0.0006071770039852709,
          0.0005733300058636814,
          0.0007184690039139241,
          0.0004015050071757287,
          0.00020853399473708123,
          0.0008443690021522343,
          0.0003645149990916252,
          0.0003896370035363361,
          0.00007840999751351774,
          0.0013103919918648899,
          0.0033299680071650073,
          0.002256117993965745,
          0.00031015899730846286,
          0.0009251139999832958,
          0.00027654798759613186,
          0.0012715670018224046,
          0.003314564994070679,
          0.0022957089968258515,
          0.0006732010078849271,
          0.0001356450084131211,
          0.00013864701031707227,
          0.00018805998843163252,
          0.00013849699462298304,
          0.00035361798654776067,
          0.00046959699830040336,
          0.0014746509987162426,
          0.0011065139988204464,
          0.0007136579952202737,
          0.0005752529978053644,
          0.0005409110017353669,
          0.0010260919952997938,
          0.0005189660005271435,
          0.0004836449952563271,
          0.0007058490009512752,
          0.0006928160000825301,
          0.0008596190018579364,
          0.0004502649971982464,
          0.000591493007959798,
          0.00047425100638065487,
          0.0008493249915773049,
          0.0006701139936922118,
          0.0005383000097936019,
          0.0007076890033204108,
          0.0008432640024693683,
          0.00012748500739689916,
          0.00012532601249404252,
          0.0005867940053576604,
          0.0005770849966211244,
          0.0003804439911618829,
          0.0003801250131800771,
          0.0006731100002070889,
          0.0003892270033247769,
          0.0003620450006565079,
          0.0003511420072754845,
          0.00007488401024602354,
          0.00035868499253410846,
          0.0006656890036538243,
          0.0006494180124718696,
          0.0006504579941974953,
          0.0007594249909743667,
          0.0004107220011064783,
          0.0005645030032610521,
          0.0004887070099357516,
          0.0005534039955819026,
          0.0014917829976184294,
          0.0012827799946535379,
          0.0002717700117500499,
          0.0009360910044051707,
          0.00019802899623755366,
          0.0003696289932122454,
          0.00039991199446376413,
          0.0005293370049912483,
          0.00007199701212812215,
          0.00048255000729113817,
          0.0013893040013499558,
          0.0001349500089418143,
          0.0005371890001697466,
          0.0005609410000033677,
          0.000566846996662207,
          0.0009121659968513995,
          0.0006470819935202599,
          0.0007134530023904517,
          0.00015605200314894319,
          0.0001551160094095394,
          0.00015674399037379771,
          0.00015630600682925433,
          0.00015219800116028637,
          0.0002025480062002316,
          0.0002224769996246323,
          0.0005558319971896708,
          0.0013314850075403228,
          0.0008181519951904193,
          0.0004461920034373179,
          0.0009013469971250743,
          0.0008388260030187666,
          0.00008671099203638732,
          0.00014822400407865644,
          0.0001453260047128424,
          0.0006344720022752881,
          0.0003733869962161407,
          0.00011897299555130303,
          0.00012069901276845485,
          0.0005820319929625839,
          0.0005020700045861304,
          0.0004937960038660094,
          0.0006426299951272085,
          0.0006845629977760836,
          0.0007247110042953864,
          0.0005849799927091226,
          0.000636073003988713,
          0.0009136900043813512,
          0.00009104599303100258,
          0.00014917699445504695,
          0.0007157990039559081,
          0.00100430499878712,
          0.0003745940048247576,
          0.0007469420088455081,
          0.001365124000585638,
          0.0003910770028596744,
          0.0009478610008955002,
          0.00017592600488569587,
          0.00018746500427369028,
          0.0004893309960607439,
          0.00048666700604371727,
          0.00016051699640229344,
          0.0004989930021110922,
          0.00048655799764674157,
          0.00027870899066329,
          0.00034627299464773387,
          0.0004715590039268136,
          0.000384733997634612,
          0.0007087220001267269,
          0.0004879609914496541,
          0.00045186599891167134,
          0.0004901009961031377,
          0.00017618099809624255,
          0.00018458299746271223,
          0.00017830799333751202,
          0.00018070299120154232,
          0.0001787289947969839,
          0.0005052969936514273,
          0.00017658399883657694,
          0.00016975299513433129,
          0.00016646400035824627,
          0.0001328999933321029,
          0.00013676099479198456,
          0.00014100399857852608,
          0.00008425599662587047,
          0.00009658999624662101,
          0.00009912099631037563,
          0.00010175700299441814,
          0.00010068999836221337,
          0.00010093000310007483,
          0.00016878599126357585,
          0.00009899299766402692,
          0.00014039200323168188,
          0.00009722299000713974,
          0.00010056800965685397,
          0.00010862000635825098,
          0.00010353900142945349,
          0.00009937401046045125,
          0.00010429800022393465,
          0.00010197100345976651,
          0.00010463299986440688,
          0.00010452700371388346,
          0.00009796400263439864,
          0.00010597700020298362,
          0.00010958699567709118,
          0.00010940300126094371,
          0.00010311500227544457,
          0.00010507200204301625,
          0.00010076499893330038,
          0.00009735199273563921,
          0.00010217999806627631,
          0.0004460010095499456,
          0.00010222601122222841,
          0.000099409997346811,
          0.00010175399074796587,
          0.00009556299482937902,
          0.0000965249928412959,
          0.00011634799011517316,
          0.0001428769901394844,
          0.00014850999286863953,
          0.00012675600009970367,
          0.00010083799134008586,
          0.00017371900321450084,
          0.00010101099906023592,
          0.00010461400961503386,
          0.00010937699698843062,
          0.00010365201160311699,
          0.00010360199667047709,
          0.0001025039964588359,
          0.00010533200111240149,
          0.00009876799595076591,
          0.00010354899859521538,
          0.0001396529987687245,
          0.0000996430026134476,
          0.00010165499406866729,
          0.00010206799197476357,
          0.00010331100202165544,
          0.00010750499495770782,
          0.00007609199383296072,
          0.00007991500024218112
         ],
         "yaxis": "y4"
        },
        {
         "alignmentgroup": "True",
         "bingroup": "x",
         "histfunc": "avg",
         "hovertemplate": "Baseline=False<br>Sizes=Medium Large Mixed<br>Context=%{x}<br>avg of total_time=%{y}<extra></extra>",
         "legendgroup": "False",
         "marker": {
          "color": "#EF553B",
          "pattern": {
           "shape": ""
          }
         },
         "name": "False",
         "offsetgroup": "False",
         "orientation": "v",
         "showlegend": false,
         "type": "histogram",
         "x": [
          "Bbox Overlap (FALSE)",
          "Bbox Overlap (FALSE)",
          "Bbox Overlap (FALSE)",
          "Bbox Overlap (FALSE)",
          "Bbox Overlap (FALSE)",
          "Bbox Overlap (FALSE)",
          "Bbox Overlap (FALSE)",
          "Bbox Overlap (FALSE)",
          "Bbox Partial Overlap (TRUE)",
          "Bbox Partial Overlap (TRUE)",
          "Bbox Overlap (FALSE)",
          "Bbox Partial Overlap (TRUE)",
          "Bbox Overlap (FALSE)",
          "Bbox Overlap (FALSE)",
          "Bbox Overlap (FALSE)",
          "Bbox Partial Overlap (TRUE)",
          "Bbox Overlap (FALSE)",
          "Bbox Overlap (FALSE)",
          "Bbox Overlap (FALSE)",
          "Bbox Overlap (FALSE)",
          "Bbox Partial Overlap (TRUE)",
          "Bbox Partial Overlap (TRUE)",
          "Bbox Overlap (FALSE)",
          "Bbox Partial Overlap (TRUE)",
          "Bbox Partial Overlap (TRUE)",
          "Bbox Overlap (FALSE)",
          "Bbox Overlap (FALSE)",
          "Bbox Overlap (FALSE)",
          "Bbox Partial Overlap (TRUE)",
          "Bbox Partial Overlap (TRUE)",
          "Bbox Partial Overlap (TRUE)",
          "Bbox Overlap (FALSE)",
          "Bbox Partial Overlap (TRUE)",
          "Bbox Partial Overlap (TRUE)",
          "Bbox Partial Overlap (TRUE)",
          "Bbox Overlap (FALSE)",
          "Bbox Partial Overlap (TRUE)",
          "Bbox Overlap (FALSE)",
          "Bbox Overlap (FALSE)",
          "Bbox Overlap (FALSE)",
          "Bbox Overlap (FALSE)",
          "Bbox Overlap (FALSE)",
          "Bbox Overlap (FALSE)",
          "Bbox Overlap (FALSE)",
          "Bbox Overlap (FALSE)",
          "Bbox Overlap (FALSE)",
          "Bbox Overlap (FALSE)",
          "Bbox Overlap (FALSE)",
          "Bbox Overlap (FALSE)",
          "Bbox Overlap (FALSE)",
          "Bbox Overlap (FALSE)",
          "Bbox Overlap (FALSE)",
          "Bbox Partial Overlap (TRUE)",
          "Bbox Partial Overlap (TRUE)",
          "Bbox Overlap (FALSE)",
          "Bbox Overlap (FALSE)",
          "Bbox Overlap (FALSE)",
          "Bbox Overlap (FALSE)",
          "Bbox Overlap (FALSE)",
          "Bbox Overlap (FALSE)",
          "Bbox Overlap (FALSE)",
          "Bbox Overlap (FALSE)",
          "Bbox Partial Overlap (TRUE)",
          "Bbox Overlap (FALSE)",
          "Bbox Overlap (FALSE)",
          "Bbox Overlap (FALSE)",
          "Bbox Overlap (FALSE)",
          "Bbox Overlap (FALSE)",
          "Bbox Partial Overlap (TRUE)",
          "Bbox Partial Overlap (TRUE)",
          "Bbox Overlap (FALSE)",
          "Bbox Overlap (FALSE)",
          "Bbox Partial Overlap (TRUE)",
          "Bbox Overlap (FALSE)",
          "Bbox Overlap (FALSE)",
          "Bbox Overlap (FALSE)",
          "Bbox Overlap (FALSE)",
          "Bbox Overlap (FALSE)",
          "Bbox Overlap (FALSE)",
          "Bbox Overlap (FALSE)"
         ],
         "xaxis": "x5",
         "y": [
          0.0003100219910265878,
          0.0003060480084968731,
          0.00031300100090447813,
          0.0001730740041239187,
          0.00009028300701174885,
          0.0008802700031083077,
          0.001474952994612977,
          0.0008342910005012527,
          0.0008368970011360943,
          0.0008392239979002625,
          0.00043314600770827383,
          0.0006947339861653745,
          0.0007109529979061335,
          0.0008441669924650341,
          0.001137302999268286,
          0.0006509809900308028,
          0.0009319400123786181,
          0.0006849579949630424,
          0.00046716901124455035,
          0.0008148710039677098,
          0.0007264570012921467,
          0.0006520660099340603,
          0.00032190199999604374,
          0.00097374600591138,
          0.0009452239901293069,
          0.0003799980040639639,
          0.00008174999675247818,
          0.0004890949930995703,
          0.0007275210082298145,
          0.0008095439989119768,
          0.0010286129981977865,
          0.0003820300044026226,
          0.0006305809947662055,
          0.0006190020067151636,
          0.0006838869885541499,
          0.00039177300641313195,
          0.0007151669997256249,
          0.000656324002193287,
          0.000580138002987951,
          0.0006874200043966994,
          0.0003238669887650758,
          0.0006773399945814162,
          0.00007192700286395848,
          0.0003630900027928874,
          0.00036144600016996264,
          0.00046579800255130976,
          0.0004580140084726736,
          0.0008994769887067378,
          0.00031216499337460846,
          0.00008111499482765794,
          0.00031346500327344984,
          0.00030231301207095385,
          0.0006581819907296449,
          0.0008461429970338941,
          0.000455822009826079,
          0.00014612299855798483,
          0.0011058140080422163,
          0.0014654999977210537,
          0.0004697840049630031,
          0.0008599739958299324,
          0.001338870992185548,
          0.0005843940016347915,
          0.0009919160074787214,
          0.0006304759881459177,
          0.0005131320067448542,
          0.0005193429969949648,
          0.001047691999701783,
          0.0002230749960290268,
          0.0005616249982267618,
          0.0006939239974599332,
          0.00017128599574789405,
          0.00012207499821670353,
          0.0009280179947381839,
          0.00009784600115381181,
          0.0006097099976614118,
          0.00010974198812618852,
          0.00011889799498021603,
          0.00010982000094372779,
          0.00010987000132445246,
          0.00011376499605830759
         ],
         "yaxis": "y5"
        },
        {
         "alignmentgroup": "True",
         "bingroup": "x",
         "histfunc": "avg",
         "hovertemplate": "Baseline=False<br>Sizes=Medium<br>Context=%{x}<br>avg of total_time=%{y}<extra></extra>",
         "legendgroup": "False",
         "marker": {
          "color": "#EF553B",
          "pattern": {
           "shape": ""
          }
         },
         "name": "False",
         "offsetgroup": "False",
         "orientation": "v",
         "showlegend": false,
         "type": "histogram",
         "x": [
          "Bbox Overlap (FALSE)",
          "Bbox Overlap (FALSE)",
          "Bbox Overlap (FALSE)",
          "Bbox Partial Overlap (TRUE)",
          "Bbox Overlap (FALSE)",
          "Bbox Partial Overlap (TRUE)",
          "Bbox Partial Overlap (TRUE)",
          "Bbox Overlap (FALSE)",
          "Bbox Partial Overlap (TRUE)",
          "Bbox Partial Overlap (TRUE)",
          "Bbox Partial Overlap (TRUE)",
          "Bbox Partial Overlap (TRUE)",
          "Bbox Partial Overlap (TRUE)",
          "Bbox Partial Overlap (TRUE)",
          "Bbox Partial Overlap (TRUE)",
          "Bbox Overlap (FALSE)",
          "Bbox Overlap (FALSE)",
          "Bbox Overlap (FALSE)",
          "Bbox Partial Overlap (TRUE)",
          "Bbox Overlap (FALSE)",
          "Bbox Overlap (FALSE)",
          "Bbox Partial Overlap (TRUE)",
          "Bbox Partial Overlap (TRUE)",
          "Bbox Overlap (FALSE)",
          "Bbox Partial Overlap (TRUE)",
          "Bbox Overlap (FALSE)",
          "Bbox Partial Overlap (TRUE)"
         ],
         "xaxis": "x6",
         "y": [
          0.00089109200052917,
          0.00029571600316558033,
          0.00044182699639350176,
          0.0007045489910524338,
          0.0004551390011329204,
          0.0027244239900028333,
          0.0013795970007777214,
          0.0006394719966920093,
          0.0022895020083524287,
          0.002909112998167984,
          0.001652489008847624,
          0.0011856389901367947,
          0.0006740170065313578,
          0.0012194630107842386,
          0.0006788890023017302,
          0.00006943200423847884,
          0.00024572799156885594,
          0.00023886999406386167,
          0.0006889190117362887,
          0.0002745309902820736,
          0.0002769090060610324,
          0.00083816000551451,
          0.0006607269897358492,
          0.0002907110028900206,
          0.001401980989612639,
          0.0003926270001102239,
          0.0005794489989057183
         ],
         "yaxis": "y6"
        }
       ],
       "layout": {
        "annotations": [
         {
          "font": {},
          "showarrow": false,
          "text": "Sizes=Small",
          "x": 0.0625,
          "xanchor": "center",
          "xref": "paper",
          "y": 1,
          "yanchor": "bottom",
          "yref": "paper"
         },
         {
          "font": {},
          "showarrow": false,
          "text": "Sizes=Small Medium Mixed",
          "x": 0.2375,
          "xanchor": "center",
          "xref": "paper",
          "y": 1,
          "yanchor": "bottom",
          "yref": "paper"
         },
         {
          "font": {},
          "showarrow": false,
          "text": "Sizes=Large",
          "x": 0.4125,
          "xanchor": "center",
          "xref": "paper",
          "y": 1,
          "yanchor": "bottom",
          "yref": "paper"
         },
         {
          "font": {},
          "showarrow": false,
          "text": "Sizes=Small Large Mixed",
          "x": 0.5875,
          "xanchor": "center",
          "xref": "paper",
          "y": 1,
          "yanchor": "bottom",
          "yref": "paper"
         },
         {
          "font": {},
          "showarrow": false,
          "text": "Sizes=Medium Large Mixed",
          "x": 0.7625,
          "xanchor": "center",
          "xref": "paper",
          "y": 1,
          "yanchor": "bottom",
          "yref": "paper"
         },
         {
          "font": {},
          "showarrow": false,
          "text": "Sizes=Medium",
          "x": 0.9375,
          "xanchor": "center",
          "xref": "paper",
          "y": 1,
          "yanchor": "bottom",
          "yref": "paper"
         }
        ],
        "barmode": "group",
        "legend": {
         "title": {
          "text": "Baseline"
         },
         "tracegroupgap": 0
        },
        "template": {
         "data": {
          "bar": [
           {
            "error_x": {
             "color": "#2a3f5f"
            },
            "error_y": {
             "color": "#2a3f5f"
            },
            "marker": {
             "line": {
              "color": "#E5ECF6",
              "width": 0.5
             },
             "pattern": {
              "fillmode": "overlay",
              "size": 10,
              "solidity": 0.2
             }
            },
            "type": "bar"
           }
          ],
          "barpolar": [
           {
            "marker": {
             "line": {
              "color": "#E5ECF6",
              "width": 0.5
             },
             "pattern": {
              "fillmode": "overlay",
              "size": 10,
              "solidity": 0.2
             }
            },
            "type": "barpolar"
           }
          ],
          "carpet": [
           {
            "aaxis": {
             "endlinecolor": "#2a3f5f",
             "gridcolor": "white",
             "linecolor": "white",
             "minorgridcolor": "white",
             "startlinecolor": "#2a3f5f"
            },
            "baxis": {
             "endlinecolor": "#2a3f5f",
             "gridcolor": "white",
             "linecolor": "white",
             "minorgridcolor": "white",
             "startlinecolor": "#2a3f5f"
            },
            "type": "carpet"
           }
          ],
          "choropleth": [
           {
            "colorbar": {
             "outlinewidth": 0,
             "ticks": ""
            },
            "type": "choropleth"
           }
          ],
          "contour": [
           {
            "colorbar": {
             "outlinewidth": 0,
             "ticks": ""
            },
            "colorscale": [
             [
              0,
              "#0d0887"
             ],
             [
              0.1111111111111111,
              "#46039f"
             ],
             [
              0.2222222222222222,
              "#7201a8"
             ],
             [
              0.3333333333333333,
              "#9c179e"
             ],
             [
              0.4444444444444444,
              "#bd3786"
             ],
             [
              0.5555555555555556,
              "#d8576b"
             ],
             [
              0.6666666666666666,
              "#ed7953"
             ],
             [
              0.7777777777777778,
              "#fb9f3a"
             ],
             [
              0.8888888888888888,
              "#fdca26"
             ],
             [
              1,
              "#f0f921"
             ]
            ],
            "type": "contour"
           }
          ],
          "contourcarpet": [
           {
            "colorbar": {
             "outlinewidth": 0,
             "ticks": ""
            },
            "type": "contourcarpet"
           }
          ],
          "heatmap": [
           {
            "colorbar": {
             "outlinewidth": 0,
             "ticks": ""
            },
            "colorscale": [
             [
              0,
              "#0d0887"
             ],
             [
              0.1111111111111111,
              "#46039f"
             ],
             [
              0.2222222222222222,
              "#7201a8"
             ],
             [
              0.3333333333333333,
              "#9c179e"
             ],
             [
              0.4444444444444444,
              "#bd3786"
             ],
             [
              0.5555555555555556,
              "#d8576b"
             ],
             [
              0.6666666666666666,
              "#ed7953"
             ],
             [
              0.7777777777777778,
              "#fb9f3a"
             ],
             [
              0.8888888888888888,
              "#fdca26"
             ],
             [
              1,
              "#f0f921"
             ]
            ],
            "type": "heatmap"
           }
          ],
          "heatmapgl": [
           {
            "colorbar": {
             "outlinewidth": 0,
             "ticks": ""
            },
            "colorscale": [
             [
              0,
              "#0d0887"
             ],
             [
              0.1111111111111111,
              "#46039f"
             ],
             [
              0.2222222222222222,
              "#7201a8"
             ],
             [
              0.3333333333333333,
              "#9c179e"
             ],
             [
              0.4444444444444444,
              "#bd3786"
             ],
             [
              0.5555555555555556,
              "#d8576b"
             ],
             [
              0.6666666666666666,
              "#ed7953"
             ],
             [
              0.7777777777777778,
              "#fb9f3a"
             ],
             [
              0.8888888888888888,
              "#fdca26"
             ],
             [
              1,
              "#f0f921"
             ]
            ],
            "type": "heatmapgl"
           }
          ],
          "histogram": [
           {
            "marker": {
             "pattern": {
              "fillmode": "overlay",
              "size": 10,
              "solidity": 0.2
             }
            },
            "type": "histogram"
           }
          ],
          "histogram2d": [
           {
            "colorbar": {
             "outlinewidth": 0,
             "ticks": ""
            },
            "colorscale": [
             [
              0,
              "#0d0887"
             ],
             [
              0.1111111111111111,
              "#46039f"
             ],
             [
              0.2222222222222222,
              "#7201a8"
             ],
             [
              0.3333333333333333,
              "#9c179e"
             ],
             [
              0.4444444444444444,
              "#bd3786"
             ],
             [
              0.5555555555555556,
              "#d8576b"
             ],
             [
              0.6666666666666666,
              "#ed7953"
             ],
             [
              0.7777777777777778,
              "#fb9f3a"
             ],
             [
              0.8888888888888888,
              "#fdca26"
             ],
             [
              1,
              "#f0f921"
             ]
            ],
            "type": "histogram2d"
           }
          ],
          "histogram2dcontour": [
           {
            "colorbar": {
             "outlinewidth": 0,
             "ticks": ""
            },
            "colorscale": [
             [
              0,
              "#0d0887"
             ],
             [
              0.1111111111111111,
              "#46039f"
             ],
             [
              0.2222222222222222,
              "#7201a8"
             ],
             [
              0.3333333333333333,
              "#9c179e"
             ],
             [
              0.4444444444444444,
              "#bd3786"
             ],
             [
              0.5555555555555556,
              "#d8576b"
             ],
             [
              0.6666666666666666,
              "#ed7953"
             ],
             [
              0.7777777777777778,
              "#fb9f3a"
             ],
             [
              0.8888888888888888,
              "#fdca26"
             ],
             [
              1,
              "#f0f921"
             ]
            ],
            "type": "histogram2dcontour"
           }
          ],
          "mesh3d": [
           {
            "colorbar": {
             "outlinewidth": 0,
             "ticks": ""
            },
            "type": "mesh3d"
           }
          ],
          "parcoords": [
           {
            "line": {
             "colorbar": {
              "outlinewidth": 0,
              "ticks": ""
             }
            },
            "type": "parcoords"
           }
          ],
          "pie": [
           {
            "automargin": true,
            "type": "pie"
           }
          ],
          "scatter": [
           {
            "fillpattern": {
             "fillmode": "overlay",
             "size": 10,
             "solidity": 0.2
            },
            "type": "scatter"
           }
          ],
          "scatter3d": [
           {
            "line": {
             "colorbar": {
              "outlinewidth": 0,
              "ticks": ""
             }
            },
            "marker": {
             "colorbar": {
              "outlinewidth": 0,
              "ticks": ""
             }
            },
            "type": "scatter3d"
           }
          ],
          "scattercarpet": [
           {
            "marker": {
             "colorbar": {
              "outlinewidth": 0,
              "ticks": ""
             }
            },
            "type": "scattercarpet"
           }
          ],
          "scattergeo": [
           {
            "marker": {
             "colorbar": {
              "outlinewidth": 0,
              "ticks": ""
             }
            },
            "type": "scattergeo"
           }
          ],
          "scattergl": [
           {
            "marker": {
             "colorbar": {
              "outlinewidth": 0,
              "ticks": ""
             }
            },
            "type": "scattergl"
           }
          ],
          "scattermapbox": [
           {
            "marker": {
             "colorbar": {
              "outlinewidth": 0,
              "ticks": ""
             }
            },
            "type": "scattermapbox"
           }
          ],
          "scatterpolar": [
           {
            "marker": {
             "colorbar": {
              "outlinewidth": 0,
              "ticks": ""
             }
            },
            "type": "scatterpolar"
           }
          ],
          "scatterpolargl": [
           {
            "marker": {
             "colorbar": {
              "outlinewidth": 0,
              "ticks": ""
             }
            },
            "type": "scatterpolargl"
           }
          ],
          "scatterternary": [
           {
            "marker": {
             "colorbar": {
              "outlinewidth": 0,
              "ticks": ""
             }
            },
            "type": "scatterternary"
           }
          ],
          "surface": [
           {
            "colorbar": {
             "outlinewidth": 0,
             "ticks": ""
            },
            "colorscale": [
             [
              0,
              "#0d0887"
             ],
             [
              0.1111111111111111,
              "#46039f"
             ],
             [
              0.2222222222222222,
              "#7201a8"
             ],
             [
              0.3333333333333333,
              "#9c179e"
             ],
             [
              0.4444444444444444,
              "#bd3786"
             ],
             [
              0.5555555555555556,
              "#d8576b"
             ],
             [
              0.6666666666666666,
              "#ed7953"
             ],
             [
              0.7777777777777778,
              "#fb9f3a"
             ],
             [
              0.8888888888888888,
              "#fdca26"
             ],
             [
              1,
              "#f0f921"
             ]
            ],
            "type": "surface"
           }
          ],
          "table": [
           {
            "cells": {
             "fill": {
              "color": "#EBF0F8"
             },
             "line": {
              "color": "white"
             }
            },
            "header": {
             "fill": {
              "color": "#C8D4E3"
             },
             "line": {
              "color": "white"
             }
            },
            "type": "table"
           }
          ]
         },
         "layout": {
          "annotationdefaults": {
           "arrowcolor": "#2a3f5f",
           "arrowhead": 0,
           "arrowwidth": 1
          },
          "autotypenumbers": "strict",
          "coloraxis": {
           "colorbar": {
            "outlinewidth": 0,
            "ticks": ""
           }
          },
          "colorscale": {
           "diverging": [
            [
             0,
             "#8e0152"
            ],
            [
             0.1,
             "#c51b7d"
            ],
            [
             0.2,
             "#de77ae"
            ],
            [
             0.3,
             "#f1b6da"
            ],
            [
             0.4,
             "#fde0ef"
            ],
            [
             0.5,
             "#f7f7f7"
            ],
            [
             0.6,
             "#e6f5d0"
            ],
            [
             0.7,
             "#b8e186"
            ],
            [
             0.8,
             "#7fbc41"
            ],
            [
             0.9,
             "#4d9221"
            ],
            [
             1,
             "#276419"
            ]
           ],
           "sequential": [
            [
             0,
             "#0d0887"
            ],
            [
             0.1111111111111111,
             "#46039f"
            ],
            [
             0.2222222222222222,
             "#7201a8"
            ],
            [
             0.3333333333333333,
             "#9c179e"
            ],
            [
             0.4444444444444444,
             "#bd3786"
            ],
            [
             0.5555555555555556,
             "#d8576b"
            ],
            [
             0.6666666666666666,
             "#ed7953"
            ],
            [
             0.7777777777777778,
             "#fb9f3a"
            ],
            [
             0.8888888888888888,
             "#fdca26"
            ],
            [
             1,
             "#f0f921"
            ]
           ],
           "sequentialminus": [
            [
             0,
             "#0d0887"
            ],
            [
             0.1111111111111111,
             "#46039f"
            ],
            [
             0.2222222222222222,
             "#7201a8"
            ],
            [
             0.3333333333333333,
             "#9c179e"
            ],
            [
             0.4444444444444444,
             "#bd3786"
            ],
            [
             0.5555555555555556,
             "#d8576b"
            ],
            [
             0.6666666666666666,
             "#ed7953"
            ],
            [
             0.7777777777777778,
             "#fb9f3a"
            ],
            [
             0.8888888888888888,
             "#fdca26"
            ],
            [
             1,
             "#f0f921"
            ]
           ]
          },
          "colorway": [
           "#636efa",
           "#EF553B",
           "#00cc96",
           "#ab63fa",
           "#FFA15A",
           "#19d3f3",
           "#FF6692",
           "#B6E880",
           "#FF97FF",
           "#FECB52"
          ],
          "font": {
           "color": "#2a3f5f"
          },
          "geo": {
           "bgcolor": "white",
           "lakecolor": "white",
           "landcolor": "#E5ECF6",
           "showlakes": true,
           "showland": true,
           "subunitcolor": "white"
          },
          "hoverlabel": {
           "align": "left"
          },
          "hovermode": "closest",
          "mapbox": {
           "style": "light"
          },
          "paper_bgcolor": "white",
          "plot_bgcolor": "#E5ECF6",
          "polar": {
           "angularaxis": {
            "gridcolor": "white",
            "linecolor": "white",
            "ticks": ""
           },
           "bgcolor": "#E5ECF6",
           "radialaxis": {
            "gridcolor": "white",
            "linecolor": "white",
            "ticks": ""
           }
          },
          "scene": {
           "xaxis": {
            "backgroundcolor": "#E5ECF6",
            "gridcolor": "white",
            "gridwidth": 2,
            "linecolor": "white",
            "showbackground": true,
            "ticks": "",
            "zerolinecolor": "white"
           },
           "yaxis": {
            "backgroundcolor": "#E5ECF6",
            "gridcolor": "white",
            "gridwidth": 2,
            "linecolor": "white",
            "showbackground": true,
            "ticks": "",
            "zerolinecolor": "white"
           },
           "zaxis": {
            "backgroundcolor": "#E5ECF6",
            "gridcolor": "white",
            "gridwidth": 2,
            "linecolor": "white",
            "showbackground": true,
            "ticks": "",
            "zerolinecolor": "white"
           }
          },
          "shapedefaults": {
           "line": {
            "color": "#2a3f5f"
           }
          },
          "ternary": {
           "aaxis": {
            "gridcolor": "white",
            "linecolor": "white",
            "ticks": ""
           },
           "baxis": {
            "gridcolor": "white",
            "linecolor": "white",
            "ticks": ""
           },
           "bgcolor": "#E5ECF6",
           "caxis": {
            "gridcolor": "white",
            "linecolor": "white",
            "ticks": ""
           }
          },
          "title": {
           "x": 0.05
          },
          "xaxis": {
           "automargin": true,
           "gridcolor": "white",
           "linecolor": "white",
           "ticks": "",
           "title": {
            "standoff": 15
           },
           "zerolinecolor": "white",
           "zerolinewidth": 2
          },
          "yaxis": {
           "automargin": true,
           "gridcolor": "white",
           "linecolor": "white",
           "ticks": "",
           "title": {
            "standoff": 15
           },
           "zerolinecolor": "white",
           "zerolinewidth": 2
          }
         }
        },
        "title": {
         "text": "Execution Time for Intersection in Different Contexts & Sizes"
        },
        "xaxis": {
         "anchor": "y",
         "domain": [
          0,
          0.125
         ],
         "title": {
          "text": "Context"
         }
        },
        "xaxis2": {
         "anchor": "y2",
         "domain": [
          0.175,
          0.3
         ],
         "matches": "x",
         "title": {
          "text": "Context"
         }
        },
        "xaxis3": {
         "anchor": "y3",
         "domain": [
          0.35,
          0.475
         ],
         "matches": "x",
         "title": {
          "text": "Context"
         }
        },
        "xaxis4": {
         "anchor": "y4",
         "domain": [
          0.525,
          0.65
         ],
         "matches": "x",
         "title": {
          "text": "Context"
         }
        },
        "xaxis5": {
         "anchor": "y5",
         "domain": [
          0.7,
          0.825
         ],
         "matches": "x",
         "title": {
          "text": "Context"
         }
        },
        "xaxis6": {
         "anchor": "y6",
         "domain": [
          0.875,
          1
         ],
         "matches": "x",
         "title": {
          "text": "Context"
         }
        },
        "yaxis": {
         "anchor": "x",
         "domain": [
          0,
          1
         ],
         "showticklabels": true,
         "title": {
          "text": "Mean Execution Time (s)"
         },
         "visible": true
        },
        "yaxis2": {
         "anchor": "x2",
         "domain": [
          0,
          1
         ],
         "showticklabels": true,
         "visible": true
        },
        "yaxis3": {
         "anchor": "x3",
         "domain": [
          0,
          1
         ],
         "showticklabels": true,
         "visible": true
        },
        "yaxis4": {
         "anchor": "x4",
         "domain": [
          0,
          1
         ],
         "showticklabels": true,
         "visible": true
        },
        "yaxis5": {
         "anchor": "x5",
         "domain": [
          0,
          1
         ],
         "showticklabels": true,
         "visible": true
        },
        "yaxis6": {
         "anchor": "x6",
         "domain": [
          0,
          1
         ],
         "showticklabels": true,
         "visible": true
        }
       }
      }
     },
     "metadata": {},
     "output_type": "display_data"
    }
   ],
   "source": [
    "plot_total_time_box(total_time_df, is_predicate=False, size_cat_excl=[], log_scale=True) #\n",
    "plot_total_time_bars(total_time_df, is_predicate=False, size_cat_excl=[], log_scale=False) #"
   ]
  },
  {
   "attachments": {},
   "cell_type": "markdown",
   "metadata": {},
   "source": [
    "#### (%) Unfolding of chunks"
   ]
  },
  {
   "cell_type": "code",
   "execution_count": 19,
   "metadata": {},
   "outputs": [
    {
     "data": {
      "application/vnd.plotly.v1+json": {
       "config": {
        "plotlyServerURL": "https://plot.ly"
       },
       "data": [
        {
         "name": "Chunk Fraction Unfolded",
         "orientation": "h",
         "type": "bar",
         "x": [
          79.16666666666666,
          27.27272727272727,
          42.857142857142854,
          3.8578208617050587,
          31.149591149591146,
          18.553600128334594,
          86.07142857142857,
          10.059570981796368,
          28.914768806073152,
          20.31406839609714,
          41.15177415177415,
          15.379107319883715,
          77.67514335577162,
          20.718696752021092,
          44.972249972249976
         ],
         "y": [
          [
           "Bbox Inside Other (TRUE)",
           "Bbox Inside Other (TRUE)",
           "Bbox Inside Other (TRUE)",
           "Bbox Overlap (FALSE)",
           "Bbox Overlap (FALSE)",
           "Bbox Overlap (FALSE)",
           "Bbox Overlap (FALSE)",
           "Bbox Overlap (FALSE)",
           "Bbox Overlap (FALSE)",
           "Bbox Partial Overlap (TRUE)",
           "Bbox Partial Overlap (TRUE)",
           "Bbox Partial Overlap (TRUE)",
           "Bbox Partial Overlap (TRUE)",
           "Bbox Partial Overlap (TRUE)",
           "Bbox Partial Overlap (TRUE)"
          ],
          [
           "Small",
           "Small Large Mixed",
           "Small Medium Mixed",
           "Large",
           "Medium",
           "Medium Large Mixed",
           "Small",
           "Small Large Mixed",
           "Small Medium Mixed",
           "Large",
           "Medium",
           "Medium Large Mixed",
           "Small",
           "Small Large Mixed",
           "Small Medium Mixed"
          ]
         ]
        }
       ],
       "layout": {
        "barmode": "relative",
        "template": {
         "data": {
          "bar": [
           {
            "error_x": {
             "color": "#2a3f5f"
            },
            "error_y": {
             "color": "#2a3f5f"
            },
            "marker": {
             "line": {
              "color": "#E5ECF6",
              "width": 0.5
             },
             "pattern": {
              "fillmode": "overlay",
              "size": 10,
              "solidity": 0.2
             }
            },
            "type": "bar"
           }
          ],
          "barpolar": [
           {
            "marker": {
             "line": {
              "color": "#E5ECF6",
              "width": 0.5
             },
             "pattern": {
              "fillmode": "overlay",
              "size": 10,
              "solidity": 0.2
             }
            },
            "type": "barpolar"
           }
          ],
          "carpet": [
           {
            "aaxis": {
             "endlinecolor": "#2a3f5f",
             "gridcolor": "white",
             "linecolor": "white",
             "minorgridcolor": "white",
             "startlinecolor": "#2a3f5f"
            },
            "baxis": {
             "endlinecolor": "#2a3f5f",
             "gridcolor": "white",
             "linecolor": "white",
             "minorgridcolor": "white",
             "startlinecolor": "#2a3f5f"
            },
            "type": "carpet"
           }
          ],
          "choropleth": [
           {
            "colorbar": {
             "outlinewidth": 0,
             "ticks": ""
            },
            "type": "choropleth"
           }
          ],
          "contour": [
           {
            "colorbar": {
             "outlinewidth": 0,
             "ticks": ""
            },
            "colorscale": [
             [
              0,
              "#0d0887"
             ],
             [
              0.1111111111111111,
              "#46039f"
             ],
             [
              0.2222222222222222,
              "#7201a8"
             ],
             [
              0.3333333333333333,
              "#9c179e"
             ],
             [
              0.4444444444444444,
              "#bd3786"
             ],
             [
              0.5555555555555556,
              "#d8576b"
             ],
             [
              0.6666666666666666,
              "#ed7953"
             ],
             [
              0.7777777777777778,
              "#fb9f3a"
             ],
             [
              0.8888888888888888,
              "#fdca26"
             ],
             [
              1,
              "#f0f921"
             ]
            ],
            "type": "contour"
           }
          ],
          "contourcarpet": [
           {
            "colorbar": {
             "outlinewidth": 0,
             "ticks": ""
            },
            "type": "contourcarpet"
           }
          ],
          "heatmap": [
           {
            "colorbar": {
             "outlinewidth": 0,
             "ticks": ""
            },
            "colorscale": [
             [
              0,
              "#0d0887"
             ],
             [
              0.1111111111111111,
              "#46039f"
             ],
             [
              0.2222222222222222,
              "#7201a8"
             ],
             [
              0.3333333333333333,
              "#9c179e"
             ],
             [
              0.4444444444444444,
              "#bd3786"
             ],
             [
              0.5555555555555556,
              "#d8576b"
             ],
             [
              0.6666666666666666,
              "#ed7953"
             ],
             [
              0.7777777777777778,
              "#fb9f3a"
             ],
             [
              0.8888888888888888,
              "#fdca26"
             ],
             [
              1,
              "#f0f921"
             ]
            ],
            "type": "heatmap"
           }
          ],
          "heatmapgl": [
           {
            "colorbar": {
             "outlinewidth": 0,
             "ticks": ""
            },
            "colorscale": [
             [
              0,
              "#0d0887"
             ],
             [
              0.1111111111111111,
              "#46039f"
             ],
             [
              0.2222222222222222,
              "#7201a8"
             ],
             [
              0.3333333333333333,
              "#9c179e"
             ],
             [
              0.4444444444444444,
              "#bd3786"
             ],
             [
              0.5555555555555556,
              "#d8576b"
             ],
             [
              0.6666666666666666,
              "#ed7953"
             ],
             [
              0.7777777777777778,
              "#fb9f3a"
             ],
             [
              0.8888888888888888,
              "#fdca26"
             ],
             [
              1,
              "#f0f921"
             ]
            ],
            "type": "heatmapgl"
           }
          ],
          "histogram": [
           {
            "marker": {
             "pattern": {
              "fillmode": "overlay",
              "size": 10,
              "solidity": 0.2
             }
            },
            "type": "histogram"
           }
          ],
          "histogram2d": [
           {
            "colorbar": {
             "outlinewidth": 0,
             "ticks": ""
            },
            "colorscale": [
             [
              0,
              "#0d0887"
             ],
             [
              0.1111111111111111,
              "#46039f"
             ],
             [
              0.2222222222222222,
              "#7201a8"
             ],
             [
              0.3333333333333333,
              "#9c179e"
             ],
             [
              0.4444444444444444,
              "#bd3786"
             ],
             [
              0.5555555555555556,
              "#d8576b"
             ],
             [
              0.6666666666666666,
              "#ed7953"
             ],
             [
              0.7777777777777778,
              "#fb9f3a"
             ],
             [
              0.8888888888888888,
              "#fdca26"
             ],
             [
              1,
              "#f0f921"
             ]
            ],
            "type": "histogram2d"
           }
          ],
          "histogram2dcontour": [
           {
            "colorbar": {
             "outlinewidth": 0,
             "ticks": ""
            },
            "colorscale": [
             [
              0,
              "#0d0887"
             ],
             [
              0.1111111111111111,
              "#46039f"
             ],
             [
              0.2222222222222222,
              "#7201a8"
             ],
             [
              0.3333333333333333,
              "#9c179e"
             ],
             [
              0.4444444444444444,
              "#bd3786"
             ],
             [
              0.5555555555555556,
              "#d8576b"
             ],
             [
              0.6666666666666666,
              "#ed7953"
             ],
             [
              0.7777777777777778,
              "#fb9f3a"
             ],
             [
              0.8888888888888888,
              "#fdca26"
             ],
             [
              1,
              "#f0f921"
             ]
            ],
            "type": "histogram2dcontour"
           }
          ],
          "mesh3d": [
           {
            "colorbar": {
             "outlinewidth": 0,
             "ticks": ""
            },
            "type": "mesh3d"
           }
          ],
          "parcoords": [
           {
            "line": {
             "colorbar": {
              "outlinewidth": 0,
              "ticks": ""
             }
            },
            "type": "parcoords"
           }
          ],
          "pie": [
           {
            "automargin": true,
            "type": "pie"
           }
          ],
          "scatter": [
           {
            "fillpattern": {
             "fillmode": "overlay",
             "size": 10,
             "solidity": 0.2
            },
            "type": "scatter"
           }
          ],
          "scatter3d": [
           {
            "line": {
             "colorbar": {
              "outlinewidth": 0,
              "ticks": ""
             }
            },
            "marker": {
             "colorbar": {
              "outlinewidth": 0,
              "ticks": ""
             }
            },
            "type": "scatter3d"
           }
          ],
          "scattercarpet": [
           {
            "marker": {
             "colorbar": {
              "outlinewidth": 0,
              "ticks": ""
             }
            },
            "type": "scattercarpet"
           }
          ],
          "scattergeo": [
           {
            "marker": {
             "colorbar": {
              "outlinewidth": 0,
              "ticks": ""
             }
            },
            "type": "scattergeo"
           }
          ],
          "scattergl": [
           {
            "marker": {
             "colorbar": {
              "outlinewidth": 0,
              "ticks": ""
             }
            },
            "type": "scattergl"
           }
          ],
          "scattermapbox": [
           {
            "marker": {
             "colorbar": {
              "outlinewidth": 0,
              "ticks": ""
             }
            },
            "type": "scattermapbox"
           }
          ],
          "scatterpolar": [
           {
            "marker": {
             "colorbar": {
              "outlinewidth": 0,
              "ticks": ""
             }
            },
            "type": "scatterpolar"
           }
          ],
          "scatterpolargl": [
           {
            "marker": {
             "colorbar": {
              "outlinewidth": 0,
              "ticks": ""
             }
            },
            "type": "scatterpolargl"
           }
          ],
          "scatterternary": [
           {
            "marker": {
             "colorbar": {
              "outlinewidth": 0,
              "ticks": ""
             }
            },
            "type": "scatterternary"
           }
          ],
          "surface": [
           {
            "colorbar": {
             "outlinewidth": 0,
             "ticks": ""
            },
            "colorscale": [
             [
              0,
              "#0d0887"
             ],
             [
              0.1111111111111111,
              "#46039f"
             ],
             [
              0.2222222222222222,
              "#7201a8"
             ],
             [
              0.3333333333333333,
              "#9c179e"
             ],
             [
              0.4444444444444444,
              "#bd3786"
             ],
             [
              0.5555555555555556,
              "#d8576b"
             ],
             [
              0.6666666666666666,
              "#ed7953"
             ],
             [
              0.7777777777777778,
              "#fb9f3a"
             ],
             [
              0.8888888888888888,
              "#fdca26"
             ],
             [
              1,
              "#f0f921"
             ]
            ],
            "type": "surface"
           }
          ],
          "table": [
           {
            "cells": {
             "fill": {
              "color": "#EBF0F8"
             },
             "line": {
              "color": "white"
             }
            },
            "header": {
             "fill": {
              "color": "#C8D4E3"
             },
             "line": {
              "color": "white"
             }
            },
            "type": "table"
           }
          ]
         },
         "layout": {
          "annotationdefaults": {
           "arrowcolor": "#2a3f5f",
           "arrowhead": 0,
           "arrowwidth": 1
          },
          "autotypenumbers": "strict",
          "coloraxis": {
           "colorbar": {
            "outlinewidth": 0,
            "ticks": ""
           }
          },
          "colorscale": {
           "diverging": [
            [
             0,
             "#8e0152"
            ],
            [
             0.1,
             "#c51b7d"
            ],
            [
             0.2,
             "#de77ae"
            ],
            [
             0.3,
             "#f1b6da"
            ],
            [
             0.4,
             "#fde0ef"
            ],
            [
             0.5,
             "#f7f7f7"
            ],
            [
             0.6,
             "#e6f5d0"
            ],
            [
             0.7,
             "#b8e186"
            ],
            [
             0.8,
             "#7fbc41"
            ],
            [
             0.9,
             "#4d9221"
            ],
            [
             1,
             "#276419"
            ]
           ],
           "sequential": [
            [
             0,
             "#0d0887"
            ],
            [
             0.1111111111111111,
             "#46039f"
            ],
            [
             0.2222222222222222,
             "#7201a8"
            ],
            [
             0.3333333333333333,
             "#9c179e"
            ],
            [
             0.4444444444444444,
             "#bd3786"
            ],
            [
             0.5555555555555556,
             "#d8576b"
            ],
            [
             0.6666666666666666,
             "#ed7953"
            ],
            [
             0.7777777777777778,
             "#fb9f3a"
            ],
            [
             0.8888888888888888,
             "#fdca26"
            ],
            [
             1,
             "#f0f921"
            ]
           ],
           "sequentialminus": [
            [
             0,
             "#0d0887"
            ],
            [
             0.1111111111111111,
             "#46039f"
            ],
            [
             0.2222222222222222,
             "#7201a8"
            ],
            [
             0.3333333333333333,
             "#9c179e"
            ],
            [
             0.4444444444444444,
             "#bd3786"
            ],
            [
             0.5555555555555556,
             "#d8576b"
            ],
            [
             0.6666666666666666,
             "#ed7953"
            ],
            [
             0.7777777777777778,
             "#fb9f3a"
            ],
            [
             0.8888888888888888,
             "#fdca26"
            ],
            [
             1,
             "#f0f921"
            ]
           ]
          },
          "colorway": [
           "#636efa",
           "#EF553B",
           "#00cc96",
           "#ab63fa",
           "#FFA15A",
           "#19d3f3",
           "#FF6692",
           "#B6E880",
           "#FF97FF",
           "#FECB52"
          ],
          "font": {
           "color": "#2a3f5f"
          },
          "geo": {
           "bgcolor": "white",
           "lakecolor": "white",
           "landcolor": "#E5ECF6",
           "showlakes": true,
           "showland": true,
           "subunitcolor": "white"
          },
          "hoverlabel": {
           "align": "left"
          },
          "hovermode": "closest",
          "mapbox": {
           "style": "light"
          },
          "paper_bgcolor": "white",
          "plot_bgcolor": "#E5ECF6",
          "polar": {
           "angularaxis": {
            "gridcolor": "white",
            "linecolor": "white",
            "ticks": ""
           },
           "bgcolor": "#E5ECF6",
           "radialaxis": {
            "gridcolor": "white",
            "linecolor": "white",
            "ticks": ""
           }
          },
          "scene": {
           "xaxis": {
            "backgroundcolor": "#E5ECF6",
            "gridcolor": "white",
            "gridwidth": 2,
            "linecolor": "white",
            "showbackground": true,
            "ticks": "",
            "zerolinecolor": "white"
           },
           "yaxis": {
            "backgroundcolor": "#E5ECF6",
            "gridcolor": "white",
            "gridwidth": 2,
            "linecolor": "white",
            "showbackground": true,
            "ticks": "",
            "zerolinecolor": "white"
           },
           "zaxis": {
            "backgroundcolor": "#E5ECF6",
            "gridcolor": "white",
            "gridwidth": 2,
            "linecolor": "white",
            "showbackground": true,
            "ticks": "",
            "zerolinecolor": "white"
           }
          },
          "shapedefaults": {
           "line": {
            "color": "#2a3f5f"
           }
          },
          "ternary": {
           "aaxis": {
            "gridcolor": "white",
            "linecolor": "white",
            "ticks": ""
           },
           "baxis": {
            "gridcolor": "white",
            "linecolor": "white",
            "ticks": ""
           },
           "bgcolor": "#E5ECF6",
           "caxis": {
            "gridcolor": "white",
            "linecolor": "white",
            "ticks": ""
           }
          },
          "title": {
           "x": 0.05
          },
          "xaxis": {
           "automargin": true,
           "gridcolor": "white",
           "linecolor": "white",
           "ticks": "",
           "title": {
            "standoff": 15
           },
           "zerolinecolor": "white",
           "zerolinewidth": 2
          },
          "yaxis": {
           "automargin": true,
           "gridcolor": "white",
           "linecolor": "white",
           "ticks": "",
           "title": {
            "standoff": 15
           },
           "zerolinecolor": "white",
           "zerolinewidth": 2
          }
         }
        },
        "title": {
         "text": "Fraction of Chunks Unfolded for Intersection ",
         "x": 0.5
        },
        "xaxis": {
         "title": {
          "text": "Chunks Unfolded (%)"
         }
        },
        "yaxis": {
         "title": {
          "text": "Context + Geometry Size"
         }
        }
       }
      }
     },
     "metadata": {},
     "output_type": "display_data"
    },
    {
     "data": {
      "application/vnd.plotly.v1+json": {
       "config": {
        "plotlyServerURL": "https://plot.ly"
       },
       "data": [
        {
         "name": "Chunk Fraction Unfolded",
         "orientation": "h",
         "type": "bar",
         "x": [
          79.16666666666666,
          27.27272727272727,
          42.857142857142854,
          3.8578208617050587,
          31.149591149591146,
          18.553600128334594,
          86.07142857142857,
          10.059570981796368,
          28.914768806073152,
          19.493274962444612,
          41.15177415177415,
          15.379107319883715,
          77.43954126153078,
          20.50502153834588,
          44.972249972249976
         ],
         "y": [
          [
           "Bbox Inside Other (TRUE)",
           "Bbox Inside Other (TRUE)",
           "Bbox Inside Other (TRUE)",
           "Bbox Overlap (FALSE)",
           "Bbox Overlap (FALSE)",
           "Bbox Overlap (FALSE)",
           "Bbox Overlap (FALSE)",
           "Bbox Overlap (FALSE)",
           "Bbox Overlap (FALSE)",
           "Bbox Partial Overlap (TRUE)",
           "Bbox Partial Overlap (TRUE)",
           "Bbox Partial Overlap (TRUE)",
           "Bbox Partial Overlap (TRUE)",
           "Bbox Partial Overlap (TRUE)",
           "Bbox Partial Overlap (TRUE)"
          ],
          [
           "Small",
           "Small Large Mixed",
           "Small Medium Mixed",
           "Large",
           "Medium",
           "Medium Large Mixed",
           "Small",
           "Small Large Mixed",
           "Small Medium Mixed",
           "Large",
           "Medium",
           "Medium Large Mixed",
           "Small",
           "Small Large Mixed",
           "Small Medium Mixed"
          ]
         ]
        }
       ],
       "layout": {
        "barmode": "relative",
        "template": {
         "data": {
          "bar": [
           {
            "error_x": {
             "color": "#2a3f5f"
            },
            "error_y": {
             "color": "#2a3f5f"
            },
            "marker": {
             "line": {
              "color": "#E5ECF6",
              "width": 0.5
             },
             "pattern": {
              "fillmode": "overlay",
              "size": 10,
              "solidity": 0.2
             }
            },
            "type": "bar"
           }
          ],
          "barpolar": [
           {
            "marker": {
             "line": {
              "color": "#E5ECF6",
              "width": 0.5
             },
             "pattern": {
              "fillmode": "overlay",
              "size": 10,
              "solidity": 0.2
             }
            },
            "type": "barpolar"
           }
          ],
          "carpet": [
           {
            "aaxis": {
             "endlinecolor": "#2a3f5f",
             "gridcolor": "white",
             "linecolor": "white",
             "minorgridcolor": "white",
             "startlinecolor": "#2a3f5f"
            },
            "baxis": {
             "endlinecolor": "#2a3f5f",
             "gridcolor": "white",
             "linecolor": "white",
             "minorgridcolor": "white",
             "startlinecolor": "#2a3f5f"
            },
            "type": "carpet"
           }
          ],
          "choropleth": [
           {
            "colorbar": {
             "outlinewidth": 0,
             "ticks": ""
            },
            "type": "choropleth"
           }
          ],
          "contour": [
           {
            "colorbar": {
             "outlinewidth": 0,
             "ticks": ""
            },
            "colorscale": [
             [
              0,
              "#0d0887"
             ],
             [
              0.1111111111111111,
              "#46039f"
             ],
             [
              0.2222222222222222,
              "#7201a8"
             ],
             [
              0.3333333333333333,
              "#9c179e"
             ],
             [
              0.4444444444444444,
              "#bd3786"
             ],
             [
              0.5555555555555556,
              "#d8576b"
             ],
             [
              0.6666666666666666,
              "#ed7953"
             ],
             [
              0.7777777777777778,
              "#fb9f3a"
             ],
             [
              0.8888888888888888,
              "#fdca26"
             ],
             [
              1,
              "#f0f921"
             ]
            ],
            "type": "contour"
           }
          ],
          "contourcarpet": [
           {
            "colorbar": {
             "outlinewidth": 0,
             "ticks": ""
            },
            "type": "contourcarpet"
           }
          ],
          "heatmap": [
           {
            "colorbar": {
             "outlinewidth": 0,
             "ticks": ""
            },
            "colorscale": [
             [
              0,
              "#0d0887"
             ],
             [
              0.1111111111111111,
              "#46039f"
             ],
             [
              0.2222222222222222,
              "#7201a8"
             ],
             [
              0.3333333333333333,
              "#9c179e"
             ],
             [
              0.4444444444444444,
              "#bd3786"
             ],
             [
              0.5555555555555556,
              "#d8576b"
             ],
             [
              0.6666666666666666,
              "#ed7953"
             ],
             [
              0.7777777777777778,
              "#fb9f3a"
             ],
             [
              0.8888888888888888,
              "#fdca26"
             ],
             [
              1,
              "#f0f921"
             ]
            ],
            "type": "heatmap"
           }
          ],
          "heatmapgl": [
           {
            "colorbar": {
             "outlinewidth": 0,
             "ticks": ""
            },
            "colorscale": [
             [
              0,
              "#0d0887"
             ],
             [
              0.1111111111111111,
              "#46039f"
             ],
             [
              0.2222222222222222,
              "#7201a8"
             ],
             [
              0.3333333333333333,
              "#9c179e"
             ],
             [
              0.4444444444444444,
              "#bd3786"
             ],
             [
              0.5555555555555556,
              "#d8576b"
             ],
             [
              0.6666666666666666,
              "#ed7953"
             ],
             [
              0.7777777777777778,
              "#fb9f3a"
             ],
             [
              0.8888888888888888,
              "#fdca26"
             ],
             [
              1,
              "#f0f921"
             ]
            ],
            "type": "heatmapgl"
           }
          ],
          "histogram": [
           {
            "marker": {
             "pattern": {
              "fillmode": "overlay",
              "size": 10,
              "solidity": 0.2
             }
            },
            "type": "histogram"
           }
          ],
          "histogram2d": [
           {
            "colorbar": {
             "outlinewidth": 0,
             "ticks": ""
            },
            "colorscale": [
             [
              0,
              "#0d0887"
             ],
             [
              0.1111111111111111,
              "#46039f"
             ],
             [
              0.2222222222222222,
              "#7201a8"
             ],
             [
              0.3333333333333333,
              "#9c179e"
             ],
             [
              0.4444444444444444,
              "#bd3786"
             ],
             [
              0.5555555555555556,
              "#d8576b"
             ],
             [
              0.6666666666666666,
              "#ed7953"
             ],
             [
              0.7777777777777778,
              "#fb9f3a"
             ],
             [
              0.8888888888888888,
              "#fdca26"
             ],
             [
              1,
              "#f0f921"
             ]
            ],
            "type": "histogram2d"
           }
          ],
          "histogram2dcontour": [
           {
            "colorbar": {
             "outlinewidth": 0,
             "ticks": ""
            },
            "colorscale": [
             [
              0,
              "#0d0887"
             ],
             [
              0.1111111111111111,
              "#46039f"
             ],
             [
              0.2222222222222222,
              "#7201a8"
             ],
             [
              0.3333333333333333,
              "#9c179e"
             ],
             [
              0.4444444444444444,
              "#bd3786"
             ],
             [
              0.5555555555555556,
              "#d8576b"
             ],
             [
              0.6666666666666666,
              "#ed7953"
             ],
             [
              0.7777777777777778,
              "#fb9f3a"
             ],
             [
              0.8888888888888888,
              "#fdca26"
             ],
             [
              1,
              "#f0f921"
             ]
            ],
            "type": "histogram2dcontour"
           }
          ],
          "mesh3d": [
           {
            "colorbar": {
             "outlinewidth": 0,
             "ticks": ""
            },
            "type": "mesh3d"
           }
          ],
          "parcoords": [
           {
            "line": {
             "colorbar": {
              "outlinewidth": 0,
              "ticks": ""
             }
            },
            "type": "parcoords"
           }
          ],
          "pie": [
           {
            "automargin": true,
            "type": "pie"
           }
          ],
          "scatter": [
           {
            "fillpattern": {
             "fillmode": "overlay",
             "size": 10,
             "solidity": 0.2
            },
            "type": "scatter"
           }
          ],
          "scatter3d": [
           {
            "line": {
             "colorbar": {
              "outlinewidth": 0,
              "ticks": ""
             }
            },
            "marker": {
             "colorbar": {
              "outlinewidth": 0,
              "ticks": ""
             }
            },
            "type": "scatter3d"
           }
          ],
          "scattercarpet": [
           {
            "marker": {
             "colorbar": {
              "outlinewidth": 0,
              "ticks": ""
             }
            },
            "type": "scattercarpet"
           }
          ],
          "scattergeo": [
           {
            "marker": {
             "colorbar": {
              "outlinewidth": 0,
              "ticks": ""
             }
            },
            "type": "scattergeo"
           }
          ],
          "scattergl": [
           {
            "marker": {
             "colorbar": {
              "outlinewidth": 0,
              "ticks": ""
             }
            },
            "type": "scattergl"
           }
          ],
          "scattermapbox": [
           {
            "marker": {
             "colorbar": {
              "outlinewidth": 0,
              "ticks": ""
             }
            },
            "type": "scattermapbox"
           }
          ],
          "scatterpolar": [
           {
            "marker": {
             "colorbar": {
              "outlinewidth": 0,
              "ticks": ""
             }
            },
            "type": "scatterpolar"
           }
          ],
          "scatterpolargl": [
           {
            "marker": {
             "colorbar": {
              "outlinewidth": 0,
              "ticks": ""
             }
            },
            "type": "scatterpolargl"
           }
          ],
          "scatterternary": [
           {
            "marker": {
             "colorbar": {
              "outlinewidth": 0,
              "ticks": ""
             }
            },
            "type": "scatterternary"
           }
          ],
          "surface": [
           {
            "colorbar": {
             "outlinewidth": 0,
             "ticks": ""
            },
            "colorscale": [
             [
              0,
              "#0d0887"
             ],
             [
              0.1111111111111111,
              "#46039f"
             ],
             [
              0.2222222222222222,
              "#7201a8"
             ],
             [
              0.3333333333333333,
              "#9c179e"
             ],
             [
              0.4444444444444444,
              "#bd3786"
             ],
             [
              0.5555555555555556,
              "#d8576b"
             ],
             [
              0.6666666666666666,
              "#ed7953"
             ],
             [
              0.7777777777777778,
              "#fb9f3a"
             ],
             [
              0.8888888888888888,
              "#fdca26"
             ],
             [
              1,
              "#f0f921"
             ]
            ],
            "type": "surface"
           }
          ],
          "table": [
           {
            "cells": {
             "fill": {
              "color": "#EBF0F8"
             },
             "line": {
              "color": "white"
             }
            },
            "header": {
             "fill": {
              "color": "#C8D4E3"
             },
             "line": {
              "color": "white"
             }
            },
            "type": "table"
           }
          ]
         },
         "layout": {
          "annotationdefaults": {
           "arrowcolor": "#2a3f5f",
           "arrowhead": 0,
           "arrowwidth": 1
          },
          "autotypenumbers": "strict",
          "coloraxis": {
           "colorbar": {
            "outlinewidth": 0,
            "ticks": ""
           }
          },
          "colorscale": {
           "diverging": [
            [
             0,
             "#8e0152"
            ],
            [
             0.1,
             "#c51b7d"
            ],
            [
             0.2,
             "#de77ae"
            ],
            [
             0.3,
             "#f1b6da"
            ],
            [
             0.4,
             "#fde0ef"
            ],
            [
             0.5,
             "#f7f7f7"
            ],
            [
             0.6,
             "#e6f5d0"
            ],
            [
             0.7,
             "#b8e186"
            ],
            [
             0.8,
             "#7fbc41"
            ],
            [
             0.9,
             "#4d9221"
            ],
            [
             1,
             "#276419"
            ]
           ],
           "sequential": [
            [
             0,
             "#0d0887"
            ],
            [
             0.1111111111111111,
             "#46039f"
            ],
            [
             0.2222222222222222,
             "#7201a8"
            ],
            [
             0.3333333333333333,
             "#9c179e"
            ],
            [
             0.4444444444444444,
             "#bd3786"
            ],
            [
             0.5555555555555556,
             "#d8576b"
            ],
            [
             0.6666666666666666,
             "#ed7953"
            ],
            [
             0.7777777777777778,
             "#fb9f3a"
            ],
            [
             0.8888888888888888,
             "#fdca26"
            ],
            [
             1,
             "#f0f921"
            ]
           ],
           "sequentialminus": [
            [
             0,
             "#0d0887"
            ],
            [
             0.1111111111111111,
             "#46039f"
            ],
            [
             0.2222222222222222,
             "#7201a8"
            ],
            [
             0.3333333333333333,
             "#9c179e"
            ],
            [
             0.4444444444444444,
             "#bd3786"
            ],
            [
             0.5555555555555556,
             "#d8576b"
            ],
            [
             0.6666666666666666,
             "#ed7953"
            ],
            [
             0.7777777777777778,
             "#fb9f3a"
            ],
            [
             0.8888888888888888,
             "#fdca26"
            ],
            [
             1,
             "#f0f921"
            ]
           ]
          },
          "colorway": [
           "#636efa",
           "#EF553B",
           "#00cc96",
           "#ab63fa",
           "#FFA15A",
           "#19d3f3",
           "#FF6692",
           "#B6E880",
           "#FF97FF",
           "#FECB52"
          ],
          "font": {
           "color": "#2a3f5f"
          },
          "geo": {
           "bgcolor": "white",
           "lakecolor": "white",
           "landcolor": "#E5ECF6",
           "showlakes": true,
           "showland": true,
           "subunitcolor": "white"
          },
          "hoverlabel": {
           "align": "left"
          },
          "hovermode": "closest",
          "mapbox": {
           "style": "light"
          },
          "paper_bgcolor": "white",
          "plot_bgcolor": "#E5ECF6",
          "polar": {
           "angularaxis": {
            "gridcolor": "white",
            "linecolor": "white",
            "ticks": ""
           },
           "bgcolor": "#E5ECF6",
           "radialaxis": {
            "gridcolor": "white",
            "linecolor": "white",
            "ticks": ""
           }
          },
          "scene": {
           "xaxis": {
            "backgroundcolor": "#E5ECF6",
            "gridcolor": "white",
            "gridwidth": 2,
            "linecolor": "white",
            "showbackground": true,
            "ticks": "",
            "zerolinecolor": "white"
           },
           "yaxis": {
            "backgroundcolor": "#E5ECF6",
            "gridcolor": "white",
            "gridwidth": 2,
            "linecolor": "white",
            "showbackground": true,
            "ticks": "",
            "zerolinecolor": "white"
           },
           "zaxis": {
            "backgroundcolor": "#E5ECF6",
            "gridcolor": "white",
            "gridwidth": 2,
            "linecolor": "white",
            "showbackground": true,
            "ticks": "",
            "zerolinecolor": "white"
           }
          },
          "shapedefaults": {
           "line": {
            "color": "#2a3f5f"
           }
          },
          "ternary": {
           "aaxis": {
            "gridcolor": "white",
            "linecolor": "white",
            "ticks": ""
           },
           "baxis": {
            "gridcolor": "white",
            "linecolor": "white",
            "ticks": ""
           },
           "bgcolor": "#E5ECF6",
           "caxis": {
            "gridcolor": "white",
            "linecolor": "white",
            "ticks": ""
           }
          },
          "title": {
           "x": 0.05
          },
          "xaxis": {
           "automargin": true,
           "gridcolor": "white",
           "linecolor": "white",
           "ticks": "",
           "title": {
            "standoff": 15
           },
           "zerolinecolor": "white",
           "zerolinewidth": 2
          },
          "yaxis": {
           "automargin": true,
           "gridcolor": "white",
           "linecolor": "white",
           "ticks": "",
           "title": {
            "standoff": 15
           },
           "zerolinecolor": "white",
           "zerolinewidth": 2
          }
         }
        },
        "title": {
         "text": "Fraction of Chunks Unfolded for IsIntersection ",
         "x": 0.5
        },
        "xaxis": {
         "title": {
          "text": "Chunks Unfolded (%)"
         }
        },
        "yaxis": {
         "title": {
          "text": "Context + Geometry Size"
         }
        }
       }
      }
     },
     "metadata": {},
     "output_type": "display_data"
    }
   ],
   "source": [
    "plot_chunk_unfolded_frac(chunk_unfolded_df, is_predicate=False, is_baseline=False)\n",
    "plot_chunk_unfolded_frac(chunk_unfolded_df, is_predicate=True, is_baseline=False)"
   ]
  },
  {
   "attachments": {},
   "cell_type": "markdown",
   "metadata": {},
   "source": [
    "#### Partial Decompression Fraction of Execution"
   ]
  },
  {
   "cell_type": "code",
   "execution_count": 20,
   "metadata": {},
   "outputs": [
    {
     "data": {
      "application/vnd.plotly.v1+json": {
       "config": {
        "plotlyServerURL": "https://plot.ly"
       },
       "data": [
        {
         "name": "Decompression Stage",
         "orientation": "h",
         "type": "bar",
         "x": [
          33.769962609595666,
          63.12688571578616,
          50.3566836248483,
          91.69683585640314,
          73.93223008388152,
          82.10754591122611,
          51.52252610561436,
          86.02291090974501,
          72.12229504632877,
          48.73507015752961,
          43.54369870726952,
          69.38139290625853,
          28.766276751177166,
          63.13891950245882,
          42.42479975766105
         ],
         "y": [
          [
           "Bbox Inside Other (TRUE)",
           "Bbox Inside Other (TRUE)",
           "Bbox Inside Other (TRUE)",
           "Bbox Overlap (FALSE)",
           "Bbox Overlap (FALSE)",
           "Bbox Overlap (FALSE)",
           "Bbox Overlap (FALSE)",
           "Bbox Overlap (FALSE)",
           "Bbox Overlap (FALSE)",
           "Bbox Partial Overlap (TRUE)",
           "Bbox Partial Overlap (TRUE)",
           "Bbox Partial Overlap (TRUE)",
           "Bbox Partial Overlap (TRUE)",
           "Bbox Partial Overlap (TRUE)",
           "Bbox Partial Overlap (TRUE)"
          ],
          [
           "Small",
           "Small Large Mixed",
           "Small Medium Mixed",
           "Large",
           "Medium",
           "Medium Large Mixed",
           "Small",
           "Small Large Mixed",
           "Small Medium Mixed",
           "Large",
           "Medium",
           "Medium Large Mixed",
           "Small",
           "Small Large Mixed",
           "Small Medium Mixed"
          ]
         ]
        },
        {
         "name": "Intersection",
         "orientation": "h",
         "type": "bar",
         "x": [
          66.23003739040433,
          36.87311428421384,
          49.6433163751517,
          8.303164143596867,
          26.067769916118475,
          17.892454088773885,
          48.47747389438564,
          13.977089090254987,
          27.87770495367123,
          51.26492984247039,
          56.45630129273048,
          30.61860709374148,
          71.23372324882283,
          36.86108049754118,
          57.57520024233895
         ],
         "y": [
          [
           "Bbox Inside Other (TRUE)",
           "Bbox Inside Other (TRUE)",
           "Bbox Inside Other (TRUE)",
           "Bbox Overlap (FALSE)",
           "Bbox Overlap (FALSE)",
           "Bbox Overlap (FALSE)",
           "Bbox Overlap (FALSE)",
           "Bbox Overlap (FALSE)",
           "Bbox Overlap (FALSE)",
           "Bbox Partial Overlap (TRUE)",
           "Bbox Partial Overlap (TRUE)",
           "Bbox Partial Overlap (TRUE)",
           "Bbox Partial Overlap (TRUE)",
           "Bbox Partial Overlap (TRUE)",
           "Bbox Partial Overlap (TRUE)"
          ],
          [
           "Small",
           "Small Large Mixed",
           "Small Medium Mixed",
           "Large",
           "Medium",
           "Medium Large Mixed",
           "Small",
           "Small Large Mixed",
           "Small Medium Mixed",
           "Large",
           "Medium",
           "Medium Large Mixed",
           "Small",
           "Small Large Mixed",
           "Small Medium Mixed"
          ]
         ]
        }
       ],
       "layout": {
        "barmode": "relative",
        "legend": {
         "x": 0.997,
         "xanchor": "right",
         "y": 1.2,
         "yanchor": "top"
        },
        "template": {
         "data": {
          "bar": [
           {
            "error_x": {
             "color": "#2a3f5f"
            },
            "error_y": {
             "color": "#2a3f5f"
            },
            "marker": {
             "line": {
              "color": "#E5ECF6",
              "width": 0.5
             },
             "pattern": {
              "fillmode": "overlay",
              "size": 10,
              "solidity": 0.2
             }
            },
            "type": "bar"
           }
          ],
          "barpolar": [
           {
            "marker": {
             "line": {
              "color": "#E5ECF6",
              "width": 0.5
             },
             "pattern": {
              "fillmode": "overlay",
              "size": 10,
              "solidity": 0.2
             }
            },
            "type": "barpolar"
           }
          ],
          "carpet": [
           {
            "aaxis": {
             "endlinecolor": "#2a3f5f",
             "gridcolor": "white",
             "linecolor": "white",
             "minorgridcolor": "white",
             "startlinecolor": "#2a3f5f"
            },
            "baxis": {
             "endlinecolor": "#2a3f5f",
             "gridcolor": "white",
             "linecolor": "white",
             "minorgridcolor": "white",
             "startlinecolor": "#2a3f5f"
            },
            "type": "carpet"
           }
          ],
          "choropleth": [
           {
            "colorbar": {
             "outlinewidth": 0,
             "ticks": ""
            },
            "type": "choropleth"
           }
          ],
          "contour": [
           {
            "colorbar": {
             "outlinewidth": 0,
             "ticks": ""
            },
            "colorscale": [
             [
              0,
              "#0d0887"
             ],
             [
              0.1111111111111111,
              "#46039f"
             ],
             [
              0.2222222222222222,
              "#7201a8"
             ],
             [
              0.3333333333333333,
              "#9c179e"
             ],
             [
              0.4444444444444444,
              "#bd3786"
             ],
             [
              0.5555555555555556,
              "#d8576b"
             ],
             [
              0.6666666666666666,
              "#ed7953"
             ],
             [
              0.7777777777777778,
              "#fb9f3a"
             ],
             [
              0.8888888888888888,
              "#fdca26"
             ],
             [
              1,
              "#f0f921"
             ]
            ],
            "type": "contour"
           }
          ],
          "contourcarpet": [
           {
            "colorbar": {
             "outlinewidth": 0,
             "ticks": ""
            },
            "type": "contourcarpet"
           }
          ],
          "heatmap": [
           {
            "colorbar": {
             "outlinewidth": 0,
             "ticks": ""
            },
            "colorscale": [
             [
              0,
              "#0d0887"
             ],
             [
              0.1111111111111111,
              "#46039f"
             ],
             [
              0.2222222222222222,
              "#7201a8"
             ],
             [
              0.3333333333333333,
              "#9c179e"
             ],
             [
              0.4444444444444444,
              "#bd3786"
             ],
             [
              0.5555555555555556,
              "#d8576b"
             ],
             [
              0.6666666666666666,
              "#ed7953"
             ],
             [
              0.7777777777777778,
              "#fb9f3a"
             ],
             [
              0.8888888888888888,
              "#fdca26"
             ],
             [
              1,
              "#f0f921"
             ]
            ],
            "type": "heatmap"
           }
          ],
          "heatmapgl": [
           {
            "colorbar": {
             "outlinewidth": 0,
             "ticks": ""
            },
            "colorscale": [
             [
              0,
              "#0d0887"
             ],
             [
              0.1111111111111111,
              "#46039f"
             ],
             [
              0.2222222222222222,
              "#7201a8"
             ],
             [
              0.3333333333333333,
              "#9c179e"
             ],
             [
              0.4444444444444444,
              "#bd3786"
             ],
             [
              0.5555555555555556,
              "#d8576b"
             ],
             [
              0.6666666666666666,
              "#ed7953"
             ],
             [
              0.7777777777777778,
              "#fb9f3a"
             ],
             [
              0.8888888888888888,
              "#fdca26"
             ],
             [
              1,
              "#f0f921"
             ]
            ],
            "type": "heatmapgl"
           }
          ],
          "histogram": [
           {
            "marker": {
             "pattern": {
              "fillmode": "overlay",
              "size": 10,
              "solidity": 0.2
             }
            },
            "type": "histogram"
           }
          ],
          "histogram2d": [
           {
            "colorbar": {
             "outlinewidth": 0,
             "ticks": ""
            },
            "colorscale": [
             [
              0,
              "#0d0887"
             ],
             [
              0.1111111111111111,
              "#46039f"
             ],
             [
              0.2222222222222222,
              "#7201a8"
             ],
             [
              0.3333333333333333,
              "#9c179e"
             ],
             [
              0.4444444444444444,
              "#bd3786"
             ],
             [
              0.5555555555555556,
              "#d8576b"
             ],
             [
              0.6666666666666666,
              "#ed7953"
             ],
             [
              0.7777777777777778,
              "#fb9f3a"
             ],
             [
              0.8888888888888888,
              "#fdca26"
             ],
             [
              1,
              "#f0f921"
             ]
            ],
            "type": "histogram2d"
           }
          ],
          "histogram2dcontour": [
           {
            "colorbar": {
             "outlinewidth": 0,
             "ticks": ""
            },
            "colorscale": [
             [
              0,
              "#0d0887"
             ],
             [
              0.1111111111111111,
              "#46039f"
             ],
             [
              0.2222222222222222,
              "#7201a8"
             ],
             [
              0.3333333333333333,
              "#9c179e"
             ],
             [
              0.4444444444444444,
              "#bd3786"
             ],
             [
              0.5555555555555556,
              "#d8576b"
             ],
             [
              0.6666666666666666,
              "#ed7953"
             ],
             [
              0.7777777777777778,
              "#fb9f3a"
             ],
             [
              0.8888888888888888,
              "#fdca26"
             ],
             [
              1,
              "#f0f921"
             ]
            ],
            "type": "histogram2dcontour"
           }
          ],
          "mesh3d": [
           {
            "colorbar": {
             "outlinewidth": 0,
             "ticks": ""
            },
            "type": "mesh3d"
           }
          ],
          "parcoords": [
           {
            "line": {
             "colorbar": {
              "outlinewidth": 0,
              "ticks": ""
             }
            },
            "type": "parcoords"
           }
          ],
          "pie": [
           {
            "automargin": true,
            "type": "pie"
           }
          ],
          "scatter": [
           {
            "fillpattern": {
             "fillmode": "overlay",
             "size": 10,
             "solidity": 0.2
            },
            "type": "scatter"
           }
          ],
          "scatter3d": [
           {
            "line": {
             "colorbar": {
              "outlinewidth": 0,
              "ticks": ""
             }
            },
            "marker": {
             "colorbar": {
              "outlinewidth": 0,
              "ticks": ""
             }
            },
            "type": "scatter3d"
           }
          ],
          "scattercarpet": [
           {
            "marker": {
             "colorbar": {
              "outlinewidth": 0,
              "ticks": ""
             }
            },
            "type": "scattercarpet"
           }
          ],
          "scattergeo": [
           {
            "marker": {
             "colorbar": {
              "outlinewidth": 0,
              "ticks": ""
             }
            },
            "type": "scattergeo"
           }
          ],
          "scattergl": [
           {
            "marker": {
             "colorbar": {
              "outlinewidth": 0,
              "ticks": ""
             }
            },
            "type": "scattergl"
           }
          ],
          "scattermapbox": [
           {
            "marker": {
             "colorbar": {
              "outlinewidth": 0,
              "ticks": ""
             }
            },
            "type": "scattermapbox"
           }
          ],
          "scatterpolar": [
           {
            "marker": {
             "colorbar": {
              "outlinewidth": 0,
              "ticks": ""
             }
            },
            "type": "scatterpolar"
           }
          ],
          "scatterpolargl": [
           {
            "marker": {
             "colorbar": {
              "outlinewidth": 0,
              "ticks": ""
             }
            },
            "type": "scatterpolargl"
           }
          ],
          "scatterternary": [
           {
            "marker": {
             "colorbar": {
              "outlinewidth": 0,
              "ticks": ""
             }
            },
            "type": "scatterternary"
           }
          ],
          "surface": [
           {
            "colorbar": {
             "outlinewidth": 0,
             "ticks": ""
            },
            "colorscale": [
             [
              0,
              "#0d0887"
             ],
             [
              0.1111111111111111,
              "#46039f"
             ],
             [
              0.2222222222222222,
              "#7201a8"
             ],
             [
              0.3333333333333333,
              "#9c179e"
             ],
             [
              0.4444444444444444,
              "#bd3786"
             ],
             [
              0.5555555555555556,
              "#d8576b"
             ],
             [
              0.6666666666666666,
              "#ed7953"
             ],
             [
              0.7777777777777778,
              "#fb9f3a"
             ],
             [
              0.8888888888888888,
              "#fdca26"
             ],
             [
              1,
              "#f0f921"
             ]
            ],
            "type": "surface"
           }
          ],
          "table": [
           {
            "cells": {
             "fill": {
              "color": "#EBF0F8"
             },
             "line": {
              "color": "white"
             }
            },
            "header": {
             "fill": {
              "color": "#C8D4E3"
             },
             "line": {
              "color": "white"
             }
            },
            "type": "table"
           }
          ]
         },
         "layout": {
          "annotationdefaults": {
           "arrowcolor": "#2a3f5f",
           "arrowhead": 0,
           "arrowwidth": 1
          },
          "autotypenumbers": "strict",
          "coloraxis": {
           "colorbar": {
            "outlinewidth": 0,
            "ticks": ""
           }
          },
          "colorscale": {
           "diverging": [
            [
             0,
             "#8e0152"
            ],
            [
             0.1,
             "#c51b7d"
            ],
            [
             0.2,
             "#de77ae"
            ],
            [
             0.3,
             "#f1b6da"
            ],
            [
             0.4,
             "#fde0ef"
            ],
            [
             0.5,
             "#f7f7f7"
            ],
            [
             0.6,
             "#e6f5d0"
            ],
            [
             0.7,
             "#b8e186"
            ],
            [
             0.8,
             "#7fbc41"
            ],
            [
             0.9,
             "#4d9221"
            ],
            [
             1,
             "#276419"
            ]
           ],
           "sequential": [
            [
             0,
             "#0d0887"
            ],
            [
             0.1111111111111111,
             "#46039f"
            ],
            [
             0.2222222222222222,
             "#7201a8"
            ],
            [
             0.3333333333333333,
             "#9c179e"
            ],
            [
             0.4444444444444444,
             "#bd3786"
            ],
            [
             0.5555555555555556,
             "#d8576b"
            ],
            [
             0.6666666666666666,
             "#ed7953"
            ],
            [
             0.7777777777777778,
             "#fb9f3a"
            ],
            [
             0.8888888888888888,
             "#fdca26"
            ],
            [
             1,
             "#f0f921"
            ]
           ],
           "sequentialminus": [
            [
             0,
             "#0d0887"
            ],
            [
             0.1111111111111111,
             "#46039f"
            ],
            [
             0.2222222222222222,
             "#7201a8"
            ],
            [
             0.3333333333333333,
             "#9c179e"
            ],
            [
             0.4444444444444444,
             "#bd3786"
            ],
            [
             0.5555555555555556,
             "#d8576b"
            ],
            [
             0.6666666666666666,
             "#ed7953"
            ],
            [
             0.7777777777777778,
             "#fb9f3a"
            ],
            [
             0.8888888888888888,
             "#fdca26"
            ],
            [
             1,
             "#f0f921"
            ]
           ]
          },
          "colorway": [
           "#636efa",
           "#EF553B",
           "#00cc96",
           "#ab63fa",
           "#FFA15A",
           "#19d3f3",
           "#FF6692",
           "#B6E880",
           "#FF97FF",
           "#FECB52"
          ],
          "font": {
           "color": "#2a3f5f"
          },
          "geo": {
           "bgcolor": "white",
           "lakecolor": "white",
           "landcolor": "#E5ECF6",
           "showlakes": true,
           "showland": true,
           "subunitcolor": "white"
          },
          "hoverlabel": {
           "align": "left"
          },
          "hovermode": "closest",
          "mapbox": {
           "style": "light"
          },
          "paper_bgcolor": "white",
          "plot_bgcolor": "#E5ECF6",
          "polar": {
           "angularaxis": {
            "gridcolor": "white",
            "linecolor": "white",
            "ticks": ""
           },
           "bgcolor": "#E5ECF6",
           "radialaxis": {
            "gridcolor": "white",
            "linecolor": "white",
            "ticks": ""
           }
          },
          "scene": {
           "xaxis": {
            "backgroundcolor": "#E5ECF6",
            "gridcolor": "white",
            "gridwidth": 2,
            "linecolor": "white",
            "showbackground": true,
            "ticks": "",
            "zerolinecolor": "white"
           },
           "yaxis": {
            "backgroundcolor": "#E5ECF6",
            "gridcolor": "white",
            "gridwidth": 2,
            "linecolor": "white",
            "showbackground": true,
            "ticks": "",
            "zerolinecolor": "white"
           },
           "zaxis": {
            "backgroundcolor": "#E5ECF6",
            "gridcolor": "white",
            "gridwidth": 2,
            "linecolor": "white",
            "showbackground": true,
            "ticks": "",
            "zerolinecolor": "white"
           }
          },
          "shapedefaults": {
           "line": {
            "color": "#2a3f5f"
           }
          },
          "ternary": {
           "aaxis": {
            "gridcolor": "white",
            "linecolor": "white",
            "ticks": ""
           },
           "baxis": {
            "gridcolor": "white",
            "linecolor": "white",
            "ticks": ""
           },
           "bgcolor": "#E5ECF6",
           "caxis": {
            "gridcolor": "white",
            "linecolor": "white",
            "ticks": ""
           }
          },
          "title": {
           "x": 0.05
          },
          "xaxis": {
           "automargin": true,
           "gridcolor": "white",
           "linecolor": "white",
           "ticks": "",
           "title": {
            "standoff": 15
           },
           "zerolinecolor": "white",
           "zerolinewidth": 2
          },
          "yaxis": {
           "automargin": true,
           "gridcolor": "white",
           "linecolor": "white",
           "ticks": "",
           "title": {
            "standoff": 15
           },
           "zerolinecolor": "white",
           "zerolinewidth": 2
          }
         }
        },
        "title": {
         "text": "Execution Time Distrubution for Intersection (Baseline)",
         "x": 0.5
        },
        "xaxis": {
         "title": {
          "text": "Execution Time (%)"
         }
        },
        "yaxis": {
         "title": {
          "text": "Context + Geometry Size)"
         }
        }
       }
      }
     },
     "metadata": {},
     "output_type": "display_data"
    },
    {
     "data": {
      "application/vnd.plotly.v1+json": {
       "config": {
        "plotlyServerURL": "https://plot.ly"
       },
       "data": [
        {
         "name": "Decompression Stage",
         "orientation": "h",
         "type": "bar",
         "x": [
          25.2133603144241,
          32.924414074360314,
          30.073953337078837,
          66.94514889770295,
          47.45163773326782,
          52.26486602573723,
          43.98697358371285,
          50.11318357469669,
          43.393761245549015,
          17.253562422849836,
          23.135026494345684,
          28.59380559849815,
          20.810801760510238,
          27.261517929564288,
          23.081943233154863
         ],
         "y": [
          [
           "Bbox Inside Other (TRUE)",
           "Bbox Inside Other (TRUE)",
           "Bbox Inside Other (TRUE)",
           "Bbox Overlap (FALSE)",
           "Bbox Overlap (FALSE)",
           "Bbox Overlap (FALSE)",
           "Bbox Overlap (FALSE)",
           "Bbox Overlap (FALSE)",
           "Bbox Overlap (FALSE)",
           "Bbox Partial Overlap (TRUE)",
           "Bbox Partial Overlap (TRUE)",
           "Bbox Partial Overlap (TRUE)",
           "Bbox Partial Overlap (TRUE)",
           "Bbox Partial Overlap (TRUE)",
           "Bbox Partial Overlap (TRUE)"
          ],
          [
           "Small",
           "Small Large Mixed",
           "Small Medium Mixed",
           "Large",
           "Medium",
           "Medium Large Mixed",
           "Small",
           "Small Large Mixed",
           "Small Medium Mixed",
           "Large",
           "Medium",
           "Medium Large Mixed",
           "Small",
           "Small Large Mixed",
           "Small Medium Mixed"
          ]
         ]
        },
        {
         "name": "Intersection",
         "orientation": "h",
         "type": "bar",
         "x": [
          74.78663968557589,
          67.0755859256397,
          69.92604666292115,
          33.05485110229704,
          52.54836226673217,
          47.73513397426277,
          56.01302641628715,
          49.88681642530331,
          56.60623875445099,
          82.74643757715016,
          76.86497350565432,
          71.40619440150185,
          79.18919823948976,
          72.73848207043571,
          76.91805676684514
         ],
         "y": [
          [
           "Bbox Inside Other (TRUE)",
           "Bbox Inside Other (TRUE)",
           "Bbox Inside Other (TRUE)",
           "Bbox Overlap (FALSE)",
           "Bbox Overlap (FALSE)",
           "Bbox Overlap (FALSE)",
           "Bbox Overlap (FALSE)",
           "Bbox Overlap (FALSE)",
           "Bbox Overlap (FALSE)",
           "Bbox Partial Overlap (TRUE)",
           "Bbox Partial Overlap (TRUE)",
           "Bbox Partial Overlap (TRUE)",
           "Bbox Partial Overlap (TRUE)",
           "Bbox Partial Overlap (TRUE)",
           "Bbox Partial Overlap (TRUE)"
          ],
          [
           "Small",
           "Small Large Mixed",
           "Small Medium Mixed",
           "Large",
           "Medium",
           "Medium Large Mixed",
           "Small",
           "Small Large Mixed",
           "Small Medium Mixed",
           "Large",
           "Medium",
           "Medium Large Mixed",
           "Small",
           "Small Large Mixed",
           "Small Medium Mixed"
          ]
         ]
        }
       ],
       "layout": {
        "barmode": "relative",
        "legend": {
         "x": 0.997,
         "xanchor": "right",
         "y": 1.2,
         "yanchor": "top"
        },
        "template": {
         "data": {
          "bar": [
           {
            "error_x": {
             "color": "#2a3f5f"
            },
            "error_y": {
             "color": "#2a3f5f"
            },
            "marker": {
             "line": {
              "color": "#E5ECF6",
              "width": 0.5
             },
             "pattern": {
              "fillmode": "overlay",
              "size": 10,
              "solidity": 0.2
             }
            },
            "type": "bar"
           }
          ],
          "barpolar": [
           {
            "marker": {
             "line": {
              "color": "#E5ECF6",
              "width": 0.5
             },
             "pattern": {
              "fillmode": "overlay",
              "size": 10,
              "solidity": 0.2
             }
            },
            "type": "barpolar"
           }
          ],
          "carpet": [
           {
            "aaxis": {
             "endlinecolor": "#2a3f5f",
             "gridcolor": "white",
             "linecolor": "white",
             "minorgridcolor": "white",
             "startlinecolor": "#2a3f5f"
            },
            "baxis": {
             "endlinecolor": "#2a3f5f",
             "gridcolor": "white",
             "linecolor": "white",
             "minorgridcolor": "white",
             "startlinecolor": "#2a3f5f"
            },
            "type": "carpet"
           }
          ],
          "choropleth": [
           {
            "colorbar": {
             "outlinewidth": 0,
             "ticks": ""
            },
            "type": "choropleth"
           }
          ],
          "contour": [
           {
            "colorbar": {
             "outlinewidth": 0,
             "ticks": ""
            },
            "colorscale": [
             [
              0,
              "#0d0887"
             ],
             [
              0.1111111111111111,
              "#46039f"
             ],
             [
              0.2222222222222222,
              "#7201a8"
             ],
             [
              0.3333333333333333,
              "#9c179e"
             ],
             [
              0.4444444444444444,
              "#bd3786"
             ],
             [
              0.5555555555555556,
              "#d8576b"
             ],
             [
              0.6666666666666666,
              "#ed7953"
             ],
             [
              0.7777777777777778,
              "#fb9f3a"
             ],
             [
              0.8888888888888888,
              "#fdca26"
             ],
             [
              1,
              "#f0f921"
             ]
            ],
            "type": "contour"
           }
          ],
          "contourcarpet": [
           {
            "colorbar": {
             "outlinewidth": 0,
             "ticks": ""
            },
            "type": "contourcarpet"
           }
          ],
          "heatmap": [
           {
            "colorbar": {
             "outlinewidth": 0,
             "ticks": ""
            },
            "colorscale": [
             [
              0,
              "#0d0887"
             ],
             [
              0.1111111111111111,
              "#46039f"
             ],
             [
              0.2222222222222222,
              "#7201a8"
             ],
             [
              0.3333333333333333,
              "#9c179e"
             ],
             [
              0.4444444444444444,
              "#bd3786"
             ],
             [
              0.5555555555555556,
              "#d8576b"
             ],
             [
              0.6666666666666666,
              "#ed7953"
             ],
             [
              0.7777777777777778,
              "#fb9f3a"
             ],
             [
              0.8888888888888888,
              "#fdca26"
             ],
             [
              1,
              "#f0f921"
             ]
            ],
            "type": "heatmap"
           }
          ],
          "heatmapgl": [
           {
            "colorbar": {
             "outlinewidth": 0,
             "ticks": ""
            },
            "colorscale": [
             [
              0,
              "#0d0887"
             ],
             [
              0.1111111111111111,
              "#46039f"
             ],
             [
              0.2222222222222222,
              "#7201a8"
             ],
             [
              0.3333333333333333,
              "#9c179e"
             ],
             [
              0.4444444444444444,
              "#bd3786"
             ],
             [
              0.5555555555555556,
              "#d8576b"
             ],
             [
              0.6666666666666666,
              "#ed7953"
             ],
             [
              0.7777777777777778,
              "#fb9f3a"
             ],
             [
              0.8888888888888888,
              "#fdca26"
             ],
             [
              1,
              "#f0f921"
             ]
            ],
            "type": "heatmapgl"
           }
          ],
          "histogram": [
           {
            "marker": {
             "pattern": {
              "fillmode": "overlay",
              "size": 10,
              "solidity": 0.2
             }
            },
            "type": "histogram"
           }
          ],
          "histogram2d": [
           {
            "colorbar": {
             "outlinewidth": 0,
             "ticks": ""
            },
            "colorscale": [
             [
              0,
              "#0d0887"
             ],
             [
              0.1111111111111111,
              "#46039f"
             ],
             [
              0.2222222222222222,
              "#7201a8"
             ],
             [
              0.3333333333333333,
              "#9c179e"
             ],
             [
              0.4444444444444444,
              "#bd3786"
             ],
             [
              0.5555555555555556,
              "#d8576b"
             ],
             [
              0.6666666666666666,
              "#ed7953"
             ],
             [
              0.7777777777777778,
              "#fb9f3a"
             ],
             [
              0.8888888888888888,
              "#fdca26"
             ],
             [
              1,
              "#f0f921"
             ]
            ],
            "type": "histogram2d"
           }
          ],
          "histogram2dcontour": [
           {
            "colorbar": {
             "outlinewidth": 0,
             "ticks": ""
            },
            "colorscale": [
             [
              0,
              "#0d0887"
             ],
             [
              0.1111111111111111,
              "#46039f"
             ],
             [
              0.2222222222222222,
              "#7201a8"
             ],
             [
              0.3333333333333333,
              "#9c179e"
             ],
             [
              0.4444444444444444,
              "#bd3786"
             ],
             [
              0.5555555555555556,
              "#d8576b"
             ],
             [
              0.6666666666666666,
              "#ed7953"
             ],
             [
              0.7777777777777778,
              "#fb9f3a"
             ],
             [
              0.8888888888888888,
              "#fdca26"
             ],
             [
              1,
              "#f0f921"
             ]
            ],
            "type": "histogram2dcontour"
           }
          ],
          "mesh3d": [
           {
            "colorbar": {
             "outlinewidth": 0,
             "ticks": ""
            },
            "type": "mesh3d"
           }
          ],
          "parcoords": [
           {
            "line": {
             "colorbar": {
              "outlinewidth": 0,
              "ticks": ""
             }
            },
            "type": "parcoords"
           }
          ],
          "pie": [
           {
            "automargin": true,
            "type": "pie"
           }
          ],
          "scatter": [
           {
            "fillpattern": {
             "fillmode": "overlay",
             "size": 10,
             "solidity": 0.2
            },
            "type": "scatter"
           }
          ],
          "scatter3d": [
           {
            "line": {
             "colorbar": {
              "outlinewidth": 0,
              "ticks": ""
             }
            },
            "marker": {
             "colorbar": {
              "outlinewidth": 0,
              "ticks": ""
             }
            },
            "type": "scatter3d"
           }
          ],
          "scattercarpet": [
           {
            "marker": {
             "colorbar": {
              "outlinewidth": 0,
              "ticks": ""
             }
            },
            "type": "scattercarpet"
           }
          ],
          "scattergeo": [
           {
            "marker": {
             "colorbar": {
              "outlinewidth": 0,
              "ticks": ""
             }
            },
            "type": "scattergeo"
           }
          ],
          "scattergl": [
           {
            "marker": {
             "colorbar": {
              "outlinewidth": 0,
              "ticks": ""
             }
            },
            "type": "scattergl"
           }
          ],
          "scattermapbox": [
           {
            "marker": {
             "colorbar": {
              "outlinewidth": 0,
              "ticks": ""
             }
            },
            "type": "scattermapbox"
           }
          ],
          "scatterpolar": [
           {
            "marker": {
             "colorbar": {
              "outlinewidth": 0,
              "ticks": ""
             }
            },
            "type": "scatterpolar"
           }
          ],
          "scatterpolargl": [
           {
            "marker": {
             "colorbar": {
              "outlinewidth": 0,
              "ticks": ""
             }
            },
            "type": "scatterpolargl"
           }
          ],
          "scatterternary": [
           {
            "marker": {
             "colorbar": {
              "outlinewidth": 0,
              "ticks": ""
             }
            },
            "type": "scatterternary"
           }
          ],
          "surface": [
           {
            "colorbar": {
             "outlinewidth": 0,
             "ticks": ""
            },
            "colorscale": [
             [
              0,
              "#0d0887"
             ],
             [
              0.1111111111111111,
              "#46039f"
             ],
             [
              0.2222222222222222,
              "#7201a8"
             ],
             [
              0.3333333333333333,
              "#9c179e"
             ],
             [
              0.4444444444444444,
              "#bd3786"
             ],
             [
              0.5555555555555556,
              "#d8576b"
             ],
             [
              0.6666666666666666,
              "#ed7953"
             ],
             [
              0.7777777777777778,
              "#fb9f3a"
             ],
             [
              0.8888888888888888,
              "#fdca26"
             ],
             [
              1,
              "#f0f921"
             ]
            ],
            "type": "surface"
           }
          ],
          "table": [
           {
            "cells": {
             "fill": {
              "color": "#EBF0F8"
             },
             "line": {
              "color": "white"
             }
            },
            "header": {
             "fill": {
              "color": "#C8D4E3"
             },
             "line": {
              "color": "white"
             }
            },
            "type": "table"
           }
          ]
         },
         "layout": {
          "annotationdefaults": {
           "arrowcolor": "#2a3f5f",
           "arrowhead": 0,
           "arrowwidth": 1
          },
          "autotypenumbers": "strict",
          "coloraxis": {
           "colorbar": {
            "outlinewidth": 0,
            "ticks": ""
           }
          },
          "colorscale": {
           "diverging": [
            [
             0,
             "#8e0152"
            ],
            [
             0.1,
             "#c51b7d"
            ],
            [
             0.2,
             "#de77ae"
            ],
            [
             0.3,
             "#f1b6da"
            ],
            [
             0.4,
             "#fde0ef"
            ],
            [
             0.5,
             "#f7f7f7"
            ],
            [
             0.6,
             "#e6f5d0"
            ],
            [
             0.7,
             "#b8e186"
            ],
            [
             0.8,
             "#7fbc41"
            ],
            [
             0.9,
             "#4d9221"
            ],
            [
             1,
             "#276419"
            ]
           ],
           "sequential": [
            [
             0,
             "#0d0887"
            ],
            [
             0.1111111111111111,
             "#46039f"
            ],
            [
             0.2222222222222222,
             "#7201a8"
            ],
            [
             0.3333333333333333,
             "#9c179e"
            ],
            [
             0.4444444444444444,
             "#bd3786"
            ],
            [
             0.5555555555555556,
             "#d8576b"
            ],
            [
             0.6666666666666666,
             "#ed7953"
            ],
            [
             0.7777777777777778,
             "#fb9f3a"
            ],
            [
             0.8888888888888888,
             "#fdca26"
            ],
            [
             1,
             "#f0f921"
            ]
           ],
           "sequentialminus": [
            [
             0,
             "#0d0887"
            ],
            [
             0.1111111111111111,
             "#46039f"
            ],
            [
             0.2222222222222222,
             "#7201a8"
            ],
            [
             0.3333333333333333,
             "#9c179e"
            ],
            [
             0.4444444444444444,
             "#bd3786"
            ],
            [
             0.5555555555555556,
             "#d8576b"
            ],
            [
             0.6666666666666666,
             "#ed7953"
            ],
            [
             0.7777777777777778,
             "#fb9f3a"
            ],
            [
             0.8888888888888888,
             "#fdca26"
            ],
            [
             1,
             "#f0f921"
            ]
           ]
          },
          "colorway": [
           "#636efa",
           "#EF553B",
           "#00cc96",
           "#ab63fa",
           "#FFA15A",
           "#19d3f3",
           "#FF6692",
           "#B6E880",
           "#FF97FF",
           "#FECB52"
          ],
          "font": {
           "color": "#2a3f5f"
          },
          "geo": {
           "bgcolor": "white",
           "lakecolor": "white",
           "landcolor": "#E5ECF6",
           "showlakes": true,
           "showland": true,
           "subunitcolor": "white"
          },
          "hoverlabel": {
           "align": "left"
          },
          "hovermode": "closest",
          "mapbox": {
           "style": "light"
          },
          "paper_bgcolor": "white",
          "plot_bgcolor": "#E5ECF6",
          "polar": {
           "angularaxis": {
            "gridcolor": "white",
            "linecolor": "white",
            "ticks": ""
           },
           "bgcolor": "#E5ECF6",
           "radialaxis": {
            "gridcolor": "white",
            "linecolor": "white",
            "ticks": ""
           }
          },
          "scene": {
           "xaxis": {
            "backgroundcolor": "#E5ECF6",
            "gridcolor": "white",
            "gridwidth": 2,
            "linecolor": "white",
            "showbackground": true,
            "ticks": "",
            "zerolinecolor": "white"
           },
           "yaxis": {
            "backgroundcolor": "#E5ECF6",
            "gridcolor": "white",
            "gridwidth": 2,
            "linecolor": "white",
            "showbackground": true,
            "ticks": "",
            "zerolinecolor": "white"
           },
           "zaxis": {
            "backgroundcolor": "#E5ECF6",
            "gridcolor": "white",
            "gridwidth": 2,
            "linecolor": "white",
            "showbackground": true,
            "ticks": "",
            "zerolinecolor": "white"
           }
          },
          "shapedefaults": {
           "line": {
            "color": "#2a3f5f"
           }
          },
          "ternary": {
           "aaxis": {
            "gridcolor": "white",
            "linecolor": "white",
            "ticks": ""
           },
           "baxis": {
            "gridcolor": "white",
            "linecolor": "white",
            "ticks": ""
           },
           "bgcolor": "#E5ECF6",
           "caxis": {
            "gridcolor": "white",
            "linecolor": "white",
            "ticks": ""
           }
          },
          "title": {
           "x": 0.05
          },
          "xaxis": {
           "automargin": true,
           "gridcolor": "white",
           "linecolor": "white",
           "ticks": "",
           "title": {
            "standoff": 15
           },
           "zerolinecolor": "white",
           "zerolinewidth": 2
          },
          "yaxis": {
           "automargin": true,
           "gridcolor": "white",
           "linecolor": "white",
           "ticks": "",
           "title": {
            "standoff": 15
           },
           "zerolinecolor": "white",
           "zerolinewidth": 2
          }
         }
        },
        "title": {
         "text": "Execution Time Distrubution for Intersection ",
         "x": 0.5
        },
        "xaxis": {
         "title": {
          "text": "Execution Time (%)"
         }
        },
        "yaxis": {
         "title": {
          "text": "Context + Geometry Size)"
         }
        }
       }
      }
     },
     "metadata": {},
     "output_type": "display_data"
    },
    {
     "data": {
      "application/vnd.plotly.v1+json": {
       "config": {
        "plotlyServerURL": "https://plot.ly"
       },
       "data": [
        {
         "name": "Decompression Stage",
         "orientation": "h",
         "type": "bar",
         "x": [
          36.64898729424004,
          70.80369848836702,
          59.06844226932831,
          96.65226185928132,
          79.61844266525848,
          85.74708015070394,
          57.82642252522835,
          89.549919427421,
          77.6384724747305,
          90.4774360407228,
          79.37162282860828,
          90.31883605949513,
          62.672333200955535,
          88.05240605875532,
          76.58625406515786
         ],
         "y": [
          [
           "Bbox Inside Other (TRUE)",
           "Bbox Inside Other (TRUE)",
           "Bbox Inside Other (TRUE)",
           "Bbox Overlap (FALSE)",
           "Bbox Overlap (FALSE)",
           "Bbox Overlap (FALSE)",
           "Bbox Overlap (FALSE)",
           "Bbox Overlap (FALSE)",
           "Bbox Overlap (FALSE)",
           "Bbox Partial Overlap (TRUE)",
           "Bbox Partial Overlap (TRUE)",
           "Bbox Partial Overlap (TRUE)",
           "Bbox Partial Overlap (TRUE)",
           "Bbox Partial Overlap (TRUE)",
           "Bbox Partial Overlap (TRUE)"
          ],
          [
           "Small",
           "Small Large Mixed",
           "Small Medium Mixed",
           "Large",
           "Medium",
           "Medium Large Mixed",
           "Small",
           "Small Large Mixed",
           "Small Medium Mixed",
           "Large",
           "Medium",
           "Medium Large Mixed",
           "Small",
           "Small Large Mixed",
           "Small Medium Mixed"
          ]
         ]
        },
        {
         "name": "IsIntersection",
         "orientation": "h",
         "type": "bar",
         "x": [
          63.35101270575997,
          29.19630151163298,
          40.93155773067169,
          3.3477381407186804,
          20.381557334741508,
          14.252919849296068,
          42.17357747477164,
          10.450080572579012,
          22.361527525269494,
          9.52256395927721,
          20.628377171391715,
          9.681163940504879,
          37.327666799044465,
          11.947593941244678,
          23.413745934842144
         ],
         "y": [
          [
           "Bbox Inside Other (TRUE)",
           "Bbox Inside Other (TRUE)",
           "Bbox Inside Other (TRUE)",
           "Bbox Overlap (FALSE)",
           "Bbox Overlap (FALSE)",
           "Bbox Overlap (FALSE)",
           "Bbox Overlap (FALSE)",
           "Bbox Overlap (FALSE)",
           "Bbox Overlap (FALSE)",
           "Bbox Partial Overlap (TRUE)",
           "Bbox Partial Overlap (TRUE)",
           "Bbox Partial Overlap (TRUE)",
           "Bbox Partial Overlap (TRUE)",
           "Bbox Partial Overlap (TRUE)",
           "Bbox Partial Overlap (TRUE)"
          ],
          [
           "Small",
           "Small Large Mixed",
           "Small Medium Mixed",
           "Large",
           "Medium",
           "Medium Large Mixed",
           "Small",
           "Small Large Mixed",
           "Small Medium Mixed",
           "Large",
           "Medium",
           "Medium Large Mixed",
           "Small",
           "Small Large Mixed",
           "Small Medium Mixed"
          ]
         ]
        }
       ],
       "layout": {
        "barmode": "relative",
        "legend": {
         "x": 0.997,
         "xanchor": "right",
         "y": 1.2,
         "yanchor": "top"
        },
        "template": {
         "data": {
          "bar": [
           {
            "error_x": {
             "color": "#2a3f5f"
            },
            "error_y": {
             "color": "#2a3f5f"
            },
            "marker": {
             "line": {
              "color": "#E5ECF6",
              "width": 0.5
             },
             "pattern": {
              "fillmode": "overlay",
              "size": 10,
              "solidity": 0.2
             }
            },
            "type": "bar"
           }
          ],
          "barpolar": [
           {
            "marker": {
             "line": {
              "color": "#E5ECF6",
              "width": 0.5
             },
             "pattern": {
              "fillmode": "overlay",
              "size": 10,
              "solidity": 0.2
             }
            },
            "type": "barpolar"
           }
          ],
          "carpet": [
           {
            "aaxis": {
             "endlinecolor": "#2a3f5f",
             "gridcolor": "white",
             "linecolor": "white",
             "minorgridcolor": "white",
             "startlinecolor": "#2a3f5f"
            },
            "baxis": {
             "endlinecolor": "#2a3f5f",
             "gridcolor": "white",
             "linecolor": "white",
             "minorgridcolor": "white",
             "startlinecolor": "#2a3f5f"
            },
            "type": "carpet"
           }
          ],
          "choropleth": [
           {
            "colorbar": {
             "outlinewidth": 0,
             "ticks": ""
            },
            "type": "choropleth"
           }
          ],
          "contour": [
           {
            "colorbar": {
             "outlinewidth": 0,
             "ticks": ""
            },
            "colorscale": [
             [
              0,
              "#0d0887"
             ],
             [
              0.1111111111111111,
              "#46039f"
             ],
             [
              0.2222222222222222,
              "#7201a8"
             ],
             [
              0.3333333333333333,
              "#9c179e"
             ],
             [
              0.4444444444444444,
              "#bd3786"
             ],
             [
              0.5555555555555556,
              "#d8576b"
             ],
             [
              0.6666666666666666,
              "#ed7953"
             ],
             [
              0.7777777777777778,
              "#fb9f3a"
             ],
             [
              0.8888888888888888,
              "#fdca26"
             ],
             [
              1,
              "#f0f921"
             ]
            ],
            "type": "contour"
           }
          ],
          "contourcarpet": [
           {
            "colorbar": {
             "outlinewidth": 0,
             "ticks": ""
            },
            "type": "contourcarpet"
           }
          ],
          "heatmap": [
           {
            "colorbar": {
             "outlinewidth": 0,
             "ticks": ""
            },
            "colorscale": [
             [
              0,
              "#0d0887"
             ],
             [
              0.1111111111111111,
              "#46039f"
             ],
             [
              0.2222222222222222,
              "#7201a8"
             ],
             [
              0.3333333333333333,
              "#9c179e"
             ],
             [
              0.4444444444444444,
              "#bd3786"
             ],
             [
              0.5555555555555556,
              "#d8576b"
             ],
             [
              0.6666666666666666,
              "#ed7953"
             ],
             [
              0.7777777777777778,
              "#fb9f3a"
             ],
             [
              0.8888888888888888,
              "#fdca26"
             ],
             [
              1,
              "#f0f921"
             ]
            ],
            "type": "heatmap"
           }
          ],
          "heatmapgl": [
           {
            "colorbar": {
             "outlinewidth": 0,
             "ticks": ""
            },
            "colorscale": [
             [
              0,
              "#0d0887"
             ],
             [
              0.1111111111111111,
              "#46039f"
             ],
             [
              0.2222222222222222,
              "#7201a8"
             ],
             [
              0.3333333333333333,
              "#9c179e"
             ],
             [
              0.4444444444444444,
              "#bd3786"
             ],
             [
              0.5555555555555556,
              "#d8576b"
             ],
             [
              0.6666666666666666,
              "#ed7953"
             ],
             [
              0.7777777777777778,
              "#fb9f3a"
             ],
             [
              0.8888888888888888,
              "#fdca26"
             ],
             [
              1,
              "#f0f921"
             ]
            ],
            "type": "heatmapgl"
           }
          ],
          "histogram": [
           {
            "marker": {
             "pattern": {
              "fillmode": "overlay",
              "size": 10,
              "solidity": 0.2
             }
            },
            "type": "histogram"
           }
          ],
          "histogram2d": [
           {
            "colorbar": {
             "outlinewidth": 0,
             "ticks": ""
            },
            "colorscale": [
             [
              0,
              "#0d0887"
             ],
             [
              0.1111111111111111,
              "#46039f"
             ],
             [
              0.2222222222222222,
              "#7201a8"
             ],
             [
              0.3333333333333333,
              "#9c179e"
             ],
             [
              0.4444444444444444,
              "#bd3786"
             ],
             [
              0.5555555555555556,
              "#d8576b"
             ],
             [
              0.6666666666666666,
              "#ed7953"
             ],
             [
              0.7777777777777778,
              "#fb9f3a"
             ],
             [
              0.8888888888888888,
              "#fdca26"
             ],
             [
              1,
              "#f0f921"
             ]
            ],
            "type": "histogram2d"
           }
          ],
          "histogram2dcontour": [
           {
            "colorbar": {
             "outlinewidth": 0,
             "ticks": ""
            },
            "colorscale": [
             [
              0,
              "#0d0887"
             ],
             [
              0.1111111111111111,
              "#46039f"
             ],
             [
              0.2222222222222222,
              "#7201a8"
             ],
             [
              0.3333333333333333,
              "#9c179e"
             ],
             [
              0.4444444444444444,
              "#bd3786"
             ],
             [
              0.5555555555555556,
              "#d8576b"
             ],
             [
              0.6666666666666666,
              "#ed7953"
             ],
             [
              0.7777777777777778,
              "#fb9f3a"
             ],
             [
              0.8888888888888888,
              "#fdca26"
             ],
             [
              1,
              "#f0f921"
             ]
            ],
            "type": "histogram2dcontour"
           }
          ],
          "mesh3d": [
           {
            "colorbar": {
             "outlinewidth": 0,
             "ticks": ""
            },
            "type": "mesh3d"
           }
          ],
          "parcoords": [
           {
            "line": {
             "colorbar": {
              "outlinewidth": 0,
              "ticks": ""
             }
            },
            "type": "parcoords"
           }
          ],
          "pie": [
           {
            "automargin": true,
            "type": "pie"
           }
          ],
          "scatter": [
           {
            "fillpattern": {
             "fillmode": "overlay",
             "size": 10,
             "solidity": 0.2
            },
            "type": "scatter"
           }
          ],
          "scatter3d": [
           {
            "line": {
             "colorbar": {
              "outlinewidth": 0,
              "ticks": ""
             }
            },
            "marker": {
             "colorbar": {
              "outlinewidth": 0,
              "ticks": ""
             }
            },
            "type": "scatter3d"
           }
          ],
          "scattercarpet": [
           {
            "marker": {
             "colorbar": {
              "outlinewidth": 0,
              "ticks": ""
             }
            },
            "type": "scattercarpet"
           }
          ],
          "scattergeo": [
           {
            "marker": {
             "colorbar": {
              "outlinewidth": 0,
              "ticks": ""
             }
            },
            "type": "scattergeo"
           }
          ],
          "scattergl": [
           {
            "marker": {
             "colorbar": {
              "outlinewidth": 0,
              "ticks": ""
             }
            },
            "type": "scattergl"
           }
          ],
          "scattermapbox": [
           {
            "marker": {
             "colorbar": {
              "outlinewidth": 0,
              "ticks": ""
             }
            },
            "type": "scattermapbox"
           }
          ],
          "scatterpolar": [
           {
            "marker": {
             "colorbar": {
              "outlinewidth": 0,
              "ticks": ""
             }
            },
            "type": "scatterpolar"
           }
          ],
          "scatterpolargl": [
           {
            "marker": {
             "colorbar": {
              "outlinewidth": 0,
              "ticks": ""
             }
            },
            "type": "scatterpolargl"
           }
          ],
          "scatterternary": [
           {
            "marker": {
             "colorbar": {
              "outlinewidth": 0,
              "ticks": ""
             }
            },
            "type": "scatterternary"
           }
          ],
          "surface": [
           {
            "colorbar": {
             "outlinewidth": 0,
             "ticks": ""
            },
            "colorscale": [
             [
              0,
              "#0d0887"
             ],
             [
              0.1111111111111111,
              "#46039f"
             ],
             [
              0.2222222222222222,
              "#7201a8"
             ],
             [
              0.3333333333333333,
              "#9c179e"
             ],
             [
              0.4444444444444444,
              "#bd3786"
             ],
             [
              0.5555555555555556,
              "#d8576b"
             ],
             [
              0.6666666666666666,
              "#ed7953"
             ],
             [
              0.7777777777777778,
              "#fb9f3a"
             ],
             [
              0.8888888888888888,
              "#fdca26"
             ],
             [
              1,
              "#f0f921"
             ]
            ],
            "type": "surface"
           }
          ],
          "table": [
           {
            "cells": {
             "fill": {
              "color": "#EBF0F8"
             },
             "line": {
              "color": "white"
             }
            },
            "header": {
             "fill": {
              "color": "#C8D4E3"
             },
             "line": {
              "color": "white"
             }
            },
            "type": "table"
           }
          ]
         },
         "layout": {
          "annotationdefaults": {
           "arrowcolor": "#2a3f5f",
           "arrowhead": 0,
           "arrowwidth": 1
          },
          "autotypenumbers": "strict",
          "coloraxis": {
           "colorbar": {
            "outlinewidth": 0,
            "ticks": ""
           }
          },
          "colorscale": {
           "diverging": [
            [
             0,
             "#8e0152"
            ],
            [
             0.1,
             "#c51b7d"
            ],
            [
             0.2,
             "#de77ae"
            ],
            [
             0.3,
             "#f1b6da"
            ],
            [
             0.4,
             "#fde0ef"
            ],
            [
             0.5,
             "#f7f7f7"
            ],
            [
             0.6,
             "#e6f5d0"
            ],
            [
             0.7,
             "#b8e186"
            ],
            [
             0.8,
             "#7fbc41"
            ],
            [
             0.9,
             "#4d9221"
            ],
            [
             1,
             "#276419"
            ]
           ],
           "sequential": [
            [
             0,
             "#0d0887"
            ],
            [
             0.1111111111111111,
             "#46039f"
            ],
            [
             0.2222222222222222,
             "#7201a8"
            ],
            [
             0.3333333333333333,
             "#9c179e"
            ],
            [
             0.4444444444444444,
             "#bd3786"
            ],
            [
             0.5555555555555556,
             "#d8576b"
            ],
            [
             0.6666666666666666,
             "#ed7953"
            ],
            [
             0.7777777777777778,
             "#fb9f3a"
            ],
            [
             0.8888888888888888,
             "#fdca26"
            ],
            [
             1,
             "#f0f921"
            ]
           ],
           "sequentialminus": [
            [
             0,
             "#0d0887"
            ],
            [
             0.1111111111111111,
             "#46039f"
            ],
            [
             0.2222222222222222,
             "#7201a8"
            ],
            [
             0.3333333333333333,
             "#9c179e"
            ],
            [
             0.4444444444444444,
             "#bd3786"
            ],
            [
             0.5555555555555556,
             "#d8576b"
            ],
            [
             0.6666666666666666,
             "#ed7953"
            ],
            [
             0.7777777777777778,
             "#fb9f3a"
            ],
            [
             0.8888888888888888,
             "#fdca26"
            ],
            [
             1,
             "#f0f921"
            ]
           ]
          },
          "colorway": [
           "#636efa",
           "#EF553B",
           "#00cc96",
           "#ab63fa",
           "#FFA15A",
           "#19d3f3",
           "#FF6692",
           "#B6E880",
           "#FF97FF",
           "#FECB52"
          ],
          "font": {
           "color": "#2a3f5f"
          },
          "geo": {
           "bgcolor": "white",
           "lakecolor": "white",
           "landcolor": "#E5ECF6",
           "showlakes": true,
           "showland": true,
           "subunitcolor": "white"
          },
          "hoverlabel": {
           "align": "left"
          },
          "hovermode": "closest",
          "mapbox": {
           "style": "light"
          },
          "paper_bgcolor": "white",
          "plot_bgcolor": "#E5ECF6",
          "polar": {
           "angularaxis": {
            "gridcolor": "white",
            "linecolor": "white",
            "ticks": ""
           },
           "bgcolor": "#E5ECF6",
           "radialaxis": {
            "gridcolor": "white",
            "linecolor": "white",
            "ticks": ""
           }
          },
          "scene": {
           "xaxis": {
            "backgroundcolor": "#E5ECF6",
            "gridcolor": "white",
            "gridwidth": 2,
            "linecolor": "white",
            "showbackground": true,
            "ticks": "",
            "zerolinecolor": "white"
           },
           "yaxis": {
            "backgroundcolor": "#E5ECF6",
            "gridcolor": "white",
            "gridwidth": 2,
            "linecolor": "white",
            "showbackground": true,
            "ticks": "",
            "zerolinecolor": "white"
           },
           "zaxis": {
            "backgroundcolor": "#E5ECF6",
            "gridcolor": "white",
            "gridwidth": 2,
            "linecolor": "white",
            "showbackground": true,
            "ticks": "",
            "zerolinecolor": "white"
           }
          },
          "shapedefaults": {
           "line": {
            "color": "#2a3f5f"
           }
          },
          "ternary": {
           "aaxis": {
            "gridcolor": "white",
            "linecolor": "white",
            "ticks": ""
           },
           "baxis": {
            "gridcolor": "white",
            "linecolor": "white",
            "ticks": ""
           },
           "bgcolor": "#E5ECF6",
           "caxis": {
            "gridcolor": "white",
            "linecolor": "white",
            "ticks": ""
           }
          },
          "title": {
           "x": 0.05
          },
          "xaxis": {
           "automargin": true,
           "gridcolor": "white",
           "linecolor": "white",
           "ticks": "",
           "title": {
            "standoff": 15
           },
           "zerolinecolor": "white",
           "zerolinewidth": 2
          },
          "yaxis": {
           "automargin": true,
           "gridcolor": "white",
           "linecolor": "white",
           "ticks": "",
           "title": {
            "standoff": 15
           },
           "zerolinecolor": "white",
           "zerolinewidth": 2
          }
         }
        },
        "title": {
         "text": "Execution Time Distrubution for IsIntersection (Baseline)",
         "x": 0.5
        },
        "xaxis": {
         "title": {
          "text": "Execution Time (%)"
         }
        },
        "yaxis": {
         "title": {
          "text": "Context + Geometry Size)"
         }
        }
       }
      }
     },
     "metadata": {},
     "output_type": "display_data"
    },
    {
     "data": {
      "application/vnd.plotly.v1+json": {
       "config": {
        "plotlyServerURL": "https://plot.ly"
       },
       "data": [
        {
         "name": "Decompression Stage",
         "orientation": "h",
         "type": "bar",
         "x": [
          27.792672126163243,
          44.822137370692566,
          34.5936684125782,
          78.02413850199328,
          56.04239447477183,
          60.315670332765755,
          49.5461722979395,
          60.81921160526932,
          52.435064871500906,
          67.10955661413432,
          58.814824478470925,
          61.94485666023587,
          52.165034948950534,
          61.50716179590741,
          57.08309109850227
         ],
         "y": [
          [
           "Bbox Inside Other (TRUE)",
           "Bbox Inside Other (TRUE)",
           "Bbox Inside Other (TRUE)",
           "Bbox Overlap (FALSE)",
           "Bbox Overlap (FALSE)",
           "Bbox Overlap (FALSE)",
           "Bbox Overlap (FALSE)",
           "Bbox Overlap (FALSE)",
           "Bbox Overlap (FALSE)",
           "Bbox Partial Overlap (TRUE)",
           "Bbox Partial Overlap (TRUE)",
           "Bbox Partial Overlap (TRUE)",
           "Bbox Partial Overlap (TRUE)",
           "Bbox Partial Overlap (TRUE)",
           "Bbox Partial Overlap (TRUE)"
          ],
          [
           "Small",
           "Small Large Mixed",
           "Small Medium Mixed",
           "Large",
           "Medium",
           "Medium Large Mixed",
           "Small",
           "Small Large Mixed",
           "Small Medium Mixed",
           "Large",
           "Medium",
           "Medium Large Mixed",
           "Small",
           "Small Large Mixed",
           "Small Medium Mixed"
          ]
         ]
        },
        {
         "name": "IsIntersection",
         "orientation": "h",
         "type": "bar",
         "x": [
          72.20732787383676,
          55.177862629307434,
          65.40633158742179,
          21.975861498006733,
          43.95760552522817,
          39.684329667234245,
          50.4538277020605,
          39.18078839473068,
          47.564935128499094,
          32.89044338586568,
          41.185175521529075,
          38.05514333976413,
          47.834965051049466,
          38.49283820409259,
          42.91690890149773
         ],
         "y": [
          [
           "Bbox Inside Other (TRUE)",
           "Bbox Inside Other (TRUE)",
           "Bbox Inside Other (TRUE)",
           "Bbox Overlap (FALSE)",
           "Bbox Overlap (FALSE)",
           "Bbox Overlap (FALSE)",
           "Bbox Overlap (FALSE)",
           "Bbox Overlap (FALSE)",
           "Bbox Overlap (FALSE)",
           "Bbox Partial Overlap (TRUE)",
           "Bbox Partial Overlap (TRUE)",
           "Bbox Partial Overlap (TRUE)",
           "Bbox Partial Overlap (TRUE)",
           "Bbox Partial Overlap (TRUE)",
           "Bbox Partial Overlap (TRUE)"
          ],
          [
           "Small",
           "Small Large Mixed",
           "Small Medium Mixed",
           "Large",
           "Medium",
           "Medium Large Mixed",
           "Small",
           "Small Large Mixed",
           "Small Medium Mixed",
           "Large",
           "Medium",
           "Medium Large Mixed",
           "Small",
           "Small Large Mixed",
           "Small Medium Mixed"
          ]
         ]
        }
       ],
       "layout": {
        "barmode": "relative",
        "legend": {
         "x": 0.997,
         "xanchor": "right",
         "y": 1.2,
         "yanchor": "top"
        },
        "template": {
         "data": {
          "bar": [
           {
            "error_x": {
             "color": "#2a3f5f"
            },
            "error_y": {
             "color": "#2a3f5f"
            },
            "marker": {
             "line": {
              "color": "#E5ECF6",
              "width": 0.5
             },
             "pattern": {
              "fillmode": "overlay",
              "size": 10,
              "solidity": 0.2
             }
            },
            "type": "bar"
           }
          ],
          "barpolar": [
           {
            "marker": {
             "line": {
              "color": "#E5ECF6",
              "width": 0.5
             },
             "pattern": {
              "fillmode": "overlay",
              "size": 10,
              "solidity": 0.2
             }
            },
            "type": "barpolar"
           }
          ],
          "carpet": [
           {
            "aaxis": {
             "endlinecolor": "#2a3f5f",
             "gridcolor": "white",
             "linecolor": "white",
             "minorgridcolor": "white",
             "startlinecolor": "#2a3f5f"
            },
            "baxis": {
             "endlinecolor": "#2a3f5f",
             "gridcolor": "white",
             "linecolor": "white",
             "minorgridcolor": "white",
             "startlinecolor": "#2a3f5f"
            },
            "type": "carpet"
           }
          ],
          "choropleth": [
           {
            "colorbar": {
             "outlinewidth": 0,
             "ticks": ""
            },
            "type": "choropleth"
           }
          ],
          "contour": [
           {
            "colorbar": {
             "outlinewidth": 0,
             "ticks": ""
            },
            "colorscale": [
             [
              0,
              "#0d0887"
             ],
             [
              0.1111111111111111,
              "#46039f"
             ],
             [
              0.2222222222222222,
              "#7201a8"
             ],
             [
              0.3333333333333333,
              "#9c179e"
             ],
             [
              0.4444444444444444,
              "#bd3786"
             ],
             [
              0.5555555555555556,
              "#d8576b"
             ],
             [
              0.6666666666666666,
              "#ed7953"
             ],
             [
              0.7777777777777778,
              "#fb9f3a"
             ],
             [
              0.8888888888888888,
              "#fdca26"
             ],
             [
              1,
              "#f0f921"
             ]
            ],
            "type": "contour"
           }
          ],
          "contourcarpet": [
           {
            "colorbar": {
             "outlinewidth": 0,
             "ticks": ""
            },
            "type": "contourcarpet"
           }
          ],
          "heatmap": [
           {
            "colorbar": {
             "outlinewidth": 0,
             "ticks": ""
            },
            "colorscale": [
             [
              0,
              "#0d0887"
             ],
             [
              0.1111111111111111,
              "#46039f"
             ],
             [
              0.2222222222222222,
              "#7201a8"
             ],
             [
              0.3333333333333333,
              "#9c179e"
             ],
             [
              0.4444444444444444,
              "#bd3786"
             ],
             [
              0.5555555555555556,
              "#d8576b"
             ],
             [
              0.6666666666666666,
              "#ed7953"
             ],
             [
              0.7777777777777778,
              "#fb9f3a"
             ],
             [
              0.8888888888888888,
              "#fdca26"
             ],
             [
              1,
              "#f0f921"
             ]
            ],
            "type": "heatmap"
           }
          ],
          "heatmapgl": [
           {
            "colorbar": {
             "outlinewidth": 0,
             "ticks": ""
            },
            "colorscale": [
             [
              0,
              "#0d0887"
             ],
             [
              0.1111111111111111,
              "#46039f"
             ],
             [
              0.2222222222222222,
              "#7201a8"
             ],
             [
              0.3333333333333333,
              "#9c179e"
             ],
             [
              0.4444444444444444,
              "#bd3786"
             ],
             [
              0.5555555555555556,
              "#d8576b"
             ],
             [
              0.6666666666666666,
              "#ed7953"
             ],
             [
              0.7777777777777778,
              "#fb9f3a"
             ],
             [
              0.8888888888888888,
              "#fdca26"
             ],
             [
              1,
              "#f0f921"
             ]
            ],
            "type": "heatmapgl"
           }
          ],
          "histogram": [
           {
            "marker": {
             "pattern": {
              "fillmode": "overlay",
              "size": 10,
              "solidity": 0.2
             }
            },
            "type": "histogram"
           }
          ],
          "histogram2d": [
           {
            "colorbar": {
             "outlinewidth": 0,
             "ticks": ""
            },
            "colorscale": [
             [
              0,
              "#0d0887"
             ],
             [
              0.1111111111111111,
              "#46039f"
             ],
             [
              0.2222222222222222,
              "#7201a8"
             ],
             [
              0.3333333333333333,
              "#9c179e"
             ],
             [
              0.4444444444444444,
              "#bd3786"
             ],
             [
              0.5555555555555556,
              "#d8576b"
             ],
             [
              0.6666666666666666,
              "#ed7953"
             ],
             [
              0.7777777777777778,
              "#fb9f3a"
             ],
             [
              0.8888888888888888,
              "#fdca26"
             ],
             [
              1,
              "#f0f921"
             ]
            ],
            "type": "histogram2d"
           }
          ],
          "histogram2dcontour": [
           {
            "colorbar": {
             "outlinewidth": 0,
             "ticks": ""
            },
            "colorscale": [
             [
              0,
              "#0d0887"
             ],
             [
              0.1111111111111111,
              "#46039f"
             ],
             [
              0.2222222222222222,
              "#7201a8"
             ],
             [
              0.3333333333333333,
              "#9c179e"
             ],
             [
              0.4444444444444444,
              "#bd3786"
             ],
             [
              0.5555555555555556,
              "#d8576b"
             ],
             [
              0.6666666666666666,
              "#ed7953"
             ],
             [
              0.7777777777777778,
              "#fb9f3a"
             ],
             [
              0.8888888888888888,
              "#fdca26"
             ],
             [
              1,
              "#f0f921"
             ]
            ],
            "type": "histogram2dcontour"
           }
          ],
          "mesh3d": [
           {
            "colorbar": {
             "outlinewidth": 0,
             "ticks": ""
            },
            "type": "mesh3d"
           }
          ],
          "parcoords": [
           {
            "line": {
             "colorbar": {
              "outlinewidth": 0,
              "ticks": ""
             }
            },
            "type": "parcoords"
           }
          ],
          "pie": [
           {
            "automargin": true,
            "type": "pie"
           }
          ],
          "scatter": [
           {
            "fillpattern": {
             "fillmode": "overlay",
             "size": 10,
             "solidity": 0.2
            },
            "type": "scatter"
           }
          ],
          "scatter3d": [
           {
            "line": {
             "colorbar": {
              "outlinewidth": 0,
              "ticks": ""
             }
            },
            "marker": {
             "colorbar": {
              "outlinewidth": 0,
              "ticks": ""
             }
            },
            "type": "scatter3d"
           }
          ],
          "scattercarpet": [
           {
            "marker": {
             "colorbar": {
              "outlinewidth": 0,
              "ticks": ""
             }
            },
            "type": "scattercarpet"
           }
          ],
          "scattergeo": [
           {
            "marker": {
             "colorbar": {
              "outlinewidth": 0,
              "ticks": ""
             }
            },
            "type": "scattergeo"
           }
          ],
          "scattergl": [
           {
            "marker": {
             "colorbar": {
              "outlinewidth": 0,
              "ticks": ""
             }
            },
            "type": "scattergl"
           }
          ],
          "scattermapbox": [
           {
            "marker": {
             "colorbar": {
              "outlinewidth": 0,
              "ticks": ""
             }
            },
            "type": "scattermapbox"
           }
          ],
          "scatterpolar": [
           {
            "marker": {
             "colorbar": {
              "outlinewidth": 0,
              "ticks": ""
             }
            },
            "type": "scatterpolar"
           }
          ],
          "scatterpolargl": [
           {
            "marker": {
             "colorbar": {
              "outlinewidth": 0,
              "ticks": ""
             }
            },
            "type": "scatterpolargl"
           }
          ],
          "scatterternary": [
           {
            "marker": {
             "colorbar": {
              "outlinewidth": 0,
              "ticks": ""
             }
            },
            "type": "scatterternary"
           }
          ],
          "surface": [
           {
            "colorbar": {
             "outlinewidth": 0,
             "ticks": ""
            },
            "colorscale": [
             [
              0,
              "#0d0887"
             ],
             [
              0.1111111111111111,
              "#46039f"
             ],
             [
              0.2222222222222222,
              "#7201a8"
             ],
             [
              0.3333333333333333,
              "#9c179e"
             ],
             [
              0.4444444444444444,
              "#bd3786"
             ],
             [
              0.5555555555555556,
              "#d8576b"
             ],
             [
              0.6666666666666666,
              "#ed7953"
             ],
             [
              0.7777777777777778,
              "#fb9f3a"
             ],
             [
              0.8888888888888888,
              "#fdca26"
             ],
             [
              1,
              "#f0f921"
             ]
            ],
            "type": "surface"
           }
          ],
          "table": [
           {
            "cells": {
             "fill": {
              "color": "#EBF0F8"
             },
             "line": {
              "color": "white"
             }
            },
            "header": {
             "fill": {
              "color": "#C8D4E3"
             },
             "line": {
              "color": "white"
             }
            },
            "type": "table"
           }
          ]
         },
         "layout": {
          "annotationdefaults": {
           "arrowcolor": "#2a3f5f",
           "arrowhead": 0,
           "arrowwidth": 1
          },
          "autotypenumbers": "strict",
          "coloraxis": {
           "colorbar": {
            "outlinewidth": 0,
            "ticks": ""
           }
          },
          "colorscale": {
           "diverging": [
            [
             0,
             "#8e0152"
            ],
            [
             0.1,
             "#c51b7d"
            ],
            [
             0.2,
             "#de77ae"
            ],
            [
             0.3,
             "#f1b6da"
            ],
            [
             0.4,
             "#fde0ef"
            ],
            [
             0.5,
             "#f7f7f7"
            ],
            [
             0.6,
             "#e6f5d0"
            ],
            [
             0.7,
             "#b8e186"
            ],
            [
             0.8,
             "#7fbc41"
            ],
            [
             0.9,
             "#4d9221"
            ],
            [
             1,
             "#276419"
            ]
           ],
           "sequential": [
            [
             0,
             "#0d0887"
            ],
            [
             0.1111111111111111,
             "#46039f"
            ],
            [
             0.2222222222222222,
             "#7201a8"
            ],
            [
             0.3333333333333333,
             "#9c179e"
            ],
            [
             0.4444444444444444,
             "#bd3786"
            ],
            [
             0.5555555555555556,
             "#d8576b"
            ],
            [
             0.6666666666666666,
             "#ed7953"
            ],
            [
             0.7777777777777778,
             "#fb9f3a"
            ],
            [
             0.8888888888888888,
             "#fdca26"
            ],
            [
             1,
             "#f0f921"
            ]
           ],
           "sequentialminus": [
            [
             0,
             "#0d0887"
            ],
            [
             0.1111111111111111,
             "#46039f"
            ],
            [
             0.2222222222222222,
             "#7201a8"
            ],
            [
             0.3333333333333333,
             "#9c179e"
            ],
            [
             0.4444444444444444,
             "#bd3786"
            ],
            [
             0.5555555555555556,
             "#d8576b"
            ],
            [
             0.6666666666666666,
             "#ed7953"
            ],
            [
             0.7777777777777778,
             "#fb9f3a"
            ],
            [
             0.8888888888888888,
             "#fdca26"
            ],
            [
             1,
             "#f0f921"
            ]
           ]
          },
          "colorway": [
           "#636efa",
           "#EF553B",
           "#00cc96",
           "#ab63fa",
           "#FFA15A",
           "#19d3f3",
           "#FF6692",
           "#B6E880",
           "#FF97FF",
           "#FECB52"
          ],
          "font": {
           "color": "#2a3f5f"
          },
          "geo": {
           "bgcolor": "white",
           "lakecolor": "white",
           "landcolor": "#E5ECF6",
           "showlakes": true,
           "showland": true,
           "subunitcolor": "white"
          },
          "hoverlabel": {
           "align": "left"
          },
          "hovermode": "closest",
          "mapbox": {
           "style": "light"
          },
          "paper_bgcolor": "white",
          "plot_bgcolor": "#E5ECF6",
          "polar": {
           "angularaxis": {
            "gridcolor": "white",
            "linecolor": "white",
            "ticks": ""
           },
           "bgcolor": "#E5ECF6",
           "radialaxis": {
            "gridcolor": "white",
            "linecolor": "white",
            "ticks": ""
           }
          },
          "scene": {
           "xaxis": {
            "backgroundcolor": "#E5ECF6",
            "gridcolor": "white",
            "gridwidth": 2,
            "linecolor": "white",
            "showbackground": true,
            "ticks": "",
            "zerolinecolor": "white"
           },
           "yaxis": {
            "backgroundcolor": "#E5ECF6",
            "gridcolor": "white",
            "gridwidth": 2,
            "linecolor": "white",
            "showbackground": true,
            "ticks": "",
            "zerolinecolor": "white"
           },
           "zaxis": {
            "backgroundcolor": "#E5ECF6",
            "gridcolor": "white",
            "gridwidth": 2,
            "linecolor": "white",
            "showbackground": true,
            "ticks": "",
            "zerolinecolor": "white"
           }
          },
          "shapedefaults": {
           "line": {
            "color": "#2a3f5f"
           }
          },
          "ternary": {
           "aaxis": {
            "gridcolor": "white",
            "linecolor": "white",
            "ticks": ""
           },
           "baxis": {
            "gridcolor": "white",
            "linecolor": "white",
            "ticks": ""
           },
           "bgcolor": "#E5ECF6",
           "caxis": {
            "gridcolor": "white",
            "linecolor": "white",
            "ticks": ""
           }
          },
          "title": {
           "x": 0.05
          },
          "xaxis": {
           "automargin": true,
           "gridcolor": "white",
           "linecolor": "white",
           "ticks": "",
           "title": {
            "standoff": 15
           },
           "zerolinecolor": "white",
           "zerolinewidth": 2
          },
          "yaxis": {
           "automargin": true,
           "gridcolor": "white",
           "linecolor": "white",
           "ticks": "",
           "title": {
            "standoff": 15
           },
           "zerolinecolor": "white",
           "zerolinewidth": 2
          }
         }
        },
        "title": {
         "text": "Execution Time Distrubution for IsIntersection ",
         "x": 0.5
        },
        "xaxis": {
         "title": {
          "text": "Execution Time (%)"
         }
        },
        "yaxis": {
         "title": {
          "text": "Context + Geometry Size)"
         }
        }
       }
      }
     },
     "metadata": {},
     "output_type": "display_data"
    }
   ],
   "source": [
    "\n",
    "plot_partial_decomp_frac(partial_frac_df, is_predicate=False, is_baseline=True)\n",
    "plot_partial_decomp_frac(partial_frac_df, is_predicate=False, is_baseline=False)\n",
    "plot_partial_decomp_frac(partial_frac_df, is_predicate=True, is_baseline=True)\n",
    "plot_partial_decomp_frac(partial_frac_df, is_predicate=True, is_baseline=False)"
   ]
  },
  {
   "attachments": {},
   "cell_type": "markdown",
   "metadata": {},
   "source": [
    "#### MAX_NBR_DELTAS Analysis"
   ]
  },
  {
   "cell_type": "code",
   "execution_count": 21,
   "metadata": {},
   "outputs": [
    {
     "data": {
      "application/vnd.plotly.v1+json": {
       "config": {
        "plotlyServerURL": "https://plot.ly"
       },
       "data": [
        {
         "mode": "lines",
         "name": "Large(Baseline)",
         "type": "scatter",
         "x": [
          0,
          1,
          2,
          3
         ],
         "xaxis": "x",
         "y": [
          0.021200762978913462,
          0.013840929115441271,
          0.011505263740446994,
          0.010660582983388288
         ],
         "yaxis": "y"
        },
        {
         "mode": "lines",
         "name": "Large",
         "type": "scatter",
         "x": [
          0,
          1,
          2,
          3
         ],
         "xaxis": "x",
         "y": [
          0.014203940463646196,
          0.006958786535889228,
          0.0048819785711028555,
          0.003892954464251314
         ],
         "yaxis": "y"
        },
        {
         "mode": "lines",
         "name": "Medium(Baseline)",
         "type": "scatter",
         "x": [
          0,
          1,
          2,
          3
         ],
         "xaxis": "x2",
         "y": [
          0.001996293887646903,
          0.001512444556013819,
          0.001377638667623547,
          0.0013671958510746696
         ],
         "yaxis": "y2"
        },
        {
         "mode": "lines",
         "name": "Medium",
         "type": "scatter",
         "x": [
          0,
          1,
          2,
          3
         ],
         "xaxis": "x2",
         "y": [
          0.001667588702898852,
          0.0011633053342208128,
          0.00105655048186977,
          0.0009727550738413507
         ],
         "yaxis": "y2"
        },
        {
         "mode": "lines",
         "name": "Medium Large Mixed(Baseline)",
         "type": "scatter",
         "x": [
          0,
          1,
          2,
          3
         ],
         "xaxis": "x3",
         "y": [
          0.0023846617237722966,
          0.002779854375148716,
          0.0020187521620755435,
          0.00203804473803757
         ],
         "yaxis": "y3"
        },
        {
         "mode": "lines",
         "name": "Medium Large Mixed",
         "type": "scatter",
         "x": [
          0,
          1,
          2,
          3
         ],
         "xaxis": "x3",
         "y": [
          0.0012187081751108054,
          0.0007673093376070028,
          0.0006591594121346134,
          0.0006267421007578377
         ],
         "yaxis": "y3"
        },
        {
         "mode": "lines",
         "name": "Small(Baseline)",
         "type": "scatter",
         "x": [
          0,
          1,
          2,
          3
         ],
         "xaxis": "x4",
         "y": [
          0.0008177461995407665,
          0.0006797748764631037,
          0.0006946615293974686,
          0.0007022556353630909
         ],
         "yaxis": "y4"
        },
        {
         "mode": "lines",
         "name": "Small",
         "type": "scatter",
         "x": [
          0,
          1,
          2,
          3
         ],
         "xaxis": "x4",
         "y": [
          0.000815552979688886,
          0.0006611080202941701,
          0.0006409073113258381,
          0.0006347820208140868
         ],
         "yaxis": "y4"
        },
        {
         "mode": "lines",
         "name": "Small Large Mixed(Baseline)",
         "type": "scatter",
         "x": [
          0,
          1,
          2,
          3
         ],
         "xaxis": "x5",
         "y": [
          0.002597849840071831,
          0.001984686707316996,
          0.0019090621606210334,
          0.002090415687462155
         ],
         "yaxis": "y5"
        },
        {
         "mode": "lines",
         "name": "Small Large Mixed",
         "type": "scatter",
         "x": [
          0,
          1,
          2,
          3
         ],
         "xaxis": "x5",
         "y": [
          0.0012184118325535565,
          0.0007604230701758752,
          0.0006321030235767466,
          0.0005710744882776453
         ],
         "yaxis": "y5"
        },
        {
         "mode": "lines",
         "name": "Small Medium Mixed(Baseline)",
         "type": "scatter",
         "x": [
          0,
          1,
          2,
          3
         ],
         "xaxis": "x6",
         "y": [
          0.0010901329826678982,
          0.0009297837881346654,
          0.0008902048493273952,
          0.000893116079346046
         ],
         "yaxis": "y6"
        },
        {
         "mode": "lines",
         "name": "Small Medium Mixed",
         "type": "scatter",
         "x": [
          0,
          1,
          2,
          3
         ],
         "xaxis": "x6",
         "y": [
          0.0009595706722280835,
          0.0006996137875573199,
          0.0006454755486178715,
          0.0007089943810730794
         ],
         "yaxis": "y6"
        }
       ],
       "layout": {
        "annotations": [
         {
          "font": {
           "size": 16
          },
          "showarrow": false,
          "text": "Large",
          "x": 0.13333333333333333,
          "xanchor": "center",
          "xref": "paper",
          "y": 1,
          "yanchor": "bottom",
          "yref": "paper"
         },
         {
          "font": {
           "size": 16
          },
          "showarrow": false,
          "text": "Medium",
          "x": 0.5,
          "xanchor": "center",
          "xref": "paper",
          "y": 1,
          "yanchor": "bottom",
          "yref": "paper"
         },
         {
          "font": {
           "size": 16
          },
          "showarrow": false,
          "text": "Medium Large Mixed",
          "x": 0.8666666666666667,
          "xanchor": "center",
          "xref": "paper",
          "y": 1,
          "yanchor": "bottom",
          "yref": "paper"
         },
         {
          "font": {
           "size": 16
          },
          "showarrow": false,
          "text": "Small",
          "x": 0.13333333333333333,
          "xanchor": "center",
          "xref": "paper",
          "y": 0.375,
          "yanchor": "bottom",
          "yref": "paper"
         },
         {
          "font": {
           "size": 16
          },
          "showarrow": false,
          "text": "Small Large Mixed",
          "x": 0.5,
          "xanchor": "center",
          "xref": "paper",
          "y": 0.375,
          "yanchor": "bottom",
          "yref": "paper"
         },
         {
          "font": {
           "size": 16
          },
          "showarrow": false,
          "text": "Small Medium Mixed",
          "x": 0.8666666666666667,
          "xanchor": "center",
          "xref": "paper",
          "y": 0.375,
          "yanchor": "bottom",
          "yref": "paper"
         },
         {
          "font": {
           "size": 16
          },
          "showarrow": false,
          "text": "Max Chunk Size",
          "x": 0.5,
          "xanchor": "center",
          "xref": "paper",
          "y": 0,
          "yanchor": "top",
          "yref": "paper",
          "yshift": -30
         },
         {
          "font": {
           "size": 16
          },
          "showarrow": false,
          "text": "Mean Execution Time (s)",
          "textangle": -90,
          "x": 0,
          "xanchor": "right",
          "xref": "paper",
          "xshift": -40,
          "y": 0.5,
          "yanchor": "middle",
          "yref": "paper"
         }
        ],
        "template": {
         "data": {
          "bar": [
           {
            "error_x": {
             "color": "#2a3f5f"
            },
            "error_y": {
             "color": "#2a3f5f"
            },
            "marker": {
             "line": {
              "color": "#E5ECF6",
              "width": 0.5
             },
             "pattern": {
              "fillmode": "overlay",
              "size": 10,
              "solidity": 0.2
             }
            },
            "type": "bar"
           }
          ],
          "barpolar": [
           {
            "marker": {
             "line": {
              "color": "#E5ECF6",
              "width": 0.5
             },
             "pattern": {
              "fillmode": "overlay",
              "size": 10,
              "solidity": 0.2
             }
            },
            "type": "barpolar"
           }
          ],
          "carpet": [
           {
            "aaxis": {
             "endlinecolor": "#2a3f5f",
             "gridcolor": "white",
             "linecolor": "white",
             "minorgridcolor": "white",
             "startlinecolor": "#2a3f5f"
            },
            "baxis": {
             "endlinecolor": "#2a3f5f",
             "gridcolor": "white",
             "linecolor": "white",
             "minorgridcolor": "white",
             "startlinecolor": "#2a3f5f"
            },
            "type": "carpet"
           }
          ],
          "choropleth": [
           {
            "colorbar": {
             "outlinewidth": 0,
             "ticks": ""
            },
            "type": "choropleth"
           }
          ],
          "contour": [
           {
            "colorbar": {
             "outlinewidth": 0,
             "ticks": ""
            },
            "colorscale": [
             [
              0,
              "#0d0887"
             ],
             [
              0.1111111111111111,
              "#46039f"
             ],
             [
              0.2222222222222222,
              "#7201a8"
             ],
             [
              0.3333333333333333,
              "#9c179e"
             ],
             [
              0.4444444444444444,
              "#bd3786"
             ],
             [
              0.5555555555555556,
              "#d8576b"
             ],
             [
              0.6666666666666666,
              "#ed7953"
             ],
             [
              0.7777777777777778,
              "#fb9f3a"
             ],
             [
              0.8888888888888888,
              "#fdca26"
             ],
             [
              1,
              "#f0f921"
             ]
            ],
            "type": "contour"
           }
          ],
          "contourcarpet": [
           {
            "colorbar": {
             "outlinewidth": 0,
             "ticks": ""
            },
            "type": "contourcarpet"
           }
          ],
          "heatmap": [
           {
            "colorbar": {
             "outlinewidth": 0,
             "ticks": ""
            },
            "colorscale": [
             [
              0,
              "#0d0887"
             ],
             [
              0.1111111111111111,
              "#46039f"
             ],
             [
              0.2222222222222222,
              "#7201a8"
             ],
             [
              0.3333333333333333,
              "#9c179e"
             ],
             [
              0.4444444444444444,
              "#bd3786"
             ],
             [
              0.5555555555555556,
              "#d8576b"
             ],
             [
              0.6666666666666666,
              "#ed7953"
             ],
             [
              0.7777777777777778,
              "#fb9f3a"
             ],
             [
              0.8888888888888888,
              "#fdca26"
             ],
             [
              1,
              "#f0f921"
             ]
            ],
            "type": "heatmap"
           }
          ],
          "heatmapgl": [
           {
            "colorbar": {
             "outlinewidth": 0,
             "ticks": ""
            },
            "colorscale": [
             [
              0,
              "#0d0887"
             ],
             [
              0.1111111111111111,
              "#46039f"
             ],
             [
              0.2222222222222222,
              "#7201a8"
             ],
             [
              0.3333333333333333,
              "#9c179e"
             ],
             [
              0.4444444444444444,
              "#bd3786"
             ],
             [
              0.5555555555555556,
              "#d8576b"
             ],
             [
              0.6666666666666666,
              "#ed7953"
             ],
             [
              0.7777777777777778,
              "#fb9f3a"
             ],
             [
              0.8888888888888888,
              "#fdca26"
             ],
             [
              1,
              "#f0f921"
             ]
            ],
            "type": "heatmapgl"
           }
          ],
          "histogram": [
           {
            "marker": {
             "pattern": {
              "fillmode": "overlay",
              "size": 10,
              "solidity": 0.2
             }
            },
            "type": "histogram"
           }
          ],
          "histogram2d": [
           {
            "colorbar": {
             "outlinewidth": 0,
             "ticks": ""
            },
            "colorscale": [
             [
              0,
              "#0d0887"
             ],
             [
              0.1111111111111111,
              "#46039f"
             ],
             [
              0.2222222222222222,
              "#7201a8"
             ],
             [
              0.3333333333333333,
              "#9c179e"
             ],
             [
              0.4444444444444444,
              "#bd3786"
             ],
             [
              0.5555555555555556,
              "#d8576b"
             ],
             [
              0.6666666666666666,
              "#ed7953"
             ],
             [
              0.7777777777777778,
              "#fb9f3a"
             ],
             [
              0.8888888888888888,
              "#fdca26"
             ],
             [
              1,
              "#f0f921"
             ]
            ],
            "type": "histogram2d"
           }
          ],
          "histogram2dcontour": [
           {
            "colorbar": {
             "outlinewidth": 0,
             "ticks": ""
            },
            "colorscale": [
             [
              0,
              "#0d0887"
             ],
             [
              0.1111111111111111,
              "#46039f"
             ],
             [
              0.2222222222222222,
              "#7201a8"
             ],
             [
              0.3333333333333333,
              "#9c179e"
             ],
             [
              0.4444444444444444,
              "#bd3786"
             ],
             [
              0.5555555555555556,
              "#d8576b"
             ],
             [
              0.6666666666666666,
              "#ed7953"
             ],
             [
              0.7777777777777778,
              "#fb9f3a"
             ],
             [
              0.8888888888888888,
              "#fdca26"
             ],
             [
              1,
              "#f0f921"
             ]
            ],
            "type": "histogram2dcontour"
           }
          ],
          "mesh3d": [
           {
            "colorbar": {
             "outlinewidth": 0,
             "ticks": ""
            },
            "type": "mesh3d"
           }
          ],
          "parcoords": [
           {
            "line": {
             "colorbar": {
              "outlinewidth": 0,
              "ticks": ""
             }
            },
            "type": "parcoords"
           }
          ],
          "pie": [
           {
            "automargin": true,
            "type": "pie"
           }
          ],
          "scatter": [
           {
            "fillpattern": {
             "fillmode": "overlay",
             "size": 10,
             "solidity": 0.2
            },
            "type": "scatter"
           }
          ],
          "scatter3d": [
           {
            "line": {
             "colorbar": {
              "outlinewidth": 0,
              "ticks": ""
             }
            },
            "marker": {
             "colorbar": {
              "outlinewidth": 0,
              "ticks": ""
             }
            },
            "type": "scatter3d"
           }
          ],
          "scattercarpet": [
           {
            "marker": {
             "colorbar": {
              "outlinewidth": 0,
              "ticks": ""
             }
            },
            "type": "scattercarpet"
           }
          ],
          "scattergeo": [
           {
            "marker": {
             "colorbar": {
              "outlinewidth": 0,
              "ticks": ""
             }
            },
            "type": "scattergeo"
           }
          ],
          "scattergl": [
           {
            "marker": {
             "colorbar": {
              "outlinewidth": 0,
              "ticks": ""
             }
            },
            "type": "scattergl"
           }
          ],
          "scattermapbox": [
           {
            "marker": {
             "colorbar": {
              "outlinewidth": 0,
              "ticks": ""
             }
            },
            "type": "scattermapbox"
           }
          ],
          "scatterpolar": [
           {
            "marker": {
             "colorbar": {
              "outlinewidth": 0,
              "ticks": ""
             }
            },
            "type": "scatterpolar"
           }
          ],
          "scatterpolargl": [
           {
            "marker": {
             "colorbar": {
              "outlinewidth": 0,
              "ticks": ""
             }
            },
            "type": "scatterpolargl"
           }
          ],
          "scatterternary": [
           {
            "marker": {
             "colorbar": {
              "outlinewidth": 0,
              "ticks": ""
             }
            },
            "type": "scatterternary"
           }
          ],
          "surface": [
           {
            "colorbar": {
             "outlinewidth": 0,
             "ticks": ""
            },
            "colorscale": [
             [
              0,
              "#0d0887"
             ],
             [
              0.1111111111111111,
              "#46039f"
             ],
             [
              0.2222222222222222,
              "#7201a8"
             ],
             [
              0.3333333333333333,
              "#9c179e"
             ],
             [
              0.4444444444444444,
              "#bd3786"
             ],
             [
              0.5555555555555556,
              "#d8576b"
             ],
             [
              0.6666666666666666,
              "#ed7953"
             ],
             [
              0.7777777777777778,
              "#fb9f3a"
             ],
             [
              0.8888888888888888,
              "#fdca26"
             ],
             [
              1,
              "#f0f921"
             ]
            ],
            "type": "surface"
           }
          ],
          "table": [
           {
            "cells": {
             "fill": {
              "color": "#EBF0F8"
             },
             "line": {
              "color": "white"
             }
            },
            "header": {
             "fill": {
              "color": "#C8D4E3"
             },
             "line": {
              "color": "white"
             }
            },
            "type": "table"
           }
          ]
         },
         "layout": {
          "annotationdefaults": {
           "arrowcolor": "#2a3f5f",
           "arrowhead": 0,
           "arrowwidth": 1
          },
          "autotypenumbers": "strict",
          "coloraxis": {
           "colorbar": {
            "outlinewidth": 0,
            "ticks": ""
           }
          },
          "colorscale": {
           "diverging": [
            [
             0,
             "#8e0152"
            ],
            [
             0.1,
             "#c51b7d"
            ],
            [
             0.2,
             "#de77ae"
            ],
            [
             0.3,
             "#f1b6da"
            ],
            [
             0.4,
             "#fde0ef"
            ],
            [
             0.5,
             "#f7f7f7"
            ],
            [
             0.6,
             "#e6f5d0"
            ],
            [
             0.7,
             "#b8e186"
            ],
            [
             0.8,
             "#7fbc41"
            ],
            [
             0.9,
             "#4d9221"
            ],
            [
             1,
             "#276419"
            ]
           ],
           "sequential": [
            [
             0,
             "#0d0887"
            ],
            [
             0.1111111111111111,
             "#46039f"
            ],
            [
             0.2222222222222222,
             "#7201a8"
            ],
            [
             0.3333333333333333,
             "#9c179e"
            ],
            [
             0.4444444444444444,
             "#bd3786"
            ],
            [
             0.5555555555555556,
             "#d8576b"
            ],
            [
             0.6666666666666666,
             "#ed7953"
            ],
            [
             0.7777777777777778,
             "#fb9f3a"
            ],
            [
             0.8888888888888888,
             "#fdca26"
            ],
            [
             1,
             "#f0f921"
            ]
           ],
           "sequentialminus": [
            [
             0,
             "#0d0887"
            ],
            [
             0.1111111111111111,
             "#46039f"
            ],
            [
             0.2222222222222222,
             "#7201a8"
            ],
            [
             0.3333333333333333,
             "#9c179e"
            ],
            [
             0.4444444444444444,
             "#bd3786"
            ],
            [
             0.5555555555555556,
             "#d8576b"
            ],
            [
             0.6666666666666666,
             "#ed7953"
            ],
            [
             0.7777777777777778,
             "#fb9f3a"
            ],
            [
             0.8888888888888888,
             "#fdca26"
            ],
            [
             1,
             "#f0f921"
            ]
           ]
          },
          "colorway": [
           "#636efa",
           "#EF553B",
           "#00cc96",
           "#ab63fa",
           "#FFA15A",
           "#19d3f3",
           "#FF6692",
           "#B6E880",
           "#FF97FF",
           "#FECB52"
          ],
          "font": {
           "color": "#2a3f5f"
          },
          "geo": {
           "bgcolor": "white",
           "lakecolor": "white",
           "landcolor": "#E5ECF6",
           "showlakes": true,
           "showland": true,
           "subunitcolor": "white"
          },
          "hoverlabel": {
           "align": "left"
          },
          "hovermode": "closest",
          "mapbox": {
           "style": "light"
          },
          "paper_bgcolor": "white",
          "plot_bgcolor": "#E5ECF6",
          "polar": {
           "angularaxis": {
            "gridcolor": "white",
            "linecolor": "white",
            "ticks": ""
           },
           "bgcolor": "#E5ECF6",
           "radialaxis": {
            "gridcolor": "white",
            "linecolor": "white",
            "ticks": ""
           }
          },
          "scene": {
           "xaxis": {
            "backgroundcolor": "#E5ECF6",
            "gridcolor": "white",
            "gridwidth": 2,
            "linecolor": "white",
            "showbackground": true,
            "ticks": "",
            "zerolinecolor": "white"
           },
           "yaxis": {
            "backgroundcolor": "#E5ECF6",
            "gridcolor": "white",
            "gridwidth": 2,
            "linecolor": "white",
            "showbackground": true,
            "ticks": "",
            "zerolinecolor": "white"
           },
           "zaxis": {
            "backgroundcolor": "#E5ECF6",
            "gridcolor": "white",
            "gridwidth": 2,
            "linecolor": "white",
            "showbackground": true,
            "ticks": "",
            "zerolinecolor": "white"
           }
          },
          "shapedefaults": {
           "line": {
            "color": "#2a3f5f"
           }
          },
          "ternary": {
           "aaxis": {
            "gridcolor": "white",
            "linecolor": "white",
            "ticks": ""
           },
           "baxis": {
            "gridcolor": "white",
            "linecolor": "white",
            "ticks": ""
           },
           "bgcolor": "#E5ECF6",
           "caxis": {
            "gridcolor": "white",
            "linecolor": "white",
            "ticks": ""
           }
          },
          "title": {
           "x": 0.05
          },
          "xaxis": {
           "automargin": true,
           "gridcolor": "white",
           "linecolor": "white",
           "ticks": "",
           "title": {
            "standoff": 15
           },
           "zerolinecolor": "white",
           "zerolinewidth": 2
          },
          "yaxis": {
           "automargin": true,
           "gridcolor": "white",
           "linecolor": "white",
           "ticks": "",
           "title": {
            "standoff": 15
           },
           "zerolinecolor": "white",
           "zerolinewidth": 2
          }
         }
        },
        "title": {
         "text": "Execution Time for Intersection by Max Chunk Size ",
         "x": 0.5
        },
        "xaxis": {
         "anchor": "y",
         "domain": [
          0,
          0.26666666666666666
         ]
        },
        "xaxis2": {
         "anchor": "y2",
         "domain": [
          0.3666666666666667,
          0.6333333333333333
         ]
        },
        "xaxis3": {
         "anchor": "y3",
         "domain": [
          0.7333333333333334,
          1
         ]
        },
        "xaxis4": {
         "anchor": "y4",
         "domain": [
          0,
          0.26666666666666666
         ]
        },
        "xaxis5": {
         "anchor": "y5",
         "domain": [
          0.3666666666666667,
          0.6333333333333333
         ]
        },
        "xaxis6": {
         "anchor": "y6",
         "domain": [
          0.7333333333333334,
          1
         ]
        },
        "yaxis": {
         "anchor": "x",
         "domain": [
          0.625,
          1
         ]
        },
        "yaxis2": {
         "anchor": "x2",
         "domain": [
          0.625,
          1
         ]
        },
        "yaxis3": {
         "anchor": "x3",
         "domain": [
          0.625,
          1
         ]
        },
        "yaxis4": {
         "anchor": "x4",
         "domain": [
          0,
          0.375
         ]
        },
        "yaxis5": {
         "anchor": "x5",
         "domain": [
          0,
          0.375
         ]
        },
        "yaxis6": {
         "anchor": "x6",
         "domain": [
          0,
          0.375
         ]
        }
       }
      }
     },
     "metadata": {},
     "output_type": "display_data"
    },
    {
     "data": {
      "application/vnd.plotly.v1+json": {
       "config": {
        "plotlyServerURL": "https://plot.ly"
       },
       "data": [
        {
         "mode": "lines",
         "name": "Large(Baseline)",
         "type": "scatter",
         "x": [
          0,
          1,
          2,
          3
         ],
         "xaxis": "x",
         "y": [
          0.021200762978913462,
          0.013840929115441271,
          0.011505263740446994,
          0.010660582983388288
         ],
         "yaxis": "y"
        },
        {
         "mode": "lines",
         "name": "Large",
         "type": "scatter",
         "x": [
          0,
          1,
          2,
          3
         ],
         "xaxis": "x",
         "y": [
          0.014203940463646196,
          0.006958786535889228,
          0.0048819785711028555,
          0.003892954464251314
         ],
         "yaxis": "y"
        },
        {
         "mode": "lines",
         "name": "Medium(Baseline)",
         "type": "scatter",
         "x": [
          0,
          1,
          2,
          3
         ],
         "xaxis": "x2",
         "y": [
          0.001996293887646903,
          0.001512444556013819,
          0.001377638667623547,
          0.0013671958510746696
         ],
         "yaxis": "y2"
        },
        {
         "mode": "lines",
         "name": "Medium",
         "type": "scatter",
         "x": [
          0,
          1,
          2,
          3
         ],
         "xaxis": "x2",
         "y": [
          0.001667588702898852,
          0.0011633053342208128,
          0.00105655048186977,
          0.0009727550738413507
         ],
         "yaxis": "y2"
        },
        {
         "mode": "lines",
         "name": "Medium Large Mixed(Baseline)",
         "type": "scatter",
         "x": [
          0,
          1,
          2,
          3
         ],
         "xaxis": "x3",
         "y": [
          0.0023846617237722966,
          0.002779854375148716,
          0.0020187521620755435,
          0.00203804473803757
         ],
         "yaxis": "y3"
        },
        {
         "mode": "lines",
         "name": "Medium Large Mixed",
         "type": "scatter",
         "x": [
          0,
          1,
          2,
          3
         ],
         "xaxis": "x3",
         "y": [
          0.0012187081751108054,
          0.0007673093376070028,
          0.0006591594121346134,
          0.0006267421007578377
         ],
         "yaxis": "y3"
        },
        {
         "mode": "lines",
         "name": "Small(Baseline)",
         "type": "scatter",
         "x": [
          0,
          1,
          2,
          3
         ],
         "xaxis": "x4",
         "y": [
          0.0008177461995407665,
          0.0006797748764631037,
          0.0006946615293974686,
          0.0007022556353630909
         ],
         "yaxis": "y4"
        },
        {
         "mode": "lines",
         "name": "Small",
         "type": "scatter",
         "x": [
          0,
          1,
          2,
          3
         ],
         "xaxis": "x4",
         "y": [
          0.000815552979688886,
          0.0006611080202941701,
          0.0006409073113258381,
          0.0006347820208140868
         ],
         "yaxis": "y4"
        },
        {
         "mode": "lines",
         "name": "Small Large Mixed(Baseline)",
         "type": "scatter",
         "x": [
          0,
          1,
          2,
          3
         ],
         "xaxis": "x5",
         "y": [
          0.002597849840071831,
          0.001984686707316996,
          0.0019090621606210334,
          0.002090415687462155
         ],
         "yaxis": "y5"
        },
        {
         "mode": "lines",
         "name": "Small Large Mixed",
         "type": "scatter",
         "x": [
          0,
          1,
          2,
          3
         ],
         "xaxis": "x5",
         "y": [
          0.0012184118325535565,
          0.0007604230701758752,
          0.0006321030235767466,
          0.0005710744882776453
         ],
         "yaxis": "y5"
        },
        {
         "mode": "lines",
         "name": "Small Medium Mixed(Baseline)",
         "type": "scatter",
         "x": [
          0,
          1,
          2,
          3
         ],
         "xaxis": "x6",
         "y": [
          0.0010901329826678982,
          0.0009297837881346654,
          0.0008902048493273952,
          0.000893116079346046
         ],
         "yaxis": "y6"
        },
        {
         "mode": "lines",
         "name": "Small Medium Mixed",
         "type": "scatter",
         "x": [
          0,
          1,
          2,
          3
         ],
         "xaxis": "x6",
         "y": [
          0.0009595706722280835,
          0.0006996137875573199,
          0.0006454755486178715,
          0.0007089943810730794
         ],
         "yaxis": "y6"
        }
       ],
       "layout": {
        "annotations": [
         {
          "font": {
           "size": 16
          },
          "showarrow": false,
          "text": "Large",
          "x": 0.13333333333333333,
          "xanchor": "center",
          "xref": "paper",
          "y": 1,
          "yanchor": "bottom",
          "yref": "paper"
         },
         {
          "font": {
           "size": 16
          },
          "showarrow": false,
          "text": "Medium",
          "x": 0.5,
          "xanchor": "center",
          "xref": "paper",
          "y": 1,
          "yanchor": "bottom",
          "yref": "paper"
         },
         {
          "font": {
           "size": 16
          },
          "showarrow": false,
          "text": "Medium Large Mixed",
          "x": 0.8666666666666667,
          "xanchor": "center",
          "xref": "paper",
          "y": 1,
          "yanchor": "bottom",
          "yref": "paper"
         },
         {
          "font": {
           "size": 16
          },
          "showarrow": false,
          "text": "Small",
          "x": 0.13333333333333333,
          "xanchor": "center",
          "xref": "paper",
          "y": 0.375,
          "yanchor": "bottom",
          "yref": "paper"
         },
         {
          "font": {
           "size": 16
          },
          "showarrow": false,
          "text": "Small Large Mixed",
          "x": 0.5,
          "xanchor": "center",
          "xref": "paper",
          "y": 0.375,
          "yanchor": "bottom",
          "yref": "paper"
         },
         {
          "font": {
           "size": 16
          },
          "showarrow": false,
          "text": "Small Medium Mixed",
          "x": 0.8666666666666667,
          "xanchor": "center",
          "xref": "paper",
          "y": 0.375,
          "yanchor": "bottom",
          "yref": "paper"
         },
         {
          "font": {
           "size": 16
          },
          "showarrow": false,
          "text": "Max Chunk Size",
          "x": 0.5,
          "xanchor": "center",
          "xref": "paper",
          "y": 0,
          "yanchor": "top",
          "yref": "paper",
          "yshift": -30
         },
         {
          "font": {
           "size": 16
          },
          "showarrow": false,
          "text": "Mean Execution Time (s)",
          "textangle": -90,
          "x": 0,
          "xanchor": "right",
          "xref": "paper",
          "xshift": -40,
          "y": 0.5,
          "yanchor": "middle",
          "yref": "paper"
         }
        ],
        "template": {
         "data": {
          "bar": [
           {
            "error_x": {
             "color": "#2a3f5f"
            },
            "error_y": {
             "color": "#2a3f5f"
            },
            "marker": {
             "line": {
              "color": "#E5ECF6",
              "width": 0.5
             },
             "pattern": {
              "fillmode": "overlay",
              "size": 10,
              "solidity": 0.2
             }
            },
            "type": "bar"
           }
          ],
          "barpolar": [
           {
            "marker": {
             "line": {
              "color": "#E5ECF6",
              "width": 0.5
             },
             "pattern": {
              "fillmode": "overlay",
              "size": 10,
              "solidity": 0.2
             }
            },
            "type": "barpolar"
           }
          ],
          "carpet": [
           {
            "aaxis": {
             "endlinecolor": "#2a3f5f",
             "gridcolor": "white",
             "linecolor": "white",
             "minorgridcolor": "white",
             "startlinecolor": "#2a3f5f"
            },
            "baxis": {
             "endlinecolor": "#2a3f5f",
             "gridcolor": "white",
             "linecolor": "white",
             "minorgridcolor": "white",
             "startlinecolor": "#2a3f5f"
            },
            "type": "carpet"
           }
          ],
          "choropleth": [
           {
            "colorbar": {
             "outlinewidth": 0,
             "ticks": ""
            },
            "type": "choropleth"
           }
          ],
          "contour": [
           {
            "colorbar": {
             "outlinewidth": 0,
             "ticks": ""
            },
            "colorscale": [
             [
              0,
              "#0d0887"
             ],
             [
              0.1111111111111111,
              "#46039f"
             ],
             [
              0.2222222222222222,
              "#7201a8"
             ],
             [
              0.3333333333333333,
              "#9c179e"
             ],
             [
              0.4444444444444444,
              "#bd3786"
             ],
             [
              0.5555555555555556,
              "#d8576b"
             ],
             [
              0.6666666666666666,
              "#ed7953"
             ],
             [
              0.7777777777777778,
              "#fb9f3a"
             ],
             [
              0.8888888888888888,
              "#fdca26"
             ],
             [
              1,
              "#f0f921"
             ]
            ],
            "type": "contour"
           }
          ],
          "contourcarpet": [
           {
            "colorbar": {
             "outlinewidth": 0,
             "ticks": ""
            },
            "type": "contourcarpet"
           }
          ],
          "heatmap": [
           {
            "colorbar": {
             "outlinewidth": 0,
             "ticks": ""
            },
            "colorscale": [
             [
              0,
              "#0d0887"
             ],
             [
              0.1111111111111111,
              "#46039f"
             ],
             [
              0.2222222222222222,
              "#7201a8"
             ],
             [
              0.3333333333333333,
              "#9c179e"
             ],
             [
              0.4444444444444444,
              "#bd3786"
             ],
             [
              0.5555555555555556,
              "#d8576b"
             ],
             [
              0.6666666666666666,
              "#ed7953"
             ],
             [
              0.7777777777777778,
              "#fb9f3a"
             ],
             [
              0.8888888888888888,
              "#fdca26"
             ],
             [
              1,
              "#f0f921"
             ]
            ],
            "type": "heatmap"
           }
          ],
          "heatmapgl": [
           {
            "colorbar": {
             "outlinewidth": 0,
             "ticks": ""
            },
            "colorscale": [
             [
              0,
              "#0d0887"
             ],
             [
              0.1111111111111111,
              "#46039f"
             ],
             [
              0.2222222222222222,
              "#7201a8"
             ],
             [
              0.3333333333333333,
              "#9c179e"
             ],
             [
              0.4444444444444444,
              "#bd3786"
             ],
             [
              0.5555555555555556,
              "#d8576b"
             ],
             [
              0.6666666666666666,
              "#ed7953"
             ],
             [
              0.7777777777777778,
              "#fb9f3a"
             ],
             [
              0.8888888888888888,
              "#fdca26"
             ],
             [
              1,
              "#f0f921"
             ]
            ],
            "type": "heatmapgl"
           }
          ],
          "histogram": [
           {
            "marker": {
             "pattern": {
              "fillmode": "overlay",
              "size": 10,
              "solidity": 0.2
             }
            },
            "type": "histogram"
           }
          ],
          "histogram2d": [
           {
            "colorbar": {
             "outlinewidth": 0,
             "ticks": ""
            },
            "colorscale": [
             [
              0,
              "#0d0887"
             ],
             [
              0.1111111111111111,
              "#46039f"
             ],
             [
              0.2222222222222222,
              "#7201a8"
             ],
             [
              0.3333333333333333,
              "#9c179e"
             ],
             [
              0.4444444444444444,
              "#bd3786"
             ],
             [
              0.5555555555555556,
              "#d8576b"
             ],
             [
              0.6666666666666666,
              "#ed7953"
             ],
             [
              0.7777777777777778,
              "#fb9f3a"
             ],
             [
              0.8888888888888888,
              "#fdca26"
             ],
             [
              1,
              "#f0f921"
             ]
            ],
            "type": "histogram2d"
           }
          ],
          "histogram2dcontour": [
           {
            "colorbar": {
             "outlinewidth": 0,
             "ticks": ""
            },
            "colorscale": [
             [
              0,
              "#0d0887"
             ],
             [
              0.1111111111111111,
              "#46039f"
             ],
             [
              0.2222222222222222,
              "#7201a8"
             ],
             [
              0.3333333333333333,
              "#9c179e"
             ],
             [
              0.4444444444444444,
              "#bd3786"
             ],
             [
              0.5555555555555556,
              "#d8576b"
             ],
             [
              0.6666666666666666,
              "#ed7953"
             ],
             [
              0.7777777777777778,
              "#fb9f3a"
             ],
             [
              0.8888888888888888,
              "#fdca26"
             ],
             [
              1,
              "#f0f921"
             ]
            ],
            "type": "histogram2dcontour"
           }
          ],
          "mesh3d": [
           {
            "colorbar": {
             "outlinewidth": 0,
             "ticks": ""
            },
            "type": "mesh3d"
           }
          ],
          "parcoords": [
           {
            "line": {
             "colorbar": {
              "outlinewidth": 0,
              "ticks": ""
             }
            },
            "type": "parcoords"
           }
          ],
          "pie": [
           {
            "automargin": true,
            "type": "pie"
           }
          ],
          "scatter": [
           {
            "fillpattern": {
             "fillmode": "overlay",
             "size": 10,
             "solidity": 0.2
            },
            "type": "scatter"
           }
          ],
          "scatter3d": [
           {
            "line": {
             "colorbar": {
              "outlinewidth": 0,
              "ticks": ""
             }
            },
            "marker": {
             "colorbar": {
              "outlinewidth": 0,
              "ticks": ""
             }
            },
            "type": "scatter3d"
           }
          ],
          "scattercarpet": [
           {
            "marker": {
             "colorbar": {
              "outlinewidth": 0,
              "ticks": ""
             }
            },
            "type": "scattercarpet"
           }
          ],
          "scattergeo": [
           {
            "marker": {
             "colorbar": {
              "outlinewidth": 0,
              "ticks": ""
             }
            },
            "type": "scattergeo"
           }
          ],
          "scattergl": [
           {
            "marker": {
             "colorbar": {
              "outlinewidth": 0,
              "ticks": ""
             }
            },
            "type": "scattergl"
           }
          ],
          "scattermapbox": [
           {
            "marker": {
             "colorbar": {
              "outlinewidth": 0,
              "ticks": ""
             }
            },
            "type": "scattermapbox"
           }
          ],
          "scatterpolar": [
           {
            "marker": {
             "colorbar": {
              "outlinewidth": 0,
              "ticks": ""
             }
            },
            "type": "scatterpolar"
           }
          ],
          "scatterpolargl": [
           {
            "marker": {
             "colorbar": {
              "outlinewidth": 0,
              "ticks": ""
             }
            },
            "type": "scatterpolargl"
           }
          ],
          "scatterternary": [
           {
            "marker": {
             "colorbar": {
              "outlinewidth": 0,
              "ticks": ""
             }
            },
            "type": "scatterternary"
           }
          ],
          "surface": [
           {
            "colorbar": {
             "outlinewidth": 0,
             "ticks": ""
            },
            "colorscale": [
             [
              0,
              "#0d0887"
             ],
             [
              0.1111111111111111,
              "#46039f"
             ],
             [
              0.2222222222222222,
              "#7201a8"
             ],
             [
              0.3333333333333333,
              "#9c179e"
             ],
             [
              0.4444444444444444,
              "#bd3786"
             ],
             [
              0.5555555555555556,
              "#d8576b"
             ],
             [
              0.6666666666666666,
              "#ed7953"
             ],
             [
              0.7777777777777778,
              "#fb9f3a"
             ],
             [
              0.8888888888888888,
              "#fdca26"
             ],
             [
              1,
              "#f0f921"
             ]
            ],
            "type": "surface"
           }
          ],
          "table": [
           {
            "cells": {
             "fill": {
              "color": "#EBF0F8"
             },
             "line": {
              "color": "white"
             }
            },
            "header": {
             "fill": {
              "color": "#C8D4E3"
             },
             "line": {
              "color": "white"
             }
            },
            "type": "table"
           }
          ]
         },
         "layout": {
          "annotationdefaults": {
           "arrowcolor": "#2a3f5f",
           "arrowhead": 0,
           "arrowwidth": 1
          },
          "autotypenumbers": "strict",
          "coloraxis": {
           "colorbar": {
            "outlinewidth": 0,
            "ticks": ""
           }
          },
          "colorscale": {
           "diverging": [
            [
             0,
             "#8e0152"
            ],
            [
             0.1,
             "#c51b7d"
            ],
            [
             0.2,
             "#de77ae"
            ],
            [
             0.3,
             "#f1b6da"
            ],
            [
             0.4,
             "#fde0ef"
            ],
            [
             0.5,
             "#f7f7f7"
            ],
            [
             0.6,
             "#e6f5d0"
            ],
            [
             0.7,
             "#b8e186"
            ],
            [
             0.8,
             "#7fbc41"
            ],
            [
             0.9,
             "#4d9221"
            ],
            [
             1,
             "#276419"
            ]
           ],
           "sequential": [
            [
             0,
             "#0d0887"
            ],
            [
             0.1111111111111111,
             "#46039f"
            ],
            [
             0.2222222222222222,
             "#7201a8"
            ],
            [
             0.3333333333333333,
             "#9c179e"
            ],
            [
             0.4444444444444444,
             "#bd3786"
            ],
            [
             0.5555555555555556,
             "#d8576b"
            ],
            [
             0.6666666666666666,
             "#ed7953"
            ],
            [
             0.7777777777777778,
             "#fb9f3a"
            ],
            [
             0.8888888888888888,
             "#fdca26"
            ],
            [
             1,
             "#f0f921"
            ]
           ],
           "sequentialminus": [
            [
             0,
             "#0d0887"
            ],
            [
             0.1111111111111111,
             "#46039f"
            ],
            [
             0.2222222222222222,
             "#7201a8"
            ],
            [
             0.3333333333333333,
             "#9c179e"
            ],
            [
             0.4444444444444444,
             "#bd3786"
            ],
            [
             0.5555555555555556,
             "#d8576b"
            ],
            [
             0.6666666666666666,
             "#ed7953"
            ],
            [
             0.7777777777777778,
             "#fb9f3a"
            ],
            [
             0.8888888888888888,
             "#fdca26"
            ],
            [
             1,
             "#f0f921"
            ]
           ]
          },
          "colorway": [
           "#636efa",
           "#EF553B",
           "#00cc96",
           "#ab63fa",
           "#FFA15A",
           "#19d3f3",
           "#FF6692",
           "#B6E880",
           "#FF97FF",
           "#FECB52"
          ],
          "font": {
           "color": "#2a3f5f"
          },
          "geo": {
           "bgcolor": "white",
           "lakecolor": "white",
           "landcolor": "#E5ECF6",
           "showlakes": true,
           "showland": true,
           "subunitcolor": "white"
          },
          "hoverlabel": {
           "align": "left"
          },
          "hovermode": "closest",
          "mapbox": {
           "style": "light"
          },
          "paper_bgcolor": "white",
          "plot_bgcolor": "#E5ECF6",
          "polar": {
           "angularaxis": {
            "gridcolor": "white",
            "linecolor": "white",
            "ticks": ""
           },
           "bgcolor": "#E5ECF6",
           "radialaxis": {
            "gridcolor": "white",
            "linecolor": "white",
            "ticks": ""
           }
          },
          "scene": {
           "xaxis": {
            "backgroundcolor": "#E5ECF6",
            "gridcolor": "white",
            "gridwidth": 2,
            "linecolor": "white",
            "showbackground": true,
            "ticks": "",
            "zerolinecolor": "white"
           },
           "yaxis": {
            "backgroundcolor": "#E5ECF6",
            "gridcolor": "white",
            "gridwidth": 2,
            "linecolor": "white",
            "showbackground": true,
            "ticks": "",
            "zerolinecolor": "white"
           },
           "zaxis": {
            "backgroundcolor": "#E5ECF6",
            "gridcolor": "white",
            "gridwidth": 2,
            "linecolor": "white",
            "showbackground": true,
            "ticks": "",
            "zerolinecolor": "white"
           }
          },
          "shapedefaults": {
           "line": {
            "color": "#2a3f5f"
           }
          },
          "ternary": {
           "aaxis": {
            "gridcolor": "white",
            "linecolor": "white",
            "ticks": ""
           },
           "baxis": {
            "gridcolor": "white",
            "linecolor": "white",
            "ticks": ""
           },
           "bgcolor": "#E5ECF6",
           "caxis": {
            "gridcolor": "white",
            "linecolor": "white",
            "ticks": ""
           }
          },
          "title": {
           "x": 0.05
          },
          "xaxis": {
           "automargin": true,
           "gridcolor": "white",
           "linecolor": "white",
           "ticks": "",
           "title": {
            "standoff": 15
           },
           "zerolinecolor": "white",
           "zerolinewidth": 2
          },
          "yaxis": {
           "automargin": true,
           "gridcolor": "white",
           "linecolor": "white",
           "ticks": "",
           "title": {
            "standoff": 15
           },
           "zerolinecolor": "white",
           "zerolinewidth": 2
          }
         }
        },
        "title": {
         "text": "Execution Time for Intersection by Max Chunk Size ",
         "x": 0.5
        },
        "xaxis": {
         "anchor": "y",
         "domain": [
          0,
          0.26666666666666666
         ]
        },
        "xaxis2": {
         "anchor": "y2",
         "domain": [
          0.3666666666666667,
          0.6333333333333333
         ]
        },
        "xaxis3": {
         "anchor": "y3",
         "domain": [
          0.7333333333333334,
          1
         ]
        },
        "xaxis4": {
         "anchor": "y4",
         "domain": [
          0,
          0.26666666666666666
         ]
        },
        "xaxis5": {
         "anchor": "y5",
         "domain": [
          0.3666666666666667,
          0.6333333333333333
         ]
        },
        "xaxis6": {
         "anchor": "y6",
         "domain": [
          0.7333333333333334,
          1
         ]
        },
        "yaxis": {
         "anchor": "x",
         "domain": [
          0.625,
          1
         ]
        },
        "yaxis2": {
         "anchor": "x2",
         "domain": [
          0.625,
          1
         ]
        },
        "yaxis3": {
         "anchor": "x3",
         "domain": [
          0.625,
          1
         ]
        },
        "yaxis4": {
         "anchor": "x4",
         "domain": [
          0,
          0.375
         ]
        },
        "yaxis5": {
         "anchor": "x5",
         "domain": [
          0,
          0.375
         ]
        },
        "yaxis6": {
         "anchor": "x6",
         "domain": [
          0,
          0.375
         ]
        }
       }
      }
     },
     "metadata": {},
     "output_type": "display_data"
    }
   ],
   "source": [
    "plot_max_delta_size_speed(max_deltas_filt_df, is_predicate=False)\n",
    "plot_max_delta_size_speed(max_deltas_filt_df, is_predicate=False)"
   ]
  },
  {
   "cell_type": "markdown",
   "metadata": {},
   "source": []
  }
 ],
 "metadata": {
  "kernelspec": {
   "display_name": "Python 3",
   "language": "python",
   "name": "python3"
  },
  "language_info": {
   "codemirror_mode": {
    "name": "ipython",
    "version": 3
   },
   "file_extension": ".py",
   "mimetype": "text/x-python",
   "name": "python",
   "nbconvert_exporter": "python",
   "pygments_lexer": "ipython3",
   "version": "3.11.1"
  },
  "orig_nbformat": 4,
  "vscode": {
   "interpreter": {
    "hash": "aee8b7b246df8f9039afb4144a1f6fd8d2ca17a180786b69acc140d282b71a49"
   }
  }
 },
 "nbformat": 4,
 "nbformat_minor": 2
}
