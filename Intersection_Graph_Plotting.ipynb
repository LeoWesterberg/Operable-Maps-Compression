{
 "cells": [
  {
   "attachments": {},
   "cell_type": "markdown",
   "metadata": {},
   "source": [
    "#### Imports"
   ]
  },
  {
   "cell_type": "code",
   "execution_count": 1,
   "metadata": {},
   "outputs": [],
   "source": [
    "import numpy as np\n",
    "import shapely\n",
    "import bisect\n",
    "import shapely.wkt\n",
    "import matplotlib.pyplot as plt\n",
    "import math\n",
    "import geopandas as gpd\n",
    "import json\n",
    "import pandas as pd\n",
    "import seaborn as sns\n",
    "from enum import Enum\n",
    "import plotly.graph_objects as go\n",
    "from plotly.subplots import make_subplots\n",
    "\n",
    "\n",
    "import intersection.first_bin_search\n",
    "import intersection.chunk_bbox_intersection\n",
    "from bench_utils import parse_intersection_data \n",
    "common_bbox = intersection.chunk_bbox_intersection.common_bbox\n",
    "chunk_bbox_is_intersecting = intersection.chunk_bbox_intersection.is_intersecting\n",
    "chunk_bbox_intersection = intersection.chunk_bbox_intersection.intersection\n",
    "\n",
    "\n",
    "\n",
    "from intersection.plotting import *\n",
    "import algos.fpd_extended_lib.cfg as cfg\n",
    "from algos.alg_fpd_extended import FpdExtended\n",
    "\n",
    "\n",
    "pd.options.mode.chained_assignment = None  # default='warn'"
   ]
  },
  {
   "attachments": {},
   "cell_type": "markdown",
   "metadata": {},
   "source": [
    "#### Import data"
   ]
  },
  {
   "cell_type": "code",
   "execution_count": 2,
   "metadata": {},
   "outputs": [],
   "source": [
    "fpd = FpdExtended()\n",
    "\n",
    "# Geometries\n",
    "manual_data, _ = parse_intersection_data(\"manual\")\n",
    "special_cases, _ = parse_intersection_data(\"latest_export.json\", strip_precision=True)\n",
    "world_data, world_data_stats = parse_intersection_data(\"world.json\", 100, strip_precision=True)\n",
    "lund_data, lund_data_stats = parse_intersection_data(\"lund.json\", 100)\n",
    "sweden_data, sweden_data_stats = parse_intersection_data(\"sweden-places-a.json\", 100)\n",
    "new_york_data, new_york_data_stats = parse_intersection_data(\"new-york-natural.json\")\n",
    "waterways_data, waterways_data_stats = parse_intersection_data(\"nord-est-waterways.json\", 100)\n",
    "\n",
    "datasets = [\n",
    "    manual_data,\n",
    "    special_cases,\n",
    "    world_data,\n",
    "    lund_data,\n",
    "    sweden_data,\n",
    "    new_york_data,\n",
    "    waterways_data\n",
    "]\n"
   ]
  },
  {
   "attachments": {},
   "cell_type": "markdown",
   "metadata": {},
   "source": [
    "#### Constants"
   ]
  },
  {
   "cell_type": "code",
   "execution_count": 3,
   "metadata": {},
   "outputs": [],
   "source": [
    "# Number of total iterations = NBR_ITER * N * number_of_datasets\n",
    "NBR_ITER = -1 # Number of iterations for each dataset\n",
    "N = 1 # Number of times to recalculate each geometry for reliable mean value\n",
    "\n",
    "# Max DELTA_SIZE_VALUE in MAX_NUM_DELTAS Analysis\n",
    "MAX_DELTA_SIZE = 200\n",
    "\n",
    "SHOW_PRED = True\n",
    "SHOW_SHAPE = True\n",
    "SHOW_STATS = False\n",
    "SHOW_PREVIOUS = False\n",
    "\n",
    "#Geometry classification sizes\n",
    "MEDIUM_THRESHOLD = 50\n",
    "LARGE_THRESHOLD = 100"
   ]
  },
  {
   "attachments": {},
   "cell_type": "markdown",
   "metadata": {},
   "source": [
    "## Functions Section"
   ]
  },
  {
   "attachments": {},
   "cell_type": "markdown",
   "metadata": {},
   "source": [
    "#### Config Setter Functions"
   ]
  },
  {
   "cell_type": "code",
   "execution_count": 4,
   "metadata": {},
   "outputs": [],
   "source": [
    "def set_max_num_delta(val):\n",
    "        cfg.MAX_NUM_DELTAS = val\n",
    "        cfg.D_CNT_SIZE = cfg.required_bits(val)\n",
    "\n",
    "def act_deact_baseline(activate=True):\n",
    "        cfg.BASELINE_ON = activate\n",
    "        cfg.DISABLE_OPTIMIZED_INTERSECTION = False if not activate else True\n",
    "        cfg.DISABLE_OPTIMIZED_ADD_VERTEX = False if not activate else True\n",
    "        cfg.DISABLE_OPTIMIZED_BOUNDING_BOX = False if not activate else True"
   ]
  },
  {
   "attachments": {},
   "cell_type": "markdown",
   "metadata": {},
   "source": [
    "#### Stats Collector Functions"
   ]
  },
  {
   "cell_type": "code",
   "execution_count": 5,
   "metadata": {},
   "outputs": [],
   "source": [
    "def get_size_category(size):\n",
    "    if size < LARGE_THRESHOLD and size >= MEDIUM_THRESHOLD:\n",
    "            return \"Medium\", 1\n",
    "    elif size >= LARGE_THRESHOLD:\n",
    "         return \"Large\", 2\n",
    "    else:\n",
    "         return \"Small\", 0\n",
    "    \n",
    "def get_intersection_category(size1, size2):\n",
    "    size1_cat, type1 = get_size_category(size1)\n",
    "    size2_cat, type2 = get_size_category(size2)\n",
    "\n",
    "    if type1 == type2:\n",
    "         return size1_cat\n",
    "    if type1 < type2:\n",
    "            return size1_cat + \"_\" + size2_cat + \"_Mixed\"\n",
    "    return size2_cat + \"_\" + size1_cat + \"_Mixed\"\n",
    "        \n",
    "\n",
    "def get_context_category(g1, g2, bins=None):\n",
    "    if bins == None:\n",
    "        _, b1_fpde = fpd.compress(g1)\n",
    "        _, b2_fpde = fpd.compress(g2) \n",
    "    else:\n",
    "        b1_fpde, b2_fpde = bins\n",
    "\n",
    "    bbox = common_bbox((b1_fpde, b2_fpde))\n",
    "    intersects = shapely.intersection(g1, g2)\n",
    "    contains = shapely.contains(g1, g2) or shapely.contains(g2, g1)\n",
    "    if not bbox:\n",
    "        return \"No_Bbox_Overlap (FALSE)\"\n",
    "    elif not intersects:\n",
    "        return \"Bbox_Overlap (FALSE)\"\n",
    "    elif not contains:\n",
    "        return \"Bbox_Partial_Overlap (TRUE)\"\n",
    "    else:\n",
    "        return \"Bbox_Inside_Other (TRUE)\"\n",
    "\n",
    "def get_category_stat(g1, g2):\n",
    "        s1, s2 = (shapely.get_num_coordinates(g1), shapely.get_num_coordinates(g2))\n",
    "        size_category = get_intersection_category(s1, s2)\n",
    "        context_category = get_context_category(g1, g2)\n",
    "        return [size_category, context_category]\n",
    "\n",
    "\n",
    "#For taking mean of all stats, not just total time\n",
    "def get_time_stat(bins, predicate=False):\n",
    "    alg = chunk_bbox_is_intersecting if predicate else chunk_bbox_intersection\n",
    "    # 'decomp', 'nbr_recieved_chks', 'nbr_total_chks', 'total_time'\n",
    "    mean_stat = [0, 0, 0, 0]\n",
    "    for i in range(N):\n",
    "        stat, _ = alg(bins, get_stats=True)\n",
    "        mean_stat = [sum(x) for x in zip(mean_stat, stat)]\n",
    "    return mean_stat\n"
   ]
  },
  {
   "attachments": {},
   "cell_type": "markdown",
   "metadata": {},
   "source": [
    "#### Dataset Evaluation"
   ]
  },
  {
   "cell_type": "code",
   "execution_count": 6,
   "metadata": {},
   "outputs": [],
   "source": [
    "def evaluate_dataset(data, stats_df, delta_size=None):\n",
    "    for idx, (g1, g2) in enumerate(data):\n",
    "        if delta_size != None:\n",
    "            set_max_num_delta(delta_size)\n",
    "        #is_intersecting, intersect_points = binary_intersection(g1, g2)\n",
    "        bins = (fpd.compress(g1)[1], fpd.compress(g2)[1])\n",
    "\n",
    "        for is_predicate in [True,False]:\n",
    "            stats = []\n",
    "            stats.extend(get_time_stat(bins=bins, predicate=is_predicate))\n",
    "            stats.extend(get_category_stat(g1, g2))\n",
    "            stats.append(delta_size if delta_size != None else cfg.MAX_NUM_DELTAS)\n",
    "            stats.append(is_predicate)\n",
    "            stats.append(idx)\n",
    "            stats.append(cfg.BASELINE_ON)\n",
    "            stats_df.loc[len(stats_df)] = stats\n"
   ]
  },
  {
   "attachments": {},
   "cell_type": "markdown",
   "metadata": {},
   "source": [
    "#### Dataset Stats Collection"
   ]
  },
  {
   "cell_type": "code",
   "execution_count": 7,
   "metadata": {},
   "outputs": [],
   "source": [
    "stats_df = pd.DataFrame(columns=['decomp', 'nbr_recieved_chks', 'nbr_total_chks', 'total_time', \"sizes\", \"context\", \"delta_size\", \"predicate\", \"dataset_idx\", \"baseline\"])\n",
    "for baseline_on in [True, False]:\n",
    "    act_deact_baseline(activate=baseline_on)\n",
    "    for dataset in datasets:\n",
    "        evaluate_dataset(dataset, stats_df) # Second param: PLOT?"
   ]
  },
  {
   "attachments": {},
   "cell_type": "markdown",
   "metadata": {},
   "source": [
    "# Statistics Visualization"
   ]
  },
  {
   "cell_type": "markdown",
   "metadata": {},
   "source": [
    "#### Total Execution Time by Context"
   ]
  },
  {
   "cell_type": "code",
   "execution_count": 8,
   "metadata": {},
   "outputs": [],
   "source": [
    "total_time_df = stats_df[['context', 'total_time', 'sizes', 'baseline', 'predicate']]\n",
    "#total_time_df[\"context_size\"] = total_time_df[['sizes', 'context']].agg('-'.join, axis=1)\n"
   ]
  },
  {
   "attachments": {},
   "cell_type": "markdown",
   "metadata": {},
   "source": [
    "##### Boxes"
   ]
  },
  {
   "cell_type": "code",
   "execution_count": 9,
   "metadata": {},
   "outputs": [],
   "source": [
    "# def plot_total_time_box(df, is_predicate=False, size_cat_excl=[], show_outliers=True, log_scale=True):\n",
    "#     df = df[df['predicate'] == is_predicate]\n",
    "    \n",
    "#     for cat in size_cat_excl:\n",
    "#         df = df[df['sizes'].str.contains(cat) == False]\n",
    "\n",
    "#     df.reset_index(inplace=True)\n",
    "#     fig = go.Figure()\n",
    "#     for is_baseline, color_palette in [(True, '#3D9970'), (False,'#FF4136')]:\n",
    "#         curr_df = df[df['baseline'] == is_baseline]\n",
    "#         fig.add_trace(go.Box(\n",
    "#         y= curr_df.total_time.values,\n",
    "#         x=curr_df.context_size.values,\n",
    "#         name='Baseline' if is_baseline else 'FPDE',\n",
    "#         marker_color=color_palette\n",
    "#         ))\n",
    "\n",
    "#     fig.update_layout(\n",
    "#     yaxis_title='normalized moisture',\n",
    "#     boxmode='group' # group together boxes of the different traces for each value of x\n",
    "#     )\n",
    "#     intersection_format = \"Intersection\" if not is_predicate else \"IsIntersection\"\n",
    "#     fig.update_layout(title=f\"Total Execution time for {intersection_format}\",title_x=0.5, boxmode='group')\n",
    "#     fig.update_layout(barmode=\"relative\", xaxis_title=\"Context\", yaxis_title=\"Execution speed\")\n",
    "#     if not show_outliers:\n",
    "#         fig.update_traces(boxpoints=False) \n",
    "\n",
    "#     if log_scale:\n",
    "#         fig.update_yaxes(type=\"log\")\n",
    "\n",
    "#     fig.show()\n",
    "\n",
    "import plotly.express as px\n",
    "def plot_total_time_box(df, is_predicate=False, size_cat_excl=[], log_scale=True):\n",
    "    df = df[df['predicate'] == is_predicate]\n",
    "    \n",
    "    for cat in size_cat_excl:\n",
    "        df = df[df['sizes'].str.contains(cat) == False]\n",
    "\n",
    "    df.reset_index(inplace=True)\n",
    "    intersection_formatting = \"Intersection\" if not is_predicate else \"Is_Intersection\"\n",
    "    fig = px.box(df, \n",
    "                 x=\"context\", \n",
    "                 y=\"total_time\",\n",
    "                 facet_col=\"sizes\", \n",
    "                 color=\"baseline\",\n",
    "                 boxmode=\"group\", \n",
    "                 log_y=log_scale,facet_col_spacing=0.03, \n",
    "                 title=f\"Execution Time for {intersection_formatting} in Different Contexts & Sizes\")\n",
    "    \n",
    "\n",
    "    fig.update_yaxes(matches=None)\n",
    "    fig.for_each_yaxis(lambda yaxis: yaxis.update(showticklabels=True))\n",
    "    \n",
    "    fig.show()"
   ]
  },
  {
   "attachments": {},
   "cell_type": "markdown",
   "metadata": {},
   "source": [
    "##### Bars"
   ]
  },
  {
   "cell_type": "code",
   "execution_count": 10,
   "metadata": {},
   "outputs": [],
   "source": [
    "def plot_total_time_bars(df, is_predicate=False, size_cat_excl=[], log_scale=True):\n",
    "    df = df[df['predicate'] == is_predicate]\n",
    "    \n",
    "    for cat in size_cat_excl:\n",
    "        df = df[df['sizes'].str.contains(cat) == False]\n",
    "    \n",
    "   # df = df.groupby(['context', 'sizes', 'baseline']).mean()\n",
    "    df.reset_index(inplace=True)\n",
    "    intersection_formatting = \"Intersection\" if not is_predicate else \"Is_Intersection\"\n",
    "    fig = px.histogram(df, \n",
    "                       x=\"context\", \n",
    "                       y=\"total_time\", \n",
    "                       color='baseline',\n",
    "                       facet_col=\"sizes\", \n",
    "                       barmode='group',\n",
    "                       log_y=log_scale, \n",
    "                       facet_col_spacing=0.03, \n",
    "                       histfunc=\"avg\", \n",
    "                       title=f\"Execution Time for {intersection_formatting} in Different Contexts & Sizes\")\n",
    "    \n",
    "    fig.update_yaxes(matches=None)\n",
    "    fig.for_each_yaxis(lambda yaxis: yaxis.update(showticklabels=True))\n",
    "    \n",
    "    fig.show()\n"
   ]
  },
  {
   "attachments": {},
   "cell_type": "markdown",
   "metadata": {},
   "source": [
    "#### Chunk Unfolding Analyzation"
   ]
  },
  {
   "cell_type": "code",
   "execution_count": 11,
   "metadata": {},
   "outputs": [],
   "source": [
    "chunk_unfolded_df = stats_df[['nbr_recieved_chks', 'nbr_total_chks','predicate','baseline', 'context', 'sizes']]\n",
    "chunk_unfolded_df[\"chk_fraction_unfolded\"] = chunk_unfolded_df[\"nbr_recieved_chks\"].div(chunk_unfolded_df.nbr_total_chks, axis=0) * 100"
   ]
  },
  {
   "cell_type": "code",
   "execution_count": 12,
   "metadata": {},
   "outputs": [],
   "source": [
    "def plot_chunk_unfolded_frac(df, is_predicate=False, is_baseline=False):\n",
    "    df = df[df['predicate'] == is_predicate]\n",
    "    df = df[df['baseline'] == is_baseline]\n",
    "\n",
    "    df = df.groupby(['context', 'sizes']).mean()\n",
    "    df.reset_index(inplace=True)\n",
    "    x = [\n",
    "        df.context.values,\n",
    "        df.sizes.values\n",
    "        \n",
    "    ]\n",
    "    fig = go.Figure()\n",
    "    fig.add_bar(y=x,x=df.chk_fraction_unfolded.values, name=\"Chunk fraction unfolded\", orientation='h')\n",
    "\n",
    "    intersection_format = \"Intersection\" if not is_predicate else \"IsIntersection\"\n",
    "    baseline_format = \"\" if not is_baseline else \"(BASELINE)\"\n",
    "\n",
    "    fig.update_layout(title=f\"Fraction of chunks unfolded for {intersection_format} {baseline_format}\",title_x=0.5)\n",
    "    fig.update_layout(barmode=\"relative\", xaxis_title=\"Chunks Unfolded (%)\", yaxis_title=\"Context + Geometry Size\")\n",
    "\n",
    "    fig.show()"
   ]
  },
  {
   "attachments": {},
   "cell_type": "markdown",
   "metadata": {},
   "source": [
    "#### Fraction of Time for Partial Decompression Analysis"
   ]
  },
  {
   "cell_type": "code",
   "execution_count": 13,
   "metadata": {},
   "outputs": [],
   "source": [
    "partial_frac_df = stats_df[['decomp', 'total_time', 'predicate','baseline', 'context', 'sizes']]\n",
    "partial_frac_df[\"decomp\"] = partial_frac_df[\"decomp\"].div(partial_frac_df.total_time/100, axis=0)\n",
    "partial_frac_df['algo_time'] = partial_frac_df.apply(lambda x: 100 - x['decomp'], axis=1)"
   ]
  },
  {
   "cell_type": "code",
   "execution_count": 14,
   "metadata": {},
   "outputs": [],
   "source": [
    "def plot_partial_decomp_frac(df, is_predicate=False, is_baseline=False):\n",
    "    df = df[df['predicate'] == is_predicate]\n",
    "    df = df[df['baseline'] == is_baseline]\n",
    "\n",
    "    df = df.groupby(['context', 'sizes']).mean()\n",
    "    df.reset_index(inplace=True)\n",
    "    x = [\n",
    "        df.context.values,\n",
    "        df.sizes.values\n",
    "    ]\n",
    "\n",
    "    intersection_format = \"Intersection\" if not is_predicate else \"IsIntersection\"\n",
    "    baseline_format = \"\" if not is_baseline else \"(BASELINE)\"\n",
    "    \n",
    "    fig = go.Figure()\n",
    "    fig.add_bar(y=x,x=df.decomp.values, name=\"Decompression stage\",orientation='h')\n",
    "    fig.add_bar(y=x,x=df.algo_time.values, name=intersection_format, orientation='h')\n",
    "    fig.update_layout(title=f\"Execution time distrubution for {intersection_format} {baseline_format}\",title_x=0.5)\n",
    "    fig.update_layout(barmode=\"relative\", xaxis_title=\"Execution time (%)\", yaxis_title=\"Context + Geometry Size)\")\n",
    "    fig.update_layout(legend=dict(yanchor=\"top\",y=1.2, xanchor=\"right\", x=0.997))\n",
    "    fig.show()"
   ]
  },
  {
   "attachments": {},
   "cell_type": "markdown",
   "metadata": {},
   "source": [
    "#### Best MAX_NUM_DELTAS per Dataset Analysis"
   ]
  },
  {
   "cell_type": "code",
   "execution_count": 15,
   "metadata": {},
   "outputs": [],
   "source": [
    "max_deltas_df = pd.DataFrame(columns=['decomp', 'nbr_recieved_chks', 'nbr_total_chks', 'total_time', \"sizes\", \"context\", \"delta_size\", \"predicate\", \"dataset_idx\", \"baseline\"])\n",
    "for max_delta_size in range(0,4):\n",
    "    for dataset in datasets:\n",
    "        for baseline_on in [True, False]:\n",
    "            act_deact_baseline(activate=baseline_on)        \n",
    "            evaluate_dataset(data=dataset, stats_df=max_deltas_df, delta_size=max_delta_size)    "
   ]
  },
  {
   "cell_type": "code",
   "execution_count": 16,
   "metadata": {},
   "outputs": [],
   "source": [
    "max_deltas_filt_df = max_deltas_df[['total_time', \"sizes\", \"delta_size\", \"predicate\", \"baseline\"]]"
   ]
  },
  {
   "cell_type": "code",
   "execution_count": 17,
   "metadata": {},
   "outputs": [],
   "source": [
    "def plot_max_delta_size_speed(df, is_predicate=False):\n",
    "    df = df[df['predicate'] == is_predicate]\n",
    "    df = df.groupby(['delta_size', 'sizes', 'baseline']).mean()\n",
    "    df.reset_index(inplace=True)\n",
    "    \n",
    "    sizes = dict(zip(list(df.sizes.unique()), range(len(df.sizes.unique()))))\n",
    "    fig = make_subplots(rows=2, cols=3, subplot_titles=(list(sizes.keys())), horizontal_spacing=0.1, x_title=\"MAX_CHUNK_SIZE\", y_title=\"Mean Execution time (s)\")\n",
    "    for size in sizes.keys():\n",
    "        curr_context_df = df[(df['sizes'] == size)]\n",
    "        for is_baseline in [True, False]:\n",
    "            curr_df = curr_context_df[curr_context_df['baseline'] == is_baseline]\n",
    "            baseline_formatting = \"\" if not is_baseline else \"(Baseline)\"\n",
    "            fig.add_trace(go.Scatter(x=curr_df.delta_size.values, y=curr_df.total_time.values,\n",
    "                                    mode='lines',\n",
    "                                    name=f\"{size}{baseline_formatting}\"),row=sizes[size] // 3 + 1, col=sizes[size] % 3 + 1)\n",
    "            \n",
    "    \n",
    "    intersection_format = \"Intersection\" if not is_predicate else \"IsIntersection\"\n",
    "    baseline_format = \"\" if not is_baseline else \"(BASELINE)\"\n",
    "    fig.update_layout(title=f\"Execution time for {intersection_format} by MAX_CHUNK_SIZE {baseline_format}\",title_x=0.5)\n",
    "    fig.show()"
   ]
  },
  {
   "attachments": {},
   "cell_type": "markdown",
   "metadata": {},
   "source": [
    "## Results"
   ]
  },
  {
   "attachments": {},
   "cell_type": "markdown",
   "metadata": {},
   "source": [
    "#### Total time Analysis"
   ]
  },
  {
   "cell_type": "code",
   "execution_count": 18,
   "metadata": {},
   "outputs": [
    {
     "data": {
      "application/vnd.plotly.v1+json": {
       "config": {
        "plotlyServerURL": "https://plot.ly"
       },
       "data": [
        {
         "alignmentgroup": "True",
         "hovertemplate": "baseline=True<br>sizes=Small<br>context=%{x}<br>total_time=%{y}<extra></extra>",
         "legendgroup": "True",
         "marker": {
          "color": "#636efa"
         },
         "name": "True",
         "notched": false,
         "offsetgroup": "True",
         "orientation": "v",
         "showlegend": true,
         "type": "box",
         "x": [
          "Bbox_Overlap (FALSE)",
          "Bbox_Partial_Overlap (TRUE)",
          "Bbox_Inside_Other (TRUE)",
          "Bbox_Overlap (FALSE)",
          "Bbox_Partial_Overlap (TRUE)",
          "Bbox_Partial_Overlap (TRUE)",
          "Bbox_Partial_Overlap (TRUE)",
          "Bbox_Partial_Overlap (TRUE)",
          "Bbox_Partial_Overlap (TRUE)",
          "Bbox_Partial_Overlap (TRUE)",
          "Bbox_Partial_Overlap (TRUE)",
          "Bbox_Overlap (FALSE)",
          "Bbox_Overlap (FALSE)",
          "Bbox_Partial_Overlap (TRUE)",
          "Bbox_Partial_Overlap (TRUE)",
          "Bbox_Inside_Other (TRUE)",
          "Bbox_Inside_Other (TRUE)",
          "Bbox_Partial_Overlap (TRUE)",
          "Bbox_Partial_Overlap (TRUE)",
          "Bbox_Partial_Overlap (TRUE)",
          "Bbox_Partial_Overlap (TRUE)",
          "Bbox_Partial_Overlap (TRUE)",
          "Bbox_Partial_Overlap (TRUE)",
          "Bbox_Overlap (FALSE)",
          "Bbox_Overlap (FALSE)",
          "Bbox_Overlap (FALSE)",
          "Bbox_Inside_Other (TRUE)",
          "Bbox_Partial_Overlap (TRUE)",
          "Bbox_Overlap (FALSE)",
          "Bbox_Overlap (FALSE)",
          "Bbox_Overlap (FALSE)",
          "Bbox_Overlap (FALSE)",
          "Bbox_Overlap (FALSE)",
          "Bbox_Overlap (FALSE)",
          "Bbox_Overlap (FALSE)",
          "Bbox_Overlap (FALSE)",
          "Bbox_Overlap (FALSE)",
          "Bbox_Overlap (FALSE)",
          "Bbox_Overlap (FALSE)",
          "Bbox_Overlap (FALSE)",
          "Bbox_Overlap (FALSE)",
          "Bbox_Overlap (FALSE)",
          "Bbox_Overlap (FALSE)",
          "Bbox_Overlap (FALSE)",
          "Bbox_Overlap (FALSE)",
          "Bbox_Overlap (FALSE)",
          "Bbox_Overlap (FALSE)",
          "Bbox_Overlap (FALSE)",
          "Bbox_Overlap (FALSE)",
          "Bbox_Overlap (FALSE)",
          "Bbox_Overlap (FALSE)",
          "Bbox_Overlap (FALSE)",
          "Bbox_Overlap (FALSE)",
          "Bbox_Overlap (FALSE)",
          "Bbox_Overlap (FALSE)",
          "Bbox_Overlap (FALSE)",
          "Bbox_Overlap (FALSE)",
          "Bbox_Overlap (FALSE)",
          "Bbox_Overlap (FALSE)",
          "Bbox_Overlap (FALSE)",
          "Bbox_Overlap (FALSE)",
          "Bbox_Overlap (FALSE)",
          "Bbox_Overlap (FALSE)",
          "Bbox_Overlap (FALSE)",
          "Bbox_Overlap (FALSE)",
          "Bbox_Overlap (FALSE)",
          "Bbox_Overlap (FALSE)",
          "Bbox_Overlap (FALSE)",
          "Bbox_Overlap (FALSE)",
          "Bbox_Overlap (FALSE)",
          "Bbox_Overlap (FALSE)",
          "Bbox_Overlap (FALSE)",
          "Bbox_Overlap (FALSE)",
          "Bbox_Overlap (FALSE)",
          "Bbox_Overlap (FALSE)",
          "Bbox_Overlap (FALSE)",
          "Bbox_Overlap (FALSE)",
          "Bbox_Overlap (FALSE)",
          "Bbox_Overlap (FALSE)",
          "Bbox_Overlap (FALSE)",
          "Bbox_Overlap (FALSE)",
          "Bbox_Overlap (FALSE)",
          "Bbox_Overlap (FALSE)",
          "Bbox_Overlap (FALSE)",
          "Bbox_Overlap (FALSE)",
          "Bbox_Overlap (FALSE)",
          "Bbox_Overlap (FALSE)",
          "Bbox_Overlap (FALSE)",
          "Bbox_Overlap (FALSE)",
          "Bbox_Overlap (FALSE)",
          "Bbox_Overlap (FALSE)",
          "Bbox_Overlap (FALSE)",
          "Bbox_Overlap (FALSE)",
          "Bbox_Overlap (FALSE)",
          "Bbox_Partial_Overlap (TRUE)",
          "Bbox_Overlap (FALSE)",
          "Bbox_Overlap (FALSE)",
          "Bbox_Overlap (FALSE)",
          "Bbox_Overlap (FALSE)",
          "Bbox_Overlap (FALSE)",
          "Bbox_Overlap (FALSE)",
          "Bbox_Overlap (FALSE)",
          "Bbox_Overlap (FALSE)",
          "Bbox_Overlap (FALSE)",
          "Bbox_Overlap (FALSE)",
          "Bbox_Overlap (FALSE)",
          "Bbox_Overlap (FALSE)",
          "Bbox_Overlap (FALSE)",
          "Bbox_Overlap (FALSE)",
          "Bbox_Overlap (FALSE)",
          "Bbox_Overlap (FALSE)",
          "Bbox_Overlap (FALSE)",
          "Bbox_Overlap (FALSE)",
          "Bbox_Overlap (FALSE)",
          "Bbox_Partial_Overlap (TRUE)",
          "Bbox_Partial_Overlap (TRUE)",
          "Bbox_Partial_Overlap (TRUE)",
          "Bbox_Partial_Overlap (TRUE)",
          "Bbox_Partial_Overlap (TRUE)",
          "Bbox_Partial_Overlap (TRUE)",
          "Bbox_Partial_Overlap (TRUE)",
          "Bbox_Partial_Overlap (TRUE)",
          "Bbox_Overlap (FALSE)",
          "Bbox_Partial_Overlap (TRUE)",
          "Bbox_Partial_Overlap (TRUE)",
          "Bbox_Partial_Overlap (TRUE)",
          "Bbox_Overlap (FALSE)",
          "Bbox_Overlap (FALSE)",
          "Bbox_Partial_Overlap (TRUE)",
          "Bbox_Partial_Overlap (TRUE)",
          "Bbox_Overlap (FALSE)",
          "Bbox_Partial_Overlap (TRUE)",
          "Bbox_Partial_Overlap (TRUE)",
          "Bbox_Partial_Overlap (TRUE)",
          "Bbox_Overlap (FALSE)",
          "Bbox_Overlap (FALSE)",
          "Bbox_Overlap (FALSE)",
          "Bbox_Partial_Overlap (TRUE)",
          "Bbox_Partial_Overlap (TRUE)",
          "Bbox_Partial_Overlap (TRUE)",
          "Bbox_Partial_Overlap (TRUE)",
          "Bbox_Partial_Overlap (TRUE)",
          "Bbox_Partial_Overlap (TRUE)",
          "Bbox_Overlap (FALSE)",
          "Bbox_Overlap (FALSE)",
          "Bbox_Overlap (FALSE)",
          "Bbox_Overlap (FALSE)",
          "Bbox_Overlap (FALSE)",
          "Bbox_Overlap (FALSE)",
          "Bbox_Partial_Overlap (TRUE)",
          "Bbox_Partial_Overlap (TRUE)",
          "Bbox_Overlap (FALSE)",
          "Bbox_Partial_Overlap (TRUE)",
          "Bbox_Partial_Overlap (TRUE)",
          "Bbox_Partial_Overlap (TRUE)",
          "Bbox_Partial_Overlap (TRUE)",
          "Bbox_Overlap (FALSE)",
          "Bbox_Partial_Overlap (TRUE)",
          "Bbox_Partial_Overlap (TRUE)",
          "Bbox_Partial_Overlap (TRUE)",
          "Bbox_Partial_Overlap (TRUE)",
          "Bbox_Partial_Overlap (TRUE)",
          "Bbox_Partial_Overlap (TRUE)",
          "Bbox_Partial_Overlap (TRUE)",
          "Bbox_Partial_Overlap (TRUE)",
          "Bbox_Partial_Overlap (TRUE)",
          "Bbox_Partial_Overlap (TRUE)",
          "Bbox_Partial_Overlap (TRUE)",
          "Bbox_Partial_Overlap (TRUE)",
          "Bbox_Partial_Overlap (TRUE)",
          "Bbox_Partial_Overlap (TRUE)",
          "Bbox_Partial_Overlap (TRUE)",
          "Bbox_Partial_Overlap (TRUE)",
          "Bbox_Partial_Overlap (TRUE)",
          "Bbox_Partial_Overlap (TRUE)",
          "Bbox_Partial_Overlap (TRUE)",
          "Bbox_Partial_Overlap (TRUE)",
          "Bbox_Partial_Overlap (TRUE)",
          "Bbox_Partial_Overlap (TRUE)",
          "Bbox_Partial_Overlap (TRUE)",
          "Bbox_Overlap (FALSE)",
          "Bbox_Overlap (FALSE)",
          "Bbox_Partial_Overlap (TRUE)",
          "Bbox_Overlap (FALSE)",
          "Bbox_Partial_Overlap (TRUE)",
          "Bbox_Overlap (FALSE)",
          "Bbox_Partial_Overlap (TRUE)",
          "Bbox_Partial_Overlap (TRUE)",
          "Bbox_Partial_Overlap (TRUE)",
          "Bbox_Partial_Overlap (TRUE)",
          "Bbox_Partial_Overlap (TRUE)",
          "Bbox_Partial_Overlap (TRUE)",
          "Bbox_Overlap (FALSE)",
          "Bbox_Partial_Overlap (TRUE)",
          "Bbox_Partial_Overlap (TRUE)",
          "Bbox_Partial_Overlap (TRUE)",
          "Bbox_Partial_Overlap (TRUE)",
          "Bbox_Partial_Overlap (TRUE)",
          "Bbox_Partial_Overlap (TRUE)",
          "Bbox_Partial_Overlap (TRUE)",
          "Bbox_Overlap (FALSE)",
          "Bbox_Partial_Overlap (TRUE)",
          "Bbox_Partial_Overlap (TRUE)",
          "Bbox_Partial_Overlap (TRUE)",
          "Bbox_Overlap (FALSE)",
          "Bbox_Overlap (FALSE)",
          "Bbox_Overlap (FALSE)",
          "Bbox_Overlap (FALSE)",
          "Bbox_Partial_Overlap (TRUE)",
          "Bbox_Partial_Overlap (TRUE)",
          "Bbox_Partial_Overlap (TRUE)",
          "Bbox_Partial_Overlap (TRUE)",
          "Bbox_Partial_Overlap (TRUE)",
          "Bbox_Partial_Overlap (TRUE)",
          "Bbox_Partial_Overlap (TRUE)",
          "Bbox_Partial_Overlap (TRUE)",
          "Bbox_Partial_Overlap (TRUE)",
          "Bbox_Partial_Overlap (TRUE)",
          "Bbox_Partial_Overlap (TRUE)",
          "Bbox_Overlap (FALSE)",
          "Bbox_Partial_Overlap (TRUE)",
          "Bbox_Partial_Overlap (TRUE)",
          "Bbox_Overlap (FALSE)",
          "Bbox_Overlap (FALSE)",
          "Bbox_Overlap (FALSE)",
          "Bbox_Partial_Overlap (TRUE)",
          "Bbox_Overlap (FALSE)",
          "Bbox_Overlap (FALSE)",
          "Bbox_Overlap (FALSE)",
          "Bbox_Partial_Overlap (TRUE)",
          "Bbox_Overlap (FALSE)",
          "Bbox_Overlap (FALSE)",
          "Bbox_Partial_Overlap (TRUE)",
          "Bbox_Partial_Overlap (TRUE)",
          "Bbox_Overlap (FALSE)",
          "Bbox_Partial_Overlap (TRUE)",
          "Bbox_Partial_Overlap (TRUE)",
          "Bbox_Overlap (FALSE)",
          "Bbox_Partial_Overlap (TRUE)",
          "Bbox_Partial_Overlap (TRUE)",
          "Bbox_Partial_Overlap (TRUE)",
          "Bbox_Partial_Overlap (TRUE)",
          "Bbox_Overlap (FALSE)",
          "Bbox_Partial_Overlap (TRUE)",
          "Bbox_Partial_Overlap (TRUE)",
          "Bbox_Overlap (FALSE)",
          "Bbox_Overlap (FALSE)",
          "Bbox_Overlap (FALSE)",
          "Bbox_Partial_Overlap (TRUE)",
          "Bbox_Overlap (FALSE)",
          "Bbox_Partial_Overlap (TRUE)",
          "Bbox_Partial_Overlap (TRUE)",
          "Bbox_Partial_Overlap (TRUE)",
          "Bbox_Partial_Overlap (TRUE)",
          "Bbox_Partial_Overlap (TRUE)",
          "Bbox_Partial_Overlap (TRUE)",
          "Bbox_Partial_Overlap (TRUE)",
          "Bbox_Partial_Overlap (TRUE)",
          "Bbox_Overlap (FALSE)",
          "Bbox_Overlap (FALSE)",
          "Bbox_Partial_Overlap (TRUE)",
          "Bbox_Partial_Overlap (TRUE)",
          "Bbox_Partial_Overlap (TRUE)",
          "Bbox_Partial_Overlap (TRUE)",
          "Bbox_Partial_Overlap (TRUE)",
          "Bbox_Partial_Overlap (TRUE)",
          "Bbox_Partial_Overlap (TRUE)",
          "Bbox_Partial_Overlap (TRUE)",
          "Bbox_Partial_Overlap (TRUE)",
          "Bbox_Partial_Overlap (TRUE)",
          "Bbox_Partial_Overlap (TRUE)",
          "Bbox_Partial_Overlap (TRUE)",
          "Bbox_Partial_Overlap (TRUE)",
          "Bbox_Partial_Overlap (TRUE)",
          "Bbox_Overlap (FALSE)",
          "Bbox_Overlap (FALSE)",
          "Bbox_Partial_Overlap (TRUE)",
          "Bbox_Partial_Overlap (TRUE)",
          "Bbox_Overlap (FALSE)",
          "Bbox_Partial_Overlap (TRUE)",
          "Bbox_Partial_Overlap (TRUE)",
          "Bbox_Overlap (FALSE)",
          "Bbox_Partial_Overlap (TRUE)",
          "Bbox_Partial_Overlap (TRUE)",
          "Bbox_Partial_Overlap (TRUE)",
          "Bbox_Partial_Overlap (TRUE)",
          "Bbox_Partial_Overlap (TRUE)",
          "Bbox_Partial_Overlap (TRUE)",
          "Bbox_Overlap (FALSE)",
          "Bbox_Partial_Overlap (TRUE)",
          "Bbox_Partial_Overlap (TRUE)",
          "Bbox_Partial_Overlap (TRUE)",
          "Bbox_Partial_Overlap (TRUE)",
          "Bbox_Partial_Overlap (TRUE)",
          "Bbox_Partial_Overlap (TRUE)",
          "Bbox_Partial_Overlap (TRUE)",
          "Bbox_Partial_Overlap (TRUE)",
          "Bbox_Partial_Overlap (TRUE)",
          "Bbox_Partial_Overlap (TRUE)",
          "Bbox_Partial_Overlap (TRUE)",
          "Bbox_Partial_Overlap (TRUE)",
          "Bbox_Partial_Overlap (TRUE)",
          "Bbox_Partial_Overlap (TRUE)",
          "Bbox_Partial_Overlap (TRUE)",
          "Bbox_Partial_Overlap (TRUE)",
          "Bbox_Partial_Overlap (TRUE)",
          "Bbox_Partial_Overlap (TRUE)",
          "Bbox_Partial_Overlap (TRUE)",
          "Bbox_Partial_Overlap (TRUE)",
          "Bbox_Partial_Overlap (TRUE)",
          "Bbox_Partial_Overlap (TRUE)",
          "Bbox_Partial_Overlap (TRUE)",
          "Bbox_Partial_Overlap (TRUE)",
          "Bbox_Partial_Overlap (TRUE)",
          "Bbox_Partial_Overlap (TRUE)",
          "Bbox_Partial_Overlap (TRUE)",
          "Bbox_Partial_Overlap (TRUE)",
          "Bbox_Partial_Overlap (TRUE)",
          "Bbox_Partial_Overlap (TRUE)",
          "Bbox_Partial_Overlap (TRUE)",
          "Bbox_Partial_Overlap (TRUE)",
          "Bbox_Partial_Overlap (TRUE)",
          "Bbox_Partial_Overlap (TRUE)",
          "Bbox_Partial_Overlap (TRUE)",
          "Bbox_Partial_Overlap (TRUE)",
          "Bbox_Partial_Overlap (TRUE)",
          "Bbox_Partial_Overlap (TRUE)",
          "Bbox_Overlap (FALSE)",
          "Bbox_Partial_Overlap (TRUE)",
          "Bbox_Partial_Overlap (TRUE)",
          "Bbox_Partial_Overlap (TRUE)",
          "Bbox_Partial_Overlap (TRUE)",
          "Bbox_Partial_Overlap (TRUE)",
          "Bbox_Overlap (FALSE)",
          "Bbox_Overlap (FALSE)",
          "Bbox_Partial_Overlap (TRUE)",
          "Bbox_Overlap (FALSE)",
          "Bbox_Overlap (FALSE)",
          "Bbox_Partial_Overlap (TRUE)",
          "Bbox_Partial_Overlap (TRUE)"
         ],
         "x0": " ",
         "xaxis": "x",
         "y": [
          0.0005528089968720451,
          0.001655242987908423,
          0.0007736770057817921,
          0.00013732000661548227,
          0.0027215519949095324,
          0.00285747300949879,
          0.005575518996920437,
          0.0060329709958750755,
          0.0058018150011776015,
          0.006117886005085893,
          0.005679395006154664,
          0.00047954700130503625,
          0.0004731799999717623,
          0.001788139998097904,
          0.0016249500040430576,
          0.000641641003312543,
          0.0006456109986174852,
          0.00040624199027661234,
          0.0004091669979970902,
          0.0033483110019005835,
          0.004116074997000396,
          0.00695845800510142,
          0.008027543008211069,
          0.00041917899216059595,
          0.0004217469977447763,
          0.000386061001336202,
          0.0004224820004310459,
          0.000678743002936244,
          0.00019473099382594228,
          0.00019442099437583238,
          0.0001921579969348386,
          0.0003905929916072637,
          0.00018973198893945664,
          0.00019082300423178822,
          0.0001917140034493059,
          0.00019413999689277261,
          0.00018848000036086887,
          0.00019346999761182815,
          0.00030602599144913256,
          0.00019219800014980137,
          0.000233551996643655,
          0.00021980999736115336,
          0.00024097200366668403,
          0.00022578099742531776,
          0.00022471901320386678,
          0.00022390300000552088,
          0.00022639500093646348,
          0.00022502000501845032,
          0.00022189499577507377,
          0.00022136399638839066,
          0.00023380600032396615,
          0.0002518010005587712,
          0.00023680500453338027,
          0.00024352000036742538,
          0.00023489999875891954,
          0.0002292949939146638,
          0.00022728199837729335,
          0.00022467000235337764,
          0.00022802199237048626,
          0.0003510870010359213,
          0.0002324800007045269,
          0.0002594940015114844,
          0.0002442760014673695,
          0.0002252609992865473,
          0.0002468950115144253,
          0.00026759000320453197,
          0.00022826099302619696,
          0.0003554110007826239,
          0.00029950599127914757,
          0.00040450198866892606,
          0.00038850998680572957,
          0.0002347069967072457,
          0.00029991699557285756,
          0.0002341719955438748,
          0.000255841005127877,
          0.00023837300250306726,
          0.00034778400731738657,
          0.00024162500631064177,
          0.0002621620078571141,
          0.00028518299222923815,
          0.000328369002090767,
          0.000253222999162972,
          0.00027373900229576975,
          0.0002907699963543564,
          0.000225349998800084,
          0.00026216599508188665,
          0.000283305998891592,
          0.00021929200738668442,
          0.0002362890081712976,
          0.00024047598708420992,
          0.0002293739962624386,
          0.000229311001021415,
          0.00022216301294974983,
          0.00022430799435824156,
          0.0006748190062353387,
          0.00033032700594048947,
          0.00024835999647621065,
          0.00034898599551524967,
          0.00029307800286915153,
          0.00025771600485313684,
          0.00026466399140190333,
          0.0004519950016401708,
          0.00022547700791619718,
          0.00022026000078767538,
          0.0002272260026074946,
          0.00021670100977644324,
          0.00023968498862814158,
          0.00026473100297152996,
          0.00021259899949654937,
          0.00021568400552496314,
          0.0002157970011467114,
          0.0002385059924563393,
          0.00039430600008927286,
          0.0009226869879057631,
          0.0006096619908930734,
          0.0006184300000313669,
          0.00046446899068541825,
          0.0005513700016308576,
          0.00043133500730618834,
          0.00042158999713137746,
          0.000869436000357382,
          0.000687669002218172,
          0.00031670099997427315,
          0.0013132509920978919,
          0.0013012580020586029,
          0.0013016469893045723,
          0.0003420470020500943,
          0.0004107919958187267,
          0.000488816003780812,
          0.00041665599565021694,
          0.0003186109970556572,
          0.0006658019992755726,
          0.0006108039960963652,
          0.0006650430004810914,
          0.0005782380030723289,
          0.0007971860031830147,
          0.0004965279949828982,
          0.0007659190014237538,
          0.0007677609974052757,
          0.0004891450080322102,
          0.0004161789984209463,
          0.000391740002669394,
          0.001026234996970743,
          0.0002741450007306412,
          0.0005120030109537765,
          0.0003104790084762499,
          0.00031368400959763676,
          0.0003923839976778254,
          0.00039411100442521274,
          0.0008495819929521531,
          0.0012705539993476123,
          0.0004114789917366579,
          0.0006683329993393272,
          0.0011144259915454313,
          0.0011009139998350292,
          0.0010656179947545752,
          0.00032550698961131275,
          0.0005550560017582029,
          0.0004813270061276853,
          0.0006993040005909279,
          0.000482143004774116,
          0.0005063150019850582,
          0.0008997479890240356,
          0.0017763450014172122,
          0.000632965995464474,
          0.0005045370053267106,
          0.000504055991768837,
          0.0007385460048681125,
          0.00040958699537441134,
          0.0005878629890503362,
          0.00045485601003747433,
          0.0007216450030682608,
          0.0005751819990109652,
          0.0005914819921599701,
          0.0010604200069792569,
          0.0005209619994275272,
          0.0007853010029066354,
          0.000711141008650884,
          0.0005037779919803143,
          0.0005589659995166585,
          0.0002724880032474175,
          0.0002711849956540391,
          0.0004270790086593479,
          0.0002030119940172881,
          0.0004265769966877997,
          0.0003386040043551475,
          0.0006647080008406192,
          0.0008927220042096451,
          0.0009298679942730814,
          0.0008267670054920018,
          0.0008135769894579425,
          0.0006219429924385622,
          0.00030843100103084,
          0.0006232430023374036,
          0.0007648030004929751,
          0.00045354399480856955,
          0.0005626560014206916,
          0.000393323993193917,
          0.0005154669925104827,
          0.0007047730032354593,
          0.000682344994856976,
          0.0011070559994550422,
          0.0008099789993138984,
          0.0007922540098661557,
          0.00033538999559823424,
          0.00035346900403965265,
          0.00040353700751438737,
          0.00040207199344877154,
          0.0005063210119260475,
          0.0005034510104451329,
          0.0005395589978434145,
          0.0005311929999152198,
          0.0004442270001163706,
          0.0008014010090846568,
          0.0005531850038096309,
          0.0005509689945029095,
          0.0008484849968226627,
          0.0008606619958300143,
          0.0010846060031326488,
          0.00027140299789607525,
          0.0006253070023376495,
          0.0005817259952891618,
          0.0003656510089058429,
          0.000363116996595636,
          0.00040114999865181744,
          0.0005783230008091778,
          0.0002317059988854453,
          0.0002335190074518323,
          0.0004147649888182059,
          0.0008406230044784024,
          0.0005813739990117028,
          0.0004602779954439029,
          0.0009100829920498654,
          0.0010383150074630976,
          0.00031098299950826913,
          0.0007374150009127334,
          0.0007308990025194362,
          0.0004819589958060533,
          0.0008182689925888553,
          0.0005002109974157065,
          0.0007372899999609217,
          0.0005994980019750074,
          0.000678070995490998,
          0.0006702950049657375,
          0.0004597220104187727,
          0.0004256550018908456,
          0.00045444999705068767,
          0.0004238019901094958,
          0.0006875419931020588,
          0.0003915390116162598,
          0.0013013589923502877,
          0.0018881660071201622,
          0.0027746340056182817,
          0.0021217850007815287,
          0.0021106259955558926,
          0.0008515119989169762,
          0.0013594359916169196,
          0.0008444310078630224,
          0.000565504000405781,
          0.0003601750067900866,
          0.0009216030011884868,
          0.0017860290099633858,
          0.0006387479952536523,
          0.0007450539997080341,
          0.0006049600051483139,
          0.000616135002928786,
          0.0007806380017427728,
          0.0009396790119353682,
          0.0009343220008304343,
          0.0006966119981370866,
          0.0006135080038802698,
          0.0006064470071578398,
          0.00040761999844107777,
          0.0004074789903825149,
          0.0002150650107068941,
          0.00019821299065370113,
          0.00044788100058212876,
          0.0004361239989520982,
          0.00021985999774187803,
          0.00043158698827028275,
          0.0004477150068851188,
          0.0003082229959545657,
          0.0004500299983192235,
          0.0005233059928286821,
          0.0005276900046737865,
          0.0006530410028062761,
          0.0006128050008555874,
          0.0005365760007407516,
          0.00021344900596886873,
          0.000706202001310885,
          0.0007089489954523742,
          0.0012470040092011914,
          0.0009493140096310526,
          0.0005409309960668907,
          0.0005353240121621639,
          0.0004514920001383871,
          0.00044364799396134913,
          0.0004746979975607246,
          0.0004716120020020753,
          0.000573372992221266,
          0.0008500989933963865,
          0.00038182899879757315,
          0.0006241169903660193,
          0.0006325220019789413,
          0.000629027999821119,
          0.00131616200087592,
          0.0007612479967065156,
          0.0007584200066048652,
          0.0012966139911441132,
          0.0008857539942255244,
          0.0008676849975017831,
          0.0008785230020293966,
          0.0009131160040851682,
          0.00157426499936264,
          0.0008057920058490708,
          0.0007698650006204844,
          0.0008841079979902133,
          0.0008009220036910847,
          0.0007510879950132221,
          0.0007371889951173216,
          0.0006613409932469949,
          0.0006334119971143082,
          0.0009559159952914342,
          0.0009445909963687882,
          0.0008234589913627133,
          0.0010082749940920621,
          0.0008099959959508851,
          0.0005890530010219663,
          0.0009969200036721304,
          0.00036733399610966444,
          0.0004405470099300146,
          0.000634707001154311,
          0.0004440079937921837,
          0.0003072920080740005,
          0.00032069200824480504,
          0.00045036700612399727,
          0.00026708700170274824,
          0.00025685799482744187,
          0.0002736859896685928,
          0.00028297399694565684
         ],
         "y0": " ",
         "yaxis": "y"
        },
        {
         "alignmentgroup": "True",
         "hovertemplate": "baseline=True<br>sizes=Small_Medium_Mixed<br>context=%{x}<br>total_time=%{y}<extra></extra>",
         "legendgroup": "True",
         "marker": {
          "color": "#636efa"
         },
         "name": "True",
         "notched": false,
         "offsetgroup": "True",
         "orientation": "v",
         "showlegend": false,
         "type": "box",
         "x": [
          "Bbox_Partial_Overlap (TRUE)",
          "Bbox_Partial_Overlap (TRUE)",
          "Bbox_Partial_Overlap (TRUE)",
          "Bbox_Partial_Overlap (TRUE)",
          "Bbox_Overlap (FALSE)",
          "Bbox_Overlap (FALSE)",
          "Bbox_Overlap (FALSE)",
          "Bbox_Overlap (FALSE)",
          "Bbox_Partial_Overlap (TRUE)",
          "Bbox_Overlap (FALSE)",
          "Bbox_Overlap (FALSE)",
          "Bbox_Overlap (FALSE)",
          "Bbox_Overlap (FALSE)",
          "Bbox_Overlap (FALSE)",
          "Bbox_Overlap (FALSE)",
          "Bbox_Overlap (FALSE)",
          "Bbox_Overlap (FALSE)",
          "Bbox_Partial_Overlap (TRUE)",
          "Bbox_Partial_Overlap (TRUE)",
          "Bbox_Partial_Overlap (TRUE)",
          "Bbox_Overlap (FALSE)",
          "Bbox_Inside_Other (TRUE)",
          "Bbox_Overlap (FALSE)",
          "Bbox_Partial_Overlap (TRUE)",
          "Bbox_Partial_Overlap (TRUE)",
          "Bbox_Inside_Other (TRUE)",
          "Bbox_Overlap (FALSE)",
          "Bbox_Partial_Overlap (TRUE)",
          "Bbox_Partial_Overlap (TRUE)",
          "Bbox_Partial_Overlap (TRUE)",
          "Bbox_Overlap (FALSE)",
          "Bbox_Partial_Overlap (TRUE)",
          "Bbox_Overlap (FALSE)",
          "Bbox_Partial_Overlap (TRUE)",
          "Bbox_Partial_Overlap (TRUE)",
          "Bbox_Partial_Overlap (TRUE)",
          "Bbox_Partial_Overlap (TRUE)",
          "Bbox_Partial_Overlap (TRUE)",
          "Bbox_Partial_Overlap (TRUE)",
          "Bbox_Partial_Overlap (TRUE)",
          "Bbox_Partial_Overlap (TRUE)",
          "Bbox_Partial_Overlap (TRUE)",
          "Bbox_Partial_Overlap (TRUE)",
          "Bbox_Partial_Overlap (TRUE)",
          "Bbox_Partial_Overlap (TRUE)",
          "Bbox_Partial_Overlap (TRUE)",
          "Bbox_Partial_Overlap (TRUE)",
          "Bbox_Partial_Overlap (TRUE)",
          "Bbox_Partial_Overlap (TRUE)",
          "Bbox_Partial_Overlap (TRUE)",
          "Bbox_Overlap (FALSE)",
          "Bbox_Overlap (FALSE)",
          "Bbox_Overlap (FALSE)",
          "Bbox_Overlap (FALSE)",
          "Bbox_Partial_Overlap (TRUE)",
          "Bbox_Partial_Overlap (TRUE)",
          "Bbox_Partial_Overlap (TRUE)",
          "Bbox_Partial_Overlap (TRUE)",
          "Bbox_Partial_Overlap (TRUE)",
          "Bbox_Partial_Overlap (TRUE)",
          "Bbox_Partial_Overlap (TRUE)",
          "Bbox_Partial_Overlap (TRUE)",
          "Bbox_Overlap (FALSE)",
          "Bbox_Partial_Overlap (TRUE)",
          "Bbox_Partial_Overlap (TRUE)",
          "Bbox_Partial_Overlap (TRUE)",
          "Bbox_Partial_Overlap (TRUE)",
          "Bbox_Partial_Overlap (TRUE)",
          "Bbox_Partial_Overlap (TRUE)",
          "Bbox_Overlap (FALSE)",
          "Bbox_Partial_Overlap (TRUE)",
          "Bbox_Partial_Overlap (TRUE)",
          "Bbox_Partial_Overlap (TRUE)",
          "Bbox_Partial_Overlap (TRUE)",
          "Bbox_Partial_Overlap (TRUE)",
          "Bbox_Overlap (FALSE)",
          "Bbox_Overlap (FALSE)",
          "Bbox_Overlap (FALSE)",
          "Bbox_Partial_Overlap (TRUE)",
          "Bbox_Overlap (FALSE)",
          "Bbox_Overlap (FALSE)",
          "Bbox_Overlap (FALSE)",
          "Bbox_Overlap (FALSE)",
          "Bbox_Overlap (FALSE)",
          "Bbox_Overlap (FALSE)",
          "Bbox_Overlap (FALSE)",
          "Bbox_Partial_Overlap (TRUE)",
          "Bbox_Partial_Overlap (TRUE)",
          "Bbox_Overlap (FALSE)",
          "Bbox_Partial_Overlap (TRUE)",
          "Bbox_Partial_Overlap (TRUE)",
          "Bbox_Partial_Overlap (TRUE)",
          "Bbox_Partial_Overlap (TRUE)",
          "Bbox_Partial_Overlap (TRUE)",
          "Bbox_Partial_Overlap (TRUE)",
          "Bbox_Partial_Overlap (TRUE)",
          "Bbox_Partial_Overlap (TRUE)",
          "Bbox_Overlap (FALSE)",
          "Bbox_Overlap (FALSE)",
          "Bbox_Overlap (FALSE)",
          "Bbox_Overlap (FALSE)",
          "Bbox_Partial_Overlap (TRUE)",
          "Bbox_Overlap (FALSE)",
          "Bbox_Overlap (FALSE)",
          "Bbox_Overlap (FALSE)",
          "Bbox_Overlap (FALSE)",
          "Bbox_Overlap (FALSE)",
          "Bbox_Overlap (FALSE)",
          "Bbox_Overlap (FALSE)",
          "Bbox_Partial_Overlap (TRUE)",
          "Bbox_Partial_Overlap (TRUE)",
          "Bbox_Overlap (FALSE)",
          "Bbox_Partial_Overlap (TRUE)"
         ],
         "x0": " ",
         "xaxis": "x2",
         "y": [
          0.0015751640021335334,
          0.0023622000007890165,
          0.0006237130000954494,
          0.0012173519935458899,
          0.00041617600072640926,
          0.0007156869978643954,
          0.0005392229941207916,
          0.0013248790055513382,
          0.0007890790002420545,
          0.00048039000830613077,
          0.00043563700455706567,
          0.0004126800049562007,
          0.00044821998744737357,
          0.0006627190014114603,
          0.0006347669987007976,
          0.0005415939958766103,
          0.0004566690040519461,
          0.0007729149947408587,
          0.000902318992302753,
          0.000964346996624954,
          0.000550821001525037,
          0.0008280999900307506,
          0.00042824100819416344,
          0.0008685460052220151,
          0.000793829996837303,
          0.0008479310054099187,
          0.0006540110043715686,
          0.0009246789995813742,
          0.0009366440062876791,
          0.0010708870104281232,
          0.0005922909913351759,
          0.0009310049936175346,
          0.0008176150004146621,
          0.0009484299953328446,
          0.0009401480056112632,
          0.0007855820003896952,
          0.0011608229979174212,
          0.000938276993110776,
          0.0008106290042633191,
          0.0008645659981993958,
          0.0009418319968972355,
          0.0013045289961155504,
          0.002173777000280097,
          0.001568953986861743,
          0.0012947479990543798,
          0.002214366992120631,
          0.0011174859973834828,
          0.0011213419929845259,
          0.0013616700016427785,
          0.0013610569876618683,
          0.000517098989803344,
          0.000658354998449795,
          0.0010818589944392443,
          0.0006577090098289773,
          0.0010587380093056709,
          0.0008298900065710768,
          0.0008508500031894073,
          0.0008791000000201166,
          0.0008721480116946623,
          0.0008572959923185408,
          0.0010470870038261637,
          0.0008521720010321587,
          0.0013309209898579866,
          0.0010756440024124458,
          0.0008303189970320091,
          0.0008182300080079585,
          0.0008270910038845614,
          0.0007299829885596409,
          0.0007207969902083278,
          0.0007781150052323937,
          0.0008304530056193471,
          0.0009878380078589544,
          0.000979503005510196,
          0.0007726359908701852,
          0.0009213230077875778,
          0.0006575729930773377,
          0.0005845180130563676,
          0.0005551079957513139,
          0.0009308320004492998,
          0.0007158860098570585,
          0.0006519210000988096,
          0.0006016109982738271,
          0.0006261209928197786,
          0.0007011790003161877,
          0.0007492610020563006,
          0.0005386090051615611,
          0.0007907450053608045,
          0.001556420000270009,
          0.0006237929919734597,
          0.0008614469988970086,
          0.0008163710008375347,
          0.0008384239918086678,
          0.0008281330083264038,
          0.0008572880033170804,
          0.0015697740018367767,
          0.001797987992176786,
          0.0015560519968857989,
          0.0006499550072476268,
          0.0006512130057672039,
          0.0005623589968308806,
          0.0004271560028428212,
          0.000946498999837786,
          0.000627829009317793,
          0.0008818170026643202,
          0.0003612269938457757,
          0.0003554920112947002,
          0.00029333800193853676,
          0.0004535930056590587,
          0.00048587100172881037,
          0.0007060060015646741,
          0.0007197679951786995,
          0.0004878350009676069,
          0.0005296460003592074
         ],
         "y0": " ",
         "yaxis": "y2"
        },
        {
         "alignmentgroup": "True",
         "hovertemplate": "baseline=True<br>sizes=Large<br>context=%{x}<br>total_time=%{y}<extra></extra>",
         "legendgroup": "True",
         "marker": {
          "color": "#636efa"
         },
         "name": "True",
         "notched": false,
         "offsetgroup": "True",
         "orientation": "v",
         "showlegend": false,
         "type": "box",
         "x": [
          "Bbox_Partial_Overlap (TRUE)",
          "Bbox_Partial_Overlap (TRUE)",
          "Bbox_Partial_Overlap (TRUE)",
          "Bbox_Partial_Overlap (TRUE)",
          "Bbox_Partial_Overlap (TRUE)",
          "Bbox_Partial_Overlap (TRUE)",
          "Bbox_Partial_Overlap (TRUE)",
          "Bbox_Overlap (FALSE)",
          "Bbox_Overlap (FALSE)",
          "Bbox_Overlap (FALSE)",
          "Bbox_Partial_Overlap (TRUE)",
          "Bbox_Overlap (FALSE)",
          "Bbox_Partial_Overlap (TRUE)",
          "Bbox_Partial_Overlap (TRUE)",
          "Bbox_Partial_Overlap (TRUE)",
          "Bbox_Overlap (FALSE)",
          "Bbox_Partial_Overlap (TRUE)",
          "Bbox_Partial_Overlap (TRUE)",
          "Bbox_Partial_Overlap (TRUE)",
          "Bbox_Overlap (FALSE)",
          "Bbox_Partial_Overlap (TRUE)",
          "Bbox_Partial_Overlap (TRUE)",
          "Bbox_Overlap (FALSE)",
          "Bbox_Partial_Overlap (TRUE)",
          "Bbox_Overlap (FALSE)",
          "Bbox_Overlap (FALSE)",
          "Bbox_Partial_Overlap (TRUE)",
          "Bbox_Partial_Overlap (TRUE)",
          "Bbox_Partial_Overlap (TRUE)",
          "Bbox_Partial_Overlap (TRUE)",
          "Bbox_Overlap (FALSE)",
          "Bbox_Overlap (FALSE)",
          "Bbox_Partial_Overlap (TRUE)",
          "Bbox_Overlap (FALSE)",
          "Bbox_Partial_Overlap (TRUE)",
          "Bbox_Partial_Overlap (TRUE)",
          "Bbox_Partial_Overlap (TRUE)",
          "Bbox_Overlap (FALSE)",
          "Bbox_Partial_Overlap (TRUE)",
          "Bbox_Partial_Overlap (TRUE)",
          "Bbox_Overlap (FALSE)",
          "Bbox_Overlap (FALSE)",
          "Bbox_Partial_Overlap (TRUE)",
          "Bbox_Partial_Overlap (TRUE)",
          "Bbox_Partial_Overlap (TRUE)",
          "Bbox_Overlap (FALSE)",
          "Bbox_Partial_Overlap (TRUE)",
          "Bbox_Partial_Overlap (TRUE)",
          "Bbox_Partial_Overlap (TRUE)",
          "Bbox_Overlap (FALSE)",
          "Bbox_Partial_Overlap (TRUE)",
          "Bbox_Partial_Overlap (TRUE)",
          "Bbox_Partial_Overlap (TRUE)",
          "Bbox_Partial_Overlap (TRUE)",
          "Bbox_Overlap (FALSE)",
          "Bbox_Partial_Overlap (TRUE)",
          "Bbox_Overlap (FALSE)",
          "Bbox_Partial_Overlap (TRUE)",
          "Bbox_Partial_Overlap (TRUE)",
          "Bbox_Partial_Overlap (TRUE)",
          "Bbox_Partial_Overlap (TRUE)",
          "Bbox_Partial_Overlap (TRUE)",
          "Bbox_Partial_Overlap (TRUE)",
          "Bbox_Partial_Overlap (TRUE)",
          "Bbox_Overlap (FALSE)",
          "Bbox_Overlap (FALSE)",
          "Bbox_Overlap (FALSE)",
          "Bbox_Partial_Overlap (TRUE)",
          "Bbox_Partial_Overlap (TRUE)",
          "Bbox_Partial_Overlap (TRUE)",
          "Bbox_Partial_Overlap (TRUE)",
          "Bbox_Partial_Overlap (TRUE)",
          "Bbox_Partial_Overlap (TRUE)",
          "Bbox_Overlap (FALSE)",
          "Bbox_Partial_Overlap (TRUE)",
          "Bbox_Partial_Overlap (TRUE)",
          "Bbox_Partial_Overlap (TRUE)",
          "Bbox_Partial_Overlap (TRUE)",
          "Bbox_Partial_Overlap (TRUE)",
          "Bbox_Partial_Overlap (TRUE)",
          "Bbox_Partial_Overlap (TRUE)",
          "Bbox_Partial_Overlap (TRUE)",
          "Bbox_Partial_Overlap (TRUE)",
          "Bbox_Partial_Overlap (TRUE)",
          "Bbox_Partial_Overlap (TRUE)",
          "Bbox_Overlap (FALSE)",
          "Bbox_Overlap (FALSE)",
          "Bbox_Partial_Overlap (TRUE)",
          "Bbox_Partial_Overlap (TRUE)",
          "Bbox_Partial_Overlap (TRUE)",
          "Bbox_Partial_Overlap (TRUE)",
          "Bbox_Partial_Overlap (TRUE)",
          "Bbox_Partial_Overlap (TRUE)",
          "Bbox_Partial_Overlap (TRUE)",
          "Bbox_Partial_Overlap (TRUE)",
          "Bbox_Overlap (FALSE)",
          "Bbox_Overlap (FALSE)",
          "Bbox_Overlap (FALSE)",
          "Bbox_Overlap (FALSE)",
          "Bbox_Overlap (FALSE)",
          "Bbox_Overlap (FALSE)",
          "Bbox_Overlap (FALSE)",
          "Bbox_Overlap (FALSE)",
          "Bbox_Overlap (FALSE)",
          "Bbox_Overlap (FALSE)",
          "Bbox_Overlap (FALSE)",
          "Bbox_Overlap (FALSE)",
          "Bbox_Overlap (FALSE)",
          "Bbox_Overlap (FALSE)",
          "Bbox_Overlap (FALSE)",
          "Bbox_Overlap (FALSE)",
          "Bbox_Overlap (FALSE)",
          "Bbox_Overlap (FALSE)",
          "Bbox_Overlap (FALSE)",
          "Bbox_Overlap (FALSE)",
          "Bbox_Overlap (FALSE)",
          "Bbox_Overlap (FALSE)",
          "Bbox_Overlap (FALSE)",
          "Bbox_Overlap (FALSE)",
          "Bbox_Overlap (FALSE)",
          "Bbox_Overlap (FALSE)",
          "Bbox_Overlap (FALSE)",
          "Bbox_Overlap (FALSE)",
          "Bbox_Overlap (FALSE)",
          "Bbox_Overlap (FALSE)",
          "Bbox_Overlap (FALSE)",
          "Bbox_Overlap (FALSE)",
          "Bbox_Overlap (FALSE)",
          "Bbox_Overlap (FALSE)",
          "Bbox_Overlap (FALSE)",
          "Bbox_Overlap (FALSE)",
          "Bbox_Overlap (FALSE)",
          "Bbox_Overlap (FALSE)",
          "Bbox_Overlap (FALSE)",
          "Bbox_Overlap (FALSE)",
          "Bbox_Overlap (FALSE)",
          "Bbox_Overlap (FALSE)",
          "Bbox_Overlap (FALSE)",
          "Bbox_Overlap (FALSE)",
          "Bbox_Overlap (FALSE)",
          "Bbox_Overlap (FALSE)",
          "Bbox_Overlap (FALSE)",
          "Bbox_Overlap (FALSE)",
          "Bbox_Overlap (FALSE)",
          "Bbox_Overlap (FALSE)",
          "Bbox_Overlap (FALSE)",
          "Bbox_Overlap (FALSE)",
          "Bbox_Overlap (FALSE)",
          "Bbox_Overlap (FALSE)",
          "Bbox_Overlap (FALSE)",
          "Bbox_Overlap (FALSE)",
          "Bbox_Overlap (FALSE)",
          "Bbox_Overlap (FALSE)",
          "Bbox_Overlap (FALSE)",
          "Bbox_Overlap (FALSE)",
          "Bbox_Overlap (FALSE)",
          "Bbox_Overlap (FALSE)",
          "Bbox_Overlap (FALSE)",
          "Bbox_Overlap (FALSE)",
          "Bbox_Overlap (FALSE)",
          "Bbox_Overlap (FALSE)",
          "Bbox_Overlap (FALSE)",
          "Bbox_Overlap (FALSE)",
          "Bbox_Overlap (FALSE)",
          "Bbox_Overlap (FALSE)",
          "Bbox_Overlap (FALSE)",
          "Bbox_Overlap (FALSE)",
          "Bbox_Overlap (FALSE)",
          "Bbox_Overlap (FALSE)",
          "Bbox_Overlap (FALSE)",
          "Bbox_Overlap (FALSE)",
          "Bbox_Overlap (FALSE)",
          "Bbox_Overlap (FALSE)",
          "Bbox_Overlap (FALSE)",
          "Bbox_Overlap (FALSE)",
          "Bbox_Overlap (FALSE)",
          "Bbox_Overlap (FALSE)",
          "Bbox_Overlap (FALSE)",
          "Bbox_Overlap (FALSE)",
          "Bbox_Overlap (FALSE)",
          "Bbox_Overlap (FALSE)",
          "Bbox_Overlap (FALSE)",
          "Bbox_Overlap (FALSE)",
          "Bbox_Overlap (FALSE)",
          "Bbox_Overlap (FALSE)",
          "Bbox_Partial_Overlap (TRUE)",
          "Bbox_Overlap (FALSE)",
          "Bbox_Partial_Overlap (TRUE)",
          "Bbox_Partial_Overlap (TRUE)",
          "Bbox_Overlap (FALSE)",
          "Bbox_Overlap (FALSE)",
          "Bbox_Overlap (FALSE)",
          "Bbox_Overlap (FALSE)",
          "Bbox_Overlap (FALSE)",
          "Bbox_Partial_Overlap (TRUE)",
          "Bbox_Overlap (FALSE)",
          "Bbox_Overlap (FALSE)",
          "Bbox_Overlap (FALSE)",
          "Bbox_Partial_Overlap (TRUE)",
          "Bbox_Partial_Overlap (TRUE)",
          "Bbox_Overlap (FALSE)",
          "Bbox_Partial_Overlap (TRUE)",
          "Bbox_Partial_Overlap (TRUE)",
          "Bbox_Partial_Overlap (TRUE)",
          "Bbox_Partial_Overlap (TRUE)",
          "Bbox_Partial_Overlap (TRUE)",
          "Bbox_Overlap (FALSE)",
          "Bbox_Partial_Overlap (TRUE)",
          "Bbox_Overlap (FALSE)",
          "Bbox_Overlap (FALSE)",
          "Bbox_Overlap (FALSE)",
          "Bbox_Overlap (FALSE)",
          "Bbox_Overlap (FALSE)",
          "Bbox_Partial_Overlap (TRUE)",
          "Bbox_Overlap (FALSE)",
          "Bbox_Overlap (FALSE)",
          "Bbox_Overlap (FALSE)",
          "Bbox_Overlap (FALSE)",
          "Bbox_Overlap (FALSE)",
          "Bbox_Overlap (FALSE)",
          "Bbox_Overlap (FALSE)",
          "Bbox_Overlap (FALSE)",
          "Bbox_Overlap (FALSE)",
          "Bbox_Overlap (FALSE)",
          "Bbox_Overlap (FALSE)",
          "Bbox_Overlap (FALSE)",
          "Bbox_Overlap (FALSE)",
          "Bbox_Overlap (FALSE)",
          "Bbox_Overlap (FALSE)",
          "Bbox_Overlap (FALSE)",
          "Bbox_Partial_Overlap (TRUE)",
          "Bbox_Overlap (FALSE)",
          "Bbox_Partial_Overlap (TRUE)",
          "Bbox_Partial_Overlap (TRUE)",
          "Bbox_Overlap (FALSE)"
         ],
         "x0": " ",
         "xaxis": "x3",
         "y": [
          0.01258792400767561,
          0.010796870003105141,
          0.005775628000264987,
          0.002976767995278351,
          0.0077401630114763975,
          0.005554714996833354,
          0.00887241298914887,
          0.002345960005186498,
          0.002645765009219758,
          0.003150062999338843,
          0.0127350560069317,
          0.007491609008866362,
          0.008840538997901604,
          0.011115400004200637,
          0.005841520993271843,
          0.0025228330050595105,
          0.018814050999935716,
          0.02328017099353019,
          0.015178877001744695,
          0.007108453006367199,
          0.030080497002927586,
          0.013182392009184696,
          0.010913897000136785,
          0.011581465994822793,
          0.008213587003410794,
          0.007244125998113304,
          0.005370314989704639,
          0.0044223570002941415,
          0.004108820008696057,
          0.004012598001281731,
          0.0016030170081648976,
          0.0036093019880354404,
          0.008588941011112183,
          0.005151655990630388,
          0.004425545004778542,
          0.005695154992281459,
          0.007039898991934024,
          0.006718678007018752,
          0.01617368499864824,
          0.018131266988348216,
          0.005238886995357461,
          0.00450284501130227,
          0.01015024101070594,
          0.004454640002222732,
          0.01028822100488469,
          0.0032039360085036606,
          0.003615186011302285,
          0.008598765009082854,
          0.007155988001613878,
          0.0033504269958939403,
          0.008691119990544394,
          0.0060613650130108,
          0.009557234996464103,
          0.006519817994558252,
          0.005499560007592663,
          0.020854988004430197,
          0.0048540099960519,
          0.008886322000762448,
          0.011473264006781392,
          0.0054940330010140315,
          0.004848602999118157,
          0.008586604002630338,
          0.00600769798620604,
          0.007365548008237965,
          0.002811957005178556,
          0.002893593002227135,
          0.0029941270040581003,
          0.032097154995426536,
          0.013799031992675737,
          0.006561567992321216,
          0.007659808004973456,
          0.005993562997900881,
          0.012876237000455149,
          0.00563308599521406,
          0.009658995986683294,
          0.005979612004011869,
          0.004203492004307918,
          0.006440719997044653,
          0.004947334993630648,
          0.004057108992128633,
          0.007848524008295499,
          0.003224025000235997,
          0.012130352988606319,
          0.019016739999642596,
          0.007712107995757833,
          0.006045471003744751,
          0.0043824339954881,
          0.0119638119940646,
          0.005669952995958738,
          0.0445660989935277,
          0.02348109100421425,
          0.02366301100119017,
          0.07353576998866629,
          0.01781741200829856,
          0.015265434005414136,
          0.0014709840033901855,
          0.012570612991112284,
          0.0028577869961736724,
          0.01284686398867052,
          0.012521415992523544,
          0.0025355959951411933,
          0.0026621320139383897,
          0.003164540001307614,
          0.011386206009774469,
          0.005218320002313703,
          0.004860454995650798,
          0.004727947001811117,
          0.0047407700039912015,
          0.006420168007025495,
          0.013065108010778204,
          0.011562546991626732,
          0.01064475100429263,
          0.008895033999579027,
          0.012474900999222882,
          0.10129497200250626,
          0.038586984999710694,
          0.0985039160004817,
          0.005841292004333809,
          0.00594746699789539,
          0.008392429008381441,
          0.0016094750026240945,
          0.0015255110047291964,
          0.003179877996444702,
          0.003742147993762046,
          0.0031269320024875924,
          0.0015229490090860054,
          0.008483755998895504,
          0.008449548011412844,
          0.009729880999657325,
          0.008474891001242213,
          0.004630679992260411,
          0.005073849999462254,
          0.004440293996594846,
          0.0031271309999283403,
          0.0036422220000531524,
          0.015034773998195305,
          0.12016552498971578,
          0.0016189639864023775,
          0.0047864520020084456,
          0.008435854993877001,
          0.0034878279984695837,
          0.0035408880066825077,
          0.002051362011115998,
          0.002047549991402775,
          0.0038180170085979626,
          0.0038113819900900126,
          0.020034223998663947,
          0.00545514200348407,
          0.05933791000279598,
          0.012432341987732798,
          0.0052452730014920235,
          0.004065455010277219,
          0.00508607599476818,
          0.00949780800146982,
          0.006505964993266389,
          0.0024268720007967204,
          0.006712172005791217,
          0.00819883300573565,
          0.004479405994061381,
          0.003583671001251787,
          0.014233744994271547,
          0.010265895005431958,
          0.004022594002890401,
          0.003500411010463722,
          0.0034437790018273517,
          0.02061755298927892,
          0.004346875008195639,
          0.0034063639905070886,
          0.007598910000524484,
          0.010826486992300488,
          0.008731781999813393,
          0.007048904997645877,
          0.007986002994584851,
          0.008672531999764033,
          0.007293689996004105,
          0.00694763999490533,
          0.009600751000107266,
          0.008199278003303334,
          0.02231554000172764,
          0.008117082994431257,
          0.005032339002355002,
          0.005263497005216777,
          0.00510268600191921,
          0.00799133098917082,
          0.0027150059904670343,
          0.002466846999595873,
          0.0012700460065389052,
          0.003471301999525167,
          0.0028535449964692816,
          0.0013434519933070987,
          0.002379483004915528,
          0.002625053995870985,
          0.0017291949916398153,
          0.0021096750133438036,
          0.008145240004523657,
          0.002914183001848869,
          0.0033840949909063056,
          0.002919102000305429,
          0.003151159005938098,
          0.002744366996921599,
          0.0013242069981060922,
          0.002353174000745639,
          0.002481607996742241,
          0.0024629399995319545,
          0.002616908008349128,
          0.003011165012139827,
          0.0015994139976100996,
          0.0024257440090877935,
          0.002049624003120698,
          0.0012387530005071312,
          0.0019507700053509325,
          0.002558560998295434,
          0.0019637569930637255,
          0.00311957199301105,
          0.003787775000091642,
          0.0015700920048402622,
          0.0015895960095804185,
          0.001918993002618663,
          0.0017881189996842295,
          0.002249118988402188,
          0.0022548439883394167,
          0.002249191005830653,
          0.002906527995946817,
          0.001251067005796358,
          0.0019011849944945425,
          0.001900952003779821,
          0.0025012190017150715,
          0.0031758499972056597,
          0.0026245930057484657,
          0.0022575539915123954,
          0.003562030993634835,
          0.0020123120048083365,
          0.0037341499992180616,
          0.007919928000774235,
          0.007976895998581313
         ],
         "y0": " ",
         "yaxis": "y3"
        },
        {
         "alignmentgroup": "True",
         "hovertemplate": "baseline=True<br>sizes=Small_Large_Mixed<br>context=%{x}<br>total_time=%{y}<extra></extra>",
         "legendgroup": "True",
         "marker": {
          "color": "#636efa"
         },
         "name": "True",
         "notched": false,
         "offsetgroup": "True",
         "orientation": "v",
         "showlegend": false,
         "type": "box",
         "x": [
          "Bbox_Inside_Other (TRUE)",
          "Bbox_Inside_Other (TRUE)",
          "Bbox_Partial_Overlap (TRUE)",
          "Bbox_Partial_Overlap (TRUE)",
          "Bbox_Partial_Overlap (TRUE)",
          "Bbox_Partial_Overlap (TRUE)",
          "Bbox_Overlap (FALSE)",
          "Bbox_Partial_Overlap (TRUE)",
          "Bbox_Overlap (FALSE)",
          "Bbox_Overlap (FALSE)",
          "Bbox_Overlap (FALSE)",
          "Bbox_Overlap (FALSE)",
          "Bbox_Overlap (FALSE)",
          "Bbox_Overlap (FALSE)",
          "Bbox_Overlap (FALSE)",
          "Bbox_Partial_Overlap (TRUE)",
          "Bbox_Overlap (FALSE)",
          "Bbox_Overlap (FALSE)",
          "Bbox_Overlap (FALSE)",
          "Bbox_Partial_Overlap (TRUE)",
          "Bbox_Overlap (FALSE)",
          "Bbox_Overlap (FALSE)",
          "Bbox_Partial_Overlap (TRUE)",
          "Bbox_Partial_Overlap (TRUE)",
          "Bbox_Overlap (FALSE)",
          "Bbox_Partial_Overlap (TRUE)",
          "Bbox_Overlap (FALSE)",
          "Bbox_Partial_Overlap (TRUE)",
          "Bbox_Overlap (FALSE)",
          "Bbox_Overlap (FALSE)",
          "Bbox_Overlap (FALSE)",
          "Bbox_Overlap (FALSE)",
          "Bbox_Partial_Overlap (TRUE)",
          "Bbox_Partial_Overlap (TRUE)",
          "Bbox_Overlap (FALSE)",
          "Bbox_Overlap (FALSE)",
          "Bbox_Overlap (FALSE)",
          "Bbox_Overlap (FALSE)",
          "Bbox_Overlap (FALSE)",
          "Bbox_Overlap (FALSE)",
          "Bbox_Overlap (FALSE)",
          "Bbox_Overlap (FALSE)",
          "Bbox_Overlap (FALSE)",
          "Bbox_Overlap (FALSE)",
          "Bbox_Overlap (FALSE)",
          "Bbox_Overlap (FALSE)",
          "Bbox_Overlap (FALSE)",
          "Bbox_Overlap (FALSE)",
          "Bbox_Overlap (FALSE)",
          "Bbox_Overlap (FALSE)",
          "Bbox_Overlap (FALSE)",
          "Bbox_Overlap (FALSE)",
          "Bbox_Overlap (FALSE)",
          "Bbox_Overlap (FALSE)",
          "Bbox_Overlap (FALSE)",
          "Bbox_Overlap (FALSE)",
          "Bbox_Overlap (FALSE)",
          "Bbox_Overlap (FALSE)",
          "Bbox_Overlap (FALSE)",
          "Bbox_Overlap (FALSE)",
          "Bbox_Overlap (FALSE)",
          "Bbox_Overlap (FALSE)",
          "Bbox_Partial_Overlap (TRUE)",
          "Bbox_Partial_Overlap (TRUE)",
          "Bbox_Partial_Overlap (TRUE)",
          "Bbox_Overlap (FALSE)",
          "Bbox_Partial_Overlap (TRUE)",
          "Bbox_Overlap (FALSE)",
          "Bbox_Partial_Overlap (TRUE)",
          "Bbox_Partial_Overlap (TRUE)",
          "Bbox_Partial_Overlap (TRUE)",
          "Bbox_Partial_Overlap (TRUE)",
          "Bbox_Overlap (FALSE)",
          "Bbox_Overlap (FALSE)",
          "Bbox_Overlap (FALSE)",
          "Bbox_Overlap (FALSE)",
          "Bbox_Overlap (FALSE)",
          "Bbox_Overlap (FALSE)",
          "Bbox_Partial_Overlap (TRUE)",
          "Bbox_Overlap (FALSE)",
          "Bbox_Overlap (FALSE)",
          "Bbox_Overlap (FALSE)",
          "Bbox_Overlap (FALSE)",
          "Bbox_Partial_Overlap (TRUE)",
          "Bbox_Partial_Overlap (TRUE)",
          "Bbox_Partial_Overlap (TRUE)",
          "Bbox_Partial_Overlap (TRUE)",
          "Bbox_Partial_Overlap (TRUE)",
          "Bbox_Partial_Overlap (TRUE)",
          "Bbox_Overlap (FALSE)",
          "Bbox_Overlap (FALSE)",
          "Bbox_Overlap (FALSE)",
          "Bbox_Partial_Overlap (TRUE)",
          "Bbox_Partial_Overlap (TRUE)",
          "Bbox_Overlap (FALSE)",
          "Bbox_Partial_Overlap (TRUE)",
          "Bbox_Partial_Overlap (TRUE)",
          "Bbox_Overlap (FALSE)",
          "Bbox_Overlap (FALSE)",
          "Bbox_Partial_Overlap (TRUE)",
          "Bbox_Partial_Overlap (TRUE)",
          "Bbox_Overlap (FALSE)",
          "Bbox_Overlap (FALSE)",
          "Bbox_Partial_Overlap (TRUE)",
          "Bbox_Overlap (FALSE)",
          "Bbox_Overlap (FALSE)",
          "Bbox_Overlap (FALSE)",
          "Bbox_Overlap (FALSE)",
          "Bbox_Overlap (FALSE)",
          "Bbox_Partial_Overlap (TRUE)",
          "Bbox_Partial_Overlap (TRUE)",
          "Bbox_Partial_Overlap (TRUE)",
          "Bbox_Partial_Overlap (TRUE)",
          "Bbox_Overlap (FALSE)",
          "Bbox_Overlap (FALSE)",
          "Bbox_Partial_Overlap (TRUE)",
          "Bbox_Overlap (FALSE)",
          "Bbox_Partial_Overlap (TRUE)",
          "Bbox_Overlap (FALSE)",
          "Bbox_Overlap (FALSE)",
          "Bbox_Overlap (FALSE)",
          "Bbox_Overlap (FALSE)",
          "Bbox_Overlap (FALSE)",
          "Bbox_Overlap (FALSE)",
          "Bbox_Overlap (FALSE)",
          "Bbox_Overlap (FALSE)",
          "Bbox_Overlap (FALSE)",
          "Bbox_Partial_Overlap (TRUE)",
          "Bbox_Overlap (FALSE)",
          "Bbox_Overlap (FALSE)",
          "Bbox_Overlap (FALSE)",
          "Bbox_Overlap (FALSE)",
          "Bbox_Partial_Overlap (TRUE)",
          "Bbox_Overlap (FALSE)",
          "Bbox_Overlap (FALSE)",
          "Bbox_Overlap (FALSE)",
          "Bbox_Overlap (FALSE)",
          "Bbox_Overlap (FALSE)",
          "Bbox_Overlap (FALSE)",
          "Bbox_Overlap (FALSE)",
          "Bbox_Overlap (FALSE)",
          "Bbox_Overlap (FALSE)",
          "Bbox_Overlap (FALSE)",
          "Bbox_Overlap (FALSE)",
          "Bbox_Overlap (FALSE)",
          "Bbox_Overlap (FALSE)",
          "Bbox_Overlap (FALSE)",
          "Bbox_Overlap (FALSE)",
          "Bbox_Overlap (FALSE)",
          "Bbox_Overlap (FALSE)",
          "Bbox_Overlap (FALSE)",
          "Bbox_Partial_Overlap (TRUE)",
          "Bbox_Overlap (FALSE)",
          "Bbox_Overlap (FALSE)",
          "Bbox_Overlap (FALSE)",
          "Bbox_Overlap (FALSE)",
          "Bbox_Overlap (FALSE)",
          "Bbox_Overlap (FALSE)",
          "Bbox_Overlap (FALSE)",
          "Bbox_Overlap (FALSE)",
          "Bbox_Overlap (FALSE)",
          "Bbox_Overlap (FALSE)",
          "Bbox_Overlap (FALSE)",
          "Bbox_Partial_Overlap (TRUE)",
          "Bbox_Overlap (FALSE)",
          "Bbox_Overlap (FALSE)",
          "Bbox_Overlap (FALSE)",
          "Bbox_Partial_Overlap (TRUE)",
          "Bbox_Overlap (FALSE)",
          "Bbox_Overlap (FALSE)",
          "Bbox_Partial_Overlap (TRUE)",
          "Bbox_Overlap (FALSE)",
          "Bbox_Partial_Overlap (TRUE)",
          "Bbox_Overlap (FALSE)",
          "Bbox_Overlap (FALSE)",
          "Bbox_Overlap (FALSE)",
          "Bbox_Overlap (FALSE)",
          "Bbox_Overlap (FALSE)",
          "Bbox_Overlap (FALSE)",
          "Bbox_Overlap (FALSE)",
          "Bbox_Overlap (FALSE)",
          "Bbox_Overlap (FALSE)",
          "Bbox_Overlap (FALSE)",
          "Bbox_Overlap (FALSE)",
          "Bbox_Partial_Overlap (TRUE)",
          "Bbox_Overlap (FALSE)",
          "Bbox_Overlap (FALSE)",
          "Bbox_Partial_Overlap (TRUE)",
          "Bbox_Overlap (FALSE)",
          "Bbox_Overlap (FALSE)",
          "Bbox_Overlap (FALSE)",
          "Bbox_Overlap (FALSE)",
          "Bbox_Overlap (FALSE)",
          "Bbox_Partial_Overlap (TRUE)",
          "Bbox_Overlap (FALSE)",
          "Bbox_Overlap (FALSE)",
          "Bbox_Overlap (FALSE)",
          "Bbox_Overlap (FALSE)",
          "Bbox_Overlap (FALSE)",
          "Bbox_Overlap (FALSE)",
          "Bbox_Overlap (FALSE)",
          "Bbox_Overlap (FALSE)",
          "Bbox_Overlap (FALSE)",
          "Bbox_Overlap (FALSE)",
          "Bbox_Overlap (FALSE)",
          "Bbox_Overlap (FALSE)",
          "Bbox_Overlap (FALSE)",
          "Bbox_Overlap (FALSE)",
          "Bbox_Overlap (FALSE)",
          "Bbox_Overlap (FALSE)",
          "Bbox_Overlap (FALSE)",
          "Bbox_Overlap (FALSE)",
          "Bbox_Overlap (FALSE)",
          "Bbox_Overlap (FALSE)",
          "Bbox_Overlap (FALSE)",
          "Bbox_Overlap (FALSE)",
          "Bbox_Overlap (FALSE)",
          "Bbox_Overlap (FALSE)",
          "Bbox_Overlap (FALSE)",
          "Bbox_Overlap (FALSE)",
          "Bbox_Overlap (FALSE)",
          "Bbox_Overlap (FALSE)",
          "Bbox_Overlap (FALSE)",
          "Bbox_Overlap (FALSE)",
          "Bbox_Overlap (FALSE)",
          "Bbox_Overlap (FALSE)",
          "Bbox_Overlap (FALSE)",
          "Bbox_Partial_Overlap (TRUE)",
          "Bbox_Overlap (FALSE)",
          "Bbox_Overlap (FALSE)",
          "Bbox_Overlap (FALSE)",
          "Bbox_Overlap (FALSE)",
          "Bbox_Overlap (FALSE)",
          "Bbox_Overlap (FALSE)",
          "Bbox_Overlap (FALSE)",
          "Bbox_Overlap (FALSE)",
          "Bbox_Overlap (FALSE)",
          "Bbox_Overlap (FALSE)",
          "Bbox_Overlap (FALSE)",
          "Bbox_Overlap (FALSE)",
          "Bbox_Overlap (FALSE)",
          "Bbox_Overlap (FALSE)",
          "Bbox_Overlap (FALSE)",
          "Bbox_Overlap (FALSE)",
          "Bbox_Overlap (FALSE)",
          "Bbox_Overlap (FALSE)",
          "Bbox_Overlap (FALSE)",
          "Bbox_Overlap (FALSE)",
          "Bbox_Overlap (FALSE)",
          "Bbox_Overlap (FALSE)",
          "Bbox_Overlap (FALSE)",
          "Bbox_Overlap (FALSE)",
          "Bbox_Overlap (FALSE)",
          "Bbox_Overlap (FALSE)",
          "Bbox_Overlap (FALSE)",
          "Bbox_Overlap (FALSE)"
         ],
         "x0": " ",
         "xaxis": "x4",
         "y": [
          0.0009734170016599819,
          0.0009938490111380816,
          0.0027119650039821863,
          0.0021974080009385943,
          0.002424755002721213,
          0.0017736860027071089,
          0.0015036609984235838,
          0.0022667250013910234,
          0.0004989480075892061,
          0.011181259993463755,
          0.0017200220027007163,
          0.0027231849962845445,
          0.0014880670059937984,
          0.0012463410093914717,
          0.0010828649974428117,
          0.0017238569998880848,
          0.0009930369997164235,
          0.0010875279986066744,
          0.0009329869935754687,
          0.001702478009974584,
          0.000956214003963396,
          0.0006107939989306033,
          0.0016964179958449677,
          0.002472141000907868,
          0.0019431880064075813,
          0.0033578919974388555,
          0.0011790900025516748,
          0.0016806409985292703,
          0.0018560729949967936,
          0.0012062180030625314,
          0.0017456909990869462,
          0.0016933789884205908,
          0.001263546000700444,
          0.0011770450073527172,
          0.0020765560038853437,
          0.001641381997615099,
          0.0020249639928806573,
          0.001716981001663953,
          0.0016825159982545301,
          0.002246515010483563,
          0.001546049999888055,
          0.0014349929988384247,
          0.0014398470084415749,
          0.0014325770025607198,
          0.0019686349987750873,
          0.0015004799934104085,
          0.0016193839983316138,
          0.0017700470052659512,
          0.0017398839991074055,
          0.0017193009989568964,
          0.0024048509949352592,
          0.0017441939999116585,
          0.001807826993172057,
          0.0021724560065194964,
          0.0017840030050138012,
          0.0018322440009796992,
          0.001548200991237536,
          0.0013639520038850605,
          0.002069654001388699,
          0.0010261100105708465,
          0.0010128410067409277,
          0.0012817509996239096,
          0.005996754000079818,
          0.008418425990385003,
          0.007586412990349345,
          0.0009760120010469109,
          0.0023615650134161115,
          0.001443941000616178,
          0.0066798829939216375,
          0.008073973003774881,
          0.006876558996737003,
          0.0011583739978959784,
          0.0011457450018497184,
          0.0011300180049147457,
          0.001096788007998839,
          0.001182405001600273,
          0.0012273190077394247,
          0.0013437860034173355,
          0.0022671580081805587,
          0.0015974690031725913,
          0.001548416999867186,
          0.001387848999002017,
          0.001047115001711063,
          0.0012018890120089054,
          0.001078007000614889,
          0.0009663200034992769,
          0.001450249008485116,
          0.001414839003700763,
          0.001088894990971312,
          0.0010011760023189709,
          0.0010306969925295562,
          0.0009837159886956215,
          0.0011356920003890991,
          0.0013393100089160725,
          0.001072972998372279,
          0.0011833919998025522,
          0.0011553380027180538,
          0.0006598540057893842,
          0.0008301850029965863,
          0.0011804350069724023,
          0.001447144997655414,
          0.0007455650047631934,
          0.0007503689994337037,
          0.0016643249982735142,
          0.0011985800083493814,
          0.0010663090070011094,
          0.0009584360086591914,
          0.0007421240006806329,
          0.0009564229985699058,
          0.0016456029989058152,
          0.0011523389985086396,
          0.0011583910090848804,
          0.001262056000996381,
          0.0010189290042035282,
          0.0010751160007202998,
          0.0009506230126135051,
          0.0010827280057128519,
          0.0025414279953110963,
          0.0015760239912196994,
          0.0008997520053526387,
          0.0016778389981482178,
          0.000983930003712885,
          0.001288115992792882,
          0.0012035139952786267,
          0.0012125599896535277,
          0.0009078360017156228,
          0.0011470430035842583,
          0.0015581640036543831,
          0.0010373039986006916,
          0.0011416930065024644,
          0.0012431029899744317,
          0.0011740469926735386,
          0.0015658610063837841,
          0.0016337749984813854,
          0.0018892009975388646,
          0.0014241890021366999,
          0.001384194998536259,
          0.0013114629982737824,
          0.0018154420104110613,
          0.0013684680016012862,
          0.0013817639992339537,
          0.0014258299925131723,
          0.0016053840081440285,
          0.0018830879998859018,
          0.0018223189981654286,
          0.0016213569906540215,
          0.002500408998457715,
          0.001813591006794013,
          0.0013388670049607754,
          0.0018871050124289468,
          0.0013746109907515347,
          0.0011924079881282523,
          0.0007467999967047945,
          0.000660096004139632,
          0.0007282750011654571,
          0.0009077089925995097,
          0.0008363800006918609,
          0.0008111450006254017,
          0.0008549710037186742,
          0.0008396869961870834,
          0.0013740920112468302,
          0.0008934989891713485,
          0.0007995170017238706,
          0.0013119760114932433,
          0.0017324350046692416,
          0.0014303339994512498,
          0.0017091909976443276,
          0.0016391030076192692,
          0.002280249012983404,
          0.0016868940001586452,
          0.0014674799895146862,
          0.0009949810046236962,
          0.002406647996394895,
          0.0019411410030443221,
          0.0019722889992408454,
          0.001977036998141557,
          0.0020567939936881885,
          0.0014895759959472343,
          0.001893774009658955,
          0.001968511991435662,
          0.0006711229943903163,
          0.0006538090092362836,
          0.0009584330109646544,
          0.00102438400790561,
          0.002259669010527432,
          0.0009594280127203092,
          0.0013342970050871372,
          0.003283343990915455,
          0.00315551899257116,
          0.003106460004346445,
          0.003105822004727088,
          0.0031119680061237887,
          0.003360618997248821,
          0.0034455310087651014,
          0.003894162000506185,
          0.004650923001463525,
          0.00428041499981191,
          0.0027462170110084116,
          0.0027222600037930533,
          0.0028123330121161416,
          0.0014334589941427112,
          0.0014193780079949647,
          0.0019031799893127754,
          0.001961011003004387,
          0.0019361939921509475,
          0.0019383780017960817,
          0.0019428639934631065,
          0.0018809689936460927,
          0.0018849019979825243,
          0.0019349140056874603,
          0.0027839870017487556,
          0.0024723940005060285,
          0.001990966993616894,
          0.0022631100000580773,
          0.0019297109975013882,
          0.0021677609911421314,
          0.0019513080042088404,
          0.002044244989519939,
          0.001959963992703706,
          0.0020011129963677377,
          0.002078229998005554,
          0.001964661991223693,
          0.0019288780022179708,
          0.0019371969974599779,
          0.002066853005089797,
          0.0019830240053124726,
          0.0019267709867563099,
          0.002179900009650737,
          0.002010733005590737,
          0.002571971999714151,
          0.002255557003081776,
          0.002204725009505637,
          0.0025342860026285052,
          0.00262020000081975,
          0.0024290779983857647,
          0.0019682499987538904,
          0.0028719620022457093,
          0.002556058010668494,
          0.002347291010664776,
          0.002644089996465482,
          0.0025768310006242245,
          0.002040118008153513,
          0.00192711700219661,
          0.0019474980072118342,
          0.00193318999663461,
          0.0019770229991991073,
          0.0019310369971208274,
          0.0020435810001799837,
          0.001934897998580709,
          0.00194015700253658,
          0.0020090489997528493,
          0.002062374012893997,
          0.0020766349916812032,
          0.0020401060028234497,
          0.0008536039968021214,
          0.0012980729952687398
         ],
         "y0": " ",
         "yaxis": "y4"
        },
        {
         "alignmentgroup": "True",
         "hovertemplate": "baseline=True<br>sizes=Medium_Large_Mixed<br>context=%{x}<br>total_time=%{y}<extra></extra>",
         "legendgroup": "True",
         "marker": {
          "color": "#636efa"
         },
         "name": "True",
         "notched": false,
         "offsetgroup": "True",
         "orientation": "v",
         "showlegend": false,
         "type": "box",
         "x": [
          "Bbox_Overlap (FALSE)",
          "Bbox_Overlap (FALSE)",
          "Bbox_Overlap (FALSE)",
          "Bbox_Overlap (FALSE)",
          "Bbox_Overlap (FALSE)",
          "Bbox_Overlap (FALSE)",
          "Bbox_Overlap (FALSE)",
          "Bbox_Overlap (FALSE)",
          "Bbox_Partial_Overlap (TRUE)",
          "Bbox_Partial_Overlap (TRUE)",
          "Bbox_Overlap (FALSE)",
          "Bbox_Partial_Overlap (TRUE)",
          "Bbox_Overlap (FALSE)",
          "Bbox_Overlap (FALSE)",
          "Bbox_Overlap (FALSE)",
          "Bbox_Partial_Overlap (TRUE)",
          "Bbox_Overlap (FALSE)",
          "Bbox_Overlap (FALSE)",
          "Bbox_Overlap (FALSE)",
          "Bbox_Overlap (FALSE)",
          "Bbox_Partial_Overlap (TRUE)",
          "Bbox_Partial_Overlap (TRUE)",
          "Bbox_Overlap (FALSE)",
          "Bbox_Partial_Overlap (TRUE)",
          "Bbox_Partial_Overlap (TRUE)",
          "Bbox_Overlap (FALSE)",
          "Bbox_Overlap (FALSE)",
          "Bbox_Overlap (FALSE)",
          "Bbox_Partial_Overlap (TRUE)",
          "Bbox_Partial_Overlap (TRUE)",
          "Bbox_Partial_Overlap (TRUE)",
          "Bbox_Overlap (FALSE)",
          "Bbox_Partial_Overlap (TRUE)",
          "Bbox_Partial_Overlap (TRUE)",
          "Bbox_Partial_Overlap (TRUE)",
          "Bbox_Overlap (FALSE)",
          "Bbox_Partial_Overlap (TRUE)",
          "Bbox_Overlap (FALSE)",
          "Bbox_Overlap (FALSE)",
          "Bbox_Overlap (FALSE)",
          "Bbox_Overlap (FALSE)",
          "Bbox_Overlap (FALSE)",
          "Bbox_Overlap (FALSE)",
          "Bbox_Overlap (FALSE)",
          "Bbox_Overlap (FALSE)",
          "Bbox_Overlap (FALSE)",
          "Bbox_Overlap (FALSE)",
          "Bbox_Overlap (FALSE)",
          "Bbox_Overlap (FALSE)",
          "Bbox_Overlap (FALSE)",
          "Bbox_Overlap (FALSE)",
          "Bbox_Overlap (FALSE)",
          "Bbox_Partial_Overlap (TRUE)",
          "Bbox_Partial_Overlap (TRUE)",
          "Bbox_Overlap (FALSE)",
          "Bbox_Overlap (FALSE)",
          "Bbox_Overlap (FALSE)",
          "Bbox_Overlap (FALSE)",
          "Bbox_Overlap (FALSE)",
          "Bbox_Overlap (FALSE)",
          "Bbox_Overlap (FALSE)",
          "Bbox_Overlap (FALSE)",
          "Bbox_Partial_Overlap (TRUE)",
          "Bbox_Overlap (FALSE)",
          "Bbox_Overlap (FALSE)",
          "Bbox_Overlap (FALSE)",
          "Bbox_Overlap (FALSE)",
          "Bbox_Overlap (FALSE)",
          "Bbox_Partial_Overlap (TRUE)",
          "Bbox_Partial_Overlap (TRUE)",
          "Bbox_Overlap (FALSE)",
          "Bbox_Overlap (FALSE)",
          "Bbox_Partial_Overlap (TRUE)",
          "Bbox_Overlap (FALSE)",
          "Bbox_Overlap (FALSE)",
          "Bbox_Overlap (FALSE)",
          "Bbox_Overlap (FALSE)",
          "Bbox_Overlap (FALSE)",
          "Bbox_Overlap (FALSE)",
          "Bbox_Overlap (FALSE)"
         ],
         "x0": " ",
         "xaxis": "x5",
         "y": [
          0.008450078996247612,
          0.006883955997182056,
          0.007075247005559504,
          0.004023375004180707,
          0.0015098110015969723,
          0.007047338003758341,
          0.0033158419973915443,
          0.003226089000236243,
          0.0013984260003780946,
          0.0014247799990698695,
          0.0013612140028271824,
          0.001910302002215758,
          0.0019201899995096028,
          0.0019874150020768866,
          0.0023266979987965897,
          0.002050004986813292,
          0.0014447930007008836,
          0.0013804829941364005,
          0.0009024610044434667,
          0.0014483010018011555,
          0.0023424609971698374,
          0.0017058179946616292,
          0.0012692909949691966,
          0.0025696520024212077,
          0.0025725860032252967,
          0.001450304000172764,
          0.0012521700118668377,
          0.0019704010046552867,
          0.0013819070009049028,
          0.001946131989825517,
          0.0014203169994289055,
          0.0008992609946290031,
          0.001493162999395281,
          0.0014483099948847666,
          0.0012671930016949773,
          0.0010550519946264103,
          0.0018204679945483804,
          0.001086364994989708,
          0.0011931869958061725,
          0.0012168020039098337,
          0.00156363399582915,
          0.0019400890014367178,
          0.0010378189908806235,
          0.0012156699958723038,
          0.001217644996359013,
          0.0009058799914782867,
          0.0017407959967385978,
          0.0018669739947654307,
          0.0012021639995509759,
          0.0010916229948634282,
          0.0011967689933953807,
          0.0009619699994800612,
          0.002038540013018064,
          0.0018837310053640977,
          0.0013278169935801998,
          0.0010875270090764388,
          0.0012201659992570058,
          0.0015982219920260832,
          0.0014497910015052184,
          0.001662953000050038,
          0.0015658080083085224,
          0.0016069609991973266,
          0.0015611459966748953,
          0.002009399002417922,
          0.0010686589957913384,
          0.001047251993441023,
          0.0024615480069769546,
          0.0024899180134525523,
          0.0014501200057566166,
          0.001255184004548937,
          0.0014413780008908361,
          0.0013872609997633845,
          0.0038941800012253225,
          0.0015954789996612817,
          0.0025158080097753555,
          0.002175004003220238,
          0.0027825720026157796,
          0.0022917479946045205,
          0.002415920011117123,
          0.002200249000452459
         ],
         "y0": " ",
         "yaxis": "y5"
        },
        {
         "alignmentgroup": "True",
         "hovertemplate": "baseline=True<br>sizes=Medium<br>context=%{x}<br>total_time=%{y}<extra></extra>",
         "legendgroup": "True",
         "marker": {
          "color": "#636efa"
         },
         "name": "True",
         "notched": false,
         "offsetgroup": "True",
         "orientation": "v",
         "showlegend": false,
         "type": "box",
         "x": [
          "Bbox_Overlap (FALSE)",
          "Bbox_Overlap (FALSE)",
          "Bbox_Overlap (FALSE)",
          "Bbox_Partial_Overlap (TRUE)",
          "Bbox_Overlap (FALSE)",
          "Bbox_Partial_Overlap (TRUE)",
          "Bbox_Partial_Overlap (TRUE)",
          "Bbox_Overlap (FALSE)",
          "Bbox_Partial_Overlap (TRUE)",
          "Bbox_Partial_Overlap (TRUE)",
          "Bbox_Partial_Overlap (TRUE)",
          "Bbox_Partial_Overlap (TRUE)",
          "Bbox_Partial_Overlap (TRUE)",
          "Bbox_Partial_Overlap (TRUE)",
          "Bbox_Partial_Overlap (TRUE)",
          "Bbox_Overlap (FALSE)",
          "Bbox_Overlap (FALSE)",
          "Bbox_Overlap (FALSE)",
          "Bbox_Partial_Overlap (TRUE)",
          "Bbox_Overlap (FALSE)",
          "Bbox_Overlap (FALSE)",
          "Bbox_Partial_Overlap (TRUE)",
          "Bbox_Partial_Overlap (TRUE)",
          "Bbox_Overlap (FALSE)",
          "Bbox_Partial_Overlap (TRUE)",
          "Bbox_Overlap (FALSE)",
          "Bbox_Partial_Overlap (TRUE)"
         ],
         "x0": " ",
         "xaxis": "x6",
         "y": [
          0.0011664589983411133,
          0.000755208995542489,
          0.0006209839921211824,
          0.0012367430026642978,
          0.0008929370087571442,
          0.0029847270052414387,
          0.0018337249930482358,
          0.0008841340022627264,
          0.0019800929876510054,
          0.003007602004799992,
          0.0019911490089725703,
          0.0015860900020925328,
          0.0010701040009735152,
          0.0015169339894782752,
          0.0010681309940991923,
          0.0006335220095934346,
          0.0006093419942772016,
          0.0006171909917611629,
          0.0011946390004595742,
          0.0007687909965170547,
          0.000764028009143658,
          0.0011108990001957864,
          0.0011360329954186454,
          0.0006005040049785748,
          0.001862568999058567,
          0.0007147870055632666,
          0.0010162219987250865
         ],
         "y0": " ",
         "yaxis": "y6"
        },
        {
         "alignmentgroup": "True",
         "hovertemplate": "baseline=False<br>sizes=Small<br>context=%{x}<br>total_time=%{y}<extra></extra>",
         "legendgroup": "False",
         "marker": {
          "color": "#EF553B"
         },
         "name": "False",
         "notched": false,
         "offsetgroup": "False",
         "orientation": "v",
         "showlegend": true,
         "type": "box",
         "x": [
          "Bbox_Overlap (FALSE)",
          "Bbox_Partial_Overlap (TRUE)",
          "Bbox_Inside_Other (TRUE)",
          "Bbox_Overlap (FALSE)",
          "Bbox_Partial_Overlap (TRUE)",
          "Bbox_Partial_Overlap (TRUE)",
          "Bbox_Partial_Overlap (TRUE)",
          "Bbox_Partial_Overlap (TRUE)",
          "Bbox_Partial_Overlap (TRUE)",
          "Bbox_Partial_Overlap (TRUE)",
          "Bbox_Partial_Overlap (TRUE)",
          "Bbox_Overlap (FALSE)",
          "Bbox_Overlap (FALSE)",
          "Bbox_Partial_Overlap (TRUE)",
          "Bbox_Partial_Overlap (TRUE)",
          "Bbox_Inside_Other (TRUE)",
          "Bbox_Inside_Other (TRUE)",
          "Bbox_Partial_Overlap (TRUE)",
          "Bbox_Partial_Overlap (TRUE)",
          "Bbox_Partial_Overlap (TRUE)",
          "Bbox_Partial_Overlap (TRUE)",
          "Bbox_Partial_Overlap (TRUE)",
          "Bbox_Partial_Overlap (TRUE)",
          "Bbox_Overlap (FALSE)",
          "Bbox_Overlap (FALSE)",
          "Bbox_Overlap (FALSE)",
          "Bbox_Inside_Other (TRUE)",
          "Bbox_Partial_Overlap (TRUE)",
          "Bbox_Overlap (FALSE)",
          "Bbox_Overlap (FALSE)",
          "Bbox_Overlap (FALSE)",
          "Bbox_Overlap (FALSE)",
          "Bbox_Overlap (FALSE)",
          "Bbox_Overlap (FALSE)",
          "Bbox_Overlap (FALSE)",
          "Bbox_Overlap (FALSE)",
          "Bbox_Overlap (FALSE)",
          "Bbox_Overlap (FALSE)",
          "Bbox_Overlap (FALSE)",
          "Bbox_Overlap (FALSE)",
          "Bbox_Overlap (FALSE)",
          "Bbox_Overlap (FALSE)",
          "Bbox_Overlap (FALSE)",
          "Bbox_Overlap (FALSE)",
          "Bbox_Overlap (FALSE)",
          "Bbox_Overlap (FALSE)",
          "Bbox_Overlap (FALSE)",
          "Bbox_Overlap (FALSE)",
          "Bbox_Overlap (FALSE)",
          "Bbox_Overlap (FALSE)",
          "Bbox_Overlap (FALSE)",
          "Bbox_Overlap (FALSE)",
          "Bbox_Overlap (FALSE)",
          "Bbox_Overlap (FALSE)",
          "Bbox_Overlap (FALSE)",
          "Bbox_Overlap (FALSE)",
          "Bbox_Overlap (FALSE)",
          "Bbox_Overlap (FALSE)",
          "Bbox_Overlap (FALSE)",
          "Bbox_Overlap (FALSE)",
          "Bbox_Overlap (FALSE)",
          "Bbox_Overlap (FALSE)",
          "Bbox_Overlap (FALSE)",
          "Bbox_Overlap (FALSE)",
          "Bbox_Overlap (FALSE)",
          "Bbox_Overlap (FALSE)",
          "Bbox_Overlap (FALSE)",
          "Bbox_Overlap (FALSE)",
          "Bbox_Overlap (FALSE)",
          "Bbox_Overlap (FALSE)",
          "Bbox_Overlap (FALSE)",
          "Bbox_Overlap (FALSE)",
          "Bbox_Overlap (FALSE)",
          "Bbox_Overlap (FALSE)",
          "Bbox_Overlap (FALSE)",
          "Bbox_Overlap (FALSE)",
          "Bbox_Overlap (FALSE)",
          "Bbox_Overlap (FALSE)",
          "Bbox_Overlap (FALSE)",
          "Bbox_Overlap (FALSE)",
          "Bbox_Overlap (FALSE)",
          "Bbox_Overlap (FALSE)",
          "Bbox_Overlap (FALSE)",
          "Bbox_Overlap (FALSE)",
          "Bbox_Overlap (FALSE)",
          "Bbox_Overlap (FALSE)",
          "Bbox_Overlap (FALSE)",
          "Bbox_Overlap (FALSE)",
          "Bbox_Overlap (FALSE)",
          "Bbox_Overlap (FALSE)",
          "Bbox_Overlap (FALSE)",
          "Bbox_Overlap (FALSE)",
          "Bbox_Overlap (FALSE)",
          "Bbox_Overlap (FALSE)",
          "Bbox_Partial_Overlap (TRUE)",
          "Bbox_Overlap (FALSE)",
          "Bbox_Overlap (FALSE)",
          "Bbox_Overlap (FALSE)",
          "Bbox_Overlap (FALSE)",
          "Bbox_Overlap (FALSE)",
          "Bbox_Overlap (FALSE)",
          "Bbox_Overlap (FALSE)",
          "Bbox_Overlap (FALSE)",
          "Bbox_Overlap (FALSE)",
          "Bbox_Overlap (FALSE)",
          "Bbox_Overlap (FALSE)",
          "Bbox_Overlap (FALSE)",
          "Bbox_Overlap (FALSE)",
          "Bbox_Overlap (FALSE)",
          "Bbox_Overlap (FALSE)",
          "Bbox_Overlap (FALSE)",
          "Bbox_Overlap (FALSE)",
          "Bbox_Overlap (FALSE)",
          "Bbox_Overlap (FALSE)",
          "Bbox_Partial_Overlap (TRUE)",
          "Bbox_Partial_Overlap (TRUE)",
          "Bbox_Partial_Overlap (TRUE)",
          "Bbox_Partial_Overlap (TRUE)",
          "Bbox_Partial_Overlap (TRUE)",
          "Bbox_Partial_Overlap (TRUE)",
          "Bbox_Partial_Overlap (TRUE)",
          "Bbox_Partial_Overlap (TRUE)",
          "Bbox_Overlap (FALSE)",
          "Bbox_Partial_Overlap (TRUE)",
          "Bbox_Partial_Overlap (TRUE)",
          "Bbox_Partial_Overlap (TRUE)",
          "Bbox_Overlap (FALSE)",
          "Bbox_Overlap (FALSE)",
          "Bbox_Partial_Overlap (TRUE)",
          "Bbox_Partial_Overlap (TRUE)",
          "Bbox_Overlap (FALSE)",
          "Bbox_Partial_Overlap (TRUE)",
          "Bbox_Partial_Overlap (TRUE)",
          "Bbox_Partial_Overlap (TRUE)",
          "Bbox_Overlap (FALSE)",
          "Bbox_Overlap (FALSE)",
          "Bbox_Overlap (FALSE)",
          "Bbox_Partial_Overlap (TRUE)",
          "Bbox_Partial_Overlap (TRUE)",
          "Bbox_Partial_Overlap (TRUE)",
          "Bbox_Partial_Overlap (TRUE)",
          "Bbox_Partial_Overlap (TRUE)",
          "Bbox_Partial_Overlap (TRUE)",
          "Bbox_Overlap (FALSE)",
          "Bbox_Overlap (FALSE)",
          "Bbox_Overlap (FALSE)",
          "Bbox_Overlap (FALSE)",
          "Bbox_Overlap (FALSE)",
          "Bbox_Overlap (FALSE)",
          "Bbox_Partial_Overlap (TRUE)",
          "Bbox_Partial_Overlap (TRUE)",
          "Bbox_Overlap (FALSE)",
          "Bbox_Partial_Overlap (TRUE)",
          "Bbox_Partial_Overlap (TRUE)",
          "Bbox_Partial_Overlap (TRUE)",
          "Bbox_Partial_Overlap (TRUE)",
          "Bbox_Overlap (FALSE)",
          "Bbox_Partial_Overlap (TRUE)",
          "Bbox_Partial_Overlap (TRUE)",
          "Bbox_Partial_Overlap (TRUE)",
          "Bbox_Partial_Overlap (TRUE)",
          "Bbox_Partial_Overlap (TRUE)",
          "Bbox_Partial_Overlap (TRUE)",
          "Bbox_Partial_Overlap (TRUE)",
          "Bbox_Partial_Overlap (TRUE)",
          "Bbox_Partial_Overlap (TRUE)",
          "Bbox_Partial_Overlap (TRUE)",
          "Bbox_Partial_Overlap (TRUE)",
          "Bbox_Partial_Overlap (TRUE)",
          "Bbox_Partial_Overlap (TRUE)",
          "Bbox_Partial_Overlap (TRUE)",
          "Bbox_Partial_Overlap (TRUE)",
          "Bbox_Partial_Overlap (TRUE)",
          "Bbox_Partial_Overlap (TRUE)",
          "Bbox_Partial_Overlap (TRUE)",
          "Bbox_Partial_Overlap (TRUE)",
          "Bbox_Partial_Overlap (TRUE)",
          "Bbox_Partial_Overlap (TRUE)",
          "Bbox_Partial_Overlap (TRUE)",
          "Bbox_Partial_Overlap (TRUE)",
          "Bbox_Overlap (FALSE)",
          "Bbox_Overlap (FALSE)",
          "Bbox_Partial_Overlap (TRUE)",
          "Bbox_Overlap (FALSE)",
          "Bbox_Partial_Overlap (TRUE)",
          "Bbox_Overlap (FALSE)",
          "Bbox_Partial_Overlap (TRUE)",
          "Bbox_Partial_Overlap (TRUE)",
          "Bbox_Partial_Overlap (TRUE)",
          "Bbox_Partial_Overlap (TRUE)",
          "Bbox_Partial_Overlap (TRUE)",
          "Bbox_Partial_Overlap (TRUE)",
          "Bbox_Overlap (FALSE)",
          "Bbox_Partial_Overlap (TRUE)",
          "Bbox_Partial_Overlap (TRUE)",
          "Bbox_Partial_Overlap (TRUE)",
          "Bbox_Partial_Overlap (TRUE)",
          "Bbox_Partial_Overlap (TRUE)",
          "Bbox_Partial_Overlap (TRUE)",
          "Bbox_Partial_Overlap (TRUE)",
          "Bbox_Overlap (FALSE)",
          "Bbox_Partial_Overlap (TRUE)",
          "Bbox_Partial_Overlap (TRUE)",
          "Bbox_Partial_Overlap (TRUE)",
          "Bbox_Overlap (FALSE)",
          "Bbox_Overlap (FALSE)",
          "Bbox_Overlap (FALSE)",
          "Bbox_Overlap (FALSE)",
          "Bbox_Partial_Overlap (TRUE)",
          "Bbox_Partial_Overlap (TRUE)",
          "Bbox_Partial_Overlap (TRUE)",
          "Bbox_Partial_Overlap (TRUE)",
          "Bbox_Partial_Overlap (TRUE)",
          "Bbox_Partial_Overlap (TRUE)",
          "Bbox_Partial_Overlap (TRUE)",
          "Bbox_Partial_Overlap (TRUE)",
          "Bbox_Partial_Overlap (TRUE)",
          "Bbox_Partial_Overlap (TRUE)",
          "Bbox_Partial_Overlap (TRUE)",
          "Bbox_Overlap (FALSE)",
          "Bbox_Partial_Overlap (TRUE)",
          "Bbox_Partial_Overlap (TRUE)",
          "Bbox_Overlap (FALSE)",
          "Bbox_Overlap (FALSE)",
          "Bbox_Overlap (FALSE)",
          "Bbox_Partial_Overlap (TRUE)",
          "Bbox_Overlap (FALSE)",
          "Bbox_Overlap (FALSE)",
          "Bbox_Overlap (FALSE)",
          "Bbox_Partial_Overlap (TRUE)",
          "Bbox_Overlap (FALSE)",
          "Bbox_Overlap (FALSE)",
          "Bbox_Partial_Overlap (TRUE)",
          "Bbox_Partial_Overlap (TRUE)",
          "Bbox_Overlap (FALSE)",
          "Bbox_Partial_Overlap (TRUE)",
          "Bbox_Partial_Overlap (TRUE)",
          "Bbox_Overlap (FALSE)",
          "Bbox_Partial_Overlap (TRUE)",
          "Bbox_Partial_Overlap (TRUE)",
          "Bbox_Partial_Overlap (TRUE)",
          "Bbox_Partial_Overlap (TRUE)",
          "Bbox_Overlap (FALSE)",
          "Bbox_Partial_Overlap (TRUE)",
          "Bbox_Partial_Overlap (TRUE)",
          "Bbox_Overlap (FALSE)",
          "Bbox_Overlap (FALSE)",
          "Bbox_Overlap (FALSE)",
          "Bbox_Partial_Overlap (TRUE)",
          "Bbox_Overlap (FALSE)",
          "Bbox_Partial_Overlap (TRUE)",
          "Bbox_Partial_Overlap (TRUE)",
          "Bbox_Partial_Overlap (TRUE)",
          "Bbox_Partial_Overlap (TRUE)",
          "Bbox_Partial_Overlap (TRUE)",
          "Bbox_Partial_Overlap (TRUE)",
          "Bbox_Partial_Overlap (TRUE)",
          "Bbox_Partial_Overlap (TRUE)",
          "Bbox_Overlap (FALSE)",
          "Bbox_Overlap (FALSE)",
          "Bbox_Partial_Overlap (TRUE)",
          "Bbox_Partial_Overlap (TRUE)",
          "Bbox_Partial_Overlap (TRUE)",
          "Bbox_Partial_Overlap (TRUE)",
          "Bbox_Partial_Overlap (TRUE)",
          "Bbox_Partial_Overlap (TRUE)",
          "Bbox_Partial_Overlap (TRUE)",
          "Bbox_Partial_Overlap (TRUE)",
          "Bbox_Partial_Overlap (TRUE)",
          "Bbox_Partial_Overlap (TRUE)",
          "Bbox_Partial_Overlap (TRUE)",
          "Bbox_Partial_Overlap (TRUE)",
          "Bbox_Partial_Overlap (TRUE)",
          "Bbox_Partial_Overlap (TRUE)",
          "Bbox_Overlap (FALSE)",
          "Bbox_Overlap (FALSE)",
          "Bbox_Partial_Overlap (TRUE)",
          "Bbox_Partial_Overlap (TRUE)",
          "Bbox_Overlap (FALSE)",
          "Bbox_Partial_Overlap (TRUE)",
          "Bbox_Partial_Overlap (TRUE)",
          "Bbox_Overlap (FALSE)",
          "Bbox_Partial_Overlap (TRUE)",
          "Bbox_Partial_Overlap (TRUE)",
          "Bbox_Partial_Overlap (TRUE)",
          "Bbox_Partial_Overlap (TRUE)",
          "Bbox_Partial_Overlap (TRUE)",
          "Bbox_Partial_Overlap (TRUE)",
          "Bbox_Overlap (FALSE)",
          "Bbox_Partial_Overlap (TRUE)",
          "Bbox_Partial_Overlap (TRUE)",
          "Bbox_Partial_Overlap (TRUE)",
          "Bbox_Partial_Overlap (TRUE)",
          "Bbox_Partial_Overlap (TRUE)",
          "Bbox_Partial_Overlap (TRUE)",
          "Bbox_Partial_Overlap (TRUE)",
          "Bbox_Partial_Overlap (TRUE)",
          "Bbox_Partial_Overlap (TRUE)",
          "Bbox_Partial_Overlap (TRUE)",
          "Bbox_Partial_Overlap (TRUE)",
          "Bbox_Partial_Overlap (TRUE)",
          "Bbox_Partial_Overlap (TRUE)",
          "Bbox_Partial_Overlap (TRUE)",
          "Bbox_Partial_Overlap (TRUE)",
          "Bbox_Partial_Overlap (TRUE)",
          "Bbox_Partial_Overlap (TRUE)",
          "Bbox_Partial_Overlap (TRUE)",
          "Bbox_Partial_Overlap (TRUE)",
          "Bbox_Partial_Overlap (TRUE)",
          "Bbox_Partial_Overlap (TRUE)",
          "Bbox_Partial_Overlap (TRUE)",
          "Bbox_Partial_Overlap (TRUE)",
          "Bbox_Partial_Overlap (TRUE)",
          "Bbox_Partial_Overlap (TRUE)",
          "Bbox_Partial_Overlap (TRUE)",
          "Bbox_Partial_Overlap (TRUE)",
          "Bbox_Partial_Overlap (TRUE)",
          "Bbox_Partial_Overlap (TRUE)",
          "Bbox_Partial_Overlap (TRUE)",
          "Bbox_Partial_Overlap (TRUE)",
          "Bbox_Partial_Overlap (TRUE)",
          "Bbox_Partial_Overlap (TRUE)",
          "Bbox_Partial_Overlap (TRUE)",
          "Bbox_Partial_Overlap (TRUE)",
          "Bbox_Partial_Overlap (TRUE)",
          "Bbox_Partial_Overlap (TRUE)",
          "Bbox_Partial_Overlap (TRUE)",
          "Bbox_Overlap (FALSE)",
          "Bbox_Partial_Overlap (TRUE)",
          "Bbox_Partial_Overlap (TRUE)",
          "Bbox_Partial_Overlap (TRUE)",
          "Bbox_Partial_Overlap (TRUE)",
          "Bbox_Partial_Overlap (TRUE)",
          "Bbox_Overlap (FALSE)",
          "Bbox_Overlap (FALSE)",
          "Bbox_Partial_Overlap (TRUE)",
          "Bbox_Overlap (FALSE)",
          "Bbox_Overlap (FALSE)",
          "Bbox_Partial_Overlap (TRUE)",
          "Bbox_Partial_Overlap (TRUE)"
         ],
         "x0": " ",
         "xaxis": "x",
         "y": [
          0.00026273100229445845,
          0.001107129006413743,
          0.0005082110001239926,
          0.000025640008971095085,
          0.001156007987447083,
          0.0011510859912959859,
          0.0016555199981667101,
          0.003363034993526526,
          0.00432589600677602,
          0.004710957000497729,
          0.005488620008691214,
          0.00036591799289453775,
          0.0003620229981606826,
          0.0016617600049357861,
          0.0016454069991596043,
          0.000545535993296653,
          0.0005259489989839494,
          0.0004112190072191879,
          0.00041211901407223195,
          0.0032874409953365102,
          0.0032819339976413175,
          0.0076352329924702644,
          0.006943863001652062,
          0.0003541410114848986,
          0.00036016100784763694,
          0.00026240499573759735,
          0.00040144399099517614,
          0.0002843789989128709,
          0.00019003199122380465,
          0.00019089100533165038,
          0.00018749899754766375,
          0.00019097700715065002,
          0.00019298998813610524,
          0.00019301001157145947,
          0.00019406000501476228,
          0.00019345599866937846,
          0.0002860169915948063,
          0.00019297099788673222,
          0.0002889729948947206,
          0.0001919310016091913,
          0.00021905200264882296,
          0.0002080730046145618,
          0.00022049600374884903,
          0.0002095480012940243,
          0.00021077999554108828,
          0.00020855499315075576,
          0.00021358499361667782,
          0.00021156399452593178,
          0.00020833501184824854,
          0.00021135700808372349,
          0.00021212099818512797,
          0.00022793799871578813,
          0.00021649300470016897,
          0.0004976019990863279,
          0.0002135239919880405,
          0.00021368099260143936,
          0.00021381200349424034,
          0.00021074801043141633,
          0.00021871300123166293,
          0.00021338100486900657,
          0.0002197920111939311,
          0.00023604500165674835,
          0.000544078997336328,
          0.00021408300381153822,
          0.00021795000066049397,
          0.00023740099277347326,
          0.00021041001309640706,
          0.0003224030078854412,
          0.0002596989943413064,
          0.00035095900238957256,
          0.00033927800541277975,
          0.00021740800002589822,
          0.0002607810019981116,
          0.00021573899721261114,
          0.00023054899065755308,
          0.0002456520014675334,
          0.0003167799877701327,
          0.00021897700207773596,
          0.0002386069972999394,
          0.0002539959968999028,
          0.00025321800785604864,
          0.00023054399935062975,
          0.00024708500131964684,
          0.0002603879984235391,
          0.0002168020000681281,
          0.00023993599461391568,
          0.00022372600506059825,
          0.00020501800463534892,
          0.0002878039958886802,
          0.00022660999093204737,
          0.00021552000544033945,
          0.00021594999998342246,
          0.00021160399774089456,
          0.00022025899670552462,
          0.0005872670008102432,
          0.00026224300381727517,
          0.00022576599440071732,
          0.0002583760069683194,
          0.0002610140072647482,
          0.0002934600051958114,
          0.00024083600146695971,
          0.00022538600023835897,
          0.0002119959972333163,
          0.00021137000294402242,
          0.000221538997720927,
          0.00020994499209336936,
          0.00022402600734494627,
          0.0002419299999019131,
          0.00021798200032208115,
          0.000205285003175959,
          0.0002045620058197528,
          0.00020882399985566735,
          0.00035701900196727365,
          0.0002893409982789308,
          0.0005844400002388284,
          0.0005995579995214939,
          0.0004411749978316948,
          0.00043074200220871717,
          0.0004359919985290617,
          0.0006194700108608231,
          0.0007259859994519502,
          0.0007200990075943992,
          0.00026635998801793903,
          0.001405773000442423,
          0.0012762510013999417,
          0.0012695350014837459,
          0.00030369100568350405,
          0.00028666399884968996,
          0.0004868239921052009,
          0.00042626399954315275,
          0.00030826599686406553,
          0.0006201590003911406,
          0.0005007750005461276,
          0.000633827003184706,
          0.0005373620078898966,
          0.0007226549932966009,
          0.000437620998127386,
          0.0007074910099618137,
          0.000774339001509361,
          0.0006486389902420342,
          0.00044734901166521013,
          0.0004148360021645203,
          0.0006149530090624467,
          0.00025490000552963465,
          0.00024766099522821605,
          0.00023344399232883006,
          0.00023625600442755967,
          0.00026171600620727986,
          0.00026032999448943883,
          0.0007901670032879338,
          0.0012266750127309933,
          0.00041039299685508013,
          0.0006358259997796267,
          0.0010618460073601454,
          0.0010478959884494543,
          0.0009108090016525239,
          0.0003110350080532953,
          0.0005000110104447231,
          0.0007046469982014969,
          0.0007224410073831677,
          0.0004708909982582554,
          0.0004973070026608184,
          0.0012452789960661903,
          0.0017468160076532513,
          0.0005140989960636944,
          0.00048483700084034353,
          0.0007524899992858991,
          0.0006456269911723211,
          0.000411729997722432,
          0.0003988270036643371,
          0.00044863899529445916,
          0.0006453810055973008,
          0.0006806639867136255,
          0.0004707549960585311,
          0.0005439309898065403,
          0.0007546999986516312,
          0.0006820350099587813,
          0.0007484330126317218,
          0.0004754149995278567,
          0.0005590189975919202,
          0.0002478379901731387,
          0.00024380799732171,
          0.00042220800241921097,
          0.0002588619972812012,
          0.0004299489955883473,
          0.0002945660089608282,
          0.0006106229993747547,
          0.0007041220087558031,
          0.0007155510102165863,
          0.0006298980006249622,
          0.0006265060073928908,
          0.0006024119938956574,
          0.00006046998896636069,
          0.0005096709937788546,
          0.0006559070025105029,
          0.00044455399620346725,
          0.0005548469925997779,
          0.0004056879988638684,
          0.00047700600407551974,
          0.0006993290007812902,
          0.0006084079941501841,
          0.0008151700021699071,
          0.0008010750025277957,
          0.0006840370042482391,
          0.00028292300703469664,
          0.00028798099083360285,
          0.0003678520006360486,
          0.00037238499498926103,
          0.0005431189929367974,
          0.0004966660053469241,
          0.00045037100790068507,
          0.000686906001647003,
          0.00044446400715969503,
          0.00044288499339018017,
          0.0005465370049932972,
          0.0005574699898716062,
          0.0008131530048558488,
          0.0008155670075211674,
          0.000910946007934399,
          0.00024226499954238534,
          0.0004881009954260662,
          0.0006047200004104525,
          0.00029661200824193656,
          0.00028690899489447474,
          0.0003515760035952553,
          0.0005083819996798411,
          0.00022270699264481664,
          0.0002220699971076101,
          0.00037981900095473975,
          0.0007849060057196766,
          0.0002738510083872825,
          0.000326816996675916,
          0.000683133999700658,
          0.0006716180068906397,
          0.00027330199372954667,
          0.0006088209920562804,
          0.0006021169974701479,
          0.0003167340037180111,
          0.000678031996358186,
          0.0004848849930567667,
          0.0006639410130446777,
          0.00048044299182947725,
          0.0006136659940239042,
          0.0005072019994258881,
          0.0004589259915519506,
          0.000277101993560791,
          0.00028533600561786443,
          0.00028294599906075746,
          0.0006420639983844012,
          0.00024305999977514148,
          0.001586456986842677,
          0.0016695040103513747,
          0.0016617689980193973,
          0.0021616970043396577,
          0.0021529739897232503,
          0.0007274389936355874,
          0.001299134994042106,
          0.0008097770041786134,
          0.000320107996230945,
          0.000057769997511059046,
          0.0008283579954877496,
          0.0017038740043062717,
          0.0005697770102415234,
          0.0011788870033342391,
          0.00048063100257422775,
          0.0005538740078918636,
          0.0006839709967607632,
          0.0008739999902900308,
          0.0008710349939065054,
          0.0006499230075860396,
          0.0006188150000525638,
          0.0006163360085338354,
          0.00041343401244375855,
          0.0004122399986954406,
          0.00020590699568856508,
          0.00020457500068005174,
          0.00042205599311273545,
          0.0004335429985076189,
          0.00021561900211963803,
          0.0005222970066824928,
          0.000443377997726202,
          0.00022100900241639465,
          0.00044001700007356703,
          0.0004511599981924519,
          0.0004660070117097348,
          0.0006240079965209588,
          0.0006285650015342981,
          0.0004301550070522353,
          0.0002103099977830425,
          0.0012700119987130165,
          0.000708313993527554,
          0.0009127140074269846,
          0.0009157650056295097,
          0.0005383779935073107,
          0.0005329339910531417,
          0.00044365800567902625,
          0.0004847920063184574,
          0.000471307008410804,
          0.00047335300769191235,
          0.0005657199944835156,
          0.0005768050032202154,
          0.0004059029888594523,
          0.0005103620060253888,
          0.0005318410112522542,
          0.0005235549906501547,
          0.001215422002132982,
          0.0006391819915734231,
          0.0006601630011573434,
          0.0015728650032542646,
          0.0007004609942669049,
          0.0006139559991424903,
          0.0006211529980646446,
          0.0007760320004308596,
          0.0007778690051054582,
          0.000700300995958969,
          0.0006419659912353382,
          0.000710300009814091,
          0.0007092940068105236,
          0.0006329970055958256,
          0.0006275630003074184,
          0.0006160699995234609,
          0.0006476979906437919,
          0.0008146930049406365,
          0.0008041710098041221,
          0.0006965520005906001,
          0.0009438510023755953,
          0.0006819340051151812,
          0.0004108669963898137,
          0.0009449030039831996,
          0.0003030869993381202,
          0.00041059400246012956,
          0.00043742399429902434,
          0.000359305995516479,
          0.00022196599456947297,
          0.00022773000819142908,
          0.00035956599458586425,
          0.00005447800504043698,
          0.00010899599874392152,
          0.0002849279990186915,
          0.0002889299939852208
         ],
         "y0": " ",
         "yaxis": "y"
        },
        {
         "alignmentgroup": "True",
         "hovertemplate": "baseline=False<br>sizes=Small_Medium_Mixed<br>context=%{x}<br>total_time=%{y}<extra></extra>",
         "legendgroup": "False",
         "marker": {
          "color": "#EF553B"
         },
         "name": "False",
         "notched": false,
         "offsetgroup": "False",
         "orientation": "v",
         "showlegend": false,
         "type": "box",
         "x": [
          "Bbox_Partial_Overlap (TRUE)",
          "Bbox_Partial_Overlap (TRUE)",
          "Bbox_Partial_Overlap (TRUE)",
          "Bbox_Partial_Overlap (TRUE)",
          "Bbox_Overlap (FALSE)",
          "Bbox_Overlap (FALSE)",
          "Bbox_Overlap (FALSE)",
          "Bbox_Overlap (FALSE)",
          "Bbox_Partial_Overlap (TRUE)",
          "Bbox_Overlap (FALSE)",
          "Bbox_Overlap (FALSE)",
          "Bbox_Overlap (FALSE)",
          "Bbox_Overlap (FALSE)",
          "Bbox_Overlap (FALSE)",
          "Bbox_Overlap (FALSE)",
          "Bbox_Overlap (FALSE)",
          "Bbox_Overlap (FALSE)",
          "Bbox_Partial_Overlap (TRUE)",
          "Bbox_Partial_Overlap (TRUE)",
          "Bbox_Partial_Overlap (TRUE)",
          "Bbox_Overlap (FALSE)",
          "Bbox_Inside_Other (TRUE)",
          "Bbox_Overlap (FALSE)",
          "Bbox_Partial_Overlap (TRUE)",
          "Bbox_Partial_Overlap (TRUE)",
          "Bbox_Inside_Other (TRUE)",
          "Bbox_Overlap (FALSE)",
          "Bbox_Partial_Overlap (TRUE)",
          "Bbox_Partial_Overlap (TRUE)",
          "Bbox_Partial_Overlap (TRUE)",
          "Bbox_Overlap (FALSE)",
          "Bbox_Partial_Overlap (TRUE)",
          "Bbox_Overlap (FALSE)",
          "Bbox_Partial_Overlap (TRUE)",
          "Bbox_Partial_Overlap (TRUE)",
          "Bbox_Partial_Overlap (TRUE)",
          "Bbox_Partial_Overlap (TRUE)",
          "Bbox_Partial_Overlap (TRUE)",
          "Bbox_Partial_Overlap (TRUE)",
          "Bbox_Partial_Overlap (TRUE)",
          "Bbox_Partial_Overlap (TRUE)",
          "Bbox_Partial_Overlap (TRUE)",
          "Bbox_Partial_Overlap (TRUE)",
          "Bbox_Partial_Overlap (TRUE)",
          "Bbox_Partial_Overlap (TRUE)",
          "Bbox_Partial_Overlap (TRUE)",
          "Bbox_Partial_Overlap (TRUE)",
          "Bbox_Partial_Overlap (TRUE)",
          "Bbox_Partial_Overlap (TRUE)",
          "Bbox_Partial_Overlap (TRUE)",
          "Bbox_Overlap (FALSE)",
          "Bbox_Overlap (FALSE)",
          "Bbox_Overlap (FALSE)",
          "Bbox_Overlap (FALSE)",
          "Bbox_Partial_Overlap (TRUE)",
          "Bbox_Partial_Overlap (TRUE)",
          "Bbox_Partial_Overlap (TRUE)",
          "Bbox_Partial_Overlap (TRUE)",
          "Bbox_Partial_Overlap (TRUE)",
          "Bbox_Partial_Overlap (TRUE)",
          "Bbox_Partial_Overlap (TRUE)",
          "Bbox_Partial_Overlap (TRUE)",
          "Bbox_Overlap (FALSE)",
          "Bbox_Partial_Overlap (TRUE)",
          "Bbox_Partial_Overlap (TRUE)",
          "Bbox_Partial_Overlap (TRUE)",
          "Bbox_Partial_Overlap (TRUE)",
          "Bbox_Partial_Overlap (TRUE)",
          "Bbox_Partial_Overlap (TRUE)",
          "Bbox_Overlap (FALSE)",
          "Bbox_Partial_Overlap (TRUE)",
          "Bbox_Partial_Overlap (TRUE)",
          "Bbox_Partial_Overlap (TRUE)",
          "Bbox_Partial_Overlap (TRUE)",
          "Bbox_Partial_Overlap (TRUE)",
          "Bbox_Overlap (FALSE)",
          "Bbox_Overlap (FALSE)",
          "Bbox_Overlap (FALSE)",
          "Bbox_Partial_Overlap (TRUE)",
          "Bbox_Overlap (FALSE)",
          "Bbox_Overlap (FALSE)",
          "Bbox_Overlap (FALSE)",
          "Bbox_Overlap (FALSE)",
          "Bbox_Overlap (FALSE)",
          "Bbox_Overlap (FALSE)",
          "Bbox_Overlap (FALSE)",
          "Bbox_Partial_Overlap (TRUE)",
          "Bbox_Partial_Overlap (TRUE)",
          "Bbox_Overlap (FALSE)",
          "Bbox_Partial_Overlap (TRUE)",
          "Bbox_Partial_Overlap (TRUE)",
          "Bbox_Partial_Overlap (TRUE)",
          "Bbox_Partial_Overlap (TRUE)",
          "Bbox_Partial_Overlap (TRUE)",
          "Bbox_Partial_Overlap (TRUE)",
          "Bbox_Partial_Overlap (TRUE)",
          "Bbox_Partial_Overlap (TRUE)",
          "Bbox_Overlap (FALSE)",
          "Bbox_Overlap (FALSE)",
          "Bbox_Overlap (FALSE)",
          "Bbox_Overlap (FALSE)",
          "Bbox_Partial_Overlap (TRUE)",
          "Bbox_Overlap (FALSE)",
          "Bbox_Overlap (FALSE)",
          "Bbox_Overlap (FALSE)",
          "Bbox_Overlap (FALSE)",
          "Bbox_Overlap (FALSE)",
          "Bbox_Overlap (FALSE)",
          "Bbox_Overlap (FALSE)",
          "Bbox_Partial_Overlap (TRUE)",
          "Bbox_Partial_Overlap (TRUE)",
          "Bbox_Overlap (FALSE)",
          "Bbox_Partial_Overlap (TRUE)"
         ],
         "x0": " ",
         "xaxis": "x2",
         "y": [
          0.0012046449992340058,
          0.001213947994983755,
          0.0004319950094213709,
          0.0010480789933353662,
          0.0002465690049575642,
          0.0004965019907103851,
          0.00041318500007037073,
          0.0005266149964882061,
          0.0006320349930319935,
          0.00027004101139027625,
          0.00011551700299605727,
          0.00011841898958664387,
          0.00011547398753464222,
          0.0004713870002888143,
          0.00044210000487510115,
          0.00033901700226124376,
          0.00011725399235729128,
          0.0006344019930111244,
          0.0005871260073035955,
          0.0005896060029044747,
          0.0006085910135880113,
          0.0005810730071971193,
          0.0002439459931338206,
          0.000542792011401616,
          0.0009776430088095367,
          0.0005811129958601668,
          0.0003707290015881881,
          0.0007305850012926385,
          0.0006405730091501027,
          0.0008484020072501153,
          0.00007187400478869677,
          0.0007070219871820882,
          0.000521654001204297,
          0.0007134199986467138,
          0.0006904870097059757,
          0.000517325010150671,
          0.0007015630108071491,
          0.0007177899969974533,
          0.0005411879974417388,
          0.0005354900058591738,
          0.0006857230036985129,
          0.0010286949982400984,
          0.0020303429919295013,
          0.0014304560027085245,
          0.0010130439914064482,
          0.002798695000819862,
          0.0008561239956179634,
          0.0012109180097468197,
          0.0011253249977016822,
          0.001119676002417691,
          0.00012608300312422216,
          0.00029874799656681716,
          0.00045853800838813186,
          0.0003742279950529337,
          0.0008758640033192933,
          0.0007076059991959482,
          0.00072170898783952,
          0.0006272890022955835,
          0.0006276909989537671,
          0.0007156649953685701,
          0.0008875929925125092,
          0.0007192040066001937,
          0.0007259060075739399,
          0.0008606709889136255,
          0.0006408940098481253,
          0.0006120539910625666,
          0.0006153750000521541,
          0.0007633759960299358,
          0.0004919570055790246,
          0.0005144599999766797,
          0.0006660229992121458,
          0.0006655640027020127,
          0.0006706019921693951,
          0.0005267399974400178,
          0.0007421799964504316,
          0.00006900400330778211,
          0.00025986800028476864,
          0.00006132099952083081,
          0.0007047980034258217,
          0.00026266400527674705,
          0.00006580000626854599,
          0.0002638440055307001,
          0.00026180299755651504,
          0.00037649000296369195,
          0.0003654609899967909,
          0.0002581309963716194,
          0.0004871800047112629,
          0.0014244729973142967,
          0.0002726290113059804,
          0.000862618995597586,
          0.0005467349983518943,
          0.0005985799944028258,
          0.0005912220076425001,
          0.0007198929961305112,
          0.0015084030019352213,
          0.0007039799966150895,
          0.002056350000202656,
          0.00035391299752518535,
          0.00035541600664146245,
          0.0003855019895127043,
          0.00025603899848647416,
          0.0007132829923648387,
          0.0003521920007187873,
          0.0007256700046127662,
          0.0002248459932161495,
          0.0002262740017613396,
          0.000059469995903782547,
          0.00008764200902078301,
          0.0000611750001553446,
          0.0004130140005145222,
          0.0004016900056740269,
          0.00006114399002399296,
          0.0003918739967048168
         ],
         "y0": " ",
         "yaxis": "y2"
        },
        {
         "alignmentgroup": "True",
         "hovertemplate": "baseline=False<br>sizes=Large<br>context=%{x}<br>total_time=%{y}<extra></extra>",
         "legendgroup": "False",
         "marker": {
          "color": "#EF553B"
         },
         "name": "False",
         "notched": false,
         "offsetgroup": "False",
         "orientation": "v",
         "showlegend": false,
         "type": "box",
         "x": [
          "Bbox_Partial_Overlap (TRUE)",
          "Bbox_Partial_Overlap (TRUE)",
          "Bbox_Partial_Overlap (TRUE)",
          "Bbox_Partial_Overlap (TRUE)",
          "Bbox_Partial_Overlap (TRUE)",
          "Bbox_Partial_Overlap (TRUE)",
          "Bbox_Partial_Overlap (TRUE)",
          "Bbox_Overlap (FALSE)",
          "Bbox_Overlap (FALSE)",
          "Bbox_Overlap (FALSE)",
          "Bbox_Partial_Overlap (TRUE)",
          "Bbox_Overlap (FALSE)",
          "Bbox_Partial_Overlap (TRUE)",
          "Bbox_Partial_Overlap (TRUE)",
          "Bbox_Partial_Overlap (TRUE)",
          "Bbox_Overlap (FALSE)",
          "Bbox_Partial_Overlap (TRUE)",
          "Bbox_Partial_Overlap (TRUE)",
          "Bbox_Partial_Overlap (TRUE)",
          "Bbox_Overlap (FALSE)",
          "Bbox_Partial_Overlap (TRUE)",
          "Bbox_Partial_Overlap (TRUE)",
          "Bbox_Overlap (FALSE)",
          "Bbox_Partial_Overlap (TRUE)",
          "Bbox_Overlap (FALSE)",
          "Bbox_Overlap (FALSE)",
          "Bbox_Partial_Overlap (TRUE)",
          "Bbox_Partial_Overlap (TRUE)",
          "Bbox_Partial_Overlap (TRUE)",
          "Bbox_Partial_Overlap (TRUE)",
          "Bbox_Overlap (FALSE)",
          "Bbox_Overlap (FALSE)",
          "Bbox_Partial_Overlap (TRUE)",
          "Bbox_Overlap (FALSE)",
          "Bbox_Partial_Overlap (TRUE)",
          "Bbox_Partial_Overlap (TRUE)",
          "Bbox_Partial_Overlap (TRUE)",
          "Bbox_Overlap (FALSE)",
          "Bbox_Partial_Overlap (TRUE)",
          "Bbox_Partial_Overlap (TRUE)",
          "Bbox_Overlap (FALSE)",
          "Bbox_Overlap (FALSE)",
          "Bbox_Partial_Overlap (TRUE)",
          "Bbox_Partial_Overlap (TRUE)",
          "Bbox_Partial_Overlap (TRUE)",
          "Bbox_Overlap (FALSE)",
          "Bbox_Partial_Overlap (TRUE)",
          "Bbox_Partial_Overlap (TRUE)",
          "Bbox_Partial_Overlap (TRUE)",
          "Bbox_Overlap (FALSE)",
          "Bbox_Partial_Overlap (TRUE)",
          "Bbox_Partial_Overlap (TRUE)",
          "Bbox_Partial_Overlap (TRUE)",
          "Bbox_Partial_Overlap (TRUE)",
          "Bbox_Overlap (FALSE)",
          "Bbox_Partial_Overlap (TRUE)",
          "Bbox_Overlap (FALSE)",
          "Bbox_Partial_Overlap (TRUE)",
          "Bbox_Partial_Overlap (TRUE)",
          "Bbox_Partial_Overlap (TRUE)",
          "Bbox_Partial_Overlap (TRUE)",
          "Bbox_Partial_Overlap (TRUE)",
          "Bbox_Partial_Overlap (TRUE)",
          "Bbox_Partial_Overlap (TRUE)",
          "Bbox_Overlap (FALSE)",
          "Bbox_Overlap (FALSE)",
          "Bbox_Overlap (FALSE)",
          "Bbox_Partial_Overlap (TRUE)",
          "Bbox_Partial_Overlap (TRUE)",
          "Bbox_Partial_Overlap (TRUE)",
          "Bbox_Partial_Overlap (TRUE)",
          "Bbox_Partial_Overlap (TRUE)",
          "Bbox_Partial_Overlap (TRUE)",
          "Bbox_Overlap (FALSE)",
          "Bbox_Partial_Overlap (TRUE)",
          "Bbox_Partial_Overlap (TRUE)",
          "Bbox_Partial_Overlap (TRUE)",
          "Bbox_Partial_Overlap (TRUE)",
          "Bbox_Partial_Overlap (TRUE)",
          "Bbox_Partial_Overlap (TRUE)",
          "Bbox_Partial_Overlap (TRUE)",
          "Bbox_Partial_Overlap (TRUE)",
          "Bbox_Partial_Overlap (TRUE)",
          "Bbox_Partial_Overlap (TRUE)",
          "Bbox_Partial_Overlap (TRUE)",
          "Bbox_Overlap (FALSE)",
          "Bbox_Overlap (FALSE)",
          "Bbox_Partial_Overlap (TRUE)",
          "Bbox_Partial_Overlap (TRUE)",
          "Bbox_Partial_Overlap (TRUE)",
          "Bbox_Partial_Overlap (TRUE)",
          "Bbox_Partial_Overlap (TRUE)",
          "Bbox_Partial_Overlap (TRUE)",
          "Bbox_Partial_Overlap (TRUE)",
          "Bbox_Partial_Overlap (TRUE)",
          "Bbox_Overlap (FALSE)",
          "Bbox_Overlap (FALSE)",
          "Bbox_Overlap (FALSE)",
          "Bbox_Overlap (FALSE)",
          "Bbox_Overlap (FALSE)",
          "Bbox_Overlap (FALSE)",
          "Bbox_Overlap (FALSE)",
          "Bbox_Overlap (FALSE)",
          "Bbox_Overlap (FALSE)",
          "Bbox_Overlap (FALSE)",
          "Bbox_Overlap (FALSE)",
          "Bbox_Overlap (FALSE)",
          "Bbox_Overlap (FALSE)",
          "Bbox_Overlap (FALSE)",
          "Bbox_Overlap (FALSE)",
          "Bbox_Overlap (FALSE)",
          "Bbox_Overlap (FALSE)",
          "Bbox_Overlap (FALSE)",
          "Bbox_Overlap (FALSE)",
          "Bbox_Overlap (FALSE)",
          "Bbox_Overlap (FALSE)",
          "Bbox_Overlap (FALSE)",
          "Bbox_Overlap (FALSE)",
          "Bbox_Overlap (FALSE)",
          "Bbox_Overlap (FALSE)",
          "Bbox_Overlap (FALSE)",
          "Bbox_Overlap (FALSE)",
          "Bbox_Overlap (FALSE)",
          "Bbox_Overlap (FALSE)",
          "Bbox_Overlap (FALSE)",
          "Bbox_Overlap (FALSE)",
          "Bbox_Overlap (FALSE)",
          "Bbox_Overlap (FALSE)",
          "Bbox_Overlap (FALSE)",
          "Bbox_Overlap (FALSE)",
          "Bbox_Overlap (FALSE)",
          "Bbox_Overlap (FALSE)",
          "Bbox_Overlap (FALSE)",
          "Bbox_Overlap (FALSE)",
          "Bbox_Overlap (FALSE)",
          "Bbox_Overlap (FALSE)",
          "Bbox_Overlap (FALSE)",
          "Bbox_Overlap (FALSE)",
          "Bbox_Overlap (FALSE)",
          "Bbox_Overlap (FALSE)",
          "Bbox_Overlap (FALSE)",
          "Bbox_Overlap (FALSE)",
          "Bbox_Overlap (FALSE)",
          "Bbox_Overlap (FALSE)",
          "Bbox_Overlap (FALSE)",
          "Bbox_Overlap (FALSE)",
          "Bbox_Overlap (FALSE)",
          "Bbox_Overlap (FALSE)",
          "Bbox_Overlap (FALSE)",
          "Bbox_Overlap (FALSE)",
          "Bbox_Overlap (FALSE)",
          "Bbox_Overlap (FALSE)",
          "Bbox_Overlap (FALSE)",
          "Bbox_Overlap (FALSE)",
          "Bbox_Overlap (FALSE)",
          "Bbox_Overlap (FALSE)",
          "Bbox_Overlap (FALSE)",
          "Bbox_Overlap (FALSE)",
          "Bbox_Overlap (FALSE)",
          "Bbox_Overlap (FALSE)",
          "Bbox_Overlap (FALSE)",
          "Bbox_Overlap (FALSE)",
          "Bbox_Overlap (FALSE)",
          "Bbox_Overlap (FALSE)",
          "Bbox_Overlap (FALSE)",
          "Bbox_Overlap (FALSE)",
          "Bbox_Overlap (FALSE)",
          "Bbox_Overlap (FALSE)",
          "Bbox_Overlap (FALSE)",
          "Bbox_Overlap (FALSE)",
          "Bbox_Overlap (FALSE)",
          "Bbox_Overlap (FALSE)",
          "Bbox_Overlap (FALSE)",
          "Bbox_Overlap (FALSE)",
          "Bbox_Overlap (FALSE)",
          "Bbox_Overlap (FALSE)",
          "Bbox_Overlap (FALSE)",
          "Bbox_Overlap (FALSE)",
          "Bbox_Overlap (FALSE)",
          "Bbox_Overlap (FALSE)",
          "Bbox_Overlap (FALSE)",
          "Bbox_Overlap (FALSE)",
          "Bbox_Overlap (FALSE)",
          "Bbox_Overlap (FALSE)",
          "Bbox_Overlap (FALSE)",
          "Bbox_Partial_Overlap (TRUE)",
          "Bbox_Overlap (FALSE)",
          "Bbox_Partial_Overlap (TRUE)",
          "Bbox_Partial_Overlap (TRUE)",
          "Bbox_Overlap (FALSE)",
          "Bbox_Overlap (FALSE)",
          "Bbox_Overlap (FALSE)",
          "Bbox_Overlap (FALSE)",
          "Bbox_Overlap (FALSE)",
          "Bbox_Partial_Overlap (TRUE)",
          "Bbox_Overlap (FALSE)",
          "Bbox_Overlap (FALSE)",
          "Bbox_Overlap (FALSE)",
          "Bbox_Partial_Overlap (TRUE)",
          "Bbox_Partial_Overlap (TRUE)",
          "Bbox_Overlap (FALSE)",
          "Bbox_Partial_Overlap (TRUE)",
          "Bbox_Partial_Overlap (TRUE)",
          "Bbox_Partial_Overlap (TRUE)",
          "Bbox_Partial_Overlap (TRUE)",
          "Bbox_Partial_Overlap (TRUE)",
          "Bbox_Overlap (FALSE)",
          "Bbox_Partial_Overlap (TRUE)",
          "Bbox_Overlap (FALSE)",
          "Bbox_Overlap (FALSE)",
          "Bbox_Overlap (FALSE)",
          "Bbox_Overlap (FALSE)",
          "Bbox_Overlap (FALSE)",
          "Bbox_Partial_Overlap (TRUE)",
          "Bbox_Overlap (FALSE)",
          "Bbox_Overlap (FALSE)",
          "Bbox_Overlap (FALSE)",
          "Bbox_Overlap (FALSE)",
          "Bbox_Overlap (FALSE)",
          "Bbox_Overlap (FALSE)",
          "Bbox_Overlap (FALSE)",
          "Bbox_Overlap (FALSE)",
          "Bbox_Overlap (FALSE)",
          "Bbox_Overlap (FALSE)",
          "Bbox_Overlap (FALSE)",
          "Bbox_Overlap (FALSE)",
          "Bbox_Overlap (FALSE)",
          "Bbox_Overlap (FALSE)",
          "Bbox_Overlap (FALSE)",
          "Bbox_Overlap (FALSE)",
          "Bbox_Partial_Overlap (TRUE)",
          "Bbox_Overlap (FALSE)",
          "Bbox_Partial_Overlap (TRUE)",
          "Bbox_Partial_Overlap (TRUE)",
          "Bbox_Overlap (FALSE)"
         ],
         "x0": " ",
         "xaxis": "x3",
         "y": [
          0.010258459005854093,
          0.009950514999218285,
          0.003486203000647947,
          0.0018234509916510433,
          0.005103282004711218,
          0.003353221996803768,
          0.005438093998236582,
          0.00012870000500697643,
          0.0004886490060016513,
          0.0008477950032101944,
          0.010682223000912927,
          0.00028694300272036344,
          0.0073715100006666034,
          0.009299716999521479,
          0.003931607003323734,
          0.00011915400682482868,
          0.010535335008171387,
          0.013714939006604254,
          0.005462986009661108,
          0.0003230739966966212,
          0.023400120000587776,
          0.005629491002764553,
          0.000689542997861281,
          0.004929568007355556,
          0.000305385998217389,
          0.0003281960089225322,
          0.0028492709971033037,
          0.0033288620033999905,
          0.0025820599985308945,
          0.0029621220019180328,
          0.0000994809961412102,
          0.00023097300436347723,
          0.006526762997964397,
          0.00021581498731393367,
          0.002224766998551786,
          0.0033491909998701885,
          0.003708131000166759,
          0.000267256997176446,
          0.01165583700640127,
          0.015347521999501623,
          0.000223166003706865,
          0.00021860800916329026,
          0.007032975001493469,
          0.002873324992833659,
          0.006868116004625335,
          0.0002367450069868937,
          0.0016433080018032342,
          0.005065896999440156,
          0.0036915870005032048,
          0.0001829289976740256,
          0.00468849299068097,
          0.0010206029983237386,
          0.006189223000546917,
          0.003280738994362764,
          0.0002247809898108244,
          0.017821482004364952,
          0.0002269449905725196,
          0.005123313996591605,
          0.006889796000905335,
          0.002255947998492047,
          0.001087151002138853,
          0.005181867003557272,
          0.003983355010859668,
          0.006189861000166275,
          0.0001315039990004152,
          0.0001651030033826828,
          0.0001514289906481281,
          0.029103513996233232,
          0.010823542004800402,
          0.0026329350075684488,
          0.0014861850067973137,
          0.0016477979952469468,
          0.00849991299037356,
          0.0002480939874658361,
          0.0066967120073968545,
          0.0030164299969328567,
          0.0010377640137448907,
          0.0057583529996918514,
          0.004107237997232005,
          0.003263785009039566,
          0.006617759994696826,
          0.002123730009770952,
          0.0036981310113333166,
          0.008996062009828165,
          0.004349836992332712,
          0.0005014130001654848,
          0.00027995900018140674,
          0.009950930005288683,
          0.0028624170081457123,
          0.02931944199372083,
          0.014325149008072913,
          0.014803735990426503,
          0.015678113006288186,
          0.009341028999187984,
          0.007556934011518024,
          0.00015381099365185946,
          0.00033929001074284315,
          0.0001275870017707348,
          0.0007090290018822998,
          0.00035419900086708367,
          0.00010567500430624932,
          0.000626220993581228,
          0.00014578699483536184,
          0.0008997310069389641,
          0.0001795839925762266,
          0.00018704299873206764,
          0.0001681180001469329,
          0.00016804400365799665,
          0.000861963999341242,
          0.001356916007352993,
          0.0009885829931590706,
          0.00043323999852873385,
          0.0007134540064726025,
          0.0003899889998137951,
          0.0029121120023773983,
          0.001458099010051228,
          0.0033346190029988065,
          0.0014051850012037903,
          0.0010388709924882278,
          0.0007267689943546429,
          0.00009214101010002196,
          0.00008840899681672454,
          0.00013692100765183568,
          0.00014031300088390708,
          0.0001363580086035654,
          0.00008844200056046247,
          0.00026768499810714275,
          0.0002617349964566529,
          0.0003033539978787303,
          0.000275401005637832,
          0.00017769601254258305,
          0.0005792500014649704,
          0.0004680069978348911,
          0.00015294899640139192,
          0.00016963800590019673,
          0.0004424219951033592,
          0.005191684002056718,
          0.0003118559980066493,
          0.00018874699890147895,
          0.0008286660013254732,
          0.00016311999934259802,
          0.00015431400970555842,
          0.0006154389993753284,
          0.0006131020054453984,
          0.00029755200375802815,
          0.0001535119954496622,
          0.0006475400005001575,
          0.00021106500935275108,
          0.0002866229915525764,
          0.0003911079984391108,
          0.00021640100749209523,
          0.0002600599982542917,
          0.0001919920032378286,
          0.0003137099993182346,
          0.0005008559965062886,
          0.0009968710073735565,
          0.00027270700957160443,
          0.00034465100907254964,
          0.0007020569901214913,
          0.0006992599955992773,
          0.0013673999928869307,
          0.00029719399753957987,
          0.00017772000865079463,
          0.00017578000552020967,
          0.0007672470092074946,
          0.0016187370056286454,
          0.00017589300114195794,
          0.00038957499782554805,
          0.00026963000709656626,
          0.0003397190012037754,
          0.00026643699675332755,
          0.00033210999390576035,
          0.00025836100394371897,
          0.00034890600363723934,
          0.0003311909968033433,
          0.00023266799689736217,
          0.00039945000025909394,
          0.0003607319958973676,
          0.002198592002969235,
          0.0002753019944066182,
          0.0006508679944090545,
          0.0006542440096382052,
          0.00018381999689154327,
          0.0008027989970287308,
          0.0009915739938151091,
          0.0006993159913690761,
          0.0005437930085463449,
          0.0012189209955977276,
          0.000816245999885723,
          0.00008347300172317773,
          0.0007729409990133718,
          0.00024588798987679183,
          0.00043427900527603924,
          0.0005284159997245297,
          0.00781690000439994,
          0.00012800900731235743,
          0.00024303099780809134,
          0.00012384000001475215,
          0.002331857001991011,
          0.001199673002702184,
          0.00008545900345779955,
          0.0008404840045841411,
          0.0010515580070205033,
          0.0010504189995117486,
          0.0015512130048591644,
          0.0015268529969034716,
          0.0007595250062877312,
          0.0009029770008055493,
          0.00008696700388099998,
          0.0005263319908408448,
          0.0008454509952571243,
          0.000779162990511395,
          0.0008346430113306269,
          0.0023644720058655366,
          0.0001589820021763444,
          0.00009960900933947414,
          0.00009749899618327618,
          0.00012403700384311378,
          0.00009802299609873444,
          0.00046474600094370544,
          0.00045706100354436785,
          0.0001192230120068416,
          0.00037611500010825694,
          0.0000771790073486045,
          0.0009908920037560165,
          0.0009945990022970363,
          0.00011434398766141385,
          0.00037566501123365015,
          0.0001489449932705611,
          0.00019374600378796458,
          0.0008593639940954745,
          0.000534637991222553,
          0.000861179010826163,
          0.00767375499708578,
          0.00027013200451619923
         ],
         "y0": " ",
         "yaxis": "y3"
        },
        {
         "alignmentgroup": "True",
         "hovertemplate": "baseline=False<br>sizes=Small_Large_Mixed<br>context=%{x}<br>total_time=%{y}<extra></extra>",
         "legendgroup": "False",
         "marker": {
          "color": "#EF553B"
         },
         "name": "False",
         "notched": false,
         "offsetgroup": "False",
         "orientation": "v",
         "showlegend": false,
         "type": "box",
         "x": [
          "Bbox_Inside_Other (TRUE)",
          "Bbox_Inside_Other (TRUE)",
          "Bbox_Partial_Overlap (TRUE)",
          "Bbox_Partial_Overlap (TRUE)",
          "Bbox_Partial_Overlap (TRUE)",
          "Bbox_Partial_Overlap (TRUE)",
          "Bbox_Overlap (FALSE)",
          "Bbox_Partial_Overlap (TRUE)",
          "Bbox_Overlap (FALSE)",
          "Bbox_Overlap (FALSE)",
          "Bbox_Overlap (FALSE)",
          "Bbox_Overlap (FALSE)",
          "Bbox_Overlap (FALSE)",
          "Bbox_Overlap (FALSE)",
          "Bbox_Overlap (FALSE)",
          "Bbox_Partial_Overlap (TRUE)",
          "Bbox_Overlap (FALSE)",
          "Bbox_Overlap (FALSE)",
          "Bbox_Overlap (FALSE)",
          "Bbox_Partial_Overlap (TRUE)",
          "Bbox_Overlap (FALSE)",
          "Bbox_Overlap (FALSE)",
          "Bbox_Partial_Overlap (TRUE)",
          "Bbox_Partial_Overlap (TRUE)",
          "Bbox_Overlap (FALSE)",
          "Bbox_Partial_Overlap (TRUE)",
          "Bbox_Overlap (FALSE)",
          "Bbox_Partial_Overlap (TRUE)",
          "Bbox_Overlap (FALSE)",
          "Bbox_Overlap (FALSE)",
          "Bbox_Overlap (FALSE)",
          "Bbox_Overlap (FALSE)",
          "Bbox_Partial_Overlap (TRUE)",
          "Bbox_Partial_Overlap (TRUE)",
          "Bbox_Overlap (FALSE)",
          "Bbox_Overlap (FALSE)",
          "Bbox_Overlap (FALSE)",
          "Bbox_Overlap (FALSE)",
          "Bbox_Overlap (FALSE)",
          "Bbox_Overlap (FALSE)",
          "Bbox_Overlap (FALSE)",
          "Bbox_Overlap (FALSE)",
          "Bbox_Overlap (FALSE)",
          "Bbox_Overlap (FALSE)",
          "Bbox_Overlap (FALSE)",
          "Bbox_Overlap (FALSE)",
          "Bbox_Overlap (FALSE)",
          "Bbox_Overlap (FALSE)",
          "Bbox_Overlap (FALSE)",
          "Bbox_Overlap (FALSE)",
          "Bbox_Overlap (FALSE)",
          "Bbox_Overlap (FALSE)",
          "Bbox_Overlap (FALSE)",
          "Bbox_Overlap (FALSE)",
          "Bbox_Overlap (FALSE)",
          "Bbox_Overlap (FALSE)",
          "Bbox_Overlap (FALSE)",
          "Bbox_Overlap (FALSE)",
          "Bbox_Overlap (FALSE)",
          "Bbox_Overlap (FALSE)",
          "Bbox_Overlap (FALSE)",
          "Bbox_Overlap (FALSE)",
          "Bbox_Partial_Overlap (TRUE)",
          "Bbox_Partial_Overlap (TRUE)",
          "Bbox_Partial_Overlap (TRUE)",
          "Bbox_Overlap (FALSE)",
          "Bbox_Partial_Overlap (TRUE)",
          "Bbox_Overlap (FALSE)",
          "Bbox_Partial_Overlap (TRUE)",
          "Bbox_Partial_Overlap (TRUE)",
          "Bbox_Partial_Overlap (TRUE)",
          "Bbox_Partial_Overlap (TRUE)",
          "Bbox_Overlap (FALSE)",
          "Bbox_Overlap (FALSE)",
          "Bbox_Overlap (FALSE)",
          "Bbox_Overlap (FALSE)",
          "Bbox_Overlap (FALSE)",
          "Bbox_Overlap (FALSE)",
          "Bbox_Partial_Overlap (TRUE)",
          "Bbox_Overlap (FALSE)",
          "Bbox_Overlap (FALSE)",
          "Bbox_Overlap (FALSE)",
          "Bbox_Overlap (FALSE)",
          "Bbox_Partial_Overlap (TRUE)",
          "Bbox_Partial_Overlap (TRUE)",
          "Bbox_Partial_Overlap (TRUE)",
          "Bbox_Partial_Overlap (TRUE)",
          "Bbox_Partial_Overlap (TRUE)",
          "Bbox_Partial_Overlap (TRUE)",
          "Bbox_Overlap (FALSE)",
          "Bbox_Overlap (FALSE)",
          "Bbox_Overlap (FALSE)",
          "Bbox_Partial_Overlap (TRUE)",
          "Bbox_Partial_Overlap (TRUE)",
          "Bbox_Overlap (FALSE)",
          "Bbox_Partial_Overlap (TRUE)",
          "Bbox_Partial_Overlap (TRUE)",
          "Bbox_Overlap (FALSE)",
          "Bbox_Overlap (FALSE)",
          "Bbox_Partial_Overlap (TRUE)",
          "Bbox_Partial_Overlap (TRUE)",
          "Bbox_Overlap (FALSE)",
          "Bbox_Overlap (FALSE)",
          "Bbox_Partial_Overlap (TRUE)",
          "Bbox_Overlap (FALSE)",
          "Bbox_Overlap (FALSE)",
          "Bbox_Overlap (FALSE)",
          "Bbox_Overlap (FALSE)",
          "Bbox_Overlap (FALSE)",
          "Bbox_Partial_Overlap (TRUE)",
          "Bbox_Partial_Overlap (TRUE)",
          "Bbox_Partial_Overlap (TRUE)",
          "Bbox_Partial_Overlap (TRUE)",
          "Bbox_Overlap (FALSE)",
          "Bbox_Overlap (FALSE)",
          "Bbox_Partial_Overlap (TRUE)",
          "Bbox_Overlap (FALSE)",
          "Bbox_Partial_Overlap (TRUE)",
          "Bbox_Overlap (FALSE)",
          "Bbox_Overlap (FALSE)",
          "Bbox_Overlap (FALSE)",
          "Bbox_Overlap (FALSE)",
          "Bbox_Overlap (FALSE)",
          "Bbox_Overlap (FALSE)",
          "Bbox_Overlap (FALSE)",
          "Bbox_Overlap (FALSE)",
          "Bbox_Overlap (FALSE)",
          "Bbox_Partial_Overlap (TRUE)",
          "Bbox_Overlap (FALSE)",
          "Bbox_Overlap (FALSE)",
          "Bbox_Overlap (FALSE)",
          "Bbox_Overlap (FALSE)",
          "Bbox_Partial_Overlap (TRUE)",
          "Bbox_Overlap (FALSE)",
          "Bbox_Overlap (FALSE)",
          "Bbox_Overlap (FALSE)",
          "Bbox_Overlap (FALSE)",
          "Bbox_Overlap (FALSE)",
          "Bbox_Overlap (FALSE)",
          "Bbox_Overlap (FALSE)",
          "Bbox_Overlap (FALSE)",
          "Bbox_Overlap (FALSE)",
          "Bbox_Overlap (FALSE)",
          "Bbox_Overlap (FALSE)",
          "Bbox_Overlap (FALSE)",
          "Bbox_Overlap (FALSE)",
          "Bbox_Overlap (FALSE)",
          "Bbox_Overlap (FALSE)",
          "Bbox_Overlap (FALSE)",
          "Bbox_Overlap (FALSE)",
          "Bbox_Overlap (FALSE)",
          "Bbox_Partial_Overlap (TRUE)",
          "Bbox_Overlap (FALSE)",
          "Bbox_Overlap (FALSE)",
          "Bbox_Overlap (FALSE)",
          "Bbox_Overlap (FALSE)",
          "Bbox_Overlap (FALSE)",
          "Bbox_Overlap (FALSE)",
          "Bbox_Overlap (FALSE)",
          "Bbox_Overlap (FALSE)",
          "Bbox_Overlap (FALSE)",
          "Bbox_Overlap (FALSE)",
          "Bbox_Overlap (FALSE)",
          "Bbox_Partial_Overlap (TRUE)",
          "Bbox_Overlap (FALSE)",
          "Bbox_Overlap (FALSE)",
          "Bbox_Overlap (FALSE)",
          "Bbox_Partial_Overlap (TRUE)",
          "Bbox_Overlap (FALSE)",
          "Bbox_Overlap (FALSE)",
          "Bbox_Partial_Overlap (TRUE)",
          "Bbox_Overlap (FALSE)",
          "Bbox_Partial_Overlap (TRUE)",
          "Bbox_Overlap (FALSE)",
          "Bbox_Overlap (FALSE)",
          "Bbox_Overlap (FALSE)",
          "Bbox_Overlap (FALSE)",
          "Bbox_Overlap (FALSE)",
          "Bbox_Overlap (FALSE)",
          "Bbox_Overlap (FALSE)",
          "Bbox_Overlap (FALSE)",
          "Bbox_Overlap (FALSE)",
          "Bbox_Overlap (FALSE)",
          "Bbox_Overlap (FALSE)",
          "Bbox_Partial_Overlap (TRUE)",
          "Bbox_Overlap (FALSE)",
          "Bbox_Overlap (FALSE)",
          "Bbox_Partial_Overlap (TRUE)",
          "Bbox_Overlap (FALSE)",
          "Bbox_Overlap (FALSE)",
          "Bbox_Overlap (FALSE)",
          "Bbox_Overlap (FALSE)",
          "Bbox_Overlap (FALSE)",
          "Bbox_Partial_Overlap (TRUE)",
          "Bbox_Overlap (FALSE)",
          "Bbox_Overlap (FALSE)",
          "Bbox_Overlap (FALSE)",
          "Bbox_Overlap (FALSE)",
          "Bbox_Overlap (FALSE)",
          "Bbox_Overlap (FALSE)",
          "Bbox_Overlap (FALSE)",
          "Bbox_Overlap (FALSE)",
          "Bbox_Overlap (FALSE)",
          "Bbox_Overlap (FALSE)",
          "Bbox_Overlap (FALSE)",
          "Bbox_Overlap (FALSE)",
          "Bbox_Overlap (FALSE)",
          "Bbox_Overlap (FALSE)",
          "Bbox_Overlap (FALSE)",
          "Bbox_Overlap (FALSE)",
          "Bbox_Overlap (FALSE)",
          "Bbox_Overlap (FALSE)",
          "Bbox_Overlap (FALSE)",
          "Bbox_Overlap (FALSE)",
          "Bbox_Overlap (FALSE)",
          "Bbox_Overlap (FALSE)",
          "Bbox_Overlap (FALSE)",
          "Bbox_Overlap (FALSE)",
          "Bbox_Overlap (FALSE)",
          "Bbox_Overlap (FALSE)",
          "Bbox_Overlap (FALSE)",
          "Bbox_Overlap (FALSE)",
          "Bbox_Overlap (FALSE)",
          "Bbox_Overlap (FALSE)",
          "Bbox_Overlap (FALSE)",
          "Bbox_Overlap (FALSE)",
          "Bbox_Overlap (FALSE)",
          "Bbox_Partial_Overlap (TRUE)",
          "Bbox_Overlap (FALSE)",
          "Bbox_Overlap (FALSE)",
          "Bbox_Overlap (FALSE)",
          "Bbox_Overlap (FALSE)",
          "Bbox_Overlap (FALSE)",
          "Bbox_Overlap (FALSE)",
          "Bbox_Overlap (FALSE)",
          "Bbox_Overlap (FALSE)",
          "Bbox_Overlap (FALSE)",
          "Bbox_Overlap (FALSE)",
          "Bbox_Overlap (FALSE)",
          "Bbox_Overlap (FALSE)",
          "Bbox_Overlap (FALSE)",
          "Bbox_Overlap (FALSE)",
          "Bbox_Overlap (FALSE)",
          "Bbox_Overlap (FALSE)",
          "Bbox_Overlap (FALSE)",
          "Bbox_Overlap (FALSE)",
          "Bbox_Overlap (FALSE)",
          "Bbox_Overlap (FALSE)",
          "Bbox_Overlap (FALSE)",
          "Bbox_Overlap (FALSE)",
          "Bbox_Overlap (FALSE)",
          "Bbox_Overlap (FALSE)",
          "Bbox_Overlap (FALSE)",
          "Bbox_Overlap (FALSE)",
          "Bbox_Overlap (FALSE)",
          "Bbox_Overlap (FALSE)"
         ],
         "x0": " ",
         "xaxis": "x4",
         "y": [
          0.0005325689999153838,
          0.0005259169993223622,
          0.0024630499974591658,
          0.0013528359995689243,
          0.0013300179998623207,
          0.0013640179968206212,
          0.0007667550089536235,
          0.00040741499105934054,
          0.00007003499194979668,
          0.0009649490093579516,
          0.00009640099597163498,
          0.0005694269930245355,
          0.0003333200002089143,
          0.00009083499026019126,
          0.00017002900131046772,
          0.0010024250077549368,
          0.00013329199282452464,
          0.0003718180087162182,
          0.00007186199945863336,
          0.001018767012283206,
          0.0005208660004427657,
          0.00006453599780797958,
          0.0007148409931687638,
          0.0008066250011324883,
          0.00011127399920951575,
          0.0008193850080715492,
          0.00008259199967142195,
          0.0010167110012844205,
          0.00008811199222691357,
          0.00014448000001721084,
          0.0006397690012818202,
          0.0007193070050561801,
          0.0007590980094391853,
          0.0006188600091263652,
          0.0003831130015896633,
          0.0004919109924230725,
          0.0009775400103535503,
          0.0007554609910584986,
          0.0004950839938828722,
          0.000415147005696781,
          0.00015614500443916768,
          0.00014299299800768495,
          0.00014665898925159127,
          0.00015104100748430938,
          0.0001439240004401654,
          0.00014785000530537218,
          0.0004742969904327765,
          0.0006232949963305146,
          0.0006463659956352785,
          0.0005917829985264689,
          0.0004651199997169897,
          0.000533330996404402,
          0.0007184699934441596,
          0.0004007350071333349,
          0.0005962869909126312,
          0.0008205579943023622,
          0.0004195309884380549,
          0.00012809700274374336,
          0.0008519699913449585,
          0.00036357300996314734,
          0.000383967999368906,
          0.0000789130135672167,
          0.0012847799953306094,
          0.003787849986110814,
          0.0022968010016484186,
          0.00031200800731312484,
          0.0009631660068407655,
          0.00034126799437217414,
          0.0013090510037727654,
          0.004541083995718509,
          0.0026654929970391095,
          0.000739011011319235,
          0.00014286399527918547,
          0.00013619998935610056,
          0.00013965199468657374,
          0.0001385909999953583,
          0.00035992098855786026,
          0.0004924609966110438,
          0.0015180259943008423,
          0.0008707030065124854,
          0.0008348649862455204,
          0.0005871539906365797,
          0.0005373800086090341,
          0.0007451019919244573,
          0.0005368199927033857,
          0.0005053219938417897,
          0.0007576899952255189,
          0.0007256980024976656,
          0.0005212830001255497,
          0.00044878800690639764,
          0.0004138689982937649,
          0.000725464997231029,
          0.0006839440029580146,
          0.0006817840039730072,
          0.0005441490066004917,
          0.0007111890008673072,
          0.0006715800118399784,
          0.00012766099825967103,
          0.00013218099775258452,
          0.0005968369951006025,
          0.0005986640026094392,
          0.00038880700594745576,
          0.0003896510024787858,
          0.0006988840032136068,
          0.0003379539994057268,
          0.00037946099473629147,
          0.0003671059967018664,
          0.000070882000727579,
          0.0003686980053316802,
          0.0006755210051778704,
          0.00065169099252671,
          0.0006573169957846403,
          0.0007692940125707537,
          0.0004259799898136407,
          0.0005748410039814189,
          0.000494888998218812,
          0.0005732950085075572,
          0.0015311729948734865,
          0.0008666310022817925,
          0.0002826450072461739,
          0.0008552420040359721,
          0.00013602100079879165,
          0.00037263199919834733,
          0.00038925299304537475,
          0.0005568600026890635,
          0.00007070500578265637,
          0.0005742919893236831,
          0.000935176998609677,
          0.00013495399616658688,
          0.0005520870035979897,
          0.00104897101118695,
          0.0005823680112371221,
          0.0009598539909347892,
          0.000642106999293901,
          0.0007267300097737461,
          0.00015836198872420937,
          0.00015534099657088518,
          0.00015798899403307587,
          0.00015324799460358918,
          0.0001579469972057268,
          0.00015524099580943584,
          0.00015510499360971153,
          0.000565188005566597,
          0.0009312409965787083,
          0.0008399880025535822,
          0.0004620349936885759,
          0.0009275900083594024,
          0.0008520470000803471,
          0.00008683699707034975,
          0.0002169319923268631,
          0.00014614399697165936,
          0.0006334079953376204,
          0.00039000800461508334,
          0.00012212600267957896,
          0.00012092498946003616,
          0.0005921169940847903,
          0.0005121009889990091,
          0.0004247979959473014,
          0.0005444010021165013,
          0.0005571389920078218,
          0.0007288939959835261,
          0.0005872470064787194,
          0.000491240993142128,
          0.0009486269991612062,
          0.00008302798960357904,
          0.00015346999862231314,
          0.0007198139937827364,
          0.0010238870017929003,
          0.0003798399993684143,
          0.0007175119972089306,
          0.0009584479994373396,
          0.0003963030030718073,
          0.0009392320062033832,
          0.0001786840002750978,
          0.00017645700427237898,
          0.00048658999730832875,
          0.00048508698819205165,
          0.0001515199983259663,
          0.0004868929972872138,
          0.000499688001582399,
          0.0002947350003523752,
          0.0002811960002873093,
          0.0006459880096372217,
          0.0003949730016756803,
          0.0007040880009299144,
          0.00047167600132524967,
          0.00014743099745828658,
          0.0004764929908560589,
          0.00017518599634058774,
          0.00017061700054910034,
          0.00016900699120014906,
          0.00017175399989355356,
          0.00023518799571320415,
          0.0005011100001865998,
          0.000172816013218835,
          0.00016992000746540725,
          0.0001656340027693659,
          0.0001361860049655661,
          0.00013920399942435324,
          0.0001406319934176281,
          0.00008735999290365726,
          0.0001250360073754564,
          0.00009737099753692746,
          0.00009946100180968642,
          0.00010323899914510548,
          0.00009909798973239958,
          0.00009875299292616546,
          0.00010735500836744905,
          0.00012288099969737232,
          0.00010806600039359182,
          0.0001019549963530153,
          0.00010082099470309913,
          0.00009821100684348494,
          0.00009997499000746757,
          0.00010431600094307214,
          0.0001044670061673969,
          0.00009808600589167327,
          0.00009864699677564204,
          0.00010152299364563078,
          0.0001048660051310435,
          0.00010792400280479342,
          0.0001022480137180537,
          0.00010305500472895801,
          0.00010153799667023122,
          0.00010881299385800958,
          0.00010536999616306275,
          0.00028201598615851253,
          0.0004990689922124147,
          0.00010189699241891503,
          0.00010168799781240523,
          0.0000988020037766546,
          0.00009784400754142553,
          0.00010192699846811593,
          0.00010352800018154085,
          0.00011734598956536502,
          0.00010012699931394309,
          0.00010122900130227208,
          0.00009991199476644397,
          0.00009926999337039888,
          0.00010155299969483167,
          0.00010229701001662761,
          0.0001052129955496639,
          0.00017946699517779052,
          0.00009952999243978411,
          0.0001006579987006262,
          0.00010155000200029463,
          0.00010324300092179328,
          0.00010421298793517053,
          0.0001033589942380786,
          0.0001081649970728904,
          0.00009578900062479079,
          0.00009859498823061585,
          0.00010242201096843928,
          0.0003318509989185259,
          0.00007066200487315655,
          0.00008001699461601675
         ],
         "y0": " ",
         "yaxis": "y4"
        },
        {
         "alignmentgroup": "True",
         "hovertemplate": "baseline=False<br>sizes=Medium_Large_Mixed<br>context=%{x}<br>total_time=%{y}<extra></extra>",
         "legendgroup": "False",
         "marker": {
          "color": "#EF553B"
         },
         "name": "False",
         "notched": false,
         "offsetgroup": "False",
         "orientation": "v",
         "showlegend": false,
         "type": "box",
         "x": [
          "Bbox_Overlap (FALSE)",
          "Bbox_Overlap (FALSE)",
          "Bbox_Overlap (FALSE)",
          "Bbox_Overlap (FALSE)",
          "Bbox_Overlap (FALSE)",
          "Bbox_Overlap (FALSE)",
          "Bbox_Overlap (FALSE)",
          "Bbox_Overlap (FALSE)",
          "Bbox_Partial_Overlap (TRUE)",
          "Bbox_Partial_Overlap (TRUE)",
          "Bbox_Overlap (FALSE)",
          "Bbox_Partial_Overlap (TRUE)",
          "Bbox_Overlap (FALSE)",
          "Bbox_Overlap (FALSE)",
          "Bbox_Overlap (FALSE)",
          "Bbox_Partial_Overlap (TRUE)",
          "Bbox_Overlap (FALSE)",
          "Bbox_Overlap (FALSE)",
          "Bbox_Overlap (FALSE)",
          "Bbox_Overlap (FALSE)",
          "Bbox_Partial_Overlap (TRUE)",
          "Bbox_Partial_Overlap (TRUE)",
          "Bbox_Overlap (FALSE)",
          "Bbox_Partial_Overlap (TRUE)",
          "Bbox_Partial_Overlap (TRUE)",
          "Bbox_Overlap (FALSE)",
          "Bbox_Overlap (FALSE)",
          "Bbox_Overlap (FALSE)",
          "Bbox_Partial_Overlap (TRUE)",
          "Bbox_Partial_Overlap (TRUE)",
          "Bbox_Partial_Overlap (TRUE)",
          "Bbox_Overlap (FALSE)",
          "Bbox_Partial_Overlap (TRUE)",
          "Bbox_Partial_Overlap (TRUE)",
          "Bbox_Partial_Overlap (TRUE)",
          "Bbox_Overlap (FALSE)",
          "Bbox_Partial_Overlap (TRUE)",
          "Bbox_Overlap (FALSE)",
          "Bbox_Overlap (FALSE)",
          "Bbox_Overlap (FALSE)",
          "Bbox_Overlap (FALSE)",
          "Bbox_Overlap (FALSE)",
          "Bbox_Overlap (FALSE)",
          "Bbox_Overlap (FALSE)",
          "Bbox_Overlap (FALSE)",
          "Bbox_Overlap (FALSE)",
          "Bbox_Overlap (FALSE)",
          "Bbox_Overlap (FALSE)",
          "Bbox_Overlap (FALSE)",
          "Bbox_Overlap (FALSE)",
          "Bbox_Overlap (FALSE)",
          "Bbox_Overlap (FALSE)",
          "Bbox_Partial_Overlap (TRUE)",
          "Bbox_Partial_Overlap (TRUE)",
          "Bbox_Overlap (FALSE)",
          "Bbox_Overlap (FALSE)",
          "Bbox_Overlap (FALSE)",
          "Bbox_Overlap (FALSE)",
          "Bbox_Overlap (FALSE)",
          "Bbox_Overlap (FALSE)",
          "Bbox_Overlap (FALSE)",
          "Bbox_Overlap (FALSE)",
          "Bbox_Partial_Overlap (TRUE)",
          "Bbox_Overlap (FALSE)",
          "Bbox_Overlap (FALSE)",
          "Bbox_Overlap (FALSE)",
          "Bbox_Overlap (FALSE)",
          "Bbox_Overlap (FALSE)",
          "Bbox_Partial_Overlap (TRUE)",
          "Bbox_Partial_Overlap (TRUE)",
          "Bbox_Overlap (FALSE)",
          "Bbox_Overlap (FALSE)",
          "Bbox_Partial_Overlap (TRUE)",
          "Bbox_Overlap (FALSE)",
          "Bbox_Overlap (FALSE)",
          "Bbox_Overlap (FALSE)",
          "Bbox_Overlap (FALSE)",
          "Bbox_Overlap (FALSE)",
          "Bbox_Overlap (FALSE)",
          "Bbox_Overlap (FALSE)"
         ],
         "x0": " ",
         "xaxis": "x5",
         "y": [
          0.0003020650037797168,
          0.000297877995762974,
          0.000302806991385296,
          0.00016453801072202623,
          0.00009070998930837959,
          0.0009094889974221587,
          0.0010487690014997497,
          0.000847446994157508,
          0.000851645992952399,
          0.0008405550033785403,
          0.0003982680063927546,
          0.0008433379989583045,
          0.0007501350046368316,
          0.0008684229978825897,
          0.0011443780094850808,
          0.0006683959945803508,
          0.0008184879989130422,
          0.0006994449940975755,
          0.00047319100121967494,
          0.0008139080018736422,
          0.0007370340026682243,
          0.0006469310028478503,
          0.00032726301287766546,
          0.0009522100008325651,
          0.0009551600087434053,
          0.0003974569990532473,
          0.0000806929892860353,
          0.0005111149948788807,
          0.0007312989910133183,
          0.000827757001388818,
          0.0007419850007863715,
          0.00038817699532955885,
          0.0006450189976021647,
          0.0005749789997935295,
          0.0007231039926409721,
          0.00040243899275083095,
          0.0007198150124168023,
          0.000398521005990915,
          0.000587773000006564,
          0.0005932799977017567,
          0.0005549569905269891,
          0.000536375999217853,
          0.00007442700734827667,
          0.0003532419941620901,
          0.0003550300025381148,
          0.0004668019973905757,
          0.0004491159925237298,
          0.0009235519974026829,
          0.00031840300653129816,
          0.0000802690046839416,
          0.000319530998240225,
          0.0003201560029992834,
          0.0006683969986625016,
          0.0006944640044821426,
          0.00045289799163583666,
          0.00014534899673890322,
          0.0008703370112925768,
          0.0012424919987097383,
          0.00047769700177013874,
          0.0008696720033185557,
          0.0012621719943126664,
          0.0003402030124561861,
          0.0008156940020853654,
          0.0005384949909057468,
          0.0005272359994705766,
          0.0005335220048436895,
          0.0006860900030005723,
          0.00019036000594496727,
          0.0005798649945063516,
          0.0006883199966978282,
          0.00008792801236268133,
          0.00016651699843350798,
          0.000746243997127749,
          0.00009918000432662666,
          0.0006022890011081472,
          0.00010834299609996378,
          0.0001139639934990555,
          0.00011440098751336336,
          0.00011290500697214156,
          0.00011017399083357304
         ],
         "y0": " ",
         "yaxis": "y5"
        },
        {
         "alignmentgroup": "True",
         "hovertemplate": "baseline=False<br>sizes=Medium<br>context=%{x}<br>total_time=%{y}<extra></extra>",
         "legendgroup": "False",
         "marker": {
          "color": "#EF553B"
         },
         "name": "False",
         "notched": false,
         "offsetgroup": "False",
         "orientation": "v",
         "showlegend": false,
         "type": "box",
         "x": [
          "Bbox_Overlap (FALSE)",
          "Bbox_Overlap (FALSE)",
          "Bbox_Overlap (FALSE)",
          "Bbox_Partial_Overlap (TRUE)",
          "Bbox_Overlap (FALSE)",
          "Bbox_Partial_Overlap (TRUE)",
          "Bbox_Partial_Overlap (TRUE)",
          "Bbox_Overlap (FALSE)",
          "Bbox_Partial_Overlap (TRUE)",
          "Bbox_Partial_Overlap (TRUE)",
          "Bbox_Partial_Overlap (TRUE)",
          "Bbox_Partial_Overlap (TRUE)",
          "Bbox_Partial_Overlap (TRUE)",
          "Bbox_Partial_Overlap (TRUE)",
          "Bbox_Partial_Overlap (TRUE)",
          "Bbox_Overlap (FALSE)",
          "Bbox_Overlap (FALSE)",
          "Bbox_Overlap (FALSE)",
          "Bbox_Partial_Overlap (TRUE)",
          "Bbox_Overlap (FALSE)",
          "Bbox_Overlap (FALSE)",
          "Bbox_Partial_Overlap (TRUE)",
          "Bbox_Partial_Overlap (TRUE)",
          "Bbox_Overlap (FALSE)",
          "Bbox_Partial_Overlap (TRUE)",
          "Bbox_Overlap (FALSE)",
          "Bbox_Partial_Overlap (TRUE)"
         ],
         "x0": " ",
         "xaxis": "x6",
         "y": [
          0.0009055520058609545,
          0.00030333499307744205,
          0.0004977920034434646,
          0.0007054790039546788,
          0.00047702800657134503,
          0.0026455909974174574,
          0.0014432739990297705,
          0.0004699419951066375,
          0.0017182080046040937,
          0.0034844780020648614,
          0.0017141919961431995,
          0.001216257005580701,
          0.001068555997335352,
          0.0012234040041221306,
          0.0006881290028104559,
          0.00007026399543974549,
          0.00025647899019531906,
          0.00024214900622610003,
          0.000701892000506632,
          0.0002796509943436831,
          0.000278094012173824,
          0.0006662249943474308,
          0.001191450995975174,
          0.00029997900128364563,
          0.0014177560078678653,
          0.0004037360049551353,
          0.0005781340005341917
         ],
         "y0": " ",
         "yaxis": "y6"
        }
       ],
       "layout": {
        "annotations": [
         {
          "font": {},
          "showarrow": false,
          "text": "sizes=Small",
          "x": 0.07083333333333333,
          "xanchor": "center",
          "xref": "paper",
          "y": 1,
          "yanchor": "bottom",
          "yref": "paper"
         },
         {
          "font": {},
          "showarrow": false,
          "text": "sizes=Small_Medium_Mixed",
          "x": 0.2425,
          "xanchor": "center",
          "xref": "paper",
          "y": 1,
          "yanchor": "bottom",
          "yref": "paper"
         },
         {
          "font": {},
          "showarrow": false,
          "text": "sizes=Large",
          "x": 0.4141666666666667,
          "xanchor": "center",
          "xref": "paper",
          "y": 1,
          "yanchor": "bottom",
          "yref": "paper"
         },
         {
          "font": {},
          "showarrow": false,
          "text": "sizes=Small_Large_Mixed",
          "x": 0.5858333333333334,
          "xanchor": "center",
          "xref": "paper",
          "y": 1,
          "yanchor": "bottom",
          "yref": "paper"
         },
         {
          "font": {},
          "showarrow": false,
          "text": "sizes=Medium_Large_Mixed",
          "x": 0.7575000000000001,
          "xanchor": "center",
          "xref": "paper",
          "y": 1,
          "yanchor": "bottom",
          "yref": "paper"
         },
         {
          "font": {},
          "showarrow": false,
          "text": "sizes=Medium",
          "x": 0.9291666666666667,
          "xanchor": "center",
          "xref": "paper",
          "y": 1,
          "yanchor": "bottom",
          "yref": "paper"
         }
        ],
        "boxmode": "group",
        "legend": {
         "title": {
          "text": "baseline"
         },
         "tracegroupgap": 0
        },
        "template": {
         "data": {
          "bar": [
           {
            "error_x": {
             "color": "#2a3f5f"
            },
            "error_y": {
             "color": "#2a3f5f"
            },
            "marker": {
             "line": {
              "color": "#E5ECF6",
              "width": 0.5
             },
             "pattern": {
              "fillmode": "overlay",
              "size": 10,
              "solidity": 0.2
             }
            },
            "type": "bar"
           }
          ],
          "barpolar": [
           {
            "marker": {
             "line": {
              "color": "#E5ECF6",
              "width": 0.5
             },
             "pattern": {
              "fillmode": "overlay",
              "size": 10,
              "solidity": 0.2
             }
            },
            "type": "barpolar"
           }
          ],
          "carpet": [
           {
            "aaxis": {
             "endlinecolor": "#2a3f5f",
             "gridcolor": "white",
             "linecolor": "white",
             "minorgridcolor": "white",
             "startlinecolor": "#2a3f5f"
            },
            "baxis": {
             "endlinecolor": "#2a3f5f",
             "gridcolor": "white",
             "linecolor": "white",
             "minorgridcolor": "white",
             "startlinecolor": "#2a3f5f"
            },
            "type": "carpet"
           }
          ],
          "choropleth": [
           {
            "colorbar": {
             "outlinewidth": 0,
             "ticks": ""
            },
            "type": "choropleth"
           }
          ],
          "contour": [
           {
            "colorbar": {
             "outlinewidth": 0,
             "ticks": ""
            },
            "colorscale": [
             [
              0,
              "#0d0887"
             ],
             [
              0.1111111111111111,
              "#46039f"
             ],
             [
              0.2222222222222222,
              "#7201a8"
             ],
             [
              0.3333333333333333,
              "#9c179e"
             ],
             [
              0.4444444444444444,
              "#bd3786"
             ],
             [
              0.5555555555555556,
              "#d8576b"
             ],
             [
              0.6666666666666666,
              "#ed7953"
             ],
             [
              0.7777777777777778,
              "#fb9f3a"
             ],
             [
              0.8888888888888888,
              "#fdca26"
             ],
             [
              1,
              "#f0f921"
             ]
            ],
            "type": "contour"
           }
          ],
          "contourcarpet": [
           {
            "colorbar": {
             "outlinewidth": 0,
             "ticks": ""
            },
            "type": "contourcarpet"
           }
          ],
          "heatmap": [
           {
            "colorbar": {
             "outlinewidth": 0,
             "ticks": ""
            },
            "colorscale": [
             [
              0,
              "#0d0887"
             ],
             [
              0.1111111111111111,
              "#46039f"
             ],
             [
              0.2222222222222222,
              "#7201a8"
             ],
             [
              0.3333333333333333,
              "#9c179e"
             ],
             [
              0.4444444444444444,
              "#bd3786"
             ],
             [
              0.5555555555555556,
              "#d8576b"
             ],
             [
              0.6666666666666666,
              "#ed7953"
             ],
             [
              0.7777777777777778,
              "#fb9f3a"
             ],
             [
              0.8888888888888888,
              "#fdca26"
             ],
             [
              1,
              "#f0f921"
             ]
            ],
            "type": "heatmap"
           }
          ],
          "heatmapgl": [
           {
            "colorbar": {
             "outlinewidth": 0,
             "ticks": ""
            },
            "colorscale": [
             [
              0,
              "#0d0887"
             ],
             [
              0.1111111111111111,
              "#46039f"
             ],
             [
              0.2222222222222222,
              "#7201a8"
             ],
             [
              0.3333333333333333,
              "#9c179e"
             ],
             [
              0.4444444444444444,
              "#bd3786"
             ],
             [
              0.5555555555555556,
              "#d8576b"
             ],
             [
              0.6666666666666666,
              "#ed7953"
             ],
             [
              0.7777777777777778,
              "#fb9f3a"
             ],
             [
              0.8888888888888888,
              "#fdca26"
             ],
             [
              1,
              "#f0f921"
             ]
            ],
            "type": "heatmapgl"
           }
          ],
          "histogram": [
           {
            "marker": {
             "pattern": {
              "fillmode": "overlay",
              "size": 10,
              "solidity": 0.2
             }
            },
            "type": "histogram"
           }
          ],
          "histogram2d": [
           {
            "colorbar": {
             "outlinewidth": 0,
             "ticks": ""
            },
            "colorscale": [
             [
              0,
              "#0d0887"
             ],
             [
              0.1111111111111111,
              "#46039f"
             ],
             [
              0.2222222222222222,
              "#7201a8"
             ],
             [
              0.3333333333333333,
              "#9c179e"
             ],
             [
              0.4444444444444444,
              "#bd3786"
             ],
             [
              0.5555555555555556,
              "#d8576b"
             ],
             [
              0.6666666666666666,
              "#ed7953"
             ],
             [
              0.7777777777777778,
              "#fb9f3a"
             ],
             [
              0.8888888888888888,
              "#fdca26"
             ],
             [
              1,
              "#f0f921"
             ]
            ],
            "type": "histogram2d"
           }
          ],
          "histogram2dcontour": [
           {
            "colorbar": {
             "outlinewidth": 0,
             "ticks": ""
            },
            "colorscale": [
             [
              0,
              "#0d0887"
             ],
             [
              0.1111111111111111,
              "#46039f"
             ],
             [
              0.2222222222222222,
              "#7201a8"
             ],
             [
              0.3333333333333333,
              "#9c179e"
             ],
             [
              0.4444444444444444,
              "#bd3786"
             ],
             [
              0.5555555555555556,
              "#d8576b"
             ],
             [
              0.6666666666666666,
              "#ed7953"
             ],
             [
              0.7777777777777778,
              "#fb9f3a"
             ],
             [
              0.8888888888888888,
              "#fdca26"
             ],
             [
              1,
              "#f0f921"
             ]
            ],
            "type": "histogram2dcontour"
           }
          ],
          "mesh3d": [
           {
            "colorbar": {
             "outlinewidth": 0,
             "ticks": ""
            },
            "type": "mesh3d"
           }
          ],
          "parcoords": [
           {
            "line": {
             "colorbar": {
              "outlinewidth": 0,
              "ticks": ""
             }
            },
            "type": "parcoords"
           }
          ],
          "pie": [
           {
            "automargin": true,
            "type": "pie"
           }
          ],
          "scatter": [
           {
            "fillpattern": {
             "fillmode": "overlay",
             "size": 10,
             "solidity": 0.2
            },
            "type": "scatter"
           }
          ],
          "scatter3d": [
           {
            "line": {
             "colorbar": {
              "outlinewidth": 0,
              "ticks": ""
             }
            },
            "marker": {
             "colorbar": {
              "outlinewidth": 0,
              "ticks": ""
             }
            },
            "type": "scatter3d"
           }
          ],
          "scattercarpet": [
           {
            "marker": {
             "colorbar": {
              "outlinewidth": 0,
              "ticks": ""
             }
            },
            "type": "scattercarpet"
           }
          ],
          "scattergeo": [
           {
            "marker": {
             "colorbar": {
              "outlinewidth": 0,
              "ticks": ""
             }
            },
            "type": "scattergeo"
           }
          ],
          "scattergl": [
           {
            "marker": {
             "colorbar": {
              "outlinewidth": 0,
              "ticks": ""
             }
            },
            "type": "scattergl"
           }
          ],
          "scattermapbox": [
           {
            "marker": {
             "colorbar": {
              "outlinewidth": 0,
              "ticks": ""
             }
            },
            "type": "scattermapbox"
           }
          ],
          "scatterpolar": [
           {
            "marker": {
             "colorbar": {
              "outlinewidth": 0,
              "ticks": ""
             }
            },
            "type": "scatterpolar"
           }
          ],
          "scatterpolargl": [
           {
            "marker": {
             "colorbar": {
              "outlinewidth": 0,
              "ticks": ""
             }
            },
            "type": "scatterpolargl"
           }
          ],
          "scatterternary": [
           {
            "marker": {
             "colorbar": {
              "outlinewidth": 0,
              "ticks": ""
             }
            },
            "type": "scatterternary"
           }
          ],
          "surface": [
           {
            "colorbar": {
             "outlinewidth": 0,
             "ticks": ""
            },
            "colorscale": [
             [
              0,
              "#0d0887"
             ],
             [
              0.1111111111111111,
              "#46039f"
             ],
             [
              0.2222222222222222,
              "#7201a8"
             ],
             [
              0.3333333333333333,
              "#9c179e"
             ],
             [
              0.4444444444444444,
              "#bd3786"
             ],
             [
              0.5555555555555556,
              "#d8576b"
             ],
             [
              0.6666666666666666,
              "#ed7953"
             ],
             [
              0.7777777777777778,
              "#fb9f3a"
             ],
             [
              0.8888888888888888,
              "#fdca26"
             ],
             [
              1,
              "#f0f921"
             ]
            ],
            "type": "surface"
           }
          ],
          "table": [
           {
            "cells": {
             "fill": {
              "color": "#EBF0F8"
             },
             "line": {
              "color": "white"
             }
            },
            "header": {
             "fill": {
              "color": "#C8D4E3"
             },
             "line": {
              "color": "white"
             }
            },
            "type": "table"
           }
          ]
         },
         "layout": {
          "annotationdefaults": {
           "arrowcolor": "#2a3f5f",
           "arrowhead": 0,
           "arrowwidth": 1
          },
          "autotypenumbers": "strict",
          "coloraxis": {
           "colorbar": {
            "outlinewidth": 0,
            "ticks": ""
           }
          },
          "colorscale": {
           "diverging": [
            [
             0,
             "#8e0152"
            ],
            [
             0.1,
             "#c51b7d"
            ],
            [
             0.2,
             "#de77ae"
            ],
            [
             0.3,
             "#f1b6da"
            ],
            [
             0.4,
             "#fde0ef"
            ],
            [
             0.5,
             "#f7f7f7"
            ],
            [
             0.6,
             "#e6f5d0"
            ],
            [
             0.7,
             "#b8e186"
            ],
            [
             0.8,
             "#7fbc41"
            ],
            [
             0.9,
             "#4d9221"
            ],
            [
             1,
             "#276419"
            ]
           ],
           "sequential": [
            [
             0,
             "#0d0887"
            ],
            [
             0.1111111111111111,
             "#46039f"
            ],
            [
             0.2222222222222222,
             "#7201a8"
            ],
            [
             0.3333333333333333,
             "#9c179e"
            ],
            [
             0.4444444444444444,
             "#bd3786"
            ],
            [
             0.5555555555555556,
             "#d8576b"
            ],
            [
             0.6666666666666666,
             "#ed7953"
            ],
            [
             0.7777777777777778,
             "#fb9f3a"
            ],
            [
             0.8888888888888888,
             "#fdca26"
            ],
            [
             1,
             "#f0f921"
            ]
           ],
           "sequentialminus": [
            [
             0,
             "#0d0887"
            ],
            [
             0.1111111111111111,
             "#46039f"
            ],
            [
             0.2222222222222222,
             "#7201a8"
            ],
            [
             0.3333333333333333,
             "#9c179e"
            ],
            [
             0.4444444444444444,
             "#bd3786"
            ],
            [
             0.5555555555555556,
             "#d8576b"
            ],
            [
             0.6666666666666666,
             "#ed7953"
            ],
            [
             0.7777777777777778,
             "#fb9f3a"
            ],
            [
             0.8888888888888888,
             "#fdca26"
            ],
            [
             1,
             "#f0f921"
            ]
           ]
          },
          "colorway": [
           "#636efa",
           "#EF553B",
           "#00cc96",
           "#ab63fa",
           "#FFA15A",
           "#19d3f3",
           "#FF6692",
           "#B6E880",
           "#FF97FF",
           "#FECB52"
          ],
          "font": {
           "color": "#2a3f5f"
          },
          "geo": {
           "bgcolor": "white",
           "lakecolor": "white",
           "landcolor": "#E5ECF6",
           "showlakes": true,
           "showland": true,
           "subunitcolor": "white"
          },
          "hoverlabel": {
           "align": "left"
          },
          "hovermode": "closest",
          "mapbox": {
           "style": "light"
          },
          "paper_bgcolor": "white",
          "plot_bgcolor": "#E5ECF6",
          "polar": {
           "angularaxis": {
            "gridcolor": "white",
            "linecolor": "white",
            "ticks": ""
           },
           "bgcolor": "#E5ECF6",
           "radialaxis": {
            "gridcolor": "white",
            "linecolor": "white",
            "ticks": ""
           }
          },
          "scene": {
           "xaxis": {
            "backgroundcolor": "#E5ECF6",
            "gridcolor": "white",
            "gridwidth": 2,
            "linecolor": "white",
            "showbackground": true,
            "ticks": "",
            "zerolinecolor": "white"
           },
           "yaxis": {
            "backgroundcolor": "#E5ECF6",
            "gridcolor": "white",
            "gridwidth": 2,
            "linecolor": "white",
            "showbackground": true,
            "ticks": "",
            "zerolinecolor": "white"
           },
           "zaxis": {
            "backgroundcolor": "#E5ECF6",
            "gridcolor": "white",
            "gridwidth": 2,
            "linecolor": "white",
            "showbackground": true,
            "ticks": "",
            "zerolinecolor": "white"
           }
          },
          "shapedefaults": {
           "line": {
            "color": "#2a3f5f"
           }
          },
          "ternary": {
           "aaxis": {
            "gridcolor": "white",
            "linecolor": "white",
            "ticks": ""
           },
           "baxis": {
            "gridcolor": "white",
            "linecolor": "white",
            "ticks": ""
           },
           "bgcolor": "#E5ECF6",
           "caxis": {
            "gridcolor": "white",
            "linecolor": "white",
            "ticks": ""
           }
          },
          "title": {
           "x": 0.05
          },
          "xaxis": {
           "automargin": true,
           "gridcolor": "white",
           "linecolor": "white",
           "ticks": "",
           "title": {
            "standoff": 15
           },
           "zerolinecolor": "white",
           "zerolinewidth": 2
          },
          "yaxis": {
           "automargin": true,
           "gridcolor": "white",
           "linecolor": "white",
           "ticks": "",
           "title": {
            "standoff": 15
           },
           "zerolinecolor": "white",
           "zerolinewidth": 2
          }
         }
        },
        "title": {
         "text": "Execution Time for Intersection in Different Contexts & Sizes"
        },
        "xaxis": {
         "anchor": "y",
         "domain": [
          0,
          0.14166666666666666
         ],
         "title": {
          "text": "context"
         }
        },
        "xaxis2": {
         "anchor": "y2",
         "domain": [
          0.17166666666666666,
          0.31333333333333335
         ],
         "matches": "x",
         "title": {
          "text": "context"
         }
        },
        "xaxis3": {
         "anchor": "y3",
         "domain": [
          0.3433333333333333,
          0.485
         ],
         "matches": "x",
         "title": {
          "text": "context"
         }
        },
        "xaxis4": {
         "anchor": "y4",
         "domain": [
          0.515,
          0.6566666666666667
         ],
         "matches": "x",
         "title": {
          "text": "context"
         }
        },
        "xaxis5": {
         "anchor": "y5",
         "domain": [
          0.6866666666666666,
          0.8283333333333334
         ],
         "matches": "x",
         "title": {
          "text": "context"
         }
        },
        "xaxis6": {
         "anchor": "y6",
         "domain": [
          0.8583333333333333,
          1
         ],
         "matches": "x",
         "title": {
          "text": "context"
         }
        },
        "yaxis": {
         "anchor": "x",
         "domain": [
          0,
          1
         ],
         "showticklabels": true,
         "title": {
          "text": "total_time"
         },
         "type": "log"
        },
        "yaxis2": {
         "anchor": "x2",
         "domain": [
          0,
          1
         ],
         "showticklabels": true,
         "type": "log"
        },
        "yaxis3": {
         "anchor": "x3",
         "domain": [
          0,
          1
         ],
         "showticklabels": true,
         "type": "log"
        },
        "yaxis4": {
         "anchor": "x4",
         "domain": [
          0,
          1
         ],
         "showticklabels": true,
         "type": "log"
        },
        "yaxis5": {
         "anchor": "x5",
         "domain": [
          0,
          1
         ],
         "showticklabels": true,
         "type": "log"
        },
        "yaxis6": {
         "anchor": "x6",
         "domain": [
          0,
          1
         ],
         "showticklabels": true,
         "type": "log"
        }
       }
      }
     },
     "metadata": {},
     "output_type": "display_data"
    },
    {
     "data": {
      "application/vnd.plotly.v1+json": {
       "config": {
        "plotlyServerURL": "https://plot.ly"
       },
       "data": [
        {
         "alignmentgroup": "True",
         "bingroup": "x",
         "histfunc": "avg",
         "hovertemplate": "baseline=True<br>sizes=Small<br>context=%{x}<br>avg of total_time=%{y}<extra></extra>",
         "legendgroup": "True",
         "marker": {
          "color": "#636efa",
          "pattern": {
           "shape": ""
          }
         },
         "name": "True",
         "offsetgroup": "True",
         "orientation": "v",
         "showlegend": true,
         "type": "histogram",
         "x": [
          "Bbox_Overlap (FALSE)",
          "Bbox_Partial_Overlap (TRUE)",
          "Bbox_Inside_Other (TRUE)",
          "Bbox_Overlap (FALSE)",
          "Bbox_Partial_Overlap (TRUE)",
          "Bbox_Partial_Overlap (TRUE)",
          "Bbox_Partial_Overlap (TRUE)",
          "Bbox_Partial_Overlap (TRUE)",
          "Bbox_Partial_Overlap (TRUE)",
          "Bbox_Partial_Overlap (TRUE)",
          "Bbox_Partial_Overlap (TRUE)",
          "Bbox_Overlap (FALSE)",
          "Bbox_Overlap (FALSE)",
          "Bbox_Partial_Overlap (TRUE)",
          "Bbox_Partial_Overlap (TRUE)",
          "Bbox_Inside_Other (TRUE)",
          "Bbox_Inside_Other (TRUE)",
          "Bbox_Partial_Overlap (TRUE)",
          "Bbox_Partial_Overlap (TRUE)",
          "Bbox_Partial_Overlap (TRUE)",
          "Bbox_Partial_Overlap (TRUE)",
          "Bbox_Partial_Overlap (TRUE)",
          "Bbox_Partial_Overlap (TRUE)",
          "Bbox_Overlap (FALSE)",
          "Bbox_Overlap (FALSE)",
          "Bbox_Overlap (FALSE)",
          "Bbox_Inside_Other (TRUE)",
          "Bbox_Partial_Overlap (TRUE)",
          "Bbox_Overlap (FALSE)",
          "Bbox_Overlap (FALSE)",
          "Bbox_Overlap (FALSE)",
          "Bbox_Overlap (FALSE)",
          "Bbox_Overlap (FALSE)",
          "Bbox_Overlap (FALSE)",
          "Bbox_Overlap (FALSE)",
          "Bbox_Overlap (FALSE)",
          "Bbox_Overlap (FALSE)",
          "Bbox_Overlap (FALSE)",
          "Bbox_Overlap (FALSE)",
          "Bbox_Overlap (FALSE)",
          "Bbox_Overlap (FALSE)",
          "Bbox_Overlap (FALSE)",
          "Bbox_Overlap (FALSE)",
          "Bbox_Overlap (FALSE)",
          "Bbox_Overlap (FALSE)",
          "Bbox_Overlap (FALSE)",
          "Bbox_Overlap (FALSE)",
          "Bbox_Overlap (FALSE)",
          "Bbox_Overlap (FALSE)",
          "Bbox_Overlap (FALSE)",
          "Bbox_Overlap (FALSE)",
          "Bbox_Overlap (FALSE)",
          "Bbox_Overlap (FALSE)",
          "Bbox_Overlap (FALSE)",
          "Bbox_Overlap (FALSE)",
          "Bbox_Overlap (FALSE)",
          "Bbox_Overlap (FALSE)",
          "Bbox_Overlap (FALSE)",
          "Bbox_Overlap (FALSE)",
          "Bbox_Overlap (FALSE)",
          "Bbox_Overlap (FALSE)",
          "Bbox_Overlap (FALSE)",
          "Bbox_Overlap (FALSE)",
          "Bbox_Overlap (FALSE)",
          "Bbox_Overlap (FALSE)",
          "Bbox_Overlap (FALSE)",
          "Bbox_Overlap (FALSE)",
          "Bbox_Overlap (FALSE)",
          "Bbox_Overlap (FALSE)",
          "Bbox_Overlap (FALSE)",
          "Bbox_Overlap (FALSE)",
          "Bbox_Overlap (FALSE)",
          "Bbox_Overlap (FALSE)",
          "Bbox_Overlap (FALSE)",
          "Bbox_Overlap (FALSE)",
          "Bbox_Overlap (FALSE)",
          "Bbox_Overlap (FALSE)",
          "Bbox_Overlap (FALSE)",
          "Bbox_Overlap (FALSE)",
          "Bbox_Overlap (FALSE)",
          "Bbox_Overlap (FALSE)",
          "Bbox_Overlap (FALSE)",
          "Bbox_Overlap (FALSE)",
          "Bbox_Overlap (FALSE)",
          "Bbox_Overlap (FALSE)",
          "Bbox_Overlap (FALSE)",
          "Bbox_Overlap (FALSE)",
          "Bbox_Overlap (FALSE)",
          "Bbox_Overlap (FALSE)",
          "Bbox_Overlap (FALSE)",
          "Bbox_Overlap (FALSE)",
          "Bbox_Overlap (FALSE)",
          "Bbox_Overlap (FALSE)",
          "Bbox_Overlap (FALSE)",
          "Bbox_Partial_Overlap (TRUE)",
          "Bbox_Overlap (FALSE)",
          "Bbox_Overlap (FALSE)",
          "Bbox_Overlap (FALSE)",
          "Bbox_Overlap (FALSE)",
          "Bbox_Overlap (FALSE)",
          "Bbox_Overlap (FALSE)",
          "Bbox_Overlap (FALSE)",
          "Bbox_Overlap (FALSE)",
          "Bbox_Overlap (FALSE)",
          "Bbox_Overlap (FALSE)",
          "Bbox_Overlap (FALSE)",
          "Bbox_Overlap (FALSE)",
          "Bbox_Overlap (FALSE)",
          "Bbox_Overlap (FALSE)",
          "Bbox_Overlap (FALSE)",
          "Bbox_Overlap (FALSE)",
          "Bbox_Overlap (FALSE)",
          "Bbox_Overlap (FALSE)",
          "Bbox_Overlap (FALSE)",
          "Bbox_Partial_Overlap (TRUE)",
          "Bbox_Partial_Overlap (TRUE)",
          "Bbox_Partial_Overlap (TRUE)",
          "Bbox_Partial_Overlap (TRUE)",
          "Bbox_Partial_Overlap (TRUE)",
          "Bbox_Partial_Overlap (TRUE)",
          "Bbox_Partial_Overlap (TRUE)",
          "Bbox_Partial_Overlap (TRUE)",
          "Bbox_Overlap (FALSE)",
          "Bbox_Partial_Overlap (TRUE)",
          "Bbox_Partial_Overlap (TRUE)",
          "Bbox_Partial_Overlap (TRUE)",
          "Bbox_Overlap (FALSE)",
          "Bbox_Overlap (FALSE)",
          "Bbox_Partial_Overlap (TRUE)",
          "Bbox_Partial_Overlap (TRUE)",
          "Bbox_Overlap (FALSE)",
          "Bbox_Partial_Overlap (TRUE)",
          "Bbox_Partial_Overlap (TRUE)",
          "Bbox_Partial_Overlap (TRUE)",
          "Bbox_Overlap (FALSE)",
          "Bbox_Overlap (FALSE)",
          "Bbox_Overlap (FALSE)",
          "Bbox_Partial_Overlap (TRUE)",
          "Bbox_Partial_Overlap (TRUE)",
          "Bbox_Partial_Overlap (TRUE)",
          "Bbox_Partial_Overlap (TRUE)",
          "Bbox_Partial_Overlap (TRUE)",
          "Bbox_Partial_Overlap (TRUE)",
          "Bbox_Overlap (FALSE)",
          "Bbox_Overlap (FALSE)",
          "Bbox_Overlap (FALSE)",
          "Bbox_Overlap (FALSE)",
          "Bbox_Overlap (FALSE)",
          "Bbox_Overlap (FALSE)",
          "Bbox_Partial_Overlap (TRUE)",
          "Bbox_Partial_Overlap (TRUE)",
          "Bbox_Overlap (FALSE)",
          "Bbox_Partial_Overlap (TRUE)",
          "Bbox_Partial_Overlap (TRUE)",
          "Bbox_Partial_Overlap (TRUE)",
          "Bbox_Partial_Overlap (TRUE)",
          "Bbox_Overlap (FALSE)",
          "Bbox_Partial_Overlap (TRUE)",
          "Bbox_Partial_Overlap (TRUE)",
          "Bbox_Partial_Overlap (TRUE)",
          "Bbox_Partial_Overlap (TRUE)",
          "Bbox_Partial_Overlap (TRUE)",
          "Bbox_Partial_Overlap (TRUE)",
          "Bbox_Partial_Overlap (TRUE)",
          "Bbox_Partial_Overlap (TRUE)",
          "Bbox_Partial_Overlap (TRUE)",
          "Bbox_Partial_Overlap (TRUE)",
          "Bbox_Partial_Overlap (TRUE)",
          "Bbox_Partial_Overlap (TRUE)",
          "Bbox_Partial_Overlap (TRUE)",
          "Bbox_Partial_Overlap (TRUE)",
          "Bbox_Partial_Overlap (TRUE)",
          "Bbox_Partial_Overlap (TRUE)",
          "Bbox_Partial_Overlap (TRUE)",
          "Bbox_Partial_Overlap (TRUE)",
          "Bbox_Partial_Overlap (TRUE)",
          "Bbox_Partial_Overlap (TRUE)",
          "Bbox_Partial_Overlap (TRUE)",
          "Bbox_Partial_Overlap (TRUE)",
          "Bbox_Partial_Overlap (TRUE)",
          "Bbox_Overlap (FALSE)",
          "Bbox_Overlap (FALSE)",
          "Bbox_Partial_Overlap (TRUE)",
          "Bbox_Overlap (FALSE)",
          "Bbox_Partial_Overlap (TRUE)",
          "Bbox_Overlap (FALSE)",
          "Bbox_Partial_Overlap (TRUE)",
          "Bbox_Partial_Overlap (TRUE)",
          "Bbox_Partial_Overlap (TRUE)",
          "Bbox_Partial_Overlap (TRUE)",
          "Bbox_Partial_Overlap (TRUE)",
          "Bbox_Partial_Overlap (TRUE)",
          "Bbox_Overlap (FALSE)",
          "Bbox_Partial_Overlap (TRUE)",
          "Bbox_Partial_Overlap (TRUE)",
          "Bbox_Partial_Overlap (TRUE)",
          "Bbox_Partial_Overlap (TRUE)",
          "Bbox_Partial_Overlap (TRUE)",
          "Bbox_Partial_Overlap (TRUE)",
          "Bbox_Partial_Overlap (TRUE)",
          "Bbox_Overlap (FALSE)",
          "Bbox_Partial_Overlap (TRUE)",
          "Bbox_Partial_Overlap (TRUE)",
          "Bbox_Partial_Overlap (TRUE)",
          "Bbox_Overlap (FALSE)",
          "Bbox_Overlap (FALSE)",
          "Bbox_Overlap (FALSE)",
          "Bbox_Overlap (FALSE)",
          "Bbox_Partial_Overlap (TRUE)",
          "Bbox_Partial_Overlap (TRUE)",
          "Bbox_Partial_Overlap (TRUE)",
          "Bbox_Partial_Overlap (TRUE)",
          "Bbox_Partial_Overlap (TRUE)",
          "Bbox_Partial_Overlap (TRUE)",
          "Bbox_Partial_Overlap (TRUE)",
          "Bbox_Partial_Overlap (TRUE)",
          "Bbox_Partial_Overlap (TRUE)",
          "Bbox_Partial_Overlap (TRUE)",
          "Bbox_Partial_Overlap (TRUE)",
          "Bbox_Overlap (FALSE)",
          "Bbox_Partial_Overlap (TRUE)",
          "Bbox_Partial_Overlap (TRUE)",
          "Bbox_Overlap (FALSE)",
          "Bbox_Overlap (FALSE)",
          "Bbox_Overlap (FALSE)",
          "Bbox_Partial_Overlap (TRUE)",
          "Bbox_Overlap (FALSE)",
          "Bbox_Overlap (FALSE)",
          "Bbox_Overlap (FALSE)",
          "Bbox_Partial_Overlap (TRUE)",
          "Bbox_Overlap (FALSE)",
          "Bbox_Overlap (FALSE)",
          "Bbox_Partial_Overlap (TRUE)",
          "Bbox_Partial_Overlap (TRUE)",
          "Bbox_Overlap (FALSE)",
          "Bbox_Partial_Overlap (TRUE)",
          "Bbox_Partial_Overlap (TRUE)",
          "Bbox_Overlap (FALSE)",
          "Bbox_Partial_Overlap (TRUE)",
          "Bbox_Partial_Overlap (TRUE)",
          "Bbox_Partial_Overlap (TRUE)",
          "Bbox_Partial_Overlap (TRUE)",
          "Bbox_Overlap (FALSE)",
          "Bbox_Partial_Overlap (TRUE)",
          "Bbox_Partial_Overlap (TRUE)",
          "Bbox_Overlap (FALSE)",
          "Bbox_Overlap (FALSE)",
          "Bbox_Overlap (FALSE)",
          "Bbox_Partial_Overlap (TRUE)",
          "Bbox_Overlap (FALSE)",
          "Bbox_Partial_Overlap (TRUE)",
          "Bbox_Partial_Overlap (TRUE)",
          "Bbox_Partial_Overlap (TRUE)",
          "Bbox_Partial_Overlap (TRUE)",
          "Bbox_Partial_Overlap (TRUE)",
          "Bbox_Partial_Overlap (TRUE)",
          "Bbox_Partial_Overlap (TRUE)",
          "Bbox_Partial_Overlap (TRUE)",
          "Bbox_Overlap (FALSE)",
          "Bbox_Overlap (FALSE)",
          "Bbox_Partial_Overlap (TRUE)",
          "Bbox_Partial_Overlap (TRUE)",
          "Bbox_Partial_Overlap (TRUE)",
          "Bbox_Partial_Overlap (TRUE)",
          "Bbox_Partial_Overlap (TRUE)",
          "Bbox_Partial_Overlap (TRUE)",
          "Bbox_Partial_Overlap (TRUE)",
          "Bbox_Partial_Overlap (TRUE)",
          "Bbox_Partial_Overlap (TRUE)",
          "Bbox_Partial_Overlap (TRUE)",
          "Bbox_Partial_Overlap (TRUE)",
          "Bbox_Partial_Overlap (TRUE)",
          "Bbox_Partial_Overlap (TRUE)",
          "Bbox_Partial_Overlap (TRUE)",
          "Bbox_Overlap (FALSE)",
          "Bbox_Overlap (FALSE)",
          "Bbox_Partial_Overlap (TRUE)",
          "Bbox_Partial_Overlap (TRUE)",
          "Bbox_Overlap (FALSE)",
          "Bbox_Partial_Overlap (TRUE)",
          "Bbox_Partial_Overlap (TRUE)",
          "Bbox_Overlap (FALSE)",
          "Bbox_Partial_Overlap (TRUE)",
          "Bbox_Partial_Overlap (TRUE)",
          "Bbox_Partial_Overlap (TRUE)",
          "Bbox_Partial_Overlap (TRUE)",
          "Bbox_Partial_Overlap (TRUE)",
          "Bbox_Partial_Overlap (TRUE)",
          "Bbox_Overlap (FALSE)",
          "Bbox_Partial_Overlap (TRUE)",
          "Bbox_Partial_Overlap (TRUE)",
          "Bbox_Partial_Overlap (TRUE)",
          "Bbox_Partial_Overlap (TRUE)",
          "Bbox_Partial_Overlap (TRUE)",
          "Bbox_Partial_Overlap (TRUE)",
          "Bbox_Partial_Overlap (TRUE)",
          "Bbox_Partial_Overlap (TRUE)",
          "Bbox_Partial_Overlap (TRUE)",
          "Bbox_Partial_Overlap (TRUE)",
          "Bbox_Partial_Overlap (TRUE)",
          "Bbox_Partial_Overlap (TRUE)",
          "Bbox_Partial_Overlap (TRUE)",
          "Bbox_Partial_Overlap (TRUE)",
          "Bbox_Partial_Overlap (TRUE)",
          "Bbox_Partial_Overlap (TRUE)",
          "Bbox_Partial_Overlap (TRUE)",
          "Bbox_Partial_Overlap (TRUE)",
          "Bbox_Partial_Overlap (TRUE)",
          "Bbox_Partial_Overlap (TRUE)",
          "Bbox_Partial_Overlap (TRUE)",
          "Bbox_Partial_Overlap (TRUE)",
          "Bbox_Partial_Overlap (TRUE)",
          "Bbox_Partial_Overlap (TRUE)",
          "Bbox_Partial_Overlap (TRUE)",
          "Bbox_Partial_Overlap (TRUE)",
          "Bbox_Partial_Overlap (TRUE)",
          "Bbox_Partial_Overlap (TRUE)",
          "Bbox_Partial_Overlap (TRUE)",
          "Bbox_Partial_Overlap (TRUE)",
          "Bbox_Partial_Overlap (TRUE)",
          "Bbox_Partial_Overlap (TRUE)",
          "Bbox_Partial_Overlap (TRUE)",
          "Bbox_Partial_Overlap (TRUE)",
          "Bbox_Partial_Overlap (TRUE)",
          "Bbox_Partial_Overlap (TRUE)",
          "Bbox_Partial_Overlap (TRUE)",
          "Bbox_Partial_Overlap (TRUE)",
          "Bbox_Overlap (FALSE)",
          "Bbox_Partial_Overlap (TRUE)",
          "Bbox_Partial_Overlap (TRUE)",
          "Bbox_Partial_Overlap (TRUE)",
          "Bbox_Partial_Overlap (TRUE)",
          "Bbox_Partial_Overlap (TRUE)",
          "Bbox_Overlap (FALSE)",
          "Bbox_Overlap (FALSE)",
          "Bbox_Partial_Overlap (TRUE)",
          "Bbox_Overlap (FALSE)",
          "Bbox_Overlap (FALSE)",
          "Bbox_Partial_Overlap (TRUE)",
          "Bbox_Partial_Overlap (TRUE)"
         ],
         "xaxis": "x",
         "y": [
          0.0005528089968720451,
          0.001655242987908423,
          0.0007736770057817921,
          0.00013732000661548227,
          0.0027215519949095324,
          0.00285747300949879,
          0.005575518996920437,
          0.0060329709958750755,
          0.0058018150011776015,
          0.006117886005085893,
          0.005679395006154664,
          0.00047954700130503625,
          0.0004731799999717623,
          0.001788139998097904,
          0.0016249500040430576,
          0.000641641003312543,
          0.0006456109986174852,
          0.00040624199027661234,
          0.0004091669979970902,
          0.0033483110019005835,
          0.004116074997000396,
          0.00695845800510142,
          0.008027543008211069,
          0.00041917899216059595,
          0.0004217469977447763,
          0.000386061001336202,
          0.0004224820004310459,
          0.000678743002936244,
          0.00019473099382594228,
          0.00019442099437583238,
          0.0001921579969348386,
          0.0003905929916072637,
          0.00018973198893945664,
          0.00019082300423178822,
          0.0001917140034493059,
          0.00019413999689277261,
          0.00018848000036086887,
          0.00019346999761182815,
          0.00030602599144913256,
          0.00019219800014980137,
          0.000233551996643655,
          0.00021980999736115336,
          0.00024097200366668403,
          0.00022578099742531776,
          0.00022471901320386678,
          0.00022390300000552088,
          0.00022639500093646348,
          0.00022502000501845032,
          0.00022189499577507377,
          0.00022136399638839066,
          0.00023380600032396615,
          0.0002518010005587712,
          0.00023680500453338027,
          0.00024352000036742538,
          0.00023489999875891954,
          0.0002292949939146638,
          0.00022728199837729335,
          0.00022467000235337764,
          0.00022802199237048626,
          0.0003510870010359213,
          0.0002324800007045269,
          0.0002594940015114844,
          0.0002442760014673695,
          0.0002252609992865473,
          0.0002468950115144253,
          0.00026759000320453197,
          0.00022826099302619696,
          0.0003554110007826239,
          0.00029950599127914757,
          0.00040450198866892606,
          0.00038850998680572957,
          0.0002347069967072457,
          0.00029991699557285756,
          0.0002341719955438748,
          0.000255841005127877,
          0.00023837300250306726,
          0.00034778400731738657,
          0.00024162500631064177,
          0.0002621620078571141,
          0.00028518299222923815,
          0.000328369002090767,
          0.000253222999162972,
          0.00027373900229576975,
          0.0002907699963543564,
          0.000225349998800084,
          0.00026216599508188665,
          0.000283305998891592,
          0.00021929200738668442,
          0.0002362890081712976,
          0.00024047598708420992,
          0.0002293739962624386,
          0.000229311001021415,
          0.00022216301294974983,
          0.00022430799435824156,
          0.0006748190062353387,
          0.00033032700594048947,
          0.00024835999647621065,
          0.00034898599551524967,
          0.00029307800286915153,
          0.00025771600485313684,
          0.00026466399140190333,
          0.0004519950016401708,
          0.00022547700791619718,
          0.00022026000078767538,
          0.0002272260026074946,
          0.00021670100977644324,
          0.00023968498862814158,
          0.00026473100297152996,
          0.00021259899949654937,
          0.00021568400552496314,
          0.0002157970011467114,
          0.0002385059924563393,
          0.00039430600008927286,
          0.0009226869879057631,
          0.0006096619908930734,
          0.0006184300000313669,
          0.00046446899068541825,
          0.0005513700016308576,
          0.00043133500730618834,
          0.00042158999713137746,
          0.000869436000357382,
          0.000687669002218172,
          0.00031670099997427315,
          0.0013132509920978919,
          0.0013012580020586029,
          0.0013016469893045723,
          0.0003420470020500943,
          0.0004107919958187267,
          0.000488816003780812,
          0.00041665599565021694,
          0.0003186109970556572,
          0.0006658019992755726,
          0.0006108039960963652,
          0.0006650430004810914,
          0.0005782380030723289,
          0.0007971860031830147,
          0.0004965279949828982,
          0.0007659190014237538,
          0.0007677609974052757,
          0.0004891450080322102,
          0.0004161789984209463,
          0.000391740002669394,
          0.001026234996970743,
          0.0002741450007306412,
          0.0005120030109537765,
          0.0003104790084762499,
          0.00031368400959763676,
          0.0003923839976778254,
          0.00039411100442521274,
          0.0008495819929521531,
          0.0012705539993476123,
          0.0004114789917366579,
          0.0006683329993393272,
          0.0011144259915454313,
          0.0011009139998350292,
          0.0010656179947545752,
          0.00032550698961131275,
          0.0005550560017582029,
          0.0004813270061276853,
          0.0006993040005909279,
          0.000482143004774116,
          0.0005063150019850582,
          0.0008997479890240356,
          0.0017763450014172122,
          0.000632965995464474,
          0.0005045370053267106,
          0.000504055991768837,
          0.0007385460048681125,
          0.00040958699537441134,
          0.0005878629890503362,
          0.00045485601003747433,
          0.0007216450030682608,
          0.0005751819990109652,
          0.0005914819921599701,
          0.0010604200069792569,
          0.0005209619994275272,
          0.0007853010029066354,
          0.000711141008650884,
          0.0005037779919803143,
          0.0005589659995166585,
          0.0002724880032474175,
          0.0002711849956540391,
          0.0004270790086593479,
          0.0002030119940172881,
          0.0004265769966877997,
          0.0003386040043551475,
          0.0006647080008406192,
          0.0008927220042096451,
          0.0009298679942730814,
          0.0008267670054920018,
          0.0008135769894579425,
          0.0006219429924385622,
          0.00030843100103084,
          0.0006232430023374036,
          0.0007648030004929751,
          0.00045354399480856955,
          0.0005626560014206916,
          0.000393323993193917,
          0.0005154669925104827,
          0.0007047730032354593,
          0.000682344994856976,
          0.0011070559994550422,
          0.0008099789993138984,
          0.0007922540098661557,
          0.00033538999559823424,
          0.00035346900403965265,
          0.00040353700751438737,
          0.00040207199344877154,
          0.0005063210119260475,
          0.0005034510104451329,
          0.0005395589978434145,
          0.0005311929999152198,
          0.0004442270001163706,
          0.0008014010090846568,
          0.0005531850038096309,
          0.0005509689945029095,
          0.0008484849968226627,
          0.0008606619958300143,
          0.0010846060031326488,
          0.00027140299789607525,
          0.0006253070023376495,
          0.0005817259952891618,
          0.0003656510089058429,
          0.000363116996595636,
          0.00040114999865181744,
          0.0005783230008091778,
          0.0002317059988854453,
          0.0002335190074518323,
          0.0004147649888182059,
          0.0008406230044784024,
          0.0005813739990117028,
          0.0004602779954439029,
          0.0009100829920498654,
          0.0010383150074630976,
          0.00031098299950826913,
          0.0007374150009127334,
          0.0007308990025194362,
          0.0004819589958060533,
          0.0008182689925888553,
          0.0005002109974157065,
          0.0007372899999609217,
          0.0005994980019750074,
          0.000678070995490998,
          0.0006702950049657375,
          0.0004597220104187727,
          0.0004256550018908456,
          0.00045444999705068767,
          0.0004238019901094958,
          0.0006875419931020588,
          0.0003915390116162598,
          0.0013013589923502877,
          0.0018881660071201622,
          0.0027746340056182817,
          0.0021217850007815287,
          0.0021106259955558926,
          0.0008515119989169762,
          0.0013594359916169196,
          0.0008444310078630224,
          0.000565504000405781,
          0.0003601750067900866,
          0.0009216030011884868,
          0.0017860290099633858,
          0.0006387479952536523,
          0.0007450539997080341,
          0.0006049600051483139,
          0.000616135002928786,
          0.0007806380017427728,
          0.0009396790119353682,
          0.0009343220008304343,
          0.0006966119981370866,
          0.0006135080038802698,
          0.0006064470071578398,
          0.00040761999844107777,
          0.0004074789903825149,
          0.0002150650107068941,
          0.00019821299065370113,
          0.00044788100058212876,
          0.0004361239989520982,
          0.00021985999774187803,
          0.00043158698827028275,
          0.0004477150068851188,
          0.0003082229959545657,
          0.0004500299983192235,
          0.0005233059928286821,
          0.0005276900046737865,
          0.0006530410028062761,
          0.0006128050008555874,
          0.0005365760007407516,
          0.00021344900596886873,
          0.000706202001310885,
          0.0007089489954523742,
          0.0012470040092011914,
          0.0009493140096310526,
          0.0005409309960668907,
          0.0005353240121621639,
          0.0004514920001383871,
          0.00044364799396134913,
          0.0004746979975607246,
          0.0004716120020020753,
          0.000573372992221266,
          0.0008500989933963865,
          0.00038182899879757315,
          0.0006241169903660193,
          0.0006325220019789413,
          0.000629027999821119,
          0.00131616200087592,
          0.0007612479967065156,
          0.0007584200066048652,
          0.0012966139911441132,
          0.0008857539942255244,
          0.0008676849975017831,
          0.0008785230020293966,
          0.0009131160040851682,
          0.00157426499936264,
          0.0008057920058490708,
          0.0007698650006204844,
          0.0008841079979902133,
          0.0008009220036910847,
          0.0007510879950132221,
          0.0007371889951173216,
          0.0006613409932469949,
          0.0006334119971143082,
          0.0009559159952914342,
          0.0009445909963687882,
          0.0008234589913627133,
          0.0010082749940920621,
          0.0008099959959508851,
          0.0005890530010219663,
          0.0009969200036721304,
          0.00036733399610966444,
          0.0004405470099300146,
          0.000634707001154311,
          0.0004440079937921837,
          0.0003072920080740005,
          0.00032069200824480504,
          0.00045036700612399727,
          0.00026708700170274824,
          0.00025685799482744187,
          0.0002736859896685928,
          0.00028297399694565684
         ],
         "yaxis": "y"
        },
        {
         "alignmentgroup": "True",
         "bingroup": "x",
         "histfunc": "avg",
         "hovertemplate": "baseline=True<br>sizes=Small_Medium_Mixed<br>context=%{x}<br>avg of total_time=%{y}<extra></extra>",
         "legendgroup": "True",
         "marker": {
          "color": "#636efa",
          "pattern": {
           "shape": ""
          }
         },
         "name": "True",
         "offsetgroup": "True",
         "orientation": "v",
         "showlegend": false,
         "type": "histogram",
         "x": [
          "Bbox_Partial_Overlap (TRUE)",
          "Bbox_Partial_Overlap (TRUE)",
          "Bbox_Partial_Overlap (TRUE)",
          "Bbox_Partial_Overlap (TRUE)",
          "Bbox_Overlap (FALSE)",
          "Bbox_Overlap (FALSE)",
          "Bbox_Overlap (FALSE)",
          "Bbox_Overlap (FALSE)",
          "Bbox_Partial_Overlap (TRUE)",
          "Bbox_Overlap (FALSE)",
          "Bbox_Overlap (FALSE)",
          "Bbox_Overlap (FALSE)",
          "Bbox_Overlap (FALSE)",
          "Bbox_Overlap (FALSE)",
          "Bbox_Overlap (FALSE)",
          "Bbox_Overlap (FALSE)",
          "Bbox_Overlap (FALSE)",
          "Bbox_Partial_Overlap (TRUE)",
          "Bbox_Partial_Overlap (TRUE)",
          "Bbox_Partial_Overlap (TRUE)",
          "Bbox_Overlap (FALSE)",
          "Bbox_Inside_Other (TRUE)",
          "Bbox_Overlap (FALSE)",
          "Bbox_Partial_Overlap (TRUE)",
          "Bbox_Partial_Overlap (TRUE)",
          "Bbox_Inside_Other (TRUE)",
          "Bbox_Overlap (FALSE)",
          "Bbox_Partial_Overlap (TRUE)",
          "Bbox_Partial_Overlap (TRUE)",
          "Bbox_Partial_Overlap (TRUE)",
          "Bbox_Overlap (FALSE)",
          "Bbox_Partial_Overlap (TRUE)",
          "Bbox_Overlap (FALSE)",
          "Bbox_Partial_Overlap (TRUE)",
          "Bbox_Partial_Overlap (TRUE)",
          "Bbox_Partial_Overlap (TRUE)",
          "Bbox_Partial_Overlap (TRUE)",
          "Bbox_Partial_Overlap (TRUE)",
          "Bbox_Partial_Overlap (TRUE)",
          "Bbox_Partial_Overlap (TRUE)",
          "Bbox_Partial_Overlap (TRUE)",
          "Bbox_Partial_Overlap (TRUE)",
          "Bbox_Partial_Overlap (TRUE)",
          "Bbox_Partial_Overlap (TRUE)",
          "Bbox_Partial_Overlap (TRUE)",
          "Bbox_Partial_Overlap (TRUE)",
          "Bbox_Partial_Overlap (TRUE)",
          "Bbox_Partial_Overlap (TRUE)",
          "Bbox_Partial_Overlap (TRUE)",
          "Bbox_Partial_Overlap (TRUE)",
          "Bbox_Overlap (FALSE)",
          "Bbox_Overlap (FALSE)",
          "Bbox_Overlap (FALSE)",
          "Bbox_Overlap (FALSE)",
          "Bbox_Partial_Overlap (TRUE)",
          "Bbox_Partial_Overlap (TRUE)",
          "Bbox_Partial_Overlap (TRUE)",
          "Bbox_Partial_Overlap (TRUE)",
          "Bbox_Partial_Overlap (TRUE)",
          "Bbox_Partial_Overlap (TRUE)",
          "Bbox_Partial_Overlap (TRUE)",
          "Bbox_Partial_Overlap (TRUE)",
          "Bbox_Overlap (FALSE)",
          "Bbox_Partial_Overlap (TRUE)",
          "Bbox_Partial_Overlap (TRUE)",
          "Bbox_Partial_Overlap (TRUE)",
          "Bbox_Partial_Overlap (TRUE)",
          "Bbox_Partial_Overlap (TRUE)",
          "Bbox_Partial_Overlap (TRUE)",
          "Bbox_Overlap (FALSE)",
          "Bbox_Partial_Overlap (TRUE)",
          "Bbox_Partial_Overlap (TRUE)",
          "Bbox_Partial_Overlap (TRUE)",
          "Bbox_Partial_Overlap (TRUE)",
          "Bbox_Partial_Overlap (TRUE)",
          "Bbox_Overlap (FALSE)",
          "Bbox_Overlap (FALSE)",
          "Bbox_Overlap (FALSE)",
          "Bbox_Partial_Overlap (TRUE)",
          "Bbox_Overlap (FALSE)",
          "Bbox_Overlap (FALSE)",
          "Bbox_Overlap (FALSE)",
          "Bbox_Overlap (FALSE)",
          "Bbox_Overlap (FALSE)",
          "Bbox_Overlap (FALSE)",
          "Bbox_Overlap (FALSE)",
          "Bbox_Partial_Overlap (TRUE)",
          "Bbox_Partial_Overlap (TRUE)",
          "Bbox_Overlap (FALSE)",
          "Bbox_Partial_Overlap (TRUE)",
          "Bbox_Partial_Overlap (TRUE)",
          "Bbox_Partial_Overlap (TRUE)",
          "Bbox_Partial_Overlap (TRUE)",
          "Bbox_Partial_Overlap (TRUE)",
          "Bbox_Partial_Overlap (TRUE)",
          "Bbox_Partial_Overlap (TRUE)",
          "Bbox_Partial_Overlap (TRUE)",
          "Bbox_Overlap (FALSE)",
          "Bbox_Overlap (FALSE)",
          "Bbox_Overlap (FALSE)",
          "Bbox_Overlap (FALSE)",
          "Bbox_Partial_Overlap (TRUE)",
          "Bbox_Overlap (FALSE)",
          "Bbox_Overlap (FALSE)",
          "Bbox_Overlap (FALSE)",
          "Bbox_Overlap (FALSE)",
          "Bbox_Overlap (FALSE)",
          "Bbox_Overlap (FALSE)",
          "Bbox_Overlap (FALSE)",
          "Bbox_Partial_Overlap (TRUE)",
          "Bbox_Partial_Overlap (TRUE)",
          "Bbox_Overlap (FALSE)",
          "Bbox_Partial_Overlap (TRUE)"
         ],
         "xaxis": "x2",
         "y": [
          0.0015751640021335334,
          0.0023622000007890165,
          0.0006237130000954494,
          0.0012173519935458899,
          0.00041617600072640926,
          0.0007156869978643954,
          0.0005392229941207916,
          0.0013248790055513382,
          0.0007890790002420545,
          0.00048039000830613077,
          0.00043563700455706567,
          0.0004126800049562007,
          0.00044821998744737357,
          0.0006627190014114603,
          0.0006347669987007976,
          0.0005415939958766103,
          0.0004566690040519461,
          0.0007729149947408587,
          0.000902318992302753,
          0.000964346996624954,
          0.000550821001525037,
          0.0008280999900307506,
          0.00042824100819416344,
          0.0008685460052220151,
          0.000793829996837303,
          0.0008479310054099187,
          0.0006540110043715686,
          0.0009246789995813742,
          0.0009366440062876791,
          0.0010708870104281232,
          0.0005922909913351759,
          0.0009310049936175346,
          0.0008176150004146621,
          0.0009484299953328446,
          0.0009401480056112632,
          0.0007855820003896952,
          0.0011608229979174212,
          0.000938276993110776,
          0.0008106290042633191,
          0.0008645659981993958,
          0.0009418319968972355,
          0.0013045289961155504,
          0.002173777000280097,
          0.001568953986861743,
          0.0012947479990543798,
          0.002214366992120631,
          0.0011174859973834828,
          0.0011213419929845259,
          0.0013616700016427785,
          0.0013610569876618683,
          0.000517098989803344,
          0.000658354998449795,
          0.0010818589944392443,
          0.0006577090098289773,
          0.0010587380093056709,
          0.0008298900065710768,
          0.0008508500031894073,
          0.0008791000000201166,
          0.0008721480116946623,
          0.0008572959923185408,
          0.0010470870038261637,
          0.0008521720010321587,
          0.0013309209898579866,
          0.0010756440024124458,
          0.0008303189970320091,
          0.0008182300080079585,
          0.0008270910038845614,
          0.0007299829885596409,
          0.0007207969902083278,
          0.0007781150052323937,
          0.0008304530056193471,
          0.0009878380078589544,
          0.000979503005510196,
          0.0007726359908701852,
          0.0009213230077875778,
          0.0006575729930773377,
          0.0005845180130563676,
          0.0005551079957513139,
          0.0009308320004492998,
          0.0007158860098570585,
          0.0006519210000988096,
          0.0006016109982738271,
          0.0006261209928197786,
          0.0007011790003161877,
          0.0007492610020563006,
          0.0005386090051615611,
          0.0007907450053608045,
          0.001556420000270009,
          0.0006237929919734597,
          0.0008614469988970086,
          0.0008163710008375347,
          0.0008384239918086678,
          0.0008281330083264038,
          0.0008572880033170804,
          0.0015697740018367767,
          0.001797987992176786,
          0.0015560519968857989,
          0.0006499550072476268,
          0.0006512130057672039,
          0.0005623589968308806,
          0.0004271560028428212,
          0.000946498999837786,
          0.000627829009317793,
          0.0008818170026643202,
          0.0003612269938457757,
          0.0003554920112947002,
          0.00029333800193853676,
          0.0004535930056590587,
          0.00048587100172881037,
          0.0007060060015646741,
          0.0007197679951786995,
          0.0004878350009676069,
          0.0005296460003592074
         ],
         "yaxis": "y2"
        },
        {
         "alignmentgroup": "True",
         "bingroup": "x",
         "histfunc": "avg",
         "hovertemplate": "baseline=True<br>sizes=Large<br>context=%{x}<br>avg of total_time=%{y}<extra></extra>",
         "legendgroup": "True",
         "marker": {
          "color": "#636efa",
          "pattern": {
           "shape": ""
          }
         },
         "name": "True",
         "offsetgroup": "True",
         "orientation": "v",
         "showlegend": false,
         "type": "histogram",
         "x": [
          "Bbox_Partial_Overlap (TRUE)",
          "Bbox_Partial_Overlap (TRUE)",
          "Bbox_Partial_Overlap (TRUE)",
          "Bbox_Partial_Overlap (TRUE)",
          "Bbox_Partial_Overlap (TRUE)",
          "Bbox_Partial_Overlap (TRUE)",
          "Bbox_Partial_Overlap (TRUE)",
          "Bbox_Overlap (FALSE)",
          "Bbox_Overlap (FALSE)",
          "Bbox_Overlap (FALSE)",
          "Bbox_Partial_Overlap (TRUE)",
          "Bbox_Overlap (FALSE)",
          "Bbox_Partial_Overlap (TRUE)",
          "Bbox_Partial_Overlap (TRUE)",
          "Bbox_Partial_Overlap (TRUE)",
          "Bbox_Overlap (FALSE)",
          "Bbox_Partial_Overlap (TRUE)",
          "Bbox_Partial_Overlap (TRUE)",
          "Bbox_Partial_Overlap (TRUE)",
          "Bbox_Overlap (FALSE)",
          "Bbox_Partial_Overlap (TRUE)",
          "Bbox_Partial_Overlap (TRUE)",
          "Bbox_Overlap (FALSE)",
          "Bbox_Partial_Overlap (TRUE)",
          "Bbox_Overlap (FALSE)",
          "Bbox_Overlap (FALSE)",
          "Bbox_Partial_Overlap (TRUE)",
          "Bbox_Partial_Overlap (TRUE)",
          "Bbox_Partial_Overlap (TRUE)",
          "Bbox_Partial_Overlap (TRUE)",
          "Bbox_Overlap (FALSE)",
          "Bbox_Overlap (FALSE)",
          "Bbox_Partial_Overlap (TRUE)",
          "Bbox_Overlap (FALSE)",
          "Bbox_Partial_Overlap (TRUE)",
          "Bbox_Partial_Overlap (TRUE)",
          "Bbox_Partial_Overlap (TRUE)",
          "Bbox_Overlap (FALSE)",
          "Bbox_Partial_Overlap (TRUE)",
          "Bbox_Partial_Overlap (TRUE)",
          "Bbox_Overlap (FALSE)",
          "Bbox_Overlap (FALSE)",
          "Bbox_Partial_Overlap (TRUE)",
          "Bbox_Partial_Overlap (TRUE)",
          "Bbox_Partial_Overlap (TRUE)",
          "Bbox_Overlap (FALSE)",
          "Bbox_Partial_Overlap (TRUE)",
          "Bbox_Partial_Overlap (TRUE)",
          "Bbox_Partial_Overlap (TRUE)",
          "Bbox_Overlap (FALSE)",
          "Bbox_Partial_Overlap (TRUE)",
          "Bbox_Partial_Overlap (TRUE)",
          "Bbox_Partial_Overlap (TRUE)",
          "Bbox_Partial_Overlap (TRUE)",
          "Bbox_Overlap (FALSE)",
          "Bbox_Partial_Overlap (TRUE)",
          "Bbox_Overlap (FALSE)",
          "Bbox_Partial_Overlap (TRUE)",
          "Bbox_Partial_Overlap (TRUE)",
          "Bbox_Partial_Overlap (TRUE)",
          "Bbox_Partial_Overlap (TRUE)",
          "Bbox_Partial_Overlap (TRUE)",
          "Bbox_Partial_Overlap (TRUE)",
          "Bbox_Partial_Overlap (TRUE)",
          "Bbox_Overlap (FALSE)",
          "Bbox_Overlap (FALSE)",
          "Bbox_Overlap (FALSE)",
          "Bbox_Partial_Overlap (TRUE)",
          "Bbox_Partial_Overlap (TRUE)",
          "Bbox_Partial_Overlap (TRUE)",
          "Bbox_Partial_Overlap (TRUE)",
          "Bbox_Partial_Overlap (TRUE)",
          "Bbox_Partial_Overlap (TRUE)",
          "Bbox_Overlap (FALSE)",
          "Bbox_Partial_Overlap (TRUE)",
          "Bbox_Partial_Overlap (TRUE)",
          "Bbox_Partial_Overlap (TRUE)",
          "Bbox_Partial_Overlap (TRUE)",
          "Bbox_Partial_Overlap (TRUE)",
          "Bbox_Partial_Overlap (TRUE)",
          "Bbox_Partial_Overlap (TRUE)",
          "Bbox_Partial_Overlap (TRUE)",
          "Bbox_Partial_Overlap (TRUE)",
          "Bbox_Partial_Overlap (TRUE)",
          "Bbox_Partial_Overlap (TRUE)",
          "Bbox_Overlap (FALSE)",
          "Bbox_Overlap (FALSE)",
          "Bbox_Partial_Overlap (TRUE)",
          "Bbox_Partial_Overlap (TRUE)",
          "Bbox_Partial_Overlap (TRUE)",
          "Bbox_Partial_Overlap (TRUE)",
          "Bbox_Partial_Overlap (TRUE)",
          "Bbox_Partial_Overlap (TRUE)",
          "Bbox_Partial_Overlap (TRUE)",
          "Bbox_Partial_Overlap (TRUE)",
          "Bbox_Overlap (FALSE)",
          "Bbox_Overlap (FALSE)",
          "Bbox_Overlap (FALSE)",
          "Bbox_Overlap (FALSE)",
          "Bbox_Overlap (FALSE)",
          "Bbox_Overlap (FALSE)",
          "Bbox_Overlap (FALSE)",
          "Bbox_Overlap (FALSE)",
          "Bbox_Overlap (FALSE)",
          "Bbox_Overlap (FALSE)",
          "Bbox_Overlap (FALSE)",
          "Bbox_Overlap (FALSE)",
          "Bbox_Overlap (FALSE)",
          "Bbox_Overlap (FALSE)",
          "Bbox_Overlap (FALSE)",
          "Bbox_Overlap (FALSE)",
          "Bbox_Overlap (FALSE)",
          "Bbox_Overlap (FALSE)",
          "Bbox_Overlap (FALSE)",
          "Bbox_Overlap (FALSE)",
          "Bbox_Overlap (FALSE)",
          "Bbox_Overlap (FALSE)",
          "Bbox_Overlap (FALSE)",
          "Bbox_Overlap (FALSE)",
          "Bbox_Overlap (FALSE)",
          "Bbox_Overlap (FALSE)",
          "Bbox_Overlap (FALSE)",
          "Bbox_Overlap (FALSE)",
          "Bbox_Overlap (FALSE)",
          "Bbox_Overlap (FALSE)",
          "Bbox_Overlap (FALSE)",
          "Bbox_Overlap (FALSE)",
          "Bbox_Overlap (FALSE)",
          "Bbox_Overlap (FALSE)",
          "Bbox_Overlap (FALSE)",
          "Bbox_Overlap (FALSE)",
          "Bbox_Overlap (FALSE)",
          "Bbox_Overlap (FALSE)",
          "Bbox_Overlap (FALSE)",
          "Bbox_Overlap (FALSE)",
          "Bbox_Overlap (FALSE)",
          "Bbox_Overlap (FALSE)",
          "Bbox_Overlap (FALSE)",
          "Bbox_Overlap (FALSE)",
          "Bbox_Overlap (FALSE)",
          "Bbox_Overlap (FALSE)",
          "Bbox_Overlap (FALSE)",
          "Bbox_Overlap (FALSE)",
          "Bbox_Overlap (FALSE)",
          "Bbox_Overlap (FALSE)",
          "Bbox_Overlap (FALSE)",
          "Bbox_Overlap (FALSE)",
          "Bbox_Overlap (FALSE)",
          "Bbox_Overlap (FALSE)",
          "Bbox_Overlap (FALSE)",
          "Bbox_Overlap (FALSE)",
          "Bbox_Overlap (FALSE)",
          "Bbox_Overlap (FALSE)",
          "Bbox_Overlap (FALSE)",
          "Bbox_Overlap (FALSE)",
          "Bbox_Overlap (FALSE)",
          "Bbox_Overlap (FALSE)",
          "Bbox_Overlap (FALSE)",
          "Bbox_Overlap (FALSE)",
          "Bbox_Overlap (FALSE)",
          "Bbox_Overlap (FALSE)",
          "Bbox_Overlap (FALSE)",
          "Bbox_Overlap (FALSE)",
          "Bbox_Overlap (FALSE)",
          "Bbox_Overlap (FALSE)",
          "Bbox_Overlap (FALSE)",
          "Bbox_Overlap (FALSE)",
          "Bbox_Overlap (FALSE)",
          "Bbox_Overlap (FALSE)",
          "Bbox_Overlap (FALSE)",
          "Bbox_Overlap (FALSE)",
          "Bbox_Overlap (FALSE)",
          "Bbox_Overlap (FALSE)",
          "Bbox_Overlap (FALSE)",
          "Bbox_Overlap (FALSE)",
          "Bbox_Overlap (FALSE)",
          "Bbox_Overlap (FALSE)",
          "Bbox_Overlap (FALSE)",
          "Bbox_Overlap (FALSE)",
          "Bbox_Overlap (FALSE)",
          "Bbox_Overlap (FALSE)",
          "Bbox_Overlap (FALSE)",
          "Bbox_Overlap (FALSE)",
          "Bbox_Overlap (FALSE)",
          "Bbox_Overlap (FALSE)",
          "Bbox_Partial_Overlap (TRUE)",
          "Bbox_Overlap (FALSE)",
          "Bbox_Partial_Overlap (TRUE)",
          "Bbox_Partial_Overlap (TRUE)",
          "Bbox_Overlap (FALSE)",
          "Bbox_Overlap (FALSE)",
          "Bbox_Overlap (FALSE)",
          "Bbox_Overlap (FALSE)",
          "Bbox_Overlap (FALSE)",
          "Bbox_Partial_Overlap (TRUE)",
          "Bbox_Overlap (FALSE)",
          "Bbox_Overlap (FALSE)",
          "Bbox_Overlap (FALSE)",
          "Bbox_Partial_Overlap (TRUE)",
          "Bbox_Partial_Overlap (TRUE)",
          "Bbox_Overlap (FALSE)",
          "Bbox_Partial_Overlap (TRUE)",
          "Bbox_Partial_Overlap (TRUE)",
          "Bbox_Partial_Overlap (TRUE)",
          "Bbox_Partial_Overlap (TRUE)",
          "Bbox_Partial_Overlap (TRUE)",
          "Bbox_Overlap (FALSE)",
          "Bbox_Partial_Overlap (TRUE)",
          "Bbox_Overlap (FALSE)",
          "Bbox_Overlap (FALSE)",
          "Bbox_Overlap (FALSE)",
          "Bbox_Overlap (FALSE)",
          "Bbox_Overlap (FALSE)",
          "Bbox_Partial_Overlap (TRUE)",
          "Bbox_Overlap (FALSE)",
          "Bbox_Overlap (FALSE)",
          "Bbox_Overlap (FALSE)",
          "Bbox_Overlap (FALSE)",
          "Bbox_Overlap (FALSE)",
          "Bbox_Overlap (FALSE)",
          "Bbox_Overlap (FALSE)",
          "Bbox_Overlap (FALSE)",
          "Bbox_Overlap (FALSE)",
          "Bbox_Overlap (FALSE)",
          "Bbox_Overlap (FALSE)",
          "Bbox_Overlap (FALSE)",
          "Bbox_Overlap (FALSE)",
          "Bbox_Overlap (FALSE)",
          "Bbox_Overlap (FALSE)",
          "Bbox_Overlap (FALSE)",
          "Bbox_Partial_Overlap (TRUE)",
          "Bbox_Overlap (FALSE)",
          "Bbox_Partial_Overlap (TRUE)",
          "Bbox_Partial_Overlap (TRUE)",
          "Bbox_Overlap (FALSE)"
         ],
         "xaxis": "x3",
         "y": [
          0.01258792400767561,
          0.010796870003105141,
          0.005775628000264987,
          0.002976767995278351,
          0.0077401630114763975,
          0.005554714996833354,
          0.00887241298914887,
          0.002345960005186498,
          0.002645765009219758,
          0.003150062999338843,
          0.0127350560069317,
          0.007491609008866362,
          0.008840538997901604,
          0.011115400004200637,
          0.005841520993271843,
          0.0025228330050595105,
          0.018814050999935716,
          0.02328017099353019,
          0.015178877001744695,
          0.007108453006367199,
          0.030080497002927586,
          0.013182392009184696,
          0.010913897000136785,
          0.011581465994822793,
          0.008213587003410794,
          0.007244125998113304,
          0.005370314989704639,
          0.0044223570002941415,
          0.004108820008696057,
          0.004012598001281731,
          0.0016030170081648976,
          0.0036093019880354404,
          0.008588941011112183,
          0.005151655990630388,
          0.004425545004778542,
          0.005695154992281459,
          0.007039898991934024,
          0.006718678007018752,
          0.01617368499864824,
          0.018131266988348216,
          0.005238886995357461,
          0.00450284501130227,
          0.01015024101070594,
          0.004454640002222732,
          0.01028822100488469,
          0.0032039360085036606,
          0.003615186011302285,
          0.008598765009082854,
          0.007155988001613878,
          0.0033504269958939403,
          0.008691119990544394,
          0.0060613650130108,
          0.009557234996464103,
          0.006519817994558252,
          0.005499560007592663,
          0.020854988004430197,
          0.0048540099960519,
          0.008886322000762448,
          0.011473264006781392,
          0.0054940330010140315,
          0.004848602999118157,
          0.008586604002630338,
          0.00600769798620604,
          0.007365548008237965,
          0.002811957005178556,
          0.002893593002227135,
          0.0029941270040581003,
          0.032097154995426536,
          0.013799031992675737,
          0.006561567992321216,
          0.007659808004973456,
          0.005993562997900881,
          0.012876237000455149,
          0.00563308599521406,
          0.009658995986683294,
          0.005979612004011869,
          0.004203492004307918,
          0.006440719997044653,
          0.004947334993630648,
          0.004057108992128633,
          0.007848524008295499,
          0.003224025000235997,
          0.012130352988606319,
          0.019016739999642596,
          0.007712107995757833,
          0.006045471003744751,
          0.0043824339954881,
          0.0119638119940646,
          0.005669952995958738,
          0.0445660989935277,
          0.02348109100421425,
          0.02366301100119017,
          0.07353576998866629,
          0.01781741200829856,
          0.015265434005414136,
          0.0014709840033901855,
          0.012570612991112284,
          0.0028577869961736724,
          0.01284686398867052,
          0.012521415992523544,
          0.0025355959951411933,
          0.0026621320139383897,
          0.003164540001307614,
          0.011386206009774469,
          0.005218320002313703,
          0.004860454995650798,
          0.004727947001811117,
          0.0047407700039912015,
          0.006420168007025495,
          0.013065108010778204,
          0.011562546991626732,
          0.01064475100429263,
          0.008895033999579027,
          0.012474900999222882,
          0.10129497200250626,
          0.038586984999710694,
          0.0985039160004817,
          0.005841292004333809,
          0.00594746699789539,
          0.008392429008381441,
          0.0016094750026240945,
          0.0015255110047291964,
          0.003179877996444702,
          0.003742147993762046,
          0.0031269320024875924,
          0.0015229490090860054,
          0.008483755998895504,
          0.008449548011412844,
          0.009729880999657325,
          0.008474891001242213,
          0.004630679992260411,
          0.005073849999462254,
          0.004440293996594846,
          0.0031271309999283403,
          0.0036422220000531524,
          0.015034773998195305,
          0.12016552498971578,
          0.0016189639864023775,
          0.0047864520020084456,
          0.008435854993877001,
          0.0034878279984695837,
          0.0035408880066825077,
          0.002051362011115998,
          0.002047549991402775,
          0.0038180170085979626,
          0.0038113819900900126,
          0.020034223998663947,
          0.00545514200348407,
          0.05933791000279598,
          0.012432341987732798,
          0.0052452730014920235,
          0.004065455010277219,
          0.00508607599476818,
          0.00949780800146982,
          0.006505964993266389,
          0.0024268720007967204,
          0.006712172005791217,
          0.00819883300573565,
          0.004479405994061381,
          0.003583671001251787,
          0.014233744994271547,
          0.010265895005431958,
          0.004022594002890401,
          0.003500411010463722,
          0.0034437790018273517,
          0.02061755298927892,
          0.004346875008195639,
          0.0034063639905070886,
          0.007598910000524484,
          0.010826486992300488,
          0.008731781999813393,
          0.007048904997645877,
          0.007986002994584851,
          0.008672531999764033,
          0.007293689996004105,
          0.00694763999490533,
          0.009600751000107266,
          0.008199278003303334,
          0.02231554000172764,
          0.008117082994431257,
          0.005032339002355002,
          0.005263497005216777,
          0.00510268600191921,
          0.00799133098917082,
          0.0027150059904670343,
          0.002466846999595873,
          0.0012700460065389052,
          0.003471301999525167,
          0.0028535449964692816,
          0.0013434519933070987,
          0.002379483004915528,
          0.002625053995870985,
          0.0017291949916398153,
          0.0021096750133438036,
          0.008145240004523657,
          0.002914183001848869,
          0.0033840949909063056,
          0.002919102000305429,
          0.003151159005938098,
          0.002744366996921599,
          0.0013242069981060922,
          0.002353174000745639,
          0.002481607996742241,
          0.0024629399995319545,
          0.002616908008349128,
          0.003011165012139827,
          0.0015994139976100996,
          0.0024257440090877935,
          0.002049624003120698,
          0.0012387530005071312,
          0.0019507700053509325,
          0.002558560998295434,
          0.0019637569930637255,
          0.00311957199301105,
          0.003787775000091642,
          0.0015700920048402622,
          0.0015895960095804185,
          0.001918993002618663,
          0.0017881189996842295,
          0.002249118988402188,
          0.0022548439883394167,
          0.002249191005830653,
          0.002906527995946817,
          0.001251067005796358,
          0.0019011849944945425,
          0.001900952003779821,
          0.0025012190017150715,
          0.0031758499972056597,
          0.0026245930057484657,
          0.0022575539915123954,
          0.003562030993634835,
          0.0020123120048083365,
          0.0037341499992180616,
          0.007919928000774235,
          0.007976895998581313
         ],
         "yaxis": "y3"
        },
        {
         "alignmentgroup": "True",
         "bingroup": "x",
         "histfunc": "avg",
         "hovertemplate": "baseline=True<br>sizes=Small_Large_Mixed<br>context=%{x}<br>avg of total_time=%{y}<extra></extra>",
         "legendgroup": "True",
         "marker": {
          "color": "#636efa",
          "pattern": {
           "shape": ""
          }
         },
         "name": "True",
         "offsetgroup": "True",
         "orientation": "v",
         "showlegend": false,
         "type": "histogram",
         "x": [
          "Bbox_Inside_Other (TRUE)",
          "Bbox_Inside_Other (TRUE)",
          "Bbox_Partial_Overlap (TRUE)",
          "Bbox_Partial_Overlap (TRUE)",
          "Bbox_Partial_Overlap (TRUE)",
          "Bbox_Partial_Overlap (TRUE)",
          "Bbox_Overlap (FALSE)",
          "Bbox_Partial_Overlap (TRUE)",
          "Bbox_Overlap (FALSE)",
          "Bbox_Overlap (FALSE)",
          "Bbox_Overlap (FALSE)",
          "Bbox_Overlap (FALSE)",
          "Bbox_Overlap (FALSE)",
          "Bbox_Overlap (FALSE)",
          "Bbox_Overlap (FALSE)",
          "Bbox_Partial_Overlap (TRUE)",
          "Bbox_Overlap (FALSE)",
          "Bbox_Overlap (FALSE)",
          "Bbox_Overlap (FALSE)",
          "Bbox_Partial_Overlap (TRUE)",
          "Bbox_Overlap (FALSE)",
          "Bbox_Overlap (FALSE)",
          "Bbox_Partial_Overlap (TRUE)",
          "Bbox_Partial_Overlap (TRUE)",
          "Bbox_Overlap (FALSE)",
          "Bbox_Partial_Overlap (TRUE)",
          "Bbox_Overlap (FALSE)",
          "Bbox_Partial_Overlap (TRUE)",
          "Bbox_Overlap (FALSE)",
          "Bbox_Overlap (FALSE)",
          "Bbox_Overlap (FALSE)",
          "Bbox_Overlap (FALSE)",
          "Bbox_Partial_Overlap (TRUE)",
          "Bbox_Partial_Overlap (TRUE)",
          "Bbox_Overlap (FALSE)",
          "Bbox_Overlap (FALSE)",
          "Bbox_Overlap (FALSE)",
          "Bbox_Overlap (FALSE)",
          "Bbox_Overlap (FALSE)",
          "Bbox_Overlap (FALSE)",
          "Bbox_Overlap (FALSE)",
          "Bbox_Overlap (FALSE)",
          "Bbox_Overlap (FALSE)",
          "Bbox_Overlap (FALSE)",
          "Bbox_Overlap (FALSE)",
          "Bbox_Overlap (FALSE)",
          "Bbox_Overlap (FALSE)",
          "Bbox_Overlap (FALSE)",
          "Bbox_Overlap (FALSE)",
          "Bbox_Overlap (FALSE)",
          "Bbox_Overlap (FALSE)",
          "Bbox_Overlap (FALSE)",
          "Bbox_Overlap (FALSE)",
          "Bbox_Overlap (FALSE)",
          "Bbox_Overlap (FALSE)",
          "Bbox_Overlap (FALSE)",
          "Bbox_Overlap (FALSE)",
          "Bbox_Overlap (FALSE)",
          "Bbox_Overlap (FALSE)",
          "Bbox_Overlap (FALSE)",
          "Bbox_Overlap (FALSE)",
          "Bbox_Overlap (FALSE)",
          "Bbox_Partial_Overlap (TRUE)",
          "Bbox_Partial_Overlap (TRUE)",
          "Bbox_Partial_Overlap (TRUE)",
          "Bbox_Overlap (FALSE)",
          "Bbox_Partial_Overlap (TRUE)",
          "Bbox_Overlap (FALSE)",
          "Bbox_Partial_Overlap (TRUE)",
          "Bbox_Partial_Overlap (TRUE)",
          "Bbox_Partial_Overlap (TRUE)",
          "Bbox_Partial_Overlap (TRUE)",
          "Bbox_Overlap (FALSE)",
          "Bbox_Overlap (FALSE)",
          "Bbox_Overlap (FALSE)",
          "Bbox_Overlap (FALSE)",
          "Bbox_Overlap (FALSE)",
          "Bbox_Overlap (FALSE)",
          "Bbox_Partial_Overlap (TRUE)",
          "Bbox_Overlap (FALSE)",
          "Bbox_Overlap (FALSE)",
          "Bbox_Overlap (FALSE)",
          "Bbox_Overlap (FALSE)",
          "Bbox_Partial_Overlap (TRUE)",
          "Bbox_Partial_Overlap (TRUE)",
          "Bbox_Partial_Overlap (TRUE)",
          "Bbox_Partial_Overlap (TRUE)",
          "Bbox_Partial_Overlap (TRUE)",
          "Bbox_Partial_Overlap (TRUE)",
          "Bbox_Overlap (FALSE)",
          "Bbox_Overlap (FALSE)",
          "Bbox_Overlap (FALSE)",
          "Bbox_Partial_Overlap (TRUE)",
          "Bbox_Partial_Overlap (TRUE)",
          "Bbox_Overlap (FALSE)",
          "Bbox_Partial_Overlap (TRUE)",
          "Bbox_Partial_Overlap (TRUE)",
          "Bbox_Overlap (FALSE)",
          "Bbox_Overlap (FALSE)",
          "Bbox_Partial_Overlap (TRUE)",
          "Bbox_Partial_Overlap (TRUE)",
          "Bbox_Overlap (FALSE)",
          "Bbox_Overlap (FALSE)",
          "Bbox_Partial_Overlap (TRUE)",
          "Bbox_Overlap (FALSE)",
          "Bbox_Overlap (FALSE)",
          "Bbox_Overlap (FALSE)",
          "Bbox_Overlap (FALSE)",
          "Bbox_Overlap (FALSE)",
          "Bbox_Partial_Overlap (TRUE)",
          "Bbox_Partial_Overlap (TRUE)",
          "Bbox_Partial_Overlap (TRUE)",
          "Bbox_Partial_Overlap (TRUE)",
          "Bbox_Overlap (FALSE)",
          "Bbox_Overlap (FALSE)",
          "Bbox_Partial_Overlap (TRUE)",
          "Bbox_Overlap (FALSE)",
          "Bbox_Partial_Overlap (TRUE)",
          "Bbox_Overlap (FALSE)",
          "Bbox_Overlap (FALSE)",
          "Bbox_Overlap (FALSE)",
          "Bbox_Overlap (FALSE)",
          "Bbox_Overlap (FALSE)",
          "Bbox_Overlap (FALSE)",
          "Bbox_Overlap (FALSE)",
          "Bbox_Overlap (FALSE)",
          "Bbox_Overlap (FALSE)",
          "Bbox_Partial_Overlap (TRUE)",
          "Bbox_Overlap (FALSE)",
          "Bbox_Overlap (FALSE)",
          "Bbox_Overlap (FALSE)",
          "Bbox_Overlap (FALSE)",
          "Bbox_Partial_Overlap (TRUE)",
          "Bbox_Overlap (FALSE)",
          "Bbox_Overlap (FALSE)",
          "Bbox_Overlap (FALSE)",
          "Bbox_Overlap (FALSE)",
          "Bbox_Overlap (FALSE)",
          "Bbox_Overlap (FALSE)",
          "Bbox_Overlap (FALSE)",
          "Bbox_Overlap (FALSE)",
          "Bbox_Overlap (FALSE)",
          "Bbox_Overlap (FALSE)",
          "Bbox_Overlap (FALSE)",
          "Bbox_Overlap (FALSE)",
          "Bbox_Overlap (FALSE)",
          "Bbox_Overlap (FALSE)",
          "Bbox_Overlap (FALSE)",
          "Bbox_Overlap (FALSE)",
          "Bbox_Overlap (FALSE)",
          "Bbox_Overlap (FALSE)",
          "Bbox_Partial_Overlap (TRUE)",
          "Bbox_Overlap (FALSE)",
          "Bbox_Overlap (FALSE)",
          "Bbox_Overlap (FALSE)",
          "Bbox_Overlap (FALSE)",
          "Bbox_Overlap (FALSE)",
          "Bbox_Overlap (FALSE)",
          "Bbox_Overlap (FALSE)",
          "Bbox_Overlap (FALSE)",
          "Bbox_Overlap (FALSE)",
          "Bbox_Overlap (FALSE)",
          "Bbox_Overlap (FALSE)",
          "Bbox_Partial_Overlap (TRUE)",
          "Bbox_Overlap (FALSE)",
          "Bbox_Overlap (FALSE)",
          "Bbox_Overlap (FALSE)",
          "Bbox_Partial_Overlap (TRUE)",
          "Bbox_Overlap (FALSE)",
          "Bbox_Overlap (FALSE)",
          "Bbox_Partial_Overlap (TRUE)",
          "Bbox_Overlap (FALSE)",
          "Bbox_Partial_Overlap (TRUE)",
          "Bbox_Overlap (FALSE)",
          "Bbox_Overlap (FALSE)",
          "Bbox_Overlap (FALSE)",
          "Bbox_Overlap (FALSE)",
          "Bbox_Overlap (FALSE)",
          "Bbox_Overlap (FALSE)",
          "Bbox_Overlap (FALSE)",
          "Bbox_Overlap (FALSE)",
          "Bbox_Overlap (FALSE)",
          "Bbox_Overlap (FALSE)",
          "Bbox_Overlap (FALSE)",
          "Bbox_Partial_Overlap (TRUE)",
          "Bbox_Overlap (FALSE)",
          "Bbox_Overlap (FALSE)",
          "Bbox_Partial_Overlap (TRUE)",
          "Bbox_Overlap (FALSE)",
          "Bbox_Overlap (FALSE)",
          "Bbox_Overlap (FALSE)",
          "Bbox_Overlap (FALSE)",
          "Bbox_Overlap (FALSE)",
          "Bbox_Partial_Overlap (TRUE)",
          "Bbox_Overlap (FALSE)",
          "Bbox_Overlap (FALSE)",
          "Bbox_Overlap (FALSE)",
          "Bbox_Overlap (FALSE)",
          "Bbox_Overlap (FALSE)",
          "Bbox_Overlap (FALSE)",
          "Bbox_Overlap (FALSE)",
          "Bbox_Overlap (FALSE)",
          "Bbox_Overlap (FALSE)",
          "Bbox_Overlap (FALSE)",
          "Bbox_Overlap (FALSE)",
          "Bbox_Overlap (FALSE)",
          "Bbox_Overlap (FALSE)",
          "Bbox_Overlap (FALSE)",
          "Bbox_Overlap (FALSE)",
          "Bbox_Overlap (FALSE)",
          "Bbox_Overlap (FALSE)",
          "Bbox_Overlap (FALSE)",
          "Bbox_Overlap (FALSE)",
          "Bbox_Overlap (FALSE)",
          "Bbox_Overlap (FALSE)",
          "Bbox_Overlap (FALSE)",
          "Bbox_Overlap (FALSE)",
          "Bbox_Overlap (FALSE)",
          "Bbox_Overlap (FALSE)",
          "Bbox_Overlap (FALSE)",
          "Bbox_Overlap (FALSE)",
          "Bbox_Overlap (FALSE)",
          "Bbox_Overlap (FALSE)",
          "Bbox_Overlap (FALSE)",
          "Bbox_Overlap (FALSE)",
          "Bbox_Overlap (FALSE)",
          "Bbox_Overlap (FALSE)",
          "Bbox_Partial_Overlap (TRUE)",
          "Bbox_Overlap (FALSE)",
          "Bbox_Overlap (FALSE)",
          "Bbox_Overlap (FALSE)",
          "Bbox_Overlap (FALSE)",
          "Bbox_Overlap (FALSE)",
          "Bbox_Overlap (FALSE)",
          "Bbox_Overlap (FALSE)",
          "Bbox_Overlap (FALSE)",
          "Bbox_Overlap (FALSE)",
          "Bbox_Overlap (FALSE)",
          "Bbox_Overlap (FALSE)",
          "Bbox_Overlap (FALSE)",
          "Bbox_Overlap (FALSE)",
          "Bbox_Overlap (FALSE)",
          "Bbox_Overlap (FALSE)",
          "Bbox_Overlap (FALSE)",
          "Bbox_Overlap (FALSE)",
          "Bbox_Overlap (FALSE)",
          "Bbox_Overlap (FALSE)",
          "Bbox_Overlap (FALSE)",
          "Bbox_Overlap (FALSE)",
          "Bbox_Overlap (FALSE)",
          "Bbox_Overlap (FALSE)",
          "Bbox_Overlap (FALSE)",
          "Bbox_Overlap (FALSE)",
          "Bbox_Overlap (FALSE)",
          "Bbox_Overlap (FALSE)",
          "Bbox_Overlap (FALSE)"
         ],
         "xaxis": "x4",
         "y": [
          0.0009734170016599819,
          0.0009938490111380816,
          0.0027119650039821863,
          0.0021974080009385943,
          0.002424755002721213,
          0.0017736860027071089,
          0.0015036609984235838,
          0.0022667250013910234,
          0.0004989480075892061,
          0.011181259993463755,
          0.0017200220027007163,
          0.0027231849962845445,
          0.0014880670059937984,
          0.0012463410093914717,
          0.0010828649974428117,
          0.0017238569998880848,
          0.0009930369997164235,
          0.0010875279986066744,
          0.0009329869935754687,
          0.001702478009974584,
          0.000956214003963396,
          0.0006107939989306033,
          0.0016964179958449677,
          0.002472141000907868,
          0.0019431880064075813,
          0.0033578919974388555,
          0.0011790900025516748,
          0.0016806409985292703,
          0.0018560729949967936,
          0.0012062180030625314,
          0.0017456909990869462,
          0.0016933789884205908,
          0.001263546000700444,
          0.0011770450073527172,
          0.0020765560038853437,
          0.001641381997615099,
          0.0020249639928806573,
          0.001716981001663953,
          0.0016825159982545301,
          0.002246515010483563,
          0.001546049999888055,
          0.0014349929988384247,
          0.0014398470084415749,
          0.0014325770025607198,
          0.0019686349987750873,
          0.0015004799934104085,
          0.0016193839983316138,
          0.0017700470052659512,
          0.0017398839991074055,
          0.0017193009989568964,
          0.0024048509949352592,
          0.0017441939999116585,
          0.001807826993172057,
          0.0021724560065194964,
          0.0017840030050138012,
          0.0018322440009796992,
          0.001548200991237536,
          0.0013639520038850605,
          0.002069654001388699,
          0.0010261100105708465,
          0.0010128410067409277,
          0.0012817509996239096,
          0.005996754000079818,
          0.008418425990385003,
          0.007586412990349345,
          0.0009760120010469109,
          0.0023615650134161115,
          0.001443941000616178,
          0.0066798829939216375,
          0.008073973003774881,
          0.006876558996737003,
          0.0011583739978959784,
          0.0011457450018497184,
          0.0011300180049147457,
          0.001096788007998839,
          0.001182405001600273,
          0.0012273190077394247,
          0.0013437860034173355,
          0.0022671580081805587,
          0.0015974690031725913,
          0.001548416999867186,
          0.001387848999002017,
          0.001047115001711063,
          0.0012018890120089054,
          0.001078007000614889,
          0.0009663200034992769,
          0.001450249008485116,
          0.001414839003700763,
          0.001088894990971312,
          0.0010011760023189709,
          0.0010306969925295562,
          0.0009837159886956215,
          0.0011356920003890991,
          0.0013393100089160725,
          0.001072972998372279,
          0.0011833919998025522,
          0.0011553380027180538,
          0.0006598540057893842,
          0.0008301850029965863,
          0.0011804350069724023,
          0.001447144997655414,
          0.0007455650047631934,
          0.0007503689994337037,
          0.0016643249982735142,
          0.0011985800083493814,
          0.0010663090070011094,
          0.0009584360086591914,
          0.0007421240006806329,
          0.0009564229985699058,
          0.0016456029989058152,
          0.0011523389985086396,
          0.0011583910090848804,
          0.001262056000996381,
          0.0010189290042035282,
          0.0010751160007202998,
          0.0009506230126135051,
          0.0010827280057128519,
          0.0025414279953110963,
          0.0015760239912196994,
          0.0008997520053526387,
          0.0016778389981482178,
          0.000983930003712885,
          0.001288115992792882,
          0.0012035139952786267,
          0.0012125599896535277,
          0.0009078360017156228,
          0.0011470430035842583,
          0.0015581640036543831,
          0.0010373039986006916,
          0.0011416930065024644,
          0.0012431029899744317,
          0.0011740469926735386,
          0.0015658610063837841,
          0.0016337749984813854,
          0.0018892009975388646,
          0.0014241890021366999,
          0.001384194998536259,
          0.0013114629982737824,
          0.0018154420104110613,
          0.0013684680016012862,
          0.0013817639992339537,
          0.0014258299925131723,
          0.0016053840081440285,
          0.0018830879998859018,
          0.0018223189981654286,
          0.0016213569906540215,
          0.002500408998457715,
          0.001813591006794013,
          0.0013388670049607754,
          0.0018871050124289468,
          0.0013746109907515347,
          0.0011924079881282523,
          0.0007467999967047945,
          0.000660096004139632,
          0.0007282750011654571,
          0.0009077089925995097,
          0.0008363800006918609,
          0.0008111450006254017,
          0.0008549710037186742,
          0.0008396869961870834,
          0.0013740920112468302,
          0.0008934989891713485,
          0.0007995170017238706,
          0.0013119760114932433,
          0.0017324350046692416,
          0.0014303339994512498,
          0.0017091909976443276,
          0.0016391030076192692,
          0.002280249012983404,
          0.0016868940001586452,
          0.0014674799895146862,
          0.0009949810046236962,
          0.002406647996394895,
          0.0019411410030443221,
          0.0019722889992408454,
          0.001977036998141557,
          0.0020567939936881885,
          0.0014895759959472343,
          0.001893774009658955,
          0.001968511991435662,
          0.0006711229943903163,
          0.0006538090092362836,
          0.0009584330109646544,
          0.00102438400790561,
          0.002259669010527432,
          0.0009594280127203092,
          0.0013342970050871372,
          0.003283343990915455,
          0.00315551899257116,
          0.003106460004346445,
          0.003105822004727088,
          0.0031119680061237887,
          0.003360618997248821,
          0.0034455310087651014,
          0.003894162000506185,
          0.004650923001463525,
          0.00428041499981191,
          0.0027462170110084116,
          0.0027222600037930533,
          0.0028123330121161416,
          0.0014334589941427112,
          0.0014193780079949647,
          0.0019031799893127754,
          0.001961011003004387,
          0.0019361939921509475,
          0.0019383780017960817,
          0.0019428639934631065,
          0.0018809689936460927,
          0.0018849019979825243,
          0.0019349140056874603,
          0.0027839870017487556,
          0.0024723940005060285,
          0.001990966993616894,
          0.0022631100000580773,
          0.0019297109975013882,
          0.0021677609911421314,
          0.0019513080042088404,
          0.002044244989519939,
          0.001959963992703706,
          0.0020011129963677377,
          0.002078229998005554,
          0.001964661991223693,
          0.0019288780022179708,
          0.0019371969974599779,
          0.002066853005089797,
          0.0019830240053124726,
          0.0019267709867563099,
          0.002179900009650737,
          0.002010733005590737,
          0.002571971999714151,
          0.002255557003081776,
          0.002204725009505637,
          0.0025342860026285052,
          0.00262020000081975,
          0.0024290779983857647,
          0.0019682499987538904,
          0.0028719620022457093,
          0.002556058010668494,
          0.002347291010664776,
          0.002644089996465482,
          0.0025768310006242245,
          0.002040118008153513,
          0.00192711700219661,
          0.0019474980072118342,
          0.00193318999663461,
          0.0019770229991991073,
          0.0019310369971208274,
          0.0020435810001799837,
          0.001934897998580709,
          0.00194015700253658,
          0.0020090489997528493,
          0.002062374012893997,
          0.0020766349916812032,
          0.0020401060028234497,
          0.0008536039968021214,
          0.0012980729952687398
         ],
         "yaxis": "y4"
        },
        {
         "alignmentgroup": "True",
         "bingroup": "x",
         "histfunc": "avg",
         "hovertemplate": "baseline=True<br>sizes=Medium_Large_Mixed<br>context=%{x}<br>avg of total_time=%{y}<extra></extra>",
         "legendgroup": "True",
         "marker": {
          "color": "#636efa",
          "pattern": {
           "shape": ""
          }
         },
         "name": "True",
         "offsetgroup": "True",
         "orientation": "v",
         "showlegend": false,
         "type": "histogram",
         "x": [
          "Bbox_Overlap (FALSE)",
          "Bbox_Overlap (FALSE)",
          "Bbox_Overlap (FALSE)",
          "Bbox_Overlap (FALSE)",
          "Bbox_Overlap (FALSE)",
          "Bbox_Overlap (FALSE)",
          "Bbox_Overlap (FALSE)",
          "Bbox_Overlap (FALSE)",
          "Bbox_Partial_Overlap (TRUE)",
          "Bbox_Partial_Overlap (TRUE)",
          "Bbox_Overlap (FALSE)",
          "Bbox_Partial_Overlap (TRUE)",
          "Bbox_Overlap (FALSE)",
          "Bbox_Overlap (FALSE)",
          "Bbox_Overlap (FALSE)",
          "Bbox_Partial_Overlap (TRUE)",
          "Bbox_Overlap (FALSE)",
          "Bbox_Overlap (FALSE)",
          "Bbox_Overlap (FALSE)",
          "Bbox_Overlap (FALSE)",
          "Bbox_Partial_Overlap (TRUE)",
          "Bbox_Partial_Overlap (TRUE)",
          "Bbox_Overlap (FALSE)",
          "Bbox_Partial_Overlap (TRUE)",
          "Bbox_Partial_Overlap (TRUE)",
          "Bbox_Overlap (FALSE)",
          "Bbox_Overlap (FALSE)",
          "Bbox_Overlap (FALSE)",
          "Bbox_Partial_Overlap (TRUE)",
          "Bbox_Partial_Overlap (TRUE)",
          "Bbox_Partial_Overlap (TRUE)",
          "Bbox_Overlap (FALSE)",
          "Bbox_Partial_Overlap (TRUE)",
          "Bbox_Partial_Overlap (TRUE)",
          "Bbox_Partial_Overlap (TRUE)",
          "Bbox_Overlap (FALSE)",
          "Bbox_Partial_Overlap (TRUE)",
          "Bbox_Overlap (FALSE)",
          "Bbox_Overlap (FALSE)",
          "Bbox_Overlap (FALSE)",
          "Bbox_Overlap (FALSE)",
          "Bbox_Overlap (FALSE)",
          "Bbox_Overlap (FALSE)",
          "Bbox_Overlap (FALSE)",
          "Bbox_Overlap (FALSE)",
          "Bbox_Overlap (FALSE)",
          "Bbox_Overlap (FALSE)",
          "Bbox_Overlap (FALSE)",
          "Bbox_Overlap (FALSE)",
          "Bbox_Overlap (FALSE)",
          "Bbox_Overlap (FALSE)",
          "Bbox_Overlap (FALSE)",
          "Bbox_Partial_Overlap (TRUE)",
          "Bbox_Partial_Overlap (TRUE)",
          "Bbox_Overlap (FALSE)",
          "Bbox_Overlap (FALSE)",
          "Bbox_Overlap (FALSE)",
          "Bbox_Overlap (FALSE)",
          "Bbox_Overlap (FALSE)",
          "Bbox_Overlap (FALSE)",
          "Bbox_Overlap (FALSE)",
          "Bbox_Overlap (FALSE)",
          "Bbox_Partial_Overlap (TRUE)",
          "Bbox_Overlap (FALSE)",
          "Bbox_Overlap (FALSE)",
          "Bbox_Overlap (FALSE)",
          "Bbox_Overlap (FALSE)",
          "Bbox_Overlap (FALSE)",
          "Bbox_Partial_Overlap (TRUE)",
          "Bbox_Partial_Overlap (TRUE)",
          "Bbox_Overlap (FALSE)",
          "Bbox_Overlap (FALSE)",
          "Bbox_Partial_Overlap (TRUE)",
          "Bbox_Overlap (FALSE)",
          "Bbox_Overlap (FALSE)",
          "Bbox_Overlap (FALSE)",
          "Bbox_Overlap (FALSE)",
          "Bbox_Overlap (FALSE)",
          "Bbox_Overlap (FALSE)",
          "Bbox_Overlap (FALSE)"
         ],
         "xaxis": "x5",
         "y": [
          0.008450078996247612,
          0.006883955997182056,
          0.007075247005559504,
          0.004023375004180707,
          0.0015098110015969723,
          0.007047338003758341,
          0.0033158419973915443,
          0.003226089000236243,
          0.0013984260003780946,
          0.0014247799990698695,
          0.0013612140028271824,
          0.001910302002215758,
          0.0019201899995096028,
          0.0019874150020768866,
          0.0023266979987965897,
          0.002050004986813292,
          0.0014447930007008836,
          0.0013804829941364005,
          0.0009024610044434667,
          0.0014483010018011555,
          0.0023424609971698374,
          0.0017058179946616292,
          0.0012692909949691966,
          0.0025696520024212077,
          0.0025725860032252967,
          0.001450304000172764,
          0.0012521700118668377,
          0.0019704010046552867,
          0.0013819070009049028,
          0.001946131989825517,
          0.0014203169994289055,
          0.0008992609946290031,
          0.001493162999395281,
          0.0014483099948847666,
          0.0012671930016949773,
          0.0010550519946264103,
          0.0018204679945483804,
          0.001086364994989708,
          0.0011931869958061725,
          0.0012168020039098337,
          0.00156363399582915,
          0.0019400890014367178,
          0.0010378189908806235,
          0.0012156699958723038,
          0.001217644996359013,
          0.0009058799914782867,
          0.0017407959967385978,
          0.0018669739947654307,
          0.0012021639995509759,
          0.0010916229948634282,
          0.0011967689933953807,
          0.0009619699994800612,
          0.002038540013018064,
          0.0018837310053640977,
          0.0013278169935801998,
          0.0010875270090764388,
          0.0012201659992570058,
          0.0015982219920260832,
          0.0014497910015052184,
          0.001662953000050038,
          0.0015658080083085224,
          0.0016069609991973266,
          0.0015611459966748953,
          0.002009399002417922,
          0.0010686589957913384,
          0.001047251993441023,
          0.0024615480069769546,
          0.0024899180134525523,
          0.0014501200057566166,
          0.001255184004548937,
          0.0014413780008908361,
          0.0013872609997633845,
          0.0038941800012253225,
          0.0015954789996612817,
          0.0025158080097753555,
          0.002175004003220238,
          0.0027825720026157796,
          0.0022917479946045205,
          0.002415920011117123,
          0.002200249000452459
         ],
         "yaxis": "y5"
        },
        {
         "alignmentgroup": "True",
         "bingroup": "x",
         "histfunc": "avg",
         "hovertemplate": "baseline=True<br>sizes=Medium<br>context=%{x}<br>avg of total_time=%{y}<extra></extra>",
         "legendgroup": "True",
         "marker": {
          "color": "#636efa",
          "pattern": {
           "shape": ""
          }
         },
         "name": "True",
         "offsetgroup": "True",
         "orientation": "v",
         "showlegend": false,
         "type": "histogram",
         "x": [
          "Bbox_Overlap (FALSE)",
          "Bbox_Overlap (FALSE)",
          "Bbox_Overlap (FALSE)",
          "Bbox_Partial_Overlap (TRUE)",
          "Bbox_Overlap (FALSE)",
          "Bbox_Partial_Overlap (TRUE)",
          "Bbox_Partial_Overlap (TRUE)",
          "Bbox_Overlap (FALSE)",
          "Bbox_Partial_Overlap (TRUE)",
          "Bbox_Partial_Overlap (TRUE)",
          "Bbox_Partial_Overlap (TRUE)",
          "Bbox_Partial_Overlap (TRUE)",
          "Bbox_Partial_Overlap (TRUE)",
          "Bbox_Partial_Overlap (TRUE)",
          "Bbox_Partial_Overlap (TRUE)",
          "Bbox_Overlap (FALSE)",
          "Bbox_Overlap (FALSE)",
          "Bbox_Overlap (FALSE)",
          "Bbox_Partial_Overlap (TRUE)",
          "Bbox_Overlap (FALSE)",
          "Bbox_Overlap (FALSE)",
          "Bbox_Partial_Overlap (TRUE)",
          "Bbox_Partial_Overlap (TRUE)",
          "Bbox_Overlap (FALSE)",
          "Bbox_Partial_Overlap (TRUE)",
          "Bbox_Overlap (FALSE)",
          "Bbox_Partial_Overlap (TRUE)"
         ],
         "xaxis": "x6",
         "y": [
          0.0011664589983411133,
          0.000755208995542489,
          0.0006209839921211824,
          0.0012367430026642978,
          0.0008929370087571442,
          0.0029847270052414387,
          0.0018337249930482358,
          0.0008841340022627264,
          0.0019800929876510054,
          0.003007602004799992,
          0.0019911490089725703,
          0.0015860900020925328,
          0.0010701040009735152,
          0.0015169339894782752,
          0.0010681309940991923,
          0.0006335220095934346,
          0.0006093419942772016,
          0.0006171909917611629,
          0.0011946390004595742,
          0.0007687909965170547,
          0.000764028009143658,
          0.0011108990001957864,
          0.0011360329954186454,
          0.0006005040049785748,
          0.001862568999058567,
          0.0007147870055632666,
          0.0010162219987250865
         ],
         "yaxis": "y6"
        },
        {
         "alignmentgroup": "True",
         "bingroup": "x",
         "histfunc": "avg",
         "hovertemplate": "baseline=False<br>sizes=Small<br>context=%{x}<br>avg of total_time=%{y}<extra></extra>",
         "legendgroup": "False",
         "marker": {
          "color": "#EF553B",
          "pattern": {
           "shape": ""
          }
         },
         "name": "False",
         "offsetgroup": "False",
         "orientation": "v",
         "showlegend": true,
         "type": "histogram",
         "x": [
          "Bbox_Overlap (FALSE)",
          "Bbox_Partial_Overlap (TRUE)",
          "Bbox_Inside_Other (TRUE)",
          "Bbox_Overlap (FALSE)",
          "Bbox_Partial_Overlap (TRUE)",
          "Bbox_Partial_Overlap (TRUE)",
          "Bbox_Partial_Overlap (TRUE)",
          "Bbox_Partial_Overlap (TRUE)",
          "Bbox_Partial_Overlap (TRUE)",
          "Bbox_Partial_Overlap (TRUE)",
          "Bbox_Partial_Overlap (TRUE)",
          "Bbox_Overlap (FALSE)",
          "Bbox_Overlap (FALSE)",
          "Bbox_Partial_Overlap (TRUE)",
          "Bbox_Partial_Overlap (TRUE)",
          "Bbox_Inside_Other (TRUE)",
          "Bbox_Inside_Other (TRUE)",
          "Bbox_Partial_Overlap (TRUE)",
          "Bbox_Partial_Overlap (TRUE)",
          "Bbox_Partial_Overlap (TRUE)",
          "Bbox_Partial_Overlap (TRUE)",
          "Bbox_Partial_Overlap (TRUE)",
          "Bbox_Partial_Overlap (TRUE)",
          "Bbox_Overlap (FALSE)",
          "Bbox_Overlap (FALSE)",
          "Bbox_Overlap (FALSE)",
          "Bbox_Inside_Other (TRUE)",
          "Bbox_Partial_Overlap (TRUE)",
          "Bbox_Overlap (FALSE)",
          "Bbox_Overlap (FALSE)",
          "Bbox_Overlap (FALSE)",
          "Bbox_Overlap (FALSE)",
          "Bbox_Overlap (FALSE)",
          "Bbox_Overlap (FALSE)",
          "Bbox_Overlap (FALSE)",
          "Bbox_Overlap (FALSE)",
          "Bbox_Overlap (FALSE)",
          "Bbox_Overlap (FALSE)",
          "Bbox_Overlap (FALSE)",
          "Bbox_Overlap (FALSE)",
          "Bbox_Overlap (FALSE)",
          "Bbox_Overlap (FALSE)",
          "Bbox_Overlap (FALSE)",
          "Bbox_Overlap (FALSE)",
          "Bbox_Overlap (FALSE)",
          "Bbox_Overlap (FALSE)",
          "Bbox_Overlap (FALSE)",
          "Bbox_Overlap (FALSE)",
          "Bbox_Overlap (FALSE)",
          "Bbox_Overlap (FALSE)",
          "Bbox_Overlap (FALSE)",
          "Bbox_Overlap (FALSE)",
          "Bbox_Overlap (FALSE)",
          "Bbox_Overlap (FALSE)",
          "Bbox_Overlap (FALSE)",
          "Bbox_Overlap (FALSE)",
          "Bbox_Overlap (FALSE)",
          "Bbox_Overlap (FALSE)",
          "Bbox_Overlap (FALSE)",
          "Bbox_Overlap (FALSE)",
          "Bbox_Overlap (FALSE)",
          "Bbox_Overlap (FALSE)",
          "Bbox_Overlap (FALSE)",
          "Bbox_Overlap (FALSE)",
          "Bbox_Overlap (FALSE)",
          "Bbox_Overlap (FALSE)",
          "Bbox_Overlap (FALSE)",
          "Bbox_Overlap (FALSE)",
          "Bbox_Overlap (FALSE)",
          "Bbox_Overlap (FALSE)",
          "Bbox_Overlap (FALSE)",
          "Bbox_Overlap (FALSE)",
          "Bbox_Overlap (FALSE)",
          "Bbox_Overlap (FALSE)",
          "Bbox_Overlap (FALSE)",
          "Bbox_Overlap (FALSE)",
          "Bbox_Overlap (FALSE)",
          "Bbox_Overlap (FALSE)",
          "Bbox_Overlap (FALSE)",
          "Bbox_Overlap (FALSE)",
          "Bbox_Overlap (FALSE)",
          "Bbox_Overlap (FALSE)",
          "Bbox_Overlap (FALSE)",
          "Bbox_Overlap (FALSE)",
          "Bbox_Overlap (FALSE)",
          "Bbox_Overlap (FALSE)",
          "Bbox_Overlap (FALSE)",
          "Bbox_Overlap (FALSE)",
          "Bbox_Overlap (FALSE)",
          "Bbox_Overlap (FALSE)",
          "Bbox_Overlap (FALSE)",
          "Bbox_Overlap (FALSE)",
          "Bbox_Overlap (FALSE)",
          "Bbox_Overlap (FALSE)",
          "Bbox_Partial_Overlap (TRUE)",
          "Bbox_Overlap (FALSE)",
          "Bbox_Overlap (FALSE)",
          "Bbox_Overlap (FALSE)",
          "Bbox_Overlap (FALSE)",
          "Bbox_Overlap (FALSE)",
          "Bbox_Overlap (FALSE)",
          "Bbox_Overlap (FALSE)",
          "Bbox_Overlap (FALSE)",
          "Bbox_Overlap (FALSE)",
          "Bbox_Overlap (FALSE)",
          "Bbox_Overlap (FALSE)",
          "Bbox_Overlap (FALSE)",
          "Bbox_Overlap (FALSE)",
          "Bbox_Overlap (FALSE)",
          "Bbox_Overlap (FALSE)",
          "Bbox_Overlap (FALSE)",
          "Bbox_Overlap (FALSE)",
          "Bbox_Overlap (FALSE)",
          "Bbox_Overlap (FALSE)",
          "Bbox_Partial_Overlap (TRUE)",
          "Bbox_Partial_Overlap (TRUE)",
          "Bbox_Partial_Overlap (TRUE)",
          "Bbox_Partial_Overlap (TRUE)",
          "Bbox_Partial_Overlap (TRUE)",
          "Bbox_Partial_Overlap (TRUE)",
          "Bbox_Partial_Overlap (TRUE)",
          "Bbox_Partial_Overlap (TRUE)",
          "Bbox_Overlap (FALSE)",
          "Bbox_Partial_Overlap (TRUE)",
          "Bbox_Partial_Overlap (TRUE)",
          "Bbox_Partial_Overlap (TRUE)",
          "Bbox_Overlap (FALSE)",
          "Bbox_Overlap (FALSE)",
          "Bbox_Partial_Overlap (TRUE)",
          "Bbox_Partial_Overlap (TRUE)",
          "Bbox_Overlap (FALSE)",
          "Bbox_Partial_Overlap (TRUE)",
          "Bbox_Partial_Overlap (TRUE)",
          "Bbox_Partial_Overlap (TRUE)",
          "Bbox_Overlap (FALSE)",
          "Bbox_Overlap (FALSE)",
          "Bbox_Overlap (FALSE)",
          "Bbox_Partial_Overlap (TRUE)",
          "Bbox_Partial_Overlap (TRUE)",
          "Bbox_Partial_Overlap (TRUE)",
          "Bbox_Partial_Overlap (TRUE)",
          "Bbox_Partial_Overlap (TRUE)",
          "Bbox_Partial_Overlap (TRUE)",
          "Bbox_Overlap (FALSE)",
          "Bbox_Overlap (FALSE)",
          "Bbox_Overlap (FALSE)",
          "Bbox_Overlap (FALSE)",
          "Bbox_Overlap (FALSE)",
          "Bbox_Overlap (FALSE)",
          "Bbox_Partial_Overlap (TRUE)",
          "Bbox_Partial_Overlap (TRUE)",
          "Bbox_Overlap (FALSE)",
          "Bbox_Partial_Overlap (TRUE)",
          "Bbox_Partial_Overlap (TRUE)",
          "Bbox_Partial_Overlap (TRUE)",
          "Bbox_Partial_Overlap (TRUE)",
          "Bbox_Overlap (FALSE)",
          "Bbox_Partial_Overlap (TRUE)",
          "Bbox_Partial_Overlap (TRUE)",
          "Bbox_Partial_Overlap (TRUE)",
          "Bbox_Partial_Overlap (TRUE)",
          "Bbox_Partial_Overlap (TRUE)",
          "Bbox_Partial_Overlap (TRUE)",
          "Bbox_Partial_Overlap (TRUE)",
          "Bbox_Partial_Overlap (TRUE)",
          "Bbox_Partial_Overlap (TRUE)",
          "Bbox_Partial_Overlap (TRUE)",
          "Bbox_Partial_Overlap (TRUE)",
          "Bbox_Partial_Overlap (TRUE)",
          "Bbox_Partial_Overlap (TRUE)",
          "Bbox_Partial_Overlap (TRUE)",
          "Bbox_Partial_Overlap (TRUE)",
          "Bbox_Partial_Overlap (TRUE)",
          "Bbox_Partial_Overlap (TRUE)",
          "Bbox_Partial_Overlap (TRUE)",
          "Bbox_Partial_Overlap (TRUE)",
          "Bbox_Partial_Overlap (TRUE)",
          "Bbox_Partial_Overlap (TRUE)",
          "Bbox_Partial_Overlap (TRUE)",
          "Bbox_Partial_Overlap (TRUE)",
          "Bbox_Overlap (FALSE)",
          "Bbox_Overlap (FALSE)",
          "Bbox_Partial_Overlap (TRUE)",
          "Bbox_Overlap (FALSE)",
          "Bbox_Partial_Overlap (TRUE)",
          "Bbox_Overlap (FALSE)",
          "Bbox_Partial_Overlap (TRUE)",
          "Bbox_Partial_Overlap (TRUE)",
          "Bbox_Partial_Overlap (TRUE)",
          "Bbox_Partial_Overlap (TRUE)",
          "Bbox_Partial_Overlap (TRUE)",
          "Bbox_Partial_Overlap (TRUE)",
          "Bbox_Overlap (FALSE)",
          "Bbox_Partial_Overlap (TRUE)",
          "Bbox_Partial_Overlap (TRUE)",
          "Bbox_Partial_Overlap (TRUE)",
          "Bbox_Partial_Overlap (TRUE)",
          "Bbox_Partial_Overlap (TRUE)",
          "Bbox_Partial_Overlap (TRUE)",
          "Bbox_Partial_Overlap (TRUE)",
          "Bbox_Overlap (FALSE)",
          "Bbox_Partial_Overlap (TRUE)",
          "Bbox_Partial_Overlap (TRUE)",
          "Bbox_Partial_Overlap (TRUE)",
          "Bbox_Overlap (FALSE)",
          "Bbox_Overlap (FALSE)",
          "Bbox_Overlap (FALSE)",
          "Bbox_Overlap (FALSE)",
          "Bbox_Partial_Overlap (TRUE)",
          "Bbox_Partial_Overlap (TRUE)",
          "Bbox_Partial_Overlap (TRUE)",
          "Bbox_Partial_Overlap (TRUE)",
          "Bbox_Partial_Overlap (TRUE)",
          "Bbox_Partial_Overlap (TRUE)",
          "Bbox_Partial_Overlap (TRUE)",
          "Bbox_Partial_Overlap (TRUE)",
          "Bbox_Partial_Overlap (TRUE)",
          "Bbox_Partial_Overlap (TRUE)",
          "Bbox_Partial_Overlap (TRUE)",
          "Bbox_Overlap (FALSE)",
          "Bbox_Partial_Overlap (TRUE)",
          "Bbox_Partial_Overlap (TRUE)",
          "Bbox_Overlap (FALSE)",
          "Bbox_Overlap (FALSE)",
          "Bbox_Overlap (FALSE)",
          "Bbox_Partial_Overlap (TRUE)",
          "Bbox_Overlap (FALSE)",
          "Bbox_Overlap (FALSE)",
          "Bbox_Overlap (FALSE)",
          "Bbox_Partial_Overlap (TRUE)",
          "Bbox_Overlap (FALSE)",
          "Bbox_Overlap (FALSE)",
          "Bbox_Partial_Overlap (TRUE)",
          "Bbox_Partial_Overlap (TRUE)",
          "Bbox_Overlap (FALSE)",
          "Bbox_Partial_Overlap (TRUE)",
          "Bbox_Partial_Overlap (TRUE)",
          "Bbox_Overlap (FALSE)",
          "Bbox_Partial_Overlap (TRUE)",
          "Bbox_Partial_Overlap (TRUE)",
          "Bbox_Partial_Overlap (TRUE)",
          "Bbox_Partial_Overlap (TRUE)",
          "Bbox_Overlap (FALSE)",
          "Bbox_Partial_Overlap (TRUE)",
          "Bbox_Partial_Overlap (TRUE)",
          "Bbox_Overlap (FALSE)",
          "Bbox_Overlap (FALSE)",
          "Bbox_Overlap (FALSE)",
          "Bbox_Partial_Overlap (TRUE)",
          "Bbox_Overlap (FALSE)",
          "Bbox_Partial_Overlap (TRUE)",
          "Bbox_Partial_Overlap (TRUE)",
          "Bbox_Partial_Overlap (TRUE)",
          "Bbox_Partial_Overlap (TRUE)",
          "Bbox_Partial_Overlap (TRUE)",
          "Bbox_Partial_Overlap (TRUE)",
          "Bbox_Partial_Overlap (TRUE)",
          "Bbox_Partial_Overlap (TRUE)",
          "Bbox_Overlap (FALSE)",
          "Bbox_Overlap (FALSE)",
          "Bbox_Partial_Overlap (TRUE)",
          "Bbox_Partial_Overlap (TRUE)",
          "Bbox_Partial_Overlap (TRUE)",
          "Bbox_Partial_Overlap (TRUE)",
          "Bbox_Partial_Overlap (TRUE)",
          "Bbox_Partial_Overlap (TRUE)",
          "Bbox_Partial_Overlap (TRUE)",
          "Bbox_Partial_Overlap (TRUE)",
          "Bbox_Partial_Overlap (TRUE)",
          "Bbox_Partial_Overlap (TRUE)",
          "Bbox_Partial_Overlap (TRUE)",
          "Bbox_Partial_Overlap (TRUE)",
          "Bbox_Partial_Overlap (TRUE)",
          "Bbox_Partial_Overlap (TRUE)",
          "Bbox_Overlap (FALSE)",
          "Bbox_Overlap (FALSE)",
          "Bbox_Partial_Overlap (TRUE)",
          "Bbox_Partial_Overlap (TRUE)",
          "Bbox_Overlap (FALSE)",
          "Bbox_Partial_Overlap (TRUE)",
          "Bbox_Partial_Overlap (TRUE)",
          "Bbox_Overlap (FALSE)",
          "Bbox_Partial_Overlap (TRUE)",
          "Bbox_Partial_Overlap (TRUE)",
          "Bbox_Partial_Overlap (TRUE)",
          "Bbox_Partial_Overlap (TRUE)",
          "Bbox_Partial_Overlap (TRUE)",
          "Bbox_Partial_Overlap (TRUE)",
          "Bbox_Overlap (FALSE)",
          "Bbox_Partial_Overlap (TRUE)",
          "Bbox_Partial_Overlap (TRUE)",
          "Bbox_Partial_Overlap (TRUE)",
          "Bbox_Partial_Overlap (TRUE)",
          "Bbox_Partial_Overlap (TRUE)",
          "Bbox_Partial_Overlap (TRUE)",
          "Bbox_Partial_Overlap (TRUE)",
          "Bbox_Partial_Overlap (TRUE)",
          "Bbox_Partial_Overlap (TRUE)",
          "Bbox_Partial_Overlap (TRUE)",
          "Bbox_Partial_Overlap (TRUE)",
          "Bbox_Partial_Overlap (TRUE)",
          "Bbox_Partial_Overlap (TRUE)",
          "Bbox_Partial_Overlap (TRUE)",
          "Bbox_Partial_Overlap (TRUE)",
          "Bbox_Partial_Overlap (TRUE)",
          "Bbox_Partial_Overlap (TRUE)",
          "Bbox_Partial_Overlap (TRUE)",
          "Bbox_Partial_Overlap (TRUE)",
          "Bbox_Partial_Overlap (TRUE)",
          "Bbox_Partial_Overlap (TRUE)",
          "Bbox_Partial_Overlap (TRUE)",
          "Bbox_Partial_Overlap (TRUE)",
          "Bbox_Partial_Overlap (TRUE)",
          "Bbox_Partial_Overlap (TRUE)",
          "Bbox_Partial_Overlap (TRUE)",
          "Bbox_Partial_Overlap (TRUE)",
          "Bbox_Partial_Overlap (TRUE)",
          "Bbox_Partial_Overlap (TRUE)",
          "Bbox_Partial_Overlap (TRUE)",
          "Bbox_Partial_Overlap (TRUE)",
          "Bbox_Partial_Overlap (TRUE)",
          "Bbox_Partial_Overlap (TRUE)",
          "Bbox_Partial_Overlap (TRUE)",
          "Bbox_Partial_Overlap (TRUE)",
          "Bbox_Partial_Overlap (TRUE)",
          "Bbox_Partial_Overlap (TRUE)",
          "Bbox_Partial_Overlap (TRUE)",
          "Bbox_Overlap (FALSE)",
          "Bbox_Partial_Overlap (TRUE)",
          "Bbox_Partial_Overlap (TRUE)",
          "Bbox_Partial_Overlap (TRUE)",
          "Bbox_Partial_Overlap (TRUE)",
          "Bbox_Partial_Overlap (TRUE)",
          "Bbox_Overlap (FALSE)",
          "Bbox_Overlap (FALSE)",
          "Bbox_Partial_Overlap (TRUE)",
          "Bbox_Overlap (FALSE)",
          "Bbox_Overlap (FALSE)",
          "Bbox_Partial_Overlap (TRUE)",
          "Bbox_Partial_Overlap (TRUE)"
         ],
         "xaxis": "x",
         "y": [
          0.00026273100229445845,
          0.001107129006413743,
          0.0005082110001239926,
          0.000025640008971095085,
          0.001156007987447083,
          0.0011510859912959859,
          0.0016555199981667101,
          0.003363034993526526,
          0.00432589600677602,
          0.004710957000497729,
          0.005488620008691214,
          0.00036591799289453775,
          0.0003620229981606826,
          0.0016617600049357861,
          0.0016454069991596043,
          0.000545535993296653,
          0.0005259489989839494,
          0.0004112190072191879,
          0.00041211901407223195,
          0.0032874409953365102,
          0.0032819339976413175,
          0.0076352329924702644,
          0.006943863001652062,
          0.0003541410114848986,
          0.00036016100784763694,
          0.00026240499573759735,
          0.00040144399099517614,
          0.0002843789989128709,
          0.00019003199122380465,
          0.00019089100533165038,
          0.00018749899754766375,
          0.00019097700715065002,
          0.00019298998813610524,
          0.00019301001157145947,
          0.00019406000501476228,
          0.00019345599866937846,
          0.0002860169915948063,
          0.00019297099788673222,
          0.0002889729948947206,
          0.0001919310016091913,
          0.00021905200264882296,
          0.0002080730046145618,
          0.00022049600374884903,
          0.0002095480012940243,
          0.00021077999554108828,
          0.00020855499315075576,
          0.00021358499361667782,
          0.00021156399452593178,
          0.00020833501184824854,
          0.00021135700808372349,
          0.00021212099818512797,
          0.00022793799871578813,
          0.00021649300470016897,
          0.0004976019990863279,
          0.0002135239919880405,
          0.00021368099260143936,
          0.00021381200349424034,
          0.00021074801043141633,
          0.00021871300123166293,
          0.00021338100486900657,
          0.0002197920111939311,
          0.00023604500165674835,
          0.000544078997336328,
          0.00021408300381153822,
          0.00021795000066049397,
          0.00023740099277347326,
          0.00021041001309640706,
          0.0003224030078854412,
          0.0002596989943413064,
          0.00035095900238957256,
          0.00033927800541277975,
          0.00021740800002589822,
          0.0002607810019981116,
          0.00021573899721261114,
          0.00023054899065755308,
          0.0002456520014675334,
          0.0003167799877701327,
          0.00021897700207773596,
          0.0002386069972999394,
          0.0002539959968999028,
          0.00025321800785604864,
          0.00023054399935062975,
          0.00024708500131964684,
          0.0002603879984235391,
          0.0002168020000681281,
          0.00023993599461391568,
          0.00022372600506059825,
          0.00020501800463534892,
          0.0002878039958886802,
          0.00022660999093204737,
          0.00021552000544033945,
          0.00021594999998342246,
          0.00021160399774089456,
          0.00022025899670552462,
          0.0005872670008102432,
          0.00026224300381727517,
          0.00022576599440071732,
          0.0002583760069683194,
          0.0002610140072647482,
          0.0002934600051958114,
          0.00024083600146695971,
          0.00022538600023835897,
          0.0002119959972333163,
          0.00021137000294402242,
          0.000221538997720927,
          0.00020994499209336936,
          0.00022402600734494627,
          0.0002419299999019131,
          0.00021798200032208115,
          0.000205285003175959,
          0.0002045620058197528,
          0.00020882399985566735,
          0.00035701900196727365,
          0.0002893409982789308,
          0.0005844400002388284,
          0.0005995579995214939,
          0.0004411749978316948,
          0.00043074200220871717,
          0.0004359919985290617,
          0.0006194700108608231,
          0.0007259859994519502,
          0.0007200990075943992,
          0.00026635998801793903,
          0.001405773000442423,
          0.0012762510013999417,
          0.0012695350014837459,
          0.00030369100568350405,
          0.00028666399884968996,
          0.0004868239921052009,
          0.00042626399954315275,
          0.00030826599686406553,
          0.0006201590003911406,
          0.0005007750005461276,
          0.000633827003184706,
          0.0005373620078898966,
          0.0007226549932966009,
          0.000437620998127386,
          0.0007074910099618137,
          0.000774339001509361,
          0.0006486389902420342,
          0.00044734901166521013,
          0.0004148360021645203,
          0.0006149530090624467,
          0.00025490000552963465,
          0.00024766099522821605,
          0.00023344399232883006,
          0.00023625600442755967,
          0.00026171600620727986,
          0.00026032999448943883,
          0.0007901670032879338,
          0.0012266750127309933,
          0.00041039299685508013,
          0.0006358259997796267,
          0.0010618460073601454,
          0.0010478959884494543,
          0.0009108090016525239,
          0.0003110350080532953,
          0.0005000110104447231,
          0.0007046469982014969,
          0.0007224410073831677,
          0.0004708909982582554,
          0.0004973070026608184,
          0.0012452789960661903,
          0.0017468160076532513,
          0.0005140989960636944,
          0.00048483700084034353,
          0.0007524899992858991,
          0.0006456269911723211,
          0.000411729997722432,
          0.0003988270036643371,
          0.00044863899529445916,
          0.0006453810055973008,
          0.0006806639867136255,
          0.0004707549960585311,
          0.0005439309898065403,
          0.0007546999986516312,
          0.0006820350099587813,
          0.0007484330126317218,
          0.0004754149995278567,
          0.0005590189975919202,
          0.0002478379901731387,
          0.00024380799732171,
          0.00042220800241921097,
          0.0002588619972812012,
          0.0004299489955883473,
          0.0002945660089608282,
          0.0006106229993747547,
          0.0007041220087558031,
          0.0007155510102165863,
          0.0006298980006249622,
          0.0006265060073928908,
          0.0006024119938956574,
          0.00006046998896636069,
          0.0005096709937788546,
          0.0006559070025105029,
          0.00044455399620346725,
          0.0005548469925997779,
          0.0004056879988638684,
          0.00047700600407551974,
          0.0006993290007812902,
          0.0006084079941501841,
          0.0008151700021699071,
          0.0008010750025277957,
          0.0006840370042482391,
          0.00028292300703469664,
          0.00028798099083360285,
          0.0003678520006360486,
          0.00037238499498926103,
          0.0005431189929367974,
          0.0004966660053469241,
          0.00045037100790068507,
          0.000686906001647003,
          0.00044446400715969503,
          0.00044288499339018017,
          0.0005465370049932972,
          0.0005574699898716062,
          0.0008131530048558488,
          0.0008155670075211674,
          0.000910946007934399,
          0.00024226499954238534,
          0.0004881009954260662,
          0.0006047200004104525,
          0.00029661200824193656,
          0.00028690899489447474,
          0.0003515760035952553,
          0.0005083819996798411,
          0.00022270699264481664,
          0.0002220699971076101,
          0.00037981900095473975,
          0.0007849060057196766,
          0.0002738510083872825,
          0.000326816996675916,
          0.000683133999700658,
          0.0006716180068906397,
          0.00027330199372954667,
          0.0006088209920562804,
          0.0006021169974701479,
          0.0003167340037180111,
          0.000678031996358186,
          0.0004848849930567667,
          0.0006639410130446777,
          0.00048044299182947725,
          0.0006136659940239042,
          0.0005072019994258881,
          0.0004589259915519506,
          0.000277101993560791,
          0.00028533600561786443,
          0.00028294599906075746,
          0.0006420639983844012,
          0.00024305999977514148,
          0.001586456986842677,
          0.0016695040103513747,
          0.0016617689980193973,
          0.0021616970043396577,
          0.0021529739897232503,
          0.0007274389936355874,
          0.001299134994042106,
          0.0008097770041786134,
          0.000320107996230945,
          0.000057769997511059046,
          0.0008283579954877496,
          0.0017038740043062717,
          0.0005697770102415234,
          0.0011788870033342391,
          0.00048063100257422775,
          0.0005538740078918636,
          0.0006839709967607632,
          0.0008739999902900308,
          0.0008710349939065054,
          0.0006499230075860396,
          0.0006188150000525638,
          0.0006163360085338354,
          0.00041343401244375855,
          0.0004122399986954406,
          0.00020590699568856508,
          0.00020457500068005174,
          0.00042205599311273545,
          0.0004335429985076189,
          0.00021561900211963803,
          0.0005222970066824928,
          0.000443377997726202,
          0.00022100900241639465,
          0.00044001700007356703,
          0.0004511599981924519,
          0.0004660070117097348,
          0.0006240079965209588,
          0.0006285650015342981,
          0.0004301550070522353,
          0.0002103099977830425,
          0.0012700119987130165,
          0.000708313993527554,
          0.0009127140074269846,
          0.0009157650056295097,
          0.0005383779935073107,
          0.0005329339910531417,
          0.00044365800567902625,
          0.0004847920063184574,
          0.000471307008410804,
          0.00047335300769191235,
          0.0005657199944835156,
          0.0005768050032202154,
          0.0004059029888594523,
          0.0005103620060253888,
          0.0005318410112522542,
          0.0005235549906501547,
          0.001215422002132982,
          0.0006391819915734231,
          0.0006601630011573434,
          0.0015728650032542646,
          0.0007004609942669049,
          0.0006139559991424903,
          0.0006211529980646446,
          0.0007760320004308596,
          0.0007778690051054582,
          0.000700300995958969,
          0.0006419659912353382,
          0.000710300009814091,
          0.0007092940068105236,
          0.0006329970055958256,
          0.0006275630003074184,
          0.0006160699995234609,
          0.0006476979906437919,
          0.0008146930049406365,
          0.0008041710098041221,
          0.0006965520005906001,
          0.0009438510023755953,
          0.0006819340051151812,
          0.0004108669963898137,
          0.0009449030039831996,
          0.0003030869993381202,
          0.00041059400246012956,
          0.00043742399429902434,
          0.000359305995516479,
          0.00022196599456947297,
          0.00022773000819142908,
          0.00035956599458586425,
          0.00005447800504043698,
          0.00010899599874392152,
          0.0002849279990186915,
          0.0002889299939852208
         ],
         "yaxis": "y"
        },
        {
         "alignmentgroup": "True",
         "bingroup": "x",
         "histfunc": "avg",
         "hovertemplate": "baseline=False<br>sizes=Small_Medium_Mixed<br>context=%{x}<br>avg of total_time=%{y}<extra></extra>",
         "legendgroup": "False",
         "marker": {
          "color": "#EF553B",
          "pattern": {
           "shape": ""
          }
         },
         "name": "False",
         "offsetgroup": "False",
         "orientation": "v",
         "showlegend": false,
         "type": "histogram",
         "x": [
          "Bbox_Partial_Overlap (TRUE)",
          "Bbox_Partial_Overlap (TRUE)",
          "Bbox_Partial_Overlap (TRUE)",
          "Bbox_Partial_Overlap (TRUE)",
          "Bbox_Overlap (FALSE)",
          "Bbox_Overlap (FALSE)",
          "Bbox_Overlap (FALSE)",
          "Bbox_Overlap (FALSE)",
          "Bbox_Partial_Overlap (TRUE)",
          "Bbox_Overlap (FALSE)",
          "Bbox_Overlap (FALSE)",
          "Bbox_Overlap (FALSE)",
          "Bbox_Overlap (FALSE)",
          "Bbox_Overlap (FALSE)",
          "Bbox_Overlap (FALSE)",
          "Bbox_Overlap (FALSE)",
          "Bbox_Overlap (FALSE)",
          "Bbox_Partial_Overlap (TRUE)",
          "Bbox_Partial_Overlap (TRUE)",
          "Bbox_Partial_Overlap (TRUE)",
          "Bbox_Overlap (FALSE)",
          "Bbox_Inside_Other (TRUE)",
          "Bbox_Overlap (FALSE)",
          "Bbox_Partial_Overlap (TRUE)",
          "Bbox_Partial_Overlap (TRUE)",
          "Bbox_Inside_Other (TRUE)",
          "Bbox_Overlap (FALSE)",
          "Bbox_Partial_Overlap (TRUE)",
          "Bbox_Partial_Overlap (TRUE)",
          "Bbox_Partial_Overlap (TRUE)",
          "Bbox_Overlap (FALSE)",
          "Bbox_Partial_Overlap (TRUE)",
          "Bbox_Overlap (FALSE)",
          "Bbox_Partial_Overlap (TRUE)",
          "Bbox_Partial_Overlap (TRUE)",
          "Bbox_Partial_Overlap (TRUE)",
          "Bbox_Partial_Overlap (TRUE)",
          "Bbox_Partial_Overlap (TRUE)",
          "Bbox_Partial_Overlap (TRUE)",
          "Bbox_Partial_Overlap (TRUE)",
          "Bbox_Partial_Overlap (TRUE)",
          "Bbox_Partial_Overlap (TRUE)",
          "Bbox_Partial_Overlap (TRUE)",
          "Bbox_Partial_Overlap (TRUE)",
          "Bbox_Partial_Overlap (TRUE)",
          "Bbox_Partial_Overlap (TRUE)",
          "Bbox_Partial_Overlap (TRUE)",
          "Bbox_Partial_Overlap (TRUE)",
          "Bbox_Partial_Overlap (TRUE)",
          "Bbox_Partial_Overlap (TRUE)",
          "Bbox_Overlap (FALSE)",
          "Bbox_Overlap (FALSE)",
          "Bbox_Overlap (FALSE)",
          "Bbox_Overlap (FALSE)",
          "Bbox_Partial_Overlap (TRUE)",
          "Bbox_Partial_Overlap (TRUE)",
          "Bbox_Partial_Overlap (TRUE)",
          "Bbox_Partial_Overlap (TRUE)",
          "Bbox_Partial_Overlap (TRUE)",
          "Bbox_Partial_Overlap (TRUE)",
          "Bbox_Partial_Overlap (TRUE)",
          "Bbox_Partial_Overlap (TRUE)",
          "Bbox_Overlap (FALSE)",
          "Bbox_Partial_Overlap (TRUE)",
          "Bbox_Partial_Overlap (TRUE)",
          "Bbox_Partial_Overlap (TRUE)",
          "Bbox_Partial_Overlap (TRUE)",
          "Bbox_Partial_Overlap (TRUE)",
          "Bbox_Partial_Overlap (TRUE)",
          "Bbox_Overlap (FALSE)",
          "Bbox_Partial_Overlap (TRUE)",
          "Bbox_Partial_Overlap (TRUE)",
          "Bbox_Partial_Overlap (TRUE)",
          "Bbox_Partial_Overlap (TRUE)",
          "Bbox_Partial_Overlap (TRUE)",
          "Bbox_Overlap (FALSE)",
          "Bbox_Overlap (FALSE)",
          "Bbox_Overlap (FALSE)",
          "Bbox_Partial_Overlap (TRUE)",
          "Bbox_Overlap (FALSE)",
          "Bbox_Overlap (FALSE)",
          "Bbox_Overlap (FALSE)",
          "Bbox_Overlap (FALSE)",
          "Bbox_Overlap (FALSE)",
          "Bbox_Overlap (FALSE)",
          "Bbox_Overlap (FALSE)",
          "Bbox_Partial_Overlap (TRUE)",
          "Bbox_Partial_Overlap (TRUE)",
          "Bbox_Overlap (FALSE)",
          "Bbox_Partial_Overlap (TRUE)",
          "Bbox_Partial_Overlap (TRUE)",
          "Bbox_Partial_Overlap (TRUE)",
          "Bbox_Partial_Overlap (TRUE)",
          "Bbox_Partial_Overlap (TRUE)",
          "Bbox_Partial_Overlap (TRUE)",
          "Bbox_Partial_Overlap (TRUE)",
          "Bbox_Partial_Overlap (TRUE)",
          "Bbox_Overlap (FALSE)",
          "Bbox_Overlap (FALSE)",
          "Bbox_Overlap (FALSE)",
          "Bbox_Overlap (FALSE)",
          "Bbox_Partial_Overlap (TRUE)",
          "Bbox_Overlap (FALSE)",
          "Bbox_Overlap (FALSE)",
          "Bbox_Overlap (FALSE)",
          "Bbox_Overlap (FALSE)",
          "Bbox_Overlap (FALSE)",
          "Bbox_Overlap (FALSE)",
          "Bbox_Overlap (FALSE)",
          "Bbox_Partial_Overlap (TRUE)",
          "Bbox_Partial_Overlap (TRUE)",
          "Bbox_Overlap (FALSE)",
          "Bbox_Partial_Overlap (TRUE)"
         ],
         "xaxis": "x2",
         "y": [
          0.0012046449992340058,
          0.001213947994983755,
          0.0004319950094213709,
          0.0010480789933353662,
          0.0002465690049575642,
          0.0004965019907103851,
          0.00041318500007037073,
          0.0005266149964882061,
          0.0006320349930319935,
          0.00027004101139027625,
          0.00011551700299605727,
          0.00011841898958664387,
          0.00011547398753464222,
          0.0004713870002888143,
          0.00044210000487510115,
          0.00033901700226124376,
          0.00011725399235729128,
          0.0006344019930111244,
          0.0005871260073035955,
          0.0005896060029044747,
          0.0006085910135880113,
          0.0005810730071971193,
          0.0002439459931338206,
          0.000542792011401616,
          0.0009776430088095367,
          0.0005811129958601668,
          0.0003707290015881881,
          0.0007305850012926385,
          0.0006405730091501027,
          0.0008484020072501153,
          0.00007187400478869677,
          0.0007070219871820882,
          0.000521654001204297,
          0.0007134199986467138,
          0.0006904870097059757,
          0.000517325010150671,
          0.0007015630108071491,
          0.0007177899969974533,
          0.0005411879974417388,
          0.0005354900058591738,
          0.0006857230036985129,
          0.0010286949982400984,
          0.0020303429919295013,
          0.0014304560027085245,
          0.0010130439914064482,
          0.002798695000819862,
          0.0008561239956179634,
          0.0012109180097468197,
          0.0011253249977016822,
          0.001119676002417691,
          0.00012608300312422216,
          0.00029874799656681716,
          0.00045853800838813186,
          0.0003742279950529337,
          0.0008758640033192933,
          0.0007076059991959482,
          0.00072170898783952,
          0.0006272890022955835,
          0.0006276909989537671,
          0.0007156649953685701,
          0.0008875929925125092,
          0.0007192040066001937,
          0.0007259060075739399,
          0.0008606709889136255,
          0.0006408940098481253,
          0.0006120539910625666,
          0.0006153750000521541,
          0.0007633759960299358,
          0.0004919570055790246,
          0.0005144599999766797,
          0.0006660229992121458,
          0.0006655640027020127,
          0.0006706019921693951,
          0.0005267399974400178,
          0.0007421799964504316,
          0.00006900400330778211,
          0.00025986800028476864,
          0.00006132099952083081,
          0.0007047980034258217,
          0.00026266400527674705,
          0.00006580000626854599,
          0.0002638440055307001,
          0.00026180299755651504,
          0.00037649000296369195,
          0.0003654609899967909,
          0.0002581309963716194,
          0.0004871800047112629,
          0.0014244729973142967,
          0.0002726290113059804,
          0.000862618995597586,
          0.0005467349983518943,
          0.0005985799944028258,
          0.0005912220076425001,
          0.0007198929961305112,
          0.0015084030019352213,
          0.0007039799966150895,
          0.002056350000202656,
          0.00035391299752518535,
          0.00035541600664146245,
          0.0003855019895127043,
          0.00025603899848647416,
          0.0007132829923648387,
          0.0003521920007187873,
          0.0007256700046127662,
          0.0002248459932161495,
          0.0002262740017613396,
          0.000059469995903782547,
          0.00008764200902078301,
          0.0000611750001553446,
          0.0004130140005145222,
          0.0004016900056740269,
          0.00006114399002399296,
          0.0003918739967048168
         ],
         "yaxis": "y2"
        },
        {
         "alignmentgroup": "True",
         "bingroup": "x",
         "histfunc": "avg",
         "hovertemplate": "baseline=False<br>sizes=Large<br>context=%{x}<br>avg of total_time=%{y}<extra></extra>",
         "legendgroup": "False",
         "marker": {
          "color": "#EF553B",
          "pattern": {
           "shape": ""
          }
         },
         "name": "False",
         "offsetgroup": "False",
         "orientation": "v",
         "showlegend": false,
         "type": "histogram",
         "x": [
          "Bbox_Partial_Overlap (TRUE)",
          "Bbox_Partial_Overlap (TRUE)",
          "Bbox_Partial_Overlap (TRUE)",
          "Bbox_Partial_Overlap (TRUE)",
          "Bbox_Partial_Overlap (TRUE)",
          "Bbox_Partial_Overlap (TRUE)",
          "Bbox_Partial_Overlap (TRUE)",
          "Bbox_Overlap (FALSE)",
          "Bbox_Overlap (FALSE)",
          "Bbox_Overlap (FALSE)",
          "Bbox_Partial_Overlap (TRUE)",
          "Bbox_Overlap (FALSE)",
          "Bbox_Partial_Overlap (TRUE)",
          "Bbox_Partial_Overlap (TRUE)",
          "Bbox_Partial_Overlap (TRUE)",
          "Bbox_Overlap (FALSE)",
          "Bbox_Partial_Overlap (TRUE)",
          "Bbox_Partial_Overlap (TRUE)",
          "Bbox_Partial_Overlap (TRUE)",
          "Bbox_Overlap (FALSE)",
          "Bbox_Partial_Overlap (TRUE)",
          "Bbox_Partial_Overlap (TRUE)",
          "Bbox_Overlap (FALSE)",
          "Bbox_Partial_Overlap (TRUE)",
          "Bbox_Overlap (FALSE)",
          "Bbox_Overlap (FALSE)",
          "Bbox_Partial_Overlap (TRUE)",
          "Bbox_Partial_Overlap (TRUE)",
          "Bbox_Partial_Overlap (TRUE)",
          "Bbox_Partial_Overlap (TRUE)",
          "Bbox_Overlap (FALSE)",
          "Bbox_Overlap (FALSE)",
          "Bbox_Partial_Overlap (TRUE)",
          "Bbox_Overlap (FALSE)",
          "Bbox_Partial_Overlap (TRUE)",
          "Bbox_Partial_Overlap (TRUE)",
          "Bbox_Partial_Overlap (TRUE)",
          "Bbox_Overlap (FALSE)",
          "Bbox_Partial_Overlap (TRUE)",
          "Bbox_Partial_Overlap (TRUE)",
          "Bbox_Overlap (FALSE)",
          "Bbox_Overlap (FALSE)",
          "Bbox_Partial_Overlap (TRUE)",
          "Bbox_Partial_Overlap (TRUE)",
          "Bbox_Partial_Overlap (TRUE)",
          "Bbox_Overlap (FALSE)",
          "Bbox_Partial_Overlap (TRUE)",
          "Bbox_Partial_Overlap (TRUE)",
          "Bbox_Partial_Overlap (TRUE)",
          "Bbox_Overlap (FALSE)",
          "Bbox_Partial_Overlap (TRUE)",
          "Bbox_Partial_Overlap (TRUE)",
          "Bbox_Partial_Overlap (TRUE)",
          "Bbox_Partial_Overlap (TRUE)",
          "Bbox_Overlap (FALSE)",
          "Bbox_Partial_Overlap (TRUE)",
          "Bbox_Overlap (FALSE)",
          "Bbox_Partial_Overlap (TRUE)",
          "Bbox_Partial_Overlap (TRUE)",
          "Bbox_Partial_Overlap (TRUE)",
          "Bbox_Partial_Overlap (TRUE)",
          "Bbox_Partial_Overlap (TRUE)",
          "Bbox_Partial_Overlap (TRUE)",
          "Bbox_Partial_Overlap (TRUE)",
          "Bbox_Overlap (FALSE)",
          "Bbox_Overlap (FALSE)",
          "Bbox_Overlap (FALSE)",
          "Bbox_Partial_Overlap (TRUE)",
          "Bbox_Partial_Overlap (TRUE)",
          "Bbox_Partial_Overlap (TRUE)",
          "Bbox_Partial_Overlap (TRUE)",
          "Bbox_Partial_Overlap (TRUE)",
          "Bbox_Partial_Overlap (TRUE)",
          "Bbox_Overlap (FALSE)",
          "Bbox_Partial_Overlap (TRUE)",
          "Bbox_Partial_Overlap (TRUE)",
          "Bbox_Partial_Overlap (TRUE)",
          "Bbox_Partial_Overlap (TRUE)",
          "Bbox_Partial_Overlap (TRUE)",
          "Bbox_Partial_Overlap (TRUE)",
          "Bbox_Partial_Overlap (TRUE)",
          "Bbox_Partial_Overlap (TRUE)",
          "Bbox_Partial_Overlap (TRUE)",
          "Bbox_Partial_Overlap (TRUE)",
          "Bbox_Partial_Overlap (TRUE)",
          "Bbox_Overlap (FALSE)",
          "Bbox_Overlap (FALSE)",
          "Bbox_Partial_Overlap (TRUE)",
          "Bbox_Partial_Overlap (TRUE)",
          "Bbox_Partial_Overlap (TRUE)",
          "Bbox_Partial_Overlap (TRUE)",
          "Bbox_Partial_Overlap (TRUE)",
          "Bbox_Partial_Overlap (TRUE)",
          "Bbox_Partial_Overlap (TRUE)",
          "Bbox_Partial_Overlap (TRUE)",
          "Bbox_Overlap (FALSE)",
          "Bbox_Overlap (FALSE)",
          "Bbox_Overlap (FALSE)",
          "Bbox_Overlap (FALSE)",
          "Bbox_Overlap (FALSE)",
          "Bbox_Overlap (FALSE)",
          "Bbox_Overlap (FALSE)",
          "Bbox_Overlap (FALSE)",
          "Bbox_Overlap (FALSE)",
          "Bbox_Overlap (FALSE)",
          "Bbox_Overlap (FALSE)",
          "Bbox_Overlap (FALSE)",
          "Bbox_Overlap (FALSE)",
          "Bbox_Overlap (FALSE)",
          "Bbox_Overlap (FALSE)",
          "Bbox_Overlap (FALSE)",
          "Bbox_Overlap (FALSE)",
          "Bbox_Overlap (FALSE)",
          "Bbox_Overlap (FALSE)",
          "Bbox_Overlap (FALSE)",
          "Bbox_Overlap (FALSE)",
          "Bbox_Overlap (FALSE)",
          "Bbox_Overlap (FALSE)",
          "Bbox_Overlap (FALSE)",
          "Bbox_Overlap (FALSE)",
          "Bbox_Overlap (FALSE)",
          "Bbox_Overlap (FALSE)",
          "Bbox_Overlap (FALSE)",
          "Bbox_Overlap (FALSE)",
          "Bbox_Overlap (FALSE)",
          "Bbox_Overlap (FALSE)",
          "Bbox_Overlap (FALSE)",
          "Bbox_Overlap (FALSE)",
          "Bbox_Overlap (FALSE)",
          "Bbox_Overlap (FALSE)",
          "Bbox_Overlap (FALSE)",
          "Bbox_Overlap (FALSE)",
          "Bbox_Overlap (FALSE)",
          "Bbox_Overlap (FALSE)",
          "Bbox_Overlap (FALSE)",
          "Bbox_Overlap (FALSE)",
          "Bbox_Overlap (FALSE)",
          "Bbox_Overlap (FALSE)",
          "Bbox_Overlap (FALSE)",
          "Bbox_Overlap (FALSE)",
          "Bbox_Overlap (FALSE)",
          "Bbox_Overlap (FALSE)",
          "Bbox_Overlap (FALSE)",
          "Bbox_Overlap (FALSE)",
          "Bbox_Overlap (FALSE)",
          "Bbox_Overlap (FALSE)",
          "Bbox_Overlap (FALSE)",
          "Bbox_Overlap (FALSE)",
          "Bbox_Overlap (FALSE)",
          "Bbox_Overlap (FALSE)",
          "Bbox_Overlap (FALSE)",
          "Bbox_Overlap (FALSE)",
          "Bbox_Overlap (FALSE)",
          "Bbox_Overlap (FALSE)",
          "Bbox_Overlap (FALSE)",
          "Bbox_Overlap (FALSE)",
          "Bbox_Overlap (FALSE)",
          "Bbox_Overlap (FALSE)",
          "Bbox_Overlap (FALSE)",
          "Bbox_Overlap (FALSE)",
          "Bbox_Overlap (FALSE)",
          "Bbox_Overlap (FALSE)",
          "Bbox_Overlap (FALSE)",
          "Bbox_Overlap (FALSE)",
          "Bbox_Overlap (FALSE)",
          "Bbox_Overlap (FALSE)",
          "Bbox_Overlap (FALSE)",
          "Bbox_Overlap (FALSE)",
          "Bbox_Overlap (FALSE)",
          "Bbox_Overlap (FALSE)",
          "Bbox_Overlap (FALSE)",
          "Bbox_Overlap (FALSE)",
          "Bbox_Overlap (FALSE)",
          "Bbox_Overlap (FALSE)",
          "Bbox_Overlap (FALSE)",
          "Bbox_Overlap (FALSE)",
          "Bbox_Overlap (FALSE)",
          "Bbox_Overlap (FALSE)",
          "Bbox_Overlap (FALSE)",
          "Bbox_Overlap (FALSE)",
          "Bbox_Overlap (FALSE)",
          "Bbox_Overlap (FALSE)",
          "Bbox_Overlap (FALSE)",
          "Bbox_Overlap (FALSE)",
          "Bbox_Overlap (FALSE)",
          "Bbox_Partial_Overlap (TRUE)",
          "Bbox_Overlap (FALSE)",
          "Bbox_Partial_Overlap (TRUE)",
          "Bbox_Partial_Overlap (TRUE)",
          "Bbox_Overlap (FALSE)",
          "Bbox_Overlap (FALSE)",
          "Bbox_Overlap (FALSE)",
          "Bbox_Overlap (FALSE)",
          "Bbox_Overlap (FALSE)",
          "Bbox_Partial_Overlap (TRUE)",
          "Bbox_Overlap (FALSE)",
          "Bbox_Overlap (FALSE)",
          "Bbox_Overlap (FALSE)",
          "Bbox_Partial_Overlap (TRUE)",
          "Bbox_Partial_Overlap (TRUE)",
          "Bbox_Overlap (FALSE)",
          "Bbox_Partial_Overlap (TRUE)",
          "Bbox_Partial_Overlap (TRUE)",
          "Bbox_Partial_Overlap (TRUE)",
          "Bbox_Partial_Overlap (TRUE)",
          "Bbox_Partial_Overlap (TRUE)",
          "Bbox_Overlap (FALSE)",
          "Bbox_Partial_Overlap (TRUE)",
          "Bbox_Overlap (FALSE)",
          "Bbox_Overlap (FALSE)",
          "Bbox_Overlap (FALSE)",
          "Bbox_Overlap (FALSE)",
          "Bbox_Overlap (FALSE)",
          "Bbox_Partial_Overlap (TRUE)",
          "Bbox_Overlap (FALSE)",
          "Bbox_Overlap (FALSE)",
          "Bbox_Overlap (FALSE)",
          "Bbox_Overlap (FALSE)",
          "Bbox_Overlap (FALSE)",
          "Bbox_Overlap (FALSE)",
          "Bbox_Overlap (FALSE)",
          "Bbox_Overlap (FALSE)",
          "Bbox_Overlap (FALSE)",
          "Bbox_Overlap (FALSE)",
          "Bbox_Overlap (FALSE)",
          "Bbox_Overlap (FALSE)",
          "Bbox_Overlap (FALSE)",
          "Bbox_Overlap (FALSE)",
          "Bbox_Overlap (FALSE)",
          "Bbox_Overlap (FALSE)",
          "Bbox_Partial_Overlap (TRUE)",
          "Bbox_Overlap (FALSE)",
          "Bbox_Partial_Overlap (TRUE)",
          "Bbox_Partial_Overlap (TRUE)",
          "Bbox_Overlap (FALSE)"
         ],
         "xaxis": "x3",
         "y": [
          0.010258459005854093,
          0.009950514999218285,
          0.003486203000647947,
          0.0018234509916510433,
          0.005103282004711218,
          0.003353221996803768,
          0.005438093998236582,
          0.00012870000500697643,
          0.0004886490060016513,
          0.0008477950032101944,
          0.010682223000912927,
          0.00028694300272036344,
          0.0073715100006666034,
          0.009299716999521479,
          0.003931607003323734,
          0.00011915400682482868,
          0.010535335008171387,
          0.013714939006604254,
          0.005462986009661108,
          0.0003230739966966212,
          0.023400120000587776,
          0.005629491002764553,
          0.000689542997861281,
          0.004929568007355556,
          0.000305385998217389,
          0.0003281960089225322,
          0.0028492709971033037,
          0.0033288620033999905,
          0.0025820599985308945,
          0.0029621220019180328,
          0.0000994809961412102,
          0.00023097300436347723,
          0.006526762997964397,
          0.00021581498731393367,
          0.002224766998551786,
          0.0033491909998701885,
          0.003708131000166759,
          0.000267256997176446,
          0.01165583700640127,
          0.015347521999501623,
          0.000223166003706865,
          0.00021860800916329026,
          0.007032975001493469,
          0.002873324992833659,
          0.006868116004625335,
          0.0002367450069868937,
          0.0016433080018032342,
          0.005065896999440156,
          0.0036915870005032048,
          0.0001829289976740256,
          0.00468849299068097,
          0.0010206029983237386,
          0.006189223000546917,
          0.003280738994362764,
          0.0002247809898108244,
          0.017821482004364952,
          0.0002269449905725196,
          0.005123313996591605,
          0.006889796000905335,
          0.002255947998492047,
          0.001087151002138853,
          0.005181867003557272,
          0.003983355010859668,
          0.006189861000166275,
          0.0001315039990004152,
          0.0001651030033826828,
          0.0001514289906481281,
          0.029103513996233232,
          0.010823542004800402,
          0.0026329350075684488,
          0.0014861850067973137,
          0.0016477979952469468,
          0.00849991299037356,
          0.0002480939874658361,
          0.0066967120073968545,
          0.0030164299969328567,
          0.0010377640137448907,
          0.0057583529996918514,
          0.004107237997232005,
          0.003263785009039566,
          0.006617759994696826,
          0.002123730009770952,
          0.0036981310113333166,
          0.008996062009828165,
          0.004349836992332712,
          0.0005014130001654848,
          0.00027995900018140674,
          0.009950930005288683,
          0.0028624170081457123,
          0.02931944199372083,
          0.014325149008072913,
          0.014803735990426503,
          0.015678113006288186,
          0.009341028999187984,
          0.007556934011518024,
          0.00015381099365185946,
          0.00033929001074284315,
          0.0001275870017707348,
          0.0007090290018822998,
          0.00035419900086708367,
          0.00010567500430624932,
          0.000626220993581228,
          0.00014578699483536184,
          0.0008997310069389641,
          0.0001795839925762266,
          0.00018704299873206764,
          0.0001681180001469329,
          0.00016804400365799665,
          0.000861963999341242,
          0.001356916007352993,
          0.0009885829931590706,
          0.00043323999852873385,
          0.0007134540064726025,
          0.0003899889998137951,
          0.0029121120023773983,
          0.001458099010051228,
          0.0033346190029988065,
          0.0014051850012037903,
          0.0010388709924882278,
          0.0007267689943546429,
          0.00009214101010002196,
          0.00008840899681672454,
          0.00013692100765183568,
          0.00014031300088390708,
          0.0001363580086035654,
          0.00008844200056046247,
          0.00026768499810714275,
          0.0002617349964566529,
          0.0003033539978787303,
          0.000275401005637832,
          0.00017769601254258305,
          0.0005792500014649704,
          0.0004680069978348911,
          0.00015294899640139192,
          0.00016963800590019673,
          0.0004424219951033592,
          0.005191684002056718,
          0.0003118559980066493,
          0.00018874699890147895,
          0.0008286660013254732,
          0.00016311999934259802,
          0.00015431400970555842,
          0.0006154389993753284,
          0.0006131020054453984,
          0.00029755200375802815,
          0.0001535119954496622,
          0.0006475400005001575,
          0.00021106500935275108,
          0.0002866229915525764,
          0.0003911079984391108,
          0.00021640100749209523,
          0.0002600599982542917,
          0.0001919920032378286,
          0.0003137099993182346,
          0.0005008559965062886,
          0.0009968710073735565,
          0.00027270700957160443,
          0.00034465100907254964,
          0.0007020569901214913,
          0.0006992599955992773,
          0.0013673999928869307,
          0.00029719399753957987,
          0.00017772000865079463,
          0.00017578000552020967,
          0.0007672470092074946,
          0.0016187370056286454,
          0.00017589300114195794,
          0.00038957499782554805,
          0.00026963000709656626,
          0.0003397190012037754,
          0.00026643699675332755,
          0.00033210999390576035,
          0.00025836100394371897,
          0.00034890600363723934,
          0.0003311909968033433,
          0.00023266799689736217,
          0.00039945000025909394,
          0.0003607319958973676,
          0.002198592002969235,
          0.0002753019944066182,
          0.0006508679944090545,
          0.0006542440096382052,
          0.00018381999689154327,
          0.0008027989970287308,
          0.0009915739938151091,
          0.0006993159913690761,
          0.0005437930085463449,
          0.0012189209955977276,
          0.000816245999885723,
          0.00008347300172317773,
          0.0007729409990133718,
          0.00024588798987679183,
          0.00043427900527603924,
          0.0005284159997245297,
          0.00781690000439994,
          0.00012800900731235743,
          0.00024303099780809134,
          0.00012384000001475215,
          0.002331857001991011,
          0.001199673002702184,
          0.00008545900345779955,
          0.0008404840045841411,
          0.0010515580070205033,
          0.0010504189995117486,
          0.0015512130048591644,
          0.0015268529969034716,
          0.0007595250062877312,
          0.0009029770008055493,
          0.00008696700388099998,
          0.0005263319908408448,
          0.0008454509952571243,
          0.000779162990511395,
          0.0008346430113306269,
          0.0023644720058655366,
          0.0001589820021763444,
          0.00009960900933947414,
          0.00009749899618327618,
          0.00012403700384311378,
          0.00009802299609873444,
          0.00046474600094370544,
          0.00045706100354436785,
          0.0001192230120068416,
          0.00037611500010825694,
          0.0000771790073486045,
          0.0009908920037560165,
          0.0009945990022970363,
          0.00011434398766141385,
          0.00037566501123365015,
          0.0001489449932705611,
          0.00019374600378796458,
          0.0008593639940954745,
          0.000534637991222553,
          0.000861179010826163,
          0.00767375499708578,
          0.00027013200451619923
         ],
         "yaxis": "y3"
        },
        {
         "alignmentgroup": "True",
         "bingroup": "x",
         "histfunc": "avg",
         "hovertemplate": "baseline=False<br>sizes=Small_Large_Mixed<br>context=%{x}<br>avg of total_time=%{y}<extra></extra>",
         "legendgroup": "False",
         "marker": {
          "color": "#EF553B",
          "pattern": {
           "shape": ""
          }
         },
         "name": "False",
         "offsetgroup": "False",
         "orientation": "v",
         "showlegend": false,
         "type": "histogram",
         "x": [
          "Bbox_Inside_Other (TRUE)",
          "Bbox_Inside_Other (TRUE)",
          "Bbox_Partial_Overlap (TRUE)",
          "Bbox_Partial_Overlap (TRUE)",
          "Bbox_Partial_Overlap (TRUE)",
          "Bbox_Partial_Overlap (TRUE)",
          "Bbox_Overlap (FALSE)",
          "Bbox_Partial_Overlap (TRUE)",
          "Bbox_Overlap (FALSE)",
          "Bbox_Overlap (FALSE)",
          "Bbox_Overlap (FALSE)",
          "Bbox_Overlap (FALSE)",
          "Bbox_Overlap (FALSE)",
          "Bbox_Overlap (FALSE)",
          "Bbox_Overlap (FALSE)",
          "Bbox_Partial_Overlap (TRUE)",
          "Bbox_Overlap (FALSE)",
          "Bbox_Overlap (FALSE)",
          "Bbox_Overlap (FALSE)",
          "Bbox_Partial_Overlap (TRUE)",
          "Bbox_Overlap (FALSE)",
          "Bbox_Overlap (FALSE)",
          "Bbox_Partial_Overlap (TRUE)",
          "Bbox_Partial_Overlap (TRUE)",
          "Bbox_Overlap (FALSE)",
          "Bbox_Partial_Overlap (TRUE)",
          "Bbox_Overlap (FALSE)",
          "Bbox_Partial_Overlap (TRUE)",
          "Bbox_Overlap (FALSE)",
          "Bbox_Overlap (FALSE)",
          "Bbox_Overlap (FALSE)",
          "Bbox_Overlap (FALSE)",
          "Bbox_Partial_Overlap (TRUE)",
          "Bbox_Partial_Overlap (TRUE)",
          "Bbox_Overlap (FALSE)",
          "Bbox_Overlap (FALSE)",
          "Bbox_Overlap (FALSE)",
          "Bbox_Overlap (FALSE)",
          "Bbox_Overlap (FALSE)",
          "Bbox_Overlap (FALSE)",
          "Bbox_Overlap (FALSE)",
          "Bbox_Overlap (FALSE)",
          "Bbox_Overlap (FALSE)",
          "Bbox_Overlap (FALSE)",
          "Bbox_Overlap (FALSE)",
          "Bbox_Overlap (FALSE)",
          "Bbox_Overlap (FALSE)",
          "Bbox_Overlap (FALSE)",
          "Bbox_Overlap (FALSE)",
          "Bbox_Overlap (FALSE)",
          "Bbox_Overlap (FALSE)",
          "Bbox_Overlap (FALSE)",
          "Bbox_Overlap (FALSE)",
          "Bbox_Overlap (FALSE)",
          "Bbox_Overlap (FALSE)",
          "Bbox_Overlap (FALSE)",
          "Bbox_Overlap (FALSE)",
          "Bbox_Overlap (FALSE)",
          "Bbox_Overlap (FALSE)",
          "Bbox_Overlap (FALSE)",
          "Bbox_Overlap (FALSE)",
          "Bbox_Overlap (FALSE)",
          "Bbox_Partial_Overlap (TRUE)",
          "Bbox_Partial_Overlap (TRUE)",
          "Bbox_Partial_Overlap (TRUE)",
          "Bbox_Overlap (FALSE)",
          "Bbox_Partial_Overlap (TRUE)",
          "Bbox_Overlap (FALSE)",
          "Bbox_Partial_Overlap (TRUE)",
          "Bbox_Partial_Overlap (TRUE)",
          "Bbox_Partial_Overlap (TRUE)",
          "Bbox_Partial_Overlap (TRUE)",
          "Bbox_Overlap (FALSE)",
          "Bbox_Overlap (FALSE)",
          "Bbox_Overlap (FALSE)",
          "Bbox_Overlap (FALSE)",
          "Bbox_Overlap (FALSE)",
          "Bbox_Overlap (FALSE)",
          "Bbox_Partial_Overlap (TRUE)",
          "Bbox_Overlap (FALSE)",
          "Bbox_Overlap (FALSE)",
          "Bbox_Overlap (FALSE)",
          "Bbox_Overlap (FALSE)",
          "Bbox_Partial_Overlap (TRUE)",
          "Bbox_Partial_Overlap (TRUE)",
          "Bbox_Partial_Overlap (TRUE)",
          "Bbox_Partial_Overlap (TRUE)",
          "Bbox_Partial_Overlap (TRUE)",
          "Bbox_Partial_Overlap (TRUE)",
          "Bbox_Overlap (FALSE)",
          "Bbox_Overlap (FALSE)",
          "Bbox_Overlap (FALSE)",
          "Bbox_Partial_Overlap (TRUE)",
          "Bbox_Partial_Overlap (TRUE)",
          "Bbox_Overlap (FALSE)",
          "Bbox_Partial_Overlap (TRUE)",
          "Bbox_Partial_Overlap (TRUE)",
          "Bbox_Overlap (FALSE)",
          "Bbox_Overlap (FALSE)",
          "Bbox_Partial_Overlap (TRUE)",
          "Bbox_Partial_Overlap (TRUE)",
          "Bbox_Overlap (FALSE)",
          "Bbox_Overlap (FALSE)",
          "Bbox_Partial_Overlap (TRUE)",
          "Bbox_Overlap (FALSE)",
          "Bbox_Overlap (FALSE)",
          "Bbox_Overlap (FALSE)",
          "Bbox_Overlap (FALSE)",
          "Bbox_Overlap (FALSE)",
          "Bbox_Partial_Overlap (TRUE)",
          "Bbox_Partial_Overlap (TRUE)",
          "Bbox_Partial_Overlap (TRUE)",
          "Bbox_Partial_Overlap (TRUE)",
          "Bbox_Overlap (FALSE)",
          "Bbox_Overlap (FALSE)",
          "Bbox_Partial_Overlap (TRUE)",
          "Bbox_Overlap (FALSE)",
          "Bbox_Partial_Overlap (TRUE)",
          "Bbox_Overlap (FALSE)",
          "Bbox_Overlap (FALSE)",
          "Bbox_Overlap (FALSE)",
          "Bbox_Overlap (FALSE)",
          "Bbox_Overlap (FALSE)",
          "Bbox_Overlap (FALSE)",
          "Bbox_Overlap (FALSE)",
          "Bbox_Overlap (FALSE)",
          "Bbox_Overlap (FALSE)",
          "Bbox_Partial_Overlap (TRUE)",
          "Bbox_Overlap (FALSE)",
          "Bbox_Overlap (FALSE)",
          "Bbox_Overlap (FALSE)",
          "Bbox_Overlap (FALSE)",
          "Bbox_Partial_Overlap (TRUE)",
          "Bbox_Overlap (FALSE)",
          "Bbox_Overlap (FALSE)",
          "Bbox_Overlap (FALSE)",
          "Bbox_Overlap (FALSE)",
          "Bbox_Overlap (FALSE)",
          "Bbox_Overlap (FALSE)",
          "Bbox_Overlap (FALSE)",
          "Bbox_Overlap (FALSE)",
          "Bbox_Overlap (FALSE)",
          "Bbox_Overlap (FALSE)",
          "Bbox_Overlap (FALSE)",
          "Bbox_Overlap (FALSE)",
          "Bbox_Overlap (FALSE)",
          "Bbox_Overlap (FALSE)",
          "Bbox_Overlap (FALSE)",
          "Bbox_Overlap (FALSE)",
          "Bbox_Overlap (FALSE)",
          "Bbox_Overlap (FALSE)",
          "Bbox_Partial_Overlap (TRUE)",
          "Bbox_Overlap (FALSE)",
          "Bbox_Overlap (FALSE)",
          "Bbox_Overlap (FALSE)",
          "Bbox_Overlap (FALSE)",
          "Bbox_Overlap (FALSE)",
          "Bbox_Overlap (FALSE)",
          "Bbox_Overlap (FALSE)",
          "Bbox_Overlap (FALSE)",
          "Bbox_Overlap (FALSE)",
          "Bbox_Overlap (FALSE)",
          "Bbox_Overlap (FALSE)",
          "Bbox_Partial_Overlap (TRUE)",
          "Bbox_Overlap (FALSE)",
          "Bbox_Overlap (FALSE)",
          "Bbox_Overlap (FALSE)",
          "Bbox_Partial_Overlap (TRUE)",
          "Bbox_Overlap (FALSE)",
          "Bbox_Overlap (FALSE)",
          "Bbox_Partial_Overlap (TRUE)",
          "Bbox_Overlap (FALSE)",
          "Bbox_Partial_Overlap (TRUE)",
          "Bbox_Overlap (FALSE)",
          "Bbox_Overlap (FALSE)",
          "Bbox_Overlap (FALSE)",
          "Bbox_Overlap (FALSE)",
          "Bbox_Overlap (FALSE)",
          "Bbox_Overlap (FALSE)",
          "Bbox_Overlap (FALSE)",
          "Bbox_Overlap (FALSE)",
          "Bbox_Overlap (FALSE)",
          "Bbox_Overlap (FALSE)",
          "Bbox_Overlap (FALSE)",
          "Bbox_Partial_Overlap (TRUE)",
          "Bbox_Overlap (FALSE)",
          "Bbox_Overlap (FALSE)",
          "Bbox_Partial_Overlap (TRUE)",
          "Bbox_Overlap (FALSE)",
          "Bbox_Overlap (FALSE)",
          "Bbox_Overlap (FALSE)",
          "Bbox_Overlap (FALSE)",
          "Bbox_Overlap (FALSE)",
          "Bbox_Partial_Overlap (TRUE)",
          "Bbox_Overlap (FALSE)",
          "Bbox_Overlap (FALSE)",
          "Bbox_Overlap (FALSE)",
          "Bbox_Overlap (FALSE)",
          "Bbox_Overlap (FALSE)",
          "Bbox_Overlap (FALSE)",
          "Bbox_Overlap (FALSE)",
          "Bbox_Overlap (FALSE)",
          "Bbox_Overlap (FALSE)",
          "Bbox_Overlap (FALSE)",
          "Bbox_Overlap (FALSE)",
          "Bbox_Overlap (FALSE)",
          "Bbox_Overlap (FALSE)",
          "Bbox_Overlap (FALSE)",
          "Bbox_Overlap (FALSE)",
          "Bbox_Overlap (FALSE)",
          "Bbox_Overlap (FALSE)",
          "Bbox_Overlap (FALSE)",
          "Bbox_Overlap (FALSE)",
          "Bbox_Overlap (FALSE)",
          "Bbox_Overlap (FALSE)",
          "Bbox_Overlap (FALSE)",
          "Bbox_Overlap (FALSE)",
          "Bbox_Overlap (FALSE)",
          "Bbox_Overlap (FALSE)",
          "Bbox_Overlap (FALSE)",
          "Bbox_Overlap (FALSE)",
          "Bbox_Overlap (FALSE)",
          "Bbox_Overlap (FALSE)",
          "Bbox_Overlap (FALSE)",
          "Bbox_Overlap (FALSE)",
          "Bbox_Overlap (FALSE)",
          "Bbox_Overlap (FALSE)",
          "Bbox_Partial_Overlap (TRUE)",
          "Bbox_Overlap (FALSE)",
          "Bbox_Overlap (FALSE)",
          "Bbox_Overlap (FALSE)",
          "Bbox_Overlap (FALSE)",
          "Bbox_Overlap (FALSE)",
          "Bbox_Overlap (FALSE)",
          "Bbox_Overlap (FALSE)",
          "Bbox_Overlap (FALSE)",
          "Bbox_Overlap (FALSE)",
          "Bbox_Overlap (FALSE)",
          "Bbox_Overlap (FALSE)",
          "Bbox_Overlap (FALSE)",
          "Bbox_Overlap (FALSE)",
          "Bbox_Overlap (FALSE)",
          "Bbox_Overlap (FALSE)",
          "Bbox_Overlap (FALSE)",
          "Bbox_Overlap (FALSE)",
          "Bbox_Overlap (FALSE)",
          "Bbox_Overlap (FALSE)",
          "Bbox_Overlap (FALSE)",
          "Bbox_Overlap (FALSE)",
          "Bbox_Overlap (FALSE)",
          "Bbox_Overlap (FALSE)",
          "Bbox_Overlap (FALSE)",
          "Bbox_Overlap (FALSE)",
          "Bbox_Overlap (FALSE)",
          "Bbox_Overlap (FALSE)",
          "Bbox_Overlap (FALSE)"
         ],
         "xaxis": "x4",
         "y": [
          0.0005325689999153838,
          0.0005259169993223622,
          0.0024630499974591658,
          0.0013528359995689243,
          0.0013300179998623207,
          0.0013640179968206212,
          0.0007667550089536235,
          0.00040741499105934054,
          0.00007003499194979668,
          0.0009649490093579516,
          0.00009640099597163498,
          0.0005694269930245355,
          0.0003333200002089143,
          0.00009083499026019126,
          0.00017002900131046772,
          0.0010024250077549368,
          0.00013329199282452464,
          0.0003718180087162182,
          0.00007186199945863336,
          0.001018767012283206,
          0.0005208660004427657,
          0.00006453599780797958,
          0.0007148409931687638,
          0.0008066250011324883,
          0.00011127399920951575,
          0.0008193850080715492,
          0.00008259199967142195,
          0.0010167110012844205,
          0.00008811199222691357,
          0.00014448000001721084,
          0.0006397690012818202,
          0.0007193070050561801,
          0.0007590980094391853,
          0.0006188600091263652,
          0.0003831130015896633,
          0.0004919109924230725,
          0.0009775400103535503,
          0.0007554609910584986,
          0.0004950839938828722,
          0.000415147005696781,
          0.00015614500443916768,
          0.00014299299800768495,
          0.00014665898925159127,
          0.00015104100748430938,
          0.0001439240004401654,
          0.00014785000530537218,
          0.0004742969904327765,
          0.0006232949963305146,
          0.0006463659956352785,
          0.0005917829985264689,
          0.0004651199997169897,
          0.000533330996404402,
          0.0007184699934441596,
          0.0004007350071333349,
          0.0005962869909126312,
          0.0008205579943023622,
          0.0004195309884380549,
          0.00012809700274374336,
          0.0008519699913449585,
          0.00036357300996314734,
          0.000383967999368906,
          0.0000789130135672167,
          0.0012847799953306094,
          0.003787849986110814,
          0.0022968010016484186,
          0.00031200800731312484,
          0.0009631660068407655,
          0.00034126799437217414,
          0.0013090510037727654,
          0.004541083995718509,
          0.0026654929970391095,
          0.000739011011319235,
          0.00014286399527918547,
          0.00013619998935610056,
          0.00013965199468657374,
          0.0001385909999953583,
          0.00035992098855786026,
          0.0004924609966110438,
          0.0015180259943008423,
          0.0008707030065124854,
          0.0008348649862455204,
          0.0005871539906365797,
          0.0005373800086090341,
          0.0007451019919244573,
          0.0005368199927033857,
          0.0005053219938417897,
          0.0007576899952255189,
          0.0007256980024976656,
          0.0005212830001255497,
          0.00044878800690639764,
          0.0004138689982937649,
          0.000725464997231029,
          0.0006839440029580146,
          0.0006817840039730072,
          0.0005441490066004917,
          0.0007111890008673072,
          0.0006715800118399784,
          0.00012766099825967103,
          0.00013218099775258452,
          0.0005968369951006025,
          0.0005986640026094392,
          0.00038880700594745576,
          0.0003896510024787858,
          0.0006988840032136068,
          0.0003379539994057268,
          0.00037946099473629147,
          0.0003671059967018664,
          0.000070882000727579,
          0.0003686980053316802,
          0.0006755210051778704,
          0.00065169099252671,
          0.0006573169957846403,
          0.0007692940125707537,
          0.0004259799898136407,
          0.0005748410039814189,
          0.000494888998218812,
          0.0005732950085075572,
          0.0015311729948734865,
          0.0008666310022817925,
          0.0002826450072461739,
          0.0008552420040359721,
          0.00013602100079879165,
          0.00037263199919834733,
          0.00038925299304537475,
          0.0005568600026890635,
          0.00007070500578265637,
          0.0005742919893236831,
          0.000935176998609677,
          0.00013495399616658688,
          0.0005520870035979897,
          0.00104897101118695,
          0.0005823680112371221,
          0.0009598539909347892,
          0.000642106999293901,
          0.0007267300097737461,
          0.00015836198872420937,
          0.00015534099657088518,
          0.00015798899403307587,
          0.00015324799460358918,
          0.0001579469972057268,
          0.00015524099580943584,
          0.00015510499360971153,
          0.000565188005566597,
          0.0009312409965787083,
          0.0008399880025535822,
          0.0004620349936885759,
          0.0009275900083594024,
          0.0008520470000803471,
          0.00008683699707034975,
          0.0002169319923268631,
          0.00014614399697165936,
          0.0006334079953376204,
          0.00039000800461508334,
          0.00012212600267957896,
          0.00012092498946003616,
          0.0005921169940847903,
          0.0005121009889990091,
          0.0004247979959473014,
          0.0005444010021165013,
          0.0005571389920078218,
          0.0007288939959835261,
          0.0005872470064787194,
          0.000491240993142128,
          0.0009486269991612062,
          0.00008302798960357904,
          0.00015346999862231314,
          0.0007198139937827364,
          0.0010238870017929003,
          0.0003798399993684143,
          0.0007175119972089306,
          0.0009584479994373396,
          0.0003963030030718073,
          0.0009392320062033832,
          0.0001786840002750978,
          0.00017645700427237898,
          0.00048658999730832875,
          0.00048508698819205165,
          0.0001515199983259663,
          0.0004868929972872138,
          0.000499688001582399,
          0.0002947350003523752,
          0.0002811960002873093,
          0.0006459880096372217,
          0.0003949730016756803,
          0.0007040880009299144,
          0.00047167600132524967,
          0.00014743099745828658,
          0.0004764929908560589,
          0.00017518599634058774,
          0.00017061700054910034,
          0.00016900699120014906,
          0.00017175399989355356,
          0.00023518799571320415,
          0.0005011100001865998,
          0.000172816013218835,
          0.00016992000746540725,
          0.0001656340027693659,
          0.0001361860049655661,
          0.00013920399942435324,
          0.0001406319934176281,
          0.00008735999290365726,
          0.0001250360073754564,
          0.00009737099753692746,
          0.00009946100180968642,
          0.00010323899914510548,
          0.00009909798973239958,
          0.00009875299292616546,
          0.00010735500836744905,
          0.00012288099969737232,
          0.00010806600039359182,
          0.0001019549963530153,
          0.00010082099470309913,
          0.00009821100684348494,
          0.00009997499000746757,
          0.00010431600094307214,
          0.0001044670061673969,
          0.00009808600589167327,
          0.00009864699677564204,
          0.00010152299364563078,
          0.0001048660051310435,
          0.00010792400280479342,
          0.0001022480137180537,
          0.00010305500472895801,
          0.00010153799667023122,
          0.00010881299385800958,
          0.00010536999616306275,
          0.00028201598615851253,
          0.0004990689922124147,
          0.00010189699241891503,
          0.00010168799781240523,
          0.0000988020037766546,
          0.00009784400754142553,
          0.00010192699846811593,
          0.00010352800018154085,
          0.00011734598956536502,
          0.00010012699931394309,
          0.00010122900130227208,
          0.00009991199476644397,
          0.00009926999337039888,
          0.00010155299969483167,
          0.00010229701001662761,
          0.0001052129955496639,
          0.00017946699517779052,
          0.00009952999243978411,
          0.0001006579987006262,
          0.00010155000200029463,
          0.00010324300092179328,
          0.00010421298793517053,
          0.0001033589942380786,
          0.0001081649970728904,
          0.00009578900062479079,
          0.00009859498823061585,
          0.00010242201096843928,
          0.0003318509989185259,
          0.00007066200487315655,
          0.00008001699461601675
         ],
         "yaxis": "y4"
        },
        {
         "alignmentgroup": "True",
         "bingroup": "x",
         "histfunc": "avg",
         "hovertemplate": "baseline=False<br>sizes=Medium_Large_Mixed<br>context=%{x}<br>avg of total_time=%{y}<extra></extra>",
         "legendgroup": "False",
         "marker": {
          "color": "#EF553B",
          "pattern": {
           "shape": ""
          }
         },
         "name": "False",
         "offsetgroup": "False",
         "orientation": "v",
         "showlegend": false,
         "type": "histogram",
         "x": [
          "Bbox_Overlap (FALSE)",
          "Bbox_Overlap (FALSE)",
          "Bbox_Overlap (FALSE)",
          "Bbox_Overlap (FALSE)",
          "Bbox_Overlap (FALSE)",
          "Bbox_Overlap (FALSE)",
          "Bbox_Overlap (FALSE)",
          "Bbox_Overlap (FALSE)",
          "Bbox_Partial_Overlap (TRUE)",
          "Bbox_Partial_Overlap (TRUE)",
          "Bbox_Overlap (FALSE)",
          "Bbox_Partial_Overlap (TRUE)",
          "Bbox_Overlap (FALSE)",
          "Bbox_Overlap (FALSE)",
          "Bbox_Overlap (FALSE)",
          "Bbox_Partial_Overlap (TRUE)",
          "Bbox_Overlap (FALSE)",
          "Bbox_Overlap (FALSE)",
          "Bbox_Overlap (FALSE)",
          "Bbox_Overlap (FALSE)",
          "Bbox_Partial_Overlap (TRUE)",
          "Bbox_Partial_Overlap (TRUE)",
          "Bbox_Overlap (FALSE)",
          "Bbox_Partial_Overlap (TRUE)",
          "Bbox_Partial_Overlap (TRUE)",
          "Bbox_Overlap (FALSE)",
          "Bbox_Overlap (FALSE)",
          "Bbox_Overlap (FALSE)",
          "Bbox_Partial_Overlap (TRUE)",
          "Bbox_Partial_Overlap (TRUE)",
          "Bbox_Partial_Overlap (TRUE)",
          "Bbox_Overlap (FALSE)",
          "Bbox_Partial_Overlap (TRUE)",
          "Bbox_Partial_Overlap (TRUE)",
          "Bbox_Partial_Overlap (TRUE)",
          "Bbox_Overlap (FALSE)",
          "Bbox_Partial_Overlap (TRUE)",
          "Bbox_Overlap (FALSE)",
          "Bbox_Overlap (FALSE)",
          "Bbox_Overlap (FALSE)",
          "Bbox_Overlap (FALSE)",
          "Bbox_Overlap (FALSE)",
          "Bbox_Overlap (FALSE)",
          "Bbox_Overlap (FALSE)",
          "Bbox_Overlap (FALSE)",
          "Bbox_Overlap (FALSE)",
          "Bbox_Overlap (FALSE)",
          "Bbox_Overlap (FALSE)",
          "Bbox_Overlap (FALSE)",
          "Bbox_Overlap (FALSE)",
          "Bbox_Overlap (FALSE)",
          "Bbox_Overlap (FALSE)",
          "Bbox_Partial_Overlap (TRUE)",
          "Bbox_Partial_Overlap (TRUE)",
          "Bbox_Overlap (FALSE)",
          "Bbox_Overlap (FALSE)",
          "Bbox_Overlap (FALSE)",
          "Bbox_Overlap (FALSE)",
          "Bbox_Overlap (FALSE)",
          "Bbox_Overlap (FALSE)",
          "Bbox_Overlap (FALSE)",
          "Bbox_Overlap (FALSE)",
          "Bbox_Partial_Overlap (TRUE)",
          "Bbox_Overlap (FALSE)",
          "Bbox_Overlap (FALSE)",
          "Bbox_Overlap (FALSE)",
          "Bbox_Overlap (FALSE)",
          "Bbox_Overlap (FALSE)",
          "Bbox_Partial_Overlap (TRUE)",
          "Bbox_Partial_Overlap (TRUE)",
          "Bbox_Overlap (FALSE)",
          "Bbox_Overlap (FALSE)",
          "Bbox_Partial_Overlap (TRUE)",
          "Bbox_Overlap (FALSE)",
          "Bbox_Overlap (FALSE)",
          "Bbox_Overlap (FALSE)",
          "Bbox_Overlap (FALSE)",
          "Bbox_Overlap (FALSE)",
          "Bbox_Overlap (FALSE)",
          "Bbox_Overlap (FALSE)"
         ],
         "xaxis": "x5",
         "y": [
          0.0003020650037797168,
          0.000297877995762974,
          0.000302806991385296,
          0.00016453801072202623,
          0.00009070998930837959,
          0.0009094889974221587,
          0.0010487690014997497,
          0.000847446994157508,
          0.000851645992952399,
          0.0008405550033785403,
          0.0003982680063927546,
          0.0008433379989583045,
          0.0007501350046368316,
          0.0008684229978825897,
          0.0011443780094850808,
          0.0006683959945803508,
          0.0008184879989130422,
          0.0006994449940975755,
          0.00047319100121967494,
          0.0008139080018736422,
          0.0007370340026682243,
          0.0006469310028478503,
          0.00032726301287766546,
          0.0009522100008325651,
          0.0009551600087434053,
          0.0003974569990532473,
          0.0000806929892860353,
          0.0005111149948788807,
          0.0007312989910133183,
          0.000827757001388818,
          0.0007419850007863715,
          0.00038817699532955885,
          0.0006450189976021647,
          0.0005749789997935295,
          0.0007231039926409721,
          0.00040243899275083095,
          0.0007198150124168023,
          0.000398521005990915,
          0.000587773000006564,
          0.0005932799977017567,
          0.0005549569905269891,
          0.000536375999217853,
          0.00007442700734827667,
          0.0003532419941620901,
          0.0003550300025381148,
          0.0004668019973905757,
          0.0004491159925237298,
          0.0009235519974026829,
          0.00031840300653129816,
          0.0000802690046839416,
          0.000319530998240225,
          0.0003201560029992834,
          0.0006683969986625016,
          0.0006944640044821426,
          0.00045289799163583666,
          0.00014534899673890322,
          0.0008703370112925768,
          0.0012424919987097383,
          0.00047769700177013874,
          0.0008696720033185557,
          0.0012621719943126664,
          0.0003402030124561861,
          0.0008156940020853654,
          0.0005384949909057468,
          0.0005272359994705766,
          0.0005335220048436895,
          0.0006860900030005723,
          0.00019036000594496727,
          0.0005798649945063516,
          0.0006883199966978282,
          0.00008792801236268133,
          0.00016651699843350798,
          0.000746243997127749,
          0.00009918000432662666,
          0.0006022890011081472,
          0.00010834299609996378,
          0.0001139639934990555,
          0.00011440098751336336,
          0.00011290500697214156,
          0.00011017399083357304
         ],
         "yaxis": "y5"
        },
        {
         "alignmentgroup": "True",
         "bingroup": "x",
         "histfunc": "avg",
         "hovertemplate": "baseline=False<br>sizes=Medium<br>context=%{x}<br>avg of total_time=%{y}<extra></extra>",
         "legendgroup": "False",
         "marker": {
          "color": "#EF553B",
          "pattern": {
           "shape": ""
          }
         },
         "name": "False",
         "offsetgroup": "False",
         "orientation": "v",
         "showlegend": false,
         "type": "histogram",
         "x": [
          "Bbox_Overlap (FALSE)",
          "Bbox_Overlap (FALSE)",
          "Bbox_Overlap (FALSE)",
          "Bbox_Partial_Overlap (TRUE)",
          "Bbox_Overlap (FALSE)",
          "Bbox_Partial_Overlap (TRUE)",
          "Bbox_Partial_Overlap (TRUE)",
          "Bbox_Overlap (FALSE)",
          "Bbox_Partial_Overlap (TRUE)",
          "Bbox_Partial_Overlap (TRUE)",
          "Bbox_Partial_Overlap (TRUE)",
          "Bbox_Partial_Overlap (TRUE)",
          "Bbox_Partial_Overlap (TRUE)",
          "Bbox_Partial_Overlap (TRUE)",
          "Bbox_Partial_Overlap (TRUE)",
          "Bbox_Overlap (FALSE)",
          "Bbox_Overlap (FALSE)",
          "Bbox_Overlap (FALSE)",
          "Bbox_Partial_Overlap (TRUE)",
          "Bbox_Overlap (FALSE)",
          "Bbox_Overlap (FALSE)",
          "Bbox_Partial_Overlap (TRUE)",
          "Bbox_Partial_Overlap (TRUE)",
          "Bbox_Overlap (FALSE)",
          "Bbox_Partial_Overlap (TRUE)",
          "Bbox_Overlap (FALSE)",
          "Bbox_Partial_Overlap (TRUE)"
         ],
         "xaxis": "x6",
         "y": [
          0.0009055520058609545,
          0.00030333499307744205,
          0.0004977920034434646,
          0.0007054790039546788,
          0.00047702800657134503,
          0.0026455909974174574,
          0.0014432739990297705,
          0.0004699419951066375,
          0.0017182080046040937,
          0.0034844780020648614,
          0.0017141919961431995,
          0.001216257005580701,
          0.001068555997335352,
          0.0012234040041221306,
          0.0006881290028104559,
          0.00007026399543974549,
          0.00025647899019531906,
          0.00024214900622610003,
          0.000701892000506632,
          0.0002796509943436831,
          0.000278094012173824,
          0.0006662249943474308,
          0.001191450995975174,
          0.00029997900128364563,
          0.0014177560078678653,
          0.0004037360049551353,
          0.0005781340005341917
         ],
         "yaxis": "y6"
        }
       ],
       "layout": {
        "annotations": [
         {
          "font": {},
          "showarrow": false,
          "text": "sizes=Small",
          "x": 0.07083333333333333,
          "xanchor": "center",
          "xref": "paper",
          "y": 1,
          "yanchor": "bottom",
          "yref": "paper"
         },
         {
          "font": {},
          "showarrow": false,
          "text": "sizes=Small_Medium_Mixed",
          "x": 0.2425,
          "xanchor": "center",
          "xref": "paper",
          "y": 1,
          "yanchor": "bottom",
          "yref": "paper"
         },
         {
          "font": {},
          "showarrow": false,
          "text": "sizes=Large",
          "x": 0.4141666666666667,
          "xanchor": "center",
          "xref": "paper",
          "y": 1,
          "yanchor": "bottom",
          "yref": "paper"
         },
         {
          "font": {},
          "showarrow": false,
          "text": "sizes=Small_Large_Mixed",
          "x": 0.5858333333333334,
          "xanchor": "center",
          "xref": "paper",
          "y": 1,
          "yanchor": "bottom",
          "yref": "paper"
         },
         {
          "font": {},
          "showarrow": false,
          "text": "sizes=Medium_Large_Mixed",
          "x": 0.7575000000000001,
          "xanchor": "center",
          "xref": "paper",
          "y": 1,
          "yanchor": "bottom",
          "yref": "paper"
         },
         {
          "font": {},
          "showarrow": false,
          "text": "sizes=Medium",
          "x": 0.9291666666666667,
          "xanchor": "center",
          "xref": "paper",
          "y": 1,
          "yanchor": "bottom",
          "yref": "paper"
         }
        ],
        "barmode": "group",
        "legend": {
         "title": {
          "text": "baseline"
         },
         "tracegroupgap": 0
        },
        "template": {
         "data": {
          "bar": [
           {
            "error_x": {
             "color": "#2a3f5f"
            },
            "error_y": {
             "color": "#2a3f5f"
            },
            "marker": {
             "line": {
              "color": "#E5ECF6",
              "width": 0.5
             },
             "pattern": {
              "fillmode": "overlay",
              "size": 10,
              "solidity": 0.2
             }
            },
            "type": "bar"
           }
          ],
          "barpolar": [
           {
            "marker": {
             "line": {
              "color": "#E5ECF6",
              "width": 0.5
             },
             "pattern": {
              "fillmode": "overlay",
              "size": 10,
              "solidity": 0.2
             }
            },
            "type": "barpolar"
           }
          ],
          "carpet": [
           {
            "aaxis": {
             "endlinecolor": "#2a3f5f",
             "gridcolor": "white",
             "linecolor": "white",
             "minorgridcolor": "white",
             "startlinecolor": "#2a3f5f"
            },
            "baxis": {
             "endlinecolor": "#2a3f5f",
             "gridcolor": "white",
             "linecolor": "white",
             "minorgridcolor": "white",
             "startlinecolor": "#2a3f5f"
            },
            "type": "carpet"
           }
          ],
          "choropleth": [
           {
            "colorbar": {
             "outlinewidth": 0,
             "ticks": ""
            },
            "type": "choropleth"
           }
          ],
          "contour": [
           {
            "colorbar": {
             "outlinewidth": 0,
             "ticks": ""
            },
            "colorscale": [
             [
              0,
              "#0d0887"
             ],
             [
              0.1111111111111111,
              "#46039f"
             ],
             [
              0.2222222222222222,
              "#7201a8"
             ],
             [
              0.3333333333333333,
              "#9c179e"
             ],
             [
              0.4444444444444444,
              "#bd3786"
             ],
             [
              0.5555555555555556,
              "#d8576b"
             ],
             [
              0.6666666666666666,
              "#ed7953"
             ],
             [
              0.7777777777777778,
              "#fb9f3a"
             ],
             [
              0.8888888888888888,
              "#fdca26"
             ],
             [
              1,
              "#f0f921"
             ]
            ],
            "type": "contour"
           }
          ],
          "contourcarpet": [
           {
            "colorbar": {
             "outlinewidth": 0,
             "ticks": ""
            },
            "type": "contourcarpet"
           }
          ],
          "heatmap": [
           {
            "colorbar": {
             "outlinewidth": 0,
             "ticks": ""
            },
            "colorscale": [
             [
              0,
              "#0d0887"
             ],
             [
              0.1111111111111111,
              "#46039f"
             ],
             [
              0.2222222222222222,
              "#7201a8"
             ],
             [
              0.3333333333333333,
              "#9c179e"
             ],
             [
              0.4444444444444444,
              "#bd3786"
             ],
             [
              0.5555555555555556,
              "#d8576b"
             ],
             [
              0.6666666666666666,
              "#ed7953"
             ],
             [
              0.7777777777777778,
              "#fb9f3a"
             ],
             [
              0.8888888888888888,
              "#fdca26"
             ],
             [
              1,
              "#f0f921"
             ]
            ],
            "type": "heatmap"
           }
          ],
          "heatmapgl": [
           {
            "colorbar": {
             "outlinewidth": 0,
             "ticks": ""
            },
            "colorscale": [
             [
              0,
              "#0d0887"
             ],
             [
              0.1111111111111111,
              "#46039f"
             ],
             [
              0.2222222222222222,
              "#7201a8"
             ],
             [
              0.3333333333333333,
              "#9c179e"
             ],
             [
              0.4444444444444444,
              "#bd3786"
             ],
             [
              0.5555555555555556,
              "#d8576b"
             ],
             [
              0.6666666666666666,
              "#ed7953"
             ],
             [
              0.7777777777777778,
              "#fb9f3a"
             ],
             [
              0.8888888888888888,
              "#fdca26"
             ],
             [
              1,
              "#f0f921"
             ]
            ],
            "type": "heatmapgl"
           }
          ],
          "histogram": [
           {
            "marker": {
             "pattern": {
              "fillmode": "overlay",
              "size": 10,
              "solidity": 0.2
             }
            },
            "type": "histogram"
           }
          ],
          "histogram2d": [
           {
            "colorbar": {
             "outlinewidth": 0,
             "ticks": ""
            },
            "colorscale": [
             [
              0,
              "#0d0887"
             ],
             [
              0.1111111111111111,
              "#46039f"
             ],
             [
              0.2222222222222222,
              "#7201a8"
             ],
             [
              0.3333333333333333,
              "#9c179e"
             ],
             [
              0.4444444444444444,
              "#bd3786"
             ],
             [
              0.5555555555555556,
              "#d8576b"
             ],
             [
              0.6666666666666666,
              "#ed7953"
             ],
             [
              0.7777777777777778,
              "#fb9f3a"
             ],
             [
              0.8888888888888888,
              "#fdca26"
             ],
             [
              1,
              "#f0f921"
             ]
            ],
            "type": "histogram2d"
           }
          ],
          "histogram2dcontour": [
           {
            "colorbar": {
             "outlinewidth": 0,
             "ticks": ""
            },
            "colorscale": [
             [
              0,
              "#0d0887"
             ],
             [
              0.1111111111111111,
              "#46039f"
             ],
             [
              0.2222222222222222,
              "#7201a8"
             ],
             [
              0.3333333333333333,
              "#9c179e"
             ],
             [
              0.4444444444444444,
              "#bd3786"
             ],
             [
              0.5555555555555556,
              "#d8576b"
             ],
             [
              0.6666666666666666,
              "#ed7953"
             ],
             [
              0.7777777777777778,
              "#fb9f3a"
             ],
             [
              0.8888888888888888,
              "#fdca26"
             ],
             [
              1,
              "#f0f921"
             ]
            ],
            "type": "histogram2dcontour"
           }
          ],
          "mesh3d": [
           {
            "colorbar": {
             "outlinewidth": 0,
             "ticks": ""
            },
            "type": "mesh3d"
           }
          ],
          "parcoords": [
           {
            "line": {
             "colorbar": {
              "outlinewidth": 0,
              "ticks": ""
             }
            },
            "type": "parcoords"
           }
          ],
          "pie": [
           {
            "automargin": true,
            "type": "pie"
           }
          ],
          "scatter": [
           {
            "fillpattern": {
             "fillmode": "overlay",
             "size": 10,
             "solidity": 0.2
            },
            "type": "scatter"
           }
          ],
          "scatter3d": [
           {
            "line": {
             "colorbar": {
              "outlinewidth": 0,
              "ticks": ""
             }
            },
            "marker": {
             "colorbar": {
              "outlinewidth": 0,
              "ticks": ""
             }
            },
            "type": "scatter3d"
           }
          ],
          "scattercarpet": [
           {
            "marker": {
             "colorbar": {
              "outlinewidth": 0,
              "ticks": ""
             }
            },
            "type": "scattercarpet"
           }
          ],
          "scattergeo": [
           {
            "marker": {
             "colorbar": {
              "outlinewidth": 0,
              "ticks": ""
             }
            },
            "type": "scattergeo"
           }
          ],
          "scattergl": [
           {
            "marker": {
             "colorbar": {
              "outlinewidth": 0,
              "ticks": ""
             }
            },
            "type": "scattergl"
           }
          ],
          "scattermapbox": [
           {
            "marker": {
             "colorbar": {
              "outlinewidth": 0,
              "ticks": ""
             }
            },
            "type": "scattermapbox"
           }
          ],
          "scatterpolar": [
           {
            "marker": {
             "colorbar": {
              "outlinewidth": 0,
              "ticks": ""
             }
            },
            "type": "scatterpolar"
           }
          ],
          "scatterpolargl": [
           {
            "marker": {
             "colorbar": {
              "outlinewidth": 0,
              "ticks": ""
             }
            },
            "type": "scatterpolargl"
           }
          ],
          "scatterternary": [
           {
            "marker": {
             "colorbar": {
              "outlinewidth": 0,
              "ticks": ""
             }
            },
            "type": "scatterternary"
           }
          ],
          "surface": [
           {
            "colorbar": {
             "outlinewidth": 0,
             "ticks": ""
            },
            "colorscale": [
             [
              0,
              "#0d0887"
             ],
             [
              0.1111111111111111,
              "#46039f"
             ],
             [
              0.2222222222222222,
              "#7201a8"
             ],
             [
              0.3333333333333333,
              "#9c179e"
             ],
             [
              0.4444444444444444,
              "#bd3786"
             ],
             [
              0.5555555555555556,
              "#d8576b"
             ],
             [
              0.6666666666666666,
              "#ed7953"
             ],
             [
              0.7777777777777778,
              "#fb9f3a"
             ],
             [
              0.8888888888888888,
              "#fdca26"
             ],
             [
              1,
              "#f0f921"
             ]
            ],
            "type": "surface"
           }
          ],
          "table": [
           {
            "cells": {
             "fill": {
              "color": "#EBF0F8"
             },
             "line": {
              "color": "white"
             }
            },
            "header": {
             "fill": {
              "color": "#C8D4E3"
             },
             "line": {
              "color": "white"
             }
            },
            "type": "table"
           }
          ]
         },
         "layout": {
          "annotationdefaults": {
           "arrowcolor": "#2a3f5f",
           "arrowhead": 0,
           "arrowwidth": 1
          },
          "autotypenumbers": "strict",
          "coloraxis": {
           "colorbar": {
            "outlinewidth": 0,
            "ticks": ""
           }
          },
          "colorscale": {
           "diverging": [
            [
             0,
             "#8e0152"
            ],
            [
             0.1,
             "#c51b7d"
            ],
            [
             0.2,
             "#de77ae"
            ],
            [
             0.3,
             "#f1b6da"
            ],
            [
             0.4,
             "#fde0ef"
            ],
            [
             0.5,
             "#f7f7f7"
            ],
            [
             0.6,
             "#e6f5d0"
            ],
            [
             0.7,
             "#b8e186"
            ],
            [
             0.8,
             "#7fbc41"
            ],
            [
             0.9,
             "#4d9221"
            ],
            [
             1,
             "#276419"
            ]
           ],
           "sequential": [
            [
             0,
             "#0d0887"
            ],
            [
             0.1111111111111111,
             "#46039f"
            ],
            [
             0.2222222222222222,
             "#7201a8"
            ],
            [
             0.3333333333333333,
             "#9c179e"
            ],
            [
             0.4444444444444444,
             "#bd3786"
            ],
            [
             0.5555555555555556,
             "#d8576b"
            ],
            [
             0.6666666666666666,
             "#ed7953"
            ],
            [
             0.7777777777777778,
             "#fb9f3a"
            ],
            [
             0.8888888888888888,
             "#fdca26"
            ],
            [
             1,
             "#f0f921"
            ]
           ],
           "sequentialminus": [
            [
             0,
             "#0d0887"
            ],
            [
             0.1111111111111111,
             "#46039f"
            ],
            [
             0.2222222222222222,
             "#7201a8"
            ],
            [
             0.3333333333333333,
             "#9c179e"
            ],
            [
             0.4444444444444444,
             "#bd3786"
            ],
            [
             0.5555555555555556,
             "#d8576b"
            ],
            [
             0.6666666666666666,
             "#ed7953"
            ],
            [
             0.7777777777777778,
             "#fb9f3a"
            ],
            [
             0.8888888888888888,
             "#fdca26"
            ],
            [
             1,
             "#f0f921"
            ]
           ]
          },
          "colorway": [
           "#636efa",
           "#EF553B",
           "#00cc96",
           "#ab63fa",
           "#FFA15A",
           "#19d3f3",
           "#FF6692",
           "#B6E880",
           "#FF97FF",
           "#FECB52"
          ],
          "font": {
           "color": "#2a3f5f"
          },
          "geo": {
           "bgcolor": "white",
           "lakecolor": "white",
           "landcolor": "#E5ECF6",
           "showlakes": true,
           "showland": true,
           "subunitcolor": "white"
          },
          "hoverlabel": {
           "align": "left"
          },
          "hovermode": "closest",
          "mapbox": {
           "style": "light"
          },
          "paper_bgcolor": "white",
          "plot_bgcolor": "#E5ECF6",
          "polar": {
           "angularaxis": {
            "gridcolor": "white",
            "linecolor": "white",
            "ticks": ""
           },
           "bgcolor": "#E5ECF6",
           "radialaxis": {
            "gridcolor": "white",
            "linecolor": "white",
            "ticks": ""
           }
          },
          "scene": {
           "xaxis": {
            "backgroundcolor": "#E5ECF6",
            "gridcolor": "white",
            "gridwidth": 2,
            "linecolor": "white",
            "showbackground": true,
            "ticks": "",
            "zerolinecolor": "white"
           },
           "yaxis": {
            "backgroundcolor": "#E5ECF6",
            "gridcolor": "white",
            "gridwidth": 2,
            "linecolor": "white",
            "showbackground": true,
            "ticks": "",
            "zerolinecolor": "white"
           },
           "zaxis": {
            "backgroundcolor": "#E5ECF6",
            "gridcolor": "white",
            "gridwidth": 2,
            "linecolor": "white",
            "showbackground": true,
            "ticks": "",
            "zerolinecolor": "white"
           }
          },
          "shapedefaults": {
           "line": {
            "color": "#2a3f5f"
           }
          },
          "ternary": {
           "aaxis": {
            "gridcolor": "white",
            "linecolor": "white",
            "ticks": ""
           },
           "baxis": {
            "gridcolor": "white",
            "linecolor": "white",
            "ticks": ""
           },
           "bgcolor": "#E5ECF6",
           "caxis": {
            "gridcolor": "white",
            "linecolor": "white",
            "ticks": ""
           }
          },
          "title": {
           "x": 0.05
          },
          "xaxis": {
           "automargin": true,
           "gridcolor": "white",
           "linecolor": "white",
           "ticks": "",
           "title": {
            "standoff": 15
           },
           "zerolinecolor": "white",
           "zerolinewidth": 2
          },
          "yaxis": {
           "automargin": true,
           "gridcolor": "white",
           "linecolor": "white",
           "ticks": "",
           "title": {
            "standoff": 15
           },
           "zerolinecolor": "white",
           "zerolinewidth": 2
          }
         }
        },
        "title": {
         "text": "Execution Time for Intersection in Different Contexts & Sizes"
        },
        "xaxis": {
         "anchor": "y",
         "domain": [
          0,
          0.14166666666666666
         ],
         "title": {
          "text": "context"
         }
        },
        "xaxis2": {
         "anchor": "y2",
         "domain": [
          0.17166666666666666,
          0.31333333333333335
         ],
         "matches": "x",
         "title": {
          "text": "context"
         }
        },
        "xaxis3": {
         "anchor": "y3",
         "domain": [
          0.3433333333333333,
          0.485
         ],
         "matches": "x",
         "title": {
          "text": "context"
         }
        },
        "xaxis4": {
         "anchor": "y4",
         "domain": [
          0.515,
          0.6566666666666667
         ],
         "matches": "x",
         "title": {
          "text": "context"
         }
        },
        "xaxis5": {
         "anchor": "y5",
         "domain": [
          0.6866666666666666,
          0.8283333333333334
         ],
         "matches": "x",
         "title": {
          "text": "context"
         }
        },
        "xaxis6": {
         "anchor": "y6",
         "domain": [
          0.8583333333333333,
          1
         ],
         "matches": "x",
         "title": {
          "text": "context"
         }
        },
        "yaxis": {
         "anchor": "x",
         "domain": [
          0,
          1
         ],
         "showticklabels": true,
         "title": {
          "text": "avg of total_time"
         }
        },
        "yaxis2": {
         "anchor": "x2",
         "domain": [
          0,
          1
         ],
         "showticklabels": true
        },
        "yaxis3": {
         "anchor": "x3",
         "domain": [
          0,
          1
         ],
         "showticklabels": true
        },
        "yaxis4": {
         "anchor": "x4",
         "domain": [
          0,
          1
         ],
         "showticklabels": true
        },
        "yaxis5": {
         "anchor": "x5",
         "domain": [
          0,
          1
         ],
         "showticklabels": true
        },
        "yaxis6": {
         "anchor": "x6",
         "domain": [
          0,
          1
         ],
         "showticklabels": true
        }
       }
      }
     },
     "metadata": {},
     "output_type": "display_data"
    }
   ],
   "source": [
    "plot_total_time_box(total_time_df, is_predicate=False, size_cat_excl=[], log_scale=True) #\n",
    "plot_total_time_bars(total_time_df, is_predicate=False, size_cat_excl=[], log_scale=False) #"
   ]
  },
  {
   "attachments": {},
   "cell_type": "markdown",
   "metadata": {},
   "source": [
    "#### (%) Unfolding of chunks"
   ]
  },
  {
   "cell_type": "code",
   "execution_count": 19,
   "metadata": {},
   "outputs": [
    {
     "data": {
      "application/vnd.plotly.v1+json": {
       "config": {
        "plotlyServerURL": "https://plot.ly"
       },
       "data": [
        {
         "name": "Chunk fraction unfolded",
         "orientation": "h",
         "type": "bar",
         "x": [
          79.16666666666666,
          27.27272727272727,
          42.857142857142854,
          3.8578208617050587,
          31.149591149591146,
          18.553600128334594,
          86.07142857142857,
          10.059570981796368,
          28.914768806073152,
          20.31406839609714,
          41.15177415177415,
          15.379107319883715,
          77.67514335577162,
          20.718696752021092,
          44.972249972249976
         ],
         "y": [
          [
           "Bbox_Inside_Other (TRUE)",
           "Bbox_Inside_Other (TRUE)",
           "Bbox_Inside_Other (TRUE)",
           "Bbox_Overlap (FALSE)",
           "Bbox_Overlap (FALSE)",
           "Bbox_Overlap (FALSE)",
           "Bbox_Overlap (FALSE)",
           "Bbox_Overlap (FALSE)",
           "Bbox_Overlap (FALSE)",
           "Bbox_Partial_Overlap (TRUE)",
           "Bbox_Partial_Overlap (TRUE)",
           "Bbox_Partial_Overlap (TRUE)",
           "Bbox_Partial_Overlap (TRUE)",
           "Bbox_Partial_Overlap (TRUE)",
           "Bbox_Partial_Overlap (TRUE)"
          ],
          [
           "Small",
           "Small_Large_Mixed",
           "Small_Medium_Mixed",
           "Large",
           "Medium",
           "Medium_Large_Mixed",
           "Small",
           "Small_Large_Mixed",
           "Small_Medium_Mixed",
           "Large",
           "Medium",
           "Medium_Large_Mixed",
           "Small",
           "Small_Large_Mixed",
           "Small_Medium_Mixed"
          ]
         ]
        }
       ],
       "layout": {
        "barmode": "relative",
        "template": {
         "data": {
          "bar": [
           {
            "error_x": {
             "color": "#2a3f5f"
            },
            "error_y": {
             "color": "#2a3f5f"
            },
            "marker": {
             "line": {
              "color": "#E5ECF6",
              "width": 0.5
             },
             "pattern": {
              "fillmode": "overlay",
              "size": 10,
              "solidity": 0.2
             }
            },
            "type": "bar"
           }
          ],
          "barpolar": [
           {
            "marker": {
             "line": {
              "color": "#E5ECF6",
              "width": 0.5
             },
             "pattern": {
              "fillmode": "overlay",
              "size": 10,
              "solidity": 0.2
             }
            },
            "type": "barpolar"
           }
          ],
          "carpet": [
           {
            "aaxis": {
             "endlinecolor": "#2a3f5f",
             "gridcolor": "white",
             "linecolor": "white",
             "minorgridcolor": "white",
             "startlinecolor": "#2a3f5f"
            },
            "baxis": {
             "endlinecolor": "#2a3f5f",
             "gridcolor": "white",
             "linecolor": "white",
             "minorgridcolor": "white",
             "startlinecolor": "#2a3f5f"
            },
            "type": "carpet"
           }
          ],
          "choropleth": [
           {
            "colorbar": {
             "outlinewidth": 0,
             "ticks": ""
            },
            "type": "choropleth"
           }
          ],
          "contour": [
           {
            "colorbar": {
             "outlinewidth": 0,
             "ticks": ""
            },
            "colorscale": [
             [
              0,
              "#0d0887"
             ],
             [
              0.1111111111111111,
              "#46039f"
             ],
             [
              0.2222222222222222,
              "#7201a8"
             ],
             [
              0.3333333333333333,
              "#9c179e"
             ],
             [
              0.4444444444444444,
              "#bd3786"
             ],
             [
              0.5555555555555556,
              "#d8576b"
             ],
             [
              0.6666666666666666,
              "#ed7953"
             ],
             [
              0.7777777777777778,
              "#fb9f3a"
             ],
             [
              0.8888888888888888,
              "#fdca26"
             ],
             [
              1,
              "#f0f921"
             ]
            ],
            "type": "contour"
           }
          ],
          "contourcarpet": [
           {
            "colorbar": {
             "outlinewidth": 0,
             "ticks": ""
            },
            "type": "contourcarpet"
           }
          ],
          "heatmap": [
           {
            "colorbar": {
             "outlinewidth": 0,
             "ticks": ""
            },
            "colorscale": [
             [
              0,
              "#0d0887"
             ],
             [
              0.1111111111111111,
              "#46039f"
             ],
             [
              0.2222222222222222,
              "#7201a8"
             ],
             [
              0.3333333333333333,
              "#9c179e"
             ],
             [
              0.4444444444444444,
              "#bd3786"
             ],
             [
              0.5555555555555556,
              "#d8576b"
             ],
             [
              0.6666666666666666,
              "#ed7953"
             ],
             [
              0.7777777777777778,
              "#fb9f3a"
             ],
             [
              0.8888888888888888,
              "#fdca26"
             ],
             [
              1,
              "#f0f921"
             ]
            ],
            "type": "heatmap"
           }
          ],
          "heatmapgl": [
           {
            "colorbar": {
             "outlinewidth": 0,
             "ticks": ""
            },
            "colorscale": [
             [
              0,
              "#0d0887"
             ],
             [
              0.1111111111111111,
              "#46039f"
             ],
             [
              0.2222222222222222,
              "#7201a8"
             ],
             [
              0.3333333333333333,
              "#9c179e"
             ],
             [
              0.4444444444444444,
              "#bd3786"
             ],
             [
              0.5555555555555556,
              "#d8576b"
             ],
             [
              0.6666666666666666,
              "#ed7953"
             ],
             [
              0.7777777777777778,
              "#fb9f3a"
             ],
             [
              0.8888888888888888,
              "#fdca26"
             ],
             [
              1,
              "#f0f921"
             ]
            ],
            "type": "heatmapgl"
           }
          ],
          "histogram": [
           {
            "marker": {
             "pattern": {
              "fillmode": "overlay",
              "size": 10,
              "solidity": 0.2
             }
            },
            "type": "histogram"
           }
          ],
          "histogram2d": [
           {
            "colorbar": {
             "outlinewidth": 0,
             "ticks": ""
            },
            "colorscale": [
             [
              0,
              "#0d0887"
             ],
             [
              0.1111111111111111,
              "#46039f"
             ],
             [
              0.2222222222222222,
              "#7201a8"
             ],
             [
              0.3333333333333333,
              "#9c179e"
             ],
             [
              0.4444444444444444,
              "#bd3786"
             ],
             [
              0.5555555555555556,
              "#d8576b"
             ],
             [
              0.6666666666666666,
              "#ed7953"
             ],
             [
              0.7777777777777778,
              "#fb9f3a"
             ],
             [
              0.8888888888888888,
              "#fdca26"
             ],
             [
              1,
              "#f0f921"
             ]
            ],
            "type": "histogram2d"
           }
          ],
          "histogram2dcontour": [
           {
            "colorbar": {
             "outlinewidth": 0,
             "ticks": ""
            },
            "colorscale": [
             [
              0,
              "#0d0887"
             ],
             [
              0.1111111111111111,
              "#46039f"
             ],
             [
              0.2222222222222222,
              "#7201a8"
             ],
             [
              0.3333333333333333,
              "#9c179e"
             ],
             [
              0.4444444444444444,
              "#bd3786"
             ],
             [
              0.5555555555555556,
              "#d8576b"
             ],
             [
              0.6666666666666666,
              "#ed7953"
             ],
             [
              0.7777777777777778,
              "#fb9f3a"
             ],
             [
              0.8888888888888888,
              "#fdca26"
             ],
             [
              1,
              "#f0f921"
             ]
            ],
            "type": "histogram2dcontour"
           }
          ],
          "mesh3d": [
           {
            "colorbar": {
             "outlinewidth": 0,
             "ticks": ""
            },
            "type": "mesh3d"
           }
          ],
          "parcoords": [
           {
            "line": {
             "colorbar": {
              "outlinewidth": 0,
              "ticks": ""
             }
            },
            "type": "parcoords"
           }
          ],
          "pie": [
           {
            "automargin": true,
            "type": "pie"
           }
          ],
          "scatter": [
           {
            "fillpattern": {
             "fillmode": "overlay",
             "size": 10,
             "solidity": 0.2
            },
            "type": "scatter"
           }
          ],
          "scatter3d": [
           {
            "line": {
             "colorbar": {
              "outlinewidth": 0,
              "ticks": ""
             }
            },
            "marker": {
             "colorbar": {
              "outlinewidth": 0,
              "ticks": ""
             }
            },
            "type": "scatter3d"
           }
          ],
          "scattercarpet": [
           {
            "marker": {
             "colorbar": {
              "outlinewidth": 0,
              "ticks": ""
             }
            },
            "type": "scattercarpet"
           }
          ],
          "scattergeo": [
           {
            "marker": {
             "colorbar": {
              "outlinewidth": 0,
              "ticks": ""
             }
            },
            "type": "scattergeo"
           }
          ],
          "scattergl": [
           {
            "marker": {
             "colorbar": {
              "outlinewidth": 0,
              "ticks": ""
             }
            },
            "type": "scattergl"
           }
          ],
          "scattermapbox": [
           {
            "marker": {
             "colorbar": {
              "outlinewidth": 0,
              "ticks": ""
             }
            },
            "type": "scattermapbox"
           }
          ],
          "scatterpolar": [
           {
            "marker": {
             "colorbar": {
              "outlinewidth": 0,
              "ticks": ""
             }
            },
            "type": "scatterpolar"
           }
          ],
          "scatterpolargl": [
           {
            "marker": {
             "colorbar": {
              "outlinewidth": 0,
              "ticks": ""
             }
            },
            "type": "scatterpolargl"
           }
          ],
          "scatterternary": [
           {
            "marker": {
             "colorbar": {
              "outlinewidth": 0,
              "ticks": ""
             }
            },
            "type": "scatterternary"
           }
          ],
          "surface": [
           {
            "colorbar": {
             "outlinewidth": 0,
             "ticks": ""
            },
            "colorscale": [
             [
              0,
              "#0d0887"
             ],
             [
              0.1111111111111111,
              "#46039f"
             ],
             [
              0.2222222222222222,
              "#7201a8"
             ],
             [
              0.3333333333333333,
              "#9c179e"
             ],
             [
              0.4444444444444444,
              "#bd3786"
             ],
             [
              0.5555555555555556,
              "#d8576b"
             ],
             [
              0.6666666666666666,
              "#ed7953"
             ],
             [
              0.7777777777777778,
              "#fb9f3a"
             ],
             [
              0.8888888888888888,
              "#fdca26"
             ],
             [
              1,
              "#f0f921"
             ]
            ],
            "type": "surface"
           }
          ],
          "table": [
           {
            "cells": {
             "fill": {
              "color": "#EBF0F8"
             },
             "line": {
              "color": "white"
             }
            },
            "header": {
             "fill": {
              "color": "#C8D4E3"
             },
             "line": {
              "color": "white"
             }
            },
            "type": "table"
           }
          ]
         },
         "layout": {
          "annotationdefaults": {
           "arrowcolor": "#2a3f5f",
           "arrowhead": 0,
           "arrowwidth": 1
          },
          "autotypenumbers": "strict",
          "coloraxis": {
           "colorbar": {
            "outlinewidth": 0,
            "ticks": ""
           }
          },
          "colorscale": {
           "diverging": [
            [
             0,
             "#8e0152"
            ],
            [
             0.1,
             "#c51b7d"
            ],
            [
             0.2,
             "#de77ae"
            ],
            [
             0.3,
             "#f1b6da"
            ],
            [
             0.4,
             "#fde0ef"
            ],
            [
             0.5,
             "#f7f7f7"
            ],
            [
             0.6,
             "#e6f5d0"
            ],
            [
             0.7,
             "#b8e186"
            ],
            [
             0.8,
             "#7fbc41"
            ],
            [
             0.9,
             "#4d9221"
            ],
            [
             1,
             "#276419"
            ]
           ],
           "sequential": [
            [
             0,
             "#0d0887"
            ],
            [
             0.1111111111111111,
             "#46039f"
            ],
            [
             0.2222222222222222,
             "#7201a8"
            ],
            [
             0.3333333333333333,
             "#9c179e"
            ],
            [
             0.4444444444444444,
             "#bd3786"
            ],
            [
             0.5555555555555556,
             "#d8576b"
            ],
            [
             0.6666666666666666,
             "#ed7953"
            ],
            [
             0.7777777777777778,
             "#fb9f3a"
            ],
            [
             0.8888888888888888,
             "#fdca26"
            ],
            [
             1,
             "#f0f921"
            ]
           ],
           "sequentialminus": [
            [
             0,
             "#0d0887"
            ],
            [
             0.1111111111111111,
             "#46039f"
            ],
            [
             0.2222222222222222,
             "#7201a8"
            ],
            [
             0.3333333333333333,
             "#9c179e"
            ],
            [
             0.4444444444444444,
             "#bd3786"
            ],
            [
             0.5555555555555556,
             "#d8576b"
            ],
            [
             0.6666666666666666,
             "#ed7953"
            ],
            [
             0.7777777777777778,
             "#fb9f3a"
            ],
            [
             0.8888888888888888,
             "#fdca26"
            ],
            [
             1,
             "#f0f921"
            ]
           ]
          },
          "colorway": [
           "#636efa",
           "#EF553B",
           "#00cc96",
           "#ab63fa",
           "#FFA15A",
           "#19d3f3",
           "#FF6692",
           "#B6E880",
           "#FF97FF",
           "#FECB52"
          ],
          "font": {
           "color": "#2a3f5f"
          },
          "geo": {
           "bgcolor": "white",
           "lakecolor": "white",
           "landcolor": "#E5ECF6",
           "showlakes": true,
           "showland": true,
           "subunitcolor": "white"
          },
          "hoverlabel": {
           "align": "left"
          },
          "hovermode": "closest",
          "mapbox": {
           "style": "light"
          },
          "paper_bgcolor": "white",
          "plot_bgcolor": "#E5ECF6",
          "polar": {
           "angularaxis": {
            "gridcolor": "white",
            "linecolor": "white",
            "ticks": ""
           },
           "bgcolor": "#E5ECF6",
           "radialaxis": {
            "gridcolor": "white",
            "linecolor": "white",
            "ticks": ""
           }
          },
          "scene": {
           "xaxis": {
            "backgroundcolor": "#E5ECF6",
            "gridcolor": "white",
            "gridwidth": 2,
            "linecolor": "white",
            "showbackground": true,
            "ticks": "",
            "zerolinecolor": "white"
           },
           "yaxis": {
            "backgroundcolor": "#E5ECF6",
            "gridcolor": "white",
            "gridwidth": 2,
            "linecolor": "white",
            "showbackground": true,
            "ticks": "",
            "zerolinecolor": "white"
           },
           "zaxis": {
            "backgroundcolor": "#E5ECF6",
            "gridcolor": "white",
            "gridwidth": 2,
            "linecolor": "white",
            "showbackground": true,
            "ticks": "",
            "zerolinecolor": "white"
           }
          },
          "shapedefaults": {
           "line": {
            "color": "#2a3f5f"
           }
          },
          "ternary": {
           "aaxis": {
            "gridcolor": "white",
            "linecolor": "white",
            "ticks": ""
           },
           "baxis": {
            "gridcolor": "white",
            "linecolor": "white",
            "ticks": ""
           },
           "bgcolor": "#E5ECF6",
           "caxis": {
            "gridcolor": "white",
            "linecolor": "white",
            "ticks": ""
           }
          },
          "title": {
           "x": 0.05
          },
          "xaxis": {
           "automargin": true,
           "gridcolor": "white",
           "linecolor": "white",
           "ticks": "",
           "title": {
            "standoff": 15
           },
           "zerolinecolor": "white",
           "zerolinewidth": 2
          },
          "yaxis": {
           "automargin": true,
           "gridcolor": "white",
           "linecolor": "white",
           "ticks": "",
           "title": {
            "standoff": 15
           },
           "zerolinecolor": "white",
           "zerolinewidth": 2
          }
         }
        },
        "title": {
         "text": "Fraction of chunks unfolded for Intersection ",
         "x": 0.5
        },
        "xaxis": {
         "title": {
          "text": "Chunks Unfolded (%)"
         }
        },
        "yaxis": {
         "title": {
          "text": "Context + Geometry Size"
         }
        }
       }
      }
     },
     "metadata": {},
     "output_type": "display_data"
    },
    {
     "data": {
      "application/vnd.plotly.v1+json": {
       "config": {
        "plotlyServerURL": "https://plot.ly"
       },
       "data": [
        {
         "name": "Chunk fraction unfolded",
         "orientation": "h",
         "type": "bar",
         "x": [
          79.16666666666666,
          27.27272727272727,
          42.857142857142854,
          3.8578208617050587,
          31.149591149591146,
          18.553600128334594,
          86.07142857142857,
          10.059570981796368,
          28.914768806073152,
          19.493274962444612,
          41.15177415177415,
          15.379107319883715,
          77.43954126153078,
          20.50502153834588,
          44.972249972249976
         ],
         "y": [
          [
           "Bbox_Inside_Other (TRUE)",
           "Bbox_Inside_Other (TRUE)",
           "Bbox_Inside_Other (TRUE)",
           "Bbox_Overlap (FALSE)",
           "Bbox_Overlap (FALSE)",
           "Bbox_Overlap (FALSE)",
           "Bbox_Overlap (FALSE)",
           "Bbox_Overlap (FALSE)",
           "Bbox_Overlap (FALSE)",
           "Bbox_Partial_Overlap (TRUE)",
           "Bbox_Partial_Overlap (TRUE)",
           "Bbox_Partial_Overlap (TRUE)",
           "Bbox_Partial_Overlap (TRUE)",
           "Bbox_Partial_Overlap (TRUE)",
           "Bbox_Partial_Overlap (TRUE)"
          ],
          [
           "Small",
           "Small_Large_Mixed",
           "Small_Medium_Mixed",
           "Large",
           "Medium",
           "Medium_Large_Mixed",
           "Small",
           "Small_Large_Mixed",
           "Small_Medium_Mixed",
           "Large",
           "Medium",
           "Medium_Large_Mixed",
           "Small",
           "Small_Large_Mixed",
           "Small_Medium_Mixed"
          ]
         ]
        }
       ],
       "layout": {
        "barmode": "relative",
        "template": {
         "data": {
          "bar": [
           {
            "error_x": {
             "color": "#2a3f5f"
            },
            "error_y": {
             "color": "#2a3f5f"
            },
            "marker": {
             "line": {
              "color": "#E5ECF6",
              "width": 0.5
             },
             "pattern": {
              "fillmode": "overlay",
              "size": 10,
              "solidity": 0.2
             }
            },
            "type": "bar"
           }
          ],
          "barpolar": [
           {
            "marker": {
             "line": {
              "color": "#E5ECF6",
              "width": 0.5
             },
             "pattern": {
              "fillmode": "overlay",
              "size": 10,
              "solidity": 0.2
             }
            },
            "type": "barpolar"
           }
          ],
          "carpet": [
           {
            "aaxis": {
             "endlinecolor": "#2a3f5f",
             "gridcolor": "white",
             "linecolor": "white",
             "minorgridcolor": "white",
             "startlinecolor": "#2a3f5f"
            },
            "baxis": {
             "endlinecolor": "#2a3f5f",
             "gridcolor": "white",
             "linecolor": "white",
             "minorgridcolor": "white",
             "startlinecolor": "#2a3f5f"
            },
            "type": "carpet"
           }
          ],
          "choropleth": [
           {
            "colorbar": {
             "outlinewidth": 0,
             "ticks": ""
            },
            "type": "choropleth"
           }
          ],
          "contour": [
           {
            "colorbar": {
             "outlinewidth": 0,
             "ticks": ""
            },
            "colorscale": [
             [
              0,
              "#0d0887"
             ],
             [
              0.1111111111111111,
              "#46039f"
             ],
             [
              0.2222222222222222,
              "#7201a8"
             ],
             [
              0.3333333333333333,
              "#9c179e"
             ],
             [
              0.4444444444444444,
              "#bd3786"
             ],
             [
              0.5555555555555556,
              "#d8576b"
             ],
             [
              0.6666666666666666,
              "#ed7953"
             ],
             [
              0.7777777777777778,
              "#fb9f3a"
             ],
             [
              0.8888888888888888,
              "#fdca26"
             ],
             [
              1,
              "#f0f921"
             ]
            ],
            "type": "contour"
           }
          ],
          "contourcarpet": [
           {
            "colorbar": {
             "outlinewidth": 0,
             "ticks": ""
            },
            "type": "contourcarpet"
           }
          ],
          "heatmap": [
           {
            "colorbar": {
             "outlinewidth": 0,
             "ticks": ""
            },
            "colorscale": [
             [
              0,
              "#0d0887"
             ],
             [
              0.1111111111111111,
              "#46039f"
             ],
             [
              0.2222222222222222,
              "#7201a8"
             ],
             [
              0.3333333333333333,
              "#9c179e"
             ],
             [
              0.4444444444444444,
              "#bd3786"
             ],
             [
              0.5555555555555556,
              "#d8576b"
             ],
             [
              0.6666666666666666,
              "#ed7953"
             ],
             [
              0.7777777777777778,
              "#fb9f3a"
             ],
             [
              0.8888888888888888,
              "#fdca26"
             ],
             [
              1,
              "#f0f921"
             ]
            ],
            "type": "heatmap"
           }
          ],
          "heatmapgl": [
           {
            "colorbar": {
             "outlinewidth": 0,
             "ticks": ""
            },
            "colorscale": [
             [
              0,
              "#0d0887"
             ],
             [
              0.1111111111111111,
              "#46039f"
             ],
             [
              0.2222222222222222,
              "#7201a8"
             ],
             [
              0.3333333333333333,
              "#9c179e"
             ],
             [
              0.4444444444444444,
              "#bd3786"
             ],
             [
              0.5555555555555556,
              "#d8576b"
             ],
             [
              0.6666666666666666,
              "#ed7953"
             ],
             [
              0.7777777777777778,
              "#fb9f3a"
             ],
             [
              0.8888888888888888,
              "#fdca26"
             ],
             [
              1,
              "#f0f921"
             ]
            ],
            "type": "heatmapgl"
           }
          ],
          "histogram": [
           {
            "marker": {
             "pattern": {
              "fillmode": "overlay",
              "size": 10,
              "solidity": 0.2
             }
            },
            "type": "histogram"
           }
          ],
          "histogram2d": [
           {
            "colorbar": {
             "outlinewidth": 0,
             "ticks": ""
            },
            "colorscale": [
             [
              0,
              "#0d0887"
             ],
             [
              0.1111111111111111,
              "#46039f"
             ],
             [
              0.2222222222222222,
              "#7201a8"
             ],
             [
              0.3333333333333333,
              "#9c179e"
             ],
             [
              0.4444444444444444,
              "#bd3786"
             ],
             [
              0.5555555555555556,
              "#d8576b"
             ],
             [
              0.6666666666666666,
              "#ed7953"
             ],
             [
              0.7777777777777778,
              "#fb9f3a"
             ],
             [
              0.8888888888888888,
              "#fdca26"
             ],
             [
              1,
              "#f0f921"
             ]
            ],
            "type": "histogram2d"
           }
          ],
          "histogram2dcontour": [
           {
            "colorbar": {
             "outlinewidth": 0,
             "ticks": ""
            },
            "colorscale": [
             [
              0,
              "#0d0887"
             ],
             [
              0.1111111111111111,
              "#46039f"
             ],
             [
              0.2222222222222222,
              "#7201a8"
             ],
             [
              0.3333333333333333,
              "#9c179e"
             ],
             [
              0.4444444444444444,
              "#bd3786"
             ],
             [
              0.5555555555555556,
              "#d8576b"
             ],
             [
              0.6666666666666666,
              "#ed7953"
             ],
             [
              0.7777777777777778,
              "#fb9f3a"
             ],
             [
              0.8888888888888888,
              "#fdca26"
             ],
             [
              1,
              "#f0f921"
             ]
            ],
            "type": "histogram2dcontour"
           }
          ],
          "mesh3d": [
           {
            "colorbar": {
             "outlinewidth": 0,
             "ticks": ""
            },
            "type": "mesh3d"
           }
          ],
          "parcoords": [
           {
            "line": {
             "colorbar": {
              "outlinewidth": 0,
              "ticks": ""
             }
            },
            "type": "parcoords"
           }
          ],
          "pie": [
           {
            "automargin": true,
            "type": "pie"
           }
          ],
          "scatter": [
           {
            "fillpattern": {
             "fillmode": "overlay",
             "size": 10,
             "solidity": 0.2
            },
            "type": "scatter"
           }
          ],
          "scatter3d": [
           {
            "line": {
             "colorbar": {
              "outlinewidth": 0,
              "ticks": ""
             }
            },
            "marker": {
             "colorbar": {
              "outlinewidth": 0,
              "ticks": ""
             }
            },
            "type": "scatter3d"
           }
          ],
          "scattercarpet": [
           {
            "marker": {
             "colorbar": {
              "outlinewidth": 0,
              "ticks": ""
             }
            },
            "type": "scattercarpet"
           }
          ],
          "scattergeo": [
           {
            "marker": {
             "colorbar": {
              "outlinewidth": 0,
              "ticks": ""
             }
            },
            "type": "scattergeo"
           }
          ],
          "scattergl": [
           {
            "marker": {
             "colorbar": {
              "outlinewidth": 0,
              "ticks": ""
             }
            },
            "type": "scattergl"
           }
          ],
          "scattermapbox": [
           {
            "marker": {
             "colorbar": {
              "outlinewidth": 0,
              "ticks": ""
             }
            },
            "type": "scattermapbox"
           }
          ],
          "scatterpolar": [
           {
            "marker": {
             "colorbar": {
              "outlinewidth": 0,
              "ticks": ""
             }
            },
            "type": "scatterpolar"
           }
          ],
          "scatterpolargl": [
           {
            "marker": {
             "colorbar": {
              "outlinewidth": 0,
              "ticks": ""
             }
            },
            "type": "scatterpolargl"
           }
          ],
          "scatterternary": [
           {
            "marker": {
             "colorbar": {
              "outlinewidth": 0,
              "ticks": ""
             }
            },
            "type": "scatterternary"
           }
          ],
          "surface": [
           {
            "colorbar": {
             "outlinewidth": 0,
             "ticks": ""
            },
            "colorscale": [
             [
              0,
              "#0d0887"
             ],
             [
              0.1111111111111111,
              "#46039f"
             ],
             [
              0.2222222222222222,
              "#7201a8"
             ],
             [
              0.3333333333333333,
              "#9c179e"
             ],
             [
              0.4444444444444444,
              "#bd3786"
             ],
             [
              0.5555555555555556,
              "#d8576b"
             ],
             [
              0.6666666666666666,
              "#ed7953"
             ],
             [
              0.7777777777777778,
              "#fb9f3a"
             ],
             [
              0.8888888888888888,
              "#fdca26"
             ],
             [
              1,
              "#f0f921"
             ]
            ],
            "type": "surface"
           }
          ],
          "table": [
           {
            "cells": {
             "fill": {
              "color": "#EBF0F8"
             },
             "line": {
              "color": "white"
             }
            },
            "header": {
             "fill": {
              "color": "#C8D4E3"
             },
             "line": {
              "color": "white"
             }
            },
            "type": "table"
           }
          ]
         },
         "layout": {
          "annotationdefaults": {
           "arrowcolor": "#2a3f5f",
           "arrowhead": 0,
           "arrowwidth": 1
          },
          "autotypenumbers": "strict",
          "coloraxis": {
           "colorbar": {
            "outlinewidth": 0,
            "ticks": ""
           }
          },
          "colorscale": {
           "diverging": [
            [
             0,
             "#8e0152"
            ],
            [
             0.1,
             "#c51b7d"
            ],
            [
             0.2,
             "#de77ae"
            ],
            [
             0.3,
             "#f1b6da"
            ],
            [
             0.4,
             "#fde0ef"
            ],
            [
             0.5,
             "#f7f7f7"
            ],
            [
             0.6,
             "#e6f5d0"
            ],
            [
             0.7,
             "#b8e186"
            ],
            [
             0.8,
             "#7fbc41"
            ],
            [
             0.9,
             "#4d9221"
            ],
            [
             1,
             "#276419"
            ]
           ],
           "sequential": [
            [
             0,
             "#0d0887"
            ],
            [
             0.1111111111111111,
             "#46039f"
            ],
            [
             0.2222222222222222,
             "#7201a8"
            ],
            [
             0.3333333333333333,
             "#9c179e"
            ],
            [
             0.4444444444444444,
             "#bd3786"
            ],
            [
             0.5555555555555556,
             "#d8576b"
            ],
            [
             0.6666666666666666,
             "#ed7953"
            ],
            [
             0.7777777777777778,
             "#fb9f3a"
            ],
            [
             0.8888888888888888,
             "#fdca26"
            ],
            [
             1,
             "#f0f921"
            ]
           ],
           "sequentialminus": [
            [
             0,
             "#0d0887"
            ],
            [
             0.1111111111111111,
             "#46039f"
            ],
            [
             0.2222222222222222,
             "#7201a8"
            ],
            [
             0.3333333333333333,
             "#9c179e"
            ],
            [
             0.4444444444444444,
             "#bd3786"
            ],
            [
             0.5555555555555556,
             "#d8576b"
            ],
            [
             0.6666666666666666,
             "#ed7953"
            ],
            [
             0.7777777777777778,
             "#fb9f3a"
            ],
            [
             0.8888888888888888,
             "#fdca26"
            ],
            [
             1,
             "#f0f921"
            ]
           ]
          },
          "colorway": [
           "#636efa",
           "#EF553B",
           "#00cc96",
           "#ab63fa",
           "#FFA15A",
           "#19d3f3",
           "#FF6692",
           "#B6E880",
           "#FF97FF",
           "#FECB52"
          ],
          "font": {
           "color": "#2a3f5f"
          },
          "geo": {
           "bgcolor": "white",
           "lakecolor": "white",
           "landcolor": "#E5ECF6",
           "showlakes": true,
           "showland": true,
           "subunitcolor": "white"
          },
          "hoverlabel": {
           "align": "left"
          },
          "hovermode": "closest",
          "mapbox": {
           "style": "light"
          },
          "paper_bgcolor": "white",
          "plot_bgcolor": "#E5ECF6",
          "polar": {
           "angularaxis": {
            "gridcolor": "white",
            "linecolor": "white",
            "ticks": ""
           },
           "bgcolor": "#E5ECF6",
           "radialaxis": {
            "gridcolor": "white",
            "linecolor": "white",
            "ticks": ""
           }
          },
          "scene": {
           "xaxis": {
            "backgroundcolor": "#E5ECF6",
            "gridcolor": "white",
            "gridwidth": 2,
            "linecolor": "white",
            "showbackground": true,
            "ticks": "",
            "zerolinecolor": "white"
           },
           "yaxis": {
            "backgroundcolor": "#E5ECF6",
            "gridcolor": "white",
            "gridwidth": 2,
            "linecolor": "white",
            "showbackground": true,
            "ticks": "",
            "zerolinecolor": "white"
           },
           "zaxis": {
            "backgroundcolor": "#E5ECF6",
            "gridcolor": "white",
            "gridwidth": 2,
            "linecolor": "white",
            "showbackground": true,
            "ticks": "",
            "zerolinecolor": "white"
           }
          },
          "shapedefaults": {
           "line": {
            "color": "#2a3f5f"
           }
          },
          "ternary": {
           "aaxis": {
            "gridcolor": "white",
            "linecolor": "white",
            "ticks": ""
           },
           "baxis": {
            "gridcolor": "white",
            "linecolor": "white",
            "ticks": ""
           },
           "bgcolor": "#E5ECF6",
           "caxis": {
            "gridcolor": "white",
            "linecolor": "white",
            "ticks": ""
           }
          },
          "title": {
           "x": 0.05
          },
          "xaxis": {
           "automargin": true,
           "gridcolor": "white",
           "linecolor": "white",
           "ticks": "",
           "title": {
            "standoff": 15
           },
           "zerolinecolor": "white",
           "zerolinewidth": 2
          },
          "yaxis": {
           "automargin": true,
           "gridcolor": "white",
           "linecolor": "white",
           "ticks": "",
           "title": {
            "standoff": 15
           },
           "zerolinecolor": "white",
           "zerolinewidth": 2
          }
         }
        },
        "title": {
         "text": "Fraction of chunks unfolded for IsIntersection ",
         "x": 0.5
        },
        "xaxis": {
         "title": {
          "text": "Chunks Unfolded (%)"
         }
        },
        "yaxis": {
         "title": {
          "text": "Context + Geometry Size"
         }
        }
       }
      }
     },
     "metadata": {},
     "output_type": "display_data"
    }
   ],
   "source": [
    "plot_chunk_unfolded_frac(chunk_unfolded_df, is_predicate=False, is_baseline=False)\n",
    "plot_chunk_unfolded_frac(chunk_unfolded_df, is_predicate=True, is_baseline=False)"
   ]
  },
  {
   "attachments": {},
   "cell_type": "markdown",
   "metadata": {},
   "source": [
    "#### Partial Decompression Fraction of Execution"
   ]
  },
  {
   "cell_type": "code",
   "execution_count": 20,
   "metadata": {},
   "outputs": [
    {
     "data": {
      "application/vnd.plotly.v1+json": {
       "config": {
        "plotlyServerURL": "https://plot.ly"
       },
       "data": [
        {
         "name": "Decompression stage",
         "orientation": "h",
         "type": "bar",
         "x": [
          31.015328146567466,
          63.53794140563328,
          51.66115497931431,
          91.93929579208358,
          73.7881049439775,
          82.5209578276393,
          52.00990170475513,
          86.58991283039785,
          72.52095863286516,
          49.41576334597297,
          44.531614922114294,
          69.04141568503988,
          28.932132955687397,
          63.88482141429456,
          42.95258323185699
         ],
         "y": [
          [
           "Bbox_Inside_Other (TRUE)",
           "Bbox_Inside_Other (TRUE)",
           "Bbox_Inside_Other (TRUE)",
           "Bbox_Overlap (FALSE)",
           "Bbox_Overlap (FALSE)",
           "Bbox_Overlap (FALSE)",
           "Bbox_Overlap (FALSE)",
           "Bbox_Overlap (FALSE)",
           "Bbox_Overlap (FALSE)",
           "Bbox_Partial_Overlap (TRUE)",
           "Bbox_Partial_Overlap (TRUE)",
           "Bbox_Partial_Overlap (TRUE)",
           "Bbox_Partial_Overlap (TRUE)",
           "Bbox_Partial_Overlap (TRUE)",
           "Bbox_Partial_Overlap (TRUE)"
          ],
          [
           "Small",
           "Small_Large_Mixed",
           "Small_Medium_Mixed",
           "Large",
           "Medium",
           "Medium_Large_Mixed",
           "Small",
           "Small_Large_Mixed",
           "Small_Medium_Mixed",
           "Large",
           "Medium",
           "Medium_Large_Mixed",
           "Small",
           "Small_Large_Mixed",
           "Small_Medium_Mixed"
          ]
         ]
        },
        {
         "name": "Intersection",
         "orientation": "h",
         "type": "bar",
         "x": [
          68.98467185343253,
          36.46205859436672,
          48.33884502068569,
          8.060704207916416,
          26.211895056022502,
          17.479042172360717,
          47.99009829524487,
          13.410087169602145,
          27.479041367134844,
          50.58423665402703,
          55.468385077885706,
          30.95858431496012,
          71.06786704431259,
          36.11517858570544,
          57.04741676814301
         ],
         "y": [
          [
           "Bbox_Inside_Other (TRUE)",
           "Bbox_Inside_Other (TRUE)",
           "Bbox_Inside_Other (TRUE)",
           "Bbox_Overlap (FALSE)",
           "Bbox_Overlap (FALSE)",
           "Bbox_Overlap (FALSE)",
           "Bbox_Overlap (FALSE)",
           "Bbox_Overlap (FALSE)",
           "Bbox_Overlap (FALSE)",
           "Bbox_Partial_Overlap (TRUE)",
           "Bbox_Partial_Overlap (TRUE)",
           "Bbox_Partial_Overlap (TRUE)",
           "Bbox_Partial_Overlap (TRUE)",
           "Bbox_Partial_Overlap (TRUE)",
           "Bbox_Partial_Overlap (TRUE)"
          ],
          [
           "Small",
           "Small_Large_Mixed",
           "Small_Medium_Mixed",
           "Large",
           "Medium",
           "Medium_Large_Mixed",
           "Small",
           "Small_Large_Mixed",
           "Small_Medium_Mixed",
           "Large",
           "Medium",
           "Medium_Large_Mixed",
           "Small",
           "Small_Large_Mixed",
           "Small_Medium_Mixed"
          ]
         ]
        }
       ],
       "layout": {
        "barmode": "relative",
        "legend": {
         "x": 0.997,
         "xanchor": "right",
         "y": 1.2,
         "yanchor": "top"
        },
        "template": {
         "data": {
          "bar": [
           {
            "error_x": {
             "color": "#2a3f5f"
            },
            "error_y": {
             "color": "#2a3f5f"
            },
            "marker": {
             "line": {
              "color": "#E5ECF6",
              "width": 0.5
             },
             "pattern": {
              "fillmode": "overlay",
              "size": 10,
              "solidity": 0.2
             }
            },
            "type": "bar"
           }
          ],
          "barpolar": [
           {
            "marker": {
             "line": {
              "color": "#E5ECF6",
              "width": 0.5
             },
             "pattern": {
              "fillmode": "overlay",
              "size": 10,
              "solidity": 0.2
             }
            },
            "type": "barpolar"
           }
          ],
          "carpet": [
           {
            "aaxis": {
             "endlinecolor": "#2a3f5f",
             "gridcolor": "white",
             "linecolor": "white",
             "minorgridcolor": "white",
             "startlinecolor": "#2a3f5f"
            },
            "baxis": {
             "endlinecolor": "#2a3f5f",
             "gridcolor": "white",
             "linecolor": "white",
             "minorgridcolor": "white",
             "startlinecolor": "#2a3f5f"
            },
            "type": "carpet"
           }
          ],
          "choropleth": [
           {
            "colorbar": {
             "outlinewidth": 0,
             "ticks": ""
            },
            "type": "choropleth"
           }
          ],
          "contour": [
           {
            "colorbar": {
             "outlinewidth": 0,
             "ticks": ""
            },
            "colorscale": [
             [
              0,
              "#0d0887"
             ],
             [
              0.1111111111111111,
              "#46039f"
             ],
             [
              0.2222222222222222,
              "#7201a8"
             ],
             [
              0.3333333333333333,
              "#9c179e"
             ],
             [
              0.4444444444444444,
              "#bd3786"
             ],
             [
              0.5555555555555556,
              "#d8576b"
             ],
             [
              0.6666666666666666,
              "#ed7953"
             ],
             [
              0.7777777777777778,
              "#fb9f3a"
             ],
             [
              0.8888888888888888,
              "#fdca26"
             ],
             [
              1,
              "#f0f921"
             ]
            ],
            "type": "contour"
           }
          ],
          "contourcarpet": [
           {
            "colorbar": {
             "outlinewidth": 0,
             "ticks": ""
            },
            "type": "contourcarpet"
           }
          ],
          "heatmap": [
           {
            "colorbar": {
             "outlinewidth": 0,
             "ticks": ""
            },
            "colorscale": [
             [
              0,
              "#0d0887"
             ],
             [
              0.1111111111111111,
              "#46039f"
             ],
             [
              0.2222222222222222,
              "#7201a8"
             ],
             [
              0.3333333333333333,
              "#9c179e"
             ],
             [
              0.4444444444444444,
              "#bd3786"
             ],
             [
              0.5555555555555556,
              "#d8576b"
             ],
             [
              0.6666666666666666,
              "#ed7953"
             ],
             [
              0.7777777777777778,
              "#fb9f3a"
             ],
             [
              0.8888888888888888,
              "#fdca26"
             ],
             [
              1,
              "#f0f921"
             ]
            ],
            "type": "heatmap"
           }
          ],
          "heatmapgl": [
           {
            "colorbar": {
             "outlinewidth": 0,
             "ticks": ""
            },
            "colorscale": [
             [
              0,
              "#0d0887"
             ],
             [
              0.1111111111111111,
              "#46039f"
             ],
             [
              0.2222222222222222,
              "#7201a8"
             ],
             [
              0.3333333333333333,
              "#9c179e"
             ],
             [
              0.4444444444444444,
              "#bd3786"
             ],
             [
              0.5555555555555556,
              "#d8576b"
             ],
             [
              0.6666666666666666,
              "#ed7953"
             ],
             [
              0.7777777777777778,
              "#fb9f3a"
             ],
             [
              0.8888888888888888,
              "#fdca26"
             ],
             [
              1,
              "#f0f921"
             ]
            ],
            "type": "heatmapgl"
           }
          ],
          "histogram": [
           {
            "marker": {
             "pattern": {
              "fillmode": "overlay",
              "size": 10,
              "solidity": 0.2
             }
            },
            "type": "histogram"
           }
          ],
          "histogram2d": [
           {
            "colorbar": {
             "outlinewidth": 0,
             "ticks": ""
            },
            "colorscale": [
             [
              0,
              "#0d0887"
             ],
             [
              0.1111111111111111,
              "#46039f"
             ],
             [
              0.2222222222222222,
              "#7201a8"
             ],
             [
              0.3333333333333333,
              "#9c179e"
             ],
             [
              0.4444444444444444,
              "#bd3786"
             ],
             [
              0.5555555555555556,
              "#d8576b"
             ],
             [
              0.6666666666666666,
              "#ed7953"
             ],
             [
              0.7777777777777778,
              "#fb9f3a"
             ],
             [
              0.8888888888888888,
              "#fdca26"
             ],
             [
              1,
              "#f0f921"
             ]
            ],
            "type": "histogram2d"
           }
          ],
          "histogram2dcontour": [
           {
            "colorbar": {
             "outlinewidth": 0,
             "ticks": ""
            },
            "colorscale": [
             [
              0,
              "#0d0887"
             ],
             [
              0.1111111111111111,
              "#46039f"
             ],
             [
              0.2222222222222222,
              "#7201a8"
             ],
             [
              0.3333333333333333,
              "#9c179e"
             ],
             [
              0.4444444444444444,
              "#bd3786"
             ],
             [
              0.5555555555555556,
              "#d8576b"
             ],
             [
              0.6666666666666666,
              "#ed7953"
             ],
             [
              0.7777777777777778,
              "#fb9f3a"
             ],
             [
              0.8888888888888888,
              "#fdca26"
             ],
             [
              1,
              "#f0f921"
             ]
            ],
            "type": "histogram2dcontour"
           }
          ],
          "mesh3d": [
           {
            "colorbar": {
             "outlinewidth": 0,
             "ticks": ""
            },
            "type": "mesh3d"
           }
          ],
          "parcoords": [
           {
            "line": {
             "colorbar": {
              "outlinewidth": 0,
              "ticks": ""
             }
            },
            "type": "parcoords"
           }
          ],
          "pie": [
           {
            "automargin": true,
            "type": "pie"
           }
          ],
          "scatter": [
           {
            "fillpattern": {
             "fillmode": "overlay",
             "size": 10,
             "solidity": 0.2
            },
            "type": "scatter"
           }
          ],
          "scatter3d": [
           {
            "line": {
             "colorbar": {
              "outlinewidth": 0,
              "ticks": ""
             }
            },
            "marker": {
             "colorbar": {
              "outlinewidth": 0,
              "ticks": ""
             }
            },
            "type": "scatter3d"
           }
          ],
          "scattercarpet": [
           {
            "marker": {
             "colorbar": {
              "outlinewidth": 0,
              "ticks": ""
             }
            },
            "type": "scattercarpet"
           }
          ],
          "scattergeo": [
           {
            "marker": {
             "colorbar": {
              "outlinewidth": 0,
              "ticks": ""
             }
            },
            "type": "scattergeo"
           }
          ],
          "scattergl": [
           {
            "marker": {
             "colorbar": {
              "outlinewidth": 0,
              "ticks": ""
             }
            },
            "type": "scattergl"
           }
          ],
          "scattermapbox": [
           {
            "marker": {
             "colorbar": {
              "outlinewidth": 0,
              "ticks": ""
             }
            },
            "type": "scattermapbox"
           }
          ],
          "scatterpolar": [
           {
            "marker": {
             "colorbar": {
              "outlinewidth": 0,
              "ticks": ""
             }
            },
            "type": "scatterpolar"
           }
          ],
          "scatterpolargl": [
           {
            "marker": {
             "colorbar": {
              "outlinewidth": 0,
              "ticks": ""
             }
            },
            "type": "scatterpolargl"
           }
          ],
          "scatterternary": [
           {
            "marker": {
             "colorbar": {
              "outlinewidth": 0,
              "ticks": ""
             }
            },
            "type": "scatterternary"
           }
          ],
          "surface": [
           {
            "colorbar": {
             "outlinewidth": 0,
             "ticks": ""
            },
            "colorscale": [
             [
              0,
              "#0d0887"
             ],
             [
              0.1111111111111111,
              "#46039f"
             ],
             [
              0.2222222222222222,
              "#7201a8"
             ],
             [
              0.3333333333333333,
              "#9c179e"
             ],
             [
              0.4444444444444444,
              "#bd3786"
             ],
             [
              0.5555555555555556,
              "#d8576b"
             ],
             [
              0.6666666666666666,
              "#ed7953"
             ],
             [
              0.7777777777777778,
              "#fb9f3a"
             ],
             [
              0.8888888888888888,
              "#fdca26"
             ],
             [
              1,
              "#f0f921"
             ]
            ],
            "type": "surface"
           }
          ],
          "table": [
           {
            "cells": {
             "fill": {
              "color": "#EBF0F8"
             },
             "line": {
              "color": "white"
             }
            },
            "header": {
             "fill": {
              "color": "#C8D4E3"
             },
             "line": {
              "color": "white"
             }
            },
            "type": "table"
           }
          ]
         },
         "layout": {
          "annotationdefaults": {
           "arrowcolor": "#2a3f5f",
           "arrowhead": 0,
           "arrowwidth": 1
          },
          "autotypenumbers": "strict",
          "coloraxis": {
           "colorbar": {
            "outlinewidth": 0,
            "ticks": ""
           }
          },
          "colorscale": {
           "diverging": [
            [
             0,
             "#8e0152"
            ],
            [
             0.1,
             "#c51b7d"
            ],
            [
             0.2,
             "#de77ae"
            ],
            [
             0.3,
             "#f1b6da"
            ],
            [
             0.4,
             "#fde0ef"
            ],
            [
             0.5,
             "#f7f7f7"
            ],
            [
             0.6,
             "#e6f5d0"
            ],
            [
             0.7,
             "#b8e186"
            ],
            [
             0.8,
             "#7fbc41"
            ],
            [
             0.9,
             "#4d9221"
            ],
            [
             1,
             "#276419"
            ]
           ],
           "sequential": [
            [
             0,
             "#0d0887"
            ],
            [
             0.1111111111111111,
             "#46039f"
            ],
            [
             0.2222222222222222,
             "#7201a8"
            ],
            [
             0.3333333333333333,
             "#9c179e"
            ],
            [
             0.4444444444444444,
             "#bd3786"
            ],
            [
             0.5555555555555556,
             "#d8576b"
            ],
            [
             0.6666666666666666,
             "#ed7953"
            ],
            [
             0.7777777777777778,
             "#fb9f3a"
            ],
            [
             0.8888888888888888,
             "#fdca26"
            ],
            [
             1,
             "#f0f921"
            ]
           ],
           "sequentialminus": [
            [
             0,
             "#0d0887"
            ],
            [
             0.1111111111111111,
             "#46039f"
            ],
            [
             0.2222222222222222,
             "#7201a8"
            ],
            [
             0.3333333333333333,
             "#9c179e"
            ],
            [
             0.4444444444444444,
             "#bd3786"
            ],
            [
             0.5555555555555556,
             "#d8576b"
            ],
            [
             0.6666666666666666,
             "#ed7953"
            ],
            [
             0.7777777777777778,
             "#fb9f3a"
            ],
            [
             0.8888888888888888,
             "#fdca26"
            ],
            [
             1,
             "#f0f921"
            ]
           ]
          },
          "colorway": [
           "#636efa",
           "#EF553B",
           "#00cc96",
           "#ab63fa",
           "#FFA15A",
           "#19d3f3",
           "#FF6692",
           "#B6E880",
           "#FF97FF",
           "#FECB52"
          ],
          "font": {
           "color": "#2a3f5f"
          },
          "geo": {
           "bgcolor": "white",
           "lakecolor": "white",
           "landcolor": "#E5ECF6",
           "showlakes": true,
           "showland": true,
           "subunitcolor": "white"
          },
          "hoverlabel": {
           "align": "left"
          },
          "hovermode": "closest",
          "mapbox": {
           "style": "light"
          },
          "paper_bgcolor": "white",
          "plot_bgcolor": "#E5ECF6",
          "polar": {
           "angularaxis": {
            "gridcolor": "white",
            "linecolor": "white",
            "ticks": ""
           },
           "bgcolor": "#E5ECF6",
           "radialaxis": {
            "gridcolor": "white",
            "linecolor": "white",
            "ticks": ""
           }
          },
          "scene": {
           "xaxis": {
            "backgroundcolor": "#E5ECF6",
            "gridcolor": "white",
            "gridwidth": 2,
            "linecolor": "white",
            "showbackground": true,
            "ticks": "",
            "zerolinecolor": "white"
           },
           "yaxis": {
            "backgroundcolor": "#E5ECF6",
            "gridcolor": "white",
            "gridwidth": 2,
            "linecolor": "white",
            "showbackground": true,
            "ticks": "",
            "zerolinecolor": "white"
           },
           "zaxis": {
            "backgroundcolor": "#E5ECF6",
            "gridcolor": "white",
            "gridwidth": 2,
            "linecolor": "white",
            "showbackground": true,
            "ticks": "",
            "zerolinecolor": "white"
           }
          },
          "shapedefaults": {
           "line": {
            "color": "#2a3f5f"
           }
          },
          "ternary": {
           "aaxis": {
            "gridcolor": "white",
            "linecolor": "white",
            "ticks": ""
           },
           "baxis": {
            "gridcolor": "white",
            "linecolor": "white",
            "ticks": ""
           },
           "bgcolor": "#E5ECF6",
           "caxis": {
            "gridcolor": "white",
            "linecolor": "white",
            "ticks": ""
           }
          },
          "title": {
           "x": 0.05
          },
          "xaxis": {
           "automargin": true,
           "gridcolor": "white",
           "linecolor": "white",
           "ticks": "",
           "title": {
            "standoff": 15
           },
           "zerolinecolor": "white",
           "zerolinewidth": 2
          },
          "yaxis": {
           "automargin": true,
           "gridcolor": "white",
           "linecolor": "white",
           "ticks": "",
           "title": {
            "standoff": 15
           },
           "zerolinecolor": "white",
           "zerolinewidth": 2
          }
         }
        },
        "title": {
         "text": "Execution time distrubution for Intersection (BASELINE)",
         "x": 0.5
        },
        "xaxis": {
         "title": {
          "text": "Execution time (%)"
         }
        },
        "yaxis": {
         "title": {
          "text": "Context + Geometry Size)"
         }
        }
       }
      }
     },
     "metadata": {},
     "output_type": "display_data"
    },
    {
     "data": {
      "application/vnd.plotly.v1+json": {
       "config": {
        "plotlyServerURL": "https://plot.ly"
       },
       "data": [
        {
         "name": "Decompression stage",
         "orientation": "h",
         "type": "bar",
         "x": [
          25.283385350769876,
          33.049367800679406,
          30.261236665669223,
          66.60750292711626,
          49.25830845622417,
          52.5910323175691,
          44.214109494602205,
          50.22323365791358,
          45.042780120797445,
          17.512144572861043,
          23.845020763566573,
          28.939829777487404,
          21.179605617238554,
          27.664282197990094,
          23.103684951047743
         ],
         "y": [
          [
           "Bbox_Inside_Other (TRUE)",
           "Bbox_Inside_Other (TRUE)",
           "Bbox_Inside_Other (TRUE)",
           "Bbox_Overlap (FALSE)",
           "Bbox_Overlap (FALSE)",
           "Bbox_Overlap (FALSE)",
           "Bbox_Overlap (FALSE)",
           "Bbox_Overlap (FALSE)",
           "Bbox_Overlap (FALSE)",
           "Bbox_Partial_Overlap (TRUE)",
           "Bbox_Partial_Overlap (TRUE)",
           "Bbox_Partial_Overlap (TRUE)",
           "Bbox_Partial_Overlap (TRUE)",
           "Bbox_Partial_Overlap (TRUE)",
           "Bbox_Partial_Overlap (TRUE)"
          ],
          [
           "Small",
           "Small_Large_Mixed",
           "Small_Medium_Mixed",
           "Large",
           "Medium",
           "Medium_Large_Mixed",
           "Small",
           "Small_Large_Mixed",
           "Small_Medium_Mixed",
           "Large",
           "Medium",
           "Medium_Large_Mixed",
           "Small",
           "Small_Large_Mixed",
           "Small_Medium_Mixed"
          ]
         ]
        },
        {
         "name": "Intersection",
         "orientation": "h",
         "type": "bar",
         "x": [
          74.71661464923012,
          66.95063219932061,
          69.73876333433077,
          33.392497072883735,
          50.74169154377583,
          47.4089676824309,
          55.785890505397795,
          49.77676634208642,
          54.957219879202555,
          82.48785542713895,
          76.15497923643343,
          71.0601702225126,
          78.82039438276145,
          72.33571780200991,
          76.89631504895225
         ],
         "y": [
          [
           "Bbox_Inside_Other (TRUE)",
           "Bbox_Inside_Other (TRUE)",
           "Bbox_Inside_Other (TRUE)",
           "Bbox_Overlap (FALSE)",
           "Bbox_Overlap (FALSE)",
           "Bbox_Overlap (FALSE)",
           "Bbox_Overlap (FALSE)",
           "Bbox_Overlap (FALSE)",
           "Bbox_Overlap (FALSE)",
           "Bbox_Partial_Overlap (TRUE)",
           "Bbox_Partial_Overlap (TRUE)",
           "Bbox_Partial_Overlap (TRUE)",
           "Bbox_Partial_Overlap (TRUE)",
           "Bbox_Partial_Overlap (TRUE)",
           "Bbox_Partial_Overlap (TRUE)"
          ],
          [
           "Small",
           "Small_Large_Mixed",
           "Small_Medium_Mixed",
           "Large",
           "Medium",
           "Medium_Large_Mixed",
           "Small",
           "Small_Large_Mixed",
           "Small_Medium_Mixed",
           "Large",
           "Medium",
           "Medium_Large_Mixed",
           "Small",
           "Small_Large_Mixed",
           "Small_Medium_Mixed"
          ]
         ]
        }
       ],
       "layout": {
        "barmode": "relative",
        "legend": {
         "x": 0.997,
         "xanchor": "right",
         "y": 1.2,
         "yanchor": "top"
        },
        "template": {
         "data": {
          "bar": [
           {
            "error_x": {
             "color": "#2a3f5f"
            },
            "error_y": {
             "color": "#2a3f5f"
            },
            "marker": {
             "line": {
              "color": "#E5ECF6",
              "width": 0.5
             },
             "pattern": {
              "fillmode": "overlay",
              "size": 10,
              "solidity": 0.2
             }
            },
            "type": "bar"
           }
          ],
          "barpolar": [
           {
            "marker": {
             "line": {
              "color": "#E5ECF6",
              "width": 0.5
             },
             "pattern": {
              "fillmode": "overlay",
              "size": 10,
              "solidity": 0.2
             }
            },
            "type": "barpolar"
           }
          ],
          "carpet": [
           {
            "aaxis": {
             "endlinecolor": "#2a3f5f",
             "gridcolor": "white",
             "linecolor": "white",
             "minorgridcolor": "white",
             "startlinecolor": "#2a3f5f"
            },
            "baxis": {
             "endlinecolor": "#2a3f5f",
             "gridcolor": "white",
             "linecolor": "white",
             "minorgridcolor": "white",
             "startlinecolor": "#2a3f5f"
            },
            "type": "carpet"
           }
          ],
          "choropleth": [
           {
            "colorbar": {
             "outlinewidth": 0,
             "ticks": ""
            },
            "type": "choropleth"
           }
          ],
          "contour": [
           {
            "colorbar": {
             "outlinewidth": 0,
             "ticks": ""
            },
            "colorscale": [
             [
              0,
              "#0d0887"
             ],
             [
              0.1111111111111111,
              "#46039f"
             ],
             [
              0.2222222222222222,
              "#7201a8"
             ],
             [
              0.3333333333333333,
              "#9c179e"
             ],
             [
              0.4444444444444444,
              "#bd3786"
             ],
             [
              0.5555555555555556,
              "#d8576b"
             ],
             [
              0.6666666666666666,
              "#ed7953"
             ],
             [
              0.7777777777777778,
              "#fb9f3a"
             ],
             [
              0.8888888888888888,
              "#fdca26"
             ],
             [
              1,
              "#f0f921"
             ]
            ],
            "type": "contour"
           }
          ],
          "contourcarpet": [
           {
            "colorbar": {
             "outlinewidth": 0,
             "ticks": ""
            },
            "type": "contourcarpet"
           }
          ],
          "heatmap": [
           {
            "colorbar": {
             "outlinewidth": 0,
             "ticks": ""
            },
            "colorscale": [
             [
              0,
              "#0d0887"
             ],
             [
              0.1111111111111111,
              "#46039f"
             ],
             [
              0.2222222222222222,
              "#7201a8"
             ],
             [
              0.3333333333333333,
              "#9c179e"
             ],
             [
              0.4444444444444444,
              "#bd3786"
             ],
             [
              0.5555555555555556,
              "#d8576b"
             ],
             [
              0.6666666666666666,
              "#ed7953"
             ],
             [
              0.7777777777777778,
              "#fb9f3a"
             ],
             [
              0.8888888888888888,
              "#fdca26"
             ],
             [
              1,
              "#f0f921"
             ]
            ],
            "type": "heatmap"
           }
          ],
          "heatmapgl": [
           {
            "colorbar": {
             "outlinewidth": 0,
             "ticks": ""
            },
            "colorscale": [
             [
              0,
              "#0d0887"
             ],
             [
              0.1111111111111111,
              "#46039f"
             ],
             [
              0.2222222222222222,
              "#7201a8"
             ],
             [
              0.3333333333333333,
              "#9c179e"
             ],
             [
              0.4444444444444444,
              "#bd3786"
             ],
             [
              0.5555555555555556,
              "#d8576b"
             ],
             [
              0.6666666666666666,
              "#ed7953"
             ],
             [
              0.7777777777777778,
              "#fb9f3a"
             ],
             [
              0.8888888888888888,
              "#fdca26"
             ],
             [
              1,
              "#f0f921"
             ]
            ],
            "type": "heatmapgl"
           }
          ],
          "histogram": [
           {
            "marker": {
             "pattern": {
              "fillmode": "overlay",
              "size": 10,
              "solidity": 0.2
             }
            },
            "type": "histogram"
           }
          ],
          "histogram2d": [
           {
            "colorbar": {
             "outlinewidth": 0,
             "ticks": ""
            },
            "colorscale": [
             [
              0,
              "#0d0887"
             ],
             [
              0.1111111111111111,
              "#46039f"
             ],
             [
              0.2222222222222222,
              "#7201a8"
             ],
             [
              0.3333333333333333,
              "#9c179e"
             ],
             [
              0.4444444444444444,
              "#bd3786"
             ],
             [
              0.5555555555555556,
              "#d8576b"
             ],
             [
              0.6666666666666666,
              "#ed7953"
             ],
             [
              0.7777777777777778,
              "#fb9f3a"
             ],
             [
              0.8888888888888888,
              "#fdca26"
             ],
             [
              1,
              "#f0f921"
             ]
            ],
            "type": "histogram2d"
           }
          ],
          "histogram2dcontour": [
           {
            "colorbar": {
             "outlinewidth": 0,
             "ticks": ""
            },
            "colorscale": [
             [
              0,
              "#0d0887"
             ],
             [
              0.1111111111111111,
              "#46039f"
             ],
             [
              0.2222222222222222,
              "#7201a8"
             ],
             [
              0.3333333333333333,
              "#9c179e"
             ],
             [
              0.4444444444444444,
              "#bd3786"
             ],
             [
              0.5555555555555556,
              "#d8576b"
             ],
             [
              0.6666666666666666,
              "#ed7953"
             ],
             [
              0.7777777777777778,
              "#fb9f3a"
             ],
             [
              0.8888888888888888,
              "#fdca26"
             ],
             [
              1,
              "#f0f921"
             ]
            ],
            "type": "histogram2dcontour"
           }
          ],
          "mesh3d": [
           {
            "colorbar": {
             "outlinewidth": 0,
             "ticks": ""
            },
            "type": "mesh3d"
           }
          ],
          "parcoords": [
           {
            "line": {
             "colorbar": {
              "outlinewidth": 0,
              "ticks": ""
             }
            },
            "type": "parcoords"
           }
          ],
          "pie": [
           {
            "automargin": true,
            "type": "pie"
           }
          ],
          "scatter": [
           {
            "fillpattern": {
             "fillmode": "overlay",
             "size": 10,
             "solidity": 0.2
            },
            "type": "scatter"
           }
          ],
          "scatter3d": [
           {
            "line": {
             "colorbar": {
              "outlinewidth": 0,
              "ticks": ""
             }
            },
            "marker": {
             "colorbar": {
              "outlinewidth": 0,
              "ticks": ""
             }
            },
            "type": "scatter3d"
           }
          ],
          "scattercarpet": [
           {
            "marker": {
             "colorbar": {
              "outlinewidth": 0,
              "ticks": ""
             }
            },
            "type": "scattercarpet"
           }
          ],
          "scattergeo": [
           {
            "marker": {
             "colorbar": {
              "outlinewidth": 0,
              "ticks": ""
             }
            },
            "type": "scattergeo"
           }
          ],
          "scattergl": [
           {
            "marker": {
             "colorbar": {
              "outlinewidth": 0,
              "ticks": ""
             }
            },
            "type": "scattergl"
           }
          ],
          "scattermapbox": [
           {
            "marker": {
             "colorbar": {
              "outlinewidth": 0,
              "ticks": ""
             }
            },
            "type": "scattermapbox"
           }
          ],
          "scatterpolar": [
           {
            "marker": {
             "colorbar": {
              "outlinewidth": 0,
              "ticks": ""
             }
            },
            "type": "scatterpolar"
           }
          ],
          "scatterpolargl": [
           {
            "marker": {
             "colorbar": {
              "outlinewidth": 0,
              "ticks": ""
             }
            },
            "type": "scatterpolargl"
           }
          ],
          "scatterternary": [
           {
            "marker": {
             "colorbar": {
              "outlinewidth": 0,
              "ticks": ""
             }
            },
            "type": "scatterternary"
           }
          ],
          "surface": [
           {
            "colorbar": {
             "outlinewidth": 0,
             "ticks": ""
            },
            "colorscale": [
             [
              0,
              "#0d0887"
             ],
             [
              0.1111111111111111,
              "#46039f"
             ],
             [
              0.2222222222222222,
              "#7201a8"
             ],
             [
              0.3333333333333333,
              "#9c179e"
             ],
             [
              0.4444444444444444,
              "#bd3786"
             ],
             [
              0.5555555555555556,
              "#d8576b"
             ],
             [
              0.6666666666666666,
              "#ed7953"
             ],
             [
              0.7777777777777778,
              "#fb9f3a"
             ],
             [
              0.8888888888888888,
              "#fdca26"
             ],
             [
              1,
              "#f0f921"
             ]
            ],
            "type": "surface"
           }
          ],
          "table": [
           {
            "cells": {
             "fill": {
              "color": "#EBF0F8"
             },
             "line": {
              "color": "white"
             }
            },
            "header": {
             "fill": {
              "color": "#C8D4E3"
             },
             "line": {
              "color": "white"
             }
            },
            "type": "table"
           }
          ]
         },
         "layout": {
          "annotationdefaults": {
           "arrowcolor": "#2a3f5f",
           "arrowhead": 0,
           "arrowwidth": 1
          },
          "autotypenumbers": "strict",
          "coloraxis": {
           "colorbar": {
            "outlinewidth": 0,
            "ticks": ""
           }
          },
          "colorscale": {
           "diverging": [
            [
             0,
             "#8e0152"
            ],
            [
             0.1,
             "#c51b7d"
            ],
            [
             0.2,
             "#de77ae"
            ],
            [
             0.3,
             "#f1b6da"
            ],
            [
             0.4,
             "#fde0ef"
            ],
            [
             0.5,
             "#f7f7f7"
            ],
            [
             0.6,
             "#e6f5d0"
            ],
            [
             0.7,
             "#b8e186"
            ],
            [
             0.8,
             "#7fbc41"
            ],
            [
             0.9,
             "#4d9221"
            ],
            [
             1,
             "#276419"
            ]
           ],
           "sequential": [
            [
             0,
             "#0d0887"
            ],
            [
             0.1111111111111111,
             "#46039f"
            ],
            [
             0.2222222222222222,
             "#7201a8"
            ],
            [
             0.3333333333333333,
             "#9c179e"
            ],
            [
             0.4444444444444444,
             "#bd3786"
            ],
            [
             0.5555555555555556,
             "#d8576b"
            ],
            [
             0.6666666666666666,
             "#ed7953"
            ],
            [
             0.7777777777777778,
             "#fb9f3a"
            ],
            [
             0.8888888888888888,
             "#fdca26"
            ],
            [
             1,
             "#f0f921"
            ]
           ],
           "sequentialminus": [
            [
             0,
             "#0d0887"
            ],
            [
             0.1111111111111111,
             "#46039f"
            ],
            [
             0.2222222222222222,
             "#7201a8"
            ],
            [
             0.3333333333333333,
             "#9c179e"
            ],
            [
             0.4444444444444444,
             "#bd3786"
            ],
            [
             0.5555555555555556,
             "#d8576b"
            ],
            [
             0.6666666666666666,
             "#ed7953"
            ],
            [
             0.7777777777777778,
             "#fb9f3a"
            ],
            [
             0.8888888888888888,
             "#fdca26"
            ],
            [
             1,
             "#f0f921"
            ]
           ]
          },
          "colorway": [
           "#636efa",
           "#EF553B",
           "#00cc96",
           "#ab63fa",
           "#FFA15A",
           "#19d3f3",
           "#FF6692",
           "#B6E880",
           "#FF97FF",
           "#FECB52"
          ],
          "font": {
           "color": "#2a3f5f"
          },
          "geo": {
           "bgcolor": "white",
           "lakecolor": "white",
           "landcolor": "#E5ECF6",
           "showlakes": true,
           "showland": true,
           "subunitcolor": "white"
          },
          "hoverlabel": {
           "align": "left"
          },
          "hovermode": "closest",
          "mapbox": {
           "style": "light"
          },
          "paper_bgcolor": "white",
          "plot_bgcolor": "#E5ECF6",
          "polar": {
           "angularaxis": {
            "gridcolor": "white",
            "linecolor": "white",
            "ticks": ""
           },
           "bgcolor": "#E5ECF6",
           "radialaxis": {
            "gridcolor": "white",
            "linecolor": "white",
            "ticks": ""
           }
          },
          "scene": {
           "xaxis": {
            "backgroundcolor": "#E5ECF6",
            "gridcolor": "white",
            "gridwidth": 2,
            "linecolor": "white",
            "showbackground": true,
            "ticks": "",
            "zerolinecolor": "white"
           },
           "yaxis": {
            "backgroundcolor": "#E5ECF6",
            "gridcolor": "white",
            "gridwidth": 2,
            "linecolor": "white",
            "showbackground": true,
            "ticks": "",
            "zerolinecolor": "white"
           },
           "zaxis": {
            "backgroundcolor": "#E5ECF6",
            "gridcolor": "white",
            "gridwidth": 2,
            "linecolor": "white",
            "showbackground": true,
            "ticks": "",
            "zerolinecolor": "white"
           }
          },
          "shapedefaults": {
           "line": {
            "color": "#2a3f5f"
           }
          },
          "ternary": {
           "aaxis": {
            "gridcolor": "white",
            "linecolor": "white",
            "ticks": ""
           },
           "baxis": {
            "gridcolor": "white",
            "linecolor": "white",
            "ticks": ""
           },
           "bgcolor": "#E5ECF6",
           "caxis": {
            "gridcolor": "white",
            "linecolor": "white",
            "ticks": ""
           }
          },
          "title": {
           "x": 0.05
          },
          "xaxis": {
           "automargin": true,
           "gridcolor": "white",
           "linecolor": "white",
           "ticks": "",
           "title": {
            "standoff": 15
           },
           "zerolinecolor": "white",
           "zerolinewidth": 2
          },
          "yaxis": {
           "automargin": true,
           "gridcolor": "white",
           "linecolor": "white",
           "ticks": "",
           "title": {
            "standoff": 15
           },
           "zerolinecolor": "white",
           "zerolinewidth": 2
          }
         }
        },
        "title": {
         "text": "Execution time distrubution for Intersection ",
         "x": 0.5
        },
        "xaxis": {
         "title": {
          "text": "Execution time (%)"
         }
        },
        "yaxis": {
         "title": {
          "text": "Context + Geometry Size)"
         }
        }
       }
      }
     },
     "metadata": {},
     "output_type": "display_data"
    },
    {
     "data": {
      "application/vnd.plotly.v1+json": {
       "config": {
        "plotlyServerURL": "https://plot.ly"
       },
       "data": [
        {
         "name": "Decompression stage",
         "orientation": "h",
         "type": "bar",
         "x": [
          31.884413159954526,
          71.4941548814219,
          57.84905111876396,
          96.77025334068074,
          80.55661911632089,
          85.95271305040514,
          58.236465170138196,
          89.72784323357969,
          78.44469402018483,
          90.99242217006936,
          80.41494608332832,
          90.36031838935482,
          62.390498385612226,
          88.30668277787207,
          77.39345114228969
         ],
         "y": [
          [
           "Bbox_Inside_Other (TRUE)",
           "Bbox_Inside_Other (TRUE)",
           "Bbox_Inside_Other (TRUE)",
           "Bbox_Overlap (FALSE)",
           "Bbox_Overlap (FALSE)",
           "Bbox_Overlap (FALSE)",
           "Bbox_Overlap (FALSE)",
           "Bbox_Overlap (FALSE)",
           "Bbox_Overlap (FALSE)",
           "Bbox_Partial_Overlap (TRUE)",
           "Bbox_Partial_Overlap (TRUE)",
           "Bbox_Partial_Overlap (TRUE)",
           "Bbox_Partial_Overlap (TRUE)",
           "Bbox_Partial_Overlap (TRUE)",
           "Bbox_Partial_Overlap (TRUE)"
          ],
          [
           "Small",
           "Small_Large_Mixed",
           "Small_Medium_Mixed",
           "Large",
           "Medium",
           "Medium_Large_Mixed",
           "Small",
           "Small_Large_Mixed",
           "Small_Medium_Mixed",
           "Large",
           "Medium",
           "Medium_Large_Mixed",
           "Small",
           "Small_Large_Mixed",
           "Small_Medium_Mixed"
          ]
         ]
        },
        {
         "name": "IsIntersection",
         "orientation": "h",
         "type": "bar",
         "x": [
          68.11558684004547,
          28.5058451185781,
          42.15094888123604,
          3.229746659319257,
          19.443380883679108,
          14.047286949594856,
          41.763534829861804,
          10.272156766420315,
          21.555305979815174,
          9.007577829930645,
          19.585053916671686,
          9.639681610645177,
          37.609501614387774,
          11.693317222127938,
          22.60654885771031
         ],
         "y": [
          [
           "Bbox_Inside_Other (TRUE)",
           "Bbox_Inside_Other (TRUE)",
           "Bbox_Inside_Other (TRUE)",
           "Bbox_Overlap (FALSE)",
           "Bbox_Overlap (FALSE)",
           "Bbox_Overlap (FALSE)",
           "Bbox_Overlap (FALSE)",
           "Bbox_Overlap (FALSE)",
           "Bbox_Overlap (FALSE)",
           "Bbox_Partial_Overlap (TRUE)",
           "Bbox_Partial_Overlap (TRUE)",
           "Bbox_Partial_Overlap (TRUE)",
           "Bbox_Partial_Overlap (TRUE)",
           "Bbox_Partial_Overlap (TRUE)",
           "Bbox_Partial_Overlap (TRUE)"
          ],
          [
           "Small",
           "Small_Large_Mixed",
           "Small_Medium_Mixed",
           "Large",
           "Medium",
           "Medium_Large_Mixed",
           "Small",
           "Small_Large_Mixed",
           "Small_Medium_Mixed",
           "Large",
           "Medium",
           "Medium_Large_Mixed",
           "Small",
           "Small_Large_Mixed",
           "Small_Medium_Mixed"
          ]
         ]
        }
       ],
       "layout": {
        "barmode": "relative",
        "legend": {
         "x": 0.997,
         "xanchor": "right",
         "y": 1.2,
         "yanchor": "top"
        },
        "template": {
         "data": {
          "bar": [
           {
            "error_x": {
             "color": "#2a3f5f"
            },
            "error_y": {
             "color": "#2a3f5f"
            },
            "marker": {
             "line": {
              "color": "#E5ECF6",
              "width": 0.5
             },
             "pattern": {
              "fillmode": "overlay",
              "size": 10,
              "solidity": 0.2
             }
            },
            "type": "bar"
           }
          ],
          "barpolar": [
           {
            "marker": {
             "line": {
              "color": "#E5ECF6",
              "width": 0.5
             },
             "pattern": {
              "fillmode": "overlay",
              "size": 10,
              "solidity": 0.2
             }
            },
            "type": "barpolar"
           }
          ],
          "carpet": [
           {
            "aaxis": {
             "endlinecolor": "#2a3f5f",
             "gridcolor": "white",
             "linecolor": "white",
             "minorgridcolor": "white",
             "startlinecolor": "#2a3f5f"
            },
            "baxis": {
             "endlinecolor": "#2a3f5f",
             "gridcolor": "white",
             "linecolor": "white",
             "minorgridcolor": "white",
             "startlinecolor": "#2a3f5f"
            },
            "type": "carpet"
           }
          ],
          "choropleth": [
           {
            "colorbar": {
             "outlinewidth": 0,
             "ticks": ""
            },
            "type": "choropleth"
           }
          ],
          "contour": [
           {
            "colorbar": {
             "outlinewidth": 0,
             "ticks": ""
            },
            "colorscale": [
             [
              0,
              "#0d0887"
             ],
             [
              0.1111111111111111,
              "#46039f"
             ],
             [
              0.2222222222222222,
              "#7201a8"
             ],
             [
              0.3333333333333333,
              "#9c179e"
             ],
             [
              0.4444444444444444,
              "#bd3786"
             ],
             [
              0.5555555555555556,
              "#d8576b"
             ],
             [
              0.6666666666666666,
              "#ed7953"
             ],
             [
              0.7777777777777778,
              "#fb9f3a"
             ],
             [
              0.8888888888888888,
              "#fdca26"
             ],
             [
              1,
              "#f0f921"
             ]
            ],
            "type": "contour"
           }
          ],
          "contourcarpet": [
           {
            "colorbar": {
             "outlinewidth": 0,
             "ticks": ""
            },
            "type": "contourcarpet"
           }
          ],
          "heatmap": [
           {
            "colorbar": {
             "outlinewidth": 0,
             "ticks": ""
            },
            "colorscale": [
             [
              0,
              "#0d0887"
             ],
             [
              0.1111111111111111,
              "#46039f"
             ],
             [
              0.2222222222222222,
              "#7201a8"
             ],
             [
              0.3333333333333333,
              "#9c179e"
             ],
             [
              0.4444444444444444,
              "#bd3786"
             ],
             [
              0.5555555555555556,
              "#d8576b"
             ],
             [
              0.6666666666666666,
              "#ed7953"
             ],
             [
              0.7777777777777778,
              "#fb9f3a"
             ],
             [
              0.8888888888888888,
              "#fdca26"
             ],
             [
              1,
              "#f0f921"
             ]
            ],
            "type": "heatmap"
           }
          ],
          "heatmapgl": [
           {
            "colorbar": {
             "outlinewidth": 0,
             "ticks": ""
            },
            "colorscale": [
             [
              0,
              "#0d0887"
             ],
             [
              0.1111111111111111,
              "#46039f"
             ],
             [
              0.2222222222222222,
              "#7201a8"
             ],
             [
              0.3333333333333333,
              "#9c179e"
             ],
             [
              0.4444444444444444,
              "#bd3786"
             ],
             [
              0.5555555555555556,
              "#d8576b"
             ],
             [
              0.6666666666666666,
              "#ed7953"
             ],
             [
              0.7777777777777778,
              "#fb9f3a"
             ],
             [
              0.8888888888888888,
              "#fdca26"
             ],
             [
              1,
              "#f0f921"
             ]
            ],
            "type": "heatmapgl"
           }
          ],
          "histogram": [
           {
            "marker": {
             "pattern": {
              "fillmode": "overlay",
              "size": 10,
              "solidity": 0.2
             }
            },
            "type": "histogram"
           }
          ],
          "histogram2d": [
           {
            "colorbar": {
             "outlinewidth": 0,
             "ticks": ""
            },
            "colorscale": [
             [
              0,
              "#0d0887"
             ],
             [
              0.1111111111111111,
              "#46039f"
             ],
             [
              0.2222222222222222,
              "#7201a8"
             ],
             [
              0.3333333333333333,
              "#9c179e"
             ],
             [
              0.4444444444444444,
              "#bd3786"
             ],
             [
              0.5555555555555556,
              "#d8576b"
             ],
             [
              0.6666666666666666,
              "#ed7953"
             ],
             [
              0.7777777777777778,
              "#fb9f3a"
             ],
             [
              0.8888888888888888,
              "#fdca26"
             ],
             [
              1,
              "#f0f921"
             ]
            ],
            "type": "histogram2d"
           }
          ],
          "histogram2dcontour": [
           {
            "colorbar": {
             "outlinewidth": 0,
             "ticks": ""
            },
            "colorscale": [
             [
              0,
              "#0d0887"
             ],
             [
              0.1111111111111111,
              "#46039f"
             ],
             [
              0.2222222222222222,
              "#7201a8"
             ],
             [
              0.3333333333333333,
              "#9c179e"
             ],
             [
              0.4444444444444444,
              "#bd3786"
             ],
             [
              0.5555555555555556,
              "#d8576b"
             ],
             [
              0.6666666666666666,
              "#ed7953"
             ],
             [
              0.7777777777777778,
              "#fb9f3a"
             ],
             [
              0.8888888888888888,
              "#fdca26"
             ],
             [
              1,
              "#f0f921"
             ]
            ],
            "type": "histogram2dcontour"
           }
          ],
          "mesh3d": [
           {
            "colorbar": {
             "outlinewidth": 0,
             "ticks": ""
            },
            "type": "mesh3d"
           }
          ],
          "parcoords": [
           {
            "line": {
             "colorbar": {
              "outlinewidth": 0,
              "ticks": ""
             }
            },
            "type": "parcoords"
           }
          ],
          "pie": [
           {
            "automargin": true,
            "type": "pie"
           }
          ],
          "scatter": [
           {
            "fillpattern": {
             "fillmode": "overlay",
             "size": 10,
             "solidity": 0.2
            },
            "type": "scatter"
           }
          ],
          "scatter3d": [
           {
            "line": {
             "colorbar": {
              "outlinewidth": 0,
              "ticks": ""
             }
            },
            "marker": {
             "colorbar": {
              "outlinewidth": 0,
              "ticks": ""
             }
            },
            "type": "scatter3d"
           }
          ],
          "scattercarpet": [
           {
            "marker": {
             "colorbar": {
              "outlinewidth": 0,
              "ticks": ""
             }
            },
            "type": "scattercarpet"
           }
          ],
          "scattergeo": [
           {
            "marker": {
             "colorbar": {
              "outlinewidth": 0,
              "ticks": ""
             }
            },
            "type": "scattergeo"
           }
          ],
          "scattergl": [
           {
            "marker": {
             "colorbar": {
              "outlinewidth": 0,
              "ticks": ""
             }
            },
            "type": "scattergl"
           }
          ],
          "scattermapbox": [
           {
            "marker": {
             "colorbar": {
              "outlinewidth": 0,
              "ticks": ""
             }
            },
            "type": "scattermapbox"
           }
          ],
          "scatterpolar": [
           {
            "marker": {
             "colorbar": {
              "outlinewidth": 0,
              "ticks": ""
             }
            },
            "type": "scatterpolar"
           }
          ],
          "scatterpolargl": [
           {
            "marker": {
             "colorbar": {
              "outlinewidth": 0,
              "ticks": ""
             }
            },
            "type": "scatterpolargl"
           }
          ],
          "scatterternary": [
           {
            "marker": {
             "colorbar": {
              "outlinewidth": 0,
              "ticks": ""
             }
            },
            "type": "scatterternary"
           }
          ],
          "surface": [
           {
            "colorbar": {
             "outlinewidth": 0,
             "ticks": ""
            },
            "colorscale": [
             [
              0,
              "#0d0887"
             ],
             [
              0.1111111111111111,
              "#46039f"
             ],
             [
              0.2222222222222222,
              "#7201a8"
             ],
             [
              0.3333333333333333,
              "#9c179e"
             ],
             [
              0.4444444444444444,
              "#bd3786"
             ],
             [
              0.5555555555555556,
              "#d8576b"
             ],
             [
              0.6666666666666666,
              "#ed7953"
             ],
             [
              0.7777777777777778,
              "#fb9f3a"
             ],
             [
              0.8888888888888888,
              "#fdca26"
             ],
             [
              1,
              "#f0f921"
             ]
            ],
            "type": "surface"
           }
          ],
          "table": [
           {
            "cells": {
             "fill": {
              "color": "#EBF0F8"
             },
             "line": {
              "color": "white"
             }
            },
            "header": {
             "fill": {
              "color": "#C8D4E3"
             },
             "line": {
              "color": "white"
             }
            },
            "type": "table"
           }
          ]
         },
         "layout": {
          "annotationdefaults": {
           "arrowcolor": "#2a3f5f",
           "arrowhead": 0,
           "arrowwidth": 1
          },
          "autotypenumbers": "strict",
          "coloraxis": {
           "colorbar": {
            "outlinewidth": 0,
            "ticks": ""
           }
          },
          "colorscale": {
           "diverging": [
            [
             0,
             "#8e0152"
            ],
            [
             0.1,
             "#c51b7d"
            ],
            [
             0.2,
             "#de77ae"
            ],
            [
             0.3,
             "#f1b6da"
            ],
            [
             0.4,
             "#fde0ef"
            ],
            [
             0.5,
             "#f7f7f7"
            ],
            [
             0.6,
             "#e6f5d0"
            ],
            [
             0.7,
             "#b8e186"
            ],
            [
             0.8,
             "#7fbc41"
            ],
            [
             0.9,
             "#4d9221"
            ],
            [
             1,
             "#276419"
            ]
           ],
           "sequential": [
            [
             0,
             "#0d0887"
            ],
            [
             0.1111111111111111,
             "#46039f"
            ],
            [
             0.2222222222222222,
             "#7201a8"
            ],
            [
             0.3333333333333333,
             "#9c179e"
            ],
            [
             0.4444444444444444,
             "#bd3786"
            ],
            [
             0.5555555555555556,
             "#d8576b"
            ],
            [
             0.6666666666666666,
             "#ed7953"
            ],
            [
             0.7777777777777778,
             "#fb9f3a"
            ],
            [
             0.8888888888888888,
             "#fdca26"
            ],
            [
             1,
             "#f0f921"
            ]
           ],
           "sequentialminus": [
            [
             0,
             "#0d0887"
            ],
            [
             0.1111111111111111,
             "#46039f"
            ],
            [
             0.2222222222222222,
             "#7201a8"
            ],
            [
             0.3333333333333333,
             "#9c179e"
            ],
            [
             0.4444444444444444,
             "#bd3786"
            ],
            [
             0.5555555555555556,
             "#d8576b"
            ],
            [
             0.6666666666666666,
             "#ed7953"
            ],
            [
             0.7777777777777778,
             "#fb9f3a"
            ],
            [
             0.8888888888888888,
             "#fdca26"
            ],
            [
             1,
             "#f0f921"
            ]
           ]
          },
          "colorway": [
           "#636efa",
           "#EF553B",
           "#00cc96",
           "#ab63fa",
           "#FFA15A",
           "#19d3f3",
           "#FF6692",
           "#B6E880",
           "#FF97FF",
           "#FECB52"
          ],
          "font": {
           "color": "#2a3f5f"
          },
          "geo": {
           "bgcolor": "white",
           "lakecolor": "white",
           "landcolor": "#E5ECF6",
           "showlakes": true,
           "showland": true,
           "subunitcolor": "white"
          },
          "hoverlabel": {
           "align": "left"
          },
          "hovermode": "closest",
          "mapbox": {
           "style": "light"
          },
          "paper_bgcolor": "white",
          "plot_bgcolor": "#E5ECF6",
          "polar": {
           "angularaxis": {
            "gridcolor": "white",
            "linecolor": "white",
            "ticks": ""
           },
           "bgcolor": "#E5ECF6",
           "radialaxis": {
            "gridcolor": "white",
            "linecolor": "white",
            "ticks": ""
           }
          },
          "scene": {
           "xaxis": {
            "backgroundcolor": "#E5ECF6",
            "gridcolor": "white",
            "gridwidth": 2,
            "linecolor": "white",
            "showbackground": true,
            "ticks": "",
            "zerolinecolor": "white"
           },
           "yaxis": {
            "backgroundcolor": "#E5ECF6",
            "gridcolor": "white",
            "gridwidth": 2,
            "linecolor": "white",
            "showbackground": true,
            "ticks": "",
            "zerolinecolor": "white"
           },
           "zaxis": {
            "backgroundcolor": "#E5ECF6",
            "gridcolor": "white",
            "gridwidth": 2,
            "linecolor": "white",
            "showbackground": true,
            "ticks": "",
            "zerolinecolor": "white"
           }
          },
          "shapedefaults": {
           "line": {
            "color": "#2a3f5f"
           }
          },
          "ternary": {
           "aaxis": {
            "gridcolor": "white",
            "linecolor": "white",
            "ticks": ""
           },
           "baxis": {
            "gridcolor": "white",
            "linecolor": "white",
            "ticks": ""
           },
           "bgcolor": "#E5ECF6",
           "caxis": {
            "gridcolor": "white",
            "linecolor": "white",
            "ticks": ""
           }
          },
          "title": {
           "x": 0.05
          },
          "xaxis": {
           "automargin": true,
           "gridcolor": "white",
           "linecolor": "white",
           "ticks": "",
           "title": {
            "standoff": 15
           },
           "zerolinecolor": "white",
           "zerolinewidth": 2
          },
          "yaxis": {
           "automargin": true,
           "gridcolor": "white",
           "linecolor": "white",
           "ticks": "",
           "title": {
            "standoff": 15
           },
           "zerolinecolor": "white",
           "zerolinewidth": 2
          }
         }
        },
        "title": {
         "text": "Execution time distrubution for IsIntersection (BASELINE)",
         "x": 0.5
        },
        "xaxis": {
         "title": {
          "text": "Execution time (%)"
         }
        },
        "yaxis": {
         "title": {
          "text": "Context + Geometry Size)"
         }
        }
       }
      }
     },
     "metadata": {},
     "output_type": "display_data"
    },
    {
     "data": {
      "application/vnd.plotly.v1+json": {
       "config": {
        "plotlyServerURL": "https://plot.ly"
       },
       "data": [
        {
         "name": "Decompression stage",
         "orientation": "h",
         "type": "bar",
         "x": [
          27.72954591397155,
          40.66985750525576,
          35.00169213193523,
          78.44642421886107,
          57.30915194260271,
          61.140176623340714,
          50.5644663929371,
          60.930692368235576,
          52.816268423742805,
          67.51772257188927,
          60.38466571642894,
          62.214024219573425,
          52.63867324232884,
          61.99329637156003,
          56.07627302684674
         ],
         "y": [
          [
           "Bbox_Inside_Other (TRUE)",
           "Bbox_Inside_Other (TRUE)",
           "Bbox_Inside_Other (TRUE)",
           "Bbox_Overlap (FALSE)",
           "Bbox_Overlap (FALSE)",
           "Bbox_Overlap (FALSE)",
           "Bbox_Overlap (FALSE)",
           "Bbox_Overlap (FALSE)",
           "Bbox_Overlap (FALSE)",
           "Bbox_Partial_Overlap (TRUE)",
           "Bbox_Partial_Overlap (TRUE)",
           "Bbox_Partial_Overlap (TRUE)",
           "Bbox_Partial_Overlap (TRUE)",
           "Bbox_Partial_Overlap (TRUE)",
           "Bbox_Partial_Overlap (TRUE)"
          ],
          [
           "Small",
           "Small_Large_Mixed",
           "Small_Medium_Mixed",
           "Large",
           "Medium",
           "Medium_Large_Mixed",
           "Small",
           "Small_Large_Mixed",
           "Small_Medium_Mixed",
           "Large",
           "Medium",
           "Medium_Large_Mixed",
           "Small",
           "Small_Large_Mixed",
           "Small_Medium_Mixed"
          ]
         ]
        },
        {
         "name": "IsIntersection",
         "orientation": "h",
         "type": "bar",
         "x": [
          72.27045408602845,
          59.33014249474424,
          64.99830786806477,
          21.553575781138935,
          42.69084805739729,
          38.859823376659286,
          49.4355336070629,
          39.06930763176443,
          47.183731576257195,
          32.482277428110734,
          39.61533428357106,
          37.785975780426575,
          47.36132675767116,
          38.00670362843997,
          43.92372697315326
         ],
         "y": [
          [
           "Bbox_Inside_Other (TRUE)",
           "Bbox_Inside_Other (TRUE)",
           "Bbox_Inside_Other (TRUE)",
           "Bbox_Overlap (FALSE)",
           "Bbox_Overlap (FALSE)",
           "Bbox_Overlap (FALSE)",
           "Bbox_Overlap (FALSE)",
           "Bbox_Overlap (FALSE)",
           "Bbox_Overlap (FALSE)",
           "Bbox_Partial_Overlap (TRUE)",
           "Bbox_Partial_Overlap (TRUE)",
           "Bbox_Partial_Overlap (TRUE)",
           "Bbox_Partial_Overlap (TRUE)",
           "Bbox_Partial_Overlap (TRUE)",
           "Bbox_Partial_Overlap (TRUE)"
          ],
          [
           "Small",
           "Small_Large_Mixed",
           "Small_Medium_Mixed",
           "Large",
           "Medium",
           "Medium_Large_Mixed",
           "Small",
           "Small_Large_Mixed",
           "Small_Medium_Mixed",
           "Large",
           "Medium",
           "Medium_Large_Mixed",
           "Small",
           "Small_Large_Mixed",
           "Small_Medium_Mixed"
          ]
         ]
        }
       ],
       "layout": {
        "barmode": "relative",
        "legend": {
         "x": 0.997,
         "xanchor": "right",
         "y": 1.2,
         "yanchor": "top"
        },
        "template": {
         "data": {
          "bar": [
           {
            "error_x": {
             "color": "#2a3f5f"
            },
            "error_y": {
             "color": "#2a3f5f"
            },
            "marker": {
             "line": {
              "color": "#E5ECF6",
              "width": 0.5
             },
             "pattern": {
              "fillmode": "overlay",
              "size": 10,
              "solidity": 0.2
             }
            },
            "type": "bar"
           }
          ],
          "barpolar": [
           {
            "marker": {
             "line": {
              "color": "#E5ECF6",
              "width": 0.5
             },
             "pattern": {
              "fillmode": "overlay",
              "size": 10,
              "solidity": 0.2
             }
            },
            "type": "barpolar"
           }
          ],
          "carpet": [
           {
            "aaxis": {
             "endlinecolor": "#2a3f5f",
             "gridcolor": "white",
             "linecolor": "white",
             "minorgridcolor": "white",
             "startlinecolor": "#2a3f5f"
            },
            "baxis": {
             "endlinecolor": "#2a3f5f",
             "gridcolor": "white",
             "linecolor": "white",
             "minorgridcolor": "white",
             "startlinecolor": "#2a3f5f"
            },
            "type": "carpet"
           }
          ],
          "choropleth": [
           {
            "colorbar": {
             "outlinewidth": 0,
             "ticks": ""
            },
            "type": "choropleth"
           }
          ],
          "contour": [
           {
            "colorbar": {
             "outlinewidth": 0,
             "ticks": ""
            },
            "colorscale": [
             [
              0,
              "#0d0887"
             ],
             [
              0.1111111111111111,
              "#46039f"
             ],
             [
              0.2222222222222222,
              "#7201a8"
             ],
             [
              0.3333333333333333,
              "#9c179e"
             ],
             [
              0.4444444444444444,
              "#bd3786"
             ],
             [
              0.5555555555555556,
              "#d8576b"
             ],
             [
              0.6666666666666666,
              "#ed7953"
             ],
             [
              0.7777777777777778,
              "#fb9f3a"
             ],
             [
              0.8888888888888888,
              "#fdca26"
             ],
             [
              1,
              "#f0f921"
             ]
            ],
            "type": "contour"
           }
          ],
          "contourcarpet": [
           {
            "colorbar": {
             "outlinewidth": 0,
             "ticks": ""
            },
            "type": "contourcarpet"
           }
          ],
          "heatmap": [
           {
            "colorbar": {
             "outlinewidth": 0,
             "ticks": ""
            },
            "colorscale": [
             [
              0,
              "#0d0887"
             ],
             [
              0.1111111111111111,
              "#46039f"
             ],
             [
              0.2222222222222222,
              "#7201a8"
             ],
             [
              0.3333333333333333,
              "#9c179e"
             ],
             [
              0.4444444444444444,
              "#bd3786"
             ],
             [
              0.5555555555555556,
              "#d8576b"
             ],
             [
              0.6666666666666666,
              "#ed7953"
             ],
             [
              0.7777777777777778,
              "#fb9f3a"
             ],
             [
              0.8888888888888888,
              "#fdca26"
             ],
             [
              1,
              "#f0f921"
             ]
            ],
            "type": "heatmap"
           }
          ],
          "heatmapgl": [
           {
            "colorbar": {
             "outlinewidth": 0,
             "ticks": ""
            },
            "colorscale": [
             [
              0,
              "#0d0887"
             ],
             [
              0.1111111111111111,
              "#46039f"
             ],
             [
              0.2222222222222222,
              "#7201a8"
             ],
             [
              0.3333333333333333,
              "#9c179e"
             ],
             [
              0.4444444444444444,
              "#bd3786"
             ],
             [
              0.5555555555555556,
              "#d8576b"
             ],
             [
              0.6666666666666666,
              "#ed7953"
             ],
             [
              0.7777777777777778,
              "#fb9f3a"
             ],
             [
              0.8888888888888888,
              "#fdca26"
             ],
             [
              1,
              "#f0f921"
             ]
            ],
            "type": "heatmapgl"
           }
          ],
          "histogram": [
           {
            "marker": {
             "pattern": {
              "fillmode": "overlay",
              "size": 10,
              "solidity": 0.2
             }
            },
            "type": "histogram"
           }
          ],
          "histogram2d": [
           {
            "colorbar": {
             "outlinewidth": 0,
             "ticks": ""
            },
            "colorscale": [
             [
              0,
              "#0d0887"
             ],
             [
              0.1111111111111111,
              "#46039f"
             ],
             [
              0.2222222222222222,
              "#7201a8"
             ],
             [
              0.3333333333333333,
              "#9c179e"
             ],
             [
              0.4444444444444444,
              "#bd3786"
             ],
             [
              0.5555555555555556,
              "#d8576b"
             ],
             [
              0.6666666666666666,
              "#ed7953"
             ],
             [
              0.7777777777777778,
              "#fb9f3a"
             ],
             [
              0.8888888888888888,
              "#fdca26"
             ],
             [
              1,
              "#f0f921"
             ]
            ],
            "type": "histogram2d"
           }
          ],
          "histogram2dcontour": [
           {
            "colorbar": {
             "outlinewidth": 0,
             "ticks": ""
            },
            "colorscale": [
             [
              0,
              "#0d0887"
             ],
             [
              0.1111111111111111,
              "#46039f"
             ],
             [
              0.2222222222222222,
              "#7201a8"
             ],
             [
              0.3333333333333333,
              "#9c179e"
             ],
             [
              0.4444444444444444,
              "#bd3786"
             ],
             [
              0.5555555555555556,
              "#d8576b"
             ],
             [
              0.6666666666666666,
              "#ed7953"
             ],
             [
              0.7777777777777778,
              "#fb9f3a"
             ],
             [
              0.8888888888888888,
              "#fdca26"
             ],
             [
              1,
              "#f0f921"
             ]
            ],
            "type": "histogram2dcontour"
           }
          ],
          "mesh3d": [
           {
            "colorbar": {
             "outlinewidth": 0,
             "ticks": ""
            },
            "type": "mesh3d"
           }
          ],
          "parcoords": [
           {
            "line": {
             "colorbar": {
              "outlinewidth": 0,
              "ticks": ""
             }
            },
            "type": "parcoords"
           }
          ],
          "pie": [
           {
            "automargin": true,
            "type": "pie"
           }
          ],
          "scatter": [
           {
            "fillpattern": {
             "fillmode": "overlay",
             "size": 10,
             "solidity": 0.2
            },
            "type": "scatter"
           }
          ],
          "scatter3d": [
           {
            "line": {
             "colorbar": {
              "outlinewidth": 0,
              "ticks": ""
             }
            },
            "marker": {
             "colorbar": {
              "outlinewidth": 0,
              "ticks": ""
             }
            },
            "type": "scatter3d"
           }
          ],
          "scattercarpet": [
           {
            "marker": {
             "colorbar": {
              "outlinewidth": 0,
              "ticks": ""
             }
            },
            "type": "scattercarpet"
           }
          ],
          "scattergeo": [
           {
            "marker": {
             "colorbar": {
              "outlinewidth": 0,
              "ticks": ""
             }
            },
            "type": "scattergeo"
           }
          ],
          "scattergl": [
           {
            "marker": {
             "colorbar": {
              "outlinewidth": 0,
              "ticks": ""
             }
            },
            "type": "scattergl"
           }
          ],
          "scattermapbox": [
           {
            "marker": {
             "colorbar": {
              "outlinewidth": 0,
              "ticks": ""
             }
            },
            "type": "scattermapbox"
           }
          ],
          "scatterpolar": [
           {
            "marker": {
             "colorbar": {
              "outlinewidth": 0,
              "ticks": ""
             }
            },
            "type": "scatterpolar"
           }
          ],
          "scatterpolargl": [
           {
            "marker": {
             "colorbar": {
              "outlinewidth": 0,
              "ticks": ""
             }
            },
            "type": "scatterpolargl"
           }
          ],
          "scatterternary": [
           {
            "marker": {
             "colorbar": {
              "outlinewidth": 0,
              "ticks": ""
             }
            },
            "type": "scatterternary"
           }
          ],
          "surface": [
           {
            "colorbar": {
             "outlinewidth": 0,
             "ticks": ""
            },
            "colorscale": [
             [
              0,
              "#0d0887"
             ],
             [
              0.1111111111111111,
              "#46039f"
             ],
             [
              0.2222222222222222,
              "#7201a8"
             ],
             [
              0.3333333333333333,
              "#9c179e"
             ],
             [
              0.4444444444444444,
              "#bd3786"
             ],
             [
              0.5555555555555556,
              "#d8576b"
             ],
             [
              0.6666666666666666,
              "#ed7953"
             ],
             [
              0.7777777777777778,
              "#fb9f3a"
             ],
             [
              0.8888888888888888,
              "#fdca26"
             ],
             [
              1,
              "#f0f921"
             ]
            ],
            "type": "surface"
           }
          ],
          "table": [
           {
            "cells": {
             "fill": {
              "color": "#EBF0F8"
             },
             "line": {
              "color": "white"
             }
            },
            "header": {
             "fill": {
              "color": "#C8D4E3"
             },
             "line": {
              "color": "white"
             }
            },
            "type": "table"
           }
          ]
         },
         "layout": {
          "annotationdefaults": {
           "arrowcolor": "#2a3f5f",
           "arrowhead": 0,
           "arrowwidth": 1
          },
          "autotypenumbers": "strict",
          "coloraxis": {
           "colorbar": {
            "outlinewidth": 0,
            "ticks": ""
           }
          },
          "colorscale": {
           "diverging": [
            [
             0,
             "#8e0152"
            ],
            [
             0.1,
             "#c51b7d"
            ],
            [
             0.2,
             "#de77ae"
            ],
            [
             0.3,
             "#f1b6da"
            ],
            [
             0.4,
             "#fde0ef"
            ],
            [
             0.5,
             "#f7f7f7"
            ],
            [
             0.6,
             "#e6f5d0"
            ],
            [
             0.7,
             "#b8e186"
            ],
            [
             0.8,
             "#7fbc41"
            ],
            [
             0.9,
             "#4d9221"
            ],
            [
             1,
             "#276419"
            ]
           ],
           "sequential": [
            [
             0,
             "#0d0887"
            ],
            [
             0.1111111111111111,
             "#46039f"
            ],
            [
             0.2222222222222222,
             "#7201a8"
            ],
            [
             0.3333333333333333,
             "#9c179e"
            ],
            [
             0.4444444444444444,
             "#bd3786"
            ],
            [
             0.5555555555555556,
             "#d8576b"
            ],
            [
             0.6666666666666666,
             "#ed7953"
            ],
            [
             0.7777777777777778,
             "#fb9f3a"
            ],
            [
             0.8888888888888888,
             "#fdca26"
            ],
            [
             1,
             "#f0f921"
            ]
           ],
           "sequentialminus": [
            [
             0,
             "#0d0887"
            ],
            [
             0.1111111111111111,
             "#46039f"
            ],
            [
             0.2222222222222222,
             "#7201a8"
            ],
            [
             0.3333333333333333,
             "#9c179e"
            ],
            [
             0.4444444444444444,
             "#bd3786"
            ],
            [
             0.5555555555555556,
             "#d8576b"
            ],
            [
             0.6666666666666666,
             "#ed7953"
            ],
            [
             0.7777777777777778,
             "#fb9f3a"
            ],
            [
             0.8888888888888888,
             "#fdca26"
            ],
            [
             1,
             "#f0f921"
            ]
           ]
          },
          "colorway": [
           "#636efa",
           "#EF553B",
           "#00cc96",
           "#ab63fa",
           "#FFA15A",
           "#19d3f3",
           "#FF6692",
           "#B6E880",
           "#FF97FF",
           "#FECB52"
          ],
          "font": {
           "color": "#2a3f5f"
          },
          "geo": {
           "bgcolor": "white",
           "lakecolor": "white",
           "landcolor": "#E5ECF6",
           "showlakes": true,
           "showland": true,
           "subunitcolor": "white"
          },
          "hoverlabel": {
           "align": "left"
          },
          "hovermode": "closest",
          "mapbox": {
           "style": "light"
          },
          "paper_bgcolor": "white",
          "plot_bgcolor": "#E5ECF6",
          "polar": {
           "angularaxis": {
            "gridcolor": "white",
            "linecolor": "white",
            "ticks": ""
           },
           "bgcolor": "#E5ECF6",
           "radialaxis": {
            "gridcolor": "white",
            "linecolor": "white",
            "ticks": ""
           }
          },
          "scene": {
           "xaxis": {
            "backgroundcolor": "#E5ECF6",
            "gridcolor": "white",
            "gridwidth": 2,
            "linecolor": "white",
            "showbackground": true,
            "ticks": "",
            "zerolinecolor": "white"
           },
           "yaxis": {
            "backgroundcolor": "#E5ECF6",
            "gridcolor": "white",
            "gridwidth": 2,
            "linecolor": "white",
            "showbackground": true,
            "ticks": "",
            "zerolinecolor": "white"
           },
           "zaxis": {
            "backgroundcolor": "#E5ECF6",
            "gridcolor": "white",
            "gridwidth": 2,
            "linecolor": "white",
            "showbackground": true,
            "ticks": "",
            "zerolinecolor": "white"
           }
          },
          "shapedefaults": {
           "line": {
            "color": "#2a3f5f"
           }
          },
          "ternary": {
           "aaxis": {
            "gridcolor": "white",
            "linecolor": "white",
            "ticks": ""
           },
           "baxis": {
            "gridcolor": "white",
            "linecolor": "white",
            "ticks": ""
           },
           "bgcolor": "#E5ECF6",
           "caxis": {
            "gridcolor": "white",
            "linecolor": "white",
            "ticks": ""
           }
          },
          "title": {
           "x": 0.05
          },
          "xaxis": {
           "automargin": true,
           "gridcolor": "white",
           "linecolor": "white",
           "ticks": "",
           "title": {
            "standoff": 15
           },
           "zerolinecolor": "white",
           "zerolinewidth": 2
          },
          "yaxis": {
           "automargin": true,
           "gridcolor": "white",
           "linecolor": "white",
           "ticks": "",
           "title": {
            "standoff": 15
           },
           "zerolinecolor": "white",
           "zerolinewidth": 2
          }
         }
        },
        "title": {
         "text": "Execution time distrubution for IsIntersection ",
         "x": 0.5
        },
        "xaxis": {
         "title": {
          "text": "Execution time (%)"
         }
        },
        "yaxis": {
         "title": {
          "text": "Context + Geometry Size)"
         }
        }
       }
      }
     },
     "metadata": {},
     "output_type": "display_data"
    }
   ],
   "source": [
    "\n",
    "plot_partial_decomp_frac(partial_frac_df, is_predicate=False, is_baseline=True)\n",
    "plot_partial_decomp_frac(partial_frac_df, is_predicate=False, is_baseline=False)\n",
    "plot_partial_decomp_frac(partial_frac_df, is_predicate=True, is_baseline=True)\n",
    "plot_partial_decomp_frac(partial_frac_df, is_predicate=True, is_baseline=False)"
   ]
  },
  {
   "attachments": {},
   "cell_type": "markdown",
   "metadata": {},
   "source": [
    "#### MAX_NBR_DELTAS Analysis"
   ]
  },
  {
   "cell_type": "code",
   "execution_count": 21,
   "metadata": {},
   "outputs": [
    {
     "data": {
      "application/vnd.plotly.v1+json": {
       "config": {
        "plotlyServerURL": "https://plot.ly"
       },
       "data": [
        {
         "mode": "lines",
         "name": "Large(Baseline)",
         "type": "scatter",
         "x": [
          0,
          1,
          2,
          3
         ],
         "xaxis": "x",
         "y": [
          0.021723808042774413,
          0.014021813454963465,
          0.011808319928736346,
          0.010988780804674457
         ],
         "yaxis": "y"
        },
        {
         "mode": "lines",
         "name": "Large",
         "type": "scatter",
         "x": [
          0,
          1,
          2,
          3
         ],
         "xaxis": "x",
         "y": [
          0.01442554263816651,
          0.00702470279084469,
          0.004930186005088778,
          0.003965851046736946
         ],
         "yaxis": "y"
        },
        {
         "mode": "lines",
         "name": "Medium(Baseline)",
         "type": "scatter",
         "x": [
          0,
          1,
          2,
          3
         ],
         "xaxis": "x2",
         "y": [
          0.0019944368881018213,
          0.0015529652586405132,
          0.0015183707766010667,
          0.001495178851419715
         ],
         "yaxis": "y2"
        },
        {
         "mode": "lines",
         "name": "Medium",
         "type": "scatter",
         "x": [
          0,
          1,
          2,
          3
         ],
         "xaxis": "x2",
         "y": [
          0.0017485950364196604,
          0.0011534188885922992,
          0.0010432458533344928,
          0.0009303430356171534
         ],
         "yaxis": "y2"
        },
        {
         "mode": "lines",
         "name": "Medium_Large_Mixed(Baseline)",
         "type": "scatter",
         "x": [
          0,
          1,
          2,
          3
         ],
         "xaxis": "x3",
         "y": [
          0.0024315106129506603,
          0.002876032649692206,
          0.002131863536851597,
          0.0021144905631445
         ],
         "yaxis": "y3"
        },
        {
         "mode": "lines",
         "name": "Medium_Large_Mixed",
         "type": "scatter",
         "x": [
          0,
          1,
          2,
          3
         ],
         "xaxis": "x3",
         "y": [
          0.0012293364756260417,
          0.0008064241512329318,
          0.0006595331755306688,
          0.0006510385996080003
         ],
         "yaxis": "y3"
        },
        {
         "mode": "lines",
         "name": "Small(Baseline)",
         "type": "scatter",
         "x": [
          0,
          1,
          2,
          3
         ],
         "xaxis": "x4",
         "y": [
          0.000844426232523641,
          0.0007132850358389345,
          0.0007237884088039316,
          0.0007301223056000547
         ],
         "yaxis": "y4"
        },
        {
         "mode": "lines",
         "name": "Small",
         "type": "scatter",
         "x": [
          0,
          1,
          2,
          3
         ],
         "xaxis": "x4",
         "y": [
          0.0008333234383505495,
          0.0006797357622845619,
          0.000663614256079788,
          0.0006644103472781888
         ],
         "yaxis": "y4"
        },
        {
         "mode": "lines",
         "name": "Small_Large_Mixed(Baseline)",
         "type": "scatter",
         "x": [
          0,
          1,
          2,
          3
         ],
         "xaxis": "x5",
         "y": [
          0.002643980691004799,
          0.002068774332258272,
          0.0019764915315363396,
          0.002197534488061592
         ],
         "yaxis": "y5"
        },
        {
         "mode": "lines",
         "name": "Small_Large_Mixed",
         "type": "scatter",
         "x": [
          0,
          1,
          2,
          3
         ],
         "xaxis": "x5",
         "y": [
          0.0012364570388285756,
          0.0007795938244612444,
          0.0006341039770632051,
          0.0005914870820902252
         ],
         "yaxis": "y5"
        },
        {
         "mode": "lines",
         "name": "Small_Medium_Mixed(Baseline)",
         "type": "scatter",
         "x": [
          0,
          1,
          2,
          3
         ],
         "xaxis": "x6",
         "y": [
          0.0011414921058514938,
          0.0009736684684134789,
          0.0009318967967961742,
          0.0009250924695876583
         ],
         "yaxis": "y6"
        },
        {
         "mode": "lines",
         "name": "Small_Medium_Mixed",
         "type": "scatter",
         "x": [
          0,
          1,
          2,
          3
         ],
         "xaxis": "x6",
         "y": [
          0.0009956633270588348,
          0.0007252971766891568,
          0.0006876079641453575,
          0.0006212903179209761
         ],
         "yaxis": "y6"
        }
       ],
       "layout": {
        "annotations": [
         {
          "font": {
           "size": 16
          },
          "showarrow": false,
          "text": "Large",
          "x": 0.13333333333333333,
          "xanchor": "center",
          "xref": "paper",
          "y": 1,
          "yanchor": "bottom",
          "yref": "paper"
         },
         {
          "font": {
           "size": 16
          },
          "showarrow": false,
          "text": "Medium",
          "x": 0.5,
          "xanchor": "center",
          "xref": "paper",
          "y": 1,
          "yanchor": "bottom",
          "yref": "paper"
         },
         {
          "font": {
           "size": 16
          },
          "showarrow": false,
          "text": "Medium_Large_Mixed",
          "x": 0.8666666666666667,
          "xanchor": "center",
          "xref": "paper",
          "y": 1,
          "yanchor": "bottom",
          "yref": "paper"
         },
         {
          "font": {
           "size": 16
          },
          "showarrow": false,
          "text": "Small",
          "x": 0.13333333333333333,
          "xanchor": "center",
          "xref": "paper",
          "y": 0.375,
          "yanchor": "bottom",
          "yref": "paper"
         },
         {
          "font": {
           "size": 16
          },
          "showarrow": false,
          "text": "Small_Large_Mixed",
          "x": 0.5,
          "xanchor": "center",
          "xref": "paper",
          "y": 0.375,
          "yanchor": "bottom",
          "yref": "paper"
         },
         {
          "font": {
           "size": 16
          },
          "showarrow": false,
          "text": "Small_Medium_Mixed",
          "x": 0.8666666666666667,
          "xanchor": "center",
          "xref": "paper",
          "y": 0.375,
          "yanchor": "bottom",
          "yref": "paper"
         },
         {
          "font": {
           "size": 16
          },
          "showarrow": false,
          "text": "MAX_CHUNK_SIZE",
          "x": 0.5,
          "xanchor": "center",
          "xref": "paper",
          "y": 0,
          "yanchor": "top",
          "yref": "paper",
          "yshift": -30
         },
         {
          "font": {
           "size": 16
          },
          "showarrow": false,
          "text": "Mean Execution time (s)",
          "textangle": -90,
          "x": 0,
          "xanchor": "right",
          "xref": "paper",
          "xshift": -40,
          "y": 0.5,
          "yanchor": "middle",
          "yref": "paper"
         }
        ],
        "template": {
         "data": {
          "bar": [
           {
            "error_x": {
             "color": "#2a3f5f"
            },
            "error_y": {
             "color": "#2a3f5f"
            },
            "marker": {
             "line": {
              "color": "#E5ECF6",
              "width": 0.5
             },
             "pattern": {
              "fillmode": "overlay",
              "size": 10,
              "solidity": 0.2
             }
            },
            "type": "bar"
           }
          ],
          "barpolar": [
           {
            "marker": {
             "line": {
              "color": "#E5ECF6",
              "width": 0.5
             },
             "pattern": {
              "fillmode": "overlay",
              "size": 10,
              "solidity": 0.2
             }
            },
            "type": "barpolar"
           }
          ],
          "carpet": [
           {
            "aaxis": {
             "endlinecolor": "#2a3f5f",
             "gridcolor": "white",
             "linecolor": "white",
             "minorgridcolor": "white",
             "startlinecolor": "#2a3f5f"
            },
            "baxis": {
             "endlinecolor": "#2a3f5f",
             "gridcolor": "white",
             "linecolor": "white",
             "minorgridcolor": "white",
             "startlinecolor": "#2a3f5f"
            },
            "type": "carpet"
           }
          ],
          "choropleth": [
           {
            "colorbar": {
             "outlinewidth": 0,
             "ticks": ""
            },
            "type": "choropleth"
           }
          ],
          "contour": [
           {
            "colorbar": {
             "outlinewidth": 0,
             "ticks": ""
            },
            "colorscale": [
             [
              0,
              "#0d0887"
             ],
             [
              0.1111111111111111,
              "#46039f"
             ],
             [
              0.2222222222222222,
              "#7201a8"
             ],
             [
              0.3333333333333333,
              "#9c179e"
             ],
             [
              0.4444444444444444,
              "#bd3786"
             ],
             [
              0.5555555555555556,
              "#d8576b"
             ],
             [
              0.6666666666666666,
              "#ed7953"
             ],
             [
              0.7777777777777778,
              "#fb9f3a"
             ],
             [
              0.8888888888888888,
              "#fdca26"
             ],
             [
              1,
              "#f0f921"
             ]
            ],
            "type": "contour"
           }
          ],
          "contourcarpet": [
           {
            "colorbar": {
             "outlinewidth": 0,
             "ticks": ""
            },
            "type": "contourcarpet"
           }
          ],
          "heatmap": [
           {
            "colorbar": {
             "outlinewidth": 0,
             "ticks": ""
            },
            "colorscale": [
             [
              0,
              "#0d0887"
             ],
             [
              0.1111111111111111,
              "#46039f"
             ],
             [
              0.2222222222222222,
              "#7201a8"
             ],
             [
              0.3333333333333333,
              "#9c179e"
             ],
             [
              0.4444444444444444,
              "#bd3786"
             ],
             [
              0.5555555555555556,
              "#d8576b"
             ],
             [
              0.6666666666666666,
              "#ed7953"
             ],
             [
              0.7777777777777778,
              "#fb9f3a"
             ],
             [
              0.8888888888888888,
              "#fdca26"
             ],
             [
              1,
              "#f0f921"
             ]
            ],
            "type": "heatmap"
           }
          ],
          "heatmapgl": [
           {
            "colorbar": {
             "outlinewidth": 0,
             "ticks": ""
            },
            "colorscale": [
             [
              0,
              "#0d0887"
             ],
             [
              0.1111111111111111,
              "#46039f"
             ],
             [
              0.2222222222222222,
              "#7201a8"
             ],
             [
              0.3333333333333333,
              "#9c179e"
             ],
             [
              0.4444444444444444,
              "#bd3786"
             ],
             [
              0.5555555555555556,
              "#d8576b"
             ],
             [
              0.6666666666666666,
              "#ed7953"
             ],
             [
              0.7777777777777778,
              "#fb9f3a"
             ],
             [
              0.8888888888888888,
              "#fdca26"
             ],
             [
              1,
              "#f0f921"
             ]
            ],
            "type": "heatmapgl"
           }
          ],
          "histogram": [
           {
            "marker": {
             "pattern": {
              "fillmode": "overlay",
              "size": 10,
              "solidity": 0.2
             }
            },
            "type": "histogram"
           }
          ],
          "histogram2d": [
           {
            "colorbar": {
             "outlinewidth": 0,
             "ticks": ""
            },
            "colorscale": [
             [
              0,
              "#0d0887"
             ],
             [
              0.1111111111111111,
              "#46039f"
             ],
             [
              0.2222222222222222,
              "#7201a8"
             ],
             [
              0.3333333333333333,
              "#9c179e"
             ],
             [
              0.4444444444444444,
              "#bd3786"
             ],
             [
              0.5555555555555556,
              "#d8576b"
             ],
             [
              0.6666666666666666,
              "#ed7953"
             ],
             [
              0.7777777777777778,
              "#fb9f3a"
             ],
             [
              0.8888888888888888,
              "#fdca26"
             ],
             [
              1,
              "#f0f921"
             ]
            ],
            "type": "histogram2d"
           }
          ],
          "histogram2dcontour": [
           {
            "colorbar": {
             "outlinewidth": 0,
             "ticks": ""
            },
            "colorscale": [
             [
              0,
              "#0d0887"
             ],
             [
              0.1111111111111111,
              "#46039f"
             ],
             [
              0.2222222222222222,
              "#7201a8"
             ],
             [
              0.3333333333333333,
              "#9c179e"
             ],
             [
              0.4444444444444444,
              "#bd3786"
             ],
             [
              0.5555555555555556,
              "#d8576b"
             ],
             [
              0.6666666666666666,
              "#ed7953"
             ],
             [
              0.7777777777777778,
              "#fb9f3a"
             ],
             [
              0.8888888888888888,
              "#fdca26"
             ],
             [
              1,
              "#f0f921"
             ]
            ],
            "type": "histogram2dcontour"
           }
          ],
          "mesh3d": [
           {
            "colorbar": {
             "outlinewidth": 0,
             "ticks": ""
            },
            "type": "mesh3d"
           }
          ],
          "parcoords": [
           {
            "line": {
             "colorbar": {
              "outlinewidth": 0,
              "ticks": ""
             }
            },
            "type": "parcoords"
           }
          ],
          "pie": [
           {
            "automargin": true,
            "type": "pie"
           }
          ],
          "scatter": [
           {
            "fillpattern": {
             "fillmode": "overlay",
             "size": 10,
             "solidity": 0.2
            },
            "type": "scatter"
           }
          ],
          "scatter3d": [
           {
            "line": {
             "colorbar": {
              "outlinewidth": 0,
              "ticks": ""
             }
            },
            "marker": {
             "colorbar": {
              "outlinewidth": 0,
              "ticks": ""
             }
            },
            "type": "scatter3d"
           }
          ],
          "scattercarpet": [
           {
            "marker": {
             "colorbar": {
              "outlinewidth": 0,
              "ticks": ""
             }
            },
            "type": "scattercarpet"
           }
          ],
          "scattergeo": [
           {
            "marker": {
             "colorbar": {
              "outlinewidth": 0,
              "ticks": ""
             }
            },
            "type": "scattergeo"
           }
          ],
          "scattergl": [
           {
            "marker": {
             "colorbar": {
              "outlinewidth": 0,
              "ticks": ""
             }
            },
            "type": "scattergl"
           }
          ],
          "scattermapbox": [
           {
            "marker": {
             "colorbar": {
              "outlinewidth": 0,
              "ticks": ""
             }
            },
            "type": "scattermapbox"
           }
          ],
          "scatterpolar": [
           {
            "marker": {
             "colorbar": {
              "outlinewidth": 0,
              "ticks": ""
             }
            },
            "type": "scatterpolar"
           }
          ],
          "scatterpolargl": [
           {
            "marker": {
             "colorbar": {
              "outlinewidth": 0,
              "ticks": ""
             }
            },
            "type": "scatterpolargl"
           }
          ],
          "scatterternary": [
           {
            "marker": {
             "colorbar": {
              "outlinewidth": 0,
              "ticks": ""
             }
            },
            "type": "scatterternary"
           }
          ],
          "surface": [
           {
            "colorbar": {
             "outlinewidth": 0,
             "ticks": ""
            },
            "colorscale": [
             [
              0,
              "#0d0887"
             ],
             [
              0.1111111111111111,
              "#46039f"
             ],
             [
              0.2222222222222222,
              "#7201a8"
             ],
             [
              0.3333333333333333,
              "#9c179e"
             ],
             [
              0.4444444444444444,
              "#bd3786"
             ],
             [
              0.5555555555555556,
              "#d8576b"
             ],
             [
              0.6666666666666666,
              "#ed7953"
             ],
             [
              0.7777777777777778,
              "#fb9f3a"
             ],
             [
              0.8888888888888888,
              "#fdca26"
             ],
             [
              1,
              "#f0f921"
             ]
            ],
            "type": "surface"
           }
          ],
          "table": [
           {
            "cells": {
             "fill": {
              "color": "#EBF0F8"
             },
             "line": {
              "color": "white"
             }
            },
            "header": {
             "fill": {
              "color": "#C8D4E3"
             },
             "line": {
              "color": "white"
             }
            },
            "type": "table"
           }
          ]
         },
         "layout": {
          "annotationdefaults": {
           "arrowcolor": "#2a3f5f",
           "arrowhead": 0,
           "arrowwidth": 1
          },
          "autotypenumbers": "strict",
          "coloraxis": {
           "colorbar": {
            "outlinewidth": 0,
            "ticks": ""
           }
          },
          "colorscale": {
           "diverging": [
            [
             0,
             "#8e0152"
            ],
            [
             0.1,
             "#c51b7d"
            ],
            [
             0.2,
             "#de77ae"
            ],
            [
             0.3,
             "#f1b6da"
            ],
            [
             0.4,
             "#fde0ef"
            ],
            [
             0.5,
             "#f7f7f7"
            ],
            [
             0.6,
             "#e6f5d0"
            ],
            [
             0.7,
             "#b8e186"
            ],
            [
             0.8,
             "#7fbc41"
            ],
            [
             0.9,
             "#4d9221"
            ],
            [
             1,
             "#276419"
            ]
           ],
           "sequential": [
            [
             0,
             "#0d0887"
            ],
            [
             0.1111111111111111,
             "#46039f"
            ],
            [
             0.2222222222222222,
             "#7201a8"
            ],
            [
             0.3333333333333333,
             "#9c179e"
            ],
            [
             0.4444444444444444,
             "#bd3786"
            ],
            [
             0.5555555555555556,
             "#d8576b"
            ],
            [
             0.6666666666666666,
             "#ed7953"
            ],
            [
             0.7777777777777778,
             "#fb9f3a"
            ],
            [
             0.8888888888888888,
             "#fdca26"
            ],
            [
             1,
             "#f0f921"
            ]
           ],
           "sequentialminus": [
            [
             0,
             "#0d0887"
            ],
            [
             0.1111111111111111,
             "#46039f"
            ],
            [
             0.2222222222222222,
             "#7201a8"
            ],
            [
             0.3333333333333333,
             "#9c179e"
            ],
            [
             0.4444444444444444,
             "#bd3786"
            ],
            [
             0.5555555555555556,
             "#d8576b"
            ],
            [
             0.6666666666666666,
             "#ed7953"
            ],
            [
             0.7777777777777778,
             "#fb9f3a"
            ],
            [
             0.8888888888888888,
             "#fdca26"
            ],
            [
             1,
             "#f0f921"
            ]
           ]
          },
          "colorway": [
           "#636efa",
           "#EF553B",
           "#00cc96",
           "#ab63fa",
           "#FFA15A",
           "#19d3f3",
           "#FF6692",
           "#B6E880",
           "#FF97FF",
           "#FECB52"
          ],
          "font": {
           "color": "#2a3f5f"
          },
          "geo": {
           "bgcolor": "white",
           "lakecolor": "white",
           "landcolor": "#E5ECF6",
           "showlakes": true,
           "showland": true,
           "subunitcolor": "white"
          },
          "hoverlabel": {
           "align": "left"
          },
          "hovermode": "closest",
          "mapbox": {
           "style": "light"
          },
          "paper_bgcolor": "white",
          "plot_bgcolor": "#E5ECF6",
          "polar": {
           "angularaxis": {
            "gridcolor": "white",
            "linecolor": "white",
            "ticks": ""
           },
           "bgcolor": "#E5ECF6",
           "radialaxis": {
            "gridcolor": "white",
            "linecolor": "white",
            "ticks": ""
           }
          },
          "scene": {
           "xaxis": {
            "backgroundcolor": "#E5ECF6",
            "gridcolor": "white",
            "gridwidth": 2,
            "linecolor": "white",
            "showbackground": true,
            "ticks": "",
            "zerolinecolor": "white"
           },
           "yaxis": {
            "backgroundcolor": "#E5ECF6",
            "gridcolor": "white",
            "gridwidth": 2,
            "linecolor": "white",
            "showbackground": true,
            "ticks": "",
            "zerolinecolor": "white"
           },
           "zaxis": {
            "backgroundcolor": "#E5ECF6",
            "gridcolor": "white",
            "gridwidth": 2,
            "linecolor": "white",
            "showbackground": true,
            "ticks": "",
            "zerolinecolor": "white"
           }
          },
          "shapedefaults": {
           "line": {
            "color": "#2a3f5f"
           }
          },
          "ternary": {
           "aaxis": {
            "gridcolor": "white",
            "linecolor": "white",
            "ticks": ""
           },
           "baxis": {
            "gridcolor": "white",
            "linecolor": "white",
            "ticks": ""
           },
           "bgcolor": "#E5ECF6",
           "caxis": {
            "gridcolor": "white",
            "linecolor": "white",
            "ticks": ""
           }
          },
          "title": {
           "x": 0.05
          },
          "xaxis": {
           "automargin": true,
           "gridcolor": "white",
           "linecolor": "white",
           "ticks": "",
           "title": {
            "standoff": 15
           },
           "zerolinecolor": "white",
           "zerolinewidth": 2
          },
          "yaxis": {
           "automargin": true,
           "gridcolor": "white",
           "linecolor": "white",
           "ticks": "",
           "title": {
            "standoff": 15
           },
           "zerolinecolor": "white",
           "zerolinewidth": 2
          }
         }
        },
        "title": {
         "text": "Execution time for Intersection by MAX_CHUNK_SIZE ",
         "x": 0.5
        },
        "xaxis": {
         "anchor": "y",
         "domain": [
          0,
          0.26666666666666666
         ]
        },
        "xaxis2": {
         "anchor": "y2",
         "domain": [
          0.3666666666666667,
          0.6333333333333333
         ]
        },
        "xaxis3": {
         "anchor": "y3",
         "domain": [
          0.7333333333333334,
          1
         ]
        },
        "xaxis4": {
         "anchor": "y4",
         "domain": [
          0,
          0.26666666666666666
         ]
        },
        "xaxis5": {
         "anchor": "y5",
         "domain": [
          0.3666666666666667,
          0.6333333333333333
         ]
        },
        "xaxis6": {
         "anchor": "y6",
         "domain": [
          0.7333333333333334,
          1
         ]
        },
        "yaxis": {
         "anchor": "x",
         "domain": [
          0.625,
          1
         ]
        },
        "yaxis2": {
         "anchor": "x2",
         "domain": [
          0.625,
          1
         ]
        },
        "yaxis3": {
         "anchor": "x3",
         "domain": [
          0.625,
          1
         ]
        },
        "yaxis4": {
         "anchor": "x4",
         "domain": [
          0,
          0.375
         ]
        },
        "yaxis5": {
         "anchor": "x5",
         "domain": [
          0,
          0.375
         ]
        },
        "yaxis6": {
         "anchor": "x6",
         "domain": [
          0,
          0.375
         ]
        }
       }
      }
     },
     "metadata": {},
     "output_type": "display_data"
    },
    {
     "data": {
      "application/vnd.plotly.v1+json": {
       "config": {
        "plotlyServerURL": "https://plot.ly"
       },
       "data": [
        {
         "mode": "lines",
         "name": "Large(Baseline)",
         "type": "scatter",
         "x": [
          0,
          1,
          2,
          3
         ],
         "xaxis": "x",
         "y": [
          0.021723808042774413,
          0.014021813454963465,
          0.011808319928736346,
          0.010988780804674457
         ],
         "yaxis": "y"
        },
        {
         "mode": "lines",
         "name": "Large",
         "type": "scatter",
         "x": [
          0,
          1,
          2,
          3
         ],
         "xaxis": "x",
         "y": [
          0.01442554263816651,
          0.00702470279084469,
          0.004930186005088778,
          0.003965851046736946
         ],
         "yaxis": "y"
        },
        {
         "mode": "lines",
         "name": "Medium(Baseline)",
         "type": "scatter",
         "x": [
          0,
          1,
          2,
          3
         ],
         "xaxis": "x2",
         "y": [
          0.0019944368881018213,
          0.0015529652586405132,
          0.0015183707766010667,
          0.001495178851419715
         ],
         "yaxis": "y2"
        },
        {
         "mode": "lines",
         "name": "Medium",
         "type": "scatter",
         "x": [
          0,
          1,
          2,
          3
         ],
         "xaxis": "x2",
         "y": [
          0.0017485950364196604,
          0.0011534188885922992,
          0.0010432458533344928,
          0.0009303430356171534
         ],
         "yaxis": "y2"
        },
        {
         "mode": "lines",
         "name": "Medium_Large_Mixed(Baseline)",
         "type": "scatter",
         "x": [
          0,
          1,
          2,
          3
         ],
         "xaxis": "x3",
         "y": [
          0.0024315106129506603,
          0.002876032649692206,
          0.002131863536851597,
          0.0021144905631445
         ],
         "yaxis": "y3"
        },
        {
         "mode": "lines",
         "name": "Medium_Large_Mixed",
         "type": "scatter",
         "x": [
          0,
          1,
          2,
          3
         ],
         "xaxis": "x3",
         "y": [
          0.0012293364756260417,
          0.0008064241512329318,
          0.0006595331755306688,
          0.0006510385996080003
         ],
         "yaxis": "y3"
        },
        {
         "mode": "lines",
         "name": "Small(Baseline)",
         "type": "scatter",
         "x": [
          0,
          1,
          2,
          3
         ],
         "xaxis": "x4",
         "y": [
          0.000844426232523641,
          0.0007132850358389345,
          0.0007237884088039316,
          0.0007301223056000547
         ],
         "yaxis": "y4"
        },
        {
         "mode": "lines",
         "name": "Small",
         "type": "scatter",
         "x": [
          0,
          1,
          2,
          3
         ],
         "xaxis": "x4",
         "y": [
          0.0008333234383505495,
          0.0006797357622845619,
          0.000663614256079788,
          0.0006644103472781888
         ],
         "yaxis": "y4"
        },
        {
         "mode": "lines",
         "name": "Small_Large_Mixed(Baseline)",
         "type": "scatter",
         "x": [
          0,
          1,
          2,
          3
         ],
         "xaxis": "x5",
         "y": [
          0.002643980691004799,
          0.002068774332258272,
          0.0019764915315363396,
          0.002197534488061592
         ],
         "yaxis": "y5"
        },
        {
         "mode": "lines",
         "name": "Small_Large_Mixed",
         "type": "scatter",
         "x": [
          0,
          1,
          2,
          3
         ],
         "xaxis": "x5",
         "y": [
          0.0012364570388285756,
          0.0007795938244612444,
          0.0006341039770632051,
          0.0005914870820902252
         ],
         "yaxis": "y5"
        },
        {
         "mode": "lines",
         "name": "Small_Medium_Mixed(Baseline)",
         "type": "scatter",
         "x": [
          0,
          1,
          2,
          3
         ],
         "xaxis": "x6",
         "y": [
          0.0011414921058514938,
          0.0009736684684134789,
          0.0009318967967961742,
          0.0009250924695876583
         ],
         "yaxis": "y6"
        },
        {
         "mode": "lines",
         "name": "Small_Medium_Mixed",
         "type": "scatter",
         "x": [
          0,
          1,
          2,
          3
         ],
         "xaxis": "x6",
         "y": [
          0.0009956633270588348,
          0.0007252971766891568,
          0.0006876079641453575,
          0.0006212903179209761
         ],
         "yaxis": "y6"
        }
       ],
       "layout": {
        "annotations": [
         {
          "font": {
           "size": 16
          },
          "showarrow": false,
          "text": "Large",
          "x": 0.13333333333333333,
          "xanchor": "center",
          "xref": "paper",
          "y": 1,
          "yanchor": "bottom",
          "yref": "paper"
         },
         {
          "font": {
           "size": 16
          },
          "showarrow": false,
          "text": "Medium",
          "x": 0.5,
          "xanchor": "center",
          "xref": "paper",
          "y": 1,
          "yanchor": "bottom",
          "yref": "paper"
         },
         {
          "font": {
           "size": 16
          },
          "showarrow": false,
          "text": "Medium_Large_Mixed",
          "x": 0.8666666666666667,
          "xanchor": "center",
          "xref": "paper",
          "y": 1,
          "yanchor": "bottom",
          "yref": "paper"
         },
         {
          "font": {
           "size": 16
          },
          "showarrow": false,
          "text": "Small",
          "x": 0.13333333333333333,
          "xanchor": "center",
          "xref": "paper",
          "y": 0.375,
          "yanchor": "bottom",
          "yref": "paper"
         },
         {
          "font": {
           "size": 16
          },
          "showarrow": false,
          "text": "Small_Large_Mixed",
          "x": 0.5,
          "xanchor": "center",
          "xref": "paper",
          "y": 0.375,
          "yanchor": "bottom",
          "yref": "paper"
         },
         {
          "font": {
           "size": 16
          },
          "showarrow": false,
          "text": "Small_Medium_Mixed",
          "x": 0.8666666666666667,
          "xanchor": "center",
          "xref": "paper",
          "y": 0.375,
          "yanchor": "bottom",
          "yref": "paper"
         },
         {
          "font": {
           "size": 16
          },
          "showarrow": false,
          "text": "MAX_CHUNK_SIZE",
          "x": 0.5,
          "xanchor": "center",
          "xref": "paper",
          "y": 0,
          "yanchor": "top",
          "yref": "paper",
          "yshift": -30
         },
         {
          "font": {
           "size": 16
          },
          "showarrow": false,
          "text": "Mean Execution time (s)",
          "textangle": -90,
          "x": 0,
          "xanchor": "right",
          "xref": "paper",
          "xshift": -40,
          "y": 0.5,
          "yanchor": "middle",
          "yref": "paper"
         }
        ],
        "template": {
         "data": {
          "bar": [
           {
            "error_x": {
             "color": "#2a3f5f"
            },
            "error_y": {
             "color": "#2a3f5f"
            },
            "marker": {
             "line": {
              "color": "#E5ECF6",
              "width": 0.5
             },
             "pattern": {
              "fillmode": "overlay",
              "size": 10,
              "solidity": 0.2
             }
            },
            "type": "bar"
           }
          ],
          "barpolar": [
           {
            "marker": {
             "line": {
              "color": "#E5ECF6",
              "width": 0.5
             },
             "pattern": {
              "fillmode": "overlay",
              "size": 10,
              "solidity": 0.2
             }
            },
            "type": "barpolar"
           }
          ],
          "carpet": [
           {
            "aaxis": {
             "endlinecolor": "#2a3f5f",
             "gridcolor": "white",
             "linecolor": "white",
             "minorgridcolor": "white",
             "startlinecolor": "#2a3f5f"
            },
            "baxis": {
             "endlinecolor": "#2a3f5f",
             "gridcolor": "white",
             "linecolor": "white",
             "minorgridcolor": "white",
             "startlinecolor": "#2a3f5f"
            },
            "type": "carpet"
           }
          ],
          "choropleth": [
           {
            "colorbar": {
             "outlinewidth": 0,
             "ticks": ""
            },
            "type": "choropleth"
           }
          ],
          "contour": [
           {
            "colorbar": {
             "outlinewidth": 0,
             "ticks": ""
            },
            "colorscale": [
             [
              0,
              "#0d0887"
             ],
             [
              0.1111111111111111,
              "#46039f"
             ],
             [
              0.2222222222222222,
              "#7201a8"
             ],
             [
              0.3333333333333333,
              "#9c179e"
             ],
             [
              0.4444444444444444,
              "#bd3786"
             ],
             [
              0.5555555555555556,
              "#d8576b"
             ],
             [
              0.6666666666666666,
              "#ed7953"
             ],
             [
              0.7777777777777778,
              "#fb9f3a"
             ],
             [
              0.8888888888888888,
              "#fdca26"
             ],
             [
              1,
              "#f0f921"
             ]
            ],
            "type": "contour"
           }
          ],
          "contourcarpet": [
           {
            "colorbar": {
             "outlinewidth": 0,
             "ticks": ""
            },
            "type": "contourcarpet"
           }
          ],
          "heatmap": [
           {
            "colorbar": {
             "outlinewidth": 0,
             "ticks": ""
            },
            "colorscale": [
             [
              0,
              "#0d0887"
             ],
             [
              0.1111111111111111,
              "#46039f"
             ],
             [
              0.2222222222222222,
              "#7201a8"
             ],
             [
              0.3333333333333333,
              "#9c179e"
             ],
             [
              0.4444444444444444,
              "#bd3786"
             ],
             [
              0.5555555555555556,
              "#d8576b"
             ],
             [
              0.6666666666666666,
              "#ed7953"
             ],
             [
              0.7777777777777778,
              "#fb9f3a"
             ],
             [
              0.8888888888888888,
              "#fdca26"
             ],
             [
              1,
              "#f0f921"
             ]
            ],
            "type": "heatmap"
           }
          ],
          "heatmapgl": [
           {
            "colorbar": {
             "outlinewidth": 0,
             "ticks": ""
            },
            "colorscale": [
             [
              0,
              "#0d0887"
             ],
             [
              0.1111111111111111,
              "#46039f"
             ],
             [
              0.2222222222222222,
              "#7201a8"
             ],
             [
              0.3333333333333333,
              "#9c179e"
             ],
             [
              0.4444444444444444,
              "#bd3786"
             ],
             [
              0.5555555555555556,
              "#d8576b"
             ],
             [
              0.6666666666666666,
              "#ed7953"
             ],
             [
              0.7777777777777778,
              "#fb9f3a"
             ],
             [
              0.8888888888888888,
              "#fdca26"
             ],
             [
              1,
              "#f0f921"
             ]
            ],
            "type": "heatmapgl"
           }
          ],
          "histogram": [
           {
            "marker": {
             "pattern": {
              "fillmode": "overlay",
              "size": 10,
              "solidity": 0.2
             }
            },
            "type": "histogram"
           }
          ],
          "histogram2d": [
           {
            "colorbar": {
             "outlinewidth": 0,
             "ticks": ""
            },
            "colorscale": [
             [
              0,
              "#0d0887"
             ],
             [
              0.1111111111111111,
              "#46039f"
             ],
             [
              0.2222222222222222,
              "#7201a8"
             ],
             [
              0.3333333333333333,
              "#9c179e"
             ],
             [
              0.4444444444444444,
              "#bd3786"
             ],
             [
              0.5555555555555556,
              "#d8576b"
             ],
             [
              0.6666666666666666,
              "#ed7953"
             ],
             [
              0.7777777777777778,
              "#fb9f3a"
             ],
             [
              0.8888888888888888,
              "#fdca26"
             ],
             [
              1,
              "#f0f921"
             ]
            ],
            "type": "histogram2d"
           }
          ],
          "histogram2dcontour": [
           {
            "colorbar": {
             "outlinewidth": 0,
             "ticks": ""
            },
            "colorscale": [
             [
              0,
              "#0d0887"
             ],
             [
              0.1111111111111111,
              "#46039f"
             ],
             [
              0.2222222222222222,
              "#7201a8"
             ],
             [
              0.3333333333333333,
              "#9c179e"
             ],
             [
              0.4444444444444444,
              "#bd3786"
             ],
             [
              0.5555555555555556,
              "#d8576b"
             ],
             [
              0.6666666666666666,
              "#ed7953"
             ],
             [
              0.7777777777777778,
              "#fb9f3a"
             ],
             [
              0.8888888888888888,
              "#fdca26"
             ],
             [
              1,
              "#f0f921"
             ]
            ],
            "type": "histogram2dcontour"
           }
          ],
          "mesh3d": [
           {
            "colorbar": {
             "outlinewidth": 0,
             "ticks": ""
            },
            "type": "mesh3d"
           }
          ],
          "parcoords": [
           {
            "line": {
             "colorbar": {
              "outlinewidth": 0,
              "ticks": ""
             }
            },
            "type": "parcoords"
           }
          ],
          "pie": [
           {
            "automargin": true,
            "type": "pie"
           }
          ],
          "scatter": [
           {
            "fillpattern": {
             "fillmode": "overlay",
             "size": 10,
             "solidity": 0.2
            },
            "type": "scatter"
           }
          ],
          "scatter3d": [
           {
            "line": {
             "colorbar": {
              "outlinewidth": 0,
              "ticks": ""
             }
            },
            "marker": {
             "colorbar": {
              "outlinewidth": 0,
              "ticks": ""
             }
            },
            "type": "scatter3d"
           }
          ],
          "scattercarpet": [
           {
            "marker": {
             "colorbar": {
              "outlinewidth": 0,
              "ticks": ""
             }
            },
            "type": "scattercarpet"
           }
          ],
          "scattergeo": [
           {
            "marker": {
             "colorbar": {
              "outlinewidth": 0,
              "ticks": ""
             }
            },
            "type": "scattergeo"
           }
          ],
          "scattergl": [
           {
            "marker": {
             "colorbar": {
              "outlinewidth": 0,
              "ticks": ""
             }
            },
            "type": "scattergl"
           }
          ],
          "scattermapbox": [
           {
            "marker": {
             "colorbar": {
              "outlinewidth": 0,
              "ticks": ""
             }
            },
            "type": "scattermapbox"
           }
          ],
          "scatterpolar": [
           {
            "marker": {
             "colorbar": {
              "outlinewidth": 0,
              "ticks": ""
             }
            },
            "type": "scatterpolar"
           }
          ],
          "scatterpolargl": [
           {
            "marker": {
             "colorbar": {
              "outlinewidth": 0,
              "ticks": ""
             }
            },
            "type": "scatterpolargl"
           }
          ],
          "scatterternary": [
           {
            "marker": {
             "colorbar": {
              "outlinewidth": 0,
              "ticks": ""
             }
            },
            "type": "scatterternary"
           }
          ],
          "surface": [
           {
            "colorbar": {
             "outlinewidth": 0,
             "ticks": ""
            },
            "colorscale": [
             [
              0,
              "#0d0887"
             ],
             [
              0.1111111111111111,
              "#46039f"
             ],
             [
              0.2222222222222222,
              "#7201a8"
             ],
             [
              0.3333333333333333,
              "#9c179e"
             ],
             [
              0.4444444444444444,
              "#bd3786"
             ],
             [
              0.5555555555555556,
              "#d8576b"
             ],
             [
              0.6666666666666666,
              "#ed7953"
             ],
             [
              0.7777777777777778,
              "#fb9f3a"
             ],
             [
              0.8888888888888888,
              "#fdca26"
             ],
             [
              1,
              "#f0f921"
             ]
            ],
            "type": "surface"
           }
          ],
          "table": [
           {
            "cells": {
             "fill": {
              "color": "#EBF0F8"
             },
             "line": {
              "color": "white"
             }
            },
            "header": {
             "fill": {
              "color": "#C8D4E3"
             },
             "line": {
              "color": "white"
             }
            },
            "type": "table"
           }
          ]
         },
         "layout": {
          "annotationdefaults": {
           "arrowcolor": "#2a3f5f",
           "arrowhead": 0,
           "arrowwidth": 1
          },
          "autotypenumbers": "strict",
          "coloraxis": {
           "colorbar": {
            "outlinewidth": 0,
            "ticks": ""
           }
          },
          "colorscale": {
           "diverging": [
            [
             0,
             "#8e0152"
            ],
            [
             0.1,
             "#c51b7d"
            ],
            [
             0.2,
             "#de77ae"
            ],
            [
             0.3,
             "#f1b6da"
            ],
            [
             0.4,
             "#fde0ef"
            ],
            [
             0.5,
             "#f7f7f7"
            ],
            [
             0.6,
             "#e6f5d0"
            ],
            [
             0.7,
             "#b8e186"
            ],
            [
             0.8,
             "#7fbc41"
            ],
            [
             0.9,
             "#4d9221"
            ],
            [
             1,
             "#276419"
            ]
           ],
           "sequential": [
            [
             0,
             "#0d0887"
            ],
            [
             0.1111111111111111,
             "#46039f"
            ],
            [
             0.2222222222222222,
             "#7201a8"
            ],
            [
             0.3333333333333333,
             "#9c179e"
            ],
            [
             0.4444444444444444,
             "#bd3786"
            ],
            [
             0.5555555555555556,
             "#d8576b"
            ],
            [
             0.6666666666666666,
             "#ed7953"
            ],
            [
             0.7777777777777778,
             "#fb9f3a"
            ],
            [
             0.8888888888888888,
             "#fdca26"
            ],
            [
             1,
             "#f0f921"
            ]
           ],
           "sequentialminus": [
            [
             0,
             "#0d0887"
            ],
            [
             0.1111111111111111,
             "#46039f"
            ],
            [
             0.2222222222222222,
             "#7201a8"
            ],
            [
             0.3333333333333333,
             "#9c179e"
            ],
            [
             0.4444444444444444,
             "#bd3786"
            ],
            [
             0.5555555555555556,
             "#d8576b"
            ],
            [
             0.6666666666666666,
             "#ed7953"
            ],
            [
             0.7777777777777778,
             "#fb9f3a"
            ],
            [
             0.8888888888888888,
             "#fdca26"
            ],
            [
             1,
             "#f0f921"
            ]
           ]
          },
          "colorway": [
           "#636efa",
           "#EF553B",
           "#00cc96",
           "#ab63fa",
           "#FFA15A",
           "#19d3f3",
           "#FF6692",
           "#B6E880",
           "#FF97FF",
           "#FECB52"
          ],
          "font": {
           "color": "#2a3f5f"
          },
          "geo": {
           "bgcolor": "white",
           "lakecolor": "white",
           "landcolor": "#E5ECF6",
           "showlakes": true,
           "showland": true,
           "subunitcolor": "white"
          },
          "hoverlabel": {
           "align": "left"
          },
          "hovermode": "closest",
          "mapbox": {
           "style": "light"
          },
          "paper_bgcolor": "white",
          "plot_bgcolor": "#E5ECF6",
          "polar": {
           "angularaxis": {
            "gridcolor": "white",
            "linecolor": "white",
            "ticks": ""
           },
           "bgcolor": "#E5ECF6",
           "radialaxis": {
            "gridcolor": "white",
            "linecolor": "white",
            "ticks": ""
           }
          },
          "scene": {
           "xaxis": {
            "backgroundcolor": "#E5ECF6",
            "gridcolor": "white",
            "gridwidth": 2,
            "linecolor": "white",
            "showbackground": true,
            "ticks": "",
            "zerolinecolor": "white"
           },
           "yaxis": {
            "backgroundcolor": "#E5ECF6",
            "gridcolor": "white",
            "gridwidth": 2,
            "linecolor": "white",
            "showbackground": true,
            "ticks": "",
            "zerolinecolor": "white"
           },
           "zaxis": {
            "backgroundcolor": "#E5ECF6",
            "gridcolor": "white",
            "gridwidth": 2,
            "linecolor": "white",
            "showbackground": true,
            "ticks": "",
            "zerolinecolor": "white"
           }
          },
          "shapedefaults": {
           "line": {
            "color": "#2a3f5f"
           }
          },
          "ternary": {
           "aaxis": {
            "gridcolor": "white",
            "linecolor": "white",
            "ticks": ""
           },
           "baxis": {
            "gridcolor": "white",
            "linecolor": "white",
            "ticks": ""
           },
           "bgcolor": "#E5ECF6",
           "caxis": {
            "gridcolor": "white",
            "linecolor": "white",
            "ticks": ""
           }
          },
          "title": {
           "x": 0.05
          },
          "xaxis": {
           "automargin": true,
           "gridcolor": "white",
           "linecolor": "white",
           "ticks": "",
           "title": {
            "standoff": 15
           },
           "zerolinecolor": "white",
           "zerolinewidth": 2
          },
          "yaxis": {
           "automargin": true,
           "gridcolor": "white",
           "linecolor": "white",
           "ticks": "",
           "title": {
            "standoff": 15
           },
           "zerolinecolor": "white",
           "zerolinewidth": 2
          }
         }
        },
        "title": {
         "text": "Execution time for Intersection by MAX_CHUNK_SIZE ",
         "x": 0.5
        },
        "xaxis": {
         "anchor": "y",
         "domain": [
          0,
          0.26666666666666666
         ]
        },
        "xaxis2": {
         "anchor": "y2",
         "domain": [
          0.3666666666666667,
          0.6333333333333333
         ]
        },
        "xaxis3": {
         "anchor": "y3",
         "domain": [
          0.7333333333333334,
          1
         ]
        },
        "xaxis4": {
         "anchor": "y4",
         "domain": [
          0,
          0.26666666666666666
         ]
        },
        "xaxis5": {
         "anchor": "y5",
         "domain": [
          0.3666666666666667,
          0.6333333333333333
         ]
        },
        "xaxis6": {
         "anchor": "y6",
         "domain": [
          0.7333333333333334,
          1
         ]
        },
        "yaxis": {
         "anchor": "x",
         "domain": [
          0.625,
          1
         ]
        },
        "yaxis2": {
         "anchor": "x2",
         "domain": [
          0.625,
          1
         ]
        },
        "yaxis3": {
         "anchor": "x3",
         "domain": [
          0.625,
          1
         ]
        },
        "yaxis4": {
         "anchor": "x4",
         "domain": [
          0,
          0.375
         ]
        },
        "yaxis5": {
         "anchor": "x5",
         "domain": [
          0,
          0.375
         ]
        },
        "yaxis6": {
         "anchor": "x6",
         "domain": [
          0,
          0.375
         ]
        }
       }
      }
     },
     "metadata": {},
     "output_type": "display_data"
    }
   ],
   "source": [
    "plot_max_delta_size_speed(max_deltas_filt_df, is_predicate=False)\n",
    "plot_max_delta_size_speed(max_deltas_filt_df, is_predicate=False)"
   ]
  },
  {
   "cell_type": "markdown",
   "metadata": {},
   "source": []
  }
 ],
 "metadata": {
  "kernelspec": {
   "display_name": "Python 3",
   "language": "python",
   "name": "python3"
  },
  "language_info": {
   "codemirror_mode": {
    "name": "ipython",
    "version": 3
   },
   "file_extension": ".py",
   "mimetype": "text/x-python",
   "name": "python",
   "nbconvert_exporter": "python",
   "pygments_lexer": "ipython3",
   "version": "3.11.1"
  },
  "orig_nbformat": 4,
  "vscode": {
   "interpreter": {
    "hash": "aee8b7b246df8f9039afb4144a1f6fd8d2ca17a180786b69acc140d282b71a49"
   }
  }
 },
 "nbformat": 4,
 "nbformat_minor": 2
}
