{
 "cells": [
  {
   "cell_type": "code",
   "execution_count": 7,
   "metadata": {},
   "outputs": [
    {
     "name": "stderr",
     "output_type": "stream",
     "text": [
      "  0%|          | 0/18 [00:00<?, ?it/s]"
     ]
    },
    {
     "name": "stdout",
     "output_type": "stream",
     "text": [
      "1 : data/sweden-latest-free/gis_osm_landuse_a_free_1.shp\n",
      "1 contains 1059602 geometries\n"
     ]
    },
    {
     "name": "stderr",
     "output_type": "stream",
     "text": [
      "  6%|▌         | 1/18 [03:16<55:39, 196.47s/it]"
     ]
    },
    {
     "name": "stdout",
     "output_type": "stream",
     "text": [
      "2 : data/sweden-latest-free/gis_osm_natural_free_1.shp\n",
      "2 contains 219639 geometries\n"
     ]
    },
    {
     "name": "stderr",
     "output_type": "stream",
     "text": [
      " 11%|█         | 2/18 [03:42<25:38, 96.13s/it] "
     ]
    },
    {
     "name": "stdout",
     "output_type": "stream",
     "text": [
      "3 : data/sweden-latest-free/gis_osm_buildings_a_free_1.shp\n",
      "3 contains 2827275 geometries\n"
     ]
    },
    {
     "name": "stderr",
     "output_type": "stream",
     "text": [
      " 17%|█▋        | 3/18 [10:46<1:01:28, 245.92s/it]"
     ]
    },
    {
     "name": "stdout",
     "output_type": "stream",
     "text": [
      "4 : data/sweden-latest-free/gis_osm_waterways_free_1.shp\n",
      "4 contains 103816 geometries\n"
     ]
    },
    {
     "name": "stderr",
     "output_type": "stream",
     "text": [
      " 22%|██▏       | 4/18 [11:03<36:18, 155.58s/it]  "
     ]
    },
    {
     "name": "stdout",
     "output_type": "stream",
     "text": [
      "5 : data/sweden-latest-free/gis_osm_pofw_free_1.shp\n",
      "5 contains 772 geometries\n"
     ]
    },
    {
     "name": "stderr",
     "output_type": "stream",
     "text": [
      " 28%|██▊       | 5/18 [11:05<21:42, 100.16s/it]"
     ]
    },
    {
     "name": "stdout",
     "output_type": "stream",
     "text": [
      "6 : data/sweden-latest-free/gis_osm_water_a_free_1.shp\n",
      "6 contains 295715 geometries\n"
     ]
    },
    {
     "name": "stderr",
     "output_type": "stream",
     "text": [
      " 33%|███▎      | 6/18 [12:03<17:10, 85.90s/it] "
     ]
    },
    {
     "name": "stdout",
     "output_type": "stream",
     "text": [
      "7 : data/sweden-latest-free/gis_osm_transport_free_1.shp\n",
      "7 contains 52077 geometries\n"
     ]
    },
    {
     "name": "stderr",
     "output_type": "stream",
     "text": [
      " 39%|███▉      | 7/18 [12:11<11:02, 60.20s/it]"
     ]
    },
    {
     "name": "stdout",
     "output_type": "stream",
     "text": [
      "8 : data/sweden-latest-free/gis_osm_places_a_free_1.shp\n",
      "8 contains 1587 geometries\n"
     ]
    },
    {
     "name": "stderr",
     "output_type": "stream",
     "text": [
      " 44%|████▍     | 8/18 [12:14<07:01, 42.16s/it]"
     ]
    },
    {
     "name": "stdout",
     "output_type": "stream",
     "text": [
      "9 : data/sweden-latest-free/gis_osm_natural_a_free_1.shp\n",
      "9 contains 3465 geometries\n"
     ]
    },
    {
     "name": "stderr",
     "output_type": "stream",
     "text": [
      " 50%|█████     | 9/18 [12:17<04:29, 29.94s/it]"
     ]
    },
    {
     "name": "stdout",
     "output_type": "stream",
     "text": [
      "10 : data/sweden-latest-free/gis_osm_places_free_1.shp\n",
      "10 contains 66431 geometries\n"
     ]
    },
    {
     "name": "stderr",
     "output_type": "stream",
     "text": [
      " 56%|█████▌    | 10/18 [12:26<03:07, 23.49s/it]"
     ]
    },
    {
     "name": "stdout",
     "output_type": "stream",
     "text": [
      "11 : data/sweden-latest-free/gis_osm_pofw_a_free_1.shp\n",
      "11 contains 3753 geometries\n"
     ]
    },
    {
     "name": "stderr",
     "output_type": "stream",
     "text": [
      " 61%|██████    | 11/18 [12:29<01:59, 17.12s/it]"
     ]
    },
    {
     "name": "stdout",
     "output_type": "stream",
     "text": [
      "12 : data/sweden-latest-free/gis_osm_pois_free_1.shp\n",
      "12 contains 125170 geometries\n"
     ]
    },
    {
     "name": "stderr",
     "output_type": "stream",
     "text": [
      " 67%|██████▋   | 12/18 [12:43<01:38, 16.36s/it]"
     ]
    },
    {
     "name": "stdout",
     "output_type": "stream",
     "text": [
      "13 : data/sweden-latest-free/gis_osm_traffic_a_free_1.shp\n",
      "13 contains 78754 geometries\n"
     ]
    },
    {
     "name": "stderr",
     "output_type": "stream",
     "text": [
      " 72%|███████▏  | 13/18 [12:57<01:16, 15.39s/it]"
     ]
    },
    {
     "name": "stdout",
     "output_type": "stream",
     "text": [
      "14 : data/sweden-latest-free/gis_osm_traffic_free_1.shp\n",
      "14 contains 317307 geometries\n"
     ]
    },
    {
     "name": "stderr",
     "output_type": "stream",
     "text": [
      " 78%|███████▊  | 14/18 [13:33<01:26, 21.63s/it]"
     ]
    },
    {
     "name": "stdout",
     "output_type": "stream",
     "text": [
      "15 : data/sweden-latest-free/gis_osm_railways_free_1.shp\n",
      "15 contains 25885 geometries\n"
     ]
    },
    {
     "name": "stderr",
     "output_type": "stream",
     "text": [
      " 83%|████████▎ | 15/18 [13:39<00:50, 16.97s/it]"
     ]
    },
    {
     "name": "stdout",
     "output_type": "stream",
     "text": [
      "16 : data/sweden-latest-free/gis_osm_transport_a_free_1.shp\n",
      "16 contains 852 geometries\n"
     ]
    },
    {
     "name": "stderr",
     "output_type": "stream",
     "text": [
      " 89%|████████▉ | 16/18 [13:42<00:25, 12.75s/it]"
     ]
    },
    {
     "name": "stdout",
     "output_type": "stream",
     "text": [
      "17 : data/sweden-latest-free/gis_osm_pois_a_free_1.shp\n",
      "17 contains 76334 geometries\n"
     ]
    },
    {
     "name": "stderr",
     "output_type": "stream",
     "text": [
      " 94%|█████████▍| 17/18 [13:56<00:13, 13.22s/it]"
     ]
    },
    {
     "name": "stdout",
     "output_type": "stream",
     "text": [
      "18 : data/sweden-latest-free/gis_osm_roads_free_1.shp\n",
      "18 contains 1904260 geometries\n"
     ]
    },
    {
     "name": "stderr",
     "output_type": "stream",
     "text": [
      "100%|██████████| 18/18 [18:54<00:00, 63.01s/it]\n",
      "  0%|          | 0/100000 [42:16:21<?, ?it/s, iteration=1e+5] \n"
     ]
    }
   ],
   "source": [
    "import bench_utils\n",
    "import shapely\n",
    "from shapely.geometry import shape\n",
    "from tqdm import tqdm\n",
    "from intersection.plotting import *\n",
    "import matplotlib.pyplot as plt\n",
    "import json\n",
    "import geopandas as gpd\n",
    "import pickle\n",
    "\n",
    "MAX_INTERSECTIONS = 100000\n",
    "MAX_ONE_SHAPE = 5\n",
    "\n",
    "intersections = []\n",
    "nbr_intersects = 0\n",
    "nbr_false = 0\n",
    "vertices = [[], []]\n",
    "\n",
    "def append_data_set(file_name, intersections, PRINT_AND_DRAW=True):\n",
    "    global nbr_intersects\n",
    "    global nbr_false\n",
    "    #df, _ = bench_utils.read_dataset(file_name)\n",
    "    if file_name.endswith(\".shp\"):\n",
    "        df = gpd.read_file(file_name)\n",
    "    else:\n",
    "        df, _ = bench_utils.load_shp_files(file_name)\n",
    "\n",
    "    df =  df.sample(frac=1)\n",
    "    # Add an index row\n",
    "    df = df.reset_index()\n",
    "    shp_cnt = len(df)\n",
    "\n",
    "    with tqdm(total=MAX_INTERSECTIONS) as pbar:\n",
    "        for i in tqdm(range(shp_cnt), disable=True):\n",
    "            pbar.set_postfix(iteration=len(intersections))\n",
    "            if len(intersections) >= MAX_INTERSECTIONS: \n",
    "                break\n",
    "            #shp_1 = shape(df.iloc[i])\n",
    "            shp_1 = df.iloc[i].geometry\n",
    "            x_l_1, y_b_1, x_r_1, y_t_1 = shp_1.bounds\n",
    "            from shapely.geometry import box\n",
    "            shapes_within_bbox = df[df.geometry.intersects(box(x_l_1, y_b_1, x_r_1, y_t_1))]\n",
    "            #shapes_within_bbox = df\n",
    "            added = 0\n",
    "            for r, shp_2_row in shapes_within_bbox.iterrows():\n",
    "                shp_2 = shp_2_row.geometry\n",
    "                if df.iloc[i]['index'] <= shp_2_row['index']:\n",
    "                    continue\n",
    "                x_l_2, y_b_2, x_r_2, y_t_2 = shp_2.bounds\n",
    "                bbox = [max(x_l_1, x_l_2), max(y_b_1, y_b_2), min(x_r_1, x_r_2), min(y_t_1, y_t_2)]\n",
    "                x_l, y_b, x_r, y_t = bbox\n",
    "                if x_r < x_l or y_t < y_b:\n",
    "                    continue\n",
    "\n",
    "                types = [shp_1.geom_type, shp_2.geom_type]\n",
    "                types.sort()\n",
    "                t_1, t_2 = types\n",
    "                type = t_1 + t_2\n",
    "                if type == \"LineStringLineString\" and random.randint(0, 100) != 0:\n",
    "                    continue\n",
    "                \n",
    "                added += 1\n",
    "                if added >= MAX_ONE_SHAPE:\n",
    "                    continue\n",
    "                intersects = shp_1.intersects(shp_2)\n",
    "                intersections += [[type, shapely.to_wkb(shp_1), shapely.to_wkb(shp_2), str(intersects)]]\n",
    "                if intersects:\n",
    "                    nbr_intersects += 1\n",
    "                    vertices[0].append(shapely.get_num_coordinates(shp_1))\n",
    "                    vertices[0].append(shapely.get_num_coordinates(shp_2))\n",
    "                else:\n",
    "                    nbr_false += 1\n",
    "                    vertices[1].append(shapely.get_num_coordinates(shp_1))\n",
    "                    vertices[1].append(shapely.get_num_coordinates(shp_2))\n",
    "                if PRINT_AND_DRAW:\n",
    "                    print(type, intersects)\n",
    "                    plot_geometry(shp_1)\n",
    "                    plot_geometry(shp_2)\n",
    "                    plt.show()\n",
    "\n",
    "\n",
    "#append_data_set(\"QGIS/Intersection_Tricky_Cases.shp\", intersections, PRINT_AND_DRAW=False)\n",
    "#append_data_set(\"data/lund_building_highway.json\", intersections, False)\n",
    "#append_data_set(\"data/world.json\", intersections, False)\n",
    "#append_data_set(\"data/china-latest-free/gis_osm_water_a_free_1.shp\", intersections, False)\n",
    "append_data_set(\"data/sweden-latest-free\", intersections, False)\n",
    "#append_data_set(\"QGIS/Report_Visualizations.shp\", intersections, PRINT_AND_DRAW=False)\n",
    "#append_data_set(\"data/final_country_borders.shp\", intersections, PRINT_AND_DRAW=False)\n",
    "#print(f\"Total number intersects: {nbr_intersects}, false: {nbr_false}\")\n",
    "#print(f\"Avg vertex count true: {np.average(vertices[0])}, false: {np.average(vertices[1])}\")\n",
    "random.shuffle(intersections)\n",
    "\n",
    "# f = open(\"data/intersection/latest_export.json\", \"w\")\n",
    "# f.write(json.dumps(intersections))\n",
    "# f.close()\n",
    "with open(\"data/intersection/latest_export.pkl\", 'wb') as f:\n",
    "    pickle.dump(intersections, f)"
   ]
  }
 ],
 "metadata": {
  "kernelspec": {
   "display_name": "base",
   "language": "python",
   "name": "python3"
  },
  "language_info": {
   "codemirror_mode": {
    "name": "ipython",
    "version": 3
   },
   "file_extension": ".py",
   "mimetype": "text/x-python",
   "name": "python",
   "nbconvert_exporter": "python",
   "pygments_lexer": "ipython3",
   "version": "3.9.13"
  },
  "orig_nbformat": 4,
  "vscode": {
   "interpreter": {
    "hash": "40d3a090f54c6569ab1632332b64b2c03c39dcf918b08424e98f38b5ae0af88f"
   }
  }
 },
 "nbformat": 4,
 "nbformat_minor": 2
}
