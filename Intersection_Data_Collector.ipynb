{
 "cells": [
  {
   "cell_type": "code",
   "execution_count": 23,
   "metadata": {},
   "outputs": [
    {
     "name": "stdout",
     "output_type": "stream",
     "text": [
      "   type_left                                           geometry  index_right  \\\n",
      "0        NaN  POLYGON ((-58.20011 -32.44713, -58.20012 -32.4...         1725   \n",
      "0        NaN  POLYGON ((-58.20011 -32.44713, -58.20012 -32.4...            1   \n",
      "0        NaN  POLYGON ((-58.20011 -32.44713, -58.20012 -32.4...         1647   \n",
      "0        NaN  POLYGON ((-58.20011 -32.44713, -58.20012 -32.4...         3851   \n",
      "0        NaN  POLYGON ((-58.20011 -32.44713, -58.20012 -32.4...          104   \n",
      "\n",
      "   type_right  \n",
      "0         NaN  \n",
      "0         NaN  \n",
      "0         NaN  \n",
      "0         NaN  \n",
      "0         NaN  \n",
      "type_left                                                    NaN\n",
      "geometry       POLYGON ((-58.200111852217844 -32.447129912359...\n",
      "index_right                                                 1725\n",
      "type_right                                                   NaN\n",
      "Name: 0, dtype: object\n"
     ]
    },
    {
     "ename": "AttributeError",
     "evalue": "'Series' object has no attribute 'idx'",
     "output_type": "error",
     "traceback": [
      "\u001b[0;31m---------------------------------------------------------------------------\u001b[0m",
      "\u001b[0;31mAttributeError\u001b[0m                            Traceback (most recent call last)",
      "\u001b[0;32m/var/folders/ds/y4dj2v9s35v24dtls2t60q7m0000gn/T/ipykernel_88442/326098465.py\u001b[0m in \u001b[0;36m<module>\u001b[0;34m\u001b[0m\n\u001b[1;32m     71\u001b[0m \u001b[0;31m#append_data_set(\"QGIS/Intersection_Tricky_Cases.shp\", intersections, PRINT_AND_DRAW=True, GPD_SPATIAL_JOIN=True)\u001b[0m\u001b[0;34m\u001b[0m\u001b[0;34m\u001b[0m\u001b[0m\n\u001b[1;32m     72\u001b[0m \u001b[0;31m#append_data_set(\"data/lund_building_highway.json\", intersections, False, GPD_SPATIAL_JOIN=True)\u001b[0m\u001b[0;34m\u001b[0m\u001b[0;34m\u001b[0m\u001b[0m\n\u001b[0;32m---> 73\u001b[0;31m \u001b[0mappend_data_set\u001b[0m\u001b[0;34m(\u001b[0m\u001b[0;34m\"data/world.json\"\u001b[0m\u001b[0;34m,\u001b[0m \u001b[0mintersections\u001b[0m\u001b[0;34m,\u001b[0m \u001b[0;32mFalse\u001b[0m\u001b[0;34m,\u001b[0m \u001b[0mGPD_SPATIAL_JOIN\u001b[0m\u001b[0;34m=\u001b[0m\u001b[0;32mTrue\u001b[0m\u001b[0;34m)\u001b[0m\u001b[0;34m\u001b[0m\u001b[0;34m\u001b[0m\u001b[0m\n\u001b[0m\u001b[1;32m     74\u001b[0m \u001b[0;34m\u001b[0m\u001b[0m\n\u001b[1;32m     75\u001b[0m \u001b[0mf\u001b[0m \u001b[0;34m=\u001b[0m \u001b[0mopen\u001b[0m\u001b[0;34m(\u001b[0m\u001b[0;34m\"data/intersection/latest_export.json\"\u001b[0m\u001b[0;34m,\u001b[0m \u001b[0;34m\"w\"\u001b[0m\u001b[0;34m)\u001b[0m\u001b[0;34m\u001b[0m\u001b[0;34m\u001b[0m\u001b[0m\n",
      "\u001b[0;32m/var/folders/ds/y4dj2v9s35v24dtls2t60q7m0000gn/T/ipykernel_88442/326098465.py\u001b[0m in \u001b[0;36mappend_data_set\u001b[0;34m(file_name, intersections, PRINT_AND_DRAW, GPD_SPATIAL_JOIN)\u001b[0m\n\u001b[1;32m     20\u001b[0m \u001b[0;34m\u001b[0m\u001b[0m\n\u001b[1;32m     21\u001b[0m             \u001b[0;31m# Plotting the left shape\u001b[0m\u001b[0;34m\u001b[0m\u001b[0;34m\u001b[0m\u001b[0m\n\u001b[0;32m---> 22\u001b[0;31m             \u001b[0mleft_shape\u001b[0m \u001b[0;34m=\u001b[0m \u001b[0mdata\u001b[0m\u001b[0;34m[\u001b[0m\u001b[0mdata\u001b[0m\u001b[0;34m.\u001b[0m\u001b[0mindex\u001b[0m \u001b[0;34m==\u001b[0m \u001b[0mshape\u001b[0m\u001b[0;34m.\u001b[0m\u001b[0midx\u001b[0m\u001b[0;34m]\u001b[0m\u001b[0;34m\u001b[0m\u001b[0;34m\u001b[0m\u001b[0m\n\u001b[0m\u001b[1;32m     23\u001b[0m             \u001b[0mleft_shape\u001b[0m\u001b[0;34m.\u001b[0m\u001b[0mplot\u001b[0m\u001b[0;34m(\u001b[0m\u001b[0max\u001b[0m\u001b[0;34m=\u001b[0m\u001b[0max\u001b[0m\u001b[0;34m,\u001b[0m \u001b[0mcolor\u001b[0m\u001b[0;34m=\u001b[0m\u001b[0;34m'blue'\u001b[0m\u001b[0;34m,\u001b[0m \u001b[0malpha\u001b[0m\u001b[0;34m=\u001b[0m\u001b[0;36m0.5\u001b[0m\u001b[0;34m)\u001b[0m\u001b[0;34m\u001b[0m\u001b[0;34m\u001b[0m\u001b[0m\n\u001b[1;32m     24\u001b[0m \u001b[0;34m\u001b[0m\u001b[0m\n",
      "\u001b[0;32m/opt/anaconda3/lib/python3.9/site-packages/pandas/core/generic.py\u001b[0m in \u001b[0;36m__getattr__\u001b[0;34m(self, name)\u001b[0m\n\u001b[1;32m   5900\u001b[0m         ):\n\u001b[1;32m   5901\u001b[0m             \u001b[0;32mreturn\u001b[0m \u001b[0mself\u001b[0m\u001b[0;34m[\u001b[0m\u001b[0mname\u001b[0m\u001b[0;34m]\u001b[0m\u001b[0;34m\u001b[0m\u001b[0;34m\u001b[0m\u001b[0m\n\u001b[0;32m-> 5902\u001b[0;31m         \u001b[0;32mreturn\u001b[0m \u001b[0mobject\u001b[0m\u001b[0;34m.\u001b[0m\u001b[0m__getattribute__\u001b[0m\u001b[0;34m(\u001b[0m\u001b[0mself\u001b[0m\u001b[0;34m,\u001b[0m \u001b[0mname\u001b[0m\u001b[0;34m)\u001b[0m\u001b[0;34m\u001b[0m\u001b[0;34m\u001b[0m\u001b[0m\n\u001b[0m\u001b[1;32m   5903\u001b[0m \u001b[0;34m\u001b[0m\u001b[0m\n\u001b[1;32m   5904\u001b[0m     \u001b[0;32mdef\u001b[0m \u001b[0m__setattr__\u001b[0m\u001b[0;34m(\u001b[0m\u001b[0mself\u001b[0m\u001b[0;34m,\u001b[0m \u001b[0mname\u001b[0m\u001b[0;34m:\u001b[0m \u001b[0mstr\u001b[0m\u001b[0;34m,\u001b[0m \u001b[0mvalue\u001b[0m\u001b[0;34m)\u001b[0m \u001b[0;34m->\u001b[0m \u001b[0;32mNone\u001b[0m\u001b[0;34m:\u001b[0m\u001b[0;34m\u001b[0m\u001b[0;34m\u001b[0m\u001b[0m\n",
      "\u001b[0;31mAttributeError\u001b[0m: 'Series' object has no attribute 'idx'"
     ]
    },
    {
     "data": {
      "image/png": "[encoded data removed]",
      "text/plain": [
       "<Figure size 1000x1000 with 1 Axes>"
      ]
     },
     "metadata": {},
     "output_type": "display_data"
    }
   ],
   "source": [
    "import bench_utils\n",
    "import shapely\n",
    "from shapely.geometry import shape\n",
    "from tqdm import tqdm\n",
    "from intersection.plotting import *\n",
    "import matplotlib.pyplot as plt\n",
    "import json\n",
    "\n",
    "intersections = []\n",
    "\n",
    "def append_data_set(file_name, intersections, PRINT_AND_DRAW=True):\n",
    "    df, _ = bench_utils.read_dataset(file_name)\n",
    "    shp_cnt = len(df)\n",
    "\n",
    "    for i in tqdm(range(shp_cnt), disable=True):\n",
    "        shp_1 = shape(df.iloc[i])\n",
    "        x_l_1, y_b_1, x_r_1, y_t_1 = shapely.bounds(shp_1)\n",
    "        for j in range(i + 1, shp_cnt):\n",
    "            \n",
    "            shp_2 = shape(df.iloc[j])\n",
    "            x_l_2, y_b_2, x_r_2, y_t_2 = shapely.bounds(shp_2)\n",
    "\n",
    "            bbox = [max(x_l_1, x_l_2), max(y_b_1, y_b_2), min(x_r_1, x_r_2), min(y_t_1, y_t_2)]\n",
    "            x_l, y_b, x_r, y_t = bbox\n",
    "            if x_r < x_l or y_t < y_b:\n",
    "                continue\n",
    "\n",
    "            types = [shp_1.geom_type, shp_2.geom_type]\n",
    "            types.sort()\n",
    "            t_1, t_2 = types\n",
    "            type = t_1 + t_2\n",
    "            if type == \"LineStringLineString\" and random.randint(0, 100) != 0:\n",
    "                continue\n",
    "            \n",
    "            intersects = shapely.intersects(shp_1, shp_2)\n",
    "            intersections += [type, shapely.to_wkt(shp_1, rounding_precision=-1), shapely.to_wkt(shp_2, rounding_precision=-1), str(intersects)]\n",
    "\n",
    "            if PRINT_AND_DRAW:\n",
    "                print(type, intersects)\n",
    "                plot_geometry(shp_1)\n",
    "                plot_geometry(shp_2)\n",
    "                plt.show()\n",
    "\n",
    "\n",
    "#append_data_set(\"QGIS/Intersection_Tricky_Cases.shp\", intersections, PRINT_AND_DRAW=True)\n",
    "append_data_set(\"data/lund_building_highway.json\", intersections, False)\n",
    "#append_data_set(\"data/world.json\", intersections, False)\n",
    "\n",
    "f = open(\"data/intersection/latest_export.json\", \"w\")\n",
    "f.write(json.dumps(intersections))\n",
    "f.close()\n",
    "\n",
    "#print(intersections)"
   ]
  }
 ],
 "metadata": {
  "kernelspec": {
   "display_name": "base",
   "language": "python",
   "name": "python3"
  },
  "language_info": {
   "codemirror_mode": {
    "name": "ipython",
    "version": 3
   },
   "file_extension": ".py",
   "mimetype": "text/x-python",
   "name": "python",
   "nbconvert_exporter": "python",
   "pygments_lexer": "ipython3",
   "version": "3.9.13"
  },
  "orig_nbformat": 4,
  "vscode": {
   "interpreter": {
    "hash": "40d3a090f54c6569ab1632332b64b2c03c39dcf918b08424e98f38b5ae0af88f"
   }
  }
 },
 "nbformat": 4,
 "nbformat_minor": 2
}
