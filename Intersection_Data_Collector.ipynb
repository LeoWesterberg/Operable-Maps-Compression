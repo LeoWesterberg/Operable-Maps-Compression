{
 "cells": [
  {
   "cell_type": "code",
   "execution_count": 1,
   "metadata": {},
   "outputs": [
    {
     "ename": "TypeError",
     "evalue": "append_data_set() missing 1 required positional argument: 'intersections'",
     "output_type": "error",
     "traceback": [
      "\u001b[0;31m---------------------------------------------------------------------------\u001b[0m",
      "\u001b[0;31mTypeError\u001b[0m                                 Traceback (most recent call last)",
      "Cell \u001b[0;32mIn[1], line 45\u001b[0m\n\u001b[1;32m     40\u001b[0m                 plot_geometry(shp_2)\n\u001b[1;32m     41\u001b[0m                 plt\u001b[39m.\u001b[39mshow()\n\u001b[0;32m---> 45\u001b[0m append_data_set(\u001b[39m\"\u001b[39;49m\u001b[39mlund_building_highway\u001b[39;49m\u001b[39m\"\u001b[39;49m)\n\u001b[1;32m     46\u001b[0m \u001b[39m#append_data_set(\"world\", intersections, False)\u001b[39;00m\n\u001b[1;32m     48\u001b[0m f \u001b[39m=\u001b[39m \u001b[39mopen\u001b[39m(\u001b[39m\"\u001b[39m\u001b[39mdata/intersection/latest_export\u001b[39m\u001b[39m\"\u001b[39m, \u001b[39m\"\u001b[39m\u001b[39mw\u001b[39m\u001b[39m\"\u001b[39m)\n",
      "\u001b[0;31mTypeError\u001b[0m: append_data_set() missing 1 required positional argument: 'intersections'"
     ]
    }
   ],
   "source": [
    "import bench_utils\n",
    "import shapely\n",
    "from shapely.geometry import shape\n",
    "from tqdm import tqdm\n",
    "from intersection.plotting import *\n",
    "import matplotlib.pyplot as plt\n",
    "\n",
    "intersections = []\n",
    "\n",
    "def append_data_set(file_name, intersections, PRINT_AND_DRAW=True):\n",
    "    df, _ = bench_utils.read_dataset(f\"data/{file_name}.json\")\n",
    "    shp_cnt = len(df)\n",
    "\n",
    "    for i in tqdm(range(shp_cnt)):\n",
    "        shp_1 = shape(df.iloc[i])\n",
    "        x_l_1, y_b_1, x_r_1, y_t_1 = shapely.bounds(shp_1)\n",
    "        for j in range(i + 1, shp_cnt):\n",
    "            \n",
    "            shp_2 = shape(df.iloc[j])\n",
    "            x_l_2, y_b_2, x_r_2, y_t_2 = shapely.bounds(shp_2)\n",
    "\n",
    "            bbox = [max(x_l_1, x_l_2), max(y_b_1, y_b_2), min(x_r_1, x_r_2), min(y_t_1, y_t_2)]\n",
    "            x_l, y_b, x_r, y_t = bbox\n",
    "            if x_r < x_l or y_t < y_b:\n",
    "                continue\n",
    "\n",
    "            types = [shp_1.geom_type, shp_2.geom_type]\n",
    "            types.sort()\n",
    "            t_1, t_2 = types\n",
    "            type = t_1 + t_2\n",
    "            if type == \"LineStringLineString\" and random.randint(0, 100) != 0:\n",
    "                continue\n",
    "            \n",
    "            intersects = shapely.intersects(shp_1, shp_2)\n",
    "            intersections += [type, shapely.to_wkt(shp_1), shapely.to_wkt(shp_2), intersects]\n",
    "\n",
    "            if PRINT_AND_DRAW:\n",
    "                print(type, intersects)\n",
    "                plot_geometry(shp_1)\n",
    "                plot_geometry(shp_2)\n",
    "                plt.show()\n",
    "\n",
    "\n",
    "\n",
    "append_data_set(\"lund_building_highway\", intersections, False)\n",
    "#append_data_set(\"world\", intersections, False)\n",
    "\n",
    "f = open(\"data/intersection/latest_export\", \"w\")\n",
    "f.write(str(intersections))\n",
    "f.close()\n",
    "\n",
    "#print(intersections)"
   ]
  }
 ],
 "metadata": {
  "kernelspec": {
   "display_name": "base",
   "language": "python",
   "name": "python3"
  },
  "language_info": {
   "codemirror_mode": {
    "name": "ipython",
    "version": 3
   },
   "file_extension": ".py",
   "mimetype": "text/x-python",
   "name": "python",
   "nbconvert_exporter": "python",
   "pygments_lexer": "ipython3",
   "version": "3.11.0"
  },
  "orig_nbformat": 4,
  "vscode": {
   "interpreter": {
    "hash": "40d3a090f54c6569ab1632332b64b2c03c39dcf918b08424e98f38b5ae0af88f"
   }
  }
 },
 "nbformat": 4,
 "nbformat_minor": 2
}
