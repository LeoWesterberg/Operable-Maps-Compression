{
 "cells": [
  {
   "cell_type": "code",
   "execution_count": 49,
   "metadata": {},
   "outputs": [
    {
     "name": "stderr",
     "output_type": "stream",
     "text": [
      "100%|██████████| 101841/101841 [17:25<00:00, 97.45it/s] \n"
     ]
    }
   ],
   "source": [
    "import bench_utils\n",
    "import shapely\n",
    "from shapely.geometry import shape\n",
    "from tqdm import tqdm\n",
    "from intersection.plotting import *\n",
    "import matplotlib.pyplot as plt\n",
    "import json\n",
    "import geopandas as gpd\n",
    "\n",
    "intersections = []\n",
    "\n",
    "def append_data_set(file_name, intersections, PRINT_AND_DRAW=True):\n",
    "    #df, _ = bench_utils.read_dataset(file_name)\n",
    "    df = gpd.read_file(file_name)\n",
    "    shp_cnt = len(df)\n",
    "\n",
    "    for i in tqdm(range(shp_cnt), disable=False):\n",
    "        #shp_1 = shape(df.iloc[i])\n",
    "        shp_1 = df.iloc[i].geometry\n",
    "        x_l_1, y_b_1, x_r_1, y_t_1 = shp_1.bounds\n",
    "        from shapely.geometry import box\n",
    "        shapes_within_bbox = df[df.geometry.intersects(box(x_l_1, y_b_1, x_r_1, y_t_1))].geometry\n",
    "        for shp_2 in shapes_within_bbox:\n",
    "            x_l_2, y_b_2, x_r_2, y_t_2 = shp_2.bounds\n",
    "            bbox = [max(x_l_1, x_l_2), max(y_b_1, y_b_2), min(x_r_1, x_r_2), min(y_t_1, y_t_2)]\n",
    "            x_l, y_b, x_r, y_t = bbox\n",
    "            if x_r < x_l or y_t < y_b:\n",
    "                continue\n",
    "\n",
    "            types = [shp_1.geom_type, shp_2.geom_type]\n",
    "            types.sort()\n",
    "            t_1, t_2 = types\n",
    "            type = t_1 + t_2\n",
    "            if type == \"LineStringLineString\" and random.randint(0, 100) != 0:\n",
    "                continue\n",
    "            \n",
    "            intersects = shp_1.intersects(shp_2)\n",
    "            intersections += [type, shapely.to_wkt(shp_1, rounding_precision=-1), shapely.to_wkt(shp_2, rounding_precision=-1), str(intersects)]\n",
    "\n",
    "            if PRINT_AND_DRAW:\n",
    "                print(type, intersects)\n",
    "                plot_geometry(shp_1)\n",
    "                plot_geometry(shp_2)\n",
    "                plt.show()\n",
    "\n",
    "\n",
    "#append_data_set(\"QGIS/Intersection_Tricky_Cases.shp\", intersections, PRINT_AND_DRAW=True)\n",
    "#append_data_set(\"data/lund_building_highway.json\", intersections, False)\n",
    "#append_data_set(\"data/world.json\", intersections, False)\n",
    "append_data_set(\"data/nord-est-latest-free/gis_osm_waterways_free_1.shp\", intersections, False)\n",
    "\n",
    "f = open(\"data/intersection/latest_export.json\", \"w\")\n",
    "f.write(json.dumps(intersections))\n",
    "f.close()\n",
    "\n",
    "#print(intersections)"
   ]
  }
 ],
 "metadata": {
  "kernelspec": {
   "display_name": "base",
   "language": "python",
   "name": "python3"
  },
  "language_info": {
   "codemirror_mode": {
    "name": "ipython",
    "version": 3
   },
   "file_extension": ".py",
   "mimetype": "text/x-python",
   "name": "python",
   "nbconvert_exporter": "python",
   "pygments_lexer": "ipython3",
   "version": "3.9.13"
  },
  "orig_nbformat": 4,
  "vscode": {
   "interpreter": {
    "hash": "40d3a090f54c6569ab1632332b64b2c03c39dcf918b08424e98f38b5ae0af88f"
   }
  }
 },
 "nbformat": 4,
 "nbformat_minor": 2
}
