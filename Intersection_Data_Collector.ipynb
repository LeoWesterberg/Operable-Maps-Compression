{
 "cells": [
  {
   "cell_type": "code",
   "execution_count": 4,
   "metadata": {},
   "outputs": [
    {
     "name": "stderr",
     "output_type": "stream",
     "text": [
      "  0%|          | 0/100000 [00:26<?, ?it/s, iteration=10781]\n"
     ]
    },
    {
     "ename": "FileNotFoundError",
     "evalue": "[Errno 2] No such file or directory: 'data/intersection/latest_export.pkl'",
     "output_type": "error",
     "traceback": [
      "\u001b[0;31m---------------------------------------------------------------------------\u001b[0m",
      "\u001b[0;31mFileNotFoundError\u001b[0m                         Traceback (most recent call last)",
      "\u001b[0;32m/var/folders/ds/y4dj2v9s35v24dtls2t60q7m0000gn/T/ipykernel_62393/3514318987.py\u001b[0m in \u001b[0;36m<module>\u001b[0;34m\u001b[0m\n\u001b[1;32m     94\u001b[0m \u001b[0;31m# f.write(json.dumps(intersections))\u001b[0m\u001b[0;34m\u001b[0m\u001b[0;34m\u001b[0m\u001b[0m\n\u001b[1;32m     95\u001b[0m \u001b[0;31m# f.close()\u001b[0m\u001b[0;34m\u001b[0m\u001b[0;34m\u001b[0m\u001b[0m\n\u001b[0;32m---> 96\u001b[0;31m \u001b[0;32mwith\u001b[0m \u001b[0mopen\u001b[0m\u001b[0;34m(\u001b[0m\u001b[0;34m\"data/intersection/latest_export.pkl\"\u001b[0m\u001b[0;34m)\u001b[0m \u001b[0;32mas\u001b[0m \u001b[0mf\u001b[0m\u001b[0;34m:\u001b[0m\u001b[0;34m\u001b[0m\u001b[0;34m\u001b[0m\u001b[0m\n\u001b[0m\u001b[1;32m     97\u001b[0m     \u001b[0mpickle\u001b[0m\u001b[0;34m.\u001b[0m\u001b[0mdump\u001b[0m\u001b[0;34m(\u001b[0m\u001b[0mintersections\u001b[0m\u001b[0;34m,\u001b[0m \u001b[0mf\u001b[0m\u001b[0;34m)\u001b[0m\u001b[0;34m\u001b[0m\u001b[0;34m\u001b[0m\u001b[0m\n",
      "\u001b[0;31mFileNotFoundError\u001b[0m: [Errno 2] No such file or directory: 'data/intersection/latest_export.pkl'"
     ]
    }
   ],
   "source": [
    "import bench_utils\n",
    "import shapely\n",
    "from shapely.geometry import shape\n",
    "from tqdm import tqdm\n",
    "from intersection.plotting import *\n",
    "import matplotlib.pyplot as plt\n",
    "import json\n",
    "import geopandas as gpd\n",
    "import pickle\n",
    "\n",
    "MAX_INTERSECTIONS = 100000\n",
    "MAX_ONE_SHAPE = 5\n",
    "\n",
    "intersections = []\n",
    "nbr_intersects = 0\n",
    "nbr_false = 0\n",
    "vertices = [[], []]\n",
    "\n",
    "def append_data_set(file_name, intersections, PRINT_AND_DRAW=True):\n",
    "    global nbr_intersects\n",
    "    global nbr_false\n",
    "    #df, _ = bench_utils.read_dataset(file_name)\n",
    "    if file_name.endswith(\".shp\"):\n",
    "        df = gpd.read_file(file_name)\n",
    "    else:\n",
    "        df, _ = bench_utils.load_shp_files(file_name)\n",
    "\n",
    "    df =  df.sample(frac=1)\n",
    "    # Add an index row\n",
    "    df = df.reset_index()\n",
    "    shp_cnt = len(df)\n",
    "\n",
    "    with tqdm(total=MAX_INTERSECTIONS) as pbar:\n",
    "        for i in tqdm(range(shp_cnt), disable=True):\n",
    "            pbar.set_postfix(iteration=len(intersections))\n",
    "            if len(intersections) >= MAX_INTERSECTIONS: \n",
    "                break\n",
    "            #shp_1 = shape(df.iloc[i])\n",
    "            shp_1 = df.iloc[i].geometry\n",
    "            x_l_1, y_b_1, x_r_1, y_t_1 = shp_1.bounds\n",
    "            from shapely.geometry import box\n",
    "            shapes_within_bbox = df[df.geometry.intersects(box(x_l_1, y_b_1, x_r_1, y_t_1))]\n",
    "            #shapes_within_bbox = df\n",
    "            added = 0\n",
    "            for r, shp_2_row in shapes_within_bbox.iterrows():\n",
    "                shp_2 = shp_2_row.geometry\n",
    "                if df.iloc[i]['index'] <= shp_2_row['index']:\n",
    "                    continue\n",
    "                x_l_2, y_b_2, x_r_2, y_t_2 = shp_2.bounds\n",
    "                bbox = [max(x_l_1, x_l_2), max(y_b_1, y_b_2), min(x_r_1, x_r_2), min(y_t_1, y_t_2)]\n",
    "                x_l, y_b, x_r, y_t = bbox\n",
    "                if x_r < x_l or y_t < y_b:\n",
    "                    continue\n",
    "\n",
    "                types = [shp_1.geom_type, shp_2.geom_type]\n",
    "                types.sort()\n",
    "                t_1, t_2 = types\n",
    "                type = t_1 + t_2\n",
    "                if type == \"LineStringLineString\" and random.randint(0, 100) != 0:\n",
    "                    continue\n",
    "                \n",
    "                added += 1\n",
    "                if added >= MAX_ONE_SHAPE:\n",
    "                    continue\n",
    "                intersects = shp_1.intersects(shp_2)\n",
    "                intersections += [[type, shapely.to_wkb(shp_1), shapely.to_wkb(shp_2), str(intersects)]]\n",
    "                if intersects:\n",
    "                    nbr_intersects += 1\n",
    "                    vertices[0].append(shapely.get_num_coordinates(shp_1))\n",
    "                    vertices[0].append(shapely.get_num_coordinates(shp_2))\n",
    "                else:\n",
    "                    nbr_false += 1\n",
    "                    vertices[1].append(shapely.get_num_coordinates(shp_1))\n",
    "                    vertices[1].append(shapely.get_num_coordinates(shp_2))\n",
    "                if PRINT_AND_DRAW:\n",
    "                    print(type, intersects)\n",
    "                    plot_geometry(shp_1)\n",
    "                    plot_geometry(shp_2)\n",
    "                    plt.show()\n",
    "\n",
    "\n",
    "#append_data_set(\"QGIS/Intersection_Tricky_Cases.shp\", intersections, PRINT_AND_DRAW=False)\n",
    "#append_data_set(\"data/lund_building_highway.json\", intersections, False)\n",
    "#append_data_set(\"data/world.json\", intersections, False)\n",
    "#append_data_set(\"data/china-latest-free/gis_osm_water_a_free_1.shp\", intersections, False)\n",
    "#append_data_set(\"data/sweden-latest-free\", intersections, False)\n",
    "#append_data_set(\"QGIS/Report_Visualizations.shp\", intersections, PRINT_AND_DRAW=False)\n",
    "append_data_set(\"data/final_country_borders.shp\", intersections, PRINT_AND_DRAW=False)\n",
    "#print(f\"Total number intersects: {nbr_intersects}, false: {nbr_false}\")\n",
    "#print(f\"Avg vertex count true: {np.average(vertices[0])}, false: {np.average(vertices[1])}\")\n",
    "random.shuffle(intersections)\n",
    "\n",
    "# f = open(\"data/intersection/latest_export.json\", \"w\")\n",
    "# f.write(json.dumps(intersections))\n",
    "# f.close()\n",
    "with open(\"data/intersection/latest_export.pkl\", , 'wb') as f:\n",
    "    pickle.dump(intersections, f)"
   ]
  }
 ],
 "metadata": {
  "kernelspec": {
   "display_name": "base",
   "language": "python",
   "name": "python3"
  },
  "language_info": {
   "codemirror_mode": {
    "name": "ipython",
    "version": 3
   },
   "file_extension": ".py",
   "mimetype": "text/x-python",
   "name": "python",
   "nbconvert_exporter": "python",
   "pygments_lexer": "ipython3",
   "version": "3.9.13"
  },
  "orig_nbformat": 4,
  "vscode": {
   "interpreter": {
    "hash": "40d3a090f54c6569ab1632332b64b2c03c39dcf918b08424e98f38b5ae0af88f"
   }
  }
 },
 "nbformat": 4,
 "nbformat_minor": 2
}
