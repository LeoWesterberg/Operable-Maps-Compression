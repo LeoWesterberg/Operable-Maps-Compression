{
 "cells": [
  {
   "attachments": {},
   "cell_type": "markdown",
   "metadata": {},
   "source": [
    "## Investigates the gains for different entropy-coding schemes"
   ]
  },
  {
   "cell_type": "code",
   "execution_count": 1,
   "metadata": {},
   "outputs": [],
   "source": [
    "import bench_utils\n",
    "from algos.alg_fpd_extended import FpdExtended\n",
    "from shapely.geometry import shape\n",
    "from algos.fpd_extended_lib.compress import get_zz_encoded_delta\n",
    "from algos.fpd_extended_lib.decompress import decode_header\n",
    "import matplotlib.pyplot as plt\n",
    "import seaborn as sns\n",
    "import numpy as np\n",
    "fpde = FpdExtended()\n",
    "#%pip install dill\n",
    "import dill as pickle\n",
    "import math\n",
    "from intersection.plotting import xs, ys\n",
    "import numpy as np\n",
    "\n",
    "ENTROPY_BASE_PATH = \"data/entropy_models\""
   ]
  },
  {
   "cell_type": "code",
   "execution_count": 2,
   "metadata": {},
   "outputs": [
    {
     "name": "stdout",
     "output_type": "stream",
     "text": [
      "Number of shapes: 7283780\n",
      "Number of deltas: 186669896\n"
     ]
    }
   ],
   "source": [
    "# Load a bunch of data-sets\n",
    "# chunks[delta_size] - contains a list of chunks, first indexed by the number of bits used per delta\n",
    "\n",
    "\n",
    "from collections import defaultdict\n",
    "from bitarray import bitarray\n",
    "from algos.fpd_extended_lib import cfg\n",
    "import shapely\n",
    "import tqdm\n",
    "\n",
    "shape_cnt = 0\n",
    "dt_to_coord = defaultdict()\n",
    "dt_freq = defaultdict(lambda: defaultdict(int))\n",
    "dt_xs = []\n",
    "dt_ys = []\n",
    "chunks = defaultdict(list)\n",
    "failed = 0\n",
    "\n",
    "def append_deltas(dataset, is_shp_dir=False):\n",
    "    global shape_cnt\n",
    "    global failed\n",
    "    if not is_shp_dir:\n",
    "        df, idxs = bench_utils.read_dataset(dataset)\n",
    "    else:\n",
    "        df, idxs = bench_utils.load_shp_files(dataset)\n",
    "\n",
    "    for idx in tqdm.tqdm(idxs):\n",
    "        shape_cnt += 1\n",
    "        geom = shape(df.iloc[idx]) if not is_shp_dir else df.iloc[idx].geometry\n",
    "        if geom.geom_type not in [\"LineString\", \"Polygon\", \"MultiPolygon\"]:\n",
    "            continue\n",
    "        try: \n",
    "            bin = fpde.compress(geom)[1]\n",
    "            cfg.offset = 0\n",
    "            delta_size, type = decode_header(bin)\n",
    "            chks = fpde.get_chunks(bin, include_ring_start=False)[0]\n",
    "            # Go though deltas\n",
    "            for chk in chks:\n",
    "                chk_dts = []\n",
    "                for i in range(len(chk) - 1):\n",
    "                    dt_x = get_zz_encoded_delta(chk[i][0], chk[i + 1][0])\n",
    "                    dt_y = get_zz_encoded_delta(chk[i][1], chk[i + 1][1])\n",
    "                    dt_to_coord[dt_x] = chk[i + 1][0] - chk[i][0]\n",
    "                    dt_to_coord[dt_y] = chk[i + 1][1] - chk[i][1]\n",
    "                    dt_freq[delta_size][dt_x] += 1\n",
    "                    dt_freq[delta_size][dt_y] += 1\n",
    "                    dt_xs.append(dt_x)\n",
    "                    dt_ys.append(dt_y)\n",
    "                    chk_dts += [dt_x, dt_y]\n",
    "                chunks[delta_size].append(chk_dts)\n",
    "        except:\n",
    "            print(\"Failed one geom!\")\n",
    "            #print(geom)\n",
    "            #return\n",
    "            failed += 1\n",
    "                \n",
    "GENERATE_DATA = False\n",
    "SAVE_DATA = False\n",
    "GENERATE_MODELS = False # Set to False to load stored models\n",
    "SAVE_MODELS = False\n",
    "\n",
    "if GENERATE_DATA:\n",
    "    append_deltas(\"data/sweden-latest-free\", is_shp_dir=True)\n",
    "    append_deltas(\"data/lund_building_highway.json\")\n",
    "    append_deltas(\"data/world_7_dec.json\")\n",
    "    append_deltas(\"data/sweden.json\")\n",
    "\n",
    "    if SAVE_DATA:\n",
    "        with open('data/delta_freqs.pkl', 'wb') as f:\n",
    "            pickle.dump([shape_cnt, dt_to_coord, dt_freq, dt_xs, dt_ys, chunks], f)\n",
    "    print(\"Failed:\", failed)\n",
    "else:\n",
    "    with open('data/delta_freqs.pkl', 'rb') as f:\n",
    "        shape_cnt, dt_to_coord, dt_freq, dt_xs, dt_ys, chunks = pickle.load(f)\n",
    "    \n",
    "\n",
    "print(f\"Number of shapes: {shape_cnt}\")\n",
    "print(f\"Number of deltas: {len(dt_xs) + len(dt_ys)}\")"
   ]
  },
  {
   "cell_type": "code",
   "execution_count": 3,
   "metadata": {},
   "outputs": [
    {
     "name": "stdout",
     "output_type": "stream",
     "text": [
      "6.105669550488205\n",
      "8.077080087943052\n"
     ]
    }
   ],
   "source": [
    "dt_freq_sorted = defaultdict(lambda: defaultdict(int))\n",
    "dt_freq_sorted_key = defaultdict(lambda: defaultdict(int))\n",
    "for bit_size in sorted(dt_freq.keys()):\n",
    "    freqs = sorted(dt_freq[bit_size].items(), key=lambda x: -x[1])\n",
    "    dt_freq_sorted[bit_size] = freqs\n",
    "    dt_freq_sorted_key[bit_size] = sorted(dt_freq[bit_size].items(), key=lambda x: x[0])\n",
    "\n",
    "DISP = 12\n",
    "print(dt_freq_sorted[DISP])\n",
    "print(dt_freq_sorted_key[DISP])\n",
    "\n",
    "\n",
    "# merged_dict = {}\n",
    "# for _, dictionary in dt_freq_sorted.items():\n",
    "#     for key, value in dictionary:\n",
    "#         if key in merged_dict:\n",
    "#             merged_dict[key] += value\n",
    "#         else:\n",
    "#            merged_dict[key] = value\n",
    "\n",
    "# tot_sum = 0\n",
    "# for key, value in sorted(merged_dict.items(), key=lambda x: -x[1])[:10]:\n",
    "#     tot_sum += 100 * value / sum(merged_dict.values())\n",
    "# print(tot_sum)\n",
    "\n",
    "# tot_sum = 0\n",
    "# for key, value in sorted(merged_dict.items(), key=lambda x: -x[1])[10:100]:\n",
    "#     tot_sum += 100 * value / sum(merged_dict.values())\n",
    "# print(tot_sum)"
   ]
  },
  {
   "cell_type": "code",
   "execution_count": 5,
   "metadata": {},
   "outputs": [],
   "source": [
    "#sns.kdeplot()\n",
    "\n",
    "HEIGHT = 2\n",
    "WIDTH = 3\n",
    "\n",
    "PLOT = False\n",
    "\n",
    "if PLOT:\n",
    "    tot_dts = len(dt_xs) + len(dt_ys)\n",
    "    fig, axes = plt.subplots(HEIGHT, WIDTH)\n",
    "    cnt_plotted = 0\n",
    "    for idx, bit_size in enumerate(sorted(dt_freq.keys())):\n",
    "        chks = chunks[bit_size]\n",
    "        dts = [item for sublist in chks for item in sublist]\n",
    "        if len(dts)/tot_dts > 0.01 and cnt_plotted < 6:\n",
    "            curr_height, curr_width = cnt_plotted // WIDTH, cnt_plotted % WIDTH\n",
    "            current_axis = axes[curr_height, curr_width]\n",
    "            current_axis.set_title(f\"{bit_size} bits/delta ({round(100 * len(dts)/tot_dts, 1)}%)\", fontsize=10)\n",
    "\n",
    "            #data = list(dt_freq[bit_size].items())\n",
    "\n",
    "            #ax = sns.kdeplot(dts, ax=current_axis)\n",
    "            #ax = sns.scatterplot(x = xs(data), y=ys(data), ax=current_axis, size=0.1)\n",
    "            ax = sns.histplot(dts, ax=current_axis, bins=80, kde=True)\n",
    "            ax.ticklabel_format(style='plain', axis='y')\n",
    "            current_axis.set_xlim(0, max(dts))\n",
    "            current_axis.set(ylabel=None)\n",
    "            cnt_plotted += 1\n",
    "            \n",
    "\n",
    "    fig.supylabel('Count')\n",
    "    fig.supxlabel('Delta Values')\n",
    "    fig.suptitle('Deltas for Different Bit-Lengths')\n",
    "    fig.set_figwidth(WIDTH * 3)\n",
    "    fig.set_figheight(HEIGHT * 3)\n",
    "    plt.ticklabel_format(style='plain', axis='y')\n",
    "    plt.tight_layout()\n",
    "    plt.show()"
   ]
  },
  {
   "cell_type": "code",
   "execution_count": 6,
   "metadata": {},
   "outputs": [],
   "source": [
    "# for i in range(1):\n",
    "#     idx = random.randint(0, len(deltas_fp))\n",
    "#     print(\"---\")\n",
    "#     print(\"Delta in FP and LONG:    \", f'{deltas_fp[idx]:.14f}', '        ', deltas_long[idx])\n",
    "#     print(\"Converting to f32:       \", f'{struct.unpack(\"!f\", struct.pack(\"!f\", deltas_fp[idx]))[0]:.14f}')\n",
    "#     print(\"Required bits:           \", math.ceil(math.log2(deltas_long[idx] + 1)))\n",
    "#     bin = util.int2ba(deltas_long[idx], length=64)\n",
    "#     print(\"ZZ-encoded:              \", end=None)\n",
    "#     util.pprint(bin, width=200)\n",
    "\n",
    "#     bin = bitarray()\n",
    "#     print(\"FP directly to bin:      \", end=None)\n",
    "#     bin.frombytes(struct.pack(\"!d\", deltas_fp[idx]))\n",
    "#     util.pprint(bin, width=200)\n",
    "\n",
    "#     bin = bitarray()\n",
    "#     print(\"FP32 directly to bin:    \", end=None)\n",
    "#     bin.frombytes(struct.pack(\"!f\", deltas_fp[idx]))\n",
    "    \n",
    "#     util.pprint(bin, width=200)"
   ]
  },
  {
   "attachments": {},
   "cell_type": "markdown",
   "metadata": {},
   "source": [
    "## Calculate Entropy"
   ]
  },
  {
   "cell_type": "code",
   "execution_count": 7,
   "metadata": {},
   "outputs": [
    {
     "name": "stdout",
     "output_type": "stream",
     "text": [
      "2 : Bits/delta 1.0\n",
      "3 : Bits/delta 2.8241690761232876\n",
      "4 : Bits/delta 3.8528015921970797\n",
      "5 : Bits/delta 4.7761342341451805\n",
      "6 : Bits/delta 5.834841626385016\n",
      "7 : Bits/delta 6.763260964766167\n",
      "8 : Bits/delta 7.753372352345719\n",
      "9 : Bits/delta 8.70573018084362\n",
      "10 : Bits/delta 9.796967594601513\n",
      "11 : Bits/delta 10.81098386575361\n",
      "12 : Bits/delta 11.52658882613758\n",
      "13 : Bits/delta 12.066797312006731\n",
      "14 : Bits/delta 12.057649347412971\n",
      "15 : Bits/delta 13.129832606099459\n",
      "16 : Bits/delta 14.294805159654274\n",
      "17 : Bits/delta 15.115839471343914\n",
      "18 : Bits/delta 15.614314473377364\n",
      "19 : Bits/delta 13.26743958581936\n",
      "20 : Bits/delta 12.842860027901164\n",
      "21 : Bits/delta 13.323355505646141\n",
      "22 : Bits/delta 13.553094185715523\n",
      "23 : Bits/delta 12.6861006324161\n",
      "24 : Bits/delta 8.680618827332802\n",
      "TOT: Bits/delta (one model): 12.93601926284609 (%, factor): 0.9173626542492038 1.0900814365703921\n",
      "TOT: Bits/delta (model per delta): 12.512843837832728 (%, factor): 0.8873530103846289 1.126947210745973\n",
      "TOT: Average bits/delta no entropy: 14.10131446154553\n"
     ]
    }
   ],
   "source": [
    "total_freq = defaultdict(int)\n",
    "sum_none_size = 0\n",
    "sum_opt_size = 0\n",
    "tot_d_cnt = 0\n",
    "\n",
    "for idx, bit_size in enumerate(sorted(dt_freq.keys())):\n",
    "    entropy = 0\n",
    "    chks = chunks[bit_size]\n",
    "    freq = dt_freq[bit_size]\n",
    "    tot = sum(freq.values())\n",
    "    tot_d_cnt += tot\n",
    "    sum_none_size += bit_size * tot\n",
    "    for i in freq:\n",
    "        total_freq[i] += freq[i]\n",
    "        p_i = freq[i] / tot\n",
    "        entropy += - p_i * np.log2(p_i)\n",
    "    print(bit_size, \": Bits/delta\", entropy)\n",
    "    sum_opt_size += entropy * tot\n",
    "#road building, one more\n",
    "entropy = 0\n",
    "tot = sum(total_freq.values())\n",
    "for i in total_freq:\n",
    "    p_i = total_freq[i] / tot\n",
    "    entropy += - p_i * np.log2(p_i)\n",
    "\n",
    "none_bit_len = sum_none_size/tot_d_cnt\n",
    "per_delta_bit_len = sum_opt_size/tot_d_cnt\n",
    "print(\"TOT: Bits/delta (one model):\", entropy, \"(%, factor):\", entropy/none_bit_len, none_bit_len/entropy)\n",
    "print(\"TOT: Bits/delta (model per delta):\", per_delta_bit_len, \"(%, factor):\", per_delta_bit_len/none_bit_len, none_bit_len/per_delta_bit_len)\n",
    "print(\"TOT: Average bits/delta no entropy:\", none_bit_len)"
   ]
  },
  {
   "attachments": {},
   "cell_type": "markdown",
   "metadata": {},
   "source": [
    "## Encoding Huffman"
   ]
  },
  {
   "cell_type": "code",
   "execution_count": 8,
   "metadata": {},
   "outputs": [],
   "source": [
    "def evaluate_encoder(setup, bit_sizes=[]):\n",
    "    glob_size_coded = 0\n",
    "    glob_size_normal = 0\n",
    "    keys = list(filter(lambda x: x != 0, sorted(dt_freq.keys())))\n",
    "    if len(bit_sizes) != 0:\n",
    "        keys = list(filter(lambda x: x in bit_sizes, keys))\n",
    "    for idx, bit_size in enumerate(keys):\n",
    "        chks = chunks[bit_size]\n",
    "        dts = [item for sublist in chks for item in sublist]\n",
    "        dt_freqs = dict(dt_freq_sorted[bit_size])\n",
    "        get_encoded_size = setup(dt_freqs, chks, dts, bit_size)\n",
    "        \n",
    "        size_coded = 0\n",
    "        size_normal = 0\n",
    "        for chk in tqdm.tqdm(chks):\n",
    "            size_coded += get_encoded_size(chk)\n",
    "            size_normal += len(chk) * bit_size\n",
    "\n",
    "        print(f\"---: {bit_size} : DELTAS {len(dts)} ({len(dts) / len(dt_xs + dt_ys)}) :---\")\n",
    "        print(\"Deltas present:\", len(dt_freqs.keys()) / math.pow(2, bit_size))\n",
    "        print(\"Enc:\", size_coded)\n",
    "        print(\"Nor:\", size_normal)\n",
    "        print(\"Percentage:\", size_coded / size_normal)\n",
    "        print(\"Factor:\", size_normal / size_coded)\n",
    "        print(\"Bit-size:\", bit_size * (size_coded / size_normal))\n",
    "        glob_size_coded += size_coded\n",
    "        glob_size_normal += size_normal\n",
    "\n",
    "\n",
    "    print(f\"\\n---: IN TOTAL :---\")\n",
    "    print(\"Enc:\", glob_size_coded)\n",
    "    print(\"Nor:\", glob_size_normal)\n",
    "    print(\"Percentage:\", glob_size_coded / glob_size_normal)\n",
    "    print(\"Factor:\", glob_size_normal / glob_size_coded)\n",
    "    print(\"Bit-size:\", glob_size_coded / tot_d_cnt)\n",
    "    print(\"Bit-size no coding:\", glob_size_normal / tot_d_cnt)"
   ]
  },
  {
   "cell_type": "code",
   "execution_count": 9,
   "metadata": {},
   "outputs": [
    {
     "name": "stderr",
     "output_type": "stream",
     "text": [
      "  0%|          | 0/1 [00:00<?, ?it/s]\n"
     ]
    },
    {
     "ename": "ValueError",
     "evalue": "symbol not defined in prefix code: 0",
     "output_type": "error",
     "traceback": [
      "\u001b[0;31m---------------------------------------------------------------------------\u001b[0m",
      "\u001b[0;31mValueError\u001b[0m                                Traceback (most recent call last)",
      "\u001b[0;32m/var/folders/ds/y4dj2v9s35v24dtls2t60q7m0000gn/T/ipykernel_53675/3564108707.py\u001b[0m in \u001b[0;36m<module>\u001b[0;34m\u001b[0m\n\u001b[1;32m     30\u001b[0m     \u001b[0;32mreturn\u001b[0m \u001b[0mhuff\u001b[0m\u001b[0;34m\u001b[0m\u001b[0;34m\u001b[0m\u001b[0m\n\u001b[1;32m     31\u001b[0m \u001b[0;34m\u001b[0m\u001b[0m\n\u001b[0;32m---> 32\u001b[0;31m \u001b[0mevaluate_encoder\u001b[0m\u001b[0;34m(\u001b[0m\u001b[0mhuff_setup\u001b[0m\u001b[0;34m)\u001b[0m\u001b[0;34m\u001b[0m\u001b[0;34m\u001b[0m\u001b[0m\n\u001b[0m",
      "\u001b[0;32m/var/folders/ds/y4dj2v9s35v24dtls2t60q7m0000gn/T/ipykernel_53675/2648551257.py\u001b[0m in \u001b[0;36mevaluate_encoder\u001b[0;34m(setup, bit_sizes)\u001b[0m\n\u001b[1;32m     14\u001b[0m         \u001b[0msize_normal\u001b[0m \u001b[0;34m=\u001b[0m \u001b[0;36m0\u001b[0m\u001b[0;34m\u001b[0m\u001b[0;34m\u001b[0m\u001b[0m\n\u001b[1;32m     15\u001b[0m         \u001b[0;32mfor\u001b[0m \u001b[0mchk\u001b[0m \u001b[0;32min\u001b[0m \u001b[0mtqdm\u001b[0m\u001b[0;34m.\u001b[0m\u001b[0mtqdm\u001b[0m\u001b[0;34m(\u001b[0m\u001b[0mchks\u001b[0m\u001b[0;34m)\u001b[0m\u001b[0;34m:\u001b[0m\u001b[0;34m\u001b[0m\u001b[0;34m\u001b[0m\u001b[0m\n\u001b[0;32m---> 16\u001b[0;31m             \u001b[0msize_coded\u001b[0m \u001b[0;34m+=\u001b[0m \u001b[0mget_encoded_size\u001b[0m\u001b[0;34m(\u001b[0m\u001b[0mchk\u001b[0m\u001b[0;34m)\u001b[0m\u001b[0;34m\u001b[0m\u001b[0;34m\u001b[0m\u001b[0m\n\u001b[0m\u001b[1;32m     17\u001b[0m             \u001b[0msize_normal\u001b[0m \u001b[0;34m+=\u001b[0m \u001b[0mlen\u001b[0m\u001b[0;34m(\u001b[0m\u001b[0mchk\u001b[0m\u001b[0;34m)\u001b[0m \u001b[0;34m*\u001b[0m \u001b[0mbit_size\u001b[0m\u001b[0;34m\u001b[0m\u001b[0;34m\u001b[0m\u001b[0m\n\u001b[1;32m     18\u001b[0m \u001b[0;34m\u001b[0m\u001b[0m\n",
      "\u001b[0;32m/var/folders/ds/y4dj2v9s35v24dtls2t60q7m0000gn/T/ipykernel_53675/3564108707.py\u001b[0m in \u001b[0;36mhuff\u001b[0;34m(chk)\u001b[0m\n\u001b[1;32m     20\u001b[0m     \u001b[0;32mdef\u001b[0m \u001b[0mhuff\u001b[0m\u001b[0;34m(\u001b[0m\u001b[0mchk\u001b[0m\u001b[0;34m)\u001b[0m\u001b[0;34m:\u001b[0m\u001b[0;34m\u001b[0m\u001b[0;34m\u001b[0m\u001b[0m\n\u001b[1;32m     21\u001b[0m         \u001b[0mencoded\u001b[0m \u001b[0;34m=\u001b[0m \u001b[0mbitarray\u001b[0m\u001b[0;34m(\u001b[0m\u001b[0;34m)\u001b[0m\u001b[0;34m\u001b[0m\u001b[0;34m\u001b[0m\u001b[0m\n\u001b[0;32m---> 22\u001b[0;31m         \u001b[0mencoded\u001b[0m\u001b[0;34m.\u001b[0m\u001b[0mencode\u001b[0m\u001b[0;34m(\u001b[0m\u001b[0mcodec\u001b[0m\u001b[0;34m,\u001b[0m \u001b[0mchk\u001b[0m\u001b[0;34m)\u001b[0m\u001b[0;34m\u001b[0m\u001b[0;34m\u001b[0m\u001b[0m\n\u001b[0m\u001b[1;32m     23\u001b[0m         \u001b[0mUSE_TOGGLE_BIT\u001b[0m \u001b[0;34m=\u001b[0m \u001b[0;32mFalse\u001b[0m\u001b[0;34m\u001b[0m\u001b[0;34m\u001b[0m\u001b[0m\n\u001b[1;32m     24\u001b[0m         \u001b[0;32mif\u001b[0m \u001b[0mUSE_TOGGLE_BIT\u001b[0m\u001b[0;34m:\u001b[0m\u001b[0;34m\u001b[0m\u001b[0;34m\u001b[0m\u001b[0m\n",
      "\u001b[0;31mValueError\u001b[0m: symbol not defined in prefix code: 0"
     ]
    }
   ],
   "source": [
    "#%pip install dahuffman\n",
    "from dahuffman import HuffmanCodec\n",
    "from bitarray import util\n",
    "\n",
    "'''\n",
    "    Huffman encoding of deltas. Note that this tree does not support missing deltas, hence the implementation\n",
    "    below this cell is used in FPDE.\n",
    "'''\n",
    "def huff_setup(dt_freqs, chks, dts, bit_size):\n",
    "\n",
    "    if GENERATE_MODELS:\n",
    "        codec = util.huffman_code(dt_freqs)\n",
    "        if SAVE_MODELS:\n",
    "            with open(f'{ENTROPY_BASE_PATH}/huff_{bit_size}.pkl', 'wb') as f:\n",
    "                pickle.dump([bit_size, codec], f)\n",
    "    else:\n",
    "        with open(f'{ENTROPY_BASE_PATH}/huff_{bit_size}.pkl', 'rb') as f:\n",
    "            _, codec = pickle.load(f)\n",
    "\n",
    "    def huff(chk):\n",
    "        encoded = bitarray()\n",
    "        encoded.encode(codec, chk)\n",
    "        USE_TOGGLE_BIT = False\n",
    "        if USE_TOGGLE_BIT:\n",
    "            min_size = min(len(encoded), len(chk) * bit_size)\n",
    "            size = min_size + 1\n",
    "        else:\n",
    "            size = len(encoded)\n",
    "        return size\n",
    "    return huff\n",
    "\n",
    "evaluate_encoder(huff_setup)"
   ]
  },
  {
   "attachments": {},
   "cell_type": "markdown",
   "metadata": {},
   "source": [
    "# Huffman for common values, else encode whole delta"
   ]
  },
  {
   "cell_type": "code",
   "execution_count": null,
   "metadata": {},
   "outputs": [
    {
     "name": "stderr",
     "output_type": "stream",
     "text": [
      "100%|██████████| 1/1 [00:00<00:00, 2991.66it/s]\n"
     ]
    },
    {
     "name": "stdout",
     "output_type": "stream",
     "text": [
      "---: 2 : DELTAS 2 (1.0714100360349481e-08) :---\n",
      "Deltas present: 0.5\n",
      "Enc: 6\n",
      "Nor: 4\n",
      "Percentage: 1.5\n",
      "Factor: 0.6666666666666666\n",
      "Bit-size: 3.0\n"
     ]
    },
    {
     "name": "stderr",
     "output_type": "stream",
     "text": [
      "100%|██████████| 26/26 [00:00<00:00, 52835.22it/s]\n"
     ]
    },
    {
     "name": "stdout",
     "output_type": "stream",
     "text": [
      "---: 3 : DELTAS 708 (3.792791527563716e-06) :---\n",
      "Deltas present: 1.0\n",
      "Enc: 2085\n",
      "Nor: 2124\n",
      "Percentage: 0.981638418079096\n",
      "Factor: 1.018705035971223\n",
      "Bit-size: 2.944915254237288\n"
     ]
    },
    {
     "name": "stderr",
     "output_type": "stream",
     "text": [
      "100%|██████████| 14/14 [00:00<00:00, 36838.30it/s]\n"
     ]
    },
    {
     "name": "stdout",
     "output_type": "stream",
     "text": [
      "---: 4 : DELTAS 402 (2.1535341724302454e-06) :---\n",
      "Deltas present: 0.9375\n",
      "Enc: 1568\n",
      "Nor: 1608\n",
      "Percentage: 0.9751243781094527\n",
      "Factor: 1.0255102040816326\n",
      "Bit-size: 3.900497512437811\n"
     ]
    },
    {
     "name": "stderr",
     "output_type": "stream",
     "text": [
      "100%|██████████| 61/61 [00:00<00:00, 105899.23it/s]\n"
     ]
    },
    {
     "name": "stdout",
     "output_type": "stream",
     "text": [
      "---: 5 : DELTAS 1090 (5.839184696390466e-06) :---\n",
      "Deltas present: 1.0\n",
      "Enc: 5258\n",
      "Nor: 5450\n",
      "Percentage: 0.9647706422018348\n",
      "Factor: 1.0365157854697604\n",
      "Bit-size: 4.823853211009174\n"
     ]
    },
    {
     "name": "stderr",
     "output_type": "stream",
     "text": [
      "100%|██████████| 94/94 [00:00<00:00, 85616.63it/s]\n"
     ]
    },
    {
     "name": "stdout",
     "output_type": "stream",
     "text": [
      "---: 6 : DELTAS 2790 (1.4946170002687524e-05) :---\n",
      "Deltas present: 1.0\n",
      "Enc: 16389\n",
      "Nor: 16740\n",
      "Percentage: 0.9790322580645161\n",
      "Factor: 1.0214168039538716\n",
      "Bit-size: 5.874193548387097\n"
     ]
    },
    {
     "name": "stderr",
     "output_type": "stream",
     "text": [
      "100%|██████████| 548/548 [00:00<00:00, 135244.40it/s]\n"
     ]
    },
    {
     "name": "stdout",
     "output_type": "stream",
     "text": [
      "---: 7 : DELTAS 13808 (7.397014888785281e-05) :---\n",
      "Deltas present: 1.0\n",
      "Enc: 93869\n",
      "Nor: 96656\n",
      "Percentage: 0.9711657838106273\n",
      "Factor: 1.0296903130959103\n",
      "Bit-size: 6.798160486674392\n"
     ]
    },
    {
     "name": "stderr",
     "output_type": "stream",
     "text": [
      "100%|██████████| 2992/2992 [00:00<00:00, 214831.08it/s]\n"
     ]
    },
    {
     "name": "stdout",
     "output_type": "stream",
     "text": [
      "---: 8 : DELTAS 46238 (0.00024769928623091965) :---\n",
      "Deltas present: 1.0\n",
      "Enc: 360226\n",
      "Nor: 369904\n",
      "Percentage: 0.9738364548639648\n",
      "Factor: 1.0268664671622814\n",
      "Bit-size: 7.790691638911718\n"
     ]
    },
    {
     "name": "stderr",
     "output_type": "stream",
     "text": [
      "100%|██████████| 14671/14671 [00:00<00:00, 98788.61it/s]\n"
     ]
    },
    {
     "name": "stdout",
     "output_type": "stream",
     "text": [
      "---: 9 : DELTAS 248724 (0.0013324269490137821) :---\n",
      "Deltas present: 1.0\n",
      "Enc: 2171935\n",
      "Nor: 2238516\n",
      "Percentage: 0.970256634305942\n",
      "Factor: 1.0306551531238273\n",
      "Bit-size: 8.732309708753478\n"
     ]
    },
    {
     "name": "stderr",
     "output_type": "stream",
     "text": [
      "100%|██████████| 92453/92453 [00:00<00:00, 223405.95it/s]\n"
     ]
    },
    {
     "name": "stdout",
     "output_type": "stream",
     "text": [
      "---: 10 : DELTAS 986438 (0.0052843978656312105) :---\n",
      "Deltas present: 1.0\n",
      "Enc: 9691861\n",
      "Nor: 9864380\n",
      "Percentage: 0.982510913002135\n",
      "Factor: 1.0178003997374705\n",
      "Bit-size: 9.82510913002135\n"
     ]
    },
    {
     "name": "stderr",
     "output_type": "stream",
     "text": [
      "100%|██████████| 548171/548171 [00:01<00:00, 300683.96it/s]\n"
     ]
    },
    {
     "name": "stdout",
     "output_type": "stream",
     "text": [
      "---: 11 : DELTAS 4574790 (0.024507379593761598) :---\n",
      "Deltas present: 1.0\n",
      "Enc: 49626167\n",
      "Nor: 50322690\n",
      "Percentage: 0.9861588678983576\n",
      "Factor: 1.0140353978980485\n",
      "Bit-size: 10.847747546881934\n"
     ]
    },
    {
     "name": "stderr",
     "output_type": "stream",
     "text": [
      "100%|██████████| 1958601/1958601 [00:07<00:00, 268189.05it/s]\n"
     ]
    },
    {
     "name": "stdout",
     "output_type": "stream",
     "text": [
      "---: 12 : DELTAS 20105598 (0.1077066973884209) :---\n",
      "Deltas present: 1.0\n",
      "Enc: 232318552\n",
      "Nor: 241267176\n",
      "Percentage: 0.9629098986925598\n",
      "Factor: 1.038518766249886\n",
      "Bit-size: 11.554918784310718\n"
     ]
    },
    {
     "name": "stderr",
     "output_type": "stream",
     "text": [
      "100%|██████████| 1925065/1925065 [00:12<00:00, 154662.88it/s]\n"
     ]
    },
    {
     "name": "stdout",
     "output_type": "stream",
     "text": [
      "---: 13 : DELTAS 31481378 (0.1686473216870491) :---\n",
      "Deltas present: 1.0\n",
      "Enc: 380815783\n",
      "Nor: 409257914\n",
      "Percentage: 0.9305031618765471\n",
      "Factor: 1.0746873744988663\n",
      "Bit-size: 12.096541104395113\n"
     ]
    },
    {
     "name": "stderr",
     "output_type": "stream",
     "text": [
      "100%|██████████| 2359579/2359579 [00:21<00:00, 107411.48it/s]\n"
     ]
    },
    {
     "name": "stdout",
     "output_type": "stream",
     "text": [
      "---: 14 : DELTAS 57252170 (0.3067027476138949) :---\n",
      "Deltas present: 1.0\n",
      "Enc: 692111324\n",
      "Nor: 801530380\n",
      "Percentage: 0.8634873253338196\n",
      "Factor: 1.1580945899969122\n",
      "Bit-size: 12.088822554673474\n"
     ]
    },
    {
     "name": "stderr",
     "output_type": "stream",
     "text": [
      "100%|██████████| 1726389/1726389 [00:18<00:00, 94904.12it/s] \n"
     ]
    },
    {
     "name": "stdout",
     "output_type": "stream",
     "text": [
      "---: 15 : DELTAS 48660000 (0.26067406176730284) :---\n",
      "Deltas present: 1.0\n",
      "Enc: 640207796\n",
      "Nor: 729900000\n",
      "Percentage: 0.8771171338539526\n",
      "Factor: 1.1400985813674784\n",
      "Bit-size: 13.15675700780929\n"
     ]
    },
    {
     "name": "stderr",
     "output_type": "stream",
     "text": [
      "100%|██████████| 593105/593105 [00:07<00:00, 84203.60it/s] \n"
     ]
    },
    {
     "name": "stdout",
     "output_type": "stream",
     "text": [
      "---: 16 : DELTAS 17269860 (0.09251550662459254) :---\n",
      "Deltas present: 0.99981689453125\n",
      "Enc: 247585703\n",
      "Nor: 276317760\n",
      "Percentage: 0.896018059063594\n",
      "Factor: 1.1160489343764732\n",
      "Bit-size: 14.336288945017504\n"
     ]
    },
    {
     "name": "stderr",
     "output_type": "stream",
     "text": [
      "100%|██████████| 110811/110811 [00:01<00:00, 83128.16it/s]\n"
     ]
    },
    {
     "name": "stdout",
     "output_type": "stream",
     "text": [
      "---: 17 : DELTAS 3127174 (0.016752428040137764) :---\n",
      "Deltas present: 0.8783111572265625\n",
      "Enc: 48402873\n",
      "Nor: 53161958\n",
      "Percentage: 0.9104795011500517\n",
      "Factor: 1.0983223661124413\n",
      "Bit-size: 15.47815151955088\n"
     ]
    },
    {
     "name": "stderr",
     "output_type": "stream",
     "text": [
      "100%|██████████| 17829/17829 [00:00<00:00, 99976.53it/s] \n"
     ]
    },
    {
     "name": "stdout",
     "output_type": "stream",
     "text": [
      "---: 18 : DELTAS 456188 (0.0024438220075935543) :---\n",
      "Deltas present: 0.3952484130859375\n",
      "Enc: 7447349\n",
      "Nor: 8211384\n",
      "Percentage: 0.9069541748382489\n",
      "Factor: 1.10259153962034\n",
      "Bit-size: 16.32517514708848\n"
     ]
    },
    {
     "name": "stderr",
     "output_type": "stream",
     "text": [
      "100%|██████████| 8554/8554 [00:00<00:00, 131341.66it/s]\n"
     ]
    },
    {
     "name": "stdout",
     "output_type": "stream",
     "text": [
      "---: 19 : DELTAS 199118 (0.0010666851177760339) :---\n",
      "Deltas present: 0.09885787963867188\n",
      "Enc: 2889888\n",
      "Nor: 3783242\n",
      "Percentage: 0.7638654889113623\n",
      "Factor: 1.3091310113056285\n",
      "Bit-size: 14.513444289315883\n"
     ]
    },
    {
     "name": "stderr",
     "output_type": "stream",
     "text": [
      "100%|██████████| 52791/52791 [00:00<00:00, 120818.16it/s]\n"
     ]
    },
    {
     "name": "stdout",
     "output_type": "stream",
     "text": [
      "---: 20 : DELTAS 1353652 (0.007251581690493897) :---\n",
      "Deltas present: 0.08215713500976562\n",
      "Enc: 18656109\n",
      "Nor: 27073040\n",
      "Percentage: 0.6891028491813258\n",
      "Factor: 1.4511621903581289\n",
      "Bit-size: 13.782056983626516\n"
     ]
    },
    {
     "name": "stderr",
     "output_type": "stream",
     "text": [
      "100%|██████████| 27316/27316 [00:00<00:00, 104696.34it/s]\n"
     ]
    },
    {
     "name": "stdout",
     "output_type": "stream",
     "text": [
      "---: 21 : DELTAS 730300 (0.003912253746581613) :---\n",
      "Deltas present: 0.02994537353515625\n",
      "Enc: 10512047\n",
      "Nor: 15336300\n",
      "Percentage: 0.6854356657081565\n",
      "Factor: 1.4589261254254287\n",
      "Bit-size: 14.394148979871286\n"
     ]
    },
    {
     "name": "stderr",
     "output_type": "stream",
     "text": [
      "100%|██████████| 6354/6354 [00:00<00:00, 146961.62it/s]\n"
     ]
    },
    {
     "name": "stdout",
     "output_type": "stream",
     "text": [
      "---: 22 : DELTAS 135286 (0.0007247338906751199) :---\n",
      "Deltas present: 0.007027864456176758\n",
      "Enc: 2104903\n",
      "Nor: 2976292\n",
      "Percentage: 0.7072232831993635\n",
      "Factor: 1.4139805967305856\n",
      "Bit-size: 15.558912230385996\n"
     ]
    },
    {
     "name": "stderr",
     "output_type": "stream",
     "text": [
      "100%|██████████| 721/721 [00:00<00:00, 108944.92it/s]\n"
     ]
    },
    {
     "name": "stdout",
     "output_type": "stream",
     "text": [
      "---: 23 : DELTAS 22982 (0.00012311572724077588) :---\n",
      "Deltas present: 0.0013194084167480469\n",
      "Enc: 421156\n",
      "Nor: 528586\n",
      "Percentage: 0.7967596568959451\n",
      "Factor: 1.2550836269695789\n",
      "Bit-size: 18.325472108606736\n"
     ]
    },
    {
     "name": "stderr",
     "output_type": "stream",
     "text": [
      "100%|██████████| 25/25 [00:00<00:00, 74367.09it/s]\n"
     ]
    },
    {
     "name": "stdout",
     "output_type": "stream",
     "text": [
      "---: 24 : DELTAS 1200 (6.428460216209688e-06) :---\n",
      "Deltas present: 4.589557647705078e-05\n",
      "Enc: 22839\n",
      "Nor: 28800\n",
      "Percentage: 0.7930208333333333\n",
      "Factor: 1.261000919479837\n",
      "Bit-size: 19.0325\n",
      "\n",
      "---: IN TOTAL :---\n",
      "Enc: 2345465686\n",
      "Nor: 2632290904\n",
      "Percentage: 0.8910358966920626\n",
      "Factor: 1.122289240772973\n",
      "Bit-size: 12.56477737577997\n",
      "Bit-size no coding: 14.10131446154553\n"
     ]
    }
   ],
   "source": [
    "#%pip install dahuffman\n",
    "from dahuffman import HuffmanCodec\n",
    "from bitarray import util\n",
    "\n",
    "def huff_setup(dt_freqs, chks, dts, bit_size):\n",
    "\n",
    "    if GENERATE_MODELS:\n",
    "        N = len(dt_freqs.keys())\n",
    "        dt_freqs_stripped = dict(filter(lambda x: x[1] > 3, dt_freqs.items()))\n",
    "        # Append outlier symbol\n",
    "        sum_values = sum(list(dt_freqs_stripped.values()))\n",
    "        dt_freqs_stripped[-1] = sum_values * (1 - len(dt_freqs_stripped) / N) # Estimate probablity based on outliers above\n",
    "        codec = util.huffman_code(dt_freqs_stripped)\n",
    "        if SAVE_MODELS:\n",
    "            with open(f'{ENTROPY_BASE_PATH}/huff_{bit_size}.pkl', 'wb') as f:\n",
    "                pickle.dump([bit_size, codec], f)\n",
    "    else:\n",
    "        with open(f'{ENTROPY_BASE_PATH}/huff_{bit_size}.pkl', 'rb') as f:\n",
    "            _, codec = pickle.load(f)\n",
    "\n",
    "    def huff(chk):\n",
    "        encoded = bitarray()\n",
    "        chk_valid = [x if x in codec.keys() else -1 for x in chk]\n",
    "        outliers = chk_valid.count(-1)\n",
    "        encoded.encode(codec, chk_valid)\n",
    "        size = len(encoded)\n",
    "        return size + outliers * bit_size\n",
    "    return huff\n",
    "\n",
    "evaluate_encoder(huff_setup, bit_sizes=[])"
   ]
  },
  {
   "cell_type": "code",
   "execution_count": null,
   "metadata": {},
   "outputs": [
    {
     "name": "stderr",
     "output_type": "stream",
     "text": [
      "100%|██████████| 1/1 [00:00<00:00, 5645.09it/s]"
     ]
    },
    {
     "name": "stdout",
     "output_type": "stream",
     "text": [
      "---: 2 : DELTAS 2 (1.0714100360349481e-08) :---\n",
      "Deltas present: 0.5\n",
      "Enc: 5\n",
      "Nor: 4\n",
      "Percentage: 1.25\n",
      "Factor: 0.8\n",
      "Bit-size: 2.5\n"
     ]
    },
    {
     "name": "stderr",
     "output_type": "stream",
     "text": [
      "\n",
      "100%|██████████| 26/26 [00:00<00:00, 12936.17it/s]\n"
     ]
    },
    {
     "name": "stdout",
     "output_type": "stream",
     "text": [
      "---: 3 : DELTAS 708 (3.792791527563716e-06) :---\n",
      "Deltas present: 1.0\n",
      "Enc: 2236\n",
      "Nor: 2124\n",
      "Percentage: 1.0527306967984935\n",
      "Factor: 0.9499105545617174\n",
      "Bit-size: 3.1581920903954805\n"
     ]
    },
    {
     "name": "stderr",
     "output_type": "stream",
     "text": [
      "100%|██████████| 14/14 [00:00<00:00, 11493.49it/s]\n"
     ]
    },
    {
     "name": "stdout",
     "output_type": "stream",
     "text": [
      "---: 4 : DELTAS 402 (2.1535341724302454e-06) :---\n",
      "Deltas present: 0.9375\n",
      "Enc: 1743\n",
      "Nor: 1608\n",
      "Percentage: 1.083955223880597\n",
      "Factor: 0.9225473321858864\n",
      "Bit-size: 4.335820895522388\n"
     ]
    },
    {
     "name": "stderr",
     "output_type": "stream",
     "text": [
      "100%|██████████| 61/61 [00:00<00:00, 22197.86it/s]\n"
     ]
    },
    {
     "name": "stdout",
     "output_type": "stream",
     "text": [
      "---: 5 : DELTAS 1090 (5.839184696390466e-06) :---\n",
      "Deltas present: 1.0\n",
      "Enc: 5516\n",
      "Nor: 5450\n",
      "Percentage: 1.0121100917431192\n",
      "Factor: 0.9880348078317621\n",
      "Bit-size: 5.060550458715596\n"
     ]
    },
    {
     "name": "stderr",
     "output_type": "stream",
     "text": [
      "100%|██████████| 94/94 [00:00<00:00, 13587.37it/s]\n"
     ]
    },
    {
     "name": "stdout",
     "output_type": "stream",
     "text": [
      "---: 6 : DELTAS 2790 (1.4946170002687524e-05) :---\n",
      "Deltas present: 1.0\n",
      "Enc: 16945\n",
      "Nor: 16740\n",
      "Percentage: 1.0122461170848267\n",
      "Factor: 0.9879020359988198\n",
      "Bit-size: 6.073476702508961\n"
     ]
    },
    {
     "name": "stderr",
     "output_type": "stream",
     "text": [
      "100%|██████████| 548/548 [00:00<00:00, 17614.89it/s]\n"
     ]
    },
    {
     "name": "stdout",
     "output_type": "stream",
     "text": [
      "---: 7 : DELTAS 13808 (7.397014888785281e-05) :---\n",
      "Deltas present: 1.0\n",
      "Enc: 96925\n",
      "Nor: 96656\n",
      "Percentage: 1.0027830657175965\n",
      "Factor: 0.9972246582409079\n",
      "Bit-size: 7.019481460023175\n"
     ]
    },
    {
     "name": "stderr",
     "output_type": "stream",
     "text": [
      "100%|██████████| 2992/2992 [00:00<00:00, 31382.42it/s]\n"
     ]
    },
    {
     "name": "stdout",
     "output_type": "stream",
     "text": [
      "---: 8 : DELTAS 46238 (0.00024769928623091965) :---\n",
      "Deltas present: 1.0\n",
      "Enc: 371124\n",
      "Nor: 369904\n",
      "Percentage: 1.0032981530343008\n",
      "Factor: 0.9967126890203813\n",
      "Bit-size: 8.026385224274406\n"
     ]
    },
    {
     "name": "stderr",
     "output_type": "stream",
     "text": [
      "100%|██████████| 14671/14671 [00:00<00:00, 30264.89it/s]\n"
     ]
    },
    {
     "name": "stdout",
     "output_type": "stream",
     "text": [
      "---: 9 : DELTAS 248724 (0.0013324269490137821) :---\n",
      "Deltas present: 1.0\n",
      "Enc: 2202940\n",
      "Nor: 2238516\n",
      "Percentage: 0.9841073282478213\n",
      "Factor: 1.016149327716597\n",
      "Bit-size: 8.856965954230391\n"
     ]
    },
    {
     "name": "stderr",
     "output_type": "stream",
     "text": [
      "100%|██████████| 92453/92453 [00:01<00:00, 50137.22it/s]\n"
     ]
    },
    {
     "name": "stdout",
     "output_type": "stream",
     "text": [
      "---: 10 : DELTAS 986438 (0.0052843978656312105) :---\n",
      "Deltas present: 1.0\n",
      "Enc: 9835493\n",
      "Nor: 9864380\n",
      "Percentage: 0.9970715848335121\n",
      "Factor: 1.0029370159685946\n",
      "Bit-size: 9.970715848335121\n"
     ]
    },
    {
     "name": "stderr",
     "output_type": "stream",
     "text": [
      "100%|██████████| 548171/548171 [00:10<00:00, 51242.03it/s]\n"
     ]
    },
    {
     "name": "stdout",
     "output_type": "stream",
     "text": [
      "---: 11 : DELTAS 4574790 (0.024507379593761598) :---\n",
      "Deltas present: 1.0\n",
      "Enc: 50587334\n",
      "Nor: 50322690\n",
      "Percentage: 1.0052589398539704\n",
      "Factor: 0.9947685719116963\n",
      "Bit-size: 11.057848338393674\n"
     ]
    },
    {
     "name": "stderr",
     "output_type": "stream",
     "text": [
      "100%|██████████| 1958601/1958601 [00:59<00:00, 33060.27it/s]\n"
     ]
    },
    {
     "name": "stdout",
     "output_type": "stream",
     "text": [
      "---: 12 : DELTAS 20105598 (0.1077066973884209) :---\n",
      "Deltas present: 1.0\n",
      "Enc: 237063273\n",
      "Nor: 241267176\n",
      "Percentage: 0.9825757358721685\n",
      "Factor: 1.017733253012161\n",
      "Bit-size: 11.790908830466023\n"
     ]
    },
    {
     "name": "stderr",
     "output_type": "stream",
     "text": [
      "100%|██████████| 1925065/1925065 [01:10<00:00, 27324.51it/s]\n"
     ]
    },
    {
     "name": "stdout",
     "output_type": "stream",
     "text": [
      "---: 13 : DELTAS 31481378 (0.1686473216870491) :---\n",
      "Deltas present: 1.0\n",
      "Enc: 392581627\n",
      "Nor: 409257914\n",
      "Percentage: 0.9592523774628827\n",
      "Factor: 1.0424785212885166\n",
      "Bit-size: 12.470280907017475\n"
     ]
    },
    {
     "name": "stderr",
     "output_type": "stream",
     "text": [
      "100%|██████████| 2359579/2359579 [02:15<00:00, 17354.34it/s]\n"
     ]
    },
    {
     "name": "stdout",
     "output_type": "stream",
     "text": [
      "---: 14 : DELTAS 57252170 (0.3067027476138949) :---\n",
      "Deltas present: 1.0\n",
      "Enc: 757302249\n",
      "Nor: 801530380\n",
      "Percentage: 0.944820393457825\n",
      "Factor: 1.0584022179498374\n",
      "Bit-size: 13.22748550840955\n"
     ]
    },
    {
     "name": "stderr",
     "output_type": "stream",
     "text": [
      "100%|██████████| 1726389/1726389 [01:52<00:00, 15361.91it/s]\n"
     ]
    },
    {
     "name": "stdout",
     "output_type": "stream",
     "text": [
      "---: 15 : DELTAS 48660000 (0.26067406176730284) :---\n",
      "Deltas present: 1.0\n",
      "Enc: 678173956\n",
      "Nor: 729900000\n",
      "Percentage: 0.9291326976298123\n",
      "Factor: 1.0762725308784933\n",
      "Bit-size: 13.936990464447184\n"
     ]
    },
    {
     "name": "stderr",
     "output_type": "stream",
     "text": [
      "100%|██████████| 593105/593105 [00:45<00:00, 13111.08it/s]\n"
     ]
    },
    {
     "name": "stdout",
     "output_type": "stream",
     "text": [
      "---: 16 : DELTAS 17269860 (0.09251550662459254) :---\n",
      "Deltas present: 0.99981689453125\n",
      "Enc: 255821284\n",
      "Nor: 276317760\n",
      "Percentage: 0.9258228063226916\n",
      "Factor: 1.080120292102044\n",
      "Bit-size: 14.813164901163066\n"
     ]
    },
    {
     "name": "stderr",
     "output_type": "stream",
     "text": [
      "100%|██████████| 110811/110811 [00:07<00:00, 14317.77it/s]\n"
     ]
    },
    {
     "name": "stdout",
     "output_type": "stream",
     "text": [
      "---: 17 : DELTAS 3127174 (0.016752428040137764) :---\n",
      "Deltas present: 0.8783111572265625\n",
      "Enc: 49113773\n",
      "Nor: 53161958\n",
      "Percentage: 0.9238518453364716\n",
      "Factor: 1.0824246388075296\n",
      "Bit-size: 15.705481370720017\n"
     ]
    },
    {
     "name": "stderr",
     "output_type": "stream",
     "text": [
      "100%|██████████| 17829/17829 [00:01<00:00, 15993.38it/s]\n"
     ]
    },
    {
     "name": "stdout",
     "output_type": "stream",
     "text": [
      "---: 18 : DELTAS 456188 (0.0024438220075935543) :---\n",
      "Deltas present: 0.3952484130859375\n",
      "Enc: 7611605\n",
      "Nor: 8211384\n",
      "Percentage: 0.9269576237087439\n",
      "Factor: 1.078797967051627\n",
      "Bit-size: 16.68523722675739\n"
     ]
    },
    {
     "name": "stderr",
     "output_type": "stream",
     "text": [
      "100%|██████████| 8554/8554 [00:00<00:00, 18766.10it/s]\n"
     ]
    },
    {
     "name": "stdout",
     "output_type": "stream",
     "text": [
      "---: 19 : DELTAS 199118 (0.0010666851177760339) :---\n",
      "Deltas present: 0.09885787963867188\n",
      "Enc: 3583315\n",
      "Nor: 3783242\n",
      "Percentage: 0.9471545832912618\n",
      "Factor: 1.0557938668523421\n",
      "Bit-size: 17.995937082533974\n"
     ]
    },
    {
     "name": "stderr",
     "output_type": "stream",
     "text": [
      "100%|██████████| 52791/52791 [00:03<00:00, 17512.73it/s]\n"
     ]
    },
    {
     "name": "stdout",
     "output_type": "stream",
     "text": [
      "---: 20 : DELTAS 1353652 (0.007251581690493897) :---\n",
      "Deltas present: 0.08215713500976562\n",
      "Enc: 25878546\n",
      "Nor: 27073040\n",
      "Percentage: 0.9558788373969085\n",
      "Factor: 1.0461576937127766\n",
      "Bit-size: 19.11757674793817\n"
     ]
    },
    {
     "name": "stderr",
     "output_type": "stream",
     "text": [
      "100%|██████████| 27316/27316 [00:01<00:00, 17411.83it/s]\n"
     ]
    },
    {
     "name": "stdout",
     "output_type": "stream",
     "text": [
      "---: 21 : DELTAS 730300 (0.003912253746581613) :---\n",
      "Deltas present: 0.02994537353515625\n",
      "Enc: 14479315\n",
      "Nor: 15336300\n",
      "Percentage: 0.9441204853843496\n",
      "Factor: 1.0591868468915828\n",
      "Bit-size: 19.826530193071342\n"
     ]
    },
    {
     "name": "stderr",
     "output_type": "stream",
     "text": [
      "100%|██████████| 6354/6354 [00:00<00:00, 17711.65it/s]\n"
     ]
    },
    {
     "name": "stdout",
     "output_type": "stream",
     "text": [
      "---: 22 : DELTAS 135286 (0.0007247338906751199) :---\n",
      "Deltas present: 0.007027864456176758\n",
      "Enc: 2803545\n",
      "Nor: 2976292\n",
      "Percentage: 0.9419589878950049\n",
      "Factor: 1.061617345182617\n",
      "Bit-size: 20.723097733690107\n"
     ]
    },
    {
     "name": "stderr",
     "output_type": "stream",
     "text": [
      "100%|██████████| 721/721 [00:00<00:00, 13627.01it/s]\n"
     ]
    },
    {
     "name": "stdout",
     "output_type": "stream",
     "text": [
      "---: 23 : DELTAS 22982 (0.00012311572724077588) :---\n",
      "Deltas present: 0.0013194084167480469\n",
      "Enc: 488659\n",
      "Nor: 528586\n",
      "Percentage: 0.9244645147620255\n",
      "Factor: 1.0817072846299771\n",
      "Bit-size: 21.262683839526588\n"
     ]
    },
    {
     "name": "stderr",
     "output_type": "stream",
     "text": [
      "100%|██████████| 25/25 [00:00<00:00, 8237.05it/s]\n"
     ]
    },
    {
     "name": "stdout",
     "output_type": "stream",
     "text": [
      "---: 24 : DELTAS 1200 (6.428460216209688e-06) :---\n",
      "Deltas present: 4.589557647705078e-05\n",
      "Enc: 27375\n",
      "Nor: 28800\n",
      "Percentage: 0.9505208333333334\n",
      "Factor: 1.0520547945205478\n",
      "Bit-size: 22.8125\n",
      "\n",
      "---: IN TOTAL :---\n",
      "Enc: 2488048783\n",
      "Nor: 2632290904\n",
      "Percentage: 0.9452028190422224\n",
      "Factor: 1.0579739923049571\n",
      "Bit-size: 13.328602181253693\n",
      "Bit-size no coding: 14.10131446154553\n"
     ]
    }
   ],
   "source": [
    "#%pip install golomb_coding\n",
    "from golomb_coding import golomb_coding, optimal_golomb_coding\n",
    "from bitarray import util\n",
    "\n",
    "golomb_param = {}\n",
    "\n",
    "def golomb_setup(dt_freqs, chks, dts, bit_size):\n",
    "    delta_mean = sum(dts) / len(dts)\n",
    "    golden_ratio = (math.sqrt(5) + 1) / 2\n",
    "    param = max(0, 1 + math.floor(math.log2(math.log(golden_ratio - 1) / math.log(delta_mean / (delta_mean + 1)))))\n",
    "    param = int(math.pow(2, param))\n",
    "    golomb_param[bit_size] = param\n",
    "    tot = sum(dt_freqs.values())\n",
    "    def golomb(chk):\n",
    "        encoded = [golomb_coding(d, param) for d in chk]\n",
    "        #encoded = [optimal_golomb_coding(d, dt_freqs[d] / tot) for d in chk]\n",
    "        return sum(list(map(lambda x: len(x), encoded)))\n",
    "    return golomb\n",
    "\n",
    "evaluate_encoder(golomb_setup, bit_sizes=[])"
   ]
  },
  {
   "cell_type": "code",
   "execution_count": null,
   "metadata": {},
   "outputs": [
    {
     "name": "stderr",
     "output_type": "stream",
     "text": [
      "100%|██████████| 1/1 [00:00<00:00, 12018.06it/s]\n"
     ]
    },
    {
     "name": "stdout",
     "output_type": "stream",
     "text": [
      "---: 2 : DELTAS 2 (1.0714100360349481e-08) :---\n",
      "Deltas present: 0.5\n",
      "Enc: 2\n",
      "Nor: 4\n",
      "Percentage: 0.5\n",
      "Factor: 2.0\n",
      "Bit-size: 1.0\n"
     ]
    },
    {
     "name": "stderr",
     "output_type": "stream",
     "text": [
      "100%|██████████| 26/26 [00:00<00:00, 12777.02it/s]"
     ]
    },
    {
     "name": "stdout",
     "output_type": "stream",
     "text": [
      "---: 3 : DELTAS 708 (3.792791527563716e-06) :---\n",
      "Deltas present: 1.0\n",
      "Enc: 2124\n",
      "Nor: 2124\n",
      "Percentage: 1.0\n",
      "Factor: 1.0\n",
      "Bit-size: 3.0\n"
     ]
    },
    {
     "name": "stderr",
     "output_type": "stream",
     "text": [
      "\n",
      "100%|██████████| 14/14 [00:00<00:00, 9702.62it/s]\n"
     ]
    },
    {
     "name": "stdout",
     "output_type": "stream",
     "text": [
      "---: 4 : DELTAS 402 (2.1535341724302454e-06) :---\n",
      "Deltas present: 0.9375\n",
      "Enc: 1608\n",
      "Nor: 1608\n",
      "Percentage: 1.0\n",
      "Factor: 1.0\n",
      "Bit-size: 4.0\n"
     ]
    },
    {
     "name": "stderr",
     "output_type": "stream",
     "text": [
      "100%|██████████| 61/61 [00:00<00:00, 21019.76it/s]\n"
     ]
    },
    {
     "name": "stdout",
     "output_type": "stream",
     "text": [
      "---: 5 : DELTAS 1090 (5.839184696390466e-06) :---\n",
      "Deltas present: 1.0\n",
      "Enc: 5409\n",
      "Nor: 5450\n",
      "Percentage: 0.9924770642201834\n",
      "Factor: 1.0075799593270476\n",
      "Bit-size: 4.962385321100918\n"
     ]
    },
    {
     "name": "stderr",
     "output_type": "stream",
     "text": [
      "100%|██████████| 94/94 [00:00<00:00, 13969.62it/s]\n"
     ]
    },
    {
     "name": "stdout",
     "output_type": "stream",
     "text": [
      "---: 6 : DELTAS 2790 (1.4946170002687524e-05) :---\n",
      "Deltas present: 1.0\n",
      "Enc: 16539\n",
      "Nor: 16740\n",
      "Percentage: 0.9879928315412186\n",
      "Factor: 1.0121530926900055\n",
      "Bit-size: 5.927956989247312\n"
     ]
    },
    {
     "name": "stderr",
     "output_type": "stream",
     "text": [
      "100%|██████████| 548/548 [00:00<00:00, 17490.10it/s]\n"
     ]
    },
    {
     "name": "stdout",
     "output_type": "stream",
     "text": [
      "---: 7 : DELTAS 13808 (7.397014888785281e-05) :---\n",
      "Deltas present: 1.0\n",
      "Enc: 94931\n",
      "Nor: 96656\n",
      "Percentage: 0.9821532031120676\n",
      "Factor: 1.0181710926883736\n",
      "Bit-size: 6.8750724217844725\n"
     ]
    },
    {
     "name": "stderr",
     "output_type": "stream",
     "text": [
      "100%|██████████| 2992/2992 [00:00<00:00, 32182.38it/s]\n"
     ]
    },
    {
     "name": "stdout",
     "output_type": "stream",
     "text": [
      "---: 8 : DELTAS 46238 (0.00024769928623091965) :---\n",
      "Deltas present: 1.0\n",
      "Enc: 366232\n",
      "Nor: 369904\n",
      "Percentage: 0.9900731000475799\n",
      "Factor: 1.010026431333144\n",
      "Bit-size: 7.920584800380639\n"
     ]
    },
    {
     "name": "stderr",
     "output_type": "stream",
     "text": [
      "100%|██████████| 14671/14671 [00:00<00:00, 29506.65it/s]\n"
     ]
    },
    {
     "name": "stdout",
     "output_type": "stream",
     "text": [
      "---: 9 : DELTAS 248724 (0.0013324269490137821) :---\n",
      "Deltas present: 1.0\n",
      "Enc: 2183509\n",
      "Nor: 2238516\n",
      "Percentage: 0.9754270239748118\n",
      "Factor: 1.0251920189016852\n",
      "Bit-size: 8.778843215773307\n"
     ]
    },
    {
     "name": "stderr",
     "output_type": "stream",
     "text": [
      "100%|██████████| 92453/92453 [00:01<00:00, 53550.80it/s]\n"
     ]
    },
    {
     "name": "stdout",
     "output_type": "stream",
     "text": [
      "---: 10 : DELTAS 986438 (0.0052843978656312105) :---\n",
      "Deltas present: 1.0\n",
      "Enc: 9717679\n",
      "Nor: 9864380\n",
      "Percentage: 0.9851282087673021\n",
      "Factor: 1.0150963002585287\n",
      "Bit-size: 9.85128208767302\n"
     ]
    },
    {
     "name": "stderr",
     "output_type": "stream",
     "text": [
      "100%|██████████| 548171/548171 [00:09<00:00, 57431.77it/s]\n"
     ]
    },
    {
     "name": "stdout",
     "output_type": "stream",
     "text": [
      "---: 11 : DELTAS 4574790 (0.024507379593761598) :---\n",
      "Deltas present: 1.0\n",
      "Enc: 49993706\n",
      "Nor: 50322690\n",
      "Percentage: 0.9934625116423625\n",
      "Factor: 1.0065805083543917\n",
      "Bit-size: 10.928087628065988\n"
     ]
    },
    {
     "name": "stderr",
     "output_type": "stream",
     "text": [
      "100%|██████████| 1958601/1958601 [00:54<00:00, 35658.09it/s]\n"
     ]
    },
    {
     "name": "stdout",
     "output_type": "stream",
     "text": [
      "---: 12 : DELTAS 20105598 (0.1077066973884209) :---\n",
      "Deltas present: 1.0\n",
      "Enc: 235637652\n",
      "Nor: 241267176\n",
      "Percentage: 0.9766668467160241\n",
      "Factor: 1.0238905962278049\n",
      "Bit-size: 11.720002160592289\n"
     ]
    },
    {
     "name": "stderr",
     "output_type": "stream",
     "text": [
      "100%|██████████| 1925065/1925065 [01:10<00:00, 27328.53it/s]\n"
     ]
    },
    {
     "name": "stdout",
     "output_type": "stream",
     "text": [
      "---: 13 : DELTAS 31481378 (0.1686473216870491) :---\n",
      "Deltas present: 1.0\n",
      "Enc: 392179252\n",
      "Nor: 409257914\n",
      "Percentage: 0.9582691954980741\n",
      "Factor: 1.0435481018256416\n",
      "Bit-size: 12.457499541474963\n"
     ]
    },
    {
     "name": "stderr",
     "output_type": "stream",
     "text": [
      "100%|██████████| 2359579/2359579 [02:16<00:00, 17233.70it/s]\n"
     ]
    },
    {
     "name": "stdout",
     "output_type": "stream",
     "text": [
      "---: 14 : DELTAS 57252170 (0.3067027476138949) :---\n",
      "Deltas present: 1.0\n",
      "Enc: 756762151\n",
      "Nor: 801530380\n",
      "Percentage: 0.9441465599844138\n",
      "Factor: 1.0591575952111802\n",
      "Bit-size: 13.218051839781793\n"
     ]
    },
    {
     "name": "stderr",
     "output_type": "stream",
     "text": [
      "100%|██████████| 1726389/1726389 [02:04<00:00, 13865.24it/s]\n"
     ]
    },
    {
     "name": "stdout",
     "output_type": "stream",
     "text": [
      "---: 15 : DELTAS 48660000 (0.26067406176730284) :---\n",
      "Deltas present: 1.0\n",
      "Enc: 677875030\n",
      "Nor: 729900000\n",
      "Percentage: 0.9287231538566927\n",
      "Factor: 1.0767471402509103\n",
      "Bit-size: 13.93084730785039\n"
     ]
    },
    {
     "name": "stderr",
     "output_type": "stream",
     "text": [
      "100%|██████████| 593105/593105 [00:40<00:00, 14787.37it/s]\n"
     ]
    },
    {
     "name": "stdout",
     "output_type": "stream",
     "text": [
      "---: 16 : DELTAS 17269860 (0.09251550662459254) :---\n",
      "Deltas present: 0.99981689453125\n",
      "Enc: 255733592\n",
      "Nor: 276317760\n",
      "Percentage: 0.925505447062107\n",
      "Factor: 1.0804906693681446\n",
      "Bit-size: 14.808087152993712\n"
     ]
    },
    {
     "name": "stderr",
     "output_type": "stream",
     "text": [
      "100%|██████████| 110811/110811 [00:06<00:00, 16004.47it/s]\n"
     ]
    },
    {
     "name": "stdout",
     "output_type": "stream",
     "text": [
      "---: 17 : DELTAS 3127174 (0.016752428040137764) :---\n",
      "Deltas present: 0.8783111572265625\n",
      "Enc: 49098460\n",
      "Nor: 53161958\n",
      "Percentage: 0.9235638010172612\n",
      "Factor: 1.082762229202301\n",
      "Bit-size: 15.70058461729344\n"
     ]
    },
    {
     "name": "stderr",
     "output_type": "stream",
     "text": [
      "100%|██████████| 17829/17829 [00:01<00:00, 17412.58it/s]\n"
     ]
    },
    {
     "name": "stdout",
     "output_type": "stream",
     "text": [
      "---: 18 : DELTAS 456188 (0.0024438220075935543) :---\n",
      "Deltas present: 0.3952484130859375\n",
      "Enc: 7609094\n",
      "Nor: 8211384\n",
      "Percentage: 0.9266518287294809\n",
      "Factor: 1.079153970236141\n",
      "Bit-size: 16.679732917130657\n"
     ]
    },
    {
     "name": "stderr",
     "output_type": "stream",
     "text": [
      "100%|██████████| 8554/8554 [00:00<00:00, 19731.68it/s]\n"
     ]
    },
    {
     "name": "stdout",
     "output_type": "stream",
     "text": [
      "---: 19 : DELTAS 199118 (0.0010666851177760339) :---\n",
      "Deltas present: 0.09885787963867188\n",
      "Enc: 3581544\n",
      "Nor: 3783242\n",
      "Percentage: 0.9466864662635909\n",
      "Factor: 1.056315935250272\n",
      "Bit-size: 17.987042859008227\n"
     ]
    },
    {
     "name": "stderr",
     "output_type": "stream",
     "text": [
      "100%|██████████| 52791/52791 [00:02<00:00, 17994.80it/s]\n"
     ]
    },
    {
     "name": "stdout",
     "output_type": "stream",
     "text": [
      "---: 20 : DELTAS 1353652 (0.007251581690493897) :---\n",
      "Deltas present: 0.08215713500976562\n",
      "Enc: 25878407\n",
      "Nor: 27073040\n",
      "Percentage: 0.9558737031378818\n",
      "Factor: 1.0461633129118033\n",
      "Bit-size: 19.117474062757637\n"
     ]
    },
    {
     "name": "stderr",
     "output_type": "stream",
     "text": [
      "100%|██████████| 27316/27316 [00:01<00:00, 17976.13it/s]\n"
     ]
    },
    {
     "name": "stdout",
     "output_type": "stream",
     "text": [
      "---: 21 : DELTAS 730300 (0.003912253746581613) :---\n",
      "Deltas present: 0.02994537353515625\n",
      "Enc: 14479183\n",
      "Nor: 15336300\n",
      "Percentage: 0.9441118783539706\n",
      "Factor: 1.0591965030071102\n",
      "Bit-size: 19.826349445433383\n"
     ]
    },
    {
     "name": "stderr",
     "output_type": "stream",
     "text": [
      "100%|██████████| 6354/6354 [00:00<00:00, 22035.06it/s]\n"
     ]
    },
    {
     "name": "stdout",
     "output_type": "stream",
     "text": [
      "---: 22 : DELTAS 135286 (0.0007247338906751199) :---\n",
      "Deltas present: 0.007027864456176758\n",
      "Enc: 2803541\n",
      "Nor: 2976292\n",
      "Percentage: 0.9419576439408499\n",
      "Factor: 1.0616188598632943\n",
      "Bit-size: 20.7230681666987\n"
     ]
    },
    {
     "name": "stderr",
     "output_type": "stream",
     "text": [
      "100%|██████████| 721/721 [00:00<00:00, 13934.18it/s]\n"
     ]
    },
    {
     "name": "stdout",
     "output_type": "stream",
     "text": [
      "---: 23 : DELTAS 22982 (0.00012311572724077588) :---\n",
      "Deltas present: 0.0013194084167480469\n",
      "Enc: 484313\n",
      "Nor: 528586\n",
      "Percentage: 0.9162425792586258\n",
      "Factor: 1.0914140235756629\n",
      "Bit-size: 21.073579322948394\n"
     ]
    },
    {
     "name": "stderr",
     "output_type": "stream",
     "text": [
      "100%|██████████| 25/25 [00:00<00:00, 7339.89it/s]\n"
     ]
    },
    {
     "name": "stdout",
     "output_type": "stream",
     "text": [
      "---: 24 : DELTAS 1200 (6.428460216209688e-06) :---\n",
      "Deltas present: 4.589557647705078e-05\n",
      "Enc: 27369\n",
      "Nor: 28800\n",
      "Percentage: 0.9503125\n",
      "Factor: 1.0522854324235449\n",
      "Bit-size: 22.8075\n",
      "\n",
      "---: IN TOTAL :---\n",
      "Enc: 2484531327\n",
      "Nor: 2632290904\n",
      "Percentage: 0.9438665472818881\n",
      "Factor: 1.0594718107975782\n",
      "Bit-size: 13.309758992955135\n",
      "Bit-size no coding: 14.10131446154553\n"
     ]
    }
   ],
   "source": [
    "#inverted_unary(n // b)+minimal_binary_coding(n % b, b)\n",
    "\n",
    "from minimal_binary_coding import minimal_binary_coding\n",
    "from unary_coding import inverted_unary\n",
    "\n",
    "\n",
    "def golomb_huff_setup(dt_freqs, chks, dts, bit_size):\n",
    "    delta_mean = sum(dts) / len(dts)\n",
    "    golden_ratio = (math.sqrt(5) + 1) / 2\n",
    "    param = max(0, 1 + math.floor(math.log2(math.log(golden_ratio - 1) / math.log(delta_mean / (delta_mean + 1)))))\n",
    "    param = int(math.pow(2, param))\n",
    "    k_freqs = defaultdict(int)\n",
    "\n",
    "    #k_freq_dist = []\n",
    "    for d, cnt in dt_freqs.items():\n",
    "        k = inverted_unary(d // param)\n",
    "        k_freqs[k] += cnt\n",
    "        #k_freq_dist += [k for _ in range(cnt)]\n",
    "    \n",
    "    #sns.histplot(k_freq_dist, bins=40)\n",
    "    k_codec = util.huffman_code(k_freqs)\n",
    "\n",
    "    def golomb_huff(chk):\n",
    "        enc_len = 0\n",
    "        for d in chk:\n",
    "            k = inverted_unary(d // param)\n",
    "            r = minimal_binary_coding(d % param, param)\n",
    "            enc_len += len(k_codec[k].to01()) + len(r)\n",
    "\n",
    "        return enc_len\n",
    "    return golomb_huff\n",
    "\n",
    "evaluate_encoder(golomb_huff_setup, bit_sizes=[])"
   ]
  },
  {
   "cell_type": "code",
   "execution_count": null,
   "metadata": {},
   "outputs": [
    {
     "name": "stderr",
     "output_type": "stream",
     "text": [
      "100%|██████████| 1/1 [00:00<00:00, 3609.56it/s]\n"
     ]
    },
    {
     "name": "stdout",
     "output_type": "stream",
     "text": [
      "---: 2 : DELTAS 2 (1.0714100360349481e-08) :---\n",
      "Deltas present: 0.5\n",
      "Enc: 2\n",
      "Nor: 4\n",
      "Percentage: 0.5\n",
      "Factor: 2.0\n",
      "Bit-size: 1.0\n"
     ]
    },
    {
     "name": "stderr",
     "output_type": "stream",
     "text": [
      "100%|██████████| 26/26 [00:00<00:00, 14501.58it/s]\n"
     ]
    },
    {
     "name": "stdout",
     "output_type": "stream",
     "text": [
      "---: 3 : DELTAS 708 (3.792791527563716e-06) :---\n",
      "Deltas present: 1.0\n",
      "Enc: 1821\n",
      "Nor: 2124\n",
      "Percentage: 0.8573446327683616\n",
      "Factor: 1.1663920922570017\n",
      "Bit-size: 2.5720338983050848\n"
     ]
    },
    {
     "name": "stderr",
     "output_type": "stream",
     "text": [
      "100%|██████████| 14/14 [00:00<00:00, 12781.95it/s]\n"
     ]
    },
    {
     "name": "stdout",
     "output_type": "stream",
     "text": [
      "---: 4 : DELTAS 402 (2.1535341724302454e-06) :---\n",
      "Deltas present: 0.9375\n",
      "Enc: 1496\n",
      "Nor: 1608\n",
      "Percentage: 0.9303482587064676\n",
      "Factor: 1.0748663101604279\n",
      "Bit-size: 3.7213930348258706\n"
     ]
    },
    {
     "name": "stderr",
     "output_type": "stream",
     "text": [
      "100%|██████████| 61/61 [00:00<00:00, 21004.23it/s]\n"
     ]
    },
    {
     "name": "stdout",
     "output_type": "stream",
     "text": [
      "---: 5 : DELTAS 1090 (5.839184696390466e-06) :---\n",
      "Deltas present: 1.0\n",
      "Enc: 5174\n",
      "Nor: 5450\n",
      "Percentage: 0.9493577981651377\n",
      "Factor: 1.0533436412833397\n",
      "Bit-size: 4.746788990825689\n"
     ]
    },
    {
     "name": "stderr",
     "output_type": "stream",
     "text": [
      "100%|██████████| 94/94 [00:00<00:00, 13760.94it/s]\n"
     ]
    },
    {
     "name": "stdout",
     "output_type": "stream",
     "text": [
      "---: 6 : DELTAS 2790 (1.4946170002687524e-05) :---\n",
      "Deltas present: 1.0\n",
      "Enc: 16209\n",
      "Nor: 16740\n",
      "Percentage: 0.9682795698924731\n",
      "Factor: 1.0327595780122154\n",
      "Bit-size: 5.809677419354839\n"
     ]
    },
    {
     "name": "stderr",
     "output_type": "stream",
     "text": [
      "100%|██████████| 548/548 [00:00<00:00, 15713.19it/s]\n"
     ]
    },
    {
     "name": "stdout",
     "output_type": "stream",
     "text": [
      "---: 7 : DELTAS 13808 (7.397014888785281e-05) :---\n",
      "Deltas present: 1.0\n",
      "Enc: 93993\n",
      "Nor: 96656\n",
      "Percentage: 0.9724486839927164\n",
      "Factor: 1.0283318970561637\n",
      "Bit-size: 6.807140787949015\n"
     ]
    },
    {
     "name": "stderr",
     "output_type": "stream",
     "text": [
      "100%|██████████| 2992/2992 [00:00<00:00, 31914.02it/s]\n"
     ]
    },
    {
     "name": "stdout",
     "output_type": "stream",
     "text": [
      "---: 8 : DELTAS 46238 (0.00024769928623091965) :---\n",
      "Deltas present: 1.0\n",
      "Enc: 360528\n",
      "Nor: 369904\n",
      "Percentage: 0.9746528829101605\n",
      "Factor: 1.026006301868371\n",
      "Bit-size: 7.797223063281284\n"
     ]
    },
    {
     "name": "stderr",
     "output_type": "stream",
     "text": [
      "100%|██████████| 14671/14671 [00:00<00:00, 27114.13it/s]\n"
     ]
    },
    {
     "name": "stdout",
     "output_type": "stream",
     "text": [
      "---: 9 : DELTAS 248724 (0.0013324269490137821) :---\n",
      "Deltas present: 1.0\n",
      "Enc: 2167105\n",
      "Nor: 2238516\n",
      "Percentage: 0.968098954843298\n",
      "Factor: 1.0329522565819376\n",
      "Bit-size: 8.712890593589682\n"
     ]
    },
    {
     "name": "stderr",
     "output_type": "stream",
     "text": [
      "100%|██████████| 92453/92453 [00:01<00:00, 52668.34it/s]\n"
     ]
    },
    {
     "name": "stdout",
     "output_type": "stream",
     "text": [
      "---: 10 : DELTAS 986438 (0.0052843978656312105) :---\n",
      "Deltas present: 1.0\n",
      "Enc: 9657006\n",
      "Nor: 9864380\n",
      "Percentage: 0.9789774927567673\n",
      "Factor: 1.0214739433733395\n",
      "Bit-size: 9.789774927567672\n"
     ]
    },
    {
     "name": "stderr",
     "output_type": "stream",
     "text": [
      "100%|██████████| 548171/548171 [00:08<00:00, 63703.15it/s]\n"
     ]
    },
    {
     "name": "stdout",
     "output_type": "stream",
     "text": [
      "---: 11 : DELTAS 4574790 (0.024507379593761598) :---\n",
      "Deltas present: 1.0\n",
      "Enc: 49688857\n",
      "Nor: 50322690\n",
      "Percentage: 0.9874046280117379\n",
      "Factor: 1.0127560390451325\n",
      "Bit-size: 10.861450908129116\n"
     ]
    },
    {
     "name": "stderr",
     "output_type": "stream",
     "text": [
      "100%|██████████| 1958601/1958601 [00:53<00:00, 36407.21it/s]\n"
     ]
    },
    {
     "name": "stdout",
     "output_type": "stream",
     "text": [
      "---: 12 : DELTAS 20105598 (0.1077066973884209) :---\n",
      "Deltas present: 1.0\n",
      "Enc: 234087440\n",
      "Nor: 241267176\n",
      "Percentage: 0.9702415549473667\n",
      "Factor: 1.0306711714220977\n",
      "Bit-size: 11.6428986593684\n"
     ]
    },
    {
     "name": "stderr",
     "output_type": "stream",
     "text": [
      "100%|██████████| 1925065/1925065 [01:14<00:00, 25872.53it/s]\n"
     ]
    },
    {
     "name": "stdout",
     "output_type": "stream",
     "text": [
      "---: 13 : DELTAS 31481378 (0.1686473216870491) :---\n",
      "Deltas present: 1.0\n",
      "Enc: 387674772\n",
      "Nor: 409257914\n",
      "Percentage: 0.9472627375997426\n",
      "Factor: 1.055673320935106\n",
      "Bit-size: 12.314415588796653\n"
     ]
    },
    {
     "name": "stderr",
     "output_type": "stream",
     "text": [
      "100%|██████████| 2359579/2359579 [02:25<00:00, 16250.90it/s]\n"
     ]
    },
    {
     "name": "stdout",
     "output_type": "stream",
     "text": [
      "---: 14 : DELTAS 57252170 (0.3067027476138949) :---\n",
      "Deltas present: 1.0\n",
      "Enc: 744808151\n",
      "Nor: 801530380\n",
      "Percentage: 0.9292325900360757\n",
      "Factor: 1.0761568316939647\n",
      "Bit-size: 13.00925626050506\n"
     ]
    },
    {
     "name": "stderr",
     "output_type": "stream",
     "text": [
      "100%|██████████| 1726389/1726389 [01:52<00:00, 15382.21it/s]\n"
     ]
    },
    {
     "name": "stdout",
     "output_type": "stream",
     "text": [
      "---: 15 : DELTAS 48660000 (0.26067406176730284) :---\n",
      "Deltas present: 1.0\n",
      "Enc: 671718526\n",
      "Nor: 729900000\n",
      "Percentage: 0.9202884312919578\n",
      "Factor: 1.0866158543318187\n",
      "Bit-size: 13.804326469379367\n"
     ]
    },
    {
     "name": "stderr",
     "output_type": "stream",
     "text": [
      "100%|██████████| 593105/593105 [00:38<00:00, 15376.58it/s]\n"
     ]
    },
    {
     "name": "stdout",
     "output_type": "stream",
     "text": [
      "---: 16 : DELTAS 17269860 (0.09251550662459254) :---\n",
      "Deltas present: 0.99981689453125\n",
      "Enc: 254217931\n",
      "Nor: 276317760\n",
      "Percentage: 0.9200202368461585\n",
      "Factor: 1.0869326129477468\n",
      "Bit-size: 14.720323789538536\n"
     ]
    },
    {
     "name": "stderr",
     "output_type": "stream",
     "text": [
      "100%|██████████| 110811/110811 [00:07<00:00, 14493.10it/s]\n"
     ]
    },
    {
     "name": "stdout",
     "output_type": "stream",
     "text": [
      "---: 17 : DELTAS 3127174 (0.016752428040137764) :---\n",
      "Deltas present: 0.8783111572265625\n",
      "Enc: 48574654\n",
      "Nor: 53161958\n",
      "Percentage: 0.9137107779213098\n",
      "Factor: 1.0944382228641298\n",
      "Bit-size: 15.533083224662267\n"
     ]
    },
    {
     "name": "stderr",
     "output_type": "stream",
     "text": [
      "100%|██████████| 17829/17829 [00:01<00:00, 15921.29it/s]\n"
     ]
    },
    {
     "name": "stdout",
     "output_type": "stream",
     "text": [
      "---: 18 : DELTAS 456188 (0.0024438220075935543) :---\n",
      "Deltas present: 0.3952484130859375\n",
      "Enc: 7485285\n",
      "Nor: 8211384\n",
      "Percentage: 0.9115741024899091\n",
      "Factor: 1.0970035209080216\n",
      "Bit-size: 16.408333844818365\n"
     ]
    },
    {
     "name": "stderr",
     "output_type": "stream",
     "text": [
      "100%|██████████| 8554/8554 [00:00<00:00, 18001.79it/s]\n"
     ]
    },
    {
     "name": "stdout",
     "output_type": "stream",
     "text": [
      "---: 19 : DELTAS 199118 (0.0010666851177760339) :---\n",
      "Deltas present: 0.09885787963867188\n",
      "Enc: 3552885\n",
      "Nor: 3783242\n",
      "Percentage: 0.9391112173104443\n",
      "Factor: 1.0648366046185003\n",
      "Bit-size: 17.84311312889844\n"
     ]
    },
    {
     "name": "stderr",
     "output_type": "stream",
     "text": [
      "100%|██████████| 52791/52791 [00:03<00:00, 17575.46it/s]\n"
     ]
    },
    {
     "name": "stdout",
     "output_type": "stream",
     "text": [
      "---: 20 : DELTAS 1353652 (0.007251581690493897) :---\n",
      "Deltas present: 0.08215713500976562\n",
      "Enc: 25787904\n",
      "Nor: 27073040\n",
      "Percentage: 0.952530783391891\n",
      "Factor: 1.04983483729426\n",
      "Bit-size: 19.05061566783782\n"
     ]
    },
    {
     "name": "stderr",
     "output_type": "stream",
     "text": [
      "100%|██████████| 27316/27316 [00:01<00:00, 17359.07it/s]\n"
     ]
    },
    {
     "name": "stdout",
     "output_type": "stream",
     "text": [
      "---: 21 : DELTAS 730300 (0.003912253746581613) :---\n",
      "Deltas present: 0.02994537353515625\n",
      "Enc: 14407841\n",
      "Nor: 15336300\n",
      "Percentage: 0.9394600392532749\n",
      "Factor: 1.0644412302995292\n",
      "Bit-size: 19.728660824318773\n"
     ]
    },
    {
     "name": "stderr",
     "output_type": "stream",
     "text": [
      "100%|██████████| 6354/6354 [00:00<00:00, 19842.79it/s]\n"
     ]
    },
    {
     "name": "stdout",
     "output_type": "stream",
     "text": [
      "---: 22 : DELTAS 135286 (0.0007247338906751199) :---\n",
      "Deltas present: 0.007027864456176758\n",
      "Enc: 2762035\n",
      "Nor: 2976292\n",
      "Percentage: 0.9280121036511203\n",
      "Factor: 1.077572152416606\n",
      "Bit-size: 20.416266280324646\n"
     ]
    },
    {
     "name": "stderr",
     "output_type": "stream",
     "text": [
      "100%|██████████| 721/721 [00:00<00:00, 14462.22it/s]\n"
     ]
    },
    {
     "name": "stdout",
     "output_type": "stream",
     "text": [
      "---: 23 : DELTAS 22982 (0.00012311572724077588) :---\n",
      "Deltas present: 0.0013194084167480469\n",
      "Enc: 469563\n",
      "Nor: 528586\n",
      "Percentage: 0.8883379431161628\n",
      "Factor: 1.1256977232022114\n",
      "Bit-size: 20.431772691671743\n"
     ]
    },
    {
     "name": "stderr",
     "output_type": "stream",
     "text": [
      "100%|██████████| 25/25 [00:00<00:00, 8928.61it/s]\n"
     ]
    },
    {
     "name": "stdout",
     "output_type": "stream",
     "text": [
      "---: 24 : DELTAS 1200 (6.428460216209688e-06) :---\n",
      "Deltas present: 4.589557647705078e-05\n",
      "Enc: 24126\n",
      "Nor: 28800\n",
      "Percentage: 0.8377083333333334\n",
      "Factor: 1.1937329022631187\n",
      "Bit-size: 20.105\n",
      "\n",
      "---: IN TOTAL :---\n",
      "Enc: 2457563304\n",
      "Nor: 2632290904\n",
      "Percentage: 0.9336214702810826\n",
      "Factor: 1.0710979040562691\n",
      "Bit-size: 13.16528994048403\n",
      "Bit-size no coding: 14.10131446154553\n"
     ]
    }
   ],
   "source": [
    "from bitarray import bitarray, util\n",
    "\n",
    "def fpzip_setup(dt_freqs, chks, dts, bit_size):\n",
    "    k_freqs = defaultdict(int)\n",
    "    r_freqs = defaultdict(int)\n",
    "    for d, cnt in dt_freqs.items():\n",
    "        k = int(math.floor(np.log2(d))) if d != 0 else -1\n",
    "        k_freqs[k] += cnt\n",
    "        #if k != -1:\n",
    "            #r = d - int(math.pow(2, k))\n",
    "            #r_freqs[r] += 1\n",
    "    #k_codec = HuffmanCodec.from_frequencies(k_freqs)\n",
    "    #r_codec = HuffmanCodec.from_frequencies(r_freqs)\n",
    "    k_codec = util.huffman_code(k_freqs)\n",
    "    #r_codec = util.huffman_code(r_freqs)\n",
    "\n",
    "    def fpzip(chk):\n",
    "        size = 0\n",
    "        for d in chk:\n",
    "            k = int(math.floor(np.log2(d))) if d != 0 else -1\n",
    "            r = d - int(math.pow(2, k))\n",
    "            #size += len(k_codec.encode([k])) + (len(r_codec.encode([r])) if k != -1 else 0)\n",
    "            #size += len(k_codec[k].to01()) + (len(r_codec[r].to01()) if k != -1 else 0)\n",
    "            size += len(k_codec[k].to01()) + k if k != -1 else 0\n",
    "        return size \n",
    "    return fpzip\n",
    "\n",
    "evaluate_encoder(fpzip_setup)"
   ]
  }
 ],
 "metadata": {
  "kernelspec": {
   "display_name": "py3.11",
   "language": "python",
   "name": "python3"
  },
  "language_info": {
   "codemirror_mode": {
    "name": "ipython",
    "version": 3
   },
   "file_extension": ".py",
   "mimetype": "text/x-python",
   "name": "python",
   "nbconvert_exporter": "python",
   "pygments_lexer": "ipython3",
   "version": "3.9.13"
  },
  "orig_nbformat": 4
 },
 "nbformat": 4,
 "nbformat_minor": 2
}
