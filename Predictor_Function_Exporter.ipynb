{
 "cells": [
  {
   "cell_type": "code",
   "execution_count": 61,
   "metadata": {},
   "outputs": [],
   "source": [
    "from collections import deque\n",
    "import tqdm\n",
    "import bench_utils\n",
    "from shapely.geometry import shape\n",
    "from algos.alg_fpd import Fpd\n",
    "from algos.alg_fpd_extended import FpdExtended\n",
    "import random\n",
    "import numpy as np\n",
    "from shapely.geometry import shape\n",
    "\n",
    "fpd = FpdExtended()\n",
    "\n",
    "df, unary_idxs = bench_utils.read_dataset()\n",
    "unary_idxs = list(set(unary_idxs))\n",
    "\n",
    "MEMORY_SLOTS = 5\n",
    "# Export delta properties\n",
    "X, y = [], []\n",
    "for idx in tqdm.tqdm(unary_idxs, disable=True): # List of single idxs\n",
    "    _, bin = fpd.compress(shape(df.iloc[idx]))\n",
    "    chunks, _ = fpd.get_chunks(bin, include_ring_start=False)\n",
    "\n",
    "    for c in chunks:\n",
    "        #prevs = [(0, *c[0])]\n",
    "        prevs = [c[0]]\n",
    "        for coord in c[1:]:\n",
    "            #point = (0, *coord)\n",
    "\n",
    "            if len(prevs) > MEMORY_SLOTS:\n",
    "                prevs.pop()\n",
    "\n",
    "            X_small = [prevs[i] if len(prevs) > i else [0, 0] for i in range(MEMORY_SLOTS)]\n",
    "            y_small = coord\n",
    "            prevs.insert(0, coord)\n",
    "            X.append(X_small)\n",
    "            y.append(y_small)"
   ]
  },
  {
   "cell_type": "code",
   "execution_count": 62,
   "metadata": {},
   "outputs": [],
   "source": [
    "from tensorflow import keras\n",
    "import tensorflow as tf\n",
    "import numpy as np\n",
    "from pathlib import Path\n",
    "from matplotlib import pyplot as plt\n",
    "from sklearn.preprocessing import LabelEncoder\n",
    "from sklearn import model_selection\n",
    "from sklearn.utils import shuffle\n",
    "from sklearn.neural_network import MLPRegressor\n",
    "X = np.array(X)\n",
    "y = np.array(y)"
   ]
  },
  {
   "cell_type": "code",
   "execution_count": 63,
   "metadata": {},
   "outputs": [
    {
     "name": "stdout",
     "output_type": "stream",
     "text": [
      "(64541, 5, 2)\n",
      "(64541, 2)\n"
     ]
    }
   ],
   "source": [
    "print(X.shape)\n",
    "#X = X.reshape((-1, X.shape[1] * X.shape[2]))\n",
    "#print(X.shape)\n",
    "print(y.shape)"
   ]
  },
  {
   "cell_type": "code",
   "execution_count": 64,
   "metadata": {},
   "outputs": [
    {
     "name": "stdout",
     "output_type": "stream",
     "text": [
      "[[[13.1854398 55.706723 ]\n",
      "  [ 0.         0.       ]\n",
      "  [ 0.         0.       ]\n",
      "  [ 0.         0.       ]\n",
      "  [ 0.         0.       ]]\n",
      "\n",
      " [[13.185471  55.7068707]\n",
      "  [13.1854398 55.706723 ]\n",
      "  [ 0.         0.       ]\n",
      "  [ 0.         0.       ]\n",
      "  [ 0.         0.       ]]\n",
      "\n",
      " [[13.1854744 55.7068789]\n",
      "  [13.185471  55.7068707]\n",
      "  [13.1854398 55.706723 ]\n",
      "  [ 0.         0.       ]\n",
      "  [ 0.         0.       ]]\n",
      "\n",
      " ...\n",
      "\n",
      " [[13.1798695 55.6964445]\n",
      "  [13.1798976 55.6964358]\n",
      "  [13.1799244 55.6964233]\n",
      "  [13.1799425 55.6964074]\n",
      "  [13.1799506 55.6963908]]\n",
      "\n",
      " [[13.1798131 55.6964562]\n",
      "  [13.1798695 55.6964445]\n",
      "  [13.1798976 55.6964358]\n",
      "  [13.1799244 55.6964233]\n",
      "  [13.1799425 55.6964074]]\n",
      "\n",
      " [[13.1797642 55.6964622]\n",
      "  [13.1798131 55.6964562]\n",
      "  [13.1798695 55.6964445]\n",
      "  [13.1798976 55.6964358]\n",
      "  [13.1799244 55.6964233]]]\n",
      "[[13.185471  55.7068707]\n",
      " [13.1854744 55.7068789]\n",
      " [13.1854789 55.7068869]\n",
      " ...\n",
      " [13.1798131 55.6964562]\n",
      " [13.1797642 55.6964622]\n",
      " [13.1797172 55.6964649]]\n"
     ]
    }
   ],
   "source": [
    "print(X)\n",
    "print(y)"
   ]
  },
  {
   "cell_type": "code",
   "execution_count": 65,
   "metadata": {},
   "outputs": [
    {
     "name": "stdout",
     "output_type": "stream",
     "text": [
      "train data shape: (45178, 5, 2)\n",
      "validation data shape: (13554, 5, 2)\n",
      "train labels shape: (45178, 2)\n",
      "validation labels shape: (13554, 2)\n",
      "test labels shape: (5809, 5, 2)\n",
      "test labels shape: (5809, 2)\n"
     ]
    }
   ],
   "source": [
    "X_train, X_validation, y_train, y_validation = model_selection.train_test_split(X, y, random_state=50,test_size=0.3)\n",
    "X_validation, X_test, y_validation, y_test = model_selection.train_test_split(X_validation, y_validation, random_state=50,test_size=0.3)\n",
    "\n",
    "print('train data shape:',np.shape(X_train))\n",
    "print('validation data shape:',np.shape(X_validation))\n",
    "print('train labels shape:',np.shape(y_train))\n",
    "print('validation labels shape:',np.shape(y_validation))\n",
    "print('test labels shape:',np.shape(X_test))\n",
    "print('test labels shape:',np.shape(y_test))"
   ]
  },
  {
   "cell_type": "code",
   "execution_count": 66,
   "metadata": {},
   "outputs": [
    {
     "name": "stdout",
     "output_type": "stream",
     "text": [
      "[[13.19735887 55.70406662]\n",
      " [10.85248954 45.80680714]\n",
      " [ 8.81114245 37.1906544 ]\n",
      " [ 6.96057354 29.37967097]\n",
      " [ 5.73774127 24.21835497]] [[1.66484342e-02 8.74099854e-03]\n",
      " [5.04455277e+00 2.12922437e+01]\n",
      " [6.21668168e+00 2.62397225e+01]\n",
      " [6.58871700e+00 2.78100700e+01]\n",
      " [6.54221938e+00 2.76139307e+01]]\n"
     ]
    }
   ],
   "source": [
    "mean = np.mean(X_train, axis = 0)\n",
    "std = np.std(X_train, axis = 0)\n",
    "\n",
    "#train_data = (train_data-mean) / std\n",
    "#validation_data = (validation_data-mean) / std\n",
    "\n",
    "#print(train_data)\n",
    "print(mean, std)"
   ]
  },
  {
   "cell_type": "code",
   "execution_count": 67,
   "metadata": {},
   "outputs": [
    {
     "data": {
      "text/plain": [
       "array([[13.183625 , 55.6890487],\n",
       "       [13.1836464, 55.6890002],\n",
       "       [13.1836858, 55.6890057],\n",
       "       [13.1836854, 55.6890067],\n",
       "       [13.1837519, 55.689016 ]])"
      ]
     },
     "execution_count": 67,
     "metadata": {},
     "output_type": "execute_result"
    }
   ],
   "source": [
    "X_train[0]"
   ]
  },
  {
   "cell_type": "code",
   "execution_count": 68,
   "metadata": {},
   "outputs": [
    {
     "data": {
      "text/plain": [
       "array([13.1836551, 55.6890529])"
      ]
     },
     "execution_count": 68,
     "metadata": {},
     "output_type": "execute_result"
    }
   ],
   "source": [
    "y_train[0]"
   ]
  },
  {
   "cell_type": "code",
   "execution_count": 69,
   "metadata": {},
   "outputs": [
    {
     "data": {
      "text/plain": [
       "array([[13.1794817, 55.7184121],\n",
       "       [13.1799881, 55.7184892],\n",
       "       [13.1813358, 55.7187016],\n",
       "       [13.1835961, 55.719049 ],\n",
       "       [13.1836985, 55.7190653]])"
      ]
     },
     "execution_count": 69,
     "metadata": {},
     "output_type": "execute_result"
    }
   ],
   "source": [
    "X_validation[0]"
   ]
  },
  {
   "cell_type": "code",
   "execution_count": 70,
   "metadata": {},
   "outputs": [
    {
     "data": {
      "text/plain": [
       "0"
      ]
     },
     "execution_count": 70,
     "metadata": {},
     "output_type": "execute_result"
    }
   ],
   "source": [
    "import gc\n",
    "gc.collect() # used to clear gpu memory "
   ]
  },
  {
   "cell_type": "code",
   "execution_count": 71,
   "metadata": {},
   "outputs": [],
   "source": [
    "if False: \n",
    "    neural_net = MLPRegressor(max_iter=2000).fit(X_train, y_train)\n",
    "    ## Result\n",
    "    y_hat = neural_net.predict(X_validation)\n",
    "\n",
    "    PRINT_VALIDATION = False\n",
    "\n",
    "    pred_better_cnt = 0\n",
    "    for i in range(len(y_hat)):\n",
    "        prev = X_validation[i][0:2]\n",
    "        predicted_is_better =  np.linalg.norm(y[i] - y_hat[i]) < np.linalg.norm(y[i] - prev)\n",
    "        pred_better_cnt = pred_better_cnt + 1 if predicted_is_better else pred_better_cnt\n",
    "        if PRINT_VALIDATION:\n",
    "            print(prev)\n",
    "            print(f'{i + 1}: Diff: {y[i] - y_hat[i]}   predicted {y_hat[i]}     distance {np.linalg.norm(y[i] - y_hat[i])}')\n",
    "            print(f'{i + 1}: Real: {y[i] - prev}       was       {y[i]})        distance {np.linalg.norm(y[i] - prev)}')\n",
    "            print('Better:', 'YES' if predicted_is_better else 'NO')\n",
    "\n",
    "    print(\"Model was better in:\", pred_better_cnt, '/', len(y_hat), '   (', f'{(pred_better_cnt/len(y_hat) * 100):f}%' , ')')"
   ]
  },
  {
   "cell_type": "code",
   "execution_count": 72,
   "metadata": {},
   "outputs": [
    {
     "name": "stderr",
     "output_type": "stream",
     "text": [
      "2023-04-18 20:54:51.474366: I tensorflow/core/common_runtime/executor.cc:1197] [/device:CPU:0] (DEBUG INFO) Executor start aborting (this does not indicate an error and you can ignore this message): INVALID_ARGUMENT: You must feed a value for placeholder tensor 'gradients/split_2_grad/concat/split_2/split_dim' with dtype int32\n",
      "\t [[{{node gradients/split_2_grad/concat/split_2/split_dim}}]]\n",
      "2023-04-18 20:54:51.475659: I tensorflow/core/common_runtime/executor.cc:1197] [/device:CPU:0] (DEBUG INFO) Executor start aborting (this does not indicate an error and you can ignore this message): INVALID_ARGUMENT: You must feed a value for placeholder tensor 'gradients/split_grad/concat/split/split_dim' with dtype int32\n",
      "\t [[{{node gradients/split_grad/concat/split/split_dim}}]]\n",
      "2023-04-18 20:54:51.476763: I tensorflow/core/common_runtime/executor.cc:1197] [/device:CPU:0] (DEBUG INFO) Executor start aborting (this does not indicate an error and you can ignore this message): INVALID_ARGUMENT: You must feed a value for placeholder tensor 'gradients/split_1_grad/concat/split_1/split_dim' with dtype int32\n",
      "\t [[{{node gradients/split_1_grad/concat/split_1/split_dim}}]]\n"
     ]
    }
   ],
   "source": [
    "import numpy as np\n",
    "from tensorflow.keras.models import Sequential\n",
    "from tensorflow.keras.layers import Dense, LSTM, concatenate, Input, Dropout, BatchNormalization\n",
    "\n",
    "input_shape=(MEMORY_SLOTS, 2)\n",
    "\n",
    "# Define the model architecture\n",
    "# model = Sequential()\n",
    "# model.add(LSTM(units=128, input_shape=input_shape, return_sequences=True))\n",
    "# model.add(LSTM(units=64, return_sequences=False))\n",
    "# model.add(Dense(units=2, activation='linear'))\n",
    "# model.compile(optimizer='adam', loss='mse', metrics=['mae'])\n",
    "\n",
    "model = Sequential()\n",
    "model.add(LSTM(64, input_shape=input_shape))\n",
    "model.add(Dense(2))\n",
    "model.compile(loss=\"mean_squared_error\", optimizer=\"adam\")\n",
    "\n",
    "# model = Sequential()\n",
    "# model.add(LSTM(units=256, input_shape=input_shape, return_sequences=True))\n",
    "# model.add(Dropout(0.2))\n",
    "# model.add(BatchNormalization())\n",
    "# model.add(LSTM(units=128, return_sequences=True))\n",
    "# model.add(Dropout(0.2))\n",
    "# model.add(BatchNormalization())\n",
    "# model.add(LSTM(units=64, return_sequences=False))\n",
    "# model.add(Dropout(0.2))\n",
    "# model.add(BatchNormalization())\n",
    "# model.add(Dense(units=2, activation='linear'))\n",
    "# model.compile(optimizer='adam', loss='mse', metrics=['mae'])"
   ]
  },
  {
   "cell_type": "code",
   "execution_count": 73,
   "metadata": {},
   "outputs": [
    {
     "name": "stdout",
     "output_type": "stream",
     "text": [
      "Epoch 1/100\n"
     ]
    },
    {
     "name": "stderr",
     "output_type": "stream",
     "text": [
      "2023-04-18 20:54:51.768188: I tensorflow/core/common_runtime/executor.cc:1197] [/device:CPU:0] (DEBUG INFO) Executor start aborting (this does not indicate an error and you can ignore this message): INVALID_ARGUMENT: You must feed a value for placeholder tensor 'gradients/split_2_grad/concat/split_2/split_dim' with dtype int32\n",
      "\t [[{{node gradients/split_2_grad/concat/split_2/split_dim}}]]\n",
      "2023-04-18 20:54:51.769375: I tensorflow/core/common_runtime/executor.cc:1197] [/device:CPU:0] (DEBUG INFO) Executor start aborting (this does not indicate an error and you can ignore this message): INVALID_ARGUMENT: You must feed a value for placeholder tensor 'gradients/split_grad/concat/split/split_dim' with dtype int32\n",
      "\t [[{{node gradients/split_grad/concat/split/split_dim}}]]\n",
      "2023-04-18 20:54:51.771867: I tensorflow/core/common_runtime/executor.cc:1197] [/device:CPU:0] (DEBUG INFO) Executor start aborting (this does not indicate an error and you can ignore this message): INVALID_ARGUMENT: You must feed a value for placeholder tensor 'gradients/split_1_grad/concat/split_1/split_dim' with dtype int32\n",
      "\t [[{{node gradients/split_1_grad/concat/split_1/split_dim}}]]\n",
      "2023-04-18 20:54:52.321643: I tensorflow/core/common_runtime/executor.cc:1197] [/device:CPU:0] (DEBUG INFO) Executor start aborting (this does not indicate an error and you can ignore this message): INVALID_ARGUMENT: You must feed a value for placeholder tensor 'gradients/split_2_grad/concat/split_2/split_dim' with dtype int32\n",
      "\t [[{{node gradients/split_2_grad/concat/split_2/split_dim}}]]\n",
      "2023-04-18 20:54:52.323273: I tensorflow/core/common_runtime/executor.cc:1197] [/device:CPU:0] (DEBUG INFO) Executor start aborting (this does not indicate an error and you can ignore this message): INVALID_ARGUMENT: You must feed a value for placeholder tensor 'gradients/split_grad/concat/split/split_dim' with dtype int32\n",
      "\t [[{{node gradients/split_grad/concat/split/split_dim}}]]\n",
      "2023-04-18 20:54:52.324630: I tensorflow/core/common_runtime/executor.cc:1197] [/device:CPU:0] (DEBUG INFO) Executor start aborting (this does not indicate an error and you can ignore this message): INVALID_ARGUMENT: You must feed a value for placeholder tensor 'gradients/split_1_grad/concat/split_1/split_dim' with dtype int32\n",
      "\t [[{{node gradients/split_1_grad/concat/split_1/split_dim}}]]\n"
     ]
    },
    {
     "name": "stdout",
     "output_type": "stream",
     "text": [
      "1407/1412 [============================>.] - ETA: 0s - loss: 231.3101"
     ]
    },
    {
     "name": "stderr",
     "output_type": "stream",
     "text": [
      "2023-04-18 20:54:56.834345: I tensorflow/core/common_runtime/executor.cc:1197] [/device:CPU:0] (DEBUG INFO) Executor start aborting (this does not indicate an error and you can ignore this message): INVALID_ARGUMENT: You must feed a value for placeholder tensor 'gradients/split_2_grad/concat/split_2/split_dim' with dtype int32\n",
      "\t [[{{node gradients/split_2_grad/concat/split_2/split_dim}}]]\n",
      "2023-04-18 20:54:56.836032: I tensorflow/core/common_runtime/executor.cc:1197] [/device:CPU:0] (DEBUG INFO) Executor start aborting (this does not indicate an error and you can ignore this message): INVALID_ARGUMENT: You must feed a value for placeholder tensor 'gradients/split_grad/concat/split/split_dim' with dtype int32\n",
      "\t [[{{node gradients/split_grad/concat/split/split_dim}}]]\n",
      "2023-04-18 20:54:56.837523: I tensorflow/core/common_runtime/executor.cc:1197] [/device:CPU:0] (DEBUG INFO) Executor start aborting (this does not indicate an error and you can ignore this message): INVALID_ARGUMENT: You must feed a value for placeholder tensor 'gradients/split_1_grad/concat/split_1/split_dim' with dtype int32\n",
      "\t [[{{node gradients/split_1_grad/concat/split_1/split_dim}}]]\n"
     ]
    },
    {
     "name": "stdout",
     "output_type": "stream",
     "text": [
      "1412/1412 [==============================] - 6s 3ms/step - loss: 230.5226 - val_loss: 0.2838\n",
      "Epoch 2/100\n",
      "1412/1412 [==============================] - 4s 3ms/step - loss: 0.0200 - val_loss: 2.0767e-04\n",
      "Epoch 3/100\n",
      "1412/1412 [==============================] - 4s 3ms/step - loss: 2.0314e-04 - val_loss: 2.0646e-04\n",
      "Epoch 4/100\n",
      "1412/1412 [==============================] - 4s 3ms/step - loss: 2.0315e-04 - val_loss: 2.0512e-04\n",
      "Epoch 5/100\n",
      "1412/1412 [==============================] - 4s 3ms/step - loss: 2.0348e-04 - val_loss: 2.0427e-04\n",
      "Epoch 6/100\n",
      "1412/1412 [==============================] - 4s 3ms/step - loss: 2.0418e-04 - val_loss: 2.0270e-04\n",
      "Epoch 7/100\n",
      "1412/1412 [==============================] - 4s 3ms/step - loss: 2.0561e-04 - val_loss: 2.1614e-04\n",
      "Epoch 8/100\n",
      "1412/1412 [==============================] - 4s 3ms/step - loss: 2.1231e-04 - val_loss: 2.1134e-04\n",
      "Epoch 9/100\n",
      "1412/1412 [==============================] - 5s 3ms/step - loss: 2.1038e-04 - val_loss: 2.0486e-04\n",
      "Epoch 10/100\n",
      "1412/1412 [==============================] - 6s 4ms/step - loss: 2.0527e-04 - val_loss: 1.9097e-04\n",
      "Epoch 11/100\n",
      "1412/1412 [==============================] - 7s 5ms/step - loss: 2.0524e-04 - val_loss: 1.9692e-04\n",
      "Epoch 12/100\n",
      "1412/1412 [==============================] - 8s 6ms/step - loss: 2.0760e-04 - val_loss: 2.3938e-04\n",
      "Epoch 13/100\n",
      "1412/1412 [==============================] - 9s 6ms/step - loss: 2.0931e-04 - val_loss: 2.3582e-04\n",
      "Epoch 14/100\n",
      "1412/1412 [==============================] - 10s 7ms/step - loss: 2.1056e-04 - val_loss: 2.8479e-04\n",
      "Epoch 15/100\n",
      "1412/1412 [==============================] - 10s 7ms/step - loss: 2.0859e-04 - val_loss: 2.0372e-04\n",
      "Epoch 16/100\n",
      "1412/1412 [==============================] - 9s 6ms/step - loss: 2.1376e-04 - val_loss: 2.0337e-04\n",
      "Epoch 17/100\n",
      "1412/1412 [==============================] - 9s 6ms/step - loss: 2.1421e-04 - val_loss: 2.0582e-04\n",
      "Epoch 18/100\n",
      "1412/1412 [==============================] - 7s 5ms/step - loss: 2.1528e-04 - val_loss: 1.8454e-04\n",
      "Epoch 19/100\n",
      "1412/1412 [==============================] - 6s 4ms/step - loss: 2.0865e-04 - val_loss: 1.9327e-04\n",
      "Epoch 20/100\n",
      "1412/1412 [==============================] - 6s 4ms/step - loss: 2.1159e-04 - val_loss: 2.7437e-04\n",
      "Epoch 21/100\n",
      "1412/1412 [==============================] - 6s 4ms/step - loss: 2.1079e-04 - val_loss: 2.8030e-04\n",
      "Epoch 22/100\n",
      "1412/1412 [==============================] - 6s 4ms/step - loss: 2.1475e-04 - val_loss: 2.0030e-04\n",
      "Epoch 23/100\n",
      "1412/1412 [==============================] - 6s 4ms/step - loss: 2.1059e-04 - val_loss: 2.3246e-04\n",
      "Epoch 24/100\n",
      "1412/1412 [==============================] - 6s 4ms/step - loss: 2.0976e-04 - val_loss: 2.1921e-04\n",
      "Epoch 25/100\n",
      "1412/1412 [==============================] - 6s 4ms/step - loss: 2.1112e-04 - val_loss: 1.8773e-04\n",
      "Epoch 26/100\n",
      "1412/1412 [==============================] - 6s 4ms/step - loss: 2.1626e-04 - val_loss: 2.6089e-04\n",
      "Epoch 27/100\n",
      "1412/1412 [==============================] - 7s 5ms/step - loss: 2.0773e-04 - val_loss: 2.4041e-04\n",
      "Epoch 28/100\n",
      "1412/1412 [==============================] - 7s 5ms/step - loss: 2.1548e-04 - val_loss: 1.8771e-04\n",
      "Epoch 28: early stopping\n"
     ]
    }
   ],
   "source": [
    "from keras.callbacks import EarlyStopping\n",
    "\n",
    "# Define early stopping based on validation error\n",
    "early_stopping = EarlyStopping(monitor='val_loss', mode='min', patience=10, verbose=1)\n",
    "\n",
    "# Train the model with early stopping\n",
    "history = model.fit(X_train, y_train, epochs=100, batch_size=32, validation_data=(X_validation, y_validation), callbacks=[early_stopping])"
   ]
  },
  {
   "cell_type": "code",
   "execution_count": 74,
   "metadata": {},
   "outputs": [
    {
     "data": {
      "image/png": "[encoded data removed]",
      "text/plain": [
       "<Figure size 640x480 with 1 Axes>"
      ]
     },
     "metadata": {},
     "output_type": "display_data"
    }
   ],
   "source": [
    "plt.plot(history.history['loss'], label='train')\n",
    "plt.plot(history.history['val_loss'], label='validation')\n",
    "plt.xlabel('Epoch')\n",
    "plt.ylabel('MSE')\n",
    "plt.legend()\n",
    "plt.show()"
   ]
  },
  {
   "cell_type": "code",
   "execution_count": 75,
   "metadata": {},
   "outputs": [
    {
     "name": "stderr",
     "output_type": "stream",
     "text": [
      "2023-04-18 20:57:46.530927: I tensorflow/core/common_runtime/executor.cc:1197] [/device:CPU:0] (DEBUG INFO) Executor start aborting (this does not indicate an error and you can ignore this message): INVALID_ARGUMENT: You must feed a value for placeholder tensor 'gradients/split_2_grad/concat/split_2/split_dim' with dtype int32\n",
      "\t [[{{node gradients/split_2_grad/concat/split_2/split_dim}}]]\n",
      "2023-04-18 20:57:46.532810: I tensorflow/core/common_runtime/executor.cc:1197] [/device:CPU:0] (DEBUG INFO) Executor start aborting (this does not indicate an error and you can ignore this message): INVALID_ARGUMENT: You must feed a value for placeholder tensor 'gradients/split_grad/concat/split/split_dim' with dtype int32\n",
      "\t [[{{node gradients/split_grad/concat/split/split_dim}}]]\n",
      "2023-04-18 20:57:46.536185: I tensorflow/core/common_runtime/executor.cc:1197] [/device:CPU:0] (DEBUG INFO) Executor start aborting (this does not indicate an error and you can ignore this message): INVALID_ARGUMENT: You must feed a value for placeholder tensor 'gradients/split_1_grad/concat/split_1/split_dim' with dtype int32\n",
      "\t [[{{node gradients/split_1_grad/concat/split_1/split_dim}}]]\n"
     ]
    },
    {
     "name": "stdout",
     "output_type": "stream",
     "text": [
      "424/424 [==============================] - 1s 2ms/step\n",
      "Model was better than None in: 9080 / 13554    ( 66.991294% )\n",
      "Total MSE Model: 250.75751395867667\n",
      "Total MSE None: 331.3936080491591\n",
      "MSE Ratio (lower means model is better): 75.667577%\n",
      "\n",
      "Linear Prediction was better than None in: 5624 / 13554    ( 41.493286% )\n",
      "Total MSE Linear: 331.38598047406276\n",
      "Total MSE None: 331.3936080491591\n",
      "MSE Ratio (lower means linear is better): 99.997698%\n"
     ]
    }
   ],
   "source": [
    "y_hat = model.predict(X_validation)\n",
    "\n",
    "def linear_pred(X):\n",
    "    if X[0][0] == 0:\n",
    "        return 0\n",
    "    elif X[1][0] == 0:\n",
    "        return X[0]\n",
    "    else:\n",
    "        return X[0] + (X[1] - X[0])\n",
    "\n",
    "PRINT_VALIDATION = False\n",
    "\n",
    "pred_better_cnt = 0\n",
    "pred_tot_mse = 0\n",
    "none_tot_mse = 0\n",
    "lin_better_cnt = 0\n",
    "lin_tot_mse = 0\n",
    "# TODO: Use test set instead!\n",
    "for i in range(len(y_hat)):\n",
    "    prev = X_validation[i][0]\n",
    "    predicted_is_better = np.linalg.norm(y[i] - y_hat[i]) < np.linalg.norm(y[i] - prev)\n",
    "    pred_better_cnt += 1 if predicted_is_better else 0\n",
    "    pred_tot_mse += np.linalg.norm(y[i] - y_hat[i])\n",
    "    none_tot_mse += np.linalg.norm(y[i] - prev)\n",
    "    if PRINT_VALIDATION:\n",
    "        print(prev)\n",
    "        print(f'{i + 1}: Diff: {y[i] - y_hat[i]}   predicted {y_hat[i]}     distance {np.linalg.norm(y[i] - y_hat[i])}')\n",
    "        print(f'{i + 1}: Real: {y[i] - prev}       was       {y[i]})        distance {np.linalg.norm(y[i] - prev)}')\n",
    "        print('Better:', 'YES' if predicted_is_better else 'NO')\n",
    "        print()\n",
    "\n",
    "    ## Linear Prediction\n",
    "    y_lin = linear_pred(X_validation[i])\n",
    "    lin_is_better = np.linalg.norm(y[i] - y_lin) < np.linalg.norm(y[i] - prev)\n",
    "    lin_better_cnt += 1 if lin_is_better else 0\n",
    "    lin_tot_mse += np.linalg.norm(y[i] - y_lin)\n",
    "\n",
    "    if PRINT_VALIDATION:\n",
    "        print('-- Linear Prediction')\n",
    "        print(f'{i + 1}: Diff: {y[i] - y_lin}   predicted {y_lin}     distance {np.linalg.norm(y[i] - y_lin)}')\n",
    "        print(f'{i + 1}: Real: {y[i] - prev}       was       {y[i]})        distance {np.linalg.norm(y[i] - prev)}')\n",
    "        print('Better:', 'YES' if lin_is_better else 'NO')\n",
    "        print()\n",
    "\n",
    "print(\"Model was better than None in:\", pred_better_cnt, '/', len(y_hat), '   (', f'{(pred_better_cnt/len(y_hat) * 100):f}%' , ')')\n",
    "print(\"Total MSE Model:\", pred_tot_mse)\n",
    "print(\"Total MSE None:\", none_tot_mse)\n",
    "print(\"MSE Ratio (lower means model is better):\", f'{(pred_tot_mse/none_tot_mse * 100):f}%')\n",
    "print()\n",
    "print(\"Linear Prediction was better than None in:\", lin_better_cnt, '/', len(y_hat), '   (', f'{(lin_better_cnt/len(y_hat) * 100):f}%' , ')')\n",
    "print(\"Total MSE Linear:\", lin_tot_mse)\n",
    "print(\"Total MSE None:\", none_tot_mse)\n",
    "print(\"MSE Ratio (lower means linear is better):\", f'{(lin_tot_mse/none_tot_mse * 100):f}%')"
   ]
  }
 ],
 "metadata": {
  "kernelspec": {
   "display_name": "base",
   "language": "python",
   "name": "python3"
  },
  "language_info": {
   "codemirror_mode": {
    "name": "ipython",
    "version": 3
   },
   "file_extension": ".py",
   "mimetype": "text/x-python",
   "name": "python",
   "nbconvert_exporter": "python",
   "pygments_lexer": "ipython3",
   "version": "3.9.13"
  },
  "orig_nbformat": 4,
  "vscode": {
   "interpreter": {
    "hash": "40d3a090f54c6569ab1632332b64b2c03c39dcf918b08424e98f38b5ae0af88f"
   }
  }
 },
 "nbformat": 4,
 "nbformat_minor": 2
}
