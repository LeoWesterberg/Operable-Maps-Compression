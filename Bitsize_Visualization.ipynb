{
 "cells": [
  {
   "attachments": {},
   "cell_type": "markdown",
   "metadata": {},
   "source": [
    "--- \n",
    "## Operations visualization from different executions of TestBench"
   ]
  },
  {
   "cell_type": "code",
   "execution_count": 1,
   "metadata": {},
   "outputs": [],
   "source": [
    "import glob\n",
    "import os\n",
    "import pandas as pd\n",
    "import seaborn as snsß\n",
    "import matplotlib.pyplot as plt\n",
    "from os import listdir\n",
    "from os.path import isfile, join\n",
    "import seaborn as sns\n",
    "import pandas as pd\n",
    "from collections import deque\n",
    "import shapely\n",
    "import shapely.wkt\n",
    "import time\n",
    "import struct\n",
    "import math\n",
    "import numpy as np\n",
    "from shapely import GeometryType as GT\n",
    "import bisect\n",
    "from bitarray import bitarray, util, bits2bytes\n",
    "import random\n",
    "import tqdm\n",
    "from algos.alg_fpd_extended import FpdExtended\n",
    "\n"
   ]
  },
  {
   "cell_type": "code",
   "execution_count": 2,
   "metadata": {},
   "outputs": [],
   "source": [
    "COUNT_PER_PRECISION = 10000\n",
    "ALG = FpdExtended()\n",
    "FLOAT_SIZE = 32\n",
    "EXPONENT = 6\n"
   ]
  },
  {
   "cell_type": "code",
   "execution_count": 3,
   "metadata": {},
   "outputs": [],
   "source": [
    "def uint_to_ba(x, length):\n",
    "        if x == 0:\n",
    "            return util.zeros(length or 1, \"big\")\n",
    "\n",
    "        a = bitarray(0, \"big\")\n",
    "\n",
    "        a.frombytes(x.to_bytes(bits2bytes(x.bit_length()), byteorder=\"big\"))\n",
    "        la = len(a)\n",
    "        if la == length:\n",
    "            return a\n",
    "\n",
    "        return a[-length:] if la > length else util.zeros(length - la, \"big\") + a"
   ]
  },
  {
   "cell_type": "code",
   "execution_count": 4,
   "metadata": {},
   "outputs": [],
   "source": [
    "def float2bin(float):\n",
    "    decimal_part, integral_part = math.modf(float)\n",
    "    sign = 0 if float > 0 else 1\n",
    "    decimal_part = decimal_part * (1 - sign * 2)\n",
    "    integral_part = int(integral_part) * (1 - sign * 2)\n",
    "\n",
    "    integral_bin = bitarray()\n",
    "    while(integral_part >= 1):\n",
    "        integral_bin.append(integral_part % 2)\n",
    "        integral_part = integral_part >> 1\n",
    "    integral_bin.reverse()\n",
    "\n",
    "    decimal_bin = bitarray()\n",
    "    beg_bits_zero, had_1s = 0, False\n",
    "    while(decimal_part != 0):\n",
    "        decimal_part *= 2\n",
    "        rem = 0 if decimal_part < 1 else 1\n",
    "        if not had_1s and len(integral_bin) == 0:\n",
    "            if rem == 0:\n",
    "                beg_bits_zero += 1\n",
    "                continue\n",
    "            else:\n",
    "                had_1s = True\n",
    "                \n",
    "        decimal_bin.append(rem)\n",
    "        if decimal_part >= 1:\n",
    "            decimal_part -= 1\n",
    "    \n",
    "    if len(integral_bin) == 0:\n",
    "        exponent = (pow(2,(EXPONENT - 1)) - 1) - beg_bits_zero - 1\n",
    "    else:\n",
    "        exponent = (pow(2,(EXPONENT - 1)) - 1) + len(integral_bin) - 1\n",
    "\n",
    "    res = bitarray()\n",
    "    res.append(sign)\n",
    "    res.extend(uint_to_ba(exponent,EXPONENT ))\n",
    "    integral_bin.extend(decimal_bin)\n",
    "    while len(integral_bin) < FLOAT_SIZE - (EXPONENT + 1) + 1:\n",
    "        integral_bin.append(0)\n",
    "\n",
    "    res.extend(integral_bin[1:FLOAT_SIZE - (EXPONENT + 1)  + 1])\n",
    "    return res\n",
    "\n",
    "\n",
    "def bin2float(precision_float):\n",
    "    sign = (1 + (-2 * precision_float[0]))\n",
    "    exponent = util.ba2int(precision_float[1:(EXPONENT + 1) ], signed=False) - (pow(2,(EXPONENT - 1)) - 1)\n",
    "    decimal_part = precision_float[(EXPONENT + 1) :]\n",
    "    decimal = 1\n",
    "    for i in range(1,FLOAT_SIZE - (EXPONENT + 1)  + 1):\n",
    "        decimal += decimal_part[i - 1] * math.pow(2, -i)\n",
    "    return round(decimal * sign * math.pow(2,exponent),7)\n",
    "\n",
    "\n",
    "def bits2Long(bits):\n",
    "    res = 0\n",
    "    for ele in bits:\n",
    "        res = (res << 1) | ele\n",
    "    return res\n",
    "\n",
    "def long2bits(num):      \n",
    "    binary = bin(num)[2:]\n",
    "    res =  bitarray()\n",
    "    res.extend('0' * (FLOAT_SIZE - len(binary)))\n",
    "    res.extend(binary)\n",
    "    return res\n",
    "\n",
    "\n",
    "from math import floor, log10, inf\n",
    "def num_zeros(decimal):\n",
    "    return inf if decimal == 0 else -floor(log10(abs(decimal))) - 1"
   ]
  },
  {
   "cell_type": "code",
   "execution_count": 5,
   "metadata": {},
   "outputs": [
    {
     "name": "stderr",
     "output_type": "stream",
     "text": [
      "100%|██████████| 49/49 [00:16<00:00,  3.05it/s]\n"
     ]
    }
   ],
   "source": [
    "dec_errors = {}\n",
    "for float_size in tqdm.tqdm(range(16,65)):\n",
    "    FLOAT_SIZE = float_size\n",
    "    dec_errors[FLOAT_SIZE] = {1:0, 2:0, 3:0, 4:0, 5:0, 6:0, 7:0} \n",
    "    for i in range(COUNT_PER_PRECISION):\n",
    "        float = round(random.uniform(0.0, 1),7)\n",
    "        if bin2float(float2bin(float)) != float:\n",
    "            round_err = abs(bin2float(float2bin(float)) - float)\n",
    "            res = num_zeros(round_err) + 1\n",
    "            if res > 7:\n",
    "                continue\n",
    "            dec_errors[FLOAT_SIZE][num_zeros(round_err) + 1] += 1\n",
    "bar_plot = pd.DataFrame(dec_errors).T"
   ]
  },
  {
   "cell_type": "code",
   "execution_count": 6,
   "metadata": {},
   "outputs": [],
   "source": [
    "bar_plot2 = bar_plot/COUNT_PER_PRECISION"
   ]
  },
  {
   "cell_type": "code",
   "execution_count": 7,
   "metadata": {},
   "outputs": [
    {
     "data": {
      "image/png": "[encoded data removed]",
      "text/plain": [
       "<Figure size 640x480 with 1 Axes>"
      ]
     },
     "metadata": {},
     "output_type": "display_data"
    }
   ],
   "source": [
    "bar_plot2.plot (kind = 'bar', stacked = True)\n",
    "plt.tight_layout()\n",
    "plt.xlabel ('Float X')\n",
    "plt.ylabel ('Error frequency')\n",
    "plt.title ('Error using Float X')\n",
    "plt.legend(labels=[ \"Error at decimal 1\", \n",
    "                    \"Error at decimal 2\", \n",
    "                    \"Error at decimal 3\", \n",
    "                    \"Error at decimal 4\", \n",
    "                    \"Error at decimal 5\", \n",
    "                    \"Error at decimal 6\",\n",
    "                    \"Error at decimal 7\"\n",
    "                    ])\n",
    "\n",
    "plt.show ()"
   ]
  },
  {
   "cell_type": "code",
   "execution_count": null,
   "metadata": {},
   "outputs": [],
   "source": []
  },
  {
   "cell_type": "code",
   "execution_count": null,
   "metadata": {},
   "outputs": [],
   "source": []
  }
 ],
 "metadata": {
  "kernelspec": {
   "display_name": "base",
   "language": "python",
   "name": "python3"
  },
  "language_info": {
   "codemirror_mode": {
    "name": "ipython",
    "version": 3
   },
   "file_extension": ".py",
   "mimetype": "text/x-python",
   "name": "python",
   "nbconvert_exporter": "python",
   "pygments_lexer": "ipython3",
   "version": "3.9.13"
  },
  "orig_nbformat": 4,
  "vscode": {
   "interpreter": {
    "hash": "40d3a090f54c6569ab1632332b64b2c03c39dcf918b08424e98f38b5ae0af88f"
   }
  }
 },
 "nbformat": 4,
 "nbformat_minor": 2
}
