{
 "cells": [
  {
   "attachments": {},
   "cell_type": "markdown",
   "metadata": {},
   "source": [
    "## Analysis of datasets + stats for compressing with FPDE\n",
    "This notebook contains methods for passing a .shp-file (or directory) and obtaining stats for the FPDE properties of the compression. Stats include the number of chunks, number of deltas within each chunk, average number of vertices, and a distribution of the overhead within the format."
   ]
  },
  {
   "attachments": {},
   "cell_type": "markdown",
   "metadata": {},
   "source": [
    "## Evaluating one shape-file\n",
    "The methods take one .shp-file and return the stats. Multiple calls can be merged further done if a set of .shp-files are to be analysed."
   ]
  },
  {
   "cell_type": "code",
   "execution_count": 5,
   "metadata": {},
   "outputs": [],
   "source": [
    "import jsonlines\n",
    "import glob\n",
    "import osmnx as ox\n",
    "import matplotlib.pyplot as plt\n",
    "import pandas as pd\n",
    "import geopandas as gpd\n",
    "import folium\n",
    "import tqdm\n",
    "import shapely\n",
    "import random\n",
    "import os\n",
    "from shapely.wkt import loads\n",
    "from algos.fpd_extended_lib.cfg import *\n",
    "import numpy as np\n",
    "import re\n",
    "import seaborn as sns\n",
    "from algos.alg_fpd_extended import FpdExtended"
   ]
  },
  {
   "cell_type": "code",
   "execution_count": 6,
   "metadata": {},
   "outputs": [],
   "source": [
    "#df = gpd.read_file('data/ne_10m_admin_1_states_provinces.shp')\n",
    "#df = gpd.read_file('data/sweden-latest-free/gis_osm_buildings_a_free_1.shp')\n",
    "#df = gpd.read_file('data/sweden-latest-free/gis_osm_natural_a_free_1.shp')\n",
    "MAX_ITER = 100000\n",
    "\n",
    "def load_shp(file_name, DO_VERTEX_CNT, accumulative=False):\n",
    "    df = gpd.read_file(file_name)\n",
    "    print(\"Count of entries:\", len(df))\n",
    "    df = df[df.type != \"Point\"]\n",
    "    print(\"---\", file_name, \"---\")\n",
    "    print(\"Count of entries (no points):\", len(df))\n",
    "    if len(df) == 0:\n",
    "        return pd.DataFrame(), []\n",
    "    shapes = df.geometry\n",
    "    if MAX_ITER != -1 and not accumulative:\n",
    "        shapes = shapes.sample(n=MAX_ITER, replace=True)\n",
    "\n",
    "    vertex_cnt = []\n",
    "    if DO_VERTEX_CNT:\n",
    "        for s in tqdm.tqdm(shapes):\n",
    "            vertex_cnt.append(shapely.get_num_coordinates(s))\n",
    "\n",
    "        vertex_cnt = np.array(vertex_cnt)\n",
    "        if len(vertex_cnt) != 0:\n",
    "            res = f\"Total: {len(vertex_cnt)}, avg: {round(np.average(vertex_cnt), 2)}, std: {round(np.std(vertex_cnt), 2)}, median: {np.median(vertex_cnt)}, min: {np.min(vertex_cnt)}, max: {np.max(vertex_cnt)}, #>=25: {(vertex_cnt >= 25).sum()} ({round(100 * (vertex_cnt >= 25).sum() / len(vertex_cnt), 2)}), #>=100: {(vertex_cnt >= 100).sum()} ({round(100 * (vertex_cnt >= 100).sum() / len(vertex_cnt), 2)}), #>=200: {(vertex_cnt >= 200).sum()} ({round(100 * (vertex_cnt >= 200).sum() / len(vertex_cnt), 2)}), #>=500: {(vertex_cnt >= 500).sum()} ({round(100 * (vertex_cnt >= 500).sum() / len(vertex_cnt), 2)}), #>=1000: {(vertex_cnt >= 1000).sum()} ({round(100 * (vertex_cnt >= 1000).sum() / len(vertex_cnt), 2)})\"\n",
    "            print(res)\n",
    "            with open('vertex_cnt_for_datasets.txt', 'a') as f:\n",
    "                f.write(f\"{file_name}\\n{res}\\n\\n\")\n",
    "        else:\n",
    "            print(\"No geometries (except Point(s)) in dataset.\")\n",
    "    return shapes, vertex_cnt"
   ]
  },
  {
   "cell_type": "code",
   "execution_count": 7,
   "metadata": {},
   "outputs": [],
   "source": [
    "from algos.fpd_extended_lib.decompress import decode_header\n",
    "from algos.fpd_extended_lib import cfg\n",
    "\n",
    "def fpde_analyze(shapes, collected_stats=None):\n",
    "    stats = pd.DataFrame(columns=[\"No Comp Size\", \"Comp Size\", \"Comp Factor\", \"Delta Size\", \"Vertex Cnt\", \"Chunk Cnt\", \"Avg Vertices in Chk\", \"Std Vertices in Chk\", \"Median Vertices in Chk\", \"Min Vertices in Chk\", \"Max Vertices in Chk\"])\n",
    "    stats_distribution = pd.DataFrame()\n",
    "    stats_max_values = pd.DataFrame()\n",
    "    if collected_stats != None:\n",
    "        stats, stats_distribution, stats_max_values = collected_stats\n",
    "    alg = FpdExtended()\n",
    "\n",
    "    for idx, s in enumerate(tqdm.tqdm(shapes)):\n",
    "        bin = alg.compress(s)[1]\n",
    "        wkb_len = len(shapely.to_wkb(s))\n",
    "        bin_len = len(bin)\n",
    "        coords_len = shapely.get_num_coordinates(s)\n",
    "\n",
    "        chks, _, overhead_stats = alg.get_chunks(bin, include_ring_start=False, verbose=True)\n",
    "        cfg.offset = 0\n",
    "        d_size, geom_type = decode_header(bin)\n",
    "        chk_cnt = len(chks)\n",
    "        chk_lens = list(map(lambda x: len(x), chks))\n",
    "\n",
    "        stats.loc[len(stats)] = [wkb_len, bin_len, wkb_len / bin_len, d_size, coords_len, chk_cnt, np.average(chk_lens), np.std(chk_lens), np.median(chk_lens), np.min(chk_lens), np.max(chk_lens)]\n",
    "\n",
    "        # Analysis of space\n",
    "        max_values, distrb = overhead_stats\n",
    "        theoretical_size = sum(distrb.values())\n",
    "        distrb = pd.DataFrame(distrb, index=[idx])\n",
    "        stats_distribution = pd.concat([stats_distribution, distrb])\n",
    "        stats_max_values = pd.concat([stats_max_values, pd.DataFrame(max_values, index=[idx])])\n",
    "\n",
    "        DISPLAY_PER_SHAPE_STATS = False\n",
    "        if DISPLAY_PER_SHAPE_STATS:\n",
    "            display(distrb)\n",
    "            print(\"Size (calculated, rounded to byte, real):\", theoretical_size, f\"({((theoretical_size + 7) & (-8))})\", bin_len * 8)\n",
    "            print(\"Max Values:\", dict(max_values))\n",
    "\n",
    "    print(\"---- AVERAGE COMPRESSED SHAPE ----\")\n",
    "    pd.set_option('display.precision', 2)\n",
    "    display(stats.mean())\n",
    "    print(\"Global: Min Vertices in Chk / Max Vertices in Chk\", np.min(stats['Min Vertices in Chk']), np.max(stats['Max Vertices in Chk']))\n",
    "\n",
    "    print(\"---- DATA DISTRIBUTION ----\")\n",
    "    final_distribution = stats_distribution.mean()\n",
    "    display(final_distribution)\n",
    "    normalized_distribution = final_distribution.apply(lambda x: 100 * x / sum(final_distribution))\n",
    "    display(normalized_distribution)\n",
    "\n",
    "    print(\"---- TO SET MANUAL PARAMS ----\")\n",
    "    final_max_values = stats_max_values.max()\n",
    "    min_bits = final_max_values.apply(lambda x: required_bits(x))\n",
    "    min_bits = min_bits.add_prefix(\"Bits \")\n",
    "    display(pd.concat([final_max_values, min_bits]))\n",
    "    return stats, stats_distribution, stats_max_values, normalized_distribution"
   ]
  },
  {
   "cell_type": "code",
   "execution_count": 8,
   "metadata": {},
   "outputs": [
    {
     "name": "stdout",
     "output_type": "stream",
     "text": [
      "Count of entries: 2827275\n",
      "--- data/sweden-latest-free/gis_osm_buildings_a_free_1.shp ---\n",
      "Count of entries (no points): 2827275\n"
     ]
    },
    {
     "name": "stderr",
     "output_type": "stream",
     "text": [
      "100%|██████████| 100000/100000 [09:20<00:00, 178.54it/s]"
     ]
    },
    {
     "name": "stdout",
     "output_type": "stream",
     "text": [
      "---- AVERAGE COMPRESSED SHAPE ----\n"
     ]
    },
    {
     "name": "stderr",
     "output_type": "stream",
     "text": [
      "\n"
     ]
    },
    {
     "data": {
      "text/plain": [
       "No Comp Size              113.73\n",
       "Comp Size                  64.38\n",
       "Comp Factor                 1.72\n",
       "Delta Size                 12.25\n",
       "Vertex Cnt                  6.29\n",
       "Chunk Cnt                   1.01\n",
       "Avg Vertices in Chk         5.23\n",
       "Std Vertices in Chk         0.02\n",
       "Median Vertices in Chk      5.23\n",
       "Min Vertices in Chk         5.21\n",
       "Max Vertices in Chk         5.26\n",
       "dtype: float64"
      ]
     },
     "metadata": {},
     "output_type": "display_data"
    },
    {
     "name": "stdout",
     "output_type": "stream",
     "text": [
      "Global: Min Vertices in Chk / Max Vertices in Chk 1.0 113.0\n",
      "---- DATA DISTRIBUTION ----\n"
     ]
    },
    {
     "data": {
      "text/plain": [
       "Global Header Bitsize       1.60e+01\n",
       "Bounding Box Bitsize        1.28e+02\n",
       "Intersection Bitsize        1.61e+02\n",
       "Poly Ring Cnt Bitsize       1.20e-03\n",
       "Ring Chk Cnt Bitsize        1.50e+01\n",
       "Chk Deltas Cnt Bitsize      2.01e+01\n",
       "Full Coordinates Bitsize    6.43e+01\n",
       "Deltas Bitsize              1.06e+02\n",
       "dtype: float64"
      ]
     },
     "metadata": {},
     "output_type": "display_data"
    },
    {
     "data": {
      "text/plain": [
       "Global Header Bitsize       3.14e+00\n",
       "Bounding Box Bitsize        2.51e+01\n",
       "Intersection Bitsize        3.15e+01\n",
       "Poly Ring Cnt Bitsize       2.35e-04\n",
       "Ring Chk Cnt Bitsize        2.95e+00\n",
       "Chk Deltas Cnt Bitsize      3.94e+00\n",
       "Full Coordinates Bitsize    1.26e+01\n",
       "Deltas Bitsize              2.08e+01\n",
       "dtype: float64"
      ]
     },
     "metadata": {},
     "output_type": "display_data"
    },
    {
     "name": "stdout",
     "output_type": "stream",
     "text": [
      "---- TO SET MANUAL PARAMS ----\n"
     ]
    },
    {
     "data": {
      "text/plain": [
       "Poly Ring Cnt Max            1\n",
       "Ring Chk Cnt Max            11\n",
       "Chk Deltas Cnt Max         112\n",
       "Bits Poly Ring Cnt Max       2\n",
       "Bits Ring Chk Cnt Max        4\n",
       "Bits Chk Deltas Cnt Max      7\n",
       "dtype: int64"
      ]
     },
     "metadata": {},
     "output_type": "display_data"
    },
    {
     "name": "stdout",
     "output_type": "stream",
     "text": [
      "Count of entries: 1904260\n",
      "--- data/sweden-latest-free/gis_osm_roads_free_1.shp ---\n",
      "Count of entries (no points): 1904260\n"
     ]
    },
    {
     "name": "stderr",
     "output_type": "stream",
     "text": [
      "100%|██████████| 100000/100000 [10:14<00:00, 162.86it/s]"
     ]
    },
    {
     "name": "stdout",
     "output_type": "stream",
     "text": [
      "---- AVERAGE COMPRESSED SHAPE ----\n"
     ]
    },
    {
     "name": "stderr",
     "output_type": "stream",
     "text": [
      "\n"
     ]
    },
    {
     "data": {
      "text/plain": [
       "No Comp Size              211.93\n",
       "Comp Size                  92.32\n",
       "Comp Factor                 1.78\n",
       "Delta Size                 13.73\n",
       "Vertex Cnt                 12.68\n",
       "Chunk Cnt                   1.08\n",
       "Avg Vertices in Chk        10.74\n",
       "Std Vertices in Chk         0.79\n",
       "Median Vertices in Chk     10.62\n",
       "Min Vertices in Chk         9.99\n",
       "Max Vertices in Chk        11.72\n",
       "dtype: float64"
      ]
     },
     "metadata": {},
     "output_type": "display_data"
    },
    {
     "name": "stdout",
     "output_type": "stream",
     "text": [
      "Global: Min Vertices in Chk / Max Vertices in Chk 1.0 498.0\n",
      "---- DATA DISTRIBUTION ----\n"
     ]
    },
    {
     "data": {
      "text/plain": [
       "Global Header Bitsize        16.00\n",
       "Bounding Box Bitsize        128.00\n",
       "Intersection Bitsize        169.68\n",
       "Poly Ring Cnt Bitsize         0.00\n",
       "Ring Chk Cnt Bitsize          0.00\n",
       "Chk Deltas Cnt Bitsize       21.51\n",
       "Full Coordinates Bitsize     68.84\n",
       "Deltas Bitsize              331.70\n",
       "dtype: float64"
      ]
     },
     "metadata": {},
     "output_type": "display_data"
    },
    {
     "data": {
      "text/plain": [
       "Global Header Bitsize        2.17\n",
       "Bounding Box Bitsize        17.40\n",
       "Intersection Bitsize        23.06\n",
       "Poly Ring Cnt Bitsize        0.00\n",
       "Ring Chk Cnt Bitsize         0.00\n",
       "Chk Deltas Cnt Bitsize       2.92\n",
       "Full Coordinates Bitsize     9.36\n",
       "Deltas Bitsize              45.08\n",
       "dtype: float64"
      ]
     },
     "metadata": {},
     "output_type": "display_data"
    },
    {
     "name": "stdout",
     "output_type": "stream",
     "text": [
      "---- TO SET MANUAL PARAMS ----\n"
     ]
    },
    {
     "data": {
      "text/plain": [
       "Poly Ring Cnt Max            0\n",
       "Ring Chk Cnt Max             0\n",
       "Chk Deltas Cnt Max         497\n",
       "Bits Poly Ring Cnt Max       1\n",
       "Bits Ring Chk Cnt Max        1\n",
       "Bits Chk Deltas Cnt Max      9\n",
       "dtype: int64"
      ]
     },
     "metadata": {},
     "output_type": "display_data"
    },
    {
     "name": "stdout",
     "output_type": "stream",
     "text": [
      "Count of entries: 366881\n",
      "--- data/china-latest-free/gis_osm_water_a_free_1.shp ---\n",
      "Count of entries (no points): 366881\n"
     ]
    },
    {
     "name": "stderr",
     "output_type": "stream",
     "text": [
      "100%|██████████| 100000/100000 [12:28<00:00, 133.67it/s]"
     ]
    },
    {
     "name": "stdout",
     "output_type": "stream",
     "text": [
      "---- AVERAGE COMPRESSED SHAPE ----\n"
     ]
    },
    {
     "name": "stderr",
     "output_type": "stream",
     "text": [
      "\n"
     ]
    },
    {
     "data": {
      "text/plain": [
       "No Comp Size              949.53\n",
       "Comp Size                 274.06\n",
       "Comp Factor                 2.80\n",
       "Delta Size                 14.17\n",
       "Vertex Cnt                 58.49\n",
       "Chunk Cnt                   1.89\n",
       "Avg Vertices in Chk        24.10\n",
       "Std Vertices in Chk         5.27\n",
       "Median Vertices in Chk     22.78\n",
       "Min Vertices in Chk        19.51\n",
       "Max Vertices in Chk        34.15\n",
       "dtype: float64"
      ]
     },
     "metadata": {},
     "output_type": "display_data"
    },
    {
     "name": "stdout",
     "output_type": "stream",
     "text": [
      "Global: Min Vertices in Chk / Max Vertices in Chk 1.0 7699.0\n",
      "---- DATA DISTRIBUTION ----\n"
     ]
    },
    {
     "data": {
      "text/plain": [
       "Global Header Bitsize         16.00\n",
       "Bounding Box Bitsize         128.00\n",
       "Intersection Bitsize         274.23\n",
       "Poly Ring Cnt Bitsize          0.14\n",
       "Ring Chk Cnt Bitsize          17.05\n",
       "Chk Deltas Cnt Bitsize        37.85\n",
       "Full Coordinates Bitsize     121.11\n",
       "Deltas Bitsize              1594.39\n",
       "dtype: float64"
      ]
     },
     "metadata": {},
     "output_type": "display_data"
    },
    {
     "data": {
      "text/plain": [
       "Global Header Bitsize       7.31e-01\n",
       "Bounding Box Bitsize        5.85e+00\n",
       "Intersection Bitsize        1.25e+01\n",
       "Poly Ring Cnt Bitsize       6.53e-03\n",
       "Ring Chk Cnt Bitsize        7.79e-01\n",
       "Chk Deltas Cnt Bitsize      1.73e+00\n",
       "Full Coordinates Bitsize    5.53e+00\n",
       "Deltas Bitsize              7.28e+01\n",
       "dtype: float64"
      ]
     },
     "metadata": {},
     "output_type": "display_data"
    },
    {
     "name": "stdout",
     "output_type": "stream",
     "text": [
      "---- TO SET MANUAL PARAMS ----\n"
     ]
    },
    {
     "data": {
      "text/plain": [
       "Poly Ring Cnt Max           123\n",
       "Ring Chk Cnt Max           2264\n",
       "Chk Deltas Cnt Max         7698\n",
       "Bits Poly Ring Cnt Max        7\n",
       "Bits Ring Chk Cnt Max        12\n",
       "Bits Chk Deltas Cnt Max      13\n",
       "dtype: int64"
      ]
     },
     "metadata": {},
     "output_type": "display_data"
    },
    {
     "name": "stdout",
     "output_type": "stream",
     "text": [
      "Count of entries: 4596\n",
      "--- data/ne_10m_admin_1_states_provinces.shp ---\n",
      "Count of entries (no points): 4596\n"
     ]
    },
    {
     "name": "stderr",
     "output_type": "stream",
     "text": [
      "100%|██████████| 100000/100000 [20:58<00:00, 79.43it/s]"
     ]
    },
    {
     "name": "stdout",
     "output_type": "stream",
     "text": [
      "---- AVERAGE COMPRESSED SHAPE ----\n"
     ]
    },
    {
     "name": "stderr",
     "output_type": "stream",
     "text": [
      "\n"
     ]
    },
    {
     "data": {
      "text/plain": [
       "No Comp Size              4537.15\n",
       "Comp Size                 1700.52\n",
       "Comp Factor                  2.59\n",
       "Delta Size                  20.54\n",
       "Vertex Cnt                 281.98\n",
       "Chunk Cnt                   10.27\n",
       "Avg Vertices in Chk         38.21\n",
       "Std Vertices in Chk         24.88\n",
       "Median Vertices in Chk      30.31\n",
       "Min Vertices in Chk         18.32\n",
       "Max Vertices in Chk         99.47\n",
       "dtype: float64"
      ]
     },
     "metadata": {},
     "output_type": "display_data"
    },
    {
     "name": "stdout",
     "output_type": "stream",
     "text": [
      "Global: Min Vertices in Chk / Max Vertices in Chk 1.0 15952.0\n",
      "---- DATA DISTRIBUTION ----\n"
     ]
    },
    {
     "data": {
      "text/plain": [
       "Global Header Bitsize          16.00\n",
       "Bounding Box Bitsize          128.00\n",
       "Intersection Bitsize         1345.98\n",
       "Poly Ring Cnt Bitsize           9.90\n",
       "Ring Chk Cnt Bitsize           28.12\n",
       "Chk Deltas Cnt Bitsize        205.31\n",
       "Full Coordinates Bitsize      656.99\n",
       "Deltas Bitsize              11210.25\n",
       "dtype: float64"
      ]
     },
     "metadata": {},
     "output_type": "display_data"
    },
    {
     "data": {
      "text/plain": [
       "Global Header Bitsize        0.12\n",
       "Bounding Box Bitsize         0.94\n",
       "Intersection Bitsize         9.90\n",
       "Poly Ring Cnt Bitsize        0.07\n",
       "Ring Chk Cnt Bitsize         0.21\n",
       "Chk Deltas Cnt Bitsize       1.51\n",
       "Full Coordinates Bitsize     4.83\n",
       "Deltas Bitsize              82.43\n",
       "dtype: float64"
      ]
     },
     "metadata": {},
     "output_type": "display_data"
    },
    {
     "name": "stdout",
     "output_type": "stream",
     "text": [
      "---- TO SET MANUAL PARAMS ----\n"
     ]
    },
    {
     "data": {
      "text/plain": [
       "Poly Ring Cnt Max              3\n",
       "Ring Chk Cnt Max             591\n",
       "Chk Deltas Cnt Max         15951\n",
       "Bits Poly Ring Cnt Max         3\n",
       "Bits Ring Chk Cnt Max         10\n",
       "Bits Chk Deltas Cnt Max       14\n",
       "dtype: int64"
      ]
     },
     "metadata": {},
     "output_type": "display_data"
    }
   ],
   "source": [
    "DATASET = 'data/sweden-latest-free/gis_osm_railways_free_1.shp'\n",
    "DATASET = 'data/sweden-latest-free'\n",
    "#DATASET = 'data/sweden-latest-free/gis_osm_natural_free_1.shp'\n",
    "#DATASET = \"data/sweden-latest-free/gis_osm_buildings_a_free_1.shp\"\n",
    "#DATASET = \"data/sweden-latest-free/gis_osm_roads_free_1.shp\"\n",
    "#DATASET = 'data/ne_10m_admin_1_states_provinces.shp'\n",
    "ONLY_VERTEX_CNT = False # Can be used if only the amount of vertices in the dataset is required\n",
    "\n",
    "if DATASET.endswith(\".shp\"):\n",
    "    files = [DATASET]\n",
    "else:\n",
    "    files = glob.glob(DATASET + '/*.shp')\n",
    "files = [\"data/sweden-latest-free/gis_osm_buildings_a_free_1.shp\", \"data/sweden-latest-free/gis_osm_roads_free_1.shp\", \"data/china-latest-free/gis_osm_water_a_free_1.shp\", \"data/ne_10m_admin_1_states_provinces.shp\"]\n",
    "#files = [\"data/sweden-latest-free/gis_osm_railways_free_1.shp\", \"data/ne_10m_admin_1_states_provinces.shp\"]\n",
    "#files = ['QGIS/Report_Visualizations.shp', 'QGIS/Intersection_Tricky_Cases.shp']\n",
    "#files = [\"data/sweden-latest-free/gis_osm_pois_free_1.shp\", \"QGIS/Report_Visualizations.shp\"]\n",
    "\n",
    "legends = [\"Sweden Buildings\", \"Sweden Roads\", \"China Water\", \"Country Borders\"]\n",
    "\n",
    "all_vertex_cnts = []\n",
    "stats = pd.DataFrame()\n",
    "collected_stats = None\n",
    "all_shapes = []\n",
    "ACCUMULATE_STATS = False # Should separate .shp-files be merged?\n",
    "ACCUMULATE_NAME = \"Sweden All\"\n",
    "\n",
    "for i, f in enumerate(tqdm.tqdm(files, disable=True)):\n",
    "    shapes, vertex_cnt = load_shp(f, ONLY_VERTEX_CNT or ACCUMULATE_STATS, ACCUMULATE_STATS)\n",
    "    all_shapes.append(shapes)\n",
    "    all_vertex_cnts.append([f, vertex_cnt])\n",
    "    if not ONLY_VERTEX_CNT and not ACCUMULATE_STATS:\n",
    "        stats_chunks, stats_distribution, stats_max_values, normalized_distribution = fpde_analyze(shapes)\n",
    "        df = pd.DataFrame(normalized_distribution, columns=['Percent'])\n",
    "        df['Dataset'] = legends[i] if not ACCUMULATE_STATS else ACCUMULATE_NAME\n",
    "        stats = pd.concat([stats, df])\n",
    "\n",
    "# Now know how to weight the sampling\n",
    "if not ONLY_VERTEX_CNT and ACCUMULATE_STATS:\n",
    "    for i, f in enumerate(tqdm.tqdm(files, disable=True)):\n",
    "        shapes = all_shapes[i].sample(n=int(MAX_ITER * len(all_vertex_cnts[i][1]) / sum([len(cnt[1]) for cnt in all_vertex_cnts])), replace=True)\n",
    "        stats_chunks, stats_distribution, stats_max_values, normalized_distribution = fpde_analyze(shapes, collected_stats)\n",
    "        collected_stats = stats_chunks, stats_distribution, stats_max_values\n",
    "    df = pd.DataFrame(normalized_distribution, columns=['Percent'])\n",
    "    df['Dataset'] = ACCUMULATE_NAME\n",
    "    stats = pd.concat([stats, df])"
   ]
  },
  {
   "cell_type": "code",
   "execution_count": 150,
   "metadata": {},
   "outputs": [],
   "source": [
    "import pickle\n",
    "# with open('data/sweden_all_fpde_analysis_overhead.pkl', 'wb') as f:\n",
    "#     pickle.dump(stats, f)\n",
    "\n",
    "# import pickle\n",
    "# with open('data/fpde_analysis_overhead.pkl', 'wb') as f:\n",
    "#     pickle.dump(stats, f)\n",
    "\n",
    "with open('data/sweden_all_fpde_analysis_overhead.pkl', 'rb') as f:\n",
    "    stats_sweden = pickle.load(f)\n",
    "\n",
    "with open('data/fpde_analysis_overhead.pkl', 'rb') as f:\n",
    "    stats = pickle.load(f)"
   ]
  },
  {
   "cell_type": "code",
   "execution_count": 151,
   "metadata": {},
   "outputs": [],
   "source": [
    "stats = pd.concat([stats.iloc[:16], stats_sweden, stats.iloc[16:]], axis=0)"
   ]
  },
  {
   "cell_type": "code",
   "execution_count": 152,
   "metadata": {},
   "outputs": [
    {
     "data": {
      "image/png": "[encoded data removed]",
      "text/plain": [
       "<Figure size 775x400 with 1 Axes>"
      ]
     },
     "metadata": {},
     "output_type": "display_data"
    },
    {
     "data": {
      "text/html": [
       "<div>\n",
       "<style scoped>\n",
       "    .dataframe tbody tr th:only-of-type {\n",
       "        vertical-align: middle;\n",
       "    }\n",
       "\n",
       "    .dataframe tbody tr th {\n",
       "        vertical-align: top;\n",
       "    }\n",
       "\n",
       "    .dataframe thead th {\n",
       "        text-align: right;\n",
       "    }\n",
       "</style>\n",
       "<table border=\"1\" class=\"dataframe\">\n",
       "  <thead>\n",
       "    <tr style=\"text-align: right;\">\n",
       "      <th></th>\n",
       "      <th>Type</th>\n",
       "      <th>Percent</th>\n",
       "      <th>Dataset</th>\n",
       "    </tr>\n",
       "  </thead>\n",
       "  <tbody>\n",
       "    <tr>\n",
       "      <th>0</th>\n",
       "      <td>Global Header</td>\n",
       "      <td>3.04e+00</td>\n",
       "      <td>Sweden Buildings</td>\n",
       "    </tr>\n",
       "    <tr>\n",
       "      <th>1</th>\n",
       "      <td>Bounding Box</td>\n",
       "      <td>2.43e+01</td>\n",
       "      <td>Sweden Buildings</td>\n",
       "    </tr>\n",
       "    <tr>\n",
       "      <th>2</th>\n",
       "      <td>Intersection</td>\n",
       "      <td>3.05e+01</td>\n",
       "      <td>Sweden Buildings</td>\n",
       "    </tr>\n",
       "    <tr>\n",
       "      <th>3</th>\n",
       "      <td># Rings/Poly</td>\n",
       "      <td>2.51e-04</td>\n",
       "      <td>Sweden Buildings</td>\n",
       "    </tr>\n",
       "    <tr>\n",
       "      <th>4</th>\n",
       "      <td># Chunks/Ring</td>\n",
       "      <td>5.72e+00</td>\n",
       "      <td>Sweden Buildings</td>\n",
       "    </tr>\n",
       "    <tr>\n",
       "      <th>5</th>\n",
       "      <td># Deltas/Chunk</td>\n",
       "      <td>3.82e+00</td>\n",
       "      <td>Sweden Buildings</td>\n",
       "    </tr>\n",
       "    <tr>\n",
       "      <th>6</th>\n",
       "      <td>Full Coordinates</td>\n",
       "      <td>1.22e+01</td>\n",
       "      <td>Sweden Buildings</td>\n",
       "    </tr>\n",
       "    <tr>\n",
       "      <th>7</th>\n",
       "      <td>Deltas</td>\n",
       "      <td>2.03e+01</td>\n",
       "      <td>Sweden Buildings</td>\n",
       "    </tr>\n",
       "    <tr>\n",
       "      <th>8</th>\n",
       "      <td>Global Header</td>\n",
       "      <td>2.17e+00</td>\n",
       "      <td>Sweden Roads</td>\n",
       "    </tr>\n",
       "    <tr>\n",
       "      <th>9</th>\n",
       "      <td>Bounding Box</td>\n",
       "      <td>1.74e+01</td>\n",
       "      <td>Sweden Roads</td>\n",
       "    </tr>\n",
       "    <tr>\n",
       "      <th>10</th>\n",
       "      <td>Intersection</td>\n",
       "      <td>2.30e+01</td>\n",
       "      <td>Sweden Roads</td>\n",
       "    </tr>\n",
       "    <tr>\n",
       "      <th>11</th>\n",
       "      <td># Rings/Poly</td>\n",
       "      <td>0.00e+00</td>\n",
       "      <td>Sweden Roads</td>\n",
       "    </tr>\n",
       "    <tr>\n",
       "      <th>12</th>\n",
       "      <td># Chunks/Ring</td>\n",
       "      <td>0.00e+00</td>\n",
       "      <td>Sweden Roads</td>\n",
       "    </tr>\n",
       "    <tr>\n",
       "      <th>13</th>\n",
       "      <td># Deltas/Chunk</td>\n",
       "      <td>2.92e+00</td>\n",
       "      <td>Sweden Roads</td>\n",
       "    </tr>\n",
       "    <tr>\n",
       "      <th>14</th>\n",
       "      <td>Full Coordinates</td>\n",
       "      <td>9.35e+00</td>\n",
       "      <td>Sweden Roads</td>\n",
       "    </tr>\n",
       "    <tr>\n",
       "      <th>15</th>\n",
       "      <td>Deltas</td>\n",
       "      <td>4.51e+01</td>\n",
       "      <td>Sweden Roads</td>\n",
       "    </tr>\n",
       "    <tr>\n",
       "      <th>16</th>\n",
       "      <td>Global Header</td>\n",
       "      <td>1.83e+00</td>\n",
       "      <td>Sweden All</td>\n",
       "    </tr>\n",
       "    <tr>\n",
       "      <th>17</th>\n",
       "      <td>Bounding Box</td>\n",
       "      <td>1.46e+01</td>\n",
       "      <td>Sweden All</td>\n",
       "    </tr>\n",
       "    <tr>\n",
       "      <th>18</th>\n",
       "      <td>Intersection</td>\n",
       "      <td>2.15e+01</td>\n",
       "      <td>Sweden All</td>\n",
       "    </tr>\n",
       "    <tr>\n",
       "      <th>19</th>\n",
       "      <td># Rings/Poly</td>\n",
       "      <td>4.67e-03</td>\n",
       "      <td>Sweden All</td>\n",
       "    </tr>\n",
       "    <tr>\n",
       "      <th>20</th>\n",
       "      <td># Chunks/Ring</td>\n",
       "      <td>2.54e+00</td>\n",
       "      <td>Sweden All</td>\n",
       "    </tr>\n",
       "    <tr>\n",
       "      <th>21</th>\n",
       "      <td># Deltas/Chunk</td>\n",
       "      <td>2.78e+00</td>\n",
       "      <td>Sweden All</td>\n",
       "    </tr>\n",
       "    <tr>\n",
       "      <th>22</th>\n",
       "      <td>Full Coordinates</td>\n",
       "      <td>8.91e+00</td>\n",
       "      <td>Sweden All</td>\n",
       "    </tr>\n",
       "    <tr>\n",
       "      <th>23</th>\n",
       "      <td>Deltas</td>\n",
       "      <td>4.78e+01</td>\n",
       "      <td>Sweden All</td>\n",
       "    </tr>\n",
       "    <tr>\n",
       "      <th>24</th>\n",
       "      <td>Global Header</td>\n",
       "      <td>7.15e-01</td>\n",
       "      <td>China Water</td>\n",
       "    </tr>\n",
       "    <tr>\n",
       "      <th>25</th>\n",
       "      <td>Bounding Box</td>\n",
       "      <td>5.72e+00</td>\n",
       "      <td>China Water</td>\n",
       "    </tr>\n",
       "    <tr>\n",
       "      <th>26</th>\n",
       "      <td>Intersection</td>\n",
       "      <td>1.24e+01</td>\n",
       "      <td>China Water</td>\n",
       "    </tr>\n",
       "    <tr>\n",
       "      <th>27</th>\n",
       "      <td># Rings/Poly</td>\n",
       "      <td>7.76e-03</td>\n",
       "      <td>China Water</td>\n",
       "    </tr>\n",
       "    <tr>\n",
       "      <th>28</th>\n",
       "      <td># Chunks/Ring</td>\n",
       "      <td>1.53e+00</td>\n",
       "      <td>China Water</td>\n",
       "    </tr>\n",
       "    <tr>\n",
       "      <th>29</th>\n",
       "      <td># Deltas/Chunk</td>\n",
       "      <td>1.71e+00</td>\n",
       "      <td>China Water</td>\n",
       "    </tr>\n",
       "    <tr>\n",
       "      <th>30</th>\n",
       "      <td>Full Coordinates</td>\n",
       "      <td>5.47e+00</td>\n",
       "      <td>China Water</td>\n",
       "    </tr>\n",
       "    <tr>\n",
       "      <th>31</th>\n",
       "      <td>Deltas</td>\n",
       "      <td>7.25e+01</td>\n",
       "      <td>China Water</td>\n",
       "    </tr>\n",
       "    <tr>\n",
       "      <th>32</th>\n",
       "      <td>Global Header</td>\n",
       "      <td>1.19e-01</td>\n",
       "      <td>Country Borders</td>\n",
       "    </tr>\n",
       "    <tr>\n",
       "      <th>33</th>\n",
       "      <td>Bounding Box</td>\n",
       "      <td>9.52e-01</td>\n",
       "      <td>Country Borders</td>\n",
       "    </tr>\n",
       "    <tr>\n",
       "      <th>34</th>\n",
       "      <td>Intersection</td>\n",
       "      <td>9.77e+00</td>\n",
       "      <td>Country Borders</td>\n",
       "    </tr>\n",
       "    <tr>\n",
       "      <th>35</th>\n",
       "      <td># Rings/Poly</td>\n",
       "      <td>8.74e-02</td>\n",
       "      <td>Country Borders</td>\n",
       "    </tr>\n",
       "    <tr>\n",
       "      <th>36</th>\n",
       "      <td># Chunks/Ring</td>\n",
       "      <td>4.15e-01</td>\n",
       "      <td>Country Borders</td>\n",
       "    </tr>\n",
       "    <tr>\n",
       "      <th>37</th>\n",
       "      <td># Deltas/Chunk</td>\n",
       "      <td>1.49e+00</td>\n",
       "      <td>Country Borders</td>\n",
       "    </tr>\n",
       "    <tr>\n",
       "      <th>38</th>\n",
       "      <td>Full Coordinates</td>\n",
       "      <td>4.77e+00</td>\n",
       "      <td>Country Borders</td>\n",
       "    </tr>\n",
       "    <tr>\n",
       "      <th>39</th>\n",
       "      <td>Deltas</td>\n",
       "      <td>8.24e+01</td>\n",
       "      <td>Country Borders</td>\n",
       "    </tr>\n",
       "  </tbody>\n",
       "</table>\n",
       "</div>"
      ],
      "text/plain": [
       "                Type   Percent           Dataset\n",
       "0      Global Header  3.04e+00  Sweden Buildings\n",
       "1       Bounding Box  2.43e+01  Sweden Buildings\n",
       "2       Intersection  3.05e+01  Sweden Buildings\n",
       "3       # Rings/Poly  2.51e-04  Sweden Buildings\n",
       "4      # Chunks/Ring  5.72e+00  Sweden Buildings\n",
       "5     # Deltas/Chunk  3.82e+00  Sweden Buildings\n",
       "6   Full Coordinates  1.22e+01  Sweden Buildings\n",
       "7             Deltas  2.03e+01  Sweden Buildings\n",
       "8      Global Header  2.17e+00      Sweden Roads\n",
       "9       Bounding Box  1.74e+01      Sweden Roads\n",
       "10      Intersection  2.30e+01      Sweden Roads\n",
       "11      # Rings/Poly  0.00e+00      Sweden Roads\n",
       "12     # Chunks/Ring  0.00e+00      Sweden Roads\n",
       "13    # Deltas/Chunk  2.92e+00      Sweden Roads\n",
       "14  Full Coordinates  9.35e+00      Sweden Roads\n",
       "15            Deltas  4.51e+01      Sweden Roads\n",
       "16     Global Header  1.83e+00        Sweden All\n",
       "17      Bounding Box  1.46e+01        Sweden All\n",
       "18      Intersection  2.15e+01        Sweden All\n",
       "19      # Rings/Poly  4.67e-03        Sweden All\n",
       "20     # Chunks/Ring  2.54e+00        Sweden All\n",
       "21    # Deltas/Chunk  2.78e+00        Sweden All\n",
       "22  Full Coordinates  8.91e+00        Sweden All\n",
       "23            Deltas  4.78e+01        Sweden All\n",
       "24     Global Header  7.15e-01       China Water\n",
       "25      Bounding Box  5.72e+00       China Water\n",
       "26      Intersection  1.24e+01       China Water\n",
       "27      # Rings/Poly  7.76e-03       China Water\n",
       "28     # Chunks/Ring  1.53e+00       China Water\n",
       "29    # Deltas/Chunk  1.71e+00       China Water\n",
       "30  Full Coordinates  5.47e+00       China Water\n",
       "31            Deltas  7.25e+01       China Water\n",
       "32     Global Header  1.19e-01   Country Borders\n",
       "33      Bounding Box  9.52e-01   Country Borders\n",
       "34      Intersection  9.77e+00   Country Borders\n",
       "35      # Rings/Poly  8.74e-02   Country Borders\n",
       "36     # Chunks/Ring  4.15e-01   Country Borders\n",
       "37    # Deltas/Chunk  1.49e+00   Country Borders\n",
       "38  Full Coordinates  4.77e+00   Country Borders\n",
       "39            Deltas  8.24e+01   Country Borders"
      ]
     },
     "metadata": {},
     "output_type": "display_data"
    }
   ],
   "source": [
    "df = stats.reset_index()\n",
    "df = df.rename(columns={'index': 'Type'})\n",
    "df['Type'] = df['Type'].apply(lambda x: x[0:-8])\n",
    "df['Type'] = df['Type'].replace('Poly Ring Cnt', '# Rings/Poly')\n",
    "df['Type'] = df['Type'].replace('Ring Chk Cnt', '# Chunks/Ring')\n",
    "df['Type'] = df['Type'].replace('Chk Deltas Cnt', '# Deltas/Chunk')\n",
    "\n",
    "fig, axe = plt.subplots(figsize=(7.75, 4))\n",
    "\n",
    "df_rev = df.groupby('Dataset', sort=False).apply(lambda x: x.iloc[::-1]).reset_index(drop=True)\n",
    "\n",
    "sns.histplot(data=df_rev, y='Dataset', hue='Type', weights='Percent', multiple='stack', ax=axe, legend=False, palette='pastel', shrink=0.9)\n",
    "\n",
    "# Iterate through each dataset\n",
    "for i, dataset in enumerate(df['Dataset'].unique()):\n",
    "    dataset_df = df[df['Dataset'] == dataset]\n",
    "    \n",
    "    # Iterate through each set of containers for the dataset\n",
    "    for j, c in enumerate(axe.containers):\n",
    "        # Get the corresponding values for the bars in the current set of containers\n",
    "        values = dataset_df.iloc[j]['Percent']  # Convert the value to a list\n",
    "        rect = c[i]\n",
    "        height = rect.get_height()\n",
    "        width = rect.get_width()\n",
    "        x = rect.get_x()\n",
    "        y = rect.get_y()\n",
    "\n",
    "        percent_y = -2\n",
    "        if values > 15:\n",
    "            # Add the text label\n",
    "            axe.annotate(df.iloc[j][\"Type\"], xy=(x + width / 2, y + height / 2), xytext=(0, -10),\n",
    "                            textcoords=\"offset points\", ha='center', va='center')\n",
    "            percent_y = 3\n",
    "            \n",
    "        if values > 4:\n",
    "            # Add the value annotation\n",
    "            axe.annotate(f'{values:.0f}%', xy=(x + width / 2, y + height / 2), xytext=(0, percent_y),\n",
    "                            textcoords=\"offset points\", ha='center', va='center')\n",
    "\n",
    "\n",
    "\n",
    "axe.set_xlabel('Percentage of Total Size')\n",
    "\n",
    "\n",
    "# Show the plot\n",
    "plt.legend(df['Type'][:8], bbox_to_anchor=(0.1, 0.975),\n",
    "          ncol=3, fancybox=True, shadow=False)\n",
    "#plt.tight_layout()\n",
    "axe.spines['top'].set_visible(False)\n",
    "axe.spines['right'].set_visible(False)\n",
    "axe.spines['bottom'].set_visible(True)\n",
    "axe.spines['left'].set_visible(True)\n",
    "\n",
    "plt.show()\n",
    "display(df)"
   ]
  },
  {
   "cell_type": "code",
   "execution_count": null,
   "metadata": {},
   "outputs": [],
   "source": [
    "import pickle\n",
    "# with open('data/sweden_all_fpde_analysis.pkl', 'wb') as f:\n",
    "#     pickle.dump(all_vertex_cnts, f)\n",
    "# with open('data/fpde_analysis.pkl', 'wb') as f:\n",
    "#     pickle.dump(all_vertex_cnts, f)\n",
    "\n",
    "with open('data/sweden_all_fpde_analysis.pkl', 'rb') as f:\n",
    "        all_vertex_cnts_sweden = pickle.load(f)\n",
    "\n",
    "with open('data/fpde_analysis.pkl', 'rb') as f:\n",
    "        all_vertex_cnts = pickle.load(f)\n",
    "\n",
    "legends_sweden = [\"Landuse (A)\", \"Buildings (A)\", \"Waterways\", \"Water (A)\", \"Places (A)\", \"Natural (A)\", \"Pofw (A)\", \"Traffic (A)\", \"Railways\", \"Transport (A)\", \"Pois (A)\", \"Roads\"]\n",
    "legends = legends_sweden\n",
    "all_vertex_cnts = all_vertex_cnts_sweden"
   ]
  },
  {
   "cell_type": "code",
   "execution_count": null,
   "metadata": {},
   "outputs": [],
   "source": [
    "# Merge Sweden into Sweden All\n",
    "import itertools\n",
    "\n",
    "all_vertex_cnts.insert(2, [\"Sweden All\", list(itertools.chain.from_iterable([c for f, c in all_vertex_cnts_sweden if len(c) != 0]))])\n",
    "legends.insert(2, \"Sweden All\")"
   ]
  },
  {
   "cell_type": "code",
   "execution_count": null,
   "metadata": {},
   "outputs": [
    {
     "ename": "KeyboardInterrupt",
     "evalue": "",
     "output_type": "error",
     "traceback": [
      "\u001b[0;31m---------------------------------------------------------------------------\u001b[0m",
      "\u001b[0;31mKeyboardInterrupt\u001b[0m                         Traceback (most recent call last)",
      "\u001b[0;32m/var/folders/ds/y4dj2v9s35v24dtls2t60q7m0000gn/T/ipykernel_27121/732736335.py\u001b[0m in \u001b[0;36m<module>\u001b[0;34m\u001b[0m\n\u001b[1;32m     11\u001b[0m     \u001b[0;32mif\u001b[0m \u001b[0mlen\u001b[0m\u001b[0;34m(\u001b[0m\u001b[0mv\u001b[0m\u001b[0;34m)\u001b[0m \u001b[0;34m==\u001b[0m \u001b[0;36m0\u001b[0m\u001b[0;34m:\u001b[0m\u001b[0;34m\u001b[0m\u001b[0;34m\u001b[0m\u001b[0m\n\u001b[1;32m     12\u001b[0m         \u001b[0;32mcontinue\u001b[0m\u001b[0;34m\u001b[0m\u001b[0;34m\u001b[0m\u001b[0m\n\u001b[0;32m---> 13\u001b[0;31m     \u001b[0msns\u001b[0m\u001b[0;34m.\u001b[0m\u001b[0mecdfplot\u001b[0m\u001b[0;34m(\u001b[0m\u001b[0mv\u001b[0m\u001b[0;34m,\u001b[0m \u001b[0max\u001b[0m\u001b[0;34m=\u001b[0m\u001b[0maxes\u001b[0m\u001b[0;34m[\u001b[0m\u001b[0;36m0\u001b[0m\u001b[0;34m]\u001b[0m\u001b[0;34m,\u001b[0m \u001b[0mlinewidth\u001b[0m \u001b[0;34m=\u001b[0m \u001b[0;36m2\u001b[0m\u001b[0;34m)\u001b[0m\u001b[0;34m\u001b[0m\u001b[0;34m\u001b[0m\u001b[0m\n\u001b[0m\u001b[1;32m     14\u001b[0m     \u001b[0;31m#sns.displot(v, kind=\"kde\")\u001b[0m\u001b[0;34m\u001b[0m\u001b[0;34m\u001b[0m\u001b[0m\n\u001b[1;32m     15\u001b[0m \u001b[0;34m\u001b[0m\u001b[0m\n",
      "\u001b[0;32m/opt/anaconda3/lib/python3.9/site-packages/seaborn/distributions.py\u001b[0m in \u001b[0;36mecdfplot\u001b[0;34m(data, x, y, hue, weights, stat, complementary, palette, hue_order, hue_norm, log_scale, legend, ax, **kwargs)\u001b[0m\n\u001b[1;32m   1967\u001b[0m ):\n\u001b[1;32m   1968\u001b[0m \u001b[0;34m\u001b[0m\u001b[0m\n\u001b[0;32m-> 1969\u001b[0;31m     p = _DistributionPlotter(\n\u001b[0m\u001b[1;32m   1970\u001b[0m         \u001b[0mdata\u001b[0m\u001b[0;34m=\u001b[0m\u001b[0mdata\u001b[0m\u001b[0;34m,\u001b[0m\u001b[0;34m\u001b[0m\u001b[0;34m\u001b[0m\u001b[0m\n\u001b[1;32m   1971\u001b[0m         \u001b[0mvariables\u001b[0m\u001b[0;34m=\u001b[0m\u001b[0m_DistributionPlotter\u001b[0m\u001b[0;34m.\u001b[0m\u001b[0mget_semantics\u001b[0m\u001b[0;34m(\u001b[0m\u001b[0mlocals\u001b[0m\u001b[0;34m(\u001b[0m\u001b[0;34m)\u001b[0m\u001b[0;34m)\u001b[0m\u001b[0;34m\u001b[0m\u001b[0;34m\u001b[0m\u001b[0m\n",
      "\u001b[0;32m/opt/anaconda3/lib/python3.9/site-packages/seaborn/distributions.py\u001b[0m in \u001b[0;36m__init__\u001b[0;34m(self, data, variables)\u001b[0m\n\u001b[1;32m    109\u001b[0m     ):\n\u001b[1;32m    110\u001b[0m \u001b[0;34m\u001b[0m\u001b[0m\n\u001b[0;32m--> 111\u001b[0;31m         \u001b[0msuper\u001b[0m\u001b[0;34m(\u001b[0m\u001b[0;34m)\u001b[0m\u001b[0;34m.\u001b[0m\u001b[0m__init__\u001b[0m\u001b[0;34m(\u001b[0m\u001b[0mdata\u001b[0m\u001b[0;34m=\u001b[0m\u001b[0mdata\u001b[0m\u001b[0;34m,\u001b[0m \u001b[0mvariables\u001b[0m\u001b[0;34m=\u001b[0m\u001b[0mvariables\u001b[0m\u001b[0;34m)\u001b[0m\u001b[0;34m\u001b[0m\u001b[0;34m\u001b[0m\u001b[0m\n\u001b[0m\u001b[1;32m    112\u001b[0m \u001b[0;34m\u001b[0m\u001b[0m\n\u001b[1;32m    113\u001b[0m     \u001b[0;34m@\u001b[0m\u001b[0mproperty\u001b[0m\u001b[0;34m\u001b[0m\u001b[0;34m\u001b[0m\u001b[0m\n",
      "\u001b[0;32m/opt/anaconda3/lib/python3.9/site-packages/seaborn/_core.py\u001b[0m in \u001b[0;36m__init__\u001b[0;34m(self, data, variables)\u001b[0m\n\u001b[1;32m    603\u001b[0m     \u001b[0;32mdef\u001b[0m \u001b[0m__init__\u001b[0m\u001b[0;34m(\u001b[0m\u001b[0mself\u001b[0m\u001b[0;34m,\u001b[0m \u001b[0mdata\u001b[0m\u001b[0;34m=\u001b[0m\u001b[0;32mNone\u001b[0m\u001b[0;34m,\u001b[0m \u001b[0mvariables\u001b[0m\u001b[0;34m=\u001b[0m\u001b[0;34m{\u001b[0m\u001b[0;34m}\u001b[0m\u001b[0;34m)\u001b[0m\u001b[0;34m:\u001b[0m\u001b[0;34m\u001b[0m\u001b[0;34m\u001b[0m\u001b[0m\n\u001b[1;32m    604\u001b[0m \u001b[0;34m\u001b[0m\u001b[0m\n\u001b[0;32m--> 605\u001b[0;31m         \u001b[0mself\u001b[0m\u001b[0;34m.\u001b[0m\u001b[0massign_variables\u001b[0m\u001b[0;34m(\u001b[0m\u001b[0mdata\u001b[0m\u001b[0;34m,\u001b[0m \u001b[0mvariables\u001b[0m\u001b[0;34m)\u001b[0m\u001b[0;34m\u001b[0m\u001b[0;34m\u001b[0m\u001b[0m\n\u001b[0m\u001b[1;32m    606\u001b[0m \u001b[0;34m\u001b[0m\u001b[0m\n\u001b[1;32m    607\u001b[0m         \u001b[0;32mfor\u001b[0m \u001b[0mvar\u001b[0m\u001b[0;34m,\u001b[0m \u001b[0mcls\u001b[0m \u001b[0;32min\u001b[0m \u001b[0mself\u001b[0m\u001b[0;34m.\u001b[0m\u001b[0m_semantic_mappings\u001b[0m\u001b[0;34m.\u001b[0m\u001b[0mitems\u001b[0m\u001b[0;34m(\u001b[0m\u001b[0;34m)\u001b[0m\u001b[0;34m:\u001b[0m\u001b[0;34m\u001b[0m\u001b[0;34m\u001b[0m\u001b[0m\n",
      "\u001b[0;32m/opt/anaconda3/lib/python3.9/site-packages/seaborn/_core.py\u001b[0m in \u001b[0;36massign_variables\u001b[0;34m(self, data, variables)\u001b[0m\n\u001b[1;32m    661\u001b[0m         \u001b[0;32mif\u001b[0m \u001b[0mx\u001b[0m \u001b[0;32mis\u001b[0m \u001b[0;32mNone\u001b[0m \u001b[0;32mand\u001b[0m \u001b[0my\u001b[0m \u001b[0;32mis\u001b[0m \u001b[0;32mNone\u001b[0m\u001b[0;34m:\u001b[0m\u001b[0;34m\u001b[0m\u001b[0;34m\u001b[0m\u001b[0m\n\u001b[1;32m    662\u001b[0m             \u001b[0mself\u001b[0m\u001b[0;34m.\u001b[0m\u001b[0minput_format\u001b[0m \u001b[0;34m=\u001b[0m \u001b[0;34m\"wide\"\u001b[0m\u001b[0;34m\u001b[0m\u001b[0;34m\u001b[0m\u001b[0m\n\u001b[0;32m--> 663\u001b[0;31m             plot_data, variables = self._assign_variables_wideform(\n\u001b[0m\u001b[1;32m    664\u001b[0m                 \u001b[0mdata\u001b[0m\u001b[0;34m,\u001b[0m \u001b[0;34m**\u001b[0m\u001b[0mvariables\u001b[0m\u001b[0;34m,\u001b[0m\u001b[0;34m\u001b[0m\u001b[0;34m\u001b[0m\u001b[0m\n\u001b[1;32m    665\u001b[0m             )\n",
      "\u001b[0;32m/opt/anaconda3/lib/python3.9/site-packages/seaborn/_core.py\u001b[0m in \u001b[0;36m_assign_variables_wideform\u001b[0;34m(self, data, **kwargs)\u001b[0m\n\u001b[1;32m    736\u001b[0m             \u001b[0;31m# index and/or values to define x and/or y\u001b[0m\u001b[0;34m\u001b[0m\u001b[0;34m\u001b[0m\u001b[0m\n\u001b[1;32m    737\u001b[0m             \u001b[0;31m# (Could be accomplished with a more general to_series() interface)\u001b[0m\u001b[0;34m\u001b[0m\u001b[0;34m\u001b[0m\u001b[0m\n\u001b[0;32m--> 738\u001b[0;31m             \u001b[0mflat_data\u001b[0m \u001b[0;34m=\u001b[0m \u001b[0mpd\u001b[0m\u001b[0;34m.\u001b[0m\u001b[0mSeries\u001b[0m\u001b[0;34m(\u001b[0m\u001b[0mdata\u001b[0m\u001b[0;34m)\u001b[0m\u001b[0;34m.\u001b[0m\u001b[0mcopy\u001b[0m\u001b[0;34m(\u001b[0m\u001b[0;34m)\u001b[0m\u001b[0;34m\u001b[0m\u001b[0;34m\u001b[0m\u001b[0m\n\u001b[0m\u001b[1;32m    739\u001b[0m             names = {\n\u001b[1;32m    740\u001b[0m                 \u001b[0;34m\"@values\"\u001b[0m\u001b[0;34m:\u001b[0m \u001b[0mflat_data\u001b[0m\u001b[0;34m.\u001b[0m\u001b[0mname\u001b[0m\u001b[0;34m,\u001b[0m\u001b[0;34m\u001b[0m\u001b[0;34m\u001b[0m\u001b[0m\n",
      "\u001b[0;32m/opt/anaconda3/lib/python3.9/site-packages/pandas/core/series.py\u001b[0m in \u001b[0;36m__init__\u001b[0;34m(self, data, index, dtype, name, copy, fastpath)\u001b[0m\n\u001b[1;32m    468\u001b[0m                     \u001b[0mdata\u001b[0m \u001b[0;34m=\u001b[0m \u001b[0mdata\u001b[0m\u001b[0;34m.\u001b[0m\u001b[0mcopy\u001b[0m\u001b[0;34m(\u001b[0m\u001b[0;34m)\u001b[0m\u001b[0;34m\u001b[0m\u001b[0;34m\u001b[0m\u001b[0m\n\u001b[1;32m    469\u001b[0m             \u001b[0;32melse\u001b[0m\u001b[0;34m:\u001b[0m\u001b[0;34m\u001b[0m\u001b[0;34m\u001b[0m\u001b[0m\n\u001b[0;32m--> 470\u001b[0;31m                 \u001b[0mdata\u001b[0m \u001b[0;34m=\u001b[0m \u001b[0msanitize_array\u001b[0m\u001b[0;34m(\u001b[0m\u001b[0mdata\u001b[0m\u001b[0;34m,\u001b[0m \u001b[0mindex\u001b[0m\u001b[0;34m,\u001b[0m \u001b[0mdtype\u001b[0m\u001b[0;34m,\u001b[0m \u001b[0mcopy\u001b[0m\u001b[0;34m)\u001b[0m\u001b[0;34m\u001b[0m\u001b[0;34m\u001b[0m\u001b[0m\n\u001b[0m\u001b[1;32m    471\u001b[0m \u001b[0;34m\u001b[0m\u001b[0m\n\u001b[1;32m    472\u001b[0m                 \u001b[0mmanager\u001b[0m \u001b[0;34m=\u001b[0m \u001b[0mget_option\u001b[0m\u001b[0;34m(\u001b[0m\u001b[0;34m\"mode.data_manager\"\u001b[0m\u001b[0;34m)\u001b[0m\u001b[0;34m\u001b[0m\u001b[0;34m\u001b[0m\u001b[0m\n",
      "\u001b[0;32m/opt/anaconda3/lib/python3.9/site-packages/pandas/core/construction.py\u001b[0m in \u001b[0;36msanitize_array\u001b[0;34m(data, index, dtype, copy, raise_cast_failure, allow_2d)\u001b[0m\n\u001b[1;32m    640\u001b[0m                     \u001b[0;32mraise\u001b[0m\u001b[0;34m\u001b[0m\u001b[0;34m\u001b[0m\u001b[0m\n\u001b[1;32m    641\u001b[0m         \u001b[0;32melse\u001b[0m\u001b[0;34m:\u001b[0m\u001b[0;34m\u001b[0m\u001b[0;34m\u001b[0m\u001b[0m\n\u001b[0;32m--> 642\u001b[0;31m             \u001b[0msubarr\u001b[0m \u001b[0;34m=\u001b[0m \u001b[0mmaybe_convert_platform\u001b[0m\u001b[0;34m(\u001b[0m\u001b[0mdata\u001b[0m\u001b[0;34m)\u001b[0m\u001b[0;34m\u001b[0m\u001b[0;34m\u001b[0m\u001b[0m\n\u001b[0m\u001b[1;32m    643\u001b[0m             \u001b[0;32mif\u001b[0m \u001b[0msubarr\u001b[0m\u001b[0;34m.\u001b[0m\u001b[0mdtype\u001b[0m \u001b[0;34m==\u001b[0m \u001b[0mobject\u001b[0m\u001b[0;34m:\u001b[0m\u001b[0;34m\u001b[0m\u001b[0;34m\u001b[0m\u001b[0m\n\u001b[1;32m    644\u001b[0m                 \u001b[0msubarr\u001b[0m \u001b[0;34m=\u001b[0m \u001b[0mcast\u001b[0m\u001b[0;34m(\u001b[0m\u001b[0mnp\u001b[0m\u001b[0;34m.\u001b[0m\u001b[0mndarray\u001b[0m\u001b[0;34m,\u001b[0m \u001b[0msubarr\u001b[0m\u001b[0;34m)\u001b[0m\u001b[0;34m\u001b[0m\u001b[0;34m\u001b[0m\u001b[0m\n",
      "\u001b[0;32m/opt/anaconda3/lib/python3.9/site-packages/pandas/core/dtypes/cast.py\u001b[0m in \u001b[0;36mmaybe_convert_platform\u001b[0;34m(values)\u001b[0m\n\u001b[1;32m    133\u001b[0m     \u001b[0;32mif\u001b[0m \u001b[0marr\u001b[0m\u001b[0;34m.\u001b[0m\u001b[0mdtype\u001b[0m \u001b[0;34m==\u001b[0m \u001b[0m_dtype_obj\u001b[0m\u001b[0;34m:\u001b[0m\u001b[0;34m\u001b[0m\u001b[0;34m\u001b[0m\u001b[0m\n\u001b[1;32m    134\u001b[0m         \u001b[0marr\u001b[0m \u001b[0;34m=\u001b[0m \u001b[0mcast\u001b[0m\u001b[0;34m(\u001b[0m\u001b[0mnp\u001b[0m\u001b[0;34m.\u001b[0m\u001b[0mndarray\u001b[0m\u001b[0;34m,\u001b[0m \u001b[0marr\u001b[0m\u001b[0;34m)\u001b[0m\u001b[0;34m\u001b[0m\u001b[0;34m\u001b[0m\u001b[0m\n\u001b[0;32m--> 135\u001b[0;31m         \u001b[0marr\u001b[0m \u001b[0;34m=\u001b[0m \u001b[0mlib\u001b[0m\u001b[0;34m.\u001b[0m\u001b[0mmaybe_convert_objects\u001b[0m\u001b[0;34m(\u001b[0m\u001b[0marr\u001b[0m\u001b[0;34m)\u001b[0m\u001b[0;34m\u001b[0m\u001b[0;34m\u001b[0m\u001b[0m\n\u001b[0m\u001b[1;32m    136\u001b[0m \u001b[0;34m\u001b[0m\u001b[0m\n\u001b[1;32m    137\u001b[0m     \u001b[0;32mreturn\u001b[0m \u001b[0marr\u001b[0m\u001b[0;34m\u001b[0m\u001b[0;34m\u001b[0m\u001b[0m\n",
      "\u001b[0;32m/opt/anaconda3/lib/python3.9/site-packages/pandas/_libs/lib.pyx\u001b[0m in \u001b[0;36mpandas._libs.lib.maybe_convert_objects\u001b[0;34m()\u001b[0m\n",
      "\u001b[0;31mKeyboardInterrupt\u001b[0m: "
     ]
    },
    {
     "data": {
      "image/png": "[encoded data removed]",
      "text/plain": [
       "<Figure size 1200x600 with 2 Axes>"
      ]
     },
     "metadata": {},
     "output_type": "display_data"
    }
   ],
   "source": [
    "from matplotlib.ticker import ScalarFormatter\n",
    "import seaborn as sns\n",
    "sns.set(font_scale=1.5)\n",
    "fig, axes = plt.subplots(nrows=1, ncols=2, figsize=(12, 6), constrained_layout=True)\n",
    "axes = axes.flatten()\n",
    "fig.supxlabel(\"Max # Vertices in Shape\")\n",
    "fig.suptitle(\"Datasets: # Vertices Distribution\") # (Sweden All)\n",
    "\n",
    "\n",
    "for f, v in all_vertex_cnts:\n",
    "    if len(v) == 0:\n",
    "        continue\n",
    "    sns.ecdfplot(v, ax=axes[0], linewidth = 2)\n",
    "    #sns.displot(v, kind=\"kde\")\n",
    "\n",
    "legend = fig.legend(legends, loc='center right')\n",
    "axes[0].set_xscale('log')\n",
    "axes[0].set_xlim(1, 10000)\n",
    "formatter = ScalarFormatter()\n",
    "formatter.set_scientific(False) \n",
    "axes[0].xaxis.set_major_formatter(formatter)\n",
    "#axes[0].set_xlabel(\"Max # Verticies in Shape\")\n",
    "axes[0].set_ylabel(\"Dataset Proportion\")\n",
    "\n",
    "# Weighted\n",
    "for f, counts in all_vertex_cnts:\n",
    "    if len(counts) == 0:\n",
    "        continue\n",
    "    weighted = [s for s in counts for _ in range(s)]\n",
    "    sns.ecdfplot(weighted, ax=axes[1], linewidth = 2)\n",
    "axes[1].set_xscale('log')\n",
    "axes[1].set_xlim(1, 75000)\n",
    "axes[1].xaxis.set_major_formatter(formatter)\n",
    "axes[1].set_ylabel(\"File Size Proportion\")\n",
    "\n",
    "#fig.tight_layout()\n",
    "plt.show()"
   ]
  }
 ],
 "metadata": {
  "kernelspec": {
   "display_name": "base",
   "language": "python",
   "name": "python3"
  },
  "language_info": {
   "codemirror_mode": {
    "name": "ipython",
    "version": 3
   },
   "file_extension": ".py",
   "mimetype": "text/x-python",
   "name": "python",
   "nbconvert_exporter": "python",
   "pygments_lexer": "ipython3",
   "version": "3.9.13"
  },
  "orig_nbformat": 4
 },
 "nbformat": 4,
 "nbformat_minor": 2
}
