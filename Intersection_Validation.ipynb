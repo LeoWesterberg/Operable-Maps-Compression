{
 "cells": [
  {
   "cell_type": "code",
   "execution_count": 7,
   "metadata": {},
   "outputs": [],
   "source": [
    "import numpy as np\n",
    "import shapely\n",
    "import bisect\n",
    "import shapely.wkt\n",
    "import matplotlib.pyplot as plt\n",
    "import math\n",
    "import geopandas as gpd\n",
    "import json\n",
    "import pandas as pd\n",
    "import seaborn as sns\n",
    "from enum import Enum\n",
    "\n",
    "\n",
    "from bench_utils import parse_intersection_data \n"
   ]
  },
  {
   "cell_type": "code",
   "execution_count": 8,
   "metadata": {},
   "outputs": [],
   "source": [
    "# Geometries\n",
    "manual_data, _ = parse_intersection_data(\"manual\")\n",
    "special_cases, _ = parse_intersection_data(\"latest_export.json\", strip_precision=True)\n",
    "world_data, world_data_stats = parse_intersection_data(\"world.json\", 100, strip_precision=True)\n",
    "lund_data, lund_data_stats = parse_intersection_data(\"lund.json\", 1000)\n",
    "sweden_data, sweden_data_stats = parse_intersection_data(\"sweden-places-a.json\")\n",
    "new_york_data, new_york_data_stats = parse_intersection_data(\"new-york-natural.json\")\n",
    "waterways_data, waterways_data_stats = parse_intersection_data(\"nord-est-waterways.json\")\n"
   ]
  },
  {
   "cell_type": "code",
   "execution_count": 9,
   "metadata": {},
   "outputs": [],
   "source": [
    "SHOW_COORDINATES = True\n",
    "SHOW_GEOMETRIES = True\n",
    "SHOW_INTERSECTING_POINTS = True\n",
    "SHOW_COMMON_BOUNDING_BOX = False\n",
    "SHOW_BOUNDING_BOXES = False"
   ]
  },
  {
   "cell_type": "code",
   "execution_count": 10,
   "metadata": {},
   "outputs": [],
   "source": [
    "import intersection.first_bin_search\n",
    "import intersection.chunk_bbox_intersection\n",
    "binary_intersection = intersection.first_bin_search.binary_intersection\n",
    "chunk_bbox_is_intersecting = intersection.chunk_bbox_intersection.is_intersecting\n",
    "chunk_bbox_intersection = intersection.chunk_bbox_intersection.intersection\n",
    "\n",
    "from intersection.plotting import *\n",
    "import algos.fpd_extended_lib.cfg as cfg\n",
    "from algos.alg_fpd_extended import FpdExtended\n",
    "\n",
    "fpd = FpdExtended()"
   ]
  },
  {
   "cell_type": "code",
   "execution_count": 11,
   "metadata": {},
   "outputs": [],
   "source": [
    "def set_max_num_delta(val):\n",
    "        cfg.MAX_NUM_DELTAS = val\n",
    "        cfg.D_CNT_SIZE = cfg.required_bits(val)"
   ]
  },
  {
   "cell_type": "code",
   "execution_count": 12,
   "metadata": {},
   "outputs": [
    {
     "name": "stdout",
     "output_type": "stream",
     "text": [
      "Done. Passed: 4 of 4.\n"
     ]
    }
   ],
   "source": [
    "total = 0\n",
    "passed = 0\n",
    "\n",
    "def evaluate_dataset(data, plot, total, passed, delta_size=None):\n",
    "    for g1, g2 in data:\n",
    "        # if delta_size != None:\n",
    "        #     set_max_num_delta(delta_size)\n",
    "        #is_intersecting, intersect_points = binary_intersection(g1, g2)\n",
    "        _, b1 = fpd.compress(g1)\n",
    "        _, b2 = fpd.compress(g2)\n",
    "        exp_boolean = shapely.intersects(g1, g2)\n",
    "        #is_intersecting = chunk_bbox_is_intersecting((b1, b2), exp_boolean, True)\n",
    "        stats_is_intersection, is_intersecting = chunk_bbox_is_intersecting((b1, b2), exp_boolean, True, get_stats=True)\n",
    "        exp_shape = shapely.intersection(g1, g2)\n",
    "        stats_intersection, intersection = chunk_bbox_intersection((b1, b2), exp_boolean, True, get_stats=True)\n",
    "\n",
    "        # create_canvas(no_frame=True, zoom=1)\n",
    "        # for i, g in enumerate([g1, g2]):\n",
    "        #     plot_geometry(g, fill_alpha=0.1, hatch=('\\\\' if i == 0 else '/'), color=('blue' if i == 0 else 'green'))\n",
    "        #     plot_geometry_bbox(g, solid=False, color=('blue' if i == 0 else 'green'), linewidth=2)\n",
    "        #     plot_coordinates(g, size=30, color=('blue' if i == 0 else 'green'))\n",
    "        #     plot_common_bbox([g1, g2], color='red', linewidth=3, zorder=10)\n",
    "        #plt.show()\n",
    "\n",
    "        if plot and exp_boolean: # Now only plotting intersecting shapes\n",
    "            if False: # Plot chunks?\n",
    "                plot_chunks_bounds(b1, True, avoid_show=True)\n",
    "                plot_chunks_bounds(b2, True, avoid_create_frame=True, avoid_show=True)\n",
    "            geoms = (g1, g2)\n",
    "            for g in geoms:\n",
    "                plot_geometry(g, SHOW_GEOMETRIES)\n",
    "                plot_geometry_bbox(g, SHOW_BOUNDING_BOXES)\n",
    "                plot_coordinates(g, SHOW_COORDINATES)\n",
    "            \n",
    "            plot_common_bbox(geoms, SHOW_COMMON_BOUNDING_BOX)\n",
    "            #plot_intersecting_points(intersect_points, legends, SHOW_INTERSECTING_POINTS)\n",
    "\n",
    "            if SHOW_COORDINATES or SHOW_GEOMETRIES or SHOW_INTERSECTING_POINTS or SHOW_COMMON_BOUNDING_BOX or SHOW_BOUNDING_BOXES:\n",
    "                plt.title(\"Intersection Plot: \" + ('True' if is_intersecting else 'False'))\n",
    "                plt.show()\n",
    "\n",
    "\n",
    "            PLOT_RESULTING_INTERSECTION = True\n",
    "            if is_intersecting and PLOT_RESULTING_INTERSECTION:\n",
    "                create_canvas(zoom=1.1, no_frame=True)\n",
    "                for g in geoms:\n",
    "                    plot_geometry(g, SHOW_GEOMETRIES, alpha=0.2, fill_alpha=0.2)\n",
    "                    plot_coordinates(g, SHOW_COORDINATES, size=1)\n",
    "                \n",
    "                plot_geometry(intersection, fill_alpha=0.6, hatch=True)\n",
    "                plot_coordinates(intersection, size=10)\n",
    "                #plt.title(\"Intersecting Shape\")\n",
    "                plt.show()\n",
    "\n",
    "        total += 1\n",
    "     \n",
    "        if is_intersecting == exp_boolean and exp_shape.equals(intersection):\n",
    "            passed += 1\n",
    "        #     if not exp_shape.is_empty:\n",
    "        #         create_canvas()\n",
    "        #         plot_geometry(g1,alpha=0.2)\n",
    "        #         plot_geometry(g2,alpha=0.2)\n",
    "        #         #plot_geometry(exp_shape, solid=False)\n",
    "        #         plot_geometry(intersection)\n",
    "        #         plot_coordinates(intersection)\n",
    "        #         plt.show()\n",
    "            \n",
    "        else:\n",
    "\n",
    "            print(\"Above FAILED!\")\n",
    "            print('Expected shape:', exp_shape)\n",
    "            print('Returned shape:', intersection)\n",
    "            create_canvas()\n",
    "            plot_geometry(g1,alpha=0.2, fill_alpha=0.2, solid=False)\n",
    "            plot_geometry(g2,alpha=0.2, fill_alpha=0.2, solid=False)\n",
    "            #plot_geometry(exp_shape, solid=False)\n",
    "            plot_geometry(intersection, fill_alpha=1.0)\n",
    "            plot_coordinates(intersection)\n",
    "            plt.show()\n",
    "        if total % 100 == 0:\n",
    "            print(f\"Passed {passed} of {total}. Total in set: {len(data)}\")\n",
    "    return total, passed\n",
    "\n",
    "#total, passed = evaluate_dataset(manual_data, False, total, passed, \"Manual\") # Second param: PLOT?\n",
    "\n",
    "total, passed = evaluate_dataset(special_cases, True, total, passed, \"Special Case\")\n",
    "# total, passed = evaluate_dataset(world_data, False, total, passed, \"World\")\n",
    "# total, passed = evaluate_dataset(lund_data, False, total, passed, \"Lund\")\n",
    "#total, passed = evaluate_dataset(waterways_data, False, total, passed, \"Waterways\")\n",
    "#total, passed = evaluate_dataset(sweden_data, False, total, passed, \"Sweden\")\n",
    "#total, passed = evaluate_dataset(new_york_data, False, total, passed, \"NewYork\")\n",
    "\n",
    "\n",
    "print(f'Done. Passed: {passed} of {total}.')\n",
    "#POLYGON ((6.5 6.5, 8 5, 4 4, 6.5 6.5))"
   ]
  }
 ],
 "metadata": {
  "kernelspec": {
   "display_name": "Python 3",
   "language": "python",
   "name": "python3"
  },
  "language_info": {
   "codemirror_mode": {
    "name": "ipython",
    "version": 3
   },
   "file_extension": ".py",
   "mimetype": "text/x-python",
   "name": "python",
   "nbconvert_exporter": "python",
   "pygments_lexer": "ipython3",
   "version": "3.9.13"
  },
  "orig_nbformat": 4,
  "vscode": {
   "interpreter": {
    "hash": "aee8b7b246df8f9039afb4144a1f6fd8d2ca17a180786b69acc140d282b71a49"
   }
  }
 },
 "nbformat": 4,
 "nbformat_minor": 2
}
