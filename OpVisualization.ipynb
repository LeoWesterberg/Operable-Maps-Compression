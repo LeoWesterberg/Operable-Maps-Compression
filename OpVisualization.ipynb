{
 "cells": [
  {
   "cell_type": "code",
   "execution_count": 1,
   "metadata": {},
   "outputs": [],
   "source": [
    "import glob\n",
    "import os\n",
    "import pandas as pd\n",
    "import seaborn as sns\n",
    "import matplotlib.pyplot as plt\n",
    "import numpy as np\n",
    "from os import listdir\n",
    "from os.path import isfile, join\n",
    "import seaborn as sns\n",
    "import pandas as pd"
   ]
  },
  {
   "cell_type": "code",
   "execution_count": null,
   "metadata": {},
   "outputs": [],
   "source": [
    "EMPTY_FILES = False\n",
    "RESULTS_FOLDER = \"./reports/\""
   ]
  },
  {
   "cell_type": "code",
   "execution_count": null,
   "metadata": {},
   "outputs": [],
   "source": [
    "if EMPTY_FILES:\n",
    "    if not os.path.exists(RESULTS_FOLDER):\n",
    "        os.makedirs(RESULTS_FOLDER)\n",
    "    for f in glob.glob(RESULTS_FOLDER + '/*'):\n",
    "        os.remove(f)"
   ]
  },
  {
   "cell_type": "code",
   "execution_count": null,
   "metadata": {},
   "outputs": [],
   "source": [
    "#Fetch \n",
    "sns.set_theme(style=\"whitegrid\")\n",
    "\n",
    "#Fetch all the file names containing testBench executions\n",
    "files = [f for f in listdir(RESULTS_FOLDER) if isfile(join(RESULTS_FOLDER, f))]\n",
    "frames = []\n",
    "\n",
    "#Merge all the testBench executions into one DataFrame\n",
    "for file in files:\n",
    "    run_df = pd.read_csv(RESULTS_FOLDER + \"/\" + file)\n",
    "    run_df['Algo'] = file[file.rfind('_') + 1: file.rfind('.csv')]\n",
    "    frames.append(run_df)\n",
    "\n",
    "def plot_executions(execution_frames, stats_list:list):\n",
    "    stats_list.append('Algo')\n",
    "    df = pd.concat(execution_frames)[stats_list]\n",
    "\n",
    "#Rearrange DataFrame into suitable format for barplotting\n",
    "    df_melted = df.melt('Algo',var_name=\"col\",value_name=\"value\")\n",
    "    plt.figure(figsize=(20,10))\n",
    "\n",
    "    #Plot the executions\n",
    "    sns.barplot(data=df_melted, x=\"col\", y='value', hue=\"Algo\")\n",
    "    plt.tick_params(rotation=90)\n",
    "    plt.title(\"Execution time for different runs\")\n",
    "    plt.show()\n",
    "\n",
    "plot_executions(execution_frames=frames, stats_list=[\"ET.COMP_TIME\", \"ET.DECOMP_TIME\", \"ET.VERTICES\", \"ET.TYPE\", \"ET.BOUNDING_BOX\", \"ET.ADD_VERTEX\", \"ET.IS_INTERSECTING\", \"ET.INTERSECTION\"])\n",
    "plot_executions(execution_frames=frames, stats_list=[\"ET.COMP_SIZE\", \"ET.DECOMP_SIZE\"])\n"
   ]
  }
 ],
 "metadata": {
  "kernelspec": {
   "display_name": "base",
   "language": "python",
   "name": "python3"
  },
  "language_info": {
   "codemirror_mode": {
    "name": "ipython",
    "version": 3
   },
   "file_extension": ".py",
   "mimetype": "text/x-python",
   "name": "python",
   "nbconvert_exporter": "python",
   "pygments_lexer": "ipython3",
   "version": "3.9.13"
  },
  "orig_nbformat": 4,
  "vscode": {
   "interpreter": {
    "hash": "40d3a090f54c6569ab1632332b64b2c03c39dcf918b08424e98f38b5ae0af88f"
   }
  }
 },
 "nbformat": 4,
 "nbformat_minor": 2
}
