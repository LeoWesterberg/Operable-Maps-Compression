{
 "cells": [
  {
   "attachments": {},
   "cell_type": "markdown",
   "metadata": {},
   "source": [
    "## Test Bench\n",
    "This  notebook is used to evaluate the performance of a compression algorithm.\n",
    "\n",
    "It is written such that a new compression algorithm can be added without altering the bench (just change the input in the config)."
   ]
  },
  {
   "cell_type": "code",
   "execution_count": 1,
   "metadata": {},
   "outputs": [],
   "source": [
    "# ADD NEW ALGORITHMS HERE\n",
    "from algos.alg_wkt import Wkt\n",
    "from algos.alg_wkb import Wkb\n",
    "from algos.alg_meta_wkb_comp import MetaWkbComp # Wkb with Metadat\n",
    "from algos.alg_meta_wkt_comp import MetaWktComp # Wkt with Metadat\n",
    "from algos.alg_wkb_comp import WkbComp\n",
    "from algos.alg_wkt_comp import WktComp\n",
    "from algos.alg_fpd import Fpd\n",
    "from algos.alg_fpd_extended import FpdExtended\n",
    "from algos.alg_fpd_predictor import FpdPredictor\n",
    "\n",
    "\n",
    "# CONFIG\n",
    "ALG = FpdExtended()\n",
    "#DATASET_PATH = \"data/lund_building_highway.json\"#\n",
    "DATASET_PATH = \"data/world.json\"\n",
    "NBR_ITER = 3000\n",
    "\n",
    "COMPR_PATH = \"data/testbench_compressed_single\"\n",
    "#COMPR_PATH = \"data/testbench_compressed\"\n",
    "\n",
    "DECOMPR_PATH = \"data/testbench_decompressed_single\""
   ]
  },
  {
   "cell_type": "code",
   "execution_count": 2,
   "metadata": {},
   "outputs": [],
   "source": [
    "import time\n",
    "import os\n",
    "from enum import Enum\n",
    "import pandas as pd\n",
    "from datetime import datetime\n",
    "import filecmp\n",
    "import random\n",
    "import json\n",
    "import tqdm\n",
    "from shapely.geometry import shape\n",
    "import glob\n",
    "import shapely\n",
    "import numpy as np\n",
    "import seaborn as sns\n",
    "import matplotlib.pyplot as plt\n",
    "import geopandas as gpd\n",
    "\n",
    "# List the metrics which are to be logged\n",
    "ET = Enum('ET', ['COMP_TIME', 'DECOMP_TIME', 'COMP_SIZE', 'DECOMP_SIZE',\n",
    "    'VERTICES', 'TYPE', 'BOUNDING_BOX', 'ADD_VERTEX', 'IS_INTERSECTING', 'INTERSECTION'\n",
    "]) # EVAL_TYPE\n",
    "\n",
    "if not os.path.exists(COMPR_PATH):\n",
    "   os.makedirs(COMPR_PATH)\n",
    "for f in glob.glob(COMPR_PATH + '/*'):\n",
    "    os.remove(f)\n",
    "if not os.path.exists(DECOMPR_PATH):\n",
    "   os.makedirs(DECOMPR_PATH)\n",
    "for f in glob.glob(DECOMPR_PATH + '/*'):\n",
    "    os.remove(f)"
   ]
  },
  {
   "attachments": {},
   "cell_type": "markdown",
   "metadata": {},
   "source": [
    "### Benchmarking\n",
    "Run the compression, decompression, along with the operations, and store the measurements. Done NBR_ITER times to average."
   ]
  },
  {
   "cell_type": "code",
   "execution_count": 3,
   "metadata": {},
   "outputs": [
    {
     "name": "stderr",
     "output_type": "stream",
     "text": [
      "100%|██████████| 3000/3000 [00:12<00:00, 232.19it/s]\n",
      "100%|██████████| 6000/6000 [00:24<00:00, 241.53it/s]\n",
      "100%|██████████| 3000/3000 [00:17<00:00, 169.08it/s]\n",
      "100%|██████████| 3000/3000 [00:25<00:00, 118.07it/s]"
     ]
    },
    {
     "name": "stdout",
     "output_type": "stream",
     "text": [
      "Geometry count: 4596\n"
     ]
    },
    {
     "name": "stderr",
     "output_type": "stream",
     "text": [
      "\n"
     ]
    }
   ],
   "source": [
    "# Maps an evaluation type to the corresponding function in the algorithm.\n",
    "# Note that ALG (global variable) can change, so a function is used.\n",
    "from functools import reduce\n",
    "import operator\n",
    "\n",
    "def et_to_func():\n",
    "    return {\n",
    "        ET.VERTICES: ALG.vertices, \n",
    "        ET.TYPE: ALG.type,\n",
    "        ET.BOUNDING_BOX: ALG.bounding_box,\n",
    "        ET.ADD_VERTEX: ALG.add_vertex, \n",
    "        ET.IS_INTERSECTING: ALG.is_intersecting, \n",
    "        ET.INTERSECTION: ALG.intersection \n",
    "        }\n",
    "\n",
    "# Params: \"et: EVAL_TYPE, idx: geometry index to query, value_only: dont save entry in log\"\n",
    "def measure(et, args, value_only=False): # Works for functions taking only a geometry 'idx' as parameter\n",
    "    \"\"\"\n",
    "    Takes an evaluation type and executes the corresponding operation, storing the execution time and resulting value.\n",
    "    Also returns the resulting value of the operation.\n",
    "    \"\"\"\n",
    "    func = et_to_func()[et] # Find the function to be called\n",
    "    t, v = func(args)\n",
    "    if not value_only:\n",
    "        res[et].append(t)\n",
    "        vals[et].append(v)\n",
    "    return v\n",
    "\n",
    "SEED = 123 # If we want to enforce the same ordering and indexes for multiple runs, else None\n",
    "random.seed(SEED) # Init random\n",
    "\n",
    "res = {x: [] for x in ['idx_unary', 'idx_binary'] + list(ET)} # Store the 'results' of the measurements\n",
    "vals = {x: [] for x in ['idx_unary', 'idx_binary'] + list(ET)[4:]} # Store the 'values' for the operations, to perform correctness check later\n",
    "\n",
    "# Extract the nested feature attribute of the geo_json file containing the geometries\n",
    "with open(DATASET_PATH, 'r') as f:\n",
    "    data = json.loads(f.read())\n",
    "file_df: pd.DataFrame = pd.json_normalize(data, record_path=['features'])\n",
    "# Create a dataframe suitable for the WKT format for easy convertion to shapely objects\n",
    "df = pd.DataFrame(\n",
    "    {'type': file_df['geometry.type'], 'coordinates': file_df['geometry.coordinates']})\n",
    "\n",
    "max_idx = len(df) - 1\n",
    "unary_idxs = [random.randint(0, max_idx) for i in range(NBR_ITER)] # Generate list of indexes to query on\n",
    "binary_idxs = [(random.randint(0, max_idx), random.randint(0, max_idx)) for i in range(NBR_ITER)] # Generate pair of indexes to query on. # TODO: Better selection than random\n",
    "random.seed(SEED) # Reset random\n",
    "\n",
    "def compress(data, file_comp):\n",
    "    # Compress\n",
    "    geometry = shape(data)\n",
    "    t, bin = ALG.compress(geometry)\n",
    "\n",
    "    # Write to disk\n",
    "    f = open(file_comp, \"wb\")\n",
    "    f.write(bin)\n",
    "    f.close()\n",
    "    return t, bin\n",
    "\n",
    "# Compress files, benchmark unaries\n",
    "for idx in tqdm.tqdm(unary_idxs): # List of single idxs\n",
    "    file_comp = f\"{COMPR_PATH}/{idx}\"\n",
    "    t, _ = compress(df.iloc[idx], file_comp)\n",
    "    res[ET.COMP_TIME].append(t) # Store delta time\n",
    "    res[ET.COMP_SIZE].append(os.stat(file_comp).st_size) # Store compressed file size\n",
    "\n",
    "for idx in tqdm.tqdm(list(reduce(operator.concat, binary_idxs))): # List of pairs collapsed\n",
    "    file_comp = f\"{COMPR_PATH}/{idx}\"\n",
    "    compress(df.iloc[idx], file_comp)\n",
    "\n",
    "for i in tqdm.tqdm(range(len(unary_idxs))):\n",
    "# ------------ UNARY ------------ #\n",
    "    idx = unary_idxs[i]\n",
    "    file_comp = f\"{COMPR_PATH}/{idx}\"\n",
    "    file_decomp = f\"{DECOMPR_PATH}/{idx}\"\n",
    "\n",
    "    res[\"idx_unary\"].append(idx)\n",
    "    vals[\"idx_unary\"].append(idx)\n",
    "\n",
    "    # Read binary into memory\n",
    "    f = open(file_comp, \"rb\")\n",
    "    bin = f.read()\n",
    "    f.close()\n",
    "\n",
    "    # Decompress\n",
    "    t, decomp = ALG.decompress(bin)\n",
    "    decomp = shapely.to_wkt(decomp, rounding_precision=-1)\n",
    "    # Write to disk\n",
    "    f = open(file_decomp, \"w\")\n",
    "    f.write(decomp)\n",
    "    f.close()\n",
    "    res[ET.DECOMP_TIME].append(t) # Store delta time\n",
    "    res[ET.DECOMP_SIZE].append(os.stat(file_decomp).st_size) # Store decompressed file size\n",
    "\n",
    "    v = measure(ET.VERTICES, bin)\n",
    "    measure(ET.TYPE, bin)\n",
    "    measure(ET.BOUNDING_BOX, bin)\n",
    "    add_idx = random.randint(0, len(v) - 2)\n",
    "    add_point = (v[add_idx][0] + random.randint(-25, 25) * 0.00001, v[add_idx][1] + random.randint(-25, 25) * 0.00001)\n",
    "    measure(ET.ADD_VERTEX, (bin, add_idx, add_point))\n",
    "\n",
    "for i in tqdm.tqdm(range(len(binary_idxs))):\n",
    "# ------------ BINARY ------------ #\n",
    "    l_idx, r_idx = binary_idxs[i]\n",
    "\n",
    "    res[\"idx_binary\"].append(binary_idxs[i])\n",
    "    vals[\"idx_binary\"].append(binary_idxs[i])\n",
    "\n",
    "    # Read both binary into memory\n",
    "    f = open(f\"{COMPR_PATH}/{l_idx}\", \"rb\")\n",
    "    l_bin = f.read()\n",
    "    f.close()\n",
    "\n",
    "    f = open(f\"{COMPR_PATH}/{r_idx}\", \"rb\")\n",
    "    r_bin = f.read()\n",
    "    f.close()\n",
    "\n",
    "    measure(ET.IS_INTERSECTING, (l_bin, r_bin))\n",
    "    measure(ET.INTERSECTION, (l_bin, r_bin))\n",
    "\n",
    "df = pd.DataFrame(res)\n",
    "print(\"Geometry count:\", max_idx + 1)\n",
    "#df"
   ]
  },
  {
   "attachments": {},
   "cell_type": "markdown",
   "metadata": {},
   "source": [
    "### Plot the Results"
   ]
  },
  {
   "cell_type": "code",
   "execution_count": 4,
   "metadata": {},
   "outputs": [
    {
     "name": "stderr",
     "output_type": "stream",
     "text": [
      "/var/folders/ds/y4dj2v9s35v24dtls2t60q7m0000gn/T/ipykernel_21347/3152975867.py:14: SettingWithCopyWarning: \n",
      "A value is trying to be set on a copy of a slice from a DataFrame.\n",
      "Try using .loc[row_indexer,col_indexer] = value instead\n",
      "\n",
      "See the caveats in the documentation: https://pandas.pydata.org/pandas-docs/stable/user_guide/indexing.html#returning-a-view-versus-a-copy\n",
      "  sizes['Algorithm'] = ALG.__class__.__name__\n"
     ]
    },
    {
     "name": "stdout",
     "output_type": "stream",
     "text": [
      "Compression Ratio: 3.120823621856201\n"
     ]
    },
    {
     "data": {
      "image/png": "[encoded data removed]",
      "text/plain": [
       "<Figure size 640x480 with 1 Axes>"
      ]
     },
     "metadata": {},
     "output_type": "display_data"
    }
   ],
   "source": [
    "size_types = [ET.COMP_SIZE, ET.DECOMP_SIZE]\n",
    "averages = df.copy()\n",
    "averages.loc['mean'] = averages.mean(numeric_only=True)\n",
    "averages = averages.iloc[-1]\n",
    "sizes = averages[size_types]\n",
    "print(\"Compression Ratio:\", sizes[1] / sizes[0])\n",
    "\n",
    "dataset_name = os.path.splitext(os.path.basename(DATASET_PATH))[0]\n",
    "baseline = pd.read_csv('baseline_' + dataset_name + '.csv')\n",
    "baseline['Algorithm'] = 'Baseline'\n",
    "\n",
    "sizes = df[size_types]\n",
    "sizes.columns = sizes.columns.map(str)\n",
    "sizes['Algorithm'] = ALG.__class__.__name__\n",
    "\n",
    "sizes = pd.concat([sizes, baseline[[str(i) for i in size_types + ['Algorithm']]]])\n",
    "sizes = sizes.melt('Algorithm', var_name=\"Statistic\", value_name='Bytes')\n",
    "sizes['Statistic'] = sizes['Statistic'].apply(lambda x: str(x))\n",
    "sns.barplot(data=sizes, x=\"Statistic\", y='Bytes', hue=\"Algorithm\")\n",
    "plt.ylabel('Bytes');\n",
    "plt.title(ALG.__class__.__name__ + \": Sizes\");\n",
    "plt.tight_layout()"
   ]
  },
  {
   "cell_type": "code",
   "execution_count": 5,
   "metadata": {},
   "outputs": [
    {
     "data": {
      "image/png": "[encoded data removed]",
      "text/plain": [
       "<Figure size 640x480 with 1 Axes>"
      ]
     },
     "metadata": {},
     "output_type": "display_data"
    }
   ],
   "source": [
    "times = df.drop(axis=1, labels=['idx_unary', 'idx_binary', ET.COMP_SIZE, ET.DECOMP_SIZE])\n",
    "times['Algorithm'] = ALG.__class__.__name__\n",
    "\n",
    "baseline_times = baseline.drop(axis=1, labels=['idx_unary', 'idx_binary', 'ET.COMP_SIZE', 'ET.DECOMP_SIZE', 'Unnamed: 0'])\n",
    "times = pd.concat([times, baseline_times])\n",
    "times = times.melt('Algorithm', var_name=\"Statistic\", value_name='Seconds')\n",
    "times['Statistic'] = times['Statistic'].apply(lambda x: str(x))\n",
    "\n",
    "sns.barplot(data=times, x=\"Statistic\", y='Seconds', hue=\"Algorithm\")\n",
    "\n",
    "plt.xticks(rotation=90)\n",
    "plt.ylabel('Seconds');\n",
    "plt.title(ALG.__class__.__name__ + \": Execution Times (\" + dataset_name + ')');"
   ]
  },
  {
   "attachments": {},
   "cell_type": "markdown",
   "metadata": {},
   "source": [
    "### Export to CSV"
   ]
  },
  {
   "cell_type": "code",
   "execution_count": 6,
   "metadata": {},
   "outputs": [],
   "source": [
    "# Exports in the format: 2023-02-13_17:09:12_NoCompression.\n",
    "df.to_csv(\"reports/\" + ALG.__class__.__name__ + '_' + dataset_name + \"_\" + datetime.now().strftime(\"%Y-%m-%d_%H:%M:%S\") + \".csv\")"
   ]
  },
  {
   "attachments": {},
   "cell_type": "markdown",
   "metadata": {},
   "source": [
    "### Verify Integrity\n",
    "Need to check that the operations are correct and that the decompression is lossless."
   ]
  },
  {
   "cell_type": "code",
   "execution_count": 7,
   "metadata": {},
   "outputs": [
    {
     "name": "stdout",
     "output_type": "stream",
     "text": [
      "PASSED\n"
     ]
    }
   ],
   "source": [
    "#raise BaseException(\"Avoiding Check!\")\n",
    "# Compress GeoJSON to Wkt. WKT is the source of truth\n",
    "with open(DATASET_PATH, 'r') as f:\n",
    "    data = json.loads(f.read())\n",
    "file_df: pd.DataFrame = pd.json_normalize(data, record_path=['features'])\n",
    "df_json = pd.DataFrame(\n",
    "    {'type': file_df['geometry.type'], 'coordinates': file_df['geometry.coordinates']})\n",
    "\n",
    "df_vals = pd.DataFrame(vals)\n",
    "old_ALG = ALG\n",
    "random.seed(SEED) # Reset random\n",
    "\n",
    "# Validate the operations, i.e. verify that \"results of the operations performed above\" == \"the results using no compression\".\n",
    "ALG = Wkt() # Alter global compression algorithm, used in 'measure()'\n",
    "for _, r in df_vals.iterrows():\n",
    "    file_comp = f\"{COMPR_PATH}/{r.idx_unary}\"\n",
    "    # Compress to WKT\n",
    "    compress(df_json.iloc[r.idx_unary], file_comp)\n",
    "    # Read binary into memory\n",
    "    f = open(file_comp, \"rb\")\n",
    "    bin = f.read()\n",
    "    f.close()\n",
    "\n",
    "    # Is decompressed file (from other algorithm) equal to original (compressed to WKT)?\n",
    "    if not filecmp.cmp(file_comp, f\"{DECOMPR_PATH}/{r.idx_unary}\", shallow=False):\n",
    "        print(file_comp)\n",
    "        assert(False)\n",
    "\n",
    "    # The operations that are checked here (supported by \"measure_unary\"):\n",
    "    unary_operations = [ET.VERTICES, ET.TYPE, ET.BOUNDING_BOX]\n",
    "    for uop in unary_operations:\n",
    "        v_no_compression = measure(uop, bin, value_only=True)\n",
    "        diff = v_no_compression == r[uop]\n",
    "        valid = diff if type(diff) != np.ndarray else diff.all()\n",
    "        if not valid:\n",
    "            print(uop, file_comp, v_no_compression, r[uop], sep='\\n')\n",
    "            assert(False)\n",
    "\n",
    "    l_idx, r_idx = r.idx_binary\n",
    "    compress(df_json.iloc[l_idx], f\"{COMPR_PATH}/{l_idx}\")\n",
    "    compress(df_json.iloc[r_idx], f\"{COMPR_PATH}/{r_idx}\")\n",
    "    # Read both binary into memory\n",
    "    f = open(f\"{COMPR_PATH}/{l_idx}\", \"rb\")\n",
    "    l_bin = f.read()\n",
    "    f.close()\n",
    "\n",
    "    f = open(f\"{COMPR_PATH}/{r_idx}\", \"rb\")\n",
    "    r_bin = f.read()\n",
    "    f.close()\n",
    " \n",
    "    # Binary operations\n",
    "    binary_operations = [ET.IS_INTERSECTING, ET.INTERSECTION]\n",
    "    for bop in binary_operations:\n",
    "        v_no_compression = measure(bop, (l_bin, r_bin), value_only=True)\n",
    "        diff = v_no_compression == r[bop]\n",
    "        valid = diff if type(diff) != np.ndarray else diff.all()\n",
    "        if not valid:\n",
    "            print(bop, l_idx, r_idx)\n",
    "            assert(False)\n",
    "\n",
    "    # Add\n",
    "    _, v = ALG.vertices(bin)\n",
    "    add_idx = random.randint(0, len(v) - 2)\n",
    "    add_point = (v[add_idx][0] + random.randint(-25, 25) * 0.00001, v[add_idx][1] + random.randint(-25, 25) * 0.00001)\n",
    "    v_no_compression = measure(ET.ADD_VERTEX, (bin, add_idx, add_point), value_only=True)\n",
    "    _, v_no_compression = ALG.decompress(v_no_compression)\n",
    "    _, v_comp = old_ALG.decompress(r[ET.ADD_VERTEX])\n",
    "    v_no_compression = shapely.to_wkt(v_no_compression)\n",
    "    v_comp = shapely.to_wkt(v_comp)\n",
    "    \n",
    "    if not v_no_compression == v_comp:\n",
    "        print(file_comp, add_idx, add_point, v_no_compression, v_comp, sep='\\n')\n",
    "        assert(False)\n",
    "\n",
    "ALG = old_ALG\n",
    "print(\"PASSED\")"
   ]
  }
 ],
 "metadata": {
  "kernelspec": {
   "display_name": "base",
   "language": "python",
   "name": "python3"
  },
  "language_info": {
   "codemirror_mode": {
    "name": "ipython",
    "version": 3
   },
   "file_extension": ".py",
   "mimetype": "text/x-python",
   "name": "python",
   "nbconvert_exporter": "python",
   "pygments_lexer": "ipython3",
   "version": "3.9.13"
  },
  "orig_nbformat": 4,
  "vscode": {
   "interpreter": {
    "hash": "40d3a090f54c6569ab1632332b64b2c03c39dcf918b08424e98f38b5ae0af88f"
   }
  }
 },
 "nbformat": 4,
 "nbformat_minor": 2
}
