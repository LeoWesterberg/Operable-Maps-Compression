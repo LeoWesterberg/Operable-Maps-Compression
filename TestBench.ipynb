{
 "cells": [
  {
   "attachments": {},
   "cell_type": "markdown",
   "metadata": {},
   "source": [
    "## Test Bench\n",
    "This  notebook is used to evaluate the performance of a compression algorithm.\n",
    "\n",
    "It is written such that a new compression algorithm can be added without altering the bench (just change the input in the config)."
   ]
  },
  {
   "cell_type": "code",
   "execution_count": 31,
   "metadata": {},
   "outputs": [],
   "source": [
    "# ADD NEW ALGORITHMS HERE\n",
    "from alg_nocomp import NoCompression\n",
    "from alg_wkt_raw import WktRaw\n",
    "\n",
    "# CONFIG\n",
    "ALG = WktRaw()\n",
    "DATASET_PATH = \"data/lund_building_highway.json\"\n",
    "NBR_ITER = 30\n",
    "\n",
    "COMPR_PATH = \"data/testbench_compressed\"\n",
    "DECOMPR_PATH = \"data/testbench_decompressed\""
   ]
  },
  {
   "cell_type": "code",
   "execution_count": 32,
   "metadata": {},
   "outputs": [],
   "source": [
    "import time\n",
    "import os\n",
    "from enum import Enum\n",
    "import pandas as pd\n",
    "from datetime import datetime\n",
    "import filecmp\n",
    "import random\n",
    "\n",
    "# List the metrics which are to be logged\n",
    "ET = Enum('ET', ['COMP_TIME', 'DECOMP_TIME', 'COMP_SIZE', 'DECOMP_SIZE',\n",
    "    'VERTICES', 'TYPE', 'VERTEX_COUNT', 'AREA', 'LENGTH'\n",
    "]) # EVAL_TYPE"
   ]
  },
  {
   "attachments": {},
   "cell_type": "markdown",
   "metadata": {},
   "source": [
    "### Benchmarking\n",
    "Run the compression, decompression, along with the operations, and store the measurements. Done NBR_ITER times to average."
   ]
  },
  {
   "cell_type": "code",
   "execution_count": 33,
   "metadata": {},
   "outputs": [
    {
     "name": "stdout",
     "output_type": "stream",
     "text": [
      "2403\n"
     ]
    },
    {
     "ename": "KeyError",
     "evalue": "<ET.VERTICES: 5>",
     "output_type": "error",
     "traceback": [
      "\u001b[0;31m---------------------------------------------------------------------------\u001b[0m",
      "\u001b[0;31mKeyError\u001b[0m                                  Traceback (most recent call last)",
      "\u001b[0;32m/var/folders/df/r2pgj1hn11l44vld19_cnq840000gn/T/ipykernel_42874/1790674274.py\u001b[0m in \u001b[0;36m<module>\u001b[0;34m\u001b[0m\n\u001b[1;32m     52\u001b[0m \u001b[0;31m# ------------ UNARY ------------ #\u001b[0m\u001b[0;34m\u001b[0m\u001b[0;34m\u001b[0m\u001b[0m\n\u001b[1;32m     53\u001b[0m     \u001b[0;31m# Get all vertices for Shape\u001b[0m\u001b[0;34m\u001b[0m\u001b[0;34m\u001b[0m\u001b[0m\n\u001b[0;32m---> 54\u001b[0;31m     \u001b[0mmeasure_unary\u001b[0m\u001b[0;34m(\u001b[0m\u001b[0mET\u001b[0m\u001b[0;34m.\u001b[0m\u001b[0mVERTICES\u001b[0m\u001b[0;34m,\u001b[0m \u001b[0midx\u001b[0m\u001b[0;34m)\u001b[0m\u001b[0;34m\u001b[0m\u001b[0;34m\u001b[0m\u001b[0m\n\u001b[0m\u001b[1;32m     55\u001b[0m \u001b[0;34m\u001b[0m\u001b[0m\n\u001b[1;32m     56\u001b[0m     \u001b[0;31m# Get the type of the geometry\u001b[0m\u001b[0;34m\u001b[0m\u001b[0;34m\u001b[0m\u001b[0m\n",
      "\u001b[0;32m/var/folders/df/r2pgj1hn11l44vld19_cnq840000gn/T/ipykernel_42874/1790674274.py\u001b[0m in \u001b[0;36mmeasure_unary\u001b[0;34m(et, idx, value_only)\u001b[0m\n\u001b[1;32m     16\u001b[0m     \u001b[0mAlso\u001b[0m \u001b[0mreturns\u001b[0m \u001b[0mthe\u001b[0m \u001b[0mresulting\u001b[0m \u001b[0mvalue\u001b[0m \u001b[0mof\u001b[0m \u001b[0mthe\u001b[0m \u001b[0moperation\u001b[0m\u001b[0;34m.\u001b[0m\u001b[0;34m\u001b[0m\u001b[0;34m\u001b[0m\u001b[0m\n\u001b[1;32m     17\u001b[0m     \"\"\"\n\u001b[0;32m---> 18\u001b[0;31m     \u001b[0mfunc\u001b[0m \u001b[0;34m=\u001b[0m \u001b[0met_to_func\u001b[0m\u001b[0;34m(\u001b[0m\u001b[0;34m)\u001b[0m\u001b[0;34m[\u001b[0m\u001b[0met\u001b[0m\u001b[0;34m]\u001b[0m \u001b[0;31m# Find the function to be called\u001b[0m\u001b[0;34m\u001b[0m\u001b[0;34m\u001b[0m\u001b[0m\n\u001b[0m\u001b[1;32m     19\u001b[0m     \u001b[0ms\u001b[0m \u001b[0;34m=\u001b[0m \u001b[0mtime\u001b[0m\u001b[0;34m.\u001b[0m\u001b[0mperf_counter\u001b[0m\u001b[0;34m(\u001b[0m\u001b[0;34m)\u001b[0m\u001b[0;34m\u001b[0m\u001b[0;34m\u001b[0m\u001b[0m\n\u001b[1;32m     20\u001b[0m     \u001b[0mv\u001b[0m \u001b[0;34m=\u001b[0m \u001b[0mfunc\u001b[0m\u001b[0;34m(\u001b[0m\u001b[0midx\u001b[0m\u001b[0;34m)\u001b[0m\u001b[0;34m\u001b[0m\u001b[0;34m\u001b[0m\u001b[0m\n",
      "\u001b[0;31mKeyError\u001b[0m: <ET.VERTICES: 5>"
     ]
    }
   ],
   "source": [
    "# Maps an evaluation type to the corresponding function in the algorithm.\n",
    "# Note that ALG (global variable) can change, so a function is used.\n",
    "def et_to_func():\n",
    "    return {\n",
    "        ET.VERTICES: ALG.vertices, \n",
    "        ET.TYPE: ALG.type,\n",
    "        ET.VERTEX_COUNT: ALG.vertex_count, \n",
    "        ET.AREA: ALG.area, \n",
    "        ET.LENGTH: ALG.length \n",
    "        }\n",
    "\n",
    "# Params: \"et: EVAL_TYPE, idx: geometry index to query, value_only: dont save entry in log\"\n",
    "def measure_unary(et, idx, value_only=False): # Works for functions taking only a geometry 'idx' as parameter\n",
    "    \"\"\"\n",
    "    Takes an evaluation type and executes the corresponding operation, storing the execution time and resulting value.\n",
    "    Also returns the resulting value of the operation.\n",
    "    \"\"\"\n",
    "    func = et_to_func()[et] # Find the function to be called\n",
    "    s = time.perf_counter()\n",
    "    v = func(idx)\n",
    "    e = time.perf_counter()\n",
    "    if not value_only:\n",
    "        res[et].append(e - s)\n",
    "        vals[et].append(v)\n",
    "    return v\n",
    "\n",
    "\n",
    "random.seed(\"123\") # If we want to enforce the same ordering and indexes for multiple runs\n",
    "\n",
    "res = {x: [] for x in ['idx'] + list(ET)} # Store the 'results' of the measurements\n",
    "vals = {x: [] for x in ['idx'] + list(ET)[4:]} # Store the 'values' for the operations, to perform correctness check later\n",
    "for i in range(NBR_ITER):\n",
    "    # Compress - perhaps move outside of loop if compression is done for whole data-set at once?\n",
    "    s = time.perf_counter() # Used for timing\n",
    "    ALG.compress(DATASET_PATH, COMPR_PATH)\n",
    "    e = time.perf_counter()\n",
    "    res[ET.COMP_TIME].append(e - s) # Store delta time\n",
    "    res[ET.COMP_SIZE].append(os.stat(COMPR_PATH).st_size) # Store compressed file size\n",
    "\n",
    "    # Decompress\n",
    "    s = time.perf_counter()\n",
    "    ALG.decompress(COMPR_PATH, DECOMPR_PATH)\n",
    "    e = time.perf_counter()\n",
    "    res[ET.DECOMP_TIME].append(e - s) # Store delta time\n",
    "    res[ET.DECOMP_SIZE].append(os.stat(DECOMPR_PATH).st_size) # Store decompressed file size\n",
    "\n",
    "    max_idx = ALG.geometry_count() - 1\n",
    "    idx = random.randint(0, max_idx) # Pick a random geometry to perform the operations on\n",
    "    res[\"idx\"].append(idx)\n",
    "    vals[\"idx\"].append(idx)\n",
    "    print(idx)\n",
    "# ------------ UNARY ------------ #\n",
    "    # Get all vertices for Shape\n",
    "    #measure_unary(ET.VERTICES, idx)\n",
    "\n",
    "    # Get the type of the geometry\n",
    "    measure_unary(ET.TYPE, idx)\n",
    "\n",
    "    # Get the number of vertices for a geometry\n",
    "    measure_unary(ET.VERTEX_COUNT, idx)\n",
    "\n",
    "    # Get the area of the polygon, 0 otherwise\n",
    "    measure_unary(ET.AREA, idx)\n",
    "\n",
    "    # Get the length of the path\n",
    "    measure_unary(ET.LENGTH, idx)\n",
    "\n",
    "df = pd.DataFrame(res)\n",
    "df.loc['mean'] = df.mean()\n",
    "print(\"Geometry count:\", max_idx + 1)\n",
    "df"
   ]
  },
  {
   "attachments": {},
   "cell_type": "markdown",
   "metadata": {},
   "source": [
    "### Plot the Results"
   ]
  },
  {
   "cell_type": "code",
   "execution_count": null,
   "metadata": {},
   "outputs": [
    {
     "ename": "NameError",
     "evalue": "name 'df' is not defined",
     "output_type": "error",
     "traceback": [
      "\u001b[0;31m---------------------------------------------------------------------------\u001b[0m",
      "\u001b[0;31mNameError\u001b[0m                                 Traceback (most recent call last)",
      "\u001b[0;32m/tmp/ipykernel_5454/2084535475.py\u001b[0m in \u001b[0;36m<module>\u001b[0;34m\u001b[0m\n\u001b[0;32m----> 1\u001b[0;31m \u001b[0maverages\u001b[0m \u001b[0;34m=\u001b[0m \u001b[0mdf\u001b[0m\u001b[0;34m.\u001b[0m\u001b[0miloc\u001b[0m\u001b[0;34m[\u001b[0m\u001b[0;34m-\u001b[0m\u001b[0;36m1\u001b[0m\u001b[0;34m]\u001b[0m\u001b[0;34m\u001b[0m\u001b[0;34m\u001b[0m\u001b[0m\n\u001b[0m\u001b[1;32m      2\u001b[0m \u001b[0msizes\u001b[0m \u001b[0;34m=\u001b[0m \u001b[0maverages\u001b[0m\u001b[0;34m[\u001b[0m\u001b[0;34m[\u001b[0m\u001b[0mET\u001b[0m\u001b[0;34m.\u001b[0m\u001b[0mCOMP_SIZE\u001b[0m\u001b[0;34m,\u001b[0m \u001b[0mET\u001b[0m\u001b[0;34m.\u001b[0m\u001b[0mDECOMP_SIZE\u001b[0m\u001b[0;34m]\u001b[0m\u001b[0;34m]\u001b[0m\u001b[0;34m\u001b[0m\u001b[0;34m\u001b[0m\u001b[0m\n\u001b[1;32m      3\u001b[0m \u001b[0msizes\u001b[0m\u001b[0;34m.\u001b[0m\u001b[0mplot\u001b[0m\u001b[0;34m.\u001b[0m\u001b[0mbar\u001b[0m\u001b[0;34m(\u001b[0m\u001b[0;34m)\u001b[0m\u001b[0;34m\u001b[0m\u001b[0;34m\u001b[0m\u001b[0m\n",
      "\u001b[0;31mNameError\u001b[0m: name 'df' is not defined"
     ]
    }
   ],
   "source": [
    "averages = df.iloc[-1]\n",
    "sizes = averages[[ET.COMP_SIZE, ET.DECOMP_SIZE]]\n",
    "sizes.plot.bar()"
   ]
  },
  {
   "cell_type": "code",
   "execution_count": null,
   "metadata": {},
   "outputs": [
    {
     "data": {
      "image/png": "[encoded data removed]",
      "text/plain": [
       "<Figure size 432x288 with 1 Axes>"
      ]
     },
     "metadata": {
      "needs_background": "light"
     },
     "output_type": "display_data"
    }
   ],
   "source": [
    "times = averages.drop(['idx', ET.COMP_SIZE, ET.DECOMP_SIZE])\n",
    "times.plot.bar();"
   ]
  },
  {
   "attachments": {},
   "cell_type": "markdown",
   "metadata": {},
   "source": [
    "### Export to CSV"
   ]
  },
  {
   "cell_type": "code",
   "execution_count": null,
   "metadata": {},
   "outputs": [],
   "source": [
    "# Exports in the format: 2023-02-13_17:09:12_NoCompression.\n",
    "df.to_csv(\"reports/\" + datetime.now().strftime(\"%Y-%m-%d_%H:%M:%S\") + \"_\" + ALG.__class__.__name__ + \".csv\")"
   ]
  },
  {
   "attachments": {},
   "cell_type": "markdown",
   "metadata": {},
   "source": [
    "### Verify Integrity\n",
    "Need to check that the operations are correct and that the decompression is lossless."
   ]
  },
  {
   "cell_type": "code",
   "execution_count": null,
   "metadata": {},
   "outputs": [],
   "source": [
    "# Is decompressed file equal to original?\n",
    "assert(filecmp.cmp(DECOMPR_PATH, DATASET_PATH, shallow=False))\n",
    "\n",
    "df = pd.DataFrame(vals)\n",
    "old_ALG = ALG\n",
    "\n",
    "# Validate the operations, i.e. verify that \"results of the operations performed above\" == \"the results using no compression\".\n",
    "ALG = NoCompression(DATASET_PATH) # Alter global compression algorithm, used in 'measure_unary()'\n",
    "for _, r in df.iterrows():\n",
    "    # The operations that are checked here (supported by \"measure_unary\"):\n",
    "    unary_operations = [ET.VERTICES, ET.TYPE, ET.VERTEX_COUNT, ET.AREA, ET.LENGTH]\n",
    "    for uop in unary_operations:\n",
    "        v_no_compression = measure_unary(uop, r.idx, value_only=True)\n",
    "        assert(v_no_compression == r[uop])\n",
    "\n",
    "ALG = old_ALG"
   ]
  }
 ],
 "metadata": {
  "kernelspec": {
   "display_name": "base",
   "language": "python",
   "name": "python3"
  },
  "language_info": {
   "codemirror_mode": {
    "name": "ipython",
    "version": 3
   },
   "file_extension": ".py",
   "mimetype": "text/x-python",
   "name": "python",
   "nbconvert_exporter": "python",
   "pygments_lexer": "ipython3",
   "version": "3.9.13"
  },
  "orig_nbformat": 4,
  "vscode": {
   "interpreter": {
    "hash": "40d3a090f54c6569ab1632332b64b2c03c39dcf918b08424e98f38b5ae0af88f"
   }
  }
 },
 "nbformat": 4,
 "nbformat_minor": 2
}
