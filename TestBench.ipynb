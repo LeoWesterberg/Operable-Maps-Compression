{
 "cells": [
  {
   "attachments": {},
   "cell_type": "markdown",
   "metadata": {},
   "source": [
    "## Test Bench\n",
    "This  notebook is used to evaluate the performance of a compression algorithm.\n",
    "\n",
    "It is written such that a new compression algorithm can be added without altering the bench (just change the input in the config)."
   ]
  },
  {
   "cell_type": "code",
   "execution_count": 8,
   "metadata": {},
   "outputs": [],
   "source": [
    "# ADD NEW ALGORITHMS HERE\n",
    "from alg_nocomp import NoCompression\n",
    "from alg_wkt_raw import WktRaw\n",
    "from alg_wkt_comp import WktComp\n",
    "from alg_meta_aside_comp import SetAsideCompression\n",
    "\n",
    "\n",
    "# CONFIG\n",
    "ALG = WktComp()\n",
    "DATASET_PATH = \"data/lund_building_highway.json\"\n",
    "NBR_ITER = 30\n",
    "\n",
    "#COMPR_PATH = \"data/meta_aside_output\"\n",
    "COMPR_PATH = \"data/testbench_compressed\"\n",
    "\n",
    "DECOMPR_PATH = \"data/testbench_decompressed\""
   ]
  },
  {
   "cell_type": "code",
   "execution_count": 6,
   "metadata": {},
   "outputs": [],
   "source": [
    "import time\n",
    "import os\n",
    "from enum import Enum\n",
    "import pandas as pd\n",
    "from datetime import datetime\n",
    "import filecmp\n",
    "import random\n",
    "import tqdm\n",
    "\n",
    "# List the metrics which are to be logged\n",
    "ET = Enum('ET', ['COMP_TIME', 'DECOMP_TIME', 'COMP_SIZE', 'DECOMP_SIZE',\n",
    "    'VERTICES', 'TYPE', 'VERTEX_COUNT', 'AREA', 'LENGTH'\n",
    "]) # EVAL_TYPE"
   ]
  },
  {
   "attachments": {},
   "cell_type": "markdown",
   "metadata": {},
   "source": [
    "### Benchmarking\n",
    "Run the compression, decompression, along with the operations, and store the measurements. Done NBR_ITER times to average."
   ]
  },
  {
   "cell_type": "code",
   "execution_count": 7,
   "metadata": {},
   "outputs": [
    {
     "name": "stderr",
     "output_type": "stream",
     "text": [
      " 23%|██▎       | 7/30 [01:50<06:03, 15.80s/it]\n"
     ]
    },
    {
     "ename": "KeyboardInterrupt",
     "evalue": "",
     "output_type": "error",
     "traceback": [
      "\u001b[0;31m---------------------------------------------------------------------------\u001b[0m",
      "\u001b[0;31mKeyboardInterrupt\u001b[0m                         Traceback (most recent call last)",
      "\u001b[0;32m/var/folders/df/r2pgj1hn11l44vld19_cnq840000gn/T/ipykernel_7494/4144260685.py\u001b[0m in \u001b[0;36m<module>\u001b[0;34m\u001b[0m\n\u001b[1;32m     50\u001b[0m     \u001b[0;31m# Decompress\u001b[0m\u001b[0;34m\u001b[0m\u001b[0;34m\u001b[0m\u001b[0m\n\u001b[1;32m     51\u001b[0m     \u001b[0ms\u001b[0m \u001b[0;34m=\u001b[0m \u001b[0mtime\u001b[0m\u001b[0;34m.\u001b[0m\u001b[0mperf_counter\u001b[0m\u001b[0;34m(\u001b[0m\u001b[0;34m)\u001b[0m\u001b[0;34m\u001b[0m\u001b[0;34m\u001b[0m\u001b[0m\n\u001b[0;32m---> 52\u001b[0;31m     \u001b[0mALG\u001b[0m\u001b[0;34m.\u001b[0m\u001b[0mdecompress\u001b[0m\u001b[0;34m(\u001b[0m\u001b[0mCOMPR_PATH\u001b[0m\u001b[0;34m,\u001b[0m \u001b[0mDECOMPR_PATH\u001b[0m\u001b[0;34m)\u001b[0m\u001b[0;34m\u001b[0m\u001b[0;34m\u001b[0m\u001b[0m\n\u001b[0m\u001b[1;32m     53\u001b[0m     \u001b[0me\u001b[0m \u001b[0;34m=\u001b[0m \u001b[0mtime\u001b[0m\u001b[0;34m.\u001b[0m\u001b[0mperf_counter\u001b[0m\u001b[0;34m(\u001b[0m\u001b[0;34m)\u001b[0m\u001b[0;34m\u001b[0m\u001b[0;34m\u001b[0m\u001b[0m\n\u001b[1;32m     54\u001b[0m     \u001b[0mres\u001b[0m\u001b[0;34m[\u001b[0m\u001b[0mET\u001b[0m\u001b[0;34m.\u001b[0m\u001b[0mDECOMP_TIME\u001b[0m\u001b[0;34m]\u001b[0m\u001b[0;34m.\u001b[0m\u001b[0mappend\u001b[0m\u001b[0;34m(\u001b[0m\u001b[0me\u001b[0m \u001b[0;34m-\u001b[0m \u001b[0ms\u001b[0m\u001b[0;34m)\u001b[0m \u001b[0;31m# Store delta time\u001b[0m\u001b[0;34m\u001b[0m\u001b[0;34m\u001b[0m\u001b[0m\n",
      "\u001b[0;32m~/temp/Examensarbete/alg_meta_aside_comp.py\u001b[0m in \u001b[0;36mdecompress\u001b[0;34m(self, file_comp, file_decomp)\u001b[0m\n\u001b[1;32m     74\u001b[0m             \u001b[0;31m#Add decompressed data as JSON structure to the feature list containing all decompressed geometries\u001b[0m\u001b[0;34m\u001b[0m\u001b[0;34m\u001b[0m\u001b[0m\n\u001b[1;32m     75\u001b[0m             feauture_list.append({'type': 'Feature', 'properties': {\n\u001b[0;32m---> 76\u001b[0;31m             }, 'geometry': shapely.geometry.mapping(shapely.wkt.loads(decompressed_data))})\n\u001b[0m\u001b[1;32m     77\u001b[0m \u001b[0;34m\u001b[0m\u001b[0m\n\u001b[1;32m     78\u001b[0m         \u001b[0;31m# Create the FeatureCollection wrapper standard to GeoJson\u001b[0m\u001b[0;34m\u001b[0m\u001b[0;34m\u001b[0m\u001b[0m\n",
      "\u001b[0;32m/opt/anaconda3/lib/python3.9/site-packages/shapely/wkt.py\u001b[0m in \u001b[0;36mloads\u001b[0;34m(data)\u001b[0m\n\u001b[1;32m     20\u001b[0m     \u001b[0mShapely\u001b[0m \u001b[0mgeometry\u001b[0m \u001b[0mobject\u001b[0m\u001b[0;34m\u001b[0m\u001b[0;34m\u001b[0m\u001b[0m\n\u001b[1;32m     21\u001b[0m     \"\"\"\n\u001b[0;32m---> 22\u001b[0;31m     \u001b[0;32mreturn\u001b[0m \u001b[0mshapely\u001b[0m\u001b[0;34m.\u001b[0m\u001b[0mfrom_wkt\u001b[0m\u001b[0;34m(\u001b[0m\u001b[0mdata\u001b[0m\u001b[0;34m)\u001b[0m\u001b[0;34m\u001b[0m\u001b[0;34m\u001b[0m\u001b[0m\n\u001b[0m\u001b[1;32m     23\u001b[0m \u001b[0;34m\u001b[0m\u001b[0m\n\u001b[1;32m     24\u001b[0m \u001b[0;34m\u001b[0m\u001b[0m\n",
      "\u001b[0;32m/opt/anaconda3/lib/python3.9/site-packages/shapely/io.py\u001b[0m in \u001b[0;36mfrom_wkt\u001b[0;34m(geometry, on_invalid, **kwargs)\u001b[0m\n\u001b[1;32m    284\u001b[0m     \u001b[0minvalid_handler\u001b[0m \u001b[0;34m=\u001b[0m \u001b[0mnp\u001b[0m\u001b[0;34m.\u001b[0m\u001b[0muint8\u001b[0m\u001b[0;34m(\u001b[0m\u001b[0mDecodingErrorOptions\u001b[0m\u001b[0;34m.\u001b[0m\u001b[0mget_value\u001b[0m\u001b[0;34m(\u001b[0m\u001b[0mon_invalid\u001b[0m\u001b[0;34m)\u001b[0m\u001b[0;34m)\u001b[0m\u001b[0;34m\u001b[0m\u001b[0;34m\u001b[0m\u001b[0m\n\u001b[1;32m    285\u001b[0m \u001b[0;34m\u001b[0m\u001b[0m\n\u001b[0;32m--> 286\u001b[0;31m     \u001b[0;32mreturn\u001b[0m \u001b[0mlib\u001b[0m\u001b[0;34m.\u001b[0m\u001b[0mfrom_wkt\u001b[0m\u001b[0;34m(\u001b[0m\u001b[0mgeometry\u001b[0m\u001b[0;34m,\u001b[0m \u001b[0minvalid_handler\u001b[0m\u001b[0;34m,\u001b[0m \u001b[0;34m**\u001b[0m\u001b[0mkwargs\u001b[0m\u001b[0;34m)\u001b[0m\u001b[0;34m\u001b[0m\u001b[0;34m\u001b[0m\u001b[0m\n\u001b[0m\u001b[1;32m    287\u001b[0m \u001b[0;34m\u001b[0m\u001b[0m\n\u001b[1;32m    288\u001b[0m \u001b[0;34m\u001b[0m\u001b[0m\n",
      "\u001b[0;31mKeyboardInterrupt\u001b[0m: "
     ]
    }
   ],
   "source": [
    "# Maps an evaluation type to the corresponding function in the algorithm.\n",
    "# Note that ALG (global variable) can change, so a function is used.\n",
    "def et_to_func():\n",
    "    return {\n",
    "        ET.VERTICES: ALG.vertices, \n",
    "        ET.TYPE: ALG.type,\n",
    "        ET.VERTEX_COUNT: ALG.vertex_count, \n",
    "        ET.AREA: ALG.area, \n",
    "        ET.LENGTH: ALG.length \n",
    "        }\n",
    "\n",
    "# Params: \"et: EVAL_TYPE, idx: geometry index to query, value_only: dont save entry in log\"\n",
    "def measure_unary(et, idx, value_only=False): # Works for functions taking only a geometry 'idx' as parameter\n",
    "    \"\"\"\n",
    "    Takes an evaluation type and executes the corresponding operation, storing the execution time and resulting value.\n",
    "    Also returns the resulting value of the operation.\n",
    "    \"\"\"\n",
    "    func = et_to_func()[et] # Find the function to be called\n",
    "    s = time.perf_counter()\n",
    "    v = func(idx)\n",
    "    e = time.perf_counter()\n",
    "    if not value_only:\n",
    "        res[et].append(e - s)\n",
    "        vals[et].append(v)\n",
    "    return v\n",
    "\n",
    "\n",
    "random.seed(\"123\") # If we want to enforce the same ordering and indexes for multiple runs\n",
    "\n",
    "res = {x: [] for x in ['idx'] + list(ET)} # Store the 'results' of the measurements\n",
    "vals = {x: [] for x in ['idx'] + list(ET)[4:]} # Store the 'values' for the operations, to perform correctness check later\n",
    "for i in tqdm.tqdm(range(NBR_ITER)):\n",
    "    # Compress - perhaps move outside of loop if compression is done for whole data-set at once?\n",
    "    s = time.perf_counter() # Used for timing\n",
    "    ALG.compress(DATASET_PATH, COMPR_PATH)\n",
    "    e = time.perf_counter()\n",
    "    res[ET.COMP_TIME].append(e - s) # Store delta time\n",
    "    \n",
    " #Check if compression size is divided into several files or in only one\n",
    "    if os.path.exists(COMPR_PATH) and os.path.isdir(COMPR_PATH):\n",
    "        tot_size = 0\n",
    "        for file in [entry for entry in os.listdir(COMPR_PATH)]:\n",
    "            tot_size += os.stat(COMPR_PATH + '/' + file).st_size\n",
    "    else:\n",
    "        tot_size = os.stat(COMPR_PATH).st_size # Store compressed file size\n",
    "\n",
    "    res[ET.COMP_SIZE].append(tot_size)\n",
    "\n",
    "\n",
    "    # Decompress\n",
    "    s = time.perf_counter()\n",
    "    ALG.decompress(COMPR_PATH, DECOMPR_PATH)\n",
    "    e = time.perf_counter()\n",
    "    res[ET.DECOMP_TIME].append(e - s) # Store delta time\n",
    "    res[ET.DECOMP_SIZE].append(os.stat(DECOMPR_PATH).st_size) # Store decompressed file size\n",
    "\n",
    "\n",
    "    max_idx = ALG.geometry_count() - 1\n",
    "    idx = random.randint(0, max_idx) # Pick a random geometry to perform the operations on\n",
    "    res[\"idx\"].append(idx)\n",
    "    vals[\"idx\"].append(idx)\n",
    "# ------------ UNARY ------------ #\n",
    "    # Get all vertices for Shape\n",
    "    measure_unary(ET.VERTICES, idx)\n",
    "\n",
    "    # Get the type of the geometry\n",
    "    measure_unary(ET.TYPE, idx)\n",
    "\n",
    "    # Get the number of vertices for a geometry\n",
    "    measure_unary(ET.VERTEX_COUNT, idx)\n",
    "\n",
    "    # Get the area of the polygon, 0 otherwise\n",
    "    measure_unary(ET.AREA, idx)\n",
    "\n",
    "    # Get the length of the path\n",
    "    measure_unary(ET.LENGTH, idx)\n",
    "\n",
    "df = pd.DataFrame(res)\n",
    "df.loc['mean'] = df.mean()\n",
    "print(\"Geometry count:\", max_idx + 1)\n",
    "df"
   ]
  },
  {
   "cell_type": "code",
   "execution_count": null,
   "metadata": {},
   "outputs": [],
   "source": []
  },
  {
   "attachments": {},
   "cell_type": "markdown",
   "metadata": {},
   "source": [
    "### Plot the Results"
   ]
  },
  {
   "cell_type": "code",
   "execution_count": null,
   "metadata": {},
   "outputs": [
    {
     "data": {
      "text/plain": [
       "<AxesSubplot:>"
      ]
     },
     "execution_count": 19,
     "metadata": {},
     "output_type": "execute_result"
    },
    {
     "data": {
      "image/png": "[encoded data removed]",
      "text/plain": [
       "<Figure size 640x480 with 1 Axes>"
      ]
     },
     "metadata": {},
     "output_type": "display_data"
    }
   ],
   "source": [
    "averages = df.iloc[-1]\n",
    "sizes = averages[[ET.COMP_SIZE, ET.DECOMP_SIZE]]\n",
    "sizes.plot.bar()"
   ]
  },
  {
   "cell_type": "code",
   "execution_count": null,
   "metadata": {},
   "outputs": [
    {
     "data": {
      "image/png": "[encoded data removed]",
      "text/plain": [
       "<Figure size 640x480 with 1 Axes>"
      ]
     },
     "metadata": {},
     "output_type": "display_data"
    }
   ],
   "source": [
    "comp_decomp_times = averages[[ET.COMP_TIME, ET.DECOMP_TIME]].plot.bar()"
   ]
  },
  {
   "cell_type": "code",
   "execution_count": null,
   "metadata": {},
   "outputs": [
    {
     "data": {
      "image/png": "[encoded data removed]",
      "text/plain": [
       "<Figure size 640x480 with 1 Axes>"
      ]
     },
     "metadata": {},
     "output_type": "display_data"
    }
   ],
   "source": [
    "times = averages.drop(['idx', ET.COMP_SIZE, ET.DECOMP_SIZE, ET.COMP_TIME, ET.DECOMP_TIME])\n",
    "times.plot.bar();"
   ]
  },
  {
   "attachments": {},
   "cell_type": "markdown",
   "metadata": {},
   "source": [
    "### Export to CSV"
   ]
  },
  {
   "cell_type": "code",
   "execution_count": null,
   "metadata": {},
   "outputs": [],
   "source": [
    "# Exports in the format: 2023-02-13_17:09:12_NoCompression.\n",
    "df.to_csv(\"reports/\" + datetime.now().strftime(\"%Y-%m-%d_%H:%M:%S\") + \"_\" + ALG.__class__.__name__ + \".csv\")"
   ]
  },
  {
   "attachments": {},
   "cell_type": "markdown",
   "metadata": {},
   "source": [
    "### Verify Integrity\n",
    "Need to check that the operations are correct and that the decompression is lossless."
   ]
  },
  {
   "cell_type": "code",
   "execution_count": null,
   "metadata": {},
   "outputs": [
    {
     "ename": "ValueError",
     "evalue": "The truth value of an array with more than one element is ambiguous. Use a.any() or a.all()",
     "output_type": "error",
     "traceback": [
      "\u001b[0;31m---------------------------------------------------------------------------\u001b[0m",
      "\u001b[0;31mValueError\u001b[0m                                Traceback (most recent call last)",
      "\u001b[0;32m/var/folders/df/r2pgj1hn11l44vld19_cnq840000gn/T/ipykernel_6883/162685638.py\u001b[0m in \u001b[0;36m<module>\u001b[0;34m\u001b[0m\n\u001b[1;32m     12\u001b[0m     \u001b[0;32mfor\u001b[0m \u001b[0muop\u001b[0m \u001b[0;32min\u001b[0m \u001b[0munary_operations\u001b[0m\u001b[0;34m:\u001b[0m\u001b[0;34m\u001b[0m\u001b[0;34m\u001b[0m\u001b[0m\n\u001b[1;32m     13\u001b[0m         \u001b[0mv_no_compression\u001b[0m \u001b[0;34m=\u001b[0m \u001b[0mmeasure_unary\u001b[0m\u001b[0;34m(\u001b[0m\u001b[0muop\u001b[0m\u001b[0;34m,\u001b[0m \u001b[0mr\u001b[0m\u001b[0;34m.\u001b[0m\u001b[0midx\u001b[0m\u001b[0;34m,\u001b[0m \u001b[0mvalue_only\u001b[0m\u001b[0;34m=\u001b[0m\u001b[0;32mTrue\u001b[0m\u001b[0;34m)\u001b[0m\u001b[0;34m\u001b[0m\u001b[0;34m\u001b[0m\u001b[0m\n\u001b[0;32m---> 14\u001b[0;31m         \u001b[0;32massert\u001b[0m\u001b[0;34m(\u001b[0m\u001b[0mv_no_compression\u001b[0m \u001b[0;34m==\u001b[0m \u001b[0mr\u001b[0m\u001b[0;34m[\u001b[0m\u001b[0muop\u001b[0m\u001b[0;34m]\u001b[0m\u001b[0;34m)\u001b[0m\u001b[0;34m\u001b[0m\u001b[0;34m\u001b[0m\u001b[0m\n\u001b[0m\u001b[1;32m     15\u001b[0m \u001b[0;34m\u001b[0m\u001b[0m\n\u001b[1;32m     16\u001b[0m \u001b[0mALG\u001b[0m \u001b[0;34m=\u001b[0m \u001b[0mold_ALG\u001b[0m\u001b[0;34m\u001b[0m\u001b[0;34m\u001b[0m\u001b[0m\n",
      "\u001b[0;31mValueError\u001b[0m: The truth value of an array with more than one element is ambiguous. Use a.any() or a.all()"
     ]
    }
   ],
   "source": [
    "# Is decompressed file equal to original?\n",
    "#assert(filecmp.cmp(DECOMPR_PATH, DATASET_PATH, shallow=False))\n",
    "\n",
    "df = pd.DataFrame(vals)\n",
    "old_ALG = ALG\n",
    "\n",
    "# Validate the operations, i.e. verify that \"results of the operations performed above\" == \"the results using no compression\".\n",
    "ALG = NoCompression(DATASET_PATH) # Alter global compression algorithm, used in 'measure_unary()'\n",
    "for _, r in df.iterrows():\n",
    "    # The operations that are checked here (supported by \"measure_unary\"):\n",
    "    unary_operations = [ET.VERTICES, ET.TYPE, ET.VERTEX_COUNT, ET.AREA, ET.LENGTH]\n",
    "    for uop in unary_operations:\n",
    "        v_no_compression = measure_unary(uop, r.idx, value_only=True)\n",
    "        assert(v_no_compression == r[uop])\n",
    "\n",
    "ALG = old_ALG"
   ]
  }
 ],
 "metadata": {
  "kernelspec": {
   "display_name": "base",
   "language": "python",
   "name": "python3"
  },
  "language_info": {
   "codemirror_mode": {
    "name": "ipython",
    "version": 3
   },
   "file_extension": ".py",
   "mimetype": "text/x-python",
   "name": "python",
   "nbconvert_exporter": "python",
   "pygments_lexer": "ipython3",
   "version": "3.9.13"
  },
  "orig_nbformat": 4,
  "vscode": {
   "interpreter": {
    "hash": "40d3a090f54c6569ab1632332b64b2c03c39dcf918b08424e98f38b5ae0af88f"
   }
  }
 },
 "nbformat": 4,
 "nbformat_minor": 2
}
