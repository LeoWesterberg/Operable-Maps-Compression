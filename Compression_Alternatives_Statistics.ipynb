{
 "cells": [
  {
   "attachments": {},
   "cell_type": "markdown",
   "metadata": {},
   "source": [
    "## Multi Dataset Size Statistics\n",
    "This notebook can be used to collect the size of different FPDE setups."
   ]
  },
  {
   "cell_type": "code",
   "execution_count": null,
   "metadata": {},
   "outputs": [],
   "source": [
    "import jsonlines\n",
    "import glob\n",
    "import osmnx as ox\n",
    "import matplotlib.pyplot as plt\n",
    "import pandas as pd\n",
    "import geopandas as gpd\n",
    "import folium\n",
    "import tqdm\n",
    "import shapely\n",
    "import algos.fpd_extended_lib.cfg as cfg\n",
    "import random\n",
    "import os\n",
    "from shapely.wkt import loads\n",
    "import numpy as np\n",
    "import re\n",
    "import seaborn as sns\n",
    "from algos.alg_fpd_extended import FpdExtended\n",
    "import pickle\n",
    "import gzip\n",
    "import bz2\n",
    "\n",
    "alg = FpdExtended()\n",
    "NBR_ITER = 30000\n",
    "\n",
    "DATASETS_PATHS = [\"data/sweden-latest-free/gis_osm_buildings_a_free_1.shp\", \"data/sweden-latest-free/gis_osm_roads_free_1.shp\", 'data/sweden-latest-free', \"data/china-latest-free/gis_osm_water_a_free_1.shp\", \"data/final_country_borders.shp\"]\n",
    "LOAD_SAMPLED_DATASETS = True\n",
    "STORE_SAMPLED_DATASETS = False\n",
    "datasets = []\n",
    "if not LOAD_SAMPLED_DATASETS:\n",
    "    for ds in DATASETS_PATHS:\n",
    "        if not ds.endswith('.shp'):\n",
    "            files = glob.glob(ds + '/*.shp')\n",
    "        else:\n",
    "            files = [ds]\n",
    "\n",
    "        ds_shapes = pd.DataFrame()\n",
    "        for i, f in enumerate(tqdm.tqdm(files, disable=True)):\n",
    "            file_df = gpd.read_file(f)\n",
    "            print(\"Count of entries:\", len(file_df))\n",
    "            file_df = file_df[file_df.type != \"Point\"]\n",
    "            print(\"---\", ds, \"---\")\n",
    "            print(\"Count of entries (no points):\", len(file_df))\n",
    "            if len(file_df) == 0:\n",
    "                continue\n",
    "            else:\n",
    "                shapes = file_df.geometry\n",
    "                if len(ds_shapes) > 0:\n",
    "                    ds_shapes = pd.concat([ds_shapes, shapes])\n",
    "                else:\n",
    "                    ds_shapes = shapes\n",
    "\n",
    "        if NBR_ITER != -1 and len(ds_shapes) > 0:\n",
    "            ds_shapes = ds_shapes.sample(n=NBR_ITER, replace=True)\n",
    "        if len(ds_shapes) > 0:\n",
    "            datasets.append(ds_shapes)\n",
    "    if STORE_SAMPLED_DATASETS:\n",
    "        with open('data/compression_alternatives_ds_sampled.pkl', 'wb') as f:\n",
    "          pickle.dump(datasets, f)\n",
    "else:\n",
    "    with open('data/compression_alternatives_ds_sampled.pkl', 'rb') as f:\n",
    "        datasets = pickle.load(f)"
   ]
  },
  {
   "cell_type": "code",
   "execution_count": null,
   "metadata": {},
   "outputs": [],
   "source": [
    "configs = []\n",
    "\n",
    "## ------ BASELINE ------ ##\n",
    "config = {}\n",
    "def setup():\n",
    "    cfg.MAX_NUM_DELTAS, cfg.BASELINE_ON, cfg.DISABLE_OPTIMIZED_INTERSECTION, cfg.DISABLE_OPTIMIZED_ADD_VERTEX, cfg.DISABLE_OPTIMIZED_BOUNDING_BOX, cfg.USE_DEFAULT_DOUBLE, cfg.FLOAT_SIZE, cfg.USE_FPINT = 99999, True, True, True, True, True, 64, False\n",
    "config['name'] = \"FPD (Baseline)\"\n",
    "config['setup_function'] = setup\n",
    "configs.append(config)\n",
    "\n",
    "## ------ FPDE ------ ##\n",
    "config = {}\n",
    "config['name'] = \"FPDE\"\n",
    "configs.append(config)\n",
    "\n",
    "\n",
    "## ------ FPDE + Entropy ------ ##\n",
    "config = {}\n",
    "def setup():\n",
    "    cfg.ENTROPY_METHOD = cfg.EM.AUTO\n",
    "config['name'] = \"FPDE: Entropy Encoding\"\n",
    "config['setup_function'] = setup\n",
    "configs.append(config)\n",
    "\n",
    "\n",
    "## ------ FPDE + Size Optimal ------ ##\n",
    "config = {}\n",
    "def setup():\n",
    "    cfg.ENTROPY_METHOD = cfg.EM.AUTO\n",
    "    cfg.DISABLE_RANDOM_ACCESS = True\n",
    "    cfg.DISABLE_OPTIMIZED_INTERSECTION, cfg.DISABLE_OPTIMIZED_BOUNDING_BOX = True, True\n",
    "config['name'] = \"FPDE: Size Optimized\"\n",
    "config['setup_function'] = setup\n",
    "configs.append(config)\n",
    "\n",
    "\n",
    "## ------ FPDE - FLOAT DELTAS ------ ##\n",
    "config = {}\n",
    "def setup():\n",
    "    cfg.USE_DEFAULT_DOUBLE, cfg.FLOAT_SIZE, cfg.USE_FPINT = True, 64, False\n",
    "config['name'] = \"FPDE: Arbitrary Precision\"\n",
    "config['setup_function'] = setup\n",
    "configs.append(config)\n",
    "\n",
    "# ------ WKB ------ ##\n",
    "config = {}\n",
    "config['name'] = \"WKB\"\n",
    "config['compress_function'] = lambda shp: shapely.to_wkb(shp)\n",
    "configs.append(config)\n",
    "\n",
    "## ------ WKB + GZIP ------ ##\n",
    "config = {}\n",
    "config['name'] = \"WKB: GZIP\"\n",
    "config['compress_function'] = lambda shp: gzip.compress(shapely.to_wkb(shp))\n",
    "configs.append(config)\n",
    "\n",
    "## ------ WKB + BZ2 ------ ##\n",
    "config = {}\n",
    "config['name'] = \"WKB: BZIP2\"\n",
    "config['compress_function'] = lambda shp: bz2.compress(shapely.to_wkb(shp))\n",
    "configs.append(config)\n"
   ]
  },
  {
   "cell_type": "code",
   "execution_count": null,
   "metadata": {},
   "outputs": [],
   "source": [
    "DO_EVALUATE = False\n",
    "\n",
    "if DO_EVALUATE:\n",
    "    # Create resulting df\n",
    "    df = pd.DataFrame(columns=[\"Dataset\", \"Algorithm\", \"Size\", \"Relative Size\", \"Wkb Size\"])\n",
    "\n",
    "    def evaluate_fpde_config(shapes, df, dataset_name, config):\n",
    "        old_cfg = cfg.USE_DEFAULT_DOUBLE, cfg.ENTROPY_METHOD, cfg.DISABLE_RANDOM_ACCESS, cfg.CHUNK_COMP_METHOD, cfg.D_BITSIZE_SIZE, cfg.POLY_RING_CNT_SIZE, cfg.RING_CHK_CNT_SIZE, cfg.MAX_NUM_DELTAS, cfg.D_CNT_SIZE, cfg.BASELINE_ON, cfg.DISABLE_OPTIMIZED_UNPACKING, cfg.DELTA_ENCODE_CHUNK_BBOXES, cfg.DISABLE_OPTIMIZED_INTERSECTION, cfg.DISABLE_OPTIMIZED_ADD_VERTEX, cfg.DISABLE_OPTIMIZED_BOUNDING_BOX, cfg.binary_length, cfg.offset, cfg.FLOAT_SIZE, cfg.ENTROPY_PARAM, cfg.USE_FPINT, cfg.USE_ENTROPY, cfg.COMPRESS_CHUNK, cfg.EXPONENT, cfg.EOF_THRESHOLD \n",
    "        if 'setup_function' in config:\n",
    "            config['setup_function']()\n",
    "            \n",
    "        for idx, s in enumerate(tqdm.tqdm(shapes)):\n",
    "            if 'compress_function' not in config:\n",
    "                bin = alg.compress(s)[1]\n",
    "            else:\n",
    "                bin = config['compress_function'](s)\n",
    "            bin_len = len(bin)\n",
    "            wkb_len = len(shapely.to_wkb(s))\n",
    "            df.loc[len(df)] = [dataset_name, config['name'], bin_len, wkb_len / bin_len, wkb_len]\n",
    "        cfg.USE_DEFAULT_DOUBLE, cfg.ENTROPY_METHOD, cfg.DISABLE_RANDOM_ACCESS, cfg.CHUNK_COMP_METHOD, cfg.D_BITSIZE_SIZE, cfg.POLY_RING_CNT_SIZE, cfg.RING_CHK_CNT_SIZE, cfg.MAX_NUM_DELTAS, cfg.D_CNT_SIZE, cfg.BASELINE_ON, cfg.DISABLE_OPTIMIZED_UNPACKING, cfg.DELTA_ENCODE_CHUNK_BBOXES, cfg.DISABLE_OPTIMIZED_INTERSECTION, cfg.DISABLE_OPTIMIZED_ADD_VERTEX, cfg.DISABLE_OPTIMIZED_BOUNDING_BOX, cfg.binary_length, cfg.offset, cfg.FLOAT_SIZE, cfg.ENTROPY_PARAM, cfg.USE_FPINT, cfg.USE_ENTROPY, cfg.COMPRESS_CHUNK, cfg.EXPONENT, cfg.EOF_THRESHOLD = old_cfg\n",
    "        return df\n",
    "\n",
    "    ds_labels = [\"Sweden Buildings\", \"Sweden Roads\", \"Sweden All\", \"China Water\", \"Country Borders\"]\n",
    "    for c in configs:\n",
    "        for ds_i, ds in enumerate(datasets):\n",
    "            df = evaluate_fpde_config(ds, df, ds_labels[ds_i], c)"
   ]
  },
  {
   "cell_type": "code",
   "execution_count": null,
   "metadata": {},
   "outputs": [],
   "source": [
    "import pickle\n",
    "# with open('data/compression_config_stats.pkl', 'wb') as f:\n",
    "#     pickle.dump(df, f)\n",
    "\n",
    "\n",
    "with open('data/compression_config_stats.pkl', 'rb') as f:\n",
    "        df = pickle.load(f)\n"
   ]
  },
  {
   "cell_type": "code",
   "execution_count": null,
   "metadata": {},
   "outputs": [],
   "source": [
    "import plotly.express as px\n",
    "def plot_total_time_box(df, y='Size', title=\"\"):\n",
    "    fig = px.box(df, \n",
    "                 x=\"Algorithm\", \n",
    "                 y=y,\n",
    "                 facet_col=\"Dataset\", \n",
    "                 color=\"Algorithm\",\n",
    "                 boxmode=\"group\", \n",
    "                 facet_col_spacing=0.1, \n",
    "                 facet_row_spacing=0.1,\n",
    "                 title=title,\n",
    "                 labels=dict(sizes=\"Sizes\", context=\"Context\", baseline=\"Baseline\"),\n",
    "                 facet_col_wrap=3,\n",
    "                 height=900,\n",
    "                 width=1200\n",
    "                 )\n",
    "    #make_general_facet_title(fig, \"Bouning Box Context\", \"Mean Execution Time (s)\")\n",
    "    fig.update_yaxes(matches=None)\n",
    "    fig.for_each_yaxis(lambda yaxis: yaxis.update(showticklabels=True))\n",
    "    \n",
    "    fig.show()\n",
    "\n",
    "#display(df)\n",
    "plot_total_time_box(df, title=\"Compression Size\")\n",
    "plot_total_time_box(df, y=\"Relative Size\", title=\"Compression Factor\")\n",
    "display(df)"
   ]
  },
  {
   "cell_type": "code",
   "execution_count": null,
   "metadata": {},
   "outputs": [],
   "source": [
    "p = sns.catplot(kind='boxen', data=df, x='Algorithm', y='Relative Size', col='Dataset', col_wrap=2, height=4)\n",
    "\n",
    "# add figure level title\n",
    "p.fig.subplots_adjust(top=0.9)\n",
    "p.fig.suptitle('Sapiens', size=16)\n",
    "\n",
    "# enable tick labels for xticks on all axes\n",
    "for ax in p.axes.flat:\n",
    "    ax.tick_params(labelbottom=False)\n",
    "p.tight_layout()\n",
    "plt.grid()"
   ]
  },
  {
   "cell_type": "code",
   "execution_count": null,
   "metadata": {},
   "outputs": [],
   "source": [
    "\n",
    "df_stripped = df[~df['Algorithm'].isin([\"WKB: BZIP2\", \"WKB: GZIP\"])]\n",
    "sns.set_context(\"notebook\", font_scale=1.2)\n",
    "p = sns.catplot(kind='violin', data=df_stripped, x='Relative Size', y='Algorithm', col='Dataset', hue=\"Algorithm\", dodge=False, aspect=1.5, palette='pastel', col_wrap=2, height=3.5, orient='h', legend=True, legend_out=False)\n",
    "# add figure level title\n",
    "# boxen\n",
    "\n",
    "axes = p.axes.flat\n",
    "axes[0].legend(bbox_to_anchor=(1.97, -1.57))\n",
    "# enable tick labels for xticks on all axes\n",
    "for i, ax in enumerate(axes):\n",
    "    if i != 2:\n",
    "        ax.set_ylabel('')\n",
    "    if i != 4:\n",
    "        ax.set_xlabel('')\n",
    "    else:\n",
    "        ax.set_xlabel('Compression Factor')\n",
    "    original_title = ax.title.get_text()  # Get the original title\n",
    "    title_without_prefix = original_title.split('=')[-1].strip()  # Remove the \"Dataset =\" prefix\n",
    "    ax.set_title(title_without_prefix)  # Set the modified title\n",
    "    ax.tick_params(labelbottom=True)\n",
    "    ax.set_xlim([0, 5.5])\n",
    "    ax.tick_params(labelleft=False)\n",
    "    ax.grid(axis='x')\n",
    "    ax.set_axisbelow(True)\n",
    "\n",
    "#axes[0].tick_params(labelleft=True)\n",
    "plt.show()"
   ]
  },
  {
   "cell_type": "code",
   "execution_count": null,
   "metadata": {},
   "outputs": [],
   "source": [
    "display(df)\n",
    "pd.options.display.float_format = \"{:,.2f}\".format\n",
    "df_avg = df.groupby(['Dataset', 'Algorithm']).sum()\n",
    "df_avg['Total Comp Factor'] = df_avg['Wkb Size'] / df_avg['Size']\n",
    "df_avg['Total Comp Ratio'] = 100 * df_avg['Size'] / df_avg['Wkb Size']\n",
    "df_avg['Size Kb'] = df_avg['Size'] / (8388608)\n",
    "display(df_avg)\n",
    "\n",
    "res = \"\"\n",
    "prev = None\n",
    "for i, d in df_avg.iterrows():\n",
    "    if i[0] != prev:\n",
    "        if prev != None:\n",
    "            print(res)\n",
    "        res = f\"{i[0]} & \"\n",
    "        prev = i[0] # ({round(d['Total Comp Ratio'], 1)})\n",
    "    res += f\"{round(d['Total Comp Factor'], 2)} & \"\n",
    "    #print(i[1])\n",
    "\n",
    "print(res)\n",
    "# df_avg = df.sum()\n",
    "# df_avg['Total Comp Factor'] = df_avg['Wkb Size'] / df_avg['Size']\n",
    "# df_avg['Total Comp Ratio'] = 100 * df_avg['Size'] / df_avg['Wkb Size']\n",
    "# df_avg['Size Kb'] = df_avg['Size'] / (8388608)"
   ]
  },
  {
   "cell_type": "code",
   "execution_count": 97,
   "metadata": {},
   "outputs": [
    {
     "name": "stderr",
     "output_type": "stream",
     "text": [
      "/var/folders/ds/y4dj2v9s35v24dtls2t60q7m0000gn/T/ipykernel_6079/451541549.py:1: FutureWarning:\n",
      "\n",
      "Indexing with multiple keys (implicitly converted to a tuple of keys) will be deprecated, use a list instead.\n",
      "\n"
     ]
    },
    {
     "data": {
      "text/html": [
       "<div>\n",
       "<style scoped>\n",
       "    .dataframe tbody tr th:only-of-type {\n",
       "        vertical-align: middle;\n",
       "    }\n",
       "\n",
       "    .dataframe tbody tr th {\n",
       "        vertical-align: top;\n",
       "    }\n",
       "\n",
       "    .dataframe thead th {\n",
       "        text-align: right;\n",
       "    }\n",
       "</style>\n",
       "<table border=\"1\" class=\"dataframe\">\n",
       "  <thead>\n",
       "    <tr style=\"text-align: right;\">\n",
       "      <th></th>\n",
       "      <th>Algorithm</th>\n",
       "      <th>Compression Factor</th>\n",
       "      <th>Wkb Size</th>\n",
       "    </tr>\n",
       "  </thead>\n",
       "  <tbody>\n",
       "    <tr>\n",
       "      <th>0</th>\n",
       "      <td>FPD (Baseline)</td>\n",
       "      <td>1.63</td>\n",
       "      <td>36,735,442.80</td>\n",
       "    </tr>\n",
       "    <tr>\n",
       "      <th>1</th>\n",
       "      <td>FPDE</td>\n",
       "      <td>2.29</td>\n",
       "      <td>36,735,442.80</td>\n",
       "    </tr>\n",
       "    <tr>\n",
       "      <th>3</th>\n",
       "      <td>FPDE: Entropy Encoding</td>\n",
       "      <td>2.41</td>\n",
       "      <td>36,735,442.80</td>\n",
       "    </tr>\n",
       "    <tr>\n",
       "      <th>4</th>\n",
       "      <td>FPDE: Size Optimized</td>\n",
       "      <td>4.26</td>\n",
       "      <td>36,735,442.80</td>\n",
       "    </tr>\n",
       "    <tr>\n",
       "      <th>5</th>\n",
       "      <td>WKB</td>\n",
       "      <td>1.00</td>\n",
       "      <td>36,735,442.80</td>\n",
       "    </tr>\n",
       "    <tr>\n",
       "      <th>7</th>\n",
       "      <td>WKB: GZIP</td>\n",
       "      <td>1.19</td>\n",
       "      <td>36,735,442.80</td>\n",
       "    </tr>\n",
       "  </tbody>\n",
       "</table>\n",
       "</div>"
      ],
      "text/plain": [
       "                Algorithm  Compression Factor      Wkb Size\n",
       "0          FPD (Baseline)                1.63 36,735,442.80\n",
       "1                    FPDE                2.29 36,735,442.80\n",
       "3  FPDE: Entropy Encoding                2.41 36,735,442.80\n",
       "4    FPDE: Size Optimized                4.26 36,735,442.80\n",
       "5                     WKB                1.00 36,735,442.80\n",
       "7               WKB: GZIP                1.19 36,735,442.80"
      ]
     },
     "metadata": {},
     "output_type": "display_data"
    },
    {
     "data": {
      "application/vnd.plotly.v1+json": {
       "config": {
        "plotlyServerURL": "https://plot.ly"
       },
       "data": [
        {
         "alignmentgroup": "True",
         "hovertemplate": "Algorithm=%{x}<br>Compression Factor=%{y}<extra></extra>",
         "legendgroup": "",
         "marker": {
          "color": "#636efa",
          "pattern": {
           "shape": ""
          }
         },
         "name": "",
         "offsetgroup": "",
         "orientation": "v",
         "showlegend": false,
         "textfont": {
          "size": 16
         },
         "textposition": "auto",
         "texttemplate": "%{y:.1f}",
         "type": "bar",
         "x": [
          "FPD (Baseline)",
          "FPDE",
          "FPDE: Entropy Encoding",
          "FPDE: Size Optimized",
          "WKB",
          "WKB: GZIP"
         ],
         "xaxis": "x",
         "y": [
          1.6271250385263045,
          2.292443818507143,
          2.4138055198644084,
          4.26369316940472,
          1,
          1.1856489187955206
         ],
         "yaxis": "y"
        }
       ],
       "layout": {
        "barmode": "relative",
        "font": {
         "size": 18
        },
        "legend": {
         "tracegroupgap": 0
        },
        "margin": {
         "t": 60
        },
        "template": {
         "data": {
          "bar": [
           {
            "error_x": {
             "color": "#2a3f5f"
            },
            "error_y": {
             "color": "#2a3f5f"
            },
            "marker": {
             "line": {
              "color": "#E5ECF6",
              "width": 0.5
             },
             "pattern": {
              "fillmode": "overlay",
              "size": 10,
              "solidity": 0.2
             }
            },
            "type": "bar"
           }
          ],
          "barpolar": [
           {
            "marker": {
             "line": {
              "color": "#E5ECF6",
              "width": 0.5
             },
             "pattern": {
              "fillmode": "overlay",
              "size": 10,
              "solidity": 0.2
             }
            },
            "type": "barpolar"
           }
          ],
          "carpet": [
           {
            "aaxis": {
             "endlinecolor": "#2a3f5f",
             "gridcolor": "white",
             "linecolor": "white",
             "minorgridcolor": "white",
             "startlinecolor": "#2a3f5f"
            },
            "baxis": {
             "endlinecolor": "#2a3f5f",
             "gridcolor": "white",
             "linecolor": "white",
             "minorgridcolor": "white",
             "startlinecolor": "#2a3f5f"
            },
            "type": "carpet"
           }
          ],
          "choropleth": [
           {
            "colorbar": {
             "outlinewidth": 0,
             "ticks": ""
            },
            "type": "choropleth"
           }
          ],
          "contour": [
           {
            "colorbar": {
             "outlinewidth": 0,
             "ticks": ""
            },
            "colorscale": [
             [
              0,
              "#0d0887"
             ],
             [
              0.1111111111111111,
              "#46039f"
             ],
             [
              0.2222222222222222,
              "#7201a8"
             ],
             [
              0.3333333333333333,
              "#9c179e"
             ],
             [
              0.4444444444444444,
              "#bd3786"
             ],
             [
              0.5555555555555556,
              "#d8576b"
             ],
             [
              0.6666666666666666,
              "#ed7953"
             ],
             [
              0.7777777777777778,
              "#fb9f3a"
             ],
             [
              0.8888888888888888,
              "#fdca26"
             ],
             [
              1,
              "#f0f921"
             ]
            ],
            "type": "contour"
           }
          ],
          "contourcarpet": [
           {
            "colorbar": {
             "outlinewidth": 0,
             "ticks": ""
            },
            "type": "contourcarpet"
           }
          ],
          "heatmap": [
           {
            "colorbar": {
             "outlinewidth": 0,
             "ticks": ""
            },
            "colorscale": [
             [
              0,
              "#0d0887"
             ],
             [
              0.1111111111111111,
              "#46039f"
             ],
             [
              0.2222222222222222,
              "#7201a8"
             ],
             [
              0.3333333333333333,
              "#9c179e"
             ],
             [
              0.4444444444444444,
              "#bd3786"
             ],
             [
              0.5555555555555556,
              "#d8576b"
             ],
             [
              0.6666666666666666,
              "#ed7953"
             ],
             [
              0.7777777777777778,
              "#fb9f3a"
             ],
             [
              0.8888888888888888,
              "#fdca26"
             ],
             [
              1,
              "#f0f921"
             ]
            ],
            "type": "heatmap"
           }
          ],
          "heatmapgl": [
           {
            "colorbar": {
             "outlinewidth": 0,
             "ticks": ""
            },
            "colorscale": [
             [
              0,
              "#0d0887"
             ],
             [
              0.1111111111111111,
              "#46039f"
             ],
             [
              0.2222222222222222,
              "#7201a8"
             ],
             [
              0.3333333333333333,
              "#9c179e"
             ],
             [
              0.4444444444444444,
              "#bd3786"
             ],
             [
              0.5555555555555556,
              "#d8576b"
             ],
             [
              0.6666666666666666,
              "#ed7953"
             ],
             [
              0.7777777777777778,
              "#fb9f3a"
             ],
             [
              0.8888888888888888,
              "#fdca26"
             ],
             [
              1,
              "#f0f921"
             ]
            ],
            "type": "heatmapgl"
           }
          ],
          "histogram": [
           {
            "marker": {
             "pattern": {
              "fillmode": "overlay",
              "size": 10,
              "solidity": 0.2
             }
            },
            "type": "histogram"
           }
          ],
          "histogram2d": [
           {
            "colorbar": {
             "outlinewidth": 0,
             "ticks": ""
            },
            "colorscale": [
             [
              0,
              "#0d0887"
             ],
             [
              0.1111111111111111,
              "#46039f"
             ],
             [
              0.2222222222222222,
              "#7201a8"
             ],
             [
              0.3333333333333333,
              "#9c179e"
             ],
             [
              0.4444444444444444,
              "#bd3786"
             ],
             [
              0.5555555555555556,
              "#d8576b"
             ],
             [
              0.6666666666666666,
              "#ed7953"
             ],
             [
              0.7777777777777778,
              "#fb9f3a"
             ],
             [
              0.8888888888888888,
              "#fdca26"
             ],
             [
              1,
              "#f0f921"
             ]
            ],
            "type": "histogram2d"
           }
          ],
          "histogram2dcontour": [
           {
            "colorbar": {
             "outlinewidth": 0,
             "ticks": ""
            },
            "colorscale": [
             [
              0,
              "#0d0887"
             ],
             [
              0.1111111111111111,
              "#46039f"
             ],
             [
              0.2222222222222222,
              "#7201a8"
             ],
             [
              0.3333333333333333,
              "#9c179e"
             ],
             [
              0.4444444444444444,
              "#bd3786"
             ],
             [
              0.5555555555555556,
              "#d8576b"
             ],
             [
              0.6666666666666666,
              "#ed7953"
             ],
             [
              0.7777777777777778,
              "#fb9f3a"
             ],
             [
              0.8888888888888888,
              "#fdca26"
             ],
             [
              1,
              "#f0f921"
             ]
            ],
            "type": "histogram2dcontour"
           }
          ],
          "mesh3d": [
           {
            "colorbar": {
             "outlinewidth": 0,
             "ticks": ""
            },
            "type": "mesh3d"
           }
          ],
          "parcoords": [
           {
            "line": {
             "colorbar": {
              "outlinewidth": 0,
              "ticks": ""
             }
            },
            "type": "parcoords"
           }
          ],
          "pie": [
           {
            "automargin": true,
            "type": "pie"
           }
          ],
          "scatter": [
           {
            "fillpattern": {
             "fillmode": "overlay",
             "size": 10,
             "solidity": 0.2
            },
            "type": "scatter"
           }
          ],
          "scatter3d": [
           {
            "line": {
             "colorbar": {
              "outlinewidth": 0,
              "ticks": ""
             }
            },
            "marker": {
             "colorbar": {
              "outlinewidth": 0,
              "ticks": ""
             }
            },
            "type": "scatter3d"
           }
          ],
          "scattercarpet": [
           {
            "marker": {
             "colorbar": {
              "outlinewidth": 0,
              "ticks": ""
             }
            },
            "type": "scattercarpet"
           }
          ],
          "scattergeo": [
           {
            "marker": {
             "colorbar": {
              "outlinewidth": 0,
              "ticks": ""
             }
            },
            "type": "scattergeo"
           }
          ],
          "scattergl": [
           {
            "marker": {
             "colorbar": {
              "outlinewidth": 0,
              "ticks": ""
             }
            },
            "type": "scattergl"
           }
          ],
          "scattermapbox": [
           {
            "marker": {
             "colorbar": {
              "outlinewidth": 0,
              "ticks": ""
             }
            },
            "type": "scattermapbox"
           }
          ],
          "scatterpolar": [
           {
            "marker": {
             "colorbar": {
              "outlinewidth": 0,
              "ticks": ""
             }
            },
            "type": "scatterpolar"
           }
          ],
          "scatterpolargl": [
           {
            "marker": {
             "colorbar": {
              "outlinewidth": 0,
              "ticks": ""
             }
            },
            "type": "scatterpolargl"
           }
          ],
          "scatterternary": [
           {
            "marker": {
             "colorbar": {
              "outlinewidth": 0,
              "ticks": ""
             }
            },
            "type": "scatterternary"
           }
          ],
          "surface": [
           {
            "colorbar": {
             "outlinewidth": 0,
             "ticks": ""
            },
            "colorscale": [
             [
              0,
              "#0d0887"
             ],
             [
              0.1111111111111111,
              "#46039f"
             ],
             [
              0.2222222222222222,
              "#7201a8"
             ],
             [
              0.3333333333333333,
              "#9c179e"
             ],
             [
              0.4444444444444444,
              "#bd3786"
             ],
             [
              0.5555555555555556,
              "#d8576b"
             ],
             [
              0.6666666666666666,
              "#ed7953"
             ],
             [
              0.7777777777777778,
              "#fb9f3a"
             ],
             [
              0.8888888888888888,
              "#fdca26"
             ],
             [
              1,
              "#f0f921"
             ]
            ],
            "type": "surface"
           }
          ],
          "table": [
           {
            "cells": {
             "fill": {
              "color": "#EBF0F8"
             },
             "line": {
              "color": "white"
             }
            },
            "header": {
             "fill": {
              "color": "#C8D4E3"
             },
             "line": {
              "color": "white"
             }
            },
            "type": "table"
           }
          ]
         },
         "layout": {
          "annotationdefaults": {
           "arrowcolor": "#2a3f5f",
           "arrowhead": 0,
           "arrowwidth": 1
          },
          "autotypenumbers": "strict",
          "coloraxis": {
           "colorbar": {
            "outlinewidth": 0,
            "ticks": ""
           }
          },
          "colorscale": {
           "diverging": [
            [
             0,
             "#8e0152"
            ],
            [
             0.1,
             "#c51b7d"
            ],
            [
             0.2,
             "#de77ae"
            ],
            [
             0.3,
             "#f1b6da"
            ],
            [
             0.4,
             "#fde0ef"
            ],
            [
             0.5,
             "#f7f7f7"
            ],
            [
             0.6,
             "#e6f5d0"
            ],
            [
             0.7,
             "#b8e186"
            ],
            [
             0.8,
             "#7fbc41"
            ],
            [
             0.9,
             "#4d9221"
            ],
            [
             1,
             "#276419"
            ]
           ],
           "sequential": [
            [
             0,
             "#0d0887"
            ],
            [
             0.1111111111111111,
             "#46039f"
            ],
            [
             0.2222222222222222,
             "#7201a8"
            ],
            [
             0.3333333333333333,
             "#9c179e"
            ],
            [
             0.4444444444444444,
             "#bd3786"
            ],
            [
             0.5555555555555556,
             "#d8576b"
            ],
            [
             0.6666666666666666,
             "#ed7953"
            ],
            [
             0.7777777777777778,
             "#fb9f3a"
            ],
            [
             0.8888888888888888,
             "#fdca26"
            ],
            [
             1,
             "#f0f921"
            ]
           ],
           "sequentialminus": [
            [
             0,
             "#0d0887"
            ],
            [
             0.1111111111111111,
             "#46039f"
            ],
            [
             0.2222222222222222,
             "#7201a8"
            ],
            [
             0.3333333333333333,
             "#9c179e"
            ],
            [
             0.4444444444444444,
             "#bd3786"
            ],
            [
             0.5555555555555556,
             "#d8576b"
            ],
            [
             0.6666666666666666,
             "#ed7953"
            ],
            [
             0.7777777777777778,
             "#fb9f3a"
            ],
            [
             0.8888888888888888,
             "#fdca26"
            ],
            [
             1,
             "#f0f921"
            ]
           ]
          },
          "colorway": [
           "#636efa",
           "#EF553B",
           "#00cc96",
           "#ab63fa",
           "#FFA15A",
           "#19d3f3",
           "#FF6692",
           "#B6E880",
           "#FF97FF",
           "#FECB52"
          ],
          "font": {
           "color": "#2a3f5f"
          },
          "geo": {
           "bgcolor": "white",
           "lakecolor": "white",
           "landcolor": "#E5ECF6",
           "showlakes": true,
           "showland": true,
           "subunitcolor": "white"
          },
          "hoverlabel": {
           "align": "left"
          },
          "hovermode": "closest",
          "mapbox": {
           "style": "light"
          },
          "paper_bgcolor": "white",
          "plot_bgcolor": "#E5ECF6",
          "polar": {
           "angularaxis": {
            "gridcolor": "white",
            "linecolor": "white",
            "ticks": ""
           },
           "bgcolor": "#E5ECF6",
           "radialaxis": {
            "gridcolor": "white",
            "linecolor": "white",
            "ticks": ""
           }
          },
          "scene": {
           "xaxis": {
            "backgroundcolor": "#E5ECF6",
            "gridcolor": "white",
            "gridwidth": 2,
            "linecolor": "white",
            "showbackground": true,
            "ticks": "",
            "zerolinecolor": "white"
           },
           "yaxis": {
            "backgroundcolor": "#E5ECF6",
            "gridcolor": "white",
            "gridwidth": 2,
            "linecolor": "white",
            "showbackground": true,
            "ticks": "",
            "zerolinecolor": "white"
           },
           "zaxis": {
            "backgroundcolor": "#E5ECF6",
            "gridcolor": "white",
            "gridwidth": 2,
            "linecolor": "white",
            "showbackground": true,
            "ticks": "",
            "zerolinecolor": "white"
           }
          },
          "shapedefaults": {
           "line": {
            "color": "#2a3f5f"
           }
          },
          "ternary": {
           "aaxis": {
            "gridcolor": "white",
            "linecolor": "white",
            "ticks": ""
           },
           "baxis": {
            "gridcolor": "white",
            "linecolor": "white",
            "ticks": ""
           },
           "bgcolor": "#E5ECF6",
           "caxis": {
            "gridcolor": "white",
            "linecolor": "white",
            "ticks": ""
           }
          },
          "title": {
           "x": 0.05
          },
          "xaxis": {
           "automargin": true,
           "gridcolor": "white",
           "linecolor": "white",
           "ticks": "",
           "title": {
            "standoff": 15
           },
           "zerolinecolor": "white",
           "zerolinewidth": 2
          },
          "yaxis": {
           "automargin": true,
           "gridcolor": "white",
           "linecolor": "white",
           "ticks": "",
           "title": {
            "standoff": 15
           },
           "zerolinecolor": "white",
           "zerolinewidth": 2
          }
         }
        },
        "xaxis": {
         "anchor": "y",
         "categoryarray": [
          "WKB",
          "WKB: GZIP"
         ],
         "categoryorder": "array",
         "domain": [
          0,
          1
         ],
         "tickfont": {
          "size": 16
         },
         "title": {
          "text": "Algorithm"
         }
        },
        "yaxis": {
         "anchor": "x",
         "domain": [
          0,
          1
         ],
         "showticklabels": true,
         "tickfont": {
          "size": 20
         },
         "title": {
          "text": "Compression Factor"
         }
        }
       }
      }
     },
     "metadata": {},
     "output_type": "display_data"
    }
   ],
   "source": [
    "\n",
    "df2= df_avg.groupby(\"Algorithm\")['Total Comp Factor', \"Wkb Size\"].mean()\n",
    "df2.reset_index(inplace=True)\n",
    "import plotly.express as px\n",
    "df2 = df2[~df2['Algorithm'].isin([\"WKB: BZIP2\", \"FPDE: Arbitrary Precision\"])]\n",
    "df2 = df2.rename(columns={\"Total Comp Factor\": \"Compression Factor\"})\n",
    "display(df2)\n",
    "fig = px.bar(df2,  x=\"Algorithm\", y=\"Compression Factor\", text_auto=\".1f\", category_orders={\"Algorithm\":[\"WKB\", \"WKB: GZIP\"]})\n",
    "fig.update_annotations(font=dict(size=16))\n",
    "fig.update_yaxes(matches=None, showticklabels=True,  tickfont=dict(size=16))\n",
    "fig.update_xaxes(tickfont=dict(size=16))\n",
    "fig.update_traces(textfont=dict(size=16))\n",
    "fig.update_yaxes(matches=None, showticklabels=True,  tickfont=dict(size=20))\n",
    "fig.update_layout(\n",
    "font = dict(size=18))\n",
    "fig.show()\n"
   ]
  }
 ],
 "metadata": {
  "kernelspec": {
   "display_name": "base",
   "language": "python",
   "name": "python3"
  },
  "language_info": {
   "codemirror_mode": {
    "name": "ipython",
    "version": 3
   },
   "file_extension": ".py",
   "mimetype": "text/x-python",
   "name": "python",
   "nbconvert_exporter": "python",
   "pygments_lexer": "ipython3",
   "version": "3.9.13"
  },
  "orig_nbformat": 4
 },
 "nbformat": 4,
 "nbformat_minor": 2
}
