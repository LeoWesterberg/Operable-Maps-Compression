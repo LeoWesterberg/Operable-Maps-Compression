{
 "cells": [
  {
   "cell_type": "code",
   "execution_count": 2,
   "metadata": {},
   "outputs": [],
   "source": [
    "import numpy as np\n",
    "import shapely\n",
    "import bisect\n",
    "import shapely.wkt\n",
    "import matplotlib.pyplot as plt\n",
    "import math\n",
    "import geopandas as gpd\n",
    "import json\n",
    "from bench_utils import parse_intersection_data "
   ]
  },
  {
   "cell_type": "code",
   "execution_count": 3,
   "metadata": {},
   "outputs": [],
   "source": [
    "# Geometries\n",
    "manual_data, _ = parse_intersection_data(\"manual\")\n",
    "world_data, world_data_stats = parse_intersection_data(\"world.json\")\n",
    "lund_data, lund_data_stats = parse_intersection_data(\"lund.json\")"
   ]
  },
  {
   "cell_type": "code",
   "execution_count": 4,
   "metadata": {},
   "outputs": [],
   "source": [
    "SHOW_COORDINATES = True\n",
    "SHOW_GEOMETRIES = True\n",
    "SHOW_INTERSECTING_POINTS = False\n",
    "SHOW_COMMON_BOUNDING_BOX = True\n",
    "SHOW_BOUNDING_BOXES = True"
   ]
  },
  {
   "cell_type": "code",
   "execution_count": 5,
   "metadata": {},
   "outputs": [],
   "source": [
    "import intersection.first_bin_search\n",
    "import intersection.chunk_bbox_intersection\n",
    "binary_intersection = intersection.first_bin_search.binary_intersection\n",
    "chunk_bbox_is_intersecting = intersection.chunk_bbox_intersection.is_intersecting\n",
    "\n",
    "from intersection.plotting import *\n",
    "\n",
    "from algos.alg_fpd_extended import FpdExtended\n",
    "fpd = FpdExtended()"
   ]
  },
  {
   "cell_type": "code",
   "execution_count": 6,
   "metadata": {},
   "outputs": [
    {
     "name": "stdout",
     "output_type": "stream",
     "text": [
      "Passed 100 of 100. Total in set: 15342\n",
      "Passed 200 of 200. Total in set: 15342\n",
      "Passed 300 of 300. Total in set: 15342\n",
      "Passed 400 of 400. Total in set: 15342\n"
     ]
    },
    {
     "ename": "KeyboardInterrupt",
     "evalue": "",
     "output_type": "error",
     "traceback": [
      "\u001b[0;31m---------------------------------------------------------------------------\u001b[0m",
      "\u001b[0;31mKeyboardInterrupt\u001b[0m                         Traceback (most recent call last)",
      "Cell \u001b[0;32mIn[6], line 42\u001b[0m\n\u001b[1;32m     39\u001b[0m     \u001b[39mreturn\u001b[39;00m total, passed\n\u001b[1;32m     41\u001b[0m total, passed \u001b[39m=\u001b[39m evaluate_dataset(manual_data, \u001b[39mFalse\u001b[39;00m, total, passed) \u001b[39m# Second param: PLOT?\u001b[39;00m\n\u001b[0;32m---> 42\u001b[0m total, passed \u001b[39m=\u001b[39m evaluate_dataset(world_data, \u001b[39mFalse\u001b[39;49;00m, total, passed)\n\u001b[1;32m     43\u001b[0m total, passed \u001b[39m=\u001b[39m evaluate_dataset(lund_data, \u001b[39mFalse\u001b[39;00m, total, passed)\n\u001b[1;32m     45\u001b[0m \u001b[39mprint\u001b[39m(\u001b[39mf\u001b[39m\u001b[39m'\u001b[39m\u001b[39mDone. Passed: \u001b[39m\u001b[39m{\u001b[39;00mpassed\u001b[39m}\u001b[39;00m\u001b[39m of \u001b[39m\u001b[39m{\u001b[39;00mtotal\u001b[39m}\u001b[39;00m\u001b[39m.\u001b[39m\u001b[39m'\u001b[39m)\n",
      "Cell \u001b[0;32mIn[6], line 7\u001b[0m, in \u001b[0;36mevaluate_dataset\u001b[0;34m(data, plot, total, passed)\u001b[0m\n\u001b[1;32m      3\u001b[0m \u001b[39mdef\u001b[39;00m \u001b[39mevaluate_dataset\u001b[39m(data, plot, total, passed):\n\u001b[1;32m      4\u001b[0m     \u001b[39mfor\u001b[39;00m g1, g2 \u001b[39min\u001b[39;00m data:\n\u001b[1;32m      5\u001b[0m         \u001b[39m#is_intersecting, intersect_points = binary_intersection(g1, g2)\u001b[39;00m\n\u001b[0;32m----> 7\u001b[0m         _, b1 \u001b[39m=\u001b[39m fpd\u001b[39m.\u001b[39;49mcompress(g1)\n\u001b[1;32m      8\u001b[0m         _, b2 \u001b[39m=\u001b[39m fpd\u001b[39m.\u001b[39mcompress(g2)\n\u001b[1;32m      9\u001b[0m         exp \u001b[39m=\u001b[39m shapely\u001b[39m.\u001b[39mintersects(g1, g2)\n",
      "File \u001b[0;32m~/LTH/Examensarbete/algos/fpd_extended_lib/compress.py:188\u001b[0m, in \u001b[0;36mcompress\u001b[0;34m(self, geometry)\u001b[0m\n\u001b[1;32m    186\u001b[0m s \u001b[39m=\u001b[39m time\u001b[39m.\u001b[39mperf_counter()\n\u001b[1;32m    187\u001b[0m optimal_size, _, _ \u001b[39m=\u001b[39m calculate_delta_size(geometry)\n\u001b[0;32m--> 188\u001b[0m \u001b[39mbin\u001b[39m \u001b[39m=\u001b[39m fp_delta_encoding(geometry, optimal_size)\n\u001b[1;32m    189\u001b[0m t \u001b[39m=\u001b[39m time\u001b[39m.\u001b[39mperf_counter()\n\u001b[1;32m    190\u001b[0m \u001b[39mreturn\u001b[39;00m t \u001b[39m-\u001b[39m s, \u001b[39mbin\u001b[39m\n",
      "File \u001b[0;32m~/LTH/Examensarbete/algos/fpd_extended_lib/compress.py:103\u001b[0m, in \u001b[0;36mfp_delta_encoding\u001b[0;34m(geometry, d_size)\u001b[0m\n\u001b[1;32m    100\u001b[0m \u001b[39mif\u001b[39;00m chk_deltas_idx \u001b[39m==\u001b[39m \u001b[39m0\u001b[39m \u001b[39mor\u001b[39;00m \u001b[39mnot\u001b[39;00m deltas_fit_in_bits(d_x_zig, d_y_zig, d_size) \u001b[39mor\u001b[39;00m rem_points_ring \u001b[39m==\u001b[39m \u001b[39m0\u001b[39m \u001b[39mor\u001b[39;00m chk_deltas \u001b[39m==\u001b[39m MAX_NUM_DELTAS:\n\u001b[1;32m    101\u001b[0m     \u001b[39m# If not 'first chunk' -> save previous chunk's size\u001b[39;00m\n\u001b[1;32m    102\u001b[0m     \u001b[39mif\u001b[39;00m chk_deltas_idx \u001b[39m!=\u001b[39m \u001b[39m0\u001b[39m:\n\u001b[0;32m--> 103\u001b[0m         bits[chk_deltas_idx:chk_deltas_idx \u001b[39m+\u001b[39m D_CNT_SIZE] \u001b[39m=\u001b[39m uint_to_ba(chk_deltas, D_CNT_SIZE)\n\u001b[1;32m    105\u001b[0m     \u001b[39m###### ---- INITIALIZE NEW CHUNK ----- ######\u001b[39;00m\n\u001b[1;32m    106\u001b[0m     chk_deltas \u001b[39m=\u001b[39m \u001b[39m0\u001b[39m\n",
      "File \u001b[0;32m~/LTH/Examensarbete/algos/fpd_extended_lib/low_level.py:105\u001b[0m, in \u001b[0;36muint_to_ba\u001b[0;34m(x, length)\u001b[0m\n\u001b[1;32m    101\u001b[0m     \u001b[39mreturn\u001b[39;00m util\u001b[39m.\u001b[39mzeros(length \u001b[39mor\u001b[39;00m \u001b[39m1\u001b[39m, \u001b[39m\"\u001b[39m\u001b[39mbig\u001b[39m\u001b[39m\"\u001b[39m)\n\u001b[1;32m    103\u001b[0m a \u001b[39m=\u001b[39m bitarray(\u001b[39m0\u001b[39m, \u001b[39m\"\u001b[39m\u001b[39mbig\u001b[39m\u001b[39m\"\u001b[39m)\n\u001b[0;32m--> 105\u001b[0m a\u001b[39m.\u001b[39mfrombytes(x\u001b[39m.\u001b[39;49mto_bytes(bits2bytes(x\u001b[39m.\u001b[39;49mbit_length()), byteorder\u001b[39m=\u001b[39;49m\u001b[39m\"\u001b[39;49m\u001b[39mbig\u001b[39;49m\u001b[39m\"\u001b[39;49m))\n\u001b[1;32m    106\u001b[0m la \u001b[39m=\u001b[39m \u001b[39mlen\u001b[39m(a)\n\u001b[1;32m    107\u001b[0m \u001b[39mif\u001b[39;00m la \u001b[39m==\u001b[39m length:\n",
      "\u001b[0;31mKeyboardInterrupt\u001b[0m: "
     ]
    }
   ],
   "source": [
    "total = 0\n",
    "passed = 0\n",
    "def evaluate_dataset(data, plot, total, passed):\n",
    "    for g1, g2 in data:\n",
    "        #is_intersecting, intersect_points = binary_intersection(g1, g2)\n",
    "\n",
    "        _, b1 = fpd.compress(g1)\n",
    "        _, b2 = fpd.compress(g2)\n",
    "        exp = shapely.intersects(g1, g2)\n",
    "        is_intersecting = chunk_bbox_is_intersecting((b1, b2), exp, plot)\n",
    "\n",
    "        if plot:\n",
    "            if False: # Plot chunks?\n",
    "                plot_chunks_bounds(b1, True, avoid_show=True)\n",
    "                plot_chunks_bounds(b2, True, avoid_create_frame=True)\n",
    "                \n",
    "            geoms = (g1, g2)\n",
    "            for g in geoms:\n",
    "                plot_geometry(g, SHOW_GEOMETRIES)\n",
    "                plot_geometry_bbox(g, SHOW_BOUNDING_BOXES)\n",
    "                plot_coordinates(g, SHOW_COORDINATES)\n",
    "            \n",
    "            plot_common_bbox(geoms, SHOW_COMMON_BOUNDING_BOX)\n",
    "            #plot_intersecting_points(intersect_points, legends, SHOW_INTERSECTING_POINTS)\n",
    "\n",
    "            if SHOW_COORDINATES or SHOW_GEOMETRIES or SHOW_INTERSECTING_POINTS or SHOW_COMMON_BOUNDING_BOX or SHOW_BOUNDING_BOXES:\n",
    "                plt.title(\"Intersection Plot: \" + ('True' if is_intersecting else 'False'))\n",
    "                plt.show()\n",
    "            if is_intersecting != exp:\n",
    "                print(\"Above FAILED!\")\n",
    "            else:\n",
    "                print(\"Passed!\")\n",
    "                \n",
    "        total += 1\n",
    "        if is_intersecting == exp:\n",
    "            passed += 1\n",
    "        if total % 100 == 0:\n",
    "            print(f\"Passed {passed} of {total}. Total in set: {len(data)}\")\n",
    "    return total, passed\n",
    "\n",
    "total, passed = evaluate_dataset(manual_data, False, total, passed) # Second param: PLOT?\n",
    "total, passed = evaluate_dataset(world_data, False, total, passed)\n",
    "total, passed = evaluate_dataset(lund_data, False, total, passed)\n",
    "\n",
    "print(f'Done. Passed: {passed} of {total}.')\n",
    "if passed != total:\n",
    "    raise(Exception(\"Failed intersection!\"))"
   ]
  }
 ],
 "metadata": {
  "kernelspec": {
   "display_name": "base",
   "language": "python",
   "name": "python3"
  },
  "language_info": {
   "codemirror_mode": {
    "name": "ipython",
    "version": 3
   },
   "file_extension": ".py",
   "mimetype": "text/x-python",
   "name": "python",
   "nbconvert_exporter": "python",
   "pygments_lexer": "ipython3",
   "version": "3.9.13"
  },
  "orig_nbformat": 4,
  "vscode": {
   "interpreter": {
    "hash": "40d3a090f54c6569ab1632332b64b2c03c39dcf918b08424e98f38b5ae0af88f"
   }
  }
 },
 "nbformat": 4,
 "nbformat_minor": 2
}
