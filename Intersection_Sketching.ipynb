{
 "cells": [
  {
   "cell_type": "code",
   "execution_count": 1,
   "metadata": {},
   "outputs": [],
   "source": [
    "import numpy as np\n",
    "import shapely\n",
    "import bisect\n",
    "import shapely.wkt\n",
    "import matplotlib.pyplot as plt\n",
    "import math\n",
    "import geopandas as gpd\n",
    "import json\n",
    "from bench_utils import parse_intersection_data "
   ]
  },
  {
   "cell_type": "code",
   "execution_count": 2,
   "metadata": {},
   "outputs": [],
   "source": [
    "# Geometries\n",
    "manual_data, _ = parse_intersection_data(\"manual\")\n",
    "#world_data, world_data_stats = parse_intersection_data(\"world.json\", 10, strip_precision=False)\n",
    "lund_data, lund_data_stats = parse_intersection_data(\"lund.json\", 1000)"
   ]
  },
  {
   "cell_type": "code",
   "execution_count": 3,
   "metadata": {},
   "outputs": [],
   "source": [
    "SHOW_COORDINATES = True\n",
    "SHOW_GEOMETRIES = True\n",
    "SHOW_INTERSECTING_POINTS = True\n",
    "SHOW_COMMON_BOUNDING_BOX = True\n",
    "SHOW_BOUNDING_BOXES = True"
   ]
  },
  {
   "cell_type": "code",
   "execution_count": 4,
   "metadata": {},
   "outputs": [],
   "source": [
    "import intersection.first_bin_search\n",
    "import intersection.chunk_bbox_intersection\n",
    "binary_intersection = intersection.first_bin_search.binary_intersection\n",
    "chunk_bbox_is_intersecting = intersection.chunk_bbox_intersection.is_intersecting\n",
    "chunk_bbox_intersection = intersection.chunk_bbox_intersection.intersection\n",
    "\n",
    "from intersection.plotting import *\n",
    "\n",
    "from algos.alg_fpd_extended import FpdExtended\n",
    "fpd = FpdExtended()"
   ]
  },
  {
   "cell_type": "code",
   "execution_count": 5,
   "metadata": {},
   "outputs": [
    {
     "ename": "TypeError",
     "evalue": "'NoneType' object is not subscriptable",
     "output_type": "error",
     "traceback": [
      "\u001b[0;31m---------------------------------------------------------------------------\u001b[0m",
      "\u001b[0;31mTypeError\u001b[0m                                 Traceback (most recent call last)",
      "\u001b[0;32m/var/folders/df/r2pgj1hn11l44vld19_cnq840000gn/T/ipykernel_48053/3570965757.py\u001b[0m in \u001b[0;36m<module>\u001b[0;34m\u001b[0m\n\u001b[1;32m     71\u001b[0m     \u001b[0;32mreturn\u001b[0m \u001b[0mtotal\u001b[0m\u001b[0;34m,\u001b[0m \u001b[0mpassed\u001b[0m\u001b[0;34m\u001b[0m\u001b[0;34m\u001b[0m\u001b[0m\n\u001b[1;32m     72\u001b[0m \u001b[0;34m\u001b[0m\u001b[0m\n\u001b[0;32m---> 73\u001b[0;31m \u001b[0mtotal\u001b[0m\u001b[0;34m,\u001b[0m \u001b[0mpassed\u001b[0m \u001b[0;34m=\u001b[0m \u001b[0mevaluate_dataset\u001b[0m\u001b[0;34m(\u001b[0m\u001b[0mmanual_data\u001b[0m\u001b[0;34m,\u001b[0m \u001b[0;32mFalse\u001b[0m\u001b[0;34m,\u001b[0m \u001b[0mtotal\u001b[0m\u001b[0;34m,\u001b[0m \u001b[0mpassed\u001b[0m\u001b[0;34m)\u001b[0m \u001b[0;31m# Second param: PLOT?\u001b[0m\u001b[0;34m\u001b[0m\u001b[0;34m\u001b[0m\u001b[0m\n\u001b[0m\u001b[1;32m     74\u001b[0m \u001b[0;31m#total, passed = evaluate_dataset(world_data, False, total, passed)\u001b[0m\u001b[0;34m\u001b[0m\u001b[0;34m\u001b[0m\u001b[0m\n\u001b[1;32m     75\u001b[0m \u001b[0mtotal\u001b[0m\u001b[0;34m,\u001b[0m \u001b[0mpassed\u001b[0m \u001b[0;34m=\u001b[0m \u001b[0mevaluate_dataset\u001b[0m\u001b[0;34m(\u001b[0m\u001b[0mlund_data\u001b[0m\u001b[0;34m,\u001b[0m \u001b[0;32mFalse\u001b[0m\u001b[0;34m,\u001b[0m \u001b[0mtotal\u001b[0m\u001b[0;34m,\u001b[0m \u001b[0mpassed\u001b[0m\u001b[0;34m)\u001b[0m\u001b[0;34m\u001b[0m\u001b[0;34m\u001b[0m\u001b[0m\n",
      "\u001b[0;32m/var/folders/df/r2pgj1hn11l44vld19_cnq840000gn/T/ipykernel_48053/3570965757.py\u001b[0m in \u001b[0;36mevaluate_dataset\u001b[0;34m(data, plot, total, passed)\u001b[0m\n\u001b[1;32m      5\u001b[0m         \u001b[0;31m#is_intersecting, intersect_points = binary_intersection(g1, g2)\u001b[0m\u001b[0;34m\u001b[0m\u001b[0;34m\u001b[0m\u001b[0m\n\u001b[1;32m      6\u001b[0m \u001b[0;34m\u001b[0m\u001b[0m\n\u001b[0;32m----> 7\u001b[0;31m         \u001b[0m_\u001b[0m\u001b[0;34m,\u001b[0m \u001b[0mb1\u001b[0m \u001b[0;34m=\u001b[0m \u001b[0mfpd\u001b[0m\u001b[0;34m.\u001b[0m\u001b[0mcompress\u001b[0m\u001b[0;34m(\u001b[0m\u001b[0mg1\u001b[0m\u001b[0;34m)\u001b[0m\u001b[0;34m\u001b[0m\u001b[0;34m\u001b[0m\u001b[0m\n\u001b[0m\u001b[1;32m      8\u001b[0m         \u001b[0m_\u001b[0m\u001b[0;34m,\u001b[0m \u001b[0mb2\u001b[0m \u001b[0;34m=\u001b[0m \u001b[0mfpd\u001b[0m\u001b[0;34m.\u001b[0m\u001b[0mcompress\u001b[0m\u001b[0;34m(\u001b[0m\u001b[0mg2\u001b[0m\u001b[0;34m)\u001b[0m\u001b[0;34m\u001b[0m\u001b[0;34m\u001b[0m\u001b[0m\n\u001b[1;32m      9\u001b[0m         \u001b[0mexp_boolean\u001b[0m \u001b[0;34m=\u001b[0m \u001b[0mshapely\u001b[0m\u001b[0;34m.\u001b[0m\u001b[0mintersects\u001b[0m\u001b[0;34m(\u001b[0m\u001b[0mg1\u001b[0m\u001b[0;34m,\u001b[0m \u001b[0mg2\u001b[0m\u001b[0;34m)\u001b[0m\u001b[0;34m\u001b[0m\u001b[0;34m\u001b[0m\u001b[0m\n",
      "\u001b[0;32m~/Desktop/Examensarbete/algos/fpd_extended_lib/compress.py\u001b[0m in \u001b[0;36mcompress\u001b[0;34m(self, geometry)\u001b[0m\n\u001b[1;32m    209\u001b[0m     \u001b[0ms\u001b[0m \u001b[0;34m=\u001b[0m \u001b[0mtime\u001b[0m\u001b[0;34m.\u001b[0m\u001b[0mperf_counter\u001b[0m\u001b[0;34m(\u001b[0m\u001b[0;34m)\u001b[0m\u001b[0;34m\u001b[0m\u001b[0;34m\u001b[0m\u001b[0m\n\u001b[1;32m    210\u001b[0m     \u001b[0moptimal_size\u001b[0m\u001b[0;34m,\u001b[0m \u001b[0m_\u001b[0m\u001b[0;34m,\u001b[0m \u001b[0mdeltas\u001b[0m \u001b[0;34m=\u001b[0m \u001b[0mcalculate_delta_size\u001b[0m\u001b[0;34m(\u001b[0m\u001b[0mgeometry\u001b[0m\u001b[0;34m,\u001b[0m \u001b[0;32mTrue\u001b[0m\u001b[0;34m)\u001b[0m\u001b[0;34m\u001b[0m\u001b[0;34m\u001b[0m\u001b[0m\n\u001b[0;32m--> 211\u001b[0;31m     \u001b[0mbin\u001b[0m \u001b[0;34m=\u001b[0m \u001b[0mfp_delta_encoding\u001b[0m\u001b[0;34m(\u001b[0m\u001b[0mgeometry\u001b[0m\u001b[0;34m,\u001b[0m \u001b[0moptimal_size\u001b[0m\u001b[0;34m,\u001b[0m \u001b[0mdeltas\u001b[0m\u001b[0;34m[\u001b[0m\u001b[0;36m1\u001b[0m\u001b[0;34m]\u001b[0m\u001b[0;34m)\u001b[0m\u001b[0;34m\u001b[0m\u001b[0;34m\u001b[0m\u001b[0m\n\u001b[0m\u001b[1;32m    212\u001b[0m     \u001b[0mt\u001b[0m \u001b[0;34m=\u001b[0m \u001b[0mtime\u001b[0m\u001b[0;34m.\u001b[0m\u001b[0mperf_counter\u001b[0m\u001b[0;34m(\u001b[0m\u001b[0;34m)\u001b[0m\u001b[0;34m\u001b[0m\u001b[0;34m\u001b[0m\u001b[0m\n\u001b[1;32m    213\u001b[0m     \u001b[0;32mreturn\u001b[0m \u001b[0mt\u001b[0m \u001b[0;34m-\u001b[0m \u001b[0ms\u001b[0m\u001b[0;34m,\u001b[0m \u001b[0mbin\u001b[0m\u001b[0;34m\u001b[0m\u001b[0;34m\u001b[0m\u001b[0m\n",
      "\u001b[0;32m~/Desktop/Examensarbete/algos/fpd_extended_lib/compress.py\u001b[0m in \u001b[0;36mfp_delta_encoding\u001b[0;34m(geometry, d_size, deltas)\u001b[0m\n\u001b[1;32m    151\u001b[0m         \u001b[0;32melse\u001b[0m\u001b[0;34m:\u001b[0m\u001b[0;34m\u001b[0m\u001b[0;34m\u001b[0m\u001b[0m\n\u001b[1;32m    152\u001b[0m             \u001b[0;31m# Delta fits, append it\u001b[0m\u001b[0;34m\u001b[0m\u001b[0;34m\u001b[0m\u001b[0m\n\u001b[0;32m--> 153\u001b[0;31m             \u001b[0;34m(\u001b[0m\u001b[0mlen_x\u001b[0m\u001b[0;34m,\u001b[0m \u001b[0mlen_y\u001b[0m\u001b[0;34m)\u001b[0m \u001b[0;34m=\u001b[0m \u001b[0mappend_delta_pair\u001b[0m\u001b[0;34m(\u001b[0m\u001b[0mbits\u001b[0m\u001b[0;34m,\u001b[0m \u001b[0md_x_zig\u001b[0m\u001b[0;34m,\u001b[0m \u001b[0md_y_zig\u001b[0m\u001b[0;34m,\u001b[0m \u001b[0md_size\u001b[0m\u001b[0;34m)\u001b[0m\u001b[0;34m\u001b[0m\u001b[0;34m\u001b[0m\u001b[0m\n\u001b[0m\u001b[1;32m    154\u001b[0m             \u001b[0mchk_deltas\u001b[0m \u001b[0;34m+=\u001b[0m \u001b[0;36m1\u001b[0m\u001b[0;34m\u001b[0m\u001b[0;34m\u001b[0m\u001b[0m\n\u001b[1;32m    155\u001b[0m             \u001b[0mchk_deltas_bytes\u001b[0m \u001b[0;34m+=\u001b[0m \u001b[0mlen_x\u001b[0m \u001b[0;34m+\u001b[0m \u001b[0mlen_y\u001b[0m\u001b[0;34m\u001b[0m\u001b[0;34m\u001b[0m\u001b[0m\n",
      "\u001b[0;32m~/Desktop/Examensarbete/algos/fpd_extended_lib/compress.py\u001b[0m in \u001b[0;36mappend_delta_pair\u001b[0;34m(bits, d_x_zig, d_y_zig, d_size)\u001b[0m\n\u001b[1;32m     57\u001b[0m         \u001b[0my_bytes\u001b[0m \u001b[0;34m=\u001b[0m \u001b[0muint_to_ba\u001b[0m\u001b[0;34m(\u001b[0m\u001b[0md_y_zig\u001b[0m\u001b[0;34m,\u001b[0m \u001b[0md_size\u001b[0m\u001b[0;34m)\u001b[0m\u001b[0;34m\u001b[0m\u001b[0;34m\u001b[0m\u001b[0m\n\u001b[1;32m     58\u001b[0m         \u001b[0;32mif\u001b[0m \u001b[0mcfg\u001b[0m\u001b[0;34m.\u001b[0m\u001b[0mUSE_ENTROPY\u001b[0m\u001b[0;34m:\u001b[0m\u001b[0;34m\u001b[0m\u001b[0;34m\u001b[0m\u001b[0m\n\u001b[0;32m---> 59\u001b[0;31m             \u001b[0mx_bytes\u001b[0m\u001b[0;34m,\u001b[0m \u001b[0mlen_x\u001b[0m \u001b[0;34m=\u001b[0m \u001b[0mencode\u001b[0m\u001b[0;34m(\u001b[0m\u001b[0mx_bytes\u001b[0m\u001b[0;34m,\u001b[0m \u001b[0md_size\u001b[0m\u001b[0;34m)\u001b[0m\u001b[0;34m\u001b[0m\u001b[0;34m\u001b[0m\u001b[0m\n\u001b[0m\u001b[1;32m     60\u001b[0m             \u001b[0my_bytes\u001b[0m\u001b[0;34m,\u001b[0m \u001b[0mlen_y\u001b[0m \u001b[0;34m=\u001b[0m \u001b[0mencode\u001b[0m\u001b[0;34m(\u001b[0m\u001b[0my_bytes\u001b[0m\u001b[0;34m,\u001b[0m \u001b[0md_size\u001b[0m\u001b[0;34m)\u001b[0m\u001b[0;34m\u001b[0m\u001b[0;34m\u001b[0m\u001b[0m\n\u001b[1;32m     61\u001b[0m         \u001b[0mbits\u001b[0m\u001b[0;34m.\u001b[0m\u001b[0mextend\u001b[0m\u001b[0;34m(\u001b[0m\u001b[0mx_bytes\u001b[0m\u001b[0;34m)\u001b[0m\u001b[0;34m\u001b[0m\u001b[0;34m\u001b[0m\u001b[0m\n",
      "\u001b[0;32m~/Desktop/Examensarbete/algos/fpd_extended_lib/entropy_coder.py\u001b[0m in \u001b[0;36mencode\u001b[0;34m(msg, delta_len)\u001b[0m\n\u001b[1;32m     42\u001b[0m \u001b[0;32mdef\u001b[0m \u001b[0mencode\u001b[0m\u001b[0;34m(\u001b[0m\u001b[0mmsg\u001b[0m\u001b[0;34m,\u001b[0m \u001b[0mdelta_len\u001b[0m\u001b[0;34m)\u001b[0m\u001b[0;34m:\u001b[0m\u001b[0;34m\u001b[0m\u001b[0;34m\u001b[0m\u001b[0m\n\u001b[1;32m     43\u001b[0m     \u001b[0;32mif\u001b[0m \u001b[0mENTROPY_METHOD\u001b[0m \u001b[0;34m==\u001b[0m \u001b[0;34m\"Huffman\"\u001b[0m\u001b[0;34m:\u001b[0m\u001b[0;34m\u001b[0m\u001b[0;34m\u001b[0m\u001b[0m\n\u001b[0;32m---> 44\u001b[0;31m         \u001b[0;32mreturn\u001b[0m \u001b[0mhuffman_encode\u001b[0m\u001b[0;34m(\u001b[0m\u001b[0mmsg\u001b[0m\u001b[0;34m,\u001b[0m \u001b[0mdelta_len\u001b[0m\u001b[0;34m)\u001b[0m\u001b[0;34m\u001b[0m\u001b[0;34m\u001b[0m\u001b[0m\n\u001b[0m\u001b[1;32m     45\u001b[0m     \u001b[0;32melif\u001b[0m \u001b[0mENTROPY_METHOD\u001b[0m \u001b[0;34m==\u001b[0m \u001b[0;34m\"Golomb\"\u001b[0m\u001b[0;34m:\u001b[0m\u001b[0;34m\u001b[0m\u001b[0;34m\u001b[0m\u001b[0m\n\u001b[1;32m     46\u001b[0m         \u001b[0;32mreturn\u001b[0m \u001b[0mgolomb_encode\u001b[0m\u001b[0;34m(\u001b[0m\u001b[0mmsg\u001b[0m\u001b[0;34m)\u001b[0m\u001b[0;34m\u001b[0m\u001b[0;34m\u001b[0m\u001b[0m\n",
      "\u001b[0;32m~/Desktop/Examensarbete/algos/fpd_extended_lib/entropy_coder.py\u001b[0m in \u001b[0;36mhuffman_encode\u001b[0;34m(msg, delta_len)\u001b[0m\n\u001b[1;32m     66\u001b[0m \u001b[0;34m\u001b[0m\u001b[0m\n\u001b[1;32m     67\u001b[0m \u001b[0;32mdef\u001b[0m \u001b[0mhuffman_encode\u001b[0m\u001b[0;34m(\u001b[0m\u001b[0mmsg\u001b[0m\u001b[0;34m,\u001b[0m \u001b[0mdelta_len\u001b[0m\u001b[0;34m)\u001b[0m\u001b[0;34m:\u001b[0m\u001b[0;34m\u001b[0m\u001b[0;34m\u001b[0m\u001b[0m\n\u001b[0;32m---> 68\u001b[0;31m     \u001b[0mvalue\u001b[0m \u001b[0;34m=\u001b[0m \u001b[0mcfg\u001b[0m\u001b[0;34m.\u001b[0m\u001b[0mCODES\u001b[0m\u001b[0;34m[\u001b[0m\u001b[0mdelta_len\u001b[0m\u001b[0;34m]\u001b[0m\u001b[0;34m[\u001b[0m\u001b[0mmsg\u001b[0m\u001b[0;34m.\u001b[0m\u001b[0mto01\u001b[0m\u001b[0;34m(\u001b[0m\u001b[0;34m)\u001b[0m\u001b[0;34m]\u001b[0m\u001b[0;34m\u001b[0m\u001b[0;34m\u001b[0m\u001b[0m\n\u001b[0m\u001b[1;32m     69\u001b[0m     \u001b[0;32mreturn\u001b[0m \u001b[0mvalue\u001b[0m\u001b[0;34m,\u001b[0m \u001b[0mlen\u001b[0m\u001b[0;34m(\u001b[0m\u001b[0mvalue\u001b[0m\u001b[0;34m)\u001b[0m\u001b[0;34m\u001b[0m\u001b[0;34m\u001b[0m\u001b[0m\n\u001b[1;32m     70\u001b[0m \u001b[0;34m\u001b[0m\u001b[0m\n",
      "\u001b[0;31mTypeError\u001b[0m: 'NoneType' object is not subscriptable"
     ]
    }
   ],
   "source": [
    "total = 0\n",
    "passed = 0\n",
    "def evaluate_dataset(data, plot, total, passed):\n",
    "    for g1, g2 in data:\n",
    "        #is_intersecting, intersect_points = binary_intersection(g1, g2)\n",
    "\n",
    "        _, b1 = fpd.compress(g1)\n",
    "        _, b2 = fpd.compress(g2)\n",
    "        exp_boolean = shapely.intersects(g1, g2)\n",
    "        #is_intersecting = chunk_bbox_is_intersecting((b1, b2), exp_boolean, True)\n",
    "        is_intersecting = fpd.is_intersecting((b1, b2))[1]\n",
    "\n",
    "        exp_shape = shapely.intersection(g1, g2)\n",
    "        intersection = chunk_bbox_intersection((b1, b2), exp_boolean, True)\n",
    "\n",
    "        if plot and exp_boolean: # Now only plotting intersecting shapes\n",
    "            if False: # Plot chunks?\n",
    "                plot_chunks_bounds(b1, True, avoid_show=True)\n",
    "                plot_chunks_bounds(b2, True, avoid_create_frame=True)\n",
    "            create_canvas(zoom=4)\n",
    "            geoms = (g1, g2)\n",
    "            for g in geoms:\n",
    "                plot_geometry(g, SHOW_GEOMETRIES)\n",
    "                plot_geometry_bbox(g, SHOW_BOUNDING_BOXES)\n",
    "                plot_coordinates(g, SHOW_COORDINATES)\n",
    "            \n",
    "            plot_common_bbox(geoms, SHOW_COMMON_BOUNDING_BOX)\n",
    "            #plot_intersecting_points(intersect_points, legends, SHOW_INTERSECTING_POINTS)\n",
    "\n",
    "            if SHOW_COORDINATES or SHOW_GEOMETRIES or SHOW_INTERSECTING_POINTS or SHOW_COMMON_BOUNDING_BOX or SHOW_BOUNDING_BOXES:\n",
    "                plt.title(\"Intersection Plot: \" + ('True' if is_intersecting else 'False'))\n",
    "                plt.show()\n",
    "\n",
    "\n",
    "            PLOT_RESULTING_INTERSECTION = True\n",
    "            if is_intersecting and PLOT_RESULTING_INTERSECTION:\n",
    "                create_canvas(zoom=4)\n",
    "                for g in geoms:\n",
    "                    plot_geometry(g, SHOW_GEOMETRIES, alpha=0.1)\n",
    "                    \n",
    "                plot_geometry(intersection)\n",
    "                plot_coordinates(intersection)\n",
    "                plt.title(\"Intersecting Shape\")\n",
    "                plt.show()\n",
    "\n",
    "           \n",
    "        total += 1\n",
    "        if is_intersecting == exp_boolean and exp_shape.equals(intersection):\n",
    "            create_canvas()\n",
    "            plot_geometry(intersection)\n",
    "            plot_geometry(g1, solid=False)\n",
    "            plot_geometry(g2)\n",
    "            plot_coordinates(intersection)\n",
    "            plot_coordinates(g1)\n",
    "            plot_coordinates(g2)\n",
    "            plt.show()\n",
    "            print(\"Passed!\")\n",
    "            passed += 1\n",
    "        else:\n",
    "            print(\"Above FAILED!\")\n",
    "            print('Expected shape:', exp_shape)\n",
    "            print('Returned shape:', intersection)\n",
    "            create_canvas()\n",
    "            plot_geometry(intersection)\n",
    "            plot_geometry(g1, solid=False)\n",
    "            plot_geometry(g2)\n",
    "            plot_coordinates(intersection)\n",
    "            plot_coordinates(g1)\n",
    "            plot_coordinates(g2)\n",
    "            plt.show()\n",
    "        if total % 100 == 0:\n",
    "            print(f\"Passed {passed} of {total}. Total in set: {len(data)}\")\n",
    "    return total, passed\n",
    "\n",
    "total, passed = evaluate_dataset(manual_data, False, total, passed) # Second param: PLOT?\n",
    "#total, passed = evaluate_dataset(world_data, False, total, passed)\n",
    "total, passed = evaluate_dataset(lund_data, False, total, passed)\n",
    "\n",
    "print(f'Done. Passed: {passed} of {total}.')\n",
    "if passed != total:\n",
    "    raise(Exception(\"Failed intersection!\"))\n",
    "\n",
    "#POLYGON ((6.5 6.5, 8 5, 4 4, 6.5 6.5))"
   ]
  },
  {
   "cell_type": "code",
   "execution_count": null,
   "metadata": {},
   "outputs": [],
   "source": []
  }
 ],
 "metadata": {
  "kernelspec": {
   "display_name": "base",
   "language": "python",
   "name": "python3"
  },
  "language_info": {
   "codemirror_mode": {
    "name": "ipython",
    "version": 3
   },
   "file_extension": ".py",
   "mimetype": "text/x-python",
   "name": "python",
   "nbconvert_exporter": "python",
   "pygments_lexer": "ipython3",
   "version": "3.9.13"
  },
  "orig_nbformat": 4,
  "vscode": {
   "interpreter": {
    "hash": "40d3a090f54c6569ab1632332b64b2c03c39dcf918b08424e98f38b5ae0af88f"
   }
  }
 },
 "nbformat": 4,
 "nbformat_minor": 2
}
