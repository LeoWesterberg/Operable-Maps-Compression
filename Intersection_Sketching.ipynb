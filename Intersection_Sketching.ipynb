{
 "cells": [
  {
   "cell_type": "code",
   "execution_count": 1,
   "metadata": {},
   "outputs": [],
   "source": [
    "import numpy as np\n",
    "import shapely\n",
    "import bisect\n",
    "import shapely.wkt\n",
    "import matplotlib.pyplot as plt\n",
    "import math\n",
    "import geopandas as gpd\n",
    "import json\n",
    "from bench_utils import parse_intersection_data "
   ]
  },
  {
   "cell_type": "code",
   "execution_count": 2,
   "metadata": {},
   "outputs": [],
   "source": [
    "# Geometries\n",
    "manual_data, _ = parse_intersection_data(\"manual\")\n",
    "world_data, world_data_stats = parse_intersection_data(\"world.json\", 100, strip_precision=False)\n",
    "lund_data, lund_data_stats = parse_intersection_data(\"lund.json\", 10000)"
   ]
  },
  {
   "cell_type": "code",
   "execution_count": null,
   "metadata": {},
   "outputs": [],
   "source": [
    "SHOW_COORDINATES = True\n",
    "SHOW_GEOMETRIES = True\n",
    "SHOW_INTERSECTING_POINTS = True\n",
    "SHOW_COMMON_BOUNDING_BOX = True\n",
    "SHOW_BOUNDING_BOXES = True"
   ]
  },
  {
   "cell_type": "code",
   "execution_count": null,
   "metadata": {},
   "outputs": [],
   "source": [
    "import intersection.first_bin_search\n",
    "import intersection.chunk_bbox_intersection\n",
    "binary_intersection = intersection.first_bin_search.binary_intersection\n",
    "chunk_bbox_is_intersecting = intersection.chunk_bbox_intersection.is_intersecting\n",
    "chunk_bbox_intersection = intersection.chunk_bbox_intersection.intersection\n",
    "\n",
    "from intersection.plotting import *\n",
    "\n",
    "from algos.alg_fpd_extended import FpdExtended\n",
    "fpd = FpdExtended()"
   ]
  },
  {
   "cell_type": "code",
   "execution_count": null,
   "metadata": {},
   "outputs": [
    {
     "name": "stdout",
     "output_type": "stream",
     "text": [
      "Passed 68 of 100. Total in set: 100\n",
      "Done. Passed: 68 of 100.\n"
     ]
    },
    {
     "ename": "Exception",
     "evalue": "Failed intersection!",
     "output_type": "error",
     "traceback": [
      "\u001b[0;31m---------------------------------------------------------------------------\u001b[0m",
      "\u001b[0;31mException\u001b[0m                                 Traceback (most recent call last)",
      "\u001b[0;32m/var/folders/df/r2pgj1hn11l44vld19_cnq840000gn/T/ipykernel_13512/3732927583.py\u001b[0m in \u001b[0;36m<module>\u001b[0;34m\u001b[0m\n\u001b[1;32m     78\u001b[0m \u001b[0mprint\u001b[0m\u001b[0;34m(\u001b[0m\u001b[0;34mf'Done. Passed: {passed} of {total}.'\u001b[0m\u001b[0;34m)\u001b[0m\u001b[0;34m\u001b[0m\u001b[0;34m\u001b[0m\u001b[0m\n\u001b[1;32m     79\u001b[0m \u001b[0;32mif\u001b[0m \u001b[0mpassed\u001b[0m \u001b[0;34m!=\u001b[0m \u001b[0mtotal\u001b[0m\u001b[0;34m:\u001b[0m\u001b[0;34m\u001b[0m\u001b[0;34m\u001b[0m\u001b[0m\n\u001b[0;32m---> 80\u001b[0;31m     \u001b[0;32mraise\u001b[0m\u001b[0;34m(\u001b[0m\u001b[0mException\u001b[0m\u001b[0;34m(\u001b[0m\u001b[0;34m\"Failed intersection!\"\u001b[0m\u001b[0;34m)\u001b[0m\u001b[0;34m)\u001b[0m\u001b[0;34m\u001b[0m\u001b[0;34m\u001b[0m\u001b[0m\n\u001b[0m\u001b[1;32m     81\u001b[0m \u001b[0;34m\u001b[0m\u001b[0m\n\u001b[1;32m     82\u001b[0m \u001b[0;31m#POLYGON ((6.5 6.5, 8 5, 4 4, 6.5 6.5))\u001b[0m\u001b[0;34m\u001b[0m\u001b[0;34m\u001b[0m\u001b[0m\n",
      "\u001b[0;31mException\u001b[0m: Failed intersection!"
     ]
    }
   ],
   "source": [
    "total = 0\n",
    "passed = 0\n",
    "def evaluate_dataset(data, plot, total, passed):\n",
    "    for g1, g2 in data:\n",
    "        #is_intersecting, intersect_points = binary_intersection(g1, g2)\n",
    "\n",
    "        _, b1 = fpd.compress(g1)\n",
    "        _, b2 = fpd.compress(g2)\n",
    "        exp_boolean = shapely.intersects(g1, g2)\n",
    "        #is_intersecting = chunk_bbox_is_intersecting((b1, b2), exp_boolean, True)\n",
    "        is_intersecting = fpd.is_intersecting((b1, b2))[1]\n",
    "\n",
    "        exp_shape = shapely.intersection(g1, g2)\n",
    "        intersection = chunk_bbox_intersection((b1, b2), exp_boolean, True)\n",
    "\n",
    "        if plot and exp_boolean: # Now only plotting intersecting shapes\n",
    "            if False: # Plot chunks?\n",
    "                plot_chunks_bounds(b1, True, avoid_show=True)\n",
    "                plot_chunks_bounds(b2, True, avoid_create_frame=True)\n",
    "            create_canvas(zoom=4)\n",
    "            geoms = (g1, g2)\n",
    "            for g in geoms:\n",
    "                plot_geometry(g, SHOW_GEOMETRIES)\n",
    "                plot_geometry_bbox(g, SHOW_BOUNDING_BOXES)\n",
    "                plot_coordinates(g, SHOW_COORDINATES)\n",
    "            \n",
    "            plot_common_bbox(geoms, SHOW_COMMON_BOUNDING_BOX)\n",
    "            #plot_intersecting_points(intersect_points, legends, SHOW_INTERSECTING_POINTS)\n",
    "\n",
    "            if SHOW_COORDINATES or SHOW_GEOMETRIES or SHOW_INTERSECTING_POINTS or SHOW_COMMON_BOUNDING_BOX or SHOW_BOUNDING_BOXES:\n",
    "                plt.title(\"Intersection Plot: \" + ('True' if is_intersecting else 'False'))\n",
    "                plt.show()\n",
    "\n",
    "\n",
    "            PLOT_RESULTING_INTERSECTION = True\n",
    "            if is_intersecting and PLOT_RESULTING_INTERSECTION:\n",
    "                create_canvas(zoom=4)\n",
    "                for g in geoms:\n",
    "                    plot_geometry(g, SHOW_GEOMETRIES, alpha=0.1)\n",
    "                \n",
    "                plot_geometry(intersection)\n",
    "                plot_coordinates(intersection)\n",
    "                plt.title(\"Intersecting Shape\")\n",
    "                plt.show()\n",
    "\n",
    "           \n",
    "        total += 1\n",
    "        if is_intersecting == exp_boolean and exp_shape.equals(intersection):\n",
    "            passed += 1\n",
    "            # if not exp_shape.is_empty:\n",
    "            #     create_canvas()\n",
    "            #     plot_geometry(g1,alpha=0.2)\n",
    "            #     plot_geometry(g2,alpha=0.2)\n",
    "            #     #plot_geometry(exp_shape, solid=False)\n",
    "            #     plot_geometry(intersection)\n",
    "            #     plot_coordinates(intersection)\n",
    "            #     plt.show()\n",
    "            \n",
    "        # else:\n",
    "        #     print(\"Above FAILED!\")\n",
    "        #     print('Expected shape:', exp_shape)\n",
    "        #     print('Returned shape:', intersection)\n",
    "        #     create_canvas()\n",
    "        #     plot_geometry(g1,alpha=0.2)\n",
    "        #     plot_geometry(g2,alpha=0.2)\n",
    "        #     #plot_geometry(exp_shape, solid=False)\n",
    "        #     plot_geometry(intersection)\n",
    "        #     plot_coordinates(intersection)\n",
    "        #     plt.show()\n",
    "        if total % 100 == 0:\n",
    "            print(f\"Passed {passed} of {total}. Total in set: {len(data)}\")\n",
    "    return total, passed\n",
    "\n",
    "#total, passed = evaluate_dataset(manual_data, False, total, passed) # Second param: PLOT?\n",
    "#total, passed = evaluate_dataset(world_data, False, total, passed)\n",
    "total, passed = evaluate_dataset(lund_data, False, total, passed)\n",
    "\n",
    "print(f'Done. Passed: {passed} of {total}.')\n",
    "if passed != total:\n",
    "    raise(Exception(\"Failed intersection!\"))\n",
    "\n",
    "#POLYGON ((6.5 6.5, 8 5, 4 4, 6.5 6.5))"
   ]
  },
  {
   "cell_type": "code",
   "execution_count": null,
   "metadata": {},
   "outputs": [],
   "source": []
  }
 ],
 "metadata": {
  "kernelspec": {
   "display_name": "base",
   "language": "python",
   "name": "python3"
  },
  "language_info": {
   "codemirror_mode": {
    "name": "ipython",
    "version": 3
   },
   "file_extension": ".py",
   "mimetype": "text/x-python",
   "name": "python",
   "nbconvert_exporter": "python",
   "pygments_lexer": "ipython3",
   "version": "3.9.13"
  },
  "orig_nbformat": 4,
  "vscode": {
   "interpreter": {
    "hash": "40d3a090f54c6569ab1632332b64b2c03c39dcf918b08424e98f38b5ae0af88f"
   }
  }
 },
 "nbformat": 4,
 "nbformat_minor": 2
}
